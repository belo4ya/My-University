{
 "cells": [
  {
   "cell_type": "markdown",
   "id": "steady-intelligence",
   "metadata": {},
   "source": [
    "# Контрольная работа\n",
    "## Вариант 60\n",
    "### Выполнил: студент ПИ19-3 Ковалев А.И."
   ]
  },
  {
   "cell_type": "markdown",
   "id": "musical-level",
   "metadata": {},
   "source": [
    "## Задание 1"
   ]
  },
  {
   "cell_type": "code",
   "execution_count": 1,
   "id": "optical-sodium",
   "metadata": {},
   "outputs": [],
   "source": [
    "from functools import lru_cache\n",
    "import numpy as np\n",
    "\n",
    "\n",
    "def transition_probability(matrix, k):\n",
    "    \"\"\"Вероятность перехода из x в y за k шагов\"\"\"\n",
    "    return np.linalg.matrix_power(matrix, k)\n",
    "\n",
    "\n",
    "def state_probability(matrix, start, k):\n",
    "    \"\"\"Вероятность состояния за k шагов\"\"\"\n",
    "    return start.dot(np.linalg.matrix_power(matrix, k))\n",
    "\n",
    "\n",
    "def first_transition_probability(matrix, k):\n",
    "    \"\"\"Вероятность первого перехода за k шагов\"\"\"\n",
    "    prev = np.copy(matrix)\n",
    "    for _ in range(k - 1):\n",
    "        prev = matrix_power_with_skip(matrix, prev)\n",
    "\n",
    "    return prev\n",
    "\n",
    "\n",
    "def last_transition_probability(matrix, k):\n",
    "    \"\"\"Вероятность перехода не позднее чем за k шагов\"\"\"\n",
    "    prev, res = np.copy(matrix), np.copy(matrix)\n",
    "    for t in range(k - 1):\n",
    "        prev = matrix_power_with_skip(matrix, prev)\n",
    "        res += prev\n",
    "\n",
    "    return res\n",
    "\n",
    "\n",
    "def avg_steps(matrix):\n",
    "    \"\"\"Среднее количество шагов, необходимых для первого перехода\"\"\"\n",
    "    prev, res = np.copy(matrix), np.copy(matrix)\n",
    "    for t in range(993):\n",
    "        prev = matrix_power_with_skip(matrix, prev)\n",
    "        res += t * prev\n",
    "\n",
    "    return res\n",
    "\n",
    "\n",
    "def first_return_probability(matrix, k):\n",
    "    \"\"\"Вероятность первого возвращения на k-ом шаге\"\"\"\n",
    "    _matrix = np.copy(matrix)\n",
    "    p_jj = transition_probability\n",
    "\n",
    "    @lru_cache(maxsize=None)\n",
    "    def f_jj(_k):\n",
    "        return p_jj(_matrix, _k) - sum([f_jj(m) * p_jj(_matrix, _k - m) for m in range(1, _k)])\n",
    "\n",
    "    return np.diagonal(f_jj(k))\n",
    "\n",
    "\n",
    "def avg_time_return(matrix):\n",
    "    \"\"\"Среднее время возвращения\"\"\"\n",
    "    _matrix = np.copy(matrix)\n",
    "    p_jj = transition_probability\n",
    "    result = []\n",
    "\n",
    "    @lru_cache(maxsize=None)\n",
    "    def f_jj(_k):\n",
    "        res = p_jj(_matrix, _k) - sum([f_jj(m) * p_jj(_matrix, _k - m) for m in range(1, _k)])\n",
    "        result.append(_k * np.diagonal(res))\n",
    "        return res\n",
    "\n",
    "    f_jj(993)\n",
    "    return sum(result)\n",
    "\n",
    "\n",
    "def last_return_probability(matrix, k):\n",
    "    \"\"\"Вероятность возвращения не позднее чем за k шагов\"\"\"\n",
    "    _matrix = np.copy(matrix)\n",
    "    p_jj = transition_probability\n",
    "    result = []\n",
    "\n",
    "    @lru_cache(maxsize=None)\n",
    "    def f_jj(_k):\n",
    "        res = p_jj(_matrix, _k) - sum([f_jj(m) * p_jj(_matrix, _k - m) for m in range(1, _k)])\n",
    "        result.append(np.diagonal(res))\n",
    "        return res\n",
    "\n",
    "    f_jj(k)\n",
    "    return sum(result)\n",
    "\n",
    "\n",
    "def steady_state_probabilities(matrix):\n",
    "    \"\"\"Установившиеся вероятности\"\"\"\n",
    "    matrix_ = np.copy(matrix).transpose()\n",
    "    np.fill_diagonal(matrix_, np.diagonal(matrix_) - 1)\n",
    "    matrix_[-1, :] = 1\n",
    "\n",
    "    vec_b = np.zeros(len(matrix_))\n",
    "    vec_b[-1] = 1\n",
    "    return np.linalg.inv(matrix_).dot(vec_b)\n",
    "\n",
    "\n",
    "def matrix_power_with_skip(left, right):\n",
    "    range_ = range(len(left))\n",
    "    return np.array([[sum(left[i, m] * right[m, j] if m != j else 0 for m in range_) for j in range_] for i in range_])\n",
    "\n",
    "\n",
    "def validate(matrix):\n",
    "    assert matrix.shape == (13, 13), \"Размер матрицы должен быть (13, 13)\"\n",
    "    assert np.equal(np.sum(matrix, axis=1), np.matrix(np.ones(13))).all(), (\n",
    "        \"Сумма вероятностей в каждой строке должна равняться 1\"\n",
    "    )\n",
    "    assert (np.count_nonzero(transition_matrix, axis=1) ==\n",
    "            np.array([3, 3, 3, 3, 1, 2, 4, 5, 2, 2, 4, 3, 1]) + 1).all(), (\n",
    "        \"Количество исходящих вероятностей должно быть [3, 3, 3, 3, 1, 2, 4, 5, 2, 2, 4, 3, 1]\"\n",
    "    )\n",
    "\n",
    "\n",
    "def answer(res):\n",
    "    return f\"Ответ: {res}\\n\""
   ]
  },
  {
   "cell_type": "markdown",
   "id": "opposite-sunglasses",
   "metadata": {},
   "source": [
    "Система имеем 13 дискретных состояний. Изменение состояний происходит\n",
    "в дискретные моменты времени с заданной вероятность. Схема марковского\n",
    "процесса изображена на рисунке. Требуется определить:"
   ]
  },
  {
   "cell_type": "code",
   "execution_count": 2,
   "id": "green-cargo",
   "metadata": {},
   "outputs": [
    {
     "name": "stdout",
     "output_type": "stream",
     "text": [
      "Матрица переходов:\n",
      "[[0.09 0.56 0.   0.   0.34 0.01 0.   0.   0.   0.   0.   0.   0.  ]\n",
      " [0.47 0.3  0.   0.18 0.05 0.   0.   0.   0.   0.   0.   0.   0.  ]\n",
      " [0.   0.31 0.11 0.   0.33 0.25 0.   0.   0.   0.   0.   0.   0.  ]\n",
      " [0.24 0.2  0.   0.31 0.   0.   0.25 0.   0.   0.   0.   0.   0.  ]\n",
      " [0.   0.   0.   0.39 0.61 0.   0.   0.   0.   0.   0.   0.   0.  ]\n",
      " [0.   0.   0.23 0.   0.49 0.28 0.   0.   0.   0.   0.   0.   0.  ]\n",
      " [0.   0.   0.   0.34 0.24 0.   0.04 0.   0.   0.   0.35 0.03 0.  ]\n",
      " [0.   0.   0.   0.   0.26 0.   0.2  0.22 0.28 0.02 0.02 0.   0.  ]\n",
      " [0.   0.   0.   0.   0.   0.   0.   0.07 0.61 0.32 0.   0.   0.  ]\n",
      " [0.   0.   0.   0.   0.   0.   0.69 0.   0.24 0.07 0.   0.   0.  ]\n",
      " [0.   0.   0.   0.   0.   0.   0.3  0.   0.   0.31 0.03 0.13 0.23]\n",
      " [0.   0.   0.   0.   0.   0.   0.59 0.05 0.   0.   0.29 0.07 0.  ]\n",
      " [0.   0.   0.   0.   0.   0.   0.   0.   0.   0.87 0.   0.   0.13]] \n",
      "\n"
     ]
    }
   ],
   "source": [
    "transition_matrix = np.array([\n",
    "    [0.09, 0.56, 0, 0, 0.34, 0.01, 0, 0, 0, 0, 0, 0, 0],\n",
    "    [0.47, 0.3, 0, 0.18, 0.05, 0, 0, 0, 0, 0, 0, 0, 0],\n",
    "    [0, 0.31, 0.11, 0, 0.33, 0.25, 0, 0, 0, 0, 0, 0, 0],\n",
    "    [0.24, 0.2, 0, 0.31, 0, 0, 0.25, 0, 0, 0, 0, 0, 0],\n",
    "    [0, 0, 0, 0.39, 0.61, 0, 0, 0, 0, 0, 0, 0, 0],\n",
    "    [0, 0, 0.23, 0, 0.49, 0.28, 0, 0, 0, 0, 0, 0, 0],\n",
    "    [0, 0, 0, 0.34, 0.24, 0, 0.04, 0, 0, 0, 0.35, 0.03, 0],\n",
    "    [0, 0, 0, 0, 0.26, 0, 0.2, 0.22, 0.28, 0.02, 0.02, 0, 0],\n",
    "    [0, 0, 0, 0, 0, 0, 0, 0.07, 0.61, 0.32, 0, 0, 0],\n",
    "    [0, 0, 0, 0, 0, 0, 0.69, 0, 0.24, 0.07, 0, 0, 0],\n",
    "    [0, 0, 0, 0, 0, 0, 0.3, 0, 0, 0.31, 0.03, 0.13, 0.23],\n",
    "    [0, 0, 0, 0, 0, 0, 0.59, 0.05, 0, 0, 0.29, 0.07, 0],\n",
    "    [0, 0, 0, 0, 0, 0, 0, 0, 0, 0.87, 0, 0, 0.13]\n",
    "])\n",
    "validate(transition_matrix)\n",
    "\n",
    "print(\"Матрица переходов:\")\n",
    "print(transition_matrix, \"\\n\")"
   ]
  },
  {
   "cell_type": "code",
   "execution_count": 3,
   "id": "heavy-payday",
   "metadata": {},
   "outputs": [
    {
     "name": "stdout",
     "output_type": "stream",
     "text": [
      "1. вероятность того, что за 10 шагов система перейдет из состояния 10 в состояние 1:\n",
      "Ответ: 0.13106361683537357\n",
      "\n"
     ]
    }
   ],
   "source": [
    "k, i, j = 10, 10, 1\n",
    "transition = transition_probability(transition_matrix, k)\n",
    "print(f\"1. вероятность того, что за {k} шагов система перейдет из состояния {i} в состояние {j}:\")\n",
    "print(answer(transition[i - 1, j - 1]))"
   ]
  },
  {
   "cell_type": "code",
   "execution_count": 4,
   "id": "continuing-incident",
   "metadata": {},
   "outputs": [
    {
     "name": "stdout",
     "output_type": "stream",
     "text": [
      "2. вероятности состояний системы спустя 10 шагов, если в начальный момент вероятность состояний были следующими A=[0.   0.03 0.08 0.14 0.16 0.04 0.13 0.11 0.07 0.11 0.01 0.06 0.06]:\n",
      "Ответ: [0.14497862 0.17428118 0.00054258 0.21791259 0.21524969 0.00214426\n",
      " 0.10625754 0.00397231 0.03290224 0.03831057 0.04228991 0.00960522\n",
      " 0.01155329]\n",
      "\n"
     ]
    }
   ],
   "source": [
    "k = 10\n",
    "a_0 = np.array([0, 0.03, 0.08, 0.14, 0.16, 0.04, 0.13, 0.11, 0.07, 0.11, 0.01, 0.06, 0.06])\n",
    "state = state_probability(transition_matrix, a_0, k)\n",
    "print(f\"2. вероятности состояний системы спустя {k} шагов, если в начальный \"\n",
    "      f\"момент вероятность состояний были следующими A={a_0}:\")\n",
    "print(answer(state))"
   ]
  },
  {
   "cell_type": "code",
   "execution_count": 5,
   "id": "forbidden-medium",
   "metadata": {},
   "outputs": [
    {
     "name": "stdout",
     "output_type": "stream",
     "text": [
      "3. вероятность первого перехода за 9 шагов из состояния 11 в состояние 5:\n",
      "Ответ: 0.05280472542103962\n",
      "\n"
     ]
    }
   ],
   "source": [
    "k, i, j = 9, 11, 5\n",
    "first_transition = first_transition_probability(transition_matrix, k)\n",
    "print(f\"3. вероятность первого перехода за {k} шагов из состояния {i} в состояние {j}:\")\n",
    "print(answer(first_transition[i - 1, j - 1]))"
   ]
  },
  {
   "cell_type": "code",
   "execution_count": 6,
   "id": "falling-planet",
   "metadata": {},
   "outputs": [
    {
     "name": "stdout",
     "output_type": "stream",
     "text": [
      "4. вероятность перехода из состояния 6 в состояние 3 не позднее чем за 6 шагов:\n",
      "Ответ: 0.319602925188\n",
      "\n"
     ]
    }
   ],
   "source": [
    "k, i, j = 6, 6, 3\n",
    "last_transition = last_transition_probability(transition_matrix, k)\n",
    "print(f\"4. вероятность перехода из состояния {i} в состояние {j} не позднее чем за {k} шагов:\")\n",
    "print(answer(last_transition[i - 1, j - 1]))"
   ]
  },
  {
   "cell_type": "code",
   "execution_count": 7,
   "id": "sticky-extent",
   "metadata": {},
   "outputs": [
    {
     "name": "stdout",
     "output_type": "stream",
     "text": [
      "5. среднее количество шагов для перехода из состояния 7 в состояние 10:\n",
      "Ответ: 44.98666795391084\n",
      "\n"
     ]
    }
   ],
   "source": [
    "i, j = 7, 10\n",
    "avg_steps_number = avg_steps(transition_matrix)\n",
    "print(f\"5. среднее количество шагов для перехода из состояния {i} в состояние {j}:\")\n",
    "print(answer(avg_steps_number[i - 1, j - 1]))"
   ]
  },
  {
   "cell_type": "code",
   "execution_count": 8,
   "id": "moderate-armenia",
   "metadata": {},
   "outputs": [
    {
     "name": "stdout",
     "output_type": "stream",
     "text": [
      "6. вероятность первого возвращения в состояние 9 за 7 шагов:\n",
      "Ответ: 0.00344614899871995\n",
      "\n"
     ]
    }
   ],
   "source": [
    "k, i = 7, 9\n",
    "first_return = first_return_probability(transition_matrix, k)\n",
    "print(f\"6. вероятность первого возвращения в состояние {i} за {k} шагов:\")\n",
    "print(answer(first_return[i - 1]))"
   ]
  },
  {
   "cell_type": "code",
   "execution_count": 9,
   "id": "handmade-exchange",
   "metadata": {},
   "outputs": [
    {
     "name": "stdout",
     "output_type": "stream",
     "text": [
      "7. вероятность возвращения в состояние 12 не позднее чем за 8 шагов\n",
      "Ответ: 0.2111283959108131\n",
      "\n"
     ]
    }
   ],
   "source": [
    "k, i = 8, 12\n",
    "last_return = last_return_probability(transition_matrix, k)\n",
    "print(f\"7. вероятность возвращения в состояние {i} не позднее чем за {k} шагов\")\n",
    "print(answer(last_return[i - 1]))"
   ]
  },
  {
   "cell_type": "code",
   "execution_count": 10,
   "id": "disturbed-gazette",
   "metadata": {},
   "outputs": [
    {
     "name": "stdout",
     "output_type": "stream",
     "text": [
      "8. среднее время возвращения в состояние 7\n",
      "Ответ: 10.45705337814896\n",
      "\n"
     ]
    }
   ],
   "source": [
    "i = 7\n",
    "avg_time_to_return = avg_time_return(transition_matrix)\n",
    "print(f\"8. среднее время возвращения в состояние {i}\")\n",
    "print(answer(avg_time_to_return[i - 1]))"
   ]
  },
  {
   "cell_type": "code",
   "execution_count": 11,
   "id": "bottom-rescue",
   "metadata": {},
   "outputs": [
    {
     "name": "stdout",
     "output_type": "stream",
     "text": [
      "9. установившиеся вероятности:\n",
      "Ответ: [0.15736405 0.19021431 0.0006205  0.22416898 0.22544637 0.00240106\n",
      " 0.09562923 0.00222035 0.01884122 0.02802657 0.03702058 0.00825973\n",
      " 0.00978705]\n",
      "\n"
     ]
    }
   ],
   "source": [
    "steady_state = steady_state_probabilities(transition_matrix)\n",
    "print(\"9. установившиеся вероятности:\")\n",
    "print(answer(steady_state))"
   ]
  },
  {
   "cell_type": "markdown",
   "id": "static-luxury",
   "metadata": {},
   "source": [
    "## Задание 2"
   ]
  },
  {
   "cell_type": "code",
   "execution_count": 12,
   "id": "advance-roberts",
   "metadata": {},
   "outputs": [],
   "source": [
    "import numpy as np\n",
    "\n",
    "\n",
    "def steady_state_probability(matrix):\n",
    "    \"\"\"Установившиеся вероятности\"\"\"\n",
    "    size = len(matrix)\n",
    "    matrix_ = np.copy(matrix).transpose()\n",
    "    np.fill_diagonal(matrix_, [-sum(matrix_[:, i]) for i in range(size)])\n",
    "    matrix_[-1, :] = 1\n",
    "\n",
    "    vec_b = np.zeros(size)\n",
    "    vec_b[-1] = 1\n",
    "    return np.linalg.inv(matrix_).dot(vec_b)\n",
    "\n",
    "\n",
    "def failure_probability(s_state):\n",
    "    \"\"\"Вероятность отказа\"\"\"\n",
    "    return s_state[-1]\n",
    "\n",
    "\n",
    "def relative_and_absolute_service_intensity(s_state, la):\n",
    "    \"\"\"Относительная и абсолютная интенсивность обслуживания\"\"\"\n",
    "    relative = 1 - s_state[-1]\n",
    "    return relative, relative * la\n",
    "\n",
    "\n",
    "def average_queue_length(s_state, m, n):\n",
    "    \"\"\"Средняя длина очереди\"\"\"\n",
    "    return sum((i * s_state[m + i]) for i in range(1, n + 1))\n",
    "\n",
    "\n",
    "def average_queue_time(s_state, m, n, mu):\n",
    "    \"\"\"Среднее время в очереди\"\"\"\n",
    "    return sum(((i + 1) / (m * mu) * s_state[m + i]) for i in range(n))\n",
    "\n",
    "\n",
    "def average_number_busy_channels(s_state, m, n):\n",
    "    \"\"\"Среднее число занятых каналов\"\"\"\n",
    "    return (sum((i * s_state[i]) for i in range(1, m + 1)) +\n",
    "            sum((m * s_state[i]) for i in range(m + 1, m + n + 1)))\n",
    "\n",
    "\n",
    "def skip_queue_probability(s_state, m):\n",
    "    \"\"\"Вероятность не ждать в очереди\"\"\"\n",
    "    return sum(s_state[:m])\n",
    "\n",
    "\n",
    "def average_downtime(matrix):\n",
    "    \"\"\"Среднее время простоя системы массового обслуживания\"\"\"\n",
    "    return 1 / np.sum(matrix, axis=1)\n",
    "\n",
    "\n",
    "def init_matrix(n, m, la, mu):\n",
    "    size = n + m + 1\n",
    "    matrix = np.zeros((size, size))\n",
    "    np.fill_diagonal(matrix[:, 1:], la)\n",
    "    np.fill_diagonal(matrix[1:, :], [*[i * mu for i in range(1, m)], *[m * mu for _ in range(n + 1)]])\n",
    "    return matrix\n",
    "\n",
    "\n",
    "def validate(matrix):\n",
    "    size = n + m + 1\n",
    "    assert matrix.shape == (size, size), f\"Размер матрицы должен быть {size}\"\n",
    "\n",
    "\n",
    "def answer(*args):\n",
    "    res = \", \".join([str(i) for i in args])\n",
    "    return f\"Ответ: {res}\\n\""
   ]
  },
  {
   "cell_type": "markdown",
   "id": "bulgarian-witness",
   "metadata": {},
   "source": [
    "Задана система массового обслуживания со следующими характеристиками:\n",
    "- интенсивность поступления λ=32\n",
    "- каналов обслуживания m=5\n",
    "- интенсивность обслуживания μ=8\n",
    "- максимальный размер очереди n=17\n",
    "\n",
    "Изначально требований в системе нет."
   ]
  },
  {
   "cell_type": "markdown",
   "id": "systematic-estonia",
   "metadata": {},
   "source": [
    "<img src=\"resources/2_a.png\">"
   ]
  },
  {
   "cell_type": "code",
   "execution_count": 13,
   "id": "appointed-tours",
   "metadata": {},
   "outputs": [
    {
     "data": {
      "text/plain": [
       "array([[ 0., 32.,  0.,  0.,  0.,  0.,  0.,  0.,  0.,  0.,  0.,  0.,  0.,\n",
       "         0.,  0.,  0.,  0.,  0.,  0.,  0.,  0.,  0.,  0.],\n",
       "       [ 8.,  0., 32.,  0.,  0.,  0.,  0.,  0.,  0.,  0.,  0.,  0.,  0.,\n",
       "         0.,  0.,  0.,  0.,  0.,  0.,  0.,  0.,  0.,  0.],\n",
       "       [ 0., 16.,  0., 32.,  0.,  0.,  0.,  0.,  0.,  0.,  0.,  0.,  0.,\n",
       "         0.,  0.,  0.,  0.,  0.,  0.,  0.,  0.,  0.,  0.],\n",
       "       [ 0.,  0., 24.,  0., 32.,  0.,  0.,  0.,  0.,  0.,  0.,  0.,  0.,\n",
       "         0.,  0.,  0.,  0.,  0.,  0.,  0.,  0.,  0.,  0.],\n",
       "       [ 0.,  0.,  0., 32.,  0., 32.,  0.,  0.,  0.,  0.,  0.,  0.,  0.,\n",
       "         0.,  0.,  0.,  0.,  0.,  0.,  0.,  0.,  0.,  0.],\n",
       "       [ 0.,  0.,  0.,  0., 40.,  0., 32.,  0.,  0.,  0.,  0.,  0.,  0.,\n",
       "         0.,  0.,  0.,  0.,  0.,  0.,  0.,  0.,  0.,  0.],\n",
       "       [ 0.,  0.,  0.,  0.,  0., 40.,  0., 32.,  0.,  0.,  0.,  0.,  0.,\n",
       "         0.,  0.,  0.,  0.,  0.,  0.,  0.,  0.,  0.,  0.],\n",
       "       [ 0.,  0.,  0.,  0.,  0.,  0., 40.,  0., 32.,  0.,  0.,  0.,  0.,\n",
       "         0.,  0.,  0.,  0.,  0.,  0.,  0.,  0.,  0.,  0.],\n",
       "       [ 0.,  0.,  0.,  0.,  0.,  0.,  0., 40.,  0., 32.,  0.,  0.,  0.,\n",
       "         0.,  0.,  0.,  0.,  0.,  0.,  0.,  0.,  0.,  0.],\n",
       "       [ 0.,  0.,  0.,  0.,  0.,  0.,  0.,  0., 40.,  0., 32.,  0.,  0.,\n",
       "         0.,  0.,  0.,  0.,  0.,  0.,  0.,  0.,  0.,  0.],\n",
       "       [ 0.,  0.,  0.,  0.,  0.,  0.,  0.,  0.,  0., 40.,  0., 32.,  0.,\n",
       "         0.,  0.,  0.,  0.,  0.,  0.,  0.,  0.,  0.,  0.],\n",
       "       [ 0.,  0.,  0.,  0.,  0.,  0.,  0.,  0.,  0.,  0., 40.,  0., 32.,\n",
       "         0.,  0.,  0.,  0.,  0.,  0.,  0.,  0.,  0.,  0.],\n",
       "       [ 0.,  0.,  0.,  0.,  0.,  0.,  0.,  0.,  0.,  0.,  0., 40.,  0.,\n",
       "        32.,  0.,  0.,  0.,  0.,  0.,  0.,  0.,  0.,  0.],\n",
       "       [ 0.,  0.,  0.,  0.,  0.,  0.,  0.,  0.,  0.,  0.,  0.,  0., 40.,\n",
       "         0., 32.,  0.,  0.,  0.,  0.,  0.,  0.,  0.,  0.],\n",
       "       [ 0.,  0.,  0.,  0.,  0.,  0.,  0.,  0.,  0.,  0.,  0.,  0.,  0.,\n",
       "        40.,  0., 32.,  0.,  0.,  0.,  0.,  0.,  0.,  0.],\n",
       "       [ 0.,  0.,  0.,  0.,  0.,  0.,  0.,  0.,  0.,  0.,  0.,  0.,  0.,\n",
       "         0., 40.,  0., 32.,  0.,  0.,  0.,  0.,  0.,  0.],\n",
       "       [ 0.,  0.,  0.,  0.,  0.,  0.,  0.,  0.,  0.,  0.,  0.,  0.,  0.,\n",
       "         0.,  0., 40.,  0., 32.,  0.,  0.,  0.,  0.,  0.],\n",
       "       [ 0.,  0.,  0.,  0.,  0.,  0.,  0.,  0.,  0.,  0.,  0.,  0.,  0.,\n",
       "         0.,  0.,  0., 40.,  0., 32.,  0.,  0.,  0.,  0.],\n",
       "       [ 0.,  0.,  0.,  0.,  0.,  0.,  0.,  0.,  0.,  0.,  0.,  0.,  0.,\n",
       "         0.,  0.,  0.,  0., 40.,  0., 32.,  0.,  0.,  0.],\n",
       "       [ 0.,  0.,  0.,  0.,  0.,  0.,  0.,  0.,  0.,  0.,  0.,  0.,  0.,\n",
       "         0.,  0.,  0.,  0.,  0., 40.,  0., 32.,  0.,  0.],\n",
       "       [ 0.,  0.,  0.,  0.,  0.,  0.,  0.,  0.,  0.,  0.,  0.,  0.,  0.,\n",
       "         0.,  0.,  0.,  0.,  0.,  0., 40.,  0., 32.,  0.],\n",
       "       [ 0.,  0.,  0.,  0.,  0.,  0.,  0.,  0.,  0.,  0.,  0.,  0.,  0.,\n",
       "         0.,  0.,  0.,  0.,  0.,  0.,  0., 40.,  0., 32.],\n",
       "       [ 0.,  0.,  0.,  0.,  0.,  0.,  0.,  0.,  0.,  0.,  0.,  0.,  0.,\n",
       "         0.,  0.,  0.,  0.,  0.,  0.,  0.,  0., 40.,  0.]])"
      ]
     },
     "execution_count": 13,
     "metadata": {},
     "output_type": "execute_result"
    }
   ],
   "source": [
    "la = 32\n",
    "m = 5\n",
    "mu = 8\n",
    "n = 17\n",
    "initial_matrix = init_matrix(n, m, la, mu)\n",
    "validate(initial_matrix)\n",
    "initial_matrix"
   ]
  },
  {
   "cell_type": "code",
   "execution_count": 14,
   "id": "crucial-guinea",
   "metadata": {},
   "outputs": [
    {
     "name": "stdout",
     "output_type": "stream",
     "text": [
      "a) Составьте граф марковского процесса, запишите систему уравнений Колмогорова и найдите установившиеся вероятности состояний:\n",
      "Ответ: [0.01311796 0.05247183 0.10494365 0.13992487 0.13992487 0.1119399\n",
      " 0.08955192 0.07164153 0.05731323 0.04585058 0.03668046 0.02934437\n",
      " 0.0234755  0.0187804  0.01502432 0.01201945 0.00961556 0.00769245\n",
      " 0.00615396 0.00492317 0.00393853 0.00315083 0.00252066]\n",
      "\n"
     ]
    }
   ],
   "source": [
    "steady_state = steady_state_probability(initial_matrix)\n",
    "print(\"a) Составьте граф марковского процесса, запишите систему уравнений Колмогорова и \"\n",
    "      \"найдите установившиеся вероятности состояний:\")\n",
    "print(answer(steady_state))"
   ]
  },
  {
   "cell_type": "code",
   "execution_count": 15,
   "id": "dutch-influence",
   "metadata": {},
   "outputs": [
    {
     "name": "stdout",
     "output_type": "stream",
     "text": [
      "b) Найдите вероятность отказа в обслуживании:\n",
      "Ответ: 0.0025206623548613455\n",
      "\n"
     ]
    }
   ],
   "source": [
    "fail_probability = failure_probability(steady_state)\n",
    "print(\"b) Найдите вероятность отказа в обслуживании:\")\n",
    "print(answer(fail_probability))"
   ]
  },
  {
   "cell_type": "code",
   "execution_count": 16,
   "id": "downtown-conjunction",
   "metadata": {},
   "outputs": [
    {
     "name": "stdout",
     "output_type": "stream",
     "text": [
      "c) Найдите относительную и абсолютную интенсивность обслуживания:\n",
      "Ответ: 0.9974793376451386, 31.919338804644436\n",
      "\n"
     ]
    }
   ],
   "source": [
    "relative, absolute = relative_and_absolute_service_intensity(steady_state, la)\n",
    "print(\"c) Найдите относительную и абсолютную интенсивность обслуживания:\")\n",
    "print(answer(relative, absolute))"
   ]
  },
  {
   "cell_type": "code",
   "execution_count": 17,
   "id": "adaptive-appeal",
   "metadata": {},
   "outputs": [
    {
     "name": "stdout",
     "output_type": "stream",
     "text": [
      "d) Найдите среднюю длину в очереди:\n",
      "Ответ: 2.016979619710541\n",
      "\n"
     ]
    }
   ],
   "source": [
    "avg_queue_len = average_queue_length(steady_state, m, n)\n",
    "print(\"d) Найдите среднюю длину в очереди:\")\n",
    "print(answer(avg_queue_len))"
   ]
  },
  {
   "cell_type": "code",
   "execution_count": 18,
   "id": "municipal-disabled",
   "metadata": {},
   "outputs": [
    {
     "name": "stdout",
     "output_type": "stream",
     "text": [
      "e) Найдите среднее время в очереди:\n",
      "Ответ: 0.06303061311595441\n",
      "\n"
     ]
    }
   ],
   "source": [
    "avg_queue_time = average_queue_time(steady_state, m, n, mu)\n",
    "print(\"e) Найдите среднее время в очереди:\")\n",
    "print(answer(avg_queue_time))"
   ]
  },
  {
   "cell_type": "code",
   "execution_count": 19,
   "id": "periodic-order",
   "metadata": {},
   "outputs": [
    {
     "name": "stdout",
     "output_type": "stream",
     "text": [
      "f) Найдите среднее число занятых каналов:\n",
      "Ответ: 3.989917350580555\n",
      "\n"
     ]
    }
   ],
   "source": [
    "avg_number_channels = average_number_busy_channels(steady_state, m, n)\n",
    "print(\"f) Найдите среднее число занятых каналов:\")\n",
    "print(answer(avg_number_channels))"
   ]
  },
  {
   "cell_type": "code",
   "execution_count": 20,
   "id": "broad-yacht",
   "metadata": {},
   "outputs": [
    {
     "name": "stdout",
     "output_type": "stream",
     "text": [
      "g) Найдите вероятность того, что поступающая заявка не будет ждать в очереди:\n",
      "Ответ: 0.4503831726848609\n",
      "\n"
     ]
    }
   ],
   "source": [
    "skip_probability = skip_queue_probability(steady_state, m)\n",
    "print(\"g) Найдите вероятность того, что поступающая заявка не будет ждать в очереди:\")\n",
    "print(answer(skip_probability))"
   ]
  },
  {
   "cell_type": "code",
   "execution_count": 21,
   "id": "bearing-representative",
   "metadata": {},
   "outputs": [
    {
     "name": "stdout",
     "output_type": "stream",
     "text": [
      "h) Найти среднее время простоя системы массового обслуживания:\n",
      "Ответ: 0.03125\n",
      "\n"
     ]
    }
   ],
   "source": [
    "avg_downtime = average_downtime(initial_matrix)\n",
    "print(\"h) Найти среднее время простоя системы массового обслуживания:\")\n",
    "print(answer(avg_downtime[0]))"
   ]
  }
 ],
 "metadata": {
  "kernelspec": {
   "display_name": "Python 3",
   "language": "python",
   "name": "python3"
  },
  "language_info": {
   "codemirror_mode": {
    "name": "ipython",
    "version": 3
   },
   "file_extension": ".py",
   "mimetype": "text/x-python",
   "name": "python",
   "nbconvert_exporter": "python",
   "pygments_lexer": "ipython3",
   "version": "3.9.2"
  }
 },
 "nbformat": 4,
 "nbformat_minor": 5
}
