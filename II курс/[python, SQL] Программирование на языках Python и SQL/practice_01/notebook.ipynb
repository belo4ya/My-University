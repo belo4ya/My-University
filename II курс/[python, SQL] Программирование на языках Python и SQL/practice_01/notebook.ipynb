{
 "cells": [
  {
   "cell_type": "markdown",
   "id": "raised-wayne",
   "metadata": {},
   "source": [
    "# Контрольная работа №1\n",
    "---\n",
    "#### Выполнил: студент ПИ19-3 Ковалев А.И."
   ]
  },
  {
   "cell_type": "markdown",
   "id": "separated-notion",
   "metadata": {},
   "source": [
    "---\n",
    "# Тема БД: Часть Базы Данных киберспортивного форума\n",
    "---"
   ]
  },
  {
   "cell_type": "markdown",
   "id": "posted-miller",
   "metadata": {},
   "source": [
    "### Бизнес-правила"
   ]
  },
  {
   "cell_type": "markdown",
   "id": "responsible-objective",
   "metadata": {},
   "source": [
    "- Пройдя регистрацию на форуме, можно стать пользователем форума"
   ]
  },
  {
   "cell_type": "markdown",
   "id": "modern-giant",
   "metadata": {},
   "source": [
    "- Пользователю присваивается одна из ролей (Например: администратор, модератор, писатель, обычный пользователь)"
   ]
  },
  {
   "cell_type": "markdown",
   "id": "valid-shame",
   "metadata": {},
   "source": [
    "- Писатели могут создавать статьи на форуме"
   ]
  },
  {
   "cell_type": "markdown",
   "id": "configured-capitol",
   "metadata": {},
   "source": [
    "- Обычные пользователи могут оставлять комментарии"
   ]
  },
  {
   "cell_type": "markdown",
   "id": "abstract-catch",
   "metadata": {},
   "source": [
    "### Логическая модель БД"
   ]
  },
  {
   "attachments": {
    "logic_model.png": {
     "image/png": "[encoded data removed]"
    }
   },
   "cell_type": "markdown",
   "id": "becoming-express",
   "metadata": {},
   "source": [
    "![logic_model.png](attachment:logic_model.png)"
   ]
  },
  {
   "cell_type": "markdown",
   "id": "extreme-sapphire",
   "metadata": {},
   "source": [
    "## Реализация на Python"
   ]
  },
  {
   "cell_type": "markdown",
   "id": "basic-lounge",
   "metadata": {},
   "source": [
    "### Вспомогательный код"
   ]
  },
  {
   "cell_type": "code",
   "execution_count": 3,
   "id": "altered-stanley",
   "metadata": {},
   "outputs": [],
   "source": [
    "class SingletonMeta(type):\n",
    "    _instances = {}\n",
    "\n",
    "    def __call__(cls, *args, **kwargs):\n",
    "        if cls not in cls._instances:\n",
    "            instance = super().__call__(*args, **kwargs)\n",
    "            cls._instances[cls] = instance\n",
    "        return cls._instances[cls]\n"
   ]
  },
  {
   "cell_type": "markdown",
   "id": "familiar-landing",
   "metadata": {},
   "source": [
    "### Код моделей базы данных"
   ]
  },
  {
   "cell_type": "code",
   "execution_count": 9,
   "id": "mobile-actor",
   "metadata": {},
   "outputs": [],
   "source": [
    "from sqlalchemy.ext.declarative import as_declarative, declared_attr\n",
    "from sqlalchemy import Column, Integer, String, DateTime, ForeignKey, Text\n",
    "\n",
    "CASCADE = \"CASCADE\"  # может где-то есть эти константы\n",
    "\n",
    "\n",
    "@as_declarative()\n",
    "class Base(object):\n",
    "\n",
    "    @declared_attr\n",
    "    def __tablename__(cls):\n",
    "        return cls.__name__.lower() + \"s\"\n",
    "    id = Column(Integer, primary_key=True, autoincrement=True)\n",
    "\n",
    "\n",
    "class Article(Base):\n",
    "    \"\"\"Статья на форуме\"\"\"\n",
    "    title = Column(String(200), nullable=False, index=True)\n",
    "    content = Column(Text(15000), nullable=False)\n",
    "    date = Column(DateTime)\n",
    "    user_id = Column(Integer, ForeignKey(\"users.id\", ondelete=CASCADE))\n",
    "\n",
    "    def __repr__(self):\n",
    "        return f'<{self.__class__.__name__} (' \\\n",
    "               f'title={self.title}, ' \\\n",
    "               f'content={self.content}, ' \\\n",
    "               f'date={self.date}' \\\n",
    "               f')>'\n",
    "\n",
    "    __str__ = __repr__\n",
    "\n",
    "\n",
    "class ArticleComment(Base):\n",
    "    \"\"\"Комментарий к статье\"\"\"\n",
    "    text = Column(Text(2000), nullable=False)\n",
    "    date = Column(DateTime)\n",
    "    article_id = Column(Integer, ForeignKey(\"articles.id\", ondelete=CASCADE))\n",
    "    parent_id = Column(Integer, ForeignKey(\"articlecomments.id\", ondelete=CASCADE))\n",
    "    user_id = Column(Integer, ForeignKey(\"users.id\", ondelete=CASCADE))\n",
    "\n",
    "    def __repr__(self):\n",
    "        return f'<{self.__class__.__name__} (' \\\n",
    "               f'text={self.text}, ' \\\n",
    "               f'date={self.date}' \\\n",
    "               f')>'\n",
    "\n",
    "    __str__ = __repr__\n",
    "\n",
    "\n",
    "class User(Base):\n",
    "    \"\"\"Пользователь форума\"\"\"\n",
    "    username = Column(String(200), nullable=False)\n",
    "    password = Column(String(200), nullable=False)\n",
    "    email = Column(String(200), nullable=False)\n",
    "    role_id = Column(Integer, ForeignKey(\"roles.id\", ondelete=CASCADE))\n",
    "    country = Column(String(200), nullable=False)\n",
    "\n",
    "    def __repr__(self):\n",
    "        return f'<{self.__class__.__name__} (' \\\n",
    "               f'username={self.username}, ' \\\n",
    "               f'password={self.password}, ' \\\n",
    "               f'email={self.email}, ' \\\n",
    "               f'country={self.country}, ' \\\n",
    "               f'role_id={self.role_id}' \\\n",
    "               f')>'\n",
    "\n",
    "    __str__ = __repr__\n",
    "\n",
    "\n",
    "class Role(Base):\n",
    "    \"\"\"Роль пользователя\"\"\"\n",
    "    name = Column(String(60), nullable=False, unique=True)\n",
    "\n",
    "    def __repr__(self):\n",
    "        return f'<{self.__class__.__name__} (' \\\n",
    "               f'name={self.name}' \\\n",
    "               f')>'\n",
    "\n",
    "    __str__ = __repr__\n",
    "\n",
    "\n",
    "# if __name__ == '__main__':\n",
    "#     from database import DataBase\n",
    "#     db = DataBase()\n",
    "    # Base.metadata.create_all(db.engine)\n",
    "    # Base.metadata.drop_all(db.engine)\n"
   ]
  },
  {
   "cell_type": "markdown",
   "id": "adapted-daisy",
   "metadata": {},
   "source": [
    "### Клас для управления БД"
   ]
  },
  {
   "cell_type": "code",
   "execution_count": 10,
   "id": "assisted-chile",
   "metadata": {},
   "outputs": [],
   "source": [
    "from sqlalchemy import create_engine\n",
    "from sqlalchemy.orm.session import sessionmaker\n",
    "# from models import Base, Role, User\n",
    "# from utils import SingletonMeta\n",
    "import pprint\n",
    "\n",
    "DATABASE = \"sqlite\"\n",
    "DB_NAME = \"forum.db\"\n",
    "\n",
    "\n",
    "class DataBase(metaclass=SingletonMeta):\n",
    "\n",
    "    def __init__(self):\n",
    "        self.engine = create_engine(f\"{DATABASE}:///{DB_NAME}\")\n",
    "        self.session = sessionmaker(bind=self.engine)()\n",
    "\n",
    "    def _create_all_tables(self):\n",
    "        Base.metadata.create_all(self.engine)\n",
    "\n",
    "    def _remove_all_tables(self):\n",
    "        Base.metadata.drop_all(self.engine)\n",
    "\n",
    "    def init_base_roles(self):\n",
    "        super_user = Role(name=\"super\")\n",
    "        creator = Role(name=\"creator\")\n",
    "        default = Role(name=\"default\")\n",
    "        self.session.add(super_user)\n",
    "        self.session.add(creator)\n",
    "        self.session.add(default)\n",
    "        self.session.commit()\n",
    "\n",
    "    def create_user(self, username: str, password: str, email: str, country: str):\n",
    "        user = User(username=username, password=password, email=email, country=country)\n",
    "        self.session.add(user)\n",
    "        self.session.commit()\n",
    "\n",
    "    def show_all_users(self):\n",
    "        users = self.session.query(User).all()\n",
    "        pprint.pprint(users)\n",
    "\n",
    "    def show_all_roles(self):\n",
    "        roles = self.session.query(Role).all()\n",
    "        pprint.pprint(roles)\n"
   ]
  },
  {
   "cell_type": "markdown",
   "id": "korean-wisconsin",
   "metadata": {},
   "source": [
    "### Демонстрация (main.py)"
   ]
  },
  {
   "cell_type": "code",
   "execution_count": 11,
   "id": "circular-liquid",
   "metadata": {},
   "outputs": [
    {
     "name": "stdout",
     "output_type": "stream",
     "text": [
      "Пользователи:\n",
      "\n",
      "[<User (username=alex, password=123, email=alex@gmail.com, country=Russia, role_id=None)>,\n",
      " <User (username=tom, password=qwe, email=tom_qwe@gmail.com, country=USA, role_id=None)>,\n",
      " <User (username=admin, password=123, email=admin@gmail.com, country=Russia, role_id=1)>,\n",
      " <User (username=sergey, password=qwe, email=ssssss@gmail.com, country=Canada, role_id=2)>]\n",
      "\n",
      "Список доступных ролей:\n",
      "\n",
      "[<Role (name=super)>, <Role (name=creator)>, <Role (name=default)>]\n"
     ]
    }
   ],
   "source": [
    "# from database import DataBase\n",
    "\n",
    "\n",
    "db = DataBase()\n",
    "# db.init_base_roles()  # создали несколько базовых ролей\n",
    "# db.create_user(\"alex\", \"123\", \"alex@gmail.com\", \"Russia\")\n",
    "# db.create_user(\"tom\", \"qwe\", \"tom_qwe@gmail.com\", \"USA\")\n",
    "# db.create_user(\"admin\", \"123\", \"admin@gmail.com\", \"Russia\", role_id=1)\n",
    "# db.create_user(\"sergey\", \"qwe\", \"ssssss@gmail.com\", \"Canada\", role_id=2)\n",
    "print(\"Пользователи:\\n\")\n",
    "db.show_all_users()\n",
    "print(\"\\nСписок доступных ролей:\\n\")\n",
    "db.show_all_roles()\n"
   ]
  }
 ],
 "metadata": {
  "kernelspec": {
   "display_name": "Python 3",
   "language": "python",
   "name": "python3"
  },
  "language_info": {
   "codemirror_mode": {
    "name": "ipython",
    "version": 3
   },
   "file_extension": ".py",
   "mimetype": "text/x-python",
   "name": "python",
   "nbconvert_exporter": "python",
   "pygments_lexer": "ipython3",
   "version": "3.9.0"
  }
 },
 "nbformat": 4,
 "nbformat_minor": 5
}
