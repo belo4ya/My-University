{
 "cells": [
  {
   "cell_type": "markdown",
   "metadata": {},
   "source": [
    "# Работа на семинаре 29.05.2021"
   ]
  },
  {
   "cell_type": "markdown",
   "metadata": {},
   "source": [
    "## models.py"
   ]
  },
  {
   "cell_type": "code",
   "execution_count": 1,
   "metadata": {},
   "outputs": [],
   "source": [
    "from sqlalchemy import (\n",
    "    Column,\n",
    "    Integer,\n",
    "    String,\n",
    "    DateTime,\n",
    "    Float,\n",
    "    ForeignKey,\n",
    "    CheckConstraint\n",
    ")\n",
    "from sqlalchemy.ext.declarative import as_declarative, declared_attr\n",
    "\n",
    "__all__ = [\n",
    "    'Base',\n",
    "    'City',\n",
    "    'ExamMark',\n",
    "    'Lecturer',\n",
    "    'Student',\n",
    "    'Subject',\n",
    "    'SubjectLecturer',\n",
    "    'University'\n",
    "]\n",
    "\n",
    "CASCADE = \"CASCADE\"\n",
    "SHORT_VARCHAR = 80\n",
    "MIDDLE_VARCHAR = 255\n",
    "\n",
    "\n",
    "@as_declarative()\n",
    "class Base:\n",
    "    id = Column(Integer, primary_key=True, autoincrement=True)\n",
    "\n",
    "    @declared_attr\n",
    "    def __tablename__(self):\n",
    "        table_name = ''\n",
    "        ascii_upper = range(ord('A'), ord('Z') + 1)\n",
    "        for i, s in enumerate(self.__name__):\n",
    "            if ord(s) in ascii_upper and i != 0:\n",
    "                table_name += '_'\n",
    "            table_name += s.upper()\n",
    "\n",
    "        return table_name + 'S'\n",
    "\n",
    "    def __repr__(self):\n",
    "        field_strings = []\n",
    "        for attr in self.__repr_attrs__:\n",
    "            field_strings.append(f'{attr}={getattr(self, attr)}')\n",
    "\n",
    "        return f\"<{self.__class__.__name__} ({', '.join(field_strings)})>\"\n",
    "\n",
    "    __str__ = __repr__\n",
    "    __repr_attrs__ = ['id']\n",
    "\n",
    "\n",
    "class City(Base):\n",
    "    name = Column(String(SHORT_VARCHAR))\n",
    "\n",
    "    __tablename__ = \"CITIES\"\n",
    "    __repr_attrs__ = ['name']\n",
    "\n",
    "\n",
    "class ExamMark(Base):\n",
    "    mark = Column(Integer)\n",
    "    date = Column(DateTime)\n",
    "    student_id = Column(Integer, ForeignKey(\"STUDENTS.id\", ondelete=CASCADE))\n",
    "    subject_id = Column(Integer, ForeignKey(\"SUBJECTS.id\", ondelete=CASCADE))\n",
    "\n",
    "    __repr_attrs__ = ['mark', 'date', 'student_id', 'subject_id']\n",
    "\n",
    "\n",
    "class Lecturer(Base):\n",
    "    first_name = Column(String(SHORT_VARCHAR))\n",
    "    last_name = Column(String(SHORT_VARCHAR))\n",
    "    city = Column(String(SHORT_VARCHAR))\n",
    "    university_id = Column(Integer, ForeignKey(\"UNIVERSITIES.id\", ondelete=CASCADE))\n",
    "\n",
    "    __repr_attrs__ = ['first_name', 'last_name', 'city', 'university_id']\n",
    "\n",
    "\n",
    "class Student(Base):\n",
    "    first_name = Column(String(SHORT_VARCHAR))\n",
    "    last_name = Column(String(SHORT_VARCHAR))\n",
    "    stipend = Column(Float, CheckConstraint(\"stipend >= 0.00\", name=\"stipend_is_positive\"))\n",
    "    course = Column(Integer)\n",
    "    city = Column(String(SHORT_VARCHAR))\n",
    "    birthdate = Column(DateTime)\n",
    "    university_id = Column(Integer, ForeignKey(\"UNIVERSITIES.id\", ondelete=CASCADE))\n",
    "\n",
    "    __repr_attrs__ = ['first_name', 'last_name', 'stipend', 'course', 'city', 'birthdate', 'university_id']\n",
    "\n",
    "\n",
    "class SubjectLecturer(Base):\n",
    "    lecturer_id = Column(Integer, ForeignKey(\"LECTURERS.id\", ondelete=CASCADE))\n",
    "    subject_id = Column(Integer, ForeignKey(\"SUBJECTS.id\", ondelete=CASCADE))\n",
    "\n",
    "    __tablename__ = \"SUBJECTS_LECTURERS\"\n",
    "    __repr_attrs__ = ['lecturer_id', 'subject_id']\n",
    "\n",
    "\n",
    "class Subject(Base):\n",
    "    name = Column(String(SHORT_VARCHAR), index=True)\n",
    "    hour = Column(Integer, index=True)\n",
    "    semester = Column(Integer)\n",
    "\n",
    "    __repr_attrs__ = ['name', 'hour', 'semester']\n",
    "\n",
    "\n",
    "class University(Base):\n",
    "    name = Column(String(SHORT_VARCHAR))\n",
    "    rating = Column(Integer)\n",
    "    city = Column(String(SHORT_VARCHAR))\n",
    "\n",
    "    __tablename__ = \"UNIVERSITIES\"\n",
    "    __repr_attrs__ = ['name', 'rating', 'city']\n"
   ]
  },
  {
   "cell_type": "markdown",
   "metadata": {},
   "source": [
    "## database.py"
   ]
  },
  {
   "cell_type": "code",
   "execution_count": 9,
   "metadata": {},
   "outputs": [],
   "source": [
    "from sqlalchemy import create_engine\n",
    "from sqlalchemy.engine import Engine\n",
    "from sqlalchemy.orm.session import sessionmaker, Session\n",
    "from sqlalchemy.sql import Select\n",
    "\n",
    "\n",
    "class DataBase:\n",
    "    DATABASE = \"sqlite\"\n",
    "    DB_NAME = \"resources/students.db\"\n",
    "    engine: Engine = create_engine(f\"{DATABASE}:///{DB_NAME}\", echo=False)\n",
    "    session: Session = sessionmaker(bind=engine)()\n",
    "\n",
    "    @staticmethod\n",
    "    def fetch_all(statement: Select) -> list:\n",
    "        with DataBase.engine.connect() as connection:\n",
    "            return connection.execute(statement).all()\n",
    "\n",
    "    @staticmethod\n",
    "    def fetch_one(statement: Select):\n",
    "        with DataBase.engine.connect() as connection:\n",
    "            return connection.execute(statement).one()\n",
    "\n",
    "    @staticmethod\n",
    "    def fetch_scalar(statement: Select):\n",
    "        with DataBase.engine.connect() as connection:\n",
    "            return connection.execute(statement).scalar_one()\n",
    "\n",
    "    @staticmethod\n",
    "    def fetch_scalars(statement: Select):\n",
    "        with DataBase.engine.connect() as connection:\n",
    "            return connection.execute(statement).scalars().all()\n",
    "\n",
    "    \n",
    "# Base.metadata.create_all(DataBase.engine)\n"
   ]
  },
  {
   "cell_type": "markdown",
   "metadata": {},
   "source": [
    "## utils.py"
   ]
  },
  {
   "cell_type": "code",
   "execution_count": 10,
   "metadata": {},
   "outputs": [],
   "source": [
    "import re\n",
    "\n",
    "\n",
    "def task(n):\n",
    "    def wrapper(function):\n",
    "        def decorator(*args, **kwargs):\n",
    "            print(str(n) + \". \" + re.sub(r' +', ' ', function.__doc__.strip()) + \"\\n\")\n",
    "            result = function(*args, **kwargs)\n",
    "#             print('\\n\\n')\n",
    "            return result\n",
    "        return decorator\n",
    "    return wrapper"
   ]
  },
  {
   "cell_type": "markdown",
   "metadata": {},
   "source": [
    "## queries.py"
   ]
  },
  {
   "cell_type": "code",
   "execution_count": 11,
   "metadata": {},
   "outputs": [],
   "source": [
    "from datetime import datetime\n",
    "from pprint import pprint\n",
    "\n",
    "from sqlalchemy import cast, Integer\n",
    "from sqlalchemy.sql import select, Select, or_, func\n",
    "\n",
    "db = DataBase()"
   ]
  },
  {
   "cell_type": "code",
   "execution_count": 12,
   "metadata": {},
   "outputs": [
    {
     "name": "stdout",
     "output_type": "stream",
     "text": [
      "2. Напишите запрос, позволяющий получить из таблицы exam_marks\n",
      " значения столбца mark (экзаменационная оценка) для всех студентов,\n",
      " исключив из списка повторение одинаковых строк.\n",
      " Результат не должен содержать значений (None).\n",
      " Упорядочить результат по возрастанию значения оценки.\n",
      "\n",
      "[1, 2, 3, 4, 5]\n"
     ]
    }
   ],
   "source": [
    "@task(\"2\")\n",
    "def second():\n",
    "    \"\"\"\n",
    "    Напишите запрос, позволяющий получить из таблицы exam_marks\n",
    "    значения столбца mark (экзаменационная оценка) для всех студентов,\n",
    "    исключив из списка повторение одинаковых строк.\n",
    "    Результат не должен содержать значений (None).\n",
    "    Упорядочить результат по возрастанию значения оценки.\n",
    "    \"\"\"\n",
    "    stmt: Select = select(\n",
    "        ExamMark.mark\n",
    "    ).distinct().where(\n",
    "        ExamMark.mark.isnot(None)\n",
    "    ).order_by(\n",
    "        ExamMark.mark\n",
    "    )\n",
    "\n",
    "    pprint(db.fetch_scalars(stmt))\n",
    "\n",
    "    \n",
    "second()"
   ]
  },
  {
   "cell_type": "code",
   "execution_count": 13,
   "metadata": {},
   "outputs": [
    {
     "name": "stdout",
     "output_type": "stream",
     "text": [
      "3. Напишите запрос для получения списка студентов без определенного места жительства.\n",
      " Результат должен содержать идентификатор студента, фамилию, имя.\n",
      "\n",
      "[(63, 'Медведева', 'Ирина'), (64, 'Афанасьева', 'Оксана')]\n"
     ]
    }
   ],
   "source": [
    "@task(\"3\")\n",
    "def third():\n",
    "    \"\"\"\n",
    "    Напишите запрос для получения списка студентов без определенного места жительства.\n",
    "    Результат должен содержать идентификатор студента, фамилию, имя.\n",
    "    \"\"\"\n",
    "    stmt: Select = select(\n",
    "        Student.id, Student.last_name, Student.first_name\n",
    "    ).where(\n",
    "        Student.city.is_(None)\n",
    "    )\n",
    "\n",
    "    pprint(db.fetch_all(stmt))\n",
    "\n",
    "\n",
    "third() "
   ]
  },
  {
   "cell_type": "code",
   "execution_count": 14,
   "metadata": {},
   "outputs": [
    {
     "name": "stdout",
     "output_type": "stream",
     "text": [
      "4. Напишите запрос для получения списка студентов,\n",
      " проживающих в Воронеже и не получающих стипендию.\n",
      "\n",
      "[(265, 'Андрей', 'Павлов', 0.0, 3, 'Воронеж', datetime.datetime(1979, 11, 5, 0, 0), 10)]\n"
     ]
    }
   ],
   "source": [
    "@task(\"4\")\n",
    "def fourth():\n",
    "    \"\"\"\n",
    "    Напишите запрос для получения списка студентов,\n",
    "    проживающих в Воронеже и не получающих стипендию.\n",
    "    \"\"\"\n",
    "    stmt: Select = select(\n",
    "        Student\n",
    "    ).where(\n",
    "        Student.city == 'Воронеж',\n",
    "        or_(Student.stipend == 0, Student.stipend.is_(None))\n",
    "    )\n",
    "\n",
    "    pprint(db.fetch_all(stmt))\n",
    "    \n",
    "    \n",
    "fourth()"
   ]
  },
  {
   "cell_type": "code",
   "execution_count": 15,
   "metadata": {},
   "outputs": [
    {
     "name": "stdout",
     "output_type": "stream",
     "text": [
      "5. Напишите запрос для получения списка университетов,\n",
      " расположенных в Москве и имеющих рейтинг меньший, чем у НГУ.\n",
      " Значение рейтинга НГУ получите с помощью отдельного запроса или подзапроса.\n",
      "\n",
      "[(44, 'ФинУ', 330, 'Москва'), (49, 'МТУСИ', 295, 'Москва')]\n"
     ]
    }
   ],
   "source": [
    "@task(\"5\")\n",
    "def fifth():\n",
    "    \"\"\"\n",
    "    Напишите запрос для получения списка университетов,\n",
    "    расположенных в Москве и имеющих рейтинг меньший, чем у НГУ.\n",
    "    Значение рейтинга НГУ получите с помощью отдельного запроса или подзапроса.\n",
    "    \"\"\"\n",
    "    ngu_rating = db.fetch_scalar(select(\n",
    "        University.rating\n",
    "    ).where(\n",
    "        University.name == 'НГУ'\n",
    "    ))\n",
    "\n",
    "    stmt: Select = select(\n",
    "        University\n",
    "    ).where(\n",
    "        University.city == 'Москва',\n",
    "        University.rating < ngu_rating\n",
    "    )\n",
    "\n",
    "    pprint(db.fetch_all(stmt))\n",
    "    \n",
    "    \n",
    "fifth()"
   ]
  },
  {
   "cell_type": "code",
   "execution_count": 16,
   "metadata": {},
   "outputs": [
    {
     "name": "stdout",
     "output_type": "stream",
     "text": [
      "6. Напишите запрос, выполняющий вывод находящихся в таблице\n",
      " EXAM_MARKS номеров предметов обучения, экзамены по\n",
      " которым сдавались между 1 и 21 марта 2020 г.\n",
      "\n",
      "[(73, datetime.datetime(2020, 3, 20, 0, 0)),\n",
      " (12, datetime.datetime(2020, 3, 13, 0, 0)),\n",
      " (10, datetime.datetime(2020, 3, 21, 0, 0))]\n"
     ]
    }
   ],
   "source": [
    "@task(\"6\")\n",
    "def sixth():\n",
    "    \"\"\"\n",
    "    Напишите запрос, выполняющий вывод находящихся в таблице\n",
    "    EXAM_MARKS номеров предметов обучения, экзамены по\n",
    "    которым сдавались между 1 и 21 марта 2020 г.\n",
    "    \"\"\"\n",
    "    stmt: Select = select(\n",
    "        ExamMark.subject_id, ExamMark.date\n",
    "    ).where(\n",
    "        ExamMark.date.between(datetime(2020, 3, 1), datetime(2020, 3, 21))\n",
    "    )\n",
    "\n",
    "    pprint(db.fetch_all(stmt))\n",
    "    \n",
    "    \n",
    "sixth()"
   ]
  },
  {
   "cell_type": "code",
   "execution_count": 17,
   "metadata": {},
   "outputs": [
    {
     "name": "stdout",
     "output_type": "stream",
     "text": [
      "7. Напишите запрос, который выполняет вывод названий\n",
      " предметов обучения, начинающихся на букву 'И'.\n",
      "\n",
      "[('Информатика',), ('История',)]\n"
     ]
    }
   ],
   "source": [
    "@task(\"7\")\n",
    "def seventh():\n",
    "    \"\"\"\n",
    "    Напишите запрос, который выполняет вывод названий\n",
    "    предметов обучения, начинающихся на букву 'И'.\n",
    "    \"\"\"\n",
    "    stmt: Select = select(\n",
    "        Subject.name\n",
    "    ).where(\n",
    "        Subject.name.startswith('И')\n",
    "    )\n",
    "\n",
    "    pprint(db.fetch_all(stmt))\n",
    "    \n",
    "    \n",
    "seventh()"
   ]
  },
  {
   "cell_type": "code",
   "execution_count": 18,
   "metadata": {},
   "outputs": [
    {
     "name": "stdout",
     "output_type": "stream",
     "text": [
      "8. Напишите запрос, выбирающий сведения о студентах,\n",
      " у которых имена начинаются на букву 'И' или 'С'.\n",
      "\n",
      "[(1, 'Иван', 'Иванов', 150.0, 1, 'Орел', datetime.datetime(1982, 12, 3, 0, 0), 10),\n",
      " (59, 'Софья', 'Дементьева', 150.0, 1, 'Нерчинск', datetime.datetime(1996, 9, 25, 0, 0), 15),\n",
      " (61, 'Ия', 'Соколова', 100.0, 1, 'Колпашево', datetime.datetime(1995, 6, 25, 0, 0), 18),\n",
      " (63, 'Ирина', 'Медведева', 100.0, 1, None, datetime.datetime(2000, 8, 22, 0, 0), 15),\n",
      " (71, 'Синицин', 'Кондрат', 200.0, 4, 'Ишим', datetime.datetime(1995, 2, 23, 0, 0), 18),\n",
      " (77, 'Светлана', 'Мишина', 150.0, 2, 'Рыльск', datetime.datetime(1997, 5, 22, 0, 0), 18),\n",
      " (83, 'Ирина', 'Сорокина', 200.0, 3, 'Усмань', datetime.datetime(1993, 9, 28, 0, 0), 48),\n",
      " (88, 'Ирина', 'Жданова', 200.0, 3, 'Тверь', datetime.datetime(2002, 3, 2, 0, 0), 10),\n",
      " (91, 'Ираида', 'Блохина', 250.0, 3, 'Новый Уренгой', datetime.datetime(1997, 3, 23, 0, 0), 22),\n",
      " (92, 'Светлана', 'Мельникова', 250.0, 4, 'Кропоткин (Краснод.)', datetime.datetime(1998, 3, 24, 0, 0), 15),\n",
      " (100, 'Самуил', 'Никитин', 250.0, 4, 'Златоуст', datetime.datetime(1997, 7, 15, 0, 0), 47),\n",
      " (108, 'Икром', 'Назаров', 150.0, 4, 'Саянск', datetime.datetime(2001, 12, 15, 0, 0), 47),\n",
      " (112, 'Софон', 'Захаров', 150.0, 3, 'Мурманск', datetime.datetime(1994, 3, 19, 0, 0), 46),\n",
      " (115, 'Иннокентий', 'Колобов', 200.0, 3, 'Троицк (Челяб.)', datetime.datetime(1993, 7, 23, 0, 0), 22),\n",
      " (124, 'Савва', 'Юдин', 0.0, 2, 'Усинск', datetime.datetime(2001, 12, 2, 0, 0), 18),\n",
      " (135, 'Ипат', 'Комаров', 0.0, 1, 'Нерчинск', datetime.datetime(2000, 7, 17, 0, 0), 14),\n",
      " (147, 'Семен', 'Симонов', 100.0, 5, 'Беломорск', datetime.datetime(2000, 3, 17, 0, 0), 22)]\n"
     ]
    }
   ],
   "source": [
    "@task(\"8\")\n",
    "def eighth():\n",
    "    \"\"\"\n",
    "    Напишите запрос, выбирающий сведения о студентах,\n",
    "    у которых имена начинаются на букву 'И' или 'С'.\n",
    "    \"\"\"\n",
    "    stmt: Select = select(\n",
    "        Student\n",
    "    ).where(\n",
    "        or_(Student.first_name.startswith('И'), Student.first_name.startswith('С'))\n",
    "    )\n",
    "\n",
    "    pprint(db.fetch_all(stmt))\n",
    "    \n",
    "    \n",
    "eighth()"
   ]
  },
  {
   "cell_type": "code",
   "execution_count": 19,
   "metadata": {},
   "outputs": [
    {
     "name": "stdout",
     "output_type": "stream",
     "text": [
      "9. Напишите запрос для получения списка предметов обучения,\n",
      " названия которых состоят из более одного слова.\n",
      "\n",
      "[(12, 'Анализ данных', 42, 1)]\n"
     ]
    }
   ],
   "source": [
    "@task(\"9\")\n",
    "def ninth():\n",
    "    \"\"\"\n",
    "    Напишите запрос для получения списка предметов обучения,\n",
    "    названия которых состоят из более одного слова.\n",
    "    \"\"\"\n",
    "    stmt: Select = select(\n",
    "        Subject\n",
    "    ).where(\n",
    "        Subject.name.like('% %')\n",
    "    )\n",
    "\n",
    "    pprint(db.fetch_all(stmt))\n",
    "    \n",
    "    \n",
    "ninth()"
   ]
  },
  {
   "cell_type": "code",
   "execution_count": 20,
   "metadata": {},
   "outputs": [
    {
     "name": "stdout",
     "output_type": "stream",
     "text": [
      "10. Напишите запрос для получения списка студентов,\n",
      " фамилии которых состоят из трех букв.\n",
      "\n",
      "[(655, 'Бернар', 'Шоу', 120.0, 2, 'Ульяновск', datetime.datetime(1979, 8, 5, 0, 0), 44),\n",
      " (656, 'Джон', 'Доу', 120.0, 2, 'Ульяновск', datetime.datetime(1979, 8, 5, 0, 0), 44)]\n"
     ]
    }
   ],
   "source": [
    "@task(\"10\")\n",
    "def tenth():\n",
    "    \"\"\"\n",
    "    Напишите запрос для получения списка студентов,\n",
    "    фамилии которых состоят из трех букв.\n",
    "    \"\"\"\n",
    "    stmt: Select = select(\n",
    "        Student\n",
    "    ).where(\n",
    "        func.length(Student.last_name) == 3\n",
    "    )\n",
    "\n",
    "    pprint(db.fetch_all(stmt))\n",
    "    \n",
    "    \n",
    "tenth()"
   ]
  },
  {
   "cell_type": "code",
   "execution_count": 21,
   "metadata": {},
   "outputs": [
    {
     "name": "stdout",
     "output_type": "stream",
     "text": [
      "11. Составьте запрос для таблицы STUDENT таким образом,\n",
      " чтобы получить результат в следующем виде.\n",
      " Распечатайте первые 9 записей результата.\n",
      "\n",
      " И. Иванов 1982-12-03\n",
      " П. Петров 1980-12-01\n",
      " В. Сидоров 1979-06-07\n",
      "\n",
      "['И. Иванов   1982-12-03',\n",
      " 'П. Петров   1980-12-01',\n",
      " 'В. Сидоров   1979-06-07',\n",
      " 'Б. Кузнецов   1981-12-08',\n",
      " 'О. Зайцева   1981-05-01',\n",
      " 'П. Котов   2021-02-28',\n",
      " 'В. Белкин   1980-01-07',\n",
      " 'Е. Сергеева   1997-07-04',\n",
      " 'В. Кудряшова   2002-02-18']\n"
     ]
    }
   ],
   "source": [
    "@task(\"11\")\n",
    "def eleventh():\n",
    "    \"\"\"\n",
    "    Составьте запрос для таблицы STUDENT таким образом,\n",
    "    чтобы получить результат в следующем виде.\n",
    "    Распечатайте первые 9 записей результата.\n",
    "\n",
    "    И. Иванов   1982-12-03\n",
    "    П. Петров   1980-12-01\n",
    "    В. Сидоров  1979-06-07\n",
    "    \"\"\"\n",
    "    stmt: Select = select(\n",
    "        Student.first_name, Student.last_name, Student.birthdate\n",
    "    ).limit(9)\n",
    "\n",
    "    pprint([f\"{i[0][0]}. {i[1]}   {datetime.strftime(i[2], '%Y-%m-%d')}\" for i in db.fetch_all(stmt)])\n",
    "\n",
    "\n",
    "eleventh()"
   ]
  },
  {
   "cell_type": "code",
   "execution_count": 22,
   "metadata": {},
   "outputs": [
    {
     "name": "stdout",
     "output_type": "stream",
     "text": [
      "12. Напишите запрос для получения списка студентов,\n",
      " фамилии которых начинаются на ‘Ков’ или на ‘Куз’.\n",
      "\n",
      "[(10, 'Борис', 'Кузнецов', 0.0, 2, 'Брянск', datetime.datetime(1981, 12, 8, 0, 0), 10),\n",
      " (131, 'Ефим', 'Ковалев', 200.0, 2, 'Волгоград', datetime.datetime(1995, 11, 28, 0, 0), 47)]\n"
     ]
    }
   ],
   "source": [
    "@task(\"12\")\n",
    "def twelve():\n",
    "    \"\"\"\n",
    "    Напишите запрос для получения списка студентов,\n",
    "    фамилии которых начинаются на ‘Ков’ или на ‘Куз’.\n",
    "    \"\"\"\n",
    "    stmt: Select = select(\n",
    "        Student\n",
    "    ).where(\n",
    "        or_(Student.last_name.startswith('Ков'), Student.last_name.startswith('Куз'))\n",
    "    )\n",
    "\n",
    "    pprint(db.fetch_all(stmt))\n",
    "    \n",
    "    \n",
    "twelve()"
   ]
  },
  {
   "cell_type": "code",
   "execution_count": 23,
   "metadata": {},
   "outputs": [
    {
     "name": "stdout",
     "output_type": "stream",
     "text": [
      "13. Напишите запрос для получения списка предметов,\n",
      " названия которых оканчиваются на ‘ия’.\n",
      "\n",
      "[(56, 'История', 34, 4)]\n"
     ]
    }
   ],
   "source": [
    "@task(\"13\")\n",
    "def thirteenth():\n",
    "    \"\"\"\n",
    "    Напишите запрос для получения списка предметов,\n",
    "    названия которых оканчиваются на ‘ия’.\n",
    "    \"\"\"\n",
    "    stmt: Select = select(\n",
    "        Subject\n",
    "    ).where(\n",
    "        Subject.name.endswith('ия')\n",
    "    )\n",
    "\n",
    "    pprint(db.fetch_all(stmt))\n",
    "    \n",
    "\n",
    "thirteenth()"
   ]
  },
  {
   "cell_type": "code",
   "execution_count": 24,
   "metadata": {},
   "outputs": [
    {
     "name": "stdout",
     "output_type": "stream",
     "text": [
      "14. Составьте запрос, выводящий фамилии, имена студентов и величину получаемых ими стипендий,\n",
      " при этом значения стипендий должны быть увеличены в 100 раз.\n",
      " Распечатайте первые 10 результатов.\n",
      "\n",
      "[('Иванов', 'Иван', 15000.0),\n",
      " ('Петров', 'Петр', 20000.0),\n",
      " ('Сидоров', 'Вадим', 15000.0),\n",
      " ('Кузнецов', 'Борис', 0.0),\n",
      " ('Зайцева', 'Ольга', 25000.0),\n",
      " ('Котов', 'Павел', 15000.0),\n",
      " ('Белкин', 'Вадим', 25000.0),\n",
      " ('Сергеева', 'Елизавета', 15000.0),\n",
      " ('Кудряшова', 'Вера', 10000.0),\n",
      " ('Журавлева', 'Вера', 0.0)]\n"
     ]
    }
   ],
   "source": [
    "@task(\"14\")\n",
    "def fourteenth():\n",
    "    \"\"\"\n",
    "    Составьте запрос, выводящий фамилии, имена студентов и величину получаемых ими стипендий,\n",
    "    при этом значения стипендий должны быть увеличены в 100 раз.\n",
    "    Распечатайте первые 10 результатов.\n",
    "    \"\"\"\n",
    "    stmt: Select = select(\n",
    "        Student.last_name, Student.first_name, Student.stipend * 100\n",
    "    ).limit(10)\n",
    "\n",
    "    pprint(db.fetch_all(stmt))\n",
    "\n",
    "\n",
    "fourteenth()"
   ]
  },
  {
   "cell_type": "code",
   "execution_count": 25,
   "metadata": {},
   "outputs": [
    {
     "name": "stdout",
     "output_type": "stream",
     "text": [
      "15. Составьте запрос для таблицы UNIVERSITY таким образом, чтобы выходная таблица\n",
      " содержала всего один столбец в следующем виде: Код-10; ВГУ-г.ВОРОНЕЖ; Рейтинг=296.\n",
      "\n",
      "['Код-10; ВГУ-г.ВОРОНЕЖ; Рейтинг=296.',\n",
      " 'Код-11; НГУ-г.НОВОСИБИРСК; Рейтинг=345.',\n",
      " 'Код-14; БГУ-г.БЕЛГОРОД; Рейтинг=326.',\n",
      " 'Код-15; ТГУ-г.ТОМСК; Рейтинг=368.',\n",
      " 'Код-18; ВГМА-г.ВОРОНЕЖ; Рейтинг=327.',\n",
      " 'Код-22; МГУ-г.МОСКВА; Рейтинг=400.',\n",
      " 'Код-32; РГУ-г.РОСТОВ; Рейтинг=416.',\n",
      " 'Код-44; ФинУ-г.МОСКВА; Рейтинг=330.',\n",
      " 'Код-45; МГТУ-г.МОСКВА; Рейтинг=372.',\n",
      " 'Код-46; Политех-г.САНКТ-ПЕТЕРБУРГ; Рейтинг=300.',\n",
      " 'Код-47; КФУ-г.КАЗАНЬ; Рейтинг=330.',\n",
      " 'Код-48; УЛГУ-г.УЛЬЯНОВСК; Рейтинг=231.',\n",
      " 'Код-49; МТУСИ-г.МОСКВА; Рейтинг=295.']\n"
     ]
    }
   ],
   "source": [
    "@task(\"15\")\n",
    "def fifteenth():\n",
    "    \"\"\"\n",
    "    Составьте запрос для таблицы UNIVERSITY таким образом, чтобы выходная таблица\n",
    "    содержала всего один столбец в следующем виде: Код-10; ВГУ-г.ВОРОНЕЖ; Рейтинг=296.\n",
    "    \"\"\"\n",
    "    stmt: Select = select(\n",
    "        University.id, University.name, University.city, University.rating\n",
    "    )\n",
    "\n",
    "    pprint([f\"Код-{i[0]}; {i[1]}-г.{i[2].upper()}; Рейтинг={i[3]}.\" for i in db.fetch_all(stmt)])\n",
    "\n",
    "\n",
    "fifteenth()"
   ]
  },
  {
   "cell_type": "code",
   "execution_count": 26,
   "metadata": {},
   "outputs": [
    {
     "name": "stdout",
     "output_type": "stream",
     "text": [
      "16. Напишите запрос для подсчета количества студентов,\n",
      " сдававших экзамен по предмету обучения с идентификатором 10.\n",
      "\n",
      "10\n"
     ]
    }
   ],
   "source": [
    "@task(\"16\")\n",
    "def sixteenth():\n",
    "    \"\"\"\n",
    "    Напишите запрос для подсчета количества студентов,\n",
    "    сдававших экзамен по предмету обучения с идентификатором 10.\n",
    "    \"\"\"\n",
    "    stmt: Select = select(\n",
    "        func.count(ExamMark.subject_id)\n",
    "    ).where(\n",
    "        ExamMark.subject_id == 10\n",
    "    )\n",
    "\n",
    "    pprint(db.fetch_scalar(stmt))\n",
    "\n",
    "\n",
    "sixteenth()"
   ]
  },
  {
   "cell_type": "code",
   "execution_count": 27,
   "metadata": {},
   "outputs": [
    {
     "name": "stdout",
     "output_type": "stream",
     "text": [
      "17. Напишите запрос, который позволяет подсчитать в таблице\n",
      " EXAM_MARKS количество различных предметов обучения.\n",
      "\n",
      "9\n"
     ]
    }
   ],
   "source": [
    "@task(\"17\")\n",
    "def seventeenth():\n",
    "    \"\"\"\n",
    "    Напишите запрос, который позволяет подсчитать в таблице\n",
    "    EXAM_MARKS количество различных предметов обучения.\n",
    "    \"\"\"\n",
    "    stmt: Select = select(\n",
    "        ExamMark.subject_id\n",
    "    ).distinct()\n",
    "\n",
    "    pprint(len(db.fetch_all(stmt)))\n",
    "\n",
    "    \n",
    "seventeenth()"
   ]
  },
  {
   "cell_type": "code",
   "execution_count": 28,
   "metadata": {},
   "outputs": [
    {
     "name": "stdout",
     "output_type": "stream",
     "text": [
      "18. Напишите запрос, который для каждого студента выполняет\n",
      " выборку его идентификатора и минимальной из полученных им оценок.\n",
      "\n",
      "[(1, 1),\n",
      " (6, 4),\n",
      " (10, 5),\n",
      " (12, 5),\n",
      " (15, 5),\n",
      " (32, 4),\n",
      " (55, 5),\n",
      " (62, 4),\n",
      " (64, 4),\n",
      " (65, 1),\n",
      " (71, 3),\n",
      " (73, 1),\n",
      " (76, 2),\n",
      " (77, 1),\n",
      " (79, 1),\n",
      " (82, 5),\n",
      " (83, 1),\n",
      " (85, 1),\n",
      " (88, 5),\n",
      " (90, 4),\n",
      " (91, 5),\n",
      " (92, 5),\n",
      " (97, 1),\n",
      " (99, 5),\n",
      " (101, 2),\n",
      " (103, 2),\n",
      " (105, 3),\n",
      " (110, 1),\n",
      " (116, 1),\n",
      " (117, 4),\n",
      " (123, 2),\n",
      " (126, 1),\n",
      " (128, 3),\n",
      " (149, 2),\n",
      " (203, 3)]\n"
     ]
    }
   ],
   "source": [
    "@task(\"18\")\n",
    "def eighteenth():\n",
    "    \"\"\"\n",
    "    Напишите запрос, который для каждого студента выполняет\n",
    "    выборку его идентификатора и минимальной из полученных им оценок.\n",
    "    \"\"\"\n",
    "    stmt: Select = select(\n",
    "        ExamMark.student_id, func.min(ExamMark.mark)\n",
    "    ).group_by(\n",
    "        ExamMark.student_id\n",
    "    )\n",
    "\n",
    "    pprint(db.fetch_all(stmt))\n",
    "    \n",
    "    \n",
    "eighteenth()"
   ]
  },
  {
   "cell_type": "code",
   "execution_count": 29,
   "metadata": {},
   "outputs": [
    {
     "name": "stdout",
     "output_type": "stream",
     "text": [
      "19. Напишите запрос, который для каждого конкретного дня сдачи\n",
      " экзамена выводит данные о количестве студентов,\n",
      " сдававших экзамен в этот день.\n",
      "\n",
      "[(datetime.datetime(1999, 6, 17, 0, 0), 1),\n",
      " (datetime.datetime(1999, 6, 22, 0, 0), 1),\n",
      " (datetime.datetime(2000, 1, 5, 0, 0), 1),\n",
      " (datetime.datetime(2000, 1, 18, 0, 0), 1),\n",
      " (datetime.datetime(2000, 1, 23, 0, 0), 1),\n",
      " (datetime.datetime(2006, 1, 12, 0, 0), 1),\n",
      " (datetime.datetime(2019, 5, 11, 0, 0), 1),\n",
      " (datetime.datetime(2019, 6, 8, 0, 0), 1),\n",
      " (datetime.datetime(2019, 7, 4, 0, 0), 1),\n",
      " (datetime.datetime(2019, 7, 6, 0, 0), 1),\n",
      " (datetime.datetime(2019, 7, 24, 0, 0), 1),\n",
      " (datetime.datetime(2019, 8, 14, 0, 0), 1),\n",
      " (datetime.datetime(2019, 8, 30, 0, 0), 1),\n",
      " (datetime.datetime(2019, 9, 2, 0, 0), 1),\n",
      " (datetime.datetime(2019, 10, 28, 0, 0), 1),\n",
      " (datetime.datetime(2019, 12, 17, 0, 0), 1),\n",
      " (datetime.datetime(2019, 12, 25, 0, 0), 1),\n",
      " (datetime.datetime(2019, 12, 31, 0, 0), 1),\n",
      " (datetime.datetime(2020, 2, 10, 0, 0), 1),\n",
      " (datetime.datetime(2020, 2, 22, 0, 0), 1),\n",
      " (datetime.datetime(2020, 3, 13, 0, 0), 1),\n",
      " (datetime.datetime(2020, 3, 20, 0, 0), 1),\n",
      " (datetime.datetime(2020, 3, 21, 0, 0), 1),\n",
      " (datetime.datetime(2020, 4, 6, 0, 0), 1),\n",
      " (datetime.datetime(2020, 5, 4, 0, 0), 1),\n",
      " (datetime.datetime(2020, 5, 10, 0, 0), 1),\n",
      " (datetime.datetime(2020, 5, 13, 0, 0), 1),\n",
      " (datetime.datetime(2020, 7, 26, 0, 0), 1),\n",
      " (datetime.datetime(2020, 8, 10, 0, 0), 1),\n",
      " (datetime.datetime(2020, 8, 18, 0, 0), 1),\n",
      " (datetime.datetime(2020, 9, 9, 0, 0), 1),\n",
      " (datetime.datetime(2020, 9, 21, 0, 0), 1),\n",
      " (datetime.datetime(2020, 10, 24, 0, 0), 1),\n",
      " (datetime.datetime(2020, 12, 3, 0, 0), 1),\n",
      " (datetime.datetime(2020, 12, 4, 0, 0), 1),\n",
      " (datetime.datetime(2020, 12, 23, 0, 0), 1),\n",
      " (datetime.datetime(2021, 2, 10, 0, 0), 1),\n",
      " (datetime.datetime(2021, 3, 1, 0, 0), 1),\n",
      " (datetime.datetime(2021, 3, 7, 0, 0), 1),\n",
      " (datetime.datetime(2021, 3, 14, 0, 0), 1),\n",
      " (datetime.datetime(2021, 3, 29, 0, 0), 1)]\n"
     ]
    }
   ],
   "source": [
    "@task(\"19\")\n",
    "def nineteenth():\n",
    "    \"\"\"\n",
    "    Напишите запрос, который для каждого конкретного дня сдачи\n",
    "    экзамена выводит данные о количестве студентов,\n",
    "    сдававших экзамен в этот день.\n",
    "    \"\"\"\n",
    "    stmt: Select = select(\n",
    "        ExamMark.date, func.count(ExamMark.student_id)\n",
    "    ).group_by(\n",
    "        ExamMark.date\n",
    "    )\n",
    "\n",
    "    pprint(db.fetch_all(stmt))\n",
    "\n",
    "\n",
    "nineteenth()"
   ]
  },
  {
   "cell_type": "code",
   "execution_count": 30,
   "metadata": {},
   "outputs": [
    {
     "name": "stdout",
     "output_type": "stream",
     "text": [
      "20. Напишите запрос, выдающий идентификатор студента и его средний балл.\n",
      "\n",
      "[(1, 1.0),\n",
      " (6, 4.0),\n",
      " (10, 5.0),\n",
      " (12, 5.0),\n",
      " (15, 5.0),\n",
      " (32, 4.0),\n",
      " (55, 5.0),\n",
      " (62, 4.0),\n",
      " (64, 4.0),\n",
      " (65, 1.0),\n",
      " (71, 3.0),\n",
      " (73, 1.0),\n",
      " (76, 2.0),\n",
      " (77, 1.0),\n",
      " (79, 1.0),\n",
      " (82, 5.0),\n",
      " (83, 1.0),\n",
      " (85, 2.5),\n",
      " (88, 5.0),\n",
      " (90, 4.0),\n",
      " (91, 5.0),\n",
      " (92, 5.0),\n",
      " (97, 1.0),\n",
      " (99, 5.0),\n",
      " (101, 2.0),\n",
      " (103, 2.0),\n",
      " (105, 3.0),\n",
      " (110, 1.0),\n",
      " (116, 1.0),\n",
      " (117, 4.0),\n",
      " (123, 2.0),\n",
      " (126, 1.0),\n",
      " (128, 4.0),\n",
      " (149, 2.0),\n",
      " (203, 3.0)]\n"
     ]
    }
   ],
   "source": [
    "@task(\"20\")\n",
    "def twentieth():\n",
    "    \"\"\"\n",
    "    Напишите запрос, выдающий идентификатор студента и его средний балл.\n",
    "    \"\"\"\n",
    "    stmt: Select = select(\n",
    "        ExamMark.student_id, func.avg(ExamMark.mark)\n",
    "    ).group_by(\n",
    "        ExamMark.student_id\n",
    "    )\n",
    "\n",
    "    pprint(db.fetch_all(stmt))\n",
    "    \n",
    "\n",
    "twentieth()"
   ]
  },
  {
   "cell_type": "code",
   "execution_count": 32,
   "metadata": {},
   "outputs": [
    {
     "name": "stdout",
     "output_type": "stream",
     "text": [
      "21. Напишите запрос, выдающий средний балл для каждого экзамена.\n",
      "\n",
      "[(10, 'Информатика', 56, 1, 4.0),\n",
      " (11, 'Программирование', 34, 2, 1.0),\n",
      " (12, 'Анализ данных', 42, 1, 2.0),\n",
      " (13, 'ОБЖ', 34, 2, 2.5),\n",
      " (22, 'Физика', 34, 1, 2.8333333333333335),\n",
      " (43, 'Математика', 56, 2, 2.0),\n",
      " (56, 'История', 34, 4, 3.1666666666666665),\n",
      " (73, 'Физкультура', 34, 5, 3.0),\n",
      " (94, 'Английский', 56, 3, 3.6666666666666665)]\n"
     ]
    }
   ],
   "source": [
    "@task(\"21\")\n",
    "def twenty_first():\n",
    "    \"\"\"\n",
    "    Напишите запрос, выдающий средний балл для каждого экзамена.\n",
    "    \"\"\"\n",
    "    stmt: Select = select(\n",
    "        Subject, func.avg(ExamMark.mark)\n",
    "    ).join(Subject).group_by(\n",
    "        ExamMark.subject_id\n",
    "    )\n",
    "\n",
    "    pprint(db.fetch_all(stmt))\n",
    "\n",
    "\n",
    "twenty_first()    "
   ]
  },
  {
   "cell_type": "code",
   "execution_count": 33,
   "metadata": {},
   "outputs": [
    {
     "name": "stdout",
     "output_type": "stream",
     "text": [
      "22. Напишите запрос, определяющий количество сдававших\n",
      " студентов для каждого предмета, по которому был экзамен.\n",
      "\n",
      "[(10, 'Информатика', 56, 1, 10),\n",
      " (11, 'Программирование', 34, 2, 1),\n",
      " (12, 'Анализ данных', 42, 1, 5),\n",
      " (13, 'ОБЖ', 34, 2, 4),\n",
      " (22, 'Физика', 34, 1, 6),\n",
      " (43, 'Математика', 56, 2, 2),\n",
      " (56, 'История', 34, 4, 6),\n",
      " (73, 'Физкультура', 34, 5, 4),\n",
      " (94, 'Английский', 56, 3, 3)]\n"
     ]
    }
   ],
   "source": [
    "@task(\"22\")\n",
    "def twenty_second():\n",
    "    \"\"\"\n",
    "    Напишите запрос, определяющий количество сдававших\n",
    "    студентов для каждого предмета, по которому был экзамен.\n",
    "    \"\"\"\n",
    "    stmt: Select = select(\n",
    "        Subject, func.count(ExamMark.student_id)\n",
    "    ).join(ExamMark).group_by(\n",
    "        ExamMark.subject_id\n",
    "    )\n",
    "\n",
    "    pprint(db.fetch_all(stmt))\n",
    "\n",
    "\n",
    "twenty_second()"
   ]
  },
  {
   "cell_type": "code",
   "execution_count": 34,
   "metadata": {},
   "outputs": [
    {
     "name": "stdout",
     "output_type": "stream",
     "text": [
      "23. Напишите запрос для определения количества предметов,\n",
      " изучаемых на каждом курсе.\n",
      "\n",
      "[(1, 6), (2, 2), (3, 1)]\n"
     ]
    }
   ],
   "source": [
    "@task(\"23\")\n",
    "def twenty_third():\n",
    "    \"\"\"\n",
    "    Напишите запрос для определения количества предметов,\n",
    "    изучаемых на каждом курсе.\n",
    "    \"\"\"\n",
    "    course = cast(Subject.semester + 1, Integer) / 2\n",
    "    stmt: Select = select(\n",
    "        course, func.count(Subject.id)\n",
    "    ).group_by(\n",
    "        course\n",
    "    )\n",
    "\n",
    "    pprint(db.fetch_all(stmt))\n",
    "\n",
    "\n",
    "twenty_third()"
   ]
  },
  {
   "cell_type": "code",
   "execution_count": 35,
   "metadata": {},
   "outputs": [
    {
     "name": "stdout",
     "output_type": "stream",
     "text": [
      "24. Для каждого университета напишите запрос,\n",
      " выводящий суммарную стипендию обучающихся в нем студентов,\n",
      " с последующей сортировкой списка по этому значению.\n",
      "\n",
      "[(10, 'ВГУ', 296, 'Воронеж', 3250.0),\n",
      " (11, 'НГУ', 345, 'Новосибирск', 400.0),\n",
      " (14, 'БГУ', 326, 'Белгород', 1700.0),\n",
      " (15, 'ТГУ', 368, 'Томск', 650.0),\n",
      " (18, 'ВГМА', 327, 'Воронеж', 1000.0),\n",
      " (22, 'МГУ', 400, 'Москва', 2180.0),\n",
      " (32, 'РГУ', 416, 'Ростов', 1050.0),\n",
      " (44, 'ФинУ', 330, 'Москва', 2220.0),\n",
      " (45, 'МГТУ', 372, 'Москва', 650.0),\n",
      " (46, 'Политех', 300, 'Санкт-Петербург', 1250.0),\n",
      " (47, 'КФУ', 330, 'Казань', 1450.0),\n",
      " (48, 'УЛГУ', 231, 'Ульяновск', 1200.0)]\n"
     ]
    }
   ],
   "source": [
    "@task(\"24\")\n",
    "def twenty_fourth():\n",
    "    \"\"\"\n",
    "    Для каждого университета напишите запрос,\n",
    "    выводящий суммарную стипендию обучающихся в нем студентов,\n",
    "    с последующей сортировкой списка по этому значению.\n",
    "    \"\"\"\n",
    "    stmt: Select = select(\n",
    "        University, func.sum(Student.stipend)\n",
    "    ).join(Student).group_by(\n",
    "        Student.university_id\n",
    "    )\n",
    "\n",
    "    pprint(db.fetch_all(stmt))\n",
    "\n",
    "\n",
    "twenty_fourth()"
   ]
  },
  {
   "cell_type": "code",
   "execution_count": 36,
   "metadata": {},
   "outputs": [
    {
     "name": "stdout",
     "output_type": "stream",
     "text": [
      "25. Для каждого студента напишите запрос, выводящий идентификатор студента\n",
      " и среднее значение оценок, полученных им на всех экзаменах.\n",
      "\n",
      "[(1, 1.0),\n",
      " (6, 4.0),\n",
      " (10, 5.0),\n",
      " (12, 5.0),\n",
      " (15, 5.0),\n",
      " (32, 4.0),\n",
      " (55, 5.0),\n",
      " (62, 4.0),\n",
      " (64, 4.0),\n",
      " (65, 1.0),\n",
      " (71, 3.0),\n",
      " (73, 1.0),\n",
      " (76, 2.0),\n",
      " (77, 1.0),\n",
      " (79, 1.0),\n",
      " (82, 5.0),\n",
      " (83, 1.0),\n",
      " (85, 2.5),\n",
      " (88, 5.0),\n",
      " (90, 4.0),\n",
      " (91, 5.0),\n",
      " (92, 5.0),\n",
      " (97, 1.0),\n",
      " (99, 5.0),\n",
      " (101, 2.0),\n",
      " (103, 2.0),\n",
      " (105, 3.0),\n",
      " (110, 1.0),\n",
      " (116, 1.0),\n",
      " (117, 4.0),\n",
      " (123, 2.0),\n",
      " (126, 1.0),\n",
      " (128, 4.0),\n",
      " (149, 2.0),\n",
      " (203, 3.0)]\n"
     ]
    }
   ],
   "source": [
    "@task(\"25\")\n",
    "def twenty_fifth():\n",
    "    \"\"\"\n",
    "    Для каждого студента напишите запрос, выводящий идентификатор студента\n",
    "    и среднее значение оценок, полученных им на всех экзаменах.\n",
    "    \"\"\"\n",
    "    stmt: Select = select(\n",
    "        ExamMark.student_id, func.avg(ExamMark.mark)\n",
    "    ).group_by(\n",
    "        ExamMark.student_id\n",
    "    )\n",
    "\n",
    "    pprint(db.fetch_all(stmt))\n",
    "    \n",
    "    \n",
    "twenty_fifth()"
   ]
  },
  {
   "cell_type": "code",
   "execution_count": 37,
   "metadata": {},
   "outputs": [
    {
     "name": "stdout",
     "output_type": "stream",
     "text": [
      "26. Напишите запрос, выводящий количество студентов, проживающих в каждом городе.\n",
      " Список отсортировать в порядке убывания количества студентов.\n",
      "\n",
      "[(None, 2),\n",
      " ('Ангарск', 1),\n",
      " ('Архангельск', 1),\n",
      " ('Байкальск', 1),\n",
      " ('Белгород', 2),\n",
      " ('Беломорск', 1),\n",
      " ('Благовещенск (Амур.)', 1),\n",
      " ('Брянск', 2),\n",
      " ('Валдай', 1),\n",
      " ('Верхний Баскунчак', 1),\n",
      " ('Верхоянск', 1),\n",
      " ('Владикавказ', 1),\n",
      " ('Волгоград', 1),\n",
      " ('Вологда', 1),\n",
      " ('Волоколамск', 1),\n",
      " ('Воронеж', 3),\n",
      " ('Геленджик', 1),\n",
      " ('Грозный', 2),\n",
      " ('Дербент', 1),\n",
      " ('Джубга', 2),\n",
      " ('Екатеринбург', 1),\n",
      " ('Енисейск', 1),\n",
      " ('Жуковский', 1),\n",
      " ('Забайкальск', 1),\n",
      " ('Златоуст', 1),\n",
      " ('Иваново', 1),\n",
      " ('Игарка', 1),\n",
      " ('Иркутск', 2),\n",
      " ('Ишим', 1),\n",
      " ('Калининград', 1),\n",
      " ('Каменск-Уральский', 1),\n",
      " ('Камень-на-Оби', 1),\n",
      " ('Канск', 1),\n",
      " ('Кемерово', 1),\n",
      " ('Кизилюрт', 1),\n",
      " ('Кисловодск', 1),\n",
      " ('Колпашево', 1),\n",
      " ('Корсаков', 3),\n",
      " ('Кропоткин (Краснод.)', 2),\n",
      " ('Курганинск', 1),\n",
      " ('Курск', 3),\n",
      " ('Кущевская', 1),\n",
      " ('Кыштым', 1),\n",
      " ('Липецк', 2),\n",
      " ('Лянтор', 1),\n",
      " ('Магадан', 1),\n",
      " ('Малая Вишера', 1),\n",
      " ('Москва', 3),\n",
      " ('Мурманск', 2),\n",
      " ('Нальчик', 1),\n",
      " ('Невельск (Сахалин)', 1),\n",
      " ('Невинномысск', 1),\n",
      " ('Нерчинск', 2),\n",
      " ('Нефтеюганск', 1),\n",
      " ('Нижневартовск', 1),\n",
      " ('Нижний Новгород', 1),\n",
      " ('Новый Уренгой', 2),\n",
      " ('Орел', 3),\n",
      " ('Пышма', 1),\n",
      " ('Пятигорск', 1),\n",
      " ('Рославль', 1),\n",
      " ('Ростов', 1),\n",
      " ('Рубцовск', 2),\n",
      " ('Рыльск', 1),\n",
      " ('Саратов', 1),\n",
      " ('Саянск', 1),\n",
      " ('Славянск-на-Кубани', 1),\n",
      " ('Сургут (Хант.)', 1),\n",
      " ('Сыктывкар', 1),\n",
      " ('Тверь', 1),\n",
      " ('Тимашевск', 1),\n",
      " ('Токма', 1),\n",
      " ('Томск', 1),\n",
      " ('Троицк (Челяб.)', 1),\n",
      " ('Тымовское', 1),\n",
      " ('Улан-Удэ', 3),\n",
      " ('Ульяновск', 3),\n",
      " ('Урус-Мартан', 1),\n",
      " ('Усинск', 1),\n",
      " ('Усмань', 1),\n",
      " ('Усть-Джегута', 2),\n",
      " ('Усть-Кут', 1),\n",
      " ('Устюжна', 1),\n",
      " ('Уфа', 1),\n",
      " ('Ханты-Мансийск', 1),\n",
      " ('Чебоксары', 1),\n",
      " ('Южно-Курильск', 1)]\n"
     ]
    }
   ],
   "source": [
    "@task(\"26\")\n",
    "def twenty_sixth():\n",
    "    \"\"\"\n",
    "    Напишите запрос, выводящий количество студентов, проживающих в каждом городе.\n",
    "    Список отсортировать в порядке убывания количества студентов.\n",
    "    \"\"\"\n",
    "    stmt: Select = select(\n",
    "        Student.city, func.count(Student.id)\n",
    "    ).group_by(Student.city)\n",
    "\n",
    "    pprint(db.fetch_all(stmt))\n",
    "    \n",
    "    \n",
    "twenty_sixth()"
   ]
  },
  {
   "cell_type": "code",
   "execution_count": 38,
   "metadata": {},
   "outputs": [
    {
     "name": "stdout",
     "output_type": "stream",
     "text": [
      "extra_students. Подзапрос для получения всех студентов,\n",
      " обучающихся в своем городе\n",
      "\n",
      "[(6, 'Вадим', 'Сидоров', 150.0, 4, 'Москва', datetime.datetime(1979, 6, 7, 0, 0), 22),\n",
      " (32, 'Павел', 'Котов', 150.0, 5, 'Белгород', datetime.datetime(2021, 2, 28, 0, 0), 14),\n",
      " (55, 'Вадим', 'Белкин', 250.0, 5, 'Воронеж', datetime.datetime(1980, 1, 7, 0, 0), 10),\n",
      " (200, 'Александр', 'Баранов', 220.0, 2, 'Москва', datetime.datetime(2001, 8, 18, 0, 0), 44),\n",
      " (203, 'Екатерина', 'Петрова', 250.0, 4, 'Белгород', datetime.datetime(1999, 5, 21, 0, 0), 14),\n",
      " (207, 'Федор', 'Миронова', 200.0, 3, 'Москва', datetime.datetime(2002, 4, 15, 0, 0), 45),\n",
      " (265, 'Андрей', 'Павлов', 0.0, 3, 'Воронеж', datetime.datetime(1979, 11, 5, 0, 0), 10),\n",
      " (654, 'Артем', 'Лукин', 200.0, 3, 'Воронеж', datetime.datetime(1981, 12, 1, 0, 0), 10)]\n"
     ]
    }
   ],
   "source": [
    "@task(\"extra_students\")\n",
    "def extra_students():\n",
    "    \"\"\"\n",
    "    Подзапрос для получения всех студентов,\n",
    "    обучающихся в своем городе\n",
    "    \"\"\"\n",
    "    sub: Select = select(\n",
    "        University.city\n",
    "    ).where(\n",
    "        University.id == Student.university_id\n",
    "    ).scalar_subquery()\n",
    "\n",
    "    stmt: Select = select(\n",
    "        Student\n",
    "    ).where(\n",
    "        Student.city == sub\n",
    "    )\n",
    "\n",
    "    pprint(db.fetch_all(stmt))\n",
    "    \n",
    "    \n",
    "extra_students()"
   ]
  },
  {
   "cell_type": "code",
   "execution_count": 39,
   "metadata": {},
   "outputs": [
    {
     "name": "stdout",
     "output_type": "stream",
     "text": [
      "extra_lecturers. Подзапрос для получения информации об преподавателях,\n",
      " работающих не в своем городе\n",
      "\n",
      "[(1, 'Лукия', 'Сафонова', 'Смоленск', 46),\n",
      " (3, 'Акулина', 'Мамонтова', 'Троицк (Моск.)', 11),\n",
      " (4, 'Оксана', 'Богданова', 'Всеволожск', 18),\n",
      " (5, 'Нинель', 'Брагина', 'Кижи', 48),\n",
      " (6, 'Иванна', 'Максимова', 'Сковородино', 10),\n",
      " (7, 'Оксана', 'Дмитриева', 'Шарья', 48),\n",
      " (8, 'Светлана', 'Ситникова', 'Сорочинск', 18),\n",
      " (9, 'Людмила', 'Крюкова', 'Анива', 18),\n",
      " (10, 'Майя', 'Артемьева', 'Курск', 18),\n",
      " (11, 'Ираида', 'Куликова', 'Городовиковск', 47),\n",
      " (12, 'Анна', 'Кудрявцева', 'Петушки', 47),\n",
      " (13, 'Оксана', 'Зыкова', 'Калач', 10),\n",
      " (14, 'Руслан', 'Стрелков', 'Королев', 46),\n",
      " (15, 'Прокофий', 'Дорофеев', 'Санкт-Петербург', 32),\n",
      " (16, 'Михаил', 'Волков', 'Черусти', 45),\n",
      " (17, 'Будимир', 'Сафонов', 'Киржач', 18),\n",
      " (18, 'Юлиан', 'Зимин', 'Черский', 46),\n",
      " (19, 'Трофим', 'Алексеев', 'Мценск', 10),\n",
      " (20, 'Ладимир', 'Тихонов', 'Кропоткин (Краснод.)', 15),\n",
      " (21, 'Виссарион', 'Елисеев', 'Курганинск', 48),\n",
      " (22, 'Юлиан', 'Беспалов', 'Рыбинск', 15),\n",
      " (23, 'Мифодий', 'Беляков', 'Рославль', 32),\n",
      " (328, 'Андрей', 'Сорокин', 'Орел', 10)]\n"
     ]
    }
   ],
   "source": [
    "@task(\"extra_lecturers\")\n",
    "def extra_lecturers():\n",
    "    \"\"\"\n",
    "    Подзапрос для получения информации об преподавателях,\n",
    "    работающих не в своем городе\n",
    "    \"\"\"\n",
    "    sub: Select = select(\n",
    "        University.city\n",
    "    ).where(\n",
    "        University.id == Lecturer.university_id\n",
    "    ).scalar_subquery()\n",
    "\n",
    "    stmt: Select = select(\n",
    "        Lecturer\n",
    "    ).where(\n",
    "        Lecturer.city != sub\n",
    "    )\n",
    "\n",
    "    pprint(db.fetch_all(stmt))\n",
    "    \n",
    "    \n",
    "extra_lecturers()"
   ]
  }
 ],
 "metadata": {
  "kernelspec": {
   "display_name": "Python 3",
   "language": "python",
   "name": "python3"
  },
  "language_info": {
   "codemirror_mode": {
    "name": "ipython",
    "version": 3
   },
   "file_extension": ".py",
   "mimetype": "text/x-python",
   "name": "python",
   "nbconvert_exporter": "python",
   "pygments_lexer": "ipython3",
   "version": "3.9.2"
  }
 },
 "nbformat": 4,
 "nbformat_minor": 1
}
