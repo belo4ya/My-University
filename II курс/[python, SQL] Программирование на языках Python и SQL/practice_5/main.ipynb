{
 "cells": [
  {
   "cell_type": "code",
   "execution_count": 6,
   "metadata": {
    "collapsed": true
   },
   "outputs": [],
   "source": [
    "import pprint\n",
    "from sqlalchemy import select, create_engine, MetaData, Table\n"
   ]
  },
  {
   "cell_type": "code",
   "execution_count": 7,
   "outputs": [
    {
     "name": "stdout",
     "output_type": "stream",
     "text": [
      "2021-03-13 08:53:47,994 INFO sqlalchemy.engine.base.Engine SELECT CAST('test plain returns' AS VARCHAR(60)) AS anon_1\n",
      "2021-03-13 08:53:47,997 INFO sqlalchemy.engine.base.Engine ()\n",
      "2021-03-13 08:53:47,999 INFO sqlalchemy.engine.base.Engine SELECT CAST('test unicode returns' AS VARCHAR(60)) AS anon_1\n",
      "2021-03-13 08:53:48,000 INFO sqlalchemy.engine.base.Engine ()\n"
     ]
    }
   ],
   "source": [
    "engine = create_engine('sqlite:///listings.db', echo=True)\n",
    "metadata = MetaData()\n",
    "connection = engine.connect()"
   ],
   "metadata": {
    "collapsed": false,
    "pycharm": {
     "name": "#%%\n"
    }
   }
  },
  {
   "cell_type": "code",
   "execution_count": 8,
   "outputs": [
    {
     "name": "stdout",
     "output_type": "stream",
     "text": [
      "2021-03-13 08:53:48,367 INFO sqlalchemy.engine.base.Engine PRAGMA main.table_xinfo(\"listing\")\n",
      "2021-03-13 08:53:48,369 INFO sqlalchemy.engine.base.Engine ()\n",
      "2021-03-13 08:53:48,373 INFO sqlalchemy.engine.base.Engine SELECT sql FROM  (SELECT * FROM sqlite_master UNION ALL   SELECT * FROM sqlite_temp_master) WHERE name = ? AND type = 'table'\n",
      "2021-03-13 08:53:48,374 INFO sqlalchemy.engine.base.Engine ('listing',)\n",
      "2021-03-13 08:53:48,376 INFO sqlalchemy.engine.base.Engine PRAGMA main.foreign_key_list(\"listing\")\n",
      "2021-03-13 08:53:48,378 INFO sqlalchemy.engine.base.Engine ()\n",
      "2021-03-13 08:53:48,380 INFO sqlalchemy.engine.base.Engine SELECT sql FROM  (SELECT * FROM sqlite_master UNION ALL   SELECT * FROM sqlite_temp_master) WHERE name = ? AND type = 'table'\n",
      "2021-03-13 08:53:48,382 INFO sqlalchemy.engine.base.Engine ('listing',)\n",
      "2021-03-13 08:53:48,387 INFO sqlalchemy.engine.base.Engine PRAGMA main.table_xinfo(\"host\")\n",
      "2021-03-13 08:53:48,388 INFO sqlalchemy.engine.base.Engine ()\n",
      "2021-03-13 08:53:48,391 INFO sqlalchemy.engine.base.Engine SELECT sql FROM  (SELECT * FROM sqlite_master UNION ALL   SELECT * FROM sqlite_temp_master) WHERE name = ? AND type = 'table'\n",
      "2021-03-13 08:53:48,392 INFO sqlalchemy.engine.base.Engine ('host',)\n",
      "2021-03-13 08:53:48,394 INFO sqlalchemy.engine.base.Engine PRAGMA main.foreign_key_list(\"host\")\n",
      "2021-03-13 08:53:48,396 INFO sqlalchemy.engine.base.Engine ()\n",
      "2021-03-13 08:53:48,397 INFO sqlalchemy.engine.base.Engine PRAGMA temp.foreign_key_list(\"host\")\n",
      "2021-03-13 08:53:48,399 INFO sqlalchemy.engine.base.Engine ()\n",
      "2021-03-13 08:53:48,400 INFO sqlalchemy.engine.base.Engine SELECT sql FROM  (SELECT * FROM sqlite_master UNION ALL   SELECT * FROM sqlite_temp_master) WHERE name = ? AND type = 'table'\n",
      "2021-03-13 08:53:48,401 INFO sqlalchemy.engine.base.Engine ('host',)\n",
      "2021-03-13 08:53:48,404 INFO sqlalchemy.engine.base.Engine PRAGMA main.index_list(\"host\")\n",
      "2021-03-13 08:53:48,405 INFO sqlalchemy.engine.base.Engine ()\n",
      "2021-03-13 08:53:48,407 INFO sqlalchemy.engine.base.Engine PRAGMA temp.index_list(\"host\")\n",
      "2021-03-13 08:53:48,409 INFO sqlalchemy.engine.base.Engine ()\n",
      "2021-03-13 08:53:48,410 INFO sqlalchemy.engine.base.Engine PRAGMA main.index_list(\"host\")\n",
      "2021-03-13 08:53:48,412 INFO sqlalchemy.engine.base.Engine ()\n",
      "2021-03-13 08:53:48,414 INFO sqlalchemy.engine.base.Engine PRAGMA temp.index_list(\"host\")\n",
      "2021-03-13 08:53:48,415 INFO sqlalchemy.engine.base.Engine ()\n",
      "2021-03-13 08:53:48,416 INFO sqlalchemy.engine.base.Engine SELECT sql FROM  (SELECT * FROM sqlite_master UNION ALL   SELECT * FROM sqlite_temp_master) WHERE name = ? AND type = 'table'\n",
      "2021-03-13 08:53:48,418 INFO sqlalchemy.engine.base.Engine ('host',)\n",
      "2021-03-13 08:53:48,423 INFO sqlalchemy.engine.base.Engine PRAGMA main.table_xinfo(\"neighbourhood\")\n",
      "2021-03-13 08:53:48,424 INFO sqlalchemy.engine.base.Engine ()\n",
      "2021-03-13 08:53:48,427 INFO sqlalchemy.engine.base.Engine SELECT sql FROM  (SELECT * FROM sqlite_master UNION ALL   SELECT * FROM sqlite_temp_master) WHERE name = ? AND type = 'table'\n",
      "2021-03-13 08:53:48,428 INFO sqlalchemy.engine.base.Engine ('neighbourhood',)\n",
      "2021-03-13 08:53:48,430 INFO sqlalchemy.engine.base.Engine PRAGMA main.foreign_key_list(\"neighbourhood\")\n",
      "2021-03-13 08:53:48,431 INFO sqlalchemy.engine.base.Engine ()\n",
      "2021-03-13 08:53:48,433 INFO sqlalchemy.engine.base.Engine PRAGMA temp.foreign_key_list(\"neighbourhood\")\n",
      "2021-03-13 08:53:48,435 INFO sqlalchemy.engine.base.Engine ()\n",
      "2021-03-13 08:53:48,436 INFO sqlalchemy.engine.base.Engine SELECT sql FROM  (SELECT * FROM sqlite_master UNION ALL   SELECT * FROM sqlite_temp_master) WHERE name = ? AND type = 'table'\n",
      "2021-03-13 08:53:48,437 INFO sqlalchemy.engine.base.Engine ('neighbourhood',)\n",
      "2021-03-13 08:53:48,439 INFO sqlalchemy.engine.base.Engine PRAGMA main.index_list(\"neighbourhood\")\n",
      "2021-03-13 08:53:48,440 INFO sqlalchemy.engine.base.Engine ()\n",
      "2021-03-13 08:53:48,442 INFO sqlalchemy.engine.base.Engine PRAGMA temp.index_list(\"neighbourhood\")\n",
      "2021-03-13 08:53:48,444 INFO sqlalchemy.engine.base.Engine ()\n",
      "2021-03-13 08:53:48,446 INFO sqlalchemy.engine.base.Engine PRAGMA main.index_list(\"neighbourhood\")\n",
      "2021-03-13 08:53:48,447 INFO sqlalchemy.engine.base.Engine ()\n",
      "2021-03-13 08:53:48,449 INFO sqlalchemy.engine.base.Engine PRAGMA temp.index_list(\"neighbourhood\")\n",
      "2021-03-13 08:53:48,450 INFO sqlalchemy.engine.base.Engine ()\n",
      "2021-03-13 08:53:48,452 INFO sqlalchemy.engine.base.Engine SELECT sql FROM  (SELECT * FROM sqlite_master UNION ALL   SELECT * FROM sqlite_temp_master) WHERE name = ? AND type = 'table'\n",
      "2021-03-13 08:53:48,454 INFO sqlalchemy.engine.base.Engine ('neighbourhood',)\n",
      "2021-03-13 08:53:48,456 INFO sqlalchemy.engine.base.Engine PRAGMA main.table_xinfo(\"property_type\")\n",
      "2021-03-13 08:53:48,457 INFO sqlalchemy.engine.base.Engine ()\n",
      "2021-03-13 08:53:48,460 INFO sqlalchemy.engine.base.Engine SELECT sql FROM  (SELECT * FROM sqlite_master UNION ALL   SELECT * FROM sqlite_temp_master) WHERE name = ? AND type = 'table'\n",
      "2021-03-13 08:53:48,461 INFO sqlalchemy.engine.base.Engine ('property_type',)\n",
      "2021-03-13 08:53:48,463 INFO sqlalchemy.engine.base.Engine PRAGMA main.foreign_key_list(\"property_type\")\n",
      "2021-03-13 08:53:48,465 INFO sqlalchemy.engine.base.Engine ()\n",
      "2021-03-13 08:53:48,466 INFO sqlalchemy.engine.base.Engine PRAGMA temp.foreign_key_list(\"property_type\")\n",
      "2021-03-13 08:53:48,467 INFO sqlalchemy.engine.base.Engine ()\n",
      "2021-03-13 08:53:48,469 INFO sqlalchemy.engine.base.Engine SELECT sql FROM  (SELECT * FROM sqlite_master UNION ALL   SELECT * FROM sqlite_temp_master) WHERE name = ? AND type = 'table'\n",
      "2021-03-13 08:53:48,470 INFO sqlalchemy.engine.base.Engine ('property_type',)\n",
      "2021-03-13 08:53:48,472 INFO sqlalchemy.engine.base.Engine PRAGMA main.index_list(\"property_type\")\n",
      "2021-03-13 08:53:48,473 INFO sqlalchemy.engine.base.Engine ()\n",
      "2021-03-13 08:53:48,475 INFO sqlalchemy.engine.base.Engine PRAGMA temp.index_list(\"property_type\")\n",
      "2021-03-13 08:53:48,476 INFO sqlalchemy.engine.base.Engine ()\n",
      "2021-03-13 08:53:48,478 INFO sqlalchemy.engine.base.Engine PRAGMA main.index_list(\"property_type\")\n",
      "2021-03-13 08:53:48,479 INFO sqlalchemy.engine.base.Engine ()\n",
      "2021-03-13 08:53:48,481 INFO sqlalchemy.engine.base.Engine PRAGMA temp.index_list(\"property_type\")\n",
      "2021-03-13 08:53:48,482 INFO sqlalchemy.engine.base.Engine ()\n",
      "2021-03-13 08:53:48,484 INFO sqlalchemy.engine.base.Engine SELECT sql FROM  (SELECT * FROM sqlite_master UNION ALL   SELECT * FROM sqlite_temp_master) WHERE name = ? AND type = 'table'\n",
      "2021-03-13 08:53:48,485 INFO sqlalchemy.engine.base.Engine ('property_type',)\n",
      "2021-03-13 08:53:48,487 INFO sqlalchemy.engine.base.Engine PRAGMA main.table_xinfo(\"room_type\")\n",
      "2021-03-13 08:53:48,489 INFO sqlalchemy.engine.base.Engine ()\n",
      "2021-03-13 08:53:48,491 INFO sqlalchemy.engine.base.Engine SELECT sql FROM  (SELECT * FROM sqlite_master UNION ALL   SELECT * FROM sqlite_temp_master) WHERE name = ? AND type = 'table'\n",
      "2021-03-13 08:53:48,492 INFO sqlalchemy.engine.base.Engine ('room_type',)\n",
      "2021-03-13 08:53:48,494 INFO sqlalchemy.engine.base.Engine PRAGMA main.foreign_key_list(\"room_type\")\n",
      "2021-03-13 08:53:48,495 INFO sqlalchemy.engine.base.Engine ()\n",
      "2021-03-13 08:53:48,496 INFO sqlalchemy.engine.base.Engine PRAGMA temp.foreign_key_list(\"room_type\")\n",
      "2021-03-13 08:53:48,497 INFO sqlalchemy.engine.base.Engine ()\n",
      "2021-03-13 08:53:48,499 INFO sqlalchemy.engine.base.Engine SELECT sql FROM  (SELECT * FROM sqlite_master UNION ALL   SELECT * FROM sqlite_temp_master) WHERE name = ? AND type = 'table'\n",
      "2021-03-13 08:53:48,500 INFO sqlalchemy.engine.base.Engine ('room_type',)\n",
      "2021-03-13 08:53:48,501 INFO sqlalchemy.engine.base.Engine PRAGMA main.index_list(\"room_type\")\n",
      "2021-03-13 08:53:48,502 INFO sqlalchemy.engine.base.Engine ()\n",
      "2021-03-13 08:53:48,504 INFO sqlalchemy.engine.base.Engine PRAGMA temp.index_list(\"room_type\")\n",
      "2021-03-13 08:53:48,505 INFO sqlalchemy.engine.base.Engine ()\n",
      "2021-03-13 08:53:48,507 INFO sqlalchemy.engine.base.Engine PRAGMA main.index_list(\"room_type\")\n",
      "2021-03-13 08:53:48,508 INFO sqlalchemy.engine.base.Engine ()\n",
      "2021-03-13 08:53:48,509 INFO sqlalchemy.engine.base.Engine PRAGMA temp.index_list(\"room_type\")\n",
      "2021-03-13 08:53:48,511 INFO sqlalchemy.engine.base.Engine ()\n",
      "2021-03-13 08:53:48,513 INFO sqlalchemy.engine.base.Engine SELECT sql FROM  (SELECT * FROM sqlite_master UNION ALL   SELECT * FROM sqlite_temp_master) WHERE name = ? AND type = 'table'\n",
      "2021-03-13 08:53:48,514 INFO sqlalchemy.engine.base.Engine ('room_type',)\n",
      "2021-03-13 08:53:48,516 INFO sqlalchemy.engine.base.Engine PRAGMA main.index_list(\"listing\")\n",
      "2021-03-13 08:53:48,517 INFO sqlalchemy.engine.base.Engine ()\n",
      "2021-03-13 08:53:48,519 INFO sqlalchemy.engine.base.Engine PRAGMA main.index_info(\"ix_listing_listing_name\")\n",
      "2021-03-13 08:53:48,520 INFO sqlalchemy.engine.base.Engine ()\n",
      "2021-03-13 08:53:48,522 INFO sqlalchemy.engine.base.Engine PRAGMA main.index_info(\"ix_am_price\")\n",
      "2021-03-13 08:53:48,523 INFO sqlalchemy.engine.base.Engine ()\n",
      "2021-03-13 08:53:48,525 INFO sqlalchemy.engine.base.Engine PRAGMA main.index_list(\"listing\")\n",
      "2021-03-13 08:53:48,526 INFO sqlalchemy.engine.base.Engine ()\n",
      "2021-03-13 08:53:48,528 INFO sqlalchemy.engine.base.Engine PRAGMA main.index_info(\"ix_listing_listing_name\")\n",
      "2021-03-13 08:53:48,529 INFO sqlalchemy.engine.base.Engine ()\n",
      "2021-03-13 08:53:48,531 INFO sqlalchemy.engine.base.Engine PRAGMA main.index_info(\"ix_am_price\")\n",
      "2021-03-13 08:53:48,532 INFO sqlalchemy.engine.base.Engine ()\n",
      "2021-03-13 08:53:48,533 INFO sqlalchemy.engine.base.Engine SELECT sql FROM  (SELECT * FROM sqlite_master UNION ALL   SELECT * FROM sqlite_temp_master) WHERE name = ? AND type = 'table'\n",
      "2021-03-13 08:53:48,534 INFO sqlalchemy.engine.base.Engine ('listing',)\n",
      "2021-03-13 08:53:48,537 INFO sqlalchemy.engine.base.Engine PRAGMA main.table_xinfo(\"line_item\")\n",
      "2021-03-13 08:53:48,539 INFO sqlalchemy.engine.base.Engine ()\n",
      "2021-03-13 08:53:48,541 INFO sqlalchemy.engine.base.Engine SELECT sql FROM  (SELECT * FROM sqlite_master UNION ALL   SELECT * FROM sqlite_temp_master) WHERE name = ? AND type = 'table'\n",
      "2021-03-13 08:53:48,542 INFO sqlalchemy.engine.base.Engine ('line_item',)\n",
      "2021-03-13 08:53:48,543 INFO sqlalchemy.engine.base.Engine PRAGMA main.foreign_key_list(\"line_item\")\n",
      "2021-03-13 08:53:48,545 INFO sqlalchemy.engine.base.Engine ()\n",
      "2021-03-13 08:53:48,547 INFO sqlalchemy.engine.base.Engine SELECT sql FROM  (SELECT * FROM sqlite_master UNION ALL   SELECT * FROM sqlite_temp_master) WHERE name = ? AND type = 'table'\n",
      "2021-03-13 08:53:48,548 INFO sqlalchemy.engine.base.Engine ('line_item',)\n",
      "2021-03-13 08:53:48,550 INFO sqlalchemy.engine.base.Engine PRAGMA main.table_xinfo(\"order\")\n",
      "2021-03-13 08:53:48,551 INFO sqlalchemy.engine.base.Engine ()\n",
      "2021-03-13 08:53:48,554 INFO sqlalchemy.engine.base.Engine SELECT sql FROM  (SELECT * FROM sqlite_master UNION ALL   SELECT * FROM sqlite_temp_master) WHERE name = ? AND type = 'table'\n",
      "2021-03-13 08:53:48,555 INFO sqlalchemy.engine.base.Engine ('order',)\n",
      "2021-03-13 08:53:48,557 INFO sqlalchemy.engine.base.Engine PRAGMA main.foreign_key_list(\"order\")\n",
      "2021-03-13 08:53:48,558 INFO sqlalchemy.engine.base.Engine ()\n",
      "2021-03-13 08:53:48,560 INFO sqlalchemy.engine.base.Engine SELECT sql FROM  (SELECT * FROM sqlite_master UNION ALL   SELECT * FROM sqlite_temp_master) WHERE name = ? AND type = 'table'\n",
      "2021-03-13 08:53:48,561 INFO sqlalchemy.engine.base.Engine ('order',)\n",
      "2021-03-13 08:53:48,564 INFO sqlalchemy.engine.base.Engine PRAGMA main.table_xinfo(\"user\")\n",
      "2021-03-13 08:53:48,565 INFO sqlalchemy.engine.base.Engine ()\n",
      "2021-03-13 08:53:48,568 INFO sqlalchemy.engine.base.Engine SELECT sql FROM  (SELECT * FROM sqlite_master UNION ALL   SELECT * FROM sqlite_temp_master) WHERE name = ? AND type = 'table'\n",
      "2021-03-13 08:53:48,569 INFO sqlalchemy.engine.base.Engine ('user',)\n",
      "2021-03-13 08:53:48,571 INFO sqlalchemy.engine.base.Engine PRAGMA main.foreign_key_list(\"user\")\n",
      "2021-03-13 08:53:48,572 INFO sqlalchemy.engine.base.Engine ()\n",
      "2021-03-13 08:53:48,574 INFO sqlalchemy.engine.base.Engine PRAGMA temp.foreign_key_list(\"user\")\n",
      "2021-03-13 08:53:48,575 INFO sqlalchemy.engine.base.Engine ()\n",
      "2021-03-13 08:53:48,577 INFO sqlalchemy.engine.base.Engine SELECT sql FROM  (SELECT * FROM sqlite_master UNION ALL   SELECT * FROM sqlite_temp_master) WHERE name = ? AND type = 'table'\n",
      "2021-03-13 08:53:48,579 INFO sqlalchemy.engine.base.Engine ('user',)\n",
      "2021-03-13 08:53:48,581 INFO sqlalchemy.engine.base.Engine PRAGMA main.index_list(\"user\")\n",
      "2021-03-13 08:53:48,582 INFO sqlalchemy.engine.base.Engine ()\n",
      "2021-03-13 08:53:48,584 INFO sqlalchemy.engine.base.Engine PRAGMA main.index_list(\"user\")\n",
      "2021-03-13 08:53:48,586 INFO sqlalchemy.engine.base.Engine ()\n",
      "2021-03-13 08:53:48,588 INFO sqlalchemy.engine.base.Engine PRAGMA main.index_info(\"sqlite_autoindex_user_1\")\n",
      "2021-03-13 08:53:48,590 INFO sqlalchemy.engine.base.Engine ()\n",
      "2021-03-13 08:53:48,592 INFO sqlalchemy.engine.base.Engine SELECT sql FROM  (SELECT * FROM sqlite_master UNION ALL   SELECT * FROM sqlite_temp_master) WHERE name = ? AND type = 'table'\n",
      "2021-03-13 08:53:48,593 INFO sqlalchemy.engine.base.Engine ('user',)\n",
      "2021-03-13 08:53:48,597 INFO sqlalchemy.engine.base.Engine PRAGMA main.index_list(\"order\")\n",
      "2021-03-13 08:53:48,598 INFO sqlalchemy.engine.base.Engine ()\n",
      "2021-03-13 08:53:48,601 INFO sqlalchemy.engine.base.Engine PRAGMA temp.index_list(\"order\")\n",
      "2021-03-13 08:53:48,602 INFO sqlalchemy.engine.base.Engine ()\n",
      "2021-03-13 08:53:48,603 INFO sqlalchemy.engine.base.Engine PRAGMA main.index_list(\"order\")\n",
      "2021-03-13 08:53:48,605 INFO sqlalchemy.engine.base.Engine ()\n",
      "2021-03-13 08:53:48,608 INFO sqlalchemy.engine.base.Engine PRAGMA temp.index_list(\"order\")\n",
      "2021-03-13 08:53:48,610 INFO sqlalchemy.engine.base.Engine ()\n",
      "2021-03-13 08:53:48,612 INFO sqlalchemy.engine.base.Engine SELECT sql FROM  (SELECT * FROM sqlite_master UNION ALL   SELECT * FROM sqlite_temp_master) WHERE name = ? AND type = 'table'\n",
      "2021-03-13 08:53:48,614 INFO sqlalchemy.engine.base.Engine ('order',)\n",
      "2021-03-13 08:53:48,617 INFO sqlalchemy.engine.base.Engine PRAGMA main.index_list(\"line_item\")\n",
      "2021-03-13 08:53:48,619 INFO sqlalchemy.engine.base.Engine ()\n",
      "2021-03-13 08:53:48,622 INFO sqlalchemy.engine.base.Engine PRAGMA temp.index_list(\"line_item\")\n",
      "2021-03-13 08:53:48,623 INFO sqlalchemy.engine.base.Engine ()\n",
      "2021-03-13 08:53:48,625 INFO sqlalchemy.engine.base.Engine PRAGMA main.index_list(\"line_item\")\n",
      "2021-03-13 08:53:48,626 INFO sqlalchemy.engine.base.Engine ()\n",
      "2021-03-13 08:53:48,628 INFO sqlalchemy.engine.base.Engine PRAGMA temp.index_list(\"line_item\")\n",
      "2021-03-13 08:53:48,631 INFO sqlalchemy.engine.base.Engine ()\n",
      "2021-03-13 08:53:48,632 INFO sqlalchemy.engine.base.Engine SELECT sql FROM  (SELECT * FROM sqlite_master UNION ALL   SELECT * FROM sqlite_temp_master) WHERE name = ? AND type = 'table'\n",
      "2021-03-13 08:53:48,634 INFO sqlalchemy.engine.base.Engine ('line_item',)\n"
     ]
    }
   ],
   "source": [
    "listing = Table('listing', metadata, autoload=True, autoload_with=engine)\n",
    "neighbourhood = Table('neighbourhood', metadata, autoload=True, autoload_with=engine)\n",
    "host = Table('host', metadata, autoload=True, autoload_with=engine)\n",
    "line_item = Table('line_item', metadata, autoload=True, autoload_with=engine)\n",
    "order = Table('order', metadata, autoload=True, autoload_with=engine)\n",
    "property_type = Table('property_type', metadata, autoload=True, autoload_with=engine)\n",
    "room_type = Table('room_type', metadata, autoload=True, autoload_with=engine)\n",
    "user = Table('user', metadata, autoload=True, autoload_with=engine)\n"
   ],
   "metadata": {
    "collapsed": false,
    "pycharm": {
     "name": "#%%\n"
    }
   }
  },
  {
   "cell_type": "code",
   "execution_count": 11,
   "outputs": [
    {
     "name": "stdout",
     "output_type": "stream",
     "text": [
      "2021-03-13 08:54:35,221 INFO sqlalchemy.engine.base.Engine SELECT listing.listing_id, listing.listing_name, listing.listing_url, listing.host_id, listing.neighbourhood_id, listing.amenities, listing.property_type_id, listing.room_type_id, listing.bedrooms, listing.beds, listing.price \n",
      "FROM listing\n",
      "2021-03-13 08:54:35,222 INFO sqlalchemy.engine.base.Engine ()\n"
     ]
    },
    {
     "data": {
      "text/plain": "[(20168, 'Studio with private bathroom in the centre 1', 'https://www.airbnb.com/rooms/20168', 59484, 4, '[\"Wifi\", \"Hot water\", \"Hangers\", \"Host greets you\", \"Long term stays allowed\", \"Carbon monoxide alarm\", \"Fire extinguisher\", \"Dedicated workspace\", \"Paid parking off premises\", \"Essentials\", \"Bed linens\", \"Hair dryer\", \"TV\", \"Heating\", \"Refrigerator\", \"Free street parking\", \"Smoke alarm\"]', 35, 3, 1, 1, Decimal('236.00')),\n (27886, 'Romantic, stylish B&B houseboat in canal district', 'https://www.airbnb.com/rooms/27886', 97647, 5, '[\"Carbon monoxide alarm\", \"Private living room\", \"Refrigerator\", \"Dishes and silverware\", \"Smoke alarm\", \"Patio or balcony\", \"Private entrance\", \"TV\" ... (2 characters truncated) ... \"Wifi\", \"Smart lock\", \"Hot water\", \"Coffee maker\", \"Hangers\", \"Fire extinguisher\", \"Shampoo\", \"Luggage dropoff allowed\", \"Lake access\", \"Long term st', 30, 3, 1, 1, Decimal('135.00')),\n (28871, 'Comfortable double room', 'https://www.airbnb.com/rooms/28871', 124245, 4, '[\"Wifi\", \"Hot water\", \"Private entrance\", \"Hangers\", \"Host greets you\", \"Lock on bedroom door\", \"Shampoo\", \"Carbon monoxide alarm\", \"Fire extinguisher\", \"Essentials\", \"Dryer\", \"Hair dryer\", \"Heating\", \"Refrigerator\", \"Smoke alarm\"]', None, 3, 1, 1, Decimal('75.00')),\n (29051, 'Comfortable single room', 'https://www.airbnb.com/rooms/29051', 124245, 4, '[\"Coffee maker\", \"Host greets you\", \"Hair dryer\", \"Shampoo\", \"Hangers\", \"Bed linens\", \"Heating\", \"Lock on bedroom door\", \"Wifi\", \"Shower gel\", \"Essentials\", \"Smoke alarm\", \"Fire extinguisher\", \"Iron\", \"Refrigerator\", \"Hot water\", \"Private entrance\"]', None, 3, 1, 1, Decimal('55.00')),\n (31080, '2-story apartment + rooftop terrace', 'https://www.airbnb.com/rooms/31080', 133488, 20, '[\"Microwave\", \"Carbon monoxide alarm\", \"Refrigerator\", \"Dishes and silverware\", \"Smoke alarm\", \"Oven', 2, 1, 3, 3, Decimal('219.00'))]"
     },
     "execution_count": 11,
     "metadata": {},
     "output_type": "execute_result"
    }
   ],
   "source": [
    "s = select([listing])\n",
    "rp = connection.execute(s)\n",
    "results = rp.fetchall()\n",
    "results"
   ],
   "metadata": {
    "collapsed": false,
    "pycharm": {
     "name": "#%%\n"
    }
   }
  },
  {
   "cell_type": "code",
   "execution_count": 10,
   "outputs": [
    {
     "name": "stdout",
     "output_type": "stream",
     "text": [
      "2021-03-13 08:53:49,774 INFO sqlalchemy.engine.base.Engine SELECT listing.listing_id, listing.listing_name, listing.listing_url, listing.host_id, listing.neighbourhood_id, listing.amenities, listing.property_type_id, listing.room_type_id, listing.bedrooms, listing.beds, listing.price \n",
      "FROM listing\n",
      "2021-03-13 08:53:49,775 INFO sqlalchemy.engine.base.Engine ()\n"
     ]
    },
    {
     "data": {
      "text/plain": "(20168, 'Studio with private bathroom in the centre 1', 'https://www.airbnb.com/rooms/20168', 59484, 4, '[\"Wifi\", \"Hot water\", \"Hangers\", \"Host greets you\", \"Long term stays allowed\", \"Carbon monoxide alarm\", \"Fire extinguisher\", \"Dedicated workspace\", \"Paid parking off premises\", \"Essentials\", \"Bed linens\", \"Hair dryer\", \"TV\", \"Heating\", \"Refrigerator\", \"Free street parking\", \"Smoke alarm\"]', 35, 3, 1, 1, Decimal('236.00'))"
     },
     "execution_count": 10,
     "metadata": {},
     "output_type": "execute_result"
    }
   ],
   "source": [
    "s = listing.select()\n",
    "rp = connection.execute(s)\n",
    "rp.fetchone()"
   ],
   "metadata": {
    "collapsed": false,
    "pycharm": {
     "name": "#%%\n"
    }
   }
  },
  {
   "cell_type": "code",
   "execution_count": 12,
   "outputs": [
    {
     "name": "stdout",
     "output_type": "stream",
     "text": [
      "Studio with private bathroom in the centre 1\n",
      "Studio with private bathroom in the centre 1\n",
      "Studio with private bathroom in the centre 1\n"
     ]
    },
    {
     "data": {
      "text/plain": "sqlalchemy.engine.result.RowProxy"
     },
     "execution_count": 12,
     "metadata": {},
     "output_type": "execute_result"
    }
   ],
   "source": [
    "first_row = results[0] # Первая запись\n",
    "print(first_row[1]) # Доступ к значению по индексу\n",
    "print(first_row.listing_name) # Доступ к значению по имени соответствующего столбца\n",
    "print(first_row[listing.c.listing_name]) # Доступ по имени объекта столбца"
   ],
   "metadata": {
    "collapsed": false,
    "pycharm": {
     "name": "#%%\n"
    }
   }
  },
  {
   "cell_type": "code",
   "execution_count": 93,
   "outputs": [
    {
     "name": "stdout",
     "output_type": "stream",
     "text": [
      "2021-03-13 09:58:35,995 INFO sqlalchemy.engine.base.Engine INSERT INTO listing DEFAULT VALUES\n",
      "2021-03-13 09:58:35,997 INFO sqlalchemy.engine.base.Engine ((), ())\n",
      "2021-03-13 09:58:36,001 INFO sqlalchemy.engine.base.Engine COMMIT\n"
     ]
    },
    {
     "data": {
      "text/plain": "2"
     },
     "execution_count": 93,
     "metadata": {},
     "output_type": "execute_result"
    }
   ],
   "source": [
    "connection.execute(listing.insert(), [{}, {}]).rowcount"
   ],
   "metadata": {
    "collapsed": false,
    "pycharm": {
     "name": "#%%\n"
    }
   }
  },
  {
   "cell_type": "code",
   "execution_count": 82,
   "outputs": [
    {
     "name": "stdout",
     "output_type": "stream",
     "text": [
      "2021-03-13 09:42:18,925 INFO sqlalchemy.engine.base.Engine SELECT sum(listing.bedrooms) AS sum_1 \n",
      "FROM listing\n",
      "2021-03-13 09:42:18,926 INFO sqlalchemy.engine.base.Engine ()\n",
      "7\n"
     ]
    }
   ],
   "source": [
    "from sqlalchemy.sql import func\n",
    "s = select([func.sum(listing.c.bedrooms)])\n",
    "rp = connection.execute(s)\n",
    "print(rp.scalar())"
   ],
   "metadata": {
    "collapsed": false,
    "pycharm": {
     "name": "#%%\n"
    }
   }
  },
  {
   "cell_type": "code",
   "execution_count": 66,
   "outputs": [
    {
     "name": "stdout",
     "output_type": "stream",
     "text": [
      "2021-03-13 09:26:49,035 INFO sqlalchemy.engine.base.Engine SELECT listing.bedrooms \n",
      "FROM listing\n",
      "2021-03-13 09:26:49,036 INFO sqlalchemy.engine.base.Engine ()\n",
      "1\n"
     ]
    }
   ],
   "source": [
    "s = select([listing.c.bedrooms])\n",
    "rp = connection.execute(s)\n",
    "print(rp.fetchall()[0].bedrooms)"
   ],
   "metadata": {
    "collapsed": false,
    "pycharm": {
     "name": "#%%\n"
    }
   }
  },
  {
   "cell_type": "code",
   "execution_count": 89,
   "outputs": [
    {
     "name": "stdout",
     "output_type": "stream",
     "text": [
      "2021-03-13 09:51:21,445 INFO sqlalchemy.engine.base.Engine SELECT listing.listing_id, listing.price, CAST(listing.price * ? AS NUMERIC(-1, 0)) AS mult \n",
      "FROM listing\n",
      "2021-03-13 09:51:21,446 INFO sqlalchemy.engine.base.Engine (1.13,)\n",
      "31081 None None\n",
      "31082 None None\n",
      "31083 None None\n",
      "31084 None None\n",
      "31085 None None\n",
      "31086 None None\n",
      "31087 None None\n",
      "31088 None None\n",
      "31089 None None\n",
      "31090 None None\n",
      "31091 None None\n",
      "27886 135.00 153\n",
      "29051 55.00 62\n",
      "31080 219.00 247\n",
      "20168 236.00 267\n",
      "28871 75.00 85\n"
     ]
    },
    {
     "name": "stderr",
     "output_type": "stream",
     "text": [
      "d:\\pyprojects\\jupyternotebook\\venv\\lib\\site-packages\\sqlalchemy\\sql\\sqltypes.py:661: SAWarning: Dialect sqlite+pysqlite does *not* support Decimal objects natively, and SQLAlchemy must convert from floating point - rounding errors and other issues may occur. Please consider storing Decimal numbers as strings or integers on this platform for lossless storage.\n",
      "  util.warn(\n"
     ]
    }
   ],
   "source": [
    "from sqlalchemy import cast, String, Numeric\n",
    "s=select([listing.c.listing_id, listing.c.price,\n",
    "          cast(listing.c.price*1.13, Numeric(-1,0)).label('mult')])\n",
    "\n",
    "for row in connection.execute(s):\n",
    "    print(row.listing_id, row.price, row.mult)"
   ],
   "metadata": {
    "collapsed": false,
    "pycharm": {
     "name": "#%%\n"
    }
   }
  },
  {
   "cell_type": "code",
   "execution_count": 91,
   "outputs": [
    {
     "name": "stdout",
     "output_type": "stream",
     "text": [
      "2021-03-13 09:54:12,139 INFO sqlalchemy.engine.base.Engine SELECT listing.price, listing.listing_name || ? || CAST(listing.price AS VARCHAR(20)) || ? AS anon_1 \n",
      "FROM listing\n",
      "2021-03-13 09:54:12,141 INFO sqlalchemy.engine.base.Engine (' for ', ' euros')\n",
      "(Decimal('236.00'), 'Studio with private bathroom in the centre 1 for 236 euros')\n",
      "(Decimal('135.00'), 'Romantic, stylish B&B houseboat in canal district for 135 euros')\n",
      "(Decimal('75.00'), 'Comfortable double room for 75 euros')\n",
      "(Decimal('55.00'), 'Comfortable single room for 55 euros')\n",
      "(Decimal('219.00'), '2-story apartment + rooftop terrace for 219 euros')\n",
      "(None, None)\n",
      "(None, None)\n",
      "(None, None)\n",
      "(None, None)\n",
      "(None, None)\n",
      "(None, None)\n",
      "(None, None)\n",
      "(None, None)\n",
      "(None, None)\n",
      "(None, None)\n",
      "(None, None)\n"
     ]
    }
   ],
   "source": [
    "from sqlalchemy import cast, String\n",
    "s=select([listing.c.price, listing.c.listing_name + ' for ' +\n",
    "          cast(listing.c.price, String(20)).label('mult') +\n",
    "          ' euros'])\n",
    "\n",
    "rp=connection.execute(s)\n",
    "for row in rp:\n",
    "    print(row)\n"
   ],
   "metadata": {
    "collapsed": false,
    "pycharm": {
     "name": "#%%\n"
    }
   }
  },
  {
   "cell_type": "code",
   "execution_count": 103,
   "outputs": [
    {
     "name": "stdout",
     "output_type": "stream",
     "text": [
      "2021-03-13 10:14:07,050 INFO sqlalchemy.engine.base.Engine select upper(host_name) from host\n",
      "2021-03-13 10:14:07,052 INFO sqlalchemy.engine.base.Engine ()\n"
     ]
    },
    {
     "ename": "AttributeError",
     "evalue": "__enter__",
     "output_type": "error",
     "traceback": [
      "\u001B[1;31m---------------------------------------------------------------------------\u001B[0m",
      "\u001B[1;31mAttributeError\u001B[0m                            Traceback (most recent call last)",
      "\u001B[1;32m<ipython-input-103-bc32ee1e6b4d>\u001B[0m in \u001B[0;36m<module>\u001B[1;34m\u001B[0m\n\u001B[0;32m      1\u001B[0m \u001B[0mresult\u001B[0m \u001B[1;33m=\u001B[0m \u001B[0mconnection\u001B[0m\u001B[1;33m.\u001B[0m\u001B[0mexecute\u001B[0m\u001B[1;33m(\u001B[0m\u001B[1;34m\"select upper(host_name) from host\"\u001B[0m\u001B[1;33m)\u001B[0m\u001B[1;33m\u001B[0m\u001B[1;33m\u001B[0m\u001B[0m\n\u001B[1;32m----> 2\u001B[1;33m \u001B[1;32mwith\u001B[0m \u001B[0mresult\u001B[0m\u001B[1;33m:\u001B[0m\u001B[1;33m\u001B[0m\u001B[1;33m\u001B[0m\u001B[0m\n\u001B[0m\u001B[0;32m      3\u001B[0m     \u001B[0mprint\u001B[0m\u001B[1;33m(\u001B[0m\u001B[0mresult\u001B[0m\u001B[1;33m.\u001B[0m\u001B[0mfetchone\u001B[0m\u001B[1;33m)\u001B[0m\u001B[1;33m\u001B[0m\u001B[1;33m\u001B[0m\u001B[0m\n",
      "\u001B[1;31mAttributeError\u001B[0m: __enter__"
     ]
    }
   ],
   "source": [
    "result = connection.execute(\"select upper(host_name) from host\").fetchall()"
   ],
   "metadata": {
    "collapsed": false,
    "pycharm": {
     "name": "#%%\n"
    }
   }
  },
  {
   "cell_type": "code",
   "execution_count": null,
   "outputs": [],
   "source": [],
   "metadata": {
    "collapsed": false,
    "pycharm": {
     "name": "#%%\n"
    }
   }
  }
 ],
 "metadata": {
  "kernelspec": {
   "display_name": "Python 3",
   "language": "python",
   "name": "python3"
  },
  "language_info": {
   "codemirror_mode": {
    "name": "ipython",
    "version": 2
   },
   "file_extension": ".py",
   "mimetype": "text/x-python",
   "name": "python",
   "nbconvert_exporter": "python",
   "pygments_lexer": "ipython2",
   "version": "2.7.6"
  }
 },
 "nbformat": 4,
 "nbformat_minor": 0
}