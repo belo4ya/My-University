{
 "cells": [
  {
   "cell_type": "markdown",
   "metadata": {},
   "source": [
    "# Dask Delayed"
   ]
  },
  {
   "cell_type": "markdown",
   "metadata": {},
   "source": [
    "Материалы:\n",
    "* Макрушин С.В. Лекция 13: Dask Delayed\n",
    "* https://docs.dask.org/en/latest/delayed.html\n",
    "* JESSE C. DANIEL. Data Science with Python and Dask.\n"
   ]
  },
  {
   "cell_type": "code",
   "execution_count": 1,
   "outputs": [],
   "source": [
    "from __future__ import annotations\n",
    "\n",
    "import random\n",
    "import time\n",
    "from functools import partial\n",
    "from pathlib import Path\n",
    "from typing import Callable\n",
    "\n",
    "import bs4\n",
    "import dask\n",
    "import dask.bag as db\n",
    "import re\n",
    "import json\n",
    "import dask.dataframe as dd\n",
    "from dask.delayed import Delayed"
   ],
   "metadata": {
    "collapsed": false,
    "pycharm": {
     "name": "#%%\n"
    }
   }
  },
  {
   "cell_type": "code",
   "execution_count": 2,
   "outputs": [],
   "source": [
    "DATA_DIR = Path('data/')\n",
    "SRC_DIR = Path('src/')\n",
    "OUTPUT_DIR = Path('output/')\n",
    "if not OUTPUT_DIR.exists():\n",
    "    OUTPUT_DIR.mkdir()"
   ],
   "metadata": {
    "collapsed": false,
    "pycharm": {
     "name": "#%%\n"
    }
   }
  },
  {
   "cell_type": "markdown",
   "metadata": {},
   "source": [
    "## Задачи для совместного разбора"
   ]
  },
  {
   "cell_type": "markdown",
   "metadata": {},
   "source": [
    "![](https://i.imgur.com/AwiN8y6.png)\n",
    "![](https://i.imgur.com/ceY6guU.png)"
   ]
  },
  {
   "cell_type": "markdown",
   "metadata": {},
   "source": [
    "1. Напишите 2 функции, имитирующие CPU-bound задачу и IO-bound задачу:\n",
    "\n",
    "`cpu_task()`: генерирует 100 тыс. случайных чисел и возвращает их сумму (без использования `numpy`)\n",
    "\n",
    "`io_task()`: \"спит\" 0.1 сек, затем генерирует случайное число и возвращает его\n",
    "\n",
    "Замерьте время выполнения 100 последовательных вызовов каждой из этих функций. Распараллелив вычисления при помощи `dask.delayed`, сократите время выполнения. Исследуйте, как зависит время вычислений от выбранного планировщика `scheduler`."
   ]
  },
  {
   "cell_type": "code",
   "execution_count": 3,
   "outputs": [],
   "source": [
    "def cpu_task():\n",
    "    return sum([random.random() for _ in range(100_000)])\n"
   ],
   "metadata": {
    "collapsed": false,
    "pycharm": {
     "name": "#%%\n"
    }
   }
  },
  {
   "cell_type": "code",
   "execution_count": 4,
   "outputs": [],
   "source": [
    "def io_task():\n",
    "    time.sleep(0.1)\n",
    "    return random.random()\n"
   ],
   "metadata": {
    "collapsed": false,
    "pycharm": {
     "name": "#%%\n"
    }
   }
  },
  {
   "cell_type": "code",
   "execution_count": 5,
   "outputs": [],
   "source": [
    "def task_runner(task: Callable, n: int = 100) -> None:\n",
    "    for _ in range(n):\n",
    "        task()\n"
   ],
   "metadata": {
    "collapsed": false,
    "pycharm": {
     "name": "#%%\n"
    }
   }
  },
  {
   "cell_type": "code",
   "execution_count": 6,
   "outputs": [
    {
     "name": "stdout",
     "output_type": "stream",
     "text": [
      "796 ms ± 36.4 ms per loop (mean ± std. dev. of 7 runs, 1 loop each)\n"
     ]
    }
   ],
   "source": [
    "%%timeit\n",
    "\n",
    "task_runner(cpu_task)"
   ],
   "metadata": {
    "collapsed": false,
    "pycharm": {
     "name": "#%%\n"
    }
   }
  },
  {
   "cell_type": "code",
   "execution_count": 7,
   "outputs": [
    {
     "name": "stdout",
     "output_type": "stream",
     "text": [
      "10.1 s ± 5.78 ms per loop (mean ± std. dev. of 7 runs, 1 loop each)\n"
     ]
    }
   ],
   "source": [
    "%%timeit\n",
    "\n",
    "task_runner(io_task)"
   ],
   "metadata": {
    "collapsed": false,
    "pycharm": {
     "name": "#%%\n"
    }
   }
  },
  {
   "cell_type": "code",
   "execution_count": 8,
   "outputs": [],
   "source": [
    "delayed_cpu_task = dask.delayed(cpu_task)\n",
    "delayed_io_task = dask.delayed(io_task)"
   ],
   "metadata": {
    "collapsed": false,
    "pycharm": {
     "name": "#%%\n"
    }
   }
  },
  {
   "cell_type": "code",
   "execution_count": 9,
   "outputs": [],
   "source": [
    "def delayed_task_runner(delayed_task: Delayed, n: int = 100, scheduler=None) -> None:\n",
    "    tasks = [delayed_task() for _ in range(n)]\n",
    "    dask.compute(tasks, scheduler=scheduler)\n"
   ],
   "metadata": {
    "collapsed": false,
    "pycharm": {
     "name": "#%%\n"
    }
   }
  },
  {
   "cell_type": "code",
   "execution_count": 10,
   "outputs": [
    {
     "name": "stdout",
     "output_type": "stream",
     "text": [
      "818 ms ± 11.6 ms per loop (mean ± std. dev. of 7 runs, 1 loop each)\n"
     ]
    }
   ],
   "source": [
    "%%timeit\n",
    "\n",
    "delayed_task_runner(delayed_cpu_task, scheduler='threads')"
   ],
   "metadata": {
    "collapsed": false,
    "pycharm": {
     "name": "#%%\n"
    }
   }
  },
  {
   "cell_type": "code",
   "execution_count": 11,
   "outputs": [
    {
     "name": "stdout",
     "output_type": "stream",
     "text": [
      "894 ms ± 94.1 ms per loop (mean ± std. dev. of 7 runs, 1 loop each)\n"
     ]
    }
   ],
   "source": [
    "%%timeit\n",
    "\n",
    "delayed_task_runner(delayed_cpu_task, scheduler='processes')"
   ],
   "metadata": {
    "collapsed": false,
    "pycharm": {
     "name": "#%%\n"
    }
   }
  },
  {
   "cell_type": "code",
   "execution_count": 12,
   "outputs": [
    {
     "name": "stdout",
     "output_type": "stream",
     "text": [
      "1.33 s ± 3.08 ms per loop (mean ± std. dev. of 7 runs, 1 loop each)\n"
     ]
    }
   ],
   "source": [
    "%%timeit\n",
    "\n",
    "delayed_task_runner(delayed_io_task, scheduler='threads')"
   ],
   "metadata": {
    "collapsed": false,
    "pycharm": {
     "name": "#%%\n"
    }
   }
  },
  {
   "cell_type": "code",
   "execution_count": 13,
   "outputs": [
    {
     "name": "stdout",
     "output_type": "stream",
     "text": [
      "2.12 s ± 1.85 ms per loop (mean ± std. dev. of 7 runs, 1 loop each)\n"
     ]
    }
   ],
   "source": [
    "%%timeit\n",
    "\n",
    "delayed_task_runner(delayed_io_task, scheduler='processes')"
   ],
   "metadata": {
    "collapsed": false,
    "pycharm": {
     "name": "#%%\n"
    }
   }
  },
  {
   "cell_type": "markdown",
   "metadata": {},
   "source": [
    "## Лабораторная работа 14"
   ]
  },
  {
   "cell_type": "markdown",
   "metadata": {},
   "source": [
    "1. Напишите функцию, которая считывает файл формата xml из каталога `reviewers_full` и по данным этого файла формирует список словарей, содержащих следующие ключи: `id`, `username`, `name`, `sex`, `country`, `mail`, `registered`, `birthdate`, `name_prefix`, `country_code`. Часть из этих значений в исходном файле хранится в виде тэгов, часть - в виде атрибутов тэгов. Для конкретного человека какие-то из этих ключей могут отсутствовать.\n"
   ]
  },
  {
   "cell_type": "code",
   "execution_count": 14,
   "outputs": [],
   "source": [
    "def get_text(name: str, tag: bs4.element.Tag) -> str | None:\n",
    "    _tag = tag.find(name)\n",
    "    return _tag and _tag.get_text()\n"
   ],
   "metadata": {
    "collapsed": false,
    "pycharm": {
     "name": "#%%\n"
    }
   }
  },
  {
   "cell_type": "code",
   "execution_count": 15,
   "outputs": [],
   "source": [
    "def parse_reviewers_xml(path: str) -> list[dict]:\n",
    "    with open(path) as f:\n",
    "        soup = bs4.BeautifulSoup(f)\n",
    "\n",
    "    user_list = []\n",
    "    for user in soup.find_all('user'):\n",
    "        user_get_text = partial(get_text, tag=user)\n",
    "\n",
    "        id_ = user_get_text('id')\n",
    "        username = user_get_text('username')\n",
    "        name = user_get_text('name')\n",
    "        sex = user_get_text('sex')\n",
    "        mail = user_get_text('mail')\n",
    "        registered = user_get_text('registered')\n",
    "        birthdate = user_get_text('birthdate')\n",
    "        name_prefix = user.get('prefix', None)\n",
    "        country_tag = user.find('country')\n",
    "        if country_tag:\n",
    "            country = country_tag.get_text()\n",
    "            country_code = country_tag.get('code', None)\n",
    "        else:\n",
    "            country = country_code = None\n",
    "\n",
    "        user_list.append({\n",
    "            'id': id_,\n",
    "            'username': username,\n",
    "            'name': name,\n",
    "            'sex': sex,\n",
    "            'mail': mail,\n",
    "            'registered': registered,\n",
    "            'birthdate': birthdate,\n",
    "            'name_prefix': name_prefix,\n",
    "            'country': country,\n",
    "            'country_code': country_code,\n",
    "        })\n",
    "\n",
    "    return user_list\n"
   ],
   "metadata": {
    "collapsed": false,
    "pycharm": {
     "name": "#%%\n"
    }
   }
  },
  {
   "cell_type": "code",
   "execution_count": 16,
   "outputs": [
    {
     "data": {
      "text/plain": "[{'id': '556011',\n  'username': 'gabrielacalhoun',\n  'name': None,\n  'sex': 'F',\n  'mail': None,\n  'registered': None,\n  'birthdate': '1988-01-25',\n  'name_prefix': 'Mrs.',\n  'country': None,\n  'country_code': None},\n {'id': '1251087',\n  'username': 'qbaxter',\n  'name': None,\n  'sex': None,\n  'mail': 'qware@gmail.com',\n  'registered': None,\n  'birthdate': '1985-01-19',\n  'name_prefix': None,\n  'country': 'Norway',\n  'country_code': 'NO'},\n {'id': '537188',\n  'username': 'crosschristopher',\n  'name': 'Dana Moore',\n  'sex': None,\n  'mail': 'stephaniestrong@yahoo.com',\n  'registered': '2018-11-21',\n  'birthdate': '1955-07-03',\n  'name_prefix': None,\n  'country': None,\n  'country_code': None},\n {'id': '250427',\n  'username': 'karen27',\n  'name': 'Jennifer Horne',\n  'sex': None,\n  'mail': 'wjarvis@yahoo.com',\n  'registered': '2013-11-20',\n  'birthdate': '2007-04-30',\n  'name_prefix': None,\n  'country': 'Cuba',\n  'country_code': 'CU'},\n {'id': '2945188',\n  'username': 'gambledanielle',\n  'name': 'Henry Harris',\n  'sex': None,\n  'mail': None,\n  'registered': '2011-04-08',\n  'birthdate': None,\n  'name_prefix': None,\n  'country': 'Serbia',\n  'country_code': 'RS'}]"
     },
     "execution_count": 16,
     "metadata": {},
     "output_type": "execute_result"
    }
   ],
   "source": [
    "parse_reviewers_xml(DATA_DIR.joinpath('reviewers_full/reviewers_full_0.xml'))[:5]"
   ],
   "metadata": {
    "collapsed": false,
    "pycharm": {
     "name": "#%%\n"
    }
   }
  },
  {
   "cell_type": "markdown",
   "metadata": {},
   "source": [
    "2. Измерьте время выполнения функции из задания 1 на всех файлах из архива. Ускорьте время выполнения, используя `dask.delayed`."
   ]
  },
  {
   "cell_type": "code",
   "execution_count": 17,
   "outputs": [],
   "source": [
    "path_list = [DATA_DIR.joinpath(f'reviewers_full/reviewers_full_{i}.xml') for i in range(5)]"
   ],
   "metadata": {
    "collapsed": false,
    "pycharm": {
     "name": "#%%\n"
    }
   }
  },
  {
   "cell_type": "code",
   "execution_count": 18,
   "outputs": [
    {
     "name": "stdout",
     "output_type": "stream",
     "text": [
      "Wall time: 1min 4s\n"
     ]
    }
   ],
   "source": [
    "%%time\n",
    "\n",
    "for path in path_list:\n",
    "    parse_reviewers_xml(path)"
   ],
   "metadata": {
    "collapsed": false,
    "pycharm": {
     "name": "#%%\n"
    }
   }
  },
  {
   "cell_type": "code",
   "execution_count": 19,
   "outputs": [],
   "source": [
    "parse_reviewers_xml_delayed = dask.delayed(parse_reviewers_xml, pure=True)"
   ],
   "metadata": {
    "collapsed": false,
    "pycharm": {
     "name": "#%%\n"
    }
   }
  },
  {
   "cell_type": "code",
   "execution_count": null,
   "outputs": [],
   "source": [
    "%%time\n",
    "\n",
    "dask.compute([parse_reviewers_xml_delayed(path) for path in path_list], scheduler='threads')"
   ],
   "metadata": {
    "collapsed": false,
    "pycharm": {
     "name": "#%%\n",
     "is_executing": true
    }
   }
  },
  {
   "cell_type": "code",
   "execution_count": null,
   "outputs": [],
   "source": [
    "%%time\n",
    "\n",
    "dask.compute([parse_reviewers_xml_delayed(path) for path in path_list], scheduler='processes')"
   ],
   "metadata": {
    "collapsed": false,
    "pycharm": {
     "name": "#%%\n",
     "is_executing": true
    }
   }
  },
  {
   "cell_type": "code",
   "execution_count": null,
   "outputs": [],
   "source": [
    "%%time\n",
    "\n",
    "dask.compute([parse_reviewers_xml_delayed(path) for path in path_list], scheduler='processes')"
   ],
   "metadata": {
    "collapsed": false,
    "pycharm": {
     "name": "#%%\n",
     "is_executing": true
    }
   }
  },
  {
   "cell_type": "code",
   "execution_count": null,
   "outputs": [],
   "source": [
    "from src.worker import parse_reviewers_xml as parse_reviewers_xml_\n",
    "from concurrent.futures import ThreadPoolExecutor, ProcessPoolExecutor"
   ],
   "metadata": {
    "collapsed": false,
    "pycharm": {
     "name": "#%%\n",
     "is_executing": true
    }
   }
  },
  {
   "cell_type": "code",
   "execution_count": null,
   "outputs": [],
   "source": [
    "%%time\n",
    "\n",
    "with ThreadPoolExecutor() as pool:\n",
    "    pool.map(parse_reviewers_xml_, path_list)"
   ],
   "metadata": {
    "collapsed": false,
    "pycharm": {
     "name": "#%%\n",
     "is_executing": true
    }
   }
  },
  {
   "cell_type": "code",
   "execution_count": null,
   "outputs": [],
   "source": [
    "%%time\n",
    "\n",
    "with ProcessPoolExecutor() as pool:\n",
    "    pool.map(parse_reviewers_xml_, path_list)"
   ],
   "metadata": {
    "collapsed": false,
    "pycharm": {
     "name": "#%%\n",
     "is_executing": true
    }
   }
  },
  {
   "cell_type": "markdown",
   "metadata": {},
   "source": [
    "3. Задекорируйте функцию из задания 1 при помощи `dask.delayed` и создайте список `reviewers`, состоящий из 5 объектов `delayed` (по одному объекту на файл). Из списка объектов `delayed`, создайте `dask.bag` при помощи метода `db.from_delayed`. Добавьте ключ `birth_year`, в котором хранится год рождения человека. Оставьте в выборке только тех людей, которые __наверняка__ моложе 1980 года. Преобразуйте поле `id` к целому типу."
   ]
  },
  {
   "cell_type": "code",
   "execution_count": null,
   "outputs": [],
   "source": [
    "users_bag = db.from_delayed([parse_reviewers_xml_delayed(path) for path in path_list])"
   ],
   "metadata": {
    "collapsed": false,
    "pycharm": {
     "name": "#%%\n",
     "is_executing": true
    }
   }
  },
  {
   "cell_type": "code",
   "execution_count": null,
   "outputs": [],
   "source": [
    "processed_users_bag = (users_bag\n",
    "                 .map(lambda x: {**x, 'birth_year': int(x['birthdate'][:4]) if x['birthdate'] else None})\n",
    "                 .filter(lambda x: x['birth_year'] and x['birth_year'] > 1980)\n",
    "                 .map(lambda x: {**x, 'id': int(x['id'])}))"
   ],
   "metadata": {
    "collapsed": false,
    "pycharm": {
     "name": "#%%\n",
     "is_executing": true
    }
   }
  },
  {
   "cell_type": "code",
   "execution_count": null,
   "outputs": [],
   "source": [
    "processed_users_bag.take(5)"
   ],
   "metadata": {
    "collapsed": false,
    "pycharm": {
     "name": "#%%\n",
     "is_executing": true
    }
   }
  },
  {
   "cell_type": "markdown",
   "metadata": {},
   "source": [
    "4. Из `dask.bag`, полученного в задании 3, создайте `dask.dataframe` при помощи метода `bag.to_dataframe`. Укажите столбец `id` в качестве индекса."
   ]
  },
  {
   "cell_type": "code",
   "execution_count": null,
   "outputs": [],
   "source": [
    "users_df: dask.dataframe.DataFrame = processed_users_bag.to_dataframe().set_index('id')"
   ],
   "metadata": {
    "collapsed": false,
    "pycharm": {
     "name": "#%%\n",
     "is_executing": true
    }
   }
  },
  {
   "cell_type": "code",
   "execution_count": null,
   "outputs": [],
   "source": [
    "users_df.head()"
   ],
   "metadata": {
    "collapsed": false,
    "pycharm": {
     "name": "#%%\n",
     "is_executing": true
    }
   }
  },
  {
   "cell_type": "markdown",
   "metadata": {},
   "source": [
    "5. Назовем отзыв негативным, если оценка равна 0, 1 или 2. Загрузите данные о негативных отзывах из файлов архива `reviews_full` (__ЛР12__) в виде `dask.DataFrame`. Посчитайте количество отзывов с группировкой по пользователю, оставившему отзыв. Объедините результат с таблицей, полученной в задаче 4."
   ]
  },
  {
   "cell_type": "code",
   "execution_count": null,
   "metadata": {
    "pycharm": {
     "is_executing": true
    }
   },
   "outputs": [],
   "source": [
    "def is_negative(rating: int):\n",
    "    return rating < 3\n"
   ]
  },
  {
   "cell_type": "code",
   "execution_count": null,
   "outputs": [],
   "source": [
    "pattern = re.compile(r'^.*reviews_(\\d+)\\.json$')\n",
    "\n",
    "\n",
    "def loads(element: tuple[str, str]) -> dict:\n",
    "    data, path = element\n",
    "    return {\n",
    "        'user_id': json.loads(data)['user_id'],\n",
    "        'rating': int(pattern.match(path).groups()[0])\n",
    "    }\n",
    "\n",
    "\n",
    "reviews_bag = db.read_text(\n",
    "    DATA_DIR.joinpath('reviews_full/*.json'),\n",
    "    include_path=True,\n",
    "    blocksize=30_000_000,\n",
    ").map(loads).filter(lambda x: is_negative(x['rating']))\n",
    "\n",
    "reviews_bag.take(3)"
   ],
   "metadata": {
    "collapsed": false,
    "pycharm": {
     "name": "#%%\n",
     "is_executing": true
    }
   }
  },
  {
   "cell_type": "code",
   "execution_count": null,
   "outputs": [],
   "source": [
    "reviews_df = reviews_bag.to_dataframe()"
   ],
   "metadata": {
    "collapsed": false,
    "pycharm": {
     "name": "#%%\n",
     "is_executing": true
    }
   }
  },
  {
   "cell_type": "code",
   "execution_count": null,
   "outputs": [],
   "source": [
    "rating_count_df = reviews_df.groupby('user_id').count().rename(columns={'rating': 'n_neg_reviews'})"
   ],
   "metadata": {
    "collapsed": false,
    "pycharm": {
     "name": "#%%\n",
     "is_executing": true
    }
   }
  },
  {
   "cell_type": "code",
   "execution_count": null,
   "outputs": [],
   "source": [
    "joined_df = users_df.join(rating_count_df)"
   ],
   "metadata": {
    "collapsed": false,
    "pycharm": {
     "name": "#%%\n",
     "is_executing": true
    }
   }
  },
  {
   "cell_type": "code",
   "execution_count": null,
   "outputs": [],
   "source": [
    "result = joined_df.compute()"
   ],
   "metadata": {
    "collapsed": false,
    "pycharm": {
     "name": "#%%\n",
     "is_executing": true
    }
   }
  },
  {
   "cell_type": "code",
   "execution_count": null,
   "outputs": [],
   "source": [
    "result"
   ],
   "metadata": {
    "collapsed": false,
    "pycharm": {
     "name": "#%%\n",
     "is_executing": true
    }
   }
  }
 ],
 "metadata": {
  "kernelspec": {
   "display_name": "Python 3",
   "language": "python",
   "name": "python3"
  },
  "language_info": {
   "codemirror_mode": {
    "name": "ipython",
    "version": 3
   },
   "file_extension": ".py",
   "mimetype": "text/x-python",
   "name": "python",
   "nbconvert_exporter": "python",
   "pygments_lexer": "ipython3",
   "version": "3.8.3"
  }
 },
 "nbformat": 4,
 "nbformat_minor": 4
}