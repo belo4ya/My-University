{
 "cells": [
  {
   "cell_type": "markdown",
   "metadata": {},
   "source": [
    "# Работа с базами данных"
   ]
  },
  {
   "cell_type": "markdown",
   "metadata": {},
   "source": [
    "Материалы:\n",
    "* Макрушин С.В. Лекция 6: Работа с базами данных\n",
    "* https://sqliteonline.com/\n",
    "* https://docs.python.org/3/library/sqlite3.html\n",
    "* https://www.geeksforgeeks.org/sql-join-set-1-inner-left-right-and-full-joins/\n",
    "* https://www.datacamp.com/community/tutorials/group-by-having-clause-sql"
   ]
  },
  {
   "cell_type": "code",
   "execution_count": 1,
   "outputs": [],
   "source": [
    "from __future__ import annotations\n",
    "\n",
    "import csv\n",
    "import sqlite3\n",
    "from datetime import datetime"
   ],
   "metadata": {
    "collapsed": false,
    "pycharm": {
     "name": "#%%\n"
    }
   }
  },
  {
   "cell_type": "code",
   "execution_count": 2,
   "outputs": [],
   "source": [
    "def as_int(x: str) -> int | None:\n",
    "    try:\n",
    "        return int(float(x))\n",
    "    except ValueError:\n",
    "        return None\n",
    "\n",
    "\n",
    "def as_float(x: str) -> float | None:\n",
    "    try:\n",
    "        return float(x)\n",
    "    except ValueError:\n",
    "        return None\n",
    "\n",
    "\n",
    "def as_timestamp(x: str, fmt='%Y-%m-%d') -> int:\n",
    "    return int(datetime.strptime(x, fmt).timestamp())"
   ],
   "metadata": {
    "collapsed": false,
    "pycharm": {
     "name": "#%%\n"
    }
   }
  },
  {
   "cell_type": "code",
   "execution_count": 7,
   "outputs": [],
   "source": [
    "con = sqlite3.connect('data/db/Chinook_Sqlite.sqlite')\n",
    "cur = con.cursor()"
   ],
   "metadata": {
    "collapsed": false,
    "pycharm": {
     "name": "#%%\n"
    }
   }
  },
  {
   "cell_type": "markdown",
   "metadata": {},
   "source": [
    "## Задачи для совместного разбора"
   ]
  },
  {
   "cell_type": "markdown",
   "metadata": {},
   "source": [
    "1. Работая с базой данных `Chinook_Sqlite.sqlite`, найдите и выведите на экран имена и фамилии всех заказчиков из Канады"
   ]
  },
  {
   "cell_type": "code",
   "execution_count": 8,
   "outputs": [
    {
     "data": {
      "text/plain": "[('François', 'Tremblay'),\n ('Mark', 'Philips'),\n ('Jennifer', 'Peterson'),\n ('Robert', 'Brown'),\n ('Edward', 'Francis'),\n ('Martha', 'Silk'),\n ('Aaron', 'Mitchell'),\n ('Ellie', 'Sullivan')]"
     },
     "execution_count": 8,
     "metadata": {},
     "output_type": "execute_result"
    }
   ],
   "source": [
    "stmt = \"\"\"\n",
    "select FirstName, LastName from Customer where Country == 'Canada';\n",
    "\"\"\"\n",
    "cur.execute(stmt)\n",
    "cur.fetchall()"
   ],
   "metadata": {
    "collapsed": false,
    "pycharm": {
     "name": "#%%\n"
    }
   }
  },
  {
   "cell_type": "markdown",
   "metadata": {},
   "source": [
    "2. Найти и вывести на экран названия всех альбомов группы Accept"
   ]
  },
  {
   "cell_type": "code",
   "execution_count": 10,
   "outputs": [
    {
     "ename": "ProgrammingError",
     "evalue": "Cannot operate on a closed database.",
     "output_type": "error",
     "traceback": [
      "\u001B[1;31m---------------------------------------------------------------------------\u001B[0m",
      "\u001B[1;31mProgrammingError\u001B[0m                          Traceback (most recent call last)",
      "\u001B[1;32m~\\AppData\\Local\\Temp/ipykernel_15480/3069045581.py\u001B[0m in \u001B[0;36m<module>\u001B[1;34m\u001B[0m\n\u001B[0;32m      3\u001B[0m \u001B[0mwhere\u001B[0m \u001B[0mArtistId\u001B[0m \u001B[1;33m=\u001B[0m \u001B[1;33m(\u001B[0m\u001B[0mselect\u001B[0m \u001B[0mArtistId\u001B[0m \u001B[1;32mfrom\u001B[0m \u001B[0mArtist\u001B[0m \u001B[0mwhere\u001B[0m \u001B[0mName\u001B[0m \u001B[1;33m==\u001B[0m \u001B[1;34m'Accept'\u001B[0m\u001B[1;33m)\u001B[0m\u001B[1;33m;\u001B[0m\u001B[1;33m\u001B[0m\u001B[1;33m\u001B[0m\u001B[0m\n\u001B[0;32m      4\u001B[0m \"\"\"\n\u001B[1;32m----> 5\u001B[1;33m \u001B[0mcur\u001B[0m\u001B[1;33m.\u001B[0m\u001B[0mexecute\u001B[0m\u001B[1;33m(\u001B[0m\u001B[0mstmt\u001B[0m\u001B[1;33m)\u001B[0m\u001B[1;33m\u001B[0m\u001B[1;33m\u001B[0m\u001B[0m\n\u001B[0m\u001B[0;32m      6\u001B[0m \u001B[0mprint\u001B[0m\u001B[1;33m(\u001B[0m\u001B[0mcur\u001B[0m\u001B[1;33m.\u001B[0m\u001B[0mfetchall\u001B[0m\u001B[1;33m(\u001B[0m\u001B[1;33m)\u001B[0m\u001B[1;33m)\u001B[0m\u001B[1;33m\u001B[0m\u001B[1;33m\u001B[0m\u001B[0m\n\u001B[0;32m      7\u001B[0m \u001B[0mcon\u001B[0m\u001B[1;33m.\u001B[0m\u001B[0mclose\u001B[0m\u001B[1;33m(\u001B[0m\u001B[1;33m)\u001B[0m\u001B[1;33m\u001B[0m\u001B[1;33m\u001B[0m\u001B[0m\n",
      "\u001B[1;31mProgrammingError\u001B[0m: Cannot operate on a closed database."
     ]
    }
   ],
   "source": [
    "stmt = \"\"\"\n",
    "select Title from Album\n",
    "where ArtistId = (select ArtistId from Artist where Name == 'Accept');\n",
    "\"\"\"\n",
    "cur.execute(stmt)\n",
    "print(cur.fetchall())\n",
    "con.close()"
   ],
   "metadata": {
    "collapsed": false,
    "pycharm": {
     "name": "#%%\n"
    }
   }
  },
  {
   "cell_type": "markdown",
   "metadata": {},
   "source": [
    "3. Создайте базу данных с названием вашей группы. В этой базе данных создайте таблицу Student, содержащую 2 столбца: id и name. Добавьте в таблицу Student информацию о студентах, сидящих с вами по соседству."
   ]
  },
  {
   "cell_type": "code",
   "execution_count": 11,
   "outputs": [],
   "source": [
    "con = sqlite3.connect('data/db/pi19_3.sqlite')\n",
    "cur = con.cursor()"
   ],
   "metadata": {
    "collapsed": false,
    "pycharm": {
     "name": "#%%\n"
    }
   }
  },
  {
   "cell_type": "code",
   "execution_count": 12,
   "outputs": [
    {
     "data": {
      "text/plain": "<sqlite3.Cursor at 0x29cbfa9f500>"
     },
     "execution_count": 12,
     "metadata": {},
     "output_type": "execute_result"
    }
   ],
   "source": [
    "stmt = \"\"\"\n",
    "create table if not exists Student (\n",
    "    id integer not null primary key,\n",
    "    name varchar not null\n",
    ")\n",
    "\"\"\"\n",
    "cur.execute(stmt)"
   ],
   "metadata": {
    "collapsed": false,
    "pycharm": {
     "name": "#%%\n"
    }
   }
  },
  {
   "cell_type": "code",
   "execution_count": 13,
   "outputs": [],
   "source": [
    "stmt = \"\"\"\n",
    "insert into Student (name) values ('Alexey Kovalev');\n",
    "\"\"\"\n",
    "cur.execute(stmt)\n",
    "con.commit()"
   ],
   "metadata": {
    "collapsed": false,
    "pycharm": {
     "name": "#%%\n"
    }
   }
  },
  {
   "cell_type": "code",
   "execution_count": 14,
   "outputs": [
    {
     "data": {
      "text/plain": "[(1, 'Alexey Kovalev')]"
     },
     "execution_count": 14,
     "metadata": {},
     "output_type": "execute_result"
    }
   ],
   "source": [
    "stmt = \"\"\"\n",
    "select * from Student\n",
    "\"\"\"\n",
    "cur.execute(stmt)\n",
    "students = cur.fetchall()\n",
    "con.close()\n",
    "students"
   ],
   "metadata": {
    "collapsed": false,
    "pycharm": {
     "name": "#%%\n"
    }
   }
  },
  {
   "cell_type": "markdown",
   "metadata": {},
   "source": [
    "## Лабораторная работа 6"
   ]
  },
  {
   "cell_type": "markdown",
   "metadata": {},
   "source": [
    "1. Создайте файл базы данных c названием `recipes.db`. Создайте объект-курсор. "
   ]
  },
  {
   "cell_type": "code",
   "execution_count": 15,
   "outputs": [],
   "source": [
    "con = sqlite3.connect('data/db/recipes.db')\n",
    "cur = con.cursor()"
   ],
   "metadata": {
    "collapsed": false,
    "pycharm": {
     "name": "#%%\n"
    }
   }
  },
  {
   "cell_type": "markdown",
   "metadata": {},
   "source": [
    "2. Напишите и выполните SQL-запрос для создания таблицы рецептов `Recipe`. Таблица должна содержать следующие поля:\n",
    "`id`, `name`, `minutes`, `submitted`, `description`, `n_ingredients`. Определитесь с типами и составом ключевых полей."
   ]
  },
  {
   "cell_type": "code",
   "execution_count": 16,
   "outputs": [
    {
     "data": {
      "text/plain": "<sqlite3.Cursor at 0x29cbfa908f0>"
     },
     "execution_count": 16,
     "metadata": {},
     "output_type": "execute_result"
    }
   ],
   "source": [
    "stmt = \"\"\"\n",
    "drop table if exists Recipe\n",
    "\"\"\"\n",
    "cur.execute(stmt)\n",
    "\n",
    "stmt = \"\"\"\n",
    "create table if not exists Recipe (\n",
    "    id integer not null,\n",
    "    name varchar,\n",
    "    minutes real,\n",
    "    submitted integer,\n",
    "    description text,\n",
    "    n_ingredients integer,\n",
    "    constraint 'recipe_pk' primary key (id)\n",
    ")\n",
    "\"\"\"\n",
    "cur.execute(stmt)"
   ],
   "metadata": {
    "collapsed": false,
    "pycharm": {
     "name": "#%%\n"
    }
   }
  },
  {
   "cell_type": "markdown",
   "metadata": {},
   "source": [
    "3. Напишите и выполните SQL-запрос для создания таблицы отзывов `Review`. Таблица должна содержать следующие поля:\n",
    "`id`, `user_id`, `recipe_id`, `date`, `rating`, `review`. Определитесь с типами полей, набором ключевых полей. При помощи внешнего ключа соедините две таблицы."
   ]
  },
  {
   "cell_type": "code",
   "execution_count": 17,
   "outputs": [],
   "source": [
    "stmt = \"\"\"\n",
    "drop table if exists Review\n",
    "\"\"\"\n",
    "cur.execute(stmt)\n",
    "\n",
    "stmt = \"\"\"\n",
    "create table if not exists Review (\n",
    "    id integer not null,\n",
    "    user_id integer,\n",
    "    recipe_id integer,\n",
    "    date integer,\n",
    "    rating real,\n",
    "    review text,\n",
    "    constraint 'review_pk' primary key (id),\n",
    "    constraint 'recipe_fk' foreign key (recipe_id) references Recipe(id)\n",
    ")\n",
    "\"\"\"\n",
    "cur.execute(stmt)\n",
    "con.commit()"
   ],
   "metadata": {
    "collapsed": false,
    "pycharm": {
     "name": "#%%\n"
    }
   }
  },
  {
   "cell_type": "markdown",
   "metadata": {},
   "source": [
    "4. Загрузите данные из файлов `reviews_sample.csv` (__ЛР2__) и `recipes_sample_with_tags_ingredients.csv` (__ЛР5__) в созданные таблицы"
   ]
  },
  {
   "cell_type": "code",
   "execution_count": 20,
   "outputs": [],
   "source": [
    "with open('data/csv/reviews_sample.csv', encoding='utf-8') as f:\n",
    "    reader = csv.reader(f, delimiter=',')\n",
    "    next(reader)\n",
    "    cast = [\n",
    "        as_int,\n",
    "        as_int,\n",
    "        as_int,\n",
    "        as_timestamp,\n",
    "        as_float,\n",
    "        str\n",
    "    ]\n",
    "    data = [[cast[i](row[i]) for i in range(len(row))] for row in reader]"
   ],
   "metadata": {
    "collapsed": false,
    "pycharm": {
     "name": "#%%\n"
    }
   }
  },
  {
   "cell_type": "code",
   "execution_count": 21,
   "outputs": [],
   "source": [
    "stmt = \"\"\"\n",
    "insert into Review (id, user_id, recipe_id, date, rating, review) values (?, ?, ?, ?, ?, ?)\n",
    "\"\"\"\n",
    "cur.executemany(stmt, data)\n",
    "con.commit()"
   ],
   "metadata": {
    "collapsed": false,
    "pycharm": {
     "name": "#%%\n"
    }
   }
  },
  {
   "cell_type": "code",
   "execution_count": 23,
   "outputs": [],
   "source": [
    "with open('data/csv/recipes_sample_with_filled_nsteps.csv', encoding='utf-8') as f:\n",
    "    reader = csv.reader(f, delimiter=',')\n",
    "    next(reader)\n",
    "    index = [2, 1, 3, 5, 7, 8]\n",
    "    cast = [as_int, str, as_float, as_timestamp, str, as_int]\n",
    "    data = [[cast[j](row[i]) for j, i in enumerate(index)] for row in reader]"
   ],
   "metadata": {
    "collapsed": false,
    "pycharm": {
     "name": "#%%\n"
    }
   }
  },
  {
   "cell_type": "code",
   "execution_count": 24,
   "outputs": [],
   "source": [
    "stmt = \"\"\"\n",
    "insert into Recipe (id, name, minutes, submitted, description, n_ingredients) values (?, ?, ?, ?, ?, ?)\n",
    "\"\"\"\n",
    "cur.executemany(stmt, data)\n",
    "con.commit()"
   ],
   "metadata": {
    "collapsed": false,
    "pycharm": {
     "name": "#%%\n"
    }
   }
  },
  {
   "cell_type": "markdown",
   "metadata": {},
   "source": [
    "5. Найдите все рецепты, для выполнения которых нужно ровно 10 ингредиентов. Выведите на экран первые 5 из найденных рецептов."
   ]
  },
  {
   "cell_type": "code",
   "execution_count": 25,
   "outputs": [
    {
     "data": {
      "text/plain": "[(246, 'lee s hot crab dip', 45.0, 936133200, \"lee's hot crab dip\", 10),\n (289,\n  'feijoada  brazilian bean soup  ii',\n  150.0,\n  938984400,\n  'brazilian bean soup',\n  10),\n (544, 'greek mushroom salad', 38.0, 934232400, '', 10),\n (671, 'cucumber relish', 40.0, 936910800, '', 10),\n (975,\n  'basil parmesan biscuits',\n  27.0,\n  934578000,\n  'perfect with pasta or other italian dishes',\n  10)]"
     },
     "execution_count": 25,
     "metadata": {},
     "output_type": "execute_result"
    }
   ],
   "source": [
    "stmt = \"\"\"\n",
    "select * from Recipe where n_ingredients == 10 limit 5;\n",
    "\"\"\"\n",
    "cur.execute(stmt)\n",
    "cur.fetchall()"
   ],
   "metadata": {
    "collapsed": false,
    "pycharm": {
     "name": "#%%\n"
    }
   }
  },
  {
   "cell_type": "markdown",
   "metadata": {},
   "source": [
    "6. Найдите название рецепта, для выполнения которого требуется больше всего времени."
   ]
  },
  {
   "cell_type": "code",
   "execution_count": 26,
   "outputs": [
    {
     "data": {
      "text/plain": "[('strawberry liqueur',), ('blueberry liqueur',)]"
     },
     "execution_count": 26,
     "metadata": {},
     "output_type": "execute_result"
    }
   ],
   "source": [
    "stmt = \"\"\"\n",
    "select name from Recipe where minutes == (select max(minutes) from Recipe);\n",
    "\"\"\"\n",
    "cur.execute(stmt)\n",
    "cur.fetchall()"
   ],
   "metadata": {
    "collapsed": false,
    "pycharm": {
     "name": "#%%\n"
    }
   }
  },
  {
   "cell_type": "markdown",
   "metadata": {},
   "source": [
    "7. Запросите у пользователя id рецепта и верните информацию об этом рецепте. Если рецепт отсуствует, выведите соответствующее сообщение."
   ]
  },
  {
   "cell_type": "code",
   "execution_count": 27,
   "outputs": [],
   "source": [
    "\n",
    "def find_recipe_by_id():\n",
    "    recipe_id = input('recipe_id: ')\n",
    "    if not recipe_id.isdecimal():\n",
    "        print('Not id')\n",
    "        return\n",
    "\n",
    "    recipe_id = int(recipe_id)\n",
    "    stmt = \"\"\"\n",
    "    select * from Recipe where id == ?\n",
    "    \"\"\"\n",
    "    cur.execute(stmt, [recipe_id])\n",
    "    res = cur.fetchone()\n",
    "\n",
    "    if not res:\n",
    "        print('Not found')\n",
    "        return\n",
    "\n",
    "    return res"
   ],
   "metadata": {
    "collapsed": false,
    "pycharm": {
     "name": "#%%\n"
    }
   }
  },
  {
   "cell_type": "code",
   "execution_count": 29,
   "outputs": [
    {
     "data": {
      "text/plain": "(48, 'boston cream pie', 135.0, 935442000, '', 15)"
     },
     "execution_count": 29,
     "metadata": {},
     "output_type": "execute_result"
    }
   ],
   "source": [
    "find_recipe_by_id()"
   ],
   "metadata": {
    "collapsed": false,
    "pycharm": {
     "name": "#%%\n"
    }
   }
  },
  {
   "cell_type": "code",
   "execution_count": 30,
   "outputs": [
    {
     "name": "stdout",
     "output_type": "stream",
     "text": [
      "Not found\n"
     ]
    }
   ],
   "source": [
    "find_recipe_by_id()"
   ],
   "metadata": {
    "collapsed": false,
    "pycharm": {
     "name": "#%%\n"
    }
   }
  },
  {
   "cell_type": "markdown",
   "metadata": {},
   "source": [
    "8. Найдите кол-во отзывов с рейтингом 5."
   ]
  },
  {
   "cell_type": "code",
   "execution_count": 31,
   "outputs": [
    {
     "data": {
      "text/plain": "(91361,)"
     },
     "execution_count": 31,
     "metadata": {},
     "output_type": "execute_result"
    }
   ],
   "source": [
    "stmt = \"\"\"\n",
    "select count(*) from Review where rating == 5\n",
    "\"\"\"\n",
    "cur.execute(stmt)\n",
    "cur.fetchone()"
   ],
   "metadata": {
    "collapsed": false,
    "pycharm": {
     "name": "#%%\n"
    }
   }
  },
  {
   "cell_type": "markdown",
   "metadata": {},
   "source": [
    "9. Найдите кол-во уникальных рецептов, не имеющих отзывов с рейтингом, меньше 4. "
   ]
  },
  {
   "cell_type": "code",
   "execution_count": 34,
   "outputs": [
    {
     "data": {
      "text/plain": "(26318,)"
     },
     "execution_count": 34,
     "metadata": {},
     "output_type": "execute_result"
    }
   ],
   "source": [
    "stmt = \"\"\"\n",
    "select count(distinct recipe_id) from Review where rating >= 4\n",
    "\"\"\"\n",
    "cur.execute(stmt)\n",
    "cur.fetchone()"
   ],
   "metadata": {
    "collapsed": false,
    "pycharm": {
     "name": "#%%\n"
    }
   }
  },
  {
   "cell_type": "markdown",
   "metadata": {},
   "source": [
    "10. Найдите кол-во рецептов, опубликованных в 2010 году и имеющих длину не менее 15 минут."
   ]
  },
  {
   "cell_type": "code",
   "execution_count": 36,
   "outputs": [
    {
     "data": {
      "text/plain": "(1318,)"
     },
     "execution_count": 36,
     "metadata": {},
     "output_type": "execute_result"
    }
   ],
   "source": [
    "stmt = \"\"\"\n",
    "select count(id) from Recipe\n",
    "where strftime('%Y', datetime(submitted, 'unixepoch')) == '2010' and minutes >= 15\n",
    "\"\"\"\n",
    "cur.execute(stmt)\n",
    "cur.fetchone()"
   ],
   "metadata": {
    "collapsed": false,
    "pycharm": {
     "name": "#%%\n"
    }
   }
  },
  {
   "cell_type": "markdown",
   "metadata": {},
   "source": [
    "11. Выберите id рецепта, название рецепта, id пользователя, оставившего отзыв, дату отзыва и рейтинг для тех рецептов, которые имеют не менее 3 ингредиентов. Отсортируйте результат по id рецепта."
   ]
  },
  {
   "cell_type": "code",
   "execution_count": 37,
   "outputs": [
    {
     "data": {
      "text/plain": "[(48, 'boston cream pie', 32421, 1016139600, 0.0),\n (48, 'boston cream pie', 68674, 1083531600, 2.0),\n (55, 'betty crocker s southwestern guacamole dip', 53959, 1137013200, 4.0),\n (55, 'betty crocker s southwestern guacamole dip', 165567, 1143752400, 5.0),\n (55, 'betty crocker s southwestern guacamole dip', 851190, 1274562000, 5.0),\n (55, 'betty crocker s southwestern guacamole dip', 1060485, 1239051600, 5.0),\n (66, 'black coffee barbecue sauce', 8679, 1047848400, 5.0),\n (66, 'black coffee barbecue sauce', 42938, 1035147600, 4.0),\n (66, 'black coffee barbecue sauce', 124416, 1278536400, 5.0),\n (66, 'black coffee barbecue sauce', 133174, 1278190800, 5.0),\n (66, 'black coffee barbecue sauce', 136004, 1212613200, 5.0),\n (66, 'black coffee barbecue sauce', 136813, 1176498000, 5.0),\n (66, 'black coffee barbecue sauce', 176798, 1285966800, 5.0),\n (66, 'black coffee barbecue sauce', 314792, 1202072400, 5.0),\n (66, 'black coffee barbecue sauce', 330545, 1230843600, 5.0),\n (66, 'black coffee barbecue sauce', 352271, 1194210000, 5.0),\n (66, 'black coffee barbecue sauce', 383346, 1278622800, 5.0),\n (66, 'black coffee barbecue sauce', 498631, 1178830800, 5.0),\n (66, 'black coffee barbecue sauce', 675265, 1231534800, 5.0),\n (66, 'black coffee barbecue sauce', 679953, 1301259600, 5.0),\n (66, 'black coffee barbecue sauce', 744425, 1278795600, 5.0),\n (66, 'black coffee barbecue sauce', 983723, 1274562000, 5.0),\n (66, 'black coffee barbecue sauce', 2300352, 1362430800, 5.0),\n (66, 'black coffee barbecue sauce', 2001180732, 1474664400, 5.0),\n (128, 'caramel apple milkshakes', 804550, 1233435600, 5.0),\n (128, 'caramel apple milkshakes', 983863, 1274734800, 5.0),\n (153, 'amish friendship bread and starter', 1535, 1208293200, 5.0),\n (153, 'amish friendship bread and starter', 3114, 972853200, 4.0),\n (153, 'amish friendship bread and starter', 20375, 1077915600, 5.0),\n (153, 'amish friendship bread and starter', 49287, 1027544400, 5.0),\n (153, 'amish friendship bread and starter', 51011, 1174424400, 5.0),\n (153, 'amish friendship bread and starter', 54697, 1067288400, 5.0),\n (153, 'amish friendship bread and starter', 58786, 1271970000, 5.0),\n (153, 'amish friendship bread and starter', 72179, 1049058000, 5.0),\n (153, 'amish friendship bread and starter', 75020, 1051650000, 5.0),\n (153, 'amish friendship bread and starter', 104392, 1161291600, 4.0),\n (153, 'amish friendship bread and starter', 110328, 1085778000, 5.0),\n (153, 'amish friendship bread and starter', 121497, 1076360400, 5.0),\n (153, 'amish friendship bread and starter', 140008, 1164056400, 5.0),\n (153, 'amish friendship bread and starter', 177753, 1215637200, 5.0),\n (153, 'amish friendship bread and starter', 179471, 1102885200, 0.0),\n (153, 'amish friendship bread and starter', 180952, 1264539600, 5.0),\n (153, 'amish friendship bread and starter', 210406, 1124485200, 5.0),\n (153, 'amish friendship bread and starter', 212714, 1119387600, 0.0),\n (153, 'amish friendship bread and starter', 221546, 1128200400, 0.0),\n (153, 'amish friendship bread and starter', 227810, 1125867600, 5.0),\n (153, 'amish friendship bread and starter', 259154, 1220302800, 5.0),\n (153, 'amish friendship bread and starter', 271256, 1133902800, 5.0),\n (153, 'amish friendship bread and starter', 281399, 1219611600, 5.0),\n (153, 'amish friendship bread and starter', 353381, 1252962000, 5.0),\n (153, 'amish friendship bread and starter', 413880, 1169240400, 5.0),\n (153, 'amish friendship bread and starter', 434572, 1171746000, 5.0),\n (153, 'amish friendship bread and starter', 465080, 1270846800, 5.0),\n (153, 'amish friendship bread and starter', 522275, 1235422800, 5.0),\n (153, 'amish friendship bread and starter', 600001, 1209243600, 5.0),\n (153, 'amish friendship bread and starter', 607333, 1264539600, 0.0),\n (153, 'amish friendship bread and starter', 607815, 1212872400, 0.0),\n (153, 'amish friendship bread and starter', 607948, 1191704400, 5.0),\n (153, 'amish friendship bread and starter', 738763, 1248382800, 5.0),\n (153, 'amish friendship bread and starter', 804851, 1274994000, 5.0),\n (153, 'amish friendship bread and starter', 828845, 1209416400, 5.0),\n (153, 'amish friendship bread and starter', 888256, 1267131600, 0.0),\n (153, 'amish friendship bread and starter', 994748, 1266181200, 0.0),\n (153, 'amish friendship bread and starter', 1020526, 1336251600, 5.0),\n (153, 'amish friendship bread and starter', 2001658197, 1501880400, 0.0),\n (181, 'chicken with portabella mushrooms', 17803, 1110142800, 4.0),\n (181, 'chicken with portabella mushrooms', 62086, 1086123600, 3.0),\n (181, 'chicken with portabella mushrooms', 68210, 1044738000, 1.0),\n (186, 'coca cola cake', 61954, 1078434000, 4.0),\n (186, 'coca cola cake', 168451, 1297198800, 4.0),\n (186, 'coca cola cake', 464624, 1252875600, 5.0),\n (186, 'coca cola cake', 497152, 1256504400, 5.0),\n (186, 'coca cola cake', 502974, 1179867600, 5.0),\n (186, 'coca cola cake', 600146, 1307480400, 5.0),\n (186, 'coca cola cake', 868637, 1276290000, 5.0),\n (186, 'coca cola cake', 1183163, 1248555600, 5.0),\n (186, 'coca cola cake', 1803534132, 1436907600, 5.0),\n (203, 'chinese plum sauce', 41177, 1021755600, 5.0),\n (203, 'chinese plum sauce', 50778, 1032987600, 4.0),\n (203, 'chinese plum sauce', 90086, 1135803600, 5.0),\n (203, 'chinese plum sauce', 174547, 1123794000, 5.0),\n (203, 'chinese plum sauce', 278118, 1285966800, 5.0),\n (203, 'chinese plum sauce', 526158, 1182891600, 5.0),\n (203, 'chinese plum sauce', 839452, 1276290000, 5.0),\n (203, 'chinese plum sauce', 915023, 1222376400, 4.0),\n (203, 'chinese plum sauce', 1413665, 1262984400, 5.0),\n (203, 'chinese plum sauce', 1551553, 1266181200, 4.0),\n (203, 'chinese plum sauce', 2396877, 1347224400, 0.0),\n (203, 'chinese plum sauce', 2670224, 1359666000, 4.0),\n (203, 'chinese plum sauce', 1803116230, 1410123600, 5.0),\n (203, 'chinese plum sauce', 1803119585, 1410210000, 1.0),\n (240, 'chicken fried brown rice', 29782, 1134421200, 5.0),\n (240, 'chicken fried brown rice', 65573, 1262811600, 4.0),\n (240, 'chicken fried brown rice', 340438, 1176670800, 4.0),\n (240, 'chicken fried brown rice', 521933, 1182373200, 4.0),\n (240, 'chicken fried brown rice', 722185, 1298235600, 0.0),\n (240, 'chicken fried brown rice', 730763, 1276376400, 5.0),\n (240, 'chicken fried brown rice', 1392349, 1277672400, 5.0),\n (246, 'lee s hot crab dip', 8414, 1058043600, 5.0),\n (246, 'lee s hot crab dip', 8526, 1033333200, 5.0),\n (246, 'lee s hot crab dip', 11176, 1238965200, 5.0),\n (246, 'lee s hot crab dip', 14059, 999810000, 5.0),\n (246, 'lee s hot crab dip', 19044, 1009746000, 5.0),\n (246, 'lee s hot crab dip', 20214, 1068843600, 5.0),\n (246, 'lee s hot crab dip', 23333, 1018126800, 5.0),\n (246, 'lee s hot crab dip', 26512, 1061413200, 5.0),\n (246, 'lee s hot crab dip', 26657, 1030309200, 5.0),\n (246, 'lee s hot crab dip', 30080, 1012770000, 5.0),\n (246, 'lee s hot crab dip', 30503, 1025643600, 5.0),\n (246, 'lee s hot crab dip', 34357, 1250542800, 4.0),\n (246, 'lee s hot crab dip', 37636, 1034888400, 5.0),\n (246, 'lee s hot crab dip', 39301, 1167598800, 2.0),\n (246, 'lee s hot crab dip', 43083, 1314478800, 4.0),\n (246, 'lee s hot crab dip', 46660, 1255208400, 4.0),\n (246, 'lee s hot crab dip', 49360, 1030914000, 5.0),\n (246, 'lee s hot crab dip', 50643, 1045774800, 5.0),\n (246, 'lee s hot crab dip', 55729, 1037566800, 5.0),\n (246, 'lee s hot crab dip', 56353, 1221944400, 5.0),\n (246, 'lee s hot crab dip', 56498, 1038776400, 5.0),\n (246, 'lee s hot crab dip', 59229, 1041195600, 5.0),\n (246, 'lee s hot crab dip', 65166, 1041109200, 5.0),\n (246, 'lee s hot crab dip', 82737, 1199566800, 5.0),\n (246, 'lee s hot crab dip', 100811, 1064264400, 5.0),\n (246, 'lee s hot crab dip', 102519, 1091307600, 3.0),\n (246, 'lee s hot crab dip', 103876, 1165438800, 4.0),\n (246, 'lee s hot crab dip', 109055, 1167771600, 4.0),\n (246, 'lee s hot crab dip', 115108, 1164488400, 5.0),\n (246, 'lee s hot crab dip', 118016, 1074459600, 4.0),\n (246, 'lee s hot crab dip', 140132, 1198962000, 5.0),\n (246, 'lee s hot crab dip', 142790, 1101330000, 2.0),\n (246, 'lee s hot crab dip', 160871, 1098824400, 5.0),\n (246, 'lee s hot crab dip', 251694, 1190754000, 5.0),\n (246, 'lee s hot crab dip', 253988, 1192309200, 5.0),\n (246, 'lee s hot crab dip', 275851, 1135112400, 5.0),\n (246, 'lee s hot crab dip', 346825, 1157403600, 5.0),\n (246, 'lee s hot crab dip', 397927, 1184533200, 5.0),\n (246, 'lee s hot crab dip', 400420, 1166994000, 5.0),\n (246, 'lee s hot crab dip', 404143, 1165698000, 5.0),\n (246, 'lee s hot crab dip', 416292, 1222635600, 5.0),\n (246, 'lee s hot crab dip', 444534, 1198184400, 5.0),\n (246, 'lee s hot crab dip', 478964, 1198443600, 5.0),\n (246, 'lee s hot crab dip', 485728, 1241470800, 5.0),\n (246, 'lee s hot crab dip', 526250, 1517605200, 5.0),\n (246, 'lee s hot crab dip', 533122, 1263070800, 4.0),\n (246, 'lee s hot crab dip', 587965, 1199566800, 5.0),\n (246, 'lee s hot crab dip', 709542, 1276462800, 5.0),\n (246, 'lee s hot crab dip', 720932, 1200344400, 5.0),\n (246, 'lee s hot crab dip', 741522, 1266440400, 4.0),\n (246, 'lee s hot crab dip', 779874, 1244926800, 5.0),\n (246, 'lee s hot crab dip', 897900, 1219611600, 1.0),\n (246, 'lee s hot crab dip', 1462591, 1471554000, 5.0),\n (246, 'lee s hot crab dip', 1489025, 1293915600, 5.0),\n (282, 'thai coconut chicken soup', 229467, 1121634000, 5.0),\n (282, 'thai coconut chicken soup', 541422, 1186952400, 5.0),\n (284, 'thai fried bananas', 72570, 1053464400, 5.0),\n (289, 'feijoada  brazilian bean soup  ii', 626447, 1278363600, 5.0),\n (314, 'thai citrus chicken salad', 39547, 1114376400, 5.0),\n (314, 'thai citrus chicken salad', 126440, 1246395600, 5.0),\n (314, 'thai citrus chicken salad', 159084, 1183496400, 5.0),\n (314, 'thai citrus chicken salad', 185285, 1205701200, 5.0),\n (314, 'thai citrus chicken salad', 209743, 1114635600, 5.0),\n (314, 'thai citrus chicken salad', 224088, 1175893200, 4.0),\n (314, 'thai citrus chicken salad', 228241, 1123016400, 5.0),\n (314, 'thai citrus chicken salad', 241241, 1298581200, 4.0),\n (314, 'thai citrus chicken salad', 355885, 1173906000, 5.0),\n (314, 'thai citrus chicken salad', 533326, 1212008400, 5.0),\n (314, 'thai citrus chicken salad', 664225, 1278795600, 5.0),\n (318, 'french pecan pie ii', 91392, 1172955600, 4.0),\n (318, 'french pecan pie ii', 190230, 1132779600, 5.0),\n (318, 'french pecan pie ii', 607376, 1201554000, 5.0),\n (318, 'french pecan pie ii', 797269, 1233349200, 5.0),\n (337, 'oktoberfest spinach strudel', 644191, 1219266000, 2.0),\n (344, 'secret salsa', 30580, 1065560400, 2.0),\n (352, 'banana orange ice cream', 294435, 1219525200, 5.0),\n (352, 'banana orange ice cream', 438534, 1169845200, 5.0),\n (352, 'banana orange ice cream', 566447, 1206651600, 5.0),\n (352, 'banana orange ice cream', 1318241, 1247000400, 0.0),\n (378, 'sweet potato pecan pie', 35140, 1062882000, 5.0),\n (378, 'sweet potato pecan pie', 102348, 1062450000, 5.0),\n (378, 'sweet potato pecan pie', 104295, 1197752400, 4.0),\n (378, 'sweet potato pecan pie', 141610, 1227474000, 5.0),\n (378, 'sweet potato pecan pie', 145489, 1164229200, 5.0),\n (378, 'sweet potato pecan pie', 180952, 1135976400, 5.0),\n (378, 'sweet potato pecan pie', 214911, 1132866000, 5.0),\n (378, 'sweet potato pecan pie', 520830, 1276203600, 5.0),\n (378, 'sweet potato pecan pie', 597902, 1195678800, 5.0),\n (378, 'sweet potato pecan pie', 671688, 1196370000, 5.0),\n (378, 'sweet potato pecan pie', 672616, 1258146000, 5.0),\n (378, 'sweet potato pecan pie', 673161, 1196542800, 5.0),\n (378, 'sweet potato pecan pie', 791480, 1208638800, 5.0),\n (378, 'sweet potato pecan pie', 876090, 1263416400, 5.0),\n (378, 'sweet potato pecan pie', 955072, 1236114000, 0.0),\n (378, 'sweet potato pecan pie', 1462970, 1333573200, 5.0),\n (381, 'southern sweet potato pie', 379750, 1194469200, 5.0),\n (381, 'southern sweet potato pie', 387395, 1164402000, 5.0),\n (381, 'southern sweet potato pie', 634055, 1194382800, 5.0),\n (381, 'southern sweet potato pie', 878311, 1449176400, 5.0),\n (381, 'southern sweet potato pie', 1623265, 1391634000, 5.0),\n (385, 'iced jazzberry java', 804550, 1231534800, 3.0),\n (387, 'chocolate coffee ice cream soda', 128473, 1234645200, 5.0),\n (387, 'chocolate coffee ice cream soda', 689540, 1219784400, 5.0),\n (445, 'remarkable rhubarb bites', 13483, 1085691600, 5.0),\n (445, 'remarkable rhubarb bites', 17579, 1056315600, 5.0),\n (445, 'remarkable rhubarb bites', 34725, 1025816400, 5.0),\n (445, 'remarkable rhubarb bites', 37471, 1086296400, 5.0),\n (445, 'remarkable rhubarb bites', 45833, 1086642000, 5.0),\n (445, 'remarkable rhubarb bites', 82772, 1056747600, 5.0),\n (445, 'remarkable rhubarb bites', 95743, 1085346000, 5.0),\n (445, 'remarkable rhubarb bites', 103809, 1093381200, 4.0),\n (445, 'remarkable rhubarb bites', 142465, 1243890000, 5.0),\n (445, 'remarkable rhubarb bites', 179133, 1115499600, 4.0),\n (445, 'remarkable rhubarb bites', 184890, 1245445200, 5.0),\n (445, 'remarkable rhubarb bites', 224088, 1276549200, 4.0),\n (445, 'remarkable rhubarb bites', 230579, 1375995600, 5.0),\n (445, 'remarkable rhubarb bites', 236959, 1212526800, 2.0),\n (445, 'remarkable rhubarb bites', 239369, 1178053200, 5.0),\n (445, 'remarkable rhubarb bites', 242007, 1211230800, 5.0),\n (445, 'remarkable rhubarb bites', 249657, 1242421200, 5.0),\n (445, 'remarkable rhubarb bites', 252816, 1246222800, 0.0),\n (445, 'remarkable rhubarb bites', 258528, 1243026000, 5.0),\n (445, 'remarkable rhubarb bites', 311926, 1305838800, 5.0),\n (445, 'remarkable rhubarb bites', 352538, 1186434000, 3.0),\n (445, 'remarkable rhubarb bites', 626447, 1227560400, 5.0),\n (445, 'remarkable rhubarb bites', 644764, 1528491600, 5.0),\n (445, 'remarkable rhubarb bites', 789516, 1218142800, 5.0),\n (445, 'remarkable rhubarb bites', 1119069, 1279486800, 5.0),\n (445, 'remarkable rhubarb bites', 1920761, 1306702800, 4.0),\n (469, 'irish dark soda bread', 6614, 984949200, 4.0),\n (469, 'irish dark soda bread', 298094, 1141160400, 5.0),\n (469, 'irish dark soda bread', 391787, 1268773200, 5.0),\n (469, 'irish dark soda bread', 438582, 1237842000, 0.0),\n (469, 'irish dark soda bread', 465827, 1173906000, 5.0),\n (502, 'chicken breasts in phyllo', 21694, 1004216400, 5.0),\n (502, 'chicken breasts in phyllo', 45416, 1070312400, 5.0),\n (502, 'chicken breasts in phyllo', 67009, 1108760400, 5.0),\n (502, 'chicken breasts in phyllo', 95114, 1108933200, 5.0),\n (502, 'chicken breasts in phyllo', 152118, 1115758800, 5.0),\n (504,\n  'baked alaska salmon fillet with mustard sauce',\n  64625,\n  1097701200,\n  5.0),\n (544, 'greek mushroom salad', 5060, 1223499600, 4.0),\n (544, 'greek mushroom salad', 68460, 1188162000, 5.0),\n (544, 'greek mushroom salad', 185991, 1128459600, 5.0),\n (544, 'greek mushroom salad', 197023, 1134162000, 5.0),\n (544, 'greek mushroom salad', 205750, 1320267600, 4.0),\n (544, 'greek mushroom salad', 704950, 1205960400, 4.0),\n (544, 'greek mushroom salad', 2001924742, 1515618000, 4.0),\n (561, 'golden baked fish', 38643, 1111957200, 5.0),\n (561, 'golden baked fish', 56003, 1211662800, 4.0),\n (561, 'golden baked fish', 67738, 1144357200, 5.0),\n (561, 'golden baked fish', 121690, 1138309200, 5.0),\n (561, 'golden baked fish', 159544, 1093381200, 5.0),\n (561, 'golden baked fish', 166275, 1097010000, 5.0),\n (635, 'dill bread', 165845, 1100034000, 5.0),\n (635, 'dill bread', 1013122, 1225659600, 5.0),\n (635, 'dill bread', 1578011, 1268600400, 5.0),\n (651, 'curried chicken muffins', 57222, 1109883600, 5.0),\n (651, 'curried chicken muffins', 223854, 1169067600, 4.0),\n (653, 'b c  cherry and raspberry preserves', 107135, 1142024400, 5.0),\n (658, 'dried fruit roll ups', 247241, 1136408400, 4.0),\n (659, 'drunken chicken marinade', 6702, 990738000, 3.0),\n (659, 'drunken chicken marinade', 196369, 1123189200, 5.0),\n (659, 'drunken chicken marinade', 221703, 1124917200, 5.0),\n (659, 'drunken chicken marinade', 366118, 1221080400, 5.0),\n (671, 'cucumber relish', 4828, 979592400, 4.0),\n (671, 'cucumber relish', 13763, 997045200, 4.0),\n (671, 'cucumber relish', 35390, 1016398800, 4.0),\n (671, 'cucumber relish', 51572, 1030914000, 4.0),\n (671, 'cucumber relish', 98919, 1194210000, 5.0),\n (671, 'cucumber relish', 154588, 1273784400, 3.0),\n (671, 'cucumber relish', 467565, 1187902800, 4.0),\n (671, 'cucumber relish', 886533, 1215982800, 5.0),\n (671, 'cucumber relish', 987458, 1233694800, 4.0),\n (692, 'cream puff paste', 153648, 1156107600, 4.0),\n (712, 'twice baked potatoes ii', 203394, 1117832400, 4.0),\n (719, 'vegetarian baked stuffed red bell peppers', 4470, 1179694800, 5.0),\n (719, 'vegetarian baked stuffed red bell peppers', 17803, 1187298000, 4.0),\n (719, 'vegetarian baked stuffed red bell peppers', 36187, 1186779600, 5.0),\n (719, 'vegetarian baked stuffed red bell peppers', 37449, 1104094800, 5.0),\n (719, 'vegetarian baked stuffed red bell peppers', 91724, 1257109200, 5.0),\n (719, 'vegetarian baked stuffed red bell peppers', 267103, 1183842000, 5.0),\n (719, 'vegetarian baked stuffed red bell peppers', 273358, 1167166800, 4.0),\n (719, 'vegetarian baked stuffed red bell peppers', 465911, 1236978000, 5.0),\n (719, 'vegetarian baked stuffed red bell peppers', 542848, 1237582800, 5.0),\n (719, 'vegetarian baked stuffed red bell peppers', 822808, 1255208400, 4.0),\n (719, 'vegetarian baked stuffed red bell peppers', 946570, 1244408400, 3.0),\n (719, 'vegetarian baked stuffed red bell peppers', 1041521, 1253134800, 2.0),\n (719, 'vegetarian baked stuffed red bell peppers', 1178470, 1266354000, 4.0),\n (884, 'manifold roast  car b que', 948669, 1220821200, 4.0),\n (916, 'momma s fair funnel cake', 12875, 1028235600, 5.0),\n (916, 'momma s fair funnel cake', 13640, 996699600, 5.0),\n (916, 'momma s fair funnel cake', 22724, 1029272400, 5.0),\n (916, 'momma s fair funnel cake', 46660, 1062536400, 2.0),\n (916, 'momma s fair funnel cake', 52863, 1029877200, 5.0),\n (916, 'momma s fair funnel cake', 60124, 1150405200, 5.0),\n (916, 'momma s fair funnel cake', 64203, 1233608400, 5.0),\n (916, 'momma s fair funnel cake', 69983, 1050526800, 5.0),\n (916, 'momma s fair funnel cake', 72633, 1046466000, 5.0),\n (916, 'momma s fair funnel cake', 164913, 1203282000, 5.0),\n (916, 'momma s fair funnel cake', 173579, 1281733200, 5.0),\n (916, 'momma s fair funnel cake', 222564, 1387227600, 5.0),\n (916, 'momma s fair funnel cake', 223651, 1126990800, 5.0),\n (916, 'momma s fair funnel cake', 255338, 1158786000, 5.0),\n (916, 'momma s fair funnel cake', 265114, 1203454800, 4.0),\n (916, 'momma s fair funnel cake', 273227, 1217883600, 5.0),\n (916, 'momma s fair funnel cake', 286502, 1199566800, 5.0),\n (916, 'momma s fair funnel cake', 288693, 1142802000, 5.0),\n (916, 'momma s fair funnel cake', 303096, 1142715600, 5.0),\n (916, 'momma s fair funnel cake', 308434, 1229806800, 5.0),\n (916, 'momma s fair funnel cake', 314085, 1175202000, 5.0),\n (916, 'momma s fair funnel cake', 316717, 1214946000, 3.0),\n (916, 'momma s fair funnel cake', 330649, 1181595600, 1.0),\n (916, 'momma s fair funnel cake', 337963, 1192741200, 3.0),\n (916, 'momma s fair funnel cake', 339610, 1154552400, 5.0),\n (916, 'momma s fair funnel cake', 340994, 1253480400, 5.0),\n (916, 'momma s fair funnel cake', 343573, 1155848400, 5.0),\n (916, 'momma s fair funnel cake', 345124, 1156280400, 5.0),\n (916, 'momma s fair funnel cake', 357266, 1159736400, 5.0),\n (916, 'momma s fair funnel cake', 360730, 1255122000, 0.0),\n (916, 'momma s fair funnel cake', 384041, 1475355600, 0.0),\n (916, 'momma s fair funnel cake', 388905, 1209934800, 0.0),\n (916, 'momma s fair funnel cake', 426788, 1219525200, 5.0),\n (916, 'momma s fair funnel cake', 439210, 1234558800, 5.0),\n (916, 'momma s fair funnel cake', 448669, 1171141200, 5.0),\n (916, 'momma s fair funnel cake', 472556, 1174942800, 5.0),\n (916, 'momma s fair funnel cake', 506345, 1212440400, 5.0),\n (916, 'momma s fair funnel cake', 527515, 1186088400, 5.0),\n (916, 'momma s fair funnel cake', 537179, 1245013200, 4.0),\n (916, 'momma s fair funnel cake', 540346, 1312837200, 5.0),\n (916, 'momma s fair funnel cake', 541070, 1192827600, 5.0),\n (916, 'momma s fair funnel cake', 550834, 1202072400, 1.0),\n (916, 'momma s fair funnel cake', 560364, 1269032400, 5.0),\n (916, 'momma s fair funnel cake', 565369, 1187470800, 5.0),\n (916, 'momma s fair funnel cake', 574716, 1188421200, 5.0),\n (916, 'momma s fair funnel cake', 579826, 1282683600, 3.0),\n (916, 'momma s fair funnel cake', 610173, 1191877200, 5.0),\n (916, 'momma s fair funnel cake', 679445, 1217797200, 5.0),\n (916, 'momma s fair funnel cake', 680964, 1210626000, 5.0),\n (916, 'momma s fair funnel cake', 703740, 1200949200, 5.0),\n (916, 'momma s fair funnel cake', 716192, 1201813200, 5.0),\n (916, 'momma s fair funnel cake', 744394, 1238706000, 5.0),\n (916, 'momma s fair funnel cake', 793533, 1276376400, 5.0),\n (916, 'momma s fair funnel cake', 798244, 1206133200, 5.0),\n (916, 'momma s fair funnel cake', 809733, 1208120400, 5.0),\n (916, 'momma s fair funnel cake', 813584, 1218834000, 5.0),\n (916, 'momma s fair funnel cake', 834893, 1210107600, 5.0),\n (916, 'momma s fair funnel cake', 841981, 1215810000, 4.0),\n (916, 'momma s fair funnel cake', 845729, 1378587600, 5.0),\n (916, 'momma s fair funnel cake', 906073, 1217192400, 5.0),\n (916, 'momma s fair funnel cake', 909166, 1217451600, 0.0),\n (916, 'momma s fair funnel cake', 934536, 1263589200, 5.0),\n (916, 'momma s fair funnel cake', 934824, 1236286800, 5.0),\n (916, 'momma s fair funnel cake', 991218, 1225227600, 5.0),\n (916, 'momma s fair funnel cake', 1031150, 1243285200, 5.0),\n (916, 'momma s fair funnel cake', 1049724, 1268600400, 4.0),\n (916, 'momma s fair funnel cake', 1056692, 1327266000, 4.0),\n (916, 'momma s fair funnel cake', 1334972, 1251579600, 5.0),\n (916, 'momma s fair funnel cake', 1338684, 1283806800, 5.0),\n (916, 'momma s fair funnel cake', 1414637, 1255381200, 0.0),\n (916, 'momma s fair funnel cake', 1815017, 1346965200, 5.0),\n (916, 'momma s fair funnel cake', 1918369, 1306443600, 0.0),\n (916, 'momma s fair funnel cake', 1924722, 1442091600, 5.0),\n (916, 'momma s fair funnel cake', 1958907, 1310763600, 5.0),\n (916, 'momma s fair funnel cake', 2015452, 1316725200, 3.0),\n (916, 'momma s fair funnel cake', 2272253, 1337720400, 4.0),\n (916, 'momma s fair funnel cake', 1800024603, 1422651600, 5.0),\n (916, 'momma s fair funnel cake', 1800120872, 1381611600, 5.0),\n (916, 'momma s fair funnel cake', 1800229915, 1421269200, 5.0),\n (916, 'momma s fair funnel cake', 1802386053, 1462222800, 5.0),\n (916, 'momma s fair funnel cake', 1802871392, 1404075600, 5.0),\n (916, 'momma s fair funnel cake', 1802904066, 1404680400, 4.0),\n (916, 'momma s fair funnel cake', 1802978190, 1406581200, 3.0),\n (916, 'momma s fair funnel cake', 2000175609, 1430341200, 5.0),\n (916, 'momma s fair funnel cake', 2000316314, 1435957200, 5.0),\n (916, 'momma s fair funnel cake', 2000326051, 1436389200, 2.0),\n (916, 'momma s fair funnel cake', 2000359021, 1437685200, 1.0),\n (916, 'momma s fair funnel cake', 2000370529, 1438117200, 5.0),\n (916, 'momma s fair funnel cake', 2000419812, 1440190800, 1.0),\n (916, 'momma s fair funnel cake', 2000626165, 1446238800, 1.0),\n (916, 'momma s fair funnel cake', 2000895000, 1458334800, 1.0),\n (916, 'momma s fair funnel cake', 2000968378, 1460840400, 0.0),\n (916, 'momma s fair funnel cake', 2001186357, 1475182800, 5.0),\n (916, 'momma s fair funnel cake', 2001375383, 1485982800, 1.0),\n (916, 'momma s fair funnel cake', 2001453193, 1491598800, 0.0),\n (953, 'barbecued turkey on a bun', 39835, 1060203600, 3.0),\n (953, 'barbecued turkey on a bun', 53286, 1039467600, 3.0),\n (965, 'outstanding greek salad dressing', 5920, 1000069200, 5.0),\n (965, 'outstanding greek salad dressing', 13483, 1036098000, 4.0),\n (965, 'outstanding greek salad dressing', 133174, 1304370000, 4.0),\n (965, 'outstanding greek salad dressing', 134663, 1086987600, 5.0),\n (965, 'outstanding greek salad dressing', 281628, 1199912400, 5.0),\n (965, 'outstanding greek salad dressing', 378294, 1254776400, 5.0),\n (965, 'outstanding greek salad dressing', 702527, 1322773200, 5.0),\n (975, 'basil parmesan biscuits', 67403, 1121029200, 5.0),\n (975, 'basil parmesan biscuits', 126032, 1116882000, 5.0),\n (975, 'basil parmesan biscuits', 176615, 1260046800, 0.0),\n (975, 'basil parmesan biscuits', 305523, 1172350800, 5.0),\n (1045, 'raisin cream pie', 6876284, 1384808400, 0.0),\n (1075, 'beef crumble', 155488, 1092690000, 2.0),\n (1075, 'beef crumble', 207907, 1120942800, 0.0),\n (1129, 'spicy dill dip', 27643, 1061240400, 4.0),\n (1129, 'spicy dill dip', 29782, 1135717200, 5.0),\n (1129, 'spicy dill dip', 665137, 1209675600, 4.0),\n (1144, 'steak   tomato basil pasta', None, None, None),\n (1322, 'vanilla cake', 141590, 1305147600, 5.0),\n (1322, 'vanilla cake', 292448, 1377118800, 5.0),\n (1322, 'vanilla cake', 344716, 1156798800, 2.0),\n (1322, 'vanilla cake', 380358, 1295816400, 4.0),\n (1322, 'vanilla cake', 421689, 1287349200, 5.0),\n (1322, 'vanilla cake', 1249676, 1308517200, 5.0),\n (1322, 'vanilla cake', 1369561, 1251579600, 5.0),\n (1322, 'vanilla cake', 1375717, 1263675600, 5.0),\n (1322, 'vanilla cake', 2887050, 1377896400, 1.0),\n (1355,\n  'barley   mushroom stuffed green bell peppers',\n  176615,\n  1203973200,\n  5.0),\n (1355,\n  'barley   mushroom stuffed green bell peppers',\n  498271,\n  1347310800,\n  5.0),\n (1355,\n  'barley   mushroom stuffed green bell peppers',\n  539686,\n  1358283600,\n  5.0),\n (1379, 'herbal vinegar with garlic   basil', 64203, 1111266000, 5.0),\n (1590, 'lemon pepper seasoning mix', 298447, 1212526800, 5.0),\n (1590, 'lemon pepper seasoning mix', 532289, 1223672400, 5.0),\n (1630, 'hamburger casserole ii', 17344, 1017349200, 4.0),\n (1630, 'hamburger casserole ii', 26075, 1070485200, 3.0),\n (1630, 'hamburger casserole ii', 28604, 1044046800, 4.0),\n (1630, 'hamburger casserole ii', 37640, 1031518800, 4.0),\n (1660, 'japanese cabbage salad', 65197, 1136322000, 5.0),\n (1660, 'japanese cabbage salad', 82075, 1051909200, 5.0),\n (1660, 'japanese cabbage salad', 1582773, 1271538000, 4.0),\n (1662, 'diabetic carrot raisin salad', 38281, 1117227600, 0.0),\n (1662, 'diabetic carrot raisin salad', 59064, 1096750800, 3.0),\n (1725, 'date loaf candies', 55597, 1036530000, 4.0),\n (1725, 'date loaf candies', 121023, 1090184400, 5.0),\n (1760, 'chao ga  arroz caldo', 2097286, 1323378000, 3.0),\n (1878, 'indian onion relish', 6164, 983394000, 0.0),\n (1878, 'indian onion relish', 10808, 992206800, 3.0),\n (2056, 'baked acorn squash with spicy maple syrup', 2148, 1067720400, 5.0),\n (2056, 'baked acorn squash with spicy maple syrup', 4470, 1104354000, 5.0),\n (2056, 'baked acorn squash with spicy maple syrup', 7108, 1034197200, 5.0),\n (2056, 'baked acorn squash with spicy maple syrup', 13796, 1413406800, 5.0),\n (2056, 'baked acorn squash with spicy maple syrup', 33159, 1100898000, 3.0),\n (2056, 'baked acorn squash with spicy maple syrup', 35526, 1078952400, 5.0),\n (2056, 'baked acorn squash with spicy maple syrup', 44383, 1206306000, 5.0),\n (2056, 'baked acorn squash with spicy maple syrup', 77229, 1162414800, 5.0),\n (2056, 'baked acorn squash with spicy maple syrup', 163417, 1110661200, 5.0),\n (2056, 'baked acorn squash with spicy maple syrup', 211577, 1353186000, 5.0),\n (2056, 'baked acorn squash with spicy maple syrup', 247241, 1228078800, 5.0),\n (2056, 'baked acorn squash with spicy maple syrup', 250031, 1317589200, 5.0),\n (2056, 'baked acorn squash with spicy maple syrup', 280271, 1415566800, 5.0),\n (2056, 'baked acorn squash with spicy maple syrup', 294000, 1178485200, 4.0),\n (2056, 'baked acorn squash with spicy maple syrup', 346874, 1227128400, 5.0),\n (2056, 'baked acorn squash with spicy maple syrup', 361489, 1285275600, 5.0),\n (2056, 'baked acorn squash with spicy maple syrup', 362213, 1161723600, 5.0),\n (2056, 'baked acorn squash with spicy maple syrup', 377039, 1192654800, 3.0),\n (2056, 'baked acorn squash with spicy maple syrup', 384133, 1264107600, 5.0),\n (2056, 'baked acorn squash with spicy maple syrup', 439685, 1350162000, 3.0),\n (2056, 'baked acorn squash with spicy maple syrup', 469021, 1259787600, 4.0),\n (2056, 'baked acorn squash with spicy maple syrup', 527754, 1445029200, 5.0),\n (2056, 'baked acorn squash with spicy maple syrup', 620763, 1225746000, 5.0),\n (2056, 'baked acorn squash with spicy maple syrup', 768828, 1263675600, 5.0),\n (2056, 'baked acorn squash with spicy maple syrup', 789516, 1215550800, 5.0),\n (2056, 'baked acorn squash with spicy maple syrup', 851191, 1234213200, 5.0),\n (2056, 'baked acorn squash with spicy maple syrup', 945248, 1239656400, 5.0),\n (2056, 'baked acorn squash with spicy maple syrup', 978517, 1226091600, 5.0),\n (2056, 'baked acorn squash with spicy maple syrup', 1000480, 1255035600, 5.0),\n (2056, 'baked acorn squash with spicy maple syrup', 1238623, 1256763600, 5.0),\n (2056, 'baked acorn squash with spicy maple syrup', 1267163, 1318366800, 5.0),\n (2068, 'red capsicum toasts', 222478, 1142370000, 5.0),\n (2086, 'velveeta cheese fudge', 3908, 976654800, 5.0),\n (2086, 'velveeta cheese fudge', 3981, 977086800, 5.0),\n (2086, 'velveeta cheese fudge', 4046, 977259600, 5.0),\n (2086, 'velveeta cheese fudge', 11053, 992466000, 5.0),\n (2086, 'velveeta cheese fudge', 29820, 1060117200, 4.0),\n (2086, 'velveeta cheese fudge', 115857, 1071435600, 4.0),\n (2086, 'velveeta cheese fudge', 122001, 1105045200, 3.0),\n (2086, 'velveeta cheese fudge', 257391, 1132606800, 5.0),\n (2086, 'velveeta cheese fudge', 282215, 1197925200, 5.0),\n (2086, 'velveeta cheese fudge', 302094, 1197061200, 5.0),\n (2086, 'velveeta cheese fudge', 377537, 1196283600, 5.0),\n (2086, 'velveeta cheese fudge', 453304, 1231016400, 1.0),\n (2086, 'velveeta cheese fudge', 744478, 1202418000, 1.0),\n (2086, 'velveeta cheese fudge', 933484, 1228942800, 5.0),\n (2129, 'caribbean key lime pie', 11498, 992984400, 5.0),\n (2129, 'caribbean key lime pie', 42720, 1119906000, 5.0),\n (2129, 'caribbean key lime pie', 121985, 1086037200, 5.0),\n (2129, 'caribbean key lime pie', 134289, 1106773200, 4.0),\n (2129, 'caribbean key lime pie', 513124, 1281301200, 5.0),\n (2386, 'miracle pie   impossible pie', 254614, 1234990800, 4.0),\n (2405, 'cucumber lemonade', 12318, 994626000, 2.0),\n (2405, 'cucumber lemonade', 51979, 1033246800, 5.0),\n (2519, 'oatmeal squares', 6258, 1128286800, 4.0),\n (2519, 'oatmeal squares', 13483, 1002142800, 3.0),\n (2519, 'oatmeal squares', 359166, 1244322000, 1.0),\n (2519, 'oatmeal squares', 2802612, 1367010000, 5.0),\n (2519, 'oatmeal squares', 1802731130, 1399669200, 3.0),\n (2519, 'oatmeal squares', 1803585934, 1419886800, 5.0),\n (2519, 'oatmeal squares', 2000534966, 1444165200, 4.0),\n (2519, 'oatmeal squares', 2001645447, 1501102800, 0.0),\n (2519, 'oatmeal squares', 2002168615, 1527541200, 5.0),\n (2595, 'rainbow risotto', 392230, 1173042000, 4.0),\n (2622, 'spanish steak or spanish chicken', 22015, 1142888400, 3.0),\n (2622, 'spanish steak or spanish chicken', 154315, 1090789200, 1.0),\n (2641, 'sweet sour sauce secrets', 26719, 1314046800, 5.0),\n (2641, 'sweet sour sauce secrets', 27783, 1176757200, 5.0),\n (2641, 'sweet sour sauce secrets', 89770, 1106773200, 5.0),\n (2641, 'sweet sour sauce secrets', 157167, 1181768400, 5.0),\n (2641, 'sweet sour sauce secrets', 222478, 1284066000, 5.0),\n (2641, 'sweet sour sauce secrets', 310749, 1257973200, 5.0),\n (2641, 'sweet sour sauce secrets', 319738, 1294606800, 4.0),\n (2641, 'sweet sour sauce secrets', 389553, 1224795600, 5.0),\n (2658, 'tomato sauce ii', 56463, 1242075600, 5.0),\n (2658, 'tomato sauce ii', 124268, 1254776400, 3.0),\n (2658, 'tomato sauce ii', 134624, 1218488400, 4.0),\n (2658, 'tomato sauce ii', 145960, 1116450000, 5.0),\n (2658, 'tomato sauce ii', 146310, 1126731600, 4.0),\n (2658, 'tomato sauce ii', 799318, 1216155600, 5.0),\n (2658, 'tomato sauce ii', 1015521, 1225832400, 5.0),\n (2658, 'tomato sauce ii', 1213515, 1237755600, 5.0),\n (2665, 'valrhona chocolate cake', 23698, 1005771600, 5.0),\n (2665, 'valrhona chocolate cake', 102937, 1065387600, 5.0),\n (2691, 'lamb chops with mandarins', None, None, None),\n (2704, 'banana sultana muffins', 638874, 1210885200, 5.0),\n (2746, 'mabo dofu   tofu with beef', 9082, 988923600, 4.0),\n (2746, 'mabo dofu   tofu with beef', 51873, 1029099600, 5.0),\n (2746, 'mabo dofu   tofu with beef', 59780, 1063400400, 4.0),\n (2746, 'mabo dofu   tofu with beef', 343039, 1255986000, 5.0),\n (2762, 'mississippi mud cake ii', 184723, 1125262800, 5.0),\n (2762, 'mississippi mud cake ii', 269580, 1169672400, 5.0),\n (2762, 'mississippi mud cake ii', 343028, 1183928400, 5.0),\n (2762, 'mississippi mud cake ii', 1193707, 1245272400, 5.0),\n (2771, 'murg kari  chicken curry', 1152415, 1237582800, 5.0),\n (2804, 'peach sour cream pie', 133174, 1174770000, 5.0),\n (2866, 'bailey s irish cream liqueur', 29632, 1072558800, 5.0),\n (2883, 'carrot walnut cake', 765925, 1244840400, 4.0),\n (2883, 'carrot walnut cake', 1125323, 1239829200, 5.0),\n (2889, 'white cake with coconut pecan frosting', 212359, 1187989200, 5.0),\n (2889, 'white cake with coconut pecan frosting', 587114, 1203022800, 3.0),\n (2891, 'potluck pasta salad', 125356, 1145912400, 5.0),\n (2891, 'potluck pasta salad', 137428, 1392238800, 4.0),\n (2891, 'potluck pasta salad', 149002, 1150405200, 5.0),\n (2891, 'potluck pasta salad', 201369, 1246309200, 5.0),\n (2891, 'potluck pasta salad', 493497, 1182718800, 5.0),\n (2891, 'potluck pasta salad', 530915, 1183582800, 5.0),\n (2891, 'potluck pasta salad', 842751, 1215032400, 5.0),\n (2936, 'olie bollen  dutch fritters', 343294, 1230152400, 5.0),\n (2936, 'olie bollen  dutch fritters', 552052, 1224190800, 5.0),\n (2936, 'olie bollen  dutch fritters', 1206171, 1238014800, 0.0),\n (2974, 'cinnamon peach coffee cake', 86318, 1072645200, 4.0),\n (2989, 'emerald fried rice', 186379, 1125867600, 5.0),\n (3015, 'hello  aloha  dollies', 55166, 1108069200, 5.0),\n (3015, 'hello  aloha  dollies', 485041, 1209934800, 5.0),\n (3045, 'homemade baked ziti', 297076, 1196197200, 5.0),\n (3045, 'homemade baked ziti', 340376, 1199912400, 5.0),\n (3051, 'paella', 4688, 984690000, 5.0),\n (3051, 'paella', 14260, 1098565200, 5.0),\n (3051, 'paella', 24246, 1006203600, 5.0),\n (3051, 'paella', 46660, 1127509200, 5.0),\n (3051, 'paella', 51303, 1072558800, 5.0),\n (3051, 'paella', 64642, 1268341200, 2.0),\n (3051, 'paella', 112012, 1068584400, 3.0),\n (3051, 'paella', 172030, 1208034000, 5.0),\n (3051, 'paella', 333017, 1275771600, 0.0),\n (3051, 'paella', 346866, 1240174800, 1.0),\n (3051, 'paella', 361996, 1169845200, 5.0),\n (3051, 'paella', 371915, 1176498000, 5.0),\n (3051, 'paella', 537200, 1224968400, 5.0),\n (3065, 'crispy baked orange roughy', 8836, 1001538000, 4.0),\n (3065, 'crispy baked orange roughy', 67937, 1042405200, 5.0),\n (3065, 'crispy baked orange roughy', 514459, 1184014800, 5.0),\n (3065, 'crispy baked orange roughy', 680724, 1222549200, 5.0),\n (3065, 'crispy baked orange roughy', 727164, 1200344400, 4.0),\n (3065, 'crispy baked orange roughy', 760457, 1231448400, 4.0),\n (3065, 'crispy baked orange roughy', 855713, 1241816400, 5.0),\n (3090, 'deviled ham spread', 37036, 1190322000, 4.0),\n (3090, 'deviled ham spread', 56003, 1252357200, 4.0),\n (3090, 'deviled ham spread', 329618, 1190062800, 3.0),\n (3097, 'turkey and black bean stew', 86318, 1338325200, 5.0),\n (3119,\n  'seafood lasagna with brandied basil cream sauce',\n  1135147,\n  1232226000,\n  5.0),\n (3145, 'kung pao chicken ii', None, None, None),\n (3158, 'easy chicken a la king', 20754, 1077656400, 5.0),\n (3158, 'easy chicken a la king', 25467, 1013029200, 5.0),\n (3158, 'easy chicken a la king', 82648, 1072040400, 5.0),\n (3158, 'easy chicken a la king', 89098, 1060117200, 5.0),\n (3158, 'easy chicken a la king', 93095, 1176325200, 5.0),\n (3158, 'easy chicken a la king', 114974, 1071522000, 5.0),\n (3158, 'easy chicken a la king', 140655, 1237669200, 5.0),\n (3158, 'easy chicken a la king', 302094, 1222894800, 5.0),\n (3158, 'easy chicken a la king', 419006, 1259010000, 5.0),\n (3158, 'easy chicken a la king', 578890, 1310590800, 3.0),\n (3158, 'easy chicken a la king', 1021505, 1228251600, 5.0),\n (3193, 'stuffed jalapeno peppers  armadillo eggs', 204874, 1127595600, 0.0),\n (3212, 'pumpkin spice cake in jars', 35140, 1112734800, 5.0),\n (3212, 'pumpkin spice cake in jars', 59563, 1060290000, 5.0),\n (3212, 'pumpkin spice cake in jars', 220195, 1258491600, 0.0),\n (3224, 'shrimp newburg ii', 15572, 1088802000, 4.0),\n (3232, 'my sin  dessert', 390074, 1258491600, 4.0),\n (3252, 'crab boil spices', 98016, 1215637200, 5.0),\n (3252, 'crab boil spices', 495750, 1201035600, 4.0),\n (3252, 'crab boil spices', 711528, 1200949200, 1.0),\n (3252, 'crab boil spices', 714794, 1363640400, 5.0),\n (3252, 'crab boil spices', 902569, 1319403600, 0.0),\n (3258, 'alfredo sauce with pasta', 191626, 1113771600, 5.0),\n (3258, 'alfredo sauce with pasta', 204116, 1269032400, 4.0),\n (3258, 'alfredo sauce with pasta', 223896, 1165352400, 5.0),\n (3258, 'alfredo sauce with pasta', 339661, 1191272400, 5.0),\n (3258, 'alfredo sauce with pasta', 733359, 1205096400, 4.0),\n (3258, 'alfredo sauce with pasta', 749790, 1201899600, 3.0),\n (3258, 'alfredo sauce with pasta', 1249676, 1271624400, 5.0),\n (3258, 'alfredo sauce with pasta', 1479379, 1277413200, 5.0),\n (3263, 'vanilla cherry fudge', 52317, 1266526800, 0.0),\n (3271, 'fried green tomatoes iii', 56181, 1065560400, 5.0),\n (3304, 'butterscotch brownie mix in a jar', 157785, 1220648400, 5.0),\n (3328, 'baked lemon butter salmon', 204116, 1131915600, 4.0),\n (3328, 'baked lemon butter salmon', 427184, 1263330000, 5.0),\n (3328, 'baked lemon butter salmon', 532291, 1202590800, 5.0),\n (3328, 'baked lemon butter salmon', 1260568, 1261083600, 5.0),\n (3328, 'baked lemon butter salmon', 1356670, 1250542800, 5.0),\n (3328, 'baked lemon butter salmon', 1689705, 1362603600, 5.0),\n (3335, 'silver palate salmon mousse', 1482927, 1260738000, 5.0),\n (3335, 'silver palate salmon mousse', 1800054968, 1378760400, 5.0),\n (3343, 'paul lynde beef vegetable stew', 146742, 1236200400, 5.0),\n (3343, 'paul lynde beef vegetable stew', 455034, 1172178000, 5.0),\n (3343, 'paul lynde beef vegetable stew', 808648, 1236718800, 5.0),\n (3401, 'grilled thai sirloin with tangy lime sauce', 47559, 1145739600, 5.0),\n (3401, 'grilled thai sirloin with tangy lime sauce', 58217, 1095800400, 5.0),\n (3418, 'frankfurter corn chowder', 9869, 1190062800, 5.0),\n (3441, '30 minute smoked sausage and corn chowder', 9579, 1231534800, 5.0),\n (3441, '30 minute smoked sausage and corn chowder', 18399, 1007931600, 5.0),\n (3441, '30 minute smoked sausage and corn chowder', 20754, 1010869200, 5.0),\n (3441, '30 minute smoked sausage and corn chowder', 21834, 1043701200, 5.0),\n (3441, '30 minute smoked sausage and corn chowder', 38643, 1158958800, 4.0),\n (3441, '30 minute smoked sausage and corn chowder', 47175, 1107291600, 5.0),\n (3441, '30 minute smoked sausage and corn chowder', 68884, 1128373200, 5.0),\n (3441, '30 minute smoked sausage and corn chowder', 74281, 1292274000, 5.0),\n (3441, '30 minute smoked sausage and corn chowder', 76559, 1098046800, 4.0),\n (3441, '30 minute smoked sausage and corn chowder', 95044, 1128546000, 5.0),\n (3441, '30 minute smoked sausage and corn chowder', 97775, 1258318800, 5.0),\n (3441, '30 minute smoked sausage and corn chowder', 112880, 1079384400, 5.0),\n (3441, '30 minute smoked sausage and corn chowder', 113317, 1072645200, 5.0),\n (3441, '30 minute smoked sausage and corn chowder', 161717, 1129064400, 5.0),\n (3441, '30 minute smoked sausage and corn chowder', 189674, 1257541200, 4.0),\n (3441, '30 minute smoked sausage and corn chowder', 208455, 1140469200, 5.0),\n (3441, '30 minute smoked sausage and corn chowder', 227607, 1253307600, 5.0),\n (3441, '30 minute smoked sausage and corn chowder', 244897, 1128027600, 5.0),\n (3441, '30 minute smoked sausage and corn chowder', 302935, 1236286800, 5.0),\n (3441, '30 minute smoked sausage and corn chowder', 313633, 1172869200, 5.0),\n (3441, '30 minute smoked sausage and corn chowder', 352814, 1195333200, 4.0),\n (3441, '30 minute smoked sausage and corn chowder', 427336, 1200344400, 5.0),\n (3441, '30 minute smoked sausage and corn chowder', 469903, 1258491600, 5.0),\n (3441, '30 minute smoked sausage and corn chowder', 487233, 1193086800, 4.0),\n (3441, '30 minute smoked sausage and corn chowder', 500671, 1263243600, 4.0),\n (3441, '30 minute smoked sausage and corn chowder', 506959, 1216501200, 5.0),\n (3441, '30 minute smoked sausage and corn chowder', 529278, 1216155600, 4.0),\n (3441, '30 minute smoked sausage and corn chowder', 663171, 1232053200, 4.0),\n (3441, '30 minute smoked sausage and corn chowder', 744179, 1322946000, 5.0),\n (3441, '30 minute smoked sausage and corn chowder', 1675769, 1288904400, 5.0),\n (3441,\n  '30 minute smoked sausage and corn chowder',\n  2000610546,\n  1470085200,\n  5.0),\n (3446, 'roasted red bell pepper   tomato soup', 35035, 1016571600, 5.0),\n (3446, 'roasted red bell pepper   tomato soup', 54289, 1127422800, 5.0),\n (3446, 'roasted red bell pepper   tomato soup', 168462, 1204232400, 5.0),\n (3446, 'roasted red bell pepper   tomato soup', 226372, 1191186000, 5.0),\n (3446, 'roasted red bell pepper   tomato soup', 558429, 1379883600, 5.0),\n (3446, 'roasted red bell pepper   tomato soup', 645499, 1203800400, 5.0),\n (3446, 'roasted red bell pepper   tomato soup', 1340411, 1253566800, 5.0),\n (3497, 'pumpkin cheesecake ii', 44862, 1039467600, 5.0),\n (3497, 'pumpkin cheesecake ii', 109616, 1067115600, 4.0),\n (3497, 'pumpkin cheesecake ii', 153188, 1199826000, 5.0),\n (3497, 'pumpkin cheesecake ii', 166185, 1101848400, 5.0),\n (3497, 'pumpkin cheesecake ii', 589302, 1258578000, 5.0),\n (3497, 'pumpkin cheesecake ii', 672708, 1196456400, 5.0),\n (3549, 'rommegrot  norwegian christmas pudding', 21694, 1003698000, 5.0),\n (3549, 'rommegrot  norwegian christmas pudding', 21752, 1004907600, 5.0),\n (3549, 'rommegrot  norwegian christmas pudding', 437991, 1196542800, 5.0),\n (3549, 'rommegrot  norwegian christmas pudding', 2001464670, 1490907600, 0.0),\n (3581, 'sausage casserole  overnight', 58104, 1109797200, 5.0),\n (3581, 'sausage casserole  overnight', 101732, 1136235600, 5.0),\n (3581, 'sausage casserole  overnight', 168462, 1135803600, 5.0),\n (3581, 'sausage casserole  overnight', 169450, 1121202000, 5.0),\n (3594,\n  'ground beef stuffed green bell peppers ii   oven or crock pot',\n  43413,\n  1127682000,\n  4.0),\n (3594,\n  'ground beef stuffed green bell peppers ii   oven or crock pot',\n  65414,\n  1108933200,\n  4.0),\n (3594,\n  'ground beef stuffed green bell peppers ii   oven or crock pot',\n  67835,\n  1151269200,\n  5.0),\n (3594,\n  'ground beef stuffed green bell peppers ii   oven or crock pot',\n  69267,\n  1110315600,\n  5.0),\n (3594,\n  'ground beef stuffed green bell peppers ii   oven or crock pot',\n  78884,\n  1348434000,\n  5.0),\n (3594,\n  'ground beef stuffed green bell peppers ii   oven or crock pot',\n  95685,\n  1277758800,\n  5.0),\n (3594,\n  'ground beef stuffed green bell peppers ii   oven or crock pot',\n  115654,\n  1195419600,\n  4.0),\n (3594,\n  'ground beef stuffed green bell peppers ii   oven or crock pot',\n  173579,\n  1295211600,\n  5.0),\n (3594,\n  'ground beef stuffed green bell peppers ii   oven or crock pot',\n  178738,\n  1200949200,\n  4.0),\n (3594,\n  'ground beef stuffed green bell peppers ii   oven or crock pot',\n  190230,\n  1123534800,\n  5.0),\n (3594,\n  'ground beef stuffed green bell peppers ii   oven or crock pot',\n  551345,\n  1235768400,\n  4.0),\n (3594,\n  'ground beef stuffed green bell peppers ii   oven or crock pot',\n  1017580,\n  1226437200,\n  5.0),\n (3594,\n  'ground beef stuffed green bell peppers ii   oven or crock pot',\n  1377630,\n  1253221200,\n  5.0),\n (3594,\n  'ground beef stuffed green bell peppers ii   oven or crock pot',\n  1622631,\n  1274994000,\n  5.0),\n (3594,\n  'ground beef stuffed green bell peppers ii   oven or crock pot',\n  1941849,\n  1312923600,\n  5.0),\n (3594,\n  'ground beef stuffed green bell peppers ii   oven or crock pot',\n  1803240279,\n  1475010000,\n  2.0),\n (3594,\n  'ground beef stuffed green bell peppers ii   oven or crock pot',\n  2000431901,\n  1532898000,\n  5.0),\n (3599, 'best basic chocolate chip cookies', 2059, 999032400, 4.0),\n (3599, 'best basic chocolate chip cookies', 145880, 1204405200, 5.0),\n (3599, 'best basic chocolate chip cookies', 161883, 1113944400, 5.0),\n (3599, 'best basic chocolate chip cookies', 171359, 1103576400, 4.0),\n (3599, 'best basic chocolate chip cookies', 193103, 1138654800, 3.0),\n (3599, 'best basic chocolate chip cookies', 208984, 1221080400, 5.0),\n (3599, 'best basic chocolate chip cookies', 297920, 1141160400, 3.0),\n (3599, 'best basic chocolate chip cookies', 321751, 1197493200, 1.0),\n (3599, 'best basic chocolate chip cookies', 401707, 1165352400, 5.0),\n (3599, 'best basic chocolate chip cookies', 414969, 1175893200, 5.0),\n (3616, 'oprah s classic mashed potatoes', 2312, 1007758800, 4.0),\n (3616, 'oprah s classic mashed potatoes', 9869, 1032469200, 4.0),\n (3616, 'oprah s classic mashed potatoes', 10715, 1005944400, 5.0),\n (3616, 'oprah s classic mashed potatoes', 94031, 1220734800, 5.0),\n (3616, 'oprah s classic mashed potatoes', 198940, 1133038800, 5.0),\n (3616, 'oprah s classic mashed potatoes', 359051, 1170536400, 4.0),\n (3616, 'oprah s classic mashed potatoes', 402698, 1182027600, 4.0),\n (3616, 'oprah s classic mashed potatoes', 527292, 1221944400, 5.0),\n (3616, 'oprah s classic mashed potatoes', 1013391, 1256590800, 0.0),\n (3616, 'oprah s classic mashed potatoes', 1773101, 1293051600, 5.0),\n (3620, 'peanut butter globs', 13483, 1004562000, 2.0),\n (3620, 'peanut butter globs', 176160, 1168290000, 0.0),\n (3626, 'rabbit stew', 14911, 997822800, 5.0),\n (3626, 'rabbit stew', 97895, 1121893200, 5.0),\n (3626, 'rabbit stew', 220153, 1147122000, 5.0),\n (3626, 'rabbit stew', 380291, 1168203600, 0.0),\n (3626, 'rabbit stew', 536728, 1184706000, 5.0),\n (3662, 'german chocolate sauerkraut cake', 94864, 1066078800, 5.0),\n (3662, 'german chocolate sauerkraut cake', 208902, 1192395600, 4.0),\n (3662, 'german chocolate sauerkraut cake', 2001779476, 1509829200, 4.0),\n (3702, 'northwest mushroom soup', 495723, 1259182800, 5.0),\n (3717, 'eggplant  aubergine  salad', 179456, 1113426000, 4.0),\n (3731, 'no cook marshmallow frosting', 95098, 1086728400, 5.0),\n (3731, 'no cook marshmallow frosting', 131126, 1086296400, 5.0),\n (3731, 'no cook marshmallow frosting', 173880, 1168894800, 4.0),\n (3731, 'no cook marshmallow frosting', 248772, 1132693200, 5.0),\n (3731, 'no cook marshmallow frosting', 253496, 1378501200, 0.0),\n (3731, 'no cook marshmallow frosting', 523494, 1190840400, 5.0),\n (3752, 'wine jelly', 141277, 1221080400, 5.0),\n (3752, 'wine jelly', 169122, 1149454800, 4.0),\n (3752, 'wine jelly', 1392564, 1272747600, 3.0),\n (3755, 'honeyed beef stew', 486680, 1215032400, 4.0),\n (3755, 'honeyed beef stew', 613609, 1196888400, 4.0),\n (3755, 'honeyed beef stew', 1322865, 1260824400, 5.0),\n (3776, 'apple orange brownies', 106797, 1205010000, 5.0),\n (3780, 'easy pineapple pie', 101376, 1137790800, 5.0),\n (3780, 'easy pineapple pie', 124249, 1194728400, 5.0),\n (3780, 'easy pineapple pie', 1408852, 1372798800, 0.0),\n (3780, 'easy pineapple pie', 2000348296, 1437253200, 5.0),\n (3780, 'easy pineapple pie', 2001284889, 1480971600, 0.0),\n (3780, 'easy pineapple pie', 2001333406, 1483304400, 2.0),\n (3806, 'baked cranberry acorn squash', 38643, 1073682000, 5.0),\n (3806, 'baked cranberry acorn squash', 52543, 1068325200, 5.0),\n (3806, 'baked cranberry acorn squash', 56392, 1073682000, 4.0),\n (3806, 'baked cranberry acorn squash', 95743, 1067461200, 5.0),\n (3806, 'baked cranberry acorn squash', 109608, 1235509200, 5.0),\n (3806, 'baked cranberry acorn squash', 219167, 1199048400, 5.0),\n (3806, 'baked cranberry acorn squash', 495568, 1190494800, 4.0),\n (3806, 'baked cranberry acorn squash', 626494, 1233867600, 5.0),\n (3806, 'baked cranberry acorn squash', 710155, 1420491600, 5.0),\n (3806, 'baked cranberry acorn squash', 747945, 1234213200, 0.0),\n (3806, 'baked cranberry acorn squash', 808027, 1227906000, 5.0),\n (3806, 'baked cranberry acorn squash', 2550855, 1413406800, 5.0),\n (3841, 'biscuits and sausage gravy', 16569, 999032400, 5.0),\n (3841, 'biscuits and sausage gravy', 53368, 1133384400, 5.0),\n (3841, 'biscuits and sausage gravy', 450571, 1256331600, 5.0),\n (3841, 'biscuits and sausage gravy', 627915, 1235250000, 5.0),\n (3870, 'deep fried cornish game hens', 504925, 1182027600, 5.0),\n (3929, 'oven fried chicken ii', 34834, 1157922000, 5.0),\n (3929, 'oven fried chicken ii', 35526, 1109883600, 5.0),\n (3929, 'oven fried chicken ii', 36748, 1044910800, 5.0),\n (3929, 'oven fried chicken ii', 37072, 1257627600, 4.0),\n (3929, 'oven fried chicken ii', 38865, 1053723600, 5.0),\n (3929, 'oven fried chicken ii', 44642, 1237928400, 4.0),\n (3929, 'oven fried chicken ii', 55416, 1036530000, 5.0),\n (3929, 'oven fried chicken ii', 55818, 1041454800, 5.0),\n (3929, 'oven fried chicken ii', 67656, 1122757200, 3.0),\n (3929, 'oven fried chicken ii', 68710, 1191186000, 5.0),\n (3929, 'oven fried chicken ii', 82994, 1067461200, 3.0),\n (3929, 'oven fried chicken ii', 91453, 1091566800, 5.0),\n (3929, 'oven fried chicken ii', 92486, 1063573200, 5.0),\n (3929, 'oven fried chicken ii', 98761, 1199048400, 5.0),\n (3929, 'oven fried chicken ii', 100788, 1063918800, 5.0),\n (3929, 'oven fried chicken ii', 101732, 1142715600, 3.0),\n (3929, 'oven fried chicken ii', 101919, 1077915600, 5.0),\n (3929, 'oven fried chicken ii', 109547, 1076274000, 5.0),\n (3929, 'oven fried chicken ii', 116371, 1090270800, 5.0),\n (3929, 'oven fried chicken ii', 121023, 1142370000, 5.0),\n (3929, 'oven fried chicken ii', 160157, 1095282000, 5.0),\n (3929, 'oven fried chicken ii', 165169, 1176411600, 4.0),\n (3929, 'oven fried chicken ii', 171920, 1380574800, 3.0),\n (3929, 'oven fried chicken ii', 181879, 1103835600, 3.0),\n (3929, 'oven fried chicken ii', 186070, 1136754000, 5.0),\n (3929, 'oven fried chicken ii', 186575, 1119128400, 4.0),\n (3929, 'oven fried chicken ii', 204618, 1242594000, 5.0),\n (3929, 'oven fried chicken ii', 206861, 1188939600, 2.0),\n (3929, 'oven fried chicken ii', 206920, 1113339600, 3.0),\n (3929, 'oven fried chicken ii', 221617, 1150059600, 5.0),\n (3929, 'oven fried chicken ii', 237533, 1136494800, 5.0),\n (3929, 'oven fried chicken ii', 262353, 1149195600, 5.0),\n (3929, 'oven fried chicken ii', 279698, 1168722000, 5.0),\n (3929, 'oven fried chicken ii', 281098, 1196110800, 4.0),\n (3929, 'oven fried chicken ii', 289319, 1187902800, 5.0),\n (3929, 'oven fried chicken ii', 290010, 1480971600, 5.0),\n (3929, 'oven fried chicken ii', 295741, 1190062800, 4.0),\n (3929, 'oven fried chicken ii', 437767, 1244062800, 4.0),\n (3929, 'oven fried chicken ii', 455539, 1182200400, 5.0),\n (3929, 'oven fried chicken ii', 496999, 1255294800, 5.0),\n (3929, 'oven fried chicken ii', 576916, 1188853200, 5.0),\n (3929, 'oven fried chicken ii', 599261, 1197838800, 1.0),\n (3929, 'oven fried chicken ii', 603831, 1197147600, 4.0),\n (3929, 'oven fried chicken ii', 610070, 1195938000, 3.0),\n (3929, 'oven fried chicken ii', 634323, 1241211600, 5.0),\n (3929, 'oven fried chicken ii', 826306, 1245704400, 3.0),\n (3929, 'oven fried chicken ii', 909910, 1249160400, 4.0),\n (3929, 'oven fried chicken ii', 1175380, 1262984400, 4.0),\n (3929, 'oven fried chicken ii', 1298609, 1258578000, 5.0),\n (3929, 'oven fried chicken ii', 1423019, 1256590800, 5.0),\n (3929, 'oven fried chicken ii', 1633909, 1365973200, 5.0),\n (3929, 'oven fried chicken ii', 2000436289, 1441486800, 5.0),\n (3941, 'coffee house chocolate spoons', 110464, 1067634000, 5.0),\n (3941, 'coffee house chocolate spoons', 360437, 1166821200, 5.0),\n (3941, 'coffee house chocolate spoons', 494593, 1229893200, 5.0),\n (3979, 'vanilla cream filling for doughnuts', 139706, 1093035600, 5.0),\n (4000, 'maraschino cake', None, None, None),\n (4035, 'mocha cocoa mix', 3824, 976222800, 5.0),\n (4037, 'nut crusted loin chops', 750514, 1201899600, 4.0),\n (4048, 'sweet potato pie v', 3504, 974926800, 0.0),\n (4052, 'low fat cherry cheesecake pudding pie', 29063, 1176584400, 1.0),\n (4052, 'low fat cherry cheesecake pudding pie', 41532, 1023829200, 5.0),\n (4052, 'low fat cherry cheesecake pudding pie', 103876, 1085778000, 5.0),\n (4052, 'low fat cherry cheesecake pudding pie', 140806, 1143234000, 5.0),\n (4052, 'low fat cherry cheesecake pudding pie', 300082, 1165525200, 4.0),\n (4052, 'low fat cherry cheesecake pudding pie', 340130, 1176066000, 5.0),\n (4052, 'low fat cherry cheesecake pudding pie', 437200, 1246741200, 5.0),\n (4052, 'low fat cherry cheesecake pudding pie', 727962, 1205010000, 5.0),\n (4052, 'low fat cherry cheesecake pudding pie', 2507555, 1353186000, 5.0),\n (4093, 'baked salmon with cucumber sauce', 885979, 1226178000, 5.0),\n (4093, 'baked salmon with cucumber sauce', 1604143, 1272315600, 5.0),\n (4093, 'baked salmon with cucumber sauce', 1725408, 1289250000, 5.0),\n (4098, 'cushaw casserole', 1803601714, 1468357200, 0.0),\n (4127, 'easy christmas cookies', 9869, 1007931600, 4.0),\n (4127, 'easy christmas cookies', 65011, 1041195600, 4.0),\n (4127, 'easy christmas cookies', 2123645, 1377723600, 4.0),\n (4127, 'easy christmas cookies', 2001286697, 1481058000, 0.0),\n (4127, 'easy christmas cookies', 2001293871, 1481490000, 0.0),\n (4135, 'jack daniel s marinade', 3622, 975272400, 1.0),\n (4146, 'cold mozzarella cheese dip', 20855, 1022706000, 5.0),\n (4146, 'cold mozzarella cheese dip', 27961, 1153774800, 5.0),\n (4146, 'cold mozzarella cheese dip', 101381, 1160168400, 4.0),\n (4146, 'cold mozzarella cheese dip', 101823, 1115413200, 3.0),\n (4146, 'cold mozzarella cheese dip', 607624, 1194037200, 4.0),\n (4146, 'cold mozzarella cheese dip', 2000591595, 1445547600, 0.0),\n (4146, 'cold mozzarella cheese dip', 2001049627, 1465851600, 5.0),\n (4151, 'burst o  lemon muffins', 15656, 999810000, 4.0),\n (4151, 'burst o  lemon muffins', 29956, 1030222800, 5.0),\n (4151, 'burst o  lemon muffins', 33159, 1272747600, 5.0),\n (4151, 'burst o  lemon muffins', 65056, 1104354000, 5.0),\n (4151, 'burst o  lemon muffins', 92816, 1305406800, 5.0),\n (4151, 'burst o  lemon muffins', 107135, 1109624400, 5.0),\n (4151, 'burst o  lemon muffins', 128473, 1110488400, 5.0),\n (4151, 'burst o  lemon muffins', 257968, 1195419600, 4.0),\n (4151, 'burst o  lemon muffins', 280166, 1160600400, 4.0),\n (4151, 'burst o  lemon muffins', 1252036, 1250802000, 5.0),\n (4205, 'alfredo fettuccine', 10216, 1003784400, 5.0),\n (4205, 'alfredo fettuccine', 26290, 1233349200, 5.0),\n (4205, 'alfredo fettuccine', 26313, 1218747600, 3.0),\n (4205, 'alfredo fettuccine', 27643, 1015880400, 4.0),\n (4205, 'alfredo fettuccine', 27783, 1022101200, 4.0),\n (4205, 'alfredo fettuccine', 28397, 1015189200, 4.0),\n (4205, 'alfredo fettuccine', 32530, 1014930000, 4.0),\n (4205, 'alfredo fettuccine', 39301, 1161032400, 5.0),\n (4205, 'alfredo fettuccine', 41409, 1162501200, 5.0),\n (4205, 'alfredo fettuccine', 42341, 1022619600, 4.0),\n (4205, 'alfredo fettuccine', 43006, 1025038800, 5.0),\n (4205, 'alfredo fettuccine', 46104, 1214946000, 5.0),\n (4205, 'alfredo fettuccine', 49918, 1220562000, 4.0),\n (4205, 'alfredo fettuccine', 50151, 1134248400, 3.0),\n (4205, 'alfredo fettuccine', 60281, 1165784400, 2.0),\n (4205, 'alfredo fettuccine', 83093, 1124658000, 5.0),\n (4205, 'alfredo fettuccine', 95217, 1256504400, 5.0),\n (4205, 'alfredo fettuccine', 110078, 1123534800, 5.0),\n (4205, 'alfredo fettuccine', 112263, 1149195600, 5.0),\n (4205, 'alfredo fettuccine', 129582, 1094158800, 5.0),\n (4205, 'alfredo fettuccine', 136229, 1095714000, 5.0),\n (4205, 'alfredo fettuccine', 148417, 1088456400, 5.0),\n (4205, 'alfredo fettuccine', 154332, 1103490000, 5.0),\n (4205, 'alfredo fettuccine', 154853, 1200690000, 5.0),\n (4205, 'alfredo fettuccine', 184723, 1140642000, 5.0),\n (4205, 'alfredo fettuccine', 186487, 1109019600, 5.0),\n (4205, 'alfredo fettuccine', 189280, 1159909200, 5.0),\n (4205, 'alfredo fettuccine', 222433, 1134162000, 3.0),\n (4205, 'alfredo fettuccine', 236834, 1196283600, 5.0),\n (4205, 'alfredo fettuccine', 244035, 1148245200, 4.0),\n (4205, 'alfredo fettuccine', 263211, 1133816400, 5.0),\n (4205, 'alfredo fettuccine', 268313, 1325451600, 5.0),\n (4205, 'alfredo fettuccine', 307209, 1143838800, 5.0),\n (4205, 'alfredo fettuccine', 326051, 1151096400, 4.0),\n (4205, 'alfredo fettuccine', 493002, 1207256400, 2.0),\n (4205, 'alfredo fettuccine', 582071, 1190149200, 5.0),\n (4205, 'alfredo fettuccine', 587527, 1226955600, 5.0),\n (4205, 'alfredo fettuccine', 589699, 1196888400, 5.0),\n (4205, 'alfredo fettuccine', 593513, 1220389200, 5.0),\n (4205, 'alfredo fettuccine', 668831, 1196283600, 4.0),\n (4205, 'alfredo fettuccine', 728767, 1251406800, 5.0),\n (4205, 'alfredo fettuccine', 739173, 1207515600, 5.0),\n (4205, 'alfredo fettuccine', 1053251, 1255554000, 5.0),\n (4205, 'alfredo fettuccine', 1149940, 1250542800, 5.0),\n (4205, 'alfredo fettuccine', 1248466, 1276981200, 4.0),\n (4205, 'alfredo fettuccine', 1303803, 1247346000, 5.0),\n (4205, 'alfredo fettuccine', 1350551, 1251925200, 5.0),\n (4205, 'alfredo fettuccine', 1366975, 1253134800, 3.0),\n (4205, 'alfredo fettuccine', 1427035, 1256677200, 4.0),\n (4205, 'alfredo fettuccine', 1457659, 1264971600, 5.0),\n (4205, 'alfredo fettuccine', 2295741, 1340658000, 4.0),\n (4206, 'beef and guinness casserole', 755358, 1205787600, 3.0),\n (4215, 'helen s husband s delicious cheese spread', 334186, 1217365200, 4.0),\n (4235, 'baked oriental salmon', 279614, 1199394000, 4.0),\n (4279, 'never fail pie crust ii', 234062, 1167512400, 4.0),\n (4279, 'never fail pie crust ii', 476817, 1175634000, 4.0),\n (4380, 'cinco de mayo', 31364, 1077310800, 5.0),\n (4400, 'shrimp and cream cheese appetizer', 27395, 1018904400, 5.0),\n (4413, 'lemon jam', 991930, 1224104400, 5.0),\n (4425, 'triple  chocolate bundt cake', 14386, 1001883600, 1.0),\n (4425, 'triple  chocolate bundt cake', 345080, 1187384400, 1.0),\n (4440, 'chocolate fruitcake', 91392, 1133989200, 3.0),\n (4459, 'mississippi mud cake iv', 173903, 1100811600, 5.0),\n (4505, 'black and white soup', 305147, 1155070800, 4.0),\n (4530, 'low fat zippy kidney bean dip', 28346, 1063227600, 3.0),\n (4543, 'mascarpone cheese   substitute   homemade', 727055, 1231621200, 5.0),\n (4550, 'elmo s orzo soup', 5495, 980974800, 4.0),\n (4560, 'seven layer bars', 4017, 977864400, 4.0),\n (4560, 'seven layer bars', 144490, 1192568400, 4.0),\n (4560, 'seven layer bars', 147023, 1183928400, 5.0),\n (4560, 'seven layer bars', 158086, 1164747600, 5.0),\n (4560, 'seven layer bars', 170972, 1193086800, 5.0),\n (4560, 'seven layer bars', 173537, 1115240400, 5.0),\n (4560, 'seven layer bars', 174096, 1199048400, 5.0),\n (4560, 'seven layer bars', 184400, 1197147600, 4.0),\n (4560, 'seven layer bars', 226863, 1264885200, 5.0),\n (4560, 'seven layer bars', 228273, 1125176400, 5.0),\n (4560, 'seven layer bars', 319738, 1192050000, 4.0),\n (4560, 'seven layer bars', 354465, 1160427600, 5.0),\n (4560, 'seven layer bars', 486718, 1198962000, 5.0),\n (4560, 'seven layer bars', 1797525, 1444856400, 0.0),\n (4588, 'bagels ii', 12657, 1036789200, 1.0),\n (4588, 'bagels ii', 122877, 1180386000, 4.0),\n (4588, 'bagels ii', 295699, 1167685200, 5.0),\n (4588, 'bagels ii', 539015, 1265403600, 5.0),\n (4599, 'swedish spritz cookies', 118684, 1259787600, 5.0),\n (4609, 'gypsy tart ii', 170788, 1099342800, 0.0),\n (4671, 'crepes suzette ii', 159706, 1099774800, 4.0),\n (4691, 'creamy pumpkin custard pie', 268379, 1227733200, 5.0),\n (4699, 'english christmas pudding ii', 68524, 1042923600, 5.0),\n (4699, 'english christmas pudding ii', 96806, 1104354000, 4.0),\n (4709, 'chicken with orange peel  szechwan style', 215898, 1147554000, 5.0),\n (4709, 'chicken with orange peel  szechwan style', 237053, 1175461200, 5.0),\n (4709, 'chicken with orange peel  szechwan style', 346788, 1198011600, 1.0),\n (4709, 'chicken with orange peel  szechwan style', 481946, 1177448400, 4.0),\n (4717, 'sweet potato pecan pie ii', 4141, 977864400, 5.0),\n (4717, 'sweet potato pecan pie ii', 209831, 1193605200, 5.0),\n (4724, 'devonshire corn', 54067, 1150750800, 5.0),\n (4724, 'devonshire corn', 189616, 1127422800, 5.0),\n (4724, 'devonshire corn', 353131, 1198702800, 5.0),\n (4724, 'devonshire corn', 391048, 1192654800, 4.0),\n (4724, 'devonshire corn', 415204, 1170018000, 5.0),\n (4740, 'chocolate truffles with rum', None, None, None),\n (4746, 'broccoli with sour cream', 222478, 1151269200, 4.0),\n (4746, 'broccoli with sour cream', 251380, 1136408400, 3.0),\n (4746, 'broccoli with sour cream', 1193248, 1242248400, 0.0),\n (4753, 'corn casserole iii', 18207, 1000760400, 4.0),\n (4753, 'corn casserole iii', 24995, 1021928400, 4.0),\n (4753, 'corn casserole iii', 108151, 1261688400, 4.0),\n (4753, 'corn casserole iii', 163867, 1097355600, 4.0),\n (4753, 'corn casserole iii', 213655, 1198184400, 4.0),\n (4755, 'taco soup iv', 156526, 1180472400, 4.0),\n (4801, 'yellow rice ii', 64642, 1175374800, 4.0),\n (4801, 'yellow rice ii', 182010, 1133557200, 4.0),\n (4834, 'cranberry burgundy sauce', 177443, 1206910800, 5.0),\n (4834, 'cranberry burgundy sauce', 207176, 1163970000, 0.0),\n (4834, 'cranberry burgundy sauce', 572757, 1188248400, 5.0),\n (4874, 'chocolate chip pumpkin cheesecake', 114681, 1168290000, 5.0),\n (4874, 'chocolate chip pumpkin cheesecake', 218383, 1196456400, 5.0),\n (4874, 'chocolate chip pumpkin cheesecake', 338459, 1219266000, 5.0),\n (4874, 'chocolate chip pumpkin cheesecake', 965761, 1228165200, 4.0),\n (4876, 'millet loaf', 37640, 1393880400, 4.0),\n (4876, 'millet loaf', 106506, 1203368400, 4.0),\n (4876, 'millet loaf', 143318, 1211317200, 5.0),\n (4876, 'millet loaf', 153919, 1241038800, 5.0),\n (4876, 'millet loaf', 256768, 1363381200, 4.0),\n (4876, 'millet loaf', 283390, 1233349200, 4.0),\n (4876, 'millet loaf', 355348, 1167426000, 5.0),\n (4876, 'millet loaf', 626995, 1198011600, 4.0),\n (4876, 'millet loaf', 1580204, 1280523600, 3.0),\n (4893, 'chestnut stuffing', 51199, 1135026000, 5.0),\n (4893, 'chestnut stuffing', 1801347284, 1388005200, 0.0),\n (4921, 'green beans in dill walnut sauce', 96357, 1200258000, 4.0),\n (4921, 'green beans in dill walnut sauce', 369692, 1180472400, 1.0),\n (4921, 'green beans in dill walnut sauce', 527849, 1198357200, 3.0),\n (4931, 'pickling corned beef', 223690, 1245704400, 5.0),\n (5006, 'baked sweet potato chips', 4470, 1111957200, 4.0),\n (5006, 'baked sweet potato chips', 60716, 1273179600, 4.0),\n (5006, 'baked sweet potato chips', 355272, 1170795600, 1.0),\n (5006, 'baked sweet potato chips', 1596631, 1276981200, 4.0),\n (5012, 'chicago style deep dish pizza crust', 89240, 1086037200, 5.0),\n (5012, 'chicago style deep dish pizza crust', 94321, 1100466000, 5.0),\n (5012, 'chicago style deep dish pizza crust', 146573, 1147035600, 5.0),\n (5012, 'chicago style deep dish pizza crust', 291378, 1186952400, 4.0),\n (5012, 'chicago style deep dish pizza crust', 524494, 1186779600, 5.0),\n (5012, 'chicago style deep dish pizza crust', 635855, 1200603600, 4.0),\n ...]"
     },
     "execution_count": 37,
     "metadata": {},
     "output_type": "execute_result"
    }
   ],
   "source": [
    "stmt = \"\"\"\n",
    "select REC.id, REC.name, REV.user_id, REV.date, REV.rating\n",
    "from Recipe REC left join Review REV on REC.id = REV.recipe_id\n",
    "where n_ingredients >= 3 order by REC.id;\n",
    "\"\"\"\n",
    "cur.execute(stmt)\n",
    "cur.fetchall()\n"
   ],
   "metadata": {
    "collapsed": false,
    "pycharm": {
     "name": "#%%\n"
    }
   }
  }
 ],
 "metadata": {
  "kernelspec": {
   "name": "python3",
   "language": "python",
   "display_name": "Python 3 (ipykernel)"
  },
  "language_info": {
   "codemirror_mode": {
    "name": "ipython",
    "version": 3
   },
   "file_extension": ".py",
   "mimetype": "text/x-python",
   "name": "python",
   "nbconvert_exporter": "python",
   "pygments_lexer": "ipython3",
   "version": "3.8.8"
  }
 },
 "nbformat": 4,
 "nbformat_minor": 4
}