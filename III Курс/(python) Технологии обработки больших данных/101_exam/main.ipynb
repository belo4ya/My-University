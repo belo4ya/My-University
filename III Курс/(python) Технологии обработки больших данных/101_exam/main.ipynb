{
 "cells": [
  {
   "cell_type": "code",
   "execution_count": 68,
   "metadata": {
    "collapsed": true
   },
   "outputs": [],
   "source": [
    "import pandas as pd\n",
    "from geopy import distance\n",
    "from tqdm import tqdm\n",
    "tqdm.pandas()"
   ]
  },
  {
   "cell_type": "code",
   "execution_count": 30,
   "outputs": [
    {
     "data": {
      "text/plain": "   tripduration                 starttime                  stoptime  \\\n0          1635  2018-09-01 00:00:05.2690  2018-09-01 00:27:20.6340   \n1           132  2018-09-01 00:00:11.2810  2018-09-01 00:02:23.4810   \n2          3337  2018-09-01 00:00:20.6490  2018-09-01 00:55:58.5470   \n3           436  2018-09-01 00:00:21.7460  2018-09-01 00:07:38.5830   \n4          8457  2018-09-01 00:00:27.3150  2018-09-01 02:21:25.3080   \n\n   start station id               start station name  start station latitude  \\\n0             252.0     MacDougal St & Washington Sq               40.732264   \n1             314.0  Cadman Plaza West & Montague St               40.693830   \n2            3142.0                  1 Ave & E 62 St               40.761227   \n3             308.0          St James Pl & Oliver St               40.713079   \n4             345.0                  W 13 St & 6 Ave               40.736494   \n\n   start station longitude  end station id            end station name  \\\n0               -73.998522           366.0    Clinton Ave & Myrtle Ave   \n1               -73.990539          3242.0  Schermerhorn St & Court St   \n2               -73.960940          3384.0             Smith St & 3 St   \n3               -73.998512          3690.0         Park Pl & Church St   \n4               -73.997044           380.0            W 4 St & 7 Ave S   \n\n   end station latitude  end station longitude  bikeid    usertype  \\\n0             40.693261             -73.968896   25577  Subscriber   \n1             40.691029             -73.991834   34377  Subscriber   \n2             40.678724             -73.995991   30496  Subscriber   \n3             40.713342             -74.009355   28866  Subscriber   \n4             40.734011             -74.002939   20943    Customer   \n\n   birth year  gender  \n0        1980       1  \n1        1969       0  \n2        1975       1  \n3        1984       2  \n4        1994       1  ",
      "text/html": "<div>\n<style scoped>\n    .dataframe tbody tr th:only-of-type {\n        vertical-align: middle;\n    }\n\n    .dataframe tbody tr th {\n        vertical-align: top;\n    }\n\n    .dataframe thead th {\n        text-align: right;\n    }\n</style>\n<table border=\"1\" class=\"dataframe\">\n  <thead>\n    <tr style=\"text-align: right;\">\n      <th></th>\n      <th>tripduration</th>\n      <th>starttime</th>\n      <th>stoptime</th>\n      <th>start station id</th>\n      <th>start station name</th>\n      <th>start station latitude</th>\n      <th>start station longitude</th>\n      <th>end station id</th>\n      <th>end station name</th>\n      <th>end station latitude</th>\n      <th>end station longitude</th>\n      <th>bikeid</th>\n      <th>usertype</th>\n      <th>birth year</th>\n      <th>gender</th>\n    </tr>\n  </thead>\n  <tbody>\n    <tr>\n      <th>0</th>\n      <td>1635</td>\n      <td>2018-09-01 00:00:05.2690</td>\n      <td>2018-09-01 00:27:20.6340</td>\n      <td>252.0</td>\n      <td>MacDougal St &amp; Washington Sq</td>\n      <td>40.732264</td>\n      <td>-73.998522</td>\n      <td>366.0</td>\n      <td>Clinton Ave &amp; Myrtle Ave</td>\n      <td>40.693261</td>\n      <td>-73.968896</td>\n      <td>25577</td>\n      <td>Subscriber</td>\n      <td>1980</td>\n      <td>1</td>\n    </tr>\n    <tr>\n      <th>1</th>\n      <td>132</td>\n      <td>2018-09-01 00:00:11.2810</td>\n      <td>2018-09-01 00:02:23.4810</td>\n      <td>314.0</td>\n      <td>Cadman Plaza West &amp; Montague St</td>\n      <td>40.693830</td>\n      <td>-73.990539</td>\n      <td>3242.0</td>\n      <td>Schermerhorn St &amp; Court St</td>\n      <td>40.691029</td>\n      <td>-73.991834</td>\n      <td>34377</td>\n      <td>Subscriber</td>\n      <td>1969</td>\n      <td>0</td>\n    </tr>\n    <tr>\n      <th>2</th>\n      <td>3337</td>\n      <td>2018-09-01 00:00:20.6490</td>\n      <td>2018-09-01 00:55:58.5470</td>\n      <td>3142.0</td>\n      <td>1 Ave &amp; E 62 St</td>\n      <td>40.761227</td>\n      <td>-73.960940</td>\n      <td>3384.0</td>\n      <td>Smith St &amp; 3 St</td>\n      <td>40.678724</td>\n      <td>-73.995991</td>\n      <td>30496</td>\n      <td>Subscriber</td>\n      <td>1975</td>\n      <td>1</td>\n    </tr>\n    <tr>\n      <th>3</th>\n      <td>436</td>\n      <td>2018-09-01 00:00:21.7460</td>\n      <td>2018-09-01 00:07:38.5830</td>\n      <td>308.0</td>\n      <td>St James Pl &amp; Oliver St</td>\n      <td>40.713079</td>\n      <td>-73.998512</td>\n      <td>3690.0</td>\n      <td>Park Pl &amp; Church St</td>\n      <td>40.713342</td>\n      <td>-74.009355</td>\n      <td>28866</td>\n      <td>Subscriber</td>\n      <td>1984</td>\n      <td>2</td>\n    </tr>\n    <tr>\n      <th>4</th>\n      <td>8457</td>\n      <td>2018-09-01 00:00:27.3150</td>\n      <td>2018-09-01 02:21:25.3080</td>\n      <td>345.0</td>\n      <td>W 13 St &amp; 6 Ave</td>\n      <td>40.736494</td>\n      <td>-73.997044</td>\n      <td>380.0</td>\n      <td>W 4 St &amp; 7 Ave S</td>\n      <td>40.734011</td>\n      <td>-74.002939</td>\n      <td>20943</td>\n      <td>Customer</td>\n      <td>1994</td>\n      <td>1</td>\n    </tr>\n  </tbody>\n</table>\n</div>"
     },
     "execution_count": 30,
     "metadata": {},
     "output_type": "execute_result"
    }
   ],
   "source": [
    "df = pd.read_csv('201809-citibike-tripdata.csv')\n",
    "df = df[df['start station id'] != df['end station id']]\n",
    "df.head()"
   ],
   "metadata": {
    "collapsed": false,
    "pycharm": {
     "name": "#%%\n"
    }
   }
  },
  {
   "cell_type": "code",
   "execution_count": 31,
   "outputs": [],
   "source": [
    "def calc_distance(s: pd.Series) -> float:\n",
    "    start = (s['start station latitude'], s['start station longitude'])\n",
    "    end = (s['end station latitude'], s['end station longitude'])\n",
    "    return distance.geodesic(start, end).km"
   ],
   "metadata": {
    "collapsed": false,
    "pycharm": {
     "name": "#%%\n"
    }
   }
  },
  {
   "cell_type": "code",
   "execution_count": 32,
   "outputs": [
    {
     "name": "stderr",
     "output_type": "stream",
     "text": [
      "100%|██████████| 1836520/1836520 [05:29<00:00, 5574.58it/s]\n"
     ]
    },
    {
     "data": {
      "text/plain": "0          5.002636\n1          0.329706\n2          9.628592\n3          0.916704\n4          0.569182\n             ...   \n1877879    0.428564\n1877880    0.428564\n1877881    5.570447\n1877882    0.898595\n1877883    4.137586\nLength: 1836520, dtype: float64"
     },
     "execution_count": 32,
     "metadata": {},
     "output_type": "execute_result"
    }
   ],
   "source": [
    "trip_length: pd.Series = df.progress_apply(calc_distance, axis=1)\n",
    "trip_length"
   ],
   "metadata": {
    "collapsed": false,
    "pycharm": {
     "name": "#%%\n"
    }
   }
  },
  {
   "cell_type": "code",
   "execution_count": 33,
   "outputs": [
    {
     "data": {
      "text/plain": "1.8495860872213894"
     },
     "execution_count": 33,
     "metadata": {},
     "output_type": "execute_result"
    }
   ],
   "source": [
    "trip_length.mean()"
   ],
   "metadata": {
    "collapsed": false,
    "pycharm": {
     "name": "#%%\n"
    }
   }
  }
 ],
 "metadata": {
  "kernelspec": {
   "display_name": "Python 3",
   "language": "python",
   "name": "python3"
  },
  "language_info": {
   "codemirror_mode": {
    "name": "ipython",
    "version": 2
   },
   "file_extension": ".py",
   "mimetype": "text/x-python",
   "name": "python",
   "nbconvert_exporter": "python",
   "pygments_lexer": "ipython2",
   "version": "2.7.6"
  }
 },
 "nbformat": 4,
 "nbformat_minor": 0
}