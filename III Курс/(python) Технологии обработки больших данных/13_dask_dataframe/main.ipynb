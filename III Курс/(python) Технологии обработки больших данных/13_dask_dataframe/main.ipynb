{
 "cells": [
  {
   "cell_type": "markdown",
   "metadata": {},
   "source": [
    "# Dask DataFrame"
   ]
  },
  {
   "cell_type": "markdown",
   "metadata": {},
   "source": [
    "Материалы: \n",
    "* Макрушин С.В. Лекция 13: Dask DataFrame\n",
    "* https://docs.dask.org/en/latest/dataframe.html\n",
    "* JESSE C. DANIEL. Data Science with Python and Dask. "
   ]
  },
  {
   "cell_type": "code",
   "execution_count": 1,
   "outputs": [],
   "source": [
    "import json\n",
    "import re\n",
    "from pathlib import Path\n",
    "\n",
    "import dask.bag as db\n",
    "import dask.dataframe as dd\n",
    "import numpy as np\n",
    "import pandas as pd"
   ],
   "metadata": {
    "collapsed": false,
    "pycharm": {
     "name": "#%%\n"
    }
   }
  },
  {
   "cell_type": "code",
   "execution_count": 2,
   "outputs": [],
   "source": [
    "DATA_DIR = Path('data/')\n",
    "OUTPUT_DIR = Path('output/')\n",
    "if not OUTPUT_DIR.exists():\n",
    "    OUTPUT_DIR.mkdir()"
   ],
   "metadata": {
    "collapsed": false,
    "pycharm": {
     "name": "#%%\n"
    }
   }
  },
  {
   "cell_type": "markdown",
   "metadata": {},
   "source": [
    "## Задачи для совместного разбора"
   ]
  },
  {
   "cell_type": "markdown",
   "metadata": {},
   "source": [
    "1. Считать данные из файлов в каталоге `accounts`. Содержат ли какие-либо из столбцов пропуски?"
   ]
  },
  {
   "cell_type": "code",
   "execution_count": 3,
   "outputs": [
    {
     "data": {
      "text/plain": "    id   names  amount\n0   39  Victor   205.0\n1  289  Hannah    87.0\n2  234  Victor  1820.0\n3  155     Ray  -600.0\n4  266     Ray   572.0",
      "text/html": "<div>\n<style scoped>\n    .dataframe tbody tr th:only-of-type {\n        vertical-align: middle;\n    }\n\n    .dataframe tbody tr th {\n        vertical-align: top;\n    }\n\n    .dataframe thead th {\n        text-align: right;\n    }\n</style>\n<table border=\"1\" class=\"dataframe\">\n  <thead>\n    <tr style=\"text-align: right;\">\n      <th></th>\n      <th>id</th>\n      <th>names</th>\n      <th>amount</th>\n    </tr>\n  </thead>\n  <tbody>\n    <tr>\n      <th>0</th>\n      <td>39</td>\n      <td>Victor</td>\n      <td>205.0</td>\n    </tr>\n    <tr>\n      <th>1</th>\n      <td>289</td>\n      <td>Hannah</td>\n      <td>87.0</td>\n    </tr>\n    <tr>\n      <th>2</th>\n      <td>234</td>\n      <td>Victor</td>\n      <td>1820.0</td>\n    </tr>\n    <tr>\n      <th>3</th>\n      <td>155</td>\n      <td>Ray</td>\n      <td>-600.0</td>\n    </tr>\n    <tr>\n      <th>4</th>\n      <td>266</td>\n      <td>Ray</td>\n      <td>572.0</td>\n    </tr>\n  </tbody>\n</table>\n</div>"
     },
     "execution_count": 3,
     "metadata": {},
     "output_type": "execute_result"
    }
   ],
   "source": [
    "accounts_df: dd.DataFrame = dd.read_csv(\n",
    "    DATA_DIR.joinpath('accounts/accounts.*.csv'),\n",
    "    sep=',',\n",
    "    dtype={'id': np.uint16, 'names': object, 'amount': np.float32}\n",
    ").persist()\n",
    "accounts_df.head(5)"
   ],
   "metadata": {
    "collapsed": false,
    "pycharm": {
     "name": "#%%\n"
    }
   }
  },
  {
   "cell_type": "code",
   "execution_count": 4,
   "outputs": [
    {
     "data": {
      "text/plain": "id        0\nnames     0\namount    3\ndtype: int64"
     },
     "execution_count": 4,
     "metadata": {},
     "output_type": "execute_result"
    }
   ],
   "source": [
    "accounts_df.isna().sum().compute()"
   ],
   "metadata": {
    "collapsed": false,
    "pycharm": {
     "name": "#%%\n"
    }
   }
  },
  {
   "cell_type": "markdown",
   "metadata": {},
   "source": [
    "2. Подсчитать количество раз, которое то или иное имя встретилось в выборке. Вывести самое часто встречающееся имя."
   ]
  },
  {
   "cell_type": "code",
   "execution_count": 5,
   "outputs": [],
   "source": [
    "name_freq: pd.Series = accounts_df['names'].value_counts().compute()"
   ],
   "metadata": {
    "collapsed": false,
    "pycharm": {
     "name": "#%%\n"
    }
   }
  },
  {
   "cell_type": "code",
   "execution_count": 6,
   "outputs": [
    {
     "name": "stdout",
     "output_type": "stream",
     "text": [
      "Norbert    188147\n",
      "Name: names, dtype: int64\n"
     ]
    },
    {
     "data": {
      "text/plain": "Norbert     188147\nAlice       185892\nGeorge      183249\nTim         162432\nBob         157065\nMichael     148372\nIngrid      132067\nOliver      121907\nQuinn       118071\nWendy       110657\nCharlie     109236\nUrsula      108745\nHannah      108632\nRay         108610\nSarah       104781\nVictor      102656\nFrank        99984\nLaura        97216\nJerry        96378\nXavier       94445\nEdith        89991\nZelda        89047\nKevin        84784\nDan          73293\nPatricia     62881\nYvonne       61462\nName: names, dtype: int64"
     },
     "execution_count": 6,
     "metadata": {},
     "output_type": "execute_result"
    }
   ],
   "source": [
    "print(name_freq.head(1))\n",
    "name_freq"
   ],
   "metadata": {
    "collapsed": false,
    "pycharm": {
     "name": "#%%\n"
    }
   }
  },
  {
   "cell_type": "markdown",
   "metadata": {},
   "source": [
    "3. Создать новую колонку, которая является результатом от деления значения `amount` нацело на 100, если `amount` > 100, и нулём в противном случае."
   ]
  },
  {
   "cell_type": "code",
   "execution_count": 7,
   "outputs": [],
   "source": [
    "accounts_df['new_amount'] = accounts_df['amount'].map(lambda x: x // 100 if x > 100 else 0)"
   ],
   "metadata": {
    "collapsed": false,
    "pycharm": {
     "name": "#%%\n"
    }
   }
  },
  {
   "cell_type": "code",
   "execution_count": 8,
   "outputs": [
    {
     "data": {
      "text/plain": "         id     names  amount  new_amount\n914209  235     Jerry  1735.0        17.0\n326347   35     Alice   262.0         2.0\n664822  278     Alice   567.0         5.0\n997106   14     Alice   301.0         3.0\n650116   94    Victor  -202.0         0.0\n678475  141  Patricia   252.0         2.0\n154906  301    Oliver   106.0         1.0\n423577  408     Frank  -364.0         0.0\n220978  304     Sarah  2676.0        26.0\n750674  465     Edith    27.0         0.0",
      "text/html": "<div>\n<style scoped>\n    .dataframe tbody tr th:only-of-type {\n        vertical-align: middle;\n    }\n\n    .dataframe tbody tr th {\n        vertical-align: top;\n    }\n\n    .dataframe thead th {\n        text-align: right;\n    }\n</style>\n<table border=\"1\" class=\"dataframe\">\n  <thead>\n    <tr style=\"text-align: right;\">\n      <th></th>\n      <th>id</th>\n      <th>names</th>\n      <th>amount</th>\n      <th>new_amount</th>\n    </tr>\n  </thead>\n  <tbody>\n    <tr>\n      <th>914209</th>\n      <td>235</td>\n      <td>Jerry</td>\n      <td>1735.0</td>\n      <td>17.0</td>\n    </tr>\n    <tr>\n      <th>326347</th>\n      <td>35</td>\n      <td>Alice</td>\n      <td>262.0</td>\n      <td>2.0</td>\n    </tr>\n    <tr>\n      <th>664822</th>\n      <td>278</td>\n      <td>Alice</td>\n      <td>567.0</td>\n      <td>5.0</td>\n    </tr>\n    <tr>\n      <th>997106</th>\n      <td>14</td>\n      <td>Alice</td>\n      <td>301.0</td>\n      <td>3.0</td>\n    </tr>\n    <tr>\n      <th>650116</th>\n      <td>94</td>\n      <td>Victor</td>\n      <td>-202.0</td>\n      <td>0.0</td>\n    </tr>\n    <tr>\n      <th>678475</th>\n      <td>141</td>\n      <td>Patricia</td>\n      <td>252.0</td>\n      <td>2.0</td>\n    </tr>\n    <tr>\n      <th>154906</th>\n      <td>301</td>\n      <td>Oliver</td>\n      <td>106.0</td>\n      <td>1.0</td>\n    </tr>\n    <tr>\n      <th>423577</th>\n      <td>408</td>\n      <td>Frank</td>\n      <td>-364.0</td>\n      <td>0.0</td>\n    </tr>\n    <tr>\n      <th>220978</th>\n      <td>304</td>\n      <td>Sarah</td>\n      <td>2676.0</td>\n      <td>26.0</td>\n    </tr>\n    <tr>\n      <th>750674</th>\n      <td>465</td>\n      <td>Edith</td>\n      <td>27.0</td>\n      <td>0.0</td>\n    </tr>\n  </tbody>\n</table>\n</div>"
     },
     "execution_count": 8,
     "metadata": {},
     "output_type": "execute_result"
    }
   ],
   "source": [
    "accounts_df.compute().sample(10).head(30)"
   ],
   "metadata": {
    "collapsed": false,
    "pycharm": {
     "name": "#%%\n"
    }
   }
  },
  {
   "cell_type": "code",
   "execution_count": 9,
   "outputs": [],
   "source": [
    "del accounts_df"
   ],
   "metadata": {
    "collapsed": false,
    "pycharm": {
     "name": "#%%\n"
    }
   }
  },
  {
   "cell_type": "markdown",
   "metadata": {},
   "source": [
    "## Лабораторная работа 13"
   ]
  },
  {
   "cell_type": "markdown",
   "metadata": {},
   "source": [
    "1. В архиве `recipes_full.zip` находятся файлы, содержащие информацию об рецептах блюд. Загрузите данные из файлов этого архива в виде `dd.DataFrame` с названием `recipes`. Укажите, что в столбце `submitted` содержатся даты."
   ]
  },
  {
   "cell_type": "code",
   "execution_count": 10,
   "outputs": [],
   "source": [
    "recipes_df: dd.DataFrame = dd.read_csv(\n",
    "    DATA_DIR.joinpath('recipes_full/recipes_full_*.csv'),\n",
    "    sep=',',\n",
    "    parse_dates=['submitted'],\n",
    "    dtype={\n",
    "        'id': np.uint32,\n",
    "        'name': object,\n",
    "        'minutes': np.float32,\n",
    "        'contributor_id': np.uint32,\n",
    "        'n_steps': np.float32,\n",
    "        'description': object,\n",
    "        'n_ingredients': np.uint32,\n",
    "    }\n",
    ")"
   ],
   "metadata": {
    "collapsed": false,
    "pycharm": {
     "name": "#%%\n"
    }
   }
  },
  {
   "cell_type": "markdown",
   "metadata": {},
   "source": [
    "2. Выведите метаинформацию о таблице: `npartitions` и типы столбцов."
   ]
  },
  {
   "cell_type": "code",
   "execution_count": 11,
   "outputs": [
    {
     "name": "stdout",
     "output_type": "stream",
     "text": [
      "16\n",
      "id                        uint32\n",
      "name                      object\n",
      "minutes                  float32\n",
      "contributor_id            uint32\n",
      "submitted         datetime64[ns]\n",
      "n_steps                  float32\n",
      "description               object\n",
      "n_ingredients             uint32\n",
      "dtype: object\n"
     ]
    }
   ],
   "source": [
    "print(recipes_df.npartitions)\n",
    "print(recipes_df.dtypes)"
   ],
   "metadata": {
    "collapsed": false,
    "pycharm": {
     "name": "#%%\n"
    }
   }
  },
  {
   "cell_type": "markdown",
   "metadata": {},
   "source": [
    "3. Выведите на экран 5 первых строк таблицы. Выведите на экран 5 последних строк таблицы. В случае сообщения об ошибки объясните причину и исправьте ошибку."
   ]
  },
  {
   "cell_type": "code",
   "execution_count": 12,
   "outputs": [
    {
     "data": {
      "text/plain": "        id                                               name  minutes  \\\n0   683970                        vant ivoire mickies nothing     33.0   \n1  1089012  kremsils mariposa baccala cookies class borage...     23.0   \n2  1428572                                       tania lander      0.0   \n3  1400250                heloise milli asher doogh zojirushi     24.0   \n4   387709                      nutty chocolate chunk cookies     47.0   \n\n   contributor_id  submitted  n_steps  \\\n0          803776 2019-08-22      4.0   \n1           51579 2013-03-02      1.0   \n2           68884 1980-11-09      1.0   \n3          678862 2018-04-29      3.0   \n4          489552 2009-08-31      8.0   \n\n                                         description  n_ingredients  \n0  pat and gina neely and their family own and op...              9  \n1  a light, tasty and easy to put together chicke...              5  \n2  a delicious melt in your mouth appetizer. for ...              5  \n3  delicious cream cheese and peach filled cresce...              1  \n4  everyone loves these buttery cookies chock ful...             10  ",
      "text/html": "<div>\n<style scoped>\n    .dataframe tbody tr th:only-of-type {\n        vertical-align: middle;\n    }\n\n    .dataframe tbody tr th {\n        vertical-align: top;\n    }\n\n    .dataframe thead th {\n        text-align: right;\n    }\n</style>\n<table border=\"1\" class=\"dataframe\">\n  <thead>\n    <tr style=\"text-align: right;\">\n      <th></th>\n      <th>id</th>\n      <th>name</th>\n      <th>minutes</th>\n      <th>contributor_id</th>\n      <th>submitted</th>\n      <th>n_steps</th>\n      <th>description</th>\n      <th>n_ingredients</th>\n    </tr>\n  </thead>\n  <tbody>\n    <tr>\n      <th>0</th>\n      <td>683970</td>\n      <td>vant ivoire mickies nothing</td>\n      <td>33.0</td>\n      <td>803776</td>\n      <td>2019-08-22</td>\n      <td>4.0</td>\n      <td>pat and gina neely and their family own and op...</td>\n      <td>9</td>\n    </tr>\n    <tr>\n      <th>1</th>\n      <td>1089012</td>\n      <td>kremsils mariposa baccala cookies class borage...</td>\n      <td>23.0</td>\n      <td>51579</td>\n      <td>2013-03-02</td>\n      <td>1.0</td>\n      <td>a light, tasty and easy to put together chicke...</td>\n      <td>5</td>\n    </tr>\n    <tr>\n      <th>2</th>\n      <td>1428572</td>\n      <td>tania lander</td>\n      <td>0.0</td>\n      <td>68884</td>\n      <td>1980-11-09</td>\n      <td>1.0</td>\n      <td>a delicious melt in your mouth appetizer. for ...</td>\n      <td>5</td>\n    </tr>\n    <tr>\n      <th>3</th>\n      <td>1400250</td>\n      <td>heloise milli asher doogh zojirushi</td>\n      <td>24.0</td>\n      <td>678862</td>\n      <td>2018-04-29</td>\n      <td>3.0</td>\n      <td>delicious cream cheese and peach filled cresce...</td>\n      <td>1</td>\n    </tr>\n    <tr>\n      <th>4</th>\n      <td>387709</td>\n      <td>nutty chocolate chunk cookies</td>\n      <td>47.0</td>\n      <td>489552</td>\n      <td>2009-08-31</td>\n      <td>8.0</td>\n      <td>everyone loves these buttery cookies chock ful...</td>\n      <td>10</td>\n    </tr>\n  </tbody>\n</table>\n</div>"
     },
     "execution_count": 12,
     "metadata": {},
     "output_type": "execute_result"
    }
   ],
   "source": [
    "recipes_df.head()"
   ],
   "metadata": {
    "collapsed": false,
    "pycharm": {
     "name": "#%%\n"
    }
   }
  },
  {
   "cell_type": "code",
   "execution_count": 13,
   "outputs": [
    {
     "data": {
      "text/plain": "            id                                         name  minutes  \\\n44011  1029131              tuti waffle snackies steakhouse     19.0   \n44012  1700703    noelias cheats crocante fleisch zitumbuwa      1.0   \n44013  1910650  rubbed restuffed pelmeni bedouin flavourful     60.0   \n44014   713836                       stems polpettine peezi      NaN   \n44015   660699                                  clementines     64.0   \n\n       contributor_id  submitted  n_steps  \\\n44011          171345 1973-10-18      4.0   \n44012           30228 2007-07-01      6.0   \n44013          591905 2009-09-26      3.0   \n44014          357389 2003-09-30      4.0   \n44015           29196 1973-06-03      6.0   \n\n                                             description  n_ingredients  \n44011  according to a providence journal article, ama...              4  \n44012  if possible sauté the onions and garlic in abo...              1  \n44013  another great recipe to add to the growing swe...              2  \n44014        adapted from top secret recipes. love this!              9  \n44015  this would make a great start to your holiday ...              8  ",
      "text/html": "<div>\n<style scoped>\n    .dataframe tbody tr th:only-of-type {\n        vertical-align: middle;\n    }\n\n    .dataframe tbody tr th {\n        vertical-align: top;\n    }\n\n    .dataframe thead th {\n        text-align: right;\n    }\n</style>\n<table border=\"1\" class=\"dataframe\">\n  <thead>\n    <tr style=\"text-align: right;\">\n      <th></th>\n      <th>id</th>\n      <th>name</th>\n      <th>minutes</th>\n      <th>contributor_id</th>\n      <th>submitted</th>\n      <th>n_steps</th>\n      <th>description</th>\n      <th>n_ingredients</th>\n    </tr>\n  </thead>\n  <tbody>\n    <tr>\n      <th>44011</th>\n      <td>1029131</td>\n      <td>tuti waffle snackies steakhouse</td>\n      <td>19.0</td>\n      <td>171345</td>\n      <td>1973-10-18</td>\n      <td>4.0</td>\n      <td>according to a providence journal article, ama...</td>\n      <td>4</td>\n    </tr>\n    <tr>\n      <th>44012</th>\n      <td>1700703</td>\n      <td>noelias cheats crocante fleisch zitumbuwa</td>\n      <td>1.0</td>\n      <td>30228</td>\n      <td>2007-07-01</td>\n      <td>6.0</td>\n      <td>if possible sauté the onions and garlic in abo...</td>\n      <td>1</td>\n    </tr>\n    <tr>\n      <th>44013</th>\n      <td>1910650</td>\n      <td>rubbed restuffed pelmeni bedouin flavourful</td>\n      <td>60.0</td>\n      <td>591905</td>\n      <td>2009-09-26</td>\n      <td>3.0</td>\n      <td>another great recipe to add to the growing swe...</td>\n      <td>2</td>\n    </tr>\n    <tr>\n      <th>44014</th>\n      <td>713836</td>\n      <td>stems polpettine peezi</td>\n      <td>NaN</td>\n      <td>357389</td>\n      <td>2003-09-30</td>\n      <td>4.0</td>\n      <td>adapted from top secret recipes. love this!</td>\n      <td>9</td>\n    </tr>\n    <tr>\n      <th>44015</th>\n      <td>660699</td>\n      <td>clementines</td>\n      <td>64.0</td>\n      <td>29196</td>\n      <td>1973-06-03</td>\n      <td>6.0</td>\n      <td>this would make a great start to your holiday ...</td>\n      <td>8</td>\n    </tr>\n  </tbody>\n</table>\n</div>"
     },
     "execution_count": 13,
     "metadata": {},
     "output_type": "execute_result"
    }
   ],
   "source": [
    "recipes_df.tail()"
   ],
   "metadata": {
    "collapsed": false,
    "pycharm": {
     "name": "#%%\n"
    }
   }
  },
  {
   "cell_type": "markdown",
   "metadata": {},
   "source": [
    "4. Посчитайте, сколько строк содержит каждый из блоков"
   ]
  },
  {
   "cell_type": "code",
   "execution_count": null,
   "outputs": [],
   "source": [
    "recipes_df['id'].map_partitions(lambda partition: partition.count()).compute()"
   ],
   "metadata": {
    "collapsed": false,
    "pycharm": {
     "name": "#%%\n",
     "is_executing": true
    }
   }
  },
  {
   "cell_type": "markdown",
   "metadata": {},
   "source": [
    "5. Найдите максимум в столбце `n_steps`. Визуализируйте граф вычислений для этой задачи. Прокомментируйте логику работы `dask` в этом случае."
   ]
  },
  {
   "cell_type": "code",
   "execution_count": null,
   "outputs": [],
   "source": [
    "n_steps_max = recipes_df['n_steps'].max()"
   ],
   "metadata": {
    "collapsed": false,
    "pycharm": {
     "name": "#%%\n",
     "is_executing": true
    }
   }
  },
  {
   "cell_type": "code",
   "execution_count": null,
   "outputs": [],
   "source": [
    "n_steps_max.compute()"
   ],
   "metadata": {
    "collapsed": false,
    "pycharm": {
     "name": "#%%\n",
     "is_executing": true
    }
   }
  },
  {
   "cell_type": "code",
   "execution_count": null,
   "outputs": [],
   "source": [
    "n_steps_max.visualize(filename=str(OUTPUT_DIR.joinpath('n_steps_max.png')))"
   ],
   "metadata": {
    "collapsed": false,
    "pycharm": {
     "name": "#%%\n",
     "is_executing": true
    }
   }
  },
  {
   "cell_type": "markdown",
   "metadata": {},
   "source": [
    "6. Посчитайте количество отзывов с группировкой по месяцам добавления отзыва в базу."
   ]
  },
  {
   "cell_type": "code",
   "execution_count": null,
   "outputs": [],
   "source": [
    "submitted = recipes_df['submitted']\n",
    "count = submitted.groupby(submitted.dt.month).count()"
   ],
   "metadata": {
    "collapsed": false,
    "pycharm": {
     "name": "#%%\n",
     "is_executing": true
    }
   }
  },
  {
   "cell_type": "code",
   "execution_count": null,
   "outputs": [],
   "source": [
    "%%time\n",
    "\n",
    "recipes_count = count.compute()"
   ],
   "metadata": {
    "collapsed": false,
    "pycharm": {
     "name": "#%%\n",
     "is_executing": true
    }
   }
  },
  {
   "cell_type": "code",
   "execution_count": null,
   "outputs": [],
   "source": [
    "recipes_count"
   ],
   "metadata": {
    "collapsed": false,
    "pycharm": {
     "name": "#%%\n",
     "is_executing": true
    }
   }
  },
  {
   "cell_type": "markdown",
   "metadata": {},
   "source": [
    "7. Считайте файлы из архива `reviews_full.zip` (__ЛР12__) в виде `dask.bag`. Пользуясь результатом лабораторной работы 12, рассчитайте среднее значение оценок отзывов с группировкой по месяцам. После завершения всех вычислений преобразуйте результат к `pd.Series`."
   ]
  },
  {
   "cell_type": "code",
   "execution_count": null,
   "outputs": [],
   "source": [
    "pattern = re.compile(r'^.*reviews_(\\d+)\\.json$')\n",
    "\n",
    "\n",
    "def loads(element: tuple[str, str]) -> dict:\n",
    "    data, path = element\n",
    "    return {\n",
    "        'month': int(json.loads(data)['date'][5:7]),\n",
    "        'rating': int(pattern.match(path).groups()[0])\n",
    "    }\n",
    "\n",
    "\n",
    "reviews_bag = db.read_text(\n",
    "    DATA_DIR.joinpath('reviews_full/*.json'),\n",
    "    include_path=True,\n",
    "    blocksize=30_000_000,\n",
    ").map(loads)\n",
    "\n",
    "reviews_bag.take(3)"
   ],
   "metadata": {
    "collapsed": false,
    "pycharm": {
     "name": "#%%\n",
     "is_executing": true
    }
   }
  },
  {
   "cell_type": "code",
   "execution_count": null,
   "outputs": [],
   "source": [
    "mean = reviews_bag.foldby(\n",
    "    lambda x: x['month'],\n",
    "    lambda prev, curr: (prev[0] + 1, prev[1] + curr['rating']),\n",
    "    (0, 0),\n",
    "    lambda left, right: (left[0] + right[0], left[1] + right[1]),\n",
    "    (0, 0)\n",
    ")"
   ],
   "metadata": {
    "collapsed": false,
    "pycharm": {
     "name": "#%%\n",
     "is_executing": true
    }
   }
  },
  {
   "cell_type": "code",
   "execution_count": null,
   "outputs": [],
   "source": [
    "%%time\n",
    "\n",
    "mean_result = mean.compute()"
   ],
   "metadata": {
    "collapsed": false,
    "pycharm": {
     "name": "#%%\n",
     "is_executing": true
    }
   }
  },
  {
   "cell_type": "code",
   "execution_count": null,
   "outputs": [],
   "source": [
    "mean_rating = pd.Series(\n",
    "    map(lambda x: x[1][1] / x[1][0], mean_result),\n",
    "    map(lambda x: int(x[0]), mean_result)\n",
    ")\n",
    "mean_rating"
   ],
   "metadata": {
    "collapsed": false,
    "pycharm": {
     "name": "#%%\n",
     "is_executing": true
    }
   }
  },
  {
   "cell_type": "markdown",
   "metadata": {},
   "source": [
    "8. Пользуясь результатами решения задач 6 и 7, создайте `pd.DataFrame`, содержащий два столбца: `mean_rating`, `recipes_count`"
   ]
  },
  {
   "cell_type": "code",
   "execution_count": null,
   "metadata": {
    "pycharm": {
     "name": "#%%\n",
     "is_executing": true
    }
   },
   "outputs": [],
   "source": [
    "pd.concat([\n",
    "    mean_rating.rename('mean_rating'),\n",
    "    recipes_count.rename('recipes_count')\n",
    "], axis=1).sort_index()"
   ]
  }
 ],
 "metadata": {
  "kernelspec": {
   "display_name": "Python 3",
   "language": "python",
   "name": "python3"
  },
  "language_info": {
   "codemirror_mode": {
    "name": "ipython",
    "version": 3
   },
   "file_extension": ".py",
   "mimetype": "text/x-python",
   "name": "python",
   "nbconvert_exporter": "python",
   "pygments_lexer": "ipython3",
   "version": "3.8.3"
  }
 },
 "nbformat": 4,
 "nbformat_minor": 4
}