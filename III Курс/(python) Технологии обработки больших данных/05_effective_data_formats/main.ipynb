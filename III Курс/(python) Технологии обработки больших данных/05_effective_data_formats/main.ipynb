{
 "cells": [
  {
   "cell_type": "markdown",
   "metadata": {},
   "source": [
    "# Форматы данных (2)"
   ]
  },
  {
   "cell_type": "markdown",
   "metadata": {},
   "source": [
    "Материалы:\n",
    "* Макрушин С.В. \"Лекция 5: Форматы данных (часть 2)\"\n",
    "* https://docs.python.org/3/library/csv.html\n",
    "* https://docs.h5py.org/en/stable/\n",
    "* Уэс Маккини. Python и анализ данных"
   ]
  },
  {
   "cell_type": "code",
   "execution_count": 25,
   "outputs": [],
   "source": [
    "import csv\n",
    "import json\n",
    "import pprint\n",
    "from collections import defaultdict\n",
    "from timeit import default_timer\n",
    "\n",
    "import h5py\n",
    "import numpy as np\n",
    "import pandas as pd"
   ],
   "metadata": {
    "collapsed": false,
    "pycharm": {
     "name": "#%%\n"
    }
   }
  },
  {
   "cell_type": "code",
   "execution_count": null,
   "outputs": [],
   "source": [
    "def pprint_dict_of_lists(dct: dict, n=3, m=10):\n",
    "    pprint.pprint({k: [*v[:m], '...'] for k, v in list(dct.items())[:n]}, sort_dicts=False)"
   ],
   "metadata": {
    "collapsed": false,
    "pycharm": {
     "name": "#%%\n"
    }
   }
  },
  {
   "cell_type": "code",
   "execution_count": 3,
   "outputs": [],
   "source": [
    "## Задачи для совместного разбора"
   ],
   "metadata": {
    "collapsed": false,
    "pycharm": {
     "name": "#%%\n"
    }
   }
  },
  {
   "cell_type": "markdown",
   "metadata": {},
   "source": [
    "1. Считайте данные из файла `open_pubs.csv`, используя `csv.reader`, и преобразуйте к структуре данных следующего вида:\n",
    "    \n",
    "`{'fas_id': [24, 30, ...], 'name': ['Achor Inn', 'Angel Inn', ...], ... }`\n"
   ]
  },
  {
   "cell_type": "code",
   "execution_count": 4,
   "outputs": [
    {
     "name": "stdout",
     "output_type": "stream",
     "text": [
      "{'fas_id': ['24', '30', '63', '64', '65', '85', '...'],\n",
      " 'name': ['Anchor Inn',\n",
      "          'Angel Inn',\n",
      "          'Black Boy Hotel',\n",
      "          'Black Horse',\n",
      "          'Black Lion',\n",
      "          'Bristol Arms',\n",
      "          '...'],\n",
      " 'address': ['Upper Street, Stratford St Mary, COLCHESTER, Essex',\n",
      "             'Egremont Street, Glemsford, SUDBURY, Suffolk',\n",
      "             '7 Market Hill, SUDBURY, Suffolk',\n",
      "             'Lower Street, Stratford St Mary, COLCHESTER, Essex',\n",
      "             'Lion Road, Glemsford, SUDBURY, Suffolk',\n",
      "             'Bristol Hill, Shotley, IPSWICH, Suffolk',\n",
      "             '...'],\n",
      " 'postcode': ['CO7 6LW',\n",
      "              'CO10 7SA',\n",
      "              'CO10 2EA',\n",
      "              'CO7 6JS',\n",
      "              'CO10 7RF',\n",
      "              'IP9 1PU',\n",
      "              '...'],\n",
      " 'easting': ['604748', '582888', '587356', '604270', '582750', '624667', '...'],\n",
      " 'northing': ['234405',\n",
      "              '247368',\n",
      "              '241327',\n",
      "              '233920',\n",
      "              '248298',\n",
      "              '233744',\n",
      "              '...'],\n",
      " 'latitude': ['51.97039',\n",
      "              '52.094427',\n",
      "              '52.038683',\n",
      "              '51.966211',\n",
      "              '52.102815',\n",
      "              '51.956771',\n",
      "              '...'],\n",
      " 'longitude': ['0.979328',\n",
      "               '0.668408',\n",
      "               '0.730226',\n",
      "               '0.972091',\n",
      "               '0.666893',\n",
      "               '1.268376',\n",
      "               '...'],\n",
      " 'local_authority': ['Babergh',\n",
      "                     'Babergh',\n",
      "                     'Babergh',\n",
      "                     'Babergh',\n",
      "                     'Babergh',\n",
      "                     'Babergh',\n",
      "                     '...']}\n"
     ]
    }
   ],
   "source": [
    "with open('data/open_pubs.csv') as f:\n",
    "    reader = csv.reader(f)\n",
    "\n",
    "    headers = next(reader)\n",
    "    n = len(headers)\n",
    "    data = {header: [] for header in headers}\n",
    "\n",
    "    for row in reader:\n",
    "        for i in range(n):\n",
    "            data[headers[i]].append(row[i])\n",
    "\n",
    "pprint_dict_of_lists(data, n=len(data), m=6)"
   ],
   "metadata": {
    "collapsed": false,
    "pycharm": {
     "name": "#%%\n"
    }
   }
  },
  {
   "cell_type": "markdown",
   "source": [
    "2. Сгенерируйте 2 случайные матрицы размера 10_000 x 10_000 и вычислите их произведение. Сколько времени занимают три этих операции? Сохраните 3 полученных матрицы в файл .npz с соответствующими названиями"
   ],
   "metadata": {
    "collapsed": false,
    "pycharm": {
     "name": "#%% md\n"
    }
   }
  },
  {
   "cell_type": "code",
   "metadata": {
    "pycharm": {
     "name": "#%%\n"
    }
   },
   "source": [
    "start = default_timer()\n",
    "\n",
    "size = (3000, 3000)\n",
    "matrix_0 = np.random.randint(0, 100, size=size, dtype=np.int8)\n",
    "matrix_1 = np.random.randint(0, 100, size=size, dtype=np.int8)\n",
    "\n",
    "print(f'time: {(default_timer() - start) * 1000:.4f} ms')"
   ],
   "execution_count": 7,
   "outputs": [
    {
     "name": "stdout",
     "output_type": "stream",
     "text": [
      "time: 149.7895 ms\n"
     ]
    }
   ]
  },
  {
   "cell_type": "code",
   "execution_count": 8,
   "outputs": [
    {
     "name": "stdout",
     "output_type": "stream",
     "text": [
      "time: 76557.9985 ms\n"
     ]
    }
   ],
   "source": [
    "start = default_timer()\n",
    "\n",
    "matrix_dot = np.dot(matrix_0, matrix_1)\n",
    "\n",
    "print(f'time: {(default_timer() - start) * 1000:.4f} ms')"
   ],
   "metadata": {
    "collapsed": false,
    "pycharm": {
     "name": "#%%\n"
    }
   }
  },
  {
   "cell_type": "code",
   "execution_count": 9,
   "outputs": [
    {
     "name": "stdout",
     "output_type": "stream",
     "text": [
      "[[66  7 65 ... 15 11 25]\n",
      " [84 40 83 ... 76  2 85]\n",
      " [28 30 42 ... 83 88 31]\n",
      " ...\n",
      " [15 16 91 ... 78 42 78]\n",
      " [39 56 25 ... 86 67 15]\n",
      " [14 81 67 ... 31 67 89]]\n",
      "[[40 25 62 ... 68 25 46]\n",
      " [64 18  5 ... 87 92 57]\n",
      " [24 24 32 ... 33 22 98]\n",
      " ...\n",
      " [13 92 22 ... 81 74 63]\n",
      " [72 37 10 ... 67  1 11]\n",
      " [59 23 74 ... 18 67 53]]\n",
      "[[ -54  -93 -117 ...  -71 -102    4]\n",
      " [  -1  -63  -62 ...  -58   44  -49]\n",
      " [-127  -18 -103 ...   31  116  -76]\n",
      " ...\n",
      " [ -96  104  -30 ...    2   62   11]\n",
      " [  92 -121   66 ...  -31  121  -58]\n",
      " [ -52  -50  -46 ...  -85   99 -102]]\n"
     ]
    }
   ],
   "source": [
    "print(matrix_0)\n",
    "print(matrix_1)\n",
    "print(matrix_dot)"
   ],
   "metadata": {
    "collapsed": false,
    "pycharm": {
     "name": "#%%\n"
    }
   }
  },
  {
   "cell_type": "code",
   "execution_count": 10,
   "outputs": [],
   "source": [
    "np.savez('data/output/matrices.npz', matrix_0=matrix_0, matrix_1=matrix_1, matrix_dot=matrix_dot)"
   ],
   "metadata": {
    "collapsed": false,
    "pycharm": {
     "name": "#%%\n"
    }
   }
  },
  {
   "cell_type": "markdown",
   "metadata": {},
   "source": [
    "3. Создайте 2 матрицы размера 1000x1000, используя различные параметризируемые распределения из numpy (https://docs.scipy.org/doc/numpy-1.15.0/reference/routines.random.html#distributions)\n",
    "\n",
    "После этого сохраните получившиеся матрицы в hdf5-файл в виде двух различных датасетов. В качестве описания каждого датасета укажите параметры используемых распределений "
   ]
  },
  {
   "cell_type": "code",
   "execution_count": 11,
   "outputs": [],
   "source": [
    "size = (1000, 1000)\n",
    "matrix_0 = np.random.uniform(low=-20, high=50, size=size)\n",
    "matrix_1 = np.random.normal(loc=10, scale=10, size=size)"
   ],
   "metadata": {
    "collapsed": false,
    "pycharm": {
     "name": "#%%\n"
    }
   }
  },
  {
   "cell_type": "code",
   "execution_count": 12,
   "outputs": [],
   "source": [
    "with h5py.File('data/output/matrices.hdf5', mode='w') as f:\n",
    "    dset_0 = f.create_dataset('matrix_0', data=matrix_0)\n",
    "    dset_0.attrs['description'] = ('Матрица, сгенерированная с помощью np.random.uniform(). '\n",
    "                                   '(Draw samples from a uniform distribution)')\n",
    "    dset_0.attrs['low'] = '-20'\n",
    "    dset_0.attrs['high'] = '50'\n",
    "    dset_0.attrs['size'] = f'{matrix_0.shape}'\n",
    "\n",
    "    dset_1 = f.create_dataset('matrix_1', data=matrix_1)\n",
    "    dset_1.attrs['description'] = ('Матрица, сгенерированная с помощью np.random.normal(). '\n",
    "                                   '(Draw random samples from a normal (Gaussian) distribution)')\n",
    "    dset_1.attrs['loc'] = '10'\n",
    "    dset_1.attrs['scale'] = '10'\n",
    "    dset_1.attrs['size'] = f'{matrix_1.shape}'"
   ],
   "metadata": {
    "collapsed": false,
    "pycharm": {
     "name": "#%%\n"
    }
   }
  },
  {
   "cell_type": "code",
   "execution_count": 13,
   "outputs": [
    {
     "name": "stdout",
     "output_type": "stream",
     "text": [
      "Матрица, сгенерированная с помощью np.random.uniform(). (Draw samples from a uniform distribution)\n",
      "(1000, 1000)\n",
      "Матрица, сгенерированная с помощью np.random.normal(). (Draw random samples from a normal (Gaussian) distribution)\n",
      "(1000, 1000)\n"
     ]
    }
   ],
   "source": [
    "with h5py.File('data/output/matrices.hdf5') as f:\n",
    "    for key in f.keys():\n",
    "        dset_1 = f[key]\n",
    "        print(dset_1.attrs['description'])\n",
    "        print(dset_1[:].shape)"
   ],
   "metadata": {
    "collapsed": false,
    "pycharm": {
     "name": "#%%\n"
    }
   }
  },
  {
   "cell_type": "markdown",
   "metadata": {},
   "source": [
    "## Лабораторная работа 5"
   ]
  },
  {
   "cell_type": "markdown",
   "metadata": {},
   "source": [
    "### csv"
   ]
  },
  {
   "cell_type": "markdown",
   "metadata": {},
   "source": [
    "1.1 В файле `tags_sample.csv` находится информация о тэгах, приписываемых рецептам. Воспользовавшись `csv.reader`, считайте этот файл и создайте словарь вида `id_рецепта: [список тэгов]`. Сохраните этот словарь в файл `tags_sample.json`."
   ]
  },
  {
   "cell_type": "code",
   "execution_count": 52,
   "outputs": [],
   "source": [
    "with open('data/tags_sample.csv') as f:\n",
    "    reader = csv.reader(f)\n",
    "\n",
    "    headers = next(reader)\n",
    "    n = len(headers)\n",
    "\n",
    "    tags_sample = defaultdict(list)\n",
    "    for row in reader:\n",
    "        tags_sample[int(row[0])].append(row[1])"
   ],
   "metadata": {
    "collapsed": false,
    "pycharm": {
     "name": "#%%\n"
    }
   }
  },
  {
   "cell_type": "code",
   "execution_count": 53,
   "outputs": [],
   "source": [
    "with open('data/output/tags_sample.json', mode='w', encoding='utf-8') as f:\n",
    "    json.dump(tags_sample, f, indent=4)"
   ],
   "metadata": {
    "collapsed": false,
    "pycharm": {
     "name": "#%%\n"
    }
   }
  },
  {
   "cell_type": "markdown",
   "metadata": {},
   "source": [
    "1.2 Считайте файл `recipes_sample_with_filled_nsteps.csv` (__ЛР4__) в виде `pd.DataFrame`. Добавьте к таблице 2 столбца: `n_tags`, содержащий количество тэгов у этого рецепта; и `tags`, содержащий набор тэгов в виде строки (тэги внутри строки разделяются символом `;`)"
   ]
  },
  {
   "cell_type": "code",
   "execution_count": 54,
   "outputs": [],
   "source": [
    "recipes_df = pd.read_csv(\n",
    "    'data/recipes_sample_with_filled_nsteps.csv',\n",
    "    sep=',', index_col=0, parse_dates=['submitted']\n",
    ")"
   ],
   "metadata": {
    "collapsed": false,
    "pycharm": {
     "name": "#%%\n"
    }
   }
  },
  {
   "cell_type": "code",
   "execution_count": 55,
   "outputs": [
    {
     "data": {
      "text/plain": "                                               name      id  minutes  \\\n0             george s at the cove  black bean soup   44123       90   \n1                healthy for them  yogurt popsicles   67664       10   \n2                      i can t believe it s spinach   38798       30   \n3                              italian  gut busters   35173       45   \n4          love is in the air  beef fondue   sauces   84797       25   \n...                                             ...     ...      ...   \n29995  zurie s holey rustic olive and cheddar bread  267661       80   \n29996          zwetschgenkuchen  bavarian plum cake  386977      240   \n29997   zwiebelkuchen   southwest german onion cake  103312       75   \n29998                                   zydeco soup  486161       60   \n29999        cookies by design   cookies on a stick  298512       29   \n\n       contributor_id  submitted  n_steps  \\\n0               35193 2002-10-25       11   \n1               91970 2003-07-26        3   \n2                1533 2002-08-29        5   \n3               22724 2002-07-27        7   \n4                4470 2004-02-23        4   \n...               ...        ...      ...   \n29995          200862 2007-11-25       16   \n29996          177443 2009-08-24       22   \n29997          161745 2004-11-03       10   \n29998          227978 2012-08-29        7   \n29999          506822 2008-04-15        9   \n\n                                             description  n_ingredients  \n0      an original recipe created by chef scott meska...           18.0  \n1      my children and their friends ask for my homem...            NaN  \n2                these were so go, it surprised even me.            8.0  \n3      my sister-in-law made these for us at a family...            NaN  \n4      i think a fondue is a very romantic casual din...            NaN  \n...                                                  ...            ...  \n29995  this is based on a french recipe but i changed...           10.0  \n29996  this is a traditional fresh plum cake, thought...           11.0  \n29997  this is a traditional late summer early fall s...            NaN  \n29998  this is a delicious soup that i originally fou...            NaN  \n29999  i've heard of the 'cookies by design' company,...           10.0  \n\n[30000 rows x 8 columns]",
      "text/html": "<div>\n<style scoped>\n    .dataframe tbody tr th:only-of-type {\n        vertical-align: middle;\n    }\n\n    .dataframe tbody tr th {\n        vertical-align: top;\n    }\n\n    .dataframe thead th {\n        text-align: right;\n    }\n</style>\n<table border=\"1\" class=\"dataframe\">\n  <thead>\n    <tr style=\"text-align: right;\">\n      <th></th>\n      <th>name</th>\n      <th>id</th>\n      <th>minutes</th>\n      <th>contributor_id</th>\n      <th>submitted</th>\n      <th>n_steps</th>\n      <th>description</th>\n      <th>n_ingredients</th>\n    </tr>\n  </thead>\n  <tbody>\n    <tr>\n      <th>0</th>\n      <td>george s at the cove  black bean soup</td>\n      <td>44123</td>\n      <td>90</td>\n      <td>35193</td>\n      <td>2002-10-25</td>\n      <td>11</td>\n      <td>an original recipe created by chef scott meska...</td>\n      <td>18.0</td>\n    </tr>\n    <tr>\n      <th>1</th>\n      <td>healthy for them  yogurt popsicles</td>\n      <td>67664</td>\n      <td>10</td>\n      <td>91970</td>\n      <td>2003-07-26</td>\n      <td>3</td>\n      <td>my children and their friends ask for my homem...</td>\n      <td>NaN</td>\n    </tr>\n    <tr>\n      <th>2</th>\n      <td>i can t believe it s spinach</td>\n      <td>38798</td>\n      <td>30</td>\n      <td>1533</td>\n      <td>2002-08-29</td>\n      <td>5</td>\n      <td>these were so go, it surprised even me.</td>\n      <td>8.0</td>\n    </tr>\n    <tr>\n      <th>3</th>\n      <td>italian  gut busters</td>\n      <td>35173</td>\n      <td>45</td>\n      <td>22724</td>\n      <td>2002-07-27</td>\n      <td>7</td>\n      <td>my sister-in-law made these for us at a family...</td>\n      <td>NaN</td>\n    </tr>\n    <tr>\n      <th>4</th>\n      <td>love is in the air  beef fondue   sauces</td>\n      <td>84797</td>\n      <td>25</td>\n      <td>4470</td>\n      <td>2004-02-23</td>\n      <td>4</td>\n      <td>i think a fondue is a very romantic casual din...</td>\n      <td>NaN</td>\n    </tr>\n    <tr>\n      <th>...</th>\n      <td>...</td>\n      <td>...</td>\n      <td>...</td>\n      <td>...</td>\n      <td>...</td>\n      <td>...</td>\n      <td>...</td>\n      <td>...</td>\n    </tr>\n    <tr>\n      <th>29995</th>\n      <td>zurie s holey rustic olive and cheddar bread</td>\n      <td>267661</td>\n      <td>80</td>\n      <td>200862</td>\n      <td>2007-11-25</td>\n      <td>16</td>\n      <td>this is based on a french recipe but i changed...</td>\n      <td>10.0</td>\n    </tr>\n    <tr>\n      <th>29996</th>\n      <td>zwetschgenkuchen  bavarian plum cake</td>\n      <td>386977</td>\n      <td>240</td>\n      <td>177443</td>\n      <td>2009-08-24</td>\n      <td>22</td>\n      <td>this is a traditional fresh plum cake, thought...</td>\n      <td>11.0</td>\n    </tr>\n    <tr>\n      <th>29997</th>\n      <td>zwiebelkuchen   southwest german onion cake</td>\n      <td>103312</td>\n      <td>75</td>\n      <td>161745</td>\n      <td>2004-11-03</td>\n      <td>10</td>\n      <td>this is a traditional late summer early fall s...</td>\n      <td>NaN</td>\n    </tr>\n    <tr>\n      <th>29998</th>\n      <td>zydeco soup</td>\n      <td>486161</td>\n      <td>60</td>\n      <td>227978</td>\n      <td>2012-08-29</td>\n      <td>7</td>\n      <td>this is a delicious soup that i originally fou...</td>\n      <td>NaN</td>\n    </tr>\n    <tr>\n      <th>29999</th>\n      <td>cookies by design   cookies on a stick</td>\n      <td>298512</td>\n      <td>29</td>\n      <td>506822</td>\n      <td>2008-04-15</td>\n      <td>9</td>\n      <td>i've heard of the 'cookies by design' company,...</td>\n      <td>10.0</td>\n    </tr>\n  </tbody>\n</table>\n<p>30000 rows × 8 columns</p>\n</div>"
     },
     "execution_count": 55,
     "metadata": {},
     "output_type": "execute_result"
    }
   ],
   "source": [
    "recipes_df"
   ],
   "metadata": {
    "collapsed": false,
    "pycharm": {
     "name": "#%%\n"
    }
   }
  },
  {
   "cell_type": "code",
   "execution_count": 56,
   "outputs": [],
   "source": [
    "n_tags_tags = {'id': [], 'n_tags': [], 'tags': []}\n",
    "for k, v in tags_sample.items():\n",
    "    n_tags_tags['id'].append(k)\n",
    "    n_tags_tags['n_tags'].append(len(v))\n",
    "    n_tags_tags['tags'].append(';'.join(v))\n",
    "\n",
    "n_tags_tags_df = pd.DataFrame(n_tags_tags)"
   ],
   "metadata": {
    "collapsed": false,
    "pycharm": {
     "name": "#%%\n"
    }
   }
  },
  {
   "cell_type": "code",
   "execution_count": 57,
   "outputs": [
    {
     "data": {
      "text/plain": "           id  n_tags                                               tags\n0       44123      25  weeknight;time-to-make;course;main-ingredient;...\n1       67664      31  15-minutes-or-less;time-to-make;course;prepara...\n2       38798      17  30-minutes-or-less;time-to-make;course;main-in...\n3       35173      11  60-minutes-or-less;time-to-make;course;prepara...\n4       84797      19  30-minutes-or-less;time-to-make;course;main-in...\n...       ...     ...                                                ...\n29995  267661      18  time-to-make;course;main-ingredient;cuisine;pr...\n29996  386977      19  time-to-make;course;main-ingredient;cuisine;pr...\n29997  103312      20  time-to-make;course;main-ingredient;cuisine;pr...\n29998  486161      20  ham;60-minutes-or-less;time-to-make;course;mai...\n29999  298512      12  30-minutes-or-less;time-to-make;course;prepara...\n\n[30000 rows x 3 columns]",
      "text/html": "<div>\n<style scoped>\n    .dataframe tbody tr th:only-of-type {\n        vertical-align: middle;\n    }\n\n    .dataframe tbody tr th {\n        vertical-align: top;\n    }\n\n    .dataframe thead th {\n        text-align: right;\n    }\n</style>\n<table border=\"1\" class=\"dataframe\">\n  <thead>\n    <tr style=\"text-align: right;\">\n      <th></th>\n      <th>id</th>\n      <th>n_tags</th>\n      <th>tags</th>\n    </tr>\n  </thead>\n  <tbody>\n    <tr>\n      <th>0</th>\n      <td>44123</td>\n      <td>25</td>\n      <td>weeknight;time-to-make;course;main-ingredient;...</td>\n    </tr>\n    <tr>\n      <th>1</th>\n      <td>67664</td>\n      <td>31</td>\n      <td>15-minutes-or-less;time-to-make;course;prepara...</td>\n    </tr>\n    <tr>\n      <th>2</th>\n      <td>38798</td>\n      <td>17</td>\n      <td>30-minutes-or-less;time-to-make;course;main-in...</td>\n    </tr>\n    <tr>\n      <th>3</th>\n      <td>35173</td>\n      <td>11</td>\n      <td>60-minutes-or-less;time-to-make;course;prepara...</td>\n    </tr>\n    <tr>\n      <th>4</th>\n      <td>84797</td>\n      <td>19</td>\n      <td>30-minutes-or-less;time-to-make;course;main-in...</td>\n    </tr>\n    <tr>\n      <th>...</th>\n      <td>...</td>\n      <td>...</td>\n      <td>...</td>\n    </tr>\n    <tr>\n      <th>29995</th>\n      <td>267661</td>\n      <td>18</td>\n      <td>time-to-make;course;main-ingredient;cuisine;pr...</td>\n    </tr>\n    <tr>\n      <th>29996</th>\n      <td>386977</td>\n      <td>19</td>\n      <td>time-to-make;course;main-ingredient;cuisine;pr...</td>\n    </tr>\n    <tr>\n      <th>29997</th>\n      <td>103312</td>\n      <td>20</td>\n      <td>time-to-make;course;main-ingredient;cuisine;pr...</td>\n    </tr>\n    <tr>\n      <th>29998</th>\n      <td>486161</td>\n      <td>20</td>\n      <td>ham;60-minutes-or-less;time-to-make;course;mai...</td>\n    </tr>\n    <tr>\n      <th>29999</th>\n      <td>298512</td>\n      <td>12</td>\n      <td>30-minutes-or-less;time-to-make;course;prepara...</td>\n    </tr>\n  </tbody>\n</table>\n<p>30000 rows × 3 columns</p>\n</div>"
     },
     "execution_count": 57,
     "metadata": {},
     "output_type": "execute_result"
    }
   ],
   "source": [
    "n_tags_tags_df"
   ],
   "metadata": {
    "collapsed": false,
    "pycharm": {
     "name": "#%%\n"
    }
   }
  },
  {
   "cell_type": "code",
   "execution_count": 59,
   "outputs": [],
   "source": [
    "recipes_tags_df = pd.merge(\n",
    "    recipes_df,\n",
    "    n_tags_tags_df,\n",
    "    how='left',\n",
    "    on='id'\n",
    ")"
   ],
   "metadata": {
    "collapsed": false,
    "pycharm": {
     "name": "#%%\n"
    }
   }
  },
  {
   "cell_type": "code",
   "execution_count": 60,
   "outputs": [
    {
     "data": {
      "text/plain": "                                               name      id  minutes  \\\n0             george s at the cove  black bean soup   44123       90   \n1                healthy for them  yogurt popsicles   67664       10   \n2                      i can t believe it s spinach   38798       30   \n3                              italian  gut busters   35173       45   \n4          love is in the air  beef fondue   sauces   84797       25   \n...                                             ...     ...      ...   \n29995  zurie s holey rustic olive and cheddar bread  267661       80   \n29996          zwetschgenkuchen  bavarian plum cake  386977      240   \n29997   zwiebelkuchen   southwest german onion cake  103312       75   \n29998                                   zydeco soup  486161       60   \n29999        cookies by design   cookies on a stick  298512       29   \n\n       contributor_id  submitted  n_steps  \\\n0               35193 2002-10-25       11   \n1               91970 2003-07-26        3   \n2                1533 2002-08-29        5   \n3               22724 2002-07-27        7   \n4                4470 2004-02-23        4   \n...               ...        ...      ...   \n29995          200862 2007-11-25       16   \n29996          177443 2009-08-24       22   \n29997          161745 2004-11-03       10   \n29998          227978 2012-08-29        7   \n29999          506822 2008-04-15        9   \n\n                                             description  n_ingredients  \\\n0      an original recipe created by chef scott meska...           18.0   \n1      my children and their friends ask for my homem...            NaN   \n2                these were so go, it surprised even me.            8.0   \n3      my sister-in-law made these for us at a family...            NaN   \n4      i think a fondue is a very romantic casual din...            NaN   \n...                                                  ...            ...   \n29995  this is based on a french recipe but i changed...           10.0   \n29996  this is a traditional fresh plum cake, thought...           11.0   \n29997  this is a traditional late summer early fall s...            NaN   \n29998  this is a delicious soup that i originally fou...            NaN   \n29999  i've heard of the 'cookies by design' company,...           10.0   \n\n       n_tags                                               tags  \n0          25  weeknight;time-to-make;course;main-ingredient;...  \n1          31  15-minutes-or-less;time-to-make;course;prepara...  \n2          17  30-minutes-or-less;time-to-make;course;main-in...  \n3          11  60-minutes-or-less;time-to-make;course;prepara...  \n4          19  30-minutes-or-less;time-to-make;course;main-in...  \n...       ...                                                ...  \n29995      18  time-to-make;course;main-ingredient;cuisine;pr...  \n29996      19  time-to-make;course;main-ingredient;cuisine;pr...  \n29997      20  time-to-make;course;main-ingredient;cuisine;pr...  \n29998      20  ham;60-minutes-or-less;time-to-make;course;mai...  \n29999      12  30-minutes-or-less;time-to-make;course;prepara...  \n\n[30000 rows x 10 columns]",
      "text/html": "<div>\n<style scoped>\n    .dataframe tbody tr th:only-of-type {\n        vertical-align: middle;\n    }\n\n    .dataframe tbody tr th {\n        vertical-align: top;\n    }\n\n    .dataframe thead th {\n        text-align: right;\n    }\n</style>\n<table border=\"1\" class=\"dataframe\">\n  <thead>\n    <tr style=\"text-align: right;\">\n      <th></th>\n      <th>name</th>\n      <th>id</th>\n      <th>minutes</th>\n      <th>contributor_id</th>\n      <th>submitted</th>\n      <th>n_steps</th>\n      <th>description</th>\n      <th>n_ingredients</th>\n      <th>n_tags</th>\n      <th>tags</th>\n    </tr>\n  </thead>\n  <tbody>\n    <tr>\n      <th>0</th>\n      <td>george s at the cove  black bean soup</td>\n      <td>44123</td>\n      <td>90</td>\n      <td>35193</td>\n      <td>2002-10-25</td>\n      <td>11</td>\n      <td>an original recipe created by chef scott meska...</td>\n      <td>18.0</td>\n      <td>25</td>\n      <td>weeknight;time-to-make;course;main-ingredient;...</td>\n    </tr>\n    <tr>\n      <th>1</th>\n      <td>healthy for them  yogurt popsicles</td>\n      <td>67664</td>\n      <td>10</td>\n      <td>91970</td>\n      <td>2003-07-26</td>\n      <td>3</td>\n      <td>my children and their friends ask for my homem...</td>\n      <td>NaN</td>\n      <td>31</td>\n      <td>15-minutes-or-less;time-to-make;course;prepara...</td>\n    </tr>\n    <tr>\n      <th>2</th>\n      <td>i can t believe it s spinach</td>\n      <td>38798</td>\n      <td>30</td>\n      <td>1533</td>\n      <td>2002-08-29</td>\n      <td>5</td>\n      <td>these were so go, it surprised even me.</td>\n      <td>8.0</td>\n      <td>17</td>\n      <td>30-minutes-or-less;time-to-make;course;main-in...</td>\n    </tr>\n    <tr>\n      <th>3</th>\n      <td>italian  gut busters</td>\n      <td>35173</td>\n      <td>45</td>\n      <td>22724</td>\n      <td>2002-07-27</td>\n      <td>7</td>\n      <td>my sister-in-law made these for us at a family...</td>\n      <td>NaN</td>\n      <td>11</td>\n      <td>60-minutes-or-less;time-to-make;course;prepara...</td>\n    </tr>\n    <tr>\n      <th>4</th>\n      <td>love is in the air  beef fondue   sauces</td>\n      <td>84797</td>\n      <td>25</td>\n      <td>4470</td>\n      <td>2004-02-23</td>\n      <td>4</td>\n      <td>i think a fondue is a very romantic casual din...</td>\n      <td>NaN</td>\n      <td>19</td>\n      <td>30-minutes-or-less;time-to-make;course;main-in...</td>\n    </tr>\n    <tr>\n      <th>...</th>\n      <td>...</td>\n      <td>...</td>\n      <td>...</td>\n      <td>...</td>\n      <td>...</td>\n      <td>...</td>\n      <td>...</td>\n      <td>...</td>\n      <td>...</td>\n      <td>...</td>\n    </tr>\n    <tr>\n      <th>29995</th>\n      <td>zurie s holey rustic olive and cheddar bread</td>\n      <td>267661</td>\n      <td>80</td>\n      <td>200862</td>\n      <td>2007-11-25</td>\n      <td>16</td>\n      <td>this is based on a french recipe but i changed...</td>\n      <td>10.0</td>\n      <td>18</td>\n      <td>time-to-make;course;main-ingredient;cuisine;pr...</td>\n    </tr>\n    <tr>\n      <th>29996</th>\n      <td>zwetschgenkuchen  bavarian plum cake</td>\n      <td>386977</td>\n      <td>240</td>\n      <td>177443</td>\n      <td>2009-08-24</td>\n      <td>22</td>\n      <td>this is a traditional fresh plum cake, thought...</td>\n      <td>11.0</td>\n      <td>19</td>\n      <td>time-to-make;course;main-ingredient;cuisine;pr...</td>\n    </tr>\n    <tr>\n      <th>29997</th>\n      <td>zwiebelkuchen   southwest german onion cake</td>\n      <td>103312</td>\n      <td>75</td>\n      <td>161745</td>\n      <td>2004-11-03</td>\n      <td>10</td>\n      <td>this is a traditional late summer early fall s...</td>\n      <td>NaN</td>\n      <td>20</td>\n      <td>time-to-make;course;main-ingredient;cuisine;pr...</td>\n    </tr>\n    <tr>\n      <th>29998</th>\n      <td>zydeco soup</td>\n      <td>486161</td>\n      <td>60</td>\n      <td>227978</td>\n      <td>2012-08-29</td>\n      <td>7</td>\n      <td>this is a delicious soup that i originally fou...</td>\n      <td>NaN</td>\n      <td>20</td>\n      <td>ham;60-minutes-or-less;time-to-make;course;mai...</td>\n    </tr>\n    <tr>\n      <th>29999</th>\n      <td>cookies by design   cookies on a stick</td>\n      <td>298512</td>\n      <td>29</td>\n      <td>506822</td>\n      <td>2008-04-15</td>\n      <td>9</td>\n      <td>i've heard of the 'cookies by design' company,...</td>\n      <td>10.0</td>\n      <td>12</td>\n      <td>30-minutes-or-less;time-to-make;course;prepara...</td>\n    </tr>\n  </tbody>\n</table>\n<p>30000 rows × 10 columns</p>\n</div>"
     },
     "execution_count": 60,
     "metadata": {},
     "output_type": "execute_result"
    }
   ],
   "source": [
    "recipes_tags_df"
   ],
   "metadata": {
    "collapsed": false,
    "pycharm": {
     "name": "#%%\n"
    }
   }
  },
  {
   "cell_type": "markdown",
   "metadata": {},
   "source": [
    "1.3 В файле `ingredients_sample.csv` находится информация о ингредиентах, необходимых для рецепта. Воспользовавшись `csv.DictReader`, считайте этот файл и создайте словарь вида `id_рецепта: [список ингредиентов]`."
   ]
  },
  {
   "cell_type": "code",
   "execution_count": null,
   "outputs": [],
   "source": [],
   "metadata": {
    "collapsed": false,
    "pycharm": {
     "name": "#%%\n"
    }
   }
  },
  {
   "cell_type": "markdown",
   "metadata": {},
   "source": [
    "1.4 Добавьте к таблице из задания 1.2 столбец `ingredients`, содержащий набор ингредиентов в виде строки (ингредиенты внутри строки разделяются символом `*`)\n",
    "\n",
    "Для строк, которые содержат пропуски в столбце `n_ingredients`, заполните их на основе файла  `ingredients_sample.csv`"
   ]
  },
  {
   "cell_type": "markdown",
   "metadata": {},
   "source": [
    "1.5 Проверьте, содержит ли столбец `n_ingredients` пропуски. Если нет, треобразуйте его к целочисленному типу и сохраните результаты в файл `recipes_sample_with_tags_ingredients.csv`"
   ]
  },
  {
   "cell_type": "markdown",
   "metadata": {},
   "source": [
    "### npy"
   ]
  },
  {
   "cell_type": "markdown",
   "metadata": {},
   "source": [
    "2.1 Разделите таблицу, полученную в результате 1.5, на две таблицы: одна содержит рецепты, загруженные до 2000 года; вторая - все остальные. В полученных таблицах оставьте только числовые столбцы и преобразуйте их к `numpy.array`"
   ]
  },
  {
   "cell_type": "markdown",
   "metadata": {},
   "source": [
    "2.2. Сохраните 2 полученных массива в архив `npz`. Дайте массивам читаемые имена."
   ]
  },
  {
   "cell_type": "markdown",
   "metadata": {},
   "source": [
    "2.3 Считайте созданный архив и продемонстрируйте, что данные считались корректно. "
   ]
  },
  {
   "cell_type": "markdown",
   "metadata": {},
   "source": [
    "### hdf"
   ]
  },
  {
   "cell_type": "markdown",
   "metadata": {},
   "source": [
    "3.1 Выведите названия всех датасетов, находящихся в файле `nutrition_sample.h5`, а также размерность матриц, содержащихся в данных датасетах и их метаданные.\n",
    "\n",
    "Формат вывода:\n",
    "```\n",
    "Dataset name=dataset_0, dataset size=(30000,), metadata={'info': 'calories (#)'}\n",
    "Dataset name=dataset_1, dataset size=(30000,), metadata={'info': 'total fat (PDV)'}\n",
    "...\n",
    "```"
   ]
  },
  {
   "cell_type": "markdown",
   "metadata": {},
   "source": [
    "3.2 Разбейте каждый из имеющихся датасетов на две части: 1 часть содержит только те строки, где PDV (Percent Daily Value) превышает 100%; 2 часть содержит те строки, где PDV не составляет не более 100%. Создайте 2 группы в файле и разместите в них соответствующие части датасета c сохранением метаданных исходных датасетов. Итого должно получиться 2 группы, содержащие несколько датасетов. Сохраните результаты в файл `nutrition_grouped.h5`"
   ]
  },
  {
   "cell_type": "markdown",
   "metadata": {},
   "source": [
    "3.3 Выведите названия всех групп и датасетов, находящихся в этих группах, из файла `nutrition_grouped.h5` а также размерность матриц, содержащихся в датасетах и их метаданные."
   ]
  },
  {
   "cell_type": "markdown",
   "metadata": {},
   "source": [
    "3.4 Модифицируйте код из 3.3 таким образом, чтобы сохранить датасеты, используя сжатие. Сравните размер полученного файла с размерами файла из 3.3. Прокомментируйте результат."
   ]
  }
 ],
 "metadata": {
  "kernelspec": {
   "display_name": "Python 3",
   "language": "python",
   "name": "python3"
  },
  "language_info": {
   "codemirror_mode": {
    "name": "ipython",
    "version": 3
   },
   "file_extension": ".py",
   "mimetype": "text/x-python",
   "name": "python",
   "nbconvert_exporter": "python",
   "pygments_lexer": "ipython3",
   "version": "3.8.5"
  }
 },
 "nbformat": 4,
 "nbformat_minor": 4
}