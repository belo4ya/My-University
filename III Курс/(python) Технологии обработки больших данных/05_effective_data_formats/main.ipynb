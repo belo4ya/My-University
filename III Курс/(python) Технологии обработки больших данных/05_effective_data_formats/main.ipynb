{
 "cells": [
  {
   "cell_type": "markdown",
   "metadata": {},
   "source": [
    "# Форматы данных (2)"
   ]
  },
  {
   "cell_type": "markdown",
   "metadata": {},
   "source": [
    "Материалы:\n",
    "* Макрушин С.В. \"Лекция 5: Форматы данных (часть 2)\"\n",
    "* https://docs.python.org/3/library/csv.html\n",
    "* https://docs.h5py.org/en/stable/\n",
    "* Уэс Маккини. Python и анализ данных"
   ]
  },
  {
   "cell_type": "code",
   "execution_count": 20,
   "outputs": [],
   "source": [
    "import csv\n",
    "import json\n",
    "import pprint\n",
    "from collections import defaultdict\n",
    "from timeit import default_timer\n",
    "\n",
    "import h5py\n",
    "import numpy as np"
   ],
   "metadata": {
    "collapsed": false,
    "pycharm": {
     "name": "#%%\n"
    }
   }
  },
  {
   "cell_type": "code",
   "execution_count": 2,
   "outputs": [],
   "source": [
    "def pprint_dict_of_lists(dct: dict, n=3, m=10):\n",
    "    pprint.pprint({k: [*v[:m], '...'] for k, v in list(dct.items())[:n]}, sort_dicts=False)"
   ],
   "metadata": {
    "collapsed": false,
    "pycharm": {
     "name": "#%%\n"
    }
   }
  },
  {
   "cell_type": "code",
   "execution_count": 3,
   "outputs": [],
   "source": [
    "## Задачи для совместного разбора"
   ],
   "metadata": {
    "collapsed": false,
    "pycharm": {
     "name": "#%%\n"
    }
   }
  },
  {
   "cell_type": "markdown",
   "metadata": {},
   "source": [
    "1. Считайте данные из файла `open_pubs.csv`, используя `csv.reader`, и преобразуйте к структуре данных следующего вида:\n",
    "    \n",
    "`{'fas_id': [24, 30, ...], 'name': ['Achor Inn', 'Angel Inn', ...], ... }`\n"
   ]
  },
  {
   "cell_type": "code",
   "execution_count": 4,
   "outputs": [
    {
     "name": "stdout",
     "output_type": "stream",
     "text": [
      "{'fas_id': ['24', '30', '63', '64', '65', '85', '...'],\n",
      " 'name': ['Anchor Inn',\n",
      "          'Angel Inn',\n",
      "          'Black Boy Hotel',\n",
      "          'Black Horse',\n",
      "          'Black Lion',\n",
      "          'Bristol Arms',\n",
      "          '...'],\n",
      " 'address': ['Upper Street, Stratford St Mary, COLCHESTER, Essex',\n",
      "             'Egremont Street, Glemsford, SUDBURY, Suffolk',\n",
      "             '7 Market Hill, SUDBURY, Suffolk',\n",
      "             'Lower Street, Stratford St Mary, COLCHESTER, Essex',\n",
      "             'Lion Road, Glemsford, SUDBURY, Suffolk',\n",
      "             'Bristol Hill, Shotley, IPSWICH, Suffolk',\n",
      "             '...'],\n",
      " 'postcode': ['CO7 6LW',\n",
      "              'CO10 7SA',\n",
      "              'CO10 2EA',\n",
      "              'CO7 6JS',\n",
      "              'CO10 7RF',\n",
      "              'IP9 1PU',\n",
      "              '...'],\n",
      " 'easting': ['604748', '582888', '587356', '604270', '582750', '624667', '...'],\n",
      " 'northing': ['234405',\n",
      "              '247368',\n",
      "              '241327',\n",
      "              '233920',\n",
      "              '248298',\n",
      "              '233744',\n",
      "              '...'],\n",
      " 'latitude': ['51.97039',\n",
      "              '52.094427',\n",
      "              '52.038683',\n",
      "              '51.966211',\n",
      "              '52.102815',\n",
      "              '51.956771',\n",
      "              '...'],\n",
      " 'longitude': ['0.979328',\n",
      "               '0.668408',\n",
      "               '0.730226',\n",
      "               '0.972091',\n",
      "               '0.666893',\n",
      "               '1.268376',\n",
      "               '...'],\n",
      " 'local_authority': ['Babergh',\n",
      "                     'Babergh',\n",
      "                     'Babergh',\n",
      "                     'Babergh',\n",
      "                     'Babergh',\n",
      "                     'Babergh',\n",
      "                     '...']}\n"
     ]
    }
   ],
   "source": [
    "with open('data/open_pubs.csv') as f:\n",
    "    reader = csv.reader(f)\n",
    "\n",
    "    headers = next(reader)\n",
    "    n = len(headers)\n",
    "    data = {header: [] for header in headers}\n",
    "\n",
    "    for row in reader:\n",
    "        for i in range(n):\n",
    "            data[headers[i]].append(row[i])\n",
    "\n",
    "pprint_dict_of_lists(data, n=len(data), m=6)"
   ],
   "metadata": {
    "collapsed": false,
    "pycharm": {
     "name": "#%%\n"
    }
   }
  },
  {
   "cell_type": "markdown",
   "source": [
    "2. Сгенерируйте 2 случайные матрицы размера 10_000 x 10_000 и вычислите их произведение. Сколько времени занимают три этих операции? Сохраните 3 полученных матрицы в файл .npz с соответствующими названиями"
   ],
   "metadata": {
    "collapsed": false,
    "pycharm": {
     "name": "#%% md\n"
    }
   }
  },
  {
   "cell_type": "code",
   "metadata": {
    "pycharm": {
     "name": "#%%\n"
    }
   },
   "source": [
    "start = default_timer()\n",
    "\n",
    "size = (3000, 3000)\n",
    "matrix_0 = np.random.randint(0, 100, size=size, dtype=np.int8)\n",
    "matrix_1 = np.random.randint(0, 100, size=size, dtype=np.int8)\n",
    "\n",
    "print(f'time: {(default_timer() - start) * 1000:.4f} ms')"
   ],
   "execution_count": 7,
   "outputs": [
    {
     "name": "stdout",
     "output_type": "stream",
     "text": [
      "time: 149.7895 ms\n"
     ]
    }
   ]
  },
  {
   "cell_type": "code",
   "execution_count": 8,
   "outputs": [
    {
     "name": "stdout",
     "output_type": "stream",
     "text": [
      "time: 76557.9985 ms\n"
     ]
    }
   ],
   "source": [
    "start = default_timer()\n",
    "\n",
    "matrix_dot = np.dot(matrix_0, matrix_1)\n",
    "\n",
    "print(f'time: {(default_timer() - start) * 1000:.4f} ms')"
   ],
   "metadata": {
    "collapsed": false,
    "pycharm": {
     "name": "#%%\n"
    }
   }
  },
  {
   "cell_type": "code",
   "execution_count": 9,
   "outputs": [
    {
     "name": "stdout",
     "output_type": "stream",
     "text": [
      "[[66  7 65 ... 15 11 25]\n",
      " [84 40 83 ... 76  2 85]\n",
      " [28 30 42 ... 83 88 31]\n",
      " ...\n",
      " [15 16 91 ... 78 42 78]\n",
      " [39 56 25 ... 86 67 15]\n",
      " [14 81 67 ... 31 67 89]]\n",
      "[[40 25 62 ... 68 25 46]\n",
      " [64 18  5 ... 87 92 57]\n",
      " [24 24 32 ... 33 22 98]\n",
      " ...\n",
      " [13 92 22 ... 81 74 63]\n",
      " [72 37 10 ... 67  1 11]\n",
      " [59 23 74 ... 18 67 53]]\n",
      "[[ -54  -93 -117 ...  -71 -102    4]\n",
      " [  -1  -63  -62 ...  -58   44  -49]\n",
      " [-127  -18 -103 ...   31  116  -76]\n",
      " ...\n",
      " [ -96  104  -30 ...    2   62   11]\n",
      " [  92 -121   66 ...  -31  121  -58]\n",
      " [ -52  -50  -46 ...  -85   99 -102]]\n"
     ]
    }
   ],
   "source": [
    "print(matrix_0)\n",
    "print(matrix_1)\n",
    "print(matrix_dot)"
   ],
   "metadata": {
    "collapsed": false,
    "pycharm": {
     "name": "#%%\n"
    }
   }
  },
  {
   "cell_type": "code",
   "execution_count": 10,
   "outputs": [],
   "source": [
    "np.savez('data/output/matrices.npz', matrix_0=matrix_0, matrix_1=matrix_1, matrix_dot=matrix_dot)"
   ],
   "metadata": {
    "collapsed": false,
    "pycharm": {
     "name": "#%%\n"
    }
   }
  },
  {
   "cell_type": "markdown",
   "metadata": {},
   "source": [
    "3. Создайте 2 матрицы размера 1000x1000, используя различные параметризируемые распределения из numpy (https://docs.scipy.org/doc/numpy-1.15.0/reference/routines.random.html#distributions)\n",
    "\n",
    "После этого сохраните получившиеся матрицы в hdf5-файл в виде двух различных датасетов. В качестве описания каждого датасета укажите параметры используемых распределений "
   ]
  },
  {
   "cell_type": "code",
   "execution_count": 11,
   "outputs": [],
   "source": [
    "size = (1000, 1000)\n",
    "matrix_0 = np.random.uniform(low=-20, high=50, size=size)\n",
    "matrix_1 = np.random.normal(loc=10, scale=10, size=size)"
   ],
   "metadata": {
    "collapsed": false,
    "pycharm": {
     "name": "#%%\n"
    }
   }
  },
  {
   "cell_type": "code",
   "execution_count": 12,
   "outputs": [],
   "source": [
    "with h5py.File('data/output/matrices.hdf5', mode='w') as f:\n",
    "    dset_0 = f.create_dataset('matrix_0', data=matrix_0)\n",
    "    dset_0.attrs['description'] = ('Матрица, сгенерированная с помощью np.random.uniform(). '\n",
    "                                   '(Draw samples from a uniform distribution)')\n",
    "    dset_0.attrs['low'] = '-20'\n",
    "    dset_0.attrs['high'] = '50'\n",
    "    dset_0.attrs['size'] = f'{matrix_0.shape}'\n",
    "\n",
    "    dset_1 = f.create_dataset('matrix_1', data=matrix_1)\n",
    "    dset_1.attrs['description'] = ('Матрица, сгенерированная с помощью np.random.normal(). '\n",
    "                                   '(Draw random samples from a normal (Gaussian) distribution)')\n",
    "    dset_1.attrs['loc'] = '10'\n",
    "    dset_1.attrs['scale'] = '10'\n",
    "    dset_1.attrs['size'] = f'{matrix_1.shape}'"
   ],
   "metadata": {
    "collapsed": false,
    "pycharm": {
     "name": "#%%\n"
    }
   }
  },
  {
   "cell_type": "code",
   "execution_count": 13,
   "outputs": [
    {
     "name": "stdout",
     "output_type": "stream",
     "text": [
      "Матрица, сгенерированная с помощью np.random.uniform(). (Draw samples from a uniform distribution)\n",
      "(1000, 1000)\n",
      "Матрица, сгенерированная с помощью np.random.normal(). (Draw random samples from a normal (Gaussian) distribution)\n",
      "(1000, 1000)\n"
     ]
    }
   ],
   "source": [
    "with h5py.File('data/output/matrices.hdf5') as f:\n",
    "    for key in f.keys():\n",
    "        dset_1 = f[key]\n",
    "        print(dset_1.attrs['description'])\n",
    "        print(dset_1[:].shape)"
   ],
   "metadata": {
    "collapsed": false,
    "pycharm": {
     "name": "#%%\n"
    }
   }
  },
  {
   "cell_type": "markdown",
   "metadata": {},
   "source": [
    "## Лабораторная работа 5"
   ]
  },
  {
   "cell_type": "markdown",
   "metadata": {},
   "source": [
    "### csv"
   ]
  },
  {
   "cell_type": "markdown",
   "metadata": {},
   "source": [
    "1.1 В файле `tags_sample.csv` находится информация о тэгах, приписываемых рецептам. Воспользовавшись `csv.reader`, считайте этот файл и создайте словарь вида `id_рецепта: [список тэгов]`. Сохраните этот словарь в файл `tags_sample.json`."
   ]
  },
  {
   "cell_type": "code",
   "execution_count": 22,
   "outputs": [],
   "source": [
    "with open('data/tags_sample.csv') as f:\n",
    "    reader = csv.reader(f)\n",
    "\n",
    "    headers = next(reader)\n",
    "    n = len(headers)\n",
    "\n",
    "    tags_sample = defaultdict(list)\n",
    "    for row in reader:\n",
    "        tags_sample[row[0]].append(row[1])"
   ],
   "metadata": {
    "collapsed": false,
    "pycharm": {
     "name": "#%%\n"
    }
   }
  },
  {
   "cell_type": "code",
   "execution_count": 23,
   "outputs": [],
   "source": [
    "with open('data/output/tags_sample.json', mode='w', encoding='utf-8') as f:\n",
    "    json.dump(tags_sample, f, indent=4)"
   ],
   "metadata": {
    "collapsed": false,
    "pycharm": {
     "name": "#%%\n"
    }
   }
  },
  {
   "cell_type": "markdown",
   "metadata": {},
   "source": [
    "1.2 Считайте файл `recipes_sample_with_filled_nsteps.csv` (__ЛР4__) в виде `pd.DataFrame`. Добавьте к таблице 2 столбца: `n_tags`, содержащий количество тэгов у этого рецепта; и `tags`, содержащий набор тэгов в виде строки (тэги внутри строки разделяются символом `;`)"
   ]
  },
  {
   "cell_type": "markdown",
   "metadata": {},
   "source": [
    "1.3 В файле `ingredients_sample.csv` находится информация о ингредиентах, необходимых для рецепта. Воспользовавшись `csv.DictReader`, считайте этот файл и создайте словарь вида `id_рецепта: [список ингредиентов]`."
   ]
  },
  {
   "cell_type": "markdown",
   "metadata": {},
   "source": [
    "1.4 Добавьте к таблице из задания 1.2 столбец `ingredients`, содержащий набор ингредиентов в виде строки (ингредиенты внутри строки разделяются символом `*`)\n",
    "\n",
    "Для строк, которые содержат пропуски в столбце `n_ingredients`, заполните их на основе файла  `ingredients_sample.csv`"
   ]
  },
  {
   "cell_type": "markdown",
   "metadata": {},
   "source": [
    "1.5 Проверьте, содержит ли столбец `n_ingredients` пропуски. Если нет, треобразуйте его к целочисленному типу и сохраните результаты в файл `recipes_sample_with_tags_ingredients.csv`"
   ]
  },
  {
   "cell_type": "markdown",
   "metadata": {},
   "source": [
    "### npy"
   ]
  },
  {
   "cell_type": "markdown",
   "metadata": {},
   "source": [
    "2.1 Разделите таблицу, полученную в результате 1.5, на две таблицы: одна содержит рецепты, загруженные до 2000 года; вторая - все остальные. В полученных таблицах оставьте только числовые столбцы и преобразуйте их к `numpy.array`"
   ]
  },
  {
   "cell_type": "markdown",
   "metadata": {},
   "source": [
    "2.2. Сохраните 2 полученных массива в архив `npz`. Дайте массивам читаемые имена."
   ]
  },
  {
   "cell_type": "markdown",
   "metadata": {},
   "source": [
    "2.3 Считайте созданный архив и продемонстрируйте, что данные считались корректно. "
   ]
  },
  {
   "cell_type": "markdown",
   "metadata": {},
   "source": [
    "### hdf"
   ]
  },
  {
   "cell_type": "markdown",
   "metadata": {},
   "source": [
    "3.1 Выведите названия всех датасетов, находящихся в файле `nutrition_sample.h5`, а также размерность матриц, содержащихся в данных датасетах и их метаданные.\n",
    "\n",
    "Формат вывода:\n",
    "```\n",
    "Dataset name=dataset_0, dataset size=(30000,), metadata={'info': 'calories (#)'}\n",
    "Dataset name=dataset_1, dataset size=(30000,), metadata={'info': 'total fat (PDV)'}\n",
    "...\n",
    "```"
   ]
  },
  {
   "cell_type": "markdown",
   "metadata": {},
   "source": [
    "3.2 Разбейте каждый из имеющихся датасетов на две части: 1 часть содержит только те строки, где PDV (Percent Daily Value) превышает 100%; 2 часть содержит те строки, где PDV не составляет не более 100%. Создайте 2 группы в файле и разместите в них соответствующие части датасета c сохранением метаданных исходных датасетов. Итого должно получиться 2 группы, содержащие несколько датасетов. Сохраните результаты в файл `nutrition_grouped.h5`"
   ]
  },
  {
   "cell_type": "markdown",
   "metadata": {},
   "source": [
    "3.3 Выведите названия всех групп и датасетов, находящихся в этих группах, из файла `nutrition_grouped.h5` а также размерность матриц, содержащихся в датасетах и их метаданные."
   ]
  },
  {
   "cell_type": "markdown",
   "metadata": {},
   "source": [
    "3.4 Модифицируйте код из 3.3 таким образом, чтобы сохранить датасеты, используя сжатие. Сравните размер полученного файла с размерами файла из 3.3. Прокомментируйте результат."
   ]
  }
 ],
 "metadata": {
  "kernelspec": {
   "display_name": "Python 3",
   "language": "python",
   "name": "python3"
  },
  "language_info": {
   "codemirror_mode": {
    "name": "ipython",
    "version": 3
   },
   "file_extension": ".py",
   "mimetype": "text/x-python",
   "name": "python",
   "nbconvert_exporter": "python",
   "pygments_lexer": "ipython3",
   "version": "3.8.5"
  }
 },
 "nbformat": 4,
 "nbformat_minor": 4
}