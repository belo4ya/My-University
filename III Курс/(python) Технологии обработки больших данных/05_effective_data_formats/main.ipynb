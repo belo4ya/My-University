{
 "cells": [
  {
   "cell_type": "markdown",
   "metadata": {},
   "source": [
    "# Форматы данных (2)"
   ]
  },
  {
   "cell_type": "markdown",
   "metadata": {},
   "source": [
    "Материалы:\n",
    "* Макрушин С.В. \"Лекция 5: Форматы данных (часть 2)\"\n",
    "* https://docs.python.org/3/library/csv.html\n",
    "* https://docs.h5py.org/en/stable/\n",
    "* Уэс Маккини. Python и анализ данных"
   ]
  },
  {
   "cell_type": "code",
   "execution_count": 220,
   "outputs": [],
   "source": [
    "import csv\n",
    "import datetime\n",
    "import json\n",
    "import pprint\n",
    "from collections import defaultdict\n",
    "from operator import getitem\n",
    "from pathlib import Path\n",
    "from timeit import default_timer\n",
    "\n",
    "import h5py\n",
    "import numpy as np\n",
    "import pandas as pd"
   ],
   "metadata": {
    "collapsed": false,
    "pycharm": {
     "name": "#%%\n"
    }
   }
  },
  {
   "cell_type": "code",
   "execution_count": 221,
   "outputs": [],
   "source": [
    "def pprint_dict_of_lists(dct: dict, n=3, m=10):\n",
    "    pprint.pprint({k: [*v[:m], '...'] for k, v in list(dct.items())[:n]}, sort_dicts=False)"
   ],
   "metadata": {
    "collapsed": false,
    "pycharm": {
     "name": "#%%\n"
    }
   }
  },
  {
   "cell_type": "code",
   "execution_count": 222,
   "outputs": [],
   "source": [
    "DATA_DIR = Path('data/')\n",
    "OUTPUT_DIR = DATA_DIR.joinpath('output/')"
   ],
   "metadata": {
    "collapsed": false,
    "pycharm": {
     "name": "#%%\n"
    }
   }
  },
  {
   "cell_type": "code",
   "execution_count": 223,
   "outputs": [],
   "source": [
    "## Задачи для совместного разбора"
   ],
   "metadata": {
    "collapsed": false,
    "pycharm": {
     "name": "#%%\n"
    }
   }
  },
  {
   "cell_type": "markdown",
   "metadata": {},
   "source": [
    "1. Считайте данные из файла `open_pubs.csv`, используя `csv.reader`, и преобразуйте к структуре данных следующего вида:\n",
    "    \n",
    "`{'fas_id': [24, 30, ...], 'name': ['Achor Inn', 'Angel Inn', ...], ... }`\n"
   ]
  },
  {
   "cell_type": "code",
   "execution_count": 224,
   "outputs": [
    {
     "name": "stdout",
     "output_type": "stream",
     "text": [
      "{'fas_id': ['24', '30', '63', '64', '65', '85', '...'],\n",
      " 'name': ['Anchor Inn',\n",
      "          'Angel Inn',\n",
      "          'Black Boy Hotel',\n",
      "          'Black Horse',\n",
      "          'Black Lion',\n",
      "          'Bristol Arms',\n",
      "          '...'],\n",
      " 'address': ['Upper Street, Stratford St Mary, COLCHESTER, Essex',\n",
      "             'Egremont Street, Glemsford, SUDBURY, Suffolk',\n",
      "             '7 Market Hill, SUDBURY, Suffolk',\n",
      "             'Lower Street, Stratford St Mary, COLCHESTER, Essex',\n",
      "             'Lion Road, Glemsford, SUDBURY, Suffolk',\n",
      "             'Bristol Hill, Shotley, IPSWICH, Suffolk',\n",
      "             '...'],\n",
      " 'postcode': ['CO7 6LW',\n",
      "              'CO10 7SA',\n",
      "              'CO10 2EA',\n",
      "              'CO7 6JS',\n",
      "              'CO10 7RF',\n",
      "              'IP9 1PU',\n",
      "              '...'],\n",
      " 'easting': ['604748', '582888', '587356', '604270', '582750', '624667', '...'],\n",
      " 'northing': ['234405',\n",
      "              '247368',\n",
      "              '241327',\n",
      "              '233920',\n",
      "              '248298',\n",
      "              '233744',\n",
      "              '...'],\n",
      " 'latitude': ['51.97039',\n",
      "              '52.094427',\n",
      "              '52.038683',\n",
      "              '51.966211',\n",
      "              '52.102815',\n",
      "              '51.956771',\n",
      "              '...'],\n",
      " 'longitude': ['0.979328',\n",
      "               '0.668408',\n",
      "               '0.730226',\n",
      "               '0.972091',\n",
      "               '0.666893',\n",
      "               '1.268376',\n",
      "               '...'],\n",
      " 'local_authority': ['Babergh',\n",
      "                     'Babergh',\n",
      "                     'Babergh',\n",
      "                     'Babergh',\n",
      "                     'Babergh',\n",
      "                     'Babergh',\n",
      "                     '...']}\n"
     ]
    }
   ],
   "source": [
    "with open(DATA_DIR.joinpath('open_pubs.csv')) as f:\n",
    "    reader = csv.reader(f)\n",
    "\n",
    "    headers = next(reader)\n",
    "    n = len(headers)\n",
    "    data = {header: [] for header in headers}\n",
    "\n",
    "    for row in reader:\n",
    "        for i in range(n):\n",
    "            data[headers[i]].append(row[i])\n",
    "\n",
    "pprint_dict_of_lists(data, n=len(data), m=6)"
   ],
   "metadata": {
    "collapsed": false,
    "pycharm": {
     "name": "#%%\n"
    }
   }
  },
  {
   "cell_type": "markdown",
   "source": [
    "2. Сгенерируйте 2 случайные матрицы размера 10_000 x 10_000 и вычислите их произведение. Сколько времени занимают три этих операции? Сохраните 3 полученных матрицы в файл .npz с соответствующими названиями"
   ],
   "metadata": {
    "collapsed": false,
    "pycharm": {
     "name": "#%% md\n"
    }
   }
  },
  {
   "cell_type": "code",
   "metadata": {
    "pycharm": {
     "name": "#%%\n"
    }
   },
   "source": [
    "start = default_timer()\n",
    "\n",
    "size = (3000, 3000)\n",
    "matrix_0 = np.random.randint(0, 100, size=size, dtype=np.int8)\n",
    "matrix_1 = np.random.randint(0, 100, size=size, dtype=np.int8)\n",
    "\n",
    "print(f'time: {(default_timer() - start) * 1000:.4f} ms')"
   ],
   "execution_count": 225,
   "outputs": [
    {
     "name": "stdout",
     "output_type": "stream",
     "text": [
      "time: 99.5741 ms\n"
     ]
    }
   ]
  },
  {
   "cell_type": "code",
   "execution_count": 226,
   "outputs": [
    {
     "name": "stdout",
     "output_type": "stream",
     "text": [
      "time: 77165.3030 ms\n"
     ]
    }
   ],
   "source": [
    "start = default_timer()\n",
    "\n",
    "matrix_dot = np.dot(matrix_0, matrix_1)\n",
    "\n",
    "print(f'time: {(default_timer() - start) * 1000:.4f} ms')"
   ],
   "metadata": {
    "collapsed": false,
    "pycharm": {
     "name": "#%%\n"
    }
   }
  },
  {
   "cell_type": "code",
   "execution_count": 227,
   "outputs": [
    {
     "name": "stdout",
     "output_type": "stream",
     "text": [
      "[[75 43  5 ... 98 16 10]\n",
      " [20 53 65 ... 73 48 48]\n",
      " [96 69 40 ... 46 26 67]\n",
      " ...\n",
      " [41 17 10 ...  2 86 74]\n",
      " [27  8 96 ... 77 76 86]\n",
      " [41 82 32 ... 62 86 86]]\n",
      "[[41 63 51 ... 85 79 27]\n",
      " [40 93  8 ... 53 73 46]\n",
      " [31 47 69 ... 53 13 99]\n",
      " ...\n",
      " [54 23 56 ... 10 57 68]\n",
      " [49 13  6 ... 65 95 87]\n",
      " [65 71 51 ... 53 39 60]]\n",
      "[[  89 -120  -61 ...  -68 -100  -86]\n",
      " [ -80   62  -92 ...  -98   26  118]\n",
      " [  55  -49   12 ...    1  -32   37]\n",
      " ...\n",
      " [-124   -7  103 ...  103  -78  -70]\n",
      " [ -23  -63 -118 ... -104 -102  -37]\n",
      " [ -39  103   45 ...  -54 -125 -101]]\n"
     ]
    }
   ],
   "source": [
    "print(matrix_0)\n",
    "print(matrix_1)\n",
    "print(matrix_dot)"
   ],
   "metadata": {
    "collapsed": false,
    "pycharm": {
     "name": "#%%\n"
    }
   }
  },
  {
   "cell_type": "code",
   "execution_count": 228,
   "outputs": [],
   "source": [
    "np.savez(\n",
    "    OUTPUT_DIR.joinpath('matrices.npz'),\n",
    "    matrix_0=matrix_0,\n",
    "    matrix_1=matrix_1,\n",
    "    matrix_dot=matrix_dot\n",
    ")"
   ],
   "metadata": {
    "collapsed": false,
    "pycharm": {
     "name": "#%%\n"
    }
   }
  },
  {
   "cell_type": "markdown",
   "metadata": {},
   "source": [
    "3. Создайте 2 матрицы размера 1000x1000, используя различные параметризируемые распределения из numpy (https://docs.scipy.org/doc/numpy-1.15.0/reference/routines.random.html#distributions)\n",
    "\n",
    "После этого сохраните получившиеся матрицы в hdf5-файл в виде двух различных датасетов. В качестве описания каждого датасета укажите параметры используемых распределений "
   ]
  },
  {
   "cell_type": "code",
   "execution_count": 229,
   "outputs": [],
   "source": [
    "size = (1000, 1000)\n",
    "matrix_0 = np.random.uniform(low=-20, high=50, size=size)\n",
    "matrix_1 = np.random.normal(loc=10, scale=10, size=size)"
   ],
   "metadata": {
    "collapsed": false,
    "pycharm": {
     "name": "#%%\n"
    }
   }
  },
  {
   "cell_type": "code",
   "execution_count": 230,
   "outputs": [],
   "source": [
    "with h5py.File(OUTPUT_DIR.joinpath('matrices.hdf5'), mode='w') as f:\n",
    "    dset_0 = f.create_dataset('matrix_0', data=matrix_0)\n",
    "    dset_0.attrs['description'] = ('Матрица, сгенерированная с помощью np.random.uniform(). '\n",
    "                                   '(Draw samples from a uniform distribution)')\n",
    "    dset_0.attrs['low'] = '-20'\n",
    "    dset_0.attrs['high'] = '50'\n",
    "    dset_0.attrs['size'] = f'{matrix_0.shape}'\n",
    "\n",
    "    dset_1 = f.create_dataset('matrix_1', data=matrix_1)\n",
    "    dset_1.attrs['description'] = ('Матрица, сгенерированная с помощью np.random.normal(). '\n",
    "                                   '(Draw random samples from a normal (Gaussian) distribution)')\n",
    "    dset_1.attrs['loc'] = '10'\n",
    "    dset_1.attrs['scale'] = '10'\n",
    "    dset_1.attrs['size'] = f'{matrix_1.shape}'"
   ],
   "metadata": {
    "collapsed": false,
    "pycharm": {
     "name": "#%%\n"
    }
   }
  },
  {
   "cell_type": "code",
   "execution_count": 231,
   "outputs": [
    {
     "name": "stdout",
     "output_type": "stream",
     "text": [
      "Матрица, сгенерированная с помощью np.random.uniform(). (Draw samples from a uniform distribution)\n",
      "(1000, 1000)\n",
      "Матрица, сгенерированная с помощью np.random.normal(). (Draw random samples from a normal (Gaussian) distribution)\n",
      "(1000, 1000)\n"
     ]
    }
   ],
   "source": [
    "with h5py.File(OUTPUT_DIR.joinpath('matrices.hdf5')) as f:\n",
    "    for k in f.keys():\n",
    "        dset_1 = f[k]\n",
    "        print(dset_1.attrs['description'])\n",
    "        print(dset_1[:].shape)"
   ],
   "metadata": {
    "collapsed": false,
    "pycharm": {
     "name": "#%%\n"
    }
   }
  },
  {
   "cell_type": "markdown",
   "metadata": {},
   "source": [
    "## Лабораторная работа 5"
   ]
  },
  {
   "cell_type": "markdown",
   "metadata": {},
   "source": [
    "### csv"
   ]
  },
  {
   "cell_type": "markdown",
   "metadata": {},
   "source": [
    "1.1 В файле `tags_sample.csv` находится информация о тэгах, приписываемых рецептам. Воспользовавшись `csv.reader`, считайте этот файл и создайте словарь вида `id_рецепта: [список тэгов]`. Сохраните этот словарь в файл `tags_sample.json`."
   ]
  },
  {
   "cell_type": "code",
   "execution_count": 232,
   "outputs": [],
   "source": [
    "with open(DATA_DIR.joinpath('tags_sample.csv')) as f:\n",
    "    reader = csv.reader(f)\n",
    "\n",
    "    headers = next(reader)\n",
    "    n = len(headers)\n",
    "\n",
    "    tags_sample = defaultdict(list)\n",
    "    for row in reader:\n",
    "        tags_sample[int(row[0])].append(row[1])"
   ],
   "metadata": {
    "collapsed": false,
    "pycharm": {
     "name": "#%%\n"
    }
   }
  },
  {
   "cell_type": "code",
   "execution_count": 233,
   "outputs": [],
   "source": [
    "with open(OUTPUT_DIR.joinpath('tags_sample.json'), mode='w', encoding='utf-8') as f:\n",
    "    json.dump(tags_sample, f, indent=4)"
   ],
   "metadata": {
    "collapsed": false,
    "pycharm": {
     "name": "#%%\n"
    }
   }
  },
  {
   "cell_type": "markdown",
   "metadata": {},
   "source": [
    "1.2 Считайте файл `recipes_sample_with_filled_nsteps.csv` (__ЛР4__) в виде `pd.DataFrame`. Добавьте к таблице 2 столбца: `n_tags`, содержащий количество тэгов у этого рецепта; и `tags`, содержащий набор тэгов в виде строки (тэги внутри строки разделяются символом `;`)"
   ]
  },
  {
   "cell_type": "code",
   "execution_count": 235,
   "outputs": [],
   "source": [
    "recipes_df = pd.read_csv(\n",
    "    DATA_DIR.joinpath('recipes_sample_with_filled_nsteps.csv'),\n",
    "    sep=',',\n",
    "    index_col=0,\n",
    "    parse_dates=['submitted']\n",
    ")"
   ],
   "metadata": {
    "collapsed": false,
    "pycharm": {
     "name": "#%%\n"
    }
   }
  },
  {
   "cell_type": "code",
   "execution_count": 236,
   "outputs": [
    {
     "data": {
      "text/plain": "                                               name      id  minutes  \\\n0             george s at the cove  black bean soup   44123       90   \n1                healthy for them  yogurt popsicles   67664       10   \n2                      i can t believe it s spinach   38798       30   \n3                              italian  gut busters   35173       45   \n4          love is in the air  beef fondue   sauces   84797       25   \n...                                             ...     ...      ...   \n29995  zurie s holey rustic olive and cheddar bread  267661       80   \n29996          zwetschgenkuchen  bavarian plum cake  386977      240   \n29997   zwiebelkuchen   southwest german onion cake  103312       75   \n29998                                   zydeco soup  486161       60   \n29999        cookies by design   cookies on a stick  298512       29   \n\n       contributor_id  submitted  n_steps  \\\n0               35193 2002-10-25       11   \n1               91970 2003-07-26        3   \n2                1533 2002-08-29        5   \n3               22724 2002-07-27        7   \n4                4470 2004-02-23        4   \n...               ...        ...      ...   \n29995          200862 2007-11-25       16   \n29996          177443 2009-08-24       22   \n29997          161745 2004-11-03       10   \n29998          227978 2012-08-29        7   \n29999          506822 2008-04-15        9   \n\n                                             description  n_ingredients  \n0      an original recipe created by chef scott meska...           18.0  \n1      my children and their friends ask for my homem...            NaN  \n2                these were so go, it surprised even me.            8.0  \n3      my sister-in-law made these for us at a family...            NaN  \n4      i think a fondue is a very romantic casual din...            NaN  \n...                                                  ...            ...  \n29995  this is based on a french recipe but i changed...           10.0  \n29996  this is a traditional fresh plum cake, thought...           11.0  \n29997  this is a traditional late summer early fall s...            NaN  \n29998  this is a delicious soup that i originally fou...            NaN  \n29999  i've heard of the 'cookies by design' company,...           10.0  \n\n[30000 rows x 8 columns]",
      "text/html": "<div>\n<style scoped>\n    .dataframe tbody tr th:only-of-type {\n        vertical-align: middle;\n    }\n\n    .dataframe tbody tr th {\n        vertical-align: top;\n    }\n\n    .dataframe thead th {\n        text-align: right;\n    }\n</style>\n<table border=\"1\" class=\"dataframe\">\n  <thead>\n    <tr style=\"text-align: right;\">\n      <th></th>\n      <th>name</th>\n      <th>id</th>\n      <th>minutes</th>\n      <th>contributor_id</th>\n      <th>submitted</th>\n      <th>n_steps</th>\n      <th>description</th>\n      <th>n_ingredients</th>\n    </tr>\n  </thead>\n  <tbody>\n    <tr>\n      <th>0</th>\n      <td>george s at the cove  black bean soup</td>\n      <td>44123</td>\n      <td>90</td>\n      <td>35193</td>\n      <td>2002-10-25</td>\n      <td>11</td>\n      <td>an original recipe created by chef scott meska...</td>\n      <td>18.0</td>\n    </tr>\n    <tr>\n      <th>1</th>\n      <td>healthy for them  yogurt popsicles</td>\n      <td>67664</td>\n      <td>10</td>\n      <td>91970</td>\n      <td>2003-07-26</td>\n      <td>3</td>\n      <td>my children and their friends ask for my homem...</td>\n      <td>NaN</td>\n    </tr>\n    <tr>\n      <th>2</th>\n      <td>i can t believe it s spinach</td>\n      <td>38798</td>\n      <td>30</td>\n      <td>1533</td>\n      <td>2002-08-29</td>\n      <td>5</td>\n      <td>these were so go, it surprised even me.</td>\n      <td>8.0</td>\n    </tr>\n    <tr>\n      <th>3</th>\n      <td>italian  gut busters</td>\n      <td>35173</td>\n      <td>45</td>\n      <td>22724</td>\n      <td>2002-07-27</td>\n      <td>7</td>\n      <td>my sister-in-law made these for us at a family...</td>\n      <td>NaN</td>\n    </tr>\n    <tr>\n      <th>4</th>\n      <td>love is in the air  beef fondue   sauces</td>\n      <td>84797</td>\n      <td>25</td>\n      <td>4470</td>\n      <td>2004-02-23</td>\n      <td>4</td>\n      <td>i think a fondue is a very romantic casual din...</td>\n      <td>NaN</td>\n    </tr>\n    <tr>\n      <th>...</th>\n      <td>...</td>\n      <td>...</td>\n      <td>...</td>\n      <td>...</td>\n      <td>...</td>\n      <td>...</td>\n      <td>...</td>\n      <td>...</td>\n    </tr>\n    <tr>\n      <th>29995</th>\n      <td>zurie s holey rustic olive and cheddar bread</td>\n      <td>267661</td>\n      <td>80</td>\n      <td>200862</td>\n      <td>2007-11-25</td>\n      <td>16</td>\n      <td>this is based on a french recipe but i changed...</td>\n      <td>10.0</td>\n    </tr>\n    <tr>\n      <th>29996</th>\n      <td>zwetschgenkuchen  bavarian plum cake</td>\n      <td>386977</td>\n      <td>240</td>\n      <td>177443</td>\n      <td>2009-08-24</td>\n      <td>22</td>\n      <td>this is a traditional fresh plum cake, thought...</td>\n      <td>11.0</td>\n    </tr>\n    <tr>\n      <th>29997</th>\n      <td>zwiebelkuchen   southwest german onion cake</td>\n      <td>103312</td>\n      <td>75</td>\n      <td>161745</td>\n      <td>2004-11-03</td>\n      <td>10</td>\n      <td>this is a traditional late summer early fall s...</td>\n      <td>NaN</td>\n    </tr>\n    <tr>\n      <th>29998</th>\n      <td>zydeco soup</td>\n      <td>486161</td>\n      <td>60</td>\n      <td>227978</td>\n      <td>2012-08-29</td>\n      <td>7</td>\n      <td>this is a delicious soup that i originally fou...</td>\n      <td>NaN</td>\n    </tr>\n    <tr>\n      <th>29999</th>\n      <td>cookies by design   cookies on a stick</td>\n      <td>298512</td>\n      <td>29</td>\n      <td>506822</td>\n      <td>2008-04-15</td>\n      <td>9</td>\n      <td>i've heard of the 'cookies by design' company,...</td>\n      <td>10.0</td>\n    </tr>\n  </tbody>\n</table>\n<p>30000 rows × 8 columns</p>\n</div>"
     },
     "execution_count": 236,
     "metadata": {},
     "output_type": "execute_result"
    }
   ],
   "source": [
    "recipes_df"
   ],
   "metadata": {
    "collapsed": false,
    "pycharm": {
     "name": "#%%\n"
    }
   }
  },
  {
   "cell_type": "code",
   "execution_count": 237,
   "outputs": [],
   "source": [
    "n_tags_tags = {'id': [], 'n_tags': [], 'tags': []}\n",
    "for k, v in tags_sample.items():\n",
    "    n_tags_tags['id'].append(k)\n",
    "    n_tags_tags['n_tags'].append(len(v))\n",
    "    n_tags_tags['tags'].append(';'.join(v))\n",
    "\n",
    "n_tags_tags_df = pd.DataFrame(n_tags_tags)"
   ],
   "metadata": {
    "collapsed": false,
    "pycharm": {
     "name": "#%%\n"
    }
   }
  },
  {
   "cell_type": "code",
   "execution_count": 238,
   "outputs": [
    {
     "data": {
      "text/plain": "           id  n_tags                                               tags\n0       44123      25  weeknight;time-to-make;course;main-ingredient;...\n1       67664      31  15-minutes-or-less;time-to-make;course;prepara...\n2       38798      17  30-minutes-or-less;time-to-make;course;main-in...\n3       35173      11  60-minutes-or-less;time-to-make;course;prepara...\n4       84797      19  30-minutes-or-less;time-to-make;course;main-in...\n...       ...     ...                                                ...\n29995  267661      18  time-to-make;course;main-ingredient;cuisine;pr...\n29996  386977      19  time-to-make;course;main-ingredient;cuisine;pr...\n29997  103312      20  time-to-make;course;main-ingredient;cuisine;pr...\n29998  486161      20  ham;60-minutes-or-less;time-to-make;course;mai...\n29999  298512      12  30-minutes-or-less;time-to-make;course;prepara...\n\n[30000 rows x 3 columns]",
      "text/html": "<div>\n<style scoped>\n    .dataframe tbody tr th:only-of-type {\n        vertical-align: middle;\n    }\n\n    .dataframe tbody tr th {\n        vertical-align: top;\n    }\n\n    .dataframe thead th {\n        text-align: right;\n    }\n</style>\n<table border=\"1\" class=\"dataframe\">\n  <thead>\n    <tr style=\"text-align: right;\">\n      <th></th>\n      <th>id</th>\n      <th>n_tags</th>\n      <th>tags</th>\n    </tr>\n  </thead>\n  <tbody>\n    <tr>\n      <th>0</th>\n      <td>44123</td>\n      <td>25</td>\n      <td>weeknight;time-to-make;course;main-ingredient;...</td>\n    </tr>\n    <tr>\n      <th>1</th>\n      <td>67664</td>\n      <td>31</td>\n      <td>15-minutes-or-less;time-to-make;course;prepara...</td>\n    </tr>\n    <tr>\n      <th>2</th>\n      <td>38798</td>\n      <td>17</td>\n      <td>30-minutes-or-less;time-to-make;course;main-in...</td>\n    </tr>\n    <tr>\n      <th>3</th>\n      <td>35173</td>\n      <td>11</td>\n      <td>60-minutes-or-less;time-to-make;course;prepara...</td>\n    </tr>\n    <tr>\n      <th>4</th>\n      <td>84797</td>\n      <td>19</td>\n      <td>30-minutes-or-less;time-to-make;course;main-in...</td>\n    </tr>\n    <tr>\n      <th>...</th>\n      <td>...</td>\n      <td>...</td>\n      <td>...</td>\n    </tr>\n    <tr>\n      <th>29995</th>\n      <td>267661</td>\n      <td>18</td>\n      <td>time-to-make;course;main-ingredient;cuisine;pr...</td>\n    </tr>\n    <tr>\n      <th>29996</th>\n      <td>386977</td>\n      <td>19</td>\n      <td>time-to-make;course;main-ingredient;cuisine;pr...</td>\n    </tr>\n    <tr>\n      <th>29997</th>\n      <td>103312</td>\n      <td>20</td>\n      <td>time-to-make;course;main-ingredient;cuisine;pr...</td>\n    </tr>\n    <tr>\n      <th>29998</th>\n      <td>486161</td>\n      <td>20</td>\n      <td>ham;60-minutes-or-less;time-to-make;course;mai...</td>\n    </tr>\n    <tr>\n      <th>29999</th>\n      <td>298512</td>\n      <td>12</td>\n      <td>30-minutes-or-less;time-to-make;course;prepara...</td>\n    </tr>\n  </tbody>\n</table>\n<p>30000 rows × 3 columns</p>\n</div>"
     },
     "execution_count": 238,
     "metadata": {},
     "output_type": "execute_result"
    }
   ],
   "source": [
    "n_tags_tags_df"
   ],
   "metadata": {
    "collapsed": false,
    "pycharm": {
     "name": "#%%\n"
    }
   }
  },
  {
   "cell_type": "code",
   "execution_count": 239,
   "outputs": [],
   "source": [
    "recipes_tags_df = pd.merge(\n",
    "    recipes_df,\n",
    "    n_tags_tags_df,\n",
    "    how='left',\n",
    "    on='id'\n",
    ")"
   ],
   "metadata": {
    "collapsed": false,
    "pycharm": {
     "name": "#%%\n"
    }
   }
  },
  {
   "cell_type": "code",
   "execution_count": 240,
   "outputs": [
    {
     "data": {
      "text/plain": "                                               name      id  minutes  \\\n0             george s at the cove  black bean soup   44123       90   \n1                healthy for them  yogurt popsicles   67664       10   \n2                      i can t believe it s spinach   38798       30   \n3                              italian  gut busters   35173       45   \n4          love is in the air  beef fondue   sauces   84797       25   \n...                                             ...     ...      ...   \n29995  zurie s holey rustic olive and cheddar bread  267661       80   \n29996          zwetschgenkuchen  bavarian plum cake  386977      240   \n29997   zwiebelkuchen   southwest german onion cake  103312       75   \n29998                                   zydeco soup  486161       60   \n29999        cookies by design   cookies on a stick  298512       29   \n\n       contributor_id  submitted  n_steps  \\\n0               35193 2002-10-25       11   \n1               91970 2003-07-26        3   \n2                1533 2002-08-29        5   \n3               22724 2002-07-27        7   \n4                4470 2004-02-23        4   \n...               ...        ...      ...   \n29995          200862 2007-11-25       16   \n29996          177443 2009-08-24       22   \n29997          161745 2004-11-03       10   \n29998          227978 2012-08-29        7   \n29999          506822 2008-04-15        9   \n\n                                             description  n_ingredients  \\\n0      an original recipe created by chef scott meska...           18.0   \n1      my children and their friends ask for my homem...            NaN   \n2                these were so go, it surprised even me.            8.0   \n3      my sister-in-law made these for us at a family...            NaN   \n4      i think a fondue is a very romantic casual din...            NaN   \n...                                                  ...            ...   \n29995  this is based on a french recipe but i changed...           10.0   \n29996  this is a traditional fresh plum cake, thought...           11.0   \n29997  this is a traditional late summer early fall s...            NaN   \n29998  this is a delicious soup that i originally fou...            NaN   \n29999  i've heard of the 'cookies by design' company,...           10.0   \n\n       n_tags                                               tags  \n0          25  weeknight;time-to-make;course;main-ingredient;...  \n1          31  15-minutes-or-less;time-to-make;course;prepara...  \n2          17  30-minutes-or-less;time-to-make;course;main-in...  \n3          11  60-minutes-or-less;time-to-make;course;prepara...  \n4          19  30-minutes-or-less;time-to-make;course;main-in...  \n...       ...                                                ...  \n29995      18  time-to-make;course;main-ingredient;cuisine;pr...  \n29996      19  time-to-make;course;main-ingredient;cuisine;pr...  \n29997      20  time-to-make;course;main-ingredient;cuisine;pr...  \n29998      20  ham;60-minutes-or-less;time-to-make;course;mai...  \n29999      12  30-minutes-or-less;time-to-make;course;prepara...  \n\n[30000 rows x 10 columns]",
      "text/html": "<div>\n<style scoped>\n    .dataframe tbody tr th:only-of-type {\n        vertical-align: middle;\n    }\n\n    .dataframe tbody tr th {\n        vertical-align: top;\n    }\n\n    .dataframe thead th {\n        text-align: right;\n    }\n</style>\n<table border=\"1\" class=\"dataframe\">\n  <thead>\n    <tr style=\"text-align: right;\">\n      <th></th>\n      <th>name</th>\n      <th>id</th>\n      <th>minutes</th>\n      <th>contributor_id</th>\n      <th>submitted</th>\n      <th>n_steps</th>\n      <th>description</th>\n      <th>n_ingredients</th>\n      <th>n_tags</th>\n      <th>tags</th>\n    </tr>\n  </thead>\n  <tbody>\n    <tr>\n      <th>0</th>\n      <td>george s at the cove  black bean soup</td>\n      <td>44123</td>\n      <td>90</td>\n      <td>35193</td>\n      <td>2002-10-25</td>\n      <td>11</td>\n      <td>an original recipe created by chef scott meska...</td>\n      <td>18.0</td>\n      <td>25</td>\n      <td>weeknight;time-to-make;course;main-ingredient;...</td>\n    </tr>\n    <tr>\n      <th>1</th>\n      <td>healthy for them  yogurt popsicles</td>\n      <td>67664</td>\n      <td>10</td>\n      <td>91970</td>\n      <td>2003-07-26</td>\n      <td>3</td>\n      <td>my children and their friends ask for my homem...</td>\n      <td>NaN</td>\n      <td>31</td>\n      <td>15-minutes-or-less;time-to-make;course;prepara...</td>\n    </tr>\n    <tr>\n      <th>2</th>\n      <td>i can t believe it s spinach</td>\n      <td>38798</td>\n      <td>30</td>\n      <td>1533</td>\n      <td>2002-08-29</td>\n      <td>5</td>\n      <td>these were so go, it surprised even me.</td>\n      <td>8.0</td>\n      <td>17</td>\n      <td>30-minutes-or-less;time-to-make;course;main-in...</td>\n    </tr>\n    <tr>\n      <th>3</th>\n      <td>italian  gut busters</td>\n      <td>35173</td>\n      <td>45</td>\n      <td>22724</td>\n      <td>2002-07-27</td>\n      <td>7</td>\n      <td>my sister-in-law made these for us at a family...</td>\n      <td>NaN</td>\n      <td>11</td>\n      <td>60-minutes-or-less;time-to-make;course;prepara...</td>\n    </tr>\n    <tr>\n      <th>4</th>\n      <td>love is in the air  beef fondue   sauces</td>\n      <td>84797</td>\n      <td>25</td>\n      <td>4470</td>\n      <td>2004-02-23</td>\n      <td>4</td>\n      <td>i think a fondue is a very romantic casual din...</td>\n      <td>NaN</td>\n      <td>19</td>\n      <td>30-minutes-or-less;time-to-make;course;main-in...</td>\n    </tr>\n    <tr>\n      <th>...</th>\n      <td>...</td>\n      <td>...</td>\n      <td>...</td>\n      <td>...</td>\n      <td>...</td>\n      <td>...</td>\n      <td>...</td>\n      <td>...</td>\n      <td>...</td>\n      <td>...</td>\n    </tr>\n    <tr>\n      <th>29995</th>\n      <td>zurie s holey rustic olive and cheddar bread</td>\n      <td>267661</td>\n      <td>80</td>\n      <td>200862</td>\n      <td>2007-11-25</td>\n      <td>16</td>\n      <td>this is based on a french recipe but i changed...</td>\n      <td>10.0</td>\n      <td>18</td>\n      <td>time-to-make;course;main-ingredient;cuisine;pr...</td>\n    </tr>\n    <tr>\n      <th>29996</th>\n      <td>zwetschgenkuchen  bavarian plum cake</td>\n      <td>386977</td>\n      <td>240</td>\n      <td>177443</td>\n      <td>2009-08-24</td>\n      <td>22</td>\n      <td>this is a traditional fresh plum cake, thought...</td>\n      <td>11.0</td>\n      <td>19</td>\n      <td>time-to-make;course;main-ingredient;cuisine;pr...</td>\n    </tr>\n    <tr>\n      <th>29997</th>\n      <td>zwiebelkuchen   southwest german onion cake</td>\n      <td>103312</td>\n      <td>75</td>\n      <td>161745</td>\n      <td>2004-11-03</td>\n      <td>10</td>\n      <td>this is a traditional late summer early fall s...</td>\n      <td>NaN</td>\n      <td>20</td>\n      <td>time-to-make;course;main-ingredient;cuisine;pr...</td>\n    </tr>\n    <tr>\n      <th>29998</th>\n      <td>zydeco soup</td>\n      <td>486161</td>\n      <td>60</td>\n      <td>227978</td>\n      <td>2012-08-29</td>\n      <td>7</td>\n      <td>this is a delicious soup that i originally fou...</td>\n      <td>NaN</td>\n      <td>20</td>\n      <td>ham;60-minutes-or-less;time-to-make;course;mai...</td>\n    </tr>\n    <tr>\n      <th>29999</th>\n      <td>cookies by design   cookies on a stick</td>\n      <td>298512</td>\n      <td>29</td>\n      <td>506822</td>\n      <td>2008-04-15</td>\n      <td>9</td>\n      <td>i've heard of the 'cookies by design' company,...</td>\n      <td>10.0</td>\n      <td>12</td>\n      <td>30-minutes-or-less;time-to-make;course;prepara...</td>\n    </tr>\n  </tbody>\n</table>\n<p>30000 rows × 10 columns</p>\n</div>"
     },
     "execution_count": 240,
     "metadata": {},
     "output_type": "execute_result"
    }
   ],
   "source": [
    "recipes_tags_df"
   ],
   "metadata": {
    "collapsed": false,
    "pycharm": {
     "name": "#%%\n"
    }
   }
  },
  {
   "cell_type": "markdown",
   "metadata": {},
   "source": [
    "1.3 В файле `ingredients_sample.csv` находится информация о ингредиентах, необходимых для рецепта. Воспользовавшись `csv.DictReader`, считайте этот файл и создайте словарь вида `id_рецепта: [список ингредиентов]`."
   ]
  },
  {
   "cell_type": "code",
   "execution_count": 241,
   "outputs": [],
   "source": [
    "with open(DATA_DIR.joinpath('ingredients_sample.csv')) as f:\n",
    "    reader = csv.DictReader(f)\n",
    "    ingredients_sample = defaultdict(list)\n",
    "    for row in reader:\n",
    "        ingredients_sample[int(row['recipe_id'])].append(row['ingredient'])"
   ],
   "metadata": {
    "collapsed": false,
    "pycharm": {
     "name": "#%%\n"
    }
   }
  },
  {
   "cell_type": "code",
   "execution_count": 242,
   "outputs": [
    {
     "name": "stdout",
     "output_type": "stream",
     "text": [
      "{44123: ['unsalted butter',\n",
      "         'carrot',\n",
      "         'onion',\n",
      "         'celery',\n",
      "         'broccoli stem',\n",
      "         'dried thyme',\n",
      "         'dried oregano',\n",
      "         'dried sweet basil leaves',\n",
      "         'dry white wine',\n",
      "         'chicken stock',\n",
      "         '...'],\n",
      " 250900: ['unsalted butter',\n",
      "          'all-purpose flour',\n",
      "          'walnuts',\n",
      "          'light brown sugar',\n",
      "          'refrigerated pie crust',\n",
      "          'granny smith apples',\n",
      "          '...'],\n",
      " 120462: ['unsalted butter',\n",
      "          'onion',\n",
      "          'milk',\n",
      "          'salt',\n",
      "          'egg',\n",
      "          'cream cheese',\n",
      "          'extra-sharp cheddar cheese',\n",
      "          'fresh ground black pepper',\n",
      "          'garlic clove',\n",
      "          'penne pasta',\n",
      "          '...']}\n"
     ]
    }
   ],
   "source": [
    "pprint_dict_of_lists(ingredients_sample)"
   ],
   "metadata": {
    "collapsed": false,
    "pycharm": {
     "name": "#%%\n"
    }
   }
  },
  {
   "cell_type": "markdown",
   "metadata": {},
   "source": [
    "1.4 Добавьте к таблице из задания 1.2 столбец `ingredients`, содержащий набор ингредиентов в виде строки (ингредиенты внутри строки разделяются символом `*`)\n",
    "\n",
    "Для строк, которые содержат пропуски в столбце `n_ingredients`, заполните их на основе файла  `ingredients_sample.csv`"
   ]
  },
  {
   "cell_type": "code",
   "execution_count": 243,
   "outputs": [],
   "source": [
    "n_ingredients_ingredients = {'id': [], 'n_ingredients': [], 'ingredients': []}\n",
    "for k, v in ingredients_sample.items():\n",
    "    n_ingredients_ingredients['id'].append(k)\n",
    "    n_ingredients_ingredients['n_ingredients'].append(len(v))\n",
    "    n_ingredients_ingredients['ingredients'].append('*'.join(v))\n",
    "\n",
    "n_ingredients_ingredients_df = pd.DataFrame(n_ingredients_ingredients)"
   ],
   "metadata": {
    "collapsed": false,
    "pycharm": {
     "name": "#%%\n"
    }
   }
  },
  {
   "cell_type": "code",
   "execution_count": 244,
   "outputs": [
    {
     "data": {
      "text/plain": "           id  n_ingredients  \\\n0       44123             18   \n1      250900              6   \n2      120462             14   \n3      257111              8   \n4      148114              4   \n...       ...            ...   \n29995  290445              2   \n29996   53234              2   \n29997  451071              2   \n29998  166778              2   \n29999  322972              2   \n\n                                             ingredients  \n0      unsalted butter*carrot*onion*celery*broccoli s...  \n1      unsalted butter*all-purpose flour*walnuts*ligh...  \n2      unsalted butter*onion*milk*salt*egg*cream chee...  \n3      unsalted butter*milk*eggs*honey*white bread*va...  \n4      unsalted butter*nuts*granulated sugar*semi-swe...  \n...                                                  ...  \n29995                    mountain dew soda*irish whiskey  \n29996                           venison roast*clean jars  \n29997                     pink lemonade*watermelon vodka  \n29998                             peach gelatin*iced tea  \n29999    red bull energy drink*agwa cocoa herbal liqueur  \n\n[30000 rows x 3 columns]",
      "text/html": "<div>\n<style scoped>\n    .dataframe tbody tr th:only-of-type {\n        vertical-align: middle;\n    }\n\n    .dataframe tbody tr th {\n        vertical-align: top;\n    }\n\n    .dataframe thead th {\n        text-align: right;\n    }\n</style>\n<table border=\"1\" class=\"dataframe\">\n  <thead>\n    <tr style=\"text-align: right;\">\n      <th></th>\n      <th>id</th>\n      <th>n_ingredients</th>\n      <th>ingredients</th>\n    </tr>\n  </thead>\n  <tbody>\n    <tr>\n      <th>0</th>\n      <td>44123</td>\n      <td>18</td>\n      <td>unsalted butter*carrot*onion*celery*broccoli s...</td>\n    </tr>\n    <tr>\n      <th>1</th>\n      <td>250900</td>\n      <td>6</td>\n      <td>unsalted butter*all-purpose flour*walnuts*ligh...</td>\n    </tr>\n    <tr>\n      <th>2</th>\n      <td>120462</td>\n      <td>14</td>\n      <td>unsalted butter*onion*milk*salt*egg*cream chee...</td>\n    </tr>\n    <tr>\n      <th>3</th>\n      <td>257111</td>\n      <td>8</td>\n      <td>unsalted butter*milk*eggs*honey*white bread*va...</td>\n    </tr>\n    <tr>\n      <th>4</th>\n      <td>148114</td>\n      <td>4</td>\n      <td>unsalted butter*nuts*granulated sugar*semi-swe...</td>\n    </tr>\n    <tr>\n      <th>...</th>\n      <td>...</td>\n      <td>...</td>\n      <td>...</td>\n    </tr>\n    <tr>\n      <th>29995</th>\n      <td>290445</td>\n      <td>2</td>\n      <td>mountain dew soda*irish whiskey</td>\n    </tr>\n    <tr>\n      <th>29996</th>\n      <td>53234</td>\n      <td>2</td>\n      <td>venison roast*clean jars</td>\n    </tr>\n    <tr>\n      <th>29997</th>\n      <td>451071</td>\n      <td>2</td>\n      <td>pink lemonade*watermelon vodka</td>\n    </tr>\n    <tr>\n      <th>29998</th>\n      <td>166778</td>\n      <td>2</td>\n      <td>peach gelatin*iced tea</td>\n    </tr>\n    <tr>\n      <th>29999</th>\n      <td>322972</td>\n      <td>2</td>\n      <td>red bull energy drink*agwa cocoa herbal liqueur</td>\n    </tr>\n  </tbody>\n</table>\n<p>30000 rows × 3 columns</p>\n</div>"
     },
     "execution_count": 244,
     "metadata": {},
     "output_type": "execute_result"
    }
   ],
   "source": [
    "n_ingredients_ingredients_df"
   ],
   "metadata": {
    "collapsed": false,
    "pycharm": {
     "name": "#%%\n"
    }
   }
  },
  {
   "cell_type": "code",
   "execution_count": 245,
   "outputs": [],
   "source": [
    "recipes_tags_ingredients_df = pd.merge(\n",
    "    recipes_tags_df,\n",
    "    n_ingredients_ingredients_df,\n",
    "    how='left',\n",
    "    on='id',\n",
    "    suffixes=('', '_right')\n",
    ")"
   ],
   "metadata": {
    "collapsed": false,
    "pycharm": {
     "name": "#%%\n"
    }
   }
  },
  {
   "cell_type": "code",
   "execution_count": 246,
   "outputs": [
    {
     "data": {
      "text/plain": "                                               name      id  minutes  \\\n0             george s at the cove  black bean soup   44123       90   \n1                healthy for them  yogurt popsicles   67664       10   \n2                      i can t believe it s spinach   38798       30   \n3                              italian  gut busters   35173       45   \n4          love is in the air  beef fondue   sauces   84797       25   \n...                                             ...     ...      ...   \n29995  zurie s holey rustic olive and cheddar bread  267661       80   \n29996          zwetschgenkuchen  bavarian plum cake  386977      240   \n29997   zwiebelkuchen   southwest german onion cake  103312       75   \n29998                                   zydeco soup  486161       60   \n29999        cookies by design   cookies on a stick  298512       29   \n\n       contributor_id  submitted  n_steps  \\\n0               35193 2002-10-25       11   \n1               91970 2003-07-26        3   \n2                1533 2002-08-29        5   \n3               22724 2002-07-27        7   \n4                4470 2004-02-23        4   \n...               ...        ...      ...   \n29995          200862 2007-11-25       16   \n29996          177443 2009-08-24       22   \n29997          161745 2004-11-03       10   \n29998          227978 2012-08-29        7   \n29999          506822 2008-04-15        9   \n\n                                             description  n_ingredients  \\\n0      an original recipe created by chef scott meska...           18.0   \n1      my children and their friends ask for my homem...            NaN   \n2                these were so go, it surprised even me.            8.0   \n3      my sister-in-law made these for us at a family...            NaN   \n4      i think a fondue is a very romantic casual din...            NaN   \n...                                                  ...            ...   \n29995  this is based on a french recipe but i changed...           10.0   \n29996  this is a traditional fresh plum cake, thought...           11.0   \n29997  this is a traditional late summer early fall s...            NaN   \n29998  this is a delicious soup that i originally fou...            NaN   \n29999  i've heard of the 'cookies by design' company,...           10.0   \n\n       n_tags                                               tags  \\\n0          25  weeknight;time-to-make;course;main-ingredient;...   \n1          31  15-minutes-or-less;time-to-make;course;prepara...   \n2          17  30-minutes-or-less;time-to-make;course;main-in...   \n3          11  60-minutes-or-less;time-to-make;course;prepara...   \n4          19  30-minutes-or-less;time-to-make;course;main-in...   \n...       ...                                                ...   \n29995      18  time-to-make;course;main-ingredient;cuisine;pr...   \n29996      19  time-to-make;course;main-ingredient;cuisine;pr...   \n29997      20  time-to-make;course;main-ingredient;cuisine;pr...   \n29998      20  ham;60-minutes-or-less;time-to-make;course;mai...   \n29999      12  30-minutes-or-less;time-to-make;course;prepara...   \n\n       n_ingredients_right                                        ingredients  \n0                       18  unsalted butter*carrot*onion*celery*broccoli s...  \n1                        3         milk*frozen juice concentrate*plain yogurt  \n2                        8  onion*frozen chopped spinach*eggs*garlic powde...  \n3                        9  sandwich bun*good seasonings italian salad dre...  \n4                       12  beef steaks*vegetable oil*spicy mustard*fresh ...  \n...                    ...                                                ...  \n29995                   10  dry white wine*eggs*cheddar cheese*baking powd...  \n29996                   11  unsalted butter*milk*flour*salt*vanilla*all-pu...  \n29997                   13  onion*milk*eggs*butter*flour*salt*pepper*sugar...  \n29998                   22  onion*celery*dried thyme*dried oregano*fresh p...  \n29999                   10  butter*sour cream*egg*bisquick*light brown sug...  \n\n[30000 rows x 12 columns]",
      "text/html": "<div>\n<style scoped>\n    .dataframe tbody tr th:only-of-type {\n        vertical-align: middle;\n    }\n\n    .dataframe tbody tr th {\n        vertical-align: top;\n    }\n\n    .dataframe thead th {\n        text-align: right;\n    }\n</style>\n<table border=\"1\" class=\"dataframe\">\n  <thead>\n    <tr style=\"text-align: right;\">\n      <th></th>\n      <th>name</th>\n      <th>id</th>\n      <th>minutes</th>\n      <th>contributor_id</th>\n      <th>submitted</th>\n      <th>n_steps</th>\n      <th>description</th>\n      <th>n_ingredients</th>\n      <th>n_tags</th>\n      <th>tags</th>\n      <th>n_ingredients_right</th>\n      <th>ingredients</th>\n    </tr>\n  </thead>\n  <tbody>\n    <tr>\n      <th>0</th>\n      <td>george s at the cove  black bean soup</td>\n      <td>44123</td>\n      <td>90</td>\n      <td>35193</td>\n      <td>2002-10-25</td>\n      <td>11</td>\n      <td>an original recipe created by chef scott meska...</td>\n      <td>18.0</td>\n      <td>25</td>\n      <td>weeknight;time-to-make;course;main-ingredient;...</td>\n      <td>18</td>\n      <td>unsalted butter*carrot*onion*celery*broccoli s...</td>\n    </tr>\n    <tr>\n      <th>1</th>\n      <td>healthy for them  yogurt popsicles</td>\n      <td>67664</td>\n      <td>10</td>\n      <td>91970</td>\n      <td>2003-07-26</td>\n      <td>3</td>\n      <td>my children and their friends ask for my homem...</td>\n      <td>NaN</td>\n      <td>31</td>\n      <td>15-minutes-or-less;time-to-make;course;prepara...</td>\n      <td>3</td>\n      <td>milk*frozen juice concentrate*plain yogurt</td>\n    </tr>\n    <tr>\n      <th>2</th>\n      <td>i can t believe it s spinach</td>\n      <td>38798</td>\n      <td>30</td>\n      <td>1533</td>\n      <td>2002-08-29</td>\n      <td>5</td>\n      <td>these were so go, it surprised even me.</td>\n      <td>8.0</td>\n      <td>17</td>\n      <td>30-minutes-or-less;time-to-make;course;main-in...</td>\n      <td>8</td>\n      <td>onion*frozen chopped spinach*eggs*garlic powde...</td>\n    </tr>\n    <tr>\n      <th>3</th>\n      <td>italian  gut busters</td>\n      <td>35173</td>\n      <td>45</td>\n      <td>22724</td>\n      <td>2002-07-27</td>\n      <td>7</td>\n      <td>my sister-in-law made these for us at a family...</td>\n      <td>NaN</td>\n      <td>11</td>\n      <td>60-minutes-or-less;time-to-make;course;prepara...</td>\n      <td>9</td>\n      <td>sandwich bun*good seasonings italian salad dre...</td>\n    </tr>\n    <tr>\n      <th>4</th>\n      <td>love is in the air  beef fondue   sauces</td>\n      <td>84797</td>\n      <td>25</td>\n      <td>4470</td>\n      <td>2004-02-23</td>\n      <td>4</td>\n      <td>i think a fondue is a very romantic casual din...</td>\n      <td>NaN</td>\n      <td>19</td>\n      <td>30-minutes-or-less;time-to-make;course;main-in...</td>\n      <td>12</td>\n      <td>beef steaks*vegetable oil*spicy mustard*fresh ...</td>\n    </tr>\n    <tr>\n      <th>...</th>\n      <td>...</td>\n      <td>...</td>\n      <td>...</td>\n      <td>...</td>\n      <td>...</td>\n      <td>...</td>\n      <td>...</td>\n      <td>...</td>\n      <td>...</td>\n      <td>...</td>\n      <td>...</td>\n      <td>...</td>\n    </tr>\n    <tr>\n      <th>29995</th>\n      <td>zurie s holey rustic olive and cheddar bread</td>\n      <td>267661</td>\n      <td>80</td>\n      <td>200862</td>\n      <td>2007-11-25</td>\n      <td>16</td>\n      <td>this is based on a french recipe but i changed...</td>\n      <td>10.0</td>\n      <td>18</td>\n      <td>time-to-make;course;main-ingredient;cuisine;pr...</td>\n      <td>10</td>\n      <td>dry white wine*eggs*cheddar cheese*baking powd...</td>\n    </tr>\n    <tr>\n      <th>29996</th>\n      <td>zwetschgenkuchen  bavarian plum cake</td>\n      <td>386977</td>\n      <td>240</td>\n      <td>177443</td>\n      <td>2009-08-24</td>\n      <td>22</td>\n      <td>this is a traditional fresh plum cake, thought...</td>\n      <td>11.0</td>\n      <td>19</td>\n      <td>time-to-make;course;main-ingredient;cuisine;pr...</td>\n      <td>11</td>\n      <td>unsalted butter*milk*flour*salt*vanilla*all-pu...</td>\n    </tr>\n    <tr>\n      <th>29997</th>\n      <td>zwiebelkuchen   southwest german onion cake</td>\n      <td>103312</td>\n      <td>75</td>\n      <td>161745</td>\n      <td>2004-11-03</td>\n      <td>10</td>\n      <td>this is a traditional late summer early fall s...</td>\n      <td>NaN</td>\n      <td>20</td>\n      <td>time-to-make;course;main-ingredient;cuisine;pr...</td>\n      <td>13</td>\n      <td>onion*milk*eggs*butter*flour*salt*pepper*sugar...</td>\n    </tr>\n    <tr>\n      <th>29998</th>\n      <td>zydeco soup</td>\n      <td>486161</td>\n      <td>60</td>\n      <td>227978</td>\n      <td>2012-08-29</td>\n      <td>7</td>\n      <td>this is a delicious soup that i originally fou...</td>\n      <td>NaN</td>\n      <td>20</td>\n      <td>ham;60-minutes-or-less;time-to-make;course;mai...</td>\n      <td>22</td>\n      <td>onion*celery*dried thyme*dried oregano*fresh p...</td>\n    </tr>\n    <tr>\n      <th>29999</th>\n      <td>cookies by design   cookies on a stick</td>\n      <td>298512</td>\n      <td>29</td>\n      <td>506822</td>\n      <td>2008-04-15</td>\n      <td>9</td>\n      <td>i've heard of the 'cookies by design' company,...</td>\n      <td>10.0</td>\n      <td>12</td>\n      <td>30-minutes-or-less;time-to-make;course;prepara...</td>\n      <td>10</td>\n      <td>butter*sour cream*egg*bisquick*light brown sug...</td>\n    </tr>\n  </tbody>\n</table>\n<p>30000 rows × 12 columns</p>\n</div>"
     },
     "execution_count": 246,
     "metadata": {},
     "output_type": "execute_result"
    }
   ],
   "source": [
    "recipes_tags_ingredients_df"
   ],
   "metadata": {
    "collapsed": false,
    "pycharm": {
     "name": "#%%\n"
    }
   }
  },
  {
   "cell_type": "code",
   "execution_count": 247,
   "outputs": [],
   "source": [
    "mask = recipes_tags_ingredients_df['n_ingredients'].isna()\n",
    "loc_left = (mask, 'n_ingredients')\n",
    "loc_right = (mask, 'n_ingredients_right')\n",
    "recipes_tags_ingredients_df.loc[loc_left] = recipes_tags_ingredients_df.loc[loc_right]\n",
    "recipes_tags_ingredients_df = recipes_tags_ingredients_df.drop(columns=['n_ingredients_right'])\n",
    "\n",
    "# меняем порядок колонок\n",
    "columns = recipes_tags_ingredients_df.columns\n",
    "order = [columns[1], columns[0], *columns[2:7], *columns[8:10], columns[7], columns[10]]\n",
    "recipes_tags_ingredients_df = recipes_tags_ingredients_df[order]"
   ],
   "metadata": {
    "collapsed": false,
    "pycharm": {
     "name": "#%%\n"
    }
   }
  },
  {
   "cell_type": "code",
   "execution_count": 248,
   "outputs": [
    {
     "data": {
      "text/plain": "           id                                          name  minutes  \\\n0       44123         george s at the cove  black bean soup       90   \n1       67664            healthy for them  yogurt popsicles       10   \n2       38798                  i can t believe it s spinach       30   \n3       35173                          italian  gut busters       45   \n4       84797      love is in the air  beef fondue   sauces       25   \n...       ...                                           ...      ...   \n29995  267661  zurie s holey rustic olive and cheddar bread       80   \n29996  386977          zwetschgenkuchen  bavarian plum cake      240   \n29997  103312   zwiebelkuchen   southwest german onion cake       75   \n29998  486161                                   zydeco soup       60   \n29999  298512        cookies by design   cookies on a stick       29   \n\n       contributor_id  submitted  n_steps  \\\n0               35193 2002-10-25       11   \n1               91970 2003-07-26        3   \n2                1533 2002-08-29        5   \n3               22724 2002-07-27        7   \n4                4470 2004-02-23        4   \n...               ...        ...      ...   \n29995          200862 2007-11-25       16   \n29996          177443 2009-08-24       22   \n29997          161745 2004-11-03       10   \n29998          227978 2012-08-29        7   \n29999          506822 2008-04-15        9   \n\n                                             description  n_tags  \\\n0      an original recipe created by chef scott meska...      25   \n1      my children and their friends ask for my homem...      31   \n2                these were so go, it surprised even me.      17   \n3      my sister-in-law made these for us at a family...      11   \n4      i think a fondue is a very romantic casual din...      19   \n...                                                  ...     ...   \n29995  this is based on a french recipe but i changed...      18   \n29996  this is a traditional fresh plum cake, thought...      19   \n29997  this is a traditional late summer early fall s...      20   \n29998  this is a delicious soup that i originally fou...      20   \n29999  i've heard of the 'cookies by design' company,...      12   \n\n                                                    tags  n_ingredients  \\\n0      weeknight;time-to-make;course;main-ingredient;...           18.0   \n1      15-minutes-or-less;time-to-make;course;prepara...            3.0   \n2      30-minutes-or-less;time-to-make;course;main-in...            8.0   \n3      60-minutes-or-less;time-to-make;course;prepara...            9.0   \n4      30-minutes-or-less;time-to-make;course;main-in...           12.0   \n...                                                  ...            ...   \n29995  time-to-make;course;main-ingredient;cuisine;pr...           10.0   \n29996  time-to-make;course;main-ingredient;cuisine;pr...           11.0   \n29997  time-to-make;course;main-ingredient;cuisine;pr...           13.0   \n29998  ham;60-minutes-or-less;time-to-make;course;mai...           22.0   \n29999  30-minutes-or-less;time-to-make;course;prepara...           10.0   \n\n                                             ingredients  \n0      unsalted butter*carrot*onion*celery*broccoli s...  \n1             milk*frozen juice concentrate*plain yogurt  \n2      onion*frozen chopped spinach*eggs*garlic powde...  \n3      sandwich bun*good seasonings italian salad dre...  \n4      beef steaks*vegetable oil*spicy mustard*fresh ...  \n...                                                  ...  \n29995  dry white wine*eggs*cheddar cheese*baking powd...  \n29996  unsalted butter*milk*flour*salt*vanilla*all-pu...  \n29997  onion*milk*eggs*butter*flour*salt*pepper*sugar...  \n29998  onion*celery*dried thyme*dried oregano*fresh p...  \n29999  butter*sour cream*egg*bisquick*light brown sug...  \n\n[30000 rows x 11 columns]",
      "text/html": "<div>\n<style scoped>\n    .dataframe tbody tr th:only-of-type {\n        vertical-align: middle;\n    }\n\n    .dataframe tbody tr th {\n        vertical-align: top;\n    }\n\n    .dataframe thead th {\n        text-align: right;\n    }\n</style>\n<table border=\"1\" class=\"dataframe\">\n  <thead>\n    <tr style=\"text-align: right;\">\n      <th></th>\n      <th>id</th>\n      <th>name</th>\n      <th>minutes</th>\n      <th>contributor_id</th>\n      <th>submitted</th>\n      <th>n_steps</th>\n      <th>description</th>\n      <th>n_tags</th>\n      <th>tags</th>\n      <th>n_ingredients</th>\n      <th>ingredients</th>\n    </tr>\n  </thead>\n  <tbody>\n    <tr>\n      <th>0</th>\n      <td>44123</td>\n      <td>george s at the cove  black bean soup</td>\n      <td>90</td>\n      <td>35193</td>\n      <td>2002-10-25</td>\n      <td>11</td>\n      <td>an original recipe created by chef scott meska...</td>\n      <td>25</td>\n      <td>weeknight;time-to-make;course;main-ingredient;...</td>\n      <td>18.0</td>\n      <td>unsalted butter*carrot*onion*celery*broccoli s...</td>\n    </tr>\n    <tr>\n      <th>1</th>\n      <td>67664</td>\n      <td>healthy for them  yogurt popsicles</td>\n      <td>10</td>\n      <td>91970</td>\n      <td>2003-07-26</td>\n      <td>3</td>\n      <td>my children and their friends ask for my homem...</td>\n      <td>31</td>\n      <td>15-minutes-or-less;time-to-make;course;prepara...</td>\n      <td>3.0</td>\n      <td>milk*frozen juice concentrate*plain yogurt</td>\n    </tr>\n    <tr>\n      <th>2</th>\n      <td>38798</td>\n      <td>i can t believe it s spinach</td>\n      <td>30</td>\n      <td>1533</td>\n      <td>2002-08-29</td>\n      <td>5</td>\n      <td>these were so go, it surprised even me.</td>\n      <td>17</td>\n      <td>30-minutes-or-less;time-to-make;course;main-in...</td>\n      <td>8.0</td>\n      <td>onion*frozen chopped spinach*eggs*garlic powde...</td>\n    </tr>\n    <tr>\n      <th>3</th>\n      <td>35173</td>\n      <td>italian  gut busters</td>\n      <td>45</td>\n      <td>22724</td>\n      <td>2002-07-27</td>\n      <td>7</td>\n      <td>my sister-in-law made these for us at a family...</td>\n      <td>11</td>\n      <td>60-minutes-or-less;time-to-make;course;prepara...</td>\n      <td>9.0</td>\n      <td>sandwich bun*good seasonings italian salad dre...</td>\n    </tr>\n    <tr>\n      <th>4</th>\n      <td>84797</td>\n      <td>love is in the air  beef fondue   sauces</td>\n      <td>25</td>\n      <td>4470</td>\n      <td>2004-02-23</td>\n      <td>4</td>\n      <td>i think a fondue is a very romantic casual din...</td>\n      <td>19</td>\n      <td>30-minutes-or-less;time-to-make;course;main-in...</td>\n      <td>12.0</td>\n      <td>beef steaks*vegetable oil*spicy mustard*fresh ...</td>\n    </tr>\n    <tr>\n      <th>...</th>\n      <td>...</td>\n      <td>...</td>\n      <td>...</td>\n      <td>...</td>\n      <td>...</td>\n      <td>...</td>\n      <td>...</td>\n      <td>...</td>\n      <td>...</td>\n      <td>...</td>\n      <td>...</td>\n    </tr>\n    <tr>\n      <th>29995</th>\n      <td>267661</td>\n      <td>zurie s holey rustic olive and cheddar bread</td>\n      <td>80</td>\n      <td>200862</td>\n      <td>2007-11-25</td>\n      <td>16</td>\n      <td>this is based on a french recipe but i changed...</td>\n      <td>18</td>\n      <td>time-to-make;course;main-ingredient;cuisine;pr...</td>\n      <td>10.0</td>\n      <td>dry white wine*eggs*cheddar cheese*baking powd...</td>\n    </tr>\n    <tr>\n      <th>29996</th>\n      <td>386977</td>\n      <td>zwetschgenkuchen  bavarian plum cake</td>\n      <td>240</td>\n      <td>177443</td>\n      <td>2009-08-24</td>\n      <td>22</td>\n      <td>this is a traditional fresh plum cake, thought...</td>\n      <td>19</td>\n      <td>time-to-make;course;main-ingredient;cuisine;pr...</td>\n      <td>11.0</td>\n      <td>unsalted butter*milk*flour*salt*vanilla*all-pu...</td>\n    </tr>\n    <tr>\n      <th>29997</th>\n      <td>103312</td>\n      <td>zwiebelkuchen   southwest german onion cake</td>\n      <td>75</td>\n      <td>161745</td>\n      <td>2004-11-03</td>\n      <td>10</td>\n      <td>this is a traditional late summer early fall s...</td>\n      <td>20</td>\n      <td>time-to-make;course;main-ingredient;cuisine;pr...</td>\n      <td>13.0</td>\n      <td>onion*milk*eggs*butter*flour*salt*pepper*sugar...</td>\n    </tr>\n    <tr>\n      <th>29998</th>\n      <td>486161</td>\n      <td>zydeco soup</td>\n      <td>60</td>\n      <td>227978</td>\n      <td>2012-08-29</td>\n      <td>7</td>\n      <td>this is a delicious soup that i originally fou...</td>\n      <td>20</td>\n      <td>ham;60-minutes-or-less;time-to-make;course;mai...</td>\n      <td>22.0</td>\n      <td>onion*celery*dried thyme*dried oregano*fresh p...</td>\n    </tr>\n    <tr>\n      <th>29999</th>\n      <td>298512</td>\n      <td>cookies by design   cookies on a stick</td>\n      <td>29</td>\n      <td>506822</td>\n      <td>2008-04-15</td>\n      <td>9</td>\n      <td>i've heard of the 'cookies by design' company,...</td>\n      <td>12</td>\n      <td>30-minutes-or-less;time-to-make;course;prepara...</td>\n      <td>10.0</td>\n      <td>butter*sour cream*egg*bisquick*light brown sug...</td>\n    </tr>\n  </tbody>\n</table>\n<p>30000 rows × 11 columns</p>\n</div>"
     },
     "execution_count": 248,
     "metadata": {},
     "output_type": "execute_result"
    }
   ],
   "source": [
    "recipes_tags_ingredients_df"
   ],
   "metadata": {
    "collapsed": false,
    "pycharm": {
     "name": "#%%\n"
    }
   }
  },
  {
   "cell_type": "markdown",
   "metadata": {},
   "source": [
    "1.5 Проверьте, содержит ли столбец `n_ingredients` пропуски. Если нет, преобразуйте его к целочисленному типу и сохраните результаты в файл `recipes_sample_with_tags_ingredients.csv`"
   ]
  },
  {
   "cell_type": "code",
   "execution_count": 249,
   "outputs": [],
   "source": [
    "if recipes_tags_ingredients_df['n_ingredients'].isna().sum() == 0:\n",
    "    recipes_tags_ingredients_df['n_ingredients'] = recipes_tags_ingredients_df['n_ingredients'].astype(int)\n",
    "    recipes_tags_ingredients_df.to_csv(\n",
    "        OUTPUT_DIR.joinpath('recipes_sample_with_tags_ingredients.csv'),\n",
    "        sep=',',\n",
    "        index=False\n",
    "    )"
   ],
   "metadata": {
    "collapsed": false,
    "pycharm": {
     "name": "#%%\n"
    }
   }
  },
  {
   "cell_type": "markdown",
   "metadata": {},
   "source": [
    "### npy"
   ]
  },
  {
   "cell_type": "markdown",
   "metadata": {},
   "source": [
    "2.1 Разделите таблицу, полученную в результате 1.5, на две таблицы: одна содержит рецепты, загруженные до 2000 года; вторая - все остальные. В полученных таблицах оставьте только числовые столбцы и преобразуйте их к `numpy.array`"
   ]
  },
  {
   "cell_type": "code",
   "execution_count": 250,
   "outputs": [],
   "source": [
    "mask = recipes_tags_ingredients_df['submitted'] < datetime.datetime(2000, 1, 1)\n",
    "\n",
    "numeric_df = recipes_tags_ingredients_df.select_dtypes(include=[int, float])\n",
    "\n",
    "before_2000_arr = numeric_df[mask].values\n",
    "after_2000_arr = numeric_df[~mask].values"
   ],
   "metadata": {
    "collapsed": false,
    "pycharm": {
     "name": "#%%\n"
    }
   }
  },
  {
   "cell_type": "code",
   "execution_count": 251,
   "outputs": [
    {
     "name": "stdout",
     "output_type": "stream",
     "text": [
      "(275, 6)\n"
     ]
    },
    {
     "data": {
      "text/plain": "array([[  3441,     30,   1562,      8,     10,      8],\n       [  4205,     25,   1617,      3,     14,      5],\n       [  3258,      0,   1534,      8,     20,      6],\n       ...,\n       [  3752,      0,   1535,     13,      9,      4],\n       [  4801,     20,   1598,      4,     18,      7],\n       [  2982,      0, 124030,      6,     13,      7]], dtype=int64)"
     },
     "execution_count": 251,
     "metadata": {},
     "output_type": "execute_result"
    }
   ],
   "source": [
    "print(before_2000_arr.shape)\n",
    "before_2000_arr"
   ],
   "metadata": {
    "collapsed": false,
    "pycharm": {
     "name": "#%%\n"
    }
   }
  },
  {
   "cell_type": "code",
   "execution_count": 252,
   "outputs": [
    {
     "name": "stdout",
     "output_type": "stream",
     "text": [
      "(29725, 6)\n"
     ]
    },
    {
     "data": {
      "text/plain": "array([[ 44123,     90,  35193,     11,     25,     18],\n       [ 67664,     10,  91970,      3,     31,      3],\n       [ 38798,     30,   1533,      5,     17,      8],\n       ...,\n       [103312,     75, 161745,     10,     20,     13],\n       [486161,     60, 227978,      7,     20,     22],\n       [298512,     29, 506822,      9,     12,     10]], dtype=int64)"
     },
     "execution_count": 252,
     "metadata": {},
     "output_type": "execute_result"
    }
   ],
   "source": [
    "print(after_2000_arr.shape)\n",
    "after_2000_arr"
   ],
   "metadata": {
    "collapsed": false,
    "pycharm": {
     "name": "#%%\n"
    }
   }
  },
  {
   "cell_type": "markdown",
   "metadata": {},
   "source": [
    "2.2. Сохраните 2 полученных массива в архив `npz`. Дайте массивам читаемые имена."
   ]
  },
  {
   "cell_type": "code",
   "execution_count": 253,
   "outputs": [],
   "source": [
    "np.savez(\n",
    "    OUTPUT_DIR.joinpath('numerics_arrays.npz'),\n",
    "    before_2000_arr=before_2000_arr,\n",
    "    after_2000_arr=after_2000_arr\n",
    ")"
   ],
   "metadata": {
    "collapsed": false,
    "pycharm": {
     "name": "#%%\n"
    }
   }
  },
  {
   "cell_type": "markdown",
   "metadata": {},
   "source": [
    "2.3 Считайте созданный архив и продемонстрируйте, что данные считались корректно. "
   ]
  },
  {
   "cell_type": "code",
   "execution_count": 254,
   "outputs": [
    {
     "name": "stdout",
     "output_type": "stream",
     "text": [
      "before_2000_arr: (275, 6)\n",
      "[[  3441     30   1562      8     10      8]\n",
      " [  4205     25   1617      3     14      5]\n",
      " [  3258      0   1534      8     20      6]\n",
      " ...\n",
      " [  3752      0   1535     13      9      4]\n",
      " [  4801     20   1598      4     18      7]\n",
      " [  2982      0 124030      6     13      7]] \n",
      "\n",
      "after_2000_arr: (29725, 6)\n",
      "[[ 44123     90  35193     11     25     18]\n",
      " [ 67664     10  91970      3     31      3]\n",
      " [ 38798     30   1533      5     17      8]\n",
      " ...\n",
      " [103312     75 161745     10     20     13]\n",
      " [486161     60 227978      7     20     22]\n",
      " [298512     29 506822      9     12     10]] \n",
      "\n"
     ]
    }
   ],
   "source": [
    "with np.load(OUTPUT_DIR.joinpath('numerics_arrays.npz')) as f:\n",
    "    for k in f.keys():\n",
    "        arr = f[k]\n",
    "        print(f'{k}: {arr.shape}')\n",
    "        print(arr, '\\n')"
   ],
   "metadata": {
    "collapsed": false,
    "pycharm": {
     "name": "#%%\n"
    }
   }
  },
  {
   "cell_type": "markdown",
   "metadata": {},
   "source": [
    "### hdf"
   ]
  },
  {
   "cell_type": "markdown",
   "metadata": {},
   "source": [
    "3.1 Выведите названия всех датасетов, находящихся в файле `nutrition_sample.h5`, а также размерность матриц, содержащихся в данных датасетах и их метаданные.\n",
    "\n",
    "Формат вывода:\n",
    "```\n",
    "Dataset name=dataset_0, dataset size=(30000,), metadata={'info': 'calories (#)'}\n",
    "Dataset name=dataset_1, dataset size=(30000,), metadata={'info': 'total fat (PDV)'}\n",
    "...\n",
    "```"
   ]
  },
  {
   "cell_type": "code",
   "execution_count": 255,
   "outputs": [
    {
     "name": "stdout",
     "output_type": "stream",
     "text": [
      "Dataset name='dataset_0', dataset size=(30000, 2), metadata={'col_0': 'recipe_id', 'col_1': 'calories (#)'}\n",
      "Dataset name='dataset_1', dataset size=(30000, 2), metadata={'col_0': 'recipe_id', 'col_1': 'total fat (PDV)'}\n",
      "Dataset name='dataset_2', dataset size=(30000, 2), metadata={'col_0': 'recipe_id', 'col_1': 'sugar (PDV)'}\n",
      "Dataset name='dataset_3', dataset size=(30000, 2), metadata={'col_0': 'recipe_id', 'col_1': 'sodium (PDV)'}\n",
      "Dataset name='dataset_4', dataset size=(30000, 2), metadata={'col_0': 'recipe_id', 'col_1': 'protein (PDV)'}\n",
      "Dataset name='dataset_5', dataset size=(30000, 2), metadata={'col_0': 'recipe_id', 'col_1': 'saturated fat (PDV)'}\n",
      "Dataset name='dataset_6', dataset size=(30000, 2), metadata={'col_0': 'recipe_id', 'col_1': 'carbohydrates (PDV)'}\n"
     ]
    }
   ],
   "source": [
    "dsets = {}\n",
    "with h5py.File(DATA_DIR.joinpath('nutrition_sample.h5')) as f:\n",
    "    for name in f.keys():\n",
    "        dset = f[name]\n",
    "        size = dset.shape\n",
    "        metadata = dict(dset.attrs)\n",
    "        print(f'Dataset {name=}, dataset {size=}, {metadata=}')\n",
    "        dsets[name] = {'data': dset[:], 'metadata': metadata}"
   ],
   "metadata": {
    "collapsed": false,
    "pycharm": {
     "name": "#%%\n"
    }
   }
  },
  {
   "cell_type": "markdown",
   "metadata": {},
   "source": [
    "3.2 Разбейте каждый из имеющихся датасетов на две части: 1 часть содержит только те строки, где PDV (Percent Daily Value) превышает 100%; 2 часть содержит те строки, где PDV не составляет не более 100%. Создайте 2 группы в файле и разместите в них соответствующие части датасета c сохранением метаданных исходных датасетов. Итого должно получиться 2 группы, содержащие несколько датасетов. Сохраните результаты в файл `nutrition_grouped.h5`"
   ]
  },
  {
   "cell_type": "code",
   "execution_count": 256,
   "outputs": [
    {
     "data": {
      "text/plain": "{'PDV_gt_100': [{'name': 'dataset_1',\n   'data': array([[4.41230e+04, 1.08000e+02],\n          [8.47970e+04, 1.54000e+02],\n          [5.06620e+04, 3.25000e+02],\n          ...,\n          [8.00670e+04, 1.29000e+02],\n          [7.14500e+04, 2.37000e+02],\n          [2.67661e+05, 2.42000e+02]]),\n   'metadata': {'col_0': 'recipe_id', 'col_1': 'total fat (PDV)'}},\n  {'name': 'dataset_2',\n   'data': array([[8.47970e+04, 3.23000e+02],\n          [4.53467e+05, 2.11000e+02],\n          [1.18843e+05, 1.63000e+03],\n          ...,\n          [7.14500e+04, 1.11800e+03],\n          [3.16950e+05, 2.84000e+02],\n          [3.86977e+05, 1.22000e+02]]),\n   'metadata': {'col_0': 'recipe_id', 'col_1': 'sugar (PDV)'}},\n  {'name': 'dataset_3',\n   'data': array([[1.18843e+05, 1.59000e+02],\n          [3.06590e+05, 1.46000e+02],\n          [1.34787e+05, 2.44400e+03],\n          ...,\n          [3.16950e+05, 1.94000e+02],\n          [4.64576e+05, 1.20000e+02],\n          [2.67661e+05, 2.09000e+02]]),\n   'metadata': {'col_0': 'recipe_id', 'col_1': 'sodium (PDV)'}},\n  {'name': 'dataset_4',\n   'data': array([[8.47970e+04, 1.82000e+02],\n          [1.18843e+05, 1.63000e+02],\n          [9.55340e+04, 1.35000e+02],\n          ...,\n          [1.12325e+05, 1.08000e+02],\n          [4.64576e+05, 1.06000e+02],\n          [2.67661e+05, 1.46000e+02]]),\n   'metadata': {'col_0': 'recipe_id', 'col_1': 'protein (PDV)'}},\n  {'name': 'dataset_5',\n   'data': array([[4.41230e+04, 2.14000e+02],\n          [3.51730e+04, 1.80000e+02],\n          [8.47970e+04, 1.93000e+02],\n          ...,\n          [7.14500e+04, 1.09000e+02],\n          [2.67661e+05, 2.17000e+02],\n          [1.03312e+05, 1.52000e+02]]),\n   'metadata': {'col_0': 'recipe_id', 'col_1': 'saturated fat (PDV)'}},\n  {'name': 'dataset_6',\n   'data': array([[1.18843e+05, 2.24000e+02],\n          [3.75376e+05, 1.47000e+02],\n          [3.32460e+04, 1.05000e+02],\n          ...,\n          [9.14070e+04, 1.62000e+02],\n          [8.00670e+04, 1.46000e+02],\n          [7.14500e+04, 1.52000e+02]]),\n   'metadata': {'col_0': 'recipe_id', 'col_1': 'carbohydrates (PDV)'}}],\n 'PDV_lte_100': [{'name': 'dataset_1',\n   'data': array([[6.76640e+04, 3.00000e+00],\n          [3.87980e+04, 5.00000e+00],\n          [3.51730e+04, 1.00000e+02],\n          ...,\n          [1.03312e+05, 8.70000e+01],\n          [4.86161e+05, 2.60000e+01],\n          [2.98512e+05, 1.10000e+01]]),\n   'metadata': {'col_0': 'recipe_id', 'col_1': 'total fat (PDV)'}},\n  {'name': 'dataset_2',\n   'data': array([[4.41230e+04, 2.60000e+01],\n          [6.76640e+04, 5.00000e+00],\n          [3.87980e+04, 2.00000e+00],\n          ...,\n          [1.03312e+05, 3.00000e+01],\n          [4.86161e+05, 3.40000e+01],\n          [2.98512e+05, 5.70000e+01]]),\n   'metadata': {'col_0': 'recipe_id', 'col_1': 'sugar (PDV)'}},\n  {'name': 'dataset_3',\n   'data': array([[4.41230e+04, 1.90000e+01],\n          [6.76640e+04, 1.00000e+00],\n          [3.87980e+04, 3.00000e+00],\n          ...,\n          [1.03312e+05, 1.80000e+01],\n          [4.86161e+05, 2.60000e+01],\n          [2.98512e+05, 1.10000e+01]]),\n   'metadata': {'col_0': 'recipe_id', 'col_1': 'sodium (PDV)'}},\n  {'name': 'dataset_4',\n   'data': array([[4.41230e+04, 2.80000e+01],\n          [6.76640e+04, 4.00000e+00],\n          [3.87980e+04, 3.00000e+00],\n          ...,\n          [1.03312e+05, 4.00000e+01],\n          [4.86161e+05, 4.40000e+01],\n          [2.98512e+05, 7.00000e+00]]),\n   'metadata': {'col_0': 'recipe_id', 'col_1': 'protein (PDV)'}},\n  {'name': 'dataset_5',\n   'data': array([[6.76640e+04, 6.00000e+00],\n          [3.87980e+04, 3.00000e+00],\n          [4.40450e+04, 1.00000e+01],\n          ...,\n          [3.86977e+05, 7.60000e+01],\n          [4.86161e+05, 2.10000e+01],\n          [2.98512e+05, 2.10000e+01]]),\n   'metadata': {'col_0': 'recipe_id', 'col_1': 'saturated fat (PDV)'}},\n  {'name': 'dataset_6',\n   'data': array([[4.41230e+04, 1.00000e+01],\n          [6.76640e+04, 1.10000e+01],\n          [3.87980e+04, 1.00000e+00],\n          ...,\n          [1.03312e+05, 2.30000e+01],\n          [4.86161e+05, 1.50000e+01],\n          [2.98512e+05, 9.00000e+00]]),\n   'metadata': {'col_0': 'recipe_id', 'col_1': 'carbohydrates (PDV)'}}]}"
     },
     "execution_count": 256,
     "metadata": {},
     "output_type": "execute_result"
    }
   ],
   "source": [
    "groups = [\n",
    "    {\n",
    "        'group': 'PDV_gt_100',\n",
    "        'mask': lambda x: getitem(x, (slice(x.shape[0]), 1)) > 100\n",
    "    },\n",
    "    {\n",
    "        'group': 'PDV_lte_100',\n",
    "        'mask': lambda x: getitem(x, (slice(x.shape[0]), 1)) <= 100\n",
    "    }\n",
    "]\n",
    "\n",
    "grouped_dsets = {}\n",
    "for group in groups:\n",
    "    group_name = group['group']\n",
    "    grouped_dsets[group_name] = []\n",
    "    for dset_name, dset in dsets.items():\n",
    "        metadata = dset['metadata']\n",
    "        if 'PDV' in metadata['col_1']:\n",
    "            data = dset['data']\n",
    "            data = data[group['mask'](data)]\n",
    "            grouped_dsets[group_name].append({'name': dset_name, 'data': data, 'metadata': metadata})\n",
    "\n",
    "grouped_dsets"
   ],
   "metadata": {
    "collapsed": false,
    "pycharm": {
     "name": "#%%\n"
    }
   }
  },
  {
   "cell_type": "code",
   "execution_count": 257,
   "outputs": [],
   "source": [
    "with h5py.File(OUTPUT_DIR.joinpath('nutrition_grouped.h5'), mode='w') as f:\n",
    "    for group, dsets in grouped_dsets.items():\n",
    "        group_h5 = f.create_group(group)\n",
    "        for dset in dsets:\n",
    "            dset_h5 = group_h5.create_dataset(dset['name'], data=dset['data'])\n",
    "            dset_h5.attrs.update(dset['metadata'])"
   ],
   "metadata": {
    "collapsed": false,
    "pycharm": {
     "name": "#%%\n"
    }
   }
  },
  {
   "cell_type": "markdown",
   "metadata": {},
   "source": [
    "3.3 Выведите названия всех групп и датасетов, находящихся в этих группах, из файла `nutrition_grouped.h5` а также размерность матриц, содержащихся в датасетах и их метаданные."
   ]
  },
  {
   "cell_type": "code",
   "execution_count": 258,
   "outputs": [
    {
     "name": "stdout",
     "output_type": "stream",
     "text": [
      "Group: PDV_gt_100\n",
      "- dataset name='dataset_1', dataset size=(1736, 2), metadata={'col_0': 'recipe_id', 'col_1': 'total fat (PDV)'}\n",
      "- dataset name='dataset_2', dataset size=(5316, 2), metadata={'col_0': 'recipe_id', 'col_1': 'sugar (PDV)'}\n",
      "- dataset name='dataset_3', dataset size=(1244, 2), metadata={'col_0': 'recipe_id', 'col_1': 'sodium (PDV)'}\n",
      "- dataset name='dataset_4', dataset size=(1776, 2), metadata={'col_0': 'recipe_id', 'col_1': 'protein (PDV)'}\n",
      "- dataset name='dataset_5', dataset size=(2858, 2), metadata={'col_0': 'recipe_id', 'col_1': 'saturated fat (PDV)'}\n",
      "- dataset name='dataset_6', dataset size=(642, 2), metadata={'col_0': 'recipe_id', 'col_1': 'carbohydrates (PDV)'}\n",
      "\n",
      "Group: PDV_lte_100\n",
      "- dataset name='dataset_1', dataset size=(28264, 2), metadata={'col_0': 'recipe_id', 'col_1': 'total fat (PDV)'}\n",
      "- dataset name='dataset_2', dataset size=(24684, 2), metadata={'col_0': 'recipe_id', 'col_1': 'sugar (PDV)'}\n",
      "- dataset name='dataset_3', dataset size=(28756, 2), metadata={'col_0': 'recipe_id', 'col_1': 'sodium (PDV)'}\n",
      "- dataset name='dataset_4', dataset size=(28224, 2), metadata={'col_0': 'recipe_id', 'col_1': 'protein (PDV)'}\n",
      "- dataset name='dataset_5', dataset size=(27142, 2), metadata={'col_0': 'recipe_id', 'col_1': 'saturated fat (PDV)'}\n",
      "- dataset name='dataset_6', dataset size=(29358, 2), metadata={'col_0': 'recipe_id', 'col_1': 'carbohydrates (PDV)'}\n",
      "\n"
     ]
    }
   ],
   "source": [
    "with h5py.File(OUTPUT_DIR.joinpath('nutrition_grouped.h5')) as f:\n",
    "    for group_name, group in f.items():\n",
    "        print(f'Group: {group_name}')\n",
    "        for name in group:\n",
    "            dset = group[name]\n",
    "            size = dset.shape\n",
    "            metadata = dict(dset.attrs)\n",
    "            print(f'- dataset {name=}, dataset {size=}, {metadata=}')\n",
    "        print('\\n', end='')"
   ],
   "metadata": {
    "collapsed": false,
    "pycharm": {
     "name": "#%%\n"
    }
   }
  },
  {
   "cell_type": "markdown",
   "metadata": {},
   "source": [
    "3.4 Модифицируйте код из 3.2 таким образом, чтобы сохранить датасеты, используя сжатие. Сравните размер полученного файла с размерами файла из 3.2. Прокомментируйте результат."
   ]
  },
  {
   "cell_type": "code",
   "execution_count": 259,
   "outputs": [],
   "source": [
    "with h5py.File(OUTPUT_DIR.joinpath('nutrition_grouped.gzip.h5'), mode='w') as f:\n",
    "    for group, dsets in grouped_dsets.items():\n",
    "        group_h5 = f.create_group(group)\n",
    "        for dset in dsets:\n",
    "            dset_h5 = group_h5.create_dataset(\n",
    "                dset['name'],\n",
    "                data=dset['data'],\n",
    "                compression='gzip',\n",
    "                compression_opts=8\n",
    "            )\n",
    "            dset_h5.attrs.update(dset['metadata'])"
   ],
   "metadata": {
    "collapsed": false,
    "pycharm": {
     "name": "#%%\n"
    }
   }
  }
 ],
 "metadata": {
  "kernelspec": {
   "display_name": "Python 3",
   "language": "python",
   "name": "python3"
  },
  "language_info": {
   "codemirror_mode": {
    "name": "ipython",
    "version": 3
   },
   "file_extension": ".py",
   "mimetype": "text/x-python",
   "name": "python",
   "nbconvert_exporter": "python",
   "pygments_lexer": "ipython3",
   "version": "3.8.5"
  }
 },
 "nbformat": 4,
 "nbformat_minor": 4
}