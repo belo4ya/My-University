{
 "cells": [
  {
   "cell_type": "markdown",
   "metadata": {},
   "source": [
    "# Лекция 7: Работа с Excel\n",
    "\n",
    "__Автор: Сергей Вячеславович Макрушин__ e-mail: SVMakrushin@fa.ru \n",
    "\n",
    "Финансовый универсиет, 2020 г. \n",
    "\n",
    "При подготовке лекции использованы материалы:\n",
    "* ... (документация)\n",
    "\n",
    "V 0.1 14.10.2020"
   ]
  },
  {
   "cell_type": "markdown",
   "metadata": {},
   "source": [
    "\n",
    "\n",
    "<center>         \n",
    "    <img src=\"./img/vs1.png\" alt=\"Настройка xlwings в Excel: шаг 2\" style=\"width: 1000px;\"/>\n",
    "    <b>Сравнение инструментов автоматизации труда</b>\n",
    "</center>"
   ]
  },
  {
   "cell_type": "markdown",
   "metadata": {},
   "source": [
    "# Excel, инструменты для работы с Excel в python"
   ]
  },
  {
   "cell_type": "markdown",
   "metadata": {},
   "source": [
    "Для чего используется Excel?\n",
    "* Интерфейс для ввода и редактирования структурированных данных\n",
    "* \"База данных\" - хранилище структурированной информации\n",
    "* Движок для проведения расчетов и моделирования\n",
    "* Презентация результатов в виде:\n",
    "    * табличных отчетов\n",
    "    * графических отчетов"
   ]
  },
  {
   "cell_type": "markdown",
   "metadata": {},
   "source": [
    "__Инструменты для чтения/записи в файлы Excel__:\n",
    "\n",
    "* Файл Excel формата \".xlsx\" по сути это zip-архив включающий множество XML файлов формата XML, отформатированные по спецификации Microsoft OOXML (Office Open XML, https://ru.wikipedia.org/wiki/Office_Open_XML).\n",
    "* По этой спецификации на любом языке программирования можно написать программу напрямую читающую или записывающую данные в файл `.xlsx`. \n",
    "* openpyxl работает с файлами Excel именно по такой схеме.\n",
    "\n",
    "\n",
    "* __openpyxl__ - The recommended package for reading and writing Excel 2010 files (ie: .xlsx)\n",
    "    * https://openpyxl.readthedocs.io/en/stable/\n",
    "* __xlsxwriter__ - An alternative package for writing data, formatting information and, in particular, charts in the Excel 2010 format (ie: .xlsx)\n",
    "* __pyxlsb__ - This package allows you to read Excel files in the xlsb format\n",
    "* __xlrd__ - This package is for reading data and formatting information from older Excel files (ie: .xls)\n",
    "* __xlwt__ - This package is for writing data and formatting information to older Excel files (ie: .xls)"
   ]
  },
  {
   "cell_type": "markdown",
   "metadata": {},
   "source": [
    "__Инструменты для взаимодействия с Excel__\n",
    "\n",
    "\n",
    "A Microsoft Excel application can be started and controlled by an external program through the Win32 COM API. The pywin32 package provides an interface between Win32 COM and Python. Through a python script with the right pywin32 commands you can fully control an Excel Application (open excel files, query data from cells, write data to cells, save excel files, etc.). The pywin32 commands that you can use mirror the Excel VBA commands, albeit with python syntax.\n",
    "\n",
    "xlwings is (among other things) a user-friendly wrapper around pywin32. It introduces several concise-yet-powerful methods. An example would be the methods for direct conversion of an excel cell range to a numpy array or pandas dataframe (and vice versa).\n",
    "\n",
    "__Summary:__ A fundamental difference between xlwings and openpyxl is that the former requires that MS Excel is installed on your machine, whereas the latter does not.\n",
    "\n",
    "\n",
    "* __xlwings__ - xlwings is an open-source library to automate Excel with Python instead of VBA and works on Windows and macOS: you can call Python from Excel and vice versa and write UDFs in Python (Windows only). xlwings PRO is a commercial add-on with additional functionality.\n",
    "* __PyXLL__ - PyXLL is a commercial product that enables writing Excel add-ins in Python with no VBA. Python functions can be exposed as worksheet functions (UDFs), macros, menus and ribbon tool bars."
   ]
  },
  {
   "cell_type": "markdown",
   "metadata": {},
   "source": [
    "Работа с xlsx из Pandas\n",
    "\n",
    "* https://pandas.pydata.org/pandas-docs/stable/reference/api/pandas.read_excel.html\n",
    "\n",
    "Основные параметры:\n",
    "* sheet_name: str, int, list, or None, default 0\n",
    "Strings are used for sheet names. Integers are used in zero-indexed sheet positions. Lists of strings/integers are used to request multiple sheets. Specify None to get all sheets. Available cases:\n",
    "    * Defaults to 0: 1st sheet as a DataFrame\n",
    "    * 1: 2nd sheet as a DataFrame\n",
    "    * \"Sheet1\": Load sheet with name “Sheet1”\n",
    "    * Пример: [0, 1, \"Sheet5\"]: Load first, second and sheet named “Sheet5” as a dict of DataFrame\n",
    "    * `None`: All sheets.\n",
    "\n",
    "* header: int, list of int, default 0\n",
    "Row (0-indexed) to use for the column labels of the parsed DataFrame. If a list of integers is passed those row positions will be combined into a MultiIndex. Use None if there is no header.\n",
    "\n",
    "* names: array-like, default None\n",
    "List of column names to use. If file contains no header row, then you should explicitly pass header=None.\n",
    "\n",
    "* index_col: int, list of int, default None\n",
    "Column (0-indexed) to use as the row labels of the DataFrame. Pass None if there is no such column. If a list is passed, those columns will be combined into a MultiIndex. If a subset of data is selected with usecols, index_col is based on the subset."
   ]
  },
  {
   "cell_type": "code",
   "execution_count": 2,
   "metadata": {},
   "outputs": [],
   "source": [
    "import pandas as pd"
   ]
  },
  {
   "cell_type": "code",
   "execution_count": 3,
   "metadata": {},
   "outputs": [
    {
     "data": {
      "text/html": [
       "<div>\n",
       "<style scoped>\n",
       "    .dataframe tbody tr th:only-of-type {\n",
       "        vertical-align: middle;\n",
       "    }\n",
       "\n",
       "    .dataframe tbody tr th {\n",
       "        vertical-align: top;\n",
       "    }\n",
       "\n",
       "    .dataframe thead th {\n",
       "        text-align: right;\n",
       "    }\n",
       "</style>\n",
       "<table border=\"1\" class=\"dataframe\">\n",
       "  <thead>\n",
       "    <tr style=\"text-align: right;\">\n",
       "      <th></th>\n",
       "      <th>Name</th>\n",
       "      <th>Team</th>\n",
       "      <th>Position</th>\n",
       "      <th>Height (ft)</th>\n",
       "      <th>Height(dm)</th>\n",
       "      <th>Height(cm)</th>\n",
       "      <th>Age</th>\n",
       "      <th>Number</th>\n",
       "      <th>Weight</th>\n",
       "      <th>Salary</th>\n",
       "      <th>College</th>\n",
       "    </tr>\n",
       "  </thead>\n",
       "  <tbody>\n",
       "    <tr>\n",
       "      <td>0</td>\n",
       "      <td>Avery Bradley</td>\n",
       "      <td>Boston Celtics</td>\n",
       "      <td>PG</td>\n",
       "      <td>6.0</td>\n",
       "      <td>2.0</td>\n",
       "      <td>187.96</td>\n",
       "      <td>25.0</td>\n",
       "      <td>0.0</td>\n",
       "      <td>180.0</td>\n",
       "      <td>7730337.0</td>\n",
       "      <td>Texas</td>\n",
       "    </tr>\n",
       "    <tr>\n",
       "      <td>1</td>\n",
       "      <td>Jae Crowder</td>\n",
       "      <td>Boston Celtics</td>\n",
       "      <td>SF</td>\n",
       "      <td>6.0</td>\n",
       "      <td>6.0</td>\n",
       "      <td>198.12</td>\n",
       "      <td>25.0</td>\n",
       "      <td>99.0</td>\n",
       "      <td>235.0</td>\n",
       "      <td>6796117.0</td>\n",
       "      <td>Marquette</td>\n",
       "    </tr>\n",
       "    <tr>\n",
       "      <td>2</td>\n",
       "      <td>John Holland</td>\n",
       "      <td>Boston Celtics</td>\n",
       "      <td>SG</td>\n",
       "      <td>6.0</td>\n",
       "      <td>5.0</td>\n",
       "      <td>195.58</td>\n",
       "      <td>27.0</td>\n",
       "      <td>30.0</td>\n",
       "      <td>205.0</td>\n",
       "      <td>NaN</td>\n",
       "      <td>Boston University</td>\n",
       "    </tr>\n",
       "    <tr>\n",
       "      <td>3</td>\n",
       "      <td>R.J. Hunter</td>\n",
       "      <td>Boston Celtics</td>\n",
       "      <td>SG</td>\n",
       "      <td>6.0</td>\n",
       "      <td>5.0</td>\n",
       "      <td>195.58</td>\n",
       "      <td>22.0</td>\n",
       "      <td>28.0</td>\n",
       "      <td>185.0</td>\n",
       "      <td>1148640.0</td>\n",
       "      <td>Georgia State</td>\n",
       "    </tr>\n",
       "    <tr>\n",
       "      <td>4</td>\n",
       "      <td>Jonas Jerebko</td>\n",
       "      <td>Boston Celtics</td>\n",
       "      <td>PF</td>\n",
       "      <td>6.0</td>\n",
       "      <td>10.0</td>\n",
       "      <td>208.28</td>\n",
       "      <td>29.0</td>\n",
       "      <td>8.0</td>\n",
       "      <td>231.0</td>\n",
       "      <td>5000000.0</td>\n",
       "      <td>NaN</td>\n",
       "    </tr>\n",
       "    <tr>\n",
       "      <td>...</td>\n",
       "      <td>...</td>\n",
       "      <td>...</td>\n",
       "      <td>...</td>\n",
       "      <td>...</td>\n",
       "      <td>...</td>\n",
       "      <td>...</td>\n",
       "      <td>...</td>\n",
       "      <td>...</td>\n",
       "      <td>...</td>\n",
       "      <td>...</td>\n",
       "      <td>...</td>\n",
       "    </tr>\n",
       "    <tr>\n",
       "      <td>453</td>\n",
       "      <td>Shelvin Mack</td>\n",
       "      <td>Utah Jazz</td>\n",
       "      <td>PG</td>\n",
       "      <td>6.0</td>\n",
       "      <td>3.0</td>\n",
       "      <td>190.50</td>\n",
       "      <td>26.0</td>\n",
       "      <td>8.0</td>\n",
       "      <td>203.0</td>\n",
       "      <td>2433333.0</td>\n",
       "      <td>Butler</td>\n",
       "    </tr>\n",
       "    <tr>\n",
       "      <td>454</td>\n",
       "      <td>Raul Neto</td>\n",
       "      <td>Utah Jazz</td>\n",
       "      <td>PG</td>\n",
       "      <td>6.0</td>\n",
       "      <td>1.0</td>\n",
       "      <td>185.42</td>\n",
       "      <td>24.0</td>\n",
       "      <td>25.0</td>\n",
       "      <td>179.0</td>\n",
       "      <td>900000.0</td>\n",
       "      <td>NaN</td>\n",
       "    </tr>\n",
       "    <tr>\n",
       "      <td>455</td>\n",
       "      <td>Tibor Pleiss</td>\n",
       "      <td>Utah Jazz</td>\n",
       "      <td>C</td>\n",
       "      <td>7.0</td>\n",
       "      <td>3.0</td>\n",
       "      <td>220.98</td>\n",
       "      <td>26.0</td>\n",
       "      <td>21.0</td>\n",
       "      <td>256.0</td>\n",
       "      <td>2900000.0</td>\n",
       "      <td>NaN</td>\n",
       "    </tr>\n",
       "    <tr>\n",
       "      <td>456</td>\n",
       "      <td>Jeff Withey</td>\n",
       "      <td>Utah Jazz</td>\n",
       "      <td>C</td>\n",
       "      <td>7.0</td>\n",
       "      <td>0.0</td>\n",
       "      <td>213.36</td>\n",
       "      <td>26.0</td>\n",
       "      <td>24.0</td>\n",
       "      <td>231.0</td>\n",
       "      <td>947276.0</td>\n",
       "      <td>Kansas</td>\n",
       "    </tr>\n",
       "    <tr>\n",
       "      <td>457</td>\n",
       "      <td>NaN</td>\n",
       "      <td>NaN</td>\n",
       "      <td>NaN</td>\n",
       "      <td>NaN</td>\n",
       "      <td>NaN</td>\n",
       "      <td>NaN</td>\n",
       "      <td>NaN</td>\n",
       "      <td>NaN</td>\n",
       "      <td>NaN</td>\n",
       "      <td>NaN</td>\n",
       "      <td>NaN</td>\n",
       "    </tr>\n",
       "  </tbody>\n",
       "</table>\n",
       "<p>458 rows × 11 columns</p>\n",
       "</div>"
      ],
      "text/plain": [
       "              Name            Team Position  Height (ft)  Height(dm)  \\\n",
       "0    Avery Bradley  Boston Celtics       PG          6.0         2.0   \n",
       "1      Jae Crowder  Boston Celtics       SF          6.0         6.0   \n",
       "2     John Holland  Boston Celtics       SG          6.0         5.0   \n",
       "3      R.J. Hunter  Boston Celtics       SG          6.0         5.0   \n",
       "4    Jonas Jerebko  Boston Celtics       PF          6.0        10.0   \n",
       "..             ...             ...      ...          ...         ...   \n",
       "453   Shelvin Mack       Utah Jazz       PG          6.0         3.0   \n",
       "454      Raul Neto       Utah Jazz       PG          6.0         1.0   \n",
       "455   Tibor Pleiss       Utah Jazz        C          7.0         3.0   \n",
       "456    Jeff Withey       Utah Jazz        C          7.0         0.0   \n",
       "457            NaN             NaN      NaN          NaN         NaN   \n",
       "\n",
       "     Height(cm)   Age  Number  Weight     Salary            College  \n",
       "0        187.96  25.0     0.0   180.0  7730337.0              Texas  \n",
       "1        198.12  25.0    99.0   235.0  6796117.0          Marquette  \n",
       "2        195.58  27.0    30.0   205.0        NaN  Boston University  \n",
       "3        195.58  22.0    28.0   185.0  1148640.0      Georgia State  \n",
       "4        208.28  29.0     8.0   231.0  5000000.0                NaN  \n",
       "..          ...   ...     ...     ...        ...                ...  \n",
       "453      190.50  26.0     8.0   203.0  2433333.0             Butler  \n",
       "454      185.42  24.0    25.0   179.0   900000.0                NaN  \n",
       "455      220.98  26.0    21.0   256.0  2900000.0                NaN  \n",
       "456      213.36  26.0    24.0   231.0   947276.0             Kansas  \n",
       "457         NaN   NaN     NaN     NaN        NaN                NaN  \n",
       "\n",
       "[458 rows x 11 columns]"
      ]
     },
     "execution_count": 3,
     "metadata": {},
     "output_type": "execute_result"
    }
   ],
   "source": [
    "nba = pd.read_excel('nba_xl.xlsx', index_col=0)\n",
    "nba"
   ]
  },
  {
   "cell_type": "code",
   "execution_count": 5,
   "metadata": {},
   "outputs": [],
   "source": [
    "nba.to_excel('nba_xl2.xlsx')"
   ]
  },
  {
   "cell_type": "markdown",
   "metadata": {},
   "source": [
    "# Работа c xlwings "
   ]
  },
  {
   "cell_type": "markdown",
   "metadata": {},
   "source": [
    "Возможности xlwings\n",
    "* https://www.xlwings.org\n",
    "* __INTERACTION / AUTOMATION__\n",
    "Leverage Python's scientific stack for interactive data analysis using Jupyter Notebooks, NumPy, Pandas, scikit-learn etc. Or use xlwings to automate Excel reports with Python (Windows & Mac).\n",
    "* __MACROS AND EXCEL TOOLS__\n",
    "Write Excel tools with Python instead of VBA and call your code directly from within Excel, e.g. via a button on the sheet. This also works great for prototyping web apps (Windows & Mac).\n",
    "* __USER DEFINED FUNCTIONS__\n",
    "Write (array) UDFs in a breeze by taking advantage of all the functionality already available in libraries like NumPy and Pandas. Since v0.10, dynamic array formulas are supported (Windows only).\n",
    "* __REST API__\n",
    "Expose your workbooks via REST API and access them from other computers in your corporate intranet or over the web. See the REST API docs."
   ]
  },
  {
   "cell_type": "markdown",
   "metadata": {},
   "source": [
    "## Установка и настройка xlwings"
   ]
  },
  {
   "cell_type": "markdown",
   "metadata": {},
   "source": [
    "* xlwings поставляется c Anaconda. Установка xlwings в остальных случаях:\n",
    "    * c помощью пакетного менеджера pip: `pip install xlwings`\n",
    "    * c помощью пакетного менеджера conda: `conda install xlwings`\n",
    "    * т.к. в релиз в conda может отстатвать на несколько версий от актуального релиза xlwings, можно воспользоваться conda-forge для получения более свежей версии: `conda install -c conda-forge xlwings`\n",
    "* Настройка Excel для работы с xlwings\n",
    "    * Для того, чтобы работать с Excel из python не нужно устанавливать add-in, он нужен только для того, чтобы работать с кодом на python из Excel.\n",
    "    * Also, you can use a single file VBA module instead of the add-in. \n",
    "\n",
    "* Для работы с xlwings в Excel нужно выполнить следующую настройку:\n",
    "1. Открыть панель надстроек: Файл → Параметры →Надстройки → Перейти… → Обзор…\n",
    "\n",
    "<center>         \n",
    "    <img src=\"./img/xlw1.png\" alt=\"Настройка xlwings в Excel: шаг 1\" style=\"width: 700px;\"/>\n",
    "    <b>Настройка xlwings в Excel: шаг 1</b>\n",
    "</center>\n",
    "\n",
    "2. Далее идем до нужного файла: Anaconda → Lib → site-packages → xlwings → addin \n",
    "\n",
    "<center>         \n",
    "    <img src=\"./img/xlw2.png\" alt=\"Настройка xlwings в Excel: шаг 2\" style=\"width: 700px;\"/>\n",
    "    <b>Настройка xlwings в Excel: шаг 2</b>\n",
    "</center>\n",
    "\n",
    "3. Открываем файл xlwings, нажимаем ОК.\n",
    "\n",
    "<center>         \n",
    "    <img src=\"./img/xlw3.png\" alt=\"Настройка xlwings в Excel: шаг 3\" style=\"width: 700px;\"/>\n",
    "    <b>Настройка xlwings в Excel: шаг 3</b>\n",
    "</center>\n",
    "\n",
    "4. В Exсel становится доступна лента \"xlwings\":\n",
    "\n",
    "<center>         \n",
    "    <img src=\"./img/xlw4.png\" alt=\"Настройка xlwings в Excel: шаг 4\" style=\"width: 700px;\"/>\n",
    "    <b>Лента \"xlwings\" в Excel</b>\n",
    "</center>\n",
    "\n",
    "* The ribbon of the add-in is compatible with Excel >= 2007 on Windows and >= 2016 on Mac. \n",
    "* On Mac, all UDF related functionality is not available.\n",
    "* Подробнее о параметрах настройки ленты xlwings: https://docs.xlwings.org/en/stable/addin.html#xlwings-addin"
   ]
  },
  {
   "cell_type": "code",
   "execution_count": null,
   "metadata": {},
   "outputs": [],
   "source": []
  },
  {
   "cell_type": "markdown",
   "metadata": {},
   "source": [
    "\n",
    "Таким образом, для работы с макросами в Excel на языке python пользователю нужно только скачать Анаконду и подключить нужную надстройку в Excel. Для загрузки надстройки нужно выполнить следующие действия:\n",
    "1.\tОткрыть панель надстроек: \n",
    "Файл → Параметры →Надстройки →Перейти… → Обзор…\n",
    "2.\t Далее идем до нужного файла:\n",
    "Anaconda → Lib → site-packages → xlwings → addin \n",
    "Открываем файл xlwings, нажимаем ОК.\n",
    "\n",
    "\n",
    "Для того, чтобы макросы работали надо также в сам файл загрузить модуль «xlwings.bus». Делается это через импортирование файла. Теперь в Excel можно будет работать через скрипты, написанные на языке Python. Но запускать эти скрипты надо через VBA. Делается это с помощью строки в новом модуле:\n",
    "RunPython \"import DimensionConverse\".\n",
    "Здесь после слова import пишется название файла с расширением «.py», в котором хранится код программы. При этом файл с кодом и файл-Excel должны находиться в одной директории.\n",
    "Таким образом мы можем создать инструмент, позволяющий быстро наполнить базу знаний, автоматизировав написание кода на языке OWL. При этом заполнять данные в файле Excel могут обычные пользователи, которым не обязательно знать сам язык OWL, а только правила по правильному заполнению Excel-файла. \n"
   ]
  },
  {
   "cell_type": "markdown",
   "metadata": {},
   "source": [
    "xlwings addin install"
   ]
  },
  {
   "cell_type": "markdown",
   "metadata": {},
   "source": []
  },
  {
   "cell_type": "markdown",
   "metadata": {},
   "source": [
    "## Работа с Excel из Python"
   ]
  },
  {
   "cell_type": "markdown",
   "metadata": {},
   "source": [
    "* Быстрый старт: https://docs.xlwings.org/en/stable/quickstart.html\n",
    "* Документация API: https://docs.xlwings.org/en/stable/api.html"
   ]
  },
  {
   "cell_type": "code",
   "execution_count": 343,
   "metadata": {},
   "outputs": [],
   "source": [
    "import xlwings as xw"
   ]
  },
  {
   "cell_type": "code",
   "execution_count": 344,
   "metadata": {},
   "outputs": [],
   "source": [
    "# wb = xw.Book()  # this will create a new workbook\n",
    "wb = xw.Book('тест1.xlsx')  # connect to an existing file in the current working directory\n",
    "# wb = xw.Book(r'C:\\path\\to\\file.xlsx')  # on Windows: use raw strings to escape backslashes"
   ]
  },
  {
   "cell_type": "code",
   "execution_count": 345,
   "metadata": {},
   "outputs": [],
   "source": [
    "# получаем лист книги Excel:\n",
    "sht = wb.sheets['Лист1']"
   ]
  },
  {
   "cell_type": "code",
   "execution_count": 346,
   "metadata": {},
   "outputs": [],
   "source": [
    "# изменяем значение в области:\n",
    "sht.range('A1').value = 'Значение 1'"
   ]
  },
  {
   "cell_type": "code",
   "execution_count": 347,
   "metadata": {},
   "outputs": [
    {
     "data": {
      "text/plain": [
       "'Значение 1'"
      ]
     },
     "execution_count": 347,
     "metadata": {},
     "output_type": "execute_result"
    }
   ],
   "source": [
    "# читаем значение из области:\n",
    "sht.range('A1').value"
   ]
  },
  {
   "cell_type": "markdown",
   "metadata": {},
   "source": [
    "xlwings поддерживает работу со следующими типами значений ячеек: `float`, `str`, `None` и `datetime`"
   ]
  },
  {
   "cell_type": "code",
   "execution_count": 348,
   "metadata": {},
   "outputs": [
    {
     "name": "stdout",
     "output_type": "stream",
     "text": [
      "None\n"
     ]
    }
   ],
   "source": [
    "v2 = sht.range('A2').value\n",
    "print(v2) # пустая ячейка"
   ]
  },
  {
   "cell_type": "code",
   "execution_count": 349,
   "metadata": {},
   "outputs": [],
   "source": [
    "sht.range('A2').value = 42"
   ]
  },
  {
   "cell_type": "code",
   "execution_count": 350,
   "metadata": {},
   "outputs": [
    {
     "data": {
      "text/plain": [
       "(42.0, float)"
      ]
     },
     "execution_count": 350,
     "metadata": {},
     "output_type": "execute_result"
    }
   ],
   "source": [
    "v3 = sht.range('A2').value\n",
    "v3, type(v3) # тип всех числовых значений float!"
   ]
  },
  {
   "cell_type": "code",
   "execution_count": 351,
   "metadata": {},
   "outputs": [],
   "source": [
    "import datetime as dt"
   ]
  },
  {
   "cell_type": "code",
   "execution_count": 352,
   "metadata": {},
   "outputs": [],
   "source": [
    "sht.range('A3').value = dt.datetime(2020, 1, 1)"
   ]
  },
  {
   "cell_type": "code",
   "execution_count": 353,
   "metadata": {},
   "outputs": [
    {
     "data": {
      "text/plain": [
       "(datetime.datetime(2020, 1, 1, 0, 0), datetime.datetime)"
      ]
     },
     "execution_count": 353,
     "metadata": {},
     "output_type": "execute_result"
    }
   ],
   "source": [
    "v4 = sht.range('A3').value\n",
    "v4, type(v4)"
   ]
  },
  {
   "cell_type": "markdown",
   "metadata": {},
   "source": [
    "### Работа с протяженными диапазонами в xlwings"
   ]
  },
  {
   "cell_type": "code",
   "execution_count": 354,
   "metadata": {},
   "outputs": [],
   "source": [
    "# работа с диапазоном значений начинающимся в определенной ячейке\n",
    "# вложенные списки используются для работы с двухмерной структурой листа\n",
    "sht.range('C2').value = [['Значение 1', 'Значение 2', 'Значение 3'], \n",
    "                         [10.0, 20.0, 30.0]]"
   ]
  },
  {
   "cell_type": "code",
   "execution_count": 355,
   "metadata": {},
   "outputs": [
    {
     "data": {
      "text/plain": [
       "'Значение 1'"
      ]
     },
     "execution_count": 355,
     "metadata": {},
     "output_type": "execute_result"
    }
   ],
   "source": [
    "sht.range('C2').value"
   ]
  },
  {
   "cell_type": "code",
   "execution_count": 356,
   "metadata": {},
   "outputs": [
    {
     "data": {
      "text/plain": [
       "[['Значение 1', 'Значение 2', 'Значение 3'], [10.0, 20.0, 30.0]]"
      ]
     },
     "execution_count": 356,
     "metadata": {},
     "output_type": "execute_result"
    }
   ],
   "source": [
    "# expand() позволяет расширить дтапазон до границ заполненной области:\n",
    "rng1 = sht.range('C2').expand() # или: expand('table') , или: .options(expand='table'); другие варианты: 'down', 'right'\n",
    "rng1.value"
   ]
  },
  {
   "cell_type": "code",
   "execution_count": 357,
   "metadata": {},
   "outputs": [
    {
     "data": {
      "text/plain": [
       "['Значение 1', 'Значение 2', 'Значение 3']"
      ]
     },
     "execution_count": 357,
     "metadata": {},
     "output_type": "execute_result"
    }
   ],
   "source": [
    "# работа со строкой, начинающейся с C2\n",
    "sht.range('C2').expand('right').value"
   ]
  },
  {
   "cell_type": "code",
   "execution_count": 358,
   "metadata": {},
   "outputs": [
    {
     "data": {
      "text/plain": [
       "['Значение 1', 'Значение 2']"
      ]
     },
     "execution_count": 358,
     "metadata": {},
     "output_type": "execute_result"
    }
   ],
   "source": [
    "# использование явно определенного диапазона:\n",
    "sht.range('C2:D2').value"
   ]
  },
  {
   "cell_type": "code",
   "execution_count": 359,
   "metadata": {},
   "outputs": [
    {
     "data": {
      "text/plain": [
       "['Значение 1', 10.0]"
      ]
     },
     "execution_count": 359,
     "metadata": {},
     "output_type": "execute_result"
    }
   ],
   "source": [
    "# одномерная строка или столбец представляются в виде одномерного списка:\n",
    "sht.range('C2:C3').value"
   ]
  },
  {
   "cell_type": "code",
   "execution_count": 360,
   "metadata": {},
   "outputs": [],
   "source": [
    "# задание строки значений:\n",
    "sht.range('G1').value = [1, 2, 3, 4, 5]"
   ]
  },
  {
   "cell_type": "code",
   "execution_count": 361,
   "metadata": {},
   "outputs": [],
   "source": [
    "# для работы со столбцом вместо строки можно использовать options(transpose=True):\n",
    "sht.range('G1').options(transpose=True).value = [1, 3, 5, 7, 9]"
   ]
  },
  {
   "cell_type": "code",
   "execution_count": 362,
   "metadata": {},
   "outputs": [
    {
     "data": {
      "text/plain": [
       "[1.0]"
      ]
     },
     "execution_count": 362,
     "metadata": {},
     "output_type": "execute_result"
    }
   ],
   "source": [
    "# для работы с единственным значением, как со списком, можно использовать:\n",
    "sht.range('G1').options(ndim=1).value"
   ]
  },
  {
   "cell_type": "code",
   "execution_count": 363,
   "metadata": {},
   "outputs": [
    {
     "data": {
      "text/plain": [
       "1.0"
      ]
     },
     "execution_count": 363,
     "metadata": {},
     "output_type": "execute_result"
    }
   ],
   "source": [
    "# результат без options(ndim=1):\n",
    "sht.range('G1').value"
   ]
  },
  {
   "cell_type": "code",
   "execution_count": 364,
   "metadata": {},
   "outputs": [
    {
     "data": {
      "text/plain": [
       "[[1.0]]"
      ]
     },
     "execution_count": 364,
     "metadata": {},
     "output_type": "execute_result"
    }
   ],
   "source": [
    "# если препочтительно работать с двухмерной структурой, то:\n",
    "sht.range('G1').options(ndim=2).value"
   ]
  },
  {
   "cell_type": "code",
   "execution_count": 365,
   "metadata": {},
   "outputs": [
    {
     "data": {
      "text/plain": [
       "[[1.0], [3.0], [5.0], [7.0], [9.0]]"
      ]
     },
     "execution_count": 365,
     "metadata": {},
     "output_type": "execute_result"
    }
   ],
   "source": [
    "sht.range('G1:G5').options(ndim=2).value"
   ]
  },
  {
   "cell_type": "code",
   "execution_count": 366,
   "metadata": {},
   "outputs": [
    {
     "data": {
      "text/plain": [
       "[[1.0, 2.0, 3.0, 4.0, 5.0]]"
      ]
     },
     "execution_count": 366,
     "metadata": {},
     "output_type": "execute_result"
    }
   ],
   "source": [
    "sht.range('G1:K1').options(ndim=2).value"
   ]
  },
  {
   "cell_type": "code",
   "execution_count": 367,
   "metadata": {},
   "outputs": [
    {
     "data": {
      "text/plain": [
       "[[1.0, 2.0, 3.0, 4.0, 5.0],\n",
       " [3.0, None, None, None, None],\n",
       " [5.0, None, None, None, None],\n",
       " [7.0, None, None, None, None],\n",
       " [9.0, None, None, None, None]]"
      ]
     },
     "execution_count": 367,
     "metadata": {},
     "output_type": "execute_result"
    }
   ],
   "source": [
    "sht.range('G1:K5').value"
   ]
  },
  {
   "cell_type": "markdown",
   "metadata": {},
   "source": [
    "Для повышение производительности кода рекомендуется уменьшать количество вызывов функций, взаимодействующих с Excel. В частностИ, присваивать и получать сразу весь диапазон, а не собирать его поэлементно или по частям."
   ]
  },
  {
   "cell_type": "markdown",
   "metadata": {},
   "source": [
    "__Именованные диапазаоны в Excel__\n",
    "\n",
    "Именованные диапазоны являются одним из инструментов, упрощающим организацию данных и работу с формулами в Exel. При использовании именованных диапазонов ссылку на диапазон однородных данных не нужно будет записывать в виде адресов границ диапазона, а в виде говорящего имени. Именованные диапазоны позволяют:\n",
    "* изменять размер и расположение областей не изменяя код работающих с ними скриптов\n",
    "* упрощают разработку моделей и скриптов за счет документирования на уровне имен: вместо безимянных областей используются говорящие имена.\n",
    "\n",
    "Работа с именованными диапазонами в Excel:\n",
    "* Создание именованных диапазонов в Excel (базовый вариант)\n",
    "* Работа с именованными диапазонами (Формулы -> Диспетчер имен )\n",
    "* Обнаружение именнованных диапазонов (зум листа)"
   ]
  },
  {
   "cell_type": "code",
   "execution_count": 368,
   "metadata": {},
   "outputs": [],
   "source": [
    "wb2 = xw.Book('тест2.xlsx')\n",
    "sht_recipe = wb2.sheets['Рецептура']"
   ]
  },
  {
   "cell_type": "code",
   "execution_count": 369,
   "metadata": {},
   "outputs": [
    {
     "data": {
      "text/plain": [
       "[[1.0,\n",
       "  'Хлеб Венгерский',\n",
       "  0.4,\n",
       "  35.0,\n",
       "  50.0,\n",
       "  0.2,\n",
       "  0.4,\n",
       "  0.02,\n",
       "  0.02,\n",
       "  0.01,\n",
       "  0.005,\n",
       "  0.1,\n",
       "  None,\n",
       "  None,\n",
       "  None,\n",
       "  None,\n",
       "  None,\n",
       "  0.3],\n",
       " [2.0,\n",
       "  'Хлеб \"Барбари\"',\n",
       "  0.25,\n",
       "  28.0,\n",
       "  40.0,\n",
       "  0.07,\n",
       "  0.25,\n",
       "  0.01,\n",
       "  0.06,\n",
       "  0.015,\n",
       "  None,\n",
       "  0.06,\n",
       "  0.05,\n",
       "  None,\n",
       "  None,\n",
       "  None,\n",
       "  None,\n",
       "  0.2],\n",
       " [3.0,\n",
       "  'Багет парижский',\n",
       "  0.25,\n",
       "  35.0,\n",
       "  50.0,\n",
       "  0.12,\n",
       "  0.22,\n",
       "  0.005,\n",
       "  None,\n",
       "  0.009,\n",
       "  0.005,\n",
       "  None,\n",
       "  0.05,\n",
       "  0.03,\n",
       "  None,\n",
       "  None,\n",
       "  None,\n",
       "  0.3],\n",
       " [4.0,\n",
       "  'Чиабатта',\n",
       "  0.25,\n",
       "  35.0,\n",
       "  50.0,\n",
       "  0.12,\n",
       "  0.23,\n",
       "  0.01,\n",
       "  None,\n",
       "  0.015,\n",
       "  None,\n",
       "  None,\n",
       "  None,\n",
       "  0.05,\n",
       "  None,\n",
       "  None,\n",
       "  None,\n",
       "  0.2],\n",
       " [5.0,\n",
       "  None,\n",
       "  None,\n",
       "  None,\n",
       "  None,\n",
       "  None,\n",
       "  None,\n",
       "  None,\n",
       "  None,\n",
       "  None,\n",
       "  None,\n",
       "  None,\n",
       "  None,\n",
       "  None,\n",
       "  None,\n",
       "  None,\n",
       "  None,\n",
       "  None],\n",
       " [6.0,\n",
       "  None,\n",
       "  None,\n",
       "  None,\n",
       "  None,\n",
       "  None,\n",
       "  None,\n",
       "  None,\n",
       "  None,\n",
       "  None,\n",
       "  None,\n",
       "  None,\n",
       "  None,\n",
       "  None,\n",
       "  None,\n",
       "  None,\n",
       "  None,\n",
       "  None],\n",
       " [7.0,\n",
       "  None,\n",
       "  None,\n",
       "  None,\n",
       "  None,\n",
       "  None,\n",
       "  None,\n",
       "  None,\n",
       "  None,\n",
       "  None,\n",
       "  None,\n",
       "  None,\n",
       "  None,\n",
       "  None,\n",
       "  None,\n",
       "  None,\n",
       "  None,\n",
       "  None]]"
      ]
     },
     "execution_count": 369,
     "metadata": {},
     "output_type": "execute_result"
    }
   ],
   "source": [
    "recipe1 = sht_recipe.range('рцп_пшеничный_хлеб').value\n",
    "recipe1[3:-4]"
   ]
  },
  {
   "cell_type": "markdown",
   "metadata": {},
   "source": [
    "### Работа с  листами"
   ]
  },
  {
   "cell_type": "code",
   "execution_count": 370,
   "metadata": {},
   "outputs": [
    {
     "data": {
      "text/plain": [
       "Sheets([<Sheet [тест1.xlsx]Лист1>])"
      ]
     },
     "execution_count": 370,
     "metadata": {},
     "output_type": "execute_result"
    }
   ],
   "source": [
    "wb.sheets"
   ]
  },
  {
   "cell_type": "code",
   "execution_count": 371,
   "metadata": {},
   "outputs": [
    {
     "data": {
      "text/plain": [
       "'Лист1'"
      ]
     },
     "execution_count": 371,
     "metadata": {},
     "output_type": "execute_result"
    }
   ],
   "source": [
    "wb.sheets[0].name"
   ]
  },
  {
   "cell_type": "code",
   "execution_count": 372,
   "metadata": {},
   "outputs": [],
   "source": [
    "sht_arr = wb.sheets.add(name=\"массивы\", after=wb.sheets[0].name)"
   ]
  },
  {
   "cell_type": "code",
   "execution_count": 373,
   "metadata": {},
   "outputs": [
    {
     "data": {
      "text/plain": [
       "<Sheet [тест1.xlsx]массивы>"
      ]
     },
     "execution_count": 373,
     "metadata": {},
     "output_type": "execute_result"
    }
   ],
   "source": [
    "sht_arr"
   ]
  },
  {
   "cell_type": "markdown",
   "metadata": {},
   "source": [
    "Альтернативные способы обратится к данному листу:"
   ]
  },
  {
   "cell_type": "code",
   "execution_count": 374,
   "metadata": {},
   "outputs": [
    {
     "data": {
      "text/plain": [
       "<Sheet [тест1.xlsx]массивы>"
      ]
     },
     "execution_count": 374,
     "metadata": {},
     "output_type": "execute_result"
    }
   ],
   "source": [
    "# по индексу листа:\n",
    "wb.sheets[1]"
   ]
  },
  {
   "cell_type": "code",
   "execution_count": 375,
   "metadata": {},
   "outputs": [
    {
     "data": {
      "text/plain": [
       "<Sheet [тест1.xlsx]Лист1>"
      ]
     },
     "execution_count": 375,
     "metadata": {},
     "output_type": "execute_result"
    }
   ],
   "source": [
    "# по имени листа:\n",
    "wb.sheets['Лист1']"
   ]
  },
  {
   "cell_type": "code",
   "execution_count": 376,
   "metadata": {},
   "outputs": [
    {
     "data": {
      "text/plain": [
       "<Sheet [тест1.xlsx]массивы>"
      ]
     },
     "execution_count": 376,
     "metadata": {},
     "output_type": "execute_result"
    }
   ],
   "source": [
    "# как к активному листу:\n",
    "wb.sheets.active"
   ]
  },
  {
   "cell_type": "markdown",
   "metadata": {},
   "source": [
    "* add() делает новый лист активным\n",
    "* функция active() позволяет изменить текущий активный объект"
   ]
  },
  {
   "cell_type": "markdown",
   "metadata": {},
   "source": [
    "### Работа с  Pandas и NumPy в xlwings"
   ]
  },
  {
   "cell_type": "code",
   "execution_count": 377,
   "metadata": {},
   "outputs": [],
   "source": [
    "import numpy as np\n",
    "import pandas as pd"
   ]
  },
  {
   "cell_type": "code",
   "execution_count": 378,
   "metadata": {},
   "outputs": [],
   "source": [
    "# запись двухмерного массива numpy в диапазон excel:\n",
    "sht_arr.range('A1').value = np.eye(3)"
   ]
  },
  {
   "cell_type": "markdown",
   "metadata": {},
   "source": [
    "Для записи массива NumPy и dataframe достаточно указать только верхнюю левую ячейку таблицы."
   ]
  },
  {
   "cell_type": "code",
   "execution_count": 379,
   "metadata": {},
   "outputs": [
    {
     "data": {
      "text/plain": [
       "array([[1., 0., 0.],\n",
       "       [0., 1., 0.],\n",
       "       [0., 0., 1.]])"
      ]
     },
     "execution_count": 379,
     "metadata": {},
     "output_type": "execute_result"
    }
   ],
   "source": [
    "# представление диапазона excel в виде массива numpy:\n",
    "sht_arr.range('A1').options(np.array, expand='table').value"
   ]
  },
  {
   "cell_type": "markdown",
   "metadata": {},
   "source": [
    "Функция `options()` позволяет задать преобразование для диапазона. Преобразования определяют как диапазон ячеек Excel будет преобразован к значениям во время операций чтения и записи. Если не задвать конвертер, то будет использован конвертер по умолчанию.\n",
    "\n",
    "Сигнатура: `options(convert=None, **options)`\n",
    "\n",
    "Parameters:\t\n",
    "* __convert__ (object, default None) – A converter, e.g. `dict`, `np.array`, `pd.DataFrame`, `pd.Series`, defaults to default converter\n",
    "\n",
    "Keyword Arguments:\n",
    "* ndim (int, default None) – number of dimensions\n",
    "* numbers (type, default None) – type of numbers, e.g. `int`\n",
    "* dates (type, default None) – e.g. `datetime.date` defaults to `datetime.datetime`\n",
    "* empty (object, default None) – transformation of empty cells\n",
    "* transpose (Boolean, default False) – transpose values\n",
    "* expand (str, default None) – One of 'table', 'down', 'right'\n",
    "\n",
    "For converter-specific options, see Converters and Options: https://docs.xlwings.org/en/stable/converters.html#converters\n",
    "\n",
    "Returns: Range object"
   ]
  },
  {
   "cell_type": "code",
   "execution_count": 380,
   "metadata": {},
   "outputs": [
    {
     "data": {
      "text/html": [
       "<div>\n",
       "<style scoped>\n",
       "    .dataframe tbody tr th:only-of-type {\n",
       "        vertical-align: middle;\n",
       "    }\n",
       "\n",
       "    .dataframe tbody tr th {\n",
       "        vertical-align: top;\n",
       "    }\n",
       "\n",
       "    .dataframe thead th {\n",
       "        text-align: right;\n",
       "    }\n",
       "</style>\n",
       "<table border=\"1\" class=\"dataframe\">\n",
       "  <thead>\n",
       "    <tr style=\"text-align: right;\">\n",
       "      <th></th>\n",
       "      <th>one</th>\n",
       "      <th>two</th>\n",
       "    </tr>\n",
       "  </thead>\n",
       "  <tbody>\n",
       "    <tr>\n",
       "      <th>0</th>\n",
       "      <td>1.1</td>\n",
       "      <td>2.2</td>\n",
       "    </tr>\n",
       "    <tr>\n",
       "      <th>1</th>\n",
       "      <td>3.3</td>\n",
       "      <td>NaN</td>\n",
       "    </tr>\n",
       "  </tbody>\n",
       "</table>\n",
       "</div>"
      ],
      "text/plain": [
       "   one  two\n",
       "0  1.1  2.2\n",
       "1  3.3  NaN"
      ]
     },
     "execution_count": 380,
     "metadata": {},
     "output_type": "execute_result"
    }
   ],
   "source": [
    "df1 = pd.DataFrame([[1.1, 2.2], [3.3, None]], columns=['one', 'two'])\n",
    "df1"
   ]
  },
  {
   "cell_type": "code",
   "execution_count": 381,
   "metadata": {},
   "outputs": [],
   "source": [
    "sht_arr.range('A10').value = df1"
   ]
  },
  {
   "cell_type": "code",
   "execution_count": 382,
   "metadata": {},
   "outputs": [
    {
     "data": {
      "text/html": [
       "<div>\n",
       "<style scoped>\n",
       "    .dataframe tbody tr th:only-of-type {\n",
       "        vertical-align: middle;\n",
       "    }\n",
       "\n",
       "    .dataframe tbody tr th {\n",
       "        vertical-align: top;\n",
       "    }\n",
       "\n",
       "    .dataframe thead th {\n",
       "        text-align: right;\n",
       "    }\n",
       "</style>\n",
       "<table border=\"1\" class=\"dataframe\">\n",
       "  <thead>\n",
       "    <tr style=\"text-align: right;\">\n",
       "      <th></th>\n",
       "      <th>one</th>\n",
       "      <th>two</th>\n",
       "    </tr>\n",
       "  </thead>\n",
       "  <tbody>\n",
       "    <tr>\n",
       "      <th>0.0</th>\n",
       "      <td>1.1</td>\n",
       "      <td>2.2</td>\n",
       "    </tr>\n",
       "    <tr>\n",
       "      <th>1.0</th>\n",
       "      <td>3.3</td>\n",
       "      <td>NaN</td>\n",
       "    </tr>\n",
       "  </tbody>\n",
       "</table>\n",
       "</div>"
      ],
      "text/plain": [
       "     one  two\n",
       "0.0  1.1  2.2\n",
       "1.0  3.3  NaN"
      ]
     },
     "execution_count": 382,
     "metadata": {},
     "output_type": "execute_result"
    }
   ],
   "source": [
    "sht_arr.range('A10:C12').options(pd.DataFrame).value"
   ]
  },
  {
   "cell_type": "code",
   "execution_count": 383,
   "metadata": {
    "scrolled": true
   },
   "outputs": [
    {
     "data": {
      "text/html": [
       "<div>\n",
       "<style scoped>\n",
       "    .dataframe tbody tr th:only-of-type {\n",
       "        vertical-align: middle;\n",
       "    }\n",
       "\n",
       "    .dataframe tbody tr th {\n",
       "        vertical-align: top;\n",
       "    }\n",
       "\n",
       "    .dataframe thead th {\n",
       "        text-align: right;\n",
       "    }\n",
       "</style>\n",
       "<table border=\"1\" class=\"dataframe\">\n",
       "  <thead>\n",
       "    <tr style=\"text-align: right;\">\n",
       "      <th></th>\n",
       "      <th>one</th>\n",
       "      <th>two</th>\n",
       "    </tr>\n",
       "  </thead>\n",
       "  <tbody>\n",
       "    <tr>\n",
       "      <th>0.0</th>\n",
       "      <td>1.1</td>\n",
       "      <td>2.2</td>\n",
       "    </tr>\n",
       "    <tr>\n",
       "      <th>1.0</th>\n",
       "      <td>3.3</td>\n",
       "      <td>NaN</td>\n",
       "    </tr>\n",
       "  </tbody>\n",
       "</table>\n",
       "</div>"
      ],
      "text/plain": [
       "     one  two\n",
       "0.0  1.1  2.2\n",
       "1.0  3.3  NaN"
      ]
     },
     "execution_count": 383,
     "metadata": {},
     "output_type": "execute_result"
    }
   ],
   "source": [
    "sht_arr.range('A10').options(pd.DataFrame, expand='table').value"
   ]
  },
  {
   "cell_type": "code",
   "execution_count": 384,
   "metadata": {},
   "outputs": [],
   "source": [
    "# запись dataframe без индексов\n",
    "sht_arr.range('A20').options(index=False).value = df1"
   ]
  },
  {
   "cell_type": "code",
   "execution_count": 385,
   "metadata": {},
   "outputs": [],
   "source": [
    "# запись dataframe без индексов и заголовков:\n",
    "sht_arr.range('A30').options(index=False, header=False).value = df1"
   ]
  },
  {
   "cell_type": "markdown",
   "metadata": {},
   "source": [
    "### Продвинутые опции работы с Range"
   ]
  },
  {
   "cell_type": "markdown",
   "metadata": {},
   "source": [
    "Документация: https://docs.xlwings.org/en/stable/api.html#range"
   ]
  },
  {
   "cell_type": "markdown",
   "metadata": {},
   "source": [
    "Манипулирование дополнительными атрибутами диапазонов (ячеек):\n",
    "* цветом диапазонов (ячеек)\n",
    "* размер и форматирование диапазонов (ячеек) \n",
    "* формулами\n",
    "* добавление и удаление диапазонов (ячеек)"
   ]
  },
  {
   "cell_type": "code",
   "execution_count": 386,
   "metadata": {},
   "outputs": [],
   "source": [
    "# делаем активным первый лист:\n",
    "wb.sheets[0].activate()"
   ]
  },
  {
   "cell_type": "code",
   "execution_count": 387,
   "metadata": {},
   "outputs": [
    {
     "data": {
      "text/plain": [
       "<Range [тест1.xlsx]Лист1!$A$1>"
      ]
     },
     "execution_count": 387,
     "metadata": {},
     "output_type": "execute_result"
    }
   ],
   "source": [
    "# обращение к диапазону активного листа не через ссылку на лист:\n",
    "xw.Range('A1')"
   ]
  },
  {
   "cell_type": "code",
   "execution_count": 388,
   "metadata": {},
   "outputs": [
    {
     "data": {
      "text/plain": [
       "<Range [тест1.xlsx]Лист1!$A$1>"
      ]
     },
     "execution_count": 388,
     "metadata": {},
     "output_type": "execute_result"
    }
   ],
   "source": [
    "# альтернативная форма обращения к листу, по индексу:\n",
    "xw.Range((1,1))"
   ]
  },
  {
   "cell_type": "code",
   "execution_count": 389,
   "metadata": {},
   "outputs": [
    {
     "data": {
      "text/plain": [
       "'Значение 1'"
      ]
     },
     "execution_count": 389,
     "metadata": {},
     "output_type": "execute_result"
    }
   ],
   "source": [
    "xw.Range((1,1)).value"
   ]
  },
  {
   "cell_type": "code",
   "execution_count": 390,
   "metadata": {},
   "outputs": [
    {
     "data": {
      "text/plain": [
       "<Range [тест1.xlsx]Лист1!$C$2:$E$3>"
      ]
     },
     "execution_count": 390,
     "metadata": {},
     "output_type": "execute_result"
    }
   ],
   "source": [
    "xw.Range('C2:E3')"
   ]
  },
  {
   "cell_type": "code",
   "execution_count": 391,
   "metadata": {},
   "outputs": [
    {
     "data": {
      "text/plain": [
       "<Range [тест1.xlsx]Лист1!$C$2:$E$3>"
      ]
     },
     "execution_count": 391,
     "metadata": {},
     "output_type": "execute_result"
    }
   ],
   "source": [
    "# Внимание! Первый индекс - индекс строки!\n",
    "xw.Range((2,3), (3,5))"
   ]
  },
  {
   "cell_type": "markdown",
   "metadata": {},
   "source": [
    "* Цвет ячеек в Excel важный элемент метаинформации (разметки данных)!\n",
    "\n",
    "Работа с цветом диапазона(ячейки):"
   ]
  },
  {
   "cell_type": "code",
   "execution_count": 392,
   "metadata": {},
   "outputs": [],
   "source": [
    "xw.Range('A1').color = (255, 0, 0) # формат цвета RGB|"
   ]
  },
  {
   "cell_type": "code",
   "execution_count": 393,
   "metadata": {},
   "outputs": [
    {
     "data": {
      "text/plain": [
       "(255, 0, 0)"
      ]
     },
     "execution_count": 393,
     "metadata": {},
     "output_type": "execute_result"
    }
   ],
   "source": [
    "xw.Range('A1').color"
   ]
  },
  {
   "cell_type": "code",
   "execution_count": 394,
   "metadata": {},
   "outputs": [
    {
     "name": "stdout",
     "output_type": "stream",
     "text": [
      "None\n"
     ]
    }
   ],
   "source": [
    "print(xw.Range('A2').color)"
   ]
  },
  {
   "cell_type": "code",
   "execution_count": 395,
   "metadata": {},
   "outputs": [
    {
     "data": {
      "text/plain": [
       "True"
      ]
     },
     "execution_count": 395,
     "metadata": {},
     "output_type": "execute_result"
    }
   ],
   "source": [
    "xw.Range('A2').color == None"
   ]
  },
  {
   "cell_type": "code",
   "execution_count": 396,
   "metadata": {},
   "outputs": [],
   "source": [
    "# удаляем цвет ячейки:\n",
    "xw.Range('A1').color = None"
   ]
  },
  {
   "cell_type": "code",
   "execution_count": 397,
   "metadata": {},
   "outputs": [
    {
     "data": {
      "text/plain": [
       "True"
      ]
     },
     "execution_count": 397,
     "metadata": {},
     "output_type": "execute_result"
    }
   ],
   "source": [
    "xw.Range('A2').color is None"
   ]
  },
  {
   "cell_type": "markdown",
   "metadata": {},
   "source": [
    "__Работа с размером и форматированием__\n",
    "\n",
    "Ширина ячеек (столбцов)"
   ]
  },
  {
   "cell_type": "code",
   "execution_count": 398,
   "metadata": {},
   "outputs": [],
   "source": [
    "rng_val1 = xw.Range((2,3), (3,5))"
   ]
  },
  {
   "cell_type": "code",
   "execution_count": 399,
   "metadata": {},
   "outputs": [
    {
     "data": {
      "text/plain": [
       "[['Значение 1', 'Значение 2', 'Значение 3'], [10.0, 20.0, 30.0]]"
      ]
     },
     "execution_count": 399,
     "metadata": {},
     "output_type": "execute_result"
    }
   ],
   "source": [
    "rng_val1.value"
   ]
  },
  {
   "cell_type": "code",
   "execution_count": 400,
   "metadata": {},
   "outputs": [
    {
     "data": {
      "text/plain": [
       "'Значение 1'"
      ]
     },
     "execution_count": 400,
     "metadata": {},
     "output_type": "execute_result"
    }
   ],
   "source": [
    "rng_val1.value[0][0]"
   ]
  },
  {
   "cell_type": "code",
   "execution_count": 401,
   "metadata": {},
   "outputs": [
    {
     "data": {
      "text/plain": [
       "<Range [тест1.xlsx]Лист1!$C$2:$C$3>"
      ]
     },
     "execution_count": 401,
     "metadata": {},
     "output_type": "execute_result"
    }
   ],
   "source": [
    "# способ выбрать первый столбец:\n",
    "rng_val1.columns[0]"
   ]
  },
  {
   "cell_type": "code",
   "execution_count": 402,
   "metadata": {},
   "outputs": [
    {
     "data": {
      "text/plain": [
       "8.43"
      ]
     },
     "execution_count": 402,
     "metadata": {},
     "output_type": "execute_result"
    }
   ],
   "source": [
    "rng_val1.columns[0].column_width"
   ]
  },
  {
   "cell_type": "markdown",
   "metadata": {},
   "source": [
    "`column_width`\n",
    "\n",
    "Gets or sets the width, in characters, of a Range. One unit of column width is equal to the width of one character in the Normal style. For proportional fonts, the width of the character 0 (zero) is used.\n",
    "\n",
    "* If all columns in the Range have the same width, returns the width. If columns in the Range have different widths, returns None.\n",
    "* column_width must be in the range: 0 <= column_width <= 255\n",
    "* Note: If the Range is outside the used range of the Worksheet, and columns in the Range have different widths, returns the width of the first column."
   ]
  },
  {
   "cell_type": "code",
   "execution_count": 403,
   "metadata": {},
   "outputs": [],
   "source": [
    "# устанавливаем ширину столбца в соответствии с количеством символов в заголовке:\n",
    "rng_val1.columns[0].column_width = len(rng_val1.value[0][0])"
   ]
  },
  {
   "cell_type": "code",
   "execution_count": 404,
   "metadata": {},
   "outputs": [],
   "source": [
    "# автоматическое приведение ширины столбца к ширене значений: \n",
    "rng_val1.columns[1].autofit()"
   ]
  },
  {
   "cell_type": "markdown",
   "metadata": {},
   "source": [
    "Имеются аналогичные функции для высоты столбцов и работы со строками."
   ]
  },
  {
   "cell_type": "markdown",
   "metadata": {},
   "source": [
    "__Работа с форматом ячейки__"
   ]
  },
  {
   "cell_type": "code",
   "execution_count": 405,
   "metadata": {},
   "outputs": [
    {
     "data": {
      "text/plain": [
       "'Основной'"
      ]
     },
     "execution_count": 405,
     "metadata": {},
     "output_type": "execute_result"
    }
   ],
   "source": [
    "xw.Range('A2').number_format"
   ]
  },
  {
   "cell_type": "code",
   "execution_count": 406,
   "metadata": {},
   "outputs": [
    {
     "data": {
      "text/plain": [
       "'ДД.ММ.ГГГГ'"
      ]
     },
     "execution_count": 406,
     "metadata": {},
     "output_type": "execute_result"
    }
   ],
   "source": [
    "xw.Range('A3').number_format"
   ]
  },
  {
   "cell_type": "markdown",
   "metadata": {},
   "source": [
    "\n",
    "<center>         \n",
    "    <img src=\"./img/format1.png\" alt=\"Определение формата ячейки в Excel\" style=\"width: 500px;\"/>\n",
    "    <b>Определение формата ячейки в Excel</b>\n",
    "</center>"
   ]
  },
  {
   "cell_type": "code",
   "execution_count": 407,
   "metadata": {},
   "outputs": [],
   "source": [
    "xw.Range('A2').number_format = '0,00%'"
   ]
  },
  {
   "cell_type": "markdown",
   "metadata": {},
   "source": [
    "Объединение ячеек"
   ]
  },
  {
   "cell_type": "markdown",
   "metadata": {},
   "source": [
    "`api.merge(across=False)`\n",
    "Creates a merged cell from the specified Range object.\n",
    "\n",
    "Parameters:\t\n",
    "* across (bool, default False) – True to merge cells in each row of the specified Range as separate merged cells.\n",
    "\n",
    "`api.merge_area` (?? не работает)\n",
    "\n",
    "Returns a Range object that represents the merged Range containing the specified cell. If the specified cell isn’t in a merged range, this property returns the specified cell.\n",
    "\n",
    "`api.merge_cells` (?? не работает)\n",
    "\n",
    "Returns True if the Range contains merged cells, otherwise False"
   ]
  },
  {
   "cell_type": "code",
   "execution_count": 408,
   "metadata": {},
   "outputs": [],
   "source": [
    "xw.Range('C1:D1').api.merge()"
   ]
  },
  {
   "cell_type": "code",
   "execution_count": 409,
   "metadata": {},
   "outputs": [],
   "source": [
    "xw.Range('C1').value = 'Первые значения'"
   ]
  },
  {
   "cell_type": "markdown",
   "metadata": {},
   "source": [
    "Группировка строк и столбцов\n",
    "\n",
    "* Пример: https://www.automateexcel.com/vba/group-rows-columns/\n",
    "* Для функций Excel, не реализованных в рамках xlwings, можно получить доступ к api и действовать напрямую."
   ]
  },
  {
   "cell_type": "code",
   "execution_count": 410,
   "metadata": {},
   "outputs": [
    {
     "data": {
      "text/plain": [
       "True"
      ]
     },
     "execution_count": 410,
     "metadata": {},
     "output_type": "execute_result"
    }
   ],
   "source": [
    "wb.sheets[0].api.Rows(\"2:3\").Group()"
   ]
  },
  {
   "cell_type": "markdown",
   "metadata": {},
   "source": [
    "__Работа с формулами__"
   ]
  },
  {
   "cell_type": "code",
   "execution_count": 411,
   "metadata": {},
   "outputs": [],
   "source": [
    "xw.Range('C4').formula = '=1+1'"
   ]
  },
  {
   "cell_type": "code",
   "execution_count": 412,
   "metadata": {},
   "outputs": [],
   "source": [
    "xw.Range('D4').formula = '=C3+D3'"
   ]
  },
  {
   "cell_type": "markdown",
   "metadata": {},
   "source": [
    "Для корректного добавления функций нужно использовать их англоязычные аналоги \n",
    "\n",
    "* Список сопоставления функций англоязычного / русскоязычного Excel: https://ru.excelfunctions.eu\n",
    "* Список функций англоязычного Excel: https://support.microsoft.com/en-us/office/excel-functions-alphabetical-b3944572-255d-4efb-bb96-c6d90033e188#bm19"
   ]
  },
  {
   "cell_type": "code",
   "execution_count": 413,
   "metadata": {},
   "outputs": [],
   "source": [
    "# пример:\n",
    "xw.Range('E4').formula = '=SUM(C3:E3)'"
   ]
  },
  {
   "cell_type": "markdown",
   "metadata": {},
   "source": [
    "Для конструирования формул удобно получать строку адрсов:\n",
    "`get_address(row_absolute=True, column_absolute=True, include_sheetname=False, external=False)`\n",
    "Returns the address of the range in the specified format. address can be used instead if none of the defaults need to be changed.\n",
    "\n",
    "Parameters:\t\n",
    "* row_absolute (bool, default True) – Set to True to return the row part of the reference as an absolute reference.\n",
    "* column_absolute (bool, default True) – Set to True to return the column part of the reference as an absolute reference.\n",
    "* include_sheetname (bool, default False) – Set to True to include the Sheet name in the address. Ignored if external=True.\n",
    "* external (bool, default False) – Set to True to return an external reference with workbook and worksheet name."
   ]
  },
  {
   "cell_type": "code",
   "execution_count": 414,
   "metadata": {},
   "outputs": [
    {
     "data": {
      "text/plain": [
       "'$G$1:$G$5'"
      ]
     },
     "execution_count": 414,
     "metadata": {},
     "output_type": "execute_result"
    }
   ],
   "source": [
    "# получаем адреса диапазона:\n",
    "rng_name = xw.Range('G1').expand('down').address\n",
    "rng_name"
   ]
  },
  {
   "cell_type": "code",
   "execution_count": 415,
   "metadata": {},
   "outputs": [
    {
     "data": {
      "text/plain": [
       "'=SUM($G$1:$G$5)'"
      ]
     },
     "execution_count": 415,
     "metadata": {},
     "output_type": "execute_result"
    }
   ],
   "source": [
    "f'=SUM({rng_name})'"
   ]
  },
  {
   "cell_type": "code",
   "execution_count": 416,
   "metadata": {},
   "outputs": [],
   "source": [
    "xw.Range('F1').formula = f'=SUM({rng_name})'"
   ]
  },
  {
   "cell_type": "markdown",
   "metadata": {},
   "source": [
    "С помощью xlwings даже можно \"протягивать\" формулы:"
   ]
  },
  {
   "cell_type": "code",
   "execution_count": 417,
   "metadata": {},
   "outputs": [],
   "source": [
    "# задаем формулу:\n",
    "xw.Range('C5').formula = f'=SUM(C3:C4)*$G$5'"
   ]
  },
  {
   "cell_type": "code",
   "execution_count": 418,
   "metadata": {},
   "outputs": [],
   "source": [
    "# импортируем константу:\n",
    "from xlwings.constants import AutoFillType"
   ]
  },
  {
   "cell_type": "code",
   "execution_count": 419,
   "metadata": {
    "scrolled": true
   },
   "outputs": [
    {
     "data": {
      "text/plain": [
       "True"
      ]
     },
     "execution_count": 419,
     "metadata": {},
     "output_type": "execute_result"
    }
   ],
   "source": [
    "# и протягиваем ее:\n",
    "xw.Range('C5').api.AutoFill(xw.Range(\"C5:E5\").api,\n",
    "                               AutoFillType.xlFillDefault)"
   ]
  },
  {
   "cell_type": "code",
   "execution_count": 420,
   "metadata": {},
   "outputs": [
    {
     "data": {
      "text/plain": [
       "[108.0, 450.0, 810.0]"
      ]
     },
     "execution_count": 420,
     "metadata": {},
     "output_type": "execute_result"
    }
   ],
   "source": [
    "# и получаем результаты расчетов:\n",
    "xw.Range(\"C5:E5\").value"
   ]
  },
  {
   "cell_type": "code",
   "execution_count": 421,
   "metadata": {},
   "outputs": [
    {
     "data": {
      "text/plain": [
       "(('=SUM(C3:C4)*$G$5', '=SUM(D3:D4)*$G$5', '=SUM(E3:E4)*$G$5'),)"
      ]
     },
     "execution_count": 421,
     "metadata": {},
     "output_type": "execute_result"
    }
   ],
   "source": [
    "# а это формулы, хранящихся в данном диапазоне:\n",
    "xw.Range(\"C5:E5\").formula"
   ]
  },
  {
   "cell_type": "markdown",
   "metadata": {},
   "source": [
    "__Добавление и удаление диапазонов__"
   ]
  },
  {
   "cell_type": "code",
   "execution_count": 422,
   "metadata": {},
   "outputs": [],
   "source": [
    "sht_cpypst = wb.sheets.add(name=\"копирование\", after=wb.sheets[1].name)"
   ]
  },
  {
   "cell_type": "code",
   "execution_count": 423,
   "metadata": {},
   "outputs": [],
   "source": [
    "sht_cpypst.range((1,1)).value = np.arange(50).reshape((5, 10))"
   ]
  },
  {
   "cell_type": "markdown",
   "metadata": {},
   "source": [
    "`copy(destination=None)`\n",
    "Copy a range to a destination range or clipboard.\n",
    "\n",
    "Parameters:\t\n",
    "* destination (xlwings.Range) – xlwings Range to which the specified range will be copied. If omitted, the range is copied to the Clipboard.\n",
    "Returns:\t\n",
    "* Return type: None"
   ]
  },
  {
   "cell_type": "markdown",
   "metadata": {},
   "source": [
    "---\n",
    "`paste(paste=None, operation=None, skip_blanks=False, transpose=False)`\n",
    "\n",
    "Pastes a range from the clipboard into the specified range.\n",
    "\n",
    "Parameters:\t\n",
    "* paste (str, default None) – One of: \n",
    "    * all_merging_conditional_formats\n",
    "    * all\n",
    "    * all_except_borders\n",
    "    * all_using_source_theme\n",
    "    * column_widths\n",
    "    * comments\n",
    "    * formats\n",
    "    * formulas\n",
    "    * formulas_and_number_formats\n",
    "    * validation\n",
    "    * values\n",
    "    * values_and_number_formats.\n",
    "* operation (str, default None) – One of “add”, “divide”, “multiply”, “subtract”.\n",
    "* skip_blanks (bool, default False) – Set to True to skip over blank cells\n",
    "* transpose (bool, default False) – Set to True to transpose rows and columns.\n",
    "\n",
    "Returns:\t\n",
    "* Return type:\t`None`"
   ]
  },
  {
   "cell_type": "code",
   "execution_count": 424,
   "metadata": {},
   "outputs": [],
   "source": [
    "# копи-паст\n",
    "sht_cpypst.range((1,1), (5,2)).copy()\n",
    "sht_cpypst.range((6,1), (10,2)).paste()"
   ]
  },
  {
   "cell_type": "code",
   "execution_count": 425,
   "metadata": {},
   "outputs": [],
   "source": [
    "# прямое копирование:\n",
    "sht_cpypst.range((1,1), (5,2)).copy(destination=sht_cpypst.range((11,1), (15,2)))"
   ]
  },
  {
   "cell_type": "markdown",
   "metadata": {},
   "source": [
    "---\n",
    "`insert(shift=None, copy_origin='format_from_left_or_above')`\n",
    "\n",
    "Insert a cell or range of cells into the sheet.\n",
    "\n",
    "Parameters:\t\n",
    "* shift (str, default None) – Use right or down. If omitted, Excel decides based on the shape of the range.\n",
    "* copy_origin (str, default format_from_left_or_above) – Use format_from_left_or_above or format_from_right_or_below. Note that this is not supported on macOS.\n",
    "\n",
    "Returns:\t\n",
    "* Return type: None"
   ]
  },
  {
   "cell_type": "code",
   "execution_count": 426,
   "metadata": {},
   "outputs": [],
   "source": [
    "sht_cpypst.range((1,3), (5,4)).insert()"
   ]
  },
  {
   "cell_type": "markdown",
   "metadata": {},
   "source": [
    "`clear()`\n",
    "Clears the content and the formatting of a Range.\n",
    "\n",
    "---\n",
    "`delete(shift=None)`\n",
    "Deletes a cell or range of cells.\n",
    "\n",
    "Parameters:\t\n",
    "* shift (str, default None) – Use left or up. If omitted, Excel decides based on the shape of the range.\n",
    "Returns:\t\n",
    "* Return type: `None`"
   ]
  },
  {
   "cell_type": "code",
   "execution_count": 427,
   "metadata": {},
   "outputs": [],
   "source": [
    "sht_cpypst.range((6,1), (7,2)).clear()"
   ]
  },
  {
   "cell_type": "code",
   "execution_count": 428,
   "metadata": {},
   "outputs": [],
   "source": [
    "# удалили одну ячейку:\n",
    "sht_cpypst.range((2,1)).delete()"
   ]
  },
  {
   "cell_type": "code",
   "execution_count": 429,
   "metadata": {},
   "outputs": [
    {
     "data": {
      "text/plain": [
       "True"
      ]
     },
     "execution_count": 429,
     "metadata": {},
     "output_type": "execute_result"
    }
   ],
   "source": [
    "# # удаление всего столбца:\n",
    "sht_cpypst.range('2:2').api.Delete()"
   ]
  },
  {
   "cell_type": "code",
   "execution_count": 430,
   "metadata": {},
   "outputs": [],
   "source": [
    "# https://www.automateexcel.com/vba/group-rows-columns/\n",
    "# sht_cpypst.api.Rows(\"3:5\").Group()"
   ]
  },
  {
   "cell_type": "markdown",
   "metadata": {},
   "source": [
    "## Интеграция графиков в Excel"
   ]
  },
  {
   "cell_type": "markdown",
   "metadata": {},
   "source": [
    "Подготовка данных"
   ]
  },
  {
   "cell_type": "code",
   "execution_count": 431,
   "metadata": {},
   "outputs": [],
   "source": [
    "sht_draw = wb.sheets.add(name=\"графики\", after=wb.sheets[2].name)"
   ]
  },
  {
   "cell_type": "code",
   "execution_count": 432,
   "metadata": {},
   "outputs": [],
   "source": [
    "sht_draw.range((3,2)).value = 'x-axis'\n",
    "sht_draw.range((3,3)).value = 'y-axis'\n",
    "\n",
    "for i in range(5):\n",
    "    sht_draw.range((i+4, 2)).value = i"
   ]
  },
  {
   "cell_type": "code",
   "execution_count": 433,
   "metadata": {},
   "outputs": [],
   "source": [
    "for i in range(5):\n",
    "    sht_draw.range((i+4,3)).value = f'=exp(B{i+4})'"
   ]
  },
  {
   "cell_type": "code",
   "execution_count": 434,
   "metadata": {},
   "outputs": [
    {
     "data": {
      "text/html": [
       "<div>\n",
       "<style scoped>\n",
       "    .dataframe tbody tr th:only-of-type {\n",
       "        vertical-align: middle;\n",
       "    }\n",
       "\n",
       "    .dataframe tbody tr th {\n",
       "        vertical-align: top;\n",
       "    }\n",
       "\n",
       "    .dataframe thead th {\n",
       "        text-align: right;\n",
       "    }\n",
       "</style>\n",
       "<table border=\"1\" class=\"dataframe\">\n",
       "  <thead>\n",
       "    <tr style=\"text-align: right;\">\n",
       "      <th></th>\n",
       "      <th>x-axis</th>\n",
       "      <th>y-axis</th>\n",
       "    </tr>\n",
       "  </thead>\n",
       "  <tbody>\n",
       "    <tr>\n",
       "      <th>0</th>\n",
       "      <td>0.0</td>\n",
       "      <td>1.000000</td>\n",
       "    </tr>\n",
       "    <tr>\n",
       "      <th>1</th>\n",
       "      <td>1.0</td>\n",
       "      <td>2.718282</td>\n",
       "    </tr>\n",
       "    <tr>\n",
       "      <th>2</th>\n",
       "      <td>2.0</td>\n",
       "      <td>7.389056</td>\n",
       "    </tr>\n",
       "    <tr>\n",
       "      <th>3</th>\n",
       "      <td>3.0</td>\n",
       "      <td>20.085537</td>\n",
       "    </tr>\n",
       "    <tr>\n",
       "      <th>4</th>\n",
       "      <td>4.0</td>\n",
       "      <td>54.598150</td>\n",
       "    </tr>\n",
       "  </tbody>\n",
       "</table>\n",
       "</div>"
      ],
      "text/plain": [
       "   x-axis     y-axis\n",
       "0     0.0   1.000000\n",
       "1     1.0   2.718282\n",
       "2     2.0   7.389056\n",
       "3     3.0  20.085537\n",
       "4     4.0  54.598150"
      ]
     },
     "execution_count": 434,
     "metadata": {},
     "output_type": "execute_result"
    }
   ],
   "source": [
    "df_draw = xw.Range('B3').expand().options(pd.DataFrame).value\n",
    "df_draw.reset_index(inplace=True)\n",
    "df_draw"
   ]
  },
  {
   "cell_type": "markdown",
   "metadata": {},
   "source": [
    "Создание графика и интеграция его в Excel"
   ]
  },
  {
   "cell_type": "code",
   "execution_count": 435,
   "metadata": {},
   "outputs": [],
   "source": [
    "import matplotlib.pyplot as plt"
   ]
  },
  {
   "cell_type": "code",
   "execution_count": 436,
   "metadata": {},
   "outputs": [
    {
     "data": {
      "text/plain": [
       "Text(0, 0.5, 'y-axis')"
      ]
     },
     "execution_count": 436,
     "metadata": {},
     "output_type": "execute_result"
    },
    {
     "data": {
      "image/png": "[encoded data removed]",
      "text/plain": [
       "<Figure size 432x288 with 1 Axes>"
      ]
     },
     "metadata": {
      "needs_background": "light"
     },
     "output_type": "display_data"
    }
   ],
   "source": [
    "fig = plt.figure()\n",
    "plt.plot(df_draw['x-axis'], df_draw['y-axis'])\n",
    "plt.xlabel('x-axis')\n",
    "plt.ylabel('y-axis')"
   ]
  },
  {
   "cell_type": "code",
   "execution_count": 437,
   "metadata": {},
   "outputs": [
    {
     "data": {
      "text/plain": [
       "<Picture 'MyPlot' in <Sheet [тест1.xlsx]графики>>"
      ]
     },
     "execution_count": 437,
     "metadata": {},
     "output_type": "execute_result"
    }
   ],
   "source": [
    "#add the graph back into Excel:\n",
    "sht_draw.pictures.add(fig, name='MyPlot', update=True)   "
   ]
  },
  {
   "cell_type": "markdown",
   "metadata": {},
   "source": [
    "# Создание макросов на xlwings в Excel"
   ]
  },
  {
   "cell_type": "markdown",
   "metadata": {},
   "source": [
    "1. Создаем в файле `.py` скрипт, который мы хотим вызвать в качестве макроса в Excel"
   ]
  },
  {
   "cell_type": "code",
   "execution_count": 438,
   "metadata": {},
   "outputs": [
    {
     "name": "stdout",
     "output_type": "stream",
     "text": [
      "Overwriting rand_10.py\n"
     ]
    }
   ],
   "source": [
    "%%writefile rand_10.py\n",
    "import numpy as np\n",
    "import xlwings as xw\n",
    "\n",
    "def generate():\n",
    "    wb = xw.Book.caller()\n",
    "    wb.sheets[0].range('A1').value = np.random.rand(10)"
   ]
  },
  {
   "cell_type": "markdown",
   "metadata": {},
   "source": [
    "Once we have the Python script, open up the VBA Editor, you can do this by pressing Alt + F11 inside the Excel app.\n",
    "\n",
    "2. Для данного Excel файла настраиваем работу с xlwings (настройка references xlwings):\n",
    "    1. Открываем редактор VBA (сочетание клавиш: Alt + F11)\n",
    "    2. В меню Tools -> Reference, выбираем чекбокс \"xlwings\"\n",
    "\n",
    "<center>         \n",
    "    <img src=\"./img/macr1.png\" alt=\"Настройка работы с xlwings: шаг 1\" style=\"width: 500px;\"/>\n",
    "    <b>Настройка работы с xlwings: шаг 1</b>\n",
    "</center>\n",
    "\n",
    "\n",
    "<center>         \n",
    "    <img src=\"./img/macr2.png\" alt=\"Настройка работы с xlwings: шаг 2\" style=\"width: 500px;\"/>\n",
    "    <b>Настройка работы с xlwings: шаг 2</b>\n",
    "</center>\n",
    "\n",
    "\n",
    "3. В окне VBAProject правой кнопкой щелкаем на файл Excel и вставляем модуль.\n",
    "\n",
    "<center>         \n",
    "    <img src=\"./img/macr3.png\" alt=\"Добавление модуля\" style=\"width: 500px;\"/>\n",
    "    <b>Добавление модуля</b>\n",
    "</center>\n",
    "\n",
    "4. Вставляем в модуль следующий код:\n",
    "\n",
    "```\n",
    "Sub Rand_10()\n",
    "    RunPython (\"import rand_10; rand_10.generate()\")\n",
    "End Sub\n",
    "```\n",
    "\n",
    "Код приводит к выполнению следующего скрипта на Python:\n",
    "* Импорт модуля rand_10.\n",
    "* Вызов нашей функции.\n",
    "\n",
    "\n",
    "5. Сохраняем код на VBA. "
   ]
  },
  {
   "cell_type": "markdown",
   "metadata": {},
   "source": [
    "6. Создаем кнопку на листе Excel.\n",
    "    1. Вкладка \"Разработчик\" (если необходимо подключаем ее через найстройки), далее Вставить -> Кнопка.\n",
    "\n",
    "<center>         \n",
    "    <img src=\"./img/macr4.png\" alt=\"Определение формата ячейки в Excel\" style=\"width: 500px;\"/>\n",
    "    <b>Определение формата ячейки в Excel</b>\n",
    "</center>\n",
    "\n",
    "\n",
    "7. Настраиваем на нажатие кнопки макрос VBA Rand_10()\n",
    "\n",
    "<center>         \n",
    "    <img src=\"./img/macr5.png\" alt=\"Определение формата ячейки в Excel\" style=\"width: 500px;\"/>\n",
    "    <b>Определение формата ячейки в Excel</b>\n",
    "</center>\n",
    "\n",
    "8. После нажатия кнопки в дапазоне A1:J1 первого листа появятся сгенерированные значения."
   ]
  },
  {
   "cell_type": "markdown",
   "metadata": {},
   "source": [
    "## Создание пользовательских функций Excel на xlwings\n",
    "\n",
    "__Пользовательские функции__ (user-defined function, UDF) в Excel - функции на VBA, разработанные пользователями. UDF могут использоваться в функциях листов Excel на равне со встроенными функциями.\n",
    "\n",
    "Создание UDF на VBA не удобно:\n",
    "* Нужно изучать VBA (язык с очень узкой нишей)\n",
    "* VBA не удобно использовать \n",
    "* VBA обладает очень ограниченной функциональностью\n",
    "\n",
    "xlwings позволяет создавать собственные UDF на Python:\n",
    "* используя удобный и мощный язык программирования\n",
    "* используя многочисленные библиотеки, доступные для Python\n",
    "* ограничение: на данный момент UDF в xlwings доступны только для Windows"
   ]
  },
  {
   "cell_type": "code",
   "execution_count": 439,
   "metadata": {},
   "outputs": [
    {
     "name": "stdout",
     "output_type": "stream",
     "text": [
      "Overwriting my_project.py\n"
     ]
    }
   ],
   "source": [
    "%%writefile my_project.py\n",
    "import xlwings as xw\n",
    "\n",
    "# @xw.func is a decorator. \n",
    "# It must be added right before the def to let xlwings know this is a user-defined function.\n",
    "@xw.func\n",
    "def double_sum(x, y):\n",
    "    \"\"\"Returns twice the sum of the two arguments\"\"\"\n",
    "    # The function must return something so the returned value can be passed into Excel\n",
    "    return 2 * (x + y)"
   ]
  },
  {
   "cell_type": "markdown",
   "metadata": {},
   "source": [
    "1. Для использование настроек по умолчанию должны выполняться следующие требования:\n",
    "    * файл Excel должен быть в той же директории что и скрипт с UDF\n",
    "    * имя файла Excel и модуля py должны совпадать (с точностью до расширения файлов)\n",
    "    \n",
    "2. Необходимы следующие настройки безопасности:\n",
    "    * сохранить файл как файл Excel с поддержкой макросов (расширение: .xlsm или .xlsb)\n",
    "    * установить параметр \"Доаверять доступ к объектной модели VBA\": Файл -> Параметры -> Центр управления безопасностью -> Параметры центра управления безопасностью -> Параметры макросов -> Доаверять доступ к объектной модели VBA\n",
    "\n",
    "<center>         \n",
    "    <img src=\"./img/udf0.png\" alt=\"Определение формата ячейки в Excel\" style=\"width: 700px;\"/>\n",
    "    <b>Настройка параметра \"Доаверять доступ к объектной модели VBA\"</b>\n",
    "</center>\n",
    "\n",
    "3. В меню xlwings в Excel нажимаем кнопку \"Import Functions\"\n",
    "4. После этого используем функцию в необходимой ячейке\n",
    "\n",
    "<center>         \n",
    "    <img src=\"./img/udf1.png\" alt=\"Использование UDF double_sum\" style=\"width: 700px;\"/>\n",
    "    <b>Использование UDF double_sum</b>\n",
    "</center>\n"
   ]
  },
  {
   "cell_type": "markdown",
   "metadata": {},
   "source": [
    "* The __@xw.func decorator__ is only used by xlwings when the function is being imported into Excel. __It tells xlwings for which functions it should create a VBA wrapper__ function, otherwise it has no effect on how the functions behave in Python.\n",
    "\n",
    "Как переносятся изменения UDF в Excel:\n",
    "\n",
    "* Code changes in the actual functions are picked up automatically (i.e. at the next calculation of the formula, e.g. triggered by Ctrl-Alt-F9)\n",
    "\n",
    "* You only need to __re-import your functions if you change__ \n",
    "    * the function arguments \n",
    "    * the function name.\n",
    "\n",
    "* but changes in imported modules are not. This is the very behaviour of how Python imports work. If you want to make sure everything is in a fresh state, click __Restart UDF Server__."
   ]
  },
  {
   "cell_type": "markdown",
   "metadata": {},
   "source": [
    "## Формулы массива в Excel и создание UDF функций массива"
   ]
  },
  {
   "cell_type": "markdown",
   "metadata": {},
   "source": [
    "Создание формулы массива \n",
    "\n",
    "\n",
    "__Формула массива__ — это формула, с помощью которой можно выполнить несколько расчетов для одного или нескольких элементов в массиве. \n",
    "* Они также называются формулами \"Ctrl-Shift\" или \"CSE\", так как для их ввода требуется нажать клавиши CTRL + SHIFT + ВВОД.\n",
    "* Вы можете представить массив как строку или столбец значений либо сочетание строк и столбцов значений. \n",
    "* Формулы массива могут возвращать либо несколько результатов, либо один результат.\n",
    "\n",
    "В Excel существует два типа формул массива: формулы массива, которые выполняют несколько вычислений для создания одного результата и формулы массива, которые рассчитывают несколько результатов. Некоторые функции возвращают массивы значений или требуют массив значений в качестве аргумента. "
   ]
  },
  {
   "cell_type": "markdown",
   "metadata": {},
   "source": [
    "* Calling one big array formula in Excel is __much more efficient than calling many single-cell formulas__, so it’s generally a good idea to use them, especially if you hit performance problems.\n",
    "* You can __pass an Excel Range as a function argument__, as opposed to a single cell and it will show up in Python as list of lists.\n",
    "* \n",
    "For example, you can write the following function to add 1 to every cell in a Range:"
   ]
  },
  {
   "cell_type": "code",
   "execution_count": 326,
   "metadata": {},
   "outputs": [
    {
     "name": "stdout",
     "output_type": "stream",
     "text": [
      "Writing arr_formula1.py\n"
     ]
    }
   ],
   "source": [
    "%%writefile arr_formula1.py\n",
    "import xlwings as xw\n",
    "\n",
    "@xw.func\n",
    "def add_one(data):\n",
    "    return [[cell + 1 for cell in row] for row in data]"
   ]
  },
  {
   "cell_type": "markdown",
   "metadata": {},
   "source": [
    "The above formula has the issue that it expects a “two dimensional” input, e.g. a nested list of the form [[1, 2], [3, 4]]. Therefore, if you would apply the formula to a single cell, you would get the following error: TypeError: 'float' object is not iterable."
   ]
  },
  {
   "cell_type": "code",
   "execution_count": 335,
   "metadata": {},
   "outputs": [
    {
     "name": "stdout",
     "output_type": "stream",
     "text": [
      "Overwriting arr_formula1.py\n"
     ]
    }
   ],
   "source": [
    "%%writefile arr_formula1.py\n",
    "import xlwings as xw\n",
    "\n",
    "# декоратор указывает что параметр представляет собой двухмерный массив:\n",
    "@xw.func\n",
    "@xw.arg('data', ndim=2)\n",
    "def add_one(data):\n",
    "    return [[cell + 1 for cell in row] for row in data]"
   ]
  },
  {
   "cell_type": "markdown",
   "metadata": {},
   "source": [
    "`@xw.arg` and `@xw.ret` decorators\n",
    "\n",
    "These decorators are to UDFs what the options method is to Range objects: they allow you to __apply converters and their options__ to:\n",
    "* function arguments (@xw.arg)\n",
    "* to the return value (@xw.ret). \n",
    "\n",
    "For example, to convert the argument x into a pandas DataFrame and suppress the index when returning it, you would do the following:"
   ]
  },
  {
   "cell_type": "code",
   "execution_count": 336,
   "metadata": {},
   "outputs": [
    {
     "name": "stdout",
     "output_type": "stream",
     "text": [
      "Overwriting arr_formula1.py\n"
     ]
    }
   ],
   "source": [
    "%%writefile arr_formula1.py\n",
    "import xlwings as xw\n",
    "import numpy as np\n",
    "import pandas as pd\n",
    "\n",
    "# декоратор указывает что параметр представляет собой двухмерный массив:\n",
    "@xw.func\n",
    "@xw.arg('data', ndim=2)\n",
    "def add_one(data):\n",
    "    return [[cell + 1 for cell in row] for row in data]\n",
    "\n",
    "@xw.func\n",
    "@xw.arg('x', np.array, ndim=2)\n",
    "@xw.arg('y', np.array, ndim=2)\n",
    "def matrix_mult(x, y):\n",
    "    return x @ y\n",
    "\n",
    "@xw.func\n",
    "@xw.arg('x', pd.DataFrame, index=False, header=False)\n",
    "@xw.ret(index=False, header=False)\n",
    "def CORREL2(x):\n",
    "    \"\"\"Like CORREL, but as array formula for more than 2 data sets\"\"\"\n",
    "    return x.corr()\n",
    "\n",
    "@xw.sub\n",
    "def my_macro():\n",
    "    \"\"\"Writes the name of the Workbook into Range(\"A1\") of Sheet 1\"\"\"\n",
    "    wb = xw.Book.caller()\n",
    "    wb.sheets[0].range('A1').value = wb.name"
   ]
  },
  {
   "cell_type": "markdown",
   "metadata": {},
   "source": [
    "A great example of how you can put Pandas at work is the creation of an array-based CORREL formula. Excel’s version of CORREL only works on 2 datasets and is cumbersome to use if you want to quickly get the correlation matrix of a few time-series, for example. Pandas makes the creation of an array-based CORREL2 formula basically a one-liner"
   ]
  },
  {
   "cell_type": "markdown",
   "metadata": {},
   "source": [
    "`@xw.sub` decorator\n",
    "\n",
    "On Windows, as alternative to calling macros via RunPython, you can also use the @xw.sub decorator.\n",
    "\n",
    "Under the Developer tab, you can insert a button via Insert > Form Controls. After drawing the button, you will be prompted to assign a macro to it and you can select my_macro."
   ]
  },
  {
   "cell_type": "markdown",
   "metadata": {},
   "source": [
    "# Организация данных в виде многомерных кубов"
   ]
  },
  {
   "cell_type": "markdown",
   "metadata": {},
   "source": [
    "Характеристики OLTP и OLAP\n",
    "\n",
    "Характеристики OLTP системы\n",
    "* Большой объем информации\n",
    "* Часто различные БД для разных подразделений\n",
    "* Нормализованная схема, отсутствие дублирования информации\n",
    "* Интенсивное изменение данных\n",
    "* Транзакционный режим работы\n",
    "* Транзакции затрагивают небольшой объем данных\n",
    "* Обработка текущих данных – мгновенный снимок\n",
    "* Много клиентов\n",
    "* Малое время отклика – несколько секунд\n",
    " \n",
    "Характеристики OLAP системы\n",
    "* Большой объем информации\n",
    "* Синхронизированная информация из различных БД с использованием общих \tклассификаторов\n",
    "* Ненормализованная схема БД с дубликатами\n",
    "* Данные меняются редко, Изменение происходит через пакетную загрузку \n",
    "* Выполняются сложные нерегламентированные запросы над большим объемом данных с \tшироким применением группировок и агрегатных функций.\n",
    "* Анализ временных зависимостей\n",
    "* Небольшое количество работающих пользователей – аналитики и менеджеры\n",
    "* Большее время отклика (но все равно приемлемое) – несколько минут"
   ]
  },
  {
   "cell_type": "code",
   "execution_count": null,
   "metadata": {},
   "outputs": [],
   "source": []
  },
  {
   "cell_type": "markdown",
   "metadata": {},
   "source": [
    "Элементы OLAP-куба\n",
    "\n",
    "Измерение (dimension) - множество объектов одного или нескольких типов, организованных в виде иерархической структуры и обеспечивающих информационный контекст числового показателя. Измерение принято визуализировать в виде ребра многомерного куба. Объекты, совокупность которых и образует измерение, называются членами измерений (members). Члены измерений визуализируют как точки или участи, откладываемые на осях гиперкуба.\n",
    "\n",
    "Ячейка (cell) - атомарная структура куба, соответствующая полному набору конкретный значений измерений.\n",
    "\n",
    "Факт - числовая величина которая располагается в ячейках гиперкуба. Один OLAP-куб может обладать одним или несколькими показателями.\n",
    "\n",
    "Иерархия - группировка объектов одного измерения в объекты более высокого уровня. Например - день-месяц-год. Иерархии в измерениях необходимы для возможности агрегации и детализации значений показателей согласно их иерархической структуре. Иерархия целиком основывается на одном измерении и формируется из уровней."
   ]
  },
  {
   "cell_type": "markdown",
   "metadata": {},
   "source": [
    "Архитектурное решение организации листов операционных / капитальных затрат\n"
   ]
  },
  {
   "cell_type": "code",
   "execution_count": null,
   "metadata": {},
   "outputs": [],
   "source": []
  },
  {
   "cell_type": "code",
   "execution_count": null,
   "metadata": {},
   "outputs": [],
   "source": []
  },
  {
   "cell_type": "code",
   "execution_count": null,
   "metadata": {},
   "outputs": [],
   "source": []
  }
 ],
 "metadata": {
  "kernelspec": {
   "display_name": "Python 3",
   "language": "python",
   "name": "python3"
  },
  "language_info": {
   "codemirror_mode": {
    "name": "ipython",
    "version": 3
   },
   "file_extension": ".py",
   "mimetype": "text/x-python",
   "name": "python",
   "nbconvert_exporter": "python",
   "pygments_lexer": "ipython3",
   "version": "3.7.6"
  }
 },
 "nbformat": 4,
 "nbformat_minor": 4
}
