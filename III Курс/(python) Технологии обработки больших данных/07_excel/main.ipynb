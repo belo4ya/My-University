{
 "cells": [
  {
   "cell_type": "markdown",
   "metadata": {},
   "source": [
    "# Работа с Excel"
   ]
  },
  {
   "cell_type": "markdown",
   "metadata": {},
   "source": [
    "Материалы:\n",
    "* Макрушин С.В. Лекция 7: Работа с Excel\n",
    "* https://docs.xlwings.org/en/stable/quickstart.html\n",
    "* https://nbviewer.jupyter.org/github/pybokeh/jupyter_notebooks/blob/master/xlwings/Excel_Formatting.ipynb#search_text\n"
   ]
  },
  {
   "cell_type": "code",
   "execution_count": 108,
   "outputs": [],
   "source": [
    "from pathlib import Path\n",
    "\n",
    "import pandas as pd\n",
    "import xlwings as xw\n",
    "from xlwings.constants import BordersIndex, BorderWeight, HAlign"
   ],
   "metadata": {
    "collapsed": false,
    "pycharm": {
     "name": "#%%\n"
    }
   }
  },
  {
   "cell_type": "code",
   "execution_count": 109,
   "outputs": [],
   "source": [
    "DATA_DIR = Path('data/')\n",
    "OUTPUT_DIR = Path('output/')"
   ],
   "metadata": {
    "collapsed": false,
    "pycharm": {
     "name": "#%%\n"
    }
   }
  },
  {
   "cell_type": "code",
   "execution_count": 132,
   "outputs": [],
   "source": [
    "def format_header(cell):\n",
    "    sheet.range(cell).api.Font.Bold = True\n",
    "    sheet.range(cell).api.HorizontalAlignment = HAlign.xlHAlignCenter\n",
    "    for col_idx in (\n",
    "            BordersIndex.xlEdgeTop,\n",
    "            BordersIndex.xlEdgeRight,\n",
    "            BordersIndex.xlEdgeBottom,\n",
    "            BordersIndex.xlEdgeLeft\n",
    "    ):\n",
    "        sheet.range(cell).api.Borders(col_idx).LineStyle = 1\n",
    "        sheet.range(cell).api.Borders(col_idx).Weight = BorderWeight.xlThin"
   ],
   "metadata": {
    "collapsed": false,
    "pycharm": {
     "name": "#%%\n"
    }
   }
  },
  {
   "cell_type": "markdown",
   "metadata": {},
   "source": [
    "## Задачи для совместного разбора"
   ]
  },
  {
   "cell_type": "markdown",
   "metadata": {},
   "source": [
    "1. На листе \"Рецептура\" файла `себестоимостьА_в1.xlsx` для области \"Пшеничный хлеб\" рассчитать себестоимость всех видов продукции."
   ]
  },
  {
   "cell_type": "markdown",
   "metadata": {},
   "source": [
    "2. Результаты расчетов 1.1 сохранить в отдельном столбце области \"Пшеничный хлеб\""
   ]
  },
  {
   "cell_type": "markdown",
   "metadata": {},
   "source": [
    "3. Приблизить форматирование столбца, добавленного в задаче 2 к оформлению всей области."
   ]
  },
  {
   "cell_type": "markdown",
   "metadata": {},
   "source": [
    "4. Выполнить 3 с помощью \"протягиваемых\" формул."
   ]
  },
  {
   "cell_type": "markdown",
   "metadata": {},
   "source": [
    "## Лабораторная работа 7"
   ]
  },
  {
   "cell_type": "markdown",
   "metadata": {},
   "source": [
    "1. Загрузите данные из файлов `reviews_sample.csv` (__ЛР2__) и `recipes_sample_with_tags_ingredients.csv` (__ЛР5__) в виде `pd.DataFrame`. Обратите внимание на корректное считывание столбца(ов) с индексами. Оставьте в таблице с рецептами следующие столбцы: `id`, `name`, `minutes`, `submitted`, `description`, `n_ingredients`"
   ]
  },
  {
   "cell_type": "code",
   "execution_count": 110,
   "outputs": [
    {
     "data": {
      "text/plain": "           user_id  recipe_id       date  rating  \\\n370476       21752      57993 2003-05-01       5   \n624300      431813     142201 2007-09-16       5   \n187037      400708     252013 2008-01-10       4   \n706134  2001852463     404716 2017-12-11       5   \n312179       95810     129396 2008-03-14       5   \n\n                                                   review  \n370476  Last week whole sides of frozen salmon fillet ...  \n624300  So simple and so tasty!  I used a yellow capsi...  \n187037  Very nice breakfast HH, easy to make and yummy...  \n706134  These are a favorite for the holidays and so e...  \n312179  Excellent soup!  The tomato flavor is just gre...  ",
      "text/html": "<div>\n<style scoped>\n    .dataframe tbody tr th:only-of-type {\n        vertical-align: middle;\n    }\n\n    .dataframe tbody tr th {\n        vertical-align: top;\n    }\n\n    .dataframe thead th {\n        text-align: right;\n    }\n</style>\n<table border=\"1\" class=\"dataframe\">\n  <thead>\n    <tr style=\"text-align: right;\">\n      <th></th>\n      <th>user_id</th>\n      <th>recipe_id</th>\n      <th>date</th>\n      <th>rating</th>\n      <th>review</th>\n    </tr>\n  </thead>\n  <tbody>\n    <tr>\n      <th>370476</th>\n      <td>21752</td>\n      <td>57993</td>\n      <td>2003-05-01</td>\n      <td>5</td>\n      <td>Last week whole sides of frozen salmon fillet ...</td>\n    </tr>\n    <tr>\n      <th>624300</th>\n      <td>431813</td>\n      <td>142201</td>\n      <td>2007-09-16</td>\n      <td>5</td>\n      <td>So simple and so tasty!  I used a yellow capsi...</td>\n    </tr>\n    <tr>\n      <th>187037</th>\n      <td>400708</td>\n      <td>252013</td>\n      <td>2008-01-10</td>\n      <td>4</td>\n      <td>Very nice breakfast HH, easy to make and yummy...</td>\n    </tr>\n    <tr>\n      <th>706134</th>\n      <td>2001852463</td>\n      <td>404716</td>\n      <td>2017-12-11</td>\n      <td>5</td>\n      <td>These are a favorite for the holidays and so e...</td>\n    </tr>\n    <tr>\n      <th>312179</th>\n      <td>95810</td>\n      <td>129396</td>\n      <td>2008-03-14</td>\n      <td>5</td>\n      <td>Excellent soup!  The tomato flavor is just gre...</td>\n    </tr>\n  </tbody>\n</table>\n</div>"
     },
     "execution_count": 110,
     "metadata": {},
     "output_type": "execute_result"
    }
   ],
   "source": [
    "reviews_df = pd.read_csv(\n",
    "    DATA_DIR.joinpath('reviews_sample.csv'),\n",
    "    sep=',',\n",
    "    index_col=0,\n",
    "    parse_dates=['date']\n",
    ")\n",
    "reviews_df.head()"
   ],
   "metadata": {
    "collapsed": false,
    "pycharm": {
     "name": "#%%\n"
    }
   }
  },
  {
   "cell_type": "code",
   "execution_count": 111,
   "outputs": [
    {
     "data": {
      "text/plain": "                                       name     id  minutes  submitted  \\\n0     george s at the cove  black bean soup  44123       90 2002-10-25   \n1        healthy for them  yogurt popsicles  67664       10 2003-07-26   \n2              i can t believe it s spinach  38798       30 2002-08-29   \n3                      italian  gut busters  35173       45 2002-07-27   \n4  love is in the air  beef fondue   sauces  84797       25 2004-02-23   \n\n                                         description  n_ingredients  \n0  an original recipe created by chef scott meska...           18.0  \n1  my children and their friends ask for my homem...            NaN  \n2            these were so go, it surprised even me.            8.0  \n3  my sister-in-law made these for us at a family...            NaN  \n4  i think a fondue is a very romantic casual din...            NaN  ",
      "text/html": "<div>\n<style scoped>\n    .dataframe tbody tr th:only-of-type {\n        vertical-align: middle;\n    }\n\n    .dataframe tbody tr th {\n        vertical-align: top;\n    }\n\n    .dataframe thead th {\n        text-align: right;\n    }\n</style>\n<table border=\"1\" class=\"dataframe\">\n  <thead>\n    <tr style=\"text-align: right;\">\n      <th></th>\n      <th>name</th>\n      <th>id</th>\n      <th>minutes</th>\n      <th>submitted</th>\n      <th>description</th>\n      <th>n_ingredients</th>\n    </tr>\n  </thead>\n  <tbody>\n    <tr>\n      <th>0</th>\n      <td>george s at the cove  black bean soup</td>\n      <td>44123</td>\n      <td>90</td>\n      <td>2002-10-25</td>\n      <td>an original recipe created by chef scott meska...</td>\n      <td>18.0</td>\n    </tr>\n    <tr>\n      <th>1</th>\n      <td>healthy for them  yogurt popsicles</td>\n      <td>67664</td>\n      <td>10</td>\n      <td>2003-07-26</td>\n      <td>my children and their friends ask for my homem...</td>\n      <td>NaN</td>\n    </tr>\n    <tr>\n      <th>2</th>\n      <td>i can t believe it s spinach</td>\n      <td>38798</td>\n      <td>30</td>\n      <td>2002-08-29</td>\n      <td>these were so go, it surprised even me.</td>\n      <td>8.0</td>\n    </tr>\n    <tr>\n      <th>3</th>\n      <td>italian  gut busters</td>\n      <td>35173</td>\n      <td>45</td>\n      <td>2002-07-27</td>\n      <td>my sister-in-law made these for us at a family...</td>\n      <td>NaN</td>\n    </tr>\n    <tr>\n      <th>4</th>\n      <td>love is in the air  beef fondue   sauces</td>\n      <td>84797</td>\n      <td>25</td>\n      <td>2004-02-23</td>\n      <td>i think a fondue is a very romantic casual din...</td>\n      <td>NaN</td>\n    </tr>\n  </tbody>\n</table>\n</div>"
     },
     "execution_count": 111,
     "metadata": {},
     "output_type": "execute_result"
    }
   ],
   "source": [
    "recipes_df = pd.read_csv(\n",
    "    DATA_DIR.joinpath('recipes_sample_with_filled_nsteps.csv'),\n",
    "    sep=',',\n",
    "    usecols=['id', 'name', 'minutes', 'submitted', 'description', 'n_ingredients'],\n",
    "    parse_dates=['submitted']\n",
    ")\n",
    "recipes_df.head()"
   ],
   "metadata": {
    "collapsed": false,
    "pycharm": {
     "name": "#%%\n"
    }
   }
  },
  {
   "cell_type": "markdown",
   "metadata": {},
   "source": [
    "2. Случайным образом выберите 5% строк из каждой таблицы и сохраните две таблицы на разные листы в один файл `recipes.xlsx`. Дайте листам названия \"Рецепты\" и \"Отзывы\", соответствующие содержанию таблиц. "
   ]
  },
  {
   "cell_type": "code",
   "execution_count": 112,
   "outputs": [
    {
     "data": {
      "text/plain": "         user_id  recipe_id       date  rating  \\\n680162   1574800      93426 2010-03-11       5   \n392773    383346     149843 2007-12-26       5   \n141109     28087     441475 2012-04-16       4   \n531388     37636     290253 2008-04-27       4   \n754073    177753      45008 2006-12-27       5   \n...          ...        ...        ...     ...   \n554752    142386      48907 2009-04-22       5   \n355262    579911      92096 2010-01-10       5   \n490863     47559      89834 2006-06-11       5   \n493043    340130     101891 2007-06-11       5   \n1069317    11176      28248 2006-12-14       5   \n\n                                                    review  \n680162   Pretty good when I made it. I definitely thoug...  \n392773   It's delicious and I omitted the nutmeg.  Than...  \n141109   This is the second time I have attempted to ma...  \n531388   When I made this recipe I came to a halt durin...  \n754073   I decided to try this for breakfast this morni...  \n...                                                    ...  \n554752                      Very good. Thanks for posting.  \n355262   I was looking for a rich, thick, slightly swee...  \n490863   My chicken was not quite thawed when I started...  \n493043   This was great and all we added was a bit of l...  \n1069317  Not quite sure how I managed not to make these...  \n\n[6334 rows x 5 columns]",
      "text/html": "<div>\n<style scoped>\n    .dataframe tbody tr th:only-of-type {\n        vertical-align: middle;\n    }\n\n    .dataframe tbody tr th {\n        vertical-align: top;\n    }\n\n    .dataframe thead th {\n        text-align: right;\n    }\n</style>\n<table border=\"1\" class=\"dataframe\">\n  <thead>\n    <tr style=\"text-align: right;\">\n      <th></th>\n      <th>user_id</th>\n      <th>recipe_id</th>\n      <th>date</th>\n      <th>rating</th>\n      <th>review</th>\n    </tr>\n  </thead>\n  <tbody>\n    <tr>\n      <th>680162</th>\n      <td>1574800</td>\n      <td>93426</td>\n      <td>2010-03-11</td>\n      <td>5</td>\n      <td>Pretty good when I made it. I definitely thoug...</td>\n    </tr>\n    <tr>\n      <th>392773</th>\n      <td>383346</td>\n      <td>149843</td>\n      <td>2007-12-26</td>\n      <td>5</td>\n      <td>It's delicious and I omitted the nutmeg.  Than...</td>\n    </tr>\n    <tr>\n      <th>141109</th>\n      <td>28087</td>\n      <td>441475</td>\n      <td>2012-04-16</td>\n      <td>4</td>\n      <td>This is the second time I have attempted to ma...</td>\n    </tr>\n    <tr>\n      <th>531388</th>\n      <td>37636</td>\n      <td>290253</td>\n      <td>2008-04-27</td>\n      <td>4</td>\n      <td>When I made this recipe I came to a halt durin...</td>\n    </tr>\n    <tr>\n      <th>754073</th>\n      <td>177753</td>\n      <td>45008</td>\n      <td>2006-12-27</td>\n      <td>5</td>\n      <td>I decided to try this for breakfast this morni...</td>\n    </tr>\n    <tr>\n      <th>...</th>\n      <td>...</td>\n      <td>...</td>\n      <td>...</td>\n      <td>...</td>\n      <td>...</td>\n    </tr>\n    <tr>\n      <th>554752</th>\n      <td>142386</td>\n      <td>48907</td>\n      <td>2009-04-22</td>\n      <td>5</td>\n      <td>Very good. Thanks for posting.</td>\n    </tr>\n    <tr>\n      <th>355262</th>\n      <td>579911</td>\n      <td>92096</td>\n      <td>2010-01-10</td>\n      <td>5</td>\n      <td>I was looking for a rich, thick, slightly swee...</td>\n    </tr>\n    <tr>\n      <th>490863</th>\n      <td>47559</td>\n      <td>89834</td>\n      <td>2006-06-11</td>\n      <td>5</td>\n      <td>My chicken was not quite thawed when I started...</td>\n    </tr>\n    <tr>\n      <th>493043</th>\n      <td>340130</td>\n      <td>101891</td>\n      <td>2007-06-11</td>\n      <td>5</td>\n      <td>This was great and all we added was a bit of l...</td>\n    </tr>\n    <tr>\n      <th>1069317</th>\n      <td>11176</td>\n      <td>28248</td>\n      <td>2006-12-14</td>\n      <td>5</td>\n      <td>Not quite sure how I managed not to make these...</td>\n    </tr>\n  </tbody>\n</table>\n<p>6334 rows × 5 columns</p>\n</div>"
     },
     "execution_count": 112,
     "metadata": {},
     "output_type": "execute_result"
    }
   ],
   "source": [
    "reviews_sample = reviews_df.sample(int(reviews_df.shape[0] * 0.05))\n",
    "reviews_sample"
   ],
   "metadata": {
    "collapsed": false,
    "pycharm": {
     "name": "#%%\n"
    }
   }
  },
  {
   "cell_type": "code",
   "execution_count": 113,
   "outputs": [
    {
     "data": {
      "text/plain": "                                                    name      id  minutes  \\\n8018                                 crawfish fettuccini   76792       65   \n1263                           asian twist chicken salad   23567       15   \n23583                      savory lemon potatoes for two   75312       40   \n4631                   caramel apple streusel  microwave   95747       17   \n14366                           ice wine infused peaches  179889       25   \n...                                                  ...     ...      ...   \n12934                         grilled mexican style corn   64853       20   \n10230                          easy squeeze honey butter  382927       10   \n22888                                    rock salt roast   45030      140   \n810                        apple and spice bread pudding  421824       55   \n24063  shrimp cocktail  coctel de camarones  dom repu...  232843       10   \n\n       submitted                                        description  \\\n8018  2003-11-17  a friend from thibodaux, louisiana gave me thi...   \n1263  2002-03-28  just a little different. if you like kick add ...   \n23583 2003-11-03                     this of coarse can de doubled!   \n4631  2004-07-16  this is great to pop in the microwave while yo...   \n14366 2006-07-31  from the television show \"man-made food\"  i wa...   \n...          ...                                                ...   \n12934 2003-06-17  this is the best corn on the cob you will ever...   \n10230 2009-07-26  could anything be simpler than this? you might...   \n22888 2002-10-31  i'm told this is one of those recipes that loo...   \n810   2010-04-27  such a delicious old-fashioned dessert - every...   \n24063 2007-06-06         posted for zwt#3\\r\\nfrom caribbean cooking   \n\n       n_ingredients  \n8018            13.0  \n1263             NaN  \n23583            5.0  \n4631             NaN  \n14366            4.0  \n...              ...  \n12934            4.0  \n10230            2.0  \n22888            4.0  \n810             12.0  \n24063            9.0  \n\n[1500 rows x 6 columns]",
      "text/html": "<div>\n<style scoped>\n    .dataframe tbody tr th:only-of-type {\n        vertical-align: middle;\n    }\n\n    .dataframe tbody tr th {\n        vertical-align: top;\n    }\n\n    .dataframe thead th {\n        text-align: right;\n    }\n</style>\n<table border=\"1\" class=\"dataframe\">\n  <thead>\n    <tr style=\"text-align: right;\">\n      <th></th>\n      <th>name</th>\n      <th>id</th>\n      <th>minutes</th>\n      <th>submitted</th>\n      <th>description</th>\n      <th>n_ingredients</th>\n    </tr>\n  </thead>\n  <tbody>\n    <tr>\n      <th>8018</th>\n      <td>crawfish fettuccini</td>\n      <td>76792</td>\n      <td>65</td>\n      <td>2003-11-17</td>\n      <td>a friend from thibodaux, louisiana gave me thi...</td>\n      <td>13.0</td>\n    </tr>\n    <tr>\n      <th>1263</th>\n      <td>asian twist chicken salad</td>\n      <td>23567</td>\n      <td>15</td>\n      <td>2002-03-28</td>\n      <td>just a little different. if you like kick add ...</td>\n      <td>NaN</td>\n    </tr>\n    <tr>\n      <th>23583</th>\n      <td>savory lemon potatoes for two</td>\n      <td>75312</td>\n      <td>40</td>\n      <td>2003-11-03</td>\n      <td>this of coarse can de doubled!</td>\n      <td>5.0</td>\n    </tr>\n    <tr>\n      <th>4631</th>\n      <td>caramel apple streusel  microwave</td>\n      <td>95747</td>\n      <td>17</td>\n      <td>2004-07-16</td>\n      <td>this is great to pop in the microwave while yo...</td>\n      <td>NaN</td>\n    </tr>\n    <tr>\n      <th>14366</th>\n      <td>ice wine infused peaches</td>\n      <td>179889</td>\n      <td>25</td>\n      <td>2006-07-31</td>\n      <td>from the television show \"man-made food\"  i wa...</td>\n      <td>4.0</td>\n    </tr>\n    <tr>\n      <th>...</th>\n      <td>...</td>\n      <td>...</td>\n      <td>...</td>\n      <td>...</td>\n      <td>...</td>\n      <td>...</td>\n    </tr>\n    <tr>\n      <th>12934</th>\n      <td>grilled mexican style corn</td>\n      <td>64853</td>\n      <td>20</td>\n      <td>2003-06-17</td>\n      <td>this is the best corn on the cob you will ever...</td>\n      <td>4.0</td>\n    </tr>\n    <tr>\n      <th>10230</th>\n      <td>easy squeeze honey butter</td>\n      <td>382927</td>\n      <td>10</td>\n      <td>2009-07-26</td>\n      <td>could anything be simpler than this? you might...</td>\n      <td>2.0</td>\n    </tr>\n    <tr>\n      <th>22888</th>\n      <td>rock salt roast</td>\n      <td>45030</td>\n      <td>140</td>\n      <td>2002-10-31</td>\n      <td>i'm told this is one of those recipes that loo...</td>\n      <td>4.0</td>\n    </tr>\n    <tr>\n      <th>810</th>\n      <td>apple and spice bread pudding</td>\n      <td>421824</td>\n      <td>55</td>\n      <td>2010-04-27</td>\n      <td>such a delicious old-fashioned dessert - every...</td>\n      <td>12.0</td>\n    </tr>\n    <tr>\n      <th>24063</th>\n      <td>shrimp cocktail  coctel de camarones  dom repu...</td>\n      <td>232843</td>\n      <td>10</td>\n      <td>2007-06-06</td>\n      <td>posted for zwt#3\\r\\nfrom caribbean cooking</td>\n      <td>9.0</td>\n    </tr>\n  </tbody>\n</table>\n<p>1500 rows × 6 columns</p>\n</div>"
     },
     "execution_count": 113,
     "metadata": {},
     "output_type": "execute_result"
    }
   ],
   "source": [
    "recipes_sample = recipes_df.sample(int(recipes_df.shape[0] * 0.05))\n",
    "recipes_sample"
   ],
   "metadata": {
    "collapsed": false,
    "pycharm": {
     "name": "#%%\n"
    }
   }
  },
  {
   "cell_type": "code",
   "execution_count": 114,
   "outputs": [
    {
     "ename": "IllegalCharacterError",
     "evalue": "",
     "output_type": "error",
     "traceback": [
      "\u001B[1;31m---------------------------------------------------------------------------\u001B[0m",
      "\u001B[1;31mIllegalCharacterError\u001B[0m                     Traceback (most recent call last)",
      "\u001B[1;32m~\\AppData\\Local\\Temp/ipykernel_16956/2074581417.py\u001B[0m in \u001B[0;36m<module>\u001B[1;34m\u001B[0m\n\u001B[0;32m      1\u001B[0m \u001B[1;32mwith\u001B[0m \u001B[0mpd\u001B[0m\u001B[1;33m.\u001B[0m\u001B[0mExcelWriter\u001B[0m\u001B[1;33m(\u001B[0m\u001B[0mOUTPUT_DIR\u001B[0m\u001B[1;33m.\u001B[0m\u001B[0mjoinpath\u001B[0m\u001B[1;33m(\u001B[0m\u001B[1;34m'recipes.xlsx'\u001B[0m\u001B[1;33m)\u001B[0m\u001B[1;33m)\u001B[0m \u001B[1;32mas\u001B[0m \u001B[0mwriter\u001B[0m\u001B[1;33m:\u001B[0m\u001B[1;33m\u001B[0m\u001B[1;33m\u001B[0m\u001B[0m\n\u001B[0;32m      2\u001B[0m     \u001B[0mreviews_sample\u001B[0m\u001B[1;33m.\u001B[0m\u001B[0mto_excel\u001B[0m\u001B[1;33m(\u001B[0m\u001B[0mwriter\u001B[0m\u001B[1;33m,\u001B[0m \u001B[0msheet_name\u001B[0m\u001B[1;33m=\u001B[0m\u001B[1;34m'Отзывы'\u001B[0m\u001B[1;33m,\u001B[0m \u001B[0mindex\u001B[0m\u001B[1;33m=\u001B[0m\u001B[1;32mFalse\u001B[0m\u001B[1;33m)\u001B[0m\u001B[1;33m\u001B[0m\u001B[1;33m\u001B[0m\u001B[0m\n\u001B[1;32m----> 3\u001B[1;33m     \u001B[0mrecipes_sample\u001B[0m\u001B[1;33m.\u001B[0m\u001B[0mto_excel\u001B[0m\u001B[1;33m(\u001B[0m\u001B[0mwriter\u001B[0m\u001B[1;33m,\u001B[0m \u001B[0msheet_name\u001B[0m\u001B[1;33m=\u001B[0m\u001B[1;34m'Рецепты'\u001B[0m\u001B[1;33m,\u001B[0m \u001B[0mindex\u001B[0m\u001B[1;33m=\u001B[0m\u001B[1;32mFalse\u001B[0m\u001B[1;33m)\u001B[0m\u001B[1;33m\u001B[0m\u001B[1;33m\u001B[0m\u001B[0m\n\u001B[0m\u001B[0;32m      4\u001B[0m \u001B[1;33m\u001B[0m\u001B[0m\n",
      "\u001B[1;32mD:\\IT\\Coding\\GitHub Projects\\My-University\\III Курс\\(python) Технологии обработки больших данных\\venv\\lib\\site-packages\\pandas\\core\\generic.py\u001B[0m in \u001B[0;36mto_excel\u001B[1;34m(self, excel_writer, sheet_name, na_rep, float_format, columns, header, index, index_label, startrow, startcol, engine, merge_cells, encoding, inf_rep, verbose, freeze_panes, storage_options)\u001B[0m\n\u001B[0;32m   2282\u001B[0m             \u001B[0minf_rep\u001B[0m\u001B[1;33m=\u001B[0m\u001B[0minf_rep\u001B[0m\u001B[1;33m,\u001B[0m\u001B[1;33m\u001B[0m\u001B[1;33m\u001B[0m\u001B[0m\n\u001B[0;32m   2283\u001B[0m         )\n\u001B[1;32m-> 2284\u001B[1;33m         formatter.write(\n\u001B[0m\u001B[0;32m   2285\u001B[0m             \u001B[0mexcel_writer\u001B[0m\u001B[1;33m,\u001B[0m\u001B[1;33m\u001B[0m\u001B[1;33m\u001B[0m\u001B[0m\n\u001B[0;32m   2286\u001B[0m             \u001B[0msheet_name\u001B[0m\u001B[1;33m=\u001B[0m\u001B[0msheet_name\u001B[0m\u001B[1;33m,\u001B[0m\u001B[1;33m\u001B[0m\u001B[1;33m\u001B[0m\u001B[0m\n",
      "\u001B[1;32mD:\\IT\\Coding\\GitHub Projects\\My-University\\III Курс\\(python) Технологии обработки больших данных\\venv\\lib\\site-packages\\pandas\\io\\formats\\excel.py\u001B[0m in \u001B[0;36mwrite\u001B[1;34m(self, writer, sheet_name, startrow, startcol, freeze_panes, engine, storage_options)\u001B[0m\n\u001B[0;32m    838\u001B[0m \u001B[1;33m\u001B[0m\u001B[0m\n\u001B[0;32m    839\u001B[0m         \u001B[1;32mtry\u001B[0m\u001B[1;33m:\u001B[0m\u001B[1;33m\u001B[0m\u001B[1;33m\u001B[0m\u001B[0m\n\u001B[1;32m--> 840\u001B[1;33m             writer.write_cells(\n\u001B[0m\u001B[0;32m    841\u001B[0m                 \u001B[0mformatted_cells\u001B[0m\u001B[1;33m,\u001B[0m\u001B[1;33m\u001B[0m\u001B[1;33m\u001B[0m\u001B[0m\n\u001B[0;32m    842\u001B[0m                 \u001B[0msheet_name\u001B[0m\u001B[1;33m,\u001B[0m\u001B[1;33m\u001B[0m\u001B[1;33m\u001B[0m\u001B[0m\n",
      "\u001B[1;32mD:\\IT\\Coding\\GitHub Projects\\My-University\\III Курс\\(python) Технологии обработки больших данных\\venv\\lib\\site-packages\\pandas\\io\\excel\\_openpyxl.py\u001B[0m in \u001B[0;36mwrite_cells\u001B[1;34m(self, cells, sheet_name, startrow, startcol, freeze_panes)\u001B[0m\n\u001B[0;32m    459\u001B[0m                 \u001B[0mrow\u001B[0m\u001B[1;33m=\u001B[0m\u001B[0mstartrow\u001B[0m \u001B[1;33m+\u001B[0m \u001B[0mcell\u001B[0m\u001B[1;33m.\u001B[0m\u001B[0mrow\u001B[0m \u001B[1;33m+\u001B[0m \u001B[1;36m1\u001B[0m\u001B[1;33m,\u001B[0m \u001B[0mcolumn\u001B[0m\u001B[1;33m=\u001B[0m\u001B[0mstartcol\u001B[0m \u001B[1;33m+\u001B[0m \u001B[0mcell\u001B[0m\u001B[1;33m.\u001B[0m\u001B[0mcol\u001B[0m \u001B[1;33m+\u001B[0m \u001B[1;36m1\u001B[0m\u001B[1;33m\u001B[0m\u001B[1;33m\u001B[0m\u001B[0m\n\u001B[0;32m    460\u001B[0m             )\n\u001B[1;32m--> 461\u001B[1;33m             \u001B[0mxcell\u001B[0m\u001B[1;33m.\u001B[0m\u001B[0mvalue\u001B[0m\u001B[1;33m,\u001B[0m \u001B[0mfmt\u001B[0m \u001B[1;33m=\u001B[0m \u001B[0mself\u001B[0m\u001B[1;33m.\u001B[0m\u001B[0m_value_with_fmt\u001B[0m\u001B[1;33m(\u001B[0m\u001B[0mcell\u001B[0m\u001B[1;33m.\u001B[0m\u001B[0mval\u001B[0m\u001B[1;33m)\u001B[0m\u001B[1;33m\u001B[0m\u001B[1;33m\u001B[0m\u001B[0m\n\u001B[0m\u001B[0;32m    462\u001B[0m             \u001B[1;32mif\u001B[0m \u001B[0mfmt\u001B[0m\u001B[1;33m:\u001B[0m\u001B[1;33m\u001B[0m\u001B[1;33m\u001B[0m\u001B[0m\n\u001B[0;32m    463\u001B[0m                 \u001B[0mxcell\u001B[0m\u001B[1;33m.\u001B[0m\u001B[0mnumber_format\u001B[0m \u001B[1;33m=\u001B[0m \u001B[0mfmt\u001B[0m\u001B[1;33m\u001B[0m\u001B[1;33m\u001B[0m\u001B[0m\n",
      "\u001B[1;32mD:\\IT\\Coding\\GitHub Projects\\My-University\\III Курс\\(python) Технологии обработки больших данных\\venv\\lib\\site-packages\\openpyxl\\cell\\cell.py\u001B[0m in \u001B[0;36mvalue\u001B[1;34m(self, value)\u001B[0m\n\u001B[0;32m    213\u001B[0m     \u001B[1;32mdef\u001B[0m \u001B[0mvalue\u001B[0m\u001B[1;33m(\u001B[0m\u001B[0mself\u001B[0m\u001B[1;33m,\u001B[0m \u001B[0mvalue\u001B[0m\u001B[1;33m)\u001B[0m\u001B[1;33m:\u001B[0m\u001B[1;33m\u001B[0m\u001B[1;33m\u001B[0m\u001B[0m\n\u001B[0;32m    214\u001B[0m         \u001B[1;34m\"\"\"Set the value and infer type and display options.\"\"\"\u001B[0m\u001B[1;33m\u001B[0m\u001B[1;33m\u001B[0m\u001B[0m\n\u001B[1;32m--> 215\u001B[1;33m         \u001B[0mself\u001B[0m\u001B[1;33m.\u001B[0m\u001B[0m_bind_value\u001B[0m\u001B[1;33m(\u001B[0m\u001B[0mvalue\u001B[0m\u001B[1;33m)\u001B[0m\u001B[1;33m\u001B[0m\u001B[1;33m\u001B[0m\u001B[0m\n\u001B[0m\u001B[0;32m    216\u001B[0m \u001B[1;33m\u001B[0m\u001B[0m\n\u001B[0;32m    217\u001B[0m     \u001B[1;33m@\u001B[0m\u001B[0mproperty\u001B[0m\u001B[1;33m\u001B[0m\u001B[1;33m\u001B[0m\u001B[0m\n",
      "\u001B[1;32mD:\\IT\\Coding\\GitHub Projects\\My-University\\III Курс\\(python) Технологии обработки больших данных\\venv\\lib\\site-packages\\openpyxl\\cell\\cell.py\u001B[0m in \u001B[0;36m_bind_value\u001B[1;34m(self, value)\u001B[0m\n\u001B[0;32m    192\u001B[0m \u001B[1;33m\u001B[0m\u001B[0m\n\u001B[0;32m    193\u001B[0m         \u001B[1;32melif\u001B[0m \u001B[0mdt\u001B[0m \u001B[1;33m==\u001B[0m \u001B[1;34m\"s\"\u001B[0m\u001B[1;33m:\u001B[0m\u001B[1;33m\u001B[0m\u001B[1;33m\u001B[0m\u001B[0m\n\u001B[1;32m--> 194\u001B[1;33m             \u001B[0mvalue\u001B[0m \u001B[1;33m=\u001B[0m \u001B[0mself\u001B[0m\u001B[1;33m.\u001B[0m\u001B[0mcheck_string\u001B[0m\u001B[1;33m(\u001B[0m\u001B[0mvalue\u001B[0m\u001B[1;33m)\u001B[0m\u001B[1;33m\u001B[0m\u001B[1;33m\u001B[0m\u001B[0m\n\u001B[0m\u001B[0;32m    195\u001B[0m             \u001B[1;32mif\u001B[0m \u001B[0mlen\u001B[0m\u001B[1;33m(\u001B[0m\u001B[0mvalue\u001B[0m\u001B[1;33m)\u001B[0m \u001B[1;33m>\u001B[0m \u001B[1;36m1\u001B[0m \u001B[1;32mand\u001B[0m \u001B[0mvalue\u001B[0m\u001B[1;33m.\u001B[0m\u001B[0mstartswith\u001B[0m\u001B[1;33m(\u001B[0m\u001B[1;34m\"=\"\u001B[0m\u001B[1;33m)\u001B[0m\u001B[1;33m:\u001B[0m\u001B[1;33m\u001B[0m\u001B[1;33m\u001B[0m\u001B[0m\n\u001B[0;32m    196\u001B[0m                 \u001B[0mself\u001B[0m\u001B[1;33m.\u001B[0m\u001B[0mdata_type\u001B[0m \u001B[1;33m=\u001B[0m \u001B[1;34m'f'\u001B[0m\u001B[1;33m\u001B[0m\u001B[1;33m\u001B[0m\u001B[0m\n",
      "\u001B[1;32mD:\\IT\\Coding\\GitHub Projects\\My-University\\III Курс\\(python) Технологии обработки больших данных\\venv\\lib\\site-packages\\openpyxl\\cell\\cell.py\u001B[0m in \u001B[0;36mcheck_string\u001B[1;34m(self, value)\u001B[0m\n\u001B[0;32m    160\u001B[0m         \u001B[0mvalue\u001B[0m \u001B[1;33m=\u001B[0m \u001B[0mvalue\u001B[0m\u001B[1;33m[\u001B[0m\u001B[1;33m:\u001B[0m\u001B[1;36m32767\u001B[0m\u001B[1;33m]\u001B[0m\u001B[1;33m\u001B[0m\u001B[1;33m\u001B[0m\u001B[0m\n\u001B[0;32m    161\u001B[0m         \u001B[1;32mif\u001B[0m \u001B[0mnext\u001B[0m\u001B[1;33m(\u001B[0m\u001B[0mILLEGAL_CHARACTERS_RE\u001B[0m\u001B[1;33m.\u001B[0m\u001B[0mfinditer\u001B[0m\u001B[1;33m(\u001B[0m\u001B[0mvalue\u001B[0m\u001B[1;33m)\u001B[0m\u001B[1;33m,\u001B[0m \u001B[1;32mNone\u001B[0m\u001B[1;33m)\u001B[0m\u001B[1;33m:\u001B[0m\u001B[1;33m\u001B[0m\u001B[1;33m\u001B[0m\u001B[0m\n\u001B[1;32m--> 162\u001B[1;33m             \u001B[1;32mraise\u001B[0m \u001B[0mIllegalCharacterError\u001B[0m\u001B[1;33m\u001B[0m\u001B[1;33m\u001B[0m\u001B[0m\n\u001B[0m\u001B[0;32m    163\u001B[0m         \u001B[1;32mreturn\u001B[0m \u001B[0mvalue\u001B[0m\u001B[1;33m\u001B[0m\u001B[1;33m\u001B[0m\u001B[0m\n\u001B[0;32m    164\u001B[0m \u001B[1;33m\u001B[0m\u001B[0m\n",
      "\u001B[1;31mIllegalCharacterError\u001B[0m: "
     ]
    }
   ],
   "source": [
    "with pd.ExcelWriter(OUTPUT_DIR.joinpath('recipes.xlsx')) as writer:\n",
    "    reviews_sample.to_excel(writer, sheet_name='Отзывы', index=False)\n",
    "    recipes_sample.to_excel(writer, sheet_name='Рецепты', index=False)"
   ],
   "metadata": {
    "collapsed": false,
    "pycharm": {
     "name": "#%%\n"
    }
   }
  },
  {
   "cell_type": "markdown",
   "metadata": {},
   "source": [
    "3. Используя `xlwings`, добавьте на лист `Рецепты` столбец `seconds_assign`, показывающий время выполнения рецепта в секундах. Выполните задание при помощи присваивания массива значений диапазону ячеек."
   ]
  },
  {
   "cell_type": "code",
   "execution_count": 137,
   "outputs": [],
   "source": [
    "wb = xw.Book(OUTPUT_DIR.joinpath('recipes.xlsx'))"
   ],
   "metadata": {
    "collapsed": false,
    "pycharm": {
     "name": "#%%\n"
    }
   }
  },
  {
   "cell_type": "code",
   "execution_count": 138,
   "outputs": [],
   "source": [
    "sheet = wb.sheets['Рецепты']"
   ],
   "metadata": {
    "collapsed": false,
    "pycharm": {
     "name": "#%%\n"
    }
   }
  },
  {
   "cell_type": "code",
   "execution_count": 139,
   "outputs": [],
   "source": [
    "seconds_assign = (recipes_sample['minutes'] * 60).rename('seconds_assign')\n",
    "cell = (1, sheet.range('A1').expand('right').shape[1] + 1)\n",
    "sheet.range(cell).options(index=False).value = seconds_assign\n",
    "format_header(cell)"
   ],
   "metadata": {
    "collapsed": false,
    "pycharm": {
     "name": "#%%\n"
    }
   }
  },
  {
   "cell_type": "markdown",
   "metadata": {},
   "source": [
    "4. Используя `xlwings`, добавьте на лист `Рецепты` столбец `seconds_formula`, показывающий время выполнения рецепта в секундах. Выполните задание при помощи формул Excel."
   ]
  },
  {
   "cell_type": "code",
   "execution_count": 140,
   "outputs": [],
   "source": [
    "seconds_formula = '=C2 * 60'\n",
    "col_idx = sheet.range('A1').expand('right').shape[1] + 1\n",
    "sheet.range(1, col_idx).value = 'seconds_formula'\n",
    "sheet.range((2, col_idx), (sheet.range('A1').expand('down').shape[0], col_idx)).formula = seconds_formula\n",
    "format_header((1, col_idx))"
   ],
   "metadata": {
    "collapsed": false,
    "pycharm": {
     "name": "#%%\n"
    }
   }
  },
  {
   "cell_type": "markdown",
   "metadata": {},
   "source": [
    "5. Добавьте на лист `Рецепты`  столбец `n_reviews`, содержащий кол-во отзывов для этого рецепта. Выполните задание при помощи формул Excel."
   ]
  },
  {
   "cell_type": "code",
   "execution_count": null,
   "outputs": [],
   "source": [
    "formula = '=COUNTIF(B2=B2)'  # чем я занимаюсь -_- ?????????????????????????????????????????????????????????????????????????????????????????????????????????????????????????????????????????????????????????????????????????????????????????????????????????????????????????????"
   ],
   "metadata": {
    "collapsed": false,
    "pycharm": {
     "name": "#%%\n"
    }
   }
  },
  {
   "cell_type": "code",
   "execution_count": 142,
   "outputs": [
    {
     "data": {
      "text/plain": "{378,\n 2519,\n 4150,\n 5418,\n 8468,\n 8962,\n 10443,\n 10869,\n 11538,\n 15012,\n 15060,\n 15389,\n 15839,\n 22125,\n 22203,\n 22390,\n 22915,\n 23705,\n 23873,\n 24094,\n 24604,\n 24616,\n 24638,\n 27081,\n 28848,\n 29251,\n 31135,\n 32973,\n 33102,\n 35287,\n 37362,\n 38249,\n 42076,\n 45977,\n 47597,\n 47666,\n 48031,\n 49200,\n 49896,\n 52035,\n 54800,\n 54875,\n 55706,\n 56864,\n 58495,\n 59386,\n 61088,\n 61755,\n 64816,\n 67570,\n 68004,\n 68063,\n 68512,\n 69768,\n 72139,\n 73219,\n 78896,\n 81319,\n 82221,\n 83061,\n 83222,\n 85336,\n 90246,\n 90516,\n 91011,\n 95747,\n 95891,\n 98950,\n 103175,\n 103732,\n 104074,\n 104270,\n 107871,\n 108302,\n 108354,\n 108605,\n 110825,\n 113385,\n 115753,\n 116887,\n 117060,\n 118743,\n 122725,\n 123415,\n 123490,\n 123503,\n 123863,\n 133815,\n 135210,\n 135339,\n 135350,\n 136548,\n 138031,\n 141906,\n 142388,\n 146325,\n 154267,\n 156169,\n 156572,\n 156925,\n 158588,\n 161373,\n 162185,\n 162661,\n 165988,\n 167341,\n 168032,\n 168785,\n 172267,\n 173742,\n 174095,\n 174503,\n 175540,\n 176199,\n 179476,\n 187306,\n 188204,\n 191866,\n 195254,\n 195632,\n 204812,\n 205777,\n 212404,\n 213215,\n 214713,\n 218429,\n 222684,\n 224566,\n 226450,\n 231222,\n 238298,\n 239074,\n 243713,\n 244828,\n 254384,\n 255378,\n 255572,\n 257766,\n 264604,\n 264712,\n 264839,\n 266104,\n 267197,\n 273976,\n 277843,\n 284535,\n 287950,\n 289786,\n 291184,\n 292166,\n 292433,\n 292646,\n 295761,\n 299883,\n 313452,\n 313613,\n 324518,\n 325612,\n 329138,\n 329684,\n 331100,\n 338611,\n 340957,\n 341753,\n 342070,\n 343581,\n 347055,\n 355415,\n 355732,\n 360507,\n 363277,\n 371445,\n 379634,\n 380612,\n 382927,\n 384303,\n 385595,\n 386529,\n 397689,\n 402061,\n 404130,\n 405535,\n 407694,\n 408973,\n 409263,\n 420883,\n 430468,\n 435118,\n 441477,\n 454397,\n 455496,\n 459131,\n 478156,\n 482406,\n 491126,\n 494131,\n 503830,\n 505936,\n 533575}"
     },
     "execution_count": 142,
     "metadata": {},
     "output_type": "execute_result"
    }
   ],
   "source": [
    "set(recipes_sample['id'].unique()) & set(reviews_sample['recipe_id'].unique())"
   ],
   "metadata": {
    "collapsed": false,
    "pycharm": {
     "name": "#%%\n"
    }
   }
  },
  {
   "cell_type": "markdown",
   "metadata": {},
   "source": [
    "6. Сделайте названия всех добавленных столбцов полужирными и выровняйте по центру ячейки."
   ]
  },
  {
   "cell_type": "markdown",
   "metadata": {},
   "source": [
    "7. Раскрасьте ячейки столбца `minutes` в соответствии со следующим правилом: если рецепт выполняется быстрее 5 минут, то цвет - зеленый; от 5 до 10 минут - жёлтый; и больше 10 - красный."
   ]
  },
  {
   "cell_type": "markdown",
   "metadata": {},
   "source": [
    "8. Напишите функцию `validate()`, которая проверяет соответствие всех строк из листа `Отзывы` следующим правилам:\n",
    "    * Рейтинг - это число от 0 до 5 включительно\n",
    "    * Соответствующий рецепт имеется на листе `Рецепты`\n",
    "    \n",
    "В случае несоответствия этим правилам, выделите строку красным цветом"
   ]
  },
  {
   "cell_type": "code",
   "execution_count": null,
   "metadata": {},
   "outputs": [],
   "source": []
  }
 ],
 "metadata": {
  "kernelspec": {
   "display_name": "Python 3",
   "language": "python",
   "name": "python3"
  },
  "language_info": {
   "codemirror_mode": {
    "name": "ipython",
    "version": 3
   },
   "file_extension": ".py",
   "mimetype": "text/x-python",
   "name": "python",
   "nbconvert_exporter": "python",
   "pygments_lexer": "ipython3",
   "version": "3.8.5"
  }
 },
 "nbformat": 4,
 "nbformat_minor": 4
}