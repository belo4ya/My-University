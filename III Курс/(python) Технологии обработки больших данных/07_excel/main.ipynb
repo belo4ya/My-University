{
 "cells": [
  {
   "cell_type": "markdown",
   "metadata": {},
   "source": [
    "# Работа с Excel"
   ]
  },
  {
   "cell_type": "markdown",
   "metadata": {},
   "source": [
    "Материалы:\n",
    "* Макрушин С.В. Лекция 7: Работа с Excel\n",
    "* https://docs.xlwings.org/en/stable/quickstart.html\n",
    "* https://nbviewer.jupyter.org/github/pybokeh/jupyter_notebooks/blob/master/xlwings/Excel_Formatting.ipynb#search_text\n"
   ]
  },
  {
   "cell_type": "code",
   "execution_count": 13,
   "outputs": [],
   "source": [
    "import xlwings as xw\n",
    "import pandas as pd\n",
    "from pathlib import Path"
   ],
   "metadata": {
    "collapsed": false,
    "pycharm": {
     "name": "#%%\n"
    }
   }
  },
  {
   "cell_type": "code",
   "execution_count": 14,
   "outputs": [],
   "source": [
    "DATA_DIR = Path('data/')\n",
    "OUTPUT_DIR = DATA_DIR.joinpath('output')"
   ],
   "metadata": {
    "collapsed": false,
    "pycharm": {
     "name": "#%%\n"
    }
   }
  },
  {
   "cell_type": "markdown",
   "metadata": {},
   "source": [
    "## Задачи для совместного разбора"
   ]
  },
  {
   "cell_type": "markdown",
   "metadata": {},
   "source": [
    "1. На листе \"Рецептура\" файла `себестоимостьА_в1.xlsx` для области \"Пшеничный хлеб\" рассчитать себестоимость всех видов продукции."
   ]
  },
  {
   "cell_type": "markdown",
   "metadata": {},
   "source": [
    "2. Результаты расчетов 1.1 сохранить в отдельном столбце области \"Пшеничный хлеб\""
   ]
  },
  {
   "cell_type": "markdown",
   "metadata": {},
   "source": [
    "3. Приблизить форматирование столбца, добавленного в задаче 2 к оформлению всей области."
   ]
  },
  {
   "cell_type": "markdown",
   "metadata": {},
   "source": [
    "4. Выполнить 3 с помощью \"протягиваемых\" формул."
   ]
  },
  {
   "cell_type": "markdown",
   "metadata": {},
   "source": [
    "## Лабораторная работа 7"
   ]
  },
  {
   "cell_type": "markdown",
   "metadata": {},
   "source": [
    "1. Загрузите данные из файлов `reviews_sample.csv` (__ЛР2__) и `recipes_sample_with_tags_ingredients.csv` (__ЛР5__) в виде `pd.DataFrame`. Обратите внимание на корректное считывание столбца(ов) с индексами. Оставьте в таблице с рецептами следующие столбцы: `id`, `name`, `minutes`, `submitted`, `description`, `n_ingredients`"
   ]
  },
  {
   "cell_type": "code",
   "execution_count": 32,
   "outputs": [
    {
     "data": {
      "text/plain": "           user_id  recipe_id       date  rating  \\\n370476       21752      57993 2003-05-01       5   \n624300      431813     142201 2007-09-16       5   \n187037      400708     252013 2008-01-10       4   \n706134  2001852463     404716 2017-12-11       5   \n312179       95810     129396 2008-03-14       5   \n\n                                                   review  \n370476  Last week whole sides of frozen salmon fillet ...  \n624300  So simple and so tasty!  I used a yellow capsi...  \n187037  Very nice breakfast HH, easy to make and yummy...  \n706134  These are a favorite for the holidays and so e...  \n312179  Excellent soup!  The tomato flavor is just gre...  ",
      "text/html": "<div>\n<style scoped>\n    .dataframe tbody tr th:only-of-type {\n        vertical-align: middle;\n    }\n\n    .dataframe tbody tr th {\n        vertical-align: top;\n    }\n\n    .dataframe thead th {\n        text-align: right;\n    }\n</style>\n<table border=\"1\" class=\"dataframe\">\n  <thead>\n    <tr style=\"text-align: right;\">\n      <th></th>\n      <th>user_id</th>\n      <th>recipe_id</th>\n      <th>date</th>\n      <th>rating</th>\n      <th>review</th>\n    </tr>\n  </thead>\n  <tbody>\n    <tr>\n      <th>370476</th>\n      <td>21752</td>\n      <td>57993</td>\n      <td>2003-05-01</td>\n      <td>5</td>\n      <td>Last week whole sides of frozen salmon fillet ...</td>\n    </tr>\n    <tr>\n      <th>624300</th>\n      <td>431813</td>\n      <td>142201</td>\n      <td>2007-09-16</td>\n      <td>5</td>\n      <td>So simple and so tasty!  I used a yellow capsi...</td>\n    </tr>\n    <tr>\n      <th>187037</th>\n      <td>400708</td>\n      <td>252013</td>\n      <td>2008-01-10</td>\n      <td>4</td>\n      <td>Very nice breakfast HH, easy to make and yummy...</td>\n    </tr>\n    <tr>\n      <th>706134</th>\n      <td>2001852463</td>\n      <td>404716</td>\n      <td>2017-12-11</td>\n      <td>5</td>\n      <td>These are a favorite for the holidays and so e...</td>\n    </tr>\n    <tr>\n      <th>312179</th>\n      <td>95810</td>\n      <td>129396</td>\n      <td>2008-03-14</td>\n      <td>5</td>\n      <td>Excellent soup!  The tomato flavor is just gre...</td>\n    </tr>\n  </tbody>\n</table>\n</div>"
     },
     "execution_count": 32,
     "metadata": {},
     "output_type": "execute_result"
    }
   ],
   "source": [
    "reviews_df = pd.read_csv(\n",
    "    DATA_DIR.joinpath('reviews_sample.csv'),\n",
    "    sep=',',\n",
    "    index_col=0,\n",
    "    parse_dates=['date']\n",
    ")\n",
    "reviews_df.head()"
   ],
   "metadata": {
    "collapsed": false,
    "pycharm": {
     "name": "#%%\n"
    }
   }
  },
  {
   "cell_type": "code",
   "execution_count": 33,
   "outputs": [
    {
     "data": {
      "text/plain": "                                       name     id  minutes  submitted  \\\n0     george s at the cove  black bean soup  44123       90 2002-10-25   \n1        healthy for them  yogurt popsicles  67664       10 2003-07-26   \n2              i can t believe it s spinach  38798       30 2002-08-29   \n3                      italian  gut busters  35173       45 2002-07-27   \n4  love is in the air  beef fondue   sauces  84797       25 2004-02-23   \n\n                                         description  n_ingredients  \n0  an original recipe created by chef scott meska...           18.0  \n1  my children and their friends ask for my homem...            NaN  \n2            these were so go, it surprised even me.            8.0  \n3  my sister-in-law made these for us at a family...            NaN  \n4  i think a fondue is a very romantic casual din...            NaN  ",
      "text/html": "<div>\n<style scoped>\n    .dataframe tbody tr th:only-of-type {\n        vertical-align: middle;\n    }\n\n    .dataframe tbody tr th {\n        vertical-align: top;\n    }\n\n    .dataframe thead th {\n        text-align: right;\n    }\n</style>\n<table border=\"1\" class=\"dataframe\">\n  <thead>\n    <tr style=\"text-align: right;\">\n      <th></th>\n      <th>name</th>\n      <th>id</th>\n      <th>minutes</th>\n      <th>submitted</th>\n      <th>description</th>\n      <th>n_ingredients</th>\n    </tr>\n  </thead>\n  <tbody>\n    <tr>\n      <th>0</th>\n      <td>george s at the cove  black bean soup</td>\n      <td>44123</td>\n      <td>90</td>\n      <td>2002-10-25</td>\n      <td>an original recipe created by chef scott meska...</td>\n      <td>18.0</td>\n    </tr>\n    <tr>\n      <th>1</th>\n      <td>healthy for them  yogurt popsicles</td>\n      <td>67664</td>\n      <td>10</td>\n      <td>2003-07-26</td>\n      <td>my children and their friends ask for my homem...</td>\n      <td>NaN</td>\n    </tr>\n    <tr>\n      <th>2</th>\n      <td>i can t believe it s spinach</td>\n      <td>38798</td>\n      <td>30</td>\n      <td>2002-08-29</td>\n      <td>these were so go, it surprised even me.</td>\n      <td>8.0</td>\n    </tr>\n    <tr>\n      <th>3</th>\n      <td>italian  gut busters</td>\n      <td>35173</td>\n      <td>45</td>\n      <td>2002-07-27</td>\n      <td>my sister-in-law made these for us at a family...</td>\n      <td>NaN</td>\n    </tr>\n    <tr>\n      <th>4</th>\n      <td>love is in the air  beef fondue   sauces</td>\n      <td>84797</td>\n      <td>25</td>\n      <td>2004-02-23</td>\n      <td>i think a fondue is a very romantic casual din...</td>\n      <td>NaN</td>\n    </tr>\n  </tbody>\n</table>\n</div>"
     },
     "execution_count": 33,
     "metadata": {},
     "output_type": "execute_result"
    }
   ],
   "source": [
    "recipes_df = pd.read_csv(\n",
    "    DATA_DIR.joinpath('recipes_sample_with_filled_nsteps.csv'),\n",
    "    sep=',',\n",
    "    usecols=['id', 'name', 'minutes', 'submitted', 'description', 'n_ingredients'],\n",
    "    parse_dates=['submitted']\n",
    ")\n",
    "recipes_df.head()"
   ],
   "metadata": {
    "collapsed": false,
    "pycharm": {
     "name": "#%%\n"
    }
   }
  },
  {
   "cell_type": "markdown",
   "metadata": {},
   "source": [
    "2. Случайным образом выберите 5% строк из каждой таблицы и сохраните две таблицы на разные листы в один файл `recipes.xlsx`. Дайте листам названия \"Рецепты\" и \"Отзывы\", соответствующие содержанию таблиц. "
   ]
  },
  {
   "cell_type": "code",
   "execution_count": 34,
   "outputs": [
    {
     "data": {
      "text/plain": "         user_id  recipe_id       date  rating  \\\n483664    239758     171514 2008-07-11       5   \n95417     229850      85452 2008-12-14       3   \n575875    466424      15242 2009-02-19       4   \n1057310    86512      33226 2003-11-12       4   \n1059086   275438      82288 2006-10-27       5   \n...          ...        ...        ...     ...   \n608831    173838      18897 2005-04-05       5   \n656965    937735      27208 2009-09-14       5   \n351059    580030      16531 2008-07-14       2   \n315962    573325     458164 2011-10-08       5   \n1085493  2146080     335405 2012-10-02       5   \n\n                                                    review  \n483664   My work colleagues call me the Queen of Dips, ...  \n95417    I'm so sorry, this was really bland to us, not...  \n575875   Delicious, though I definitely prefer cream of...  \n1057310      This was really good! I used canned chicke...  \n1059086  This recipe was great!! My husband was really ...  \n...                                                    ...  \n608831   Yummy, with a little spicy kick!  Great with h...  \n656965   WOW! I have no words for this. YUM. Only had i...  \n351059   This really did not taste good to me. I think ...  \n315962   WOW, this pie is AWESOME!!!! It works out so w...  \n1085493  Made this last night, it was so good my 4 year...  \n\n[6334 rows x 5 columns]",
      "text/html": "<div>\n<style scoped>\n    .dataframe tbody tr th:only-of-type {\n        vertical-align: middle;\n    }\n\n    .dataframe tbody tr th {\n        vertical-align: top;\n    }\n\n    .dataframe thead th {\n        text-align: right;\n    }\n</style>\n<table border=\"1\" class=\"dataframe\">\n  <thead>\n    <tr style=\"text-align: right;\">\n      <th></th>\n      <th>user_id</th>\n      <th>recipe_id</th>\n      <th>date</th>\n      <th>rating</th>\n      <th>review</th>\n    </tr>\n  </thead>\n  <tbody>\n    <tr>\n      <th>483664</th>\n      <td>239758</td>\n      <td>171514</td>\n      <td>2008-07-11</td>\n      <td>5</td>\n      <td>My work colleagues call me the Queen of Dips, ...</td>\n    </tr>\n    <tr>\n      <th>95417</th>\n      <td>229850</td>\n      <td>85452</td>\n      <td>2008-12-14</td>\n      <td>3</td>\n      <td>I'm so sorry, this was really bland to us, not...</td>\n    </tr>\n    <tr>\n      <th>575875</th>\n      <td>466424</td>\n      <td>15242</td>\n      <td>2009-02-19</td>\n      <td>4</td>\n      <td>Delicious, though I definitely prefer cream of...</td>\n    </tr>\n    <tr>\n      <th>1057310</th>\n      <td>86512</td>\n      <td>33226</td>\n      <td>2003-11-12</td>\n      <td>4</td>\n      <td>This was really good! I used canned chicke...</td>\n    </tr>\n    <tr>\n      <th>1059086</th>\n      <td>275438</td>\n      <td>82288</td>\n      <td>2006-10-27</td>\n      <td>5</td>\n      <td>This recipe was great!! My husband was really ...</td>\n    </tr>\n    <tr>\n      <th>...</th>\n      <td>...</td>\n      <td>...</td>\n      <td>...</td>\n      <td>...</td>\n      <td>...</td>\n    </tr>\n    <tr>\n      <th>608831</th>\n      <td>173838</td>\n      <td>18897</td>\n      <td>2005-04-05</td>\n      <td>5</td>\n      <td>Yummy, with a little spicy kick!  Great with h...</td>\n    </tr>\n    <tr>\n      <th>656965</th>\n      <td>937735</td>\n      <td>27208</td>\n      <td>2009-09-14</td>\n      <td>5</td>\n      <td>WOW! I have no words for this. YUM. Only had i...</td>\n    </tr>\n    <tr>\n      <th>351059</th>\n      <td>580030</td>\n      <td>16531</td>\n      <td>2008-07-14</td>\n      <td>2</td>\n      <td>This really did not taste good to me. I think ...</td>\n    </tr>\n    <tr>\n      <th>315962</th>\n      <td>573325</td>\n      <td>458164</td>\n      <td>2011-10-08</td>\n      <td>5</td>\n      <td>WOW, this pie is AWESOME!!!! It works out so w...</td>\n    </tr>\n    <tr>\n      <th>1085493</th>\n      <td>2146080</td>\n      <td>335405</td>\n      <td>2012-10-02</td>\n      <td>5</td>\n      <td>Made this last night, it was so good my 4 year...</td>\n    </tr>\n  </tbody>\n</table>\n<p>6334 rows × 5 columns</p>\n</div>"
     },
     "execution_count": 34,
     "metadata": {},
     "output_type": "execute_result"
    }
   ],
   "source": [
    "reviews_sample = reviews_df.sample(int(reviews_df.shape[0] * 0.05))\n",
    "reviews_sample"
   ],
   "metadata": {
    "collapsed": false,
    "pycharm": {
     "name": "#%%\n"
    }
   }
  },
  {
   "cell_type": "code",
   "execution_count": 35,
   "outputs": [
    {
     "data": {
      "text/plain": "                                        name      id  minutes  submitted  \\\n23000                               rosettes  106708       70 2004-12-23   \n14227                  hot pastrami sandwich  286157       20 2008-02-12   \n9719              eagle brand s key lime pie  429860       45 2010-06-15   \n19525          our favorite italian meat pie  379612       45 2009-06-29   \n16586  loz s slow cooked irish guinness stew  182674      500 2006-08-24   \n...                                      ...     ...      ...        ...   \n4123        burmese veggies with hot peppers  292216       25 2008-03-17   \n17980                  mom s famous potatoes  211988      120 2007-02-18   \n22220                 ratatouille baked fish   62034       70 2003-05-12   \n29041                      warm woolly sheep  424960        3 2010-05-12   \n26876            szechuan peppercorn chicken   17278       15 2002-01-17   \n\n                                             description  n_ingredients  \n23000  i've been making these for years. they are del...            NaN  \n14227  a new york deli classic. some of these sandwic...            7.0  \n9719                   so delicous - so simple to make!!            7.0  \n19525  just a little something that came together one...            NaN  \n16586  this is an all time favourite!\\r\\n\\r\\nnb (incl...            NaN  \n...                                                  ...            ...  \n4123   a simple burmese recipe kicked up with hot pep...           13.0  \n17980  this is out of a local tv cookbook by kcts coo...            8.0  \n22220  dishes with fishes-this is one recipe my daugh...           11.0  \n29041  dh and i are sampling drambuie and glenlivet r...            NaN  \n26876  szechuan peppercorns have a bitter, sweet chil...            NaN  \n\n[1500 rows x 6 columns]",
      "text/html": "<div>\n<style scoped>\n    .dataframe tbody tr th:only-of-type {\n        vertical-align: middle;\n    }\n\n    .dataframe tbody tr th {\n        vertical-align: top;\n    }\n\n    .dataframe thead th {\n        text-align: right;\n    }\n</style>\n<table border=\"1\" class=\"dataframe\">\n  <thead>\n    <tr style=\"text-align: right;\">\n      <th></th>\n      <th>name</th>\n      <th>id</th>\n      <th>minutes</th>\n      <th>submitted</th>\n      <th>description</th>\n      <th>n_ingredients</th>\n    </tr>\n  </thead>\n  <tbody>\n    <tr>\n      <th>23000</th>\n      <td>rosettes</td>\n      <td>106708</td>\n      <td>70</td>\n      <td>2004-12-23</td>\n      <td>i've been making these for years. they are del...</td>\n      <td>NaN</td>\n    </tr>\n    <tr>\n      <th>14227</th>\n      <td>hot pastrami sandwich</td>\n      <td>286157</td>\n      <td>20</td>\n      <td>2008-02-12</td>\n      <td>a new york deli classic. some of these sandwic...</td>\n      <td>7.0</td>\n    </tr>\n    <tr>\n      <th>9719</th>\n      <td>eagle brand s key lime pie</td>\n      <td>429860</td>\n      <td>45</td>\n      <td>2010-06-15</td>\n      <td>so delicous - so simple to make!!</td>\n      <td>7.0</td>\n    </tr>\n    <tr>\n      <th>19525</th>\n      <td>our favorite italian meat pie</td>\n      <td>379612</td>\n      <td>45</td>\n      <td>2009-06-29</td>\n      <td>just a little something that came together one...</td>\n      <td>NaN</td>\n    </tr>\n    <tr>\n      <th>16586</th>\n      <td>loz s slow cooked irish guinness stew</td>\n      <td>182674</td>\n      <td>500</td>\n      <td>2006-08-24</td>\n      <td>this is an all time favourite!\\r\\n\\r\\nnb (incl...</td>\n      <td>NaN</td>\n    </tr>\n    <tr>\n      <th>...</th>\n      <td>...</td>\n      <td>...</td>\n      <td>...</td>\n      <td>...</td>\n      <td>...</td>\n      <td>...</td>\n    </tr>\n    <tr>\n      <th>4123</th>\n      <td>burmese veggies with hot peppers</td>\n      <td>292216</td>\n      <td>25</td>\n      <td>2008-03-17</td>\n      <td>a simple burmese recipe kicked up with hot pep...</td>\n      <td>13.0</td>\n    </tr>\n    <tr>\n      <th>17980</th>\n      <td>mom s famous potatoes</td>\n      <td>211988</td>\n      <td>120</td>\n      <td>2007-02-18</td>\n      <td>this is out of a local tv cookbook by kcts coo...</td>\n      <td>8.0</td>\n    </tr>\n    <tr>\n      <th>22220</th>\n      <td>ratatouille baked fish</td>\n      <td>62034</td>\n      <td>70</td>\n      <td>2003-05-12</td>\n      <td>dishes with fishes-this is one recipe my daugh...</td>\n      <td>11.0</td>\n    </tr>\n    <tr>\n      <th>29041</th>\n      <td>warm woolly sheep</td>\n      <td>424960</td>\n      <td>3</td>\n      <td>2010-05-12</td>\n      <td>dh and i are sampling drambuie and glenlivet r...</td>\n      <td>NaN</td>\n    </tr>\n    <tr>\n      <th>26876</th>\n      <td>szechuan peppercorn chicken</td>\n      <td>17278</td>\n      <td>15</td>\n      <td>2002-01-17</td>\n      <td>szechuan peppercorns have a bitter, sweet chil...</td>\n      <td>NaN</td>\n    </tr>\n  </tbody>\n</table>\n<p>1500 rows × 6 columns</p>\n</div>"
     },
     "execution_count": 35,
     "metadata": {},
     "output_type": "execute_result"
    }
   ],
   "source": [
    "recipes_sample = recipes_df.sample(int(recipes_df.shape[0] * 0.05))\n",
    "recipes_sample"
   ],
   "metadata": {
    "collapsed": false,
    "pycharm": {
     "name": "#%%\n"
    }
   }
  },
  {
   "cell_type": "code",
   "execution_count": 38,
   "outputs": [
    {
     "ename": "PermissionError",
     "evalue": "[Errno 13] Permission denied: 'data\\\\output\\\\recipes.xlsx'",
     "output_type": "error",
     "traceback": [
      "\u001B[1;31m---------------------------------------------------------------------------\u001B[0m",
      "\u001B[1;31mPermissionError\u001B[0m                           Traceback (most recent call last)",
      "\u001B[1;32m~\\AppData\\Local\\Temp/ipykernel_13836/686586532.py\u001B[0m in \u001B[0;36m<module>\u001B[1;34m\u001B[0m\n\u001B[1;32m----> 1\u001B[1;33m \u001B[1;32mwith\u001B[0m \u001B[0mpd\u001B[0m\u001B[1;33m.\u001B[0m\u001B[0mExcelWriter\u001B[0m\u001B[1;33m(\u001B[0m\u001B[0mOUTPUT_DIR\u001B[0m\u001B[1;33m.\u001B[0m\u001B[0mjoinpath\u001B[0m\u001B[1;33m(\u001B[0m\u001B[1;34m'recipes.xlsx'\u001B[0m\u001B[1;33m)\u001B[0m\u001B[1;33m)\u001B[0m \u001B[1;32mas\u001B[0m \u001B[0mwriter\u001B[0m\u001B[1;33m:\u001B[0m\u001B[1;33m\u001B[0m\u001B[1;33m\u001B[0m\u001B[0m\n\u001B[0m\u001B[0;32m      2\u001B[0m     \u001B[0mreviews_sample\u001B[0m\u001B[1;33m.\u001B[0m\u001B[0mto_excel\u001B[0m\u001B[1;33m(\u001B[0m\u001B[0mwriter\u001B[0m\u001B[1;33m,\u001B[0m \u001B[0msheet_name\u001B[0m\u001B[1;33m=\u001B[0m\u001B[1;34m'reviews_sample'\u001B[0m\u001B[1;33m,\u001B[0m \u001B[0mindex\u001B[0m\u001B[1;33m=\u001B[0m\u001B[1;32mFalse\u001B[0m\u001B[1;33m)\u001B[0m\u001B[1;33m\u001B[0m\u001B[1;33m\u001B[0m\u001B[0m\n\u001B[0;32m      3\u001B[0m     \u001B[0mrecipes_sample\u001B[0m\u001B[1;33m.\u001B[0m\u001B[0mto_excel\u001B[0m\u001B[1;33m(\u001B[0m\u001B[0mwriter\u001B[0m\u001B[1;33m,\u001B[0m \u001B[0msheet_name\u001B[0m\u001B[1;33m=\u001B[0m\u001B[1;34m'recipes_sample'\u001B[0m\u001B[1;33m,\u001B[0m \u001B[0mindex\u001B[0m\u001B[1;33m=\u001B[0m\u001B[1;32mFalse\u001B[0m\u001B[1;33m)\u001B[0m\u001B[1;33m\u001B[0m\u001B[1;33m\u001B[0m\u001B[0m\n\u001B[0;32m      4\u001B[0m \u001B[1;33m\u001B[0m\u001B[0m\n",
      "\u001B[1;32mD:\\IT\\Coding\\GitHub Projects\\My-University\\III Курс\\(python) Технологии обработки больших данных\\venv\\lib\\site-packages\\pandas\\io\\excel\\_openpyxl.py\u001B[0m in \u001B[0;36m__init__\u001B[1;34m(self, path, engine, date_format, datetime_format, mode, storage_options, if_sheet_exists, engine_kwargs, **kwargs)\u001B[0m\n\u001B[0;32m     50\u001B[0m         \u001B[0mengine_kwargs\u001B[0m \u001B[1;33m=\u001B[0m \u001B[0mcombine_kwargs\u001B[0m\u001B[1;33m(\u001B[0m\u001B[0mengine_kwargs\u001B[0m\u001B[1;33m,\u001B[0m \u001B[0mkwargs\u001B[0m\u001B[1;33m)\u001B[0m\u001B[1;33m\u001B[0m\u001B[1;33m\u001B[0m\u001B[0m\n\u001B[0;32m     51\u001B[0m \u001B[1;33m\u001B[0m\u001B[0m\n\u001B[1;32m---> 52\u001B[1;33m         super().__init__(\n\u001B[0m\u001B[0;32m     53\u001B[0m             \u001B[0mpath\u001B[0m\u001B[1;33m,\u001B[0m\u001B[1;33m\u001B[0m\u001B[1;33m\u001B[0m\u001B[0m\n\u001B[0;32m     54\u001B[0m             \u001B[0mmode\u001B[0m\u001B[1;33m=\u001B[0m\u001B[0mmode\u001B[0m\u001B[1;33m,\u001B[0m\u001B[1;33m\u001B[0m\u001B[1;33m\u001B[0m\u001B[0m\n",
      "\u001B[1;32mD:\\IT\\Coding\\GitHub Projects\\My-University\\III Курс\\(python) Технологии обработки больших данных\\venv\\lib\\site-packages\\pandas\\io\\excel\\_base.py\u001B[0m in \u001B[0;36m__init__\u001B[1;34m(self, path, engine, date_format, datetime_format, mode, storage_options, if_sheet_exists, engine_kwargs, **kwargs)\u001B[0m\n\u001B[0;32m    923\u001B[0m         \u001B[0mself\u001B[0m\u001B[1;33m.\u001B[0m\u001B[0mhandles\u001B[0m \u001B[1;33m=\u001B[0m \u001B[0mIOHandles\u001B[0m\u001B[1;33m(\u001B[0m\u001B[0mcast\u001B[0m\u001B[1;33m(\u001B[0m\u001B[0mBuffer\u001B[0m\u001B[1;33m,\u001B[0m \u001B[0mpath\u001B[0m\u001B[1;33m)\u001B[0m\u001B[1;33m,\u001B[0m \u001B[0mcompression\u001B[0m\u001B[1;33m=\u001B[0m\u001B[1;33m{\u001B[0m\u001B[1;34m\"copression\"\u001B[0m\u001B[1;33m:\u001B[0m \u001B[1;32mNone\u001B[0m\u001B[1;33m}\u001B[0m\u001B[1;33m)\u001B[0m\u001B[1;33m\u001B[0m\u001B[1;33m\u001B[0m\u001B[0m\n\u001B[0;32m    924\u001B[0m         \u001B[1;32mif\u001B[0m \u001B[1;32mnot\u001B[0m \u001B[0misinstance\u001B[0m\u001B[1;33m(\u001B[0m\u001B[0mpath\u001B[0m\u001B[1;33m,\u001B[0m \u001B[0mExcelWriter\u001B[0m\u001B[1;33m)\u001B[0m\u001B[1;33m:\u001B[0m\u001B[1;33m\u001B[0m\u001B[1;33m\u001B[0m\u001B[0m\n\u001B[1;32m--> 925\u001B[1;33m             self.handles = get_handle(\n\u001B[0m\u001B[0;32m    926\u001B[0m                 \u001B[0mpath\u001B[0m\u001B[1;33m,\u001B[0m \u001B[0mmode\u001B[0m\u001B[1;33m,\u001B[0m \u001B[0mstorage_options\u001B[0m\u001B[1;33m=\u001B[0m\u001B[0mstorage_options\u001B[0m\u001B[1;33m,\u001B[0m \u001B[0mis_text\u001B[0m\u001B[1;33m=\u001B[0m\u001B[1;32mFalse\u001B[0m\u001B[1;33m\u001B[0m\u001B[1;33m\u001B[0m\u001B[0m\n\u001B[0;32m    927\u001B[0m             )\n",
      "\u001B[1;32mD:\\IT\\Coding\\GitHub Projects\\My-University\\III Курс\\(python) Технологии обработки больших данных\\venv\\lib\\site-packages\\pandas\\io\\common.py\u001B[0m in \u001B[0;36mget_handle\u001B[1;34m(path_or_buf, mode, encoding, compression, memory_map, is_text, errors, storage_options)\u001B[0m\n\u001B[0;32m    708\u001B[0m         \u001B[1;32melse\u001B[0m\u001B[1;33m:\u001B[0m\u001B[1;33m\u001B[0m\u001B[1;33m\u001B[0m\u001B[0m\n\u001B[0;32m    709\u001B[0m             \u001B[1;31m# Binary mode\u001B[0m\u001B[1;33m\u001B[0m\u001B[1;33m\u001B[0m\u001B[0m\n\u001B[1;32m--> 710\u001B[1;33m             \u001B[0mhandle\u001B[0m \u001B[1;33m=\u001B[0m \u001B[0mopen\u001B[0m\u001B[1;33m(\u001B[0m\u001B[0mhandle\u001B[0m\u001B[1;33m,\u001B[0m \u001B[0mioargs\u001B[0m\u001B[1;33m.\u001B[0m\u001B[0mmode\u001B[0m\u001B[1;33m)\u001B[0m\u001B[1;33m\u001B[0m\u001B[1;33m\u001B[0m\u001B[0m\n\u001B[0m\u001B[0;32m    711\u001B[0m         \u001B[0mhandles\u001B[0m\u001B[1;33m.\u001B[0m\u001B[0mappend\u001B[0m\u001B[1;33m(\u001B[0m\u001B[0mhandle\u001B[0m\u001B[1;33m)\u001B[0m\u001B[1;33m\u001B[0m\u001B[1;33m\u001B[0m\u001B[0m\n\u001B[0;32m    712\u001B[0m \u001B[1;33m\u001B[0m\u001B[0m\n",
      "\u001B[1;31mPermissionError\u001B[0m: [Errno 13] Permission denied: 'data\\\\output\\\\recipes.xlsx'"
     ]
    }
   ],
   "source": [
    "with pd.ExcelWriter(OUTPUT_DIR.joinpath('recipes.xlsx')) as writer:\n",
    "    reviews_sample.to_excel(writer, sheet_name='reviews_sample', index=False)\n",
    "    recipes_sample.to_excel(writer, sheet_name='recipes_sample', index=False)"
   ],
   "metadata": {
    "collapsed": false,
    "pycharm": {
     "name": "#%%\n"
    }
   }
  },
  {
   "cell_type": "markdown",
   "metadata": {},
   "source": [
    "3. Используя `xlwings`, добавьте на лист `Рецепты` столбец `seconds_assign`, показывающий время выполнения рецепта в секундах. Выполните задание при помощи присваивания массива значений диапазону ячеек."
   ]
  },
  {
   "cell_type": "code",
   "execution_count": 39,
   "outputs": [],
   "source": [
    "wb = xw.Book(OUTPUT_DIR.joinpath('recipes.xlsx'))"
   ],
   "metadata": {
    "collapsed": false,
    "pycharm": {
     "name": "#%%\n"
    }
   }
  },
  {
   "cell_type": "code",
   "execution_count": 41,
   "outputs": [],
   "source": [
    "sheet = wb.sheets['recipes_sample']\n",
    "sheet.range('H:H').options(index=False).value = pd.Series(\n",
    "    [1, 2, 3, 4, 5],\n",
    "    name='seconds_assign'\n",
    ")"
   ],
   "metadata": {
    "collapsed": false,
    "pycharm": {
     "name": "#%%\n"
    }
   }
  },
  {
   "cell_type": "markdown",
   "metadata": {},
   "source": [
    "4. Используя `xlwings`, добавьте на лист `Рецепты` столбец `seconds_formula`, показывающий время выполнения рецепта в секундах. Выполните задание при помощи формул Excel."
   ]
  },
  {
   "cell_type": "markdown",
   "metadata": {},
   "source": [
    "5. Добавьте на лист `Рецепты`  столбец `n_reviews`, содержащий кол-во отзывов для этого рецепта. Выполните задание при помощи формул Excel."
   ]
  },
  {
   "cell_type": "markdown",
   "metadata": {},
   "source": [
    "6. Сделайте названия всех добавленных столбцов полужирными и выровняйте по центру ячейки."
   ]
  },
  {
   "cell_type": "markdown",
   "metadata": {},
   "source": [
    "7. Раскрасьте ячейки столбца `minutes` в соответствии со следующим правилом: если рецепт выполняется быстрее 5 минут, то цвет - зеленый; от 5 до 10 минут - жёлтый; и больше 10 - красный."
   ]
  },
  {
   "cell_type": "markdown",
   "metadata": {},
   "source": [
    "8. Напишите функцию `validate()`, которая проверяет соответствие всех строк из листа `Отзывы` следующим правилам:\n",
    "    * Рейтинг - это число от 0 до 5 включительно\n",
    "    * Соответствующий рецепт имеется на листе `Рецепты`\n",
    "    \n",
    "В случае несоответствия этим правилам, выделите строку красным цветом"
   ]
  },
  {
   "cell_type": "code",
   "execution_count": null,
   "metadata": {},
   "outputs": [],
   "source": []
  }
 ],
 "metadata": {
  "kernelspec": {
   "display_name": "Python 3",
   "language": "python",
   "name": "python3"
  },
  "language_info": {
   "codemirror_mode": {
    "name": "ipython",
    "version": 3
   },
   "file_extension": ".py",
   "mimetype": "text/x-python",
   "name": "python",
   "nbconvert_exporter": "python",
   "pygments_lexer": "ipython3",
   "version": "3.8.5"
  }
 },
 "nbformat": 4,
 "nbformat_minor": 4
}