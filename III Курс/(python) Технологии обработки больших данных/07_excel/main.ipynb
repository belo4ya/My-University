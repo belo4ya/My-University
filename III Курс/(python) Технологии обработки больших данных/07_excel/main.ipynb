{
 "cells": [
  {
   "cell_type": "markdown",
   "metadata": {},
   "source": [
    "# Работа с Excel"
   ]
  },
  {
   "cell_type": "markdown",
   "metadata": {},
   "source": [
    "Материалы:\n",
    "* Макрушин С.В. Лекция 7: Работа с Excel\n",
    "* https://docs.xlwings.org/en/stable/quickstart.html\n",
    "* https://nbviewer.jupyter.org/github/pybokeh/jupyter_notebooks/blob/master/xlwings/Excel_Formatting.ipynb#search_text\n"
   ]
  },
  {
   "cell_type": "code",
   "execution_count": 71,
   "outputs": [],
   "source": [
    "from pathlib import Path\n",
    "\n",
    "import pandas as pd\n",
    "import xlwings as xw\n",
    "from xlwings.constants import BordersIndex, BorderWeight, HAlign"
   ],
   "metadata": {
    "collapsed": false,
    "pycharm": {
     "name": "#%%\n"
    }
   }
  },
  {
   "cell_type": "code",
   "execution_count": 24,
   "outputs": [],
   "source": [
    "DATA_DIR = Path('data/')\n",
    "OUTPUT_DIR = Path('output/')"
   ],
   "metadata": {
    "collapsed": false,
    "pycharm": {
     "name": "#%%\n"
    }
   }
  },
  {
   "cell_type": "markdown",
   "metadata": {},
   "source": [
    "## Задачи для совместного разбора"
   ]
  },
  {
   "cell_type": "markdown",
   "metadata": {},
   "source": [
    "1. На листе \"Рецептура\" файла `себестоимостьА_в1.xlsx` для области \"Пшеничный хлеб\" рассчитать себестоимость всех видов продукции."
   ]
  },
  {
   "cell_type": "markdown",
   "metadata": {},
   "source": [
    "2. Результаты расчетов 1.1 сохранить в отдельном столбце области \"Пшеничный хлеб\""
   ]
  },
  {
   "cell_type": "markdown",
   "metadata": {},
   "source": [
    "3. Приблизить форматирование столбца, добавленного в задаче 2 к оформлению всей области."
   ]
  },
  {
   "cell_type": "markdown",
   "metadata": {},
   "source": [
    "4. Выполнить 3 с помощью \"протягиваемых\" формул."
   ]
  },
  {
   "cell_type": "markdown",
   "metadata": {},
   "source": [
    "## Лабораторная работа 7"
   ]
  },
  {
   "cell_type": "markdown",
   "metadata": {},
   "source": [
    "1. Загрузите данные из файлов `reviews_sample.csv` (__ЛР2__) и `recipes_sample_with_tags_ingredients.csv` (__ЛР5__) в виде `pd.DataFrame`. Обратите внимание на корректное считывание столбца(ов) с индексами. Оставьте в таблице с рецептами следующие столбцы: `id`, `name`, `minutes`, `submitted`, `description`, `n_ingredients`"
   ]
  },
  {
   "cell_type": "code",
   "execution_count": 62,
   "outputs": [
    {
     "data": {
      "text/plain": "           user_id  recipe_id       date  rating  \\\n370476       21752      57993 2003-05-01       5   \n624300      431813     142201 2007-09-16       5   \n187037      400708     252013 2008-01-10       4   \n706134  2001852463     404716 2017-12-11       5   \n312179       95810     129396 2008-03-14       5   \n\n                                                   review  \n370476  Last week whole sides of frozen salmon fillet ...  \n624300  So simple and so tasty!  I used a yellow capsi...  \n187037  Very nice breakfast HH, easy to make and yummy...  \n706134  These are a favorite for the holidays and so e...  \n312179  Excellent soup!  The tomato flavor is just gre...  ",
      "text/html": "<div>\n<style scoped>\n    .dataframe tbody tr th:only-of-type {\n        vertical-align: middle;\n    }\n\n    .dataframe tbody tr th {\n        vertical-align: top;\n    }\n\n    .dataframe thead th {\n        text-align: right;\n    }\n</style>\n<table border=\"1\" class=\"dataframe\">\n  <thead>\n    <tr style=\"text-align: right;\">\n      <th></th>\n      <th>user_id</th>\n      <th>recipe_id</th>\n      <th>date</th>\n      <th>rating</th>\n      <th>review</th>\n    </tr>\n  </thead>\n  <tbody>\n    <tr>\n      <th>370476</th>\n      <td>21752</td>\n      <td>57993</td>\n      <td>2003-05-01</td>\n      <td>5</td>\n      <td>Last week whole sides of frozen salmon fillet ...</td>\n    </tr>\n    <tr>\n      <th>624300</th>\n      <td>431813</td>\n      <td>142201</td>\n      <td>2007-09-16</td>\n      <td>5</td>\n      <td>So simple and so tasty!  I used a yellow capsi...</td>\n    </tr>\n    <tr>\n      <th>187037</th>\n      <td>400708</td>\n      <td>252013</td>\n      <td>2008-01-10</td>\n      <td>4</td>\n      <td>Very nice breakfast HH, easy to make and yummy...</td>\n    </tr>\n    <tr>\n      <th>706134</th>\n      <td>2001852463</td>\n      <td>404716</td>\n      <td>2017-12-11</td>\n      <td>5</td>\n      <td>These are a favorite for the holidays and so e...</td>\n    </tr>\n    <tr>\n      <th>312179</th>\n      <td>95810</td>\n      <td>129396</td>\n      <td>2008-03-14</td>\n      <td>5</td>\n      <td>Excellent soup!  The tomato flavor is just gre...</td>\n    </tr>\n  </tbody>\n</table>\n</div>"
     },
     "execution_count": 62,
     "metadata": {},
     "output_type": "execute_result"
    }
   ],
   "source": [
    "reviews_df = pd.read_csv(\n",
    "    DATA_DIR.joinpath('reviews_sample.csv'),\n",
    "    sep=',',\n",
    "    index_col=0,\n",
    "    parse_dates=['date']\n",
    ")\n",
    "reviews_df.head()"
   ],
   "metadata": {
    "collapsed": false,
    "pycharm": {
     "name": "#%%\n"
    }
   }
  },
  {
   "cell_type": "code",
   "execution_count": 63,
   "outputs": [
    {
     "data": {
      "text/plain": "                                       name     id  minutes  submitted  \\\n0     george s at the cove  black bean soup  44123       90 2002-10-25   \n1        healthy for them  yogurt popsicles  67664       10 2003-07-26   \n2              i can t believe it s spinach  38798       30 2002-08-29   \n3                      italian  gut busters  35173       45 2002-07-27   \n4  love is in the air  beef fondue   sauces  84797       25 2004-02-23   \n\n                                         description  n_ingredients  \n0  an original recipe created by chef scott meska...           18.0  \n1  my children and their friends ask for my homem...            NaN  \n2            these were so go, it surprised even me.            8.0  \n3  my sister-in-law made these for us at a family...            NaN  \n4  i think a fondue is a very romantic casual din...            NaN  ",
      "text/html": "<div>\n<style scoped>\n    .dataframe tbody tr th:only-of-type {\n        vertical-align: middle;\n    }\n\n    .dataframe tbody tr th {\n        vertical-align: top;\n    }\n\n    .dataframe thead th {\n        text-align: right;\n    }\n</style>\n<table border=\"1\" class=\"dataframe\">\n  <thead>\n    <tr style=\"text-align: right;\">\n      <th></th>\n      <th>name</th>\n      <th>id</th>\n      <th>minutes</th>\n      <th>submitted</th>\n      <th>description</th>\n      <th>n_ingredients</th>\n    </tr>\n  </thead>\n  <tbody>\n    <tr>\n      <th>0</th>\n      <td>george s at the cove  black bean soup</td>\n      <td>44123</td>\n      <td>90</td>\n      <td>2002-10-25</td>\n      <td>an original recipe created by chef scott meska...</td>\n      <td>18.0</td>\n    </tr>\n    <tr>\n      <th>1</th>\n      <td>healthy for them  yogurt popsicles</td>\n      <td>67664</td>\n      <td>10</td>\n      <td>2003-07-26</td>\n      <td>my children and their friends ask for my homem...</td>\n      <td>NaN</td>\n    </tr>\n    <tr>\n      <th>2</th>\n      <td>i can t believe it s spinach</td>\n      <td>38798</td>\n      <td>30</td>\n      <td>2002-08-29</td>\n      <td>these were so go, it surprised even me.</td>\n      <td>8.0</td>\n    </tr>\n    <tr>\n      <th>3</th>\n      <td>italian  gut busters</td>\n      <td>35173</td>\n      <td>45</td>\n      <td>2002-07-27</td>\n      <td>my sister-in-law made these for us at a family...</td>\n      <td>NaN</td>\n    </tr>\n    <tr>\n      <th>4</th>\n      <td>love is in the air  beef fondue   sauces</td>\n      <td>84797</td>\n      <td>25</td>\n      <td>2004-02-23</td>\n      <td>i think a fondue is a very romantic casual din...</td>\n      <td>NaN</td>\n    </tr>\n  </tbody>\n</table>\n</div>"
     },
     "execution_count": 63,
     "metadata": {},
     "output_type": "execute_result"
    }
   ],
   "source": [
    "recipes_df = pd.read_csv(\n",
    "    DATA_DIR.joinpath('recipes_sample_with_filled_nsteps.csv'),\n",
    "    sep=',',\n",
    "    usecols=['id', 'name', 'minutes', 'submitted', 'description', 'n_ingredients'],\n",
    "    parse_dates=['submitted']\n",
    ")\n",
    "recipes_df.head()"
   ],
   "metadata": {
    "collapsed": false,
    "pycharm": {
     "name": "#%%\n"
    }
   }
  },
  {
   "cell_type": "markdown",
   "metadata": {},
   "source": [
    "2. Случайным образом выберите 5% строк из каждой таблицы и сохраните две таблицы на разные листы в один файл `recipes.xlsx`. Дайте листам названия \"Рецепты\" и \"Отзывы\", соответствующие содержанию таблиц. "
   ]
  },
  {
   "cell_type": "code",
   "execution_count": 64,
   "outputs": [
    {
     "data": {
      "text/plain": "            user_id  recipe_id       date  rating  \\\n356903   1801009245      42603 2013-12-19       5   \n806013       837304      27742 2010-03-03       5   \n80667        254614      98772 2006-01-18       5   \n1005877      707200      10620 2010-06-26       5   \n678861       311566      94441 2007-02-11       4   \n...             ...        ...        ...     ...   \n101481       366104     193909 2007-07-05       5   \n1029410        8629     430334 2011-01-30       5   \n1002089       91831      92963 2005-09-19       4   \n868535        31232      53503 2004-08-26       5   \n341474       720175     127110 2008-03-17       5   \n\n                                                    review  \n356903   We loved this recipe! Left the skin on for Hub...  \n806013   Delicious!  I used a mixture of black-eyed pea...  \n80667    Yes! I lost this recipe and now I have found i...  \n1005877  This was delicious.\\r\\n\\r\\nWe substituted vege...  \n678861               This was good. Thanks for the recipe.  \n...                                                    ...  \n101481   Yum yum...I used a mix of broccoli and caulifl...  \n1029410  This worked for me in recipe 168645 (Pancakes ...  \n1002089  This was very yummy!  No need for syrup here.....  \n868535   Awesome marinade.  I used it for thickly slice...  \n341474   Yummy! I didn't marinade as long as I wanted t...  \n\n[6334 rows x 5 columns]",
      "text/html": "<div>\n<style scoped>\n    .dataframe tbody tr th:only-of-type {\n        vertical-align: middle;\n    }\n\n    .dataframe tbody tr th {\n        vertical-align: top;\n    }\n\n    .dataframe thead th {\n        text-align: right;\n    }\n</style>\n<table border=\"1\" class=\"dataframe\">\n  <thead>\n    <tr style=\"text-align: right;\">\n      <th></th>\n      <th>user_id</th>\n      <th>recipe_id</th>\n      <th>date</th>\n      <th>rating</th>\n      <th>review</th>\n    </tr>\n  </thead>\n  <tbody>\n    <tr>\n      <th>356903</th>\n      <td>1801009245</td>\n      <td>42603</td>\n      <td>2013-12-19</td>\n      <td>5</td>\n      <td>We loved this recipe! Left the skin on for Hub...</td>\n    </tr>\n    <tr>\n      <th>806013</th>\n      <td>837304</td>\n      <td>27742</td>\n      <td>2010-03-03</td>\n      <td>5</td>\n      <td>Delicious!  I used a mixture of black-eyed pea...</td>\n    </tr>\n    <tr>\n      <th>80667</th>\n      <td>254614</td>\n      <td>98772</td>\n      <td>2006-01-18</td>\n      <td>5</td>\n      <td>Yes! I lost this recipe and now I have found i...</td>\n    </tr>\n    <tr>\n      <th>1005877</th>\n      <td>707200</td>\n      <td>10620</td>\n      <td>2010-06-26</td>\n      <td>5</td>\n      <td>This was delicious.\\r\\n\\r\\nWe substituted vege...</td>\n    </tr>\n    <tr>\n      <th>678861</th>\n      <td>311566</td>\n      <td>94441</td>\n      <td>2007-02-11</td>\n      <td>4</td>\n      <td>This was good. Thanks for the recipe.</td>\n    </tr>\n    <tr>\n      <th>...</th>\n      <td>...</td>\n      <td>...</td>\n      <td>...</td>\n      <td>...</td>\n      <td>...</td>\n    </tr>\n    <tr>\n      <th>101481</th>\n      <td>366104</td>\n      <td>193909</td>\n      <td>2007-07-05</td>\n      <td>5</td>\n      <td>Yum yum...I used a mix of broccoli and caulifl...</td>\n    </tr>\n    <tr>\n      <th>1029410</th>\n      <td>8629</td>\n      <td>430334</td>\n      <td>2011-01-30</td>\n      <td>5</td>\n      <td>This worked for me in recipe 168645 (Pancakes ...</td>\n    </tr>\n    <tr>\n      <th>1002089</th>\n      <td>91831</td>\n      <td>92963</td>\n      <td>2005-09-19</td>\n      <td>4</td>\n      <td>This was very yummy!  No need for syrup here.....</td>\n    </tr>\n    <tr>\n      <th>868535</th>\n      <td>31232</td>\n      <td>53503</td>\n      <td>2004-08-26</td>\n      <td>5</td>\n      <td>Awesome marinade.  I used it for thickly slice...</td>\n    </tr>\n    <tr>\n      <th>341474</th>\n      <td>720175</td>\n      <td>127110</td>\n      <td>2008-03-17</td>\n      <td>5</td>\n      <td>Yummy! I didn't marinade as long as I wanted t...</td>\n    </tr>\n  </tbody>\n</table>\n<p>6334 rows × 5 columns</p>\n</div>"
     },
     "execution_count": 64,
     "metadata": {},
     "output_type": "execute_result"
    }
   ],
   "source": [
    "reviews_sample = reviews_df.sample(int(reviews_df.shape[0] * 0.05))\n",
    "reviews_sample"
   ],
   "metadata": {
    "collapsed": false,
    "pycharm": {
     "name": "#%%\n"
    }
   }
  },
  {
   "cell_type": "code",
   "execution_count": 65,
   "outputs": [
    {
     "data": {
      "text/plain": "                                              name      id  minutes  \\\n4948               cauliflower with fresh cilantro  132241       20   \n9782   easy  no beat  chocolate cake with frosting  256673       70   \n27444                         the humble fried egg   80546        5   \n1588                           babaloo s bbq sauce   55705       40   \n22057   rachael ray s linguine with red clam sauce  170402       30   \n...                                            ...     ...      ...   \n16612                   luscious almond cheesecake  119064       80   \n8537                             crispy sole dijon  185436       25   \n20895                          pink vodka cocktail  393306        5   \n19549    outrageously oatmeal bread  bread machine  177576      250   \n10259             easy thanksgiving turkey cookies  329473       20   \n\n       submitted                                        description  \\\n4948  2005-08-03  from the cookbook arabian delights. this is a ...   \n9782  2007-10-02  this is the quickest, easiest cake i have ever...   \n27444 2004-01-09  such a simple dish but one that not everyone k...   \n1588  2003-03-05  this sauce is sooooo good! it makes alot, so f...   \n22057 2006-05-30  rach's cupboard red clam sauce. lots of clams ...   \n...          ...                                                ...   \n16612 2005-04-25  this is a recipe from a taste of home \"cheese ...   \n8537  2006-09-08  you can use almost any fish you like with this...   \n20895 2009-10-06       somthing to keep for when im not pregnant :)   \n19549 2006-07-13  another favorite of the kids...  delicious alo...   \n10259 2008-10-07  these cookies are cute and easy!  kids love th...   \n\n       n_ingredients  \n4948            10.0  \n9782             NaN  \n27444            3.0  \n1588            18.0  \n22057           15.0  \n...              ...  \n16612            9.0  \n8537             NaN  \n20895            3.0  \n19549            8.0  \n10259            5.0  \n\n[1500 rows x 6 columns]",
      "text/html": "<div>\n<style scoped>\n    .dataframe tbody tr th:only-of-type {\n        vertical-align: middle;\n    }\n\n    .dataframe tbody tr th {\n        vertical-align: top;\n    }\n\n    .dataframe thead th {\n        text-align: right;\n    }\n</style>\n<table border=\"1\" class=\"dataframe\">\n  <thead>\n    <tr style=\"text-align: right;\">\n      <th></th>\n      <th>name</th>\n      <th>id</th>\n      <th>minutes</th>\n      <th>submitted</th>\n      <th>description</th>\n      <th>n_ingredients</th>\n    </tr>\n  </thead>\n  <tbody>\n    <tr>\n      <th>4948</th>\n      <td>cauliflower with fresh cilantro</td>\n      <td>132241</td>\n      <td>20</td>\n      <td>2005-08-03</td>\n      <td>from the cookbook arabian delights. this is a ...</td>\n      <td>10.0</td>\n    </tr>\n    <tr>\n      <th>9782</th>\n      <td>easy  no beat  chocolate cake with frosting</td>\n      <td>256673</td>\n      <td>70</td>\n      <td>2007-10-02</td>\n      <td>this is the quickest, easiest cake i have ever...</td>\n      <td>NaN</td>\n    </tr>\n    <tr>\n      <th>27444</th>\n      <td>the humble fried egg</td>\n      <td>80546</td>\n      <td>5</td>\n      <td>2004-01-09</td>\n      <td>such a simple dish but one that not everyone k...</td>\n      <td>3.0</td>\n    </tr>\n    <tr>\n      <th>1588</th>\n      <td>babaloo s bbq sauce</td>\n      <td>55705</td>\n      <td>40</td>\n      <td>2003-03-05</td>\n      <td>this sauce is sooooo good! it makes alot, so f...</td>\n      <td>18.0</td>\n    </tr>\n    <tr>\n      <th>22057</th>\n      <td>rachael ray s linguine with red clam sauce</td>\n      <td>170402</td>\n      <td>30</td>\n      <td>2006-05-30</td>\n      <td>rach's cupboard red clam sauce. lots of clams ...</td>\n      <td>15.0</td>\n    </tr>\n    <tr>\n      <th>...</th>\n      <td>...</td>\n      <td>...</td>\n      <td>...</td>\n      <td>...</td>\n      <td>...</td>\n      <td>...</td>\n    </tr>\n    <tr>\n      <th>16612</th>\n      <td>luscious almond cheesecake</td>\n      <td>119064</td>\n      <td>80</td>\n      <td>2005-04-25</td>\n      <td>this is a recipe from a taste of home \"cheese ...</td>\n      <td>9.0</td>\n    </tr>\n    <tr>\n      <th>8537</th>\n      <td>crispy sole dijon</td>\n      <td>185436</td>\n      <td>25</td>\n      <td>2006-09-08</td>\n      <td>you can use almost any fish you like with this...</td>\n      <td>NaN</td>\n    </tr>\n    <tr>\n      <th>20895</th>\n      <td>pink vodka cocktail</td>\n      <td>393306</td>\n      <td>5</td>\n      <td>2009-10-06</td>\n      <td>somthing to keep for when im not pregnant :)</td>\n      <td>3.0</td>\n    </tr>\n    <tr>\n      <th>19549</th>\n      <td>outrageously oatmeal bread  bread machine</td>\n      <td>177576</td>\n      <td>250</td>\n      <td>2006-07-13</td>\n      <td>another favorite of the kids...  delicious alo...</td>\n      <td>8.0</td>\n    </tr>\n    <tr>\n      <th>10259</th>\n      <td>easy thanksgiving turkey cookies</td>\n      <td>329473</td>\n      <td>20</td>\n      <td>2008-10-07</td>\n      <td>these cookies are cute and easy!  kids love th...</td>\n      <td>5.0</td>\n    </tr>\n  </tbody>\n</table>\n<p>1500 rows × 6 columns</p>\n</div>"
     },
     "execution_count": 65,
     "metadata": {},
     "output_type": "execute_result"
    }
   ],
   "source": [
    "recipes_sample = recipes_df.sample(int(recipes_df.shape[0] * 0.05))\n",
    "recipes_sample"
   ],
   "metadata": {
    "collapsed": false,
    "pycharm": {
     "name": "#%%\n"
    }
   }
  },
  {
   "cell_type": "code",
   "execution_count": 66,
   "outputs": [],
   "source": [
    "with pd.ExcelWriter(OUTPUT_DIR.joinpath('recipes.xlsx')) as writer:\n",
    "    reviews_sample.to_excel(writer, sheet_name='Отзывы', index=False)\n",
    "    recipes_sample.to_excel(writer, sheet_name='Рецепты', index=False)"
   ],
   "metadata": {
    "collapsed": false,
    "pycharm": {
     "name": "#%%\n"
    }
   }
  },
  {
   "cell_type": "markdown",
   "metadata": {},
   "source": [
    "3. Используя `xlwings`, добавьте на лист `Рецепты` столбец `seconds_assign`, показывающий время выполнения рецепта в секундах. Выполните задание при помощи присваивания массива значений диапазону ячеек."
   ]
  },
  {
   "cell_type": "code",
   "execution_count": 67,
   "outputs": [],
   "source": [
    "wb = xw.Book(OUTPUT_DIR.joinpath('recipes.xlsx'))"
   ],
   "metadata": {
    "collapsed": false,
    "pycharm": {
     "name": "#%%\n"
    }
   }
  },
  {
   "cell_type": "code",
   "execution_count": 68,
   "outputs": [],
   "source": [
    "sheet = wb.sheets['Рецепты']"
   ],
   "metadata": {
    "collapsed": false,
    "pycharm": {
     "name": "#%%\n"
    }
   }
  },
  {
   "cell_type": "code",
   "execution_count": 74,
   "outputs": [],
   "source": [
    "seconds_assign = (recipes_sample['minutes'] * 60).rename('seconds_assign')\n",
    "new_column_range = (1, sheet.range('A1').expand('right').shape[1] + 1)\n",
    "sheet.range(new_column_range).options(index=False).value = seconds_assign"
   ],
   "metadata": {
    "collapsed": false,
    "pycharm": {
     "name": "#%%\n"
    }
   }
  },
  {
   "cell_type": "code",
   "execution_count": null,
   "outputs": [],
   "source": [
    "sheet.range(new_column_range).api.Font.Bold = True\n",
    "sheet.range(new_column_range).api.HorizontalAlignment = HAlign.xlHAlignCenter\n",
    "for border_index in (\n",
    "        BordersIndex.xlEdgeTop,\n",
    "        BordersIndex.xlEdgeRight,\n",
    "        BordersIndex.xlEdgeBottom,\n",
    "        BordersIndex.xlEdgeLeft\n",
    "):\n",
    "    sheet.range(new_column_range).api.Borders(border_index).LineStyle = 1\n",
    "    sheet.range(new_column_range).api.Borders(border_index).Weight = BorderWeight.xlThin"
   ],
   "metadata": {
    "collapsed": false,
    "pycharm": {
     "name": "#%%\n"
    }
   }
  },
  {
   "cell_type": "markdown",
   "metadata": {},
   "source": [
    "4. Используя `xlwings`, добавьте на лист `Рецепты` столбец `seconds_formula`, показывающий время выполнения рецепта в секундах. Выполните задание при помощи формул Excel."
   ]
  },
  {
   "cell_type": "code",
   "execution_count": null,
   "outputs": [],
   "source": [],
   "metadata": {
    "collapsed": false,
    "pycharm": {
     "name": "#%%\n"
    }
   }
  },
  {
   "cell_type": "markdown",
   "metadata": {},
   "source": [
    "5. Добавьте на лист `Рецепты`  столбец `n_reviews`, содержащий кол-во отзывов для этого рецепта. Выполните задание при помощи формул Excel."
   ]
  },
  {
   "cell_type": "markdown",
   "metadata": {},
   "source": [
    "6. Сделайте названия всех добавленных столбцов полужирными и выровняйте по центру ячейки."
   ]
  },
  {
   "cell_type": "markdown",
   "metadata": {},
   "source": [
    "7. Раскрасьте ячейки столбца `minutes` в соответствии со следующим правилом: если рецепт выполняется быстрее 5 минут, то цвет - зеленый; от 5 до 10 минут - жёлтый; и больше 10 - красный."
   ]
  },
  {
   "cell_type": "markdown",
   "metadata": {},
   "source": [
    "8. Напишите функцию `validate()`, которая проверяет соответствие всех строк из листа `Отзывы` следующим правилам:\n",
    "    * Рейтинг - это число от 0 до 5 включительно\n",
    "    * Соответствующий рецепт имеется на листе `Рецепты`\n",
    "    \n",
    "В случае несоответствия этим правилам, выделите строку красным цветом"
   ]
  },
  {
   "cell_type": "code",
   "execution_count": null,
   "metadata": {},
   "outputs": [],
   "source": []
  }
 ],
 "metadata": {
  "kernelspec": {
   "display_name": "Python 3",
   "language": "python",
   "name": "python3"
  },
  "language_info": {
   "codemirror_mode": {
    "name": "ipython",
    "version": 3
   },
   "file_extension": ".py",
   "mimetype": "text/x-python",
   "name": "python",
   "nbconvert_exporter": "python",
   "pygments_lexer": "ipython3",
   "version": "3.8.5"
  }
 },
 "nbformat": 4,
 "nbformat_minor": 4
}