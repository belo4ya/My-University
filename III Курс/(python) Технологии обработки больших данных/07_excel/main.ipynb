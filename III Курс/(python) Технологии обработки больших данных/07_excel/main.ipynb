{
 "cells": [
  {
   "cell_type": "markdown",
   "metadata": {},
   "source": [
    "# Работа с Excel"
   ]
  },
  {
   "cell_type": "markdown",
   "metadata": {},
   "source": [
    "Материалы:\n",
    "* Макрушин С.В. Лекция 7: Работа с Excel\n",
    "* https://docs.xlwings.org/en/stable/quickstart.html\n",
    "* https://nbviewer.jupyter.org/github/pybokeh/jupyter_notebooks/blob/master/xlwings/Excel_Formatting.ipynb#search_text\n"
   ]
  },
  {
   "cell_type": "code",
   "execution_count": 228,
   "outputs": [],
   "source": [
    "from pathlib import Path\n",
    "\n",
    "import pandas as pd\n",
    "import xlwings as xw\n",
    "from xlwings.constants import BordersIndex, BorderWeight, HAlign, RgbColor"
   ],
   "metadata": {
    "collapsed": false,
    "pycharm": {
     "name": "#%%\n"
    }
   }
  },
  {
   "cell_type": "code",
   "execution_count": 229,
   "outputs": [],
   "source": [
    "DATA_DIR = Path('data/')\n",
    "OUTPUT_DIR = Path('output/')"
   ],
   "metadata": {
    "collapsed": false,
    "pycharm": {
     "name": "#%%\n"
    }
   }
  },
  {
   "cell_type": "code",
   "execution_count": 230,
   "outputs": [],
   "source": [
    "def get_new_col_idx(sheet):\n",
    "    return sheet.range('A1').expand('right').shape[1] + 1\n",
    "\n",
    "\n",
    "def get_last_row_idx(sheet):\n",
    "    return sheet.range('A1').expand('down').shape[0]\n",
    "\n",
    "\n",
    "def format_header(cell):\n",
    "    sheet.range(cell).api.Font.Bold = True\n",
    "    sheet.range(cell).api.HorizontalAlignment = HAlign.xlHAlignCenter\n",
    "    for col_idx in (\n",
    "            BordersIndex.xlEdgeTop,\n",
    "            BordersIndex.xlEdgeRight,\n",
    "            BordersIndex.xlEdgeBottom,\n",
    "            BordersIndex.xlEdgeLeft\n",
    "    ):\n",
    "        sheet.range(cell).api.Borders(col_idx).LineStyle = 1\n",
    "        sheet.range(cell).api.Borders(col_idx).Weight = BorderWeight.xlThin"
   ],
   "metadata": {
    "collapsed": false,
    "pycharm": {
     "name": "#%%\n"
    }
   }
  },
  {
   "cell_type": "markdown",
   "metadata": {},
   "source": [
    "## Задачи для совместного разбора"
   ]
  },
  {
   "cell_type": "markdown",
   "metadata": {},
   "source": [
    "1. На листе \"Рецептура\" файла `себестоимостьА_в1.xlsx` для области \"Пшеничный хлеб\" рассчитать себестоимость всех видов продукции."
   ]
  },
  {
   "cell_type": "markdown",
   "metadata": {},
   "source": [
    "2. Результаты расчетов 1.1 сохранить в отдельном столбце области \"Пшеничный хлеб\""
   ]
  },
  {
   "cell_type": "markdown",
   "metadata": {},
   "source": [
    "3. Приблизить форматирование столбца, добавленного в задаче 2 к оформлению всей области."
   ]
  },
  {
   "cell_type": "markdown",
   "metadata": {},
   "source": [
    "4. Выполнить 3 с помощью \"протягиваемых\" формул."
   ]
  },
  {
   "cell_type": "markdown",
   "metadata": {},
   "source": [
    "## Лабораторная работа 7"
   ]
  },
  {
   "cell_type": "markdown",
   "metadata": {},
   "source": [
    "1. Загрузите данные из файлов `reviews_sample.csv` (__ЛР2__) и `recipes_sample_with_tags_ingredients.csv` (__ЛР5__) в виде `pd.DataFrame`. Обратите внимание на корректное считывание столбца(ов) с индексами. Оставьте в таблице с рецептами следующие столбцы: `id`, `name`, `minutes`, `submitted`, `description`, `n_ingredients`"
   ]
  },
  {
   "cell_type": "code",
   "execution_count": 231,
   "outputs": [
    {
     "data": {
      "text/plain": "           user_id  recipe_id       date  rating  \\\n370476       21752      57993 2003-05-01       5   \n624300      431813     142201 2007-09-16       5   \n187037      400708     252013 2008-01-10       4   \n706134  2001852463     404716 2017-12-11       5   \n312179       95810     129396 2008-03-14       5   \n\n                                                   review  \n370476  Last week whole sides of frozen salmon fillet ...  \n624300  So simple and so tasty!  I used a yellow capsi...  \n187037  Very nice breakfast HH, easy to make and yummy...  \n706134  These are a favorite for the holidays and so e...  \n312179  Excellent soup!  The tomato flavor is just gre...  ",
      "text/html": "<div>\n<style scoped>\n    .dataframe tbody tr th:only-of-type {\n        vertical-align: middle;\n    }\n\n    .dataframe tbody tr th {\n        vertical-align: top;\n    }\n\n    .dataframe thead th {\n        text-align: right;\n    }\n</style>\n<table border=\"1\" class=\"dataframe\">\n  <thead>\n    <tr style=\"text-align: right;\">\n      <th></th>\n      <th>user_id</th>\n      <th>recipe_id</th>\n      <th>date</th>\n      <th>rating</th>\n      <th>review</th>\n    </tr>\n  </thead>\n  <tbody>\n    <tr>\n      <th>370476</th>\n      <td>21752</td>\n      <td>57993</td>\n      <td>2003-05-01</td>\n      <td>5</td>\n      <td>Last week whole sides of frozen salmon fillet ...</td>\n    </tr>\n    <tr>\n      <th>624300</th>\n      <td>431813</td>\n      <td>142201</td>\n      <td>2007-09-16</td>\n      <td>5</td>\n      <td>So simple and so tasty!  I used a yellow capsi...</td>\n    </tr>\n    <tr>\n      <th>187037</th>\n      <td>400708</td>\n      <td>252013</td>\n      <td>2008-01-10</td>\n      <td>4</td>\n      <td>Very nice breakfast HH, easy to make and yummy...</td>\n    </tr>\n    <tr>\n      <th>706134</th>\n      <td>2001852463</td>\n      <td>404716</td>\n      <td>2017-12-11</td>\n      <td>5</td>\n      <td>These are a favorite for the holidays and so e...</td>\n    </tr>\n    <tr>\n      <th>312179</th>\n      <td>95810</td>\n      <td>129396</td>\n      <td>2008-03-14</td>\n      <td>5</td>\n      <td>Excellent soup!  The tomato flavor is just gre...</td>\n    </tr>\n  </tbody>\n</table>\n</div>"
     },
     "execution_count": 231,
     "metadata": {},
     "output_type": "execute_result"
    }
   ],
   "source": [
    "reviews_df = pd.read_csv(\n",
    "    DATA_DIR.joinpath('reviews_sample.csv'),\n",
    "    sep=',',\n",
    "    index_col=0,\n",
    "    parse_dates=['date']\n",
    ")\n",
    "reviews_df.head()"
   ],
   "metadata": {
    "collapsed": false,
    "pycharm": {
     "name": "#%%\n"
    }
   }
  },
  {
   "cell_type": "code",
   "execution_count": 232,
   "outputs": [
    {
     "data": {
      "text/plain": "                                       name     id  minutes  submitted  \\\n0     george s at the cove  black bean soup  44123       90 2002-10-25   \n1        healthy for them  yogurt popsicles  67664       10 2003-07-26   \n2              i can t believe it s spinach  38798       30 2002-08-29   \n3                      italian  gut busters  35173       45 2002-07-27   \n4  love is in the air  beef fondue   sauces  84797       25 2004-02-23   \n\n                                         description  n_ingredients  \n0  an original recipe created by chef scott meska...           18.0  \n1  my children and their friends ask for my homem...            NaN  \n2            these were so go, it surprised even me.            8.0  \n3  my sister-in-law made these for us at a family...            NaN  \n4  i think a fondue is a very romantic casual din...            NaN  ",
      "text/html": "<div>\n<style scoped>\n    .dataframe tbody tr th:only-of-type {\n        vertical-align: middle;\n    }\n\n    .dataframe tbody tr th {\n        vertical-align: top;\n    }\n\n    .dataframe thead th {\n        text-align: right;\n    }\n</style>\n<table border=\"1\" class=\"dataframe\">\n  <thead>\n    <tr style=\"text-align: right;\">\n      <th></th>\n      <th>name</th>\n      <th>id</th>\n      <th>minutes</th>\n      <th>submitted</th>\n      <th>description</th>\n      <th>n_ingredients</th>\n    </tr>\n  </thead>\n  <tbody>\n    <tr>\n      <th>0</th>\n      <td>george s at the cove  black bean soup</td>\n      <td>44123</td>\n      <td>90</td>\n      <td>2002-10-25</td>\n      <td>an original recipe created by chef scott meska...</td>\n      <td>18.0</td>\n    </tr>\n    <tr>\n      <th>1</th>\n      <td>healthy for them  yogurt popsicles</td>\n      <td>67664</td>\n      <td>10</td>\n      <td>2003-07-26</td>\n      <td>my children and their friends ask for my homem...</td>\n      <td>NaN</td>\n    </tr>\n    <tr>\n      <th>2</th>\n      <td>i can t believe it s spinach</td>\n      <td>38798</td>\n      <td>30</td>\n      <td>2002-08-29</td>\n      <td>these were so go, it surprised even me.</td>\n      <td>8.0</td>\n    </tr>\n    <tr>\n      <th>3</th>\n      <td>italian  gut busters</td>\n      <td>35173</td>\n      <td>45</td>\n      <td>2002-07-27</td>\n      <td>my sister-in-law made these for us at a family...</td>\n      <td>NaN</td>\n    </tr>\n    <tr>\n      <th>4</th>\n      <td>love is in the air  beef fondue   sauces</td>\n      <td>84797</td>\n      <td>25</td>\n      <td>2004-02-23</td>\n      <td>i think a fondue is a very romantic casual din...</td>\n      <td>NaN</td>\n    </tr>\n  </tbody>\n</table>\n</div>"
     },
     "execution_count": 232,
     "metadata": {},
     "output_type": "execute_result"
    }
   ],
   "source": [
    "recipes_df = pd.read_csv(\n",
    "    DATA_DIR.joinpath('recipes_sample_with_filled_nsteps.csv'),\n",
    "    sep=',',\n",
    "    usecols=['id', 'name', 'minutes', 'submitted', 'description', 'n_ingredients'],\n",
    "    parse_dates=['submitted']\n",
    ")\n",
    "recipes_df.head()"
   ],
   "metadata": {
    "collapsed": false,
    "pycharm": {
     "name": "#%%\n"
    }
   }
  },
  {
   "cell_type": "markdown",
   "metadata": {},
   "source": [
    "2. Случайным образом выберите 5% строк из каждой таблицы и сохраните две таблицы на разные листы в один файл `recipes.xlsx`. Дайте листам названия \"Рецепты\" и \"Отзывы\", соответствующие содержанию таблиц. "
   ]
  },
  {
   "cell_type": "code",
   "execution_count": 233,
   "outputs": [
    {
     "data": {
      "text/plain": "           user_id  recipe_id       date  rating  \\\n995774      280271     382536 2012-10-07       4   \n134625      830622      74007 2011-01-03       4   \n309425      241948      95680 2007-01-13       5   \n142633      369386     257172 2007-11-15       5   \n187543      102519        246 2004-08-01       3   \n...            ...        ...        ...     ...   \n474584       55729      86129 2005-07-24       4   \n990923     1518560     226555 2010-01-21       5   \n852589       37449     413824 2010-03-24       5   \n101310       68460      43901 2004-10-31       5   \n520804  2001593683     412465 2017-06-21       5   \n\n                                                   review  \n995774  I loved it...but DH didn't...he really didn't ...  \n134625  Okay, even though I messed up on this pie- usi...  \n309425  Made these with family friends. GREAT for kids...  \n142633  These were funny! I got a cat and a bat in my ...  \n187543  This is a fairly good dip but it needed more f...  \n...                                                   ...  \n474584  On a recent health kick, I bought a 2 lb. bag ...  \n990923  I LOVE this recipe!  I just made it tonight fo...  \n852589  Oh yummy yum yum! I used Asian Chili sauce and...  \n101310  I can't believe this hasn't been rated yet!  T...  \n520804  My family loves these! My husband's favorite b...  \n\n[6335 rows x 5 columns]",
      "text/html": "<div>\n<style scoped>\n    .dataframe tbody tr th:only-of-type {\n        vertical-align: middle;\n    }\n\n    .dataframe tbody tr th {\n        vertical-align: top;\n    }\n\n    .dataframe thead th {\n        text-align: right;\n    }\n</style>\n<table border=\"1\" class=\"dataframe\">\n  <thead>\n    <tr style=\"text-align: right;\">\n      <th></th>\n      <th>user_id</th>\n      <th>recipe_id</th>\n      <th>date</th>\n      <th>rating</th>\n      <th>review</th>\n    </tr>\n  </thead>\n  <tbody>\n    <tr>\n      <th>995774</th>\n      <td>280271</td>\n      <td>382536</td>\n      <td>2012-10-07</td>\n      <td>4</td>\n      <td>I loved it...but DH didn't...he really didn't ...</td>\n    </tr>\n    <tr>\n      <th>134625</th>\n      <td>830622</td>\n      <td>74007</td>\n      <td>2011-01-03</td>\n      <td>4</td>\n      <td>Okay, even though I messed up on this pie- usi...</td>\n    </tr>\n    <tr>\n      <th>309425</th>\n      <td>241948</td>\n      <td>95680</td>\n      <td>2007-01-13</td>\n      <td>5</td>\n      <td>Made these with family friends. GREAT for kids...</td>\n    </tr>\n    <tr>\n      <th>142633</th>\n      <td>369386</td>\n      <td>257172</td>\n      <td>2007-11-15</td>\n      <td>5</td>\n      <td>These were funny! I got a cat and a bat in my ...</td>\n    </tr>\n    <tr>\n      <th>187543</th>\n      <td>102519</td>\n      <td>246</td>\n      <td>2004-08-01</td>\n      <td>3</td>\n      <td>This is a fairly good dip but it needed more f...</td>\n    </tr>\n    <tr>\n      <th>...</th>\n      <td>...</td>\n      <td>...</td>\n      <td>...</td>\n      <td>...</td>\n      <td>...</td>\n    </tr>\n    <tr>\n      <th>474584</th>\n      <td>55729</td>\n      <td>86129</td>\n      <td>2005-07-24</td>\n      <td>4</td>\n      <td>On a recent health kick, I bought a 2 lb. bag ...</td>\n    </tr>\n    <tr>\n      <th>990923</th>\n      <td>1518560</td>\n      <td>226555</td>\n      <td>2010-01-21</td>\n      <td>5</td>\n      <td>I LOVE this recipe!  I just made it tonight fo...</td>\n    </tr>\n    <tr>\n      <th>852589</th>\n      <td>37449</td>\n      <td>413824</td>\n      <td>2010-03-24</td>\n      <td>5</td>\n      <td>Oh yummy yum yum! I used Asian Chili sauce and...</td>\n    </tr>\n    <tr>\n      <th>101310</th>\n      <td>68460</td>\n      <td>43901</td>\n      <td>2004-10-31</td>\n      <td>5</td>\n      <td>I can't believe this hasn't been rated yet!  T...</td>\n    </tr>\n    <tr>\n      <th>520804</th>\n      <td>2001593683</td>\n      <td>412465</td>\n      <td>2017-06-21</td>\n      <td>5</td>\n      <td>My family loves these! My husband's favorite b...</td>\n    </tr>\n  </tbody>\n</table>\n<p>6335 rows × 5 columns</p>\n</div>"
     },
     "execution_count": 233,
     "metadata": {},
     "output_type": "execute_result"
    }
   ],
   "source": [
    "reviews_sample = reviews_df.sample(frac=0.05)\n",
    "reviews_sample"
   ],
   "metadata": {
    "collapsed": false,
    "pycharm": {
     "name": "#%%\n"
    }
   }
  },
  {
   "cell_type": "code",
   "execution_count": 234,
   "outputs": [
    {
     "data": {
      "text/plain": "                                             name      id  minutes  submitted  \\\n13091                      ground beef stroganoff  123503       15 2005-05-24   \n21678  pumpkin coffee cake with brown sugar glaze  484133       40 2012-07-24   \n3670                           bread machine naan  303556       90 2008-05-14   \n4545                     candied yams with apples   74509       95 2003-10-30   \n20621                    pesto mozzarella skewers  203322       30 2007-01-04   \n...                                           ...     ...      ...        ...   \n11631        fruit  honey and coconut energy bars   94905       15 2004-07-02   \n2213                  banana walnut and date loaf  326718       75 2008-09-22   \n14633                  italian chicken sandwiches  185051       13 2006-09-07   \n22006                     quick  tasty tuna wraps  302932       10 2008-05-09   \n1448                    autumn beef mushroom soup  255200       55 2007-09-24   \n\n                                             description  n_ingredients  \n13091  this is one of my mother's recipes that i've m...           10.0  \n21678  found on pinterest.  looks delicious!  i am go...           12.0  \n3670   i was looking for a recipe for naan that i cou...            NaN  \n4545   this sounds so good. i got the recipe out of a...            8.0  \n20621  a beautiful and tasty way to use the widely av...            8.0  \n...                                                  ...            ...  \n11631  why pay almost $3 or $4 for an overpriced box ...           11.0  \n2213   great for the lunch box! this loaf can be topp...            9.0  \n14633  got this from the healthy, hearty cookbook. so...            5.0  \n22006  i created this when i didn't have alot of mone...            6.0  \n1448   a delicious, colorful soup. originally a highl...            NaN  \n\n[1500 rows x 6 columns]",
      "text/html": "<div>\n<style scoped>\n    .dataframe tbody tr th:only-of-type {\n        vertical-align: middle;\n    }\n\n    .dataframe tbody tr th {\n        vertical-align: top;\n    }\n\n    .dataframe thead th {\n        text-align: right;\n    }\n</style>\n<table border=\"1\" class=\"dataframe\">\n  <thead>\n    <tr style=\"text-align: right;\">\n      <th></th>\n      <th>name</th>\n      <th>id</th>\n      <th>minutes</th>\n      <th>submitted</th>\n      <th>description</th>\n      <th>n_ingredients</th>\n    </tr>\n  </thead>\n  <tbody>\n    <tr>\n      <th>13091</th>\n      <td>ground beef stroganoff</td>\n      <td>123503</td>\n      <td>15</td>\n      <td>2005-05-24</td>\n      <td>this is one of my mother's recipes that i've m...</td>\n      <td>10.0</td>\n    </tr>\n    <tr>\n      <th>21678</th>\n      <td>pumpkin coffee cake with brown sugar glaze</td>\n      <td>484133</td>\n      <td>40</td>\n      <td>2012-07-24</td>\n      <td>found on pinterest.  looks delicious!  i am go...</td>\n      <td>12.0</td>\n    </tr>\n    <tr>\n      <th>3670</th>\n      <td>bread machine naan</td>\n      <td>303556</td>\n      <td>90</td>\n      <td>2008-05-14</td>\n      <td>i was looking for a recipe for naan that i cou...</td>\n      <td>NaN</td>\n    </tr>\n    <tr>\n      <th>4545</th>\n      <td>candied yams with apples</td>\n      <td>74509</td>\n      <td>95</td>\n      <td>2003-10-30</td>\n      <td>this sounds so good. i got the recipe out of a...</td>\n      <td>8.0</td>\n    </tr>\n    <tr>\n      <th>20621</th>\n      <td>pesto mozzarella skewers</td>\n      <td>203322</td>\n      <td>30</td>\n      <td>2007-01-04</td>\n      <td>a beautiful and tasty way to use the widely av...</td>\n      <td>8.0</td>\n    </tr>\n    <tr>\n      <th>...</th>\n      <td>...</td>\n      <td>...</td>\n      <td>...</td>\n      <td>...</td>\n      <td>...</td>\n      <td>...</td>\n    </tr>\n    <tr>\n      <th>11631</th>\n      <td>fruit  honey and coconut energy bars</td>\n      <td>94905</td>\n      <td>15</td>\n      <td>2004-07-02</td>\n      <td>why pay almost $3 or $4 for an overpriced box ...</td>\n      <td>11.0</td>\n    </tr>\n    <tr>\n      <th>2213</th>\n      <td>banana walnut and date loaf</td>\n      <td>326718</td>\n      <td>75</td>\n      <td>2008-09-22</td>\n      <td>great for the lunch box! this loaf can be topp...</td>\n      <td>9.0</td>\n    </tr>\n    <tr>\n      <th>14633</th>\n      <td>italian chicken sandwiches</td>\n      <td>185051</td>\n      <td>13</td>\n      <td>2006-09-07</td>\n      <td>got this from the healthy, hearty cookbook. so...</td>\n      <td>5.0</td>\n    </tr>\n    <tr>\n      <th>22006</th>\n      <td>quick  tasty tuna wraps</td>\n      <td>302932</td>\n      <td>10</td>\n      <td>2008-05-09</td>\n      <td>i created this when i didn't have alot of mone...</td>\n      <td>6.0</td>\n    </tr>\n    <tr>\n      <th>1448</th>\n      <td>autumn beef mushroom soup</td>\n      <td>255200</td>\n      <td>55</td>\n      <td>2007-09-24</td>\n      <td>a delicious, colorful soup. originally a highl...</td>\n      <td>NaN</td>\n    </tr>\n  </tbody>\n</table>\n<p>1500 rows × 6 columns</p>\n</div>"
     },
     "execution_count": 234,
     "metadata": {},
     "output_type": "execute_result"
    }
   ],
   "source": [
    "recipes_sample = recipes_df.sample(frac=0.05)\n",
    "recipes_sample"
   ],
   "metadata": {
    "collapsed": false,
    "pycharm": {
     "name": "#%%\n"
    }
   }
  },
  {
   "cell_type": "code",
   "execution_count": 235,
   "outputs": [],
   "source": [
    "with pd.ExcelWriter(OUTPUT_DIR.joinpath('recipes.xlsx')) as writer:\n",
    "    reviews_sample.to_excel(writer, sheet_name='Отзывы', index=False)\n",
    "    recipes_sample.to_excel(writer, sheet_name='Рецепты', index=False)"
   ],
   "metadata": {
    "collapsed": false,
    "pycharm": {
     "name": "#%%\n"
    }
   }
  },
  {
   "cell_type": "markdown",
   "metadata": {},
   "source": [
    "3. Используя `xlwings`, добавьте на лист `Рецепты` столбец `seconds_assign`, показывающий время выполнения рецепта в секундах. Выполните задание при помощи присваивания массива значений диапазону ячеек."
   ]
  },
  {
   "cell_type": "code",
   "execution_count": 236,
   "outputs": [],
   "source": [
    "wb = xw.Book(OUTPUT_DIR.joinpath('recipes.xlsx'))"
   ],
   "metadata": {
    "collapsed": false,
    "pycharm": {
     "name": "#%%\n"
    }
   }
  },
  {
   "cell_type": "code",
   "execution_count": 237,
   "outputs": [],
   "source": [
    "sheet = wb.sheets['Рецепты']"
   ],
   "metadata": {
    "collapsed": false,
    "pycharm": {
     "name": "#%%\n"
    }
   }
  },
  {
   "cell_type": "code",
   "execution_count": 238,
   "outputs": [],
   "source": [
    "seconds_assign = (recipes_sample['minutes'] * 60).rename('seconds_assign')\n",
    "cell = (1, get_new_col_idx(sheet))\n",
    "sheet.range(cell).options(index=False).value = seconds_assign\n",
    "format_header(cell)"
   ],
   "metadata": {
    "collapsed": false,
    "pycharm": {
     "name": "#%%\n"
    }
   }
  },
  {
   "cell_type": "markdown",
   "metadata": {},
   "source": [
    "4. Используя `xlwings`, добавьте на лист `Рецепты` столбец `seconds_formula`, показывающий время выполнения рецепта в секундах. Выполните задание при помощи формул Excel."
   ]
  },
  {
   "cell_type": "code",
   "execution_count": 239,
   "outputs": [],
   "source": [
    "formula = '=C2 * 60'\n",
    "col_idx = get_new_col_idx(sheet)\n",
    "last_row_idx = get_last_row_idx(sheet)\n",
    "\n",
    "sheet.range(1, col_idx).value = 'seconds_formula'\n",
    "sheet.range((2, col_idx), (last_row_idx, col_idx)).formula = formula\n",
    "format_header((1, col_idx))"
   ],
   "metadata": {
    "collapsed": false,
    "pycharm": {
     "name": "#%%\n"
    }
   }
  },
  {
   "cell_type": "markdown",
   "metadata": {},
   "source": [
    "5. Добавьте на лист `Рецепты`  столбец `n_reviews`, содержащий кол-во отзывов для этого рецепта. Выполните задание при помощи формул Excel."
   ]
  },
  {
   "cell_type": "code",
   "execution_count": 240,
   "outputs": [],
   "source": [
    "formula = '=COUNTIF(Отзывы!B:B, \"=\"&B2)'  # чем я занимаюсь -_- ?????????????????????????????????????????????????????????????????????????????????????????????????????????????????????????????????????????????????????????????????????????????????????????????????????????????????????????????\n",
    "col_idx = get_new_col_idx(sheet)\n",
    "last_row_idx = get_last_row_idx(sheet)\n",
    "\n",
    "sheet.range(1, col_idx).value = 'n_reviews'\n",
    "sheet.range((2, col_idx), (last_row_idx, col_idx)).formula = formula\n",
    "format_header((1, col_idx))"
   ],
   "metadata": {
    "collapsed": false,
    "pycharm": {
     "name": "#%%\n"
    }
   }
  },
  {
   "cell_type": "markdown",
   "metadata": {},
   "source": [
    "6. Сделайте названия всех добавленных столбцов полужирными и выровняйте по центру ячейки."
   ]
  },
  {
   "cell_type": "code",
   "execution_count": 241,
   "outputs": [
    {
     "data": {
      "text/plain": "['У', 'ж', 'е']"
     },
     "execution_count": 241,
     "metadata": {},
     "output_type": "execute_result"
    }
   ],
   "source": [
    "[*'Уже']"
   ],
   "metadata": {
    "collapsed": false,
    "pycharm": {
     "name": "#%%\n"
    }
   }
  },
  {
   "cell_type": "code",
   "execution_count": 242,
   "outputs": [],
   "source": [
    "sheet.range('A1').expand('right').autofit()"
   ],
   "metadata": {
    "collapsed": false,
    "pycharm": {
     "name": "#%%\n"
    }
   }
  },
  {
   "cell_type": "markdown",
   "metadata": {},
   "source": [
    "7. Раскрасьте ячейки столбца `minutes` в соответствии со следующим правилом: если рецепт выполняется быстрее 5 минут, то цвет - зеленый; от 5 до 10 минут - жёлтый; и больше 10 - красный."
   ]
  },
  {
   "cell_type": "code",
   "execution_count": 243,
   "outputs": [],
   "source": [
    "last_row_idx = get_last_row_idx(sheet)\n",
    "values = sheet.range(f'C2:C{last_row_idx}').value  # так быстрее\n",
    "for i in range(last_row_idx - 1):\n",
    "    # кажется это кейс для match-case, нужно ставить python 3.10\n",
    "    minutes = values[i]\n",
    "    if minutes < 5:\n",
    "        color = RgbColor.rgbLimeGreen\n",
    "    elif 5 <= minutes <= 10:\n",
    "        color = RgbColor.rgbYellow\n",
    "    else:\n",
    "        color = RgbColor.rgbRed\n",
    "    sheet.range(f'C{i + 2}').color = color\n",
    "\n",
    "# 1500 строчек, как же д-о-ооооооооооооооооо-о-лго"
   ],
   "metadata": {
    "collapsed": false,
    "pycharm": {
     "name": "#%%\n"
    }
   }
  },
  {
   "cell_type": "markdown",
   "metadata": {},
   "source": [
    "8. Напишите функцию `validate()`, которая проверяет соответствие всех строк из листа `Отзывы` следующим правилам:\n",
    "    * Рейтинг - это число от 0 до 5 включительно\n",
    "    * Соответствующий рецепт имеется на листе `Рецепты`\n",
    "    \n",
    "В случае несоответствия этим правилам, выделите строку красным цветом"
   ]
  },
  {
   "cell_type": "code",
   "execution_count": 244,
   "outputs": [],
   "source": [
    "import numpy as np\n",
    "\n",
    "\n",
    "def random_color(n: int) -> int:\n",
    "    colors = list(map(\n",
    "        lambda x: x[1],\n",
    "        filter(lambda x: x[0].startswith('rgb') and 'White' not in x[0], RgbColor.__dict__.items())\n",
    "    ))\n",
    "    colors_sample_idx = np.random.default_rng().integers(0, len(colors), n)\n",
    "    i = 0\n",
    "    while True:\n",
    "        yield colors[colors_sample_idx[i % n]]\n",
    "        i += 1"
   ],
   "metadata": {
    "collapsed": false,
    "pycharm": {
     "name": "#%%\n"
    }
   }
  },
  {
   "cell_type": "code",
   "execution_count": 245,
   "metadata": {},
   "outputs": [],
   "source": [
    "import timeit\n",
    "\n",
    "\n",
    "def validate(wb: xw.Book) -> None:\n",
    "    reviews_sheet = wb.sheets['Отзывы']\n",
    "    recipes_sheet = wb.sheets['Рецепты']\n",
    "\n",
    "    def invalid_recipe_id() -> pd.Series:\n",
    "        reviews_recipe_id_range = find_col(reviews_sheet, 'recipe_id')\n",
    "        recipes_id_range = find_col(recipes_sheet, 'id')\n",
    "\n",
    "        reviews_recipe_id_series = pd.Series(reviews_recipe_id_range.value[1:], dtype=int)\n",
    "        recipes_id_series = pd.Series(recipes_id_range.value[1:], dtype=int)\n",
    "\n",
    "        return reviews_recipe_id_series[~reviews_recipe_id_series.isin(recipes_id_series)]\n",
    "\n",
    "    def invalid_rating() -> pd.Series:\n",
    "        rating_range = find_col(reviews_sheet, 'rating')\n",
    "        rating_series = pd.Series(rating_range.value[1:], dtype=int)\n",
    "\n",
    "        return rating_series[(5 < rating_series) | (rating_series < 0)]\n",
    "\n",
    "    def format_bad(*list_bad_indexes) -> None:\n",
    "        last_col_idx = reviews_sheet.range('A1').expand('right').shape[1]\n",
    "        color_generator = random_color(len(list_bad_indexes[0]))\n",
    "        for bad_indexes in list_bad_indexes:\n",
    "            for i in bad_indexes:\n",
    "                row_i = i + 2\n",
    "                reviews_sheet.range((row_i, 1), (row_i, last_col_idx)).color = next(color_generator)\n",
    "\n",
    "    start = timeit.default_timer()\n",
    "    recipe_id_bad_indexes = invalid_recipe_id().index\n",
    "    print(f'recipe_id_bad_indexes: {timeit.default_timer() - start}')\n",
    "\n",
    "    start = timeit.default_timer()\n",
    "    rating_bad_indexes = invalid_rating().index\n",
    "    print(f'rating_bad_indexes: {timeit.default_timer() - start}')\n",
    "\n",
    "    start = timeit.default_timer()\n",
    "    format_bad(recipe_id_bad_indexes, rating_bad_indexes)\n",
    "    print(f'format_bad: {timeit.default_timer() - start}')\n",
    "\n",
    "\n",
    "def find_col(sheet: xw.Sheet, name: str) -> xw.Range:\n",
    "    headers: list = sheet.range('A1').expand('right').value\n",
    "    col_idx = headers.index(name) + 1\n",
    "    return sheet.range(1, col_idx).expand('down')"
   ]
  },
  {
   "cell_type": "code",
   "execution_count": 246,
   "outputs": [
    {
     "name": "stdout",
     "output_type": "stream",
     "text": [
      "recipe_id_bad_indexes: 0.08959409999988566\n",
      "rating_bad_indexes: 0.04636960000061663\n",
      "format_bad: 15.652697099998477\n"
     ]
    }
   ],
   "source": [
    "validate(wb)"
   ],
   "metadata": {
    "collapsed": false,
    "pycharm": {
     "name": "#%%\n"
    }
   }
  },
  {
   "cell_type": "code",
   "execution_count": 247,
   "outputs": [],
   "source": [
    "wb.save()\n",
    "wb.close()\n"
   ],
   "metadata": {
    "collapsed": false,
    "pycharm": {
     "name": "#%%\n"
    }
   }
  }
 ],
 "metadata": {
  "kernelspec": {
   "display_name": "Python 3",
   "language": "python",
   "name": "python3"
  },
  "language_info": {
   "codemirror_mode": {
    "name": "ipython",
    "version": 3
   },
   "file_extension": ".py",
   "mimetype": "text/x-python",
   "name": "python",
   "nbconvert_exporter": "python",
   "pygments_lexer": "ipython3",
   "version": "3.8.5"
  }
 },
 "nbformat": 4,
 "nbformat_minor": 4
}