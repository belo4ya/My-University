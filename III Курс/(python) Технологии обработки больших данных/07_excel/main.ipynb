{
 "cells": [
  {
   "cell_type": "markdown",
   "metadata": {},
   "source": [
    "# Работа с Excel"
   ]
  },
  {
   "cell_type": "markdown",
   "metadata": {},
   "source": [
    "Материалы:\n",
    "* Макрушин С.В. Лекция 7: Работа с Excel\n",
    "* https://docs.xlwings.org/en/stable/quickstart.html\n",
    "* https://nbviewer.jupyter.org/github/pybokeh/jupyter_notebooks/blob/master/xlwings/Excel_Formatting.ipynb#search_text\n"
   ]
  },
  {
   "cell_type": "code",
   "execution_count": 23,
   "outputs": [],
   "source": [
    "from pathlib import Path\n",
    "\n",
    "import pandas as pd\n",
    "import xlwings as xw\n",
    "from xlwings.constants import BordersIndex, BorderWeight, HAlign, RgbColor"
   ],
   "metadata": {
    "collapsed": false,
    "pycharm": {
     "name": "#%%\n"
    }
   }
  },
  {
   "cell_type": "code",
   "execution_count": 2,
   "outputs": [],
   "source": [
    "DATA_DIR = Path('data/')\n",
    "OUTPUT_DIR = Path('output/')"
   ],
   "metadata": {
    "collapsed": false,
    "pycharm": {
     "name": "#%%\n"
    }
   }
  },
  {
   "cell_type": "code",
   "execution_count": 16,
   "outputs": [],
   "source": [
    "def get_new_col_idx(sheet):\n",
    "    return sheet.range('A1').expand('right').shape[1] + 1\n",
    "\n",
    "\n",
    "def get_last_row_idx(sheet):\n",
    "    return sheet.range('A1').expand('down').shape[0]\n",
    "\n",
    "\n",
    "def format_header(cell):\n",
    "    sheet.range(cell).api.Font.Bold = True\n",
    "    sheet.range(cell).api.HorizontalAlignment = HAlign.xlHAlignCenter\n",
    "    for col_idx in (\n",
    "            BordersIndex.xlEdgeTop,\n",
    "            BordersIndex.xlEdgeRight,\n",
    "            BordersIndex.xlEdgeBottom,\n",
    "            BordersIndex.xlEdgeLeft\n",
    "    ):\n",
    "        sheet.range(cell).api.Borders(col_idx).LineStyle = 1\n",
    "        sheet.range(cell).api.Borders(col_idx).Weight = BorderWeight.xlThin"
   ],
   "metadata": {
    "collapsed": false,
    "pycharm": {
     "name": "#%%\n"
    }
   }
  },
  {
   "cell_type": "markdown",
   "metadata": {},
   "source": [
    "## Задачи для совместного разбора"
   ]
  },
  {
   "cell_type": "markdown",
   "metadata": {},
   "source": [
    "1. На листе \"Рецептура\" файла `себестоимостьА_в1.xlsx` для области \"Пшеничный хлеб\" рассчитать себестоимость всех видов продукции."
   ]
  },
  {
   "cell_type": "markdown",
   "metadata": {},
   "source": [
    "2. Результаты расчетов 1.1 сохранить в отдельном столбце области \"Пшеничный хлеб\""
   ]
  },
  {
   "cell_type": "markdown",
   "metadata": {},
   "source": [
    "3. Приблизить форматирование столбца, добавленного в задаче 2 к оформлению всей области."
   ]
  },
  {
   "cell_type": "markdown",
   "metadata": {},
   "source": [
    "4. Выполнить 3 с помощью \"протягиваемых\" формул."
   ]
  },
  {
   "cell_type": "markdown",
   "metadata": {},
   "source": [
    "## Лабораторная работа 7"
   ]
  },
  {
   "cell_type": "markdown",
   "metadata": {},
   "source": [
    "1. Загрузите данные из файлов `reviews_sample.csv` (__ЛР2__) и `recipes_sample_with_tags_ingredients.csv` (__ЛР5__) в виде `pd.DataFrame`. Обратите внимание на корректное считывание столбца(ов) с индексами. Оставьте в таблице с рецептами следующие столбцы: `id`, `name`, `minutes`, `submitted`, `description`, `n_ingredients`"
   ]
  },
  {
   "cell_type": "code",
   "execution_count": 4,
   "outputs": [
    {
     "data": {
      "text/plain": "           user_id  recipe_id       date  rating  \\\n370476       21752      57993 2003-05-01       5   \n624300      431813     142201 2007-09-16       5   \n187037      400708     252013 2008-01-10       4   \n706134  2001852463     404716 2017-12-11       5   \n312179       95810     129396 2008-03-14       5   \n\n                                                   review  \n370476  Last week whole sides of frozen salmon fillet ...  \n624300  So simple and so tasty!  I used a yellow capsi...  \n187037  Very nice breakfast HH, easy to make and yummy...  \n706134  These are a favorite for the holidays and so e...  \n312179  Excellent soup!  The tomato flavor is just gre...  ",
      "text/html": "<div>\n<style scoped>\n    .dataframe tbody tr th:only-of-type {\n        vertical-align: middle;\n    }\n\n    .dataframe tbody tr th {\n        vertical-align: top;\n    }\n\n    .dataframe thead th {\n        text-align: right;\n    }\n</style>\n<table border=\"1\" class=\"dataframe\">\n  <thead>\n    <tr style=\"text-align: right;\">\n      <th></th>\n      <th>user_id</th>\n      <th>recipe_id</th>\n      <th>date</th>\n      <th>rating</th>\n      <th>review</th>\n    </tr>\n  </thead>\n  <tbody>\n    <tr>\n      <th>370476</th>\n      <td>21752</td>\n      <td>57993</td>\n      <td>2003-05-01</td>\n      <td>5</td>\n      <td>Last week whole sides of frozen salmon fillet ...</td>\n    </tr>\n    <tr>\n      <th>624300</th>\n      <td>431813</td>\n      <td>142201</td>\n      <td>2007-09-16</td>\n      <td>5</td>\n      <td>So simple and so tasty!  I used a yellow capsi...</td>\n    </tr>\n    <tr>\n      <th>187037</th>\n      <td>400708</td>\n      <td>252013</td>\n      <td>2008-01-10</td>\n      <td>4</td>\n      <td>Very nice breakfast HH, easy to make and yummy...</td>\n    </tr>\n    <tr>\n      <th>706134</th>\n      <td>2001852463</td>\n      <td>404716</td>\n      <td>2017-12-11</td>\n      <td>5</td>\n      <td>These are a favorite for the holidays and so e...</td>\n    </tr>\n    <tr>\n      <th>312179</th>\n      <td>95810</td>\n      <td>129396</td>\n      <td>2008-03-14</td>\n      <td>5</td>\n      <td>Excellent soup!  The tomato flavor is just gre...</td>\n    </tr>\n  </tbody>\n</table>\n</div>"
     },
     "execution_count": 4,
     "metadata": {},
     "output_type": "execute_result"
    }
   ],
   "source": [
    "reviews_df = pd.read_csv(\n",
    "    DATA_DIR.joinpath('reviews_sample.csv'),\n",
    "    sep=',',\n",
    "    index_col=0,\n",
    "    parse_dates=['date']\n",
    ")\n",
    "reviews_df.head()"
   ],
   "metadata": {
    "collapsed": false,
    "pycharm": {
     "name": "#%%\n"
    }
   }
  },
  {
   "cell_type": "code",
   "execution_count": 5,
   "outputs": [
    {
     "data": {
      "text/plain": "                                       name     id  minutes  submitted  \\\n0     george s at the cove  black bean soup  44123       90 2002-10-25   \n1        healthy for them  yogurt popsicles  67664       10 2003-07-26   \n2              i can t believe it s spinach  38798       30 2002-08-29   \n3                      italian  gut busters  35173       45 2002-07-27   \n4  love is in the air  beef fondue   sauces  84797       25 2004-02-23   \n\n                                         description  n_ingredients  \n0  an original recipe created by chef scott meska...           18.0  \n1  my children and their friends ask for my homem...            NaN  \n2            these were so go, it surprised even me.            8.0  \n3  my sister-in-law made these for us at a family...            NaN  \n4  i think a fondue is a very romantic casual din...            NaN  ",
      "text/html": "<div>\n<style scoped>\n    .dataframe tbody tr th:only-of-type {\n        vertical-align: middle;\n    }\n\n    .dataframe tbody tr th {\n        vertical-align: top;\n    }\n\n    .dataframe thead th {\n        text-align: right;\n    }\n</style>\n<table border=\"1\" class=\"dataframe\">\n  <thead>\n    <tr style=\"text-align: right;\">\n      <th></th>\n      <th>name</th>\n      <th>id</th>\n      <th>minutes</th>\n      <th>submitted</th>\n      <th>description</th>\n      <th>n_ingredients</th>\n    </tr>\n  </thead>\n  <tbody>\n    <tr>\n      <th>0</th>\n      <td>george s at the cove  black bean soup</td>\n      <td>44123</td>\n      <td>90</td>\n      <td>2002-10-25</td>\n      <td>an original recipe created by chef scott meska...</td>\n      <td>18.0</td>\n    </tr>\n    <tr>\n      <th>1</th>\n      <td>healthy for them  yogurt popsicles</td>\n      <td>67664</td>\n      <td>10</td>\n      <td>2003-07-26</td>\n      <td>my children and their friends ask for my homem...</td>\n      <td>NaN</td>\n    </tr>\n    <tr>\n      <th>2</th>\n      <td>i can t believe it s spinach</td>\n      <td>38798</td>\n      <td>30</td>\n      <td>2002-08-29</td>\n      <td>these were so go, it surprised even me.</td>\n      <td>8.0</td>\n    </tr>\n    <tr>\n      <th>3</th>\n      <td>italian  gut busters</td>\n      <td>35173</td>\n      <td>45</td>\n      <td>2002-07-27</td>\n      <td>my sister-in-law made these for us at a family...</td>\n      <td>NaN</td>\n    </tr>\n    <tr>\n      <th>4</th>\n      <td>love is in the air  beef fondue   sauces</td>\n      <td>84797</td>\n      <td>25</td>\n      <td>2004-02-23</td>\n      <td>i think a fondue is a very romantic casual din...</td>\n      <td>NaN</td>\n    </tr>\n  </tbody>\n</table>\n</div>"
     },
     "execution_count": 5,
     "metadata": {},
     "output_type": "execute_result"
    }
   ],
   "source": [
    "recipes_df = pd.read_csv(\n",
    "    DATA_DIR.joinpath('recipes_sample_with_filled_nsteps.csv'),\n",
    "    sep=',',\n",
    "    usecols=['id', 'name', 'minutes', 'submitted', 'description', 'n_ingredients'],\n",
    "    parse_dates=['submitted']\n",
    ")\n",
    "recipes_df.head()"
   ],
   "metadata": {
    "collapsed": false,
    "pycharm": {
     "name": "#%%\n"
    }
   }
  },
  {
   "cell_type": "markdown",
   "metadata": {},
   "source": [
    "2. Случайным образом выберите 5% строк из каждой таблицы и сохраните две таблицы на разные листы в один файл `recipes.xlsx`. Дайте листам названия \"Рецепты\" и \"Отзывы\", соответствующие содержанию таблиц. "
   ]
  },
  {
   "cell_type": "code",
   "execution_count": 6,
   "outputs": [
    {
     "data": {
      "text/plain": "            user_id  recipe_id       date  rating  \\\n706480       230258     164058 2006-05-31       5   \n247713        14410     346612 2009-12-23       5   \n15851        586022     102734 2008-02-06       4   \n387070   2000236904     153508 2015-05-30       5   \n3708          29450     171002 2008-06-15       5   \n...             ...        ...        ...     ...   \n145058       171790     284288 2008-11-26       5   \n1050312  2000584995      53878 2015-10-20       0   \n853140       560694      84797 2008-03-25       5   \n421390      7888220     278998 2013-08-28       1   \n899561        58104     318295 2008-08-24       3   \n\n                                                    review  \n706480   These were great!!!! It tasted like dessert, b...  \n247713   Very easy and tasty. My husband made it for su...  \n15851    These do taste like Lamberts!  I tried the rec...  \n387070   Love these.  I have had trouble with the stick...  \n3708     Well, Kitten, this was one of your recipes I h...  \n...                                                    ...  \n145058   This is an excellent pizza. The crust is quite...  \n1050312        Could you use sausage instead of pepperoni?  \n853140   Excellent selection of sauces for fondue & bey...  \n421390   I am so disappointed in this recipe.  Was supe...  \n899561   This was interesting! A bit too sweet and stro...  \n\n[6334 rows x 5 columns]",
      "text/html": "<div>\n<style scoped>\n    .dataframe tbody tr th:only-of-type {\n        vertical-align: middle;\n    }\n\n    .dataframe tbody tr th {\n        vertical-align: top;\n    }\n\n    .dataframe thead th {\n        text-align: right;\n    }\n</style>\n<table border=\"1\" class=\"dataframe\">\n  <thead>\n    <tr style=\"text-align: right;\">\n      <th></th>\n      <th>user_id</th>\n      <th>recipe_id</th>\n      <th>date</th>\n      <th>rating</th>\n      <th>review</th>\n    </tr>\n  </thead>\n  <tbody>\n    <tr>\n      <th>706480</th>\n      <td>230258</td>\n      <td>164058</td>\n      <td>2006-05-31</td>\n      <td>5</td>\n      <td>These were great!!!! It tasted like dessert, b...</td>\n    </tr>\n    <tr>\n      <th>247713</th>\n      <td>14410</td>\n      <td>346612</td>\n      <td>2009-12-23</td>\n      <td>5</td>\n      <td>Very easy and tasty. My husband made it for su...</td>\n    </tr>\n    <tr>\n      <th>15851</th>\n      <td>586022</td>\n      <td>102734</td>\n      <td>2008-02-06</td>\n      <td>4</td>\n      <td>These do taste like Lamberts!  I tried the rec...</td>\n    </tr>\n    <tr>\n      <th>387070</th>\n      <td>2000236904</td>\n      <td>153508</td>\n      <td>2015-05-30</td>\n      <td>5</td>\n      <td>Love these.  I have had trouble with the stick...</td>\n    </tr>\n    <tr>\n      <th>3708</th>\n      <td>29450</td>\n      <td>171002</td>\n      <td>2008-06-15</td>\n      <td>5</td>\n      <td>Well, Kitten, this was one of your recipes I h...</td>\n    </tr>\n    <tr>\n      <th>...</th>\n      <td>...</td>\n      <td>...</td>\n      <td>...</td>\n      <td>...</td>\n      <td>...</td>\n    </tr>\n    <tr>\n      <th>145058</th>\n      <td>171790</td>\n      <td>284288</td>\n      <td>2008-11-26</td>\n      <td>5</td>\n      <td>This is an excellent pizza. The crust is quite...</td>\n    </tr>\n    <tr>\n      <th>1050312</th>\n      <td>2000584995</td>\n      <td>53878</td>\n      <td>2015-10-20</td>\n      <td>0</td>\n      <td>Could you use sausage instead of pepperoni?</td>\n    </tr>\n    <tr>\n      <th>853140</th>\n      <td>560694</td>\n      <td>84797</td>\n      <td>2008-03-25</td>\n      <td>5</td>\n      <td>Excellent selection of sauces for fondue &amp; bey...</td>\n    </tr>\n    <tr>\n      <th>421390</th>\n      <td>7888220</td>\n      <td>278998</td>\n      <td>2013-08-28</td>\n      <td>1</td>\n      <td>I am so disappointed in this recipe.  Was supe...</td>\n    </tr>\n    <tr>\n      <th>899561</th>\n      <td>58104</td>\n      <td>318295</td>\n      <td>2008-08-24</td>\n      <td>3</td>\n      <td>This was interesting! A bit too sweet and stro...</td>\n    </tr>\n  </tbody>\n</table>\n<p>6334 rows × 5 columns</p>\n</div>"
     },
     "execution_count": 6,
     "metadata": {},
     "output_type": "execute_result"
    }
   ],
   "source": [
    "reviews_sample = reviews_df.sample(int(reviews_df.shape[0] * 0.05))\n",
    "reviews_sample"
   ],
   "metadata": {
    "collapsed": false,
    "pycharm": {
     "name": "#%%\n"
    }
   }
  },
  {
   "cell_type": "code",
   "execution_count": 7,
   "outputs": [
    {
     "data": {
      "text/plain": "                                                    name      id  minutes  \\\n29048                         warninks creme egg shooter  217529        4   \n8729                            crock pot tijuana turkey  219968      260   \n26650                         sweet cherry   almond tart   66423       60   \n21053                      polenta with butternut squash  164330       65   \n27939  trader joe s brownie truffle  nuwave  flavorwa...  283265       35   \n...                                                  ...     ...      ...   \n28167                        turkey bacon vegetable soup  449555       33   \n6803                 chocolate applesauce flax seed bars  177749       35   \n840                                   apple carrot salad  411505      120   \n17192                        mashed sweet potatoes brule  418062       50   \n23898                       shaker kentucky shoo fly pie  167431       40   \n\n       submitted                                        description  \\\n29048 2007-03-20  don't let the name fool you. this is a 3-layer...   \n8729  2007-03-31  the cocoa in this dish imparts a richness and ...   \n26650 2003-07-09  mmm! this is so good when sweet cherries are i...   \n21053 2006-04-14  butternut squash adds a lot of flavor and colo...   \n27939 2008-02-01  these are cooking directions for trader joe's\\...   \n...          ...                                                ...   \n28167 2011-02-25  after really really trying to like it, i still...   \n6803  2006-07-15  this is a variation of a recipe from \"desserts...   \n840   2010-02-02  a delicious way to get your fruits and veggies...   \n17192 2010-03-26  i thought i had a brainstorm one day and impro...   \n23898 2006-05-09  shaker cuisine is probably some of the best ea...   \n\n       n_ingredients  \n29048            NaN  \n8729             NaN  \n26650           10.0  \n21053           10.0  \n27939            NaN  \n...              ...  \n28167           12.0  \n6803             NaN  \n840              NaN  \n17192            8.0  \n23898            7.0  \n\n[1500 rows x 6 columns]",
      "text/html": "<div>\n<style scoped>\n    .dataframe tbody tr th:only-of-type {\n        vertical-align: middle;\n    }\n\n    .dataframe tbody tr th {\n        vertical-align: top;\n    }\n\n    .dataframe thead th {\n        text-align: right;\n    }\n</style>\n<table border=\"1\" class=\"dataframe\">\n  <thead>\n    <tr style=\"text-align: right;\">\n      <th></th>\n      <th>name</th>\n      <th>id</th>\n      <th>minutes</th>\n      <th>submitted</th>\n      <th>description</th>\n      <th>n_ingredients</th>\n    </tr>\n  </thead>\n  <tbody>\n    <tr>\n      <th>29048</th>\n      <td>warninks creme egg shooter</td>\n      <td>217529</td>\n      <td>4</td>\n      <td>2007-03-20</td>\n      <td>don't let the name fool you. this is a 3-layer...</td>\n      <td>NaN</td>\n    </tr>\n    <tr>\n      <th>8729</th>\n      <td>crock pot tijuana turkey</td>\n      <td>219968</td>\n      <td>260</td>\n      <td>2007-03-31</td>\n      <td>the cocoa in this dish imparts a richness and ...</td>\n      <td>NaN</td>\n    </tr>\n    <tr>\n      <th>26650</th>\n      <td>sweet cherry   almond tart</td>\n      <td>66423</td>\n      <td>60</td>\n      <td>2003-07-09</td>\n      <td>mmm! this is so good when sweet cherries are i...</td>\n      <td>10.0</td>\n    </tr>\n    <tr>\n      <th>21053</th>\n      <td>polenta with butternut squash</td>\n      <td>164330</td>\n      <td>65</td>\n      <td>2006-04-14</td>\n      <td>butternut squash adds a lot of flavor and colo...</td>\n      <td>10.0</td>\n    </tr>\n    <tr>\n      <th>27939</th>\n      <td>trader joe s brownie truffle  nuwave  flavorwa...</td>\n      <td>283265</td>\n      <td>35</td>\n      <td>2008-02-01</td>\n      <td>these are cooking directions for trader joe's\\...</td>\n      <td>NaN</td>\n    </tr>\n    <tr>\n      <th>...</th>\n      <td>...</td>\n      <td>...</td>\n      <td>...</td>\n      <td>...</td>\n      <td>...</td>\n      <td>...</td>\n    </tr>\n    <tr>\n      <th>28167</th>\n      <td>turkey bacon vegetable soup</td>\n      <td>449555</td>\n      <td>33</td>\n      <td>2011-02-25</td>\n      <td>after really really trying to like it, i still...</td>\n      <td>12.0</td>\n    </tr>\n    <tr>\n      <th>6803</th>\n      <td>chocolate applesauce flax seed bars</td>\n      <td>177749</td>\n      <td>35</td>\n      <td>2006-07-15</td>\n      <td>this is a variation of a recipe from \"desserts...</td>\n      <td>NaN</td>\n    </tr>\n    <tr>\n      <th>840</th>\n      <td>apple carrot salad</td>\n      <td>411505</td>\n      <td>120</td>\n      <td>2010-02-02</td>\n      <td>a delicious way to get your fruits and veggies...</td>\n      <td>NaN</td>\n    </tr>\n    <tr>\n      <th>17192</th>\n      <td>mashed sweet potatoes brule</td>\n      <td>418062</td>\n      <td>50</td>\n      <td>2010-03-26</td>\n      <td>i thought i had a brainstorm one day and impro...</td>\n      <td>8.0</td>\n    </tr>\n    <tr>\n      <th>23898</th>\n      <td>shaker kentucky shoo fly pie</td>\n      <td>167431</td>\n      <td>40</td>\n      <td>2006-05-09</td>\n      <td>shaker cuisine is probably some of the best ea...</td>\n      <td>7.0</td>\n    </tr>\n  </tbody>\n</table>\n<p>1500 rows × 6 columns</p>\n</div>"
     },
     "execution_count": 7,
     "metadata": {},
     "output_type": "execute_result"
    }
   ],
   "source": [
    "recipes_sample = recipes_df.sample(int(recipes_df.shape[0] * 0.05))\n",
    "recipes_sample"
   ],
   "metadata": {
    "collapsed": false,
    "pycharm": {
     "name": "#%%\n"
    }
   }
  },
  {
   "cell_type": "code",
   "execution_count": 8,
   "outputs": [],
   "source": [
    "with pd.ExcelWriter(OUTPUT_DIR.joinpath('recipes.xlsx')) as writer:\n",
    "    reviews_sample.to_excel(writer, sheet_name='Отзывы', index=False)\n",
    "    recipes_sample.to_excel(writer, sheet_name='Рецепты', index=False)"
   ],
   "metadata": {
    "collapsed": false,
    "pycharm": {
     "name": "#%%\n"
    }
   }
  },
  {
   "cell_type": "markdown",
   "metadata": {},
   "source": [
    "3. Используя `xlwings`, добавьте на лист `Рецепты` столбец `seconds_assign`, показывающий время выполнения рецепта в секундах. Выполните задание при помощи присваивания массива значений диапазону ячеек."
   ]
  },
  {
   "cell_type": "code",
   "execution_count": 9,
   "outputs": [],
   "source": [
    "wb = xw.Book(OUTPUT_DIR.joinpath('recipes.xlsx'))"
   ],
   "metadata": {
    "collapsed": false,
    "pycharm": {
     "name": "#%%\n"
    }
   }
  },
  {
   "cell_type": "code",
   "execution_count": 10,
   "outputs": [],
   "source": [
    "sheet = wb.sheets['Рецепты']"
   ],
   "metadata": {
    "collapsed": false,
    "pycharm": {
     "name": "#%%\n"
    }
   }
  },
  {
   "cell_type": "code",
   "execution_count": 11,
   "outputs": [],
   "source": [
    "seconds_assign = (recipes_sample['minutes'] * 60).rename('seconds_assign')\n",
    "cell = (1, get_new_col_idx(sheet))\n",
    "sheet.range(cell).options(index=False).value = seconds_assign\n",
    "format_header(cell)"
   ],
   "metadata": {
    "collapsed": false,
    "pycharm": {
     "name": "#%%\n"
    }
   }
  },
  {
   "cell_type": "markdown",
   "metadata": {},
   "source": [
    "4. Используя `xlwings`, добавьте на лист `Рецепты` столбец `seconds_formula`, показывающий время выполнения рецепта в секундах. Выполните задание при помощи формул Excel."
   ]
  },
  {
   "cell_type": "code",
   "execution_count": 12,
   "outputs": [],
   "source": [
    "formula = '=C2 * 60'\n",
    "col_idx = get_new_col_idx(sheet)\n",
    "last_row_idx = get_last_row_idx(sheet)\n",
    "\n",
    "sheet.range(1, col_idx).value = 'seconds_formula'\n",
    "sheet.range((2, col_idx), (last_row_idx, col_idx)).formula = formula\n",
    "format_header((1, col_idx))"
   ],
   "metadata": {
    "collapsed": false,
    "pycharm": {
     "name": "#%%\n"
    }
   }
  },
  {
   "cell_type": "markdown",
   "metadata": {},
   "source": [
    "5. Добавьте на лист `Рецепты`  столбец `n_reviews`, содержащий кол-во отзывов для этого рецепта. Выполните задание при помощи формул Excel."
   ]
  },
  {
   "cell_type": "code",
   "execution_count": 17,
   "outputs": [],
   "source": [
    "formula = '=COUNTIF(Отзывы!B:B, \"=\"&B2)'  # чем я занимаюсь -_- ?????????????????????????????????????????????????????????????????????????????????????????????????????????????????????????????????????????????????????????????????????????????????????????????????????????????????????????????\n",
    "col_idx = get_new_col_idx(sheet)\n",
    "last_row_idx = get_last_row_idx(sheet)\n",
    "\n",
    "sheet.range(1, col_idx).value = 'n_reviews'\n",
    "sheet.range((2, col_idx), (last_row_idx, col_idx)).formula = formula\n",
    "format_header((1, col_idx))"
   ],
   "metadata": {
    "collapsed": false,
    "pycharm": {
     "name": "#%%\n"
    }
   }
  },
  {
   "cell_type": "markdown",
   "metadata": {},
   "source": [
    "6. Сделайте названия всех добавленных столбцов полужирными и выровняйте по центру ячейки."
   ]
  },
  {
   "cell_type": "code",
   "execution_count": 19,
   "outputs": [
    {
     "data": {
      "text/plain": "['У', 'ж', 'е']"
     },
     "execution_count": 19,
     "metadata": {},
     "output_type": "execute_result"
    }
   ],
   "source": [
    "[*'Уже']"
   ],
   "metadata": {
    "collapsed": false,
    "pycharm": {
     "name": "#%%\n"
    }
   }
  },
  {
   "cell_type": "code",
   "execution_count": 20,
   "outputs": [],
   "source": [
    "sheet.range('A1').expand('right').autofit()"
   ],
   "metadata": {
    "collapsed": false,
    "pycharm": {
     "name": "#%%\n"
    }
   }
  },
  {
   "cell_type": "markdown",
   "metadata": {},
   "source": [
    "7. Раскрасьте ячейки столбца `minutes` в соответствии со следующим правилом: если рецепт выполняется быстрее 5 минут, то цвет - зеленый; от 5 до 10 минут - жёлтый; и больше 10 - красный."
   ]
  },
  {
   "cell_type": "code",
   "execution_count": 30,
   "outputs": [],
   "source": [
    "last_row_idx = get_last_row_idx(sheet)\n",
    "values = sheet.range(f'C2:C{last_row_idx}').value  # так, кажется, быстрее\n",
    "for i in range(last_row_idx - 1):\n",
    "    # кажется это кейс для match-case, нужно ставить python 3.10\n",
    "    minutes = values[i]\n",
    "    if minutes < 5:\n",
    "        color = RgbColor.rgbLimeGreen\n",
    "    elif 5 <= minutes <= 10:\n",
    "        color = RgbColor.rgbYellow\n",
    "    else:\n",
    "        color = RgbColor.rgbRed\n",
    "    sheet.range(f'C{i + 2}').color = color\n",
    "\n",
    "# 1500 строчек, как же д-о-оооооооооооооооооооооооооооооо-о-лго"
   ],
   "metadata": {
    "collapsed": false,
    "pycharm": {
     "name": "#%%\n"
    }
   }
  },
  {
   "cell_type": "markdown",
   "metadata": {},
   "source": [
    "8. Напишите функцию `validate()`, которая проверяет соответствие всех строк из листа `Отзывы` следующим правилам:\n",
    "    * Рейтинг - это число от 0 до 5 включительно\n",
    "    * Соответствующий рецепт имеется на листе `Рецепты`\n",
    "    \n",
    "В случае несоответствия этим правилам, выделите строку красным цветом"
   ]
  },
  {
   "cell_type": "code",
   "execution_count": null,
   "metadata": {},
   "outputs": [],
   "source": [
    "\n"
   ]
  }
 ],
 "metadata": {
  "kernelspec": {
   "display_name": "Python 3",
   "language": "python",
   "name": "python3"
  },
  "language_info": {
   "codemirror_mode": {
    "name": "ipython",
    "version": 3
   },
   "file_extension": ".py",
   "mimetype": "text/x-python",
   "name": "python",
   "nbconvert_exporter": "python",
   "pygments_lexer": "ipython3",
   "version": "3.8.5"
  }
 },
 "nbformat": 4,
 "nbformat_minor": 4
}