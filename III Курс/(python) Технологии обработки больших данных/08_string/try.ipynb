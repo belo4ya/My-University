{
 "cells": [
  {
   "cell_type": "code",
   "execution_count": 99,
   "metadata": {
    "collapsed": true
   },
   "outputs": [],
   "source": [
    "import random\n",
    "import string\n",
    "\n",
    "import numpy as np\n",
    "import pandas as pd"
   ]
  },
  {
   "cell_type": "code",
   "execution_count": 106,
   "outputs": [],
   "source": [
    "def random_df(n: int, m: int) -> pd.DataFrame:\n",
    "    rnd = Random(m)\n",
    "    data = [\n",
    "        rnd.random_int(),\n",
    "        rnd.random_float(),\n",
    "        rnd.random_str(),\n",
    "    ]\n",
    "    choice = [rnd.random_int, rnd.random_float, rnd.random_str]\n",
    "    for i in range(n - 3):\n",
    "        data.append(random.choice(choice)())\n",
    "\n",
    "    columns = [f'col_{i}' for i in range(n)]\n",
    "    dtypes = [i.dtype for i in data]\n",
    "\n",
    "    return pd.DataFrame(data=data, index=columns).transpose().astype(dict(zip(columns, dtypes)))\n",
    "\n",
    "\n",
    "class Random:\n",
    "\n",
    "    def __init__(self, n: int):\n",
    "        self._rnd = np.random.default_rng()\n",
    "        self._n = n\n",
    "\n",
    "    def random_int(self) -> np.ndarray:\n",
    "        return self._rnd.integers(10 ** 9, 10 ** 10, size=self._n)  # это 10-ый порядок?\n",
    "\n",
    "    def random_float(self) -> np.ndarray:\n",
    "        return np.round(self._rnd.random(size=self._n), 2)\n",
    "\n",
    "    def random_str(self) -> np.ndarray:\n",
    "        return np.array([\n",
    "            ''.join(self._rnd.choice(\n",
    "                list(string.ascii_letters),\n",
    "                self._rnd.integers(10, 101)\n",
    "            )) for _ in range(self._n)\n",
    "        ])"
   ],
   "metadata": {
    "collapsed": false,
    "pycharm": {
     "name": "#%%\n"
    }
   }
  },
  {
   "cell_type": "code",
   "execution_count": 110,
   "outputs": [
    {
     "data": {
      "text/plain": "          col_0  col_1                                              col_2  \\\n0    7447674501   0.57  NZgyyRMzhUZLdwCsoPadnJDRQyaQlIQniKDtGMCRVUZBKO...   \n1    4028555847   0.42  iPMhtcJQznukneYOHJfrZJJsprEJaUEcjxcLTRlszBSMxW...   \n2    2672793632   0.29  vrgpRUDVCboBAkKuUScnjGJTuebpLtahXScRdnkFqZYszf...   \n3    1414494951   0.27                                       bvfzHgrNMfWK   \n4    3430133512   0.95          elZZMoYcUQArYUXBgKhhwgCdObWMAafEAEHyiBYZV   \n..          ...    ...                                                ...   \n995  5981169784   0.83  VJCSpcTKQBnZsgXKbCgztbozCDoMmZhQTfJHljSRMaxGoD...   \n996  9683041229   0.73  pDjZhvpjIWdRngbWGXYafBOoGJZtjYAfShHmeQEyhrvwgX...   \n997  3409944417   0.17                                      qemlCMlaPMRRq   \n998  2604431065   0.90  yJqsqRULdgXtQsdyprehFYOmmnhbOpqKtmazcLBHTyvKWc...   \n999  9146719934   0.90  pZrznGOhOhnHgzrhGMqAynEItSDKwiCtRXuGYJWyIelrJv...   \n\n          col_3                                              col_4  \\\n0    2904168255                                        cJWHgGqFtLf   \n1    1796934542                 wgEzaHsbokonvcYgvsvVCpGmRuhYrLsycO   \n2    7911366713                       vknACetTIGpARLbzWdUpiGlDFsCZ   \n3    5998781579                 EKUOsOuAJqhMoRkpUUVeWXPvLXJjRGtiKQ   \n4    1135932282  vfyhHzhzimOGvnvDIQSkIAChsRmgrczydPvfDVzMYiudFU...   \n..          ...                                                ...   \n995  7284892455  YigzMdsphTtXJqfMkQkofiEfysAkHKXavhOiBAVBFPzANx...   \n996  7181503859  gDgwGemNaYirSEPVEdoZPPAYCyNVKqtrPlPCkhUiovQqMo...   \n997  6974823356                           fhVSQKTEXexFDDiyfGHLOEVF   \n998  4900012316                            AXBlqLhyxGJWysIqtCquAhY   \n999  4740085053  bssZSOErvmkYdNMBsZMqykNbKuKPCnBNBcjyIQmNMCQKTr...   \n\n          col_5  col_6       col_7  col_8       col_9  ... col_90      col_91  \\\n0    3610783483   0.54  3627431419   0.25  1889230217  ...   0.78  2218446130   \n1    9674713913   0.74  6924696105   0.94  9869421604  ...   0.56  1065430099   \n2    3400525877   0.25  5485759611   0.19  6081506969  ...   0.50  6398568642   \n3    4185111949   0.14  9651277128   0.12  3275648250  ...   0.73  4511435977   \n4    7132326338   0.55  2525191851   0.13  3613798197  ...   0.37  2153286900   \n..          ...    ...         ...    ...         ...  ...    ...         ...   \n995  1082675326   0.20  2324102299   0.36  2577620118  ...   0.32  3325455362   \n996  6833228108   0.07  5070066520   0.46  3337792630  ...   0.22  9233991436   \n997  4521979006   0.52  2188914897   0.64  1485058072  ...   0.21  8292261673   \n998  6348933340   0.02  6164445725   0.20  6892994809  ...   0.85  7732065385   \n999  8795339517   0.85  3737572961   0.74  8824321704  ...   0.60  8659072282   \n\n                                                col_92  \\\n0         wtxuuJvhfVXeUQVCVtzGcvPxwcwWQKFPQmcUJlNUVDmP   \n1    nTvPZWBKOLIAwmQDuMrUJQNjXpUHJwhMkpQnDkxyVaWFcJ...   \n2    EtcsictjADlQuCTRuquEyYmFqWdlrGhrCgPzXtemVGayoZ...   \n3           uazkDgRpgPGxdUWTeKdVHASwGFsEoGHxvZuxYYYMhl   \n4                                      ToKsnyfPbmFVXrI   \n..                                                 ...   \n995  egDsSETBmFcFCIfMiGRhhHYHhorxzggvnCTNnOfVQXmSLi...   \n996      ytZwuZbPmzceoVHKWCWUMPJvrpMamtniBsgTgQaaWURBT   \n997  nNTjvuHyjxaWwHKNvCoTmAyRVzyihDYMyugWYyzRRkiGPc...   \n998  hEBDNcOEHPRWWaLVnhJyfjWcLmyzBkwVRqUWEWJakmQLex...   \n999  XoOluFHKVDWzGkzJemAmweOgmmXqbtxnbLQpOgAuVKvGqK...   \n\n                                                col_93      col_94  \\\n0                         sedjaQdRGsXwPHNlXfwoidanHhWe  3125507055   \n1    qfHulGJuUzzYLUHOoJzKLfGdOuCvWKokNGvhOabFRAYFTL...  6980263280   \n2                                  nLqhffQnLduXMWWmlQW  6896757884   \n3               RNRcrxeSUoUSqvfslGCiTjPDvGBgwSatniMwAA  6245178627   \n4    OTSMyKtDkQYCUBzAHyTTjYVtLRPVxkDfmFIIinTcsPerZJ...  3838888903   \n..                                                 ...         ...   \n995         EdULggfClanJfVxfWHyHpIHbntaHKMKZaJoGdSLoah  9292414995   \n996  xcdpTkguxgQyicVjWgxHBDuOzeIEChcUhwNWBiILzYOchk...  1517061025   \n997  PwOTMmdsGOWqBknjHRYdQFdxDHmolZZspNKrmaTzWynkmM...  3430097488   \n998  GkPpJCwJBKVsopEBnSeeWTgaYioxShtKIwxlxEVRWkfyKz...  8843666534   \n999  MFXWyZAXikItHToGgMguMbbNYeTEBJTCxkMRGKBcAcdNyL...  7188323927   \n\n         col_95                                             col_96  \\\n0    9356152331                YsqsaXaxCDbAvJKwVvwKykOdzHnuWShTFcH   \n1    9004315347                  fotSvSzmwhVfCfbwIXVivXPBGBQWVnDpg   \n2    2836382779  srmLzxdJzYJpavvEOvtrXunugspxESPHCCxiMknqsvWJTe...   \n3    6470597017  RVMZKjpttcFtruLBKbEpFyhDtNLInXkXcqfYjmBUKlunWq...   \n4    9208786221                                   XEDjVeICvGiryeyk   \n..          ...                                                ...   \n995  7154356423  xdmjXbPQQouqewGsDvuXfIaSsOTBKOzrYyuzzNyjmPErtH...   \n996  4167845184  yABluHlsUDSvWtUYuhBNIfaokAWqNMNsnJPJXBwXoaNAgM...   \n997  1656612667  ftQzTGFsQwoeNpmCEDmJRJXuKklkcUzYNSOhmNaxFvGaau...   \n998  9794602097  UCIKfSQGtLVoXWKbIiyyZkTNZMcnmqNvbUPbZTFCYyObAJ...   \n999  7670619577                       TPOIuRFLiAhFPbeDBEikPHHUxKyv   \n\n         col_97      col_98      col_99  \n0    6486627716  1636324421  3970663844  \n1    1639616823  2842928998  5008754295  \n2    7829261841  2139982847  5788999048  \n3    9458750764  4270724528  6329585699  \n4    3106899838  8755446231  7363490810  \n..          ...         ...         ...  \n995  5263870128  3365734966  6040240590  \n996  4122078012  9564141387  6851793787  \n997  1594928459  4212389603  7622274836  \n998  7005989717  2889493237  8999971324  \n999  8059092299  5829027372  9437384605  \n\n[1000 rows x 100 columns]",
      "text/html": "<div>\n<style scoped>\n    .dataframe tbody tr th:only-of-type {\n        vertical-align: middle;\n    }\n\n    .dataframe tbody tr th {\n        vertical-align: top;\n    }\n\n    .dataframe thead th {\n        text-align: right;\n    }\n</style>\n<table border=\"1\" class=\"dataframe\">\n  <thead>\n    <tr style=\"text-align: right;\">\n      <th></th>\n      <th>col_0</th>\n      <th>col_1</th>\n      <th>col_2</th>\n      <th>col_3</th>\n      <th>col_4</th>\n      <th>col_5</th>\n      <th>col_6</th>\n      <th>col_7</th>\n      <th>col_8</th>\n      <th>col_9</th>\n      <th>...</th>\n      <th>col_90</th>\n      <th>col_91</th>\n      <th>col_92</th>\n      <th>col_93</th>\n      <th>col_94</th>\n      <th>col_95</th>\n      <th>col_96</th>\n      <th>col_97</th>\n      <th>col_98</th>\n      <th>col_99</th>\n    </tr>\n  </thead>\n  <tbody>\n    <tr>\n      <th>0</th>\n      <td>7447674501</td>\n      <td>0.57</td>\n      <td>NZgyyRMzhUZLdwCsoPadnJDRQyaQlIQniKDtGMCRVUZBKO...</td>\n      <td>2904168255</td>\n      <td>cJWHgGqFtLf</td>\n      <td>3610783483</td>\n      <td>0.54</td>\n      <td>3627431419</td>\n      <td>0.25</td>\n      <td>1889230217</td>\n      <td>...</td>\n      <td>0.78</td>\n      <td>2218446130</td>\n      <td>wtxuuJvhfVXeUQVCVtzGcvPxwcwWQKFPQmcUJlNUVDmP</td>\n      <td>sedjaQdRGsXwPHNlXfwoidanHhWe</td>\n      <td>3125507055</td>\n      <td>9356152331</td>\n      <td>YsqsaXaxCDbAvJKwVvwKykOdzHnuWShTFcH</td>\n      <td>6486627716</td>\n      <td>1636324421</td>\n      <td>3970663844</td>\n    </tr>\n    <tr>\n      <th>1</th>\n      <td>4028555847</td>\n      <td>0.42</td>\n      <td>iPMhtcJQznukneYOHJfrZJJsprEJaUEcjxcLTRlszBSMxW...</td>\n      <td>1796934542</td>\n      <td>wgEzaHsbokonvcYgvsvVCpGmRuhYrLsycO</td>\n      <td>9674713913</td>\n      <td>0.74</td>\n      <td>6924696105</td>\n      <td>0.94</td>\n      <td>9869421604</td>\n      <td>...</td>\n      <td>0.56</td>\n      <td>1065430099</td>\n      <td>nTvPZWBKOLIAwmQDuMrUJQNjXpUHJwhMkpQnDkxyVaWFcJ...</td>\n      <td>qfHulGJuUzzYLUHOoJzKLfGdOuCvWKokNGvhOabFRAYFTL...</td>\n      <td>6980263280</td>\n      <td>9004315347</td>\n      <td>fotSvSzmwhVfCfbwIXVivXPBGBQWVnDpg</td>\n      <td>1639616823</td>\n      <td>2842928998</td>\n      <td>5008754295</td>\n    </tr>\n    <tr>\n      <th>2</th>\n      <td>2672793632</td>\n      <td>0.29</td>\n      <td>vrgpRUDVCboBAkKuUScnjGJTuebpLtahXScRdnkFqZYszf...</td>\n      <td>7911366713</td>\n      <td>vknACetTIGpARLbzWdUpiGlDFsCZ</td>\n      <td>3400525877</td>\n      <td>0.25</td>\n      <td>5485759611</td>\n      <td>0.19</td>\n      <td>6081506969</td>\n      <td>...</td>\n      <td>0.50</td>\n      <td>6398568642</td>\n      <td>EtcsictjADlQuCTRuquEyYmFqWdlrGhrCgPzXtemVGayoZ...</td>\n      <td>nLqhffQnLduXMWWmlQW</td>\n      <td>6896757884</td>\n      <td>2836382779</td>\n      <td>srmLzxdJzYJpavvEOvtrXunugspxESPHCCxiMknqsvWJTe...</td>\n      <td>7829261841</td>\n      <td>2139982847</td>\n      <td>5788999048</td>\n    </tr>\n    <tr>\n      <th>3</th>\n      <td>1414494951</td>\n      <td>0.27</td>\n      <td>bvfzHgrNMfWK</td>\n      <td>5998781579</td>\n      <td>EKUOsOuAJqhMoRkpUUVeWXPvLXJjRGtiKQ</td>\n      <td>4185111949</td>\n      <td>0.14</td>\n      <td>9651277128</td>\n      <td>0.12</td>\n      <td>3275648250</td>\n      <td>...</td>\n      <td>0.73</td>\n      <td>4511435977</td>\n      <td>uazkDgRpgPGxdUWTeKdVHASwGFsEoGHxvZuxYYYMhl</td>\n      <td>RNRcrxeSUoUSqvfslGCiTjPDvGBgwSatniMwAA</td>\n      <td>6245178627</td>\n      <td>6470597017</td>\n      <td>RVMZKjpttcFtruLBKbEpFyhDtNLInXkXcqfYjmBUKlunWq...</td>\n      <td>9458750764</td>\n      <td>4270724528</td>\n      <td>6329585699</td>\n    </tr>\n    <tr>\n      <th>4</th>\n      <td>3430133512</td>\n      <td>0.95</td>\n      <td>elZZMoYcUQArYUXBgKhhwgCdObWMAafEAEHyiBYZV</td>\n      <td>1135932282</td>\n      <td>vfyhHzhzimOGvnvDIQSkIAChsRmgrczydPvfDVzMYiudFU...</td>\n      <td>7132326338</td>\n      <td>0.55</td>\n      <td>2525191851</td>\n      <td>0.13</td>\n      <td>3613798197</td>\n      <td>...</td>\n      <td>0.37</td>\n      <td>2153286900</td>\n      <td>ToKsnyfPbmFVXrI</td>\n      <td>OTSMyKtDkQYCUBzAHyTTjYVtLRPVxkDfmFIIinTcsPerZJ...</td>\n      <td>3838888903</td>\n      <td>9208786221</td>\n      <td>XEDjVeICvGiryeyk</td>\n      <td>3106899838</td>\n      <td>8755446231</td>\n      <td>7363490810</td>\n    </tr>\n    <tr>\n      <th>...</th>\n      <td>...</td>\n      <td>...</td>\n      <td>...</td>\n      <td>...</td>\n      <td>...</td>\n      <td>...</td>\n      <td>...</td>\n      <td>...</td>\n      <td>...</td>\n      <td>...</td>\n      <td>...</td>\n      <td>...</td>\n      <td>...</td>\n      <td>...</td>\n      <td>...</td>\n      <td>...</td>\n      <td>...</td>\n      <td>...</td>\n      <td>...</td>\n      <td>...</td>\n      <td>...</td>\n    </tr>\n    <tr>\n      <th>995</th>\n      <td>5981169784</td>\n      <td>0.83</td>\n      <td>VJCSpcTKQBnZsgXKbCgztbozCDoMmZhQTfJHljSRMaxGoD...</td>\n      <td>7284892455</td>\n      <td>YigzMdsphTtXJqfMkQkofiEfysAkHKXavhOiBAVBFPzANx...</td>\n      <td>1082675326</td>\n      <td>0.20</td>\n      <td>2324102299</td>\n      <td>0.36</td>\n      <td>2577620118</td>\n      <td>...</td>\n      <td>0.32</td>\n      <td>3325455362</td>\n      <td>egDsSETBmFcFCIfMiGRhhHYHhorxzggvnCTNnOfVQXmSLi...</td>\n      <td>EdULggfClanJfVxfWHyHpIHbntaHKMKZaJoGdSLoah</td>\n      <td>9292414995</td>\n      <td>7154356423</td>\n      <td>xdmjXbPQQouqewGsDvuXfIaSsOTBKOzrYyuzzNyjmPErtH...</td>\n      <td>5263870128</td>\n      <td>3365734966</td>\n      <td>6040240590</td>\n    </tr>\n    <tr>\n      <th>996</th>\n      <td>9683041229</td>\n      <td>0.73</td>\n      <td>pDjZhvpjIWdRngbWGXYafBOoGJZtjYAfShHmeQEyhrvwgX...</td>\n      <td>7181503859</td>\n      <td>gDgwGemNaYirSEPVEdoZPPAYCyNVKqtrPlPCkhUiovQqMo...</td>\n      <td>6833228108</td>\n      <td>0.07</td>\n      <td>5070066520</td>\n      <td>0.46</td>\n      <td>3337792630</td>\n      <td>...</td>\n      <td>0.22</td>\n      <td>9233991436</td>\n      <td>ytZwuZbPmzceoVHKWCWUMPJvrpMamtniBsgTgQaaWURBT</td>\n      <td>xcdpTkguxgQyicVjWgxHBDuOzeIEChcUhwNWBiILzYOchk...</td>\n      <td>1517061025</td>\n      <td>4167845184</td>\n      <td>yABluHlsUDSvWtUYuhBNIfaokAWqNMNsnJPJXBwXoaNAgM...</td>\n      <td>4122078012</td>\n      <td>9564141387</td>\n      <td>6851793787</td>\n    </tr>\n    <tr>\n      <th>997</th>\n      <td>3409944417</td>\n      <td>0.17</td>\n      <td>qemlCMlaPMRRq</td>\n      <td>6974823356</td>\n      <td>fhVSQKTEXexFDDiyfGHLOEVF</td>\n      <td>4521979006</td>\n      <td>0.52</td>\n      <td>2188914897</td>\n      <td>0.64</td>\n      <td>1485058072</td>\n      <td>...</td>\n      <td>0.21</td>\n      <td>8292261673</td>\n      <td>nNTjvuHyjxaWwHKNvCoTmAyRVzyihDYMyugWYyzRRkiGPc...</td>\n      <td>PwOTMmdsGOWqBknjHRYdQFdxDHmolZZspNKrmaTzWynkmM...</td>\n      <td>3430097488</td>\n      <td>1656612667</td>\n      <td>ftQzTGFsQwoeNpmCEDmJRJXuKklkcUzYNSOhmNaxFvGaau...</td>\n      <td>1594928459</td>\n      <td>4212389603</td>\n      <td>7622274836</td>\n    </tr>\n    <tr>\n      <th>998</th>\n      <td>2604431065</td>\n      <td>0.90</td>\n      <td>yJqsqRULdgXtQsdyprehFYOmmnhbOpqKtmazcLBHTyvKWc...</td>\n      <td>4900012316</td>\n      <td>AXBlqLhyxGJWysIqtCquAhY</td>\n      <td>6348933340</td>\n      <td>0.02</td>\n      <td>6164445725</td>\n      <td>0.20</td>\n      <td>6892994809</td>\n      <td>...</td>\n      <td>0.85</td>\n      <td>7732065385</td>\n      <td>hEBDNcOEHPRWWaLVnhJyfjWcLmyzBkwVRqUWEWJakmQLex...</td>\n      <td>GkPpJCwJBKVsopEBnSeeWTgaYioxShtKIwxlxEVRWkfyKz...</td>\n      <td>8843666534</td>\n      <td>9794602097</td>\n      <td>UCIKfSQGtLVoXWKbIiyyZkTNZMcnmqNvbUPbZTFCYyObAJ...</td>\n      <td>7005989717</td>\n      <td>2889493237</td>\n      <td>8999971324</td>\n    </tr>\n    <tr>\n      <th>999</th>\n      <td>9146719934</td>\n      <td>0.90</td>\n      <td>pZrznGOhOhnHgzrhGMqAynEItSDKwiCtRXuGYJWyIelrJv...</td>\n      <td>4740085053</td>\n      <td>bssZSOErvmkYdNMBsZMqykNbKuKPCnBNBcjyIQmNMCQKTr...</td>\n      <td>8795339517</td>\n      <td>0.85</td>\n      <td>3737572961</td>\n      <td>0.74</td>\n      <td>8824321704</td>\n      <td>...</td>\n      <td>0.60</td>\n      <td>8659072282</td>\n      <td>XoOluFHKVDWzGkzJemAmweOgmmXqbtxnbLQpOgAuVKvGqK...</td>\n      <td>MFXWyZAXikItHToGgMguMbbNYeTEBJTCxkMRGKBcAcdNyL...</td>\n      <td>7188323927</td>\n      <td>7670619577</td>\n      <td>TPOIuRFLiAhFPbeDBEikPHHUxKyv</td>\n      <td>8059092299</td>\n      <td>5829027372</td>\n      <td>9437384605</td>\n    </tr>\n  </tbody>\n</table>\n<p>1000 rows × 100 columns</p>\n</div>"
     },
     "execution_count": 110,
     "metadata": {},
     "output_type": "execute_result"
    }
   ],
   "source": [
    "df = random_df(100, 1000)\n",
    "df"
   ],
   "metadata": {
    "collapsed": false,
    "pycharm": {
     "name": "#%%\n"
    }
   }
  },
  {
   "cell_type": "code",
   "execution_count": 111,
   "outputs": [
    {
     "name": "stdout",
     "output_type": "stream",
     "text": [
      "<class 'pandas.core.frame.DataFrame'>\n",
      "RangeIndex: 1000 entries, 0 to 999\n",
      "Data columns (total 100 columns):\n",
      " #   Column  Non-Null Count  Dtype  \n",
      "---  ------  --------------  -----  \n",
      " 0   col_0   1000 non-null   int64  \n",
      " 1   col_1   1000 non-null   float64\n",
      " 2   col_2   1000 non-null   object \n",
      " 3   col_3   1000 non-null   int64  \n",
      " 4   col_4   1000 non-null   object \n",
      " 5   col_5   1000 non-null   int64  \n",
      " 6   col_6   1000 non-null   float64\n",
      " 7   col_7   1000 non-null   int64  \n",
      " 8   col_8   1000 non-null   float64\n",
      " 9   col_9   1000 non-null   int64  \n",
      " 10  col_10  1000 non-null   object \n",
      " 11  col_11  1000 non-null   float64\n",
      " 12  col_12  1000 non-null   int64  \n",
      " 13  col_13  1000 non-null   object \n",
      " 14  col_14  1000 non-null   int64  \n",
      " 15  col_15  1000 non-null   object \n",
      " 16  col_16  1000 non-null   float64\n",
      " 17  col_17  1000 non-null   float64\n",
      " 18  col_18  1000 non-null   float64\n",
      " 19  col_19  1000 non-null   int64  \n",
      " 20  col_20  1000 non-null   object \n",
      " 21  col_21  1000 non-null   float64\n",
      " 22  col_22  1000 non-null   int64  \n",
      " 23  col_23  1000 non-null   object \n",
      " 24  col_24  1000 non-null   float64\n",
      " 25  col_25  1000 non-null   object \n",
      " 26  col_26  1000 non-null   object \n",
      " 27  col_27  1000 non-null   object \n",
      " 28  col_28  1000 non-null   object \n",
      " 29  col_29  1000 non-null   float64\n",
      " 30  col_30  1000 non-null   int64  \n",
      " 31  col_31  1000 non-null   int64  \n",
      " 32  col_32  1000 non-null   float64\n",
      " 33  col_33  1000 non-null   int64  \n",
      " 34  col_34  1000 non-null   float64\n",
      " 35  col_35  1000 non-null   float64\n",
      " 36  col_36  1000 non-null   object \n",
      " 37  col_37  1000 non-null   float64\n",
      " 38  col_38  1000 non-null   float64\n",
      " 39  col_39  1000 non-null   object \n",
      " 40  col_40  1000 non-null   int64  \n",
      " 41  col_41  1000 non-null   float64\n",
      " 42  col_42  1000 non-null   int64  \n",
      " 43  col_43  1000 non-null   float64\n",
      " 44  col_44  1000 non-null   float64\n",
      " 45  col_45  1000 non-null   int64  \n",
      " 46  col_46  1000 non-null   object \n",
      " 47  col_47  1000 non-null   int64  \n",
      " 48  col_48  1000 non-null   float64\n",
      " 49  col_49  1000 non-null   object \n",
      " 50  col_50  1000 non-null   float64\n",
      " 51  col_51  1000 non-null   float64\n",
      " 52  col_52  1000 non-null   int64  \n",
      " 53  col_53  1000 non-null   float64\n",
      " 54  col_54  1000 non-null   float64\n",
      " 55  col_55  1000 non-null   object \n",
      " 56  col_56  1000 non-null   object \n",
      " 57  col_57  1000 non-null   object \n",
      " 58  col_58  1000 non-null   float64\n",
      " 59  col_59  1000 non-null   object \n",
      " 60  col_60  1000 non-null   object \n",
      " 61  col_61  1000 non-null   float64\n",
      " 62  col_62  1000 non-null   object \n",
      " 63  col_63  1000 non-null   int64  \n",
      " 64  col_64  1000 non-null   float64\n",
      " 65  col_65  1000 non-null   object \n",
      " 66  col_66  1000 non-null   object \n",
      " 67  col_67  1000 non-null   object \n",
      " 68  col_68  1000 non-null   object \n",
      " 69  col_69  1000 non-null   float64\n",
      " 70  col_70  1000 non-null   object \n",
      " 71  col_71  1000 non-null   object \n",
      " 72  col_72  1000 non-null   object \n",
      " 73  col_73  1000 non-null   float64\n",
      " 74  col_74  1000 non-null   object \n",
      " 75  col_75  1000 non-null   object \n",
      " 76  col_76  1000 non-null   float64\n",
      " 77  col_77  1000 non-null   float64\n",
      " 78  col_78  1000 non-null   object \n",
      " 79  col_79  1000 non-null   int64  \n",
      " 80  col_80  1000 non-null   object \n",
      " 81  col_81  1000 non-null   object \n",
      " 82  col_82  1000 non-null   object \n",
      " 83  col_83  1000 non-null   object \n",
      " 84  col_84  1000 non-null   float64\n",
      " 85  col_85  1000 non-null   int64  \n",
      " 86  col_86  1000 non-null   int64  \n",
      " 87  col_87  1000 non-null   int64  \n",
      " 88  col_88  1000 non-null   int64  \n",
      " 89  col_89  1000 non-null   int64  \n",
      " 90  col_90  1000 non-null   float64\n",
      " 91  col_91  1000 non-null   int64  \n",
      " 92  col_92  1000 non-null   object \n",
      " 93  col_93  1000 non-null   object \n",
      " 94  col_94  1000 non-null   int64  \n",
      " 95  col_95  1000 non-null   int64  \n",
      " 96  col_96  1000 non-null   object \n",
      " 97  col_97  1000 non-null   int64  \n",
      " 98  col_98  1000 non-null   int64  \n",
      " 99  col_99  1000 non-null   int64  \n",
      "dtypes: float64(32), int64(30), object(38)\n",
      "memory usage: 781.4+ KB\n"
     ]
    }
   ],
   "source": [
    "df.info()"
   ],
   "metadata": {
    "collapsed": false,
    "pycharm": {
     "name": "#%%\n"
    }
   }
  },
  {
   "cell_type": "code",
   "execution_count": null,
   "outputs": [],
   "source": [],
   "metadata": {
    "collapsed": false,
    "pycharm": {
     "name": "#%%\n"
    }
   }
  }
 ],
 "metadata": {
  "kernelspec": {
   "display_name": "Python 3",
   "language": "python",
   "name": "python3"
  },
  "language_info": {
   "codemirror_mode": {
    "name": "ipython",
    "version": 2
   },
   "file_extension": ".py",
   "mimetype": "text/x-python",
   "name": "python",
   "nbconvert_exporter": "python",
   "pygments_lexer": "ipython2",
   "version": "2.7.6"
  }
 },
 "nbformat": 4,
 "nbformat_minor": 0
}