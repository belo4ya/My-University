{
 "cells": [
  {
   "cell_type": "markdown",
   "metadata": {},
   "source": [
    "# Работа со строковыми значениями"
   ]
  },
  {
   "cell_type": "markdown",
   "metadata": {},
   "source": [
    "Материалы:\n",
    "* Макрушин С.В. Лекция 8: Работа со строковыми значениям\n",
    "* https://pyformat.info/\n",
    "* https://docs.python.org/3/library/re.html\n",
    "* https://tproger.ru/translations/regular-expression-python/\n",
    "* https://realpython.com/nltk-nlp-python/"
   ]
  },
  {
   "cell_type": "code",
   "execution_count": 53,
   "outputs": [],
   "source": [
    "import datetime as dt\n",
    "import random\n",
    "import re\n",
    "import string\n",
    "from pathlib import Path\n",
    "from typing import Iterable\n",
    "\n",
    "import nltk\n",
    "import pandas as pd\n",
    "from IPython.display import Pretty\n",
    "from bs4 import BeautifulSoup"
   ],
   "metadata": {
    "collapsed": false,
    "pycharm": {
     "name": "#%%\n"
    }
   }
  },
  {
   "cell_type": "code",
   "execution_count": 2,
   "outputs": [],
   "source": [
    "DATA_DIR = Path('data/')\n",
    "OUTPUT_DIR = Path('output/')"
   ],
   "metadata": {
    "collapsed": false,
    "pycharm": {
     "name": "#%%\n"
    }
   }
  },
  {
   "cell_type": "code",
   "execution_count": 3,
   "outputs": [],
   "source": [
    "def read_xml(path: str) -> BeautifulSoup:\n",
    "    with open(path, encoding='utf-8') as f:\n",
    "        return BeautifulSoup(''.join(f.readlines()), 'lxml')"
   ],
   "metadata": {
    "collapsed": false,
    "pycharm": {
     "name": "#%%\n"
    }
   }
  },
  {
   "cell_type": "markdown",
   "metadata": {},
   "source": [
    "## Задачи для совместного разбора"
   ]
  },
  {
   "cell_type": "markdown",
   "metadata": {},
   "source": [
    "1. Вывести на экран данные из словаря `obj` построчно в виде `k = v`, задав формат таким образом, чтобы знак равенства оказался на одной и той же позиции во всех строках. Строковые литералы обернуть в кавычки."
   ]
  },
  {
   "cell_type": "code",
   "execution_count": 4,
   "metadata": {},
   "outputs": [
    {
     "name": "stdout",
     "output_type": "stream",
     "text": [
      "home_page = 'https://github.com/pypa/sampleproject'\n",
      "keywords  = 'sample setuptools development'\n",
      "license   = 'MIT'\n"
     ]
    }
   ],
   "source": [
    "obj = {\n",
    "    'home_page': 'https://github.com/pypa/sampleproject',\n",
    "    'keywords': 'sample setuptools development',\n",
    "    'license': 'MIT'\n",
    "}\n",
    "left_max = max([len(i) for i in obj])\n",
    "for k, v in obj.items():\n",
    "    print(f\"{k:{left_max}} = '{v}'\")"
   ]
  },
  {
   "cell_type": "markdown",
   "metadata": {},
   "source": [
    "2. Дана строка 'aaa--bbb==ccc__ddd'. Написать регулярное выражение для разбивки строки на список ['aaa','bbb','ccc','ddd']."
   ]
  },
  {
   "cell_type": "code",
   "execution_count": 5,
   "outputs": [
    {
     "data": {
      "text/plain": "['aaa', 'bbb', 'ccc', 'ddd']"
     },
     "execution_count": 5,
     "metadata": {},
     "output_type": "execute_result"
    }
   ],
   "source": [
    "s = 'aaa--bbb==ccc__ddd'\n",
    "pattern = re.compile(r'[a-z]{3}')\n",
    "pattern.findall(s)"
   ],
   "metadata": {
    "collapsed": false,
    "pycharm": {
     "name": "#%%\n"
    }
   }
  },
  {
   "cell_type": "markdown",
   "metadata": {},
   "source": [
    "3. Проверить корректность введенного E-mail"
   ]
  },
  {
   "cell_type": "code",
   "execution_count": 6,
   "outputs": [
    {
     "data": {
      "text/plain": "'example@email.ru'"
     },
     "execution_count": 6,
     "metadata": {},
     "output_type": "execute_result"
    }
   ],
   "source": [
    "email = 'example@email.ru'\n",
    "pattern = re.compile(r'^\\w+@[a-z]+\\.[a-z]{2,3}$')\n",
    "match = pattern.match(email)\n",
    "match.string"
   ],
   "metadata": {
    "collapsed": false,
    "pycharm": {
     "name": "#%%\n"
    }
   }
  },
  {
   "cell_type": "markdown",
   "metadata": {},
   "source": [
    "4. Разбейте текст формулировки задачи 1 на слова."
   ]
  },
  {
   "cell_type": "code",
   "execution_count": 7,
   "outputs": [
    {
     "data": {
      "text/plain": "['Вывести',\n 'на',\n 'экран',\n 'данные',\n 'из',\n 'словаря',\n '`',\n 'obj',\n '`',\n 'построчно']"
     },
     "execution_count": 7,
     "metadata": {},
     "output_type": "execute_result"
    }
   ],
   "source": [
    "task_text = (\n",
    "    'Вывести на экран данные из словаря `obj` построчно в виде `k = v`, '\n",
    "    'задав формат таким образом, чтобы знак равенства оказался на одной и '\n",
    "    'той же позиции во всех строках. Строковые литералы обернуть в кавычки.'\n",
    ")\n",
    "nltk.word_tokenize(task_text)[:10]"
   ],
   "metadata": {
    "collapsed": false,
    "pycharm": {
     "name": "#%%\n"
    }
   }
  },
  {
   "cell_type": "markdown",
   "metadata": {},
   "source": [
    "## Лабораторная работа 8"
   ]
  },
  {
   "cell_type": "markdown",
   "metadata": {},
   "source": [
    "### Форматирование строк"
   ]
  },
  {
   "cell_type": "markdown",
   "metadata": {},
   "source": [
    "1.1 Загрузите данные из файла `recipes_sample_with_tags_ingredients.csv` (__ЛР5__) в таблицу `recipes` При помощи форматирования строк выведите информацию об id рецепта и кол-ве игредиентов 5 случайных рецептов в виде таблицы следующего вида:\n",
    "\n",
    "    \n",
    "    |    id     | n_in  |\n",
    "    |-------------------|\n",
    "    |  400894   |  13   |\n",
    "    |   68588   |   8   |\n",
    "    |  362081   |   6   |\n",
    "    |   53408   |  12   |\n",
    "    |  221203   |   4   |"
   ]
  },
  {
   "cell_type": "code",
   "execution_count": 8,
   "outputs": [
    {
     "data": {
      "text/plain": "      id                                      name  minutes  contributor_id  \\\n0  44123     george s at the cove  black bean soup       90           35193   \n1  67664        healthy for them  yogurt popsicles       10           91970   \n2  38798              i can t believe it s spinach       30            1533   \n3  35173                      italian  gut busters       45           22724   \n4  84797  love is in the air  beef fondue   sauces       25            4470   \n\n    submitted  n_steps                                        description  \\\n0  2002-10-25       11  an original recipe created by chef scott meska...   \n1  2003-07-26        3  my children and their friends ask for my homem...   \n2  2002-08-29        5            these were so go, it surprised even me.   \n3  2002-07-27        7  my sister-in-law made these for us at a family...   \n4  2004-02-23        4  i think a fondue is a very romantic casual din...   \n\n   n_tags                                               tags  n_ingredients  \\\n0      25  weeknight;time-to-make;course;main-ingredient;...             18   \n1      31  15-minutes-or-less;time-to-make;course;prepara...              3   \n2      17  30-minutes-or-less;time-to-make;course;main-in...              8   \n3      11  60-minutes-or-less;time-to-make;course;prepara...              9   \n4      19  30-minutes-or-less;time-to-make;course;main-in...             12   \n\n                                         ingredients  \n0  unsalted butter*carrot*onion*celery*broccoli s...  \n1         milk*frozen juice concentrate*plain yogurt  \n2  onion*frozen chopped spinach*eggs*garlic powde...  \n3  sandwich bun*good seasonings italian salad dre...  \n4  beef steaks*vegetable oil*spicy mustard*fresh ...  ",
      "text/html": "<div>\n<style scoped>\n    .dataframe tbody tr th:only-of-type {\n        vertical-align: middle;\n    }\n\n    .dataframe tbody tr th {\n        vertical-align: top;\n    }\n\n    .dataframe thead th {\n        text-align: right;\n    }\n</style>\n<table border=\"1\" class=\"dataframe\">\n  <thead>\n    <tr style=\"text-align: right;\">\n      <th></th>\n      <th>id</th>\n      <th>name</th>\n      <th>minutes</th>\n      <th>contributor_id</th>\n      <th>submitted</th>\n      <th>n_steps</th>\n      <th>description</th>\n      <th>n_tags</th>\n      <th>tags</th>\n      <th>n_ingredients</th>\n      <th>ingredients</th>\n    </tr>\n  </thead>\n  <tbody>\n    <tr>\n      <th>0</th>\n      <td>44123</td>\n      <td>george s at the cove  black bean soup</td>\n      <td>90</td>\n      <td>35193</td>\n      <td>2002-10-25</td>\n      <td>11</td>\n      <td>an original recipe created by chef scott meska...</td>\n      <td>25</td>\n      <td>weeknight;time-to-make;course;main-ingredient;...</td>\n      <td>18</td>\n      <td>unsalted butter*carrot*onion*celery*broccoli s...</td>\n    </tr>\n    <tr>\n      <th>1</th>\n      <td>67664</td>\n      <td>healthy for them  yogurt popsicles</td>\n      <td>10</td>\n      <td>91970</td>\n      <td>2003-07-26</td>\n      <td>3</td>\n      <td>my children and their friends ask for my homem...</td>\n      <td>31</td>\n      <td>15-minutes-or-less;time-to-make;course;prepara...</td>\n      <td>3</td>\n      <td>milk*frozen juice concentrate*plain yogurt</td>\n    </tr>\n    <tr>\n      <th>2</th>\n      <td>38798</td>\n      <td>i can t believe it s spinach</td>\n      <td>30</td>\n      <td>1533</td>\n      <td>2002-08-29</td>\n      <td>5</td>\n      <td>these were so go, it surprised even me.</td>\n      <td>17</td>\n      <td>30-minutes-or-less;time-to-make;course;main-in...</td>\n      <td>8</td>\n      <td>onion*frozen chopped spinach*eggs*garlic powde...</td>\n    </tr>\n    <tr>\n      <th>3</th>\n      <td>35173</td>\n      <td>italian  gut busters</td>\n      <td>45</td>\n      <td>22724</td>\n      <td>2002-07-27</td>\n      <td>7</td>\n      <td>my sister-in-law made these for us at a family...</td>\n      <td>11</td>\n      <td>60-minutes-or-less;time-to-make;course;prepara...</td>\n      <td>9</td>\n      <td>sandwich bun*good seasonings italian salad dre...</td>\n    </tr>\n    <tr>\n      <th>4</th>\n      <td>84797</td>\n      <td>love is in the air  beef fondue   sauces</td>\n      <td>25</td>\n      <td>4470</td>\n      <td>2004-02-23</td>\n      <td>4</td>\n      <td>i think a fondue is a very romantic casual din...</td>\n      <td>19</td>\n      <td>30-minutes-or-less;time-to-make;course;main-in...</td>\n      <td>12</td>\n      <td>beef steaks*vegetable oil*spicy mustard*fresh ...</td>\n    </tr>\n  </tbody>\n</table>\n</div>"
     },
     "execution_count": 8,
     "metadata": {},
     "output_type": "execute_result"
    }
   ],
   "source": [
    "recipes_df = pd.read_csv(DATA_DIR.joinpath('recipes_sample_with_tags_ingredients.csv'))\n",
    "recipes_df.head()"
   ],
   "metadata": {
    "collapsed": false,
    "pycharm": {
     "name": "#%%\n"
    }
   }
  },
  {
   "cell_type": "code",
   "execution_count": 9,
   "outputs": [],
   "source": [
    "def pprint_df(df: pd.DataFrame, n: int = 5) -> None:\n",
    "    print(pformat_df(df, n=n))"
   ],
   "metadata": {
    "collapsed": false,
    "pycharm": {
     "name": "#%%\n"
    }
   }
  },
  {
   "cell_type": "code",
   "execution_count": 10,
   "outputs": [],
   "source": [
    "def pformat_df(df: pd.DataFrame, n: int = 5) -> str:\n",
    "    header = make_header(df)\n",
    "    body = make_body(df, n=n)\n",
    "    sep = f'|{\"-\" * (len(header) - 3)}|\\n'\n",
    "    return sep.join([header, body])"
   ],
   "metadata": {
    "collapsed": false,
    "pycharm": {
     "name": "#%%\n"
    }
   }
  },
  {
   "cell_type": "code",
   "execution_count": 11,
   "outputs": [],
   "source": [
    "def make_header(df: pd.DataFrame) -> str:\n",
    "    width_max_content = get_max_width_content(df)\n",
    "    header_template = generate_header_template(width_max_content)\n",
    "    return header_template.format(*df.columns)"
   ],
   "metadata": {
    "collapsed": false,
    "pycharm": {
     "name": "#%%\n"
    }
   }
  },
  {
   "cell_type": "code",
   "execution_count": 12,
   "outputs": [],
   "source": [
    "def generate_header_template(width_max_content: Iterable) -> str:\n",
    "    string_builder = ['{{:^{v}.{v}}} '.format(v=v + 2) for v in width_max_content]\n",
    "    return f'| {\" | \".join(string_builder)} |\\n'"
   ],
   "metadata": {
    "collapsed": false,
    "pycharm": {
     "name": "#%%\n"
    }
   }
  },
  {
   "cell_type": "code",
   "execution_count": 13,
   "outputs": [],
   "source": [
    "def make_body(df: pd.DataFrame, n: int = 5) -> str:\n",
    "    width_max_content = get_max_width_content(df)\n",
    "    row_template = generate_row_template(width_max_content)\n",
    "    string_builder = [row_template.format(*row) for _, row in df.sample(n).astype(str).iterrows()]\n",
    "    return ''.join(string_builder)"
   ],
   "metadata": {
    "collapsed": false,
    "pycharm": {
     "name": "#%%\n"
    }
   }
  },
  {
   "cell_type": "code",
   "execution_count": 14,
   "outputs": [],
   "source": [
    "def generate_row_template(width_max_content: Iterable) -> str:\n",
    "    string_builder = ['{{:>{v}.{v}}}  '.format(v=v + 1) for v in width_max_content]\n",
    "    return f'| {\" | \".join(string_builder)} |\\n'"
   ],
   "metadata": {
    "collapsed": false,
    "pycharm": {
     "name": "#%%\n"
    }
   }
  },
  {
   "cell_type": "code",
   "execution_count": 15,
   "outputs": [],
   "source": [
    "def get_max_width_content(df: pd.DataFrame) -> Iterable:\n",
    "    return df.max().astype(str).str.len()"
   ],
   "metadata": {
    "collapsed": false,
    "pycharm": {
     "name": "#%%\n"
    }
   }
  },
  {
   "cell_type": "code",
   "execution_count": 16,
   "outputs": [
    {
     "name": "stdout",
     "output_type": "stream",
     "text": [
      "|    id     | n_in  |\n",
      "|-------------------|\n",
      "|  136011   |  14   |\n",
      "|  329307   |   7   |\n",
      "|  232046   |  11   |\n",
      "|  485268   |   9   |\n",
      "|  244477   |  13   |\n",
      "\n"
     ]
    }
   ],
   "source": [
    "id_n_ingredients_df = recipes_df[['id', 'n_ingredients']]\n",
    "pprint_df(id_n_ingredients_df)"
   ],
   "metadata": {
    "collapsed": false,
    "pycharm": {
     "name": "#%%\n"
    }
   }
  },
  {
   "cell_type": "code",
   "execution_count": 17,
   "outputs": [
    {
     "data": {
      "text/plain": "\n\n|    id     | n_in  |\n|-------------------|\n|  400894   |  13   |\n|   68588   |   8   |\n|  362081   |   6   |\n|   53408   |  12   |\n|  221203   |   4   |\n\n\n|    id     | n_in  |\n|-------------------|\n|  396111   |  10   |\n|  100371   |   4   |\n|  450478   |   8   |\n|  171248   |  11   |\n|  298327   |  11   |\n\n"
     },
     "execution_count": 17,
     "metadata": {},
     "output_type": "execute_result"
    }
   ],
   "source": [
    "example = \"\"\"\n",
    "|    id     | n_in  |\n",
    "|-------------------|\n",
    "|  400894   |  13   |\n",
    "|   68588   |   8   |\n",
    "|  362081   |   6   |\n",
    "|   53408   |  12   |\n",
    "|  221203   |   4   |\n",
    "\"\"\"\n",
    "result = pformat_df(id_n_ingredients_df)\n",
    "Pretty(f'\\n{example}\\n\\n{result}\\n')"
   ],
   "metadata": {
    "collapsed": false,
    "pycharm": {
     "name": "#%%\n"
    }
   }
  },
  {
   "cell_type": "markdown",
   "metadata": {},
   "source": [
    "1.2 Напишите функцию `show_info`, которая для рецепта по его `id` создает строку (в смысле объекта python) с описанием следующего вида:\n",
    "\n",
    "```\n",
    "\"Название\"\n",
    "\n",
    "1. Шаг 1.\n",
    "2. Шаг 2.\n",
    "----------\n",
    "#тэг1 #тэг2\n",
    "```\n",
    "\n",
    "    \n",
    "Данные для создания строки получите из файлов `recipes_sample_with_tags_ingredients.csv`, `steps_sample.xml` (__ЛР4__) и `tags_sample.csv` (__ЛР5__). \n",
    "Выведите созданную строку на экран."
   ]
  },
  {
   "cell_type": "code",
   "execution_count": 18,
   "outputs": [],
   "source": [
    "steps_sample_soup = read_xml(DATA_DIR.joinpath('steps_sample.xml'))"
   ],
   "metadata": {
    "collapsed": false,
    "pycharm": {
     "name": "#%%\n"
    }
   }
  },
  {
   "cell_type": "code",
   "execution_count": 19,
   "outputs": [
    {
     "data": {
      "text/plain": "      id                                              steps\n0  44123  in 1 / 4 cup butter , saute carrots , onion , ...\n1  67664  mix all the ingredients using a blender|pour i...\n2  38798  combine all ingredients in a large bowl and mi...\n3  35173  lay out sandwich rolls on jelly roll pans / co...\n4  84797  honey mustard sauce: whisk all the ingredients...",
      "text/html": "<div>\n<style scoped>\n    .dataframe tbody tr th:only-of-type {\n        vertical-align: middle;\n    }\n\n    .dataframe tbody tr th {\n        vertical-align: top;\n    }\n\n    .dataframe thead th {\n        text-align: right;\n    }\n</style>\n<table border=\"1\" class=\"dataframe\">\n  <thead>\n    <tr style=\"text-align: right;\">\n      <th></th>\n      <th>id</th>\n      <th>steps</th>\n    </tr>\n  </thead>\n  <tbody>\n    <tr>\n      <th>0</th>\n      <td>44123</td>\n      <td>in 1 / 4 cup butter , saute carrots , onion , ...</td>\n    </tr>\n    <tr>\n      <th>1</th>\n      <td>67664</td>\n      <td>mix all the ingredients using a blender|pour i...</td>\n    </tr>\n    <tr>\n      <th>2</th>\n      <td>38798</td>\n      <td>combine all ingredients in a large bowl and mi...</td>\n    </tr>\n    <tr>\n      <th>3</th>\n      <td>35173</td>\n      <td>lay out sandwich rolls on jelly roll pans / co...</td>\n    </tr>\n    <tr>\n      <th>4</th>\n      <td>84797</td>\n      <td>honey mustard sauce: whisk all the ingredients...</td>\n    </tr>\n  </tbody>\n</table>\n</div>"
     },
     "execution_count": 19,
     "metadata": {},
     "output_type": "execute_result"
    }
   ],
   "source": [
    "steps_dict = {'id': [], 'steps': []}\n",
    "for recipe in steps_sample_soup.find_all('recipe'):\n",
    "    steps_dict['id'].append(int(recipe.find('id').text))\n",
    "    steps_dict['steps'].append('|'.join([step.text for step in recipe.find_all('step')]))\n",
    "steps_df = pd.DataFrame(steps_dict)\n",
    "steps_df.head()"
   ],
   "metadata": {
    "collapsed": false,
    "pycharm": {
     "name": "#%%\n"
    }
   }
  },
  {
   "cell_type": "code",
   "execution_count": 20,
   "outputs": [
    {
     "data": {
      "text/plain": "                                           name  minutes  contributor_id  \\\nid                                                                         \n44123     george s at the cove  black bean soup       90           35193   \n67664        healthy for them  yogurt popsicles       10           91970   \n38798              i can t believe it s spinach       30            1533   \n35173                      italian  gut busters       45           22724   \n84797  love is in the air  beef fondue   sauces       25            4470   \n\n        submitted  n_steps                                        description  \\\nid                                                                              \n44123  2002-10-25       11  an original recipe created by chef scott meska...   \n67664  2003-07-26        3  my children and their friends ask for my homem...   \n38798  2002-08-29        5            these were so go, it surprised even me.   \n35173  2002-07-27        7  my sister-in-law made these for us at a family...   \n84797  2004-02-23        4  i think a fondue is a very romantic casual din...   \n\n       n_tags                                               tags  \\\nid                                                                 \n44123      25  weeknight;time-to-make;course;main-ingredient;...   \n67664      31  15-minutes-or-less;time-to-make;course;prepara...   \n38798      17  30-minutes-or-less;time-to-make;course;main-in...   \n35173      11  60-minutes-or-less;time-to-make;course;prepara...   \n84797      19  30-minutes-or-less;time-to-make;course;main-in...   \n\n       n_ingredients                                        ingredients  \\\nid                                                                        \n44123             18  unsalted butter*carrot*onion*celery*broccoli s...   \n67664              3         milk*frozen juice concentrate*plain yogurt   \n38798              8  onion*frozen chopped spinach*eggs*garlic powde...   \n35173              9  sandwich bun*good seasonings italian salad dre...   \n84797             12  beef steaks*vegetable oil*spicy mustard*fresh ...   \n\n                                                   steps  \nid                                                        \n44123  in 1 / 4 cup butter , saute carrots , onion , ...  \n67664  mix all the ingredients using a blender|pour i...  \n38798  combine all ingredients in a large bowl and mi...  \n35173  lay out sandwich rolls on jelly roll pans / co...  \n84797  honey mustard sauce: whisk all the ingredients...  ",
      "text/html": "<div>\n<style scoped>\n    .dataframe tbody tr th:only-of-type {\n        vertical-align: middle;\n    }\n\n    .dataframe tbody tr th {\n        vertical-align: top;\n    }\n\n    .dataframe thead th {\n        text-align: right;\n    }\n</style>\n<table border=\"1\" class=\"dataframe\">\n  <thead>\n    <tr style=\"text-align: right;\">\n      <th></th>\n      <th>name</th>\n      <th>minutes</th>\n      <th>contributor_id</th>\n      <th>submitted</th>\n      <th>n_steps</th>\n      <th>description</th>\n      <th>n_tags</th>\n      <th>tags</th>\n      <th>n_ingredients</th>\n      <th>ingredients</th>\n      <th>steps</th>\n    </tr>\n    <tr>\n      <th>id</th>\n      <th></th>\n      <th></th>\n      <th></th>\n      <th></th>\n      <th></th>\n      <th></th>\n      <th></th>\n      <th></th>\n      <th></th>\n      <th></th>\n      <th></th>\n    </tr>\n  </thead>\n  <tbody>\n    <tr>\n      <th>44123</th>\n      <td>george s at the cove  black bean soup</td>\n      <td>90</td>\n      <td>35193</td>\n      <td>2002-10-25</td>\n      <td>11</td>\n      <td>an original recipe created by chef scott meska...</td>\n      <td>25</td>\n      <td>weeknight;time-to-make;course;main-ingredient;...</td>\n      <td>18</td>\n      <td>unsalted butter*carrot*onion*celery*broccoli s...</td>\n      <td>in 1 / 4 cup butter , saute carrots , onion , ...</td>\n    </tr>\n    <tr>\n      <th>67664</th>\n      <td>healthy for them  yogurt popsicles</td>\n      <td>10</td>\n      <td>91970</td>\n      <td>2003-07-26</td>\n      <td>3</td>\n      <td>my children and their friends ask for my homem...</td>\n      <td>31</td>\n      <td>15-minutes-or-less;time-to-make;course;prepara...</td>\n      <td>3</td>\n      <td>milk*frozen juice concentrate*plain yogurt</td>\n      <td>mix all the ingredients using a blender|pour i...</td>\n    </tr>\n    <tr>\n      <th>38798</th>\n      <td>i can t believe it s spinach</td>\n      <td>30</td>\n      <td>1533</td>\n      <td>2002-08-29</td>\n      <td>5</td>\n      <td>these were so go, it surprised even me.</td>\n      <td>17</td>\n      <td>30-minutes-or-less;time-to-make;course;main-in...</td>\n      <td>8</td>\n      <td>onion*frozen chopped spinach*eggs*garlic powde...</td>\n      <td>combine all ingredients in a large bowl and mi...</td>\n    </tr>\n    <tr>\n      <th>35173</th>\n      <td>italian  gut busters</td>\n      <td>45</td>\n      <td>22724</td>\n      <td>2002-07-27</td>\n      <td>7</td>\n      <td>my sister-in-law made these for us at a family...</td>\n      <td>11</td>\n      <td>60-minutes-or-less;time-to-make;course;prepara...</td>\n      <td>9</td>\n      <td>sandwich bun*good seasonings italian salad dre...</td>\n      <td>lay out sandwich rolls on jelly roll pans / co...</td>\n    </tr>\n    <tr>\n      <th>84797</th>\n      <td>love is in the air  beef fondue   sauces</td>\n      <td>25</td>\n      <td>4470</td>\n      <td>2004-02-23</td>\n      <td>4</td>\n      <td>i think a fondue is a very romantic casual din...</td>\n      <td>19</td>\n      <td>30-minutes-or-less;time-to-make;course;main-in...</td>\n      <td>12</td>\n      <td>beef steaks*vegetable oil*spicy mustard*fresh ...</td>\n      <td>honey mustard sauce: whisk all the ingredients...</td>\n    </tr>\n  </tbody>\n</table>\n</div>"
     },
     "execution_count": 20,
     "metadata": {},
     "output_type": "execute_result"
    }
   ],
   "source": [
    "recipes_steps_df = recipes_df.merge(steps_df, on='id').set_index('id')\n",
    "recipes_steps_df.head()"
   ],
   "metadata": {
    "collapsed": false,
    "pycharm": {
     "name": "#%%\n"
    }
   }
  },
  {
   "cell_type": "code",
   "execution_count": 21,
   "outputs": [],
   "source": [
    "def show_info(id_: int, df: pd.DataFrame) -> str:\n",
    "    recipe = df.loc[id_, ['name', 'steps', 'tags']].squeeze()\n",
    "\n",
    "    name = recipe[\"name\"]\n",
    "    name = f'\"{name[0].upper()}{name[1:]}\"'\n",
    "\n",
    "    sentence_end = {'.', '?', '!'}\n",
    "    string_builder = []\n",
    "    for i, step in enumerate(recipe['steps'].split('|')):\n",
    "        step = step[0].upper() + step[1:]\n",
    "        string_builder.append(f'{i + 1}. {step}{\"\" if step[-1] in sentence_end else \".\"}')\n",
    "    steps = '\\n'.join(string_builder)\n",
    "\n",
    "    sep = '-' * len(name)\n",
    "    tags = ' '.join([f'#{tag}' for tag in recipe['tags'].split(';')])\n",
    "    return '\\n'.join([name, '', steps, sep, tags])"
   ],
   "metadata": {
    "collapsed": false,
    "pycharm": {
     "name": "#%%\n"
    }
   }
  },
  {
   "cell_type": "code",
   "execution_count": 22,
   "outputs": [
    {
     "data": {
      "text/plain": "'\"Italian  gut busters\"\\n\\n1. Lay out sandwich rolls on jelly roll pans / cookie sheets.\\n2. Melt butter , mix in italian dressing mix.\\n3. Using a pastry or bbq brush , graciously apply seasoned butter to the top of the\"bottom bun\" and the top of the top bun.\\n4. Don\\'t miss this step , i don\\'t know why , but it does make a difference !\\n5. Here is where i create an assembly line w / the bottoms of the buns.\\n6. Layer each bun w / ham , then swiss cheese , turkey , then cheddar cheese , pepperoni , then mozzerella cheese.\\n7. Place\"lids\" on buns and place in 425 degree oven for approximly 12-15 minutes , or until you see the tops start to turn golden brown.\\n----------------------\\n#60-minutes-or-less #time-to-make #course #preparation #lunch #main-dish #oven #easy #dietary #sandwiches #equipment'"
     },
     "execution_count": 22,
     "metadata": {},
     "output_type": "execute_result"
    }
   ],
   "source": [
    "info = show_info(35173, recipes_steps_df)\n",
    "info"
   ],
   "metadata": {
    "collapsed": false,
    "pycharm": {
     "name": "#%%\n"
    }
   }
  },
  {
   "cell_type": "code",
   "execution_count": 23,
   "outputs": [
    {
     "name": "stdout",
     "output_type": "stream",
     "text": [
      "\"Italian  gut busters\"\n",
      "\n",
      "1. Lay out sandwich rolls on jelly roll pans / cookie sheets.\n",
      "2. Melt butter , mix in italian dressing mix.\n",
      "3. Using a pastry or bbq brush , graciously apply seasoned butter to the top of the\"bottom bun\" and the top of the top bun.\n",
      "4. Don't miss this step , i don't know why , but it does make a difference !\n",
      "5. Here is where i create an assembly line w / the bottoms of the buns.\n",
      "6. Layer each bun w / ham , then swiss cheese , turkey , then cheddar cheese , pepperoni , then mozzerella cheese.\n",
      "7. Place\"lids\" on buns and place in 425 degree oven for approximly 12-15 minutes , or until you see the tops start to turn golden brown.\n",
      "----------------------\n",
      "#60-minutes-or-less #time-to-make #course #preparation #lunch #main-dish #oven #easy #dietary #sandwiches #equipment\n"
     ]
    }
   ],
   "source": [
    "print(info)"
   ],
   "metadata": {
    "collapsed": false,
    "pycharm": {
     "name": "#%%\n"
    }
   }
  },
  {
   "cell_type": "markdown",
   "metadata": {},
   "source": [
    "## Работа с регулярными выражениями"
   ]
  },
  {
   "cell_type": "markdown",
   "metadata": {},
   "source": [
    "В задачах данного блока подразумевается, что вы не будете использовать никаких строковые методы (`split`, `startswith` и т.д.). Все задачи необходимо решить при помощи регулярных выражений."
   ]
  },
  {
   "cell_type": "markdown",
   "metadata": {},
   "source": [
    "2.1 Посчитайте кол-во отзывов, в которых встречаются числа."
   ]
  },
  {
   "cell_type": "code",
   "execution_count": 24,
   "outputs": [
    {
     "data": {
      "text/plain": "           user_id  recipe_id       date  rating  \\\n370476       21752      57993 2003-05-01       5   \n624300      431813     142201 2007-09-16       5   \n187037      400708     252013 2008-01-10       4   \n706134  2001852463     404716 2017-12-11       5   \n312179       95810     129396 2008-03-14       5   \n\n                                                   review  \n370476  Last week whole sides of frozen salmon fillet ...  \n624300  So simple and so tasty!  I used a yellow capsi...  \n187037  Very nice breakfast HH, easy to make and yummy...  \n706134  These are a favorite for the holidays and so e...  \n312179  Excellent soup!  The tomato flavor is just gre...  ",
      "text/html": "<div>\n<style scoped>\n    .dataframe tbody tr th:only-of-type {\n        vertical-align: middle;\n    }\n\n    .dataframe tbody tr th {\n        vertical-align: top;\n    }\n\n    .dataframe thead th {\n        text-align: right;\n    }\n</style>\n<table border=\"1\" class=\"dataframe\">\n  <thead>\n    <tr style=\"text-align: right;\">\n      <th></th>\n      <th>user_id</th>\n      <th>recipe_id</th>\n      <th>date</th>\n      <th>rating</th>\n      <th>review</th>\n    </tr>\n  </thead>\n  <tbody>\n    <tr>\n      <th>370476</th>\n      <td>21752</td>\n      <td>57993</td>\n      <td>2003-05-01</td>\n      <td>5</td>\n      <td>Last week whole sides of frozen salmon fillet ...</td>\n    </tr>\n    <tr>\n      <th>624300</th>\n      <td>431813</td>\n      <td>142201</td>\n      <td>2007-09-16</td>\n      <td>5</td>\n      <td>So simple and so tasty!  I used a yellow capsi...</td>\n    </tr>\n    <tr>\n      <th>187037</th>\n      <td>400708</td>\n      <td>252013</td>\n      <td>2008-01-10</td>\n      <td>4</td>\n      <td>Very nice breakfast HH, easy to make and yummy...</td>\n    </tr>\n    <tr>\n      <th>706134</th>\n      <td>2001852463</td>\n      <td>404716</td>\n      <td>2017-12-11</td>\n      <td>5</td>\n      <td>These are a favorite for the holidays and so e...</td>\n    </tr>\n    <tr>\n      <th>312179</th>\n      <td>95810</td>\n      <td>129396</td>\n      <td>2008-03-14</td>\n      <td>5</td>\n      <td>Excellent soup!  The tomato flavor is just gre...</td>\n    </tr>\n  </tbody>\n</table>\n</div>"
     },
     "execution_count": 24,
     "metadata": {},
     "output_type": "execute_result"
    }
   ],
   "source": [
    "reviews_df = pd.read_csv(\n",
    "    DATA_DIR.joinpath('reviews_sample.csv'),\n",
    "    sep=',',\n",
    "    index_col=0,\n",
    "    parse_dates=['date']\n",
    ")\n",
    "reviews_df.head()"
   ],
   "metadata": {
    "collapsed": false,
    "pycharm": {
     "name": "#%%\n"
    }
   }
  },
  {
   "cell_type": "code",
   "execution_count": 25,
   "outputs": [],
   "source": [
    "reviews = reviews_df['review'].fillna('')"
   ],
   "metadata": {
    "collapsed": false,
    "pycharm": {
     "name": "#%%\n"
    }
   }
  },
  {
   "cell_type": "code",
   "execution_count": 26,
   "outputs": [
    {
     "data": {
      "text/plain": "49246"
     },
     "execution_count": 26,
     "metadata": {},
     "output_type": "execute_result"
    }
   ],
   "source": [
    "pattern = re.compile(r'\\d')\n",
    "len(reviews[reviews.apply(lambda x: pattern.search(x) is not None)])"
   ],
   "metadata": {
    "collapsed": false,
    "pycharm": {
     "name": "#%%\n"
    }
   }
  },
  {
   "cell_type": "markdown",
   "metadata": {},
   "source": [
    "2.2 Найдите все смайлики в отзывах. Смайлик состоит из трех частей: глаза (символ `=` или `:`), нос (символ `-`), губы (символ `)` или `(`). Смайлик может иметь вид \"глаза-нос-губы\" или \"губы-нос-глаза\". Нос может отсутствовать."
   ]
  },
  {
   "cell_type": "code",
   "execution_count": 27,
   "outputs": [
    {
     "data": {
      "text/plain": "765972             [(:), )]\n115270     [(:), ), (:), )]\n756876             [(:), )]\n467504            [(:-), )]\n1017762            [(:), )]\n                 ...       \n678123             [(:), )]\n248254             [(:), )]\n935935             [(:), )]\n895930             [(:), )]\n112348            [(:-), )]\nName: review, Length: 7382, dtype: object"
     },
     "execution_count": 27,
     "metadata": {},
     "output_type": "execute_result"
    }
   ],
   "source": [
    "pattern = re.compile(r'([=:]-?[()])|([()]-?[=:])')\n",
    "with_emoticons = reviews.apply(lambda x: pattern.findall(x))\n",
    "emoticons = with_emoticons[with_emoticons.str.len() > 0]\n",
    "emoticons"
   ],
   "metadata": {
    "collapsed": false,
    "pycharm": {
     "name": "#%%\n"
    }
   }
  },
  {
   "cell_type": "code",
   "execution_count": 28,
   "outputs": [],
   "source": [
    "def flatten(l):\n",
    "    for el in l:\n",
    "        if isinstance(el, Iterable) and not isinstance(el, (str, bytes)):\n",
    "            yield from flatten(el)\n",
    "        else:\n",
    "            yield el"
   ],
   "metadata": {
    "collapsed": false,
    "pycharm": {
     "name": "#%%\n"
    }
   }
  },
  {
   "cell_type": "code",
   "execution_count": 29,
   "outputs": [
    {
     "data": {
      "text/plain": "[':)', ':-)', ':)', ':)', ':)']"
     },
     "execution_count": 29,
     "metadata": {},
     "output_type": "execute_result"
    }
   ],
   "source": [
    "emoticons_sample = [i for i in flatten(emoticons.values) if i]\n",
    "random.sample(emoticons_sample, 5)"
   ],
   "metadata": {
    "collapsed": false,
    "pycharm": {
     "name": "#%%\n"
    }
   }
  },
  {
   "cell_type": "markdown",
   "metadata": {},
   "source": [
    "2.3 Проверьте, что все даты в датасете имеют вид \"YYYY-MM-DD\". Продемонстрируйте работу вашего решения, приведя пример из датасета и контрпример не из датасета."
   ]
  },
  {
   "cell_type": "code",
   "execution_count": 30,
   "outputs": [],
   "source": [
    "def is_date(date: str, fmt: str = '%Y-%m-%d') -> bool:\n",
    "    try:\n",
    "        dt.datetime.strptime(date, fmt)\n",
    "        return True\n",
    "    except ValueError:\n",
    "        return False"
   ],
   "metadata": {
    "collapsed": false,
    "pycharm": {
     "name": "#%%\n"
    }
   }
  },
  {
   "cell_type": "code",
   "execution_count": 31,
   "outputs": [],
   "source": [
    "dates = reviews_df['date']\n",
    "assert len(dates[~dates.astype(str).apply(is_date)]) == 0"
   ],
   "metadata": {
    "collapsed": false,
    "pycharm": {
     "name": "#%%\n"
    }
   }
  },
  {
   "cell_type": "code",
   "execution_count": 32,
   "outputs": [
    {
     "name": "stdout",
     "output_type": "stream",
     "text": [
      "is_date(2009-12-26) -> True\n"
     ]
    }
   ],
   "source": [
    "valid_date = str(dates.sample(1).iat[0]).split()[0]\n",
    "print(f'is_date({valid_date}) -> {is_date(valid_date)}')"
   ],
   "metadata": {
    "collapsed": false,
    "pycharm": {
     "name": "#%%\n"
    }
   }
  },
  {
   "cell_type": "code",
   "execution_count": 33,
   "outputs": [
    {
     "name": "stdout",
     "output_type": "stream",
     "text": [
      "is_date(2007-02-29) -> False\n"
     ]
    }
   ],
   "source": [
    "invalid_date = '2007-02-29'\n",
    "print(f'is_date({invalid_date}) -> {is_date(invalid_date)}')"
   ],
   "metadata": {
    "collapsed": false,
    "pycharm": {
     "name": "#%%\n"
    }
   }
  },
  {
   "cell_type": "markdown",
   "metadata": {},
   "source": [
    "2.4 Используя строку-результат задачи 1.2, найдите первое слово каждого шага в рецепте"
   ]
  },
  {
   "cell_type": "code",
   "execution_count": 34,
   "outputs": [
    {
     "name": "stdout",
     "output_type": "stream",
     "text": [
      "['Lay', 'Melt', 'Using', \"Don't\", 'Here', 'Layer', 'Place\"lids\"']\n"
     ]
    }
   ],
   "source": [
    "pattern = re.compile(r'^\\d+\\. (.*?) ', flags=re.MULTILINE)\n",
    "print(pattern.findall(info))"
   ],
   "metadata": {
    "collapsed": false,
    "pycharm": {
     "name": "#%%\n"
    }
   }
  },
  {
   "cell_type": "markdown",
   "metadata": {},
   "source": [
    "2.5 Используя регулярные выражения, удалите из описаний все символы, кроме английских букв, цифр и пробелов. Сохраните предобработанные описания в файл `preprocessed_descriptions.csv`, содержащий 2 столбца: `name` и `preprocessed_descriptions`."
   ]
  },
  {
   "cell_type": "code",
   "execution_count": 35,
   "outputs": [
    {
     "data": {
      "text/plain": "                                               name  \\\n0             george s at the cove  black bean soup   \n1                healthy for them  yogurt popsicles   \n2                      i can t believe it s spinach   \n3                              italian  gut busters   \n4          love is in the air  beef fondue   sauces   \n...                                             ...   \n29995  zurie s holey rustic olive and cheddar bread   \n29996          zwetschgenkuchen  bavarian plum cake   \n29997   zwiebelkuchen   southwest german onion cake   \n29998                                   zydeco soup   \n29999        cookies by design   cookies on a stick   \n\n                               preprocessed_descriptions  \n0      an original recipe created by chef scott meska...  \n1      my children and their friends ask for my homem...  \n2                  these were so go it surprised even me  \n3      my sisterinlaw made these for us at a family g...  \n4      i think a fondue is a very romantic casual din...  \n...                                                  ...  \n29995  this is based on a french recipe but i changed...  \n29996  this is a traditional fresh plum cake thought ...  \n29997  this is a traditional late summer early fall s...  \n29998  this is a delicious soup that i originally fou...  \n29999  ive heard of the cookies by design company but...  \n\n[30000 rows x 2 columns]",
      "text/html": "<div>\n<style scoped>\n    .dataframe tbody tr th:only-of-type {\n        vertical-align: middle;\n    }\n\n    .dataframe tbody tr th {\n        vertical-align: top;\n    }\n\n    .dataframe thead th {\n        text-align: right;\n    }\n</style>\n<table border=\"1\" class=\"dataframe\">\n  <thead>\n    <tr style=\"text-align: right;\">\n      <th></th>\n      <th>name</th>\n      <th>preprocessed_descriptions</th>\n    </tr>\n  </thead>\n  <tbody>\n    <tr>\n      <th>0</th>\n      <td>george s at the cove  black bean soup</td>\n      <td>an original recipe created by chef scott meska...</td>\n    </tr>\n    <tr>\n      <th>1</th>\n      <td>healthy for them  yogurt popsicles</td>\n      <td>my children and their friends ask for my homem...</td>\n    </tr>\n    <tr>\n      <th>2</th>\n      <td>i can t believe it s spinach</td>\n      <td>these were so go it surprised even me</td>\n    </tr>\n    <tr>\n      <th>3</th>\n      <td>italian  gut busters</td>\n      <td>my sisterinlaw made these for us at a family g...</td>\n    </tr>\n    <tr>\n      <th>4</th>\n      <td>love is in the air  beef fondue   sauces</td>\n      <td>i think a fondue is a very romantic casual din...</td>\n    </tr>\n    <tr>\n      <th>...</th>\n      <td>...</td>\n      <td>...</td>\n    </tr>\n    <tr>\n      <th>29995</th>\n      <td>zurie s holey rustic olive and cheddar bread</td>\n      <td>this is based on a french recipe but i changed...</td>\n    </tr>\n    <tr>\n      <th>29996</th>\n      <td>zwetschgenkuchen  bavarian plum cake</td>\n      <td>this is a traditional fresh plum cake thought ...</td>\n    </tr>\n    <tr>\n      <th>29997</th>\n      <td>zwiebelkuchen   southwest german onion cake</td>\n      <td>this is a traditional late summer early fall s...</td>\n    </tr>\n    <tr>\n      <th>29998</th>\n      <td>zydeco soup</td>\n      <td>this is a delicious soup that i originally fou...</td>\n    </tr>\n    <tr>\n      <th>29999</th>\n      <td>cookies by design   cookies on a stick</td>\n      <td>ive heard of the cookies by design company but...</td>\n    </tr>\n  </tbody>\n</table>\n<p>30000 rows × 2 columns</p>\n</div>"
     },
     "execution_count": 35,
     "metadata": {},
     "output_type": "execute_result"
    }
   ],
   "source": [
    "pattern = re.compile(r'[^a-z0-9 ]|( {2,})', re.ASCII | re.IGNORECASE)\n",
    "name_description = recipes_df.loc[:, ['name']]\n",
    "name_description['preprocessed_descriptions'] = recipes_df['description'].fillna('').apply(lambda x: pattern.sub('', x))\n",
    "name_description"
   ],
   "metadata": {
    "collapsed": false,
    "pycharm": {
     "name": "#%%\n"
    }
   }
  },
  {
   "cell_type": "code",
   "execution_count": 36,
   "outputs": [],
   "source": [
    "name_description.to_csv(OUTPUT_DIR.joinpath('preprocessed_descriptions.csv'), sep=',', index=False)"
   ],
   "metadata": {
    "collapsed": false,
    "pycharm": {
     "name": "#%%\n"
    }
   }
  },
  {
   "cell_type": "markdown",
   "metadata": {},
   "source": [
    "### Сегментация текста"
   ]
  },
  {
   "cell_type": "markdown",
   "metadata": {},
   "source": [
    "3.1 Разбейте предобработанные отзывы из задания 2.5 на предложения, а предложения - на слова (используйте `sent_tokenize` и `word_tokenize` из `nltk`). Каждый отзыв представьте в виде списка списков: внешний список - предложения, вложенные списки - слова в предложении.\n",
    "\n",
    "`'Предложение номер один. Предложение номер два.' => [['Предложение', 'номер', 'один', '.'], ['Предложение', 'номер', 'два', '.']]`"
   ]
  },
  {
   "cell_type": "code",
   "execution_count": 67,
   "outputs": [
    {
     "data": {
      "text/plain": "\"Last week whole sides of frozen salmon fillet was on sale in my local supermarket, so I bought tons (okay, only 3, but total weight was over 10 pounds).  This recipe is perfect for salmon fillet, even though it calls for salmon steaks.  I cut up the salmon into individual portions and followed the instructions exactly.  I'm on one of those food combining diets, so I left out the white wine but added just a dash of white wine vinegar instead (just a little bit, not enough to change the taste of the dish).  Super yummy, and leftovers for lunch today (lucky me)!\""
     },
     "execution_count": 67,
     "metadata": {},
     "output_type": "execute_result"
    }
   ],
   "source": [
    "reviews = reviews_df['review'].fillna('')\n",
    "reviews.head()"
   ],
   "metadata": {
    "collapsed": false,
    "pycharm": {
     "name": "#%%\n"
    }
   }
  },
  {
   "cell_type": "code",
   "execution_count": 68,
   "outputs": [
    {
     "data": {
      "text/plain": "[['Last',\n  'week',\n  'whole',\n  'sides',\n  'of',\n  'frozen',\n  'salmon',\n  'fillet',\n  'was',\n  'on',\n  'sale',\n  'in',\n  'my',\n  'local',\n  'supermarket',\n  ',',\n  'so',\n  'I',\n  'bought',\n  'tons',\n  '(',\n  'okay',\n  ',',\n  'only',\n  '3',\n  ',',\n  'but',\n  'total',\n  'weight',\n  'was',\n  'over',\n  '10',\n  'pounds',\n  ')',\n  '.'],\n ['This',\n  'recipe',\n  'is',\n  'perfect',\n  'for',\n  'salmon',\n  'fillet',\n  ',',\n  'even',\n  'though',\n  'it',\n  'calls',\n  'for',\n  'salmon',\n  'steaks',\n  '.'],\n ['I',\n  'cut',\n  'up',\n  'the',\n  'salmon',\n  'into',\n  'individual',\n  'portions',\n  'and',\n  'followed',\n  'the',\n  'instructions',\n  'exactly',\n  '.'],\n ['I',\n  \"'m\",\n  'on',\n  'one',\n  'of',\n  'those',\n  'food',\n  'combining',\n  'diets',\n  ',',\n  'so',\n  'I',\n  'left',\n  'out',\n  'the',\n  'white',\n  'wine',\n  'but',\n  'added',\n  'just',\n  'a',\n  'dash',\n  'of',\n  'white',\n  'wine',\n  'vinegar',\n  'instead',\n  '(',\n  'just',\n  'a',\n  'little',\n  'bit',\n  ',',\n  'not',\n  'enough',\n  'to',\n  'change',\n  'the',\n  'taste',\n  'of',\n  'the',\n  'dish',\n  ')',\n  '.'],\n ['Super',\n  'yummy',\n  ',',\n  'and',\n  'leftovers',\n  'for',\n  'lunch',\n  'today',\n  '(',\n  'lucky',\n  'me',\n  ')',\n  '!']]"
     },
     "execution_count": 68,
     "metadata": {},
     "output_type": "execute_result"
    }
   ],
   "source": [
    "word_sentence_list = [[nltk.word_tokenize(sent) for sent in nltk.sent_tokenize(review)] for review in reviews.tolist()]\n",
    "word_sentence_list[0]"
   ],
   "metadata": {
    "collapsed": false,
    "pycharm": {
     "name": "#%%\n"
    }
   }
  },
  {
   "cell_type": "markdown",
   "metadata": {},
   "source": [
    "3.2 Посчитайте кол-во уникальных слов в датасете (без учета регистра)."
   ]
  },
  {
   "cell_type": "code",
   "execution_count": 79,
   "outputs": [
    {
     "data": {
      "text/plain": "['last',\n 'week',\n 'whole',\n 'sides',\n 'of',\n 'frozen',\n 'salmon',\n 'fillet',\n 'was',\n 'on',\n 'sale',\n 'in',\n 'my',\n 'local',\n 'supermarket',\n 'so',\n 'i',\n 'bought',\n 'tons',\n 'okay',\n 'only',\n '3',\n 'but',\n 'total',\n 'weight',\n 'was',\n 'over',\n '10',\n 'pounds',\n 'this']"
     },
     "execution_count": 79,
     "metadata": {},
     "output_type": "execute_result"
    }
   ],
   "source": [
    "data_set = []\n",
    "for review in reviews.tolist():\n",
    "    data_set.extend([i for i in nltk.word_tokenize(review.lower()) if i not in string.punctuation])\n",
    "\n",
    "data_set[:30]"
   ],
   "metadata": {
    "collapsed": false,
    "pycharm": {
     "name": "#%%\n"
    }
   }
  },
  {
   "cell_type": "code",
   "execution_count": 80,
   "outputs": [
    {
     "data": {
      "text/plain": "FreqDist({'i': 326096, 'the': 294057, 'and': 223842, 'a': 172590, 'it': 164434, 'this': 135273, 'to': 133320, 'for': 125426, 'of': 109590, 'was': 93401, ...})"
     },
     "execution_count": 80,
     "metadata": {},
     "output_type": "execute_result"
    }
   ],
   "source": [
    "freq_dist = nltk.FreqDist([word for word in data_set])\n",
    "freq_dist"
   ],
   "metadata": {
    "collapsed": false,
    "pycharm": {
     "name": "#%%\n"
    }
   }
  },
  {
   "cell_type": "code",
   "execution_count": 81,
   "outputs": [
    {
     "name": "stdout",
     "output_type": "stream",
     "text": [
      "Всего слов: 6736309\n",
      "Уникальных слов: 63783\n"
     ]
    }
   ],
   "source": [
    "print(f'Всего слов: {freq_dist.N()}')\n",
    "print(f'Уникальных слов: {freq_dist.B()}')"
   ],
   "metadata": {
    "collapsed": false,
    "pycharm": {
     "name": "#%%\n"
    }
   }
  },
  {
   "cell_type": "markdown",
   "metadata": {},
   "source": [
    "3.3 Найдите 5 самых длинных (по количеству слов) отзывов в датасете и выведите их в порядке убывания длины."
   ]
  },
  {
   "cell_type": "code",
   "execution_count": 93,
   "outputs": [],
   "source": [
    "reviews_len = reviews.apply(lambda x: len([\n",
    "    word for word in nltk.word_tokenize(x)\n",
    "    if word not in string.punctuation\n",
    "]))"
   ],
   "metadata": {
    "collapsed": false,
    "pycharm": {
     "name": "#%%\n"
    }
   }
  },
  {
   "cell_type": "code",
   "execution_count": 98,
   "outputs": [
    {
     "data": {
      "text/plain": "873900     One of my sisters was in need of some comfort ...\n1031544    I am in the process of prepping all of my ingr...\n1012304    I made these for a Valentine's day dinner and ...\n1110888    I made these, and was worried that they would ...\n419558     Your vet has severly mislead you and this diet...\nName: review, dtype: object"
     },
     "execution_count": 98,
     "metadata": {},
     "output_type": "execute_result"
    }
   ],
   "source": [
    "reviews[reviews_len.sort_values(ascending=False).iloc[:5].index]"
   ],
   "metadata": {
    "collapsed": false,
    "pycharm": {
     "name": "#%%\n"
    }
   }
  },
  {
   "cell_type": "markdown",
   "metadata": {
    "pycharm": {
     "name": "#%% md\n"
    }
   },
   "source": [
    "3.4 Напишите функцию, которая для заданного предложения выводит информацию о частях речи слов, входящих в предложение в следующем виде:\n",
    "```\n",
    "PRP   VBD   DT      NNS     CC   VBD      NNS        RB   \n",
    " I  omitted the raspberries and added strawberries instead\n",
    "``` \n",
    "Для определения части речи слова можно воспользоваться `nltk.pos_tag`.\n",
    "\n",
    "Проверьте работоспособность функции на любом предложении из отзывов."
   ]
  },
  {
   "cell_type": "code",
   "execution_count": 112,
   "outputs": [],
   "source": [
    "def gen_template(tagged_list: list[tuple[str, str]]) -> str:\n",
    "    string_builder = [f'{{:^{max(len(w), len(t))}}}' for w, t in tagged_list]\n",
    "    return ' '.join(string_builder)"
   ],
   "metadata": {
    "collapsed": false,
    "pycharm": {
     "name": "#%%\n"
    }
   }
  },
  {
   "cell_type": "code",
   "execution_count": 113,
   "outputs": [],
   "source": [
    "def tag_info(sentence: str) -> str:\n",
    "    tagged_list = nltk.pos_tag(nltk.word_tokenize(sentence))\n",
    "    template = gen_template(tagged_list)\n",
    "    word_list, tag_list = list(zip(*tagged_list))\n",
    "    return '\\n'.join([template.format(*tag_list), template.format(*word_list)])"
   ],
   "metadata": {
    "collapsed": false,
    "pycharm": {
     "name": "#%%\n"
    }
   }
  },
  {
   "cell_type": "code",
   "execution_count": 119,
   "outputs": [
    {
     "name": "stdout",
     "output_type": "stream",
     "text": [
      " NNP    NN   .\n",
      "Great method !\n"
     ]
    }
   ],
   "source": [
    "sentence = random.choice(nltk.sent_tokenize(reviews.sample(1).iat[0]))\n",
    "print(tag_info(sentence))\n"
   ],
   "metadata": {
    "collapsed": false,
    "pycharm": {
     "name": "#%%\n"
    }
   }
  }
 ],
 "metadata": {
  "kernelspec": {
   "name": "python3",
   "language": "python",
   "display_name": "Python 3 (ipykernel)"
  },
  "language_info": {
   "codemirror_mode": {
    "name": "ipython",
    "version": 3
   },
   "file_extension": ".py",
   "mimetype": "text/x-python",
   "name": "python",
   "nbconvert_exporter": "python",
   "pygments_lexer": "ipython3",
   "version": "3.8.8"
  }
 },
 "nbformat": 4,
 "nbformat_minor": 4
}