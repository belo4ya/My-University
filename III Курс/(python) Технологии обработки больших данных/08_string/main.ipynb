{
 "cells": [
  {
   "cell_type": "markdown",
   "metadata": {},
   "source": [
    "# Работа со строковыми значениями"
   ]
  },
  {
   "cell_type": "markdown",
   "metadata": {},
   "source": [
    "Материалы:\n",
    "* Макрушин С.В. Лекция 8: Работа со строковыми значениям\n",
    "* https://pyformat.info/\n",
    "* https://docs.python.org/3/library/re.html\n",
    "* https://tproger.ru/translations/regular-expression-python/\n",
    "* https://realpython.com/nltk-nlp-python/"
   ]
  },
  {
   "cell_type": "code",
   "execution_count": 219,
   "outputs": [],
   "source": [
    "import re\n",
    "from pathlib import Path\n",
    "from typing import Iterable\n",
    "from IPython.display import Markdown, Pretty\n",
    "\n",
    "import nltk\n",
    "import pandas as pd"
   ],
   "metadata": {
    "collapsed": false,
    "pycharm": {
     "name": "#%%\n"
    }
   }
  },
  {
   "cell_type": "code",
   "execution_count": 203,
   "outputs": [],
   "source": [
    "\n",
    "DATA_DIR = Path('data/')\n",
    "OUTPUT_DIR = Path('output/')"
   ],
   "metadata": {
    "collapsed": false,
    "pycharm": {
     "name": "#%%\n"
    }
   }
  },
  {
   "cell_type": "markdown",
   "metadata": {},
   "source": [
    "## Задачи для совместного разбора"
   ]
  },
  {
   "cell_type": "markdown",
   "metadata": {},
   "source": [
    "1. Вывести на экран данные из словаря `obj` построчно в виде `k = v`, задав формат таким образом, чтобы знак равенства оказался на одной и той же позиции во всех строках. Строковые литералы обернуть в кавычки."
   ]
  },
  {
   "cell_type": "code",
   "execution_count": 14,
   "metadata": {},
   "outputs": [
    {
     "name": "stdout",
     "output_type": "stream",
     "text": [
      "home_page = 'https://github.com/pypa/sampleproject'\n",
      "keywords  = 'sample setuptools development'\n",
      "license   = 'MIT'\n"
     ]
    }
   ],
   "source": [
    "obj = {\n",
    "    'home_page': 'https://github.com/pypa/sampleproject',\n",
    "    'keywords': 'sample setuptools development',\n",
    "    'license': 'MIT'\n",
    "}\n",
    "left_max = max([len(i) for i in obj])\n",
    "for k, v in obj.items():\n",
    "    print(f\"{k:{left_max}} = '{v}'\")"
   ]
  },
  {
   "cell_type": "markdown",
   "metadata": {},
   "source": [
    "2. Дана строка 'aaa--bbb==ccc__ddd'. Написать регулярное выражение для разбивки строки на список ['aaa','bbb','ccc','ddd']."
   ]
  },
  {
   "cell_type": "code",
   "execution_count": 17,
   "outputs": [
    {
     "data": {
      "text/plain": "['aaa', 'bbb', 'ccc', 'ddd']"
     },
     "execution_count": 17,
     "metadata": {},
     "output_type": "execute_result"
    }
   ],
   "source": [
    "s = 'aaa--bbb==ccc__ddd'\n",
    "pattern = re.compile(r'[a-z]{3}')\n",
    "pattern.findall(s)"
   ],
   "metadata": {
    "collapsed": false,
    "pycharm": {
     "name": "#%%\n"
    }
   }
  },
  {
   "cell_type": "markdown",
   "metadata": {},
   "source": [
    "3. Проверить корректность введенного E-mail"
   ]
  },
  {
   "cell_type": "code",
   "execution_count": 18,
   "outputs": [
    {
     "data": {
      "text/plain": "'example@email.ru'"
     },
     "execution_count": 18,
     "metadata": {},
     "output_type": "execute_result"
    }
   ],
   "source": [
    "email = 'example@email.ru'\n",
    "pattern = re.compile(r'^\\w+@[a-z]+\\.[a-z]{2,3}$')\n",
    "match = pattern.match(email)\n",
    "match.string"
   ],
   "metadata": {
    "collapsed": false,
    "pycharm": {
     "name": "#%%\n"
    }
   }
  },
  {
   "cell_type": "markdown",
   "metadata": {},
   "source": [
    "4. Разбейте текст формулировки задачи 1 на слова."
   ]
  },
  {
   "cell_type": "code",
   "execution_count": 25,
   "outputs": [
    {
     "data": {
      "text/plain": "['Вывести',\n 'на',\n 'экран',\n 'данные',\n 'из',\n 'словаря',\n '`',\n 'obj',\n '`',\n 'построчно']"
     },
     "execution_count": 25,
     "metadata": {},
     "output_type": "execute_result"
    }
   ],
   "source": [
    "task_text = (\n",
    "    'Вывести на экран данные из словаря `obj` построчно в виде `k = v`, '\n",
    "    'задав формат таким образом, чтобы знак равенства оказался на одной и '\n",
    "    'той же позиции во всех строках. Строковые литералы обернуть в кавычки.'\n",
    ")\n",
    "nltk.word_tokenize(task_text)[:10]"
   ],
   "metadata": {
    "collapsed": false,
    "pycharm": {
     "name": "#%%\n"
    }
   }
  },
  {
   "cell_type": "markdown",
   "metadata": {},
   "source": [
    "## Лабораторная работа 8"
   ]
  },
  {
   "cell_type": "markdown",
   "metadata": {},
   "source": [
    "### Форматирование строк"
   ]
  },
  {
   "cell_type": "markdown",
   "metadata": {},
   "source": [
    "1.1 Загрузите данные из файла `recipes_sample_with_tags_ingredients.csv` (__ЛР5__) в таблицу `recipes` При помощи форматирования строк выведите информацию об id рецепта и кол-ве игредиентов 5 случайных рецептов в виде таблицы следующего вида:\n",
    "\n",
    "    \n",
    "    |    id     | n_in  |\n",
    "    |-------------------|\n",
    "    |  400894   |  13   |\n",
    "    |   68588   |   8   |\n",
    "    |  362081   |   6   |\n",
    "    |   53408   |  12   |\n",
    "    |  221203   |   4   |"
   ]
  },
  {
   "cell_type": "code",
   "execution_count": 274,
   "outputs": [
    {
     "data": {
      "text/plain": "      id                                      name  minutes  contributor_id  \\\n0  44123     george s at the cove  black bean soup       90           35193   \n1  67664        healthy for them  yogurt popsicles       10           91970   \n2  38798              i can t believe it s spinach       30            1533   \n3  35173                      italian  gut busters       45           22724   \n4  84797  love is in the air  beef fondue   sauces       25            4470   \n\n    submitted  n_steps                                        description  \\\n0  2002-10-25       11  an original recipe created by chef scott meska...   \n1  2003-07-26        3  my children and their friends ask for my homem...   \n2  2002-08-29        5            these were so go, it surprised even me.   \n3  2002-07-27        7  my sister-in-law made these for us at a family...   \n4  2004-02-23        4  i think a fondue is a very romantic casual din...   \n\n   n_tags                                               tags  n_ingredients  \\\n0      25  weeknight;time-to-make;course;main-ingredient;...             18   \n1      31  15-minutes-or-less;time-to-make;course;prepara...              3   \n2      17  30-minutes-or-less;time-to-make;course;main-in...              8   \n3      11  60-minutes-or-less;time-to-make;course;prepara...              9   \n4      19  30-minutes-or-less;time-to-make;course;main-in...             12   \n\n                                         ingredients  \n0  unsalted butter*carrot*onion*celery*broccoli s...  \n1         milk*frozen juice concentrate*plain yogurt  \n2  onion*frozen chopped spinach*eggs*garlic powde...  \n3  sandwich bun*good seasonings italian salad dre...  \n4  beef steaks*vegetable oil*spicy mustard*fresh ...  ",
      "text/html": "<div>\n<style scoped>\n    .dataframe tbody tr th:only-of-type {\n        vertical-align: middle;\n    }\n\n    .dataframe tbody tr th {\n        vertical-align: top;\n    }\n\n    .dataframe thead th {\n        text-align: right;\n    }\n</style>\n<table border=\"1\" class=\"dataframe\">\n  <thead>\n    <tr style=\"text-align: right;\">\n      <th></th>\n      <th>id</th>\n      <th>name</th>\n      <th>minutes</th>\n      <th>contributor_id</th>\n      <th>submitted</th>\n      <th>n_steps</th>\n      <th>description</th>\n      <th>n_tags</th>\n      <th>tags</th>\n      <th>n_ingredients</th>\n      <th>ingredients</th>\n    </tr>\n  </thead>\n  <tbody>\n    <tr>\n      <th>0</th>\n      <td>44123</td>\n      <td>george s at the cove  black bean soup</td>\n      <td>90</td>\n      <td>35193</td>\n      <td>2002-10-25</td>\n      <td>11</td>\n      <td>an original recipe created by chef scott meska...</td>\n      <td>25</td>\n      <td>weeknight;time-to-make;course;main-ingredient;...</td>\n      <td>18</td>\n      <td>unsalted butter*carrot*onion*celery*broccoli s...</td>\n    </tr>\n    <tr>\n      <th>1</th>\n      <td>67664</td>\n      <td>healthy for them  yogurt popsicles</td>\n      <td>10</td>\n      <td>91970</td>\n      <td>2003-07-26</td>\n      <td>3</td>\n      <td>my children and their friends ask for my homem...</td>\n      <td>31</td>\n      <td>15-minutes-or-less;time-to-make;course;prepara...</td>\n      <td>3</td>\n      <td>milk*frozen juice concentrate*plain yogurt</td>\n    </tr>\n    <tr>\n      <th>2</th>\n      <td>38798</td>\n      <td>i can t believe it s spinach</td>\n      <td>30</td>\n      <td>1533</td>\n      <td>2002-08-29</td>\n      <td>5</td>\n      <td>these were so go, it surprised even me.</td>\n      <td>17</td>\n      <td>30-minutes-or-less;time-to-make;course;main-in...</td>\n      <td>8</td>\n      <td>onion*frozen chopped spinach*eggs*garlic powde...</td>\n    </tr>\n    <tr>\n      <th>3</th>\n      <td>35173</td>\n      <td>italian  gut busters</td>\n      <td>45</td>\n      <td>22724</td>\n      <td>2002-07-27</td>\n      <td>7</td>\n      <td>my sister-in-law made these for us at a family...</td>\n      <td>11</td>\n      <td>60-minutes-or-less;time-to-make;course;prepara...</td>\n      <td>9</td>\n      <td>sandwich bun*good seasonings italian salad dre...</td>\n    </tr>\n    <tr>\n      <th>4</th>\n      <td>84797</td>\n      <td>love is in the air  beef fondue   sauces</td>\n      <td>25</td>\n      <td>4470</td>\n      <td>2004-02-23</td>\n      <td>4</td>\n      <td>i think a fondue is a very romantic casual din...</td>\n      <td>19</td>\n      <td>30-minutes-or-less;time-to-make;course;main-in...</td>\n      <td>12</td>\n      <td>beef steaks*vegetable oil*spicy mustard*fresh ...</td>\n    </tr>\n  </tbody>\n</table>\n</div>"
     },
     "execution_count": 274,
     "metadata": {},
     "output_type": "execute_result"
    }
   ],
   "source": [
    "recipes_df = pd.read_csv(DATA_DIR.joinpath('recipes_sample_with_tags_ingredients.csv'))\n",
    "recipes_df.head()"
   ],
   "metadata": {
    "collapsed": false,
    "pycharm": {
     "name": "#%%\n"
    }
   }
  },
  {
   "cell_type": "code",
   "execution_count": 275,
   "outputs": [],
   "source": [
    "def pprint_df(df: pd.DataFrame, n: int = 5) -> None:\n",
    "    print(pformat_df(df, n=n))"
   ],
   "metadata": {
    "collapsed": false,
    "pycharm": {
     "name": "#%%\n"
    }
   }
  },
  {
   "cell_type": "code",
   "execution_count": 276,
   "outputs": [],
   "source": [
    "def pformat_df(df: pd.DataFrame, n: int = 5) -> str:\n",
    "    header = make_header(df)\n",
    "    body = make_body(df, n)\n",
    "    sep = f'|{\"-\" * (len(header) - 3)}|\\n'\n",
    "    return sep.join([header, body])"
   ],
   "metadata": {
    "collapsed": false,
    "pycharm": {
     "name": "#%%\n"
    }
   }
  },
  {
   "cell_type": "code",
   "execution_count": 277,
   "outputs": [],
   "source": [
    "def make_header(df: pd.DataFrame) -> str:\n",
    "    width_max_content = get_max_width_content(df)\n",
    "    header_template = generate_header_template(width_max_content)\n",
    "    return header_template.format(*df.columns)"
   ],
   "metadata": {
    "collapsed": false,
    "pycharm": {
     "name": "#%%\n"
    }
   }
  },
  {
   "cell_type": "code",
   "execution_count": 278,
   "outputs": [],
   "source": [
    "def generate_header_template(width_max_content: Iterable) -> str:\n",
    "    string_builder = ['{{:^{v}.{v}}} '.format(v=v + 2) for v in width_max_content]\n",
    "    return f'| {\" | \".join(string_builder)} |\\n'"
   ],
   "metadata": {
    "collapsed": false,
    "pycharm": {
     "name": "#%%\n"
    }
   }
  },
  {
   "cell_type": "code",
   "execution_count": 279,
   "outputs": [],
   "source": [
    "def make_body(df: pd.DataFrame, n: int = 5) -> str:\n",
    "    width_max_content = get_max_width_content(df)\n",
    "    row_template = generate_row_template(width_max_content)\n",
    "    string_builder = [row_template.format(*row) for _, row in df.sample(n).astype(str).iterrows()]\n",
    "    return ''.join(string_builder)"
   ],
   "metadata": {
    "collapsed": false,
    "pycharm": {
     "name": "#%%\n"
    }
   }
  },
  {
   "cell_type": "code",
   "execution_count": 280,
   "outputs": [],
   "source": [
    "def generate_row_template(width_max_content: Iterable) -> str:\n",
    "    string_builder = ['{{:>{v}.{v}}}  '.format(v=v + 1) for v in width_max_content]\n",
    "    return f'| {\" | \".join(string_builder)} |\\n'"
   ],
   "metadata": {
    "collapsed": false,
    "pycharm": {
     "name": "#%%\n"
    }
   }
  },
  {
   "cell_type": "code",
   "execution_count": 281,
   "outputs": [],
   "source": [
    "def get_max_width_content(df: pd.DataFrame) -> Iterable:\n",
    "    return df.max().astype(str).str.len()"
   ],
   "metadata": {
    "collapsed": false,
    "pycharm": {
     "name": "#%%\n"
    }
   }
  },
  {
   "cell_type": "code",
   "execution_count": 282,
   "outputs": [
    {
     "name": "stdout",
     "output_type": "stream",
     "text": [
      "|    id     | n_in  |\n",
      "|-------------------|\n",
      "|  232606   |   7   |\n",
      "|  416860   |  11   |\n",
      "|   60430   |  12   |\n",
      "|  375050   |   3   |\n",
      "|  390305   |  10   |\n",
      "\n"
     ]
    }
   ],
   "source": [
    "id_n_ingredients_df = recipes_df[['id', 'n_ingredients']]\n",
    "pprint_df(id_n_ingredients_df)"
   ],
   "metadata": {
    "collapsed": false,
    "pycharm": {
     "name": "#%%\n"
    }
   }
  },
  {
   "cell_type": "code",
   "execution_count": 301,
   "outputs": [
    {
     "data": {
      "text/plain": "\n\n|    id     | n_in  |\n|-------------------|\n|  400894   |  13   |\n|   68588   |   8   |\n|  362081   |   6   |\n|   53408   |  12   |\n|  221203   |   4   |\n\n\n|    id     | n_in  |\n|-------------------|\n|  221429   |   8   |\n|  482425   |   4   |\n|  484412   |   8   |\n|  314908   |   7   |\n|   52953   |   9   |\n\n"
     },
     "execution_count": 301,
     "metadata": {},
     "output_type": "execute_result"
    }
   ],
   "source": [
    "example = \"\"\"\n",
    "|    id     | n_in  |\n",
    "|-------------------|\n",
    "|  400894   |  13   |\n",
    "|   68588   |   8   |\n",
    "|  362081   |   6   |\n",
    "|   53408   |  12   |\n",
    "|  221203   |   4   |\n",
    "\"\"\"\n",
    "result = pformat_df(id_n_ingredients_df)\n",
    "Pretty(f'\\n{example}\\n\\n{result}\\n')"
   ],
   "metadata": {
    "collapsed": false,
    "pycharm": {
     "name": "#%%\n"
    }
   }
  },
  {
   "cell_type": "markdown",
   "metadata": {},
   "source": [
    "1.2 Напишите функцию `show_info`, которая для рецепта по его `id` создает строку (в смысле объекта python) с описанием следующего вида:\n",
    "\n",
    "```\n",
    "\"Название\"\n",
    "\n",
    "1. Шаг 1.\n",
    "2. Шаг 2.\n",
    "----------\n",
    "#тэг1 #тэг2\n",
    "```\n",
    "\n",
    "    \n",
    "Данные для создания строки получите из файлов `recipes_sample_with_tags_ingredients.csv`, `steps_sample.xml` (__ЛР4__) и `tags_sample.csv` (__ЛР5__). \n",
    "Выведите созданную строку на экран."
   ]
  },
  {
   "cell_type": "markdown",
   "metadata": {},
   "source": [
    "## Работа с регулярными выражениями"
   ]
  },
  {
   "cell_type": "markdown",
   "metadata": {},
   "source": [
    "В задачах данного блока подразумевается, что вы не будете использовать никаких строковые методы (`split`, `startswith` и т.д.). Все задачи необходимо решить при помощи регулярных выражений."
   ]
  },
  {
   "cell_type": "markdown",
   "metadata": {},
   "source": [
    "2.1 Посчитайте кол-во отзывов, в которых встречаются числа."
   ]
  },
  {
   "cell_type": "markdown",
   "metadata": {},
   "source": [
    "2.2 Найдите все смайлики в отзывах. Смайлик состоит из трех частей: глаза (символ `=` или `:`), нос (символ `-`), губы (символ `)` или `(`). Смайлик может иметь вид \"глаза-нос-губы\" или \"губы-нос-глаза\". Нос может отсутствовать."
   ]
  },
  {
   "cell_type": "markdown",
   "metadata": {},
   "source": [
    "2.3 Проверьте, что все даты в датасете имеют вид \"YYYY-MM-DD\". Продемонстрируйте работу вашего решения, приведя пример из датасета и контрпример не из датасета."
   ]
  },
  {
   "cell_type": "markdown",
   "metadata": {},
   "source": [
    "2.4 Используя строку-результат задачи 1.2, найдите первое слово каждого шага в рецепте"
   ]
  },
  {
   "cell_type": "markdown",
   "metadata": {},
   "source": [
    "2.5 Используя регулярные выражения, удалите из описаний все символы, кроме английских букв, цифр и пробелов. Сохраните предобработанные описания в файл `preprocessed_descriptions.csv`, содержащий 2 столбца: `name` и `preprocessed_descriptions`."
   ]
  },
  {
   "cell_type": "markdown",
   "metadata": {},
   "source": [
    "### Сегментация текста"
   ]
  },
  {
   "cell_type": "markdown",
   "metadata": {},
   "source": [
    "3.1 Разбейте предобработанные отзывы из задания 2.5 на предложения, а предложения - на слова (используйте `sent_tokenize` и `word_tokenize` из `nltk`). Каждый отзыв представьте в виде списка списков: внешний список - предложения, вложенные списки - слова в предложении.\n",
    "\n",
    "`'Предложение номер один. Предложение номер два.' => [['Предложение', 'номер', 'один', '.'], ['Предложение', 'номер', 'два', '.']]`"
   ]
  },
  {
   "cell_type": "markdown",
   "metadata": {},
   "source": [
    "3.2 Посчитайте кол-во уникальных слов в датасете (без учета регистра)."
   ]
  },
  {
   "cell_type": "markdown",
   "metadata": {},
   "source": [
    "3.3 Найдите 5 самых длинных (по количеству слов) отзывов в датасете и выведите их в порядке убывания длины."
   ]
  },
  {
   "cell_type": "markdown",
   "metadata": {
    "pycharm": {
     "name": "#%% md\n"
    }
   },
   "source": [
    "3.4 Напишите функцию, которая для заданного предложения выводит информацию о частях речи слов, входящих в предложение в следующем виде:\n",
    "```\n",
    "PRP   VBD   DT      NNS     CC   VBD      NNS        RB   \n",
    " I  omitted the raspberries and added strawberries instead\n",
    "``` \n",
    "Для определения части речи слова можно воспользоваться `nltk.pos_tag`.\n",
    "\n",
    "Проверьте работоспособность функции на любом предложении из отзывов."
   ]
  }
 ],
 "metadata": {
  "kernelspec": {
   "name": "python3",
   "language": "python",
   "display_name": "Python 3 (ipykernel)"
  },
  "language_info": {
   "codemirror_mode": {
    "name": "ipython",
    "version": 3
   },
   "file_extension": ".py",
   "mimetype": "text/x-python",
   "name": "python",
   "nbconvert_exporter": "python",
   "pygments_lexer": "ipython3",
   "version": "3.8.8"
  }
 },
 "nbformat": 4,
 "nbformat_minor": 4
}