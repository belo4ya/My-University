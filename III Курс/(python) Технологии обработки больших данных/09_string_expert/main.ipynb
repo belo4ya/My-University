{
 "cells": [
  {
   "cell_type": "markdown",
   "metadata": {},
   "source": [
    "# Введение в обработку текста на естественном языке"
   ]
  },
  {
   "cell_type": "markdown",
   "metadata": {},
   "source": [
    "Материалы:\n",
    "* Макрушин С.В. Лекция 9: Введение в обработку текста на естественном языке\\\n",
    "* https://realpython.com/nltk-nlp-python/\n",
    "* https://scikit-learn.org/stable/modules/feature_extraction.html"
   ]
  },
  {
   "cell_type": "code",
   "execution_count": 1,
   "outputs": [],
   "source": [
    "import string\n",
    "from pathlib import Path\n",
    "from typing import Iterable\n",
    "\n",
    "import nltk\n",
    "import numpy as np\n",
    "import pandas as pd\n",
    "import pymorphy2\n",
    "from nltk.corpus import stopwords\n",
    "from sklearn.feature_extraction.text import CountVectorizer, TfidfVectorizer\n",
    "from sklearn.metrics.pairwise import cosine_similarity, cosine_distances"
   ],
   "metadata": {
    "collapsed": false,
    "pycharm": {
     "name": "#%%\n"
    }
   }
  },
  {
   "cell_type": "code",
   "execution_count": 2,
   "outputs": [],
   "source": [
    "DATA_DIR = Path('data/')"
   ],
   "metadata": {
    "collapsed": false,
    "pycharm": {
     "name": "#%%\n"
    }
   }
  },
  {
   "cell_type": "markdown",
   "metadata": {},
   "source": [
    "## Задачи для совместного разбора"
   ]
  },
  {
   "cell_type": "markdown",
   "metadata": {},
   "source": [
    "1. Считайте слова из файла `litw-win.txt` и запишите их в список `words`. В заданном предложении исправьте все опечатки, заменив слова с опечатками на ближайшие (в смысле расстояния Левенштейна) к ним слова из списка `words`. Считайте, что в слове есть опечатка, если данное слово не содержится в списке `words`. "
   ]
  },
  {
   "cell_type": "code",
   "execution_count": 31,
   "outputs": [
    {
     "data": {
      "text/plain": "['высокопревосходительства',\n 'попреблагорассмотрительст',\n 'попреблагорассмотрительствующемуся',\n 'убегающих',\n 'уменьшившейся']"
     },
     "execution_count": 31,
     "metadata": {},
     "output_type": "execute_result"
    }
   ],
   "source": [
    "with open(DATA_DIR.joinpath('litw-win.txt'), encoding='cp1251') as f:\n",
    "    words = [line.strip().split()[-1].lower() for line in f]\n",
    "\n",
    "words[-5:]"
   ],
   "metadata": {
    "collapsed": false,
    "pycharm": {
     "name": "#%%\n"
    }
   }
  },
  {
   "cell_type": "code",
   "execution_count": 32,
   "metadata": {},
   "outputs": [],
   "source": [
    "text = ('с велечайшим усилием выбравшись из потока убегающих людей Кутузов со '\n",
    "        'свитой уменьшевшейся вдвое поехал на звуки выстрелов русских орудий')"
   ]
  },
  {
   "cell_type": "code",
   "execution_count": 33,
   "outputs": [],
   "source": [
    "def find_replacements(text: str, dictionary: Iterable) -> dict[str, tuple[int, list[str]]]:\n",
    "    dictionary = set(dictionary)\n",
    "    replacements = {}\n",
    "    for word in text.lower().split():\n",
    "        if word not in dictionary:\n",
    "            sorted_edit_distances = sorted(\n",
    "                map(lambda x: (nltk.edit_distance(word, x), x), dictionary),\n",
    "                key=lambda x: x[0]\n",
    "            )\n",
    "            min_edit_distance = sorted_edit_distances[0][0]\n",
    "            replacement_list = []\n",
    "            for edit_distance, dict_word in sorted_edit_distances:\n",
    "                if edit_distance > min_edit_distance:\n",
    "                    break\n",
    "                replacement_list.append(dict_word)\n",
    "            replacements[word] = (min_edit_distance, replacement_list)\n",
    "\n",
    "    return replacements"
   ],
   "metadata": {
    "collapsed": false,
    "pycharm": {
     "name": "#%%\n"
    }
   }
  },
  {
   "cell_type": "code",
   "execution_count": 34,
   "outputs": [
    {
     "data": {
      "text/plain": "{'велечайшим': (1, ['величайшим']), 'уменьшевшейся': (1, ['уменьшившейся'])}"
     },
     "execution_count": 34,
     "metadata": {},
     "output_type": "execute_result"
    }
   ],
   "source": [
    "replacements = find_replacements(text, words)\n",
    "replacements"
   ],
   "metadata": {
    "collapsed": false,
    "pycharm": {
     "name": "#%%\n"
    }
   }
  },
  {
   "cell_type": "code",
   "execution_count": 35,
   "outputs": [
    {
     "data": {
      "text/plain": "'с величайшим усилием выбравшись из потока убегающих людей Кутузов со свитой уменьшившейся вдвое поехал на звуки выстрелов русских орудий'"
     },
     "execution_count": 35,
     "metadata": {},
     "output_type": "execute_result"
    }
   ],
   "source": [
    "fixed_text = text\n",
    "for word, repl in replacements.items():\n",
    "    fixed_text = fixed_text.replace(word, repl[1][0])\n",
    "fixed_text"
   ],
   "metadata": {
    "collapsed": false,
    "pycharm": {
     "name": "#%%\n"
    }
   }
  },
  {
   "cell_type": "markdown",
   "metadata": {},
   "source": [
    "2. Разбейте текст из формулировки задания 1 на слова; проведите стемминг и лемматизацию слов."
   ]
  },
  {
   "cell_type": "code",
   "execution_count": 36,
   "outputs": [],
   "source": [
    "task1_text = (\n",
    "    'Считайте слова из файла `litw-win.txt` и запишите их в список `words`. '\n",
    "    'В заданном предложении исправьте все опечатки, заменив слова с опечатками '\n",
    "    'на ближайшие (в смысле расстояния Левенштейна) к ним слова из списка `words`. '\n",
    "    'Считайте, что в слове есть опечатка, если данное слово не содержится в списке `words`.'\n",
    ")\n",
    "stemmer = nltk.SnowballStemmer('russian')\n",
    "lemmer = pymorphy2.MorphAnalyzer()"
   ],
   "metadata": {
    "collapsed": false,
    "pycharm": {
     "name": "#%%\n"
    }
   }
  },
  {
   "cell_type": "code",
   "execution_count": 37,
   "outputs": [
    {
     "data": {
      "text/plain": "        word stemma     lemma\n6   запишите  запиш  записать\n30        из     из        из\n31    списка  списк    список\n5          и      и         и\n29     слова   слов     слово",
      "text/html": "<div>\n<style scoped>\n    .dataframe tbody tr th:only-of-type {\n        vertical-align: middle;\n    }\n\n    .dataframe tbody tr th {\n        vertical-align: top;\n    }\n\n    .dataframe thead th {\n        text-align: right;\n    }\n</style>\n<table border=\"1\" class=\"dataframe\">\n  <thead>\n    <tr style=\"text-align: right;\">\n      <th></th>\n      <th>word</th>\n      <th>stemma</th>\n      <th>lemma</th>\n    </tr>\n  </thead>\n  <tbody>\n    <tr>\n      <th>6</th>\n      <td>запишите</td>\n      <td>запиш</td>\n      <td>записать</td>\n    </tr>\n    <tr>\n      <th>30</th>\n      <td>из</td>\n      <td>из</td>\n      <td>из</td>\n    </tr>\n    <tr>\n      <th>31</th>\n      <td>списка</td>\n      <td>списк</td>\n      <td>список</td>\n    </tr>\n    <tr>\n      <th>5</th>\n      <td>и</td>\n      <td>и</td>\n      <td>и</td>\n    </tr>\n    <tr>\n      <th>29</th>\n      <td>слова</td>\n      <td>слов</td>\n      <td>слово</td>\n    </tr>\n  </tbody>\n</table>\n</div>"
     },
     "execution_count": 37,
     "metadata": {},
     "output_type": "execute_result"
    }
   ],
   "source": [
    "pd.DataFrame(\n",
    "    data=[\n",
    "        [word, stemmer.stem(word), lemmer.parse(word)[0].normal_form]\n",
    "        for word in nltk.word_tokenize(task1_text)\n",
    "        if word not in string.punctuation\n",
    "    ],\n",
    "    columns=['word', 'stemma', 'lemma']\n",
    ").sample(5)"
   ],
   "metadata": {
    "collapsed": false,
    "pycharm": {
     "name": "#%%\n"
    }
   }
  },
  {
   "cell_type": "markdown",
   "metadata": {},
   "source": [
    "3. Преобразуйте предложения из формулировки задания 1 в векторы при помощи `CountVectorizer`."
   ]
  },
  {
   "cell_type": "code",
   "execution_count": 38,
   "outputs": [
    {
     "data": {
      "text/plain": "array([[1, 1, 1, 1, 0, 0, 0, 0, 0, 0, 0, 1, 1, 0, 1, 0, 0, 0, 0, 0, 0, 0,\n        0, 0, 1, 0, 0, 0, 0, 0, 0, 1, 1, 1, 0],\n       [0, 0, 0, 1, 1, 1, 0, 0, 0, 1, 1, 0, 1, 1, 0, 1, 1, 0, 1, 0, 1, 1,\n        1, 1, 2, 0, 0, 1, 0, 1, 0, 0, 0, 0, 0],\n       [0, 0, 0, 1, 0, 0, 1, 1, 1, 0, 0, 0, 0, 0, 0, 0, 0, 1, 0, 1, 0, 0,\n        0, 0, 0, 1, 1, 0, 1, 0, 1, 0, 1, 0, 1]], dtype=int64)"
     },
     "execution_count": 38,
     "metadata": {},
     "output_type": "execute_result"
    }
   ],
   "source": [
    "CountVectorizer().fit_transform(nltk.sent_tokenize(task1_text)).toarray()"
   ],
   "metadata": {
    "collapsed": false,
    "pycharm": {
     "name": "#%%\n"
    }
   }
  },
  {
   "cell_type": "markdown",
   "metadata": {},
   "source": [
    "## Лабораторная работа 9"
   ]
  },
  {
   "cell_type": "markdown",
   "metadata": {},
   "source": [
    "### Расстояние редактирования"
   ]
  },
  {
   "cell_type": "markdown",
   "metadata": {},
   "source": [
    "1.1 Загрузите предобработанные описания рецептов из файла `preprocessed_descriptions.csv`. Получите набор уникальных слов `words`, содержащихся в текстах описаний рецептов (воспользуйтесь `word_tokenize` из `nltk`). "
   ]
  },
  {
   "cell_type": "code",
   "execution_count": 3,
   "outputs": [
    {
     "name": "stdout",
     "output_type": "stream",
     "text": [
      "<class 'pandas.core.frame.DataFrame'>\n",
      "RangeIndex: 30000 entries, 0 to 29999\n",
      "Data columns (total 2 columns):\n",
      " #   Column       Non-Null Count  Dtype \n",
      "---  ------       --------------  ----- \n",
      " 0   name         30000 non-null  object\n",
      " 1   description  29369 non-null  object\n",
      "dtypes: object(2)\n",
      "memory usage: 468.9+ KB\n"
     ]
    },
    {
     "data": {
      "text/plain": "                                       name  \\\n0     george s at the cove  black bean soup   \n1        healthy for them  yogurt popsicles   \n2              i can t believe it s spinach   \n3                      italian  gut busters   \n4  love is in the air  beef fondue   sauces   \n\n                                         description  \n0  an original recipe created by chef scott meska...  \n1  my children and their friends ask for my homem...  \n2              these were so go it surprised even me  \n3  my sisterinlaw made these for us at a family g...  \n4  i think a fondue is a very romantic casual din...  ",
      "text/html": "<div>\n<style scoped>\n    .dataframe tbody tr th:only-of-type {\n        vertical-align: middle;\n    }\n\n    .dataframe tbody tr th {\n        vertical-align: top;\n    }\n\n    .dataframe thead th {\n        text-align: right;\n    }\n</style>\n<table border=\"1\" class=\"dataframe\">\n  <thead>\n    <tr style=\"text-align: right;\">\n      <th></th>\n      <th>name</th>\n      <th>description</th>\n    </tr>\n  </thead>\n  <tbody>\n    <tr>\n      <th>0</th>\n      <td>george s at the cove  black bean soup</td>\n      <td>an original recipe created by chef scott meska...</td>\n    </tr>\n    <tr>\n      <th>1</th>\n      <td>healthy for them  yogurt popsicles</td>\n      <td>my children and their friends ask for my homem...</td>\n    </tr>\n    <tr>\n      <th>2</th>\n      <td>i can t believe it s spinach</td>\n      <td>these were so go it surprised even me</td>\n    </tr>\n    <tr>\n      <th>3</th>\n      <td>italian  gut busters</td>\n      <td>my sisterinlaw made these for us at a family g...</td>\n    </tr>\n    <tr>\n      <th>4</th>\n      <td>love is in the air  beef fondue   sauces</td>\n      <td>i think a fondue is a very romantic casual din...</td>\n    </tr>\n  </tbody>\n</table>\n</div>"
     },
     "execution_count": 3,
     "metadata": {},
     "output_type": "execute_result"
    }
   ],
   "source": [
    "descriptions_df = pd.read_csv(DATA_DIR.joinpath('preprocessed_descriptions.csv'), sep=',')\n",
    "descriptions_df = descriptions_df.rename(columns={'preprocessed_descriptions': 'description'})\n",
    "descriptions_df.info()\n",
    "descriptions_df.head()"
   ],
   "metadata": {
    "collapsed": false,
    "pycharm": {
     "name": "#%%\n"
    }
   }
  },
  {
   "cell_type": "code",
   "execution_count": 4,
   "outputs": [
    {
     "data": {
      "text/plain": "30823"
     },
     "execution_count": 4,
     "metadata": {},
     "output_type": "execute_result"
    }
   ],
   "source": [
    "descriptions = descriptions_df['description'].dropna()\n",
    "words = list({word for text in descriptions for word in nltk.word_tokenize(text)})\n",
    "len(words)"
   ],
   "metadata": {
    "collapsed": false,
    "pycharm": {
     "name": "#%%\n"
    }
   }
  },
  {
   "cell_type": "markdown",
   "metadata": {},
   "source": [
    "1.2 Сгенерируйте 5 пар случайно выбранных слов и посчитайте между ними расстояние редактирования."
   ]
  },
  {
   "cell_type": "code",
   "execution_count": 41,
   "outputs": [
    {
     "data": {
      "text/plain": "[(['pharmacists', 'livens'], 10),\n (['tomake', 'tombs'], 3),\n (['warningthis', 'handwith'], 7),\n (['complaints', 'sexymommalucass'], 11),\n (['globs', 'met'], 5)]"
     },
     "execution_count": 41,
     "metadata": {},
     "output_type": "execute_result"
    }
   ],
   "source": [
    "rng = np.random.default_rng()\n",
    "random_pairs = rng.choice(words, size=(5, 2)).tolist()\n",
    "list(map(lambda x: (x, nltk.edit_distance(x[0], x[1])), random_pairs))"
   ],
   "metadata": {
    "collapsed": false,
    "pycharm": {
     "name": "#%%\n"
    }
   }
  },
  {
   "cell_type": "markdown",
   "metadata": {},
   "source": [
    "1.3 Напишите функцию, которая для заданного слова `word` возвращает `k` ближайших к нему слов из списка `words` (близость слов измеряется с помощью расстояния Левенштейна)"
   ]
  },
  {
   "cell_type": "code",
   "execution_count": 42,
   "outputs": [],
   "source": [
    "def similarity(word: str, words: list[str], k: int) -> list[str]:\n",
    "    return sorted(words, key=lambda x: nltk.edit_distance(word, x))[:k]"
   ],
   "metadata": {
    "collapsed": false,
    "pycharm": {
     "name": "#%%\n"
    }
   }
  },
  {
   "cell_type": "code",
   "execution_count": 43,
   "outputs": [
    {
     "data": {
      "text/plain": "['hello', 'mello', 'jello', 'hell', 'help']"
     },
     "execution_count": 43,
     "metadata": {},
     "output_type": "execute_result"
    }
   ],
   "source": [
    "similarity('hello', words, 5)"
   ],
   "metadata": {
    "collapsed": false,
    "pycharm": {
     "name": "#%%\n"
    }
   }
  },
  {
   "cell_type": "markdown",
   "metadata": {},
   "source": [
    "### Стемминг, лемматизация"
   ]
  },
  {
   "cell_type": "markdown",
   "metadata": {},
   "source": [
    "2.1 На основе результатов 1.1 создайте `pd.DataFrame` со столбцами: \n",
    "    * word\n",
    "    * stemmed_word \n",
    "    * normalized_word \n",
    "\n",
    "Столбец `word` укажите в качестве индекса. \n",
    "\n",
    "Для стемминга воспользуйтесь `SnowballStemmer`, для лемматизации слов - `WordNetLemmatizer`. Сравните результаты стемминга и лемматизации."
   ]
  },
  {
   "cell_type": "code",
   "execution_count": 44,
   "outputs": [],
   "source": [
    "stemmer = nltk.SnowballStemmer('english')\n",
    "lemmatizer = nltk.WordNetLemmatizer()"
   ],
   "metadata": {
    "collapsed": false,
    "pycharm": {
     "name": "#%%\n"
    }
   }
  },
  {
   "cell_type": "code",
   "execution_count": 45,
   "outputs": [
    {
     "data": {
      "text/plain": "              stemmed_word normalized_word\nwords                                     \nmad                    mad             mad\nsunmaid            sunmaid         sunmaid\ninspire             inspir         inspire\ngranulated          granul      granulated\nmuschelessen  muschelessen    muschelessen",
      "text/html": "<div>\n<style scoped>\n    .dataframe tbody tr th:only-of-type {\n        vertical-align: middle;\n    }\n\n    .dataframe tbody tr th {\n        vertical-align: top;\n    }\n\n    .dataframe thead th {\n        text-align: right;\n    }\n</style>\n<table border=\"1\" class=\"dataframe\">\n  <thead>\n    <tr style=\"text-align: right;\">\n      <th></th>\n      <th>stemmed_word</th>\n      <th>normalized_word</th>\n    </tr>\n    <tr>\n      <th>words</th>\n      <th></th>\n      <th></th>\n    </tr>\n  </thead>\n  <tbody>\n    <tr>\n      <th>mad</th>\n      <td>mad</td>\n      <td>mad</td>\n    </tr>\n    <tr>\n      <th>sunmaid</th>\n      <td>sunmaid</td>\n      <td>sunmaid</td>\n    </tr>\n    <tr>\n      <th>inspire</th>\n      <td>inspir</td>\n      <td>inspire</td>\n    </tr>\n    <tr>\n      <th>granulated</th>\n      <td>granul</td>\n      <td>granulated</td>\n    </tr>\n    <tr>\n      <th>muschelessen</th>\n      <td>muschelessen</td>\n      <td>muschelessen</td>\n    </tr>\n  </tbody>\n</table>\n</div>"
     },
     "execution_count": 45,
     "metadata": {},
     "output_type": "execute_result"
    }
   ],
   "source": [
    "df = pd.DataFrame(\n",
    "    data={\n",
    "        'stemmed_word': map(stemmer.stem, words),\n",
    "        'normalized_word': map(lemmatizer.lemmatize, words),\n",
    "    },\n",
    "    index=pd.Series(words, name='words')\n",
    ")\n",
    "df.head()"
   ],
   "metadata": {
    "collapsed": false,
    "pycharm": {
     "name": "#%%\n"
    }
   }
  },
  {
   "cell_type": "code",
   "execution_count": 46,
   "outputs": [
    {
     "name": "stdout",
     "output_type": "stream",
     "text": [
      "Всего слов: 30823\n",
      "Основ отличается: 15330\n",
      "Лемм отличается: 3131\n"
     ]
    }
   ],
   "source": [
    "print(f'Всего слов: {len(df)}')\n",
    "print(f'Основ отличается: {len(set(df.index) - set(df[\"stemmed_word\"]))}')\n",
    "print(f'Лемм отличается: {len(set(df.index) - set(df[\"normalized_word\"]))}')"
   ],
   "metadata": {
    "collapsed": false,
    "pycharm": {
     "name": "#%%\n"
    }
   }
  },
  {
   "cell_type": "markdown",
   "metadata": {},
   "source": [
    "2.2. Удалите стоп-слова из описаний рецептов. Какую долю об общего количества слов составляли стоп-слова? Сравните топ-10 самых часто употребляемых слов до и после удаления стоп-слов."
   ]
  },
  {
   "cell_type": "code",
   "execution_count": 47,
   "outputs": [],
   "source": [
    "stop_words = set(stopwords.words('english'))"
   ],
   "metadata": {
    "collapsed": false,
    "pycharm": {
     "name": "#%%\n"
    }
   }
  },
  {
   "cell_type": "code",
   "execution_count": 48,
   "outputs": [],
   "source": [
    "all_words = [word for text in descriptions for word in nltk.word_tokenize(text)]\n",
    "words_without_stopwords = [word for word in all_words if word not in stop_words]"
   ],
   "metadata": {
    "collapsed": false,
    "pycharm": {
     "name": "#%%\n"
    }
   }
  },
  {
   "cell_type": "code",
   "execution_count": 49,
   "outputs": [
    {
     "name": "stdout",
     "output_type": "stream",
     "text": [
      "Слов всего: 1071865\n",
      "Слов всего после удаления стоп-слов: 581919\n",
      "Доля стоп-слов 45.71%\n"
     ]
    }
   ],
   "source": [
    "n_words = len(all_words)\n",
    "n_words_without_stopwords = len(words_without_stopwords)\n",
    "print(f'Слов всего: {n_words}')\n",
    "print(f'Слов всего после удаления стоп-слов: {n_words_without_stopwords}')\n",
    "print(f'Доля стоп-слов {(n_words - n_words_without_stopwords) / n_words:.2%}')"
   ],
   "metadata": {
    "collapsed": false,
    "pycharm": {
     "name": "#%%\n"
    }
   }
  },
  {
   "cell_type": "code",
   "execution_count": 50,
   "outputs": [
    {
     "name": "stdout",
     "output_type": "stream",
     "text": [
      "Топ-10 по частоте (до): \n",
      "[('the', 40210), ('a', 34994), ('and', 30279), ('this', 27048), ('i', 25111), ('to', 23499), ('is', 20290), ('it', 19863), ('of', 18372), ('for', 15988)]\n",
      "Топ-10 по частоте (после): \n",
      "[('recipe', 14957), ('make', 6353), ('time', 5180), ('use', 4635), ('great', 4453), ('like', 4175), ('easy', 4175), ('one', 3886), ('good', 3820), ('made', 3814)]\n"
     ]
    }
   ],
   "source": [
    "print(f'Топ-10 по частоте (до): \\n{nltk.FreqDist(all_words).most_common(10)}')\n",
    "print(f'Топ-10 по частоте (после): \\n{nltk.FreqDist(words_without_stopwords).most_common(10)}')"
   ],
   "metadata": {
    "collapsed": false,
    "pycharm": {
     "name": "#%%\n"
    }
   }
  },
  {
   "cell_type": "markdown",
   "metadata": {},
   "source": [
    "### Векторное представление текста"
   ]
  },
  {
   "cell_type": "markdown",
   "metadata": {},
   "source": [
    "3.1 Выберите случайным образом 5 рецептов из набора данных. Представьте описание каждого рецепта в виде числового вектора при помощи `TfidfVectorizer`"
   ]
  },
  {
   "cell_type": "code",
   "execution_count": 16,
   "outputs": [
    {
     "data": {
      "text/plain": "                                             name  \\\n10598                               eric s  stuff   \n755    anne s poppy seed dressing for fruit salad   \n10027                           easy granola bars   \n28650    vegetable crudites with greek yogurt dip   \n22275      really easy and good coconut cream pie   \n\n                                             description  \n10598  i was talking with a friend at work the other ...  \n755    this dressing spruces up a fruit salad for a s...  \n10027  this is an easy granola bar recipe they are mu...  \n28650  this is sanjeev kapoors recipe from the young ...  \n22275  just like the heading sayssimple and easy and ...  ",
      "text/html": "<div>\n<style scoped>\n    .dataframe tbody tr th:only-of-type {\n        vertical-align: middle;\n    }\n\n    .dataframe tbody tr th {\n        vertical-align: top;\n    }\n\n    .dataframe thead th {\n        text-align: right;\n    }\n</style>\n<table border=\"1\" class=\"dataframe\">\n  <thead>\n    <tr style=\"text-align: right;\">\n      <th></th>\n      <th>name</th>\n      <th>description</th>\n    </tr>\n  </thead>\n  <tbody>\n    <tr>\n      <th>10598</th>\n      <td>eric s  stuff</td>\n      <td>i was talking with a friend at work the other ...</td>\n    </tr>\n    <tr>\n      <th>755</th>\n      <td>anne s poppy seed dressing for fruit salad</td>\n      <td>this dressing spruces up a fruit salad for a s...</td>\n    </tr>\n    <tr>\n      <th>10027</th>\n      <td>easy granola bars</td>\n      <td>this is an easy granola bar recipe they are mu...</td>\n    </tr>\n    <tr>\n      <th>28650</th>\n      <td>vegetable crudites with greek yogurt dip</td>\n      <td>this is sanjeev kapoors recipe from the young ...</td>\n    </tr>\n    <tr>\n      <th>22275</th>\n      <td>really easy and good coconut cream pie</td>\n      <td>just like the heading sayssimple and easy and ...</td>\n    </tr>\n  </tbody>\n</table>\n</div>"
     },
     "execution_count": 16,
     "metadata": {},
     "output_type": "execute_result"
    }
   ],
   "source": [
    "descriptions_sample = descriptions_df.dropna().sample(5)\n",
    "descriptions_sample"
   ],
   "metadata": {
    "collapsed": false,
    "pycharm": {
     "name": "#%%\n"
    }
   }
  },
  {
   "cell_type": "code",
   "execution_count": 17,
   "outputs": [
    {
     "name": "stdout",
     "output_type": "stream",
     "text": [
      "                                             name                                                                                                                                                                                                                                                                                                                                                                                                    description                                                                                                                                                                                                                                                                                                                                                                                                                                                                                                                                                                                                                                                                                                                                                                                                                                                                                                                            vector\n",
      "10598                               eric s  stuff  i was talking with a friend at work the other day and got completely caught off guard when he started mixing together these three different ingredients in a big glass i was so intrigued by it that i asked to take a sip of it and wow it was sooo good it honestly tasted like stawberry cake in a glass it was just excellent if you try it i can promise you that youll be hooked just like me lol enjoy  [[0.0, 0.16041996250072124, 0.0, 0.0, 0.0, 0.0, 0.0, 0.16041996250072124, 0.0, 0.0, 0.0, 0.16041996250072124, 0.16041996250072124, 0.0, 0.0, 0.16041996250072124, 0.0, 0.0, 0.16041996250072124, 0.16041996250072124, 0.0, 0.0, 0.1294258156593609, 0.16041996250072124, 0.0, 0.16041996250072124, 0.0, 0.0, 0.3208399250014425, 0.16041996250072124, 0.16041996250072124, 0.0, 0.16041996250072124, 0.0, 0.16041996250072124, 0.16041996250072124, 0.16041996250072124, 0.16041996250072124, 0.2588516313187218, 0.0, 0.2588516313187218, 0.16041996250072124, 0.0, 0.0, 0.16041996250072124, 0.0, 0.0, 0.0, 0.0, 0.0, 0.16041996250072124, 0.0, 0.0, 0.0, 0.0, 0.0, 0.0, 0.16041996250072124, 0.16041996250072124, 0.0, 0.0, 0.16041996250072124, 0.0, 0.16041996250072124, 0.16041996250072124, 0.16041996250072124, 0.0, 0.0, 0.16041996250072124, 0.16041996250072124, 0.16041996250072124, 0.16041996250072124, 0.0, 0.0]]\n",
      "755    anne s poppy seed dressing for fruit salad                                                                                                                                                                                  this dressing spruces up a fruit salad for a special occasion or an ordinary brunch my family always requests i bring this to our gatherings along with a platter of fruit i choose melons bananas pineapple assorted berries                                                                                                                                                                                                                              [[0.0, 0.0, 0.21320071635561047, 0.21320071635561047, 0.0, 0.21320071635561047, 0.0, 0.0, 0.21320071635561047, 0.21320071635561047, 0.0, 0.0, 0.0, 0.0, 0.21320071635561047, 0.0, 0.0, 0.0, 0.0, 0.0, 0.21320071635561047, 0.0, 0.0, 0.0, 0.21320071635561047, 0.0, 0.42640143271122094, 0.21320071635561047, 0.0, 0.0, 0.0, 0.0, 0.0, 0.0, 0.0, 0.0, 0.0, 0.0, 0.0, 0.0, 0.0, 0.0, 0.0, 0.21320071635561047, 0.0, 0.21320071635561047, 0.0, 0.21320071635561047, 0.21320071635561047, 0.21320071635561047, 0.0, 0.0, 0.0, 0.21320071635561047, 0.21320071635561047, 0.0, 0.0, 0.0, 0.0, 0.21320071635561047, 0.21320071635561047, 0.0, 0.0, 0.0, 0.0, 0.0, 0.0, 0.0, 0.0, 0.0, 0.0, 0.0, 0.0, 0.0]]\n",
      "10027                           easy granola bars                                                                                                                                                                                                                                                                                                         this is an easy granola bar recipe they are much cheaper than buying them and there are better for you                                                                                                                                                                                                                                                                                                                                                                                                                                         [[0.0, 0.0, 0.0, 0.0, 0.3983516165374428, 0.0, 0.3983516165374428, 0.0, 0.0, 0.0, 0.3983516165374428, 0.0, 0.0, 0.3983516165374428, 0.0, 0.0, 0.0, 0.0, 0.0, 0.0, 0.0, 0.32138757599667, 0.0, 0.0, 0.0, 0.0, 0.0, 0.0, 0.0, 0.0, 0.0, 0.3983516165374428, 0.0, 0.0, 0.0, 0.0, 0.0, 0.0, 0.0, 0.0, 0.0, 0.0, 0.0, 0.0, 0.0, 0.0, 0.0, 0.0, 0.0, 0.0, 0.0, 0.32138757599667, 0.0, 0.0, 0.0, 0.0, 0.0, 0.0, 0.0, 0.0, 0.0, 0.0, 0.0, 0.0, 0.0, 0.0, 0.0, 0.0, 0.0, 0.0, 0.0, 0.0, 0.0, 0.0]]\n",
      "28650    vegetable crudites with greek yogurt dip                                                                                                                                                                                                                                                              this is sanjeev kapoors recipe from the young times magazine dated october 18th2005 the cooking time stated here is the refrigeration time enjoy                                                                                                                                                                                                                                                                                                                           [[0.2476747830736433, 0.0, 0.0, 0.0, 0.0, 0.0, 0.0, 0.0, 0.0, 0.0, 0.0, 0.0, 0.0, 0.0, 0.0, 0.0, 0.2476747830736433, 0.2476747830736433, 0.0, 0.0, 0.0, 0.0, 0.19982245549656852, 0.0, 0.0, 0.0, 0.0, 0.0, 0.0, 0.0, 0.0, 0.0, 0.0, 0.0, 0.0, 0.0, 0.0, 0.0, 0.0, 0.2476747830736433, 0.0, 0.0, 0.2476747830736433, 0.0, 0.0, 0.0, 0.2476747830736433, 0.0, 0.0, 0.0, 0.0, 0.19982245549656852, 0.2476747830736433, 0.0, 0.0, 0.2476747830736433, 0.0, 0.0, 0.0, 0.0, 0.0, 0.0, 0.2476747830736433, 0.0, 0.0, 0.0, 0.4953495661472866, 0.2476747830736433, 0.0, 0.0, 0.0, 0.0, 0.2476747830736433, 0.0]]\n",
      "22275      really easy and good coconut cream pie                                                                                                                                                                                                                                                                                                                                                       just like the heading sayssimple and easy and very yummy                                                                                                                                                                                                                                                                                                                                                                                                                                                 [[0.0, 0.0, 0.0, 0.0, 0.0, 0.0, 0.0, 0.0, 0.0, 0.0, 0.0, 0.0, 0.0, 0.0, 0.0, 0.0, 0.0, 0.0, 0.0, 0.0, 0.0, 0.36252617931707154, 0.0, 0.0, 0.0, 0.0, 0.0, 0.0, 0.0, 0.0, 0.0, 0.0, 0.0, 0.4493418549869352, 0.0, 0.0, 0.0, 0.0, 0.36252617931707154, 0.0, 0.36252617931707154, 0.0, 0.0, 0.0, 0.0, 0.0, 0.0, 0.0, 0.0, 0.0, 0.0, 0.0, 0.0, 0.0, 0.0, 0.0, 0.4493418549869352, 0.0, 0.0, 0.0, 0.0, 0.0, 0.0, 0.0, 0.0, 0.0, 0.0, 0.0, 0.0, 0.0, 0.0, 0.0, 0.0, 0.4493418549869352]]\n"
     ]
    }
   ],
   "source": [
    "tfid_vectorizer = TfidfVectorizer(analyzer='word', stop_words='english')\n",
    "tfid_vectorizer.fit(descriptions_sample['description'])\n",
    "descriptions_sample['vector'] = descriptions_sample['description'].apply(\n",
    "    lambda x: tfid_vectorizer.transform([x]).toarray()\n",
    ")\n",
    "print(descriptions_sample.to_string())"
   ],
   "metadata": {
    "collapsed": false,
    "pycharm": {
     "name": "#%%\n"
    }
   }
  },
  {
   "cell_type": "markdown",
   "metadata": {},
   "source": [
    "3.2 Вычислите близость между каждой парой рецептов, выбранных в задании 3.1, используя косинусное расстояние (`scipy.spatial.distance.cosine`) Результаты оформите в виде таблицы `pd.DataFrame`. В качестве названий строк и столбцов используйте названия рецептов."
   ]
  },
  {
   "cell_type": "code",
   "execution_count": 21,
   "outputs": [],
   "source": [
    "name_values = [name[:8] + '...' for name in descriptions_sample['name'].array]\n",
    "vector_values = [v.reshape(-1) for v in descriptions_sample['vector'].array]"
   ],
   "metadata": {
    "collapsed": false,
    "pycharm": {
     "name": "#%%\n"
    }
   }
  },
  {
   "cell_type": "code",
   "execution_count": 22,
   "outputs": [
    {
     "data": {
      "text/plain": "             eric s  ...  anne s p...  easy gra...  vegetabl...  really e...\neric s  ...     0.000000          1.0     1.000000     0.974138     0.812319\nanne s p...     1.000000          0.0     1.000000     1.000000     1.000000\neasy gra...     1.000000          1.0     0.000000     0.935780     0.883489\nvegetabl...     0.974138          1.0     0.935780     0.000000     1.000000\nreally e...     0.812319          1.0     0.883489     1.000000     0.000000",
      "text/html": "<div>\n<style scoped>\n    .dataframe tbody tr th:only-of-type {\n        vertical-align: middle;\n    }\n\n    .dataframe tbody tr th {\n        vertical-align: top;\n    }\n\n    .dataframe thead th {\n        text-align: right;\n    }\n</style>\n<table border=\"1\" class=\"dataframe\">\n  <thead>\n    <tr style=\"text-align: right;\">\n      <th></th>\n      <th>eric s  ...</th>\n      <th>anne s p...</th>\n      <th>easy gra...</th>\n      <th>vegetabl...</th>\n      <th>really e...</th>\n    </tr>\n  </thead>\n  <tbody>\n    <tr>\n      <th>eric s  ...</th>\n      <td>0.000000</td>\n      <td>1.0</td>\n      <td>1.000000</td>\n      <td>0.974138</td>\n      <td>0.812319</td>\n    </tr>\n    <tr>\n      <th>anne s p...</th>\n      <td>1.000000</td>\n      <td>0.0</td>\n      <td>1.000000</td>\n      <td>1.000000</td>\n      <td>1.000000</td>\n    </tr>\n    <tr>\n      <th>easy gra...</th>\n      <td>1.000000</td>\n      <td>1.0</td>\n      <td>0.000000</td>\n      <td>0.935780</td>\n      <td>0.883489</td>\n    </tr>\n    <tr>\n      <th>vegetabl...</th>\n      <td>0.974138</td>\n      <td>1.0</td>\n      <td>0.935780</td>\n      <td>0.000000</td>\n      <td>1.000000</td>\n    </tr>\n    <tr>\n      <th>really e...</th>\n      <td>0.812319</td>\n      <td>1.0</td>\n      <td>0.883489</td>\n      <td>1.000000</td>\n      <td>0.000000</td>\n    </tr>\n  </tbody>\n</table>\n</div>"
     },
     "execution_count": 22,
     "metadata": {},
     "output_type": "execute_result"
    }
   ],
   "source": [
    "cosine_distances_df = pd.DataFrame(\n",
    "    data=cosine_distances(vector_values, vector_values),\n",
    "    index=name_values,\n",
    "    columns=name_values,\n",
    ")\n",
    "cosine_distances_df"
   ],
   "metadata": {
    "collapsed": false,
    "pycharm": {
     "name": "#%%\n"
    }
   }
  },
  {
   "cell_type": "code",
   "execution_count": 23,
   "outputs": [
    {
     "data": {
      "text/plain": "             eric s  ...  anne s p...  easy gra...  vegetabl...  really e...\neric s  ...     1.000000          0.0     0.000000     0.025862     0.187681\nanne s p...     0.000000          1.0     0.000000     0.000000     0.000000\neasy gra...     0.000000          0.0     1.000000     0.064220     0.116511\nvegetabl...     0.025862          0.0     0.064220     1.000000     0.000000\nreally e...     0.187681          0.0     0.116511     0.000000     1.000000",
      "text/html": "<div>\n<style scoped>\n    .dataframe tbody tr th:only-of-type {\n        vertical-align: middle;\n    }\n\n    .dataframe tbody tr th {\n        vertical-align: top;\n    }\n\n    .dataframe thead th {\n        text-align: right;\n    }\n</style>\n<table border=\"1\" class=\"dataframe\">\n  <thead>\n    <tr style=\"text-align: right;\">\n      <th></th>\n      <th>eric s  ...</th>\n      <th>anne s p...</th>\n      <th>easy gra...</th>\n      <th>vegetabl...</th>\n      <th>really e...</th>\n    </tr>\n  </thead>\n  <tbody>\n    <tr>\n      <th>eric s  ...</th>\n      <td>1.000000</td>\n      <td>0.0</td>\n      <td>0.000000</td>\n      <td>0.025862</td>\n      <td>0.187681</td>\n    </tr>\n    <tr>\n      <th>anne s p...</th>\n      <td>0.000000</td>\n      <td>1.0</td>\n      <td>0.000000</td>\n      <td>0.000000</td>\n      <td>0.000000</td>\n    </tr>\n    <tr>\n      <th>easy gra...</th>\n      <td>0.000000</td>\n      <td>0.0</td>\n      <td>1.000000</td>\n      <td>0.064220</td>\n      <td>0.116511</td>\n    </tr>\n    <tr>\n      <th>vegetabl...</th>\n      <td>0.025862</td>\n      <td>0.0</td>\n      <td>0.064220</td>\n      <td>1.000000</td>\n      <td>0.000000</td>\n    </tr>\n    <tr>\n      <th>really e...</th>\n      <td>0.187681</td>\n      <td>0.0</td>\n      <td>0.116511</td>\n      <td>0.000000</td>\n      <td>1.000000</td>\n    </tr>\n  </tbody>\n</table>\n</div>"
     },
     "execution_count": 23,
     "metadata": {},
     "output_type": "execute_result"
    }
   ],
   "source": [
    "cosine_similarity_df = pd.DataFrame(\n",
    "    data=cosine_similarity(vector_values, vector_values),\n",
    "    index=name_values,\n",
    "    columns=name_values,\n",
    ")\n",
    "cosine_similarity_df"
   ],
   "metadata": {
    "collapsed": false,
    "pycharm": {
     "name": "#%%\n"
    }
   }
  },
  {
   "cell_type": "markdown",
   "metadata": {},
   "source": [
    "3.3 Какие рецепты являются наиболее похожими? Прокомментируйте результат (словами)."
   ]
  },
  {
   "cell_type": "code",
   "execution_count": 24,
   "outputs": [
    {
     "data": {
      "text/plain": "array([0.18768099, 0.18768099, 0.11651141, 0.11651141, 0.06422045,\n       0.06422045, 0.02586218, 0.02586218])"
     },
     "execution_count": 24,
     "metadata": {},
     "output_type": "execute_result"
    }
   ],
   "source": [
    "eps = 1e-6\n",
    "similarity_top = cosine_similarity_df.to_numpy()\n",
    "np.sort(similarity_top[(0 + eps < similarity_top) & (similarity_top < 1 - eps)])[::-1]"
   ],
   "metadata": {
    "collapsed": false,
    "pycharm": {
     "name": "#%%\n"
    }
   }
  },
  {
   "cell_type": "code",
   "execution_count": 57,
   "outputs": [],
   "source": [
    "# Два различных рецепта тем более похожи,\n",
    "# чем меньше косинусное расстояние между ними\n",
    "# (или чем больше косинусная схожесть: 1 - cosine)\n"
   ],
   "metadata": {
    "collapsed": false,
    "pycharm": {
     "name": "#%%\n"
    }
   }
  }
 ],
 "metadata": {
  "kernelspec": {
   "name": "pycharm-bc21e837",
   "language": "python",
   "display_name": "PyCharm (09_string_expert)"
  },
  "language_info": {
   "codemirror_mode": {
    "name": "ipython",
    "version": 3
   },
   "file_extension": ".py",
   "mimetype": "text/x-python",
   "name": "python",
   "nbconvert_exporter": "python",
   "pygments_lexer": "ipython3",
   "version": "3.8.3"
  }
 },
 "nbformat": 4,
 "nbformat_minor": 4
}