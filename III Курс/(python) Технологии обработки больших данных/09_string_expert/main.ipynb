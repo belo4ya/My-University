{
 "cells": [
  {
   "cell_type": "markdown",
   "metadata": {},
   "source": [
    "# Введение в обработку текста на естественном языке"
   ]
  },
  {
   "cell_type": "markdown",
   "metadata": {},
   "source": [
    "Материалы:\n",
    "* Макрушин С.В. Лекция 9: Введение в обработку текста на естественном языке\\\n",
    "* https://realpython.com/nltk-nlp-python/\n",
    "* https://scikit-learn.org/stable/modules/feature_extraction.html"
   ]
  },
  {
   "cell_type": "code",
   "execution_count": 1,
   "outputs": [],
   "source": [
    "import string\n",
    "from pathlib import Path\n",
    "from typing import Iterable\n",
    "\n",
    "import nltk\n",
    "import numpy as np\n",
    "import pandas as pd\n",
    "import pymorphy2\n",
    "from nltk.corpus import stopwords\n",
    "from sklearn.feature_extraction.text import CountVectorizer, TfidfVectorizer\n",
    "from sklearn.metrics.pairwise import cosine_similarity, cosine_distances"
   ],
   "metadata": {
    "collapsed": false,
    "pycharm": {
     "name": "#%%\n"
    }
   }
  },
  {
   "cell_type": "code",
   "execution_count": 2,
   "outputs": [],
   "source": [
    "DATA_DIR = Path('data/')"
   ],
   "metadata": {
    "collapsed": false,
    "pycharm": {
     "name": "#%%\n"
    }
   }
  },
  {
   "cell_type": "markdown",
   "metadata": {},
   "source": [
    "## Задачи для совместного разбора"
   ]
  },
  {
   "cell_type": "markdown",
   "metadata": {},
   "source": [
    "1. Считайте слова из файла `litw-win.txt` и запишите их в список `words`. В заданном предложении исправьте все опечатки, заменив слова с опечатками на ближайшие (в смысле расстояния Левенштейна) к ним слова из списка `words`. Считайте, что в слове есть опечатка, если данное слово не содержится в списке `words`. "
   ]
  },
  {
   "cell_type": "code",
   "execution_count": 3,
   "outputs": [
    {
     "data": {
      "text/plain": "['высокопревосходительства',\n 'попреблагорассмотрительст',\n 'попреблагорассмотрительствующемуся',\n 'убегающих',\n 'уменьшившейся']"
     },
     "execution_count": 3,
     "metadata": {},
     "output_type": "execute_result"
    }
   ],
   "source": [
    "with open(DATA_DIR.joinpath('litw-win.txt'), encoding='cp1251') as f:\n",
    "    words = [line.strip().split()[-1].lower() for line in f]\n",
    "\n",
    "words[-5:]"
   ],
   "metadata": {
    "collapsed": false,
    "pycharm": {
     "name": "#%%\n"
    }
   }
  },
  {
   "cell_type": "code",
   "execution_count": 4,
   "metadata": {},
   "outputs": [],
   "source": [
    "text = ('с велечайшим усилием выбравшись из потока убегающих людей Кутузов со '\n",
    "        'свитой уменьшевшейся вдвое поехал на звуки выстрелов русских орудий')"
   ]
  },
  {
   "cell_type": "code",
   "execution_count": 5,
   "outputs": [],
   "source": [
    "def find_replacements(text: str, dictionary: Iterable) -> dict[str, tuple[int, list[str]]]:\n",
    "    dictionary = set(dictionary)\n",
    "    replacements = {}\n",
    "    for word in text.lower().split():\n",
    "        if word not in dictionary:\n",
    "            sorted_edit_distances = sorted(\n",
    "                map(lambda x: (nltk.edit_distance(word, x), x), dictionary),\n",
    "                key=lambda x: x[0]\n",
    "            )\n",
    "            min_edit_distance = sorted_edit_distances[0][0]\n",
    "            replacement_list = []\n",
    "            for edit_distance, dict_word in sorted_edit_distances:\n",
    "                if edit_distance > min_edit_distance:\n",
    "                    break\n",
    "                replacement_list.append(dict_word)\n",
    "            replacements[word] = (min_edit_distance, replacement_list)\n",
    "\n",
    "    return replacements"
   ],
   "metadata": {
    "collapsed": false,
    "pycharm": {
     "name": "#%%\n"
    }
   }
  },
  {
   "cell_type": "code",
   "execution_count": 6,
   "outputs": [
    {
     "data": {
      "text/plain": "{'велечайшим': (1, ['величайшим']), 'уменьшевшейся': (1, ['уменьшившейся'])}"
     },
     "execution_count": 6,
     "metadata": {},
     "output_type": "execute_result"
    }
   ],
   "source": [
    "replacements = find_replacements(text, words)\n",
    "replacements"
   ],
   "metadata": {
    "collapsed": false,
    "pycharm": {
     "name": "#%%\n"
    }
   }
  },
  {
   "cell_type": "code",
   "execution_count": 7,
   "outputs": [
    {
     "data": {
      "text/plain": "'с величайшим усилием выбравшись из потока убегающих людей Кутузов со свитой уменьшившейся вдвое поехал на звуки выстрелов русских орудий'"
     },
     "execution_count": 7,
     "metadata": {},
     "output_type": "execute_result"
    }
   ],
   "source": [
    "fixed_text = text\n",
    "for word, repl in replacements.items():\n",
    "    fixed_text = fixed_text.replace(word, repl[1][0])\n",
    "fixed_text"
   ],
   "metadata": {
    "collapsed": false,
    "pycharm": {
     "name": "#%%\n"
    }
   }
  },
  {
   "cell_type": "markdown",
   "metadata": {},
   "source": [
    "2. Разбейте текст из формулировки задания 1 на слова; проведите стемминг и лемматизацию слов."
   ]
  },
  {
   "cell_type": "code",
   "execution_count": 8,
   "outputs": [],
   "source": [
    "task1_text = (\n",
    "    'Считайте слова из файла `litw-win.txt` и запишите их в список `words`. '\n",
    "    'В заданном предложении исправьте все опечатки, заменив слова с опечатками '\n",
    "    'на ближайшие (в смысле расстояния Левенштейна) к ним слова из списка `words`. '\n",
    "    'Считайте, что в слове есть опечатка, если данное слово не содержится в списке `words`.'\n",
    ")\n",
    "stemmer = nltk.SnowballStemmer('russian')\n",
    "lemmer = pymorphy2.MorphAnalyzer()"
   ],
   "metadata": {
    "collapsed": false,
    "pycharm": {
     "name": "#%%\n"
    }
   }
  },
  {
   "cell_type": "code",
   "execution_count": 9,
   "outputs": [
    {
     "data": {
      "text/plain": "         word   stemma    lemma\n35          в        в        в\n22  ближайшие  ближайш  близкий\n42         не       не       не\n40     данное      дан   данный\n18      слова     слов    слово",
      "text/html": "<div>\n<style scoped>\n    .dataframe tbody tr th:only-of-type {\n        vertical-align: middle;\n    }\n\n    .dataframe tbody tr th {\n        vertical-align: top;\n    }\n\n    .dataframe thead th {\n        text-align: right;\n    }\n</style>\n<table border=\"1\" class=\"dataframe\">\n  <thead>\n    <tr style=\"text-align: right;\">\n      <th></th>\n      <th>word</th>\n      <th>stemma</th>\n      <th>lemma</th>\n    </tr>\n  </thead>\n  <tbody>\n    <tr>\n      <th>35</th>\n      <td>в</td>\n      <td>в</td>\n      <td>в</td>\n    </tr>\n    <tr>\n      <th>22</th>\n      <td>ближайшие</td>\n      <td>ближайш</td>\n      <td>близкий</td>\n    </tr>\n    <tr>\n      <th>42</th>\n      <td>не</td>\n      <td>не</td>\n      <td>не</td>\n    </tr>\n    <tr>\n      <th>40</th>\n      <td>данное</td>\n      <td>дан</td>\n      <td>данный</td>\n    </tr>\n    <tr>\n      <th>18</th>\n      <td>слова</td>\n      <td>слов</td>\n      <td>слово</td>\n    </tr>\n  </tbody>\n</table>\n</div>"
     },
     "execution_count": 9,
     "metadata": {},
     "output_type": "execute_result"
    }
   ],
   "source": [
    "pd.DataFrame(\n",
    "    data=[\n",
    "        [word, stemmer.stem(word), lemmer.parse(word)[0].normal_form]\n",
    "        for word in nltk.word_tokenize(task1_text)\n",
    "        if word not in string.punctuation\n",
    "    ],\n",
    "    columns=['word', 'stemma', 'lemma']\n",
    ").sample(5)"
   ],
   "metadata": {
    "collapsed": false,
    "pycharm": {
     "name": "#%%\n"
    }
   }
  },
  {
   "cell_type": "markdown",
   "metadata": {},
   "source": [
    "3. Преобразуйте предложения из формулировки задания 1 в векторы при помощи `CountVectorizer`."
   ]
  },
  {
   "cell_type": "code",
   "execution_count": 10,
   "outputs": [
    {
     "data": {
      "text/plain": "array([[1, 1, 1, 1, 0, 0, 0, 0, 0, 0, 0, 1, 1, 0, 1, 0, 0, 0, 0, 0, 0, 0,\n        0, 0, 1, 0, 0, 0, 0, 0, 0, 1, 1, 1, 0],\n       [0, 0, 0, 1, 1, 1, 0, 0, 0, 1, 1, 0, 1, 1, 0, 1, 1, 0, 1, 0, 1, 1,\n        1, 1, 2, 0, 0, 1, 0, 1, 0, 0, 0, 0, 0],\n       [0, 0, 0, 1, 0, 0, 1, 1, 1, 0, 0, 0, 0, 0, 0, 0, 0, 1, 0, 1, 0, 0,\n        0, 0, 0, 1, 1, 0, 1, 0, 1, 0, 1, 0, 1]], dtype=int64)"
     },
     "execution_count": 10,
     "metadata": {},
     "output_type": "execute_result"
    }
   ],
   "source": [
    "CountVectorizer().fit_transform(nltk.sent_tokenize(task1_text)).toarray()"
   ],
   "metadata": {
    "collapsed": false,
    "pycharm": {
     "name": "#%%\n"
    }
   }
  },
  {
   "cell_type": "markdown",
   "metadata": {},
   "source": [
    "## Лабораторная работа 9"
   ]
  },
  {
   "cell_type": "markdown",
   "metadata": {},
   "source": [
    "### Расстояние редактирования"
   ]
  },
  {
   "cell_type": "markdown",
   "metadata": {},
   "source": [
    "1.1 Загрузите предобработанные описания рецептов из файла `preprocessed_descriptions.csv`. Получите набор уникальных слов `words`, содержащихся в текстах описаний рецептов (воспользуйтесь `word_tokenize` из `nltk`). "
   ]
  },
  {
   "cell_type": "code",
   "execution_count": 11,
   "outputs": [
    {
     "name": "stdout",
     "output_type": "stream",
     "text": [
      "<class 'pandas.core.frame.DataFrame'>\n",
      "RangeIndex: 30000 entries, 0 to 29999\n",
      "Data columns (total 2 columns):\n",
      " #   Column       Non-Null Count  Dtype \n",
      "---  ------       --------------  ----- \n",
      " 0   name         30000 non-null  object\n",
      " 1   description  29369 non-null  object\n",
      "dtypes: object(2)\n",
      "memory usage: 468.9+ KB\n"
     ]
    },
    {
     "data": {
      "text/plain": "                                       name  \\\n0     george s at the cove  black bean soup   \n1        healthy for them  yogurt popsicles   \n2              i can t believe it s spinach   \n3                      italian  gut busters   \n4  love is in the air  beef fondue   sauces   \n\n                                         description  \n0  an original recipe created by chef scott meska...  \n1  my children and their friends ask for my homem...  \n2              these were so go it surprised even me  \n3  my sisterinlaw made these for us at a family g...  \n4  i think a fondue is a very romantic casual din...  ",
      "text/html": "<div>\n<style scoped>\n    .dataframe tbody tr th:only-of-type {\n        vertical-align: middle;\n    }\n\n    .dataframe tbody tr th {\n        vertical-align: top;\n    }\n\n    .dataframe thead th {\n        text-align: right;\n    }\n</style>\n<table border=\"1\" class=\"dataframe\">\n  <thead>\n    <tr style=\"text-align: right;\">\n      <th></th>\n      <th>name</th>\n      <th>description</th>\n    </tr>\n  </thead>\n  <tbody>\n    <tr>\n      <th>0</th>\n      <td>george s at the cove  black bean soup</td>\n      <td>an original recipe created by chef scott meska...</td>\n    </tr>\n    <tr>\n      <th>1</th>\n      <td>healthy for them  yogurt popsicles</td>\n      <td>my children and their friends ask for my homem...</td>\n    </tr>\n    <tr>\n      <th>2</th>\n      <td>i can t believe it s spinach</td>\n      <td>these were so go it surprised even me</td>\n    </tr>\n    <tr>\n      <th>3</th>\n      <td>italian  gut busters</td>\n      <td>my sisterinlaw made these for us at a family g...</td>\n    </tr>\n    <tr>\n      <th>4</th>\n      <td>love is in the air  beef fondue   sauces</td>\n      <td>i think a fondue is a very romantic casual din...</td>\n    </tr>\n  </tbody>\n</table>\n</div>"
     },
     "execution_count": 11,
     "metadata": {},
     "output_type": "execute_result"
    }
   ],
   "source": [
    "descriptions_df = pd.read_csv(DATA_DIR.joinpath('preprocessed_descriptions.csv'), sep=',')\n",
    "descriptions_df = descriptions_df.rename(columns={'preprocessed_descriptions': 'description'})\n",
    "descriptions_df.info()\n",
    "descriptions_df.head()"
   ],
   "metadata": {
    "collapsed": false,
    "pycharm": {
     "name": "#%%\n"
    }
   }
  },
  {
   "cell_type": "code",
   "execution_count": 12,
   "outputs": [
    {
     "data": {
      "text/plain": "30823"
     },
     "execution_count": 12,
     "metadata": {},
     "output_type": "execute_result"
    }
   ],
   "source": [
    "descriptions = descriptions_df['description'].dropna()\n",
    "words = list({word for text in descriptions for word in nltk.word_tokenize(text)})\n",
    "len(words)"
   ],
   "metadata": {
    "collapsed": false,
    "pycharm": {
     "name": "#%%\n"
    }
   }
  },
  {
   "cell_type": "markdown",
   "metadata": {},
   "source": [
    "1.2 Сгенерируйте 5 пар случайно выбранных слов и посчитайте между ними расстояние редактирования."
   ]
  },
  {
   "cell_type": "code",
   "execution_count": 13,
   "outputs": [
    {
     "data": {
      "text/plain": "[(['helga', 'steamedbuttered'], 14),\n (['deeplycolored', 'farantos'], 12),\n (['flavorif', 'almonds'], 6),\n (['denied', 'nigella'], 6),\n (['foilwrapped', 'wwwtastecomau'], 12)]"
     },
     "execution_count": 13,
     "metadata": {},
     "output_type": "execute_result"
    }
   ],
   "source": [
    "rng = np.random.default_rng()\n",
    "random_pairs = rng.choice(words, size=(5, 2)).tolist()\n",
    "list(map(lambda x: (x, nltk.edit_distance(x[0], x[1])), random_pairs))"
   ],
   "metadata": {
    "collapsed": false,
    "pycharm": {
     "name": "#%%\n"
    }
   }
  },
  {
   "cell_type": "markdown",
   "metadata": {},
   "source": [
    "1.3 Напишите функцию, которая для заданного слова `word` возвращает `k` ближайших к нему слов из списка `words` (близость слов измеряется с помощью расстояния Левенштейна)"
   ]
  },
  {
   "cell_type": "code",
   "execution_count": 14,
   "outputs": [],
   "source": [
    "def similarity(word: str, words: list[str], k: int) -> list[str]:\n",
    "    return sorted(words, key=lambda x: nltk.edit_distance(word, x))[:k]"
   ],
   "metadata": {
    "collapsed": false,
    "pycharm": {
     "name": "#%%\n"
    }
   }
  },
  {
   "cell_type": "code",
   "execution_count": 15,
   "outputs": [
    {
     "data": {
      "text/plain": "['hello', 'hell', 'jello', 'mello', 'yellow']"
     },
     "execution_count": 15,
     "metadata": {},
     "output_type": "execute_result"
    }
   ],
   "source": [
    "similarity('hello', words, 5)"
   ],
   "metadata": {
    "collapsed": false,
    "pycharm": {
     "name": "#%%\n"
    }
   }
  },
  {
   "cell_type": "markdown",
   "metadata": {},
   "source": [
    "### Стемминг, лемматизация"
   ]
  },
  {
   "cell_type": "markdown",
   "metadata": {},
   "source": [
    "2.1 На основе результатов 1.1 создайте `pd.DataFrame` со столбцами: \n",
    "    * word\n",
    "    * stemmed_word \n",
    "    * normalized_word \n",
    "\n",
    "Столбец `word` укажите в качестве индекса. \n",
    "\n",
    "Для стемминга воспользуйтесь `SnowballStemmer`, для лемматизации слов - `WordNetLemmatizer`. Сравните результаты стемминга и лемматизации."
   ]
  },
  {
   "cell_type": "code",
   "execution_count": 16,
   "outputs": [],
   "source": [
    "stemmer = nltk.SnowballStemmer('english')\n",
    "lemmatizer = nltk.WordNetLemmatizer()"
   ],
   "metadata": {
    "collapsed": false,
    "pycharm": {
     "name": "#%%\n"
    }
   }
  },
  {
   "cell_type": "code",
   "execution_count": 17,
   "outputs": [
    {
     "data": {
      "text/plain": "          stemmed_word normalized_word\nwords                                 \nbestest        bestest         bestest\nwinea            winea           winea\nup                  up              up\nhinged            hing          hinged\naustalian    austalian       austalian",
      "text/html": "<div>\n<style scoped>\n    .dataframe tbody tr th:only-of-type {\n        vertical-align: middle;\n    }\n\n    .dataframe tbody tr th {\n        vertical-align: top;\n    }\n\n    .dataframe thead th {\n        text-align: right;\n    }\n</style>\n<table border=\"1\" class=\"dataframe\">\n  <thead>\n    <tr style=\"text-align: right;\">\n      <th></th>\n      <th>stemmed_word</th>\n      <th>normalized_word</th>\n    </tr>\n    <tr>\n      <th>words</th>\n      <th></th>\n      <th></th>\n    </tr>\n  </thead>\n  <tbody>\n    <tr>\n      <th>bestest</th>\n      <td>bestest</td>\n      <td>bestest</td>\n    </tr>\n    <tr>\n      <th>winea</th>\n      <td>winea</td>\n      <td>winea</td>\n    </tr>\n    <tr>\n      <th>up</th>\n      <td>up</td>\n      <td>up</td>\n    </tr>\n    <tr>\n      <th>hinged</th>\n      <td>hing</td>\n      <td>hinged</td>\n    </tr>\n    <tr>\n      <th>austalian</th>\n      <td>austalian</td>\n      <td>austalian</td>\n    </tr>\n  </tbody>\n</table>\n</div>"
     },
     "execution_count": 17,
     "metadata": {},
     "output_type": "execute_result"
    }
   ],
   "source": [
    "df = pd.DataFrame(\n",
    "    data={\n",
    "        'stemmed_word': map(stemmer.stem, words),\n",
    "        'normalized_word': map(lemmatizer.lemmatize, words),\n",
    "    },\n",
    "    index=pd.Series(words, name='words')\n",
    ")\n",
    "df.head()"
   ],
   "metadata": {
    "collapsed": false,
    "pycharm": {
     "name": "#%%\n"
    }
   }
  },
  {
   "cell_type": "code",
   "execution_count": 18,
   "outputs": [
    {
     "name": "stdout",
     "output_type": "stream",
     "text": [
      "Всего слов: 30823\n",
      "Основ отличается: 15330\n",
      "Лемм отличается: 3131\n"
     ]
    }
   ],
   "source": [
    "print(f'Всего слов: {len(df)}')\n",
    "print(f'Основ отличается: {len(set(df.index) - set(df[\"stemmed_word\"]))}')\n",
    "print(f'Лемм отличается: {len(set(df.index) - set(df[\"normalized_word\"]))}')"
   ],
   "metadata": {
    "collapsed": false,
    "pycharm": {
     "name": "#%%\n"
    }
   }
  },
  {
   "cell_type": "markdown",
   "metadata": {},
   "source": [
    "2.2. Удалите стоп-слова из описаний рецептов. Какую долю об общего количества слов составляли стоп-слова? Сравните топ-10 самых часто употребляемых слов до и после удаления стоп-слов."
   ]
  },
  {
   "cell_type": "code",
   "execution_count": 19,
   "outputs": [],
   "source": [
    "stop_words = set(stopwords.words('english'))"
   ],
   "metadata": {
    "collapsed": false,
    "pycharm": {
     "name": "#%%\n"
    }
   }
  },
  {
   "cell_type": "code",
   "execution_count": 20,
   "outputs": [],
   "source": [
    "all_words = [word for text in descriptions for word in nltk.word_tokenize(text)]\n",
    "words_without_stopwords = [word for word in all_words if word not in stop_words]"
   ],
   "metadata": {
    "collapsed": false,
    "pycharm": {
     "name": "#%%\n"
    }
   }
  },
  {
   "cell_type": "code",
   "execution_count": 21,
   "outputs": [
    {
     "name": "stdout",
     "output_type": "stream",
     "text": [
      "Слов всего: 1071865\n",
      "Слов всего после удаления стоп-слов: 581919\n",
      "Доля стоп-слов 45.71%\n"
     ]
    }
   ],
   "source": [
    "n_words = len(all_words)\n",
    "n_words_without_stopwords = len(words_without_stopwords)\n",
    "print(f'Слов всего: {n_words}')\n",
    "print(f'Слов всего после удаления стоп-слов: {n_words_without_stopwords}')\n",
    "print(f'Доля стоп-слов {(n_words - n_words_without_stopwords) / n_words:.2%}')"
   ],
   "metadata": {
    "collapsed": false,
    "pycharm": {
     "name": "#%%\n"
    }
   }
  },
  {
   "cell_type": "code",
   "execution_count": 22,
   "outputs": [
    {
     "name": "stdout",
     "output_type": "stream",
     "text": [
      "Топ-10 по частоте (до): \n",
      "[('the', 40210), ('a', 34994), ('and', 30279), ('this', 27048), ('i', 25111), ('to', 23499), ('is', 20290), ('it', 19863), ('of', 18372), ('for', 15988)]\n",
      "Топ-10 по частоте (после): \n",
      "[('recipe', 14957), ('make', 6353), ('time', 5180), ('use', 4635), ('great', 4453), ('like', 4175), ('easy', 4175), ('one', 3886), ('good', 3820), ('made', 3814)]\n"
     ]
    }
   ],
   "source": [
    "print(f'Топ-10 по частоте (до): \\n{nltk.FreqDist(all_words).most_common(10)}')\n",
    "print(f'Топ-10 по частоте (после): \\n{nltk.FreqDist(words_without_stopwords).most_common(10)}')"
   ],
   "metadata": {
    "collapsed": false,
    "pycharm": {
     "name": "#%%\n"
    }
   }
  },
  {
   "cell_type": "markdown",
   "metadata": {},
   "source": [
    "### Векторное представление текста"
   ]
  },
  {
   "cell_type": "markdown",
   "metadata": {},
   "source": [
    "3.1 Выберите случайным образом 5 рецептов из набора данных. Представьте описание каждого рецепта в виде числового вектора при помощи `TfidfVectorizer`"
   ]
  },
  {
   "cell_type": "code",
   "execution_count": 23,
   "outputs": [
    {
     "data": {
      "text/plain": "                                        name  \\\n4415          cajun shrimp over coconut rice   \n29396  wicked chicken  bbq new england style   \n26688                       sweet mixed nuts   \n7391    cold sesame noodles   tyler florence   \n5571       chicken and chorizo sausage gumbo   \n\n                                             description  \n4415   based on a recipe from intermezzo magazine i u...  \n29396  new england twist on a saucy southern favorite...  \n26688  i started out making this just for the holiday...  \n7391                                  from eat this book  \n5571   a delicious gumbo with a nice building spicey ...  ",
      "text/html": "<div>\n<style scoped>\n    .dataframe tbody tr th:only-of-type {\n        vertical-align: middle;\n    }\n\n    .dataframe tbody tr th {\n        vertical-align: top;\n    }\n\n    .dataframe thead th {\n        text-align: right;\n    }\n</style>\n<table border=\"1\" class=\"dataframe\">\n  <thead>\n    <tr style=\"text-align: right;\">\n      <th></th>\n      <th>name</th>\n      <th>description</th>\n    </tr>\n  </thead>\n  <tbody>\n    <tr>\n      <th>4415</th>\n      <td>cajun shrimp over coconut rice</td>\n      <td>based on a recipe from intermezzo magazine i u...</td>\n    </tr>\n    <tr>\n      <th>29396</th>\n      <td>wicked chicken  bbq new england style</td>\n      <td>new england twist on a saucy southern favorite...</td>\n    </tr>\n    <tr>\n      <th>26688</th>\n      <td>sweet mixed nuts</td>\n      <td>i started out making this just for the holiday...</td>\n    </tr>\n    <tr>\n      <th>7391</th>\n      <td>cold sesame noodles   tyler florence</td>\n      <td>from eat this book</td>\n    </tr>\n    <tr>\n      <th>5571</th>\n      <td>chicken and chorizo sausage gumbo</td>\n      <td>a delicious gumbo with a nice building spicey ...</td>\n    </tr>\n  </tbody>\n</table>\n</div>"
     },
     "execution_count": 23,
     "metadata": {},
     "output_type": "execute_result"
    }
   ],
   "source": [
    "descriptions_sample = descriptions_df.dropna().sample(5)\n",
    "descriptions_sample"
   ],
   "metadata": {
    "collapsed": false,
    "pycharm": {
     "name": "#%%\n"
    }
   }
  },
  {
   "cell_type": "code",
   "execution_count": 24,
   "outputs": [
    {
     "name": "stdout",
     "output_type": "stream",
     "text": [
      "                                        name                                                                                                                                                                                 description                                                                                                                                                                                                                                                                                                                                                                                                                                                                                                                       vector\n",
      "4415          cajun shrimp over coconut rice                                                                                 based on a recipe from intermezzo magazine i use my mango peach salsa recipe53388 and this is a lovely dish                                                                                            [[0.0, 0.0, 0.3015113445777636, 0.0, 0.0, 0.0, 0.0, 0.0, 0.0, 0.0, 0.0, 0.3015113445777636, 0.0, 0.0, 0.0, 0.0, 0.0, 0.0, 0.0, 0.0, 0.0, 0.0, 0.0, 0.3015113445777636, 0.0, 0.0, 0.3015113445777636, 0.3015113445777636, 0.0, 0.0, 0.3015113445777636, 0.0, 0.0, 0.0, 0.0, 0.0, 0.3015113445777636, 0.3015113445777636, 0.3015113445777636, 0.0, 0.3015113445777636, 0.0, 0.0, 0.0, 0.0, 0.0, 0.0, 0.0, 0.3015113445777636, 0.0]]\n",
      "29396  wicked chicken  bbq new england style                                                                                     new england twist on a saucy southern favorite a hint of maple makes this bbq wicked fingah lickin good                                 [[0.0, 0.0, 0.0, 0.0, 0.27065689895808104, 0.0, 0.0, 0.0, 0.0, 0.0, 0.0, 0.0, 0.0, 0.0, 0.27065689895808104, 0.27065689895808104, 0.27065689895808104, 0.0, 0.0, 0.27065689895808104, 0.0, 0.27065689895808104, 0.0, 0.0, 0.0, 0.27065689895808104, 0.0, 0.0, 0.21836428188496418, 0.0, 0.0, 0.27065689895808104, 0.0, 0.27065689895808104, 0.0, 0.0, 0.0, 0.0, 0.0, 0.0, 0.0, 0.27065689895808104, 0.0, 0.27065689895808104, 0.0, 0.0, 0.0, 0.27065689895808104, 0.0, 0.27065689895808104]]\n",
      "26688                       sweet mixed nuts  i started out making this just for the holidays makes a nice gift brown sugarcinnamon allspice nutmeg and cloves its easy enough to do whenever one batch in the microwave makes 1 12 cups  [[0.2340529248376094, 0.2340529248376094, 0.0, 0.2340529248376094, 0.0, 0.0, 0.2340529248376094, 0.0, 0.2340529248376094, 0.2340529248376094, 0.0, 0.0, 0.2340529248376094, 0.0, 0.0, 0.0, 0.0, 0.0, 0.2340529248376094, 0.0, 0.0, 0.0, 0.2340529248376094, 0.0, 0.2340529248376094, 0.0, 0.0, 0.0, 0.3776648520838608, 0.2340529248376094, 0.0, 0.0, 0.2340529248376094, 0.0, 0.1888324260419304, 0.2340529248376094, 0.0, 0.0, 0.0, 0.0, 0.0, 0.0, 0.0, 0.0, 0.0, 0.2340529248376094, 0.2340529248376094, 0.0, 0.0, 0.0]]\n",
      "7391    cold sesame noodles   tyler florence                                                                                                                                                                          from eat this book                                                                                                                                                                                                                                   [[0.0, 0.0, 0.0, 0.0, 0.0, 0.7071067811865475, 0.0, 0.0, 0.0, 0.0, 0.0, 0.0, 0.0, 0.7071067811865475, 0.0, 0.0, 0.0, 0.0, 0.0, 0.0, 0.0, 0.0, 0.0, 0.0, 0.0, 0.0, 0.0, 0.0, 0.0, 0.0, 0.0, 0.0, 0.0, 0.0, 0.0, 0.0, 0.0, 0.0, 0.0, 0.0, 0.0, 0.0, 0.0, 0.0, 0.0, 0.0, 0.0, 0.0, 0.0, 0.0]]\n",
      "5571       chicken and chorizo sausage gumbo                                                                                                                       a delicious gumbo with a nice building spicey flavour serve over rice                                                                                                                                  [[0.0, 0.0, 0.0, 0.0, 0.0, 0.0, 0.0, 0.36152911730069653, 0.0, 0.0, 0.36152911730069653, 0.0, 0.0, 0.0, 0.0, 0.0, 0.0, 0.36152911730069653, 0.0, 0.0, 0.36152911730069653, 0.0, 0.0, 0.0, 0.0, 0.0, 0.0, 0.0, 0.0, 0.0, 0.0, 0.0, 0.0, 0.0, 0.2916794154657719, 0.0, 0.0, 0.0, 0.0, 0.36152911730069653, 0.0, 0.0, 0.36152911730069653, 0.0, 0.36152911730069653, 0.0, 0.0, 0.0, 0.0, 0.0]]\n"
     ]
    }
   ],
   "source": [
    "tfid_vectorizer = TfidfVectorizer(analyzer='word', stop_words='english')\n",
    "tfid_vectorizer.fit(descriptions_sample['description'])\n",
    "descriptions_sample['vector'] = descriptions_sample['description'].apply(\n",
    "    lambda x: tfid_vectorizer.transform([x]).toarray()\n",
    ")\n",
    "print(descriptions_sample.to_string())"
   ],
   "metadata": {
    "collapsed": false,
    "pycharm": {
     "name": "#%%\n"
    }
   }
  },
  {
   "cell_type": "markdown",
   "metadata": {},
   "source": [
    "3.2 Вычислите близость между каждой парой рецептов, выбранных в задании 3.1, используя косинусное расстояние (`scipy.spatial.distance.cosine`) Результаты оформите в виде таблицы `pd.DataFrame`. В качестве названий строк и столбцов используйте названия рецептов."
   ]
  },
  {
   "cell_type": "code",
   "execution_count": 25,
   "outputs": [],
   "source": [
    "name_values = [name[:8] + '...' for name in descriptions_sample['name'].array]\n",
    "vector_values = [v.reshape(-1) for v in descriptions_sample['vector'].array]"
   ],
   "metadata": {
    "collapsed": false,
    "pycharm": {
     "name": "#%%\n"
    }
   }
  },
  {
   "cell_type": "code",
   "execution_count": 26,
   "outputs": [
    {
     "data": {
      "text/plain": "             cajun sh...  wicked c...  sweet mi...  cold ses...  chicken ...\ncajun sh...          0.0     1.000000     1.000000          1.0     1.000000\nwicked c...          1.0     0.000000     0.917531          1.0     1.000000\nsweet mi...          1.0     0.917531     0.000000          1.0     0.944921\ncold ses...          1.0     1.000000     1.000000          0.0     1.000000\nchicken ...          1.0     1.000000     0.944921          1.0     0.000000",
      "text/html": "<div>\n<style scoped>\n    .dataframe tbody tr th:only-of-type {\n        vertical-align: middle;\n    }\n\n    .dataframe tbody tr th {\n        vertical-align: top;\n    }\n\n    .dataframe thead th {\n        text-align: right;\n    }\n</style>\n<table border=\"1\" class=\"dataframe\">\n  <thead>\n    <tr style=\"text-align: right;\">\n      <th></th>\n      <th>cajun sh...</th>\n      <th>wicked c...</th>\n      <th>sweet mi...</th>\n      <th>cold ses...</th>\n      <th>chicken ...</th>\n    </tr>\n  </thead>\n  <tbody>\n    <tr>\n      <th>cajun sh...</th>\n      <td>0.0</td>\n      <td>1.000000</td>\n      <td>1.000000</td>\n      <td>1.0</td>\n      <td>1.000000</td>\n    </tr>\n    <tr>\n      <th>wicked c...</th>\n      <td>1.0</td>\n      <td>0.000000</td>\n      <td>0.917531</td>\n      <td>1.0</td>\n      <td>1.000000</td>\n    </tr>\n    <tr>\n      <th>sweet mi...</th>\n      <td>1.0</td>\n      <td>0.917531</td>\n      <td>0.000000</td>\n      <td>1.0</td>\n      <td>0.944921</td>\n    </tr>\n    <tr>\n      <th>cold ses...</th>\n      <td>1.0</td>\n      <td>1.000000</td>\n      <td>1.000000</td>\n      <td>0.0</td>\n      <td>1.000000</td>\n    </tr>\n    <tr>\n      <th>chicken ...</th>\n      <td>1.0</td>\n      <td>1.000000</td>\n      <td>0.944921</td>\n      <td>1.0</td>\n      <td>0.000000</td>\n    </tr>\n  </tbody>\n</table>\n</div>"
     },
     "execution_count": 26,
     "metadata": {},
     "output_type": "execute_result"
    }
   ],
   "source": [
    "cosine_distances_df = pd.DataFrame(\n",
    "    data=cosine_distances(vector_values, vector_values),\n",
    "    index=name_values,\n",
    "    columns=name_values,\n",
    ")\n",
    "cosine_distances_df"
   ],
   "metadata": {
    "collapsed": false,
    "pycharm": {
     "name": "#%%\n"
    }
   }
  },
  {
   "cell_type": "code",
   "execution_count": 27,
   "outputs": [
    {
     "data": {
      "text/plain": "             cajun sh...  wicked c...  sweet mi...  cold ses...  chicken ...\ncajun sh...          1.0     0.000000     0.000000          0.0     0.000000\nwicked c...          0.0     1.000000     0.082469          0.0     0.000000\nsweet mi...          0.0     0.082469     1.000000          0.0     0.055079\ncold ses...          0.0     0.000000     0.000000          1.0     0.000000\nchicken ...          0.0     0.000000     0.055079          0.0     1.000000",
      "text/html": "<div>\n<style scoped>\n    .dataframe tbody tr th:only-of-type {\n        vertical-align: middle;\n    }\n\n    .dataframe tbody tr th {\n        vertical-align: top;\n    }\n\n    .dataframe thead th {\n        text-align: right;\n    }\n</style>\n<table border=\"1\" class=\"dataframe\">\n  <thead>\n    <tr style=\"text-align: right;\">\n      <th></th>\n      <th>cajun sh...</th>\n      <th>wicked c...</th>\n      <th>sweet mi...</th>\n      <th>cold ses...</th>\n      <th>chicken ...</th>\n    </tr>\n  </thead>\n  <tbody>\n    <tr>\n      <th>cajun sh...</th>\n      <td>1.0</td>\n      <td>0.000000</td>\n      <td>0.000000</td>\n      <td>0.0</td>\n      <td>0.000000</td>\n    </tr>\n    <tr>\n      <th>wicked c...</th>\n      <td>0.0</td>\n      <td>1.000000</td>\n      <td>0.082469</td>\n      <td>0.0</td>\n      <td>0.000000</td>\n    </tr>\n    <tr>\n      <th>sweet mi...</th>\n      <td>0.0</td>\n      <td>0.082469</td>\n      <td>1.000000</td>\n      <td>0.0</td>\n      <td>0.055079</td>\n    </tr>\n    <tr>\n      <th>cold ses...</th>\n      <td>0.0</td>\n      <td>0.000000</td>\n      <td>0.000000</td>\n      <td>1.0</td>\n      <td>0.000000</td>\n    </tr>\n    <tr>\n      <th>chicken ...</th>\n      <td>0.0</td>\n      <td>0.000000</td>\n      <td>0.055079</td>\n      <td>0.0</td>\n      <td>1.000000</td>\n    </tr>\n  </tbody>\n</table>\n</div>"
     },
     "execution_count": 27,
     "metadata": {},
     "output_type": "execute_result"
    }
   ],
   "source": [
    "cosine_similarity_df = pd.DataFrame(\n",
    "    data=cosine_similarity(vector_values, vector_values),\n",
    "    index=name_values,\n",
    "    columns=name_values,\n",
    ")\n",
    "cosine_similarity_df"
   ],
   "metadata": {
    "collapsed": false,
    "pycharm": {
     "name": "#%%\n"
    }
   }
  },
  {
   "cell_type": "markdown",
   "metadata": {},
   "source": [
    "3.3 Какие рецепты являются наиболее похожими? Прокомментируйте результат (словами)."
   ]
  },
  {
   "cell_type": "code",
   "execution_count": 28,
   "outputs": [
    {
     "data": {
      "text/plain": "array([0.08246851, 0.08246851, 0.05507853, 0.05507853])"
     },
     "execution_count": 28,
     "metadata": {},
     "output_type": "execute_result"
    }
   ],
   "source": [
    "eps = 1e-6\n",
    "similarity_top = cosine_similarity_df.to_numpy()\n",
    "np.sort(similarity_top[(0 + eps < similarity_top) & (similarity_top < 1 - eps)])[::-1]"
   ],
   "metadata": {
    "collapsed": false,
    "pycharm": {
     "name": "#%%\n"
    }
   }
  },
  {
   "cell_type": "code",
   "execution_count": 29,
   "outputs": [],
   "source": [
    "# Два различных рецепта тем более похожи,\n",
    "# чем меньше косинусное расстояние между ними\n",
    "# (или чем больше косинусная схожесть: 1 - cosine)\n"
   ],
   "metadata": {
    "collapsed": false,
    "pycharm": {
     "name": "#%%\n"
    }
   }
  }
 ],
 "metadata": {
  "kernelspec": {
   "name": "pycharm-bc21e837",
   "language": "python",
   "display_name": "PyCharm (09_string_expert)"
  },
  "language_info": {
   "codemirror_mode": {
    "name": "ipython",
    "version": 3
   },
   "file_extension": ".py",
   "mimetype": "text/x-python",
   "name": "python",
   "nbconvert_exporter": "python",
   "pygments_lexer": "ipython3",
   "version": "3.8.3"
  }
 },
 "nbformat": 4,
 "nbformat_minor": 4
}