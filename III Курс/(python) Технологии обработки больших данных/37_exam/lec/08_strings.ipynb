{
 "cells": [
  {
   "cell_type": "markdown",
   "metadata": {},
   "source": [
    "# Лекция 8: Работа со строковыми занчениям\n",
    "\n",
    "__Автор: Сергей Вячеславович Макрушин__ e-mail: SVMakrushin@fa.ru \n",
    "\n",
    "Финансовый универсиет, 2020 г. \n",
    "\n",
    "При подготовке лекции использованы материалы:\n",
    "* ...\n",
    "\n",
    "V 0.1 21.10.2020"
   ]
  },
  {
   "cell_type": "markdown",
   "metadata": {},
   "source": [
    "## Разделы: <a class=\"anchor\" id=\"разделы\"></a>\n",
    "-\n",
    "* [к оглавлению](#разделы)\n",
    "\n",
    "* [Форматирование строк](#форматирование-строк)\n",
    "    * [Форматирование в f-строках](#форматирование-f-строках)\n",
    "* [Сегментация текста](#регулярные-выражения)\n",
    "    * [Определение границ предложений ](#границ-предложений)\n",
    "    * [Токенизация](#токенизация)\n",
    "* [Работа со строками в numpy](#строками-numpy)\n",
    "* [Хэширование строк](#хэширование-строк)\n",
    "\n",
    "-\n",
    "\n",
    "* [к оглавлению](#разделы)"
   ]
  },
  {
   "cell_type": "code",
   "execution_count": 142,
   "metadata": {},
   "outputs": [
    {
     "data": {
      "text/html": [
       "﻿<style>\r\n",
       "\r\n",
       "\r\n",
       "b.n {\r\n",
       "    font-weight: normal;        \r\n",
       "}\r\n",
       "\r\n",
       "b.grbg {\r\n",
       "    background-color: #a0a0a0;      \r\n",
       "}\r\n",
       "\r\n",
       "b.r {\r\n",
       "    color: #ff0000;    \r\n",
       "}\r\n",
       "\r\n",
       "\r\n",
       "b.b {    \r\n",
       "    color: #0000ff;    \r\n",
       "}\r\n",
       "\r\n",
       "b.g {\r\n",
       "    color: #00ff00;    \r\n",
       "}\r\n",
       "\r\n",
       "\r\n",
       "// add your CSS styling here\r\n",
       "\r\n",
       "list-style: none;\r\n",
       "\r\n",
       "ul.s {\r\n",
       "//    list-style-type: none;\r\n",
       "    list-style: none;\r\n",
       "//    background-color: #ff0000;  \r\n",
       "//    color: #ffff00;\r\n",
       "//  padding-left: 1.2em;\r\n",
       "//  text-indent: -1.2em;\r\n",
       "}\r\n",
       "\r\n",
       "li.t {\r\n",
       "    list-style: none;\r\n",
       "//  padding-left: 1.2em;\r\n",
       "//  text-indent: -1.2em;    \r\n",
       "}\r\n",
       "\r\n",
       "\r\n",
       "*.r {\r\n",
       "    color: #ff0000;    \r\n",
       "}\r\n",
       "\r\n",
       "li.t:before {\r\n",
       "    content: \"\\21D2\";    \r\n",
       "//    content: \"►\";\r\n",
       "//    padding-left: -1.2em;    \r\n",
       "    text-indent: -1.2em;    \r\n",
       "    display: block;\r\n",
       "    float: left;\r\n",
       "    \r\n",
       "    \r\n",
       "//    width: 1.2em;\r\n",
       "//    color: #ff0000;\r\n",
       "}\r\n",
       "\r\n",
       "i.m:before {\r\n",
       "    font-style: normal;    \r\n",
       "    content: \"\\21D2\";  \r\n",
       "}\r\n",
       "i.m {\r\n",
       "    font-style: normal; \r\n",
       "}    \r\n",
       "\r\n",
       "/*--------------------*/\r\n",
       "/* em {\r\n",
       "    font-style: normal; \r\n",
       "} */\r\n",
       "\r\n",
       "\r\n",
       "em.bl {\r\n",
       "    font-style: normal;     \r\n",
       "    font-weight: bold;        \r\n",
       "}\r\n",
       "\r\n",
       "/* em.grbg {\r\n",
       "    font-style: normal;         \r\n",
       "    background-color: #a0a0a0;      \r\n",
       "} */\r\n",
       "\r\n",
       "em.cr {\r\n",
       "    font-style: normal;         \r\n",
       "    color: #ff0000;    \r\n",
       "}\r\n",
       "\r\n",
       "em.cb {    \r\n",
       "    font-style: normal;         \r\n",
       "    color: #0000ff;    \r\n",
       "}\r\n",
       "\r\n",
       "em.cg {\r\n",
       "    font-style: normal;         \r\n",
       "    color: #00ff00;    \r\n",
       "}\r\n",
       "\r\n",
       "/*--------------------*/\r\n",
       "\r\n",
       "em.qs {\r\n",
       "    font-style: normal; \r\n",
       "}\r\n",
       "\r\n",
       "em.qs::before {\r\n",
       "    font-weight: bold;    \r\n",
       "    color: #ff0000;    \r\n",
       "    content: \"Q:\";  \r\n",
       "}\r\n",
       "\r\n",
       "em.an {\r\n",
       "    font-style: normal; \r\n",
       "}\r\n",
       "\r\n",
       "em.an:before {\r\n",
       "    font-weight: bold;    \r\n",
       "    color: #0000ff;    \r\n",
       "    content: \"A:\";  \r\n",
       "}\r\n",
       "    \r\n",
       "em.nt {\r\n",
       "    font-style: normal; \r\n",
       "}\r\n",
       "\r\n",
       "em.nt:before {\r\n",
       "    font-weight: bold;    \r\n",
       "    color: #0000ff;    \r\n",
       "    content: \"Note:\";  \r\n",
       "}    \r\n",
       "    \r\n",
       "em.ex {\r\n",
       "    font-style: normal; \r\n",
       "}\r\n",
       "\r\n",
       "em.ex:before {\r\n",
       "    font-weight: bold;    \r\n",
       "    color: #00ff00;    \r\n",
       "    content: \"Ex:\";  \r\n",
       "} \r\n",
       "    \r\n",
       "em.df {\r\n",
       "    font-style: normal; \r\n",
       "}\r\n",
       "\r\n",
       "em.df:before {\r\n",
       "    font-weight: bold;    \r\n",
       "    color: #0000ff;    \r\n",
       "    content: \"Def:\";  \r\n",
       "}    \r\n",
       "\r\n",
       "em.pl {\r\n",
       "    font-style: normal; \r\n",
       "}\r\n",
       "\r\n",
       "em.pl:before {\r\n",
       "    font-weight: bold;    \r\n",
       "    color: #0000ff;    \r\n",
       "    content: \"+\";  \r\n",
       "}    \r\n",
       "\r\n",
       "em.mn {\r\n",
       "    font-style: normal; \r\n",
       "}\r\n",
       "\r\n",
       "em.mn:before {\r\n",
       "    font-weight: bold;    \r\n",
       "    color: #0000ff;    \r\n",
       "    content: \"-\";  \r\n",
       "}        \r\n",
       "\r\n",
       "em.plmn {\r\n",
       "    font-style: normal; \r\n",
       "}\r\n",
       "\r\n",
       "em.plmn:before {\r\n",
       "    font-weight: bold;    \r\n",
       "    color: #0000ff;    \r\n",
       "    content: \"\\00B1\";\\\\\"&plusmn;\";  \r\n",
       "}\r\n",
       "    \r\n",
       "em.hn {\r\n",
       "    font-style: normal; \r\n",
       "}\r\n",
       "\r\n",
       "em.hn:before {\r\n",
       "    font-weight: bold;    \r\n",
       "    color: #0000ff;    \r\n",
       "    content: \"\\21D2\";\\\\\"&rArr;\";  \r\n",
       "}     \r\n",
       "    \r\n",
       "</style>"
      ],
      "text/plain": [
       "<IPython.core.display.HTML object>"
      ]
     },
     "execution_count": 142,
     "metadata": {},
     "output_type": "execute_result"
    }
   ],
   "source": [
    "# загружаем стиль для оформления презентации\n",
    "from IPython.display import HTML\n",
    "from urllib.request import urlopen\n",
    "html = urlopen(\"file:./lec_v1.css\")\n",
    "HTML(html.read().decode('utf-8'))"
   ]
  },
  {
   "cell_type": "markdown",
   "metadata": {},
   "source": [
    "# Форматирование строк <a class=\"anchor\" id=\"форматирование-строк\"></a>\n",
    "-\n",
    "* [к оглавлению](#разделы)"
   ]
  },
  {
   "cell_type": "markdown",
   "metadata": {},
   "source": [
    "### 0. Конкатенация."
   ]
  },
  {
   "cell_type": "markdown",
   "metadata": {},
   "source": [
    "Грубый способ форматирования, в котором мы просто склеиваем несколько строк с помощью операции сложения:"
   ]
  },
  {
   "cell_type": "code",
   "execution_count": 1,
   "metadata": {},
   "outputs": [
    {
     "name": "stdout",
     "output_type": "stream",
     "text": [
      "Меня зовут Петя. Мне 20 лет.\n"
     ]
    }
   ],
   "source": [
    "name = \"Петя\"\n",
    "age = 20\n",
    "print(\"Меня зовут \" + name + \". Мне \" + str(age) + \" лет.\")"
   ]
  },
  {
   "cell_type": "markdown",
   "metadata": {},
   "source": [
    "Скленивание строк из множества компонент с помощью оператора `+` неэффективный подход, вместо него рекомендуется использовать функцию `join` или f-строки."
   ]
  },
  {
   "cell_type": "code",
   "execution_count": 332,
   "metadata": {},
   "outputs": [
    {
     "data": {
      "text/plain": [
       "['Строка номер 0',\n",
       " 'Строка номер 1',\n",
       " 'Строка номер 2',\n",
       " 'Строка номер 3',\n",
       " 'Строка номер 4',\n",
       " 'Строка номер 5',\n",
       " 'Строка номер 6',\n",
       " 'Строка номер 7',\n",
       " 'Строка номер 8',\n",
       " 'Строка номер 9']"
      ]
     },
     "execution_count": 332,
     "metadata": {},
     "output_type": "execute_result"
    }
   ],
   "source": [
    "strings = [f'Строка номер {i}' for i in range(10)]\n",
    "strings"
   ]
  },
  {
   "cell_type": "code",
   "execution_count": 266,
   "metadata": {},
   "outputs": [
    {
     "data": {
      "text/plain": [
       "' Строка номер 0 Строка номер 1 Строка номер 2 Строка номер 3 Строка номер 4 Строка номер 5 Строка номер 6 Строка номер 7 Строка номер 8 Строка номер 9'"
      ]
     },
     "execution_count": 266,
     "metadata": {},
     "output_type": "execute_result"
    }
   ],
   "source": [
    "# неэффективный способ:\n",
    "res_s = ''\n",
    "for s in strings:\n",
    "    res_s = res_s + ' ' + s\n",
    "res_s    "
   ]
  },
  {
   "cell_type": "code",
   "execution_count": 144,
   "metadata": {},
   "outputs": [
    {
     "data": {
      "text/plain": [
       "'Строка номер 0 Строка номер 1 Строка номер 2 Строка номер 3 Строка номер 4 Строка номер 5 Строка номер 6 Строка номер 7 Строка номер 8 Строка номер 9'"
      ]
     },
     "execution_count": 144,
     "metadata": {},
     "output_type": "execute_result"
    }
   ],
   "source": [
    "# эффективное решение задачи склеивания многих строк:\n",
    "' '.join(strings) "
   ]
  },
  {
   "cell_type": "code",
   "execution_count": 145,
   "metadata": {},
   "outputs": [
    {
     "data": {
      "text/plain": [
       "'Строка номер 0Строка номер 1Строка номер 2Строка номер 3Строка номер 4Строка номер 5Строка номер 6Строка номер 7Строка номер 8Строка номер 9'"
      ]
     },
     "execution_count": 145,
     "metadata": {},
     "output_type": "execute_result"
    }
   ],
   "source": [
    "# если не нужен разделитель:\n",
    "''.join(strings) "
   ]
  },
  {
   "cell_type": "markdown",
   "metadata": {},
   "source": [
    "### 1. %-форматирование."
   ]
  },
  {
   "cell_type": "markdown",
   "metadata": {},
   "source": [
    " Самый популярный способ, который перешел в Python из языка С. Передавать значения в строку можно через списки и кортежи , а также и с помощью словаря. Во втором случае значения помещаются не по позиции, а в соответствии с именами."
   ]
  },
  {
   "cell_type": "code",
   "execution_count": 153,
   "metadata": {},
   "outputs": [
    {
     "name": "stdout",
     "output_type": "stream",
     "text": [
      "Меня зовут Дмитрий. Мне 25 лет.\n",
      "Меня зовут Дмитрий. Мне 25 лет.\n"
     ]
    }
   ],
   "source": [
    "name = \"Дмитрий\"\n",
    "age = 25\n",
    "print(\"Меня зовут %s. Мне %d лет.\" % (name, age))\n",
    "print(\"Меня зовут %(name)s. Мне %(age)d лет.\" % {\"name\": name, \"age\": age})"
   ]
  },
  {
   "cell_type": "markdown",
   "metadata": {},
   "source": [
    "### 2. Template-строки."
   ]
  },
  {
   "cell_type": "markdown",
   "metadata": {},
   "source": [
    "Этот способ появился в Python 2.4, как замена %-форматированию, но популярным так и не стал. Поддерживает передачу значений по имени и использует $-синтаксис как в PHP."
   ]
  },
  {
   "cell_type": "code",
   "execution_count": 154,
   "metadata": {},
   "outputs": [
    {
     "name": "stdout",
     "output_type": "stream",
     "text": [
      "Меня зовут Дмитрий. Мне 25 лет.\n"
     ]
    }
   ],
   "source": [
    "from string import Template\n",
    "name = \"Дмитрий\"\n",
    "age = 25\n",
    "s = Template('Меня зовут $name. Мне $age лет.')\n",
    "print(s.substitute(name=name, age=age))"
   ]
  },
  {
   "cell_type": "markdown",
   "metadata": {},
   "source": [
    "### 3. Форматирование с помощью метода format()."
   ]
  },
  {
   "cell_type": "markdown",
   "metadata": {},
   "source": [
    "Этот способ появился в Python 3 в качестве замены %-форматированию. Он также поддерживает передачу значений по позиции и по имени."
   ]
  },
  {
   "cell_type": "code",
   "execution_count": 155,
   "metadata": {
    "scrolled": true
   },
   "outputs": [
    {
     "name": "stdout",
     "output_type": "stream",
     "text": [
      "Меня зовут Дмитрий. Мне 25 лет.\n",
      "Меня зовут Дмитрий Мне 25 лет.\n"
     ]
    }
   ],
   "source": [
    "name = \"Дмитрий\"\n",
    "age = 25\n",
    "print(\"Меня зовут {}. Мне {} лет.\".format(name, age))\n",
    "print(\"Меня зовут {name} Мне {age} лет.\".format(age=age, name=name))"
   ]
  },
  {
   "cell_type": "markdown",
   "metadata": {},
   "source": [
    "### 4. f-строки."
   ]
  },
  {
   "cell_type": "markdown",
   "metadata": {},
   "source": [
    "Форматирование, которое появилось в Python 3.6 . Этот способ похож на форматирование с помощью метода format(), но гибче, читабельней и быстрей."
   ]
  },
  {
   "cell_type": "code",
   "execution_count": 146,
   "metadata": {},
   "outputs": [
    {
     "name": "stdout",
     "output_type": "stream",
     "text": [
      "Меня зовут Дмитрий Мне 25 лет.\n"
     ]
    }
   ],
   "source": [
    "name = \"Дмитрий\"\n",
    "age = 25\n",
    "print(f\"Меня зовут {name} Мне {age} лет.\")"
   ]
  },
  {
   "cell_type": "markdown",
   "metadata": {},
   "source": [
    "f-строки делают очень простую вещь — они берут значения переменных, которые есть в текущей области видимости, и подставляют их в строку. В самой строке вам лишь нужно указать имя этой переменной в фигурных скобках."
   ]
  },
  {
   "cell_type": "code",
   "execution_count": 147,
   "metadata": {},
   "outputs": [
    {
     "name": "stdout",
     "output_type": "stream",
     "text": [
      "Меня зовут Дмитрий Мне 25 лет.\n"
     ]
    }
   ],
   "source": [
    "name = \"Дмитрий\"\n",
    "age = 25\n",
    "print(f\"Меня зовут {name} Мне {age} лет.\")"
   ]
  },
  {
   "cell_type": "markdown",
   "metadata": {},
   "source": [
    "### Форматирование в f-строках <a class=\"anchor\" id=\"форматирование-f-строках\"></a>\n",
    "-\n",
    "* [к оглавлению](#разделы)"
   ]
  },
  {
   "cell_type": "markdown",
   "metadata": {},
   "source": [
    "f-строки также поддерживают расширенное форматирование чисел:"
   ]
  },
  {
   "cell_type": "code",
   "execution_count": 3,
   "metadata": {
    "scrolled": true
   },
   "outputs": [
    {
     "name": "stdout",
     "output_type": "stream",
     "text": [
      "Значение числа pi: 3.14\n"
     ]
    }
   ],
   "source": [
    "from math import pi\n",
    "print(f\"Значение числа pi: {pi:.2f}\")"
   ]
  },
  {
   "cell_type": "markdown",
   "metadata": {},
   "source": [
    "С помощью f-строк можно форматировать дату без вызова метода strftime():"
   ]
  },
  {
   "cell_type": "code",
   "execution_count": 148,
   "metadata": {
    "scrolled": true
   },
   "outputs": [
    {
     "name": "stdout",
     "output_type": "stream",
     "text": [
      "Текущее время 25.10.2021 11:59\n"
     ]
    }
   ],
   "source": [
    "from datetime import datetime as dt\n",
    "now = dt.now()\n",
    "print(f\"Текущее время {now:%d.%m.%Y %H:%M}\")"
   ]
  },
  {
   "cell_type": "code",
   "execution_count": 149,
   "metadata": {},
   "outputs": [
    {
     "name": "stdout",
     "output_type": "stream",
     "text": [
      "0123456789012345678901234567890123456789\n",
      "|  1|___59.06|     453|00000001|\n",
      "|  5|__159.00| 123.453|00000111|\n",
      "| 15|_-159.10|-     12|00010000|\n",
      "|105|-1059.10|    1200|01111111|\n"
     ]
    }
   ],
   "source": [
    "# Пример использования продвинутого форматирования:\n",
    "\n",
    "print('0123456789'*4)\n",
    "\n",
    "def f(a,b,c,d):\n",
    "    return f'|{a: >3}|{b:_>8.2f}|{c:=8}|{d:0>8}|'\n",
    "\n",
    "print(f(1, 59.06, 453, 1))\n",
    "print(f(5, 159.00, 123.453, 111))\n",
    "print(f(15, -159.10, -12,10000))\n",
    "print(f(105, -1059.10, 1200, 1111111))"
   ]
  },
  {
   "cell_type": "markdown",
   "metadata": {},
   "source": [
    "Подробная информация по возможностям расширенного форматирования:\n",
    "\n",
    "http://www.python-course.eu/python3_formatted_output.php\n",
    "\n",
    "Возможности расширенного форматирования в f-строках и у функции format() совпадают. Синтаксис функции format(): `<Строка  сnециального фopмaтa>.format(*args,  **kwargs)`"
   ]
  },
  {
   "cell_type": "markdown",
   "metadata": {},
   "source": [
    "В параметре `<Формат>` (после двоеточия) указывается значение, имеющее следующий синтаксис: \n",
    "\n",
    "`[ [<Заполнитель>] <Выравнивание>] [<Знак>] [ #] [0] [<Ширина>] [,] \n",
    "[.<Точность>] [ <Преобразование>]`"
   ]
  },
  {
   "cell_type": "code",
   "execution_count": 150,
   "metadata": {},
   "outputs": [
    {
     "data": {
      "text/plain": [
       "\"'         3' 'string'\""
      ]
     },
     "execution_count": 150,
     "metadata": {},
     "output_type": "execute_result"
    }
   ],
   "source": [
    "\"'{0:10}' '{1:3}'\".format(3, \"string\")  #  10 - это ширина  поля "
   ]
  },
  {
   "cell_type": "markdown",
   "metadata": {},
   "source": [
    "По умолчанию значение внутри поля выравнивается по правому краю. Управлять выравниванием nозволяет параметр <Выравнивание>. Можно указать следующие значения: \n",
    "* < - по левому краю;\n",
    "* \\> - по nравому краю; \n",
    "* ^ - по центру nоля;\n",
    "* = - знак числа выравнивается по левому краю, а число по nравому краю."
   ]
  },
  {
   "cell_type": "code",
   "execution_count": 151,
   "metadata": {},
   "outputs": [
    {
     "data": {
      "text/plain": [
       "\"'3         ' '         3' '    3     ' '-        3'\""
      ]
     },
     "execution_count": 151,
     "metadata": {},
     "output_type": "execute_result"
    }
   ],
   "source": [
    "\"'{0:<10}' '{1:>10}' '{2:^10}' '{3:=10}'\".format(3,  3,  3, -3) "
   ]
  },
  {
   "cell_type": "markdown",
   "metadata": {},
   "source": [
    "Пространство между знаком и числом по умолчанию заполняется nробелами, а знак положительного числа не указывается. Чтобы вместо nробелов пространство заполнялось нулями, необходимо указать нуль nеред шириной nоля. Такого же эффекта можно достичь, указав нуль в параметре <Заполнитель>. В этом параметре допускаются и другие символы, которые будут выводиться вместо пробелов: "
   ]
  },
  {
   "cell_type": "code",
   "execution_count": 163,
   "metadata": {},
   "outputs": [
    {
     "data": {
      "text/plain": [
       "\"'-000000003'  '0000000003'\""
      ]
     },
     "execution_count": 163,
     "metadata": {},
     "output_type": "execute_result"
    }
   ],
   "source": [
    "\"'{0:=010}'  '{1:=010}'\".format(-3,  3) "
   ]
  },
  {
   "cell_type": "code",
   "execution_count": 164,
   "metadata": {},
   "outputs": [
    {
     "data": {
      "text/plain": [
       "\"'-000000003'  '_________3'\""
      ]
     },
     "execution_count": 164,
     "metadata": {},
     "output_type": "execute_result"
    }
   ],
   "source": [
    "\"'{0:0=10}'  '{1:_=10}'\".format(-3,  3) "
   ]
  },
  {
   "cell_type": "code",
   "execution_count": 165,
   "metadata": {},
   "outputs": [
    {
     "data": {
      "text/plain": [
       "\"'3*********' '+++++++++3' '....3.....'\""
      ]
     },
     "execution_count": 165,
     "metadata": {},
     "output_type": "execute_result"
    }
   ],
   "source": [
    "\"'{0:*<10}' '{1:+>10}' '{2:.^10}'\".format(3, 3, 3)"
   ]
  },
  {
   "cell_type": "markdown",
   "metadata": {},
   "source": [
    "Управлять выводом знака числа позволяет параметр <Знак>. Допустимые значения: \n",
    "* \\+ - задает обязательный вывод знака как для отрицательных, так и для положительных чисел; \n",
    "* \\- -вывод знака только для отрицательных чисел (значение по умолчанию); \n",
    "* пробел - вставляет пробел перед положительным числом. Перед отрицательным числом будет стоять минус. "
   ]
  },
  {
   "cell_type": "code",
   "execution_count": 152,
   "metadata": {},
   "outputs": [
    {
     "data": {
      "text/plain": [
       "\"'+3' '-3' '3' '-3'\""
      ]
     },
     "execution_count": 152,
     "metadata": {},
     "output_type": "execute_result"
    }
   ],
   "source": [
    "\"'{0:+}' '{1:+}' '{0:-}' '{1:-}'\".format(3,  -3) "
   ]
  },
  {
   "cell_type": "code",
   "execution_count": 153,
   "metadata": {},
   "outputs": [
    {
     "data": {
      "text/plain": [
       "\"' 3' '-3'\""
      ]
     },
     "execution_count": 153,
     "metadata": {},
     "output_type": "execute_result"
    }
   ],
   "source": [
    "\"'{0: }' '{1: }'\".format(3,  -3) "
   ]
  },
  {
   "cell_type": "markdown",
   "metadata": {},
   "source": [
    "Для целых чисел в параметре <Преобразование> могут быть указаны следующие опции:\n",
    "* b - двоичное значение: \n",
    "* с - преобразует целое число в соответствующий символ;\n",
    "* d - десятичное значение; \n",
    "* n - аналогично опции d,  но учитывает настройки локали. Например, выведем большое \n",
    "число с разделением тысячных разрядов пробелом;\n",
    "* о - восьмеричное значение;\n",
    "* x - шестнадцатеричное значение в нижнем регистре;\n",
    "* X - шестнадцатеричное значение в верхнем регистре."
   ]
  },
  {
   "cell_type": "code",
   "execution_count": 5,
   "metadata": {},
   "outputs": [
    {
     "data": {
      "text/plain": [
       "\"'11' '0b11'\""
      ]
     },
     "execution_count": 5,
     "metadata": {},
     "output_type": "execute_result"
    }
   ],
   "source": [
    "\"'{0:b}' '{0:#b}'\".format(3) "
   ]
  },
  {
   "cell_type": "code",
   "execution_count": 6,
   "metadata": {},
   "outputs": [
    {
     "data": {
      "text/plain": [
       "\"'\\n'\""
      ]
     },
     "execution_count": 6,
     "metadata": {},
     "output_type": "execute_result"
    }
   ],
   "source": [
    "\"'{0:c}'\".format(10) "
   ]
  },
  {
   "cell_type": "code",
   "execution_count": 7,
   "metadata": {},
   "outputs": [
    {
     "data": {
      "text/plain": [
       "\"'0x64'\""
      ]
     },
     "execution_count": 7,
     "metadata": {},
     "output_type": "execute_result"
    }
   ],
   "source": [
    "\"'{0:#x}'\".format(100) "
   ]
  },
  {
   "cell_type": "code",
   "execution_count": 8,
   "metadata": {},
   "outputs": [
    {
     "data": {
      "text/plain": [
       "'Russian_Russia.1251'"
      ]
     },
     "execution_count": 8,
     "metadata": {},
     "output_type": "execute_result"
    }
   ],
   "source": [
    "import locale\n",
    "locale.setlocale(locale.LC_NUMERIC, 'Russian_Russia.1251')"
   ]
  },
  {
   "cell_type": "code",
   "execution_count": 175,
   "metadata": {},
   "outputs": [
    {
     "name": "stdout",
     "output_type": "stream",
     "text": [
      "100 000 000\n"
     ]
    }
   ],
   "source": [
    "print(\"{0:n}\".format(100000000))"
   ]
  },
  {
   "cell_type": "code",
   "execution_count": 154,
   "metadata": {},
   "outputs": [
    {
     "name": "stdout",
     "output_type": "stream",
     "text": [
      "100,000,000\n"
     ]
    }
   ],
   "source": [
    "print(\"{0:,d}\".format(100000000))"
   ]
  },
  {
   "cell_type": "code",
   "execution_count": 155,
   "metadata": {},
   "outputs": [
    {
     "data": {
      "text/plain": [
       "\"'310' 'c8' 'C8'\""
      ]
     },
     "execution_count": 155,
     "metadata": {},
     "output_type": "execute_result"
    }
   ],
   "source": [
    "\"'{0:o}' '{0:x}' '{0:X}'\".format(200) "
   ]
  },
  {
   "cell_type": "markdown",
   "metadata": {},
   "source": [
    "Для  вещественных  чисел  в  параметре  <Преобразование>  могут быть указаны  следующие опции: \n",
    "* f  и F - вещественное число в десятичном nредставлении. Задать количество знаков nосле запятой nозволяет параметр <Точность>;\n",
    "* е - вещественное число в экспоненциальной форме (буква \"е\" в нижнем регистре);\n",
    "* Е - вещественное число в экспоненциальной форме (буква \"е\" в верхнем регистре);\n",
    "* n - аналогично опции g,  но учитывает настройки локали;\n",
    "* % - умножает число на 100  и добавляет символ процента в конец. Значение отображается в соответствии с опцией f."
   ]
  },
  {
   "cell_type": "code",
   "execution_count": 156,
   "metadata": {},
   "outputs": [
    {
     "data": {
      "text/plain": [
       "\"'30.000000' '18.657815' '-2.500000'\""
      ]
     },
     "execution_count": 156,
     "metadata": {},
     "output_type": "execute_result"
    }
   ],
   "source": [
    "\"'{0:f}' '{1:f}' '{2:f}'\".format(30, 18.6578145, -2.5)"
   ]
  },
  {
   "cell_type": "code",
   "execution_count": 157,
   "metadata": {},
   "outputs": [
    {
     "data": {
      "text/plain": [
       "\"'18.6578145' '-2.50'\""
      ]
     },
     "execution_count": 157,
     "metadata": {},
     "output_type": "execute_result"
    }
   ],
   "source": [
    "\"'{0:.7f}' '{1:.2f}'\".format(18.6578145, -2.5)"
   ]
  },
  {
   "cell_type": "code",
   "execution_count": 158,
   "metadata": {},
   "outputs": [
    {
     "data": {
      "text/plain": [
       "\"'3.000000e+03' '1.865781e+04'\""
      ]
     },
     "execution_count": 158,
     "metadata": {},
     "output_type": "execute_result"
    }
   ],
   "source": [
    "\"'{0:e}' '{1:e}'\".format(3000, 18657.81452) "
   ]
  },
  {
   "cell_type": "code",
   "execution_count": 159,
   "metadata": {},
   "outputs": [
    {
     "data": {
      "text/plain": [
       "\"'3.000000E+03' '1.865781E+04'\""
      ]
     },
     "execution_count": 159,
     "metadata": {},
     "output_type": "execute_result"
    }
   ],
   "source": [
    "\"'{0:E}' '{1:E}'\".format(3000, 18657.81452) "
   ]
  },
  {
   "cell_type": "code",
   "execution_count": 160,
   "metadata": {
    "scrolled": false
   },
   "outputs": [
    {
     "data": {
      "text/plain": [
       "\"'8.657800%' '0.0087%'\""
      ]
     },
     "execution_count": 160,
     "metadata": {},
     "output_type": "execute_result"
    }
   ],
   "source": [
    "\"'{0:%}' '{1:.4%}'\".format(0.086578, 0.000086578)"
   ]
  },
  {
   "cell_type": "markdown",
   "metadata": {},
   "source": [
    "### Операции в f-строках"
   ]
  },
  {
   "cell_type": "markdown",
   "metadata": {},
   "source": [
    "Они поддерживают базовые арифметические операции. Да, прямо в строках:"
   ]
  },
  {
   "cell_type": "code",
   "execution_count": 161,
   "metadata": {},
   "outputs": [
    {
     "name": "stdout",
     "output_type": "stream",
     "text": [
      "10 x 5 / 2 = 25.0\n"
     ]
    }
   ],
   "source": [
    "x = 10\n",
    "y = 5\n",
    "print(f\"{x} x {y} / 2 = {x * y / 2}\")"
   ]
  },
  {
   "cell_type": "markdown",
   "metadata": {},
   "source": [
    "Позволяют обращаться к значениям списков по индексу:"
   ]
  },
  {
   "cell_type": "code",
   "execution_count": 162,
   "metadata": {},
   "outputs": [
    {
     "name": "stdout",
     "output_type": "stream",
     "text": [
      "Мы живим на планете Земля\n"
     ]
    }
   ],
   "source": [
    "planets = [\"Меркурий\", \"Венера\", \"Земля\", \"Марс\"]\n",
    "print(f\"Мы живим на планете {planets[2]}\")"
   ]
  },
  {
   "cell_type": "markdown",
   "metadata": {},
   "source": [
    "А также к элементам словаря по ключу:"
   ]
  },
  {
   "cell_type": "code",
   "execution_count": 164,
   "metadata": {},
   "outputs": [
    {
     "name": "stdout",
     "output_type": "stream",
     "text": [
      "Планета Земля. Радиус 6378.0 км.\n"
     ]
    }
   ],
   "source": [
    "planet = {\"name\": \"Земля\", \"radius\": 6378000}\n",
    "print(f\"Планета {planet['name']}. Радиус {planet['radius']/1000} км.\")"
   ]
  },
  {
   "cell_type": "markdown",
   "metadata": {},
   "source": [
    "Причем вы можете использовать как строковые, так и числовые ключи. Точно также как в обычном Python коде:"
   ]
  },
  {
   "cell_type": "code",
   "execution_count": 165,
   "metadata": {},
   "outputs": [
    {
     "name": "stdout",
     "output_type": "stream",
     "text": [
      "0 - ноль, 1 - один\n"
     ]
    }
   ],
   "source": [
    "digits = {0: 'ноль', 'one': 'один'}\n",
    "print(f\"0 - {digits[0]}, 1 - {digits['one']}\")"
   ]
  },
  {
   "cell_type": "markdown",
   "metadata": {},
   "source": [
    "Вы можете вызывать в f-строках методы объектов:"
   ]
  },
  {
   "cell_type": "code",
   "execution_count": 166,
   "metadata": {
    "scrolled": true
   },
   "outputs": [
    {
     "name": "stdout",
     "output_type": "stream",
     "text": [
      "Имя: ДМИТРИЙ\n"
     ]
    }
   ],
   "source": [
    "name = \"Дмитрий\"\n",
    "print(f\"Имя: {name.upper()}\")"
   ]
  },
  {
   "cell_type": "markdown",
   "metadata": {},
   "source": [
    "А также вызывать функции:"
   ]
  },
  {
   "cell_type": "code",
   "execution_count": 167,
   "metadata": {},
   "outputs": [
    {
     "name": "stdout",
     "output_type": "stream",
     "text": [
      "13 / 3 = 4\n"
     ]
    }
   ],
   "source": [
    "print(f\"13 / 3 = {round(13/3)}\")"
   ]
  },
  {
   "cell_type": "markdown",
   "metadata": {},
   "source": [
    "# Регулярные выражения <a class=\"anchor\" id=\"регулярные-выражения\"></a>\n",
    "-\n",
    "* [к оглавлению](#разделы)"
   ]
  },
  {
   "cell_type": "markdown",
   "metadata": {},
   "source": [
    "Реrулярные выражения предназначены для выполнения сложного поиска или замены в строке.  В языке Python использовать регулярные выражения позволяет модуль __re__. Прежде чем использовать функции из этого модуля, необходимо подключить модуль с помощью инструкции:\n"
   ]
  },
  {
   "cell_type": "markdown",
   "metadata": {},
   "source": [
    "Материалы по теме:\n",
    "\n",
    "https://docs.python.org/3.7/howto/regex.html\n",
    "\n",
    "https://www.python-course.eu/re.php\n",
    "\n",
    "https://www.ntu.edu.sg/home/ehchua/programming/howto/Regexe.html\n",
    "\n",
    "https://medium.com/factory-mind/regex-tutorial-a-simple-cheatsheet-by-examples-649dc1c3f285\n",
    "\n",
    "https://regexone.com"
   ]
  },
  {
   "cell_type": "code",
   "execution_count": 168,
   "metadata": {},
   "outputs": [],
   "source": [
    "import re # Библиотека для работы с регулярными выражениями"
   ]
  },
  {
   "cell_type": "markdown",
   "metadata": {
    "collapsed": true
   },
   "source": [
    "# Синтаксис регулярных выражений"
   ]
  },
  {
   "cell_type": "markdown",
   "metadata": {},
   "source": [
    "Создать откомпилированный шаблон регулярного выражения позволяет функция `compile()`. Функция имеет следующий формат:\n",
    "\n",
    "`<Шаблон> = rе.соmрilе(<Регулярное выражение>[, <Модификатор>])`"
   ]
  },
  {
   "cell_type": "code",
   "execution_count": 170,
   "metadata": {},
   "outputs": [
    {
     "data": {
      "text/plain": [
       "'тик'"
      ]
     },
     "execution_count": 170,
     "metadata": {},
     "output_type": "execute_result"
    }
   ],
   "source": [
    "# Пример регулярного выражения\n",
    "p = re.compile(r\"[а-яё]{0,6}\", re.I) # Шаблон, соответствующий строке, начинающейся на 0-6 русских букв\n",
    "p.match('тикtik').group(0) # Возвращаем результат поиска подстроки по указанному шаблону в строке \"тикtik\""
   ]
  },
  {
   "cell_type": "markdown",
   "metadata": {},
   "source": [
    "### Составление регулярных выражений"
   ]
  },
  {
   "cell_type": "markdown",
   "metadata": {},
   "source": [
    "Внутри регулярного выражения (внутри кавычек, его определяющих) символы "
   ]
  },
  {
   "cell_type": "markdown",
   "metadata": {},
   "source": [
    "#### .   ^   $  *  +  ?   {  } [  ]  \\  |  ( ) -"
   ]
  },
  {
   "cell_type": "markdown",
   "metadata": {},
   "source": [
    "имеют специальное значение. Если эти символы требуется выводить как есть, то их следует экранировать\n",
    "с помощью слэша. Некоторые сnециальные символы теряют свое особое значение, если их\n",
    "разместить внутри квадратных скобок. В этом случае экранировать их не нужно. "
   ]
  },
  {
   "cell_type": "markdown",
   "metadata": {},
   "source": [
    "В квадратных скобках [] можно указать символы, которые могут встречаться на этом месте в строке. Можно перечислять символы подряд или указать их диапазон через тире. Примеры:"
   ]
  },
  {
   "cell_type": "markdown",
   "metadata": {},
   "source": [
    "* [09] - соответствует цифре 0 или 9 <br>\n",
    "* [0-9] - соответствует одной цифре от 0 до 9 <br>\n",
    "* [абв] - соответствует букве \"а\", \"б\" или \"в\" <br>\n",
    "* [а-г] - соответствует букве \"а\", \"б\", \"в\" или \"г\" <br>\n",
    "* [а-я] - соответствует любой букве от \"а\" до \"я\", кроме буквы \"ё\" <br>\n",
    "* [а-яё] - соответствует любой букве от \"а\" до \"я\" <br>\n",
    "* [АБВ] - соответствует букве \"А\", \"Б\" или \"В\" <br>\n",
    "* [А-ЯЁ] - соответствует любой букве от \"А\" до \"Я\" <br>\n",
    "* [а-яА-ЯёЁ] - соответствует любой русской букве в любом регистре <br>\n",
    "* [0-9а-яА-ЯёЁа-zА-Z] - любая цифра и любая буква независимо от регистра и языка"
   ]
  },
  {
   "cell_type": "markdown",
   "metadata": {},
   "source": [
    "Примеры:"
   ]
  },
  {
   "cell_type": "code",
   "execution_count": 453,
   "metadata": {},
   "outputs": [],
   "source": [
    "p = re.compile(r'[0-3][0-9].[01][0-9].[12][09][0-9][0-9]') # Шаблон корректной даты"
   ]
  },
  {
   "cell_type": "code",
   "execution_count": 454,
   "metadata": {},
   "outputs": [
    {
     "data": {
      "text/plain": [
       "<re.Match object; span=(0, 10), match='29,10.2016'>"
      ]
     },
     "execution_count": 454,
     "metadata": {},
     "output_type": "execute_result"
    }
   ],
   "source": [
    "date_ = \"29,10.2016\"\n",
    "res = p.match(date_)\n",
    "res"
   ]
  },
  {
   "cell_type": "code",
   "execution_count": 455,
   "metadata": {},
   "outputs": [
    {
     "data": {
      "text/plain": [
       "True"
      ]
     },
     "execution_count": 455,
     "metadata": {},
     "output_type": "execute_result"
    }
   ],
   "source": [
    "bool(res)"
   ]
  },
  {
   "cell_type": "code",
   "execution_count": 456,
   "metadata": {},
   "outputs": [
    {
     "name": "stdout",
     "output_type": "stream",
     "text": [
      "Введено правильно\n"
     ]
    }
   ],
   "source": [
    "if res: # Проверка на соответствие заданному шаблону\n",
    "    print('Введено правильно')\n",
    "else: \n",
    "    print('Введено неправильно')"
   ]
  },
  {
   "cell_type": "markdown",
   "metadata": {},
   "source": [
    "Так как точка не экранирована, то выведет \"Введено правильно\", т.к. точка означает любой символ, кроме перевода строки"
   ]
  },
  {
   "cell_type": "code",
   "execution_count": 457,
   "metadata": {},
   "outputs": [
    {
     "data": {
      "text/plain": [
       "True"
      ]
     },
     "execution_count": 457,
     "metadata": {},
     "output_type": "execute_result"
    }
   ],
   "source": [
    "bool(p.match(\"33.10.2016\"))"
   ]
  },
  {
   "cell_type": "code",
   "execution_count": 458,
   "metadata": {},
   "outputs": [
    {
     "data": {
      "text/plain": [
       "False"
      ]
     },
     "execution_count": 458,
     "metadata": {},
     "output_type": "execute_result"
    }
   ],
   "source": [
    "bool(p.match(\"ва.10.2016\"))"
   ]
  },
  {
   "cell_type": "code",
   "execution_count": 459,
   "metadata": {},
   "outputs": [],
   "source": [
    "# Шаблон корректной даты с экранированием точки\n",
    "# и более жесткими ограничениями на цифры дня \n",
    "p2 = re.compile(r'(([0-2][0-9])|([3][01]))\\.[01][0-9]\\.[12][09][0-9][0-9]') "
   ]
  },
  {
   "cell_type": "code",
   "execution_count": 460,
   "metadata": {},
   "outputs": [
    {
     "data": {
      "text/plain": [
       "False"
      ]
     },
     "execution_count": 460,
     "metadata": {},
     "output_type": "execute_result"
    }
   ],
   "source": [
    "bool(p2.match(\"29,10.2016\"))"
   ]
  },
  {
   "cell_type": "code",
   "execution_count": 461,
   "metadata": {},
   "outputs": [
    {
     "data": {
      "text/plain": [
       "False"
      ]
     },
     "execution_count": 461,
     "metadata": {},
     "output_type": "execute_result"
    }
   ],
   "source": [
    "bool(p2.match(\"33.10.2016\"))"
   ]
  },
  {
   "cell_type": "code",
   "execution_count": 462,
   "metadata": {},
   "outputs": [
    {
     "data": {
      "text/plain": [
       "True"
      ]
     },
     "execution_count": 462,
     "metadata": {},
     "output_type": "execute_result"
    }
   ],
   "source": [
    "bool(p2.match(\"11.10.2016\"))"
   ]
  },
  {
   "cell_type": "code",
   "execution_count": 463,
   "metadata": {},
   "outputs": [],
   "source": [
    "# Еще один вариант указать точку в шаблоне - заключить ее в квадратные скобки:\n",
    "p3 = re.compile(r'[0-3][0-9][.][01][0-9][.][12][09][0-9][0-9]') "
   ]
  },
  {
   "cell_type": "code",
   "execution_count": 464,
   "metadata": {},
   "outputs": [
    {
     "data": {
      "text/plain": [
       "False"
      ]
     },
     "execution_count": 464,
     "metadata": {},
     "output_type": "execute_result"
    }
   ],
   "source": [
    "bool(p3.match(\"29,10.2016\"))"
   ]
  },
  {
   "cell_type": "code",
   "execution_count": 465,
   "metadata": {},
   "outputs": [
    {
     "data": {
      "text/plain": [
       "True"
      ]
     },
     "execution_count": 465,
     "metadata": {},
     "output_type": "execute_result"
    }
   ],
   "source": [
    "bool(p3.match(\"33.10.2016\"))"
   ]
  },
  {
   "cell_type": "markdown",
   "metadata": {},
   "source": [
    "Если после первой скобки указать ^, то все указанные в квадратных скобках символы должны отсутствовать на данной позиции шаблона."
   ]
  },
  {
   "cell_type": "code",
   "execution_count": 466,
   "metadata": {},
   "outputs": [
    {
     "name": "stdout",
     "output_type": "stream",
     "text": [
      "Строка соответствует шаблону\n",
      "Строка не соответствует шаблону\n"
     ]
    }
   ],
   "source": [
    "p=re.compile(r'[^09][^0-9][^а-яА-ЯёЁa-zA-Z]') # Первый символ - не 0 и не 9; второй символ - не цифра; третий символ - не буква.\n",
    "\n",
    "if p.search('1а2'):\n",
    "    print('Строка соответствует шаблону')\n",
    "else:\n",
    "    print('Строка не соответствует шаблону')\n",
    "\n",
    "\n",
    "if p.search('04Q'):\n",
    "    print('Строка соответствует шаблону')\n",
    "else:\n",
    "    print('Строка не соответствует шаблону')"
   ]
  },
  {
   "cell_type": "markdown",
   "metadata": {},
   "source": [
    "Вместо перечисления символов можно использовать стандартные классы: <br>\n",
    "\n",
    "* . - любой символ, кроме перевода строки (если точка не экранирована и не заключена в квадратные скобки)\n",
    "* \\d - соответствует любой цифре (эквивалентно [0-9]) <br>\n",
    "* \\w - соответствует любой букве, цифре или символу подчеркивания ([a-zA-Zа-яЁА-ЯЁ0-9_]) <br>\n",
    "* \\s - любой пробельный символ (пробел, перевод строки, табуляция и т.д.) <br>\n",
    "* \\D - не цифра (эквивалентно [^0-9]) <br>\n",
    "* \\W - не буква, не цифра и не символ подчеркивания (эквивалентно [^a-zA-Zа-яЁА-ЯЁ0-9_]) <br>\n",
    "* \\S - не пробельный символ <br>\n",
    "* \\b - обозначение левой или правой границы слова (где слово трактуется как последовательность букв или цифр)"
   ]
  },
  {
   "cell_type": "code",
   "execution_count": 467,
   "metadata": {},
   "outputs": [
    {
     "name": "stdout",
     "output_type": "stream",
     "text": [
      "Строка соответствует шаблону\n",
      "Строка не соответствует шаблону\n"
     ]
    }
   ],
   "source": [
    "p = re.compile(r'[\\d][\\D][\\s][\\S]')\n",
    "\n",
    "if p.search('1a 2'):\n",
    "    print('Строка соответствует шаблону')\n",
    "else:\n",
    "    print('Строка не соответствует шаблону')\n",
    "\n",
    "\n",
    "if p.search('1a2 '):\n",
    "    print('Строка соответствует шаблону')\n",
    "else:\n",
    "    print('Строка не соответствует шаблону')"
   ]
  },
  {
   "cell_type": "markdown",
   "metadata": {},
   "source": [
    "#### Квантификаторы"
   ]
  },
  {
   "cell_type": "markdown",
   "metadata": {},
   "source": [
    "С помощью квантификаторов задается количество вхождений символа в строку. Указывается после символа, к которому относится разрешенное количество повторений: <br>\n",
    "\n",
    "* `{n}` - n вхождений символа в строку. Например. шаблон `r\"[0-9]{2}\"` соответствует двум вхождениям любой цифры\n",
    "* `{n,}` - n или более вхождений символа в строку. Например. шаблон `r\"[0-9]{2,}\"` соответствует двум и более вхождениям любой цифры\n",
    "* `{n,m}` - не менее n и не более m вхождений символа в строку. Числа указываются через запятую без пробела. _Например, шаблон `r\"[0-9]{2,4}\"` соответствует от двух до четырех вхождениям любой цифры_\n",
    "* `*` - ноль или большее число вхождений символа в строку. Эквивалентно комбинации `{0,}`\n",
    "* `+` - одно или большее число вхождений символа в строку. Эквивалентно комбинации `{1,}`\n",
    "* `?` - ни одного или одно вхождение символа в строку. Эквивалентно комбинации `{0,1}`. "
   ]
  },
  {
   "cell_type": "code",
   "execution_count": 468,
   "metadata": {},
   "outputs": [
    {
     "name": "stdout",
     "output_type": "stream",
     "text": [
      "Строка не соответствует шаблону\n",
      "Строка соответствует шаблону\n"
     ]
    }
   ],
   "source": [
    "p = re.compile(r'[0-9]{4}') #Вместо r'[0-9][0-9][0-9][0-9]'\n",
    "\n",
    "if p.search('111'):\n",
    "    print('Строка соответствует шаблону')\n",
    "else:\n",
    "    print('Строка не соответствует шаблону')\n",
    "\n",
    "if p.search('1111'):\n",
    "    print('Строка соответствует шаблону')\n",
    "else:\n",
    "    print('Строка не соответствует шаблону')"
   ]
  },
  {
   "cell_type": "markdown",
   "metadata": {},
   "source": [
    "Все квантификаторы являются \"жадными\": при поиске соответствия ищется самая длинная подстрока, соответствующая шаблону, и не учитываются более короткие соответствия. Например:"
   ]
  },
  {
   "cell_type": "code",
   "execution_count": 348,
   "metadata": {},
   "outputs": [
    {
     "data": {
      "text/plain": [
       "['<b>Text1</b>Text2<b>Text3</b>']"
      ]
     },
     "execution_count": 348,
     "metadata": {},
     "output_type": "execute_result"
    }
   ],
   "source": [
    "import re\n",
    "s=\"<b>Text1</b>Text2<b>Text3</b>\"\n",
    "p = re.compile(r'<b>.*</b>')\n",
    "p.findall(s)"
   ]
  },
  {
   "cell_type": "code",
   "execution_count": 349,
   "metadata": {},
   "outputs": [
    {
     "data": {
      "text/plain": [
       "['<b>Text1</b>', '<b>Text3</b>']"
      ]
     },
     "execution_count": 349,
     "metadata": {},
     "output_type": "execute_result"
    }
   ],
   "source": [
    "#Для ограничения жадности необходимо указать символ ? после квантификатора. \n",
    "# В этом случае будут искаться самые короткие подстроки\n",
    "import re\n",
    "p=re.compile(r'<b>.*?</b>')\n",
    "p.findall(s)"
   ]
  },
  {
   "cell_type": "markdown",
   "metadata": {},
   "source": [
    "Если необходимо получить только содержимое тегов, то нужный фрагмент шаблона следует разместить внутри круглых скобок"
   ]
  },
  {
   "cell_type": "code",
   "execution_count": 350,
   "metadata": {},
   "outputs": [
    {
     "data": {
      "text/plain": [
       "['Text1', 'Text3']"
      ]
     },
     "execution_count": 350,
     "metadata": {},
     "output_type": "execute_result"
    }
   ],
   "source": [
    "import re\n",
    "p=re.compile(r'<b>(.*?)</b>')\n",
    "p.findall(s)"
   ]
  },
  {
   "cell_type": "markdown",
   "metadata": {},
   "source": [
    "Круглые скобки также часто используются для группировки фрагментов внутри шаблона. По умолчанию все фрагменты в скобках выводятся в результат. Чтобы избежать вывода конкретного фрагмента, следует после его открывающей круглой скобки разместить символы ?:"
   ]
  },
  {
   "cell_type": "code",
   "execution_count": 351,
   "metadata": {},
   "outputs": [
    {
     "name": "stdout",
     "output_type": "stream",
     "text": [
      "[('st', 'st', ''), ('xt', '', 'xt'), ('st', 'st', '')]\n",
      "[('test', 'st', 'st', ''), ('text', 'xt', '', 'xt'), ('contest', 'st', 'st', '')]\n"
     ]
    },
    {
     "data": {
      "text/plain": [
       "[('test', 'st'), ('text', 'xt'), ('contest', 'st')]"
      ]
     },
     "execution_count": 351,
     "metadata": {},
     "output_type": "execute_result"
    }
   ],
   "source": [
    "import re\n",
    "s = 'test tent text contest'\n",
    "p=re.compile(r'[a-z]+((st)|(xt))') #Выводятся только фрагменты, которые заключены в круглые скобки\n",
    "print(p.findall(s))\n",
    "\n",
    "p=re.compile(r'([a-z]+((st)|(xt)))') #За счет внешних скобок выводятся и целые слова, соответствующие паттерну\n",
    "print(p.findall(s))\n",
    "\n",
    "p=re.compile(r'([a-z]+((?:st)|(?:xt)))') #С помощью ?: во всех вложенных фрагментах на печать выводятся только целые слова\n",
    "p.findall(s)"
   ]
  },
  {
   "cell_type": "markdown",
   "metadata": {},
   "source": [
    "#### Привязка к началу строки или подстроки"
   ]
  },
  {
   "cell_type": "markdown",
   "metadata": {},
   "source": [
    "^ - привязка к началу строки или подстроки. Зависит от модификаторов M (или MULTILINE) и S (или DOTALL) <br>\n",
    "$ - привязка к концу строки или подстроки. Зависит от модификаторов M (или MULTILINE) и S (или DOTALL) <br>\n",
    "\\А - привязка к началу строки (не зависит от модификатора) <br>\n",
    "\\Z - привязка к концу строки (не зависит от модификатора). <br>\n",
    "(модификаторы рассматриваются ниже)"
   ]
  },
  {
   "cell_type": "code",
   "execution_count": 469,
   "metadata": {},
   "outputs": [
    {
     "name": "stdout",
     "output_type": "stream",
     "text": [
      "['help']\n",
      "[]\n"
     ]
    }
   ],
   "source": [
    "p = re.compile(r'^help') #Привязка к началу строки, т.е. проверка на соответствие начала строки заданному выражению\n",
    "s = 'help '\n",
    "print(p.findall(s))\n",
    "s = ' help'\n",
    "print(p.findall(s)) # Строка начинается с пробела, поэтому не соответствует регулярному выражению"
   ]
  },
  {
   "cell_type": "code",
   "execution_count": 470,
   "metadata": {},
   "outputs": [
    {
     "name": "stdout",
     "output_type": "stream",
     "text": [
      "[]\n",
      "['help']\n"
     ]
    }
   ],
   "source": [
    "p = re.compile(r'help$') #Привязка к концу строки (проверка на соответствие конца строки заданному выражению)\n",
    "s = 'help '\n",
    "print(p.findall(s))\n",
    "s = ' help'\n",
    "print(p.findall(s))"
   ]
  },
  {
   "cell_type": "markdown",
   "metadata": {},
   "source": [
    "При одновременном использовании привязок к началу и к концу строки, мы говорим, что ищем строку с данным количеством символов, которые соответствуют шаблону"
   ]
  },
  {
   "cell_type": "code",
   "execution_count": 213,
   "metadata": {},
   "outputs": [
    {
     "data": {
      "text/plain": [
       "['qwe']"
      ]
     },
     "execution_count": 213,
     "metadata": {},
     "output_type": "execute_result"
    }
   ],
   "source": [
    "import re\n",
    "p=re.compile(r'[a-zA-Zа-яА-Я]{3}') #Без привязок\n",
    "p.findall('2qwer')\n"
   ]
  },
  {
   "cell_type": "code",
   "execution_count": 471,
   "metadata": {},
   "outputs": [
    {
     "name": "stdout",
     "output_type": "stream",
     "text": [
      "[]\n",
      "['qwer']\n"
     ]
    }
   ],
   "source": [
    "import re\n",
    "p=re.compile(r'^[a-zA-Zа-яА-Я]{3}$') #С привязками\n",
    "print(p.findall('qwer'))\n",
    "p=re.compile(r'^[a-zA-Zа-яА-Я]{4}$')\n",
    "print(p.findall('qwer'))"
   ]
  },
  {
   "cell_type": "markdown",
   "metadata": {},
   "source": [
    "## Модификаторы "
   ]
  },
  {
   "cell_type": "markdown",
   "metadata": {},
   "source": [
    "При определении регулярного выражения в параметре <Модификатор> могут быть указаны следующие флаги (или их комбинация через оператор | ):"
   ]
  },
  {
   "cell_type": "markdown",
   "metadata": {},
   "source": [
    "* L или LOCALE- учитываются настройки текущей локали\n",
    "\n",
    "* I или IGNORECASE- поиск без учета регистра.\n",
    "\n",
    "* M или МULTILINE- поиск в строке, состоящей из нескольких подстрок, разделенных символом новой строки (\"\\n\"). Символ ^ соответствует привязке к началу каждой подстроки, а символ $ соответствует позиции перед символом перевода строки\n",
    "\n",
    "* S или DOTALL- метасимвол \"точка\" будет соответствовать любому символу, включая символ перевода строки {\\n). По умолчанию метасимвол \"точка\" не соответствует символу перевода строки. Символ ^ будет соответствовать привязке к началу всей строки, а cимвол $ - привязке к концу всей строки.\n",
    "\n",
    "* X или VERBOSE - Включает многословные (подробные) регулярные выражения, которые могут быть организованы более ясно и понятно. Если указан этот флаг, пробелы в строке регулярного выражения игнорируются, кроме случаев, когда они имеются в классе символов (напр. в квадратных скобках) или им предшествует неэкранированный бэкслеш; это позволяет организовать регулярные выражения более ясным образом. Этот флаг также позволяет помещать в регулярные выражения комментарии, начинающиеся с '#', которые будут игнорироваться движком."
   ]
  },
  {
   "cell_type": "code",
   "execution_count": 472,
   "metadata": {},
   "outputs": [
    {
     "data": {
      "text/plain": [
       "['QWE']"
      ]
     },
     "execution_count": 472,
     "metadata": {},
     "output_type": "execute_result"
    }
   ],
   "source": [
    "p = re.compile(r'[a-z]{3}', re.I) #Поиск без учета регистра\n",
    "s = 'QWE'\n",
    "p.findall(s)"
   ]
  },
  {
   "cell_type": "code",
   "execution_count": 196,
   "metadata": {},
   "outputs": [
    {
     "data": {
      "text/plain": [
       "(['40A2'], ['444a_banana293'], [])"
      ]
     },
     "execution_count": 196,
     "metadata": {},
     "output_type": "execute_result"
    }
   ],
   "source": [
    "import re\n",
    "p = re.compile(r'''\\d{1,2} #Ищем цифру или 2 цифры\n",
    "[a-z]? #Ищем 0-1 букву\n",
    "[\\w]+ #Ищем непробельные символы (более 1)\n",
    "''', re.X|re.I)\n",
    "p1 = re.compile(r'\\d{1,2}[a-z]?[\\w]+', re.I) # То же самое в строку: менее наглядно\n",
    "s = 'sss40A2'\n",
    "s1 = '444a_banana293'\n",
    "s2 = '4 banana'\n",
    "p.findall(s), p1.findall(s1), p.findall(s2)"
   ]
  },
  {
   "cell_type": "markdown",
   "metadata": {},
   "source": [
    "## Часто используемые методы"
   ]
  },
  {
   "cell_type": "markdown",
   "metadata": {},
   "source": [
    "* `re.match()` - Этот метод ищет по заданному шаблону в начале строки. Возвращает первое вхождение подстроки в виде объекта SRE_Match object, из которого:\n",
    "    * можно получить результирующую подстроку с помощью функции group\n",
    "    * индексы начальной и конечной позиции с помощью функций start() и end(), соответственно.\n",
    "* `re.search()` - Этот метод ищет по заданному шаблону во всей строке. Возвращает первое вхождение подстроки в виде объекта SRE_Match object, из которого:\n",
    "    * можно получить результирующую подстроку с помощью функции group\n",
    "    * индексы начальной и конечной позиции с помощью функций start() и end(), соответственно.\n",
    "* `re.findall()` - Этот метод возвращает список всех найденных совпадений (подстрок).\n",
    "* `re.split()` - Этот метод разделяет строку по заданному шаблону. Первый аргумент функции - регулярное выражение, обозначающее разделитель, второй аргумент - исходная строка.\n",
    "* `re.sub()` - Этот метод ищет шаблон в строке и заменяет его на указанную подстроку.\n",
    "* `re.compile()` - собирает регулярное выражение в отдельный объект, который может быть использован для поиска. Это также избавляет от переписывания одного и того же выражения."
   ]
  },
  {
   "cell_type": "markdown",
   "metadata": {},
   "source": [
    "### re.match(pattern, string)"
   ]
  },
  {
   "cell_type": "code",
   "execution_count": 473,
   "metadata": {},
   "outputs": [
    {
     "name": "stdout",
     "output_type": "stream",
     "text": [
      "None\n"
     ]
    }
   ],
   "source": [
    "result = re.match(r'Analytics', 'AV Analytics Vidhya AV')\n",
    "print(result)"
   ]
  },
  {
   "cell_type": "code",
   "execution_count": 474,
   "metadata": {
    "scrolled": true
   },
   "outputs": [
    {
     "name": "stdout",
     "output_type": "stream",
     "text": [
      "<re.Match object; span=(0, 2), match='AV'>\n",
      "AV\n",
      "Индекс начальной позиции найденной подстроки = 0, Индекс конечной позиции найденной подстроки = 2\n"
     ]
    }
   ],
   "source": [
    "result = re.match(r'AV', 'AV Analytics Vidhya AV')\n",
    "print(result)\n",
    "print(result.group())\n",
    "print(\"Индекс начальной позиции найденной подстроки = {}, \\\n",
    "Индекс конечной позиции найденной подстроки = {}\".format(result.start(), result.end()))"
   ]
  },
  {
   "cell_type": "markdown",
   "metadata": {},
   "source": [
    "### re.search(pattern, string)"
   ]
  },
  {
   "cell_type": "code",
   "execution_count": 475,
   "metadata": {},
   "outputs": [
    {
     "name": "stdout",
     "output_type": "stream",
     "text": [
      "Analytics\n"
     ]
    }
   ],
   "source": [
    "result = re.search(r'Analytics', 'AV Analytics Vidhya AV')\n",
    "print(result.group())"
   ]
  },
  {
   "cell_type": "code",
   "execution_count": 476,
   "metadata": {},
   "outputs": [
    {
     "name": "stdout",
     "output_type": "stream",
     "text": [
      "<re.Match object; span=(0, 2), match='AV'>\n",
      "AV\n",
      "Индекс начальной позиции найденной подстроки = 0, Индекс конечной позиции найденной подстроки = 2\n"
     ]
    }
   ],
   "source": [
    "result = re.search(r'AV', 'AV Analytics Vidhya AV')\n",
    "print(result)\n",
    "print(result.group(0))\n",
    "print(\"Индекс начальной позиции найденной подстроки = {}, \\\n",
    "Индекс конечной позиции найденной подстроки = {}\".format(result.start(), result.end()))"
   ]
  },
  {
   "cell_type": "markdown",
   "metadata": {},
   "source": [
    "Метод search() ищет по всей строке, но возвращает только первое найденное совпадение."
   ]
  },
  {
   "cell_type": "markdown",
   "metadata": {},
   "source": [
    "### re.findall(pattern, string)"
   ]
  },
  {
   "cell_type": "code",
   "execution_count": 477,
   "metadata": {},
   "outputs": [
    {
     "name": "stdout",
     "output_type": "stream",
     "text": [
      "['AV', 'AV']\n"
     ]
    }
   ],
   "source": [
    "result = re.findall(r'AV', 'AV Analytics Vidhya AV')\n",
    "print (result)"
   ]
  },
  {
   "cell_type": "markdown",
   "metadata": {},
   "source": [
    "### re.split(pattern, string, [maxsplit=0])"
   ]
  },
  {
   "cell_type": "code",
   "execution_count": 478,
   "metadata": {},
   "outputs": [
    {
     "name": "stdout",
     "output_type": "stream",
     "text": [
      "['Analy', 'ics']\n"
     ]
    }
   ],
   "source": [
    "result = re.split(r't', 'Analytics')\n",
    "print(result)"
   ]
  },
  {
   "cell_type": "markdown",
   "metadata": {},
   "source": [
    "С помощью модуля re можно задать несколько шаблонов и знаков, по которым нужно разбить одну строку"
   ]
  },
  {
   "cell_type": "code",
   "execution_count": 479,
   "metadata": {},
   "outputs": [
    {
     "name": "stdout",
     "output_type": "stream",
     "text": [
      "['User', 'Homework', 'Ivanov', 'docs']\n"
     ]
    }
   ],
   "source": [
    "import re\n",
    "result = re.split(r'\\.|\\\\|_', r'User\\Homework_Ivanov.docs')\n",
    "print(result)"
   ]
  },
  {
   "cell_type": "markdown",
   "metadata": {},
   "source": [
    "### re.sub(pattern, repl, string)### "
   ]
  },
  {
   "cell_type": "code",
   "execution_count": 480,
   "metadata": {},
   "outputs": [
    {
     "name": "stdout",
     "output_type": "stream",
     "text": [
      "AV is largest Analytics community of the World\n"
     ]
    }
   ],
   "source": [
    "result = re.sub(r'India', 'the World', 'AV is largest Analytics community of India')\n",
    "print (result)"
   ]
  },
  {
   "cell_type": "code",
   "execution_count": 481,
   "metadata": {},
   "outputs": [
    {
     "name": "stdout",
     "output_type": "stream",
     "text": [
      "We_don_t_need_no_education\n"
     ]
    }
   ],
   "source": [
    "result = re.sub(r'\\.|\\'| |,|=|-', '_', 'We don\\'t.need=no-education')\n",
    "print(result)"
   ]
  },
  {
   "cell_type": "markdown",
   "metadata": {},
   "source": [
    "### re.compile(pattern, repl, string)"
   ]
  },
  {
   "cell_type": "code",
   "execution_count": 483,
   "metadata": {
    "scrolled": false
   },
   "outputs": [
    {
     "data": {
      "text/plain": [
       "('We_don_t_need_no_education', ['We', 'don', 't', 'need', 'no', 'education'])"
      ]
     },
     "execution_count": 483,
     "metadata": {},
     "output_type": "execute_result"
    }
   ],
   "source": [
    "import re\n",
    "pattern = re.compile(r'\\.|\\'| |,|=|-')\n",
    "s = 'We don\\'t.need=no-education'\n",
    "pattern.sub('_', s), pattern.split(s)"
   ]
  },
  {
   "cell_type": "markdown",
   "metadata": {},
   "source": [
    "# Сегментация текста <a class=\"anchor\" id=\"сегментация-текста\"></a>\n",
    "-\n",
    "* [к оглавлению](#разделы)"
   ]
  },
  {
   "cell_type": "markdown",
   "metadata": {},
   "source": [
    "Рассмотрим следующие популярные задачи сегментации текста:\n",
    "* Определение границ предложения \n",
    "* Токенизация "
   ]
  },
  {
   "cell_type": "markdown",
   "metadata": {},
   "source": [
    "### Определение границ предложений <a class=\"anchor\" id=\"границ-предложений\"></a>\n",
    "-\n",
    "* [к оглавлению](#разделы)\n",
    "\n",
    "* Как автоматически определять границы предложений? Обычно определяются по точке, но:\n",
    "    * Точка - имеет много значений: \n",
    "        * граница предложения\n",
    "        * сокращение: “Dr.”, “U.S.A.” \n",
    "        * Разделитель в числах 3.14 \n",
    "        * ... \n",
    "    * Предложение может заканчиваться не только точкой:\n",
    "        * ./!/?/!?/!!!/... и т.д.\n",
    "        * разбор предложений с прямой и косвенной речью\n",
    "        * разбор предложений со списками \n",
    "        * на конце предложения может вообще не быть знаков препинания"
   ]
  },
  {
   "cell_type": "markdown",
   "metadata": {},
   "source": [
    "__Определение границ предложений__\n",
    "\n",
    "Рассмотрим задачу разрешения многозначности точки: \n",
    "* Задача сводится к классификации точки на два класса: конец предложения или нет. Есть два подхода:\n",
    "    * Подход основанный на правилах (rule-based). Пример правил:\n",
    "        * перед точкой и после нее стоят цифры -> не к.п.\n",
    "        * слово перед точкой есть в словаре сокращений -> не к.п.\n",
    "        * ... правил может быть очень много и постоянно будут находится новые исключения.\n",
    "    * Подход  основанный на машинном обучении (machine learning):\n",
    "        * решение задачи классификации одним из методов ML\n",
    "        \n",
    "Решение задач NLP на основе машинного обучения:\n",
    "\n",
    "Среди методов, применяемых в рамках подхода, выделяют методы обучения с учителем (supervised), методы обучения\n",
    "без учителя (unsupervised), методы частичного обучения с учителем (bootstrapping).\n",
    "\n",
    "* <em class=\"pl\"></em> ML не требует ручного труда по составлению правил и сокращает время разработки систем\n",
    "* <em class=\"mn\"></em> ML обчно предполагает наличие подходящего размеченного корпуса текстов, что не всегда возможно. Создание такого корпуса в любом случае требует значительных объемов ручного труда.\n",
    "* <em class=\"mn\"></em> модели (классификаторы) непрозрачны для понимания, т. к. не имеют явной лингвистической интерпретации     "
   ]
  },
  {
   "cell_type": "code",
   "execution_count": 484,
   "metadata": {},
   "outputs": [
    {
     "name": "stdout",
     "output_type": "stream",
     "text": [
      "3\n",
      "Постгуманизм — рациональное мировоззрение, основанное на представлении, что эволюция человека не завершена и может быть продолжена в будущем. Эволюционное развитие должно привести к становлению постчеловека — гипотетической стадии эволюции человеческого вида, строение и возможности которого стали бы отличными от современных человеческих в результате активного использования передовых технологий преобразования человека. Постгуманизм признаёт неотъемлемыми правами совершенствование человеческих возможностей (физиологических, интеллектуальных и т. п.) и достижение физического бессмертия. В отличие от трансгуманизма, под определением постгуманизма также понимается критика классического гуманизма, подчёркивающая изменение отношения человека к себе, обществу, окружающей среде и бурно развивающимся технологиям, но окончательно разница между транс- и постгуманизмом не определена и остаётся предметом дискуссий.\n",
      "\n"
     ]
    }
   ],
   "source": [
    "with open('phm.txt ') as f:\n",
    "    lines = [l for l in f]\n",
    "print(len(lines))\n",
    "print(lines[0])"
   ]
  },
  {
   "cell_type": "code",
   "execution_count": 485,
   "metadata": {},
   "outputs": [
    {
     "data": {
      "text/plain": [
       "['Постгуманизм — рациональное мировоззрение, основанное на представлении, что эволюция человека не завершена и может быть продолжена в будущем',\n",
       " ' Эволюционное развитие должно привести к становлению постчеловека — гипотетической стадии эволюции человеческого вида, строение и возможности которого стали бы отличными от современных человеческих в результате активного использования передовых технологий преобразования человека',\n",
       " ' Постгуманизм признаёт неотъемлемыми правами совершенствование человеческих возможностей (физиологических, интеллектуальных и т',\n",
       " ' п',\n",
       " ') и достижение физического бессмертия',\n",
       " ' В отличие от трансгуманизма, под определением постгуманизма также понимается критика классического гуманизма, подчёркивающая изменение отношения человека к себе, обществу, окружающей среде и бурно развивающимся технологиям, но окончательно разница между транс- и постгуманизмом не определена и остаётся предметом дискуссий',\n",
       " '\\n']"
      ]
     },
     "execution_count": 485,
     "metadata": {},
     "output_type": "execute_result"
    }
   ],
   "source": [
    "lines[0].split(\".\")"
   ]
  },
  {
   "cell_type": "code",
   "execution_count": 366,
   "metadata": {},
   "outputs": [],
   "source": [
    "import nltk # Natural Language Toolkit - русский язык поддерживается только в некоторых модулях"
   ]
  },
  {
   "cell_type": "code",
   "execution_count": 486,
   "metadata": {},
   "outputs": [
    {
     "name": "stdout",
     "output_type": "stream",
     "text": [
      "showing info https://raw.githubusercontent.com/nltk/nltk_data/gh-pages/index.xml\n"
     ]
    },
    {
     "data": {
      "text/plain": [
       "True"
      ]
     },
     "execution_count": 486,
     "metadata": {},
     "output_type": "execute_result"
    }
   ],
   "source": [
    "# Загрузка модулей и наборов данных NLTK:\n",
    "nltk.download()"
   ]
  },
  {
   "cell_type": "code",
   "execution_count": 487,
   "metadata": {},
   "outputs": [
    {
     "data": {
      "text/plain": [
       "['Постгуманизм — рациональное мировоззрение, основанное на представлении, что эволюция человека не завершена и может быть продолжена в будущем.',\n",
       " 'Эволюционное развитие должно привести к становлению постчеловека — гипотетической стадии эволюции человеческого вида, строение и возможности которого стали бы отличными от современных человеческих в результате активного использования передовых технологий преобразования человека.',\n",
       " 'Постгуманизм признаёт неотъемлемыми правами совершенствование человеческих возможностей (физиологических, интеллектуальных и т.',\n",
       " 'п.)',\n",
       " 'и достижение физического бессмертия.',\n",
       " 'В отличие от трансгуманизма, под определением постгуманизма также понимается критика классического гуманизма, подчёркивающая изменение отношения человека к себе, обществу, окружающей среде и бурно развивающимся технологиям, но окончательно разница между транс- и постгуманизмом не определена и остаётся предметом дискуссий.']"
      ]
     },
     "execution_count": 487,
     "metadata": {},
     "output_type": "execute_result"
    }
   ],
   "source": [
    "from nltk.tokenize import sent_tokenize\n",
    "sent_tokenize(lines[0])"
   ]
  },
  {
   "cell_type": "markdown",
   "metadata": {},
   "source": [
    "Даже сегментация строки на предложения очень зависит от языка!"
   ]
  },
  {
   "cell_type": "code",
   "execution_count": 488,
   "metadata": {},
   "outputs": [
    {
     "data": {
      "text/plain": [
       "['Hola amigo.', 'Estoy bien.']"
      ]
     },
     "execution_count": 488,
     "metadata": {},
     "output_type": "execute_result"
    }
   ],
   "source": [
    "# Так выглядит подключение токинизаторов для других языков в NLTK \n",
    "# (к сожалению в nltk.tokenize нет модуля для русского языка):\n",
    "spanish_tokenizer = nltk.data.load('tokenizers/punkt/spanish.pickle')\n",
    "spanish_tokenizer.tokenize('Hola amigo. Estoy bien.')"
   ]
  },
  {
   "cell_type": "markdown",
   "metadata": {},
   "source": [
    "__В каком виде лучше представлять результат сегментации?__\n",
    "\n",
    "Простая модель: список сегментов.\n",
    "* <em class=\"mn\"></em> если применяется несколько способов сегментации?\n",
    "* <em class=\"mn\"></em> как искать в тексте исходное расположение сегмента?\n",
    "\n",
    "Более общий способ представления результата анализа текстов - __модель аннотаций__. \n",
    "\n",
    "Аннотация - в общем случае тройка: \n",
    "* начало \n",
    "* конец \n",
    "* значение (не обязательно) "
   ]
  },
  {
   "cell_type": "code",
   "execution_count": 81,
   "metadata": {},
   "outputs": [
    {
     "name": "stdout",
     "output_type": "stream",
     "text": [
      "Collecting razdel\n",
      "  Downloading https://files.pythonhosted.org/packages/15/2c/664223a3924aa6e70479f7d37220b3a658765b9cfe760b4af7ffdc50d38f/razdel-0.5.0-py3-none-any.whl\n",
      "Installing collected packages: razdel\n",
      "Successfully installed razdel-0.5.0\n",
      "Note: you may need to restart the kernel to use updated packages.\n"
     ]
    }
   ],
   "source": [
    "%pip install razdel"
   ]
  },
  {
   "cell_type": "code",
   "execution_count": 489,
   "metadata": {},
   "outputs": [],
   "source": [
    "# разделение на основе правил\n",
    "# https://github.com/natasha/razdel\n",
    "from razdel import sentenize"
   ]
  },
  {
   "cell_type": "code",
   "execution_count": 490,
   "metadata": {},
   "outputs": [
    {
     "data": {
      "text/plain": [
       "[Substring(0,\n",
       "           141,\n",
       "           'Постгуманизм — рациональное мировоззрение, основанное на представлении, что эволюция человека не завершена и может быть продолжена в будущем.'),\n",
       " Substring(142,\n",
       "           421,\n",
       "           'Эволюционное развитие должно привести к становлению постчеловека — гипотетической стадии эволюции человеческого вида, строение и возможности которого стали бы отличными от современных человеческих в результате активного использования передовых технологий преобразования человека.'),\n",
       " Substring(422,\n",
       "           590,\n",
       "           'Постгуманизм признаёт неотъемлемыми правами совершенствование человеческих возможностей (физиологических, интеллектуальных и т. п.) и достижение физического бессмертия.'),\n",
       " Substring(591,\n",
       "           914,\n",
       "           'В отличие от трансгуманизма, под определением постгуманизма также понимается критика классического гуманизма, подчёркивающая изменение отношения человека к себе, обществу, окружающей среде и бурно развивающимся технологиям, но окончательно разница между транс- и постгуманизмом не определена и остаётся предметом дискуссий.')]"
      ]
     },
     "execution_count": 490,
     "metadata": {},
     "output_type": "execute_result"
    }
   ],
   "source": [
    "sent_0 = list(sentenize(lines[0]))\n",
    "sent_0"
   ]
  },
  {
   "cell_type": "code",
   "execution_count": 491,
   "metadata": {},
   "outputs": [
    {
     "data": {
      "text/plain": [
       "'Постгуманизм — рациональное мировоззрение, основанное на представлении, что эволюция человека не завершена и может быть продолжена в будущем.'"
      ]
     },
     "execution_count": 491,
     "metadata": {},
     "output_type": "execute_result"
    }
   ],
   "source": [
    "sent_0[0].text"
   ]
  },
  {
   "cell_type": "markdown",
   "metadata": {},
   "source": [
    "### Токенизация  <a class=\"anchor\" id=\"токенизация\"></a>\n",
    "-\n",
    "* [к оглавлению](#разделы)\n",
    "\n",
    "<em class=\"df\"></em> __Токенизация__ - разбиение строки на подстроки, которые мы рассматриваем как интересующие нас группы символов (токены).\n",
    "\n",
    "В NLP под токенизацией обычно понимают разбиение текста на слова, знаки препинания и т.д.\n",
    "\n",
    "Многозначность определения токена:\n",
    "* I’m - один токен или два? \n",
    "* won’t - один токен или два? \n",
    "* т.к. - один токен или два? \n",
    "\n",
    "Разрешение таких воп зависит от целей токенизации. Или (что хуже) от применяемой библиотеки."
   ]
  },
  {
   "cell_type": "code",
   "execution_count": 492,
   "metadata": {},
   "outputs": [
    {
     "data": {
      "text/plain": [
       "[Substring(0, 12, 'Постгуманизм'),\n",
       " Substring(13, 14, '—'),\n",
       " Substring(15, 27, 'рациональное'),\n",
       " Substring(28, 41, 'мировоззрение'),\n",
       " Substring(41, 42, ',')]"
      ]
     },
     "execution_count": 492,
     "metadata": {},
     "output_type": "execute_result"
    }
   ],
   "source": [
    "# токенизация русскоязычного текста с помощью библиотеки razdel:\n",
    "from razdel import tokenize\n",
    "tokens = list(tokenize(lines[0]))\n",
    "tokens[:5]"
   ]
  },
  {
   "cell_type": "code",
   "execution_count": 373,
   "metadata": {},
   "outputs": [
    {
     "data": {
      "text/plain": [
       "['Постгуманизм',\n",
       " '—',\n",
       " 'рациональное',\n",
       " 'мировоззрение',\n",
       " ',',\n",
       " 'основанное',\n",
       " 'на',\n",
       " 'представлении',\n",
       " ',',\n",
       " 'что',\n",
       " 'эволюция',\n",
       " 'человека',\n",
       " 'не',\n",
       " 'завершена',\n",
       " 'и',\n",
       " 'может',\n",
       " 'быть',\n",
       " 'продолжена',\n",
       " 'в',\n",
       " 'будущем',\n",
       " '.',\n",
       " 'Эволюционное',\n",
       " 'развитие',\n",
       " 'должно',\n",
       " 'привести',\n",
       " 'к',\n",
       " 'становлению',\n",
       " 'постчеловека',\n",
       " '—',\n",
       " 'гипотетической',\n",
       " 'стадии',\n",
       " 'эволюции',\n",
       " 'человеческого',\n",
       " 'вида',\n",
       " ',',\n",
       " 'строение',\n",
       " 'и',\n",
       " 'возможности',\n",
       " 'которого',\n",
       " 'стали',\n",
       " 'бы',\n",
       " 'отличными',\n",
       " 'от',\n",
       " 'современных',\n",
       " 'человеческих',\n",
       " 'в',\n",
       " 'результате',\n",
       " 'активного',\n",
       " 'использования',\n",
       " 'передовых',\n",
       " 'технологий',\n",
       " 'преобразования',\n",
       " 'человека',\n",
       " '.',\n",
       " 'Постгуманизм',\n",
       " 'признаёт',\n",
       " 'неотъемлемыми',\n",
       " 'правами',\n",
       " 'совершенствование',\n",
       " 'человеческих',\n",
       " 'возможностей',\n",
       " '(',\n",
       " 'физиологических',\n",
       " ',',\n",
       " 'интеллектуальных',\n",
       " 'и',\n",
       " 'т',\n",
       " '.',\n",
       " 'п',\n",
       " '.',\n",
       " ')',\n",
       " 'и',\n",
       " 'достижение',\n",
       " 'физического',\n",
       " 'бессмертия',\n",
       " '.',\n",
       " 'В',\n",
       " 'отличие',\n",
       " 'от',\n",
       " 'трансгуманизма',\n",
       " ',',\n",
       " 'под',\n",
       " 'определением',\n",
       " 'постгуманизма',\n",
       " 'также',\n",
       " 'понимается',\n",
       " 'критика',\n",
       " 'классического',\n",
       " 'гуманизма',\n",
       " ',',\n",
       " 'подчёркивающая',\n",
       " 'изменение',\n",
       " 'отношения',\n",
       " 'человека',\n",
       " 'к',\n",
       " 'себе',\n",
       " ',',\n",
       " 'обществу',\n",
       " ',',\n",
       " 'окружающей',\n",
       " 'среде',\n",
       " 'и',\n",
       " 'бурно',\n",
       " 'развивающимся',\n",
       " 'технологиям',\n",
       " ',',\n",
       " 'но',\n",
       " 'окончательно',\n",
       " 'разница',\n",
       " 'между',\n",
       " 'транс-',\n",
       " 'и',\n",
       " 'постгуманизмом',\n",
       " 'не',\n",
       " 'определена',\n",
       " 'и',\n",
       " 'остаётся',\n",
       " 'предметом',\n",
       " 'дискуссий',\n",
       " '.']"
      ]
     },
     "execution_count": 373,
     "metadata": {},
     "output_type": "execute_result"
    }
   ],
   "source": [
    "[_.text for _ in tokens]"
   ]
  },
  {
   "cell_type": "markdown",
   "metadata": {},
   "source": [
    "__Токинизатор tok-tok__\n",
    "\n",
    "__Токинизатор tok-tok__ простой токинизатор общего назначения. Он рассматривает только одно предложение в строке. Таким образом, только последняя точка в предложении рассматривается как токен.\n",
    "\n",
    "Tok-tok был протестирован и показал приемлемые результаты на следующих языках: \n",
    "* English\n",
    "* Persian\n",
    "* Russian\n",
    "* Czech\n",
    "* French\n",
    "* German\n",
    "* Vietnamese\n",
    "* Tajik\n",
    "* ... и некоторых других.\n",
    "\n",
    "Tok-tok принимает строку в кодировке UTF-8."
   ]
  },
  {
   "cell_type": "code",
   "execution_count": 494,
   "metadata": {},
   "outputs": [
    {
     "data": {
      "text/plain": [
       "['Постгуманизм',\n",
       " '—',\n",
       " 'рациональное',\n",
       " 'мировоззрение',\n",
       " ',',\n",
       " 'основанное',\n",
       " 'на',\n",
       " 'представлении',\n",
       " ',',\n",
       " 'что',\n",
       " 'эволюция',\n",
       " 'человека',\n",
       " 'не',\n",
       " 'завершена',\n",
       " 'и',\n",
       " 'может',\n",
       " 'быть',\n",
       " 'продолжена',\n",
       " 'в',\n",
       " 'будущем',\n",
       " '.']"
      ]
     },
     "execution_count": 494,
     "metadata": {},
     "output_type": "execute_result"
    }
   ],
   "source": [
    "from nltk.tokenize.toktok import ToktokTokenizer\n",
    "toktok = ToktokTokenizer()\n",
    "toktok.tokenize(sent_0[0].text)"
   ]
  },
  {
   "cell_type": "markdown",
   "metadata": {},
   "source": [
    "Более сложные задачи сегментации текста:\n",
    "\n",
    "Языки, где слова не разделяются пробелами: \n",
    "* \"\"\"两个月前遭受恐怖袭击的法国巴黎的犹太超市在装修之后周日重新开放，法国内政部长以及超市的管理者都表示，这显示了生命力要比野蛮行为更强大。\n",
    "该超市1月9日遭受枪手袭击，导致4人死亡，据悉这起事件与法国《查理周刊》杂志社恐怖袭击案有关。\n",
    "\"\"\" -> WordList(['两', '个', '月', '前', '遭受', '恐怖', '袭击', '的', '法国', '巴黎', '的', '犹太', '超市', '在', '装修', '之后', '周日', '重新', '开放', '，', '法国', '内政', '部长', '以及', '超市', '的', '管理者', '都', '表示', '，', '这', '显示', '了', '生命力', '要', '比', '野蛮', '行为', '更', '强大', '。', '该', '超市', '1', '月', '9', '日', '遭受', '枪手', '袭击', '，', '导致', '4', '人', '死亡', '，', '据悉', '这', '起', '事件', '与', '法国', '《', '查理', '周刊', '》', '杂志', '社', '恐怖', '袭击', '案', '有关', '。'])\n",
    "* В немецком языке возможны слова типа Donaudampfschifffahrtskapitän (капитан рейса, выполняемого пароходом по Дунаю), по сути состоящего из слов Dona (Дунай), Dampfschiff (пароход), Fahrt (рейс) и Kapitän (капитан). Если не выполнять разделение таких слов на составляющие слова, то документ не будет найден по запросам, содержащим слова, входящие в \"склеенные\" слова.\n",
    "\n",
    "Другие случаи:\n",
    "* #поставьмнелайк, #делайкакя, #серьгискристалламиростовнадону, ...\n",
    "* supernaturalflavors.com, babybirthdaygift.com, crosswordmagazines.com, купитьрозы.рф, ..."
   ]
  },
  {
   "cell_type": "markdown",
   "metadata": {},
   "source": [
    "# Работа со строками в numpy  <a class=\"anchor\" id=\"строками-numpy\"></a>\n",
    "-\n",
    "* [к оглавлению](#разделы)"
   ]
  },
  {
   "cell_type": "markdown",
   "metadata": {},
   "source": [
    "<center>         \n",
    "    <img src=\"./img/types1.png \" alt=\"Иерархия типов объектов, представляющих типы данных массивов Numpy\" style=\"width: 500px;\"/>\n",
    "    <b>Иерархия типов объектов, представляющих типы данных массивов Numpy </b>\n",
    "</center>\n",
    "\n",
    "В numpy для работы со строками предназначены типы:\n",
    "\n",
    "* `object_` \n",
    "* наследники абстрактного типа `character` (наследнк `flexible`): `bytes_`, `unicode_`\n",
    "    * представители типа имеют собственный размер (определяемый при задании максимальной длины строки в массиве)\n",
    "    * задаются как: `S#` - для `bytes_` (zero-terminated bytes) (аналог bytes, не рекомендован к использованию);`U#` - для `unicode_` (аналок str в Python3), на месте `#` натуральное число.\n",
    "    * автоматическое определение dtype для массива строк в numpy выполняется по самой длинной строке в массиве.\n",
    "    * максимальная длина строки `unicode_` не изменяется, попытка присвоить значение длиннее заданного значения приведет к обрезанию строки. \n",
    "    \n",
    "Пример:"
   ]
  },
  {
   "cell_type": "code",
   "execution_count": 375,
   "metadata": {},
   "outputs": [],
   "source": [
    "import numpy as np\n",
    "from sys import getsizeof"
   ]
  },
  {
   "cell_type": "code",
   "execution_count": 495,
   "metadata": {},
   "outputs": [],
   "source": [
    "country = np.array(['USA', 'Japan', 'UK', '', 'India', 'China'])"
   ]
  },
  {
   "cell_type": "code",
   "execution_count": 377,
   "metadata": {},
   "outputs": [
    {
     "data": {
      "text/plain": [
       "array(['USA', 'Japan', 'UK', '', 'India', 'China'], dtype='<U5')"
      ]
     },
     "execution_count": 377,
     "metadata": {},
     "output_type": "execute_result"
    }
   ],
   "source": [
    "country"
   ]
  },
  {
   "cell_type": "code",
   "execution_count": 378,
   "metadata": {},
   "outputs": [
    {
     "data": {
      "text/plain": [
       "(dtype('<U5'), 20, 120)"
      ]
     },
     "execution_count": 378,
     "metadata": {},
     "output_type": "execute_result"
    }
   ],
   "source": [
    "country.dtype, country.dtype.itemsize, country.nbytes"
   ]
  },
  {
   "cell_type": "code",
   "execution_count": 496,
   "metadata": {},
   "outputs": [
    {
     "name": "stdout",
     "output_type": "stream",
     "text": [
      "['USA' 'Japan' 'UK' 'New Z' 'India' 'China']\n"
     ]
    }
   ],
   "source": [
    "# Пробуем поменять пустую строку на строку 'New Zealand':\n",
    "country[country == ''] = 'New Zealand'\n",
    "print(country) # значение обрезатся по лимиту длины строки:"
   ]
  },
  {
   "cell_type": "markdown",
   "metadata": {},
   "source": [
    "_Способ решения \\#1: использование типа `objct_`_\n",
    "\n",
    "\n",
    "В случае использования `dtype=object` применяется иной механизм работы с массивом:\n",
    "* The memory taken by the array now is filled with pointers to Python objects which are being stored elsewhere in memory (much like a Python list is really just a list of pointers to objects, not the objects themselves).\n",
    "* object arrays behave more like usual Python lists, in the sense that __their contents need not be of the same Python type__.\n",
    "* The object type is also special because an array containing object_ items does not return an object_ object on item access, but instead __returns the actual object that the array item refers to__.\n",
    "\n",
    "Преимущества и недостатки:\n",
    "* <em class=\"pl\"></em> эффективно использует память в случае строк с существенно различающейся длинной (не резервирует лишнюю память).\n",
    "* <em class=\"pl\"></em> эффективно использует память в случае большого количества повторяющихся коротких строк (используется ссылка на один и тот же объкт)\n",
    "*  <em class=\"mn\"></em> для каждой строки создается новая ссылка, это существенные накладные расходы для коротких строк\n",
    "*  <em class=\"mn\"></em> отсутствие поддержки векторизованных строковых операций (vectorized string operations)\n",
    "*  <em class=\"mn\"></em> (НЕ изменяемость)??\n",
    "\n",
    "-\n",
    "\n",
    "array with dtype=object is different. The memory taken by the array now is filled with pointers to Python objects which are being stored elsewhere in memory (much like a Python list is really just a list of pointers to objects, not the objects themselves).\n",
    "\n",
    "Arithmetic operators such as * don't work with arrays such as ar1 \n",
    "\n",
    "\n",
    "object arrays behave more like usual Python lists, in the sense that their contents need not be of the same Python type.\n",
    "\n",
    "The object type is also special because an array containing object_ items does not return an object_ object on item access, but instead returns the actual object that the array item refers to.\n",
    "\n",
    "\n",
    "While creating the array assign the ‘object’ dtype to it. This lets you have all the behaviors of the python string."
   ]
  },
  {
   "cell_type": "code",
   "execution_count": 497,
   "metadata": {},
   "outputs": [
    {
     "data": {
      "text/plain": [
       "array(['USA', 'Japan', 'UK', '', 'India', 'China'], dtype=object)"
      ]
     },
     "execution_count": 497,
     "metadata": {},
     "output_type": "execute_result"
    }
   ],
   "source": [
    "country2 = np.array(['USA', 'Japan', 'UK', '', 'India', 'China'], dtype = 'object')\n",
    "country2"
   ]
  },
  {
   "cell_type": "code",
   "execution_count": 498,
   "metadata": {},
   "outputs": [
    {
     "data": {
      "text/plain": [
       "(dtype('O'), 8, 48)"
      ]
     },
     "execution_count": 498,
     "metadata": {},
     "output_type": "execute_result"
    }
   ],
   "source": [
    "country2.dtype, country2.dtype.itemsize, country2.nbytes"
   ]
  },
  {
   "cell_type": "code",
   "execution_count": 499,
   "metadata": {},
   "outputs": [
    {
     "data": {
      "text/plain": [
       "array(['USA', 'Japan', 'UK', 'New Zealand', 'India', 'China'],\n",
       "      dtype=object)"
      ]
     },
     "execution_count": 499,
     "metadata": {},
     "output_type": "execute_result"
    }
   ],
   "source": [
    "country2[country2 == ''] = 'New Zealand'\n",
    "country2"
   ]
  },
  {
   "cell_type": "code",
   "execution_count": 382,
   "metadata": {},
   "outputs": [
    {
     "data": {
      "text/plain": [
       "('New Zealand', 60)"
      ]
     },
     "execution_count": 382,
     "metadata": {},
     "output_type": "execute_result"
    }
   ],
   "source": [
    "country2[3], getsizeof(country2[3])"
   ]
  },
  {
   "cell_type": "markdown",
   "metadata": {},
   "source": [
    "_Способ решения \\#2:_\n",
    "\n",
    "* Изменяем dtype имеющегося массива с помощью функции `numpy.astype()` так, чтобы новая строка помещалась в заданный максимальный размер строки."
   ]
  },
  {
   "cell_type": "code",
   "execution_count": 500,
   "metadata": {},
   "outputs": [
    {
     "data": {
      "text/plain": [
       "array(['USA', 'Japan', 'UK', 'New Z', 'India', 'China'], dtype='<U256')"
      ]
     },
     "execution_count": 500,
     "metadata": {},
     "output_type": "execute_result"
    }
   ],
   "source": [
    "# копируем данные с преобразование типа:\n",
    "country3 = country.astype('U256')\n",
    "country3"
   ]
  },
  {
   "cell_type": "code",
   "execution_count": 501,
   "metadata": {},
   "outputs": [
    {
     "data": {
      "text/plain": [
       "(dtype('<U256'), 1024, 6144)"
      ]
     },
     "execution_count": 501,
     "metadata": {},
     "output_type": "execute_result"
    }
   ],
   "source": [
    "country3.dtype, country3.dtype.itemsize, country3.nbytes"
   ]
  },
  {
   "cell_type": "code",
   "execution_count": 502,
   "metadata": {},
   "outputs": [
    {
     "data": {
      "text/plain": [
       "array(['USA', 'Japan', 'UK', 'New Z', 'India', 'China'], dtype='<U256')"
      ]
     },
     "execution_count": 502,
     "metadata": {},
     "output_type": "execute_result"
    }
   ],
   "source": [
    "country3[country3 == ''] = 'New Zealand' \n",
    "country3"
   ]
  },
  {
   "cell_type": "markdown",
   "metadata": {},
   "source": [
    "_Способ решения \\#3:_\n",
    "\n",
    "Сразу создаем стрку нужного размера."
   ]
  },
  {
   "cell_type": "code",
   "execution_count": 230,
   "metadata": {},
   "outputs": [
    {
     "data": {
      "text/plain": [
       "array(['USA', 'Japan', 'UK', '', 'India', 'China'], dtype='<U256')"
      ]
     },
     "execution_count": 230,
     "metadata": {},
     "output_type": "execute_result"
    }
   ],
   "source": [
    "country4 = np.array(['USA', 'Japan', 'UK', '', 'India', 'China'], np.dtype(('U', 256))) # аналогично dtype='U256'\n",
    "country4"
   ]
  },
  {
   "cell_type": "code",
   "execution_count": 231,
   "metadata": {},
   "outputs": [
    {
     "data": {
      "text/plain": [
       "(dtype('<U256'), 1024, 6144)"
      ]
     },
     "execution_count": 231,
     "metadata": {},
     "output_type": "execute_result"
    }
   ],
   "source": [
    "country4.dtype, country4.dtype.itemsize, country4.nbytes"
   ]
  },
  {
   "cell_type": "code",
   "execution_count": 232,
   "metadata": {},
   "outputs": [
    {
     "data": {
      "text/plain": [
       "array(['USA', 'Japan', 'UK', 'New Zealand', 'India', 'China'],\n",
       "      dtype='<U256')"
      ]
     },
     "execution_count": 232,
     "metadata": {},
     "output_type": "execute_result"
    }
   ],
   "source": [
    "country4[country4 == ''] = 'New Zealand' \n",
    "country4"
   ]
  },
  {
   "cell_type": "markdown",
   "metadata": {},
   "source": [
    "### Сравниваем решения на датасетах"
   ]
  },
  {
   "cell_type": "code",
   "execution_count": 503,
   "metadata": {},
   "outputs": [],
   "source": [
    "import csv\n",
    "import pandas as pd"
   ]
  },
  {
   "cell_type": "code",
   "execution_count": 504,
   "metadata": {},
   "outputs": [],
   "source": [
    "ds1 = 'COVID.csv' # COVID Tweets\n",
    "ds2 = 'distinct_users_from_search_table_real_map.csv' # Tweeter Usernames"
   ]
  },
  {
   "cell_type": "code",
   "execution_count": 505,
   "metadata": {},
   "outputs": [
    {
     "data": {
      "text/html": [
       "<div>\n",
       "<style scoped>\n",
       "    .dataframe tbody tr th:only-of-type {\n",
       "        vertical-align: middle;\n",
       "    }\n",
       "\n",
       "    .dataframe tbody tr th {\n",
       "        vertical-align: top;\n",
       "    }\n",
       "\n",
       "    .dataframe thead th {\n",
       "        text-align: right;\n",
       "    }\n",
       "</style>\n",
       "<table border=\"1\" class=\"dataframe\">\n",
       "  <thead>\n",
       "    <tr style=\"text-align: right;\">\n",
       "      <th></th>\n",
       "      <th>Tweet Id</th>\n",
       "      <th>Tweet URL</th>\n",
       "      <th>Tweet Posted Time (UTC)</th>\n",
       "      <th>Tweet Content</th>\n",
       "      <th>Tweet Type</th>\n",
       "      <th>Client</th>\n",
       "      <th>Retweets Received</th>\n",
       "      <th>Likes Received</th>\n",
       "      <th>Tweet Location</th>\n",
       "      <th>Lat</th>\n",
       "      <th>...</th>\n",
       "      <th>User Id</th>\n",
       "      <th>Name</th>\n",
       "      <th>Screen Name</th>\n",
       "      <th>User Bio</th>\n",
       "      <th>Verified or Non-Verified</th>\n",
       "      <th>Profile URL</th>\n",
       "      <th>Protected or Non-protected</th>\n",
       "      <th>User Followers</th>\n",
       "      <th>User Following</th>\n",
       "      <th>User Account Creation Date</th>\n",
       "    </tr>\n",
       "  </thead>\n",
       "  <tbody>\n",
       "    <tr>\n",
       "      <td>0</td>\n",
       "      <td>\"1233417783175778304\"</td>\n",
       "      <td>https://twitter.com/Giussi92/status/1233417783...</td>\n",
       "      <td>28 Feb 2020 15:44:49</td>\n",
       "      <td>Also the entire Swiss Football League is on ho...</td>\n",
       "      <td>Tweet</td>\n",
       "      <td>Twitter for iPhone</td>\n",
       "      <td>0</td>\n",
       "      <td>0</td>\n",
       "      <td>NaN</td>\n",
       "      <td>NaN</td>\n",
       "      <td>...</td>\n",
       "      <td>\"1556856595\"</td>\n",
       "      <td>Giuseppe Gentile</td>\n",
       "      <td>Giussi92</td>\n",
       "      <td>NaN</td>\n",
       "      <td>Verified</td>\n",
       "      <td>https://twitter.com/Giussi92</td>\n",
       "      <td>Non-Protected</td>\n",
       "      <td>3071</td>\n",
       "      <td>100</td>\n",
       "      <td>30 Jun 2013 00:27:50</td>\n",
       "    </tr>\n",
       "    <tr>\n",
       "      <td>1</td>\n",
       "      <td>\"1233417742520332290\"</td>\n",
       "      <td>https://twitter.com/LAMofficial/status/1233417...</td>\n",
       "      <td>28 Feb 2020 15:44:40</td>\n",
       "      <td>World Health Org Official: Trump’s press confe...</td>\n",
       "      <td>Tweet</td>\n",
       "      <td>Twitter Web App</td>\n",
       "      <td>0</td>\n",
       "      <td>0</td>\n",
       "      <td>Los Angeles CA USA</td>\n",
       "      <td>NaN</td>\n",
       "      <td>...</td>\n",
       "      <td>\"113738369\"</td>\n",
       "      <td>London After Midnight</td>\n",
       "      <td>LAMofficial</td>\n",
       "      <td>London After Midnight is a music project by wr...</td>\n",
       "      <td>Verified</td>\n",
       "      <td>https://twitter.com/LAMofficial</td>\n",
       "      <td>Non-Protected</td>\n",
       "      <td>4189</td>\n",
       "      <td>84</td>\n",
       "      <td>12 Feb 2010 21:43:17</td>\n",
       "    </tr>\n",
       "    <tr>\n",
       "      <td>2</td>\n",
       "      <td>\"1233417741027225602\"</td>\n",
       "      <td>https://twitter.com/mitchellvii/status/1233417...</td>\n",
       "      <td>28 Feb 2020 15:44:39</td>\n",
       "      <td>I mean, Liberals are cheer-leading this #Coron...</td>\n",
       "      <td>Tweet</td>\n",
       "      <td>Twitter Web App</td>\n",
       "      <td>23</td>\n",
       "      <td>64</td>\n",
       "      <td>Miami, FL</td>\n",
       "      <td>NaN</td>\n",
       "      <td>...</td>\n",
       "      <td>\"17980523\"</td>\n",
       "      <td>Bill Mitchell</td>\n",
       "      <td>mitchellvii</td>\n",
       "      <td>Host of YourVoice™ America at http://yourvoice...</td>\n",
       "      <td>Verified</td>\n",
       "      <td>https://twitter.com/mitchellvii</td>\n",
       "      <td>Non-Protected</td>\n",
       "      <td>534045</td>\n",
       "      <td>10037</td>\n",
       "      <td>09 Dec 2008 01:54:21</td>\n",
       "    </tr>\n",
       "  </tbody>\n",
       "</table>\n",
       "<p>3 rows × 22 columns</p>\n",
       "</div>"
      ],
      "text/plain": [
       "                Tweet Id                                          Tweet URL  \\\n",
       "0  \"1233417783175778304\"  https://twitter.com/Giussi92/status/1233417783...   \n",
       "1  \"1233417742520332290\"  https://twitter.com/LAMofficial/status/1233417...   \n",
       "2  \"1233417741027225602\"  https://twitter.com/mitchellvii/status/1233417...   \n",
       "\n",
       "  Tweet Posted Time (UTC)                                      Tweet Content  \\\n",
       "0    28 Feb 2020 15:44:49  Also the entire Swiss Football League is on ho...   \n",
       "1    28 Feb 2020 15:44:40  World Health Org Official: Trump’s press confe...   \n",
       "2    28 Feb 2020 15:44:39  I mean, Liberals are cheer-leading this #Coron...   \n",
       "\n",
       "  Tweet Type              Client  Retweets Received  Likes Received  \\\n",
       "0      Tweet  Twitter for iPhone                  0               0   \n",
       "1      Tweet     Twitter Web App                  0               0   \n",
       "2      Tweet     Twitter Web App                 23              64   \n",
       "\n",
       "       Tweet Location  Lat  ...       User Id                   Name  \\\n",
       "0                 NaN  NaN  ...  \"1556856595\"       Giuseppe Gentile   \n",
       "1  Los Angeles CA USA  NaN  ...   \"113738369\"  London After Midnight   \n",
       "2           Miami, FL  NaN  ...    \"17980523\"          Bill Mitchell   \n",
       "\n",
       "   Screen Name                                           User Bio  \\\n",
       "0     Giussi92                                                NaN   \n",
       "1  LAMofficial  London After Midnight is a music project by wr...   \n",
       "2  mitchellvii  Host of YourVoice™ America at http://yourvoice...   \n",
       "\n",
       "  Verified or Non-Verified                      Profile URL  \\\n",
       "0                 Verified     https://twitter.com/Giussi92   \n",
       "1                 Verified  https://twitter.com/LAMofficial   \n",
       "2                 Verified  https://twitter.com/mitchellvii   \n",
       "\n",
       "  Protected or Non-protected User Followers User Following  \\\n",
       "0              Non-Protected           3071            100   \n",
       "1              Non-Protected           4189             84   \n",
       "2              Non-Protected         534045          10037   \n",
       "\n",
       "   User Account Creation Date  \n",
       "0        30 Jun 2013 00:27:50  \n",
       "1        12 Feb 2010 21:43:17  \n",
       "2        09 Dec 2008 01:54:21  \n",
       "\n",
       "[3 rows x 22 columns]"
      ]
     },
     "execution_count": 505,
     "metadata": {},
     "output_type": "execute_result"
    }
   ],
   "source": [
    "df1 = pd.read_csv(ds1)\n",
    "df1[:3]"
   ]
  },
  {
   "cell_type": "code",
   "execution_count": 506,
   "metadata": {},
   "outputs": [
    {
     "data": {
      "text/plain": [
       "60160"
      ]
     },
     "execution_count": 506,
     "metadata": {},
     "output_type": "execute_result"
    }
   ],
   "source": [
    "len(df1) # количество строк"
   ]
  },
  {
   "cell_type": "code",
   "execution_count": 507,
   "metadata": {},
   "outputs": [
    {
     "data": {
      "text/plain": [
       "{'Tweet Id': dtype('O'),\n",
       " 'Tweet URL': dtype('O'),\n",
       " 'Tweet Posted Time (UTC)': dtype('O'),\n",
       " 'Tweet Content': dtype('O'),\n",
       " 'Tweet Type': dtype('O'),\n",
       " 'Client': dtype('O'),\n",
       " 'Retweets Received': dtype('int64'),\n",
       " 'Likes Received': dtype('int64'),\n",
       " 'Tweet Location': dtype('O'),\n",
       " 'Lat': dtype('float64'),\n",
       " 'Long': dtype('float64'),\n",
       " 'Tweet Language': dtype('O'),\n",
       " 'User Id': dtype('O'),\n",
       " 'Name': dtype('O'),\n",
       " 'Screen Name': dtype('O'),\n",
       " 'User Bio': dtype('O'),\n",
       " 'Verified or Non-Verified': dtype('O'),\n",
       " 'Profile URL': dtype('O'),\n",
       " 'Protected or Non-protected': dtype('O'),\n",
       " 'User Followers': dtype('int64'),\n",
       " 'User Following': dtype('int64'),\n",
       " 'User Account Creation Date': dtype('O')}"
      ]
     },
     "execution_count": 507,
     "metadata": {},
     "output_type": "execute_result"
    }
   ],
   "source": [
    "dict(df1.dtypes) # типы столбцов"
   ]
  },
  {
   "cell_type": "code",
   "execution_count": 508,
   "metadata": {},
   "outputs": [
    {
     "data": {
      "text/plain": [
       "0    Also the entire Swiss Football League is on ho...\n",
       "1    World Health Org Official: Trump’s press confe...\n",
       "2    I mean, Liberals are cheer-leading this #Coron...\n",
       "Name: Tweet Content, dtype: object"
      ]
     },
     "execution_count": 508,
     "metadata": {},
     "output_type": "execute_result"
    }
   ],
   "source": [
    "df1['Tweet Content'][:3]"
   ]
  },
  {
   "cell_type": "code",
   "execution_count": 509,
   "metadata": {},
   "outputs": [
    {
     "name": "stdout",
     "output_type": "stream",
     "text": [
      "Also the entire Swiss Football League is on hold. Postponing games from the professional and amateur level... #coronavirus https://t.co/UShMuqnAVC\n",
      "World Health Org Official: Trump’s press conference on #coronavirus ‘incoherent’\n",
      "World Health Organization Special Adviser to the Director Dr. Ezekiel Emanuel says \"I found most of what [Trump] said incoherent.\"\n",
      "https://t.co/v4WIBW9Fld\n",
      "I mean, Liberals are cheer-leading this #Coronavirus like it's their high school football team.\n",
      "\n",
      "#TDS\n"
     ]
    }
   ],
   "source": [
    "for t in df1['Tweet Content'][:3]:\n",
    "    print(t)"
   ]
  },
  {
   "cell_type": "code",
   "execution_count": 510,
   "metadata": {},
   "outputs": [
    {
     "data": {
      "text/plain": [
       "array(['Also the entire Swiss Football League is on hold. Postponing games from the professional and amateur level... #coronavirus https://t.co/UShMuqnAVC',\n",
       "       'World Health Org Official: Trump’s press conference on #coronavirus ‘incoherent’\\nWorld Health Organization Special Adviser to the Director Dr. Ezekiel Emanuel says \"I found most of what [Trump] said incoherent.\"\\nhttps://t.co/v4WIBW9Fld',\n",
       "       \"I mean, Liberals are cheer-leading this #Coronavirus like it's their high school football team.\\n\\n#TDS\"],\n",
       "      dtype=object)"
      ]
     },
     "execution_count": 510,
     "metadata": {},
     "output_type": "execute_result"
    }
   ],
   "source": [
    "tweets_txt_obj_arr = np.array(df1['Tweet Content'])\n",
    "tweets_txt_obj_arr[:3]"
   ]
  },
  {
   "cell_type": "code",
   "execution_count": 511,
   "metadata": {},
   "outputs": [
    {
     "data": {
      "text/plain": [
       "(60160, dtype('O'))"
      ]
     },
     "execution_count": 511,
     "metadata": {},
     "output_type": "execute_result"
    }
   ],
   "source": [
    "len(tweets_txt_obj_arr), tweets_txt_obj_arr.dtype # dtype: 'object'"
   ]
  },
  {
   "cell_type": "code",
   "execution_count": 512,
   "metadata": {},
   "outputs": [
    {
     "data": {
      "text/plain": [
       "(195, 544)"
      ]
     },
     "execution_count": 512,
     "metadata": {},
     "output_type": "execute_result"
    }
   ],
   "source": [
    "getsizeof(tweets_txt_obj_arr[0]), getsizeof(tweets_txt_obj_arr[1])"
   ]
  },
  {
   "cell_type": "code",
   "execution_count": 513,
   "metadata": {},
   "outputs": [
    {
     "data": {
      "text/plain": [
       "(9572846, 481376)"
      ]
     },
     "execution_count": 513,
     "metadata": {},
     "output_type": "execute_result"
    }
   ],
   "source": [
    "sum(getsizeof(tweets_txt) for tweets_txt in set(tweets_txt_obj_arr)), getsizeof(tweets_txt_obj_arr)"
   ]
  },
  {
   "cell_type": "code",
   "execution_count": 514,
   "metadata": {},
   "outputs": [
    {
     "data": {
      "text/plain": [
       "922"
      ]
     },
     "execution_count": 514,
     "metadata": {},
     "output_type": "execute_result"
    }
   ],
   "source": [
    "max_tweet_len = max(len(s) for s in tweets_txt_obj_arr)\n",
    "max_tweet_len"
   ]
  },
  {
   "cell_type": "code",
   "execution_count": 515,
   "metadata": {},
   "outputs": [
    {
     "data": {
      "text/plain": [
       "(60160, dtype('<U922'), 221870176)"
      ]
     },
     "execution_count": 515,
     "metadata": {},
     "output_type": "execute_result"
    }
   ],
   "source": [
    "tweets_txt_u_arr = tweets_txt_obj_arr.astype(np.dtype(('U', max_tweet_len)))\n",
    "len(tweets_txt_u_arr), tweets_txt_u_arr.dtype, getsizeof(tweets_txt_u_arr)"
   ]
  },
  {
   "cell_type": "code",
   "execution_count": 516,
   "metadata": {},
   "outputs": [
    {
     "data": {
      "text/html": [
       "<div>\n",
       "<style scoped>\n",
       "    .dataframe tbody tr th:only-of-type {\n",
       "        vertical-align: middle;\n",
       "    }\n",
       "\n",
       "    .dataframe tbody tr th {\n",
       "        vertical-align: top;\n",
       "    }\n",
       "\n",
       "    .dataframe thead th {\n",
       "        text-align: right;\n",
       "    }\n",
       "</style>\n",
       "<table border=\"1\" class=\"dataframe\">\n",
       "  <thead>\n",
       "    <tr style=\"text-align: right;\">\n",
       "      <th></th>\n",
       "      <th>user_id</th>\n",
       "      <th>user_screen_name</th>\n",
       "      <th>indegree</th>\n",
       "      <th>outdegree</th>\n",
       "      <th>bad_user_id</th>\n",
       "    </tr>\n",
       "  </thead>\n",
       "  <tbody>\n",
       "    <tr>\n",
       "      <td>0</td>\n",
       "      <td>147240385</td>\n",
       "      <td>Barra_Fake</td>\n",
       "      <td>540</td>\n",
       "      <td>34</td>\n",
       "      <td>119586070</td>\n",
       "    </tr>\n",
       "    <tr>\n",
       "      <td>1</td>\n",
       "      <td>97515585</td>\n",
       "      <td>Thamiris1996</td>\n",
       "      <td>229</td>\n",
       "      <td>294</td>\n",
       "      <td>86129642</td>\n",
       "    </tr>\n",
       "    <tr>\n",
       "      <td>2</td>\n",
       "      <td>164770319</td>\n",
       "      <td>ReehMuruci</td>\n",
       "      <td>3821</td>\n",
       "      <td>2827</td>\n",
       "      <td>132235657</td>\n",
       "    </tr>\n",
       "  </tbody>\n",
       "</table>\n",
       "</div>"
      ],
      "text/plain": [
       "     user_id user_screen_name  indegree  outdegree  bad_user_id\n",
       "0  147240385       Barra_Fake       540         34    119586070\n",
       "1   97515585     Thamiris1996       229        294     86129642\n",
       "2  164770319       ReehMuruci      3821       2827    132235657"
      ]
     },
     "execution_count": 516,
     "metadata": {},
     "output_type": "execute_result"
    }
   ],
   "source": [
    "# Второй датасет\n",
    "df2 = pd.read_csv(ds2)\n",
    "df2[:3]"
   ]
  },
  {
   "cell_type": "code",
   "execution_count": 517,
   "metadata": {},
   "outputs": [
    {
     "data": {
      "text/plain": [
       "(736930,\n",
       " {'user_id': dtype('int64'),\n",
       "  'user_screen_name': dtype('O'),\n",
       "  'indegree': dtype('int64'),\n",
       "  'outdegree': dtype('int64'),\n",
       "  'bad_user_id': dtype('int64')})"
      ]
     },
     "execution_count": 517,
     "metadata": {},
     "output_type": "execute_result"
    }
   ],
   "source": [
    "len(df2), dict(df2.dtypes)"
   ]
  },
  {
   "cell_type": "code",
   "execution_count": 518,
   "metadata": {},
   "outputs": [
    {
     "data": {
      "text/plain": [
       "array(['Barra_Fake', 'Thamiris1996', 'ReehMuruci'], dtype=object)"
      ]
     },
     "execution_count": 518,
     "metadata": {},
     "output_type": "execute_result"
    }
   ],
   "source": [
    "tweets_nickname_obj_arr = np.array(df2['user_screen_name'])\n",
    "tweets_nickname_obj_arr[:3]"
   ]
  },
  {
   "cell_type": "code",
   "execution_count": 519,
   "metadata": {},
   "outputs": [
    {
     "data": {
      "text/plain": [
       "(736930, dtype('O'))"
      ]
     },
     "execution_count": 519,
     "metadata": {},
     "output_type": "execute_result"
    }
   ],
   "source": [
    "len(tweets_nickname_obj_arr), tweets_nickname_obj_arr.dtype"
   ]
  },
  {
   "cell_type": "code",
   "execution_count": 520,
   "metadata": {},
   "outputs": [
    {
     "data": {
      "text/plain": [
       "15"
      ]
     },
     "execution_count": 520,
     "metadata": {},
     "output_type": "execute_result"
    }
   ],
   "source": [
    "max_nickname_len = max(len(s) for s in tweets_nickname_obj_arr)\n",
    "max_nickname_len"
   ]
  },
  {
   "cell_type": "code",
   "execution_count": 521,
   "metadata": {},
   "outputs": [
    {
     "data": {
      "text/plain": [
       "(736930, dtype('<U15'))"
      ]
     },
     "execution_count": 521,
     "metadata": {},
     "output_type": "execute_result"
    }
   ],
   "source": [
    "tweets_nickname_u_arr = tweets_nickname_obj_arr.astype(np.dtype(('U', max_nickname_len)))\n",
    "len(tweets_nickname_u_arr), tweets_nickname_u_arr.dtype"
   ]
  },
  {
   "cell_type": "markdown",
   "metadata": {},
   "source": [
    "* Модуль char для работы со строками: https://numpy.org/doc/stable/reference/routines.char.html\n",
    "    * функции np.char являются тонкими обертками над методами Python string.\n",
    "    * Методы String operations возвращают новый массив."
   ]
  },
  {
   "cell_type": "code",
   "execution_count": 522,
   "metadata": {},
   "outputs": [],
   "source": [
    "import numba\n",
    "from numba import jit, njit"
   ]
  },
  {
   "cell_type": "markdown",
   "metadata": {},
   "source": [
    "Датасет 1:"
   ]
  },
  {
   "cell_type": "code",
   "execution_count": 523,
   "metadata": {},
   "outputs": [
    {
     "name": "stdout",
     "output_type": "stream",
     "text": [
      "222 ms ± 1.38 ms per loop (mean ± std. dev. of 7 runs, 1 loop each)\n"
     ]
    }
   ],
   "source": [
    "%%timeit\n",
    "np.average(np.char.str_len(tweets_txt_u_arr))"
   ]
  },
  {
   "cell_type": "code",
   "execution_count": 524,
   "metadata": {},
   "outputs": [
    {
     "name": "stdout",
     "output_type": "stream",
     "text": [
      "217.61427859042553\n"
     ]
    }
   ],
   "source": [
    "print(np.average(np.char.str_len(tweets_txt_u_arr)))"
   ]
  },
  {
   "cell_type": "code",
   "execution_count": 525,
   "metadata": {},
   "outputs": [
    {
     "name": "stdout",
     "output_type": "stream",
     "text": [
      "221 ms ± 1.66 ms per loop (mean ± std. dev. of 7 runs, 1 loop each)\n"
     ]
    }
   ],
   "source": [
    "%%timeit\n",
    "np.sum(np.char.str_len(tweets_txt_u_arr))/len(tweets_txt_u_arr)"
   ]
  },
  {
   "cell_type": "code",
   "execution_count": 526,
   "metadata": {},
   "outputs": [
    {
     "name": "stdout",
     "output_type": "stream",
     "text": [
      "217.61427859042553\n"
     ]
    }
   ],
   "source": [
    "print(np.sum(np.char.str_len(tweets_txt_u_arr))/len(tweets_txt_u_arr))"
   ]
  },
  {
   "cell_type": "code",
   "execution_count": 527,
   "metadata": {},
   "outputs": [
    {
     "name": "stdout",
     "output_type": "stream",
     "text": [
      "9.61 ms ± 149 µs per loop (mean ± std. dev. of 7 runs, 100 loops each)\n"
     ]
    }
   ],
   "source": [
    "%%timeit\n",
    "sum(len(s) for s in tweets_txt_obj_arr) / len(tweets_txt_obj_arr)"
   ]
  },
  {
   "cell_type": "code",
   "execution_count": 528,
   "metadata": {},
   "outputs": [
    {
     "data": {
      "text/plain": [
       "217.61427859042553"
      ]
     },
     "execution_count": 528,
     "metadata": {},
     "output_type": "execute_result"
    }
   ],
   "source": [
    "sum(len(s) for s in tweets_txt_obj_arr) / len(tweets_txt_obj_arr)"
   ]
  },
  {
   "cell_type": "code",
   "execution_count": 529,
   "metadata": {},
   "outputs": [],
   "source": [
    "# работа со строками в numpy плохо поддерживается в numba:\n",
    "@jit\n",
    "def avg_len(s_arr):\n",
    "    la = np.char.str_len(tweets_txt_u_arr)\n",
    "    return np.average(la)"
   ]
  },
  {
   "cell_type": "markdown",
   "metadata": {},
   "source": [
    "Датасет 2:"
   ]
  },
  {
   "cell_type": "code",
   "execution_count": 530,
   "metadata": {},
   "outputs": [
    {
     "name": "stdout",
     "output_type": "stream",
     "text": [
      "336 ms ± 3.23 ms per loop (mean ± std. dev. of 7 runs, 1 loop each)\n"
     ]
    }
   ],
   "source": [
    "%%timeit\n",
    "np.average(np.char.str_len(tweets_nickname_u_arr))"
   ]
  },
  {
   "cell_type": "code",
   "execution_count": 531,
   "metadata": {},
   "outputs": [
    {
     "data": {
      "text/plain": [
       "10.16212123268153"
      ]
     },
     "execution_count": 531,
     "metadata": {},
     "output_type": "execute_result"
    }
   ],
   "source": [
    "np.average(np.char.str_len(tweets_nickname_u_arr))"
   ]
  },
  {
   "cell_type": "code",
   "execution_count": 532,
   "metadata": {},
   "outputs": [
    {
     "name": "stdout",
     "output_type": "stream",
     "text": [
      "98.2 ms ± 203 µs per loop (mean ± std. dev. of 7 runs, 10 loops each)\n"
     ]
    }
   ],
   "source": [
    "%%timeit\n",
    "sum(len(s) for s in tweets_nickname_obj_arr) / len(tweets_nickname_obj_arr)"
   ]
  },
  {
   "cell_type": "code",
   "execution_count": 533,
   "metadata": {},
   "outputs": [
    {
     "data": {
      "text/plain": [
       "10.16212123268153"
      ]
     },
     "execution_count": 533,
     "metadata": {},
     "output_type": "execute_result"
    }
   ],
   "source": [
    "sum(len(s) for s in tweets_nickname_obj_arr) / len(tweets_nickname_obj_arr)"
   ]
  },
  {
   "cell_type": "markdown",
   "metadata": {},
   "source": [
    "Эксперимент с более сложным методом:"
   ]
  },
  {
   "cell_type": "code",
   "execution_count": 534,
   "metadata": {},
   "outputs": [
    {
     "name": "stdout",
     "output_type": "stream",
     "text": [
      "280 ms ± 1.43 ms per loop (mean ± std. dev. of 7 runs, 1 loop each)\n"
     ]
    }
   ],
   "source": [
    "%%timeit\n",
    "(np.char.find(tweets_txt_u_arr, 'for') > -1).sum()"
   ]
  },
  {
   "cell_type": "code",
   "execution_count": 535,
   "metadata": {},
   "outputs": [
    {
     "data": {
      "text/plain": [
       "10488"
      ]
     },
     "execution_count": 535,
     "metadata": {},
     "output_type": "execute_result"
    }
   ],
   "source": [
    "(np.char.find(tweets_txt_u_arr, 'for') > -1).sum()"
   ]
  },
  {
   "cell_type": "code",
   "execution_count": 536,
   "metadata": {},
   "outputs": [
    {
     "name": "stdout",
     "output_type": "stream",
     "text": [
      "32.1 ms ± 383 µs per loop (mean ± std. dev. of 7 runs, 10 loops each)\n"
     ]
    }
   ],
   "source": [
    "%%timeit\n",
    "sum(1 for s in tweets_txt_obj_arr if s.find('for')>-1)"
   ]
  },
  {
   "cell_type": "code",
   "execution_count": 537,
   "metadata": {},
   "outputs": [
    {
     "data": {
      "text/plain": [
       "10488"
      ]
     },
     "execution_count": 537,
     "metadata": {},
     "output_type": "execute_result"
    }
   ],
   "source": [
    "sum(1 for s in tweets_txt_obj_arr if s.find('for')>-1)"
   ]
  },
  {
   "cell_type": "code",
   "execution_count": 538,
   "metadata": {},
   "outputs": [
    {
     "data": {
      "text/plain": [
       "2"
      ]
     },
     "execution_count": 538,
     "metadata": {},
     "output_type": "execute_result"
    }
   ],
   "source": [
    "sum(1 for c in 'abcd' if c > 'b')"
   ]
  },
  {
   "cell_type": "code",
   "execution_count": 539,
   "metadata": {
    "scrolled": false
   },
   "outputs": [
    {
     "name": "stdout",
     "output_type": "stream",
     "text": [
      "10.16212123268153\n"
     ]
    }
   ],
   "source": [
    "print(sum(len(s) for s in tweets_nickname_obj_arr) / len(tweets_nickname_obj_arr))"
   ]
  },
  {
   "cell_type": "markdown",
   "metadata": {},
   "source": [
    "## Хэширование строк <a class=\"anchor\" id=\"хэширование-строк\"></a>\n",
    "-\n",
    "* [к оглавлению](#разделы)"
   ]
  },
  {
   "cell_type": "markdown",
   "metadata": {},
   "source": [
    "<em class=\"df\"></em> __Хеш-функция__ - выполняет преобразование массива входных данных произвольной длины (ключа, сообщения) в (выходную) битовую строку установленной длины (хеш, хеш-код, хеш-сумму).\n",
    "\n",
    "Хеш-функции применяются в следующих задачах:\n",
    "\n",
    "* построение ассоциативных массивов;\n",
    "* поиске дубликатов в сериях наборов данных;\n",
    "* построение уникальных идентификаторов для наборов данных;\n",
    "* вычислении контрольных сумм от данных (сигнала) для последующего обнаружения в них ошибок (возникших случайно или внесённых намеренно), возникающих при хранении и/или передаче данных;\n",
    "* сохранении паролей в системах защиты в виде хеш-кода (для восстановления пароля по хеш-коду требуется функция, являющаяся обратной по отношению к использованной хеш-функции);\n",
    "* выработке электронной подписи (на практике часто подписывается не само сообщение, а его «хеш-образ»);\n",
    "* ...и многих других.\n",
    "\n",
    "Для решения различных задач требования к хеш-функциям могут очень существенно отличаться.\n",
    "\n",
    "\"Хорошая\" хеш-функция должна удовлетворять двум свойствам:\n",
    "\n",
    "* быстрое вычисление;\n",
    "* минимальное количество коллизий.\n",
    "\n",
    "<em class=\"df\"></em> __Кллизией__ называется ситуация, когда два ключа могут быть хешированы одну и ту же ячейку.\n",
    "\n",
    "При построении хеш-функции хорошим подходом является подбор функции таким образом, чтобы она никак __не коррелировала с закономерностями__, которым могут подчиняться существующие данные. Например, мы можем потребовать, чтобы __\"близкие\" в некотором смысле ключи давали далекие хеш-значения__ (например, хеш функция для подряд идущих целых чисел давала далекие хеш-значения). В некоторых приложениях хеш-функций требуется противоположное свойство - непрерывность (близкие ключи длолжны порождать близкие хеш-значения).\n",
    "\n",
    "Обычно от хеш-функций ожидается, что значения хеш-функции находиятся в диапазоне от 0 до $m-1$. Причём, часто удобно, есчли $m=2^n$. Таким образом значение хеш-функции может, например, без преобразований хранится в машинном слове."
   ]
  },
  {
   "cell_type": "markdown",
   "metadata": {},
   "source": [
    "__Использование хэш-функций \"в быту\"__\n",
    "\n",
    "Если строки используются в качестве уникальных идентификаторов, то они могут быть заменены на хэш-значения. Минус: риск возникнования коллизии.\n",
    "\n",
    "Проблема __Birthday attack__:\n",
    "* Парадокс дней рождения: в группе, состоящей из 23 или более человек, вероятность совпадения дней рождения (число и месяц) хотя бы у двух людей превышает 50 %.\n",
    "\n",
    "\n",
    "<center>         \n",
    "    <img src=\"./img/birthday_par.png \" alt=\"График зависимости\" style=\"width: 450px;\"/>\n",
    "    <b>График зависимости вероятности совпадения дней рождения хотя бы у двух человек от количества людей</b>\n",
    "</center>\n",
    "\n",
    "\n",
    "<center>         \n",
    "    <img src=\"./img/hash_prob.png \" alt=\"График зависимости\" style=\"width: 1200px;\"/>\n",
    "    <b>Количество хешей n(P) необходимых для достижения заданной вероятности успеха - коллизии (в предположении, что все хеши одинаково вероятны)</b>\n",
    "</center>\n",
    "\n",
    "* Для сравнения, от $10^{−18}$ до $10^{−15}$ — некорректируемый коэффициент ошибок на бит типичного жесткого диска.\n",
    "* Теоретически, MD5 хеши или UUID, составляющий 128 бит, должны оставаться в пределах этого диапазона до примерно 820 миллиардов документов, даже если его возможные результаты намного больше.\n",
    "* максимальное значение int 32 (знакового): 2 147 483 647 (включительно).\n",
    "* максимальное значение int 64 (знакового): 9 223 372 036' 854 775 807 (включительно)."
   ]
  },
  {
   "cell_type": "code",
   "execution_count": 540,
   "metadata": {},
   "outputs": [
    {
     "data": {
      "text/plain": [
       "6268589131895341199"
      ]
     },
     "execution_count": 540,
     "metadata": {},
     "output_type": "execute_result"
    }
   ],
   "source": [
    "# использовать для контрольной суммы функцию hash() не рекомендуется \n",
    "# т.к. при повторном запуске скрипта hash() вернет другое значение\n",
    "hash('Hello world!')"
   ]
  },
  {
   "cell_type": "code",
   "execution_count": 541,
   "metadata": {},
   "outputs": [],
   "source": [
    "import hashlib"
   ]
  },
  {
   "cell_type": "code",
   "execution_count": 542,
   "metadata": {},
   "outputs": [
    {
     "data": {
      "text/plain": [
       "{'blake2b',\n",
       " 'blake2b512',\n",
       " 'blake2s',\n",
       " 'blake2s256',\n",
       " 'md4',\n",
       " 'md5',\n",
       " 'md5-sha1',\n",
       " 'mdc2',\n",
       " 'ripemd160',\n",
       " 'sha1',\n",
       " 'sha224',\n",
       " 'sha256',\n",
       " 'sha3-224',\n",
       " 'sha3-256',\n",
       " 'sha3-384',\n",
       " 'sha3-512',\n",
       " 'sha384',\n",
       " 'sha3_224',\n",
       " 'sha3_256',\n",
       " 'sha3_384',\n",
       " 'sha3_512',\n",
       " 'sha512',\n",
       " 'sha512-224',\n",
       " 'sha512-256',\n",
       " 'shake128',\n",
       " 'shake256',\n",
       " 'shake_128',\n",
       " 'shake_256',\n",
       " 'sm3',\n",
       " 'whirlpool'}"
      ]
     },
     "execution_count": 542,
     "metadata": {},
     "output_type": "execute_result"
    }
   ],
   "source": [
    "hashlib.algorithms_available"
   ]
  },
  {
   "cell_type": "code",
   "execution_count": 543,
   "metadata": {},
   "outputs": [
    {
     "data": {
      "text/plain": [
       "6268589131895341199"
      ]
     },
     "execution_count": 543,
     "metadata": {},
     "output_type": "execute_result"
    }
   ],
   "source": [
    "hash('Hello world!')"
   ]
  },
  {
   "cell_type": "code",
   "execution_count": 544,
   "metadata": {},
   "outputs": [
    {
     "data": {
      "text/plain": [
       "('b10a8db164e0754105b7a99be72e3fe5', str)"
      ]
     },
     "execution_count": 544,
     "metadata": {},
     "output_type": "execute_result"
    }
   ],
   "source": [
    "hash_object = hashlib.md5(b'Hello World') # строки unicode (str) без перевода в кодировку не принимаются\n",
    "hd = hash_object.hexdigest()\n",
    "hd, type(hd)"
   ]
  },
  {
   "cell_type": "code",
   "execution_count": 545,
   "metadata": {},
   "outputs": [
    {
     "data": {
      "text/plain": [
       "(b'\\xb1\\n\\x8d\\xb1d\\xe0uA\\x05\\xb7\\xa9\\x9b\\xe7.?\\xe5', bytes)"
      ]
     },
     "execution_count": 545,
     "metadata": {},
     "output_type": "execute_result"
    }
   ],
   "source": [
    "bd = hash_object.digest()\n",
    "bd, type(bd)"
   ]
  },
  {
   "cell_type": "markdown",
   "metadata": {},
   "source": [
    "### xxHash\n",
    "\n",
    "* xxHash на Python: https://github.com/ifduyue/python-xxhash\n",
    "* xxHash базовая библиотека: https://github.com/Cyan4973/xxHash\n",
    "* анализ коллизий: https://github.com/Cyan4973/xxHash/wiki/Collision-ratio-comparison"
   ]
  },
  {
   "cell_type": "code",
   "execution_count": 427,
   "metadata": {},
   "outputs": [
    {
     "name": "stdout",
     "output_type": "stream",
     "text": [
      "Requirement already satisfied: xxhash in c:\\programdata\\anaconda3\\envs\\pytorch_1_6\\lib\\site-packages (2.0.0)\n",
      "Note: you may need to restart the kernel to use updated packages.\n"
     ]
    },
    {
     "name": "stderr",
     "output_type": "stream",
     "text": [
      "‘ЁбвҐ¬Ґ ­Ґ г¤ Ґвбп ­ ©вЁ гЄ § ­­л© Їгвм.\n"
     ]
    }
   ],
   "source": [
    "%pip install xxhash"
   ]
  },
  {
   "cell_type": "code",
   "execution_count": 546,
   "metadata": {},
   "outputs": [],
   "source": [
    "import xxhash"
   ]
  },
  {
   "cell_type": "code",
   "execution_count": 547,
   "metadata": {},
   "outputs": [
    {
     "data": {
      "text/plain": [
       "('6334d20719245bc2', str)"
      ]
     },
     "execution_count": 547,
     "metadata": {},
     "output_type": "execute_result"
    }
   ],
   "source": [
    "h_str = xxhash.xxh64('Hello World').hexdigest()\n",
    "h_str, type(h_str)"
   ]
  },
  {
   "cell_type": "code",
   "execution_count": 548,
   "metadata": {},
   "outputs": [
    {
     "data": {
      "text/plain": [
       "(7148569436472236994, int)"
      ]
     },
     "execution_count": 548,
     "metadata": {},
     "output_type": "execute_result"
    }
   ],
   "source": [
    "h_int = xxhash.xxh64('Hello World').intdigest()\n",
    "h_int, type(h_int)"
   ]
  },
  {
   "cell_type": "code",
   "execution_count": 549,
   "metadata": {},
   "outputs": [
    {
     "name": "stdout",
     "output_type": "stream",
     "text": [
      "6334d20719245bc2\n"
     ]
    }
   ],
   "source": [
    "# h_int в шестнадцатиричной записи:\n",
    "print(f'{h_int:x}')"
   ]
  },
  {
   "cell_type": "code",
   "execution_count": 550,
   "metadata": {},
   "outputs": [
    {
     "data": {
      "text/plain": [
       "(b'c4\\xd2\\x07\\x19$[\\xc2', bytes)"
      ]
     },
     "execution_count": 550,
     "metadata": {},
     "output_type": "execute_result"
    }
   ],
   "source": [
    "h_byt = xxhash.xxh64('Hello World').digest()\n",
    "h_byt, type(h_byt)"
   ]
  },
  {
   "cell_type": "code",
   "execution_count": 433,
   "metadata": {},
   "outputs": [
    {
     "data": {
      "text/plain": [
       "2986153710"
      ]
     },
     "execution_count": 433,
     "metadata": {},
     "output_type": "execute_result"
    }
   ],
   "source": [
    "xxhash.xxh32('Hello World').intdigest()"
   ]
  },
  {
   "cell_type": "code",
   "execution_count": 551,
   "metadata": {},
   "outputs": [
    {
     "data": {
      "text/plain": [
       "3249965130"
      ]
     },
     "execution_count": 551,
     "metadata": {},
     "output_type": "execute_result"
    }
   ],
   "source": [
    "# для предсказуемого изменения значения хэша можно использовать seed:\n",
    "xxhash.xxh32('Hello World', seed=1234).intdigest()"
   ]
  },
  {
   "cell_type": "code",
   "execution_count": 552,
   "metadata": {},
   "outputs": [
    {
     "data": {
      "text/plain": [
       "85338068650070623445356165842316821138"
      ]
     },
     "execution_count": 552,
     "metadata": {},
     "output_type": "execute_result"
    }
   ],
   "source": [
    "#128-битный хэш:\n",
    "xxhash.xxh128('Hello World').intdigest()"
   ]
  },
  {
   "cell_type": "code",
   "execution_count": 553,
   "metadata": {},
   "outputs": [
    {
     "data": {
      "text/plain": [
       "b'@3\\x83\\xa1\\\\\\x99\\xbe\\xee\\x9a\\xc3\\xaf!&\\xa0\\x02\\x92'"
      ]
     },
     "execution_count": 553,
     "metadata": {},
     "output_type": "execute_result"
    }
   ],
   "source": [
    "xxhash.xxh128('Hello World').digest()"
   ]
  },
  {
   "cell_type": "markdown",
   "metadata": {},
   "source": [
    "Выполняем хэширование для больших массивов строк:"
   ]
  },
  {
   "cell_type": "code",
   "execution_count": 554,
   "metadata": {},
   "outputs": [
    {
     "data": {
      "text/plain": [
       "array(['Also the entire Swiss Football League is on hold. Postponing games from the professional and amateur level... #coronavirus https://t.co/UShMuqnAVC',\n",
       "       'World Health Org Official: Trump’s press conference on #coronavirus ‘incoherent’\\nWorld Health Organization Special Adviser to the Director Dr. Ezekiel Emanuel says \"I found most of what [Trump] said incoherent.\"\\nhttps://t.co/v4WIBW9Fld',\n",
       "       \"I mean, Liberals are cheer-leading this #Coronavirus like it's their high school football team.\\n\\n#TDS\",\n",
       "       ...,\n",
       "       \"It's my party, you're invited!\\n\\nPS, this is my life philosophy\\n\\n#Q #DevilSticks #TimAndEricDotCom #Matthew #ChinaVirus #WeveBeenHacked https://t.co/KQpLqorNau\",\n",
       "       'Amy’s a survivor! #bariclab #pnnl #movingon #coronavirus #bsl3 #science #grownups #professorlife https://t.co/sND6q0r52I',\n",
       "       'A review of asymptomatic and sub-clinical Middle East Respiratory Syndrome #Coronavirus Infections https://t.co/aQsUvaBVBp'],\n",
       "      dtype=object)"
      ]
     },
     "execution_count": 554,
     "metadata": {},
     "output_type": "execute_result"
    }
   ],
   "source": [
    "tweets_txt_obj_arr\n",
    "# tweets_txt_arr"
   ]
  },
  {
   "cell_type": "code",
   "execution_count": 555,
   "metadata": {},
   "outputs": [
    {
     "data": {
      "text/plain": [
       "24943"
      ]
     },
     "execution_count": 555,
     "metadata": {},
     "output_type": "execute_result"
    }
   ],
   "source": [
    "uniq_txt = set(tweets_txt_obj_arr)\n",
    "len(uniq_txt)"
   ]
  },
  {
   "cell_type": "code",
   "execution_count": 556,
   "metadata": {},
   "outputs": [
    {
     "data": {
      "text/plain": [
       "(60160, 17538714, 481376)"
      ]
     },
     "execution_count": 556,
     "metadata": {},
     "output_type": "execute_result"
    }
   ],
   "source": [
    "len(tweets_txt_obj_arr), sum(getsizeof(tweets_txt) for tweets_txt in uniq_txt), getsizeof(tweets_txt_obj_arr)"
   ]
  },
  {
   "cell_type": "code",
   "execution_count": 557,
   "metadata": {},
   "outputs": [],
   "source": [
    "v_xxh64 = np.vectorize(lambda s: xxhash.xxh64(s).intdigest())"
   ]
  },
  {
   "cell_type": "code",
   "execution_count": 558,
   "metadata": {
    "scrolled": true
   },
   "outputs": [
    {
     "data": {
      "text/plain": [
       "array([17722182809062452388,  1795571130176664704,  7639865475256515407,\n",
       "       ...,  6240978887485535503, 13703536851283103952,\n",
       "        9858620071029291323], dtype=uint64)"
      ]
     },
     "execution_count": 558,
     "metadata": {},
     "output_type": "execute_result"
    }
   ],
   "source": [
    "tweets_hash_arr = v_xxh64(tweets_txt_obj_arr)\n",
    "tweets_hash_arr"
   ]
  },
  {
   "cell_type": "code",
   "execution_count": 559,
   "metadata": {},
   "outputs": [
    {
     "data": {
      "text/plain": [
       "('Also the entire Swiss Football League is on hold. Postponing games from the professional and amateur level... #coronavirus https://t.co/UShMuqnAVC',\n",
       " 17722182809062452388)"
      ]
     },
     "execution_count": 559,
     "metadata": {},
     "output_type": "execute_result"
    }
   ],
   "source": [
    "# сравниваем хэш для первого значения:\n",
    "tweets_txt_obj_arr[0], xxhash.xxh64(tweets_txt_obj_arr[0]).intdigest()"
   ]
  },
  {
   "cell_type": "code",
   "execution_count": 560,
   "metadata": {},
   "outputs": [
    {
     "data": {
      "text/plain": [
       "(60160, 481376)"
      ]
     },
     "execution_count": 560,
     "metadata": {},
     "output_type": "execute_result"
    }
   ],
   "source": [
    "len(tweets_hash_arr), getsizeof(tweets_hash_arr)"
   ]
  },
  {
   "cell_type": "code",
   "execution_count": 561,
   "metadata": {},
   "outputs": [
    {
     "data": {
      "text/plain": [
       "24943"
      ]
     },
     "execution_count": 561,
     "metadata": {},
     "output_type": "execute_result"
    }
   ],
   "source": [
    "len(set(tweets_hash_arr)) # количество уникальных значений совпадает"
   ]
  },
  {
   "cell_type": "markdown",
   "metadata": {},
   "source": [
    "Поиск расположения самых частых твитов:"
   ]
  },
  {
   "cell_type": "code",
   "execution_count": 445,
   "metadata": {},
   "outputs": [
    {
     "name": "stdout",
     "output_type": "stream",
     "text": [
      "Wall time: 91.6 ms\n"
     ]
    }
   ],
   "source": [
    "%%time\n",
    "unique_t, counts_t= np.unique(tweets_txt_obj_arr, return_counts=True)"
   ]
  },
  {
   "cell_type": "code",
   "execution_count": 446,
   "metadata": {},
   "outputs": [
    {
     "data": {
      "text/plain": [
       "('RT @SaludPublicaEs: El Centro Nacional de Microbiología, del Instituto de Salud Carlos III, confirma un caso de #coronavirus detectado en España.\\nSe trata del análisis a una de las muestras enviadas desde La Gomera, Canarias. El paciente está ingresado y aislado en un centro hospitalario de la isla. https://t.co/Jc8ignBZNO',\n",
       " 1943)"
      ]
     },
     "execution_count": 446,
     "metadata": {},
     "output_type": "execute_result"
    }
   ],
   "source": [
    "tweet_am_idx = np.argmax(counts_t)\n",
    "unique_t[tweet_am_idx], counts[tweet_am_idx]"
   ]
  },
  {
   "cell_type": "code",
   "execution_count": 447,
   "metadata": {},
   "outputs": [
    {
     "data": {
      "text/plain": [
       "'World Health Org Official: Trump’s press conference on #coronavirus ‘incoherent’\\nWorld Health Organization Special Adviser to the Director Dr. Ezekiel Emanuel says \"I found most of what [Trump] said incoherent.\"\\nhttps://t.co/v4WIBW9Fld'"
      ]
     },
     "execution_count": 447,
     "metadata": {},
     "output_type": "execute_result"
    }
   ],
   "source": [
    "tweets_txt_obj_arr[1]"
   ]
  },
  {
   "cell_type": "code",
   "execution_count": 448,
   "metadata": {},
   "outputs": [
    {
     "data": {
      "text/plain": [
       "'RT @SaludPublicaEs: El Centro Nacional de Microbiología, del Instituto de Salud Carlos III, confirma un caso de #coronavirus detectado en España.\\nSe trata del análisis a una de las muestras enviadas desde La Gomera, Canarias. El paciente está ingresado y aislado en un centro hospitalario de la isla. https://t.co/Jc8ignBZNO'"
      ]
     },
     "execution_count": 448,
     "metadata": {},
     "output_type": "execute_result"
    }
   ],
   "source": [
    "unique_t[tweet_am_idx]"
   ]
  },
  {
   "cell_type": "code",
   "execution_count": 449,
   "metadata": {
    "scrolled": true
   },
   "outputs": [
    {
     "name": "stdout",
     "output_type": "stream",
     "text": [
      "1.65 ms ± 12.4 µs per loop (mean ± std. dev. of 7 runs, 1000 loops each)\n"
     ]
    }
   ],
   "source": [
    "%%timeit\n",
    "# позиции самого частого твита:\n",
    "tweets_txt_obj_arr == unique_t[tweet_am_idx]"
   ]
  },
  {
   "cell_type": "markdown",
   "metadata": {},
   "source": [
    "Решение аналогичной задачи с помощью массива хэшей:"
   ]
  },
  {
   "cell_type": "code",
   "execution_count": 451,
   "metadata": {},
   "outputs": [
    {
     "name": "stdout",
     "output_type": "stream",
     "text": [
      "Wall time: 4 ms\n"
     ]
    }
   ],
   "source": [
    "%%time\n",
    "unique, counts = np.unique(tweets_hash_arr, return_counts=True)"
   ]
  },
  {
   "cell_type": "code",
   "execution_count": 452,
   "metadata": {},
   "outputs": [
    {
     "data": {
      "text/plain": [
       "(3917492860000152660, 1943)"
      ]
     },
     "execution_count": 452,
     "metadata": {},
     "output_type": "execute_result"
    }
   ],
   "source": [
    "tweet_am_idx = np.argmax(counts)\n",
    "unique[tweet_am_idx], counts[tweet_am_idx]"
   ]
  },
  {
   "cell_type": "code",
   "execution_count": 317,
   "metadata": {},
   "outputs": [
    {
     "name": "stdout",
     "output_type": "stream",
     "text": [
      "69.8 µs ± 307 ns per loop (mean ± std. dev. of 7 runs, 10000 loops each)\n"
     ]
    }
   ],
   "source": [
    "%%timeit\n",
    "# позиции самого частого твита:\n",
    "tweets_hash_arr == unique[tweet_am_idx]"
   ]
  },
  {
   "cell_type": "markdown",
   "metadata": {},
   "source": [
    "Второй датасет:"
   ]
  },
  {
   "cell_type": "code",
   "execution_count": 177,
   "metadata": {},
   "outputs": [
    {
     "data": {
      "text/plain": [
       "736930"
      ]
     },
     "execution_count": 177,
     "metadata": {},
     "output_type": "execute_result"
    }
   ],
   "source": [
    "uniq_nickname = set(tweets_nickname_obj_arr)\n",
    "len(uniq_nickname)"
   ]
  },
  {
   "cell_type": "code",
   "execution_count": 178,
   "metadata": {},
   "outputs": [
    {
     "data": {
      "text/plain": [
       "(736930, 60049746, 5895536)"
      ]
     },
     "execution_count": 178,
     "metadata": {},
     "output_type": "execute_result"
    }
   ],
   "source": [
    "len(tweets_nickname_obj_arr), sum(getsizeof(nickname) for nickname in uniq_nickname), getsizeof(tweets_nickname_obj_arr)"
   ]
  },
  {
   "cell_type": "code",
   "execution_count": 229,
   "metadata": {},
   "outputs": [
    {
     "data": {
      "text/plain": [
       "array(['JobsBuffalo', 'Malu_Expatriada', 'ntvnateladatv', 'BarriqJabbar',\n",
       "       'Dearianypratiwi', 'THahnBurkett', 'PDXrealty', 'SEOJobsinUK',\n",
       "       'Mari_GMonteiro', 'citizenkane_'], dtype=object)"
      ]
     },
     "execution_count": 229,
     "metadata": {},
     "output_type": "execute_result"
    }
   ],
   "source": [
    "tweets_nickname_obj_arr[-10:]"
   ]
  },
  {
   "cell_type": "code",
   "execution_count": 226,
   "metadata": {},
   "outputs": [
    {
     "name": "stdout",
     "output_type": "stream",
     "text": [
      "Wall time: 13.9 ms\n"
     ]
    },
    {
     "data": {
      "text/plain": [
       "False"
      ]
     },
     "execution_count": 226,
     "metadata": {},
     "output_type": "execute_result"
    }
   ],
   "source": [
    "%%time\n",
    "'Omega' in tweets_nickname_obj_arr"
   ]
  },
  {
   "cell_type": "code",
   "execution_count": 230,
   "metadata": {},
   "outputs": [
    {
     "name": "stdout",
     "output_type": "stream",
     "text": [
      "Wall time: 11 ms\n"
     ]
    },
    {
     "data": {
      "text/plain": [
       "True"
      ]
     },
     "execution_count": 230,
     "metadata": {},
     "output_type": "execute_result"
    }
   ],
   "source": [
    "%%time\n",
    "'JobsBuffalo' in tweets_nickname_obj_arr"
   ]
  },
  {
   "cell_type": "code",
   "execution_count": 182,
   "metadata": {},
   "outputs": [
    {
     "data": {
      "text/plain": [
       "(array([11191898807466239580,   706426084447363047,  1797721007953950275,\n",
       "        ..., 12079545510732482620,  3556294828456109561,\n",
       "        14424453703385482781], dtype=uint64),\n",
       " 5895536)"
      ]
     },
     "execution_count": 182,
     "metadata": {},
     "output_type": "execute_result"
    }
   ],
   "source": [
    "tweets_nickname_hash_arr = v_xxh64(tweets_nickname_obj_arr)\n",
    "tweets_nickname_hash_arr, getsizeof(tweets_nickname_hash_arr)"
   ]
  },
  {
   "cell_type": "code",
   "execution_count": 181,
   "metadata": {},
   "outputs": [
    {
     "data": {
      "text/plain": [
       "736930"
      ]
     },
     "execution_count": 181,
     "metadata": {},
     "output_type": "execute_result"
    }
   ],
   "source": [
    "tweets_nickname_hash_s = set(tweets_nickname_hash_arr)\n",
    "len(tweets_nickname_hash_s) # количество уникальных значений совпадает"
   ]
  },
  {
   "cell_type": "code",
   "execution_count": 228,
   "metadata": {},
   "outputs": [
    {
     "name": "stdout",
     "output_type": "stream",
     "text": [
      "Wall time: 2.99 ms\n"
     ]
    },
    {
     "data": {
      "text/plain": [
       "False"
      ]
     },
     "execution_count": 228,
     "metadata": {},
     "output_type": "execute_result"
    }
   ],
   "source": [
    "%%time\n",
    "xxhash.xxh64('Omega').intdigest() in tweets_nickname_hash_arr"
   ]
  },
  {
   "cell_type": "code",
   "execution_count": 231,
   "metadata": {},
   "outputs": [
    {
     "name": "stdout",
     "output_type": "stream",
     "text": [
      "Wall time: 966 µs\n"
     ]
    },
    {
     "data": {
      "text/plain": [
       "True"
      ]
     },
     "execution_count": 231,
     "metadata": {},
     "output_type": "execute_result"
    }
   ],
   "source": [
    "%%time\n",
    "xxhash.xxh64('JobsBuffalo').intdigest() in tweets_nickname_hash_arr"
   ]
  },
  {
   "cell_type": "code",
   "execution_count": null,
   "metadata": {},
   "outputs": [],
   "source": []
  }
 ],
 "metadata": {
  "kernelspec": {
   "display_name": "Python 3",
   "language": "python",
   "name": "python3"
  },
  "language_info": {
   "codemirror_mode": {
    "name": "ipython",
    "version": 3
   },
   "file_extension": ".py",
   "mimetype": "text/x-python",
   "name": "python",
   "nbconvert_exporter": "python",
   "pygments_lexer": "ipython3",
   "version": "3.7.6"
  }
 },
 "nbformat": 4,
 "nbformat_minor": 4
}
