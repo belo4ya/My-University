{
 "cells": [
  {
   "cell_type": "markdown",
   "metadata": {},
   "source": [
    "# Лекция 9: Введение в обработку текста на естественном языке\n",
    "\n",
    "__Автор: Сергей Вячеславович Макрушин__ e-mail: SVMakrushin@fa.ru \n",
    "\n",
    "Финансовый универсиет, 2020 г. \n",
    "\n",
    "При подготовке лекции использованы материалы:\n",
    "* ...\n",
    "\n",
    "V 0.1 18.10.2020"
   ]
  },
  {
   "cell_type": "markdown",
   "metadata": {},
   "source": [
    "## Разделы: <a class=\"anchor\" id=\"разделы\"></a>\n",
    "* [Серии (Series) - одномерные массивы в Pandas](#серии)\n",
    "* [Датафрэйм (DataFrame) - двумерные массивы в Pandas](#датафрэйм)\n",
    "    * [Введение](#датафрэйм-введение)\n",
    "    * [Индексация](#датафрэйм-индексация)    \n",
    "* [Обработка данных в библиотеке Pandas](#обработка-данных)\n",
    "    * [Универсальные функции и выравнивание](#обработка-данных-универсальные)\n",
    "    * [Работа с пустыми значениями](#обработка-данных-пустрые-значения)\n",
    "    * [Агрегирование и группировка](#обработка-данных-агрегирование)    \n",
    "* [Обработка нескольких наборов данных](#обработка-нескольких)\n",
    "    * [Объединение наборов данных](#обработка-нескольких-объединение)\n",
    "    * [GroupBy: разбиение, применение, объединение](#обработка-нескольких-групбай)\n",
    " \n",
    "-\n",
    "\n",
    "* [к оглавлению](#разделы)"
   ]
  },
  {
   "cell_type": "markdown",
   "metadata": {},
   "source": [
    "* расстояние левенштейна\n",
    "\n",
    "* стемминг / лемматизация\n",
    "\n",
    "* "
   ]
  },
  {
   "cell_type": "code",
   "execution_count": 1,
   "metadata": {},
   "outputs": [
    {
     "data": {
      "text/html": [
       "﻿<style>\r\n",
       "\r\n",
       "\r\n",
       "b.n {\r\n",
       "    font-weight: normal;        \r\n",
       "}\r\n",
       "\r\n",
       "b.grbg {\r\n",
       "    background-color: #a0a0a0;      \r\n",
       "}\r\n",
       "\r\n",
       "b.r {\r\n",
       "    color: #ff0000;    \r\n",
       "}\r\n",
       "\r\n",
       "\r\n",
       "b.b {    \r\n",
       "    color: #0000ff;    \r\n",
       "}\r\n",
       "\r\n",
       "b.g {\r\n",
       "    color: #00ff00;    \r\n",
       "}\r\n",
       "\r\n",
       "\r\n",
       "// add your CSS styling here\r\n",
       "\r\n",
       "list-style: none;\r\n",
       "\r\n",
       "ul.s {\r\n",
       "//    list-style-type: none;\r\n",
       "    list-style: none;\r\n",
       "//    background-color: #ff0000;  \r\n",
       "//    color: #ffff00;\r\n",
       "//  padding-left: 1.2em;\r\n",
       "//  text-indent: -1.2em;\r\n",
       "}\r\n",
       "\r\n",
       "li.t {\r\n",
       "    list-style: none;\r\n",
       "//  padding-left: 1.2em;\r\n",
       "//  text-indent: -1.2em;    \r\n",
       "}\r\n",
       "\r\n",
       "\r\n",
       "*.r {\r\n",
       "    color: #ff0000;    \r\n",
       "}\r\n",
       "\r\n",
       "li.t:before {\r\n",
       "    content: \"\\21D2\";    \r\n",
       "//    content: \"►\";\r\n",
       "//    padding-left: -1.2em;    \r\n",
       "    text-indent: -1.2em;    \r\n",
       "    display: block;\r\n",
       "    float: left;\r\n",
       "    \r\n",
       "    \r\n",
       "//    width: 1.2em;\r\n",
       "//    color: #ff0000;\r\n",
       "}\r\n",
       "\r\n",
       "i.m:before {\r\n",
       "    font-style: normal;    \r\n",
       "    content: \"\\21D2\";  \r\n",
       "}\r\n",
       "i.m {\r\n",
       "    font-style: normal; \r\n",
       "}    \r\n",
       "\r\n",
       "/*--------------------*/\r\n",
       "/* em {\r\n",
       "    font-style: normal; \r\n",
       "} */\r\n",
       "\r\n",
       "\r\n",
       "em.bl {\r\n",
       "    font-style: normal;     \r\n",
       "    font-weight: bold;        \r\n",
       "}\r\n",
       "\r\n",
       "/* em.grbg {\r\n",
       "    font-style: normal;         \r\n",
       "    background-color: #a0a0a0;      \r\n",
       "} */\r\n",
       "\r\n",
       "em.cr {\r\n",
       "    font-style: normal;         \r\n",
       "    color: #ff0000;    \r\n",
       "}\r\n",
       "\r\n",
       "em.cb {    \r\n",
       "    font-style: normal;         \r\n",
       "    color: #0000ff;    \r\n",
       "}\r\n",
       "\r\n",
       "em.cg {\r\n",
       "    font-style: normal;         \r\n",
       "    color: #00ff00;    \r\n",
       "}\r\n",
       "\r\n",
       "/*--------------------*/\r\n",
       "\r\n",
       "em.qs {\r\n",
       "    font-style: normal; \r\n",
       "}\r\n",
       "\r\n",
       "em.qs::before {\r\n",
       "    font-weight: bold;    \r\n",
       "    color: #ff0000;    \r\n",
       "    content: \"Q:\";  \r\n",
       "}\r\n",
       "\r\n",
       "em.an {\r\n",
       "    font-style: normal; \r\n",
       "}\r\n",
       "\r\n",
       "em.an:before {\r\n",
       "    font-weight: bold;    \r\n",
       "    color: #0000ff;    \r\n",
       "    content: \"A:\";  \r\n",
       "}\r\n",
       "    \r\n",
       "em.nt {\r\n",
       "    font-style: normal; \r\n",
       "}\r\n",
       "\r\n",
       "em.nt:before {\r\n",
       "    font-weight: bold;    \r\n",
       "    color: #0000ff;    \r\n",
       "    content: \"Note:\";  \r\n",
       "}    \r\n",
       "    \r\n",
       "em.ex {\r\n",
       "    font-style: normal; \r\n",
       "}\r\n",
       "\r\n",
       "em.ex:before {\r\n",
       "    font-weight: bold;    \r\n",
       "    color: #00ff00;    \r\n",
       "    content: \"Ex:\";  \r\n",
       "} \r\n",
       "    \r\n",
       "em.df {\r\n",
       "    font-style: normal; \r\n",
       "}\r\n",
       "\r\n",
       "em.df:before {\r\n",
       "    font-weight: bold;    \r\n",
       "    color: #0000ff;    \r\n",
       "    content: \"Def:\";  \r\n",
       "}    \r\n",
       "\r\n",
       "em.pl {\r\n",
       "    font-style: normal; \r\n",
       "}\r\n",
       "\r\n",
       "em.pl:before {\r\n",
       "    font-weight: bold;    \r\n",
       "    color: #0000ff;    \r\n",
       "    content: \"+\";  \r\n",
       "}    \r\n",
       "\r\n",
       "em.mn {\r\n",
       "    font-style: normal; \r\n",
       "}\r\n",
       "\r\n",
       "em.mn:before {\r\n",
       "    font-weight: bold;    \r\n",
       "    color: #0000ff;    \r\n",
       "    content: \"-\";  \r\n",
       "}        \r\n",
       "\r\n",
       "em.plmn {\r\n",
       "    font-style: normal; \r\n",
       "}\r\n",
       "\r\n",
       "em.plmn:before {\r\n",
       "    font-weight: bold;    \r\n",
       "    color: #0000ff;    \r\n",
       "    content: \"\\00B1\";\\\\\"&plusmn;\";  \r\n",
       "}\r\n",
       "    \r\n",
       "em.hn {\r\n",
       "    font-style: normal; \r\n",
       "}\r\n",
       "\r\n",
       "em.hn:before {\r\n",
       "    font-weight: bold;    \r\n",
       "    color: #0000ff;    \r\n",
       "    content: \"\\21D2\";\\\\\"&rArr;\";  \r\n",
       "}     \r\n",
       "    \r\n",
       "</style>"
      ],
      "text/plain": [
       "<IPython.core.display.HTML object>"
      ]
     },
     "execution_count": 1,
     "metadata": {},
     "output_type": "execute_result"
    }
   ],
   "source": [
    "# загружаем стиль для оформления презентации\n",
    "from IPython.display import HTML\n",
    "from urllib.request import urlopen\n",
    "html = urlopen(\"file:./lec_v1.css\")\n",
    "HTML(html.read().decode('utf-8'))"
   ]
  },
  {
   "cell_type": "markdown",
   "metadata": {},
   "source": [
    "# Метрики расстояния между строками <a class=\"anchor\" id=\"форматирование-строк\"></a>\n",
    "-\n",
    "* [к оглавлению](#разделы)\n",
    "\n",
    "* Расстояние Левенштейна\n",
    "* Задача динамического программирования\n",
    "* Алгоритм поиска расстояния Левинштайна (The minimum edit distance algorithm was named by Wagner and Fischer )"
   ]
  },
  {
   "cell_type": "markdown",
   "metadata": {},
   "source": [
    "__Метрики расстояния для строк__\n",
    "\n",
    "Часто требуется понять, насколько близкими являются две не совпадающих строки (слова). Это может потребоваться для:\n",
    "* для сравнения тексктов, предложений\n",
    "* поиска ошибок и опечаток в слове\n",
    "* поиска словоформ слова\n",
    "* в других областях (в биоинформатике для сравнения генов, хромосом и белков)"
   ]
  },
  {
   "cell_type": "markdown",
   "metadata": {},
   "source": [
    "## Расстояние Левенштейна\n",
    "\n",
    "__Расстояние Левенштейна__ (редакционное расстояние, дистанция редактирования) - __минимальное__ количество операций необходимых для превращения одной строки в другую. Рассматриваются следующие операции:\n",
    "* вставка одного символа\n",
    "* удаление одного символа \n",
    "* замена одного символа на другим."
   ]
  },
  {
   "cell_type": "markdown",
   "metadata": {
    "slideshow": {
     "slide_type": "slide"
    }
   },
   "source": [
    "<center>         \n",
    "    <img src=\"./img/levinst1.png\" alt=\"Пример выполнения операций вставки, удаления и замены\" style=\"width: 500px;\"/>\n",
    "    <b>Пример выполнения операций вставки, удаления и замены для слова \"intention\"</b>    \n",
    "</center>\n",
    "\n",
    "<br/>\n",
    "\n",
    "<center>         \n",
    "    <img src=\"./img/levinst2.png\" alt=\"Пример преобразования слова\" style=\"width: 500px;\"/>\n",
    "    <b>Пример преобразования слова \"intention\" в \"execution\" с помощью операций вставки, удаления и замены</b>\n",
    "</center>\n",
    "\n",
    "\n",
    "В общем случае __стоимость различных операций__ может быть различной. Обычно цена отражает __разную вероятность__ событий и может зависеть от:\n",
    "* вида операции (вставка, удаление, замена) \n",
    "* и/или от участвующих в ней символов\n",
    "\n",
    "\n",
    "Если к списку разрешённых операций добавить __транспозицию__ (два соседних символа меняются местами), получается __расстояние Дамерау - Левенштейна__. \n",
    "* Дамерау показал, что 80 % ошибок при наборе текста человеком являются транспозициями.\n",
    "* Кроме того, это расстояние используется и в биоинформатике. \n",
    "\n",
    "Для поиска расстояния Левинштайна и расстояния Дамрау - Левинштайна __существуют эффективные алгоритм__, требующий $O(MN)$ операций ($M$ и $N$ это длины первой и второй строки соответственно)."
   ]
  },
  {
   "cell_type": "markdown",
   "metadata": {
    "slideshow": {
     "slide_type": "slide"
    }
   },
   "source": [
    "Пусть $S_1$ и $S_2$ - две строки (длиной $M$ и $N$ соответственно, здесь и далее считается, что элементы строк нумеруются с первого, как принято в математике) над некоторым алфавитом, тогда расстояние Левенштейна $\\operatorname{d}(S_1,S_2)$ можно подсчитать используя вспомогательную функцию $D(M,N)$, находящую редакционное расстояние для подстрок $S_1[0 .. M]$ и $S_2[0 .. N]$\n",
    "\n",
    "по следующей рекуррентной формуле:\n",
    "\n",
    "$$\\ \\operatorname{d}(S_1, S_2) = \\operatorname{D}(M,N)$$\n",
    "\n",
    "$$\\qquad\\operatorname{D}(i,j) = \\begin{cases}\n",
    "  \\max(i,j) & \\text{ if } \\min(i,j)=0, \\\\\n",
    "  \\min \\begin{cases}\n",
    "          \\operatorname{D}(i-1,j) + 1 \\\\\n",
    "          \\operatorname{D}(i,j-1) + 1 \\\\\n",
    "          \\operatorname{D}(i-1,j-1) + \\operatorname{m}(S_1[i], S_2[j])\n",
    "       \\end{cases} & \\text{ otherwise.}\n",
    "\\end{cases}$$\n",
    "\n",
    "$$\\operatorname{D}(i-1,j) + 1 \\text{, операция удаления (цена: 1, на схеме обозначается как: } \\uparrow) $$\n",
    "$$\\operatorname{D}(i,j-1) + 1 \\text{, операция вставки (цена: 1, на схеме обозначается как: } \\leftarrow)$$\n",
    "$$\\operatorname{D}(i-1,j-1) + \\operatorname{m}(S_1[i], S_2[j]) \\text{, операция замены (цена m, на схеме обозначается как: } \\nwarrow)$$\n",
    "\n",
    "Цена операции замены зависит от заменяемых символов:\n",
    "\n",
    "$$\\operatorname{m}(s_1, s_2) = \\begin{cases}\n",
    "0 \\text{ , if } s_1 = s_2 \\\\\n",
    "2 \\text{ , if } s_1 \\neq s_2 \\\\\n",
    "\\end{cases}$$\n",
    "\n",
    "Очевидно, что для расстояния Левинштайна справедливы следующие утверждения:\n",
    "* $\\operatorname{d}(S_1,S_2) \\geqslant \\bigl| |S_1| - |S_2| \\bigr|$\n",
    "* $\\operatorname{d}(S_1,S_2) \\leqslant \\max\\bigl( |S_1| , |S_2| \\bigr)$\n",
    "* $\\operatorname{d}(S_1,S_2) = 0 \\Leftrightarrow S_1 = S_2$"
   ]
  },
  {
   "cell_type": "markdown",
   "metadata": {},
   "source": [
    "__Редакционным предписанием__ называется последовательность действий, необходимых для получения второй строки из первой кратчайшим образом. Обычно действия обозначаются так: `D` (англ. delete) — удалить, `I` (англ. insert) — вставить, `R` (replace) — заменить, `M` (match) — совпадение.\n",
    "\n",
    "По сути редакционное предписание это кратчайшие пути на графе с весами, в котором существует 3 вида ориентированных ребер (D, I, M), а вершинами являются строки (слова). В общем случае для конкретной пары слов может существовать несколько редакционных предписаний (кратчайших путей на графе)."
   ]
  },
  {
   "cell_type": "markdown",
   "metadata": {},
   "source": [
    "### Динамическое программирование\n",
    "\n",
    "__Динамическое программирование__ - способ решения сложных задач путём разбиения их на более простые подзадачи. Он применим к *задачам с оптимальной подструктурой*, выглядящим как *набор перекрывающихся подзадач*, сложность которых чуть меньше исходной. В этом случае время вычислений, по сравнению с «наивными» методами, можно значительно сократить.\n",
    "\n",
    "__Идея динамического программирования:__\n",
    "\n",
    "*Оптимальная подструктура* в динамическом программировании означает, что оптимальное решение подзадач меньшего размера может быть использовано для решения исходной задачи. \n",
    "\n",
    "В общем случае мы можем решить задачу, в которой присутствует оптимальная подструктура, проделывая следующие три шага.\n",
    "\n",
    "1. Разбиение задачи на подзадачи меньшего размера.\n",
    "2. Нахождение оптимального решения подзадач рекурсивно, проделывая такой же трехшаговый алгоритм.\n",
    "3. Использование полученного решения подзадач для конструирования решения исходной задачи.\n",
    "\n",
    "Часто многие из рассматриваемых подзадач одинаковы. Подход динамического программирования состоит в том, чтобы *решить каждую подзадачу только один раз*, сократив тем самым количество вычислений. Это особенно полезно в случаях, когда число повторяющихся подзадач экспоненциально велико.\n",
    "\n",
    "* Метод динамического программирования __сверху-вниз__ (top-down approach) - это простое *запоминание результатов решения тех подзадач*, которые могут повторно встретиться в дальнейшем. \n",
    "* Динамическое программирование __снизу-вверх__ (bottom-up approach) включает в себя переформулирование сложной задачи в виде рекурсивной последовательности более простых подзадач."
   ]
  },
  {
   "cell_type": "markdown",
   "metadata": {},
   "source": [
    "### Алгоритм Вагнера - Фишера\n",
    "\n",
    "Используя рекурсивное определение расстояния Левинштайна $\\operatorname{D}(i,j)$ через расстояния для слов меньшей длины: $\\operatorname{D}(i-1,j) \\text{ , } \\operatorname{D}(i,j-1) \\text{ , } \\operatorname{D}(i-1,j-1)$ мы применим принцип динамического программирования снизу-вверх, комбинируя решения подзадач, для решения более сложной задачи. \n",
    "\n",
    "1. Для получения базового решения когда конечная строка длины 0 или исходная строка длинны 0:\n",
    "    * $\\operatorname{D}(i, 0) = i $ - используется $i$ операций удаления (на схеме операция удаления обозначается, как: \"$\\uparrow$\")\n",
    "    * $\\operatorname{D}(0, j) = j$ - используется $j$ операций вставки (на схеме операция вставки обозначается, как: \"$\\leftarrow$\")\n",
    "2. После расчета $\\operatorname{D}(i, j)$ для малых $i$ и $j$ мы рассчитываем значения расстояния для бОльших $i$ и $j$ на основе рекурсивной формулы: \n",
    "\n",
    "$$\\qquad\\operatorname{D}(i,j) =  \\min \\begin{cases}\n",
    "          \\operatorname{D}(i-1,j) + 1 \\text{, операция удаления, на схеме обозначается как: } \\uparrow\\\\\n",
    "          \\operatorname{D}(i,j-1) + 1 \\text{, операция вставки, на схеме обозначается как: } \\leftarrow\\\\\n",
    "          \\operatorname{D}(i-1,j-1) + \\operatorname{m}(S_1[i], S_2[j]) \\text{, операция замены, на схеме обозначается как: } \\nwarrow\n",
    "       \\end{cases}$$"
   ]
  },
  {
   "cell_type": "markdown",
   "metadata": {},
   "source": [
    "<center>         \n",
    "    <img src=\"./img/levinst3.png\" alt=\"Пример поиска расстояния Левинштейна\" style=\"width: 500px;\"/>\n",
    "    <b>Пример поиска расстояния Левинштейна для слов \"intention\" и \"execution\" с помощью алгоритма Вагнера - Фишера</b>\n",
    "</center>"
   ]
  },
  {
   "cell_type": "markdown",
   "metadata": {},
   "source": [
    "<center>         \n",
    "    <img src=\"./img/levinst4.png\" alt=\"Алгоритм Вагнера - Фишера для поиска расстояния Левинштейна\" style=\"width: 500px;\"/>\n",
    "    <b>Алгоритм Вагнера - Фишера для поиска расстояния Левинштейна</b>\n",
    "</center>"
   ]
  },
  {
   "cell_type": "code",
   "execution_count": 12,
   "metadata": {
    "slideshow": {
     "slide_type": "slide"
    }
   },
   "outputs": [],
   "source": [
    "# from nltk.metrics import *"
   ]
  },
  {
   "cell_type": "code",
   "execution_count": 2,
   "metadata": {},
   "outputs": [],
   "source": [
    "from nltk.metrics.distance import (\n",
    "    edit_distance,\n",
    "    edit_distance_align,\n",
    "    binary_distance,\n",
    "    jaccard_distance,\n",
    "    masi_distance,\n",
    "    interval_distance,\n",
    "    custom_distance,\n",
    "    presence,\n",
    "    fractional_presence,\n",
    ")"
   ]
  },
  {
   "cell_type": "code",
   "execution_count": 3,
   "metadata": {
    "slideshow": {
     "slide_type": "slide"
    }
   },
   "outputs": [
    {
     "data": {
      "text/plain": [
       "8"
      ]
     },
     "execution_count": 3,
     "metadata": {},
     "output_type": "execute_result"
    }
   ],
   "source": [
    "edit_distance('intention', 'execution', substitution_cost=2)"
   ]
  },
  {
   "cell_type": "code",
   "execution_count": 4,
   "metadata": {},
   "outputs": [
    {
     "data": {
      "text/plain": [
       "5"
      ]
     },
     "execution_count": 4,
     "metadata": {},
     "output_type": "execute_result"
    }
   ],
   "source": [
    "# результат при substitution_cost=1\n",
    "edit_distance('intention', 'execution')"
   ]
  },
  {
   "cell_type": "code",
   "execution_count": 5,
   "metadata": {},
   "outputs": [
    {
     "data": {
      "text/plain": [
       "2"
      ]
     },
     "execution_count": 5,
     "metadata": {},
     "output_type": "execute_result"
    }
   ],
   "source": [
    "edit_distance('пирвет', 'привет', substitution_cost=2)"
   ]
  },
  {
   "cell_type": "code",
   "execution_count": 6,
   "metadata": {},
   "outputs": [
    {
     "data": {
      "text/plain": [
       "1"
      ]
     },
     "execution_count": 6,
     "metadata": {},
     "output_type": "execute_result"
    }
   ],
   "source": [
    "# расстояние Домрау-Левинштайна:\n",
    "edit_distance('пирвет', 'привет', substitution_cost=2, transpositions=True)"
   ]
  },
  {
   "cell_type": "code",
   "execution_count": 7,
   "metadata": {},
   "outputs": [],
   "source": [
    "s1 = 'intention'\n",
    "s2 = 'execution'"
   ]
  },
  {
   "cell_type": "code",
   "execution_count": 8,
   "metadata": {},
   "outputs": [
    {
     "data": {
      "text/plain": [
       "[(0, 0),\n",
       " (1, 0),\n",
       " (2, 0),\n",
       " (3, 0),\n",
       " (4, 1),\n",
       " (4, 2),\n",
       " (4, 3),\n",
       " (4, 4),\n",
       " (5, 5),\n",
       " (6, 6),\n",
       " (7, 7),\n",
       " (8, 8),\n",
       " (9, 9)]"
      ]
     },
     "execution_count": 8,
     "metadata": {},
     "output_type": "execute_result"
    }
   ],
   "source": [
    "ed = edit_distance_align(s1, s2, substitution_cost=2)\n",
    "ed"
   ]
  },
  {
   "cell_type": "code",
   "execution_count": 9,
   "metadata": {},
   "outputs": [
    {
     "data": {
      "text/plain": [
       "'intention'"
      ]
     },
     "execution_count": 9,
     "metadata": {},
     "output_type": "execute_result"
    }
   ],
   "source": [
    "s1"
   ]
  },
  {
   "cell_type": "code",
   "execution_count": 16,
   "metadata": {},
   "outputs": [
    {
     "data": {
      "text/plain": [
       "['i', 'n', 't', 'e', 'n', 't', 'i', 'o', 'n']"
      ]
     },
     "execution_count": 16,
     "metadata": {},
     "output_type": "execute_result"
    }
   ],
   "source": [
    "l1 = list(s1)\n",
    "l1"
   ]
  },
  {
   "cell_type": "code",
   "execution_count": 17,
   "metadata": {},
   "outputs": [
    {
     "data": {
      "text/plain": [
       "'intention'"
      ]
     },
     "execution_count": 17,
     "metadata": {},
     "output_type": "execute_result"
    }
   ],
   "source": [
    "s = ''.join(l1)\n",
    "s"
   ]
  },
  {
   "cell_type": "code",
   "execution_count": 18,
   "metadata": {},
   "outputs": [],
   "source": [
    "res = l1\n",
    "i = 3"
   ]
  },
  {
   "cell_type": "code",
   "execution_count": 19,
   "metadata": {},
   "outputs": [
    {
     "data": {
      "text/plain": [
       "'int_e_ntion'"
      ]
     },
     "execution_count": 19,
     "metadata": {},
     "output_type": "execute_result"
    }
   ],
   "source": [
    "sh_res = ''.join('_'+s+'_' if ind==i else s for ind, s in enumerate(res))\n",
    "sh_res"
   ]
  },
  {
   "cell_type": "code",
   "execution_count": 20,
   "metadata": {},
   "outputs": [],
   "source": [
    "def show_ed_path(as1, as2, ed):\n",
    "    s1 = '#' + as1 # shift index\n",
    "    s2 = '#' + as2 # shift index   \n",
    "    ip,  jp = ed[0]\n",
    "    res = list(s1)\n",
    "    cost = 0\n",
    "    print(f'i:{ip}, j:{jp}; init, cost: {cost}; res: {\"\".join(res)[1:]}')\n",
    "    def sh_res(res, i):\n",
    "        return ''.join(s.upper() if ind==i else s for ind, s in enumerate(res))[1:]\n",
    "        \n",
    "    for i, j in ed[1:]:\n",
    "        if i == ip+1 and j == jp+1:\n",
    "            if s1[i] == s2[j]:\n",
    "                # res = res\n",
    "                cost += 0\n",
    "                print(f'i:{i}, j:{j}; save {s1[i]}, cost: {cost}; res: {sh_res(res, j)}')\n",
    "            else:\n",
    "                res[j] = s2[j]\n",
    "                cost += 2\n",
    "                print(f'i:{i}, j:{j}; change {s1[i]} -> {s2[j]}; cost: {cost}; res: {sh_res(res, j)}')\n",
    "        elif i == ip+1 and j == jp:\n",
    "            cost += 1            \n",
    "            print(f'i:{i}, j:{j}; remove {res[j+1]}, cost: {cost}; res: {sh_res(res, j+1)}')            \n",
    "            rs = res.pop(j+1)\n",
    "        elif i == ip and j == jp+1:\n",
    "            rs = res.insert(j, s2[j])\n",
    "            cost += 1\n",
    "            print(f'i:{i}, j:{j}; insert {s2[j]}, cost: {cost}; res: {sh_res(res, j)}')            \n",
    "        else:\n",
    "            assert False, f'i: {i}, j: {j}; ip: {ip}, jp: {jp}'\n",
    "        ip = i\n",
    "        jp = j"
   ]
  },
  {
   "cell_type": "code",
   "execution_count": 21,
   "metadata": {
    "scrolled": true
   },
   "outputs": [
    {
     "data": {
      "text/plain": [
       "[(0, 0),\n",
       " (1, 0),\n",
       " (2, 0),\n",
       " (3, 0),\n",
       " (4, 1),\n",
       " (4, 2),\n",
       " (4, 3),\n",
       " (4, 4),\n",
       " (5, 5),\n",
       " (6, 6),\n",
       " (7, 7),\n",
       " (8, 8),\n",
       " (9, 9)]"
      ]
     },
     "execution_count": 21,
     "metadata": {},
     "output_type": "execute_result"
    }
   ],
   "source": [
    "# s1 = 'abcd'\n",
    "# s2 = 'acfg'\n",
    "\n",
    "s1 = 'intention'\n",
    "s2 = 'execution'\n",
    "da = edit_distance_align(s1, s2, substitution_cost=2)\n",
    "da"
   ]
  },
  {
   "cell_type": "code",
   "execution_count": 22,
   "metadata": {},
   "outputs": [
    {
     "name": "stdout",
     "output_type": "stream",
     "text": [
      "i:0, j:0; init, cost: 0; res: intention\n",
      "i:1, j:0; remove i, cost: 1; res: Intention\n",
      "i:2, j:0; remove n, cost: 2; res: Ntention\n",
      "i:3, j:0; remove t, cost: 3; res: Tention\n",
      "i:4, j:1; save e, cost: 3; res: Ention\n",
      "i:4, j:2; insert x, cost: 4; res: eXntion\n",
      "i:4, j:3; insert e, cost: 5; res: exEntion\n",
      "i:4, j:4; insert c, cost: 6; res: exeCntion\n",
      "i:5, j:5; change n -> u; cost: 8; res: execUtion\n",
      "i:6, j:6; save t, cost: 8; res: execuTion\n",
      "i:7, j:7; save i, cost: 8; res: executIon\n",
      "i:8, j:8; save o, cost: 8; res: executiOn\n",
      "i:9, j:9; save n, cost: 8; res: executioN\n"
     ]
    }
   ],
   "source": [
    "show_ed_path(s1, s2, da)"
   ]
  },
  {
   "cell_type": "markdown",
   "metadata": {},
   "source": [
    "С точки зрения приложений определение расстояния Левенштейна между словами или строками обладает следующими недостатками:\n",
    "* При перестановке местами слов или частей слов получаются сравнительно большие расстояния.\n",
    "* Расстояния между совершенно разными короткими словами оказываются небольшими, в то время как расстояния между очень похожими длинными словами оказываются значительными.\n",
    "\n",
    "Другие метрики в NLTK: http://www.nltk.org/howto/metrics.html"
   ]
  },
  {
   "cell_type": "markdown",
   "metadata": {},
   "source": [
    "# Стемминг и лемматизация"
   ]
  },
  {
   "cell_type": "markdown",
   "metadata": {},
   "source": [
    "Часто необходимо обрабатывать разные формы слова одинаково. В этом случае поможет переход от словоформ к их леммам (словарным формам лексем) или основам (ядерным частям слова, за вычетом словоизменительных морфем)\n",
    "\n",
    "Например, при поиске: по запросам “кошками” и “кошкам” ожидаются одинаковые ответы.\n",
    "\n",
    "__Стемминг__ - это процесс нахождения основы слова, которая не обязательно совпадает с корнем слова.\n",
    "\n",
    "__Лемматизация__ - приведение слова к словарной форме."
   ]
  },
  {
   "cell_type": "markdown",
   "metadata": {},
   "source": [
    "__Морфология__ - это раздел лингвистики, который изучает структуру слов и их морфологические характеристики. Классическая морфология проанализирует слово _собака_ примерно так: это существительное женского рода, оно состоит из _корня_ собак и _окончания_ а, окончание показывает, что слово употреблено в единственном числе и в именительном падеже. \n",
    "\n",
    "__Компьютерная морфология__ анализирует и синтезирует слова программными средствами. В наиболее привычной формулировке под морфологическим анализом слова подразумевается:\n",
    "* определение леммы (базовой, канонической формы слова)\n",
    "* определение грамматических характеристик слова. \n",
    "\n",
    "В области автоматической обработки данных также используется термин __нормализация__, обозначающий постановку слова или словосочетания в __каноническую форму__ (грамматические характеристики исходной формы при этом не выдаются). Обратная задача, т. е . постановка леммы в нужную грамматическую форму, называется __порождением словоформы__. \n"
   ]
  },
  {
   "cell_type": "markdown",
   "metadata": {},
   "source": [
    "__Стемминг__\n",
    "\n",
    "__Стемминг__ отбрасывает суффиксы и окончания до неизменяемой формы слова \n",
    "\n",
    "Примеры: \n",
    "* кошка -> кошк \n",
    "* кошками -> кошк \n",
    "* пылесосы -> пылесос\n",
    "\n",
    "В школьной грамматике __основой__ считается __часть слова без окончания__. \n",
    "* В большинстве случаев она не меняется при грамматических изменениях самого слова — так ведет себя, например, основа _слон_ в словоформах: _слон, слону, слонами, слонов_. \n",
    "* Но в некоторых словах основа может изменяться. Например, для словоформ _день, дню и дне_ основами будут ден-, дн- и дн-, такое явление называется __чередованием__. \n",
    "Поэтому самый популярный на сегодня подход использует псевдоосновы (или машинные основы). Это неизменяемые начальные части слов. Для слова день такой неизменяемой частью будет _д-_. Формы некоторых слов могут образовываться от разных корней. Например, у слова _ходить_ есть форма _шел_. Это называется _супплетивизмом_. \n",
    "\n",
    "__В русском языке__ супплетивизм и чередования очень распространены, поэтому __псевдоосновы часто получаются очень короткими__. __Для русского языка стемминг работает гораздо хуже, чем лемматизация__. \n",
    "\n",
    "В стемминге есть только правила обрабатывания суффиксов и, возможно, небольшие словари исключений. Существует бесплатный инструмент для написания стеммеров — Snowball. "
   ]
  },
  {
   "cell_type": "code",
   "execution_count": 23,
   "metadata": {},
   "outputs": [
    {
     "data": {
      "text/plain": [
       "('arabic',\n",
       " 'danish',\n",
       " 'dutch',\n",
       " 'english',\n",
       " 'finnish',\n",
       " 'french',\n",
       " 'german',\n",
       " 'hungarian',\n",
       " 'italian',\n",
       " 'norwegian',\n",
       " 'porter',\n",
       " 'portuguese',\n",
       " 'romanian',\n",
       " 'russian',\n",
       " 'spanish',\n",
       " 'swedish')"
      ]
     },
     "execution_count": 23,
     "metadata": {},
     "output_type": "execute_result"
    }
   ],
   "source": [
    "# Snowball - Наиболее распространенный стеммер из проекта Apache Lucene \n",
    "# Работает для нескольких языков, включая русский\n",
    "from nltk.stem import SnowballStemmer\n",
    "SnowballStemmer.languages"
   ]
  },
  {
   "cell_type": "code",
   "execution_count": 24,
   "metadata": {},
   "outputs": [
    {
     "name": "stdout",
     "output_type": "stream",
     "text": [
      "кошк\n",
      "кошечк\n"
     ]
    }
   ],
   "source": [
    "import re\n",
    "snb_stemmer_ru = SnowballStemmer('russian')\n",
    "print(snb_stemmer_ru.stem('кошку'))\n",
    "print(snb_stemmer_ru.stem('кошечки'))"
   ]
  },
  {
   "cell_type": "code",
   "execution_count": 25,
   "metadata": {},
   "outputs": [
    {
     "name": "stdout",
     "output_type": "stream",
     "text": [
      "3\n",
      "Постгуманизм — рациональное мировоззрение, основанное на представлении, что эволюция человека не завершена и может быть продолжена в будущем. Эволюционное развитие должно привести к становлению постчеловека — гипотетической стадии эволюции человеческого вида, строение и возможности которого стали бы отличными от современных человеческих в результате активного использования передовых технологий преобразования человека. Постгуманизм признаёт неотъемлемыми правами совершенствование человеческих возможностей (физиологических, интеллектуальных и т. п.) и достижение физического бессмертия. В отличие от трансгуманизма, под определением постгуманизма также понимается критика классического гуманизма, подчёркивающая изменение отношения человека к себе, обществу, окружающей среде и бурно развивающимся технологиям, но окончательно разница между транс- и постгуманизмом не определена и остаётся предметом дискуссий.\n",
      "\n"
     ]
    }
   ],
   "source": [
    "# загружаем текст:\n",
    "with open('phm.txt ') as f:\n",
    "    lines = [l for l in f]\n",
    "print(len(lines))\n",
    "print(lines[0])"
   ]
  },
  {
   "cell_type": "code",
   "execution_count": 26,
   "metadata": {},
   "outputs": [],
   "source": [
    "from razdel import sentenize\n",
    "from razdel import tokenize"
   ]
  },
  {
   "cell_type": "code",
   "execution_count": 20,
   "metadata": {},
   "outputs": [
    {
     "data": {
      "text/plain": [
       "['постгуманизм',\n",
       " 'рациональн',\n",
       " 'мировоззрен',\n",
       " 'основа',\n",
       " 'на',\n",
       " 'представлен',\n",
       " 'что',\n",
       " 'эволюц',\n",
       " 'человек',\n",
       " 'не',\n",
       " 'заверш',\n",
       " 'и',\n",
       " 'может',\n",
       " 'быт',\n",
       " 'продолж',\n",
       " 'в',\n",
       " 'будущ']"
      ]
     },
     "execution_count": 20,
     "metadata": {},
     "output_type": "execute_result"
    }
   ],
   "source": [
    "snt = list(sentenize(lines[0]))\n",
    "tok = list(tokenize(snt[0].text))\n",
    "w = re.compile('^[а-яА-ЯёЁ]*$')\n",
    "# предложение превращено в последовательность стем русских слов:\n",
    "[snb_stemmer_ru.stem(t.text) for t in tok if w.search(t.text)] "
   ]
  },
  {
   "cell_type": "markdown",
   "metadata": {},
   "source": [
    "Snowball использует __систему суффиксов и окончаний__ для предсказания части речи и грамматических параметров. Так как одно и\n",
    "то же окончание может принадлежать разным частям речи или различным парадигмам, его оказывается недостаточно для точного предсказания. Применение суффиксов позволяет повысить точность.\n",
    "\n",
    "Система реализовывается на языке программирования в виде большого количества условных операторов, анализирующих самый длинный постфикс и его контекст. По окончании анализа слову приписывается часть речи и набор параметров, а найденное окончание (или псевдоокончание) отрезается. В итоге, помимо параметров, система возвращает стем."
   ]
  },
  {
   "cell_type": "markdown",
   "metadata": {},
   "source": [
    "### Лемматизация\n",
    "\n",
    "У разных слов часто совпадает основа: \n",
    "* пол : полу , пола , поле , полю , поля , пол , полем , полях , полям \n",
    "* лев : левый, левая, лев \n",
    "\n",
    "Из-за этого увеличивается многозначность и ухудшаются результаты работы приложений.\n",
    "\n",
    "Лемматизация - приведение слова к словарной форме, например: \n",
    "* кошки -> кошка \n",
    "* кошками -> кошка"
   ]
  },
  {
   "cell_type": "markdown",
   "metadata": {},
   "source": [
    "\n",
    "\n",
    "Морфологические анализаторы для русского языка:\n",
    "\n",
    "|Название |Open |Доб. словари |Объем слов. |Скорость | Python? |\n",
    "|------|------|------|------|------|------|\n",
    "|AOT | Y | N | 160 тыс.| 60-90 | N |\n",
    "|MyStem | N | Y/N | >250 тыс.| 100-120 | Есть оболочка на Python |\n",
    "|Pymorphy2 | Y | N | 250 тыс.| 80-100 | Y|\n",
    "|TreeTagger | N | Y | 210 тыс.| 20-25 | N |\n"
   ]
  },
  {
   "cell_type": "markdown",
   "metadata": {},
   "source": [
    "__pymorphy2__ \n",
    "\n",
    "* Код проекта: https://github.com/kmike/pymorphy2\n",
    "\n",
    "* Документация проекта: https://pymorphy2.readthedocs.io/en/stable/\n",
    "\n",
    "_pip install pymorphy2_\n",
    "\n",
    "Словари распространяются отдельными пакетами. Для русского языка:\n",
    "\n",
    "_pip install -U pymorphy2-dicts-ru_\n",
    "\n",
    "Есть оптимизированная версия, потребуется настроенное окружение для сборки (компилятор C/C++ и т.д.).\n",
    "\n",
    "Морфологический процессор с открытым исходным кодом, предоставляет все функции полного морфологического анализа и\n",
    "синтеза словоформ. Он умеет:\n",
    "* приводить слово к нормальной форме (например, “люди -> человек”, или “гулял -> гулять”).\n",
    "* ставить слово в нужную форму. Например, ставить слово во множественное число, менять падеж слова и т.д.\n",
    "* возвращать грамматическую информацию о слове (число, род, падеж, часть речи и т.д.)\n",
    "\n",
    "При работе используется словарь OpenCorpora; для незнакомых слов строятся гипотезы. Библиотека достаточно быстрая: в настоящий момент скорость работы - от нескольких тыс слов/сек до > 100тыс слов/сек (в зависимости от выполняемой операции, интерпретатора и установленных пакетов); потребление памяти - 10…20Мб; полностью поддерживается буква ё. Словарь OpenCorpora содержит около 250 тыс. лемм, а также является полностью открытым и регулярно пополняемым.\n",
    "\n",
    "Для анализа неизвестных слов в Pymorphy2 используются несколько методов, которые применяются последовательно. Изначально от слова отсекается префикс из набора известных префиксов и если остаток слова был найден в словаре, то отсеченный префикс приписывается к результатам разбора. Если этот метод не сработал, то аналогичные действия выполняются для префикса слова длиной от 1 до 5, даже если такой префикс является неизвестным. Затем, в случае неудачи, словоформа разбирается по окончанию. Для этого используется дополнительный автомат всех окончаний, встречающихся в словаре с имеющимися разборами."
   ]
  },
  {
   "cell_type": "code",
   "execution_count": 21,
   "metadata": {},
   "outputs": [
    {
     "name": "stdout",
     "output_type": "stream",
     "text": [
      "Requirement already satisfied: pymorphy2 in c:\\programdata\\anaconda3\\envs\\pytorch_1_6\\lib\\site-packages (0.8)\n",
      "Requirement already satisfied: docopt>=0.6 in c:\\programdata\\anaconda3\\envs\\pytorch_1_6\\lib\\site-packages (from pymorphy2) (0.6.2)\n",
      "Requirement already satisfied: pymorphy2-dicts<3.0,>=2.4 in c:\\programdata\\anaconda3\\envs\\pytorch_1_6\\lib\\site-packages (from pymorphy2) (2.4.393442.3710985)\n",
      "Requirement already satisfied: dawg-python>=0.7 in c:\\programdata\\anaconda3\\envs\\pytorch_1_6\\lib\\site-packages (from pymorphy2) (0.7.2)\n",
      "Note: you may need to restart the kernel to use updated packages.\n"
     ]
    }
   ],
   "source": [
    "%pip install pymorphy2"
   ]
  },
  {
   "cell_type": "code",
   "execution_count": 27,
   "metadata": {},
   "outputs": [],
   "source": [
    "import pymorphy2\n",
    "\n",
    "morph = pymorphy2.MorphAnalyzer()"
   ]
  },
  {
   "cell_type": "code",
   "execution_count": 29,
   "metadata": {},
   "outputs": [
    {
     "data": {
      "text/plain": [
       "[Parse(word='стали', tag=OpencorporaTag('VERB,perf,intr plur,past,indc'), normal_form='стать', score=0.984662, methods_stack=((<DictionaryAnalyzer>, 'стали', 904, 4),)),\n",
       " Parse(word='стали', tag=OpencorporaTag('NOUN,inan,femn sing,gent'), normal_form='сталь', score=0.003067, methods_stack=((<DictionaryAnalyzer>, 'стали', 13, 1),)),\n",
       " Parse(word='стали', tag=OpencorporaTag('NOUN,inan,femn sing,datv'), normal_form='сталь', score=0.003067, methods_stack=((<DictionaryAnalyzer>, 'стали', 13, 2),)),\n",
       " Parse(word='стали', tag=OpencorporaTag('NOUN,inan,femn sing,loct'), normal_form='сталь', score=0.003067, methods_stack=((<DictionaryAnalyzer>, 'стали', 13, 5),)),\n",
       " Parse(word='стали', tag=OpencorporaTag('NOUN,inan,femn plur,nomn'), normal_form='сталь', score=0.003067, methods_stack=((<DictionaryAnalyzer>, 'стали', 13, 6),)),\n",
       " Parse(word='стали', tag=OpencorporaTag('NOUN,inan,femn plur,accs'), normal_form='сталь', score=0.003067, methods_stack=((<DictionaryAnalyzer>, 'стали', 13, 9),))]"
      ]
     },
     "execution_count": 29,
     "metadata": {},
     "output_type": "execute_result"
    }
   ],
   "source": [
    "p = morph.parse('стали')\n",
    "p"
   ]
  },
  {
   "cell_type": "code",
   "execution_count": 30,
   "metadata": {},
   "outputs": [
    {
     "data": {
      "text/plain": [
       "OpencorporaTag('VERB,perf,intr plur,past,indc')"
      ]
     },
     "execution_count": 30,
     "metadata": {},
     "output_type": "execute_result"
    }
   ],
   "source": [
    "p[0].tag"
   ]
  },
  {
   "cell_type": "markdown",
   "metadata": {},
   "source": [
    "Метод MorphAnalyzer.parse() возвращает один или несколько объектов типа Parse с информацией о том, как слово может быть разобрано.\n",
    "\n",
    "Тег - это набор граммем, характеризующих данное слово. Например, тег 'VERB,perf,intr plur,past,indc' означает, что слово - глагол (VERB) совершенного вида (perf), непереходный (intr), множественного числа (plur), прошедшего времени (past), изъявительного наклонения (indc). Доступные граммемы описаны тут: https://pymorphy2.readthedocs.io/en/latest/user/grammemes.html#grammeme-docs.\n",
    "\n",
    "Далее: https://pymorphy2.readthedocs.io/en/latest/user/guide.html"
   ]
  },
  {
   "cell_type": "markdown",
   "metadata": {},
   "source": [
    "score - это оценка P(tag|word), оценка вероятности того, что данный разбор правильный.\n",
    "\n",
    "Разборы сортируются по убыванию score, поэтому везде в примерах берется первый вариант разбора из возможных. Оценки P(tag|word) помогают улучшить разбор, но их недостаточно для надежного снятия неоднозначности, как минимум по следующим причинам:\n",
    "\n",
    "то, как нужно разбирать слово, зависит от соседних слов; pymorphy2 работает только на уровне отдельных слов;\n",
    "условная вероятность P(tag|word) оценена на основе сбалансированного набора текстов; в специализированных текстах вероятности могут быть другими - например, возможно, что в металлургических текстах P(NOUN|стали) > P(VERB|стали);"
   ]
  },
  {
   "cell_type": "code",
   "execution_count": 31,
   "metadata": {},
   "outputs": [
    {
     "data": {
      "text/plain": [
       "Parse(word='стать', tag=OpencorporaTag('INFN,perf,intr'), normal_form='стать', score=1.0, methods_stack=((<DictionaryAnalyzer>, 'стать', 904, 0),))"
      ]
     },
     "execution_count": 31,
     "metadata": {},
     "output_type": "execute_result"
    }
   ],
   "source": [
    "#у каждого разбора есть нормальная форма, которую можно получить, обратившись к атрибутам normal_form или normalized:\n",
    "p[0].normalized"
   ]
  },
  {
   "cell_type": "code",
   "execution_count": 98,
   "metadata": {
    "scrolled": true
   },
   "outputs": [
    {
     "data": {
      "text/plain": [
       "['постгуманизм',\n",
       " 'рациональный',\n",
       " 'мировоззрение',\n",
       " 'основать',\n",
       " 'на',\n",
       " 'представление',\n",
       " 'что',\n",
       " 'эволюция',\n",
       " 'человек',\n",
       " 'не',\n",
       " 'завершить',\n",
       " 'и',\n",
       " 'мочь',\n",
       " 'быть',\n",
       " 'продолжить',\n",
       " 'в',\n",
       " 'будущее']"
      ]
     },
     "execution_count": 98,
     "metadata": {},
     "output_type": "execute_result"
    }
   ],
   "source": [
    "snt = list(sentenize(lines[0]))\n",
    "tok = list(tokenize(snt[0].text))\n",
    "w = re.compile('^[а-яА-ЯёЁ]*$')\n",
    "# предложение превращено в последовательность нормальных форм русских слов:\n",
    "pt = [morph.parse(t.text) for t in tok if w.search(t.text)] \n",
    "[w[0].normalized.word for w in pt]"
   ]
  },
  {
   "cell_type": "markdown",
   "metadata": {},
   "source": [
    "## Закон Ципфа\n",
    "\n",
    "__Закон Ципфа__ (Zipf's law, «ранг-частота») - эмперический закон, наблюдаемый для различных объектов в области физики, социологии, лингвистики и т.д., указывающий на то, что характеристики объектов (в частности, частота появлвения) имеют вид близкий к распределению Ципфа. \n",
    "\n",
    "Распределение Ципфа - это дискретный закон распределения, имеющий степенную природу и близкий (но не идентичный) Дзета-распределени. \n",
    "\n",
    "Пусть:\n",
    "* $N$ - количестов различных объектов (например, различных слов в тексте);\n",
    "* $k$ - ранг, т.е. порядоквый номер объекта (например, слова), в отсортированной по частоте последовательности объектов;\n",
    "* $s$ - параметр распределения, отражающий степень убывания частоты.\n",
    "\n",
    "тогда распрпеделение имеет вид:\n",
    "\n",
    "$$f(k;s,N)=\\frac{1/k^s}{\\sum\\limits_{n=1}^N (1/n^s)}$$\n",
    "\n",
    "Свойство объектов распределенных по этому закону:\n",
    "* $P_k$ - частота встречаемости объекта с рангом k\n",
    "\n",
    "$$P_k=P_1/k$$\n",
    "\n",
    "__Закон Ципфа в лингвистике__ - эмпирическая закономерность распределения частоты слов естественного языка: если все слова языка (или просто достаточно длинного текста) упорядочить по убыванию частоты их использования, то частота n-го слова в таком списке окажется приблизительно обратно пропорциональной его порядковому номеру n (так называемому рангу этого слова. \n",
    "\n",
    "Например: \n",
    "* второе по используемости слово встречается примерно в два раза реже, чем первое\n",
    "* третье - в три раза реже, чем первое (и так далее ...)"
   ]
  },
  {
   "cell_type": "markdown",
   "metadata": {},
   "source": [
    "В естественных языках частоты слов имеют очень тяжелые ховосты и могут описываться распределением Ципфа с $s \\to 1$ при $N \\to \\infty$ в случае если $s > 1$:\n",
    "$$\\zeta (s) = \\sum_{n=1}^\\infty \\frac{1}{n^s}<\\infty$$\n",
    "где $\\zeta$ это Дзета-функция Римана.\n",
    "\n",
    "В этом случае распределение Ципфа можно заменить Дзета распределением (дискретным распределением, в котором $k \\in [1, \\infty])$): \n",
    "$$P(x=k; s) = \\frac {k^{-s}} {\\zeta(s)} $$"
   ]
  },
  {
   "cell_type": "markdown",
   "metadata": {},
   "source": [
    "<center>         \n",
    "    <img src=\"./img/ZipfsLaw.png\" alt=\"Пример поиска расстояния Левинштейна\" style=\"width: 500px;\"/>\n",
    "    <b>Пример: (распределение частот слов в статьях русской Википедии)</b>\n",
    "</center>\n",
    "\n",
    "<br/>\n",
    "\n",
    "<center>         \n",
    "    <img src=\"./img/ZipfsLaw2.png\" alt=\"Пример поиска расстояния Левинштейна\" style=\"width: 500px;\"/>\n",
    "    <b>Пример (распределение частот слов в крупном художесвтенном произведении)</b>\n",
    "</center>"
   ]
  },
  {
   "cell_type": "markdown",
   "metadata": {},
   "source": [
    "## Стоп-слова\n",
    "\n",
    "* Для крупных текстов большинство слов из головы распределения обычно характеризуют язык, а не текст\n",
    "* Обычно это служебные слова, определяющие стрктуру предложения (например: предлоги, артикли, частицы), местоимения (фактически, универсальные указатели) и  самые общие понятия используемые в письменной речи\n",
    "* Во многих задачах использование наиболее частотных слов создает шум и их выгодно исключать из рассмотрения. За такими словами закрепился теримн __стоп-слова__(stop words)."
   ]
  },
  {
   "cell_type": "markdown",
   "metadata": {},
   "source": [
    "<center> \n",
    "<b>Пример стоп-слов русского языка:</b>\n",
    "<br/>\n",
    "(конкретный состав стоп-слов зависит от рассматриваемого корпуса текстов, длинны списка и т.д.)\n",
    "</center>\n",
    "\n",
    "<table>\n",
    "<tr height=\"20\" style=\"height: 15pt;\">   <td height=\"20\" style=\"background-color: #eeeeee; height: 15pt; width: 48pt;\" width=\"64\">-</td>   <td style=\"background-color: #eeeeee; width: 48pt;\" width=\"64\">еще</td>   <td style=\"background-color: #eeeeee; width: 48pt;\" width=\"64\">него</td>   <td style=\"background-color: #eeeeee; width: 48pt;\" width=\"64\">сказать</td>  </tr>\n",
    "<tr height=\"20\" style=\"height: 15pt;\">   <td height=\"20\" style=\"background-color: #eeeeee; height: 15pt;\">а</td>   <td style=\"background-color: #eeeeee;\">ж</td>   <td style=\"background-color: #eeeeee;\">нее</td>   <td style=\"background-color: #eeeeee;\">со</td>  </tr>\n",
    "<tr height=\"20\" style=\"height: 15pt;\">   <td height=\"20\" style=\"background-color: #eeeeee; height: 15pt;\">без</td>   <td style=\"background-color: #eeeeee;\">же</td>   <td style=\"background-color: #eeeeee;\">ней</td>   <td style=\"background-color: #eeeeee;\">совсем</td>  </tr>\n",
    "<tr height=\"20\" style=\"height: 15pt;\">   <td height=\"20\" style=\"background-color: #eeeeee; height: 15pt;\">более</td>   <td style=\"background-color: #eeeeee;\">жизнь</td>   <td style=\"background-color: #eeeeee;\">нельзя</td>   <td style=\"background-color: #eeeeee;\">так</td>  </tr>\n",
    "<tr height=\"20\" style=\"height: 15pt;\">   <td height=\"20\" style=\"background-color: #eeeeee; height: 15pt;\">больше</td>   <td style=\"background-color: #eeeeee;\">за</td>   <td style=\"background-color: #eeeeee;\">нет</td>   <td style=\"background-color: #eeeeee;\">такой</td>  </tr>\n",
    "<tr height=\"20\" style=\"height: 15pt;\">   <td height=\"20\" style=\"background-color: #eeeeee; height: 15pt;\">будет</td>   <td style=\"background-color: #eeeeee;\">зачем</td>   <td style=\"background-color: #eeeeee;\">ни</td>   <td style=\"background-color: #eeeeee;\">там</td>  </tr>\n",
    "<tr height=\"20\" style=\"height: 15pt;\">   <td height=\"20\" style=\"background-color: #eeeeee; height: 15pt;\">будто</td>   <td style=\"background-color: #eeeeee;\">здесь</td>   <td style=\"background-color: #eeeeee;\">нибудь</td>   <td style=\"background-color: #eeeeee;\">тебя</td>  </tr>\n",
    "<tr height=\"20\" style=\"height: 15pt;\">   <td height=\"20\" style=\"background-color: #eeeeee; height: 15pt;\">бы</td>   <td style=\"background-color: #eeeeee;\">и</td>   <td style=\"background-color: #eeeeee;\">никогда</td>   <td style=\"background-color: #eeeeee;\">тем</td>  </tr>\n",
    "<tr height=\"20\" style=\"height: 15pt;\">   <td height=\"20\" style=\"background-color: #eeeeee; height: 15pt;\">был</td>   <td style=\"background-color: #eeeeee;\">из</td>   <td style=\"background-color: #eeeeee;\">ним</td>   <td style=\"background-color: #eeeeee;\">теперь</td>  </tr>\n",
    "<tr height=\"20\" style=\"height: 15pt;\">   <td height=\"20\" style=\"background-color: #eeeeee; height: 15pt;\">была</td>   <td style=\"background-color: #eeeeee;\">из-за</td>   <td style=\"background-color: #eeeeee;\">них</td>   <td style=\"background-color: #eeeeee;\">то</td>  </tr>\n",
    "<tr height=\"20\" style=\"height: 15pt;\">   <td height=\"20\" style=\"background-color: #eeeeee; height: 15pt;\">были</td>   <td style=\"background-color: #eeeeee;\">или</td>   <td style=\"background-color: #eeeeee;\">ничего</td>   <td style=\"background-color: #eeeeee;\">тогда</td>  </tr>\n",
    "<tr height=\"20\" style=\"height: 15pt;\">   <td height=\"20\" style=\"background-color: #eeeeee; height: 15pt;\">было</td>   <td style=\"background-color: #eeeeee;\">им</td>   <td style=\"background-color: #eeeeee;\">но</td>   <td style=\"background-color: #eeeeee;\">того</td>  </tr>\n",
    "<tr height=\"20\" style=\"height: 15pt;\">   <td height=\"20\" style=\"background-color: #eeeeee; height: 15pt;\">быть</td>   <td style=\"background-color: #eeeeee;\">иногда</td>   <td style=\"background-color: #eeeeee;\">ну</td>   <td style=\"background-color: #eeeeee;\">тоже</td>  </tr>\n",
    "<tr height=\"20\" style=\"height: 15pt;\">   <td height=\"20\" style=\"background-color: #eeeeee; height: 15pt;\">в</td>   <td style=\"background-color: #eeeeee;\">их</td>   <td style=\"background-color: #eeeeee;\">о</td>   <td style=\"background-color: #eeeeee;\">только</td>  </tr>\n",
    "<tr height=\"20\" style=\"height: 15pt;\">   <td height=\"20\" style=\"background-color: #eeeeee; height: 15pt;\">вам</td>   <td style=\"background-color: #eeeeee;\">к</td>   <td style=\"background-color: #eeeeee;\">об</td>   <td style=\"background-color: #eeeeee;\">том</td>  </tr>\n",
    "<tr height=\"20\" style=\"height: 15pt;\">   <td height=\"20\" style=\"background-color: #eeeeee; height: 15pt;\">вас</td>   <td style=\"background-color: #eeeeee;\">кажется</td>   <td style=\"background-color: #eeeeee;\">один</td>   <td style=\"background-color: #eeeeee;\">тот</td>  </tr>\n",
    "<tr height=\"20\" style=\"height: 15pt;\">   <td height=\"20\" style=\"background-color: #eeeeee; height: 15pt;\">вдруг</td>   <td style=\"background-color: #eeeeee;\">как</td>   <td style=\"background-color: #eeeeee;\">он</td>   <td style=\"background-color: #eeeeee;\">три</td>  </tr>\n",
    "<tr height=\"20\" style=\"height: 15pt;\">   <td height=\"20\" style=\"background-color: #eeeeee; height: 15pt;\">ведь</td>   <td style=\"background-color: #eeeeee;\">какая</td>   <td style=\"background-color: #eeeeee;\">она</td>   <td style=\"background-color: #eeeeee;\">тут</td>  </tr>\n",
    "<tr height=\"20\" style=\"height: 15pt;\">   <td height=\"20\" style=\"background-color: #eeeeee; height: 15pt;\">во</td>   <td style=\"background-color: #eeeeee;\">какой</td>   <td style=\"background-color: #eeeeee;\">они</td>   <td style=\"background-color: #eeeeee;\">ты</td>  </tr>\n",
    "<tr height=\"20\" style=\"height: 15pt;\">   <td height=\"20\" style=\"background-color: #eeeeee; height: 15pt;\">вот</td>   <td style=\"background-color: #eeeeee;\">когда</td>   <td style=\"background-color: #eeeeee;\">опять</td>   <td style=\"background-color: #eeeeee;\">у</td>  </tr>\n",
    "<tr height=\"20\" style=\"height: 15pt;\">   <td height=\"20\" style=\"background-color: #eeeeee; height: 15pt;\">впрочем</td>   <td style=\"background-color: #eeeeee;\">конечно</td>   <td style=\"background-color: #eeeeee;\">от</td>   <td style=\"background-color: #eeeeee;\">уж</td>  </tr>\n",
    "<tr height=\"20\" style=\"height: 15pt;\">   <td height=\"20\" style=\"background-color: #eeeeee; height: 15pt;\">все</td>   <td style=\"background-color: #eeeeee;\">которого</td>   <td style=\"background-color: #eeeeee;\">перед</td>   <td style=\"background-color: #eeeeee;\">уже</td>  </tr>\n",
    "<tr height=\"20\" style=\"height: 15pt;\">   <td height=\"20\" style=\"background-color: #eeeeee; height: 15pt;\">всегда</td>   <td style=\"background-color: #eeeeee;\">которые</td>   <td style=\"background-color: #eeeeee;\">по</td>   <td style=\"background-color: #eeeeee;\">хорошо</td>  </tr>\n",
    "<tr height=\"20\" style=\"height: 15pt;\">   <td height=\"20\" style=\"background-color: #eeeeee; height: 15pt;\">всего</td>   <td style=\"background-color: #eeeeee;\">кто</td>   <td style=\"background-color: #eeeeee;\">под</td>   <td style=\"background-color: #eeeeee;\">хоть</td>  </tr>\n",
    "<tr height=\"20\" style=\"height: 15pt;\">   <td height=\"20\" style=\"background-color: #eeeeee; height: 15pt;\">всех</td>   <td style=\"background-color: #eeeeee;\">куда</td>   <td style=\"background-color: #eeeeee;\">после</td>   <td style=\"background-color: #eeeeee;\">чего</td>  </tr>\n",
    "<tr height=\"20\" style=\"height: 15pt;\">   <td height=\"20\" style=\"background-color: #eeeeee; height: 15pt;\">всю</td>   <td style=\"background-color: #eeeeee;\">ли</td>   <td style=\"background-color: #eeeeee;\">потом</td>   <td style=\"background-color: #eeeeee;\">человек</td>  </tr>\n",
    "<tr height=\"20\" style=\"height: 15pt;\">   <td height=\"20\" style=\"background-color: #eeeeee; height: 15pt;\">вы</td>   <td style=\"background-color: #eeeeee;\">лучше</td>   <td style=\"background-color: #eeeeee;\">потому</td>   <td style=\"background-color: #eeeeee;\">чем</td>  </tr>\n",
    "<tr height=\"20\" style=\"height: 15pt;\">   <td height=\"20\" style=\"background-color: #eeeeee; height: 15pt;\">г</td>   <td style=\"background-color: #eeeeee;\">между</td>   <td style=\"background-color: #eeeeee;\">почти</td>   <td style=\"background-color: #eeeeee;\">через</td>  </tr>\n",
    "<tr height=\"20\" style=\"height: 15pt;\">   <td height=\"20\" style=\"background-color: #eeeeee; height: 15pt;\">где</td>   <td style=\"background-color: #eeeeee;\">меня</td>   <td style=\"background-color: #eeeeee;\">при</td>   <td style=\"background-color: #eeeeee;\">что</td>  </tr>\n",
    "<tr height=\"20\" style=\"height: 15pt;\">   <td height=\"20\" style=\"background-color: #eeeeee; height: 15pt;\">говорил</td>   <td style=\"background-color: #eeeeee;\">мне</td>   <td style=\"background-color: #eeeeee;\">про</td>   <td style=\"background-color: #eeeeee;\">чтоб</td>  </tr>\n",
    "<tr height=\"20\" style=\"height: 15pt;\">   <td height=\"20\" style=\"background-color: #eeeeee; height: 15pt;\">да</td>   <td style=\"background-color: #eeeeee;\">много</td>   <td style=\"background-color: #eeeeee;\">раз</td>   <td style=\"background-color: #eeeeee;\">чтобы</td>  </tr>\n",
    "<tr height=\"20\" style=\"height: 15pt;\">   <td height=\"20\" style=\"background-color: #eeeeee; height: 15pt;\">даже</td>   <td style=\"background-color: #eeeeee;\">может</td>   <td style=\"background-color: #eeeeee;\">разве</td>   <td style=\"background-color: #eeeeee;\">чуть</td>  </tr>\n",
    "<tr height=\"20\" style=\"height: 15pt;\">   <td height=\"20\" style=\"background-color: #eeeeee; height: 15pt;\">два</td>   <td style=\"background-color: #eeeeee;\">можно</td>   <td style=\"background-color: #eeeeee;\">с</td>   <td style=\"background-color: #eeeeee;\">эти</td>  </tr>\n",
    "<tr height=\"20\" style=\"height: 15pt;\">   <td height=\"20\" style=\"background-color: #eeeeee; height: 15pt;\">для</td>   <td style=\"background-color: #eeeeee;\">мой</td>   <td style=\"background-color: #eeeeee;\">сам</td>   <td style=\"background-color: #eeeeee;\">этого</td>  </tr>\n",
    "<tr height=\"20\" style=\"height: 15pt;\">   <td height=\"20\" style=\"background-color: #eeeeee; height: 15pt;\">до</td>   <td style=\"background-color: #eeeeee;\">моя</td>   <td style=\"background-color: #eeeeee;\">свое</td>   <td style=\"background-color: #eeeeee;\">этой</td>  </tr>\n",
    "<tr height=\"20\" style=\"height: 15pt;\">   <td height=\"20\" style=\"background-color: #eeeeee; height: 15pt;\">другой</td>   <td style=\"background-color: #eeeeee;\">мы</td>   <td style=\"background-color: #eeeeee;\">свою</td>   <td style=\"background-color: #eeeeee;\">этом</td>  </tr>\n",
    "<tr height=\"20\" style=\"height: 15pt;\">   <td height=\"20\" style=\"background-color: #eeeeee; height: 15pt;\">его</td>   <td style=\"background-color: #eeeeee;\">на</td>   <td style=\"background-color: #eeeeee;\">себе</td>   <td style=\"background-color: #eeeeee;\">этот</td>  </tr>\n",
    "<tr height=\"20\" style=\"height: 15pt;\">   <td height=\"20\" style=\"background-color: #eeeeee; height: 15pt;\">ее</td>   <td style=\"background-color: #eeeeee;\">над</td>   <td style=\"background-color: #eeeeee;\">себя</td>   <td style=\"background-color: #eeeeee;\">эту</td>  </tr>\n",
    "<tr height=\"20\" style=\"height: 15pt;\">   <td height=\"20\" style=\"background-color: #eeeeee; height: 15pt;\">ей</td>   <td style=\"background-color: #eeeeee;\">надо</td>   <td style=\"background-color: #eeeeee;\">сегодня</td>   <td style=\"background-color: #eeeeee;\">я</td>  </tr>\n",
    "<tr height=\"20\" style=\"height: 15pt;\">   <td height=\"20\" style=\"background-color: #eeeeee; height: 15pt;\">ему</td>   <td style=\"background-color: #eeeeee;\">наконец</td>   <td style=\"background-color: #eeeeee;\">сейчас</td>   <td style=\"background-color: #eeeeee;\"><br>\n",
    "</td>  </tr>\n",
    "<tr height=\"20\" style=\"height: 15pt;\">   <td height=\"20\" style=\"background-color: #eeeeee; height: 15pt;\">если</td>   <td style=\"background-color: #eeeeee;\">нас</td>   <td style=\"background-color: #eeeeee;\">сказал</td>   <td style=\"background-color: #eeeeee;\"><br>\n",
    "</td>  </tr>\n",
    "<tr height=\"20\" style=\"height: 15pt;\">   <td height=\"20\" style=\"background-color: #eeeeee; height: 15pt;\">есть</td>   <td style=\"background-color: #eeeeee;\">не</td>   <td style=\"background-color: #eeeeee;\">сказала</td>   <td style=\"background-color: #eeeeee;\"><br>\n",
    "</td>  </tr>\n",
    "</table>"
   ]
  },
  {
   "cell_type": "code",
   "execution_count": 32,
   "metadata": {},
   "outputs": [
    {
     "data": {
      "text/plain": [
       "'3.4.5'"
      ]
     },
     "execution_count": 32,
     "metadata": {},
     "output_type": "execute_result"
    }
   ],
   "source": [
    "# pip install -U nltk\n",
    "import nltk\n",
    "nltk.__version__\n",
    "# # nltk.download()"
   ]
  },
  {
   "cell_type": "code",
   "execution_count": 33,
   "metadata": {},
   "outputs": [
    {
     "data": {
      "text/plain": [
       "'3.4.5'"
      ]
     },
     "execution_count": 33,
     "metadata": {},
     "output_type": "execute_result"
    }
   ],
   "source": [
    "nltk.__version__"
   ]
  },
  {
   "cell_type": "code",
   "execution_count": 34,
   "metadata": {},
   "outputs": [
    {
     "name": "stderr",
     "output_type": "stream",
     "text": [
      "[nltk_data] Downloading package stopwords to\n",
      "[nltk_data]     C:\\Users\\Сергей\\AppData\\Roaming\\nltk_data...\n",
      "[nltk_data]   Package stopwords is already up-to-date!\n"
     ]
    },
    {
     "data": {
      "text/plain": [
       "True"
      ]
     },
     "execution_count": 34,
     "metadata": {},
     "output_type": "execute_result"
    }
   ],
   "source": [
    "# Загрузка списков стоп-слов в NLTK:\n",
    "nltk.download(\"stopwords\")"
   ]
  },
  {
   "cell_type": "code",
   "execution_count": 35,
   "metadata": {},
   "outputs": [],
   "source": [
    "from nltk.corpus import stopwords"
   ]
  },
  {
   "cell_type": "code",
   "execution_count": 36,
   "metadata": {},
   "outputs": [
    {
     "name": "stdout",
     "output_type": "stream",
     "text": [
      "['i', 'me', 'my', 'myself', 'we', 'our', 'ours', 'ourselves', 'you', \"you're\", \"you've\", \"you'll\", \"you'd\", 'your', 'yours', 'yourself', 'yourselves', 'he', 'him', 'his', 'himself', 'she', \"she's\", 'her', 'hers', 'herself', 'it', \"it's\", 'its', 'itself', 'they', 'them', 'their', 'theirs', 'themselves', 'what', 'which', 'who', 'whom', 'this', 'that', \"that'll\", 'these', 'those', 'am', 'is', 'are', 'was', 'were', 'be', 'been', 'being', 'have', 'has', 'had', 'having', 'do', 'does', 'did', 'doing', 'a', 'an', 'the', 'and', 'but', 'if', 'or', 'because', 'as', 'until', 'while', 'of', 'at', 'by', 'for', 'with', 'about', 'against', 'between', 'into', 'through', 'during', 'before', 'after', 'above', 'below', 'to', 'from', 'up', 'down', 'in', 'out', 'on', 'off', 'over', 'under', 'again', 'further', 'then', 'once', 'here', 'there', 'when', 'where', 'why', 'how', 'all', 'any', 'both', 'each', 'few', 'more', 'most', 'other', 'some', 'such', 'no', 'nor', 'not', 'only', 'own', 'same', 'so', 'than', 'too', 'very', 's', 't', 'can', 'will', 'just', 'don', \"don't\", 'should', \"should've\", 'now', 'd', 'll', 'm', 'o', 're', 've', 'y', 'ain', 'aren', \"aren't\", 'couldn', \"couldn't\", 'didn', \"didn't\", 'doesn', \"doesn't\", 'hadn', \"hadn't\", 'hasn', \"hasn't\", 'haven', \"haven't\", 'isn', \"isn't\", 'ma', 'mightn', \"mightn't\", 'mustn', \"mustn't\", 'needn', \"needn't\", 'shan', \"shan't\", 'shouldn', \"shouldn't\", 'wasn', \"wasn't\", 'weren', \"weren't\", 'won', \"won't\", 'wouldn', \"wouldn't\"]\n"
     ]
    }
   ],
   "source": [
    "print(stopwords.words('english'))"
   ]
  },
  {
   "cell_type": "code",
   "execution_count": 37,
   "metadata": {},
   "outputs": [
    {
     "name": "stdout",
     "output_type": "stream",
     "text": [
      "['и', 'в', 'во', 'не', 'что', 'он', 'на', 'я', 'с', 'со', 'как', 'а', 'то', 'все', 'она', 'так', 'его', 'но', 'да', 'ты', 'к', 'у', 'же', 'вы', 'за', 'бы', 'по', 'только', 'ее', 'мне', 'было', 'вот', 'от', 'меня', 'еще', 'нет', 'о', 'из', 'ему', 'теперь', 'когда', 'даже', 'ну', 'вдруг', 'ли', 'если', 'уже', 'или', 'ни', 'быть', 'был', 'него', 'до', 'вас', 'нибудь', 'опять', 'уж', 'вам', 'ведь', 'там', 'потом', 'себя', 'ничего', 'ей', 'может', 'они', 'тут', 'где', 'есть', 'надо', 'ней', 'для', 'мы', 'тебя', 'их', 'чем', 'была', 'сам', 'чтоб', 'без', 'будто', 'чего', 'раз', 'тоже', 'себе', 'под', 'будет', 'ж', 'тогда', 'кто', 'этот', 'того', 'потому', 'этого', 'какой', 'совсем', 'ним', 'здесь', 'этом', 'один', 'почти', 'мой', 'тем', 'чтобы', 'нее', 'сейчас', 'были', 'куда', 'зачем', 'всех', 'никогда', 'можно', 'при', 'наконец', 'два', 'об', 'другой', 'хоть', 'после', 'над', 'больше', 'тот', 'через', 'эти', 'нас', 'про', 'всего', 'них', 'какая', 'много', 'разве', 'три', 'эту', 'моя', 'впрочем', 'хорошо', 'свою', 'этой', 'перед', 'иногда', 'лучше', 'чуть', 'том', 'нельзя', 'такой', 'им', 'более', 'всегда', 'конечно', 'всю', 'между']\n"
     ]
    }
   ],
   "source": [
    "ru_stop_words = stopwords.words('russian')\n",
    "print(ru_stop_words)"
   ]
  },
  {
   "cell_type": "code",
   "execution_count": 105,
   "metadata": {},
   "outputs": [],
   "source": [
    "# with open('phm.txt ') as f:\n",
    "#     lines = [l for l in f]\n",
    "# print(len(lines))\n",
    "# print(lines[0])"
   ]
  },
  {
   "cell_type": "markdown",
   "metadata": {},
   "source": [
    "## Мешок слов"
   ]
  },
  {
   "cell_type": "markdown",
   "metadata": {},
   "source": [
    "__Мешок слов__ (bag-of-words, BoW) – модель, которая используется при обработке естественного языка для представления текста. Для представления текста ведется подсчет того, сколько раз каждое отдельное слово появляется в тексте, таким образом текст преобразуется в вектор, координатами которого являются рассматриваемые слова, а значениями - частоты слов. \n",
    "* Любая информация о порядке или структуре слов в документе отбрасывается. Модель касается только того, встречаются ли в документе известные слова, а не где в документе.\n",
    "    * Интуиция заключается в том, что документы похожи, если они имеют похожее содержание.\n",
    "* Модели мешка слов могут отличаться способами в определении словарного запаса известных слов (или токенов) и в том, как оценивать наличие известных слов.\n",
    "* Перед подсчетом можно применить методы предварительной обработки, описанные в выше."
   ]
  },
  {
   "cell_type": "code",
   "execution_count": 38,
   "metadata": {},
   "outputs": [],
   "source": [
    "import re\n",
    "import itertools as it\n",
    "from razdel import sentenize\n",
    "from razdel import tokenize\n",
    "import pymorphy2\n",
    "morph = pymorphy2.MorphAnalyzer()"
   ]
  },
  {
   "cell_type": "code",
   "execution_count": 39,
   "metadata": {},
   "outputs": [],
   "source": [
    "# получаем все интересные нам токены:\n",
    "w_regex = re.compile('^[а-яА-ЯёЁ]*$') # re.compile('^[а-яА-ЯёЁ,\\.]*$')\n",
    "with open(\"AnnaKarenina_.txt\", encoding=\"cp1251\") as f:\n",
    "    book_tokens = [t.text.lower() for t in tokenize(f.read()) if w_regex.search(t.text)]    "
   ]
  },
  {
   "cell_type": "code",
   "execution_count": 40,
   "metadata": {
    "scrolled": true
   },
   "outputs": [
    {
     "name": "stdout",
     "output_type": "stream",
     "text": [
      "266954 ['лев', 'николаевич', 'толстой', 'анна', 'каренина', 'мне', 'отмщение', 'и', 'аз', 'воздам', 'часть', 'первая', 'все', 'счастливые', 'семьи', 'похожи', 'друг', 'на', 'друга', 'каждая', 'несчастливая', 'семья', 'несчастлива', 'все', 'смешалось', 'в', 'доме', 'облонских', 'жена', 'узнала', 'что', 'муж', 'был', 'в', 'связи', 'с', 'бывшею', 'в', 'их', 'доме', 'и', 'объявила', 'мужу', 'что', 'не', 'может', 'жить', 'с', 'ним', 'в', 'одном', 'доме', 'положение', 'это', 'продолжалось', 'уже', 'третий', 'день', 'и', 'мучительно', 'чувствовалось', 'и', 'самими', 'супругами', 'и', 'всеми', 'членами', 'семьи', 'и', 'домочадцами', 'все', 'члены', 'семьи', 'и', 'домочадцы', 'чувствовали', 'что', 'нет', 'смысла', 'в', 'их', 'сожительстве', 'и', 'что', 'на', 'каждом', 'постоялом', 'дворе', 'случайно', 'сошедшиеся', 'люди', 'более', 'связаны', 'между', 'собой', 'чем', 'они', 'члены', 'семьи', 'и', 'домочадцы', 'облонских', 'жена', 'не', 'выходила', 'из', 'своих', 'комнат', 'мужа', 'третий', 'день', 'не', 'было', 'дома', 'дети', 'бегали', 'по', 'всему', 'дому', 'как', 'потерянные', 'англичанка', 'поссорилась', 'с', 'экономкой', 'и', 'написала', 'записку', 'приятельнице', 'прося', 'приискать', 'ей', 'новое', 'место', 'повар', 'ушел', 'еще', 'вчера', 'со', 'двора', 'во', 'время', 'обеда', 'черная', 'кухарка', 'и', 'кучер', 'просили', 'расчета', 'на']\n",
      "None\n"
     ]
    }
   ],
   "source": [
    "print(print(len(book_tokens), book_tokens[:150]))"
   ]
  },
  {
   "cell_type": "code",
   "execution_count": 41,
   "metadata": {},
   "outputs": [],
   "source": [
    "# http://www.nltk.org/api/nltk.html#nltk.probability.FreqDist\n",
    "from nltk.probability import FreqDist\n",
    "fdist = FreqDist(book_tokens)"
   ]
  },
  {
   "cell_type": "code",
   "execution_count": 42,
   "metadata": {},
   "outputs": [
    {
     "name": "stdout",
     "output_type": "stream",
     "text": [
      "Обработано токенов:266954; найдено различных токенов:32569\n"
     ]
    }
   ],
   "source": [
    "print(f'Обработано токенов:{fdist.N()}; найдено различных токенов:{fdist.B()}')"
   ]
  },
  {
   "cell_type": "code",
   "execution_count": 43,
   "metadata": {},
   "outputs": [
    {
     "name": "stdout",
     "output_type": "stream",
     "text": [
      "Содержимое: [('лев', 1), ('николаевич', 2), ('толстой', 2), ('анна', 499), ('каренина', 45), ('мне', 682), ('отмщение', 1), ('и', 12916), ('аз', 1), ('воздам', 1)]\n"
     ]
    }
   ],
   "source": [
    "print('Содержимое:', list(it.islice(fdist.items(), 10)))"
   ]
  },
  {
   "cell_type": "code",
   "execution_count": 44,
   "metadata": {},
   "outputs": [
    {
     "name": "stdout",
     "output_type": "stream",
     "text": [
      "Самое частое слово:и,  частота слова \"анна\":499\n"
     ]
    }
   ],
   "source": [
    "print(f'Самое частое слово:{fdist.max()},  частота слова \"анна\":{fdist.get(\"анна\")}')"
   ]
  },
  {
   "cell_type": "code",
   "execution_count": 46,
   "metadata": {
    "scrolled": true
   },
   "outputs": [
    {
     "name": "stdout",
     "output_type": "stream",
     "text": [
      "[('и', 12916), ('не', 6537), ('что', 5765), ('в', 5720), ('он', 5551), ('на', 3594), ('она', 3434), ('с', 3327), ('я', 3212), ('как', 2660), ('но', 2581), ('его', 2578), ('это', 2223), ('к', 1983), ('ее', 1805), ('все', 1671), ('было', 1656), ('так', 1415), ('сказал', 1412), ('а', 1391), ('то', 1388), ('же', 1325), ('ему', 1252), ('о', 1243), ('за', 1139), ('левин', 1135), ('только', 1017), ('ты', 993), ('у', 913), ('был', 901), ('по', 834), ('когда', 831), ('для', 827), ('сказала', 827), ('бы', 822), ('от', 813), ('да', 812), ('теперь', 810), ('вы', 756), ('из', 735), ('была', 728), ('еще', 699), ('ей', 689), ('мне', 682), ('кити', 661), ('они', 646), ('него', 622), ('уже', 601), ('нет', 592), ('очень', 573)]\n"
     ]
    }
   ],
   "source": [
    "print(fdist.most_common(50))"
   ]
  },
  {
   "cell_type": "markdown",
   "metadata": {},
   "source": [
    "Видим, что в мешке слов большинство самых частотных слов - стоп-слова."
   ]
  },
  {
   "cell_type": "code",
   "execution_count": 47,
   "metadata": {
    "scrolled": true
   },
   "outputs": [
    {
     "name": "stdout",
     "output_type": "stream",
     "text": [
      "['лев', 'николаевич', 'толстой', 'анна', 'каренина', 'отмщение', 'аз', 'воздам', 'часть', 'первая', 'счастливые', 'семьи', 'похожи', 'друг', 'друга', 'каждая', 'несчастливая', 'семья', 'несчастлива', 'смешалось', 'доме', 'облонских', 'жена', 'узнала', 'муж', 'связи', 'бывшею', 'доме', 'объявила', 'мужу', 'жить', 'одном', 'доме', 'положение', 'это', 'продолжалось', 'третий', 'день', 'мучительно', 'чувствовалось', 'самими', 'супругами', 'всеми', 'членами', 'семьи', 'домочадцами', 'члены', 'семьи', 'домочадцы', 'чувствовали', 'смысла', 'сожительстве', 'каждом', 'постоялом', 'дворе', 'случайно', 'сошедшиеся', 'люди', 'связаны', 'собой', 'члены', 'семьи', 'домочадцы', 'облонских', 'жена', 'выходила', 'своих', 'комнат', 'мужа', 'третий', 'день', 'дома', 'дети', 'бегали', 'всему', 'дому', 'потерянные', 'англичанка', 'поссорилась', 'экономкой', 'написала', 'записку', 'приятельнице', 'прося', 'приискать', 'новое', 'место', 'повар', 'ушел', 'вчера', 'двора', 'время', 'обеда', 'черная', 'кухарка', 'кучер', 'просили', 'расчета']\n"
     ]
    }
   ],
   "source": [
    "ru_stop_words_s = set(ru_stop_words)\n",
    "# фильтруем стоп-слова:\n",
    "wtokens_wostw = [w for w in book_tokens[:150] if w not in ru_stop_words_s]\n",
    "print(wtokens_wostw)"
   ]
  },
  {
   "cell_type": "code",
   "execution_count": 48,
   "metadata": {
    "scrolled": true
   },
   "outputs": [
    {
     "name": "stdout",
     "output_type": "stream",
     "text": [
      "[(12, 'это', 2223), (18, 'сказал', 1412), (25, 'левин', 1135), (33, 'сказала', 827), (44, 'кити', 661), (49, 'очень', 573), (53, 'вронский', 509), (56, 'анна', 499), (66, 'алексей', 429), (68, 'степан', 423), (69, 'аркадьич', 422), (72, 'александрович', 395), (81, 'время', 366), (82, 'мог', 357), (83, 'говорил', 357), (89, 'руку', 309), (90, 'долли', 302), (92, 'которые', 295), (97, 'лицо', 277), (98, 'сказать', 276), (102, 'дело', 272), (103, 'левина', 272), (108, 'который', 263), (111, 'своей', 251), (113, 'знал', 249), (116, 'жизни', 235), (117, 'говорить', 234), (118, 'знаю', 233), (121, 'которое', 231), (124, 'пред', 224), (125, 'хотел', 219), (127, 'сергей', 219), (129, 'нужно', 217), (130, 'человек', 215), (131, 'прежде', 215), (132, 'глаза', 214), (134, 'могу', 214), (135, 'видел', 214), (137, 'тебе', 213), (139, 'тотчас', 211), (141, 'чувствовал', 210), (143, 'вронского', 205), (145, 'одно', 202), (146, 'своего', 199), (147, 'могла', 199), (148, 'свое', 198), (149, 'иванович', 191), (153, 'думал', 189), (154, 'глядя', 189), (156, 'говорила', 184)]\n"
     ]
    }
   ],
   "source": [
    "# самые частотные слова \"Анны Карениной\" после очистки от стоп-слов:\n",
    "print(list(it.islice(((i, w, f) for i, (w, f) in enumerate(fdist.most_common(500)) \\\n",
    "                      if w not in ru_stop_words_s), 50)))"
   ]
  },
  {
   "cell_type": "markdown",
   "metadata": {},
   "source": [
    "## Векторное представление документа"
   ]
  },
  {
   "cell_type": "markdown",
   "metadata": {},
   "source": [
    "Все слова (в более общем случае - термы: слова и другие значимые элементы текста) которые встречаются в документах обрабатываемой коллекции, можно упорядочить. Если теперь для некоторого документа выписать по порядку веса всех термов, включая те, которых нет в этом документе, получится вектор, который и будет представлением данного документа в векторном пространстве.\n",
    "* Размерность этого вектора, как и размерность пространства, равна количеству различных термов во всей коллекции, и является одинаковой для всех документов.\n",
    "\n",
    "Записывая формально, документ $j$ описывается вектором:\n",
    "\n",
    "$$d_j = (w_{1j}, w_{2j},\\dotsc, w_{nj})$$\n",
    "\n",
    "где $d_j$ — векторное представление j-го документа, где $w_{ij}$ — вес i-го слова в j-м документе, n — общее количество различных термов во всех документах коллекции.\n",
    "\n",
    "Располагая таким представлением для всех документов, можно, например, находить расстояние между точками пространства и тем самым решать задачу подобия документов — чем ближе расположены точки, тем больше похожи соответствующие документы."
   ]
  },
  {
   "cell_type": "markdown",
   "metadata": {},
   "source": [
    "__Методы взвешивания термов__\n",
    "\n",
    "Для полного определения векторной модели необходимо указать, каким именно образом будет отыскиваться вес терма в документе. Существует несколько стандартных способов задания функции взвешивания:\n",
    "\n",
    "* булевский вес — равен 1, если терм встречается в документе и 0 в противном случае;\n",
    "* tf (term frequency, частота терма) — вес определяется как функция от количества вхождений терма в документе;\n",
    "* tf-idf (term frequency — inverse document frequency, частота терма — обратная частота документа) — вес определяется как произведение функции от количества вхождений терма в документ и функции от величины, обратной количеству документов коллекции, в которых встречается этот терм."
   ]
  },
  {
   "cell_type": "markdown",
   "metadata": {},
   "source": [
    "__Косинусное сходство__\n",
    "\n",
    "Косинусное сходство — это мера сходства между двумя векторами предгильбертового пространства, которая используется для измерения косинуса угла между ними.\n",
    "\n",
    "Если даны два вектора признаков, A и B, то косинусное сходство, cos(θ), может быть представлено используя скалярное произведение и норму:\n",
    "\n",
    "\n",
    "$$\\text{similarity} = \\cos(\\theta) = {A \\cdot B \\over \\|A\\| \\|B\\|} = \\frac{ \\sum\\limits_{i=1}^{n}{A_i \\times B_i} }{ \\sqrt{\\sum\\limits_{i=1}^{n}{(A_i)^2}} \\times \\sqrt{\\sum\\limits_{i=1}^{n}{(B_i)^2}} }$$\n",
    "\n",
    "косинусное сходство двух документов изменяется в диапазоне от 0 до 1, поскольку частота терма (например, веса tf-idf) не может быть отрицательной. Угол между двумя векторами частоты терма не может быть больше, чем 90°.\n",
    "\n",
    "Одна из причин популярности косинуснуго сходства состоит в том, что __оно эффективно в качестве оценочной меры, особенно для разреженных векторов__, так как необходимо учитывать только ненулевые измерения."
   ]
  },
  {
   "cell_type": "markdown",
   "metadata": {},
   "source": [
    "Пример 1: Тривиальный пример с векторизацией на основе подсчета слов:"
   ]
  },
  {
   "cell_type": "code",
   "execution_count": 49,
   "metadata": {},
   "outputs": [],
   "source": [
    "import re\n",
    "import itertools as it\n",
    "from razdel import sentenize\n",
    "from razdel import tokenize\n",
    "import pymorphy2\n",
    "from nltk.corpus import stopwords\n",
    "\n",
    "import numpy as np\n",
    "from numpy.linalg import norm\n",
    "\n",
    "import nltk, string\n",
    "from sklearn.feature_extraction.text import (CountVectorizer, TfidfVectorizer)"
   ]
  },
  {
   "cell_type": "code",
   "execution_count": 50,
   "metadata": {},
   "outputs": [],
   "source": [
    "# корпус текстов:\n",
    "corpus = ['This is the first document.',\n",
    "          'This document is the second document.',\n",
    "          'And this is the third one.',\n",
    "          'Is this the first document?']\n",
    "\n",
    "# создание векторизатора:\n",
    "cv = CountVectorizer()\n",
    "\n",
    "# векторизуем корпус:\n",
    "corpus_cv = cv.fit_transform(corpus)"
   ]
  },
  {
   "cell_type": "code",
   "execution_count": 51,
   "metadata": {},
   "outputs": [
    {
     "data": {
      "text/plain": [
       "['and', 'document', 'first', 'is', 'one', 'second', 'the', 'third', 'this']"
      ]
     },
     "execution_count": 51,
     "metadata": {},
     "output_type": "execute_result"
    }
   ],
   "source": [
    "# рассмотренные токены:\n",
    "cv.get_feature_names()"
   ]
  },
  {
   "cell_type": "code",
   "execution_count": 52,
   "metadata": {},
   "outputs": [
    {
     "data": {
      "text/plain": [
       "array([[0, 1, 1, 1, 0, 0, 1, 0, 1],\n",
       "       [0, 2, 0, 1, 0, 1, 1, 0, 1],\n",
       "       [1, 0, 0, 1, 1, 0, 1, 1, 1],\n",
       "       [0, 1, 1, 1, 0, 0, 1, 0, 1]], dtype=int64)"
      ]
     },
     "execution_count": 52,
     "metadata": {},
     "output_type": "execute_result"
    }
   ],
   "source": [
    "cv_ar = corpus_cv.toarray()\n",
    "cv_ar"
   ]
  },
  {
   "cell_type": "code",
   "execution_count": 53,
   "metadata": {},
   "outputs": [
    {
     "data": {
      "text/plain": [
       "array([2.23606798, 2.82842712, 2.44948974, 2.23606798])"
      ]
     },
     "execution_count": 53,
     "metadata": {},
     "output_type": "execute_result"
    }
   ],
   "source": [
    "norm(cv_ar, axis=1)"
   ]
  },
  {
   "cell_type": "code",
   "execution_count": 54,
   "metadata": {},
   "outputs": [],
   "source": [
    "# нормализация:\n",
    "ca_arn = cv_ar / norm(cv_ar, axis=1)[:, np.newaxis]"
   ]
  },
  {
   "cell_type": "code",
   "execution_count": 55,
   "metadata": {},
   "outputs": [
    {
     "data": {
      "text/plain": [
       "array([[0.        , 0.4472136 , 0.4472136 , 0.4472136 , 0.        ,\n",
       "        0.        , 0.4472136 , 0.        , 0.4472136 ],\n",
       "       [0.        , 0.70710678, 0.        , 0.35355339, 0.        ,\n",
       "        0.35355339, 0.35355339, 0.        , 0.35355339],\n",
       "       [0.40824829, 0.        , 0.        , 0.40824829, 0.40824829,\n",
       "        0.        , 0.40824829, 0.40824829, 0.40824829],\n",
       "       [0.        , 0.4472136 , 0.4472136 , 0.4472136 , 0.        ,\n",
       "        0.        , 0.4472136 , 0.        , 0.4472136 ]])"
      ]
     },
     "execution_count": 55,
     "metadata": {},
     "output_type": "execute_result"
    }
   ],
   "source": [
    "ca_arn"
   ]
  },
  {
   "cell_type": "code",
   "execution_count": 56,
   "metadata": {
    "scrolled": true
   },
   "outputs": [
    {
     "data": {
      "text/plain": [
       "array([[1.        , 0.79056942, 0.54772256, 1.        ],\n",
       "       [0.79056942, 1.        , 0.4330127 , 0.79056942],\n",
       "       [0.54772256, 0.4330127 , 1.        , 0.54772256],\n",
       "       [1.        , 0.79056942, 0.54772256, 1.        ]])"
      ]
     },
     "execution_count": 56,
     "metadata": {},
     "output_type": "execute_result"
    }
   ],
   "source": [
    "ca_arn @ ca_arn.T"
   ]
  },
  {
   "cell_type": "markdown",
   "metadata": {},
   "source": [
    "Использование TfidfVectorizer"
   ]
  },
  {
   "cell_type": "code",
   "execution_count": 57,
   "metadata": {},
   "outputs": [],
   "source": [
    "# создание векторизатора:\n",
    "tv = TfidfVectorizer()\n",
    "\n",
    "# векторизуем корпус:\n",
    "corpus_tv = tv.fit_transform(corpus)"
   ]
  },
  {
   "cell_type": "code",
   "execution_count": 58,
   "metadata": {},
   "outputs": [
    {
     "data": {
      "text/plain": [
       "['and', 'document', 'first', 'is', 'one', 'second', 'the', 'third', 'this']"
      ]
     },
     "execution_count": 58,
     "metadata": {},
     "output_type": "execute_result"
    }
   ],
   "source": [
    "# рассмотренные токены:\n",
    "tv.get_feature_names()"
   ]
  },
  {
   "cell_type": "code",
   "execution_count": 59,
   "metadata": {},
   "outputs": [
    {
     "data": {
      "text/plain": [
       "array([[0.        , 0.46979139, 0.58028582, 0.38408524, 0.        ,\n",
       "        0.        , 0.38408524, 0.        , 0.38408524],\n",
       "       [0.        , 0.6876236 , 0.        , 0.28108867, 0.        ,\n",
       "        0.53864762, 0.28108867, 0.        , 0.28108867],\n",
       "       [0.51184851, 0.        , 0.        , 0.26710379, 0.51184851,\n",
       "        0.        , 0.26710379, 0.51184851, 0.26710379],\n",
       "       [0.        , 0.46979139, 0.58028582, 0.38408524, 0.        ,\n",
       "        0.        , 0.38408524, 0.        , 0.38408524]])"
      ]
     },
     "execution_count": 59,
     "metadata": {},
     "output_type": "execute_result"
    }
   ],
   "source": [
    "corpus_tv.toarray()"
   ]
  },
  {
   "cell_type": "code",
   "execution_count": 60,
   "metadata": {},
   "outputs": [
    {
     "data": {
      "text/plain": [
       "array([[1.        , 0.64692568, 0.30777187, 1.        ],\n",
       "       [0.64692568, 1.        , 0.22523955, 0.64692568],\n",
       "       [0.30777187, 0.22523955, 1.        , 0.30777187],\n",
       "       [1.        , 0.64692568, 0.30777187, 1.        ]])"
      ]
     },
     "execution_count": 60,
     "metadata": {},
     "output_type": "execute_result"
    }
   ],
   "source": [
    "pairwise_similarity = corpus_tv * corpus_tv.T \n",
    "pairwise_similarity.toarray()"
   ]
  },
  {
   "cell_type": "code",
   "execution_count": null,
   "metadata": {},
   "outputs": [],
   "source": []
  },
  {
   "cell_type": "markdown",
   "metadata": {},
   "source": [
    "Пример 2: Векторизация данных реального новостного потока\n",
    "\n",
    "* Источник данных: https://webhose.io/free-datasets/russian-news-articles/\n",
    "* альтернатива: https://github.com/RossiyaSegodnya/ria_news_dataset\n",
    "\n",
    "Этап 1: загрузка данных"
   ]
  },
  {
   "cell_type": "code",
   "execution_count": 61,
   "metadata": {},
   "outputs": [],
   "source": [
    "import json\n",
    "from os import listdir\n",
    "from os.path import isfile, join"
   ]
  },
  {
   "cell_type": "code",
   "execution_count": 62,
   "metadata": {},
   "outputs": [
    {
     "data": {
      "text/plain": [
       "(['news_0000001.json',\n",
       "  'news_0000002.json',\n",
       "  'news_0000003.json',\n",
       "  'news_0000004.json',\n",
       "  'news_0000005.json'],\n",
       " ['news_0000995.json',\n",
       "  'news_0000996.json',\n",
       "  'news_0000997.json',\n",
       "  'news_0000998.json',\n",
       "  'news_0000999.json'],\n",
       " 999)"
      ]
     },
     "execution_count": 62,
     "metadata": {},
     "output_type": "execute_result"
    }
   ],
   "source": [
    "# получение имен всех файлов, находящихся по определенному пути:\n",
    "news_path = './news'\n",
    "news_files = [f for f in listdir(news_path) if isfile(join(news_path, f))]\n",
    "news_files[:5], news_files[-5:], len(news_files)"
   ]
  },
  {
   "cell_type": "code",
   "execution_count": 64,
   "metadata": {},
   "outputs": [
    {
     "data": {
      "text/plain": [
       "{'organizations': [],\n",
       " 'uuid': '99bbd8fc99f9458417204a7107d21a0e03272d60',\n",
       " 'thread': {'social': {'gplus': {'shares': 0},\n",
       "   'pinterest': {'shares': 0},\n",
       "   'vk': {'shares': 0},\n",
       "   'linkedin': {'shares': 0},\n",
       "   'facebook': {'likes': 1, 'shares': 1, 'comments': 0},\n",
       "   'stumbledupon': {'shares': 0}},\n",
       "  'site_full': 'www.newsru.com',\n",
       "  'main_image': 'http://image.newsru.com/v2/02/2016/10//.jpg',\n",
       "  'site_section': 'http://feeds.newsru.com/com/www/news/main',\n",
       "  'section_title': 'NEWSru.com :: Важные новости',\n",
       "  'url': 'http://www.newsru.com/world/02oct2016/gulens.html',\n",
       "  'country': 'US',\n",
       "  'domain_rank': 3073,\n",
       "  'title': 'В Турции задержали очередного родственника Фетхуллаха Гюлена - его брата',\n",
       "  'performance_score': 0,\n",
       "  'site': 'newsru.com',\n",
       "  'participants_count': 0,\n",
       "  'title_full': 'В Турции задержали очередного родственника Фетхуллаха Гюлена - его брата',\n",
       "  'spam_score': 0.0,\n",
       "  'site_type': 'news',\n",
       "  'published': '2016-10-02T21:53:00.000+03:00',\n",
       "  'replies_count': 0,\n",
       "  'uuid': '99bbd8fc99f9458417204a7107d21a0e03272d60'},\n",
       " 'author': '',\n",
       " 'url': 'http://www.newsru.com/world/02oct2016/gulens.html',\n",
       " 'ord_in_thread': 0,\n",
       " 'title': 'В Турции задержали очередного родственника Фетхуллаха Гюлена - его брата',\n",
       " 'locations': [],\n",
       " 'entities': {'persons': [], 'locations': [], 'organizations': []},\n",
       " 'highlightText': '',\n",
       " 'language': 'russian',\n",
       " 'persons': [],\n",
       " 'text': 'В Турции задержали очередного родственника Фетхуллаха Гюлена - его брата   16:53   16:53 \\nТурецкая полиция задержала в городе Измир на западе страны брата оппозиционного исламского проповедника Фетхуллаха Гюлена Ктубеттина. Живущего в США проповедника Анкара считает вдохновителем попытки провалившегося переворота. Кутбеттин Гюлен разыскивался по обвинению в причастности к деятельности организации, возглавляемой его братом. Его доставили на допрос в Управление безопасности и, вероятно, вскоре предъявят обвинение. Операцию по задержанию провела полиция Измира на основе оперативных данных о том, что подозреваемый скрывается в доме своего родственника в районе Газиемир, передает РИА \"Новости\" . ТАСС напоминает, что 23 сентября власти Турции задержали племянницу Гюлена Эмине. Задержание прошло в уезде Эрдемит западной провинции Балыкесир. Выяснилось, что она значительную часть телефонных разговоров вела с одним абонентом в США. Кроме того, у нее изъято большое количество фотографий и книг Гюлена. В августе полиция задержала племянника Гюлена Кемаля Гюлена, телеведущего и адвоката. Он был задержан в одной из деревень в провинции Кастамону, где скрывался с середины июля после провала заговора. Еще раньше был задержан другой племянник проповедника Адбуллах Коруджук. В ночь на 16 июля в Турции группа мятежников совершила попытку военного переворота. Основное противостояние развернулось в Анкаре и Стамбуле. Погибли более 240 турецких граждан, более 2 тысяч человек получили ранения, мятеж был подавлен. Власти Турции обвинили Гюлена в причастности к попытке переворота и потребовали от США его экстрадиции. Сам Гюлен осудил мятеж и заявил о своей непричастности. По обвинению в причастности к организации Гюлена в Турции после мятежа были арестованы около 32 тысяч человек.',\n",
       " 'external_links': [],\n",
       " 'published': '2016-10-02T21:53:00.000+03:00',\n",
       " 'crawled': '2016-10-02T17:00:29.521+03:00',\n",
       " 'highlightTitle': ''}"
      ]
     },
     "execution_count": 64,
     "metadata": {},
     "output_type": "execute_result"
    }
   ],
   "source": [
    "with open(join(news_path, news_files[0]), 'r', encoding='utf-8') as f:\n",
    "    news_js = json.load(f)\n",
    "    \n",
    "news_js"
   ]
  },
  {
   "cell_type": "code",
   "execution_count": 58,
   "metadata": {},
   "outputs": [
    {
     "data": {
      "text/plain": [
       "'В Турции задержали очередного родственника Фетхуллаха Гюлена - его брата   16:53   16:53 \\nТурецкая полиция задержала в городе Измир на западе страны брата оппозиционного исламского проповедника Фетхуллаха Гюлена Ктубеттина. Живущего в США проповедника Анкара считает вдохновителем попытки провалившегося переворота. Кутбеттин Гюлен разыскивался по обвинению в причастности к деятельности организации, возглавляемой его братом. Его доставили на допрос в Управление безопасности и, вероятно, вскоре предъявят обвинение. Операцию по задержанию провела полиция Измира на основе оперативных данных о том, что подозреваемый скрывается в доме своего родственника в районе Газиемир, передает РИА \"Новости\" . ТАСС напоминает, что 23 сентября власти Турции задержали племянницу Гюлена Эмине. Задержание прошло в уезде Эрдемит западной провинции Балыкесир. Выяснилось, что она значительную часть телефонных разговоров вела с одним абонентом в США. Кроме того, у нее изъято большое количество фотографий и книг Гюлена. В августе полиция задержала племянника Гюлена Кемаля Гюлена, телеведущего и адвоката. Он был задержан в одной из деревень в провинции Кастамону, где скрывался с середины июля после провала заговора. Еще раньше был задержан другой племянник проповедника Адбуллах Коруджук. В ночь на 16 июля в Турции группа мятежников совершила попытку военного переворота. Основное противостояние развернулось в Анкаре и Стамбуле. Погибли более 240 турецких граждан, более 2 тысяч человек получили ранения, мятеж был подавлен. Власти Турции обвинили Гюлена в причастности к попытке переворота и потребовали от США его экстрадиции. Сам Гюлен осудил мятеж и заявил о своей непричастности. По обвинению в причастности к организации Гюлена в Турции после мятежа были арестованы около 32 тысяч человек.'"
      ]
     },
     "execution_count": 58,
     "metadata": {},
     "output_type": "execute_result"
    }
   ],
   "source": [
    "news_js['text']"
   ]
  },
  {
   "cell_type": "code",
   "execution_count": 65,
   "metadata": {},
   "outputs": [
    {
     "data": {
      "text/plain": [
       "('Уланова: чтобы охарактеризовать Гамову, достаточно одного слова — великая   22:02. Волейбол Либеро «Динамо Казань» Екатерина Уланова после прощального матча Екатерины Гамовой поделилась эмоциями, связанными с уходом Гамовой из спорта. «Слёзы на глаза накатываются, и мурашки по коже. Грустно, хотя понимаешь, конечно, что все мы рано или поздно будем уходить из спорта. Я очень счастливый человек, потому что мне удалось поиграть с Катей и в сборной, и в клубе. Какими словами я охарактеризовала бы Гамову? Мне достаточно одного слова – великая. И в жизни, и в спорте. Почему у нас не получилось шоу? Не знаю, что ответить на этот вопрос. Не мы решали. Сколько ни пытались сделать шоу в женском волейболе, не получается. Может быть, женский характер не позволяет раскрепоститься и сыграть в своё удовольствие. Да, сегодня была борьба, игра. Просто мы ещё не умеем делать шоу, не готовы к этому», — приводит слова Улановой «Спорт Бизнес Online».',\n",
       " 999)"
      ]
     },
     "execution_count": 65,
     "metadata": {},
     "output_type": "execute_result"
    }
   ],
   "source": [
    "news_texts_corpus = []\n",
    "for nf in news_files:\n",
    "    with open(join(news_path, nf), 'r', encoding='utf-8') as f:\n",
    "        news_texts_corpus.append(json.load(f)['text'])\n",
    "        \n",
    "news_texts_corpus[42], len(news_texts_corpus)        "
   ]
  },
  {
   "cell_type": "markdown",
   "metadata": {},
   "source": [
    "Этап 2: предподготовка: токенизация, очистка от стоп слов, лемматизация"
   ]
  },
  {
   "cell_type": "code",
   "execution_count": 66,
   "metadata": {},
   "outputs": [],
   "source": [
    "import re\n",
    "import itertools as it\n",
    "from razdel import sentenize\n",
    "from razdel import tokenize\n",
    "import pymorphy2\n",
    "from nltk.corpus import stopwords\n",
    "\n",
    "import nltk, string\n",
    "from sklearn.feature_extraction.text import TfidfVectorizer"
   ]
  },
  {
   "cell_type": "markdown",
   "metadata": {},
   "source": [
    "Готовим свой токенизатор (с нормализацией) и список стоп-слов:"
   ]
  },
  {
   "cell_type": "code",
   "execution_count": 67,
   "metadata": {},
   "outputs": [],
   "source": [
    "w_regex = re.compile('^[А-а-яЯёЁ]*$')\n",
    "morph = pymorphy2.MorphAnalyzer()\n",
    "\n",
    "def n_tokenizer(news_str):\n",
    "    return [morph.parse(t.text.lower())[0].normalized.word for t in tokenize(news_str) \n",
    "                   if w_regex.search(t.text)]"
   ]
  },
  {
   "cell_type": "code",
   "execution_count": 69,
   "metadata": {},
   "outputs": [
    {
     "data": {
      "text/plain": [
       "['в',\n",
       " 'турция',\n",
       " 'задержать',\n",
       " 'очередной',\n",
       " 'родственник',\n",
       " 'фетхуллах',\n",
       " 'гюлена',\n",
       " 'он',\n",
       " 'брат',\n",
       " 'турецкий',\n",
       " 'полиция',\n",
       " 'задержать',\n",
       " 'в',\n",
       " 'город',\n",
       " 'измир',\n",
       " 'на',\n",
       " 'запад',\n",
       " 'страна',\n",
       " 'брат',\n",
       " 'оппозиционный',\n",
       " 'исламский',\n",
       " 'проповедник',\n",
       " 'фетхуллах',\n",
       " 'гюлена',\n",
       " 'ктубеттин',\n",
       " 'жить',\n",
       " 'в',\n",
       " 'сша',\n",
       " 'проповедник',\n",
       " 'анкара',\n",
       " 'считать',\n",
       " 'вдохновитель',\n",
       " 'попытка',\n",
       " 'провалиться',\n",
       " 'переворот',\n",
       " 'кутбеттин',\n",
       " 'гюлена',\n",
       " 'разыскиваться',\n",
       " 'по',\n",
       " 'обвинение',\n",
       " 'в',\n",
       " 'причастность',\n",
       " 'к',\n",
       " 'деятельность',\n",
       " 'организация',\n",
       " 'возглавлять',\n",
       " 'он',\n",
       " 'брат',\n",
       " 'он',\n",
       " 'доставить',\n",
       " 'на',\n",
       " 'допрос',\n",
       " 'в',\n",
       " 'управление',\n",
       " 'безопасность',\n",
       " 'и',\n",
       " 'вероятно',\n",
       " 'вскоре',\n",
       " 'предъявить',\n",
       " 'обвинение',\n",
       " 'операция',\n",
       " 'по',\n",
       " 'задержание',\n",
       " 'провести',\n",
       " 'полиция',\n",
       " 'измир',\n",
       " 'на',\n",
       " 'основа',\n",
       " 'оперативный',\n",
       " 'дать',\n",
       " 'о',\n",
       " 'тот',\n",
       " 'что',\n",
       " 'подозревать',\n",
       " 'скрываться',\n",
       " 'в',\n",
       " 'дом',\n",
       " 'свой',\n",
       " 'родственник',\n",
       " 'в',\n",
       " 'район',\n",
       " 'газиемиро',\n",
       " 'передавать',\n",
       " 'риа',\n",
       " 'новость',\n",
       " 'тасс',\n",
       " 'напоминать',\n",
       " 'что',\n",
       " 'сентябрь',\n",
       " 'власть',\n",
       " 'турция',\n",
       " 'задержать',\n",
       " 'племянница',\n",
       " 'гюлена',\n",
       " 'эмин',\n",
       " 'задержание',\n",
       " 'прошлый',\n",
       " 'в',\n",
       " 'уезд',\n",
       " 'эрдеметь',\n",
       " 'западный',\n",
       " 'провинция',\n",
       " 'балыкесир',\n",
       " 'выясниться',\n",
       " 'что',\n",
       " 'она',\n",
       " 'значительный',\n",
       " 'часть',\n",
       " 'телефонный',\n",
       " 'разговор',\n",
       " 'вести',\n",
       " 'с',\n",
       " 'один',\n",
       " 'абонент',\n",
       " 'в',\n",
       " 'сша',\n",
       " 'кроме',\n",
       " 'тот',\n",
       " 'у',\n",
       " 'нея',\n",
       " 'изъять',\n",
       " 'большой',\n",
       " 'количество',\n",
       " 'фотография',\n",
       " 'и',\n",
       " 'книга',\n",
       " 'гюлена',\n",
       " 'в',\n",
       " 'август',\n",
       " 'полиция',\n",
       " 'задержать',\n",
       " 'племянник',\n",
       " 'гюлена',\n",
       " 'кемаля',\n",
       " 'гюлена',\n",
       " 'телеведущий',\n",
       " 'и',\n",
       " 'адвокат',\n",
       " 'он',\n",
       " 'быть',\n",
       " 'задержать',\n",
       " 'в',\n",
       " 'один',\n",
       " 'из',\n",
       " 'деревня',\n",
       " 'в',\n",
       " 'провинция',\n",
       " 'кастамон',\n",
       " 'где',\n",
       " 'скрываться',\n",
       " 'с',\n",
       " 'середина',\n",
       " 'июль',\n",
       " 'после',\n",
       " 'провал',\n",
       " 'заговор',\n",
       " 'ещё',\n",
       " 'ранний',\n",
       " 'быть',\n",
       " 'задержать',\n",
       " 'другой',\n",
       " 'племянник',\n",
       " 'проповедник',\n",
       " 'адбуллах',\n",
       " 'коруджук',\n",
       " 'в',\n",
       " 'ночь',\n",
       " 'на',\n",
       " 'июль',\n",
       " 'в',\n",
       " 'турция',\n",
       " 'группа',\n",
       " 'мятежник',\n",
       " 'совершить',\n",
       " 'попытка',\n",
       " 'военный',\n",
       " 'переворот',\n",
       " 'основный',\n",
       " 'противостояние',\n",
       " 'развернуться',\n",
       " 'в',\n",
       " 'анкара',\n",
       " 'и',\n",
       " 'стамбул',\n",
       " 'погибнуть',\n",
       " 'более',\n",
       " 'турецкий',\n",
       " 'гражданин',\n",
       " 'более',\n",
       " 'тысяча',\n",
       " 'человек',\n",
       " 'получить',\n",
       " 'ранение',\n",
       " 'мятеж',\n",
       " 'быть',\n",
       " 'подавить',\n",
       " 'власть',\n",
       " 'турция',\n",
       " 'обвинить',\n",
       " 'гюлена',\n",
       " 'в',\n",
       " 'причастность',\n",
       " 'к',\n",
       " 'попытка',\n",
       " 'переворот',\n",
       " 'и',\n",
       " 'потребовать',\n",
       " 'от',\n",
       " 'сша',\n",
       " 'он',\n",
       " 'экстрадиция',\n",
       " 'сам',\n",
       " 'гюлена',\n",
       " 'осудить',\n",
       " 'мятеж',\n",
       " 'и',\n",
       " 'заявить',\n",
       " 'о',\n",
       " 'свой',\n",
       " 'непричастность',\n",
       " 'по',\n",
       " 'обвинение',\n",
       " 'в',\n",
       " 'причастность',\n",
       " 'к',\n",
       " 'организация',\n",
       " 'гюлена',\n",
       " 'в',\n",
       " 'турция',\n",
       " 'после',\n",
       " 'мятеж',\n",
       " 'быть',\n",
       " 'арестовать',\n",
       " 'около',\n",
       " 'тысяча',\n",
       " 'человек']"
      ]
     },
     "execution_count": 69,
     "metadata": {},
     "output_type": "execute_result"
    }
   ],
   "source": [
    "# test:\n",
    "n_tokenizer(news_texts_corpus[0])"
   ]
  },
  {
   "cell_type": "code",
   "execution_count": 70,
   "metadata": {},
   "outputs": [
    {
     "data": {
      "text/plain": [
       "['и',\n",
       " 'в',\n",
       " 'во',\n",
       " 'не',\n",
       " 'что',\n",
       " 'он',\n",
       " 'на',\n",
       " 'я',\n",
       " 'с',\n",
       " 'со',\n",
       " 'как',\n",
       " 'а',\n",
       " 'то',\n",
       " 'все',\n",
       " 'она',\n",
       " 'так',\n",
       " 'его',\n",
       " 'но',\n",
       " 'да',\n",
       " 'ты',\n",
       " 'к',\n",
       " 'у',\n",
       " 'же',\n",
       " 'вы',\n",
       " 'за',\n",
       " 'бы',\n",
       " 'по',\n",
       " 'только',\n",
       " 'ее',\n",
       " 'мне',\n",
       " 'было',\n",
       " 'вот',\n",
       " 'от',\n",
       " 'меня',\n",
       " 'еще',\n",
       " 'нет',\n",
       " 'о',\n",
       " 'из',\n",
       " 'ему',\n",
       " 'теперь',\n",
       " 'когда',\n",
       " 'даже',\n",
       " 'ну',\n",
       " 'вдруг',\n",
       " 'ли',\n",
       " 'если',\n",
       " 'уже',\n",
       " 'или',\n",
       " 'ни',\n",
       " 'быть',\n",
       " 'был',\n",
       " 'него',\n",
       " 'до',\n",
       " 'вас',\n",
       " 'нибудь',\n",
       " 'опять',\n",
       " 'уж',\n",
       " 'вам',\n",
       " 'ведь',\n",
       " 'там',\n",
       " 'потом',\n",
       " 'себя',\n",
       " 'ничего',\n",
       " 'ей',\n",
       " 'может',\n",
       " 'они',\n",
       " 'тут',\n",
       " 'где',\n",
       " 'есть',\n",
       " 'надо',\n",
       " 'ней',\n",
       " 'для',\n",
       " 'мы',\n",
       " 'тебя',\n",
       " 'их',\n",
       " 'чем',\n",
       " 'была',\n",
       " 'сам',\n",
       " 'чтоб',\n",
       " 'без',\n",
       " 'будто',\n",
       " 'чего',\n",
       " 'раз',\n",
       " 'тоже',\n",
       " 'себе',\n",
       " 'под',\n",
       " 'будет',\n",
       " 'ж',\n",
       " 'тогда',\n",
       " 'кто',\n",
       " 'этот',\n",
       " 'того',\n",
       " 'потому',\n",
       " 'этого',\n",
       " 'какой',\n",
       " 'совсем',\n",
       " 'ним',\n",
       " 'здесь',\n",
       " 'этом',\n",
       " 'один',\n",
       " 'почти',\n",
       " 'мой',\n",
       " 'тем',\n",
       " 'чтобы',\n",
       " 'нее',\n",
       " 'сейчас',\n",
       " 'были',\n",
       " 'куда',\n",
       " 'зачем',\n",
       " 'всех',\n",
       " 'никогда',\n",
       " 'можно',\n",
       " 'при',\n",
       " 'наконец',\n",
       " 'два',\n",
       " 'об',\n",
       " 'другой',\n",
       " 'хоть',\n",
       " 'после',\n",
       " 'над',\n",
       " 'больше',\n",
       " 'тот',\n",
       " 'через',\n",
       " 'эти',\n",
       " 'нас',\n",
       " 'про',\n",
       " 'всего',\n",
       " 'них',\n",
       " 'какая',\n",
       " 'много',\n",
       " 'разве',\n",
       " 'три',\n",
       " 'эту',\n",
       " 'моя',\n",
       " 'впрочем',\n",
       " 'хорошо',\n",
       " 'свою',\n",
       " 'этой',\n",
       " 'перед',\n",
       " 'иногда',\n",
       " 'лучше',\n",
       " 'чуть',\n",
       " 'том',\n",
       " 'нельзя',\n",
       " 'такой',\n",
       " 'им',\n",
       " 'более',\n",
       " 'всегда',\n",
       " 'конечно',\n",
       " 'всю',\n",
       " 'между']"
      ]
     },
     "execution_count": 70,
     "metadata": {},
     "output_type": "execute_result"
    }
   ],
   "source": [
    "n_stop_words = stopwords.words('russian')\n",
    "\n",
    "n_stop_words"
   ]
  },
  {
   "cell_type": "code",
   "execution_count": 71,
   "metadata": {},
   "outputs": [
    {
     "data": {
      "text/plain": [
       "['В Турции задержали очередного родственника Фетхуллаха Гюлена - его брата   16:53   16:53 \\nТурецкая полиция задержала в городе Измир на западе страны брата оппозиционного исламского проповедника Фетхуллаха Гюлена Ктубеттина. Живущего в США проповедника Анкара считает вдохновителем попытки провалившегося переворота. Кутбеттин Гюлен разыскивался по обвинению в причастности к деятельности организации, возглавляемой его братом. Его доставили на допрос в Управление безопасности и, вероятно, вскоре предъявят обвинение. Операцию по задержанию провела полиция Измира на основе оперативных данных о том, что подозреваемый скрывается в доме своего родственника в районе Газиемир, передает РИА \"Новости\" . ТАСС напоминает, что 23 сентября власти Турции задержали племянницу Гюлена Эмине. Задержание прошло в уезде Эрдемит западной провинции Балыкесир. Выяснилось, что она значительную часть телефонных разговоров вела с одним абонентом в США. Кроме того, у нее изъято большое количество фотографий и книг Гюлена. В августе полиция задержала племянника Гюлена Кемаля Гюлена, телеведущего и адвоката. Он был задержан в одной из деревень в провинции Кастамону, где скрывался с середины июля после провала заговора. Еще раньше был задержан другой племянник проповедника Адбуллах Коруджук. В ночь на 16 июля в Турции группа мятежников совершила попытку военного переворота. Основное противостояние развернулось в Анкаре и Стамбуле. Погибли более 240 турецких граждан, более 2 тысяч человек получили ранения, мятеж был подавлен. Власти Турции обвинили Гюлена в причастности к попытке переворота и потребовали от США его экстрадиции. Сам Гюлен осудил мятеж и заявил о своей непричастности. По обвинению в причастности к организации Гюлена в Турции после мятежа были арестованы около 32 тысяч человек.',\n",
       " 'Aizvērt karti Высокие потолки, нужен ремонт-всё подготовлено для капитального ремонта, окна на одну сторону но шума нет, газовое отопление-колонка Viessmann-выравненный платёж 68 euro в месяц, городские коммуникации, вода по счетчикам только за холодную, пластиковые окна, камины действующие, два сарая во дворе c занесением в земельную книгу (22, 77m2), земля в собственности. Pilsēta:',\n",
       " 'Теги Локомотив Руслан Пименов Юрий Семин Премьер-лига Россия Арсенал Тула Бывший нападающий «Локомотива» Руслан Пименов после матча 9-го тура премьер-лиги с «Арсеналом» (1:1) выразил мнение, что многие футболисты «железнодорожников» не отвечают требованиям главного тренера Юрия Семина. Футболист не стал конкретизировать. – Главный тренер дал указание футболистам подумать, как им играть лучше. Ожидаете какие-то меры со стороны Семина? — вопрос Пименову. – Команду нужно встряхнуть. Многие футболисты не отвечают требованиями Юрия Павловича. – Кто именно?']"
      ]
     },
     "execution_count": 71,
     "metadata": {},
     "output_type": "execute_result"
    }
   ],
   "source": [
    "news_texts_corpus[:3]"
   ]
  },
  {
   "cell_type": "code",
   "execution_count": 72,
   "metadata": {
    "scrolled": true
   },
   "outputs": [
    {
     "name": "stderr",
     "output_type": "stream",
     "text": [
      "C:\\ProgramData\\Anaconda3\\envs\\pyTorch_1_6\\lib\\site-packages\\sklearn\\feature_extraction\\text.py:300: UserWarning: Your stop_words may be inconsistent with your preprocessing. Tokenizing the stop words generated tokens ['большой', 'весь', 'ещё', 'имя', 'мочь', 'нея', 'нибыть', 'ничто', 'свой', 'хороший', 'это'] not in stop_words.\n",
      "  'stop_words.' % sorted(inconsistent))\n"
     ]
    },
    {
     "name": "stdout",
     "output_type": "stream",
     "text": [
      "Wall time: 6.99 s\n"
     ]
    }
   ],
   "source": [
    "%%time \n",
    "# создание векторизатора:\n",
    "# vectorizer = TfidfVectorizer(tokenizer=n_tokenizer, stop_words=n_stop_words)\n",
    "cv_news = CountVectorizer(tokenizer=n_tokenizer, stop_words=n_stop_words)\n",
    "\n",
    "# векторизуем корпус:\n",
    "news_corpus_cv = cv_news.fit_transform(news_texts_corpus[:100])"
   ]
  },
  {
   "cell_type": "code",
   "execution_count": 73,
   "metadata": {},
   "outputs": [
    {
     "data": {
      "text/plain": [
       "(['абашидзе',\n",
       "  'абзац',\n",
       "  'абонент',\n",
       "  'аборт',\n",
       "  'абсолютно',\n",
       "  'абсолютный',\n",
       "  'абсурд',\n",
       "  'абукаров',\n",
       "  'абэ',\n",
       "  'авария',\n",
       "  'аватар',\n",
       "  'август',\n",
       "  'аветисов',\n",
       "  'авиационный',\n",
       "  'австриец',\n",
       "  'австрия',\n",
       "  'автобиографичный',\n",
       "  'автобус',\n",
       "  'автобусный',\n",
       "  'автодору'],\n",
       " ['юрий',\n",
       "  'юсупов',\n",
       "  'явка',\n",
       "  'явление',\n",
       "  'являться',\n",
       "  'явно',\n",
       "  'явный',\n",
       "  'яд',\n",
       "  'язык',\n",
       "  'якобы',\n",
       "  'ям',\n",
       "  'январь',\n",
       "  'яндекс',\n",
       "  'япония',\n",
       "  'японский',\n",
       "  'яр',\n",
       "  'ярость',\n",
       "  'ярый',\n",
       "  'ясно',\n",
       "  'яценюк'],\n",
       " 3895)"
      ]
     },
     "execution_count": 73,
     "metadata": {},
     "output_type": "execute_result"
    }
   ],
   "source": [
    "news_fn = cv_news.get_feature_names()\n",
    "news_fn[:20], news_fn[-20:], len(news_fn)"
   ]
  },
  {
   "cell_type": "code",
   "execution_count": 74,
   "metadata": {},
   "outputs": [
    {
     "data": {
      "text/plain": [
       "(array([0, 0, 1, 0, 0, 0, 0, 0, 0, 0, 0, 1, 0, 0, 0, 0, 0, 0, 0, 0, 0, 0,\n",
       "        0, 0, 0, 0, 0, 0, 0, 0, 0, 1, 1, 0, 0, 0, 0, 0, 0, 0], dtype=int64),\n",
       " 3895)"
      ]
     },
     "execution_count": 74,
     "metadata": {},
     "output_type": "execute_result"
    }
   ],
   "source": [
    "news_ar = news_corpus_cv.toarray()\n",
    "news_ar[0][:40], len(news_ar[0])"
   ]
  },
  {
   "cell_type": "code",
   "execution_count": 75,
   "metadata": {},
   "outputs": [
    {
     "data": {
      "text/plain": [
       "{'абашидзе': 0,\n",
       " 'абзац': 0,\n",
       " 'абонент': 1,\n",
       " 'аборт': 0,\n",
       " 'абсолютно': 0,\n",
       " 'абсолютный': 0,\n",
       " 'абсурд': 0,\n",
       " 'абукаров': 0,\n",
       " 'абэ': 0,\n",
       " 'авария': 0,\n",
       " 'аватар': 0,\n",
       " 'август': 1,\n",
       " 'аветисов': 0,\n",
       " 'авиационный': 0,\n",
       " 'австриец': 0,\n",
       " 'австрия': 0,\n",
       " 'автобиографичный': 0,\n",
       " 'автобус': 0,\n",
       " 'автобусный': 0,\n",
       " 'автодору': 0,\n",
       " 'автомат': 0,\n",
       " 'автоматически': 0,\n",
       " 'автомобиль': 0,\n",
       " 'автор': 0,\n",
       " 'авторитетный': 0,\n",
       " 'авторский': 0,\n",
       " 'автоугонщик': 0,\n",
       " 'агентство': 0,\n",
       " 'агрессия': 0,\n",
       " 'агрессор': 0,\n",
       " 'адамов': 0,\n",
       " 'адбуллах': 1,\n",
       " 'адвокат': 1,\n",
       " 'администрация': 0,\n",
       " 'адмиро': 0,\n",
       " 'адрес': 0,\n",
       " 'адресат': 0,\n",
       " 'адресный': 0,\n",
       " 'адресоваться': 0,\n",
       " 'ажиотаж': 0,\n",
       " 'аз': 0,\n",
       " 'азербайджан': 0,\n",
       " 'аиф': 0,\n",
       " 'айдамир': 0,\n",
       " 'акб': 0,\n",
       " 'аккорд': 0,\n",
       " 'аккуратно': 0,\n",
       " 'акробат': 0,\n",
       " 'аксель': 0,\n",
       " 'актив': 0,\n",
       " 'активист': 0,\n",
       " 'активно': 0,\n",
       " 'активность': 0,\n",
       " 'активный': 0,\n",
       " 'актуальный': 0,\n",
       " 'актёр': 0,\n",
       " 'акцепт': 0,\n",
       " 'акцептовать': 0,\n",
       " 'акционерный': 0,\n",
       " 'акция': 0,\n",
       " 'алгоритм': 0,\n",
       " 'алекс': 0,\n",
       " 'александр': 0,\n",
       " 'алексей': 0,\n",
       " 'алеппо': 0,\n",
       " 'алиев': 0,\n",
       " 'алик': 0,\n",
       " 'алисия': 0,\n",
       " 'алкоголь': 0,\n",
       " 'алматы': 0,\n",
       " 'алфавит': 0,\n",
       " 'американец': 0,\n",
       " 'американский': 0,\n",
       " 'амкара': 0,\n",
       " 'амнистия': 0,\n",
       " 'амурский': 0,\n",
       " 'анатолий': 0,\n",
       " 'английский': 0,\n",
       " 'англия': 0,\n",
       " 'андалусие': 0,\n",
       " 'андре': 0,\n",
       " 'андрей': 0,\n",
       " 'аневризм': 0,\n",
       " 'анжи': 0,\n",
       " 'анкара': 2,\n",
       " 'анна': 0,\n",
       " 'аномалия': 0,\n",
       " 'антимонопольный': 0,\n",
       " 'антихрист': 0,\n",
       " 'антонио': 0,\n",
       " 'антти': 0,\n",
       " 'анчелотти': 0,\n",
       " 'аншлаг': 0,\n",
       " 'аня': 0,\n",
       " 'ао': 0,\n",
       " 'апл': 0,\n",
       " 'апокалипсис': 0,\n",
       " 'апостольский': 0,\n",
       " 'апрель': 0,\n",
       " 'арбитр': 0,\n",
       " 'аргентинец': 0,\n",
       " 'аренда': 0,\n",
       " 'арестовать': 1,\n",
       " 'арист': 0,\n",
       " 'аркадий': 0,\n",
       " 'армия': 0,\n",
       " 'армянский': 0,\n",
       " 'арнольд': 0,\n",
       " 'арсенал': 0,\n",
       " 'артериальный': 0,\n",
       " 'артист': 0,\n",
       " 'артём': 0,\n",
       " 'архар': 0,\n",
       " 'архив': 0,\n",
       " 'архиеретик': 0,\n",
       " 'ассамблея': 0,\n",
       " 'ассистент': 0,\n",
       " 'ассоциация': 0,\n",
       " 'астан': 0,\n",
       " 'асфальт': 0,\n",
       " 'атака': 0,\n",
       " 'атеросклероз': 0,\n",
       " 'атлетико': 0,\n",
       " 'ато': 0,\n",
       " 'атошник': 0,\n",
       " 'атташе': 0,\n",
       " 'аут': 0,\n",
       " 'аутентичность': 0,\n",
       " 'африка': 0,\n",
       " 'африканец': 0,\n",
       " 'ахмед': 0,\n",
       " 'ахметель': 0,\n",
       " 'аэробный': 0,\n",
       " 'аэрокосмический': 0,\n",
       " 'аэропорт': 0,\n",
       " 'аэрофлот': 0,\n",
       " 'б': 0,\n",
       " 'бабий': 0,\n",
       " 'бавария': 0,\n",
       " 'база': 0,\n",
       " 'байер': 0,\n",
       " 'баку': 0,\n",
       " 'баландин': 0,\n",
       " 'балл': 0,\n",
       " 'баллон': 0,\n",
       " 'балыкесир': 1,\n",
       " 'бальда': 0,\n",
       " 'банда': 0,\n",
       " 'банка': 0,\n",
       " 'банковский': 0,\n",
       " 'бардзалья': 0,\n",
       " 'баскетбол': 0,\n",
       " 'баскетболист': 0,\n",
       " 'башенный': 0,\n",
       " 'бег': 0,\n",
       " 'беда': 0,\n",
       " 'бедный': 0,\n",
       " 'беженец': 0,\n",
       " 'безвозвратно': 0,\n",
       " 'безналичный': 0,\n",
       " 'безопасность': 1,\n",
       " 'безопасный': 0,\n",
       " 'безошибочно': 0,\n",
       " 'беларусь': 0,\n",
       " 'беллухо': 0,\n",
       " 'белогорск': 0,\n",
       " 'белоруссия': 0,\n",
       " 'белый': 0,\n",
       " 'бельгиец': 0,\n",
       " 'берег': 0,\n",
       " 'беременность': 0,\n",
       " 'бесконечный': 0,\n",
       " 'бесплатно': 0,\n",
       " 'беспокоить': 0,\n",
       " 'беспокоиться': 0,\n",
       " 'беспрерывно': 0,\n",
       " 'бессмысленный': 0,\n",
       " 'бизнес': 0,\n",
       " 'бизнесмен': 0,\n",
       " 'бик': 0,\n",
       " 'биржа': 0,\n",
       " 'бирюлево': 0,\n",
       " 'бирюлевский': 0,\n",
       " 'битва': 0,\n",
       " 'бить': 0,\n",
       " 'благовещенск': 0,\n",
       " 'благодарить': 0,\n",
       " 'благодарность': 0,\n",
       " 'благодарный': 0,\n",
       " 'благодаря': 0,\n",
       " 'благополучный': 0,\n",
       " 'благоприятный': 0,\n",
       " 'благословить': 0,\n",
       " 'благотворительный': 0,\n",
       " 'ближневосточный': 0,\n",
       " 'ближний': 0,\n",
       " 'близкий': 0,\n",
       " 'блок': 0,\n",
       " 'блэр': 0,\n",
       " 'бляшка': 0,\n",
       " 'бог': 0,\n",
       " 'богатый': 0,\n",
       " 'боев': 0,\n",
       " 'боевик': 0,\n",
       " 'бой': 0,\n",
       " 'бойкот': 0,\n",
       " 'боккетти': 0,\n",
       " 'бокс': 0,\n",
       " 'боксёр': 0,\n",
       " 'болезнь': 0,\n",
       " 'болельщик': 0,\n",
       " 'болеть': 0,\n",
       " 'болтать': 0,\n",
       " 'больница': 0,\n",
       " 'больной': 0,\n",
       " 'большегруз': 0,\n",
       " 'большинство': 0,\n",
       " 'большой': 1,\n",
       " 'бомба': 0,\n",
       " 'бонучча': 0,\n",
       " 'борис': 0,\n",
       " 'бороться': 0,\n",
       " 'борт': 0,\n",
       " 'боруссия': 0,\n",
       " 'борьба': 0,\n",
       " 'бояться': 0,\n",
       " 'бразилец': 0,\n",
       " 'бразилия': 0,\n",
       " 'брань': 0,\n",
       " 'брат': 3,\n",
       " 'братский': 0,\n",
       " 'брать': 0,\n",
       " 'британия': 0,\n",
       " 'британский': 0,\n",
       " 'брод': 0,\n",
       " 'бронза': 0,\n",
       " 'бросать': 0,\n",
       " 'бросить': 0,\n",
       " 'броский': 0,\n",
       " 'броском': 0,\n",
       " 'будковский': 0,\n",
       " 'будущее': 0,\n",
       " 'будущий': 0,\n",
       " 'буква': 0,\n",
       " 'буквально': 0,\n",
       " 'бундеслига': 0,\n",
       " 'буффон': 0,\n",
       " 'буш': 0,\n",
       " 'бф': 0,\n",
       " 'бывать': 0,\n",
       " 'бывший': 0,\n",
       " 'быстро': 0,\n",
       " 'быстрый': 0,\n",
       " 'бюджет': 0,\n",
       " 'бюллетень': 0,\n",
       " 'бюро': 0,\n",
       " 'бюрократ': 0,\n",
       " 'важный': 0,\n",
       " 'ваза': 0,\n",
       " 'валаамский': 0,\n",
       " 'валери': 0,\n",
       " 'вариант': 0,\n",
       " 'варшава': 0,\n",
       " 'варя': 0,\n",
       " 'василий': 0,\n",
       " 'васильев': 0,\n",
       " 'ватикан': 0,\n",
       " 'ваш': 0,\n",
       " 'вашингтонский': 0,\n",
       " 'ввс': 0,\n",
       " 'ввязаться': 0,\n",
       " 'вдоль': 0,\n",
       " 'вдохновитель': 1,\n",
       " 'ведомство': 0,\n",
       " 'ведущий': 0,\n",
       " 'везде': 0,\n",
       " 'велик': 0,\n",
       " 'великий': 0,\n",
       " 'великобритания': 0,\n",
       " 'великое': 0,\n",
       " 'велосипед': 0,\n",
       " 'велосипедист': 0,\n",
       " 'венгр': 0,\n",
       " 'венгрия': 0,\n",
       " 'венка': 0,\n",
       " 'вера': 0,\n",
       " 'вердикт': 0,\n",
       " 'вернуть': 0,\n",
       " 'вернуться': 0,\n",
       " 'вероисповедание': 0,\n",
       " 'вероятно': 1,\n",
       " 'версия': 0,\n",
       " 'верующий': 0,\n",
       " 'верх': 0,\n",
       " 'верховой': 0,\n",
       " 'вес': 0,\n",
       " 'весна': 0,\n",
       " 'весной': 0,\n",
       " 'вести': 1,\n",
       " 'вестись': 0,\n",
       " 'весь': 0,\n",
       " 'ветеран': 0,\n",
       " 'вечер': 0,\n",
       " 'вечером': 0,\n",
       " 'вечный': 0,\n",
       " 'вещество': 0,\n",
       " 'вещий': 0,\n",
       " 'вживую': 0,\n",
       " 'взаимоуважение': 0,\n",
       " 'вздыхать': 0,\n",
       " 'взимать': 0,\n",
       " 'взорваться': 0,\n",
       " 'взрослый': 0,\n",
       " 'взрыв': 0,\n",
       " 'взрывотехника': 0,\n",
       " 'взять': 0,\n",
       " 'вид': 0,\n",
       " 'видео': 0,\n",
       " 'видеозапись': 0,\n",
       " 'видеть': 0,\n",
       " 'видно': 0,\n",
       " 'видный': 0,\n",
       " 'визит': 0,\n",
       " 'визуально': 0,\n",
       " 'виктор': 0,\n",
       " 'виктория': 0,\n",
       " 'виталий': 0,\n",
       " 'витамин': 0,\n",
       " 'витиньо': 0,\n",
       " 'витсель': 0,\n",
       " 'вклад': 0,\n",
       " 'включая': 0,\n",
       " 'вконтакте': 0,\n",
       " 'вкс': 0,\n",
       " 'владение': 0,\n",
       " 'владеть': 0,\n",
       " 'владикавказ': 0,\n",
       " 'владимир': 0,\n",
       " 'владтайм': 0,\n",
       " 'власть': 2,\n",
       " 'влиятельный': 0,\n",
       " 'вместе': 0,\n",
       " 'вместить': 0,\n",
       " 'вместо': 0,\n",
       " 'вмешательство': 0,\n",
       " 'вне': 0,\n",
       " 'внести': 0,\n",
       " 'внесудебный': 0,\n",
       " 'внешне': 0,\n",
       " 'внешнеполитический': 0,\n",
       " 'внешность': 0,\n",
       " 'вниз': 0,\n",
       " 'внимание': 0,\n",
       " 'внимательно': 0,\n",
       " 'вничью': 0,\n",
       " 'вновь': 0,\n",
       " 'внутренний': 0,\n",
       " 'внутри': 0,\n",
       " 'внушительно': 0,\n",
       " 'вовлечение': 0,\n",
       " 'вод': 0,\n",
       " 'вода': 0,\n",
       " 'водитель': 0,\n",
       " 'водный': 0,\n",
       " 'водопад': 0,\n",
       " 'воевать': 0,\n",
       " 'военный': 1,\n",
       " 'возбудить': 0,\n",
       " 'возвращение': 0,\n",
       " 'возглавлять': 1,\n",
       " 'воздух': 0,\n",
       " 'возить': 0,\n",
       " 'возиться': 0,\n",
       " 'возле': 0,\n",
       " 'возложить': 0,\n",
       " 'возмещать': 0,\n",
       " 'возмещение': 0,\n",
       " 'возможно': 0,\n",
       " 'возможность': 0,\n",
       " 'возможный': 0,\n",
       " 'вознаграждение': 0,\n",
       " 'возникать': 0,\n",
       " 'возникнуть': 0,\n",
       " 'возраст': 0,\n",
       " 'возрасти': 0,\n",
       " 'возрастной': 0,\n",
       " 'возродить': 0,\n",
       " 'война': 0,\n",
       " 'войско': 0,\n",
       " 'войти': 0,\n",
       " 'вокзал': 0,\n",
       " 'вокруг': 0,\n",
       " 'волейбол': 0,\n",
       " 'волк': 0,\n",
       " 'волна': 0,\n",
       " 'волынить': 0,\n",
       " 'вон': 0,\n",
       " 'вообще': 0,\n",
       " 'вооружённый': 0,\n",
       " 'вопреки': 0,\n",
       " 'вопрос': 0,\n",
       " 'ворваться': 0,\n",
       " 'воровство': 0,\n",
       " 'воронин': 0,\n",
       " 'ворот': 0,\n",
       " 'ворота': 0,\n",
       " 'восемь': 0,\n",
       " 'воскресение': 0,\n",
       " 'воскресный': 0,\n",
       " 'воспрещаться': 0,\n",
       " 'воспроизведение': 0,\n",
       " 'воссоздание': 0,\n",
       " 'восток': 0,\n",
       " 'восточный': 0,\n",
       " 'восхищаться': 0,\n",
       " 'впасть': 0,\n",
       " 'впервые': 0,\n",
       " 'впереди': 0,\n",
       " 'вполне': 0,\n",
       " 'вправе': 0,\n",
       " 'впрямь': 0,\n",
       " 'враг': 0,\n",
       " 'вражда': 0,\n",
       " 'вразрез': 0,\n",
       " 'вратарский': 0,\n",
       " 'вратарь': 0,\n",
       " 'врач': 0,\n",
       " 'вред': 0,\n",
       " 'врезаться': 0,\n",
       " 'время': 0,\n",
       " 'вроде': 0,\n",
       " 'врождённый': 0,\n",
       " 'вряд': 0,\n",
       " 'вс': 0,\n",
       " 'всевышний': 0,\n",
       " 'вселенная': 0,\n",
       " 'всемирный': 0,\n",
       " 'всеобщий': 0,\n",
       " 'вскоре': 1,\n",
       " 'вскрывать': 0,\n",
       " 'вслух': 0,\n",
       " 'вспышка': 0,\n",
       " 'встретить': 0,\n",
       " 'встретиться': 0,\n",
       " 'встреча': 0,\n",
       " 'встречать': 0,\n",
       " 'встряхнуть': 0,\n",
       " 'вступать': 0,\n",
       " 'вступить': 0,\n",
       " 'вступление': 0,\n",
       " 'втб': 0,\n",
       " 'второе': 0,\n",
       " 'вуз': 0,\n",
       " 'вход': 0,\n",
       " 'входить': 0,\n",
       " 'въезжать': 0,\n",
       " 'выбор': 0,\n",
       " 'выборы': 0,\n",
       " 'выбрать': 0,\n",
       " 'выбраться': 0,\n",
       " 'вывести': 0,\n",
       " 'вывод': 0,\n",
       " 'выводить': 0,\n",
       " 'выглядеть': 0,\n",
       " 'выговаривать': 0,\n",
       " 'выдвигаться': 0,\n",
       " 'выдвижение': 0,\n",
       " 'выдержка': 0,\n",
       " 'выезд': 0,\n",
       " 'выехать': 0,\n",
       " 'выжить': 0,\n",
       " 'вызвать': 0,\n",
       " 'вызов': 0,\n",
       " 'вызывать': 0,\n",
       " 'выиграть': 0,\n",
       " 'выйти': 0,\n",
       " 'выкрикивать': 0,\n",
       " 'вылет': 0,\n",
       " 'вылиться': 0,\n",
       " 'выложить': 0,\n",
       " 'вынести': 0,\n",
       " 'вынудить': 0,\n",
       " 'вынужденный': 0,\n",
       " 'выпасть': 0,\n",
       " 'выполнить': 0,\n",
       " 'выпрыгнуть': 0,\n",
       " 'выпустить': 0,\n",
       " 'выражение': 0,\n",
       " 'выразить': 0,\n",
       " 'высказывание': 0,\n",
       " 'высказывать': 0,\n",
       " 'высокий': 0,\n",
       " 'высота': 0,\n",
       " 'выставка': 0,\n",
       " 'выстрел': 0,\n",
       " 'выстрелить': 0,\n",
       " 'выстроиться': 0,\n",
       " 'выступать': 0,\n",
       " 'выступить': 0,\n",
       " 'выступление': 0,\n",
       " 'вытащить': 0,\n",
       " 'выход': 0,\n",
       " 'выходец': 0,\n",
       " 'выходить': 0,\n",
       " 'выше': 0,\n",
       " 'вышеуказанный': 0,\n",
       " 'вышка': 0,\n",
       " 'выявление': 0,\n",
       " 'выясниться': 1,\n",
       " 'выяснять': 0,\n",
       " 'выясняться': 0,\n",
       " 'вэнь': 0,\n",
       " 'вяхирев': 0,\n",
       " 'гаджи': 0,\n",
       " 'гаджиев': 0,\n",
       " 'газета': 0,\n",
       " 'газиемиро': 1,\n",
       " 'газиз': 0,\n",
       " 'газизов': 0,\n",
       " 'газовый': 0,\n",
       " 'гамов': 0,\n",
       " 'гандбол': 0,\n",
       " 'гандболистка': 0,\n",
       " 'гандбольный': 0,\n",
       " 'ганьс': 0,\n",
       " 'гарантировать': 0,\n",
       " 'гарантия': 0,\n",
       " 'гаратировать': 0,\n",
       " 'гарсия': 0,\n",
       " 'гасанов': 0,\n",
       " 'гатчинский': 0,\n",
       " 'гашишной': 0,\n",
       " 'гашишный': 0,\n",
       " 'гвардиол': 0,\n",
       " 'генеральный': 0,\n",
       " 'гениальность': 0,\n",
       " 'гений': 0,\n",
       " 'геннадий': 0,\n",
       " 'генпрокуратура': 0,\n",
       " 'географический': 0,\n",
       " 'георгий': 0,\n",
       " 'геращенко': 0,\n",
       " 'герб': 0,\n",
       " 'германия': 0,\n",
       " 'героиня': 0,\n",
       " 'гибдд': 0,\n",
       " 'гигант': 0,\n",
       " 'гиперссылка': 0,\n",
       " 'гипертензия': 0,\n",
       " 'глава': 0,\n",
       " 'главарь': 0,\n",
       " 'главка': 0,\n",
       " 'главный': 0,\n",
       " 'главый': 0,\n",
       " 'глаз': 0,\n",
       " 'глобальный': 0,\n",
       " 'глубоко': 0,\n",
       " 'глушаков': 0,\n",
       " 'говорить': 0,\n",
       " 'говориться': 0,\n",
       " 'говорят': 0,\n",
       " 'год': 0,\n",
       " 'годичный': 0,\n",
       " 'годовщина': 0,\n",
       " 'гол': 0,\n",
       " 'голкипер': 0,\n",
       " 'голландец': 0,\n",
       " 'голландия': 0,\n",
       " 'голландский': 0,\n",
       " 'голливудский': 0,\n",
       " 'голов': 0,\n",
       " 'голова': 0,\n",
       " 'головной': 0,\n",
       " 'голод': 0,\n",
       " 'голосование': 0,\n",
       " 'голый': 0,\n",
       " 'гольфстрим': 0,\n",
       " 'гомельтранснефть': 0,\n",
       " 'гонка': 0,\n",
       " 'гораздо': 0,\n",
       " 'гордиться': 0,\n",
       " 'горе': 0,\n",
       " 'гормональный': 0,\n",
       " 'горнолыжный': 0,\n",
       " 'город': 1,\n",
       " 'городской': 0,\n",
       " 'горожанин': 0,\n",
       " 'горючий': 0,\n",
       " 'госавтоинспекция': 0,\n",
       " 'госпереворот': 0,\n",
       " 'госпитализировать': 0,\n",
       " 'господин': 0,\n",
       " 'гость': 0,\n",
       " 'государственный': 0,\n",
       " 'государство': 0,\n",
       " 'госуправление': 0,\n",
       " 'готовить': 0,\n",
       " 'готовиться': 0,\n",
       " 'готовый': 0,\n",
       " 'гпц': 0,\n",
       " 'грабитель': 0,\n",
       " 'градус': 0,\n",
       " 'гражданин': 1,\n",
       " 'гражданский': 0,\n",
       " 'грамм': 0,\n",
       " 'грандиозный': 0,\n",
       " 'граница': 0,\n",
       " 'греция': 0,\n",
       " 'грозить': 0,\n",
       " 'грозиться': 0,\n",
       " 'грозный': 0,\n",
       " 'грубо': 0,\n",
       " 'грубость': 0,\n",
       " 'грудь': 0,\n",
       " 'грузинский': 0,\n",
       " 'грузия': 0,\n",
       " 'грунт': 0,\n",
       " 'группа': 1,\n",
       " 'группировка': 0,\n",
       " 'групповой': 0,\n",
       " 'грустно': 0,\n",
       " 'грязный': 0,\n",
       " 'гсу': 0,\n",
       " 'гу': 0,\n",
       " 'гуардадый': 0,\n",
       " 'губернатор': 0,\n",
       " 'гуманитарный': 0,\n",
       " 'гюго': 0,\n",
       " 'гюлена': 10,\n",
       " 'давать': 0,\n",
       " 'даваться': 0,\n",
       " 'давид': 0,\n",
       " 'давление': 0,\n",
       " 'давно': 0,\n",
       " 'далее': 0,\n",
       " 'дальнейший': 0,\n",
       " 'далёкий': 0,\n",
       " 'дамаск': 0,\n",
       " 'данные': 0,\n",
       " 'данный': 0,\n",
       " 'дать': 1,\n",
       " 'двадцать': 0,\n",
       " 'дважды': 0,\n",
       " 'движение': 0,\n",
       " 'двое': 0,\n",
       " 'двоечка': 0,\n",
       " 'двойка': 0,\n",
       " 'двор': 0,\n",
       " 'дворк': 0,\n",
       " 'дворко': 0,\n",
       " 'дебаты': 0,\n",
       " 'дебют': 0,\n",
       " 'дебютировать': 0,\n",
       " 'деваться': 0,\n",
       " 'девиз': 0,\n",
       " 'девочка': 0,\n",
       " 'девушка': 0,\n",
       " 'девять': 0,\n",
       " 'деградация': 0,\n",
       " 'дедушка': 0,\n",
       " 'дееспособность': 0,\n",
       " 'действенность': 0,\n",
       " 'действие': 0,\n",
       " 'действительно': 0,\n",
       " 'действительность': 0,\n",
       " 'действительный': 0,\n",
       " 'действовать': 0,\n",
       " 'действующий': 0,\n",
       " 'декабрь': 0,\n",
       " 'деканоидзе': 0,\n",
       " 'делать': 0,\n",
       " 'делегация': 0,\n",
       " 'деликатный': 0,\n",
       " 'дело': 0,\n",
       " 'дема': 0,\n",
       " 'демократ': 0,\n",
       " 'демократический': 0,\n",
       " 'демонстрант': 0,\n",
       " 'демонстрировать': 0,\n",
       " 'демский': 0,\n",
       " 'день': 0,\n",
       " 'деньга': 0,\n",
       " 'департамент': 0,\n",
       " 'депрессия': 0,\n",
       " 'депутат': 0,\n",
       " 'депутатский': 0,\n",
       " 'дербент': 0,\n",
       " 'деревня': 1,\n",
       " 'держава': 0,\n",
       " 'державный': 0,\n",
       " 'держать': 0,\n",
       " 'держаться': 0,\n",
       " 'деррик': 0,\n",
       " 'десятилетие': 0,\n",
       " 'десятка': 0,\n",
       " 'десяток': 0,\n",
       " 'десять': 0,\n",
       " 'детсад': 0,\n",
       " 'дефицит': 0,\n",
       " 'деятельность': 1,\n",
       " 'джараблус': 0,\n",
       " 'джебхата': 0,\n",
       " 'джон': 0,\n",
       " 'джордж': 0,\n",
       " 'дзамбелли': 0,\n",
       " 'дзюба': 0,\n",
       " 'диабет': 0,\n",
       " 'диагноз': 0,\n",
       " 'диагностика': 0,\n",
       " 'диалог': 0,\n",
       " 'диаспора': 0,\n",
       " 'дибал': 0,\n",
       " 'диета': 0,\n",
       " 'динамик': 0,\n",
       " 'динамично': 0,\n",
       " 'динамо': 0,\n",
       " 'динамовец': 0,\n",
       " 'директор': 0,\n",
       " 'дисквалифицировать': 0,\n",
       " 'диспансеризация': 0,\n",
       " 'дисплазия': 0,\n",
       " 'дисплей': 0,\n",
       " 'дистанция': 0,\n",
       " 'дле': 0,\n",
       " 'длина': 0,\n",
       " 'длиться': 0,\n",
       " 'дмитрий': 0,\n",
       " 'дмитрия': 0,\n",
       " 'дмитрячев': 0,\n",
       " 'днр': 0,\n",
       " 'днём': 0,\n",
       " 'добавить': 0,\n",
       " 'добавлять': 0,\n",
       " 'добиться': 0,\n",
       " 'добрый': 0,\n",
       " 'довольно': 0,\n",
       " 'довольный': 0,\n",
       " 'догматический': 0,\n",
       " 'договор': 0,\n",
       " 'договорённость': 0,\n",
       " 'доезжать': 0,\n",
       " 'дождаться': 0,\n",
       " 'дождь': 0,\n",
       " 'дожидаться': 0,\n",
       " 'доказательство': 0,\n",
       " 'доказать': 0,\n",
       " 'доклад': 0,\n",
       " 'документ': 0,\n",
       " 'документальный': 0,\n",
       " 'долг': 0,\n",
       " 'долгий': 0,\n",
       " 'долго': 0,\n",
       " 'должность': 0,\n",
       " 'должный': 0,\n",
       " 'долина': 0,\n",
       " 'доллар': 0,\n",
       " 'доля': 0,\n",
       " 'дом': 1,\n",
       " 'домашний': 0,\n",
       " 'доменико': 0,\n",
       " 'доменный': 0,\n",
       " 'домохозяйка': 0,\n",
       " 'дональд': 0,\n",
       " 'донбасс': 0,\n",
       " 'донецк': 0,\n",
       " 'дополнение': 0,\n",
       " 'дополнить': 0,\n",
       " 'допрос': 1,\n",
       " 'допуск': 0,\n",
       " 'допускаться': 0,\n",
       " 'допустить': 0,\n",
       " 'дорога': 0,\n",
       " 'дорогостоящий': 0,\n",
       " 'дорожный': 0,\n",
       " 'дортмундский': 0,\n",
       " 'досрочно': 0,\n",
       " 'доставать': 0,\n",
       " 'доставить': 1,\n",
       " 'достаточно': 0,\n",
       " 'достаться': 0,\n",
       " 'достоинство': 0,\n",
       " 'достопримечательность': 0,\n",
       " 'доступ': 0,\n",
       " 'доступный': 0,\n",
       " 'досудебный': 0,\n",
       " 'доченька': 0,\n",
       " 'дочка': 0,\n",
       " 'драйв': 0,\n",
       " 'древние': 0,\n",
       " 'древний': 0,\n",
       " 'друг': 0,\n",
       " 'дружба': 0,\n",
       " 'дружественный': 0,\n",
       " 'дружно': 0,\n",
       " 'дтп': 0,\n",
       " 'дубль': 0,\n",
       " 'думать': 0,\n",
       " 'дух': 0,\n",
       " 'духовенство': 0,\n",
       " 'духовный': 0,\n",
       " 'дэвид': 0,\n",
       " 'дэйлом': 0,\n",
       " 'дюйм': 0,\n",
       " 'е': 0,\n",
       " 'евгений': 0,\n",
       " 'еврейский': 0,\n",
       " 'еврокомиссия': 0,\n",
       " 'еврокубок': 0,\n",
       " 'европа': 0,\n",
       " 'европеец': 0,\n",
       " 'европейский': 0,\n",
       " 'евросоюз': 0,\n",
       " 'евфрат': 0,\n",
       " 'едва': 0,\n",
       " 'единственный': 0,\n",
       " 'единый': 0,\n",
       " 'ежегодно': 0,\n",
       " 'ежеминутно': 0,\n",
       " 'ежечасно': 0,\n",
       " 'езда': 0,\n",
       " 'ездить': 0,\n",
       " 'екатерина': 0,\n",
       " 'еле': 0,\n",
       " 'енд': 0,\n",
       " 'ерундой': 0,\n",
       " 'ес': 0,\n",
       " 'естественно': 0,\n",
       " 'ехать': 0,\n",
       " 'ещенко': 0,\n",
       " 'ещё': 1,\n",
       " 'её': 0,\n",
       " 'жажда': 0,\n",
       " 'жара': 0,\n",
       " 'ждать': 0,\n",
       " 'желающий': 0,\n",
       " 'железнодорожник': 0,\n",
       " 'женский': 0,\n",
       " 'женщина': 0,\n",
       " 'жертва': 0,\n",
       " 'живопись': 0,\n",
       " 'животное': 0,\n",
       " 'животный': 0,\n",
       " 'жидкость': 0,\n",
       " 'жизнеописание': 0,\n",
       " 'жизнь': 0,\n",
       " 'жилой': 0,\n",
       " 'жильё': 0,\n",
       " 'жинковский': 0,\n",
       " 'жир': 0,\n",
       " 'жирков': 0,\n",
       " 'жирный': 0,\n",
       " 'житель': 0,\n",
       " 'жительница': 0,\n",
       " 'жить': 1,\n",
       " 'жулиано': 0,\n",
       " 'журналист': 0,\n",
       " 'жёлтый': 0,\n",
       " 'жёсткий': 0,\n",
       " 'забастовка': 0,\n",
       " 'забегание': 0,\n",
       " 'забиваться': 0,\n",
       " 'забитый': 0,\n",
       " 'забить': 0,\n",
       " 'заблокировать': 0,\n",
       " 'заболеваемость': 0,\n",
       " 'заболевание': 0,\n",
       " 'заболеть': 0,\n",
       " 'заботить': 0,\n",
       " 'заботиться': 0,\n",
       " 'заботливый': 0,\n",
       " 'забрасывать': 0,\n",
       " 'забрать': 0,\n",
       " 'забросить': 0,\n",
       " 'забывать': 0,\n",
       " 'забыть': 0,\n",
       " 'заверить': 0,\n",
       " 'завершение': 0,\n",
       " 'завершить': 0,\n",
       " 'завершиться': 0,\n",
       " 'завести': 0,\n",
       " 'зависеть': 0,\n",
       " 'завитинск': 0,\n",
       " 'завоевать': 0,\n",
       " 'завтра': 0,\n",
       " 'загадка': 0,\n",
       " 'заговор': 1,\n",
       " 'заговорить': 0,\n",
       " 'заготовить': 0,\n",
       " 'задавать': 0,\n",
       " 'задекларировать': 0,\n",
       " 'задержание': 2,\n",
       " 'задержать': 6,\n",
       " 'задрать': 0,\n",
       " 'задуматься': 0,\n",
       " 'задумываться': 0,\n",
       " 'зажать': 0,\n",
       " 'заинтересовать': 0,\n",
       " 'заинтересоваться': 0,\n",
       " 'заказ': 0,\n",
       " 'заказной': 0,\n",
       " 'заключение': 0,\n",
       " 'заключить': 0,\n",
       " 'заключённый': 0,\n",
       " 'закольцеваться': 0,\n",
       " 'закон': 0,\n",
       " 'законно': 0,\n",
       " 'законный': 0,\n",
       " 'законодательство': 0,\n",
       " 'законопроект': 0,\n",
       " 'закончить': 0,\n",
       " 'закрывать': 0,\n",
       " 'закрыть': 0,\n",
       " 'замена': 0,\n",
       " 'замениться': 0,\n",
       " 'заместитель': 0,\n",
       " 'заметить': 0,\n",
       " 'замечание': 0,\n",
       " 'заминировать': 0,\n",
       " 'замолчать': 0,\n",
       " 'занесение': 0,\n",
       " 'занимать': 0,\n",
       " 'заниматься': 0,\n",
       " 'занятой': 0,\n",
       " 'занять': 0,\n",
       " 'запад': 1,\n",
       " 'западный': 1,\n",
       " 'запас': 0,\n",
       " 'запись': 0,\n",
       " 'заподозрить': 0,\n",
       " 'запомниться': 0,\n",
       " 'запрет': 0,\n",
       " 'запретить': 0,\n",
       " 'запрещение': 0,\n",
       " 'запрос': 0,\n",
       " 'запуск': 0,\n",
       " 'запустить': 0,\n",
       " 'запутанный': 0,\n",
       " 'зарабатывать': 0,\n",
       " 'заработать': 0,\n",
       " 'зарегистрировать': 0,\n",
       " 'зарубежный': 0,\n",
       " 'заря': 0,\n",
       " 'заседание': 0,\n",
       " 'застава': 0,\n",
       " 'заставить': 0,\n",
       " 'заставлять': 0,\n",
       " 'засуха': 0,\n",
       " 'заталкивать': 0,\n",
       " 'затем': 0,\n",
       " 'зато': 0,\n",
       " 'затопление': 0,\n",
       " 'затормозить': 0,\n",
       " 'затягивать': 0,\n",
       " 'зафиксировать': 0,\n",
       " 'захарченко': 0,\n",
       " 'захотеть': 0,\n",
       " 'зацепить': 0,\n",
       " 'защита': 0,\n",
       " 'защитить': 0,\n",
       " 'защититься': 0,\n",
       " 'защитник': 0,\n",
       " 'защищать': 0,\n",
       " 'заявить': 1,\n",
       " 'заявка': 0,\n",
       " 'заявление': 0,\n",
       " 'заявлять': 0,\n",
       " 'збудують': 0,\n",
       " 'зв': 0,\n",
       " 'звать': 0,\n",
       " 'звезда': 0,\n",
       " 'звонить': 0,\n",
       " 'звук': 0,\n",
       " 'здание': 0,\n",
       " 'здоровый': 0,\n",
       " 'здравоохранение': 0,\n",
       " 'зе': 0,\n",
       " 'зелёный': 0,\n",
       " 'земельный': 0,\n",
       " 'земля': 0,\n",
       " 'зенит': 0,\n",
       " 'зеркало': 0,\n",
       " 'зерно': 0,\n",
       " 'зинченко': 0,\n",
       " 'зло': 0,\n",
       " 'злоумышленник': 0,\n",
       " 'злоупотребление': 0,\n",
       " 'знаете': 0,\n",
       " 'знак': 0,\n",
       " 'знакомиться': 0,\n",
       " 'знакомство': 0,\n",
       " 'знаменитый': 0,\n",
       " 'знать': 0,\n",
       " 'значение': 0,\n",
       " 'значимый': 0,\n",
       " 'значит': 0,\n",
       " 'значительный': 1,\n",
       " 'значить': 0,\n",
       " 'зобнина': 0,\n",
       " 'золотовалютный': 0,\n",
       " 'золотой': 0,\n",
       " ...}"
      ]
     },
     "execution_count": 75,
     "metadata": {},
     "output_type": "execute_result"
    }
   ],
   "source": [
    "dict(zip(news_fn, news_ar[0]))"
   ]
  },
  {
   "cell_type": "code",
   "execution_count": 76,
   "metadata": {},
   "outputs": [
    {
     "data": {
      "text/plain": [
       "array([[0, 1, 1, 1, 0, 0, 1, 0, 1],\n",
       "       [0, 2, 0, 1, 0, 1, 1, 0, 1],\n",
       "       [1, 0, 0, 1, 1, 0, 1, 1, 1],\n",
       "       [0, 1, 1, 1, 0, 0, 1, 0, 1]], dtype=int64)"
      ]
     },
     "execution_count": 76,
     "metadata": {},
     "output_type": "execute_result"
    }
   ],
   "source": [
    "cv_ar = corpus_cv.toarray()\n",
    "cv_ar"
   ]
  },
  {
   "cell_type": "code",
   "execution_count": 77,
   "metadata": {},
   "outputs": [
    {
     "name": "stderr",
     "output_type": "stream",
     "text": [
      "C:\\ProgramData\\Anaconda3\\envs\\pyTorch_1_6\\lib\\site-packages\\ipykernel_launcher.py:2: RuntimeWarning: invalid value encountered in true_divide\n",
      "  \n"
     ]
    }
   ],
   "source": [
    "# нормализация:\n",
    "news_arn = news_ar / norm(news_ar, axis=1)[:, np.newaxis]"
   ]
  },
  {
   "cell_type": "code",
   "execution_count": 78,
   "metadata": {
    "scrolled": true
   },
   "outputs": [
    {
     "data": {
      "text/plain": [
       "array([[1.        , 0.0091863 , 0.00508263, ..., 0.02201779, 0.02030463,\n",
       "        0.05418659],\n",
       "       [0.0091863 , 1.        , 0.01844278, ..., 0.        , 0.        ,\n",
       "        0.        ],\n",
       "       [0.00508263, 0.01844278, 1.        , ..., 0.05157106, 0.01019109,\n",
       "        0.01450495],\n",
       "       ...,\n",
       "       [0.02201779, 0.        , 0.05157106, ..., 1.        , 0.06254228,\n",
       "        0.02094499],\n",
       "       [0.02030463, 0.        , 0.01019109, ..., 0.06254228, 1.        ,\n",
       "        0.0543243 ],\n",
       "       [0.05418659, 0.        , 0.01450495, ..., 0.02094499, 0.0543243 ,\n",
       "        1.        ]])"
      ]
     },
     "execution_count": 78,
     "metadata": {},
     "output_type": "execute_result"
    }
   ],
   "source": [
    "news_sim_mx = news_arn @ news_arn.T\n",
    "news_sim_mx"
   ]
  },
  {
   "cell_type": "code",
   "execution_count": 79,
   "metadata": {
    "scrolled": true
   },
   "outputs": [
    {
     "data": {
      "text/plain": [
       "'2 октября 2016 02:45 SpaceX подозревает конкурентов во взрыве своей ракеты \\nАмериканская компания SpaceX подозревает, что ее конкурент – консорциум United Launch Alliance – причастен к аварии ракеты Falcon 9. Информация об этом появилась в газете The Washington Post . \\nКак уточняется, сотрудник SpaceX посетил объект ULA, расположенный на мысе Канаверал (штат Флорида) и попросил предоставить ему доступ на крышу одного из зданий, принадлежащих консорциуму. Здание располагается недалеко от пусковой площадки, где и произошла авария. В рамках расследования инцидента компания SpaceX хотела проверить одну особенность, вызвавшую подозрение. На видеозаписи взрыва специалисты компании обнаружили странную тень, а позже – белое пятно на здании ULA, расположенном неподалеку. \\nКак представитель SpaceX объяснил конкурентам, его компания прорабатывает все возможные версии аварии. Но в ULA ему не разрешили попасть на крышу того самого здания. Сотрудники консорциума вызвали специалиста из Военно-вооруженных сил США. Он осмотрел крышу и не нашел ничего подозрительного, что могло быть связано со взрывом ракеты Falcon 9. \\nПо данным газеты, сам Илон Маск , глава SpaceX, не отрицает версию о саботаже. ULA – совместное предприятие авиационного гиганта Boeing и Lockheed Martin. \\n1 сентября на космодроме, расположенном на мысе Канаверал, на площадке SpaceX взорвалась ракета Falcon 9 с израильским спутником связи Amos-6. В результате инцидента никто не пострадал, напоминает ТАСС .'"
      ]
     },
     "execution_count": 79,
     "metadata": {},
     "output_type": "execute_result"
    }
   ],
   "source": [
    "n_idx = 41\n",
    "news_texts_corpus[n_idx]"
   ]
  },
  {
   "cell_type": "code",
   "execution_count": 80,
   "metadata": {},
   "outputs": [
    {
     "data": {
      "text/plain": [
       "59"
      ]
     },
     "execution_count": 80,
     "metadata": {},
     "output_type": "execute_result"
    }
   ],
   "source": [
    "news_sim_mx[n_idx, :].argmax()"
   ]
  },
  {
   "cell_type": "code",
   "execution_count": 81,
   "metadata": {},
   "outputs": [
    {
     "data": {
      "text/plain": [
       "array([49,  1,  2, 88, 85,  5, 82, 77, 45, 36, 22, 99, 53, 62, 61, 37, 39,\n",
       "       38, 97, 11, 21, 12, 94, 63, 10,  7, 15,  6, 83, 84, 51, 90, 93,  9,\n",
       "       64,  4, 42, 28, 96, 56, 17, 95, 58, 18, 46, 76, 91, 72, 29,  8, 89,\n",
       "       81, 98, 24, 55, 65, 14,  0, 32, 86, 92, 71, 52, 70, 50, 74, 27, 31,\n",
       "       73, 48, 57, 75, 87, 60, 40,  3, 23, 47, 13, 79, 33, 26, 66, 30, 35,\n",
       "       69, 25, 67, 54, 68, 44, 34, 16, 78, 80, 20, 19, 43, 41, 59],\n",
       "      dtype=int64)"
      ]
     },
     "execution_count": 81,
     "metadata": {},
     "output_type": "execute_result"
    }
   ],
   "source": [
    "sim_news_idx = news_sim_mx[n_idx, :].argsort()\n",
    "sim_news_idx"
   ]
  },
  {
   "cell_type": "code",
   "execution_count": 87,
   "metadata": {},
   "outputs": [
    {
     "data": {
      "text/plain": [
       "'× E-mail: В Испании прогремел взрыв: пострадали более 70 человек http://www.segodnya.ua/img/article/7566/94_main.jpg http://www.segodnya.ua/img/article/7566/94_tn.jpg 2016-10-02T02:18:34+03:00 Мир Взрыв прогремел в помещении кафе В кафе в Испании от взрыва пострадало 77 человек. Фото: pbs.twimg.com В Испании прогремел взрыв: пострадали более 70 человек Взрыв прогремел в помещении кафе В результате взрыва в городе Велес-Малага на юге Испании пострадали по меньшей мере 77 человек, сообщает канал \" 112 Украина \" со ссылкой на пресс-секретаря скорой помощи региона Андалусия. \"Взрыв прогремел в помещении кафе около 19:00 по Киеву. Сообщается, что это был взрыв газового баллона. На фотографиях с места события видны последствия взрыва – разбросанные стулья, мусор и другие повреждения\", – говорится в сообщении. Фото: twitter.com/opiniondemalaga По данным испанского издания El Mundo, всего были госпитализированы более 70 человек, двадцать из них после оказания первой медицинской помощи были отпущены из больницы. \"Остальные остаются в медицинских учреждениях, у четверых пострадавших тяжелые травмы, но не опасные для жизни\", подчеркивает издание. Читайте также:'"
      ]
     },
     "execution_count": 87,
     "metadata": {},
     "output_type": "execute_result"
    }
   ],
   "source": [
    "news_texts_corpus[sim_news_idx[-4]]"
   ]
  },
  {
   "cell_type": "code",
   "execution_count": null,
   "metadata": {},
   "outputs": [],
   "source": []
  }
 ],
 "metadata": {
  "kernelspec": {
   "display_name": "Python 3",
   "language": "python",
   "name": "python3"
  },
  "language_info": {
   "codemirror_mode": {
    "name": "ipython",
    "version": 3
   },
   "file_extension": ".py",
   "mimetype": "text/x-python",
   "name": "python",
   "nbconvert_exporter": "python",
   "pygments_lexer": "ipython3",
   "version": "3.7.6"
  }
 },
 "nbformat": 4,
 "nbformat_minor": 4
}
