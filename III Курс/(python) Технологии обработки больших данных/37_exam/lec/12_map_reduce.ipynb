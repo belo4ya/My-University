{
 "cells": [
  {
   "cell_type": "markdown",
   "metadata": {},
   "source": [
    "# Лекция 12: Map-Reduce\n",
    "\n",
    "__Автор: Сергей Вячеславович Макрушин__ e-mail: SVMakrushin@fa.ru \n",
    "\n",
    "Финансовый универсиет, 2020 г. \n",
    "\n",
    "При подготовке лекции использованы материалы:\n",
    "* ...\n",
    "\n",
    "V 0.2 18.11.2020"
   ]
  },
  {
   "cell_type": "markdown",
   "metadata": {},
   "source": [
    "## Разделы: <a class=\"anchor\" id=\"разделы\"></a>\n",
    "* [Серии (Series) - одномерные массивы в Pandas](#серии)\n",
    "* [Датафрэйм (DataFrame) - двумерные массивы в Pandas](#датафрэйм)\n",
    "    * [Введение](#датафрэйм-введение)\n",
    "    * [Индексация](#датафрэйм-индексация)    \n",
    "* [Обработка данных в библиотеке Pandas](#обработка-данных)\n",
    "    * [Универсальные функции и выравнивание](#обработка-данных-универсальные)\n",
    "    * [Работа с пустыми значениями](#обработка-данных-пустрые-значения)\n",
    "    * [Агрегирование и группировка](#обработка-данных-агрегирование)    \n",
    "* [Обработка нескольких наборов данных](#обработка-нескольких)\n",
    "    * [Объединение наборов данных](#обработка-нескольких-объединение)\n",
    "    * [GroupBy: разбиение, применение, объединение](#обработка-нескольких-групбай)\n",
    " \n",
    "-\n",
    "\n",
    "* [к оглавлению](#разделы)"
   ]
  },
  {
   "cell_type": "code",
   "execution_count": 1,
   "metadata": {},
   "outputs": [
    {
     "data": {
      "text/html": [
       "﻿<style>\r\n",
       "\r\n",
       "\r\n",
       "b.n {\r\n",
       "    font-weight: normal;        \r\n",
       "}\r\n",
       "\r\n",
       "b.grbg {\r\n",
       "    background-color: #a0a0a0;      \r\n",
       "}\r\n",
       "\r\n",
       "b.r {\r\n",
       "    color: #ff0000;    \r\n",
       "}\r\n",
       "\r\n",
       "\r\n",
       "b.b {    \r\n",
       "    color: #0000ff;    \r\n",
       "}\r\n",
       "\r\n",
       "b.g {\r\n",
       "    color: #00ff00;    \r\n",
       "}\r\n",
       "\r\n",
       "\r\n",
       "// add your CSS styling here\r\n",
       "\r\n",
       "list-style: none;\r\n",
       "\r\n",
       "ul.s {\r\n",
       "//    list-style-type: none;\r\n",
       "    list-style: none;\r\n",
       "//    background-color: #ff0000;  \r\n",
       "//    color: #ffff00;\r\n",
       "//  padding-left: 1.2em;\r\n",
       "//  text-indent: -1.2em;\r\n",
       "}\r\n",
       "\r\n",
       "li.t {\r\n",
       "    list-style: none;\r\n",
       "//  padding-left: 1.2em;\r\n",
       "//  text-indent: -1.2em;    \r\n",
       "}\r\n",
       "\r\n",
       "\r\n",
       "*.r {\r\n",
       "    color: #ff0000;    \r\n",
       "}\r\n",
       "\r\n",
       "li.t:before {\r\n",
       "    content: \"\\21D2\";    \r\n",
       "//    content: \"►\";\r\n",
       "//    padding-left: -1.2em;    \r\n",
       "    text-indent: -1.2em;    \r\n",
       "    display: block;\r\n",
       "    float: left;\r\n",
       "    \r\n",
       "    \r\n",
       "//    width: 1.2em;\r\n",
       "//    color: #ff0000;\r\n",
       "}\r\n",
       "\r\n",
       "i.m:before {\r\n",
       "    font-style: normal;    \r\n",
       "    content: \"\\21D2\";  \r\n",
       "}\r\n",
       "i.m {\r\n",
       "    font-style: normal; \r\n",
       "}    \r\n",
       "\r\n",
       "/*--------------------*/\r\n",
       "/* em {\r\n",
       "    font-style: normal; \r\n",
       "} */\r\n",
       "\r\n",
       "\r\n",
       "em.bl {\r\n",
       "    font-style: normal;     \r\n",
       "    font-weight: bold;        \r\n",
       "}\r\n",
       "\r\n",
       "/* em.grbg {\r\n",
       "    font-style: normal;         \r\n",
       "    background-color: #a0a0a0;      \r\n",
       "} */\r\n",
       "\r\n",
       "em.cr {\r\n",
       "    font-style: normal;         \r\n",
       "    color: #ff0000;    \r\n",
       "}\r\n",
       "\r\n",
       "em.cb {    \r\n",
       "    font-style: normal;         \r\n",
       "    color: #0000ff;    \r\n",
       "}\r\n",
       "\r\n",
       "em.cg {\r\n",
       "    font-style: normal;         \r\n",
       "    color: #00ff00;    \r\n",
       "}\r\n",
       "\r\n",
       "/*--------------------*/\r\n",
       "\r\n",
       "em.qs {\r\n",
       "    font-style: normal; \r\n",
       "}\r\n",
       "\r\n",
       "em.qs::before {\r\n",
       "    font-weight: bold;    \r\n",
       "    color: #ff0000;    \r\n",
       "    content: \"Q:\";  \r\n",
       "}\r\n",
       "\r\n",
       "em.an {\r\n",
       "    font-style: normal; \r\n",
       "}\r\n",
       "\r\n",
       "em.an:before {\r\n",
       "    font-weight: bold;    \r\n",
       "    color: #0000ff;    \r\n",
       "    content: \"A:\";  \r\n",
       "}\r\n",
       "    \r\n",
       "em.nt {\r\n",
       "    font-style: normal; \r\n",
       "}\r\n",
       "\r\n",
       "em.nt:before {\r\n",
       "    font-weight: bold;    \r\n",
       "    color: #0000ff;    \r\n",
       "    content: \"Note:\";  \r\n",
       "}    \r\n",
       "    \r\n",
       "em.ex {\r\n",
       "    font-style: normal; \r\n",
       "}\r\n",
       "\r\n",
       "em.ex:before {\r\n",
       "    font-weight: bold;    \r\n",
       "    color: #00ff00;    \r\n",
       "    content: \"Ex:\";  \r\n",
       "} \r\n",
       "    \r\n",
       "em.df {\r\n",
       "    font-style: normal; \r\n",
       "}\r\n",
       "\r\n",
       "em.df:before {\r\n",
       "    font-weight: bold;    \r\n",
       "    color: #0000ff;    \r\n",
       "    content: \"Def:\";  \r\n",
       "}    \r\n",
       "\r\n",
       "em.pl {\r\n",
       "    font-style: normal; \r\n",
       "}\r\n",
       "\r\n",
       "em.pl:before {\r\n",
       "    font-weight: bold;    \r\n",
       "    color: #0000ff;    \r\n",
       "    content: \"+\";  \r\n",
       "}    \r\n",
       "\r\n",
       "em.mn {\r\n",
       "    font-style: normal; \r\n",
       "}\r\n",
       "\r\n",
       "em.mn:before {\r\n",
       "    font-weight: bold;    \r\n",
       "    color: #0000ff;    \r\n",
       "    content: \"-\";  \r\n",
       "}        \r\n",
       "\r\n",
       "em.plmn {\r\n",
       "    font-style: normal; \r\n",
       "}\r\n",
       "\r\n",
       "em.plmn:before {\r\n",
       "    font-weight: bold;    \r\n",
       "    color: #0000ff;    \r\n",
       "    content: \"\\00B1\";\\\\\"&plusmn;\";  \r\n",
       "}\r\n",
       "    \r\n",
       "em.hn {\r\n",
       "    font-style: normal; \r\n",
       "}\r\n",
       "\r\n",
       "em.hn:before {\r\n",
       "    font-weight: bold;    \r\n",
       "    color: #0000ff;    \r\n",
       "    content: \"\\21D2\";\\\\\"&rArr;\";  \r\n",
       "}     \r\n",
       "    \r\n",
       "\r\n",
       "#cssTableCenter td, th \r\n",
       "{\r\n",
       "    text-align: center; \r\n",
       "    vertical-align: middle;\r\n",
       "}\r\n",
       "\r\n",
       "</style>"
      ],
      "text/plain": [
       "<IPython.core.display.HTML object>"
      ]
     },
     "execution_count": 1,
     "metadata": {},
     "output_type": "execute_result"
    }
   ],
   "source": [
    "# загружаем стиль для оформления презентации\n",
    "from IPython.display import HTML\n",
    "from urllib.request import urlopen\n",
    "html = urlopen(\"file:./lec_v2.css\")\n",
    "HTML(html.read().decode('utf-8'))"
   ]
  },
  {
   "cell_type": "markdown",
   "metadata": {},
   "source": [
    "## Map / Filter / Reduce"
   ]
  },
  {
   "cell_type": "markdown",
   "metadata": {},
   "source": [
    "<center>         \n",
    "    <img src=\"./img/MFR_emj.png\" alt=\"Иллюстрация концепции Map / Filter / Reduce\" style=\"width: 500px;\"/>\n",
    "    <b>Иллюстрация концепции Map / Filter / Reduce</b>\n",
    "</center>"
   ]
  },
  {
   "cell_type": "markdown",
   "metadata": {},
   "source": [
    "### Map"
   ]
  },
  {
   "cell_type": "markdown",
   "metadata": {},
   "source": [
    "<center>         \n",
    "    <img src=\"./img/map_.jpg\" alt=\"Работа функции map()\" style=\"width: 700px;\"/>\n",
    "    <b>Работа функции map()</b>\n",
    "</center>\n",
    "\n",
    "Встроенная функция `map() `позволяет применить функцию к каждому элементу последовательности\n",
    "* Функция имеет следующий формат: `mар(<Функция>, <Последовательность1>[, ... , <ПоследовательностьN>])`\n",
    "\n",
    "* Функция возвращает объект, nоддерживающий итерацию, а не сnисок."
   ]
  },
  {
   "cell_type": "markdown",
   "metadata": {},
   "source": [
    "#### Map: пример 1"
   ]
  },
  {
   "cell_type": "code",
   "execution_count": 72,
   "metadata": {},
   "outputs": [],
   "source": [
    "squared = lambda x: x**2"
   ]
  },
  {
   "cell_type": "code",
   "execution_count": 73,
   "metadata": {},
   "outputs": [
    {
     "data": {
      "text/plain": [
       "[0, 1, 2, 3, 4, 5, 6, 7, 8, 9]"
      ]
     },
     "execution_count": 73,
     "metadata": {},
     "output_type": "execute_result"
    }
   ],
   "source": [
    "list(range(10))"
   ]
  },
  {
   "cell_type": "code",
   "execution_count": 7,
   "metadata": {
    "scrolled": true
   },
   "outputs": [
    {
     "data": {
      "text/plain": [
       "<map at 0x18bfef6fa88>"
      ]
     },
     "execution_count": 7,
     "metadata": {},
     "output_type": "execute_result"
    }
   ],
   "source": [
    "m1 = map(squared, range(10)) # второй аргумент - итерируемый объект!\n",
    "m1 # map реализует принцип ленивых вычислений"
   ]
  },
  {
   "cell_type": "code",
   "execution_count": 8,
   "metadata": {},
   "outputs": [
    {
     "data": {
      "text/plain": [
       "[0, 1, 4, 9, 16, 25, 36, 49, 64, 81]"
      ]
     },
     "execution_count": 8,
     "metadata": {},
     "output_type": "execute_result"
    }
   ],
   "source": [
    "list(m1)"
   ]
  },
  {
   "cell_type": "markdown",
   "metadata": {},
   "source": [
    "#### Map: пример 2"
   ]
  },
  {
   "cell_type": "code",
   "execution_count": 1,
   "metadata": {
    "scrolled": true
   },
   "outputs": [
    {
     "data": {
      "text/plain": [
       "[(0, 0),\n",
       " (1, 10),\n",
       " (2, 20),\n",
       " (3, 30),\n",
       " (4, 40),\n",
       " (5, 50),\n",
       " (6, 60),\n",
       " (7, 70),\n",
       " (8, 80),\n",
       " (9, 90)]"
      ]
     },
     "execution_count": 1,
     "metadata": {},
     "output_type": "execute_result"
    }
   ],
   "source": [
    "ls0 = list(zip(range(10), range(0, 100, 10)))\n",
    "ls0"
   ]
  },
  {
   "cell_type": "code",
   "execution_count": 74,
   "metadata": {},
   "outputs": [],
   "source": [
    "import operator as op"
   ]
  },
  {
   "cell_type": "code",
   "execution_count": 75,
   "metadata": {},
   "outputs": [
    {
     "data": {
      "text/plain": [
       "5"
      ]
     },
     "execution_count": 75,
     "metadata": {},
     "output_type": "execute_result"
    }
   ],
   "source": [
    "op.add(2, 3)"
   ]
  },
  {
   "cell_type": "code",
   "execution_count": 4,
   "metadata": {},
   "outputs": [
    {
     "ename": "TypeError",
     "evalue": "add expected 2 arguments, got 1",
     "output_type": "error",
     "traceback": [
      "\u001b[1;31m---------------------------------------------------------------------------\u001b[0m",
      "\u001b[1;31mTypeError\u001b[0m                                 Traceback (most recent call last)",
      "\u001b[1;32m<ipython-input-4-6d79cd8e61f9>\u001b[0m in \u001b[0;36m<module>\u001b[1;34m\u001b[0m\n\u001b[1;32m----> 1\u001b[1;33m \u001b[0mop\u001b[0m\u001b[1;33m.\u001b[0m\u001b[0madd\u001b[0m\u001b[1;33m(\u001b[0m\u001b[1;33m(\u001b[0m\u001b[1;36m2\u001b[0m\u001b[1;33m,\u001b[0m \u001b[1;36m3\u001b[0m\u001b[1;33m)\u001b[0m\u001b[1;33m)\u001b[0m\u001b[1;33m\u001b[0m\u001b[1;33m\u001b[0m\u001b[0m\n\u001b[0m",
      "\u001b[1;31mTypeError\u001b[0m: add expected 2 arguments, got 1"
     ]
    }
   ],
   "source": [
    "op.add((2, 3))"
   ]
  },
  {
   "cell_type": "code",
   "execution_count": 76,
   "metadata": {},
   "outputs": [
    {
     "data": {
      "text/plain": [
       "5"
      ]
     },
     "execution_count": 76,
     "metadata": {},
     "output_type": "execute_result"
    }
   ],
   "source": [
    "op.add(*(2, 3))"
   ]
  },
  {
   "cell_type": "markdown",
   "metadata": {},
   "source": [
    "применение функции, принимающей несколько параметров:"
   ]
  },
  {
   "cell_type": "code",
   "execution_count": 6,
   "metadata": {
    "scrolled": false
   },
   "outputs": [
    {
     "ename": "TypeError",
     "evalue": "add expected 2 arguments, got 1",
     "output_type": "error",
     "traceback": [
      "\u001b[1;31m---------------------------------------------------------------------------\u001b[0m",
      "\u001b[1;31mTypeError\u001b[0m                                 Traceback (most recent call last)",
      "\u001b[1;32m<ipython-input-6-5f3098773ad0>\u001b[0m in \u001b[0;36m<module>\u001b[1;34m\u001b[0m\n\u001b[1;32m----> 1\u001b[1;33m \u001b[0mlist\u001b[0m\u001b[1;33m(\u001b[0m\u001b[0mmap\u001b[0m\u001b[1;33m(\u001b[0m\u001b[0mop\u001b[0m\u001b[1;33m.\u001b[0m\u001b[0madd\u001b[0m\u001b[1;33m,\u001b[0m \u001b[0mls0\u001b[0m\u001b[1;33m)\u001b[0m\u001b[1;33m)\u001b[0m \u001b[1;31m# ошибка, неверное количество параметров!\u001b[0m\u001b[1;33m\u001b[0m\u001b[1;33m\u001b[0m\u001b[0m\n\u001b[0m",
      "\u001b[1;31mTypeError\u001b[0m: add expected 2 arguments, got 1"
     ]
    }
   ],
   "source": [
    "list(map(op.add, ls0)) # ошибка, неверное количество параметров!"
   ]
  },
  {
   "cell_type": "code",
   "execution_count": 77,
   "metadata": {},
   "outputs": [],
   "source": [
    "# 1й способ:\n",
    "def my_add(par):\n",
    "    return op.add(*par)"
   ]
  },
  {
   "cell_type": "code",
   "execution_count": 78,
   "metadata": {},
   "outputs": [
    {
     "data": {
      "text/plain": [
       "[0, 11, 22, 33, 44, 55, 66, 77, 88, 99]"
      ]
     },
     "execution_count": 78,
     "metadata": {},
     "output_type": "execute_result"
    }
   ],
   "source": [
    "list(map(my_add, ls0)) "
   ]
  },
  {
   "cell_type": "code",
   "execution_count": 79,
   "metadata": {},
   "outputs": [],
   "source": [
    "# 2й способ:\n",
    "\n",
    "from itertools import starmap\n",
    "# starmap вычисляет значение функции для аргументов сгруппированных в итерируемом объекте (втром параметре)"
   ]
  },
  {
   "cell_type": "code",
   "execution_count": 80,
   "metadata": {},
   "outputs": [
    {
     "data": {
      "text/plain": [
       "[0, 11, 22, 33, 44, 55, 66, 77, 88, 99]"
      ]
     },
     "execution_count": 80,
     "metadata": {},
     "output_type": "execute_result"
    }
   ],
   "source": [
    "list(starmap(op.add, ls0))"
   ]
  },
  {
   "cell_type": "markdown",
   "metadata": {},
   "source": [
    "#### Map: пример 3"
   ]
  },
  {
   "cell_type": "markdown",
   "metadata": {},
   "source": [
    "<center>         \n",
    "    <img src=\"./img/map2_.jpg\" alt=\"Работа функции map() с несколькими итерируемыми объектами\" style=\"width: 700px;\"/>\n",
    "    <b>Работа функции map() с несколькими итерируемыми объектами</b>\n",
    "</center>\n",
    "\n",
    "Функции map() можно nередать несколько nоследовательностей. В этом случае в функцию \n",
    "обратного вызова будут nередаваться сразу несколько элементов, расnоложенных в nоследовательностях на одинаковом смещении. "
   ]
  },
  {
   "cell_type": "code",
   "execution_count": 11,
   "metadata": {},
   "outputs": [],
   "source": [
    "ls1 = list(range(10))\n",
    "ls2 = list(range(0, 100, 10))\n",
    "ls3 = list(range(0, 1000, 100))"
   ]
  },
  {
   "cell_type": "code",
   "execution_count": 12,
   "metadata": {},
   "outputs": [
    {
     "data": {
      "text/plain": [
       "([0, 1, 2, 3, 4, 5, 6, 7, 8, 9],\n",
       " [0, 10, 20, 30, 40, 50, 60, 70, 80, 90],\n",
       " [0, 100, 200, 300, 400, 500, 600, 700, 800, 900])"
      ]
     },
     "execution_count": 12,
     "metadata": {},
     "output_type": "execute_result"
    }
   ],
   "source": [
    "ls1, ls2, ls3"
   ]
  },
  {
   "cell_type": "code",
   "execution_count": 13,
   "metadata": {},
   "outputs": [
    {
     "data": {
      "text/plain": [
       "[0, 11, 22, 33, 44, 55, 66, 77, 88, 99]"
      ]
     },
     "execution_count": 13,
     "metadata": {},
     "output_type": "execute_result"
    }
   ],
   "source": [
    "list(map(op.add, ls1, ls2))"
   ]
  },
  {
   "cell_type": "code",
   "execution_count": 14,
   "metadata": {},
   "outputs": [
    {
     "data": {
      "text/plain": [
       "[0, 10101, 20202, 30303, 40404, 50505, 60606, 70707, 80808, 90909]"
      ]
     },
     "execution_count": 14,
     "metadata": {},
     "output_type": "execute_result"
    }
   ],
   "source": [
    "list(map(lambda x, y, z: x+10*y+100*z, ls1, ls2, ls3))"
   ]
  },
  {
   "cell_type": "markdown",
   "metadata": {},
   "source": [
    "### Filter"
   ]
  },
  {
   "cell_type": "markdown",
   "metadata": {},
   "source": [
    "<center>         \n",
    "    <img src=\"./img/filter_.jpg\" alt=\"Работа функции filter()\" style=\"width: 700px;\"/>\n",
    "    <b>Работа функции filter()</b>\n",
    "</center>\n",
    "\n",
    "Функция `filter()` nозволяет выnолнить nроверку элементов nоследовательности. \n",
    "* Формат функции: `filtеr(<Функция>, <Последовательность>)`\n",
    "* Если в nервом nараметре вместо названия функции указать значение `None`, то каждый элемент nоследонательности будет nроверен на соответствие булевскому значению True.\n",
    "* Если элемент в логическом контексте возвращает значение False, то он не будет добавлен в возвращаемый результат. \n",
    "* Функция возвращает объект, nоддерживающий итерацию, а не сnисок."
   ]
  },
  {
   "cell_type": "code",
   "execution_count": 15,
   "metadata": {},
   "outputs": [],
   "source": [
    "import random\n",
    "random.seed(42)"
   ]
  },
  {
   "cell_type": "code",
   "execution_count": 81,
   "metadata": {},
   "outputs": [
    {
     "data": {
      "text/plain": [
       "[-29,\n",
       " -61,\n",
       " -45,\n",
       " 95,\n",
       " -14,\n",
       " -74,\n",
       " -77,\n",
       " -3,\n",
       " -76,\n",
       " -9,\n",
       " -12,\n",
       " 54,\n",
       " -33,\n",
       " -89,\n",
       " 86,\n",
       " 17,\n",
       " 37,\n",
       " -69,\n",
       " -4,\n",
       " -80]"
      ]
     },
     "execution_count": 81,
     "metadata": {},
     "output_type": "execute_result"
    }
   ],
   "source": [
    "lr1 = [random.randint(-100, 100) for i in range(20)]\n",
    "lr1"
   ]
  },
  {
   "cell_type": "code",
   "execution_count": 82,
   "metadata": {},
   "outputs": [
    {
     "data": {
      "text/plain": [
       "[-45, -3, -9, -12, 54, -33, -69]"
      ]
     },
     "execution_count": 82,
     "metadata": {},
     "output_type": "execute_result"
    }
   ],
   "source": [
    "list(filter(lambda x: x%3 == 0, lr1))"
   ]
  },
  {
   "cell_type": "code",
   "execution_count": 83,
   "metadata": {},
   "outputs": [
    {
     "data": {
      "text/plain": [
       "[-45, -3, -9, -12, 54, -33, -69]"
      ]
     },
     "execution_count": 83,
     "metadata": {},
     "output_type": "execute_result"
    }
   ],
   "source": [
    "# аналог генератор списков:\n",
    "[i for i in lr1 if i%3==0]"
   ]
  },
  {
   "cell_type": "code",
   "execution_count": 84,
   "metadata": {},
   "outputs": [
    {
     "data": {
      "text/plain": [
       "[1, 0, 1, 1, 0, 1, -1, 1, -1, -1, 1, -1, 0, -1, -1, -1, 0, 0, 0, 1]"
      ]
     },
     "execution_count": 84,
     "metadata": {},
     "output_type": "execute_result"
    }
   ],
   "source": [
    "lr2 = [random.randint(-1, 1) for i in range(20)]\n",
    "lr2"
   ]
  },
  {
   "cell_type": "code",
   "execution_count": 85,
   "metadata": {
    "scrolled": true
   },
   "outputs": [
    {
     "data": {
      "text/plain": [
       "[1, 1, 1, 1, -1, 1, -1, -1, 1, -1, -1, -1, -1, 1]"
      ]
     },
     "execution_count": 85,
     "metadata": {},
     "output_type": "execute_result"
    }
   ],
   "source": [
    "# первый параметр None имеет особую семантику:\n",
    "list(filter(None, lr2))"
   ]
  },
  {
   "cell_type": "code",
   "execution_count": 86,
   "metadata": {},
   "outputs": [
    {
     "data": {
      "text/plain": [
       "<filter at 0x28641ef6cc8>"
      ]
     },
     "execution_count": 86,
     "metadata": {},
     "output_type": "execute_result"
    }
   ],
   "source": [
    "filter(lambda x: x%3 == 0, lr1)"
   ]
  },
  {
   "cell_type": "code",
   "execution_count": 87,
   "metadata": {},
   "outputs": [
    {
     "data": {
      "text/plain": [
       "<map at 0x28641ef5608>"
      ]
     },
     "execution_count": 87,
     "metadata": {},
     "output_type": "execute_result"
    }
   ],
   "source": [
    "map(op.abs, filter(lambda x: x%3 == 0, lr1))"
   ]
  },
  {
   "cell_type": "code",
   "execution_count": 88,
   "metadata": {},
   "outputs": [
    {
     "data": {
      "text/plain": [
       "[45, 3, 9, 12, 54, 33, 69]"
      ]
     },
     "execution_count": 88,
     "metadata": {},
     "output_type": "execute_result"
    }
   ],
   "source": [
    "# последовательное примененеие преобразований:\n",
    "list(map(op.abs, filter(lambda x: x%3 == 0, lr1)))"
   ]
  },
  {
   "cell_type": "code",
   "execution_count": 33,
   "metadata": {},
   "outputs": [
    {
     "name": "stdout",
     "output_type": "stream",
     "text": [
      "2 µs ± 129 ns per loop (mean ± std. dev. of 7 runs, 1000000 loops each)\n"
     ]
    }
   ],
   "source": [
    "%%timeit\n",
    "[i for i in lr1 if i%3==0]"
   ]
  },
  {
   "cell_type": "code",
   "execution_count": 34,
   "metadata": {},
   "outputs": [
    {
     "name": "stdout",
     "output_type": "stream",
     "text": [
      "4.15 µs ± 263 ns per loop (mean ± std. dev. of 7 runs, 100000 loops each)\n"
     ]
    }
   ],
   "source": [
    "%%timeit\n",
    "list(filter(lambda x: x%3 == 0, lr1))"
   ]
  },
  {
   "cell_type": "markdown",
   "metadata": {},
   "source": [
    "### Reduce"
   ]
  },
  {
   "cell_type": "code",
   "execution_count": 26,
   "metadata": {},
   "outputs": [],
   "source": [
    "import functools"
   ]
  },
  {
   "cell_type": "code",
   "execution_count": 27,
   "metadata": {},
   "outputs": [],
   "source": [
    "from functools import reduce"
   ]
  },
  {
   "cell_type": "markdown",
   "metadata": {},
   "source": [
    "`functools.reduce(funct, iterable[, initializer])`\n",
    "\n",
    "Вычисляет функцию от двух элементов последовательно для элементов последовательности слева направо таким образом, что результатом вычисления становится единственное значение, которое становится первым аргументом для следующей итерации применения `funct`. "
   ]
  },
  {
   "cell_type": "code",
   "execution_count": 28,
   "metadata": {},
   "outputs": [
    {
     "data": {
      "text/plain": [
       "15"
      ]
     },
     "execution_count": 28,
     "metadata": {},
     "output_type": "execute_result"
    }
   ],
   "source": [
    "# Пример: \n",
    "reduce(lambda x, y: x + y, [1, 2, 3, 4, 5]) # вычисляется как ((((1+2)+3)+4)+5)"
   ]
  },
  {
   "cell_type": "markdown",
   "metadata": {},
   "source": [
    "Левый аргумент функции `funct` (аргумента `reduce`) - это аккумулированное значение, правый аргумент - очередное значение из списка.\n",
    "\n",
    "Если передан необязательный аргумент `initializer`, то он используется в качестве левого аргумента при первом применении \n",
    "функции (исходного аккумулированного значения).\n",
    "\n",
    "Если `initializer` не перередан, а последовательность имеет только одно значение, то возвращается это значенние.\n",
    "\n",
    "<center>         \n",
    "    <img src=\"./img/reduce_.jpg\" alt=\"Работа функции reduce()\" style=\"width: 700px;\"/>\n",
    "    <b>Работа функции reduce()</b>\n",
    "</center>"
   ]
  },
  {
   "cell_type": "code",
   "execution_count": 89,
   "metadata": {},
   "outputs": [
    {
     "data": {
      "text/plain": [
       "[10, 11, 12, 13, 14, 15, 16, 17, 18, 19]"
      ]
     },
     "execution_count": 89,
     "metadata": {},
     "output_type": "execute_result"
    }
   ],
   "source": [
    "ls4 = list(range(10, 20))\n",
    "ls4"
   ]
  },
  {
   "cell_type": "code",
   "execution_count": 90,
   "metadata": {},
   "outputs": [
    {
     "data": {
      "text/plain": [
       "145"
      ]
     },
     "execution_count": 90,
     "metadata": {},
     "output_type": "execute_result"
    }
   ],
   "source": [
    "reduce(op.add, ls4)"
   ]
  },
  {
   "cell_type": "code",
   "execution_count": 91,
   "metadata": {},
   "outputs": [],
   "source": [
    "def add_verbose(x, y):\n",
    "    print(\"add(x=%s, y=%s) -> %s\" % (x, y, x+y))\n",
    "    return x + y"
   ]
  },
  {
   "cell_type": "code",
   "execution_count": 93,
   "metadata": {},
   "outputs": [
    {
     "name": "stdout",
     "output_type": "stream",
     "text": [
      "add(x=10, y=11) -> 21\n",
      "add(x=21, y=12) -> 33\n",
      "add(x=33, y=13) -> 46\n",
      "add(x=46, y=14) -> 60\n",
      "add(x=60, y=15) -> 75\n",
      "add(x=75, y=16) -> 91\n",
      "add(x=91, y=17) -> 108\n",
      "add(x=108, y=18) -> 126\n",
      "add(x=126, y=19) -> 145\n"
     ]
    },
    {
     "data": {
      "text/plain": [
       "145"
      ]
     },
     "execution_count": 93,
     "metadata": {},
     "output_type": "execute_result"
    }
   ],
   "source": [
    "reduce(add_verbose, ls4)"
   ]
  },
  {
   "cell_type": "code",
   "execution_count": 34,
   "metadata": {},
   "outputs": [
    {
     "name": "stdout",
     "output_type": "stream",
     "text": [
      "add(x=1000, y=10) -> 1010\n",
      "add(x=1010, y=11) -> 1021\n",
      "add(x=1021, y=12) -> 1033\n",
      "add(x=1033, y=13) -> 1046\n",
      "add(x=1046, y=14) -> 1060\n",
      "add(x=1060, y=15) -> 1075\n",
      "add(x=1075, y=16) -> 1091\n",
      "add(x=1091, y=17) -> 1108\n",
      "add(x=1108, y=18) -> 1126\n",
      "add(x=1126, y=19) -> 1145\n"
     ]
    },
    {
     "data": {
      "text/plain": [
       "1145"
      ]
     },
     "execution_count": 34,
     "metadata": {},
     "output_type": "execute_result"
    }
   ],
   "source": [
    "reduce(add_verbose, ls4, 1000)"
   ]
  },
  {
   "cell_type": "code",
   "execution_count": 94,
   "metadata": {},
   "outputs": [
    {
     "data": {
      "text/plain": [
       "['This', 'is', 'a', 'test.']"
      ]
     },
     "execution_count": 94,
     "metadata": {},
     "output_type": "execute_result"
    }
   ],
   "source": [
    "st = \"This is a test.\".split()\n",
    "st"
   ]
  },
  {
   "cell_type": "code",
   "execution_count": 95,
   "metadata": {},
   "outputs": [],
   "source": [
    "def f2(n, s):\n",
    "    print(f'n: {n}, s: {s}, len(s): {len(s)}')\n",
    "    return n + len(s)"
   ]
  },
  {
   "cell_type": "code",
   "execution_count": 96,
   "metadata": {},
   "outputs": [
    {
     "name": "stdout",
     "output_type": "stream",
     "text": [
      "n: This, s: is, len(s): 2\n"
     ]
    },
    {
     "ename": "TypeError",
     "evalue": "can only concatenate str (not \"int\") to str",
     "output_type": "error",
     "traceback": [
      "\u001b[1;31m---------------------------------------------------------------------------\u001b[0m",
      "\u001b[1;31mTypeError\u001b[0m                                 Traceback (most recent call last)",
      "\u001b[1;32m<ipython-input-96-61f134498515>\u001b[0m in \u001b[0;36m<module>\u001b[1;34m\u001b[0m\n\u001b[0;32m      1\u001b[0m \u001b[1;31m# Ошибка:\u001b[0m\u001b[1;33m\u001b[0m\u001b[1;33m\u001b[0m\u001b[1;33m\u001b[0m\u001b[0m\n\u001b[1;32m----> 2\u001b[1;33m \u001b[0mreduce\u001b[0m\u001b[1;33m(\u001b[0m\u001b[0mf2\u001b[0m\u001b[1;33m,\u001b[0m \u001b[1;33m[\u001b[0m\u001b[1;34m'This'\u001b[0m\u001b[1;33m,\u001b[0m \u001b[1;34m'is'\u001b[0m\u001b[1;33m,\u001b[0m \u001b[1;34m'a'\u001b[0m\u001b[1;33m,\u001b[0m \u001b[1;34m'test.'\u001b[0m\u001b[1;33m]\u001b[0m\u001b[1;33m)\u001b[0m\u001b[1;33m\u001b[0m\u001b[1;33m\u001b[0m\u001b[0m\n\u001b[0m",
      "\u001b[1;32m<ipython-input-95-f772e93b36e1>\u001b[0m in \u001b[0;36mf2\u001b[1;34m(n, s)\u001b[0m\n\u001b[0;32m      1\u001b[0m \u001b[1;32mdef\u001b[0m \u001b[0mf2\u001b[0m\u001b[1;33m(\u001b[0m\u001b[0mn\u001b[0m\u001b[1;33m,\u001b[0m \u001b[0ms\u001b[0m\u001b[1;33m)\u001b[0m\u001b[1;33m:\u001b[0m\u001b[1;33m\u001b[0m\u001b[1;33m\u001b[0m\u001b[0m\n\u001b[0;32m      2\u001b[0m     \u001b[0mprint\u001b[0m\u001b[1;33m(\u001b[0m\u001b[1;34mf'n: {n}, s: {s}, len(s): {len(s)}'\u001b[0m\u001b[1;33m)\u001b[0m\u001b[1;33m\u001b[0m\u001b[1;33m\u001b[0m\u001b[0m\n\u001b[1;32m----> 3\u001b[1;33m     \u001b[1;32mreturn\u001b[0m \u001b[0mn\u001b[0m \u001b[1;33m+\u001b[0m \u001b[0mlen\u001b[0m\u001b[1;33m(\u001b[0m\u001b[0ms\u001b[0m\u001b[1;33m)\u001b[0m\u001b[1;33m\u001b[0m\u001b[1;33m\u001b[0m\u001b[0m\n\u001b[0m",
      "\u001b[1;31mTypeError\u001b[0m: can only concatenate str (not \"int\") to str"
     ]
    }
   ],
   "source": [
    "# Ошибка:\n",
    "reduce(f2, ['This', 'is', 'a', 'test.']) "
   ]
  },
  {
   "cell_type": "code",
   "execution_count": 97,
   "metadata": {
    "scrolled": false
   },
   "outputs": [
    {
     "name": "stdout",
     "output_type": "stream",
     "text": [
      "n: 0, s: This, len(s): 4\n",
      "n: 4, s: is, len(s): 2\n",
      "n: 6, s: a, len(s): 1\n",
      "n: 7, s: test., len(s): 5\n"
     ]
    },
    {
     "data": {
      "text/plain": [
       "12"
      ]
     },
     "execution_count": 97,
     "metadata": {},
     "output_type": "execute_result"
    }
   ],
   "source": [
    "reduce(f2, ['This', 'is', 'a', 'test.'], 0) "
   ]
  },
  {
   "cell_type": "code",
   "execution_count": 39,
   "metadata": {
    "scrolled": false
   },
   "outputs": [
    {
     "data": {
      "text/plain": [
       "12"
      ]
     },
     "execution_count": 39,
     "metadata": {},
     "output_type": "execute_result"
    }
   ],
   "source": [
    "reduce(lambda n, s: n + len(s), \"This is a test.\".split(), 0) "
   ]
  },
  {
   "cell_type": "code",
   "execution_count": 40,
   "metadata": {
    "scrolled": true
   },
   "outputs": [
    {
     "data": {
      "text/plain": [
       "'Thisisatest.'"
      ]
     },
     "execution_count": 40,
     "metadata": {},
     "output_type": "execute_result"
    }
   ],
   "source": [
    "reduce(lambda n, s: n + s, \"This is a test.\".split(), \"\") "
   ]
  },
  {
   "cell_type": "markdown",
   "metadata": {},
   "source": [
    "## Dask Bag"
   ]
  },
  {
   "cell_type": "markdown",
   "metadata": {},
   "source": [
    "### Принципы Dask Bag"
   ]
  },
  {
   "cell_type": "markdown",
   "metadata": {},
   "source": [
    "__Структура данных Bag__\n",
    "\n",
    "<em class=\"df\"></em> __Мультимножество (bag, multiset)__ в математике - обобщение понятия множества, допускающее включение одного и того же элемента по нескольку раз. Число элементов в мультимножестве, с учётом повторяющихся элементов, называется его размером или мощностью.\n",
    "\n",
    "* `list`: упорядоченная коллекция, допускающая повторы элементв.\n",
    "    * Пример: `[1, 2, 3, 2]`\n",
    "* `set`: неупорядоченная коллекция, не допускающая повторы элементов.\n",
    "    * Пример: `{1, 2, 3}`\n",
    "* `bag`: неупорядоченная коллекция, допускающая повторы элементов. \n",
    "    * Пример: `1, 2, 2, 3`\n",
    "\n",
    "Таким образом, bag можно рассматривать как __список, не гарантирующий порядка элементов__."
   ]
  },
  {
   "cell_type": "markdown",
   "metadata": {},
   "source": [
    "__Dask.Bag__\n",
    "\n",
    "`Dask.Bag` реализует такие операции, как `map`, `filter`, `fold` (аналог `reduce`) и `groupby` над коллекциями объектов Python. \n",
    "\n",
    "Реализация `Dask.Bag` основана на координации множества списков или итераторов, каждый из которых представляет собой сегмент большой коллекции. Данная реализация обеспечивает: \n",
    "* параллельное выполнение операций \n",
    "* потребность в небольшом объеме памяти за счет использования итераторов Python и __ленивых вычислений__. Это обеспечивает возможность обработки данных больших чем объем оперативной памяти, даже при использовании всего одного сегмента.\n",
    "\n",
    "\n",
    "<em class=\"df\"></em> __Ленивые вычисления__ (lazy evaluation, или отложенные вычисления) — стратегия вычислений, согласно которой вычисления откладываются до тех пор, пока не понадобится их результат.\n",
    "\n",
    "Аналоги:\n",
    "* `Dask.Bag` можно считать параллельной реализацией пакета `PyToolz` \n",
    "* Или ориентированной на Python версией `PySpark RDD` (интерфейса для работы в Python с ключевой структурой данных Spark - RDD)."
   ]
  },
  {
   "cell_type": "markdown",
   "metadata": {},
   "source": [
    "__Типичное использование Dask.Bag__\n",
    "\n",
    "`Dask.Bag` хорошо подходит для распараллеливания __простой обработки неструктурированных или полу-структурированных данных__, таких как:\n",
    "* текстовые данные\n",
    "* файлы логирования\n",
    "* записи в формате JSON\n",
    "* специальных oбектов Python и т.д. \n",
    "\n",
    "Если выполнение задачи возможно при помощи `Dask.DataFrame` или `Dask.Array`, то стоит выбрать этии варианты, так как основной объем вычислений будет выполняться за счет быстрых библиотек написанных на компилируемых языках, тогда как `Dask.Bag` использует только код на Python. При этом приемуществом `Dask.Bag` является возможность использовать любые пользовательские функции написанные на Python и существенно меньшие требования к наличию строгой структуры у обрабатываемых данных."
   ]
  },
  {
   "cell_type": "markdown",
   "metadata": {},
   "source": [
    "__Специфика реализации__\n",
    "\n",
    "По умолчанию, `Dask.Bag` использует для исполнения __планировщик__ `dask.multiprocessing`.\n",
    "* <em class=\"pl\"></em> Это позволяет __обойти проблему GIL__ и полноценно использовать несколько процессорных ядер для объектов реализованных на чситом Python.\n",
    "* <em class=\"mn\"></em> Минусом этого подходя является наличие больших накладных расходов при обмене данных между исполнителями, что важно для производительности вычислений, требующих интенсивного обмена данными. Это редко бывает проблемой, так как типичный поток задач для `Dask.Bag` подразумевает:\n",
    "    * или черезвычайно параллельные вычисления \n",
    "    * или обмен небольшим объемом данных в процессе __свертки__ (англ. folding, также известна как reduce, accumulate).\n",
    "\n",
    "<em class=\"df\"></em> __Чрезвычайная параллельность__ (embarrassingly parallel) - тип задач в системах параллельных вычислений, для которых не требуется прилагать больших усилий при разделении на несколько отдельных параллельных задач (распараллеливании).\n",
    "* Чаще всего __не существует зависимости (или связи) между  параллельными задачами__, то есть их результаты не влияют друг на друга.\n",
    "* Чрезвычайно параллельные задачи __практически не требуют согласования__ между результатами выполнения отдельных этапов, что отличает их от задач распределённых вычислений, которые требуют связи промежуточных результатов.\n",
    "* Такие задачи __легки для исполнения массово паралельных системах__ (кластерах с очень большим количеством вычислительных узлов).\n",
    "\n",
    "В модели вычислений MapReduce шаг \"перетасовывания\" (shuffle), отвечающий за группировку данных, требует интенсивного обмена данными между исполнителями.\n",
    "* Например, шаг группировки выполняется при выполнении операции `Dask.Bag` `groupby`.\n",
    "* Операция группировки очень ресурсоемкая и эффективнее выполняется при помощи `Dask.DataFrame` или `Dask.Array`. Поэтму предпочтительнее использовать `Dask.Bag` для подготовки и структурирования данных, а для выполнения более сложных операций преобразовывать их в `Dask.DataFrame`."
   ]
  },
  {
   "cell_type": "markdown",
   "metadata": {},
   "source": [
    "__Ограничения Dask.Bag__\n",
    "\n",
    "Dask.Bag позволяет выполнять любую функцию на Python, эта универсальность имеет свою цену. Dask.Bag имеет следующие ограничения:\n",
    "* по умолчанию обработка Dask.Bag выполняется планировщиком, на базе multiprocessing, что создает ряд ограничений\n",
    "* Bag яляется __неизменяемой структурой данных__, таким образом нет возможности изменить единичный элемент Dask.Bag не выполнив операцию преобразования для всей структуры данных\n",
    "* операции над Bag медленнее, чем операции над Array/DataFrame по тем же причинам, по которым операции на Python медленнее чем аналогичные операции в NumPy и Pandas \n",
    "* операция __Bag.groupby выполняется медленно__, по возможности нужно использовать вместо нее Bag.foldby или преобразовывать данные в структуру DataFrame."
   ]
  },
  {
   "cell_type": "markdown",
   "metadata": {},
   "source": [
    "### Создание Dask Bag"
   ]
  },
  {
   "cell_type": "markdown",
   "metadata": {},
   "source": [
    "`Bag` можно создать из последовательности (итерируемого объекта) Python, из файла (файлов) и т.п. Данные в `Bag` разбиваются на сегменты (блоки), каждый из которых содержит множество элементов исходного набора данных."
   ]
  },
  {
   "cell_type": "code",
   "execution_count": 98,
   "metadata": {},
   "outputs": [],
   "source": [
    "import dask.bag as db"
   ]
  },
  {
   "cell_type": "code",
   "execution_count": 99,
   "metadata": {},
   "outputs": [
    {
     "data": {
      "text/plain": [
       "(1, 2, 3)"
      ]
     },
     "execution_count": 99,
     "metadata": {},
     "output_type": "execute_result"
    }
   ],
   "source": [
    "# набор данных (list - итерируемый объект Python) из целых чисел\n",
    "b = db.from_sequence([1, 2, 3, 4, 5, 6, 7, 8, 9, 10], npartitions=2) # разбиваем последовательность на 2 сегмента\n",
    "b.take(3) # выводит 3 элемента из Bag"
   ]
  },
  {
   "cell_type": "markdown",
   "metadata": {},
   "source": [
    "Через параметр `npartitions` можно управлять разбиением данных на сегменты (partitions). По умолчанию Dask пытается разбить данные на количество сегментов, близкое к 100."
   ]
  },
  {
   "cell_type": "markdown",
   "metadata": {},
   "source": [
    "Функция `read_text` может принимать на вход файл или последовательность файлов:\n",
    "\n",
    "```python\n",
    ">>> b = db.read_text('myfile.txt')\n",
    ">>> b = db.read_text(['myfile.1.txt', 'myfile.2.txt', ...])\n",
    ">>> b = db.read_text('myfile.*.txt')\n",
    "```\n",
    "\n",
    "* Функция умеет использовать стандартные форматы архивов, такие как gzip, bz2, xz (могут быть подключены и другие форматы).\n",
    "\n",
    "* Элементами в созданном Bag будут строки переданных текстовых файлов. По умолчанию каждый сегмент Bag будет относится к одному файлу (при помощи параметров files_per_partition и blocksize можно управлять разбиением на сегменты). \n",
    "\n",
    "* __Не загружайте данные предназначенные для Bag предварительно__, используйте для этого только функции Bag. Это позволит избежать нераспараллеленного участка работ и загрузки всего массива данных в память. Если для используемого формата данных нет стандартного загрузчика - исползуйте следующий подход:\n",
    "\n",
    "```python\n",
    ">>> # load_from_filename - пользовательская функция загрузки данных\n",
    ">>> b = db.from_sequence(['1.dat', '2.dat', ...]).map(load_from_filename)\n",
    "```"
   ]
  },
  {
   "cell_type": "code",
   "execution_count": 58,
   "metadata": {},
   "outputs": [],
   "source": [
    "# Генерация данных (нужно создать папку ./data)\n",
    "# скрипты для генерации (в т.ч. prep.py лежат в текущей папке)\n",
    "%run prep.py -d accounts"
   ]
  },
  {
   "cell_type": "code",
   "execution_count": 100,
   "metadata": {},
   "outputs": [
    {
     "data": {
      "text/plain": [
       "('{\"id\": 0, \"name\": \"Frank\", \"transactions\": [{\"transaction-id\": 1341, \"amount\": 289}, {\"transaction-id\": 3824, \"amount\": 240}, {\"transaction-id\": 5168, \"amount\": 235}, {\"transaction-id\": 7303, \"amount\": 250}, {\"transaction-id\": 7580, \"amount\": 283}, {\"transaction-id\": 9440, \"amount\": 169}, {\"transaction-id\": 9660, \"amount\": 127}, {\"transaction-id\": 10265, \"amount\": 247}, {\"transaction-id\": 10680, \"amount\": 171}, {\"transaction-id\": 10864, \"amount\": 142}, {\"transaction-id\": 11473, \"amount\": 183}, {\"transaction-id\": 12037, \"amount\": 203}, {\"transaction-id\": 12272, \"amount\": 206}, {\"transaction-id\": 12767, \"amount\": 156}, {\"transaction-id\": 13008, \"amount\": 195}, {\"transaction-id\": 13233, \"amount\": 162}, {\"transaction-id\": 13614, \"amount\": 197}, {\"transaction-id\": 14379, \"amount\": 240}, {\"transaction-id\": 15409, \"amount\": 313}, {\"transaction-id\": 16717, \"amount\": 162}, {\"transaction-id\": 16873, \"amount\": 221}, {\"transaction-id\": 19635, \"amount\": 162}, {\"transaction-id\": 21944, \"amount\": 180}, {\"transaction-id\": 23245, \"amount\": 231}, {\"transaction-id\": 23376, \"amount\": 192}, {\"transaction-id\": 24006, \"amount\": 120}, {\"transaction-id\": 25476, \"amount\": 207}, {\"transaction-id\": 26189, \"amount\": 287}, {\"transaction-id\": 29792, \"amount\": 106}, {\"transaction-id\": 31466, \"amount\": 93}, {\"transaction-id\": 32378, \"amount\": 189}, {\"transaction-id\": 34276, \"amount\": 175}, {\"transaction-id\": 34402, \"amount\": 130}, {\"transaction-id\": 34508, \"amount\": 167}, {\"transaction-id\": 34562, \"amount\": 130}, {\"transaction-id\": 34659, \"amount\": 267}, {\"transaction-id\": 34762, \"amount\": 158}, {\"transaction-id\": 35969, \"amount\": 242}, {\"transaction-id\": 36103, \"amount\": 244}, {\"transaction-id\": 36621, \"amount\": 171}, {\"transaction-id\": 37329, \"amount\": 196}, {\"transaction-id\": 38860, \"amount\": 182}, {\"transaction-id\": 39947, \"amount\": 204}, {\"transaction-id\": 40805, \"amount\": 153}, {\"transaction-id\": 41174, \"amount\": 235}, {\"transaction-id\": 41195, \"amount\": 196}, {\"transaction-id\": 42806, \"amount\": 200}, {\"transaction-id\": 43416, \"amount\": 171}, {\"transaction-id\": 43833, \"amount\": 190}, {\"transaction-id\": 44464, \"amount\": 151}, {\"transaction-id\": 45132, \"amount\": 106}, {\"transaction-id\": 46622, \"amount\": 298}, {\"transaction-id\": 47571, \"amount\": 199}, {\"transaction-id\": 48538, \"amount\": 172}, {\"transaction-id\": 49155, \"amount\": 170}, {\"transaction-id\": 49905, \"amount\": 274}, {\"transaction-id\": 50917, \"amount\": 185}, {\"transaction-id\": 52656, \"amount\": 238}, {\"transaction-id\": 53907, \"amount\": 163}, {\"transaction-id\": 55619, \"amount\": 207}, {\"transaction-id\": 56438, \"amount\": 142}, {\"transaction-id\": 56951, \"amount\": 197}, {\"transaction-id\": 57636, \"amount\": 206}, {\"transaction-id\": 59536, \"amount\": 220}, {\"transaction-id\": 60576, \"amount\": 220}, {\"transaction-id\": 60880, \"amount\": 189}, {\"transaction-id\": 61330, \"amount\": 190}, {\"transaction-id\": 61758, \"amount\": 240}, {\"transaction-id\": 61791, \"amount\": 188}, {\"transaction-id\": 62117, \"amount\": 193}, {\"transaction-id\": 63123, \"amount\": 195}, {\"transaction-id\": 63205, \"amount\": 184}, {\"transaction-id\": 63682, \"amount\": 263}, {\"transaction-id\": 64177, \"amount\": 262}, {\"transaction-id\": 67605, \"amount\": 183}, {\"transaction-id\": 67882, \"amount\": 165}, {\"transaction-id\": 70677, \"amount\": 85}, {\"transaction-id\": 71090, \"amount\": 184}, {\"transaction-id\": 71718, \"amount\": 208}, {\"transaction-id\": 72208, \"amount\": 251}, {\"transaction-id\": 72304, \"amount\": 185}, {\"transaction-id\": 74031, \"amount\": 233}, {\"transaction-id\": 74199, \"amount\": 216}, {\"transaction-id\": 74998, \"amount\": 202}, {\"transaction-id\": 75345, \"amount\": 131}, {\"transaction-id\": 75460, \"amount\": 149}, {\"transaction-id\": 76127, \"amount\": 235}, {\"transaction-id\": 76931, \"amount\": 297}, {\"transaction-id\": 78429, \"amount\": 232}, {\"transaction-id\": 78814, \"amount\": 249}, {\"transaction-id\": 79586, \"amount\": 197}, {\"transaction-id\": 80230, \"amount\": 152}, {\"transaction-id\": 80574, \"amount\": 224}, {\"transaction-id\": 80847, \"amount\": 240}, {\"transaction-id\": 82135, \"amount\": 137}, {\"transaction-id\": 82162, \"amount\": 188}, {\"transaction-id\": 84770, \"amount\": 193}, {\"transaction-id\": 85069, \"amount\": 192}, {\"transaction-id\": 86558, \"amount\": 97}, {\"transaction-id\": 89373, \"amount\": 261}, {\"transaction-id\": 89650, \"amount\": 209}, {\"transaction-id\": 89690, \"amount\": 212}, {\"transaction-id\": 91685, \"amount\": 246}, {\"transaction-id\": 94793, \"amount\": 312}, {\"transaction-id\": 95739, \"amount\": 180}, {\"transaction-id\": 95949, \"amount\": 133}, {\"transaction-id\": 96507, \"amount\": 209}, {\"transaction-id\": 97980, \"amount\": 173}, {\"transaction-id\": 99999, \"amount\": 293}]}\\n',)"
      ]
     },
     "execution_count": 100,
     "metadata": {},
     "output_type": "execute_result"
    }
   ],
   "source": [
    "# данные загружаются из набора заархивированных файлов формата JSON\n",
    "# элементами Bag будут строки файлов, сегментация будет проведена по файлам\n",
    "data_path = './data'\n",
    "import os\n",
    "b = db.read_text(os.path.join(data_path, 'accounts.*.json.gz'))\n",
    "b.take(1)"
   ]
  },
  {
   "cell_type": "code",
   "execution_count": 101,
   "metadata": {
    "scrolled": true
   },
   "outputs": [
    {
     "data": {
      "text/plain": [
       "50"
      ]
     },
     "execution_count": 101,
     "metadata": {},
     "output_type": "execute_result"
    }
   ],
   "source": [
    "b.npartitions"
   ]
  },
  {
   "cell_type": "markdown",
   "metadata": {},
   "source": [
    "### API Dask.Bag"
   ]
  },
  {
   "cell_type": "markdown",
   "metadata": {},
   "source": [
    "Объекты Bag поддерживают стандартное API, аналогичное имеющемуся в стандартной библиотеке Python и библиотеках toolz или pyspark. В частности, имеются функции, отвечающие за маппинг (map и т.п.), фильтрацию и группировку (filter, groupby и т.п.) и свертку (reduce и т.п.).\n",
    "\n",
    "Документация по API Dask.Bag : https://docs.dask.org/en/latest/bag-api.html "
   ]
  },
  {
   "cell_type": "code",
   "execution_count": 102,
   "metadata": {},
   "outputs": [
    {
     "data": {
      "text/plain": [
       "dask.bag<lambda-..., npartitions=10>"
      ]
     },
     "execution_count": 102,
     "metadata": {},
     "output_type": "execute_result"
    }
   ],
   "source": [
    "def is_even(n):\n",
    "    return n % 2 == 0\n",
    "\n",
    "b = db.from_sequence([1, 2, 3, 4, 5, 6, 7, 8, 9, 10])\n",
    "c = b.filter(is_even).map(lambda x: x ** 2)\n",
    "c"
   ]
  },
  {
   "cell_type": "markdown",
   "metadata": {},
   "source": [
    "* Операции над объектом Bag, создают новые объекты Bag, таким образом формируются задачи для отоложенных вычислений. \n",
    "* Для старта вычислений необходимо вызвать для объекта Bag функцию `compute()`.\n",
    "    * Результат `compute()` для объектов Bag будет представлен в виде списка (или единичного значения при операциях свертки).\n",
    "    * Получение итератора по bag приводит к выполнению `compute()`. Таким образмом `list(bag)` автоматически стартует вычисления."
   ]
  },
  {
   "cell_type": "code",
   "execution_count": 103,
   "metadata": {},
   "outputs": [
    {
     "data": {
      "text/plain": [
       "[4, 16, 36, 64, 100]"
      ]
     },
     "execution_count": 103,
     "metadata": {},
     "output_type": "execute_result"
    }
   ],
   "source": [
    "# вызов compute() синхронный: возрват из функции происхоит только после получения всех результатов\n",
    "c.compute()"
   ]
  },
  {
   "cell_type": "code",
   "execution_count": 55,
   "metadata": {},
   "outputs": [
    {
     "data": {
      "text/plain": [
       "[4, 16, 36, 64, 100]"
      ]
     },
     "execution_count": 55,
     "metadata": {},
     "output_type": "execute_result"
    }
   ],
   "source": [
    "list(b.filter(is_even).map(lambda x: x ** 2))"
   ]
  },
  {
   "cell_type": "markdown",
   "metadata": {},
   "source": [
    "Для того чтобы стартовать промежуточные вычсиления, которые приведут к созданию объекта Dask (например Bag), хранящегося в памяти (например загрузки данных из файла и их предварительной обработки) вместо `compute()` нужно вызывать функцию `persist()`. С полученным объектом Bag можно выполнять последующие операции исходя из того что предварительные операции уже выполнены и результаты уже хранятся в оперативной памяти. "
   ]
  },
  {
   "cell_type": "code",
   "execution_count": 104,
   "metadata": {},
   "outputs": [],
   "source": [
    "p = c.persist()"
   ]
  },
  {
   "cell_type": "code",
   "execution_count": 50,
   "metadata": {},
   "outputs": [],
   "source": [
    "m1 = p.map(lambda x: x / 3)"
   ]
  },
  {
   "cell_type": "code",
   "execution_count": 106,
   "metadata": {},
   "outputs": [
    {
     "data": {
      "text/plain": [
       "dask.bag<lambda-..., npartitions=10>"
      ]
     },
     "execution_count": 106,
     "metadata": {},
     "output_type": "execute_result"
    }
   ],
   "source": [
    "m1"
   ]
  },
  {
   "cell_type": "code",
   "execution_count": 107,
   "metadata": {
    "scrolled": false
   },
   "outputs": [
    {
     "data": {
      "text/plain": [
       "[1.3333333333333333,\n",
       " 5.333333333333333,\n",
       " 12.0,\n",
       " 21.333333333333332,\n",
       " 33.333333333333336]"
      ]
     },
     "execution_count": 107,
     "metadata": {},
     "output_type": "execute_result"
    }
   ],
   "source": [
    "list(m1)"
   ]
  },
  {
   "cell_type": "markdown",
   "metadata": {},
   "source": [
    "Если после обработки с помощью Bag получены хорошо структурированные данные, то продолжить их обработку может буть эффективнее при помощи Dask DataFrame (аналог Pandas DataFrame). Ряд операций для DataFrame реализованы существенно эффективнее, да и обычные функции, за счет вызовов откомпелированного кода Pandas, выполняются намного быстрее."
   ]
  },
  {
   "cell_type": "code",
   "execution_count": 108,
   "metadata": {},
   "outputs": [
    {
     "data": {
      "text/html": [
       "<div><strong>Dask DataFrame Structure:</strong></div>\n",
       "<div>\n",
       "<style scoped>\n",
       "    .dataframe tbody tr th:only-of-type {\n",
       "        vertical-align: middle;\n",
       "    }\n",
       "\n",
       "    .dataframe tbody tr th {\n",
       "        vertical-align: top;\n",
       "    }\n",
       "\n",
       "    .dataframe thead th {\n",
       "        text-align: right;\n",
       "    }\n",
       "</style>\n",
       "<table border=\"1\" class=\"dataframe\">\n",
       "  <thead>\n",
       "    <tr style=\"text-align: right;\">\n",
       "      <th></th>\n",
       "      <th>name</th>\n",
       "      <th>balance</th>\n",
       "    </tr>\n",
       "    <tr>\n",
       "      <th>npartitions=2</th>\n",
       "      <th></th>\n",
       "      <th></th>\n",
       "    </tr>\n",
       "  </thead>\n",
       "  <tbody>\n",
       "    <tr>\n",
       "      <th></th>\n",
       "      <td>object</td>\n",
       "      <td>int64</td>\n",
       "    </tr>\n",
       "    <tr>\n",
       "      <th></th>\n",
       "      <td>...</td>\n",
       "      <td>...</td>\n",
       "    </tr>\n",
       "    <tr>\n",
       "      <th></th>\n",
       "      <td>...</td>\n",
       "      <td>...</td>\n",
       "    </tr>\n",
       "  </tbody>\n",
       "</table>\n",
       "</div>\n",
       "<div>Dask Name: to_dataframe, 4 tasks</div>"
      ],
      "text/plain": [
       "Dask DataFrame Structure:\n",
       "                 name balance\n",
       "npartitions=2                \n",
       "               object   int64\n",
       "                  ...     ...\n",
       "                  ...     ...\n",
       "Dask Name: to_dataframe, 4 tasks"
      ]
     },
     "execution_count": 108,
     "metadata": {},
     "output_type": "execute_result"
    }
   ],
   "source": [
    "b = db.from_sequence([{'name': 'Alice',   'balance': 100}, \n",
    "                      {'name': 'Bob',     'balance': 200},\n",
    "                      {'name': 'Charlie', 'balance': 300}], npartitions=2)\n",
    "# преобразование в Dask DataFrame:\n",
    "df = b.to_dataframe()\n",
    "df"
   ]
  },
  {
   "cell_type": "markdown",
   "metadata": {},
   "source": [
    "__Функции маппинга__\n",
    "\n",
    "Функции маппинга для DaskBag:\n",
    "\n",
    "| Функция | Краткое описание |\n",
    "|------|------|\n",
    "|Bag.map(func, \\*args, \\*\\*kwargs) | Apply a function elementwise across one or more bags|\n",
    "|Bag.map_partitions(func, \\*args, \\*\\*kwargs) | Apply a function to every partition across one or more bags|\n",
    "|Bag.starmap(func, \\*\\*kwargs) | Apply a function using argument tuples from the given bag|\n",
    "|Bag.pluck(key[, default]) | Select item from all tuples/dicts in collection|"
   ]
  },
  {
   "cell_type": "code",
   "execution_count": 109,
   "metadata": {},
   "outputs": [],
   "source": [
    "import operator as op"
   ]
  },
  {
   "cell_type": "markdown",
   "metadata": {},
   "source": [
    "Примеры использования функции `map`"
   ]
  },
  {
   "cell_type": "code",
   "execution_count": 110,
   "metadata": {},
   "outputs": [
    {
     "data": {
      "text/plain": [
       "[1, 2, 3, 4, 5, 6]"
      ]
     },
     "execution_count": 110,
     "metadata": {},
     "output_type": "execute_result"
    }
   ],
   "source": [
    "b1 = db.from_sequence(range(6), npartitions=2)\n",
    "b1.map(lambda x: x + 1).compute()"
   ]
  },
  {
   "cell_type": "code",
   "execution_count": 111,
   "metadata": {},
   "outputs": [
    {
     "data": {
      "text/plain": [
       "[6, 8, 10, 12, 14, 16]"
      ]
     },
     "execution_count": 111,
     "metadata": {},
     "output_type": "execute_result"
    }
   ],
   "source": [
    "b2 = db.from_sequence(range(6, 12), npartitions=2)\n",
    "# после func в map могут передваться другие объекты Bag для выполнения мэппинга с несколькими мультимножествами\n",
    "# все объекты Bag, участвующие в мэппинге должны быть одинаково сегментированны\n",
    "b1.map(op.add, b2).compute()"
   ]
  },
  {
   "cell_type": "code",
   "execution_count": 114,
   "metadata": {},
   "outputs": [
    {
     "data": {
      "text/plain": [
       "[2.0,\n",
       " 3.6666666666666665,\n",
       " 8.333333333333334,\n",
       " 4.0,\n",
       " 5.666666666666667,\n",
       " 10.333333333333334]"
      ]
     },
     "execution_count": 114,
     "metadata": {},
     "output_type": "execute_result"
    }
   ],
   "source": [
    "b3 = db.from_sequence([0, 3, 15]*2, npartitions=2)\n",
    "# использование 3х Bag'ов в map:\n",
    "b1.map(lambda *x: sum(x)/len(x), b2, b3).compute()"
   ]
  },
  {
   "cell_type": "code",
   "execution_count": 115,
   "metadata": {
    "scrolled": true
   },
   "outputs": [
    {
     "data": {
      "text/plain": [
       "[0, 1, 8, 27, 64, 125]"
      ]
     },
     "execution_count": 115,
     "metadata": {},
     "output_type": "execute_result"
    }
   ],
   "source": [
    "# Дополнительные аргументы (позиционные и именованные) для func могут передваться через *args, **kwargs\n",
    "# Аргументы будут транслироваться для всех вызовов func. \n",
    "# Дополнительные аргументы должны следовать после объектов типа Bag.\n",
    "b1.map(op.pow, 3).compute()"
   ]
  },
  {
   "cell_type": "markdown",
   "metadata": {},
   "source": [
    "Примеры использования функции `starmap`"
   ]
  },
  {
   "cell_type": "code",
   "execution_count": 69,
   "metadata": {
    "scrolled": true
   },
   "outputs": [
    {
     "data": {
      "text/plain": [
       "[3, 7, 11, 15, 19]"
      ]
     },
     "execution_count": 69,
     "metadata": {},
     "output_type": "execute_result"
    }
   ],
   "source": [
    "# starmap применяет func к картежам аргументов из преданного на вход объекта bag\n",
    "b = db.from_sequence([(1, 2), (3, 4), (5, 6), (7, 8), (9, 10)], npartitions=2)\n",
    "b.starmap(op.add).compute()"
   ]
  },
  {
   "cell_type": "markdown",
   "metadata": {},
   "source": [
    "Примеры использования функции `pluck`"
   ]
  },
  {
   "cell_type": "code",
   "execution_count": 118,
   "metadata": {},
   "outputs": [],
   "source": [
    "# pluck выбирает значение по ключу (индексу) из коллекции (словаря, списка, картежа)\n",
    "\n",
    "b = db.from_sequence([{'name': 'Alice', 'credits': [1, 2, 3]},\n",
    "                      {'name': 'Bob',   'credits': [10, 20]},\n",
    "                      {'name': 'Rob'}])"
   ]
  },
  {
   "cell_type": "code",
   "execution_count": 119,
   "metadata": {},
   "outputs": [
    {
     "data": {
      "text/plain": [
       "['Alice', 'Bob', 'Rob']"
      ]
     },
     "execution_count": 119,
     "metadata": {},
     "output_type": "execute_result"
    }
   ],
   "source": [
    "b.map(lambda x: x['name']).compute()"
   ]
  },
  {
   "cell_type": "code",
   "execution_count": 120,
   "metadata": {},
   "outputs": [
    {
     "data": {
      "text/plain": [
       "['Alice', 'Bob', 'Rob']"
      ]
     },
     "execution_count": 120,
     "metadata": {},
     "output_type": "execute_result"
    }
   ],
   "source": [
    "b.pluck('name').compute()"
   ]
  },
  {
   "cell_type": "code",
   "execution_count": 123,
   "metadata": {},
   "outputs": [
    {
     "data": {
      "text/plain": [
       "[[1, 2, 3], [10, 20], [-1]]"
      ]
     },
     "execution_count": 123,
     "metadata": {},
     "output_type": "execute_result"
    }
   ],
   "source": [
    "# использование значения по умолчанию:\n",
    "b.pluck('credits', default=[-1]).compute()"
   ]
  },
  {
   "cell_type": "code",
   "execution_count": 124,
   "metadata": {},
   "outputs": [],
   "source": [
    "# работа с bag из списков:\n",
    "b = db.from_sequence([[1, 2, 3], [10, 20], [11, 7]])"
   ]
  },
  {
   "cell_type": "code",
   "execution_count": 125,
   "metadata": {},
   "outputs": [
    {
     "data": {
      "text/plain": [
       "[2, 20, 7]"
      ]
     },
     "execution_count": 125,
     "metadata": {},
     "output_type": "execute_result"
    }
   ],
   "source": [
    "b.map(lambda x: x[1]).compute()"
   ]
  },
  {
   "cell_type": "code",
   "execution_count": 126,
   "metadata": {},
   "outputs": [
    {
     "data": {
      "text/plain": [
       "[2, 20, 7]"
      ]
     },
     "execution_count": 126,
     "metadata": {},
     "output_type": "execute_result"
    }
   ],
   "source": [
    "b.pluck(1).compute()"
   ]
  },
  {
   "cell_type": "markdown",
   "metadata": {},
   "source": [
    "__Преобразование строк__\n",
    "\n",
    "Преобразование строк для Dask Bag можно выполнять с использованием функций из пространства имен `str`.\n",
    "\n",
    "Обработку строк, находящихся в объектах Bag, можно осуществлять используя пространство имен `str`, которое напрямую привязано к объектам Bag. Таким образом мэппинг функций из str можно производить напрямую, не исопльзуя функцию `map`."
   ]
  },
  {
   "cell_type": "code",
   "execution_count": 128,
   "metadata": {},
   "outputs": [],
   "source": [
    "b = db.from_sequence(['Alice Smith', 'Bob Jones', 'Charlie Smith'])"
   ]
  },
  {
   "cell_type": "code",
   "execution_count": 79,
   "metadata": {},
   "outputs": [
    {
     "data": {
      "text/plain": [
       "['alice smith', 'bob jones', 'charlie smith']"
      ]
     },
     "execution_count": 79,
     "metadata": {},
     "output_type": "execute_result"
    }
   ],
   "source": [
    "b.map(lambda x: x.lower()).compute()"
   ]
  },
  {
   "cell_type": "code",
   "execution_count": 129,
   "metadata": {},
   "outputs": [
    {
     "name": "stdout",
     "output_type": "stream",
     "text": [
      "['alice smith', 'bob jones', 'charlie smith']\n",
      "['Alice Smith', 'Charlie Smith']\n",
      "[['Alice', 'Smith'], ['Bob', 'Jones'], ['Charlie', 'Smith']]\n"
     ]
    }
   ],
   "source": [
    "print(b.str.lower().compute())\n",
    "\n",
    "print(b.str.match('*Smith').compute())\n",
    "\n",
    "print(b.str.split(' ').compute())"
   ]
  },
  {
   "cell_type": "markdown",
   "metadata": {},
   "source": [
    "__Функции фильтрации__\n",
    "\n",
    "| Функция | Краткое описание|\n",
    "|------|------|\n",
    "|Bag.filter(predicate) | Filter elements in collection by a predicate function|\n",
    "|Bag.random_sample(prob[, random_state]) | Return elements from bag with probability of prob|\n",
    "|Bag.remove(predicate) | Remove elements in collection that match predicate|"
   ]
  },
  {
   "cell_type": "markdown",
   "metadata": {},
   "source": [
    "Примеры использования функции `filter`"
   ]
  },
  {
   "cell_type": "code",
   "execution_count": 61,
   "metadata": {
    "scrolled": true
   },
   "outputs": [
    {
     "data": {
      "text/plain": [
       "[0, 2, 4]"
      ]
     },
     "execution_count": 61,
     "metadata": {},
     "output_type": "execute_result"
    }
   ],
   "source": [
    "b = db.from_sequence(range(5))\n",
    "list(b.filter(lambda x: x % 2 == 0))  "
   ]
  },
  {
   "cell_type": "markdown",
   "metadata": {},
   "source": [
    "Примеры использования функции `random_sample`"
   ]
  },
  {
   "cell_type": "code",
   "execution_count": 62,
   "metadata": {
    "scrolled": true
   },
   "outputs": [
    {
     "data": {
      "text/plain": [
       "[2, 5, 28, 40]"
      ]
     },
     "execution_count": 62,
     "metadata": {},
     "output_type": "execute_result"
    }
   ],
   "source": [
    "b = db.from_sequence(range(50))\n",
    "list(b.random_sample(0.1))"
   ]
  },
  {
   "cell_type": "markdown",
   "metadata": {},
   "source": [
    "Примеры использования функции `remove`"
   ]
  },
  {
   "cell_type": "code",
   "execution_count": 63,
   "metadata": {
    "scrolled": true
   },
   "outputs": [
    {
     "data": {
      "text/plain": [
       "[1, 3]"
      ]
     },
     "execution_count": 63,
     "metadata": {},
     "output_type": "execute_result"
    }
   ],
   "source": [
    "b = db.from_sequence(range(5))\n",
    "# удаляет все элементы для которых выполняется предикат\n",
    "list(b.remove(lambda x: x % 2 == 0))"
   ]
  },
  {
   "cell_type": "markdown",
   "metadata": {},
   "source": [
    "__Функции, преобразующие Bag__\n",
    "\n",
    "| Функция | Краткое описание|\n",
    "|------|------|\n",
    "|concat(bags) | Concatenate many bags together, unioning all elements|\n",
    "|zip(\\*bags) | Partition-wise bag zip|\n",
    "|||\n",
    "|Bag.join(other, on_self[, on_other]) | Joins collection with another collection|\n",
    "|Bag.product(other) | Cartesian product between two bags|\n",
    "|Bag.flatten() | Concatenate nested lists into one long list|\n",
    "|Bag.repartition(npartitions) | Coalesce bag into fewer partitions|"
   ]
  },
  {
   "cell_type": "markdown",
   "metadata": {},
   "source": [
    "Примеры использования функции `concat`"
   ]
  },
  {
   "cell_type": "code",
   "execution_count": 64,
   "metadata": {
    "scrolled": true
   },
   "outputs": [
    {
     "name": "stdout",
     "output_type": "stream",
     "text": [
      "3\n",
      "6\n"
     ]
    },
    {
     "data": {
      "text/plain": [
       "[1, 2, 3, 4, 5, 6]"
      ]
     },
     "execution_count": 64,
     "metadata": {},
     "output_type": "execute_result"
    }
   ],
   "source": [
    "a = db.from_sequence([1, 2, 3])\n",
    "b = db.from_sequence([4, 5, 6])\n",
    "print(a.npartitions)\n",
    "c = db.concat([a, b])\n",
    "print(c.npartitions)\n",
    "list(c)"
   ]
  },
  {
   "cell_type": "markdown",
   "metadata": {},
   "source": [
    "Примеры использования функции `zip`"
   ]
  },
  {
   "cell_type": "code",
   "execution_count": 65,
   "metadata": {},
   "outputs": [
    {
     "data": {
      "text/plain": [
       "[(0, 1),\n",
       " (2, 3),\n",
       " (4, 5),\n",
       " (6, 7),\n",
       " (8, 9),\n",
       " (10, 11),\n",
       " (12, 13),\n",
       " (14, 15),\n",
       " (16, 17),\n",
       " (18, 19)]"
      ]
     },
     "execution_count": 65,
     "metadata": {},
     "output_type": "execute_result"
    }
   ],
   "source": [
    "# переданные мультимножества должны иметь одинаковое количество сегментов, \n",
    "# а количество элементов в сегментах должно совпадать\n",
    "evens = db.from_sequence(range(0, 20, 2), partition_size=4)\n",
    "odds = db.from_sequence(range(1, 20, 2), partition_size=4)\n",
    "pairs = db.zip(evens, odds)\n",
    "list(pairs)"
   ]
  },
  {
   "cell_type": "code",
   "execution_count": 66,
   "metadata": {},
   "outputs": [
    {
     "data": {
      "text/plain": [
       "(3, 3)"
      ]
     },
     "execution_count": 66,
     "metadata": {},
     "output_type": "execute_result"
    }
   ],
   "source": [
    "evens.npartitions, pairs.npartitions"
   ]
  },
  {
   "cell_type": "markdown",
   "metadata": {},
   "source": [
    "Примеры использования функции `join`"
   ]
  },
  {
   "cell_type": "code",
   "execution_count": 67,
   "metadata": {},
   "outputs": [
    {
     "data": {
      "text/plain": [
       "4"
      ]
     },
     "execution_count": 67,
     "metadata": {},
     "output_type": "execute_result"
    }
   ],
   "source": [
    "people = db.from_sequence(['Alice', 'Bob', 'Charlie', 'Robert'])\n",
    "fruit_l = ['Apple', 'Apricot', 'Banana', 'Fig', 'Tangerine']\n",
    "\n",
    "people.npartitions"
   ]
  },
  {
   "cell_type": "code",
   "execution_count": 68,
   "metadata": {},
   "outputs": [
    {
     "data": {
      "text/plain": [
       "[('Apple', 'Alice'),\n",
       " ('Fig', 'Bob'),\n",
       " ('Apricot', 'Charlie'),\n",
       " ('Banana', 'Robert')]"
      ]
     },
     "execution_count": 68,
     "metadata": {},
     "output_type": "execute_result"
    }
   ],
   "source": [
    "# bag.join выполняет соединение со значениями  из итерируемого контейнера \n",
    "# по условию равенства результатов возвращаемых функцией on_self\n",
    "# соединение слов равной длины:\n",
    "list(people.join(fruit_l, len)) "
   ]
  },
  {
   "cell_type": "code",
   "execution_count": 70,
   "metadata": {},
   "outputs": [
    {
     "data": {
      "text/plain": [
       "[('Apple', 'Alice'), ('Apricot', 'Alice'), ('Banana', 'Bob')]"
      ]
     },
     "execution_count": 70,
     "metadata": {},
     "output_type": "execute_result"
    }
   ],
   "source": [
    "# соединение слов, начинающихся на одинаковую букву:\n",
    "list(people.join(fruit_l, lambda x: x[0])) "
   ]
  },
  {
   "cell_type": "code",
   "execution_count": 71,
   "metadata": {},
   "outputs": [
    {
     "data": {
      "text/plain": [
       "[('Banana', 'Bob'), ('Tangerine', 'Robert')]"
      ]
     },
     "execution_count": 71,
     "metadata": {},
     "output_type": "execute_result"
    }
   ],
   "source": [
    "# соединение слов, которые в people заканичваются на букву с которой начинаются слова в fruit:\n",
    "list(people.join(fruit_l, lambda x: x[-1], lambda x: x[0].lower())) "
   ]
  },
  {
   "cell_type": "markdown",
   "metadata": {},
   "source": [
    "Примеры использования функции `product`"
   ]
  },
  {
   "cell_type": "code",
   "execution_count": 96,
   "metadata": {
    "scrolled": true
   },
   "outputs": [
    {
     "name": "stdout",
     "output_type": "stream",
     "text": [
      "4\n"
     ]
    },
    {
     "data": {
      "text/plain": [
       "[('Alice', 'Apple'),\n",
       " ('Alice', 'Apricot'),\n",
       " ('Alice', 'Banana'),\n",
       " ('Bob', 'Apple'),\n",
       " ('Bob', 'Apricot'),\n",
       " ('Bob', 'Banana'),\n",
       " ('Charlie', 'Apple'),\n",
       " ('Charlie', 'Apricot'),\n",
       " ('Charlie', 'Banana'),\n",
       " ('Robert', 'Apple'),\n",
       " ('Robert', 'Apricot'),\n",
       " ('Robert', 'Banana')]"
      ]
     },
     "execution_count": 96,
     "metadata": {},
     "output_type": "execute_result"
    }
   ],
   "source": [
    "fruit = db.from_sequence(fruit_l[:3])\n",
    "# возвращает bag содержащий все пары (в виде картежей) элементов исходных мультимножеств \n",
    "# элементы в картежах упорядочены согласно порядку в операции исходных мультимножест \n",
    "pp = people.product(fruit)\n",
    "print(people.npartitions)\n",
    "list(pp)"
   ]
  },
  {
   "cell_type": "code",
   "execution_count": 95,
   "metadata": {},
   "outputs": [
    {
     "data": {
      "text/plain": [
       "12"
      ]
     },
     "execution_count": 95,
     "metadata": {},
     "output_type": "execute_result"
    }
   ],
   "source": [
    "pp.npartitions"
   ]
  },
  {
   "cell_type": "markdown",
   "metadata": {},
   "source": [
    "Примеры использования функции `flatten`"
   ]
  },
  {
   "cell_type": "code",
   "execution_count": 97,
   "metadata": {},
   "outputs": [
    {
     "data": {
      "text/plain": [
       "[['A', 'l', 'i', 'c', 'e'],\n",
       " ['B', 'o', 'b'],\n",
       " ['C', 'h', 'a', 'r', 'l', 'i', 'e'],\n",
       " ['R', 'o', 'b', 'e', 'r', 't']]"
      ]
     },
     "execution_count": 97,
     "metadata": {},
     "output_type": "execute_result"
    }
   ],
   "source": [
    "people.map(list).compute()"
   ]
  },
  {
   "cell_type": "code",
   "execution_count": 100,
   "metadata": {},
   "outputs": [
    {
     "data": {
      "text/plain": [
       "4"
      ]
     },
     "execution_count": 100,
     "metadata": {},
     "output_type": "execute_result"
    }
   ],
   "source": [
    "people.npartitions"
   ]
  },
  {
   "cell_type": "code",
   "execution_count": 101,
   "metadata": {},
   "outputs": [
    {
     "name": "stdout",
     "output_type": "stream",
     "text": [
      "4\n",
      "['A', 'l', 'i', 'c', 'e', 'B', 'o', 'b', 'C', 'h', 'a', 'r', 'l', 'i', 'e', 'R', 'o', 'b', 'e', 'r', 't']\n"
     ]
    }
   ],
   "source": [
    "# конкатенирует вложнные списки в плоское (без вложенных контейнеров) мультимножество\n",
    "people_flat = people.map(list).flatten()\n",
    "print(people_flat.npartitions)\n",
    "print(list(people_flat))"
   ]
  },
  {
   "cell_type": "code",
   "execution_count": null,
   "metadata": {},
   "outputs": [],
   "source": []
  },
  {
   "cell_type": "markdown",
   "metadata": {},
   "source": [
    "__Функции группировки (shuffle)__\n",
    "\n",
    "| Функция | Краткое описание|\n",
    "|------|------|\n",
    "|Bag.groupby(grouper[, method, npartitions, …]) | Group collection by key function|\n",
    "|Bag.distinct() | Distinct elements of collection|\n",
    "|Bag.frequencies([split_every, sort]) | Count number of occurrences of each distinct element|\\"
   ]
  },
  {
   "cell_type": "markdown",
   "metadata": {},
   "source": [
    "Примеры использования функции `groupby`"
   ]
  },
  {
   "cell_type": "code",
   "execution_count": 102,
   "metadata": {},
   "outputs": [
    {
     "data": {
      "text/plain": [
       "[(False, [7, 9, 1, 3, 5]), (True, [8, 0, 4, 2, 6])]"
      ]
     },
     "execution_count": 102,
     "metadata": {},
     "output_type": "execute_result"
    }
   ],
   "source": [
    "b = db.from_sequence(range(10))\n",
    "# группирует значения из bag по результатам функции key\n",
    "# очень ресурсоемкая операция, по возможности нужно заменять функцие foldby, совмещающей группировку со сверткой\n",
    "list(b.groupby(lambda x: x % 2 == 0))  "
   ]
  },
  {
   "cell_type": "markdown",
   "metadata": {},
   "source": [
    "Примеры использования функции `distinct`"
   ]
  },
  {
   "cell_type": "code",
   "execution_count": 103,
   "metadata": {
    "scrolled": true
   },
   "outputs": [
    {
     "data": {
      "text/plain": [
       "['Alice', 'Bob']"
      ]
     },
     "execution_count": 103,
     "metadata": {},
     "output_type": "execute_result"
    }
   ],
   "source": [
    "b = db.from_sequence(['Alice', 'Bob', 'Alice'])\n",
    "# возвращает уникальные значения из bag, не гарантирует упорядоченности..............э\n",
    "list(b.distinct())"
   ]
  },
  {
   "cell_type": "markdown",
   "metadata": {},
   "source": [
    "Примеры использования функции `frequencies`"
   ]
  },
  {
   "cell_type": "code",
   "execution_count": 104,
   "metadata": {},
   "outputs": [
    {
     "data": {
      "text/plain": [
       "[('Alice', 2), ('Bob', 1)]"
      ]
     },
     "execution_count": 104,
     "metadata": {},
     "output_type": "execute_result"
    }
   ],
   "source": [
    "# подсчитывает частоты для элементов bag\n",
    "b = db.from_sequence(['Alice', 'Bob', 'Alice'])\n",
    "list(b.frequencies()) "
   ]
  },
  {
   "cell_type": "markdown",
   "metadata": {},
   "source": [
    "__Функции свертки__\n",
    "\n",
    "| Функция | Краткое описание |\n",
    "|------|------|\n",
    "|Bag.fold(binop[, combine, initial, split_every]) | Parallelizable reduction|\n",
    "|Bag.foldby(key, binop[, initial, combine, …]) | Combined reduction and groupby|\n",
    "|Bag.reduction(perpartition, aggregate[, …]) | Reduce collection with reduction operators|\n",
    "\n",
    "\n"
   ]
  },
  {
   "cell_type": "markdown",
   "metadata": {},
   "source": [
    "Примеры использования функции `fold`"
   ]
  },
  {
   "cell_type": "code",
   "execution_count": 105,
   "metadata": {
    "scrolled": true
   },
   "outputs": [
    {
     "data": {
      "text/plain": [
       "10"
      ]
     },
     "execution_count": 105,
     "metadata": {},
     "output_type": "execute_result"
    }
   ],
   "source": [
    "b = db.from_sequence(range(5))\n",
    "# fold - параллельная версия reduce, binop - бинарный оператор, используемый для свертки\n",
    "b.fold(op.add).compute()"
   ]
  },
  {
   "cell_type": "code",
   "execution_count": 106,
   "metadata": {},
   "outputs": [],
   "source": [
    "text = db.from_sequence('Fold is like the builtin function reduce except that it works in parallel'.split())\n",
    "# bag со списками букв, содержащихся в словах\n",
    "text = text.map(list)\n",
    "# list(text)"
   ]
  },
  {
   "cell_type": "code",
   "execution_count": 107,
   "metadata": {
    "scrolled": true
   },
   "outputs": [
    {
     "name": "stdout",
     "output_type": "stream",
     "text": [
      "{'s', 'b', 'f', 'p', 'w', 'e', 'n', 'k', 'd', 'o', 'l', 'u', 'x', 'F', 'r', 'i', 't', 'a', 'c', 'h'}\n"
     ]
    }
   ],
   "source": [
    "def add_to_set(acc, x):\n",
    "    return acc | set(x)\n",
    "\n",
    "# fold может использовать две функции свертки на разных этапах операции\n",
    "# первый параметр: функция для свертки на уровене сегмента; второй - для свертки результататов, полученных в сегментах\n",
    "# возвращает множество всех букв, встречающихся в тексте:\n",
    "print(text.fold(add_to_set, set.union, initial=set()).compute())"
   ]
  },
  {
   "cell_type": "markdown",
   "metadata": {},
   "source": [
    "Примеры использования функции `foldby`"
   ]
  },
  {
   "cell_type": "markdown",
   "metadata": {},
   "source": [
    "`foldby` комбинирует свертку и группировку и выполняет эту операцию намного эффективнее последовательного применения `groupby` и `reduce`.\n",
    "\n",
    "Последовательный аналог задачи, решаемой функцией `foldby`:\n",
    "```python\n",
    ">>> def reduction(group):                               \n",
    "...     return reduce(binop, group, init) \n",
    "\n",
    ">>> b.groupby(key).map(lambda (k, v): (k, reduction(v)))\n",
    "```"
   ]
  },
  {
   "cell_type": "code",
   "execution_count": 108,
   "metadata": {},
   "outputs": [
    {
     "data": {
      "text/plain": [
       "[(True, 20), (False, 25)]"
      ]
     },
     "execution_count": 108,
     "metadata": {},
     "output_type": "execute_result"
    }
   ],
   "source": [
    "b = db.from_sequence(range(10))\n",
    "iseven = lambda x: x % 2 == 0\n",
    "# параметр key - опеределение ключа для группировки, binop - функция для проведения свертки\n",
    "# сумма четных и нечетных числе из bag:\n",
    "list(b.foldby(iseven, op.add))"
   ]
  },
  {
   "cell_type": "markdown",
   "metadata": {},
   "source": [
    "__Функции выполняющие агрегацию (свертку с заданными функциями)__\n",
    "\n",
    "| Функция | Краткое описание |\n",
    "|------|------|\n",
    "|Bag.all([split_every]) | Are all elements truthy?|\n",
    "|Bag.any([split_every]) | Are any of the elements truthy?|\n",
    "|Bag.count([split_every]) | Count the number of elements|\n",
    "|Bag.max([split_every]) | Maximum element|\n",
    "|Bag.mean() | Arithmetic mean|\n",
    "|Bag.min([split_every]) | Minimum element|\n",
    "|Bag.std([ddof]) | Standard deviation|\n",
    "|Bag.var([ddof])| Variance|\n",
    "|Bag.sum([split_every]) | Sum all elements|\n",
    "\n",
    "Свертка возвращающая несколько значений \n",
    "\n",
    "| Функция | Краткое описание |\n",
    "|------|------|\n",
    "|Bag.take(k[, npartitions, compute, warn])|Take the first k elements|\n",
    "|Bag.topk(k[, key, split_every]) | K largest elements in collection|\n"
   ]
  },
  {
   "cell_type": "markdown",
   "metadata": {},
   "source": [
    "Примеры использования функции `sum`"
   ]
  },
  {
   "cell_type": "code",
   "execution_count": 109,
   "metadata": {},
   "outputs": [
    {
     "data": {
      "text/plain": [
       "45"
      ]
     },
     "execution_count": 109,
     "metadata": {},
     "output_type": "execute_result"
    }
   ],
   "source": [
    "b = db.from_sequence(range(10))\n",
    "b.sum().compute()"
   ]
  },
  {
   "cell_type": "markdown",
   "metadata": {},
   "source": [
    "Примеры использования функции `take`"
   ]
  },
  {
   "cell_type": "code",
   "execution_count": 110,
   "metadata": {},
   "outputs": [
    {
     "data": {
      "text/plain": [
       "'aa'"
      ]
     },
     "execution_count": 110,
     "metadata": {},
     "output_type": "execute_result"
    }
   ],
   "source": [
    "'Aa'.lower()"
   ]
  },
  {
   "cell_type": "code",
   "execution_count": 111,
   "metadata": {},
   "outputs": [
    {
     "data": {
      "text/plain": [
       "('fold', 'is', 'like')"
      ]
     },
     "execution_count": 111,
     "metadata": {},
     "output_type": "execute_result"
    }
   ],
   "source": [
    "text = db.from_sequence('Fold is like the builtin function reduce except that it works in parallel'.split(), npartitions=1)\n",
    "# возвращает первые k элементов bag\n",
    "# по умолчанию значение параметра compute True, т.е. автоматически выполняются отложенные вычисления\n",
    "# по умолчанию работает только с первым сегментом bag\n",
    "text.str.lower().take(3)"
   ]
  },
  {
   "cell_type": "markdown",
   "metadata": {},
   "source": [
    "Примеры использования функции `topk`"
   ]
  },
  {
   "cell_type": "code",
   "execution_count": 112,
   "metadata": {},
   "outputs": [
    {
     "data": {
      "text/plain": [
       "['works', 'the', 'that']"
      ]
     },
     "execution_count": 112,
     "metadata": {},
     "output_type": "execute_result"
    }
   ],
   "source": [
    "text = db.from_sequence('Fold is like the builtin function reduce except that it works in parallel'.split())\n",
    "# k наибольших значений bag\n",
    "# в некоторых задачах использование функции может заменить сортировку (не реализованную для Dask Bag)\n",
    "list(text.str.lower().topk(3))"
   ]
  },
  {
   "cell_type": "code",
   "execution_count": 113,
   "metadata": {},
   "outputs": [
    {
     "data": {
      "text/plain": [
       "['function', 'parallel', 'builtin']"
      ]
     },
     "execution_count": 113,
     "metadata": {},
     "output_type": "execute_result"
    }
   ],
   "source": [
    "text = db.from_sequence('Fold is like the builtin function reduce except that it works in parallel'.split())\n",
    "\n",
    "# функция key определяет пользовательский ключ для сортировки\n",
    "list(text.topk(3, key=len))"
   ]
  },
  {
   "cell_type": "markdown",
   "metadata": {},
   "source": [
    "### Example: Accounts JSON data"
   ]
  },
  {
   "cell_type": "markdown",
   "metadata": {},
   "source": [
    "We've created a fake dataset of gzipped JSON data in your data directory.  This is like the example used in the `DataFrame` example we will see later, except that it has bundled up all of the entires for each individual `id` into a single record.  This is similar to data that you might collect off of a document store database or a web API.\n",
    "\n",
    "Each line is a JSON encoded dictionary with the following keys\n",
    "\n",
    "*  id: Unique identifier of the customer\n",
    "*  name: Name of the customer\n",
    "*  transactions: List of `transaction-id`, `amount` pairs, one for each transaction for the customer in that file"
   ]
  },
  {
   "cell_type": "code",
   "execution_count": 124,
   "metadata": {},
   "outputs": [
    {
     "data": {
      "text/plain": [
       "('{\"id\": 0, \"name\": \"Frank\", \"transactions\": [{\"transaction-id\": 1341, \"amount\": 289}, {\"transaction-id\": 3824, \"amount\": 240}, {\"transaction-id\": 5168, \"amount\": 235}, {\"transaction-id\": 7303, \"amount\": 250}, {\"transaction-id\": 7580, \"amount\": 283}, {\"transaction-id\": 9440, \"amount\": 169}, {\"transaction-id\": 9660, \"amount\": 127}, {\"transaction-id\": 10265, \"amount\": 247}, {\"transaction-id\": 10680, \"amount\": 171}, {\"transaction-id\": 10864, \"amount\": 142}, {\"transaction-id\": 11473, \"amount\": 183}, {\"transaction-id\": 12037, \"amount\": 203}, {\"transaction-id\": 12272, \"amount\": 206}, {\"transaction-id\": 12767, \"amount\": 156}, {\"transaction-id\": 13008, \"amount\": 195}, {\"transaction-id\": 13233, \"amount\": 162}, {\"transaction-id\": 13614, \"amount\": 197}, {\"transaction-id\": 14379, \"amount\": 240}, {\"transaction-id\": 15409, \"amount\": 313}, {\"transaction-id\": 16717, \"amount\": 162}, {\"transaction-id\": 16873, \"amount\": 221}, {\"transaction-id\": 19635, \"amount\": 162}, {\"transaction-id\": 21944, \"amount\": 180}, {\"transaction-id\": 23245, \"amount\": 231}, {\"transaction-id\": 23376, \"amount\": 192}, {\"transaction-id\": 24006, \"amount\": 120}, {\"transaction-id\": 25476, \"amount\": 207}, {\"transaction-id\": 26189, \"amount\": 287}, {\"transaction-id\": 29792, \"amount\": 106}, {\"transaction-id\": 31466, \"amount\": 93}, {\"transaction-id\": 32378, \"amount\": 189}, {\"transaction-id\": 34276, \"amount\": 175}, {\"transaction-id\": 34402, \"amount\": 130}, {\"transaction-id\": 34508, \"amount\": 167}, {\"transaction-id\": 34562, \"amount\": 130}, {\"transaction-id\": 34659, \"amount\": 267}, {\"transaction-id\": 34762, \"amount\": 158}, {\"transaction-id\": 35969, \"amount\": 242}, {\"transaction-id\": 36103, \"amount\": 244}, {\"transaction-id\": 36621, \"amount\": 171}, {\"transaction-id\": 37329, \"amount\": 196}, {\"transaction-id\": 38860, \"amount\": 182}, {\"transaction-id\": 39947, \"amount\": 204}, {\"transaction-id\": 40805, \"amount\": 153}, {\"transaction-id\": 41174, \"amount\": 235}, {\"transaction-id\": 41195, \"amount\": 196}, {\"transaction-id\": 42806, \"amount\": 200}, {\"transaction-id\": 43416, \"amount\": 171}, {\"transaction-id\": 43833, \"amount\": 190}, {\"transaction-id\": 44464, \"amount\": 151}, {\"transaction-id\": 45132, \"amount\": 106}, {\"transaction-id\": 46622, \"amount\": 298}, {\"transaction-id\": 47571, \"amount\": 199}, {\"transaction-id\": 48538, \"amount\": 172}, {\"transaction-id\": 49155, \"amount\": 170}, {\"transaction-id\": 49905, \"amount\": 274}, {\"transaction-id\": 50917, \"amount\": 185}, {\"transaction-id\": 52656, \"amount\": 238}, {\"transaction-id\": 53907, \"amount\": 163}, {\"transaction-id\": 55619, \"amount\": 207}, {\"transaction-id\": 56438, \"amount\": 142}, {\"transaction-id\": 56951, \"amount\": 197}, {\"transaction-id\": 57636, \"amount\": 206}, {\"transaction-id\": 59536, \"amount\": 220}, {\"transaction-id\": 60576, \"amount\": 220}, {\"transaction-id\": 60880, \"amount\": 189}, {\"transaction-id\": 61330, \"amount\": 190}, {\"transaction-id\": 61758, \"amount\": 240}, {\"transaction-id\": 61791, \"amount\": 188}, {\"transaction-id\": 62117, \"amount\": 193}, {\"transaction-id\": 63123, \"amount\": 195}, {\"transaction-id\": 63205, \"amount\": 184}, {\"transaction-id\": 63682, \"amount\": 263}, {\"transaction-id\": 64177, \"amount\": 262}, {\"transaction-id\": 67605, \"amount\": 183}, {\"transaction-id\": 67882, \"amount\": 165}, {\"transaction-id\": 70677, \"amount\": 85}, {\"transaction-id\": 71090, \"amount\": 184}, {\"transaction-id\": 71718, \"amount\": 208}, {\"transaction-id\": 72208, \"amount\": 251}, {\"transaction-id\": 72304, \"amount\": 185}, {\"transaction-id\": 74031, \"amount\": 233}, {\"transaction-id\": 74199, \"amount\": 216}, {\"transaction-id\": 74998, \"amount\": 202}, {\"transaction-id\": 75345, \"amount\": 131}, {\"transaction-id\": 75460, \"amount\": 149}, {\"transaction-id\": 76127, \"amount\": 235}, {\"transaction-id\": 76931, \"amount\": 297}, {\"transaction-id\": 78429, \"amount\": 232}, {\"transaction-id\": 78814, \"amount\": 249}, {\"transaction-id\": 79586, \"amount\": 197}, {\"transaction-id\": 80230, \"amount\": 152}, {\"transaction-id\": 80574, \"amount\": 224}, {\"transaction-id\": 80847, \"amount\": 240}, {\"transaction-id\": 82135, \"amount\": 137}, {\"transaction-id\": 82162, \"amount\": 188}, {\"transaction-id\": 84770, \"amount\": 193}, {\"transaction-id\": 85069, \"amount\": 192}, {\"transaction-id\": 86558, \"amount\": 97}, {\"transaction-id\": 89373, \"amount\": 261}, {\"transaction-id\": 89650, \"amount\": 209}, {\"transaction-id\": 89690, \"amount\": 212}, {\"transaction-id\": 91685, \"amount\": 246}, {\"transaction-id\": 94793, \"amount\": 312}, {\"transaction-id\": 95739, \"amount\": 180}, {\"transaction-id\": 95949, \"amount\": 133}, {\"transaction-id\": 96507, \"amount\": 209}, {\"transaction-id\": 97980, \"amount\": 173}, {\"transaction-id\": 99999, \"amount\": 293}]}\\n',\n",
       " '{\"id\": 1, \"name\": \"Frank\", \"transactions\": [{\"transaction-id\": 735, \"amount\": 2458}, {\"transaction-id\": 879, \"amount\": 2640}, {\"transaction-id\": 1641, \"amount\": 2831}, {\"transaction-id\": 4624, \"amount\": 2711}, {\"transaction-id\": 5298, \"amount\": 2666}, {\"transaction-id\": 7707, \"amount\": 2751}, {\"transaction-id\": 7957, \"amount\": 2534}, {\"transaction-id\": 8952, \"amount\": 2826}, {\"transaction-id\": 9352, \"amount\": 2620}, {\"transaction-id\": 10184, \"amount\": 2675}, {\"transaction-id\": 11458, \"amount\": 2338}, {\"transaction-id\": 13341, \"amount\": 2777}, {\"transaction-id\": 16002, \"amount\": 2611}, {\"transaction-id\": 18093, \"amount\": 2480}, {\"transaction-id\": 19448, \"amount\": 2671}, {\"transaction-id\": 20993, \"amount\": 2812}, {\"transaction-id\": 24570, \"amount\": 2710}, {\"transaction-id\": 26239, \"amount\": 2874}, {\"transaction-id\": 26306, \"amount\": 2653}, {\"transaction-id\": 26959, \"amount\": 2703}, {\"transaction-id\": 27665, \"amount\": 2588}, {\"transaction-id\": 28543, \"amount\": 2586}, {\"transaction-id\": 30532, \"amount\": 2394}, {\"transaction-id\": 30647, \"amount\": 2646}, {\"transaction-id\": 30806, \"amount\": 2507}, {\"transaction-id\": 30865, \"amount\": 2760}, {\"transaction-id\": 32301, \"amount\": 2636}, {\"transaction-id\": 34891, \"amount\": 2782}, {\"transaction-id\": 36349, \"amount\": 2656}, {\"transaction-id\": 41793, \"amount\": 2573}, {\"transaction-id\": 43120, \"amount\": 2869}, {\"transaction-id\": 44229, \"amount\": 2621}, {\"transaction-id\": 44845, \"amount\": 2535}, {\"transaction-id\": 45762, \"amount\": 2476}, {\"transaction-id\": 45964, \"amount\": 2774}, {\"transaction-id\": 50691, \"amount\": 2581}, {\"transaction-id\": 53299, \"amount\": 2952}, {\"transaction-id\": 53700, \"amount\": 2678}, {\"transaction-id\": 54510, \"amount\": 2552}, {\"transaction-id\": 58156, \"amount\": 2792}, {\"transaction-id\": 59968, \"amount\": 2540}, {\"transaction-id\": 61608, \"amount\": 2661}, {\"transaction-id\": 62686, \"amount\": 2528}, {\"transaction-id\": 62842, \"amount\": 2640}, {\"transaction-id\": 63570, \"amount\": 2772}, {\"transaction-id\": 67557, \"amount\": 2577}, {\"transaction-id\": 67807, \"amount\": 2660}, {\"transaction-id\": 68978, \"amount\": 2675}, {\"transaction-id\": 69306, \"amount\": 2607}, {\"transaction-id\": 69696, \"amount\": 2655}, {\"transaction-id\": 72440, \"amount\": 2726}, {\"transaction-id\": 76436, \"amount\": 2629}, {\"transaction-id\": 77098, \"amount\": 2607}, {\"transaction-id\": 77795, \"amount\": 2845}, {\"transaction-id\": 78525, \"amount\": 2667}, {\"transaction-id\": 80401, \"amount\": 2695}, {\"transaction-id\": 81320, \"amount\": 2501}, {\"transaction-id\": 81467, \"amount\": 2495}, {\"transaction-id\": 82641, \"amount\": 2528}, {\"transaction-id\": 83090, \"amount\": 2617}, {\"transaction-id\": 83876, \"amount\": 2731}, {\"transaction-id\": 83933, \"amount\": 2610}, {\"transaction-id\": 86490, \"amount\": 2872}, {\"transaction-id\": 87011, \"amount\": 2557}, {\"transaction-id\": 91359, \"amount\": 2690}, {\"transaction-id\": 91652, \"amount\": 2863}, {\"transaction-id\": 93014, \"amount\": 2645}, {\"transaction-id\": 93186, \"amount\": 2648}, {\"transaction-id\": 93344, \"amount\": 2795}, {\"transaction-id\": 93583, \"amount\": 2655}, {\"transaction-id\": 96181, \"amount\": 2826}, {\"transaction-id\": 97298, \"amount\": 2462}, {\"transaction-id\": 97468, \"amount\": 2658}, {\"transaction-id\": 98092, \"amount\": 2747}]}\\n',\n",
       " '{\"id\": 2, \"name\": \"Dan\", \"transactions\": [{\"transaction-id\": 192, \"amount\": 1783}, {\"transaction-id\": 700, \"amount\": 1538}, {\"transaction-id\": 894, \"amount\": 1704}, {\"transaction-id\": 1003, \"amount\": 1507}, {\"transaction-id\": 1320, \"amount\": 1864}, {\"transaction-id\": 1622, \"amount\": 1530}, {\"transaction-id\": 1768, \"amount\": 1871}, {\"transaction-id\": 1771, \"amount\": 1365}, {\"transaction-id\": 2343, \"amount\": 1492}, {\"transaction-id\": 2629, \"amount\": 1739}, {\"transaction-id\": 2957, \"amount\": 1315}, {\"transaction-id\": 3020, \"amount\": 1372}, {\"transaction-id\": 3082, \"amount\": 1186}, {\"transaction-id\": 3399, \"amount\": 1248}, {\"transaction-id\": 3554, \"amount\": 1515}, {\"transaction-id\": 3744, \"amount\": 1661}, {\"transaction-id\": 3960, \"amount\": 1429}, {\"transaction-id\": 4006, \"amount\": 1591}, {\"transaction-id\": 4053, \"amount\": 1335}, {\"transaction-id\": 4325, \"amount\": 1038}, {\"transaction-id\": 4742, \"amount\": 1614}, {\"transaction-id\": 4801, \"amount\": 1699}, {\"transaction-id\": 5488, \"amount\": 1567}, {\"transaction-id\": 5576, \"amount\": 1772}, {\"transaction-id\": 5963, \"amount\": 1537}, {\"transaction-id\": 6223, \"amount\": 1368}, {\"transaction-id\": 6263, \"amount\": 1620}, {\"transaction-id\": 7105, \"amount\": 1303}, {\"transaction-id\": 7136, \"amount\": 1684}, {\"transaction-id\": 7296, \"amount\": 1436}, {\"transaction-id\": 7373, \"amount\": 1376}, {\"transaction-id\": 7631, \"amount\": 1130}, {\"transaction-id\": 8004, \"amount\": 1573}, {\"transaction-id\": 8097, \"amount\": 1375}, {\"transaction-id\": 9232, \"amount\": 1296}, {\"transaction-id\": 9536, \"amount\": 1240}, {\"transaction-id\": 10033, \"amount\": 1553}, {\"transaction-id\": 10399, \"amount\": 1647}, {\"transaction-id\": 10659, \"amount\": 1901}, {\"transaction-id\": 10973, \"amount\": 1592}, {\"transaction-id\": 11194, \"amount\": 1664}, {\"transaction-id\": 11680, \"amount\": 1722}, {\"transaction-id\": 12086, \"amount\": 1869}, {\"transaction-id\": 12511, \"amount\": 1696}, {\"transaction-id\": 12873, \"amount\": 1328}, {\"transaction-id\": 13169, \"amount\": 1664}, {\"transaction-id\": 13231, \"amount\": 1465}, {\"transaction-id\": 13283, \"amount\": 1574}, {\"transaction-id\": 13392, \"amount\": 1548}, {\"transaction-id\": 13844, \"amount\": 1768}, {\"transaction-id\": 14253, \"amount\": 1396}, {\"transaction-id\": 14644, \"amount\": 1308}, {\"transaction-id\": 15321, \"amount\": 1554}, {\"transaction-id\": 15751, \"amount\": 1566}, {\"transaction-id\": 15856, \"amount\": 1618}, {\"transaction-id\": 15956, \"amount\": 1420}, {\"transaction-id\": 16141, \"amount\": 1543}, {\"transaction-id\": 16190, \"amount\": 1801}, {\"transaction-id\": 16322, \"amount\": 1372}, {\"transaction-id\": 16977, \"amount\": 1596}, {\"transaction-id\": 16990, \"amount\": 1653}, {\"transaction-id\": 17081, \"amount\": 1114}, {\"transaction-id\": 17569, \"amount\": 1587}, {\"transaction-id\": 18167, \"amount\": 1405}, {\"transaction-id\": 18208, \"amount\": 1649}, {\"transaction-id\": 18349, \"amount\": 1462}, {\"transaction-id\": 18439, \"amount\": 1412}, {\"transaction-id\": 18572, \"amount\": 1946}, {\"transaction-id\": 18591, \"amount\": 1667}, {\"transaction-id\": 18692, \"amount\": 1362}, {\"transaction-id\": 18748, \"amount\": 1525}, {\"transaction-id\": 19203, \"amount\": 1713}, {\"transaction-id\": 19251, \"amount\": 1328}, {\"transaction-id\": 19351, \"amount\": 1612}, {\"transaction-id\": 19552, \"amount\": 1278}, {\"transaction-id\": 19579, \"amount\": 1522}, {\"transaction-id\": 19633, \"amount\": 1368}, {\"transaction-id\": 20035, \"amount\": 1787}, {\"transaction-id\": 20198, \"amount\": 1156}, {\"transaction-id\": 20202, \"amount\": 1780}, {\"transaction-id\": 20250, \"amount\": 1450}, {\"transaction-id\": 20641, \"amount\": 1393}, {\"transaction-id\": 21168, \"amount\": 1741}, {\"transaction-id\": 21195, \"amount\": 1663}, {\"transaction-id\": 21398, \"amount\": 1696}, {\"transaction-id\": 21400, \"amount\": 1493}, {\"transaction-id\": 21819, \"amount\": 1783}, {\"transaction-id\": 21903, \"amount\": 1529}, {\"transaction-id\": 22247, \"amount\": 1473}, {\"transaction-id\": 22384, \"amount\": 1495}, {\"transaction-id\": 22812, \"amount\": 1212}, {\"transaction-id\": 23219, \"amount\": 1658}, {\"transaction-id\": 23582, \"amount\": 1307}, {\"transaction-id\": 23956, \"amount\": 1569}, {\"transaction-id\": 24100, \"amount\": 1550}, {\"transaction-id\": 24153, \"amount\": 1389}, {\"transaction-id\": 24287, \"amount\": 1266}, {\"transaction-id\": 24541, \"amount\": 1660}, {\"transaction-id\": 24847, \"amount\": 1524}, {\"transaction-id\": 24956, \"amount\": 1257}, {\"transaction-id\": 24989, \"amount\": 1629}, {\"transaction-id\": 25186, \"amount\": 1383}, {\"transaction-id\": 25461, \"amount\": 1581}, {\"transaction-id\": 25920, \"amount\": 1282}, {\"transaction-id\": 26032, \"amount\": 1446}, {\"transaction-id\": 26210, \"amount\": 1342}, {\"transaction-id\": 26983, \"amount\": 1410}, {\"transaction-id\": 27131, \"amount\": 1316}, {\"transaction-id\": 27673, \"amount\": 1389}, {\"transaction-id\": 27809, \"amount\": 1442}, {\"transaction-id\": 28179, \"amount\": 1608}, {\"transaction-id\": 28695, \"amount\": 1532}, {\"transaction-id\": 29377, \"amount\": 1490}, {\"transaction-id\": 29563, \"amount\": 1539}, {\"transaction-id\": 29662, \"amount\": 1522}, {\"transaction-id\": 29808, \"amount\": 1616}, {\"transaction-id\": 29839, \"amount\": 1740}, {\"transaction-id\": 30117, \"amount\": 1741}, {\"transaction-id\": 30764, \"amount\": 1304}, {\"transaction-id\": 31285, \"amount\": 1609}, {\"transaction-id\": 31570, \"amount\": 1299}, {\"transaction-id\": 31935, \"amount\": 1581}, {\"transaction-id\": 32256, \"amount\": 1461}, {\"transaction-id\": 32820, \"amount\": 1679}, {\"transaction-id\": 32852, \"amount\": 1622}, {\"transaction-id\": 32895, \"amount\": 1318}, {\"transaction-id\": 33324, \"amount\": 1464}, {\"transaction-id\": 33708, \"amount\": 1438}, {\"transaction-id\": 35020, \"amount\": 1841}, {\"transaction-id\": 35165, \"amount\": 1707}, {\"transaction-id\": 35670, \"amount\": 1606}, {\"transaction-id\": 36067, \"amount\": 1359}, {\"transaction-id\": 36327, \"amount\": 1644}, {\"transaction-id\": 36340, \"amount\": 1129}, {\"transaction-id\": 36441, \"amount\": 1204}, {\"transaction-id\": 37131, \"amount\": 1473}, {\"transaction-id\": 37412, \"amount\": 1618}, {\"transaction-id\": 37488, \"amount\": 1693}, {\"transaction-id\": 37716, \"amount\": 1866}, {\"transaction-id\": 37845, \"amount\": 1786}, {\"transaction-id\": 37969, \"amount\": 1519}, {\"transaction-id\": 38502, \"amount\": 1569}, {\"transaction-id\": 38680, \"amount\": 1403}, {\"transaction-id\": 38713, \"amount\": 1483}, {\"transaction-id\": 38859, \"amount\": 1472}, {\"transaction-id\": 39066, \"amount\": 1643}, {\"transaction-id\": 39070, \"amount\": 1395}, {\"transaction-id\": 39267, \"amount\": 1778}, {\"transaction-id\": 39295, \"amount\": 1627}, {\"transaction-id\": 39361, \"amount\": 1471}, {\"transaction-id\": 39976, \"amount\": 1509}, {\"transaction-id\": 40007, \"amount\": 1429}, {\"transaction-id\": 40093, \"amount\": 1627}, {\"transaction-id\": 40375, \"amount\": 1667}, {\"transaction-id\": 40814, \"amount\": 1294}, {\"transaction-id\": 41009, \"amount\": 1310}, {\"transaction-id\": 41036, \"amount\": 1315}, {\"transaction-id\": 41056, \"amount\": 2068}, {\"transaction-id\": 41313, \"amount\": 1437}, {\"transaction-id\": 41331, \"amount\": 1472}, {\"transaction-id\": 41476, \"amount\": 1477}, {\"transaction-id\": 41646, \"amount\": 1458}, {\"transaction-id\": 41925, \"amount\": 1876}, {\"transaction-id\": 41949, \"amount\": 1316}, {\"transaction-id\": 42003, \"amount\": 1393}, {\"transaction-id\": 42283, \"amount\": 1809}, {\"transaction-id\": 42607, \"amount\": 1760}, {\"transaction-id\": 43294, \"amount\": 1419}, {\"transaction-id\": 43520, \"amount\": 1205}, {\"transaction-id\": 43533, \"amount\": 1620}, {\"transaction-id\": 43754, \"amount\": 1634}, {\"transaction-id\": 43770, \"amount\": 1497}, {\"transaction-id\": 43858, \"amount\": 1436}, {\"transaction-id\": 44217, \"amount\": 1150}, {\"transaction-id\": 44807, \"amount\": 1559}, {\"transaction-id\": 44949, \"amount\": 1518}, {\"transaction-id\": 44997, \"amount\": 1653}, {\"transaction-id\": 45122, \"amount\": 1503}, {\"transaction-id\": 45126, \"amount\": 1545}, {\"transaction-id\": 45334, \"amount\": 1554}, {\"transaction-id\": 45505, \"amount\": 1672}, {\"transaction-id\": 45627, \"amount\": 1446}, {\"transaction-id\": 46039, \"amount\": 1229}, {\"transaction-id\": 46117, \"amount\": 1376}, {\"transaction-id\": 46274, \"amount\": 1431}, {\"transaction-id\": 46473, \"amount\": 1218}, {\"transaction-id\": 46491, \"amount\": 1638}, {\"transaction-id\": 47022, \"amount\": 1276}, {\"transaction-id\": 47661, \"amount\": 1739}, {\"transaction-id\": 47758, \"amount\": 1335}, {\"transaction-id\": 47924, \"amount\": 1605}, {\"transaction-id\": 48029, \"amount\": 1391}, {\"transaction-id\": 48076, \"amount\": 1554}, {\"transaction-id\": 48249, \"amount\": 1549}, {\"transaction-id\": 49143, \"amount\": 1511}, {\"transaction-id\": 49364, \"amount\": 1184}, {\"transaction-id\": 49699, \"amount\": 1560}, {\"transaction-id\": 49983, \"amount\": 1440}, {\"transaction-id\": 49987, \"amount\": 1501}, {\"transaction-id\": 49999, \"amount\": 1225}, {\"transaction-id\": 50135, \"amount\": 1236}, {\"transaction-id\": 50318, \"amount\": 1261}, {\"transaction-id\": 50639, \"amount\": 1464}, {\"transaction-id\": 50858, \"amount\": 1658}, {\"transaction-id\": 51285, \"amount\": 1483}, {\"transaction-id\": 51452, \"amount\": 1600}, {\"transaction-id\": 52044, \"amount\": 1682}, {\"transaction-id\": 52153, \"amount\": 1374}, {\"transaction-id\": 52180, \"amount\": 1384}, {\"transaction-id\": 52322, \"amount\": 1658}, {\"transaction-id\": 52609, \"amount\": 1364}, {\"transaction-id\": 53163, \"amount\": 1595}, {\"transaction-id\": 53271, \"amount\": 1931}, {\"transaction-id\": 53429, \"amount\": 1362}, {\"transaction-id\": 53594, \"amount\": 1466}, {\"transaction-id\": 53849, \"amount\": 1597}, {\"transaction-id\": 54036, \"amount\": 1451}, {\"transaction-id\": 54197, \"amount\": 1265}, {\"transaction-id\": 54246, \"amount\": 1111}, {\"transaction-id\": 54721, \"amount\": 1525}, {\"transaction-id\": 54876, \"amount\": 1715}, {\"transaction-id\": 54975, \"amount\": 1667}, {\"transaction-id\": 54984, \"amount\": 1439}, {\"transaction-id\": 55272, \"amount\": 1478}, {\"transaction-id\": 55707, \"amount\": 1689}, {\"transaction-id\": 56018, \"amount\": 1534}, {\"transaction-id\": 56573, \"amount\": 1896}, {\"transaction-id\": 56605, \"amount\": 1642}, {\"transaction-id\": 56784, \"amount\": 1568}, {\"transaction-id\": 56878, \"amount\": 1336}, {\"transaction-id\": 57126, \"amount\": 1205}, {\"transaction-id\": 57198, \"amount\": 1786}, {\"transaction-id\": 57366, \"amount\": 1385}, {\"transaction-id\": 57670, \"amount\": 1487}, {\"transaction-id\": 58689, \"amount\": 1231}, {\"transaction-id\": 58843, \"amount\": 1714}, {\"transaction-id\": 58887, \"amount\": 1675}, {\"transaction-id\": 58966, \"amount\": 2141}, {\"transaction-id\": 59036, \"amount\": 1500}, {\"transaction-id\": 59368, \"amount\": 1291}, {\"transaction-id\": 59460, \"amount\": 1588}, {\"transaction-id\": 59461, \"amount\": 1870}, {\"transaction-id\": 60079, \"amount\": 1543}, {\"transaction-id\": 60255, \"amount\": 1550}, {\"transaction-id\": 60648, \"amount\": 1678}, {\"transaction-id\": 60891, \"amount\": 1802}, {\"transaction-id\": 61052, \"amount\": 1493}, {\"transaction-id\": 61188, \"amount\": 1538}, {\"transaction-id\": 61417, \"amount\": 1423}, {\"transaction-id\": 61735, \"amount\": 1634}, {\"transaction-id\": 62272, \"amount\": 1595}, {\"transaction-id\": 62585, \"amount\": 1232}, {\"transaction-id\": 62687, \"amount\": 1958}, {\"transaction-id\": 62752, \"amount\": 1469}, {\"transaction-id\": 62895, \"amount\": 1339}, {\"transaction-id\": 62957, \"amount\": 1502}, {\"transaction-id\": 62992, \"amount\": 1423}, {\"transaction-id\": 63276, \"amount\": 1628}, {\"transaction-id\": 64855, \"amount\": 1569}, {\"transaction-id\": 64867, \"amount\": 1620}, {\"transaction-id\": 64916, \"amount\": 1628}, {\"transaction-id\": 64953, \"amount\": 1521}, {\"transaction-id\": 65125, \"amount\": 1679}, {\"transaction-id\": 65211, \"amount\": 1813}, {\"transaction-id\": 65627, \"amount\": 1591}, {\"transaction-id\": 65683, \"amount\": 1339}, {\"transaction-id\": 65884, \"amount\": 1766}, {\"transaction-id\": 66146, \"amount\": 1800}, {\"transaction-id\": 66674, \"amount\": 1383}, {\"transaction-id\": 66825, \"amount\": 1571}, {\"transaction-id\": 67013, \"amount\": 1544}, {\"transaction-id\": 67158, \"amount\": 1615}, {\"transaction-id\": 67304, \"amount\": 1303}, {\"transaction-id\": 67866, \"amount\": 1426}, {\"transaction-id\": 67868, \"amount\": 1551}, {\"transaction-id\": 68239, \"amount\": 1482}, {\"transaction-id\": 68702, \"amount\": 1476}, {\"transaction-id\": 68752, \"amount\": 1411}, {\"transaction-id\": 69476, \"amount\": 1794}, {\"transaction-id\": 69806, \"amount\": 984}, {\"transaction-id\": 70118, \"amount\": 1390}, {\"transaction-id\": 70406, \"amount\": 1501}, {\"transaction-id\": 70520, \"amount\": 1588}, {\"transaction-id\": 70533, \"amount\": 1385}, {\"transaction-id\": 71078, \"amount\": 1492}, {\"transaction-id\": 71601, \"amount\": 1532}, {\"transaction-id\": 71643, \"amount\": 1365}, {\"transaction-id\": 71894, \"amount\": 1716}, {\"transaction-id\": 72086, \"amount\": 1558}, {\"transaction-id\": 72450, \"amount\": 1441}, {\"transaction-id\": 72473, \"amount\": 1833}, {\"transaction-id\": 72660, \"amount\": 1512}, {\"transaction-id\": 72705, \"amount\": 1754}, {\"transaction-id\": 72833, \"amount\": 1652}, {\"transaction-id\": 73221, \"amount\": 1685}, {\"transaction-id\": 73393, \"amount\": 1635}, {\"transaction-id\": 73473, \"amount\": 1469}, {\"transaction-id\": 73676, \"amount\": 1741}, {\"transaction-id\": 73766, \"amount\": 1530}, {\"transaction-id\": 73777, \"amount\": 1346}, {\"transaction-id\": 73802, \"amount\": 1615}, {\"transaction-id\": 73881, \"amount\": 1630}, {\"transaction-id\": 74522, \"amount\": 1518}, {\"transaction-id\": 74816, \"amount\": 1493}, {\"transaction-id\": 75031, \"amount\": 1336}, {\"transaction-id\": 75233, \"amount\": 1577}, {\"transaction-id\": 75602, \"amount\": 1673}, {\"transaction-id\": 75730, \"amount\": 1557}, {\"transaction-id\": 76033, \"amount\": 1452}, {\"transaction-id\": 76640, \"amount\": 1404}, {\"transaction-id\": 76810, \"amount\": 1580}, {\"transaction-id\": 77343, \"amount\": 1662}, {\"transaction-id\": 77391, \"amount\": 1601}, {\"transaction-id\": 77562, \"amount\": 1571}, {\"transaction-id\": 78184, \"amount\": 1468}, {\"transaction-id\": 78253, \"amount\": 1689}, {\"transaction-id\": 79366, \"amount\": 1282}, {\"transaction-id\": 79561, \"amount\": 1572}, {\"transaction-id\": 79583, \"amount\": 1497}, {\"transaction-id\": 79712, \"amount\": 1721}, {\"transaction-id\": 80050, \"amount\": 1259}, {\"transaction-id\": 80099, \"amount\": 1338}, {\"transaction-id\": 80479, \"amount\": 1463}, {\"transaction-id\": 80985, \"amount\": 1367}, {\"transaction-id\": 81146, \"amount\": 1648}, {\"transaction-id\": 81212, \"amount\": 1506}, {\"transaction-id\": 81421, \"amount\": 1489}, {\"transaction-id\": 81498, \"amount\": 1767}, {\"transaction-id\": 81513, \"amount\": 1332}, {\"transaction-id\": 81664, \"amount\": 1522}, {\"transaction-id\": 81732, \"amount\": 1428}, {\"transaction-id\": 81994, \"amount\": 1510}, {\"transaction-id\": 82230, \"amount\": 1740}, {\"transaction-id\": 82426, \"amount\": 1663}, {\"transaction-id\": 82438, \"amount\": 1422}, {\"transaction-id\": 83071, \"amount\": 1407}, {\"transaction-id\": 83097, \"amount\": 1547}, {\"transaction-id\": 83914, \"amount\": 1496}, {\"transaction-id\": 84140, \"amount\": 1557}, {\"transaction-id\": 84546, \"amount\": 1452}, {\"transaction-id\": 84871, \"amount\": 1498}, {\"transaction-id\": 85269, \"amount\": 1408}, {\"transaction-id\": 85282, \"amount\": 1298}, {\"transaction-id\": 85393, \"amount\": 1535}, {\"transaction-id\": 85639, \"amount\": 1422}, {\"transaction-id\": 86494, \"amount\": 1430}, {\"transaction-id\": 86804, \"amount\": 1390}, {\"transaction-id\": 86813, \"amount\": 1567}, {\"transaction-id\": 86936, \"amount\": 1309}, {\"transaction-id\": 87256, \"amount\": 1584}, {\"transaction-id\": 87369, \"amount\": 1590}, {\"transaction-id\": 88050, \"amount\": 1572}, {\"transaction-id\": 88317, \"amount\": 1673}, {\"transaction-id\": 88596, \"amount\": 1448}, {\"transaction-id\": 89728, \"amount\": 1428}, {\"transaction-id\": 90374, \"amount\": 1746}, {\"transaction-id\": 90723, \"amount\": 1746}, {\"transaction-id\": 92554, \"amount\": 1451}, {\"transaction-id\": 92851, \"amount\": 1803}, {\"transaction-id\": 93382, \"amount\": 1572}, {\"transaction-id\": 93489, \"amount\": 1369}, {\"transaction-id\": 93558, \"amount\": 1516}, {\"transaction-id\": 93587, \"amount\": 1678}, {\"transaction-id\": 93630, \"amount\": 1601}, {\"transaction-id\": 94175, \"amount\": 1618}, {\"transaction-id\": 94309, \"amount\": 1237}, {\"transaction-id\": 94315, \"amount\": 1950}, {\"transaction-id\": 94318, \"amount\": 1410}, {\"transaction-id\": 94402, \"amount\": 1672}, {\"transaction-id\": 94809, \"amount\": 1822}, {\"transaction-id\": 95117, \"amount\": 1602}, {\"transaction-id\": 95693, \"amount\": 1693}, {\"transaction-id\": 95698, \"amount\": 1219}, {\"transaction-id\": 95909, \"amount\": 1839}, {\"transaction-id\": 96066, \"amount\": 1558}, {\"transaction-id\": 96550, \"amount\": 1479}, {\"transaction-id\": 96998, \"amount\": 1415}, {\"transaction-id\": 97174, \"amount\": 1287}, {\"transaction-id\": 97176, \"amount\": 1955}, {\"transaction-id\": 97199, \"amount\": 1690}, {\"transaction-id\": 98230, \"amount\": 1534}, {\"transaction-id\": 98329, \"amount\": 1179}, {\"transaction-id\": 98519, \"amount\": 1402}, {\"transaction-id\": 98799, \"amount\": 1719}]}\\n')"
      ]
     },
     "execution_count": 124,
     "metadata": {},
     "output_type": "execute_result"
    }
   ],
   "source": [
    "filename = os.path.join('data', 'accounts.*.json.gz')\n",
    "lines = db.read_text(filename)\n",
    "lines.take(3)"
   ]
  },
  {
   "cell_type": "markdown",
   "metadata": {},
   "source": [
    "Our data comes out of the file as lines of text. Notice that file decompression happened automatically. We can make this data look more reasonable by mapping the `json.loads` function onto our bag."
   ]
  },
  {
   "cell_type": "code",
   "execution_count": 125,
   "metadata": {},
   "outputs": [
    {
     "data": {
      "text/plain": [
       "({'id': 0,\n",
       "  'name': 'Frank',\n",
       "  'transactions': [{'transaction-id': 1341, 'amount': 289},\n",
       "   {'transaction-id': 3824, 'amount': 240},\n",
       "   {'transaction-id': 5168, 'amount': 235},\n",
       "   {'transaction-id': 7303, 'amount': 250},\n",
       "   {'transaction-id': 7580, 'amount': 283},\n",
       "   {'transaction-id': 9440, 'amount': 169},\n",
       "   {'transaction-id': 9660, 'amount': 127},\n",
       "   {'transaction-id': 10265, 'amount': 247},\n",
       "   {'transaction-id': 10680, 'amount': 171},\n",
       "   {'transaction-id': 10864, 'amount': 142},\n",
       "   {'transaction-id': 11473, 'amount': 183},\n",
       "   {'transaction-id': 12037, 'amount': 203},\n",
       "   {'transaction-id': 12272, 'amount': 206},\n",
       "   {'transaction-id': 12767, 'amount': 156},\n",
       "   {'transaction-id': 13008, 'amount': 195},\n",
       "   {'transaction-id': 13233, 'amount': 162},\n",
       "   {'transaction-id': 13614, 'amount': 197},\n",
       "   {'transaction-id': 14379, 'amount': 240},\n",
       "   {'transaction-id': 15409, 'amount': 313},\n",
       "   {'transaction-id': 16717, 'amount': 162},\n",
       "   {'transaction-id': 16873, 'amount': 221},\n",
       "   {'transaction-id': 19635, 'amount': 162},\n",
       "   {'transaction-id': 21944, 'amount': 180},\n",
       "   {'transaction-id': 23245, 'amount': 231},\n",
       "   {'transaction-id': 23376, 'amount': 192},\n",
       "   {'transaction-id': 24006, 'amount': 120},\n",
       "   {'transaction-id': 25476, 'amount': 207},\n",
       "   {'transaction-id': 26189, 'amount': 287},\n",
       "   {'transaction-id': 29792, 'amount': 106},\n",
       "   {'transaction-id': 31466, 'amount': 93},\n",
       "   {'transaction-id': 32378, 'amount': 189},\n",
       "   {'transaction-id': 34276, 'amount': 175},\n",
       "   {'transaction-id': 34402, 'amount': 130},\n",
       "   {'transaction-id': 34508, 'amount': 167},\n",
       "   {'transaction-id': 34562, 'amount': 130},\n",
       "   {'transaction-id': 34659, 'amount': 267},\n",
       "   {'transaction-id': 34762, 'amount': 158},\n",
       "   {'transaction-id': 35969, 'amount': 242},\n",
       "   {'transaction-id': 36103, 'amount': 244},\n",
       "   {'transaction-id': 36621, 'amount': 171},\n",
       "   {'transaction-id': 37329, 'amount': 196},\n",
       "   {'transaction-id': 38860, 'amount': 182},\n",
       "   {'transaction-id': 39947, 'amount': 204},\n",
       "   {'transaction-id': 40805, 'amount': 153},\n",
       "   {'transaction-id': 41174, 'amount': 235},\n",
       "   {'transaction-id': 41195, 'amount': 196},\n",
       "   {'transaction-id': 42806, 'amount': 200},\n",
       "   {'transaction-id': 43416, 'amount': 171},\n",
       "   {'transaction-id': 43833, 'amount': 190},\n",
       "   {'transaction-id': 44464, 'amount': 151},\n",
       "   {'transaction-id': 45132, 'amount': 106},\n",
       "   {'transaction-id': 46622, 'amount': 298},\n",
       "   {'transaction-id': 47571, 'amount': 199},\n",
       "   {'transaction-id': 48538, 'amount': 172},\n",
       "   {'transaction-id': 49155, 'amount': 170},\n",
       "   {'transaction-id': 49905, 'amount': 274},\n",
       "   {'transaction-id': 50917, 'amount': 185},\n",
       "   {'transaction-id': 52656, 'amount': 238},\n",
       "   {'transaction-id': 53907, 'amount': 163},\n",
       "   {'transaction-id': 55619, 'amount': 207},\n",
       "   {'transaction-id': 56438, 'amount': 142},\n",
       "   {'transaction-id': 56951, 'amount': 197},\n",
       "   {'transaction-id': 57636, 'amount': 206},\n",
       "   {'transaction-id': 59536, 'amount': 220},\n",
       "   {'transaction-id': 60576, 'amount': 220},\n",
       "   {'transaction-id': 60880, 'amount': 189},\n",
       "   {'transaction-id': 61330, 'amount': 190},\n",
       "   {'transaction-id': 61758, 'amount': 240},\n",
       "   {'transaction-id': 61791, 'amount': 188},\n",
       "   {'transaction-id': 62117, 'amount': 193},\n",
       "   {'transaction-id': 63123, 'amount': 195},\n",
       "   {'transaction-id': 63205, 'amount': 184},\n",
       "   {'transaction-id': 63682, 'amount': 263},\n",
       "   {'transaction-id': 64177, 'amount': 262},\n",
       "   {'transaction-id': 67605, 'amount': 183},\n",
       "   {'transaction-id': 67882, 'amount': 165},\n",
       "   {'transaction-id': 70677, 'amount': 85},\n",
       "   {'transaction-id': 71090, 'amount': 184},\n",
       "   {'transaction-id': 71718, 'amount': 208},\n",
       "   {'transaction-id': 72208, 'amount': 251},\n",
       "   {'transaction-id': 72304, 'amount': 185},\n",
       "   {'transaction-id': 74031, 'amount': 233},\n",
       "   {'transaction-id': 74199, 'amount': 216},\n",
       "   {'transaction-id': 74998, 'amount': 202},\n",
       "   {'transaction-id': 75345, 'amount': 131},\n",
       "   {'transaction-id': 75460, 'amount': 149},\n",
       "   {'transaction-id': 76127, 'amount': 235},\n",
       "   {'transaction-id': 76931, 'amount': 297},\n",
       "   {'transaction-id': 78429, 'amount': 232},\n",
       "   {'transaction-id': 78814, 'amount': 249},\n",
       "   {'transaction-id': 79586, 'amount': 197},\n",
       "   {'transaction-id': 80230, 'amount': 152},\n",
       "   {'transaction-id': 80574, 'amount': 224},\n",
       "   {'transaction-id': 80847, 'amount': 240},\n",
       "   {'transaction-id': 82135, 'amount': 137},\n",
       "   {'transaction-id': 82162, 'amount': 188},\n",
       "   {'transaction-id': 84770, 'amount': 193},\n",
       "   {'transaction-id': 85069, 'amount': 192},\n",
       "   {'transaction-id': 86558, 'amount': 97},\n",
       "   {'transaction-id': 89373, 'amount': 261},\n",
       "   {'transaction-id': 89650, 'amount': 209},\n",
       "   {'transaction-id': 89690, 'amount': 212},\n",
       "   {'transaction-id': 91685, 'amount': 246},\n",
       "   {'transaction-id': 94793, 'amount': 312},\n",
       "   {'transaction-id': 95739, 'amount': 180},\n",
       "   {'transaction-id': 95949, 'amount': 133},\n",
       "   {'transaction-id': 96507, 'amount': 209},\n",
       "   {'transaction-id': 97980, 'amount': 173},\n",
       "   {'transaction-id': 99999, 'amount': 293}]},\n",
       " {'id': 1,\n",
       "  'name': 'Frank',\n",
       "  'transactions': [{'transaction-id': 735, 'amount': 2458},\n",
       "   {'transaction-id': 879, 'amount': 2640},\n",
       "   {'transaction-id': 1641, 'amount': 2831},\n",
       "   {'transaction-id': 4624, 'amount': 2711},\n",
       "   {'transaction-id': 5298, 'amount': 2666},\n",
       "   {'transaction-id': 7707, 'amount': 2751},\n",
       "   {'transaction-id': 7957, 'amount': 2534},\n",
       "   {'transaction-id': 8952, 'amount': 2826},\n",
       "   {'transaction-id': 9352, 'amount': 2620},\n",
       "   {'transaction-id': 10184, 'amount': 2675},\n",
       "   {'transaction-id': 11458, 'amount': 2338},\n",
       "   {'transaction-id': 13341, 'amount': 2777},\n",
       "   {'transaction-id': 16002, 'amount': 2611},\n",
       "   {'transaction-id': 18093, 'amount': 2480},\n",
       "   {'transaction-id': 19448, 'amount': 2671},\n",
       "   {'transaction-id': 20993, 'amount': 2812},\n",
       "   {'transaction-id': 24570, 'amount': 2710},\n",
       "   {'transaction-id': 26239, 'amount': 2874},\n",
       "   {'transaction-id': 26306, 'amount': 2653},\n",
       "   {'transaction-id': 26959, 'amount': 2703},\n",
       "   {'transaction-id': 27665, 'amount': 2588},\n",
       "   {'transaction-id': 28543, 'amount': 2586},\n",
       "   {'transaction-id': 30532, 'amount': 2394},\n",
       "   {'transaction-id': 30647, 'amount': 2646},\n",
       "   {'transaction-id': 30806, 'amount': 2507},\n",
       "   {'transaction-id': 30865, 'amount': 2760},\n",
       "   {'transaction-id': 32301, 'amount': 2636},\n",
       "   {'transaction-id': 34891, 'amount': 2782},\n",
       "   {'transaction-id': 36349, 'amount': 2656},\n",
       "   {'transaction-id': 41793, 'amount': 2573},\n",
       "   {'transaction-id': 43120, 'amount': 2869},\n",
       "   {'transaction-id': 44229, 'amount': 2621},\n",
       "   {'transaction-id': 44845, 'amount': 2535},\n",
       "   {'transaction-id': 45762, 'amount': 2476},\n",
       "   {'transaction-id': 45964, 'amount': 2774},\n",
       "   {'transaction-id': 50691, 'amount': 2581},\n",
       "   {'transaction-id': 53299, 'amount': 2952},\n",
       "   {'transaction-id': 53700, 'amount': 2678},\n",
       "   {'transaction-id': 54510, 'amount': 2552},\n",
       "   {'transaction-id': 58156, 'amount': 2792},\n",
       "   {'transaction-id': 59968, 'amount': 2540},\n",
       "   {'transaction-id': 61608, 'amount': 2661},\n",
       "   {'transaction-id': 62686, 'amount': 2528},\n",
       "   {'transaction-id': 62842, 'amount': 2640},\n",
       "   {'transaction-id': 63570, 'amount': 2772},\n",
       "   {'transaction-id': 67557, 'amount': 2577},\n",
       "   {'transaction-id': 67807, 'amount': 2660},\n",
       "   {'transaction-id': 68978, 'amount': 2675},\n",
       "   {'transaction-id': 69306, 'amount': 2607},\n",
       "   {'transaction-id': 69696, 'amount': 2655},\n",
       "   {'transaction-id': 72440, 'amount': 2726},\n",
       "   {'transaction-id': 76436, 'amount': 2629},\n",
       "   {'transaction-id': 77098, 'amount': 2607},\n",
       "   {'transaction-id': 77795, 'amount': 2845},\n",
       "   {'transaction-id': 78525, 'amount': 2667},\n",
       "   {'transaction-id': 80401, 'amount': 2695},\n",
       "   {'transaction-id': 81320, 'amount': 2501},\n",
       "   {'transaction-id': 81467, 'amount': 2495},\n",
       "   {'transaction-id': 82641, 'amount': 2528},\n",
       "   {'transaction-id': 83090, 'amount': 2617},\n",
       "   {'transaction-id': 83876, 'amount': 2731},\n",
       "   {'transaction-id': 83933, 'amount': 2610},\n",
       "   {'transaction-id': 86490, 'amount': 2872},\n",
       "   {'transaction-id': 87011, 'amount': 2557},\n",
       "   {'transaction-id': 91359, 'amount': 2690},\n",
       "   {'transaction-id': 91652, 'amount': 2863},\n",
       "   {'transaction-id': 93014, 'amount': 2645},\n",
       "   {'transaction-id': 93186, 'amount': 2648},\n",
       "   {'transaction-id': 93344, 'amount': 2795},\n",
       "   {'transaction-id': 93583, 'amount': 2655},\n",
       "   {'transaction-id': 96181, 'amount': 2826},\n",
       "   {'transaction-id': 97298, 'amount': 2462},\n",
       "   {'transaction-id': 97468, 'amount': 2658},\n",
       "   {'transaction-id': 98092, 'amount': 2747}]},\n",
       " {'id': 2,\n",
       "  'name': 'Dan',\n",
       "  'transactions': [{'transaction-id': 192, 'amount': 1783},\n",
       "   {'transaction-id': 700, 'amount': 1538},\n",
       "   {'transaction-id': 894, 'amount': 1704},\n",
       "   {'transaction-id': 1003, 'amount': 1507},\n",
       "   {'transaction-id': 1320, 'amount': 1864},\n",
       "   {'transaction-id': 1622, 'amount': 1530},\n",
       "   {'transaction-id': 1768, 'amount': 1871},\n",
       "   {'transaction-id': 1771, 'amount': 1365},\n",
       "   {'transaction-id': 2343, 'amount': 1492},\n",
       "   {'transaction-id': 2629, 'amount': 1739},\n",
       "   {'transaction-id': 2957, 'amount': 1315},\n",
       "   {'transaction-id': 3020, 'amount': 1372},\n",
       "   {'transaction-id': 3082, 'amount': 1186},\n",
       "   {'transaction-id': 3399, 'amount': 1248},\n",
       "   {'transaction-id': 3554, 'amount': 1515},\n",
       "   {'transaction-id': 3744, 'amount': 1661},\n",
       "   {'transaction-id': 3960, 'amount': 1429},\n",
       "   {'transaction-id': 4006, 'amount': 1591},\n",
       "   {'transaction-id': 4053, 'amount': 1335},\n",
       "   {'transaction-id': 4325, 'amount': 1038},\n",
       "   {'transaction-id': 4742, 'amount': 1614},\n",
       "   {'transaction-id': 4801, 'amount': 1699},\n",
       "   {'transaction-id': 5488, 'amount': 1567},\n",
       "   {'transaction-id': 5576, 'amount': 1772},\n",
       "   {'transaction-id': 5963, 'amount': 1537},\n",
       "   {'transaction-id': 6223, 'amount': 1368},\n",
       "   {'transaction-id': 6263, 'amount': 1620},\n",
       "   {'transaction-id': 7105, 'amount': 1303},\n",
       "   {'transaction-id': 7136, 'amount': 1684},\n",
       "   {'transaction-id': 7296, 'amount': 1436},\n",
       "   {'transaction-id': 7373, 'amount': 1376},\n",
       "   {'transaction-id': 7631, 'amount': 1130},\n",
       "   {'transaction-id': 8004, 'amount': 1573},\n",
       "   {'transaction-id': 8097, 'amount': 1375},\n",
       "   {'transaction-id': 9232, 'amount': 1296},\n",
       "   {'transaction-id': 9536, 'amount': 1240},\n",
       "   {'transaction-id': 10033, 'amount': 1553},\n",
       "   {'transaction-id': 10399, 'amount': 1647},\n",
       "   {'transaction-id': 10659, 'amount': 1901},\n",
       "   {'transaction-id': 10973, 'amount': 1592},\n",
       "   {'transaction-id': 11194, 'amount': 1664},\n",
       "   {'transaction-id': 11680, 'amount': 1722},\n",
       "   {'transaction-id': 12086, 'amount': 1869},\n",
       "   {'transaction-id': 12511, 'amount': 1696},\n",
       "   {'transaction-id': 12873, 'amount': 1328},\n",
       "   {'transaction-id': 13169, 'amount': 1664},\n",
       "   {'transaction-id': 13231, 'amount': 1465},\n",
       "   {'transaction-id': 13283, 'amount': 1574},\n",
       "   {'transaction-id': 13392, 'amount': 1548},\n",
       "   {'transaction-id': 13844, 'amount': 1768},\n",
       "   {'transaction-id': 14253, 'amount': 1396},\n",
       "   {'transaction-id': 14644, 'amount': 1308},\n",
       "   {'transaction-id': 15321, 'amount': 1554},\n",
       "   {'transaction-id': 15751, 'amount': 1566},\n",
       "   {'transaction-id': 15856, 'amount': 1618},\n",
       "   {'transaction-id': 15956, 'amount': 1420},\n",
       "   {'transaction-id': 16141, 'amount': 1543},\n",
       "   {'transaction-id': 16190, 'amount': 1801},\n",
       "   {'transaction-id': 16322, 'amount': 1372},\n",
       "   {'transaction-id': 16977, 'amount': 1596},\n",
       "   {'transaction-id': 16990, 'amount': 1653},\n",
       "   {'transaction-id': 17081, 'amount': 1114},\n",
       "   {'transaction-id': 17569, 'amount': 1587},\n",
       "   {'transaction-id': 18167, 'amount': 1405},\n",
       "   {'transaction-id': 18208, 'amount': 1649},\n",
       "   {'transaction-id': 18349, 'amount': 1462},\n",
       "   {'transaction-id': 18439, 'amount': 1412},\n",
       "   {'transaction-id': 18572, 'amount': 1946},\n",
       "   {'transaction-id': 18591, 'amount': 1667},\n",
       "   {'transaction-id': 18692, 'amount': 1362},\n",
       "   {'transaction-id': 18748, 'amount': 1525},\n",
       "   {'transaction-id': 19203, 'amount': 1713},\n",
       "   {'transaction-id': 19251, 'amount': 1328},\n",
       "   {'transaction-id': 19351, 'amount': 1612},\n",
       "   {'transaction-id': 19552, 'amount': 1278},\n",
       "   {'transaction-id': 19579, 'amount': 1522},\n",
       "   {'transaction-id': 19633, 'amount': 1368},\n",
       "   {'transaction-id': 20035, 'amount': 1787},\n",
       "   {'transaction-id': 20198, 'amount': 1156},\n",
       "   {'transaction-id': 20202, 'amount': 1780},\n",
       "   {'transaction-id': 20250, 'amount': 1450},\n",
       "   {'transaction-id': 20641, 'amount': 1393},\n",
       "   {'transaction-id': 21168, 'amount': 1741},\n",
       "   {'transaction-id': 21195, 'amount': 1663},\n",
       "   {'transaction-id': 21398, 'amount': 1696},\n",
       "   {'transaction-id': 21400, 'amount': 1493},\n",
       "   {'transaction-id': 21819, 'amount': 1783},\n",
       "   {'transaction-id': 21903, 'amount': 1529},\n",
       "   {'transaction-id': 22247, 'amount': 1473},\n",
       "   {'transaction-id': 22384, 'amount': 1495},\n",
       "   {'transaction-id': 22812, 'amount': 1212},\n",
       "   {'transaction-id': 23219, 'amount': 1658},\n",
       "   {'transaction-id': 23582, 'amount': 1307},\n",
       "   {'transaction-id': 23956, 'amount': 1569},\n",
       "   {'transaction-id': 24100, 'amount': 1550},\n",
       "   {'transaction-id': 24153, 'amount': 1389},\n",
       "   {'transaction-id': 24287, 'amount': 1266},\n",
       "   {'transaction-id': 24541, 'amount': 1660},\n",
       "   {'transaction-id': 24847, 'amount': 1524},\n",
       "   {'transaction-id': 24956, 'amount': 1257},\n",
       "   {'transaction-id': 24989, 'amount': 1629},\n",
       "   {'transaction-id': 25186, 'amount': 1383},\n",
       "   {'transaction-id': 25461, 'amount': 1581},\n",
       "   {'transaction-id': 25920, 'amount': 1282},\n",
       "   {'transaction-id': 26032, 'amount': 1446},\n",
       "   {'transaction-id': 26210, 'amount': 1342},\n",
       "   {'transaction-id': 26983, 'amount': 1410},\n",
       "   {'transaction-id': 27131, 'amount': 1316},\n",
       "   {'transaction-id': 27673, 'amount': 1389},\n",
       "   {'transaction-id': 27809, 'amount': 1442},\n",
       "   {'transaction-id': 28179, 'amount': 1608},\n",
       "   {'transaction-id': 28695, 'amount': 1532},\n",
       "   {'transaction-id': 29377, 'amount': 1490},\n",
       "   {'transaction-id': 29563, 'amount': 1539},\n",
       "   {'transaction-id': 29662, 'amount': 1522},\n",
       "   {'transaction-id': 29808, 'amount': 1616},\n",
       "   {'transaction-id': 29839, 'amount': 1740},\n",
       "   {'transaction-id': 30117, 'amount': 1741},\n",
       "   {'transaction-id': 30764, 'amount': 1304},\n",
       "   {'transaction-id': 31285, 'amount': 1609},\n",
       "   {'transaction-id': 31570, 'amount': 1299},\n",
       "   {'transaction-id': 31935, 'amount': 1581},\n",
       "   {'transaction-id': 32256, 'amount': 1461},\n",
       "   {'transaction-id': 32820, 'amount': 1679},\n",
       "   {'transaction-id': 32852, 'amount': 1622},\n",
       "   {'transaction-id': 32895, 'amount': 1318},\n",
       "   {'transaction-id': 33324, 'amount': 1464},\n",
       "   {'transaction-id': 33708, 'amount': 1438},\n",
       "   {'transaction-id': 35020, 'amount': 1841},\n",
       "   {'transaction-id': 35165, 'amount': 1707},\n",
       "   {'transaction-id': 35670, 'amount': 1606},\n",
       "   {'transaction-id': 36067, 'amount': 1359},\n",
       "   {'transaction-id': 36327, 'amount': 1644},\n",
       "   {'transaction-id': 36340, 'amount': 1129},\n",
       "   {'transaction-id': 36441, 'amount': 1204},\n",
       "   {'transaction-id': 37131, 'amount': 1473},\n",
       "   {'transaction-id': 37412, 'amount': 1618},\n",
       "   {'transaction-id': 37488, 'amount': 1693},\n",
       "   {'transaction-id': 37716, 'amount': 1866},\n",
       "   {'transaction-id': 37845, 'amount': 1786},\n",
       "   {'transaction-id': 37969, 'amount': 1519},\n",
       "   {'transaction-id': 38502, 'amount': 1569},\n",
       "   {'transaction-id': 38680, 'amount': 1403},\n",
       "   {'transaction-id': 38713, 'amount': 1483},\n",
       "   {'transaction-id': 38859, 'amount': 1472},\n",
       "   {'transaction-id': 39066, 'amount': 1643},\n",
       "   {'transaction-id': 39070, 'amount': 1395},\n",
       "   {'transaction-id': 39267, 'amount': 1778},\n",
       "   {'transaction-id': 39295, 'amount': 1627},\n",
       "   {'transaction-id': 39361, 'amount': 1471},\n",
       "   {'transaction-id': 39976, 'amount': 1509},\n",
       "   {'transaction-id': 40007, 'amount': 1429},\n",
       "   {'transaction-id': 40093, 'amount': 1627},\n",
       "   {'transaction-id': 40375, 'amount': 1667},\n",
       "   {'transaction-id': 40814, 'amount': 1294},\n",
       "   {'transaction-id': 41009, 'amount': 1310},\n",
       "   {'transaction-id': 41036, 'amount': 1315},\n",
       "   {'transaction-id': 41056, 'amount': 2068},\n",
       "   {'transaction-id': 41313, 'amount': 1437},\n",
       "   {'transaction-id': 41331, 'amount': 1472},\n",
       "   {'transaction-id': 41476, 'amount': 1477},\n",
       "   {'transaction-id': 41646, 'amount': 1458},\n",
       "   {'transaction-id': 41925, 'amount': 1876},\n",
       "   {'transaction-id': 41949, 'amount': 1316},\n",
       "   {'transaction-id': 42003, 'amount': 1393},\n",
       "   {'transaction-id': 42283, 'amount': 1809},\n",
       "   {'transaction-id': 42607, 'amount': 1760},\n",
       "   {'transaction-id': 43294, 'amount': 1419},\n",
       "   {'transaction-id': 43520, 'amount': 1205},\n",
       "   {'transaction-id': 43533, 'amount': 1620},\n",
       "   {'transaction-id': 43754, 'amount': 1634},\n",
       "   {'transaction-id': 43770, 'amount': 1497},\n",
       "   {'transaction-id': 43858, 'amount': 1436},\n",
       "   {'transaction-id': 44217, 'amount': 1150},\n",
       "   {'transaction-id': 44807, 'amount': 1559},\n",
       "   {'transaction-id': 44949, 'amount': 1518},\n",
       "   {'transaction-id': 44997, 'amount': 1653},\n",
       "   {'transaction-id': 45122, 'amount': 1503},\n",
       "   {'transaction-id': 45126, 'amount': 1545},\n",
       "   {'transaction-id': 45334, 'amount': 1554},\n",
       "   {'transaction-id': 45505, 'amount': 1672},\n",
       "   {'transaction-id': 45627, 'amount': 1446},\n",
       "   {'transaction-id': 46039, 'amount': 1229},\n",
       "   {'transaction-id': 46117, 'amount': 1376},\n",
       "   {'transaction-id': 46274, 'amount': 1431},\n",
       "   {'transaction-id': 46473, 'amount': 1218},\n",
       "   {'transaction-id': 46491, 'amount': 1638},\n",
       "   {'transaction-id': 47022, 'amount': 1276},\n",
       "   {'transaction-id': 47661, 'amount': 1739},\n",
       "   {'transaction-id': 47758, 'amount': 1335},\n",
       "   {'transaction-id': 47924, 'amount': 1605},\n",
       "   {'transaction-id': 48029, 'amount': 1391},\n",
       "   {'transaction-id': 48076, 'amount': 1554},\n",
       "   {'transaction-id': 48249, 'amount': 1549},\n",
       "   {'transaction-id': 49143, 'amount': 1511},\n",
       "   {'transaction-id': 49364, 'amount': 1184},\n",
       "   {'transaction-id': 49699, 'amount': 1560},\n",
       "   {'transaction-id': 49983, 'amount': 1440},\n",
       "   {'transaction-id': 49987, 'amount': 1501},\n",
       "   {'transaction-id': 49999, 'amount': 1225},\n",
       "   {'transaction-id': 50135, 'amount': 1236},\n",
       "   {'transaction-id': 50318, 'amount': 1261},\n",
       "   {'transaction-id': 50639, 'amount': 1464},\n",
       "   {'transaction-id': 50858, 'amount': 1658},\n",
       "   {'transaction-id': 51285, 'amount': 1483},\n",
       "   {'transaction-id': 51452, 'amount': 1600},\n",
       "   {'transaction-id': 52044, 'amount': 1682},\n",
       "   {'transaction-id': 52153, 'amount': 1374},\n",
       "   {'transaction-id': 52180, 'amount': 1384},\n",
       "   {'transaction-id': 52322, 'amount': 1658},\n",
       "   {'transaction-id': 52609, 'amount': 1364},\n",
       "   {'transaction-id': 53163, 'amount': 1595},\n",
       "   {'transaction-id': 53271, 'amount': 1931},\n",
       "   {'transaction-id': 53429, 'amount': 1362},\n",
       "   {'transaction-id': 53594, 'amount': 1466},\n",
       "   {'transaction-id': 53849, 'amount': 1597},\n",
       "   {'transaction-id': 54036, 'amount': 1451},\n",
       "   {'transaction-id': 54197, 'amount': 1265},\n",
       "   {'transaction-id': 54246, 'amount': 1111},\n",
       "   {'transaction-id': 54721, 'amount': 1525},\n",
       "   {'transaction-id': 54876, 'amount': 1715},\n",
       "   {'transaction-id': 54975, 'amount': 1667},\n",
       "   {'transaction-id': 54984, 'amount': 1439},\n",
       "   {'transaction-id': 55272, 'amount': 1478},\n",
       "   {'transaction-id': 55707, 'amount': 1689},\n",
       "   {'transaction-id': 56018, 'amount': 1534},\n",
       "   {'transaction-id': 56573, 'amount': 1896},\n",
       "   {'transaction-id': 56605, 'amount': 1642},\n",
       "   {'transaction-id': 56784, 'amount': 1568},\n",
       "   {'transaction-id': 56878, 'amount': 1336},\n",
       "   {'transaction-id': 57126, 'amount': 1205},\n",
       "   {'transaction-id': 57198, 'amount': 1786},\n",
       "   {'transaction-id': 57366, 'amount': 1385},\n",
       "   {'transaction-id': 57670, 'amount': 1487},\n",
       "   {'transaction-id': 58689, 'amount': 1231},\n",
       "   {'transaction-id': 58843, 'amount': 1714},\n",
       "   {'transaction-id': 58887, 'amount': 1675},\n",
       "   {'transaction-id': 58966, 'amount': 2141},\n",
       "   {'transaction-id': 59036, 'amount': 1500},\n",
       "   {'transaction-id': 59368, 'amount': 1291},\n",
       "   {'transaction-id': 59460, 'amount': 1588},\n",
       "   {'transaction-id': 59461, 'amount': 1870},\n",
       "   {'transaction-id': 60079, 'amount': 1543},\n",
       "   {'transaction-id': 60255, 'amount': 1550},\n",
       "   {'transaction-id': 60648, 'amount': 1678},\n",
       "   {'transaction-id': 60891, 'amount': 1802},\n",
       "   {'transaction-id': 61052, 'amount': 1493},\n",
       "   {'transaction-id': 61188, 'amount': 1538},\n",
       "   {'transaction-id': 61417, 'amount': 1423},\n",
       "   {'transaction-id': 61735, 'amount': 1634},\n",
       "   {'transaction-id': 62272, 'amount': 1595},\n",
       "   {'transaction-id': 62585, 'amount': 1232},\n",
       "   {'transaction-id': 62687, 'amount': 1958},\n",
       "   {'transaction-id': 62752, 'amount': 1469},\n",
       "   {'transaction-id': 62895, 'amount': 1339},\n",
       "   {'transaction-id': 62957, 'amount': 1502},\n",
       "   {'transaction-id': 62992, 'amount': 1423},\n",
       "   {'transaction-id': 63276, 'amount': 1628},\n",
       "   {'transaction-id': 64855, 'amount': 1569},\n",
       "   {'transaction-id': 64867, 'amount': 1620},\n",
       "   {'transaction-id': 64916, 'amount': 1628},\n",
       "   {'transaction-id': 64953, 'amount': 1521},\n",
       "   {'transaction-id': 65125, 'amount': 1679},\n",
       "   {'transaction-id': 65211, 'amount': 1813},\n",
       "   {'transaction-id': 65627, 'amount': 1591},\n",
       "   {'transaction-id': 65683, 'amount': 1339},\n",
       "   {'transaction-id': 65884, 'amount': 1766},\n",
       "   {'transaction-id': 66146, 'amount': 1800},\n",
       "   {'transaction-id': 66674, 'amount': 1383},\n",
       "   {'transaction-id': 66825, 'amount': 1571},\n",
       "   {'transaction-id': 67013, 'amount': 1544},\n",
       "   {'transaction-id': 67158, 'amount': 1615},\n",
       "   {'transaction-id': 67304, 'amount': 1303},\n",
       "   {'transaction-id': 67866, 'amount': 1426},\n",
       "   {'transaction-id': 67868, 'amount': 1551},\n",
       "   {'transaction-id': 68239, 'amount': 1482},\n",
       "   {'transaction-id': 68702, 'amount': 1476},\n",
       "   {'transaction-id': 68752, 'amount': 1411},\n",
       "   {'transaction-id': 69476, 'amount': 1794},\n",
       "   {'transaction-id': 69806, 'amount': 984},\n",
       "   {'transaction-id': 70118, 'amount': 1390},\n",
       "   {'transaction-id': 70406, 'amount': 1501},\n",
       "   {'transaction-id': 70520, 'amount': 1588},\n",
       "   {'transaction-id': 70533, 'amount': 1385},\n",
       "   {'transaction-id': 71078, 'amount': 1492},\n",
       "   {'transaction-id': 71601, 'amount': 1532},\n",
       "   {'transaction-id': 71643, 'amount': 1365},\n",
       "   {'transaction-id': 71894, 'amount': 1716},\n",
       "   {'transaction-id': 72086, 'amount': 1558},\n",
       "   {'transaction-id': 72450, 'amount': 1441},\n",
       "   {'transaction-id': 72473, 'amount': 1833},\n",
       "   {'transaction-id': 72660, 'amount': 1512},\n",
       "   {'transaction-id': 72705, 'amount': 1754},\n",
       "   {'transaction-id': 72833, 'amount': 1652},\n",
       "   {'transaction-id': 73221, 'amount': 1685},\n",
       "   {'transaction-id': 73393, 'amount': 1635},\n",
       "   {'transaction-id': 73473, 'amount': 1469},\n",
       "   {'transaction-id': 73676, 'amount': 1741},\n",
       "   {'transaction-id': 73766, 'amount': 1530},\n",
       "   {'transaction-id': 73777, 'amount': 1346},\n",
       "   {'transaction-id': 73802, 'amount': 1615},\n",
       "   {'transaction-id': 73881, 'amount': 1630},\n",
       "   {'transaction-id': 74522, 'amount': 1518},\n",
       "   {'transaction-id': 74816, 'amount': 1493},\n",
       "   {'transaction-id': 75031, 'amount': 1336},\n",
       "   {'transaction-id': 75233, 'amount': 1577},\n",
       "   {'transaction-id': 75602, 'amount': 1673},\n",
       "   {'transaction-id': 75730, 'amount': 1557},\n",
       "   {'transaction-id': 76033, 'amount': 1452},\n",
       "   {'transaction-id': 76640, 'amount': 1404},\n",
       "   {'transaction-id': 76810, 'amount': 1580},\n",
       "   {'transaction-id': 77343, 'amount': 1662},\n",
       "   {'transaction-id': 77391, 'amount': 1601},\n",
       "   {'transaction-id': 77562, 'amount': 1571},\n",
       "   {'transaction-id': 78184, 'amount': 1468},\n",
       "   {'transaction-id': 78253, 'amount': 1689},\n",
       "   {'transaction-id': 79366, 'amount': 1282},\n",
       "   {'transaction-id': 79561, 'amount': 1572},\n",
       "   {'transaction-id': 79583, 'amount': 1497},\n",
       "   {'transaction-id': 79712, 'amount': 1721},\n",
       "   {'transaction-id': 80050, 'amount': 1259},\n",
       "   {'transaction-id': 80099, 'amount': 1338},\n",
       "   {'transaction-id': 80479, 'amount': 1463},\n",
       "   {'transaction-id': 80985, 'amount': 1367},\n",
       "   {'transaction-id': 81146, 'amount': 1648},\n",
       "   {'transaction-id': 81212, 'amount': 1506},\n",
       "   {'transaction-id': 81421, 'amount': 1489},\n",
       "   {'transaction-id': 81498, 'amount': 1767},\n",
       "   {'transaction-id': 81513, 'amount': 1332},\n",
       "   {'transaction-id': 81664, 'amount': 1522},\n",
       "   {'transaction-id': 81732, 'amount': 1428},\n",
       "   {'transaction-id': 81994, 'amount': 1510},\n",
       "   {'transaction-id': 82230, 'amount': 1740},\n",
       "   {'transaction-id': 82426, 'amount': 1663},\n",
       "   {'transaction-id': 82438, 'amount': 1422},\n",
       "   {'transaction-id': 83071, 'amount': 1407},\n",
       "   {'transaction-id': 83097, 'amount': 1547},\n",
       "   {'transaction-id': 83914, 'amount': 1496},\n",
       "   {'transaction-id': 84140, 'amount': 1557},\n",
       "   {'transaction-id': 84546, 'amount': 1452},\n",
       "   {'transaction-id': 84871, 'amount': 1498},\n",
       "   {'transaction-id': 85269, 'amount': 1408},\n",
       "   {'transaction-id': 85282, 'amount': 1298},\n",
       "   {'transaction-id': 85393, 'amount': 1535},\n",
       "   {'transaction-id': 85639, 'amount': 1422},\n",
       "   {'transaction-id': 86494, 'amount': 1430},\n",
       "   {'transaction-id': 86804, 'amount': 1390},\n",
       "   {'transaction-id': 86813, 'amount': 1567},\n",
       "   {'transaction-id': 86936, 'amount': 1309},\n",
       "   {'transaction-id': 87256, 'amount': 1584},\n",
       "   {'transaction-id': 87369, 'amount': 1590},\n",
       "   {'transaction-id': 88050, 'amount': 1572},\n",
       "   {'transaction-id': 88317, 'amount': 1673},\n",
       "   {'transaction-id': 88596, 'amount': 1448},\n",
       "   {'transaction-id': 89728, 'amount': 1428},\n",
       "   {'transaction-id': 90374, 'amount': 1746},\n",
       "   {'transaction-id': 90723, 'amount': 1746},\n",
       "   {'transaction-id': 92554, 'amount': 1451},\n",
       "   {'transaction-id': 92851, 'amount': 1803},\n",
       "   {'transaction-id': 93382, 'amount': 1572},\n",
       "   {'transaction-id': 93489, 'amount': 1369},\n",
       "   {'transaction-id': 93558, 'amount': 1516},\n",
       "   {'transaction-id': 93587, 'amount': 1678},\n",
       "   {'transaction-id': 93630, 'amount': 1601},\n",
       "   {'transaction-id': 94175, 'amount': 1618},\n",
       "   {'transaction-id': 94309, 'amount': 1237},\n",
       "   {'transaction-id': 94315, 'amount': 1950},\n",
       "   {'transaction-id': 94318, 'amount': 1410},\n",
       "   {'transaction-id': 94402, 'amount': 1672},\n",
       "   {'transaction-id': 94809, 'amount': 1822},\n",
       "   {'transaction-id': 95117, 'amount': 1602},\n",
       "   {'transaction-id': 95693, 'amount': 1693},\n",
       "   {'transaction-id': 95698, 'amount': 1219},\n",
       "   {'transaction-id': 95909, 'amount': 1839},\n",
       "   {'transaction-id': 96066, 'amount': 1558},\n",
       "   {'transaction-id': 96550, 'amount': 1479},\n",
       "   {'transaction-id': 96998, 'amount': 1415},\n",
       "   {'transaction-id': 97174, 'amount': 1287},\n",
       "   {'transaction-id': 97176, 'amount': 1955},\n",
       "   {'transaction-id': 97199, 'amount': 1690},\n",
       "   {'transaction-id': 98230, 'amount': 1534},\n",
       "   {'transaction-id': 98329, 'amount': 1179},\n",
       "   {'transaction-id': 98519, 'amount': 1402},\n",
       "   {'transaction-id': 98799, 'amount': 1719}]})"
      ]
     },
     "execution_count": 125,
     "metadata": {},
     "output_type": "execute_result"
    }
   ],
   "source": [
    "import json\n",
    "js = lines.map(json.loads)\n",
    "# take: inspect first few elements\n",
    "js.take(3)"
   ]
  },
  {
   "cell_type": "markdown",
   "metadata": {},
   "source": [
    "### Basic Queries"
   ]
  },
  {
   "cell_type": "markdown",
   "metadata": {},
   "source": [
    "Once we parse our JSON data into proper Python objects (`dict`s, `list`s, etc.) we can perform more interesting queries by creating small Python functions to run on our data."
   ]
  },
  {
   "cell_type": "code",
   "execution_count": 126,
   "metadata": {},
   "outputs": [
    {
     "data": {
      "text/plain": [
       "({'id': 12,\n",
       "  'name': 'Alice',\n",
       "  'transactions': [{'transaction-id': 1284, 'amount': 28},\n",
       "   {'transaction-id': 2262, 'amount': 24},\n",
       "   {'transaction-id': 4392, 'amount': 25},\n",
       "   {'transaction-id': 4633, 'amount': 25},\n",
       "   {'transaction-id': 9418, 'amount': 25},\n",
       "   {'transaction-id': 9795, 'amount': 21},\n",
       "   {'transaction-id': 11345, 'amount': 22},\n",
       "   {'transaction-id': 11406, 'amount': 24},\n",
       "   {'transaction-id': 11480, 'amount': 25},\n",
       "   {'transaction-id': 12164, 'amount': 22},\n",
       "   {'transaction-id': 12738, 'amount': 27},\n",
       "   {'transaction-id': 13076, 'amount': 21},\n",
       "   {'transaction-id': 13182, 'amount': 24},\n",
       "   {'transaction-id': 14485, 'amount': 23},\n",
       "   {'transaction-id': 15001, 'amount': 24},\n",
       "   {'transaction-id': 17278, 'amount': 23},\n",
       "   {'transaction-id': 17666, 'amount': 26},\n",
       "   {'transaction-id': 18117, 'amount': 22},\n",
       "   {'transaction-id': 20855, 'amount': 23},\n",
       "   {'transaction-id': 21198, 'amount': 24},\n",
       "   {'transaction-id': 25098, 'amount': 24},\n",
       "   {'transaction-id': 27115, 'amount': 25},\n",
       "   {'transaction-id': 29519, 'amount': 22},\n",
       "   {'transaction-id': 29680, 'amount': 25},\n",
       "   {'transaction-id': 29972, 'amount': 22},\n",
       "   {'transaction-id': 30219, 'amount': 25},\n",
       "   {'transaction-id': 31149, 'amount': 21},\n",
       "   {'transaction-id': 32108, 'amount': 26},\n",
       "   {'transaction-id': 34154, 'amount': 25},\n",
       "   {'transaction-id': 36503, 'amount': 28},\n",
       "   {'transaction-id': 39491, 'amount': 26},\n",
       "   {'transaction-id': 42407, 'amount': 25},\n",
       "   {'transaction-id': 44614, 'amount': 23},\n",
       "   {'transaction-id': 46999, 'amount': 23},\n",
       "   {'transaction-id': 49119, 'amount': 24},\n",
       "   {'transaction-id': 49313, 'amount': 20},\n",
       "   {'transaction-id': 51891, 'amount': 24},\n",
       "   {'transaction-id': 54019, 'amount': 21},\n",
       "   {'transaction-id': 54845, 'amount': 22},\n",
       "   {'transaction-id': 55015, 'amount': 24},\n",
       "   {'transaction-id': 55405, 'amount': 26},\n",
       "   {'transaction-id': 59806, 'amount': 21},\n",
       "   {'transaction-id': 61898, 'amount': 23},\n",
       "   {'transaction-id': 63677, 'amount': 24},\n",
       "   {'transaction-id': 64674, 'amount': 23},\n",
       "   {'transaction-id': 65225, 'amount': 25},\n",
       "   {'transaction-id': 66331, 'amount': 23},\n",
       "   {'transaction-id': 68641, 'amount': 21},\n",
       "   {'transaction-id': 69181, 'amount': 25},\n",
       "   {'transaction-id': 72701, 'amount': 23},\n",
       "   {'transaction-id': 73823, 'amount': 28},\n",
       "   {'transaction-id': 77775, 'amount': 26},\n",
       "   {'transaction-id': 78362, 'amount': 25},\n",
       "   {'transaction-id': 80039, 'amount': 22},\n",
       "   {'transaction-id': 80480, 'amount': 25},\n",
       "   {'transaction-id': 81143, 'amount': 26},\n",
       "   {'transaction-id': 82768, 'amount': 24},\n",
       "   {'transaction-id': 85082, 'amount': 24},\n",
       "   {'transaction-id': 85815, 'amount': 25},\n",
       "   {'transaction-id': 88175, 'amount': 26},\n",
       "   {'transaction-id': 88193, 'amount': 22},\n",
       "   {'transaction-id': 88555, 'amount': 23},\n",
       "   {'transaction-id': 90266, 'amount': 25},\n",
       "   {'transaction-id': 90486, 'amount': 24},\n",
       "   {'transaction-id': 93025, 'amount': 26},\n",
       "   {'transaction-id': 97470, 'amount': 26}]},\n",
       " {'id': 14,\n",
       "  'name': 'Alice',\n",
       "  'transactions': [{'transaction-id': 419, 'amount': -14},\n",
       "   {'transaction-id': 1987, 'amount': -108},\n",
       "   {'transaction-id': 2722, 'amount': -66},\n",
       "   {'transaction-id': 2777, 'amount': -37},\n",
       "   {'transaction-id': 3018, 'amount': -15},\n",
       "   {'transaction-id': 3059, 'amount': -142},\n",
       "   {'transaction-id': 3201, 'amount': -71},\n",
       "   {'transaction-id': 3292, 'amount': -127},\n",
       "   {'transaction-id': 3295, 'amount': -67},\n",
       "   {'transaction-id': 3701, 'amount': -141},\n",
       "   {'transaction-id': 4026, 'amount': -63},\n",
       "   {'transaction-id': 5608, 'amount': -97},\n",
       "   {'transaction-id': 5985, 'amount': -108},\n",
       "   {'transaction-id': 6277, 'amount': -70},\n",
       "   {'transaction-id': 7006, 'amount': -46},\n",
       "   {'transaction-id': 7142, 'amount': 28},\n",
       "   {'transaction-id': 7185, 'amount': 20},\n",
       "   {'transaction-id': 8389, 'amount': -83},\n",
       "   {'transaction-id': 11756, 'amount': -87},\n",
       "   {'transaction-id': 12979, 'amount': 0},\n",
       "   {'transaction-id': 13508, 'amount': -59},\n",
       "   {'transaction-id': 13671, 'amount': -159},\n",
       "   {'transaction-id': 15466, 'amount': -79},\n",
       "   {'transaction-id': 15688, 'amount': -58},\n",
       "   {'transaction-id': 15692, 'amount': -19},\n",
       "   {'transaction-id': 17809, 'amount': -82},\n",
       "   {'transaction-id': 18764, 'amount': -54},\n",
       "   {'transaction-id': 19050, 'amount': -15},\n",
       "   {'transaction-id': 21135, 'amount': -69},\n",
       "   {'transaction-id': 21366, 'amount': -93},\n",
       "   {'transaction-id': 22741, 'amount': -96},\n",
       "   {'transaction-id': 23748, 'amount': -30},\n",
       "   {'transaction-id': 23889, 'amount': 0},\n",
       "   {'transaction-id': 24929, 'amount': -19},\n",
       "   {'transaction-id': 25717, 'amount': -29},\n",
       "   {'transaction-id': 25817, 'amount': -54},\n",
       "   {'transaction-id': 26224, 'amount': -36},\n",
       "   {'transaction-id': 28396, 'amount': -35},\n",
       "   {'transaction-id': 30668, 'amount': -38},\n",
       "   {'transaction-id': 30810, 'amount': -65},\n",
       "   {'transaction-id': 31085, 'amount': 0},\n",
       "   {'transaction-id': 34322, 'amount': -16},\n",
       "   {'transaction-id': 34991, 'amount': -34},\n",
       "   {'transaction-id': 35923, 'amount': -61},\n",
       "   {'transaction-id': 36283, 'amount': -32},\n",
       "   {'transaction-id': 38005, 'amount': -145},\n",
       "   {'transaction-id': 38582, 'amount': -129},\n",
       "   {'transaction-id': 42443, 'amount': -76},\n",
       "   {'transaction-id': 43325, 'amount': -25},\n",
       "   {'transaction-id': 43504, 'amount': -36},\n",
       "   {'transaction-id': 43566, 'amount': -42},\n",
       "   {'transaction-id': 43679, 'amount': -20},\n",
       "   {'transaction-id': 46764, 'amount': -95},\n",
       "   {'transaction-id': 49383, 'amount': -32},\n",
       "   {'transaction-id': 51001, 'amount': 75},\n",
       "   {'transaction-id': 51159, 'amount': -30},\n",
       "   {'transaction-id': 52234, 'amount': -91},\n",
       "   {'transaction-id': 52344, 'amount': -19},\n",
       "   {'transaction-id': 52520, 'amount': -62},\n",
       "   {'transaction-id': 53022, 'amount': -42},\n",
       "   {'transaction-id': 54813, 'amount': -34},\n",
       "   {'transaction-id': 57537, 'amount': -70},\n",
       "   {'transaction-id': 59162, 'amount': -46},\n",
       "   {'transaction-id': 59484, 'amount': -58},\n",
       "   {'transaction-id': 60019, 'amount': -63},\n",
       "   {'transaction-id': 61244, 'amount': -50},\n",
       "   {'transaction-id': 61345, 'amount': -41},\n",
       "   {'transaction-id': 63316, 'amount': -46},\n",
       "   {'transaction-id': 63828, 'amount': -149},\n",
       "   {'transaction-id': 64630, 'amount': -103},\n",
       "   {'transaction-id': 64765, 'amount': -38},\n",
       "   {'transaction-id': 64820, 'amount': -129},\n",
       "   {'transaction-id': 65151, 'amount': -13},\n",
       "   {'transaction-id': 65170, 'amount': 9},\n",
       "   {'transaction-id': 66257, 'amount': -53},\n",
       "   {'transaction-id': 69640, 'amount': -40},\n",
       "   {'transaction-id': 70613, 'amount': -10},\n",
       "   {'transaction-id': 72380, 'amount': -45},\n",
       "   {'transaction-id': 72864, 'amount': -72},\n",
       "   {'transaction-id': 73301, 'amount': -71},\n",
       "   {'transaction-id': 75228, 'amount': -105},\n",
       "   {'transaction-id': 78045, 'amount': -26},\n",
       "   {'transaction-id': 80725, 'amount': -92},\n",
       "   {'transaction-id': 82244, 'amount': -39},\n",
       "   {'transaction-id': 83763, 'amount': -97},\n",
       "   {'transaction-id': 84803, 'amount': -133},\n",
       "   {'transaction-id': 85778, 'amount': -64},\n",
       "   {'transaction-id': 85881, 'amount': -13},\n",
       "   {'transaction-id': 85953, 'amount': -92},\n",
       "   {'transaction-id': 86285, 'amount': -19},\n",
       "   {'transaction-id': 86390, 'amount': -53},\n",
       "   {'transaction-id': 86606, 'amount': -64},\n",
       "   {'transaction-id': 86832, 'amount': 37},\n",
       "   {'transaction-id': 87182, 'amount': -9},\n",
       "   {'transaction-id': 87264, 'amount': -134},\n",
       "   {'transaction-id': 87385, 'amount': -40},\n",
       "   {'transaction-id': 87571, 'amount': -81},\n",
       "   {'transaction-id': 87690, 'amount': -62},\n",
       "   {'transaction-id': 87852, 'amount': -82},\n",
       "   {'transaction-id': 89530, 'amount': -116},\n",
       "   {'transaction-id': 90263, 'amount': -136},\n",
       "   {'transaction-id': 90363, 'amount': -33},\n",
       "   {'transaction-id': 91947, 'amount': -6},\n",
       "   {'transaction-id': 92006, 'amount': -65},\n",
       "   {'transaction-id': 94393, 'amount': -77},\n",
       "   {'transaction-id': 94503, 'amount': -61},\n",
       "   {'transaction-id': 94632, 'amount': 31},\n",
       "   {'transaction-id': 94752, 'amount': -4},\n",
       "   {'transaction-id': 97788, 'amount': -152},\n",
       "   {'transaction-id': 99338, 'amount': -33},\n",
       "   {'transaction-id': 99822, 'amount': -99}]},\n",
       " {'id': 38,\n",
       "  'name': 'Alice',\n",
       "  'transactions': [{'transaction-id': 1881, 'amount': 328},\n",
       "   {'transaction-id': 2372, 'amount': 538},\n",
       "   {'transaction-id': 4586, 'amount': 484},\n",
       "   {'transaction-id': 9750, 'amount': 397},\n",
       "   {'transaction-id': 9850, 'amount': 521},\n",
       "   {'transaction-id': 13136, 'amount': 643},\n",
       "   {'transaction-id': 14874, 'amount': 506},\n",
       "   {'transaction-id': 16011, 'amount': 75},\n",
       "   {'transaction-id': 17254, 'amount': 374},\n",
       "   {'transaction-id': 18242, 'amount': 505},\n",
       "   {'transaction-id': 19524, 'amount': 383},\n",
       "   {'transaction-id': 20610, 'amount': 582},\n",
       "   {'transaction-id': 23682, 'amount': 571},\n",
       "   {'transaction-id': 28064, 'amount': 290},\n",
       "   {'transaction-id': 28298, 'amount': 670},\n",
       "   {'transaction-id': 30964, 'amount': 638},\n",
       "   {'transaction-id': 31346, 'amount': 547},\n",
       "   {'transaction-id': 36823, 'amount': 668},\n",
       "   {'transaction-id': 40366, 'amount': 475},\n",
       "   {'transaction-id': 41962, 'amount': 450},\n",
       "   {'transaction-id': 43974, 'amount': 728},\n",
       "   {'transaction-id': 44147, 'amount': 484},\n",
       "   {'transaction-id': 45784, 'amount': 646},\n",
       "   {'transaction-id': 45808, 'amount': 385},\n",
       "   {'transaction-id': 51309, 'amount': 526},\n",
       "   {'transaction-id': 51394, 'amount': 109},\n",
       "   {'transaction-id': 51504, 'amount': 628},\n",
       "   {'transaction-id': 55481, 'amount': 518},\n",
       "   {'transaction-id': 58884, 'amount': 303},\n",
       "   {'transaction-id': 59223, 'amount': 369},\n",
       "   {'transaction-id': 61235, 'amount': 446},\n",
       "   {'transaction-id': 61488, 'amount': 317},\n",
       "   {'transaction-id': 62966, 'amount': 225},\n",
       "   {'transaction-id': 64127, 'amount': 632},\n",
       "   {'transaction-id': 64404, 'amount': 368},\n",
       "   {'transaction-id': 65243, 'amount': 490},\n",
       "   {'transaction-id': 66247, 'amount': 662},\n",
       "   {'transaction-id': 70525, 'amount': 325},\n",
       "   {'transaction-id': 70826, 'amount': 405},\n",
       "   {'transaction-id': 74624, 'amount': 240},\n",
       "   {'transaction-id': 77226, 'amount': 475},\n",
       "   {'transaction-id': 77325, 'amount': 507},\n",
       "   {'transaction-id': 78552, 'amount': 343},\n",
       "   {'transaction-id': 81527, 'amount': 467},\n",
       "   {'transaction-id': 82665, 'amount': 379},\n",
       "   {'transaction-id': 88339, 'amount': 546},\n",
       "   {'transaction-id': 92568, 'amount': 480},\n",
       "   {'transaction-id': 92709, 'amount': 348},\n",
       "   {'transaction-id': 94849, 'amount': 178},\n",
       "   {'transaction-id': 94893, 'amount': 632},\n",
       "   {'transaction-id': 94987, 'amount': 76},\n",
       "   {'transaction-id': 95091, 'amount': 359},\n",
       "   {'transaction-id': 98858, 'amount': 519}]},\n",
       " {'id': 60,\n",
       "  'name': 'Alice',\n",
       "  'transactions': [{'transaction-id': 765, 'amount': 2076},\n",
       "   {'transaction-id': 1104, 'amount': 2567},\n",
       "   {'transaction-id': 1131, 'amount': 2126},\n",
       "   {'transaction-id': 2295, 'amount': 2281},\n",
       "   {'transaction-id': 2620, 'amount': 2296},\n",
       "   {'transaction-id': 3418, 'amount': 2133},\n",
       "   {'transaction-id': 4019, 'amount': 2248},\n",
       "   {'transaction-id': 4385, 'amount': 2008},\n",
       "   {'transaction-id': 5555, 'amount': 2715},\n",
       "   {'transaction-id': 6344, 'amount': 2356},\n",
       "   {'transaction-id': 7533, 'amount': 1986},\n",
       "   {'transaction-id': 8574, 'amount': 1933},\n",
       "   {'transaction-id': 10710, 'amount': 2013},\n",
       "   {'transaction-id': 13792, 'amount': 1848},\n",
       "   {'transaction-id': 14391, 'amount': 2287},\n",
       "   {'transaction-id': 15536, 'amount': 2490},\n",
       "   {'transaction-id': 16266, 'amount': 2425},\n",
       "   {'transaction-id': 18244, 'amount': 1883},\n",
       "   {'transaction-id': 19465, 'amount': 2215},\n",
       "   {'transaction-id': 20177, 'amount': 1952},\n",
       "   {'transaction-id': 20687, 'amount': 1782},\n",
       "   {'transaction-id': 21844, 'amount': 2342},\n",
       "   {'transaction-id': 21994, 'amount': 2424},\n",
       "   {'transaction-id': 23107, 'amount': 2241},\n",
       "   {'transaction-id': 23876, 'amount': 2318},\n",
       "   {'transaction-id': 24729, 'amount': 2345},\n",
       "   {'transaction-id': 25471, 'amount': 2075},\n",
       "   {'transaction-id': 25542, 'amount': 2131},\n",
       "   {'transaction-id': 25989, 'amount': 2240},\n",
       "   {'transaction-id': 26003, 'amount': 2396},\n",
       "   {'transaction-id': 27139, 'amount': 2224},\n",
       "   {'transaction-id': 27333, 'amount': 2259},\n",
       "   {'transaction-id': 27694, 'amount': 2272},\n",
       "   {'transaction-id': 28860, 'amount': 2180},\n",
       "   {'transaction-id': 29107, 'amount': 2377},\n",
       "   {'transaction-id': 30938, 'amount': 2274},\n",
       "   {'transaction-id': 31190, 'amount': 2367},\n",
       "   {'transaction-id': 32242, 'amount': 2219},\n",
       "   {'transaction-id': 32250, 'amount': 1949},\n",
       "   {'transaction-id': 32297, 'amount': 2235},\n",
       "   {'transaction-id': 34950, 'amount': 2303},\n",
       "   {'transaction-id': 35297, 'amount': 2246},\n",
       "   {'transaction-id': 36316, 'amount': 2099},\n",
       "   {'transaction-id': 37130, 'amount': 2171},\n",
       "   {'transaction-id': 37242, 'amount': 2079},\n",
       "   {'transaction-id': 37541, 'amount': 2382},\n",
       "   {'transaction-id': 37638, 'amount': 2489},\n",
       "   {'transaction-id': 38782, 'amount': 2267},\n",
       "   {'transaction-id': 39986, 'amount': 2330},\n",
       "   {'transaction-id': 40655, 'amount': 2524},\n",
       "   {'transaction-id': 40719, 'amount': 2382},\n",
       "   {'transaction-id': 41083, 'amount': 2433},\n",
       "   {'transaction-id': 41563, 'amount': 2022},\n",
       "   {'transaction-id': 41835, 'amount': 2224},\n",
       "   {'transaction-id': 43252, 'amount': 2160},\n",
       "   {'transaction-id': 43342, 'amount': 2218},\n",
       "   {'transaction-id': 43890, 'amount': 1896},\n",
       "   {'transaction-id': 45927, 'amount': 2154},\n",
       "   {'transaction-id': 45985, 'amount': 1966},\n",
       "   {'transaction-id': 46997, 'amount': 2096},\n",
       "   {'transaction-id': 47997, 'amount': 2300},\n",
       "   {'transaction-id': 48014, 'amount': 2280},\n",
       "   {'transaction-id': 50749, 'amount': 1916},\n",
       "   {'transaction-id': 51382, 'amount': 2173},\n",
       "   {'transaction-id': 51848, 'amount': 2610},\n",
       "   {'transaction-id': 54635, 'amount': 2203},\n",
       "   {'transaction-id': 54745, 'amount': 2251},\n",
       "   {'transaction-id': 54999, 'amount': 1937},\n",
       "   {'transaction-id': 55553, 'amount': 2221},\n",
       "   {'transaction-id': 56844, 'amount': 2084},\n",
       "   {'transaction-id': 57165, 'amount': 2208},\n",
       "   {'transaction-id': 58565, 'amount': 2370},\n",
       "   {'transaction-id': 60660, 'amount': 2383},\n",
       "   {'transaction-id': 61556, 'amount': 2241},\n",
       "   {'transaction-id': 61714, 'amount': 2283},\n",
       "   {'transaction-id': 63325, 'amount': 2206},\n",
       "   {'transaction-id': 64126, 'amount': 2137},\n",
       "   {'transaction-id': 65200, 'amount': 2489},\n",
       "   {'transaction-id': 65645, 'amount': 1875},\n",
       "   {'transaction-id': 66397, 'amount': 2008},\n",
       "   {'transaction-id': 67005, 'amount': 2018},\n",
       "   {'transaction-id': 68573, 'amount': 2625},\n",
       "   {'transaction-id': 68910, 'amount': 2144},\n",
       "   {'transaction-id': 71429, 'amount': 1969},\n",
       "   {'transaction-id': 71577, 'amount': 1873},\n",
       "   {'transaction-id': 72059, 'amount': 2420},\n",
       "   {'transaction-id': 72675, 'amount': 2627},\n",
       "   {'transaction-id': 73062, 'amount': 2325},\n",
       "   {'transaction-id': 73167, 'amount': 2306},\n",
       "   {'transaction-id': 73883, 'amount': 2585},\n",
       "   {'transaction-id': 73939, 'amount': 2340},\n",
       "   {'transaction-id': 75167, 'amount': 2186},\n",
       "   {'transaction-id': 76040, 'amount': 2608},\n",
       "   {'transaction-id': 76213, 'amount': 2015},\n",
       "   {'transaction-id': 77296, 'amount': 1774},\n",
       "   {'transaction-id': 78044, 'amount': 2184},\n",
       "   {'transaction-id': 78315, 'amount': 2262},\n",
       "   {'transaction-id': 79744, 'amount': 2415},\n",
       "   {'transaction-id': 80765, 'amount': 2124},\n",
       "   {'transaction-id': 81049, 'amount': 2413},\n",
       "   {'transaction-id': 82218, 'amount': 2148},\n",
       "   {'transaction-id': 82232, 'amount': 2422},\n",
       "   {'transaction-id': 82877, 'amount': 2292},\n",
       "   {'transaction-id': 84551, 'amount': 2326},\n",
       "   {'transaction-id': 87117, 'amount': 2127},\n",
       "   {'transaction-id': 87126, 'amount': 2067},\n",
       "   {'transaction-id': 87283, 'amount': 2022},\n",
       "   {'transaction-id': 87549, 'amount': 2036},\n",
       "   {'transaction-id': 89224, 'amount': 2134},\n",
       "   {'transaction-id': 89587, 'amount': 2238},\n",
       "   {'transaction-id': 90940, 'amount': 2417},\n",
       "   {'transaction-id': 92716, 'amount': 2112},\n",
       "   {'transaction-id': 94114, 'amount': 2118},\n",
       "   {'transaction-id': 95967, 'amount': 2333},\n",
       "   {'transaction-id': 96316, 'amount': 2549},\n",
       "   {'transaction-id': 96791, 'amount': 2298},\n",
       "   {'transaction-id': 97512, 'amount': 2704},\n",
       "   {'transaction-id': 98500, 'amount': 2173},\n",
       "   {'transaction-id': 98570, 'amount': 2173},\n",
       "   {'transaction-id': 99258, 'amount': 2131},\n",
       "   {'transaction-id': 99423, 'amount': 1965},\n",
       "   {'transaction-id': 99801, 'amount': 2087},\n",
       "   {'transaction-id': 99868, 'amount': 2479}]},\n",
       " {'id': 69,\n",
       "  'name': 'Alice',\n",
       "  'transactions': [{'transaction-id': 1210, 'amount': 692},\n",
       "   {'transaction-id': 3527, 'amount': 622},\n",
       "   {'transaction-id': 3917, 'amount': 717},\n",
       "   {'transaction-id': 5142, 'amount': 693},\n",
       "   {'transaction-id': 5295, 'amount': 622},\n",
       "   {'transaction-id': 5385, 'amount': 702},\n",
       "   {'transaction-id': 8318, 'amount': 660},\n",
       "   {'transaction-id': 9214, 'amount': 692},\n",
       "   {'transaction-id': 9359, 'amount': 728},\n",
       "   {'transaction-id': 14620, 'amount': 679},\n",
       "   {'transaction-id': 16616, 'amount': 736},\n",
       "   {'transaction-id': 17497, 'amount': 612},\n",
       "   {'transaction-id': 18328, 'amount': 751},\n",
       "   {'transaction-id': 18732, 'amount': 702},\n",
       "   {'transaction-id': 19909, 'amount': 676},\n",
       "   {'transaction-id': 20013, 'amount': 755},\n",
       "   {'transaction-id': 21013, 'amount': 635},\n",
       "   {'transaction-id': 21043, 'amount': 629},\n",
       "   {'transaction-id': 21123, 'amount': 737},\n",
       "   {'transaction-id': 22990, 'amount': 619},\n",
       "   {'transaction-id': 24495, 'amount': 680},\n",
       "   {'transaction-id': 25434, 'amount': 730},\n",
       "   {'transaction-id': 33660, 'amount': 677},\n",
       "   {'transaction-id': 35170, 'amount': 597},\n",
       "   {'transaction-id': 37741, 'amount': 815},\n",
       "   {'transaction-id': 38088, 'amount': 751},\n",
       "   {'transaction-id': 40433, 'amount': 704},\n",
       "   {'transaction-id': 41832, 'amount': 642},\n",
       "   {'transaction-id': 42164, 'amount': 660},\n",
       "   {'transaction-id': 44342, 'amount': 567},\n",
       "   {'transaction-id': 45506, 'amount': 696},\n",
       "   {'transaction-id': 47549, 'amount': 653},\n",
       "   {'transaction-id': 50958, 'amount': 728},\n",
       "   {'transaction-id': 52750, 'amount': 698},\n",
       "   {'transaction-id': 56213, 'amount': 629},\n",
       "   {'transaction-id': 56708, 'amount': 651},\n",
       "   {'transaction-id': 66322, 'amount': 785},\n",
       "   {'transaction-id': 68776, 'amount': 688},\n",
       "   {'transaction-id': 69005, 'amount': 713},\n",
       "   {'transaction-id': 73222, 'amount': 734},\n",
       "   {'transaction-id': 74632, 'amount': 812},\n",
       "   {'transaction-id': 75486, 'amount': 686},\n",
       "   {'transaction-id': 77192, 'amount': 684},\n",
       "   {'transaction-id': 77501, 'amount': 648},\n",
       "   {'transaction-id': 78405, 'amount': 726},\n",
       "   {'transaction-id': 83059, 'amount': 595},\n",
       "   {'transaction-id': 83983, 'amount': 657},\n",
       "   {'transaction-id': 87137, 'amount': 743},\n",
       "   {'transaction-id': 88183, 'amount': 763},\n",
       "   {'transaction-id': 90549, 'amount': 657},\n",
       "   {'transaction-id': 92064, 'amount': 707},\n",
       "   {'transaction-id': 92648, 'amount': 679},\n",
       "   {'transaction-id': 92979, 'amount': 655},\n",
       "   {'transaction-id': 94426, 'amount': 585},\n",
       "   {'transaction-id': 95749, 'amount': 677},\n",
       "   {'transaction-id': 96082, 'amount': 746},\n",
       "   {'transaction-id': 96412, 'amount': 730},\n",
       "   {'transaction-id': 96962, 'amount': 572},\n",
       "   {'transaction-id': 98150, 'amount': 804},\n",
       "   {'transaction-id': 98843, 'amount': 757},\n",
       "   {'transaction-id': 98958, 'amount': 652},\n",
       "   {'transaction-id': 99429, 'amount': 755},\n",
       "   {'transaction-id': 99773, 'amount': 684}]})"
      ]
     },
     "execution_count": 126,
     "metadata": {},
     "output_type": "execute_result"
    }
   ],
   "source": [
    "# filter: keep only some elements of the sequence\n",
    "js.filter(lambda record: record['name'] == 'Alice').take(5)"
   ]
  },
  {
   "cell_type": "code",
   "execution_count": 127,
   "metadata": {},
   "outputs": [
    {
     "data": {
      "text/plain": [
       "({'name': 'Alice', 'count': 66},\n",
       " {'name': 'Alice', 'count': 111},\n",
       " {'name': 'Alice', 'count': 53},\n",
       " {'name': 'Alice', 'count': 123},\n",
       " {'name': 'Alice', 'count': 63})"
      ]
     },
     "execution_count": 127,
     "metadata": {},
     "output_type": "execute_result"
    }
   ],
   "source": [
    "def count_transactions(d):\n",
    "    return {'name': d['name'], 'count': len(d['transactions'])}\n",
    "\n",
    "# map: apply a function to each element\n",
    "(js.filter(lambda record: record['name'] == 'Alice')\n",
    "   .map(count_transactions)\n",
    "   .take(5))"
   ]
  },
  {
   "cell_type": "code",
   "execution_count": 128,
   "metadata": {},
   "outputs": [
    {
     "data": {
      "text/plain": [
       "(66, 111, 53, 123, 63)"
      ]
     },
     "execution_count": 128,
     "metadata": {},
     "output_type": "execute_result"
    }
   ],
   "source": [
    "# pluck: select a field, as from a dictionary, element[field]\n",
    "(js.filter(lambda record: record['name'] == 'Alice')\n",
    "   .map(count_transactions)\n",
    "   .pluck('count')\n",
    "   .take(5))"
   ]
  },
  {
   "cell_type": "code",
   "execution_count": 129,
   "metadata": {},
   "outputs": [
    {
     "data": {
      "text/plain": [
       "120.71933333333334"
      ]
     },
     "execution_count": 129,
     "metadata": {},
     "output_type": "execute_result"
    }
   ],
   "source": [
    "# Average number of transactions for all of the Alice entries\n",
    "(js.filter(lambda record: record['name'] == 'Alice')\n",
    "   .map(count_transactions)\n",
    "   .pluck('count')\n",
    "   .mean()\n",
    "   .compute())"
   ]
  },
  {
   "cell_type": "markdown",
   "metadata": {},
   "source": [
    "### Use `flatten` to de-nest"
   ]
  },
  {
   "cell_type": "markdown",
   "metadata": {},
   "source": [
    "In the example below we see the use of `.flatten()` to flatten results.  We compute the average amount for all transactions for all Alices."
   ]
  },
  {
   "cell_type": "code",
   "execution_count": 130,
   "metadata": {},
   "outputs": [
    {
     "data": {
      "text/plain": [
       "([{'transaction-id': 1284, 'amount': 28},\n",
       "  {'transaction-id': 2262, 'amount': 24},\n",
       "  {'transaction-id': 4392, 'amount': 25},\n",
       "  {'transaction-id': 4633, 'amount': 25},\n",
       "  {'transaction-id': 9418, 'amount': 25},\n",
       "  {'transaction-id': 9795, 'amount': 21},\n",
       "  {'transaction-id': 11345, 'amount': 22},\n",
       "  {'transaction-id': 11406, 'amount': 24},\n",
       "  {'transaction-id': 11480, 'amount': 25},\n",
       "  {'transaction-id': 12164, 'amount': 22},\n",
       "  {'transaction-id': 12738, 'amount': 27},\n",
       "  {'transaction-id': 13076, 'amount': 21},\n",
       "  {'transaction-id': 13182, 'amount': 24},\n",
       "  {'transaction-id': 14485, 'amount': 23},\n",
       "  {'transaction-id': 15001, 'amount': 24},\n",
       "  {'transaction-id': 17278, 'amount': 23},\n",
       "  {'transaction-id': 17666, 'amount': 26},\n",
       "  {'transaction-id': 18117, 'amount': 22},\n",
       "  {'transaction-id': 20855, 'amount': 23},\n",
       "  {'transaction-id': 21198, 'amount': 24},\n",
       "  {'transaction-id': 25098, 'amount': 24},\n",
       "  {'transaction-id': 27115, 'amount': 25},\n",
       "  {'transaction-id': 29519, 'amount': 22},\n",
       "  {'transaction-id': 29680, 'amount': 25},\n",
       "  {'transaction-id': 29972, 'amount': 22},\n",
       "  {'transaction-id': 30219, 'amount': 25},\n",
       "  {'transaction-id': 31149, 'amount': 21},\n",
       "  {'transaction-id': 32108, 'amount': 26},\n",
       "  {'transaction-id': 34154, 'amount': 25},\n",
       "  {'transaction-id': 36503, 'amount': 28},\n",
       "  {'transaction-id': 39491, 'amount': 26},\n",
       "  {'transaction-id': 42407, 'amount': 25},\n",
       "  {'transaction-id': 44614, 'amount': 23},\n",
       "  {'transaction-id': 46999, 'amount': 23},\n",
       "  {'transaction-id': 49119, 'amount': 24},\n",
       "  {'transaction-id': 49313, 'amount': 20},\n",
       "  {'transaction-id': 51891, 'amount': 24},\n",
       "  {'transaction-id': 54019, 'amount': 21},\n",
       "  {'transaction-id': 54845, 'amount': 22},\n",
       "  {'transaction-id': 55015, 'amount': 24},\n",
       "  {'transaction-id': 55405, 'amount': 26},\n",
       "  {'transaction-id': 59806, 'amount': 21},\n",
       "  {'transaction-id': 61898, 'amount': 23},\n",
       "  {'transaction-id': 63677, 'amount': 24},\n",
       "  {'transaction-id': 64674, 'amount': 23},\n",
       "  {'transaction-id': 65225, 'amount': 25},\n",
       "  {'transaction-id': 66331, 'amount': 23},\n",
       "  {'transaction-id': 68641, 'amount': 21},\n",
       "  {'transaction-id': 69181, 'amount': 25},\n",
       "  {'transaction-id': 72701, 'amount': 23},\n",
       "  {'transaction-id': 73823, 'amount': 28},\n",
       "  {'transaction-id': 77775, 'amount': 26},\n",
       "  {'transaction-id': 78362, 'amount': 25},\n",
       "  {'transaction-id': 80039, 'amount': 22},\n",
       "  {'transaction-id': 80480, 'amount': 25},\n",
       "  {'transaction-id': 81143, 'amount': 26},\n",
       "  {'transaction-id': 82768, 'amount': 24},\n",
       "  {'transaction-id': 85082, 'amount': 24},\n",
       "  {'transaction-id': 85815, 'amount': 25},\n",
       "  {'transaction-id': 88175, 'amount': 26},\n",
       "  {'transaction-id': 88193, 'amount': 22},\n",
       "  {'transaction-id': 88555, 'amount': 23},\n",
       "  {'transaction-id': 90266, 'amount': 25},\n",
       "  {'transaction-id': 90486, 'amount': 24},\n",
       "  {'transaction-id': 93025, 'amount': 26},\n",
       "  {'transaction-id': 97470, 'amount': 26}],\n",
       " [{'transaction-id': 419, 'amount': -14},\n",
       "  {'transaction-id': 1987, 'amount': -108},\n",
       "  {'transaction-id': 2722, 'amount': -66},\n",
       "  {'transaction-id': 2777, 'amount': -37},\n",
       "  {'transaction-id': 3018, 'amount': -15},\n",
       "  {'transaction-id': 3059, 'amount': -142},\n",
       "  {'transaction-id': 3201, 'amount': -71},\n",
       "  {'transaction-id': 3292, 'amount': -127},\n",
       "  {'transaction-id': 3295, 'amount': -67},\n",
       "  {'transaction-id': 3701, 'amount': -141},\n",
       "  {'transaction-id': 4026, 'amount': -63},\n",
       "  {'transaction-id': 5608, 'amount': -97},\n",
       "  {'transaction-id': 5985, 'amount': -108},\n",
       "  {'transaction-id': 6277, 'amount': -70},\n",
       "  {'transaction-id': 7006, 'amount': -46},\n",
       "  {'transaction-id': 7142, 'amount': 28},\n",
       "  {'transaction-id': 7185, 'amount': 20},\n",
       "  {'transaction-id': 8389, 'amount': -83},\n",
       "  {'transaction-id': 11756, 'amount': -87},\n",
       "  {'transaction-id': 12979, 'amount': 0},\n",
       "  {'transaction-id': 13508, 'amount': -59},\n",
       "  {'transaction-id': 13671, 'amount': -159},\n",
       "  {'transaction-id': 15466, 'amount': -79},\n",
       "  {'transaction-id': 15688, 'amount': -58},\n",
       "  {'transaction-id': 15692, 'amount': -19},\n",
       "  {'transaction-id': 17809, 'amount': -82},\n",
       "  {'transaction-id': 18764, 'amount': -54},\n",
       "  {'transaction-id': 19050, 'amount': -15},\n",
       "  {'transaction-id': 21135, 'amount': -69},\n",
       "  {'transaction-id': 21366, 'amount': -93},\n",
       "  {'transaction-id': 22741, 'amount': -96},\n",
       "  {'transaction-id': 23748, 'amount': -30},\n",
       "  {'transaction-id': 23889, 'amount': 0},\n",
       "  {'transaction-id': 24929, 'amount': -19},\n",
       "  {'transaction-id': 25717, 'amount': -29},\n",
       "  {'transaction-id': 25817, 'amount': -54},\n",
       "  {'transaction-id': 26224, 'amount': -36},\n",
       "  {'transaction-id': 28396, 'amount': -35},\n",
       "  {'transaction-id': 30668, 'amount': -38},\n",
       "  {'transaction-id': 30810, 'amount': -65},\n",
       "  {'transaction-id': 31085, 'amount': 0},\n",
       "  {'transaction-id': 34322, 'amount': -16},\n",
       "  {'transaction-id': 34991, 'amount': -34},\n",
       "  {'transaction-id': 35923, 'amount': -61},\n",
       "  {'transaction-id': 36283, 'amount': -32},\n",
       "  {'transaction-id': 38005, 'amount': -145},\n",
       "  {'transaction-id': 38582, 'amount': -129},\n",
       "  {'transaction-id': 42443, 'amount': -76},\n",
       "  {'transaction-id': 43325, 'amount': -25},\n",
       "  {'transaction-id': 43504, 'amount': -36},\n",
       "  {'transaction-id': 43566, 'amount': -42},\n",
       "  {'transaction-id': 43679, 'amount': -20},\n",
       "  {'transaction-id': 46764, 'amount': -95},\n",
       "  {'transaction-id': 49383, 'amount': -32},\n",
       "  {'transaction-id': 51001, 'amount': 75},\n",
       "  {'transaction-id': 51159, 'amount': -30},\n",
       "  {'transaction-id': 52234, 'amount': -91},\n",
       "  {'transaction-id': 52344, 'amount': -19},\n",
       "  {'transaction-id': 52520, 'amount': -62},\n",
       "  {'transaction-id': 53022, 'amount': -42},\n",
       "  {'transaction-id': 54813, 'amount': -34},\n",
       "  {'transaction-id': 57537, 'amount': -70},\n",
       "  {'transaction-id': 59162, 'amount': -46},\n",
       "  {'transaction-id': 59484, 'amount': -58},\n",
       "  {'transaction-id': 60019, 'amount': -63},\n",
       "  {'transaction-id': 61244, 'amount': -50},\n",
       "  {'transaction-id': 61345, 'amount': -41},\n",
       "  {'transaction-id': 63316, 'amount': -46},\n",
       "  {'transaction-id': 63828, 'amount': -149},\n",
       "  {'transaction-id': 64630, 'amount': -103},\n",
       "  {'transaction-id': 64765, 'amount': -38},\n",
       "  {'transaction-id': 64820, 'amount': -129},\n",
       "  {'transaction-id': 65151, 'amount': -13},\n",
       "  {'transaction-id': 65170, 'amount': 9},\n",
       "  {'transaction-id': 66257, 'amount': -53},\n",
       "  {'transaction-id': 69640, 'amount': -40},\n",
       "  {'transaction-id': 70613, 'amount': -10},\n",
       "  {'transaction-id': 72380, 'amount': -45},\n",
       "  {'transaction-id': 72864, 'amount': -72},\n",
       "  {'transaction-id': 73301, 'amount': -71},\n",
       "  {'transaction-id': 75228, 'amount': -105},\n",
       "  {'transaction-id': 78045, 'amount': -26},\n",
       "  {'transaction-id': 80725, 'amount': -92},\n",
       "  {'transaction-id': 82244, 'amount': -39},\n",
       "  {'transaction-id': 83763, 'amount': -97},\n",
       "  {'transaction-id': 84803, 'amount': -133},\n",
       "  {'transaction-id': 85778, 'amount': -64},\n",
       "  {'transaction-id': 85881, 'amount': -13},\n",
       "  {'transaction-id': 85953, 'amount': -92},\n",
       "  {'transaction-id': 86285, 'amount': -19},\n",
       "  {'transaction-id': 86390, 'amount': -53},\n",
       "  {'transaction-id': 86606, 'amount': -64},\n",
       "  {'transaction-id': 86832, 'amount': 37},\n",
       "  {'transaction-id': 87182, 'amount': -9},\n",
       "  {'transaction-id': 87264, 'amount': -134},\n",
       "  {'transaction-id': 87385, 'amount': -40},\n",
       "  {'transaction-id': 87571, 'amount': -81},\n",
       "  {'transaction-id': 87690, 'amount': -62},\n",
       "  {'transaction-id': 87852, 'amount': -82},\n",
       "  {'transaction-id': 89530, 'amount': -116},\n",
       "  {'transaction-id': 90263, 'amount': -136},\n",
       "  {'transaction-id': 90363, 'amount': -33},\n",
       "  {'transaction-id': 91947, 'amount': -6},\n",
       "  {'transaction-id': 92006, 'amount': -65},\n",
       "  {'transaction-id': 94393, 'amount': -77},\n",
       "  {'transaction-id': 94503, 'amount': -61},\n",
       "  {'transaction-id': 94632, 'amount': 31},\n",
       "  {'transaction-id': 94752, 'amount': -4},\n",
       "  {'transaction-id': 97788, 'amount': -152},\n",
       "  {'transaction-id': 99338, 'amount': -33},\n",
       "  {'transaction-id': 99822, 'amount': -99}],\n",
       " [{'transaction-id': 1881, 'amount': 328},\n",
       "  {'transaction-id': 2372, 'amount': 538},\n",
       "  {'transaction-id': 4586, 'amount': 484},\n",
       "  {'transaction-id': 9750, 'amount': 397},\n",
       "  {'transaction-id': 9850, 'amount': 521},\n",
       "  {'transaction-id': 13136, 'amount': 643},\n",
       "  {'transaction-id': 14874, 'amount': 506},\n",
       "  {'transaction-id': 16011, 'amount': 75},\n",
       "  {'transaction-id': 17254, 'amount': 374},\n",
       "  {'transaction-id': 18242, 'amount': 505},\n",
       "  {'transaction-id': 19524, 'amount': 383},\n",
       "  {'transaction-id': 20610, 'amount': 582},\n",
       "  {'transaction-id': 23682, 'amount': 571},\n",
       "  {'transaction-id': 28064, 'amount': 290},\n",
       "  {'transaction-id': 28298, 'amount': 670},\n",
       "  {'transaction-id': 30964, 'amount': 638},\n",
       "  {'transaction-id': 31346, 'amount': 547},\n",
       "  {'transaction-id': 36823, 'amount': 668},\n",
       "  {'transaction-id': 40366, 'amount': 475},\n",
       "  {'transaction-id': 41962, 'amount': 450},\n",
       "  {'transaction-id': 43974, 'amount': 728},\n",
       "  {'transaction-id': 44147, 'amount': 484},\n",
       "  {'transaction-id': 45784, 'amount': 646},\n",
       "  {'transaction-id': 45808, 'amount': 385},\n",
       "  {'transaction-id': 51309, 'amount': 526},\n",
       "  {'transaction-id': 51394, 'amount': 109},\n",
       "  {'transaction-id': 51504, 'amount': 628},\n",
       "  {'transaction-id': 55481, 'amount': 518},\n",
       "  {'transaction-id': 58884, 'amount': 303},\n",
       "  {'transaction-id': 59223, 'amount': 369},\n",
       "  {'transaction-id': 61235, 'amount': 446},\n",
       "  {'transaction-id': 61488, 'amount': 317},\n",
       "  {'transaction-id': 62966, 'amount': 225},\n",
       "  {'transaction-id': 64127, 'amount': 632},\n",
       "  {'transaction-id': 64404, 'amount': 368},\n",
       "  {'transaction-id': 65243, 'amount': 490},\n",
       "  {'transaction-id': 66247, 'amount': 662},\n",
       "  {'transaction-id': 70525, 'amount': 325},\n",
       "  {'transaction-id': 70826, 'amount': 405},\n",
       "  {'transaction-id': 74624, 'amount': 240},\n",
       "  {'transaction-id': 77226, 'amount': 475},\n",
       "  {'transaction-id': 77325, 'amount': 507},\n",
       "  {'transaction-id': 78552, 'amount': 343},\n",
       "  {'transaction-id': 81527, 'amount': 467},\n",
       "  {'transaction-id': 82665, 'amount': 379},\n",
       "  {'transaction-id': 88339, 'amount': 546},\n",
       "  {'transaction-id': 92568, 'amount': 480},\n",
       "  {'transaction-id': 92709, 'amount': 348},\n",
       "  {'transaction-id': 94849, 'amount': 178},\n",
       "  {'transaction-id': 94893, 'amount': 632},\n",
       "  {'transaction-id': 94987, 'amount': 76},\n",
       "  {'transaction-id': 95091, 'amount': 359},\n",
       "  {'transaction-id': 98858, 'amount': 519}])"
      ]
     },
     "execution_count": 130,
     "metadata": {},
     "output_type": "execute_result"
    }
   ],
   "source": [
    "js.filter(lambda record: record['name'] == 'Alice').pluck('transactions').take(3)"
   ]
  },
  {
   "cell_type": "code",
   "execution_count": 131,
   "metadata": {},
   "outputs": [
    {
     "data": {
      "text/plain": [
       "({'transaction-id': 1284, 'amount': 28},\n",
       " {'transaction-id': 2262, 'amount': 24},\n",
       " {'transaction-id': 4392, 'amount': 25})"
      ]
     },
     "execution_count": 131,
     "metadata": {},
     "output_type": "execute_result"
    }
   ],
   "source": [
    "(js.filter(lambda record: record['name'] == 'Alice')\n",
    "   .pluck('transactions')\n",
    "   .flatten()\n",
    "   .take(3))"
   ]
  },
  {
   "cell_type": "code",
   "execution_count": 132,
   "metadata": {},
   "outputs": [
    {
     "data": {
      "text/plain": [
       "(28, 24, 25)"
      ]
     },
     "execution_count": 132,
     "metadata": {},
     "output_type": "execute_result"
    }
   ],
   "source": [
    "(js.filter(lambda record: record['name'] == 'Alice')\n",
    "   .pluck('transactions')\n",
    "   .flatten()\n",
    "   .pluck('amount')\n",
    "   .take(3))"
   ]
  },
  {
   "cell_type": "code",
   "execution_count": 133,
   "metadata": {},
   "outputs": [
    {
     "data": {
      "text/plain": [
       "1392.7141634314305"
      ]
     },
     "execution_count": 133,
     "metadata": {},
     "output_type": "execute_result"
    }
   ],
   "source": [
    "(js.filter(lambda record: record['name'] == 'Alice')\n",
    "   .pluck('transactions')\n",
    "   .flatten()\n",
    "   .pluck('amount')\n",
    "   .mean()\n",
    "   .compute())"
   ]
  },
  {
   "cell_type": "markdown",
   "metadata": {},
   "source": [
    "### Groupby and Foldby"
   ]
  },
  {
   "cell_type": "markdown",
   "metadata": {},
   "source": [
    "Often we want to group data by some function or key.  We can do this either with the `.groupby` method, which is straightforward but forces a full shuffle of the data (expensive) or with the harder-to-use but faster `.foldby` method, which does a streaming combined groupby and reduction.\n",
    "\n",
    "*  `groupby`:  Shuffles data so that all items with the same key are in the same key-value pair\n",
    "*  `foldby`:  Walks through the data accumulating a result per key\n",
    "\n",
    "*Note: the full groupby is particularly bad. In actual workloads you would do well to use `foldby` or switch to `DataFrame`s if possible.*"
   ]
  },
  {
   "cell_type": "markdown",
   "metadata": {},
   "source": [
    "### `groupby`"
   ]
  },
  {
   "cell_type": "markdown",
   "metadata": {},
   "source": [
    "Groupby collects items in your collection so that all items with the same value under some function are collected together into a key-value pair."
   ]
  },
  {
   "cell_type": "code",
   "execution_count": 134,
   "metadata": {},
   "outputs": [
    {
     "data": {
      "text/plain": [
       "[(7, ['Charlie']), (3, ['Bob', 'Dan']), (5, ['Frank', 'Edith', 'Alice'])]"
      ]
     },
     "execution_count": 134,
     "metadata": {},
     "output_type": "execute_result"
    }
   ],
   "source": [
    "b = db.from_sequence(['Alice', 'Bob', 'Charlie', 'Dan', 'Edith', 'Frank'])\n",
    "b.groupby(len).compute()  # names grouped by length"
   ]
  },
  {
   "cell_type": "code",
   "execution_count": 135,
   "metadata": {},
   "outputs": [
    {
     "data": {
      "text/plain": [
       "[(0, [8, 0, 6, 2, 4]), (1, [7, 9, 5, 1, 3])]"
      ]
     },
     "execution_count": 135,
     "metadata": {},
     "output_type": "execute_result"
    }
   ],
   "source": [
    "b = db.from_sequence(list(range(10)))\n",
    "b.groupby(lambda x: x % 2).compute()"
   ]
  },
  {
   "cell_type": "code",
   "execution_count": 136,
   "metadata": {},
   "outputs": [
    {
     "data": {
      "text/plain": [
       "[(0, 8), (1, 9)]"
      ]
     },
     "execution_count": 136,
     "metadata": {},
     "output_type": "execute_result"
    }
   ],
   "source": [
    "b.groupby(lambda x: x % 2).starmap(lambda k, v: (k, max(v))).compute()"
   ]
  },
  {
   "cell_type": "markdown",
   "metadata": {},
   "source": [
    "### `foldby`"
   ]
  },
  {
   "cell_type": "markdown",
   "metadata": {},
   "source": [
    "Foldby can be quite odd at first.  It is similar to the following functions from other libraries:\n",
    "\n",
    "*  [`toolz.reduceby`](http://toolz.readthedocs.io/en/latest/streaming-analytics.html#streaming-split-apply-combine)\n",
    "*  [`pyspark.RDD.combineByKey`](http://abshinn.github.io/python/apache-spark/2014/10/11/using-combinebykey-in-apache-spark/)\n",
    "\n",
    "When using `foldby` you provide \n",
    "\n",
    "1.  A key function on which to group elements\n",
    "2.  A binary operator such as you would pass to `reduce` that you use to perform reduction per each group\n",
    "3.  A combine binary operator that can combine the results of two `reduce` calls on different parts of your dataset.\n",
    "\n",
    "Your reduction must be associative.  It will happen in parallel in each of the partitions of your dataset.  Then all of these intermediate results will be combined by the `combine` binary operator."
   ]
  },
  {
   "cell_type": "code",
   "execution_count": 137,
   "metadata": {},
   "outputs": [
    {
     "data": {
      "text/plain": [
       "[(0, 8), (1, 9)]"
      ]
     },
     "execution_count": 137,
     "metadata": {},
     "output_type": "execute_result"
    }
   ],
   "source": [
    "is_even = lambda x: x % 2\n",
    "b.foldby(is_even, binop=max, combine=max).compute()"
   ]
  },
  {
   "cell_type": "markdown",
   "metadata": {},
   "source": [
    "### Example with account data"
   ]
  },
  {
   "cell_type": "markdown",
   "metadata": {},
   "source": [
    "We find the number of people with the same name."
   ]
  },
  {
   "cell_type": "code",
   "execution_count": 138,
   "metadata": {
    "scrolled": true
   },
   "outputs": [
    {
     "name": "stdout",
     "output_type": "stream",
     "text": [
      "[('Alice', 180), ('Alice', 180), ('Alice', 180), ('Alice', 180), ('Alice', 180), ('Alice', 180), ('Alice', 210), ('Alice', 210), ('Bob', 98), ('Bob', 102), ('Bob', 118), ('Bob', 118), ('Bob', 200), ('Bob', 200), ('Charlie', 132), ('Charlie', 132), ('Charlie', 132), ('Charlie', 132), ('Charlie', 132), ('Charlie', 154), ('Charlie', 286), ('Dan', 84), ('Dan', 84), ('Dan', 84), ('Dan', 84), ('Dan', 84), ('Dan', 98), ('Dan', 182), ('Edith', 100), ('Edith', 102), ('Edith', 102), ('Edith', 102), ('Edith', 102), ('Edith', 103), ('Edith', 118), ('Edith', 118), ('Frank', 114), ('Frank', 115), ('Frank', 116), ('Frank', 117), ('Frank', 129), ('Frank', 134), ('Frank', 228), ('George', 131), ('George', 132), ('George', 152), ('George', 154), ('George', 262), ('George', 263), ('Hannah', 138), ('Hannah', 138), ('Hannah', 138), ('Hannah', 138), ('Hannah', 138), ('Hannah', 138), ('Hannah', 161), ('Hannah', 161), ('Ingrid', 84), ('Ingrid', 84), ('Ingrid', 84), ('Ingrid', 84), ('Ingrid', 84), ('Ingrid', 84), ('Ingrid', 98), ('Ingrid', 98), ('Jerry', 107), ('Jerry', 107), ('Jerry', 108), ('Jerry', 108), ('Jerry', 108), ('Jerry', 108), ('Jerry', 252), ('Kevin', 141), ('Kevin', 143), ('Kevin', 144), ('Kevin', 144), ('Kevin', 167), ('Kevin', 452), ('Laura', 144), ('Laura', 144), ('Laura', 144), ('Laura', 168), ('Laura', 288), ('Laura', 312), ('Michael', 89), ('Michael', 89), ('Michael', 89), ('Michael', 89), ('Michael', 90), ('Michael', 90), ('Michael', 104), ('Michael', 105), ('Norbert', 114), ('Norbert', 114), ('Norbert', 114), ('Norbert', 114), ('Norbert', 133), ('Norbert', 133), ('Norbert', 228), ('Oliver', 60), ('Oliver', 60), ('Oliver', 60), ('Oliver', 60), ('Oliver', 60), ('Oliver', 70), ('Oliver', 130), ('Patricia', 100), ('Patricia', 101), ('Patricia', 101), ('Patricia', 101), ('Patricia', 102), ('Patricia', 102), ('Patricia', 116), ('Patricia', 118), ('Quinn', 108), ('Quinn', 108), ('Quinn', 108), ('Quinn', 108), ('Quinn', 108), ('Quinn', 108), ('Quinn', 126), ('Quinn', 126), ('Ray', 90), ('Ray', 90), ('Ray', 90), ('Ray', 90), ('Ray', 90), ('Ray', 90), ('Ray', 105), ('Ray', 105), ('Sarah', 132), ('Sarah', 132), ('Sarah', 132), ('Sarah', 132), ('Sarah', 132), ('Sarah', 132), ('Sarah', 154), ('Sarah', 154), ('Tim', 114), ('Tim', 114), ('Tim', 114), ('Tim', 114), ('Tim', 133), ('Tim', 133), ('Tim', 228), ('Ursula', 102), ('Ursula', 102), ('Ursula', 102), ('Ursula', 102), ('Ursula', 102), ('Ursula', 119), ('Ursula', 221), ('Victor', 101), ('Victor', 102), ('Victor', 102), ('Victor', 102), ('Victor', 102), ('Victor', 118), ('Victor', 221), ('Wendy', 150), ('Wendy', 150), ('Wendy', 150), ('Wendy', 150), ('Wendy', 150), ('Wendy', 150), ('Wendy', 175), ('Wendy', 175), ('Xavier', 132), ('Xavier', 134), ('Xavier', 134), ('Xavier', 156), ('Xavier', 266), ('Xavier', 286), ('Yvonne', 102), ('Yvonne', 102), ('Yvonne', 102), ('Yvonne', 102), ('Yvonne', 102), ('Yvonne', 102), ('Yvonne', 119), ('Yvonne', 119), ('Zelda', 119), ('Zelda', 119), ('Zelda', 120), ('Zelda', 120), ('Zelda', 120), ('Zelda', 120), ('Zelda', 140), ('Zelda', 140)]\n",
      "Wall time: 2min 8s\n"
     ]
    }
   ],
   "source": [
    "%%time\n",
    "# Warning, this one takes a while...\n",
    "result = js.groupby(lambda item: item['name']).starmap(lambda k, v: (k, len(v))).compute()\n",
    "print(sorted(result))"
   ]
  },
  {
   "cell_type": "code",
   "execution_count": 139,
   "metadata": {},
   "outputs": [
    {
     "name": "stdout",
     "output_type": "stream",
     "text": [
      "[('Alice', 1500), ('Bob', 836), ('Charlie', 1100), ('Dan', 700), ('Edith', 847), ('Frank', 953), ('George', 1094), ('Hannah', 1150), ('Ingrid', 700), ('Jerry', 898), ('Kevin', 1191), ('Laura', 1200), ('Michael', 745), ('Norbert', 950), ('Oliver', 500), ('Patricia', 841), ('Quinn', 900), ('Ray', 750), ('Sarah', 1100), ('Tim', 950), ('Ursula', 850), ('Victor', 848), ('Wendy', 1250), ('Xavier', 1108), ('Yvonne', 850), ('Zelda', 998)]\n",
      "Wall time: 1.82 s\n"
     ]
    }
   ],
   "source": [
    "%%time\n",
    "# This one is comparatively fast and produces the same result.\n",
    "from operator import add\n",
    "def incr(tot, _):\n",
    "    return tot+1\n",
    "\n",
    "result = js.foldby(key='name', \n",
    "                   binop=incr, \n",
    "                   initial=0, \n",
    "                   combine=add, \n",
    "                   combine_initial=0).compute()\n",
    "print(sorted(result))"
   ]
  },
  {
   "cell_type": "markdown",
   "metadata": {},
   "source": [
    "### Exercise: compute total amount per name"
   ]
  },
  {
   "cell_type": "markdown",
   "metadata": {},
   "source": [
    "We want to groupby (or foldby) the `name` key, then add up the all of the amounts for each name.\n",
    "\n",
    "Steps\n",
    "\n",
    "1.  Create a small function that, given a dictionary like \n",
    "\n",
    "        {'name': 'Alice', 'transactions': [{'amount': 1, 'id': 123}, {'amount': 2, 'id': 456}]}\n",
    "        \n",
    "    produces the sum of the amounts, e.g. `3`\n",
    "    \n",
    "2.  Slightly change the binary operator of the `foldby` example above so that the binary operator doesn't count the number of entries, but instead accumulates the sum of the amounts."
   ]
  },
  {
   "cell_type": "code",
   "execution_count": null,
   "metadata": {
    "collapsed": true
   },
   "outputs": [],
   "source": [
    "# Your code here..."
   ]
  },
  {
   "cell_type": "markdown",
   "metadata": {},
   "source": [
    "## DataFrames"
   ]
  },
  {
   "cell_type": "markdown",
   "metadata": {},
   "source": [
    "For the same reasons that Pandas is often faster than pure Python, `dask.dataframe` can be faster than `dask.bag`.  We will work more with DataFrames later, but from for the bag point of view, they are frequently the end-point of the \"messy\" part of data ingestion—once the data can be made into a data-frame, then complex split-apply-combine logic will become much more straight-forward and efficient.\n",
    "\n",
    "You can transform a bag with a simple tuple or flat dictionary structure into a `dask.dataframe` with the `to_dataframe` method."
   ]
  },
  {
   "cell_type": "code",
   "execution_count": null,
   "metadata": {
    "collapsed": true
   },
   "outputs": [],
   "source": [
    "df1 = js.to_dataframe()\n",
    "df1.head()"
   ]
  },
  {
   "cell_type": "markdown",
   "metadata": {},
   "source": [
    "This now looks like a well-defined DataFrame, and we can apply Pandas-like computations to it efficiently."
   ]
  },
  {
   "cell_type": "markdown",
   "metadata": {},
   "source": [
    "Using a Dask DataFrame, how long does it take to do our prior computation of numbers of people with the same name?  It turns out that `dask.dataframe.groupby()` beats `dask.bag.groupby()` more than an order of magnitude; but it still cannot match `dask.bag.foldby()` for this case."
   ]
  },
  {
   "cell_type": "code",
   "execution_count": null,
   "metadata": {
    "collapsed": true
   },
   "outputs": [],
   "source": [
    "%time df1.groupby('name').id.count().compute().head()"
   ]
  },
  {
   "cell_type": "markdown",
   "metadata": {},
   "source": [
    "### Denormalization"
   ]
  },
  {
   "cell_type": "markdown",
   "metadata": {},
   "source": [
    "This DataFrame format is less-than-optimal because the `transactions` column is filled with nested data so Pandas has to revert to `object` dtype, which is quite slow in Pandas.  Ideally we want to transform to a dataframe only after we have flattened our data so that each record is a single `int`, `string`, `float`, etc.."
   ]
  },
  {
   "cell_type": "code",
   "execution_count": null,
   "metadata": {
    "collapsed": true,
    "scrolled": true
   },
   "outputs": [],
   "source": [
    "def denormalize(record):\n",
    "    # returns a list for every nested item, each transaction of each person\n",
    "    return [{'id': record['id'], \n",
    "             'name': record['name'], \n",
    "             'amount': transaction['amount'], \n",
    "             'transaction-id': transaction['transaction-id']}\n",
    "            for transaction in record['transactions']]\n",
    "\n",
    "transactions = js.map(denormalize).flatten()\n",
    "transactions.take(3)"
   ]
  },
  {
   "cell_type": "code",
   "execution_count": null,
   "metadata": {
    "collapsed": true
   },
   "outputs": [],
   "source": [
    "df = transactions.to_dataframe()\n",
    "df.head()"
   ]
  },
  {
   "cell_type": "code",
   "execution_count": null,
   "metadata": {
    "collapsed": true
   },
   "outputs": [],
   "source": [
    "%%time\n",
    "# number of transactions per name\n",
    "# note that the time here includes the data load and ingestion\n",
    "df.groupby('name')['transaction-id'].count().compute()"
   ]
  },
  {
   "cell_type": "markdown",
   "metadata": {},
   "source": [
    "## Limitations"
   ]
  },
  {
   "cell_type": "markdown",
   "metadata": {},
   "source": [
    "Bags provide very general computation (any Python function.)  This generality\n",
    "comes at cost.  Bags have the following known limitations\n",
    "\n",
    "1.  Bag operations tend to be slower than array/dataframe computations in the\n",
    "    same way that Python tends to be slower than NumPy/Pandas\n",
    "2.  ``Bag.groupby`` is slow.  You should try to use ``Bag.foldby`` if possible.\n",
    "    Using ``Bag.foldby`` requires more thought. Even better, consider creating\n",
    "    a normalised dataframe."
   ]
  },
  {
   "cell_type": "code",
   "execution_count": null,
   "metadata": {
    "collapsed": true
   },
   "outputs": [],
   "source": []
  },
  {
   "cell_type": "code",
   "execution_count": null,
   "metadata": {
    "collapsed": true
   },
   "outputs": [],
   "source": [
    "# Requires `s3fs` library\n",
    "# each partition is a remote CSV text file\n",
    "b = db.read_text('s3://dask-data/nyc-taxi/2015/yellow_tripdata_2015-01.csv')\n",
    "b.take(1)"
   ]
  },
  {
   "cell_type": "markdown",
   "metadata": {},
   "source": []
  },
  {
   "cell_type": "markdown",
   "metadata": {},
   "source": []
  },
  {
   "cell_type": "code",
   "execution_count": null,
   "metadata": {
    "collapsed": true
   },
   "outputs": [],
   "source": []
  }
 ],
 "metadata": {
  "kernelspec": {
   "display_name": "Python 3",
   "language": "python",
   "name": "python3"
  },
  "language_info": {
   "codemirror_mode": {
    "name": "ipython",
    "version": 3
   },
   "file_extension": ".py",
   "mimetype": "text/x-python",
   "name": "python",
   "nbconvert_exporter": "python",
   "pygments_lexer": "ipython3",
   "version": "3.7.6"
  }
 },
 "nbformat": 4,
 "nbformat_minor": 2
}
