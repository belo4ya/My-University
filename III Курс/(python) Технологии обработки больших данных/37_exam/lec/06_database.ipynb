{
 "cells": [
  {
   "cell_type": "markdown",
   "metadata": {},
   "source": [
    "# Лекция 6: Работа с базами данных\n",
    "\n",
    "__Автор: Сергей Вячеславович Макрушин__ e-mail: SVMakrushin@fa.ru \n",
    "\n",
    "Финансовый универсиет, 2020 г. \n",
    "\n",
    "При подготовке лекции использованы материалы:\n",
    "* ...\n",
    "\n",
    "V 0.2 07.10.2020"
   ]
  },
  {
   "cell_type": "code",
   "execution_count": 1,
   "metadata": {},
   "outputs": [
    {
     "data": {
      "text/html": [
       "﻿<style>\r\n",
       "\r\n",
       "\r\n",
       "b.n {\r\n",
       "    font-weight: normal;        \r\n",
       "}\r\n",
       "\r\n",
       "b.grbg {\r\n",
       "    background-color: #a0a0a0;      \r\n",
       "}\r\n",
       "\r\n",
       "b.r {\r\n",
       "    color: #ff0000;    \r\n",
       "}\r\n",
       "\r\n",
       "\r\n",
       "b.b {    \r\n",
       "    color: #0000ff;    \r\n",
       "}\r\n",
       "\r\n",
       "b.g {\r\n",
       "    color: #00ff00;    \r\n",
       "}\r\n",
       "\r\n",
       "\r\n",
       "// add your CSS styling here\r\n",
       "\r\n",
       "list-style: none;\r\n",
       "\r\n",
       "ul.s {\r\n",
       "//    list-style-type: none;\r\n",
       "    list-style: none;\r\n",
       "//    background-color: #ff0000;  \r\n",
       "//    color: #ffff00;\r\n",
       "//  padding-left: 1.2em;\r\n",
       "//  text-indent: -1.2em;\r\n",
       "}\r\n",
       "\r\n",
       "li.t {\r\n",
       "    list-style: none;\r\n",
       "//  padding-left: 1.2em;\r\n",
       "//  text-indent: -1.2em;    \r\n",
       "}\r\n",
       "\r\n",
       "\r\n",
       "*.r {\r\n",
       "    color: #ff0000;    \r\n",
       "}\r\n",
       "\r\n",
       "li.t:before {\r\n",
       "    content: \"\\21D2\";    \r\n",
       "//    content: \"►\";\r\n",
       "//    padding-left: -1.2em;    \r\n",
       "    text-indent: -1.2em;    \r\n",
       "    display: block;\r\n",
       "    float: left;\r\n",
       "    \r\n",
       "    \r\n",
       "//    width: 1.2em;\r\n",
       "//    color: #ff0000;\r\n",
       "}\r\n",
       "\r\n",
       "i.m:before {\r\n",
       "    font-style: normal;    \r\n",
       "    content: \"\\21D2\";  \r\n",
       "}\r\n",
       "i.m {\r\n",
       "    font-style: normal; \r\n",
       "}    \r\n",
       "\r\n",
       "/*--------------------*/\r\n",
       "/* em {\r\n",
       "    font-style: normal; \r\n",
       "} */\r\n",
       "\r\n",
       "\r\n",
       "em.bl {\r\n",
       "    font-style: normal;     \r\n",
       "    font-weight: bold;        \r\n",
       "}\r\n",
       "\r\n",
       "/* em.grbg {\r\n",
       "    font-style: normal;         \r\n",
       "    background-color: #a0a0a0;      \r\n",
       "} */\r\n",
       "\r\n",
       "em.cr {\r\n",
       "    font-style: normal;         \r\n",
       "    color: #ff0000;    \r\n",
       "}\r\n",
       "\r\n",
       "em.cb {    \r\n",
       "    font-style: normal;         \r\n",
       "    color: #0000ff;    \r\n",
       "}\r\n",
       "\r\n",
       "em.cg {\r\n",
       "    font-style: normal;         \r\n",
       "    color: #00ff00;    \r\n",
       "}\r\n",
       "\r\n",
       "/*--------------------*/\r\n",
       "\r\n",
       "em.qs {\r\n",
       "    font-style: normal; \r\n",
       "}\r\n",
       "\r\n",
       "em.qs::before {\r\n",
       "    font-weight: bold;    \r\n",
       "    color: #ff0000;    \r\n",
       "    content: \"Q:\";  \r\n",
       "}\r\n",
       "\r\n",
       "em.an {\r\n",
       "    font-style: normal; \r\n",
       "}\r\n",
       "\r\n",
       "em.an:before {\r\n",
       "    font-weight: bold;    \r\n",
       "    color: #0000ff;    \r\n",
       "    content: \"A:\";  \r\n",
       "}\r\n",
       "    \r\n",
       "em.nt {\r\n",
       "    font-style: normal; \r\n",
       "}\r\n",
       "\r\n",
       "em.nt:before {\r\n",
       "    font-weight: bold;    \r\n",
       "    color: #0000ff;    \r\n",
       "    content: \"Note:\";  \r\n",
       "}    \r\n",
       "    \r\n",
       "em.ex {\r\n",
       "    font-style: normal; \r\n",
       "}\r\n",
       "\r\n",
       "em.ex:before {\r\n",
       "    font-weight: bold;    \r\n",
       "    color: #00ff00;    \r\n",
       "    content: \"Ex:\";  \r\n",
       "} \r\n",
       "    \r\n",
       "em.df {\r\n",
       "    font-style: normal; \r\n",
       "}\r\n",
       "\r\n",
       "em.df:before {\r\n",
       "    font-weight: bold;    \r\n",
       "    color: #0000ff;    \r\n",
       "    content: \"Def:\";  \r\n",
       "}    \r\n",
       "\r\n",
       "em.pl {\r\n",
       "    font-style: normal; \r\n",
       "}\r\n",
       "\r\n",
       "em.pl:before {\r\n",
       "    font-weight: bold;    \r\n",
       "    color: #0000ff;    \r\n",
       "    content: \"+\";  \r\n",
       "}    \r\n",
       "\r\n",
       "em.mn {\r\n",
       "    font-style: normal; \r\n",
       "}\r\n",
       "\r\n",
       "em.mn:before {\r\n",
       "    font-weight: bold;    \r\n",
       "    color: #0000ff;    \r\n",
       "    content: \"-\";  \r\n",
       "}        \r\n",
       "\r\n",
       "em.plmn {\r\n",
       "    font-style: normal; \r\n",
       "}\r\n",
       "\r\n",
       "em.plmn:before {\r\n",
       "    font-weight: bold;    \r\n",
       "    color: #0000ff;    \r\n",
       "    content: \"\\00B1\";\\\\\"&plusmn;\";  \r\n",
       "}\r\n",
       "    \r\n",
       "em.hn {\r\n",
       "    font-style: normal; \r\n",
       "}\r\n",
       "\r\n",
       "em.hn:before {\r\n",
       "    font-weight: bold;    \r\n",
       "    color: #0000ff;    \r\n",
       "    content: \"\\21D2\";\\\\\"&rArr;\";  \r\n",
       "}     \r\n",
       "    \r\n",
       "</style>"
      ],
      "text/plain": [
       "<IPython.core.display.HTML object>"
      ]
     },
     "execution_count": 1,
     "metadata": {},
     "output_type": "execute_result"
    }
   ],
   "source": [
    "# загружаем стиль для оформления презентации\n",
    "from IPython.display import HTML\n",
    "from urllib.request import urlopen\n",
    "html = urlopen(\"file:./lec_v1.css\")\n",
    "HTML(html.read().decode('utf-8'))"
   ]
  },
  {
   "cell_type": "markdown",
   "metadata": {},
   "source": [
    "## Разделы: <a class=\"anchor\" id=\"разделы\"></a>\n",
    "\n",
    "* [SQLite](#sqlite)\n",
    "* [Нормальные формы](#нормальные-формы) \n",
    "\n",
    "-\n",
    "* [к оглавлению](#разделы)"
   ]
  },
  {
   "cell_type": "markdown",
   "metadata": {},
   "source": [
    "## SQLite <a class=\"anchor\" id=\"sqlite\"></a>\n",
    "-\n",
    "* [к оглавлению](#разделы)"
   ]
  },
  {
   "cell_type": "markdown",
   "metadata": {},
   "source": [
    "__SQLite__ — компактная встраиваемая СУБД. SQLite реализована на языке C. SQLite представляет собой SQL-движок со следующими фичами:\n",
    "* компактный\n",
    "* быстрый\n",
    "* автономный\n",
    "* надежный\n",
    "* полнофункциональный\n",
    "\n",
    "* \"Встраиваемая\" (embedded) означает, что SQLite не использует парадигму клиент-сервер. Т.е. движок SQLite\n",
    "    * __НЕ является отдельно работающим процессом__, с которым взаимодействует программа;\n",
    "    * __представляет собой библиотеку__, с которой программа компонуется, и движок становится составной частью программы.\n",
    "    * обменивается данными с клиентским кодом с использованием вызовов функций (API) библиотеки SQLite, что уменьшает накладные расходы, время отклика и упрощает программу. \n",
    "* SQLite хранит всю базу данных (включая определения, таблицы, индексы и данные) в единственном стандартном файле на том компьютере, на котором исполняется программа. \n",
    " \n",
    "* Перед началом исполнения транзакции записи весь файл, хранящий базу данных, блокируется, что обеспечивает простоту их реализации. \n",
    "* ACID-функции достигаются в том числе за счёт создания файла журнала.\n",
    "\n",
    "\n",
    "__SQLite - самая распространенная СУБД в мире__. SQLite встроена во все современные мобильные телефоны и в большинство компьютеров и в бесчисленное множество других приложений. По умолчанию SQLite включена в:\n",
    "\n",
    "* Google's Android\n",
    "* LG's webOS\n",
    "* Windows 10\n",
    "* Apple adopted it as an option in macOS's Core Data API from the original implementation in Mac OS X 10.4 onwards, and also for administration of videos and songs, and in iOS for storage of text messages on the iPhone.[43]\n",
    "\n",
    "\n",
    "* Blackberry's BlackBerry 10 OS\n",
    "* Symbian OS\n",
    "* Nokia's Maemo\n",
    "* Linux Foundation's MeeGo\n",
    "* NetBSD\n",
    "* FreeBSD where starting with 10-RELEASE version in January 2014, it is used by the core package management system.\n",
    "illumos\n",
    "* Oracle Solaris 10 where the Service Management Facility database is serialized for booting.\n",
    "* MorphOS since version 3.10\n",
    "* Tizen\n"
   ]
  },
  {
   "cell_type": "markdown",
   "metadata": {},
   "source": [
    "## Доступ к базе данных SQLite из Python"
   ]
  },
  {
   "cell_type": "code",
   "execution_count": 24,
   "metadata": {},
   "outputs": [
    {
     "data": {
      "text/plain": [
       "'2.0'"
      ]
     },
     "execution_count": 24,
     "metadata": {},
     "output_type": "execute_result"
    }
   ],
   "source": [
    "import  sqlite3 # Подключаем модуль \n",
    "sqlite3.apilevel #  Получаем номер  сnецификации "
   ]
  },
  {
   "cell_type": "code",
   "execution_count": 25,
   "metadata": {},
   "outputs": [
    {
     "data": {
      "text/plain": [
       "'3.30.0'"
      ]
     },
     "execution_count": 25,
     "metadata": {},
     "output_type": "execute_result"
    }
   ],
   "source": [
    "sqlite3.sqlite_version"
   ]
  },
  {
   "cell_type": "markdown",
   "metadata": {},
   "source": [
    "Согласно спецификации DB-API  2.0  последовательность работы с  базой данных выглядит \n",
    "следующим образом: \n",
    "\n",
    "1. Производится __подключение__ к базе данных с помощью функции `connect()`. Функция возвращает объект соединения, с  помощью которого осуществляется дальнейшая работа с базой данных. \n",
    "2. Создается __объект-курсор__.\n",
    "3. __Выnолняются SQL-зanpocы и обрабатываются результаты__. \n",
    "    Перед выnолнением nервого заnроса. который изменяет заnиси (INSERT,  REPIACE,  UPDATE  и DELETE),  автоматически заnускается транзакция. \n",
    "4. __Завершается транзакция__ или отменяются все изменения в рамках транзакции. \n",
    "5. __Закрывается объект-курсор__. \n",
    "6. __Закрывается соединение__ с базой данных. "
   ]
  },
  {
   "cell_type": "markdown",
   "metadata": {},
   "source": [
    "### Создание и открытие базы данных"
   ]
  },
  {
   "cell_type": "markdown",
   "metadata": {},
   "source": [
    "Дпя создания  и  открытия базы данных исnользуется  функция `connect()`.  Функция имеет следующий формат:\n",
    "\n",
    "`connect(database[,  timeout] [,  lsolatlon_level] [,  detect  types] [,  factory]  [,  check_same_thread] [,  cached_statements])`\n",
    "\n",
    "* В nараметре database указывается абсолютный или относительный nуть к базе данных.\n",
    "    * Если база данных не существует, то она будет создана и открыта для работы.\n",
    "    * Если база данных уже существует, то она nросто открывается без удаления имеющихся данных. \n",
    "    * Вместо nути к базе данных можно указать значение  `:memory:`,  которое означает, что база данных будет создана в оnеративной nамяти. После закрытия такой базы все данные будут удалены. \n",
    "\n",
    "* Все __остальные nараметры являются необязательными__ и могут быть указаны в nроизвольнам порядке путем присвоения значения названию  параметра. \n",
    "* Необязательный nараметр `timeout` задает время ожидания снятия блокировки с открываемой базы данных. По умолчанию значение nараметра timeout  равно nяти секундам. \n",
    "Предназначение остальных nараметров мы рассмотрим немного nозже. \n",
    "\n",
    "Функция `connect()` возвращает объект соединения, с  nомощью которого осуществляется вся дальнейшая работа с базой данных. Если открыть базу данных не удалось, то возбуждается исключение. Соединение закрывается, когда вызывается метод `close()`  объекта соединения."
   ]
  },
  {
   "cell_type": "code",
   "execution_count": 26,
   "metadata": {},
   "outputs": [],
   "source": [
    "# import  sqliteЗ #  Подключаем модуль  sqliteЗ \n",
    "con = sqlite3.connect(\"testdb.db\") # Открьrnаем базу данных \n",
    "\n",
    "#  Работаем с  базой данных\n",
    "\n",
    "con.close() #  Закрьrnаем базу данных"
   ]
  },
  {
   "cell_type": "markdown",
   "metadata": {},
   "source": [
    "После создания объекта соединения необходимо создать __объект-курсор__.  Все дальнейшие заnросы  должны  nроизводиться  через  этот  объект. Создание объекта-курсора nроизводится с  nомощью метода `cursor()`.  Для выnолнения заnроса к базе данных nредназначены следующие методы объекта-курсора: \n",
    "\n",
    "* `close()` - закрывает объект-курсор.\n",
    "* `executescript(< SQL-зanpocы  через  точку  с  запятой>)` - выnолняет  несколько  SQL-зanpocoв за один раз. Если в nроцессе выnолнения заnросов возникает ошибка, то метод возбуждает исключение.\n",
    "* `execute(< SQL-зaпpoc> [,  <Значения>])` - выполняет один SQL-зaпpoc. Если в  процессе выполнения  запроса  возникает  ошибка,  то  метод  возбуждает  исключение. "
   ]
  },
  {
   "cell_type": "code",
   "execution_count": 27,
   "metadata": {},
   "outputs": [],
   "source": [
    "# import  sqlite3\n",
    "\n",
    "con = sqlite3.connect(\"catalog.db\") \n",
    "cur = con.cursor() #  Создаем объект-курсор "
   ]
  },
  {
   "cell_type": "code",
   "execution_count": 28,
   "metadata": {},
   "outputs": [],
   "source": [
    "# несколько SQL выражений создающих простую БД:\n",
    "sql  = \"\"\"\n",
    "CREATE TABLE ALBUM\n",
    "(\n",
    "    ALBUM_ID INTEGER PRIMARY KEY AUTOINCREMENT NOT NULL, \n",
    "    TITLE VARCHAR(200)  NOT NULL,\n",
    "    ARTIST_ID INTEGER  NOT NULL,\n",
    "    FOREIGN KEY (ARTIST_ID) REFERENCES ARTIST (ARTIST_ID) \n",
    ");\n",
    "\n",
    "CREATE TABLE ARTIST\n",
    "(\n",
    "    ARTIST_ID INTEGER PRIMARY KEY AUTOINCREMENT NOT NULL,\n",
    "    NAME VARCHAR(200),\n",
    "    COMMENT VARCHAR(400)\n",
    ");\n",
    "\n",
    "CREATE TABLE GENRE\n",
    "(\n",
    "    GENRE_ID INTEGER PRIMARY KEY AUTOINCREMENT NOT NULL,\n",
    "    NAME VARCHAR(200)\n",
    ");\n",
    "\n",
    "CREATE TABLE PLAY_LIST\n",
    "(\n",
    "    PLAY_LIST_ID INTEGER PRIMARY KEY AUTOINCREMENT NOT NULL,\n",
    "    NAME VARCHAR(200)\n",
    ");\n",
    "\n",
    "CREATE TABLE PLAY_LIST_TRACK\n",
    "(\n",
    "    PLAY_LIST_ID INTEGER  NOT NULL,\n",
    "    TRACK_ID INTEGER  NOT NULL,\n",
    "    CONSTRAINT PLAY_LIST_TRACK PRIMARY KEY  (PLAY_LIST_ID, TRACK_ID),\n",
    "    FOREIGN KEY (PLAY_LIST_ID) REFERENCES PLAY_LIST (PLAY_LIST_ID),\n",
    "    FOREIGN KEY (TRACK_ID) REFERENCES TRACK (TRACK_ID) \n",
    ");\n",
    "\n",
    "CREATE TABLE TRACK\n",
    "(\n",
    "    TRACK_ID INTEGER PRIMARY KEY AUTOINCREMENT NOT NULL,\n",
    "    NAME VARCHAR(200)  NOT NULL,\n",
    "    ALBUM_ID INTEGER,\n",
    "    MEDIA_TYPE_ID INTEGER  NOT NULL,\n",
    "    GENRE_ID INTEGER,\n",
    "    COMPOSER VARCHAR(200),\n",
    "    MILLISECONDS INTEGER  NOT NULL,\n",
    "    FOREIGN KEY (ALBUM_ID) REFERENCES ALBUM (ALBUM_ID),\n",
    "    FOREIGN KEY (GENRE_ID) REFERENCES GENRE (GENRE_ID)\n",
    ");\"\"\" "
   ]
  },
  {
   "cell_type": "code",
   "execution_count": 29,
   "metadata": {},
   "outputs": [
    {
     "name": "stdout",
     "output_type": "stream",
     "text": [
      "Запрос успешно выполнен\n"
     ]
    }
   ],
   "source": [
    "try:  # Обрабатываем искточения \n",
    "    cur.executescript(sql)  # Выnолняем SQL-зanpocы \n",
    "except sqlite3.DatabaseError as  err: \n",
    "    print(\"Ошибка:\", err) \n",
    "else: \n",
    "    print (\"Запрос успешно выполнен\") \n",
    "    cur.close() # Закрываем объект-курсор \n",
    "    con.close() # Закрываем соединение\n",
    "#     input() "
   ]
  },
  {
   "cell_type": "code",
   "execution_count": 6,
   "metadata": {},
   "outputs": [
    {
     "name": "stdout",
     "output_type": "stream",
     "text": [
      " ’®¬ ў гбва®©бвўҐ C ­Ґ Ё¬ҐҐв ¬ҐвЄЁ.\n",
      " ‘ҐаЁ©­л© ­®¬Ґа в®¬ : D65B-CBD9\n",
      "\n",
      " ‘®¤Ґа¦Ё¬®Ґ Ї ЇЄЁ C:\\Users\\‘ҐаЈҐ©\\YandexDisk\\Python\\Ipynb\\TOBD_2020\\06_database\n",
      "\n",
      "08.10.2020  16:10    <DIR>          .\n",
      "08.10.2020  16:10    <DIR>          ..\n",
      "07.10.2020  16:03    <DIR>          .ipynb_checkpoints\n",
      "08.10.2020  15:24         2я214я400 648989.ppt\n",
      "07.10.2020  16:35            36я864 catalog.db\n",
      "08.10.2020  15:11    <DIR>          img\n",
      "06.10.2020  19:24             2я745 lec_v1.css\n",
      "07.10.2020  17:05    <DIR>          materials\n",
      "07.10.2020  15:56                 0 testdb.db\n",
      "08.10.2020  16:10            74я413 TOBD_lec_06_database_v2..ipynb\n",
      "06.10.2020  19:26             3я070 Untitled.ipynb\n",
      "08.10.2020  15:24         2я226я176 ‚ўҐ¤Ґ­ЁҐ ў п§лЄ SQL.ppt\n",
      "               7 д ©«®ў      4я557я668 Ў ©в\n",
      "               5 Ї Ї®Є  35я729я932я288 Ў ©в бў®Ў®¤­®\n"
     ]
    }
   ],
   "source": [
    "ls"
   ]
  },
  {
   "cell_type": "markdown",
   "metadata": {},
   "source": [
    "__Добавление записи в таблицу__\n",
    "\n",
    "В этом примере мы использовали метод `commit()` объекта соединения. \n",
    "* Метод `commit()` позволяет __завершить транзакцию__,  которая  запускается  автоматически.\n",
    "* Если метод __не вызвать__ и при этом закрыть соединение с базой данных, то все произведенные изменения __будут автоматически отменены__. \n",
    "* Запросы, изменяющие записи (INSERT,  REPLACE,  UPDAТE, DELETE), __нужно завершать__ вызовом метода `commit()`."
   ]
  },
  {
   "cell_type": "code",
   "execution_count": 30,
   "metadata": {},
   "outputs": [],
   "source": [
    "# import  sqlite3\n",
    "con = sqlite3.connect(\"catalog.db\") \n",
    "cur = con.cursor() #  Создаем объект-курсор \n",
    "\n",
    "# SQL выражение \n",
    "sql  = \"\"\"\n",
    "INSERT INTO GENRE (NAME) \n",
    "VALUES ('Jazz')\"\"\""
   ]
  },
  {
   "cell_type": "code",
   "execution_count": 31,
   "metadata": {},
   "outputs": [
    {
     "name": "stdout",
     "output_type": "stream",
     "text": [
      "Запрос успешно выполнен\n"
     ]
    }
   ],
   "source": [
    "try:  # Обрабатываем искточения \n",
    "    cur.execute(sql)  # Выnолняем SQL-зanpocы \n",
    "except sqlite3.DatabaseError as  err: \n",
    "    print(\"Ошибка:\", err) \n",
    "else: \n",
    "    print (\"Запрос успешно выполнен\") \n",
    "    con.commit() # Завершаем транзакцию\n",
    "    cur.close() # Закрываем объект-курсор \n",
    "    con.close() # Закрываем соединение\n",
    "#     input() "
   ]
  },
  {
   "cell_type": "markdown",
   "metadata": {},
   "source": [
    "Часто в SQL-зaпpoc необходимо подставлять данные,  полученные от пользователя.  \n",
    "\n",
    "* <b class=\"r\">!!!</b> Если данные от пользователя не обработать и подставить в SQL-зaпpoc, то пользователь получает возможность видоизменить запрос и, например, зайти в закрытый раздел без ввода пароля. Такой вид атаки называется __SQL injection__.\n",
    "* Чтобы значения были правильно подставлены, нужно их передавать в виде кортежа или словаря во втором параметре метода `execute()`.  В этом случае в SQL-зaпpoce указываются следующие специальные заполнители: \n",
    "    * `?` - при указании значения в виде кортежа; \n",
    "    * `:<Ключ>` - при указании значения в виде словаря."
   ]
  },
  {
   "cell_type": "code",
   "execution_count": 32,
   "metadata": {},
   "outputs": [],
   "source": [
    "# import  sqlite3\n",
    "con = sqlite3.connect(\"catalog.db\") \n",
    "cur = con.cursor() #  Создаем объект-курсор \n",
    "# SQL выражение "
   ]
  },
  {
   "cell_type": "code",
   "execution_count": 33,
   "metadata": {},
   "outputs": [],
   "source": [
    "# подстановка позиционного параметра:\n",
    "\n",
    "sql_1 = '''\n",
    "INSERT INTO Artist (Name) \n",
    "VALUES (?)'''\n",
    "v1 = ('AC/DC',)\n",
    "v2 = ('Aerosmith',)"
   ]
  },
  {
   "cell_type": "code",
   "execution_count": 34,
   "metadata": {},
   "outputs": [],
   "source": [
    "# подстановка позиционного параметра (альтернативный синтаксис):\n",
    "\n",
    "sql_2 = '''\n",
    "INSERT INTO Artist (Name) \n",
    "VALUES ({})'''\n",
    "v3 = \"'Alanis Morissette'\""
   ]
  },
  {
   "cell_type": "code",
   "execution_count": 35,
   "metadata": {},
   "outputs": [],
   "source": [
    "# подстановка нескольких позиционных параметров:\n",
    "\n",
    "sql_3 = '''\n",
    "INSERT INTO Artist (Name, Comment) \n",
    "VALUES (?, ?)'''\n",
    "v4 = ('Alanis Morissette', 'My test comment')\n",
    "v5 = ('Apocalyptica', 'It is my favorite artist')"
   ]
  },
  {
   "cell_type": "code",
   "execution_count": 36,
   "metadata": {},
   "outputs": [],
   "source": [
    "# подстановка по ключу:\n",
    "\n",
    "sql_4 = '''\n",
    "INSERT INTO Artist (Name, Comment) \n",
    "VALUES (:n, :com)'''\n",
    "v6 = {'n': \"Guns N' Roses\", 'com': 'Funny guys'}\n",
    "v7 = {'n': 'Iron Maiden', 'com': \"\"\"Test symbols v \" v ' v \"\"\"}"
   ]
  },
  {
   "cell_type": "code",
   "execution_count": 37,
   "metadata": {},
   "outputs": [
    {
     "name": "stdout",
     "output_type": "stream",
     "text": [
      "Запрос успешно выполнен\n"
     ]
    }
   ],
   "source": [
    "try:  \n",
    "    cur.execute(sql_1, v1)\n",
    "    cur.execute(sql_1, v2)\n",
    "    \n",
    "    # Опасный способ, если пользователь может передать значение:\n",
    "    cur.execute(sql_2.format(v3))\n",
    "    \n",
    "    cur.execute(sql_3, v4)\n",
    "    cur.execute(sql_3, v5)\n",
    "    \n",
    "    cur.execute(sql_4, v6)\n",
    "    cur.execute(sql_4, v7) # тестирование экранирования символов\n",
    "        \n",
    "except sqlite3.DatabaseError as  err: \n",
    "    print(\"Ошибка:\", err) \n",
    "else: \n",
    "    print (\"Запрос успешно выполнен\") \n",
    "    con.commit() # Завершаем транзакцию\n",
    "    cur.close() # Закрываем объект-курсор \n",
    "    con.close() # Закрываем соединение"
   ]
  },
  {
   "cell_type": "markdown",
   "metadata": {},
   "source": [
    "`executemany(< SQL-зaпpoc>, < Последовательность>)` - выполняет SQL-зaпpoc несколько раз,  при этом подставляя значения из последовательности.\n",
    "* Каждый элемент последовательности должен быть кортежем (при  использовании заполнителя  `?`)  или словарем (при использовании заполнителя `:<Ключ>`).\n",
    "* Вместо последовательности можно указать объект-итератор или объект-генератор. \n",
    "* Если в  процессе выполнения запроса возникает ошибка, то метод возбуждает исключение; "
   ]
  },
  {
   "cell_type": "code",
   "execution_count": 38,
   "metadata": {},
   "outputs": [
    {
     "name": "stdout",
     "output_type": "stream",
     "text": [
      "Запрос успешно выполнен\n"
     ]
    }
   ],
   "source": [
    "# import  sqlite3\n",
    "con = sqlite3.connect(\"catalog.db\") \n",
    "cur = con.cursor() #  Создаем объект-курсор \n",
    "# SQL выражение \n",
    "\n",
    "sql = '''\n",
    "INSERT INTO Artist (Name) \n",
    "VALUES (?)'''\n",
    "\n",
    "val_list = [('The Clash',), ('The Cult',), ('The Doors',)]\n",
    "\n",
    "try:  \n",
    "    cur.executemany(sql, val_list)        \n",
    "except sqlite3.DatabaseError as  err: \n",
    "    print(\"Ошибка:\", err) \n",
    "else: \n",
    "    print (\"Запрос успешно выполнен\") \n",
    "    con.commit() # Завершаем транзакцию\n",
    "    cur.close() # Закрываем объект-курсор \n",
    "    con.close() # Закрываем соединение"
   ]
  },
  {
   "cell_type": "markdown",
   "metadata": {},
   "source": [
    "Модуль `sqlite3` содержит также методы `execute()`,  `executernany()`  и `executescript()` объекта соединения, которые позволяют выполнить запрос без создания объекта-курсора. "
   ]
  },
  {
   "cell_type": "code",
   "execution_count": 39,
   "metadata": {},
   "outputs": [
    {
     "name": "stdout",
     "output_type": "stream",
     "text": [
      "Запрос успешно выполнен\n"
     ]
    }
   ],
   "source": [
    "# import  sqlite3\n",
    "con = sqlite3.connect(\"catalog.db\") \n",
    "# cur = con.cursor() #  НЕ создаем объект-курсор \n",
    "# SQL выражение \n",
    "\n",
    "sql = '''\n",
    "INSERT INTO Artist (Name) \n",
    "VALUES (?)'''\n",
    "\n",
    "val_list = [('The Police',), ('The Rolling Stones',)]\n",
    "\n",
    "try:  \n",
    "    con.executemany(sql, val_list)        \n",
    "except sqlite3.DatabaseError as  err: \n",
    "    print(\"Ошибка:\", err) \n",
    "else: \n",
    "    print (\"Запрос успешно выполнен\") \n",
    "    con.commit() # Завершаем транзакцию\n",
    "    # cur.close() # Закрываем объект-курсор \n",
    "    con.close() # Закрываем соединение"
   ]
  },
  {
   "cell_type": "markdown",
   "metadata": {},
   "source": [
    "Объект-курсор nоддерживает несколько атрибутов: \n",
    "* `lastrowid` - индекс  последней добавленной заnиси  с  nомощью инструкции  `INSERТ` и метода `execute()`.  Если индекс не определен, то атрибут будет содержать значение `None`. \n",
    "\n",
    "В качестве nримера добавим новую рубрику и выведем ее индекс: \n",
    "* `rowcount` - количество измененных или удаленных заnисей.  Если количество не оnределено, то атрибут имеет значение `-1`; \n",
    "* `description` - содержит кортеж кортежей с  именами nолей в  результате  выnолнения инструкции  `SELECT`. Каждый внутренний  кортеж состоит  из  семи элементов.  Первый элемент содержит название  nоля,  а  остальные элементы всегда  имеют значение `None`."
   ]
  },
  {
   "cell_type": "code",
   "execution_count": 40,
   "metadata": {},
   "outputs": [],
   "source": [
    "# import  sqlite3\n",
    "con = sqlite3.connect(\"catalog.db\") \n",
    "# cur = con.cursor() #  НЕ создаем объект-курсор \n",
    "# SQL выражение \n",
    "\n",
    "sql = '''\n",
    "INSERT INTO Artist (Name) \n",
    "VALUES (?)'''\n",
    "\n",
    "val_list = [('The Police',), ('The Rolling Stones',)]\n",
    "val = ('The Tea Party',)"
   ]
  },
  {
   "cell_type": "code",
   "execution_count": 41,
   "metadata": {},
   "outputs": [
    {
     "name": "stdout",
     "output_type": "stream",
     "text": [
      "rowcount: 2\n",
      "descriptiont: None\n",
      "lastrowid: 15\n",
      "Запрос успешно выполнен\n"
     ]
    }
   ],
   "source": [
    "try:  \n",
    "    res = con.executemany(sql, val_list)        \n",
    "    print('rowcount:', res.rowcount)\n",
    "    print('descriptiont:', res.description)    \n",
    "    \n",
    "    res = con.execute(sql, val)        \n",
    "    print('lastrowid:', res.lastrowid)\n",
    "    \n",
    "except sqlite3.DatabaseError as  err: \n",
    "    print(\"Ошибка:\", err) \n",
    "else: \n",
    "    print (\"Запрос успешно выполнен\") \n",
    "    con.commit() # Завершаем транзакцию\n",
    "    # cur.close() # Закрываем объект-курсор \n",
    "    con.close() # Закрываем соединение"
   ]
  },
  {
   "cell_type": "markdown",
   "metadata": {},
   "source": [
    "###  Обработка результата запроса"
   ]
  },
  {
   "cell_type": "markdown",
   "metadata": {},
   "source": [
    "`fetchone()` - nри каждом вызове возвращает одну заnись из результата заnроса в виде кортежа, а затем перемешает указатель текущей nозиции.\n",
    "* Если записей больше нет, метод возвращает значение `None`."
   ]
  },
  {
   "cell_type": "code",
   "execution_count": 45,
   "metadata": {},
   "outputs": [
    {
     "name": "stdout",
     "output_type": "stream",
     "text": [
      "(1, 'AC/DC', None)\n"
     ]
    }
   ],
   "source": [
    "# import  sqlite3\n",
    "con  =  sqlite3.connect(\"catalog.db\") \n",
    "cur  =  con.cursor() \n",
    "cur.execute('SELECT * FROM Artist') \n",
    "\n",
    "fo = cur.fetchone() \n",
    "\n",
    "print(fo) "
   ]
  },
  {
   "cell_type": "markdown",
   "metadata": {},
   "source": [
    "`__next__()` - nри каждом вызове возвращает одну заnись из результата заnроса в виде кортежа,  а  затем  nеремешает указатель текущей  nозиции.  Если записей  больше нет, метод  возбуждает  исключение  `StopIteration`.  Выведем  все  записи  из  таблицы  user с nомощью метода `next()`."
   ]
  },
  {
   "cell_type": "code",
   "execution_count": 46,
   "metadata": {},
   "outputs": [
    {
     "name": "stdout",
     "output_type": "stream",
     "text": [
      "(1, 'AC/DC', None)\n",
      "(2, 'Aerosmith', None)\n",
      "(3, 'Alanis Morissette', None)\n"
     ]
    }
   ],
   "source": [
    "# import  sqlite3\n",
    "con  =  sqlite3.connect(\"catalog.db\") \n",
    "cur  =  con.cursor() \n",
    "cur.execute('SELECT * FROM Artist') \n",
    "\n",
    "print(next(cur))\n",
    "print(next(cur))\n",
    "print(next(cur))"
   ]
  },
  {
   "cell_type": "markdown",
   "metadata": {},
   "source": [
    "Цикл for на каждой итерации вызывает метод \\_\\_next\\_\\_()  автоматически. Поэтому для nеребора заnисей достаточно указать объект-курсор в качестве nараметра цикла."
   ]
  },
  {
   "cell_type": "code",
   "execution_count": 47,
   "metadata": {},
   "outputs": [
    {
     "name": "stdout",
     "output_type": "stream",
     "text": [
      "(1, 'AC/DC', None)\n",
      "(2, 'Aerosmith', None)\n",
      "(3, 'Alanis Morissette', None)\n",
      "(4, 'Alanis Morissette', 'My test comment')\n",
      "(5, 'Apocalyptica', 'It is my favorite artist')\n",
      "(6, \"Guns N' Roses\", 'Funny guys')\n",
      "(7, 'Iron Maiden', 'Test symbols v \" v \\' v ')\n",
      "(8, 'The Clash', None)\n",
      "(9, 'The Cult', None)\n",
      "(10, 'The Doors', None)\n",
      "(11, 'The Police', None)\n",
      "(12, 'The Rolling Stones', None)\n",
      "(13, 'The Police', None)\n",
      "(14, 'The Rolling Stones', None)\n",
      "(15, 'The Tea Party', None)\n"
     ]
    }
   ],
   "source": [
    "# import  sqlite3\n",
    "con  =  sqlite3.connect(\"catalog.db\") \n",
    "cur  =  con.cursor() \n",
    "cur.execute('SELECT * FROM Artist') \n",
    "\n",
    "for v in cur:\n",
    "#     fh = cur.fetchone() \n",
    "    print(v) "
   ]
  },
  {
   "cell_type": "code",
   "execution_count": 48,
   "metadata": {},
   "outputs": [
    {
     "name": "stdout",
     "output_type": "stream",
     "text": [
      "rid:  1, name: AC/DC                    , comment: None\n",
      "rid:  2, name: Aerosmith                , comment: None\n",
      "rid:  3, name: Alanis Morissette        , comment: None\n",
      "rid:  4, name: Alanis Morissette        , comment: My test comment\n",
      "rid:  5, name: Apocalyptica             , comment: It is my favorite artist\n",
      "rid:  6, name: Guns N' Roses            , comment: Funny guys\n",
      "rid:  7, name: Iron Maiden              , comment: Test symbols v \" v ' v \n",
      "rid:  8, name: The Clash                , comment: None\n",
      "rid:  9, name: The Cult                 , comment: None\n",
      "rid: 10, name: The Doors                , comment: None\n",
      "rid: 11, name: The Police               , comment: None\n",
      "rid: 12, name: The Rolling Stones       , comment: None\n",
      "rid: 13, name: The Police               , comment: None\n",
      "rid: 14, name: The Rolling Stones       , comment: None\n",
      "rid: 15, name: The Tea Party            , comment: None\n"
     ]
    }
   ],
   "source": [
    "# import  sqlite3\n",
    "con  =  sqlite3.connect(\"catalog.db\") \n",
    "cur  =  con.cursor() \n",
    "cur.execute('SELECT * FROM Artist') \n",
    "\n",
    "for rid, name, comment in cur:\n",
    "#     fh = cur.fetchone() \n",
    "    print('rid: {:2}, name: {:25}, comment: {}'.format(rid, name, comment))"
   ]
  },
  {
   "cell_type": "markdown",
   "metadata": {},
   "source": [
    "`fetchmany([size=cursor.arraysize])` - при каждом вызове возвращает список записей из результата запроса, а затем перемещает указатель текущей nозиции.\n",
    "* Каждый элемент списка является  кортежем.\n",
    "* Количество элементов, выбираемых за один раз,  задается с nомощью необязательного nараметра или значения атрибута arraysize объекта-курсора.\n",
    "* Если количество заnисей в результате заnроса меньше указанного количества элементов сnиска, то количество элементов сnиска будет соответствовать оставшемуся количеству заnисей.\n",
    "* Если заnисей больше нет, метод возвращает пустой сnисок."
   ]
  },
  {
   "cell_type": "markdown",
   "metadata": {},
   "source": [
    "`fetchall()` - возвращает список всех (или всех оставшихся) записей из результата запроса.\n",
    "* Каждый элемент списка является кортежем. \n",
    "* Если записей больше нет, то метод возвращает пустой список."
   ]
  },
  {
   "cell_type": "code",
   "execution_count": 49,
   "metadata": {},
   "outputs": [
    {
     "name": "stdout",
     "output_type": "stream",
     "text": [
      "cur.arraysize:  1\n",
      "[(1, 'AC/DC', None), (2, 'Aerosmith', None), (3, 'Alanis Morissette', None), (4, 'Alanis Morissette', 'My test comment'), (5, 'Apocalyptica', 'It is my favorite artist'), (6, \"Guns N' Roses\", 'Funny guys'), (7, 'Iron Maiden', 'Test symbols v \" v \\' v '), (8, 'The Clash', None), (9, 'The Cult', None), (10, 'The Doors', None)]\n",
      "\n",
      "[(11, 'The Police', None), (12, 'The Rolling Stones', None), (13, 'The Police', None), (14, 'The Rolling Stones', None), (15, 'The Tea Party', None)]\n"
     ]
    }
   ],
   "source": [
    "# import  sqlite3\n",
    "con  =  sqlite3.connect(\"catalog.db\") \n",
    "cur  =  con.cursor() \n",
    "cur.execute('SELECT * FROM Artist') \n",
    "\n",
    "print('cur.arraysize: ',cur.arraysize)\n",
    "fm = cur.fetchmany(10) \n",
    "print(fm) \n",
    "\n",
    "print()\n",
    "fa = cur.fetchall() \n",
    "print(fa) "
   ]
  },
  {
   "cell_type": "markdown",
   "metadata": {},
   "source": [
    "### Управление транзакциями"
   ]
  },
  {
   "cell_type": "markdown",
   "metadata": {},
   "source": [
    "Перед выполнением первого запроса автоматически запускается транзакция.  Поэтому все запросы, изменяюшие записи (INSERT,  REPIACE,  UPDATE  и DELETE),  необходимо завершать вызовом метода `commit()` объекта соединения. \n",
    "* Если метод не вызвать и  при этом закрыть соединение с  базой данных, то  все  произведенные изменения будут отменены.\n",
    "* Транзакция может автоматически завершаться при выполнении запросов CREATE  ТАВLЕ, VACUUM и некоторых других. После выполнения этих запросов транзакция запускается снова. \n",
    "* Если необходимо отменить изменения, то следует вызвать метод `rollback()` объекта соединения. "
   ]
  },
  {
   "cell_type": "code",
   "execution_count": 50,
   "metadata": {},
   "outputs": [
    {
     "name": "stdout",
     "output_type": "stream",
     "text": [
      "Результат вставки []\n",
      "Запрос успешно выполнен\n"
     ]
    }
   ],
   "source": [
    "# import  sqlite3\n",
    "con = sqlite3.connect(\"catalog.db\") \n",
    "cur = con.cursor() #  НЕ создаем объект-курсор \n",
    "# SQL выражение \n",
    "\n",
    "sql = '''\n",
    "INSERT INTO Artist (Name) \n",
    "VALUES (?)'''\n",
    "\n",
    "val = ('New value',)\n",
    "\n",
    "try:  \n",
    "    cur.execute(sql, val)\n",
    "    con.rollback() \n",
    "    cur.execute('SELECT * FROM Artist WHERE Name = ?', val)\n",
    "    print('Результат вставки', cur.fetchall())\n",
    "    \n",
    "except sqlite3.DatabaseError as err: \n",
    "    print(\"Ошибка:\", err) \n",
    "else: \n",
    "    print (\"Запрос успешно выполнен\") \n",
    "    con.commit() # Завершаем транзакцию\n",
    "    cur.close() # Закрываем объект-курсор \n",
    "    con.close() # Закрываем соединение"
   ]
  },
  {
   "cell_type": "markdown",
   "metadata": {},
   "source": [
    "Уnравлять транзакцией можно с помощью nараметра `isolation _level` в функции `connect()`, а также с  nомощью атрибута `isolation _level`  объекта соединения. Доnустимые значения: \n",
    "* \"DEFERRED\"\n",
    "* \"IММEDIATE\"\n",
    "* \"EXCLUSIVE\"\n",
    "* пустая строка \n",
    "* `None`.  \n",
    "\n",
    "Первые три значения nередаются в инструкцию BEGIN.  Если в качестве значения указать `None`, то транзакция заnускаться не будет.  В этом случае  нет  необходимости вызывать метод `commit()`.  Все изменения будут сразу сохраняться в базе данных. "
   ]
  },
  {
   "cell_type": "code",
   "execution_count": 51,
   "metadata": {},
   "outputs": [
    {
     "name": "stdout",
     "output_type": "stream",
     "text": [
      "con.isolation_level:  None\n",
      "[(16, 'New value two', None)]\n"
     ]
    }
   ],
   "source": [
    "sql = '''\n",
    "INSERT INTO Artist (Name) \n",
    "VALUES (?)'''\n",
    "\n",
    "val = ('New value two',)\n",
    "\n",
    "con = sqlite3.connect(\"catalog.db\",  isolation_level=None) \n",
    "# Другой способ установки уровня изоляции:\n",
    "# con.isolation_level = None # Отключение запуска транзакции\n",
    "print('con.isolation_level: ', con.isolation_level)\n",
    "cur = con.cursor() \n",
    "\n",
    "cur.execute (sql, val) \n",
    "con.close() \n",
    "\n",
    "con  =  sqlite3.connect(\"catalog.db\") \n",
    "cur = con.cursor() \n",
    "\n",
    "cur.execute('SELECT * FROM Artist WHERE Name = ?', val)\n",
    "\n",
    "print(cur.fetchall())\n",
    "con.close() "
   ]
  },
  {
   "cell_type": "markdown",
   "metadata": {},
   "source": [
    "###  Обработка исключений"
   ]
  },
  {
   "cell_type": "markdown",
   "metadata": {},
   "source": [
    "Модуль sqliteз поддерживает следующую иерархию исключений: \n",
    "\n",
    "* Exception \n",
    "    * Warning \n",
    "    * Error \n",
    "        * InterfaceError \n",
    "        * DatabaseError \n",
    "            * DataError \n",
    "            * OperationalError \n",
    "            * IntegrityError \n",
    "            * InternalError \n",
    "            * ProgrammingError \n",
    "            * NotSupportedError \n",
    "            \n",
    "Базовым классом самого верхнего уровня является класс `Exception`.  Все остальные исключения  определены  в  модуле  sqliteЗ.  Поэтому при указании  исключения except  следует  предварительно  указать  названИе  модуля sqliteЗ. DatabaseError).\n",
    "\n",
    "Исключения возбуждаются в следующих случаях: \n",
    "* warning - при наличии важных предупреждений; \n",
    "в  инструкции \n",
    "(например, \n",
    "* Error - базовый класс для всех остальных исключений, возбуждаемых в случае ошибки. Если указать этот класс в инструкции except, то будут перехватываться все ошибки: \n",
    "* InterfaceError - при  ошибках,  которые связаны  с  интерфейсом  базы  данных,  а  не с самой базой данных; \n",
    "* DatabaseError - базовый класс для исключений, которые связаны с базой данных; \n",
    "* DataError - при ошибках, возникающих при обработке данных; \n",
    "* OperationalError - вызывается  при ошибках,  которые связаны  с  операциями  в  базе данных, например, при синтаксической ошибке в SQL-зaпpoce, несоответствии количества полей в инструкции INSERT,  отсутствии поля с указанным именем и т. д.  Иногда не зависит от правильиости SQL-зaпpoca; \n",
    "* IntegrityError - при наличии проблем с внешними ключами или индексами; \n",
    "* InternalError - при внутренней ошибке в базе данных; \n",
    "* ProgrammingError - возникает при ошибках проrраммирования. Например, количество переменных, указанных во втором параметре метода execute(),  не совпадает с  количеством специальных символов в SQL-зaпpoce; \n",
    "* NotSupportedError - при использовании методов, не поддерживаемых базой данных. "
   ]
  },
  {
   "cell_type": "code",
   "execution_count": null,
   "metadata": {
    "collapsed": true
   },
   "outputs": [],
   "source": []
  },
  {
   "cell_type": "markdown",
   "metadata": {},
   "source": [
    "Язык Python nоддерживает nротокол  менеджеров контекста with.  Этот nротокол  гарантирует выnолнение завершающих действий вне зависимости от того,  nроизошло исключение внутри блока кода или нет.  В модуле sqlite3 объект соединения nоддерживает этот nротокол. Если внутри блока with  не nроизошло исключение, то автоматически  вызывается  метод `commit()`.  В nротивном случае  все  изменения  отменяются с  nомощью метода `rollback()`."
   ]
  },
  {
   "cell_type": "code",
   "execution_count": 23,
   "metadata": {},
   "outputs": [
    {
     "name": "stdout",
     "output_type": "stream",
     "text": [
      "Запрос успешно выполнен\n"
     ]
    }
   ],
   "source": [
    "# import  sqlite3\n",
    "con = sqlite3.connect(\"catalog.db\") \n",
    "cur = con.cursor() #  НЕ создаем объект-курсор \n",
    "# SQL выражение \n",
    "\n",
    "sql = '''\n",
    "INSERT INTO Artist (Name) \n",
    "VALUES (?)'''\n",
    "\n",
    "val = ('New value 3',)\n",
    "\n",
    "try:\n",
    "    with con:\n",
    "        con.execute(sql, val)\n",
    "    \n",
    "except sqlite3.DatabaseError as err: \n",
    "    print(\"Ошибка:\", err) \n",
    "else: \n",
    "    print (\"Запрос успешно выполнен\") \n",
    "    con.commit() # Завершаем транзакцию\n",
    "    cur.close() # Закрываем объект-курсор \n",
    "    con.close() # Закрываем соединение"
   ]
  },
  {
   "cell_type": "markdown",
   "metadata": {},
   "source": [
    "# Нормальные формы <a class=\"anchor\" id=\"нормальные-формы\"></a>\n",
    "-\n",
    "* [к оглавлению](#разделы)"
   ]
  },
  {
   "cell_type": "markdown",
   "metadata": {},
   "source": [
    "Устранение дублирования информации важно по двум причинам:\n",
    "− устранив дублирование, можно добиться существенной экономии\n",
    "памяти;\n",
    "− если некоторое значение поля повторяется несколько раз, то при\n",
    "корректировке данных необходимо менять содержимое всех этих полей, в\n",
    "противном случае нарушится целостность данных. \n",
    "\n",
    "Нормализация отношений – формальный аппарат ограничений на\n",
    "формирование отношений (таблиц), который позволяет устранить дублирование, обеспечивает непротиворечивость хранимых в базе данных,\n",
    "уменьшает трудозатраты на ведение (ввод, корректировку) базы данных.\n",
    "\n",
    "\n",
    "При неправильно спроектированной схеме реляционной БД могут возникнуть аномалии выполнения операций модификации данных.\n",
    "\n",
    "Аномалия обновления может возникнуть в том случае, когда информация дублируется. Другие аномалии возникают тогда, когда две и более сущности объединены в одно отношение.\n",
    "Например:\n",
    "* Аномалия обновления: изменился адрес поставщика. Если от него было несколько поставок, то придется менять несколько записей.\n",
    "* Аномалия удаления: при удалении в архив записей обо всех поставках определённого поставщика все данные об этом поставщике (название, адрес) будут утеряны.\n",
    "* Аномалия добавления: нельзя добавить сведения о поставщике, пока от него нет ни одной поставки. \n",
    "Для решения проблемы аномалии модификации данных при проектировании РБД проводится нормализация отношений."
   ]
  },
  {
   "cell_type": "markdown",
   "metadata": {},
   "source": [
    "__Первая нормальная форма__\n",
    "\n",
    "<center>         \n",
    "    <img src=\"./img/nf0.png\" alt=\"Стек технологий Python для обработки данных и научных расчетов\" style=\"width: 700px;\"/>\n",
    "    <b>Пример содержимого таблицы \"Книги\" в ненормализованном виде</b>\n",
    "</center>\n",
    "\n",
    "Первая нормальная форма\n",
    "\n",
    "Введём понятие простого и сложного атрибута:\n",
    "* __Простой атрибут__ – это атрибут, значения которого атомарны (т.е. неделимы).  Неделимость поля означает, что содержащиеся в нем значения не должны делиться на более мелкие или представлять из себя повторяющиеся группы. \n",
    "* __Сложный атрибут__ может иметь значение, представляющее собой конкатенацию нескольких значений одного или разных доменов. \n",
    "\n",
    "__Первая нормальная форма (1НФ)__ - отношение приведено к 1НФ, если все его атрибуты простые (каждый его кортеж содержит только одно значение для каждого из атрибутов).\n",
    "\n",
    "\n",
    "__В реляционной модели отношение всегда находится в первой нормальной форме__ по определению понятия отношение. Что же касается различных таблиц, то они могут не быть правильными представлениями отношений и, соответственно, могут не находиться в 1НФ.\n",
    "\n",
    "Для нахождения в 1НФ таблица должна удовлетворять следующим пяти условиям:\n",
    "1. Нет упорядочивания строк сверху вниз (другими словами, порядок строк не несет в себе никакой информации).\n",
    "2. Нет упорядочивания столбцов слева направо (другими словами, порядок столбцов не несет в себе никакой информации).\n",
    "3. Нет повторяющихся строк.\n",
    "4. Каждое пересечение строки и столбца содержит ровно одно значение из соответствующего домена (и больше ничего).\n",
    "    * что здесь __домен__?\n",
    "5. Все столбцы являются обычными\n",
    "\n",
    "<center>         \n",
    "    <img src=\"./img/nf1.png\" alt=\"Приведение данных к 1НФ\" style=\"width: 700px;\"/>\n",
    "    <b>Приведение таблицы \"Книги\" к 1НФ</b>\n",
    "</center>"
   ]
  },
  {
   "cell_type": "markdown",
   "metadata": {},
   "source": [
    "__Вторая нормальная форма__\n",
    "\n",
    "__Отношение находится во 2НФ__, если:\n",
    "* оно приведено к 1НФ\n",
    "* каждый неключевой атрибут __функционально полно зависит__ от составного ключа.\n",
    "\n",
    "* Понятие __функциональной зависимости__: \n",
    "    * Пусть X и Y – атрибуты (группы атрибутов) некоторого отношения. \n",
    "    * Говорят, что Y функционально зависит от X, если в любой момент времени каждому значению X=х соответствует единственное значение Y=y: X->Y (икс определяет зет).\n",
    "    * При этом любому значению Y=y может соответствовать несколько значений Х=(х1, х2,…)).\n",
    "    \n",
    "Смысл определения в том, что если Y функционально зависит от X, то каждый из кортежей, имеющих одно и то же значение X, должен иметь также одно и то же значение Y. Значения X и Y могут изменяться время от времени, но при этом должны изменяться так,\n",
    "чтобы каждое уникальное значение X имело только одно уникальное значение Y, связанное с ним.     \n",
    "    \n",
    "* __Полная функционально зависимость__ означает, что если потенциальный ключ является составным, то атрибут зависит от всего ключа и не зависит от его частей.\n",
    "    * Если потенциальный ключ является __простым__, то есть состоит из единственного атрибута, то любая функциональная зависимость от него является полной. \n",
    "    * Если потенциальный ключ является __составным__, то, согласно определению 2НФ, в отношении __не должно быть неключевых атрибутов, зависящих от части составного потенциального ключа__.\n",
    "* Вторая нормальная форма запрещает наличие неключевых атрибутов, которые вообще не зависят от потенциального ключа. Т.е. __запрещается создавать отношения как несвязанные (хаотические, случайные) наборы атрибутов__.\n",
    "\n",
    "Приведение ко 2НФ:\n",
    "* построить проекцию, исключив атрибуты, которые не находятся в функционально полной зависимости от составного ключа;\n",
    "* построить дополнительные проекции на часть составного ключа и атрибуты, функционально зависящие от этой части ключа.\n",
    "\n",
    "<center>         \n",
    "    <img src=\"./img/nf2_1.png\" alt=\"Приведение данных к 2НФ\" style=\"width: 700px;\"/>\n",
    "    <b>Приведение таблицы \"Книги\" к 2НФ: отношение \"Книги\"</b>\n",
    "</center>\n",
    "\n",
    "<center>         \n",
    "    <img src=\"./img/nf2_2.png\" alt=\"Приведение данных к 2НФ\" style=\"width: 300px;\"/>\n",
    "    <b>Приведение таблицы \"Книги\" к 2НФ: отношение \"Книги-Авторы-Редакторы\"</b>\n",
    "</center>\n",
    "\n"
   ]
  },
  {
   "cell_type": "markdown",
   "metadata": {},
   "source": [
    "Частичные функциональные зависимости (отсутствие приведения к 2НФ) приводят к __аномалиям__:\n",
    "\n",
    "* избыточнму дублированию данных \n",
    "    * Например заголовок книги повторяется много раз для книг с несколькими авторами.\n",
    "* проблеме контроля правильности данных в случае их изменения\n",
    "    * Например изменение кода одной книги потребует внесения изменений в нескольких кортежах.\n",
    "* проблеме добавления: нельзя добавить сведения в случае отсутсвия связанных с ним факта.\n",
    "    * Например, нельзя добавить данные о поставщике, пока от него нет ни одной поставки.     \n",
    "* проблема удаления записей: удаление кортежа может привести к потере сведений, относящихся не только к этому кортежу\n",
    "    * Удаление записи о книге может привести к удаелнию информации о наименовании темы. \n",
    "    "
   ]
  },
  {
   "cell_type": "markdown",
   "metadata": {},
   "source": [
    "__Третья нормальная форма__\n",
    "\n",
    "__Функциональная зависимость__ множества атрибутов Z от множества атрибутов X __является транзитивной__, если существует такое множество атрибутов Y, что:\n",
    "* X->Y и Y->Z\n",
    "* при этом ни одно из множеств X, Y и Z не является подмножеством другого, то есть функциональные зависимости X->Z, X->Y и Y->Z не являются тривиальными\n",
    "* отсутствует функциональная зависимость Y->X.\n",
    "\n",
    "__Третья нормальная форма (3НФ)__: отношение находится в 3НФ, если:\n",
    "* оно находится во 2НФ\n",
    "* в нем отсутствуют транзитивные зависимости неключевых атрибутов от ключа.\n",
    "\n",
    "Исключение: \n",
    "если для атрибутов X,Y,Z есть транзитивная зависимость X->->Z, и при этом Y->X или Z->Y, то такая зависимость не требует декомпозиции отношения. \n",
    "\n",
    "_Например_ :\n",
    "для отношения АВТОМОБИЛИ с первичным ключом Государственный номерной знак и полями № кузова и № двигателя очевидно, что номера кузова и двигателя зависят как друг от друга, так и от первичного ключа. Но эта зависимость взаимно однозначная, поэтому декомпозиция отношения не нужна. \n",
    "\n",
    "\n",
    "<center>         \n",
    "    <img src=\"./img/nf3_1.png\" alt=\"Приведение данных к 2НФ\" style=\"width: 700px;\"/>\n",
    "    <b>Отношения \"Книги\", приведенные к 3НФ</b>\n",
    "</center>\n",
    "\n",
    "<center>         \n",
    "    <img src=\"./img/nf3_2.png\" alt=\"Приведение данных к 2НФ\" style=\"width: 300px;\"/>\n",
    "    <b>Приведение к 3НФ отношения \"Книги\": введение отношения \"Рубрикатор\"</b>\n",
    "</center>\n",
    "\n",
    "Чтобы устранить транзитивную зависимость и привести отношение в\n",
    "3НФ, необходимо:\n",
    "* построить проекцию без атрибутов, находящихся в транзитивной зависимости от ключа;\n",
    "* построить отдельные проекции на неключевые атрибуты, между которыми имеется функциональная зависимость;\n",
    "* получившиеся отношения с одинаковыми ключами соединить. "
   ]
  },
  {
   "cell_type": "markdown",
   "metadata": {},
   "source": [
    "Наличие транзитивных зависимостей порождает __аномалии__ следующего характера:\n",
    "* избыточно дублирование информации\n",
    "* сложное редактирование данных: изменение, требует поиска и замены его во всех кортежах где эти данные могут дублироваться;\n",
    "* проблема удаления записей: удаление кортежа может привести к потере сведений о связанных категориях\n",
    "* проблема добавления записей: невозможно дбавить сведения, если не добавлены связанные категории"
   ]
  },
  {
   "cell_type": "markdown",
   "metadata": {},
   "source": [
    "__Анализ применимости нормализации представления данных__\n",
    "\n",
    "Сравнение агрегированного и нормализованного представления:\n",
    "\n",
    "\n",
    "\n",
    "<center>         \n",
    "    <img src=\"./img/norm_form.png\" alt=\"Приведение данных к 2НФ\" style=\"width: 500px;\"/>\n",
    "    <b>Нормализованное представление</b>\n",
    "</center>\n",
    "\n",
    "<center>         \n",
    "    <img src=\"./img/agr_form.png\" alt=\"Приведение данных к 2НФ\" style=\"width: 500px;\"/>\n",
    "    <b>Агрегированное представление</b>\n",
    "</center>\n",
    "\n",
    "\n",
    "__Нормализация данных__\n",
    "* __Плюсы:__\n",
    "    * <b class=\"b\">+</b> Целостность даннх при обновлении (изменяем данные в одной таблице, а не в нескольких)\n",
    "    * <b class=\"b\">+</b> Ориентированность на широкий спектр запросов к данным\n",
    "* __Минусы:__\n",
    "    * <b class=\"b\">-</b> Низкая скорость чтения при использовании объединений (joins)\n",
    "    * <b class=\"b\">-</b> Несоотвествие объектной модели приложения физической структуре данных\n",
    "    * <b class=\"b\">-</b> Усложенение структуры БД при высокой степени нормализации\n",
    "    * <b class=\"b\">-</b> Неэффективность в распределенной среде  \n",
    "\n",
    "__Данные в виде агрегатов__\n",
    "* __Плюсы:__\n",
    "    * <b class=\"b\">+</b> Высокая скорость чтения при отсутствии объединений (joins)\n",
    "    * <b class=\"b\">+</b> Лучший способ добиться большой скорости на чтение в распределенной среде\n",
    "    * <b class=\"b\">+</b> Возможность хранить физические объекты в том виде, в котором с ними работает приложение (легче кодировать и меньше ошибок при преобразовании)\n",
    "* __Минусы:__\n",
    "    * <b class=\"b\">-</b> Оптимизация только под определенный вид запросов.\n",
    "    * <b class=\"b\">-</b> Сложность при обновлении денормализованных данных.\n",
    "    \n",
    "    \n",
    "__Организация работы Join__\n",
    "\n",
    "* Введение в язык SQL.ppt (слайды 20+)\n",
    "\n",
    "TODO: Индексы"
   ]
  },
  {
   "cell_type": "markdown",
   "metadata": {},
   "source": [
    "__Подход NoSQL__\n",
    "\n",
    "* NoSQL — ряд подходов, к реализации хранилищ баз данных, имеющих существенные отличия от реляционных СУБД.\n",
    "* NoSQL = Not ONLY SQL. Подход NoSQL не является отрицанием реляционного подхода (SQL), а рассматривает его как важный, но не универсальный инструмент. \n",
    "\n",
    "Черты, присущие подходам NoSQL (к некоторым подходам в рамках NoSQL относятся не все свойства):\n",
    "* Является большим хранилищем сериализованных объектов\n",
    "    * Поиск информации по ID\n",
    "* В общем случае сложные запросы к данным не поддерживаются\n",
    "* Не имеют структурированной (а подчас и вообще какой-либо) схемы (нет реляционной модели)\n",
    "* Ориентированы на работу с денормализованными данными\n",
    "* Являются готовыми решениями для создания распределенных хранилищ данных (на основе кластеров ) из-за этого не поддерживают требований ACID (Atomicity — Атомарность, Consistency — Согласованность, Isolation — Изолированность, Durability — Стойкость)\n",
    "* Любой узел распределенного хранилища может отвечать на любой запрос\n",
    "* Любое изменение (добавление) информации может выполнятся для любого узла хранилища и со временем распространится на другие узлы"
   ]
  },
  {
   "cell_type": "markdown",
   "metadata": {},
   "source": [
    "__Документо-ориентированные базы__\n",
    "\n",
    "Документо-ориентированные базы похожи на Key-Value базы, но отличаются тем, что БД знает, что из себя представляют значения. Обычно, значением является некоторый документ или объект, к структуре которого можно делать запросы. \n",
    "\n",
    "Представители (см.: https://db-engines.com/en/ranking/document+store):\n",
    "* MongoDB\n",
    "* Couchbase\n",
    "* Firebase.\n",
    "\n",
    "\n",
    "__MongoDB__ — документоориентированная  СУБД с открытым исходным кодом, не требующая описания схемы таблиц, класса NoSQL, использует JSON-подобные документы и схему базы данных. \n",
    "* Fast introduction: https://www.youtube.com/watch?v=EE8ZTQxa0AM \n",
    "* Система поддерживает ad-hoc-запросы: они могут возвращать конкретные поля документов. \n",
    "* Поддерживается JavaScript в запросах, пользовательские JavaScript-функции в функциях агрегации (аналогах map-reduce)\n",
    "* Поддерживается поиск по регулярным выражениям\n",
    "* База данных MongoDB распространена в системах хранения и регистрация событий в системах управления документами и контентом.\n",
    "* Система может работать с набором реплик, то есть, содержать две или более копии данных на различных узлах.\n",
    "* Система масштабируется горизонтально, используя sharding объектов баз данных \n",
    "\n",
    "\n",
    "* Краткое руководство по MongoDB: https://coderlessons.com/tutorials/bazy-dannykh/uchitsia-mongodb/mongodb-kratkoe-rukovodstvo\n",
    "* Tutorial MongoDB на Python: https://realpython.com/introduction-to-mongodb-and-python/ \n",
    "* https://www.w3schools.com/python/python_mongodb_getstarted.asp "
   ]
  }
 ],
 "metadata": {
  "kernelspec": {
   "display_name": "Python 3",
   "language": "python",
   "name": "python3"
  },
  "language_info": {
   "codemirror_mode": {
    "name": "ipython",
    "version": 3
   },
   "file_extension": ".py",
   "mimetype": "text/x-python",
   "name": "python",
   "nbconvert_exporter": "python",
   "pygments_lexer": "ipython3",
   "version": "3.7.6"
  }
 },
 "nbformat": 4,
 "nbformat_minor": 1
}
