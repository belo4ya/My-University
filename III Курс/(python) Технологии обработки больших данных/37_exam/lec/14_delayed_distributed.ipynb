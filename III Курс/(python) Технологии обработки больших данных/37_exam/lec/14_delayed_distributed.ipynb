{
 "cells": [
  {
   "cell_type": "markdown",
   "metadata": {},
   "source": [
    "# Лекция 13: Dask Delayed\n",
    "\n",
    "__Автор: Сергей Вячеславович Макрушин__ e-mail: SVMakrushin@fa.ru \n",
    "\n",
    "Финансовый универсиет, 2020 г. \n",
    "\n",
    "При подготовке лекции использованы материалы:\n",
    "* ...\n",
    "\n",
    "V 0.3 02.12.2020"
   ]
  },
  {
   "cell_type": "markdown",
   "metadata": {},
   "source": [
    "## Разделы: <a class=\"anchor\" id=\"разделы\"></a>\n",
    "* [Серии (Series) - одномерные массивы в Pandas](#серии)\n",
    "* [Датафрэйм (DataFrame) - двумерные массивы в Pandas](#датафрэйм)\n",
    "    * [Введение](#датафрэйм-введение)\n",
    "    * [Индексация](#датафрэйм-индексация)    \n",
    "* [Обработка данных в библиотеке Pandas](#обработка-данных)\n",
    "    * [Универсальные функции и выравнивание](#обработка-данных-универсальные)\n",
    "    * [Работа с пустыми значениями](#обработка-данных-пустрые-значения)\n",
    "    * [Агрегирование и группировка](#обработка-данных-агрегирование)    \n",
    "* [Обработка нескольких наборов данных](#обработка-нескольких)\n",
    "    * [Объединение наборов данных](#обработка-нескольких-объединение)\n",
    "    * [GroupBy: разбиение, применение, объединение](#обработка-нескольких-групбай)\n",
    " \n",
    "-\n",
    "\n",
    "* [к оглавлению](#разделы)"
   ]
  },
  {
   "cell_type": "code",
   "execution_count": 1,
   "metadata": {},
   "outputs": [
    {
     "data": {
      "text/html": [
       "﻿<style>\r\n",
       "\r\n",
       "\r\n",
       "b.n {\r\n",
       "    font-weight: normal;        \r\n",
       "}\r\n",
       "\r\n",
       "b.grbg {\r\n",
       "    background-color: #a0a0a0;      \r\n",
       "}\r\n",
       "\r\n",
       "b.r {\r\n",
       "    color: #ff0000;    \r\n",
       "}\r\n",
       "\r\n",
       "\r\n",
       "b.b {    \r\n",
       "    color: #0000ff;    \r\n",
       "}\r\n",
       "\r\n",
       "b.g {\r\n",
       "    color: #00ff00;    \r\n",
       "}\r\n",
       "\r\n",
       "\r\n",
       "// add your CSS styling here\r\n",
       "\r\n",
       "list-style: none;\r\n",
       "\r\n",
       "ul.s {\r\n",
       "//    list-style-type: none;\r\n",
       "    list-style: none;\r\n",
       "//    background-color: #ff0000;  \r\n",
       "//    color: #ffff00;\r\n",
       "//  padding-left: 1.2em;\r\n",
       "//  text-indent: -1.2em;\r\n",
       "}\r\n",
       "\r\n",
       "li.t {\r\n",
       "    list-style: none;\r\n",
       "//  padding-left: 1.2em;\r\n",
       "//  text-indent: -1.2em;    \r\n",
       "}\r\n",
       "\r\n",
       "\r\n",
       "*.r {\r\n",
       "    color: #ff0000;    \r\n",
       "}\r\n",
       "\r\n",
       "li.t:before {\r\n",
       "    content: \"\\21D2\";    \r\n",
       "//    content: \"►\";\r\n",
       "//    padding-left: -1.2em;    \r\n",
       "    text-indent: -1.2em;    \r\n",
       "    display: block;\r\n",
       "    float: left;\r\n",
       "    \r\n",
       "    \r\n",
       "//    width: 1.2em;\r\n",
       "//    color: #ff0000;\r\n",
       "}\r\n",
       "\r\n",
       "i.m:before {\r\n",
       "    font-style: normal;    \r\n",
       "    content: \"\\21D2\";  \r\n",
       "}\r\n",
       "i.m {\r\n",
       "    font-style: normal; \r\n",
       "}    \r\n",
       "\r\n",
       "/*--------------------*/\r\n",
       "/* em {\r\n",
       "    font-style: normal; \r\n",
       "} */\r\n",
       "\r\n",
       "\r\n",
       "em.bl {\r\n",
       "    font-style: normal;     \r\n",
       "    font-weight: bold;        \r\n",
       "}\r\n",
       "\r\n",
       "/* em.grbg {\r\n",
       "    font-style: normal;         \r\n",
       "    background-color: #a0a0a0;      \r\n",
       "} */\r\n",
       "\r\n",
       "em.cr {\r\n",
       "    font-style: normal;         \r\n",
       "    color: #ff0000;    \r\n",
       "}\r\n",
       "\r\n",
       "em.cb {    \r\n",
       "    font-style: normal;         \r\n",
       "    color: #0000ff;    \r\n",
       "}\r\n",
       "\r\n",
       "em.cg {\r\n",
       "    font-style: normal;         \r\n",
       "    color: #00ff00;    \r\n",
       "}\r\n",
       "\r\n",
       "/*--------------------*/\r\n",
       "\r\n",
       "em.qs {\r\n",
       "    font-style: normal; \r\n",
       "}\r\n",
       "\r\n",
       "em.qs::before {\r\n",
       "    font-weight: bold;    \r\n",
       "    color: #ff0000;    \r\n",
       "    content: \"Q:\";  \r\n",
       "}\r\n",
       "\r\n",
       "em.an {\r\n",
       "    font-style: normal; \r\n",
       "}\r\n",
       "\r\n",
       "em.an:before {\r\n",
       "    font-weight: bold;    \r\n",
       "    color: #0000ff;    \r\n",
       "    content: \"A:\";  \r\n",
       "}\r\n",
       "    \r\n",
       "em.nt {\r\n",
       "    font-style: normal; \r\n",
       "}\r\n",
       "\r\n",
       "em.nt:before {\r\n",
       "    font-weight: bold;    \r\n",
       "    color: #0000ff;    \r\n",
       "    content: \"Note:\";  \r\n",
       "}    \r\n",
       "    \r\n",
       "em.ex {\r\n",
       "    font-style: normal; \r\n",
       "}\r\n",
       "\r\n",
       "em.ex:before {\r\n",
       "    font-weight: bold;    \r\n",
       "    color: #00ff00;    \r\n",
       "    content: \"Ex:\";  \r\n",
       "} \r\n",
       "    \r\n",
       "em.df {\r\n",
       "    font-style: normal; \r\n",
       "}\r\n",
       "\r\n",
       "em.df:before {\r\n",
       "    font-weight: bold;    \r\n",
       "    color: #0000ff;    \r\n",
       "    content: \"Def:\";  \r\n",
       "}    \r\n",
       "\r\n",
       "em.pl {\r\n",
       "    font-style: normal; \r\n",
       "}\r\n",
       "\r\n",
       "em.pl:before {\r\n",
       "    font-weight: bold;    \r\n",
       "    color: #0000ff;    \r\n",
       "    content: \"+\";  \r\n",
       "}    \r\n",
       "\r\n",
       "em.mn {\r\n",
       "    font-style: normal; \r\n",
       "}\r\n",
       "\r\n",
       "em.mn:before {\r\n",
       "    font-weight: bold;    \r\n",
       "    color: #0000ff;    \r\n",
       "    content: \"-\";  \r\n",
       "}        \r\n",
       "\r\n",
       "em.plmn {\r\n",
       "    font-style: normal; \r\n",
       "}\r\n",
       "\r\n",
       "em.plmn:before {\r\n",
       "    font-weight: bold;    \r\n",
       "    color: #0000ff;    \r\n",
       "    content: \"\\00B1\";\\\\\"&plusmn;\";  \r\n",
       "}\r\n",
       "    \r\n",
       "em.hn {\r\n",
       "    font-style: normal; \r\n",
       "}\r\n",
       "\r\n",
       "em.hn:before {\r\n",
       "    font-weight: bold;    \r\n",
       "    color: #0000ff;    \r\n",
       "    content: \"\\21D2\";\\\\\"&rArr;\";  \r\n",
       "}     \r\n",
       "    \r\n",
       "\r\n",
       "#cssTableCenter td, th \r\n",
       "{\r\n",
       "    text-align: center; \r\n",
       "    vertical-align: middle;\r\n",
       "}\r\n",
       "\r\n",
       "</style>"
      ],
      "text/plain": [
       "<IPython.core.display.HTML object>"
      ]
     },
     "execution_count": 1,
     "metadata": {},
     "output_type": "execute_result"
    }
   ],
   "source": [
    "# загружаем стиль для оформления презентации\n",
    "from IPython.display import HTML\n",
    "from urllib.request import urlopen\n",
    "html = urlopen(\"file:./lec_v2.css\")\n",
    "HTML(html.read().decode('utf-8'))"
   ]
  },
  {
   "cell_type": "markdown",
   "metadata": {},
   "source": [
    "## Распараллеливание кода с помощью `dask.delayed`\n",
    "\n",
    "При помощи `dask.delayed` можно распараллелить произвольный алгоритм, написанный на Python. \n",
    "* `dask.delayed` имеет смысл применять, если работа алгоритма плохо ложится на логику, предлагаемую `dask.Bag`, `dask.Array` или `dask.DataFrame`. \n",
    "* `dask.delayed` позволяет быстро превратить существующий алгоритм, имеющий потенциал расспаралеливания, в параллельный. Для этого очень удобно использовать аннотации `@delayed`.\n",
    "* Использование `dask.delayed` позволяет генерировать граф зависимостей задач, который будет исполнятся параллельно с помощью планировщика Dask. \n",
    "* Паралельную обработку данных с помощью `dask.delayed` можно сочетать с испоьзованием `dask.Bag`, `dask.Array` или `dask.DataFrame` за счет применения функций `from_delayed` `to_delayed`."
   ]
  },
  {
   "cell_type": "markdown",
   "metadata": {},
   "source": [
    "### Вводный пример"
   ]
  },
  {
   "cell_type": "code",
   "execution_count": 37,
   "metadata": {},
   "outputs": [],
   "source": [
    "from time import sleep\n",
    "\n",
    "def inc(x):\n",
    "    sleep(1) # имитриуем длительные вычисления\n",
    "    return x + 1\n",
    "\n",
    "def add(x, y):\n",
    "    sleep(1) # имитриуем длительные вычисления\n",
    "    return x + y"
   ]
  },
  {
   "cell_type": "code",
   "execution_count": 8,
   "metadata": {},
   "outputs": [
    {
     "name": "stdout",
     "output_type": "stream",
     "text": [
      "Wall time: 3.01 s\n"
     ]
    }
   ],
   "source": [
    "%%time\n",
    "# Последовательное выполнение трех операций займет 3 секунды:\n",
    "\n",
    "x = inc(1)\n",
    "y = inc(2)\n",
    "z = add(x, y)"
   ]
  },
  {
   "cell_type": "markdown",
   "metadata": {},
   "source": [
    "Потенциал распараллеливания существующей реализации алгоритма: два вызова `inc` могут быть выполнены параллельно, т.к. они полностью независимы друг от друга.\n",
    "\n",
    "* С помощью `dask.delayed` мы сгенерируем граф зависимостей задач, который будет исполнятся параллельно с помощью планировщика Dask.\n",
    "* Для этого каждую функцию мы декарируем с помощью `dask.delayed` - по сути создаем обертку (wrapper) для нее.\n",
    "    * Вызов функции, декорированной с помощью `dask.delayed`, будет выглядеть как и раньше - ей будут передаваться параметры, но сама функция не будет вызываться, вместо этого вызов функции будет возращать отложенный объект (delayed object) - объект типа `Delayed`.\n",
    "    * Этот объект является посредником (proxy) который хранит информацию о том, какая функция и к каким аргументам должна быть применена чтобы получить результат вызова. Полученное множество отложенных объектов связанных зависимостями по данным по сути формирует граф зависимостей задач.\n",
    "* Справка: *Декоратор - это функция, которая принимает функцию или метод в качестве аргумента и возвращает новую функцию или метод, включающую декорированную функцию или метод, с дополнительными функциональными возможностями.* "
   ]
  },
  {
   "cell_type": "code",
   "execution_count": 2,
   "metadata": {},
   "outputs": [],
   "source": [
    "import dask\n",
    "from dask import delayed"
   ]
  },
  {
   "cell_type": "code",
   "execution_count": 38,
   "metadata": {},
   "outputs": [
    {
     "name": "stdout",
     "output_type": "stream",
     "text": [
      "Wall time: 0 ns\n"
     ]
    }
   ],
   "source": [
    "%%time\n",
    "# Ячейка выполнится почти моментально, т.к. функции рассчетов вызываться не будут, а будет строится граф зависимостей задач.\n",
    "\n",
    "x = delayed(inc)(1) # декорирование функции inc и вызов декорированной функции с аргументом 1\n",
    "y = delayed(inc)(2)\n",
    "z = delayed(add)(x, y)"
   ]
  },
  {
   "cell_type": "code",
   "execution_count": 39,
   "metadata": {},
   "outputs": [
    {
     "data": {
      "text/plain": [
       "Delayed('add-f9f153f5-e65e-42cb-a657-fbf8d00d9801')"
      ]
     },
     "execution_count": 39,
     "metadata": {},
     "output_type": "execute_result"
    }
   ],
   "source": [
    "z # переменная хранит отложенный объект"
   ]
  },
  {
   "cell_type": "code",
   "execution_count": 134,
   "metadata": {
    "scrolled": true
   },
   "outputs": [
    {
     "data": {
      "image/png": "[encoded data removed]",
      "text/plain": [
       "<IPython.core.display.Image object>"
      ]
     },
     "execution_count": 134,
     "metadata": {},
     "output_type": "execute_result"
    }
   ],
   "source": [
    "# визуализация построенного графа зависимости задач:\n",
    "z.visualize()"
   ]
  },
  {
   "cell_type": "markdown",
   "metadata": {},
   "source": [
    "<em class=\"df\"></em> __Ленивые вычисления__ (англ. lazy evaluation, также отложенные вычисления) — применяемая в некоторых языках программирования стратегия вычисления, согласно которой вычисления следует откладывать до тех пор, пока не понадобится их результат. \n",
    "\n",
    "* При использовании ленивых вычислений программист просто __описывает зависимости функций друг от друга__.\n",
    "* Фактические вычисления __происходят \"по требованию\"__ и естественным образом определяют необходимые для выполенения промежуточные вычисления.\n",
    "* Отложенные вычисления естественным образом __ложатся на функциональную парадигму программирования__.\n",
    "\n",
    "Отложенные вычисления позволяют сократить общий объём вычислений за счёт: \n",
    "* избежания __вычислений__ (промежуточных значений), __результаты которых не будут востребованы__;\n",
    "* избежания __повторного выполнения одинаковых вычсилений__ (промежуточных значений) за счет их совместного использования (share);\n",
    "* уменьшения объема используемой памяти за счет того, что __промежуточные значения создаются только тогда, когда они востребованы__."
   ]
  },
  {
   "cell_type": "code",
   "execution_count": 40,
   "metadata": {},
   "outputs": [
    {
     "name": "stdout",
     "output_type": "stream",
     "text": [
      "Wall time: 2.02 s\n"
     ]
    },
    {
     "data": {
      "text/plain": [
       "5"
      ]
     },
     "execution_count": 40,
     "metadata": {},
     "output_type": "execute_result"
    }
   ],
   "source": [
    "%%time\n",
    "# Запуск вычислений по построенному графу зависимостей задач:\n",
    "\n",
    "z.compute()"
   ]
  },
  {
   "cell_type": "markdown",
   "metadata": {},
   "source": [
    "* При работе с `dask.Bag`, `dask.Array` или `dask.DataFrame` паралелизм заложен в функциях, реализованных для этих структур данных, и мы пользуемся готовым решением. Это высокуровневый подход к распараллеливанию.\n",
    "* Использование `dask.delayed` позволяет формировать граф зависимостей задач в соответствии со структурой вызывов имеющегося алгоритма. Это более низкоуровневый подход к распараллеливанию. Его специфика:\n",
    "    * <em class=\"pl\"></em> Не нужно адаптировать алгоритм под `dask.Bag`, `dask.Array` или `dask.DataFrame`.\n",
    "    * <em class=\"pl\"></em> Можно реализовать потенциал распараллеливания, плохо ложащегося на работу с `dask.Bag`, `dask.Array` или `dask.DataFrame`\n",
    "    * <em class=\"mn\"></em> Нужно самостоятельно распаралелить реализацию алгоритма"
   ]
  },
  {
   "cell_type": "markdown",
   "metadata": {},
   "source": [
    "Распараллеливание алгоритмов сложная задача не имеющая универсального решения. Существует нексколько стратегий, которые успешно применяются во многих конкретных задачах. \n",
    "\n",
    "Для эффективного использования `dask.delayed` для распараллеливания вычислений существует важное техническое требование: каждый вызов `compute()` должен делатся для большого объема вычислений после их оформления в виде большого количества вызовов `dask.delayed`. После того как будет создан обширный граф зависимостей задач метод `compute()` запускает планировщик, который сможет праллельно задействовать доступные вычислительные ресурсы.\n",
    "\n",
    "При необходимости допустимо запускать `compute()` в середине процесса вычислений (например, когда без расчета конкретных результатов невозможно определить дальнейший ход вычислений), но нужно иметь ввиду, что для выполнения следующих шагов нужно будет ожидать, пока запущенные `compute()` вычисления не вернут результат."
   ]
  },
  {
   "cell_type": "code",
   "execution_count": 42,
   "metadata": {},
   "outputs": [],
   "source": [
    "def f(a):\n",
    "    print(f'computation f({a}):', end='')\n",
    "    for _ in range(10):\n",
    "        sleep(0.2)\n",
    "        print(f'{a}.', end='')\n",
    "    return a + 1\n",
    "\n",
    "l = list(range(4))"
   ]
  },
  {
   "cell_type": "code",
   "execution_count": 43,
   "metadata": {},
   "outputs": [
    {
     "name": "stdout",
     "output_type": "stream",
     "text": [
      "computation f(0):0.0.0.0.0.0.0.0.0.0.computation f(1):1.1.1.1.1.1.1.1.1.1.computation f(2):2.2.2.2.2.2.2.2.2.2.computation f(3):3.3.3.3.3.3.3.3.3.3.Wall time: 8.21 s\n"
     ]
    }
   ],
   "source": [
    "%%time\n",
    "\n",
    "# НЕ верная организация расчетов:\n",
    "for x in l:\n",
    "    y = delayed(f)(x)\n",
    "    y.compute()  # вызов compute() после создания каждого объекта Delayed не приведет к распараллеливанию вычислений"
   ]
  },
  {
   "cell_type": "code",
   "execution_count": 44,
   "metadata": {},
   "outputs": [
    {
     "name": "stdout",
     "output_type": "stream",
     "text": [
      "computation f(1):computation f(0):computation f(3):computation f(2):3.0.1.2.2.3.1.0.0.1.3.2.3.2.1.0.1.3.2.0.2.3.0.1.3.2.0.1.0.1.2.3.1.0.3.2.0.3.1.2.Wall time: 2.06 s\n"
     ]
    }
   ],
   "source": [
    "%%time\n",
    "\n",
    "# правильная организация расчетов:\n",
    "results = []\n",
    "for x in l:\n",
    "    y = dask.delayed(f)(x)\n",
    "    results.append(y)\n",
    "\n",
    "results = dask.compute(*results)  # вызов compute() после формирования большого количества объектов Delayed "
   ]
  },
  {
   "cell_type": "markdown",
   "metadata": {},
   "source": [
    "### Использование декораторов"
   ]
  },
  {
   "cell_type": "markdown",
   "metadata": {},
   "source": [
    "Декоратор - это функция, которая принимает функцию или метод в качестве аргумента и возвращает новую функцию или метод, включающую декорированную функцию или метод, с дополнительными функциональными возможностями.\n",
    "\n",
    "В Python есть специальный синтаксис для декорирования функций во время их определения.\n",
    "\n",
    "В большинстве случаев более удобным способом использования `dask.delayed` является его применение в виде декоратора `@delayed`. Но, нужно иметь в виду, что этот способ не подходит для функций, описанных во внешних библиотеках"
   ]
  },
  {
   "cell_type": "code",
   "execution_count": 47,
   "metadata": {},
   "outputs": [],
   "source": [
    "@delayed\n",
    "def inc(x):\n",
    "    sleep(1) # имитриуем длительные вычисления\n",
    "    return x + 1\n",
    "\n",
    "@delayed\n",
    "def add(x, y):\n",
    "    sleep(1) # имитриуем длительные вычисления\n",
    "    return x + y"
   ]
  },
  {
   "cell_type": "code",
   "execution_count": 48,
   "metadata": {},
   "outputs": [],
   "source": [
    "# после объявления функций с декоратором @delayed вызов декорированных функций выглядит стандартным:\n",
    "\n",
    "x1 = inc(1) \n",
    "y1 = inc(2)\n",
    "z1 = add(x1, y1)\n",
    "\n",
    "x2 = inc(2) \n",
    "y2 = inc(3)\n",
    "z2 = add(x2, y2)\n",
    "\n",
    "z3 = add(z1, z2)"
   ]
  },
  {
   "cell_type": "code",
   "execution_count": 142,
   "metadata": {
    "scrolled": true
   },
   "outputs": [
    {
     "data": {
      "image/png": "[encoded data removed]",
      "text/plain": [
       "<IPython.core.display.Image object>"
      ]
     },
     "execution_count": 142,
     "metadata": {},
     "output_type": "execute_result"
    }
   ],
   "source": [
    "z3.visualize()"
   ]
  },
  {
   "cell_type": "code",
   "execution_count": 49,
   "metadata": {},
   "outputs": [
    {
     "name": "stdout",
     "output_type": "stream",
     "text": [
      "Wall time: 3.03 s\n"
     ]
    },
    {
     "data": {
      "text/plain": [
       "12"
      ]
     },
     "execution_count": 49,
     "metadata": {},
     "output_type": "execute_result"
    }
   ],
   "source": [
    "%%time\n",
    "\n",
    "z3.compute()"
   ]
  },
  {
   "cell_type": "code",
   "execution_count": 50,
   "metadata": {},
   "outputs": [
    {
     "data": {
      "text/plain": [
       "9"
      ]
     },
     "execution_count": 50,
     "metadata": {},
     "output_type": "execute_result"
    }
   ],
   "source": [
    "# функция из внешней библиотеки:\n",
    "from operator import sub\n",
    "\n",
    "sub(10, 1)"
   ]
  },
  {
   "cell_type": "code",
   "execution_count": 51,
   "metadata": {},
   "outputs": [
    {
     "data": {
      "text/plain": [
       "Delayed('sub-1c72edb7-c906-4f0c-a600-e92ba3d6facb')"
      ]
     },
     "execution_count": 51,
     "metadata": {},
     "output_type": "execute_result"
    }
   ],
   "source": [
    "# декорирование функции из внешней библиотеки:\n",
    "sub = delayed(sub)\n",
    "\n",
    "sub"
   ]
  },
  {
   "cell_type": "code",
   "execution_count": 52,
   "metadata": {},
   "outputs": [
    {
     "data": {
      "text/plain": [
       "Delayed('sub-68564163-4d5d-4542-9362-7b93e06d61d1')"
      ]
     },
     "execution_count": 52,
     "metadata": {},
     "output_type": "execute_result"
    }
   ],
   "source": [
    "# использование декорированной функции выглядит стандартно:\n",
    "s = sub(10, 1)\n",
    "\n",
    "# результат применения функции теперь - отложенный объект:\n",
    "s"
   ]
  },
  {
   "cell_type": "code",
   "execution_count": 53,
   "metadata": {},
   "outputs": [
    {
     "data": {
      "text/plain": [
       "9"
      ]
     },
     "execution_count": 53,
     "metadata": {},
     "output_type": "execute_result"
    }
   ],
   "source": [
    "s.compute()"
   ]
  },
  {
   "cell_type": "markdown",
   "metadata": {},
   "source": [
    "Декорировать нужно функцию а не результат ее вызова!"
   ]
  },
  {
   "cell_type": "code",
   "execution_count": 54,
   "metadata": {},
   "outputs": [],
   "source": [
    "def f(a, b):\n",
    "    print(f'computation f({a}, {b})')\n",
    "    return a + b"
   ]
  },
  {
   "cell_type": "code",
   "execution_count": 55,
   "metadata": {},
   "outputs": [
    {
     "name": "stdout",
     "output_type": "stream",
     "text": [
      "computation f(10, 1)\n"
     ]
    },
    {
     "ename": "RuntimeError",
     "evalue": "Drawing dask graphs requires the `graphviz` python library and the `graphviz` system library to be installed.",
     "output_type": "error",
     "traceback": [
      "\u001b[1;31m---------------------------------------------------------------------------\u001b[0m",
      "\u001b[1;31mModuleNotFoundError\u001b[0m                       Traceback (most recent call last)",
      "\u001b[1;32mC:\\ProgramData\\Anaconda3\\lib\\site-packages\\dask\\utils.py\u001b[0m in \u001b[0;36mimport_required\u001b[1;34m(mod_name, error_msg)\u001b[0m\n\u001b[0;32m     95\u001b[0m     \u001b[1;32mtry\u001b[0m\u001b[1;33m:\u001b[0m\u001b[1;33m\u001b[0m\u001b[1;33m\u001b[0m\u001b[0m\n\u001b[1;32m---> 96\u001b[1;33m         \u001b[1;32mreturn\u001b[0m \u001b[0mimport_module\u001b[0m\u001b[1;33m(\u001b[0m\u001b[0mmod_name\u001b[0m\u001b[1;33m)\u001b[0m\u001b[1;33m\u001b[0m\u001b[1;33m\u001b[0m\u001b[0m\n\u001b[0m\u001b[0;32m     97\u001b[0m     \u001b[1;32mexcept\u001b[0m \u001b[0mImportError\u001b[0m\u001b[1;33m:\u001b[0m\u001b[1;33m\u001b[0m\u001b[1;33m\u001b[0m\u001b[0m\n",
      "\u001b[1;32mC:\\ProgramData\\Anaconda3\\lib\\importlib\\__init__.py\u001b[0m in \u001b[0;36mimport_module\u001b[1;34m(name, package)\u001b[0m\n\u001b[0;32m    126\u001b[0m             \u001b[0mlevel\u001b[0m \u001b[1;33m+=\u001b[0m \u001b[1;36m1\u001b[0m\u001b[1;33m\u001b[0m\u001b[1;33m\u001b[0m\u001b[0m\n\u001b[1;32m--> 127\u001b[1;33m     \u001b[1;32mreturn\u001b[0m \u001b[0m_bootstrap\u001b[0m\u001b[1;33m.\u001b[0m\u001b[0m_gcd_import\u001b[0m\u001b[1;33m(\u001b[0m\u001b[0mname\u001b[0m\u001b[1;33m[\u001b[0m\u001b[0mlevel\u001b[0m\u001b[1;33m:\u001b[0m\u001b[1;33m]\u001b[0m\u001b[1;33m,\u001b[0m \u001b[0mpackage\u001b[0m\u001b[1;33m,\u001b[0m \u001b[0mlevel\u001b[0m\u001b[1;33m)\u001b[0m\u001b[1;33m\u001b[0m\u001b[1;33m\u001b[0m\u001b[0m\n\u001b[0m\u001b[0;32m    128\u001b[0m \u001b[1;33m\u001b[0m\u001b[0m\n",
      "\u001b[1;32mC:\\ProgramData\\Anaconda3\\lib\\importlib\\_bootstrap.py\u001b[0m in \u001b[0;36m_gcd_import\u001b[1;34m(name, package, level)\u001b[0m\n",
      "\u001b[1;32mC:\\ProgramData\\Anaconda3\\lib\\importlib\\_bootstrap.py\u001b[0m in \u001b[0;36m_find_and_load\u001b[1;34m(name, import_)\u001b[0m\n",
      "\u001b[1;32mC:\\ProgramData\\Anaconda3\\lib\\importlib\\_bootstrap.py\u001b[0m in \u001b[0;36m_find_and_load_unlocked\u001b[1;34m(name, import_)\u001b[0m\n",
      "\u001b[1;31mModuleNotFoundError\u001b[0m: No module named 'graphviz'",
      "\nDuring handling of the above exception, another exception occurred:\n",
      "\u001b[1;31mRuntimeError\u001b[0m                              Traceback (most recent call last)",
      "\u001b[1;32mC:\\Users\\D899~1\\AppData\\Local\\Temp/ipykernel_19268/524967644.py\u001b[0m in \u001b[0;36m<module>\u001b[1;34m\u001b[0m\n\u001b[0;32m      1\u001b[0m \u001b[1;31m# НЕ верно:\u001b[0m\u001b[1;33m\u001b[0m\u001b[1;33m\u001b[0m\u001b[1;33m\u001b[0m\u001b[0m\n\u001b[0;32m      2\u001b[0m \u001b[0mfd1\u001b[0m \u001b[1;33m=\u001b[0m \u001b[0mdelayed\u001b[0m\u001b[1;33m(\u001b[0m\u001b[0mf\u001b[0m\u001b[1;33m(\u001b[0m\u001b[1;36m10\u001b[0m\u001b[1;33m,\u001b[0m\u001b[1;36m1\u001b[0m\u001b[1;33m)\u001b[0m\u001b[1;33m)\u001b[0m \u001b[1;31m# декорируется РЕЗУЛЬТАТ вычисления функции f\u001b[0m\u001b[1;33m\u001b[0m\u001b[1;33m\u001b[0m\u001b[0m\n\u001b[1;32m----> 3\u001b[1;33m \u001b[0mfd1\u001b[0m\u001b[1;33m.\u001b[0m\u001b[0mvisualize\u001b[0m\u001b[1;33m(\u001b[0m\u001b[1;33m)\u001b[0m\u001b[1;33m\u001b[0m\u001b[1;33m\u001b[0m\u001b[0m\n\u001b[0m",
      "\u001b[1;32mC:\\ProgramData\\Anaconda3\\lib\\site-packages\\dask\\base.py\u001b[0m in \u001b[0;36mvisualize\u001b[1;34m(self, filename, format, optimize_graph, **kwargs)\u001b[0m\n\u001b[0;32m     94\u001b[0m             \u001b[0mformat\u001b[0m\u001b[1;33m=\u001b[0m\u001b[0mformat\u001b[0m\u001b[1;33m,\u001b[0m\u001b[1;33m\u001b[0m\u001b[1;33m\u001b[0m\u001b[0m\n\u001b[0;32m     95\u001b[0m             \u001b[0moptimize_graph\u001b[0m\u001b[1;33m=\u001b[0m\u001b[0moptimize_graph\u001b[0m\u001b[1;33m,\u001b[0m\u001b[1;33m\u001b[0m\u001b[1;33m\u001b[0m\u001b[0m\n\u001b[1;32m---> 96\u001b[1;33m             \u001b[1;33m**\u001b[0m\u001b[0mkwargs\u001b[0m\u001b[1;33m\u001b[0m\u001b[1;33m\u001b[0m\u001b[0m\n\u001b[0m\u001b[0;32m     97\u001b[0m         )\n\u001b[0;32m     98\u001b[0m \u001b[1;33m\u001b[0m\u001b[0m\n",
      "\u001b[1;32mC:\\ProgramData\\Anaconda3\\lib\\site-packages\\dask\\base.py\u001b[0m in \u001b[0;36mvisualize\u001b[1;34m(*args, **kwargs)\u001b[0m\n\u001b[0;32m    484\u001b[0m     \u001b[0mhttps\u001b[0m\u001b[1;33m:\u001b[0m\u001b[1;33m//\u001b[0m\u001b[0mdocs\u001b[0m\u001b[1;33m.\u001b[0m\u001b[0mdask\u001b[0m\u001b[1;33m.\u001b[0m\u001b[0morg\u001b[0m\u001b[1;33m/\u001b[0m\u001b[0men\u001b[0m\u001b[1;33m/\u001b[0m\u001b[0mlatest\u001b[0m\u001b[1;33m/\u001b[0m\u001b[0moptimize\u001b[0m\u001b[1;33m.\u001b[0m\u001b[0mhtml\u001b[0m\u001b[1;33m\u001b[0m\u001b[1;33m\u001b[0m\u001b[0m\n\u001b[0;32m    485\u001b[0m     \"\"\"\n\u001b[1;32m--> 486\u001b[1;33m     \u001b[1;32mfrom\u001b[0m \u001b[0mdask\u001b[0m\u001b[1;33m.\u001b[0m\u001b[0mdot\u001b[0m \u001b[1;32mimport\u001b[0m \u001b[0mdot_graph\u001b[0m\u001b[1;33m\u001b[0m\u001b[1;33m\u001b[0m\u001b[0m\n\u001b[0m\u001b[0;32m    487\u001b[0m \u001b[1;33m\u001b[0m\u001b[0m\n\u001b[0;32m    488\u001b[0m     \u001b[0mfilename\u001b[0m \u001b[1;33m=\u001b[0m \u001b[0mkwargs\u001b[0m\u001b[1;33m.\u001b[0m\u001b[0mpop\u001b[0m\u001b[1;33m(\u001b[0m\u001b[1;34m\"filename\"\u001b[0m\u001b[1;33m,\u001b[0m \u001b[1;34m\"mydask\"\u001b[0m\u001b[1;33m)\u001b[0m\u001b[1;33m\u001b[0m\u001b[1;33m\u001b[0m\u001b[0m\n",
      "\u001b[1;32mC:\\ProgramData\\Anaconda3\\lib\\site-packages\\dask\\dot.py\u001b[0m in \u001b[0;36m<module>\u001b[1;34m\u001b[0m\n\u001b[0;32m      9\u001b[0m graphviz = import_required(\n\u001b[0;32m     10\u001b[0m     \u001b[1;34m\"graphviz\"\u001b[0m\u001b[1;33m,\u001b[0m\u001b[1;33m\u001b[0m\u001b[1;33m\u001b[0m\u001b[0m\n\u001b[1;32m---> 11\u001b[1;33m     \u001b[1;34m\"Drawing dask graphs requires the \"\u001b[0m\u001b[1;33m\u001b[0m\u001b[1;33m\u001b[0m\u001b[0m\n\u001b[0m\u001b[0;32m     12\u001b[0m     \u001b[1;34m\"`graphviz` python library and the \"\u001b[0m\u001b[1;33m\u001b[0m\u001b[1;33m\u001b[0m\u001b[0m\n\u001b[0;32m     13\u001b[0m     \u001b[1;34m\"`graphviz` system library to be \"\u001b[0m\u001b[1;33m\u001b[0m\u001b[1;33m\u001b[0m\u001b[0m\n",
      "\u001b[1;32mC:\\ProgramData\\Anaconda3\\lib\\site-packages\\dask\\utils.py\u001b[0m in \u001b[0;36mimport_required\u001b[1;34m(mod_name, error_msg)\u001b[0m\n\u001b[0;32m     96\u001b[0m         \u001b[1;32mreturn\u001b[0m \u001b[0mimport_module\u001b[0m\u001b[1;33m(\u001b[0m\u001b[0mmod_name\u001b[0m\u001b[1;33m)\u001b[0m\u001b[1;33m\u001b[0m\u001b[1;33m\u001b[0m\u001b[0m\n\u001b[0;32m     97\u001b[0m     \u001b[1;32mexcept\u001b[0m \u001b[0mImportError\u001b[0m\u001b[1;33m:\u001b[0m\u001b[1;33m\u001b[0m\u001b[1;33m\u001b[0m\u001b[0m\n\u001b[1;32m---> 98\u001b[1;33m         \u001b[1;32mraise\u001b[0m \u001b[0mRuntimeError\u001b[0m\u001b[1;33m(\u001b[0m\u001b[0merror_msg\u001b[0m\u001b[1;33m)\u001b[0m\u001b[1;33m\u001b[0m\u001b[1;33m\u001b[0m\u001b[0m\n\u001b[0m\u001b[0;32m     99\u001b[0m \u001b[1;33m\u001b[0m\u001b[0m\n\u001b[0;32m    100\u001b[0m \u001b[1;33m\u001b[0m\u001b[0m\n",
      "\u001b[1;31mRuntimeError\u001b[0m: Drawing dask graphs requires the `graphviz` python library and the `graphviz` system library to be installed."
     ]
    }
   ],
   "source": [
    "# НЕ верно:\n",
    "fd1 = delayed(f(10,1)) # декорируется РЕЗУЛЬТАТ вычисления функции f\n",
    "fd1.visualize()"
   ]
  },
  {
   "cell_type": "code",
   "execution_count": 150,
   "metadata": {},
   "outputs": [
    {
     "data": {
      "image/png": "[encoded data removed]",
      "text/plain": [
       "<IPython.core.display.Image object>"
      ]
     },
     "execution_count": 150,
     "metadata": {},
     "output_type": "execute_result"
    }
   ],
   "source": [
    "# верно:\n",
    "fd2 = delayed(f)(10,1) # декорируется функция f\n",
    "fd2.visualize()"
   ]
  },
  {
   "cell_type": "code",
   "execution_count": 56,
   "metadata": {},
   "outputs": [
    {
     "ename": "NameError",
     "evalue": "name 'fd2' is not defined",
     "output_type": "error",
     "traceback": [
      "\u001b[1;31m---------------------------------------------------------------------------\u001b[0m",
      "\u001b[1;31mNameError\u001b[0m                                 Traceback (most recent call last)",
      "\u001b[1;32mC:\\Users\\D899~1\\AppData\\Local\\Temp/ipykernel_19268/4067969202.py\u001b[0m in \u001b[0;36m<module>\u001b[1;34m\u001b[0m\n\u001b[1;32m----> 1\u001b[1;33m \u001b[0mfd2\u001b[0m\u001b[1;33m.\u001b[0m\u001b[0mcompute\u001b[0m\u001b[1;33m(\u001b[0m\u001b[1;33m)\u001b[0m\u001b[1;33m\u001b[0m\u001b[1;33m\u001b[0m\u001b[0m\n\u001b[0m",
      "\u001b[1;31mNameError\u001b[0m: name 'fd2' is not defined"
     ]
    }
   ],
   "source": [
    "fd2.compute()"
   ]
  },
  {
   "cell_type": "markdown",
   "metadata": {},
   "source": [
    "## Совместное использование повторяющихся вычислений"
   ]
  },
  {
   "cell_type": "markdown",
   "metadata": {},
   "source": [
    "Отложенные вычисления позволяют сократить общий объём вычислений за счёт: \n",
    "* ...\n",
    "* *избежания повторного выполнения одинаковых вычсилений (промежуточных значений) за счет их совместного использования (share);*\n",
    "* ...\n",
    "\n",
    "Для достижения этого результата отложенные вычисления часто совмещаются с мемоизацией. \n",
    "\n",
    "<em class=\"df\"></em> __Мемоизация__ (memoization) — сохранение результатов выполнения функций для предотвращения повторных вычислений. Это один из способов оптимизации скорости выполнения программ. Перед вызовом функции проверяется, вызывалась ли функция ранее с такими параметрами:\n",
    "* если не вызывалась, функция вызывается и результат её выполнения сохраняется в таблице поиска (словаре), в которой ключами являются параметры функции, а значениями - значения функции для этих параметров;\n",
    "* если вызывалась, используется сохранённый в таблице поиска результат."
   ]
  },
  {
   "cell_type": "markdown",
   "metadata": {},
   "source": [
    "Для использования мемоизации функции должны быть чистыми (pure functions), т.е.:\n",
    "* детерминированными - вызов функции для одних и тех же значений параметров должен возвращать одинаковый результат;\n",
    "* без побочных эффектов - т.е. без изменения контекста: \n",
    "    * модификации значения глобальных переменных, \n",
    "    * выполнения операций ввода-вывода, \n",
    "    * модификации переданных в функцию параметров"
   ]
  },
  {
   "cell_type": "code",
   "execution_count": 59,
   "metadata": {},
   "outputs": [],
   "source": [
    "# НЕжелательно (для использование в мемоизации) - с побочным эффектом: \n",
    "def f(x):\n",
    "    x.append(1)  # модификации переданных в функцию параметров\n",
    "    return x"
   ]
  },
  {
   "cell_type": "code",
   "execution_count": 60,
   "metadata": {},
   "outputs": [
    {
     "name": "stdout",
     "output_type": "stream",
     "text": [
      "['a', 'b', 'c']\n",
      "['a', 'b', 'c', 1] ['a', 'b', 'c', 1]\n"
     ]
    }
   ],
   "source": [
    "l1 = list('abc')\n",
    "print(l1)\n",
    "l2 = f(l1)#.compute()\n",
    "print(l1, l2)"
   ]
  },
  {
   "cell_type": "code",
   "execution_count": 61,
   "metadata": {},
   "outputs": [],
   "source": [
    "# предпочтительно (для использование в мемоизации) - без побочных эффектов:\n",
    "def f(x):\n",
    "    return x + [1] # значение x не меняется (создается новый список)"
   ]
  },
  {
   "cell_type": "code",
   "execution_count": 62,
   "metadata": {
    "scrolled": true
   },
   "outputs": [
    {
     "name": "stdout",
     "output_type": "stream",
     "text": [
      "['a', 'b', 'c']\n",
      "['a', 'b', 'c'] ['a', 'b', 'c', 1]\n"
     ]
    }
   ],
   "source": [
    "l1 = list('abc')\n",
    "print(l1)\n",
    "l2 = f(l1)\n",
    "print(l1, l2)"
   ]
  },
  {
   "cell_type": "code",
   "execution_count": 63,
   "metadata": {},
   "outputs": [],
   "source": [
    "# НЕжелательно: \n",
    "@delayed\n",
    "def f(x):\n",
    "    x.append(1)  # модификации переданных в функцию параметров\n",
    "    return x"
   ]
  },
  {
   "cell_type": "code",
   "execution_count": 64,
   "metadata": {},
   "outputs": [],
   "source": [
    "# предпочтительно:\n",
    "@delayed\n",
    "def f(x):\n",
    "    return x + [1] # значение x не меняется (создается новый список)"
   ]
  },
  {
   "cell_type": "code",
   "execution_count": 65,
   "metadata": {},
   "outputs": [],
   "source": [
    "@delayed\n",
    "def f(x):\n",
    "    x = copy(x) # способ избежать изменения параметра при использовании операции изменяющей значение\n",
    "    x.append(1)\n",
    "    return x"
   ]
  },
  {
   "cell_type": "markdown",
   "metadata": {},
   "source": [
    "----\n",
    "\n",
    "Нежелательно применять функции, использующие глобальное состояние. Такие функции могут корректно работать только при использовании диспетчера Dask, основанного на потоках (`threaded`), при работе с диспетчером `multiprocessing` или `distributed` использование таких функций может привести к сбивающим с толку ошибкам."
   ]
  },
  {
   "cell_type": "code",
   "execution_count": 66,
   "metadata": {},
   "outputs": [],
   "source": [
    "l = []\n",
    "\n",
    "@delayed\n",
    "def f(x):\n",
    "    l.append(x) # изменение глобального состояния"
   ]
  },
  {
   "cell_type": "markdown",
   "metadata": {},
   "source": [
    "---\n",
    "\n",
    "НЕ полагайтесь на побочные эффекты функций, т.к. при использовании `dask.delayed` функции создадут эти эффекты только на этапе выполнения графа зависимости задач (например, после вызова `compute`).\n",
    "\n",
    "* ```python\n",
    "dask.delayed(f)(1, 2, 3)  # побочный эффект не будет наблюдаться```\n",
    "* ```python\n",
    "x = dask.delayed(f)(1, 2, 3)\n",
    "...\n",
    "dask.compute(x, ...)  # только во время выполнения всего графа зависимостей задач будет наблюдаться эффект\n",
    "```"
   ]
  },
  {
   "cell_type": "markdown",
   "metadata": {},
   "source": [
    "---\n",
    "\n",
    "Декоратор `dask.delayed` кроме оборачиваемого объекта может принимать необязательные параметры. В том числе имеется необязательный параметр:\n",
    "\n",
    "`pure:bool`, optional - указывает является ли возвращаемыей объект отложенных вычислений чистой функцией. Если значение параметра `True` для вызовов будет создаваться поисковая таблица для оптимизации за счет совместного использования резульатов идентичных обращений к функции. Если значение параметра не передано, то значение по умолчанию будет соотвенствовать глобальному параметру `delayed_pure` или `False`, в случае, если этот параметр не установлен."
   ]
  },
  {
   "cell_type": "code",
   "execution_count": 68,
   "metadata": {},
   "outputs": [],
   "source": [
    "# указываем, что функция является чистой:\n",
    "@delayed(pure=True)\n",
    "def inc_p(x):\n",
    "    sleep(1) # имитриуем длительные вычисления\n",
    "    return x + 1\n",
    "\n",
    "@delayed\n",
    "def add(x, y):\n",
    "    sleep(1) # имитриуем длительные вычисления\n",
    "    return x + y"
   ]
  },
  {
   "cell_type": "code",
   "execution_count": 69,
   "metadata": {},
   "outputs": [],
   "source": [
    "x1_p = inc_p(1) \n",
    "y1_p = inc_p(2)\n",
    "z1_p = add(x1_p, y1_p)\n",
    "\n",
    "x2_p = inc_p(2) \n",
    "y2_p = inc_p(3)\n",
    "z2_p = add(x2_p, y2_p)\n",
    "\n",
    "z3_p = add(z1_p, z2_p)"
   ]
  },
  {
   "cell_type": "code",
   "execution_count": 161,
   "metadata": {},
   "outputs": [
    {
     "data": {
      "image/png": "[encoded data removed]",
      "text/plain": [
       "<IPython.core.display.Image object>"
      ]
     },
     "execution_count": 161,
     "metadata": {},
     "output_type": "execute_result"
    }
   ],
   "source": [
    "z3_p.visualize()"
   ]
  },
  {
   "cell_type": "markdown",
   "metadata": {},
   "source": [
    "__Оптимизация__ за счет совместного использования резульатов идентичных обращений к функции __произведена еще на стадии построения графа зависимости задач__!"
   ]
  },
  {
   "cell_type": "markdown",
   "metadata": {},
   "source": [
    "## Использование `dask.delayed` для объектов"
   ]
  },
  {
   "cell_type": "markdown",
   "metadata": {},
   "source": [
    "При помощи функции `dask.delayed` можно создавать не только обертки для функций, но и обертки для объектов Python. Такие объекты используются для явного создания прокси объектов типа Delayed. \n",
    "\n",
    "Явное использование `dask.delayed` для объектов оправдано при многократной передаче больших объектов на вход в отложенные функции. Это нужно т.к. каждый раз, когда на вход в отложенную функцию передается конкретный объект (не обернутый в `dask.delayed`), Dask выполняет хэшировние этого объекта для его именования. Это действие производится быстро (со скоростью примерно 500 Мб/с), но при многократном повтороении может существенно увеличить скорость построения графа зависимостей задач. \n",
    "\n",
    "Выполнение этой операции может быть особенно важно при использовании распределененного кластера - это позволит избежать многократной пересылки данных при каждом вызове отложенной функции."
   ]
  },
  {
   "cell_type": "code",
   "execution_count": 70,
   "metadata": {},
   "outputs": [
    {
     "name": "stdout",
     "output_type": "stream",
     "text": [
      "Wall time: 9.48 s\n"
     ]
    }
   ],
   "source": [
    "%%time\n",
    "# Это рассчет времени выполнения построения графа потока вычисления, а не рассчетов!\n",
    "\n",
    "x = list(range(100000)) # большой список\n",
    "\n",
    "def add_to_all(lst, val):\n",
    "    return [it + val for it in lst]\n",
    "\n",
    "results_1 = [delayed(add_to_all)(x, i) for i in range(20)] # имя для x на оснве хэширования бует расчитываться 20 раз"
   ]
  },
  {
   "cell_type": "code",
   "execution_count": 71,
   "metadata": {},
   "outputs": [
    {
     "name": "stdout",
     "output_type": "stream",
     "text": [
      "Wall time: 444 ms\n"
     ]
    }
   ],
   "source": [
    "%%time \n",
    "# Это рассчет времени выполнения построения графа потока вычисления, а не рассчетов!\n",
    "\n",
    "x = list(range(100000))  # большой список\n",
    "x = delayed(x)\n",
    "\n",
    "def add_to_all(lst, val):\n",
    "    return [it + val for it in lst]\n",
    "\n",
    "results_2 = [delayed(add_to_all)(x, i) for i in range(20)] # имя для x на оснве хэширования бует расчитываться 1 раз"
   ]
  },
  {
   "cell_type": "code",
   "execution_count": 53,
   "metadata": {},
   "outputs": [],
   "source": [
    "# compute()"
   ]
  },
  {
   "cell_type": "markdown",
   "metadata": {},
   "source": [
    "У декоратора `dask.delayed` есть необязательный параметр:\n",
    "\n",
    "`traverse:bool`, optional - по умолчанию параметр имеет значение `True`, что означет, что Dask обходит объекты встроенных в Python коллекций в поиске объектов Dask, переданных на вход в функцию обернутую в delayed. Для больших коллекций это может быть дорогостоящей операцией. Если объект не включает в себя каких-либо объектов Dask, для избежания его обхода необходимо установить `traverse = False`."
   ]
  },
  {
   "cell_type": "markdown",
   "metadata": {},
   "source": [
    "## Операции над объектами Delayed\n",
    "\n",
    "Циклы, условные операторы, операторы над Delayed"
   ]
  },
  {
   "cell_type": "markdown",
   "metadata": {},
   "source": [
    "Объекты Delayed поддерживают большинство операций Python, каждая из которых создает новый объект Delayed, который представляет результат операции:\n",
    "* Большинство опеаторов (*, -, и т.д.)\n",
    "* Доступ к объектам и срезы (a[0])\n",
    "* Доступ к атрибутам (a.size)\n",
    "* Вызовы методов (a.index(0))"
   ]
  },
  {
   "cell_type": "code",
   "execution_count": 72,
   "metadata": {},
   "outputs": [],
   "source": [
    "@delayed\n",
    "def double(x):\n",
    "    sleep(1) # имитриуем длительные вычисления\n",
    "    return x * 2\n"
   ]
  },
  {
   "cell_type": "code",
   "execution_count": 73,
   "metadata": {},
   "outputs": [
    {
     "data": {
      "text/plain": [
       "(Delayed('double-16fa4cd3-0b3e-4fd9-bcf7-183972815dfd'),\n",
       " Delayed('double-6d7e03ab-2aac-4a3a-aca5-fbbf8011bb32'))"
      ]
     },
     "execution_count": 73,
     "metadata": {},
     "output_type": "execute_result"
    }
   ],
   "source": [
    "d1 = double(2)\n",
    "d2 = double(3)\n",
    "d1, d2"
   ]
  },
  {
   "cell_type": "code",
   "execution_count": 74,
   "metadata": {},
   "outputs": [
    {
     "data": {
      "text/plain": [
       "Delayed('add-fcb7f4bbd66ebcffa08b60fa43c3adbd')"
      ]
     },
     "execution_count": 74,
     "metadata": {},
     "output_type": "execute_result"
    }
   ],
   "source": [
    "s = d1 + d2 # сложение Delayed \n",
    "s"
   ]
  },
  {
   "cell_type": "code",
   "execution_count": 169,
   "metadata": {},
   "outputs": [
    {
     "data": {
      "image/png": "[encoded data removed]",
      "text/plain": [
       "<IPython.core.display.Image object>"
      ]
     },
     "execution_count": 169,
     "metadata": {},
     "output_type": "execute_result"
    }
   ],
   "source": [
    "s.visualize()"
   ]
  },
  {
   "cell_type": "code",
   "execution_count": 75,
   "metadata": {},
   "outputs": [
    {
     "name": "stdout",
     "output_type": "stream",
     "text": [
      "Wall time: 1.02 s\n"
     ]
    },
    {
     "data": {
      "text/plain": [
       "10"
      ]
     },
     "execution_count": 75,
     "metadata": {},
     "output_type": "execute_result"
    }
   ],
   "source": [
    "%%time\n",
    "\n",
    "s.compute()"
   ]
  },
  {
   "cell_type": "code",
   "execution_count": 31,
   "metadata": {},
   "outputs": [],
   "source": [
    "n = 6\n",
    "data = range(n)\n",
    "output = []\n",
    "\n",
    "for x in data:\n",
    "    d = double(x)\n",
    "    output.append(d)\n",
    "\n",
    "total = delayed(sum)(output) # неявное сложение Delayed в функции sum\n",
    "total = total + double(10)"
   ]
  },
  {
   "cell_type": "code",
   "execution_count": 172,
   "metadata": {},
   "outputs": [
    {
     "data": {
      "image/png": "[encoded data removed]",
      "text/plain": [
       "<IPython.core.display.Image object>"
      ]
     },
     "execution_count": 172,
     "metadata": {},
     "output_type": "execute_result"
    }
   ],
   "source": [
    "total.visualize()"
   ]
  },
  {
   "cell_type": "markdown",
   "metadata": {},
   "source": [
    "Объекты Delayed __НЕ поддерживают__ следующие операции:\n",
    "\n",
    "* Операции изменяющие значение объекта Delayed, такие как: `a += 1`\n",
    "* Операции изменяющие значение объекта Delayed, такие как: `__setitem__/__setattr__ (a[0] = 1, a.foo = 1)`\n",
    "* Итерацию по объекту Delayed: `for i in a: ...`\n",
    "* Использование объекта Delayed в условии ветвления: `if a: ...`\n",
    "\n",
    "Два последних пункта означают, что объекты Delayed не могут использоваться для управления потоком вычислений (__не могут использоваться в качестве условия if и в качестве итерируемого объекта__). Эти ограничения связаны с тем, что граф зависимостей задач, построенный при помощи `dask.delayed`, не меняется во время выполнения вычисления. Использование Delayed в условном операторе или в качестве объекта для итерации потребовало бы динамического изменения графа в зависимости от фактических значений Delayed.\n",
    "\n",
    "Ограничение на динамическое изменение графа зависимости задач сужает возможности распараллеливания с помощью `dask.delayed`, но во многих случаях эти ограничения не являются существенными. В случае, если создавать и удалять задачи в графе зависимостей задач во время исполнения вычислений необходимо, то для этого необходимо пользоваться интерфейсом `Dask.Futures` [http://docs.dask.org/en/latest/futures.html#]\n",
    "\n",
    "При этом, объекты Delayed могут использоваться:\n",
    "* __внутри тела цикла__ (см пример выше)\n",
    "* __внутри тела условного оператора__ "
   ]
  },
  {
   "cell_type": "markdown",
   "metadata": {},
   "source": [
    "---\n",
    "`dask.delayed` не позволяет итерироваться по коллекциям Delayed, но позволяет полноценно работать с результатами многозначных функций с фиксированной длиной возвращаемого значения. \n",
    "\n",
    "У декоратора `dask.delayed` есть необязательный параметр:\n",
    "\n",
    "`nout:int`, optional - количество результатов, возвращаемых в результате вычислений объекта отложенных вычислений Delayed. Если параметр установлен, то может быть произведена итерация по объектам в количестве nout единиц, доступна распаковка результатов. По умолчанию итерация по Delayed недоступна. Нужно иметь в виду, что nout=1, означает, что будет возвращен кортеж длиной в 1 элемент, а nout=0, что будет возвращен пустой кортеж."
   ]
  },
  {
   "cell_type": "code",
   "execution_count": 32,
   "metadata": {},
   "outputs": [],
   "source": [
    "@delayed(nout = 4)\n",
    "def get_quaters(lst):\n",
    "    l = len(lst)\n",
    "    h = l//2\n",
    "    q, q2 = h//2, (l-h)//2\n",
    "    return lst[:q], lst[q:h], lst[h:h+q2], lst[h+q2:]"
   ]
  },
  {
   "cell_type": "code",
   "execution_count": 33,
   "metadata": {},
   "outputs": [],
   "source": [
    "l1 = list(range(16))"
   ]
  },
  {
   "cell_type": "code",
   "execution_count": 34,
   "metadata": {},
   "outputs": [],
   "source": [
    "ql = []\n",
    "for q in get_quaters(l1):\n",
    "    ql.append(delayed(sum)(q))\n",
    "s = delayed(sum)(ql)"
   ]
  },
  {
   "cell_type": "code",
   "execution_count": 175,
   "metadata": {},
   "outputs": [
    {
     "data": {
      "image/png": "[encoded data removed]",
      "text/plain": [
       "<IPython.core.display.Image object>"
      ]
     },
     "execution_count": 175,
     "metadata": {},
     "output_type": "execute_result"
    }
   ],
   "source": [
    "s.visualize()"
   ]
  },
  {
   "cell_type": "code",
   "execution_count": 35,
   "metadata": {},
   "outputs": [
    {
     "data": {
      "text/plain": [
       "120"
      ]
     },
     "execution_count": 35,
     "metadata": {},
     "output_type": "execute_result"
    }
   ],
   "source": [
    "s.compute()"
   ]
  },
  {
   "cell_type": "code",
   "execution_count": 36,
   "metadata": {},
   "outputs": [],
   "source": [
    "q1, q2, q3, q4 = get_quaters(l1)\n",
    "m = delayed(max)(q3)"
   ]
  },
  {
   "cell_type": "code",
   "execution_count": 178,
   "metadata": {},
   "outputs": [
    {
     "data": {
      "image/png": "[encoded data removed]",
      "text/plain": [
       "<IPython.core.display.Image object>"
      ]
     },
     "execution_count": 178,
     "metadata": {},
     "output_type": "execute_result"
    }
   ],
   "source": [
    "m.visualize()"
   ]
  },
  {
   "cell_type": "markdown",
   "metadata": {},
   "source": [
    "## Эффективное распараллеливание алгоритмов"
   ]
  },
  {
   "cell_type": "markdown",
   "metadata": {},
   "source": [
    "__*Повтор:*__\n",
    "\n",
    "Распараллеливание алгоритмов сложная задача не имеющая универсального решения. Существует нексколько стратегий, которые успешно применяются во многих конкретных задачах. \n",
    "\n",
    "Для эффективного использования `dask.delayed` для распараллеливания вычислений существует важное техническое требование: каждый вызов `compute()` должен делатся для большого объема вычислений после их оформления в виде большого (но не слишком большого) количества вызовов `dask.delayed`. После того как будет создан обширный граф зависимостей задач метод `compute()` запускает планировщик, который сможет праллельно задействовать доступные вычислительные ресурсы.\n",
    "\n",
    "При необходимости допустимо запускать `compute()` в середине процесса вычислений (например, когда без расчета конкретных результатов невозможно определить дальнейший ход вычислений), но нужно иметь ввиду, что для выполнения следующих шагов нужно будет ожидать, пока запущенные `compute()` вычисления не вернут результат."
   ]
  },
  {
   "cell_type": "markdown",
   "metadata": {},
   "source": [
    "__Эффективная грануляция вычислений: разбиение вычислений на множество фрагментов__\n",
    "\n",
    "Каждый вызов `dask.delayed` с точки зрения Dask является одной операцией: Dask не пытается распараллелить вычисления находящиеся в рамках одного вызова `dask.delayed`. Т.е. для достижения параллелизма нужно большое количество вызовов `dask.delayed`: количество вызовов существенно большее чем количество исполнителей (worker) позволит не только найти параллельные задачи но и успешно компенсировать неоднородность объема вычислений при выполнении различных вызов `dask.delayed`."
   ]
  },
  {
   "cell_type": "markdown",
   "metadata": {},
   "source": [
    "_Пример 1: конвейрное распараллеливание_"
   ]
  },
  {
   "cell_type": "code",
   "execution_count": 155,
   "metadata": {},
   "outputs": [],
   "source": [
    "# @delayed # конвейрное распараллеливание\n",
    "def load(filename):\n",
    "    data = [] # data from file\n",
    "    return data\n",
    "\n",
    "# @delayed # конвейрное распараллеливание\n",
    "def process(data):\n",
    "    prc_data = [] # processed data from data\n",
    "    return prc_data\n",
    "\n",
    "# @delayed # конвейрное распараллеливание\n",
    "def aggregate(data):\n",
    "    agr = '' # aggregated data\n",
    "\n",
    "\n",
    "def f(filenames):\n",
    "    results = []\n",
    "    # выделить обработку файла в функцию для параллизма по данным:\n",
    "    for filename in filenames: \n",
    "        data = load(filename)\n",
    "        data = process(data)\n",
    "        results.append(aggregate(data))\n",
    "    return results"
   ]
  },
  {
   "cell_type": "markdown",
   "metadata": {},
   "source": [
    "_Пример 2: распараллеливание по данным_"
   ]
  },
  {
   "cell_type": "code",
   "execution_count": null,
   "metadata": {},
   "outputs": [],
   "source": [
    "# @delayed # распараллеливание по данным\n",
    "def f_fl(filename):\n",
    "    data = load(filename)\n",
    "    data = process(data)\n",
    "    return aggregate(data)\n",
    "    \n",
    "def f(filenames):\n",
    "    results = []\n",
    "    for filename in filenames: \n",
    "        results.append(f_fl(filename))\n",
    "    return results"
   ]
  },
  {
   "cell_type": "markdown",
   "metadata": {},
   "source": [
    "Эффективная грануляция вычислений: разбиение вычислений на фрагменты адекватного размера\n",
    "\n",
    "Обработка каждой задачи `dask.delayed` занимает несколько сот микросекунд. Это не является проблемой, пока длительность вычислений не выполняемых в рамках вызова не становится сравнимой с накладными расходами. В таком случае имеет смысл группировать расчеты в пакеты, для этого могут подойти коллекции встроенные в Dask."
   ]
  },
  {
   "cell_type": "code",
   "execution_count": 52,
   "metadata": {},
   "outputs": [],
   "source": [
    "# очень простая (и быстрая) функция:\n",
    "def f(a):\n",
    "    return a + 1"
   ]
  },
  {
   "cell_type": "code",
   "execution_count": 160,
   "metadata": {
    "scrolled": true
   },
   "outputs": [],
   "source": [
    "# НЕверная организация вычислений:\n",
    "results = []\n",
    "for x in range(1000):  # Too many dask.delayed calls\n",
    "    y = dask.delayed(f)(x)\n",
    "    results.append(y)"
   ]
  },
  {
   "cell_type": "code",
   "execution_count": null,
   "metadata": {},
   "outputs": [],
   "source": [
    "# Use collections\n",
    "\n",
    "import dask.bag as db\n",
    "b = db.from_sequence(1000000000, npartitions=1000)\n",
    "b = b.map(f)"
   ]
  },
  {
   "cell_type": "code",
   "execution_count": null,
   "metadata": {},
   "outputs": [],
   "source": [
    "# Or batch manually\n",
    "\n",
    "def batch(seq):\n",
    "    sub_results = []\n",
    "    for x in seq:\n",
    "        sub_results.append(f(x))\n",
    "    return sub_results\n",
    "\n",
    "batches = []\n",
    "for i in range(0, 1000000000, 1000000):  # in steps of 1000000\n",
    "    result_batch = dask.delayed(batch)(range(i, i + 1000000))\n",
    "    batches.append(result_batch)"
   ]
  },
  {
   "cell_type": "markdown",
   "metadata": {},
   "source": [
    "Для достижения нужного уровня грануляции необходимо найти хорошие места для разбиения вычислений на блоки. Для этого необходимо изучение не только алгоритма подлежащего распараллеливанию, но данных, которые планируется обрабатывать с его помощью."
   ]
  },
  {
   "cell_type": "markdown",
   "metadata": {},
   "source": [
    "---\n",
    "\n",
    "При разбиении алгоритма на параллельно выполняемые операции с помощью `dask.delayed` обчно не требуется помещать вызов `dask.delayed` внутрь функции, обернутой в `dask.delayed`."
   ]
  },
  {
   "cell_type": "code",
   "execution_count": null,
   "metadata": {},
   "outputs": [],
   "source": [
    "# НЕверная организация вычислений:\n",
    "@delayed\n",
    "def process_all(L):\n",
    "    result = []\n",
    "    for x in L:\n",
    "        y = dask.delayed(f)(x)\n",
    "        result.append(y)\n",
    "    return result"
   ]
  },
  {
   "cell_type": "markdown",
   "metadata": {},
   "source": [
    "Поскольку функция `process_all` только обрабатывает объекты отложенных вычислений она выполняется быстро и нет необходимости оборачивать ее в `dask.delayed`."
   ]
  },
  {
   "cell_type": "code",
   "execution_count": 161,
   "metadata": {},
   "outputs": [],
   "source": [
    "# правильная организация вычислений:\n",
    "def process_all(L):\n",
    "    result = []\n",
    "    for x in L:\n",
    "        y = dask.delayed(f)(x)\n",
    "        result.append(y)\n",
    "    return result"
   ]
  },
  {
   "cell_type": "markdown",
   "metadata": {},
   "source": [
    "## Коллекции Dask и вычисления организованные с помощью `dask.delayed`"
   ]
  },
  {
   "cell_type": "markdown",
   "metadata": {},
   "source": [
    "Когда вы помещаете Dask Array или Dask DataFrame в отложенный вызов (delayed), эта функция получит эквивалент NumPy или Pandas. Помните, что если ваш массив большой, это может привести к сбою обработчиков.\n",
    "\n",
    "Вместо этого чаще используются такие методы, как da.map_blocks или df.map_partitions, или для превращения ваших Array или DataFrame во множество отложенных объектов."
   ]
  },
  {
   "cell_type": "code",
   "execution_count": null,
   "metadata": {},
   "outputs": [],
   "source": [
    "import dask.dataframe as dd"
   ]
  },
  {
   "cell_type": "code",
   "execution_count": null,
   "metadata": {},
   "outputs": [],
   "source": [
    "df = dd.read_csv('/path/to/*.csv')\n",
    "# Опасно: df будет расчитан перед передачей в train!\n",
    "dask.delayed(train)(df)  # might as well have used Pandas instead"
   ]
  },
  {
   "cell_type": "code",
   "execution_count": null,
   "metadata": {},
   "outputs": [],
   "source": [
    "# Однако, если вы готовы превратить ваш массив Dask / DataFrame в единый блок, тогда это нормально:\n",
    "dask.delayed(train)(..., y=df.sum())"
   ]
  },
  {
   "cell_type": "code",
   "execution_count": null,
   "metadata": {},
   "outputs": [],
   "source": [
    "import dask.dataframe as dd\n",
    "df = dd.read_csv('/path/to/*.csv')\n",
    "\n",
    "df.map_partitions(train)\n"
   ]
  },
  {
   "cell_type": "markdown",
   "metadata": {},
   "source": [
    "Часто нужно выполнить небольшую специальную обработку с помощью dask.delayed (например, для сложной загурзки данных), затем использовать алгоритмы dask.array или dask.dataframe, а затем вернуться к ручной работе с dask.delayed . С этой целью все коллекции Dask поддерживают функции `from_delayed` и методы `to_delayed`."
   ]
  },
  {
   "cell_type": "code",
   "execution_count": null,
   "metadata": {},
   "outputs": [],
   "source": [
    "partitions = df.to_delayed()\n",
    "\n",
    "delayed_values = [dask.delayed(train)(part) for part in partitions]"
   ]
  },
  {
   "cell_type": "markdown",
   "metadata": {},
   "source": [
    "В качестве примера рассмотрим случай, когда мы храним табличные данные в специализированном формате, неизвестном Dask DataFrame. Этот формат естественным образом разбит на части (файлы), и у нас есть функция, которая считывает один фрагмент в Pandas DataFrame. Мы используем dask.delayed для ленивого чтения этих файлов в Pandas DataFrames, используем dd.from_delayed для объединения этих частей в один Dask DataFrame, используем сложные алгоритмы внутри DataFrame (groupby, join и т. Д.), А затем переключаемся обратно на dask.delayed, чтобы сохранить наши результаты обратно в пользовательский формат:"
   ]
  },
  {
   "cell_type": "code",
   "execution_count": null,
   "metadata": {},
   "outputs": [],
   "source": [
    "import dask.dataframe as dd\n",
    "from dask.delayed import delayed\n",
    "\n",
    "from my_custom_library import load, save\n",
    "\n",
    "filenames = ...\n",
    "dfs = [delayed(load)(fln) for fln in filenames]\n",
    "\n",
    "df = dd.from_delayed(dfs)\n",
    "df = ... # do work with dask.dataframe\n",
    "\n",
    "dfs = df.to_delayed()\n",
    "writes = [delayed(save)(df, fn) for df, fn in zip(dfs, filenames)]\n",
    "\n",
    "dd.compute(*writes)"
   ]
  },
  {
   "cell_type": "markdown",
   "metadata": {},
   "source": [
    "Обработка данных часто бывает сложной задачей, и dask.delayed предоставляет пользователям возможность самостоятельно справиться с этой сложностью и решить проблему последней мили для нестандартных форматов и сложных ситуаций."
   ]
  },
  {
   "cell_type": "code",
   "execution_count": null,
   "metadata": {},
   "outputs": [],
   "source": []
  }
 ],
 "metadata": {
  "kernelspec": {
   "display_name": "Python 3 (ipykernel)",
   "language": "python",
   "name": "python3"
  },
  "language_info": {
   "codemirror_mode": {
    "name": "ipython",
    "version": 3
   },
   "file_extension": ".py",
   "mimetype": "text/x-python",
   "name": "python",
   "nbconvert_exporter": "python",
   "pygments_lexer": "ipython3",
   "version": "3.7.4"
  }
 },
 "nbformat": 4,
 "nbformat_minor": 2
}
