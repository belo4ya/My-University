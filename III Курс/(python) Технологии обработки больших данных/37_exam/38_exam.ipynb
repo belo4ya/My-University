{
 "cells": [
  {
   "cell_type": "markdown",
   "source": [
    "# Билет 38"
   ],
   "metadata": {
    "collapsed": false
   }
  },
  {
   "cell_type": "markdown",
   "source": [
    "## Задание 1"
   ],
   "metadata": {
    "collapsed": false
   }
  },
  {
   "cell_type": "code",
   "execution_count": 55,
   "outputs": [],
   "source": [],
   "metadata": {
    "collapsed": false,
    "pycharm": {
     "name": "#%%\n"
    }
   }
  },
  {
   "cell_type": "markdown",
   "source": [
    "## Задание 2\n",
    "\n",
    "Датасет: Chinook_Sqlite.sqlite.\n",
    "\n",
    "С помощью кода на питон с испольщованием sqllite3 and SQL решить задачу. Реализовать функции питон: 1. Которая возвращает всех имеющихся артистов 2. Которая по имени артиста возвращает все его альбомы с кол-вом треков в них"
   ],
   "metadata": {
    "collapsed": false
   }
  },
  {
   "cell_type": "code",
   "execution_count": 56,
   "outputs": [],
   "source": [
    "import sqlite3"
   ],
   "metadata": {
    "collapsed": false,
    "pycharm": {
     "name": "#%%\n"
    }
   }
  },
  {
   "cell_type": "code",
   "execution_count": 57,
   "outputs": [],
   "source": [
    "def get_all_artists(cur: sqlite3.Cursor) -> list:\n",
    "    stmt = 'SELECT * FROM Artist'\n",
    "    return cur.execute(stmt).fetchall()\n",
    "\n",
    "\n",
    "def get_artist_albums(cur: sqlite3.Cursor, artist_name: str) -> list:\n",
    "    stmt = '''\n",
    "    SELECT AL.AlbumId, AL.Title, COUNT(T.TrackId)\n",
    "    FROM Album AL\n",
    "    JOIN Artist AR ON AR.ArtistId = AL.ArtistId\n",
    "    JOIN Track T ON AL.AlbumId = T.AlbumId\n",
    "    WHERE AR.Name = ? GROUP BY T.AlbumId;\n",
    "    '''\n",
    "    return cur.execute(stmt, [artist_name]).fetchall()"
   ],
   "metadata": {
    "collapsed": false,
    "pycharm": {
     "name": "#%%\n"
    }
   }
  },
  {
   "cell_type": "code",
   "execution_count": 58,
   "outputs": [],
   "source": [
    "con = sqlite3.connect('data/task_2/Chinook_Sqlite.sqlite')\n",
    "cur = con.cursor()"
   ],
   "metadata": {
    "collapsed": false,
    "pycharm": {
     "name": "#%%\n"
    }
   }
  },
  {
   "cell_type": "code",
   "execution_count": 59,
   "outputs": [
    {
     "data": {
      "text/plain": "[(1, 'AC/DC'),\n (2, 'Accept'),\n (3, 'Aerosmith'),\n (4, 'Alanis Morissette'),\n (5, 'Alice In Chains'),\n (6, 'Antônio Carlos Jobim'),\n (7, 'Apocalyptica'),\n (8, 'Audioslave'),\n (9, 'BackBeat'),\n (10, 'Billy Cobham'),\n (11, 'Black Label Society'),\n (12, 'Black Sabbath'),\n (13, 'Body Count'),\n (14, 'Bruce Dickinson'),\n (15, 'Buddy Guy'),\n (16, 'Caetano Veloso'),\n (17, 'Chico Buarque'),\n (18, 'Chico Science & Nação Zumbi'),\n (19, 'Cidade Negra'),\n (20, 'Cláudio Zoli'),\n (21, 'Various Artists'),\n (22, 'Led Zeppelin'),\n (23, 'Frank Zappa & Captain Beefheart'),\n (24, 'Marcos Valle'),\n (25, 'Milton Nascimento & Bebeto'),\n (26, 'Azymuth'),\n (27, 'Gilberto Gil'),\n (28, 'João Gilberto'),\n (29, 'Bebel Gilberto'),\n (30, 'Jorge Vercilo'),\n (31, 'Baby Consuelo'),\n (32, 'Ney Matogrosso'),\n (33, 'Luiz Melodia'),\n (34, 'Nando Reis'),\n (35, 'Pedro Luís & A Parede'),\n (36, 'O Rappa'),\n (37, 'Ed Motta'),\n (38, 'Banda Black Rio'),\n (39, 'Fernanda Porto'),\n (40, 'Os Cariocas'),\n (41, 'Elis Regina'),\n (42, 'Milton Nascimento'),\n (43, 'A Cor Do Som'),\n (44, 'Kid Abelha'),\n (45, 'Sandra De Sá'),\n (46, 'Jorge Ben'),\n (47, 'Hermeto Pascoal'),\n (48, 'Barão Vermelho'),\n (49, 'Edson, DJ Marky & DJ Patife Featuring Fernanda Porto'),\n (50, 'Metallica'),\n (51, 'Queen'),\n (52, 'Kiss'),\n (53, 'Spyro Gyra'),\n (54, 'Green Day'),\n (55, 'David Coverdale'),\n (56, 'Gonzaguinha'),\n (57, 'Os Mutantes'),\n (58, 'Deep Purple'),\n (59, 'Santana'),\n (60, 'Santana Feat. Dave Matthews'),\n (61, 'Santana Feat. Everlast'),\n (62, 'Santana Feat. Rob Thomas'),\n (63, 'Santana Feat. Lauryn Hill & Cee-Lo'),\n (64, 'Santana Feat. The Project G&B'),\n (65, 'Santana Feat. Maná'),\n (66, 'Santana Feat. Eagle-Eye Cherry'),\n (67, 'Santana Feat. Eric Clapton'),\n (68, 'Miles Davis'),\n (69, 'Gene Krupa'),\n (70, 'Toquinho & Vinícius'),\n (71, 'Vinícius De Moraes & Baden Powell'),\n (72, 'Vinícius De Moraes'),\n (73, 'Vinícius E Qurteto Em Cy'),\n (74, 'Vinícius E Odette Lara'),\n (75, 'Vinicius, Toquinho & Quarteto Em Cy'),\n (76, 'Creedence Clearwater Revival'),\n (77, 'Cássia Eller'),\n (78, 'Def Leppard'),\n (79, 'Dennis Chambers'),\n (80, 'Djavan'),\n (81, 'Eric Clapton'),\n (82, 'Faith No More'),\n (83, 'Falamansa'),\n (84, 'Foo Fighters'),\n (85, 'Frank Sinatra'),\n (86, 'Funk Como Le Gusta'),\n (87, 'Godsmack'),\n (88, \"Guns N' Roses\"),\n (89, 'Incognito'),\n (90, 'Iron Maiden'),\n (91, 'James Brown'),\n (92, 'Jamiroquai'),\n (93, 'JET'),\n (94, 'Jimi Hendrix'),\n (95, 'Joe Satriani'),\n (96, 'Jota Quest'),\n (97, 'João Suplicy'),\n (98, 'Judas Priest'),\n (99, 'Legião Urbana'),\n (100, 'Lenny Kravitz'),\n (101, 'Lulu Santos'),\n (102, 'Marillion'),\n (103, 'Marisa Monte'),\n (104, 'Marvin Gaye'),\n (105, 'Men At Work'),\n (106, 'Motörhead'),\n (107, 'Motörhead & Girlschool'),\n (108, 'Mônica Marianno'),\n (109, 'Mötley Crüe'),\n (110, 'Nirvana'),\n (111, 'O Terço'),\n (112, 'Olodum'),\n (113, 'Os Paralamas Do Sucesso'),\n (114, 'Ozzy Osbourne'),\n (115, 'Page & Plant'),\n (116, 'Passengers'),\n (117, \"Paul D'Ianno\"),\n (118, 'Pearl Jam'),\n (119, 'Peter Tosh'),\n (120, 'Pink Floyd'),\n (121, 'Planet Hemp'),\n (122, 'R.E.M. Feat. Kate Pearson'),\n (123, 'R.E.M. Feat. KRS-One'),\n (124, 'R.E.M.'),\n (125, 'Raimundos'),\n (126, 'Raul Seixas'),\n (127, 'Red Hot Chili Peppers'),\n (128, 'Rush'),\n (129, 'Simply Red'),\n (130, 'Skank'),\n (131, 'Smashing Pumpkins'),\n (132, 'Soundgarden'),\n (133, 'Stevie Ray Vaughan & Double Trouble'),\n (134, 'Stone Temple Pilots'),\n (135, 'System Of A Down'),\n (136, 'Terry Bozzio, Tony Levin & Steve Stevens'),\n (137, 'The Black Crowes'),\n (138, 'The Clash'),\n (139, 'The Cult'),\n (140, 'The Doors'),\n (141, 'The Police'),\n (142, 'The Rolling Stones'),\n (143, 'The Tea Party'),\n (144, 'The Who'),\n (145, 'Tim Maia'),\n (146, 'Titãs'),\n (147, 'Battlestar Galactica'),\n (148, 'Heroes'),\n (149, 'Lost'),\n (150, 'U2'),\n (151, 'UB40'),\n (152, 'Van Halen'),\n (153, 'Velvet Revolver'),\n (154, 'Whitesnake'),\n (155, 'Zeca Pagodinho'),\n (156, 'The Office'),\n (157, 'Dread Zeppelin'),\n (158, 'Battlestar Galactica (Classic)'),\n (159, 'Aquaman'),\n (160, 'Christina Aguilera featuring BigElf'),\n (161, \"Aerosmith & Sierra Leone's Refugee Allstars\"),\n (162, 'Los Lonely Boys'),\n (163, 'Corinne Bailey Rae'),\n (164, 'Dhani Harrison & Jakob Dylan'),\n (165, 'Jackson Browne'),\n (166, 'Avril Lavigne'),\n (167, 'Big & Rich'),\n (168, \"Youssou N'Dour\"),\n (169, 'Black Eyed Peas'),\n (170, 'Jack Johnson'),\n (171, 'Ben Harper'),\n (172, 'Snow Patrol'),\n (173, 'Matisyahu'),\n (174, 'The Postal Service'),\n (175, 'Jaguares'),\n (176, 'The Flaming Lips'),\n (177, \"Jack's Mannequin & Mick Fleetwood\"),\n (178, 'Regina Spektor'),\n (179, 'Scorpions'),\n (180, 'House Of Pain'),\n (181, 'Xis'),\n (182, 'Nega Gizza'),\n (183, 'Gustavo & Andres Veiga & Salazar'),\n (184, 'Rodox'),\n (185, 'Charlie Brown Jr.'),\n (186, 'Pedro Luís E A Parede'),\n (187, 'Los Hermanos'),\n (188, 'Mundo Livre S/A'),\n (189, 'Otto'),\n (190, 'Instituto'),\n (191, 'Nação Zumbi'),\n (192, 'DJ Dolores & Orchestra Santa Massa'),\n (193, 'Seu Jorge'),\n (194, 'Sabotage E Instituto'),\n (195, 'Stereo Maracana'),\n (196, 'Cake'),\n (197, 'Aisha Duo'),\n (198, 'Habib Koité and Bamada'),\n (199, 'Karsh Kale'),\n (200, 'The Posies'),\n (201, 'Luciana Souza/Romero Lubambo'),\n (202, 'Aaron Goldberg'),\n (203, 'Nicolaus Esterhazy Sinfonia'),\n (204, 'Temple of the Dog'),\n (205, 'Chris Cornell'),\n (206, 'Alberto Turco & Nova Schola Gregoriana'),\n (207, 'Richard Marlow & The Choir of Trinity College, Cambridge'),\n (208, 'English Concert & Trevor Pinnock'),\n (209, 'Anne-Sophie Mutter, Herbert Von Karajan & Wiener Philharmoniker'),\n (210,\n  'Hilary Hahn, Jeffrey Kahane, Los Angeles Chamber Orchestra & Margaret Batjer'),\n (211, 'Wilhelm Kempff'),\n (212, 'Yo-Yo Ma'),\n (213, 'Scholars Baroque Ensemble'),\n (214, 'Academy of St. Martin in the Fields & Sir Neville Marriner'),\n (215,\n  'Academy of St. Martin in the Fields Chamber Ensemble & Sir Neville Marriner'),\n (216, 'Berliner Philharmoniker, Claudio Abbado & Sabine Meyer'),\n (217, 'Royal Philharmonic Orchestra & Sir Thomas Beecham'),\n (218, 'Orchestre Révolutionnaire et Romantique & John Eliot Gardiner'),\n (219, 'Britten Sinfonia, Ivor Bolton & Lesley Garrett'),\n (220,\n  'Chicago Symphony Chorus, Chicago Symphony Orchestra & Sir Georg Solti'),\n (221, 'Sir Georg Solti & Wiener Philharmoniker'),\n (222,\n  'Academy of St. Martin in the Fields, John Birch, Sir Neville Marriner & Sylvia McNair'),\n (223, 'London Symphony Orchestra & Sir Charles Mackerras'),\n (224, 'Barry Wordsworth & BBC Concert Orchestra'),\n (225, 'Herbert Von Karajan, Mirella Freni & Wiener Philharmoniker'),\n (226, 'Eugene Ormandy'),\n (227, 'Luciano Pavarotti'),\n (228, 'Leonard Bernstein & New York Philharmonic'),\n (229, 'Boston Symphony Orchestra & Seiji Ozawa'),\n (230, 'Aaron Copland & London Symphony Orchestra'),\n (231, 'Ton Koopman'),\n (232, 'Sergei Prokofiev & Yuri Temirkanov'),\n (233, 'Chicago Symphony Orchestra & Fritz Reiner'),\n (234, 'Orchestra of The Age of Enlightenment'),\n (235, 'Emanuel Ax, Eugene Ormandy & Philadelphia Orchestra'),\n (236, 'James Levine'),\n (237, 'Berliner Philharmoniker & Hans Rosbaud'),\n (238, 'Maurizio Pollini'),\n (239,\n  'Academy of St. Martin in the Fields, Sir Neville Marriner & William Bennett'),\n (240, 'Gustav Mahler'),\n (241, 'Felix Schmidt, London Symphony Orchestra & Rafael Frühbeck de Burgos'),\n (242, 'Edo de Waart & San Francisco Symphony'),\n (243, 'Antal Doráti & London Symphony Orchestra'),\n (244, 'Choir Of Westminster Abbey & Simon Preston'),\n (245, 'Michael Tilson Thomas & San Francisco Symphony'),\n (246,\n  'Chor der Wiener Staatsoper, Herbert Von Karajan & Wiener Philharmoniker'),\n (247, \"The King's Singers\"),\n (248, 'Berliner Philharmoniker & Herbert Von Karajan'),\n (249, 'Sir Georg Solti, Sumi Jo & Wiener Philharmoniker'),\n (250, \"Christopher O'Riley\"),\n (251, 'Fretwork'),\n (252, 'Amy Winehouse'),\n (253, 'Calexico'),\n (254, 'Otto Klemperer & Philharmonia Orchestra'),\n (255, 'Yehudi Menuhin'),\n (256, 'Philharmonia Orchestra & Sir Neville Marriner'),\n (257,\n  'Academy of St. Martin in the Fields, Sir Neville Marriner & Thurston Dart'),\n (258, 'Les Arts Florissants & William Christie'),\n (259, 'The 12 Cellists of The Berlin Philharmonic'),\n (260, 'Adrian Leaper & Doreen de Feis'),\n (261, 'Roger Norrington, London Classical Players'),\n (262, \"Charles Dutoit & L'Orchestre Symphonique de Montréal\"),\n (263,\n  'Equale Brass Ensemble, John Eliot Gardiner & Munich Monteverdi Orchestra and Choir'),\n (264, \"Kent Nagano and Orchestre de l'Opéra de Lyon\"),\n (265, 'Julian Bream'),\n (266, 'Martin Roscoe'),\n (267, 'Göteborgs Symfoniker & Neeme Järvi'),\n (268, 'Itzhak Perlman'),\n (269, 'Michele Campanella'),\n (270, 'Gerald Moore'),\n (271, 'Mela Tenenbaum, Pro Musica Prague & Richard Kapp'),\n (272, 'Emerson String Quartet'),\n (273,\n  'C. Monteverdi, Nigel Rogers - Chiaroscuro; London Baroque; London Cornett & Sackbu'),\n (274, 'Nash Ensemble'),\n (275, 'Philip Glass Ensemble')]"
     },
     "execution_count": 59,
     "metadata": {},
     "output_type": "execute_result"
    }
   ],
   "source": [
    "get_all_artists(cur)"
   ],
   "metadata": {
    "collapsed": false,
    "pycharm": {
     "name": "#%%\n"
    }
   }
  },
  {
   "cell_type": "code",
   "execution_count": 60,
   "outputs": [
    {
     "data": {
      "text/plain": "[(1, 'For Those About To Rock We Salute You', 10), (4, 'Let There Be Rock', 8)]"
     },
     "execution_count": 60,
     "metadata": {},
     "output_type": "execute_result"
    }
   ],
   "source": [
    "get_artist_albums(cur, 'AC/DC')"
   ],
   "metadata": {
    "collapsed": false,
    "pycharm": {
     "name": "#%%\n"
    }
   }
  },
  {
   "cell_type": "markdown",
   "source": [
    "## Задание 3\n",
    "\n",
    "Датасет: movies.txt.\n",
    "\n",
    "Из названий фильмов, заданных в файле movie.txt, выделить первое слово, второе слово, третье слово и остальные слова. Второе и последуюшие слова выделяются, если они имеются, остальные слова названия включают четвёртое и все последующие слова названия. Словом считается любой выделенный разделителем набор символов, не отностящихся к знакам препинания (отдельно стоящий символ \"&\" считается свловом). Найти по 2 самых популярных слова, относящихся к каждой из 4х групп. Сформировать из 8 найденных слов список. Распараллелить расчёт при помощи dask.delayed."
   ],
   "metadata": {
    "collapsed": false
   }
  },
  {
   "cell_type": "code",
   "execution_count": 61,
   "outputs": [],
   "source": [
    "import dask\n",
    "from collections import defaultdict\n",
    "import string"
   ],
   "metadata": {
    "collapsed": false,
    "pycharm": {
     "name": "#%%\n"
    }
   }
  },
  {
   "cell_type": "code",
   "execution_count": 62,
   "outputs": [],
   "source": [
    "@dask.delayed\n",
    "def get_groups():\n",
    "    with open('data/task_3/movies.txt') as f:\n",
    "        punctuation = set(string.punctuation) - {'&'}\n",
    "        word_groups = defaultdict(lambda: defaultdict(int))\n",
    "        for line in f:\n",
    "            words = [w for w in line.split() if w not in punctuation]\n",
    "            if len(words) > 0:\n",
    "                word_groups['first'][words[0]] += 1\n",
    "            if len(words) > 1:\n",
    "                word_groups['second'][words[0]] += 1\n",
    "            if len(words) > 2:\n",
    "                word_groups['third'][words[2]] += 1\n",
    "            if len(words) > 3:\n",
    "                for w in words[3:]:\n",
    "                    word_groups['fourth'][w] += 1\n",
    "\n",
    "        most_common_2 = {}\n",
    "        for key, value in word_groups.items():\n",
    "            most_common_2[key] = sorted(value.items(), key=lambda x: x[1], reverse=True)[:2]\n",
    "    return most_common_2"
   ],
   "metadata": {
    "collapsed": false,
    "pycharm": {
     "name": "#%%\n"
    }
   }
  },
  {
   "cell_type": "code",
   "execution_count": 63,
   "outputs": [
    {
     "data": {
      "text/plain": "['The', 'A', 'The', 'A', 'of', 'the', 'the', 'of']"
     },
     "execution_count": 63,
     "metadata": {},
     "output_type": "execute_result"
    }
   ],
   "source": [
    "groups = get_groups().compute()\n",
    "[w for group in groups.values() for w, _ in group]"
   ],
   "metadata": {
    "collapsed": false,
    "pycharm": {
     "name": "#%%\n"
    }
   }
  }
 ],
 "metadata": {
  "kernelspec": {
   "display_name": "Python 3",
   "language": "python",
   "name": "python3"
  },
  "language_info": {
   "codemirror_mode": {
    "name": "ipython",
    "version": 2
   },
   "file_extension": ".py",
   "mimetype": "text/x-python",
   "name": "python",
   "nbconvert_exporter": "python",
   "pygments_lexer": "ipython2",
   "version": "2.7.6"
  }
 },
 "nbformat": 4,
 "nbformat_minor": 0
}