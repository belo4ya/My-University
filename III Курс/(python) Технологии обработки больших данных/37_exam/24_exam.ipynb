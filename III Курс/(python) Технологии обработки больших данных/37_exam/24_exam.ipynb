{
 "cells": [
  {
   "cell_type": "markdown",
   "source": [
    "# Билет 24"
   ],
   "metadata": {
    "collapsed": false
   }
  },
  {
   "cell_type": "markdown",
   "source": [
    "## Задание 1"
   ],
   "metadata": {
    "collapsed": false
   }
  },
  {
   "cell_type": "code",
   "execution_count": 136,
   "outputs": [],
   "source": [],
   "metadata": {
    "collapsed": false,
    "pycharm": {
     "name": "#%%\n"
    }
   }
  },
  {
   "cell_type": "markdown",
   "source": [
    "## Задание 2\n",
    "\n",
    "<img src=\"img/24_2.png\" width=800>"
   ],
   "metadata": {
    "collapsed": false
   }
  },
  {
   "cell_type": "code",
   "execution_count": 137,
   "outputs": [],
   "source": [
    "import nltk\n",
    "from nltk.corpus import stopwords\n",
    "import re"
   ],
   "metadata": {
    "collapsed": false,
    "pycharm": {
     "name": "#%%\n"
    }
   }
  },
  {
   "cell_type": "code",
   "execution_count": 138,
   "outputs": [],
   "source": [
    "with open('data/task_2/AnnaKarenina_.txt', encoding='cp1251') as f:\n",
    "    text = f.read()"
   ],
   "metadata": {
    "collapsed": false,
    "pycharm": {
     "name": "#%%\n"
    }
   }
  },
  {
   "cell_type": "code",
   "execution_count": 139,
   "outputs": [],
   "source": [
    "# небольшая предобработка\n",
    "pattern = re.compile(r'[^\\w\\s]')\n",
    "text = pattern.sub(' ', text.lower())"
   ],
   "metadata": {
    "collapsed": false,
    "pycharm": {
     "name": "#%%\n"
    }
   }
  },
  {
   "cell_type": "code",
   "execution_count": 140,
   "outputs": [
    {
     "data": {
      "text/plain": "[('и', 12914),\n ('не', 6538),\n ('что', 6128),\n ('в', 5723),\n ('он', 5552),\n ('на', 3594),\n ('она', 3436),\n ('с', 3357),\n ('я', 3217),\n ('как', 2686),\n ('но', 2581),\n ('его', 2578),\n ('это', 2232),\n ('то', 2039),\n ('к', 1984),\n ('ее', 1805),\n ('все', 1793),\n ('было', 1656),\n ('так', 1425),\n ('сказал', 1412),\n ('а', 1393),\n ('же', 1327),\n ('ему', 1253),\n ('о', 1242),\n ('за', 1204),\n ('левин', 1135),\n ('только', 1017),\n ('ты', 993),\n ('по', 940),\n ('у', 914),\n ('был', 901),\n ('когда', 863),\n ('из', 836),\n ('для', 827),\n ('сказала', 827),\n ('бы', 822),\n ('да', 820),\n ('от', 813),\n ('теперь', 813),\n ('вы', 757),\n ('была', 728),\n ('еще', 699),\n ('ей', 694),\n ('мне', 684),\n ('кити', 661),\n ('они', 646),\n ('него', 622),\n ('уже', 601),\n ('нет', 601),\n ('очень', 573),\n ('быть', 565),\n ('меня', 533),\n ('чтобы', 529),\n ('этого', 509),\n ('вронский', 509),\n ('себя', 501),\n ('анна', 499),\n ('себе', 499),\n ('были', 499),\n ('ни', 496),\n ('если', 494),\n ('ничего', 485),\n ('ну', 474),\n ('того', 473),\n ('том', 467),\n ('чем', 466),\n ('ней', 441),\n ('алексей', 429),\n ('их', 426),\n ('степан', 423),\n ('аркадьич', 422),\n ('вот', 398),\n ('может', 395),\n ('александрович', 395),\n ('есть', 388),\n ('тем', 382),\n ('надо', 381),\n ('ли', 378),\n ('опять', 375),\n ('или', 370),\n ('потому', 368),\n ('время', 366),\n ('мог', 357),\n ('говорил', 357),\n ('будет', 355),\n ('ним', 352),\n ('нее', 348),\n ('мы', 343),\n ('до', 320),\n ('во', 313),\n ('руку', 309),\n ('долли', 302),\n ('эти', 297),\n ('которые', 295),\n ('всегда', 291),\n ('со', 286),\n ('этом', 281),\n ('раз', 278),\n ('лицо', 277),\n ('сказать', 276),\n ('этот', 274),\n ('вас', 272),\n ('дело', 272),\n ('левина', 272),\n ('более', 270),\n ('вдруг', 270),\n ('свою', 270),\n ('после', 265),\n ('который', 263),\n ('больше', 257),\n ('при', 256),\n ('своей', 251),\n ('без', 251),\n ('знал', 249),\n ('где', 245),\n ('никогда', 236),\n ('потом', 236),\n ('жизни', 235),\n ('говорить', 234),\n ('знаю', 234),\n ('хорошо', 233),\n ('которое', 231),\n ('об', 228),\n ('даже', 227),\n ('пред', 224),\n ('хотел', 219),\n ('тебя', 219),\n ('сергей', 219),\n ('один', 217),\n ('нужно', 217),\n ('человек', 215),\n ('прежде', 215),\n ('глаза', 214),\n ('нельзя', 214),\n ('тебе', 214),\n ('могу', 214),\n ('видел', 214),\n ('чтоб', 213),\n ('всех', 213),\n ('тотчас', 211),\n ('им', 211),\n ('чувствовал', 210),\n ('про', 207),\n ('нибудь', 205),\n ('чего', 205),\n ('вронского', 205),\n ('вам', 203),\n ('одно', 203),\n ('под', 203),\n ('своего', 199),\n ('могла', 199),\n ('свое', 198),\n ('тут', 193),\n ('сам', 191),\n ('иванович', 191),\n ('лучше', 190),\n ('думал', 189),\n ('глядя', 189),\n ('между', 188),\n ('говорила', 184),\n ('тоже', 183),\n ('вместе', 183),\n ('отвечал', 182),\n ('будто', 181),\n ('нему', 180),\n ('улыбаясь', 179),\n ('которая', 178),\n ('улыбкой', 177),\n ('свои', 177),\n ('княгиня', 176),\n ('слова', 175),\n ('совершенно', 175),\n ('хотя', 175),\n ('жизнь', 172),\n ('день', 171),\n ('эта', 170),\n ('казалось', 170),\n ('левину', 170),\n ('чувство', 169),\n ('этим', 168),\n ('стал', 168),\n ('эту', 165),\n ('можно', 165),\n ('уж', 164),\n ('там', 162),\n ('делать', 161),\n ('своим', 160),\n ('спросил', 158),\n ('нынче', 158),\n ('хотела', 157),\n ('кто', 157),\n ('разговор', 157),\n ('очевидно', 157),\n ('всего', 154),\n ('несмотря', 154),\n ('которого', 152),\n ('которой', 152),\n ('особенно', 152),\n ('над', 151),\n ('другой', 150)]"
     },
     "execution_count": 140,
     "metadata": {},
     "output_type": "execute_result"
    }
   ],
   "source": [
    "# 200 самых частых\n",
    "freq = nltk.FreqDist(nltk.word_tokenize(text))\n",
    "most_common_200 = freq.most_common(200)\n",
    "most_common_200"
   ],
   "metadata": {
    "collapsed": false,
    "pycharm": {
     "name": "#%%\n"
    }
   }
  },
  {
   "cell_type": "code",
   "execution_count": 141,
   "outputs": [],
   "source": [
    "stop_words = set(stopwords.words('russian'))"
   ],
   "metadata": {
    "collapsed": false,
    "pycharm": {
     "name": "#%%\n"
    }
   }
  },
  {
   "cell_type": "code",
   "execution_count": 142,
   "outputs": [
    {
     "data": {
      "text/plain": "[('это', 2232),\n ('сказал', 1412),\n ('левин', 1135),\n ('сказала', 827),\n ('кити', 661),\n ('очень', 573),\n ('вронский', 509),\n ('анна', 499),\n ('алексей', 429),\n ('степан', 423),\n ('аркадьич', 422),\n ('александрович', 395),\n ('время', 366),\n ('мог', 357),\n ('говорил', 357),\n ('руку', 309),\n ('долли', 302),\n ('которые', 295),\n ('лицо', 277),\n ('сказать', 276),\n ('дело', 272),\n ('левина', 272),\n ('который', 263),\n ('своей', 251),\n ('знал', 249),\n ('жизни', 235),\n ('говорить', 234),\n ('знаю', 234),\n ('которое', 231),\n ('пред', 224),\n ('хотел', 219),\n ('сергей', 219),\n ('нужно', 217),\n ('человек', 215),\n ('прежде', 215),\n ('глаза', 214),\n ('тебе', 214),\n ('могу', 214),\n ('видел', 214),\n ('тотчас', 211),\n ('чувствовал', 210),\n ('вронского', 205),\n ('одно', 203),\n ('своего', 199),\n ('могла', 199),\n ('свое', 198),\n ('иванович', 191),\n ('думал', 189),\n ('глядя', 189),\n ('говорила', 184),\n ('вместе', 183),\n ('отвечал', 182),\n ('нему', 180),\n ('улыбаясь', 179),\n ('которая', 178),\n ('улыбкой', 177),\n ('свои', 177),\n ('княгиня', 176),\n ('слова', 175),\n ('совершенно', 175),\n ('хотя', 175),\n ('жизнь', 172),\n ('день', 171),\n ('эта', 170),\n ('казалось', 170),\n ('левину', 170),\n ('чувство', 169),\n ('этим', 168),\n ('стал', 168),\n ('делать', 161),\n ('своим', 160),\n ('спросил', 158),\n ('нынче', 158),\n ('хотела', 157),\n ('разговор', 157),\n ('очевидно', 157),\n ('несмотря', 154),\n ('которого', 152),\n ('которой', 152),\n ('особенно', 152)]"
     },
     "execution_count": 142,
     "metadata": {},
     "output_type": "execute_result"
    }
   ],
   "source": [
    "# слова, не входящие в список стоп-слов\n",
    "most_common_without_stop = [wn for wn in most_common_200 if wn[0] not in stop_words]\n",
    "most_common_without_stop"
   ],
   "metadata": {
    "collapsed": false,
    "pycharm": {
     "name": "#%%\n"
    }
   }
  },
  {
   "cell_type": "markdown",
   "source": [
    "## Задание 3\n",
    "\n",
    "<img src=\"img/24_3.png\" width=800>"
   ],
   "metadata": {
    "collapsed": false
   }
  },
  {
   "cell_type": "code",
   "execution_count": 143,
   "outputs": [],
   "source": [
    "import dask.dataframe as dd"
   ],
   "metadata": {
    "collapsed": false,
    "pycharm": {
     "name": "#%%\n"
    }
   }
  },
  {
   "cell_type": "code",
   "execution_count": 144,
   "outputs": [
    {
     "data": {
      "text/plain": "    id   names  amount\n0  187  Ingrid     457\n1  346  Ursula     747\n2  350     Dan    1175\n3  464   Zelda    -571\n4  431   Wendy    4534",
      "text/html": "<div>\n<style scoped>\n    .dataframe tbody tr th:only-of-type {\n        vertical-align: middle;\n    }\n\n    .dataframe tbody tr th {\n        vertical-align: top;\n    }\n\n    .dataframe thead th {\n        text-align: right;\n    }\n</style>\n<table border=\"1\" class=\"dataframe\">\n  <thead>\n    <tr style=\"text-align: right;\">\n      <th></th>\n      <th>id</th>\n      <th>names</th>\n      <th>amount</th>\n    </tr>\n  </thead>\n  <tbody>\n    <tr>\n      <th>0</th>\n      <td>187</td>\n      <td>Ingrid</td>\n      <td>457</td>\n    </tr>\n    <tr>\n      <th>1</th>\n      <td>346</td>\n      <td>Ursula</td>\n      <td>747</td>\n    </tr>\n    <tr>\n      <th>2</th>\n      <td>350</td>\n      <td>Dan</td>\n      <td>1175</td>\n    </tr>\n    <tr>\n      <th>3</th>\n      <td>464</td>\n      <td>Zelda</td>\n      <td>-571</td>\n    </tr>\n    <tr>\n      <th>4</th>\n      <td>431</td>\n      <td>Wendy</td>\n      <td>4534</td>\n    </tr>\n  </tbody>\n</table>\n</div>"
     },
     "execution_count": 144,
     "metadata": {},
     "output_type": "execute_result"
    }
   ],
   "source": [
    "accounts: dd.DataFrame = dd.read_csv(\n",
    "    'data/task_3/data/accounts.*.csv',\n",
    "    dtype={'id': int, 'names': object, 'amount': int}\n",
    ")\n",
    "accounts.head(5)"
   ],
   "metadata": {
    "collapsed": false,
    "pycharm": {
     "name": "#%%\n"
    }
   }
  },
  {
   "cell_type": "code",
   "execution_count": 145,
   "outputs": [
    {
     "data": {
      "text/plain": "165"
     },
     "execution_count": 145,
     "metadata": {},
     "output_type": "execute_result"
    }
   ],
   "source": [
    "accounts_positive = accounts[accounts['amount'] > 0]\n",
    "res = accounts_positive.groupby('id')['amount'].sum().idxmax().compute()\n",
    "res"
   ],
   "metadata": {
    "collapsed": false,
    "pycharm": {
     "name": "#%%\n"
    }
   }
  },
  {
   "cell_type": "code",
   "execution_count": 146,
   "outputs": [
    {
     "name": "stdout",
     "output_type": "stream",
     "text": [
      "id\n",
      "165    199706820\n",
      "101    124128688\n",
      "113    115465183\n",
      "Name: amount, dtype: int32\n",
      "\n",
      "Ответ: id=165\n"
     ]
    }
   ],
   "source": [
    "print(accounts_positive.groupby('id')['amount'].sum().nlargest(3).compute())\n",
    "print(f'\\nОтвет: id={res}')"
   ],
   "metadata": {
    "collapsed": false,
    "pycharm": {
     "name": "#%%\n"
    }
   }
  }
 ],
 "metadata": {
  "kernelspec": {
   "display_name": "Python 3",
   "language": "python",
   "name": "python3"
  },
  "language_info": {
   "codemirror_mode": {
    "name": "ipython",
    "version": 2
   },
   "file_extension": ".py",
   "mimetype": "text/x-python",
   "name": "python",
   "nbconvert_exporter": "python",
   "pygments_lexer": "ipython2",
   "version": "2.7.6"
  }
 },
 "nbformat": 4,
 "nbformat_minor": 0
}