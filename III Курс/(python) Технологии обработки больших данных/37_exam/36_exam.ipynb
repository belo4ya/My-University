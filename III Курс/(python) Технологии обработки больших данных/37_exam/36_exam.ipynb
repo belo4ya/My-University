{
 "cells": [
  {
   "cell_type": "markdown",
   "source": [
    "# Билет 36"
   ],
   "metadata": {
    "collapsed": false
   }
  },
  {
   "cell_type": "markdown",
   "source": [
    "# Задание 1"
   ],
   "metadata": {
    "collapsed": false
   }
  },
  {
   "cell_type": "code",
   "execution_count": 3,
   "outputs": [],
   "source": [],
   "metadata": {
    "collapsed": false,
    "pycharm": {
     "name": "#%%\n"
    }
   }
  },
  {
   "cell_type": "code",
   "execution_count": 3,
   "outputs": [],
   "source": [],
   "metadata": {
    "collapsed": false,
    "pycharm": {
     "name": "#%%\n"
    }
   }
  },
  {
   "cell_type": "markdown",
   "source": [
    "# Задание 2\n",
    "\n",
    "<img src=\"img/36_2.png\" width=800>"
   ],
   "metadata": {
    "collapsed": false
   }
  },
  {
   "cell_type": "code",
   "execution_count": 46,
   "outputs": [],
   "source": [
    "import xlwings as xw"
   ],
   "metadata": {
    "collapsed": false,
    "pycharm": {
     "name": "#%%\n"
    }
   }
  },
  {
   "cell_type": "code",
   "execution_count": 47,
   "outputs": [],
   "source": [
    "wb = xw.Book('data/task_2/себестоимостьА_в1.xlsx')"
   ],
   "metadata": {
    "collapsed": false,
    "pycharm": {
     "name": "#%%\n"
    }
   }
  },
  {
   "cell_type": "code",
   "execution_count": 48,
   "outputs": [],
   "source": [
    "recipe_sheet: xw.Sheet = wb.sheets['Рецептура']\n",
    "price_sheet: xw.Sheet = wb.sheets.add('Цена ресурсов')"
   ],
   "metadata": {
    "collapsed": false,
    "pycharm": {
     "name": "#%%\n"
    }
   }
  },
  {
   "cell_type": "code",
   "execution_count": 49,
   "outputs": [],
   "source": [
    "def get_resources_prices(sheet: xw.Sheet, i: int, j: int) -> list[tuple[str, float]]:\n",
    "    resources = sheet.range(i + 2, j + 5).expand('right').value\n",
    "    height = sheet.range(i + 2 + 1, j).expand('down').shape[0]\n",
    "    prices = sheet.range(i + height, j + 5).expand('right').value\n",
    "    return list(zip(resources, prices))\n",
    "\n",
    "\n",
    "def get_next_pos(sheet: xw.Sheet, i: int, j: int) -> tuple[int, int]:\n",
    "    i = i + 2 + 1\n",
    "    height = sheet.range(i, j).expand('down').shape[0]\n",
    "    i = i + height + 2\n",
    "    if not sheet.range(i, j).value:\n",
    "        raise StopIteration\n",
    "    return i, j\n",
    "\n",
    "\n",
    "def replace_by_formula(sheet: xw.Sheet, i: int, j: int):\n",
    "    formula = f\"=VLOOKUP(G{i + 2},'{price_sheet.name}'!$A$2:$B${len(resources_prices) + 1},2,0)\"\n",
    "    height = sheet.range(i + 2 + 1, j).expand('down').shape[0]\n",
    "    sheet.range(i + height, j + 5).expand('right').formula = formula"
   ],
   "metadata": {
    "collapsed": false,
    "pycharm": {
     "name": "#%%\n"
    }
   }
  },
  {
   "cell_type": "code",
   "execution_count": 50,
   "outputs": [
    {
     "name": "stdout",
     "output_type": "stream",
     "text": [
      "{'Вода': 7.0, 'Пшеничная мука': 10.0, 'Дрожжи': 184.0, 'Сахар': 19.0, 'Соль': 7.0, 'Куркума молотая': 290.0, 'Топленное масло': 105.0, 'Кунжутные семена': 83.0, 'Масло оливковое': 260.0, 'Ржаная мука': 10.0, 'Солод ржаной': 108.0, 'Цельнозерновая мука': 12.0, 'Гречневая мука': 12.0, 'Ячменная мука': 12.0, 'Кукурузная мука': 12.0, 'Молоко': 40.0, 'Чеснок ': 1.0, 'Овсянные хлопья': 18.0, 'Пахта': 40.0, 'Изюм': 83.0, 'Семена подсолнуха': 160.0, 'Масло сливочное': 150.0, 'Яйцо': 4.0, 'Джем': 63.0, 'Сыр': 110.0, 'Ветчина': 270.0, 'Лосось': 250.0, 'Зелень': 280.0, 'Шоколад': 200.0, 'Творог': 80.0, 'Яблоки': 25.0, 'Вишня': 93.0}\n"
     ]
    }
   ],
   "source": [
    "i, j = 3, 2\n",
    "resources_prices = {}\n",
    "while True:\n",
    "    try:\n",
    "        for resource, price in get_resources_prices(recipe_sheet, i, j):\n",
    "            resources_prices[resource] = price\n",
    "        i, j = get_next_pos(recipe_sheet, i, j)\n",
    "    except StopIteration:\n",
    "        break\n",
    "\n",
    "print(resources_prices)"
   ],
   "metadata": {
    "collapsed": false,
    "pycharm": {
     "name": "#%%\n"
    }
   }
  },
  {
   "cell_type": "code",
   "execution_count": 51,
   "outputs": [],
   "source": [
    "price_sheet.range('A1').value = [('Ресурс', 'Цена'), *resources_prices.items()]"
   ],
   "metadata": {
    "collapsed": false,
    "pycharm": {
     "name": "#%%\n"
    }
   }
  },
  {
   "cell_type": "code",
   "execution_count": 52,
   "outputs": [],
   "source": [
    "i, j = 3, 2\n",
    "while True:\n",
    "    try:\n",
    "        replace_by_formula(recipe_sheet, i, j)\n",
    "        i, j = get_next_pos(recipe_sheet, i, j)\n",
    "    except StopIteration:\n",
    "        break"
   ],
   "metadata": {
    "collapsed": false,
    "pycharm": {
     "name": "#%%\n"
    }
   }
  },
  {
   "cell_type": "code",
   "execution_count": 11,
   "outputs": [],
   "source": [
    "# wb.save()\n",
    "wb.close()"
   ],
   "metadata": {
    "collapsed": false,
    "pycharm": {
     "name": "#%%\n"
    }
   }
  },
  {
   "cell_type": "markdown",
   "source": [
    "# Задание 3\n",
    "\n",
    "<img src=\"img/36_3.png\" width=800>"
   ],
   "metadata": {
    "collapsed": false
   }
  },
  {
   "cell_type": "code",
   "execution_count": 95,
   "outputs": [],
   "source": [
    "import re\n",
    "from operator import add\n",
    "import dask.bag as db"
   ],
   "metadata": {
    "collapsed": false,
    "pycharm": {
     "name": "#%%\n"
    }
   }
  },
  {
   "cell_type": "code",
   "execution_count": 115,
   "outputs": [],
   "source": [
    "pattern = re.compile(r'^\\s*[-—].+')\n",
    "\n",
    "\n",
    "def count_direct_speech(prev: int, line: str) -> int:\n",
    "    return prev + 1 if pattern.match(line) else prev"
   ],
   "metadata": {
    "collapsed": false,
    "pycharm": {
     "name": "#%%\n"
    }
   }
  },
  {
   "cell_type": "code",
   "execution_count": 116,
   "outputs": [
    {
     "data": {
      "text/plain": "898765"
     },
     "execution_count": 116,
     "metadata": {},
     "output_type": "execute_result"
    }
   ],
   "source": [
    "bag = db.read_text('data/task_3/all_k/*', encoding='cp1251')\n",
    "bag = bag.fold(count_direct_speech, combine=add, initial=0)\n",
    "bag.compute()"
   ],
   "metadata": {
    "collapsed": false,
    "pycharm": {
     "name": "#%%\n"
    }
   }
  }
 ],
 "metadata": {
  "kernelspec": {
   "display_name": "Python 3",
   "language": "python",
   "name": "python3"
  },
  "language_info": {
   "codemirror_mode": {
    "name": "ipython",
    "version": 2
   },
   "file_extension": ".py",
   "mimetype": "text/x-python",
   "name": "python",
   "nbconvert_exporter": "python",
   "pygments_lexer": "ipython2",
   "version": "2.7.6"
  }
 },
 "nbformat": 4,
 "nbformat_minor": 0
}