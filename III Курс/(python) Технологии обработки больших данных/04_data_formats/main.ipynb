{
 "cells": [
  {
   "cell_type": "markdown",
   "metadata": {},
   "source": [
    "# Форматы данных (1)"
   ]
  },
  {
   "cell_type": "markdown",
   "metadata": {},
   "source": [
    "Материалы:\n",
    "* Макрушин С.В. \"Лекция 4: Форматы данных\"\n",
    "* https://docs.python.org/3/library/json.html\n",
    "* https://docs.python.org/3/library/pickle.html\n",
    "* https://www.crummy.com/software/BeautifulSoup/bs4/doc.ru/bs4ru.html\n",
    "* Уэс Маккини. Python и анализ данных"
   ]
  },
  {
   "cell_type": "markdown",
   "metadata": {},
   "source": [
    "## Задачи для совместного разбора"
   ]
  },
  {
   "cell_type": "markdown",
   "metadata": {},
   "source": [
    "1. Вывести все адреса электронной почты, содержащиеся в адресной книге `addres-book.json`"
   ]
  },
  {
   "cell_type": "code",
   "execution_count": 90,
   "outputs": [],
   "source": [
    "import json\n",
    "import pickle\n",
    "from collections import defaultdict\n",
    "from pathlib import Path\n",
    "\n",
    "import pandas as pd\n",
    "from bs4 import BeautifulSoup as bs"
   ],
   "metadata": {
    "collapsed": false,
    "pycharm": {
     "name": "#%%\n"
    }
   }
  },
  {
   "cell_type": "code",
   "execution_count": 91,
   "outputs": [],
   "source": [
    "def read_json(path: str):\n",
    "    with open(path, encoding='utf-8') as f:\n",
    "        return json.load(f)\n",
    "\n",
    "\n",
    "def write_json(path: str, data: dict):\n",
    "    with open(path, mode='w', encoding='utf-8') as f:\n",
    "        json.dump(data, f, ensure_ascii=False, indent=4)"
   ],
   "metadata": {
    "collapsed": false,
    "pycharm": {
     "name": "#%%\n"
    }
   }
  },
  {
   "cell_type": "code",
   "execution_count": 92,
   "outputs": [],
   "source": [
    "def read_xml(path: str) -> bs:\n",
    "    with open(path, encoding='utf-8') as f:\n",
    "        return bs(''.join(f.readlines()), 'lxml')"
   ],
   "metadata": {
    "collapsed": false,
    "pycharm": {
     "name": "#%%\n"
    }
   }
  },
  {
   "cell_type": "code",
   "execution_count": 93,
   "outputs": [],
   "source": [
    "def read_pickle(path: str):\n",
    "    with open(path, mode='rb') as f:\n",
    "        return pickle.load(f)\n",
    "\n",
    "\n",
    "def write_pickle(path: str, data: dict):\n",
    "    with open(path, mode='wb') as f:\n",
    "        pickle.dump(data, f)"
   ],
   "metadata": {
    "collapsed": false,
    "pycharm": {
     "name": "#%%\n"
    }
   }
  },
  {
   "cell_type": "code",
   "execution_count": 94,
   "outputs": [
    {
     "data": {
      "text/plain": "[{'name': 'Faina Lee',\n  'email': 'faina@mail.ru',\n  'birthday': '22.08.1994',\n  'phones': [{'phone': '232-19-55'}, {'phone': '+7 (916) 232-19-55'}]},\n {'name': 'Robert Lee',\n  'email': 'robert@mail.ru',\n  'birthday': '22.08.1994',\n  'phones': [{'phone': '111-19-55'}, {'phone': '+7 (916) 445-19-55'}]}]"
     },
     "execution_count": 94,
     "metadata": {},
     "output_type": "execute_result"
    }
   ],
   "source": [
    "address_book = read_json('data/addressBook.json')\n",
    "address_book"
   ],
   "metadata": {
    "collapsed": false,
    "pycharm": {
     "name": "#%%\n"
    }
   }
  },
  {
   "cell_type": "code",
   "execution_count": 95,
   "outputs": [
    {
     "data": {
      "text/plain": "['faina@mail.ru', 'robert@mail.ru']"
     },
     "execution_count": 95,
     "metadata": {},
     "output_type": "execute_result"
    }
   ],
   "source": [
    "emails = [address.get('email') for address in address_book]\n",
    "emails"
   ],
   "metadata": {
    "collapsed": false,
    "pycharm": {
     "name": "#%%\n"
    }
   }
  },
  {
   "cell_type": "markdown",
   "metadata": {},
   "source": [
    "2. Вывести телефоны, содержащиеся в адресной книге `addres-book.json`"
   ]
  },
  {
   "cell_type": "code",
   "execution_count": 96,
   "outputs": [
    {
     "data": {
      "text/plain": "['232-19-55', '+7 (916) 232-19-55', '111-19-55', '+7 (916) 445-19-55']"
     },
     "execution_count": 96,
     "metadata": {},
     "output_type": "execute_result"
    }
   ],
   "source": [
    "phones = []\n",
    "for address in address_book:\n",
    "    phones.extend([phone['phone'] for phone in address.get('phones')])\n",
    "\n",
    "phones"
   ],
   "metadata": {
    "collapsed": false,
    "pycharm": {
     "name": "#%%\n"
    }
   }
  },
  {
   "cell_type": "markdown",
   "metadata": {},
   "source": [
    "3. По данным из файла `addres-book-q.xml` сформировать список словарей с телефонами каждого из людей."
   ]
  },
  {
   "cell_type": "code",
   "execution_count": 97,
   "outputs": [
    {
     "data": {
      "text/plain": "<?xml version=\"1.0\" encoding=\"UTF-8\" ?><html><body><address_book>\n<country name=\"algeria\">\n<address id=\"1\">\n<gender>m</gender>\n<name>Aicha Barki</name>\n<email>aiqraa.asso@caramail.com</email>\n<position>Presidente</position>\n<company>Association Algerienne d'Alphabetisation Iqraa</company>\n<phones>\n<phone type=\"work\">+ (213) 6150 4015</phone>\n<phone type=\"personal\">+ (213) 2173 5247</phone>\n</phones>\n</address>\n</country>\n<country name=\"angola\">\n<address id=\"2\">\n<gender>m</gender>\n<name>Francisco Domingos</name>\n<email>frandomingos@hotmail.com</email>\n<position>Directeur General</position>\n<company>Institut National de Education des Adultes</company>\n<phones>\n<phone type=\"work\">+ (244-2) 325 023</phone>\n<phone type=\"personal\">+ (244-2) 325 023</phone>\n</phones>\n</address>\n<address id=\"3\">\n<gender>f</gender>\n<name>Maria Luisa</name>\n<email>luisagrilo@ebonet.net</email>\n<position>Directrice Nationale</position>\n<company>Institut National de Education des Adultes</company>\n<phones>\n<phone type=\"personal\">+ (244) 4232 2836</phone>\n</phones>\n</address>\n<address id=\"4\">\n<gender>m</gender>\n<name>Abraao Chanda</name>\n<email>ineda@snet.co.ao</email>\n<position>Chef</position>\n<company>Institut National de Education des Adultes</company>\n<phones>\n<phone type=\"work\">+ (244-2) 325 023</phone>\n<phone type=\"personal\">+ (244-2) 325 023</phone>\n</phones>\n</address>\n</country>\n<country name=\"argentina\">\n<address id=\"5\">\n<gender>m</gender>\n<name>Beatriz Busaniche</name>\n<email>busaniche@caminandoutopias.org.ar</email>\n<position>Executive Director</position>\n<company>Universidad de Buenos Aires</company>\n<phones>\n<phone type=\"work\">+ (54-11) 4784 1159</phone>\n</phones>\n</address>\n</country>\n<country name=\"australia\">\n<address id=\"6\">\n<gender>f</gender>\n<name>Francesca Beddie</name>\n<email>f.beddie@ala.asn.au</email>\n<position>Executive Director</position>\n<company>Adult Learning Australia</company>\n<phones>\n<phone type=\"work\">+ (61-2) 6274 9500</phone>\n<phone type=\"personal\">+ (61-2) 6274 9513</phone>\n</phones>\n</address>\n<address id=\"7\">\n<gender>m</gender>\n<name>Graham John Smith</name>\n<email>grasm@connexus.net.au</email>\n<position>Secretary</position>\n<company>Disability Australia Ltd</company>\n<phones>\n<phone type=\"work\">+ (61-3) 9807 4702</phone>\n</phones>\n</address>\n</country>\n</address_book></body></html>"
     },
     "execution_count": 97,
     "metadata": {},
     "output_type": "execute_result"
    }
   ],
   "source": [
    "soup = read_xml('data/address_book.xml')\n",
    "soup"
   ],
   "metadata": {
    "collapsed": false,
    "pycharm": {
     "name": "#%%\n"
    }
   }
  },
  {
   "cell_type": "code",
   "execution_count": 98,
   "outputs": [
    {
     "data": {
      "text/plain": "[{'name': 'Aicha Barki', 'phones': ['+ (213) 6150 4015', '+ (213) 2173 5247']},\n {'name': 'Francisco Domingos',\n  'phones': ['+ (244-2) 325 023', '+ (244-2) 325 023']},\n {'name': 'Maria Luisa', 'phones': ['+ (244) 4232 2836']},\n {'name': 'Abraao Chanda',\n  'phones': ['+ (244-2) 325 023', '+ (244-2) 325 023']},\n {'name': 'Beatriz Busaniche', 'phones': ['+ (54-11) 4784 1159']},\n {'name': 'Francesca Beddie',\n  'phones': ['+ (61-2) 6274 9500', '+ (61-2) 6274 9513']},\n {'name': 'Graham John Smith', 'phones': ['+ (61-3) 9807 4702']}]"
     },
     "execution_count": 98,
     "metadata": {},
     "output_type": "execute_result"
    }
   ],
   "source": [
    "phone_book = []\n",
    "for address in soup.find_all('address'):\n",
    "    name = address.find('name').string\n",
    "    phones = [phone.string for phone in address.find_all('phone')]\n",
    "    phone_book.append({\n",
    "        'name': name,\n",
    "        'phones': phones\n",
    "    })\n",
    "\n",
    "phone_book"
   ],
   "metadata": {
    "collapsed": false,
    "pycharm": {
     "name": "#%%\n"
    }
   }
  },
  {
   "cell_type": "markdown",
   "metadata": {},
   "source": [
    "## Лабораторная работа №4"
   ]
  },
  {
   "cell_type": "markdown",
   "metadata": {},
   "source": [
    "### JSON"
   ]
  },
  {
   "cell_type": "markdown",
   "metadata": {},
   "source": [
    "1.1 Считайте файл `contributors_sample.json`. Воспользовавшись модулем `json`, преобразуйте содержимое файла в соответствующие объекты python. Выведите на экран информацию о первых 3 пользователях."
   ]
  },
  {
   "cell_type": "code",
   "execution_count": 99,
   "outputs": [
    {
     "data": {
      "text/plain": "[{'username': 'uhebert',\n  'name': 'Lindsey Nguyen',\n  'sex': 'F',\n  'address': '01261 Cameron Spring\\nTaylorfurt, AK 97791',\n  'mail': 'jsalazar@gmail.com',\n  'jobs': ['Energy engineer',\n   'Engineer, site',\n   'Environmental health practitioner',\n   'Biomedical scientist',\n   'Jewellery designer'],\n  'id': 35193},\n {'username': 'vickitaylor',\n  'name': 'Cheryl Lewis',\n  'sex': 'F',\n  'address': '66992 Welch Brooks\\nMarshallshire, ID 56004',\n  'mail': 'bhudson@gmail.com',\n  'jobs': ['Music therapist',\n   'Volunteer coordinator',\n   'Designer, interior/spatial'],\n  'id': 91970},\n {'username': 'sheilaadams',\n  'name': 'Julia Allen',\n  'sex': 'F',\n  'address': 'Unit 1632 Box 2971\\nDPO AE 23297',\n  'mail': 'darren44@yahoo.com',\n  'jobs': ['Management consultant',\n   'Engineer, structural',\n   'Lecturer, higher education',\n   'Theatre manager',\n   'Designer, textile'],\n  'id': 1848091}]"
     },
     "execution_count": 99,
     "metadata": {},
     "output_type": "execute_result"
    }
   ],
   "source": [
    "contributors = read_json('data/contributorsSample.json')\n",
    "contributors[:3]"
   ],
   "metadata": {
    "collapsed": false,
    "pycharm": {
     "name": "#%%\n"
    }
   }
  },
  {
   "cell_type": "markdown",
   "metadata": {},
   "source": [
    "1.2 Выведите уникальные почтовые домены, содержащиеся в почтовых адресах людей"
   ]
  },
  {
   "cell_type": "code",
   "execution_count": 100,
   "outputs": [
    {
     "data": {
      "text/plain": "{'gmail.com', 'hotmail.com', 'yahoo.com'}"
     },
     "execution_count": 100,
     "metadata": {},
     "output_type": "execute_result"
    }
   ],
   "source": [
    "mail_domains = set()\n",
    "for contributor in contributors:\n",
    "    mail_domains.add(contributor['mail'].split('@')[-1])\n",
    "\n",
    "mail_domains"
   ],
   "metadata": {
    "collapsed": false,
    "pycharm": {
     "name": "#%%\n"
    }
   }
  },
  {
   "cell_type": "markdown",
   "metadata": {},
   "source": [
    "1.3 Напишите функцию, которая по `username` ищет человека и выводит информацию о нем. Если пользователь с заданным `username` отсутствует, возбудите исключение `ValueError`"
   ]
  },
  {
   "cell_type": "code",
   "execution_count": 101,
   "outputs": [],
   "source": [
    "# допущение: username является уникальным\n",
    "indexed_data = {contributor['username']: contributor for contributor in contributors}"
   ],
   "metadata": {
    "collapsed": false,
    "pycharm": {
     "name": "#%%\n"
    }
   }
  },
  {
   "cell_type": "code",
   "execution_count": 102,
   "outputs": [],
   "source": [
    "def find_by_username(username: str) -> dict:\n",
    "    contributor = indexed_data.get(username)\n",
    "    if contributor is None:\n",
    "        raise ValueError(f'Контрибьютер с {username=} не найден.')\n",
    "\n",
    "    return contributor"
   ],
   "metadata": {
    "collapsed": false,
    "pycharm": {
     "name": "#%%\n"
    }
   }
  },
  {
   "cell_type": "code",
   "execution_count": 103,
   "outputs": [
    {
     "data": {
      "text/plain": "{'username': 'uhebert',\n 'name': 'Lindsey Nguyen',\n 'sex': 'F',\n 'address': '01261 Cameron Spring\\nTaylorfurt, AK 97791',\n 'mail': 'jsalazar@gmail.com',\n 'jobs': ['Energy engineer',\n  'Engineer, site',\n  'Environmental health practitioner',\n  'Biomedical scientist',\n  'Jewellery designer'],\n 'id': 35193}"
     },
     "execution_count": 103,
     "metadata": {},
     "output_type": "execute_result"
    }
   ],
   "source": [
    "find_by_username('uhebert')"
   ],
   "metadata": {
    "collapsed": false,
    "pycharm": {
     "name": "#%%\n"
    }
   }
  },
  {
   "cell_type": "code",
   "execution_count": 104,
   "outputs": [
    {
     "name": "stdout",
     "output_type": "stream",
     "text": [
      "Контрибьютер с username='aabbcc' не найден.\n"
     ]
    }
   ],
   "source": [
    "try:\n",
    "    find_by_username('aabbcc')\n",
    "except ValueError as e:\n",
    "    print(e)"
   ],
   "metadata": {
    "collapsed": false,
    "pycharm": {
     "name": "#%%\n"
    }
   }
  },
  {
   "cell_type": "markdown",
   "metadata": {},
   "source": [
    "1.4 Посчитайте, сколько мужчин и женщин присутсвует в этом наборе данных."
   ]
  },
  {
   "cell_type": "code",
   "execution_count": 105,
   "outputs": [],
   "source": [
    "def count_by_sex(data):\n",
    "    counter = defaultdict(int)  # спасибо, что я знаю тебя\n",
    "    for contributor in data:\n",
    "        counter[contributor['sex'].upper()] += 1\n",
    "\n",
    "    return {'M': counter['M'], 'F': counter['F']}"
   ],
   "metadata": {
    "collapsed": false,
    "pycharm": {
     "name": "#%%\n"
    }
   }
  },
  {
   "cell_type": "code",
   "execution_count": 106,
   "outputs": [
    {
     "data": {
      "text/plain": "{'M': 2064, 'F': 2136}"
     },
     "execution_count": 106,
     "metadata": {},
     "output_type": "execute_result"
    }
   ],
   "source": [
    "count_by_sex(contributors)"
   ],
   "metadata": {
    "collapsed": false,
    "pycharm": {
     "name": "#%%\n"
    }
   }
  },
  {
   "cell_type": "markdown",
   "metadata": {},
   "source": [
    "1.5 Создайте `pd.DataFrame` `contributors`, имеющий столбцы `id`, `username` и `sex`."
   ]
  },
  {
   "cell_type": "code",
   "execution_count": 107,
   "outputs": [
    {
     "data": {
      "text/plain": "           id       username sex\n0       35193        uhebert   F\n1       91970    vickitaylor   F\n2     1848091    sheilaadams   F\n3       50969       nicole82   F\n4      676820         jean67   M\n...       ...            ...  ..\n4195   423555  stevenspencer   F\n4196    35251      rwilliams   M\n4197   135887      lmartinez   F\n4198   212714     brendahill   M\n4199   344321       mistyray   F\n\n[4200 rows x 3 columns]",
      "text/html": "<div>\n<style scoped>\n    .dataframe tbody tr th:only-of-type {\n        vertical-align: middle;\n    }\n\n    .dataframe tbody tr th {\n        vertical-align: top;\n    }\n\n    .dataframe thead th {\n        text-align: right;\n    }\n</style>\n<table border=\"1\" class=\"dataframe\">\n  <thead>\n    <tr style=\"text-align: right;\">\n      <th></th>\n      <th>id</th>\n      <th>username</th>\n      <th>sex</th>\n    </tr>\n  </thead>\n  <tbody>\n    <tr>\n      <th>0</th>\n      <td>35193</td>\n      <td>uhebert</td>\n      <td>F</td>\n    </tr>\n    <tr>\n      <th>1</th>\n      <td>91970</td>\n      <td>vickitaylor</td>\n      <td>F</td>\n    </tr>\n    <tr>\n      <th>2</th>\n      <td>1848091</td>\n      <td>sheilaadams</td>\n      <td>F</td>\n    </tr>\n    <tr>\n      <th>3</th>\n      <td>50969</td>\n      <td>nicole82</td>\n      <td>F</td>\n    </tr>\n    <tr>\n      <th>4</th>\n      <td>676820</td>\n      <td>jean67</td>\n      <td>M</td>\n    </tr>\n    <tr>\n      <th>...</th>\n      <td>...</td>\n      <td>...</td>\n      <td>...</td>\n    </tr>\n    <tr>\n      <th>4195</th>\n      <td>423555</td>\n      <td>stevenspencer</td>\n      <td>F</td>\n    </tr>\n    <tr>\n      <th>4196</th>\n      <td>35251</td>\n      <td>rwilliams</td>\n      <td>M</td>\n    </tr>\n    <tr>\n      <th>4197</th>\n      <td>135887</td>\n      <td>lmartinez</td>\n      <td>F</td>\n    </tr>\n    <tr>\n      <th>4198</th>\n      <td>212714</td>\n      <td>brendahill</td>\n      <td>M</td>\n    </tr>\n    <tr>\n      <th>4199</th>\n      <td>344321</td>\n      <td>mistyray</td>\n      <td>F</td>\n    </tr>\n  </tbody>\n</table>\n<p>4200 rows × 3 columns</p>\n</div>"
     },
     "execution_count": 107,
     "metadata": {},
     "output_type": "execute_result"
    }
   ],
   "source": [
    "contributors_df = pd.DataFrame([\n",
    "    {\n",
    "        'id': contributor['id'],\n",
    "        'username': contributor['username'],\n",
    "        'sex': contributor['sex']\n",
    "    }\n",
    "    for contributor in contributors\n",
    "])\n",
    "\n",
    "contributors_df"
   ],
   "metadata": {
    "collapsed": false,
    "pycharm": {
     "name": "#%%\n"
    }
   }
  },
  {
   "cell_type": "markdown",
   "metadata": {},
   "source": [
    "1.6 Загрузите данные из файла `recipes_sample.csv` (__ЛР2__) в таблицу `recipes`. Объедините `recipes` с таблицей `contributors` с сохранением строк в том случае, если информация о человеке отсутствует в JSON-файле. Для скольких человек информация отсутствует? "
   ]
  },
  {
   "cell_type": "code",
   "execution_count": 108,
   "outputs": [
    {
     "data": {
      "text/plain": "                                               name      id  minutes  \\\n0             george s at the cove  black bean soup   44123       90   \n1                healthy for them  yogurt popsicles   67664       10   \n2                      i can t believe it s spinach   38798       30   \n3                              italian  gut busters   35173       45   \n4          love is in the air  beef fondue   sauces   84797       25   \n...                                             ...     ...      ...   \n29995  zurie s holey rustic olive and cheddar bread  267661       80   \n29996          zwetschgenkuchen  bavarian plum cake  386977      240   \n29997   zwiebelkuchen   southwest german onion cake  103312       75   \n29998                                   zydeco soup  486161       60   \n29999        cookies by design   cookies on a stick  298512       29   \n\n       contributor_id  submitted  n_steps  \\\n0               35193 2002-10-25      NaN   \n1               91970 2003-07-26      NaN   \n2                1533 2002-08-29      NaN   \n3               22724 2002-07-27      NaN   \n4                4470 2004-02-23      4.0   \n...               ...        ...      ...   \n29995          200862 2007-11-25     16.0   \n29996          177443 2009-08-24      NaN   \n29997          161745 2004-11-03      NaN   \n29998          227978 2012-08-29      NaN   \n29999          506822 2008-04-15      9.0   \n\n                                             description  n_ingredients  \n0      an original recipe created by chef scott meska...           18.0  \n1      my children and their friends ask for my homem...            NaN  \n2                these were so go, it surprised even me.            8.0  \n3      my sister-in-law made these for us at a family...            NaN  \n4      i think a fondue is a very romantic casual din...            NaN  \n...                                                  ...            ...  \n29995  this is based on a french recipe but i changed...           10.0  \n29996  this is a traditional fresh plum cake, thought...           11.0  \n29997  this is a traditional late summer early fall s...            NaN  \n29998  this is a delicious soup that i originally fou...            NaN  \n29999  i've heard of the 'cookies by design' company,...           10.0  \n\n[30000 rows x 8 columns]",
      "text/html": "<div>\n<style scoped>\n    .dataframe tbody tr th:only-of-type {\n        vertical-align: middle;\n    }\n\n    .dataframe tbody tr th {\n        vertical-align: top;\n    }\n\n    .dataframe thead th {\n        text-align: right;\n    }\n</style>\n<table border=\"1\" class=\"dataframe\">\n  <thead>\n    <tr style=\"text-align: right;\">\n      <th></th>\n      <th>name</th>\n      <th>id</th>\n      <th>minutes</th>\n      <th>contributor_id</th>\n      <th>submitted</th>\n      <th>n_steps</th>\n      <th>description</th>\n      <th>n_ingredients</th>\n    </tr>\n  </thead>\n  <tbody>\n    <tr>\n      <th>0</th>\n      <td>george s at the cove  black bean soup</td>\n      <td>44123</td>\n      <td>90</td>\n      <td>35193</td>\n      <td>2002-10-25</td>\n      <td>NaN</td>\n      <td>an original recipe created by chef scott meska...</td>\n      <td>18.0</td>\n    </tr>\n    <tr>\n      <th>1</th>\n      <td>healthy for them  yogurt popsicles</td>\n      <td>67664</td>\n      <td>10</td>\n      <td>91970</td>\n      <td>2003-07-26</td>\n      <td>NaN</td>\n      <td>my children and their friends ask for my homem...</td>\n      <td>NaN</td>\n    </tr>\n    <tr>\n      <th>2</th>\n      <td>i can t believe it s spinach</td>\n      <td>38798</td>\n      <td>30</td>\n      <td>1533</td>\n      <td>2002-08-29</td>\n      <td>NaN</td>\n      <td>these were so go, it surprised even me.</td>\n      <td>8.0</td>\n    </tr>\n    <tr>\n      <th>3</th>\n      <td>italian  gut busters</td>\n      <td>35173</td>\n      <td>45</td>\n      <td>22724</td>\n      <td>2002-07-27</td>\n      <td>NaN</td>\n      <td>my sister-in-law made these for us at a family...</td>\n      <td>NaN</td>\n    </tr>\n    <tr>\n      <th>4</th>\n      <td>love is in the air  beef fondue   sauces</td>\n      <td>84797</td>\n      <td>25</td>\n      <td>4470</td>\n      <td>2004-02-23</td>\n      <td>4.0</td>\n      <td>i think a fondue is a very romantic casual din...</td>\n      <td>NaN</td>\n    </tr>\n    <tr>\n      <th>...</th>\n      <td>...</td>\n      <td>...</td>\n      <td>...</td>\n      <td>...</td>\n      <td>...</td>\n      <td>...</td>\n      <td>...</td>\n      <td>...</td>\n    </tr>\n    <tr>\n      <th>29995</th>\n      <td>zurie s holey rustic olive and cheddar bread</td>\n      <td>267661</td>\n      <td>80</td>\n      <td>200862</td>\n      <td>2007-11-25</td>\n      <td>16.0</td>\n      <td>this is based on a french recipe but i changed...</td>\n      <td>10.0</td>\n    </tr>\n    <tr>\n      <th>29996</th>\n      <td>zwetschgenkuchen  bavarian plum cake</td>\n      <td>386977</td>\n      <td>240</td>\n      <td>177443</td>\n      <td>2009-08-24</td>\n      <td>NaN</td>\n      <td>this is a traditional fresh plum cake, thought...</td>\n      <td>11.0</td>\n    </tr>\n    <tr>\n      <th>29997</th>\n      <td>zwiebelkuchen   southwest german onion cake</td>\n      <td>103312</td>\n      <td>75</td>\n      <td>161745</td>\n      <td>2004-11-03</td>\n      <td>NaN</td>\n      <td>this is a traditional late summer early fall s...</td>\n      <td>NaN</td>\n    </tr>\n    <tr>\n      <th>29998</th>\n      <td>zydeco soup</td>\n      <td>486161</td>\n      <td>60</td>\n      <td>227978</td>\n      <td>2012-08-29</td>\n      <td>NaN</td>\n      <td>this is a delicious soup that i originally fou...</td>\n      <td>NaN</td>\n    </tr>\n    <tr>\n      <th>29999</th>\n      <td>cookies by design   cookies on a stick</td>\n      <td>298512</td>\n      <td>29</td>\n      <td>506822</td>\n      <td>2008-04-15</td>\n      <td>9.0</td>\n      <td>i've heard of the 'cookies by design' company,...</td>\n      <td>10.0</td>\n    </tr>\n  </tbody>\n</table>\n<p>30000 rows × 8 columns</p>\n</div>"
     },
     "execution_count": 108,
     "metadata": {},
     "output_type": "execute_result"
    }
   ],
   "source": [
    "recipes_df = pd.read_csv('data/recipes_sample.csv', sep=',', parse_dates=['submitted'])\n",
    "recipes_df"
   ],
   "metadata": {
    "collapsed": false,
    "pycharm": {
     "name": "#%%\n"
    }
   }
  },
  {
   "cell_type": "code",
   "execution_count": 109,
   "outputs": [
    {
     "data": {
      "text/plain": "                                          name    id_x  minutes  \\\n0        george s at the cove  black bean soup   44123       90   \n1           healthy for them  yogurt popsicles   67664       10   \n2                 i can t believe it s spinach   38798       30   \n3                         italian  gut busters   35173       45   \n4     love is in the air  beef fondue   sauces   84797       25   \n...                                        ...     ...      ...   \n8399                           zucchini strips  279769       30   \n8400        zucchini with bacon corn   peppers  326105       45   \n8401      zucchini with bell pepper and tomato  363362       13   \n8402                 zucchini with serrano ham  162411       15   \n8403                  zucchini potato pancakes  180833       45   \n\n      contributor_id  submitted  n_steps  \\\n0              35193 2002-10-25      NaN   \n1              91970 2003-07-26      NaN   \n2               1533 2002-08-29      NaN   \n3              22724 2002-07-27      NaN   \n4               4470 2004-02-23      4.0   \n...              ...        ...      ...   \n8399          522304 2008-01-18      8.0   \n8400          896136 2008-09-19      8.0   \n8401          344321 2009-03-29     19.0   \n8402          152500 2006-03-31      6.0   \n8403          186118 2006-08-07      NaN   \n\n                                            description  n_ingredients  \\\n0     an original recipe created by chef scott meska...           18.0   \n1     my children and their friends ask for my homem...            NaN   \n2               these were so go, it surprised even me.            8.0   \n3     my sister-in-law made these for us at a family...            NaN   \n4     i think a fondue is a very romantic casual din...            NaN   \n...                                                 ...            ...   \n8399              spicy, salty, crispy zucchini strips!            4.0   \n8400  this is a very colorful addition to any meal. ...            7.0   \n8401  the weather has been turning warmer and i have...            8.0   \n8402  this dish is from tim malzer, a german chef wh...            5.0   \n8403  this recipe was posted in our local newspaper,...            9.0   \n\n          id_y     username  sex  \n0      35193.0      uhebert    F  \n1      91970.0  vickitaylor    F  \n2          NaN          NaN  NaN  \n3          NaN          NaN  NaN  \n4          NaN          NaN  NaN  \n...        ...          ...  ...  \n8399       NaN          NaN  NaN  \n8400       NaN          NaN  NaN  \n8401  344321.0     mistyray    F  \n8402       NaN          NaN  NaN  \n8403       NaN          NaN  NaN  \n\n[8404 rows x 11 columns]",
      "text/html": "<div>\n<style scoped>\n    .dataframe tbody tr th:only-of-type {\n        vertical-align: middle;\n    }\n\n    .dataframe tbody tr th {\n        vertical-align: top;\n    }\n\n    .dataframe thead th {\n        text-align: right;\n    }\n</style>\n<table border=\"1\" class=\"dataframe\">\n  <thead>\n    <tr style=\"text-align: right;\">\n      <th></th>\n      <th>name</th>\n      <th>id_x</th>\n      <th>minutes</th>\n      <th>contributor_id</th>\n      <th>submitted</th>\n      <th>n_steps</th>\n      <th>description</th>\n      <th>n_ingredients</th>\n      <th>id_y</th>\n      <th>username</th>\n      <th>sex</th>\n    </tr>\n  </thead>\n  <tbody>\n    <tr>\n      <th>0</th>\n      <td>george s at the cove  black bean soup</td>\n      <td>44123</td>\n      <td>90</td>\n      <td>35193</td>\n      <td>2002-10-25</td>\n      <td>NaN</td>\n      <td>an original recipe created by chef scott meska...</td>\n      <td>18.0</td>\n      <td>35193.0</td>\n      <td>uhebert</td>\n      <td>F</td>\n    </tr>\n    <tr>\n      <th>1</th>\n      <td>healthy for them  yogurt popsicles</td>\n      <td>67664</td>\n      <td>10</td>\n      <td>91970</td>\n      <td>2003-07-26</td>\n      <td>NaN</td>\n      <td>my children and their friends ask for my homem...</td>\n      <td>NaN</td>\n      <td>91970.0</td>\n      <td>vickitaylor</td>\n      <td>F</td>\n    </tr>\n    <tr>\n      <th>2</th>\n      <td>i can t believe it s spinach</td>\n      <td>38798</td>\n      <td>30</td>\n      <td>1533</td>\n      <td>2002-08-29</td>\n      <td>NaN</td>\n      <td>these were so go, it surprised even me.</td>\n      <td>8.0</td>\n      <td>NaN</td>\n      <td>NaN</td>\n      <td>NaN</td>\n    </tr>\n    <tr>\n      <th>3</th>\n      <td>italian  gut busters</td>\n      <td>35173</td>\n      <td>45</td>\n      <td>22724</td>\n      <td>2002-07-27</td>\n      <td>NaN</td>\n      <td>my sister-in-law made these for us at a family...</td>\n      <td>NaN</td>\n      <td>NaN</td>\n      <td>NaN</td>\n      <td>NaN</td>\n    </tr>\n    <tr>\n      <th>4</th>\n      <td>love is in the air  beef fondue   sauces</td>\n      <td>84797</td>\n      <td>25</td>\n      <td>4470</td>\n      <td>2004-02-23</td>\n      <td>4.0</td>\n      <td>i think a fondue is a very romantic casual din...</td>\n      <td>NaN</td>\n      <td>NaN</td>\n      <td>NaN</td>\n      <td>NaN</td>\n    </tr>\n    <tr>\n      <th>...</th>\n      <td>...</td>\n      <td>...</td>\n      <td>...</td>\n      <td>...</td>\n      <td>...</td>\n      <td>...</td>\n      <td>...</td>\n      <td>...</td>\n      <td>...</td>\n      <td>...</td>\n      <td>...</td>\n    </tr>\n    <tr>\n      <th>8399</th>\n      <td>zucchini strips</td>\n      <td>279769</td>\n      <td>30</td>\n      <td>522304</td>\n      <td>2008-01-18</td>\n      <td>8.0</td>\n      <td>spicy, salty, crispy zucchini strips!</td>\n      <td>4.0</td>\n      <td>NaN</td>\n      <td>NaN</td>\n      <td>NaN</td>\n    </tr>\n    <tr>\n      <th>8400</th>\n      <td>zucchini with bacon corn   peppers</td>\n      <td>326105</td>\n      <td>45</td>\n      <td>896136</td>\n      <td>2008-09-19</td>\n      <td>8.0</td>\n      <td>this is a very colorful addition to any meal. ...</td>\n      <td>7.0</td>\n      <td>NaN</td>\n      <td>NaN</td>\n      <td>NaN</td>\n    </tr>\n    <tr>\n      <th>8401</th>\n      <td>zucchini with bell pepper and tomato</td>\n      <td>363362</td>\n      <td>13</td>\n      <td>344321</td>\n      <td>2009-03-29</td>\n      <td>19.0</td>\n      <td>the weather has been turning warmer and i have...</td>\n      <td>8.0</td>\n      <td>344321.0</td>\n      <td>mistyray</td>\n      <td>F</td>\n    </tr>\n    <tr>\n      <th>8402</th>\n      <td>zucchini with serrano ham</td>\n      <td>162411</td>\n      <td>15</td>\n      <td>152500</td>\n      <td>2006-03-31</td>\n      <td>6.0</td>\n      <td>this dish is from tim malzer, a german chef wh...</td>\n      <td>5.0</td>\n      <td>NaN</td>\n      <td>NaN</td>\n      <td>NaN</td>\n    </tr>\n    <tr>\n      <th>8403</th>\n      <td>zucchini potato pancakes</td>\n      <td>180833</td>\n      <td>45</td>\n      <td>186118</td>\n      <td>2006-08-07</td>\n      <td>NaN</td>\n      <td>this recipe was posted in our local newspaper,...</td>\n      <td>9.0</td>\n      <td>NaN</td>\n      <td>NaN</td>\n      <td>NaN</td>\n    </tr>\n  </tbody>\n</table>\n<p>8404 rows × 11 columns</p>\n</div>"
     },
     "execution_count": 109,
     "metadata": {},
     "output_type": "execute_result"
    }
   ],
   "source": [
    "recipes_contributors_df = pd.merge(\n",
    "    recipes_df.drop_duplicates('contributor_id'),\n",
    "    contributors_df,\n",
    "    how='left',\n",
    "    left_on='contributor_id',\n",
    "    right_on='id'\n",
    ")\n",
    "\n",
    "recipes_contributors_df"
   ],
   "metadata": {
    "collapsed": false,
    "pycharm": {
     "name": "#%%\n"
    }
   }
  },
  {
   "cell_type": "code",
   "execution_count": 110,
   "outputs": [
    {
     "data": {
      "text/plain": "4204"
     },
     "execution_count": 110,
     "metadata": {},
     "output_type": "execute_result"
    }
   ],
   "source": [
    "recipes_contributors_df['id_y'].isna().sum()"
   ],
   "metadata": {
    "collapsed": false,
    "pycharm": {
     "name": "#%%\n"
    }
   }
  },
  {
   "cell_type": "code",
   "execution_count": 111,
   "outputs": [
    {
     "data": {
      "text/plain": "0        622593\n1        557057\n2       1105923\n3         32772\n4       1228804\n         ...   \n4199    2924524\n4200     237551\n4201     458738\n4202     114681\n4203      57338\nLength: 4204, dtype: int64"
     },
     "execution_count": 111,
     "metadata": {},
     "output_type": "execute_result"
    }
   ],
   "source": [
    "pd.Series(list(\n",
    "    set(recipes_df['contributor_id'].unique()) - set(contributors_df['id'].unique())\n",
    "))"
   ],
   "metadata": {
    "collapsed": false,
    "pycharm": {
     "name": "#%%\n"
    }
   }
  },
  {
   "cell_type": "markdown",
   "metadata": {},
   "source": [
    "### pickle"
   ]
  },
  {
   "cell_type": "markdown",
   "metadata": {},
   "source": [
    "2.1 На основе файла `contributors_sample.json` создайте словарь следующего вида: \n",
    "```\n",
    "{\n",
    "    должность: [список username людей, занимавших эту должность]\n",
    "}\n",
    "```"
   ]
  },
  {
   "cell_type": "code",
   "execution_count": 112,
   "outputs": [
    {
     "name": "stdout",
     "output_type": "stream",
     "text": [
      "{'environmental health practitioner': ['uhebert', 'jonathanchristian', 'xjohnson', 'dsmith', 'james01', 'nancytaylor', 'ztaylor', 'andrewwoods', 'susan54', 'fmaldonado', 'james74', 'bakerjacob', 'stephanie81', 'whitejoseph', 'qolson', 'hknox', 'gonzalesdaniel', 'tranronald', 'jessegreen', 'stephanie69', 'ellisdennis', 'melaniejohnson', 'bradleyalexander', 'chadandrews', 'thomas33', 'john93', 'tanderson', 'dward', 'kathleenbarnett'], 'biomedical scientist': ['uhebert', 'smithheather', 'epittman', 'scotttyrone', 'limadeline', 'robertsmith', 'friedmanronald', 'sarahirwin', 'xmiller', 'jeremy66', 'bakertammie', 'bnorris', 'betty20', 'ambermartinez', 'stephanie16', 'leebenjamin', 'derekschmidt', 'katkins', 'ginacantrell', 'richard23', 'barbara93', 'katherinewalters', 'brandi41'], 'engineer, site': ['uhebert', 'nancy12', 'andrea03', 'catherineross', 'wesley32', 'natalieross', 'rossdoris', 'christophersmith', 'dbooker', 'ericarobertson', 'trantricia', 'tpugh', 'jasonvelez', 'samantha36', 'brandidaniels', 'tenglish', 'reyesbrett', 'austin18', 'vjohnson', 'zmejia', 'daniel04', 'cynthia20', 'morgan15', 'avaldez', 'jessica92', 'laurieholloway', 'baileyvictoria']}\n"
     ]
    }
   ],
   "source": [
    "job_people = defaultdict(list)\n",
    "for contributor in contributors:\n",
    "    for job in set(contributor['jobs']):\n",
    "        job_people[job.strip().casefold()].append(contributor['username'])\n",
    "\n",
    "print({k: v for k, v in list(job_people.items())[:3]})"
   ],
   "metadata": {
    "collapsed": false,
    "pycharm": {
     "name": "#%%\n"
    }
   }
  },
  {
   "cell_type": "markdown",
   "metadata": {},
   "source": [
    "2.2 Сохраните результаты в файл `job_people.pickle` и в файл `job_people.json` с использованием форматов pickle и JSON соответственно. Сравните объемы получившихся файлов. При сохранении в JSON укажите аргумент `indent`."
   ]
  },
  {
   "cell_type": "code",
   "execution_count": 113,
   "outputs": [],
   "source": [
    "pickle_path = 'data/output/job_people.pickle'\n",
    "write_pickle(pickle_path, job_people)"
   ],
   "metadata": {
    "collapsed": false,
    "pycharm": {
     "name": "#%%\n"
    }
   }
  },
  {
   "cell_type": "code",
   "execution_count": 114,
   "outputs": [],
   "source": [
    "json_path = 'data/output/job_people.json'\n",
    "write_json(json_path, job_people)"
   ],
   "metadata": {
    "collapsed": false,
    "pycharm": {
     "name": "#%%\n"
    }
   }
  },
  {
   "cell_type": "code",
   "execution_count": 115,
   "outputs": [
    {
     "name": "stdout",
     "output_type": "stream",
     "text": [
      "pickle: 132162 bytes\n",
      "json: 406637 bytes\n"
     ]
    }
   ],
   "source": [
    "print(f'pickle: {Path(pickle_path).stat().st_size} bytes')\n",
    "print(f'json: {Path(json_path).stat().st_size} bytes')"
   ],
   "metadata": {
    "collapsed": false,
    "pycharm": {
     "name": "#%%\n"
    }
   }
  },
  {
   "cell_type": "markdown",
   "metadata": {},
   "source": [
    "2.3 Считайте файл `job_people.pickle` и продемонстрируйте, что данные считались корректно. "
   ]
  },
  {
   "cell_type": "code",
   "execution_count": 116,
   "outputs": [
    {
     "name": "stdout",
     "output_type": "stream",
     "text": [
      "{'environmental health practitioner': ['uhebert', 'jonathanchristian', 'xjohnson', 'dsmith', 'james01', 'nancytaylor', 'ztaylor', 'andrewwoods', 'susan54', 'fmaldonado', 'james74', 'bakerjacob', 'stephanie81', 'whitejoseph', 'qolson', 'hknox', 'gonzalesdaniel', 'tranronald', 'jessegreen', 'stephanie69', 'ellisdennis', 'melaniejohnson', 'bradleyalexander', 'chadandrews', 'thomas33', 'john93', 'tanderson', 'dward', 'kathleenbarnett'], 'biomedical scientist': ['uhebert', 'smithheather', 'epittman', 'scotttyrone', 'limadeline', 'robertsmith', 'friedmanronald', 'sarahirwin', 'xmiller', 'jeremy66', 'bakertammie', 'bnorris', 'betty20', 'ambermartinez', 'stephanie16', 'leebenjamin', 'derekschmidt', 'katkins', 'ginacantrell', 'richard23', 'barbara93', 'katherinewalters', 'brandi41'], 'engineer, site': ['uhebert', 'nancy12', 'andrea03', 'catherineross', 'wesley32', 'natalieross', 'rossdoris', 'christophersmith', 'dbooker', 'ericarobertson', 'trantricia', 'tpugh', 'jasonvelez', 'samantha36', 'brandidaniels', 'tenglish', 'reyesbrett', 'austin18', 'vjohnson', 'zmejia', 'daniel04', 'cynthia20', 'morgan15', 'avaldez', 'jessica92', 'laurieholloway', 'baileyvictoria']}\n"
     ]
    }
   ],
   "source": [
    "job_people_pickle = read_pickle(pickle_path)\n",
    "print({k: v for k, v in list(job_people_pickle.items())[:3]})"
   ],
   "metadata": {
    "collapsed": false,
    "pycharm": {
     "name": "#%%\n"
    }
   }
  },
  {
   "cell_type": "markdown",
   "metadata": {},
   "source": [
    "### XML"
   ]
  },
  {
   "cell_type": "markdown",
   "metadata": {},
   "source": [
    "3.1 По данным файла `steps_sample.xml` сформируйте словарь с шагами по каждому рецепту вида `{id_рецепта: [\"шаг1\", \"шаг2\"]}`. Сохраните этот словарь в файл `steps_sample.json`"
   ]
  },
  {
   "cell_type": "code",
   "execution_count": 117,
   "outputs": [],
   "source": [
    "steps_sample_soup = read_xml('data/steps_sample.xml')"
   ],
   "metadata": {
    "collapsed": false,
    "pycharm": {
     "name": "#%%\n"
    }
   }
  },
  {
   "cell_type": "code",
   "execution_count": 118,
   "outputs": [],
   "source": [
    "recipes_lst = steps_sample_soup.find_all('recipe')"
   ],
   "metadata": {
    "collapsed": false,
    "pycharm": {
     "name": "#%%\n"
    }
   }
  },
  {
   "cell_type": "code",
   "execution_count": 119,
   "outputs": [],
   "source": [
    "recipe_steps = {}\n",
    "for recipe in recipes_lst:\n",
    "    recipe_steps[recipe.find('id').text] = [\n",
    "        {\n",
    "            'description': step.text,\n",
    "            **step.attrs\n",
    "        }\n",
    "        for step in recipe.find_all('step')\n",
    "    ]"
   ],
   "metadata": {
    "collapsed": false,
    "pycharm": {
     "name": "#%%\n"
    }
   }
  },
  {
   "cell_type": "code",
   "execution_count": 120,
   "outputs": [
    {
     "data": {
      "text/plain": "{'44123': [{'description': 'in 1 / 4 cup butter , saute carrots , onion , celery and broccoli stems for 5 minutes',\n   'has_minutes': '1'},\n  {'description': 'add thyme , oregano and basil'},\n  {'description': 'saute 5 minutes more', 'has_minutes': '1'},\n  {'description': 'add wine and deglaze pan'},\n  {'description': 'add hot chicken stock and reduce by one-third'},\n  {'description': 'add worcestershire sauce , tabasco , smoked chicken , beans and broccoli florets'},\n  {'description': 'simmer 5 minutes', 'has_minutes': '1'},\n  {'description': 'add cream , simmer 5 minutes more and season to taste',\n   'has_minutes': '1'},\n  {'description': 'drop in remaining butter , piece by piece , stirring until melted and serve immediately'},\n  {'description': 'smoked chicken: on a covered grill , slightly smoke boneless chicken , cooking to medium rare'},\n  {'description': 'chef meskan uses applewood chips and does not allow the grill to become too hot'}],\n '67664': [{'description': 'mix all the ingredients using a blender'},\n  {'description': 'pour into popsicle molds'},\n  {'description': 'freeze and enjoy !'}],\n '38798': [{'description': 'combine all ingredients in a large bowl and mix well'},\n  {'description': 'shape into one-inch balls'},\n  {'description': 'cover and refrigerate or freeze until ready to bake'},\n  {'description': 'preheat oven to 350 degrees', 'has_degrees': '1'},\n  {'description': 'place on ungreased baking sheet and bake until light brown'}]}"
     },
     "execution_count": 120,
     "metadata": {},
     "output_type": "execute_result"
    }
   ],
   "source": [
    "{k: v for k, v in list(recipe_steps.items())[:3]}"
   ],
   "metadata": {
    "collapsed": false,
    "pycharm": {
     "name": "#%%\n"
    }
   }
  },
  {
   "cell_type": "code",
   "execution_count": 121,
   "outputs": [],
   "source": [
    "write_json('data/output/steps_sample.json', recipe_steps)"
   ],
   "metadata": {
    "collapsed": false,
    "pycharm": {
     "name": "#%%\n"
    }
   }
  },
  {
   "cell_type": "markdown",
   "metadata": {},
   "source": [
    "3.2 По данным файла `steps_sample.xml` сформируйте словарь следующего вида: `кол-во_шагов_в_рецепте: [список_id_рецептов]`"
   ]
  },
  {
   "cell_type": "code",
   "execution_count": 122,
   "outputs": [],
   "source": [
    "step_recipes = defaultdict(list)\n",
    "for recipe in recipes_lst:\n",
    "    step_recipes[len(recipe.find_all('step'))].append(recipe.find('id').text)"
   ],
   "metadata": {
    "collapsed": false,
    "pycharm": {
     "name": "#%%\n"
    }
   }
  },
  {
   "cell_type": "code",
   "execution_count": 123,
   "outputs": [
    {
     "name": "stdout",
     "output_type": "stream",
     "text": [
      "{11: ['44123', '302399', '375376', '140610', '374703', '111198', '257111', '432661', '114204', '63069', '165096', '33947', '250024', '330512', '315233', '25259', '331174', '407621', '263019', '112853', '383729', '13709', '336166', '143286', '387284', '290003', '370746', '34833', '11975', '426211', '373582', '88845', '456968', '14149', '507927', '73602', '91981', '175109', '390933', '193208', '83893', '243008', '259789', '303926', '410920', '446605', '32571', '74419', '308056', '78497', '111963', '361181', '302640', '356655', '53743', '57771', '420689', '74520', '50851', '176277', '266814', '27897', '189207', '138771', '279797', '177831', '32515', '256842', '95295', '383349', '109791', '332641', '116993', '173126', '187872', '177681', '249006', '314834', '283033', '117084', '49202', '284916', '247657', '313162', '424727', '227557', '431305', '263038', '439979', '443041', '241042', '258779', '66965', '200503', '109597', '503121', '290595', '401175', '169146', '282228', '316435', '248582', '504422', '196814', '153793', '36709', '158200', '410513', '191457', '82108', '157276', '28648', '176753', '8565', '300625', '45429', '65897', '102457', '476511', '7036', '449701', '405140', '42526', '360', '224714', '421620', '209347', '110941', '390645', '429589', '295611', '60877', '351891', '137873', '83572', '138305', '204963', '351642', '184280', '52100', '323574', '17782', '208078', '248015', '451177', '60476', '104632', '165769', '434085', '445456', '182234', '159843', '137263', '95284', '137031', '431954', '59257', '1075', '131027', '48378', '422595', '363299', '262605', '320218', '445628', '387882', '211279', '136589', '417786', '407145', '98988', '99034', '262188', '56366', '444125', '8765', '464745', '382880', '214206', '364032', '332582', '310605', '332822', '122527', '515641', '484413', '10869', '189860', '495331', '229779', '201338', '359664', '289766', '179690', '57408', '16407', '206824', '143396', '52089', '205831', '313058', '452758', '231928', '312998', '54945', '29618', '323013', '372807', '217210', '82678', '151210', '287887', '139971', '394247', '414491', '99649', '433349', '352200', '122070', '117238', '98530', '371606', '386601', '211473', '337971', '88060', '71804', '191965', '114023', '134026', '136364', '69389', '272841', '171041', '134263', '87226', '300644', '53757', '332540', '378226', '19664', '71975', '137727', '472794', '295769', '75835', '53445', '253666', '78195', '514138', '62530', '31730', '458694', '481770', '67252', '235218', '40045', '133992', '101752', '113176', '103408', '126610', '311511', '402757', '75066', '195954', '137902', '466342', '16209', '336795', '456864', '476209', '329752', '265167', '45455', '128604', '429328', '73743', '288266', '170339', '194571', '140498', '409348', '134260', '389964', '17602', '40888', '273470', '183829', '65802', '158312', '236879', '383588', '98007', '285076', '193649', '319720', '101036', '132678', '314281', '62166', '380695', '265953', '216859', '335134', '73335', '357845', '359086', '521815', '494677', '54383', '482954', '8444', '245634', '82339', '70274', '417510', '336955', '49511', '450542', '389504', '116299', '31049', '226959', '432667', '351403', '77152', '243335', '79461', '25396', '461136', '12548', '124256', '117192', '99986', '94410', '63564', '399381', '99073', '20482', '26378', '294898', '319962', '240', '19708', '356639', '449638', '316237', '211581', '288142', '497379', '336724', '238679', '391921', '93808', '169662', '138865', '425992', '315293', '229687', '334290', '335434', '221083', '68452', '465971', '48782', '253341', '467385', '161069', '315376', '330114', '125533', '66698', '95609', '279702', '203500', '277319', '74367', '136265', '23689', '296109', '148407', '141419', '283527', '59000', '467705', '357689', '352781', '152573', '364177', '159942', '90444', '239895', '93989', '168981', '139762', '205348', '91775', '161909', '70625', '19783', '199197', '483179', '127187', '118337', '345304', '404889', '4380', '259088', '286105', '81769', '506630', '395749', '337682', '283191', '107955', '437819', '104002', '326620', '410350', '366106', '196802', '392761', '373383', '144258', '369016', '455881', '127017', '51555', '449495', '401462', '443975', '65681', '219237', '385797', '27099', '457353', '104074', '61037', '122139', '416088', '484376', '118256', '235758', '42900', '14835', '38742', '47264', '413633', '467154', '380719', '180837', '54593', '62794', '291683', '447364', '253676', '115221', '127714', '85461', '13800', '58387', '197962', '195298', '180812', '8473', '77452', '154386', '30398', '140352', '312734', '241905', '64005', '30459', '125633', '119560', '292876', '105146', '147357', '384801', '484788', '95798', '460245', '31197', '36950', '204491', '266513', '326977', '266236', '278836', '104492', '256460', '154298', '146874', '142220', '64701', '167854', '191359', '304741', '280949', '230435', '24515', '475468', '251827', '123934', '257308', '197609', '317022', '81065', '64913', '360467', '58587', '329426', '191818', '388695', '263802', '341593', '424577', '95464', '63443', '200378', '98691', '401411', '13565', '325662', '11639', '413552', '340142', '432871', '221773', '194103', '41524', '109068', '439037', '228850', '448503', '392864', '251550', '453396', '133124', '25046', '136815', '12638', '381211', '178218', '117641', '189312', '289466', '59256', '414568', '152237', '98985', '328747', '85874', '198754', '44069', '276136', '88306', '12313', '114199', '308706', '327793', '635', '225660', '157901', '128964', '482034', '220329', '198071', '45709', '41681', '179663', '74703', '164245', '93048', '14637', '83885', '204958', '186466', '465453', '95569', '51801', '265632', '393637', '353660', '326058', '418258', '291158', '513160', '247728', '71154', '439316', '399482', '118383', '356320', '383670', '20176', '176482', '272854', '158353', '360031', '265578', '19070', '70263', '245850', '269030', '240127', '301905', '193972', '402061', '222739', '98061', '465388', '195998', '21197', '68566', '269340', '90804', '83484', '110848', '173635', '195881', '241196', '350933', '36806', '15250', '158322', '106677', '295675', '242821', '229455', '340197', '87801', '266070', '128167', '64704', '78216', '282901', '233781', '94555', '285641', '18201', '192825', '161798', '115713', '397621', '243947', '130768', '113657', '249646', '403928', '163713', '198730', '41295', '502882', '155815', '22240', '252028', '71358', '152368', '224084', '149818', '515670', '587', '244522', '129710', '343486', '65493', '279465', '90884', '86629', '387606', '312689', '298882', '165473', '446432', '460434', '171343', '54345', '30228', '439090', '262327', '243374', '476676', '292204', '238730', '237228', '15905', '85523', '156107', '207998', '278206', '259594', '102041', '363441', '146177', '423800', '80399', '154833', '257177', '134829', '425085', '98330', '209563', '219281', '325414', '325869', '102321', '57995', '68585', '424553', '84919', '57810', '393801', '278868', '65276', '86521', '212683', '68579', '114076', '296315', '70932', '274186', '40093', '201442', '406784', '71244', '186887', '177713', '364099', '170037', '462565', '503830', '327292', '226778', '220655', '68503', '30099', '217552', '137968', '136927', '148503', '99697', '307564', '364326', '70538', '248620', '318257', '109797', '450425', '174666', '180873', '143734', '39375', '372814', '319842', '240671', '56096', '368489', '33191', '177689', '210610', '405675', '95516', '361971', '370000', '122289', '155198', '195666', '64699', '183935', '158356', '461081', '176025', '53879', '187113', '449877', '34063', '85583', '232766', '139904', '48852', '446808', '367834', '84614', '133693', '32059', '482707', '192868', '53272', '47085', '429393', '248717', '423414', '190403', '483225', '469591', '231267', '285113', '294772', '396008', '153610', '95950', '470194', '6848', '239061', '238758', '32771', '509731', '426825', '443215', '132360', '313181', '131922', '58598', '141047', '222659', '207971', '480108', '75242', '358971', '486320', '16227', '79970', '30521', '138282', '210106', '105108', '140969', '61769', '158243', '390087', '52194', '340327', '124810', '197572', '79497', '102151', '506142', '209319', '214400', '58633', '504603', '190277', '419912', '196794', '229942', '484075', '111309', '335471', '254815', '519642', '465392', '230194', '270633', '457203', '473972', '189686', '51799', '17588', '211765', '190872', '472337', '343596', '227921', '186196', '278031', '426903', '147176', '384513', '103583', '387741', '123173', '217915', '369021', '126623', '38617', '482933', '441181', '49543', '110613', '42169', '409064', '106214', '313366', '333907', '324032', '90708', '171769', '256623', '60711', '221838', '495702', '399476', '171728', '218125', '313911', '119804', '194297', '191490', '74512', '382047', '164821', '337879', '76513', '488522', '242990', '34760', '73081', '208451', '235054', '344733', '186780', '102446', '103370', '457620', '318734', '289227', '308893', '246032', '427634', '135924', '21321', '221092', '138680', '4413', '212090', '140579', '125573', '338841', '97905', '62240', '89439', '505610', '251751', '51412', '97572', '298391', '323521', '203686', '104430', '86620', '381018', '327776', '90382', '259198', '358810', '154666', '288003', '142822', '241286', '6913', '226450', '513850', '404918', '394765', '84616', '348505', '61561', '169394', '74890', '24370', '58245', '274121', '56976', '384502', '363341', '227743', '322018', '213436', '12243', '299146', '241714', '200097', '327496', '190185', '146250', '57208', '169175', '149751', '423301', '73911', '82451', '189175', '399380', '256055', '479880', '235909', '333283', '464049', '329809', '79884', '104222', '316695', '455040', '323752', '272941', '295199', '216504', '104098', '418062', '190963', '133987', '294949', '349579', '400015', '17674', '472531', '336083', '359405', '153467', '131542', '139011', '304619', '320613', '364436', '131972', '337418', '290726', '236367', '69738', '12272', '104309', '39895', '220808', '15335', '245773', '265909', '203423', '397659', '4876', '16489', '147986', '135165', '48910', '466325', '324038', '425059', '512678', '230031', '199510', '160323', '291807', '244935', '308473', '355686', '172164', '208622', '403441', '26121', '23422', '250153', '143879', '438160', '329675', '6517', '43987', '92037', '72442', '166701', '25793', '2771', '30536', '264539', '328774', '374647', '159175', '457195', '52021', '338134', '17531', '214318', '227008', '285449', '468435', '315466', '280660', '337084', '115730', '435975', '188211', '287243', '387262', '232873', '448875', '311354', '145769', '85855', '142043', '356814', '398355', '500230', '209406', '223030', '36755', '364203', '108062', '284546', '375440', '54369', '504600', '102850', '272804', '328636', '233808', '76868', '182725', '261460', '109762', '386630', '298195', '163891', '337545', '254361', '327755', '138090', '121214', '304165', '10183', '31199', '147678', '297707', '177680', '125951', '135101', '140095', '412938', '358468', '138606', '39451', '159934', '244618', '306106', '77009', '144082', '308579', '206184', '382373', '483662', '497230', '19970', '465662', '89629', '269711', '518413', '127953', '58511', '410925', '427637', '463758', '12082', '141979', '256578', '205412', '255890', '53361', '377629', '265185', '14217', '319308', '380340', '37170', '231413', '67039', '228677', '92884', '436444', '45707', '363203', '435580', '246521', '93610', '386877', '98446', '176862', '149561', '156930', '157200', '111321', '185909', '88392', '272020', '252909', '255749', '250470', '206956', '25210', '236900', '255415', '170697', '16220', '286738', '125997', '313920', '20492', '63116', '533571', '120391', '140062', '304784', '288393', '52911', '37065', '14464', '237896', '445091', '294715', '418188', '202748', '231644', '50889', '369386', '263677', '1442', '22706', '116009', '115669', '83077', '121865', '206229', '297985', '104453', '112526', '429993', '453965', '253488', '360371', '391592', '315517', '136957', '330881', '82976', '45213', '68833', '249927', '303412', '290922', '68611', '72373', '355213', '140947', '19823', '150971', '59223', '217437', '72706', '266206', '43051', '370711', '59367', '19726', '88670', '123867', '22917', '56940', '223212', '114423', '50504', '12515', '224785', '354850', '332014', '25548', '18993', '427317', '495453', '258891', '286928', '294205', '42667', '148307', '210687', '157010', '25076', '451490', '252216', '124004', '316579', '379274', '74007', '323214', '143049', '412991', '15727', '124713', '56401', '241671', '123262', '463364', '12368', '38377', '498285', '107741', '294045', '87345', '426628', '153827', '170402', '139612', '338946', '106562', '74443', '10727', '145324', '42257', '387352', '113115', '343493', '360136', '39574', '122193', '428481', '177196', '422216', '388328', '380254', '246902', '26455', '483089', '533575', '117467', '239068', '13223', '430912', '8380', '338517', '118957', '345347', '172973', '338887', '172884', '447194', '477668', '399814', '302898', '62908', '216676', '186130', '266969', '327918', '197061', '384385', '240190', '411899', '311712', '331868', '430600', '228787', '392943', '319963', '107464', '75297', '57880', '143514', '34490', '234274', '45048', '466372', '174710', '115543', '61120', '425657', '356210', '90470', '449461', '19742', '63196', '58885', '175611', '161570', '450834', '359163', '236922', '186055', '402725', '43762', '318156', '330652', '290592', '182231', '155945', '381243', '410359', '17398', '456655', '380018', '76305', '327941', '393496', '343409', '276426', '512345', '253499', '219606', '389129', '300638', '197712', '92298', '40178', '310364', '153538', '145623', '386521', '86534', '375841', '284885', '43901', '230521', '327887', '282197', '301665', '62204', '260298', '23627', '161808', '137874', '18691', '110022', '160743', '288686', '306155', '100908', '321751', '203279', '186180', '108311', '173638', '66409', '34316', '127458', '33888', '178492', '19593', '221913', '188615', '34372', '91817', '536212', '346491', '107029', '336205', '330891', '144789', '113428', '422858', '189781', '410916', '26941', '241903', '70758', '417170', '246783', '21999', '123132', '191064', '83890', '454850', '335763', '30602', '52944', '239800', '322829', '171466', '177786', '121412', '35619', '133407', '82276', '333110', '74951', '503754', '81102', '145441', '362505', '167488', '518980', '415308', '172810', '289075', '182403', '28818', '180161', '39137', '413952', '463832', '300503', '16591', '488873', '71036', '71626', '416438', '113424', '202352', '149534', '351214', '406060', '421930', '467750', '426148', '355732', '271659', '438227', '486966', '64785', '488899', '80968', '491020', '459212', '477534', '358912', '301761', '346405', '414324', '101120', '90326', '44977', '160318', '291109', '463321', '49394', '427735', '104902', '482313', '467557', '36914', '24293', '120331', '405928', '113034', '188316', '181091', '326397', '294752', '28500', '280743', '122546', '276297', '10006', '265340', '475559', '375216', '324611', '330964', '105772', '130601', '254135', '39914', '34510', '162779', '175069', '343368', '312871', '178438', '458666', '16135', '373996', '520410', '373812', '67617', '302476', '215705', '14895', '284767', '257181', '84587', '104934', '337991', '61420', '23552', '241779', '208270', '35615', '231378', '465465', '208382', '218503', '255261', '338522', '172477', '170179', '219324', '102172', '388206', '285688', '452150', '224817', '111712', '223204', '225997', '52588', '24616', '483594', '371798', '280309', '92781', '95633', '88775', '483174', '229306', '168025', '105889', '316075', '210428', '497537', '393898', '204483', '88462', '376541', '281522', '136378', '267386', '378913', '55222', '440998', '45502', '74082', '92964', '327382', '386436', '50719', '15345', '55918', '76491', '287813', '271426', '139317', '261747', '421543', '172692', '367603', '155104', '135639', '132704', '389577', '69250', '410949', '333880', '391593', '391362', '213943', '277843', '230876', '375749', '213657', '498203', '288603', '389420', '438091', '197474', '374036', '323697', '323737', '213662', '49061', '101447', '343192', '192179', '85227', '350141', '86378', '136038', '73452', '58976', '256914', '48452', '20843', '86701', '245778', '383180', '202923', '271321', '190643', '218947', '458584', '61753', '356603', '410256', '217959', '54984', '227511', '533923', '356614', '257376', '324172', '88410', '18078', '234216', '188692', '43410', '137398', '90947', '254761', '433392', '443686', '384875', '302367', '202719', '167637', '380398', '468127', '180004', '279773', '149098', '340761', '102177', '171080', '90423', '234369', '114670', '174570', '333216', '173200', '369125', '147372', '391244', '88642', '413301', '150444', '67676', '316763', '167202', '390444', '125438', '141506', '86712', '179328', '88667', '278787', '373788', '284640', '283845', '280369', '260027', '34398', '50423', '65459', '358565', '398858', '96177', '368300', '336202', '317876', '207112', '41223', '418170', '72585', '117548', '272064', '161739', '242491', '16692', '72480', '247936', '210213', '293168', '98761', '361100', '225213', '101967', '136291', '279520', '12141', '22104', '494369', '77903', '47237', '28558', '90248', '350901', '175785', '326251', '228914', '185321', '425601', '90005', '258100', '120742', '181477', '91407', '80067', '36349', '71450'], 3: ['67664', '118843', '147477', '367987', '216068', '375362', '367828', '286484', '27060', '121712', '53353', '291409', '160494', '505748', '137187', '111559', '23613', '317681', '223242', '504956', '63907', '246579', '366021', '354751', '460069', '373269', '189127', '240135', '4205', '243909', '202414', '117542', '39189', '314777', '316673', '477848', '256689', '197284', '279302', '245792', '464367', '188540', '125915', '85354', '88978', '264064', '160902', '5197', '227191', '147791', '411505', '79749', '334186', '374277', '355173', '230530', '275663', '272034', '89021', '61297', '260930', '326743', '209058', '154255', '66022', '277459', '288624', '356161', '424837', '174273', '174274', '380641', '7841', '467378', '69539', '176085', '476635', '471921', '187347', '285826', '304396', '480525', '158999', '209879', '484256', '87155', '92096', '174425', '199548', '417578', '326076', '173235', '109866', '425400', '316766', '397529', '273854', '429284', '405042', '256036', '48279', '2866', '247330', '117230', '24572', '156441', '140648', '5006', '61779', '7397', '286813', '195336', '514820', '89453', '228169', '35199', '109267', '347092', '374964', '369209', '184910', '349456', '12276', '142258', '420640', '175723', '391030', '253665', '211806', '128013', '62902', '37056', '420610', '105811', '134206', '360201', '175958', '219761', '375050', '10005', '102185', '79233', '40999', '102815', '36315', '241052', '171380', '304615', '376363', '239498', '384789', '255144', '188823', '109123', '249336', '36256', '445597', '27928', '248337', '57924', '396461', '245066', '184921', '101968', '9177', '114588', '182723', '66', '41090', '294082', '33847', '15601', '470641', '24970', '169574', '364945', '166022', '402871', '281101', '386195', '259627', '237000', '317938', '132359', '176027', '460892', '50307', '139049', '59614', '65204', '49602', '118248', '454111', '93449', '77702', '19529', '28365', '88938', '42750', '265432', '94269', '114168', '239613', '462875', '45008', '253526', '183133', '210321', '220537', '201591', '44289', '308163', '77413', '288410', '50676', '276622', '175364', '430486', '288565', '430334', '322729', '293134', '34557', '208675', '284296', '331627', '54269', '159961', '256026', '36754', '475008', '149217', '233189', '171391', '231995', '72895', '52665', '426504', '21618', '504766', '232770', '36744', '395838', '44935', '9520', '245728', '292945', '266082', '202021', '81937', '264214', '167917', '95453', '481894', '48463', '221387', '501188', '417004', '361978', '108471', '329624', '351829', '26732', '90567', '109718', '81360', '233314', '265442', '255511', '143616', '445132', '259382', '308140', '232848', '213506', '21024', '124189', '206981', '192281', '383870', '205779', '195066', '276832', '383058', '87903', '140586', '411250', '150642', '123889', '262070', '214040', '138972', '172858', '304092', '152781', '193704', '231367', '361143', '135753', '337857', '121019', '471606', '326554', '439418', '333403', '307608', '62236', '308156', '376022', '211242', '459764', '53633', '288854', '407907', '30215', '129533', '171832', '200577', '194278', '241058', '264043', '301544', '504480', '65994', '47251', '464145', '279904', '147397', '67660', '284495', '77640', '311758', '379059', '8791', '44124', '424128', '395533', '315822', '322924', '258307', '383', '263381', '505534', '188719', '228995', '302151', '129063', '99843', '152327', '130012', '400873', '391413', '48799', '44205', '394897', '397330', '504718', '268671', '139619', '427081', '456796', '24415', '39025', '229012', '358188', '222037', '75988', '94042', '467299', '198950', '171610', '307217', '87049', '383412', '136659', '110178', '389682', '126995', '381946', '222156', '223303', '72474', '56009', '27678', '13890', '87521', '234891', '309276', '397772', '291170', '126969', '108030', '305214', '419219', '216112', '324738', '99278', '401574', '190948', '438046', '26216', '149282', '481317', '50988', '386538', '69162', '415829', '182648', '113333', '282711', '236730', '408771', '209891', '220661', '73263', '42719', '147952', '211383', '191538', '75800', '184846', '43677', '351219', '124818', '474848', '95575', '218664', '281936', '79626', '2405', '460436', '79074', '54517', '172798', '280812', '193078', '318829', '7542', '4098', '427790', '420194', '110483', '315107', '22097', '422820', '455496', '143816', '458710', '489800', '153952', '304991', '126423', '175149', '32931', '243370', '4724', '154685', '20305', '153979', '142655', '114766', '222979', '191772', '103837', '161408', '244211', '106992', '49896', '281673', '44241', '108527', '109318', '107068', '51774', '89071', '421884', '140482', '24105', '280219', '485745', '130687', '44794', '3158', '137667', '258464', '306454', '402469', '181201', '274976', '48133', '52141', '116244', '355982', '294442', '184443', '405195', '123476', '418909', '320502', '48364', '115289', '318927', '50927', '314819', '312034', '145824', '424920', '45550', '127354', '245080', '428549', '374760', '229508', '32286', '154179', '339046', '217162', '10853', '34744', '437654', '295426', '269910', '143925', '267369', '266884', '226159', '106565', '26198', '444430', '475719', '290479', '27609', '481325', '362641', '199216', '298851', '273863', '17088', '39224', '261183', '470964', '501007', '82277', '386816', '138224', '70655', '294154', '307405', '110923', '195387', '68038', '166735', '52572', '3271', '252928', '273190', '121235', '458915', '377978', '341808', '278998', '25290', '317066', '230532', '52236', '59364', '364643', '189329', '11941', '35105', '49295', '135084', '224097', '23439', '472571', '277781', '442235', '364168', '253229', '281726', '254508', '120679', '156169', '60624', '65206', '101117', '508443', '502613', '423992', '114821', '220267', '191758', '164212', '260668', '443461', '342762', '422601', '24906', '35399', '16559', '125183', '138050', '209310', '222839', '20365', '428768', '41202', '87905', '204740', '228455', '206762', '87174', '319012', '107387', '70096', '194647', '22728', '401110', '143873', '252076', '171543', '241651', '53092', '279981', '159409', '104368', '129894', '462145', '208328', '262408', '440371', '463903', '365943', '360644', '168136', '52953', '36409', '232119', '513886', '120400', '182477', '66258', '227485', '389738', '28140', '311141', '92803', '330156', '146979', '51265', '492483', '74977', '368078', '487741', '347763', '295104', '273841', '121415', '107886', '7786', '105296', '100955', '267105', '88138', '68336', '81765', '5245', '427563', '166274', '98358', '444483', '361116', '6665', '186674', '322972', '317323', '257905', '139032', '49206', '60853', '186204', '49197', '67741', '30726', '134534', '136483', '232859', '79003', '365796', '105671', '426851', '34837', '216028', '451071', '100733', '1878', '442923', '330865', '459458', '83222', '61610', '291695', '83498', '293002', '45804', '323547', '82770', '307634', '437982', '40209', '315908', '41337', '97765', '60689', '368871', '387932', '51126', '111982', '376642', '500258', '390218', '341514', '238867', '238865', '75883', '73201', '203480', '321787', '199634', '151574', '345459', '204187', '89207', '213600', '214123', '215653', '393666', '470687', '144869', '317656', '171514', '436682', '98626', '39497', '419326', '102812', '384077', '369967', '270295', '5454', '154362', '40125', '44742', '171898', '40972', '239993', '370779', '243071', '1590', '70146', '55669', '65804', '340485', '91419', '216061', '271384', '184139', '322902', '477707', '97921', '93339', '213975', '54245', '473508', '274329', '123922', '126570', '511787', '480482', '319060', '228449', '395265', '65193', '286380', '109146', '359626', '317408', '52276', '335978', '37989', '277194', '21835', '31259', '4530', '99643', '486171', '504548', '87265', '109978', '95907', '253661', '122725', '196443', '64632', '408025', '239942', '267637', '52732', '139129', '375148', '28732', '249800', '168223', '69205', '235769', '188336', '337526', '12469', '494131', '251980', '251057', '100568', '37252', '53503', '443050', '89074', '68320', '171731', '205429', '209666', '293373', '154514', '427706', '157542', '429438', '427892', '452871', '84465', '272286', '277390', '107044', '145220', '292631', '28297', '199757', '125021', '113971', '460107', '108784', '232506', '232903', '188060', '327788', '57733', '293675', '466197', '471153', '314012', '175181', '204913', '226456', '221102', '213421', '170147', '278872', '418875', '134234', '346757', '267755', '258852', '136079', '37897', '112866', '100388', '110818', '243900', '221120', '415599', '483719', '65591', '493140', '48851', '293318', '302769', '35721', '225006', '155847', '146601', '323886', '186480', '50692', '445457', '342163', '396360', '34277', '19298', '67113', '163847', '177127', '234962', '470504', '386886', '378972', '232162', '259779', '464622', '223798', '131122', '280367', '372130', '214134', '118438', '55034', '327903', '51879', '216412', '80860', '69706', '15616', '213529', '332766', '156322', '99876', '179248', '119828', '271016', '300803', '140092', '298675', '225681', '105170', '191949', '397218', '309496', '394908', '10698', '153785', '235279', '337017', '348292', '231059', '314337', '152733', '224730', '172543', '121245', '353331', '330263', '410880', '79834', '12561', '46901', '57968', '41238', '227007', '17920', '168181', '32846', '435537', '54570', '26650', '169948', '100227', '73233', '149843', '101781', '211220', '321853', '26039', '309958', '262625', '340608', '263600', '199859', '401488', '321124', '187765', '301070', '286635', '306851', '347526', '458903', '56149', '288279', '330564', '363391', '333688', '325742', '3620', '179001', '410078', '415249', '47603', '441070', '178573', '178445', '188705', '62705', '366852', '21905', '359420', '83441', '16278', '114495', '494433', '226895', '92010', '93133', '308433', '288082', '423136', '13882', '301500', '100857', '108161', '250119', '128252', '205280', '359141', '192646', '130629', '256675', '372774', '188648', '320501', '141730', '82916', '210200', '120949', '306275', '79189', '50951', '285731', '304014', '368608', '369892', '457487', '370497', '236576', '468254', '477477', '63890', '53849', '316029', '50501', '109516', '105387', '270664', '42846', '292436', '127749', '287685', '42281', '441096', '81549', '241220', '24820', '189562', '403404', '270576', '220292', '78095', '317670', '72994', '236129', '40923', '26819', '157071', '98809', '327391', '253201', '69365', '431047', '175508', '105745', '87195', '85199', '384204', '322111', '394519', '94997', '27321', '111928', '480183', '415834', '277077', '272039', '125841', '440684', '471959', '178809', '335168', '350552', '17560', '38443', '128814', '118085', '217981', '93946', '241558', '12000', '98296', '71351', '321075', '151524', '32394', '82731', '355161', '266147', '511827', '191119', '454025', '302912', '358765', '145067', '259640', '139500', '286654', '184011', '427339', '97070', '131693', '481901', '295885', '226271', '246733', '258917', '40058', '280805', '47015', '146290', '128594', '254294', '60003', '133013', '224096', '410657', '379394', '118226', '132991', '320540', '396506', '68634', '85308', '413437', '51249', '290437', '379813', '204100', '59249', '246588', '314677', '132347', '164425', '251753', '107465', '379033', '63901', '216155', '207278', '263745', '454114', '284302', '295226', '175792', '313991', '290513', '252440', '364211', '98356', '17971', '96256', '263563', '95238', '333028', '400953', '93439', '177649', '17326', '399376', '264554', '32789', '262144', '166819', '222022', '60810', '459984', '374980', '458411', '182730', '258308', '112040', '454995', '292392', '222211', '271738', '231444', '368906', '445814', '323240', '287053', '334409', '96061', '35993', '69867', '102028', '454080', '43431', '117434', '189003', '176624', '314335', '27595', '472687', '86959', '242983', '1129', '483826', '136299', '29690', '425778', '149837', '154215', '21091', '209952', '104724', '221105', '125863', '290012', '108923', '77087', '176432', '196786', '29105', '248852', '154827', '332787', '10876', '37296', '29462', '26405', '121956', '156394', '65611', '302638', '391027', '104727', '313153', '71643', '31608', '96181', '407912', '259363', '265904', '122239', '49883', '188306', '74359', '402059', '216894', '294985', '479060', '69693', '185141', '71090', '224112', '368627', '115559', '123157', '343340', '264022', '354290', '76522', '423451', '33930', '424013', '384786', '413521', '137896', '294736', '259319', '66842', '202642', '179191', '293804', '200793', '128636', '70819', '221261', '144139', '319897', '101334', '99587', '42038', '17278', '302547', '66352', '146609', '34443', '214672', '329503', '28633', '257094', '281213', '139201', '180164', '241348', '300565', '474690', '230776', '378033', '145160', '105976', '270263', '24735', '37550', '280807', '38426', '73658', '110422', '252296', '251306', '341677', '146824', '403051', '167546', '76693', '221717', '194279', '96976', '77989', '234529', '92363', '11952', '338824', '122066', '193390', '331038', '17418', '202576', '10597', '299977', '400154', '439968', '29721', '351734', '233507', '480229', '13489', '198618', '318635', '34130', '27443', '131109', '289291', '372105', '305534', '297455', '188631', '259616', '196299', '125967', '321775', '486800', '51688', '216892', '343107', '242033', '82226', '218211', '68410', '267765', '163146', '387339', '465234', '37688', '390619', '135660', '294893', '239459', '367416', '407449', '345941', '502983', '98219', '126729', '219503', '386341', '390531', '315737', '459490', '26078', '461568', '237613', '280815', '281281', '228762', '229531', '206317', '131623', '208757', '314744', '296837', '203131', '195820', '123835', '331394', '55535', '75064', '213746', '168557', '332444', '100062', '210807', '301888', '258352', '398336', '313528', '215409', '221764', '173961', '124377', '84239', '71400', '63973', '221263', '414348', '109436', '171091', '200350', '498523', '518670', '343767', '207159', '402257', '57980', '41095', '320622'], 5: ['38798', '69190', '125195', '306590', '77380', '378067', '218671', '453243', '101260', '416599', '274469', '79826', '234120', '394191', '448832', '15541', '21629', '50854', '486851', '298089', '149966', '22567', '446600', '243425', '14873', '377658', '392262', '21360', '300355', '398090', '25020', '320973', '493636', '301164', '301365', '21302', '425294', '181765', '462351', '123758', '238000', '186631', '379357', '383147', '160696', '15086', '335876', '15869', '12441', '190394', '49648', '248926', '180696', '357968', '32550', '179128', '407377', '37152', '40858', '247103', '123753', '187678', '65729', '25947', '343461', '293713', '434512', '39398', '246286', '168017', '130409', '213724', '94187', '154964', '382269', '55718', '484942', '171628', '40478', '378468', '449725', '521251', '203930', '87202', '22949', '95211', '176730', '493256', '206772', '425118', '88039', '480684', '406507', '431875', '233971', '136720', '479203', '43123', '175009', '313101', '80418', '428016', '359058', '387542', '372621', '471259', '210250', '160251', '222066', '35874', '210978', '290294', '390089', '93775', '235297', '319864', '378143', '276454', '364119', '301593', '327398', '303491', '183673', '383425', '127099', '302737', '24950', '79633', '289255', '263232', '340656', '11382', '41474', '133631', '47444', '169147', '303938', '392356', '84822', '81021', '468398', '34244', '427745', '2056', '189716', '169364', '456051', '211299', '504083', '108227', '194303', '59727', '18324', '39059', '39370', '114011', '70115', '102171', '477587', '148365', '29731', '412061', '471658', '220408', '336690', '313351', '442276', '49860', '249976', '53204', '422466', '14228', '393533', '372390', '352', '9978', '204780', '399315', '97494', '396396', '201463', '31446', '381746', '43452', '96127', '34484', '141421', '167513', '160570', '62193', '111535', '185611', '30118', '218674', '25415', '245022', '11705', '484315', '436590', '122887', '266316', '276874', '38672', '356742', '256822', '248007', '53404', '206266', '138017', '8151', '111477', '202413', '204578', '151739', '416979', '55095', '398304', '56761', '223621', '424513', '316232', '321147', '30773', '77965', '441933', '155998', '152411', '178954', '286110', '163014', '64820', '424632', '455376', '272413', '17853', '131261', '374312', '156332', '412992', '516952', '236834', '95122', '59407', '323195', '205758', '453425', '107308', '177386', '157807', '299478', '62303', '379482', '167118', '21131', '147564', '164317', '312054', '306629', '181596', '216365', '245744', '353181', '104062', '107515', '91164', '299149', '269705', '83141', '160147', '235666', '300279', '54526', '396623', '113229', '168737', '109801', '287331', '251821', '176875', '379044', '413270', '151163', '322599', '48492', '229065', '220558', '434495', '124388', '150028', '136466', '24039', '47755', '22850', '84707', '57051', '152029', '340432', '167906', '465121', '146942', '151072', '272456', '339569', '47064', '87147', '170929', '40279', '216575', '317072', '92022', '23696', '128588', '88503', '397154', '192293', '130178', '503295', '213941', '249499', '374643', '153569', '452256', '307684', '479461', '373728', '373369', '111469', '466159', '208099', '522311', '39718', '211648', '60741', '357041', '351913', '318807', '159378', '176306', '324740', '287380', '258985', '255327', '177600', '340941', '93557', '469055', '318295', '383502', '169856', '27978', '35668', '87548', '178603', '434140', '185025', '338767', '333243', '433836', '225056', '128440', '79414', '281473', '372858', '146481', '60846', '503298', '149176', '316299', '272468', '433417', '164660', '415430', '24911', '138971', '263659', '225717', '189741', '110805', '24740', '286991', '208798', '179280', '44507', '33284', '20587', '334927', '45180', '29028', '83526', '161799', '259941', '11717', '227387', '51530', '458158', '55512', '43136', '199785', '393609', '20513', '371990', '420713', '462621', '25516', '291577', '197686', '279967', '205915', '217854', '77804', '341952', '232842', '233475', '215887', '336463', '257014', '253885', '122758', '220645', '23380', '224221', '186687', '103259', '161118', '144042', '326296', '196763', '147095', '222106', '500819', '24094', '102591', '369110', '82503', '333820', '471484', '287544', '21224', '223680', '19518', '154254', '12782', '24306', '428423', '93442', '191561', '460231', '332056', '445244', '498562', '56830', '92973', '166896', '137839', '187987', '302923', '410719', '300958', '508714', '91887', '98566', '18070', '456782', '249684', '57056', '336796', '37968', '18540', '252134', '189788', '259191', '193877', '257319', '417848', '374107', '12830', '319477', '244483', '190935', '119055', '367592', '367004', '98037', '121306', '166556', '35038', '89081', '85678', '264143', '214639', '10932', '43905', '406062', '50596', '71896', '54615', '387', '91925', '321256', '154820', '245671', '82646', '36890', '251093', '389592', '115057', '71620', '47548', '347833', '218616', '65951', '318336', '282490', '42453', '217173', '241809', '275739', '120981', '167295', '16380', '13177', '342759', '76215', '489962', '80419', '27426', '350099', '328556', '464587', '379355', '517878', '195442', '399702', '226274', '50125', '449302', '333246', '24565', '263709', '167608', '218924', '38319', '56922', '11879', '315921', '330463', '15003', '152660', '152300', '89769', '367184', '72844', '247306', '160210', '61461', '43824', '165312', '50103', '157952', '205230', '163967', '276764', '172219', '28225', '278847', '68197', '33886', '315377', '68599', '148409', '467039', '248077', '67017', '340895', '246308', '153948', '133320', '422172', '202461', '442463', '22201', '216322', '112187', '166560', '57908', '234444', '393286', '15148', '39173', '49125', '23264', '50718', '304402', '261047', '479380', '243871', '489959', '227753', '17118', '200872', '413711', '236579', '141636', '27063', '174857', '255425', '75621', '17941', '55739', '58286', '104165', '280223', '29268', '100967', '203153', '47662', '263453', '342357', '78788', '104422', '211829', '190910', '171137', '140056', '232399', '118116', '192019', '48067', '85042', '238050', '425183', '281075', '349166', '225164', '34903', '70180', '242700', '189802', '83609', '66060', '113385', '84997', '262889', '11407', '236365', '199138', '104070', '298696', '46116', '204569', '127128', '145779', '362346', '173869', '415808', '56805', '250840', '4691', '225239', '221324', '443943', '468228', '28111', '154562', '119357', '366688', '248771', '222435', '39734', '458326', '89272', '301754', '473459', '279757', '322948', '151483', '76994', '98305', '240443', '198521', '150399', '125971', '363286', '244608', '16531', '15836', '32958', '520656', '283945', '188462', '252852', '218489', '99588', '517313', '24420', '17131', '118018', '311307', '264739', '101516', '289922', '179826', '324212', '360132', '444593', '509140', '263253', '345915', '112451', '8928', '14293', '369453', '220520', '319044', '506665', '18964', '516384', '391104', '97401', '355495', '33715', '68218', '250053', '377646', '324518', '353741', '26461', '116144', '36488', '47427', '264517', '82179', '119848', '68450', '330915', '144541', '461205', '271297', '64209', '297222', '268200', '91977', '153730', '328567', '304340', '136123', '32576', '12845', '458528', '166290', '240321', '102916', '453488', '471226', '111925', '57763', '109091', '120015', '34194', '98680', '392727', '411844', '508912', '278429', '199778', '296783', '193559', '438608', '277747', '272778', '230379', '1662', '114409', '118197', '25034', '219867', '313604', '453561', '317638', '485836', '21166', '213980', '69809', '90692', '64771', '84749', '511805', '449347', '225670', '33571', '15075', '301204', '214987', '242396', '88338', '384272', '469496', '259008', '51382', '243222', '227787', '104012', '469036', '51055', '375848', '364626', '148188', '428818', '112277', '173481', '125586', '95891', '76038', '106157', '109834', '117657', '63088', '487501', '360431', '214234', '133150', '229852', '139603', '85805', '471535', '41938', '194464', '80390', '311584', '472454', '280393', '164545', '413510', '219159', '265318', '32684', '56765', '165311', '395880', '260053', '65816', '424437', '174932', '297901', '172801', '281920', '10487', '217013', '187834', '391101', '98511', '142981', '328837', '127038', '73495', '92048', '324561', '373426', '266239', '85323', '32544', '30234', '258312', '162919', '185525', '83030', '79865', '192848', '45584', '305020', '221832', '44199', '54000', '412915', '367624', '14533', '71265', '357274', '498083', '289675', '13610', '172536', '102851', '144185', '269710', '306248', '415398', '276549', '36200', '71653', '93900', '239976', '376802', '87955', '492243', '7120', '472497', '469380', '173552', '286405', '25157', '280107', '383346', '37439', '204142', '124671', '362090', '229483', '436329', '115446', '68451', '429138', '32586', '424386', '489589', '489590', '125535', '310637', '528002', '294059', '174337', '51862', '368762', '135339', '119969', '116953', '176150', '171485', '328711', '45992', '132476', '396259', '400271', '318572', '376910', '165014', '424023', '254718', '38435', '69526', '101953', '69499', '130559', '347911', '206086', '29365', '19009', '279696', '93124', '161055', '338489', '27889', '284450', '363059', '320664', '481925', '297988', '179605', '461329', '25060', '19544', '41599', '224458', '415374', '31987', '20551', '73003', '314112', '287041', '31003', '138105', '122884', '285984', '22088', '177230', '324237', '160507', '33260', '243612', '242235', '183232', '85884', '145126', '38913', '497505', '349190', '203507', '367134', '354311', '129997', '263203', '295376', '325321', '362842', '353899', '218701', '373358', '340411', '493838', '1975', '219027', '204930', '306031', '284452', '213489', '63560', '223779', '51058', '226286', '281030', '74060', '103273', '17989', '81060', '174859', '286288', '61277', '306090', '187052', '110847', '71528', '149360', '126458', '39317', '23229', '86030', '286498', '22870', '17846', '96641', '271379', '234944', '158363', '397117', '29179', '236178', '306224', '283108', '115132', '164066', '33927', '239521', '362450', '365972', '120815', '426944', '173417', '188551', '232556', '123851', '326294', '356401', '38762', '177314', '59023', '69849', '401892', '334664', '129011', '191547', '76026', '111303', '386401', '239592', '21220', '226478', '361021', '171126', '427761', '360543', '9454', '192730', '129146', '216634', '21793', '172720', '59839', '41231', '375522', '57346', '188845', '1630', '18935', '99750', '236944', '93078', '21750', '311280', '137515', '119540', '192207', '337490', '21717', '482082', '254185', '33103', '321597', '127670', '505179', '363298', '432285', '150497', '319063', '304423', '20721', '61345', '245510', '97739', '155327', '71927', '392146', '202744', '64994', '341893', '234649', '473821', '93244', '42247', '236259', '427603', '21760', '291096', '75692', '425466', '376622', '58713', '417530', '295096', '229742', '76979', '159994', '174155', '290376', '295541', '100501', '65783', '80301', '347991', '475201', '97368', '112581', '104539', '394067', '387420', '354318', '408855', '71439', '310629', '134466', '17874', '218617', '397629', '246947', '237302', '502950', '272293', '78833', '468818', '88632', '60030', '321026', '26773', '173646', '44950', '480075', '89217', '302631', '286157', '463852', '32232', '241506', '116906', '456111', '384517', '179889', '29636', '198790', '277181', '54852', '216688', '216194', '457550', '109570', '409899', '52634', '169400', '288062', '21542', '497443', '406586', '224199', '290755', '150320', '190466', '246888', '138699', '12839', '91780', '131107', '114565', '349301', '211823', '1660', '197963', '264560', '136774', '239724', '97213', '262832', '95953', '197843', '243869', '300782', '105930', '59929', '54352', '297370', '179207', '267776', '150141', '276068', '93848', '366922', '334156', '256298', '396475', '44575', '302812', '477147', '489946', '298369', '178493', '51468', '50128', '48651', '87541', '337210', '330161', '148982', '23375', '118819', '249878', '108384', '285261', '97601', '68644', '241336', '29609', '34667', '243510', '156392', '370765', '144371', '256760', '350157', '52706', '45735', '65582', '290645', '84807', '423151', '47666', '374627', '245226', '108930', '72398', '399580', '75774', '124747', '86683', '475007', '65252', '163304', '410273', '284269', '173648', '468849', '142201', '16961', '391280', '193955', '58793', '106832', '182125', '367051', '140516', '428324', '193088', '201257', '357470', '361865', '134693', '167508', '358871', '55506', '182140', '80703', '113423', '308905', '241095', '368157', '480635', '254624', '279980', '68642', '325863', '157478', '520673', '262526', '376854', '41860', '385889', '467187', '113311', '162106', '481365', '415803', '133912', '449515', '472234', '498944', '47982', '222275', '75577', '225390', '199090', '171663', '110749', '422168', '454154', '154886', '177908', '108412', '315546', '410749', '136566', '332901', '231028', '349952', '244201', '51927', '256148', '104845', '272669', '408836', '199850', '221301', '50375', '94338', '232609', '390731', '60502', '506326', '25769', '361115', '289786', '405690', '372551', '290436', '251962', '27699', '91568', '208055', '401824', '199555', '137962', '309754', '467868', '460133', '499599', '128109', '188162', '61425', '332827', '43939', '173837', '217774', '147831', '24217', '260692', '119106', '79192', '317067', '417411', '392188', '356631', '421539', '131024', '217122', '48446', '81352', '57820', '391506', '321000', '109811', '455083', '170286', '107437', '221754', '54310', '298263', '435039', '264216', '154567', '11170', '251152', '270991', '318596', '298009', '383403', '142504', '390169', '94211', '293528', '316152', '157235', '202679', '236510', '270510', '214907', '322116', '201026', '197582', '289860', '106108', '90937', '391186', '2386', '445739', '112912', '324109', '184294', '176926', '176290', '30079', '382819', '368035', '358163', '226606', '218137', '103399', '125590', '340565', '50271', '200559', '101862', '360259', '26222', '310687', '48198', '241620', '341573', '491878', '23083', '42137', '496257', '188222', '414808', '475667', '419630', '363283', '114359', '49652', '368462', '60285', '294547', '343361', '52869', '29315', '321182', '24124', '81445', '463773', '66989', '22847', '193340', '247469', '195504', '27947', '464019', '216084', '209035', '189148', '61479', '220747', '174164', '386251', '385101', '339134', '120602', '420010', '413122', '209791', '290471', '251138', '458644', '234975', '174157', '446578', '373071', '223269', '220175', '231922', '378876', '295737', '159427', '258029', '286041', '372270', '28387', '35084', '3731', '175841', '274896', '390811', '40109', '139921', '207036', '426647', '365348', '37660', '275279', '32176', '33268', '27741', '380183', '286053', '246547', '60551', '2519', '158332', '332586', '393143', '154587', '102618', '32142', '155108', '245025', '336523', '428110', '67709', '170241', '153967', '428715', '281129', '76429', '377405', '305140', '115239', '11006', '20359', '11914', '339704', '107418', '127906', '388107', '26598', '34024', '326264', '350622', '17620', '162661', '161620', '106898', '305659', '334426', '181857', '212671', '455578', '327006', '428023', '170296', '394713', '177576', '53807', '283723', '458545', '423115', '181072', '302861', '16598', '279864', '169855', '153847', '472158', '148255', '263548', '279896', '219907', '445590', '433706', '185188', '69537', '223029', '101424', '206854', '317186', '245811', '478156', '366589', '123782', '441063', '204341', '173178', '310071', '19132', '158331', '240184', '203021', '7850', '363102', '43946', '272809', '165155', '216167', '261462', '253476', '181375', '115375', '16971', '385996', '94963', '293960', '2804', '385475', '60464', '43440', '206958', '108055', '408019', '350787', '161466', '210107', '132831', '352187', '240333', '334895', '79707', '418761', '18337', '25453', '99869', '108598', '86946', '213985', '87786', '56811', '218306', '301537', '444807', '248323', '75646', '345232', '34327', '460690', '450373', '314985', '24878', '203322', '399575', '165815', '211776', '84141', '12954', '138197', '97996', '161264', '125625', '501348', '290119', '121858', '279777', '57813', '162609', '457976', '185856', '292628', '163977', '427667', '118513', '369688', '465992', '288570', '163456', '210246', '372731', '338179', '166772', '80679', '379621', '304558', '11702', '312160', '467922', '367939', '196175', '117250', '160538', '184432', '171378', '20749', '7974', '86359', '10975', '9728', '89909', '195505', '183073', '260966', '90887', '26764', '188204', '95353', '217554', '223934', '324713', '332398', '380069', '105808', '479419', '303895', '72478', '370470', '294822', '192870', '205778', '22843', '143922', '246264', '129454', '65677', '40811', '135437', '242871', '261611', '201866', '272332', '105193', '21349', '97786', '171892', '309104', '131497', '441587', '85687', '288165', '66019', '191501', '352144', '196200', '116927', '217583', '361792', '11315', '322546', '467097', '157430', '423165', '221433', '246011', '179608', '31698', '44253', '215605', '135505', '94659', '16389', '219008', '364299', '281209', '129588', '85195', '321271', '398894', '193357', '98317', '325943', '354569', '203386', '291698', '34628', '223783', '194960', '24499', '364017', '144670', '74878', '138436', '456546', '137188', '474429', '76546', '338055', '154757', '193583', '308106', '191839', '68202', '509423', '398210', '518221', '130300', '53730', '152218', '260073', '195444', '60425', '94265', '91021', '407694', '215698', '18584', '249148', '405561', '125061', '44998', '299476', '245415', '418697', '143203', '78011', '258520', '260295', '254774', '374887', '243642', '123528', '96117', '9347', '408712', '486300', '129359', '501927', '42296', '50681', '56223', '406018', '476829', '204646', '433993', '165017', '301741', '362382', '262967', '307164', '142062', '240093', '321805', '62820', '423824', '284049', '204553', '89652', '435577', '34756', '99261', '92548', '18139', '182447', '30213', '266176', '329106', '422363', '317026', '241464', '61088', '127780', '48640', '345103', '80170', '475663', '175653', '325717', '418616', '97514', '18944', '13088', '136983', '31322', '139723', '379273', '349470', '177822', '57492', '202429', '376636', '201379', '447016', '109761', '307245', '408339', '15960', '144642', '100856', '39763', '77522', '23080', '334964', '321223', '193744', '170046', '51092', '84145', '192008', '51030', '38650', '195577', '51193', '491353', '191883', '104301', '450478', '97724', '376781', '381050', '101515', '245348', '13280', '242758', '401595', '56933', '378684', '59127', '177434', '515167', '169770', '19257', '91255', '299888', '251182', '88025', '197017', '409893', '426165', '112105', '164387', '408525', '379031', '208191', '51580', '60303', '133208', '69243', '55826', '260988', '252246', '409840', '461149', '180731', '170330', '439920', '96517', '186900', '146121', '107004', '124600', '98450', '14924', '38019', '442924', '234243', '376630', '166006', '372637', '308947', '309678', '411666', '433294', '419185', '313115', '299931', '160967', '169472', '130100', '229697', '309164', '306134', '437942', '10112', '26017', '100103', '69493', '2622', '369442', '419755', '328632', '358957', '43563', '223417', '104334', '13366', '72642', '209675', '261629', '302204', '95661', '176586', '155753', '101248', '183670', '333983', '254860', '100308', '383399', '92158', '38618', '211747', '182596', '104231', '49576', '86772', '70556', '28433', '221322', '19453', '72428', '245119', '274395', '309990', '70994', '225392', '443273', '457750', '27084', '30205', '188982', '448585', '23753', '435598', '139270', '62919', '193505', '108644', '84024', '93488', '169088', '67941', '177328', '83935', '133077', '60744', '435785', '338128', '311233', '359001', '164124', '319460', '316033', '66421', '12132', '78132', '194209', '322796', '424017', '62781', '27205', '114415', '319214', '332871', '123336', '468558', '71103', '37088', '275631', '109796', '22250', '332221', '250708', '150861', '202181', '284412', '80617', '290681', '411098', '41397', '76553', '152841', '527534', '146871', '81856', '75711', '476699', '103947', '365945', '83894', '185106', '366672', '247929', '341126', '428634', '439460', '321897', '96336', '187557', '227091', '78533', '272622', '54768', '99799', '107180', '431612', '32784', '58608', '267893', '119081', '45770', '100172', '188755', '362805', '4048', '354701', '458298', '341097', '455391', '98560', '48291', '12563', '45755', '147645', '87811', '193983', '151645', '275437', '278914', '220088', '414897', '29827', '50777', '236147', '65357', '449342', '180364', '385793', '17226', '176626', '20244', '26468', '217048', '281663', '26824', '19976', '199049', '420944', '230949', '105535', '188180', '75021', '30556', '214231', '288', '205780', '42525', '377797', '63693', '284', '15584', '234730', '178125', '106366', '61814', '314553', '202187', '97308', '135839', '115387', '172940', '372114', '407672', '386854', '34564', '259096', '218428', '339709', '339217', '73942', '17642', '355803', '358952', '69710', '172610', '502385', '357177', '42820', '184943', '58283', '104581', '296087', '122377', '141473', '91491', '456858', '365441', '84739', '297246', '21894', '451460', '113346', '261450', '88736', '374148', '344937', '163165', '275082', '175607', '218240', '206515', '250625', '111508', '455201', '154584', '209912', '406673', '226515', '231119', '51712', '266484', '355386', '146019', '60203', '211687', '63089', '47840', '162761', '304572', '327506', '86006', '333326', '197866', '395371', '171004', '92140', '303008', '307493', '166027', '125557', '24990', '517166', '102636', '62130', '1322', '252520', '31135', '471465', '58055', '141558', '119914', '141933', '68423', '276065', '452870', '435118', '368405', '40483', '464119', '179170', '402762', '37975', '324690', '414333', '110608', '217009', '259147', '456610', '226161', '75969', '71418', '38600', '354839', '358874', '268611', '316984', '346033', '134051', '244158', '252312', '115403', '140564', '63599', '219121', '290497', '301792', '171293', '136325', '242587', '429546', '125040', '284376', '118823', '70260', '211284', '103467', '227872', '126145', '26656', '315669', '453335', '193195', '33162', '179476', '242702', '337144', '513918', '422798', '325157', '319820', '86867', '114569', '150996', '146521', '414823', '234585', '191491', '12353', '288799', '80963', '382723', '468146', '447114', '73702', '151262', '88706', '234411', '495525', '33340', '69188', '321672', '336185', '183173', '40449', '254908', '311526', '33043', '257260', '263821', '44615', '9272', '41137', '39296', '417940', '198738', '403131', '269088', '357584', '207243', '152378', '225529', '187151', '203720', '251166', '85756', '139392', '170139', '21949', '55432', '32805', '199360', '236534', '393854', '166868', '296231', '80384', '271607', '109835', '415408', '160206', '292219', '342133', '213588', '66955', '281674', '252004', '507063', '69195', '176785', '70132', '206335', '390351', '249846', '23682', '386223', '191509', '246497', '39047', '335253', '96162', '415406']}\n"
     ]
    }
   ],
   "source": [
    "print({k: v for k, v in list(step_recipes.items())[:3]})"
   ],
   "metadata": {
    "collapsed": false,
    "pycharm": {
     "name": "#%%\n"
    }
   }
  },
  {
   "cell_type": "markdown",
   "metadata": {},
   "source": [
    "3.3 Получите список рецептов, в этапах выполнения которых есть информация о времени (часы или минуты). Для отбора подходящих рецептов обратите внимание на атрибуты соответствующих тэгов."
   ]
  },
  {
   "cell_type": "code",
   "execution_count": 124,
   "outputs": [],
   "source": [
    "recipes_with_time_info = []\n",
    "for recipe in recipes_lst:\n",
    "    if recipe.find_all(\n",
    "            lambda tag: tag.name == 'step' and (tag.attrs.get('has_minutes') or tag.attrs.get('has_hours'))\n",
    "    ):\n",
    "        recipes_with_time_info.append(recipe.find('id').text)"
   ],
   "metadata": {
    "collapsed": false,
    "pycharm": {
     "name": "#%%\n"
    }
   }
  },
  {
   "cell_type": "code",
   "execution_count": 125,
   "outputs": [
    {
     "name": "stdout",
     "output_type": "stream",
     "text": [
      "23469\n"
     ]
    },
    {
     "data": {
      "text/plain": "['44123',\n '35173',\n '453467',\n '306168',\n '50662',\n '118843',\n '149593',\n '200148',\n '310570',\n '95534']"
     },
     "execution_count": 125,
     "metadata": {},
     "output_type": "execute_result"
    }
   ],
   "source": [
    "print(len(recipes_with_time_info))\n",
    "recipes_with_time_info[:10]"
   ],
   "metadata": {
    "collapsed": false,
    "pycharm": {
     "name": "#%%\n"
    }
   }
  },
  {
   "cell_type": "markdown",
   "metadata": {},
   "source": [
    "3.4 Загрузите данные из файла `recipes_sample.csv` (__ЛР2__) в таблицу `recipes`. Для строк, которые содержат пропуски в столбце `n_steps`, заполните этот столбец на основе файла  `steps_sample.xml`. Строки, в которых столбец `n_steps` заполнен, оставьте без изменений."
   ]
  },
  {
   "cell_type": "code",
   "execution_count": 126,
   "outputs": [
    {
     "data": {
      "text/plain": "           id  n_steps\n0       44123       11\n1       67664        3\n2       38798        5\n3       35173        7\n4       84797        4\n...       ...      ...\n29995  267661       16\n29996  386977       22\n29997  103312       10\n29998  486161        7\n29999  298512        9\n\n[30000 rows x 2 columns]",
      "text/html": "<div>\n<style scoped>\n    .dataframe tbody tr th:only-of-type {\n        vertical-align: middle;\n    }\n\n    .dataframe tbody tr th {\n        vertical-align: top;\n    }\n\n    .dataframe thead th {\n        text-align: right;\n    }\n</style>\n<table border=\"1\" class=\"dataframe\">\n  <thead>\n    <tr style=\"text-align: right;\">\n      <th></th>\n      <th>id</th>\n      <th>n_steps</th>\n    </tr>\n  </thead>\n  <tbody>\n    <tr>\n      <th>0</th>\n      <td>44123</td>\n      <td>11</td>\n    </tr>\n    <tr>\n      <th>1</th>\n      <td>67664</td>\n      <td>3</td>\n    </tr>\n    <tr>\n      <th>2</th>\n      <td>38798</td>\n      <td>5</td>\n    </tr>\n    <tr>\n      <th>3</th>\n      <td>35173</td>\n      <td>7</td>\n    </tr>\n    <tr>\n      <th>4</th>\n      <td>84797</td>\n      <td>4</td>\n    </tr>\n    <tr>\n      <th>...</th>\n      <td>...</td>\n      <td>...</td>\n    </tr>\n    <tr>\n      <th>29995</th>\n      <td>267661</td>\n      <td>16</td>\n    </tr>\n    <tr>\n      <th>29996</th>\n      <td>386977</td>\n      <td>22</td>\n    </tr>\n    <tr>\n      <th>29997</th>\n      <td>103312</td>\n      <td>10</td>\n    </tr>\n    <tr>\n      <th>29998</th>\n      <td>486161</td>\n      <td>7</td>\n    </tr>\n    <tr>\n      <th>29999</th>\n      <td>298512</td>\n      <td>9</td>\n    </tr>\n  </tbody>\n</table>\n<p>30000 rows × 2 columns</p>\n</div>"
     },
     "execution_count": 126,
     "metadata": {},
     "output_type": "execute_result"
    }
   ],
   "source": [
    "steps_df = pd.DataFrame([\n",
    "    {\n",
    "        'id': int(recipe.find('id').text),\n",
    "        'n_steps': len(recipe.find_all('step')),\n",
    "    }\n",
    "    for recipe in recipes_lst\n",
    "])\n",
    "\n",
    "steps_df"
   ],
   "metadata": {
    "collapsed": false,
    "pycharm": {
     "name": "#%%\n"
    }
   }
  },
  {
   "cell_type": "code",
   "execution_count": 127,
   "outputs": [
    {
     "data": {
      "text/plain": "                                               name      id  minutes  \\\n0             george s at the cove  black bean soup   44123       90   \n1                healthy for them  yogurt popsicles   67664       10   \n2                      i can t believe it s spinach   38798       30   \n3                              italian  gut busters   35173       45   \n4          love is in the air  beef fondue   sauces   84797       25   \n...                                             ...     ...      ...   \n29995  zurie s holey rustic olive and cheddar bread  267661       80   \n29996          zwetschgenkuchen  bavarian plum cake  386977      240   \n29997   zwiebelkuchen   southwest german onion cake  103312       75   \n29998                                   zydeco soup  486161       60   \n29999        cookies by design   cookies on a stick  298512       29   \n\n       contributor_id  submitted  n_steps_x  \\\n0               35193 2002-10-25        NaN   \n1               91970 2003-07-26        NaN   \n2                1533 2002-08-29        NaN   \n3               22724 2002-07-27        NaN   \n4                4470 2004-02-23        4.0   \n...               ...        ...        ...   \n29995          200862 2007-11-25       16.0   \n29996          177443 2009-08-24        NaN   \n29997          161745 2004-11-03        NaN   \n29998          227978 2012-08-29        NaN   \n29999          506822 2008-04-15        9.0   \n\n                                             description  n_ingredients  \\\n0      an original recipe created by chef scott meska...           18.0   \n1      my children and their friends ask for my homem...            NaN   \n2                these were so go, it surprised even me.            8.0   \n3      my sister-in-law made these for us at a family...            NaN   \n4      i think a fondue is a very romantic casual din...            NaN   \n...                                                  ...            ...   \n29995  this is based on a french recipe but i changed...           10.0   \n29996  this is a traditional fresh plum cake, thought...           11.0   \n29997  this is a traditional late summer early fall s...            NaN   \n29998  this is a delicious soup that i originally fou...            NaN   \n29999  i've heard of the 'cookies by design' company,...           10.0   \n\n       n_steps_y  \n0             11  \n1              3  \n2              5  \n3              7  \n4              4  \n...          ...  \n29995         16  \n29996         22  \n29997         10  \n29998          7  \n29999          9  \n\n[30000 rows x 9 columns]",
      "text/html": "<div>\n<style scoped>\n    .dataframe tbody tr th:only-of-type {\n        vertical-align: middle;\n    }\n\n    .dataframe tbody tr th {\n        vertical-align: top;\n    }\n\n    .dataframe thead th {\n        text-align: right;\n    }\n</style>\n<table border=\"1\" class=\"dataframe\">\n  <thead>\n    <tr style=\"text-align: right;\">\n      <th></th>\n      <th>name</th>\n      <th>id</th>\n      <th>minutes</th>\n      <th>contributor_id</th>\n      <th>submitted</th>\n      <th>n_steps_x</th>\n      <th>description</th>\n      <th>n_ingredients</th>\n      <th>n_steps_y</th>\n    </tr>\n  </thead>\n  <tbody>\n    <tr>\n      <th>0</th>\n      <td>george s at the cove  black bean soup</td>\n      <td>44123</td>\n      <td>90</td>\n      <td>35193</td>\n      <td>2002-10-25</td>\n      <td>NaN</td>\n      <td>an original recipe created by chef scott meska...</td>\n      <td>18.0</td>\n      <td>11</td>\n    </tr>\n    <tr>\n      <th>1</th>\n      <td>healthy for them  yogurt popsicles</td>\n      <td>67664</td>\n      <td>10</td>\n      <td>91970</td>\n      <td>2003-07-26</td>\n      <td>NaN</td>\n      <td>my children and their friends ask for my homem...</td>\n      <td>NaN</td>\n      <td>3</td>\n    </tr>\n    <tr>\n      <th>2</th>\n      <td>i can t believe it s spinach</td>\n      <td>38798</td>\n      <td>30</td>\n      <td>1533</td>\n      <td>2002-08-29</td>\n      <td>NaN</td>\n      <td>these were so go, it surprised even me.</td>\n      <td>8.0</td>\n      <td>5</td>\n    </tr>\n    <tr>\n      <th>3</th>\n      <td>italian  gut busters</td>\n      <td>35173</td>\n      <td>45</td>\n      <td>22724</td>\n      <td>2002-07-27</td>\n      <td>NaN</td>\n      <td>my sister-in-law made these for us at a family...</td>\n      <td>NaN</td>\n      <td>7</td>\n    </tr>\n    <tr>\n      <th>4</th>\n      <td>love is in the air  beef fondue   sauces</td>\n      <td>84797</td>\n      <td>25</td>\n      <td>4470</td>\n      <td>2004-02-23</td>\n      <td>4.0</td>\n      <td>i think a fondue is a very romantic casual din...</td>\n      <td>NaN</td>\n      <td>4</td>\n    </tr>\n    <tr>\n      <th>...</th>\n      <td>...</td>\n      <td>...</td>\n      <td>...</td>\n      <td>...</td>\n      <td>...</td>\n      <td>...</td>\n      <td>...</td>\n      <td>...</td>\n      <td>...</td>\n    </tr>\n    <tr>\n      <th>29995</th>\n      <td>zurie s holey rustic olive and cheddar bread</td>\n      <td>267661</td>\n      <td>80</td>\n      <td>200862</td>\n      <td>2007-11-25</td>\n      <td>16.0</td>\n      <td>this is based on a french recipe but i changed...</td>\n      <td>10.0</td>\n      <td>16</td>\n    </tr>\n    <tr>\n      <th>29996</th>\n      <td>zwetschgenkuchen  bavarian plum cake</td>\n      <td>386977</td>\n      <td>240</td>\n      <td>177443</td>\n      <td>2009-08-24</td>\n      <td>NaN</td>\n      <td>this is a traditional fresh plum cake, thought...</td>\n      <td>11.0</td>\n      <td>22</td>\n    </tr>\n    <tr>\n      <th>29997</th>\n      <td>zwiebelkuchen   southwest german onion cake</td>\n      <td>103312</td>\n      <td>75</td>\n      <td>161745</td>\n      <td>2004-11-03</td>\n      <td>NaN</td>\n      <td>this is a traditional late summer early fall s...</td>\n      <td>NaN</td>\n      <td>10</td>\n    </tr>\n    <tr>\n      <th>29998</th>\n      <td>zydeco soup</td>\n      <td>486161</td>\n      <td>60</td>\n      <td>227978</td>\n      <td>2012-08-29</td>\n      <td>NaN</td>\n      <td>this is a delicious soup that i originally fou...</td>\n      <td>NaN</td>\n      <td>7</td>\n    </tr>\n    <tr>\n      <th>29999</th>\n      <td>cookies by design   cookies on a stick</td>\n      <td>298512</td>\n      <td>29</td>\n      <td>506822</td>\n      <td>2008-04-15</td>\n      <td>9.0</td>\n      <td>i've heard of the 'cookies by design' company,...</td>\n      <td>10.0</td>\n      <td>9</td>\n    </tr>\n  </tbody>\n</table>\n<p>30000 rows × 9 columns</p>\n</div>"
     },
     "execution_count": 127,
     "metadata": {},
     "output_type": "execute_result"
    }
   ],
   "source": [
    "recipes_steps_df = pd.merge(\n",
    "    recipes_df,\n",
    "    steps_df,\n",
    "    how='left',\n",
    "    on='id'\n",
    ")\n",
    "\n",
    "recipes_steps_df"
   ],
   "metadata": {
    "collapsed": false,
    "pycharm": {
     "name": "#%%\n"
    }
   }
  },
  {
   "cell_type": "code",
   "execution_count": 128,
   "outputs": [],
   "source": [
    "mask = recipes_steps_df['n_steps_x'].isna()\n",
    "recipes_df.loc[mask, 'n_steps'] = recipes_steps_df[mask]['n_steps_y']"
   ],
   "metadata": {
    "collapsed": false,
    "pycharm": {
     "name": "#%%\n"
    }
   }
  },
  {
   "cell_type": "code",
   "execution_count": 129,
   "outputs": [
    {
     "data": {
      "text/plain": "                                               name      id  minutes  \\\n0             george s at the cove  black bean soup   44123       90   \n1                healthy for them  yogurt popsicles   67664       10   \n2                      i can t believe it s spinach   38798       30   \n3                              italian  gut busters   35173       45   \n4          love is in the air  beef fondue   sauces   84797       25   \n...                                             ...     ...      ...   \n29995  zurie s holey rustic olive and cheddar bread  267661       80   \n29996          zwetschgenkuchen  bavarian plum cake  386977      240   \n29997   zwiebelkuchen   southwest german onion cake  103312       75   \n29998                                   zydeco soup  486161       60   \n29999        cookies by design   cookies on a stick  298512       29   \n\n       contributor_id  submitted  n_steps  \\\n0               35193 2002-10-25     11.0   \n1               91970 2003-07-26      3.0   \n2                1533 2002-08-29      5.0   \n3               22724 2002-07-27      7.0   \n4                4470 2004-02-23      4.0   \n...               ...        ...      ...   \n29995          200862 2007-11-25     16.0   \n29996          177443 2009-08-24     22.0   \n29997          161745 2004-11-03     10.0   \n29998          227978 2012-08-29      7.0   \n29999          506822 2008-04-15      9.0   \n\n                                             description  n_ingredients  \n0      an original recipe created by chef scott meska...           18.0  \n1      my children and their friends ask for my homem...            NaN  \n2                these were so go, it surprised even me.            8.0  \n3      my sister-in-law made these for us at a family...            NaN  \n4      i think a fondue is a very romantic casual din...            NaN  \n...                                                  ...            ...  \n29995  this is based on a french recipe but i changed...           10.0  \n29996  this is a traditional fresh plum cake, thought...           11.0  \n29997  this is a traditional late summer early fall s...            NaN  \n29998  this is a delicious soup that i originally fou...            NaN  \n29999  i've heard of the 'cookies by design' company,...           10.0  \n\n[30000 rows x 8 columns]",
      "text/html": "<div>\n<style scoped>\n    .dataframe tbody tr th:only-of-type {\n        vertical-align: middle;\n    }\n\n    .dataframe tbody tr th {\n        vertical-align: top;\n    }\n\n    .dataframe thead th {\n        text-align: right;\n    }\n</style>\n<table border=\"1\" class=\"dataframe\">\n  <thead>\n    <tr style=\"text-align: right;\">\n      <th></th>\n      <th>name</th>\n      <th>id</th>\n      <th>minutes</th>\n      <th>contributor_id</th>\n      <th>submitted</th>\n      <th>n_steps</th>\n      <th>description</th>\n      <th>n_ingredients</th>\n    </tr>\n  </thead>\n  <tbody>\n    <tr>\n      <th>0</th>\n      <td>george s at the cove  black bean soup</td>\n      <td>44123</td>\n      <td>90</td>\n      <td>35193</td>\n      <td>2002-10-25</td>\n      <td>11.0</td>\n      <td>an original recipe created by chef scott meska...</td>\n      <td>18.0</td>\n    </tr>\n    <tr>\n      <th>1</th>\n      <td>healthy for them  yogurt popsicles</td>\n      <td>67664</td>\n      <td>10</td>\n      <td>91970</td>\n      <td>2003-07-26</td>\n      <td>3.0</td>\n      <td>my children and their friends ask for my homem...</td>\n      <td>NaN</td>\n    </tr>\n    <tr>\n      <th>2</th>\n      <td>i can t believe it s spinach</td>\n      <td>38798</td>\n      <td>30</td>\n      <td>1533</td>\n      <td>2002-08-29</td>\n      <td>5.0</td>\n      <td>these were so go, it surprised even me.</td>\n      <td>8.0</td>\n    </tr>\n    <tr>\n      <th>3</th>\n      <td>italian  gut busters</td>\n      <td>35173</td>\n      <td>45</td>\n      <td>22724</td>\n      <td>2002-07-27</td>\n      <td>7.0</td>\n      <td>my sister-in-law made these for us at a family...</td>\n      <td>NaN</td>\n    </tr>\n    <tr>\n      <th>4</th>\n      <td>love is in the air  beef fondue   sauces</td>\n      <td>84797</td>\n      <td>25</td>\n      <td>4470</td>\n      <td>2004-02-23</td>\n      <td>4.0</td>\n      <td>i think a fondue is a very romantic casual din...</td>\n      <td>NaN</td>\n    </tr>\n    <tr>\n      <th>...</th>\n      <td>...</td>\n      <td>...</td>\n      <td>...</td>\n      <td>...</td>\n      <td>...</td>\n      <td>...</td>\n      <td>...</td>\n      <td>...</td>\n    </tr>\n    <tr>\n      <th>29995</th>\n      <td>zurie s holey rustic olive and cheddar bread</td>\n      <td>267661</td>\n      <td>80</td>\n      <td>200862</td>\n      <td>2007-11-25</td>\n      <td>16.0</td>\n      <td>this is based on a french recipe but i changed...</td>\n      <td>10.0</td>\n    </tr>\n    <tr>\n      <th>29996</th>\n      <td>zwetschgenkuchen  bavarian plum cake</td>\n      <td>386977</td>\n      <td>240</td>\n      <td>177443</td>\n      <td>2009-08-24</td>\n      <td>22.0</td>\n      <td>this is a traditional fresh plum cake, thought...</td>\n      <td>11.0</td>\n    </tr>\n    <tr>\n      <th>29997</th>\n      <td>zwiebelkuchen   southwest german onion cake</td>\n      <td>103312</td>\n      <td>75</td>\n      <td>161745</td>\n      <td>2004-11-03</td>\n      <td>10.0</td>\n      <td>this is a traditional late summer early fall s...</td>\n      <td>NaN</td>\n    </tr>\n    <tr>\n      <th>29998</th>\n      <td>zydeco soup</td>\n      <td>486161</td>\n      <td>60</td>\n      <td>227978</td>\n      <td>2012-08-29</td>\n      <td>7.0</td>\n      <td>this is a delicious soup that i originally fou...</td>\n      <td>NaN</td>\n    </tr>\n    <tr>\n      <th>29999</th>\n      <td>cookies by design   cookies on a stick</td>\n      <td>298512</td>\n      <td>29</td>\n      <td>506822</td>\n      <td>2008-04-15</td>\n      <td>9.0</td>\n      <td>i've heard of the 'cookies by design' company,...</td>\n      <td>10.0</td>\n    </tr>\n  </tbody>\n</table>\n<p>30000 rows × 8 columns</p>\n</div>"
     },
     "execution_count": 129,
     "metadata": {},
     "output_type": "execute_result"
    }
   ],
   "source": [
    "recipes_df"
   ],
   "metadata": {
    "collapsed": false,
    "pycharm": {
     "name": "#%%\n"
    }
   }
  },
  {
   "cell_type": "markdown",
   "metadata": {},
   "source": [
    "3.5 Проверьте, содержит ли столбец `n_steps` пропуски. Если нет, то преобразуйте его к целочисленному типу и сохраните результаты в файл `recipes_sample_with_filled_nsteps.csv`"
   ]
  },
  {
   "cell_type": "code",
   "execution_count": 130,
   "outputs": [],
   "source": [
    "if recipes_df['n_steps'].isna().sum() == 0:\n",
    "    recipes_df['n_steps'] = recipes_df['n_steps'].astype(int)\n",
    "    recipes_df.to_csv('data/output/recipes_sample_with_filled_nsteps.csv', sep=',')\n"
   ],
   "metadata": {
    "collapsed": false,
    "pycharm": {
     "name": "#%%\n"
    }
   }
  }
 ],
 "metadata": {
  "kernelspec": {
   "display_name": "Python 3",
   "language": "python",
   "name": "python3"
  },
  "language_info": {
   "codemirror_mode": {
    "name": "ipython",
    "version": 3
   },
   "file_extension": ".py",
   "mimetype": "text/x-python",
   "name": "python",
   "nbconvert_exporter": "python",
   "pygments_lexer": "ipython3",
   "version": "3.8.5"
  }
 },
 "nbformat": 4,
 "nbformat_minor": 4
}