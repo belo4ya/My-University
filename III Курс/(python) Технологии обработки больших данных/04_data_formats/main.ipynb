{
 "cells": [
  {
   "cell_type": "markdown",
   "metadata": {},
   "source": [
    "# Форматы данных (1)"
   ]
  },
  {
   "cell_type": "markdown",
   "metadata": {},
   "source": [
    "Материалы:\n",
    "* Макрушин С.В. \"Лекция 4: Форматы данных\"\n",
    "* https://docs.python.org/3/library/json.html\n",
    "* https://docs.python.org/3/library/pickle.html\n",
    "* https://www.crummy.com/software/BeautifulSoup/bs4/doc.ru/bs4ru.html\n",
    "* Уэс Маккини. Python и анализ данных"
   ]
  },
  {
   "cell_type": "markdown",
   "metadata": {},
   "source": [
    "## Задачи для совместного разбора"
   ]
  },
  {
   "cell_type": "markdown",
   "metadata": {},
   "source": [
    "1. Вывести все адреса электронной почты, содержащиеся в адресной книге `addres-book.json`"
   ]
  },
  {
   "cell_type": "code",
   "execution_count": 15,
   "outputs": [],
   "source": [
    "import json"
   ],
   "metadata": {
    "collapsed": false,
    "pycharm": {
     "name": "#%%\n"
    }
   }
  },
  {
   "cell_type": "code",
   "execution_count": 16,
   "outputs": [],
   "source": [
    "def read_json(path: str):\n",
    "    with open(path) as file:\n",
    "        return json.load(file)"
   ],
   "metadata": {
    "collapsed": false,
    "pycharm": {
     "name": "#%%\n"
    }
   }
  },
  {
   "cell_type": "code",
   "execution_count": 20,
   "outputs": [
    {
     "data": {
      "text/plain": "[{'name': 'Faina Lee',\n  'email': 'faina@mail.ru',\n  'birthday': '22.08.1994',\n  'phones': [{'phone': '232-19-55'}, {'phone': '+7 (916) 232-19-55'}]},\n {'name': 'Robert Lee',\n  'email': 'robert@mail.ru',\n  'birthday': '22.08.1994',\n  'phones': [{'phone': '111-19-55'}, {'phone': '+7 (916) 445-19-55'}]}]"
     },
     "execution_count": 20,
     "metadata": {},
     "output_type": "execute_result"
    }
   ],
   "source": [
    "address_book = read_json('data/addres-book.json')\n",
    "address_book"
   ],
   "metadata": {
    "collapsed": false,
    "pycharm": {
     "name": "#%%\n"
    }
   }
  },
  {
   "cell_type": "code",
   "execution_count": 22,
   "outputs": [
    {
     "data": {
      "text/plain": "['faina@mail.ru', 'robert@mail.ru']"
     },
     "execution_count": 22,
     "metadata": {},
     "output_type": "execute_result"
    }
   ],
   "source": [
    "emails = [address.get('email') for address in address_book]\n",
    "emails"
   ],
   "metadata": {
    "collapsed": false,
    "pycharm": {
     "name": "#%%\n"
    }
   }
  },
  {
   "cell_type": "markdown",
   "metadata": {},
   "source": [
    "2. Вывести телефоны, содержащиеся в адресной книге `addres-book.json`"
   ]
  },
  {
   "cell_type": "code",
   "execution_count": 26,
   "outputs": [
    {
     "data": {
      "text/plain": "['232-19-55', '+7 (916) 232-19-55', '111-19-55', '+7 (916) 445-19-55']"
     },
     "execution_count": 26,
     "metadata": {},
     "output_type": "execute_result"
    }
   ],
   "source": [
    "phones = []\n",
    "for address in address_book:\n",
    "    phones.extend([phone['phone'] for phone in address.get('phones')])\n",
    "\n",
    "phones"
   ],
   "metadata": {
    "collapsed": false,
    "pycharm": {
     "name": "#%%\n"
    }
   }
  },
  {
   "cell_type": "markdown",
   "metadata": {},
   "source": [
    "3. По данным из файла `addres-book-q.xml` сформировать список словарей с телефонами каждого из людей."
   ]
  },
  {
   "cell_type": "code",
   "execution_count": 28,
   "outputs": [],
   "source": [
    "from bs4 import BeautifulSoup as bs"
   ],
   "metadata": {
    "collapsed": false,
    "pycharm": {
     "name": "#%%\n"
    }
   }
  },
  {
   "cell_type": "code",
   "execution_count": 29,
   "outputs": [],
   "source": [
    "def read_xml(path: str):\n",
    "    with open(path) as file:\n",
    "        return bs(''.join(file.readlines()), 'lxml')"
   ],
   "metadata": {
    "collapsed": false,
    "pycharm": {
     "name": "#%%\n"
    }
   }
  },
  {
   "cell_type": "code",
   "execution_count": 31,
   "outputs": [
    {
     "data": {
      "text/plain": "'<?xml version=\"1.0\" encoding=\"UTF-8\" ?>\\n<html>\\n <body>\\n  <address_book>\\n   <country name=\"algeria\">\\n    <address id=\"1\">\\n     <gender>\\n      m\\n     </gender>\\n     <name>\\n      Aicha Barki\\n     </name>\\n     <email>\\n      aiqraa.asso@caramail.com\\n     </email>\\n     <position>\\n      Presidente\\n     </position>\\n     <company>\\n      Association Algerienne d\\'Alphabetisation Iqraa\\n     </company>\\n     <phones>\\n      <phone type=\"work\">\\n       + (213) 6150 4015\\n      </phone>\\n      <phone type=\"personal\">\\n       + (213) 2173 5247\\n      </phone>\\n     </phones>\\n    </address>\\n   </country>\\n   <country name=\"angola\">\\n    <address id=\"2\">\\n     <gender>\\n      m\\n     </gender>\\n     <name>\\n      Francisco Domingos\\n     </name>\\n     <email>\\n      frandomingos@hotmail.com\\n     </email>\\n     <position>\\n      Directeur General\\n     </position>\\n     <company>\\n      Institut National de Education des Adultes\\n     </company>\\n     <phones>\\n      <phone type=\"work\">\\n       + (244-2) 325 023\\n      </phone>\\n      <phone type=\"personal\">\\n       + (244-2) 325 023\\n      </phone>\\n     </phones>\\n    </address>\\n    <address id=\"3\">\\n     <gender>\\n      f\\n     </gender>\\n     <name>\\n      Maria Luisa\\n     </name>\\n     <email>\\n      luisagrilo@ebonet.net\\n     </email>\\n     <position>\\n      Directrice Nationale\\n     </position>\\n     <company>\\n      Institut National de Education des Adultes\\n     </company>\\n     <phones>\\n      <phone type=\"personal\">\\n       + (244) 4232 2836\\n      </phone>\\n     </phones>\\n    </address>\\n    <address id=\"4\">\\n     <gender>\\n      m\\n     </gender>\\n     <name>\\n      Abraao Chanda\\n     </name>\\n     <email>\\n      ineda@snet.co.ao\\n     </email>\\n     <position>\\n      Chef\\n     </position>\\n     <company>\\n      Institut National de Education des Adultes\\n     </company>\\n     <phones>\\n      <phone type=\"work\">\\n       + (244-2) 325 023\\n      </phone>\\n      <phone type=\"personal\">\\n       + (244-2) 325 023\\n      </phone>\\n     </phones>\\n    </address>\\n   </country>\\n   <country name=\"argentina\">\\n    <address id=\"5\">\\n     <gender>\\n      m\\n     </gender>\\n     <name>\\n      Beatriz Busaniche\\n     </name>\\n     <email>\\n      busaniche@caminandoutopias.org.ar\\n     </email>\\n     <position>\\n      Executive Director\\n     </position>\\n     <company>\\n      Universidad de Buenos Aires\\n     </company>\\n     <phones>\\n      <phone type=\"work\">\\n       + (54-11) 4784 1159\\n      </phone>\\n     </phones>\\n    </address>\\n   </country>\\n   <country name=\"australia\">\\n    <address id=\"6\">\\n     <gender>\\n      f\\n     </gender>\\n     <name>\\n      Francesca Beddie\\n     </name>\\n     <email>\\n      f.beddie@ala.asn.au\\n     </email>\\n     <position>\\n      Executive Director\\n     </position>\\n     <company>\\n      Adult Learning Australia\\n     </company>\\n     <phones>\\n      <phone type=\"work\">\\n       + (61-2) 6274 9500\\n      </phone>\\n      <phone type=\"personal\">\\n       + (61-2) 6274 9513\\n      </phone>\\n     </phones>\\n    </address>\\n    <address id=\"7\">\\n     <gender>\\n      m\\n     </gender>\\n     <name>\\n      Graham John Smith\\n     </name>\\n     <email>\\n      grasm@connexus.net.au\\n     </email>\\n     <position>\\n      Secretary\\n     </position>\\n     <company>\\n      Disability Australia Ltd\\n     </company>\\n     <phones>\\n      <phone type=\"work\">\\n       + (61-3) 9807 4702\\n      </phone>\\n     </phones>\\n    </address>\\n   </country>\\n  </address_book>\\n </body>\\n</html>'"
     },
     "execution_count": 31,
     "metadata": {},
     "output_type": "execute_result"
    }
   ],
   "source": [
    "soup = read_xml('data/addres-book-q.xml')\n",
    "soup"
   ],
   "metadata": {
    "collapsed": false,
    "pycharm": {
     "name": "#%%\n"
    }
   }
  },
  {
   "cell_type": "code",
   "execution_count": 39,
   "outputs": [
    {
     "data": {
      "text/plain": "[{'name': 'Aicha Barki', 'phones': ['+ (213) 6150 4015', '+ (213) 2173 5247']},\n {'name': 'Francisco Domingos',\n  'phones': ['+ (244-2) 325 023', '+ (244-2) 325 023']},\n {'name': 'Maria Luisa', 'phones': ['+ (244) 4232 2836']},\n {'name': 'Abraao Chanda',\n  'phones': ['+ (244-2) 325 023', '+ (244-2) 325 023']},\n {'name': 'Beatriz Busaniche', 'phones': ['+ (54-11) 4784 1159']},\n {'name': 'Francesca Beddie',\n  'phones': ['+ (61-2) 6274 9500', '+ (61-2) 6274 9513']},\n {'name': 'Graham John Smith', 'phones': ['+ (61-3) 9807 4702']}]"
     },
     "execution_count": 39,
     "metadata": {},
     "output_type": "execute_result"
    }
   ],
   "source": [
    "phone_book = []\n",
    "for address in soup.find_all('address'):\n",
    "    name = address.find('name').string\n",
    "    phones = [phone.string for phone in address.find_all('phone')]\n",
    "    phone_book.append({\n",
    "        'name': name,\n",
    "        'phones': phones\n",
    "    })\n",
    "\n",
    "\n",
    "phone_book"
   ],
   "metadata": {
    "collapsed": false,
    "pycharm": {
     "name": "#%%\n"
    }
   }
  },
  {
   "cell_type": "markdown",
   "metadata": {},
   "source": [
    "## Лабораторная работа №4"
   ]
  },
  {
   "cell_type": "markdown",
   "metadata": {},
   "source": [
    "### JSON"
   ]
  },
  {
   "cell_type": "markdown",
   "metadata": {},
   "source": [
    "1.1 Считайте файл `contributors_sample.json`. Воспользовавшись модулем `json`, преобразуйте содержимое файла в соответствующие объекты python. Выведите на экран информацию о первых 3 пользователях."
   ]
  },
  {
   "cell_type": "code",
   "execution_count": 43,
   "outputs": [
    {
     "data": {
      "text/plain": "[{'username': 'uhebert',\n  'name': 'Lindsey Nguyen',\n  'sex': 'F',\n  'address': '01261 Cameron Spring\\nTaylorfurt, AK 97791',\n  'mail': 'jsalazar@gmail.com',\n  'jobs': ['Energy engineer',\n   'Engineer, site',\n   'Environmental health practitioner',\n   'Biomedical scientist',\n   'Jewellery designer'],\n  'id': 35193},\n {'username': 'vickitaylor',\n  'name': 'Cheryl Lewis',\n  'sex': 'F',\n  'address': '66992 Welch Brooks\\nMarshallshire, ID 56004',\n  'mail': 'bhudson@gmail.com',\n  'jobs': ['Music therapist',\n   'Volunteer coordinator',\n   'Designer, interior/spatial'],\n  'id': 91970},\n {'username': 'sheilaadams',\n  'name': 'Julia Allen',\n  'sex': 'F',\n  'address': 'Unit 1632 Box 2971\\nDPO AE 23297',\n  'mail': 'darren44@yahoo.com',\n  'jobs': ['Management consultant',\n   'Engineer, structural',\n   'Lecturer, higher education',\n   'Theatre manager',\n   'Designer, textile'],\n  'id': 1848091}]"
     },
     "execution_count": 43,
     "metadata": {},
     "output_type": "execute_result"
    }
   ],
   "source": [
    "contributors = read_json('data/contributors_sample.json')\n",
    "contributors[:3]"
   ],
   "metadata": {
    "collapsed": false,
    "pycharm": {
     "name": "#%%\n"
    }
   }
  },
  {
   "cell_type": "markdown",
   "metadata": {},
   "source": [
    "1.2 Выведите уникальные почтовые домены, содержащиеся в почтовых адресах людей"
   ]
  },
  {
   "cell_type": "code",
   "execution_count": 45,
   "outputs": [
    {
     "data": {
      "text/plain": "{'gmail.com', 'hotmail.com', 'yahoo.com'}"
     },
     "execution_count": 45,
     "metadata": {},
     "output_type": "execute_result"
    }
   ],
   "source": [
    "mail_domains = set()\n",
    "for contributor in contributors:\n",
    "    mail_domain = contributor['mail'].split('@')[-1]\n",
    "    mail_domains.add(mail_domain)\n",
    "\n",
    "mail_domains"
   ],
   "metadata": {
    "collapsed": false,
    "pycharm": {
     "name": "#%%\n"
    }
   }
  },
  {
   "cell_type": "markdown",
   "metadata": {},
   "source": [
    "1.3 Напишите функцию, которая по `username` ищет человека и выводит информацию о нем. Если пользователь с заданным `username` отсутствует, возбудите исключение `ValueError`"
   ]
  },
  {
   "cell_type": "markdown",
   "metadata": {},
   "source": [
    "1.4 Посчитайте, сколько мужчин и женщин присутсвует в этом наборе данных."
   ]
  },
  {
   "cell_type": "markdown",
   "metadata": {},
   "source": [
    "1.5 Создайте `pd.DataFrame` `contributors`, имеющий столбцы `id`, `username` и `sex`."
   ]
  },
  {
   "cell_type": "markdown",
   "metadata": {},
   "source": [
    "1.6 Загрузите данные из файла `recipes_sample.csv` (__ЛР2__) в таблицу `recipes`. Объедините `recipes` с таблицей `contributors` с сохранением строк в том случае, если информация о человеке отсутствует в JSON-файле. Для скольких человек информация отсутствует? "
   ]
  },
  {
   "cell_type": "markdown",
   "metadata": {},
   "source": [
    "### pickle"
   ]
  },
  {
   "cell_type": "markdown",
   "metadata": {},
   "source": [
    "2.1 На основе файла `contributors_sample.json` создайте словарь следующего вида: \n",
    "```\n",
    "{\n",
    "    должность: [список username людей, занимавших эту должность]\n",
    "}\n",
    "```"
   ]
  },
  {
   "cell_type": "markdown",
   "metadata": {},
   "source": [
    "2.2 Сохраните результаты в файл `job_people.pickle` и в файл `job_people.json` с использованием форматов pickle и JSON соответственно. Сравните объемы получившихся файлов. При сохранении в JSON укажите аргумент `indent`."
   ]
  },
  {
   "cell_type": "markdown",
   "metadata": {},
   "source": [
    "2.3 Считайте файл `job_people.pickle` и продемонстрируйте, что данные считались корректно. "
   ]
  },
  {
   "cell_type": "markdown",
   "metadata": {},
   "source": [
    "### XML"
   ]
  },
  {
   "cell_type": "markdown",
   "metadata": {},
   "source": [
    "3.1 По данным файла `steps_sample.xml` сформируйте словарь с шагами по каждому рецепту вида `{id_рецепта: [\"шаг1\", \"шаг2\"]}`. Сохраните этот словарь в файл `steps_sample.json`"
   ]
  },
  {
   "cell_type": "markdown",
   "metadata": {},
   "source": [
    "3.2 По данным файла `steps_sample.xml` сформируйте словарь следующего вида: `кол-во_шагов_в_рецепте: [список_id_рецептов]`"
   ]
  },
  {
   "cell_type": "markdown",
   "metadata": {},
   "source": [
    "3.3 Получите список рецептов, в этапах выполнения которых есть информация о времени (часы или минуты). Для отбора подходящих рецептов обратите внимание на атрибуты соответствующих тэгов."
   ]
  },
  {
   "cell_type": "markdown",
   "metadata": {},
   "source": [
    "3.4 Загрузите данные из файла `recipes_sample.csv` (__ЛР2__) в таблицу `recipes`. Для строк, которые содержат пропуски в столбце `n_steps`, заполните этот столбец на основе файла  `steps_sample.xml`. Строки, в которых столбец `n_steps` заполнен, оставьте без изменений."
   ]
  },
  {
   "cell_type": "markdown",
   "metadata": {},
   "source": [
    "3.5 Проверьте, содержит ли столбец `n_steps` пропуски. Если нет, то преобразуйте его к целочисленному типу и сохраните результаты в файл `recipes_sample_with_filled_nsteps.csv`"
   ]
  },
  {
   "cell_type": "code",
   "execution_count": null,
   "metadata": {},
   "outputs": [],
   "source": []
  }
 ],
 "metadata": {
  "kernelspec": {
   "display_name": "Python 3",
   "language": "python",
   "name": "python3"
  },
  "language_info": {
   "codemirror_mode": {
    "name": "ipython",
    "version": 3
   },
   "file_extension": ".py",
   "mimetype": "text/x-python",
   "name": "python",
   "nbconvert_exporter": "python",
   "pygments_lexer": "ipython3",
   "version": "3.8.5"
  }
 },
 "nbformat": 4,
 "nbformat_minor": 4
}