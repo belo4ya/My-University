{
 "cells": [
  {
   "cell_type": "markdown",
   "metadata": {},
   "source": [
    "# Форматы данных (1)"
   ]
  },
  {
   "cell_type": "markdown",
   "metadata": {},
   "source": [
    "Материалы:\n",
    "* Макрушин С.В. \"Лекция 4: Форматы данных\"\n",
    "* https://docs.python.org/3/library/json.html\n",
    "* https://docs.python.org/3/library/pickle.html\n",
    "* https://www.crummy.com/software/BeautifulSoup/bs4/doc.ru/bs4ru.html\n",
    "* Уэс Маккини. Python и анализ данных"
   ]
  },
  {
   "cell_type": "markdown",
   "metadata": {},
   "source": [
    "## Задачи для совместного разбора"
   ]
  },
  {
   "cell_type": "markdown",
   "metadata": {},
   "source": [
    "1. Вывести все адреса электронной почты, содержащиеся в адресной книге `addres-book.json`"
   ]
  },
  {
   "cell_type": "code",
   "execution_count": 190,
   "outputs": [],
   "source": [
    "import json\n",
    "import pickle\n",
    "from collections import defaultdict\n",
    "from pathlib import Path\n",
    "\n",
    "import pandas as pd\n",
    "from bs4 import BeautifulSoup as bs"
   ],
   "metadata": {
    "collapsed": false,
    "pycharm": {
     "name": "#%%\n"
    }
   }
  },
  {
   "cell_type": "code",
   "execution_count": 191,
   "outputs": [],
   "source": [
    "def read_json(path: str):\n",
    "    with open(path, encoding='utf-8') as f:\n",
    "        return json.load(f)\n",
    "\n",
    "\n",
    "def write_json(path: str, data: dict):\n",
    "    with open(path, mode='w', encoding='utf-8') as f:\n",
    "        json.dump(data, f, ensure_ascii=False, indent=4)"
   ],
   "metadata": {
    "collapsed": false,
    "pycharm": {
     "name": "#%%\n"
    }
   }
  },
  {
   "cell_type": "code",
   "execution_count": 192,
   "outputs": [],
   "source": [
    "def read_xml(path: str) -> bs:\n",
    "    with open(path, encoding='utf-8') as f:\n",
    "        return bs(''.join(f.readlines()), 'lxml')"
   ],
   "metadata": {
    "collapsed": false,
    "pycharm": {
     "name": "#%%\n"
    }
   }
  },
  {
   "cell_type": "code",
   "execution_count": 193,
   "outputs": [],
   "source": [
    "def read_pickle(path: str):\n",
    "    with open(path, mode='rb') as f:\n",
    "        return pickle.load(f)\n",
    "\n",
    "\n",
    "def write_pickle(path: str, data: dict):\n",
    "    with open(path, mode='wb') as f:\n",
    "        pickle.dump(data, f)"
   ],
   "metadata": {
    "collapsed": false,
    "pycharm": {
     "name": "#%%\n"
    }
   }
  },
  {
   "cell_type": "code",
   "execution_count": 194,
   "outputs": [
    {
     "data": {
      "text/plain": "[{'name': 'Faina Lee',\n  'email': 'faina@mail.ru',\n  'birthday': '22.08.1994',\n  'phones': [{'phone': '232-19-55'}, {'phone': '+7 (916) 232-19-55'}]},\n {'name': 'Robert Lee',\n  'email': 'robert@mail.ru',\n  'birthday': '22.08.1994',\n  'phones': [{'phone': '111-19-55'}, {'phone': '+7 (916) 445-19-55'}]}]"
     },
     "execution_count": 194,
     "metadata": {},
     "output_type": "execute_result"
    }
   ],
   "source": [
    "address_book = read_json('data/addressBook.json')\n",
    "address_book"
   ],
   "metadata": {
    "collapsed": false,
    "pycharm": {
     "name": "#%%\n"
    }
   }
  },
  {
   "cell_type": "code",
   "execution_count": 195,
   "outputs": [
    {
     "data": {
      "text/plain": "['faina@mail.ru', 'robert@mail.ru']"
     },
     "execution_count": 195,
     "metadata": {},
     "output_type": "execute_result"
    }
   ],
   "source": [
    "emails = [address.get('email') for address in address_book]\n",
    "emails"
   ],
   "metadata": {
    "collapsed": false,
    "pycharm": {
     "name": "#%%\n"
    }
   }
  },
  {
   "cell_type": "markdown",
   "metadata": {},
   "source": [
    "2. Вывести телефоны, содержащиеся в адресной книге `addres-book.json`"
   ]
  },
  {
   "cell_type": "code",
   "execution_count": 196,
   "outputs": [
    {
     "data": {
      "text/plain": "['232-19-55', '+7 (916) 232-19-55', '111-19-55', '+7 (916) 445-19-55']"
     },
     "execution_count": 196,
     "metadata": {},
     "output_type": "execute_result"
    }
   ],
   "source": [
    "phones = []\n",
    "for address in address_book:\n",
    "    phones.extend([phone['phone'] for phone in address.get('phones')])\n",
    "\n",
    "phones"
   ],
   "metadata": {
    "collapsed": false,
    "pycharm": {
     "name": "#%%\n"
    }
   }
  },
  {
   "cell_type": "markdown",
   "metadata": {},
   "source": [
    "3. По данным из файла `addres-book-q.xml` сформировать список словарей с телефонами каждого из людей."
   ]
  },
  {
   "cell_type": "code",
   "execution_count": 197,
   "outputs": [
    {
     "data": {
      "text/plain": "<?xml version=\"1.0\" encoding=\"UTF-8\" ?><html><body><address_book>\n<country name=\"algeria\">\n<address id=\"1\">\n<gender>m</gender>\n<name>Aicha Barki</name>\n<email>aiqraa.asso@caramail.com</email>\n<position>Presidente</position>\n<company>Association Algerienne d'Alphabetisation Iqraa</company>\n<phones>\n<phone type=\"work\">+ (213) 6150 4015</phone>\n<phone type=\"personal\">+ (213) 2173 5247</phone>\n</phones>\n</address>\n</country>\n<country name=\"angola\">\n<address id=\"2\">\n<gender>m</gender>\n<name>Francisco Domingos</name>\n<email>frandomingos@hotmail.com</email>\n<position>Directeur General</position>\n<company>Institut National de Education des Adultes</company>\n<phones>\n<phone type=\"work\">+ (244-2) 325 023</phone>\n<phone type=\"personal\">+ (244-2) 325 023</phone>\n</phones>\n</address>\n<address id=\"3\">\n<gender>f</gender>\n<name>Maria Luisa</name>\n<email>luisagrilo@ebonet.net</email>\n<position>Directrice Nationale</position>\n<company>Institut National de Education des Adultes</company>\n<phones>\n<phone type=\"personal\">+ (244) 4232 2836</phone>\n</phones>\n</address>\n<address id=\"4\">\n<gender>m</gender>\n<name>Abraao Chanda</name>\n<email>ineda@snet.co.ao</email>\n<position>Chef</position>\n<company>Institut National de Education des Adultes</company>\n<phones>\n<phone type=\"work\">+ (244-2) 325 023</phone>\n<phone type=\"personal\">+ (244-2) 325 023</phone>\n</phones>\n</address>\n</country>\n<country name=\"argentina\">\n<address id=\"5\">\n<gender>m</gender>\n<name>Beatriz Busaniche</name>\n<email>busaniche@caminandoutopias.org.ar</email>\n<position>Executive Director</position>\n<company>Universidad de Buenos Aires</company>\n<phones>\n<phone type=\"work\">+ (54-11) 4784 1159</phone>\n</phones>\n</address>\n</country>\n<country name=\"australia\">\n<address id=\"6\">\n<gender>f</gender>\n<name>Francesca Beddie</name>\n<email>f.beddie@ala.asn.au</email>\n<position>Executive Director</position>\n<company>Adult Learning Australia</company>\n<phones>\n<phone type=\"work\">+ (61-2) 6274 9500</phone>\n<phone type=\"personal\">+ (61-2) 6274 9513</phone>\n</phones>\n</address>\n<address id=\"7\">\n<gender>m</gender>\n<name>Graham John Smith</name>\n<email>grasm@connexus.net.au</email>\n<position>Secretary</position>\n<company>Disability Australia Ltd</company>\n<phones>\n<phone type=\"work\">+ (61-3) 9807 4702</phone>\n</phones>\n</address>\n</country>\n</address_book></body></html>"
     },
     "execution_count": 197,
     "metadata": {},
     "output_type": "execute_result"
    }
   ],
   "source": [
    "soup = read_xml('data/address_book.xml')\n",
    "soup"
   ],
   "metadata": {
    "collapsed": false,
    "pycharm": {
     "name": "#%%\n"
    }
   }
  },
  {
   "cell_type": "code",
   "execution_count": 198,
   "outputs": [
    {
     "data": {
      "text/plain": "[{'name': 'Aicha Barki', 'phones': ['+ (213) 6150 4015', '+ (213) 2173 5247']},\n {'name': 'Francisco Domingos',\n  'phones': ['+ (244-2) 325 023', '+ (244-2) 325 023']},\n {'name': 'Maria Luisa', 'phones': ['+ (244) 4232 2836']},\n {'name': 'Abraao Chanda',\n  'phones': ['+ (244-2) 325 023', '+ (244-2) 325 023']},\n {'name': 'Beatriz Busaniche', 'phones': ['+ (54-11) 4784 1159']},\n {'name': 'Francesca Beddie',\n  'phones': ['+ (61-2) 6274 9500', '+ (61-2) 6274 9513']},\n {'name': 'Graham John Smith', 'phones': ['+ (61-3) 9807 4702']}]"
     },
     "execution_count": 198,
     "metadata": {},
     "output_type": "execute_result"
    }
   ],
   "source": [
    "phone_book = []\n",
    "for address in soup.find_all('address'):\n",
    "    name = address.find('name').string\n",
    "    phones = [phone.string for phone in address.find_all('phone')]\n",
    "    phone_book.append({\n",
    "        'name': name,\n",
    "        'phones': phones\n",
    "    })\n",
    "\n",
    "phone_book"
   ],
   "metadata": {
    "collapsed": false,
    "pycharm": {
     "name": "#%%\n"
    }
   }
  },
  {
   "cell_type": "markdown",
   "metadata": {},
   "source": [
    "## Лабораторная работа №4"
   ]
  },
  {
   "cell_type": "markdown",
   "metadata": {},
   "source": [
    "### JSON"
   ]
  },
  {
   "cell_type": "markdown",
   "metadata": {},
   "source": [
    "1.1 Считайте файл `contributors_sample.json`. Воспользовавшись модулем `json`, преобразуйте содержимое файла в соответствующие объекты python. Выведите на экран информацию о первых 3 пользователях."
   ]
  },
  {
   "cell_type": "code",
   "execution_count": 199,
   "outputs": [
    {
     "data": {
      "text/plain": "[{'username': 'uhebert',\n  'name': 'Lindsey Nguyen',\n  'sex': 'F',\n  'address': '01261 Cameron Spring\\nTaylorfurt, AK 97791',\n  'mail': 'jsalazar@gmail.com',\n  'jobs': ['Energy engineer',\n   'Engineer, site',\n   'Environmental health practitioner',\n   'Biomedical scientist',\n   'Jewellery designer'],\n  'id': 35193},\n {'username': 'vickitaylor',\n  'name': 'Cheryl Lewis',\n  'sex': 'F',\n  'address': '66992 Welch Brooks\\nMarshallshire, ID 56004',\n  'mail': 'bhudson@gmail.com',\n  'jobs': ['Music therapist',\n   'Volunteer coordinator',\n   'Designer, interior/spatial'],\n  'id': 91970},\n {'username': 'sheilaadams',\n  'name': 'Julia Allen',\n  'sex': 'F',\n  'address': 'Unit 1632 Box 2971\\nDPO AE 23297',\n  'mail': 'darren44@yahoo.com',\n  'jobs': ['Management consultant',\n   'Engineer, structural',\n   'Lecturer, higher education',\n   'Theatre manager',\n   'Designer, textile'],\n  'id': 1848091}]"
     },
     "execution_count": 199,
     "metadata": {},
     "output_type": "execute_result"
    }
   ],
   "source": [
    "contributors = read_json('data/contributorsSample.json')\n",
    "contributors[:3]"
   ],
   "metadata": {
    "collapsed": false,
    "pycharm": {
     "name": "#%%\n"
    }
   }
  },
  {
   "cell_type": "markdown",
   "metadata": {},
   "source": [
    "1.2 Выведите уникальные почтовые домены, содержащиеся в почтовых адресах людей"
   ]
  },
  {
   "cell_type": "code",
   "execution_count": 200,
   "outputs": [
    {
     "data": {
      "text/plain": "{'gmail.com', 'hotmail.com', 'yahoo.com'}"
     },
     "execution_count": 200,
     "metadata": {},
     "output_type": "execute_result"
    }
   ],
   "source": [
    "mail_domains = set()\n",
    "for contributor in contributors:\n",
    "    mail_domains.add(contributor['mail'].split('@')[-1])\n",
    "\n",
    "mail_domains"
   ],
   "metadata": {
    "collapsed": false,
    "pycharm": {
     "name": "#%%\n"
    }
   }
  },
  {
   "cell_type": "markdown",
   "metadata": {},
   "source": [
    "1.3 Напишите функцию, которая по `username` ищет человека и выводит информацию о нем. Если пользователь с заданным `username` отсутствует, возбудите исключение `ValueError`"
   ]
  },
  {
   "cell_type": "code",
   "execution_count": 201,
   "outputs": [],
   "source": [
    "# допущение: username является уникальным\n",
    "indexed_data = {contributor['username']: contributor for contributor in contributors}"
   ],
   "metadata": {
    "collapsed": false,
    "pycharm": {
     "name": "#%%\n"
    }
   }
  },
  {
   "cell_type": "code",
   "execution_count": 202,
   "outputs": [],
   "source": [
    "def find_by_username(username: str) -> dict:\n",
    "    contributor = indexed_data.get(username)\n",
    "    if contributor is None:\n",
    "        raise ValueError(f'Контрибьютер с {username=} не найден.')\n",
    "\n",
    "    return contributor\n"
   ],
   "metadata": {
    "collapsed": false,
    "pycharm": {
     "name": "#%%\n"
    }
   }
  },
  {
   "cell_type": "code",
   "execution_count": 203,
   "outputs": [
    {
     "data": {
      "text/plain": "{'username': 'uhebert',\n 'name': 'Lindsey Nguyen',\n 'sex': 'F',\n 'address': '01261 Cameron Spring\\nTaylorfurt, AK 97791',\n 'mail': 'jsalazar@gmail.com',\n 'jobs': ['Energy engineer',\n  'Engineer, site',\n  'Environmental health practitioner',\n  'Biomedical scientist',\n  'Jewellery designer'],\n 'id': 35193}"
     },
     "execution_count": 203,
     "metadata": {},
     "output_type": "execute_result"
    }
   ],
   "source": [
    "find_by_username('uhebert')"
   ],
   "metadata": {
    "collapsed": false,
    "pycharm": {
     "name": "#%%\n"
    }
   }
  },
  {
   "cell_type": "code",
   "execution_count": 204,
   "outputs": [
    {
     "name": "stdout",
     "output_type": "stream",
     "text": [
      "Контрибьютер с username='aabbcc' не найден.\n"
     ]
    }
   ],
   "source": [
    "try:\n",
    "    find_by_username('aabbcc')\n",
    "except ValueError as e:\n",
    "    print(e)"
   ],
   "metadata": {
    "collapsed": false,
    "pycharm": {
     "name": "#%%\n"
    }
   }
  },
  {
   "cell_type": "markdown",
   "metadata": {},
   "source": [
    "1.4 Посчитайте, сколько мужчин и женщин присутсвует в этом наборе данных."
   ]
  },
  {
   "cell_type": "code",
   "execution_count": 205,
   "outputs": [],
   "source": [
    "def count_by_sex(data):\n",
    "    counter = defaultdict(int)  # спасибо, что я знаю тебя\n",
    "    for contributor in data:\n",
    "        counter[contributor['sex'].upper()] += 1\n",
    "\n",
    "    return {'M': counter['M'], 'F': counter['F']}"
   ],
   "metadata": {
    "collapsed": false,
    "pycharm": {
     "name": "#%%\n"
    }
   }
  },
  {
   "cell_type": "code",
   "execution_count": 206,
   "outputs": [
    {
     "data": {
      "text/plain": "{'M': 2064, 'F': 2136}"
     },
     "execution_count": 206,
     "metadata": {},
     "output_type": "execute_result"
    }
   ],
   "source": [
    "count_by_sex(contributors)"
   ],
   "metadata": {
    "collapsed": false,
    "pycharm": {
     "name": "#%%\n"
    }
   }
  },
  {
   "cell_type": "markdown",
   "metadata": {},
   "source": [
    "1.5 Создайте `pd.DataFrame` `contributors`, имеющий столбцы `id`, `username` и `sex`."
   ]
  },
  {
   "cell_type": "code",
   "execution_count": 207,
   "outputs": [
    {
     "data": {
      "text/plain": "           id       username sex\n0       35193        uhebert   F\n1       91970    vickitaylor   F\n2     1848091    sheilaadams   F\n3       50969       nicole82   F\n4      676820         jean67   M\n...       ...            ...  ..\n4195   423555  stevenspencer   F\n4196    35251      rwilliams   M\n4197   135887      lmartinez   F\n4198   212714     brendahill   M\n4199   344321       mistyray   F\n\n[4200 rows x 3 columns]",
      "text/html": "<div>\n<style scoped>\n    .dataframe tbody tr th:only-of-type {\n        vertical-align: middle;\n    }\n\n    .dataframe tbody tr th {\n        vertical-align: top;\n    }\n\n    .dataframe thead th {\n        text-align: right;\n    }\n</style>\n<table border=\"1\" class=\"dataframe\">\n  <thead>\n    <tr style=\"text-align: right;\">\n      <th></th>\n      <th>id</th>\n      <th>username</th>\n      <th>sex</th>\n    </tr>\n  </thead>\n  <tbody>\n    <tr>\n      <th>0</th>\n      <td>35193</td>\n      <td>uhebert</td>\n      <td>F</td>\n    </tr>\n    <tr>\n      <th>1</th>\n      <td>91970</td>\n      <td>vickitaylor</td>\n      <td>F</td>\n    </tr>\n    <tr>\n      <th>2</th>\n      <td>1848091</td>\n      <td>sheilaadams</td>\n      <td>F</td>\n    </tr>\n    <tr>\n      <th>3</th>\n      <td>50969</td>\n      <td>nicole82</td>\n      <td>F</td>\n    </tr>\n    <tr>\n      <th>4</th>\n      <td>676820</td>\n      <td>jean67</td>\n      <td>M</td>\n    </tr>\n    <tr>\n      <th>...</th>\n      <td>...</td>\n      <td>...</td>\n      <td>...</td>\n    </tr>\n    <tr>\n      <th>4195</th>\n      <td>423555</td>\n      <td>stevenspencer</td>\n      <td>F</td>\n    </tr>\n    <tr>\n      <th>4196</th>\n      <td>35251</td>\n      <td>rwilliams</td>\n      <td>M</td>\n    </tr>\n    <tr>\n      <th>4197</th>\n      <td>135887</td>\n      <td>lmartinez</td>\n      <td>F</td>\n    </tr>\n    <tr>\n      <th>4198</th>\n      <td>212714</td>\n      <td>brendahill</td>\n      <td>M</td>\n    </tr>\n    <tr>\n      <th>4199</th>\n      <td>344321</td>\n      <td>mistyray</td>\n      <td>F</td>\n    </tr>\n  </tbody>\n</table>\n<p>4200 rows × 3 columns</p>\n</div>"
     },
     "execution_count": 207,
     "metadata": {},
     "output_type": "execute_result"
    }
   ],
   "source": [
    "contributors_df = pd.DataFrame([\n",
    "    {\n",
    "        'id': contributor['id'],\n",
    "        'username': contributor['username'],\n",
    "        'sex': contributor['sex']\n",
    "    }\n",
    "    for contributor in contributors\n",
    "])\n",
    "\n",
    "contributors_df"
   ],
   "metadata": {
    "collapsed": false,
    "pycharm": {
     "name": "#%%\n"
    }
   }
  },
  {
   "cell_type": "markdown",
   "metadata": {},
   "source": [
    "1.6 Загрузите данные из файла `recipes_sample.csv` (__ЛР2__) в таблицу `recipes`. Объедините `recipes` с таблицей `contributors` с сохранением строк в том случае, если информация о человеке отсутствует в JSON-файле. Для скольких человек информация отсутствует? "
   ]
  },
  {
   "cell_type": "code",
   "execution_count": 208,
   "outputs": [
    {
     "data": {
      "text/plain": "                                               name      id  minutes  \\\n0             george s at the cove  black bean soup   44123       90   \n1                healthy for them  yogurt popsicles   67664       10   \n2                      i can t believe it s spinach   38798       30   \n3                              italian  gut busters   35173       45   \n4          love is in the air  beef fondue   sauces   84797       25   \n...                                             ...     ...      ...   \n29995  zurie s holey rustic olive and cheddar bread  267661       80   \n29996          zwetschgenkuchen  bavarian plum cake  386977      240   \n29997   zwiebelkuchen   southwest german onion cake  103312       75   \n29998                                   zydeco soup  486161       60   \n29999        cookies by design   cookies on a stick  298512       29   \n\n       contributor_id  submitted  n_steps  \\\n0               35193 2002-10-25      NaN   \n1               91970 2003-07-26      NaN   \n2                1533 2002-08-29      NaN   \n3               22724 2002-07-27      NaN   \n4                4470 2004-02-23      4.0   \n...               ...        ...      ...   \n29995          200862 2007-11-25     16.0   \n29996          177443 2009-08-24      NaN   \n29997          161745 2004-11-03      NaN   \n29998          227978 2012-08-29      NaN   \n29999          506822 2008-04-15      9.0   \n\n                                             description  n_ingredients  \n0      an original recipe created by chef scott meska...           18.0  \n1      my children and their friends ask for my homem...            NaN  \n2                these were so go, it surprised even me.            8.0  \n3      my sister-in-law made these for us at a family...            NaN  \n4      i think a fondue is a very romantic casual din...            NaN  \n...                                                  ...            ...  \n29995  this is based on a french recipe but i changed...           10.0  \n29996  this is a traditional fresh plum cake, thought...           11.0  \n29997  this is a traditional late summer early fall s...            NaN  \n29998  this is a delicious soup that i originally fou...            NaN  \n29999  i've heard of the 'cookies by design' company,...           10.0  \n\n[30000 rows x 8 columns]",
      "text/html": "<div>\n<style scoped>\n    .dataframe tbody tr th:only-of-type {\n        vertical-align: middle;\n    }\n\n    .dataframe tbody tr th {\n        vertical-align: top;\n    }\n\n    .dataframe thead th {\n        text-align: right;\n    }\n</style>\n<table border=\"1\" class=\"dataframe\">\n  <thead>\n    <tr style=\"text-align: right;\">\n      <th></th>\n      <th>name</th>\n      <th>id</th>\n      <th>minutes</th>\n      <th>contributor_id</th>\n      <th>submitted</th>\n      <th>n_steps</th>\n      <th>description</th>\n      <th>n_ingredients</th>\n    </tr>\n  </thead>\n  <tbody>\n    <tr>\n      <th>0</th>\n      <td>george s at the cove  black bean soup</td>\n      <td>44123</td>\n      <td>90</td>\n      <td>35193</td>\n      <td>2002-10-25</td>\n      <td>NaN</td>\n      <td>an original recipe created by chef scott meska...</td>\n      <td>18.0</td>\n    </tr>\n    <tr>\n      <th>1</th>\n      <td>healthy for them  yogurt popsicles</td>\n      <td>67664</td>\n      <td>10</td>\n      <td>91970</td>\n      <td>2003-07-26</td>\n      <td>NaN</td>\n      <td>my children and their friends ask for my homem...</td>\n      <td>NaN</td>\n    </tr>\n    <tr>\n      <th>2</th>\n      <td>i can t believe it s spinach</td>\n      <td>38798</td>\n      <td>30</td>\n      <td>1533</td>\n      <td>2002-08-29</td>\n      <td>NaN</td>\n      <td>these were so go, it surprised even me.</td>\n      <td>8.0</td>\n    </tr>\n    <tr>\n      <th>3</th>\n      <td>italian  gut busters</td>\n      <td>35173</td>\n      <td>45</td>\n      <td>22724</td>\n      <td>2002-07-27</td>\n      <td>NaN</td>\n      <td>my sister-in-law made these for us at a family...</td>\n      <td>NaN</td>\n    </tr>\n    <tr>\n      <th>4</th>\n      <td>love is in the air  beef fondue   sauces</td>\n      <td>84797</td>\n      <td>25</td>\n      <td>4470</td>\n      <td>2004-02-23</td>\n      <td>4.0</td>\n      <td>i think a fondue is a very romantic casual din...</td>\n      <td>NaN</td>\n    </tr>\n    <tr>\n      <th>...</th>\n      <td>...</td>\n      <td>...</td>\n      <td>...</td>\n      <td>...</td>\n      <td>...</td>\n      <td>...</td>\n      <td>...</td>\n      <td>...</td>\n    </tr>\n    <tr>\n      <th>29995</th>\n      <td>zurie s holey rustic olive and cheddar bread</td>\n      <td>267661</td>\n      <td>80</td>\n      <td>200862</td>\n      <td>2007-11-25</td>\n      <td>16.0</td>\n      <td>this is based on a french recipe but i changed...</td>\n      <td>10.0</td>\n    </tr>\n    <tr>\n      <th>29996</th>\n      <td>zwetschgenkuchen  bavarian plum cake</td>\n      <td>386977</td>\n      <td>240</td>\n      <td>177443</td>\n      <td>2009-08-24</td>\n      <td>NaN</td>\n      <td>this is a traditional fresh plum cake, thought...</td>\n      <td>11.0</td>\n    </tr>\n    <tr>\n      <th>29997</th>\n      <td>zwiebelkuchen   southwest german onion cake</td>\n      <td>103312</td>\n      <td>75</td>\n      <td>161745</td>\n      <td>2004-11-03</td>\n      <td>NaN</td>\n      <td>this is a traditional late summer early fall s...</td>\n      <td>NaN</td>\n    </tr>\n    <tr>\n      <th>29998</th>\n      <td>zydeco soup</td>\n      <td>486161</td>\n      <td>60</td>\n      <td>227978</td>\n      <td>2012-08-29</td>\n      <td>NaN</td>\n      <td>this is a delicious soup that i originally fou...</td>\n      <td>NaN</td>\n    </tr>\n    <tr>\n      <th>29999</th>\n      <td>cookies by design   cookies on a stick</td>\n      <td>298512</td>\n      <td>29</td>\n      <td>506822</td>\n      <td>2008-04-15</td>\n      <td>9.0</td>\n      <td>i've heard of the 'cookies by design' company,...</td>\n      <td>10.0</td>\n    </tr>\n  </tbody>\n</table>\n<p>30000 rows × 8 columns</p>\n</div>"
     },
     "execution_count": 208,
     "metadata": {},
     "output_type": "execute_result"
    }
   ],
   "source": [
    "recipes_df = pd.read_csv('data/recipes_sample.csv', sep=',', parse_dates=['submitted'])\n",
    "recipes_df"
   ],
   "metadata": {
    "collapsed": false,
    "pycharm": {
     "name": "#%%\n"
    }
   }
  },
  {
   "cell_type": "code",
   "execution_count": 209,
   "outputs": [
    {
     "data": {
      "text/plain": "                                          name    id_x  minutes  \\\n0        george s at the cove  black bean soup   44123       90   \n1           healthy for them  yogurt popsicles   67664       10   \n2                 i can t believe it s spinach   38798       30   \n3                         italian  gut busters   35173       45   \n4     love is in the air  beef fondue   sauces   84797       25   \n...                                        ...     ...      ...   \n8399                           zucchini strips  279769       30   \n8400        zucchini with bacon corn   peppers  326105       45   \n8401      zucchini with bell pepper and tomato  363362       13   \n8402                 zucchini with serrano ham  162411       15   \n8403                  zucchini potato pancakes  180833       45   \n\n      contributor_id  submitted  n_steps  \\\n0              35193 2002-10-25      NaN   \n1              91970 2003-07-26      NaN   \n2               1533 2002-08-29      NaN   \n3              22724 2002-07-27      NaN   \n4               4470 2004-02-23      4.0   \n...              ...        ...      ...   \n8399          522304 2008-01-18      8.0   \n8400          896136 2008-09-19      8.0   \n8401          344321 2009-03-29     19.0   \n8402          152500 2006-03-31      6.0   \n8403          186118 2006-08-07      NaN   \n\n                                            description  n_ingredients  \\\n0     an original recipe created by chef scott meska...           18.0   \n1     my children and their friends ask for my homem...            NaN   \n2               these were so go, it surprised even me.            8.0   \n3     my sister-in-law made these for us at a family...            NaN   \n4     i think a fondue is a very romantic casual din...            NaN   \n...                                                 ...            ...   \n8399              spicy, salty, crispy zucchini strips!            4.0   \n8400  this is a very colorful addition to any meal. ...            7.0   \n8401  the weather has been turning warmer and i have...            8.0   \n8402  this dish is from tim malzer, a german chef wh...            5.0   \n8403  this recipe was posted in our local newspaper,...            9.0   \n\n          id_y     username  sex  \n0      35193.0      uhebert    F  \n1      91970.0  vickitaylor    F  \n2          NaN          NaN  NaN  \n3          NaN          NaN  NaN  \n4          NaN          NaN  NaN  \n...        ...          ...  ...  \n8399       NaN          NaN  NaN  \n8400       NaN          NaN  NaN  \n8401  344321.0     mistyray    F  \n8402       NaN          NaN  NaN  \n8403       NaN          NaN  NaN  \n\n[8404 rows x 11 columns]",
      "text/html": "<div>\n<style scoped>\n    .dataframe tbody tr th:only-of-type {\n        vertical-align: middle;\n    }\n\n    .dataframe tbody tr th {\n        vertical-align: top;\n    }\n\n    .dataframe thead th {\n        text-align: right;\n    }\n</style>\n<table border=\"1\" class=\"dataframe\">\n  <thead>\n    <tr style=\"text-align: right;\">\n      <th></th>\n      <th>name</th>\n      <th>id_x</th>\n      <th>minutes</th>\n      <th>contributor_id</th>\n      <th>submitted</th>\n      <th>n_steps</th>\n      <th>description</th>\n      <th>n_ingredients</th>\n      <th>id_y</th>\n      <th>username</th>\n      <th>sex</th>\n    </tr>\n  </thead>\n  <tbody>\n    <tr>\n      <th>0</th>\n      <td>george s at the cove  black bean soup</td>\n      <td>44123</td>\n      <td>90</td>\n      <td>35193</td>\n      <td>2002-10-25</td>\n      <td>NaN</td>\n      <td>an original recipe created by chef scott meska...</td>\n      <td>18.0</td>\n      <td>35193.0</td>\n      <td>uhebert</td>\n      <td>F</td>\n    </tr>\n    <tr>\n      <th>1</th>\n      <td>healthy for them  yogurt popsicles</td>\n      <td>67664</td>\n      <td>10</td>\n      <td>91970</td>\n      <td>2003-07-26</td>\n      <td>NaN</td>\n      <td>my children and their friends ask for my homem...</td>\n      <td>NaN</td>\n      <td>91970.0</td>\n      <td>vickitaylor</td>\n      <td>F</td>\n    </tr>\n    <tr>\n      <th>2</th>\n      <td>i can t believe it s spinach</td>\n      <td>38798</td>\n      <td>30</td>\n      <td>1533</td>\n      <td>2002-08-29</td>\n      <td>NaN</td>\n      <td>these were so go, it surprised even me.</td>\n      <td>8.0</td>\n      <td>NaN</td>\n      <td>NaN</td>\n      <td>NaN</td>\n    </tr>\n    <tr>\n      <th>3</th>\n      <td>italian  gut busters</td>\n      <td>35173</td>\n      <td>45</td>\n      <td>22724</td>\n      <td>2002-07-27</td>\n      <td>NaN</td>\n      <td>my sister-in-law made these for us at a family...</td>\n      <td>NaN</td>\n      <td>NaN</td>\n      <td>NaN</td>\n      <td>NaN</td>\n    </tr>\n    <tr>\n      <th>4</th>\n      <td>love is in the air  beef fondue   sauces</td>\n      <td>84797</td>\n      <td>25</td>\n      <td>4470</td>\n      <td>2004-02-23</td>\n      <td>4.0</td>\n      <td>i think a fondue is a very romantic casual din...</td>\n      <td>NaN</td>\n      <td>NaN</td>\n      <td>NaN</td>\n      <td>NaN</td>\n    </tr>\n    <tr>\n      <th>...</th>\n      <td>...</td>\n      <td>...</td>\n      <td>...</td>\n      <td>...</td>\n      <td>...</td>\n      <td>...</td>\n      <td>...</td>\n      <td>...</td>\n      <td>...</td>\n      <td>...</td>\n      <td>...</td>\n    </tr>\n    <tr>\n      <th>8399</th>\n      <td>zucchini strips</td>\n      <td>279769</td>\n      <td>30</td>\n      <td>522304</td>\n      <td>2008-01-18</td>\n      <td>8.0</td>\n      <td>spicy, salty, crispy zucchini strips!</td>\n      <td>4.0</td>\n      <td>NaN</td>\n      <td>NaN</td>\n      <td>NaN</td>\n    </tr>\n    <tr>\n      <th>8400</th>\n      <td>zucchini with bacon corn   peppers</td>\n      <td>326105</td>\n      <td>45</td>\n      <td>896136</td>\n      <td>2008-09-19</td>\n      <td>8.0</td>\n      <td>this is a very colorful addition to any meal. ...</td>\n      <td>7.0</td>\n      <td>NaN</td>\n      <td>NaN</td>\n      <td>NaN</td>\n    </tr>\n    <tr>\n      <th>8401</th>\n      <td>zucchini with bell pepper and tomato</td>\n      <td>363362</td>\n      <td>13</td>\n      <td>344321</td>\n      <td>2009-03-29</td>\n      <td>19.0</td>\n      <td>the weather has been turning warmer and i have...</td>\n      <td>8.0</td>\n      <td>344321.0</td>\n      <td>mistyray</td>\n      <td>F</td>\n    </tr>\n    <tr>\n      <th>8402</th>\n      <td>zucchini with serrano ham</td>\n      <td>162411</td>\n      <td>15</td>\n      <td>152500</td>\n      <td>2006-03-31</td>\n      <td>6.0</td>\n      <td>this dish is from tim malzer, a german chef wh...</td>\n      <td>5.0</td>\n      <td>NaN</td>\n      <td>NaN</td>\n      <td>NaN</td>\n    </tr>\n    <tr>\n      <th>8403</th>\n      <td>zucchini potato pancakes</td>\n      <td>180833</td>\n      <td>45</td>\n      <td>186118</td>\n      <td>2006-08-07</td>\n      <td>NaN</td>\n      <td>this recipe was posted in our local newspaper,...</td>\n      <td>9.0</td>\n      <td>NaN</td>\n      <td>NaN</td>\n      <td>NaN</td>\n    </tr>\n  </tbody>\n</table>\n<p>8404 rows × 11 columns</p>\n</div>"
     },
     "execution_count": 209,
     "metadata": {},
     "output_type": "execute_result"
    }
   ],
   "source": [
    "recipes_contributors_df = pd.merge(\n",
    "    recipes_df.drop_duplicates('contributor_id'),\n",
    "    contributors_df,\n",
    "    how='left',\n",
    "    left_on='contributor_id',\n",
    "    right_on='id'\n",
    ")\n",
    "\n",
    "recipes_contributors_df"
   ],
   "metadata": {
    "collapsed": false,
    "pycharm": {
     "name": "#%%\n"
    }
   }
  },
  {
   "cell_type": "code",
   "execution_count": 210,
   "outputs": [
    {
     "data": {
      "text/plain": "4204"
     },
     "execution_count": 210,
     "metadata": {},
     "output_type": "execute_result"
    }
   ],
   "source": [
    "recipes_contributors_df['id_y'].isna().sum()"
   ],
   "metadata": {
    "collapsed": false,
    "pycharm": {
     "name": "#%%\n"
    }
   }
  },
  {
   "cell_type": "markdown",
   "metadata": {},
   "source": [
    "### pickle"
   ]
  },
  {
   "cell_type": "markdown",
   "metadata": {},
   "source": [
    "2.1 На основе файла `contributors_sample.json` создайте словарь следующего вида: \n",
    "```\n",
    "{\n",
    "    должность: [список username людей, занимавших эту должность]\n",
    "}\n",
    "```"
   ]
  },
  {
   "cell_type": "code",
   "execution_count": 211,
   "outputs": [
    {
     "name": "stdout",
     "output_type": "stream",
     "text": [
      "{'energy engineer': ['uhebert', 'annmoore', 'garysilva', 'martinezashley', 'sextonsheila', 'pjames', 'smithjonathan', 'wardjames', 'cwheeler', 'ucarlson', 'robert71', 'johnsontheresa', 'amanda41', 'stacey47', 'timothynelson', 'timothynelson', 'rogersmichael', 'melissa94', 'wmcdaniel', 'charles74', 'smithjennifer', 'clintonjones'], 'engineer, site': ['uhebert', 'nancy12', 'andrea03', 'catherineross', 'wesley32', 'natalieross', 'rossdoris', 'christophersmith', 'dbooker', 'ericarobertson', 'trantricia', 'tpugh', 'jasonvelez', 'samantha36', 'brandidaniels', 'tenglish', 'reyesbrett', 'austin18', 'vjohnson', 'zmejia', 'daniel04', 'cynthia20', 'morgan15', 'avaldez', 'jessica92', 'laurieholloway', 'baileyvictoria'], 'environmental health practitioner': ['uhebert', 'jonathanchristian', 'xjohnson', 'dsmith', 'james01', 'nancytaylor', 'ztaylor', 'andrewwoods', 'susan54', 'fmaldonado', 'james74', 'bakerjacob', 'stephanie81', 'whitejoseph', 'qolson', 'hknox', 'gonzalesdaniel', 'tranronald', 'jessegreen', 'stephanie69', 'ellisdennis', 'melaniejohnson', 'bradleyalexander', 'chadandrews', 'thomas33', 'john93', 'tanderson', 'dward', 'kathleenbarnett']}\n"
     ]
    }
   ],
   "source": [
    "job_people = defaultdict(list)\n",
    "for contributor in contributors:\n",
    "    for job in contributor['jobs']:\n",
    "        job_people[job.strip().casefold()].append(contributor['username'])\n",
    "\n",
    "print({k: v for k, v in list(job_people.items())[:3]})"
   ],
   "metadata": {
    "collapsed": false,
    "pycharm": {
     "name": "#%%\n"
    }
   }
  },
  {
   "cell_type": "markdown",
   "metadata": {},
   "source": [
    "2.2 Сохраните результаты в файл `job_people.pickle` и в файл `job_people.json` с использованием форматов pickle и JSON соответственно. Сравните объемы получившихся файлов. При сохранении в JSON укажите аргумент `indent`."
   ]
  },
  {
   "cell_type": "code",
   "execution_count": 212,
   "outputs": [],
   "source": [
    "pickle_path = 'output/job_people.pickle'\n",
    "write_pickle(pickle_path, job_people)"
   ],
   "metadata": {
    "collapsed": false,
    "pycharm": {
     "name": "#%%\n"
    }
   }
  },
  {
   "cell_type": "code",
   "execution_count": 213,
   "outputs": [],
   "source": [
    "json_path = 'output/job_people.json'\n",
    "write_json(json_path, job_people)"
   ],
   "metadata": {
    "collapsed": false,
    "pycharm": {
     "name": "#%%\n"
    }
   }
  },
  {
   "cell_type": "code",
   "execution_count": 214,
   "outputs": [
    {
     "name": "stdout",
     "output_type": "stream",
     "text": [
      "pickle: 132393 bytes\n",
      "json: 407711 bytes\n"
     ]
    }
   ],
   "source": [
    "print(f'pickle: {Path(pickle_path).stat().st_size} bytes')\n",
    "print(f'json: {Path(json_path).stat().st_size} bytes')"
   ],
   "metadata": {
    "collapsed": false,
    "pycharm": {
     "name": "#%%\n"
    }
   }
  },
  {
   "cell_type": "markdown",
   "metadata": {},
   "source": [
    "2.3 Считайте файл `job_people.pickle` и продемонстрируйте, что данные считались корректно. "
   ]
  },
  {
   "cell_type": "code",
   "execution_count": 215,
   "outputs": [
    {
     "name": "stdout",
     "output_type": "stream",
     "text": [
      "{'energy engineer': ['uhebert', 'annmoore', 'garysilva', 'martinezashley', 'sextonsheila', 'pjames', 'smithjonathan', 'wardjames', 'cwheeler', 'ucarlson', 'robert71', 'johnsontheresa', 'amanda41', 'stacey47', 'timothynelson', 'timothynelson', 'rogersmichael', 'melissa94', 'wmcdaniel', 'charles74', 'smithjennifer', 'clintonjones'], 'engineer, site': ['uhebert', 'nancy12', 'andrea03', 'catherineross', 'wesley32', 'natalieross', 'rossdoris', 'christophersmith', 'dbooker', 'ericarobertson', 'trantricia', 'tpugh', 'jasonvelez', 'samantha36', 'brandidaniels', 'tenglish', 'reyesbrett', 'austin18', 'vjohnson', 'zmejia', 'daniel04', 'cynthia20', 'morgan15', 'avaldez', 'jessica92', 'laurieholloway', 'baileyvictoria'], 'environmental health practitioner': ['uhebert', 'jonathanchristian', 'xjohnson', 'dsmith', 'james01', 'nancytaylor', 'ztaylor', 'andrewwoods', 'susan54', 'fmaldonado', 'james74', 'bakerjacob', 'stephanie81', 'whitejoseph', 'qolson', 'hknox', 'gonzalesdaniel', 'tranronald', 'jessegreen', 'stephanie69', 'ellisdennis', 'melaniejohnson', 'bradleyalexander', 'chadandrews', 'thomas33', 'john93', 'tanderson', 'dward', 'kathleenbarnett']}\n"
     ]
    }
   ],
   "source": [
    "job_people_pickle = read_pickle(pickle_path)\n",
    "print({k: v for k, v in list(job_people_pickle.items())[:3]})"
   ],
   "metadata": {
    "collapsed": false,
    "pycharm": {
     "name": "#%%\n"
    }
   }
  },
  {
   "cell_type": "markdown",
   "metadata": {},
   "source": [
    "### XML"
   ]
  },
  {
   "cell_type": "markdown",
   "metadata": {},
   "source": [
    "3.1 По данным файла `steps_sample.xml` сформируйте словарь с шагами по каждому рецепту вида `{id_рецепта: [\"шаг1\", \"шаг2\"]}`. Сохраните этот словарь в файл `steps_sample.json`"
   ]
  },
  {
   "cell_type": "code",
   "execution_count": 233,
   "outputs": [],
   "source": [
    "steps_sample_soup = read_xml('data/steps_sample.xml')"
   ],
   "metadata": {
    "collapsed": false,
    "pycharm": {
     "name": "#%%\n"
    }
   }
  },
  {
   "cell_type": "code",
   "execution_count": 234,
   "outputs": [],
   "source": [
    "recipes_lst = steps_sample_soup.find_all('recipe')"
   ],
   "metadata": {
    "collapsed": false,
    "pycharm": {
     "name": "#%%\n"
    }
   }
  },
  {
   "cell_type": "code",
   "execution_count": 235,
   "outputs": [],
   "source": [
    "recipe_steps = {}\n",
    "for recipe in recipes_lst:\n",
    "    recipe_steps[recipe.find('id').text] = [\n",
    "        {'description': step.text,\n",
    "         'has_minutes': step.attrs.get('has_minutes')}\n",
    "        for step in recipe.find_all('step')\n",
    "    ]"
   ],
   "metadata": {
    "collapsed": false,
    "pycharm": {
     "name": "#%%\n"
    }
   }
  },
  {
   "cell_type": "code",
   "execution_count": 236,
   "outputs": [
    {
     "data": {
      "text/plain": "{'44123': [{'description': 'in 1 / 4 cup butter , saute carrots , onion , celery and broccoli stems for 5 minutes',\n   'has_minutes': '1'},\n  {'description': 'add thyme , oregano and basil', 'has_minutes': None},\n  {'description': 'saute 5 minutes more', 'has_minutes': '1'},\n  {'description': 'add wine and deglaze pan', 'has_minutes': None},\n  {'description': 'add hot chicken stock and reduce by one-third',\n   'has_minutes': None},\n  {'description': 'add worcestershire sauce , tabasco , smoked chicken , beans and broccoli florets',\n   'has_minutes': None},\n  {'description': 'simmer 5 minutes', 'has_minutes': '1'},\n  {'description': 'add cream , simmer 5 minutes more and season to taste',\n   'has_minutes': '1'},\n  {'description': 'drop in remaining butter , piece by piece , stirring until melted and serve immediately',\n   'has_minutes': None},\n  {'description': 'smoked chicken: on a covered grill , slightly smoke boneless chicken , cooking to medium rare',\n   'has_minutes': None},\n  {'description': 'chef meskan uses applewood chips and does not allow the grill to become too hot',\n   'has_minutes': None}],\n '67664': [{'description': 'mix all the ingredients using a blender',\n   'has_minutes': None},\n  {'description': 'pour into popsicle molds', 'has_minutes': None},\n  {'description': 'freeze and enjoy !', 'has_minutes': None}],\n '38798': [{'description': 'combine all ingredients in a large bowl and mix well',\n   'has_minutes': None},\n  {'description': 'shape into one-inch balls', 'has_minutes': None},\n  {'description': 'cover and refrigerate or freeze until ready to bake',\n   'has_minutes': None},\n  {'description': 'preheat oven to 350 degrees', 'has_minutes': None},\n  {'description': 'place on ungreased baking sheet and bake until light brown',\n   'has_minutes': None}]}"
     },
     "execution_count": 236,
     "metadata": {},
     "output_type": "execute_result"
    }
   ],
   "source": [
    "{k: v for k, v in list(recipe_steps.items())[:3]}"
   ],
   "metadata": {
    "collapsed": false,
    "pycharm": {
     "name": "#%%\n"
    }
   }
  },
  {
   "cell_type": "code",
   "execution_count": 237,
   "outputs": [],
   "source": [
    "write_json('output/steps_sample.json', recipe_steps)"
   ],
   "metadata": {
    "collapsed": false,
    "pycharm": {
     "name": "#%%\n"
    }
   }
  },
  {
   "cell_type": "markdown",
   "metadata": {},
   "source": [
    "3.2 По данным файла `steps_sample.xml` сформируйте словарь следующего вида: `кол-во_шагов_в_рецепте: [список_id_рецептов]`"
   ]
  },
  {
   "cell_type": "code",
   "execution_count": 241,
   "outputs": [],
   "source": [
    "step_recipes = defaultdict(list)\n",
    "for recipe in recipes_lst:\n",
    "    step_recipes[len(recipe.find_all('step'))].append(recipe.find('id').text)"
   ],
   "metadata": {
    "collapsed": false,
    "pycharm": {
     "name": "#%%\n"
    }
   }
  },
  {
   "cell_type": "code",
   "execution_count": 243,
   "outputs": [
    {
     "name": "stdout",
     "output_type": "stream",
     "text": [
      "{11: {'171343', '221913', '431305', '190403', '410949', '239061', '404918', '14835', '36806', '172973', '201442', '39137', '63116', '225997', '90884', '64785', '22104', '64701', '118337', '410350', '95516', '251751', '71244', '59256', '356614', '197474', '165473', '503754', '48452', '279797', '108062', '394765', '120331', '22917', '193649', '334290', '120391', '186466', '332582', '461081', '141506', '88306', '243374', '183829', '336795', '277319', '113115', '286105', '107741', '68585', '302367', '34510', '286928', '36950', '136815', '104098', '45213', '228914', '316435', '86534', '409348', '90005', '236900', '19726', '447194', '172164', '384801', '288003', '102457', '418188', '245773', '71804', '109762', '2771', '159934', '246783', '465662', '203423', '236367', '477534', '84616', '438160', '443215', '503121', '83572', '176862', '175109', '427317', '181091', '104222', '171728', '104074', '253676', '240190', '326251', '110022', '399476', '40178', '136378', '34760', '209406', '229779', '404889', '300638', '171041', '515641', '47085', '294898', '205831', '514138', '196814', '170037', '359405', '403441', '57995', '249006', '202352', '346405', '188316', '421620', '35615', '253341', '89629', '204491', '114204', '53272', '460434', '117548', '32571', '157276', '51412', '65276', '48378', '285449', '58633', '277843', '295199', '254361', '431954', '345304', '200097', '246521', '308706', '399381', '252216', '450834', '251550', '81769', '343493', '414491', '133407', '10183', '98691', '113034', '205412', '259088', '199510', '312998', '190872', '392943', '438227', '67617', '463321', '159843', '39375', '224084', '64699', '148407', '34490', '50851', '150971', '156107', '241671', '338841', '68452', '257376', '211765', '173126', '40045', '207998', '453396', '481770', '393637', '417170', '458584', '279465', '483179', '105146', '248717', '369021', '375440', '385797', '179690', '143396', '373788', '122546', '464049', '330891', '51801', '426825', '142043', '197061', '6913', '465388', '258779', '337084', '145769', '104430', '87801', '364203', '418258', '336724', '216859', '221083', '387741', '74520', '101120', '255261', '388695', '373383', '18993', '313366', '146874', '482707', '353660', '345347', '191359', '326397', '338522', '393496', '28558', '384385', '112853', '454850', '483225', '122070', '285113', '329426', '12368', '265185', '383729', '177713', '327292', '130768', '30521', '504422', '465392', '381211', '502882', '290003', '14637', '316579', '52194', '104902', '95609', '31199', '272941', '346491', '103408', '35619', '287813', '119804', '295769', '433349', '265632', '373582', '41223', '467557', '244618', '140062', '127458', '360136', '274121', '19708', '482313', '138771', '206184', '294205', '358565', '64005', '155815', '134829', '332641', '291109', '62166', '182403', '252028', '449461', '147372', '153538', '263802', '505610', '138090', '260298', '34833', '80067', '224714', '62530', '133987', '398355', '57208', '114423', '23552', '317022', '206229', '47264', '211581', '74951', '304784', '327793', '68566', '457195', '177680', '207112', '18078', '461136', '63443', '106214', '386630', '19070', '506630', '289227', '191965', '197712', '304165', '49543', '27897', '475468', '103370', '412938', '78497', '194571', '83484', '355686', '363341', '318156', '12141', '52944', '185909', '383349', '359664', '299146', '36914', '248015', '135101', '210213', '90804', '357845', '177196', '283845', '36349', '122289', '241714', '483174', '155198', '387606', '219606', '308473', '240671', '63196', '117467', '115543', '73602', '81065', '69738', '75066', '250470', '78216', '141419', '440998', '104002', '302640', '191457', '25210', '285641', '402757', '172884', '214206', '157200', '375841', '66698', '350901', '418170', '209563', '445628', '301665', '58245', '88775', '137874', '223030', '167854', '143514', '234369', '361100', '413301', '59367', '48910', '272854', '292204', '232766', '43901', '241196', '170402', '95633', '315233', '193208', '77452', '229306', '154386', '229942', '435975', '135924', '240', '112526', '54984', '484075', '158312', '24293', '8380', '22240', '358971', '261460', '143049', '117641', '196794', '355213', '283033', '515670', '392864', '327887', '134263', '75242', '311511', '389577', '424727', '48782', '157901', '327918', '297707', '15727', '215705', '455040', '40093', '30536', '416438', '290726', '94555', '32771', '16135', '57810', '85461', '419912', '67039', '422595', '167202', '115713', '243008', '242491', '239800', '106562', '288266', '8473', '30228', '156930', '32059', '197572', '233781', '418062', '33191', '367834', '231378', '298391', '246902', '74703', '410513', '366106', '168025', '393801', '169662', '157010', '228677', '278868', '19970', '57880', '122139', '285076', '138305', '335471', '241903', '45707', '113424', '364436', '383670', '292876', '363299', '319308', '401462', '380018', '430912', '354850', '313911', '219281', '124256', '340761', '323013', '324038', '102172', '323214', '170339', '1442', '280743', '483594', '352200', '282901', '295675', '289766', '186196', '74443', '368300', '416088', '468127', '410916', '226959', '155104', '52089', '65493', '386521', '367603', '116299', '148307', '68579', '97572', '456968', '364326', '142220', '480108', '230521', '12548', '180812', '22706', '449877', '429393', '62908', '316237', '52588', '189312', '327755', '463832', '61753', '78195', '228787', '50719', '188692', '263019', '140352', '172810', '115669', '497379', '327382', '369125', '433392', '16407', '121214', '281522', '70932', '77903', '204483', '53743', '234274', '218503', '113428', '197609', '98007', '423301', '53757', '425059', '79970', '324611', '288686', '72442', '266969', '34316', '340142', '439037', '171466', '38617', '65459', '76491', '86521', '191064', '139317', '422858', '322829', '21197', '84614', '31730', '73081', '29618', '175069', '208451', '374647', '406784', '14464', '253666', '106677', '50504', '186130', '255749', '187113', '306106', '149098', '232873', '390087', '98988', '227008', '133693', '107464', '39914', '265167', '127187', '212683', '153793', '259789', '323737', '109068', '189860', '495702', '91817', '213436', '220808', '115730', '102850', '77152', '291807', '30602', '108311', '90382', '28500', '397621', '405140', '443041', '204958', '52100', '249646', '468435', '439316', '356639', '128167', '130601', '465465', '145324', '93808', '467385', '290922', '206824', '403928', '149561', '182231', '171769', '70263', '88667', '175785', '138680', '162779', '448503', '137398', '114199', '399814', '266070', '23422', '30398', '90708', '503830', '308579', '429328', '43051', '132678', '264539', '384502', '285688', '111712', '128604', '209319', '513850', '171080', '87226', '248582', '427637', '351214', '225213', '443975', '302399', '203500', '424577', '70538', '288603', '223204', '172477', '304619', '187872', '270633', '134260', '136927', '125997', '81102', '369386', '248620', '21999', '125438', '390645', '195998', '284546', '465453', '294772', '238730', '256842', '356210', '364177', '294949', '350141', '484788', '84587', '384513', '60877', '25548', '213943', '472531', '132704', '387882', '507927', '230435', '102151', '424553', '76513', '55222', '61420', '66409', '221838', '111321', '483662', '296315', '262327', '88670', '85523', '90947', '140579', '179663', '75297', '45709', '260027', '208078', '119560', '373996', '376541', '317876', '244522', '26378', '587', '312871', '401175', '220655', '90470', '269030', '288393', '276426', '458694', '107955', '425657', '495453', '160318', '284767', '71358', '149534', '452150', '379274', '152237', '58587', '506142', '484413', '175611', '312689', '320613', '146177', '196802', '90444', '83077', '143879', '512345', '147357', '170697', '230876', '387284', '158322', '330964', '70625', '303926', '54383', '326620', '147678', '348505', '68503', '51799', '198754', '85583', '415308', '166701', '43987', '400015', '54345', '417510', '222739', '458666', '221092', '50423', '476511', '181477', '245634', '49061', '38742', '58976', '120742', '42526', '54945', '13223', '294715', '214400', '265578', '71975', '272804', '231928', '323697', '390933', '131542', '20492', '236922', '27099', '337545', '250024', '426903', '17531', '131922', '75835', '315376', '322018', '330512', '14149', '324032', '255415', '320218', '225660', '457203', '89439', '111963', '154833', '77009', '189686', '139904', '429993', '110613', '381018', '21321', '74419', '251827', '158356', '135165', '413633', '50889', '337991', '420689', '26941', '374036', '279520', '210687', '45048', '41681', '311712', '332540', '330114', '93989', '340327', '326977', '227511', '352781', '383588', '338517', '152573', '316075', '136291', '256623', '343368', '336955', '498203', '10006', '315517', '8444', '279773', '467705', '64704', '101752', '445091', '164821', '310605', '316763', '169394', '98446', '313920', '217552', '321751', '373812', '114670', '174666', '91775', '255890', '336166', '41524', '39895', '241905', '98761', '227921', '361181', '39451', '278836', '249927', '85227', '223212', '280660', '201338', '53445', '254761', '333907', '269340', '186055', '290592', '178492', '224817', '278787', '363441', '324172', '356603', '202923', '426211', '1075', '497230', '54369', '134026', '88462', '92964', '247936', '153827', '257308', '380340', '237228', '79497', '399380', '151210', '56976', '79884', '325869', '284640', '125573', '423414', '180837', '253499', '278206', '218125', '335763', '423800', '467750', '25259', '332822', '361971', '402725', '19593', '456864', '536212', '90326', '257177', '92298', '158200', '291158', '340197', '167637', '30099', '457620', '40888', '31197', '85855', '165096', '52021', '125633', '391362', '382047', '337879', '271659', '87345', '436444', '371606', '135639', '262605', '457353', '69250', '297985', '227557', '11975', '122193', '449638', '519642', '121412', '74367', '509731', '258100', '82976', '327941', '463758', '449701', '86378', '105108', '211473', '333216', '247657', '333283', '472794', '36755', '186780', '10869', '200503', '246032', '343409', '284916', '99649', '125533', '15345', '369016', '327496', '104632', '261747', '254815', '438091', '308056', '266814', '37065', '318257', '206956', '230194', '451490', '90423', '212090', '42900', '45429', '137902', '144789', '444125', '329675', '276297', '180004', '19742', '82678', '144082', '177681', '273470', '443686', '71626', '143286', '211279', '140498', '93610', '466342', '446808', '45502', '387352', '238758', '161570', '294045', '472337', '274186', '406060', '117084', '18201', '136364', '459212', '482954', '95464', '133992', '356320', '476676', '160323', '337971', '208270', '26455', '44069', '476209', '82339', '448875', '306155', '183935', '33947', '57408', '93048', '189175', '12313', '133124', '147986', '102446', '280369', '402061', '391921', '428481', '328636', '533575', '61561', '139762', '98985', '121865', '359163', '387262', '245850', '375749', '85874', '136957', '58598', '469591', '315293', '243335', '44123', '421930', '289466', '283527', '450542', '188211', '95798', '335434', '161798', '59257', '241286', '265909', '257181', '343192', '207971', '217437', '168981', '19783', '139612', '124713', '12515', '88410', '56940', '82108', '152368', '382373', '163713', '262188', '389129', '71036', '425085', '25396', '405675', '426628', '363203', '238679', '69389', '99034', '138282', '452758', '61769', '288142', '453965', '239068', '222659', '74082', '203279', '88392', '473972', '247728', '437819', '176482', '4876', '226778', '15250', '95284', '74512', '447364', '16220', '56401', '16692', '462565', '149751', '4413', '349579', '425992', '161739', '49394', '28648', '117192', '58885', '173638', '129710', '422216', '145623', '14217', '219324', '278031', '53361', '98330', '486320', '84919', '160743', '170179', '43410', '79461', '397659', '163891', '107029', '169175', '259594', '335134', '68833', '118957', '287243', '104492', '360371', '148503', '140610', '314281', '80968', '315466', '228850', '146250', '136589', '33888', '99697', '161808', '256578', '213657', '45455', '326058', '429589', '140947', '165769', '242821', '111198', '153467', '102177', '399482', '393898', '186180', '96177', '359086', '65681', '176753', '105889', '210106', '115221', '182725', '83885', '231267', '204963', '123867', '70274', '407145', '446605', '332014', '195954', '16227', '401411', '370000', '356655', '364099', '38377', '336083', '463364', '63069', '177786', '411899', '86712', '19823', '338887', '513160', '123934', '6517', '123132', '355732', '254135', '512678', '39574', '127714', '224785', '137031', '99073', '105772', '283191', '338946', '99986', '51555', '173635', '214318', '380398', '42257', '235758', '460245', '231644', '126610', '118383', '256914', '313058', '303412', '488522', '482933', '213662', '138865', '95295', '310364', '56096', '61120', '382880', '252909', '64913', '377629', '221773', '358468', '92037', '190185', '169146', '414324', '68611', '65802', '409064', '380254', '208382', '12082', '276136', '200378', '392761', '82451', '101447', '144258', '380695', '126623', '18691', '475559', '298882', '176025', '398858', '432871', '42667', '533923', '362505', '378913', '71450', '41295', '80399', '92884', '100908', '265953', '500230', '319962', '110941', '86701', '319842', '307564', '199197', '52911', '95569', '217915', '195298', '98530', '16489', '90248', '351891', '343596', '375376', '110848', '141047', '55918', '137873', '178218', '132360', '101036', '188615', '337682', '216676', '446432', '235909', '72373', '256055', '54593', '17588', '479880', '154298', '425601', '430600', '308893', '427735', '97905', '427634', '159175', '24515', '323752', '229687', '138606', '244935', '390444', '388328', '477668', '271321', '265340', '117238', '124810', '32515', '20843', '150444', '72585', '17782', '386601', '167488', '184280', '333110', '272841', '350933', '60711', '282197', '386436', '329752', '394247', '272064', '294752', '12272', '208622', '233808', '455881', '42169', '180873', '266206', '192868', '236879', '290595', '259198', '36709', '336202', '104453', '286738', '139971', '413552', '161069', '319963', '368489', '445456', '104934', '202719', '191818', '533571', '269711', '104309', '375216', '62240', '62204', '635', '396008', '360', '520410', '182234', '26121', '360031', '17674', '358912', '210428', '48852', '17398', '91981', '98061', '58511', '488899', '24616', '113176', '456655', '116009', '14895', '155945', '413952', '466325', '336205', '137263', '412991', '174710', '195666', '91407', '102321', '190277', '139011', '176277', '76868', '137968', '88642', '140095', '360467', '432661', '25076', '193972', '253488', '521815', '86620', '185321', '189207', '8565', '451177', '291683', '432667', '388206', '300503', '109797', '494369', '410256', '389504', '141979', '266236', '293168', '37170', '380719', '34398', '441181', '49202', '20482', '325414', '216504', '518413', '374703', '237896', '209347', '304741', '192179', '142822', '358810', '103583', '62794', '384875', '426148', '338134', '298195', '111309', '16591', '313162', '370711', '95950', '491020', '92781', '15335', '158243', '417786', '12638', '504603', '11639', '177831', '381243', '258891', '192825', '494677', '395749', '28818', '295611', '495331', '174570', '74890', '439979', '61037', '231413', '86629', '147176', '60476', '25793', '435580', '83893', '114023', '414568', '210610', '149818', '250153', '72706', '178438', '13709', '227743', '465971', '43762', '65897', '319720', '470194', '219237', '10727', '73335', '351403', '88845', '15905', '234216', '241042', '357689', '341593', '410920', '73743', '16209', '327776', '371798', '328774', '31049', '189781', '12243', '24370', '302476', '235218', '23689', '137727', '217210', '67676', '63564', '13800', '301761', '410359', '205348', '190643', '302898', '123173', '486966', '158353', '272020', '243947', '329809', '464745', '235054', '289075', '83890', '191490', '217959', '466372', '284885', '300644', '194103', '337418', '391592', '311354', '313181', '153610', '59223', '314834', '391593', '333880', '73911', '267386', '389964', '434085', '203686', '263677', '504600', '421543', '372807', '34372', '190963', '109597', '159942', '131972', '145441', '245778', '88060', '226450', '330881', '439090', '410925', '386877', '123262', '484376', '372814', '173200', '364032', '312734', '198730', '323574', '58387', '8765', '6848', '154666', '70758', '13565', '202748', '44977', '263038', '300625', '316695', '76305', '164245', '57771', '391244', '34063', '383180', '256460', '497537', '66965', '72480', '194297', '180161', '186887', '488873', '378226', '218947', '177689', '140969', '197962', '94410', '323521', '449495', '405928', '25046', '102041', '143734', '116993', '343486', '467154', '4380', '280949', '47237', '125951', '389420', '114076', '73452', '266513', '483089', '127017', '109791', '122527', '282228', '20176', '30459', '518980', '136038', '128964', '407621', '498285', '220329', '330652', '279702', '131027', '17602', '482034', '331174', '344733', '7036', '136265', '198071', '127953', '318734', '118256', '241779', '71154', '124004', '331868', '328747', '53879', '101967', '280309', '325662', '301905', '74007', '296109', '450425', '242990', '239895', '287887', '271426', '172692', '257111', '161909', '49511', '82276', '67252', '351642', '179328', '229455', '113657', '59000', '19664', '56366', '23627', '195881', '356814', '370746', '240127', '230031'}, 3: {'279904', '171610', '389682', '202576', '96256', '345459', '81937', '441070', '326554', '135660', '49883', '79074', '307634', '429438', '445597', '93439', '368906', '384786', '270263', '209058', '372105', '151574', '454995', '174425', '21024', '99587', '99643', '423451', '42750', '259382', '459458', '109123', '193704', '204100', '105387', '120679', '59614', '331394', '513886', '277459', '454080', '428549', '217981', '90567', '36315', '264043', '48463', '128252', '49206', '372774', '131693', '471959', '87905', '298851', '175723', '92096', '226895', '42281', '230532', '176432', '3158', '147397', '231367', '133013', '124189', '285826', '26732', '31259', '311141', '44124', '292436', '96976', '272286', '4530', '171380', '308140', '149217', '243900', '199216', '95453', '41337', '5006', '231444', '464622', '33847', '502613', '492483', '474690', '220661', '335978', '407449', '135753', '118843', '402257', '65193', '402871', '349456', '364168', '2405', '246733', '402469', '68038', '359626', '72895', '75800', '60853', '301070', '411505', '220267', '57733', '460892', '205280', '211242', '179001', '508443', '27321', '87195', '281936', '53633', '330263', '117230', '373269', '54269', '332766', '63973', '230776', '370779', '321853', '27928', '457487', '209891', '323886', '364945', '216112', '208757', '239942', '502983', '52572', '197284', '134234', '293675', '172543', '500258', '257905', '28732', '171832', '17326', '379813', '375050', '293373', '376363', '92803', '53503', '125021', '232859', '177649', '48364', '41090', '125915', '137187', '107465', '410657', '166022', '214672', '114821', '334186', '8791', '209310', '21091', '369967', '460069', '168136', '31608', '209952', '232506', '246588', '428768', '273863', '139129', '264022', '401110', '374964', '458710', '281726', '216155', '259363', '66258', '109978', '147952', '480482', '66352', '95575', '87903', '222839', '221261', '44794', '118085', '400953', '272034', '370497', '59364', '51265', '160494', '362641', '267105', '79749', '481901', '476635', '286380', '103837', '305534', '32394', '223798', '422601', '24820', '329624', '210807', '318829', '99843', '145160', '290437', '3271', '286484', '263600', '218664', '501188', '67113', '277781', '146824', '239993', '152327', '100857', '417004', '431047', '5245', '69539', '184443', '321124', '68410', '175364', '232903', '140586', '137667', '354751', '130012', '484256', '424013', '284296', '98296', '367987', '466197', '322729', '320502', '106565', '384204', '259779', '129063', '272039', '365943', '146601', '179248', '290479', '282711', '10005', '452871', '87049', '394519', '222037', '391413', '234529', '242033', '182477', '251980', '424837', '118226', '245080', '418875', '264064', '211383', '35399', '256036', '32846', '204187', '322902', '239459', '121235', '511827', '320501', '206981', '79189', '258307', '314677', '175149', '171898', '470641', '294985', '379033', '237000', '159961', '208328', '146979', '288279', '153785', '214123', '276832', '171391', '108471', '386341', '65994', '294736', '22728', '459984', '66022', '143873', '45008', '69706', '49197', '150642', '93339', '70655', '380641', '186674', '202414', '253229', '9177', '54517', '437654', '290012', '184139', '44742', '259640', '61610', '279302', '98219', '51774', '68336', '172858', '284495', '176027', '191758', '46901', '223242', '91419', '26819', '411250', '461568', '108784', '505748', '332444', '368871', '375362', '89453', '252296', '195066', '155847', '34443', '35721', '386886', '32789', '347526', '97921', '390619', '427790', '368627', '498523', '286635', '243370', '468254', '84239', '17560', '422820', '241052', '222156', '329503', '304991', '475719', '291409', '327391', '271384', '462145', '302151', '174273', '472571', '189127', '66', '369892', '287685', '321787', '120949', '208675', '427892', '264214', '280219', '131623', '151524', '39497', '228995', '295226', '361116', '379059', '316766', '3620', '419219', '314777', '95907', '249800', '206762', '40058', '361143', '291170', '100955', '112866', '327903', '235769', '156441', '32286', '300565', '255511', '307217', '27609', '89021', '72994', '504480', '204740', '300803', '308156', '386538', '136079', '154514', '366021', '182648', '241651', '393666', '109866', '105296', '139500', '486171', '188705', '216028', '276622', '63907', '203131', '53849', '10698', '193390', '397772', '204913', '88938', '51879', '110923', '36256', '480525', '27595', '471921', '63890', '30726', '216892', '245792', '164425', '374980', '205779', '464145', '440684', '7542', '219503', '233189', '317323', '126570', '198618', '55535', '122239', '395265', '169574', '27678', '96061', '182723', '29690', '331038', '12000', '184011', '43677', '34744', '113971', '37550', '178573', '174274', '70819', '299977', '107068', '171731', '107886', '269910', '186480', '16278', '166735', '121245', '292945', '440371', '114766', '216412', '444483', '102812', '57968', '111559', '358765', '397529', '24572', '12469', '271016', '179191', '123157', '67741', '87174', '319012', '77702', '53092', '284302', '259319', '126423', '22097', '307608', '34557', '225006', '330865', '316673', '487741', '340485', '114588', '39224', '29462', '79003', '483719', '110422', '24906', '55034', '242983', '330564', '104368', '224730', '333403', '10876', '372130', '34130', '40999', '202642', '132991', '423136', '10597', '42038', '268671', '28633', '314335', '228762', '318927', '105811', '74359', '215409', '85354', '67664', '109146', '400873', '297455', '141730', '188540', '251306', '101968', '128636', '337526', '259616', '98356', '117542', '73201', '280815', '100227', '444430', '100062', '40125', '405042', '104727', '38443', '477707', '436682', '263381', '213421', '173235', '456796', '161408', '341514', '140092', '304615', '93946', '79834', '313153', '186204', '298675', '253526', '458915', '465234', '257094', '28297', '52953', '36754', '304092', '75064', '227485', '458411', '163847', '459490', '102185', '387932', '199859', '129894', '166819', '201591', '78095', '26039', '105976', '60003', '445132', '101781', '21835', '39189', '384789', '346757', '81549', '202021', '126995', '308163', '332787', '363391', '315737', '145067', '67660', '139619', '145824', '316029', '320622', '266082', '224096', '304014', '225681', '120400', '255144', '273190', '494131', '68320', '63901', '207159', '5197', '376022', '17278', '61779', '368078', '37897', '366852', '23613', '37056', '214040', '139201', '252076', '145220', '421884', '485745', '88138', '378972', '54570', '175792', '56009', '96181', '105671', '391030', '367828', '71351', '198950', '277194', '109267', '460436', '184910', '275663', '341677', '81360', '138224', '236576', '144139', '111982', '215653', '237613', '50501', '473508', '107044', '348292', '73263', '42846', '274329', '459764', '134206', '48133', '160902', '273854', '62236', '314744', '221387', '317656', '262144', '173961', '253201', '294082', '258917', '188823', '288565', '396506', '35105', '467378', '220292', '355161', '292631', '154255', '153952', '355982', '116244', '273841', '37688', '383412', '41202', '375148', '390218', '137896', '318635', '251057', '280805', '74977', '65611', '194278', '110818', '347763', '23439', '75988', '501007', '213975', '52665', '69205', '101334', '221263', '470964', '400154', '26078', '109516', '175958', '325742', '132359', '462875', '408771', '59249', '56149', '129533', '121956', '258308', '168181', '170147', '443050', '154827', '187765', '65804', '188336', '65206', '39025', '327788', '200350', '156169', '267755', '51249', '134534', '395533', '140648', '266147', '256675', '439968', '256689', '94997', '135084', '98809', '280807', '37296', '194279', '261183', '379394', '48279', '50988', '213600', '471153', '271738', '209879', '82731', '94269', '68634', '158999', '430334', '168557', '418909', '285731', '154215', '87155', '143816', '302769', '71090', '199757', '314012', '244211', '65591', '118248', '254294', '61297', '397330', '12561', '417578', '239613', '427706', '274976', '314337', '345941', '138972', '367416', '49602', '169948', '241220', '308433', '270576', '427081', '87521', '220537', '108527', '72474', '480229', '270664', '85199', '258852', '35993', '190948', '420610', '251753', '52236', '142655', '239498', '136483', '77989', '236129', '504766', '62902', '9520', '24415', '17971', '241348', '374760', '97765', '156322', '309496', '383058', '226456', '413437', '7841', '387339', '104724', '154685', '13882', '98626', '121415', '83498', '294154', '60624', '415829', '44241', '1129', '28365', '454114', '301544', '359420', '322111', '359141', '221764', '231059', '234962', '99876', '69162', '226159', '223303', '24105', '415249', '193078', '315908', '314819', '138050', '295104', '306851', '57980', '224097', '425778', '330156', '131109', '475008', '109436', '351219', '415599', '232119', '222211', '52141', '5454', '288624', '55669', '267637', '364643', '460107', '246579', '228455', '83441', '1590', '171514', '401488', '313991', '123835', '100568', '157542', '437982', '106992', '309276', '306454', '402059', '93133', '483826', '489800', '33930', '147477', '213746', '227007', '82770', '278872', '260668', '287053', '307405', '37989', '79233', '53353', '267369', '107387', '146609', '41095', '481894', '76693', '92010', '131122', '213506', '11952', '115289', '144869', '317408', '463903', '396461', '474848', '123889', '270295', '47251', '36744', '279981', '168223', '146290', '29105', '128814', '301888', '93449', '147791', '16559', '429284', '321775', '85308', '360644', '109318', '185141', '294893', '50951', '403404', '263563', '21618', '176085', '252440', '7397', '200793', '153979', '355173', '365796', '464367', '4098', '350552', '124818', '89071', '50676', '82277', '26405', '196299', '10853', '518670', '262625', '504548', '238865', '45804', '245728', '71643', '333688', '54245', '435537', '44935', '326076', '236730', '229508', '167546', '243071', '62705', '470504', '281673', '127354', '47015', '266884', '51126', '337017', '351829', '1878', '156394', '289291', '52732', '167917', '403051', '319060', '277390', '189329', '248337', '118438', '504956', '191538', '157071', '136659', '241058', '441096', '114168', '263745', '394897', '415834', '108923', '226271', '288082', '87265', '383870', '306275', '105745', '228169', '504718', '232848', '30215', '222979', '38426', '200577', '139032', '188719', '339046', '17418', '188060', '17920', '117434', '319897', '113333', '292392', '50927', '209666', '130629', '315107', '333028', '470687', '123922', '281213', '71400', '413521', '295885', '21905', '114495', '326743', '262408', '149282', '44289', '386195', '425400', '41238', '414348', '127749', '389738', '152733', '36409', '102815', '50307', '322924', '110483', '40209', '221717', '313528', '304396', '19529', '338824', '77413', '203480', '86959', '401574', '317066', '15616', '253661', '139049', '235279', '424920', '88978', '442235', '390531', '217162', '109718', '494433', '182730', '293318', '420194', '341808', '20305', '4724', '213529', '175508', '264554', '125967', '126969', '110178', '57924', '125183', '229531', '152781', '221120', '323240', '293134', '240135', '194647', '121019', '83222', '247330', '309958', '256026', '206317', '427563', '233314', '410078', '191772', '142258', '94042', '77087', '408025', '250119', '290513', '511787', '125841', '76522', '221102', '196443', '122066', '293002', '439418', '171091', '260930', '24735', '361978', '199548', '347092', '324738', '443461', '229012', '28140', '451071', '369209', '505534', '98358', '79626', '52276', '227191', '180164', '132347', '70096', '278998', '192281', '317681', '477848', '281101', '232770', '207278', '92363', '342762', '294442', '407907', '254508', '64632', '183133', '159409', '335168', '479060', '493140', '73233', '302638', '32931', '60810', '211220', '66842', '49295', '384077', '89207', '317670', '164212', '249336', '13489', '455496', '60689', '128013', '189562', '73658', '245066', '280812', '424128', '286813', '397218', '175181', '378033', '238867', '360201', '286654', '189003', '112040', '29721', '37252', '69365', '125863', '427339', '42719', '228449', '171543', '7786', '196786', '178445', '108161', '426851', '84465', '26650', '472687', '69867', '211806', '376642', '199634', '331627', '454111', '26216', '231995', '288410', '149837', '210321', '2866', '230530', '395838', '130687', '195336', '101117', '6665', '51688', '191949', '192646', '364211', '302547', '410880', '281281', '259627', '405195', '128594', '248852', '210200', '277077', '353331', '89074', '191119', '426504', '188306', '265904', '178809', '438046', '383', '27443', '11941', '419326', '172798', '40972', '265442', '445814', '354290', '102028', '305214', '480183', '75883', '177127', '233507', '188631', '48851', '95238', '374277', '219761', '184921', '25290', '430486', '26198', '445457', '65204', '15601', '471606', '386816', '293804', '123476', '70146', '187347', '80860', '195820', '50692', '188648', '322972', '337857', '423992', '111928', '399376', '486800', '295426', '181201', '258464', '315822', '358188', '143616', '342163', '391027', '81765', '48799', '126729', '334409', '442923', '280367', '481317', '154179', '154362', '20365', '214134', '143925', '140482', '19298', '477477', '258352', '216061', '97070', '514820', '381946', '77640', '343767', '221105', '232162', '312034', '265432', '40923', '224112', '311758', '49896', '218211', '301500', '302912', '243909', '108030', '69693', '321075', '4205', '253665', '262070', '396360', '241558', '149843', '100733', '82226', '45550', '398336', '100388', '176624', '216068', '458903', '24970', '34277', '115559', '216894', '454025', '296837', '222022', '317938', '356161', '136299', '44205', '99278', '205429', '407912', '195387', '43431', '368608', '13890', '163146', '35199', '12276', '121712', '122725', '394908', '82916', '27060', '105170', '467299', '34837', '351734', '267765', '234891', '323547', '47603', '166274', '288854', '343340', '291695', '252928', '377978', '340608', '420640', '343107', '119828', '184846', '481325', '17088', '320540', '124377'}, 5: {'408019', '188462', '266176', '413122', '310071', '515167', '50681', '162761', '372390', '186631', '171126', '286041', '99750', '128109', '26656', '40811', '432285', '60303', '119540', '12954', '316984', '30773', '85042', '250053', '84822', '396396', '97724', '176306', '220747', '108055', '368157', '354839', '42453', '317067', '142062', '458158', '151739', '27426', '146019', '254860', '455578', '378684', '324212', '252312', '227787', '187987', '441933', '194209', '125557', '489959', '236178', '229065', '295541', '69195', '179207', '256148', '7120', '57908', '18139', '193340', '141558', '17989', '453425', '408525', '218674', '358874', '32544', '129997', '59727', '26598', '289922', '456111', '152841', '215887', '304340', '22250', '160696', '333246', '193559', '155753', '38319', '246011', '59127', '428818', '167118', '221322', '45770', '30118', '409893', '324713', '48291', '33260', '101260', '376910', '17620', '48640', '408836', '199785', '280107', '297901', '393286', '191491', '45992', '225529', '493636', '264143', '202461', '452870', '293960', '133150', '220408', '13088', '485836', '438608', '316299', '80419', '54768', '299149', '24565', '84739', '295096', '180364', '250625', '206515', '484942', '328837', '197866', '399575', '12441', '132476', '477587', '334426', '474429', '121858', '34628', '19453', '222275', '24990', '71653', '217854', '60846', '312054', '493838', '216194', '242702', '457750', '71439', '201026', '471658', '86683', '202187', '323195', '407377', '111469', '93557', '376781', '122887', '250840', '160507', '15148', '289860', '503298', '63693', '75969', '411666', '458644', '139723', '45180', '18324', '240443', '351913', '225392', '163304', '219159', '315377', '97514', '221754', '408712', '308106', '142504', '272622', '65357', '272669', '170139', '387542', '479380', '288165', '177576', '104231', '98511', '303938', '208798', '192293', '81352', '11879', '114409', '41599', '266316', '138017', '435785', '40449', '395880', '341952', '246497', '195577', '224221', '182125', '75021', '189802', '364119', '231119', '100308', '12563', '366922', '38798', '327006', '57346', '257014', '200872', '21302', '264560', '75577', '424023', '21629', '442463', '354311', '433294', '324740', '455083', '123528', '223783', '136720', '427603', '35874', '508714', '98037', '349301', '448585', '179280', '42247', '104845', '140516', '261047', '100501', '104334', '199090', '107004', '446600', '55432', '468228', '60203', '60425', '394191', '383346', '136123', '114565', '253476', '426647', '272778', '302737', '215698', '24217', '109761', '160251', '183670', '355495', '425294', '101424', '171137', '179608', '352187', '310687', '17642', '23264', '362382', '203322', '98560', '91887', '104539', '130300', '299476', '13610', '57820', '491353', '1662', '129011', '87548', '193983', '15836', '414823', '245671', '268200', '113385', '217173', '8928', '202429', '101515', '209675', '182140', '329106', '135339', '246888', '234120', '286157', '308905', '190910', '71620', '29365', '51058', '261462', '148188', '31446', '126458', '393533', '509423', '35038', '30079', '176626', '100856', '11705', '383147', '88706', '240093', '408339', '366589', '373369', '99261', '166006', '189788', '43563', '64771', '468146', '307245', '39370', '315921', '397117', '236579', '302631', '163165', '453243', '469496', '397629', '299478', '275631', '110847', '301792', '372621', '290294', '362450', '97601', '31003', '80963', '185611', '295737', '167513', '454154', '251962', '315546', '448832', '45735', '43136', '179476', '209912', '243510', '196175', '87202', '67941', '479203', '44253', '120981', '157952', '468849', '406507', '137962', '234411', '328711', '234730', '472497', '173481', '161264', '431875', '50596', '209035', '74060', '392356', '466159', '42296', '153967', '18337', '101516', '375848', '356401', '306629', '32142', '472454', '50777', '21224', '176926', '245744', '81060', '309678', '384272', '159378', '191839', '193088', '172720', '144042', '360431', '304423', '232399', '15584', '132831', '88025', '260073', '93124', '176586', '20587', '150497', '458298', '21131', '133631', '316152', '76546', '42820', '169472', '406673', '433836', '219008', '130559', '96336', '166027', '439920', '235666', '307493', '467868', '154820', '360543', '513918', '195444', '239521', '463773', '52706', '53204', '25947', '91164', '122758', '69190', '484315', '425466', '32232', '30205', '174155', '424386', '407672', '221324', '95211', '339704', '176290', '235297', '225239', '138971', '25157', '242758', '475201', '282490', '257319', '367134', '305140', '39317', '114569', '50718', '302204', '125586', '487501', '322599', '157235', '286991', '187052', '475667', '2386', '506326', '478156', '392146', '393854', '399702', '480635', '58713', '163967', '242587', '481925', '326296', '170929', '111925', '64209', '174932', '258312', '206086', '75774', '247103', '204578', '103259', '126145', '476829', '336523', '20244', '324690', '314553', '43939', '446578', '19544', '78833', '369688', '334895', '465992', '133077', '217554', '53404', '216322', '180731', '44507', '92048', '79826', '226606', '325943', '203720', '251821', '15075', '60551', '154584', '289255', '26468', '427667', '495525', '86030', '218617', '49125', '210246', '403131', '130409', '43452', '189741', '183232', '248007', '283945', '4048', '280223', '264216', '32958', '165014', '60464', '109811', '365945', '101248', '177822', '254718', '375522', '429138', '88736', '248771', '94187', '309164', '166560', '443943', '297246', '34903', '246264', '92973', '28111', '288', '173646', '83030', '229483', '133912', '360259', '286053', '417940', '125590', '17226', '187834', '129454', '61345', '191547', '245022', '163014', '224199', '61425', '225056', '161799', '413711', '203507', '150028', '309104', '54852', '34244', '374887', '223779', '229742', '172219', '472234', '165815', '85756', '528002', '143922', '423115', '20749', '441587', '211829', '33284', '368462', '9272', '208099', '501927', '521251', '166896', '150399', '115132', '467187', '504083', '73495', '141933', '172940', '70180', '491878', '372731', '317026', '22850', '51030', '69493', '319214', '174859', '12782', '406062', '265318', '73702', '439460', '374148', '32176', '85884', '301204', '69710', '249148', '225390', '211747', '327398', '290471', '497505', '322948', '32684', '509140', '57492', '275739', '72398', '232609', '160538', '357470', '188982', '51092', '11914', '337144', '262889', '10112', '326294', '76026', '75646', '146942', '195505', '80384', '461329', '39763', '179605', '286110', '125625', '251138', '386251', '21220', '123782', '13177', '420944', '245119', '69188', '243642', '270510', '78011', '109801', '150996', '80418', '435598', '15541', '102171', '169088', '101953', '252134', '332901', '73942', '358163', '61088', '77965', '311307', '189716', '267776', '169364', '197963', '368035', '96117', '374312', '127038', '352', '111477', '146521', '59839', '207036', '65783', '216688', '23083', '23696', '58608', '249878', '214987', '356631', '118823', '59407', '347991', '12132', '508912', '261450', '169855', '373071', '322546', '99799', '384517', '98317', '381050', '465121', '40483', '453488', '274469', '460133', '21760', '299888', '110805', '122884', '213588', '98566', '22949', '246947', '288799', '406018', '372270', '25453', '154567', '353741', '65582', '339134', '243869', '18584', '376854', '26773', '368762', '31987', '428023', '9454', '53807', '131261', '40279', '69499', '449347', '322116', '418697', '178125', '358952', '423824', '392727', '357177', '141636', '27889', '84141', '281663', '38435', '38762', '47840', '234649', '82503', '57051', '11717', '166556', '37152', '86772', '321026', '202679', '218924', '362346', '56922', '14873', '219907', '489589', '99588', '39047', '340432', '217013', '193357', '79414', '214231', '218671', '220175', '93775', '2804', '1630', '87955', '115375', '51193', '426944', '121306', '197017', '236147', '260988', '115403', '24499', '213985', '169770', '312160', '112451', '66060', '252246', '111508', '298369', '92022', '517878', '475007', '151163', '33103', '415374', '340411', '106157', '183173', '50103', '21750', '214639', '29028', '47982', '50854', '112187', '113423', '260966', '34327', '68642', '225164', '39296', '83894', '303895', '149966', '455201', '177230', '144642', '1660', '124388', '281674', '152218', '190935', '167906', '294547', '391101', '135839', '186687', '30234', '204569', '67017', '138105', '452256', '97308', '241620', '232842', '43123', '98305', '230949', '302812', '319820', '337210', '107437', '146871', '216365', '106366', '289786', '28225', '336185', '152029', '65729', '41938', '26824', '350622', '249976', '284452', '105193', '435039', '203386', '36488', '511805', '357584', '520673', '17846', '409899', '250708', '206772', '112581', '97739', '330161', '103467', '415808', '238000', '224458', '41474', '86946', '503295', '29636', '98680', '198738', '56933', '159994', '115239', '146121', '263709', '199778', '48067', '131497', '294822', '68197', '373728', '355386', '68218', '197686', '517313', '318807', '359001', '18070', '164545', '204930', '480075', '117250', '177386', '374643', '96641', '44575', '43440', '27699', '171628', '489962', '109091', '272456', '204646', '80679', '210107', '164387', '176730', '376622', '318336', '102636', '180696', '48198', '367592', '414808', '34024', '164124', '134051', '281075', '149176', '49576', '229852', '33571', '376636', '467097', '1322', '80617', '65951', '456051', '373358', '319460', '152378', '298089', '297222', '326264', '275279', '81856', '39398', '2622', '34756', '157478', '242871', '73003', '86006', '363059', '32550', '232556', '8151', '195442', '80703', '401824', '79707', '321256', '24878', '176785', '292219', '274896', '94338', '149360', '321000', '354318', '178954', '173648', '150141', '276454', '481365', '60502', '76215', '119081', '97213', '290376', '293713', '350787', '211284', '195504', '248077', '60285', '120015', '101862', '261629', '288570', '388107', '234444', '321597', '366672', '407694', '56223', '29315', '334156', '43824', '332221', '98450', '108227', '278914', '347911', '334964', '140564', '192848', '105930', '82646', '230379', '181596', '48492', '51712', '127906', '68451', '361021', '159427', '110749', '104581', '411098', '367004', '76994', '153569', '153948', '154562', '181857', '467922', '167508', '218240', '376630', '447114', '148409', '415398', '177434', '386223', '397154', '21166', '455391', '372114', '14228', '246308', '387420', '167608', '349166', '185856', '152300', '306248', '136566', '318572', '486851', '300958', '78788', '437942', '260692', '19518', '141473', '505179', '205915', '262967', '42525', '213489', '287380', '185525', '108412', '275437', '492243', '441063', '177314', '190394', '258029', '421539', '33927', '343461', '416599', '425118', '20513', '114359', '27947', '23080', '339569', '89081', '24124', '136325', '123851', '316232', '233475', '222435', '475663', '123753', '291096', '306224', '84807', '152660', '298009', '198521', '325863', '92140', '360132', '256298', '87541', '239724', '147645', '199049', '332827', '306134', '456546', '160570', '330915', '127128', '401595', '290681', '181765', '131024', '239976', '413510', '284269', '501348', '145779', '412915', '468818', '82179', '185188', '381746', '333243', '302861', '431612', '204780', '367051', '305659', '96127', '362090', '119969', '51927', '19257', '382269', '116953', '30556', '95661', '259008', '242700', '383502', '324237', '14293', '202413', '113229', '236834', '104422', '391506', '60741', '90937', '368405', '205778', '26764', '78533', '518221', '453561', '173869', '428324', '457976', '363283', '183073', '370765', '380183', '74878', '386854', '71927', '236944', '24420', '129359', '476699', '29827', '147095', '32805', '365348', '254908', '20551', '442276', '94265', '22843', '130100', '76979', '199555', '80170', '345915', '33043', '520656', '21717', '236534', '301164', '162661', '27205', '294059', '410719', '205230', '166290', '262832', '445590', '161466', '171485', '204341', '167295', '16389', '164066', '151645', '393143', '174157', '168017', '249846', '340941', '301365', '340656', '52634', '27741', '433993', '274395', '188755', '258985', '391186', '38618', '26461', '226478', '54000', '301754', '327506', '93244', '154964', '55512', '350099', '216167', '223417', '85678', '457550', '33268', '118018', '424513', '125971', '136466', '96517', '116144', '61277', '410273', '248926', '300355', '114415', '436329', '37660', '276764', '34667', '516952', '276065', '243425', '79865', '287544', '158332', '201463', '226515', '290755', '89272', '25060', '298696', '104165', '236259', '280393', '220558', '415430', '272413', '136774', '317186', '321271', '50125', '218306', '199360', '184294', '399580', '412061', '321147', '41137', '57056', '162609', '201866', '204142', '181072', '202744', '177600', '30213', '26222', '112912', '134466', '60030', '218701', '283723', '502385', '17118', '456858', '35668', '304558', '147831', '151483', '342133', '108644', '379031', '251166', '252004', '321672', '128588', '109834', '390169', '319063', '155998', '296783', '316033', '66989', '135437', '56830', '52869', '93488', '419755', '22567', '374627', '401892', '219027', '182447', '160210', '113346', '341573', '128440', '41397', '307684', '51468', '14924', '75711', '333983', '139270', '500819', '179889', '91925', '164660', '56805', '190466', '410749', '315669', '449725', '281129', '320973', '288062', '125535', '243871', '355803', '324518', '370470', '20359', '416979', '57813', '433706', '393609', '157430', '118819', '296087', '106108', '20721', '246547', '428110', '150861', '81445', '89909', '480684', '284412', '70994', '461149', '22088', '257260', '43946', '427761', '83526', '336796', '50128', '172801', '308947', '231922', '44615', '361115', '154757', '58793', '367939', '313115', '139921', '464587', '131107', '2056', '321182', '175009', '9978', '137839', '365441', '152411', '51530', '174857', '319044', '406586', '16598', '222066', '301537', '321223', '278429', '102851', '59023', '154587', '211776', '109835', '91021', '325717', '252520', '428016', '225717', '369110', '24911', '34194', '387', '79192', '191501', '270991', '26017', '61479', '226161', '189148', '70556', '337490', '443273', '177908', '94659', '64994', '146481', '263659', '199850', '106832', '119106', '37968', '174337', '394067', '178493', '116927', '201379', '94211', '9728', '166868', '37439', '279696', '4691', '47755', '363298', '296231', '287331', '24094', '297370', '362842', '24039', '196763', '305020', '405690', '259147', '227091', '175841', '25034', '138699', '458528', '506665', '346033', '320664', '85687', '38913', '377405', '187151', '498083', '39718', '372551', '197843', '29609', '218137', '264517', '284049', '191883', '377658', '124671', '58283', '314985', '271607', '7850', '527534', '266484', '187678', '221433', '173552', '162106', '184943', '97401', '203021', '70132', '422363', '309754', '298263', '187557', '332871', '339217', '248323', '311584', '286288', '417530', '424632', '210250', '47666', '259096', '39173', '12353', '272468', '33340', '56765', '285984', '471465', '120815', '177328', '186900', '54310', '309990', '104301', '175653', '49648', '324109', '391104', '359058', '3731', '99869', '419185', '385793', '206335', '234585', '79633', '428634', '45584', '369453', '11407', '53730', '251152', '151262', '434495', '85323', '88338', '21949', '236365', '84997', '390731', '477147', '12839', '106898', '222106', '31698', '489590', '94963', '69526', '486300', '409840', '455376', '379621', '130178', '203930', '15869', '142201', '341097', '365972', '176875', '306090', '176150', '89217', '70115', '256822', '200559', '380069', '220520', '255425', '335876', '417411', '18540', '267893', '42137', '314112', '198790', '119914', '89769', '216634', '55826', '436590', '264739', '507063', '245415', '75692', '139392', '458326', '165155', '185106', '333820', '217583', '390351', '260053', '464019', '188845', '19009', '234243', '77804', '43905', '160967', '240184', '317638', '62919', '84024', '173178', '110608', '372637', '97786', '27978', '291698', '442924', '71103', '188551', '124600', '95122', '297988', '139603', '36200', '340565', '44998', '123758', '107180', '129146', '332586', '304402', '214907', '199138', '412992', '358957', '118513', '87811', '244201', '238050', '281473', '107515', '260295', '471535', '362805', '262526', '165312', '242396', '91255', '55739', '29731', '144371', '40478', '183673', '345103', '38672', '379273', '72844', '364017', '164317', '330463', '93442', '418761', '302923', '373426', '469036', '239592', '188204', '9347', '102591', '80390', '143203', '55718', '319477', '196200', '103399', '269088', '105535', '157807', '40858', '271297', '22870', '247929', '301741', '213724', '291577', '342759', '398210', '379357', '179826', '278847', '116906', '233971', '95353', '156392', '467039', '479461', '145126', '425183', '415408', '156332', '135505', '451460', '25415', '119055', '310637', '33162', '58286', '188162', '154886', '24950', '290119', '23380', '464119', '382819', '394713', '175607', '32576', '170241', '86867', '32784', '243612', '192730', '435118', '352144', '168737', '245025', '170330', '255327', '35084', '279980', '25020', '379482', '147564', '311526', '502950', '65816', '109570', '48651', '69537', '276874', '90692', '169856', '353899', '10975', '220088', '281030', '516384', '72428', '461205', '350157', '313101', '97494', '357041', '24740', '318295', '92158', '103947', '17131', '338179', '148365', '71418', '105808', '63088', '241336', '286498', '468398', '36890', '91568', '223029', '27084', '217774', '244483', '424437', '405561', '21793', '241095', '217048', '125061', '15003', '213980', '97996', '354569', '69243', '31322', '169400', '498562', '120602', '295376', '16380', '408855', '58055', '171892', '227872', '321897', '277181', '133208', '155327', '12845', '221301', '208191', '390811', '91977', '272809', '75621', '217122', '313351', '209791', '17853', '259191', '242235', '263821', '66421', '182596', '423151', '349952', '165017', '83609', '102618', '77522', '49860', '336463', '56811', '13280', '366688', '420010', '77380', '37975', '123336', '522311', '41231', '191561', '28433', '279967', '347833', '286405', '137515', '418616', '23375', '100103', '76038', '456782', '66019', '107418', '171663', '70260', '240333', '127670', '18935', '498944', '171293', '263232', '69809', '392188', '343361', '419630', '76553', '376802', '311233', '47444', '21894', '57763', '50271', '493256', '25516', '263253', '148982', '140056', '16531', '402762', '15086', '334927', '284376', '391280', '171004', '104062', '51382', '281920', '45755', '211823', '223269', '241464', '399315', '414897', '188180', '84145', '193877', '211648', '38019', '283108', '334664', '118116', '192008', '496257', '21542', '304572', '173837', '151072', '379355', '245510', '133320', '115446', '184432', '54352', '345232', '78132', '363102', '311280', '241809', '261611', '268611', '249684', '93848', '240321', '64820', '47662', '153847', '211299', '39059', '276068', '447016', '371990', '71896', '72642', '212671', '417848', '55095', '16971', '349470', '413270', '434512', '23682', '49652', '150320', '95891', '161620', '427745', '244158', '303491', '63560', '396623', '59929', '37088', '41860', '462621', '349190', '382723', '325157', '194960', '279864', '424017', '333326', '378876', '204553', '88039', '18944', '11170', '450478', '211687', '241506', '107308', '136983', '290497', '469380', '300782', '290436', '338489', '341893', '194303', '28387', '420713', '279757', '11382', '301593', '272293', '208055', '374107', '287041', '87147', '429546', '179170', '34484', '411844', '21360', '332398', '185025', '144541', '383399', '460690', '172536', '389592', '18964', '400271', '154254', '108384', '456610', '114011', '231028', '205758', '236510', '299931', '160206', '357968', '353181', '17874', '229697', '472158', '471259', '38600', '423165', '90887', '124747', '119848', '252852', '377646', '17941', '444807', '60744', '169147', '89652', '422172', '33886', '68450', '263453', '91491', '206958', '422168', '163456', '134693', '422798', '46116', '319864', '117657', '269705', '396259', '245226', '47427', '62193', '449342', '108598', '127099', '71265', '172610', '453335', '306031', '338055', '253885', '181375', '277747', '226286', '148255', '51055', '16961', '269710', '56761', '68202', '460231', '378468', '258520', '50375', '321805', '245348', '219867', '256760', '113311', '201257', '63599', '25769', '385889', '193744', '279896', '192207', '216575', '378143', '33715', '62820', '88503', '342357', '48446', '254185', '87786', '300279', '104070', '318596', '7974', '284', '395371', '10932', '38650', '188222', '129588', '435577', '358871', '178603', '468558', '473459', '138197', '179128', '479419', '306590', '11006', '251182', '192870', '91780', '449302', '499599', '125195', '482082', '336690', '338128', '415803', '377797', '84749', '367624', '80301', '434140', '85195', '138436', '11315', '234975', '290645', '422466', '332056', '51580', '259941', '86359', '219121', '322796', '173417', '303008', '127780', '340895', '328556', '281209', '473821', '163977', '243222', '194464', '396475', '271379', '445244', '161055', '489946', '223680', '170046', '247469', '72478', '63089', '32586', '341126', '517166', '276549', '100172', '254624', '497443', '218428', '215605', '119357', '205780', '19976', '137188', '197582', '39734', '115057', '344937', '22847', '55506', '285261', '335253', '83141', '463852', '44950', '220645', '444593', '62303', '191509', '234944', '206266', '193195', '193955', '372858', '263548', '160147', '144670', '339709', '51862', '385996', '263203', '31135', '68599', '24306', '15960', '216084', '266239', '144185', '249499', '445739', '62781', '1975', '109796', '247306', '379044', '433417', '27063', '213941', '40109', '328567', '361865', '364299', '83935', '317072', '246286', '71528', '193583', '471226', '61461', '166772', '223934', '369442', '14533', '170286', '469055', '227387', '226274', '112105', '428715', '69849', '223621', '61814', '155108', '171378', '66955', '84707', '310629', '97368', '81021', '202181', '162919', '34564', '325321', '125040', '378067', '225670', '112277', '93900', '95953', '47064', '153730', '385101', '142981', '118197', '383425', '54615', '68423', '275082', '29179', '88632', '324561', '111535', '165311', '450373', '363286', '307164', '398894', '65252', '392262', '22201', '192019', '108930', '174164', '293528', '203153', '458545', '415406', '272332', '23229', '361792', '96162', '218489', '210978', '65677', '111303', '2519', '356742', '76429', '23753', '251093', '158331', '398304', '12830', '158363', '67709', '19132', '11702', '254774', '462351', '21349', '367184', '206854', '313604', '214234', '93078', '44199', '386401', '449515', '426165', '115387', '364626', '227753', '170296', '47548', '414333', '328632', '244608', '354701', '383403', '122377', '390089', '13366', '428423', '161118', '245811', '141421', '385475', '104012', '207243', '398090', '289675', '284450', '62130', '92548', '68644', '193505', '221832', '100967', '279777', '217009', '237302', '471484', '292628', '85805', '103273', '338767', '102916', '10487', '357274', '54526', '218616', '29268'}}\n"
     ]
    }
   ],
   "source": [
    "print({k: v for k, v in list(step_recipes.items())[:3]})"
   ],
   "metadata": {
    "collapsed": false,
    "pycharm": {
     "name": "#%%\n"
    }
   }
  },
  {
   "cell_type": "markdown",
   "metadata": {},
   "source": [
    "3.3 Получите список рецептов, в этапах выполнения которых есть информация о времени (часы или минуты). Для отбора подходящих рецептов обратите внимание на атрибуты соответствующих тэгов."
   ]
  },
  {
   "cell_type": "code",
   "execution_count": null,
   "outputs": [],
   "source": [
    "\n"
   ],
   "metadata": {
    "collapsed": false,
    "pycharm": {
     "name": "#%%\n"
    }
   }
  },
  {
   "cell_type": "markdown",
   "metadata": {},
   "source": [
    "3.4 Загрузите данные из файла `recipes_sample.csv` (__ЛР2__) в таблицу `recipes`. Для строк, которые содержат пропуски в столбце `n_steps`, заполните этот столбец на основе файла  `steps_sample.xml`. Строки, в которых столбец `n_steps` заполнен, оставьте без изменений."
   ]
  },
  {
   "cell_type": "code",
   "execution_count": null,
   "outputs": [],
   "source": [],
   "metadata": {
    "collapsed": false,
    "pycharm": {
     "name": "#%%\n"
    }
   }
  },
  {
   "cell_type": "markdown",
   "metadata": {},
   "source": [
    "3.5 Проверьте, содержит ли столбец `n_steps` пропуски. Если нет, то преобразуйте его к целочисленному типу и сохраните результаты в файл `recipes_sample_with_filled_nsteps.csv`"
   ]
  },
  {
   "cell_type": "code",
   "execution_count": null,
   "outputs": [],
   "source": [],
   "metadata": {
    "collapsed": false,
    "pycharm": {
     "name": "#%%\n"
    }
   }
  },
  {
   "cell_type": "code",
   "execution_count": 215,
   "metadata": {},
   "outputs": [],
   "source": []
  }
 ],
 "metadata": {
  "kernelspec": {
   "display_name": "Python 3",
   "language": "python",
   "name": "python3"
  },
  "language_info": {
   "codemirror_mode": {
    "name": "ipython",
    "version": 3
   },
   "file_extension": ".py",
   "mimetype": "text/x-python",
   "name": "python",
   "nbconvert_exporter": "python",
   "pygments_lexer": "ipython3",
   "version": "3.8.5"
  }
 },
 "nbformat": 4,
 "nbformat_minor": 4
}