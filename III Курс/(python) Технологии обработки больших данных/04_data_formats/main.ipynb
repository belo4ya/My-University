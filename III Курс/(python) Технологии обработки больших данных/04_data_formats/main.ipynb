{
 "cells": [
  {
   "cell_type": "markdown",
   "metadata": {},
   "source": [
    "# Форматы данных (1)"
   ]
  },
  {
   "cell_type": "markdown",
   "metadata": {},
   "source": [
    "Материалы:\n",
    "* Макрушин С.В. \"Лекция 4: Форматы данных\"\n",
    "* https://docs.python.org/3/library/json.html\n",
    "* https://docs.python.org/3/library/pickle.html\n",
    "* https://www.crummy.com/software/BeautifulSoup/bs4/doc.ru/bs4ru.html\n",
    "* Уэс Маккини. Python и анализ данных"
   ]
  },
  {
   "cell_type": "markdown",
   "metadata": {},
   "source": [
    "## Задачи для совместного разбора"
   ]
  },
  {
   "cell_type": "markdown",
   "metadata": {},
   "source": [
    "1. Вывести все адреса электронной почты, содержащиеся в адресной книге `addres-book.json`"
   ]
  },
  {
   "cell_type": "code",
   "execution_count": 10,
   "outputs": [],
   "source": [
    "import json\n",
    "import pickle\n",
    "from collections import defaultdict\n",
    "from pathlib import Path\n",
    "import pprint\n",
    "\n",
    "import pandas as pd\n",
    "from bs4 import BeautifulSoup as bs"
   ],
   "metadata": {
    "collapsed": false,
    "pycharm": {
     "name": "#%%\n"
    }
   }
  },
  {
   "cell_type": "code",
   "execution_count": 11,
   "outputs": [],
   "source": [
    "def read_json(path: str):\n",
    "    with open(path, encoding='utf-8') as f:\n",
    "        return json.load(f)\n",
    "\n",
    "\n",
    "def write_json(path: str, data: dict):\n",
    "    with open(path, mode='w', encoding='utf-8') as f:\n",
    "        json.dump(data, f, ensure_ascii=False, indent=4)"
   ],
   "metadata": {
    "collapsed": false,
    "pycharm": {
     "name": "#%%\n"
    }
   }
  },
  {
   "cell_type": "code",
   "execution_count": 12,
   "outputs": [],
   "source": [
    "def read_xml(path: str) -> bs:\n",
    "    with open(path, encoding='utf-8') as f:\n",
    "        return bs(''.join(f.readlines()), 'lxml')"
   ],
   "metadata": {
    "collapsed": false,
    "pycharm": {
     "name": "#%%\n"
    }
   }
  },
  {
   "cell_type": "code",
   "execution_count": 13,
   "outputs": [],
   "source": [
    "def read_pickle(path: str):\n",
    "    with open(path, mode='rb') as f:\n",
    "        return pickle.load(f)\n",
    "\n",
    "\n",
    "def write_pickle(path: str, data: dict):\n",
    "    with open(path, mode='wb') as f:\n",
    "        pickle.dump(data, f)"
   ],
   "metadata": {
    "collapsed": false,
    "pycharm": {
     "name": "#%%\n"
    }
   }
  },
  {
   "cell_type": "code",
   "execution_count": 14,
   "outputs": [],
   "source": [
    "def pprint_xml(xml, n=10):\n",
    "    print('\\n'.join(xml.prettify().split('\\n')[:n]) + '\\n...')\n",
    "\n",
    "\n",
    "def pprint_dict_of_list(dct: dict, n=3, m=10):\n",
    "    pprint.pprint({k: [*v[:m], '...'] for k, v in list(dct.items())[:n]}, sort_dicts=False)\n"
   ],
   "metadata": {
    "collapsed": false,
    "pycharm": {
     "name": "#%%\n"
    }
   }
  },
  {
   "cell_type": "code",
   "execution_count": 15,
   "outputs": [
    {
     "data": {
      "text/plain": "[{'name': 'Faina Lee',\n  'email': 'faina@mail.ru',\n  'birthday': '22.08.1994',\n  'phones': [{'phone': '232-19-55'}, {'phone': '+7 (916) 232-19-55'}]},\n {'name': 'Robert Lee',\n  'email': 'robert@mail.ru',\n  'birthday': '22.08.1994',\n  'phones': [{'phone': '111-19-55'}, {'phone': '+7 (916) 445-19-55'}]}]"
     },
     "execution_count": 15,
     "metadata": {},
     "output_type": "execute_result"
    }
   ],
   "source": [
    "address_book = read_json('data/addressBook.json')\n",
    "address_book"
   ],
   "metadata": {
    "collapsed": false,
    "pycharm": {
     "name": "#%%\n"
    }
   }
  },
  {
   "cell_type": "code",
   "execution_count": 16,
   "outputs": [
    {
     "data": {
      "text/plain": "['faina@mail.ru', 'robert@mail.ru']"
     },
     "execution_count": 16,
     "metadata": {},
     "output_type": "execute_result"
    }
   ],
   "source": [
    "emails = [address.get('email') for address in address_book]\n",
    "emails"
   ],
   "metadata": {
    "collapsed": false,
    "pycharm": {
     "name": "#%%\n"
    }
   }
  },
  {
   "cell_type": "markdown",
   "metadata": {},
   "source": [
    "2. Вывести телефоны, содержащиеся в адресной книге `addres-book.json`"
   ]
  },
  {
   "cell_type": "code",
   "execution_count": 17,
   "outputs": [
    {
     "data": {
      "text/plain": "['232-19-55', '+7 (916) 232-19-55', '111-19-55', '+7 (916) 445-19-55']"
     },
     "execution_count": 17,
     "metadata": {},
     "output_type": "execute_result"
    }
   ],
   "source": [
    "phones = []\n",
    "for address in address_book:\n",
    "    for phone in address.get('phones'):\n",
    "        phones.append(phone['phone'])\n",
    "\n",
    "phones"
   ],
   "metadata": {
    "collapsed": false,
    "pycharm": {
     "name": "#%%\n"
    }
   }
  },
  {
   "cell_type": "markdown",
   "metadata": {},
   "source": [
    "3. По данным из файла `addres-book-q.xml` сформировать список словарей с телефонами каждого из людей."
   ]
  },
  {
   "cell_type": "code",
   "execution_count": 18,
   "outputs": [
    {
     "name": "stdout",
     "output_type": "stream",
     "text": [
      "<?xml version=\"1.0\" encoding=\"UTF-8\" ?>\n",
      "<html>\n",
      " <body>\n",
      "  <address_book>\n",
      "   <country name=\"algeria\">\n",
      "    <address id=\"1\">\n",
      "     <gender>\n",
      "      m\n",
      "     </gender>\n",
      "     <name>\n",
      "...\n"
     ]
    }
   ],
   "source": [
    "soup = read_xml('data/address_book.xml')\n",
    "pprint_xml(soup)"
   ],
   "metadata": {
    "collapsed": false,
    "pycharm": {
     "name": "#%%\n"
    }
   }
  },
  {
   "cell_type": "code",
   "execution_count": 19,
   "outputs": [
    {
     "data": {
      "text/plain": "[{'name': 'Aicha Barki', 'phones': ['+ (213) 6150 4015', '+ (213) 2173 5247']},\n {'name': 'Francisco Domingos',\n  'phones': ['+ (244-2) 325 023', '+ (244-2) 325 023']},\n {'name': 'Maria Luisa', 'phones': ['+ (244) 4232 2836']},\n {'name': 'Abraao Chanda',\n  'phones': ['+ (244-2) 325 023', '+ (244-2) 325 023']},\n {'name': 'Beatriz Busaniche', 'phones': ['+ (54-11) 4784 1159']},\n {'name': 'Francesca Beddie',\n  'phones': ['+ (61-2) 6274 9500', '+ (61-2) 6274 9513']},\n {'name': 'Graham John Smith', 'phones': ['+ (61-3) 9807 4702']}]"
     },
     "execution_count": 19,
     "metadata": {},
     "output_type": "execute_result"
    }
   ],
   "source": [
    "phone_book = []\n",
    "for address in soup.find_all('address'):\n",
    "    name = address.find('name').string\n",
    "    phones = [phone.string for phone in address.find_all('phone')]\n",
    "    phone_book.append({\n",
    "        'name': name,\n",
    "        'phones': phones\n",
    "    })\n",
    "\n",
    "phone_book"
   ],
   "metadata": {
    "collapsed": false,
    "pycharm": {
     "name": "#%%\n"
    }
   }
  },
  {
   "cell_type": "markdown",
   "metadata": {},
   "source": [
    "## Лабораторная работа №4"
   ]
  },
  {
   "cell_type": "markdown",
   "metadata": {},
   "source": [
    "### JSON"
   ]
  },
  {
   "cell_type": "markdown",
   "metadata": {},
   "source": [
    "1.1 Считайте файл `contributors_sample.json`. Воспользовавшись модулем `json`, преобразуйте содержимое файла в соответствующие объекты python. Выведите на экран информацию о первых 3 пользователях."
   ]
  },
  {
   "cell_type": "code",
   "execution_count": 20,
   "outputs": [
    {
     "data": {
      "text/plain": "[{'username': 'uhebert',\n  'name': 'Lindsey Nguyen',\n  'sex': 'F',\n  'address': '01261 Cameron Spring\\nTaylorfurt, AK 97791',\n  'mail': 'jsalazar@gmail.com',\n  'jobs': ['Energy engineer',\n   'Engineer, site',\n   'Environmental health practitioner',\n   'Biomedical scientist',\n   'Jewellery designer'],\n  'id': 35193},\n {'username': 'vickitaylor',\n  'name': 'Cheryl Lewis',\n  'sex': 'F',\n  'address': '66992 Welch Brooks\\nMarshallshire, ID 56004',\n  'mail': 'bhudson@gmail.com',\n  'jobs': ['Music therapist',\n   'Volunteer coordinator',\n   'Designer, interior/spatial'],\n  'id': 91970},\n {'username': 'sheilaadams',\n  'name': 'Julia Allen',\n  'sex': 'F',\n  'address': 'Unit 1632 Box 2971\\nDPO AE 23297',\n  'mail': 'darren44@yahoo.com',\n  'jobs': ['Management consultant',\n   'Engineer, structural',\n   'Lecturer, higher education',\n   'Theatre manager',\n   'Designer, textile'],\n  'id': 1848091}]"
     },
     "execution_count": 20,
     "metadata": {},
     "output_type": "execute_result"
    }
   ],
   "source": [
    "contributors = read_json('data/contributorsSample.json')\n",
    "contributors[:3]"
   ],
   "metadata": {
    "collapsed": false,
    "pycharm": {
     "name": "#%%\n"
    }
   }
  },
  {
   "cell_type": "markdown",
   "metadata": {},
   "source": [
    "1.2 Выведите уникальные почтовые домены, содержащиеся в почтовых адресах людей"
   ]
  },
  {
   "cell_type": "code",
   "execution_count": 21,
   "outputs": [
    {
     "data": {
      "text/plain": "{'gmail.com', 'hotmail.com', 'yahoo.com'}"
     },
     "execution_count": 21,
     "metadata": {},
     "output_type": "execute_result"
    }
   ],
   "source": [
    "mail_domains = set()\n",
    "for contributor in contributors:\n",
    "    mail_domains.add(contributor['mail'].split('@')[-1])\n",
    "\n",
    "mail_domains"
   ],
   "metadata": {
    "collapsed": false,
    "pycharm": {
     "name": "#%%\n"
    }
   }
  },
  {
   "cell_type": "markdown",
   "metadata": {},
   "source": [
    "1.3 Напишите функцию, которая по `username` ищет человека и выводит информацию о нем. Если пользователь с заданным `username` отсутствует, возбудите исключение `ValueError`"
   ]
  },
  {
   "cell_type": "code",
   "execution_count": 22,
   "outputs": [],
   "source": [
    "# допущение: username является уникальным\n",
    "indexed_data = {contributor['username']: contributor for contributor in contributors}"
   ],
   "metadata": {
    "collapsed": false,
    "pycharm": {
     "name": "#%%\n"
    }
   }
  },
  {
   "cell_type": "code",
   "execution_count": 23,
   "outputs": [],
   "source": [
    "def find_by_username(username: str) -> dict:\n",
    "    contributor = indexed_data.get(username)\n",
    "    if contributor is None:\n",
    "        raise ValueError(f'Контрибьютер с {username=} не найден.')\n",
    "\n",
    "    return contributor"
   ],
   "metadata": {
    "collapsed": false,
    "pycharm": {
     "name": "#%%\n"
    }
   }
  },
  {
   "cell_type": "code",
   "execution_count": 24,
   "outputs": [
    {
     "data": {
      "text/plain": "{'username': 'uhebert',\n 'name': 'Lindsey Nguyen',\n 'sex': 'F',\n 'address': '01261 Cameron Spring\\nTaylorfurt, AK 97791',\n 'mail': 'jsalazar@gmail.com',\n 'jobs': ['Energy engineer',\n  'Engineer, site',\n  'Environmental health practitioner',\n  'Biomedical scientist',\n  'Jewellery designer'],\n 'id': 35193}"
     },
     "execution_count": 24,
     "metadata": {},
     "output_type": "execute_result"
    }
   ],
   "source": [
    "find_by_username('uhebert')"
   ],
   "metadata": {
    "collapsed": false,
    "pycharm": {
     "name": "#%%\n"
    }
   }
  },
  {
   "cell_type": "code",
   "execution_count": 25,
   "outputs": [
    {
     "name": "stdout",
     "output_type": "stream",
     "text": [
      "Контрибьютер с username='aabbcc' не найден.\n"
     ]
    }
   ],
   "source": [
    "try:\n",
    "    find_by_username('aabbcc')\n",
    "except ValueError as e:\n",
    "    print(e)"
   ],
   "metadata": {
    "collapsed": false,
    "pycharm": {
     "name": "#%%\n"
    }
   }
  },
  {
   "cell_type": "markdown",
   "metadata": {},
   "source": [
    "1.4 Посчитайте, сколько мужчин и женщин присутсвует в этом наборе данных."
   ]
  },
  {
   "cell_type": "code",
   "execution_count": 26,
   "outputs": [],
   "source": [
    "def count_by_sex(data):\n",
    "    counter = defaultdict(int)  # спасибо, что я знаю тебя\n",
    "    for contributor in data:\n",
    "        counter[contributor['sex'].upper()] += 1\n",
    "\n",
    "    return {'M': counter['M'], 'F': counter['F']}"
   ],
   "metadata": {
    "collapsed": false,
    "pycharm": {
     "name": "#%%\n"
    }
   }
  },
  {
   "cell_type": "code",
   "execution_count": 27,
   "outputs": [
    {
     "data": {
      "text/plain": "{'M': 2064, 'F': 2136}"
     },
     "execution_count": 27,
     "metadata": {},
     "output_type": "execute_result"
    }
   ],
   "source": [
    "count_by_sex(contributors)"
   ],
   "metadata": {
    "collapsed": false,
    "pycharm": {
     "name": "#%%\n"
    }
   }
  },
  {
   "cell_type": "markdown",
   "metadata": {},
   "source": [
    "1.5 Создайте `pd.DataFrame` `contributors`, имеющий столбцы `id`, `username` и `sex`."
   ]
  },
  {
   "cell_type": "code",
   "execution_count": 28,
   "outputs": [
    {
     "data": {
      "text/plain": "           id       username sex\n0       35193        uhebert   F\n1       91970    vickitaylor   F\n2     1848091    sheilaadams   F\n3       50969       nicole82   F\n4      676820         jean67   M\n...       ...            ...  ..\n4195   423555  stevenspencer   F\n4196    35251      rwilliams   M\n4197   135887      lmartinez   F\n4198   212714     brendahill   M\n4199   344321       mistyray   F\n\n[4200 rows x 3 columns]",
      "text/html": "<div>\n<style scoped>\n    .dataframe tbody tr th:only-of-type {\n        vertical-align: middle;\n    }\n\n    .dataframe tbody tr th {\n        vertical-align: top;\n    }\n\n    .dataframe thead th {\n        text-align: right;\n    }\n</style>\n<table border=\"1\" class=\"dataframe\">\n  <thead>\n    <tr style=\"text-align: right;\">\n      <th></th>\n      <th>id</th>\n      <th>username</th>\n      <th>sex</th>\n    </tr>\n  </thead>\n  <tbody>\n    <tr>\n      <th>0</th>\n      <td>35193</td>\n      <td>uhebert</td>\n      <td>F</td>\n    </tr>\n    <tr>\n      <th>1</th>\n      <td>91970</td>\n      <td>vickitaylor</td>\n      <td>F</td>\n    </tr>\n    <tr>\n      <th>2</th>\n      <td>1848091</td>\n      <td>sheilaadams</td>\n      <td>F</td>\n    </tr>\n    <tr>\n      <th>3</th>\n      <td>50969</td>\n      <td>nicole82</td>\n      <td>F</td>\n    </tr>\n    <tr>\n      <th>4</th>\n      <td>676820</td>\n      <td>jean67</td>\n      <td>M</td>\n    </tr>\n    <tr>\n      <th>...</th>\n      <td>...</td>\n      <td>...</td>\n      <td>...</td>\n    </tr>\n    <tr>\n      <th>4195</th>\n      <td>423555</td>\n      <td>stevenspencer</td>\n      <td>F</td>\n    </tr>\n    <tr>\n      <th>4196</th>\n      <td>35251</td>\n      <td>rwilliams</td>\n      <td>M</td>\n    </tr>\n    <tr>\n      <th>4197</th>\n      <td>135887</td>\n      <td>lmartinez</td>\n      <td>F</td>\n    </tr>\n    <tr>\n      <th>4198</th>\n      <td>212714</td>\n      <td>brendahill</td>\n      <td>M</td>\n    </tr>\n    <tr>\n      <th>4199</th>\n      <td>344321</td>\n      <td>mistyray</td>\n      <td>F</td>\n    </tr>\n  </tbody>\n</table>\n<p>4200 rows × 3 columns</p>\n</div>"
     },
     "execution_count": 28,
     "metadata": {},
     "output_type": "execute_result"
    }
   ],
   "source": [
    "contributors_df = pd.DataFrame([\n",
    "    {\n",
    "        'id': contributor['id'],\n",
    "        'username': contributor['username'],\n",
    "        'sex': contributor['sex']\n",
    "    }\n",
    "    for contributor in contributors\n",
    "])\n",
    "\n",
    "contributors_df"
   ],
   "metadata": {
    "collapsed": false,
    "pycharm": {
     "name": "#%%\n"
    }
   }
  },
  {
   "cell_type": "markdown",
   "metadata": {},
   "source": [
    "1.6 Загрузите данные из файла `recipes_sample.csv` (__ЛР2__) в таблицу `recipes`. Объедините `recipes` с таблицей `contributors` с сохранением строк в том случае, если информация о человеке отсутствует в JSON-файле. Для скольких человек информация отсутствует? "
   ]
  },
  {
   "cell_type": "code",
   "execution_count": 29,
   "outputs": [
    {
     "data": {
      "text/plain": "                                               name      id  minutes  \\\n0             george s at the cove  black bean soup   44123       90   \n1                healthy for them  yogurt popsicles   67664       10   \n2                      i can t believe it s spinach   38798       30   \n3                              italian  gut busters   35173       45   \n4          love is in the air  beef fondue   sauces   84797       25   \n...                                             ...     ...      ...   \n29995  zurie s holey rustic olive and cheddar bread  267661       80   \n29996          zwetschgenkuchen  bavarian plum cake  386977      240   \n29997   zwiebelkuchen   southwest german onion cake  103312       75   \n29998                                   zydeco soup  486161       60   \n29999        cookies by design   cookies on a stick  298512       29   \n\n       contributor_id  submitted  n_steps  \\\n0               35193 2002-10-25      NaN   \n1               91970 2003-07-26      NaN   \n2                1533 2002-08-29      NaN   \n3               22724 2002-07-27      NaN   \n4                4470 2004-02-23      4.0   \n...               ...        ...      ...   \n29995          200862 2007-11-25     16.0   \n29996          177443 2009-08-24      NaN   \n29997          161745 2004-11-03      NaN   \n29998          227978 2012-08-29      NaN   \n29999          506822 2008-04-15      9.0   \n\n                                             description  n_ingredients  \n0      an original recipe created by chef scott meska...           18.0  \n1      my children and their friends ask for my homem...            NaN  \n2                these were so go, it surprised even me.            8.0  \n3      my sister-in-law made these for us at a family...            NaN  \n4      i think a fondue is a very romantic casual din...            NaN  \n...                                                  ...            ...  \n29995  this is based on a french recipe but i changed...           10.0  \n29996  this is a traditional fresh plum cake, thought...           11.0  \n29997  this is a traditional late summer early fall s...            NaN  \n29998  this is a delicious soup that i originally fou...            NaN  \n29999  i've heard of the 'cookies by design' company,...           10.0  \n\n[30000 rows x 8 columns]",
      "text/html": "<div>\n<style scoped>\n    .dataframe tbody tr th:only-of-type {\n        vertical-align: middle;\n    }\n\n    .dataframe tbody tr th {\n        vertical-align: top;\n    }\n\n    .dataframe thead th {\n        text-align: right;\n    }\n</style>\n<table border=\"1\" class=\"dataframe\">\n  <thead>\n    <tr style=\"text-align: right;\">\n      <th></th>\n      <th>name</th>\n      <th>id</th>\n      <th>minutes</th>\n      <th>contributor_id</th>\n      <th>submitted</th>\n      <th>n_steps</th>\n      <th>description</th>\n      <th>n_ingredients</th>\n    </tr>\n  </thead>\n  <tbody>\n    <tr>\n      <th>0</th>\n      <td>george s at the cove  black bean soup</td>\n      <td>44123</td>\n      <td>90</td>\n      <td>35193</td>\n      <td>2002-10-25</td>\n      <td>NaN</td>\n      <td>an original recipe created by chef scott meska...</td>\n      <td>18.0</td>\n    </tr>\n    <tr>\n      <th>1</th>\n      <td>healthy for them  yogurt popsicles</td>\n      <td>67664</td>\n      <td>10</td>\n      <td>91970</td>\n      <td>2003-07-26</td>\n      <td>NaN</td>\n      <td>my children and their friends ask for my homem...</td>\n      <td>NaN</td>\n    </tr>\n    <tr>\n      <th>2</th>\n      <td>i can t believe it s spinach</td>\n      <td>38798</td>\n      <td>30</td>\n      <td>1533</td>\n      <td>2002-08-29</td>\n      <td>NaN</td>\n      <td>these were so go, it surprised even me.</td>\n      <td>8.0</td>\n    </tr>\n    <tr>\n      <th>3</th>\n      <td>italian  gut busters</td>\n      <td>35173</td>\n      <td>45</td>\n      <td>22724</td>\n      <td>2002-07-27</td>\n      <td>NaN</td>\n      <td>my sister-in-law made these for us at a family...</td>\n      <td>NaN</td>\n    </tr>\n    <tr>\n      <th>4</th>\n      <td>love is in the air  beef fondue   sauces</td>\n      <td>84797</td>\n      <td>25</td>\n      <td>4470</td>\n      <td>2004-02-23</td>\n      <td>4.0</td>\n      <td>i think a fondue is a very romantic casual din...</td>\n      <td>NaN</td>\n    </tr>\n    <tr>\n      <th>...</th>\n      <td>...</td>\n      <td>...</td>\n      <td>...</td>\n      <td>...</td>\n      <td>...</td>\n      <td>...</td>\n      <td>...</td>\n      <td>...</td>\n    </tr>\n    <tr>\n      <th>29995</th>\n      <td>zurie s holey rustic olive and cheddar bread</td>\n      <td>267661</td>\n      <td>80</td>\n      <td>200862</td>\n      <td>2007-11-25</td>\n      <td>16.0</td>\n      <td>this is based on a french recipe but i changed...</td>\n      <td>10.0</td>\n    </tr>\n    <tr>\n      <th>29996</th>\n      <td>zwetschgenkuchen  bavarian plum cake</td>\n      <td>386977</td>\n      <td>240</td>\n      <td>177443</td>\n      <td>2009-08-24</td>\n      <td>NaN</td>\n      <td>this is a traditional fresh plum cake, thought...</td>\n      <td>11.0</td>\n    </tr>\n    <tr>\n      <th>29997</th>\n      <td>zwiebelkuchen   southwest german onion cake</td>\n      <td>103312</td>\n      <td>75</td>\n      <td>161745</td>\n      <td>2004-11-03</td>\n      <td>NaN</td>\n      <td>this is a traditional late summer early fall s...</td>\n      <td>NaN</td>\n    </tr>\n    <tr>\n      <th>29998</th>\n      <td>zydeco soup</td>\n      <td>486161</td>\n      <td>60</td>\n      <td>227978</td>\n      <td>2012-08-29</td>\n      <td>NaN</td>\n      <td>this is a delicious soup that i originally fou...</td>\n      <td>NaN</td>\n    </tr>\n    <tr>\n      <th>29999</th>\n      <td>cookies by design   cookies on a stick</td>\n      <td>298512</td>\n      <td>29</td>\n      <td>506822</td>\n      <td>2008-04-15</td>\n      <td>9.0</td>\n      <td>i've heard of the 'cookies by design' company,...</td>\n      <td>10.0</td>\n    </tr>\n  </tbody>\n</table>\n<p>30000 rows × 8 columns</p>\n</div>"
     },
     "execution_count": 29,
     "metadata": {},
     "output_type": "execute_result"
    }
   ],
   "source": [
    "recipes_df = pd.read_csv('data/recipes_sample.csv', sep=',', parse_dates=['submitted'])\n",
    "recipes_df"
   ],
   "metadata": {
    "collapsed": false,
    "pycharm": {
     "name": "#%%\n"
    }
   }
  },
  {
   "cell_type": "code",
   "execution_count": 30,
   "outputs": [
    {
     "data": {
      "text/plain": "                                          name    id_x  minutes  \\\n0        george s at the cove  black bean soup   44123       90   \n1           healthy for them  yogurt popsicles   67664       10   \n2                 i can t believe it s spinach   38798       30   \n3                         italian  gut busters   35173       45   \n4     love is in the air  beef fondue   sauces   84797       25   \n...                                        ...     ...      ...   \n8399                           zucchini strips  279769       30   \n8400        zucchini with bacon corn   peppers  326105       45   \n8401      zucchini with bell pepper and tomato  363362       13   \n8402                 zucchini with serrano ham  162411       15   \n8403                  zucchini potato pancakes  180833       45   \n\n      contributor_id  submitted  n_steps  \\\n0              35193 2002-10-25      NaN   \n1              91970 2003-07-26      NaN   \n2               1533 2002-08-29      NaN   \n3              22724 2002-07-27      NaN   \n4               4470 2004-02-23      4.0   \n...              ...        ...      ...   \n8399          522304 2008-01-18      8.0   \n8400          896136 2008-09-19      8.0   \n8401          344321 2009-03-29     19.0   \n8402          152500 2006-03-31      6.0   \n8403          186118 2006-08-07      NaN   \n\n                                            description  n_ingredients  \\\n0     an original recipe created by chef scott meska...           18.0   \n1     my children and their friends ask for my homem...            NaN   \n2               these were so go, it surprised even me.            8.0   \n3     my sister-in-law made these for us at a family...            NaN   \n4     i think a fondue is a very romantic casual din...            NaN   \n...                                                 ...            ...   \n8399              spicy, salty, crispy zucchini strips!            4.0   \n8400  this is a very colorful addition to any meal. ...            7.0   \n8401  the weather has been turning warmer and i have...            8.0   \n8402  this dish is from tim malzer, a german chef wh...            5.0   \n8403  this recipe was posted in our local newspaper,...            9.0   \n\n          id_y     username  sex  \n0      35193.0      uhebert    F  \n1      91970.0  vickitaylor    F  \n2          NaN          NaN  NaN  \n3          NaN          NaN  NaN  \n4          NaN          NaN  NaN  \n...        ...          ...  ...  \n8399       NaN          NaN  NaN  \n8400       NaN          NaN  NaN  \n8401  344321.0     mistyray    F  \n8402       NaN          NaN  NaN  \n8403       NaN          NaN  NaN  \n\n[8404 rows x 11 columns]",
      "text/html": "<div>\n<style scoped>\n    .dataframe tbody tr th:only-of-type {\n        vertical-align: middle;\n    }\n\n    .dataframe tbody tr th {\n        vertical-align: top;\n    }\n\n    .dataframe thead th {\n        text-align: right;\n    }\n</style>\n<table border=\"1\" class=\"dataframe\">\n  <thead>\n    <tr style=\"text-align: right;\">\n      <th></th>\n      <th>name</th>\n      <th>id_x</th>\n      <th>minutes</th>\n      <th>contributor_id</th>\n      <th>submitted</th>\n      <th>n_steps</th>\n      <th>description</th>\n      <th>n_ingredients</th>\n      <th>id_y</th>\n      <th>username</th>\n      <th>sex</th>\n    </tr>\n  </thead>\n  <tbody>\n    <tr>\n      <th>0</th>\n      <td>george s at the cove  black bean soup</td>\n      <td>44123</td>\n      <td>90</td>\n      <td>35193</td>\n      <td>2002-10-25</td>\n      <td>NaN</td>\n      <td>an original recipe created by chef scott meska...</td>\n      <td>18.0</td>\n      <td>35193.0</td>\n      <td>uhebert</td>\n      <td>F</td>\n    </tr>\n    <tr>\n      <th>1</th>\n      <td>healthy for them  yogurt popsicles</td>\n      <td>67664</td>\n      <td>10</td>\n      <td>91970</td>\n      <td>2003-07-26</td>\n      <td>NaN</td>\n      <td>my children and their friends ask for my homem...</td>\n      <td>NaN</td>\n      <td>91970.0</td>\n      <td>vickitaylor</td>\n      <td>F</td>\n    </tr>\n    <tr>\n      <th>2</th>\n      <td>i can t believe it s spinach</td>\n      <td>38798</td>\n      <td>30</td>\n      <td>1533</td>\n      <td>2002-08-29</td>\n      <td>NaN</td>\n      <td>these were so go, it surprised even me.</td>\n      <td>8.0</td>\n      <td>NaN</td>\n      <td>NaN</td>\n      <td>NaN</td>\n    </tr>\n    <tr>\n      <th>3</th>\n      <td>italian  gut busters</td>\n      <td>35173</td>\n      <td>45</td>\n      <td>22724</td>\n      <td>2002-07-27</td>\n      <td>NaN</td>\n      <td>my sister-in-law made these for us at a family...</td>\n      <td>NaN</td>\n      <td>NaN</td>\n      <td>NaN</td>\n      <td>NaN</td>\n    </tr>\n    <tr>\n      <th>4</th>\n      <td>love is in the air  beef fondue   sauces</td>\n      <td>84797</td>\n      <td>25</td>\n      <td>4470</td>\n      <td>2004-02-23</td>\n      <td>4.0</td>\n      <td>i think a fondue is a very romantic casual din...</td>\n      <td>NaN</td>\n      <td>NaN</td>\n      <td>NaN</td>\n      <td>NaN</td>\n    </tr>\n    <tr>\n      <th>...</th>\n      <td>...</td>\n      <td>...</td>\n      <td>...</td>\n      <td>...</td>\n      <td>...</td>\n      <td>...</td>\n      <td>...</td>\n      <td>...</td>\n      <td>...</td>\n      <td>...</td>\n      <td>...</td>\n    </tr>\n    <tr>\n      <th>8399</th>\n      <td>zucchini strips</td>\n      <td>279769</td>\n      <td>30</td>\n      <td>522304</td>\n      <td>2008-01-18</td>\n      <td>8.0</td>\n      <td>spicy, salty, crispy zucchini strips!</td>\n      <td>4.0</td>\n      <td>NaN</td>\n      <td>NaN</td>\n      <td>NaN</td>\n    </tr>\n    <tr>\n      <th>8400</th>\n      <td>zucchini with bacon corn   peppers</td>\n      <td>326105</td>\n      <td>45</td>\n      <td>896136</td>\n      <td>2008-09-19</td>\n      <td>8.0</td>\n      <td>this is a very colorful addition to any meal. ...</td>\n      <td>7.0</td>\n      <td>NaN</td>\n      <td>NaN</td>\n      <td>NaN</td>\n    </tr>\n    <tr>\n      <th>8401</th>\n      <td>zucchini with bell pepper and tomato</td>\n      <td>363362</td>\n      <td>13</td>\n      <td>344321</td>\n      <td>2009-03-29</td>\n      <td>19.0</td>\n      <td>the weather has been turning warmer and i have...</td>\n      <td>8.0</td>\n      <td>344321.0</td>\n      <td>mistyray</td>\n      <td>F</td>\n    </tr>\n    <tr>\n      <th>8402</th>\n      <td>zucchini with serrano ham</td>\n      <td>162411</td>\n      <td>15</td>\n      <td>152500</td>\n      <td>2006-03-31</td>\n      <td>6.0</td>\n      <td>this dish is from tim malzer, a german chef wh...</td>\n      <td>5.0</td>\n      <td>NaN</td>\n      <td>NaN</td>\n      <td>NaN</td>\n    </tr>\n    <tr>\n      <th>8403</th>\n      <td>zucchini potato pancakes</td>\n      <td>180833</td>\n      <td>45</td>\n      <td>186118</td>\n      <td>2006-08-07</td>\n      <td>NaN</td>\n      <td>this recipe was posted in our local newspaper,...</td>\n      <td>9.0</td>\n      <td>NaN</td>\n      <td>NaN</td>\n      <td>NaN</td>\n    </tr>\n  </tbody>\n</table>\n<p>8404 rows × 11 columns</p>\n</div>"
     },
     "execution_count": 30,
     "metadata": {},
     "output_type": "execute_result"
    }
   ],
   "source": [
    "recipes_contributors_df = pd.merge(\n",
    "    recipes_df.drop_duplicates('contributor_id'),\n",
    "    contributors_df,\n",
    "    how='left',\n",
    "    left_on='contributor_id',\n",
    "    right_on='id'\n",
    ")\n",
    "\n",
    "recipes_contributors_df"
   ],
   "metadata": {
    "collapsed": false,
    "pycharm": {
     "name": "#%%\n"
    }
   }
  },
  {
   "cell_type": "code",
   "execution_count": 31,
   "outputs": [
    {
     "data": {
      "text/plain": "4204"
     },
     "execution_count": 31,
     "metadata": {},
     "output_type": "execute_result"
    }
   ],
   "source": [
    "recipes_contributors_df['id_y'].isna().sum()"
   ],
   "metadata": {
    "collapsed": false,
    "pycharm": {
     "name": "#%%\n"
    }
   }
  },
  {
   "cell_type": "code",
   "execution_count": 32,
   "outputs": [
    {
     "data": {
      "text/plain": "0        622593\n1        557057\n2       1105923\n3         32772\n4       1228804\n         ...   \n4199    2924524\n4200     237551\n4201     458738\n4202     114681\n4203      57338\nLength: 4204, dtype: int64"
     },
     "execution_count": 32,
     "metadata": {},
     "output_type": "execute_result"
    }
   ],
   "source": [
    "pd.Series(list(\n",
    "    set(recipes_df['contributor_id'].unique()) - set(contributors_df['id'].unique())\n",
    "))"
   ],
   "metadata": {
    "collapsed": false,
    "pycharm": {
     "name": "#%%\n"
    }
   }
  },
  {
   "cell_type": "markdown",
   "metadata": {},
   "source": [
    "### pickle"
   ]
  },
  {
   "cell_type": "markdown",
   "metadata": {},
   "source": [
    "2.1 На основе файла `contributors_sample.json` создайте словарь следующего вида: \n",
    "```\n",
    "{\n",
    "    должность: [список username людей, занимавших эту должность]\n",
    "}\n",
    "```"
   ]
  },
  {
   "cell_type": "code",
   "execution_count": 33,
   "outputs": [
    {
     "name": "stdout",
     "output_type": "stream",
     "text": [
      "{'biomedical scientist': ['uhebert',\n",
      "                          'smithheather',\n",
      "                          'epittman',\n",
      "                          'scotttyrone',\n",
      "                          'limadeline',\n",
      "                          'robertsmith',\n",
      "                          'friedmanronald',\n",
      "                          'sarahirwin',\n",
      "                          'xmiller',\n",
      "                          'jeremy66',\n",
      "                          '...'],\n",
      " 'environmental health practitioner': ['uhebert',\n",
      "                                       'jonathanchristian',\n",
      "                                       'xjohnson',\n",
      "                                       'dsmith',\n",
      "                                       'james01',\n",
      "                                       'nancytaylor',\n",
      "                                       'ztaylor',\n",
      "                                       'andrewwoods',\n",
      "                                       'susan54',\n",
      "                                       'fmaldonado',\n",
      "                                       '...'],\n",
      " 'energy engineer': ['uhebert',\n",
      "                     'annmoore',\n",
      "                     'garysilva',\n",
      "                     'martinezashley',\n",
      "                     'sextonsheila',\n",
      "                     'pjames',\n",
      "                     'smithjonathan',\n",
      "                     'wardjames',\n",
      "                     'cwheeler',\n",
      "                     'ucarlson',\n",
      "                     '...']}\n"
     ]
    }
   ],
   "source": [
    "job_people = defaultdict(list)\n",
    "for contributor in contributors:\n",
    "    for job in set(contributor['jobs']):\n",
    "        job_people[job.strip().casefold()].append(contributor['username'])\n",
    "\n",
    "pprint_dict_of_list(job_people)"
   ],
   "metadata": {
    "collapsed": false,
    "pycharm": {
     "name": "#%%\n"
    }
   }
  },
  {
   "cell_type": "markdown",
   "metadata": {},
   "source": [
    "2.2 Сохраните результаты в файл `job_people.pickle` и в файл `job_people.json` с использованием форматов pickle и JSON соответственно. Сравните объемы получившихся файлов. При сохранении в JSON укажите аргумент `indent`."
   ]
  },
  {
   "cell_type": "code",
   "execution_count": 34,
   "outputs": [],
   "source": [
    "pickle_path = 'data/output/job_people.pickle'\n",
    "write_pickle(pickle_path, job_people)"
   ],
   "metadata": {
    "collapsed": false,
    "pycharm": {
     "name": "#%%\n"
    }
   }
  },
  {
   "cell_type": "code",
   "execution_count": 35,
   "outputs": [],
   "source": [
    "json_path = 'data/output/job_people.json'\n",
    "write_json(json_path, job_people)"
   ],
   "metadata": {
    "collapsed": false,
    "pycharm": {
     "name": "#%%\n"
    }
   }
  },
  {
   "cell_type": "code",
   "execution_count": 36,
   "outputs": [
    {
     "name": "stdout",
     "output_type": "stream",
     "text": [
      "pickle: 132168 bytes\n",
      "json: 406637 bytes\n"
     ]
    }
   ],
   "source": [
    "print(f'pickle: {Path(pickle_path).stat().st_size} bytes')\n",
    "print(f'json: {Path(json_path).stat().st_size} bytes')"
   ],
   "metadata": {
    "collapsed": false,
    "pycharm": {
     "name": "#%%\n"
    }
   }
  },
  {
   "cell_type": "markdown",
   "metadata": {},
   "source": [
    "2.3 Считайте файл `job_people.pickle` и продемонстрируйте, что данные считались корректно. "
   ]
  },
  {
   "cell_type": "code",
   "execution_count": 37,
   "outputs": [
    {
     "name": "stdout",
     "output_type": "stream",
     "text": [
      "{'biomedical scientist': ['uhebert',\n",
      "                          'smithheather',\n",
      "                          'epittman',\n",
      "                          'scotttyrone',\n",
      "                          'limadeline',\n",
      "                          'robertsmith',\n",
      "                          'friedmanronald',\n",
      "                          'sarahirwin',\n",
      "                          'xmiller',\n",
      "                          'jeremy66',\n",
      "                          '...'],\n",
      " 'environmental health practitioner': ['uhebert',\n",
      "                                       'jonathanchristian',\n",
      "                                       'xjohnson',\n",
      "                                       'dsmith',\n",
      "                                       'james01',\n",
      "                                       'nancytaylor',\n",
      "                                       'ztaylor',\n",
      "                                       'andrewwoods',\n",
      "                                       'susan54',\n",
      "                                       'fmaldonado',\n",
      "                                       '...'],\n",
      " 'energy engineer': ['uhebert',\n",
      "                     'annmoore',\n",
      "                     'garysilva',\n",
      "                     'martinezashley',\n",
      "                     'sextonsheila',\n",
      "                     'pjames',\n",
      "                     'smithjonathan',\n",
      "                     'wardjames',\n",
      "                     'cwheeler',\n",
      "                     'ucarlson',\n",
      "                     '...']}\n"
     ]
    }
   ],
   "source": [
    "job_people_pickle = read_pickle(pickle_path)\n",
    "pprint_dict_of_list(job_people_pickle)"
   ],
   "metadata": {
    "collapsed": false,
    "pycharm": {
     "name": "#%%\n"
    }
   }
  },
  {
   "cell_type": "markdown",
   "metadata": {},
   "source": [
    "### XML"
   ]
  },
  {
   "cell_type": "markdown",
   "metadata": {},
   "source": [
    "3.1 По данным файла `steps_sample.xml` сформируйте словарь с шагами по каждому рецепту вида `{id_рецепта: [\"шаг1\", \"шаг2\"]}`. Сохраните этот словарь в файл `steps_sample.json`"
   ]
  },
  {
   "cell_type": "code",
   "execution_count": 38,
   "outputs": [],
   "source": [
    "steps_sample_soup = read_xml('data/steps_sample.xml')"
   ],
   "metadata": {
    "collapsed": false,
    "pycharm": {
     "name": "#%%\n"
    }
   }
  },
  {
   "cell_type": "code",
   "execution_count": 39,
   "outputs": [],
   "source": [
    "recipes_lst = steps_sample_soup.find_all('recipe')"
   ],
   "metadata": {
    "collapsed": false,
    "pycharm": {
     "name": "#%%\n"
    }
   }
  },
  {
   "cell_type": "code",
   "execution_count": 40,
   "outputs": [],
   "source": [
    "recipe_steps = {}\n",
    "for recipe in recipes_lst:\n",
    "    recipe_steps[recipe.find('id').text] = [\n",
    "        {\n",
    "            'description': step.text,\n",
    "            **step.attrs\n",
    "        }\n",
    "        for step in recipe.find_all('step')\n",
    "    ]"
   ],
   "metadata": {
    "collapsed": false,
    "pycharm": {
     "name": "#%%\n"
    }
   }
  },
  {
   "cell_type": "code",
   "execution_count": 41,
   "outputs": [
    {
     "name": "stdout",
     "output_type": "stream",
     "text": [
      "{'44123': [{'description': 'in 1 / 4 cup butter , saute carrots , onion , '\n",
      "                           'celery and broccoli stems for 5 minutes',\n",
      "            'has_minutes': '1'},\n",
      "           {'description': 'add thyme , oregano and basil'},\n",
      "           {'description': 'saute 5 minutes more', 'has_minutes': '1'},\n",
      "           {'description': 'add wine and deglaze pan'},\n",
      "           {'description': 'add hot chicken stock and reduce by one-third'},\n",
      "           {'description': 'add worcestershire sauce , tabasco , smoked '\n",
      "                           'chicken , beans and broccoli florets'},\n",
      "           {'description': 'simmer 5 minutes', 'has_minutes': '1'},\n",
      "           {'description': 'add cream , simmer 5 minutes more and season to '\n",
      "                           'taste',\n",
      "            'has_minutes': '1'},\n",
      "           {'description': 'drop in remaining butter , piece by piece , '\n",
      "                           'stirring until melted and serve immediately'},\n",
      "           {'description': 'smoked chicken: on a covered grill , slightly '\n",
      "                           'smoke boneless chicken , cooking to medium rare'},\n",
      "           '...'],\n",
      " '67664': [{'description': 'mix all the ingredients using a blender'},\n",
      "           {'description': 'pour into popsicle molds'},\n",
      "           {'description': 'freeze and enjoy !'},\n",
      "           '...'],\n",
      " '38798': [{'description': 'combine all ingredients in a large bowl and mix '\n",
      "                           'well'},\n",
      "           {'description': 'shape into one-inch balls'},\n",
      "           {'description': 'cover and refrigerate or freeze until ready to '\n",
      "                           'bake'},\n",
      "           {'description': 'preheat oven to 350 degrees', 'has_degrees': '1'},\n",
      "           {'description': 'place on ungreased baking sheet and bake until '\n",
      "                           'light brown'},\n",
      "           '...']}\n"
     ]
    }
   ],
   "source": [
    "pprint_dict_of_list(recipe_steps)"
   ],
   "metadata": {
    "collapsed": false,
    "pycharm": {
     "name": "#%%\n"
    }
   }
  },
  {
   "cell_type": "code",
   "execution_count": 42,
   "outputs": [],
   "source": [
    "write_json('data/output/steps_sample.json', recipe_steps)"
   ],
   "metadata": {
    "collapsed": false,
    "pycharm": {
     "name": "#%%\n"
    }
   }
  },
  {
   "cell_type": "markdown",
   "metadata": {},
   "source": [
    "3.2 По данным файла `steps_sample.xml` сформируйте словарь следующего вида: `кол-во_шагов_в_рецепте: [список_id_рецептов]`"
   ]
  },
  {
   "cell_type": "code",
   "execution_count": 43,
   "outputs": [],
   "source": [
    "step_recipes = defaultdict(list)\n",
    "for recipe in recipes_lst:\n",
    "    step_recipes[len(recipe.find_all('step'))].append(recipe.find('id').text)"
   ],
   "metadata": {
    "collapsed": false,
    "pycharm": {
     "name": "#%%\n"
    }
   }
  },
  {
   "cell_type": "code",
   "execution_count": 44,
   "outputs": [
    {
     "name": "stdout",
     "output_type": "stream",
     "text": [
      "{11: ['44123',\n",
      "      '302399',\n",
      "      '375376',\n",
      "      '140610',\n",
      "      '374703',\n",
      "      '111198',\n",
      "      '257111',\n",
      "      '432661',\n",
      "      '114204',\n",
      "      '63069',\n",
      "      '...'],\n",
      " 3: ['67664',\n",
      "     '118843',\n",
      "     '147477',\n",
      "     '367987',\n",
      "     '216068',\n",
      "     '375362',\n",
      "     '367828',\n",
      "     '286484',\n",
      "     '27060',\n",
      "     '121712',\n",
      "     '...'],\n",
      " 5: ['38798',\n",
      "     '69190',\n",
      "     '125195',\n",
      "     '306590',\n",
      "     '77380',\n",
      "     '378067',\n",
      "     '218671',\n",
      "     '453243',\n",
      "     '101260',\n",
      "     '416599',\n",
      "     '...']}\n"
     ]
    }
   ],
   "source": [
    "pprint_dict_of_list(step_recipes)"
   ],
   "metadata": {
    "collapsed": false,
    "pycharm": {
     "name": "#%%\n"
    }
   }
  },
  {
   "cell_type": "markdown",
   "metadata": {},
   "source": [
    "3.3 Получите список рецептов, в этапах выполнения которых есть информация о времени (часы или минуты). Для отбора подходящих рецептов обратите внимание на атрибуты соответствующих тэгов."
   ]
  },
  {
   "cell_type": "code",
   "execution_count": 45,
   "outputs": [],
   "source": [
    "recipes_with_time_info = []\n",
    "for recipe in recipes_lst:\n",
    "    if recipe.find_all(\n",
    "            lambda x: x.name == 'step' and (x.attrs.get('has_minutes') or x.attrs.get('has_hours'))\n",
    "    ):\n",
    "        recipes_with_time_info.append(recipe.find('id').text)"
   ],
   "metadata": {
    "collapsed": false,
    "pycharm": {
     "name": "#%%\n"
    }
   }
  },
  {
   "cell_type": "code",
   "execution_count": 46,
   "outputs": [
    {
     "name": "stdout",
     "output_type": "stream",
     "text": [
      "23469\n"
     ]
    },
    {
     "data": {
      "text/plain": "['44123',\n '35173',\n '453467',\n '306168',\n '50662',\n '118843',\n '149593',\n '200148',\n '310570',\n '95534']"
     },
     "execution_count": 46,
     "metadata": {},
     "output_type": "execute_result"
    }
   ],
   "source": [
    "print(len(recipes_with_time_info))\n",
    "recipes_with_time_info[:10]"
   ],
   "metadata": {
    "collapsed": false,
    "pycharm": {
     "name": "#%%\n"
    }
   }
  },
  {
   "cell_type": "markdown",
   "metadata": {},
   "source": [
    "3.4 Загрузите данные из файла `recipes_sample.csv` (__ЛР2__) в таблицу `recipes`. Для строк, которые содержат пропуски в столбце `n_steps`, заполните этот столбец на основе файла  `steps_sample.xml`. Строки, в которых столбец `n_steps` заполнен, оставьте без изменений."
   ]
  },
  {
   "cell_type": "code",
   "execution_count": 47,
   "outputs": [
    {
     "data": {
      "text/plain": "           id  n_steps\n0       44123       11\n1       67664        3\n2       38798        5\n3       35173        7\n4       84797        4\n...       ...      ...\n29995  267661       16\n29996  386977       22\n29997  103312       10\n29998  486161        7\n29999  298512        9\n\n[30000 rows x 2 columns]",
      "text/html": "<div>\n<style scoped>\n    .dataframe tbody tr th:only-of-type {\n        vertical-align: middle;\n    }\n\n    .dataframe tbody tr th {\n        vertical-align: top;\n    }\n\n    .dataframe thead th {\n        text-align: right;\n    }\n</style>\n<table border=\"1\" class=\"dataframe\">\n  <thead>\n    <tr style=\"text-align: right;\">\n      <th></th>\n      <th>id</th>\n      <th>n_steps</th>\n    </tr>\n  </thead>\n  <tbody>\n    <tr>\n      <th>0</th>\n      <td>44123</td>\n      <td>11</td>\n    </tr>\n    <tr>\n      <th>1</th>\n      <td>67664</td>\n      <td>3</td>\n    </tr>\n    <tr>\n      <th>2</th>\n      <td>38798</td>\n      <td>5</td>\n    </tr>\n    <tr>\n      <th>3</th>\n      <td>35173</td>\n      <td>7</td>\n    </tr>\n    <tr>\n      <th>4</th>\n      <td>84797</td>\n      <td>4</td>\n    </tr>\n    <tr>\n      <th>...</th>\n      <td>...</td>\n      <td>...</td>\n    </tr>\n    <tr>\n      <th>29995</th>\n      <td>267661</td>\n      <td>16</td>\n    </tr>\n    <tr>\n      <th>29996</th>\n      <td>386977</td>\n      <td>22</td>\n    </tr>\n    <tr>\n      <th>29997</th>\n      <td>103312</td>\n      <td>10</td>\n    </tr>\n    <tr>\n      <th>29998</th>\n      <td>486161</td>\n      <td>7</td>\n    </tr>\n    <tr>\n      <th>29999</th>\n      <td>298512</td>\n      <td>9</td>\n    </tr>\n  </tbody>\n</table>\n<p>30000 rows × 2 columns</p>\n</div>"
     },
     "execution_count": 47,
     "metadata": {},
     "output_type": "execute_result"
    }
   ],
   "source": [
    "steps_df = pd.DataFrame([\n",
    "    {\n",
    "        'id': int(recipe.find('id').text),\n",
    "        'n_steps': len(recipe.find_all('step')),\n",
    "    }\n",
    "    for recipe in recipes_lst\n",
    "])\n",
    "\n",
    "steps_df"
   ],
   "metadata": {
    "collapsed": false,
    "pycharm": {
     "name": "#%%\n"
    }
   }
  },
  {
   "cell_type": "code",
   "execution_count": 48,
   "outputs": [
    {
     "data": {
      "text/plain": "                                               name      id  minutes  \\\n0             george s at the cove  black bean soup   44123       90   \n1                healthy for them  yogurt popsicles   67664       10   \n2                      i can t believe it s spinach   38798       30   \n3                              italian  gut busters   35173       45   \n4          love is in the air  beef fondue   sauces   84797       25   \n...                                             ...     ...      ...   \n29995  zurie s holey rustic olive and cheddar bread  267661       80   \n29996          zwetschgenkuchen  bavarian plum cake  386977      240   \n29997   zwiebelkuchen   southwest german onion cake  103312       75   \n29998                                   zydeco soup  486161       60   \n29999        cookies by design   cookies on a stick  298512       29   \n\n       contributor_id  submitted  n_steps_x  \\\n0               35193 2002-10-25        NaN   \n1               91970 2003-07-26        NaN   \n2                1533 2002-08-29        NaN   \n3               22724 2002-07-27        NaN   \n4                4470 2004-02-23        4.0   \n...               ...        ...        ...   \n29995          200862 2007-11-25       16.0   \n29996          177443 2009-08-24        NaN   \n29997          161745 2004-11-03        NaN   \n29998          227978 2012-08-29        NaN   \n29999          506822 2008-04-15        9.0   \n\n                                             description  n_ingredients  \\\n0      an original recipe created by chef scott meska...           18.0   \n1      my children and their friends ask for my homem...            NaN   \n2                these were so go, it surprised even me.            8.0   \n3      my sister-in-law made these for us at a family...            NaN   \n4      i think a fondue is a very romantic casual din...            NaN   \n...                                                  ...            ...   \n29995  this is based on a french recipe but i changed...           10.0   \n29996  this is a traditional fresh plum cake, thought...           11.0   \n29997  this is a traditional late summer early fall s...            NaN   \n29998  this is a delicious soup that i originally fou...            NaN   \n29999  i've heard of the 'cookies by design' company,...           10.0   \n\n       n_steps_y  \n0             11  \n1              3  \n2              5  \n3              7  \n4              4  \n...          ...  \n29995         16  \n29996         22  \n29997         10  \n29998          7  \n29999          9  \n\n[30000 rows x 9 columns]",
      "text/html": "<div>\n<style scoped>\n    .dataframe tbody tr th:only-of-type {\n        vertical-align: middle;\n    }\n\n    .dataframe tbody tr th {\n        vertical-align: top;\n    }\n\n    .dataframe thead th {\n        text-align: right;\n    }\n</style>\n<table border=\"1\" class=\"dataframe\">\n  <thead>\n    <tr style=\"text-align: right;\">\n      <th></th>\n      <th>name</th>\n      <th>id</th>\n      <th>minutes</th>\n      <th>contributor_id</th>\n      <th>submitted</th>\n      <th>n_steps_x</th>\n      <th>description</th>\n      <th>n_ingredients</th>\n      <th>n_steps_y</th>\n    </tr>\n  </thead>\n  <tbody>\n    <tr>\n      <th>0</th>\n      <td>george s at the cove  black bean soup</td>\n      <td>44123</td>\n      <td>90</td>\n      <td>35193</td>\n      <td>2002-10-25</td>\n      <td>NaN</td>\n      <td>an original recipe created by chef scott meska...</td>\n      <td>18.0</td>\n      <td>11</td>\n    </tr>\n    <tr>\n      <th>1</th>\n      <td>healthy for them  yogurt popsicles</td>\n      <td>67664</td>\n      <td>10</td>\n      <td>91970</td>\n      <td>2003-07-26</td>\n      <td>NaN</td>\n      <td>my children and their friends ask for my homem...</td>\n      <td>NaN</td>\n      <td>3</td>\n    </tr>\n    <tr>\n      <th>2</th>\n      <td>i can t believe it s spinach</td>\n      <td>38798</td>\n      <td>30</td>\n      <td>1533</td>\n      <td>2002-08-29</td>\n      <td>NaN</td>\n      <td>these were so go, it surprised even me.</td>\n      <td>8.0</td>\n      <td>5</td>\n    </tr>\n    <tr>\n      <th>3</th>\n      <td>italian  gut busters</td>\n      <td>35173</td>\n      <td>45</td>\n      <td>22724</td>\n      <td>2002-07-27</td>\n      <td>NaN</td>\n      <td>my sister-in-law made these for us at a family...</td>\n      <td>NaN</td>\n      <td>7</td>\n    </tr>\n    <tr>\n      <th>4</th>\n      <td>love is in the air  beef fondue   sauces</td>\n      <td>84797</td>\n      <td>25</td>\n      <td>4470</td>\n      <td>2004-02-23</td>\n      <td>4.0</td>\n      <td>i think a fondue is a very romantic casual din...</td>\n      <td>NaN</td>\n      <td>4</td>\n    </tr>\n    <tr>\n      <th>...</th>\n      <td>...</td>\n      <td>...</td>\n      <td>...</td>\n      <td>...</td>\n      <td>...</td>\n      <td>...</td>\n      <td>...</td>\n      <td>...</td>\n      <td>...</td>\n    </tr>\n    <tr>\n      <th>29995</th>\n      <td>zurie s holey rustic olive and cheddar bread</td>\n      <td>267661</td>\n      <td>80</td>\n      <td>200862</td>\n      <td>2007-11-25</td>\n      <td>16.0</td>\n      <td>this is based on a french recipe but i changed...</td>\n      <td>10.0</td>\n      <td>16</td>\n    </tr>\n    <tr>\n      <th>29996</th>\n      <td>zwetschgenkuchen  bavarian plum cake</td>\n      <td>386977</td>\n      <td>240</td>\n      <td>177443</td>\n      <td>2009-08-24</td>\n      <td>NaN</td>\n      <td>this is a traditional fresh plum cake, thought...</td>\n      <td>11.0</td>\n      <td>22</td>\n    </tr>\n    <tr>\n      <th>29997</th>\n      <td>zwiebelkuchen   southwest german onion cake</td>\n      <td>103312</td>\n      <td>75</td>\n      <td>161745</td>\n      <td>2004-11-03</td>\n      <td>NaN</td>\n      <td>this is a traditional late summer early fall s...</td>\n      <td>NaN</td>\n      <td>10</td>\n    </tr>\n    <tr>\n      <th>29998</th>\n      <td>zydeco soup</td>\n      <td>486161</td>\n      <td>60</td>\n      <td>227978</td>\n      <td>2012-08-29</td>\n      <td>NaN</td>\n      <td>this is a delicious soup that i originally fou...</td>\n      <td>NaN</td>\n      <td>7</td>\n    </tr>\n    <tr>\n      <th>29999</th>\n      <td>cookies by design   cookies on a stick</td>\n      <td>298512</td>\n      <td>29</td>\n      <td>506822</td>\n      <td>2008-04-15</td>\n      <td>9.0</td>\n      <td>i've heard of the 'cookies by design' company,...</td>\n      <td>10.0</td>\n      <td>9</td>\n    </tr>\n  </tbody>\n</table>\n<p>30000 rows × 9 columns</p>\n</div>"
     },
     "execution_count": 48,
     "metadata": {},
     "output_type": "execute_result"
    }
   ],
   "source": [
    "recipes_steps_df = pd.merge(\n",
    "    recipes_df,\n",
    "    steps_df,\n",
    "    how='left',\n",
    "    on='id'\n",
    ")\n",
    "\n",
    "recipes_steps_df"
   ],
   "metadata": {
    "collapsed": false,
    "pycharm": {
     "name": "#%%\n"
    }
   }
  },
  {
   "cell_type": "code",
   "execution_count": 49,
   "outputs": [],
   "source": [
    "mask = recipes_steps_df['n_steps_x'].isna()\n",
    "recipes_df.loc[mask, 'n_steps'] = recipes_steps_df[mask]['n_steps_y']"
   ],
   "metadata": {
    "collapsed": false,
    "pycharm": {
     "name": "#%%\n"
    }
   }
  },
  {
   "cell_type": "code",
   "execution_count": 50,
   "outputs": [
    {
     "data": {
      "text/plain": "                                               name      id  minutes  \\\n0             george s at the cove  black bean soup   44123       90   \n1                healthy for them  yogurt popsicles   67664       10   \n2                      i can t believe it s spinach   38798       30   \n3                              italian  gut busters   35173       45   \n4          love is in the air  beef fondue   sauces   84797       25   \n...                                             ...     ...      ...   \n29995  zurie s holey rustic olive and cheddar bread  267661       80   \n29996          zwetschgenkuchen  bavarian plum cake  386977      240   \n29997   zwiebelkuchen   southwest german onion cake  103312       75   \n29998                                   zydeco soup  486161       60   \n29999        cookies by design   cookies on a stick  298512       29   \n\n       contributor_id  submitted  n_steps  \\\n0               35193 2002-10-25     11.0   \n1               91970 2003-07-26      3.0   \n2                1533 2002-08-29      5.0   \n3               22724 2002-07-27      7.0   \n4                4470 2004-02-23      4.0   \n...               ...        ...      ...   \n29995          200862 2007-11-25     16.0   \n29996          177443 2009-08-24     22.0   \n29997          161745 2004-11-03     10.0   \n29998          227978 2012-08-29      7.0   \n29999          506822 2008-04-15      9.0   \n\n                                             description  n_ingredients  \n0      an original recipe created by chef scott meska...           18.0  \n1      my children and their friends ask for my homem...            NaN  \n2                these were so go, it surprised even me.            8.0  \n3      my sister-in-law made these for us at a family...            NaN  \n4      i think a fondue is a very romantic casual din...            NaN  \n...                                                  ...            ...  \n29995  this is based on a french recipe but i changed...           10.0  \n29996  this is a traditional fresh plum cake, thought...           11.0  \n29997  this is a traditional late summer early fall s...            NaN  \n29998  this is a delicious soup that i originally fou...            NaN  \n29999  i've heard of the 'cookies by design' company,...           10.0  \n\n[30000 rows x 8 columns]",
      "text/html": "<div>\n<style scoped>\n    .dataframe tbody tr th:only-of-type {\n        vertical-align: middle;\n    }\n\n    .dataframe tbody tr th {\n        vertical-align: top;\n    }\n\n    .dataframe thead th {\n        text-align: right;\n    }\n</style>\n<table border=\"1\" class=\"dataframe\">\n  <thead>\n    <tr style=\"text-align: right;\">\n      <th></th>\n      <th>name</th>\n      <th>id</th>\n      <th>minutes</th>\n      <th>contributor_id</th>\n      <th>submitted</th>\n      <th>n_steps</th>\n      <th>description</th>\n      <th>n_ingredients</th>\n    </tr>\n  </thead>\n  <tbody>\n    <tr>\n      <th>0</th>\n      <td>george s at the cove  black bean soup</td>\n      <td>44123</td>\n      <td>90</td>\n      <td>35193</td>\n      <td>2002-10-25</td>\n      <td>11.0</td>\n      <td>an original recipe created by chef scott meska...</td>\n      <td>18.0</td>\n    </tr>\n    <tr>\n      <th>1</th>\n      <td>healthy for them  yogurt popsicles</td>\n      <td>67664</td>\n      <td>10</td>\n      <td>91970</td>\n      <td>2003-07-26</td>\n      <td>3.0</td>\n      <td>my children and their friends ask for my homem...</td>\n      <td>NaN</td>\n    </tr>\n    <tr>\n      <th>2</th>\n      <td>i can t believe it s spinach</td>\n      <td>38798</td>\n      <td>30</td>\n      <td>1533</td>\n      <td>2002-08-29</td>\n      <td>5.0</td>\n      <td>these were so go, it surprised even me.</td>\n      <td>8.0</td>\n    </tr>\n    <tr>\n      <th>3</th>\n      <td>italian  gut busters</td>\n      <td>35173</td>\n      <td>45</td>\n      <td>22724</td>\n      <td>2002-07-27</td>\n      <td>7.0</td>\n      <td>my sister-in-law made these for us at a family...</td>\n      <td>NaN</td>\n    </tr>\n    <tr>\n      <th>4</th>\n      <td>love is in the air  beef fondue   sauces</td>\n      <td>84797</td>\n      <td>25</td>\n      <td>4470</td>\n      <td>2004-02-23</td>\n      <td>4.0</td>\n      <td>i think a fondue is a very romantic casual din...</td>\n      <td>NaN</td>\n    </tr>\n    <tr>\n      <th>...</th>\n      <td>...</td>\n      <td>...</td>\n      <td>...</td>\n      <td>...</td>\n      <td>...</td>\n      <td>...</td>\n      <td>...</td>\n      <td>...</td>\n    </tr>\n    <tr>\n      <th>29995</th>\n      <td>zurie s holey rustic olive and cheddar bread</td>\n      <td>267661</td>\n      <td>80</td>\n      <td>200862</td>\n      <td>2007-11-25</td>\n      <td>16.0</td>\n      <td>this is based on a french recipe but i changed...</td>\n      <td>10.0</td>\n    </tr>\n    <tr>\n      <th>29996</th>\n      <td>zwetschgenkuchen  bavarian plum cake</td>\n      <td>386977</td>\n      <td>240</td>\n      <td>177443</td>\n      <td>2009-08-24</td>\n      <td>22.0</td>\n      <td>this is a traditional fresh plum cake, thought...</td>\n      <td>11.0</td>\n    </tr>\n    <tr>\n      <th>29997</th>\n      <td>zwiebelkuchen   southwest german onion cake</td>\n      <td>103312</td>\n      <td>75</td>\n      <td>161745</td>\n      <td>2004-11-03</td>\n      <td>10.0</td>\n      <td>this is a traditional late summer early fall s...</td>\n      <td>NaN</td>\n    </tr>\n    <tr>\n      <th>29998</th>\n      <td>zydeco soup</td>\n      <td>486161</td>\n      <td>60</td>\n      <td>227978</td>\n      <td>2012-08-29</td>\n      <td>7.0</td>\n      <td>this is a delicious soup that i originally fou...</td>\n      <td>NaN</td>\n    </tr>\n    <tr>\n      <th>29999</th>\n      <td>cookies by design   cookies on a stick</td>\n      <td>298512</td>\n      <td>29</td>\n      <td>506822</td>\n      <td>2008-04-15</td>\n      <td>9.0</td>\n      <td>i've heard of the 'cookies by design' company,...</td>\n      <td>10.0</td>\n    </tr>\n  </tbody>\n</table>\n<p>30000 rows × 8 columns</p>\n</div>"
     },
     "execution_count": 50,
     "metadata": {},
     "output_type": "execute_result"
    }
   ],
   "source": [
    "recipes_df"
   ],
   "metadata": {
    "collapsed": false,
    "pycharm": {
     "name": "#%%\n"
    }
   }
  },
  {
   "cell_type": "markdown",
   "metadata": {},
   "source": [
    "3.5 Проверьте, содержит ли столбец `n_steps` пропуски. Если нет, то преобразуйте его к целочисленному типу и сохраните результаты в файл `recipes_sample_with_filled_nsteps.csv`"
   ]
  },
  {
   "cell_type": "code",
   "execution_count": 51,
   "outputs": [],
   "source": [
    "if recipes_df['n_steps'].isna().sum() == 0:\n",
    "    recipes_df['n_steps'] = recipes_df['n_steps'].astype(int)\n",
    "    recipes_df.to_csv('data/output/recipes_sample_with_filled_nsteps.csv', sep=',')\n"
   ],
   "metadata": {
    "collapsed": false,
    "pycharm": {
     "name": "#%%\n"
    }
   }
  }
 ],
 "metadata": {
  "kernelspec": {
   "display_name": "Python 3",
   "language": "python",
   "name": "python3"
  },
  "language_info": {
   "codemirror_mode": {
    "name": "ipython",
    "version": 3
   },
   "file_extension": ".py",
   "mimetype": "text/x-python",
   "name": "python",
   "nbconvert_exporter": "python",
   "pygments_lexer": "ipython3",
   "version": "3.8.5"
  }
 },
 "nbformat": 4,
 "nbformat_minor": 4
}