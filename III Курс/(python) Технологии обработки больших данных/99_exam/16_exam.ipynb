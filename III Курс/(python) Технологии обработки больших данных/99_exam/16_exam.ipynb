{
 "cells": [
  {
   "cell_type": "markdown",
   "source": [
    "# Билет 16"
   ],
   "metadata": {
    "collapsed": false
   }
  },
  {
   "cell_type": "markdown",
   "source": [
    "# Задание 1"
   ],
   "metadata": {
    "collapsed": false
   }
  },
  {
   "cell_type": "code",
   "execution_count": 5,
   "outputs": [],
   "source": [],
   "metadata": {
    "collapsed": false,
    "pycharm": {
     "name": "#%%\n"
    }
   }
  },
  {
   "cell_type": "code",
   "execution_count": 5,
   "outputs": [],
   "source": [],
   "metadata": {
    "collapsed": false,
    "pycharm": {
     "name": "#%%\n"
    }
   }
  },
  {
   "cell_type": "markdown",
   "source": [
    "# Задание 2\n",
    "\n",
    "<img src=\"img/16_2.jpg\" width=1000>"
   ],
   "metadata": {
    "collapsed": false
   }
  },
  {
   "cell_type": "code",
   "execution_count": 6,
   "outputs": [],
   "source": [
    "import pandas as pd"
   ],
   "metadata": {
    "collapsed": false,
    "pycharm": {
     "name": "#%%\n"
    }
   }
  },
  {
   "cell_type": "code",
   "execution_count": 7,
   "outputs": [
    {
     "data": {
      "text/plain": "           ticker   open   high      low  close  volume\ndate                                                   \n2009-08-21   NVDA  13.87  13.95  13.5300  13.93  151858\n2009-08-24   NVDA  13.87  14.00  13.4600  13.54  115369\n2009-08-25   NVDA  13.58  13.80  13.3800  13.66  111026\n2009-08-26   NVDA  13.66  13.85  13.5807  13.82  108580\n2009-08-27   NVDA  13.88  14.07  13.7300  14.01  137787\n...           ...    ...    ...      ...    ...     ...\n2010-08-13   NVDA   9.25   9.52   9.2300   9.39  449437\n2010-08-16   NVDA   9.28   9.45   9.0300   9.15  203558\n2010-08-17   NVDA   9.23   9.44   9.1500   9.27  120368\n2010-08-19   NVDA   9.41   9.91   9.3700   9.88  403774\n2010-08-20   NVDA   9.83  10.21   9.8000   9.97  326328\n\n[243 rows x 6 columns]",
      "text/html": "<div>\n<style scoped>\n    .dataframe tbody tr th:only-of-type {\n        vertical-align: middle;\n    }\n\n    .dataframe tbody tr th {\n        vertical-align: top;\n    }\n\n    .dataframe thead th {\n        text-align: right;\n    }\n</style>\n<table border=\"1\" class=\"dataframe\">\n  <thead>\n    <tr style=\"text-align: right;\">\n      <th></th>\n      <th>ticker</th>\n      <th>open</th>\n      <th>high</th>\n      <th>low</th>\n      <th>close</th>\n      <th>volume</th>\n    </tr>\n    <tr>\n      <th>date</th>\n      <th></th>\n      <th></th>\n      <th></th>\n      <th></th>\n      <th></th>\n      <th></th>\n    </tr>\n  </thead>\n  <tbody>\n    <tr>\n      <th>2009-08-21</th>\n      <td>NVDA</td>\n      <td>13.87</td>\n      <td>13.95</td>\n      <td>13.5300</td>\n      <td>13.93</td>\n      <td>151858</td>\n    </tr>\n    <tr>\n      <th>2009-08-24</th>\n      <td>NVDA</td>\n      <td>13.87</td>\n      <td>14.00</td>\n      <td>13.4600</td>\n      <td>13.54</td>\n      <td>115369</td>\n    </tr>\n    <tr>\n      <th>2009-08-25</th>\n      <td>NVDA</td>\n      <td>13.58</td>\n      <td>13.80</td>\n      <td>13.3800</td>\n      <td>13.66</td>\n      <td>111026</td>\n    </tr>\n    <tr>\n      <th>2009-08-26</th>\n      <td>NVDA</td>\n      <td>13.66</td>\n      <td>13.85</td>\n      <td>13.5807</td>\n      <td>13.82</td>\n      <td>108580</td>\n    </tr>\n    <tr>\n      <th>2009-08-27</th>\n      <td>NVDA</td>\n      <td>13.88</td>\n      <td>14.07</td>\n      <td>13.7300</td>\n      <td>14.01</td>\n      <td>137787</td>\n    </tr>\n    <tr>\n      <th>...</th>\n      <td>...</td>\n      <td>...</td>\n      <td>...</td>\n      <td>...</td>\n      <td>...</td>\n      <td>...</td>\n    </tr>\n    <tr>\n      <th>2010-08-13</th>\n      <td>NVDA</td>\n      <td>9.25</td>\n      <td>9.52</td>\n      <td>9.2300</td>\n      <td>9.39</td>\n      <td>449437</td>\n    </tr>\n    <tr>\n      <th>2010-08-16</th>\n      <td>NVDA</td>\n      <td>9.28</td>\n      <td>9.45</td>\n      <td>9.0300</td>\n      <td>9.15</td>\n      <td>203558</td>\n    </tr>\n    <tr>\n      <th>2010-08-17</th>\n      <td>NVDA</td>\n      <td>9.23</td>\n      <td>9.44</td>\n      <td>9.1500</td>\n      <td>9.27</td>\n      <td>120368</td>\n    </tr>\n    <tr>\n      <th>2010-08-19</th>\n      <td>NVDA</td>\n      <td>9.41</td>\n      <td>9.91</td>\n      <td>9.3700</td>\n      <td>9.88</td>\n      <td>403774</td>\n    </tr>\n    <tr>\n      <th>2010-08-20</th>\n      <td>NVDA</td>\n      <td>9.83</td>\n      <td>10.21</td>\n      <td>9.8000</td>\n      <td>9.97</td>\n      <td>326328</td>\n    </tr>\n  </tbody>\n</table>\n<p>243 rows × 6 columns</p>\n</div>"
     },
     "execution_count": 7,
     "metadata": {},
     "output_type": "execute_result"
    }
   ],
   "source": [
    "sp500_df = pd.read_csv(\n",
    "    'data/task_2/sp500hst.txt',\n",
    "    sep=',',\n",
    "    names=['date', 'ticker', 'open', 'high', 'low', 'close', 'volume']\n",
    ")\n",
    "sp500_df = sp500_df[sp500_df['ticker'] == 'NVDA']\n",
    "sp500_df['date'] = pd.to_datetime(sp500_df['date'], format='%Y%m%d')\n",
    "sp500_df = sp500_df.set_index('date')\n",
    "sp500_df"
   ],
   "metadata": {
    "collapsed": false,
    "pycharm": {
     "name": "#%%\n"
    }
   }
  },
  {
   "cell_type": "code",
   "execution_count": 8,
   "outputs": [],
   "source": [
    "date_open_min = sp500_df['open'].idxmin()\n",
    "date_open_max = sp500_df['open'].idxmax()\n",
    "start = min(date_open_min, date_open_max)\n",
    "end = max(date_open_min, date_open_max)"
   ],
   "metadata": {
    "collapsed": false,
    "pycharm": {
     "name": "#%%\n"
    }
   }
  },
  {
   "cell_type": "code",
   "execution_count": 9,
   "outputs": [
    {
     "data": {
      "text/plain": "           ticker   open   high    low  close  volume\ndate                                                 \n2009-12-31   NVDA  18.79  18.95  18.66  18.68  175098\n2010-01-04   NVDA  18.51  18.62  18.11  18.49  200088\n2010-01-05   NVDA  18.50  18.96  18.42  18.76  182174\n2010-01-06   NVDA  18.68  18.92  18.57  18.88  162291\n2010-01-07   NVDA  18.78  18.86  18.37  18.51  136947",
      "text/html": "<div>\n<style scoped>\n    .dataframe tbody tr th:only-of-type {\n        vertical-align: middle;\n    }\n\n    .dataframe tbody tr th {\n        vertical-align: top;\n    }\n\n    .dataframe thead th {\n        text-align: right;\n    }\n</style>\n<table border=\"1\" class=\"dataframe\">\n  <thead>\n    <tr style=\"text-align: right;\">\n      <th></th>\n      <th>ticker</th>\n      <th>open</th>\n      <th>high</th>\n      <th>low</th>\n      <th>close</th>\n      <th>volume</th>\n    </tr>\n    <tr>\n      <th>date</th>\n      <th></th>\n      <th></th>\n      <th></th>\n      <th></th>\n      <th></th>\n      <th></th>\n    </tr>\n  </thead>\n  <tbody>\n    <tr>\n      <th>2009-12-31</th>\n      <td>NVDA</td>\n      <td>18.79</td>\n      <td>18.95</td>\n      <td>18.66</td>\n      <td>18.68</td>\n      <td>175098</td>\n    </tr>\n    <tr>\n      <th>2010-01-04</th>\n      <td>NVDA</td>\n      <td>18.51</td>\n      <td>18.62</td>\n      <td>18.11</td>\n      <td>18.49</td>\n      <td>200088</td>\n    </tr>\n    <tr>\n      <th>2010-01-05</th>\n      <td>NVDA</td>\n      <td>18.50</td>\n      <td>18.96</td>\n      <td>18.42</td>\n      <td>18.76</td>\n      <td>182174</td>\n    </tr>\n    <tr>\n      <th>2010-01-06</th>\n      <td>NVDA</td>\n      <td>18.68</td>\n      <td>18.92</td>\n      <td>18.57</td>\n      <td>18.88</td>\n      <td>162291</td>\n    </tr>\n    <tr>\n      <th>2010-01-07</th>\n      <td>NVDA</td>\n      <td>18.78</td>\n      <td>18.86</td>\n      <td>18.37</td>\n      <td>18.51</td>\n      <td>136947</td>\n    </tr>\n  </tbody>\n</table>\n</div>"
     },
     "execution_count": 9,
     "metadata": {},
     "output_type": "execute_result"
    }
   ],
   "source": [
    "period_df = sp500_df[(sp500_df.index >= start) & (sp500_df.index <= end)]\n",
    "period_df.head()"
   ],
   "metadata": {
    "collapsed": false,
    "pycharm": {
     "name": "#%%\n"
    }
   }
  },
  {
   "cell_type": "code",
   "execution_count": 10,
   "outputs": [
    {
     "name": "stdout",
     "output_type": "stream",
     "text": [
      "days=224, volume=29025673\n"
     ]
    }
   ],
   "source": [
    "days = (end - start).days\n",
    "volume = period_df['volume'].sum()\n",
    "print(f'{days=}, {volume=}')"
   ],
   "metadata": {
    "collapsed": false,
    "pycharm": {
     "name": "#%%\n"
    }
   }
  },
  {
   "cell_type": "markdown",
   "source": [
    "# Задание 3\n",
    "\n",
    "<img src=\"img/16_3.jpg\" width=1000>"
   ],
   "metadata": {
    "collapsed": false
   }
  },
  {
   "cell_type": "code",
   "execution_count": 11,
   "outputs": [],
   "source": [
    "import h5py\n",
    "import dask.array as da"
   ],
   "metadata": {
    "collapsed": false,
    "pycharm": {
     "name": "#%%\n"
    }
   }
  },
  {
   "cell_type": "code",
   "execution_count": 12,
   "outputs": [],
   "source": [
    "arr = da.from_array(h5py.File('data/task_3/random.hdf5')['data_set_1'])"
   ],
   "metadata": {
    "collapsed": false,
    "pycharm": {
     "name": "#%%\n"
    }
   }
  },
  {
   "cell_type": "code",
   "execution_count": 13,
   "outputs": [
    {
     "data": {
      "text/plain": "0.00135003"
     },
     "execution_count": 13,
     "metadata": {},
     "output_type": "execute_result"
    }
   ],
   "source": [
    "mean = arr.mean()\n",
    "std = arr.std()\n",
    "n = da.sum(arr > (mean + 3 * std))\n",
    "(n / arr.size).compute()"
   ],
   "metadata": {
    "collapsed": false,
    "pycharm": {
     "name": "#%%\n"
    }
   }
  }
 ],
 "metadata": {
  "kernelspec": {
   "display_name": "Python 3",
   "language": "python",
   "name": "python3"
  },
  "language_info": {
   "codemirror_mode": {
    "name": "ipython",
    "version": 2
   },
   "file_extension": ".py",
   "mimetype": "text/x-python",
   "name": "python",
   "nbconvert_exporter": "python",
   "pygments_lexer": "ipython2",
   "version": "2.7.6"
  }
 },
 "nbformat": 4,
 "nbformat_minor": 0
}