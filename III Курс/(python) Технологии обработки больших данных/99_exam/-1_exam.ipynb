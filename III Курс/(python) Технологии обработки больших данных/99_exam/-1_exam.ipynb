{
 "cells": [
  {
   "cell_type": "markdown",
   "source": [
    "# Билет _"
   ],
   "metadata": {
    "collapsed": false
   }
  },
  {
   "cell_type": "markdown",
   "source": [
    "# Задание 2"
   ],
   "metadata": {
    "collapsed": false
   }
  },
  {
   "cell_type": "code",
   "execution_count": 65,
   "outputs": [],
   "source": [
    "import numpy as np"
   ],
   "metadata": {
    "collapsed": false,
    "pycharm": {
     "name": "#%%\n"
    }
   }
  },
  {
   "cell_type": "code",
   "execution_count": 66,
   "outputs": [],
   "source": [
    "A = np.array([[8, 4, 15, 6, 9],\n",
    "              [3, 16, 13, 8, 10],\n",
    "              [0, 9, 18, 17, 5],\n",
    "              [16, 2, 6, 0, 10],\n",
    "              [18, 13, 9, 17, 8]])"
   ],
   "metadata": {
    "collapsed": false,
    "pycharm": {
     "name": "#%%\n"
    }
   }
  },
  {
   "cell_type": "code",
   "execution_count": 67,
   "outputs": [],
   "source": [
    "min_x = A.min(axis=1)\n",
    "min_y = A.min(axis=0)"
   ],
   "metadata": {
    "collapsed": false,
    "pycharm": {
     "name": "#%%\n"
    }
   }
  },
  {
   "cell_type": "code",
   "execution_count": 68,
   "outputs": [
    {
     "data": {
      "text/plain": "array([[ 4,  6, 10,  4,  9],\n       [ 3,  5,  9,  3,  8],\n       [ 0,  2,  6,  0,  5],\n       [ 0,  2,  6,  0,  5],\n       [ 8, 10, 14,  8, 13]])"
     },
     "execution_count": 68,
     "metadata": {},
     "output_type": "execute_result"
    }
   ],
   "source": [
    "B = min_x.reshape(5, -1) + min_y\n",
    "B"
   ],
   "metadata": {
    "collapsed": false,
    "pycharm": {
     "name": "#%%\n"
    }
   }
  },
  {
   "cell_type": "markdown",
   "source": [
    "# Задание 3"
   ],
   "metadata": {
    "collapsed": false
   }
  },
  {
   "cell_type": "code",
   "execution_count": 69,
   "outputs": [],
   "source": [
    "import math\n",
    "import numpy as np\n",
    "import multiprocessing as mp"
   ],
   "metadata": {
    "collapsed": false,
    "pycharm": {
     "name": "#%%\n"
    }
   }
  },
  {
   "cell_type": "code",
   "execution_count": 70,
   "outputs": [],
   "source": [
    "def foo(ints_sample):\n",
    "    limit = 0.99999999\n",
    "    result = []\n",
    "\n",
    "    range_ = range(len(ints_sample))\n",
    "    for i in range_:\n",
    "        left = ints_sample[i]\n",
    "        for j in range_:\n",
    "            right = ints_sample[j]\n",
    "            sin_mul = math.sin(left * right)\n",
    "            if sin_mul > limit:\n",
    "                result.append((left, right, sin_mul))\n",
    "\n",
    "    return result"
   ],
   "metadata": {
    "collapsed": false,
    "pycharm": {
     "name": "#%%\n"
    }
   }
  },
  {
   "cell_type": "code",
   "execution_count": 71,
   "outputs": [
    {
     "name": "stdout",
     "output_type": "stream",
     "text": [
      "Overwriting task_3.py\n"
     ]
    }
   ],
   "source": [
    "%%file \"task_3.py\"\n",
    "import math\n",
    "\n",
    "\n",
    "def foo(chunk, ints_sample):\n",
    "    limit = 0.99999999\n",
    "    result = []\n",
    "\n",
    "    for i in chunk:\n",
    "        for j in ints_sample:\n",
    "            sin_mul = math.sin(i * j)\n",
    "            if sin_mul > limit:\n",
    "                result.append((i, j, sin_mul))\n",
    "\n",
    "    return result"
   ],
   "metadata": {
    "collapsed": false,
    "pycharm": {
     "name": "#%%\n"
    }
   }
  },
  {
   "cell_type": "code",
   "execution_count": 72,
   "outputs": [],
   "source": [
    "def chunkinize(lst, n: int):\n",
    "    n = len(lst) // n\n",
    "    for i in range(0, len(lst), n):\n",
    "        yield lst[i:i + n]"
   ],
   "metadata": {
    "collapsed": false,
    "pycharm": {
     "name": "#%%\n"
    }
   }
  },
  {
   "cell_type": "code",
   "execution_count": 73,
   "outputs": [],
   "source": [
    "def single_benchmark(ints_sample):\n",
    "    return foo(ints_sample)\n",
    "\n",
    "\n",
    "def mul_benchmark(ints_sample):\n",
    "    from task_3 import foo\n",
    "\n",
    "    n = mp.cpu_count()\n",
    "    chunks = list(chunkinize(ints_sample, n))\n",
    "    with mp.Pool(n) as pool:\n",
    "        res = pool.starmap(foo, zip(chunks, [ints_sample] * n))\n",
    "        return [i for chunk in res for i in chunk]"
   ],
   "metadata": {
    "collapsed": false,
    "pycharm": {
     "name": "#%%\n"
    }
   }
  },
  {
   "cell_type": "code",
   "execution_count": 74,
   "outputs": [],
   "source": [
    "ints_sample = np.arange(1, 3000 + 1)"
   ],
   "metadata": {
    "collapsed": false,
    "pycharm": {
     "name": "#%%\n"
    }
   }
  },
  {
   "cell_type": "code",
   "execution_count": 75,
   "outputs": [
    {
     "name": "stdout",
     "output_type": "stream",
     "text": [
      "410\n",
      "410\n"
     ]
    }
   ],
   "source": [
    "single_result = single_benchmark(ints_sample)\n",
    "print(len(single_result))\n",
    "\n",
    "mul_result = mul_benchmark(ints_sample)\n",
    "print(len(mul_result))\n",
    "\n",
    "# есть пары: (5, 10) и (10, 5)"
   ],
   "metadata": {
    "collapsed": false,
    "pycharm": {
     "name": "#%%\n"
    }
   }
  },
  {
   "cell_type": "code",
   "execution_count": 79,
   "outputs": [
    {
     "name": "stdout",
     "output_type": "stream",
     "text": [
      "[(23, 2253, 0.999999999696513), (57, 2746, 0.9999999998635031), (62, 2536, 0.9999999970500172), (69, 751, 0.999999999696513), (91, 2855, 0.9999999980220771), (114, 1373, 0.9999999998635031), (115, 2253, 0.9999999924128237), (124, 1268, 0.9999999970500172), (129, 2025, 0.9999999983363994), (133, 2746, 0.99999999925685)]\n",
      "[(23, 2253, 0.999999999696513), (57, 2746, 0.9999999998635031), (62, 2536, 0.9999999970500172), (69, 751, 0.999999999696513), (91, 2855, 0.9999999980220771), (114, 1373, 0.9999999998635031), (115, 2253, 0.9999999924128237), (124, 1268, 0.9999999970500172), (129, 2025, 0.9999999983363994), (133, 2746, 0.99999999925685)]\n"
     ]
    }
   ],
   "source": [
    "print(single_result[:10])\n",
    "print(mul_result[:10])"
   ],
   "metadata": {
    "collapsed": false,
    "pycharm": {
     "name": "#%%\n"
    }
   }
  },
  {
   "cell_type": "code",
   "execution_count": 76,
   "outputs": [
    {
     "name": "stdout",
     "output_type": "stream",
     "text": [
      "2.84 s ± 142 ms per loop (mean ± std. dev. of 7 runs, 1 loop each)\n"
     ]
    }
   ],
   "source": [
    "%%timeit\n",
    "\n",
    "single_benchmark(ints_sample)"
   ],
   "metadata": {
    "collapsed": false,
    "pycharm": {
     "name": "#%%\n"
    }
   }
  },
  {
   "cell_type": "code",
   "execution_count": 77,
   "outputs": [
    {
     "name": "stdout",
     "output_type": "stream",
     "text": [
      "1.08 s ± 96.7 ms per loop (mean ± std. dev. of 7 runs, 1 loop each)\n"
     ]
    }
   ],
   "source": [
    "%%timeit\n",
    "\n",
    "mul_benchmark(ints_sample)"
   ],
   "metadata": {
    "collapsed": false,
    "pycharm": {
     "name": "#%%\n"
    }
   }
  },
  {
   "cell_type": "code",
   "execution_count": 78,
   "outputs": [],
   "source": [
    "# параллельное решение эффективнее по скорости"
   ],
   "metadata": {
    "collapsed": false,
    "pycharm": {
     "name": "#%%\n"
    }
   }
  }
 ],
 "metadata": {
  "kernelspec": {
   "display_name": "Python 3",
   "language": "python",
   "name": "python3"
  },
  "language_info": {
   "codemirror_mode": {
    "name": "ipython",
    "version": 2
   },
   "file_extension": ".py",
   "mimetype": "text/x-python",
   "name": "python",
   "nbconvert_exporter": "python",
   "pygments_lexer": "ipython2",
   "version": "2.7.6"
  }
 },
 "nbformat": 4,
 "nbformat_minor": 0
}