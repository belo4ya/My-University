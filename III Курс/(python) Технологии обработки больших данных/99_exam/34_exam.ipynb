{
 "cells": [
  {
   "cell_type": "markdown",
   "source": [
    "# Билет _"
   ],
   "metadata": {
    "collapsed": false
   }
  },
  {
   "cell_type": "markdown",
   "source": [
    "# Задание 2"
   ],
   "metadata": {
    "collapsed": false
   }
  },
  {
   "cell_type": "code",
   "execution_count": 21,
   "outputs": [],
   "source": [
    "import pandas as pd"
   ],
   "metadata": {
    "collapsed": false,
    "pycharm": {
     "name": "#%%\n"
    }
   }
  },
  {
   "cell_type": "code",
   "execution_count": 22,
   "outputs": [
    {
     "data": {
      "text/plain": "           ticker   open   high      low  close  volume\ndate                                                   \n2009-08-21   NVDA  13.87  13.95  13.5300  13.93  151858\n2009-08-24   NVDA  13.87  14.00  13.4600  13.54  115369\n2009-08-25   NVDA  13.58  13.80  13.3800  13.66  111026\n2009-08-26   NVDA  13.66  13.85  13.5807  13.82  108580\n2009-08-27   NVDA  13.88  14.07  13.7300  14.01  137787\n...           ...    ...    ...      ...    ...     ...\n2010-08-13   NVDA   9.25   9.52   9.2300   9.39  449437\n2010-08-16   NVDA   9.28   9.45   9.0300   9.15  203558\n2010-08-17   NVDA   9.23   9.44   9.1500   9.27  120368\n2010-08-19   NVDA   9.41   9.91   9.3700   9.88  403774\n2010-08-20   NVDA   9.83  10.21   9.8000   9.97  326328\n\n[243 rows x 6 columns]",
      "text/html": "<div>\n<style scoped>\n    .dataframe tbody tr th:only-of-type {\n        vertical-align: middle;\n    }\n\n    .dataframe tbody tr th {\n        vertical-align: top;\n    }\n\n    .dataframe thead th {\n        text-align: right;\n    }\n</style>\n<table border=\"1\" class=\"dataframe\">\n  <thead>\n    <tr style=\"text-align: right;\">\n      <th></th>\n      <th>ticker</th>\n      <th>open</th>\n      <th>high</th>\n      <th>low</th>\n      <th>close</th>\n      <th>volume</th>\n    </tr>\n    <tr>\n      <th>date</th>\n      <th></th>\n      <th></th>\n      <th></th>\n      <th></th>\n      <th></th>\n      <th></th>\n    </tr>\n  </thead>\n  <tbody>\n    <tr>\n      <th>2009-08-21</th>\n      <td>NVDA</td>\n      <td>13.87</td>\n      <td>13.95</td>\n      <td>13.5300</td>\n      <td>13.93</td>\n      <td>151858</td>\n    </tr>\n    <tr>\n      <th>2009-08-24</th>\n      <td>NVDA</td>\n      <td>13.87</td>\n      <td>14.00</td>\n      <td>13.4600</td>\n      <td>13.54</td>\n      <td>115369</td>\n    </tr>\n    <tr>\n      <th>2009-08-25</th>\n      <td>NVDA</td>\n      <td>13.58</td>\n      <td>13.80</td>\n      <td>13.3800</td>\n      <td>13.66</td>\n      <td>111026</td>\n    </tr>\n    <tr>\n      <th>2009-08-26</th>\n      <td>NVDA</td>\n      <td>13.66</td>\n      <td>13.85</td>\n      <td>13.5807</td>\n      <td>13.82</td>\n      <td>108580</td>\n    </tr>\n    <tr>\n      <th>2009-08-27</th>\n      <td>NVDA</td>\n      <td>13.88</td>\n      <td>14.07</td>\n      <td>13.7300</td>\n      <td>14.01</td>\n      <td>137787</td>\n    </tr>\n    <tr>\n      <th>...</th>\n      <td>...</td>\n      <td>...</td>\n      <td>...</td>\n      <td>...</td>\n      <td>...</td>\n      <td>...</td>\n    </tr>\n    <tr>\n      <th>2010-08-13</th>\n      <td>NVDA</td>\n      <td>9.25</td>\n      <td>9.52</td>\n      <td>9.2300</td>\n      <td>9.39</td>\n      <td>449437</td>\n    </tr>\n    <tr>\n      <th>2010-08-16</th>\n      <td>NVDA</td>\n      <td>9.28</td>\n      <td>9.45</td>\n      <td>9.0300</td>\n      <td>9.15</td>\n      <td>203558</td>\n    </tr>\n    <tr>\n      <th>2010-08-17</th>\n      <td>NVDA</td>\n      <td>9.23</td>\n      <td>9.44</td>\n      <td>9.1500</td>\n      <td>9.27</td>\n      <td>120368</td>\n    </tr>\n    <tr>\n      <th>2010-08-19</th>\n      <td>NVDA</td>\n      <td>9.41</td>\n      <td>9.91</td>\n      <td>9.3700</td>\n      <td>9.88</td>\n      <td>403774</td>\n    </tr>\n    <tr>\n      <th>2010-08-20</th>\n      <td>NVDA</td>\n      <td>9.83</td>\n      <td>10.21</td>\n      <td>9.8000</td>\n      <td>9.97</td>\n      <td>326328</td>\n    </tr>\n  </tbody>\n</table>\n<p>243 rows × 6 columns</p>\n</div>"
     },
     "execution_count": 22,
     "metadata": {},
     "output_type": "execute_result"
    }
   ],
   "source": [
    "sp500_df = pd.read_csv(\n",
    "    'data/task_2/sp500hst.txt',\n",
    "    sep=',',\n",
    "    names=['date', 'ticker', 'open', 'high', 'low', 'close', 'volume']\n",
    ")\n",
    "sp500_df = sp500_df[sp500_df['ticker'] == 'NVDA']\n",
    "sp500_df['date'] = pd.to_datetime(sp500_df['date'], format='%Y%m%d')\n",
    "sp500_df = sp500_df.set_index('date')\n",
    "sp500_df"
   ],
   "metadata": {
    "collapsed": false,
    "pycharm": {
     "name": "#%%\n"
    }
   }
  },
  {
   "cell_type": "code",
   "execution_count": 23,
   "outputs": [
    {
     "data": {
      "text/plain": "(Timestamp('2009-12-31 00:00:00'), Timestamp('2010-08-12 00:00:00'))"
     },
     "execution_count": 23,
     "metadata": {},
     "output_type": "execute_result"
    }
   ],
   "source": [
    "date_open_min = sp500_df['open'].idxmin()\n",
    "date_open_max = sp500_df['open'].idxmax()\n",
    "start = min(date_open_min, date_open_max)\n",
    "end = max(date_open_min, date_open_max)\n",
    "start, end"
   ],
   "metadata": {
    "collapsed": false,
    "pycharm": {
     "name": "#%%\n"
    }
   }
  },
  {
   "cell_type": "code",
   "execution_count": 24,
   "outputs": [
    {
     "data": {
      "text/plain": "           ticker   open   high    low  close  volume\ndate                                                 \n2009-12-31   NVDA  18.79  18.95  18.66  18.68  175098\n2010-01-04   NVDA  18.51  18.62  18.11  18.49  200088\n2010-01-05   NVDA  18.50  18.96  18.42  18.76  182174\n2010-01-06   NVDA  18.68  18.92  18.57  18.88  162291\n2010-01-07   NVDA  18.78  18.86  18.37  18.51  136947",
      "text/html": "<div>\n<style scoped>\n    .dataframe tbody tr th:only-of-type {\n        vertical-align: middle;\n    }\n\n    .dataframe tbody tr th {\n        vertical-align: top;\n    }\n\n    .dataframe thead th {\n        text-align: right;\n    }\n</style>\n<table border=\"1\" class=\"dataframe\">\n  <thead>\n    <tr style=\"text-align: right;\">\n      <th></th>\n      <th>ticker</th>\n      <th>open</th>\n      <th>high</th>\n      <th>low</th>\n      <th>close</th>\n      <th>volume</th>\n    </tr>\n    <tr>\n      <th>date</th>\n      <th></th>\n      <th></th>\n      <th></th>\n      <th></th>\n      <th></th>\n      <th></th>\n    </tr>\n  </thead>\n  <tbody>\n    <tr>\n      <th>2009-12-31</th>\n      <td>NVDA</td>\n      <td>18.79</td>\n      <td>18.95</td>\n      <td>18.66</td>\n      <td>18.68</td>\n      <td>175098</td>\n    </tr>\n    <tr>\n      <th>2010-01-04</th>\n      <td>NVDA</td>\n      <td>18.51</td>\n      <td>18.62</td>\n      <td>18.11</td>\n      <td>18.49</td>\n      <td>200088</td>\n    </tr>\n    <tr>\n      <th>2010-01-05</th>\n      <td>NVDA</td>\n      <td>18.50</td>\n      <td>18.96</td>\n      <td>18.42</td>\n      <td>18.76</td>\n      <td>182174</td>\n    </tr>\n    <tr>\n      <th>2010-01-06</th>\n      <td>NVDA</td>\n      <td>18.68</td>\n      <td>18.92</td>\n      <td>18.57</td>\n      <td>18.88</td>\n      <td>162291</td>\n    </tr>\n    <tr>\n      <th>2010-01-07</th>\n      <td>NVDA</td>\n      <td>18.78</td>\n      <td>18.86</td>\n      <td>18.37</td>\n      <td>18.51</td>\n      <td>136947</td>\n    </tr>\n  </tbody>\n</table>\n</div>"
     },
     "execution_count": 24,
     "metadata": {},
     "output_type": "execute_result"
    }
   ],
   "source": [
    "period_df = sp500_df[(sp500_df.index >= start) & (sp500_df.index <= end)]\n",
    "period_df.head()"
   ],
   "metadata": {
    "collapsed": false,
    "pycharm": {
     "name": "#%%\n"
    }
   }
  },
  {
   "cell_type": "code",
   "execution_count": 25,
   "outputs": [
    {
     "name": "stdout",
     "output_type": "stream",
     "text": [
      "days=224, volume=29025673\n"
     ]
    }
   ],
   "source": [
    "days = (end - start).days\n",
    "volume = period_df['volume'].sum()\n",
    "print(f'days={days}, volume={volume}')"
   ],
   "metadata": {
    "collapsed": false,
    "pycharm": {
     "name": "#%%\n"
    }
   }
  },
  {
   "cell_type": "markdown",
   "source": [
    "# Задание 3"
   ],
   "metadata": {
    "collapsed": false
   }
  },
  {
   "cell_type": "code",
   "execution_count": 114,
   "outputs": [],
   "source": [
    "import razdel\n",
    "import dask.bag as db"
   ],
   "metadata": {
    "collapsed": false,
    "pycharm": {
     "name": "#%%\n"
    }
   }
  },
  {
   "cell_type": "code",
   "execution_count": 115,
   "outputs": [],
   "source": [
    "def folder(counter, text):\n",
    "    sents = razdel.sentenize(text)\n",
    "    for sent in sents:\n",
    "        end = sent.text[-3:]\n",
    "        if end.endswith('.'):\n",
    "            counter[2] += 1\n",
    "        elif '?' in end:  # !?, ?! - считает за вопросительные из условия\n",
    "            counter[0] += 1\n",
    "        elif end.endswith('!'):\n",
    "            counter[1] += 1\n",
    "\n",
    "    return counter\n",
    "\n",
    "\n",
    "def combiner(left, right):\n",
    "    return left[0] + right[0], left[1] + right[1], left[2] + right[2]"
   ],
   "metadata": {
    "collapsed": false,
    "pycharm": {
     "name": "#%%\n"
    }
   }
  },
  {
   "cell_type": "code",
   "execution_count": 118,
   "outputs": [
    {
     "name": "stdout",
     "output_type": "stream",
     "text": [
      "Wall time: 21.7 s\n"
     ]
    },
    {
     "data": {
      "text/plain": "(368713, 188245, 3707067)"
     },
     "execution_count": 118,
     "metadata": {},
     "output_type": "execute_result"
    }
   ],
   "source": [
    "%%time\n",
    "\n",
    "bag = db.read_text(\n",
    "    'data/task_3/all_k/*',\n",
    "    encoding='cp1251',\n",
    "    linedelimiter='987IV65~!`321'  # искусственно отменяем деление текста по строкам\n",
    ")\n",
    "bag = bag.fold(folder, combine=combiner, initial=[0, 0, 0])\n",
    "res = bag.compute()\n",
    "res"
   ],
   "metadata": {
    "collapsed": false,
    "pycharm": {
     "name": "#%%\n"
    }
   }
  },
  {
   "cell_type": "code",
   "execution_count": 117,
   "outputs": [
    {
     "name": "stdout",
     "output_type": "stream",
     "text": [
      "Вопросительные: 368713, Побудительные: 188245, Повествовательные: 3707067\n"
     ]
    }
   ],
   "source": [
    "print(f'Вопросительные: {res[0]}, Побудительные: {res[1]}, Повествовательные: {res[2]}')"
   ],
   "metadata": {
    "collapsed": false,
    "pycharm": {
     "name": "#%%\n"
    }
   }
  },
  {
   "cell_type": "code",
   "execution_count": 99,
   "outputs": [],
   "source": [
    "# альтернативное решение через delayed медленнее:"
   ],
   "metadata": {
    "collapsed": false,
    "pycharm": {
     "name": "#%%\n"
    }
   }
  },
  {
   "cell_type": "code",
   "execution_count": 109,
   "outputs": [],
   "source": [
    "import dask\n",
    "import os\n",
    "from functools import reduce"
   ],
   "metadata": {
    "collapsed": false,
    "pycharm": {
     "name": "#%%\n"
    }
   }
  },
  {
   "cell_type": "code",
   "execution_count": 110,
   "outputs": [],
   "source": [
    "@dask.delayed(pure=True, traverse=False)\n",
    "def count(path):\n",
    "    with open(os.path.join('data/task_3/all_k/', path), encoding='cp1251') as f:\n",
    "        text = f.read()\n",
    "\n",
    "    counter = [0, 0, 0]\n",
    "    for sent in razdel.sentenize(text):\n",
    "        end = sent.text[-3:]\n",
    "        if end.endswith('.'):\n",
    "            counter[2] += 1\n",
    "        elif '?' in end:  # !?, ?! - считает за вопросительные из условия\n",
    "            counter[0] += 1\n",
    "        elif end.endswith('!'):\n",
    "            counter[1] += 1\n",
    "\n",
    "    return counter"
   ],
   "metadata": {
    "collapsed": false,
    "pycharm": {
     "name": "#%%\n"
    }
   }
  },
  {
   "cell_type": "code",
   "execution_count": 111,
   "outputs": [
    {
     "name": "stdout",
     "output_type": "stream",
     "text": [
      "Wall time: 1min 14s\n"
     ]
    }
   ],
   "source": [
    "%%time\n",
    "\n",
    "delayed = []\n",
    "for path in os.listdir('data/task_3/all_k/'):\n",
    "    delayed.append(count(path))\n",
    "\n",
    "counters = dask.compute(delayed)\n",
    "res = reduce(combiner, counters[0], [0, 0, 0])"
   ],
   "metadata": {
    "collapsed": false,
    "pycharm": {
     "name": "#%%\n"
    }
   }
  }
 ],
 "metadata": {
  "kernelspec": {
   "display_name": "Python 3",
   "language": "python",
   "name": "python3"
  },
  "language_info": {
   "codemirror_mode": {
    "name": "ipython",
    "version": 2
   },
   "file_extension": ".py",
   "mimetype": "text/x-python",
   "name": "python",
   "nbconvert_exporter": "python",
   "pygments_lexer": "ipython2",
   "version": "2.7.6"
  }
 },
 "nbformat": 4,
 "nbformat_minor": 0
}