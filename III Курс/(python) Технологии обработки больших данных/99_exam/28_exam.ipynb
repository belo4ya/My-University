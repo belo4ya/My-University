{
 "cells": [
  {
   "cell_type": "markdown",
   "source": [
    "# Билет 28"
   ],
   "metadata": {
    "collapsed": false
   }
  },
  {
   "cell_type": "markdown",
   "source": [
    "## Задание 1"
   ],
   "metadata": {
    "collapsed": false
   }
  },
  {
   "cell_type": "code",
   "execution_count": 4,
   "outputs": [],
   "source": [],
   "metadata": {
    "collapsed": false,
    "pycharm": {
     "name": "#%%\n"
    }
   }
  },
  {
   "cell_type": "markdown",
   "source": [
    "## Задание 2\n",
    "\n",
    "<img src=\"img/28_2.png\" width=800>"
   ],
   "metadata": {
    "collapsed": false
   }
  },
  {
   "cell_type": "code",
   "execution_count": 5,
   "outputs": [],
   "source": [
    "import nltk\n",
    "import itertools"
   ],
   "metadata": {
    "collapsed": false,
    "pycharm": {
     "name": "#%%\n"
    }
   }
  },
  {
   "cell_type": "code",
   "execution_count": 6,
   "outputs": [],
   "source": [
    "def read_text(path: str) -> str:\n",
    "    with open(path, encoding='cp1251') as f:\n",
    "        return f.read()"
   ],
   "metadata": {
    "collapsed": false,
    "pycharm": {
     "name": "#%%\n"
    }
   }
  },
  {
   "cell_type": "code",
   "execution_count": 7,
   "outputs": [],
   "source": [
    "def close_sents(sents: list[str]):\n",
    "    for i, s1 in enumerate(sents):\n",
    "        for s2 in sents[i + 1:]:\n",
    "            if abs(len(s1) - len(s2)) <= 3:\n",
    "                distance = nltk.edit_distance(s1, s2)\n",
    "                if distance <= 3:\n",
    "                    yield distance, (s1, s2)"
   ],
   "metadata": {
    "collapsed": false,
    "pycharm": {
     "name": "#%%\n"
    }
   }
  },
  {
   "cell_type": "code",
   "execution_count": 8,
   "outputs": [
    {
     "data": {
      "text/plain": "[(2, ('– обратился он к нему.', '– обратился он к ней.')),\n (3, ('– обратился он к нему.', '– обратился он к даме.')),\n (3, ('Ну, все равно.', 'Все, все равно.')),\n (3, ('«Вот оно!', 'Вон он!')),\n (3, ('«Вот оно!', 'Вон они!')),\n (3, ('«Вот оно!', 'вот он!')),\n (3, ('«Вот оно!', '– Вот он!')),\n (2, ('«Вот оно!', 'Вот он!')),\n (1, ('«Вот оно!', 'Вот оно!')),\n (2, ('«Вот оно!', '–\\xa0Вот оно!'))]"
     },
     "execution_count": 8,
     "metadata": {},
     "output_type": "execute_result"
    }
   ],
   "source": [
    "text = read_text('data/task_2/AnnaKarenina_.txt')\n",
    "sents = list({s for s in nltk.sent_tokenize(text) if len(s) <= 40})\n",
    "list(itertools.islice(close_sents(sents), 10))"
   ],
   "metadata": {
    "collapsed": false,
    "pycharm": {
     "name": "#%%\n"
    }
   }
  },
  {
   "cell_type": "markdown",
   "source": [
    "## Задание 3\n",
    "\n",
    "<img src=\"img/28_3.png\" width=800>"
   ],
   "metadata": {
    "collapsed": false,
    "pycharm": {
     "name": "#%% md\n"
    }
   }
  },
  {
   "cell_type": "code",
   "execution_count": 9,
   "outputs": [],
   "source": [
    "import numpy as np\n",
    "import pandas as pd\n",
    "import multiprocessing as mp\n",
    "from collections import defaultdict"
   ],
   "metadata": {
    "collapsed": false,
    "pycharm": {
     "name": "#%%\n"
    }
   }
  },
  {
   "cell_type": "code",
   "execution_count": 10,
   "outputs": [],
   "source": [
    "def smart_count(s: str) -> bool:\n",
    "    cnt = defaultdict(int)\n",
    "    for ch in s:\n",
    "        if cnt[ch] >= 8:\n",
    "            return True\n",
    "        cnt[ch] += 1\n",
    "    return False\n",
    "\n",
    "\n",
    "def solve(ints_sample) -> list[tuple[int, float]]:\n",
    "    sin_s = pd.Series(np.sin(ints_sample), index=ints_sample)\n",
    "    mask = sin_s.apply(lambda s: smart_count(str(s)))\n",
    "    return list(sin_s[mask].items())"
   ],
   "metadata": {
    "collapsed": false,
    "pycharm": {
     "name": "#%%\n"
    }
   }
  },
  {
   "cell_type": "code",
   "execution_count": 11,
   "outputs": [],
   "source": [
    "# %%file \"src/task_28.py\"\n",
    "# import pandas as pd\n",
    "# from collections import defaultdict\n",
    "# import numpy as np\n",
    "#\n",
    "#\n",
    "# def smart_count(s: str) -> bool:\n",
    "#     cnt = defaultdict(int)\n",
    "#     for ch in s:\n",
    "#         if cnt[ch] >= 8:\n",
    "#             return True\n",
    "#         cnt[ch] += 1\n",
    "#     return False\n",
    "#\n",
    "#\n",
    "# def solve(ints_sample) -> list[tuple[int, float]]:\n",
    "#     sin_s = pd.Series(np.sin(ints_sample), index=ints_sample)\n",
    "#     mask = sin_s.apply(lambda s: smart_count(str(s)))\n",
    "#     return list(sin_s[mask].items())"
   ],
   "metadata": {
    "collapsed": false,
    "pycharm": {
     "name": "#%%\n"
    }
   }
  },
  {
   "cell_type": "code",
   "execution_count": 12,
   "outputs": [],
   "source": [
    "def blocking_mode(ints_sample) -> list[tuple[int, float]]:\n",
    "    return solve(ints_sample)\n",
    "\n",
    "\n",
    "def nonblocking_mode(ints_sample) -> list[tuple[int, float]]:\n",
    "    from src.task_28 import solve\n",
    "\n",
    "    def chunkinize(lst, n: int):\n",
    "        n = len(lst) // n\n",
    "        for i in range(0, len(lst), n):\n",
    "            yield lst[i:i + n]\n",
    "\n",
    "    n = mp.cpu_count()\n",
    "    with mp.Pool(n) as pool:\n",
    "        res = pool.map(solve, chunkinize(ints_sample, n))\n",
    "        return [i for chunk in res for i in chunk]"
   ],
   "metadata": {
    "collapsed": false,
    "pycharm": {
     "name": "#%%\n"
    }
   }
  },
  {
   "cell_type": "code",
   "execution_count": 13,
   "outputs": [],
   "source": [
    "ints_sample = np.arange(1, 400_000 + 1)"
   ],
   "metadata": {
    "collapsed": false,
    "pycharm": {
     "name": "#%%\n"
    }
   }
  },
  {
   "cell_type": "code",
   "execution_count": 14,
   "outputs": [
    {
     "data": {
      "text/plain": "[(1797, 0.009002025051800673),\n (3775, -0.9299841096999939),\n (7089, 0.9999926930119999),\n (10639, 0.9999937999413936),\n (24074, 0.024502006300003643),\n (25904, -0.9999975242999319),\n (31249, 0.4097000800060077),\n (36693, -0.7188828881448883),\n (38968, -0.31007805001001504),\n (46617, 0.8881880887188651)]"
     },
     "execution_count": 14,
     "metadata": {},
     "output_type": "execute_result"
    }
   ],
   "source": [
    "blocking_mode(ints_sample)[:10]"
   ],
   "metadata": {
    "collapsed": false,
    "pycharm": {
     "name": "#%%\n"
    }
   }
  },
  {
   "cell_type": "code",
   "execution_count": 15,
   "outputs": [
    {
     "data": {
      "text/plain": "[(1797, 0.009002025051800673),\n (3775, -0.9299841096999939),\n (7089, 0.9999926930119999),\n (10639, 0.9999937999413936),\n (24074, 0.024502006300003643),\n (25904, -0.9999975242999319),\n (31249, 0.4097000800060077),\n (36693, -0.7188828881448883),\n (38968, -0.31007805001001504),\n (46617, 0.8881880887188651)]"
     },
     "execution_count": 15,
     "metadata": {},
     "output_type": "execute_result"
    }
   ],
   "source": [
    "nonblocking_mode(ints_sample)[:10]"
   ],
   "metadata": {
    "collapsed": false,
    "pycharm": {
     "name": "#%%\n"
    }
   }
  },
  {
   "cell_type": "code",
   "execution_count": 16,
   "outputs": [
    {
     "name": "stdout",
     "output_type": "stream",
     "text": [
      "1.65 s ± 56 ms per loop (mean ± std. dev. of 7 runs, 1 loop each)\n"
     ]
    }
   ],
   "source": [
    "%%timeit\n",
    "\n",
    "blocking_mode(ints_sample)"
   ],
   "metadata": {
    "collapsed": false,
    "pycharm": {
     "name": "#%%\n"
    }
   }
  },
  {
   "cell_type": "code",
   "execution_count": 17,
   "outputs": [
    {
     "name": "stdout",
     "output_type": "stream",
     "text": [
      "1.37 s ± 24.2 ms per loop (mean ± std. dev. of 7 runs, 1 loop each)\n"
     ]
    }
   ],
   "source": [
    "%%timeit\n",
    "\n",
    "nonblocking_mode(ints_sample)"
   ],
   "metadata": {
    "collapsed": false,
    "pycharm": {
     "name": "#%%\n"
    }
   }
  }
 ],
 "metadata": {
  "kernelspec": {
   "display_name": "Python 3",
   "language": "python",
   "name": "python3"
  },
  "language_info": {
   "codemirror_mode": {
    "name": "ipython",
    "version": 2
   },
   "file_extension": ".py",
   "mimetype": "text/x-python",
   "name": "python",
   "nbconvert_exporter": "python",
   "pygments_lexer": "ipython2",
   "version": "2.7.6"
  }
 },
 "nbformat": 4,
 "nbformat_minor": 0
}