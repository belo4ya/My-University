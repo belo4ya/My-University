{
 "cells": [
  {
   "cell_type": "markdown",
   "source": [
    "# Билет 21"
   ],
   "metadata": {
    "collapsed": false
   }
  },
  {
   "cell_type": "markdown",
   "source": [
    "# Задание 1"
   ],
   "metadata": {
    "collapsed": false
   }
  },
  {
   "cell_type": "code",
   "execution_count": 75,
   "outputs": [],
   "source": [],
   "metadata": {
    "collapsed": false,
    "pycharm": {
     "name": "#%%\n"
    }
   }
  },
  {
   "cell_type": "code",
   "execution_count": 75,
   "outputs": [],
   "source": [],
   "metadata": {
    "collapsed": false,
    "pycharm": {
     "name": "#%%\n"
    }
   }
  },
  {
   "cell_type": "markdown",
   "source": [
    "# Задание 2\n",
    "\n",
    "<img src=\"img/21_2.png\" width=800>"
   ],
   "metadata": {
    "collapsed": false
   }
  },
  {
   "cell_type": "code",
   "execution_count": 76,
   "outputs": [],
   "source": [
    "import pandas as pd"
   ],
   "metadata": {
    "collapsed": false,
    "pycharm": {
     "name": "#%%\n"
    }
   }
  },
  {
   "cell_type": "code",
   "execution_count": 77,
   "outputs": [
    {
     "data": {
      "text/plain": "        date ticker  what_is_0  what_is_1  what_is_2  what_is_3    vol\n0 2009-08-21      A      25.60    25.6100     25.220      25.55  34758\n1 2009-08-24      A      25.64    25.7400     25.330      25.50  22247\n2 2009-08-25      A      25.50    25.7000     25.225      25.34  30891\n3 2009-08-26      A      25.32    25.6425     25.145      25.48  33334\n4 2009-08-27      A      25.50    25.5700     25.230      25.54  70176",
      "text/html": "<div>\n<style scoped>\n    .dataframe tbody tr th:only-of-type {\n        vertical-align: middle;\n    }\n\n    .dataframe tbody tr th {\n        vertical-align: top;\n    }\n\n    .dataframe thead th {\n        text-align: right;\n    }\n</style>\n<table border=\"1\" class=\"dataframe\">\n  <thead>\n    <tr style=\"text-align: right;\">\n      <th></th>\n      <th>date</th>\n      <th>ticker</th>\n      <th>what_is_0</th>\n      <th>what_is_1</th>\n      <th>what_is_2</th>\n      <th>what_is_3</th>\n      <th>vol</th>\n    </tr>\n  </thead>\n  <tbody>\n    <tr>\n      <th>0</th>\n      <td>2009-08-21</td>\n      <td>A</td>\n      <td>25.60</td>\n      <td>25.6100</td>\n      <td>25.220</td>\n      <td>25.55</td>\n      <td>34758</td>\n    </tr>\n    <tr>\n      <th>1</th>\n      <td>2009-08-24</td>\n      <td>A</td>\n      <td>25.64</td>\n      <td>25.7400</td>\n      <td>25.330</td>\n      <td>25.50</td>\n      <td>22247</td>\n    </tr>\n    <tr>\n      <th>2</th>\n      <td>2009-08-25</td>\n      <td>A</td>\n      <td>25.50</td>\n      <td>25.7000</td>\n      <td>25.225</td>\n      <td>25.34</td>\n      <td>30891</td>\n    </tr>\n    <tr>\n      <th>3</th>\n      <td>2009-08-26</td>\n      <td>A</td>\n      <td>25.32</td>\n      <td>25.6425</td>\n      <td>25.145</td>\n      <td>25.48</td>\n      <td>33334</td>\n    </tr>\n    <tr>\n      <th>4</th>\n      <td>2009-08-27</td>\n      <td>A</td>\n      <td>25.50</td>\n      <td>25.5700</td>\n      <td>25.230</td>\n      <td>25.54</td>\n      <td>70176</td>\n    </tr>\n  </tbody>\n</table>\n</div>"
     },
     "execution_count": 77,
     "metadata": {},
     "output_type": "execute_result"
    }
   ],
   "source": [
    "df: pd.DataFrame = pd.read_csv(\n",
    "    'data/task_2/sp500hst.txt',\n",
    "    sep=',',\n",
    "    header=None,\n",
    "    names=['date', 'ticker', *[f'what_is_{i}' for i in range(4)], 'vol']\n",
    ")\n",
    "df['date'] = pd.to_datetime(df['date'], format='%Y%m%d')\n",
    "df.head()"
   ],
   "metadata": {
    "collapsed": false,
    "pycharm": {
     "name": "#%%\n"
    }
   }
  },
  {
   "cell_type": "code",
   "execution_count": 78,
   "outputs": [
    {
     "data": {
      "text/plain": "                  A        AA      AAPL      ABC      ABT  ACE      ACS  \\\n2009-08-21  34758.0  338295.0  148597.0  33179.0  84699.0  NaN  17241.0   \n2009-08-24  22247.0  307627.0  145331.0  31084.0  92196.0  NaN   9765.0   \n2009-08-25  30891.0  246836.0  115840.0  18321.0  69281.0  NaN   8212.0   \n2009-08-26  33334.0  286577.0  108570.0  20001.0  65988.0  NaN  11869.0   \n2009-08-27  70176.0  265027.0  160421.0  22949.0  78030.0  NaN  16502.0   \n\n               ADBE      ADI      ADM  ...       XL     XLNX       XOM  \\\n2009-08-21  51086.0  64696.0  40472.0  ...  85971.0  71158.0  261666.0   \n2009-08-24  47371.0  58686.0  59279.0  ...  94850.0  57075.0  256036.0   \n2009-08-25  38613.0  51873.0  58042.0  ...  70456.0  52132.0  211849.0   \n2009-08-26  40547.0  40096.0  72002.0  ...  60316.0  51363.0  187769.0   \n2009-08-27  51713.0  46687.0  41460.0  ...  58881.0  37824.0  213956.0   \n\n              XRAY      XRX      XTO      YHOO      YUM     ZION      ZMH  \n2009-08-21  9849.0  42005.0  55384.0  235459.0  31962.0  69225.0  20925.0  \n2009-08-24  6499.0  45643.0  37588.0  261709.0  32212.0  66800.0  21776.0  \n2009-08-25  7968.0  65192.0  66748.0  228505.0  38307.0  57468.0  23235.0  \n2009-08-26  8462.0  40004.0  56715.0  158452.0  28738.0  46107.0  20250.0  \n2009-08-27  8673.0  40968.0  77898.0  304109.0  26442.0  19190.0  15259.0  \n\n[5 rows x 524 columns]",
      "text/html": "<div>\n<style scoped>\n    .dataframe tbody tr th:only-of-type {\n        vertical-align: middle;\n    }\n\n    .dataframe tbody tr th {\n        vertical-align: top;\n    }\n\n    .dataframe thead th {\n        text-align: right;\n    }\n</style>\n<table border=\"1\" class=\"dataframe\">\n  <thead>\n    <tr style=\"text-align: right;\">\n      <th></th>\n      <th>A</th>\n      <th>AA</th>\n      <th>AAPL</th>\n      <th>ABC</th>\n      <th>ABT</th>\n      <th>ACE</th>\n      <th>ACS</th>\n      <th>ADBE</th>\n      <th>ADI</th>\n      <th>ADM</th>\n      <th>...</th>\n      <th>XL</th>\n      <th>XLNX</th>\n      <th>XOM</th>\n      <th>XRAY</th>\n      <th>XRX</th>\n      <th>XTO</th>\n      <th>YHOO</th>\n      <th>YUM</th>\n      <th>ZION</th>\n      <th>ZMH</th>\n    </tr>\n  </thead>\n  <tbody>\n    <tr>\n      <th>2009-08-21</th>\n      <td>34758.0</td>\n      <td>338295.0</td>\n      <td>148597.0</td>\n      <td>33179.0</td>\n      <td>84699.0</td>\n      <td>NaN</td>\n      <td>17241.0</td>\n      <td>51086.0</td>\n      <td>64696.0</td>\n      <td>40472.0</td>\n      <td>...</td>\n      <td>85971.0</td>\n      <td>71158.0</td>\n      <td>261666.0</td>\n      <td>9849.0</td>\n      <td>42005.0</td>\n      <td>55384.0</td>\n      <td>235459.0</td>\n      <td>31962.0</td>\n      <td>69225.0</td>\n      <td>20925.0</td>\n    </tr>\n    <tr>\n      <th>2009-08-24</th>\n      <td>22247.0</td>\n      <td>307627.0</td>\n      <td>145331.0</td>\n      <td>31084.0</td>\n      <td>92196.0</td>\n      <td>NaN</td>\n      <td>9765.0</td>\n      <td>47371.0</td>\n      <td>58686.0</td>\n      <td>59279.0</td>\n      <td>...</td>\n      <td>94850.0</td>\n      <td>57075.0</td>\n      <td>256036.0</td>\n      <td>6499.0</td>\n      <td>45643.0</td>\n      <td>37588.0</td>\n      <td>261709.0</td>\n      <td>32212.0</td>\n      <td>66800.0</td>\n      <td>21776.0</td>\n    </tr>\n    <tr>\n      <th>2009-08-25</th>\n      <td>30891.0</td>\n      <td>246836.0</td>\n      <td>115840.0</td>\n      <td>18321.0</td>\n      <td>69281.0</td>\n      <td>NaN</td>\n      <td>8212.0</td>\n      <td>38613.0</td>\n      <td>51873.0</td>\n      <td>58042.0</td>\n      <td>...</td>\n      <td>70456.0</td>\n      <td>52132.0</td>\n      <td>211849.0</td>\n      <td>7968.0</td>\n      <td>65192.0</td>\n      <td>66748.0</td>\n      <td>228505.0</td>\n      <td>38307.0</td>\n      <td>57468.0</td>\n      <td>23235.0</td>\n    </tr>\n    <tr>\n      <th>2009-08-26</th>\n      <td>33334.0</td>\n      <td>286577.0</td>\n      <td>108570.0</td>\n      <td>20001.0</td>\n      <td>65988.0</td>\n      <td>NaN</td>\n      <td>11869.0</td>\n      <td>40547.0</td>\n      <td>40096.0</td>\n      <td>72002.0</td>\n      <td>...</td>\n      <td>60316.0</td>\n      <td>51363.0</td>\n      <td>187769.0</td>\n      <td>8462.0</td>\n      <td>40004.0</td>\n      <td>56715.0</td>\n      <td>158452.0</td>\n      <td>28738.0</td>\n      <td>46107.0</td>\n      <td>20250.0</td>\n    </tr>\n    <tr>\n      <th>2009-08-27</th>\n      <td>70176.0</td>\n      <td>265027.0</td>\n      <td>160421.0</td>\n      <td>22949.0</td>\n      <td>78030.0</td>\n      <td>NaN</td>\n      <td>16502.0</td>\n      <td>51713.0</td>\n      <td>46687.0</td>\n      <td>41460.0</td>\n      <td>...</td>\n      <td>58881.0</td>\n      <td>37824.0</td>\n      <td>213956.0</td>\n      <td>8673.0</td>\n      <td>40968.0</td>\n      <td>77898.0</td>\n      <td>304109.0</td>\n      <td>26442.0</td>\n      <td>19190.0</td>\n      <td>15259.0</td>\n    </tr>\n  </tbody>\n</table>\n<p>5 rows × 524 columns</p>\n</div>"
     },
     "execution_count": 78,
     "metadata": {},
     "output_type": "execute_result"
    }
   ],
   "source": [
    "pivot_table = df.pivot_table(\n",
    "    'vol',\n",
    "    index=df['date'].rename(None),\n",
    "    columns=df['ticker'].rename(None),\n",
    ")\n",
    "pivot_table.to_csv('out/21_2.csv')\n",
    "pivot_table.head()"
   ],
   "metadata": {
    "collapsed": false,
    "pycharm": {
     "name": "#%%\n"
    }
   }
  },
  {
   "cell_type": "markdown",
   "source": [
    "# Задание 3\n",
    "\n",
    "<img src=\"img/21_3.png\" width=800>"
   ],
   "metadata": {
    "collapsed": false
   }
  },
  {
   "cell_type": "code",
   "execution_count": 13,
   "outputs": [],
   "source": [
    "import dask\n",
    "from collections import defaultdict\n",
    "from typing import Sized\n",
    "import string\n",
    "import heapq"
   ],
   "metadata": {
    "collapsed": false,
    "pycharm": {
     "name": "#%%\n"
    }
   }
  },
  {
   "cell_type": "code",
   "execution_count": 14,
   "outputs": [],
   "source": [
    "def make_groups() -> dict:\n",
    "    with open('data/task_3/movies.txt') as f:\n",
    "        punctuation = set(string.punctuation) - {'&'}\n",
    "        groups = defaultdict(list)\n",
    "        for line in f:\n",
    "            words = [w for w in line.split() if w not in punctuation]\n",
    "            if words:\n",
    "                first, middle, last = words[0], words[1:-1], words[-1]\n",
    "                groups['first'].append(first)\n",
    "                if last != first:\n",
    "                    groups['last'].append(last)\n",
    "                if middle:\n",
    "                    groups['middle'].extend(middle)\n",
    "        return groups"
   ],
   "metadata": {
    "collapsed": false,
    "pycharm": {
     "name": "#%%\n"
    }
   }
  },
  {
   "cell_type": "code",
   "execution_count": 15,
   "outputs": [],
   "source": [
    "@dask.delayed(pure=True, traverse=False)\n",
    "def most_longest(lst: str) -> list[Sized]:\n",
    "    return heapq.nlargest(2, lst, key=len)"
   ],
   "metadata": {
    "collapsed": false,
    "pycharm": {
     "name": "#%%\n"
    }
   }
  },
  {
   "cell_type": "code",
   "execution_count": 19,
   "outputs": [
    {
     "data": {
      "text/plain": "['Crazy/Beautiful',\n 'Supercapitalist',\n 'Extra-Terrestrial',\n 'Out-of-Towners',\n \"Philosopher's\",\n 'Extraordinary']"
     },
     "execution_count": 19,
     "metadata": {},
     "output_type": "execute_result"
    }
   ],
   "source": [
    "groups = make_groups()\n",
    "delayed = []\n",
    "for key, value in groups.items():\n",
    "    delayed.append(most_longest(value))\n",
    "\n",
    "result = [i for res in dask.compute(delayed)[0] for i in res]\n",
    "result"
   ],
   "metadata": {
    "collapsed": false,
    "pycharm": {
     "name": "#%%\n"
    }
   }
  }
 ],
 "metadata": {
  "kernelspec": {
   "display_name": "Python 3",
   "language": "python",
   "name": "python3"
  },
  "language_info": {
   "codemirror_mode": {
    "name": "ipython",
    "version": 2
   },
   "file_extension": ".py",
   "mimetype": "text/x-python",
   "name": "python",
   "nbconvert_exporter": "python",
   "pygments_lexer": "ipython2",
   "version": "2.7.6"
  }
 },
 "nbformat": 4,
 "nbformat_minor": 0
}