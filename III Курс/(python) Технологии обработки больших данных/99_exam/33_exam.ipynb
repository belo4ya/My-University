{
 "cells": [
  {
   "cell_type": "markdown",
   "source": [
    "# Билет 33"
   ],
   "metadata": {
    "collapsed": false
   }
  },
  {
   "cell_type": "markdown",
   "source": [
    "## Задание 2"
   ],
   "metadata": {
    "collapsed": false
   }
  },
  {
   "cell_type": "code",
   "execution_count": 160,
   "metadata": {
    "collapsed": true
   },
   "outputs": [],
   "source": [
    "import pandas as pd"
   ]
  },
  {
   "cell_type": "code",
   "execution_count": 161,
   "outputs": [
    {
     "data": {
      "text/plain": "           ticker   open     high     low  close    vol\ndate                                                   \n2009-08-21      A  25.60  25.6100  25.220  25.55  34758\n2009-08-24      A  25.64  25.7400  25.330  25.50  22247\n2009-08-25      A  25.50  25.7000  25.225  25.34  30891\n2009-08-26      A  25.32  25.6425  25.145  25.48  33334\n2009-08-27      A  25.50  25.5700  25.230  25.54  70176",
      "text/html": "<div>\n<style scoped>\n    .dataframe tbody tr th:only-of-type {\n        vertical-align: middle;\n    }\n\n    .dataframe tbody tr th {\n        vertical-align: top;\n    }\n\n    .dataframe thead th {\n        text-align: right;\n    }\n</style>\n<table border=\"1\" class=\"dataframe\">\n  <thead>\n    <tr style=\"text-align: right;\">\n      <th></th>\n      <th>ticker</th>\n      <th>open</th>\n      <th>high</th>\n      <th>low</th>\n      <th>close</th>\n      <th>vol</th>\n    </tr>\n    <tr>\n      <th>date</th>\n      <th></th>\n      <th></th>\n      <th></th>\n      <th></th>\n      <th></th>\n      <th></th>\n    </tr>\n  </thead>\n  <tbody>\n    <tr>\n      <th>2009-08-21</th>\n      <td>A</td>\n      <td>25.60</td>\n      <td>25.6100</td>\n      <td>25.220</td>\n      <td>25.55</td>\n      <td>34758</td>\n    </tr>\n    <tr>\n      <th>2009-08-24</th>\n      <td>A</td>\n      <td>25.64</td>\n      <td>25.7400</td>\n      <td>25.330</td>\n      <td>25.50</td>\n      <td>22247</td>\n    </tr>\n    <tr>\n      <th>2009-08-25</th>\n      <td>A</td>\n      <td>25.50</td>\n      <td>25.7000</td>\n      <td>25.225</td>\n      <td>25.34</td>\n      <td>30891</td>\n    </tr>\n    <tr>\n      <th>2009-08-26</th>\n      <td>A</td>\n      <td>25.32</td>\n      <td>25.6425</td>\n      <td>25.145</td>\n      <td>25.48</td>\n      <td>33334</td>\n    </tr>\n    <tr>\n      <th>2009-08-27</th>\n      <td>A</td>\n      <td>25.50</td>\n      <td>25.5700</td>\n      <td>25.230</td>\n      <td>25.54</td>\n      <td>70176</td>\n    </tr>\n  </tbody>\n</table>\n</div>"
     },
     "execution_count": 161,
     "metadata": {},
     "output_type": "execute_result"
    }
   ],
   "source": [
    "df: pd.DataFrame = pd.read_csv(\n",
    "    'data/task_2/sp500hst.txt',\n",
    "    sep=',',\n",
    "    header=None,\n",
    "    names=['date', 'ticker', 'open', 'high', 'low', 'close', 'vol']\n",
    ")\n",
    "df['date'] = pd.to_datetime(df['date'], format='%Y%m%d')\n",
    "df = df.set_index('date')\n",
    "df.head()"
   ],
   "metadata": {
    "collapsed": false,
    "pycharm": {
     "name": "#%%\n"
    }
   }
  },
  {
   "cell_type": "code",
   "execution_count": 162,
   "outputs": [
    {
     "name": "stdout",
     "output_type": "stream",
     "text": [
      "(243, 9)\n"
     ]
    },
    {
     "data": {
      "text/plain": "           ticker_nvda  vol_nvda  open_nvda  close_nvda ticker_aapl  vol_aapl  \\\ndate                                                                            \n2009-08-21        NVDA    151858      13.87       13.93        AAPL  148597.0   \n2009-08-24        NVDA    115369      13.87       13.54        AAPL  145331.0   \n2009-08-25        NVDA    111026      13.58       13.66        AAPL  115840.0   \n2009-08-26        NVDA    108580      13.66       13.82        AAPL  108570.0   \n2009-08-27        NVDA    137787      13.88       14.01        AAPL  160421.0   \n\n            open_aapl  close_aapl  delta_vol  \ndate                                          \n2009-08-21     167.81      169.22     3261.0  \n2009-08-24     170.00      169.06   -29962.0  \n2009-08-25     169.43      169.40    -4814.0  \n2009-08-26     168.94      167.41       10.0  \n2009-08-27     168.59      169.45   -22634.0  ",
      "text/html": "<div>\n<style scoped>\n    .dataframe tbody tr th:only-of-type {\n        vertical-align: middle;\n    }\n\n    .dataframe tbody tr th {\n        vertical-align: top;\n    }\n\n    .dataframe thead th {\n        text-align: right;\n    }\n</style>\n<table border=\"1\" class=\"dataframe\">\n  <thead>\n    <tr style=\"text-align: right;\">\n      <th></th>\n      <th>ticker_nvda</th>\n      <th>vol_nvda</th>\n      <th>open_nvda</th>\n      <th>close_nvda</th>\n      <th>ticker_aapl</th>\n      <th>vol_aapl</th>\n      <th>open_aapl</th>\n      <th>close_aapl</th>\n      <th>delta_vol</th>\n    </tr>\n    <tr>\n      <th>date</th>\n      <th></th>\n      <th></th>\n      <th></th>\n      <th></th>\n      <th></th>\n      <th></th>\n      <th></th>\n      <th></th>\n      <th></th>\n    </tr>\n  </thead>\n  <tbody>\n    <tr>\n      <th>2009-08-21</th>\n      <td>NVDA</td>\n      <td>151858</td>\n      <td>13.87</td>\n      <td>13.93</td>\n      <td>AAPL</td>\n      <td>148597.0</td>\n      <td>167.81</td>\n      <td>169.22</td>\n      <td>3261.0</td>\n    </tr>\n    <tr>\n      <th>2009-08-24</th>\n      <td>NVDA</td>\n      <td>115369</td>\n      <td>13.87</td>\n      <td>13.54</td>\n      <td>AAPL</td>\n      <td>145331.0</td>\n      <td>170.00</td>\n      <td>169.06</td>\n      <td>-29962.0</td>\n    </tr>\n    <tr>\n      <th>2009-08-25</th>\n      <td>NVDA</td>\n      <td>111026</td>\n      <td>13.58</td>\n      <td>13.66</td>\n      <td>AAPL</td>\n      <td>115840.0</td>\n      <td>169.43</td>\n      <td>169.40</td>\n      <td>-4814.0</td>\n    </tr>\n    <tr>\n      <th>2009-08-26</th>\n      <td>NVDA</td>\n      <td>108580</td>\n      <td>13.66</td>\n      <td>13.82</td>\n      <td>AAPL</td>\n      <td>108570.0</td>\n      <td>168.94</td>\n      <td>167.41</td>\n      <td>10.0</td>\n    </tr>\n    <tr>\n      <th>2009-08-27</th>\n      <td>NVDA</td>\n      <td>137787</td>\n      <td>13.88</td>\n      <td>14.01</td>\n      <td>AAPL</td>\n      <td>160421.0</td>\n      <td>168.59</td>\n      <td>169.45</td>\n      <td>-22634.0</td>\n    </tr>\n  </tbody>\n</table>\n</div>"
     },
     "execution_count": 162,
     "metadata": {},
     "output_type": "execute_result"
    }
   ],
   "source": [
    "# ответ на первое предложение формулировки\n",
    "cols = ['ticker', 'vol', 'open', 'close']\n",
    "nvda_df = df[df['ticker'] == 'NVDA'][cols]\n",
    "aapl_df = df[df['ticker'] == 'AAPL'][cols]\n",
    "joined_df = nvda_df.join(aapl_df, lsuffix='_nvda', rsuffix='_aapl')\n",
    "joined_df['delta_vol'] = joined_df['vol_nvda'] - joined_df['vol_aapl']\n",
    "print(joined_df.shape)\n",
    "joined_df.head()"
   ],
   "metadata": {
    "collapsed": false,
    "pycharm": {
     "name": "#%%\n"
    }
   }
  },
  {
   "cell_type": "code",
   "execution_count": 163,
   "outputs": [
    {
     "name": "stdout",
     "output_type": "stream",
     "text": [
      "(73, 9)\n"
     ]
    },
    {
     "data": {
      "text/plain": "           ticker_nvda  vol_nvda  open_nvda  close_nvda ticker_aapl  vol_aapl  \\\ndate                                                                            \n2009-08-21        NVDA    151858      13.87       13.93        AAPL  148597.0   \n2009-08-27        NVDA    137787      13.88       14.01        AAPL  160421.0   \n2009-09-02        NVDA    101174      14.00       14.23        AAPL  130143.0   \n2009-09-03        NVDA    133504      14.32       14.57        AAPL  105036.0   \n2009-09-04        NVDA    128269      14.55       15.11        AAPL  133795.0   \n\n            open_aapl  close_aapl  delta_vol  \ndate                                          \n2009-08-21     167.81      169.22     3261.0  \n2009-08-27     168.59      169.45   -22634.0  \n2009-09-02     164.50      165.18   -28969.0  \n2009-09-03     166.52      166.55    28468.0  \n2009-09-04     167.20      170.31    -5526.0  ",
      "text/html": "<div>\n<style scoped>\n    .dataframe tbody tr th:only-of-type {\n        vertical-align: middle;\n    }\n\n    .dataframe tbody tr th {\n        vertical-align: top;\n    }\n\n    .dataframe thead th {\n        text-align: right;\n    }\n</style>\n<table border=\"1\" class=\"dataframe\">\n  <thead>\n    <tr style=\"text-align: right;\">\n      <th></th>\n      <th>ticker_nvda</th>\n      <th>vol_nvda</th>\n      <th>open_nvda</th>\n      <th>close_nvda</th>\n      <th>ticker_aapl</th>\n      <th>vol_aapl</th>\n      <th>open_aapl</th>\n      <th>close_aapl</th>\n      <th>delta_vol</th>\n    </tr>\n    <tr>\n      <th>date</th>\n      <th></th>\n      <th></th>\n      <th></th>\n      <th></th>\n      <th></th>\n      <th></th>\n      <th></th>\n      <th></th>\n      <th></th>\n    </tr>\n  </thead>\n  <tbody>\n    <tr>\n      <th>2009-08-21</th>\n      <td>NVDA</td>\n      <td>151858</td>\n      <td>13.87</td>\n      <td>13.93</td>\n      <td>AAPL</td>\n      <td>148597.0</td>\n      <td>167.81</td>\n      <td>169.22</td>\n      <td>3261.0</td>\n    </tr>\n    <tr>\n      <th>2009-08-27</th>\n      <td>NVDA</td>\n      <td>137787</td>\n      <td>13.88</td>\n      <td>14.01</td>\n      <td>AAPL</td>\n      <td>160421.0</td>\n      <td>168.59</td>\n      <td>169.45</td>\n      <td>-22634.0</td>\n    </tr>\n    <tr>\n      <th>2009-09-02</th>\n      <td>NVDA</td>\n      <td>101174</td>\n      <td>14.00</td>\n      <td>14.23</td>\n      <td>AAPL</td>\n      <td>130143.0</td>\n      <td>164.50</td>\n      <td>165.18</td>\n      <td>-28969.0</td>\n    </tr>\n    <tr>\n      <th>2009-09-03</th>\n      <td>NVDA</td>\n      <td>133504</td>\n      <td>14.32</td>\n      <td>14.57</td>\n      <td>AAPL</td>\n      <td>105036.0</td>\n      <td>166.52</td>\n      <td>166.55</td>\n      <td>28468.0</td>\n    </tr>\n    <tr>\n      <th>2009-09-04</th>\n      <td>NVDA</td>\n      <td>128269</td>\n      <td>14.55</td>\n      <td>15.11</td>\n      <td>AAPL</td>\n      <td>133795.0</td>\n      <td>167.20</td>\n      <td>170.31</td>\n      <td>-5526.0</td>\n    </tr>\n  </tbody>\n</table>\n</div>"
     },
     "execution_count": 163,
     "metadata": {},
     "output_type": "execute_result"
    }
   ],
   "source": [
    "# ответ на последнее предложение формулировки\n",
    "mask = (joined_df['close_nvda'] > joined_df['open_nvda']) & (joined_df['close_aapl'] > joined_df['open_aapl'])\n",
    "modified_df = joined_df[mask]\n",
    "print(modified_df.shape)\n",
    "modified_df.head()"
   ],
   "metadata": {
    "collapsed": false,
    "pycharm": {
     "name": "#%%\n"
    }
   }
  },
  {
   "cell_type": "code",
   "execution_count": 164,
   "outputs": [],
   "source": [
    "# ответы с почищенными колонками\n",
    "required_col = ['delta_vol', 'ticker_nvda', 'vol_nvda', 'ticker_aapl', 'vol_aapl']"
   ],
   "metadata": {
    "collapsed": false,
    "pycharm": {
     "name": "#%%\n"
    }
   }
  },
  {
   "cell_type": "code",
   "execution_count": 165,
   "outputs": [
    {
     "data": {
      "text/plain": "            delta_vol ticker_nvda  vol_nvda ticker_aapl  vol_aapl\ndate                                                             \n2009-08-21     3261.0        NVDA    151858        AAPL  148597.0\n2009-08-24   -29962.0        NVDA    115369        AAPL  145331.0\n2009-08-25    -4814.0        NVDA    111026        AAPL  115840.0\n2009-08-26       10.0        NVDA    108580        AAPL  108570.0\n2009-08-27   -22634.0        NVDA    137787        AAPL  160421.0\n...               ...         ...       ...         ...       ...\n2010-08-13   322699.0        NVDA    449437        AAPL  126738.0\n2010-08-16    89834.0        NVDA    203558        AAPL  113724.0\n2010-08-17   -30578.0        NVDA    120368        AAPL  150946.0\n2010-08-19   251380.0        NVDA    403774        AAPL  152394.0\n2010-08-20   189104.0        NVDA    326328        AAPL  137224.0\n\n[243 rows x 5 columns]",
      "text/html": "<div>\n<style scoped>\n    .dataframe tbody tr th:only-of-type {\n        vertical-align: middle;\n    }\n\n    .dataframe tbody tr th {\n        vertical-align: top;\n    }\n\n    .dataframe thead th {\n        text-align: right;\n    }\n</style>\n<table border=\"1\" class=\"dataframe\">\n  <thead>\n    <tr style=\"text-align: right;\">\n      <th></th>\n      <th>delta_vol</th>\n      <th>ticker_nvda</th>\n      <th>vol_nvda</th>\n      <th>ticker_aapl</th>\n      <th>vol_aapl</th>\n    </tr>\n    <tr>\n      <th>date</th>\n      <th></th>\n      <th></th>\n      <th></th>\n      <th></th>\n      <th></th>\n    </tr>\n  </thead>\n  <tbody>\n    <tr>\n      <th>2009-08-21</th>\n      <td>3261.0</td>\n      <td>NVDA</td>\n      <td>151858</td>\n      <td>AAPL</td>\n      <td>148597.0</td>\n    </tr>\n    <tr>\n      <th>2009-08-24</th>\n      <td>-29962.0</td>\n      <td>NVDA</td>\n      <td>115369</td>\n      <td>AAPL</td>\n      <td>145331.0</td>\n    </tr>\n    <tr>\n      <th>2009-08-25</th>\n      <td>-4814.0</td>\n      <td>NVDA</td>\n      <td>111026</td>\n      <td>AAPL</td>\n      <td>115840.0</td>\n    </tr>\n    <tr>\n      <th>2009-08-26</th>\n      <td>10.0</td>\n      <td>NVDA</td>\n      <td>108580</td>\n      <td>AAPL</td>\n      <td>108570.0</td>\n    </tr>\n    <tr>\n      <th>2009-08-27</th>\n      <td>-22634.0</td>\n      <td>NVDA</td>\n      <td>137787</td>\n      <td>AAPL</td>\n      <td>160421.0</td>\n    </tr>\n    <tr>\n      <th>...</th>\n      <td>...</td>\n      <td>...</td>\n      <td>...</td>\n      <td>...</td>\n      <td>...</td>\n    </tr>\n    <tr>\n      <th>2010-08-13</th>\n      <td>322699.0</td>\n      <td>NVDA</td>\n      <td>449437</td>\n      <td>AAPL</td>\n      <td>126738.0</td>\n    </tr>\n    <tr>\n      <th>2010-08-16</th>\n      <td>89834.0</td>\n      <td>NVDA</td>\n      <td>203558</td>\n      <td>AAPL</td>\n      <td>113724.0</td>\n    </tr>\n    <tr>\n      <th>2010-08-17</th>\n      <td>-30578.0</td>\n      <td>NVDA</td>\n      <td>120368</td>\n      <td>AAPL</td>\n      <td>150946.0</td>\n    </tr>\n    <tr>\n      <th>2010-08-19</th>\n      <td>251380.0</td>\n      <td>NVDA</td>\n      <td>403774</td>\n      <td>AAPL</td>\n      <td>152394.0</td>\n    </tr>\n    <tr>\n      <th>2010-08-20</th>\n      <td>189104.0</td>\n      <td>NVDA</td>\n      <td>326328</td>\n      <td>AAPL</td>\n      <td>137224.0</td>\n    </tr>\n  </tbody>\n</table>\n<p>243 rows × 5 columns</p>\n</div>"
     },
     "execution_count": 165,
     "metadata": {},
     "output_type": "execute_result"
    }
   ],
   "source": [
    "res_1 = joined_df[required_col]\n",
    "res_1"
   ],
   "metadata": {
    "collapsed": false,
    "pycharm": {
     "name": "#%%\n"
    }
   }
  },
  {
   "cell_type": "code",
   "execution_count": 166,
   "outputs": [
    {
     "data": {
      "text/plain": "            delta_vol ticker_nvda  vol_nvda ticker_aapl  vol_aapl\ndate                                                             \n2009-08-21     3261.0        NVDA    151858        AAPL  148597.0\n2009-08-27   -22634.0        NVDA    137787        AAPL  160421.0\n2009-09-02   -28969.0        NVDA    101174        AAPL  130143.0\n2009-09-03    28468.0        NVDA    133504        AAPL  105036.0\n2009-09-04    -5526.0        NVDA    128269        AAPL  133795.0\n...               ...         ...       ...         ...       ...\n2010-08-05    96847.0        NVDA    200190        AAPL  103343.0\n2010-08-06    26108.0        NVDA    185041        AAPL  158933.0\n2010-08-12   144857.0        NVDA    335899        AAPL  191042.0\n2010-08-17   -30578.0        NVDA    120368        AAPL  150946.0\n2010-08-20   189104.0        NVDA    326328        AAPL  137224.0\n\n[73 rows x 5 columns]",
      "text/html": "<div>\n<style scoped>\n    .dataframe tbody tr th:only-of-type {\n        vertical-align: middle;\n    }\n\n    .dataframe tbody tr th {\n        vertical-align: top;\n    }\n\n    .dataframe thead th {\n        text-align: right;\n    }\n</style>\n<table border=\"1\" class=\"dataframe\">\n  <thead>\n    <tr style=\"text-align: right;\">\n      <th></th>\n      <th>delta_vol</th>\n      <th>ticker_nvda</th>\n      <th>vol_nvda</th>\n      <th>ticker_aapl</th>\n      <th>vol_aapl</th>\n    </tr>\n    <tr>\n      <th>date</th>\n      <th></th>\n      <th></th>\n      <th></th>\n      <th></th>\n      <th></th>\n    </tr>\n  </thead>\n  <tbody>\n    <tr>\n      <th>2009-08-21</th>\n      <td>3261.0</td>\n      <td>NVDA</td>\n      <td>151858</td>\n      <td>AAPL</td>\n      <td>148597.0</td>\n    </tr>\n    <tr>\n      <th>2009-08-27</th>\n      <td>-22634.0</td>\n      <td>NVDA</td>\n      <td>137787</td>\n      <td>AAPL</td>\n      <td>160421.0</td>\n    </tr>\n    <tr>\n      <th>2009-09-02</th>\n      <td>-28969.0</td>\n      <td>NVDA</td>\n      <td>101174</td>\n      <td>AAPL</td>\n      <td>130143.0</td>\n    </tr>\n    <tr>\n      <th>2009-09-03</th>\n      <td>28468.0</td>\n      <td>NVDA</td>\n      <td>133504</td>\n      <td>AAPL</td>\n      <td>105036.0</td>\n    </tr>\n    <tr>\n      <th>2009-09-04</th>\n      <td>-5526.0</td>\n      <td>NVDA</td>\n      <td>128269</td>\n      <td>AAPL</td>\n      <td>133795.0</td>\n    </tr>\n    <tr>\n      <th>...</th>\n      <td>...</td>\n      <td>...</td>\n      <td>...</td>\n      <td>...</td>\n      <td>...</td>\n    </tr>\n    <tr>\n      <th>2010-08-05</th>\n      <td>96847.0</td>\n      <td>NVDA</td>\n      <td>200190</td>\n      <td>AAPL</td>\n      <td>103343.0</td>\n    </tr>\n    <tr>\n      <th>2010-08-06</th>\n      <td>26108.0</td>\n      <td>NVDA</td>\n      <td>185041</td>\n      <td>AAPL</td>\n      <td>158933.0</td>\n    </tr>\n    <tr>\n      <th>2010-08-12</th>\n      <td>144857.0</td>\n      <td>NVDA</td>\n      <td>335899</td>\n      <td>AAPL</td>\n      <td>191042.0</td>\n    </tr>\n    <tr>\n      <th>2010-08-17</th>\n      <td>-30578.0</td>\n      <td>NVDA</td>\n      <td>120368</td>\n      <td>AAPL</td>\n      <td>150946.0</td>\n    </tr>\n    <tr>\n      <th>2010-08-20</th>\n      <td>189104.0</td>\n      <td>NVDA</td>\n      <td>326328</td>\n      <td>AAPL</td>\n      <td>137224.0</td>\n    </tr>\n  </tbody>\n</table>\n<p>73 rows × 5 columns</p>\n</div>"
     },
     "execution_count": 166,
     "metadata": {},
     "output_type": "execute_result"
    }
   ],
   "source": [
    "res_2 = modified_df[required_col]\n",
    "res_2"
   ],
   "metadata": {
    "collapsed": false,
    "pycharm": {
     "name": "#%%\n"
    }
   }
  },
  {
   "cell_type": "markdown",
   "source": [
    "## Задание 3"
   ],
   "metadata": {
    "collapsed": false
   }
  },
  {
   "cell_type": "code",
   "execution_count": 167,
   "outputs": [],
   "source": [
    "import dask.bag as db\n",
    "import re\n",
    "from collections import Counter"
   ],
   "metadata": {
    "collapsed": false,
    "pycharm": {
     "name": "#%%\n"
    }
   }
  },
  {
   "cell_type": "code",
   "execution_count": 168,
   "outputs": [],
   "source": [
    "bag = db.read_text('data/task_3/all_k/*', encoding='cp1251')"
   ],
   "metadata": {
    "collapsed": false,
    "pycharm": {
     "name": "#%%\n"
    }
   }
  },
  {
   "cell_type": "code",
   "execution_count": 169,
   "outputs": [],
   "source": [
    "pattern = re.compile(r'[^А-ЯЁ]*')\n",
    "\n",
    "\n",
    "def count_upper(counter: Counter, s: str) -> Counter:\n",
    "    s = pattern.sub('', s)\n",
    "    for ch in s:\n",
    "        counter[ch] += 1\n",
    "    return counter\n",
    "\n",
    "\n",
    "def combine(left: Counter, right: Counter) -> Counter:\n",
    "    return left + right"
   ],
   "metadata": {
    "collapsed": false,
    "pycharm": {
     "name": "#%%\n"
    }
   }
  },
  {
   "cell_type": "code",
   "execution_count": 170,
   "outputs": [],
   "source": [
    "res = bag.fold(count_upper, combine, initial=Counter()).compute()"
   ],
   "metadata": {
    "collapsed": false,
    "pycharm": {
     "name": "#%%\n"
    }
   }
  },
  {
   "cell_type": "code",
   "execution_count": 171,
   "outputs": [
    {
     "data": {
      "text/plain": "Counter({'Д': 479733,\n         'К': 442819,\n         'У': 128438,\n         'П': 455438,\n         'Е': 162606,\n         'Р': 210449,\n         'Н': 566581,\n         'С': 430379,\n         'О': 599173,\n         'З': 116175,\n         'Я': 253267,\n         'А': 271030,\n         'Т': 353618,\n         'Ч': 132623,\n         'Ы': 5669,\n         'Й': 13747,\n         'М': 388300,\n         'И': 253041,\n         'Г': 192381,\n         'В': 466965,\n         'Б': 250252,\n         'Э': 225757,\n         'Х': 118962,\n         'Л': 187693,\n         'Ф': 82202,\n         'Ш': 47125,\n         'Ц': 11270,\n         'Щ': 2292,\n         'Ю': 8884,\n         'Ж': 25925,\n         'Ъ': 106,\n         'Ь': 6025,\n         'Ё': 60})"
     },
     "execution_count": 171,
     "metadata": {},
     "output_type": "execute_result"
    }
   ],
   "source": [
    "res"
   ],
   "metadata": {
    "collapsed": false,
    "pycharm": {
     "name": "#%%\n"
    }
   }
  }
 ],
 "metadata": {
  "kernelspec": {
   "display_name": "Python 3",
   "language": "python",
   "name": "python3"
  },
  "language_info": {
   "codemirror_mode": {
    "name": "ipython",
    "version": 2
   },
   "file_extension": ".py",
   "mimetype": "text/x-python",
   "name": "python",
   "nbconvert_exporter": "python",
   "pygments_lexer": "ipython2",
   "version": "2.7.6"
  }
 },
 "nbformat": 4,
 "nbformat_minor": 0
}