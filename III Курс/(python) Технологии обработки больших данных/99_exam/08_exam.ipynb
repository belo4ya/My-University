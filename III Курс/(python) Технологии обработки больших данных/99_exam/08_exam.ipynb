{
 "cells": [
  {
   "cell_type": "markdown",
   "source": [
    "# Билет 8"
   ],
   "metadata": {
    "collapsed": false
   }
  },
  {
   "cell_type": "markdown",
   "source": [
    "# Задание 1"
   ],
   "metadata": {
    "collapsed": false
   }
  },
  {
   "cell_type": "code",
   "execution_count": null,
   "outputs": [],
   "source": [],
   "metadata": {
    "collapsed": false,
    "pycharm": {
     "name": "#%%\n"
    }
   }
  },
  {
   "cell_type": "code",
   "execution_count": null,
   "outputs": [],
   "source": [],
   "metadata": {
    "collapsed": false,
    "pycharm": {
     "name": "#%%\n"
    }
   }
  },
  {
   "cell_type": "markdown",
   "source": [
    "# Задание 2\n",
    "\n",
    "<img src=\"img/08_2.png\" width=800>"
   ],
   "metadata": {
    "collapsed": false
   }
  },
  {
   "cell_type": "code",
   "execution_count": 6,
   "outputs": [],
   "source": [
    "import bs4\n",
    "import json\n",
    "from collections import defaultdict"
   ],
   "metadata": {
    "collapsed": false,
    "pycharm": {
     "name": "#%%\n"
    }
   }
  },
  {
   "cell_type": "code",
   "execution_count": 7,
   "outputs": [],
   "source": [
    "def read_xml(path: str) -> bs4.BeautifulSoup:\n",
    "    with open(path) as f:\n",
    "        return bs4.BeautifulSoup(f.read())"
   ],
   "metadata": {
    "collapsed": false,
    "pycharm": {
     "name": "#%%\n"
    }
   }
  },
  {
   "cell_type": "code",
   "execution_count": 8,
   "outputs": [
    {
     "data": {
      "text/plain": "{'Presidente': [{'name': 'Aicha Barki',\n   'company': \"Association Algerienne d'Alphabetisation Iqraa\",\n   'phones': ['+ (213) 6150 4015', '+ (213) 2173 5247']}],\n 'Directeur General': [{'name': 'Francisco Domingos',\n   'company': 'Institut National de Education des Adultes',\n   'phones': ['+ (244-2) 325 023', '+ (244-2) 325 023']}],\n 'Directrice Nationale': [{'name': 'Maria Luisa',\n   'company': 'Institut National de Education des Adultes',\n   'phones': ['+ (244) 4232 2836']}],\n 'Chef': [{'name': 'Abraao Chanda',\n   'company': 'Institut National de Education des Adultes',\n   'phones': ['+ (244-2) 325 023', '+ (244-2) 325 023']}],\n 'Executive Director': [{'name': 'Beatriz Busaniche',\n   'company': 'Universidad de Buenos Aires',\n   'phones': ['+ (54-11) 4784 1159']},\n  {'name': 'Francesca Beddie',\n   'company': 'Adult Learning Australia',\n   'phones': ['+ (61-2) 6274 9500', '+ (61-2) 6274 9513']}],\n 'Secretary': [{'name': 'Graham John Smith',\n   'company': 'Disability Australia Ltd',\n   'phones': ['+ (61-3) 9807 4702']}]}"
     },
     "execution_count": 8,
     "metadata": {},
     "output_type": "execute_result"
    }
   ],
   "source": [
    "data = defaultdict(list)\n",
    "\n",
    "soup = read_xml('data/task_2/addres-book-q.xml')\n",
    "for tag in soup.find_all('address'):\n",
    "    name = tag.find('name').text\n",
    "    company = tag.find('company').text\n",
    "    phones = [p.text for p in tag.find_all('phone')]\n",
    "\n",
    "    person = {\n",
    "        'name': name,\n",
    "        'company': company,\n",
    "        'phones': phones\n",
    "    }\n",
    "    position = tag.find('position').text\n",
    "    data[position].append(person)\n",
    "\n",
    "dict(data)"
   ],
   "metadata": {
    "collapsed": false,
    "pycharm": {
     "name": "#%%\n"
    }
   }
  },
  {
   "cell_type": "code",
   "execution_count": 9,
   "outputs": [],
   "source": [
    "def read_json(path: str) -> dict:\n",
    "    with open(path) as f:\n",
    "        return json.load(f)\n",
    "\n",
    "\n",
    "def write_json(path: str, data: dict):\n",
    "    with open(path, 'w') as f:\n",
    "        json.dump(data, f)"
   ],
   "metadata": {
    "collapsed": false,
    "pycharm": {
     "name": "#%%\n"
    }
   }
  },
  {
   "cell_type": "code",
   "execution_count": 10,
   "outputs": [],
   "source": [
    "write_json('out/42_2.json', data)\n",
    "saved_data = read_json('out/42_2.json')\n",
    "assert saved_data == data"
   ],
   "metadata": {
    "collapsed": false,
    "pycharm": {
     "name": "#%%\n"
    }
   }
  },
  {
   "cell_type": "markdown",
   "source": [
    "# Задание 3\n",
    "\n",
    "<img src=\"img/08_3.png\" width=800>"
   ],
   "metadata": {
    "collapsed": false
   }
  },
  {
   "cell_type": "code",
   "execution_count": 15,
   "outputs": [],
   "source": [
    "import dask.dataframe as dd"
   ],
   "metadata": {
    "collapsed": false,
    "pycharm": {
     "name": "#%%\n"
    }
   }
  },
  {
   "cell_type": "code",
   "execution_count": 16,
   "outputs": [
    {
     "data": {
      "text/plain": "    id   names  amount\n0  187  Ingrid     457\n1  346  Ursula     747\n2  350     Dan    1175\n3  464   Zelda    -571\n4  431   Wendy    4534",
      "text/html": "<div>\n<style scoped>\n    .dataframe tbody tr th:only-of-type {\n        vertical-align: middle;\n    }\n\n    .dataframe tbody tr th {\n        vertical-align: top;\n    }\n\n    .dataframe thead th {\n        text-align: right;\n    }\n</style>\n<table border=\"1\" class=\"dataframe\">\n  <thead>\n    <tr style=\"text-align: right;\">\n      <th></th>\n      <th>id</th>\n      <th>names</th>\n      <th>amount</th>\n    </tr>\n  </thead>\n  <tbody>\n    <tr>\n      <th>0</th>\n      <td>187</td>\n      <td>Ingrid</td>\n      <td>457</td>\n    </tr>\n    <tr>\n      <th>1</th>\n      <td>346</td>\n      <td>Ursula</td>\n      <td>747</td>\n    </tr>\n    <tr>\n      <th>2</th>\n      <td>350</td>\n      <td>Dan</td>\n      <td>1175</td>\n    </tr>\n    <tr>\n      <th>3</th>\n      <td>464</td>\n      <td>Zelda</td>\n      <td>-571</td>\n    </tr>\n    <tr>\n      <th>4</th>\n      <td>431</td>\n      <td>Wendy</td>\n      <td>4534</td>\n    </tr>\n  </tbody>\n</table>\n</div>"
     },
     "execution_count": 16,
     "metadata": {},
     "output_type": "execute_result"
    }
   ],
   "source": [
    "accounts: dd.DataFrame = dd.read_csv(\n",
    "    'data/task_3/data/accounts.*.csv',\n",
    "    dtype={'id': int, 'names': object, 'amount': int}\n",
    ")\n",
    "accounts.head(5)"
   ],
   "metadata": {
    "collapsed": false,
    "pycharm": {
     "name": "#%%\n"
    }
   }
  },
  {
   "cell_type": "code",
   "execution_count": 17,
   "outputs": [
    {
     "data": {
      "text/plain": "165"
     },
     "execution_count": 17,
     "metadata": {},
     "output_type": "execute_result"
    }
   ],
   "source": [
    "accounts_positive = accounts[accounts['amount'] > 0]\n",
    "res = accounts_positive.groupby('id')['amount'].sum().idxmax().compute()\n",
    "res"
   ],
   "metadata": {
    "collapsed": false,
    "pycharm": {
     "name": "#%%\n"
    }
   }
  }
 ],
 "metadata": {
  "kernelspec": {
   "display_name": "Python 3",
   "language": "python",
   "name": "python3"
  },
  "language_info": {
   "codemirror_mode": {
    "name": "ipython",
    "version": 2
   },
   "file_extension": ".py",
   "mimetype": "text/x-python",
   "name": "python",
   "nbconvert_exporter": "python",
   "pygments_lexer": "ipython2",
   "version": "2.7.6"
  }
 },
 "nbformat": 4,
 "nbformat_minor": 0
}