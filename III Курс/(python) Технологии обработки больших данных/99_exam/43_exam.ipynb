{
 "cells": [
  {
   "cell_type": "markdown",
   "source": [
    "# Билет 43"
   ],
   "metadata": {
    "collapsed": false
   }
  },
  {
   "cell_type": "markdown",
   "source": [
    "# Задание 2"
   ],
   "metadata": {
    "collapsed": false
   }
  },
  {
   "cell_type": "code",
   "execution_count": 1,
   "outputs": [],
   "source": [
    "import numpy as np"
   ],
   "metadata": {
    "collapsed": false,
    "pycharm": {
     "name": "#%%\n"
    }
   }
  },
  {
   "cell_type": "code",
   "execution_count": 2,
   "outputs": [],
   "source": [
    "A = np.array([[8, 4, 15, 6, 9],\n",
    "              [3, 16, 13, 8, 10],\n",
    "              [0, 9, 18, 17, 5],\n",
    "              [16, 2, 6, 0, 10],\n",
    "              [18, 13, 9, 17, 8]])"
   ],
   "metadata": {
    "collapsed": false,
    "pycharm": {
     "name": "#%%\n"
    }
   }
  },
  {
   "cell_type": "code",
   "execution_count": 3,
   "outputs": [],
   "source": [
    "min_x = A.min(axis=1)\n",
    "min_y = A.min(axis=0)"
   ],
   "metadata": {
    "collapsed": false,
    "pycharm": {
     "name": "#%%\n"
    }
   }
  },
  {
   "cell_type": "code",
   "execution_count": 4,
   "outputs": [
    {
     "data": {
      "text/plain": "array([[ 4,  6, 10,  4,  9],\n       [ 3,  5,  9,  3,  8],\n       [ 0,  2,  6,  0,  5],\n       [ 0,  2,  6,  0,  5],\n       [ 8, 10, 14,  8, 13]])"
     },
     "execution_count": 4,
     "metadata": {},
     "output_type": "execute_result"
    }
   ],
   "source": [
    "B = min_x.reshape(5, -1) + min_y\n",
    "B"
   ],
   "metadata": {
    "collapsed": false,
    "pycharm": {
     "name": "#%%\n"
    }
   }
  },
  {
   "cell_type": "markdown",
   "source": [
    "# Задание 3"
   ],
   "metadata": {
    "collapsed": false
   }
  },
  {
   "cell_type": "code",
   "execution_count": 5,
   "outputs": [],
   "source": [
    "import math\n",
    "import numpy as np\n",
    "import multiprocessing as mp"
   ],
   "metadata": {
    "collapsed": false,
    "pycharm": {
     "name": "#%%\n"
    }
   }
  },
  {
   "cell_type": "code",
   "execution_count": 6,
   "outputs": [],
   "source": [
    "# пары (2, 5) и (5, 2) - считаю за одну - {2, 5}\n",
    "\n",
    "\n",
    "def algorithm(ints_sample):\n",
    "    limit = 0.99999999\n",
    "    result = []\n",
    "\n",
    "    n = len(ints_sample)\n",
    "    seq = list(range(n))\n",
    "    for i in seq:\n",
    "        left = ints_sample[i]\n",
    "        for j in seq[i:]:  # рассматриваем пары вне зависимости от порядка элементов\n",
    "            right = ints_sample[j]\n",
    "            sin_mul = math.sin(left * right)\n",
    "            if sin_mul > limit:\n",
    "                result.append((left, right, sin_mul))\n",
    "\n",
    "    return result"
   ],
   "metadata": {
    "collapsed": false,
    "pycharm": {
     "name": "#%%\n"
    }
   }
  },
  {
   "cell_type": "code",
   "execution_count": 7,
   "outputs": [
    {
     "name": "stdout",
     "output_type": "stream",
     "text": [
      "Writing src/task_3.py\n"
     ]
    }
   ],
   "source": [
    "%%file \"src/task_3.py\"\n",
    "import math\n",
    "\n",
    "\n",
    "def foo(chunk, ints_sample):\n",
    "    limit = 0.99999999\n",
    "    result = set()\n",
    "    for i in chunk:\n",
    "        for j in ints_sample:\n",
    "            sin_mul = math.sin(i * j)\n",
    "            if sin_mul > limit:\n",
    "                result.add((frozenset([i, j]), sin_mul))  # оставляем уникальную пару без порядка элементов\n",
    "\n",
    "    return result"
   ],
   "metadata": {
    "collapsed": false,
    "pycharm": {
     "name": "#%%\n"
    }
   }
  },
  {
   "cell_type": "code",
   "execution_count": 8,
   "outputs": [],
   "source": [
    "def blocking_mode(ints_sample):\n",
    "    return algorithm(ints_sample)\n",
    "\n",
    "\n",
    "def nonblocking_mode(ints_sample):\n",
    "    from src.task_3 import foo\n",
    "\n",
    "    def chunkinize(lst, n: int):\n",
    "        n = len(lst) // n\n",
    "        for i in range(0, len(lst), n):\n",
    "            yield lst[i:i + n]\n",
    "\n",
    "    n = mp.cpu_count()\n",
    "    chunks = list(chunkinize(ints_sample, n))\n",
    "    with mp.Pool(n) as pool:\n",
    "        res = pool.starmap(foo, zip(chunks, [ints_sample] * n))\n",
    "        return list({i for chunk in res for i in chunk})"
   ],
   "metadata": {
    "collapsed": false,
    "pycharm": {
     "name": "#%%\n"
    }
   }
  },
  {
   "cell_type": "code",
   "execution_count": 9,
   "outputs": [],
   "source": [
    "ints_sample = np.arange(1, 3000 + 1)"
   ],
   "metadata": {
    "collapsed": false,
    "pycharm": {
     "name": "#%%\n"
    }
   }
  },
  {
   "cell_type": "code",
   "execution_count": 10,
   "outputs": [
    {
     "name": "stdout",
     "output_type": "stream",
     "text": [
      "205\n"
     ]
    },
    {
     "data": {
      "text/plain": "[(23, 2253, 0.999999999696513),\n (57, 2746, 0.9999999998635031),\n (62, 2536, 0.9999999970500172),\n (69, 751, 0.999999999696513),\n (91, 2855, 0.9999999980220771),\n (114, 1373, 0.9999999998635031),\n (115, 2253, 0.9999999924128237),\n (124, 1268, 0.9999999970500172),\n (129, 2025, 0.9999999983363994),\n (133, 2746, 0.99999999925685),\n (135, 1935, 0.9999999983363994),\n (157, 1006, 0.9999999906018032),\n (158, 2316, 0.9999999951152019),\n (193, 1896, 0.9999999951152019),\n (194, 2951, 0.9999999982003109),\n (209, 2746, 0.9999999981648745),\n (215, 1215, 0.9999999983363994),\n (219, 2149, 0.9999999901999105),\n (222, 2582, 0.9999999999999568),\n (225, 1161, 0.9999999983363994)]"
     },
     "execution_count": 10,
     "metadata": {},
     "output_type": "execute_result"
    }
   ],
   "source": [
    "blocking_result = blocking_mode(ints_sample)\n",
    "print(len(blocking_result))\n",
    "blocking_result[:20]"
   ],
   "metadata": {
    "collapsed": false,
    "pycharm": {
     "name": "#%%\n"
    }
   }
  },
  {
   "cell_type": "code",
   "execution_count": 11,
   "outputs": [
    {
     "name": "stdout",
     "output_type": "stream",
     "text": [
      "205\n"
     ]
    },
    {
     "data": {
      "text/plain": "[(frozenset({1492, 1782}), 0.999999994998317),\n (frozenset({2219, 2841}), 0.9999999961980565),\n (frozenset({602, 1991}), 0.9999999999814237),\n (frozenset({753, 2007}), 0.9999999999595361),\n (frozenset({215, 1215}), 0.9999999983363994),\n (frozenset({1551, 2049}), 0.9999999984365575),\n (frozenset({409, 1910}), 0.9999999992793377),\n (frozenset({1726, 1781}), 0.9999999993232765),\n (frozenset({1336, 2769}), 0.9999999995198774),\n (frozenset({1525, 1537}), 0.9999999964929694),\n (frozenset({91, 2855}), 0.9999999980220771),\n (frozenset({443, 2704}), 0.9999999985315368),\n (frozenset({719, 1668}), 0.9999999977965826),\n (frozenset({1039, 1556}), 0.9999999939010542),\n (frozenset({288, 2710}), 0.999999995173126),\n (frozenset({1442, 2276}), 0.9999999971839069),\n (frozenset({586, 2754}), 0.9999999914573485),\n (frozenset({542, 1440}), 0.999999995173126),\n (frozenset({1598, 2968}), 0.999999996866661),\n (frozenset({129, 2025}), 0.9999999983363994)]"
     },
     "execution_count": 11,
     "metadata": {},
     "output_type": "execute_result"
    }
   ],
   "source": [
    "nonblocking_result = nonblocking_mode(ints_sample)\n",
    "print(len(nonblocking_result))\n",
    "nonblocking_result[:20]"
   ],
   "metadata": {
    "collapsed": false,
    "pycharm": {
     "name": "#%%\n"
    }
   }
  },
  {
   "cell_type": "code",
   "execution_count": 12,
   "outputs": [
    {
     "name": "stdout",
     "output_type": "stream",
     "text": [
      "1.51 s ± 54.9 ms per loop (mean ± std. dev. of 7 runs, 1 loop each)\n"
     ]
    }
   ],
   "source": [
    "%%timeit\n",
    "\n",
    "blocking_mode(ints_sample)"
   ],
   "metadata": {
    "collapsed": false,
    "pycharm": {
     "name": "#%%\n"
    }
   }
  },
  {
   "cell_type": "code",
   "execution_count": 13,
   "outputs": [
    {
     "name": "stdout",
     "output_type": "stream",
     "text": [
      "1.26 s ± 27.1 ms per loop (mean ± std. dev. of 7 runs, 1 loop each)\n"
     ]
    }
   ],
   "source": [
    "%%timeit\n",
    "\n",
    "nonblocking_mode(ints_sample)"
   ],
   "metadata": {
    "collapsed": false,
    "pycharm": {
     "name": "#%%\n"
    }
   }
  },
  {
   "cell_type": "code",
   "execution_count": 66,
   "outputs": [],
   "source": [
    "# даже при замедлении алгоритма при параллельном решении,\n",
    "# параллельное решение является более быстрым и оптимальным"
   ],
   "metadata": {
    "collapsed": false,
    "pycharm": {
     "name": "#%%\n"
    }
   }
  }
 ],
 "metadata": {
  "kernelspec": {
   "display_name": "Python 3",
   "language": "python",
   "name": "python3"
  },
  "language_info": {
   "codemirror_mode": {
    "name": "ipython",
    "version": 2
   },
   "file_extension": ".py",
   "mimetype": "text/x-python",
   "name": "python",
   "nbconvert_exporter": "python",
   "pygments_lexer": "ipython2",
   "version": "2.7.6"
  }
 },
 "nbformat": 4,
 "nbformat_minor": 0
}