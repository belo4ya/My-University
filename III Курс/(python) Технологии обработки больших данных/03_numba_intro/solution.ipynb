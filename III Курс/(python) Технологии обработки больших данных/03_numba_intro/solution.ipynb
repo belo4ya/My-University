{
 "cells": [
  {
   "cell_type": "markdown",
   "metadata": {},
   "source": [
    "## Оптимизация выполнения кода, векторизация, Numba"
   ]
  },
  {
   "cell_type": "markdown",
   "metadata": {},
   "source": [
    "Материалы:\n",
    "* Макрушин С.В. Лекция 3: Оптимизация выполнения кода, векторизация, Numba\n",
    "* IPython Cookbook, Second Edition (2018), глава 4\n",
    "* https://numba.pydata.org/numba-doc/latest/user/5minguide.html"
   ]
  },
  {
   "cell_type": "markdown",
   "metadata": {},
   "source": [
    "## Задачи для совместного разбора"
   ]
  },
  {
   "cell_type": "markdown",
   "metadata": {},
   "source": [
    "1. Сгенерируйте массив `A` из `N=1млн` случайных целых чисел на отрезке от 0 до 1000. Пусть `B[i] = A[i] + 100`. Посчитайте среднее значение массива `B`."
   ]
  },
  {
   "cell_type": "code",
   "execution_count": 8,
   "outputs": [],
   "source": [
    "import numpy as np\n",
    "import pandas as pd\n",
    "from numba import jit"
   ],
   "metadata": {
    "collapsed": false,
    "pycharm": {
     "name": "#%%\n"
    }
   }
  },
  {
   "cell_type": "code",
   "execution_count": 9,
   "outputs": [
    {
     "name": "stdout",
     "output_type": "stream",
     "text": [
      "The line_profiler extension is already loaded. To reload it, use:\n",
      "  %reload_ext line_profiler\n"
     ]
    }
   ],
   "source": [
    "% load_ext line_profiler"
   ],
   "metadata": {
    "collapsed": false,
    "pycharm": {
     "name": "#%%\n"
    }
   }
  },
  {
   "cell_type": "code",
   "execution_count": 10,
   "outputs": [],
   "source": [
    "arr_A = np.random.randint(0, 1000, size=1_000_000)"
   ],
   "metadata": {
    "collapsed": false,
    "pycharm": {
     "name": "#%%\n"
    }
   }
  },
  {
   "cell_type": "code",
   "execution_count": 11,
   "outputs": [
    {
     "name": "stdout",
     "output_type": "stream",
     "text": [
      "62.8 ms ± 5.16 ms per loop (mean ± std. dev. of 7 runs, 10 loops each)\n"
     ]
    }
   ],
   "source": [
    "%%timeit\n",
    "\n",
    "sum(arr_A) / len(arr_A) + 100"
   ],
   "metadata": {
    "collapsed": false,
    "pycharm": {
     "name": "#%%\n"
    }
   }
  },
  {
   "cell_type": "code",
   "execution_count": 12,
   "outputs": [
    {
     "name": "stdout",
     "output_type": "stream",
     "text": [
      "823 µs ± 11.2 µs per loop (mean ± std. dev. of 7 runs, 1000 loops each)\n"
     ]
    }
   ],
   "source": [
    "%%timeit\n",
    "\n",
    "np.mean(arr_A) + 100"
   ],
   "metadata": {
    "collapsed": false,
    "pycharm": {
     "name": "#%%\n"
    }
   }
  },
  {
   "cell_type": "code",
   "execution_count": 13,
   "outputs": [
    {
     "name": "stdout",
     "output_type": "stream",
     "text": [
      "487 µs ± 49.4 µs per loop (mean ± std. dev. of 7 runs, 1 loop each)\n"
     ]
    }
   ],
   "source": [
    "@jit(nopython=True)\n",
    "def numba_speed_up(arr):\n",
    "    return sum(arr) / len(arr) + 100\n",
    "\n",
    "%timeit numba_speed_up(arr_A)"
   ],
   "metadata": {
    "collapsed": false,
    "pycharm": {
     "name": "#%%\n"
    }
   }
  },
  {
   "cell_type": "markdown",
   "metadata": {},
   "source": [
    "2. Создайте таблицу 2млн строк и с 4 столбцами, заполненными случайными числами. Добавьте столбец `key`, которые содержит элементы из множества английских букв. Выберите из таблицы подмножество строк, для которых в столбце `key` указаны первые 5 английских букв."
   ]
  },
  {
   "cell_type": "code",
   "execution_count": 14,
   "outputs": [
    {
     "data": {
      "text/plain": "         random_0  random_1  random_2  random_3 key\n0        0.449805  0.987751  0.283799  0.865578   y\n1        0.365913  0.982752  0.745270  0.185312   k\n2        0.003685  0.080433  0.432194  0.613571   u\n3        0.716174  0.861753  0.486926  0.626057   v\n4        0.109380  0.747596  0.216897  0.526058   r\n...           ...       ...       ...       ...  ..\n1999995  0.219007  0.154486  0.880845  0.882821   i\n1999996  0.758542  0.640169  0.061719  0.883919   a\n1999997  0.539231  0.282714  0.906032  0.416378   k\n1999998  0.299895  0.371367  0.082990  0.381114   u\n1999999  0.239335  0.643848  0.358765  0.115958   z\n\n[2000000 rows x 5 columns]",
      "text/html": "<div>\n<style scoped>\n    .dataframe tbody tr th:only-of-type {\n        vertical-align: middle;\n    }\n\n    .dataframe tbody tr th {\n        vertical-align: top;\n    }\n\n    .dataframe thead th {\n        text-align: right;\n    }\n</style>\n<table border=\"1\" class=\"dataframe\">\n  <thead>\n    <tr style=\"text-align: right;\">\n      <th></th>\n      <th>random_0</th>\n      <th>random_1</th>\n      <th>random_2</th>\n      <th>random_3</th>\n      <th>key</th>\n    </tr>\n  </thead>\n  <tbody>\n    <tr>\n      <th>0</th>\n      <td>0.449805</td>\n      <td>0.987751</td>\n      <td>0.283799</td>\n      <td>0.865578</td>\n      <td>y</td>\n    </tr>\n    <tr>\n      <th>1</th>\n      <td>0.365913</td>\n      <td>0.982752</td>\n      <td>0.745270</td>\n      <td>0.185312</td>\n      <td>k</td>\n    </tr>\n    <tr>\n      <th>2</th>\n      <td>0.003685</td>\n      <td>0.080433</td>\n      <td>0.432194</td>\n      <td>0.613571</td>\n      <td>u</td>\n    </tr>\n    <tr>\n      <th>3</th>\n      <td>0.716174</td>\n      <td>0.861753</td>\n      <td>0.486926</td>\n      <td>0.626057</td>\n      <td>v</td>\n    </tr>\n    <tr>\n      <th>4</th>\n      <td>0.109380</td>\n      <td>0.747596</td>\n      <td>0.216897</td>\n      <td>0.526058</td>\n      <td>r</td>\n    </tr>\n    <tr>\n      <th>...</th>\n      <td>...</td>\n      <td>...</td>\n      <td>...</td>\n      <td>...</td>\n      <td>...</td>\n    </tr>\n    <tr>\n      <th>1999995</th>\n      <td>0.219007</td>\n      <td>0.154486</td>\n      <td>0.880845</td>\n      <td>0.882821</td>\n      <td>i</td>\n    </tr>\n    <tr>\n      <th>1999996</th>\n      <td>0.758542</td>\n      <td>0.640169</td>\n      <td>0.061719</td>\n      <td>0.883919</td>\n      <td>a</td>\n    </tr>\n    <tr>\n      <th>1999997</th>\n      <td>0.539231</td>\n      <td>0.282714</td>\n      <td>0.906032</td>\n      <td>0.416378</td>\n      <td>k</td>\n    </tr>\n    <tr>\n      <th>1999998</th>\n      <td>0.299895</td>\n      <td>0.371367</td>\n      <td>0.082990</td>\n      <td>0.381114</td>\n      <td>u</td>\n    </tr>\n    <tr>\n      <th>1999999</th>\n      <td>0.239335</td>\n      <td>0.643848</td>\n      <td>0.358765</td>\n      <td>0.115958</td>\n      <td>z</td>\n    </tr>\n  </tbody>\n</table>\n<p>2000000 rows × 5 columns</p>\n</div>"
     },
     "execution_count": 14,
     "metadata": {},
     "output_type": "execute_result"
    }
   ],
   "source": [
    "from string import ascii_lowercase\n",
    "\n",
    "n = 2_000_000\n",
    "df = pd.DataFrame(np.random.random(size=(n, 4)), columns=[f'random_{i}' for i in range(4)])\n",
    "df['key'] = np.random.default_rng().choice(list(ascii_lowercase), size=n)\n",
    "df"
   ],
   "metadata": {
    "collapsed": false,
    "pycharm": {
     "name": "#%%\n"
    }
   }
  },
  {
   "cell_type": "code",
   "execution_count": 15,
   "outputs": [
    {
     "name": "stdout",
     "output_type": "stream",
     "text": [
      "569 ms ± 10.7 ms per loop (mean ± std. dev. of 7 runs, 1 loop each)\n"
     ]
    }
   ],
   "source": [
    "def bad_solution(df_):\n",
    "    letters = ['a', 'b', 'c', 'd', 'e']\n",
    "    dfs = []\n",
    "    for letter in letters:\n",
    "        q = df_[df_['key'] == letter]\n",
    "        dfs.append(q)\n",
    "    return pd.concat(dfs, axis=0)\n",
    "\n",
    "%timeit bad_solution(df)"
   ],
   "metadata": {
    "collapsed": false,
    "pycharm": {
     "name": "#%%\n"
    }
   }
  },
  {
   "cell_type": "code",
   "execution_count": 16,
   "outputs": [
    {
     "name": "stdout",
     "output_type": "stream",
     "text": [
      "89.4 ms ± 5.81 ms per loop (mean ± std. dev. of 7 runs, 10 loops each)\n"
     ]
    }
   ],
   "source": [
    "def inline_solution(df_):\n",
    "    return df_[df_['key'].isin({'a', 'b', 'c', 'd', 'e'})]\n",
    "\n",
    "%timeit inline_solution(df)"
   ],
   "metadata": {
    "collapsed": false,
    "pycharm": {
     "name": "#%%\n"
    }
   }
  },
  {
   "cell_type": "code",
   "execution_count": 17,
   "outputs": [],
   "source": [
    "def for_profiling_solution(df_):\n",
    "    letters = {'a', 'b', 'c', 'd', 'e'}\n",
    "    mask = df_['key'].isin(letters)\n",
    "    return df_[mask]\n",
    "\n",
    "%lprun -f for_profiling_solution for_profiling_solution(df)"
   ],
   "metadata": {
    "collapsed": false,
    "pycharm": {
     "name": "#%%\n"
    }
   }
  },
  {
   "cell_type": "markdown",
   "metadata": {},
   "source": [
    "## Лабораторная работа 3"
   ]
  },
  {
   "cell_type": "markdown",
   "metadata": {},
   "source": [
    "1. В файлах `recipes_sample.csv` и `reviews_sample.csv` (__ЛР 2__) находится информация об рецептах блюд и отзывах на эти рецепты соответственно. Загрузите данные из файлов в виде `pd.DataFrame` с названиями `recipes` и `reviews`. Обратите внимание на корректное считывание столбца(ов) с индексами. Приведите столбцы к нужным типам.\n",
    "\n",
    "Реализуйте несколько вариантов функции подсчета среднего значения столбца `rating` из таблицы `reviews` для отзывов, оставленных в 2010 году.\n",
    "\n",
    "A. С использованием метода `DataFrame.iterrows` исходной таблицы;\n",
    "\n",
    "Б. С использованием метода `DataFrame.iterrows` таблицы, в которой сохранены только отзывы за 2010 год;\n",
    "\n",
    "В. С использованием метода `Series.mean`.\n",
    "\n",
    "Проверьте, что результаты работы всех написанных функций корректны и совпадают. Измерьте выполнения всех написанных функций.\n"
   ]
  },
  {
   "cell_type": "code",
   "execution_count": 18,
   "outputs": [
    {
     "name": "stdout",
     "output_type": "stream",
     "text": [
      "<class 'pandas.core.frame.DataFrame'>\n",
      "RangeIndex: 30000 entries, 0 to 29999\n",
      "Data columns (total 8 columns):\n",
      " #   Column          Non-Null Count  Dtype         \n",
      "---  ------          --------------  -----         \n",
      " 0   name            30000 non-null  object        \n",
      " 1   id              30000 non-null  int64         \n",
      " 2   minutes         30000 non-null  int64         \n",
      " 3   contributor_id  30000 non-null  int64         \n",
      " 4   submitted       30000 non-null  datetime64[ns]\n",
      " 5   n_steps         18810 non-null  float64       \n",
      " 6   description     29377 non-null  object        \n",
      " 7   n_ingredients   21120 non-null  float64       \n",
      "dtypes: datetime64[ns](1), float64(2), int64(3), object(2)\n",
      "memory usage: 1.8+ MB\n"
     ]
    },
    {
     "data": {
      "text/plain": "                                               name      id  minutes  \\\n0             george s at the cove  black bean soup   44123       90   \n1                healthy for them  yogurt popsicles   67664       10   \n2                      i can t believe it s spinach   38798       30   \n3                              italian  gut busters   35173       45   \n4          love is in the air  beef fondue   sauces   84797       25   \n...                                             ...     ...      ...   \n29995  zurie s holey rustic olive and cheddar bread  267661       80   \n29996          zwetschgenkuchen  bavarian plum cake  386977      240   \n29997   zwiebelkuchen   southwest german onion cake  103312       75   \n29998                                   zydeco soup  486161       60   \n29999        cookies by design   cookies on a stick  298512       29   \n\n       contributor_id  submitted  n_steps  \\\n0               35193 2002-10-25      NaN   \n1               91970 2003-07-26      NaN   \n2                1533 2002-08-29      NaN   \n3               22724 2002-07-27      NaN   \n4                4470 2004-02-23      4.0   \n...               ...        ...      ...   \n29995          200862 2007-11-25     16.0   \n29996          177443 2009-08-24      NaN   \n29997          161745 2004-11-03      NaN   \n29998          227978 2012-08-29      NaN   \n29999          506822 2008-04-15      9.0   \n\n                                             description  n_ingredients  \n0      an original recipe created by chef scott meska...           18.0  \n1      my children and their friends ask for my homem...            NaN  \n2                these were so go, it surprised even me.            8.0  \n3      my sister-in-law made these for us at a family...            NaN  \n4      i think a fondue is a very romantic casual din...            NaN  \n...                                                  ...            ...  \n29995  this is based on a french recipe but i changed...           10.0  \n29996  this is a traditional fresh plum cake, thought...           11.0  \n29997  this is a traditional late summer early fall s...            NaN  \n29998  this is a delicious soup that i originally fou...            NaN  \n29999  i've heard of the 'cookies by design' company,...           10.0  \n\n[30000 rows x 8 columns]",
      "text/html": "<div>\n<style scoped>\n    .dataframe tbody tr th:only-of-type {\n        vertical-align: middle;\n    }\n\n    .dataframe tbody tr th {\n        vertical-align: top;\n    }\n\n    .dataframe thead th {\n        text-align: right;\n    }\n</style>\n<table border=\"1\" class=\"dataframe\">\n  <thead>\n    <tr style=\"text-align: right;\">\n      <th></th>\n      <th>name</th>\n      <th>id</th>\n      <th>minutes</th>\n      <th>contributor_id</th>\n      <th>submitted</th>\n      <th>n_steps</th>\n      <th>description</th>\n      <th>n_ingredients</th>\n    </tr>\n  </thead>\n  <tbody>\n    <tr>\n      <th>0</th>\n      <td>george s at the cove  black bean soup</td>\n      <td>44123</td>\n      <td>90</td>\n      <td>35193</td>\n      <td>2002-10-25</td>\n      <td>NaN</td>\n      <td>an original recipe created by chef scott meska...</td>\n      <td>18.0</td>\n    </tr>\n    <tr>\n      <th>1</th>\n      <td>healthy for them  yogurt popsicles</td>\n      <td>67664</td>\n      <td>10</td>\n      <td>91970</td>\n      <td>2003-07-26</td>\n      <td>NaN</td>\n      <td>my children and their friends ask for my homem...</td>\n      <td>NaN</td>\n    </tr>\n    <tr>\n      <th>2</th>\n      <td>i can t believe it s spinach</td>\n      <td>38798</td>\n      <td>30</td>\n      <td>1533</td>\n      <td>2002-08-29</td>\n      <td>NaN</td>\n      <td>these were so go, it surprised even me.</td>\n      <td>8.0</td>\n    </tr>\n    <tr>\n      <th>3</th>\n      <td>italian  gut busters</td>\n      <td>35173</td>\n      <td>45</td>\n      <td>22724</td>\n      <td>2002-07-27</td>\n      <td>NaN</td>\n      <td>my sister-in-law made these for us at a family...</td>\n      <td>NaN</td>\n    </tr>\n    <tr>\n      <th>4</th>\n      <td>love is in the air  beef fondue   sauces</td>\n      <td>84797</td>\n      <td>25</td>\n      <td>4470</td>\n      <td>2004-02-23</td>\n      <td>4.0</td>\n      <td>i think a fondue is a very romantic casual din...</td>\n      <td>NaN</td>\n    </tr>\n    <tr>\n      <th>...</th>\n      <td>...</td>\n      <td>...</td>\n      <td>...</td>\n      <td>...</td>\n      <td>...</td>\n      <td>...</td>\n      <td>...</td>\n      <td>...</td>\n    </tr>\n    <tr>\n      <th>29995</th>\n      <td>zurie s holey rustic olive and cheddar bread</td>\n      <td>267661</td>\n      <td>80</td>\n      <td>200862</td>\n      <td>2007-11-25</td>\n      <td>16.0</td>\n      <td>this is based on a french recipe but i changed...</td>\n      <td>10.0</td>\n    </tr>\n    <tr>\n      <th>29996</th>\n      <td>zwetschgenkuchen  bavarian plum cake</td>\n      <td>386977</td>\n      <td>240</td>\n      <td>177443</td>\n      <td>2009-08-24</td>\n      <td>NaN</td>\n      <td>this is a traditional fresh plum cake, thought...</td>\n      <td>11.0</td>\n    </tr>\n    <tr>\n      <th>29997</th>\n      <td>zwiebelkuchen   southwest german onion cake</td>\n      <td>103312</td>\n      <td>75</td>\n      <td>161745</td>\n      <td>2004-11-03</td>\n      <td>NaN</td>\n      <td>this is a traditional late summer early fall s...</td>\n      <td>NaN</td>\n    </tr>\n    <tr>\n      <th>29998</th>\n      <td>zydeco soup</td>\n      <td>486161</td>\n      <td>60</td>\n      <td>227978</td>\n      <td>2012-08-29</td>\n      <td>NaN</td>\n      <td>this is a delicious soup that i originally fou...</td>\n      <td>NaN</td>\n    </tr>\n    <tr>\n      <th>29999</th>\n      <td>cookies by design   cookies on a stick</td>\n      <td>298512</td>\n      <td>29</td>\n      <td>506822</td>\n      <td>2008-04-15</td>\n      <td>9.0</td>\n      <td>i've heard of the 'cookies by design' company,...</td>\n      <td>10.0</td>\n    </tr>\n  </tbody>\n</table>\n<p>30000 rows × 8 columns</p>\n</div>"
     },
     "execution_count": 18,
     "metadata": {},
     "output_type": "execute_result"
    }
   ],
   "source": [
    "recipes_df = pd.read_csv('sem/data/recipes_sample.csv', sep=',', parse_dates=['submitted'])\n",
    "\n",
    "recipes_df.info()\n",
    "recipes_df"
   ],
   "metadata": {
    "collapsed": false,
    "pycharm": {
     "name": "#%%\n"
    }
   }
  },
  {
   "cell_type": "code",
   "execution_count": 19,
   "outputs": [
    {
     "name": "stdout",
     "output_type": "stream",
     "text": [
      "<class 'pandas.core.frame.DataFrame'>\n",
      "Int64Index: 126696 entries, 370476 to 691207\n",
      "Data columns (total 5 columns):\n",
      " #   Column     Non-Null Count   Dtype         \n",
      "---  ------     --------------   -----         \n",
      " 0   user_id    126696 non-null  int64         \n",
      " 1   recipe_id  126696 non-null  int64         \n",
      " 2   date       126696 non-null  datetime64[ns]\n",
      " 3   rating     126696 non-null  int64         \n",
      " 4   review     126679 non-null  object        \n",
      "dtypes: datetime64[ns](1), int64(3), object(1)\n",
      "memory usage: 5.8+ MB\n"
     ]
    },
    {
     "data": {
      "text/plain": "            user_id  recipe_id       date  rating  \\\n370476        21752      57993 2003-05-01       5   \n624300       431813     142201 2007-09-16       5   \n187037       400708     252013 2008-01-10       4   \n706134   2001852463     404716 2017-12-11       5   \n312179        95810     129396 2008-03-14       5   \n...             ...        ...        ...     ...   \n1013457     1270706     335534 2009-05-17       4   \n158736      2282344       8701 2012-06-03       0   \n1059834      689540     222001 2008-04-08       5   \n453285   2000242659     354979 2015-06-02       5   \n691207       463435     415599 2010-09-30       5   \n\n                                                    review  \n370476   Last week whole sides of frozen salmon fillet ...  \n624300   So simple and so tasty!  I used a yellow capsi...  \n187037   Very nice breakfast HH, easy to make and yummy...  \n706134   These are a favorite for the holidays and so e...  \n312179   Excellent soup!  The tomato flavor is just gre...  \n...                                                    ...  \n1013457  This recipe was great! I made it last night. I...  \n158736   This recipe is outstanding. I followed the rec...  \n1059834  Well, we were not a crowd but it was a fabulou...  \n453285   I have been a steak eater and dedicated BBQ gr...  \n691207   Wonderful and simple to prepare seasoning blen...  \n\n[126696 rows x 5 columns]",
      "text/html": "<div>\n<style scoped>\n    .dataframe tbody tr th:only-of-type {\n        vertical-align: middle;\n    }\n\n    .dataframe tbody tr th {\n        vertical-align: top;\n    }\n\n    .dataframe thead th {\n        text-align: right;\n    }\n</style>\n<table border=\"1\" class=\"dataframe\">\n  <thead>\n    <tr style=\"text-align: right;\">\n      <th></th>\n      <th>user_id</th>\n      <th>recipe_id</th>\n      <th>date</th>\n      <th>rating</th>\n      <th>review</th>\n    </tr>\n  </thead>\n  <tbody>\n    <tr>\n      <th>370476</th>\n      <td>21752</td>\n      <td>57993</td>\n      <td>2003-05-01</td>\n      <td>5</td>\n      <td>Last week whole sides of frozen salmon fillet ...</td>\n    </tr>\n    <tr>\n      <th>624300</th>\n      <td>431813</td>\n      <td>142201</td>\n      <td>2007-09-16</td>\n      <td>5</td>\n      <td>So simple and so tasty!  I used a yellow capsi...</td>\n    </tr>\n    <tr>\n      <th>187037</th>\n      <td>400708</td>\n      <td>252013</td>\n      <td>2008-01-10</td>\n      <td>4</td>\n      <td>Very nice breakfast HH, easy to make and yummy...</td>\n    </tr>\n    <tr>\n      <th>706134</th>\n      <td>2001852463</td>\n      <td>404716</td>\n      <td>2017-12-11</td>\n      <td>5</td>\n      <td>These are a favorite for the holidays and so e...</td>\n    </tr>\n    <tr>\n      <th>312179</th>\n      <td>95810</td>\n      <td>129396</td>\n      <td>2008-03-14</td>\n      <td>5</td>\n      <td>Excellent soup!  The tomato flavor is just gre...</td>\n    </tr>\n    <tr>\n      <th>...</th>\n      <td>...</td>\n      <td>...</td>\n      <td>...</td>\n      <td>...</td>\n      <td>...</td>\n    </tr>\n    <tr>\n      <th>1013457</th>\n      <td>1270706</td>\n      <td>335534</td>\n      <td>2009-05-17</td>\n      <td>4</td>\n      <td>This recipe was great! I made it last night. I...</td>\n    </tr>\n    <tr>\n      <th>158736</th>\n      <td>2282344</td>\n      <td>8701</td>\n      <td>2012-06-03</td>\n      <td>0</td>\n      <td>This recipe is outstanding. I followed the rec...</td>\n    </tr>\n    <tr>\n      <th>1059834</th>\n      <td>689540</td>\n      <td>222001</td>\n      <td>2008-04-08</td>\n      <td>5</td>\n      <td>Well, we were not a crowd but it was a fabulou...</td>\n    </tr>\n    <tr>\n      <th>453285</th>\n      <td>2000242659</td>\n      <td>354979</td>\n      <td>2015-06-02</td>\n      <td>5</td>\n      <td>I have been a steak eater and dedicated BBQ gr...</td>\n    </tr>\n    <tr>\n      <th>691207</th>\n      <td>463435</td>\n      <td>415599</td>\n      <td>2010-09-30</td>\n      <td>5</td>\n      <td>Wonderful and simple to prepare seasoning blen...</td>\n    </tr>\n  </tbody>\n</table>\n<p>126696 rows × 5 columns</p>\n</div>"
     },
     "execution_count": 19,
     "metadata": {},
     "output_type": "execute_result"
    }
   ],
   "source": [
    "reviews_df = pd.read_csv('sem/data/reviews_sample.csv', sep=',', index_col=0, parse_dates=['date'])\n",
    "\n",
    "reviews_df.info()\n",
    "reviews_df"
   ],
   "metadata": {
    "collapsed": false,
    "pycharm": {
     "name": "#%%\n"
    }
   }
  },
  {
   "cell_type": "code",
   "execution_count": 26,
   "outputs": [
    {
     "name": "stdout",
     "output_type": "stream",
     "text": [
      "4.7 s ± 379 ms per loop (mean ± std. dev. of 7 runs, 1 loop each)\n"
     ]
    }
   ],
   "source": [
    "def a_solution(reviews: pd.DataFrame):\n",
    "    sum_, n_ = 0, 0\n",
    "    for i, row in reviews.iterrows():\n",
    "        if row['date'].year == 2010:\n",
    "            sum_ += row['rating']\n",
    "            n_ += 1\n",
    "\n",
    "    return sum_ / n_\n",
    "\n",
    "\n",
    "%timeit a_solution(reviews_df)"
   ],
   "metadata": {
    "collapsed": false,
    "pycharm": {
     "name": "#%%\n"
    }
   }
  },
  {
   "cell_type": "code",
   "execution_count": 28,
   "outputs": [
    {
     "name": "stdout",
     "output_type": "stream",
     "text": [
      "461 ms ± 46.1 ms per loop (mean ± std. dev. of 7 runs, 1 loop each)\n"
     ]
    }
   ],
   "source": [
    "def b_solution(reviews: pd.DataFrame):\n",
    "    reviews = reviews[reviews['date'].dt.year == 2010]\n",
    "\n",
    "    sum_, n_ = 0, 0\n",
    "    for i, row in reviews.iterrows():\n",
    "        sum_ += row['rating']\n",
    "        n_ += 1\n",
    "\n",
    "    return sum_ / n_\n",
    "\n",
    "\n",
    "%timeit b_solution(reviews_df)"
   ],
   "metadata": {
    "collapsed": false,
    "pycharm": {
     "name": "#%%\n"
    }
   }
  },
  {
   "cell_type": "code",
   "execution_count": 32,
   "outputs": [
    {
     "name": "stdout",
     "output_type": "stream",
     "text": [
      "11.4 ms ± 271 µs per loop (mean ± std. dev. of 7 runs, 100 loops each)\n"
     ]
    }
   ],
   "source": [
    "def c_solution(reviews: pd.DataFrame):\n",
    "    return reviews[reviews['date'].dt.year == 2010]['rating'].mean()\n",
    "\n",
    "\n",
    "%timeit c_solution(reviews_df)"
   ],
   "metadata": {
    "collapsed": false,
    "pycharm": {
     "name": "#%%\n"
    }
   }
  },
  {
   "cell_type": "code",
   "execution_count": 33,
   "outputs": [
    {
     "name": "stdout",
     "output_type": "stream",
     "text": [
      "4.4544402182900615\n"
     ]
    }
   ],
   "source": [
    "a_result = a_solution(reviews_df)\n",
    "b_result = b_solution(reviews_df)\n",
    "c_result = c_solution(reviews_df)"
   ],
   "metadata": {
    "collapsed": false,
    "pycharm": {
     "name": "#%%\n"
    }
   }
  },
  {
   "cell_type": "code",
   "execution_count": 34,
   "outputs": [],
   "source": [
    "assert a_result == b_result == c_result"
   ],
   "metadata": {
    "collapsed": false,
    "pycharm": {
     "name": "#%%\n"
    }
   }
  },
  {
   "cell_type": "markdown",
   "metadata": {},
   "source": [
    "2. Какая из созданных функций выполняется медленнее? Что наиболее сильно влияет на скорость выполнения? Для ответа использовать профайлер `line_profiler`. Сохраните результаты работы профайлера в отдельную текстовую ячейку и прокомментируйте результаты его работы.\n",
    "\n",
    "(*). Сможете ли вы ускорить работу функции 1Б, отказавшись от использования метода `iterrows`, но не используя метод `mean`?"
   ]
  },
  {
   "cell_type": "code",
   "execution_count": 35,
   "outputs": [],
   "source": [
    "%lprun -f a_solution a_solution(reviews_df)"
   ],
   "metadata": {
    "collapsed": false,
    "pycharm": {
     "name": "#%%\n"
    }
   }
  },
  {
   "cell_type": "markdown",
   "source": [
    "Line #      Hits         Time  Per Hit   % Time  Line Contents\n",
    "==============================================================\n",
    "     1\n",
    "     2         1         36.0     36.0      0.0\n",
    "     3    126697  120483192.0    951.0     88.4\n",
    "     4    126696   14671916.0    115.8     10.8\n",
    "     5     12094    1115105.0     92.2      0.8\n",
    "     6     12094      59278.0      4.9      0.0\n",
    "     7\n",
    "     8         1         13.0     13.0      0.0"
   ],
   "metadata": {
    "collapsed": false,
    "pycharm": {
     "name": "#%% md\n"
    }
   }
  },
  {
   "cell_type": "code",
   "execution_count": 47,
   "outputs": [
    {
     "name": "stdout",
     "output_type": "stream",
     "text": [
      "11.9 ms ± 400 µs per loop (mean ± std. dev. of 7 runs, 100 loops each)\n"
     ]
    }
   ],
   "source": [
    "def b_solution_speed_up(reviews: pd.DataFrame):\n",
    "    def mean(x: pd.Series) -> float:\n",
    "        return np.sum(x) / x.size\n",
    "\n",
    "    reviews = reviews[reviews['date'].dt.year == 2010]\n",
    "    return reviews['rating'].agg(lambda x: mean(x))\n",
    "\n",
    "\n",
    "%timeit b_solution_speed_up(reviews_df)"
   ],
   "metadata": {
    "collapsed": false,
    "pycharm": {
     "name": "#%%\n"
    }
   }
  },
  {
   "cell_type": "code",
   "execution_count": 48,
   "outputs": [],
   "source": [
    "b_speed_up_result = b_solution_speed_up(reviews_df)"
   ],
   "metadata": {
    "collapsed": false,
    "pycharm": {
     "name": "#%%\n"
    }
   }
  },
  {
   "cell_type": "code",
   "execution_count": 49,
   "outputs": [],
   "source": [
    "assert b_speed_up_result == a_result == b_result == c_result"
   ],
   "metadata": {
    "collapsed": false,
    "pycharm": {
     "name": "#%%\n"
    }
   }
  },
  {
   "cell_type": "markdown",
   "metadata": {},
   "source": [
    "3. Вам предлагается воспользоваться функцией, которая собирает статистику о том, сколько отзывов содержат то или иное слово. Измерьте время выполнения этой функции. Сможете ли вы найти узкие места в коде, используя профайлер? Выпишите (словами), что в имеющемся коде реализовано неоптимально. Оптимизируйте функцию и добейтесь значительного (как минимум, на один порядок) прироста в скорости выполнения."
   ]
  },
  {
   "cell_type": "code",
   "execution_count": null,
   "metadata": {},
   "outputs": [],
   "source": [
    "def get_word_reviews_count(df):\n",
    "    word_reviews = {}\n",
    "    for _, row in df.dropna(subset=['review']).iterrows():\n",
    "        recipe_id, review = row['recipe_id'], row['review']\n",
    "        words = review.split(' ')\n",
    "        for word in words:\n",
    "            if word not in word_reviews:\n",
    "                word_reviews[word] = []\n",
    "            word_reviews[word].append(recipe_id)\n",
    "\n",
    "    word_reviews_count = {}\n",
    "    for _, row in df.dropna(subset=['review']).iterrows():\n",
    "        review = row['review']\n",
    "        words = review.split(' ')\n",
    "        for word in words:\n",
    "            word_reviews_count[word] = len(word_reviews[word])\n",
    "    return word_reviews_count"
   ]
  },
  {
   "cell_type": "markdown",
   "metadata": {},
   "source": [
    "4. Напишите несколько версий функции `MAPE` (см. [MAPE](https://en.wikipedia.org/wiki/Mean_absolute_percentage_error)) для расчета среднего абсолютного процентного отклонения значения рейтинга отзыва на рецепт от среднего значения рейтинга по всем отзывам для этого рецепта. \n",
    "    1. Без использования векторизованных операций и методов массивов `numpy` и без использования `numba`\n",
    "    2. Без использования векторизованных операций и методов массивов `numpy`, но с использованием `numba`\n",
    "    3. С использованием векторизованных операций и методов массивов `numpy`, но без использования `numba`\n",
    "    4. C использованием векторизованных операций и методов массивов `numpy` и `numba`\n",
    "    \n",
    "Измерьте время выполнения каждой из реализаций.\n",
    "\n",
    "Замечание: удалите из выборки отзывы с нулевым рейтингом.\n"
   ]
  },
  {
   "cell_type": "code",
   "execution_count": null,
   "metadata": {},
   "outputs": [],
   "source": []
  },
  {
   "cell_type": "code",
   "execution_count": null,
   "metadata": {},
   "outputs": [],
   "source": []
  },
  {
   "cell_type": "markdown",
   "metadata": {},
   "source": [
    "#### [версия 2]\n",
    "* Уточнены формулировки задач 1, 3, 4"
   ]
  },
  {
   "cell_type": "code",
   "execution_count": null,
   "metadata": {},
   "outputs": [],
   "source": []
  }
 ],
 "metadata": {
  "kernelspec": {
   "display_name": "Python 3",
   "language": "python",
   "name": "python3"
  },
  "language_info": {
   "codemirror_mode": {
    "name": "ipython",
    "version": 3
   },
   "file_extension": ".py",
   "mimetype": "text/x-python",
   "name": "python",
   "nbconvert_exporter": "python",
   "pygments_lexer": "ipython3",
   "version": "3.8.3"
  }
 },
 "nbformat": 4,
 "nbformat_minor": 4
}