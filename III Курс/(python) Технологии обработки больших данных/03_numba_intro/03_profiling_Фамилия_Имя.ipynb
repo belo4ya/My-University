{
 "cells": [
  {
   "cell_type": "markdown",
   "metadata": {},
   "source": [
    "## Оптимизация выполнения кода, векторизация, Numba"
   ]
  },
  {
   "cell_type": "markdown",
   "metadata": {},
   "source": [
    "Материалы:\n",
    "* Макрушин С.В. Лекция 3: Оптимизация выполнения кода, векторизация, Numba\n",
    "* IPython Cookbook, Second Edition (2018), глава 4\n",
    "* https://numba.pydata.org/numba-doc/latest/user/5minguide.html"
   ]
  },
  {
   "cell_type": "markdown",
   "metadata": {},
   "source": [
    "## Задачи для совместного разбора"
   ]
  },
  {
   "cell_type": "markdown",
   "metadata": {},
   "source": [
    "1. Сгенерируйте массив `A` из `N=1млн` случайных целых чисел на отрезке от 0 до 1000. Пусть `B[i] = A[i] + 100`. Посчитайте среднее значение массива `B`."
   ]
  },
  {
   "cell_type": "code",
   "execution_count": 22,
   "metadata": {
    "pycharm": {
     "name": "#%%\n"
    }
   },
   "outputs": [],
   "source": [
    "import numpy as np\n",
    "\n",
    "array = np.random.randint(0, 1000, size=1_000_000)"
   ]
  },
  {
   "cell_type": "code",
   "execution_count": 23,
   "metadata": {
    "pycharm": {
     "name": "#%%\n"
    }
   },
   "outputs": [],
   "source": [
    "def mean_0(arr):\n",
    "    acc, cnt = 0, 0\n",
    "    for ai in arr:\n",
    "        bi = ai + 100\n",
    "        acc += bi\n",
    "        cnt += 1\n",
    "    return acc / cnt"
   ]
  },
  {
   "cell_type": "code",
   "execution_count": 24,
   "metadata": {
    "pycharm": {
     "name": "#%%\n"
    }
   },
   "outputs": [
    {
     "name": "stdout",
     "output_type": "stream",
     "text": [
      "254 ms ± 38.6 ms per loop (mean ± std. dev. of 7 runs, 1 loop each)\n"
     ]
    }
   ],
   "source": [
    "%timeit mean_0(array)"
   ]
  },
  {
   "cell_type": "code",
   "execution_count": 25,
   "metadata": {
    "pycharm": {
     "name": "#%%\n"
    }
   },
   "outputs": [],
   "source": [
    "def mean_1(arr):\n",
    "    acc = 0\n",
    "    for ai in arr:\n",
    "        bi = ai + 100\n",
    "        acc += bi\n",
    "    return acc / len(arr)"
   ]
  },
  {
   "cell_type": "code",
   "execution_count": 26,
   "metadata": {
    "pycharm": {
     "name": "#%%\n"
    }
   },
   "outputs": [
    {
     "name": "stdout",
     "output_type": "stream",
     "text": [
      "245 ms ± 45.2 ms per loop (mean ± std. dev. of 7 runs, 1 loop each)\n"
     ]
    }
   ],
   "source": [
    "%timeit mean_1(array)"
   ]
  },
  {
   "cell_type": "code",
   "execution_count": 27,
   "metadata": {
    "pycharm": {
     "name": "#%%\n"
    }
   },
   "outputs": [
    {
     "name": "stdout",
     "output_type": "stream",
     "text": [
      "The line_profiler extension is already loaded. To reload it, use:\n",
      "  %reload_ext line_profiler\n"
     ]
    }
   ],
   "source": [
    "%load_ext line_profiler"
   ]
  },
  {
   "cell_type": "code",
   "execution_count": 28,
   "metadata": {},
   "outputs": [],
   "source": [
    "%lprun -f mean_1 mean_1(array)"
   ]
  },
  {
   "cell_type": "code",
   "execution_count": 29,
   "metadata": {},
   "outputs": [],
   "source": [
    "def mean_2(arr):\n",
    "    return sum(arr) / len(arr) + 100"
   ]
  },
  {
   "cell_type": "code",
   "execution_count": 30,
   "metadata": {},
   "outputs": [
    {
     "name": "stdout",
     "output_type": "stream",
     "text": [
      "69.4 ms ± 10.5 ms per loop (mean ± std. dev. of 7 runs, 10 loops each)\n"
     ]
    }
   ],
   "source": [
    "%timeit mean_2(array)"
   ]
  },
  {
   "cell_type": "code",
   "execution_count": 31,
   "metadata": {},
   "outputs": [],
   "source": [
    "def mean_3(arr):\n",
    "    return np.mean(arr) + 100"
   ]
  },
  {
   "cell_type": "code",
   "execution_count": 42,
   "metadata": {},
   "outputs": [
    {
     "name": "stdout",
     "output_type": "stream",
     "text": [
      "861 µs ± 84.8 µs per loop (mean ± std. dev. of 7 runs, 1000 loops each)\n"
     ]
    }
   ],
   "source": [
    "%timeit mean_3(array)"
   ]
  },
  {
   "cell_type": "code",
   "execution_count": 41,
   "outputs": [
    {
     "name": "stdout",
     "output_type": "stream",
     "text": [
      "471 µs ± 14.2 µs per loop (mean ± std. dev. of 7 runs, 1000 loops each)\n"
     ]
    }
   ],
   "source": [
    "import numba\n",
    "\n",
    "\n",
    "@numba.njit\n",
    "def mean_0_numba(arr):\n",
    "    acc, cnt = 0, 0\n",
    "    for ai in arr:\n",
    "        bi = ai + 100\n",
    "        acc += bi\n",
    "        cnt += 1\n",
    "    return acc / cnt\n",
    "\n",
    "\n",
    "%timeit mean_0_numba(array)"
   ],
   "metadata": {
    "collapsed": false,
    "pycharm": {
     "name": "#%%\n"
    }
   }
  },
  {
   "cell_type": "markdown",
   "metadata": {},
   "source": [
    "2. Создайте таблицу 2млн строк и с 4 столбцами, заполненными случайными числами. Добавьте столбец `key`, которые содержит элементы из множества английских букв. Выберите из таблицы подмножество строк, для которых в столбце `key` указаны первые 5 английских букв."
   ]
  },
  {
   "cell_type": "code",
   "execution_count": 57,
   "outputs": [],
   "source": [
    "import pandas as pd\n",
    "from string import ascii_lowercase\n",
    "\n",
    "N = 2_000_000\n",
    "df = pd.DataFrame(\n",
    "    data=np.random.random(size=(N, 4)),\n",
    "    columns=[f'random_{i}' for i in range(4)]\n",
    ")\n",
    "df['key'] = np.random.default_rng().choice(list(ascii_lowercase), size=N, replace=True)"
   ],
   "metadata": {
    "collapsed": false,
    "pycharm": {
     "name": "#%%\n"
    }
   }
  },
  {
   "cell_type": "code",
   "execution_count": 76,
   "outputs": [],
   "source": [
    "def solution_0(df_):\n",
    "    letters = ['a', 'b', 'c', 'd', 'e']\n",
    "    dfs = []\n",
    "    for letter in letters:\n",
    "        q = df_[df_['key']==letter]\n",
    "        dfs.append(q)\n",
    "    return pd.concat(dfs, axis=0)"
   ],
   "metadata": {
    "collapsed": false,
    "pycharm": {
     "name": "#%%\n"
    }
   }
  },
  {
   "cell_type": "code",
   "execution_count": 77,
   "outputs": [
    {
     "name": "stdout",
     "output_type": "stream",
     "text": [
      "574 ms ± 115 ms per loop (mean ± std. dev. of 7 runs, 1 loop each)\n"
     ]
    }
   ],
   "source": [
    "%timeit solution_0(df)"
   ],
   "metadata": {
    "collapsed": false,
    "pycharm": {
     "name": "#%%\n"
    }
   }
  },
  {
   "cell_type": "code",
   "execution_count": 82,
   "outputs": [],
   "source": [
    "def solution_1(df_):\n",
    "    first_letters = ascii_lowercase[:5]\n",
    "    return df_[df_['key'].isin(set(first_letters))]"
   ],
   "metadata": {
    "collapsed": false,
    "pycharm": {
     "name": "#%%\n"
    }
   }
  },
  {
   "cell_type": "code",
   "execution_count": 83,
   "outputs": [
    {
     "name": "stdout",
     "output_type": "stream",
     "text": [
      "85.7 ms ± 869 µs per loop (mean ± std. dev. of 7 runs, 10 loops each)\n"
     ]
    }
   ],
   "source": [
    "%timeit solution_1(df)"
   ],
   "metadata": {
    "collapsed": false,
    "pycharm": {
     "name": "#%%\n"
    }
   }
  },
  {
   "cell_type": "code",
   "execution_count": 125,
   "outputs": [
    {
     "name": "stdout",
     "output_type": "stream",
     "text": [
      "{97, 98, 99, 100, 101}\n",
      "[101 100 114 ...  99 103 105]\n",
      "[False False False ... False False False]\n"
     ]
    }
   ],
   "source": [
    "# @numba.njit\n",
    "def foo(n_array):\n",
    "    first_letters = {ord(x) for x in ascii_lowercase[:5]}\n",
    "    print(first_letters)\n",
    "    print(n_array)\n",
    "    return n_array == first_letters\n",
    "\n",
    "\n",
    "def solution_2(df_):\n",
    "    # print(foo(df_['key'].to_numpy()))\n",
    "    return foo(df_['key'].to_numpy())\n",
    "\n",
    "\n",
    "print(foo(df['key'].apply(lambda x: ord(x)).to_numpy()))"
   ],
   "metadata": {
    "collapsed": false,
    "pycharm": {
     "name": "#%%\n"
    }
   }
  },
  {
   "cell_type": "code",
   "execution_count": 124,
   "outputs": [
    {
     "name": "stdout",
     "output_type": "stream",
     "text": [
      "{97, 98, 99, 100, 101}\n",
      "['e' 'd' 'r' ... 'c' 'g' 'i']\n",
      "{97, 98, 99, 100, 101}\n",
      "['e' 'd' 'r' ... 'c' 'g' 'i']\n",
      "{97, 98, 99, 100, 101}\n",
      "['e' 'd' 'r' ... 'c' 'g' 'i']\n",
      "{97, 98, 99, 100, 101}\n",
      "['e' 'd' 'r' ... 'c' 'g' 'i']\n",
      "{97, 98, 99, 100, 101}\n",
      "['e' 'd' 'r' ... 'c' 'g' 'i']\n",
      "{97, 98, 99, 100, 101}\n",
      "['e' 'd' 'r' ... 'c' 'g' 'i']\n",
      "{97, 98, 99, 100, 101}\n",
      "['e' 'd' 'r' ... 'c' 'g' 'i']\n",
      "{97, 98, 99, 100, 101}\n",
      "['e' 'd' 'r' ... 'c' 'g' 'i']\n",
      "{97, 98, 99, 100, 101}\n",
      "['e' 'd' 'r' ... 'c' 'g' 'i']\n",
      "{97, 98, 99, 100, 101}\n",
      "['e' 'd' 'r' ... 'c' 'g' 'i']\n",
      "{97, 98, 99, 100, 101}\n",
      "['e' 'd' 'r' ... 'c' 'g' 'i']\n",
      "{97, 98, 99, 100, 101}\n",
      "['e' 'd' 'r' ... 'c' 'g' 'i']\n",
      "{97, 98, 99, 100, 101}\n",
      "['e' 'd' 'r' ... 'c' 'g' 'i']\n",
      "{97, 98, 99, 100, 101}\n",
      "['e' 'd' 'r' ... 'c' 'g' 'i']\n",
      "{97, 98, 99, 100, 101}\n",
      "['e' 'd' 'r' ... 'c' 'g' 'i']\n",
      "{97, 98, 99, 100, 101}\n",
      "['e' 'd' 'r' ... 'c' 'g' 'i']\n",
      "{97, 98, 99, 100, 101}\n",
      "['e' 'd' 'r' ... 'c' 'g' 'i']\n",
      "{97, 98, 99, 100, 101}\n",
      "['e' 'd' 'r' ... 'c' 'g' 'i']\n",
      "{97, 98, 99, 100, 101}\n",
      "['e' 'd' 'r' ... 'c' 'g' 'i']\n",
      "{97, 98, 99, 100, 101}\n",
      "['e' 'd' 'r' ... 'c' 'g' 'i']\n",
      "{97, 98, 99, 100, 101}\n",
      "['e' 'd' 'r' ... 'c' 'g' 'i']\n",
      "{97, 98, 99, 100, 101}\n",
      "['e' 'd' 'r' ... 'c' 'g' 'i']\n",
      "{97, 98, 99, 100, 101}\n",
      "['e' 'd' 'r' ... 'c' 'g' 'i']\n",
      "{97, 98, 99, 100, 101}\n",
      "['e' 'd' 'r' ... 'c' 'g' 'i']\n",
      "{97, 98, 99, 100, 101}\n",
      "['e' 'd' 'r' ... 'c' 'g' 'i']\n",
      "{97, 98, 99, 100, 101}\n",
      "['e' 'd' 'r' ... 'c' 'g' 'i']\n",
      "{97, 98, 99, 100, 101}\n",
      "['e' 'd' 'r' ... 'c' 'g' 'i']\n",
      "{97, 98, 99, 100, 101}\n",
      "['e' 'd' 'r' ... 'c' 'g' 'i']\n",
      "{97, 98, 99, 100, 101}\n",
      "['e' 'd' 'r' ... 'c' 'g' 'i']\n",
      "{97, 98, 99, 100, 101}\n",
      "['e' 'd' 'r' ... 'c' 'g' 'i']\n",
      "{97, 98, 99, 100, 101}\n",
      "['e' 'd' 'r' ... 'c' 'g' 'i']\n",
      "{97, 98, 99, 100, 101}\n",
      "['e' 'd' 'r' ... 'c' 'g' 'i']\n",
      "{97, 98, 99, 100, 101}\n",
      "['e' 'd' 'r' ... 'c' 'g' 'i']\n",
      "{97, 98, 99, 100, 101}\n",
      "['e' 'd' 'r' ... 'c' 'g' 'i']\n",
      "{97, 98, 99, 100, 101}\n",
      "['e' 'd' 'r' ... 'c' 'g' 'i']\n",
      "{97, 98, 99, 100, 101}\n",
      "['e' 'd' 'r' ... 'c' 'g' 'i']\n",
      "{97, 98, 99, 100, 101}\n",
      "['e' 'd' 'r' ... 'c' 'g' 'i']\n",
      "{97, 98, 99, 100, 101}\n",
      "['e' 'd' 'r' ... 'c' 'g' 'i']\n",
      "{97, 98, 99, 100, 101}\n",
      "['e' 'd' 'r' ... 'c' 'g' 'i']\n",
      "{97, 98, 99, 100, 101}\n",
      "['e' 'd' 'r' ... 'c' 'g' 'i']\n",
      "{97, 98, 99, 100, 101}\n",
      "['e' 'd' 'r' ... 'c' 'g' 'i']\n",
      "{97, 98, 99, 100, 101}\n",
      "['e' 'd' 'r' ... 'c' 'g' 'i']\n",
      "{97, 98, 99, 100, 101}\n",
      "['e' 'd' 'r' ... 'c' 'g' 'i']\n",
      "{97, 98, 99, 100, 101}\n",
      "['e' 'd' 'r' ... 'c' 'g' 'i']\n",
      "{97, 98, 99, 100, 101}\n",
      "['e' 'd' 'r' ... 'c' 'g' 'i']\n",
      "{97, 98, 99, 100, 101}\n",
      "['e' 'd' 'r' ... 'c' 'g' 'i']\n",
      "{97, 98, 99, 100, 101}\n",
      "['e' 'd' 'r' ... 'c' 'g' 'i']\n",
      "{97, 98, 99, 100, 101}\n",
      "['e' 'd' 'r' ... 'c' 'g' 'i']\n",
      "{97, 98, 99, 100, 101}\n",
      "['e' 'd' 'r' ... 'c' 'g' 'i']\n",
      "{97, 98, 99, 100, 101}\n",
      "['e' 'd' 'r' ... 'c' 'g' 'i']\n",
      "{97, 98, 99, 100, 101}\n",
      "['e' 'd' 'r' ... 'c' 'g' 'i']\n",
      "{97, 98, 99, 100, 101}\n",
      "['e' 'd' 'r' ... 'c' 'g' 'i']\n",
      "{97, 98, 99, 100, 101}\n",
      "['e' 'd' 'r' ... 'c' 'g' 'i']\n",
      "{97, 98, 99, 100, 101}\n",
      "['e' 'd' 'r' ... 'c' 'g' 'i']\n",
      "{97, 98, 99, 100, 101}\n",
      "['e' 'd' 'r' ... 'c' 'g' 'i']\n",
      "{97, 98, 99, 100, 101}\n",
      "['e' 'd' 'r' ... 'c' 'g' 'i']\n",
      "{97, 98, 99, 100, 101}\n",
      "['e' 'd' 'r' ... 'c' 'g' 'i']\n",
      "{97, 98, 99, 100, 101}\n",
      "['e' 'd' 'r' ... 'c' 'g' 'i']\n",
      "{97, 98, 99, 100, 101}\n",
      "['e' 'd' 'r' ... 'c' 'g' 'i']\n",
      "{97, 98, 99, 100, 101}\n",
      "['e' 'd' 'r' ... 'c' 'g' 'i']\n",
      "{97, 98, 99, 100, 101}\n",
      "['e' 'd' 'r' ... 'c' 'g' 'i']\n",
      "{97, 98, 99, 100, 101}\n",
      "['e' 'd' 'r' ... 'c' 'g' 'i']\n",
      "{97, 98, 99, 100, 101}\n",
      "['e' 'd' 'r' ... 'c' 'g' 'i']\n",
      "{97, 98, 99, 100, 101}\n",
      "['e' 'd' 'r' ... 'c' 'g' 'i']\n",
      "{97, 98, 99, 100, 101}\n",
      "['e' 'd' 'r' ... 'c' 'g' 'i']\n",
      "{97, 98, 99, 100, 101}\n",
      "['e' 'd' 'r' ... 'c' 'g' 'i']\n",
      "{97, 98, 99, 100, 101}\n",
      "['e' 'd' 'r' ... 'c' 'g' 'i']\n",
      "{97, 98, 99, 100, 101}\n",
      "['e' 'd' 'r' ... 'c' 'g' 'i']\n",
      "{97, 98, 99, 100, 101}\n",
      "['e' 'd' 'r' ... 'c' 'g' 'i']\n",
      "{97, 98, 99, 100, 101}\n",
      "['e' 'd' 'r' ... 'c' 'g' 'i']\n",
      "{97, 98, 99, 100, 101}\n",
      "['e' 'd' 'r' ... 'c' 'g' 'i']\n",
      "{97, 98, 99, 100, 101}\n",
      "['e' 'd' 'r' ... 'c' 'g' 'i']\n",
      "{97, 98, 99, 100, 101}\n",
      "['e' 'd' 'r' ... 'c' 'g' 'i']\n",
      "{97, 98, 99, 100, 101}\n",
      "['e' 'd' 'r' ... 'c' 'g' 'i']\n",
      "{97, 98, 99, 100, 101}\n",
      "['e' 'd' 'r' ... 'c' 'g' 'i']\n",
      "{97, 98, 99, 100, 101}\n",
      "['e' 'd' 'r' ... 'c' 'g' 'i']\n",
      "{97, 98, 99, 100, 101}\n",
      "['e' 'd' 'r' ... 'c' 'g' 'i']\n",
      "{97, 98, 99, 100, 101}\n",
      "['e' 'd' 'r' ... 'c' 'g' 'i']\n",
      "{97, 98, 99, 100, 101}\n",
      "['e' 'd' 'r' ... 'c' 'g' 'i']\n",
      "{97, 98, 99, 100, 101}\n",
      "['e' 'd' 'r' ... 'c' 'g' 'i']\n",
      "{97, 98, 99, 100, 101}\n",
      "['e' 'd' 'r' ... 'c' 'g' 'i']\n",
      "65 ms ± 11.7 ms per loop (mean ± std. dev. of 7 runs, 10 loops each)\n"
     ]
    }
   ],
   "source": [
    "%timeit solution_2(df)"
   ],
   "metadata": {
    "collapsed": false,
    "pycharm": {
     "name": "#%%\n"
    }
   }
  },
  {
   "cell_type": "markdown",
   "metadata": {},
   "source": [
    "## Лабораторная работа 3"
   ]
  },
  {
   "cell_type": "code",
   "execution_count": 35,
   "metadata": {},
   "outputs": [],
   "source": [
    "# !pip install line_profiler"
   ]
  },
  {
   "cell_type": "markdown",
   "metadata": {},
   "source": [
    "1. В файлах `recipes_sample.csv` и `reviews_sample.csv` (__ЛР 2__) находится информация об рецептах блюд и отзывах на эти рецепты соответственно. Загрузите данные из файлов в виде `pd.DataFrame` с названиями `recipes` и `reviews`. Обратите внимание на корректное считывание столбца(ов) с индексами. Приведите столбцы к нужным типам.\n",
    "\n",
    "Реализуйте несколько вариантов функции подсчета среднего значения столбца `rating` из таблицы `reviews` для отзывов, оставленных в 2010 году.\n",
    "\n",
    "A. С использованием метода `DataFrame.iterrows` и без использования срезов таблицы\n",
    "\n",
    "Б. С использованием метода `DataFrame.iterrows` и с использованием срезов таблицы\n",
    "\n",
    "В. С использованием метода `DataFrame.mean`\n",
    "\n",
    "Проверьте, что результаты работы всех написанных функций корректны и совпадают. Измерьте выполнения всех вариантов."
   ]
  },
  {
   "cell_type": "markdown",
   "metadata": {},
   "source": [
    "2. Какая из созданных функций выполняется медленнее? Что наиболее сильно влияет на скорость выполнения? Для ответа использовать профайлер `line_profiler`. Сохраните результаты работы профайлера в отдельную текстовую ячейку и прокомментируйте результаты его работы.\n",
    "\n",
    "(*). Сможете ли вы ускорить работу функции 1Б, отказавшись от использования метода `iterrows`, но не используя метод `mean`?"
   ]
  },
  {
   "cell_type": "markdown",
   "metadata": {},
   "source": [
    "3. Вам предлагается воспользоваться функцией, которая собирает информацию, сколько отзывов содержат то или иное слово. Измерьте время выполнения этой функции. Сможете ли вы найти узкие места в коде, используя профайлер? Выпишите (словами), что в имеющемся коде реализовано неоптимально. Оптимизируйте функцию и добейтесь значительного прироста в скорости выполнения."
   ]
  },
  {
   "cell_type": "code",
   "execution_count": 36,
   "metadata": {},
   "outputs": [],
   "source": [
    "def get_word_reviews_count(df):\n",
    "    word_reviews = {}\n",
    "    for _, row in df.dropna(subset=['review']).iterrows():\n",
    "        recipe_id, review = row['recipe_id'], row['review']\n",
    "        words = review.split(' ')\n",
    "        for word in words:\n",
    "            if word not in word_reviews:\n",
    "                word_reviews[word] = []\n",
    "            word_reviews[word].append(recipe_id)\n",
    "    \n",
    "    word_reviews_count = {}\n",
    "    for _, row in df.dropna(subset=['review']).iterrows():\n",
    "        review = row['review']\n",
    "        words = review.split(' ')\n",
    "        for word in words:\n",
    "            word_reviews_count[word] = len(word_reviews[word])\n",
    "    return word_reviews_count"
   ]
  },
  {
   "cell_type": "markdown",
   "metadata": {},
   "source": [
    "4. Напишите несколько версий функции `MAPE` (см. [MAPE](https://en.wikipedia.org/wiki/Mean_absolute_percentage_error)) для расчета среднего процентного отклонения значения рейтинга для отзыва от среднего значения рейтинга для этого отзыва. \n",
    "    1. Без использования массивов `numpy` и `numba`\n",
    "    2. Без использования массивов `numpy`, но с использованием `numba`\n",
    "    3. С использованием массивов `numpy`, но без использования `numba`\n",
    "    4. C использованием массивов `numpy` и `numba`\n",
    "    \n",
    "Измерьте время выполнения каждой из реализаций.\n",
    "\n",
    "Замечание: удалите из выборки отзывы с нулевым рейтингом.\n"
   ]
  }
 ],
 "metadata": {
  "kernelspec": {
   "display_name": "PyCharm (01_numpy_intro)",
   "language": "python",
   "name": "pycharm-a7f0f498"
  },
  "language_info": {
   "codemirror_mode": {
    "name": "ipython",
    "version": 3
   },
   "file_extension": ".py",
   "mimetype": "text/x-python",
   "name": "python",
   "nbconvert_exporter": "python",
   "pygments_lexer": "ipython3",
   "version": "3.9.7"
  }
 },
 "nbformat": 4,
 "nbformat_minor": 4
}