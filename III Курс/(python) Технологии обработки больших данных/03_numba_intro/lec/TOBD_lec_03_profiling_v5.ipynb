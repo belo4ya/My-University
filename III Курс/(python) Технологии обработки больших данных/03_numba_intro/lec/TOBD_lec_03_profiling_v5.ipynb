{
 "cells": [
  {
   "cell_type": "markdown",
   "metadata": {},
   "source": [
    "# Лекция 3: Оптимизация выполнения кода, векторизация, Numba"
   ]
  },
  {
   "cell_type": "markdown",
   "metadata": {},
   "source": [
    "__Автор: Сергей Вячеславович Макрушин__ e-mail: SVMakrushin@fa.ru \n",
    "\n",
    "Финансовый универсиет, 2020 г. \n",
    "\n",
    "При подготовке лекции использованы материалы:\n",
    "* Документация к рассмотренным пакетам\n",
    "\n",
    "V 0.3 17.09.2020"
   ]
  },
  {
   "cell_type": "markdown",
   "metadata": {},
   "source": [
    "## Разделы: <a class=\"anchor\" id=\"разделы\"></a>\n",
    "* [Профилирование](#профилирование)\n",
    "* [Numba](#numba)\n",
    "* [Векторизация](#векторизация)\n",
    "\n",
    "-\n",
    "\n",
    "* [к оглавлению](#разделы)"
   ]
  },
  {
   "cell_type": "code",
   "execution_count": 43,
   "metadata": {},
   "outputs": [
    {
     "data": {
      "text/html": [
       "﻿<style>\r\n",
       "\r\n",
       "\r\n",
       "b.n {\r\n",
       "    font-weight: normal;        \r\n",
       "}\r\n",
       "\r\n",
       "b.grbg {\r\n",
       "    background-color: #a0a0a0;      \r\n",
       "}\r\n",
       "\r\n",
       "b.r {\r\n",
       "    color: #ff0000;    \r\n",
       "}\r\n",
       "\r\n",
       "\r\n",
       "b.b {    \r\n",
       "    color: #0000ff;    \r\n",
       "}\r\n",
       "\r\n",
       "b.g {\r\n",
       "    color: #00ff00;    \r\n",
       "}\r\n",
       "\r\n",
       "\r\n",
       "// add your CSS styling here\r\n",
       "\r\n",
       "list-style: none;\r\n",
       "\r\n",
       "ul.s {\r\n",
       "//    list-style-type: none;\r\n",
       "    list-style: none;\r\n",
       "//    background-color: #ff0000;  \r\n",
       "//    color: #ffff00;\r\n",
       "//  padding-left: 1.2em;\r\n",
       "//  text-indent: -1.2em;\r\n",
       "}\r\n",
       "\r\n",
       "li.t {\r\n",
       "    list-style: none;\r\n",
       "//  padding-left: 1.2em;\r\n",
       "//  text-indent: -1.2em;    \r\n",
       "}\r\n",
       "\r\n",
       "\r\n",
       "*.r {\r\n",
       "    color: #ff0000;    \r\n",
       "}\r\n",
       "\r\n",
       "li.t:before {\r\n",
       "    content: \"\\21D2\";    \r\n",
       "//    content: \"►\";\r\n",
       "//    padding-left: -1.2em;    \r\n",
       "    text-indent: -1.2em;    \r\n",
       "    display: block;\r\n",
       "    float: left;\r\n",
       "    \r\n",
       "    \r\n",
       "//    width: 1.2em;\r\n",
       "//    color: #ff0000;\r\n",
       "}\r\n",
       "\r\n",
       "i.m:before {\r\n",
       "    font-style: normal;    \r\n",
       "    content: \"\\21D2\";  \r\n",
       "}\r\n",
       "i.m {\r\n",
       "    font-style: normal; \r\n",
       "}    \r\n",
       "\r\n",
       "/*--------------------*/\r\n",
       "/* em {\r\n",
       "    font-style: normal; \r\n",
       "} */\r\n",
       "\r\n",
       "\r\n",
       "em.bl {\r\n",
       "    font-style: normal;     \r\n",
       "    font-weight: bold;        \r\n",
       "}\r\n",
       "\r\n",
       "/* em.grbg {\r\n",
       "    font-style: normal;         \r\n",
       "    background-color: #a0a0a0;      \r\n",
       "} */\r\n",
       "\r\n",
       "em.cr {\r\n",
       "    font-style: normal;         \r\n",
       "    color: #ff0000;    \r\n",
       "}\r\n",
       "\r\n",
       "em.cb {    \r\n",
       "    font-style: normal;         \r\n",
       "    color: #0000ff;    \r\n",
       "}\r\n",
       "\r\n",
       "em.cg {\r\n",
       "    font-style: normal;         \r\n",
       "    color: #00ff00;    \r\n",
       "}\r\n",
       "\r\n",
       "/*--------------------*/\r\n",
       "\r\n",
       "em.qs {\r\n",
       "    font-style: normal; \r\n",
       "}\r\n",
       "\r\n",
       "em.qs::before {\r\n",
       "    font-weight: bold;    \r\n",
       "    color: #ff0000;    \r\n",
       "    content: \"Q:\";  \r\n",
       "}\r\n",
       "\r\n",
       "em.an {\r\n",
       "    font-style: normal; \r\n",
       "}\r\n",
       "\r\n",
       "em.an:before {\r\n",
       "    font-weight: bold;    \r\n",
       "    color: #0000ff;    \r\n",
       "    content: \"A:\";  \r\n",
       "}\r\n",
       "    \r\n",
       "em.nt {\r\n",
       "    font-style: normal; \r\n",
       "}\r\n",
       "\r\n",
       "em.nt:before {\r\n",
       "    font-weight: bold;    \r\n",
       "    color: #0000ff;    \r\n",
       "    content: \"Note:\";  \r\n",
       "}    \r\n",
       "    \r\n",
       "em.ex {\r\n",
       "    font-style: normal; \r\n",
       "}\r\n",
       "\r\n",
       "em.ex:before {\r\n",
       "    font-weight: bold;    \r\n",
       "    color: #00ff00;    \r\n",
       "    content: \"Ex:\";  \r\n",
       "} \r\n",
       "    \r\n",
       "em.df {\r\n",
       "    font-style: normal; \r\n",
       "}\r\n",
       "\r\n",
       "em.df:before {\r\n",
       "    font-weight: bold;    \r\n",
       "    color: #0000ff;    \r\n",
       "    content: \"Def:\";  \r\n",
       "}    \r\n",
       "\r\n",
       "em.pl {\r\n",
       "    font-style: normal; \r\n",
       "}\r\n",
       "\r\n",
       "em.pl:before {\r\n",
       "    font-weight: bold;    \r\n",
       "    color: #0000ff;    \r\n",
       "    content: \"+\";  \r\n",
       "}    \r\n",
       "\r\n",
       "em.mn {\r\n",
       "    font-style: normal; \r\n",
       "}\r\n",
       "\r\n",
       "em.mn:before {\r\n",
       "    font-weight: bold;    \r\n",
       "    color: #0000ff;    \r\n",
       "    content: \"-\";  \r\n",
       "}        \r\n",
       "\r\n",
       "em.plmn {\r\n",
       "    font-style: normal; \r\n",
       "}\r\n",
       "\r\n",
       "em.plmn:before {\r\n",
       "    font-weight: bold;    \r\n",
       "    color: #0000ff;    \r\n",
       "    content: \"\\00B1\";\\\\\"&plusmn;\";  \r\n",
       "}\r\n",
       "    \r\n",
       "em.hn {\r\n",
       "    font-style: normal; \r\n",
       "}\r\n",
       "\r\n",
       "em.hn:before {\r\n",
       "    font-weight: bold;    \r\n",
       "    color: #0000ff;    \r\n",
       "    content: \"\\21D2\";\\\\\"&rArr;\";  \r\n",
       "}     \r\n",
       "    \r\n",
       "</style>"
      ],
      "text/plain": [
       "<IPython.core.display.HTML object>"
      ]
     },
     "execution_count": 43,
     "metadata": {},
     "output_type": "execute_result"
    }
   ],
   "source": [
    "# загружаем стиль для оформления презентации\n",
    "from IPython.display import HTML\n",
    "from urllib.request import urlopen\n",
    "html = urlopen(\"file:./lec_v1.css\")\n",
    "HTML(html.read().decode('utf-8'))"
   ]
  },
  {
   "cell_type": "markdown",
   "metadata": {},
   "source": [
    "В процессе разработки кода и создания конвейеров обработки данных всегда присутствуют компромиссы между различными реализациями. В начале создания алгоритма забота о подобных вещах может оказаться контрпродуктивной. Согласно знаменитому афоризму Дональда Кнута: _«Лучше не держать в голове подобные “малые” вопросы производительности, скажем, 97 % времени: преждевременная \n",
    "оптимизация — корень всех зол»_.\n",
    "\n",
    "Однако, как только ваш код начинает работать, часто бывает полезно заняться его производительностью. Иногда бывает удобно проверить время выполнения заданной команды или набора команд, а иногда — покопаться в состоящем из множества строк процессе и выяснить, где находится узкое место какого-либо сложного набора операций. "
   ]
  },
  {
   "cell_type": "markdown",
   "metadata": {},
   "source": [
    "# Профилирование <a class=\"anchor\" id=\"профилирование\"></a>\n",
    "* [к оглавлению](#разделы)\n",
    "\n",
    "<em class=\"df\"></em> __Профилирование__ — сбор характеристик работы программы, таких как: \n",
    "* время выполнения отдельных фрагментов (например, функций)\n",
    "* число верно предсказанных условных переходов\n",
    "* число кэш-промахов\n",
    "* объем используемой оперативной памяти \n",
    "* и т. д. \n",
    "\n",
    "Инструмент, используемый для анализа работы, называют __профайлером__ (profiler). Обычно профилирование выполняется в процессе оптимизации программы."
   ]
  },
  {
   "cell_type": "markdown",
   "metadata": {},
   "source": [
    "Магические функции IPython для профилирования:\n",
    "\n",
    "* `%time` - длительность выполнения отдельного оператора;\n",
    "* `%timeit` - длительность выполнения отдельного оператора при неоднократном повторе (может использоваться для обсепечения большей точности оценки);\n",
    "* `%prun` - выполнение кода с использованием профилировщика;\n",
    "* `%lprun` - пошаговое выполнение кода с применением профилировщика;\n",
    "* `%memit` - оценка использования оперативной памяти для отдельного оператора;\n",
    "* `%mprun` - пошаговое выполнение кода с применением профилировщика памяти.\n",
    "\n",
    "Для работы с одной строкой кода использутся строчные магические команды (например, `%time`), для работы с целой ячейкой их блочные аналоги (например, `%%time`)."
   ]
  },
  {
   "cell_type": "code",
   "execution_count": 44,
   "metadata": {},
   "outputs": [
    {
     "name": "stdout",
     "output_type": "stream",
     "text": [
      "Wall time: 0 ns\n"
     ]
    },
    {
     "data": {
      "text/plain": [
       "4950"
      ]
     },
     "execution_count": 44,
     "metadata": {},
     "output_type": "execute_result"
    }
   ],
   "source": [
    "%time sum(range(100))"
   ]
  },
  {
   "cell_type": "code",
   "execution_count": 45,
   "metadata": {
    "scrolled": false
   },
   "outputs": [
    {
     "name": "stdout",
     "output_type": "stream",
     "text": [
      "1.95 µs ± 1.71 ns per loop (mean ± std. dev. of 7 runs, 1000000 loops each)\n"
     ]
    }
   ],
   "source": [
    "%timeit sum(range(100))"
   ]
  },
  {
   "cell_type": "code",
   "execution_count": 46,
   "metadata": {},
   "outputs": [
    {
     "name": "stdout",
     "output_type": "stream",
     "text": [
      "651 ms ± 784 µs per loop (mean ± std. dev. of 7 runs, 1 loop each)\n"
     ]
    }
   ],
   "source": [
    "%%timeit \n",
    "\n",
    "total = 0\n",
    "for i in range(1000):\n",
    "    for j in range(1000):\n",
    "        total += i * (-1) ** j"
   ]
  },
  {
   "cell_type": "markdown",
   "metadata": {},
   "source": [
    "Команда `%timeit` выполняет оценку времени многократного выполнения фрагментов кода и автоматически подстраивает колчество повторов выполненеия под длительность работы функции.\n",
    "\n",
    "Дольные приставки Си при измерении времени:\n",
    "* 1 ms - 1 миллисекунда (мс): 1/1000 секунды\n",
    "* 1 µs - 1 микросекунда (мкс): 1/1000 000 секунды\n",
    "* 1 ns - 1 наносекунда (нс): 1/1000 000 000 секунды"
   ]
  },
  {
   "cell_type": "code",
   "execution_count": 49,
   "metadata": {},
   "outputs": [
    {
     "name": "stdout",
     "output_type": "stream",
     "text": [
      "Wall time: 785 ms\n"
     ]
    }
   ],
   "source": [
    "%%time\n",
    "\n",
    "total = 0\n",
    "for i in range(1000):\n",
    "    for j in range(1000):\n",
    "        total += i * (-1) ** j"
   ]
  },
  {
   "cell_type": "markdown",
   "metadata": {},
   "source": [
    "Команда `%time` выполняет однократный запуск кода. В отличие от `%timeit` `%time` не выполняет специальных действий, предотвращающих системные вызовы, поэтому _часто выполнение того же  кода с замером `%time` происходит несколько медленнее чем с `%timeit`_."
   ]
  },
  {
   "cell_type": "markdown",
   "metadata": {},
   "source": [
    "----"
   ]
  },
  {
   "cell_type": "markdown",
   "metadata": {},
   "source": [
    "Задача: за разумное время найти дубликаты в списке фильмов, содержащемся в файле `tmdb_5000_credits.csv` (размер: 4803 строки)."
   ]
  },
  {
   "cell_type": "code",
   "execution_count": 50,
   "metadata": {},
   "outputs": [],
   "source": [
    "import csv\n",
    "\n",
    "def read_movies(src, skip_header=True, title_column_ind=1):    \n",
    "    '''\n",
    "    Parameters:\n",
    "        src (String): имя файла с фильмами\n",
    "        skip_header (bool, optional): Пропускать ли заголовок?\n",
    "        title_column_ind (int, optional): Столбец с названиями фильмов\n",
    "    Returns:\n",
    "        list: Список названий фильмов из файла (столбец title_column_ind в CSV)\n",
    "    '''\n",
    "    with open(src) as fd:\n",
    "        csv_reader = csv.reader(fd, delimiter=',')\n",
    "        movies = [row[title_column_ind] for row in csv_reader]\n",
    "        if skip_header:\n",
    "            movies = movies[1:]\n",
    "        return movies\n",
    "\n",
    "# with open('employee_birthday.txt') as csv_file:\n",
    "#     csv_reader = csv.reader(csv_file, delimiter=',')\n",
    "#     line_count = 0\n",
    "#     for row in csv_reader:\n",
    "#         if line_count == 0:\n",
    "#             print(f'Column names are {\", \".join(row)}')\n",
    "#             line_count += 1\n",
    "#         else:\n",
    "#             print(f'\\t{row[0]} works in the {row[1]} department, and was born in {row[2]}.')\n",
    "#             line_count += 1\n",
    "#     print(f'Processed {line_count} lines.')"
   ]
  },
  {
   "cell_type": "code",
   "execution_count": 51,
   "metadata": {},
   "outputs": [
    {
     "data": {
      "text/plain": [
       "(['Avatar',\n",
       "  \"Pirates of the Caribbean: At World's End\",\n",
       "  'Spectre',\n",
       "  'The Dark Knight Rises',\n",
       "  'John Carter'],\n",
       " list,\n",
       " 4803)"
      ]
     },
     "execution_count": 51,
     "metadata": {},
     "output_type": "execute_result"
    }
   ],
   "source": [
    "movies = read_movies('tmdb_5000_credits.csv')\n",
    "movies[:5], type(movies), len(movies)"
   ]
  },
  {
   "cell_type": "code",
   "execution_count": 3,
   "metadata": {},
   "outputs": [],
   "source": [
    "# 1я попытка:\n",
    "\n",
    "def is_duplicate(needle, haystack):\n",
    "    for movie in haystack:\n",
    "        if needle.lower() == movie.lower():\n",
    "            return True\n",
    "    return False\n",
    "\n",
    "def find_duplicate_movies(src='tmdb_5000_credits.csv'):\n",
    "    movies = read_movies(src)\n",
    "    duplicates = []\n",
    "    while movies:\n",
    "        movie = movies.pop()\n",
    "        if is_duplicate(movie, movies):\n",
    "            duplicates.append(movie)\n",
    "    return duplicates"
   ]
  },
  {
   "cell_type": "code",
   "execution_count": 4,
   "metadata": {},
   "outputs": [
    {
     "name": "stdout",
     "output_type": "stream",
     "text": [
      "['Batman', 'Out of the Blue', 'The Host']\n",
      "Wall time: 3.74 s\n"
     ]
    }
   ],
   "source": [
    "%%time\n",
    "\n",
    "duplicates = find_duplicate_movies()\n",
    "print(duplicates)"
   ]
  },
  {
   "cell_type": "code",
   "execution_count": 5,
   "metadata": {},
   "outputs": [
    {
     "name": "stdout",
     "output_type": "stream",
     "text": [
      " "
     ]
    }
   ],
   "source": [
    "%%prun\n",
    "# ищем \"бутылочное горлышко\":\n",
    "\n",
    "duplicates = find_duplicate_movies()"
   ]
  },
  {
   "cell_type": "markdown",
   "metadata": {},
   "source": [
    "Магическая функция %prun выдает результаты в формате, принятом у модулей профайлеров profile и cProfile (см. https://docs.python.org/3/library/profile.html ).\n",
    "\n",
    "Столбцы содержат следующую информацию:\n",
    "* __ncalls__ - количество вызовов функций (если дано 2 значения, например `3/1`, то это означает, что функция вызывалась рекурсивно (первое число - общее количество вызовов, второе - количество primitive call (вызовов которые не были порождены рекурсией))\n",
    "* __tottime__ - общее количество времени, провдеенное в данной функции ( _ИСКЛЮЧАЯ время проведенное в вызовах подфункций_ )\n",
    "* __percall__ - tottime / ncalls\n",
    "* __cumtime__ - общее количество времени, провдеенное в данной функции ( _ВКЛЮЧАЯ время проведенное в вызовах подфункций_ ), это значение корректно расчитывается и для рекурсивных вызовов функций\n",
    "* __percall__ - cumtime / primitive calls \n",
    "* __filename:lineno(function)__ - расположение функции"
   ]
  },
  {
   "cell_type": "code",
   "execution_count": 6,
   "metadata": {},
   "outputs": [],
   "source": [
    "# дополнительная информация по %prun :\n",
    "%prun?"
   ]
  },
  {
   "cell_type": "code",
   "execution_count": 6,
   "metadata": {},
   "outputs": [],
   "source": [
    "# исправляем очевидное \"слабое место\" - огромное количество вызовов lower()\n",
    "\n",
    "def is_duplicate2(needle, haystack):\n",
    "    for movie in haystack:\n",
    "        if needle == movie:\n",
    "            return True\n",
    "    return False\n",
    "\n",
    "def find_duplicate_movies2(src='tmdb_5000_credits.csv'):\n",
    "    movies = [movie.lower() for movie in read_movies(src)]\n",
    "    duplicates = []\n",
    "    while movies:\n",
    "        movie = movies.pop()\n",
    "        if is_duplicate2(movie, movies):\n",
    "            duplicates.append(movie)\n",
    "    return duplicates"
   ]
  },
  {
   "cell_type": "code",
   "execution_count": 7,
   "metadata": {},
   "outputs": [
    {
     "name": "stdout",
     "output_type": "stream",
     "text": [
      "['batman', 'out of the blue', 'the host']\n",
      "Wall time: 1.31 s\n"
     ]
    }
   ],
   "source": [
    "%%time\n",
    "\n",
    "duplicates = find_duplicate_movies2()\n",
    "print(duplicates)"
   ]
  },
  {
   "cell_type": "markdown",
   "metadata": {},
   "source": [
    "Иногда больше пользы может принести построчный отчет профилировщика. Такая функциональность не встроена в язык Python или оболочку IPython, но можно установить пакет line_profiler, обладающий такой возможностью. \n",
    "\n",
    "Установка пакета line_profiler:\n",
    "\n",
    "* с помощью pip: `$ pip install line_profiler`\n",
    "* с помощью conda (в Anaconda Prompt): `$ conda install -c anaconda line_profiler`\n",
    "\n",
    "Документация: https://github.com/pyutils/line_profiler#id2\n",
    "\n",
    "Другой аспект профилирования — количество используемой операциями памяти. Это количество можно оценить с помощью еще одного расширения оболочки IPython — memory_profiler. \n",
    "\n",
    "Установки пакета memory_profiler:\n",
    "\n",
    "* с помощью pip: `$ pip install memory_profiler`\n",
    "* с помощью conda (в Anaconda Prompt): `conda install -c anaconda memory_profiler`\n",
    "\n",
    "Документация: "
   ]
  },
  {
   "cell_type": "code",
   "execution_count": 8,
   "metadata": {
    "scrolled": true
   },
   "outputs": [],
   "source": [
    "# загружаем функционал line_profiler в Jupyther:\n",
    "%load_ext line_profiler"
   ]
  },
  {
   "cell_type": "code",
   "execution_count": 9,
   "metadata": {},
   "outputs": [],
   "source": [
    "%reload_ext line_profiler"
   ]
  },
  {
   "cell_type": "code",
   "execution_count": 10,
   "metadata": {},
   "outputs": [],
   "source": [
    "# загружаем функционал memory_profiler в Jupyther:\n",
    "%load_ext memory_profiler"
   ]
  },
  {
   "cell_type": "code",
   "execution_count": 11,
   "metadata": {},
   "outputs": [],
   "source": [
    "%lprun?"
   ]
  },
  {
   "cell_type": "markdown",
   "metadata": {},
   "source": [
    "Сохраняем профилируемый код в файл .py :"
   ]
  },
  {
   "cell_type": "code",
   "execution_count": 12,
   "metadata": {},
   "outputs": [
    {
     "name": "stdout",
     "output_type": "stream",
     "text": [
      "Overwriting mprun_demo.py\n"
     ]
    }
   ],
   "source": [
    "%%writefile mprun_demo.py\n",
    "# v.3\n",
    "def sum_of_lists(N):\n",
    "    total = 0\n",
    "    for i in range(5):\n",
    "        L = [j ^ (j >> i) for j in range(N)]\n",
    "        total += sum(L)\n",
    "    return total"
   ]
  },
  {
   "cell_type": "code",
   "execution_count": 13,
   "metadata": {},
   "outputs": [],
   "source": [
    "# импортируем интересующую функцию из файла:\n",
    "from mprun_demo import sum_of_lists"
   ]
  },
  {
   "cell_type": "code",
   "execution_count": 14,
   "metadata": {},
   "outputs": [
    {
     "name": "stdout",
     "output_type": "stream",
     "text": [
      "peak memory: 55.30 MiB, increment: 1.02 MiB\n"
     ]
    }
   ],
   "source": [
    "%memit sum_of_lists(5000)"
   ]
  },
  {
   "cell_type": "code",
   "execution_count": 15,
   "metadata": {
    "scrolled": true
   },
   "outputs": [],
   "source": [
    "%lprun -f sum_of_lists sum_of_lists(5000)"
   ]
  },
  {
   "cell_type": "markdown",
   "metadata": {},
   "source": [
    "Необходимо указать ей явным образом, какие функции \n",
    "мы хотели быть профилировать, например так:\n",
    "\n",
    "`In[10]: %lprun –f sum_of_lists sum_of_lists(5000)`"
   ]
  },
  {
   "cell_type": "markdown",
   "metadata": {},
   "source": [
    "Записываем интересующий код в файл и импортируем из него:"
   ]
  },
  {
   "cell_type": "code",
   "execution_count": 16,
   "metadata": {},
   "outputs": [
    {
     "name": "stdout",
     "output_type": "stream",
     "text": [
      "Overwriting fdm_v2.py\n"
     ]
    }
   ],
   "source": [
    "%%writefile fdm_v2.py\n",
    "\n",
    "#v.1\n",
    "\n",
    "import csv\n",
    "\n",
    "def read_movies(src, skip_header=True, title_column_ind=1):    \n",
    "    '''\n",
    "    Parameters:\n",
    "        src (String): имя файла с фильмами\n",
    "        skip_header (bool, optional): Пропускать ли заголовок?\n",
    "        title_column_ind (int, optional): Столбец с названиями фильмов\n",
    "    Returns:\n",
    "        list: Список названий фильмов из файла (столбец title_column_ind в CSV)\n",
    "    '''\n",
    "    with open(src) as fd:\n",
    "        csv_reader = csv.reader(fd, delimiter=',')\n",
    "        movies = [row[title_column_ind] for row in csv_reader]\n",
    "        if skip_header:\n",
    "            movies = movies[1:]\n",
    "        return movies\n",
    "\n",
    "# исправляем очевидное \"слабое место\" - огромное количество вызовов lower()\n",
    "\n",
    "def is_duplicate2(needle, haystack):\n",
    "    for movie in haystack:\n",
    "        if needle == movie:\n",
    "            return True\n",
    "    return False\n",
    "\n",
    "def find_duplicate_movies2(src='tmdb_5000_credits.csv'):\n",
    "    movies = [movie.lower() for movie in read_movies(src)]\n",
    "    duplicates = []\n",
    "    while movies:\n",
    "        movie = movies.pop()\n",
    "        if is_duplicate2(movie, movies):\n",
    "            duplicates.append(movie)\n",
    "    return duplicates"
   ]
  },
  {
   "cell_type": "code",
   "execution_count": 17,
   "metadata": {},
   "outputs": [],
   "source": [
    "from fdm_v2 import find_duplicate_movies2"
   ]
  },
  {
   "cell_type": "code",
   "execution_count": 18,
   "metadata": {},
   "outputs": [],
   "source": [
    "%lprun -f find_duplicate_movies2 find_duplicate_movies2()"
   ]
  },
  {
   "cell_type": "markdown",
   "metadata": {},
   "source": [
    "Более 80% времени выполняется проверка is_duplicate2(). Переработаем алгоритм, для оптимзиации этой проверки:"
   ]
  },
  {
   "cell_type": "code",
   "execution_count": 19,
   "metadata": {},
   "outputs": [],
   "source": [
    "# исправляем очередное \"слабое место\": неоптимальную проверку дубликатов:\n",
    "\n",
    "def find_duplicate_movies3(src='tmdb_5000_credits.csv'):\n",
    "    duplicates = []\n",
    "    unique = set()\n",
    "    for movie in read_movies(src):\n",
    "        movie = movie.lower()\n",
    "        if movie in unique:\n",
    "            duplicates.append(movie)\n",
    "        else:\n",
    "            unique.add(movie)\n",
    "    return duplicates"
   ]
  },
  {
   "cell_type": "code",
   "execution_count": 20,
   "metadata": {},
   "outputs": [
    {
     "name": "stdout",
     "output_type": "stream",
     "text": [
      "['the host', 'out of the blue', 'batman']\n",
      "Wall time: 897 ms\n"
     ]
    }
   ],
   "source": [
    "%%time\n",
    "\n",
    "duplicates = find_duplicate_movies3()\n",
    "print(duplicates)"
   ]
  },
  {
   "cell_type": "code",
   "execution_count": 21,
   "metadata": {
    "scrolled": true
   },
   "outputs": [
    {
     "data": {
      "text/plain": [
       "['the host', 'out of the blue', 'batman']"
      ]
     },
     "execution_count": 21,
     "metadata": {},
     "output_type": "execute_result"
    }
   ],
   "source": [
    "# результат:\n",
    "duplicates"
   ]
  },
  {
   "cell_type": "markdown",
   "metadata": {},
   "source": [
    "Если планируется профилировать код модулей и скриптов на Python вне Jupyter то для профилирования может быть удобно  использовать следующую технику:\n",
    "* Добавить перед интересующими функциями декоратор `@profile`\n",
    "* Запуститить профилирование с помощью утилиты `kernprof`, пример прфилирования скрипта `primes.py`: `kernprof -l -v primes.py` \n",
    "* Подробнее см.:  https://dwinston.github.io/python-second-language/extras/profiling.html"
   ]
  },
  {
   "cell_type": "markdown",
   "metadata": {},
   "source": [
    "На основе сProfile (лежащего в основе prun) можно сделать декоратор:"
   ]
  },
  {
   "cell_type": "code",
   "execution_count": 22,
   "metadata": {},
   "outputs": [],
   "source": [
    "import cProfile, pstats, io\n",
    "\n",
    "\n",
    "def profile(fnc):\n",
    "    \n",
    "    \"\"\"A decorator that uses cProfile to profile a function\"\"\"\n",
    "    \n",
    "    def inner(*args, **kwargs):\n",
    "        \n",
    "        pr = cProfile.Profile()\n",
    "        pr.enable()\n",
    "        retval = fnc(*args, **kwargs)\n",
    "        pr.disable()\n",
    "        s = io.StringIO()\n",
    "        sortby = 'cumulative'\n",
    "        ps = pstats.Stats(pr, stream=s).sort_stats(sortby)\n",
    "        ps.print_stats()\n",
    "        print(s.getvalue())\n",
    "        return retval\n",
    "\n",
    "    return inner"
   ]
  },
  {
   "cell_type": "code",
   "execution_count": 23,
   "metadata": {},
   "outputs": [],
   "source": [
    "@profile\n",
    "def find_duplicate_movies4(src='tmdb_5000_credits.csv'):\n",
    "    duplicates = []\n",
    "    unique = set()\n",
    "    for movie in read_movies(src):\n",
    "        movie = movie.lower()\n",
    "        if movie in unique:\n",
    "            duplicates.append(movie)\n",
    "        else:\n",
    "            unique.add(movie)\n",
    "    return duplicates"
   ]
  },
  {
   "cell_type": "code",
   "execution_count": 24,
   "metadata": {},
   "outputs": [
    {
     "name": "stdout",
     "output_type": "stream",
     "text": [
      "         19395 function calls in 0.907 seconds\n",
      "\n",
      "   Ordered by: cumulative time\n",
      "\n",
      "   ncalls  tottime  percall  cumtime  percall filename:lineno(function)\n",
      "        1    0.002    0.002    0.907    0.907 <ipython-input-23-b88ed622b642>:1(find_duplicate_movies4)\n",
      "        1    0.000    0.000    0.904    0.904 <ipython-input-1-183cd92cc113>:3(read_movies)\n",
      "        1    0.803    0.803    0.903    0.903 <ipython-input-1-183cd92cc113>:14(<listcomp>)\n",
      "     4890    0.005    0.000    0.101    0.000 C:\\ProgramData\\Anaconda3\\envs\\pyTorch_1_6\\lib\\encodings\\cp1251.py:22(decode)\n",
      "     4890    0.096    0.000    0.096    0.000 {built-in method _codecs.charmap_decode}\n",
      "     4803    0.001    0.000    0.001    0.000 {method 'lower' of 'str' objects}\n",
      "     4800    0.000    0.000    0.000    0.000 {method 'add' of 'set' objects}\n",
      "        1    0.000    0.000    0.000    0.000 {built-in method io.open}\n",
      "        1    0.000    0.000    0.000    0.000 C:\\ProgramData\\Anaconda3\\envs\\pyTorch_1_6\\lib\\_bootlocale.py:11(getpreferredencoding)\n",
      "        1    0.000    0.000    0.000    0.000 {built-in method _locale._getdefaultlocale}\n",
      "        1    0.000    0.000    0.000    0.000 {built-in method _csv.reader}\n",
      "        1    0.000    0.000    0.000    0.000 C:\\ProgramData\\Anaconda3\\envs\\pyTorch_1_6\\lib\\codecs.py:260(__init__)\n",
      "        3    0.000    0.000    0.000    0.000 {method 'append' of 'list' objects}\n",
      "        1    0.000    0.000    0.000    0.000 {method 'disable' of '_lsprof.Profiler' objects}\n",
      "\n",
      "\n",
      "\n"
     ]
    },
    {
     "data": {
      "text/plain": [
       "['the host', 'out of the blue', 'batman']"
      ]
     },
     "execution_count": 24,
     "metadata": {},
     "output_type": "execute_result"
    }
   ],
   "source": [
    "find_duplicate_movies4()"
   ]
  },
  {
   "cell_type": "markdown",
   "metadata": {},
   "source": [
    "----"
   ]
  },
  {
   "cell_type": "markdown",
   "metadata": {},
   "source": [
    "# Numba <a class=\"anchor\" id=\"numba\"></a>\n",
    "* [к оглавлению](#разделы)"
   ]
  },
  {
   "cell_type": "markdown",
   "metadata": {},
   "source": [
    "__Numba__ - JIT компилятор с открытым исходным кодом, который компилирует подмножество кода Python и NumPy в быстрый машинный код.\n",
    "\n",
    "* Официальная страница проекта: https://numba.pydata.org/\n",
    "*  <em class=\"df\"></em> __JIT-компиляция__ (Just-in-time compilation, компиляция «на лету»), динамическая компиляция (dynamic translation) — технология увеличения производительности программных систем, использующих байт-код, путём компиляции байт-кода в машинный код или в другой формат непосредственно во время работы программы. \n",
    "\n",
    "Преимущества и накладные расходы: \n",
    "* достигается высокая скорость выполнения по сравнению с интерпретируемым байт-кодом (сравнимая с компилируемыми языками)\n",
    "* накладные расходы: увеличение потребления памяти (для хранения результатов компиляции) и дополнительные затраты времени на компиляцию на лету."
   ]
  },
  {
   "cell_type": "markdown",
   "metadata": {},
   "source": [
    "__Ускорение функций на Python__\n",
    "\n",
    "* Numba компилирует функции Python в оптимзированный машинный код с использованием библиотеки для компиляции промышленного уровня __LLVM__ (https://ru.wikipedia.org/wiki/LLVM). Численные алгоритмы откомпелированные с помощью Numba могут достигать скорости сопоставимой с исполнением откомпилированного кода на C или FORTRAN.\n",
    "\n",
    "* Numba обеспечивает удобство работы:\n",
    "    * нет необходимости уходить от использования обычного интерпретатора Python\n",
    "    * нет необходимости выполнять отдельную компиляцию кода\n",
    "    * нет необходимости в установке компилятора C/C++\n",
    "    * Дотстаточно использовать декораторы Numba для ваших функций, Numba выполнит все необходимы шаги автоматически.\n",
    "\n",
    "__Разработан для научных вычислений__\n",
    "\n",
    "* Numba спроектирована для работы с массивами и функциями NumPy. \n",
    "* Numba генерирует специализированный код для различных типов массивов и их размещения для оптимизации производительности.\n",
    "* Специализированные декораторы могут созвать ufunc которые могут использоваться для распространения по массивам NumPy, также как это делают ufunc NumPy.\n",
    "* Numba хорошо интегрирована с работой Jupyter notebooks для обеспечения интерактивных вычислений и с распеределнными вычислительными средами, такими как Dask и Spark.\n",
    "\n",
    "__Выполняет распараллеливание ваших алгоритмов__\n",
    "\n",
    "* Numba поддерживает Simplified Threading: может автоматически выполнять выражения для NumPy на нескольких ядрах CPU, что делает простым написание параллельных циклов.\n",
    "* Numba поддерживает SIMD Vectorization: Numba может автоматически транслировать некоторые циклы в векторные инструкции для CPU, что может обеспечивать 2-4 кратный прирост производительности. Numba адаптируется к имеющимся возможностям CPU, определяя и используя поддержку таки SIMD возможностей CPU как SSE, AVX или AVX-512.\n",
    "* Numba поддерживает ускорение вычислений на GPU: поддерживаются драйверы NVIDIA CUDA и AMD ROCm. Numba позволяет писать параллельные GPU алгоритмы полностью из Python.\n",
    "\n",
    "__Переносимые результаты компиляции__\n",
    "* Numba обеспечивает высокую производительность приложений на Python без сложностей бинарной компиляции и создания пакетов. Исходный код остается написан на чистом Python, а Numba обеспечивает его компиляцию на лету. Numba проходит тестирование на более чем 200 различных программно-апаратных конфигурациях.\n",
    "* Numba поддерживает:\n",
    "    * разные CPU: Intel and AMD x86, POWER8/9, ARM.\n",
    "    * разные GPU: NVIDIA и AMD.\n",
    "    * разные версии Python: Python 2.7, Python 3.4-3.7\n",
    "    * разные операционные системы: Windows, macOS, Linux\n",
    "* Бинарные поставки Numba доступны для большинства систем в виде паетов conda и wheel для инсталляции с помощью pip."
   ]
  },
  {
   "cell_type": "markdown",
   "metadata": {},
   "source": [
    "Документация и учебные материалы:\n",
    "\n",
    "http://numba.pydata.org/numba-doc/latest/index.html\n"
   ]
  },
  {
   "cell_type": "markdown",
   "metadata": {},
   "source": [
    "Основные возможности Numba:\n",
    "\n",
    "* генерация кода \"на лету\" (во время импорта или во время исполнения, по выбору пользователя)\n",
    "* генерация нативного кода для CPU (по умолчанию) или для GPU\n",
    "* интеграция со стеком технологий Python для научных вычислений (на основе NumPy)"
   ]
  },
  {
   "cell_type": "code",
   "execution_count": 25,
   "metadata": {},
   "outputs": [],
   "source": [
    "import numpy as np\n",
    "import numba\n",
    "from numba import jit, njit"
   ]
  },
  {
   "cell_type": "code",
   "execution_count": 26,
   "metadata": {},
   "outputs": [],
   "source": [
    "# наивная реализация суммы квадратов элементов матрицы:\n",
    "\n",
    "def sum_sq_2d(arr):\n",
    "    m, n = arr.shape\n",
    "    result = 0.0\n",
    "    for i in range(m):\n",
    "        for j in range(n):\n",
    "            result += arr[i,j] ** 2\n",
    "    return result"
   ]
  },
  {
   "cell_type": "code",
   "execution_count": 27,
   "metadata": {},
   "outputs": [
    {
     "data": {
      "text/plain": [
       "array([[42., 42., 42., 42., 42., 42., 42., 42., 42., 42.],\n",
       "       [42., 42., 42., 42., 42., 42., 42., 42., 42., 42.],\n",
       "       [42., 42., 42., 42., 42., 42., 42., 42., 42., 42.],\n",
       "       [42., 42., 42., 42., 42., 42., 42., 42., 42., 42.],\n",
       "       [42., 42., 42., 42., 42., 42., 42., 42., 42., 42.],\n",
       "       [42., 42., 42., 42., 42., 42., 42., 42., 42., 42.],\n",
       "       [42., 42., 42., 42., 42., 42., 42., 42., 42., 42.],\n",
       "       [42., 42., 42., 42., 42., 42., 42., 42., 42., 42.],\n",
       "       [42., 42., 42., 42., 42., 42., 42., 42., 42., 42.],\n",
       "       [42., 42., 42., 42., 42., 42., 42., 42., 42., 42.]])"
      ]
     },
     "execution_count": 27,
     "metadata": {},
     "output_type": "execute_result"
    }
   ],
   "source": [
    "np.full((10, 10), 42.0)"
   ]
  },
  {
   "cell_type": "code",
   "execution_count": 28,
   "metadata": {},
   "outputs": [
    {
     "data": {
      "text/plain": [
       "(array([[42., 42., 42.],\n",
       "        [42., 42., 42.],\n",
       "        [42., 42., 42.]]),\n",
       " (1000, 1000))"
      ]
     },
     "execution_count": 28,
     "metadata": {},
     "output_type": "execute_result"
    }
   ],
   "source": [
    "arr = np.full((1000, 1000), 42.0)\n",
    "arr[:3, :3], arr.shape"
   ]
  },
  {
   "cell_type": "markdown",
   "metadata": {},
   "source": [
    "Время работы наивной реализации:"
   ]
  },
  {
   "cell_type": "code",
   "execution_count": 29,
   "metadata": {
    "scrolled": true
   },
   "outputs": [
    {
     "name": "stdout",
     "output_type": "stream",
     "text": [
      "697 ms ± 1.26 ms per loop (mean ± std. dev. of 7 runs, 1 loop each)\n"
     ]
    }
   ],
   "source": [
    "%%timeit\n",
    "sum_sq_2d(arr)"
   ]
  },
  {
   "cell_type": "markdown",
   "metadata": {},
   "source": [
    "Время работы реализации с использованием NumPy:"
   ]
  },
  {
   "cell_type": "code",
   "execution_count": 30,
   "metadata": {},
   "outputs": [
    {
     "name": "stdout",
     "output_type": "stream",
     "text": [
      "3.89 ms ± 137 µs per loop (mean ± std. dev. of 7 runs, 100 loops each)\n"
     ]
    }
   ],
   "source": [
    "%%timeit\n",
    "np.sum(arr ** 2)"
   ]
  },
  {
   "cell_type": "markdown",
   "metadata": {},
   "source": [
    "Как работает Numba:\n",
    "1. Читает байткод Python для декорированной функции.\n",
    "2. Собирает информацию о типах входных аргументов функций.\n",
    "3. Анализирует и оптимизирует код.\n",
    "4. Использует библиотеку для компиляции LLVM для генерации машинного кода фонкции для конкретного CPU.\n",
    "5. Данный машинный код используется каждый раз при вызове данной функции (с аргументами тогоже типа).\n",
    "\n",
    "Когда Numba даст хороший прирост производительности:\n",
    "* Если код ориентирован на численные операции, в т.ч.:\n",
    "    * активно использует NumPy\n",
    "    * имеется много циклов (большое количество итераций)"
   ]
  },
  {
   "cell_type": "markdown",
   "metadata": {},
   "source": [
    "Как получить байткод Python:"
   ]
  },
  {
   "cell_type": "code",
   "execution_count": 31,
   "metadata": {},
   "outputs": [],
   "source": [
    "import dis"
   ]
  },
  {
   "cell_type": "code",
   "execution_count": 32,
   "metadata": {},
   "outputs": [
    {
     "name": "stdout",
     "output_type": "stream",
     "text": [
      "  4           0 LOAD_FAST                0 (arr)\n",
      "              2 LOAD_ATTR                0 (shape)\n",
      "              4 UNPACK_SEQUENCE          2\n",
      "              6 STORE_FAST               1 (m)\n",
      "              8 STORE_FAST               2 (n)\n",
      "\n",
      "  5          10 LOAD_CONST               1 (0.0)\n",
      "             12 STORE_FAST               3 (result)\n",
      "\n",
      "  6          14 SETUP_LOOP              54 (to 70)\n",
      "             16 LOAD_GLOBAL              1 (range)\n",
      "             18 LOAD_FAST                1 (m)\n",
      "             20 CALL_FUNCTION            1\n",
      "             22 GET_ITER\n",
      "        >>   24 FOR_ITER                42 (to 68)\n",
      "             26 STORE_FAST               4 (i)\n",
      "\n",
      "  7          28 SETUP_LOOP              36 (to 66)\n",
      "             30 LOAD_GLOBAL              1 (range)\n",
      "             32 LOAD_FAST                2 (n)\n",
      "             34 CALL_FUNCTION            1\n",
      "             36 GET_ITER\n",
      "        >>   38 FOR_ITER                24 (to 64)\n",
      "             40 STORE_FAST               5 (j)\n",
      "\n",
      "  8          42 LOAD_FAST                3 (result)\n",
      "             44 LOAD_FAST                0 (arr)\n",
      "             46 LOAD_FAST                4 (i)\n",
      "             48 LOAD_FAST                5 (j)\n",
      "             50 BUILD_TUPLE              2\n",
      "             52 BINARY_SUBSCR\n",
      "             54 LOAD_CONST               2 (2)\n",
      "             56 BINARY_POWER\n",
      "             58 INPLACE_ADD\n",
      "             60 STORE_FAST               3 (result)\n",
      "             62 JUMP_ABSOLUTE           38\n",
      "        >>   64 POP_BLOCK\n",
      "        >>   66 JUMP_ABSOLUTE           24\n",
      "        >>   68 POP_BLOCK\n",
      "\n",
      "  9     >>   70 LOAD_FAST                3 (result)\n",
      "             72 RETURN_VALUE\n"
     ]
    }
   ],
   "source": [
    "dis.dis(sum_sq_2d)"
   ]
  },
  {
   "cell_type": "markdown",
   "metadata": {},
   "source": [
    "* Реализация __CPython__ (_не путайте с Cython !_ ) интерпретирует не непосредственно исходный код, а компилирует его в байт код и исполняет (интерпретирует) его с помощью виртуальной машины (см: https://en.wikipedia.org/wiki/CPython , https://ru.wikipedia.org/wiki/CPython ).\n",
    "* Байткод Python хранится в автоматических создаваемых при компиляци файлах с расширением `pyc` в папках `__pycache__ ` находящихся в папках рядом с файлами с расширением `py` (кодом модулей и скриптов на Python).\n",
    "* Байткод создается при комплияции \"на лету\" кода на Python исполняемого в первый раз. \n",
    "* Среда Python автоматически отслеживает актуальность байткода в файлах с расширением `pyc` и при необходимости выполняет их обновление."
   ]
  },
  {
   "cell_type": "markdown",
   "metadata": {},
   "source": [
    "Numba является хорошим выбором если ваш код численно ориентирован (выполняет много математических вычислений), много использует NumPy и/или имеет много циклов. В этом примере мы применим самый фундаментальный из JIT-декораторов Numba, @jit, чтобы попытаться ускорить некоторые функции."
   ]
  },
  {
   "cell_type": "markdown",
   "metadata": {},
   "source": [
    "Пример использования декоратора `@jit`. \n",
    "\n",
    "Декоратор `@jit` имеет два режим работы:\n",
    "* режим `nopython`\n",
    "    * Устанавливается параметром `nopython=True` или использованием декоратора `@njit`\n",
    "    * Это рекомендуемый для использования и наиболее быстрый режим.\n",
    "    * Приводит к компиляции кода функции практически не используещего интерпретатор Python.\n",
    "* режим `object`"
   ]
  },
  {
   "cell_type": "code",
   "execution_count": 33,
   "metadata": {},
   "outputs": [],
   "source": [
    "# Пример использования декоратора @jit с параметром nopython=True\n",
    "\n",
    "@jit(nopython=True) # Set \"nopython\" mode for best performance, equivalent to @njit\n",
    "def go_fast(a): # Function is compiled to machine code when called the first time\n",
    "    trace = 0\n",
    "    for i in range(a.shape[0]):   # Numba likes loops\n",
    "        trace += np.tanh(a[i, i]) # Numba likes NumPy functions\n",
    "    return a + trace              # Numba likes NumPy broadcasting"
   ]
  },
  {
   "cell_type": "code",
   "execution_count": 34,
   "metadata": {},
   "outputs": [],
   "source": [
    "# наивная реализация суммы квадратов элементов матрицы:\n",
    "\n",
    "@njit\n",
    "def sum_sq_2d_jit(arr):\n",
    "    m, n = arr.shape\n",
    "    result = 0.0\n",
    "    for i in range(n):\n",
    "        for j in range(n):\n",
    "            result += arr[i,j] ** 2\n",
    "    return result"
   ]
  },
  {
   "cell_type": "code",
   "execution_count": 35,
   "metadata": {},
   "outputs": [
    {
     "name": "stdout",
     "output_type": "stream",
     "text": [
      "Wall time: 1.03 s\n"
     ]
    },
    {
     "data": {
      "text/plain": [
       "1764000000.0"
      ]
     },
     "execution_count": 35,
     "metadata": {},
     "output_type": "execute_result"
    }
   ],
   "source": [
    "%%time\n",
    "# во время первого запуска с данным типом параметров производистя компиляция функции:\n",
    "sum_sq_2d_jit(arr)"
   ]
  },
  {
   "cell_type": "markdown",
   "metadata": {},
   "source": [
    "Время работы откомпилированной реализации:"
   ]
  },
  {
   "cell_type": "code",
   "execution_count": 36,
   "metadata": {},
   "outputs": [
    {
     "name": "stdout",
     "output_type": "stream",
     "text": [
      "998 µs ± 3.03 µs per loop (mean ± std. dev. of 7 runs, 1000 loops each)\n"
     ]
    }
   ],
   "source": [
    "%%timeit\n",
    "sum_sq_2d_jit(arr)"
   ]
  },
  {
   "cell_type": "markdown",
   "metadata": {},
   "source": [
    "Возможно просмотреть код LLVM, который был сгенирирован при компиляции:"
   ]
  },
  {
   "cell_type": "code",
   "execution_count": 37,
   "metadata": {},
   "outputs": [
    {
     "name": "stdout",
     "output_type": "stream",
     "text": [
      "sum_sq_2d_jit (array(float64, 2d, C),)\n",
      "--------------------------------------------------------------------------------\n",
      "# File: <ipython-input-34-dc37b4251e51>\n",
      "# --- LINE 3 --- \n",
      "# label 0\n",
      "\n",
      "@njit\n",
      "\n",
      "# --- LINE 4 --- \n",
      "\n",
      "def sum_sq_2d_jit(arr):\n",
      "\n",
      "    # --- LINE 5 --- \n",
      "    #   arr = arg(0, name=arr)  :: array(float64, 2d, C)\n",
      "    #   $0.2 = getattr(value=arr, attr=shape)  :: tuple(int64 x 2)\n",
      "    #   $0.5 = exhaust_iter(value=$0.2, count=2)  :: tuple(int64 x 2)\n",
      "    #   del $0.2\n",
      "    #   $0.3 = static_getitem(value=$0.5, index=0, index_var=None)  :: int64\n",
      "    #   $0.4 = static_getitem(value=$0.5, index=1, index_var=None)  :: int64\n",
      "    #   del $0.5\n",
      "    #   m = $0.3  :: int64\n",
      "    #   del m\n",
      "    #   del $0.3\n",
      "    #   n = $0.4  :: int64\n",
      "    #   del $0.4\n",
      "\n",
      "    m, n = arr.shape\n",
      "\n",
      "    # --- LINE 6 --- \n",
      "    #   $const0.6 = const(float, 0.0)  :: float64\n",
      "    #   result = $const0.6  :: float64\n",
      "    #   del $const0.6\n",
      "    #   jump 14\n",
      "    # label 14\n",
      "\n",
      "    result = 0.0\n",
      "\n",
      "    # --- LINE 7 --- \n",
      "    #   jump 16\n",
      "    # label 16\n",
      "    #   $16.1 = global(range: <class 'range'>)  :: Function(<class 'range'>)\n",
      "    #   $16.3 = call $16.1(n, func=$16.1, args=[Var(n, <ipython-input-34-dc37b4251e51> (5))], kws=(), vararg=None)  :: (int64,) -> range_state_int64\n",
      "    #   del $16.1\n",
      "    #   $16.4 = getiter(value=$16.3)  :: range_iter_int64\n",
      "    #   del $16.3\n",
      "    #   $phi24.1 = $16.4  :: range_iter_int64\n",
      "    #   del $16.4\n",
      "    #   jump 24\n",
      "    # label 24\n",
      "    #   $24.2 = iternext(value=$phi24.1)  :: pair<int64, bool>\n",
      "    #   $24.3 = pair_first(value=$24.2)  :: int64\n",
      "    #   $24.4 = pair_second(value=$24.2)  :: bool\n",
      "    #   del $24.2\n",
      "    #   $phi26.1 = $24.3  :: int64\n",
      "    #   $phi68.1 = $24.3  :: int64\n",
      "    #   del $phi68.1\n",
      "    #   del $24.3\n",
      "    #   $phi68.2 = $phi24.1  :: range_iter_int64\n",
      "    #   del $phi68.2\n",
      "    #   branch $24.4, 26, 68\n",
      "    # label 26\n",
      "    #   del $24.4\n",
      "    #   i = $phi26.1  :: int64\n",
      "    #   del $phi26.1\n",
      "    #   jump 28\n",
      "    # label 28\n",
      "\n",
      "    for i in range(n):\n",
      "\n",
      "        # --- LINE 8 --- \n",
      "        #   jump 30\n",
      "        # label 30\n",
      "        #   $30.1 = global(range: <class 'range'>)  :: Function(<class 'range'>)\n",
      "        #   $30.3 = call $30.1(n, func=$30.1, args=[Var(n, <ipython-input-34-dc37b4251e51> (5))], kws=(), vararg=None)  :: (int64,) -> range_state_int64\n",
      "        #   del $30.1\n",
      "        #   $30.4 = getiter(value=$30.3)  :: range_iter_int64\n",
      "        #   del $30.3\n",
      "        #   $phi38.1 = $30.4  :: range_iter_int64\n",
      "        #   del $30.4\n",
      "        #   jump 38\n",
      "        # label 38\n",
      "        #   $38.2 = iternext(value=$phi38.1)  :: pair<int64, bool>\n",
      "        #   $38.3 = pair_first(value=$38.2)  :: int64\n",
      "        #   $38.4 = pair_second(value=$38.2)  :: bool\n",
      "        #   del $38.2\n",
      "        #   $phi40.1 = $38.3  :: int64\n",
      "        #   $phi64.1 = $38.3  :: int64\n",
      "        #   del $phi64.1\n",
      "        #   del $38.3\n",
      "        #   $phi64.2 = $phi38.1  :: range_iter_int64\n",
      "        #   del $phi64.2\n",
      "        #   branch $38.4, 40, 64\n",
      "        # label 40\n",
      "        #   del $38.4\n",
      "        #   j = $phi40.1  :: int64\n",
      "        #   del $phi40.1\n",
      "\n",
      "        for j in range(n):\n",
      "\n",
      "            # --- LINE 9 --- \n",
      "            #   $40.6 = build_tuple(items=[Var(i, <ipython-input-34-dc37b4251e51> (7)), Var(j, <ipython-input-34-dc37b4251e51> (8))])  :: tuple(int64 x 2)\n",
      "            #   del j\n",
      "            #   $40.7 = getitem(value=arr, index=$40.6)  :: float64\n",
      "            #   del $40.6\n",
      "            #   $const40.8 = const(int, 2)  :: Literal[int](2)\n",
      "            #   $40.9 = $40.7 ** $const40.8  :: float64\n",
      "            #   del $const40.8\n",
      "            #   del $40.7\n",
      "            #   $40.10 = inplace_binop(fn=<built-in function iadd>, immutable_fn=<built-in function add>, lhs=result, rhs=$40.9, static_lhs=Undefined, static_rhs=Undefined)  :: float64\n",
      "            #   del $40.9\n",
      "            #   result = $40.10  :: float64\n",
      "            #   del $40.10\n",
      "            #   jump 38\n",
      "            # label 64\n",
      "            #   del i\n",
      "            #   del $phi40.1\n",
      "            #   del $phi38.1\n",
      "            #   del $38.4\n",
      "            #   jump 66\n",
      "            # label 66\n",
      "            #   jump 24\n",
      "            # label 68\n",
      "            #   del n\n",
      "            #   del arr\n",
      "            #   del $phi26.1\n",
      "            #   del $phi24.1\n",
      "            #   del $24.4\n",
      "            #   jump 70\n",
      "            # label 70\n",
      "\n",
      "            result += arr[i,j] ** 2\n",
      "\n",
      "    # --- LINE 10 --- \n",
      "    #   $70.2 = cast(value=result)  :: float64\n",
      "    #   del result\n",
      "    #   return $70.2\n",
      "\n",
      "    return result\n",
      "\n",
      "\n",
      "================================================================================\n"
     ]
    }
   ],
   "source": [
    "sum_sq_2d_jit.inspect_types()"
   ]
  },
  {
   "cell_type": "markdown",
   "metadata": {},
   "source": [
    "---"
   ]
  },
  {
   "cell_type": "markdown",
   "metadata": {},
   "source": [
    "# Векторизация <a class=\"anchor\" id=\"векторизация\"></a>\n",
    "* [к оглавлению](#разделы)"
   ]
  },
  {
   "cell_type": "markdown",
   "metadata": {},
   "source": [
    " __Векторизация__ позволяет записывать применение функции для перобразования множества значений (вектора) за одну операцию. \n",
    " \n",
    " Векторизация позвоялет:\n",
    " * писать более компактный и выразительный код\n",
    " * оптимизировать выполенние векторных операций по сравнению с применением циклов за счет специальных оптимизаций, в т.ч. за счет использования специальных возможностей процессоров, многие из которых поддерживают векторные операции на аппаратном уровне.\n",
    " \n",
    "В контексте высокоуровневых языков, таких как Python, теримн векторизация означает использование оптимизированного заранее откомпилированного кода, написанного на низкоуровневом языке (например C) для выполнения математических операций над множестовм значений (вектором, массивом (в т.ч. многомерным)). Это делается вместо явного итерирования по данным на исходном высокоуровневом языке (например с помощью циклов Python).\n",
    "\n",
    "* Пример решения задачи на скалярном языке (C):\n",
    " \n",
    "```C\n",
    " for (i = 0; i < n; i++)\n",
    "    for (j = 0; j < n; j++)\n",
    "        a[i][j] += b[i][j];\n",
    "```\n",
    "Пример решения задачи на языке, поддерживающим векторные операции:\n",
    "```Fortran\n",
    "a = a + b\n",
    "```\n",
    "* Аналогичные примеры можно привести при переходе от кода на Python к использованию ufunc в NumPy.\n",
    "* Современные языки, поддерживающие векторные операции:  APL, J, Fortran 90, Mata, MATLAB, Analytica, TK Solver (as lists), Octave, R, Cilk Plus, Julia, Perl Data Language (PDL), Wolfram Language, __библиотека NumPy в Python__.\n",
    "\n",
    "* Но: реализованное в NumPy _множестов ufunc не обеспечивает решения всех возможных задач преобразования массивов_."
   ]
  },
  {
   "cell_type": "markdown",
   "metadata": {},
   "source": [
    "Пример для применения векторизации:"
   ]
  },
  {
   "cell_type": "code",
   "execution_count": 38,
   "metadata": {},
   "outputs": [],
   "source": [
    "# подсчитываем количество нулей:\n",
    "def count_zeros(v):\n",
    "    result = 0\n",
    "    while v:\n",
    "        v, digit = divmod(v, 10)\n",
    "        if digit == 0:\n",
    "            result += 1\n",
    "    return result"
   ]
  },
  {
   "cell_type": "code",
   "execution_count": 39,
   "metadata": {},
   "outputs": [],
   "source": [
    "import numpy as np\n",
    "import numpy.random"
   ]
  },
  {
   "cell_type": "code",
   "execution_count": 40,
   "metadata": {},
   "outputs": [
    {
     "data": {
      "text/plain": [
       "array([7027,  240, 2561, 5594, 1736, 1499, 1482,  446, 7862, 7896,  387,\n",
       "       4006, 6973, 9347, 5819, 4388, 9934, 8347, 2686, 4308, 4509, 6200,\n",
       "       9719, 4616, 4537, 3670, 4004, 8705, 2948, 6077, 5645,  296, 6800,\n",
       "       8526, 5255, 5552, 6130, 1684, 1797, 7796, 6711,  836, 9721, 9033,\n",
       "       6675,  975, 3389, 9367, 9944, 8365, 9232, 8351, 9783, 9289, 8231,\n",
       "       5944, 6157, 1965,  486, 7509, 6545, 2526, 2414, 7860, 5419, 5230,\n",
       "       9749, 8666, 4062, 8534, 2009, 7220, 5667, 7932, 1149, 5564, 3627,\n",
       "       3288, 3835, 7855, 7809, 4603, 1077, 1701, 6569, 1155,   94, 6213,\n",
       "       4432, 8415, 4998, 4837, 5625, 6792, 4184, 2776,   84, 5009, 6182,\n",
       "       8406])"
      ]
     },
     "execution_count": 40,
     "metadata": {},
     "output_type": "execute_result"
    }
   ],
   "source": [
    "numpy.random.randint(0, 10000, 100)"
   ]
  },
  {
   "cell_type": "code",
   "execution_count": 41,
   "metadata": {},
   "outputs": [],
   "source": [
    "vals = numpy.random.randint(0, 10000, 10000000)"
   ]
  },
  {
   "cell_type": "code",
   "execution_count": 42,
   "metadata": {},
   "outputs": [
    {
     "name": "stdout",
     "output_type": "stream",
     "text": [
      "2890445\n",
      "Wall time: 30.4 s\n"
     ]
    }
   ],
   "source": [
    "%%time\n",
    "\n",
    "z_count = 0\n",
    "for v in vals:\n",
    "    z_count += count_zeros(v)\n",
    "print(z_count)"
   ]
  },
  {
   "cell_type": "markdown",
   "metadata": {},
   "source": [
    "#### Векторизация в NumPy\n",
    "\n",
    "__numpy.vectorize__ - это класс обобщенных функций, который позволяет создавать векторизованные функции в NumPy.\n",
    "* `numpy.vectorize` позволяет определять векторизованные функции которые принимают массивы NumPy (или вложенные последовательности объектов) и возвращают массивы NumPy (единичные или кортежи).\n",
    "* Конструктор класса выглядит следующим образом: `class numpy.vectorize(pyfunc, otypes=None, doc=None, excluded=None, cache=False, signature=None)`\n",
    "* Ключевым аргументом является функция `pyfunc` - функция, которую требуется векторизовать.\n",
    "* В результате применения конструктора `numpy.vectorize` появляется вызываемый (callable) объект типа `numpy.vectorize`, по сути это есть векторизованная функция.\n",
    "* Векторизованная функция вызывает функцию `pyfunc` для элементов входных массиов аналогично функции `map` в Python, при этом применяются правила распространения (broadcasting) NumPy.\n",
    "\n",
    "Подробнее о параметрах `numpy.vectorize`:\n",
    "* `pyfunc : callable` - функция Python которую необходимо векторизовать\n",
    "* `otypes : str or list of dtypes, optional` - тип выходных значений векторизованной функции. Может быть передан как строка с описанием кодов типов (typecode characters) или как список спецификаций типов данных. ( _См примеры_ )\n",
    "* `doc : str, optional` - строка докумнетации функции, если передан None (значение по умолчанию) будет использована стрка документации функции `pyfunc`.\n",
    "* `excluded : set, optional` - определение параметров по которым функция НЕ БУДЕТ векторизована, передается множество строк или чисел определяющих аргументы по именам параметров или по их позиции.\n",
    "* `cache : bool, optional` - если True то при первом вызове кэшируется количество выходных значений, если параметр otypes не передан.\n",
    "* `signature : string, optional` - обобщенная сигнатура функции, например `(m,n),(n)->(m)` для векторизованного матрично-векторного умножения. Если праметр передан `pyfunc` будет вызван для массивов с формой заданной размером соответсвующих измерений. По умолчанию считается что `pyfunc` принимает на вход скаляры и возвращает скаляры."
   ]
  },
  {
   "cell_type": "code",
   "execution_count": 62,
   "metadata": {},
   "outputs": [],
   "source": [
    "vcount_zeros = np.vectorize(count_zeros)"
   ]
  },
  {
   "cell_type": "code",
   "execution_count": 63,
   "metadata": {},
   "outputs": [
    {
     "data": {
      "text/plain": [
       "numpy.vectorize"
      ]
     },
     "execution_count": 63,
     "metadata": {},
     "output_type": "execute_result"
    }
   ],
   "source": [
    "type(vcount_zeros)"
   ]
  },
  {
   "cell_type": "code",
   "execution_count": 64,
   "metadata": {},
   "outputs": [
    {
     "name": "stdout",
     "output_type": "stream",
     "text": [
      "2887290\n",
      "Wall time: 11.2 s\n"
     ]
    }
   ],
   "source": [
    "%%time\n",
    "\n",
    "z_count = vcount_zeros(vals) # применение аналогично использованию ufunc \n",
    "print(np.sum(z_count))"
   ]
  },
  {
   "cell_type": "code",
   "execution_count": 65,
   "metadata": {},
   "outputs": [
    {
     "data": {
      "text/plain": [
       "(array([0, 1, 0]), numpy.int32)"
      ]
     },
     "execution_count": 65,
     "metadata": {},
     "output_type": "execute_result"
    }
   ],
   "source": [
    "# Тип возвращаемых значений определен автоматически:\n",
    "z_count[:3], type(z_count[0])"
   ]
  },
  {
   "cell_type": "code",
   "execution_count": 66,
   "metadata": {},
   "outputs": [],
   "source": [
    "vcount_zeros_f = np.vectorize(count_zeros, otypes=[float]) # явное задание возвращаемого типа"
   ]
  },
  {
   "cell_type": "code",
   "execution_count": 68,
   "metadata": {},
   "outputs": [
    {
     "data": {
      "text/plain": [
       "(array([0., 1., 0.]), numpy.float64)"
      ]
     },
     "execution_count": 68,
     "metadata": {},
     "output_type": "execute_result"
    }
   ],
   "source": [
    "z_count_f = vcount_zeros_f(vals[:100])\n",
    "z_count_f[:3], type(z_count_f[0])"
   ]
  },
  {
   "cell_type": "markdown",
   "metadata": {},
   "source": [
    "Пример использования параметра `excluded`:"
   ]
  },
  {
   "cell_type": "code",
   "execution_count": 69,
   "metadata": {},
   "outputs": [],
   "source": [
    "# Расчет значения полинома с коэффциентами p для значения x:\n",
    "def mypolyval(p, x):\n",
    "    _p = list(p)\n",
    "    res = _p.pop(0)\n",
    "    while _p:\n",
    "        res = res*x + _p.pop(0)\n",
    "    return res"
   ]
  },
  {
   "cell_type": "code",
   "execution_count": 70,
   "metadata": {},
   "outputs": [],
   "source": [
    "# При векторизации исключаем параметр p из параметров, по которым проводится векторизация:\n",
    "vpolyval = np.vectorize(mypolyval, excluded=['p'])"
   ]
  },
  {
   "cell_type": "code",
   "execution_count": 72,
   "metadata": {},
   "outputs": [
    {
     "data": {
      "text/plain": [
       "array([3, 6])"
      ]
     },
     "execution_count": 72,
     "metadata": {},
     "output_type": "execute_result"
    }
   ],
   "source": [
    "vpolyval(p=[1, 2, 3], x=[0, 1])"
   ]
  },
  {
   "cell_type": "code",
   "execution_count": 73,
   "metadata": {},
   "outputs": [
    {
     "data": {
      "text/plain": [
       "array([2.        , 2.00040812, 2.00163249, 2.00367309, 2.00652995,\n",
       "       2.01020304, 2.01469238, 2.01999796, 2.02611978, 2.03305785,\n",
       "       2.04081216, 2.04938272, 2.05876951, 2.06897255, 2.07999184,\n",
       "       2.09182736, 2.10447913, 2.11794715, 2.1322314 , 2.1473319 ,\n",
       "       2.16324865, 2.17998163, 2.19753086, 2.21589634, 2.23507805,\n",
       "       2.25507601, 2.27589022, 2.29752066, 2.31996735, 2.34323028,\n",
       "       2.36730946, 2.39220488, 2.41791654, 2.44444444, 2.47178859,\n",
       "       2.49994898, 2.52892562, 2.5587185 , 2.58932762, 2.62075298,\n",
       "       2.65299459, 2.68605244, 2.71992654, 2.75461688, 2.79012346,\n",
       "       2.82644628, 2.86358535, 2.90154066, 2.94031221, 2.97990001,\n",
       "       3.02030405, 3.06152433, 3.10356086, 3.14641363, 3.19008264,\n",
       "       3.2345679 , 3.2798694 , 3.32598714, 3.37292113, 3.42067136,\n",
       "       3.46923783, 3.51862055, 3.56881951, 3.61983471, 3.67166616,\n",
       "       3.72431385, 3.77777778, 3.83205795, 3.88715437, 3.94306703,\n",
       "       3.99979594, 4.05734109, 4.11570248, 4.17488011, 4.23487399,\n",
       "       4.29568411, 4.35731048, 4.41975309, 4.48301194, 4.54708703,\n",
       "       4.61197837, 4.67768595, 4.74420977, 4.81154984, 4.87970615,\n",
       "       4.94867871, 5.0184675 , 5.08907254, 5.16049383, 5.23273135,\n",
       "       5.30578512, 5.37965514, 5.45434139, 5.52984389, 5.60616264,\n",
       "       5.68329762, 5.76124885, 5.84001632, 5.91960004, 6.        ])"
      ]
     },
     "execution_count": 73,
     "metadata": {},
     "output_type": "execute_result"
    }
   ],
   "source": [
    "vpolyval(p=[1, 2, 3], x=np.linspace(-1, 1, 100))"
   ]
  },
  {
   "cell_type": "markdown",
   "metadata": {},
   "source": [
    "#### Обобщенная сигнатура функции \n",
    "\n",
    "\n",
    "<b class=\"b n\">Имеется потребность проводить векторизацию не только скалярных функций (принимающих в качестве аргументов один или несколько (фиксированное число!) скалярных аргументов и возвращающая одно значение), но и \"векторных\"(в нотации NumPy - работающих с массивами ndarray или анлогоичными структурами) функций.</b>\n",
    "* В результате векторизации векторные функции могут эффективно (в смысле компактности записи и эффективности вычислений) применяться для массивов бОльших разменостей.\n",
    "* Для реализации этого механизма конструктору `numpy.vectorize` необходимо передать информацию о том какая векторная структура у входных параметров и выходных значений. Это делается с помощью передачи _обобщенной сигнатуры функции_ через параметр `signature`.\n",
    "\n",
    "__Обобщенная сигнатура функции__ (generalized ufunc signature) определяет как размерности каждого из входных/выходных массивов разбиваются на размерности относящиеся к ядру (т.е. становятся параметрами единичного вызова векторизуемой функции `pyfunc`) и на размерности, использующиеся для векторизации.\n",
    "\n",
    "Основные парвила:\n",
    "* каждое измерение в сигнатуре соотносится с измерениями соответствующих передаваемых массивов (соответствие строится начиная с конца кортежа, определяющего форму (shape) предаваемого массива).\n",
    "* Измерения ядра, которым присвоены одинаковые имена, должны точно совпадать по размерам, в этом случае распространение (bradcasting) не производится.\n",
    "* При применении векторизации измерения ядра убираются из всех входов, а для остающиеся измерений выполняется бродкастинг для выполнения итераций по ним в рамках работы векторизации.\n",
    "\n",
    "Примеры обобщенных сигнатур различных функций:\n",
    "\n",
    "<table border=\"1\" class=\"docutils\">\n",
    "<colgroup>\n",
    "<col width=\"17%\">\n",
    "<col width=\"37%\">\n",
    "<col width=\"46%\">\n",
    "</colgroup>\n",
    "<thead valign=\"bottom\">\n",
    "<tr class=\"row-odd\"><th class=\"head\">Имя функции</th>\n",
    "<th class=\"head\">Сигнатуры</th>\n",
    "<th class=\"head\">Описание</th>\n",
    "</tr>\n",
    "</thead>\n",
    "<tbody valign=\"top\">\n",
    "<tr class=\"row-even\"><td>add</td>\n",
    "<td><code class=\"docutils literal notranslate\"><span class=\"pre\">(),()-&gt;()</span></code></td>\n",
    "<td>сложение, бинарная ufunc</td>\n",
    "</tr>\n",
    "<tr class=\"row-odd\"><td>sum1d</td>\n",
    "<td><code class=\"docutils literal notranslate\"><span class=\"pre\">(i)-&gt;()</span></code></td>\n",
    "<td>сумма элементов вектора (reduction)</td>\n",
    "</tr>\n",
    "<tr class=\"row-even\"><td>inner1d</td>\n",
    "<td><code class=\"docutils literal notranslate\"><span class=\"pre\">(i),(i)-&gt;()</span></code></td>\n",
    "<td>скалярное произведение двух векторов (vector-vector multiplication)</td>\n",
    "</tr>\n",
    "<tr class=\"row-odd\"><td>matmat</td>\n",
    "<td><code class=\"docutils literal notranslate\"><span class=\"pre\">(m,n),(n,p)-&gt;(m,p)</span></code></td>\n",
    "<td>матричное умножение</td>\n",
    "</tr>\n",
    "<tr class=\"row-even\"><td>vecmat</td>\n",
    "<td><code class=\"docutils literal notranslate\"><span class=\"pre\">(n),(n,p)-&gt;(p)</span></code></td>\n",
    "<td>умножения одномерного вектора (рассматривается как вектор-строка) на матрицу (vector-matrix multiplication)</td>\n",
    "</tr>\n",
    "<tr class=\"row-odd\"><td>matvec</td>\n",
    "<td><code class=\"docutils literal notranslate\"><span class=\"pre\">(m,n),(n)-&gt;(m)</span></code></td>\n",
    "<td>умножение матрицы на одномерный вектора (рассматривается как вектор-столбец) (matrix-vector multiplication)</td>\n",
    "</tr>\n",
    "<tr class=\"row-even\"><td>matmul</td>\n",
    "<td><code class=\"docutils literal notranslate\"><span class=\"pre\">(m?,n),(n,p?)-&gt;(m?,p?)</span></code></td>\n",
    "<td>функция, которая реализует все 4 варианта, рассмотренные выше</td>\n",
    "</tr>\n",
    "<tr class=\"row-odd\"><td>outer_inner</td>\n",
    "<td><code class=\"docutils literal notranslate\"><span class=\"pre\">(i,t),(j,t)-&gt;(i,j)</span></code></td>\n",
    "<td>произведение двух матриц не по правилу \"строка на столбец\", а по правилу \"строка на строку\", при этом индекс второй строки определяет индекс столбца в котором будет помещено произведение в итоговой матрице\n",
    "</td>\n",
    "</tr>\n",
    "<tr class=\"row-even\"><td>cross1d</td>\n",
    "<td><code class=\"docutils literal notranslate\"><span class=\"pre\">(3),(3)-&gt;(3)</span></code></td>\n",
    "<td>Векторное произведение двух векторов размерности 3 ( https://ru.wikipedia.org/wiki/Векторное_произведение )</td>\n",
    "</tr>\n",
    "</tbody>\n",
    "</table>\n",
    "\n",
    "\n",
    "Документация:\n",
    "* numpy.ufunc.signature: - https://numpy.org/doc/stable/reference/generated/numpy.ufunc.signature.html\n",
    "* более подробно про обобщенную сигнатуру функции: https://numpy.org/doc/1.17/reference/c-api.generalized-ufuncs.html\n",
    "\n",
    "\n"
   ]
  },
  {
   "cell_type": "markdown",
   "metadata": {},
   "source": [
    "Для реализованных в NumPy ufunc можно просмотреть их сигнатуру:"
   ]
  },
  {
   "cell_type": "code",
   "execution_count": 74,
   "metadata": {},
   "outputs": [
    {
     "name": "stdout",
     "output_type": "stream",
     "text": [
      "None\n"
     ]
    }
   ],
   "source": [
    "print(np.add.signature)"
   ]
  },
  {
   "cell_type": "markdown",
   "metadata": {},
   "source": [
    "Отсутствие сигнатуры означет эквивалентно '(),()->()' (с поправкой на количество параметров функции)."
   ]
  },
  {
   "cell_type": "code",
   "execution_count": 76,
   "metadata": {},
   "outputs": [
    {
     "data": {
      "text/plain": [
       "'(m,m)->()'"
      ]
     },
     "execution_count": 76,
     "metadata": {},
     "output_type": "execute_result"
    }
   ],
   "source": [
    "np.linalg._umath_linalg.det.signature"
   ]
  },
  {
   "cell_type": "code",
   "execution_count": 77,
   "metadata": {},
   "outputs": [],
   "source": [
    "def my_vecmat1(a, b):\n",
    "    return np.sum(a * b)"
   ]
  },
  {
   "cell_type": "code",
   "execution_count": 78,
   "metadata": {},
   "outputs": [
    {
     "data": {
      "text/plain": [
       "6.0"
      ]
     },
     "execution_count": 78,
     "metadata": {},
     "output_type": "execute_result"
    }
   ],
   "source": [
    "my_vecmat1(np.arange(1,4),np.ones(3))"
   ]
  },
  {
   "cell_type": "code",
   "execution_count": 85,
   "metadata": {},
   "outputs": [
    {
     "data": {
      "text/plain": [
       "(array([[ 1,  2,  3,  4],\n",
       "        [ 5,  6,  7,  8],\n",
       "        [ 9, 10, 11, 12]]),\n",
       " (3, 4))"
      ]
     },
     "execution_count": 85,
     "metadata": {},
     "output_type": "execute_result"
    }
   ],
   "source": [
    "a1 = np.arange(1,13).reshape(3,4)\n",
    "a1, a1.shape"
   ]
  },
  {
   "cell_type": "code",
   "execution_count": 80,
   "metadata": {},
   "outputs": [
    {
     "data": {
      "text/plain": [
       "array([1., 1., 1., 1.])"
      ]
     },
     "execution_count": 80,
     "metadata": {},
     "output_type": "execute_result"
    }
   ],
   "source": [
    "np.ones(4)"
   ]
  },
  {
   "cell_type": "code",
   "execution_count": 71,
   "metadata": {},
   "outputs": [
    {
     "data": {
      "text/plain": [
       "78.0"
      ]
     },
     "execution_count": 71,
     "metadata": {},
     "output_type": "execute_result"
    }
   ],
   "source": [
    "# (наверное) неожиданный результат:\n",
    "my_vecmat1(a1, np.ones(4))"
   ]
  },
  {
   "cell_type": "code",
   "execution_count": 82,
   "metadata": {},
   "outputs": [],
   "source": [
    "def my_vecmat2(a, b):\n",
    "    return sum(x*y for x, y in zip(a, b))"
   ]
  },
  {
   "cell_type": "code",
   "execution_count": 83,
   "metadata": {},
   "outputs": [
    {
     "data": {
      "text/plain": [
       "6.0"
      ]
     },
     "execution_count": 83,
     "metadata": {},
     "output_type": "execute_result"
    }
   ],
   "source": [
    "my_vecmat2(np.arange(1,4),np.ones(3))"
   ]
  },
  {
   "cell_type": "code",
   "execution_count": 86,
   "metadata": {},
   "outputs": [
    {
     "data": {
      "text/plain": [
       "array([15., 18., 21., 24.])"
      ]
     },
     "execution_count": 86,
     "metadata": {},
     "output_type": "execute_result"
    }
   ],
   "source": [
    "# (наверное) неожиданный результат:\n",
    "my_vecmat2(a1, np.ones(3))"
   ]
  },
  {
   "cell_type": "code",
   "execution_count": 87,
   "metadata": {},
   "outputs": [],
   "source": [
    "# выполняем векторизацию векторной функции my_vecmat1 с описанием сигнатуры:\n",
    "vmy_vecmat1 = np.vectorize(my_vecmat1, signature='(i),(i)->()')"
   ]
  },
  {
   "cell_type": "code",
   "execution_count": 88,
   "metadata": {},
   "outputs": [
    {
     "data": {
      "text/plain": [
       "array([[ 1,  2,  3,  4],\n",
       "       [ 5,  6,  7,  8],\n",
       "       [ 9, 10, 11, 12]])"
      ]
     },
     "execution_count": 88,
     "metadata": {},
     "output_type": "execute_result"
    }
   ],
   "source": [
    "a1"
   ]
  },
  {
   "cell_type": "code",
   "execution_count": 89,
   "metadata": {},
   "outputs": [
    {
     "data": {
      "text/plain": [
       "array([1., 1., 1., 1.])"
      ]
     },
     "execution_count": 89,
     "metadata": {},
     "output_type": "execute_result"
    }
   ],
   "source": [
    "np.ones(4)"
   ]
  },
  {
   "cell_type": "code",
   "execution_count": 90,
   "metadata": {},
   "outputs": [
    {
     "data": {
      "text/plain": [
       "array([10., 26., 42.])"
      ]
     },
     "execution_count": 90,
     "metadata": {},
     "output_type": "execute_result"
    }
   ],
   "source": [
    "# применение векторизованной векторной функции:\n",
    "vmy_vecmat1(a1, np.ones(4))"
   ]
  },
  {
   "cell_type": "markdown",
   "metadata": {},
   "source": [
    "Что произошло: \n",
    "1. На входе: `(3, 4),(4)`\n",
    "2. Сигнатура ядра: `(i),(i)->()`\n",
    "3. Векторизаця: `(A, i),(i)->(A)`, где `A=3`, `i=4`\n",
    "4. Результат: `(3)`"
   ]
  },
  {
   "cell_type": "code",
   "execution_count": 91,
   "metadata": {},
   "outputs": [],
   "source": [
    "vmy_vecmat2= np.vectorize(my_vecmat2, signature='(i),(i)->()')"
   ]
  },
  {
   "cell_type": "code",
   "execution_count": 92,
   "metadata": {},
   "outputs": [
    {
     "data": {
      "text/plain": [
       "array([10., 26., 42.])"
      ]
     },
     "execution_count": 92,
     "metadata": {},
     "output_type": "execute_result"
    }
   ],
   "source": [
    "# указание правильной сигнатуры при векторизации позволило получить ожидаемый результат:\n",
    "vmy_vecmat2(a1, np.ones(4))"
   ]
  },
  {
   "cell_type": "markdown",
   "metadata": {},
   "source": []
  },
  {
   "cell_type": "code",
   "execution_count": 93,
   "metadata": {},
   "outputs": [
    {
     "data": {
      "text/plain": [
       "(array([[1., 1., 1., 1.],\n",
       "        [2., 2., 2., 2.],\n",
       "        [3., 3., 3., 3.]]),\n",
       " (3, 4))"
      ]
     },
     "execution_count": 93,
     "metadata": {},
     "output_type": "execute_result"
    }
   ],
   "source": [
    "b2 = np.vstack((np.ones((1,4)), np.full((1,4), 2), np.full((1,4), 3)))\n",
    "b2, b2.shape"
   ]
  },
  {
   "cell_type": "code",
   "execution_count": 94,
   "metadata": {},
   "outputs": [
    {
     "data": {
      "text/plain": [
       "array([[ 1,  2,  3,  4],\n",
       "       [ 5,  6,  7,  8],\n",
       "       [ 9, 10, 11, 12]])"
      ]
     },
     "execution_count": 94,
     "metadata": {},
     "output_type": "execute_result"
    }
   ],
   "source": [
    "a1"
   ]
  },
  {
   "cell_type": "code",
   "execution_count": 95,
   "metadata": {},
   "outputs": [
    {
     "data": {
      "text/plain": [
       "array([ 10.,  52., 126.])"
      ]
     },
     "execution_count": 95,
     "metadata": {},
     "output_type": "execute_result"
    }
   ],
   "source": [
    "vmy_vecmat1(a1, b2)"
   ]
  },
  {
   "cell_type": "markdown",
   "metadata": {},
   "source": [
    "Что произошло: \n",
    "1. На входе: `(3, 4),(3, 4)`\n",
    "2. Сигнатура ядра: `(i),(i)->()`\n",
    "3. Векторизаця: `(A, i),(A, i)->(A)`, где `A=3`, `i=4`\n",
    "4. Результат: `(3)`\n",
    "\n",
    "На самом деле это даже более простой случай, т.к. в первом случае для второго аргумента использовалось распространение (broadcasting)!"
   ]
  },
  {
   "cell_type": "markdown",
   "metadata": {},
   "source": [
    "Кроме `numpy.vectorize` имется еще функция `numpy.frompyfunc` которая позволяет проеобразовывать скалярные функции Python в ufunc NumPy и использовать их с применением правил распространения."
   ]
  },
  {
   "cell_type": "code",
   "execution_count": 96,
   "metadata": {},
   "outputs": [
    {
     "data": {
      "text/plain": [
       "array(['0o12', '0o36', '0o144'], dtype=object)"
      ]
     },
     "execution_count": 96,
     "metadata": {},
     "output_type": "execute_result"
    }
   ],
   "source": [
    "# Пример numpy.frompyfunc:\n",
    "\n",
    "oct_array = np.frompyfunc(oct, 1, 1)\n",
    "oct_array(np.array((10, 30, 100)))"
   ]
  },
  {
   "cell_type": "markdown",
   "metadata": {},
   "source": [
    "#### Применение векторизации в Numba"
   ]
  },
  {
   "cell_type": "code",
   "execution_count": 97,
   "metadata": {},
   "outputs": [
    {
     "data": {
      "text/plain": [
       "int32"
      ]
     },
     "execution_count": 97,
     "metadata": {},
     "output_type": "execute_result"
    }
   ],
   "source": [
    "# простой способ определить, какой тип Numba будет использовать для этих значений: \n",
    "numba.typeof(vals[0])"
   ]
  },
  {
   "cell_type": "code",
   "execution_count": 98,
   "metadata": {},
   "outputs": [],
   "source": [
    "# векторизация с помощью Numba (в явном виде передаем типы, компиляция происходит сразу):\n",
    "\n",
    "numba_vcount_zeros = numba.vectorize(['int32(int32)'])(count_zeros)"
   ]
  },
  {
   "cell_type": "code",
   "execution_count": 99,
   "metadata": {},
   "outputs": [
    {
     "name": "stdout",
     "output_type": "stream",
     "text": [
      "2887290\n",
      "Wall time: 278 ms\n"
     ]
    }
   ],
   "source": [
    "%%time\n",
    "\n",
    "z_count = numba_vcount_zeros(vals)\n",
    "print(np.sum(z_count))"
   ]
  },
  {
   "cell_type": "code",
   "execution_count": 100,
   "metadata": {},
   "outputs": [],
   "source": [
    "# альтернативный способ:\n",
    "from numba import vectorize\n",
    "\n",
    "@vectorize(['int32(int32)'])\n",
    "def numba2_vcount_zeros(v):\n",
    "    result = 0\n",
    "    while v:\n",
    "        v, digit = divmod(v, 10)\n",
    "        if digit == 0:\n",
    "            result += 1\n",
    "    return result"
   ]
  },
  {
   "cell_type": "code",
   "execution_count": 101,
   "metadata": {},
   "outputs": [
    {
     "name": "stdout",
     "output_type": "stream",
     "text": [
      "2887290\n",
      "Wall time: 279 ms\n"
     ]
    }
   ],
   "source": [
    "%%time\n",
    "\n",
    "z_count = numba2_vcount_zeros(vals)\n",
    "print(np.sum(z_count))"
   ]
  },
  {
   "cell_type": "markdown",
   "metadata": {},
   "source": []
  },
  {
   "cell_type": "markdown",
   "metadata": {},
   "source": [
    "#### Декоратор __@guvectorize__\n",
    "\n",
    "<em class=\"qs\"></em> А что, если ускорить рассчет перенеся все выполняемые вычисления в векторизованную функцию?\n",
    "\n",
    "* декоратор `vectorize()` в Numba позволяет реализовывать скалярные ufuncs, которые обрабатывают один элемент за раз.\n",
    "* декоратор `guvectorize()` идет на шаг вперед и позволяет векторизовать векторные ufunc которые обрабатывают массиывы определенных размеров и возвращают массивы определенных размеров. Типовой пример, это расчет медианы или фильтры свертки (convolution filter).\n",
    "\n",
    "* в отличие от функций, полученных с помощью `vectorize()`, функции, полученные с помощью `guvectorize()`, не возвращают своих значенйи, вместо этого они получают массив для возвращаемого значения как аргумент функции и заполняют его во время работы. Это происходит из-за того что в реальности массив формируется с помощью механизмов NumPy и потом для него вызывается код сгенерированный с помощью Numba.\n"
   ]
  },
  {
   "cell_type": "markdown",
   "metadata": {},
   "source": [
    "* Обобщенные универсальные функции (generalized universal functions) требуют описания сигнатуры размерностей для которых  реализована функция ядра. В Numba эта сигнатура определяется аналогично NumPy generalized-ufunc signature. (Не надо путать с сигнатурой типов, которую обычно требует Numba). Подробнее см.: https://numpy.org/doc/1.17/reference/c-api.generalized-ufuncs.html \n",
    "\n",
    "Рассмтрим, намриер сигнатуру матичного умножения `'(m,n), (n,p) -> (m,p)'`. Из нее видно, что:\n",
    "* Ппервая с конца размерность первого аргумента и вторая с конца размерность второго аргумента должны совпадать (т.е. должно выполняться правило матричного умножения).\n",
    "* Последние две размерности результата определяются соответствующими (по именам) размерностями первого и второго аргумента.\n",
    "* Важно помнить: __соответствие__ реальных размерностей передаваемых массивов именам __сигнатуры строится начиная с конца кортежа, определяющего форму (shape) предаваемого массива__.\n",
    "\n",
    "каждое измерение в сигнатуре соотносится с измерениями соответствующих передаваемых массивов (\n"
   ]
  },
  {
   "cell_type": "markdown",
   "metadata": {},
   "source": [
    "При написании функции ядра для gufunc необходимо:\n",
    "* Продумать сигнатуру (generalized-ufunc signature) функции.\n",
    "* Рреализовывать функции соблюдая правила для размерностей вынесенные в сигнатуре\n",
    "* Функция ядра для gufunc в Numba принимает в качестве параметров как сами аргументы функции так и переменную в которую будет помещаться результат работы функции\n",
    "* Входной параметр для хранения результата является последним параметром функции.\n",
    "* У функции не должно быть возвращаемых значений, все результаты должны сохраняться в последнем входном параметре функции.\n",
    "* Последствия изменения значений других аргументов, кроме последнего, неопределены, поэтому полагаться на эти изменения нельзя."
   ]
  },
  {
   "cell_type": "code",
   "execution_count": 102,
   "metadata": {},
   "outputs": [],
   "source": [
    "# реализация ядра матричного умножения с сигнатурой '(m,n),(n,p)->(n,p)\n",
    "def matmulcore(A, B, C):\n",
    "    m, n = A.shape\n",
    "    n, p = B.shape\n",
    "    for i in range(m):\n",
    "        for j in range(p):\n",
    "            C[i, j] = 0\n",
    "            for k in range(n):\n",
    "                C[i, j] += A[i, k] * B[k, j]"
   ]
  },
  {
   "cell_type": "markdown",
   "metadata": {},
   "source": [
    "* Обратите внимание как размерности `m`, `n` и `p` извлекаются из входных аргументов. \n",
    "* Размерность `n` извлекается дважды, для того чтобы подчеркнуть необходимость совпадения значений. На практике это действие не является необходимым.\n",
    "\n",
    "Для построения generalized-ufunc из созданной функции ядра можно как явно вызывать функцию `numba.guvectorize` так и использовать декторатор `@guvectorize`. Интерфейс `numba.guvectorize` аналогичен функции `vectorize`, но дополнительно требует передачи сигнатуры."
   ]
  },
  {
   "cell_type": "code",
   "execution_count": 106,
   "metadata": {},
   "outputs": [],
   "source": [
    "from numba import guvectorize"
   ]
  },
  {
   "cell_type": "code",
   "execution_count": 107,
   "metadata": {},
   "outputs": [],
   "source": [
    "gu_matmul = numba.guvectorize(['float32[:,:], float32[:,:], float32[:,:]', 'float64[:,:], float64[:,:], float64[:,:]' ],\n",
    "                              '(m,n),(n,p)->(n,p)')(matmulcore)"
   ]
  },
  {
   "cell_type": "markdown",
   "metadata": {},
   "source": [
    "The result is a gufunc, that can be used as any othe gufunc in NumPy. Broadcasting and type promotion rules are those on NumPy."
   ]
  },
  {
   "cell_type": "code",
   "execution_count": 108,
   "metadata": {},
   "outputs": [],
   "source": [
    "matrix_ct = 10000\n",
    "gu_test_A = np.arange(matrix_ct * 2 * 4, dtype=np.float32).reshape(matrix_ct, 2, 4)\n",
    "gu_test_B = np.arange(matrix_ct * 4 * 5, dtype=np.float32).reshape(matrix_ct, 4, 5)"
   ]
  },
  {
   "cell_type": "code",
   "execution_count": 109,
   "metadata": {},
   "outputs": [
    {
     "name": "stdout",
     "output_type": "stream",
     "text": [
      "887 µs ± 7.26 µs per loop (mean ± std. dev. of 7 runs, 1000 loops each)\n"
     ]
    }
   ],
   "source": [
    "%timeit gu_matmul(gu_test_A, gu_test_B)"
   ]
  },
  {
   "cell_type": "markdown",
   "metadata": {},
   "source": [
    "Различия между функциями vectorize и guvectorize:\n",
    "1. vectorize генерирует ufuncs, guvectorize генерирует generalized-ufuncs\n",
    "2. В обоих случаях сигнатуры для типов входных аргументов и возвращаемых значений представлены в виде списка, но в функции vectorize для их определения используются сигнатуры, тогда как в guvectorize вместо этого используются списки типов, и последним специфириуется возвращаемое значение.\n",
    "3. Для guvectorize необходимо передать сигнатуру NumPy generalized-ufunc signature. Эта сигнатура дложна соответствовать переданной сигнатуре типов.\n",
    "4. Помните, что в guvectorize результат передается через последний параметр функции, тогда как в vectorize результат возвращается функцией ядра."
   ]
  },
  {
   "cell_type": "code",
   "execution_count": 112,
   "metadata": {},
   "outputs": [],
   "source": [
    "@guvectorize(['int32[:], int32'], '(n)->()')\n",
    "def numba_vcount_zeros_arr(arr, result):\n",
    "    result = 0    \n",
    "    for i in range(arr.shape[0]):\n",
    "        v = arr[i]\n",
    "        while v:\n",
    "            v, digit = divmod(v, 10)\n",
    "            if digit == 0:\n",
    "                result += 1       "
   ]
  },
  {
   "cell_type": "code",
   "execution_count": 113,
   "metadata": {},
   "outputs": [
    {
     "name": "stdout",
     "output_type": "stream",
     "text": [
      "2887290\n",
      "Wall time: 219 ms\n"
     ]
    }
   ],
   "source": [
    "%%time\n",
    "\n",
    "z_count = numba_vcount_zeros_arr(vals)\n",
    "print(z_count)"
   ]
  },
  {
   "cell_type": "markdown",
   "metadata": {},
   "source": [
    "* базовая реализаия - 21.1 s\n",
    "* реализация с векторизацией - 6.61 s\n",
    "* реализация с векторизацией на Numba - 105 ms\n",
    "* реализация c guvectorize на Numba - 69.3 ms"
   ]
  },
  {
   "cell_type": "code",
   "execution_count": 168,
   "metadata": {},
   "outputs": [
    {
     "data": {
      "text/plain": [
       "304.4733044733045"
      ]
     },
     "execution_count": 168,
     "metadata": {},
     "output_type": "execute_result"
    }
   ],
   "source": [
    "# Итоговый прирост производительности:\n",
    "21.1/0.0693"
   ]
  }
 ],
 "metadata": {
  "kernelspec": {
   "display_name": "Python 3",
   "language": "python",
   "name": "python3"
  },
  "language_info": {
   "codemirror_mode": {
    "name": "ipython",
    "version": 3
   },
   "file_extension": ".py",
   "mimetype": "text/x-python",
   "name": "python",
   "nbconvert_exporter": "python",
   "pygments_lexer": "ipython3",
   "version": "3.7.4"
  }
 },
 "nbformat": 4,
 "nbformat_minor": 2
}
