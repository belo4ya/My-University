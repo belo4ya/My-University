{
 "cells": [
  {
   "cell_type": "markdown",
   "metadata": {},
   "source": [
    "# Параллельные вычисления"
   ]
  },
  {
   "cell_type": "markdown",
   "metadata": {},
   "source": [
    "Материалы:\n",
    "* Макрушин С.В. Лекция 10: Параллельные вычисления\n",
    "* https://docs.python.org/3/library/multiprocessing.html"
   ]
  },
  {
   "cell_type": "code",
   "execution_count": 4,
   "metadata": {
    "pycharm": {
     "name": "#%%\n"
    }
   },
   "outputs": [],
   "source": [
    "import ast\n",
    "from collections import Counter  # noqa\n",
    "from multiprocessing import Pool, Queue, cpu_count\n",
    "from pathlib import Path\n",
    "from pprint import pprint\n",
    "from typing import Mapping\n",
    "\n",
    "import pandas as pd\n",
    "from tqdm.notebook import tqdm"
   ]
  },
  {
   "cell_type": "code",
   "execution_count": 5,
   "metadata": {
    "pycharm": {
     "name": "#%%\n"
    }
   },
   "outputs": [],
   "source": [
    "DATA_DIR = Path('data/')\n",
    "SRC_DIR = Path('src/')\n",
    "OUTPUT_DIR = Path('output/')"
   ]
  },
  {
   "cell_type": "code",
   "execution_count": 6,
   "metadata": {
    "pycharm": {
     "name": "#%%\n"
    }
   },
   "outputs": [],
   "source": [
    "def dict_preview(dct: Mapping, n: int = 5) -> dict:\n",
    "    return dict(list(dct.items())[:n])"
   ]
  },
  {
   "cell_type": "markdown",
   "metadata": {},
   "source": [
    "## Задачи для совместного разбора"
   ]
  },
  {
   "cell_type": "markdown",
   "metadata": {},
   "source": [
    "1. Посчитайте, сколько раз встречается каждый из символов (заглавные и строчные символы не различаются) в файле `Dostoevskiy Fedor. Prestuplenie i nakazanie - BooksCafe.Net.txt` и в файле `Dostoevskiy Fedor. Igrok - BooksCafe.Net.txt`. "
   ]
  },
  {
   "cell_type": "code",
   "execution_count": 7,
   "metadata": {
    "pycharm": {
     "name": "#%%\n"
    }
   },
   "outputs": [],
   "source": [
    "CAP_PATH = DATA_DIR.joinpath('Dostoevskiy Fedor. Prestuplenie i nakazanie - BooksCafe.Net.txt')\n",
    "PLAYER_PATH = DATA_DIR.joinpath('Dostoevskiy Fedor. Igrok - BooksCafe.Net.txt')"
   ]
  },
  {
   "cell_type": "code",
   "execution_count": 8,
   "metadata": {
    "pycharm": {
     "name": "#%%\n"
    }
   },
   "outputs": [
    {
     "name": "stdout",
     "output_type": "stream",
     "text": [
      "Overwriting src/char_counts.py\n"
     ]
    }
   ],
   "source": [
    "%%file 'src/char_counts.py'\n",
    "from collections import Counter\n",
    "\n",
    "\n",
    "def char_counts(path) -> Counter:\n",
    "    with open(path, encoding='cp1251') as f:\n",
    "        return Counter(f.read().casefold())"
   ]
  },
  {
   "cell_type": "code",
   "execution_count": 9,
   "metadata": {
    "pycharm": {
     "name": "#%%\n"
    }
   },
   "outputs": [],
   "source": [
    "from src.char_counts import char_counts"
   ]
  },
  {
   "cell_type": "code",
   "execution_count": null,
   "metadata": {
    "pycharm": {
     "name": "#%%\n",
     "is_executing": true
    }
   },
   "outputs": [],
   "source": [
    "%%timeit\n",
    "\n",
    "char_counts(CAP_PATH)\n",
    "char_counts(PLAYER_PATH)"
   ]
  },
  {
   "cell_type": "code",
   "execution_count": null,
   "metadata": {
    "pycharm": {
     "name": "#%%\n",
     "is_executing": true
    }
   },
   "outputs": [],
   "source": [
    "cap_cnt = char_counts(CAP_PATH)\n",
    "player_cnt = char_counts(PLAYER_PATH)"
   ]
  },
  {
   "cell_type": "code",
   "execution_count": null,
   "metadata": {
    "pycharm": {
     "name": "#%%\n",
     "is_executing": true
    }
   },
   "outputs": [],
   "source": [
    "print('Prestuplenie i nakazanie:'.upper())\n",
    "pprint(cap_cnt.most_common(8))\n",
    "print('\\nIgrok'.upper())\n",
    "pprint(player_cnt.most_common(8))"
   ]
  },
  {
   "cell_type": "markdown",
   "metadata": {},
   "source": [
    "2. Решить задачу 1, распараллелив вычисления с помощью модуля `multiprocessing`. Для обработки каждого файла создать свой собственный процесс. "
   ]
  },
  {
   "cell_type": "code",
   "execution_count": null,
   "metadata": {
    "pycharm": {
     "name": "#%%\n",
     "is_executing": true
    }
   },
   "outputs": [],
   "source": [
    "from src.char_counts import char_counts"
   ]
  },
  {
   "cell_type": "code",
   "execution_count": null,
   "metadata": {
    "pycharm": {
     "name": "#%%\n",
     "is_executing": true
    }
   },
   "outputs": [],
   "source": [
    "%%timeit\n",
    "\n",
    "with Pool(2) as pool:\n",
    "    pool.map(char_counts, [CAP_PATH, PLAYER_PATH])"
   ]
  },
  {
   "cell_type": "code",
   "execution_count": null,
   "metadata": {
    "pycharm": {
     "name": "#%%\n",
     "is_executing": true
    }
   },
   "outputs": [],
   "source": [
    "with Pool(2) as pool:\n",
    "    results = pool.map(char_counts, [CAP_PATH, PLAYER_PATH])"
   ]
  },
  {
   "cell_type": "code",
   "execution_count": null,
   "metadata": {
    "pycharm": {
     "name": "#%%\n",
     "is_executing": true
    }
   },
   "outputs": [],
   "source": [
    "print('Prestuplenie i nakazanie:'.upper())\n",
    "pprint(results[0].most_common(8))\n",
    "print('\\nIgrok'.upper())\n",
    "pprint(results[1].most_common(8))"
   ]
  },
  {
   "cell_type": "markdown",
   "metadata": {},
   "source": [
    "## Лабораторная работа 10"
   ]
  },
  {
   "cell_type": "markdown",
   "metadata": {},
   "source": [
    "1. Разбейте файл `recipes_full.csv` на несколько (например, 8) примерно одинаковых по объему файлов c названиями `id_tag_nsteps_*.csv`. Каждый файл содержит 3 столбца: `id`, `tag` и `n_steps`, разделенных символом `;`. Для разбора строк используйте `csv.reader`.\n",
    "\n",
    "__Важно__: вы не можете загружать в память весь файл сразу. Посмотреть на первые несколько строк файла вы можете, написав код, который считывает эти строки.\n",
    "\n",
    "Подсказка: примерное кол-во строк в файле - 2.3 млн.\n",
    "\n",
    "```\n",
    "id;tag;n_steps\n",
    "137739;60-minutes-or-less;11\n",
    "137739;time-to-make;11\n",
    "137739;course;11\n",
    "```"
   ]
  },
  {
   "cell_type": "code",
   "execution_count": null,
   "metadata": {
    "pycharm": {
     "name": "#%%\n",
     "is_executing": true
    }
   },
   "outputs": [],
   "source": [
    "%%time\n",
    "\n",
    "with pd.read_csv(\n",
    "        DATA_DIR.joinpath('recipes_full.csv'),\n",
    "        sep=',',\n",
    "        chunksize=300000,\n",
    "        usecols=['id', 'tags', 'n_steps']\n",
    ") as reader:\n",
    "    for i, chunk in tqdm(enumerate(reader), total=8):\n",
    "        chunk['tags'] = chunk['tags'].apply(ast.literal_eval)\n",
    "        chunk = chunk.explode('tags').rename(columns={'tags': 'tag'})\n",
    "        chunk.to_csv(OUTPUT_DIR.joinpath(f'id_tag_nsteps_{i:0>2}.csv'), sep=';', index=False)"
   ]
  },
  {
   "cell_type": "markdown",
   "metadata": {},
   "source": [
    "2. Напишите функцию, которая принимает на вход название файла, созданного в результате решения задачи 1, считает среднее значение количества шагов для каждого тэга и возвращает результат в виде словаря."
   ]
  },
  {
   "cell_type": "code",
   "execution_count": null,
   "metadata": {
    "pycharm": {
     "name": "#%%\n",
     "is_executing": true
    }
   },
   "outputs": [],
   "source": [
    "file_paths = [OUTPUT_DIR.joinpath(f'id_tag_nsteps_{i:0>2}.csv') for i in range(8)]"
   ]
  },
  {
   "cell_type": "code",
   "execution_count": null,
   "metadata": {
    "pycharm": {
     "name": "#%%\n",
     "is_executing": true
    }
   },
   "outputs": [],
   "source": [
    "def calc_mean_nsteps_by_tags(path) -> Mapping[str, float]:\n",
    "    return pd.read_csv(path, sep=';').groupby('tag')['n_steps'].mean().to_dict()"
   ]
  },
  {
   "cell_type": "code",
   "execution_count": null,
   "metadata": {
    "pycharm": {
     "name": "#%%\n",
     "is_executing": true
    }
   },
   "outputs": [],
   "source": [
    "dict_preview(calc_mean_nsteps_by_tags(file_paths[0]))"
   ]
  },
  {
   "cell_type": "markdown",
   "metadata": {},
   "source": [
    "3. Напишите функцию, которая считает среднее значение количества шагов для каждого тэга по всем файлам, полученным в задаче 1, и возвращает результат в виде словаря. Не используйте параллельных вычислений. При реализации выделите функцию, которая объединяет результаты обработки отдельных файлов. Модифицируйте код из задачи 2 таким образом, чтобы иметь возможность получить результат, имея результаты обработки отдельных файлов. Определите, за какое время задача решается для всех файлов."
   ]
  },
  {
   "cell_type": "code",
   "execution_count": null,
   "metadata": {
    "pycharm": {
     "name": "#%%\n",
     "is_executing": true
    }
   },
   "outputs": [],
   "source": [
    "def calc_mean_nsteps_by_tags(paths_list: list) -> Mapping[str, float]:\n",
    "    results = [_calc_count_sum_nsteps_by_tags(path) for path in paths_list]\n",
    "    return _aggregate_results(results).to_dict()\n",
    "\n",
    "\n",
    "def _calc_count_sum_nsteps_by_tags(path) -> pd.DataFrame:\n",
    "    return pd.read_csv(path, sep=';').groupby('tag')['n_steps'].agg(['sum', 'count'])\n",
    "\n",
    "\n",
    "def _aggregate_results(results: list[pd.DataFrame]) -> pd.Series:\n",
    "    res = sum(results)\n",
    "    return res['sum'] / res['count']"
   ]
  },
  {
   "cell_type": "code",
   "execution_count": null,
   "metadata": {
    "pycharm": {
     "name": "#%%\n",
     "is_executing": true
    }
   },
   "outputs": [],
   "source": [
    "dict_preview(calc_mean_nsteps_by_tags(file_paths))"
   ]
  },
  {
   "cell_type": "code",
   "execution_count": null,
   "metadata": {
    "pycharm": {
     "name": "#%%\n",
     "is_executing": true
    }
   },
   "outputs": [],
   "source": [
    "%timeit calc_mean_nsteps_by_tags(file_paths)"
   ]
  },
  {
   "cell_type": "markdown",
   "metadata": {},
   "source": [
    "4. Решите задачу 3, распараллелив вычисления с помощью модуля `multiprocessing`. Для обработки каждого файла создайте свой собственный процесс. Определите, за какое время задача решается для всех файлов."
   ]
  },
  {
   "cell_type": "code",
   "execution_count": null,
   "metadata": {
    "pycharm": {
     "name": "#%%\n",
     "is_executing": true
    }
   },
   "outputs": [],
   "source": [
    "%%file 'src/task_4.py'\n",
    "import pandas as pd\n",
    "\n",
    "\n",
    "def worker(path) -> pd.DataFrame:\n",
    "    return pd.read_csv(path, sep=';').groupby('tag')['n_steps'].agg(['sum', 'count'])\n",
    "\n",
    "\n",
    "def aggregator(results: list[pd.DataFrame]) -> pd.Series:\n",
    "    res = sum(results)\n",
    "    return res['sum'] / res['count']"
   ]
  },
  {
   "cell_type": "code",
   "execution_count": null,
   "metadata": {
    "pycharm": {
     "name": "#%%\n",
     "is_executing": true
    }
   },
   "outputs": [],
   "source": [
    "from src.task_4 import worker, aggregator"
   ]
  },
  {
   "cell_type": "code",
   "execution_count": null,
   "metadata": {
    "pycharm": {
     "name": "#%%\n",
     "is_executing": true
    }
   },
   "outputs": [],
   "source": [
    "def calc_mean_nsteps_by_tags_concurrent(paths_list: list) -> Mapping[str, float]:\n",
    "    with Pool(len(paths_list)) as pool:\n",
    "        results = pool.map(worker, paths_list)\n",
    "    return aggregator(list(results)).to_dict()"
   ]
  },
  {
   "cell_type": "code",
   "execution_count": null,
   "metadata": {
    "pycharm": {
     "name": "#%%\n",
     "is_executing": true
    }
   },
   "outputs": [],
   "source": [
    "dict_preview(calc_mean_nsteps_by_tags_concurrent(file_paths))"
   ]
  },
  {
   "cell_type": "code",
   "execution_count": null,
   "metadata": {
    "pycharm": {
     "name": "#%%\n",
     "is_executing": true
    }
   },
   "outputs": [],
   "source": [
    "from multiprocessing import Pool\n",
    "\n",
    "%timeit calc_mean_nsteps_by_tags_concurrent(file_paths)"
   ]
  },
  {
   "cell_type": "code",
   "execution_count": null,
   "metadata": {
    "pycharm": {
     "name": "#%%\n",
     "is_executing": true
    }
   },
   "outputs": [],
   "source": [
    "from multiprocessing.pool import ThreadPool as Pool\n",
    "\n",
    "%timeit calc_mean_nsteps_by_tags_concurrent(file_paths)"
   ]
  },
  {
   "cell_type": "code",
   "execution_count": null,
   "metadata": {
    "pycharm": {
     "name": "#%%\n",
     "is_executing": true
    }
   },
   "outputs": [],
   "source": [
    "from concurrent.futures import ThreadPoolExecutor as Pool\n",
    "\n",
    "%timeit calc_mean_nsteps_by_tags_concurrent(file_paths)"
   ]
  },
  {
   "cell_type": "markdown",
   "metadata": {},
   "source": [
    "5. (*) Решите задачу 3, распараллелив вычисления с помощью модуля `multiprocessing`. Создайте фиксированное количество процессов (равное половине количества ядер на компьютере). При помощи очереди передайте названия файлов для обработки процессам и при помощи другой очереди заберите от них ответы."
   ]
  },
  {
   "cell_type": "code",
   "execution_count": null,
   "metadata": {
    "pycharm": {
     "name": "#%%\n",
     "is_executing": true
    }
   },
   "outputs": [],
   "source": [
    "%%file 'src/task_5.py'\n",
    "from functools import reduce\n",
    "from multiprocessing import Queue, Process\n",
    "\n",
    "import pandas as pd\n",
    "\n",
    "\n",
    "class Worker(Process):\n",
    "\n",
    "    def __init__(self, tasks_queue: Queue, results_queue: Queue):\n",
    "        self._tasks_queue = tasks_queue\n",
    "        self._results_queue = results_queue\n",
    "        super(Worker, self).__init__()\n",
    "\n",
    "    def run(self) -> None:\n",
    "        while not self._tasks_queue.empty():\n",
    "            task = self._tasks_queue.get()\n",
    "            self._results_queue.put(task())\n",
    "\n",
    "\n",
    "class Task:\n",
    "\n",
    "    def __init__(self, path):\n",
    "        self._path = path\n",
    "\n",
    "    def __call__(self) -> pd.DataFrame:\n",
    "        return pd.read_csv(self._path, sep=';').groupby('tag')['n_steps'].agg(['sum', 'count'])\n",
    "\n",
    "\n",
    "def aggregate(results_queue: Queue, qsize: int) -> dict[str, float]:\n",
    "    initial = results_queue.get()\n",
    "    res = reduce(lambda a, b: a + b, lazy_queue_get(results_queue, qsize - 1), initial)\n",
    "    return (res['sum'] / res['count']).to_dict()\n",
    "\n",
    "\n",
    "def lazy_queue_get(queue: Queue, qsize: int):\n",
    "    for i in range(qsize):\n",
    "        yield queue.get()"
   ]
  },
  {
   "cell_type": "code",
   "execution_count": null,
   "metadata": {
    "pycharm": {
     "name": "#%%\n",
     "is_executing": true
    }
   },
   "outputs": [],
   "source": [
    "from src.task_5 import Worker, Task, aggregate"
   ]
  },
  {
   "cell_type": "code",
   "execution_count": null,
   "metadata": {
    "pycharm": {
     "name": "#%%\n",
     "is_executing": true
    }
   },
   "outputs": [],
   "source": [
    "def calc_mean_nsteps_by_tags_process_sync(paths_list: list) -> dict[str, float]:\n",
    "    tasks_queue = Queue()\n",
    "    results_queue = Queue()\n",
    "\n",
    "    for path in paths_list:\n",
    "        tasks_queue.put(Task(path))\n",
    "\n",
    "    for i in range(int(cpu_count() / 2 / 2)):\n",
    "        Worker(tasks_queue, results_queue).start()\n",
    "\n",
    "    return aggregate(results_queue, len(paths_list))"
   ]
  },
  {
   "cell_type": "code",
   "execution_count": null,
   "metadata": {
    "pycharm": {
     "name": "#%%\n",
     "is_executing": true
    }
   },
   "outputs": [],
   "source": [
    "dict_preview(calc_mean_nsteps_by_tags_process_sync(file_paths))"
   ]
  },
  {
   "cell_type": "code",
   "execution_count": null,
   "metadata": {
    "pycharm": {
     "name": "#%%\n",
     "is_executing": true
    }
   },
   "outputs": [],
   "source": [
    "%timeit dict_preview(calc_mean_nsteps_by_tags_process_sync(file_paths))"
   ]
  },
  {
   "cell_type": "code",
   "execution_count": null,
   "metadata": {
    "pycharm": {
     "is_executing": true
    }
   },
   "outputs": [],
   "source": []
  }
 ],
 "metadata": {
  "kernelspec": {
   "display_name": "Python 3 (ipykernel)",
   "language": "python",
   "name": "python3"
  },
  "language_info": {
   "codemirror_mode": {
    "name": "ipython",
    "version": 3
   },
   "file_extension": ".py",
   "mimetype": "text/x-python",
   "name": "python",
   "nbconvert_exporter": "python",
   "pygments_lexer": "ipython3",
   "version": "3.9.7"
  }
 },
 "nbformat": 4,
 "nbformat_minor": 4
}