{
 "cells": [
  {
   "cell_type": "code",
   "execution_count": 121,
   "metadata": {
    "collapsed": true
   },
   "outputs": [],
   "source": [
    "import pandas as pd\n",
    "import statsmodels.api as sm\n",
    "from IPython.display import Markdown\n",
    "from scipy import stats\n",
    "from sklearn.model_selection import train_test_split\n",
    "\n",
    "from src.report import (\n",
    "    t_test,\n",
    "    f_test,\n",
    "    general,\n",
    "    general_assessment,\n",
    "    dw_test,\n",
    "    bg_test\n",
    ")\n",
    "from src.stats import LinearRegression, add_constant"
   ]
  },
  {
   "cell_type": "code",
   "execution_count": 122,
   "outputs": [],
   "source": [
    "%reload_ext autoreload\n",
    "%autoreload 2"
   ],
   "metadata": {
    "collapsed": false,
    "pycharm": {
     "name": "#%%\n"
    }
   }
  },
  {
   "cell_type": "code",
   "execution_count": 123,
   "outputs": [],
   "source": [
    "ALPHA = 0.05"
   ],
   "metadata": {
    "collapsed": false,
    "pycharm": {
     "name": "#%%\n"
    }
   }
  },
  {
   "cell_type": "code",
   "execution_count": 124,
   "outputs": [],
   "source": [
    "DATA = \"\"\"\n",
    "1 50 120\n",
    "2 58 115\n",
    "3 60 116\n",
    "4 54 130\n",
    "5 56 132\n",
    "6 50 130\n",
    "7 68 118\n",
    "8 70 118\n",
    "9 55 128\n",
    "10 66 115\n",
    "11 80 112\n",
    "12 85 105\n",
    "13 95 128\n",
    "14 96 135\n",
    "15 108 132\n",
    "16 185 205\n",
    "\"\"\"\n",
    "\n",
    "DATA = [map(int, row.split()[1:]) for row in DATA.strip().split('\\n')]"
   ],
   "metadata": {
    "collapsed": false,
    "pycharm": {
     "name": "#%%\n"
    }
   }
  },
  {
   "cell_type": "code",
   "execution_count": 125,
   "outputs": [
    {
     "data": {
      "text/plain": "      y    x\n0    50  120\n1    58  115\n2    60  116\n3    54  130\n4    56  132\n5    50  130\n6    68  118\n7    70  118\n8    55  128\n9    66  115\n10   80  112\n11   85  105\n12   95  128\n13   96  135\n14  108  132\n15  185  205",
      "text/html": "<div>\n<style scoped>\n    .dataframe tbody tr th:only-of-type {\n        vertical-align: middle;\n    }\n\n    .dataframe tbody tr th {\n        vertical-align: top;\n    }\n\n    .dataframe thead th {\n        text-align: right;\n    }\n</style>\n<table border=\"1\" class=\"dataframe\">\n  <thead>\n    <tr style=\"text-align: right;\">\n      <th></th>\n      <th>y</th>\n      <th>x</th>\n    </tr>\n  </thead>\n  <tbody>\n    <tr>\n      <th>0</th>\n      <td>50</td>\n      <td>120</td>\n    </tr>\n    <tr>\n      <th>1</th>\n      <td>58</td>\n      <td>115</td>\n    </tr>\n    <tr>\n      <th>2</th>\n      <td>60</td>\n      <td>116</td>\n    </tr>\n    <tr>\n      <th>3</th>\n      <td>54</td>\n      <td>130</td>\n    </tr>\n    <tr>\n      <th>4</th>\n      <td>56</td>\n      <td>132</td>\n    </tr>\n    <tr>\n      <th>5</th>\n      <td>50</td>\n      <td>130</td>\n    </tr>\n    <tr>\n      <th>6</th>\n      <td>68</td>\n      <td>118</td>\n    </tr>\n    <tr>\n      <th>7</th>\n      <td>70</td>\n      <td>118</td>\n    </tr>\n    <tr>\n      <th>8</th>\n      <td>55</td>\n      <td>128</td>\n    </tr>\n    <tr>\n      <th>9</th>\n      <td>66</td>\n      <td>115</td>\n    </tr>\n    <tr>\n      <th>10</th>\n      <td>80</td>\n      <td>112</td>\n    </tr>\n    <tr>\n      <th>11</th>\n      <td>85</td>\n      <td>105</td>\n    </tr>\n    <tr>\n      <th>12</th>\n      <td>95</td>\n      <td>128</td>\n    </tr>\n    <tr>\n      <th>13</th>\n      <td>96</td>\n      <td>135</td>\n    </tr>\n    <tr>\n      <th>14</th>\n      <td>108</td>\n      <td>132</td>\n    </tr>\n    <tr>\n      <th>15</th>\n      <td>185</td>\n      <td>205</td>\n    </tr>\n  </tbody>\n</table>\n</div>"
     },
     "execution_count": 125,
     "metadata": {},
     "output_type": "execute_result"
    }
   ],
   "source": [
    "DATA = pd.DataFrame(DATA, columns=['y', 'x'])\n",
    "DATA"
   ],
   "metadata": {
    "collapsed": false,
    "pycharm": {
     "name": "#%%\n"
    }
   }
  },
  {
   "cell_type": "code",
   "execution_count": 126,
   "outputs": [
    {
     "data": {
      "text/plain": "    const   x1     x2     x3\n0     1.0  120    NaN    NaN\n1     1.0  115  120.0    NaN\n2     1.0  116  115.0  120.0\n3     1.0  130  116.0  115.0\n4     1.0  132  130.0  116.0\n5     1.0  130  132.0  130.0\n6     1.0  118  130.0  132.0\n7     1.0  118  118.0  130.0\n8     1.0  128  118.0  118.0\n9     1.0  115  128.0  118.0\n10    1.0  112  115.0  128.0\n11    1.0  105  112.0  115.0\n12    1.0  128  105.0  112.0\n13    1.0  135  128.0  105.0\n14    1.0  132  135.0  128.0\n15    1.0  205  132.0  135.0",
      "text/html": "<div>\n<style scoped>\n    .dataframe tbody tr th:only-of-type {\n        vertical-align: middle;\n    }\n\n    .dataframe tbody tr th {\n        vertical-align: top;\n    }\n\n    .dataframe thead th {\n        text-align: right;\n    }\n</style>\n<table border=\"1\" class=\"dataframe\">\n  <thead>\n    <tr style=\"text-align: right;\">\n      <th></th>\n      <th>const</th>\n      <th>x1</th>\n      <th>x2</th>\n      <th>x3</th>\n    </tr>\n  </thead>\n  <tbody>\n    <tr>\n      <th>0</th>\n      <td>1.0</td>\n      <td>120</td>\n      <td>NaN</td>\n      <td>NaN</td>\n    </tr>\n    <tr>\n      <th>1</th>\n      <td>1.0</td>\n      <td>115</td>\n      <td>120.0</td>\n      <td>NaN</td>\n    </tr>\n    <tr>\n      <th>2</th>\n      <td>1.0</td>\n      <td>116</td>\n      <td>115.0</td>\n      <td>120.0</td>\n    </tr>\n    <tr>\n      <th>3</th>\n      <td>1.0</td>\n      <td>130</td>\n      <td>116.0</td>\n      <td>115.0</td>\n    </tr>\n    <tr>\n      <th>4</th>\n      <td>1.0</td>\n      <td>132</td>\n      <td>130.0</td>\n      <td>116.0</td>\n    </tr>\n    <tr>\n      <th>5</th>\n      <td>1.0</td>\n      <td>130</td>\n      <td>132.0</td>\n      <td>130.0</td>\n    </tr>\n    <tr>\n      <th>6</th>\n      <td>1.0</td>\n      <td>118</td>\n      <td>130.0</td>\n      <td>132.0</td>\n    </tr>\n    <tr>\n      <th>7</th>\n      <td>1.0</td>\n      <td>118</td>\n      <td>118.0</td>\n      <td>130.0</td>\n    </tr>\n    <tr>\n      <th>8</th>\n      <td>1.0</td>\n      <td>128</td>\n      <td>118.0</td>\n      <td>118.0</td>\n    </tr>\n    <tr>\n      <th>9</th>\n      <td>1.0</td>\n      <td>115</td>\n      <td>128.0</td>\n      <td>118.0</td>\n    </tr>\n    <tr>\n      <th>10</th>\n      <td>1.0</td>\n      <td>112</td>\n      <td>115.0</td>\n      <td>128.0</td>\n    </tr>\n    <tr>\n      <th>11</th>\n      <td>1.0</td>\n      <td>105</td>\n      <td>112.0</td>\n      <td>115.0</td>\n    </tr>\n    <tr>\n      <th>12</th>\n      <td>1.0</td>\n      <td>128</td>\n      <td>105.0</td>\n      <td>112.0</td>\n    </tr>\n    <tr>\n      <th>13</th>\n      <td>1.0</td>\n      <td>135</td>\n      <td>128.0</td>\n      <td>105.0</td>\n    </tr>\n    <tr>\n      <th>14</th>\n      <td>1.0</td>\n      <td>132</td>\n      <td>135.0</td>\n      <td>128.0</td>\n    </tr>\n    <tr>\n      <th>15</th>\n      <td>1.0</td>\n      <td>205</td>\n      <td>132.0</td>\n      <td>135.0</td>\n    </tr>\n  </tbody>\n</table>\n</div>"
     },
     "execution_count": 126,
     "metadata": {},
     "output_type": "execute_result"
    }
   ],
   "source": [
    "X = add_constant(pd.concat([\n",
    "    DATA['x'].rename('x1'),\n",
    "    DATA['x'].shift(1).rename('x2'),\n",
    "    DATA['x'].shift(2).rename('x3')\n",
    "], axis=1))\n",
    "y = DATA['y']\n",
    "X"
   ],
   "metadata": {
    "collapsed": false,
    "pycharm": {
     "name": "#%%\n"
    }
   }
  },
  {
   "cell_type": "code",
   "execution_count": 127,
   "outputs": [
    {
     "data": {
      "text/plain": "    const   x1     x2     x3\n2     1.0  116  115.0  120.0\n3     1.0  130  116.0  115.0\n4     1.0  132  130.0  116.0\n5     1.0  130  132.0  130.0\n6     1.0  118  130.0  132.0\n7     1.0  118  118.0  130.0\n8     1.0  128  118.0  118.0\n9     1.0  115  128.0  118.0\n10    1.0  112  115.0  128.0\n11    1.0  105  112.0  115.0\n12    1.0  128  105.0  112.0\n13    1.0  135  128.0  105.0\n14    1.0  132  135.0  128.0",
      "text/html": "<div>\n<style scoped>\n    .dataframe tbody tr th:only-of-type {\n        vertical-align: middle;\n    }\n\n    .dataframe tbody tr th {\n        vertical-align: top;\n    }\n\n    .dataframe thead th {\n        text-align: right;\n    }\n</style>\n<table border=\"1\" class=\"dataframe\">\n  <thead>\n    <tr style=\"text-align: right;\">\n      <th></th>\n      <th>const</th>\n      <th>x1</th>\n      <th>x2</th>\n      <th>x3</th>\n    </tr>\n  </thead>\n  <tbody>\n    <tr>\n      <th>2</th>\n      <td>1.0</td>\n      <td>116</td>\n      <td>115.0</td>\n      <td>120.0</td>\n    </tr>\n    <tr>\n      <th>3</th>\n      <td>1.0</td>\n      <td>130</td>\n      <td>116.0</td>\n      <td>115.0</td>\n    </tr>\n    <tr>\n      <th>4</th>\n      <td>1.0</td>\n      <td>132</td>\n      <td>130.0</td>\n      <td>116.0</td>\n    </tr>\n    <tr>\n      <th>5</th>\n      <td>1.0</td>\n      <td>130</td>\n      <td>132.0</td>\n      <td>130.0</td>\n    </tr>\n    <tr>\n      <th>6</th>\n      <td>1.0</td>\n      <td>118</td>\n      <td>130.0</td>\n      <td>132.0</td>\n    </tr>\n    <tr>\n      <th>7</th>\n      <td>1.0</td>\n      <td>118</td>\n      <td>118.0</td>\n      <td>130.0</td>\n    </tr>\n    <tr>\n      <th>8</th>\n      <td>1.0</td>\n      <td>128</td>\n      <td>118.0</td>\n      <td>118.0</td>\n    </tr>\n    <tr>\n      <th>9</th>\n      <td>1.0</td>\n      <td>115</td>\n      <td>128.0</td>\n      <td>118.0</td>\n    </tr>\n    <tr>\n      <th>10</th>\n      <td>1.0</td>\n      <td>112</td>\n      <td>115.0</td>\n      <td>128.0</td>\n    </tr>\n    <tr>\n      <th>11</th>\n      <td>1.0</td>\n      <td>105</td>\n      <td>112.0</td>\n      <td>115.0</td>\n    </tr>\n    <tr>\n      <th>12</th>\n      <td>1.0</td>\n      <td>128</td>\n      <td>105.0</td>\n      <td>112.0</td>\n    </tr>\n    <tr>\n      <th>13</th>\n      <td>1.0</td>\n      <td>135</td>\n      <td>128.0</td>\n      <td>105.0</td>\n    </tr>\n    <tr>\n      <th>14</th>\n      <td>1.0</td>\n      <td>132</td>\n      <td>135.0</td>\n      <td>128.0</td>\n    </tr>\n  </tbody>\n</table>\n</div>"
     },
     "execution_count": 127,
     "metadata": {},
     "output_type": "execute_result"
    }
   ],
   "source": [
    "X_train, X_test, y_train, y_test = train_test_split(X.dropna(), y.iloc[2:], train_size=0.98, shuffle=False)\n",
    "X_train"
   ],
   "metadata": {
    "collapsed": false,
    "pycharm": {
     "name": "#%%\n"
    }
   }
  },
  {
   "cell_type": "code",
   "execution_count": 128,
   "outputs": [],
   "source": [
    "model = LinearRegression(y_train, X_train)"
   ],
   "metadata": {
    "collapsed": false,
    "pycharm": {
     "name": "#%%\n"
    }
   }
  },
  {
   "cell_type": "code",
   "execution_count": 129,
   "outputs": [
    {
     "name": "stdout",
     "output_type": "stream",
     "text": [
      "                            OLS Regression Results                            \n",
      "==============================================================================\n",
      "Dep. Variable:                      y   R-squared:                       0.036\n",
      "Model:                            OLS   Adj. R-squared:                 -0.285\n",
      "Method:                 Least Squares   F-statistic:                    0.1122\n",
      "Date:                Sat, 18 Dec 2021   Prob (F-statistic):              0.951\n",
      "Time:                        16:31:15   Log-Likelihood:                -55.738\n",
      "No. Observations:                  13   AIC:                             119.5\n",
      "Df Residuals:                       9   BIC:                             121.7\n",
      "Df Model:                           3                                         \n",
      "Covariance Type:            nonrobust                                         \n",
      "==============================================================================\n",
      "                 coef    std err          t      P>|t|      [0.025      0.975]\n",
      "------------------------------------------------------------------------------\n",
      "const        130.9894    139.354      0.940      0.372    -184.252     446.231\n",
      "x1            -0.0782      0.799     -0.098      0.924      -1.887       1.730\n",
      "x2             0.0582      0.829      0.070      0.946      -1.817       1.933\n",
      "x3            -0.4639      0.872     -0.532      0.608      -2.438       1.510\n",
      "==============================================================================\n",
      "Omnibus:                        1.369   Durbin-Watson:                   0.458\n",
      "Prob(Omnibus):                  0.504   Jarque-Bera (JB):                0.987\n",
      "Skew:                           0.617   Prob(JB):                        0.611\n",
      "Kurtosis:                       2.452   Cond. No.                     5.01e+03\n",
      "==============================================================================\n",
      "\n",
      "Notes:\n",
      "[1] Standard Errors assume that the covariance matrix of the errors is correctly specified.\n",
      "[2] The condition number is large, 5.01e+03. This might indicate that there are\n",
      "strong multicollinearity or other numerical problems.\n"
     ]
    },
    {
     "name": "stderr",
     "output_type": "stream",
     "text": [
      "D:\\IT\\Coding\\GitHub Projects\\My-University\\III Курс\\(python) Эконометрика\\venv\\Lib\\site-packages\\scipy\\stats\\stats.py:1541: UserWarning: kurtosistest only valid for n>=20 ... continuing anyway, n=13\n",
      "  warnings.warn(\"kurtosistest only valid for n>=20 ... continuing \"\n"
     ]
    }
   ],
   "source": [
    "print(model.summary())"
   ],
   "metadata": {
    "collapsed": false,
    "pycharm": {
     "name": "#%%\n"
    }
   }
  },
  {
   "cell_type": "code",
   "execution_count": 130,
   "outputs": [
    {
     "data": {
      "text/plain": "<IPython.core.display.Markdown object>",
      "text/markdown": "$ y_i = a + b_{1} x_{i1} + b_{2} x_{i2} + b_{3} x_{i3} + e_i $<br>\n<br>\n$ \\hat{y_i} = \\hat{a} + \\hat{b_{1}} x_{i1} + \\hat{b_{2}} x_{i2} + \\hat{b_{3}} x_{i3} $<br>\n<br>\n$ \\hat{y_i} = 130.989 + -0.078 x_{i1} + 0.058 x_{i2} + -0.464 x_{i3} $<br>\n<br>\n$ S_\\hat{a} = 139.354 $<br>\n$ S_{\\hat{b_{1}}} = 0.799 $<br>\n$ S_{\\hat{b_{2}}} = 0.829 $<br>\n$ S_{\\hat{b_{3}}} = 0.872 $"
     },
     "execution_count": 130,
     "metadata": {},
     "output_type": "execute_result"
    }
   ],
   "source": [
    "general(model)"
   ],
   "metadata": {
    "collapsed": false,
    "pycharm": {
     "name": "#%%\n"
    }
   }
  },
  {
   "cell_type": "code",
   "execution_count": 131,
   "outputs": [
    {
     "data": {
      "text/plain": "<IPython.core.display.Markdown object>",
      "text/markdown": "### Оценка среднеквадратического отклонения возмущений.<br>\n<br>\n$ \\sqrt{\\frac{1}{n - k - 1} \\sum_{i=1}^{n}{(y_i - \\hat{y_i}})^2} $<br>\n<br>\n$ S_{e} = 21.167 $<br>\n$ 30 \\% < 2116.71_{S_{ei}} \\% \\rightarrow $ оценка: <b>0/10</b>.<br>\n<br>\n<br>\n### Коэффициент детерминации.<br>\n<br>\n$ R^2 = 1 - \\frac{\\sum_{i=1}^{n}{(y_i - \\hat{y_i})^2}}{\\sum_{i=1}^{n}{(y_i - \\bar{y})^2}}  = \\frac{\\sum_{i=1}^{n}{(\\hat{y_i} - \\bar{y})^2}}{\\sum_{i=1}^{n}{(y_i - \\bar{y})^2}}  = 1 - \\frac{RSS}{TSS} = \\frac{ESS}{TSS} $<br>\n<br>\n$ R^2 = 0.036 $<br>\n$ 0.5 > 0.036 \\rightarrow $ оценка: <b>0/10</b>.<br>\n<br>\n<br>\n### Средняя относительная ошибка аппроксимации.<br>\n<br>\n$ A = \\frac{1}{n} \\sum_{i=1}^{n}{|\\frac{y_i - \\hat{y_i}}{y_i}|} \\cdot 100 \\% $<br>\n<br>\n$ A = 21.163 $<br>\n$ 15 \\% < 21.163 \\rightarrow $ оценка: <b>0/10</b>."
     },
     "execution_count": 131,
     "metadata": {},
     "output_type": "execute_result"
    }
   ],
   "source": [
    "general_assessment(model)"
   ],
   "metadata": {
    "collapsed": false,
    "pycharm": {
     "name": "#%%\n"
    }
   }
  },
  {
   "cell_type": "code",
   "execution_count": 132,
   "outputs": [
    {
     "data": {
      "text/plain": "<IPython.core.display.Markdown object>",
      "text/markdown": "### F-критерий Фишера.\n<br><br>\n$ H_0: b_1 = ... = b_k = 0, \\\\ H_1: b_1^2 + ... + b_k^2 > 0. $\n<br><br>\n$$ F = \\frac{\\frac{R^2}{k}}{\\frac{1 - R^2}{(n - k - 1)}} $$\n<br><br>\n$ F_{набл} = 0.112 $<br>\n$ p\\text{-}value_F = 0.951 $\n<br><br>\n$ \\alpha = 0.05 $<br>\n$ F_{табл_{0.05}} = 3.048 $\n<br><br>\n$ 0.951 > 0.05 $<br>\n$ p\\text{-}value > \\alpha \\rightarrow $ гипотеза $ H_0 $ <b>принимается</b> - модель в целом <b>незначима</b>."
     },
     "execution_count": 132,
     "metadata": {},
     "output_type": "execute_result"
    }
   ],
   "source": [
    "f_test(model)"
   ],
   "metadata": {
    "collapsed": false,
    "pycharm": {
     "name": "#%%\n"
    }
   }
  },
  {
   "cell_type": "code",
   "execution_count": 133,
   "outputs": [
    {
     "data": {
      "text/plain": "<IPython.core.display.Markdown object>",
      "text/markdown": "### t-критерий Стьюдета для оценки значимости параметров модели.\n<br><br>\n$ H_0: b_i = 0, \\\\ H_1: b_i \\neq 0. $\n<br><br>\n$$ t_{b_i} = \\frac{\\hat{b_i}}{S_{\\hat{b_i}}} $$\n<br><br>\n$ \\alpha = 0.05 $\n<br>\n$ t_{табл_{0.05}} = 2.262 $\n<br>\n\n<br>\n$ t_{a} = 0.940 $, $ p\\text{-}value_{t_{a}} = 0.372 $, $ p\\text{-}value > \\alpha \\rightarrow $гипотеза $ H_0 $ <b>принимается</b> - параметр <b>незначим</b>.<br>$ t_{b_{1}} = -0.098 $, $ p\\text{-}value_{t_{b_{1}}} = 0.924 $, $ p\\text{-}value > \\alpha \\rightarrow $гипотеза $ H_0 $ <b>принимается</b> - параметр <b>незначим</b>.<br>$ t_{b_{2}} = 0.070 $, $ p\\text{-}value_{t_{b_{2}}} = 0.946 $, $ p\\text{-}value > \\alpha \\rightarrow $гипотеза $ H_0 $ <b>принимается</b> - параметр <b>незначим</b>.<br>$ t_{b_{3}} = -0.532 $, $ p\\text{-}value_{t_{b_{3}}} = 0.608 $, $ p\\text{-}value > \\alpha \\rightarrow $гипотеза $ H_0 $ <b>принимается</b> - параметр <b>незначим</b>."
     },
     "execution_count": 133,
     "metadata": {},
     "output_type": "execute_result"
    }
   ],
   "source": [
    "t_test(model)"
   ],
   "metadata": {
    "collapsed": false,
    "pycharm": {
     "name": "#%%\n"
    }
   }
  },
  {
   "cell_type": "markdown",
   "source": [
    "### Интерпретация параметров"
   ],
   "metadata": {
    "collapsed": false,
    "pycharm": {
     "name": "#%% md\n"
    }
   }
  },
  {
   "cell_type": "code",
   "execution_count": 158,
   "outputs": [],
   "source": [
    "# Судя по качеству модели уровень спроса никак не зависит от цены на товар"
   ],
   "metadata": {
    "collapsed": false,
    "pycharm": {
     "name": "#%%\n"
    }
   }
  },
  {
   "cell_type": "markdown",
   "source": [
    "## Предпосылки"
   ],
   "metadata": {
    "collapsed": false,
    "pycharm": {
     "name": "#%% md\n"
    }
   }
  },
  {
   "cell_type": "code",
   "execution_count": 135,
   "outputs": [],
   "source": [
    "resid = model.results.resid"
   ],
   "metadata": {
    "collapsed": false,
    "pycharm": {
     "name": "#%%\n"
    }
   }
  },
  {
   "cell_type": "code",
   "execution_count": 136,
   "outputs": [
    {
     "data": {
      "text/plain": "<IPython.core.display.Markdown object>",
      "text/markdown": "### Критерий Дарбина-Уотсона для тестирования автокорреляции первого порядка.\n<br><br>\n$ H_0: \\rho_1 = 0, \\\\ H_1: \\rho_1 \\neq 0. $\n<br><br>\n$$ DW = \\frac{\\sum_{i=2}^{n}{(e_i - e_{i-1})^2}}{\\sum_{i=1}^{n}{e_i^2}} \\approx 2(1-\\rho_1) $$\n<br><br>\n$ DW = 0.458 $\n<br><br>\n$ 0.458 < 1.5 \\rightarrow $ гипотеза $ H_0 $ <b>отвергается</b> - автокорреляция <b>значительна</b>."
     },
     "execution_count": 136,
     "metadata": {},
     "output_type": "execute_result"
    }
   ],
   "source": [
    "dw_test(model)"
   ],
   "metadata": {
    "collapsed": false,
    "pycharm": {
     "name": "#%%\n"
    }
   }
  },
  {
   "cell_type": "code",
   "execution_count": 137,
   "outputs": [
    {
     "data": {
      "text/plain": "<IPython.core.display.Markdown object>",
      "text/markdown": "### Тест Бройша-Годфри на автокорреляцию.\n<br><br>\n$ H_0: \\rho_1 = \\rho_2 = ... = \\rho_{\\rho} = 0, \\\\ H_1: \\rho_1 \\neq \\rho_2 \\neq ... \\neq \\rho_{\\rho} \\neq 0. $\n<br><br>\n$$ BG = nR^2_{aux} $$\n<br><br>\n"
     },
     "execution_count": 137,
     "metadata": {},
     "output_type": "execute_result"
    }
   ],
   "source": [
    "bg_test(model)"
   ],
   "metadata": {
    "collapsed": false,
    "pycharm": {
     "name": "#%%\n"
    }
   }
  },
  {
   "cell_type": "code",
   "execution_count": 138,
   "outputs": [],
   "source": [
    "bg_critical, bg_pvalue = sm.stats.acorr_breusch_godfrey(model.results, nlags=1)[:2]"
   ],
   "metadata": {
    "collapsed": false,
    "pycharm": {
     "name": "#%%\n"
    }
   }
  },
  {
   "cell_type": "code",
   "execution_count": 161,
   "outputs": [
    {
     "data": {
      "text/plain": "<IPython.core.display.Markdown object>",
      "text/markdown": "\n$ BG = 8.475674222012627 $<br>\n$ p\\text{-}value = 0.0035992695845583696 $<br>\n<br>\n$ 0.004 < 0.05 $<br>\n$ p\\text{-}value < \\alpha \\rightarrow $ гипотеза $ H_0 $ <b>отвергается</b> - автокорреляция <b>присутствует</b>.\n"
     },
     "execution_count": 161,
     "metadata": {},
     "output_type": "execute_result"
    }
   ],
   "source": [
    "Markdown(fr\"\"\"\n",
    "$ BG = {bg_critical} $<br>\n",
    "$ p\\text{{-}}value = {bg_pvalue} $<br>\n",
    "<br>\n",
    "$ {bg_pvalue:.3f} < {0.05} $<br>\n",
    "$ p\\text{{-}}value < \\alpha \\rightarrow $ гипотеза $ H_0 $ <b>отвергается</b> - автокорреляция <b>присутствует</b>.\n",
    "\"\"\")"
   ],
   "metadata": {
    "collapsed": false,
    "pycharm": {
     "name": "#%%\n"
    }
   }
  },
  {
   "cell_type": "code",
   "execution_count": 162,
   "outputs": [],
   "source": [
    "exog = model.results.model.exog\n",
    "endog = model.results.model.endog"
   ],
   "metadata": {
    "collapsed": false,
    "pycharm": {
     "name": "#%%\n"
    }
   }
  },
  {
   "cell_type": "code",
   "execution_count": 163,
   "outputs": [
    {
     "data": {
      "text/plain": "<IPython.core.display.Markdown object>",
      "text/markdown": "\n### Тест Голдфельда-Квандта\n<br><br>\n$\nH_0: S^2 = S_1^2 = ... = S_n^2 , \\\\\nH_1: S_i^2 = ... = S^2 x_{ij}^2 .\n$\n<br><br>\n$ GQ = \\frac{\\sum{e_{i пред. большая}^2}}{\\sum{e_{i пред. меньшая}^2}} $\n"
     },
     "execution_count": 163,
     "metadata": {},
     "output_type": "execute_result"
    }
   ],
   "source": [
    "Markdown(fr\"\"\"\n",
    "### Тест Голдфельда-Квандта\n",
    "<br><br>\n",
    "$\n",
    "H_0: S^2 = S_1^2 = ... = S_n^2 , \\\\\n",
    "H_1: S_i^2 = ... = S^2 x_{{ij}}^2 .\n",
    "$\n",
    "<br><br>\n",
    "$ GQ = \\frac{{\\sum{{e_{{i пред. большая}}^2}}}}{{\\sum{{e_{{i пред. меньшая}}^2}}}} $\n",
    "\"\"\")"
   ],
   "metadata": {
    "collapsed": false,
    "pycharm": {
     "name": "#%%\n"
    }
   }
  },
  {
   "cell_type": "code",
   "execution_count": 164,
   "outputs": [],
   "source": [
    "gq_critical, gq_pvalue = sm.stats.het_goldfeldquandt(endog, exog)[:2]"
   ],
   "metadata": {
    "collapsed": false,
    "pycharm": {
     "name": "#%%\n"
    }
   }
  },
  {
   "cell_type": "code",
   "execution_count": 165,
   "outputs": [
    {
     "data": {
      "text/plain": "<IPython.core.display.Markdown object>",
      "text/markdown": "\n$ GQ = 11.197302847656132 $<br>\n$ p\\text{-}value = 0.04060407967153056 $<br>\n<br>\n$ 0.041 < 0.05 $<br>\n$ p\\text{-}value < \\alpha \\rightarrow $ гипотеза $ H_0 $ <b>отклоняется</b> - гетероскедастичность <b>значима</b>.\n"
     },
     "execution_count": 165,
     "metadata": {},
     "output_type": "execute_result"
    }
   ],
   "source": [
    "Markdown(fr\"\"\"\n",
    "$ GQ = {gq_critical} $<br>\n",
    "$ p\\text{{-}}value = {gq_pvalue} $<br>\n",
    "<br>\n",
    "$ {gq_pvalue:.3f} < {0.05} $<br>\n",
    "$ p\\text{{-}}value < \\alpha \\rightarrow $ гипотеза $ H_0 $ <b>отклоняется</b> - гетероскедастичность <b>значима</b>.\n",
    "\"\"\")"
   ],
   "metadata": {
    "collapsed": false,
    "pycharm": {
     "name": "#%%\n"
    }
   }
  },
  {
   "cell_type": "code",
   "execution_count": 144,
   "outputs": [
    {
     "data": {
      "text/plain": "<IPython.core.display.Markdown object>",
      "text/markdown": "\n### Тест Бреуша-Пагана\n<br><br>\n$\nH_0: S^2 = S_1^2 = ... = S_n^2 , \\\\\nH_1: S_i^2 = ... = S^2 (x_1, ..., x_k).\n$\n<br><br>\n$ BP = ? $\n"
     },
     "execution_count": 144,
     "metadata": {},
     "output_type": "execute_result"
    }
   ],
   "source": [
    "Markdown(fr\"\"\"\n",
    "### Тест Бреуша-Пагана\n",
    "<br><br>\n",
    "$\n",
    "H_0: S^2 = S_1^2 = ... = S_n^2 , \\\\\n",
    "H_1: S_i^2 = ... = S^2 (x_1, ..., x_k).\n",
    "$\n",
    "<br><br>\n",
    "$ BP = ? $\n",
    "\"\"\")"
   ],
   "metadata": {
    "collapsed": false,
    "pycharm": {
     "name": "#%%\n"
    }
   }
  },
  {
   "cell_type": "code",
   "execution_count": 145,
   "outputs": [],
   "source": [
    "bp_critical, bp_pvalue = sm.stats.het_breuschpagan(resid, exog)[2:4]"
   ],
   "metadata": {
    "collapsed": false,
    "pycharm": {
     "name": "#%%\n"
    }
   }
  },
  {
   "cell_type": "code",
   "execution_count": 146,
   "outputs": [
    {
     "data": {
      "text/plain": "<IPython.core.display.Markdown object>",
      "text/markdown": "\n$ BP = 1.654701300269688 $<br>\n$ p\\text{-}value = 0.2451619990832603 $<br>\n<br>\n$ 0.245 > 0.05 $<br>\n$ p\\text{-}value > \\alpha \\rightarrow $ гипотеза $ H_0 $ <b>принимается</b> - гетероскедастичность <b>незначима</b>.\n"
     },
     "execution_count": 146,
     "metadata": {},
     "output_type": "execute_result"
    }
   ],
   "source": [
    "Markdown(fr\"\"\"\n",
    "$ BP = {bp_critical} $<br>\n",
    "$ p\\text{{-}}value = {bp_pvalue} $<br>\n",
    "<br>\n",
    "$ {bp_pvalue:.3f} > {0.05} $<br>\n",
    "$ p\\text{{-}}value > \\alpha \\rightarrow $ гипотеза $ H_0 $ <b>принимается</b> - гетероскедастичность <b>незначима</b>.\n",
    "\"\"\")"
   ],
   "metadata": {
    "collapsed": false,
    "pycharm": {
     "name": "#%%\n"
    }
   }
  },
  {
   "cell_type": "markdown",
   "source": [
    "# Мультипликаторы"
   ],
   "metadata": {
    "collapsed": false,
    "pycharm": {
     "name": "#%% md\n"
    }
   }
  },
  {
   "cell_type": "markdown",
   "source": [
    "### Краткосрочный мультипликатор"
   ],
   "metadata": {
    "collapsed": false,
    "pycharm": {
     "name": "#%% md\n"
    }
   }
  },
  {
   "cell_type": "code",
   "execution_count": 148,
   "outputs": [
    {
     "data": {
      "text/plain": "-0.07816007265481517"
     },
     "execution_count": 148,
     "metadata": {},
     "output_type": "execute_result"
    }
   ],
   "source": [
    "model.params['x1']"
   ],
   "metadata": {
    "collapsed": false,
    "pycharm": {
     "name": "#%%\n"
    }
   }
  },
  {
   "cell_type": "markdown",
   "source": [
    "### Долгосрочный мультипликатор"
   ],
   "metadata": {
    "collapsed": false,
    "pycharm": {
     "name": "#%% md\n"
    }
   }
  },
  {
   "cell_type": "code",
   "execution_count": 152,
   "outputs": [
    {
     "data": {
      "text/plain": "-0.48387635385306416"
     },
     "execution_count": 152,
     "metadata": {},
     "output_type": "execute_result"
    }
   ],
   "source": [
    "model.params[['x1', 'x2', 'x3']].sum()"
   ],
   "metadata": {
    "collapsed": false,
    "pycharm": {
     "name": "#%%\n"
    }
   }
  },
  {
   "cell_type": "markdown",
   "source": [
    "### Средний лаг"
   ],
   "metadata": {
    "collapsed": false,
    "pycharm": {
     "name": "#%% md\n"
    }
   }
  },
  {
   "cell_type": "code",
   "execution_count": 154,
   "outputs": [
    {
     "data": {
      "text/plain": "x1    0.161529\nx2   -0.120287\nx3    0.958758\ndtype: float64"
     },
     "execution_count": 154,
     "metadata": {},
     "output_type": "execute_result"
    }
   ],
   "source": [
    "lag_contrib = model.params[['x1', 'x2', 'x3']] / model.params[['x1', 'x2', 'x3']].sum()\n",
    "lag_contrib"
   ],
   "metadata": {
    "collapsed": false,
    "pycharm": {
     "name": "#%%\n"
    }
   }
  },
  {
   "cell_type": "code",
   "execution_count": 157,
   "outputs": [
    {
     "data": {
      "text/plain": "2.797228640103969"
     },
     "execution_count": 157,
     "metadata": {},
     "output_type": "execute_result"
    }
   ],
   "source": [
    "(lag_contrib * range(1, 4)).sum()"
   ],
   "metadata": {
    "collapsed": false,
    "pycharm": {
     "name": "#%%\n"
    }
   }
  },
  {
   "cell_type": "markdown",
   "source": [
    "## Тест на длинную-короткую регрессию"
   ],
   "metadata": {
    "collapsed": false,
    "pycharm": {
     "name": "#%% md\n"
    }
   }
  },
  {
   "cell_type": "code",
   "execution_count": 96,
   "outputs": [],
   "source": [
    "pairs_model = LinearRegression(y_train, X_train[['x', 'const']])"
   ],
   "metadata": {
    "collapsed": false,
    "pycharm": {
     "name": "#%%\n"
    }
   }
  },
  {
   "cell_type": "code",
   "execution_count": 119,
   "outputs": [
    {
     "name": "stdout",
     "output_type": "stream",
     "text": [
      "                            OLS Regression Results                            \n",
      "==============================================================================\n",
      "Dep. Variable:                      y   R-squared:                       0.036\n",
      "Model:                            OLS   Adj. R-squared:                 -0.285\n",
      "Method:                 Least Squares   F-statistic:                    0.1122\n",
      "Date:                Sat, 18 Dec 2021   Prob (F-statistic):              0.951\n",
      "Time:                        16:29:08   Log-Likelihood:                -55.738\n",
      "No. Observations:                  13   AIC:                             119.5\n",
      "Df Residuals:                       9   BIC:                             121.7\n",
      "Df Model:                           3                                         \n",
      "Covariance Type:            nonrobust                                         \n",
      "==============================================================================\n",
      "                 coef    std err          t      P>|t|      [0.025      0.975]\n",
      "------------------------------------------------------------------------------\n",
      "x             -0.0782      0.799     -0.098      0.924      -1.887       1.730\n",
      "x              0.0582      0.829      0.070      0.946      -1.817       1.933\n",
      "x             -0.4639      0.872     -0.532      0.608      -2.438       1.510\n",
      "const        130.9894    139.354      0.940      0.372    -184.252     446.231\n",
      "==============================================================================\n",
      "Omnibus:                        1.369   Durbin-Watson:                   0.458\n",
      "Prob(Omnibus):                  0.504   Jarque-Bera (JB):                0.987\n",
      "Skew:                           0.617   Prob(JB):                        0.611\n",
      "Kurtosis:                       2.452   Cond. No.                     5.01e+03\n",
      "==============================================================================\n",
      "\n",
      "Notes:\n",
      "[1] Standard Errors assume that the covariance matrix of the errors is correctly specified.\n",
      "[2] The condition number is large, 5.01e+03. This might indicate that there are\n",
      "strong multicollinearity or other numerical problems.\n"
     ]
    },
    {
     "name": "stderr",
     "output_type": "stream",
     "text": [
      "D:\\IT\\Coding\\GitHub Projects\\My-University\\III Курс\\(python) Эконометрика\\venv\\Lib\\site-packages\\scipy\\stats\\stats.py:1541: UserWarning: kurtosistest only valid for n>=20 ... continuing anyway, n=13\n",
      "  warnings.warn(\"kurtosistest only valid for n>=20 ... continuing \"\n"
     ]
    }
   ],
   "source": [
    "print(pairs_model.summary())"
   ],
   "metadata": {
    "collapsed": false,
    "pycharm": {
     "name": "#%%\n"
    }
   }
  },
  {
   "cell_type": "code",
   "execution_count": 99,
   "outputs": [
    {
     "data": {
      "text/plain": "<IPython.core.display.Markdown object>",
      "text/markdown": "\n$\nH_0: b_{k-q+1} = ... = b_k = 0, //\nH_1: b_{k-q+1}^2 = ... = b_k^2 > 0.\n$\n<br><br>\n$ F_{набл} = \\frac{R_{UR}^2 - R_R^2}{1 - R_{UR}^2} \\cdot \\frac{n - m}{q} $<br>\n$ R_{UR}^2 =  $ - коэффициент детерминации для длинной модели регрессии;<br>\n$ R_R^2 =  $ - коэффициент детерминации для короткой модели регрессии;<br>\n$ n $ - кол-во наблюдений;<br>\n$ m $ - кол-во параметров длинной модели;<br>\n$ q $ - кол-во удаляемых факторов.\n"
     },
     "execution_count": 99,
     "metadata": {},
     "output_type": "execute_result"
    }
   ],
   "source": [
    "Markdown(fr\"\"\"\n",
    "$\n",
    "H_0: b_{{k-q+1}} = ... = b_k = 0, //\n",
    "H_1: b_{{k-q+1}}^2 = ... = b_k^2 > 0.\n",
    "$\n",
    "<br><br>\n",
    "$ F_{{набл}} = \\frac{{R_{{UR}}^2 - R_R^2}}{{1 - R_{{UR}}^2}} \\cdot \\frac{{n - m}}{{q}} $<br>\n",
    "$ R_{{UR}}^2 =  $ - коэффициент детерминации для длинной модели регрессии;<br>\n",
    "$ R_R^2 =  $ - коэффициент детерминации для короткой модели регрессии;<br>\n",
    "$ n $ - кол-во наблюдений;<br>\n",
    "$ m $ - кол-во параметров длинной модели;<br>\n",
    "$ q $ - кол-во удаляемых факторов.\n",
    "\"\"\")"
   ],
   "metadata": {
    "collapsed": false,
    "pycharm": {
     "name": "#%%\n"
    }
   }
  },
  {
   "cell_type": "code",
   "execution_count": 107,
   "outputs": [
    {
     "data": {
      "text/plain": "-1.5548576595490327e-15"
     },
     "execution_count": 107,
     "metadata": {},
     "output_type": "execute_result"
    }
   ],
   "source": [
    "rsquared_gt = model.results.rsquared\n",
    "rsquared_lt = pairs_model.results.rsquared\n",
    "n = model.results.nobs\n",
    "m = model.results.df_model + 1\n",
    "q = 2\n",
    "\n",
    "f_value = ((rsquared_gt - rsquared_lt) / (1 - rsquared_gt)) * ((n - m) / q)\n",
    "f_value"
   ],
   "metadata": {
    "collapsed": false,
    "pycharm": {
     "name": "#%%\n"
    }
   }
  },
  {
   "cell_type": "code",
   "execution_count": 113,
   "outputs": [
    {
     "data": {
      "text/plain": "4.25649472909375"
     },
     "execution_count": 113,
     "metadata": {},
     "output_type": "execute_result"
    }
   ],
   "source": [
    "f_critical = stats.f.ppf(1 - ALPHA, q, n - m)\n",
    "f_critical"
   ],
   "metadata": {
    "collapsed": false,
    "pycharm": {
     "name": "#%%\n"
    }
   }
  },
  {
   "cell_type": "code",
   "execution_count": 115,
   "outputs": [
    {
     "data": {
      "text/plain": "<IPython.core.display.Markdown object>",
      "text/markdown": "\n$ -0.000 < 4.256 $<br>\n$ F_{набл} < F_{табл} \\rightarrow $ гипотеза $ H_0 $ принимается -\nкороткая модель предпочтительнее.\n"
     },
     "execution_count": 115,
     "metadata": {},
     "output_type": "execute_result"
    }
   ],
   "source": [
    "Markdown(fr\"\"\"\n",
    "$ {f_value:.3f} < {f_critical:.3f} $<br>\n",
    "$ F_{{набл}} < F_{{табл}} \\rightarrow $ гипотеза $ H_0 $ принимается -\n",
    "короткая модель предпочтительнее.\n",
    "\"\"\")"
   ],
   "metadata": {
    "collapsed": false,
    "pycharm": {
     "name": "#%%\n"
    }
   }
  },
  {
   "cell_type": "markdown",
   "source": [
    "## Адекватность"
   ],
   "metadata": {
    "collapsed": false,
    "pycharm": {
     "name": "#%% md\n"
    }
   }
  },
  {
   "cell_type": "code",
   "execution_count": 116,
   "outputs": [
    {
     "data": {
      "text/plain": "         mean    mean_se  mean_ci_lower  mean_ci_upper  obs_ci_lower  \\\n15  60.020284  67.936385     -93.662496     213.703064   -100.949302   \n\n    obs_ci_upper  \n15     220.98987  ",
      "text/html": "<div>\n<style scoped>\n    .dataframe tbody tr th:only-of-type {\n        vertical-align: middle;\n    }\n\n    .dataframe tbody tr th {\n        vertical-align: top;\n    }\n\n    .dataframe thead th {\n        text-align: right;\n    }\n</style>\n<table border=\"1\" class=\"dataframe\">\n  <thead>\n    <tr style=\"text-align: right;\">\n      <th></th>\n      <th>mean</th>\n      <th>mean_se</th>\n      <th>mean_ci_lower</th>\n      <th>mean_ci_upper</th>\n      <th>obs_ci_lower</th>\n      <th>obs_ci_upper</th>\n    </tr>\n  </thead>\n  <tbody>\n    <tr>\n      <th>15</th>\n      <td>60.020284</td>\n      <td>67.936385</td>\n      <td>-93.662496</td>\n      <td>213.703064</td>\n      <td>-100.949302</td>\n      <td>220.98987</td>\n    </tr>\n  </tbody>\n</table>\n</div>"
     },
     "execution_count": 116,
     "metadata": {},
     "output_type": "execute_result"
    }
   ],
   "source": [
    "y_pred_test_intervals = model.results.get_prediction(X_test).summary_frame(ALPHA)\n",
    "y_pred_test_intervals"
   ],
   "metadata": {
    "collapsed": false,
    "pycharm": {
     "name": "#%%\n"
    }
   }
  },
  {
   "cell_type": "code",
   "execution_count": 117,
   "outputs": [
    {
     "name": "stdout",
     "output_type": "stream",
     "text": [
      "Для среднего\n"
     ]
    },
    {
     "data": {
      "text/plain": "True"
     },
     "execution_count": 117,
     "metadata": {},
     "output_type": "execute_result"
    }
   ],
   "source": [
    "print('Для среднего')\n",
    "all((y_pred_test_intervals['mean_ci_lower'] <= y_test) & (y_test <= y_pred_test_intervals['mean_ci_upper']))  # noqa"
   ],
   "metadata": {
    "collapsed": false,
    "pycharm": {
     "name": "#%%\n"
    }
   }
  },
  {
   "cell_type": "code",
   "execution_count": 118,
   "outputs": [
    {
     "name": "stdout",
     "output_type": "stream",
     "text": [
      "Для индивидуального\n"
     ]
    },
    {
     "data": {
      "text/plain": "True"
     },
     "execution_count": 118,
     "metadata": {},
     "output_type": "execute_result"
    }
   ],
   "source": [
    "print('Для индивидуального')\n",
    "all((y_pred_test_intervals['obs_ci_lower'] <= y_test) & (y_test <= y_pred_test_intervals['obs_ci_upper']))  # noqa"
   ],
   "metadata": {
    "collapsed": false,
    "pycharm": {
     "name": "#%%\n"
    }
   }
  },
  {
   "cell_type": "code",
   "execution_count": null,
   "outputs": [],
   "source": [
    "# модель адекватна"
   ],
   "metadata": {
    "collapsed": false,
    "pycharm": {
     "name": "#%%\n"
    }
   }
  },
  {
   "cell_type": "markdown",
   "source": [
    "# Системы одновременных уравнений"
   ],
   "metadata": {
    "collapsed": false,
    "pycharm": {
     "name": "#%% md\n"
    }
   }
  },
  {
   "cell_type": "code",
   "execution_count": 175,
   "outputs": [],
   "source": [
    "def is_ident(h, d):\n",
    "    if d + 1 == h:\n",
    "        print('Уравнение точно идентифицируемо.')\n",
    "    elif d + 1 < h:\n",
    "        print('Уравнение неидентифицируемо.')\n",
    "    else:\n",
    "        print('Уравнение сверхидентифицируемо')"
   ],
   "metadata": {
    "collapsed": false,
    "pycharm": {
     "name": "#%%\n"
    }
   }
  },
  {
   "cell_type": "markdown",
   "source": [
    "Задание 1\n",
    "<br>\n",
    "$ y_{1t} = a_{12} \\dot y_{2t} + b_{11} \\dot x_{1t} + v_{1t} $ $ (1) $ <br>\n",
    "$ y_{2t} = a_{21} \\dot y_{1t} + b_{22} \\dot x_{2t} + v_{2t} $ $ (2) $\n"
   ],
   "metadata": {
    "collapsed": false,
    "pycharm": {
     "name": "#%% md\n"
    }
   }
  },
  {
   "cell_type": "code",
   "execution_count": 186,
   "outputs": [
    {
     "name": "stdout",
     "output_type": "stream",
     "text": [
      "Уравнение точно идентифицируемо.\n"
     ]
    }
   ],
   "source": [
    "H_y_1 = 2\n",
    "D_x_1 = 1\n",
    "is_ident(H_y_1, D_x_1)"
   ],
   "metadata": {
    "collapsed": false,
    "pycharm": {
     "name": "#%%\n"
    }
   }
  },
  {
   "cell_type": "code",
   "execution_count": 187,
   "outputs": [
    {
     "name": "stdout",
     "output_type": "stream",
     "text": [
      "Уравнение точно идентифицируемо.\n"
     ]
    }
   ],
   "source": [
    "H_y_2 = 2\n",
    "D_x_2 = 1\n",
    "is_ident(H_y_2, D_x_2)"
   ],
   "metadata": {
    "collapsed": false,
    "pycharm": {
     "name": "#%%\n"
    }
   }
  },
  {
   "cell_type": "code",
   "execution_count": 188,
   "outputs": [],
   "source": [
    "# система идентифицируема"
   ],
   "metadata": {
    "collapsed": false,
    "pycharm": {
     "name": "#%%\n"
    }
   }
  },
  {
   "cell_type": "markdown",
   "source": [
    "Задание 2\n",
    "<br>\n",
    "$ Y_{1t} = \\beta_{0} + \\beta_{1} Y_{2t} + \\beta_{2} X_{t} + e_{t} $ $ (1) $ <br>\n",
    "$ Y_{2t} = \\gamma_{0} + \\gamma_{1} Y_{1t} + e_{t} $ $ (2) $ <br>\n",
    "<br>\n",
    "$ \\hat{Y_{1t}} = 2 + 5 X_{t} $ <br>\n",
    "$ \\hat{Y_{2t}} = 1 + 10 X_{t} $<br>\n",
    "$ \\beta_{1} = 0 $"
   ],
   "metadata": {
    "collapsed": false,
    "pycharm": {
     "name": "#%% md\n"
    }
   }
  },
  {
   "cell_type": "code",
   "execution_count": 189,
   "outputs": [
    {
     "name": "stdout",
     "output_type": "stream",
     "text": [
      "Уравнение точно идентифицируемо.\n"
     ]
    }
   ],
   "source": [
    "H_y_1 = 1\n",
    "D_x_1 = 0\n",
    "is_ident(H_y_1, D_x_1)"
   ],
   "metadata": {
    "collapsed": false,
    "pycharm": {
     "name": "#%%\n"
    }
   }
  },
  {
   "cell_type": "code",
   "execution_count": 190,
   "outputs": [
    {
     "name": "stdout",
     "output_type": "stream",
     "text": [
      "Уравнение точно идентифицируемо.\n"
     ]
    }
   ],
   "source": [
    "H_y_1 = 2\n",
    "D_x_1 = 1\n",
    "is_ident(H_y_1, D_x_1)"
   ],
   "metadata": {
    "collapsed": false,
    "pycharm": {
     "name": "#%%\n"
    }
   }
  },
  {
   "cell_type": "code",
   "execution_count": 191,
   "outputs": [],
   "source": [
    "# система идентифицируема"
   ],
   "metadata": {
    "collapsed": false,
    "pycharm": {
     "name": "#%%\n"
    }
   }
  },
  {
   "cell_type": "markdown",
   "source": [],
   "metadata": {
    "collapsed": false,
    "pycharm": {
     "name": "#%% md\n"
    }
   }
  },
  {
   "cell_type": "code",
   "execution_count": null,
   "outputs": [],
   "source": [],
   "metadata": {
    "collapsed": false,
    "pycharm": {
     "name": "#%%\n"
    }
   }
  }
 ],
 "metadata": {
  "kernelspec": {
   "display_name": "Python 3",
   "language": "python",
   "name": "python3"
  },
  "language_info": {
   "codemirror_mode": {
    "name": "ipython",
    "version": 2
   },
   "file_extension": ".py",
   "mimetype": "text/x-python",
   "name": "python",
   "nbconvert_exporter": "python",
   "pygments_lexer": "ipython2",
   "version": "2.7.6"
  }
 },
 "nbformat": 4,
 "nbformat_minor": 0
}