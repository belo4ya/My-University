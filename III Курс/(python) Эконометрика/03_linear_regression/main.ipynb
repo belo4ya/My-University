{
 "cells": [
  {
   "cell_type": "code",
   "execution_count": 4,
   "metadata": {
    "collapsed": true
   },
   "outputs": [],
   "source": [
    "import numpy as np\n",
    "import pandas as pd\n",
    "import statsmodels.api as sm"
   ]
  },
  {
   "cell_type": "code",
   "execution_count": 5,
   "outputs": [],
   "source": [
    "columns = {\n",
    "    'Сводные данные о продаже наличной иностранной '\n",
    "    'валюты кредитными организациями физическим лицам (x1)': 'x1',\n",
    "    'Курс рубля к доллару США (x2)': 'x2',\n",
    "    'Цена нефти марки \"Юралс\" (x3)': 'x3',\n",
    "    'Динамика потребительских цен по группам товаров и услуг '\n",
    "    '(месяц к соответствующему месяцу предыдущего года,%)  (x4)': 'x4',\n",
    "    'Объем денежных накоплений в РФ миллиард руб. (y)': 'y'\n",
    "}"
   ],
   "metadata": {
    "collapsed": false,
    "pycharm": {
     "name": "#%%\n"
    }
   }
  },
  {
   "cell_type": "code",
   "execution_count": 6,
   "outputs": [
    {
     "data": {
      "text/plain": "          y    x1     x2     x3   x4\n0   12345.0  2769  29.67   94.2  9.6\n1   12091.9  3065  28.94  101.1  9.5\n2   12339.7  3899  28.43  111.6  9.5\n3   12450.6  3790  27.50  119.7  9.6\n4   12832.1  3963  28.07  112.0  9.6\n5   12892.1  4224  28.08  112.0  9.4\n6   13224.5  4645  27.68  115.3  9.0\n7   13449.9  4914  28.86  109.6  8.2\n8   13476.8  4830  31.88  112.6  7.2\n9   13588.9  4815  29.90  108.7  7.2\n10  13600.4  4401  31.32  110.9  6.8\n11  13768.5  5189  32.20  108.0  6.1\n12  14796.6  3434  30.36  109.8  4.2\n13  14424.2  5195  28.95  119.2  3.7\n14  14607.3  5401  29.33  123.3  3.7\n15  14688.0  4239  29.36  117.8  3.6\n16  15057.3  4558  32.45  109.2  3.6\n17  15161.0  4675  32.82   93.5  4.3\n18  15534.6  6558  32.19  102.7  5.6\n19  15544.5  6253  32.92  113.5  5.9\n20  15644.4  5410  30.92  112.0  6.6\n21  15717.8  5023  31.53  110.8  6.5",
      "text/html": "<div>\n<style scoped>\n    .dataframe tbody tr th:only-of-type {\n        vertical-align: middle;\n    }\n\n    .dataframe tbody tr th {\n        vertical-align: top;\n    }\n\n    .dataframe thead th {\n        text-align: right;\n    }\n</style>\n<table border=\"1\" class=\"dataframe\">\n  <thead>\n    <tr style=\"text-align: right;\">\n      <th></th>\n      <th>y</th>\n      <th>x1</th>\n      <th>x2</th>\n      <th>x3</th>\n      <th>x4</th>\n    </tr>\n  </thead>\n  <tbody>\n    <tr>\n      <th>0</th>\n      <td>12345.0</td>\n      <td>2769</td>\n      <td>29.67</td>\n      <td>94.2</td>\n      <td>9.6</td>\n    </tr>\n    <tr>\n      <th>1</th>\n      <td>12091.9</td>\n      <td>3065</td>\n      <td>28.94</td>\n      <td>101.1</td>\n      <td>9.5</td>\n    </tr>\n    <tr>\n      <th>2</th>\n      <td>12339.7</td>\n      <td>3899</td>\n      <td>28.43</td>\n      <td>111.6</td>\n      <td>9.5</td>\n    </tr>\n    <tr>\n      <th>3</th>\n      <td>12450.6</td>\n      <td>3790</td>\n      <td>27.50</td>\n      <td>119.7</td>\n      <td>9.6</td>\n    </tr>\n    <tr>\n      <th>4</th>\n      <td>12832.1</td>\n      <td>3963</td>\n      <td>28.07</td>\n      <td>112.0</td>\n      <td>9.6</td>\n    </tr>\n    <tr>\n      <th>5</th>\n      <td>12892.1</td>\n      <td>4224</td>\n      <td>28.08</td>\n      <td>112.0</td>\n      <td>9.4</td>\n    </tr>\n    <tr>\n      <th>6</th>\n      <td>13224.5</td>\n      <td>4645</td>\n      <td>27.68</td>\n      <td>115.3</td>\n      <td>9.0</td>\n    </tr>\n    <tr>\n      <th>7</th>\n      <td>13449.9</td>\n      <td>4914</td>\n      <td>28.86</td>\n      <td>109.6</td>\n      <td>8.2</td>\n    </tr>\n    <tr>\n      <th>8</th>\n      <td>13476.8</td>\n      <td>4830</td>\n      <td>31.88</td>\n      <td>112.6</td>\n      <td>7.2</td>\n    </tr>\n    <tr>\n      <th>9</th>\n      <td>13588.9</td>\n      <td>4815</td>\n      <td>29.90</td>\n      <td>108.7</td>\n      <td>7.2</td>\n    </tr>\n    <tr>\n      <th>10</th>\n      <td>13600.4</td>\n      <td>4401</td>\n      <td>31.32</td>\n      <td>110.9</td>\n      <td>6.8</td>\n    </tr>\n    <tr>\n      <th>11</th>\n      <td>13768.5</td>\n      <td>5189</td>\n      <td>32.20</td>\n      <td>108.0</td>\n      <td>6.1</td>\n    </tr>\n    <tr>\n      <th>12</th>\n      <td>14796.6</td>\n      <td>3434</td>\n      <td>30.36</td>\n      <td>109.8</td>\n      <td>4.2</td>\n    </tr>\n    <tr>\n      <th>13</th>\n      <td>14424.2</td>\n      <td>5195</td>\n      <td>28.95</td>\n      <td>119.2</td>\n      <td>3.7</td>\n    </tr>\n    <tr>\n      <th>14</th>\n      <td>14607.3</td>\n      <td>5401</td>\n      <td>29.33</td>\n      <td>123.3</td>\n      <td>3.7</td>\n    </tr>\n    <tr>\n      <th>15</th>\n      <td>14688.0</td>\n      <td>4239</td>\n      <td>29.36</td>\n      <td>117.8</td>\n      <td>3.6</td>\n    </tr>\n    <tr>\n      <th>16</th>\n      <td>15057.3</td>\n      <td>4558</td>\n      <td>32.45</td>\n      <td>109.2</td>\n      <td>3.6</td>\n    </tr>\n    <tr>\n      <th>17</th>\n      <td>15161.0</td>\n      <td>4675</td>\n      <td>32.82</td>\n      <td>93.5</td>\n      <td>4.3</td>\n    </tr>\n    <tr>\n      <th>18</th>\n      <td>15534.6</td>\n      <td>6558</td>\n      <td>32.19</td>\n      <td>102.7</td>\n      <td>5.6</td>\n    </tr>\n    <tr>\n      <th>19</th>\n      <td>15544.5</td>\n      <td>6253</td>\n      <td>32.92</td>\n      <td>113.5</td>\n      <td>5.9</td>\n    </tr>\n    <tr>\n      <th>20</th>\n      <td>15644.4</td>\n      <td>5410</td>\n      <td>30.92</td>\n      <td>112.0</td>\n      <td>6.6</td>\n    </tr>\n    <tr>\n      <th>21</th>\n      <td>15717.8</td>\n      <td>5023</td>\n      <td>31.53</td>\n      <td>110.8</td>\n      <td>6.5</td>\n    </tr>\n  </tbody>\n</table>\n</div>"
     },
     "execution_count": 6,
     "metadata": {},
     "output_type": "execute_result"
    }
   ],
   "source": [
    "df = pd.read_excel('data/task.xlsx', header=3, usecols=[1, 2, 3, 4, 5])\n",
    "df = df.rename(columns=columns)\n",
    "df"
   ],
   "metadata": {
    "collapsed": false,
    "pycharm": {
     "name": "#%%\n"
    }
   }
  },
  {
   "cell_type": "markdown",
   "source": [
    "## Построение и расчет модели"
   ],
   "metadata": {
    "collapsed": false,
    "pycharm": {
     "name": "#%% md\n"
    }
   }
  },
  {
   "cell_type": "markdown",
   "source": [
    "#### Регрессионная модель\n",
    "\n",
    "$$ y_i = a + b_1 x_{1i} + b_2 x_{2i} + b_3 x_{3i} + b_4 x_{4i} + e_i $$\n",
    "\n",
    "#### Оценочная модель\n",
    "\n",
    "$$ \\hat{y_i} = \\hat{a} + \\hat{b_1} x_{1i} + \\hat{b_2} x_{2i} + \\hat{b_3} x_{3i} + \\hat{b_4} x_{4i} $$"
   ],
   "metadata": {
    "collapsed": false,
    "pycharm": {
     "name": "#%% md\n"
    }
   }
  },
  {
   "cell_type": "markdown",
   "source": [
    "#### Результативный признак"
   ],
   "metadata": {
    "collapsed": false,
    "pycharm": {
     "name": "#%% md\n"
    }
   }
  },
  {
   "cell_type": "code",
   "execution_count": 14,
   "outputs": [
    {
     "data": {
      "text/plain": "0     12345.0\n1     12091.9\n2     12339.7\n3     12450.6\n4     12832.1\n5     12892.1\n6     13224.5\n7     13449.9\n8     13476.8\n9     13588.9\n10    13600.4\n11    13768.5\n12    14796.6\n13    14424.2\n14    14607.3\n15    14688.0\n16    15057.3\n17    15161.0\n18    15534.6\n19    15544.5\n20    15644.4\n21    15717.8\nName: y, dtype: float64"
     },
     "execution_count": 14,
     "metadata": {},
     "output_type": "execute_result"
    }
   ],
   "source": [
    "y = df['y']\n",
    "y"
   ],
   "metadata": {
    "collapsed": false,
    "pycharm": {
     "name": "#%%\n"
    }
   }
  },
  {
   "cell_type": "markdown",
   "source": [
    "#### Факторы модели"
   ],
   "metadata": {
    "collapsed": false,
    "pycharm": {
     "name": "#%% md\n"
    }
   }
  },
  {
   "cell_type": "code",
   "execution_count": 8,
   "outputs": [
    {
     "data": {
      "text/plain": "      x1     x2     x3   x4\n0   2769  29.67   94.2  9.6\n1   3065  28.94  101.1  9.5\n2   3899  28.43  111.6  9.5\n3   3790  27.50  119.7  9.6\n4   3963  28.07  112.0  9.6\n5   4224  28.08  112.0  9.4\n6   4645  27.68  115.3  9.0\n7   4914  28.86  109.6  8.2\n8   4830  31.88  112.6  7.2\n9   4815  29.90  108.7  7.2\n10  4401  31.32  110.9  6.8\n11  5189  32.20  108.0  6.1\n12  3434  30.36  109.8  4.2\n13  5195  28.95  119.2  3.7\n14  5401  29.33  123.3  3.7\n15  4239  29.36  117.8  3.6\n16  4558  32.45  109.2  3.6\n17  4675  32.82   93.5  4.3\n18  6558  32.19  102.7  5.6\n19  6253  32.92  113.5  5.9\n20  5410  30.92  112.0  6.6\n21  5023  31.53  110.8  6.5",
      "text/html": "<div>\n<style scoped>\n    .dataframe tbody tr th:only-of-type {\n        vertical-align: middle;\n    }\n\n    .dataframe tbody tr th {\n        vertical-align: top;\n    }\n\n    .dataframe thead th {\n        text-align: right;\n    }\n</style>\n<table border=\"1\" class=\"dataframe\">\n  <thead>\n    <tr style=\"text-align: right;\">\n      <th></th>\n      <th>x1</th>\n      <th>x2</th>\n      <th>x3</th>\n      <th>x4</th>\n    </tr>\n  </thead>\n  <tbody>\n    <tr>\n      <th>0</th>\n      <td>2769</td>\n      <td>29.67</td>\n      <td>94.2</td>\n      <td>9.6</td>\n    </tr>\n    <tr>\n      <th>1</th>\n      <td>3065</td>\n      <td>28.94</td>\n      <td>101.1</td>\n      <td>9.5</td>\n    </tr>\n    <tr>\n      <th>2</th>\n      <td>3899</td>\n      <td>28.43</td>\n      <td>111.6</td>\n      <td>9.5</td>\n    </tr>\n    <tr>\n      <th>3</th>\n      <td>3790</td>\n      <td>27.50</td>\n      <td>119.7</td>\n      <td>9.6</td>\n    </tr>\n    <tr>\n      <th>4</th>\n      <td>3963</td>\n      <td>28.07</td>\n      <td>112.0</td>\n      <td>9.6</td>\n    </tr>\n    <tr>\n      <th>5</th>\n      <td>4224</td>\n      <td>28.08</td>\n      <td>112.0</td>\n      <td>9.4</td>\n    </tr>\n    <tr>\n      <th>6</th>\n      <td>4645</td>\n      <td>27.68</td>\n      <td>115.3</td>\n      <td>9.0</td>\n    </tr>\n    <tr>\n      <th>7</th>\n      <td>4914</td>\n      <td>28.86</td>\n      <td>109.6</td>\n      <td>8.2</td>\n    </tr>\n    <tr>\n      <th>8</th>\n      <td>4830</td>\n      <td>31.88</td>\n      <td>112.6</td>\n      <td>7.2</td>\n    </tr>\n    <tr>\n      <th>9</th>\n      <td>4815</td>\n      <td>29.90</td>\n      <td>108.7</td>\n      <td>7.2</td>\n    </tr>\n    <tr>\n      <th>10</th>\n      <td>4401</td>\n      <td>31.32</td>\n      <td>110.9</td>\n      <td>6.8</td>\n    </tr>\n    <tr>\n      <th>11</th>\n      <td>5189</td>\n      <td>32.20</td>\n      <td>108.0</td>\n      <td>6.1</td>\n    </tr>\n    <tr>\n      <th>12</th>\n      <td>3434</td>\n      <td>30.36</td>\n      <td>109.8</td>\n      <td>4.2</td>\n    </tr>\n    <tr>\n      <th>13</th>\n      <td>5195</td>\n      <td>28.95</td>\n      <td>119.2</td>\n      <td>3.7</td>\n    </tr>\n    <tr>\n      <th>14</th>\n      <td>5401</td>\n      <td>29.33</td>\n      <td>123.3</td>\n      <td>3.7</td>\n    </tr>\n    <tr>\n      <th>15</th>\n      <td>4239</td>\n      <td>29.36</td>\n      <td>117.8</td>\n      <td>3.6</td>\n    </tr>\n    <tr>\n      <th>16</th>\n      <td>4558</td>\n      <td>32.45</td>\n      <td>109.2</td>\n      <td>3.6</td>\n    </tr>\n    <tr>\n      <th>17</th>\n      <td>4675</td>\n      <td>32.82</td>\n      <td>93.5</td>\n      <td>4.3</td>\n    </tr>\n    <tr>\n      <th>18</th>\n      <td>6558</td>\n      <td>32.19</td>\n      <td>102.7</td>\n      <td>5.6</td>\n    </tr>\n    <tr>\n      <th>19</th>\n      <td>6253</td>\n      <td>32.92</td>\n      <td>113.5</td>\n      <td>5.9</td>\n    </tr>\n    <tr>\n      <th>20</th>\n      <td>5410</td>\n      <td>30.92</td>\n      <td>112.0</td>\n      <td>6.6</td>\n    </tr>\n    <tr>\n      <th>21</th>\n      <td>5023</td>\n      <td>31.53</td>\n      <td>110.8</td>\n      <td>6.5</td>\n    </tr>\n  </tbody>\n</table>\n</div>"
     },
     "execution_count": 8,
     "metadata": {},
     "output_type": "execute_result"
    }
   ],
   "source": [
    "x = df[['x1', 'x2', 'x3', 'x4']]\n",
    "x"
   ],
   "metadata": {
    "collapsed": false,
    "pycharm": {
     "name": "#%%\n"
    }
   }
  },
  {
   "cell_type": "markdown",
   "source": [
    "#### Добавление константы"
   ],
   "metadata": {
    "collapsed": false,
    "pycharm": {
     "name": "#%% md\n"
    }
   }
  },
  {
   "cell_type": "code",
   "execution_count": 15,
   "outputs": [
    {
     "data": {
      "text/plain": "    const    x1     x2     x3   x4\n0     1.0  2769  29.67   94.2  9.6\n1     1.0  3065  28.94  101.1  9.5\n2     1.0  3899  28.43  111.6  9.5\n3     1.0  3790  27.50  119.7  9.6\n4     1.0  3963  28.07  112.0  9.6\n5     1.0  4224  28.08  112.0  9.4\n6     1.0  4645  27.68  115.3  9.0\n7     1.0  4914  28.86  109.6  8.2\n8     1.0  4830  31.88  112.6  7.2\n9     1.0  4815  29.90  108.7  7.2\n10    1.0  4401  31.32  110.9  6.8\n11    1.0  5189  32.20  108.0  6.1\n12    1.0  3434  30.36  109.8  4.2\n13    1.0  5195  28.95  119.2  3.7\n14    1.0  5401  29.33  123.3  3.7\n15    1.0  4239  29.36  117.8  3.6\n16    1.0  4558  32.45  109.2  3.6\n17    1.0  4675  32.82   93.5  4.3\n18    1.0  6558  32.19  102.7  5.6\n19    1.0  6253  32.92  113.5  5.9\n20    1.0  5410  30.92  112.0  6.6\n21    1.0  5023  31.53  110.8  6.5",
      "text/html": "<div>\n<style scoped>\n    .dataframe tbody tr th:only-of-type {\n        vertical-align: middle;\n    }\n\n    .dataframe tbody tr th {\n        vertical-align: top;\n    }\n\n    .dataframe thead th {\n        text-align: right;\n    }\n</style>\n<table border=\"1\" class=\"dataframe\">\n  <thead>\n    <tr style=\"text-align: right;\">\n      <th></th>\n      <th>const</th>\n      <th>x1</th>\n      <th>x2</th>\n      <th>x3</th>\n      <th>x4</th>\n    </tr>\n  </thead>\n  <tbody>\n    <tr>\n      <th>0</th>\n      <td>1.0</td>\n      <td>2769</td>\n      <td>29.67</td>\n      <td>94.2</td>\n      <td>9.6</td>\n    </tr>\n    <tr>\n      <th>1</th>\n      <td>1.0</td>\n      <td>3065</td>\n      <td>28.94</td>\n      <td>101.1</td>\n      <td>9.5</td>\n    </tr>\n    <tr>\n      <th>2</th>\n      <td>1.0</td>\n      <td>3899</td>\n      <td>28.43</td>\n      <td>111.6</td>\n      <td>9.5</td>\n    </tr>\n    <tr>\n      <th>3</th>\n      <td>1.0</td>\n      <td>3790</td>\n      <td>27.50</td>\n      <td>119.7</td>\n      <td>9.6</td>\n    </tr>\n    <tr>\n      <th>4</th>\n      <td>1.0</td>\n      <td>3963</td>\n      <td>28.07</td>\n      <td>112.0</td>\n      <td>9.6</td>\n    </tr>\n    <tr>\n      <th>5</th>\n      <td>1.0</td>\n      <td>4224</td>\n      <td>28.08</td>\n      <td>112.0</td>\n      <td>9.4</td>\n    </tr>\n    <tr>\n      <th>6</th>\n      <td>1.0</td>\n      <td>4645</td>\n      <td>27.68</td>\n      <td>115.3</td>\n      <td>9.0</td>\n    </tr>\n    <tr>\n      <th>7</th>\n      <td>1.0</td>\n      <td>4914</td>\n      <td>28.86</td>\n      <td>109.6</td>\n      <td>8.2</td>\n    </tr>\n    <tr>\n      <th>8</th>\n      <td>1.0</td>\n      <td>4830</td>\n      <td>31.88</td>\n      <td>112.6</td>\n      <td>7.2</td>\n    </tr>\n    <tr>\n      <th>9</th>\n      <td>1.0</td>\n      <td>4815</td>\n      <td>29.90</td>\n      <td>108.7</td>\n      <td>7.2</td>\n    </tr>\n    <tr>\n      <th>10</th>\n      <td>1.0</td>\n      <td>4401</td>\n      <td>31.32</td>\n      <td>110.9</td>\n      <td>6.8</td>\n    </tr>\n    <tr>\n      <th>11</th>\n      <td>1.0</td>\n      <td>5189</td>\n      <td>32.20</td>\n      <td>108.0</td>\n      <td>6.1</td>\n    </tr>\n    <tr>\n      <th>12</th>\n      <td>1.0</td>\n      <td>3434</td>\n      <td>30.36</td>\n      <td>109.8</td>\n      <td>4.2</td>\n    </tr>\n    <tr>\n      <th>13</th>\n      <td>1.0</td>\n      <td>5195</td>\n      <td>28.95</td>\n      <td>119.2</td>\n      <td>3.7</td>\n    </tr>\n    <tr>\n      <th>14</th>\n      <td>1.0</td>\n      <td>5401</td>\n      <td>29.33</td>\n      <td>123.3</td>\n      <td>3.7</td>\n    </tr>\n    <tr>\n      <th>15</th>\n      <td>1.0</td>\n      <td>4239</td>\n      <td>29.36</td>\n      <td>117.8</td>\n      <td>3.6</td>\n    </tr>\n    <tr>\n      <th>16</th>\n      <td>1.0</td>\n      <td>4558</td>\n      <td>32.45</td>\n      <td>109.2</td>\n      <td>3.6</td>\n    </tr>\n    <tr>\n      <th>17</th>\n      <td>1.0</td>\n      <td>4675</td>\n      <td>32.82</td>\n      <td>93.5</td>\n      <td>4.3</td>\n    </tr>\n    <tr>\n      <th>18</th>\n      <td>1.0</td>\n      <td>6558</td>\n      <td>32.19</td>\n      <td>102.7</td>\n      <td>5.6</td>\n    </tr>\n    <tr>\n      <th>19</th>\n      <td>1.0</td>\n      <td>6253</td>\n      <td>32.92</td>\n      <td>113.5</td>\n      <td>5.9</td>\n    </tr>\n    <tr>\n      <th>20</th>\n      <td>1.0</td>\n      <td>5410</td>\n      <td>30.92</td>\n      <td>112.0</td>\n      <td>6.6</td>\n    </tr>\n    <tr>\n      <th>21</th>\n      <td>1.0</td>\n      <td>5023</td>\n      <td>31.53</td>\n      <td>110.8</td>\n      <td>6.5</td>\n    </tr>\n  </tbody>\n</table>\n</div>"
     },
     "execution_count": 15,
     "metadata": {},
     "output_type": "execute_result"
    }
   ],
   "source": [
    "import warnings\n",
    "warnings.filterwarnings('ignore')\n",
    "\n",
    "x = sm.add_constant(x)\n",
    "x"
   ],
   "metadata": {
    "collapsed": false,
    "pycharm": {
     "name": "#%%\n"
    }
   }
  },
  {
   "cell_type": "markdown",
   "source": [
    "#### Применение метода наименьших квадратов\n",
    "\n",
    "$$ \\sum_{i}^{n}{(y_i - \\hat{y_i})^2} \\rightarrow \\min_{n} $$\n",
    "\n",
    "$$ B = (X^T X)^{-1} X^T Y $$"
   ],
   "metadata": {
    "collapsed": false,
    "pycharm": {
     "name": "#%% md\n"
    }
   }
  },
  {
   "cell_type": "code",
   "execution_count": 11,
   "outputs": [],
   "source": [
    "model = sm.OLS(y, x).fit()"
   ],
   "metadata": {
    "collapsed": false,
    "pycharm": {
     "name": "#%%\n"
    }
   }
  },
  {
   "cell_type": "code",
   "execution_count": 12,
   "outputs": [
    {
     "data": {
      "text/plain": "<class 'statsmodels.iolib.summary.Summary'>\n\"\"\"\n                            OLS Regression Results                            \n==============================================================================\nDep. Variable:                      y   R-squared:                       0.806\nModel:                            OLS   Adj. R-squared:                  0.761\nMethod:                 Least Squares   F-statistic:                     17.70\nDate:                Fri, 01 Oct 2021   Prob (F-statistic):           6.83e-06\nTime:                        22:14:44   Log-Likelihood:                -168.61\nNo. Observations:                  22   AIC:                             347.2\nDf Residuals:                      17   BIC:                             352.7\nDf Model:                           4                                         \nCovariance Type:            nonrobust                                         \n==============================================================================\n                 coef    std err          t      P>|t|      [0.025      0.975]\n------------------------------------------------------------------------------\nconst        1.04e+04   6169.698      1.686      0.110   -2616.991    2.34e+04\nx1             0.4838      0.196      2.463      0.025       0.069       0.898\nx2           130.3151    132.126      0.986      0.338    -148.446     409.076\nx3            -6.4678     25.698     -0.252      0.804     -60.686      47.750\nx4          -276.3727     78.946     -3.501      0.003    -442.935    -109.810\n==============================================================================\nOmnibus:                        5.043   Durbin-Watson:                   1.083\nProb(Omnibus):                  0.080   Jarque-Bera (JB):                2.978\nSkew:                           0.808   Prob(JB):                        0.226\nKurtosis:                       3.797   Cond. No.                     2.32e+05\n==============================================================================\n\nNotes:\n[1] Standard Errors assume that the covariance matrix of the errors is correctly specified.\n[2] The condition number is large, 2.32e+05. This might indicate that there are\nstrong multicollinearity or other numerical problems.\n\"\"\"",
      "text/html": "<table class=\"simpletable\">\n<caption>OLS Regression Results</caption>\n<tr>\n  <th>Dep. Variable:</th>            <td>y</td>        <th>  R-squared:         </th> <td>   0.806</td>\n</tr>\n<tr>\n  <th>Model:</th>                   <td>OLS</td>       <th>  Adj. R-squared:    </th> <td>   0.761</td>\n</tr>\n<tr>\n  <th>Method:</th>             <td>Least Squares</td>  <th>  F-statistic:       </th> <td>   17.70</td>\n</tr>\n<tr>\n  <th>Date:</th>             <td>Fri, 01 Oct 2021</td> <th>  Prob (F-statistic):</th> <td>6.83e-06</td>\n</tr>\n<tr>\n  <th>Time:</th>                 <td>22:14:44</td>     <th>  Log-Likelihood:    </th> <td> -168.61</td>\n</tr>\n<tr>\n  <th>No. Observations:</th>      <td>    22</td>      <th>  AIC:               </th> <td>   347.2</td>\n</tr>\n<tr>\n  <th>Df Residuals:</th>          <td>    17</td>      <th>  BIC:               </th> <td>   352.7</td>\n</tr>\n<tr>\n  <th>Df Model:</th>              <td>     4</td>      <th>                     </th>     <td> </td>   \n</tr>\n<tr>\n  <th>Covariance Type:</th>      <td>nonrobust</td>    <th>                     </th>     <td> </td>   \n</tr>\n</table>\n<table class=\"simpletable\">\n<tr>\n    <td></td>       <th>coef</th>     <th>std err</th>      <th>t</th>      <th>P>|t|</th>  <th>[0.025</th>    <th>0.975]</th>  \n</tr>\n<tr>\n  <th>const</th> <td>  1.04e+04</td> <td> 6169.698</td> <td>    1.686</td> <td> 0.110</td> <td>-2616.991</td> <td> 2.34e+04</td>\n</tr>\n<tr>\n  <th>x1</th>    <td>    0.4838</td> <td>    0.196</td> <td>    2.463</td> <td> 0.025</td> <td>    0.069</td> <td>    0.898</td>\n</tr>\n<tr>\n  <th>x2</th>    <td>  130.3151</td> <td>  132.126</td> <td>    0.986</td> <td> 0.338</td> <td> -148.446</td> <td>  409.076</td>\n</tr>\n<tr>\n  <th>x3</th>    <td>   -6.4678</td> <td>   25.698</td> <td>   -0.252</td> <td> 0.804</td> <td>  -60.686</td> <td>   47.750</td>\n</tr>\n<tr>\n  <th>x4</th>    <td> -276.3727</td> <td>   78.946</td> <td>   -3.501</td> <td> 0.003</td> <td> -442.935</td> <td> -109.810</td>\n</tr>\n</table>\n<table class=\"simpletable\">\n<tr>\n  <th>Omnibus:</th>       <td> 5.043</td> <th>  Durbin-Watson:     </th> <td>   1.083</td>\n</tr>\n<tr>\n  <th>Prob(Omnibus):</th> <td> 0.080</td> <th>  Jarque-Bera (JB):  </th> <td>   2.978</td>\n</tr>\n<tr>\n  <th>Skew:</th>          <td> 0.808</td> <th>  Prob(JB):          </th> <td>   0.226</td>\n</tr>\n<tr>\n  <th>Kurtosis:</th>      <td> 3.797</td> <th>  Cond. No.          </th> <td>2.32e+05</td>\n</tr>\n</table><br/><br/>Notes:<br/>[1] Standard Errors assume that the covariance matrix of the errors is correctly specified.<br/>[2] The condition number is large, 2.32e+05. This might indicate that there are<br/>strong multicollinearity or other numerical problems."
     },
     "execution_count": 12,
     "metadata": {},
     "output_type": "execute_result"
    }
   ],
   "source": [
    "model.summary()"
   ],
   "metadata": {
    "collapsed": false,
    "pycharm": {
     "name": "#%%\n"
    }
   }
  },
  {
   "cell_type": "markdown",
   "source": [
    "#### Найденные коэффициенты\n",
    "\n",
    "$$ \\hat{y_i} = 1.04e{-4} + 0.4838 x_{1i} + 130.3151 x_{2i} - 6.4678 x_{3i} - 276.3727 x_{4i} $$"
   ],
   "metadata": {
    "collapsed": false,
    "pycharm": {
     "name": "#%% md\n"
    }
   }
  },
  {
   "cell_type": "markdown",
   "source": [
    "#### Оценки среднеквадратичного отклонения оценок параметров\n",
    "\n",
    "$S_{\\hat{a}} = 6169.698$\n",
    "\n",
    "$S_{\\hat{b_1}} = 0.196$\n",
    "\n",
    "$S_{\\hat{b_2}} = 132.126$\n",
    "\n",
    "$S_{\\hat{b_3}} = 25.698$\n",
    "\n",
    "$S_{\\hat{b_4}} = 78.946$"
   ],
   "metadata": {
    "collapsed": false,
    "pycharm": {
     "name": "#%% md\n"
    }
   }
  },
  {
   "cell_type": "markdown",
   "source": [
    "## Оценка качества модели"
   ],
   "metadata": {
    "collapsed": false,
    "pycharm": {
     "name": "#%% md\n"
    }
   }
  },
  {
   "cell_type": "markdown",
   "source": [
    "**Оценка среднеквадратического отклонения возмущений:** $ S_{ei} = 586.3208 $ - **умеренная**."
   ],
   "metadata": {
    "collapsed": false,
    "pycharm": {
     "name": "#%% md\n"
    }
   }
  },
  {
   "cell_type": "code",
   "execution_count": 16,
   "outputs": [
    {
     "data": {
      "text/plain": "586.3207563508021"
     },
     "execution_count": 16,
     "metadata": {},
     "output_type": "execute_result"
    }
   ],
   "source": [
    "np.sqrt(model.mse_resid)"
   ],
   "metadata": {
    "collapsed": false,
    "pycharm": {
     "name": "#%%\n"
    }
   }
  },
  {
   "cell_type": "markdown",
   "source": [
    "**Коэффициент детерминации:** $R^2 = 0.806$ - доля дисперсии $y$,\n",
    "объясняемая текущей моделью (т.е. объясняющими переменными).\n",
    "\n",
    "$ R^2 > 0.7 $ - качество модели **хорошее**."
   ],
   "metadata": {
    "collapsed": false,
    "pycharm": {
     "name": "#%% md\n"
    }
   }
  },
  {
   "cell_type": "markdown",
   "source": [
    "**Средняя относительная ошибка аппроксимации:** $A = 2.597$.\n",
    "\n",
    "$A < \\{10\\%, 5\\%\\}$ - **отличная** оценка"
   ],
   "metadata": {
    "collapsed": false,
    "pycharm": {
     "name": "#%% md\n"
    }
   }
  },
  {
   "cell_type": "code",
   "execution_count": 17,
   "outputs": [
    {
     "data": {
      "text/plain": "2.5974298012728068"
     },
     "execution_count": 17,
     "metadata": {},
     "output_type": "execute_result"
    }
   ],
   "source": [
    "np.mean(np.abs(model.resid / y)) * 100"
   ],
   "metadata": {
    "collapsed": false,
    "pycharm": {
     "name": "#%%\n"
    }
   }
  },
  {
   "cell_type": "markdown",
   "source": [
    "## Оценка модели на значимость"
   ],
   "metadata": {
    "collapsed": false,
    "pycharm": {
     "name": "#%% md\n"
    }
   }
  },
  {
   "cell_type": "markdown",
   "source": [
    "**F-критерий Фишера:**\n",
    "\n",
    "$$ H_0: b_1 = ... = b_k = 0, \\\\ H_1: b^2_1 + ... + b^2_k > 0. $$\n",
    "\n",
    "$$ F_{набл} = \\frac{\\frac{R^2}{k}}{\\frac{1 - R^2}{(n - k - 1)}} $$\n",
    "\n",
    "$F = 17.7$,\n",
    "\n",
    "$p{-value} = 6.83e{-06} $\n",
    "\n",
    "$p{-value} < \\alpha\\{0.1;0.05;0.01\\}$ - отвергаем гипотезу $H_0$, т.е. модель регрессии в целом значима."
   ],
   "metadata": {
    "collapsed": false,
    "pycharm": {
     "name": "#%% md\n"
    }
   }
  },
  {
   "cell_type": "markdown",
   "source": [
    "## Оценка значимости параметров модели"
   ],
   "metadata": {
    "collapsed": false,
    "pycharm": {
     "name": "#%% md\n"
    }
   }
  },
  {
   "cell_type": "code",
   "execution_count": null,
   "outputs": [],
   "source": [],
   "metadata": {
    "collapsed": false,
    "pycharm": {
     "name": "#%%\n"
    }
   }
  },
  {
   "cell_type": "code",
   "execution_count": null,
   "outputs": [],
   "source": [],
   "metadata": {
    "collapsed": false,
    "pycharm": {
     "name": "#%%\n"
    }
   }
  },
  {
   "cell_type": "code",
   "execution_count": null,
   "outputs": [],
   "source": [],
   "metadata": {
    "collapsed": false,
    "pycharm": {
     "name": "#%%\n"
    }
   }
  },
  {
   "cell_type": "code",
   "execution_count": null,
   "outputs": [],
   "source": [
    "predictions = model.predict(x)\n",
    "predictions\n"
   ],
   "metadata": {
    "collapsed": false,
    "pycharm": {
     "name": "#%%\n"
    }
   }
  }
 ],
 "metadata": {
  "kernelspec": {
   "display_name": "Python 3",
   "language": "python",
   "name": "python3"
  },
  "language_info": {
   "codemirror_mode": {
    "name": "ipython",
    "version": 2
   },
   "file_extension": ".py",
   "mimetype": "text/x-python",
   "name": "python",
   "nbconvert_exporter": "python",
   "pygments_lexer": "ipython2",
   "version": "2.7.6"
  }
 },
 "nbformat": 4,
 "nbformat_minor": 0
}