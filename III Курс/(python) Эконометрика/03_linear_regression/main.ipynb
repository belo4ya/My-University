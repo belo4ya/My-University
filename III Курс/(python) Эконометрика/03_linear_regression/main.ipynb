{
 "cells": [
  {
   "cell_type": "code",
   "execution_count": 5,
   "metadata": {
    "collapsed": true
   },
   "outputs": [],
   "source": [
    "import numpy as np\n",
    "import pandas as pd\n",
    "import statsmodels.api as sm"
   ]
  },
  {
   "cell_type": "code",
   "execution_count": null,
   "outputs": [],
   "source": [
    "columns = {\n",
    "    'Сводные данные о продаже наличной иностранной '\n",
    "    'валюты кредитными организациями физическим лицам (x1)': 'x1',\n",
    "    'Курс рубля к доллару США (x2)': 'x2',\n",
    "    'Цена нефти марки \"Юралс\" (x3)': 'x3',\n",
    "    'Динамика потребительских цен по группам товаров и услуг '\n",
    "    '(месяц к соответствующему месяцу предыдущего года,%)  (x4)': 'x4',\n",
    "    'Объем денежных накоплений в РФ миллиард руб. (y)': 'y'\n",
    "}"
   ],
   "metadata": {
    "collapsed": false,
    "pycharm": {
     "name": "#%%\n"
    }
   }
  },
  {
   "cell_type": "code",
   "execution_count": 6,
   "outputs": [
    {
     "data": {
      "text/plain": "     №  Объем денежных накоплений в РФ миллиард руб. (y)  \\\n0    1                                           12345.0   \n1    2                                           12091.9   \n2    3                                           12339.7   \n3    4                                           12450.6   \n4    5                                           12832.1   \n5    6                                           12892.1   \n6    7                                           13224.5   \n7    8                                           13449.9   \n8    9                                           13476.8   \n9   10                                           13588.9   \n10  11                                           13600.4   \n11  12                                           13768.5   \n12  13                                           14796.6   \n13  14                                           14424.2   \n14  15                                           14607.3   \n15  16                                           14688.0   \n16  17                                           15057.3   \n17  18                                           15161.0   \n18  19                                           15534.6   \n19  20                                           15544.5   \n20  21                                           15644.4   \n21  22                                           15717.8   \n\n    Сводные данные о продаже наличной иностранной валюты кредитными организациями физическим лицам (x1)  \\\n0                                                2769                                                     \n1                                                3065                                                     \n2                                                3899                                                     \n3                                                3790                                                     \n4                                                3963                                                     \n5                                                4224                                                     \n6                                                4645                                                     \n7                                                4914                                                     \n8                                                4830                                                     \n9                                                4815                                                     \n10                                               4401                                                     \n11                                               5189                                                     \n12                                               3434                                                     \n13                                               5195                                                     \n14                                               5401                                                     \n15                                               4239                                                     \n16                                               4558                                                     \n17                                               4675                                                     \n18                                               6558                                                     \n19                                               6253                                                     \n20                                               5410                                                     \n21                                               5023                                                     \n\n    Курс рубля к доллару США (x2)  Цена нефти марки \"Юралс\" (x3)  \\\n0                           29.67                           94.2   \n1                           28.94                          101.1   \n2                           28.43                          111.6   \n3                           27.50                          119.7   \n4                           28.07                          112.0   \n5                           28.08                          112.0   \n6                           27.68                          115.3   \n7                           28.86                          109.6   \n8                           31.88                          112.6   \n9                           29.90                          108.7   \n10                          31.32                          110.9   \n11                          32.20                          108.0   \n12                          30.36                          109.8   \n13                          28.95                          119.2   \n14                          29.33                          123.3   \n15                          29.36                          117.8   \n16                          32.45                          109.2   \n17                          32.82                           93.5   \n18                          32.19                          102.7   \n19                          32.92                          113.5   \n20                          30.92                          112.0   \n21                          31.53                          110.8   \n\n    Динамика потребительских цен по группам товаров и услуг (месяц к соответствующему месяцу предыдущего года,%)  (x4)  \\\n0                                                 9.6                                                                    \n1                                                 9.5                                                                    \n2                                                 9.5                                                                    \n3                                                 9.6                                                                    \n4                                                 9.6                                                                    \n5                                                 9.4                                                                    \n6                                                 9.0                                                                    \n7                                                 8.2                                                                    \n8                                                 7.2                                                                    \n9                                                 7.2                                                                    \n10                                                6.8                                                                    \n11                                                6.1                                                                    \n12                                                4.2                                                                    \n13                                                3.7                                                                    \n14                                                3.7                                                                    \n15                                                3.6                                                                    \n16                                                3.6                                                                    \n17                                                4.3                                                                    \n18                                                5.6                                                                    \n19                                                5.9                                                                    \n20                                                6.6                                                                    \n21                                                6.5                                                                    \n\n    Unnamed: 6  Unnamed: 7                                            Задание  \n0          NaN         NaN  Постройте линейную модель множественной регрес...  \n1          NaN         NaN  Оцените ее качество. Сделайте тесты на значимо...  \n2          NaN         NaN  Постройте парную модель регрессии, для этого в...  \n3          NaN         NaN  Сравните характеристики качества двух моделей....  \n4          NaN         NaN  Для выбранной модели рассчитайте бетта и дельт...  \n5          NaN         NaN          Проинтерпретируйте полученные результаты.  \n6          NaN         NaN                                                NaN  \n7          NaN         NaN                                                NaN  \n8          NaN         NaN                                                NaN  \n9          NaN         NaN                                                NaN  \n10         NaN         NaN                                                NaN  \n11         NaN         NaN                                                NaN  \n12         NaN         NaN                                                NaN  \n13         NaN         NaN                                                NaN  \n14         NaN         NaN                                                NaN  \n15         NaN         NaN                                                NaN  \n16         NaN         NaN                                                NaN  \n17         NaN         NaN                                                NaN  \n18         NaN         NaN                                                NaN  \n19         NaN         NaN                                                NaN  \n20         NaN         NaN                                                NaN  \n21         NaN         NaN                                                NaN  ",
      "text/html": "<div>\n<style scoped>\n    .dataframe tbody tr th:only-of-type {\n        vertical-align: middle;\n    }\n\n    .dataframe tbody tr th {\n        vertical-align: top;\n    }\n\n    .dataframe thead th {\n        text-align: right;\n    }\n</style>\n<table border=\"1\" class=\"dataframe\">\n  <thead>\n    <tr style=\"text-align: right;\">\n      <th></th>\n      <th>№</th>\n      <th>Объем денежных накоплений в РФ миллиард руб. (y)</th>\n      <th>Сводные данные о продаже наличной иностранной валюты кредитными организациями физическим лицам (x1)</th>\n      <th>Курс рубля к доллару США (x2)</th>\n      <th>Цена нефти марки \"Юралс\" (x3)</th>\n      <th>Динамика потребительских цен по группам товаров и услуг (месяц к соответствующему месяцу предыдущего года,%)  (x4)</th>\n      <th>Unnamed: 6</th>\n      <th>Unnamed: 7</th>\n      <th>Задание</th>\n    </tr>\n  </thead>\n  <tbody>\n    <tr>\n      <th>0</th>\n      <td>1</td>\n      <td>12345.0</td>\n      <td>2769</td>\n      <td>29.67</td>\n      <td>94.2</td>\n      <td>9.6</td>\n      <td>NaN</td>\n      <td>NaN</td>\n      <td>Постройте линейную модель множественной регрес...</td>\n    </tr>\n    <tr>\n      <th>1</th>\n      <td>2</td>\n      <td>12091.9</td>\n      <td>3065</td>\n      <td>28.94</td>\n      <td>101.1</td>\n      <td>9.5</td>\n      <td>NaN</td>\n      <td>NaN</td>\n      <td>Оцените ее качество. Сделайте тесты на значимо...</td>\n    </tr>\n    <tr>\n      <th>2</th>\n      <td>3</td>\n      <td>12339.7</td>\n      <td>3899</td>\n      <td>28.43</td>\n      <td>111.6</td>\n      <td>9.5</td>\n      <td>NaN</td>\n      <td>NaN</td>\n      <td>Постройте парную модель регрессии, для этого в...</td>\n    </tr>\n    <tr>\n      <th>3</th>\n      <td>4</td>\n      <td>12450.6</td>\n      <td>3790</td>\n      <td>27.50</td>\n      <td>119.7</td>\n      <td>9.6</td>\n      <td>NaN</td>\n      <td>NaN</td>\n      <td>Сравните характеристики качества двух моделей....</td>\n    </tr>\n    <tr>\n      <th>4</th>\n      <td>5</td>\n      <td>12832.1</td>\n      <td>3963</td>\n      <td>28.07</td>\n      <td>112.0</td>\n      <td>9.6</td>\n      <td>NaN</td>\n      <td>NaN</td>\n      <td>Для выбранной модели рассчитайте бетта и дельт...</td>\n    </tr>\n    <tr>\n      <th>5</th>\n      <td>6</td>\n      <td>12892.1</td>\n      <td>4224</td>\n      <td>28.08</td>\n      <td>112.0</td>\n      <td>9.4</td>\n      <td>NaN</td>\n      <td>NaN</td>\n      <td>Проинтерпретируйте полученные результаты.</td>\n    </tr>\n    <tr>\n      <th>6</th>\n      <td>7</td>\n      <td>13224.5</td>\n      <td>4645</td>\n      <td>27.68</td>\n      <td>115.3</td>\n      <td>9.0</td>\n      <td>NaN</td>\n      <td>NaN</td>\n      <td>NaN</td>\n    </tr>\n    <tr>\n      <th>7</th>\n      <td>8</td>\n      <td>13449.9</td>\n      <td>4914</td>\n      <td>28.86</td>\n      <td>109.6</td>\n      <td>8.2</td>\n      <td>NaN</td>\n      <td>NaN</td>\n      <td>NaN</td>\n    </tr>\n    <tr>\n      <th>8</th>\n      <td>9</td>\n      <td>13476.8</td>\n      <td>4830</td>\n      <td>31.88</td>\n      <td>112.6</td>\n      <td>7.2</td>\n      <td>NaN</td>\n      <td>NaN</td>\n      <td>NaN</td>\n    </tr>\n    <tr>\n      <th>9</th>\n      <td>10</td>\n      <td>13588.9</td>\n      <td>4815</td>\n      <td>29.90</td>\n      <td>108.7</td>\n      <td>7.2</td>\n      <td>NaN</td>\n      <td>NaN</td>\n      <td>NaN</td>\n    </tr>\n    <tr>\n      <th>10</th>\n      <td>11</td>\n      <td>13600.4</td>\n      <td>4401</td>\n      <td>31.32</td>\n      <td>110.9</td>\n      <td>6.8</td>\n      <td>NaN</td>\n      <td>NaN</td>\n      <td>NaN</td>\n    </tr>\n    <tr>\n      <th>11</th>\n      <td>12</td>\n      <td>13768.5</td>\n      <td>5189</td>\n      <td>32.20</td>\n      <td>108.0</td>\n      <td>6.1</td>\n      <td>NaN</td>\n      <td>NaN</td>\n      <td>NaN</td>\n    </tr>\n    <tr>\n      <th>12</th>\n      <td>13</td>\n      <td>14796.6</td>\n      <td>3434</td>\n      <td>30.36</td>\n      <td>109.8</td>\n      <td>4.2</td>\n      <td>NaN</td>\n      <td>NaN</td>\n      <td>NaN</td>\n    </tr>\n    <tr>\n      <th>13</th>\n      <td>14</td>\n      <td>14424.2</td>\n      <td>5195</td>\n      <td>28.95</td>\n      <td>119.2</td>\n      <td>3.7</td>\n      <td>NaN</td>\n      <td>NaN</td>\n      <td>NaN</td>\n    </tr>\n    <tr>\n      <th>14</th>\n      <td>15</td>\n      <td>14607.3</td>\n      <td>5401</td>\n      <td>29.33</td>\n      <td>123.3</td>\n      <td>3.7</td>\n      <td>NaN</td>\n      <td>NaN</td>\n      <td>NaN</td>\n    </tr>\n    <tr>\n      <th>15</th>\n      <td>16</td>\n      <td>14688.0</td>\n      <td>4239</td>\n      <td>29.36</td>\n      <td>117.8</td>\n      <td>3.6</td>\n      <td>NaN</td>\n      <td>NaN</td>\n      <td>NaN</td>\n    </tr>\n    <tr>\n      <th>16</th>\n      <td>17</td>\n      <td>15057.3</td>\n      <td>4558</td>\n      <td>32.45</td>\n      <td>109.2</td>\n      <td>3.6</td>\n      <td>NaN</td>\n      <td>NaN</td>\n      <td>NaN</td>\n    </tr>\n    <tr>\n      <th>17</th>\n      <td>18</td>\n      <td>15161.0</td>\n      <td>4675</td>\n      <td>32.82</td>\n      <td>93.5</td>\n      <td>4.3</td>\n      <td>NaN</td>\n      <td>NaN</td>\n      <td>NaN</td>\n    </tr>\n    <tr>\n      <th>18</th>\n      <td>19</td>\n      <td>15534.6</td>\n      <td>6558</td>\n      <td>32.19</td>\n      <td>102.7</td>\n      <td>5.6</td>\n      <td>NaN</td>\n      <td>NaN</td>\n      <td>NaN</td>\n    </tr>\n    <tr>\n      <th>19</th>\n      <td>20</td>\n      <td>15544.5</td>\n      <td>6253</td>\n      <td>32.92</td>\n      <td>113.5</td>\n      <td>5.9</td>\n      <td>NaN</td>\n      <td>NaN</td>\n      <td>NaN</td>\n    </tr>\n    <tr>\n      <th>20</th>\n      <td>21</td>\n      <td>15644.4</td>\n      <td>5410</td>\n      <td>30.92</td>\n      <td>112.0</td>\n      <td>6.6</td>\n      <td>NaN</td>\n      <td>NaN</td>\n      <td>NaN</td>\n    </tr>\n    <tr>\n      <th>21</th>\n      <td>22</td>\n      <td>15717.8</td>\n      <td>5023</td>\n      <td>31.53</td>\n      <td>110.8</td>\n      <td>6.5</td>\n      <td>NaN</td>\n      <td>NaN</td>\n      <td>NaN</td>\n    </tr>\n  </tbody>\n</table>\n</div>"
     },
     "execution_count": 6,
     "metadata": {},
     "output_type": "execute_result"
    }
   ],
   "source": [
    "df = pd.read_excel('data/data.xlsx', header=3)\n",
    "df = df.rename(columns=columns)"
   ],
   "metadata": {
    "collapsed": false,
    "pycharm": {
     "name": "#%%\n"
    }
   }
  },
  {
   "cell_type": "code",
   "execution_count": 8,
   "outputs": [
    {
     "data": {
      "text/plain": "      x1     x2     x3   x4\n0   2769  29.67   94.2  9.6\n1   3065  28.94  101.1  9.5\n2   3899  28.43  111.6  9.5\n3   3790  27.50  119.7  9.6\n4   3963  28.07  112.0  9.6\n5   4224  28.08  112.0  9.4\n6   4645  27.68  115.3  9.0\n7   4914  28.86  109.6  8.2\n8   4830  31.88  112.6  7.2\n9   4815  29.90  108.7  7.2\n10  4401  31.32  110.9  6.8\n11  5189  32.20  108.0  6.1\n12  3434  30.36  109.8  4.2\n13  5195  28.95  119.2  3.7\n14  5401  29.33  123.3  3.7\n15  4239  29.36  117.8  3.6\n16  4558  32.45  109.2  3.6\n17  4675  32.82   93.5  4.3\n18  6558  32.19  102.7  5.6\n19  6253  32.92  113.5  5.9\n20  5410  30.92  112.0  6.6\n21  5023  31.53  110.8  6.5",
      "text/html": "<div>\n<style scoped>\n    .dataframe tbody tr th:only-of-type {\n        vertical-align: middle;\n    }\n\n    .dataframe tbody tr th {\n        vertical-align: top;\n    }\n\n    .dataframe thead th {\n        text-align: right;\n    }\n</style>\n<table border=\"1\" class=\"dataframe\">\n  <thead>\n    <tr style=\"text-align: right;\">\n      <th></th>\n      <th>x1</th>\n      <th>x2</th>\n      <th>x3</th>\n      <th>x4</th>\n    </tr>\n  </thead>\n  <tbody>\n    <tr>\n      <th>0</th>\n      <td>2769</td>\n      <td>29.67</td>\n      <td>94.2</td>\n      <td>9.6</td>\n    </tr>\n    <tr>\n      <th>1</th>\n      <td>3065</td>\n      <td>28.94</td>\n      <td>101.1</td>\n      <td>9.5</td>\n    </tr>\n    <tr>\n      <th>2</th>\n      <td>3899</td>\n      <td>28.43</td>\n      <td>111.6</td>\n      <td>9.5</td>\n    </tr>\n    <tr>\n      <th>3</th>\n      <td>3790</td>\n      <td>27.50</td>\n      <td>119.7</td>\n      <td>9.6</td>\n    </tr>\n    <tr>\n      <th>4</th>\n      <td>3963</td>\n      <td>28.07</td>\n      <td>112.0</td>\n      <td>9.6</td>\n    </tr>\n    <tr>\n      <th>5</th>\n      <td>4224</td>\n      <td>28.08</td>\n      <td>112.0</td>\n      <td>9.4</td>\n    </tr>\n    <tr>\n      <th>6</th>\n      <td>4645</td>\n      <td>27.68</td>\n      <td>115.3</td>\n      <td>9.0</td>\n    </tr>\n    <tr>\n      <th>7</th>\n      <td>4914</td>\n      <td>28.86</td>\n      <td>109.6</td>\n      <td>8.2</td>\n    </tr>\n    <tr>\n      <th>8</th>\n      <td>4830</td>\n      <td>31.88</td>\n      <td>112.6</td>\n      <td>7.2</td>\n    </tr>\n    <tr>\n      <th>9</th>\n      <td>4815</td>\n      <td>29.90</td>\n      <td>108.7</td>\n      <td>7.2</td>\n    </tr>\n    <tr>\n      <th>10</th>\n      <td>4401</td>\n      <td>31.32</td>\n      <td>110.9</td>\n      <td>6.8</td>\n    </tr>\n    <tr>\n      <th>11</th>\n      <td>5189</td>\n      <td>32.20</td>\n      <td>108.0</td>\n      <td>6.1</td>\n    </tr>\n    <tr>\n      <th>12</th>\n      <td>3434</td>\n      <td>30.36</td>\n      <td>109.8</td>\n      <td>4.2</td>\n    </tr>\n    <tr>\n      <th>13</th>\n      <td>5195</td>\n      <td>28.95</td>\n      <td>119.2</td>\n      <td>3.7</td>\n    </tr>\n    <tr>\n      <th>14</th>\n      <td>5401</td>\n      <td>29.33</td>\n      <td>123.3</td>\n      <td>3.7</td>\n    </tr>\n    <tr>\n      <th>15</th>\n      <td>4239</td>\n      <td>29.36</td>\n      <td>117.8</td>\n      <td>3.6</td>\n    </tr>\n    <tr>\n      <th>16</th>\n      <td>4558</td>\n      <td>32.45</td>\n      <td>109.2</td>\n      <td>3.6</td>\n    </tr>\n    <tr>\n      <th>17</th>\n      <td>4675</td>\n      <td>32.82</td>\n      <td>93.5</td>\n      <td>4.3</td>\n    </tr>\n    <tr>\n      <th>18</th>\n      <td>6558</td>\n      <td>32.19</td>\n      <td>102.7</td>\n      <td>5.6</td>\n    </tr>\n    <tr>\n      <th>19</th>\n      <td>6253</td>\n      <td>32.92</td>\n      <td>113.5</td>\n      <td>5.9</td>\n    </tr>\n    <tr>\n      <th>20</th>\n      <td>5410</td>\n      <td>30.92</td>\n      <td>112.0</td>\n      <td>6.6</td>\n    </tr>\n    <tr>\n      <th>21</th>\n      <td>5023</td>\n      <td>31.53</td>\n      <td>110.8</td>\n      <td>6.5</td>\n    </tr>\n  </tbody>\n</table>\n</div>"
     },
     "execution_count": 8,
     "metadata": {},
     "output_type": "execute_result"
    }
   ],
   "source": [
    "x = df[columns.keys()]\n",
    "x"
   ],
   "metadata": {
    "collapsed": false,
    "pycharm": {
     "name": "#%%\n"
    }
   }
  },
  {
   "cell_type": "code",
   "execution_count": 10,
   "outputs": [
    {
     "data": {
      "text/plain": "0     12345.0\n1     12091.9\n2     12339.7\n3     12450.6\n4     12832.1\n5     12892.1\n6     13224.5\n7     13449.9\n8     13476.8\n9     13588.9\n10    13600.4\n11    13768.5\n12    14796.6\n13    14424.2\n14    14607.3\n15    14688.0\n16    15057.3\n17    15161.0\n18    15534.6\n19    15544.5\n20    15644.4\n21    15717.8\nName: Объем денежных накоплений в РФ миллиард руб. (y), dtype: float64"
     },
     "execution_count": 10,
     "metadata": {},
     "output_type": "execute_result"
    }
   ],
   "source": [
    "y = df['y']\n",
    "y"
   ],
   "metadata": {
    "collapsed": false,
    "pycharm": {
     "name": "#%%\n"
    }
   }
  },
  {
   "cell_type": "markdown",
   "source": [
    "# STATSMODELS"
   ],
   "metadata": {
    "collapsed": false,
    "pycharm": {
     "name": "#%% md\n"
    }
   }
  },
  {
   "cell_type": "code",
   "execution_count": null,
   "outputs": [],
   "source": [
    "x = sm.add_constant(x)"
   ],
   "metadata": {
    "collapsed": false,
    "pycharm": {
     "name": "#%%\n"
    }
   }
  },
  {
   "cell_type": "code",
   "execution_count": null,
   "outputs": [],
   "source": [
    "model = sm.OLS(y, x).fit()"
   ],
   "metadata": {
    "collapsed": false,
    "pycharm": {
     "name": "#%%\n"
    }
   }
  },
  {
   "cell_type": "code",
   "execution_count": null,
   "outputs": [],
   "source": [
    "predictions = model.predict(x)\n",
    "predictions"
   ],
   "metadata": {
    "collapsed": false,
    "pycharm": {
     "name": "#%%\n"
    }
   }
  },
  {
   "cell_type": "code",
   "execution_count": null,
   "outputs": [],
   "source": [
    "model.summary()"
   ],
   "metadata": {
    "collapsed": false,
    "pycharm": {
     "name": "#%%\n"
    }
   }
  },
  {
   "cell_type": "code",
   "execution_count": null,
   "outputs": [],
   "source": [
    "# Se\n",
    "np.sqrt(model.mse_resid)"
   ],
   "metadata": {
    "collapsed": false,
    "pycharm": {
     "name": "#%%\n"
    }
   }
  },
  {
   "cell_type": "code",
   "execution_count": null,
   "outputs": [],
   "source": [
    "# A\n",
    "np.mean(np.abs(model.resid / y['y'])) * 100\n"
   ],
   "metadata": {
    "collapsed": false,
    "pycharm": {
     "name": "#%%\n"
    }
   }
  }
 ],
 "metadata": {
  "kernelspec": {
   "display_name": "Python 3",
   "language": "python",
   "name": "python3"
  },
  "language_info": {
   "codemirror_mode": {
    "name": "ipython",
    "version": 2
   },
   "file_extension": ".py",
   "mimetype": "text/x-python",
   "name": "python",
   "nbconvert_exporter": "python",
   "pygments_lexer": "ipython2",
   "version": "2.7.6"
  }
 },
 "nbformat": 4,
 "nbformat_minor": 0
}