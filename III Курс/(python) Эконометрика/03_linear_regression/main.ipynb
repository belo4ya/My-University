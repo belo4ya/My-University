{
 "cells": [
  {
   "cell_type": "code",
   "execution_count": 116,
   "metadata": {
    "pycharm": {
     "name": "#%%\n"
    }
   },
   "outputs": [
    {
     "name": "stdout",
     "output_type": "stream",
     "text": [
      "The autoreload extension is already loaded. To reload it, use:\n",
      "  %reload_ext autoreload\n",
      "The rpy2.ipython extension is already loaded. To reload it, use:\n",
      "  %reload_ext rpy2.ipython\n"
     ]
    }
   ],
   "source": [
    "%load_ext autoreload\n",
    "%autoreload 2\n",
    "\n",
    "%load_ext rpy2.ipython"
   ]
  },
  {
   "cell_type": "code",
   "execution_count": 117,
   "metadata": {
    "pycharm": {
     "name": "#%%\n"
    }
   },
   "outputs": [],
   "source": [
    "import pandas as pd\n",
    "\n",
    "from src.report import conf_int, t_test, f_test, general, general_assessment, other\n",
    "from src.stats import LinearRegression, add_constant"
   ]
  },
  {
   "cell_type": "markdown",
   "source": [
    "# Считывание данных"
   ],
   "metadata": {
    "collapsed": false,
    "pycharm": {
     "name": "#%% md\n"
    }
   }
  },
  {
   "cell_type": "code",
   "execution_count": 118,
   "metadata": {
    "pycharm": {
     "name": "#%%\n"
    }
   },
   "outputs": [],
   "source": [
    "columns = {\n",
    "    'Сводные данные о продаже наличной иностранной '\n",
    "    'валюты кредитными организациями физическим лицам (x1)': 'x1',\n",
    "    'Курс рубля к доллару США (x2)': 'x2',\n",
    "    'Цена нефти марки \"Юралс\" (x3)': 'x3',\n",
    "    'Динамика потребительских цен по группам товаров и услуг '\n",
    "    '(месяц к соответствующему месяцу предыдущего года,%)  (x4)': 'x4',\n",
    "    'Объем денежных накоплений в РФ миллиард руб. (y)': 'y'\n",
    "}"
   ]
  },
  {
   "cell_type": "code",
   "execution_count": 119,
   "metadata": {
    "pycharm": {
     "name": "#%%\n"
    }
   },
   "outputs": [],
   "source": [
    "df = pd.read_excel('data/task.xlsx', sheet_name='Лист1', header=3, usecols=[1, 2, 3, 4, 5])\n",
    "df = df.rename(columns=columns)"
   ]
  },
  {
   "cell_type": "markdown",
   "source": [
    "# Множественная линейная регрессия"
   ],
   "metadata": {
    "collapsed": false,
    "pycharm": {
     "name": "#%% md\n"
    }
   }
  },
  {
   "cell_type": "markdown",
   "source": [
    "## R"
   ],
   "metadata": {
    "collapsed": false,
    "pycharm": {
     "name": "#%% md\n"
    }
   }
  },
  {
   "cell_type": "code",
   "execution_count": 120,
   "outputs": [],
   "source": [
    "%Rpush df"
   ],
   "metadata": {
    "collapsed": false,
    "pycharm": {
     "name": "#%%\n"
    }
   }
  },
  {
   "cell_type": "code",
   "source": [
    "%%R\n",
    "\n",
    "library(lmtest)\n",
    "\n",
    "m = lm(y ~ 1 + x1 + x2 + x3 + x4, data = df)\n",
    "\n",
    "sm = summary(m)\n",
    "\n",
    "sm"
   ],
   "metadata": {
    "collapsed": false,
    "pycharm": {
     "name": "#%%\n"
    }
   },
   "execution_count": 121,
   "outputs": [
    {
     "name": "stdout",
     "output_type": "stream",
     "text": [
      "\n",
      "Call:\n",
      "lm(formula = y ~ 1 + x1 + x2 + x3 + x4, data = df)\n",
      "\n",
      "Residuals:\n",
      "    Min      1Q  Median      3Q     Max \n",
      "-953.50 -333.93   -9.69  187.71 1292.08 \n",
      "\n",
      "Coefficients:\n",
      "              Estimate Std. Error t value Pr(>|t|)   \n",
      "(Intercept) 10399.9333  6169.6976   1.686  0.11013   \n",
      "x1              0.4838     0.1964   2.463  0.02473 * \n",
      "x2            130.3151   132.1259   0.986  0.33782   \n",
      "x3             -6.4678    25.6981  -0.252  0.80430   \n",
      "x4           -276.3727    78.9464  -3.501  0.00274 **\n",
      "---\n",
      "Signif. codes:  0 '***' 0.001 '**' 0.01 '*' 0.05 '.' 0.1 ' ' 1\n",
      "\n",
      "Residual standard error: 586.3 on 17 degrees of freedom\n",
      "Multiple R-squared:  0.8064,\tAdjusted R-squared:  0.7608 \n",
      "F-statistic:  17.7 on 4 and 17 DF,  p-value: 6.833e-06\n",
      "\n"
     ]
    }
   ]
  },
  {
   "cell_type": "markdown",
   "source": [
    "## Python"
   ],
   "metadata": {
    "collapsed": false,
    "pycharm": {
     "name": "#%% md\n"
    }
   }
  },
  {
   "cell_type": "code",
   "execution_count": 122,
   "outputs": [],
   "source": [
    "y = df['y']\n",
    "multiple_params = ['x1', 'x2', 'x3', 'x4']\n",
    "x = add_constant(df[multiple_params])"
   ],
   "metadata": {
    "collapsed": false,
    "pycharm": {
     "name": "#%%\n"
    }
   }
  },
  {
   "cell_type": "code",
   "execution_count": 123,
   "metadata": {
    "pycharm": {
     "name": "#%%\n"
    }
   },
   "outputs": [],
   "source": [
    "model = LinearRegression(y, x)"
   ]
  },
  {
   "cell_type": "code",
   "execution_count": 124,
   "metadata": {
    "pycharm": {
     "name": "#%%\n"
    }
   },
   "outputs": [
    {
     "name": "stdout",
     "output_type": "stream",
     "text": [
      "                            OLS Regression Results                            \n",
      "==============================================================================\n",
      "Dep. Variable:                      y   R-squared:                       0.806\n",
      "Model:                            OLS   Adj. R-squared:                  0.761\n",
      "Method:                 Least Squares   F-statistic:                     17.70\n",
      "Date:                Sat, 09 Oct 2021   Prob (F-statistic):           6.83e-06\n",
      "Time:                        04:57:24   Log-Likelihood:                -168.61\n",
      "No. Observations:                  22   AIC:                             347.2\n",
      "Df Residuals:                      17   BIC:                             352.7\n",
      "Df Model:                           4                                         \n",
      "Covariance Type:            nonrobust                                         \n",
      "==============================================================================\n",
      "                 coef    std err          t      P>|t|      [0.025      0.975]\n",
      "------------------------------------------------------------------------------\n",
      "const        1.04e+04   6169.698      1.686      0.110   -2616.991    2.34e+04\n",
      "x1             0.4838      0.196      2.463      0.025       0.069       0.898\n",
      "x2           130.3151    132.126      0.986      0.338    -148.446     409.076\n",
      "x3            -6.4678     25.698     -0.252      0.804     -60.686      47.750\n",
      "x4          -276.3727     78.946     -3.501      0.003    -442.935    -109.810\n",
      "==============================================================================\n",
      "Omnibus:                        5.043   Durbin-Watson:                   1.083\n",
      "Prob(Omnibus):                  0.080   Jarque-Bera (JB):                2.978\n",
      "Skew:                           0.808   Prob(JB):                        0.226\n",
      "Kurtosis:                       3.797   Cond. No.                     2.32e+05\n",
      "==============================================================================\n",
      "\n",
      "Notes:\n",
      "[1] Standard Errors assume that the covariance matrix of the errors is correctly specified.\n",
      "[2] The condition number is large, 2.32e+05. This might indicate that there are\n",
      "strong multicollinearity or other numerical problems.\n"
     ]
    }
   ],
   "source": [
    "print(model.summary())"
   ]
  },
  {
   "cell_type": "markdown",
   "metadata": {},
   "source": [
    "## Модель"
   ]
  },
  {
   "cell_type": "code",
   "execution_count": 125,
   "metadata": {
    "pycharm": {
     "name": "#%%\n"
    }
   },
   "outputs": [
    {
     "data": {
      "text/plain": "<IPython.core.display.Markdown object>",
      "text/markdown": "$ y_i = a + b_{1} x_{i1} + b_{2} x_{i2} + b_{3} x_{i3} + b_{4} x_{i4} + e_i $<br>\n<br>\n$ \\hat{y_i} = \\hat{a} + \\hat{b_{1}} x_{i1} + \\hat{b_{2}} x_{i2} + \\hat{b_{3}} x_{i3} + \\hat{b_{4}} x_{i4} $<br>\n<br>\n$ \\hat{y_i} = 10399.933 + 0.484 x_{i1} + 130.315 x_{i2} + -6.468 x_{i3} + -276.373 x_{i4} $<br>\n<br>\n$ S_\\hat{a} = 6169.698 $<br>\n$ S_{\\hat{b_{1}}} = 0.196 $<br>\n$ S_{\\hat{b_{2}}} = 132.126 $<br>\n$ S_{\\hat{b_{3}}} = 25.698 $<br>\n$ S_{\\hat{b_{4}}} = 78.946 $"
     },
     "execution_count": 125,
     "metadata": {},
     "output_type": "execute_result"
    }
   ],
   "source": [
    "general(model)"
   ]
  },
  {
   "cell_type": "markdown",
   "metadata": {
    "pycharm": {
     "name": "#%% md\n"
    }
   },
   "source": [
    "## Общая оценка"
   ]
  },
  {
   "cell_type": "code",
   "execution_count": 126,
   "metadata": {
    "pycharm": {
     "name": "#%%\n"
    }
   },
   "outputs": [
    {
     "data": {
      "text/plain": "<IPython.core.display.Markdown object>",
      "text/markdown": "### Оценка среднеквадратического отклонения возмущений.<br>\n<br>\n$ \\sqrt{\\frac{1}{n - k - 1} \\sum_{i=1}^{n}{(y_i - \\hat{y_i}})^2} $<br>\n<br>\n$ S_{e} = 586.321 $<br>\n$ 2 \\% < 4.20_{S_{ei}} \\% < 5 \\% \\rightarrow $ оценка: <b>8/10</b>.<br>\n<br>\n<br>\n### Коэффициент детерминации.<br>\n<br>\n$ R^2 = 1 - \\frac{\\sum_{i=1}^{n}{(y_i - \\hat{y_i})^2}}{\\sum_{i=1}^{n}{(y_i - \\bar{y})^2}}  = \\frac{\\sum_{i=1}^{n}{(\\hat{y_i} - \\bar{y})^2}}{\\sum_{i=1}^{n}{(y_i - \\bar{y})^2}}  = 1 - \\frac{RSS}{TSS} = \\frac{ESS}{TSS} $<br>\n<br>\n$ R^2 = 0.806 $<br>\n$ 0.8 < 0.806 < 0.9 \\rightarrow $ оценка: <b>8/10</b>.<br>\n<br>\n<br>\n### Средняя относительная ошибка аппроксимации.<br>\n<br>\n$ A = \\frac{1}{n} \\sum_{i=1}^{n}{|\\frac{y_i - \\hat{y_i}}{y_i}|} \\cdot 100 \\% $<br>\n<br>\n$ A = 2.597 $<br>\n$ 2 \\% < 2.597 < 5 \\% \\rightarrow $ оценка: <b>8/10</b>."
     },
     "execution_count": 126,
     "metadata": {},
     "output_type": "execute_result"
    }
   ],
   "source": [
    "general_assessment(model)"
   ]
  },
  {
   "cell_type": "markdown",
   "metadata": {},
   "source": [
    "## Оценка модели на значимость"
   ]
  },
  {
   "cell_type": "code",
   "execution_count": 127,
   "metadata": {
    "pycharm": {
     "name": "#%%\n"
    }
   },
   "outputs": [
    {
     "data": {
      "text/plain": "<IPython.core.display.Markdown object>",
      "text/markdown": "### F-критерий Фишера.\n<br><br>\n$ H_0: b_1 = ... = b_k = 0, \\\\ H_1: b_1^2 + ... + b_k^2 > 0. $\n<br><br>\n$$ F = \\frac{\\frac{R^2}{k}}{\\frac{1 - R^2}{(n - k - 1)}} $$\n<br><br>\n$ F_{набл} = 17.698 $<br>\n$ p\\text{-}value_F = 0.000 $\n<br><br>\n$ \\alpha = 0.05 $<br>\n$ F_{табл_{0.05}} = 2.208 $\n<br><br>\n$ 6.83e-06 < 0.05 $<br>\n$ p\\text{-}value < \\alpha \\rightarrow $ гипотеза $ H_0 $ <b>отвергается</b> - модель в целом <b>значима</b>."
     },
     "execution_count": 127,
     "metadata": {},
     "output_type": "execute_result"
    }
   ],
   "source": [
    "f_test(model)"
   ]
  },
  {
   "cell_type": "markdown",
   "metadata": {
    "pycharm": {
     "name": "#%% md\n"
    }
   },
   "source": [
    "## Оценка значимости параметров модели"
   ]
  },
  {
   "cell_type": "code",
   "execution_count": 128,
   "metadata": {
    "pycharm": {
     "name": "#%%\n"
    }
   },
   "outputs": [
    {
     "data": {
      "text/plain": "<IPython.core.display.Markdown object>",
      "text/markdown": "### t-критерий Стьюдета для оценки значимости параметров модели.\n<br><br>\n$ H_0: b_i = 0, \\\\ H_1: b_i \\neq 0. $\n<br><br>\n$$ t_{b_i} = \\frac{\\hat{b_i}}{S_{\\hat{b_i}}} $$\n<br><br>\n$ \\alpha = 0.05 $\n<br>\n$ t_{табл_{0.05}} = 2.110 $\n<br>\n\n<br>\n$ t_{a} = 1.686 $, $ p\\text{-}value_{t_{a}} = 0.110 $, $ p\\text{-}value > \\alpha \\rightarrow $гипотеза $ H_0 $ <b>принимается</b> - параметр <b>незначим</b>.<br>$ t_{b_{1}} = 2.463 $, $ p\\text{-}value_{t_{b_{1}}} = 0.025 $, $ p\\text{-}value < \\alpha \\rightarrow $гипотеза $ H_0 $ <b>отвергается</b> - параметр <b>значим</b>.<br>$ t_{b_{2}} = 0.986 $, $ p\\text{-}value_{t_{b_{2}}} = 0.338 $, $ p\\text{-}value > \\alpha \\rightarrow $гипотеза $ H_0 $ <b>принимается</b> - параметр <b>незначим</b>.<br>$ t_{b_{3}} = -0.252 $, $ p\\text{-}value_{t_{b_{3}}} = 0.804 $, $ p\\text{-}value > \\alpha \\rightarrow $гипотеза $ H_0 $ <b>принимается</b> - параметр <b>незначим</b>.<br>$ t_{b_{4}} = -3.501 $, $ p\\text{-}value_{t_{b_{4}}} = 0.003 $, $ p\\text{-}value < \\alpha \\rightarrow $гипотеза $ H_0 $ <b>отвергается</b> - параметр <b>значим</b>."
     },
     "execution_count": 128,
     "metadata": {},
     "output_type": "execute_result"
    }
   ],
   "source": [
    "t_test(model)"
   ]
  },
  {
   "cell_type": "markdown",
   "metadata": {
    "pycharm": {
     "name": "#%% md\n"
    }
   },
   "source": [
    "## Доверительные интервалы"
   ]
  },
  {
   "cell_type": "code",
   "execution_count": 129,
   "metadata": {
    "pycharm": {
     "name": "#%%\n"
    }
   },
   "outputs": [
    {
     "data": {
      "text/plain": "<IPython.core.display.Markdown object>",
      "text/markdown": "$ \\hat{b_i} - \\hat{\\sigma} \\cdot t_{табл} \\leq b_i \\leq \\hat{b_i} + \\hat{\\sigma} \\cdot t_{табл} $<br>\n<br>\n$ \\alpha = 0.05 $<br>\n<br>\n$ a : (-2616.991; 23416.857) $<br>\n$ b_{1} : (0.069; 0.898) $<br>\n$ b_{2} : (-148.446; 409.076) $<br>\n$ b_{3} : (-60.686; 47.750) $<br>\n$ b_{4} : (-442.935; -109.810) $"
     },
     "execution_count": 129,
     "metadata": {},
     "output_type": "execute_result"
    }
   ],
   "source": [
    "conf_int(model)"
   ]
  },
  {
   "cell_type": "markdown",
   "source": [
    "## Дополнительные оценки"
   ],
   "metadata": {
    "collapsed": false,
    "pycharm": {
     "name": "#%% md\n"
    }
   }
  },
  {
   "cell_type": "code",
   "execution_count": 130,
   "outputs": [
    {
     "data": {
      "text/plain": "<IPython.core.display.Markdown object>",
      "text/markdown": "### Бета-коэффициенты.<br>\n<br>\n$ \\tilde{b_j} = \\hat{b_j} \\cdot \\frac{S_{x_{ij}}}{S_{y_i}} $<br>\n<br>\n$ \\tilde{b_{1}} = 0.000 $<br>\n$ \\tilde{b_{2}} = 14.363 $<br>\n$ \\tilde{b_{3}} = -0.139 $<br>\n$ \\tilde{b_{4}} = -18.200 $<br>\n<br>\n### Дельта-коэффициенты.<br>\n<br>\n$ \\Delta_j = r_{y_i x_{ij}} \\cdot \\frac{\\hat{b_j}}{R^2} $<br>\n<br>\n$ \\tilde{b_{1}} = 0.421 $<br>\n$ \\tilde{b_{2}} = 111.584 $<br>\n$ \\tilde{b_{3}} = -0.545 $<br>\n$ \\tilde{b_{4}} = 272.419 $<br>\n<br>\n### Коэффициенты эластичности.<br>\n<br>\n$ Э_{j} = \\hat{b_j} \\cdot \\frac{\\bar{x_{ij}}}{\\bar{y_i}} $<br>\n<br>\n$ \\tilde{b_{1}} = 0.159 $<br>\n$ \\tilde{b_{2}} = 0.281 $<br>\n$ \\tilde{b_{3}} = -0.051 $<br>\n$ \\tilde{b_{4}} = -0.134 $"
     },
     "execution_count": 130,
     "metadata": {},
     "output_type": "execute_result"
    }
   ],
   "source": [
    "other(model)"
   ],
   "metadata": {
    "collapsed": false,
    "pycharm": {
     "name": "#%%\n"
    }
   }
  },
  {
   "cell_type": "markdown",
   "metadata": {
    "pycharm": {
     "name": "#%% md\n"
    }
   },
   "source": [
    "## Интерпретация параметров"
   ]
  },
  {
   "cell_type": "markdown",
   "source": [
    "Линейная зависимость **объема денежных накоплений в РФ**:\n",
    "- коэффициент 0.4838 означает, что каждая единица **продажи наличной иностранной\n",
    "  валюты кредитными организациями физическим лицам** увеличивает **объема денежных\n",
    "  накоплений в РФ** на 0.4838 каких-то единиц денег.\n",
    "- коэффициент 130.3151 означает, что рост **курса рубля к доллару США** очень сильно\n",
    "  увеличивает **объем денежных накоплений в РФ**.\n",
    "- коэффициент -6.4678 означает, что рост **цены нефти марки \"Юралс\"** негативно влияет на\n",
    "  **объем денежных накоплений в РФ**.\n",
    "- коэффициент -276.3727 означает, что положительная **динамика потребительских цен по\n",
    "  группам товаров и услуг (месяц к соответствующему месяцу предыдущего года)** значительно\n",
    "  снижает **объем денежных накоплений в РФ**.\n",
    "- константа 10400 означает что при полном 'отсутствии экономики' у РФ есть **объема денежных накоплений в РФ** в\n",
    "  размере 10400 млрд. руб."
   ],
   "metadata": {
    "collapsed": false,
    "pycharm": {
     "name": "#%% md\n"
    }
   }
  },
  {
   "cell_type": "markdown",
   "source": [
    "# Парная линейная регрессия"
   ],
   "metadata": {
    "collapsed": false,
    "pycharm": {
     "name": "#%% md\n"
    }
   }
  },
  {
   "cell_type": "markdown",
   "source": [
    "## R"
   ],
   "metadata": {
    "collapsed": false,
    "pycharm": {
     "name": "#%% md\n"
    }
   }
  },
  {
   "cell_type": "code",
   "execution_count": 131,
   "outputs": [],
   "source": [
    "%Rpush df"
   ],
   "metadata": {
    "collapsed": false,
    "pycharm": {
     "name": "#%%\n"
    }
   }
  },
  {
   "cell_type": "code",
   "execution_count": 132,
   "outputs": [
    {
     "name": "stdout",
     "output_type": "stream",
     "text": [
      "\n",
      "Call:\n",
      "lm(formula = y ~ 1 + x4, data = df)\n",
      "\n",
      "Residuals:\n",
      "   Min     1Q Median     3Q    Max \n",
      "-842.4 -473.1 -255.5  129.7 1630.0 \n",
      "\n",
      "Coefficients:\n",
      "            Estimate Std. Error t value Pr(>|t|)    \n",
      "(Intercept) 16824.41     513.34  32.774  < 2e-16 ***\n",
      "x4           -421.02      71.88  -5.857 9.92e-06 ***\n",
      "---\n",
      "Signif. codes:  0 '***' 0.001 '**' 0.01 '*' 0.05 '.' 0.1 ' ' 1\n",
      "\n",
      "Residual standard error: 745.5 on 20 degrees of freedom\n",
      "Multiple R-squared:  0.6317,\tAdjusted R-squared:  0.6133 \n",
      "F-statistic: 34.31 on 1 and 20 DF,  p-value: 9.917e-06\n",
      "\n"
     ]
    }
   ],
   "source": [
    "%%R\n",
    "\n",
    "library(lmtest)\n",
    "\n",
    "m = lm(y ~ 1 + x4, data = df)\n",
    "\n",
    "sm = summary(m)\n",
    "\n",
    "sm"
   ],
   "metadata": {
    "collapsed": false,
    "pycharm": {
     "name": "#%%\n"
    }
   }
  },
  {
   "cell_type": "markdown",
   "source": [
    "## Python"
   ],
   "metadata": {
    "collapsed": false
   }
  },
  {
   "cell_type": "code",
   "execution_count": 133,
   "outputs": [],
   "source": [
    "y = df['y']\n",
    "param = ['x4']\n",
    "x = add_constant(df[param])"
   ],
   "metadata": {
    "collapsed": false,
    "pycharm": {
     "name": "#%%\n"
    }
   }
  },
  {
   "cell_type": "code",
   "execution_count": 134,
   "outputs": [],
   "source": [
    "model = LinearRegression(y, x)"
   ],
   "metadata": {
    "collapsed": false,
    "pycharm": {
     "name": "#%%\n"
    }
   }
  },
  {
   "cell_type": "code",
   "execution_count": 135,
   "outputs": [
    {
     "name": "stdout",
     "output_type": "stream",
     "text": [
      "                            OLS Regression Results                            \n",
      "==============================================================================\n",
      "Dep. Variable:                      y   R-squared:                       0.632\n",
      "Model:                            OLS   Adj. R-squared:                  0.613\n",
      "Method:                 Least Squares   F-statistic:                     34.31\n",
      "Date:                Sat, 09 Oct 2021   Prob (F-statistic):           9.92e-06\n",
      "Time:                        04:57:26   Log-Likelihood:                -175.68\n",
      "No. Observations:                  22   AIC:                             355.4\n",
      "Df Residuals:                      20   BIC:                             357.5\n",
      "Df Model:                           1                                         \n",
      "Covariance Type:            nonrobust                                         \n",
      "==============================================================================\n",
      "                 coef    std err          t      P>|t|      [0.025      0.975]\n",
      "------------------------------------------------------------------------------\n",
      "const       1.682e+04    513.342     32.774      0.000    1.58e+04    1.79e+04\n",
      "x4          -421.0240     71.878     -5.857      0.000    -570.960    -271.088\n",
      "==============================================================================\n",
      "Omnibus:                        6.839   Durbin-Watson:                   0.208\n",
      "Prob(Omnibus):                  0.033   Jarque-Bera (JB):                5.260\n",
      "Skew:                           1.190   Prob(JB):                       0.0721\n",
      "Kurtosis:                       3.264   Cond. No.                         23.5\n",
      "==============================================================================\n",
      "\n",
      "Notes:\n",
      "[1] Standard Errors assume that the covariance matrix of the errors is correctly specified.\n"
     ]
    }
   ],
   "source": [
    "print(model.summary())"
   ],
   "metadata": {
    "collapsed": false,
    "pycharm": {
     "name": "#%%\n"
    }
   }
  },
  {
   "cell_type": "markdown",
   "source": [
    "## Модель"
   ],
   "metadata": {
    "collapsed": false
   }
  },
  {
   "cell_type": "code",
   "execution_count": 136,
   "outputs": [
    {
     "data": {
      "text/plain": "<IPython.core.display.Markdown object>",
      "text/markdown": "$ y_i = a + b_{1} x_{i1} + e_i $<br>\n<br>\n$ \\hat{y_i} = \\hat{a} + \\hat{b_{1}} x_{i1} $<br>\n<br>\n$ \\hat{y_i} = 16824.413 + -421.024 x_{i1} $<br>\n<br>\n$ S_\\hat{a} = 513.342 $<br>\n$ S_{\\hat{b_{1}}} = 71.878 $"
     },
     "execution_count": 136,
     "metadata": {},
     "output_type": "execute_result"
    }
   ],
   "source": [
    "general(model)"
   ],
   "metadata": {
    "collapsed": false,
    "pycharm": {
     "name": "#%%\n"
    }
   }
  },
  {
   "cell_type": "markdown",
   "source": [
    "## Общая оценка"
   ],
   "metadata": {
    "collapsed": false
   }
  },
  {
   "cell_type": "code",
   "execution_count": 137,
   "outputs": [
    {
     "data": {
      "text/plain": "<IPython.core.display.Markdown object>",
      "text/markdown": "### Оценка среднеквадратического отклонения возмущений.<br>\n<br>\n$ \\sqrt{\\frac{1}{n - k - 1} \\sum_{i=1}^{n}{(y_i - \\hat{y_i}})^2} $<br>\n<br>\n$ S_{e} = 745.453 $<br>\n$ 5 \\% < 5.34_{S_{ei}} \\% < 10 \\% \\rightarrow $ оценка: <b>7.5/10</b>.<br>\n<br>\n<br>\n### Коэффициент детерминации.<br>\n<br>\n$ R^2 = 1 - \\frac{\\sum_{i=1}^{n}{(y_i - \\hat{y_i})^2}}{\\sum_{i=1}^{n}{(y_i - \\bar{y})^2}}  = \\frac{\\sum_{i=1}^{n}{(\\hat{y_i} - \\bar{y})^2}}{\\sum_{i=1}^{n}{(y_i - \\bar{y})^2}}  = 1 - \\frac{RSS}{TSS} = \\frac{ESS}{TSS} $<br>\n<br>\n$ R^2 = 0.632 $<br>\n$ 0.5 < 0.632 < 0.7 \\rightarrow $ оценка: <b>3/10</b>.<br>\n<br>\n<br>\n### Средняя относительная ошибка аппроксимации.<br>\n<br>\n$ A = \\frac{1}{n} \\sum_{i=1}^{n}{|\\frac{y_i - \\hat{y_i}}{y_i}|} \\cdot 100 \\% $<br>\n<br>\n$ A = 3.774 $<br>\n$ 2 \\% < 3.774 < 5 \\% \\rightarrow $ оценка: <b>8/10</b>."
     },
     "execution_count": 137,
     "metadata": {},
     "output_type": "execute_result"
    }
   ],
   "source": [
    "general_assessment(model)"
   ],
   "metadata": {
    "collapsed": false,
    "pycharm": {
     "name": "#%%\n"
    }
   }
  },
  {
   "cell_type": "markdown",
   "source": [
    "## Оценка модели на значимость"
   ],
   "metadata": {
    "collapsed": false
   }
  },
  {
   "cell_type": "code",
   "execution_count": 138,
   "outputs": [
    {
     "data": {
      "text/plain": "<IPython.core.display.Markdown object>",
      "text/markdown": "### F-критерий Фишера.\n<br><br>\n$ H_0: b_1 = ... = b_k = 0, \\\\ H_1: b_1^2 + ... + b_k^2 > 0. $\n<br><br>\n$$ F = \\frac{\\frac{R^2}{k}}{\\frac{1 - R^2}{(n - k - 1)}} $$\n<br><br>\n$ F_{набл} = 34.310 $<br>\n$ p\\text{-}value_F = 0.000 $\n<br><br>\n$ \\alpha = 0.05 $<br>\n$ F_{табл_{0.05}} = 2.102 $\n<br><br>\n$ 9.92e-06 < 0.05 $<br>\n$ p\\text{-}value < \\alpha \\rightarrow $ гипотеза $ H_0 $ <b>отвергается</b> - модель в целом <b>значима</b>."
     },
     "execution_count": 138,
     "metadata": {},
     "output_type": "execute_result"
    }
   ],
   "source": [
    "f_test(model)"
   ],
   "metadata": {
    "collapsed": false,
    "pycharm": {
     "name": "#%%\n"
    }
   }
  },
  {
   "cell_type": "markdown",
   "source": [
    "## Оценка значимости параметров модели"
   ],
   "metadata": {
    "collapsed": false
   }
  },
  {
   "cell_type": "code",
   "execution_count": 139,
   "outputs": [
    {
     "data": {
      "text/plain": "<IPython.core.display.Markdown object>",
      "text/markdown": "### t-критерий Стьюдета для оценки значимости параметров модели.\n<br><br>\n$ H_0: b_i = 0, \\\\ H_1: b_i \\neq 0. $\n<br><br>\n$$ t_{b_i} = \\frac{\\hat{b_i}}{S_{\\hat{b_i}}} $$\n<br><br>\n$ \\alpha = 0.05 $\n<br>\n$ t_{табл_{0.05}} = 2.086 $\n<br>\n\n<br>\n$ t_{a} = 32.774 $, $ p\\text{-}value_{t_{a}} = 0.000 $, $ p\\text{-}value < \\alpha \\rightarrow $гипотеза $ H_0 $ <b>отвергается</b> - параметр <b>значим</b>.<br>$ t_{b_{1}} = -5.857 $, $ p\\text{-}value_{t_{b_{1}}} = 0.000 $, $ p\\text{-}value < \\alpha \\rightarrow $гипотеза $ H_0 $ <b>отвергается</b> - параметр <b>значим</b>."
     },
     "execution_count": 139,
     "metadata": {},
     "output_type": "execute_result"
    }
   ],
   "source": [
    "t_test(model)"
   ],
   "metadata": {
    "collapsed": false,
    "pycharm": {
     "name": "#%%\n"
    }
   }
  },
  {
   "cell_type": "markdown",
   "source": [
    "## Доверительные интервалы"
   ],
   "metadata": {
    "collapsed": false
   }
  },
  {
   "cell_type": "code",
   "execution_count": 140,
   "outputs": [
    {
     "data": {
      "text/plain": "<IPython.core.display.Markdown object>",
      "text/markdown": "$ \\hat{b_i} - \\hat{\\sigma} \\cdot t_{табл} \\leq b_i \\leq \\hat{b_i} + \\hat{\\sigma} \\cdot t_{табл} $<br>\n<br>\n$ \\alpha = 0.05 $<br>\n<br>\n$ a : (15753.601; 17895.225) $<br>\n$ b_{1} : (-570.960; -271.088) $"
     },
     "execution_count": 140,
     "metadata": {},
     "output_type": "execute_result"
    }
   ],
   "source": [
    "conf_int(model)"
   ],
   "metadata": {
    "collapsed": false,
    "pycharm": {
     "name": "#%%\n"
    }
   }
  },
  {
   "cell_type": "markdown",
   "source": [
    "## Дополнительные оценки"
   ],
   "metadata": {
    "collapsed": false
   }
  },
  {
   "cell_type": "code",
   "execution_count": 141,
   "outputs": [
    {
     "data": {
      "text/plain": "<IPython.core.display.Markdown object>",
      "text/markdown": "### Бета-коэффициенты.<br>\n<br>\n$ \\tilde{b_j} = \\hat{b_j} \\cdot \\frac{S_{x_{ij}}}{S_{y_i}} $<br>\n<br>\n$ \\tilde{b_{1}} = -25.244 $<br>\n<br>\n### Дельта-коэффициенты.<br>\n<br>\n$ \\Delta_j = r_{y_i x_{ij}} \\cdot \\frac{\\hat{b_j}}{R^2} $<br>\n<br>\n$ \\tilde{b_{1}} = 529.709 $<br>\n<br>\n### Коэффициенты эластичности.<br>\n<br>\n$ Э_{j} = \\hat{b_j} \\cdot \\frac{\\bar{x_{ij}}}{\\bar{y_i}} $<br>\n<br>\n$ \\tilde{b_{1}} = -0.205 $"
     },
     "execution_count": 141,
     "metadata": {},
     "output_type": "execute_result"
    }
   ],
   "source": [
    "other(model)"
   ],
   "metadata": {
    "collapsed": false,
    "pycharm": {
     "name": "#%%\n"
    }
   }
  },
  {
   "cell_type": "code",
   "execution_count": 141,
   "outputs": [],
   "source": [],
   "metadata": {
    "collapsed": false,
    "pycharm": {
     "name": "#%%\n"
    }
   }
  }
 ],
 "metadata": {
  "kernelspec": {
   "display_name": "Python 3 (ipykernel)",
   "language": "python",
   "name": "python3"
  },
  "language_info": {
   "codemirror_mode": {
    "name": "ipython",
    "version": 3
   },
   "file_extension": ".py",
   "mimetype": "text/x-python",
   "name": "python",
   "nbconvert_exporter": "python",
   "pygments_lexer": "ipython3",
   "version": "3.9.7"
  }
 },
 "nbformat": 4,
 "nbformat_minor": 1
}