{
 "cells": [
  {
   "cell_type": "code",
   "execution_count": 1,
   "metadata": {
    "collapsed": true
   },
   "outputs": [],
   "source": [
    "import numpy as np\n",
    "import statsmodels.api as sm\n",
    "from sklearn import linear_model\n",
    "import pandas as pd"
   ]
  },
  {
   "cell_type": "code",
   "execution_count": 2,
   "outputs": [
    {
     "data": {
      "text/plain": "     №  Объем денежных накоплений в РФ миллиард руб. (y)  \\\n0    1                                           12345.0   \n1    2                                           12091.9   \n2    3                                           12339.7   \n3    4                                           12450.6   \n4    5                                           12832.1   \n5    6                                           12892.1   \n6    7                                           13224.5   \n7    8                                           13449.9   \n8    9                                           13476.8   \n9   10                                           13588.9   \n10  11                                           13600.4   \n11  12                                           13768.5   \n12  13                                           14796.6   \n13  14                                           14424.2   \n14  15                                           14607.3   \n15  16                                           14688.0   \n16  17                                           15057.3   \n17  18                                           15161.0   \n18  19                                           15534.6   \n19  20                                           15544.5   \n20  21                                           15644.4   \n21  22                                           15717.8   \n\n    Сводные данные о продаже наличной иностранной валюты кредитными организациями физическим лицам (x1)  \\\n0                                                2769                                                     \n1                                                3065                                                     \n2                                                3899                                                     \n3                                                3790                                                     \n4                                                3963                                                     \n5                                                4224                                                     \n6                                                4645                                                     \n7                                                4914                                                     \n8                                                4830                                                     \n9                                                4815                                                     \n10                                               4401                                                     \n11                                               5189                                                     \n12                                               3434                                                     \n13                                               5195                                                     \n14                                               5401                                                     \n15                                               4239                                                     \n16                                               4558                                                     \n17                                               4675                                                     \n18                                               6558                                                     \n19                                               6253                                                     \n20                                               5410                                                     \n21                                               5023                                                     \n\n    Курс рубля к доллару США (x2)  Цена нефти марки \"Юралс\" (x3)  \\\n0                           29.67                           94.2   \n1                           28.94                          101.1   \n2                           28.43                          111.6   \n3                           27.50                          119.7   \n4                           28.07                          112.0   \n5                           28.08                          112.0   \n6                           27.68                          115.3   \n7                           28.86                          109.6   \n8                           31.88                          112.6   \n9                           29.90                          108.7   \n10                          31.32                          110.9   \n11                          32.20                          108.0   \n12                          30.36                          109.8   \n13                          28.95                          119.2   \n14                          29.33                          123.3   \n15                          29.36                          117.8   \n16                          32.45                          109.2   \n17                          32.82                           93.5   \n18                          32.19                          102.7   \n19                          32.92                          113.5   \n20                          30.92                          112.0   \n21                          31.53                          110.8   \n\n    Динамика потребительских цен по группам товаров и услуг (месяц к соответствующему месяцу предыдущего года,%)  (x4)  \\\n0                                                 9.6                                                                    \n1                                                 9.5                                                                    \n2                                                 9.5                                                                    \n3                                                 9.6                                                                    \n4                                                 9.6                                                                    \n5                                                 9.4                                                                    \n6                                                 9.0                                                                    \n7                                                 8.2                                                                    \n8                                                 7.2                                                                    \n9                                                 7.2                                                                    \n10                                                6.8                                                                    \n11                                                6.1                                                                    \n12                                                4.2                                                                    \n13                                                3.7                                                                    \n14                                                3.7                                                                    \n15                                                3.6                                                                    \n16                                                3.6                                                                    \n17                                                4.3                                                                    \n18                                                5.6                                                                    \n19                                                5.9                                                                    \n20                                                6.6                                                                    \n21                                                6.5                                                                    \n\n    Unnamed: 6  Unnamed: 7                                            Задание  \n0          NaN         NaN  Постройте линейную модель множественной регрес...  \n1          NaN         NaN  Оцените ее качество. Сделайте тесты на значимо...  \n2          NaN         NaN  Постройте парную модель регрессии, для этого в...  \n3          NaN         NaN  Сравните характеристики качества двух моделей....  \n4          NaN         NaN  Для выбранной модели рассчитайте бетта и дельт...  \n5          NaN         NaN          Проинтерпретируйте полученные результаты.  \n6          NaN         NaN                                                NaN  \n7          NaN         NaN                                                NaN  \n8          NaN         NaN                                                NaN  \n9          NaN         NaN                                                NaN  \n10         NaN         NaN                                                NaN  \n11         NaN         NaN                                                NaN  \n12         NaN         NaN                                                NaN  \n13         NaN         NaN                                                NaN  \n14         NaN         NaN                                                NaN  \n15         NaN         NaN                                                NaN  \n16         NaN         NaN                                                NaN  \n17         NaN         NaN                                                NaN  \n18         NaN         NaN                                                NaN  \n19         NaN         NaN                                                NaN  \n20         NaN         NaN                                                NaN  \n21         NaN         NaN                                                NaN  ",
      "text/html": "<div>\n<style scoped>\n    .dataframe tbody tr th:only-of-type {\n        vertical-align: middle;\n    }\n\n    .dataframe tbody tr th {\n        vertical-align: top;\n    }\n\n    .dataframe thead th {\n        text-align: right;\n    }\n</style>\n<table border=\"1\" class=\"dataframe\">\n  <thead>\n    <tr style=\"text-align: right;\">\n      <th></th>\n      <th>№</th>\n      <th>Объем денежных накоплений в РФ миллиард руб. (y)</th>\n      <th>Сводные данные о продаже наличной иностранной валюты кредитными организациями физическим лицам (x1)</th>\n      <th>Курс рубля к доллару США (x2)</th>\n      <th>Цена нефти марки \"Юралс\" (x3)</th>\n      <th>Динамика потребительских цен по группам товаров и услуг (месяц к соответствующему месяцу предыдущего года,%)  (x4)</th>\n      <th>Unnamed: 6</th>\n      <th>Unnamed: 7</th>\n      <th>Задание</th>\n    </tr>\n  </thead>\n  <tbody>\n    <tr>\n      <th>0</th>\n      <td>1</td>\n      <td>12345.0</td>\n      <td>2769</td>\n      <td>29.67</td>\n      <td>94.2</td>\n      <td>9.6</td>\n      <td>NaN</td>\n      <td>NaN</td>\n      <td>Постройте линейную модель множественной регрес...</td>\n    </tr>\n    <tr>\n      <th>1</th>\n      <td>2</td>\n      <td>12091.9</td>\n      <td>3065</td>\n      <td>28.94</td>\n      <td>101.1</td>\n      <td>9.5</td>\n      <td>NaN</td>\n      <td>NaN</td>\n      <td>Оцените ее качество. Сделайте тесты на значимо...</td>\n    </tr>\n    <tr>\n      <th>2</th>\n      <td>3</td>\n      <td>12339.7</td>\n      <td>3899</td>\n      <td>28.43</td>\n      <td>111.6</td>\n      <td>9.5</td>\n      <td>NaN</td>\n      <td>NaN</td>\n      <td>Постройте парную модель регрессии, для этого в...</td>\n    </tr>\n    <tr>\n      <th>3</th>\n      <td>4</td>\n      <td>12450.6</td>\n      <td>3790</td>\n      <td>27.50</td>\n      <td>119.7</td>\n      <td>9.6</td>\n      <td>NaN</td>\n      <td>NaN</td>\n      <td>Сравните характеристики качества двух моделей....</td>\n    </tr>\n    <tr>\n      <th>4</th>\n      <td>5</td>\n      <td>12832.1</td>\n      <td>3963</td>\n      <td>28.07</td>\n      <td>112.0</td>\n      <td>9.6</td>\n      <td>NaN</td>\n      <td>NaN</td>\n      <td>Для выбранной модели рассчитайте бетта и дельт...</td>\n    </tr>\n    <tr>\n      <th>5</th>\n      <td>6</td>\n      <td>12892.1</td>\n      <td>4224</td>\n      <td>28.08</td>\n      <td>112.0</td>\n      <td>9.4</td>\n      <td>NaN</td>\n      <td>NaN</td>\n      <td>Проинтерпретируйте полученные результаты.</td>\n    </tr>\n    <tr>\n      <th>6</th>\n      <td>7</td>\n      <td>13224.5</td>\n      <td>4645</td>\n      <td>27.68</td>\n      <td>115.3</td>\n      <td>9.0</td>\n      <td>NaN</td>\n      <td>NaN</td>\n      <td>NaN</td>\n    </tr>\n    <tr>\n      <th>7</th>\n      <td>8</td>\n      <td>13449.9</td>\n      <td>4914</td>\n      <td>28.86</td>\n      <td>109.6</td>\n      <td>8.2</td>\n      <td>NaN</td>\n      <td>NaN</td>\n      <td>NaN</td>\n    </tr>\n    <tr>\n      <th>8</th>\n      <td>9</td>\n      <td>13476.8</td>\n      <td>4830</td>\n      <td>31.88</td>\n      <td>112.6</td>\n      <td>7.2</td>\n      <td>NaN</td>\n      <td>NaN</td>\n      <td>NaN</td>\n    </tr>\n    <tr>\n      <th>9</th>\n      <td>10</td>\n      <td>13588.9</td>\n      <td>4815</td>\n      <td>29.90</td>\n      <td>108.7</td>\n      <td>7.2</td>\n      <td>NaN</td>\n      <td>NaN</td>\n      <td>NaN</td>\n    </tr>\n    <tr>\n      <th>10</th>\n      <td>11</td>\n      <td>13600.4</td>\n      <td>4401</td>\n      <td>31.32</td>\n      <td>110.9</td>\n      <td>6.8</td>\n      <td>NaN</td>\n      <td>NaN</td>\n      <td>NaN</td>\n    </tr>\n    <tr>\n      <th>11</th>\n      <td>12</td>\n      <td>13768.5</td>\n      <td>5189</td>\n      <td>32.20</td>\n      <td>108.0</td>\n      <td>6.1</td>\n      <td>NaN</td>\n      <td>NaN</td>\n      <td>NaN</td>\n    </tr>\n    <tr>\n      <th>12</th>\n      <td>13</td>\n      <td>14796.6</td>\n      <td>3434</td>\n      <td>30.36</td>\n      <td>109.8</td>\n      <td>4.2</td>\n      <td>NaN</td>\n      <td>NaN</td>\n      <td>NaN</td>\n    </tr>\n    <tr>\n      <th>13</th>\n      <td>14</td>\n      <td>14424.2</td>\n      <td>5195</td>\n      <td>28.95</td>\n      <td>119.2</td>\n      <td>3.7</td>\n      <td>NaN</td>\n      <td>NaN</td>\n      <td>NaN</td>\n    </tr>\n    <tr>\n      <th>14</th>\n      <td>15</td>\n      <td>14607.3</td>\n      <td>5401</td>\n      <td>29.33</td>\n      <td>123.3</td>\n      <td>3.7</td>\n      <td>NaN</td>\n      <td>NaN</td>\n      <td>NaN</td>\n    </tr>\n    <tr>\n      <th>15</th>\n      <td>16</td>\n      <td>14688.0</td>\n      <td>4239</td>\n      <td>29.36</td>\n      <td>117.8</td>\n      <td>3.6</td>\n      <td>NaN</td>\n      <td>NaN</td>\n      <td>NaN</td>\n    </tr>\n    <tr>\n      <th>16</th>\n      <td>17</td>\n      <td>15057.3</td>\n      <td>4558</td>\n      <td>32.45</td>\n      <td>109.2</td>\n      <td>3.6</td>\n      <td>NaN</td>\n      <td>NaN</td>\n      <td>NaN</td>\n    </tr>\n    <tr>\n      <th>17</th>\n      <td>18</td>\n      <td>15161.0</td>\n      <td>4675</td>\n      <td>32.82</td>\n      <td>93.5</td>\n      <td>4.3</td>\n      <td>NaN</td>\n      <td>NaN</td>\n      <td>NaN</td>\n    </tr>\n    <tr>\n      <th>18</th>\n      <td>19</td>\n      <td>15534.6</td>\n      <td>6558</td>\n      <td>32.19</td>\n      <td>102.7</td>\n      <td>5.6</td>\n      <td>NaN</td>\n      <td>NaN</td>\n      <td>NaN</td>\n    </tr>\n    <tr>\n      <th>19</th>\n      <td>20</td>\n      <td>15544.5</td>\n      <td>6253</td>\n      <td>32.92</td>\n      <td>113.5</td>\n      <td>5.9</td>\n      <td>NaN</td>\n      <td>NaN</td>\n      <td>NaN</td>\n    </tr>\n    <tr>\n      <th>20</th>\n      <td>21</td>\n      <td>15644.4</td>\n      <td>5410</td>\n      <td>30.92</td>\n      <td>112.0</td>\n      <td>6.6</td>\n      <td>NaN</td>\n      <td>NaN</td>\n      <td>NaN</td>\n    </tr>\n    <tr>\n      <th>21</th>\n      <td>22</td>\n      <td>15717.8</td>\n      <td>5023</td>\n      <td>31.53</td>\n      <td>110.8</td>\n      <td>6.5</td>\n      <td>NaN</td>\n      <td>NaN</td>\n      <td>NaN</td>\n    </tr>\n  </tbody>\n</table>\n</div>"
     },
     "execution_count": 2,
     "metadata": {},
     "output_type": "execute_result"
    }
   ],
   "source": [
    "df = pd.read_excel('data.xlsx', header=3)\n",
    "\n",
    "df"
   ],
   "metadata": {
    "collapsed": false,
    "pycharm": {
     "name": "#%%\n"
    }
   }
  },
  {
   "cell_type": "code",
   "execution_count": 3,
   "outputs": [
    {
     "data": {
      "text/plain": "      x1     x2     x3   x4\n0   2769  29.67   94.2  9.6\n1   3065  28.94  101.1  9.5\n2   3899  28.43  111.6  9.5\n3   3790  27.50  119.7  9.6\n4   3963  28.07  112.0  9.6\n5   4224  28.08  112.0  9.4\n6   4645  27.68  115.3  9.0\n7   4914  28.86  109.6  8.2\n8   4830  31.88  112.6  7.2\n9   4815  29.90  108.7  7.2\n10  4401  31.32  110.9  6.8\n11  5189  32.20  108.0  6.1\n12  3434  30.36  109.8  4.2\n13  5195  28.95  119.2  3.7\n14  5401  29.33  123.3  3.7\n15  4239  29.36  117.8  3.6\n16  4558  32.45  109.2  3.6\n17  4675  32.82   93.5  4.3\n18  6558  32.19  102.7  5.6\n19  6253  32.92  113.5  5.9\n20  5410  30.92  112.0  6.6\n21  5023  31.53  110.8  6.5",
      "text/html": "<div>\n<style scoped>\n    .dataframe tbody tr th:only-of-type {\n        vertical-align: middle;\n    }\n\n    .dataframe tbody tr th {\n        vertical-align: top;\n    }\n\n    .dataframe thead th {\n        text-align: right;\n    }\n</style>\n<table border=\"1\" class=\"dataframe\">\n  <thead>\n    <tr style=\"text-align: right;\">\n      <th></th>\n      <th>x1</th>\n      <th>x2</th>\n      <th>x3</th>\n      <th>x4</th>\n    </tr>\n  </thead>\n  <tbody>\n    <tr>\n      <th>0</th>\n      <td>2769</td>\n      <td>29.67</td>\n      <td>94.2</td>\n      <td>9.6</td>\n    </tr>\n    <tr>\n      <th>1</th>\n      <td>3065</td>\n      <td>28.94</td>\n      <td>101.1</td>\n      <td>9.5</td>\n    </tr>\n    <tr>\n      <th>2</th>\n      <td>3899</td>\n      <td>28.43</td>\n      <td>111.6</td>\n      <td>9.5</td>\n    </tr>\n    <tr>\n      <th>3</th>\n      <td>3790</td>\n      <td>27.50</td>\n      <td>119.7</td>\n      <td>9.6</td>\n    </tr>\n    <tr>\n      <th>4</th>\n      <td>3963</td>\n      <td>28.07</td>\n      <td>112.0</td>\n      <td>9.6</td>\n    </tr>\n    <tr>\n      <th>5</th>\n      <td>4224</td>\n      <td>28.08</td>\n      <td>112.0</td>\n      <td>9.4</td>\n    </tr>\n    <tr>\n      <th>6</th>\n      <td>4645</td>\n      <td>27.68</td>\n      <td>115.3</td>\n      <td>9.0</td>\n    </tr>\n    <tr>\n      <th>7</th>\n      <td>4914</td>\n      <td>28.86</td>\n      <td>109.6</td>\n      <td>8.2</td>\n    </tr>\n    <tr>\n      <th>8</th>\n      <td>4830</td>\n      <td>31.88</td>\n      <td>112.6</td>\n      <td>7.2</td>\n    </tr>\n    <tr>\n      <th>9</th>\n      <td>4815</td>\n      <td>29.90</td>\n      <td>108.7</td>\n      <td>7.2</td>\n    </tr>\n    <tr>\n      <th>10</th>\n      <td>4401</td>\n      <td>31.32</td>\n      <td>110.9</td>\n      <td>6.8</td>\n    </tr>\n    <tr>\n      <th>11</th>\n      <td>5189</td>\n      <td>32.20</td>\n      <td>108.0</td>\n      <td>6.1</td>\n    </tr>\n    <tr>\n      <th>12</th>\n      <td>3434</td>\n      <td>30.36</td>\n      <td>109.8</td>\n      <td>4.2</td>\n    </tr>\n    <tr>\n      <th>13</th>\n      <td>5195</td>\n      <td>28.95</td>\n      <td>119.2</td>\n      <td>3.7</td>\n    </tr>\n    <tr>\n      <th>14</th>\n      <td>5401</td>\n      <td>29.33</td>\n      <td>123.3</td>\n      <td>3.7</td>\n    </tr>\n    <tr>\n      <th>15</th>\n      <td>4239</td>\n      <td>29.36</td>\n      <td>117.8</td>\n      <td>3.6</td>\n    </tr>\n    <tr>\n      <th>16</th>\n      <td>4558</td>\n      <td>32.45</td>\n      <td>109.2</td>\n      <td>3.6</td>\n    </tr>\n    <tr>\n      <th>17</th>\n      <td>4675</td>\n      <td>32.82</td>\n      <td>93.5</td>\n      <td>4.3</td>\n    </tr>\n    <tr>\n      <th>18</th>\n      <td>6558</td>\n      <td>32.19</td>\n      <td>102.7</td>\n      <td>5.6</td>\n    </tr>\n    <tr>\n      <th>19</th>\n      <td>6253</td>\n      <td>32.92</td>\n      <td>113.5</td>\n      <td>5.9</td>\n    </tr>\n    <tr>\n      <th>20</th>\n      <td>5410</td>\n      <td>30.92</td>\n      <td>112.0</td>\n      <td>6.6</td>\n    </tr>\n    <tr>\n      <th>21</th>\n      <td>5023</td>\n      <td>31.53</td>\n      <td>110.8</td>\n      <td>6.5</td>\n    </tr>\n  </tbody>\n</table>\n</div>"
     },
     "execution_count": 3,
     "metadata": {},
     "output_type": "execute_result"
    }
   ],
   "source": [
    "x: pd.DataFrame = df[[\n",
    "    'Сводные данные о продаже наличной иностранной валюты кредитными организациями физическим лицам (x1)',\n",
    "    'Курс рубля к доллару США (x2)',\n",
    "    'Цена нефти марки \"Юралс\" (x3)',\n",
    "    'Динамика потребительских цен по группам товаров и услуг (месяц к соответствующему месяцу предыдущего года,%)  (x4)',\n",
    "]]\n",
    "x = x.rename(columns={\n",
    "    'Сводные данные о продаже наличной иностранной валюты кредитными организациями физическим лицам (x1)': 'x1',\n",
    "    'Курс рубля к доллару США (x2)': 'x2',\n",
    "    'Цена нефти марки \"Юралс\" (x3)': 'x3',\n",
    "    'Динамика потребительских цен по группам товаров и услуг (месяц к соответствующему месяцу предыдущего года,%)  (x4)': 'x4',\n",
    "})\n",
    "x"
   ],
   "metadata": {
    "collapsed": false,
    "pycharm": {
     "name": "#%%\n"
    }
   }
  },
  {
   "cell_type": "code",
   "execution_count": 4,
   "outputs": [
    {
     "data": {
      "text/plain": "          y\n0   12345.0\n1   12091.9\n2   12339.7\n3   12450.6\n4   12832.1\n5   12892.1\n6   13224.5\n7   13449.9\n8   13476.8\n9   13588.9\n10  13600.4\n11  13768.5\n12  14796.6\n13  14424.2\n14  14607.3\n15  14688.0\n16  15057.3\n17  15161.0\n18  15534.6\n19  15544.5\n20  15644.4\n21  15717.8",
      "text/html": "<div>\n<style scoped>\n    .dataframe tbody tr th:only-of-type {\n        vertical-align: middle;\n    }\n\n    .dataframe tbody tr th {\n        vertical-align: top;\n    }\n\n    .dataframe thead th {\n        text-align: right;\n    }\n</style>\n<table border=\"1\" class=\"dataframe\">\n  <thead>\n    <tr style=\"text-align: right;\">\n      <th></th>\n      <th>y</th>\n    </tr>\n  </thead>\n  <tbody>\n    <tr>\n      <th>0</th>\n      <td>12345.0</td>\n    </tr>\n    <tr>\n      <th>1</th>\n      <td>12091.9</td>\n    </tr>\n    <tr>\n      <th>2</th>\n      <td>12339.7</td>\n    </tr>\n    <tr>\n      <th>3</th>\n      <td>12450.6</td>\n    </tr>\n    <tr>\n      <th>4</th>\n      <td>12832.1</td>\n    </tr>\n    <tr>\n      <th>5</th>\n      <td>12892.1</td>\n    </tr>\n    <tr>\n      <th>6</th>\n      <td>13224.5</td>\n    </tr>\n    <tr>\n      <th>7</th>\n      <td>13449.9</td>\n    </tr>\n    <tr>\n      <th>8</th>\n      <td>13476.8</td>\n    </tr>\n    <tr>\n      <th>9</th>\n      <td>13588.9</td>\n    </tr>\n    <tr>\n      <th>10</th>\n      <td>13600.4</td>\n    </tr>\n    <tr>\n      <th>11</th>\n      <td>13768.5</td>\n    </tr>\n    <tr>\n      <th>12</th>\n      <td>14796.6</td>\n    </tr>\n    <tr>\n      <th>13</th>\n      <td>14424.2</td>\n    </tr>\n    <tr>\n      <th>14</th>\n      <td>14607.3</td>\n    </tr>\n    <tr>\n      <th>15</th>\n      <td>14688.0</td>\n    </tr>\n    <tr>\n      <th>16</th>\n      <td>15057.3</td>\n    </tr>\n    <tr>\n      <th>17</th>\n      <td>15161.0</td>\n    </tr>\n    <tr>\n      <th>18</th>\n      <td>15534.6</td>\n    </tr>\n    <tr>\n      <th>19</th>\n      <td>15544.5</td>\n    </tr>\n    <tr>\n      <th>20</th>\n      <td>15644.4</td>\n    </tr>\n    <tr>\n      <th>21</th>\n      <td>15717.8</td>\n    </tr>\n  </tbody>\n</table>\n</div>"
     },
     "execution_count": 4,
     "metadata": {},
     "output_type": "execute_result"
    }
   ],
   "source": [
    "y = df[['Объем денежных накоплений в РФ миллиард руб. (y)']]\n",
    "y = y.rename(columns={\n",
    "    'Объем денежных накоплений в РФ миллиард руб. (y)': 'y'\n",
    "})\n",
    "y"
   ],
   "metadata": {
    "collapsed": false,
    "pycharm": {
     "name": "#%%\n"
    }
   }
  },
  {
   "cell_type": "markdown",
   "source": [
    "# STATSMODELS"
   ],
   "metadata": {
    "collapsed": false,
    "pycharm": {
     "name": "#%% md\n"
    }
   }
  },
  {
   "cell_type": "code",
   "execution_count": 5,
   "outputs": [
    {
     "name": "stderr",
     "output_type": "stream",
     "text": [
      "d:\\it\\coding\\github projects\\my-university\\iii курс\\(python) эконометрика\\venv\\lib\\site-packages\\statsmodels\\tsa\\tsatools.py:142: FutureWarning: In a future version of pandas all arguments of concat except for the argument 'objs' will be keyword-only\n",
      "  x = pd.concat(x[::order], 1)\n"
     ]
    }
   ],
   "source": [
    "x = sm.add_constant(x)"
   ],
   "metadata": {
    "collapsed": false,
    "pycharm": {
     "name": "#%%\n"
    }
   }
  },
  {
   "cell_type": "code",
   "execution_count": 26,
   "outputs": [],
   "source": [
    "model = sm.OLS(y, x).fit()"
   ],
   "metadata": {
    "collapsed": false,
    "pycharm": {
     "name": "#%%\n"
    }
   }
  },
  {
   "cell_type": "code",
   "execution_count": 36,
   "outputs": [
    {
     "name": "stdout",
     "output_type": "stream",
     "text": [
      "586.3207563508021\n"
     ]
    },
    {
     "data": {
      "text/plain": "586.3207563508021"
     },
     "execution_count": 36,
     "metadata": {},
     "output_type": "execute_result"
    }
   ],
   "source": [
    "# Se\n",
    "print(np.sqrt(model.mse_resid))"
   ],
   "metadata": {
    "collapsed": false,
    "pycharm": {
     "name": "#%%\n"
    }
   }
  },
  {
   "cell_type": "code",
   "execution_count": 7,
   "outputs": [
    {
     "data": {
      "text/plain": "0     12343.514986\n1     12374.592516\n2     12643.690185\n3     12389.738987\n4     12597.514120\n5     12780.357693\n6     13021.107263\n7     13562.979780\n8     14172.863264\n9     13932.807235\n10    14013.890730\n11    14722.002032\n12    14146.659321\n13    14892.235955\n14    15014.895808\n15    14519.866220\n16    15132.487787\n17    15145.389888\n18    15555.455732\n19    15350.269552\n20    14498.055974\n21    14425.724975\ndtype: float64"
     },
     "execution_count": 7,
     "metadata": {},
     "output_type": "execute_result"
    }
   ],
   "source": [
    "predictions = model.predict(x)\n",
    "predictions"
   ],
   "metadata": {
    "collapsed": false,
    "pycharm": {
     "name": "#%%\n"
    }
   }
  },
  {
   "cell_type": "code",
   "execution_count": 8,
   "outputs": [
    {
     "data": {
      "text/plain": "<class 'statsmodels.iolib.summary.Summary'>\n\"\"\"\n                            OLS Regression Results                            \n==============================================================================\nDep. Variable:                      y   R-squared:                       0.806\nModel:                            OLS   Adj. R-squared:                  0.761\nMethod:                 Least Squares   F-statistic:                     17.70\nDate:                Sun, 26 Sep 2021   Prob (F-statistic):           6.83e-06\nTime:                        20:31:41   Log-Likelihood:                -168.61\nNo. Observations:                  22   AIC:                             347.2\nDf Residuals:                      17   BIC:                             352.7\nDf Model:                           4                                         \nCovariance Type:            nonrobust                                         \n==============================================================================\n                 coef    std err          t      P>|t|      [0.025      0.975]\n------------------------------------------------------------------------------\nconst        1.04e+04   6169.698      1.686      0.110   -2616.991    2.34e+04\nx1             0.4838      0.196      2.463      0.025       0.069       0.898\nx2           130.3151    132.126      0.986      0.338    -148.446     409.076\nx3            -6.4678     25.698     -0.252      0.804     -60.686      47.750\nx4          -276.3727     78.946     -3.501      0.003    -442.935    -109.810\n==============================================================================\nOmnibus:                        5.043   Durbin-Watson:                   1.083\nProb(Omnibus):                  0.080   Jarque-Bera (JB):                2.978\nSkew:                           0.808   Prob(JB):                        0.226\nKurtosis:                       3.797   Cond. No.                     2.32e+05\n==============================================================================\n\nNotes:\n[1] Standard Errors assume that the covariance matrix of the errors is correctly specified.\n[2] The condition number is large, 2.32e+05. This might indicate that there are\nstrong multicollinearity or other numerical problems.\n\"\"\"",
      "text/html": "<table class=\"simpletable\">\n<caption>OLS Regression Results</caption>\n<tr>\n  <th>Dep. Variable:</th>            <td>y</td>        <th>  R-squared:         </th> <td>   0.806</td>\n</tr>\n<tr>\n  <th>Model:</th>                   <td>OLS</td>       <th>  Adj. R-squared:    </th> <td>   0.761</td>\n</tr>\n<tr>\n  <th>Method:</th>             <td>Least Squares</td>  <th>  F-statistic:       </th> <td>   17.70</td>\n</tr>\n<tr>\n  <th>Date:</th>             <td>Sun, 26 Sep 2021</td> <th>  Prob (F-statistic):</th> <td>6.83e-06</td>\n</tr>\n<tr>\n  <th>Time:</th>                 <td>20:31:41</td>     <th>  Log-Likelihood:    </th> <td> -168.61</td>\n</tr>\n<tr>\n  <th>No. Observations:</th>      <td>    22</td>      <th>  AIC:               </th> <td>   347.2</td>\n</tr>\n<tr>\n  <th>Df Residuals:</th>          <td>    17</td>      <th>  BIC:               </th> <td>   352.7</td>\n</tr>\n<tr>\n  <th>Df Model:</th>              <td>     4</td>      <th>                     </th>     <td> </td>   \n</tr>\n<tr>\n  <th>Covariance Type:</th>      <td>nonrobust</td>    <th>                     </th>     <td> </td>   \n</tr>\n</table>\n<table class=\"simpletable\">\n<tr>\n    <td></td>       <th>coef</th>     <th>std err</th>      <th>t</th>      <th>P>|t|</th>  <th>[0.025</th>    <th>0.975]</th>  \n</tr>\n<tr>\n  <th>const</th> <td>  1.04e+04</td> <td> 6169.698</td> <td>    1.686</td> <td> 0.110</td> <td>-2616.991</td> <td> 2.34e+04</td>\n</tr>\n<tr>\n  <th>x1</th>    <td>    0.4838</td> <td>    0.196</td> <td>    2.463</td> <td> 0.025</td> <td>    0.069</td> <td>    0.898</td>\n</tr>\n<tr>\n  <th>x2</th>    <td>  130.3151</td> <td>  132.126</td> <td>    0.986</td> <td> 0.338</td> <td> -148.446</td> <td>  409.076</td>\n</tr>\n<tr>\n  <th>x3</th>    <td>   -6.4678</td> <td>   25.698</td> <td>   -0.252</td> <td> 0.804</td> <td>  -60.686</td> <td>   47.750</td>\n</tr>\n<tr>\n  <th>x4</th>    <td> -276.3727</td> <td>   78.946</td> <td>   -3.501</td> <td> 0.003</td> <td> -442.935</td> <td> -109.810</td>\n</tr>\n</table>\n<table class=\"simpletable\">\n<tr>\n  <th>Omnibus:</th>       <td> 5.043</td> <th>  Durbin-Watson:     </th> <td>   1.083</td>\n</tr>\n<tr>\n  <th>Prob(Omnibus):</th> <td> 0.080</td> <th>  Jarque-Bera (JB):  </th> <td>   2.978</td>\n</tr>\n<tr>\n  <th>Skew:</th>          <td> 0.808</td> <th>  Prob(JB):          </th> <td>   0.226</td>\n</tr>\n<tr>\n  <th>Kurtosis:</th>      <td> 3.797</td> <th>  Cond. No.          </th> <td>2.32e+05</td>\n</tr>\n</table><br/><br/>Notes:<br/>[1] Standard Errors assume that the covariance matrix of the errors is correctly specified.<br/>[2] The condition number is large, 2.32e+05. This might indicate that there are<br/>strong multicollinearity or other numerical problems."
     },
     "execution_count": 8,
     "metadata": {},
     "output_type": "execute_result"
    }
   ],
   "source": [
    "model.summary()"
   ],
   "metadata": {
    "collapsed": false,
    "pycharm": {
     "name": "#%%\n"
    }
   }
  },
  {
   "cell_type": "markdown",
   "source": [
    "# SKLEARN"
   ],
   "metadata": {
    "collapsed": false,
    "pycharm": {
     "name": "#%% md\n"
    }
   }
  },
  {
   "cell_type": "code",
   "execution_count": 15,
   "outputs": [
    {
     "ename": "AttributeError",
     "evalue": "'LinearRegression' object has no attribute 'centered_tss'",
     "output_type": "error",
     "traceback": [
      "\u001B[1;31m---------------------------------------------------------------------------\u001B[0m",
      "\u001B[1;31mAttributeError\u001B[0m                            Traceback (most recent call last)",
      "\u001B[1;32m~\\AppData\\Local\\Temp/ipykernel_9780/2340910605.py\u001B[0m in \u001B[0;36m<module>\u001B[1;34m\u001B[0m\n\u001B[0;32m      1\u001B[0m \u001B[0mlm\u001B[0m \u001B[1;33m=\u001B[0m \u001B[0mlinear_model\u001B[0m\u001B[1;33m.\u001B[0m\u001B[0mLinearRegression\u001B[0m\u001B[1;33m(\u001B[0m\u001B[1;33m)\u001B[0m\u001B[1;33m\u001B[0m\u001B[1;33m\u001B[0m\u001B[0m\n\u001B[0;32m      2\u001B[0m \u001B[0mmodel\u001B[0m \u001B[1;33m=\u001B[0m \u001B[0mlm\u001B[0m\u001B[1;33m.\u001B[0m\u001B[0mfit\u001B[0m\u001B[1;33m(\u001B[0m\u001B[0mx\u001B[0m\u001B[1;33m,\u001B[0m \u001B[0my\u001B[0m\u001B[1;33m)\u001B[0m\u001B[1;33m\u001B[0m\u001B[1;33m\u001B[0m\u001B[0m\n\u001B[1;32m----> 3\u001B[1;33m \u001B[0mmodel\u001B[0m\u001B[1;33m.\u001B[0m\u001B[0mcentered_tss\u001B[0m\u001B[1;33m\u001B[0m\u001B[1;33m\u001B[0m\u001B[0m\n\u001B[0m\u001B[0;32m      4\u001B[0m \u001B[1;33m\u001B[0m\u001B[0m\n",
      "\u001B[1;31mAttributeError\u001B[0m: 'LinearRegression' object has no attribute 'centered_tss'"
     ]
    }
   ],
   "source": [
    "lm = linear_model.LinearRegression()\n",
    "model = lm.fit(x, y)"
   ],
   "metadata": {
    "collapsed": false,
    "pycharm": {
     "name": "#%%\n"
    }
   }
  },
  {
   "cell_type": "code",
   "execution_count": 10,
   "outputs": [
    {
     "data": {
      "text/plain": "array([[12343.51498552],\n       [12374.59251617],\n       [12643.69018465],\n       [12389.73898709],\n       [12597.51411958],\n       [12780.3576933 ],\n       [13021.10726324],\n       [13562.97977957],\n       [14172.86326381],\n       [13932.80723512],\n       [14013.89073032],\n       [14722.00203168],\n       [14146.65932052],\n       [14892.23595473],\n       [15014.89580769],\n       [14519.8662196 ],\n       [15132.48778737],\n       [15145.38988797],\n       [15555.45573161],\n       [15350.26955183],\n       [14498.05597409],\n       [14425.72497455]])"
     },
     "execution_count": 10,
     "metadata": {},
     "output_type": "execute_result"
    }
   ],
   "source": [
    "predictions = lm.predict(x)\n",
    "predictions"
   ],
   "metadata": {
    "collapsed": false,
    "pycharm": {
     "name": "#%%\n"
    }
   }
  },
  {
   "cell_type": "code",
   "execution_count": 11,
   "outputs": [
    {
     "data": {
      "text/plain": "0.8063569576036422"
     },
     "execution_count": 11,
     "metadata": {},
     "output_type": "execute_result"
    }
   ],
   "source": [
    "lm.score(x, y)"
   ],
   "metadata": {
    "collapsed": false,
    "pycharm": {
     "name": "#%%\n"
    }
   }
  },
  {
   "cell_type": "code",
   "execution_count": 12,
   "outputs": [
    {
     "data": {
      "text/plain": "array([[   0.        ,    0.4837773 ,  130.3150502 ,   -6.46780263,\n        -276.37273409]])"
     },
     "execution_count": 12,
     "metadata": {},
     "output_type": "execute_result"
    }
   ],
   "source": [
    "lm.coef_"
   ],
   "metadata": {
    "collapsed": false,
    "pycharm": {
     "name": "#%%\n"
    }
   }
  },
  {
   "cell_type": "code",
   "execution_count": 13,
   "outputs": [
    {
     "data": {
      "text/plain": "array([10399.93334598])"
     },
     "execution_count": 13,
     "metadata": {},
     "output_type": "execute_result"
    }
   ],
   "source": [
    "lm.intercept_"
   ],
   "metadata": {
    "collapsed": false,
    "pycharm": {
     "name": "#%%\n"
    }
   }
  },
  {
   "cell_type": "code",
   "execution_count": 29,
   "outputs": [
    {
     "data": {
      "text/plain": "2.5974298012728068"
     },
     "execution_count": 29,
     "metadata": {},
     "output_type": "execute_result"
    }
   ],
   "source": [
    "import numpy as np\n",
    "\n",
    "A = np.mean(np.abs(model.resid / y['y'])) * 100\n",
    "A"
   ],
   "metadata": {
    "collapsed": false,
    "pycharm": {
     "name": "#%%\n"
    }
   }
  },
  {
   "cell_type": "code",
   "execution_count": 14,
   "outputs": [],
   "source": [],
   "metadata": {
    "collapsed": false,
    "pycharm": {
     "name": "#%%\n"
    }
   }
  }
 ],
 "metadata": {
  "kernelspec": {
   "display_name": "Python 3",
   "language": "python",
   "name": "python3"
  },
  "language_info": {
   "codemirror_mode": {
    "name": "ipython",
    "version": 2
   },
   "file_extension": ".py",
   "mimetype": "text/x-python",
   "name": "python",
   "nbconvert_exporter": "python",
   "pygments_lexer": "ipython2",
   "version": "2.7.6"
  }
 },
 "nbformat": 4,
 "nbformat_minor": 0
}