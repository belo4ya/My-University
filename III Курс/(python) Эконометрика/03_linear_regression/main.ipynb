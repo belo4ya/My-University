{
 "cells": [
  {
   "cell_type": "code",
   "execution_count": 37,
   "outputs": [],
   "source": [
    "import numpy as np\n",
    "import pandas as pd\n",
    "import statsmodels.api as sm"
   ],
   "metadata": {
    "collapsed": false,
    "pycharm": {
     "name": "#%%\n"
    }
   }
  },
  {
   "cell_type": "code",
   "execution_count": 38,
   "outputs": [],
   "source": [
    "columns = {\n",
    "    'Сводные данные о продаже наличной иностранной '\n",
    "    'валюты кредитными организациями физическим лицам (x1)': 'x1',\n",
    "    'Курс рубля к доллару США (x2)': 'x2',\n",
    "    'Цена нефти марки \"Юралс\" (x3)': 'x3',\n",
    "    'Динамика потребительских цен по группам товаров и услуг '\n",
    "    '(месяц к соответствующему месяцу предыдущего года,%)  (x4)': 'x4',\n",
    "    'Объем денежных накоплений в РФ миллиард руб. (y)': 'y'\n",
    "}"
   ],
   "metadata": {
    "collapsed": false,
    "pycharm": {
     "name": "#%%\n"
    }
   }
  },
  {
   "cell_type": "code",
   "execution_count": 39,
   "outputs": [
    {
     "data": {
      "text/plain": "          y    x1     x2     x3   x4\n0   12345.0  2769  29.67   94.2  9.6\n1   12091.9  3065  28.94  101.1  9.5\n2   12339.7  3899  28.43  111.6  9.5\n3   12450.6  3790  27.50  119.7  9.6\n4   12832.1  3963  28.07  112.0  9.6\n5   12892.1  4224  28.08  112.0  9.4\n6   13224.5  4645  27.68  115.3  9.0\n7   13449.9  4914  28.86  109.6  8.2\n8   13476.8  4830  31.88  112.6  7.2\n9   13588.9  4815  29.90  108.7  7.2\n10  13600.4  4401  31.32  110.9  6.8\n11  13768.5  5189  32.20  108.0  6.1\n12  14796.6  3434  30.36  109.8  4.2\n13  14424.2  5195  28.95  119.2  3.7\n14  14607.3  5401  29.33  123.3  3.7\n15  14688.0  4239  29.36  117.8  3.6\n16  15057.3  4558  32.45  109.2  3.6\n17  15161.0  4675  32.82   93.5  4.3\n18  15534.6  6558  32.19  102.7  5.6\n19  15544.5  6253  32.92  113.5  5.9\n20  15644.4  5410  30.92  112.0  6.6\n21  15717.8  5023  31.53  110.8  6.5",
      "text/html": "<div>\n<style scoped>\n    .dataframe tbody tr th:only-of-type {\n        vertical-align: middle;\n    }\n\n    .dataframe tbody tr th {\n        vertical-align: top;\n    }\n\n    .dataframe thead th {\n        text-align: right;\n    }\n</style>\n<table border=\"1\" class=\"dataframe\">\n  <thead>\n    <tr style=\"text-align: right;\">\n      <th></th>\n      <th>y</th>\n      <th>x1</th>\n      <th>x2</th>\n      <th>x3</th>\n      <th>x4</th>\n    </tr>\n  </thead>\n  <tbody>\n    <tr>\n      <th>0</th>\n      <td>12345.0</td>\n      <td>2769</td>\n      <td>29.67</td>\n      <td>94.2</td>\n      <td>9.6</td>\n    </tr>\n    <tr>\n      <th>1</th>\n      <td>12091.9</td>\n      <td>3065</td>\n      <td>28.94</td>\n      <td>101.1</td>\n      <td>9.5</td>\n    </tr>\n    <tr>\n      <th>2</th>\n      <td>12339.7</td>\n      <td>3899</td>\n      <td>28.43</td>\n      <td>111.6</td>\n      <td>9.5</td>\n    </tr>\n    <tr>\n      <th>3</th>\n      <td>12450.6</td>\n      <td>3790</td>\n      <td>27.50</td>\n      <td>119.7</td>\n      <td>9.6</td>\n    </tr>\n    <tr>\n      <th>4</th>\n      <td>12832.1</td>\n      <td>3963</td>\n      <td>28.07</td>\n      <td>112.0</td>\n      <td>9.6</td>\n    </tr>\n    <tr>\n      <th>5</th>\n      <td>12892.1</td>\n      <td>4224</td>\n      <td>28.08</td>\n      <td>112.0</td>\n      <td>9.4</td>\n    </tr>\n    <tr>\n      <th>6</th>\n      <td>13224.5</td>\n      <td>4645</td>\n      <td>27.68</td>\n      <td>115.3</td>\n      <td>9.0</td>\n    </tr>\n    <tr>\n      <th>7</th>\n      <td>13449.9</td>\n      <td>4914</td>\n      <td>28.86</td>\n      <td>109.6</td>\n      <td>8.2</td>\n    </tr>\n    <tr>\n      <th>8</th>\n      <td>13476.8</td>\n      <td>4830</td>\n      <td>31.88</td>\n      <td>112.6</td>\n      <td>7.2</td>\n    </tr>\n    <tr>\n      <th>9</th>\n      <td>13588.9</td>\n      <td>4815</td>\n      <td>29.90</td>\n      <td>108.7</td>\n      <td>7.2</td>\n    </tr>\n    <tr>\n      <th>10</th>\n      <td>13600.4</td>\n      <td>4401</td>\n      <td>31.32</td>\n      <td>110.9</td>\n      <td>6.8</td>\n    </tr>\n    <tr>\n      <th>11</th>\n      <td>13768.5</td>\n      <td>5189</td>\n      <td>32.20</td>\n      <td>108.0</td>\n      <td>6.1</td>\n    </tr>\n    <tr>\n      <th>12</th>\n      <td>14796.6</td>\n      <td>3434</td>\n      <td>30.36</td>\n      <td>109.8</td>\n      <td>4.2</td>\n    </tr>\n    <tr>\n      <th>13</th>\n      <td>14424.2</td>\n      <td>5195</td>\n      <td>28.95</td>\n      <td>119.2</td>\n      <td>3.7</td>\n    </tr>\n    <tr>\n      <th>14</th>\n      <td>14607.3</td>\n      <td>5401</td>\n      <td>29.33</td>\n      <td>123.3</td>\n      <td>3.7</td>\n    </tr>\n    <tr>\n      <th>15</th>\n      <td>14688.0</td>\n      <td>4239</td>\n      <td>29.36</td>\n      <td>117.8</td>\n      <td>3.6</td>\n    </tr>\n    <tr>\n      <th>16</th>\n      <td>15057.3</td>\n      <td>4558</td>\n      <td>32.45</td>\n      <td>109.2</td>\n      <td>3.6</td>\n    </tr>\n    <tr>\n      <th>17</th>\n      <td>15161.0</td>\n      <td>4675</td>\n      <td>32.82</td>\n      <td>93.5</td>\n      <td>4.3</td>\n    </tr>\n    <tr>\n      <th>18</th>\n      <td>15534.6</td>\n      <td>6558</td>\n      <td>32.19</td>\n      <td>102.7</td>\n      <td>5.6</td>\n    </tr>\n    <tr>\n      <th>19</th>\n      <td>15544.5</td>\n      <td>6253</td>\n      <td>32.92</td>\n      <td>113.5</td>\n      <td>5.9</td>\n    </tr>\n    <tr>\n      <th>20</th>\n      <td>15644.4</td>\n      <td>5410</td>\n      <td>30.92</td>\n      <td>112.0</td>\n      <td>6.6</td>\n    </tr>\n    <tr>\n      <th>21</th>\n      <td>15717.8</td>\n      <td>5023</td>\n      <td>31.53</td>\n      <td>110.8</td>\n      <td>6.5</td>\n    </tr>\n  </tbody>\n</table>\n</div>"
     },
     "execution_count": 39,
     "metadata": {},
     "output_type": "execute_result"
    }
   ],
   "source": [
    "df = pd.read_excel('data/task.xlsx', header=3, usecols=[1, 2, 3, 4, 5])\n",
    "df = df.rename(columns=columns)\n",
    "df"
   ],
   "metadata": {
    "collapsed": false,
    "pycharm": {
     "name": "#%%\n"
    }
   }
  },
  {
   "cell_type": "markdown",
   "source": [
    "# Множественная регрессия"
   ],
   "metadata": {
    "collapsed": false
   }
  },
  {
   "cell_type": "markdown",
   "source": [
    "## Построение и расчет модели"
   ],
   "metadata": {
    "collapsed": false
   }
  },
  {
   "cell_type": "markdown",
   "source": [
    "#### Регрессионная модель\n",
    "\n",
    "$$ y_i = a + b_1 x_{1i} + b_2 x_{2i} + b_3 x_{3i} + b_4 x_{4i} + e_i $$\n",
    "\n",
    "#### Оценочная модель\n",
    "\n",
    "$$ \\hat{y_i} = \\hat{a} + \\hat{b_1} x_{1i} + \\hat{b_2} x_{2i} + \\hat{b_3} x_{3i} + \\hat{b_4} x_{4i} $$"
   ],
   "metadata": {
    "collapsed": false
   }
  },
  {
   "cell_type": "markdown",
   "source": [
    "#### Результативный признак"
   ],
   "metadata": {
    "collapsed": false
   }
  },
  {
   "cell_type": "code",
   "execution_count": 40,
   "outputs": [
    {
     "data": {
      "text/plain": "0     12345.0\n1     12091.9\n2     12339.7\n3     12450.6\n4     12832.1\n5     12892.1\n6     13224.5\n7     13449.9\n8     13476.8\n9     13588.9\n10    13600.4\n11    13768.5\n12    14796.6\n13    14424.2\n14    14607.3\n15    14688.0\n16    15057.3\n17    15161.0\n18    15534.6\n19    15544.5\n20    15644.4\n21    15717.8\nName: y, dtype: float64"
     },
     "execution_count": 40,
     "metadata": {},
     "output_type": "execute_result"
    }
   ],
   "source": [
    "y = df['y']\n",
    "y"
   ],
   "metadata": {
    "collapsed": false,
    "pycharm": {
     "name": "#%%\n"
    }
   }
  },
  {
   "cell_type": "markdown",
   "source": [
    "#### Факторы модели"
   ],
   "metadata": {
    "collapsed": false
   }
  },
  {
   "cell_type": "code",
   "execution_count": 41,
   "outputs": [
    {
     "data": {
      "text/plain": "      x1     x2     x3   x4\n0   2769  29.67   94.2  9.6\n1   3065  28.94  101.1  9.5\n2   3899  28.43  111.6  9.5\n3   3790  27.50  119.7  9.6\n4   3963  28.07  112.0  9.6\n5   4224  28.08  112.0  9.4\n6   4645  27.68  115.3  9.0\n7   4914  28.86  109.6  8.2\n8   4830  31.88  112.6  7.2\n9   4815  29.90  108.7  7.2\n10  4401  31.32  110.9  6.8\n11  5189  32.20  108.0  6.1\n12  3434  30.36  109.8  4.2\n13  5195  28.95  119.2  3.7\n14  5401  29.33  123.3  3.7\n15  4239  29.36  117.8  3.6\n16  4558  32.45  109.2  3.6\n17  4675  32.82   93.5  4.3\n18  6558  32.19  102.7  5.6\n19  6253  32.92  113.5  5.9\n20  5410  30.92  112.0  6.6\n21  5023  31.53  110.8  6.5",
      "text/html": "<div>\n<style scoped>\n    .dataframe tbody tr th:only-of-type {\n        vertical-align: middle;\n    }\n\n    .dataframe tbody tr th {\n        vertical-align: top;\n    }\n\n    .dataframe thead th {\n        text-align: right;\n    }\n</style>\n<table border=\"1\" class=\"dataframe\">\n  <thead>\n    <tr style=\"text-align: right;\">\n      <th></th>\n      <th>x1</th>\n      <th>x2</th>\n      <th>x3</th>\n      <th>x4</th>\n    </tr>\n  </thead>\n  <tbody>\n    <tr>\n      <th>0</th>\n      <td>2769</td>\n      <td>29.67</td>\n      <td>94.2</td>\n      <td>9.6</td>\n    </tr>\n    <tr>\n      <th>1</th>\n      <td>3065</td>\n      <td>28.94</td>\n      <td>101.1</td>\n      <td>9.5</td>\n    </tr>\n    <tr>\n      <th>2</th>\n      <td>3899</td>\n      <td>28.43</td>\n      <td>111.6</td>\n      <td>9.5</td>\n    </tr>\n    <tr>\n      <th>3</th>\n      <td>3790</td>\n      <td>27.50</td>\n      <td>119.7</td>\n      <td>9.6</td>\n    </tr>\n    <tr>\n      <th>4</th>\n      <td>3963</td>\n      <td>28.07</td>\n      <td>112.0</td>\n      <td>9.6</td>\n    </tr>\n    <tr>\n      <th>5</th>\n      <td>4224</td>\n      <td>28.08</td>\n      <td>112.0</td>\n      <td>9.4</td>\n    </tr>\n    <tr>\n      <th>6</th>\n      <td>4645</td>\n      <td>27.68</td>\n      <td>115.3</td>\n      <td>9.0</td>\n    </tr>\n    <tr>\n      <th>7</th>\n      <td>4914</td>\n      <td>28.86</td>\n      <td>109.6</td>\n      <td>8.2</td>\n    </tr>\n    <tr>\n      <th>8</th>\n      <td>4830</td>\n      <td>31.88</td>\n      <td>112.6</td>\n      <td>7.2</td>\n    </tr>\n    <tr>\n      <th>9</th>\n      <td>4815</td>\n      <td>29.90</td>\n      <td>108.7</td>\n      <td>7.2</td>\n    </tr>\n    <tr>\n      <th>10</th>\n      <td>4401</td>\n      <td>31.32</td>\n      <td>110.9</td>\n      <td>6.8</td>\n    </tr>\n    <tr>\n      <th>11</th>\n      <td>5189</td>\n      <td>32.20</td>\n      <td>108.0</td>\n      <td>6.1</td>\n    </tr>\n    <tr>\n      <th>12</th>\n      <td>3434</td>\n      <td>30.36</td>\n      <td>109.8</td>\n      <td>4.2</td>\n    </tr>\n    <tr>\n      <th>13</th>\n      <td>5195</td>\n      <td>28.95</td>\n      <td>119.2</td>\n      <td>3.7</td>\n    </tr>\n    <tr>\n      <th>14</th>\n      <td>5401</td>\n      <td>29.33</td>\n      <td>123.3</td>\n      <td>3.7</td>\n    </tr>\n    <tr>\n      <th>15</th>\n      <td>4239</td>\n      <td>29.36</td>\n      <td>117.8</td>\n      <td>3.6</td>\n    </tr>\n    <tr>\n      <th>16</th>\n      <td>4558</td>\n      <td>32.45</td>\n      <td>109.2</td>\n      <td>3.6</td>\n    </tr>\n    <tr>\n      <th>17</th>\n      <td>4675</td>\n      <td>32.82</td>\n      <td>93.5</td>\n      <td>4.3</td>\n    </tr>\n    <tr>\n      <th>18</th>\n      <td>6558</td>\n      <td>32.19</td>\n      <td>102.7</td>\n      <td>5.6</td>\n    </tr>\n    <tr>\n      <th>19</th>\n      <td>6253</td>\n      <td>32.92</td>\n      <td>113.5</td>\n      <td>5.9</td>\n    </tr>\n    <tr>\n      <th>20</th>\n      <td>5410</td>\n      <td>30.92</td>\n      <td>112.0</td>\n      <td>6.6</td>\n    </tr>\n    <tr>\n      <th>21</th>\n      <td>5023</td>\n      <td>31.53</td>\n      <td>110.8</td>\n      <td>6.5</td>\n    </tr>\n  </tbody>\n</table>\n</div>"
     },
     "execution_count": 41,
     "metadata": {},
     "output_type": "execute_result"
    }
   ],
   "source": [
    "x = df[['x1', 'x2', 'x3', 'x4']]\n",
    "x"
   ],
   "metadata": {
    "collapsed": false,
    "pycharm": {
     "name": "#%%\n"
    }
   }
  },
  {
   "cell_type": "markdown",
   "source": [
    "#### Добавление константы"
   ],
   "metadata": {
    "collapsed": false
   }
  },
  {
   "cell_type": "code",
   "execution_count": 42,
   "outputs": [
    {
     "data": {
      "text/plain": "    const    x1     x2     x3   x4\n0     1.0  2769  29.67   94.2  9.6\n1     1.0  3065  28.94  101.1  9.5\n2     1.0  3899  28.43  111.6  9.5\n3     1.0  3790  27.50  119.7  9.6\n4     1.0  3963  28.07  112.0  9.6\n5     1.0  4224  28.08  112.0  9.4\n6     1.0  4645  27.68  115.3  9.0\n7     1.0  4914  28.86  109.6  8.2\n8     1.0  4830  31.88  112.6  7.2\n9     1.0  4815  29.90  108.7  7.2\n10    1.0  4401  31.32  110.9  6.8\n11    1.0  5189  32.20  108.0  6.1\n12    1.0  3434  30.36  109.8  4.2\n13    1.0  5195  28.95  119.2  3.7\n14    1.0  5401  29.33  123.3  3.7\n15    1.0  4239  29.36  117.8  3.6\n16    1.0  4558  32.45  109.2  3.6\n17    1.0  4675  32.82   93.5  4.3\n18    1.0  6558  32.19  102.7  5.6\n19    1.0  6253  32.92  113.5  5.9\n20    1.0  5410  30.92  112.0  6.6\n21    1.0  5023  31.53  110.8  6.5",
      "text/html": "<div>\n<style scoped>\n    .dataframe tbody tr th:only-of-type {\n        vertical-align: middle;\n    }\n\n    .dataframe tbody tr th {\n        vertical-align: top;\n    }\n\n    .dataframe thead th {\n        text-align: right;\n    }\n</style>\n<table border=\"1\" class=\"dataframe\">\n  <thead>\n    <tr style=\"text-align: right;\">\n      <th></th>\n      <th>const</th>\n      <th>x1</th>\n      <th>x2</th>\n      <th>x3</th>\n      <th>x4</th>\n    </tr>\n  </thead>\n  <tbody>\n    <tr>\n      <th>0</th>\n      <td>1.0</td>\n      <td>2769</td>\n      <td>29.67</td>\n      <td>94.2</td>\n      <td>9.6</td>\n    </tr>\n    <tr>\n      <th>1</th>\n      <td>1.0</td>\n      <td>3065</td>\n      <td>28.94</td>\n      <td>101.1</td>\n      <td>9.5</td>\n    </tr>\n    <tr>\n      <th>2</th>\n      <td>1.0</td>\n      <td>3899</td>\n      <td>28.43</td>\n      <td>111.6</td>\n      <td>9.5</td>\n    </tr>\n    <tr>\n      <th>3</th>\n      <td>1.0</td>\n      <td>3790</td>\n      <td>27.50</td>\n      <td>119.7</td>\n      <td>9.6</td>\n    </tr>\n    <tr>\n      <th>4</th>\n      <td>1.0</td>\n      <td>3963</td>\n      <td>28.07</td>\n      <td>112.0</td>\n      <td>9.6</td>\n    </tr>\n    <tr>\n      <th>5</th>\n      <td>1.0</td>\n      <td>4224</td>\n      <td>28.08</td>\n      <td>112.0</td>\n      <td>9.4</td>\n    </tr>\n    <tr>\n      <th>6</th>\n      <td>1.0</td>\n      <td>4645</td>\n      <td>27.68</td>\n      <td>115.3</td>\n      <td>9.0</td>\n    </tr>\n    <tr>\n      <th>7</th>\n      <td>1.0</td>\n      <td>4914</td>\n      <td>28.86</td>\n      <td>109.6</td>\n      <td>8.2</td>\n    </tr>\n    <tr>\n      <th>8</th>\n      <td>1.0</td>\n      <td>4830</td>\n      <td>31.88</td>\n      <td>112.6</td>\n      <td>7.2</td>\n    </tr>\n    <tr>\n      <th>9</th>\n      <td>1.0</td>\n      <td>4815</td>\n      <td>29.90</td>\n      <td>108.7</td>\n      <td>7.2</td>\n    </tr>\n    <tr>\n      <th>10</th>\n      <td>1.0</td>\n      <td>4401</td>\n      <td>31.32</td>\n      <td>110.9</td>\n      <td>6.8</td>\n    </tr>\n    <tr>\n      <th>11</th>\n      <td>1.0</td>\n      <td>5189</td>\n      <td>32.20</td>\n      <td>108.0</td>\n      <td>6.1</td>\n    </tr>\n    <tr>\n      <th>12</th>\n      <td>1.0</td>\n      <td>3434</td>\n      <td>30.36</td>\n      <td>109.8</td>\n      <td>4.2</td>\n    </tr>\n    <tr>\n      <th>13</th>\n      <td>1.0</td>\n      <td>5195</td>\n      <td>28.95</td>\n      <td>119.2</td>\n      <td>3.7</td>\n    </tr>\n    <tr>\n      <th>14</th>\n      <td>1.0</td>\n      <td>5401</td>\n      <td>29.33</td>\n      <td>123.3</td>\n      <td>3.7</td>\n    </tr>\n    <tr>\n      <th>15</th>\n      <td>1.0</td>\n      <td>4239</td>\n      <td>29.36</td>\n      <td>117.8</td>\n      <td>3.6</td>\n    </tr>\n    <tr>\n      <th>16</th>\n      <td>1.0</td>\n      <td>4558</td>\n      <td>32.45</td>\n      <td>109.2</td>\n      <td>3.6</td>\n    </tr>\n    <tr>\n      <th>17</th>\n      <td>1.0</td>\n      <td>4675</td>\n      <td>32.82</td>\n      <td>93.5</td>\n      <td>4.3</td>\n    </tr>\n    <tr>\n      <th>18</th>\n      <td>1.0</td>\n      <td>6558</td>\n      <td>32.19</td>\n      <td>102.7</td>\n      <td>5.6</td>\n    </tr>\n    <tr>\n      <th>19</th>\n      <td>1.0</td>\n      <td>6253</td>\n      <td>32.92</td>\n      <td>113.5</td>\n      <td>5.9</td>\n    </tr>\n    <tr>\n      <th>20</th>\n      <td>1.0</td>\n      <td>5410</td>\n      <td>30.92</td>\n      <td>112.0</td>\n      <td>6.6</td>\n    </tr>\n    <tr>\n      <th>21</th>\n      <td>1.0</td>\n      <td>5023</td>\n      <td>31.53</td>\n      <td>110.8</td>\n      <td>6.5</td>\n    </tr>\n  </tbody>\n</table>\n</div>"
     },
     "execution_count": 42,
     "metadata": {},
     "output_type": "execute_result"
    }
   ],
   "source": [
    "import warnings\n",
    "\n",
    "warnings.filterwarnings('ignore')\n",
    "\n",
    "x = sm.add_constant(x)\n",
    "x"
   ],
   "metadata": {
    "collapsed": false,
    "pycharm": {
     "name": "#%%\n"
    }
   }
  },
  {
   "cell_type": "markdown",
   "source": [
    "#### Применение метода наименьших квадратов\n",
    "\n",
    "$$ \\sum_{i}^{n}{(y_i - \\hat{y_i})^2} \\rightarrow \\min_{n} $$\n",
    "\n",
    "$$ B = (X^T X)^{-1} X^T Y $$"
   ],
   "metadata": {
    "collapsed": false
   }
  },
  {
   "cell_type": "code",
   "execution_count": 43,
   "outputs": [],
   "source": [
    "model = sm.OLS(y, x).fit()"
   ],
   "metadata": {
    "collapsed": false,
    "pycharm": {
     "name": "#%%\n"
    }
   }
  },
  {
   "cell_type": "code",
   "execution_count": 44,
   "outputs": [
    {
     "name": "stdout",
     "output_type": "stream",
     "text": [
      "                            OLS Regression Results                            \n",
      "==============================================================================\n",
      "Dep. Variable:                      y   R-squared:                       0.806\n",
      "Model:                            OLS   Adj. R-squared:                  0.761\n",
      "Method:                 Least Squares   F-statistic:                     17.70\n",
      "Date:                Sat, 02 Oct 2021   Prob (F-statistic):           6.83e-06\n",
      "Time:                        05:01:23   Log-Likelihood:                -168.61\n",
      "No. Observations:                  22   AIC:                             347.2\n",
      "Df Residuals:                      17   BIC:                             352.7\n",
      "Df Model:                           4                                         \n",
      "Covariance Type:            nonrobust                                         \n",
      "==============================================================================\n",
      "                 coef    std err          t      P>|t|      [0.025      0.975]\n",
      "------------------------------------------------------------------------------\n",
      "const        1.04e+04   6169.698      1.686      0.110   -2616.991    2.34e+04\n",
      "x1             0.4838      0.196      2.463      0.025       0.069       0.898\n",
      "x2           130.3151    132.126      0.986      0.338    -148.446     409.076\n",
      "x3            -6.4678     25.698     -0.252      0.804     -60.686      47.750\n",
      "x4          -276.3727     78.946     -3.501      0.003    -442.935    -109.810\n",
      "==============================================================================\n",
      "Omnibus:                        5.043   Durbin-Watson:                   1.083\n",
      "Prob(Omnibus):                  0.080   Jarque-Bera (JB):                2.978\n",
      "Skew:                           0.808   Prob(JB):                        0.226\n",
      "Kurtosis:                       3.797   Cond. No.                     2.32e+05\n",
      "==============================================================================\n",
      "\n",
      "Notes:\n",
      "[1] Standard Errors assume that the covariance matrix of the errors is correctly specified.\n",
      "[2] The condition number is large, 2.32e+05. This might indicate that there are\n",
      "strong multicollinearity or other numerical problems.\n"
     ]
    }
   ],
   "source": [
    "print(model.summary())"
   ],
   "metadata": {
    "collapsed": false,
    "pycharm": {
     "name": "#%%\n"
    }
   }
  },
  {
   "cell_type": "markdown",
   "source": [
    "#### Найденные коэффициенты\n",
    "\n",
    "$$ \\hat{y_i} = 1.04e\\text{+}4 + 0.4838 x_{1i} + 130.3151 x_{2i} - 6.4678 x_{3i} - 276.3727 x_{4i} $$"
   ],
   "metadata": {
    "collapsed": false
   }
  },
  {
   "cell_type": "markdown",
   "source": [
    "#### Оценки среднеквадратичного отклонения оценок параметров\n",
    "\n",
    "$S_{\\hat{a}} = 6169.698$\n",
    "\n",
    "$S_{\\hat{b_1}} = 0.196$\n",
    "\n",
    "$S_{\\hat{b_2}} = 132.126$\n",
    "\n",
    "$S_{\\hat{b_3}} = 25.698$\n",
    "\n",
    "$S_{\\hat{b_4}} = 78.946$"
   ],
   "metadata": {
    "collapsed": false
   }
  },
  {
   "cell_type": "markdown",
   "source": [
    "## Оценка качества модели"
   ],
   "metadata": {
    "collapsed": false
   }
  },
  {
   "cell_type": "markdown",
   "source": [
    "**Оценка среднеквадратического отклонения возмущений:** $ S_{ei} = 586.3208 $ - **умеренная**."
   ],
   "metadata": {
    "collapsed": false
   }
  },
  {
   "cell_type": "code",
   "execution_count": 45,
   "outputs": [
    {
     "data": {
      "text/plain": "586.3207563508021"
     },
     "execution_count": 45,
     "metadata": {},
     "output_type": "execute_result"
    }
   ],
   "source": [
    "np.sqrt(model.mse_resid)"
   ],
   "metadata": {
    "collapsed": false,
    "pycharm": {
     "name": "#%%\n"
    }
   }
  },
  {
   "cell_type": "markdown",
   "source": [
    "**Коэффициент детерминации:** $R^2 = 0.806$ - доля дисперсии $y$,\n",
    "объясняемая текущей моделью (т.е. объясняющими переменными).\n",
    "\n",
    "$ R^2 > 0.7 $ - качество модели **хорошее**."
   ],
   "metadata": {
    "collapsed": false
   }
  },
  {
   "cell_type": "markdown",
   "source": [
    "**Средняя относительная ошибка аппроксимации:** $A = 2.597$.\n",
    "\n",
    "$A < \\{10\\%, 5\\%\\}$ - **отличная** оценка"
   ],
   "metadata": {
    "collapsed": false
   }
  },
  {
   "cell_type": "code",
   "execution_count": 46,
   "outputs": [
    {
     "data": {
      "text/plain": "2.5974298012728068"
     },
     "execution_count": 46,
     "metadata": {},
     "output_type": "execute_result"
    }
   ],
   "source": [
    "np.mean(np.abs(model.resid / y)) * 100"
   ],
   "metadata": {
    "collapsed": false,
    "pycharm": {
     "name": "#%%\n"
    }
   }
  },
  {
   "cell_type": "markdown",
   "source": [
    "## Оценка модели на значимость"
   ],
   "metadata": {
    "collapsed": false
   }
  },
  {
   "cell_type": "markdown",
   "source": [
    "**F-критерий Фишера:**\n",
    "\n",
    "$$ H_0: b_1 = ... = b_k = 0, \\\\ H_1: b^2_1 + ... + b^2_k > 0. $$\n",
    "\n",
    "$$ F_{набл} = \\frac{\\frac{R^2}{k}}{\\frac{1 - R^2}{(n - k - 1)}} $$\n",
    "\n",
    "$F = 17.7$,\n",
    "\n",
    "$p\\text{-}value = 6.83e\\text{-}06 $\n",
    "\n",
    "$p\\text{-}value < \\alpha\\{0.1;0.05;0.01\\} \\rightarrow$ отвергаем гипотезу $H_0$, т.е. модель регрессии в целом **значима**."
   ],
   "metadata": {
    "collapsed": false
   }
  },
  {
   "cell_type": "markdown",
   "source": [
    "## Оценка значимости параметров модели"
   ],
   "metadata": {
    "collapsed": false
   }
  },
  {
   "cell_type": "markdown",
   "source": [
    "**t-критерий Стьюдета для оценки значимости параметров модели:**\n",
    "\n",
    "$$ H_0: b_i = 0, \\\\ H_1: b_i \\neq 0. $$\n",
    "\n",
    "$$ t_{b_i} = \\frac{\\hat{b_i} - 0}{\\hat{\\sigma_{b_i}}} $$\n",
    "\n",
    "$t_a = 1.686$, $p\\text{-}value = 0.11$, $p\\text{-}value > \\alpha\\{0.1;0.05;0.01\\} \\rightarrow$\n",
    "гипотеза $H_0$ верна - параметр $a$ **незначим**.\n",
    "\n",
    "$t_{b_1} = 2.463$, $p\\text{-}value = 0.025$, $\\alpha\\{0.1;0.05\\} > p\\text{-}value > \\alpha\\{0.01\\} \\rightarrow$\n",
    "гипотеза $H_0$ отвергается - параметр $b_1$ **значим**.\n",
    "\n",
    "$t_{b_2} = 0.986$, $p\\text{-}value = 0.338$, $p\\text{-}value > \\alpha\\{0.1;0.05;0.01\\} \\rightarrow$\n",
    "гипотеза $H_0$ верна - параметр $b_2$ **незначим**.\n",
    "\n",
    "$t_{b_3} = -0.252$, $p\\text{-}value = 0.804$, $p\\text{-}value > \\alpha\\{0.1;0.05;0.01\\} \\rightarrow$\n",
    "гипотеза $H_0$ верна - параметр $b_3$ **незначим**.\n",
    "\n",
    "$t_{b_4} = -3.501$, $p\\text{-}value = 0.003\t$, $\\alpha\\{0.1;0.05;0.01\\} > p\\text{-}value \\rightarrow$\n",
    "гипотеза $H_0$ отвергается - параметр $b_4$ **значим**."
   ],
   "metadata": {
    "collapsed": false
   }
  },
  {
   "cell_type": "markdown",
   "source": [
    "**Доверительные интервалы:**\n",
    "\n",
    "$$ \\hat{b_i} - 2\\hat{\\sigma} \\leq b_i \\leq \\hat{b_i} + 2\\hat{\\sigma} $$\n",
    "\n",
    "Для **95%**:\n",
    "\n",
    "$a: (-2616.991; 2.34e\\text{+}04)$\n",
    "\n",
    "$b_1: (0.069; 0.898)$\n",
    "\n",
    "$b_2: (-148.446; 409.076)$\n",
    "\n",
    "$b_3: (-60.686; 47.750)$\n",
    "\n",
    "$b_4: (-442.935; -109.810)$"
   ],
   "metadata": {
    "collapsed": false
   }
  },
  {
   "cell_type": "markdown",
   "source": [
    "## Интерпретация параметров"
   ],
   "metadata": {
    "collapsed": false
   }
  },
  {
   "cell_type": "markdown",
   "source": [
    "Линейная зависимость **объема денежных накоплений в РФ**:\n",
    "- коэффициент 0.4838 означает, что каждая единица **продажи наличной иностранной\n",
    "  валюты кредитными организациями физическим лицам** увеличивает **объема денежных\n",
    "  накоплений в РФ** на 0.4838 каких-то единиц денег.\n",
    "- коэффициент 130.3151 означает, что рост **курса рубля к доллару США** очень сильно\n",
    "  увеличивает **объем денежных накоплений в РФ**.\n",
    "- коэффициент -6.4678 означает, что рост **цены нефти марки \"Юралс\" негативно влияет на\n",
    "  **объем денежных накоплений в РФ**.\n",
    "- коэффициент -276.3727 означает, что положительная **динамика потребительских цен по\n",
    "  группам товаров и услуг (месяц к соответствующему месяцу предыдущего года)** значительно\n",
    "  снижает **объем денежных накоплений в РФ**.\n",
    "- константа 10400 означает что при полном 'отсутствии экономики' у РФ есть **объема денежных накоплений в РФ** в\n",
    "  размере 10400 млрд. руб."
   ],
   "metadata": {
    "collapsed": false
   }
  },
  {
   "cell_type": "markdown",
   "source": [
    "# Парная регрессия"
   ],
   "metadata": {
    "collapsed": false
   }
  },
  {
   "cell_type": "markdown",
   "source": [
    "## Построение и расчет модели"
   ],
   "metadata": {
    "collapsed": false,
    "pycharm": {
     "name": "#%% md\n"
    }
   }
  },
  {
   "cell_type": "markdown",
   "source": [
    "На основании оценки значимости параметров предыдущей модели и матрицы корреляции факторов для\n",
    "построения парной регрессии выбирается фактор **x4** - динамика потребительских цен по группам\n",
    "товаров и услуг (месяц к соответствующему месяцу предыдущего года)"
   ],
   "metadata": {
    "collapsed": false,
    "pycharm": {
     "name": "#%% md\n"
    }
   }
  },
  {
   "cell_type": "code",
   "execution_count": 47,
   "outputs": [
    {
     "data": {
      "text/plain": "           y        x1        x2        x3        x4\ny   1.000000  0.701097  0.690454  0.067950 -0.794822\nx1  0.701097  1.000000  0.509960  0.255408 -0.460771\nx2  0.690454  0.509960  1.000000 -0.385527 -0.560071\nx3  0.067950  0.255408 -0.385527  1.000000 -0.166677\nx4 -0.794822 -0.460771 -0.560071 -0.166677  1.000000",
      "text/html": "<div>\n<style scoped>\n    .dataframe tbody tr th:only-of-type {\n        vertical-align: middle;\n    }\n\n    .dataframe tbody tr th {\n        vertical-align: top;\n    }\n\n    .dataframe thead th {\n        text-align: right;\n    }\n</style>\n<table border=\"1\" class=\"dataframe\">\n  <thead>\n    <tr style=\"text-align: right;\">\n      <th></th>\n      <th>y</th>\n      <th>x1</th>\n      <th>x2</th>\n      <th>x3</th>\n      <th>x4</th>\n    </tr>\n  </thead>\n  <tbody>\n    <tr>\n      <th>y</th>\n      <td>1.000000</td>\n      <td>0.701097</td>\n      <td>0.690454</td>\n      <td>0.067950</td>\n      <td>-0.794822</td>\n    </tr>\n    <tr>\n      <th>x1</th>\n      <td>0.701097</td>\n      <td>1.000000</td>\n      <td>0.509960</td>\n      <td>0.255408</td>\n      <td>-0.460771</td>\n    </tr>\n    <tr>\n      <th>x2</th>\n      <td>0.690454</td>\n      <td>0.509960</td>\n      <td>1.000000</td>\n      <td>-0.385527</td>\n      <td>-0.560071</td>\n    </tr>\n    <tr>\n      <th>x3</th>\n      <td>0.067950</td>\n      <td>0.255408</td>\n      <td>-0.385527</td>\n      <td>1.000000</td>\n      <td>-0.166677</td>\n    </tr>\n    <tr>\n      <th>x4</th>\n      <td>-0.794822</td>\n      <td>-0.460771</td>\n      <td>-0.560071</td>\n      <td>-0.166677</td>\n      <td>1.000000</td>\n    </tr>\n  </tbody>\n</table>\n</div>"
     },
     "execution_count": 47,
     "metadata": {},
     "output_type": "execute_result"
    }
   ],
   "source": [
    "df.corr()"
   ],
   "metadata": {
    "collapsed": false,
    "pycharm": {
     "name": "#%%\n"
    }
   }
  },
  {
   "cell_type": "markdown",
   "source": [
    "#### Регрессионная модель\n",
    "\n",
    "$$ y_i = a + b x_i $$\n",
    "\n",
    "#### Оценочная модель\n",
    "\n",
    "$$ \\hat{y_i} = \\hat{a} + \\hat{b} x_i $$"
   ],
   "metadata": {
    "collapsed": false
   }
  },
  {
   "cell_type": "markdown",
   "source": [
    "#### Результативный признак"
   ],
   "metadata": {
    "collapsed": false
   }
  },
  {
   "cell_type": "code",
   "execution_count": 48,
   "outputs": [
    {
     "data": {
      "text/plain": "0     12345.0\n1     12091.9\n2     12339.7\n3     12450.6\n4     12832.1\n5     12892.1\n6     13224.5\n7     13449.9\n8     13476.8\n9     13588.9\n10    13600.4\n11    13768.5\n12    14796.6\n13    14424.2\n14    14607.3\n15    14688.0\n16    15057.3\n17    15161.0\n18    15534.6\n19    15544.5\n20    15644.4\n21    15717.8\nName: y, dtype: float64"
     },
     "execution_count": 48,
     "metadata": {},
     "output_type": "execute_result"
    }
   ],
   "source": [
    "y = df['y']\n",
    "y"
   ],
   "metadata": {
    "collapsed": false,
    "pycharm": {
     "name": "#%%\n"
    }
   }
  },
  {
   "cell_type": "markdown",
   "source": [
    "#### Фактор модели"
   ],
   "metadata": {
    "collapsed": false
   }
  },
  {
   "cell_type": "code",
   "execution_count": 49,
   "outputs": [
    {
     "data": {
      "text/plain": "0     9.6\n1     9.5\n2     9.5\n3     9.6\n4     9.6\n5     9.4\n6     9.0\n7     8.2\n8     7.2\n9     7.2\n10    6.8\n11    6.1\n12    4.2\n13    3.7\n14    3.7\n15    3.6\n16    3.6\n17    4.3\n18    5.6\n19    5.9\n20    6.6\n21    6.5\nName: x4, dtype: float64"
     },
     "execution_count": 49,
     "metadata": {},
     "output_type": "execute_result"
    }
   ],
   "source": [
    "x = df['x4']\n",
    "x"
   ],
   "metadata": {
    "collapsed": false,
    "pycharm": {
     "name": "#%%\n"
    }
   }
  },
  {
   "cell_type": "markdown",
   "source": [
    "#### Добавление константы"
   ],
   "metadata": {
    "collapsed": false
   }
  },
  {
   "cell_type": "code",
   "execution_count": 50,
   "outputs": [
    {
     "data": {
      "text/plain": "    const   x4\n0     1.0  9.6\n1     1.0  9.5\n2     1.0  9.5\n3     1.0  9.6\n4     1.0  9.6\n5     1.0  9.4\n6     1.0  9.0\n7     1.0  8.2\n8     1.0  7.2\n9     1.0  7.2\n10    1.0  6.8\n11    1.0  6.1\n12    1.0  4.2\n13    1.0  3.7\n14    1.0  3.7\n15    1.0  3.6\n16    1.0  3.6\n17    1.0  4.3\n18    1.0  5.6\n19    1.0  5.9\n20    1.0  6.6\n21    1.0  6.5",
      "text/html": "<div>\n<style scoped>\n    .dataframe tbody tr th:only-of-type {\n        vertical-align: middle;\n    }\n\n    .dataframe tbody tr th {\n        vertical-align: top;\n    }\n\n    .dataframe thead th {\n        text-align: right;\n    }\n</style>\n<table border=\"1\" class=\"dataframe\">\n  <thead>\n    <tr style=\"text-align: right;\">\n      <th></th>\n      <th>const</th>\n      <th>x4</th>\n    </tr>\n  </thead>\n  <tbody>\n    <tr>\n      <th>0</th>\n      <td>1.0</td>\n      <td>9.6</td>\n    </tr>\n    <tr>\n      <th>1</th>\n      <td>1.0</td>\n      <td>9.5</td>\n    </tr>\n    <tr>\n      <th>2</th>\n      <td>1.0</td>\n      <td>9.5</td>\n    </tr>\n    <tr>\n      <th>3</th>\n      <td>1.0</td>\n      <td>9.6</td>\n    </tr>\n    <tr>\n      <th>4</th>\n      <td>1.0</td>\n      <td>9.6</td>\n    </tr>\n    <tr>\n      <th>5</th>\n      <td>1.0</td>\n      <td>9.4</td>\n    </tr>\n    <tr>\n      <th>6</th>\n      <td>1.0</td>\n      <td>9.0</td>\n    </tr>\n    <tr>\n      <th>7</th>\n      <td>1.0</td>\n      <td>8.2</td>\n    </tr>\n    <tr>\n      <th>8</th>\n      <td>1.0</td>\n      <td>7.2</td>\n    </tr>\n    <tr>\n      <th>9</th>\n      <td>1.0</td>\n      <td>7.2</td>\n    </tr>\n    <tr>\n      <th>10</th>\n      <td>1.0</td>\n      <td>6.8</td>\n    </tr>\n    <tr>\n      <th>11</th>\n      <td>1.0</td>\n      <td>6.1</td>\n    </tr>\n    <tr>\n      <th>12</th>\n      <td>1.0</td>\n      <td>4.2</td>\n    </tr>\n    <tr>\n      <th>13</th>\n      <td>1.0</td>\n      <td>3.7</td>\n    </tr>\n    <tr>\n      <th>14</th>\n      <td>1.0</td>\n      <td>3.7</td>\n    </tr>\n    <tr>\n      <th>15</th>\n      <td>1.0</td>\n      <td>3.6</td>\n    </tr>\n    <tr>\n      <th>16</th>\n      <td>1.0</td>\n      <td>3.6</td>\n    </tr>\n    <tr>\n      <th>17</th>\n      <td>1.0</td>\n      <td>4.3</td>\n    </tr>\n    <tr>\n      <th>18</th>\n      <td>1.0</td>\n      <td>5.6</td>\n    </tr>\n    <tr>\n      <th>19</th>\n      <td>1.0</td>\n      <td>5.9</td>\n    </tr>\n    <tr>\n      <th>20</th>\n      <td>1.0</td>\n      <td>6.6</td>\n    </tr>\n    <tr>\n      <th>21</th>\n      <td>1.0</td>\n      <td>6.5</td>\n    </tr>\n  </tbody>\n</table>\n</div>"
     },
     "execution_count": 50,
     "metadata": {},
     "output_type": "execute_result"
    }
   ],
   "source": [
    "x = sm.add_constant(x)\n",
    "x"
   ],
   "metadata": {
    "collapsed": false,
    "pycharm": {
     "name": "#%%\n"
    }
   }
  },
  {
   "cell_type": "markdown",
   "source": [
    "#### Применение метода наименьших квадратов\n",
    "\n",
    "$$ \\sum_{i}^{n}{(y_i - \\hat{y_i})^2} \\rightarrow \\min_{n} $$\n",
    "\n",
    "$$ B = (X^T X)^{-1} X^T Y $$"
   ],
   "metadata": {
    "collapsed": false
   }
  },
  {
   "cell_type": "code",
   "execution_count": 51,
   "outputs": [],
   "source": [
    "model = sm.OLS(y, x).fit()"
   ],
   "metadata": {
    "collapsed": false,
    "pycharm": {
     "name": "#%%\n"
    }
   }
  },
  {
   "cell_type": "code",
   "execution_count": 52,
   "outputs": [
    {
     "name": "stdout",
     "output_type": "stream",
     "text": [
      "                            OLS Regression Results                            \n",
      "==============================================================================\n",
      "Dep. Variable:                      y   R-squared:                       0.632\n",
      "Model:                            OLS   Adj. R-squared:                  0.613\n",
      "Method:                 Least Squares   F-statistic:                     34.31\n",
      "Date:                Sat, 02 Oct 2021   Prob (F-statistic):           9.92e-06\n",
      "Time:                        05:01:23   Log-Likelihood:                -175.68\n",
      "No. Observations:                  22   AIC:                             355.4\n",
      "Df Residuals:                      20   BIC:                             357.5\n",
      "Df Model:                           1                                         \n",
      "Covariance Type:            nonrobust                                         \n",
      "==============================================================================\n",
      "                 coef    std err          t      P>|t|      [0.025      0.975]\n",
      "------------------------------------------------------------------------------\n",
      "const       1.682e+04    513.342     32.774      0.000    1.58e+04    1.79e+04\n",
      "x4          -421.0240     71.878     -5.857      0.000    -570.960    -271.088\n",
      "==============================================================================\n",
      "Omnibus:                        6.839   Durbin-Watson:                   0.208\n",
      "Prob(Omnibus):                  0.033   Jarque-Bera (JB):                5.260\n",
      "Skew:                           1.190   Prob(JB):                       0.0721\n",
      "Kurtosis:                       3.264   Cond. No.                         23.5\n",
      "==============================================================================\n",
      "\n",
      "Notes:\n",
      "[1] Standard Errors assume that the covariance matrix of the errors is correctly specified.\n"
     ]
    }
   ],
   "source": [
    "print(model.summary())"
   ],
   "metadata": {
    "collapsed": false,
    "pycharm": {
     "name": "#%%\n"
    }
   }
  },
  {
   "cell_type": "markdown",
   "source": [
    "#### Найденные коэффициенты\n",
    "\n",
    "$$ \\hat{y_i} = 1.682e\\text{+}4 - 421.024 x_{i} $$"
   ],
   "metadata": {
    "collapsed": false
   }
  },
  {
   "cell_type": "markdown",
   "source": [
    "#### Оценки среднеквадратичного отклонения оценок параметров\n",
    "\n",
    "$S_{\\hat{a}} = 513.342$\n",
    "\n",
    "$S_{\\hat{b}} = 71.878$"
   ],
   "metadata": {
    "collapsed": false
   }
  },
  {
   "cell_type": "markdown",
   "source": [
    "## Оценка качества модели"
   ],
   "metadata": {
    "collapsed": false
   }
  },
  {
   "cell_type": "markdown",
   "source": [
    "**Оценка среднеквадратического отклонения возмущений:** $ S_{ei} = 745.4526 $ - **слишком много**."
   ],
   "metadata": {
    "collapsed": false
   }
  },
  {
   "cell_type": "code",
   "execution_count": 53,
   "outputs": [
    {
     "data": {
      "text/plain": "745.4525998718326"
     },
     "execution_count": 53,
     "metadata": {},
     "output_type": "execute_result"
    }
   ],
   "source": [
    "np.sqrt(model.mse_resid)"
   ],
   "metadata": {
    "collapsed": false,
    "pycharm": {
     "name": "#%%\n"
    }
   }
  },
  {
   "cell_type": "markdown",
   "source": [
    "**Коэффициент детерминации:** $R^2 = 0.632$ - доля дисперсии $y$,\n",
    "объясняемая текущей моделью (т.е. объясняющими переменными).\n",
    "\n",
    "$ R^2 > 0.5 $ - качество модели **среднее**."
   ],
   "metadata": {
    "collapsed": false
   }
  },
  {
   "cell_type": "markdown",
   "source": [
    "**Средняя относительная ошибка аппроксимации:** $A = 3.774$.\n",
    "\n",
    "$A < \\{10\\%, 5\\%\\}$ - **отличная** оценка"
   ],
   "metadata": {
    "collapsed": false
   }
  },
  {
   "cell_type": "code",
   "execution_count": 54,
   "outputs": [
    {
     "data": {
      "text/plain": "3.773801731390099"
     },
     "execution_count": 54,
     "metadata": {},
     "output_type": "execute_result"
    }
   ],
   "source": [
    "np.mean(np.abs(model.resid / y)) * 100"
   ],
   "metadata": {
    "collapsed": false,
    "pycharm": {
     "name": "#%%\n"
    }
   }
  },
  {
   "cell_type": "markdown",
   "source": [
    "## Оценка модели на значимость"
   ],
   "metadata": {
    "collapsed": false
   }
  },
  {
   "cell_type": "markdown",
   "source": [
    "**F-критерий Фишера:**\n",
    "\n",
    "$$ H_0: b_1 = ... = b_k = 0, \\\\ H_1: b^2_1 + ... + b^2_k > 0. $$\n",
    "\n",
    "$$ F_{набл} = \\frac{\\frac{R^2}{k}}{\\frac{1 - R^2}{(n - k - 1)}} $$\n",
    "\n",
    "$F = 34.31$,\n",
    "\n",
    "$p\\text{-}value = 9.92e\\text{-}06 $\n",
    "\n",
    "$p\\text{-}value < \\alpha\\{0.1;0.05;0.01\\} \\rightarrow$ отвергаем гипотезу $H_0$, т.е. модель регрессии в целом **значима**."
   ],
   "metadata": {
    "collapsed": false
   }
  },
  {
   "cell_type": "markdown",
   "source": [
    "**Доверительные интервалы:**\n",
    "\n",
    "$$ \\hat{b_i} - 2\\hat{\\sigma} \\leq b_i \\leq \\hat{b_i} + 2\\hat{\\sigma} $$\n",
    "\n",
    "Для **95%**:\n",
    "\n",
    "$a: (1.58e\\text{+}04; 1.79e\\text{+}04)$\n",
    "\n",
    "$b: (-570.96; -271.088)$"
   ],
   "metadata": {
    "collapsed": false
   }
  },
  {
   "cell_type": "markdown",
   "source": [
    "# Выводы"
   ],
   "metadata": {
    "collapsed": false,
    "pycharm": {
     "name": "#%% md\n"
    }
   }
  },
  {
   "cell_type": "markdown",
   "source": [
    "Было лучше.\n"
   ],
   "metadata": {
    "collapsed": false,
    "pycharm": {
     "name": "#%% md\n"
    }
   }
  }
 ],
 "metadata": {
  "kernelspec": {
   "display_name": "Python 3",
   "language": "python",
   "name": "python3"
  },
  "language_info": {
   "codemirror_mode": {
    "name": "ipython",
    "version": 2
   },
   "file_extension": ".py",
   "mimetype": "text/x-python",
   "name": "python",
   "nbconvert_exporter": "python",
   "pygments_lexer": "ipython2",
   "version": "2.7.6"
  }
 },
 "nbformat": 4,
 "nbformat_minor": 0
}