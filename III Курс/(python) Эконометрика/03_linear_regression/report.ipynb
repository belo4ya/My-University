{
 "cells": [
  {
   "cell_type": "code",
   "execution_count": 1,
   "outputs": [],
   "source": [
    "%load_ext autoreload\n",
    "%autoreload 2"
   ],
   "metadata": {
    "collapsed": false,
    "pycharm": {
     "name": "#%%\n"
    }
   }
  },
  {
   "cell_type": "code",
   "execution_count": 24,
   "outputs": [],
   "source": [
    "import pandas as pd\n",
    "from IPython.display import Markdown\n",
    "\n",
    "from src.test_ import FTest, TTest\n",
    "from src.stats import LinearRegression, add_constant"
   ],
   "metadata": {
    "collapsed": false,
    "pycharm": {
     "name": "#%%\n"
    }
   }
  },
  {
   "cell_type": "code",
   "execution_count": 25,
   "outputs": [],
   "source": [
    "columns = {\n",
    "    'Сводные данные о продаже наличной иностранной '\n",
    "    'валюты кредитными организациями физическим лицам (x1)': 'x1',\n",
    "    'Курс рубля к доллару США (x2)': 'x2',\n",
    "    'Цена нефти марки \"Юралс\" (x3)': 'x3',\n",
    "    'Динамика потребительских цен по группам товаров и услуг '\n",
    "    '(месяц к соответствующему месяцу предыдущего года,%)  (x4)': 'x4',\n",
    "    'Объем денежных накоплений в РФ миллиард руб. (y)': 'y'\n",
    "}"
   ],
   "metadata": {
    "collapsed": false,
    "pycharm": {
     "name": "#%%\n"
    }
   }
  },
  {
   "cell_type": "code",
   "execution_count": 26,
   "outputs": [],
   "source": [
    "df = pd.read_excel('data/task.xlsx', sheet_name='Лист1', header=3, usecols=[1, 2, 3, 4, 5])\n",
    "df = df.rename(columns=columns)"
   ],
   "metadata": {
    "collapsed": false,
    "pycharm": {
     "name": "#%%\n"
    }
   }
  },
  {
   "cell_type": "code",
   "execution_count": 27,
   "outputs": [],
   "source": [
    "y = df['y']\n",
    "multiple_params = ['x1', 'x2', 'x3', 'x4']\n",
    "x = add_constant(df[multiple_params])"
   ],
   "metadata": {
    "collapsed": false,
    "pycharm": {
     "name": "#%%\n"
    }
   }
  },
  {
   "cell_type": "code",
   "execution_count": 28,
   "outputs": [],
   "source": [
    "model = LinearRegression(y, x)"
   ],
   "metadata": {
    "collapsed": false,
    "pycharm": {
     "name": "#%%\n"
    }
   }
  },
  {
   "cell_type": "code",
   "execution_count": 32,
   "outputs": [
    {
     "name": "stdout",
     "output_type": "stream",
     "text": [
      "$ F_{набл} = 17.698 $<br>\n",
      "$ p\\text{-}value_F = 0.000 $\n",
      "<br><br>\n",
      "$ \\alpha = 0.05 $<br>\n",
      "$ F_{табл_{0.05}} = 2.208 $\n",
      "<br><br>\n",
      "$ 0.000 < 0.05 $<br>\n",
      "$ p\\text{-}value < \\alpha \\rightarrow $ гипотеза $ H_0 $ отвергается - модель в целом значима.\n"
     ]
    }
   ],
   "source": [
    "print(FTest(model).pvalue_test_report())"
   ],
   "metadata": {
    "collapsed": false,
    "pycharm": {
     "name": "#%%\n"
    }
   }
  },
  {
   "cell_type": "code",
   "execution_count": 35,
   "outputs": [
    {
     "data": {
      "text/plain": "<IPython.core.display.Markdown object>",
      "text/markdown": "$ F_{набл} = 17.7 $<br>\n$ p\\text{-}value_F = 6.83e-06 $\n<br><br>\n$ \\alpha = 0.05 $<br>\n$ F_{табл_{0.05}} = 2.21 $\n<br><br>\n$ 6.83e-06 < 0.05 $<br>\n$ p\\text{-}value < \\alpha \\rightarrow $ гипотеза $ H_0 $ отвергается - модель в целом значима."
     },
     "execution_count": 35,
     "metadata": {},
     "output_type": "execute_result"
    }
   ],
   "source": [
    "Markdown(FTest(model).pvalue_test_report())"
   ],
   "metadata": {
    "collapsed": false,
    "pycharm": {
     "name": "#%%\n"
    }
   }
  },
  {
   "cell_type": "code",
   "execution_count": null,
   "outputs": [],
   "source": [],
   "metadata": {
    "collapsed": false,
    "pycharm": {
     "name": "#%%\n"
    }
   }
  }
 ],
 "metadata": {
  "kernelspec": {
   "display_name": "Python 3",
   "language": "python",
   "name": "python3"
  },
  "language_info": {
   "codemirror_mode": {
    "name": "ipython",
    "version": 2
   },
   "file_extension": ".py",
   "mimetype": "text/x-python",
   "name": "python",
   "nbconvert_exporter": "python",
   "pygments_lexer": "ipython2",
   "version": "2.7.6"
  }
 },
 "nbformat": 4,
 "nbformat_minor": 0
}