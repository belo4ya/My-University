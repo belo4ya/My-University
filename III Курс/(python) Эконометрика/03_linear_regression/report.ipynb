{
 "cells": [
  {
   "cell_type": "code",
   "execution_count": 126,
   "metadata": {
    "pycharm": {
     "name": "#%%\n"
    }
   },
   "outputs": [
    {
     "name": "stdout",
     "output_type": "stream",
     "text": [
      "The autoreload extension is already loaded. To reload it, use:\n",
      "  %reload_ext autoreload\n"
     ]
    },
    {
     "name": "stderr",
     "output_type": "stream",
     "text": [
      "[autoreload of src.report failed: Traceback (most recent call last):\n",
      "  File \"d:\\it\\coding\\github projects\\my-university\\iii курс\\(python) эконометрика\\venv\\lib\\site-packages\\IPython\\extensions\\autoreload.py\", line 245, in check\n",
      "    superreload(m, reload, self.old_objects)\n",
      "  File \"d:\\it\\coding\\github projects\\my-university\\iii курс\\(python) эконометрика\\venv\\lib\\site-packages\\IPython\\extensions\\autoreload.py\", line 394, in superreload\n",
      "    module = reload(module)\n",
      "  File \"C:\\Python39\\lib\\imp.py\", line 314, in reload\n",
      "    return importlib.reload(module)\n",
      "  File \"C:\\Python39\\lib\\importlib\\__init__.py\", line 169, in reload\n",
      "    _bootstrap._exec(spec, module)\n",
      "  File \"<frozen importlib._bootstrap>\", line 613, in _exec\n",
      "  File \"<frozen importlib._bootstrap_external>\", line 850, in exec_module\n",
      "  File \"<frozen importlib._bootstrap>\", line 228, in _call_with_frames_removed\n",
      "  File \"D:\\IT\\Coding\\GitHub Projects\\My-University\\III Курс\\(python) Эконометрика\\03_linear_regression\\src\\report.py\", line 3, in <module>\n",
      "    from src._components import to_math, CONF_INT, PrettyModel, FTest, TTest\n",
      "ImportError: cannot import name 'to_math' from 'src._components' (D:\\IT\\Coding\\GitHub Projects\\My-University\\III Курс\\(python) Эконометрика\\03_linear_regression\\src\\_components\\__init__.py)\n",
      "]\n"
     ]
    }
   ],
   "source": [
    "%load_ext autoreload\n",
    "%autoreload 2"
   ]
  },
  {
   "cell_type": "code",
   "execution_count": 127,
   "metadata": {
    "pycharm": {
     "name": "#%%\n"
    }
   },
   "outputs": [],
   "source": [
    "import pandas as pd\n",
    "\n",
    "from src.report import conf_int, t_test, f_test, general, general_assessment\n",
    "from src.stats import LinearRegression, add_constant"
   ]
  },
  {
   "cell_type": "markdown",
   "source": [
    "# Считывание данных"
   ],
   "metadata": {
    "collapsed": false,
    "pycharm": {
     "name": "#%% md\n"
    }
   }
  },
  {
   "cell_type": "code",
   "execution_count": 128,
   "metadata": {
    "pycharm": {
     "name": "#%%\n"
    }
   },
   "outputs": [],
   "source": [
    "columns = {\n",
    "    'Сводные данные о продаже наличной иностранной '\n",
    "    'валюты кредитными организациями физическим лицам (x1)': 'x1',\n",
    "    'Курс рубля к доллару США (x2)': 'x2',\n",
    "    'Цена нефти марки \"Юралс\" (x3)': 'x3',\n",
    "    'Динамика потребительских цен по группам товаров и услуг '\n",
    "    '(месяц к соответствующему месяцу предыдущего года,%)  (x4)': 'x4',\n",
    "    'Объем денежных накоплений в РФ миллиард руб. (y)': 'y'\n",
    "}"
   ]
  },
  {
   "cell_type": "code",
   "execution_count": 129,
   "metadata": {
    "pycharm": {
     "name": "#%%\n"
    }
   },
   "outputs": [],
   "source": [
    "df = pd.read_excel('data/task.xlsx', sheet_name='Лист1', header=3, usecols=[1, 2, 3, 4, 5])\n",
    "df = df.rename(columns=columns)"
   ]
  },
  {
   "cell_type": "code",
   "execution_count": 130,
   "metadata": {
    "pycharm": {
     "name": "#%%\n"
    }
   },
   "outputs": [],
   "source": [
    "y = df['y']\n",
    "multiple_params = ['x1', 'x2', 'x3', 'x4']\n",
    "x = add_constant(df[multiple_params])"
   ]
  },
  {
   "cell_type": "markdown",
   "source": [
    "# R"
   ],
   "metadata": {
    "collapsed": false,
    "pycharm": {
     "name": "#%% md\n"
    }
   }
  },
  {
   "cell_type": "code",
   "execution_count": 130,
   "outputs": [],
   "source": [],
   "metadata": {
    "collapsed": false,
    "pycharm": {
     "name": "#%%\n"
    }
   }
  },
  {
   "cell_type": "markdown",
   "source": [
    "# Python"
   ],
   "metadata": {
    "collapsed": false,
    "pycharm": {
     "name": "#%% md\n"
    }
   }
  },
  {
   "cell_type": "code",
   "execution_count": 131,
   "metadata": {
    "pycharm": {
     "name": "#%%\n"
    }
   },
   "outputs": [],
   "source": [
    "model = LinearRegression(y, x)"
   ]
  },
  {
   "cell_type": "code",
   "execution_count": 132,
   "metadata": {
    "pycharm": {
     "name": "#%%\n"
    }
   },
   "outputs": [
    {
     "name": "stdout",
     "output_type": "stream",
     "text": [
      "                            OLS Regression Results                            \n",
      "==============================================================================\n",
      "Dep. Variable:                      y   R-squared:                       0.806\n",
      "Model:                            OLS   Adj. R-squared:                  0.761\n",
      "Method:                 Least Squares   F-statistic:                     17.70\n",
      "Date:                Thu, 07 Oct 2021   Prob (F-statistic):           6.83e-06\n",
      "Time:                        11:28:21   Log-Likelihood:                -168.61\n",
      "No. Observations:                  22   AIC:                             347.2\n",
      "Df Residuals:                      17   BIC:                             352.7\n",
      "Df Model:                           4                                         \n",
      "Covariance Type:            nonrobust                                         \n",
      "==============================================================================\n",
      "                 coef    std err          t      P>|t|      [0.025      0.975]\n",
      "------------------------------------------------------------------------------\n",
      "const        1.04e+04   6169.698      1.686      0.110   -2616.991    2.34e+04\n",
      "x1             0.4838      0.196      2.463      0.025       0.069       0.898\n",
      "x2           130.3151    132.126      0.986      0.338    -148.446     409.076\n",
      "x3            -6.4678     25.698     -0.252      0.804     -60.686      47.750\n",
      "x4          -276.3727     78.946     -3.501      0.003    -442.935    -109.810\n",
      "==============================================================================\n",
      "Omnibus:                        5.043   Durbin-Watson:                   1.083\n",
      "Prob(Omnibus):                  0.080   Jarque-Bera (JB):                2.978\n",
      "Skew:                           0.808   Prob(JB):                        0.226\n",
      "Kurtosis:                       3.797   Cond. No.                     2.32e+05\n",
      "==============================================================================\n",
      "\n",
      "Notes:\n",
      "[1] Standard Errors assume that the covariance matrix of the errors is correctly specified.\n",
      "[2] The condition number is large, 2.32e+05. This might indicate that there are\n",
      "strong multicollinearity or other numerical problems.\n"
     ]
    }
   ],
   "source": [
    "print(model.summary())"
   ]
  },
  {
   "cell_type": "markdown",
   "metadata": {},
   "source": [
    "## GENERAL"
   ]
  },
  {
   "cell_type": "code",
   "execution_count": 133,
   "metadata": {
    "pycharm": {
     "name": "#%%\n"
    }
   },
   "outputs": [
    {
     "data": {
      "text/plain": "<IPython.core.display.Markdown object>",
      "text/markdown": "$ y_i = a + b_{1} x_{i1} + b_{2} x_{i2} + b_{3} x_{i3} + b_{4} x_{i4} + e_i $<br>\n<br>\n$ \\hat{y_i} = \\hat{a} + \\hat{b_{1}} x_{i1} + \\hat{b_{2}} x_{i2} + \\hat{b_{3}} x_{i3} + \\hat{b_{4}} x_{i4} $<br>\n<br>\n$ \\hat{y_i} = 10399.933 + 0.484 x_{i1} + 130.315 x_{i2} + -6.468 x_{i3} + -276.373 x_{i4} $<br>\n<br>\n$ S_\\hat{a} = 6169.698 $<br>\n$ S_{\\hat{b_{1}}} = 0.196 $<br>\n$ S_{\\hat{b_{2}}} = 132.126 $<br>\n$ S_{\\hat{b_{3}}} = 25.698 $<br>\n$ S_{\\hat{b_{4}}} = 78.946 $"
     },
     "execution_count": 133,
     "metadata": {},
     "output_type": "execute_result"
    }
   ],
   "source": [
    "general(model)"
   ]
  },
  {
   "cell_type": "markdown",
   "metadata": {
    "pycharm": {
     "name": "#%% md\n"
    }
   },
   "source": [
    "## GENERAL ASSESSMENT"
   ]
  },
  {
   "cell_type": "code",
   "execution_count": 134,
   "metadata": {
    "pycharm": {
     "name": "#%%\n"
    }
   },
   "outputs": [
    {
     "data": {
      "text/plain": "<IPython.core.display.Markdown object>",
      "text/markdown": "$ S_{e_i} = 586.321 $<br>\n<br>\n$ R^2 = 0.806 $<br>\n<br>\n$ A = 2.597 $"
     },
     "execution_count": 134,
     "metadata": {},
     "output_type": "execute_result"
    }
   ],
   "source": [
    "general_assessment(model)"
   ]
  },
  {
   "cell_type": "markdown",
   "metadata": {},
   "source": [
    "## Оценка модели на значимость"
   ]
  },
  {
   "cell_type": "code",
   "execution_count": 135,
   "metadata": {
    "pycharm": {
     "name": "#%%\n"
    }
   },
   "outputs": [
    {
     "data": {
      "text/plain": "<IPython.core.display.Markdown object>",
      "text/markdown": "### F-критерий Фишера.\n<br><br>\n$ H_0: b_1 = ... = b_k = 0, \\\\ H_1: b_1^2 + ... + b_k^2 > 0. $\n<br><br>\n$$ F = \\frac{\\frac{R^2}{k}}{\\frac{1 - R^2}{(n - k - 1)}} $$\n<br><br>\n$ F_{набл} = 17.698 $<br>\n$ p\\text{-}value_F = 0.000 $\n<br><br>\n$ \\alpha = 0.05 $<br>\n$ F_{табл_{0.05}} = 2.208 $\n<br><br>\n$ 6.83e-06 < 0.05 $<br>\n$ p\\text{-}value < \\alpha \\rightarrow $ гипотеза $ H_0 $ <b>отвергается</b> - модель в целом <b>значима</b>."
     },
     "execution_count": 135,
     "metadata": {},
     "output_type": "execute_result"
    }
   ],
   "source": [
    "f_test(model)"
   ]
  },
  {
   "cell_type": "markdown",
   "metadata": {
    "pycharm": {
     "name": "#%% md\n"
    }
   },
   "source": [
    "## Оценка значимости параметров модели"
   ]
  },
  {
   "cell_type": "code",
   "execution_count": 136,
   "metadata": {
    "pycharm": {
     "name": "#%%\n"
    }
   },
   "outputs": [
    {
     "data": {
      "text/plain": "<IPython.core.display.Markdown object>",
      "text/markdown": "### t-критерий Стьюдета для оценки значимости параметров модели.\n<br><br>\n$ H_0: b_i = 0, \\\\ H_1: b_i \\neq 0. $\n<br><br>\n$$ t_{b_i} = \\frac{\\hat{b_i}}{S_{\\hat{b_i}}} $$\n<br><br>\n$ \\alpha = 0.05 $\n<br>\n$ t_{табл_{0.05}} = 2.110 $\n<br>\n\n<br>\n$ t_{a} = 1.686 $, $ p\\text{-}value_{t_{a}} = 0.110 $, $ p\\text{-}value > \\alpha \\rightarrow $гипотеза $ H_0 $ <b>принимается</b> - параметр <b>незначим</b>.<br>$ t_{b_{1}} = 2.463 $, $ p\\text{-}value_{t_{b_{1}}} = 0.025 $, $ p\\text{-}value < \\alpha \\rightarrow $гипотеза $ H_0 $ <b>отвергается</b> - параметр <b>значим</b>.<br>$ t_{b_{2}} = 0.986 $, $ p\\text{-}value_{t_{b_{2}}} = 0.338 $, $ p\\text{-}value > \\alpha \\rightarrow $гипотеза $ H_0 $ <b>принимается</b> - параметр <b>незначим</b>.<br>$ t_{b_{3}} = -0.252 $, $ p\\text{-}value_{t_{b_{3}}} = 0.804 $, $ p\\text{-}value > \\alpha \\rightarrow $гипотеза $ H_0 $ <b>принимается</b> - параметр <b>незначим</b>.<br>$ t_{b_{4}} = -3.501 $, $ p\\text{-}value_{t_{b_{4}}} = 0.003 $, $ p\\text{-}value < \\alpha \\rightarrow $гипотеза $ H_0 $ <b>отвергается</b> - параметр <b>значим</b>."
     },
     "execution_count": 136,
     "metadata": {},
     "output_type": "execute_result"
    }
   ],
   "source": [
    "t_test(model)"
   ]
  },
  {
   "cell_type": "markdown",
   "metadata": {
    "pycharm": {
     "name": "#%% md\n"
    }
   },
   "source": [
    "## Доверительные интервалы"
   ]
  },
  {
   "cell_type": "code",
   "execution_count": 137,
   "metadata": {
    "pycharm": {
     "name": "#%%\n"
    }
   },
   "outputs": [
    {
     "data": {
      "text/plain": "<IPython.core.display.Markdown object>",
      "text/markdown": "$ \\hat{b_i} - \\hat{\\sigma} \\cdot t_{табл} \\leq b_i \\leq \\hat{b_i} + \\hat{\\sigma} \\cdot t_{табл} $<br>\n<br>\n$ \\alpha = 0.05 $<br>\n<br>\n$ a : (-2616.991; 23416.857) $<br>\n$ b_{1} : (0.069; 0.898) $<br>\n$ b_{2} : (-148.446; 409.076) $<br>\n$ b_{3} : (-60.686; 47.750) $<br>\n$ b_{4} : (-442.935; -109.810) $"
     },
     "execution_count": 137,
     "metadata": {},
     "output_type": "execute_result"
    }
   ],
   "source": [
    "conf_int(model)"
   ]
  },
  {
   "cell_type": "code",
   "execution_count": null,
   "metadata": {
    "pycharm": {
     "name": "#%%\n"
    }
   },
   "outputs": [],
   "source": []
  }
 ],
 "metadata": {
  "kernelspec": {
   "display_name": "Python 3 (ipykernel)",
   "language": "python",
   "name": "python3"
  },
  "language_info": {
   "codemirror_mode": {
    "name": "ipython",
    "version": 3
   },
   "file_extension": ".py",
   "mimetype": "text/x-python",
   "name": "python",
   "nbconvert_exporter": "python",
   "pygments_lexer": "ipython3",
   "version": "3.9.7"
  }
 },
 "nbformat": 4,
 "nbformat_minor": 1
}