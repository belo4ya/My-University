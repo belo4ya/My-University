{
 "cells": [
  {
   "cell_type": "code",
   "execution_count": 1,
   "outputs": [],
   "source": [
    "%load_ext autoreload\n",
    "%autoreload 2"
   ],
   "metadata": {
    "collapsed": false,
    "pycharm": {
     "name": "#%%\n"
    }
   }
  },
  {
   "cell_type": "code",
   "execution_count": 2,
   "outputs": [],
   "source": [
    "import pandas as pd\n",
    "from IPython.display import Markdown\n",
    "\n",
    "from src.utils import to_math\n",
    "from src.test_ import FTest\n",
    "from src.display import ModelView\n",
    "from src.stats import LinearRegression, add_constant"
   ],
   "metadata": {
    "collapsed": false,
    "pycharm": {
     "name": "#%%\n"
    }
   }
  },
  {
   "cell_type": "code",
   "execution_count": 3,
   "outputs": [],
   "source": [
    "columns = {\n",
    "    'Сводные данные о продаже наличной иностранной '\n",
    "    'валюты кредитными организациями физическим лицам (x1)': 'x1',\n",
    "    'Курс рубля к доллару США (x2)': 'x2',\n",
    "    'Цена нефти марки \"Юралс\" (x3)': 'x3',\n",
    "    'Динамика потребительских цен по группам товаров и услуг '\n",
    "    '(месяц к соответствующему месяцу предыдущего года,%)  (x4)': 'x4',\n",
    "    'Объем денежных накоплений в РФ миллиард руб. (y)': 'y'\n",
    "}"
   ],
   "metadata": {
    "collapsed": false,
    "pycharm": {
     "name": "#%%\n"
    }
   }
  },
  {
   "cell_type": "code",
   "execution_count": 4,
   "outputs": [],
   "source": [
    "df = pd.read_excel('data/task.xlsx', sheet_name='Лист1', header=3, usecols=[1, 2, 3, 4, 5])\n",
    "df = df.rename(columns=columns)"
   ],
   "metadata": {
    "collapsed": false,
    "pycharm": {
     "name": "#%%\n"
    }
   }
  },
  {
   "cell_type": "code",
   "execution_count": 5,
   "outputs": [],
   "source": [
    "y = df['y']\n",
    "multiple_params = ['x1', 'x2', 'x3', 'x4']\n",
    "x = add_constant(df[multiple_params])"
   ],
   "metadata": {
    "collapsed": false,
    "pycharm": {
     "name": "#%%\n"
    }
   }
  },
  {
   "cell_type": "code",
   "execution_count": 6,
   "outputs": [],
   "source": [
    "model = LinearRegression(y, x)\n",
    "model_view = ModelView(model)"
   ],
   "metadata": {
    "collapsed": false,
    "pycharm": {
     "name": "#%%\n"
    }
   }
  },
  {
   "cell_type": "code",
   "execution_count": 7,
   "outputs": [
    {
     "data": {
      "text/plain": "<IPython.core.display.Markdown object>",
      "text/markdown": "$$ y_i = a_{0} + b_{1} x_{i1} + b_{2} x_{i2} + b_{3} x_{i3} + b_{4} x_{i4} + e_i $$"
     },
     "execution_count": 7,
     "metadata": {},
     "output_type": "execute_result"
    }
   ],
   "source": [
    "Markdown(model_view.specification())"
   ],
   "metadata": {
    "collapsed": false,
    "pycharm": {
     "name": "#%%\n"
    }
   }
  },
  {
   "cell_type": "code",
   "execution_count": 8,
   "outputs": [
    {
     "data": {
      "text/plain": "<IPython.core.display.Markdown object>",
      "text/markdown": "$$ \\hat{y_i} = \\hat{a_{0}} + \\hat{b_{1}} x_{i1} + \\hat{b_{2}} x_{i2} + \\hat{b_{3}} x_{i3} + \\hat{b_{4}} x_{i4} $$"
     },
     "execution_count": 8,
     "metadata": {},
     "output_type": "execute_result"
    }
   ],
   "source": [
    "Markdown(model_view.true_form())"
   ],
   "metadata": {
    "collapsed": false,
    "pycharm": {
     "name": "#%%\n"
    }
   }
  },
  {
   "cell_type": "code",
   "execution_count": 9,
   "outputs": [
    {
     "name": "stdout",
     "output_type": "stream",
     "text": [
      "                            OLS Regression Results                            \n",
      "==============================================================================\n",
      "Dep. Variable:                      y   R-squared:                       0.806\n",
      "Model:                            OLS   Adj. R-squared:                  0.761\n",
      "Method:                 Least Squares   F-statistic:                     17.70\n",
      "Date:                Mon, 04 Oct 2021   Prob (F-statistic):           6.83e-06\n",
      "Time:                        02:57:58   Log-Likelihood:                -168.61\n",
      "No. Observations:                  22   AIC:                             347.2\n",
      "Df Residuals:                      17   BIC:                             352.7\n",
      "Df Model:                           4                                         \n",
      "Covariance Type:            nonrobust                                         \n",
      "==============================================================================\n",
      "                 coef    std err          t      P>|t|      [0.025      0.975]\n",
      "------------------------------------------------------------------------------\n",
      "const        1.04e+04   6169.698      1.686      0.110   -2616.991    2.34e+04\n",
      "x1             0.4838      0.196      2.463      0.025       0.069       0.898\n",
      "x2           130.3151    132.126      0.986      0.338    -148.446     409.076\n",
      "x3            -6.4678     25.698     -0.252      0.804     -60.686      47.750\n",
      "x4          -276.3727     78.946     -3.501      0.003    -442.935    -109.810\n",
      "==============================================================================\n",
      "Omnibus:                        5.043   Durbin-Watson:                   1.083\n",
      "Prob(Omnibus):                  0.080   Jarque-Bera (JB):                2.978\n",
      "Skew:                           0.808   Prob(JB):                        0.226\n",
      "Kurtosis:                       3.797   Cond. No.                     2.32e+05\n",
      "==============================================================================\n",
      "\n",
      "Notes:\n",
      "[1] Standard Errors assume that the covariance matrix of the errors is correctly specified.\n",
      "[2] The condition number is large, 2.32e+05. This might indicate that there are\n",
      "strong multicollinearity or other numerical problems.\n"
     ]
    }
   ],
   "source": [
    "print(model.summary())"
   ],
   "metadata": {
    "collapsed": false,
    "pycharm": {
     "name": "#%%\n"
    }
   }
  },
  {
   "cell_type": "code",
   "execution_count": 20,
   "outputs": [
    {
     "data": {
      "text/plain": "<IPython.core.display.Markdown object>",
      "text/markdown": "$$ \\hat{y_i} = 1.04e+04 + 0.484 x_{i1} + 130 x_{i2} + -6.47 x_{i3} + -276 x_{i4} $$"
     },
     "execution_count": 20,
     "metadata": {},
     "output_type": "execute_result"
    }
   ],
   "source": [
    "Markdown(model_view.parameterized())"
   ],
   "metadata": {
    "collapsed": false,
    "pycharm": {
     "name": "#%%\n"
    }
   }
  },
  {
   "cell_type": "code",
   "execution_count": 21,
   "outputs": [
    {
     "data": {
      "text/plain": "<IPython.core.display.Markdown object>",
      "text/markdown": "$ S_\\hat{a} = 6.17e+03 $<br><br>$ S_{\\hat{b_{1}}} = 0.196 $<br><br>$ S_{\\hat{b_{2}}} = 132 $<br><br>$ S_{\\hat{b_{3}}} = 25.7 $<br><br>$ S_{\\hat{b_{4}}} = 78.9 $"
     },
     "execution_count": 21,
     "metadata": {},
     "output_type": "execute_result"
    }
   ],
   "source": [
    "Markdown('<br><br>'.join(model_view.bse(inline=True)))"
   ],
   "metadata": {
    "collapsed": false,
    "pycharm": {
     "name": "#%%\n"
    }
   }
  },
  {
   "cell_type": "code",
   "execution_count": 13,
   "outputs": [
    {
     "data": {
      "text/plain": "<IPython.core.display.Markdown object>",
      "text/markdown": "$$ S_{e_i} = 586 $$"
     },
     "execution_count": 13,
     "metadata": {},
     "output_type": "execute_result"
    }
   ],
   "source": [
    "Markdown(model_view.rmsd_resid())"
   ],
   "metadata": {
    "collapsed": false,
    "pycharm": {
     "name": "#%%\n"
    }
   }
  },
  {
   "cell_type": "code",
   "execution_count": 14,
   "outputs": [
    {
     "data": {
      "text/plain": "<IPython.core.display.Markdown object>",
      "text/markdown": "$$ R^2 = 0.806 $$"
     },
     "execution_count": 14,
     "metadata": {},
     "output_type": "execute_result"
    }
   ],
   "source": [
    "Markdown(model_view.rsquared())"
   ],
   "metadata": {
    "collapsed": false,
    "pycharm": {
     "name": "#%%\n"
    }
   }
  },
  {
   "cell_type": "code",
   "execution_count": 15,
   "outputs": [
    {
     "data": {
      "text/plain": "<IPython.core.display.Markdown object>",
      "text/markdown": "$$ A = 2.6 $$"
     },
     "execution_count": 15,
     "metadata": {},
     "output_type": "execute_result"
    }
   ],
   "source": [
    "Markdown(model_view.mapprxe())"
   ],
   "metadata": {
    "collapsed": false,
    "pycharm": {
     "name": "#%%\n"
    }
   }
  },
  {
   "cell_type": "code",
   "execution_count": 16,
   "outputs": [],
   "source": [
    "f_test = FTest(model)"
   ],
   "metadata": {
    "collapsed": false,
    "pycharm": {
     "name": "#%%\n"
    }
   }
  },
  {
   "cell_type": "code",
   "execution_count": 17,
   "outputs": [
    {
     "data": {
      "text/plain": "<IPython.core.display.Markdown object>",
      "text/markdown": "$$ H_0: b_1 = ... = b_k = 0, \\\\ H_1: b_1^2 + ... + b_k^2 > 0. $$"
     },
     "execution_count": 17,
     "metadata": {},
     "output_type": "execute_result"
    }
   ],
   "source": [
    "Markdown(f_test.hypotheses())"
   ],
   "metadata": {
    "collapsed": false,
    "pycharm": {
     "name": "#%%\n"
    }
   }
  },
  {
   "cell_type": "code",
   "execution_count": 18,
   "outputs": [
    {
     "data": {
      "text/plain": "<IPython.core.display.Markdown object>",
      "text/markdown": "$$ F = \\frac{\\frac{R^2}{k}}{\\frac{1 - R^2}{(n - k - 1)}} $$"
     },
     "execution_count": 18,
     "metadata": {},
     "output_type": "execute_result"
    }
   ],
   "source": [
    "Markdown(to_math(f_test.F_FORMULA))"
   ],
   "metadata": {
    "collapsed": false,
    "pycharm": {
     "name": "#%%\n"
    }
   }
  },
  {
   "cell_type": "code",
   "execution_count": 19,
   "outputs": [
    {
     "data": {
      "text/plain": "<IPython.core.display.Markdown object>",
      "text/markdown": "$ F_{набл} = 17.7 $<br>\n$ p\\text{-}value_F = 6.83e-06 $\n<br><br>\n$ \\alpha = 0.05 $<br>\n$ F_{табл_{0.05}} = 2.21 $\n<br><br>\n$ 6.83e-06 < 0.05 $<br>\n$ p\\text{-}value < \\alpha \\rightarrow $ гипотеза $ H_0 $ отвергается - модель в целом значима."
     },
     "execution_count": 19,
     "metadata": {},
     "output_type": "execute_result"
    }
   ],
   "source": [
    "Markdown(f_test.test_report())"
   ],
   "metadata": {
    "collapsed": false,
    "pycharm": {
     "name": "#%%\n"
    }
   }
  },
  {
   "cell_type": "code",
   "execution_count": null,
   "outputs": [],
   "source": [],
   "metadata": {
    "collapsed": false,
    "pycharm": {
     "name": "#%%\n"
    }
   }
  }
 ],
 "metadata": {
  "kernelspec": {
   "display_name": "Python 3",
   "language": "python",
   "name": "python3"
  },
  "language_info": {
   "codemirror_mode": {
    "name": "ipython",
    "version": 2
   },
   "file_extension": ".py",
   "mimetype": "text/x-python",
   "name": "python",
   "nbconvert_exporter": "python",
   "pygments_lexer": "ipython2",
   "version": "2.7.6"
  }
 },
 "nbformat": 4,
 "nbformat_minor": 0
}