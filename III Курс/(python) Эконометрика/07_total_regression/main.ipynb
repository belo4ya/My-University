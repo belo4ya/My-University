{
 "cells": [
  {
   "cell_type": "code",
   "execution_count": 1,
   "metadata": {
    "collapsed": true
   },
   "outputs": [
    {
     "name": "stderr",
     "output_type": "stream",
     "text": [
      "d:\\it\\coding\\github projects\\my-university\\iii курс\\(python) эконометрика\\venv\\lib\\site-packages\\rpy2\\robjects\\packages.py:366: UserWarning: The symbol 'quartz' is not in this R namespace/package.\n",
      "  warnings.warn(\n"
     ]
    }
   ],
   "source": [
    "%load_ext autoreload\n",
    "%autoreload 2\n",
    "\n",
    "%load_ext rpy2.ipython"
   ]
  },
  {
   "cell_type": "code",
   "execution_count": 1,
   "outputs": [],
   "source": [],
   "metadata": {
    "collapsed": false,
    "pycharm": {
     "name": "#%%\n"
    }
   }
  },
  {
   "cell_type": "code",
   "execution_count": 2,
   "outputs": [],
   "source": [
    "from data import DATA_FRAME"
   ],
   "metadata": {
    "collapsed": false,
    "pycharm": {
     "name": "#%%\n"
    }
   }
  },
  {
   "cell_type": "code",
   "execution_count": 3,
   "outputs": [
    {
     "data": {
      "text/plain": "              y          x1         x2         x3\n0    195.197059  168.756262  31.972479  46.746935\n1    195.190125  168.663856  32.073664  46.010348\n2    196.225667  170.136834  33.630488  46.477245\n3    197.097511  170.662084  34.285954  46.660334\n4    193.652921  167.539127  32.767683  47.977245\n..          ...         ...        ...        ...\n295  195.360906  169.267803  33.383489  45.590076\n296  194.890106  168.369894  32.911007  47.821680\n297  195.509979  170.538656  35.594192  48.438330\n298  195.875307  170.125282  34.178079  46.502980\n299  196.186059  169.646277  34.285172  46.360798\n\n[300 rows x 4 columns]",
      "text/html": "<div>\n<style scoped>\n    .dataframe tbody tr th:only-of-type {\n        vertical-align: middle;\n    }\n\n    .dataframe tbody tr th {\n        vertical-align: top;\n    }\n\n    .dataframe thead th {\n        text-align: right;\n    }\n</style>\n<table border=\"1\" class=\"dataframe\">\n  <thead>\n    <tr style=\"text-align: right;\">\n      <th></th>\n      <th>y</th>\n      <th>x1</th>\n      <th>x2</th>\n      <th>x3</th>\n    </tr>\n  </thead>\n  <tbody>\n    <tr>\n      <th>0</th>\n      <td>195.197059</td>\n      <td>168.756262</td>\n      <td>31.972479</td>\n      <td>46.746935</td>\n    </tr>\n    <tr>\n      <th>1</th>\n      <td>195.190125</td>\n      <td>168.663856</td>\n      <td>32.073664</td>\n      <td>46.010348</td>\n    </tr>\n    <tr>\n      <th>2</th>\n      <td>196.225667</td>\n      <td>170.136834</td>\n      <td>33.630488</td>\n      <td>46.477245</td>\n    </tr>\n    <tr>\n      <th>3</th>\n      <td>197.097511</td>\n      <td>170.662084</td>\n      <td>34.285954</td>\n      <td>46.660334</td>\n    </tr>\n    <tr>\n      <th>4</th>\n      <td>193.652921</td>\n      <td>167.539127</td>\n      <td>32.767683</td>\n      <td>47.977245</td>\n    </tr>\n    <tr>\n      <th>...</th>\n      <td>...</td>\n      <td>...</td>\n      <td>...</td>\n      <td>...</td>\n    </tr>\n    <tr>\n      <th>295</th>\n      <td>195.360906</td>\n      <td>169.267803</td>\n      <td>33.383489</td>\n      <td>45.590076</td>\n    </tr>\n    <tr>\n      <th>296</th>\n      <td>194.890106</td>\n      <td>168.369894</td>\n      <td>32.911007</td>\n      <td>47.821680</td>\n    </tr>\n    <tr>\n      <th>297</th>\n      <td>195.509979</td>\n      <td>170.538656</td>\n      <td>35.594192</td>\n      <td>48.438330</td>\n    </tr>\n    <tr>\n      <th>298</th>\n      <td>195.875307</td>\n      <td>170.125282</td>\n      <td>34.178079</td>\n      <td>46.502980</td>\n    </tr>\n    <tr>\n      <th>299</th>\n      <td>196.186059</td>\n      <td>169.646277</td>\n      <td>34.285172</td>\n      <td>46.360798</td>\n    </tr>\n  </tbody>\n</table>\n<p>300 rows × 4 columns</p>\n</div>"
     },
     "execution_count": 3,
     "metadata": {},
     "output_type": "execute_result"
    }
   ],
   "source": [
    "DATA_FRAME"
   ],
   "metadata": {
    "collapsed": false,
    "pycharm": {
     "name": "#%%\n"
    }
   }
  },
  {
   "cell_type": "code",
   "execution_count": null,
   "outputs": [],
   "source": [],
   "metadata": {
    "collapsed": false,
    "pycharm": {
     "name": "#%%\n"
    }
   }
  }
 ],
 "metadata": {
  "kernelspec": {
   "display_name": "Python 3",
   "language": "python",
   "name": "python3"
  },
  "language_info": {
   "codemirror_mode": {
    "name": "ipython",
    "version": 2
   },
   "file_extension": ".py",
   "mimetype": "text/x-python",
   "name": "python",
   "nbconvert_exporter": "python",
   "pygments_lexer": "ipython2",
   "version": "2.7.6"
  }
 },
 "nbformat": 4,
 "nbformat_minor": 0
}