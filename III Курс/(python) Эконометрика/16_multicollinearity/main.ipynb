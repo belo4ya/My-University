{
 "cells": [
  {
   "cell_type": "code",
   "execution_count": 110,
   "outputs": [],
   "source": [
    "import numpy as np\n",
    "import pandas as pd\n",
    "import statsmodels.api as sm\n",
    "from IPython.display import Markdown\n",
    "from scipy import stats\n",
    "from sklearn.model_selection import train_test_split\n",
    "from statsmodels.stats.outliers_influence import variance_inflation_factor\n",
    "\n",
    "from src.report import (\n",
    "    t_test,\n",
    "    f_test,\n",
    "    general,\n",
    "    general_assessment,\n",
    "    other\n",
    ")\n",
    "from src.stats import LinearRegression, add_constant"
   ],
   "metadata": {
    "collapsed": false,
    "pycharm": {
     "name": "#%%\n"
    }
   }
  },
  {
   "cell_type": "code",
   "execution_count": 111,
   "outputs": [],
   "source": [
    "%reload_ext autoreload\n",
    "%autoreload 2"
   ],
   "metadata": {
    "collapsed": false,
    "pycharm": {
     "name": "#%%\n"
    }
   }
  },
  {
   "cell_type": "code",
   "execution_count": 112,
   "outputs": [],
   "source": [
    "ALPHA = 0.05"
   ],
   "metadata": {
    "collapsed": false,
    "pycharm": {
     "name": "#%%\n"
    }
   }
  },
  {
   "cell_type": "markdown",
   "source": [
    "# Множественная регрессия"
   ],
   "metadata": {
    "collapsed": false,
    "pycharm": {
     "name": "#%% md\n"
    }
   }
  },
  {
   "cell_type": "code",
   "execution_count": 113,
   "outputs": [],
   "source": [
    "DATA = \"\"\"\n",
    "No Qi(млн.шт.) Ii(тыс.руб). Mi(млн.руб) Pi(руб.)\n",
    "1 199,94 55,81 6,16 41,55\n",
    "2 200,56 56,34 7,19 42,8\n",
    "3 199,02 53,86 7,6 42,08\n",
    "4 201,87 56,55 9,7 40,51\n",
    "5 199,18 54,95 7,98 45,33\n",
    "6 200,31 56,52 7,75 42,74\n",
    "7 202,68 56,96 10,31 41,49\n",
    "8 201,86 58,12 8,14 42,47\n",
    "9 200,71 55,98 9,27 42,4\n",
    "10 200,07 55,87 9,72 41,48\n",
    "11 202,77 58,59 9,12 40,46\n",
    "12 199,16 56 6,78 41,01\n",
    "13 201,37 57,11 8,12 41,87\n",
    "14 200,37 55,52 8,1 41,01\n",
    "15 200,32 55,88 9,46 43,53\n",
    "16 199,51 55,04 7,43 43,26\n",
    "17 200,01 56 8,16 42,73\n",
    "18 200,09 55,43 8,7 44,04\n",
    "19 201,79 56,48 8,75 41,31\n",
    "20 201,46 56,93 6,98 41,43\n",
    "21 200,13 56,97 7,21 42,55\n",
    "22 201,06 56,13 9,38 43,03\n",
    "23 201,24 57,55 8,49 40,86\n",
    "24 201,93 57,48 8,34 40,83\n",
    "25 200,94 56,61 8,62 42,09\n",
    "26 200,07 55,18 8,69 42,46\n",
    "27 200,07 56,22 8 41,9\n",
    "28 201,74 56,96 7,97 40,18\n",
    "29 201,27 56,58 9,3 41,36\n",
    "30 201,65 57,47 9,09 42,71\n",
    "\"\"\"\n",
    "\n",
    "DATA = [map(lambda x: float(x.replace(',', '.')), row.split()[1:]) for row in DATA.strip().split('\\n')[1:]]"
   ],
   "metadata": {
    "collapsed": false,
    "pycharm": {
     "name": "#%%\n"
    }
   }
  },
  {
   "cell_type": "code",
   "execution_count": 114,
   "outputs": [
    {
     "data": {
      "text/plain": "         Q      I      M      P\n0   199.94  55.81   6.16  41.55\n1   200.56  56.34   7.19  42.80\n2   199.02  53.86   7.60  42.08\n3   201.87  56.55   9.70  40.51\n4   199.18  54.95   7.98  45.33\n5   200.31  56.52   7.75  42.74\n6   202.68  56.96  10.31  41.49\n7   201.86  58.12   8.14  42.47\n8   200.71  55.98   9.27  42.40\n9   200.07  55.87   9.72  41.48\n10  202.77  58.59   9.12  40.46\n11  199.16  56.00   6.78  41.01\n12  201.37  57.11   8.12  41.87\n13  200.37  55.52   8.10  41.01\n14  200.32  55.88   9.46  43.53\n15  199.51  55.04   7.43  43.26\n16  200.01  56.00   8.16  42.73\n17  200.09  55.43   8.70  44.04\n18  201.79  56.48   8.75  41.31\n19  201.46  56.93   6.98  41.43\n20  200.13  56.97   7.21  42.55\n21  201.06  56.13   9.38  43.03\n22  201.24  57.55   8.49  40.86\n23  201.93  57.48   8.34  40.83\n24  200.94  56.61   8.62  42.09\n25  200.07  55.18   8.69  42.46\n26  200.07  56.22   8.00  41.90\n27  201.74  56.96   7.97  40.18\n28  201.27  56.58   9.30  41.36\n29  201.65  57.47   9.09  42.71",
      "text/html": "<div>\n<style scoped>\n    .dataframe tbody tr th:only-of-type {\n        vertical-align: middle;\n    }\n\n    .dataframe tbody tr th {\n        vertical-align: top;\n    }\n\n    .dataframe thead th {\n        text-align: right;\n    }\n</style>\n<table border=\"1\" class=\"dataframe\">\n  <thead>\n    <tr style=\"text-align: right;\">\n      <th></th>\n      <th>Q</th>\n      <th>I</th>\n      <th>M</th>\n      <th>P</th>\n    </tr>\n  </thead>\n  <tbody>\n    <tr>\n      <th>0</th>\n      <td>199.94</td>\n      <td>55.81</td>\n      <td>6.16</td>\n      <td>41.55</td>\n    </tr>\n    <tr>\n      <th>1</th>\n      <td>200.56</td>\n      <td>56.34</td>\n      <td>7.19</td>\n      <td>42.80</td>\n    </tr>\n    <tr>\n      <th>2</th>\n      <td>199.02</td>\n      <td>53.86</td>\n      <td>7.60</td>\n      <td>42.08</td>\n    </tr>\n    <tr>\n      <th>3</th>\n      <td>201.87</td>\n      <td>56.55</td>\n      <td>9.70</td>\n      <td>40.51</td>\n    </tr>\n    <tr>\n      <th>4</th>\n      <td>199.18</td>\n      <td>54.95</td>\n      <td>7.98</td>\n      <td>45.33</td>\n    </tr>\n    <tr>\n      <th>5</th>\n      <td>200.31</td>\n      <td>56.52</td>\n      <td>7.75</td>\n      <td>42.74</td>\n    </tr>\n    <tr>\n      <th>6</th>\n      <td>202.68</td>\n      <td>56.96</td>\n      <td>10.31</td>\n      <td>41.49</td>\n    </tr>\n    <tr>\n      <th>7</th>\n      <td>201.86</td>\n      <td>58.12</td>\n      <td>8.14</td>\n      <td>42.47</td>\n    </tr>\n    <tr>\n      <th>8</th>\n      <td>200.71</td>\n      <td>55.98</td>\n      <td>9.27</td>\n      <td>42.40</td>\n    </tr>\n    <tr>\n      <th>9</th>\n      <td>200.07</td>\n      <td>55.87</td>\n      <td>9.72</td>\n      <td>41.48</td>\n    </tr>\n    <tr>\n      <th>10</th>\n      <td>202.77</td>\n      <td>58.59</td>\n      <td>9.12</td>\n      <td>40.46</td>\n    </tr>\n    <tr>\n      <th>11</th>\n      <td>199.16</td>\n      <td>56.00</td>\n      <td>6.78</td>\n      <td>41.01</td>\n    </tr>\n    <tr>\n      <th>12</th>\n      <td>201.37</td>\n      <td>57.11</td>\n      <td>8.12</td>\n      <td>41.87</td>\n    </tr>\n    <tr>\n      <th>13</th>\n      <td>200.37</td>\n      <td>55.52</td>\n      <td>8.10</td>\n      <td>41.01</td>\n    </tr>\n    <tr>\n      <th>14</th>\n      <td>200.32</td>\n      <td>55.88</td>\n      <td>9.46</td>\n      <td>43.53</td>\n    </tr>\n    <tr>\n      <th>15</th>\n      <td>199.51</td>\n      <td>55.04</td>\n      <td>7.43</td>\n      <td>43.26</td>\n    </tr>\n    <tr>\n      <th>16</th>\n      <td>200.01</td>\n      <td>56.00</td>\n      <td>8.16</td>\n      <td>42.73</td>\n    </tr>\n    <tr>\n      <th>17</th>\n      <td>200.09</td>\n      <td>55.43</td>\n      <td>8.70</td>\n      <td>44.04</td>\n    </tr>\n    <tr>\n      <th>18</th>\n      <td>201.79</td>\n      <td>56.48</td>\n      <td>8.75</td>\n      <td>41.31</td>\n    </tr>\n    <tr>\n      <th>19</th>\n      <td>201.46</td>\n      <td>56.93</td>\n      <td>6.98</td>\n      <td>41.43</td>\n    </tr>\n    <tr>\n      <th>20</th>\n      <td>200.13</td>\n      <td>56.97</td>\n      <td>7.21</td>\n      <td>42.55</td>\n    </tr>\n    <tr>\n      <th>21</th>\n      <td>201.06</td>\n      <td>56.13</td>\n      <td>9.38</td>\n      <td>43.03</td>\n    </tr>\n    <tr>\n      <th>22</th>\n      <td>201.24</td>\n      <td>57.55</td>\n      <td>8.49</td>\n      <td>40.86</td>\n    </tr>\n    <tr>\n      <th>23</th>\n      <td>201.93</td>\n      <td>57.48</td>\n      <td>8.34</td>\n      <td>40.83</td>\n    </tr>\n    <tr>\n      <th>24</th>\n      <td>200.94</td>\n      <td>56.61</td>\n      <td>8.62</td>\n      <td>42.09</td>\n    </tr>\n    <tr>\n      <th>25</th>\n      <td>200.07</td>\n      <td>55.18</td>\n      <td>8.69</td>\n      <td>42.46</td>\n    </tr>\n    <tr>\n      <th>26</th>\n      <td>200.07</td>\n      <td>56.22</td>\n      <td>8.00</td>\n      <td>41.90</td>\n    </tr>\n    <tr>\n      <th>27</th>\n      <td>201.74</td>\n      <td>56.96</td>\n      <td>7.97</td>\n      <td>40.18</td>\n    </tr>\n    <tr>\n      <th>28</th>\n      <td>201.27</td>\n      <td>56.58</td>\n      <td>9.30</td>\n      <td>41.36</td>\n    </tr>\n    <tr>\n      <th>29</th>\n      <td>201.65</td>\n      <td>57.47</td>\n      <td>9.09</td>\n      <td>42.71</td>\n    </tr>\n  </tbody>\n</table>\n</div>"
     },
     "execution_count": 114,
     "metadata": {},
     "output_type": "execute_result"
    }
   ],
   "source": [
    "DATA = pd.DataFrame(DATA, columns=['Q', 'I', 'M', 'P'])\n",
    "DATA"
   ],
   "metadata": {
    "collapsed": false,
    "pycharm": {
     "name": "#%%\n"
    }
   }
  },
  {
   "cell_type": "code",
   "execution_count": 115,
   "outputs": [],
   "source": [
    "\n",
    "X = add_constant(DATA[['I', 'M', 'P']])\n",
    "y = DATA['Q']"
   ],
   "metadata": {
    "collapsed": false,
    "pycharm": {
     "name": "#%%\n"
    }
   }
  },
  {
   "cell_type": "code",
   "execution_count": 116,
   "outputs": [
    {
     "data": {
      "text/plain": "    const      I      M      P\n0     1.0  55.81   6.16  41.55\n1     1.0  56.34   7.19  42.80\n2     1.0  53.86   7.60  42.08\n3     1.0  56.55   9.70  40.51\n4     1.0  54.95   7.98  45.33\n5     1.0  56.52   7.75  42.74\n6     1.0  56.96  10.31  41.49\n7     1.0  58.12   8.14  42.47\n8     1.0  55.98   9.27  42.40\n9     1.0  55.87   9.72  41.48\n10    1.0  58.59   9.12  40.46\n11    1.0  56.00   6.78  41.01\n12    1.0  57.11   8.12  41.87\n13    1.0  55.52   8.10  41.01\n14    1.0  55.88   9.46  43.53\n15    1.0  55.04   7.43  43.26\n16    1.0  56.00   8.16  42.73\n17    1.0  55.43   8.70  44.04\n18    1.0  56.48   8.75  41.31\n19    1.0  56.93   6.98  41.43\n20    1.0  56.97   7.21  42.55\n21    1.0  56.13   9.38  43.03\n22    1.0  57.55   8.49  40.86\n23    1.0  57.48   8.34  40.83\n24    1.0  56.61   8.62  42.09\n25    1.0  55.18   8.69  42.46\n26    1.0  56.22   8.00  41.90\n27    1.0  56.96   7.97  40.18\n28    1.0  56.58   9.30  41.36",
      "text/html": "<div>\n<style scoped>\n    .dataframe tbody tr th:only-of-type {\n        vertical-align: middle;\n    }\n\n    .dataframe tbody tr th {\n        vertical-align: top;\n    }\n\n    .dataframe thead th {\n        text-align: right;\n    }\n</style>\n<table border=\"1\" class=\"dataframe\">\n  <thead>\n    <tr style=\"text-align: right;\">\n      <th></th>\n      <th>const</th>\n      <th>I</th>\n      <th>M</th>\n      <th>P</th>\n    </tr>\n  </thead>\n  <tbody>\n    <tr>\n      <th>0</th>\n      <td>1.0</td>\n      <td>55.81</td>\n      <td>6.16</td>\n      <td>41.55</td>\n    </tr>\n    <tr>\n      <th>1</th>\n      <td>1.0</td>\n      <td>56.34</td>\n      <td>7.19</td>\n      <td>42.80</td>\n    </tr>\n    <tr>\n      <th>2</th>\n      <td>1.0</td>\n      <td>53.86</td>\n      <td>7.60</td>\n      <td>42.08</td>\n    </tr>\n    <tr>\n      <th>3</th>\n      <td>1.0</td>\n      <td>56.55</td>\n      <td>9.70</td>\n      <td>40.51</td>\n    </tr>\n    <tr>\n      <th>4</th>\n      <td>1.0</td>\n      <td>54.95</td>\n      <td>7.98</td>\n      <td>45.33</td>\n    </tr>\n    <tr>\n      <th>5</th>\n      <td>1.0</td>\n      <td>56.52</td>\n      <td>7.75</td>\n      <td>42.74</td>\n    </tr>\n    <tr>\n      <th>6</th>\n      <td>1.0</td>\n      <td>56.96</td>\n      <td>10.31</td>\n      <td>41.49</td>\n    </tr>\n    <tr>\n      <th>7</th>\n      <td>1.0</td>\n      <td>58.12</td>\n      <td>8.14</td>\n      <td>42.47</td>\n    </tr>\n    <tr>\n      <th>8</th>\n      <td>1.0</td>\n      <td>55.98</td>\n      <td>9.27</td>\n      <td>42.40</td>\n    </tr>\n    <tr>\n      <th>9</th>\n      <td>1.0</td>\n      <td>55.87</td>\n      <td>9.72</td>\n      <td>41.48</td>\n    </tr>\n    <tr>\n      <th>10</th>\n      <td>1.0</td>\n      <td>58.59</td>\n      <td>9.12</td>\n      <td>40.46</td>\n    </tr>\n    <tr>\n      <th>11</th>\n      <td>1.0</td>\n      <td>56.00</td>\n      <td>6.78</td>\n      <td>41.01</td>\n    </tr>\n    <tr>\n      <th>12</th>\n      <td>1.0</td>\n      <td>57.11</td>\n      <td>8.12</td>\n      <td>41.87</td>\n    </tr>\n    <tr>\n      <th>13</th>\n      <td>1.0</td>\n      <td>55.52</td>\n      <td>8.10</td>\n      <td>41.01</td>\n    </tr>\n    <tr>\n      <th>14</th>\n      <td>1.0</td>\n      <td>55.88</td>\n      <td>9.46</td>\n      <td>43.53</td>\n    </tr>\n    <tr>\n      <th>15</th>\n      <td>1.0</td>\n      <td>55.04</td>\n      <td>7.43</td>\n      <td>43.26</td>\n    </tr>\n    <tr>\n      <th>16</th>\n      <td>1.0</td>\n      <td>56.00</td>\n      <td>8.16</td>\n      <td>42.73</td>\n    </tr>\n    <tr>\n      <th>17</th>\n      <td>1.0</td>\n      <td>55.43</td>\n      <td>8.70</td>\n      <td>44.04</td>\n    </tr>\n    <tr>\n      <th>18</th>\n      <td>1.0</td>\n      <td>56.48</td>\n      <td>8.75</td>\n      <td>41.31</td>\n    </tr>\n    <tr>\n      <th>19</th>\n      <td>1.0</td>\n      <td>56.93</td>\n      <td>6.98</td>\n      <td>41.43</td>\n    </tr>\n    <tr>\n      <th>20</th>\n      <td>1.0</td>\n      <td>56.97</td>\n      <td>7.21</td>\n      <td>42.55</td>\n    </tr>\n    <tr>\n      <th>21</th>\n      <td>1.0</td>\n      <td>56.13</td>\n      <td>9.38</td>\n      <td>43.03</td>\n    </tr>\n    <tr>\n      <th>22</th>\n      <td>1.0</td>\n      <td>57.55</td>\n      <td>8.49</td>\n      <td>40.86</td>\n    </tr>\n    <tr>\n      <th>23</th>\n      <td>1.0</td>\n      <td>57.48</td>\n      <td>8.34</td>\n      <td>40.83</td>\n    </tr>\n    <tr>\n      <th>24</th>\n      <td>1.0</td>\n      <td>56.61</td>\n      <td>8.62</td>\n      <td>42.09</td>\n    </tr>\n    <tr>\n      <th>25</th>\n      <td>1.0</td>\n      <td>55.18</td>\n      <td>8.69</td>\n      <td>42.46</td>\n    </tr>\n    <tr>\n      <th>26</th>\n      <td>1.0</td>\n      <td>56.22</td>\n      <td>8.00</td>\n      <td>41.90</td>\n    </tr>\n    <tr>\n      <th>27</th>\n      <td>1.0</td>\n      <td>56.96</td>\n      <td>7.97</td>\n      <td>40.18</td>\n    </tr>\n    <tr>\n      <th>28</th>\n      <td>1.0</td>\n      <td>56.58</td>\n      <td>9.30</td>\n      <td>41.36</td>\n    </tr>\n  </tbody>\n</table>\n</div>"
     },
     "execution_count": 116,
     "metadata": {},
     "output_type": "execute_result"
    }
   ],
   "source": [
    "X_train, X_test, y_train, y_test = train_test_split(X, y, train_size=0.98, shuffle=False)\n",
    "X_train"
   ],
   "metadata": {
    "collapsed": false,
    "pycharm": {
     "name": "#%%\n"
    }
   }
  },
  {
   "cell_type": "code",
   "execution_count": 117,
   "outputs": [],
   "source": [
    "model = LinearRegression(y_train, X_train)"
   ],
   "metadata": {
    "collapsed": false,
    "pycharm": {
     "name": "#%%\n"
    }
   }
  },
  {
   "cell_type": "code",
   "execution_count": 118,
   "outputs": [
    {
     "name": "stdout",
     "output_type": "stream",
     "text": [
      "                            OLS Regression Results                            \n",
      "==============================================================================\n",
      "Dep. Variable:                      Q   R-squared:                       0.823\n",
      "Model:                            OLS   Adj. R-squared:                  0.802\n",
      "Method:                 Least Squares   F-statistic:                     38.86\n",
      "Date:                Sat, 18 Dec 2021   Prob (F-statistic):           1.45e-09\n",
      "Time:                        11:32:21   Log-Likelihood:                -15.892\n",
      "No. Observations:                  29   AIC:                             39.78\n",
      "Df Residuals:                      25   BIC:                             45.25\n",
      "Df Model:                           3                                         \n",
      "Covariance Type:            nonrobust                                         \n",
      "==============================================================================\n",
      "                 coef    std err          t      P>|t|      [0.025      0.975]\n",
      "------------------------------------------------------------------------------\n",
      "const        166.6738      8.023     20.774      0.000     150.150     183.198\n",
      "I              0.6788      0.101      6.722      0.000       0.471       0.887\n",
      "M              0.3757      0.088      4.254      0.000       0.194       0.558\n",
      "P             -0.1736      0.085     -2.043      0.052      -0.349       0.001\n",
      "==============================================================================\n",
      "Omnibus:                        2.343   Durbin-Watson:                   2.153\n",
      "Prob(Omnibus):                  0.310   Jarque-Bera (JB):                1.534\n",
      "Skew:                          -0.562   Prob(JB):                        0.464\n",
      "Kurtosis:                       3.077   Cond. No.                     6.78e+03\n",
      "==============================================================================\n",
      "\n",
      "Notes:\n",
      "[1] Standard Errors assume that the covariance matrix of the errors is correctly specified.\n",
      "[2] The condition number is large, 6.78e+03. This might indicate that there are\n",
      "strong multicollinearity or other numerical problems.\n"
     ]
    }
   ],
   "source": [
    "print(model.summary())"
   ],
   "metadata": {
    "collapsed": false,
    "pycharm": {
     "name": "#%%\n"
    }
   }
  },
  {
   "cell_type": "code",
   "execution_count": 119,
   "outputs": [
    {
     "data": {
      "text/plain": "<IPython.core.display.Markdown object>",
      "text/markdown": "$ y_i = a + b_{1} x_{i1} + b_{2} x_{i2} + b_{3} x_{i3} + e_i $<br>\n<br>\n$ \\hat{y_i} = \\hat{a} + \\hat{b_{1}} x_{i1} + \\hat{b_{2}} x_{i2} + \\hat{b_{3}} x_{i3} $<br>\n<br>\n$ \\hat{y_i} = 166.674 + 0.679 x_{i1} + 0.376 x_{i2} + -0.174 x_{i3} $<br>\n<br>\n$ S_\\hat{a} = 8.023 $<br>\n$ S_{\\hat{b_{1}}} = 0.101 $<br>\n$ S_{\\hat{b_{2}}} = 0.088 $<br>\n$ S_{\\hat{b_{3}}} = 0.085 $"
     },
     "execution_count": 119,
     "metadata": {},
     "output_type": "execute_result"
    }
   ],
   "source": [
    "general(model)"
   ],
   "metadata": {
    "collapsed": false,
    "pycharm": {
     "name": "#%%\n"
    }
   }
  },
  {
   "cell_type": "code",
   "execution_count": 120,
   "outputs": [
    {
     "data": {
      "text/plain": "<IPython.core.display.Markdown object>",
      "text/markdown": "### Оценка среднеквадратического отклонения возмущений.<br>\n<br>\n$ \\sqrt{\\frac{1}{n - k - 1} \\sum_{i=1}^{n}{(y_i - \\hat{y_i}})^2} $<br>\n<br>\n$ S_{e} = 0.451 $<br>\n$ 30 \\% < 45.08_{S_{ei}} \\% \\rightarrow $ оценка: <b>0/10</b>.<br>\n<br>\n<br>\n### Коэффициент детерминации.<br>\n<br>\n$ R^2 = 1 - \\frac{\\sum_{i=1}^{n}{(y_i - \\hat{y_i})^2}}{\\sum_{i=1}^{n}{(y_i - \\bar{y})^2}}  = \\frac{\\sum_{i=1}^{n}{(\\hat{y_i} - \\bar{y})^2}}{\\sum_{i=1}^{n}{(y_i - \\bar{y})^2}}  = 1 - \\frac{RSS}{TSS} = \\frac{ESS}{TSS} $<br>\n<br>\n$ R^2 = 0.823 $<br>\n$ 0.8 < 0.823 < 0.9 \\rightarrow $ оценка: <b>8/10</b>.<br>\n<br>\n<br>\n### Средняя относительная ошибка аппроксимации.<br>\n<br>\n$ A = \\frac{1}{n} \\sum_{i=1}^{n}{|\\frac{y_i - \\hat{y_i}}{y_i}|} \\cdot 100 \\% $<br>\n<br>\n$ A = 0.163 $<br>\n$ 0 \\% < 0.163 < 2 \\% \\rightarrow $ оценка: <b>10/10</b>."
     },
     "execution_count": 120,
     "metadata": {},
     "output_type": "execute_result"
    }
   ],
   "source": [
    "general_assessment(model)"
   ],
   "metadata": {
    "collapsed": false,
    "pycharm": {
     "name": "#%%\n"
    }
   }
  },
  {
   "cell_type": "code",
   "execution_count": 121,
   "outputs": [
    {
     "data": {
      "text/plain": "<IPython.core.display.Markdown object>",
      "text/markdown": "### F-критерий Фишера.\n<br><br>\n$ H_0: b_1 = ... = b_k = 0, \\\\ H_1: b_1^2 + ... + b_k^2 > 0. $\n<br><br>\n$$ F = \\frac{\\frac{R^2}{k}}{\\frac{1 - R^2}{(n - k - 1)}} $$\n<br><br>\n$ F_{набл} = 38.856 $<br>\n$ p\\text{-}value_F = 0.000 $\n<br><br>\n$ \\alpha = 0.05 $<br>\n$ F_{табл_{0.05}} = 1.926 $\n<br><br>\n$ 1.45e-09 < 0.05 $<br>\n$ p\\text{-}value < \\alpha \\rightarrow $ гипотеза $ H_0 $ <b>отвергается</b> - модель в целом <b>значима</b>."
     },
     "execution_count": 121,
     "metadata": {},
     "output_type": "execute_result"
    }
   ],
   "source": [
    "f_test(model)"
   ],
   "metadata": {
    "collapsed": false,
    "pycharm": {
     "name": "#%%\n"
    }
   }
  },
  {
   "cell_type": "code",
   "execution_count": 122,
   "outputs": [
    {
     "data": {
      "text/plain": "<IPython.core.display.Markdown object>",
      "text/markdown": "### t-критерий Стьюдета для оценки значимости параметров модели.\n<br><br>\n$ H_0: b_i = 0, \\\\ H_1: b_i \\neq 0. $\n<br><br>\n$$ t_{b_i} = \\frac{\\hat{b_i}}{S_{\\hat{b_i}}} $$\n<br><br>\n$ \\alpha = 0.05 $\n<br>\n$ t_{табл_{0.05}} = 2.060 $\n<br>\n\n<br>\n$ t_{a} = 20.774 $, $ p\\text{-}value_{t_{a}} = 0.000 $, $ p\\text{-}value < \\alpha \\rightarrow $гипотеза $ H_0 $ <b>отвергается</b> - параметр <b>значим</b>.<br>$ t_{b_{1}} = 6.722 $, $ p\\text{-}value_{t_{b_{1}}} = 0.000 $, $ p\\text{-}value < \\alpha \\rightarrow $гипотеза $ H_0 $ <b>отвергается</b> - параметр <b>значим</b>.<br>$ t_{b_{2}} = 4.254 $, $ p\\text{-}value_{t_{b_{2}}} = 0.000 $, $ p\\text{-}value < \\alpha \\rightarrow $гипотеза $ H_0 $ <b>отвергается</b> - параметр <b>значим</b>.<br>$ t_{b_{3}} = -2.043 $, $ p\\text{-}value_{t_{b_{3}}} = 0.052 $, $ p\\text{-}value > \\alpha \\rightarrow $гипотеза $ H_0 $ <b>принимается</b> - параметр <b>незначим</b>."
     },
     "execution_count": 122,
     "metadata": {},
     "output_type": "execute_result"
    }
   ],
   "source": [
    "t_test(model)"
   ],
   "metadata": {
    "collapsed": false,
    "pycharm": {
     "name": "#%%\n"
    }
   }
  },
  {
   "cell_type": "code",
   "execution_count": 123,
   "outputs": [
    {
     "data": {
      "text/plain": "<IPython.core.display.Markdown object>",
      "text/markdown": "### Бета-коэффициенты.<br>\n<br>\n$ \\beta_j = \\hat{b_j} \\cdot \\frac{S_{x_{ij}}}{S_{y_i}} $<br>\n<br>\n$ \\beta_{1} = 0.659 $<br>\n$ \\beta_{2} = 0.363 $<br>\n$ \\beta_{3} = -0.198 $<br>\n<br>\n### Дельта-коэффициенты.<br>\n<br>\n$ \\Delta_j = r_{y_i x_{ij}} \\cdot \\frac{\\hat{b_j}}{R^2} $<br>\n<br>\n$ \\Delta_{1} = 0.653 $<br>\n$ \\Delta_{2} = 0.214 $<br>\n$ \\Delta_{3} = 0.132 $<br>\n<br>\n### Коэффициенты эластичности.<br>\n<br>\n$ Э_{j} = \\hat{b_j} \\cdot \\frac{\\bar{x_{ij}}}{\\bar{y_i}} $<br>\n<br>\n$ Э_{1} = 0.190 $<br>\n$ Э_{2} = 0.016 $<br>\n$ Э_{3} = -0.036 $"
     },
     "execution_count": 123,
     "metadata": {},
     "output_type": "execute_result"
    }
   ],
   "source": [
    "other(model)"
   ],
   "metadata": {
    "collapsed": false,
    "pycharm": {
     "name": "#%%\n"
    }
   }
  },
  {
   "cell_type": "code",
   "execution_count": 124,
   "outputs": [],
   "source": [
    "# С ростом дохода потребителей на 1% объем продаж увеличится на 0.19%.\n",
    "# С ростом затрат на рекламу на 1% объем продаж увеличится на 0.016%.\n",
    "# С ростом цены товара потребителей на 1% объем продаж уменьшится на 0.036%."
   ],
   "metadata": {
    "collapsed": false,
    "pycharm": {
     "name": "#%%\n"
    }
   }
  },
  {
   "cell_type": "markdown",
   "source": [
    "### Интерпретация параметров"
   ],
   "metadata": {
    "collapsed": false,
    "pycharm": {
     "name": "#%% md\n"
    }
   }
  },
  {
   "cell_type": "code",
   "execution_count": 125,
   "outputs": [],
   "source": [
    "# С ростом дохода потребителей на 1000 рублей, объем продаж вырастет на 678 единиц.\n",
    "# Объем продаж больше всего зависит от дохода потребителей, при этом доход потребителей растет медленнее объема продаж.\n",
    "# Чем больше затрат на рекламу, тем больше объем продаж (на 1 млн - 375 тыс.).\n",
    "# Чем выше цена товара, тем меньше желание покупателей приобретать товар."
   ],
   "metadata": {
    "collapsed": false,
    "pycharm": {
     "name": "#%%\n"
    }
   }
  },
  {
   "cell_type": "markdown",
   "source": [
    "## Мультиколлинеарность"
   ],
   "metadata": {
    "collapsed": false,
    "pycharm": {
     "name": "#%% md\n"
    }
   }
  },
  {
   "cell_type": "code",
   "execution_count": 126,
   "outputs": [
    {
     "data": {
      "text/plain": "          Q         I         M         P\nQ  1.000000  0.822532  0.498325 -0.522217\nI  0.822532  1.000000  0.191158 -0.459786\nM  0.498325  0.191158  1.000000 -0.054637\nP -0.522217 -0.459786 -0.054637  1.000000",
      "text/html": "<div>\n<style scoped>\n    .dataframe tbody tr th:only-of-type {\n        vertical-align: middle;\n    }\n\n    .dataframe tbody tr th {\n        vertical-align: top;\n    }\n\n    .dataframe thead th {\n        text-align: right;\n    }\n</style>\n<table border=\"1\" class=\"dataframe\">\n  <thead>\n    <tr style=\"text-align: right;\">\n      <th></th>\n      <th>Q</th>\n      <th>I</th>\n      <th>M</th>\n      <th>P</th>\n    </tr>\n  </thead>\n  <tbody>\n    <tr>\n      <th>Q</th>\n      <td>1.000000</td>\n      <td>0.822532</td>\n      <td>0.498325</td>\n      <td>-0.522217</td>\n    </tr>\n    <tr>\n      <th>I</th>\n      <td>0.822532</td>\n      <td>1.000000</td>\n      <td>0.191158</td>\n      <td>-0.459786</td>\n    </tr>\n    <tr>\n      <th>M</th>\n      <td>0.498325</td>\n      <td>0.191158</td>\n      <td>1.000000</td>\n      <td>-0.054637</td>\n    </tr>\n    <tr>\n      <th>P</th>\n      <td>-0.522217</td>\n      <td>-0.459786</td>\n      <td>-0.054637</td>\n      <td>1.000000</td>\n    </tr>\n  </tbody>\n</table>\n</div>"
     },
     "execution_count": 126,
     "metadata": {},
     "output_type": "execute_result"
    }
   ],
   "source": [
    "DATA.corr()"
   ],
   "metadata": {
    "collapsed": false,
    "pycharm": {
     "name": "#%%\n"
    }
   }
  },
  {
   "cell_type": "markdown",
   "source": [
    "### Метод вспомогательных регрессий"
   ],
   "metadata": {
    "collapsed": false,
    "pycharm": {
     "name": "#%% md\n"
    }
   }
  },
  {
   "cell_type": "code",
   "execution_count": 127,
   "outputs": [
    {
     "data": {
      "text/plain": "                I         M         P\nF        4.241078  0.532445  3.643971\np-value  0.025019  0.593206  0.039719",
      "text/html": "<div>\n<style scoped>\n    .dataframe tbody tr th:only-of-type {\n        vertical-align: middle;\n    }\n\n    .dataframe tbody tr th {\n        vertical-align: top;\n    }\n\n    .dataframe thead th {\n        text-align: right;\n    }\n</style>\n<table border=\"1\" class=\"dataframe\">\n  <thead>\n    <tr style=\"text-align: right;\">\n      <th></th>\n      <th>I</th>\n      <th>M</th>\n      <th>P</th>\n    </tr>\n  </thead>\n  <tbody>\n    <tr>\n      <th>F</th>\n      <td>4.241078</td>\n      <td>0.532445</td>\n      <td>3.643971</td>\n    </tr>\n    <tr>\n      <th>p-value</th>\n      <td>0.025019</td>\n      <td>0.593206</td>\n      <td>0.039719</td>\n    </tr>\n  </tbody>\n</table>\n</div>"
     },
     "execution_count": 127,
     "metadata": {},
     "output_type": "execute_result"
    }
   ],
   "source": [
    "I__M_P_results = sm.OLS(X['I'], X[['M', 'P', 'const']]).fit()\n",
    "M__I_P_results = sm.OLS(X['M'], X[['I', 'P', 'const']]).fit()\n",
    "P__M_I_results = sm.OLS(X['P'], X[['M', 'I', 'const']]).fit()\n",
    "pd.DataFrame(\n",
    "    [\n",
    "        [I__M_P_results.fvalue, M__I_P_results.fvalue, P__M_I_results.fvalue],\n",
    "        [I__M_P_results.f_pvalue, M__I_P_results.f_pvalue, P__M_I_results.f_pvalue],\n",
    "    ],\n",
    "    index=['F', 'p-value'],\n",
    "    columns=X.columns[1:]\n",
    ")\n",
    "# фактор M не приводит к мультиколлинеарности"
   ],
   "metadata": {
    "collapsed": false,
    "pycharm": {
     "name": "#%%\n"
    }
   }
  },
  {
   "cell_type": "markdown",
   "source": [
    "### VIF"
   ],
   "metadata": {
    "collapsed": false,
    "pycharm": {
     "name": "#%% md\n"
    }
   }
  },
  {
   "cell_type": "code",
   "execution_count": 128,
   "outputs": [
    {
     "data": {
      "text/plain": "        vif\nI  1.314154\nM  1.039440\nP  1.269924",
      "text/html": "<div>\n<style scoped>\n    .dataframe tbody tr th:only-of-type {\n        vertical-align: middle;\n    }\n\n    .dataframe tbody tr th {\n        vertical-align: top;\n    }\n\n    .dataframe thead th {\n        text-align: right;\n    }\n</style>\n<table border=\"1\" class=\"dataframe\">\n  <thead>\n    <tr style=\"text-align: right;\">\n      <th></th>\n      <th>vif</th>\n    </tr>\n  </thead>\n  <tbody>\n    <tr>\n      <th>I</th>\n      <td>1.314154</td>\n    </tr>\n    <tr>\n      <th>M</th>\n      <td>1.039440</td>\n    </tr>\n    <tr>\n      <th>P</th>\n      <td>1.269924</td>\n    </tr>\n  </tbody>\n</table>\n</div>"
     },
     "execution_count": 128,
     "metadata": {},
     "output_type": "execute_result"
    }
   ],
   "source": [
    "pd.DataFrame(\n",
    "    [variance_inflation_factor(X.values, i) for i in range(1, X.shape[1])],\n",
    "    index=X.columns[1:],\n",
    "    columns=['vif']\n",
    ")\n",
    "# ни один из факторов не вызывает мультиколлинеарности"
   ],
   "metadata": {
    "collapsed": false,
    "pycharm": {
     "name": "#%%\n"
    }
   }
  },
  {
   "cell_type": "markdown",
   "source": [
    "### Тест Фаррара-Глоубера."
   ],
   "metadata": {
    "collapsed": false,
    "pycharm": {
     "name": "#%% md\n"
    }
   }
  },
  {
   "cell_type": "code",
   "execution_count": 129,
   "outputs": [],
   "source": [
    "R = X[X.columns[1:]].corr()\n",
    "n = len(X)\n",
    "k = len(R)"
   ],
   "metadata": {
    "collapsed": false,
    "pycharm": {
     "name": "#%%\n"
    }
   }
  },
  {
   "cell_type": "code",
   "execution_count": 130,
   "outputs": [
    {
     "name": "stdout",
     "output_type": "stream",
     "text": [
      "7.502965925902487\n",
      "7.814727903251179\n"
     ]
    }
   ],
   "source": [
    "fg_value = -(n - 1 - (1 / 6) * (2 * k + 5)) * np.log(np.linalg.det(R))\n",
    "print(fg_value)\n",
    "\n",
    "chi2_critical = stats.chi2.ppf(1 - ALPHA, k * (k - 1) / 2)\n",
    "print(chi2_critical)"
   ],
   "metadata": {
    "collapsed": false,
    "pycharm": {
     "name": "#%%\n"
    }
   }
  },
  {
   "cell_type": "code",
   "execution_count": 131,
   "outputs": [
    {
     "data": {
      "text/plain": "<IPython.core.display.Markdown object>",
      "text/markdown": "\n$ FG = 7.50 < X^2_{крит} = 7.81 \\rightarrow $ гипотеза H0 **принимается** -\nв массиве объясняющих переменных отсутствует мультиколлинеарность.\n"
     },
     "execution_count": 131,
     "metadata": {},
     "output_type": "execute_result"
    }
   ],
   "source": [
    "Markdown(rf\"\"\"\n",
    "$ FG = {fg_value:.2f} < X^2_{{крит}} = {chi2_critical:.2f} \\rightarrow $ гипотеза H0 **принимается** -\n",
    "в массиве объясняющих переменных отсутствует мультиколлинеарность.\n",
    "\"\"\")"
   ],
   "metadata": {
    "collapsed": false,
    "pycharm": {
     "name": "#%%\n"
    }
   }
  },
  {
   "cell_type": "code",
   "execution_count": 132,
   "outputs": [
    {
     "data": {
      "text/plain": "I    2.722668\nM    0.341816\nP    2.339340\nName: F, dtype: float64"
     },
     "execution_count": 132,
     "metadata": {},
     "output_type": "execute_result"
    }
   ],
   "source": [
    "f_value = (n - k - 1) * (np.diagonal(np.linalg.inv(R)) - 1) / k\n",
    "f_value = pd.Series(f_value, index=R.columns, name='F')\n",
    "f_value"
   ],
   "metadata": {
    "collapsed": false,
    "pycharm": {
     "name": "#%%\n"
    }
   }
  },
  {
   "cell_type": "code",
   "execution_count": 133,
   "outputs": [
    {
     "data": {
      "text/plain": "2.9751539639733933"
     },
     "execution_count": 133,
     "metadata": {},
     "output_type": "execute_result"
    }
   ],
   "source": [
    "f_critical = stats.f.ppf(1 - ALPHA, k, n - k - 1)\n",
    "f_critical"
   ],
   "metadata": {
    "collapsed": false,
    "pycharm": {
     "name": "#%%\n"
    }
   }
  },
  {
   "cell_type": "code",
   "execution_count": 134,
   "outputs": [
    {
     "name": "stdout",
     "output_type": "stream",
     "text": [
      "I    False\n",
      "M    False\n",
      "P    False\n",
      "Name: F, dtype: bool\n"
     ]
    },
    {
     "data": {
      "text/plain": "<IPython.core.display.Markdown object>",
      "text/markdown": "\n**False** - исследуемая экзогенная переменная **не мультиколлинеарна** с другими\n"
     },
     "execution_count": 134,
     "metadata": {},
     "output_type": "execute_result"
    }
   ],
   "source": [
    "print(f_value > f_critical)\n",
    "Markdown(\"\"\"\n",
    "**False** - исследуемая экзогенная переменная **не мультиколлинеарна** с другими\n",
    "\"\"\")"
   ],
   "metadata": {
    "collapsed": false,
    "pycharm": {
     "name": "#%%\n"
    }
   }
  },
  {
   "cell_type": "code",
   "execution_count": 135,
   "outputs": [
    {
     "data": {
      "text/plain": "i=0,j=1    0.187252\ni=0,j=2   -0.458469\ni=1,j=2    0.038151\ni=2,j=1    0.038151\ni=2,j=0   -0.458469\ni=1,j=0    0.187252\ndtype: float64"
     },
     "execution_count": 135,
     "metadata": {},
     "output_type": "execute_result"
    }
   ],
   "source": [
    "pairs = [(0, 1), (0, 2), (1, 2), (2, 1), (2, 0), (1, 0)]\n",
    "private_corr = pd.Series(dtype=object)\n",
    "for i, j in pairs:\n",
    "    pair = f'{i=},{j=}'\n",
    "    private_corr[pair] = -np.linalg.inv(R)[i, j] / np.sqrt(np.linalg.inv(R)[i, i] * np.linalg.inv(R)[j, j])\n",
    "\n",
    "private_corr"
   ],
   "metadata": {
    "collapsed": false,
    "pycharm": {
     "name": "#%%\n"
    }
   }
  },
  {
   "cell_type": "code",
   "execution_count": 136,
   "outputs": [
    {
     "data": {
      "text/plain": "i=0,j=1    0.971994\ni=0,j=2   -2.630485\ni=1,j=2    0.194675\ni=2,j=1    0.194675\ni=2,j=0   -2.630485\ni=1,j=0    0.971994\ndtype: float64"
     },
     "execution_count": 136,
     "metadata": {},
     "output_type": "execute_result"
    }
   ],
   "source": [
    "t_value = private_corr * np.sqrt(n - k - 1) / np.sqrt(1 - private_corr * private_corr)\n",
    "t_value"
   ],
   "metadata": {
    "collapsed": false,
    "pycharm": {
     "name": "#%%\n"
    }
   }
  },
  {
   "cell_type": "code",
   "execution_count": 137,
   "outputs": [
    {
     "data": {
      "text/plain": "1.7056179197592727"
     },
     "execution_count": 137,
     "metadata": {},
     "output_type": "execute_result"
    }
   ],
   "source": [
    "t_critical = stats.t.ppf(1 - ALPHA, n - k - 1)\n",
    "t_critical"
   ],
   "metadata": {
    "collapsed": false,
    "pycharm": {
     "name": "#%%\n"
    }
   }
  },
  {
   "cell_type": "code",
   "execution_count": 138,
   "outputs": [
    {
     "data": {
      "text/plain": "          bool               desc\ni=0,j=1  False  коррел. незначима\ni=0,j=2   True    коррел. значима\ni=1,j=2  False  коррел. незначима\ni=2,j=1  False  коррел. незначима\ni=2,j=0   True    коррел. значима\ni=1,j=0  False  коррел. незначима",
      "text/html": "<div>\n<style scoped>\n    .dataframe tbody tr th:only-of-type {\n        vertical-align: middle;\n    }\n\n    .dataframe tbody tr th {\n        vertical-align: top;\n    }\n\n    .dataframe thead th {\n        text-align: right;\n    }\n</style>\n<table border=\"1\" class=\"dataframe\">\n  <thead>\n    <tr style=\"text-align: right;\">\n      <th></th>\n      <th>bool</th>\n      <th>desc</th>\n    </tr>\n  </thead>\n  <tbody>\n    <tr>\n      <th>i=0,j=1</th>\n      <td>False</td>\n      <td>коррел. незначима</td>\n    </tr>\n    <tr>\n      <th>i=0,j=2</th>\n      <td>True</td>\n      <td>коррел. значима</td>\n    </tr>\n    <tr>\n      <th>i=1,j=2</th>\n      <td>False</td>\n      <td>коррел. незначима</td>\n    </tr>\n    <tr>\n      <th>i=2,j=1</th>\n      <td>False</td>\n      <td>коррел. незначима</td>\n    </tr>\n    <tr>\n      <th>i=2,j=0</th>\n      <td>True</td>\n      <td>коррел. значима</td>\n    </tr>\n    <tr>\n      <th>i=1,j=0</th>\n      <td>False</td>\n      <td>коррел. незначима</td>\n    </tr>\n  </tbody>\n</table>\n</div>"
     },
     "execution_count": 138,
     "metadata": {},
     "output_type": "execute_result"
    }
   ],
   "source": [
    "summary = pd.DataFrame((abs(t_value) > t_critical).rename('bool'))  # noqa\n",
    "summary['desc'] = summary['bool'].map(lambda x: 'коррел. ' + ('значима' if x else 'незначима'))\n",
    "summary"
   ],
   "metadata": {
    "collapsed": false,
    "pycharm": {
     "name": "#%%\n"
    }
   }
  },
  {
   "cell_type": "markdown",
   "source": [
    "### AIC, t-статистики"
   ],
   "metadata": {
    "collapsed": false,
    "pycharm": {
     "name": "#%% md\n"
    }
   }
  },
  {
   "cell_type": "code",
   "execution_count": 139,
   "outputs": [
    {
     "name": "stdout",
     "output_type": "stream",
     "text": [
      "I        3.637534e-09\n",
      "M        4.301630e-04\n",
      "const    1.338504e-22\n",
      "dtype: float64\n",
      "42.818132287457175\n"
     ]
    }
   ],
   "source": [
    "Q__I_M_results = sm.OLS(y, X[['I', 'M', 'const']]).fit()\n",
    "print(Q__I_M_results.pvalues)\n",
    "print(Q__I_M_results.aic)"
   ],
   "metadata": {
    "collapsed": false,
    "pycharm": {
     "name": "#%%\n"
    }
   }
  },
  {
   "cell_type": "code",
   "execution_count": 140,
   "outputs": [
    {
     "name": "stdout",
     "output_type": "stream",
     "text": [
      "M        1.919395e-03\n",
      "P        1.193681e-03\n",
      "const    9.655726e-26\n",
      "dtype: float64\n",
      "70.26011068715788\n"
     ]
    }
   ],
   "source": [
    "Q__M_P_results = sm.OLS(y, X[['M', 'P', 'const']]).fit()\n",
    "print(Q__M_P_results.pvalues)\n",
    "print(Q__M_P_results.aic)"
   ],
   "metadata": {
    "collapsed": false,
    "pycharm": {
     "name": "#%%\n"
    }
   }
  },
  {
   "cell_type": "code",
   "execution_count": 141,
   "outputs": [
    {
     "name": "stdout",
     "output_type": "stream",
     "text": [
      "I        1.092190e-06\n",
      "P        1.337349e-01\n",
      "const    5.138327e-16\n",
      "dtype: float64\n",
      "54.29422934643955\n"
     ]
    }
   ],
   "source": [
    "Q__I_P_results = sm.OLS(y, X[['I', 'P', 'const']]).fit()\n",
    "print(Q__I_P_results.pvalues)\n",
    "print(Q__I_P_results.aic)"
   ],
   "metadata": {
    "collapsed": false,
    "pycharm": {
     "name": "#%%\n"
    }
   }
  },
  {
   "cell_type": "code",
   "execution_count": 142,
   "outputs": [
    {
     "name": "stdout",
     "output_type": "stream",
     "text": [
      "I        2.453466e-08\n",
      "const    1.372071e-20\n",
      "dtype: float64\n",
      "54.83902805574014\n"
     ]
    }
   ],
   "source": [
    "Q__I_results = sm.OLS(y, X[['I', 'const']]).fit()\n",
    "print(Q__I_results.pvalues)\n",
    "print(Q__I_results.aic)"
   ],
   "metadata": {
    "collapsed": false,
    "pycharm": {
     "name": "#%%\n"
    }
   }
  },
  {
   "cell_type": "code",
   "execution_count": 143,
   "outputs": [
    {
     "name": "stdout",
     "output_type": "stream",
     "text": [
      "P        3.074877e-03\n",
      "const    3.122417e-25\n",
      "dtype: float64\n",
      "79.14827747712164\n"
     ]
    }
   ],
   "source": [
    "Q__P_results = sm.OLS(y, X[['P', 'const']]).fit()\n",
    "print(Q__P_results.pvalues)\n",
    "print(Q__P_results.aic)"
   ],
   "metadata": {
    "collapsed": false,
    "pycharm": {
     "name": "#%%\n"
    }
   }
  },
  {
   "cell_type": "code",
   "execution_count": 144,
   "outputs": [
    {
     "name": "stdout",
     "output_type": "stream",
     "text": [
      "M        5.068864e-03\n",
      "const    3.773283e-41\n",
      "dtype: float64\n",
      "80.13753121167184\n"
     ]
    }
   ],
   "source": [
    "Q__M_results = sm.OLS(y, X[['M', 'const']]).fit()\n",
    "print(Q__M_results.pvalues)\n",
    "print(Q__M_results.aic)"
   ],
   "metadata": {
    "collapsed": false,
    "pycharm": {
     "name": "#%%\n"
    }
   }
  },
  {
   "cell_type": "code",
   "execution_count": 145,
   "outputs": [],
   "source": [
    "# по AIC лучше использовать модель: Q = I + M (42.8)"
   ],
   "metadata": {
    "collapsed": false,
    "pycharm": {
     "name": "#%%\n"
    }
   }
  },
  {
   "cell_type": "markdown",
   "source": [
    "### Прогнозирование"
   ],
   "metadata": {
    "collapsed": false,
    "pycharm": {
     "name": "#%% md\n"
    }
   }
  },
  {
   "cell_type": "code",
   "execution_count": 146,
   "outputs": [
    {
     "data": {
      "text/plain": "          mean   mean_se  mean_ci_lower  mean_ci_upper  obs_ci_lower  \\\n29  201.682771  0.179731     201.312607     202.052935    200.683253   \n\n    obs_ci_upper  \n29     202.68229  ",
      "text/html": "<div>\n<style scoped>\n    .dataframe tbody tr th:only-of-type {\n        vertical-align: middle;\n    }\n\n    .dataframe tbody tr th {\n        vertical-align: top;\n    }\n\n    .dataframe thead th {\n        text-align: right;\n    }\n</style>\n<table border=\"1\" class=\"dataframe\">\n  <thead>\n    <tr style=\"text-align: right;\">\n      <th></th>\n      <th>mean</th>\n      <th>mean_se</th>\n      <th>mean_ci_lower</th>\n      <th>mean_ci_upper</th>\n      <th>obs_ci_lower</th>\n      <th>obs_ci_upper</th>\n    </tr>\n  </thead>\n  <tbody>\n    <tr>\n      <th>29</th>\n      <td>201.682771</td>\n      <td>0.179731</td>\n      <td>201.312607</td>\n      <td>202.052935</td>\n      <td>200.683253</td>\n      <td>202.68229</td>\n    </tr>\n  </tbody>\n</table>\n</div>"
     },
     "execution_count": 146,
     "metadata": {},
     "output_type": "execute_result"
    }
   ],
   "source": [
    "y_pred_test_intervals = model.results.get_prediction(X_test).summary_frame(ALPHA)\n",
    "y_pred_test_intervals"
   ],
   "metadata": {
    "collapsed": false,
    "pycharm": {
     "name": "#%%\n"
    }
   }
  },
  {
   "cell_type": "code",
   "execution_count": 147,
   "outputs": [
    {
     "name": "stdout",
     "output_type": "stream",
     "text": [
      "Для среднего\n"
     ]
    },
    {
     "data": {
      "text/plain": "True"
     },
     "execution_count": 147,
     "metadata": {},
     "output_type": "execute_result"
    }
   ],
   "source": [
    "print('Для среднего')\n",
    "all((y_pred_test_intervals['mean_ci_lower'] <= y_test) & (y_test <= y_pred_test_intervals['mean_ci_upper']))  # noqa"
   ],
   "metadata": {
    "collapsed": false,
    "pycharm": {
     "name": "#%%\n"
    }
   }
  },
  {
   "cell_type": "code",
   "execution_count": 148,
   "outputs": [
    {
     "name": "stdout",
     "output_type": "stream",
     "text": [
      "Для индивидуального\n"
     ]
    },
    {
     "data": {
      "text/plain": "True"
     },
     "execution_count": 148,
     "metadata": {},
     "output_type": "execute_result"
    }
   ],
   "source": [
    "print('Для индивидуального')\n",
    "all((y_pred_test_intervals['obs_ci_lower'] <= y_test) & (y_test <= y_pred_test_intervals['obs_ci_upper']))  # noqa"
   ],
   "metadata": {
    "collapsed": false,
    "pycharm": {
     "name": "#%%\n"
    }
   }
  },
  {
   "cell_type": "code",
   "execution_count": 149,
   "outputs": [],
   "source": [
    "# модель адекватна"
   ],
   "metadata": {
    "collapsed": false,
    "pycharm": {
     "name": "#%%\n"
    }
   }
  },
  {
   "cell_type": "markdown",
   "source": [
    "# Нелинейная модель"
   ],
   "metadata": {
    "collapsed": false,
    "pycharm": {
     "name": "#%% md\n"
    }
   }
  },
  {
   "cell_type": "code",
   "execution_count": 150,
   "outputs": [],
   "source": [
    "DATA_ = \"\"\"\n",
    "Фирма Qi Li Ki\n",
    "1 58 100 118\n",
    "2 59 104 140\n",
    "3 55 90 85\n",
    "4 74 102 140\n",
    "5 80 115 179\n",
    "6 60 96 96\n",
    "7 69 98 130\n",
    "8 72 99 140\n",
    "9 73 101 145\n",
    "10 67 98 138\n",
    "11 63 96 106\n",
    "12 58 97 90\n",
    "13 71 98 124\n",
    "14 70 100 129\n",
    "\"\"\"\n",
    "\n",
    "DATA_ = [map(int, row.split()[1:]) for row in DATA_.strip().split('\\n')[1:]]"
   ],
   "metadata": {
    "collapsed": false,
    "pycharm": {
     "name": "#%%\n"
    }
   }
  },
  {
   "cell_type": "code",
   "execution_count": 151,
   "outputs": [
    {
     "data": {
      "text/plain": "     Q    L    K\n0   58  100  118\n1   59  104  140\n2   55   90   85\n3   74  102  140\n4   80  115  179\n5   60   96   96\n6   69   98  130\n7   72   99  140\n8   73  101  145\n9   67   98  138\n10  63   96  106\n11  58   97   90\n12  71   98  124\n13  70  100  129",
      "text/html": "<div>\n<style scoped>\n    .dataframe tbody tr th:only-of-type {\n        vertical-align: middle;\n    }\n\n    .dataframe tbody tr th {\n        vertical-align: top;\n    }\n\n    .dataframe thead th {\n        text-align: right;\n    }\n</style>\n<table border=\"1\" class=\"dataframe\">\n  <thead>\n    <tr style=\"text-align: right;\">\n      <th></th>\n      <th>Q</th>\n      <th>L</th>\n      <th>K</th>\n    </tr>\n  </thead>\n  <tbody>\n    <tr>\n      <th>0</th>\n      <td>58</td>\n      <td>100</td>\n      <td>118</td>\n    </tr>\n    <tr>\n      <th>1</th>\n      <td>59</td>\n      <td>104</td>\n      <td>140</td>\n    </tr>\n    <tr>\n      <th>2</th>\n      <td>55</td>\n      <td>90</td>\n      <td>85</td>\n    </tr>\n    <tr>\n      <th>3</th>\n      <td>74</td>\n      <td>102</td>\n      <td>140</td>\n    </tr>\n    <tr>\n      <th>4</th>\n      <td>80</td>\n      <td>115</td>\n      <td>179</td>\n    </tr>\n    <tr>\n      <th>5</th>\n      <td>60</td>\n      <td>96</td>\n      <td>96</td>\n    </tr>\n    <tr>\n      <th>6</th>\n      <td>69</td>\n      <td>98</td>\n      <td>130</td>\n    </tr>\n    <tr>\n      <th>7</th>\n      <td>72</td>\n      <td>99</td>\n      <td>140</td>\n    </tr>\n    <tr>\n      <th>8</th>\n      <td>73</td>\n      <td>101</td>\n      <td>145</td>\n    </tr>\n    <tr>\n      <th>9</th>\n      <td>67</td>\n      <td>98</td>\n      <td>138</td>\n    </tr>\n    <tr>\n      <th>10</th>\n      <td>63</td>\n      <td>96</td>\n      <td>106</td>\n    </tr>\n    <tr>\n      <th>11</th>\n      <td>58</td>\n      <td>97</td>\n      <td>90</td>\n    </tr>\n    <tr>\n      <th>12</th>\n      <td>71</td>\n      <td>98</td>\n      <td>124</td>\n    </tr>\n    <tr>\n      <th>13</th>\n      <td>70</td>\n      <td>100</td>\n      <td>129</td>\n    </tr>\n  </tbody>\n</table>\n</div>"
     },
     "execution_count": 151,
     "metadata": {},
     "output_type": "execute_result"
    }
   ],
   "source": [
    "DATA_ = pd.DataFrame(DATA_, columns=['Q', 'L', 'K'])\n",
    "DATA_"
   ],
   "metadata": {
    "collapsed": false,
    "pycharm": {
     "name": "#%%\n"
    }
   }
  },
  {
   "cell_type": "code",
   "execution_count": 152,
   "outputs": [],
   "source": [
    "X = add_constant(np.log10(DATA_[['L', 'K']]))\n",
    "y = np.log10(DATA_['Q'])"
   ],
   "metadata": {
    "collapsed": false,
    "pycharm": {
     "name": "#%%\n"
    }
   }
  },
  {
   "cell_type": "code",
   "execution_count": 153,
   "outputs": [],
   "source": [
    "model = LinearRegression(y, X)"
   ],
   "metadata": {
    "collapsed": false,
    "pycharm": {
     "name": "#%%\n"
    }
   }
  },
  {
   "cell_type": "code",
   "execution_count": 154,
   "outputs": [
    {
     "name": "stdout",
     "output_type": "stream",
     "text": [
      "                            OLS Regression Results                            \n",
      "==============================================================================\n",
      "Dep. Variable:                      Q   R-squared:                       0.681\n",
      "Model:                            OLS   Adj. R-squared:                  0.622\n",
      "Method:                 Least Squares   F-statistic:                     11.72\n",
      "Date:                Sat, 18 Dec 2021   Prob (F-statistic):            0.00188\n",
      "Time:                        11:32:37   Log-Likelihood:                 30.706\n",
      "No. Observations:                  14   AIC:                            -55.41\n",
      "Df Residuals:                      11   BIC:                            -53.50\n",
      "Df Model:                           2                                         \n",
      "Covariance Type:            nonrobust                                         \n",
      "==============================================================================\n",
      "                 coef    std err          t      P>|t|      [0.025      0.975]\n",
      "------------------------------------------------------------------------------\n",
      "const          1.4154      1.040      1.362      0.201      -0.873       3.704\n",
      "L             -0.3520      0.663     -0.531      0.606      -1.811       1.107\n",
      "K              0.5294      0.173      3.064      0.011       0.149       0.910\n",
      "==============================================================================\n",
      "Omnibus:                        9.450   Durbin-Watson:                   0.791\n",
      "Prob(Omnibus):                  0.009   Jarque-Bera (JB):                5.629\n",
      "Skew:                          -1.447   Prob(JB):                       0.0599\n",
      "Kurtosis:                       4.127   Cond. No.                         465.\n",
      "==============================================================================\n",
      "\n",
      "Notes:\n",
      "[1] Standard Errors assume that the covariance matrix of the errors is correctly specified.\n"
     ]
    },
    {
     "name": "stderr",
     "output_type": "stream",
     "text": [
      "D:\\IT\\Coding\\GitHub Projects\\My-University\\III Курс\\(python) Эконометрика\\venv\\Lib\\site-packages\\scipy\\stats\\stats.py:1541: UserWarning: kurtosistest only valid for n>=20 ... continuing anyway, n=14\n",
      "  warnings.warn(\"kurtosistest only valid for n>=20 ... continuing \"\n"
     ]
    }
   ],
   "source": [
    "print(model.summary())"
   ],
   "metadata": {
    "collapsed": false,
    "pycharm": {
     "name": "#%%\n"
    }
   }
  },
  {
   "cell_type": "code",
   "execution_count": 155,
   "outputs": [
    {
     "data": {
      "text/plain": "<IPython.core.display.Markdown object>",
      "text/markdown": "$ y_i = a + b_{1} x_{i1} + b_{2} x_{i2} + e_i $<br>\n<br>\n$ \\hat{y_i} = \\hat{a} + \\hat{b_{1}} x_{i1} + \\hat{b_{2}} x_{i2} $<br>\n<br>\n$ \\hat{y_i} = 1.415 + -0.352 x_{i1} + 0.529 x_{i2} $<br>\n<br>\n$ S_\\hat{a} = 1.040 $<br>\n$ S_{\\hat{b_{1}}} = 0.663 $<br>\n$ S_{\\hat{b_{2}}} = 0.173 $"
     },
     "execution_count": 155,
     "metadata": {},
     "output_type": "execute_result"
    }
   ],
   "source": [
    "general(model)"
   ],
   "metadata": {
    "collapsed": false,
    "pycharm": {
     "name": "#%%\n"
    }
   }
  },
  {
   "cell_type": "code",
   "execution_count": 156,
   "outputs": [
    {
     "data": {
      "text/plain": "<IPython.core.display.Markdown object>",
      "text/markdown": "### Оценка среднеквадратического отклонения возмущений.<br>\n<br>\n$ \\sqrt{\\frac{1}{n - k - 1} \\sum_{i=1}^{n}{(y_i - \\hat{y_i}})^2} $<br>\n<br>\n$ S_{e} = 0.030 $<br>\n$ 2 \\% < 3.04_{S_{ei}} \\% < 5 \\% \\rightarrow $ оценка: <b>8/10</b>.<br>\n<br>\n<br>\n### Коэффициент детерминации.<br>\n<br>\n$ R^2 = 1 - \\frac{\\sum_{i=1}^{n}{(y_i - \\hat{y_i})^2}}{\\sum_{i=1}^{n}{(y_i - \\bar{y})^2}}  = \\frac{\\sum_{i=1}^{n}{(\\hat{y_i} - \\bar{y})^2}}{\\sum_{i=1}^{n}{(y_i - \\bar{y})^2}}  = 1 - \\frac{RSS}{TSS} = \\frac{ESS}{TSS} $<br>\n<br>\n$ R^2 = 0.681 $<br>\n$ 0.5 < 0.681 < 0.7 \\rightarrow $ оценка: <b>3/10</b>.<br>\n<br>\n<br>\n### Средняя относительная ошибка аппроксимации.<br>\n<br>\n$ A = \\frac{1}{n} \\sum_{i=1}^{n}{|\\frac{y_i - \\hat{y_i}}{y_i}|} \\cdot 100 \\% $<br>\n<br>\n$ A = 1.150 $<br>\n$ 0 \\% < 1.150 < 2 \\% \\rightarrow $ оценка: <b>10/10</b>."
     },
     "execution_count": 156,
     "metadata": {},
     "output_type": "execute_result"
    }
   ],
   "source": [
    "general_assessment(model)"
   ],
   "metadata": {
    "collapsed": false,
    "pycharm": {
     "name": "#%%\n"
    }
   }
  },
  {
   "cell_type": "code",
   "execution_count": 157,
   "outputs": [
    {
     "data": {
      "text/plain": "<IPython.core.display.Markdown object>",
      "text/markdown": "### F-критерий Фишера.\n<br><br>\n$ H_0: b_1 = ... = b_k = 0, \\\\ H_1: b_1^2 + ... + b_k^2 > 0. $\n<br><br>\n$$ F = \\frac{\\frac{R^2}{k}}{\\frac{1 - R^2}{(n - k - 1)}} $$\n<br><br>\n$ F_{набл} = 11.717 $<br>\n$ p\\text{-}value_F = 0.002 $\n<br><br>\n$ \\alpha = 0.05 $<br>\n$ F_{табл_{0.05}} = 2.739 $\n<br><br>\n$ 0.00188 < 0.05 $<br>\n$ p\\text{-}value < \\alpha \\rightarrow $ гипотеза $ H_0 $ <b>отвергается</b> - модель в целом <b>значима</b>."
     },
     "execution_count": 157,
     "metadata": {},
     "output_type": "execute_result"
    }
   ],
   "source": [
    "f_test(model)"
   ],
   "metadata": {
    "collapsed": false,
    "pycharm": {
     "name": "#%%\n"
    }
   }
  },
  {
   "cell_type": "code",
   "execution_count": 158,
   "outputs": [
    {
     "data": {
      "text/plain": "<IPython.core.display.Markdown object>",
      "text/markdown": "### t-критерий Стьюдета для оценки значимости параметров модели.\n<br><br>\n$ H_0: b_i = 0, \\\\ H_1: b_i \\neq 0. $\n<br><br>\n$$ t_{b_i} = \\frac{\\hat{b_i}}{S_{\\hat{b_i}}} $$\n<br><br>\n$ \\alpha = 0.05 $\n<br>\n$ t_{табл_{0.05}} = 2.201 $\n<br>\n\n<br>\n$ t_{a} = 1.362 $, $ p\\text{-}value_{t_{a}} = 0.201 $, $ p\\text{-}value > \\alpha \\rightarrow $гипотеза $ H_0 $ <b>принимается</b> - параметр <b>незначим</b>.<br>$ t_{b_{1}} = -0.531 $, $ p\\text{-}value_{t_{b_{1}}} = 0.606 $, $ p\\text{-}value > \\alpha \\rightarrow $гипотеза $ H_0 $ <b>принимается</b> - параметр <b>незначим</b>.<br>$ t_{b_{2}} = 3.064 $, $ p\\text{-}value_{t_{b_{2}}} = 0.011 $, $ p\\text{-}value < \\alpha \\rightarrow $гипотеза $ H_0 $ <b>отвергается</b> - параметр <b>значим</b>."
     },
     "execution_count": 158,
     "metadata": {},
     "output_type": "execute_result"
    }
   ],
   "source": [
    "t_test(model)"
   ],
   "metadata": {
    "collapsed": false,
    "pycharm": {
     "name": "#%%\n"
    }
   }
  },
  {
   "cell_type": "code",
   "execution_count": 159,
   "outputs": [
    {
     "data": {
      "text/plain": "<IPython.core.display.Markdown object>",
      "text/markdown": "### Бета-коэффициенты.<br>\n<br>\n$ \\beta_j = \\hat{b_j} \\cdot \\frac{S_{x_{ij}}}{S_{y_i}} $<br>\n<br>\n$ \\beta_{1} = -0.166 $<br>\n$ \\beta_{2} = 0.960 $<br>\n<br>\n### Дельта-коэффициенты.<br>\n<br>\n$ \\Delta_j = r_{y_i x_{ij}} \\cdot \\frac{\\hat{b_j}}{R^2} $<br>\n<br>\n$ \\Delta_{1} = 1.156 $<br>\n$ \\Delta_{2} = -0.156 $<br>\n<br>\n### Коэффициенты эластичности.<br>\n<br>\n$ Э_{j} = \\hat{b_j} \\cdot \\frac{\\bar{x_{ij}}}{\\bar{y_i}} $<br>\n<br>\n$ Э_{1} = -0.386 $<br>\n$ Э_{2} = 0.608 $"
     },
     "execution_count": 159,
     "metadata": {},
     "output_type": "execute_result"
    }
   ],
   "source": [
    "other(model)"
   ],
   "metadata": {
    "collapsed": false,
    "pycharm": {
     "name": "#%%\n"
    }
   }
  },
  {
   "cell_type": "markdown",
   "source": [
    "### Обратная замена"
   ],
   "metadata": {
    "collapsed": false,
    "pycharm": {
     "name": "#%% md\n"
    }
   }
  },
  {
   "cell_type": "code",
   "execution_count": 160,
   "outputs": [],
   "source": [
    "# Q = 10^1.4 * L^(-0.35) * K^0.53\n",
    "#     (1.04)    (0.66)     (0.17)"
   ],
   "metadata": {
    "collapsed": false,
    "pycharm": {
     "name": "#%%\n"
    }
   }
  },
  {
   "cell_type": "markdown",
   "source": [
    "### Интерпретация параметров"
   ],
   "metadata": {
    "collapsed": false,
    "pycharm": {
     "name": "#%% md\n"
    }
   }
  },
  {
   "cell_type": "code",
   "execution_count": 161,
   "outputs": [],
   "source": [
    "# С увеличением трудозатрат L, выпуск Q уменьшается.\n",
    "# С увеличением капиталовложения K, выпуск Q увеличивается."
   ],
   "metadata": {
    "collapsed": false,
    "pycharm": {
     "name": "#%%\n"
    }
   }
  },
  {
   "cell_type": "markdown",
   "source": [
    "# Письменные задачи"
   ],
   "metadata": {
    "collapsed": false,
    "pycharm": {
     "name": "#%% md\n"
    }
   }
  },
  {
   "cell_type": "markdown",
   "source": [
    "1\\. Рассматривается регрессионная модель, построенная на основе 100 наблюдений.\n",
    "\n",
    "Используя тест Фаррара-Глоубера определите есть ли в массиве объясняющих переменных мультиколлинеарность.\n",
    "\n",
    "Рассчитайте F-критерии теста Фаррара-Глоубера и определите, какая переменная больше влияет на общую мультиколлинеарность.\n",
    "\n",
    "Рассчитайте частные коэффициенты корреляции."
   ],
   "metadata": {
    "collapsed": false,
    "pycharm": {
     "name": "#%% md\n"
    }
   }
  },
  {
   "cell_type": "code",
   "execution_count": 162,
   "outputs": [],
   "source": [
    "R_inv = np.array([\n",
    "    [2.9, -1.043, -1.633],\n",
    "    [-2.232, 2.683, -0.131],\n",
    "    [-0.142, -1.415, 1.96]\n",
    "])"
   ],
   "metadata": {
    "collapsed": false,
    "pycharm": {
     "name": "#%%\n"
    }
   }
  },
  {
   "cell_type": "code",
   "execution_count": 163,
   "outputs": [],
   "source": [
    "R = np.linalg.inv(R_inv)\n",
    "n = 100\n",
    "k = 3"
   ],
   "metadata": {
    "collapsed": false,
    "pycharm": {
     "name": "#%%\n"
    }
   }
  },
  {
   "cell_type": "code",
   "execution_count": 164,
   "outputs": [
    {
     "name": "stdout",
     "output_type": "stream",
     "text": [
      "142.86900020884826\n",
      "7.814727903251179\n"
     ]
    }
   ],
   "source": [
    "fg_value = -(n - 1 - (1 / 6) * (2 * k + 5)) * np.log(np.linalg.det(R))\n",
    "print(fg_value)\n",
    "\n",
    "chi2_critical = stats.chi2.ppf(1 - ALPHA, k * (k - 1) / 2)\n",
    "print(chi2_critical)"
   ],
   "metadata": {
    "collapsed": false,
    "pycharm": {
     "name": "#%%\n"
    }
   }
  },
  {
   "cell_type": "code",
   "execution_count": 165,
   "outputs": [
    {
     "data": {
      "text/plain": "<IPython.core.display.Markdown object>",
      "text/markdown": "\n$ FG = 142.87 > X^2_{крит} = 7.81 \\rightarrow $ гипотеза H0 **отвергается** -\nв массиве объясняющих переменных существует мультиколлинеарность.\n"
     },
     "execution_count": 165,
     "metadata": {},
     "output_type": "execute_result"
    }
   ],
   "source": [
    "Markdown(rf\"\"\"\n",
    "$ FG = {fg_value:.2f} > X^2_{{крит}} = {chi2_critical:.2f} \\rightarrow $ гипотеза H0 **отвергается** -\n",
    "в массиве объясняющих переменных существует мультиколлинеарность.\n",
    "\"\"\")"
   ],
   "metadata": {
    "collapsed": false,
    "pycharm": {
     "name": "#%%\n"
    }
   }
  },
  {
   "cell_type": "code",
   "execution_count": 166,
   "outputs": [
    {
     "data": {
      "text/plain": "x0    60.800\nx1    53.856\nx2    30.720\nName: F, dtype: float64"
     },
     "execution_count": 166,
     "metadata": {},
     "output_type": "execute_result"
    }
   ],
   "source": [
    "f_value = (n - k - 1) * (np.diagonal(R_inv) - 1) / k\n",
    "f_value = pd.Series(f_value, index=[f'x{i}' for i in range(len(f_value))], name='F')\n",
    "f_value"
   ],
   "metadata": {
    "collapsed": false,
    "pycharm": {
     "name": "#%%\n"
    }
   }
  },
  {
   "cell_type": "code",
   "execution_count": 167,
   "outputs": [
    {
     "data": {
      "text/plain": "2.6993925975521815"
     },
     "execution_count": 167,
     "metadata": {},
     "output_type": "execute_result"
    }
   ],
   "source": [
    "f_critical = stats.f.ppf(1 - ALPHA, k, n - k - 1)\n",
    "f_critical"
   ],
   "metadata": {
    "collapsed": false,
    "pycharm": {
     "name": "#%%\n"
    }
   }
  },
  {
   "cell_type": "code",
   "execution_count": 168,
   "outputs": [
    {
     "name": "stdout",
     "output_type": "stream",
     "text": [
      "x0    True\n",
      "x1    True\n",
      "x2    True\n",
      "Name: F, dtype: bool\n"
     ]
    },
    {
     "data": {
      "text/plain": "<IPython.core.display.Markdown object>",
      "text/markdown": "\nTrue - исследуемая экзогенная переменная мультиколлинеарна с другими\n"
     },
     "execution_count": 168,
     "metadata": {},
     "output_type": "execute_result"
    }
   ],
   "source": [
    "print(f_value > f_critical)\n",
    "Markdown(\"\"\"\n",
    "True - исследуемая экзогенная переменная мультиколлинеарна с другими\n",
    "\"\"\")"
   ],
   "metadata": {
    "collapsed": false,
    "pycharm": {
     "name": "#%%\n"
    }
   }
  },
  {
   "cell_type": "code",
   "execution_count": 169,
   "outputs": [
    {
     "data": {
      "text/plain": "i=0,j=1    0.373917\ni=0,j=2    0.684950\ni=1,j=2    0.057126\ni=2,j=1    0.617047\ni=2,j=0    0.059561\ni=1,j=0    0.800175\ndtype: float64"
     },
     "execution_count": 169,
     "metadata": {},
     "output_type": "execute_result"
    }
   ],
   "source": [
    "pairs = [(0, 1), (0, 2), (1, 2), (2, 1), (2, 0), (1, 0)]\n",
    "private_corr = pd.Series(dtype=object)\n",
    "for i, j in pairs:\n",
    "    pair = f'{i=},{j=}'\n",
    "    private_corr[pair] = -R_inv[i, j] / np.sqrt(R_inv[i, i] * R_inv[j, j])\n",
    "\n",
    "private_corr"
   ],
   "metadata": {
    "collapsed": false,
    "pycharm": {
     "name": "#%%\n"
    }
   }
  },
  {
   "cell_type": "code",
   "execution_count": 170,
   "outputs": [
    {
     "data": {
      "text/plain": "i=0,j=1     3.950157\ni=0,j=2     9.211106\ni=1,j=2     0.560633\ni=2,j=1     7.682800\ni=2,j=0     0.584613\ni=1,j=0    13.071878\ndtype: float64"
     },
     "execution_count": 170,
     "metadata": {},
     "output_type": "execute_result"
    }
   ],
   "source": [
    "t_value = private_corr * np.sqrt(n - k - 1) / np.sqrt(1 - private_corr * private_corr)\n",
    "t_value"
   ],
   "metadata": {
    "collapsed": false,
    "pycharm": {
     "name": "#%%\n"
    }
   }
  },
  {
   "cell_type": "code",
   "execution_count": 171,
   "outputs": [
    {
     "data": {
      "text/plain": "1.6608814403008005"
     },
     "execution_count": 171,
     "metadata": {},
     "output_type": "execute_result"
    }
   ],
   "source": [
    "t_critical = stats.t.ppf(1 - ALPHA, n - k - 1)\n",
    "t_critical"
   ],
   "metadata": {
    "collapsed": false,
    "pycharm": {
     "name": "#%%\n"
    }
   }
  },
  {
   "cell_type": "code",
   "execution_count": 172,
   "outputs": [
    {
     "data": {
      "text/plain": "          bool               desc\ni=0,j=1   True    коррел. значима\ni=0,j=2   True    коррел. значима\ni=1,j=2  False  коррел. незначима\ni=2,j=1   True    коррел. значима\ni=2,j=0  False  коррел. незначима\ni=1,j=0   True    коррел. значима",
      "text/html": "<div>\n<style scoped>\n    .dataframe tbody tr th:only-of-type {\n        vertical-align: middle;\n    }\n\n    .dataframe tbody tr th {\n        vertical-align: top;\n    }\n\n    .dataframe thead th {\n        text-align: right;\n    }\n</style>\n<table border=\"1\" class=\"dataframe\">\n  <thead>\n    <tr style=\"text-align: right;\">\n      <th></th>\n      <th>bool</th>\n      <th>desc</th>\n    </tr>\n  </thead>\n  <tbody>\n    <tr>\n      <th>i=0,j=1</th>\n      <td>True</td>\n      <td>коррел. значима</td>\n    </tr>\n    <tr>\n      <th>i=0,j=2</th>\n      <td>True</td>\n      <td>коррел. значима</td>\n    </tr>\n    <tr>\n      <th>i=1,j=2</th>\n      <td>False</td>\n      <td>коррел. незначима</td>\n    </tr>\n    <tr>\n      <th>i=2,j=1</th>\n      <td>True</td>\n      <td>коррел. значима</td>\n    </tr>\n    <tr>\n      <th>i=2,j=0</th>\n      <td>False</td>\n      <td>коррел. незначима</td>\n    </tr>\n    <tr>\n      <th>i=1,j=0</th>\n      <td>True</td>\n      <td>коррел. значима</td>\n    </tr>\n  </tbody>\n</table>\n</div>"
     },
     "execution_count": 172,
     "metadata": {},
     "output_type": "execute_result"
    }
   ],
   "source": [
    "summary = pd.DataFrame((abs(t_value) > t_critical).rename('bool'))  # noqa\n",
    "summary['desc'] = summary['bool'].map(lambda x: 'коррел. ' + ('значима' if x else 'незначима'))\n",
    "summary"
   ],
   "metadata": {
    "collapsed": false,
    "pycharm": {
     "name": "#%%\n"
    }
   }
  },
  {
   "cell_type": "markdown",
   "source": [
    "2\\. В результате оценивания регрессионной модели по выборочным данным объемом 200 наблюдения получен результат.\n",
    "\n",
    "В модели исследователь подозревает наличие мультиколлинеарности. С помощью коэффициентов вздутия проверьте данное предположение."
   ],
   "metadata": {
    "collapsed": false,
    "pycharm": {
     "name": "#%% md\n"
    }
   }
  },
  {
   "cell_type": "code",
   "execution_count": 173,
   "outputs": [
    {
     "data": {
      "text/plain": "            vif   > 2   < 10                                desc\nvif_0  2.500000  True   True  не приводит к мультиколлинеарности\nvif_1  2.222222  True   True  не приводит к мультиколлинеарности\nvif_2  2.941176  True   True  не приводит к мультиколлинеарности",
      "text/html": "<div>\n<style scoped>\n    .dataframe tbody tr th:only-of-type {\n        vertical-align: middle;\n    }\n\n    .dataframe tbody tr th {\n        vertical-align: top;\n    }\n\n    .dataframe thead th {\n        text-align: right;\n    }\n</style>\n<table border=\"1\" class=\"dataframe\">\n  <thead>\n    <tr style=\"text-align: right;\">\n      <th></th>\n      <th>vif</th>\n      <th>&gt; 2</th>\n      <th>&lt; 10</th>\n      <th>desc</th>\n    </tr>\n  </thead>\n  <tbody>\n    <tr>\n      <th>vif_0</th>\n      <td>2.500000</td>\n      <td>True</td>\n      <td>True</td>\n      <td>не приводит к мультиколлинеарности</td>\n    </tr>\n    <tr>\n      <th>vif_1</th>\n      <td>2.222222</td>\n      <td>True</td>\n      <td>True</td>\n      <td>не приводит к мультиколлинеарности</td>\n    </tr>\n    <tr>\n      <th>vif_2</th>\n      <td>2.941176</td>\n      <td>True</td>\n      <td>True</td>\n      <td>не приводит к мультиколлинеарности</td>\n    </tr>\n  </tbody>\n</table>\n</div>"
     },
     "execution_count": 173,
     "metadata": {},
     "output_type": "execute_result"
    }
   ],
   "source": [
    "rsquared_x1__x2_x3 = 0.6\n",
    "rsquared_x2__x1_x3 = 0.55\n",
    "rsquared_x3__x1_x2 = 0.66\n",
    "\n",
    "vif_list = [1 / (1 - rsquared_x1__x2_x3), 1 / (1 - rsquared_x2__x1_x3), 1 / (1 - rsquared_x3__x1_x2)]\n",
    "vif = pd.DataFrame(vif_list, [f'vif_{i}' for i in range(len(vif_list))], columns=['vif'])\n",
    "vif[' > 2'] = vif['vif'] > 2\n",
    "vif[' < 10'] = vif['vif'] < 10\n",
    "vif['desc'] = vif[' < 10'].map(lambda x: ('не ' if x else '') + 'приводит к мультиколлинеарности')\n",
    "vif"
   ],
   "metadata": {
    "collapsed": false,
    "pycharm": {
     "name": "#%%\n"
    }
   }
  },
  {
   "cell_type": "markdown",
   "source": [
    "3\\. В результате оценивания регрессионной модели по выборочным данным объемом 200 наблюдения получен результат.\n",
    "\n",
    "Вам известен определитель матрицы межфакторных корреляций (xij друг с другом) $ det(R) = 0,562 $. Используя тест Фаррара-Глоубера определите есть ли в массиве объясняющих переменных мультиколлинеарность."
   ],
   "metadata": {
    "collapsed": false,
    "pycharm": {
     "name": "#%% md\n"
    }
   }
  },
  {
   "cell_type": "code",
   "execution_count": 174,
   "outputs": [],
   "source": [
    "det_R = 0.562\n",
    "n = 200\n",
    "k = 3"
   ],
   "metadata": {
    "collapsed": false,
    "pycharm": {
     "name": "#%%\n"
    }
   }
  },
  {
   "cell_type": "code",
   "execution_count": 175,
   "outputs": [
    {
     "name": "stdout",
     "output_type": "stream",
     "text": [
      "113.61796776860524\n",
      "7.814727903251179\n"
     ]
    }
   ],
   "source": [
    "fg_value = -(n - 1 - (2 * k + 5) / 6) * np.log(det_R)\n",
    "print(fg_value)\n",
    "\n",
    "chi2_critical = stats.chi2.ppf(1 - ALPHA, k * (k - 1) / 2)\n",
    "print(chi2_critical)"
   ],
   "metadata": {
    "collapsed": false,
    "pycharm": {
     "name": "#%%\n"
    }
   }
  },
  {
   "cell_type": "code",
   "execution_count": 176,
   "outputs": [
    {
     "data": {
      "text/plain": "<IPython.core.display.Markdown object>",
      "text/markdown": "\n$ FG = 113.62 > X^2_{крит} = 7.81 \\rightarrow $ гипотеза H0 **отвергается** -\nв массиве объясняющих переменных существует мультиколлинеарность.\n"
     },
     "execution_count": 176,
     "metadata": {},
     "output_type": "execute_result"
    }
   ],
   "source": [
    "Markdown(rf\"\"\"\n",
    "$ FG = {fg_value:.2f} > X^2_{{крит}} = {chi2_critical:.2f} \\rightarrow $ гипотеза H0 **отвергается** -\n",
    "в массиве объясняющих переменных существует мультиколлинеарность.\n",
    "\"\"\")"
   ],
   "metadata": {
    "collapsed": false,
    "pycharm": {
     "name": "#%%\n"
    }
   }
  }
 ],
 "metadata": {
  "kernelspec": {
   "display_name": "Python 3",
   "language": "python",
   "name": "python3"
  },
  "language_info": {
   "codemirror_mode": {
    "name": "ipython",
    "version": 2
   },
   "file_extension": ".py",
   "mimetype": "text/x-python",
   "name": "python",
   "nbconvert_exporter": "python",
   "pygments_lexer": "ipython2",
   "version": "2.7.6"
  }
 },
 "nbformat": 4,
 "nbformat_minor": 0
}