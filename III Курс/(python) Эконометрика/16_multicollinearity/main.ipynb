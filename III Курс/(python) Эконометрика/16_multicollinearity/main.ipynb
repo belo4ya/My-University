{
 "cells": [
  {
   "cell_type": "code",
   "execution_count": 17,
   "outputs": [],
   "source": [
    "import numpy as np\n",
    "import pandas as pd\n",
    "from scipy import stats\n",
    "from IPython.display import Markdown"
   ],
   "metadata": {
    "collapsed": false,
    "pycharm": {
     "name": "#%%\n"
    }
   }
  },
  {
   "cell_type": "code",
   "execution_count": 12,
   "outputs": [],
   "source": [
    "ALPHA = 0.05"
   ],
   "metadata": {
    "collapsed": false,
    "pycharm": {
     "name": "#%%\n"
    }
   }
  },
  {
   "cell_type": "markdown",
   "source": [
    "# Множественная регрессия"
   ],
   "metadata": {
    "collapsed": false,
    "pycharm": {
     "name": "#%% md\n"
    }
   }
  },
  {
   "cell_type": "code",
   "execution_count": null,
   "outputs": [],
   "source": [],
   "metadata": {
    "collapsed": false,
    "pycharm": {
     "name": "#%%\n"
    }
   }
  },
  {
   "cell_type": "markdown",
   "source": [
    "# Нелинейная модель"
   ],
   "metadata": {
    "collapsed": false,
    "pycharm": {
     "name": "#%% md\n"
    }
   }
  },
  {
   "cell_type": "code",
   "source": [],
   "metadata": {
    "collapsed": false,
    "pycharm": {
     "name": "#%%\n"
    }
   },
   "execution_count": null,
   "outputs": []
  },
  {
   "cell_type": "markdown",
   "source": [
    "# Письменные задачи"
   ],
   "metadata": {
    "collapsed": false,
    "pycharm": {
     "name": "#%% md\n"
    }
   }
  },
  {
   "cell_type": "markdown",
   "source": [
    "1\\. Рассматривается регрессионная модель, построенная на основе 100 наблюдений.\n",
    "\n",
    "Используя тест Фаррара-Глоубера определите есть ли в массиве объясняющих переменных мультиколлинеарность.\n",
    "\n",
    "Рассчитайте F-критерии теста Фаррара-Глоубера и определите, какая переменная больше влияет на общую мультиколлинеарность.\n",
    "\n",
    "Рассчитайте частные коэффициенты корреляции."
   ],
   "metadata": {
    "collapsed": false,
    "pycharm": {
     "name": "#%% md\n"
    }
   }
  },
  {
   "cell_type": "code",
   "execution_count": 4,
   "outputs": [],
   "source": [
    "R_inv = np.array([\n",
    "    [2.9, -1.043, -1.633],\n",
    "    [-2.232, 2.683, -0.131],\n",
    "    [-0.142, -1.415, 1.96]\n",
    "])"
   ],
   "metadata": {
    "collapsed": false,
    "pycharm": {
     "name": "#%%\n"
    }
   }
  },
  {
   "cell_type": "code",
   "execution_count": 14,
   "outputs": [],
   "source": [
    "R = np.linalg.inv(R_inv)\n",
    "n = 100\n",
    "k = 3"
   ],
   "metadata": {
    "collapsed": false,
    "pycharm": {
     "name": "#%%\n"
    }
   }
  },
  {
   "cell_type": "code",
   "execution_count": 18,
   "outputs": [
    {
     "name": "stdout",
     "output_type": "stream",
     "text": [
      "142.86900020884826\n",
      "7.814727903251179\n"
     ]
    }
   ],
   "source": [
    "fg_value = -(n - 1 - (1 / 6) * (2 * k + 5)) * np.log(np.linalg.det(R))\n",
    "print(fg_value)\n",
    "\n",
    "chi2_critical = stats.chi2.ppf(1 - ALPHA, k * (k - 1) / 2)\n",
    "print(chi2_critical)"
   ],
   "metadata": {
    "collapsed": false,
    "pycharm": {
     "name": "#%%\n"
    }
   }
  },
  {
   "cell_type": "code",
   "execution_count": 27,
   "outputs": [
    {
     "data": {
      "text/plain": "<IPython.core.display.Markdown object>",
      "text/markdown": "\n$ FG = 142.87 > X^2_{крит} = 7.81 \\rightarrow $ гипотеза H0 **отвергается** -\nв массиве объясняющих переменных существует мультиколлинеарность.\n"
     },
     "execution_count": 27,
     "metadata": {},
     "output_type": "execute_result"
    }
   ],
   "source": [
    "Markdown(rf\"\"\"\n",
    "$ FG = {fg_value:.2f} > X^2_{{крит}} = {chi2_critical:.2f} \\rightarrow $ гипотеза H0 **отвергается** -\n",
    "в массиве объясняющих переменных существует мультиколлинеарность.\n",
    "\"\"\")"
   ],
   "metadata": {
    "collapsed": false,
    "pycharm": {
     "name": "#%%\n"
    }
   }
  },
  {
   "cell_type": "code",
   "execution_count": 31,
   "outputs": [
    {
     "data": {
      "text/plain": "x0    60.800\nx1    53.856\nx2    30.720\nName: F, dtype: float64"
     },
     "execution_count": 31,
     "metadata": {},
     "output_type": "execute_result"
    }
   ],
   "source": [
    "f_value = (n - k - 1) * (np.diagonal(R_inv) - 1) / k\n",
    "f_value = pd.Series(f_value, index=[f'x{i}' for i in range(len(f_value))], name='F')\n",
    "f_value"
   ],
   "metadata": {
    "collapsed": false,
    "pycharm": {
     "name": "#%%\n"
    }
   }
  },
  {
   "cell_type": "code",
   "execution_count": 32,
   "outputs": [
    {
     "data": {
      "text/plain": "2.6993925975521815"
     },
     "execution_count": 32,
     "metadata": {},
     "output_type": "execute_result"
    }
   ],
   "source": [
    "f_critical = stats.f.ppf(1 - ALPHA, k, n - k - 1)\n",
    "f_critical"
   ],
   "metadata": {
    "collapsed": false,
    "pycharm": {
     "name": "#%%\n"
    }
   }
  },
  {
   "cell_type": "code",
   "execution_count": 35,
   "outputs": [
    {
     "name": "stdout",
     "output_type": "stream",
     "text": [
      "x0    True\n",
      "x1    True\n",
      "x2    True\n",
      "Name: F, dtype: bool\n"
     ]
    },
    {
     "data": {
      "text/plain": "<IPython.core.display.Markdown object>",
      "text/markdown": "\nTrue - исследуемая экзогенная переменная мультиколлинеарна с другими\n"
     },
     "execution_count": 35,
     "metadata": {},
     "output_type": "execute_result"
    }
   ],
   "source": [
    "print(f_value > f_critical)\n",
    "Markdown(\"\"\"\n",
    "True - исследуемая экзогенная переменная мультиколлинеарна с другими\n",
    "\"\"\")"
   ],
   "metadata": {
    "collapsed": false,
    "pycharm": {
     "name": "#%%\n"
    }
   }
  },
  {
   "cell_type": "code",
   "execution_count": 56,
   "outputs": [
    {
     "data": {
      "text/plain": "i=0,j=1    0.373917\ni=0,j=2    0.684950\ni=1,j=2    0.057126\ni=2,j=1    0.617047\ni=2,j=0    0.059561\ni=1,j=0    0.800175\ndtype: float64"
     },
     "execution_count": 56,
     "metadata": {},
     "output_type": "execute_result"
    }
   ],
   "source": [
    "pairs = [(0, 1), (0, 2), (1, 2), (2, 1), (2, 0), (1, 0)]\n",
    "private_corr = pd.Series(dtype=object)\n",
    "for i, j in pairs:\n",
    "    pair = f'{i=},{j=}'\n",
    "    private_corr[pair] = -R_inv[i, j] / np.sqrt(R_inv[i, i] * R_inv[j, j])\n",
    "\n",
    "private_corr"
   ],
   "metadata": {
    "collapsed": false,
    "pycharm": {
     "name": "#%%\n"
    }
   }
  },
  {
   "cell_type": "code",
   "execution_count": 59,
   "outputs": [
    {
     "data": {
      "text/plain": "i=0,j=1     3.950157\ni=0,j=2     9.211106\ni=1,j=2     0.560633\ni=2,j=1     7.682800\ni=2,j=0     0.584613\ni=1,j=0    13.071878\ndtype: float64"
     },
     "execution_count": 59,
     "metadata": {},
     "output_type": "execute_result"
    }
   ],
   "source": [
    "t_value = private_corr * np.sqrt(n - k - 1) / np.sqrt(1 - private_corr * private_corr)\n",
    "t_value"
   ],
   "metadata": {
    "collapsed": false,
    "pycharm": {
     "name": "#%%\n"
    }
   }
  },
  {
   "cell_type": "code",
   "execution_count": 65,
   "outputs": [
    {
     "data": {
      "text/plain": "1.6608814403008005"
     },
     "execution_count": 65,
     "metadata": {},
     "output_type": "execute_result"
    }
   ],
   "source": [
    "t_critical = stats.t.ppf(1 - ALPHA, n - k - 1)\n",
    "t_critical"
   ],
   "metadata": {
    "collapsed": false,
    "pycharm": {
     "name": "#%%\n"
    }
   }
  },
  {
   "cell_type": "code",
   "execution_count": 71,
   "outputs": [
    {
     "data": {
      "text/plain": "          bool               desc\ni=0,j=1   True    коррел. значима\ni=0,j=2   True    коррел. значима\ni=1,j=2  False  коррел. незначима\ni=2,j=1   True    коррел. значима\ni=2,j=0  False  коррел. незначима\ni=1,j=0   True    коррел. значима",
      "text/html": "<div>\n<style scoped>\n    .dataframe tbody tr th:only-of-type {\n        vertical-align: middle;\n    }\n\n    .dataframe tbody tr th {\n        vertical-align: top;\n    }\n\n    .dataframe thead th {\n        text-align: right;\n    }\n</style>\n<table border=\"1\" class=\"dataframe\">\n  <thead>\n    <tr style=\"text-align: right;\">\n      <th></th>\n      <th>bool</th>\n      <th>desc</th>\n    </tr>\n  </thead>\n  <tbody>\n    <tr>\n      <th>i=0,j=1</th>\n      <td>True</td>\n      <td>коррел. значима</td>\n    </tr>\n    <tr>\n      <th>i=0,j=2</th>\n      <td>True</td>\n      <td>коррел. значима</td>\n    </tr>\n    <tr>\n      <th>i=1,j=2</th>\n      <td>False</td>\n      <td>коррел. незначима</td>\n    </tr>\n    <tr>\n      <th>i=2,j=1</th>\n      <td>True</td>\n      <td>коррел. значима</td>\n    </tr>\n    <tr>\n      <th>i=2,j=0</th>\n      <td>False</td>\n      <td>коррел. незначима</td>\n    </tr>\n    <tr>\n      <th>i=1,j=0</th>\n      <td>True</td>\n      <td>коррел. значима</td>\n    </tr>\n  </tbody>\n</table>\n</div>"
     },
     "execution_count": 71,
     "metadata": {},
     "output_type": "execute_result"
    }
   ],
   "source": [
    "summary = pd.DataFrame((abs(t_value) > t_critical).rename('bool'))  # noqa\n",
    "summary['desc'] = summary['bool'].map(lambda x: 'коррел. ' + ('значима' if x else 'незначима'))\n",
    "summary"
   ],
   "metadata": {
    "collapsed": false,
    "pycharm": {
     "name": "#%%\n"
    }
   }
  },
  {
   "cell_type": "markdown",
   "source": [
    "2\\. В результате оценивания регрессионной модели по выборочным данным объемом 200 наблюдения получен результат.\n",
    "\n",
    "В модели исследователь подозревает наличие мультиколлинеарности. С помощью коэффициентов вздутия проверьте данное предположение."
   ],
   "metadata": {
    "collapsed": false,
    "pycharm": {
     "name": "#%% md\n"
    }
   }
  },
  {
   "cell_type": "code",
   "execution_count": 81,
   "outputs": [
    {
     "data": {
      "text/plain": "            vif   > 2   < 10                                desc\nvif_0  2.500000  True   True  не приводит к мультиколлинеарности\nvif_1  2.222222  True   True  не приводит к мультиколлинеарности\nvif_2  2.941176  True   True  не приводит к мультиколлинеарности",
      "text/html": "<div>\n<style scoped>\n    .dataframe tbody tr th:only-of-type {\n        vertical-align: middle;\n    }\n\n    .dataframe tbody tr th {\n        vertical-align: top;\n    }\n\n    .dataframe thead th {\n        text-align: right;\n    }\n</style>\n<table border=\"1\" class=\"dataframe\">\n  <thead>\n    <tr style=\"text-align: right;\">\n      <th></th>\n      <th>vif</th>\n      <th>&gt; 2</th>\n      <th>&lt; 10</th>\n      <th>desc</th>\n    </tr>\n  </thead>\n  <tbody>\n    <tr>\n      <th>vif_0</th>\n      <td>2.500000</td>\n      <td>True</td>\n      <td>True</td>\n      <td>не приводит к мультиколлинеарности</td>\n    </tr>\n    <tr>\n      <th>vif_1</th>\n      <td>2.222222</td>\n      <td>True</td>\n      <td>True</td>\n      <td>не приводит к мультиколлинеарности</td>\n    </tr>\n    <tr>\n      <th>vif_2</th>\n      <td>2.941176</td>\n      <td>True</td>\n      <td>True</td>\n      <td>не приводит к мультиколлинеарности</td>\n    </tr>\n  </tbody>\n</table>\n</div>"
     },
     "execution_count": 81,
     "metadata": {},
     "output_type": "execute_result"
    }
   ],
   "source": [
    "rsquared_x1__x2_x3 = 0.6\n",
    "rsquared_x2__x1_x3 = 0.55\n",
    "rsquared_x3__x1_x2 = 0.66\n",
    "\n",
    "vif_list = [1 / (1 - rsquared_x1__x2_x3), 1 / (1 - rsquared_x2__x1_x3), 1 / (1 - rsquared_x3__x1_x2)]\n",
    "vif = pd.DataFrame(vif_list, [f'vif_{i}' for i in range(len(vif_list))], columns=['vif'])\n",
    "vif[' > 2'] = vif['vif'] > 2\n",
    "vif[' < 10'] = vif['vif'] < 10\n",
    "vif['desc'] = vif[' < 10'].map(lambda x: ('не ' if x else '') + 'приводит к мультиколлинеарности')\n",
    "vif"
   ],
   "metadata": {
    "collapsed": false,
    "pycharm": {
     "name": "#%%\n"
    }
   }
  },
  {
   "cell_type": "markdown",
   "source": [
    "3\\. В результате оценивания регрессионной модели по выборочным данным объемом 200 наблюдения получен результат.\n",
    "\n",
    "Вам известен определитель матрицы межфакторных корреляций (xij друг с другом) $ det(R) = 0,562 $. Используя тест Фаррара-Глоубера определите есть ли в массиве объясняющих переменных мультиколлинеарность."
   ],
   "metadata": {
    "collapsed": false,
    "pycharm": {
     "name": "#%% md\n"
    }
   }
  },
  {
   "cell_type": "code",
   "execution_count": null,
   "outputs": [],
   "source": [
    "det_R = 0.562\n",
    "n = 200\n",
    "k = 3"
   ],
   "metadata": {
    "collapsed": false,
    "pycharm": {
     "name": "#%%\n"
    }
   }
  },
  {
   "cell_type": "code",
   "execution_count": null,
   "outputs": [],
   "source": [],
   "metadata": {
    "collapsed": false,
    "pycharm": {
     "name": "#%%\n"
    }
   }
  },
  {
   "cell_type": "code",
   "execution_count": null,
   "outputs": [],
   "source": [],
   "metadata": {
    "collapsed": false,
    "pycharm": {
     "name": "#%%\n"
    }
   }
  }
 ],
 "metadata": {
  "kernelspec": {
   "display_name": "Python 3",
   "language": "python",
   "name": "python3"
  },
  "language_info": {
   "codemirror_mode": {
    "name": "ipython",
    "version": 2
   },
   "file_extension": ".py",
   "mimetype": "text/x-python",
   "name": "python",
   "nbconvert_exporter": "python",
   "pygments_lexer": "ipython2",
   "version": "2.7.6"
  }
 },
 "nbformat": 4,
 "nbformat_minor": 0
}