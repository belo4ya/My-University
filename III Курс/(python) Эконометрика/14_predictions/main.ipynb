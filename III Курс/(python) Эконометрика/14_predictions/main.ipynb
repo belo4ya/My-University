{
 "cells": [
  {
   "cell_type": "code",
   "execution_count": 95,
   "outputs": [
    {
     "name": "stdout",
     "output_type": "stream",
     "text": [
      "The autoreload extension is already loaded. To reload it, use:\n",
      "  %reload_ext autoreload\n",
      "The rpy2.ipython extension is already loaded. To reload it, use:\n",
      "  %reload_ext rpy2.ipython\n"
     ]
    }
   ],
   "source": [
    "%load_ext autoreload\n",
    "%autoreload 2\n",
    "\n",
    "%load_ext rpy2.ipython"
   ],
   "metadata": {
    "collapsed": false,
    "pycharm": {
     "name": "#%%\n"
    }
   }
  },
  {
   "cell_type": "code",
   "execution_count": 96,
   "outputs": [],
   "source": [
    "from __future__ import annotations\n",
    "\n",
    "import pandas as pd\n",
    "import statsmodels.api as sm\n",
    "from scipy import stats\n",
    "from sklearn.model_selection import train_test_split"
   ],
   "metadata": {
    "collapsed": false,
    "pycharm": {
     "name": "#%%\n"
    }
   }
  },
  {
   "cell_type": "code",
   "execution_count": 97,
   "outputs": [],
   "source": [
    "ALPHA = 0.05"
   ],
   "metadata": {
    "collapsed": false,
    "pycharm": {
     "name": "#%%\n"
    }
   }
  },
  {
   "cell_type": "code",
   "execution_count": 98,
   "outputs": [
    {
     "data": {
      "text/plain": "         y      x1     x2     x3   x4\n0  12345.0  2769.0  29.67   94.2  9.6\n1  12091.9  3065.0  28.94  101.1  9.5\n2  12339.7  3899.0  28.43  111.6  9.5\n3  12450.6  3790.0  27.50  119.7  9.6\n4  12832.1  3963.0  28.07  112.0  9.6",
      "text/html": "<div>\n<style scoped>\n    .dataframe tbody tr th:only-of-type {\n        vertical-align: middle;\n    }\n\n    .dataframe tbody tr th {\n        vertical-align: top;\n    }\n\n    .dataframe thead th {\n        text-align: right;\n    }\n</style>\n<table border=\"1\" class=\"dataframe\">\n  <thead>\n    <tr style=\"text-align: right;\">\n      <th></th>\n      <th>y</th>\n      <th>x1</th>\n      <th>x2</th>\n      <th>x3</th>\n      <th>x4</th>\n    </tr>\n  </thead>\n  <tbody>\n    <tr>\n      <th>0</th>\n      <td>12345.0</td>\n      <td>2769.0</td>\n      <td>29.67</td>\n      <td>94.2</td>\n      <td>9.6</td>\n    </tr>\n    <tr>\n      <th>1</th>\n      <td>12091.9</td>\n      <td>3065.0</td>\n      <td>28.94</td>\n      <td>101.1</td>\n      <td>9.5</td>\n    </tr>\n    <tr>\n      <th>2</th>\n      <td>12339.7</td>\n      <td>3899.0</td>\n      <td>28.43</td>\n      <td>111.6</td>\n      <td>9.5</td>\n    </tr>\n    <tr>\n      <th>3</th>\n      <td>12450.6</td>\n      <td>3790.0</td>\n      <td>27.50</td>\n      <td>119.7</td>\n      <td>9.6</td>\n    </tr>\n    <tr>\n      <th>4</th>\n      <td>12832.1</td>\n      <td>3963.0</td>\n      <td>28.07</td>\n      <td>112.0</td>\n      <td>9.6</td>\n    </tr>\n  </tbody>\n</table>\n</div>"
     },
     "execution_count": 98,
     "metadata": {},
     "output_type": "execute_result"
    }
   ],
   "source": [
    "df = pd.read_csv('data/tema7.csv', sep=';', decimal=',')\n",
    "df.head()"
   ],
   "metadata": {
    "collapsed": false,
    "pycharm": {
     "name": "#%%\n"
    }
   }
  },
  {
   "cell_type": "code",
   "execution_count": 99,
   "outputs": [
    {
     "data": {
      "text/plain": "           y        x1        x2        x3        x4\ny   1.000000  0.701097  0.690454  0.067950 -0.794822\nx1  0.701097  1.000000  0.509960  0.255408 -0.460771\nx2  0.690454  0.509960  1.000000 -0.385527 -0.560071\nx3  0.067950  0.255408 -0.385527  1.000000 -0.166677\nx4 -0.794822 -0.460771 -0.560071 -0.166677  1.000000",
      "text/html": "<div>\n<style scoped>\n    .dataframe tbody tr th:only-of-type {\n        vertical-align: middle;\n    }\n\n    .dataframe tbody tr th {\n        vertical-align: top;\n    }\n\n    .dataframe thead th {\n        text-align: right;\n    }\n</style>\n<table border=\"1\" class=\"dataframe\">\n  <thead>\n    <tr style=\"text-align: right;\">\n      <th></th>\n      <th>y</th>\n      <th>x1</th>\n      <th>x2</th>\n      <th>x3</th>\n      <th>x4</th>\n    </tr>\n  </thead>\n  <tbody>\n    <tr>\n      <th>y</th>\n      <td>1.000000</td>\n      <td>0.701097</td>\n      <td>0.690454</td>\n      <td>0.067950</td>\n      <td>-0.794822</td>\n    </tr>\n    <tr>\n      <th>x1</th>\n      <td>0.701097</td>\n      <td>1.000000</td>\n      <td>0.509960</td>\n      <td>0.255408</td>\n      <td>-0.460771</td>\n    </tr>\n    <tr>\n      <th>x2</th>\n      <td>0.690454</td>\n      <td>0.509960</td>\n      <td>1.000000</td>\n      <td>-0.385527</td>\n      <td>-0.560071</td>\n    </tr>\n    <tr>\n      <th>x3</th>\n      <td>0.067950</td>\n      <td>0.255408</td>\n      <td>-0.385527</td>\n      <td>1.000000</td>\n      <td>-0.166677</td>\n    </tr>\n    <tr>\n      <th>x4</th>\n      <td>-0.794822</td>\n      <td>-0.460771</td>\n      <td>-0.560071</td>\n      <td>-0.166677</td>\n      <td>1.000000</td>\n    </tr>\n  </tbody>\n</table>\n</div>"
     },
     "execution_count": 99,
     "metadata": {},
     "output_type": "execute_result"
    }
   ],
   "source": [
    "df.corr()"
   ],
   "metadata": {
    "collapsed": false,
    "pycharm": {
     "name": "#%%\n"
    }
   }
  },
  {
   "cell_type": "markdown",
   "source": [
    "## Модель $ y = \\alpha + \\beta_1 x_1 + \\beta_2 x_2 + \\beta_3 x_3 + \\beta_4 x_4 + \\varepsilon $"
   ],
   "metadata": {
    "collapsed": false,
    "pycharm": {
     "name": "#%% md\n"
    }
   }
  },
  {
   "cell_type": "code",
   "execution_count": 100,
   "outputs": [],
   "source": [
    "y = df['y']\n",
    "X = df[['x1', 'x2', 'x3', 'x4']]\n",
    "X['const'] = 1"
   ],
   "metadata": {
    "collapsed": false,
    "pycharm": {
     "name": "#%%\n"
    }
   }
  },
  {
   "cell_type": "code",
   "execution_count": 101,
   "outputs": [
    {
     "data": {
      "text/plain": "        x1     x2     x3   x4  const\n20  5410.0  30.92  112.0  6.6      1\n21  5023.0  31.53  110.8  6.5      1",
      "text/html": "<div>\n<style scoped>\n    .dataframe tbody tr th:only-of-type {\n        vertical-align: middle;\n    }\n\n    .dataframe tbody tr th {\n        vertical-align: top;\n    }\n\n    .dataframe thead th {\n        text-align: right;\n    }\n</style>\n<table border=\"1\" class=\"dataframe\">\n  <thead>\n    <tr style=\"text-align: right;\">\n      <th></th>\n      <th>x1</th>\n      <th>x2</th>\n      <th>x3</th>\n      <th>x4</th>\n      <th>const</th>\n    </tr>\n  </thead>\n  <tbody>\n    <tr>\n      <th>20</th>\n      <td>5410.0</td>\n      <td>30.92</td>\n      <td>112.0</td>\n      <td>6.6</td>\n      <td>1</td>\n    </tr>\n    <tr>\n      <th>21</th>\n      <td>5023.0</td>\n      <td>31.53</td>\n      <td>110.8</td>\n      <td>6.5</td>\n      <td>1</td>\n    </tr>\n  </tbody>\n</table>\n</div>"
     },
     "execution_count": 101,
     "metadata": {},
     "output_type": "execute_result"
    }
   ],
   "source": [
    "X_train, X_test, y_train, y_test = train_test_split(X, y, train_size=0.91, shuffle=False)\n",
    "X_test"
   ],
   "metadata": {
    "collapsed": false,
    "pycharm": {
     "name": "#%%\n"
    }
   }
  },
  {
   "cell_type": "code",
   "execution_count": 102,
   "outputs": [],
   "source": [
    "main_model = sm.OLS(y_train, X_train)\n",
    "main_results = main_model.fit()"
   ],
   "metadata": {
    "collapsed": false,
    "pycharm": {
     "name": "#%%\n"
    }
   }
  },
  {
   "cell_type": "code",
   "execution_count": 103,
   "outputs": [
    {
     "name": "stdout",
     "output_type": "stream",
     "text": [
      "                            OLS Regression Results                            \n",
      "==============================================================================\n",
      "Dep. Variable:                      y   R-squared:                       0.906\n",
      "Model:                            OLS   Adj. R-squared:                  0.881\n",
      "Method:                 Least Squares   F-statistic:                     36.15\n",
      "Date:                Sun, 21 Nov 2021   Prob (F-statistic):           1.55e-07\n",
      "Time:                        01:18:45   Log-Likelihood:                -144.58\n",
      "No. Observations:                  20   AIC:                             299.2\n",
      "Df Residuals:                      15   BIC:                             304.1\n",
      "Df Model:                           4                                         \n",
      "Covariance Type:            nonrobust                                         \n",
      "==============================================================================\n",
      "                 coef    std err          t      P>|t|      [0.025      0.975]\n",
      "------------------------------------------------------------------------------\n",
      "x1             0.4473      0.130      3.430      0.004       0.169       0.725\n",
      "x2            36.6988     89.377      0.411      0.687    -153.805     227.202\n",
      "x3           -19.1364     17.123     -1.118      0.281     -55.634      17.361\n",
      "x4          -324.5281     52.813     -6.145      0.000    -437.096    -211.960\n",
      "const       1.498e+04   4173.954      3.589      0.003    6084.449    2.39e+04\n",
      "==============================================================================\n",
      "Omnibus:                        0.051   Durbin-Watson:                   1.815\n",
      "Prob(Omnibus):                  0.975   Jarque-Bera (JB):                0.203\n",
      "Skew:                           0.100   Prob(JB):                        0.903\n",
      "Kurtosis:                       2.549   Cond. No.                     2.25e+05\n",
      "==============================================================================\n",
      "\n",
      "Notes:\n",
      "[1] Standard Errors assume that the covariance matrix of the errors is correctly specified.\n",
      "[2] The condition number is large, 2.25e+05. This might indicate that there are\n",
      "strong multicollinearity or other numerical problems.\n"
     ]
    }
   ],
   "source": [
    "print(main_results.summary())"
   ],
   "metadata": {
    "collapsed": false,
    "pycharm": {
     "name": "#%%\n"
    }
   }
  },
  {
   "cell_type": "markdown",
   "source": [
    "## Расчет ошибки прогноза"
   ],
   "metadata": {
    "collapsed": false,
    "pycharm": {
     "name": "#%% md\n"
    }
   }
  },
  {
   "cell_type": "code",
   "execution_count": 104,
   "outputs": [
    {
     "data": {
      "text/plain": "            mean     mean_se  mean_ci_lower  mean_ci_upper  obs_ci_lower  \\\n20  14250.571960  126.652990   13980.617503   14520.526417  13385.995225   \n21  14155.262839  135.924016   13865.547656   14444.978022  13284.313696   \n\n    obs_ci_upper  \n20  15115.148696  \n21  15026.211982  ",
      "text/html": "<div>\n<style scoped>\n    .dataframe tbody tr th:only-of-type {\n        vertical-align: middle;\n    }\n\n    .dataframe tbody tr th {\n        vertical-align: top;\n    }\n\n    .dataframe thead th {\n        text-align: right;\n    }\n</style>\n<table border=\"1\" class=\"dataframe\">\n  <thead>\n    <tr style=\"text-align: right;\">\n      <th></th>\n      <th>mean</th>\n      <th>mean_se</th>\n      <th>mean_ci_lower</th>\n      <th>mean_ci_upper</th>\n      <th>obs_ci_lower</th>\n      <th>obs_ci_upper</th>\n    </tr>\n  </thead>\n  <tbody>\n    <tr>\n      <th>20</th>\n      <td>14250.571960</td>\n      <td>126.652990</td>\n      <td>13980.617503</td>\n      <td>14520.526417</td>\n      <td>13385.995225</td>\n      <td>15115.148696</td>\n    </tr>\n    <tr>\n      <th>21</th>\n      <td>14155.262839</td>\n      <td>135.924016</td>\n      <td>13865.547656</td>\n      <td>14444.978022</td>\n      <td>13284.313696</td>\n      <td>15026.211982</td>\n    </tr>\n  </tbody>\n</table>\n</div>"
     },
     "execution_count": 104,
     "metadata": {},
     "output_type": "execute_result"
    }
   ],
   "source": [
    "y_pred_test_intervals = main_results.get_prediction(X_test).summary_frame(ALPHA)\n",
    "y_pred_test_intervals"
   ],
   "metadata": {
    "collapsed": false,
    "pycharm": {
     "name": "#%%\n"
    }
   }
  },
  {
   "cell_type": "code",
   "execution_count": 105,
   "outputs": [
    {
     "name": "stdout",
     "output_type": "stream",
     "text": [
      "Для среднего\n"
     ]
    },
    {
     "data": {
      "text/plain": "False"
     },
     "execution_count": 105,
     "metadata": {},
     "output_type": "execute_result"
    }
   ],
   "source": [
    "print('Для среднего')\n",
    "all((y_pred_test_intervals['mean_ci_lower'] <= y_test) & (y_test <= y_pred_test_intervals['mean_ci_upper']))  # noqa"
   ],
   "metadata": {
    "collapsed": false,
    "pycharm": {
     "name": "#%%\n"
    }
   }
  },
  {
   "cell_type": "code",
   "execution_count": 106,
   "outputs": [
    {
     "name": "stdout",
     "output_type": "stream",
     "text": [
      "Для индивидуального\n"
     ]
    },
    {
     "data": {
      "text/plain": "False"
     },
     "execution_count": 106,
     "metadata": {},
     "output_type": "execute_result"
    }
   ],
   "source": [
    "print('Для индивидуального')\n",
    "all((y_pred_test_intervals['obs_ci_lower'] <= y_test) & (y_test <= y_pred_test_intervals['obs_ci_upper']))  # noqa"
   ],
   "metadata": {
    "collapsed": false,
    "pycharm": {
     "name": "#%%\n"
    }
   }
  },
  {
   "cell_type": "markdown",
   "source": [
    "## Модель $ y = \\alpha + \\beta_1 x_1 + \\beta_2 x_2 + \\beta_4 x_4 + \\varepsilon $"
   ],
   "metadata": {
    "collapsed": false,
    "pycharm": {
     "name": "#%% md\n"
    }
   }
  },
  {
   "cell_type": "code",
   "execution_count": 107,
   "outputs": [],
   "source": [
    "X124 = X[['x1', 'x2', 'x4', 'const']]"
   ],
   "metadata": {
    "collapsed": false,
    "pycharm": {
     "name": "#%%\n"
    }
   }
  },
  {
   "cell_type": "code",
   "execution_count": 108,
   "outputs": [],
   "source": [
    "X124_train, X124_test, y_train, y_test = train_test_split(X124, y, train_size=0.91, shuffle=False)"
   ],
   "metadata": {
    "collapsed": false,
    "pycharm": {
     "name": "#%%\n"
    }
   }
  },
  {
   "cell_type": "code",
   "execution_count": 109,
   "outputs": [],
   "source": [
    "model_124 = sm.OLS(y_train, X124_train)\n",
    "results_124 = model_124.fit()"
   ],
   "metadata": {
    "collapsed": false,
    "pycharm": {
     "name": "#%%\n"
    }
   }
  },
  {
   "cell_type": "code",
   "execution_count": 110,
   "outputs": [
    {
     "name": "stdout",
     "output_type": "stream",
     "text": [
      "                            OLS Regression Results                            \n",
      "==============================================================================\n",
      "Dep. Variable:                      y   R-squared:                       0.898\n",
      "Model:                            OLS   Adj. R-squared:                  0.879\n",
      "Method:                 Least Squares   F-statistic:                     47.05\n",
      "Date:                Sun, 21 Nov 2021   Prob (F-statistic):           3.67e-08\n",
      "Time:                        01:18:46   Log-Likelihood:                -145.38\n",
      "No. Observations:                  20   AIC:                             298.8\n",
      "Df Residuals:                      16   BIC:                             302.8\n",
      "Df Model:                           3                                         \n",
      "Covariance Type:            nonrobust                                         \n",
      "==============================================================================\n",
      "                 coef    std err          t      P>|t|      [0.025      0.975]\n",
      "------------------------------------------------------------------------------\n",
      "x1             0.3716      0.112      3.310      0.004       0.134       0.610\n",
      "x2           108.8831     62.255      1.749      0.099     -23.092     240.858\n",
      "x4          -296.9100     47.036     -6.312      0.000    -396.621    -197.199\n",
      "const       1.086e+04   1968.134      5.517      0.000    6686.254     1.5e+04\n",
      "==============================================================================\n",
      "Omnibus:                        0.560   Durbin-Watson:                   1.680\n",
      "Prob(Omnibus):                  0.756   Jarque-Bera (JB):                0.626\n",
      "Skew:                          -0.184   Prob(JB):                        0.731\n",
      "Kurtosis:                       2.216   Cond. No.                     1.05e+05\n",
      "==============================================================================\n",
      "\n",
      "Notes:\n",
      "[1] Standard Errors assume that the covariance matrix of the errors is correctly specified.\n",
      "[2] The condition number is large, 1.05e+05. This might indicate that there are\n",
      "strong multicollinearity or other numerical problems.\n"
     ]
    }
   ],
   "source": [
    "print(results_124.summary())"
   ],
   "metadata": {
    "collapsed": false,
    "pycharm": {
     "name": "#%%\n"
    }
   }
  },
  {
   "cell_type": "code",
   "execution_count": 111,
   "outputs": [
    {
     "data": {
      "text/plain": "            mean     mean_se  mean_ci_lower  mean_ci_upper  obs_ci_lower  \\\n20  14275.686143  125.609252   14009.406423   14541.965863  13410.459547   \n21  14228.003972  120.250711   13973.083853   14482.924092  13366.205596   \n\n    obs_ci_upper  \n20  15140.912739  \n21  15089.802348  ",
      "text/html": "<div>\n<style scoped>\n    .dataframe tbody tr th:only-of-type {\n        vertical-align: middle;\n    }\n\n    .dataframe tbody tr th {\n        vertical-align: top;\n    }\n\n    .dataframe thead th {\n        text-align: right;\n    }\n</style>\n<table border=\"1\" class=\"dataframe\">\n  <thead>\n    <tr style=\"text-align: right;\">\n      <th></th>\n      <th>mean</th>\n      <th>mean_se</th>\n      <th>mean_ci_lower</th>\n      <th>mean_ci_upper</th>\n      <th>obs_ci_lower</th>\n      <th>obs_ci_upper</th>\n    </tr>\n  </thead>\n  <tbody>\n    <tr>\n      <th>20</th>\n      <td>14275.686143</td>\n      <td>125.609252</td>\n      <td>14009.406423</td>\n      <td>14541.965863</td>\n      <td>13410.459547</td>\n      <td>15140.912739</td>\n    </tr>\n    <tr>\n      <th>21</th>\n      <td>14228.003972</td>\n      <td>120.250711</td>\n      <td>13973.083853</td>\n      <td>14482.924092</td>\n      <td>13366.205596</td>\n      <td>15089.802348</td>\n    </tr>\n  </tbody>\n</table>\n</div>"
     },
     "execution_count": 111,
     "metadata": {},
     "output_type": "execute_result"
    }
   ],
   "source": [
    "y_pred_test_intervals = results_124.get_prediction(X124_test).summary_frame(ALPHA)\n",
    "y_pred_test_intervals"
   ],
   "metadata": {
    "collapsed": false,
    "pycharm": {
     "name": "#%%\n"
    }
   }
  },
  {
   "cell_type": "code",
   "execution_count": 112,
   "outputs": [
    {
     "name": "stdout",
     "output_type": "stream",
     "text": [
      "Для среднего\n"
     ]
    },
    {
     "data": {
      "text/plain": "False"
     },
     "execution_count": 112,
     "metadata": {},
     "output_type": "execute_result"
    }
   ],
   "source": [
    "print('Для среднего')\n",
    "all((y_pred_test_intervals['mean_ci_lower'] <= y_test) & (y_test <= y_pred_test_intervals['mean_ci_upper']))  # noqa"
   ],
   "metadata": {
    "collapsed": false,
    "pycharm": {
     "name": "#%%\n"
    }
   }
  },
  {
   "cell_type": "code",
   "execution_count": 113,
   "outputs": [
    {
     "name": "stdout",
     "output_type": "stream",
     "text": [
      "Для индивидуального\n"
     ]
    },
    {
     "data": {
      "text/plain": "False"
     },
     "execution_count": 113,
     "metadata": {},
     "output_type": "execute_result"
    }
   ],
   "source": [
    "print('Для индивидуального')\n",
    "all((y_pred_test_intervals['obs_ci_lower'] <= y_test) & (y_test <= y_pred_test_intervals['obs_ci_upper']))  # noqa"
   ],
   "metadata": {
    "collapsed": false,
    "pycharm": {
     "name": "#%%\n"
    }
   }
  },
  {
   "cell_type": "markdown",
   "source": [
    "## Модель $ y = \\alpha + \\beta_1 x_1 + \\beta_4 x_4 + \\varepsilon $"
   ],
   "metadata": {
    "collapsed": false,
    "pycharm": {
     "name": "#%% md\n"
    }
   }
  },
  {
   "cell_type": "code",
   "execution_count": 114,
   "outputs": [],
   "source": [
    "X14 = X[['x1', 'x4', 'const']]"
   ],
   "metadata": {
    "collapsed": false,
    "pycharm": {
     "name": "#%%\n"
    }
   }
  },
  {
   "cell_type": "code",
   "execution_count": 115,
   "outputs": [],
   "source": [
    "X14_train, X14_test, y_train, y_test = train_test_split(X14, y, train_size=0.91, shuffle=False)"
   ],
   "metadata": {
    "collapsed": false,
    "pycharm": {
     "name": "#%%\n"
    }
   }
  },
  {
   "cell_type": "code",
   "execution_count": 116,
   "outputs": [],
   "source": [
    "model_14 = sm.OLS(y_train, X14_train)\n",
    "results_14 = model_14.fit()"
   ],
   "metadata": {
    "collapsed": false,
    "pycharm": {
     "name": "#%%\n"
    }
   }
  },
  {
   "cell_type": "code",
   "execution_count": 117,
   "outputs": [
    {
     "name": "stdout",
     "output_type": "stream",
     "text": [
      "                            OLS Regression Results                            \n",
      "==============================================================================\n",
      "Dep. Variable:                      y   R-squared:                       0.879\n",
      "Model:                            OLS   Adj. R-squared:                  0.864\n",
      "Method:                 Least Squares   F-statistic:                     61.59\n",
      "Date:                Sun, 21 Nov 2021   Prob (F-statistic):           1.63e-08\n",
      "Time:                        01:18:46   Log-Likelihood:                -147.13\n",
      "No. Observations:                  20   AIC:                             300.3\n",
      "Df Residuals:                      17   BIC:                             303.3\n",
      "Df Model:                           2                                         \n",
      "Covariance Type:            nonrobust                                         \n",
      "==============================================================================\n",
      "                 coef    std err          t      P>|t|      [0.025      0.975]\n",
      "------------------------------------------------------------------------------\n",
      "x1             0.4336      0.113      3.844      0.001       0.196       0.672\n",
      "x4          -332.7165     44.838     -7.420      0.000    -427.316    -238.117\n",
      "const       1.409e+04    714.113     19.734      0.000    1.26e+04    1.56e+04\n",
      "==============================================================================\n",
      "Omnibus:                        0.226   Durbin-Watson:                   1.444\n",
      "Prob(Omnibus):                  0.893   Jarque-Bera (JB):                0.421\n",
      "Skew:                           0.043   Prob(JB):                        0.810\n",
      "Kurtosis:                       2.295   Cond. No.                     3.60e+04\n",
      "==============================================================================\n",
      "\n",
      "Notes:\n",
      "[1] Standard Errors assume that the covariance matrix of the errors is correctly specified.\n",
      "[2] The condition number is large, 3.6e+04. This might indicate that there are\n",
      "strong multicollinearity or other numerical problems.\n"
     ]
    }
   ],
   "source": [
    "print(results_14.summary())"
   ],
   "metadata": {
    "collapsed": false,
    "pycharm": {
     "name": "#%%\n"
    }
   }
  },
  {
   "cell_type": "code",
   "execution_count": 118,
   "outputs": [
    {
     "data": {
      "text/plain": "            mean     mean_se  mean_ci_lower  mean_ci_upper  obs_ci_lower  \\\n20  14242.075714  131.432766   13964.776816   14519.374611  13331.321865   \n21  14107.551642  104.374703   13887.340267   14327.763017  13212.525975   \n\n    obs_ci_upper  \n20  15152.829562  \n21  15002.577309  ",
      "text/html": "<div>\n<style scoped>\n    .dataframe tbody tr th:only-of-type {\n        vertical-align: middle;\n    }\n\n    .dataframe tbody tr th {\n        vertical-align: top;\n    }\n\n    .dataframe thead th {\n        text-align: right;\n    }\n</style>\n<table border=\"1\" class=\"dataframe\">\n  <thead>\n    <tr style=\"text-align: right;\">\n      <th></th>\n      <th>mean</th>\n      <th>mean_se</th>\n      <th>mean_ci_lower</th>\n      <th>mean_ci_upper</th>\n      <th>obs_ci_lower</th>\n      <th>obs_ci_upper</th>\n    </tr>\n  </thead>\n  <tbody>\n    <tr>\n      <th>20</th>\n      <td>14242.075714</td>\n      <td>131.432766</td>\n      <td>13964.776816</td>\n      <td>14519.374611</td>\n      <td>13331.321865</td>\n      <td>15152.829562</td>\n    </tr>\n    <tr>\n      <th>21</th>\n      <td>14107.551642</td>\n      <td>104.374703</td>\n      <td>13887.340267</td>\n      <td>14327.763017</td>\n      <td>13212.525975</td>\n      <td>15002.577309</td>\n    </tr>\n  </tbody>\n</table>\n</div>"
     },
     "execution_count": 118,
     "metadata": {},
     "output_type": "execute_result"
    }
   ],
   "source": [
    "y_pred_test_intervals = results_14.get_prediction(X14_test).summary_frame(ALPHA)\n",
    "y_pred_test_intervals"
   ],
   "metadata": {
    "collapsed": false,
    "pycharm": {
     "name": "#%%\n"
    }
   }
  },
  {
   "cell_type": "code",
   "execution_count": 119,
   "outputs": [
    {
     "name": "stdout",
     "output_type": "stream",
     "text": [
      "Для среднего\n"
     ]
    },
    {
     "data": {
      "text/plain": "False"
     },
     "execution_count": 119,
     "metadata": {},
     "output_type": "execute_result"
    }
   ],
   "source": [
    "print('Для среднего')\n",
    "all((y_pred_test_intervals['mean_ci_lower'] <= y_test) & (y_test <= y_pred_test_intervals['mean_ci_upper']))  # noqa"
   ],
   "metadata": {
    "collapsed": false,
    "pycharm": {
     "name": "#%%\n"
    }
   }
  },
  {
   "cell_type": "code",
   "execution_count": 120,
   "outputs": [
    {
     "name": "stdout",
     "output_type": "stream",
     "text": [
      "Для индивидуального\n"
     ]
    },
    {
     "data": {
      "text/plain": "False"
     },
     "execution_count": 120,
     "metadata": {},
     "output_type": "execute_result"
    }
   ],
   "source": [
    "print('Для индивидуального')\n",
    "all((y_pred_test_intervals['obs_ci_lower'] <= y_test) & (y_test <= y_pred_test_intervals['obs_ci_upper']))  # noqa"
   ],
   "metadata": {
    "collapsed": false,
    "pycharm": {
     "name": "#%%\n"
    }
   }
  },
  {
   "cell_type": "markdown",
   "source": [
    "## Тест Чоу для изначальной модели"
   ],
   "metadata": {
    "collapsed": false,
    "pycharm": {
     "name": "#%% md\n"
    }
   }
  },
  {
   "cell_type": "code",
   "execution_count": 121,
   "outputs": [],
   "source": [
    "from dataclasses import dataclass\n",
    "\n",
    "@dataclass\n",
    "class ChowResults:\n",
    "    value: float\n",
    "    f_critical: float\n",
    "    f_pvalue: float\n",
    "\n",
    "# H0: выборка однородна (может быть описана общей моделью)\n",
    "# H1: выборка не однородна\n",
    "\n",
    "def chow_test(x: pd.DataFrame | pd.Series, y: pd.Series, splitter, alpha: float = 0.05) -> ChowResults:\n",
    "    x_1, x_2, y_1, y_2 = splitter(x, y)\n",
    "\n",
    "    def get_results(x, y) -> sm.regression.linear_model.RegressionResults:\n",
    "        return sm.OLS(y, x).fit()\n",
    "\n",
    "    main_results = get_results(x, y)\n",
    "    results_1 = get_results(x_1, y_1)\n",
    "    results_2 = get_results(x_2, y_2)\n",
    "\n",
    "    rss = main_results.ssr\n",
    "    rss_1 = results_1.ssr\n",
    "    rss_2 = results_2.ssr\n",
    "\n",
    "    k = main_results.df_model\n",
    "    n_1 = results_1.nobs\n",
    "    n_2 = results_2.nobs\n",
    "\n",
    "    chow = (rss - rss_1 - rss_2) * (n_1 + n_2 - 2 * (k + 1)) / (rss_1 + rss_2) / (k + 1)\n",
    "    f_critical = stats.f.ppf(1 - alpha, k + 1, n_1 + n_2 - 2 * (k + 1))\n",
    "    f_pvalue = 1 - stats.f.cdf(chow, dfn = k + 1, dfd = (n_1 + n_2 - 2 * k))\n",
    "\n",
    "    return ChowResults(chow, f_critical, f_pvalue)"
   ],
   "metadata": {
    "collapsed": false,
    "pycharm": {
     "name": "#%%\n"
    }
   }
  },
  {
   "cell_type": "code",
   "execution_count": 122,
   "outputs": [],
   "source": [
    "X_1, X_2, y_1, y_2 = train_test_split(X_train, y_train, train_size=0.5, shuffle=False)"
   ],
   "metadata": {
    "collapsed": false,
    "pycharm": {
     "name": "#%%\n"
    }
   }
  },
  {
   "cell_type": "code",
   "execution_count": 123,
   "outputs": [
    {
     "data": {
      "text/plain": "ChowResults(value=0.7694032344155877, f_critical=3.3258345304130112, f_pvalue=0.5894585522892875)"
     },
     "execution_count": 123,
     "metadata": {},
     "output_type": "execute_result"
    }
   ],
   "source": [
    "# H0 принимается - выборки однородны\n",
    "chow_stats = chow_test(X_train, y_train, lambda x, y: train_test_split(x, y, train_size=0.5, shuffle=False))\n",
    "chow_stats"
   ],
   "metadata": {
    "collapsed": false,
    "pycharm": {
     "name": "#%%\n"
    }
   }
  },
  {
   "cell_type": "markdown",
   "source": [
    "# R"
   ],
   "metadata": {
    "collapsed": false,
    "pycharm": {
     "name": "#%% md\n"
    }
   }
  },
  {
   "cell_type": "code",
   "execution_count": 124,
   "outputs": [],
   "source": [
    "%Rpush df"
   ],
   "metadata": {
    "collapsed": false,
    "pycharm": {
     "name": "#%%\n"
    }
   }
  },
  {
   "cell_type": "code",
   "execution_count": 125,
   "outputs": [],
   "source": [
    "%%R\n",
    "\n",
    "df_train <- df[1:20, ]\n",
    "df_test <- df[21:22, ]"
   ],
   "metadata": {
    "collapsed": false,
    "pycharm": {
     "name": "#%%\n"
    }
   }
  },
  {
   "cell_type": "code",
   "execution_count": 126,
   "outputs": [
    {
     "name": "stdout",
     "output_type": "stream",
     "text": [
      "\n",
      "Call:\n",
      "lm(formula = y ~ x1 + x2 + x3 + x4, data = df_train)\n",
      "\n",
      "Residuals:\n",
      "    Min      1Q  Median      3Q     Max \n",
      "-669.00 -246.01   19.58  194.06  644.98 \n",
      "\n",
      "Coefficients:\n",
      "              Estimate Std. Error t value Pr(>|t|)    \n",
      "(Intercept) 14981.0221  4173.9545   3.589  0.00268 ** \n",
      "x1              0.4473     0.1304   3.430  0.00372 ** \n",
      "x2             36.6988    89.3775   0.411  0.68717    \n",
      "x3            -19.1364    17.1235  -1.118  0.28134    \n",
      "x4           -324.5281    52.8129  -6.145 1.88e-05 ***\n",
      "---\n",
      "Signif. codes:  0 '***' 0.001 '**' 0.01 '*' 0.05 '.' 0.1 ' ' 1\n",
      "\n",
      "Residual standard error: 385.3 on 15 degrees of freedom\n",
      "Multiple R-squared:  0.906,\tAdjusted R-squared:  0.881 \n",
      "F-statistic: 36.15 on 4 and 15 DF,  p-value: 1.548e-07\n",
      "\n"
     ]
    }
   ],
   "source": [
    "%%R\n",
    "\n",
    "m <- lm(y ~ x1 + x2 + x3 + x4, data = df_train)\n",
    "print(summary(m))"
   ],
   "metadata": {
    "collapsed": false,
    "pycharm": {
     "name": "#%%\n"
    }
   }
  },
  {
   "cell_type": "code",
   "execution_count": 127,
   "outputs": [
    {
     "name": "stdout",
     "output_type": "stream",
     "text": [
      "         y\n",
      "20 15644.4\n",
      "21 15717.8\n",
      "        fit      lwr      upr\n",
      "20 14250.57 13980.62 14520.53\n",
      "21 14155.26 13865.55 14444.98\n",
      "        fit      lwr      upr\n",
      "20 14250.57 13386.00 15115.15\n",
      "21 14155.26 13284.31 15026.21\n"
     ]
    }
   ],
   "source": [
    "%%R\n",
    "\n",
    "# модель неадекватна\n",
    "print(df_test['y'])\n",
    "print(predict(m, newdata=df_test, interval = \"confidence\"))\n",
    "print(predict(m, newdata=df_test, interval = \"prediction\"))"
   ],
   "metadata": {
    "collapsed": false,
    "pycharm": {
     "name": "#%%\n"
    }
   }
  },
  {
   "cell_type": "code",
   "execution_count": 128,
   "outputs": [
    {
     "name": "stdout",
     "output_type": "stream",
     "text": [
      "\n",
      "Call:\n",
      "lm(formula = y ~ x1 + x4, data = df_train)\n",
      "\n",
      "Residuals:\n",
      "    Min      1Q  Median      3Q     Max \n",
      "-689.53 -217.26  -44.64  223.21  704.01 \n",
      "\n",
      "Coefficients:\n",
      "              Estimate Std. Error t value Pr(>|t|)    \n",
      "(Intercept) 14092.3334   714.1126  19.734 3.72e-13 ***\n",
      "x1              0.4336     0.1128   3.844   0.0013 ** \n",
      "x4           -332.7165    44.8377  -7.420 1.00e-06 ***\n",
      "---\n",
      "Signif. codes:  0 '***' 0.001 '**' 0.01 '*' 0.05 '.' 0.1 ' ' 1\n",
      "\n",
      "Residual standard error: 411.2 on 17 degrees of freedom\n",
      "Multiple R-squared:  0.8787,\tAdjusted R-squared:  0.8645 \n",
      "F-statistic: 61.59 on 2 and 17 DF,  p-value: 1.629e-08\n",
      "\n"
     ]
    }
   ],
   "source": [
    "%%R\n",
    "\n",
    "m14 <- lm(y ~ x1 + x4, data = df_train)\n",
    "print(summary(m14))"
   ],
   "metadata": {
    "collapsed": false,
    "pycharm": {
     "name": "#%%\n"
    }
   }
  },
  {
   "cell_type": "code",
   "execution_count": 129,
   "outputs": [
    {
     "name": "stdout",
     "output_type": "stream",
     "text": [
      "         y\n",
      "20 15644.4\n",
      "21 15717.8\n",
      "        fit      lwr      upr\n",
      "20 14242.08 13964.78 14519.37\n",
      "21 14107.55 13887.34 14327.76\n",
      "        fit      lwr      upr\n",
      "20 14242.08 13331.32 15152.83\n",
      "21 14107.55 13212.53 15002.58\n"
     ]
    }
   ],
   "source": [
    "%%R\n",
    "\n",
    "# модель неадекватна\n",
    "print(df_test['y'])\n",
    "print(predict(m14, newdata=df_test, interval = \"confidence\"))\n",
    "print(predict(m14, newdata=df_test, interval = \"prediction\"))"
   ],
   "metadata": {
    "collapsed": false,
    "pycharm": {
     "name": "#%%\n"
    }
   }
  },
  {
   "cell_type": "code",
   "execution_count": 130,
   "outputs": [],
   "source": [
    "%%R\n",
    "\n",
    "df_train_1 <- df_train[1:10, ]\n",
    "df_train_2 <- df_train[11:20, ]\n",
    "\n",
    "m_1 <- lm(y ~ x1 + x2 + x3 + x4, data = df_train_1)\n",
    "m_2 <- lm(y ~ x1 + x2 + x3 + x4, data = df_train_2)\n",
    "\n",
    "rss <- deviance(m)\n",
    "rss_1 <- deviance(m_1)\n",
    "rss_2 <- deviance(m_2)\n",
    "\n",
    "n_1 <- length(df_train_1[, 'x1'])\n",
    "n_2 <- length(df_train_2[, 'x1'])\n",
    "k <- 4\n"
   ],
   "metadata": {
    "collapsed": false,
    "pycharm": {
     "name": "#%%\n"
    }
   }
  },
  {
   "cell_type": "code",
   "execution_count": 131,
   "outputs": [
    {
     "name": "stdout",
     "output_type": "stream",
     "text": [
      "[1] 0.7694032\n",
      "[1] 3.325835\n"
     ]
    }
   ],
   "source": [
    "%%R\n",
    "\n",
    "# H0 принимается (chow < f_critical) - выборки однородны\n",
    "chow <- (rss - rss_1 - rss_2) * (n_1 + n_2 - 2 * (k + 1)) / (k + 1) / (rss_1 + rss_2)\n",
    "print(chow)\n",
    "f_critical <- qf(1 - 0.05, k + 1, n_1 + n_2 - 2 * (k + 1))\n",
    "print(f_critical)\n",
    "\n"
   ],
   "metadata": {
    "collapsed": false,
    "pycharm": {
     "name": "#%%\n"
    }
   }
  }
 ],
 "metadata": {
  "kernelspec": {
   "display_name": "Python 3",
   "language": "python",
   "name": "python3"
  },
  "language_info": {
   "codemirror_mode": {
    "name": "ipython",
    "version": 2
   },
   "file_extension": ".py",
   "mimetype": "text/x-python",
   "name": "python",
   "nbconvert_exporter": "python",
   "pygments_lexer": "ipython2",
   "version": "2.7.6"
  }
 },
 "nbformat": 4,
 "nbformat_minor": 0
}