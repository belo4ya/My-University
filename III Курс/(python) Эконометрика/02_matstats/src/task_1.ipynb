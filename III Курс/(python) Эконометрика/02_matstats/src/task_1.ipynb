{
 "cells": [
  {
   "cell_type": "code",
   "execution_count": 420,
   "metadata": {},
   "outputs": [],
   "source": [
    "from __future__ import annotations\n",
    "\n",
    "import cufflinks as cf  # noqa\n",
    "import pandas as pd\n",
    "import plotly.offline  # noqa"
   ]
  },
  {
   "cell_type": "code",
   "execution_count": 421,
   "metadata": {},
   "outputs": [
    {
     "data": {
      "text/html": "        <script type=\"text/javascript\">\n        window.PlotlyConfig = {MathJaxConfig: 'local'};\n        if (window.MathJax) {MathJax.Hub.Config({SVG: {font: \"STIX-Web\"}});}\n        if (typeof require !== 'undefined') {\n        require.undef(\"plotly\");\n        requirejs.config({\n            paths: {\n                'plotly': ['https://cdn.plot.ly/plotly-2.4.2.min']\n            }\n        });\n        require(['plotly'], function(Plotly) {\n            window._Plotly = Plotly;\n        });\n        }\n        </script>\n        "
     },
     "metadata": {},
     "output_type": "display_data"
    }
   ],
   "source": [
    "cf.go_offline()\n",
    "cf.set_config_file(offline=False, world_readable=True, theme='white')"
   ]
  },
  {
   "cell_type": "code",
   "execution_count": 422,
   "metadata": {},
   "outputs": [],
   "source": [
    "%reload_ext autoreload\n",
    "%autoreload 2"
   ]
  },
  {
   "cell_type": "markdown",
   "source": [
    "# Страна исследования: Сингапур"
   ],
   "metadata": {
    "collapsed": false,
    "pycharm": {
     "name": "#%% md\n"
    }
   }
  },
  {
   "cell_type": "code",
   "execution_count": 423,
   "metadata": {
    "pycharm": {
     "name": "#%%\n"
    }
   },
   "outputs": [
    {
     "data": {
      "text/plain": "     Country Name Country Code  \\\n0       Singapore          SGP   \n1       Singapore          SGP   \n2       Singapore          SGP   \n3       Singapore          SGP   \n4       Singapore          SGP   \n...           ...          ...   \n1438    Singapore          SGP   \n1439    Singapore          SGP   \n1440    Singapore          SGP   \n1441    Singapore          SGP   \n1442    Singapore          SGP   \n\n                                         Indicator Name     Indicator Code  \\\n0     Intentional homicides, female (per 100,000 fem...  VC.IHR.PSRC.FE.P5   \n1     Merchandise exports to low- and middle-income ...  TX.VAL.MRCH.R5.ZS   \n2                  Export unit value index (2000 = 100)  TX.UVI.MRCH.XD.WD   \n3     Merchandise imports from low- and middle-incom...  TM.VAL.MRCH.R2.ZS   \n4     Share of tariff lines with specific rates, pri...  TM.TAX.TCOM.SR.ZS   \n...                                                 ...                ...   \n1438                                   Trade (% of GDP)     NE.TRD.GNFS.ZS   \n1439              Gross capital formation (current US$)     NE.GDI.TOTL.CD   \n1440        Exports of goods and services (current LCU)     NE.EXP.GNFS.CN   \n1441  Households and NPISHs Final consumption expend...  NE.CON.PRVT.PP.CD   \n1442  Military expenditure (% of general government ...     MS.MIL.XPND.ZS   \n\n              1960          1961          1962          1963          1964  \\\n0              NaN           NaN           NaN           NaN           NaN   \n1     1.273683e+01           NaN  1.314017e+01  9.845885e+00           NaN   \n2              NaN           NaN           NaN           NaN           NaN   \n3              NaN           NaN           NaN           NaN           NaN   \n4              NaN           NaN           NaN           NaN           NaN   \n...            ...           ...           ...           ...           ...   \n1438  3.393066e+02  2.994019e+02  2.866445e+02  2.968815e+02  2.550307e+02   \n1439  7.987064e+07  8.813537e+07  1.277930e+08  1.591206e+08  1.771201e+08   \n1440  3.512800e+09  3.333700e+09  3.493500e+09  3.965000e+09  3.341700e+09   \n1441           NaN           NaN           NaN           NaN           NaN   \n1442           NaN           NaN           NaN           NaN           NaN   \n\n              1965  ...          2012          2013          2014  \\\n0              NaN  ...  2.344646e-01  2.308808e-01  2.657929e-01   \n1              NaN  ...  3.868837e+00  4.159699e+00  4.319948e+00   \n2              NaN  ...  1.123405e+02  1.082040e+02  1.071401e+02   \n3              NaN  ...  1.524159e+00  1.785507e+00  2.628323e+00   \n4              NaN  ...  0.000000e+00  0.000000e+00  0.000000e+00   \n...            ...  ...           ...           ...           ...   \n1438  2.575412e+02  ...  3.692130e+02  3.670418e+02  3.604673e+02   \n1439  2.115837e+08  ...  8.635120e+10  9.220986e+10  9.266072e+10   \n1440  3.676900e+09  ...  7.254439e+11  7.507965e+11  7.657946e+11   \n1441           NaN  ...  1.281558e+11  1.301487e+11  1.358406e+11   \n1442           NaN  ...  3.140360e+01  2.760096e+01  2.386906e+01   \n\n              2015          2016          2017          2018          2019  \\\n0     1.125425e-01  2.597589e-01  1.837857e-01  2.551097e-01           NaN   \n1     4.484547e+00  4.452890e+00  4.661110e+00  4.580456e+00  4.395976e+00   \n2     8.882217e+01  8.326430e+01  8.888975e+01  9.429905e+01  9.196523e+01   \n3     2.131843e+00  1.256616e+00  1.793111e+00  1.901593e+00  1.684297e+00   \n4     0.000000e+00  0.000000e+00  0.000000e+00  0.000000e+00  0.000000e+00   \n...            ...           ...           ...           ...           ...   \n1438  3.294714e+02  3.033184e+02  3.157393e+02  3.253423e+02  3.235176e+02   \n1439  7.808889e+10  8.439472e+10  9.381794e+10  9.394617e+10  9.231967e+10   \n1440  7.553591e+11  7.254890e+11  8.111598e+11  8.979204e+11  8.983483e+11   \n1441  1.436858e+11  1.478207e+11  1.544493e+11  1.653194e+11  1.739774e+11   \n1442  2.095495e+01  1.995955e+01  2.162514e+01  2.003252e+01  2.009003e+01   \n\n              2020  Unnamed: 65  \n0              NaN          NaN  \n1              NaN          NaN  \n2              NaN          NaN  \n3              NaN          NaN  \n4              NaN          NaN  \n...            ...          ...  \n1438  3.205635e+02          NaN  \n1439  7.690527e+10          NaN  \n1440  8.267387e+11          NaN  \n1441  1.500816e+11          NaN  \n1442  1.129911e+01          NaN  \n\n[1443 rows x 66 columns]",
      "text/html": "<div>\n<style scoped>\n    .dataframe tbody tr th:only-of-type {\n        vertical-align: middle;\n    }\n\n    .dataframe tbody tr th {\n        vertical-align: top;\n    }\n\n    .dataframe thead th {\n        text-align: right;\n    }\n</style>\n<table border=\"1\" class=\"dataframe\">\n  <thead>\n    <tr style=\"text-align: right;\">\n      <th></th>\n      <th>Country Name</th>\n      <th>Country Code</th>\n      <th>Indicator Name</th>\n      <th>Indicator Code</th>\n      <th>1960</th>\n      <th>1961</th>\n      <th>1962</th>\n      <th>1963</th>\n      <th>1964</th>\n      <th>1965</th>\n      <th>...</th>\n      <th>2012</th>\n      <th>2013</th>\n      <th>2014</th>\n      <th>2015</th>\n      <th>2016</th>\n      <th>2017</th>\n      <th>2018</th>\n      <th>2019</th>\n      <th>2020</th>\n      <th>Unnamed: 65</th>\n    </tr>\n  </thead>\n  <tbody>\n    <tr>\n      <th>0</th>\n      <td>Singapore</td>\n      <td>SGP</td>\n      <td>Intentional homicides, female (per 100,000 fem...</td>\n      <td>VC.IHR.PSRC.FE.P5</td>\n      <td>NaN</td>\n      <td>NaN</td>\n      <td>NaN</td>\n      <td>NaN</td>\n      <td>NaN</td>\n      <td>NaN</td>\n      <td>...</td>\n      <td>2.344646e-01</td>\n      <td>2.308808e-01</td>\n      <td>2.657929e-01</td>\n      <td>1.125425e-01</td>\n      <td>2.597589e-01</td>\n      <td>1.837857e-01</td>\n      <td>2.551097e-01</td>\n      <td>NaN</td>\n      <td>NaN</td>\n      <td>NaN</td>\n    </tr>\n    <tr>\n      <th>1</th>\n      <td>Singapore</td>\n      <td>SGP</td>\n      <td>Merchandise exports to low- and middle-income ...</td>\n      <td>TX.VAL.MRCH.R5.ZS</td>\n      <td>1.273683e+01</td>\n      <td>NaN</td>\n      <td>1.314017e+01</td>\n      <td>9.845885e+00</td>\n      <td>NaN</td>\n      <td>NaN</td>\n      <td>...</td>\n      <td>3.868837e+00</td>\n      <td>4.159699e+00</td>\n      <td>4.319948e+00</td>\n      <td>4.484547e+00</td>\n      <td>4.452890e+00</td>\n      <td>4.661110e+00</td>\n      <td>4.580456e+00</td>\n      <td>4.395976e+00</td>\n      <td>NaN</td>\n      <td>NaN</td>\n    </tr>\n    <tr>\n      <th>2</th>\n      <td>Singapore</td>\n      <td>SGP</td>\n      <td>Export unit value index (2000 = 100)</td>\n      <td>TX.UVI.MRCH.XD.WD</td>\n      <td>NaN</td>\n      <td>NaN</td>\n      <td>NaN</td>\n      <td>NaN</td>\n      <td>NaN</td>\n      <td>NaN</td>\n      <td>...</td>\n      <td>1.123405e+02</td>\n      <td>1.082040e+02</td>\n      <td>1.071401e+02</td>\n      <td>8.882217e+01</td>\n      <td>8.326430e+01</td>\n      <td>8.888975e+01</td>\n      <td>9.429905e+01</td>\n      <td>9.196523e+01</td>\n      <td>NaN</td>\n      <td>NaN</td>\n    </tr>\n    <tr>\n      <th>3</th>\n      <td>Singapore</td>\n      <td>SGP</td>\n      <td>Merchandise imports from low- and middle-incom...</td>\n      <td>TM.VAL.MRCH.R2.ZS</td>\n      <td>NaN</td>\n      <td>NaN</td>\n      <td>NaN</td>\n      <td>NaN</td>\n      <td>NaN</td>\n      <td>NaN</td>\n      <td>...</td>\n      <td>1.524159e+00</td>\n      <td>1.785507e+00</td>\n      <td>2.628323e+00</td>\n      <td>2.131843e+00</td>\n      <td>1.256616e+00</td>\n      <td>1.793111e+00</td>\n      <td>1.901593e+00</td>\n      <td>1.684297e+00</td>\n      <td>NaN</td>\n      <td>NaN</td>\n    </tr>\n    <tr>\n      <th>4</th>\n      <td>Singapore</td>\n      <td>SGP</td>\n      <td>Share of tariff lines with specific rates, pri...</td>\n      <td>TM.TAX.TCOM.SR.ZS</td>\n      <td>NaN</td>\n      <td>NaN</td>\n      <td>NaN</td>\n      <td>NaN</td>\n      <td>NaN</td>\n      <td>NaN</td>\n      <td>...</td>\n      <td>0.000000e+00</td>\n      <td>0.000000e+00</td>\n      <td>0.000000e+00</td>\n      <td>0.000000e+00</td>\n      <td>0.000000e+00</td>\n      <td>0.000000e+00</td>\n      <td>0.000000e+00</td>\n      <td>0.000000e+00</td>\n      <td>NaN</td>\n      <td>NaN</td>\n    </tr>\n    <tr>\n      <th>...</th>\n      <td>...</td>\n      <td>...</td>\n      <td>...</td>\n      <td>...</td>\n      <td>...</td>\n      <td>...</td>\n      <td>...</td>\n      <td>...</td>\n      <td>...</td>\n      <td>...</td>\n      <td>...</td>\n      <td>...</td>\n      <td>...</td>\n      <td>...</td>\n      <td>...</td>\n      <td>...</td>\n      <td>...</td>\n      <td>...</td>\n      <td>...</td>\n      <td>...</td>\n      <td>...</td>\n    </tr>\n    <tr>\n      <th>1438</th>\n      <td>Singapore</td>\n      <td>SGP</td>\n      <td>Trade (% of GDP)</td>\n      <td>NE.TRD.GNFS.ZS</td>\n      <td>3.393066e+02</td>\n      <td>2.994019e+02</td>\n      <td>2.866445e+02</td>\n      <td>2.968815e+02</td>\n      <td>2.550307e+02</td>\n      <td>2.575412e+02</td>\n      <td>...</td>\n      <td>3.692130e+02</td>\n      <td>3.670418e+02</td>\n      <td>3.604673e+02</td>\n      <td>3.294714e+02</td>\n      <td>3.033184e+02</td>\n      <td>3.157393e+02</td>\n      <td>3.253423e+02</td>\n      <td>3.235176e+02</td>\n      <td>3.205635e+02</td>\n      <td>NaN</td>\n    </tr>\n    <tr>\n      <th>1439</th>\n      <td>Singapore</td>\n      <td>SGP</td>\n      <td>Gross capital formation (current US$)</td>\n      <td>NE.GDI.TOTL.CD</td>\n      <td>7.987064e+07</td>\n      <td>8.813537e+07</td>\n      <td>1.277930e+08</td>\n      <td>1.591206e+08</td>\n      <td>1.771201e+08</td>\n      <td>2.115837e+08</td>\n      <td>...</td>\n      <td>8.635120e+10</td>\n      <td>9.220986e+10</td>\n      <td>9.266072e+10</td>\n      <td>7.808889e+10</td>\n      <td>8.439472e+10</td>\n      <td>9.381794e+10</td>\n      <td>9.394617e+10</td>\n      <td>9.231967e+10</td>\n      <td>7.690527e+10</td>\n      <td>NaN</td>\n    </tr>\n    <tr>\n      <th>1440</th>\n      <td>Singapore</td>\n      <td>SGP</td>\n      <td>Exports of goods and services (current LCU)</td>\n      <td>NE.EXP.GNFS.CN</td>\n      <td>3.512800e+09</td>\n      <td>3.333700e+09</td>\n      <td>3.493500e+09</td>\n      <td>3.965000e+09</td>\n      <td>3.341700e+09</td>\n      <td>3.676900e+09</td>\n      <td>...</td>\n      <td>7.254439e+11</td>\n      <td>7.507965e+11</td>\n      <td>7.657946e+11</td>\n      <td>7.553591e+11</td>\n      <td>7.254890e+11</td>\n      <td>8.111598e+11</td>\n      <td>8.979204e+11</td>\n      <td>8.983483e+11</td>\n      <td>8.267387e+11</td>\n      <td>NaN</td>\n    </tr>\n    <tr>\n      <th>1441</th>\n      <td>Singapore</td>\n      <td>SGP</td>\n      <td>Households and NPISHs Final consumption expend...</td>\n      <td>NE.CON.PRVT.PP.CD</td>\n      <td>NaN</td>\n      <td>NaN</td>\n      <td>NaN</td>\n      <td>NaN</td>\n      <td>NaN</td>\n      <td>NaN</td>\n      <td>...</td>\n      <td>1.281558e+11</td>\n      <td>1.301487e+11</td>\n      <td>1.358406e+11</td>\n      <td>1.436858e+11</td>\n      <td>1.478207e+11</td>\n      <td>1.544493e+11</td>\n      <td>1.653194e+11</td>\n      <td>1.739774e+11</td>\n      <td>1.500816e+11</td>\n      <td>NaN</td>\n    </tr>\n    <tr>\n      <th>1442</th>\n      <td>Singapore</td>\n      <td>SGP</td>\n      <td>Military expenditure (% of general government ...</td>\n      <td>MS.MIL.XPND.ZS</td>\n      <td>NaN</td>\n      <td>NaN</td>\n      <td>NaN</td>\n      <td>NaN</td>\n      <td>NaN</td>\n      <td>NaN</td>\n      <td>...</td>\n      <td>3.140360e+01</td>\n      <td>2.760096e+01</td>\n      <td>2.386906e+01</td>\n      <td>2.095495e+01</td>\n      <td>1.995955e+01</td>\n      <td>2.162514e+01</td>\n      <td>2.003252e+01</td>\n      <td>2.009003e+01</td>\n      <td>1.129911e+01</td>\n      <td>NaN</td>\n    </tr>\n  </tbody>\n</table>\n<p>1443 rows × 66 columns</p>\n</div>"
     },
     "execution_count": 423,
     "metadata": {},
     "output_type": "execute_result"
    }
   ],
   "source": [
    "data_df = pd.read_csv('data/csv/data.csv', sep=',', header=2)\n",
    "data_df"
   ]
  },
  {
   "cell_type": "code",
   "execution_count": 424,
   "metadata": {
    "pycharm": {
     "name": "#%%\n"
    }
   },
   "outputs": [],
   "source": [
    "data_router = {\n",
    "    'Y': {\n",
    "        'indicator': 'GDP (constant 2010 US$)',\n",
    "        'ru': {\n",
    "            'full': 'Объем ВВП, $',\n",
    "            'short': 'ВВП, $'\n",
    "        }\n",
    "    },\n",
    "    'C': {\n",
    "        'indicator': 'Final consumption expenditure (% of GDP)',\n",
    "        'ru': {\n",
    "            'full': 'Уровень потребления, $',\n",
    "            'short': 'Потребление, $'\n",
    "        }\n",
    "    },\n",
    "    'I': {\n",
    "        'indicator': 'Net investment in nonfinancial assets (% of GDP)',\n",
    "        'ru': {\n",
    "            'full': 'Объем инвестиций, $',\n",
    "            'short': 'Инвестиции, $'\n",
    "        }\n",
    "    },\n",
    "    'G': {\n",
    "        'indicator': 'General government final consumption expenditure (constant 2010 US$)',\n",
    "        'ru': {\n",
    "            'full': 'Величина государственных расходов, $',\n",
    "            'short': 'Гос. расходы, $'\n",
    "        }\n",
    "    },\n",
    "    'Y(t-1)': {\n",
    "        'indicator': None,\n",
    "        'ru': {\n",
    "            'full': 'Объем ВВП за предыдущий период, $',\n",
    "            'short': 'ВВП(пред. период), $'\n",
    "        }\n",
    "    },\n",
    "    'Y(t-1) - Y(t-2)': {\n",
    "        'indicator': None,\n",
    "        'ru': {\n",
    "            'full': 'Прирост ВВП за предыдущий период, $',\n",
    "            'short': 'Прирост ВВП(пред. период), $'\n",
    "        }\n",
    "    },\n",
    "    'G(t-1)': {\n",
    "        'indicator': None,\n",
    "        'ru': {\n",
    "            'full': 'Величина государственных расходов за предыдущий период, $',\n",
    "            'short': 'Гос. расходы(пред. период), $'\n",
    "        }\n",
    "    },\n",
    "}"
   ]
  },
  {
   "cell_type": "markdown",
   "source": [
    "### Объем ВВП"
   ],
   "metadata": {
    "collapsed": false,
    "pycharm": {
     "name": "#%% md\n"
    }
   }
  },
  {
   "cell_type": "code",
   "execution_count": 425,
   "metadata": {
    "pycharm": {
     "name": "#%%\n"
    }
   },
   "outputs": [],
   "source": [
    "indicator = data_router['Y']['indicator']\n",
    "gdp_series = data_df[data_df['Indicator Name'] == indicator]\n",
    "gdp_series = gdp_series.loc[:, '1960':'2020'].squeeze()"
   ]
  },
  {
   "cell_type": "markdown",
   "source": [
    "### Уровень потребления"
   ],
   "metadata": {
    "collapsed": false
   }
  },
  {
   "cell_type": "code",
   "execution_count": 426,
   "metadata": {
    "pycharm": {
     "name": "#%%\n"
    }
   },
   "outputs": [],
   "source": [
    "indicator = data_router['C']['indicator']\n",
    "fce_series = data_df[data_df['Indicator Name'] == indicator]\n",
    "fce_series = fce_series.loc[:, '1960':'2020'].squeeze()\n",
    "fce_series = fce_series * gdp_series / 100"
   ]
  },
  {
   "cell_type": "markdown",
   "source": [
    "### Объем инвестиций"
   ],
   "metadata": {
    "collapsed": false
   }
  },
  {
   "cell_type": "code",
   "execution_count": 427,
   "metadata": {
    "pycharm": {
     "name": "#%%\n"
    }
   },
   "outputs": [],
   "source": [
    "indicator = data_router['I']['indicator']\n",
    "investment_series = data_df[data_df['Indicator Name'] == indicator]\n",
    "investment_series = investment_series.loc[:, '1960':'2020'].squeeze()\n",
    "investment_series = investment_series * gdp_series / 100"
   ]
  },
  {
   "cell_type": "markdown",
   "source": [
    "### Величина государственных расходов"
   ],
   "metadata": {
    "collapsed": false
   }
  },
  {
   "cell_type": "code",
   "execution_count": 428,
   "metadata": {
    "pycharm": {
     "name": "#%%\n"
    }
   },
   "outputs": [],
   "source": [
    "indicator = data_router['G']['indicator']\n",
    "gfce_series = data_df[data_df['Indicator Name'] == indicator]\n",
    "gfce_series = gfce_series.loc[:, '1960':'2020'].squeeze()"
   ]
  },
  {
   "cell_type": "code",
   "execution_count": 429,
   "metadata": {
    "pycharm": {
     "name": "#%%\n"
    }
   },
   "outputs": [],
   "source": [
    "df = pd.concat(\n",
    "    [\n",
    "        gdp_series.rename('Y'),\n",
    "        fce_series.rename('C'),\n",
    "        investment_series.rename('I'),\n",
    "        gfce_series.rename('G')\n",
    "    ],\n",
    "    axis=1\n",
    ")\n",
    "df.index = pd.to_datetime(df.index.values)"
   ]
  },
  {
   "cell_type": "code",
   "execution_count": 430,
   "outputs": [
    {
     "data": {
      "text/plain": "                        Y              C            I             G\n1960-01-01    5768.016072    5592.360813          NaN    436.828932\n1961-01-01    6237.353063    6196.316093          NaN    535.679734\n1962-01-01    6708.525608    6477.773334          NaN    586.067752\n1963-01-01    7382.103260    6869.376900          NaN    681.665573\n1964-01-01    7153.012025    6615.987338          NaN    694.810274\n...                   ...            ...          ...           ...\n2016-01-01  308895.962132  144473.392591 -3138.312297  29747.120836\n2017-01-01  322859.231805  146496.813523          NaN  30666.386827\n2018-01-01  334151.135292  148811.619317          NaN  31635.310574\n2019-01-01  338646.194793  155587.359202          NaN  32705.143133\n2020-01-01  320389.705941  145537.151934          NaN  36823.284820\n\n[61 rows x 4 columns]",
      "text/html": "<div>\n<style scoped>\n    .dataframe tbody tr th:only-of-type {\n        vertical-align: middle;\n    }\n\n    .dataframe tbody tr th {\n        vertical-align: top;\n    }\n\n    .dataframe thead th {\n        text-align: right;\n    }\n</style>\n<table border=\"1\" class=\"dataframe\">\n  <thead>\n    <tr style=\"text-align: right;\">\n      <th></th>\n      <th>Y</th>\n      <th>C</th>\n      <th>I</th>\n      <th>G</th>\n    </tr>\n  </thead>\n  <tbody>\n    <tr>\n      <th>1960-01-01</th>\n      <td>5768.016072</td>\n      <td>5592.360813</td>\n      <td>NaN</td>\n      <td>436.828932</td>\n    </tr>\n    <tr>\n      <th>1961-01-01</th>\n      <td>6237.353063</td>\n      <td>6196.316093</td>\n      <td>NaN</td>\n      <td>535.679734</td>\n    </tr>\n    <tr>\n      <th>1962-01-01</th>\n      <td>6708.525608</td>\n      <td>6477.773334</td>\n      <td>NaN</td>\n      <td>586.067752</td>\n    </tr>\n    <tr>\n      <th>1963-01-01</th>\n      <td>7382.103260</td>\n      <td>6869.376900</td>\n      <td>NaN</td>\n      <td>681.665573</td>\n    </tr>\n    <tr>\n      <th>1964-01-01</th>\n      <td>7153.012025</td>\n      <td>6615.987338</td>\n      <td>NaN</td>\n      <td>694.810274</td>\n    </tr>\n    <tr>\n      <th>...</th>\n      <td>...</td>\n      <td>...</td>\n      <td>...</td>\n      <td>...</td>\n    </tr>\n    <tr>\n      <th>2016-01-01</th>\n      <td>308895.962132</td>\n      <td>144473.392591</td>\n      <td>-3138.312297</td>\n      <td>29747.120836</td>\n    </tr>\n    <tr>\n      <th>2017-01-01</th>\n      <td>322859.231805</td>\n      <td>146496.813523</td>\n      <td>NaN</td>\n      <td>30666.386827</td>\n    </tr>\n    <tr>\n      <th>2018-01-01</th>\n      <td>334151.135292</td>\n      <td>148811.619317</td>\n      <td>NaN</td>\n      <td>31635.310574</td>\n    </tr>\n    <tr>\n      <th>2019-01-01</th>\n      <td>338646.194793</td>\n      <td>155587.359202</td>\n      <td>NaN</td>\n      <td>32705.143133</td>\n    </tr>\n    <tr>\n      <th>2020-01-01</th>\n      <td>320389.705941</td>\n      <td>145537.151934</td>\n      <td>NaN</td>\n      <td>36823.284820</td>\n    </tr>\n  </tbody>\n</table>\n<p>61 rows × 4 columns</p>\n</div>"
     },
     "execution_count": 430,
     "metadata": {},
     "output_type": "execute_result"
    }
   ],
   "source": [
    "df = df / 1_000_000\n",
    "for k in data_router:\n",
    "    for form in data_router[k]['ru']:\n",
    "        data_router[k]['ru'][form] = data_router[k]['ru'][form].replace('$', 'млн. $')\n",
    "\n",
    "df"
   ],
   "metadata": {
    "collapsed": false,
    "pycharm": {
     "name": "#%%\n"
    }
   }
  },
  {
   "cell_type": "markdown",
   "source": [
    "# Диаграммы рассеяния"
   ],
   "metadata": {
    "collapsed": false,
    "pycharm": {
     "name": "#%% md\n"
    }
   }
  },
  {
   "cell_type": "code",
   "execution_count": 431,
   "outputs": [],
   "source": [
    "scatter_config = {\n",
    "    'kind': 'scatter',\n",
    "    'mode': 'markers',\n",
    "    'size': 8,\n",
    "}"
   ],
   "metadata": {
    "collapsed": false,
    "pycharm": {
     "name": "#%%\n"
    }
   }
  },
  {
   "cell_type": "code",
   "execution_count": 432,
   "metadata": {
    "pycharm": {
     "name": "#%%\n"
    }
   },
   "outputs": [
    {
     "data": {
      "text/plain": "                        Y              C            I             G  \\\n1960-01-01    5768.016072    5592.360813          NaN    436.828932   \n1961-01-01    6237.353063    6196.316093          NaN    535.679734   \n1962-01-01    6708.525608    6477.773334          NaN    586.067752   \n1963-01-01    7382.103260    6869.376900          NaN    681.665573   \n1964-01-01    7153.012025    6615.987338          NaN    694.810274   \n...                   ...            ...          ...           ...   \n2016-01-01  308895.962132  144473.392591 -3138.312297  29747.120836   \n2017-01-01  322859.231805  146496.813523          NaN  30666.386827   \n2018-01-01  334151.135292  148811.619317          NaN  31635.310574   \n2019-01-01  338646.194793  155587.359202          NaN  32705.143133   \n2020-01-01  320389.705941  145537.151934          NaN  36823.284820   \n\n                   Y(t-1)  Y(t-1) - Y(t-2)        G(t-1)      C + G + I  \n1960-01-01            NaN              NaN           NaN            NaN  \n1961-01-01    5768.016072              NaN    436.828932            NaN  \n1962-01-01    6237.353063       469.336991    535.679734            NaN  \n1963-01-01    6708.525608       471.172545    586.067752            NaN  \n1964-01-01    7382.103260       673.577652    681.665573            NaN  \n...                   ...              ...           ...            ...  \n2016-01-01  298944.012931      8674.756736  28648.011444  171082.201129  \n2017-01-01  308895.962132      9951.949201  29747.120836            NaN  \n2018-01-01  322859.231805     13963.269673  30666.386827            NaN  \n2019-01-01  334151.135292     11291.903487  31635.310574            NaN  \n2020-01-01  338646.194793      4495.059501  32705.143133            NaN  \n\n[61 rows x 8 columns]",
      "text/html": "<div>\n<style scoped>\n    .dataframe tbody tr th:only-of-type {\n        vertical-align: middle;\n    }\n\n    .dataframe tbody tr th {\n        vertical-align: top;\n    }\n\n    .dataframe thead th {\n        text-align: right;\n    }\n</style>\n<table border=\"1\" class=\"dataframe\">\n  <thead>\n    <tr style=\"text-align: right;\">\n      <th></th>\n      <th>Y</th>\n      <th>C</th>\n      <th>I</th>\n      <th>G</th>\n      <th>Y(t-1)</th>\n      <th>Y(t-1) - Y(t-2)</th>\n      <th>G(t-1)</th>\n      <th>C + G + I</th>\n    </tr>\n  </thead>\n  <tbody>\n    <tr>\n      <th>1960-01-01</th>\n      <td>5768.016072</td>\n      <td>5592.360813</td>\n      <td>NaN</td>\n      <td>436.828932</td>\n      <td>NaN</td>\n      <td>NaN</td>\n      <td>NaN</td>\n      <td>NaN</td>\n    </tr>\n    <tr>\n      <th>1961-01-01</th>\n      <td>6237.353063</td>\n      <td>6196.316093</td>\n      <td>NaN</td>\n      <td>535.679734</td>\n      <td>5768.016072</td>\n      <td>NaN</td>\n      <td>436.828932</td>\n      <td>NaN</td>\n    </tr>\n    <tr>\n      <th>1962-01-01</th>\n      <td>6708.525608</td>\n      <td>6477.773334</td>\n      <td>NaN</td>\n      <td>586.067752</td>\n      <td>6237.353063</td>\n      <td>469.336991</td>\n      <td>535.679734</td>\n      <td>NaN</td>\n    </tr>\n    <tr>\n      <th>1963-01-01</th>\n      <td>7382.103260</td>\n      <td>6869.376900</td>\n      <td>NaN</td>\n      <td>681.665573</td>\n      <td>6708.525608</td>\n      <td>471.172545</td>\n      <td>586.067752</td>\n      <td>NaN</td>\n    </tr>\n    <tr>\n      <th>1964-01-01</th>\n      <td>7153.012025</td>\n      <td>6615.987338</td>\n      <td>NaN</td>\n      <td>694.810274</td>\n      <td>7382.103260</td>\n      <td>673.577652</td>\n      <td>681.665573</td>\n      <td>NaN</td>\n    </tr>\n    <tr>\n      <th>...</th>\n      <td>...</td>\n      <td>...</td>\n      <td>...</td>\n      <td>...</td>\n      <td>...</td>\n      <td>...</td>\n      <td>...</td>\n      <td>...</td>\n    </tr>\n    <tr>\n      <th>2016-01-01</th>\n      <td>308895.962132</td>\n      <td>144473.392591</td>\n      <td>-3138.312297</td>\n      <td>29747.120836</td>\n      <td>298944.012931</td>\n      <td>8674.756736</td>\n      <td>28648.011444</td>\n      <td>171082.201129</td>\n    </tr>\n    <tr>\n      <th>2017-01-01</th>\n      <td>322859.231805</td>\n      <td>146496.813523</td>\n      <td>NaN</td>\n      <td>30666.386827</td>\n      <td>308895.962132</td>\n      <td>9951.949201</td>\n      <td>29747.120836</td>\n      <td>NaN</td>\n    </tr>\n    <tr>\n      <th>2018-01-01</th>\n      <td>334151.135292</td>\n      <td>148811.619317</td>\n      <td>NaN</td>\n      <td>31635.310574</td>\n      <td>322859.231805</td>\n      <td>13963.269673</td>\n      <td>30666.386827</td>\n      <td>NaN</td>\n    </tr>\n    <tr>\n      <th>2019-01-01</th>\n      <td>338646.194793</td>\n      <td>155587.359202</td>\n      <td>NaN</td>\n      <td>32705.143133</td>\n      <td>334151.135292</td>\n      <td>11291.903487</td>\n      <td>31635.310574</td>\n      <td>NaN</td>\n    </tr>\n    <tr>\n      <th>2020-01-01</th>\n      <td>320389.705941</td>\n      <td>145537.151934</td>\n      <td>NaN</td>\n      <td>36823.284820</td>\n      <td>338646.194793</td>\n      <td>4495.059501</td>\n      <td>32705.143133</td>\n      <td>NaN</td>\n    </tr>\n  </tbody>\n</table>\n<p>61 rows × 8 columns</p>\n</div>"
     },
     "execution_count": 432,
     "metadata": {},
     "output_type": "execute_result"
    }
   ],
   "source": [
    "df['Y(t-1)'] = df['Y'].shift(1)\n",
    "df['Y(t-1) - Y(t-2)'] = df['Y(t-1)'] - df['Y'].shift(2)\n",
    "df['G(t-1)'] = df['G'].shift(1)\n",
    "df['C + G + I'] = df['C'] + df['G'] + df['I']\n",
    "df"
   ]
  },
  {
   "cell_type": "code",
   "execution_count": 433,
   "outputs": [
    {
     "data": {
      "application/vnd.plotly.v1+json": {
       "config": {
        "linkText": "Export to plot.ly",
        "plotlyServerURL": "https://plot.ly",
        "showLink": true
       },
       "data": [
        {
         "histfunc": "count",
         "histnorm": "",
         "marker": {
          "color": "rgba(255, 153, 51, 1.0)",
          "line": {
           "color": "#4D5663",
           "width": 1.3
          }
         },
         "name": "Y",
         "nbinsx": 10,
         "opacity": 0.8,
         "orientation": "v",
         "type": "histogram",
         "x": [
          5768.0160721365,
          6237.3530632452,
          6708.52560816992,
          7382.10326042145,
          7153.01202453881,
          7713.42072421103,
          8498.61416812063,
          9561.68222048448,
          10855.1122767574,
          12356.7364947,
          14079.544947471599,
          15827.345171430401,
          17934.843345103298,
          19836.4065002647,
          21049.9193673175,
          21888.061478996602,
          23515.9153209016,
          25127.39037491,
          27081.619804946098,
          29669.044703281503,
          32669.5398084426,
          36203.1221007069,
          38774.309407593006,
          42091.2963495683,
          45792.1258337604,
          45506.9090100421,
          46118.0072343257,
          51097.723540710096,
          56853.243727253,
          62628.7432111009,
          68779.54285209891,
          73379.864304359,
          78252.0595160596,
          87221.9168273286,
          96901.4980813798,
          103879.285314713,
          111640.501036364,
          120928.89753293499,
          118274.051330973,
          125044.067991979,
          136346.984801619,
          134889.41387525998,
          140169.80801635198,
          146527.60164921702,
          160916.01382534398,
          172757.877474653,
          188314.972645788,
          205304.99996321302,
          209140.601456434,
          209393.625490149,
          239809.387605427,
          255008.196791322,
          266385.665325181,
          279271.535506458,
          290269.25619507395,
          298944.012931308,
          308895.962132365,
          322859.23180541495,
          334151.135292159,
          338646.194792894,
          320389.705940647
         ],
         "xaxis": "x",
         "yaxis": "y"
        },
        {
         "line": {
          "color": "rgba(128, 128, 128, 1.0)",
          "dash": "solid",
          "shape": "linear",
          "width": 1.3
         },
         "marker": {
          "size": 2,
          "symbol": "circle"
         },
         "mode": "markers",
         "name": "Y",
         "text": "",
         "type": "scatter",
         "x": [
          5592.360813056414,
          6196.316092606512,
          6477.773333662827,
          6869.376900112365,
          6615.987338347547,
          6880.962796474083,
          7401.218333159515,
          8210.144405367051,
          9074.529635631332,
          9786.07423335992,
          11119.854235893657,
          12399.407918685074,
          13190.555261738955,
          14357.142074400863,
          14878.84826953875,
          15443.306264260475,
          16132.807550722375,
          17083.12828371279,
          18088.626933641655,
          18929.432079551432,
          19650.01543971948,
          20748.687726621876,
          21894.0455071961,
          22910.326445985265,
          24795.655277145695,
          26460.576843985276,
          27326.244710875922,
          29965.35772955545,
          32019.03252410973,
          34796.42491865579,
          37206.18668586829,
          38517.35636648465,
          40812.51800612965,
          45909.50204094694,
          49554.45193313509,
          51025.44405287252,
          55123.07911658631,
          58698.887057711116,
          57890.47935864027,
          64130.65033911872,
          71390.43776842028,
          78040.13299755832,
          81330.46668111297,
          83446.65600091543,
          84186.58604011402,
          85938.44159906569,
          90415.72790591742,
          94239.28752909912,
          104704.43882070063,
          102671.7575088894,
          110382.83828382817,
          116927.51270564942,
          122974.05199365722,
          131474.55383110663,
          137051.82911417627,
          141546.96756592413,
          144473.39259052844,
          146496.8135230113,
          148811.6193174522,
          155587.3592021913,
          145537.15193369778
         ],
         "xaxis": "x2",
         "y": [
          5768.0160721365,
          6237.3530632452,
          6708.52560816992,
          7382.10326042145,
          7153.01202453881,
          7713.42072421103,
          8498.61416812063,
          9561.68222048448,
          10855.1122767574,
          12356.7364947,
          14079.544947471599,
          15827.345171430401,
          17934.843345103298,
          19836.4065002647,
          21049.9193673175,
          21888.061478996602,
          23515.9153209016,
          25127.39037491,
          27081.619804946098,
          29669.044703281503,
          32669.5398084426,
          36203.1221007069,
          38774.309407593006,
          42091.2963495683,
          45792.1258337604,
          45506.9090100421,
          46118.0072343257,
          51097.723540710096,
          56853.243727253,
          62628.7432111009,
          68779.54285209891,
          73379.864304359,
          78252.0595160596,
          87221.9168273286,
          96901.4980813798,
          103879.285314713,
          111640.501036364,
          120928.89753293499,
          118274.051330973,
          125044.067991979,
          136346.984801619,
          134889.41387525998,
          140169.80801635198,
          146527.60164921702,
          160916.01382534398,
          172757.877474653,
          188314.972645788,
          205304.99996321302,
          209140.601456434,
          209393.625490149,
          239809.387605427,
          255008.196791322,
          266385.665325181,
          279271.535506458,
          290269.25619507395,
          298944.012931308,
          308895.962132365,
          322859.23180541495,
          334151.135292159,
          338646.194792894,
          320389.705940647
         ],
         "yaxis": "y2"
        },
        {
         "line": {
          "color": "rgba(128, 128, 128, 1.0)",
          "dash": "solid",
          "shape": "linear",
          "width": 1.3
         },
         "marker": {
          "size": 2,
          "symbol": "circle"
         },
         "mode": "markers",
         "name": "Y",
         "text": "",
         "type": "scatter",
         "x": [
          null,
          null,
          null,
          null,
          null,
          null,
          null,
          null,
          null,
          null,
          null,
          null,
          174.9782964905348,
          -13.35707852378439,
          129.59954720592313,
          113.19734315767391,
          648.8921806292743,
          782.100243428148,
          920.0785901208142,
          663.7966692833031,
          1020.3864058671797,
          614.2793846159739,
          492.93437736395856,
          1336.0209677407759,
          2620.430105894498,
          -837.4657530945419,
          -2693.1408607299068,
          2370.3770588375373,
          1062.9598666635302,
          813.1414012092334,
          -1532.829285193522,
          -1299.5639479031006,
          -2042.9157720672342,
          -3038.240806285928,
          -5130.238327676342,
          -5558.554531303516,
          -5120.045191338742,
          -8513.415730865618,
          381.67572004748234,
          831.047907476478,
          -1460.3395895855638,
          931.4826113425553,
          673.3641917500336,
          834.6284899948283,
          844.9967346884339,
          -1360.311037217621,
          -2457.6121901632137,
          -8240.128349488103,
          -3598.9013543968044,
          2481.036531837693,
          -7429.409607627416,
          -12310.531316131724,
          -8960.101619101886,
          -8914.231330771127,
          -6478.797336166049,
          -6357.864231088532,
          -3138.3122973851387,
          null,
          null,
          null,
          null
         ],
         "xaxis": "x3",
         "y": [
          5768.0160721365,
          6237.3530632452,
          6708.52560816992,
          7382.10326042145,
          7153.01202453881,
          7713.42072421103,
          8498.61416812063,
          9561.68222048448,
          10855.1122767574,
          12356.7364947,
          14079.544947471599,
          15827.345171430401,
          17934.843345103298,
          19836.4065002647,
          21049.9193673175,
          21888.061478996602,
          23515.9153209016,
          25127.39037491,
          27081.619804946098,
          29669.044703281503,
          32669.5398084426,
          36203.1221007069,
          38774.309407593006,
          42091.2963495683,
          45792.1258337604,
          45506.9090100421,
          46118.0072343257,
          51097.723540710096,
          56853.243727253,
          62628.7432111009,
          68779.54285209891,
          73379.864304359,
          78252.0595160596,
          87221.9168273286,
          96901.4980813798,
          103879.285314713,
          111640.501036364,
          120928.89753293499,
          118274.051330973,
          125044.067991979,
          136346.984801619,
          134889.41387525998,
          140169.80801635198,
          146527.60164921702,
          160916.01382534398,
          172757.877474653,
          188314.972645788,
          205304.99996321302,
          209140.601456434,
          209393.625490149,
          239809.387605427,
          255008.196791322,
          266385.665325181,
          279271.535506458,
          290269.25619507395,
          298944.012931308,
          308895.962132365,
          322859.23180541495,
          334151.135292159,
          338646.194792894,
          320389.705940647
         ],
         "yaxis": "y3"
        },
        {
         "line": {
          "color": "rgba(128, 128, 128, 1.0)",
          "dash": "solid",
          "shape": "linear",
          "width": 1.3
         },
         "marker": {
          "size": 2,
          "symbol": "circle"
         },
         "mode": "markers",
         "name": "Y",
         "text": "",
         "type": "scatter",
         "x": [
          436.82893185105996,
          535.6797342106689,
          586.067752337562,
          681.66557328977,
          694.810273670698,
          759.803514443068,
          863.766144728593,
          938.717491850151,
          1097.3169323048899,
          1351.44780633618,
          1643.0211602404102,
          1922.91033602826,
          2179.8958672129797,
          2301.31837729742,
          2309.1520876254403,
          2372.88396826025,
          2487.0038670219496,
          2706.28136883107,
          3009.53890085169,
          3004.22791079879,
          3317.7754860469,
          3498.41553522117,
          3962.86161534732,
          4344.92096227784,
          4580.79530800228,
          5505.57145096357,
          5556.42418072009,
          5624.67040289986,
          5287.09059766238,
          5610.39711713269,
          6219.1029645707395,
          6730.219369786741,
          6903.09209600865,
          7973.588528546389,
          7937.672958313659,
          8768.57735208993,
          10199.690009219601,
          10862.4351804459,
          11703.297680571399,
          12476.710607025,
          14762.693500544701,
          15509.617864109501,
          16226.800683378,
          16374.7781437269,
          16540.6138081288,
          17205.0186637466,
          18463.3913694057,
          18912.9002900081,
          20109.9310605561,
          21086.6221312845,
          23241.2907957462,
          23198.8692626987,
          23398.429713936403,
          26143.0829858997,
          26306.1967678994,
          28648.0114443502,
          29747.1208357979,
          30666.3868265793,
          31635.3105743554,
          32705.143133136502,
          36823.2848201555
         ],
         "xaxis": "x4",
         "y": [
          5768.0160721365,
          6237.3530632452,
          6708.52560816992,
          7382.10326042145,
          7153.01202453881,
          7713.42072421103,
          8498.61416812063,
          9561.68222048448,
          10855.1122767574,
          12356.7364947,
          14079.544947471599,
          15827.345171430401,
          17934.843345103298,
          19836.4065002647,
          21049.9193673175,
          21888.061478996602,
          23515.9153209016,
          25127.39037491,
          27081.619804946098,
          29669.044703281503,
          32669.5398084426,
          36203.1221007069,
          38774.309407593006,
          42091.2963495683,
          45792.1258337604,
          45506.9090100421,
          46118.0072343257,
          51097.723540710096,
          56853.243727253,
          62628.7432111009,
          68779.54285209891,
          73379.864304359,
          78252.0595160596,
          87221.9168273286,
          96901.4980813798,
          103879.285314713,
          111640.501036364,
          120928.89753293499,
          118274.051330973,
          125044.067991979,
          136346.984801619,
          134889.41387525998,
          140169.80801635198,
          146527.60164921702,
          160916.01382534398,
          172757.877474653,
          188314.972645788,
          205304.99996321302,
          209140.601456434,
          209393.625490149,
          239809.387605427,
          255008.196791322,
          266385.665325181,
          279271.535506458,
          290269.25619507395,
          298944.012931308,
          308895.962132365,
          322859.23180541495,
          334151.135292159,
          338646.194792894,
          320389.705940647
         ],
         "yaxis": "y4"
        },
        {
         "line": {
          "color": "rgba(128, 128, 128, 1.0)",
          "dash": "solid",
          "shape": "linear",
          "width": 1.3
         },
         "marker": {
          "size": 2,
          "symbol": "circle"
         },
         "mode": "markers",
         "name": "C",
         "text": "",
         "type": "scatter",
         "x": [
          5768.0160721365,
          6237.3530632452,
          6708.52560816992,
          7382.10326042145,
          7153.01202453881,
          7713.42072421103,
          8498.61416812063,
          9561.68222048448,
          10855.1122767574,
          12356.7364947,
          14079.544947471599,
          15827.345171430401,
          17934.843345103298,
          19836.4065002647,
          21049.9193673175,
          21888.061478996602,
          23515.9153209016,
          25127.39037491,
          27081.619804946098,
          29669.044703281503,
          32669.5398084426,
          36203.1221007069,
          38774.309407593006,
          42091.2963495683,
          45792.1258337604,
          45506.9090100421,
          46118.0072343257,
          51097.723540710096,
          56853.243727253,
          62628.7432111009,
          68779.54285209891,
          73379.864304359,
          78252.0595160596,
          87221.9168273286,
          96901.4980813798,
          103879.285314713,
          111640.501036364,
          120928.89753293499,
          118274.051330973,
          125044.067991979,
          136346.984801619,
          134889.41387525998,
          140169.80801635198,
          146527.60164921702,
          160916.01382534398,
          172757.877474653,
          188314.972645788,
          205304.99996321302,
          209140.601456434,
          209393.625490149,
          239809.387605427,
          255008.196791322,
          266385.665325181,
          279271.535506458,
          290269.25619507395,
          298944.012931308,
          308895.962132365,
          322859.23180541495,
          334151.135292159,
          338646.194792894,
          320389.705940647
         ],
         "xaxis": "x5",
         "y": [
          5592.360813056414,
          6196.316092606512,
          6477.773333662827,
          6869.376900112365,
          6615.987338347547,
          6880.962796474083,
          7401.218333159515,
          8210.144405367051,
          9074.529635631332,
          9786.07423335992,
          11119.854235893657,
          12399.407918685074,
          13190.555261738955,
          14357.142074400863,
          14878.84826953875,
          15443.306264260475,
          16132.807550722375,
          17083.12828371279,
          18088.626933641655,
          18929.432079551432,
          19650.01543971948,
          20748.687726621876,
          21894.0455071961,
          22910.326445985265,
          24795.655277145695,
          26460.576843985276,
          27326.244710875922,
          29965.35772955545,
          32019.03252410973,
          34796.42491865579,
          37206.18668586829,
          38517.35636648465,
          40812.51800612965,
          45909.50204094694,
          49554.45193313509,
          51025.44405287252,
          55123.07911658631,
          58698.887057711116,
          57890.47935864027,
          64130.65033911872,
          71390.43776842028,
          78040.13299755832,
          81330.46668111297,
          83446.65600091543,
          84186.58604011402,
          85938.44159906569,
          90415.72790591742,
          94239.28752909912,
          104704.43882070063,
          102671.7575088894,
          110382.83828382817,
          116927.51270564942,
          122974.05199365722,
          131474.55383110663,
          137051.82911417627,
          141546.96756592413,
          144473.39259052844,
          146496.8135230113,
          148811.6193174522,
          155587.3592021913,
          145537.15193369778
         ],
         "yaxis": "y5"
        },
        {
         "histfunc": "count",
         "histnorm": "",
         "marker": {
          "color": "rgba(55, 128, 191, 1.0)",
          "line": {
           "color": "#4D5663",
           "width": 1.3
          }
         },
         "name": "C",
         "nbinsx": 10,
         "opacity": 0.8,
         "orientation": "v",
         "type": "histogram",
         "x": [
          5592.360813056414,
          6196.316092606512,
          6477.773333662827,
          6869.376900112365,
          6615.987338347547,
          6880.962796474083,
          7401.218333159515,
          8210.144405367051,
          9074.529635631332,
          9786.07423335992,
          11119.854235893657,
          12399.407918685074,
          13190.555261738955,
          14357.142074400863,
          14878.84826953875,
          15443.306264260475,
          16132.807550722375,
          17083.12828371279,
          18088.626933641655,
          18929.432079551432,
          19650.01543971948,
          20748.687726621876,
          21894.0455071961,
          22910.326445985265,
          24795.655277145695,
          26460.576843985276,
          27326.244710875922,
          29965.35772955545,
          32019.03252410973,
          34796.42491865579,
          37206.18668586829,
          38517.35636648465,
          40812.51800612965,
          45909.50204094694,
          49554.45193313509,
          51025.44405287252,
          55123.07911658631,
          58698.887057711116,
          57890.47935864027,
          64130.65033911872,
          71390.43776842028,
          78040.13299755832,
          81330.46668111297,
          83446.65600091543,
          84186.58604011402,
          85938.44159906569,
          90415.72790591742,
          94239.28752909912,
          104704.43882070063,
          102671.7575088894,
          110382.83828382817,
          116927.51270564942,
          122974.05199365722,
          131474.55383110663,
          137051.82911417627,
          141546.96756592413,
          144473.39259052844,
          146496.8135230113,
          148811.6193174522,
          155587.3592021913,
          145537.15193369778
         ],
         "xaxis": "x6",
         "yaxis": "y6"
        },
        {
         "line": {
          "color": "rgba(128, 128, 128, 1.0)",
          "dash": "solid",
          "shape": "linear",
          "width": 1.3
         },
         "marker": {
          "size": 2,
          "symbol": "circle"
         },
         "mode": "markers",
         "name": "C",
         "text": "",
         "type": "scatter",
         "x": [
          null,
          null,
          null,
          null,
          null,
          null,
          null,
          null,
          null,
          null,
          null,
          null,
          174.9782964905348,
          -13.35707852378439,
          129.59954720592313,
          113.19734315767391,
          648.8921806292743,
          782.100243428148,
          920.0785901208142,
          663.7966692833031,
          1020.3864058671797,
          614.2793846159739,
          492.93437736395856,
          1336.0209677407759,
          2620.430105894498,
          -837.4657530945419,
          -2693.1408607299068,
          2370.3770588375373,
          1062.9598666635302,
          813.1414012092334,
          -1532.829285193522,
          -1299.5639479031006,
          -2042.9157720672342,
          -3038.240806285928,
          -5130.238327676342,
          -5558.554531303516,
          -5120.045191338742,
          -8513.415730865618,
          381.67572004748234,
          831.047907476478,
          -1460.3395895855638,
          931.4826113425553,
          673.3641917500336,
          834.6284899948283,
          844.9967346884339,
          -1360.311037217621,
          -2457.6121901632137,
          -8240.128349488103,
          -3598.9013543968044,
          2481.036531837693,
          -7429.409607627416,
          -12310.531316131724,
          -8960.101619101886,
          -8914.231330771127,
          -6478.797336166049,
          -6357.864231088532,
          -3138.3122973851387,
          null,
          null,
          null,
          null
         ],
         "xaxis": "x7",
         "y": [
          5592.360813056414,
          6196.316092606512,
          6477.773333662827,
          6869.376900112365,
          6615.987338347547,
          6880.962796474083,
          7401.218333159515,
          8210.144405367051,
          9074.529635631332,
          9786.07423335992,
          11119.854235893657,
          12399.407918685074,
          13190.555261738955,
          14357.142074400863,
          14878.84826953875,
          15443.306264260475,
          16132.807550722375,
          17083.12828371279,
          18088.626933641655,
          18929.432079551432,
          19650.01543971948,
          20748.687726621876,
          21894.0455071961,
          22910.326445985265,
          24795.655277145695,
          26460.576843985276,
          27326.244710875922,
          29965.35772955545,
          32019.03252410973,
          34796.42491865579,
          37206.18668586829,
          38517.35636648465,
          40812.51800612965,
          45909.50204094694,
          49554.45193313509,
          51025.44405287252,
          55123.07911658631,
          58698.887057711116,
          57890.47935864027,
          64130.65033911872,
          71390.43776842028,
          78040.13299755832,
          81330.46668111297,
          83446.65600091543,
          84186.58604011402,
          85938.44159906569,
          90415.72790591742,
          94239.28752909912,
          104704.43882070063,
          102671.7575088894,
          110382.83828382817,
          116927.51270564942,
          122974.05199365722,
          131474.55383110663,
          137051.82911417627,
          141546.96756592413,
          144473.39259052844,
          146496.8135230113,
          148811.6193174522,
          155587.3592021913,
          145537.15193369778
         ],
         "yaxis": "y7"
        },
        {
         "line": {
          "color": "rgba(128, 128, 128, 1.0)",
          "dash": "solid",
          "shape": "linear",
          "width": 1.3
         },
         "marker": {
          "size": 2,
          "symbol": "circle"
         },
         "mode": "markers",
         "name": "C",
         "text": "",
         "type": "scatter",
         "x": [
          436.82893185105996,
          535.6797342106689,
          586.067752337562,
          681.66557328977,
          694.810273670698,
          759.803514443068,
          863.766144728593,
          938.717491850151,
          1097.3169323048899,
          1351.44780633618,
          1643.0211602404102,
          1922.91033602826,
          2179.8958672129797,
          2301.31837729742,
          2309.1520876254403,
          2372.88396826025,
          2487.0038670219496,
          2706.28136883107,
          3009.53890085169,
          3004.22791079879,
          3317.7754860469,
          3498.41553522117,
          3962.86161534732,
          4344.92096227784,
          4580.79530800228,
          5505.57145096357,
          5556.42418072009,
          5624.67040289986,
          5287.09059766238,
          5610.39711713269,
          6219.1029645707395,
          6730.219369786741,
          6903.09209600865,
          7973.588528546389,
          7937.672958313659,
          8768.57735208993,
          10199.690009219601,
          10862.4351804459,
          11703.297680571399,
          12476.710607025,
          14762.693500544701,
          15509.617864109501,
          16226.800683378,
          16374.7781437269,
          16540.6138081288,
          17205.0186637466,
          18463.3913694057,
          18912.9002900081,
          20109.9310605561,
          21086.6221312845,
          23241.2907957462,
          23198.8692626987,
          23398.429713936403,
          26143.0829858997,
          26306.1967678994,
          28648.0114443502,
          29747.1208357979,
          30666.3868265793,
          31635.3105743554,
          32705.143133136502,
          36823.2848201555
         ],
         "xaxis": "x8",
         "y": [
          5592.360813056414,
          6196.316092606512,
          6477.773333662827,
          6869.376900112365,
          6615.987338347547,
          6880.962796474083,
          7401.218333159515,
          8210.144405367051,
          9074.529635631332,
          9786.07423335992,
          11119.854235893657,
          12399.407918685074,
          13190.555261738955,
          14357.142074400863,
          14878.84826953875,
          15443.306264260475,
          16132.807550722375,
          17083.12828371279,
          18088.626933641655,
          18929.432079551432,
          19650.01543971948,
          20748.687726621876,
          21894.0455071961,
          22910.326445985265,
          24795.655277145695,
          26460.576843985276,
          27326.244710875922,
          29965.35772955545,
          32019.03252410973,
          34796.42491865579,
          37206.18668586829,
          38517.35636648465,
          40812.51800612965,
          45909.50204094694,
          49554.45193313509,
          51025.44405287252,
          55123.07911658631,
          58698.887057711116,
          57890.47935864027,
          64130.65033911872,
          71390.43776842028,
          78040.13299755832,
          81330.46668111297,
          83446.65600091543,
          84186.58604011402,
          85938.44159906569,
          90415.72790591742,
          94239.28752909912,
          104704.43882070063,
          102671.7575088894,
          110382.83828382817,
          116927.51270564942,
          122974.05199365722,
          131474.55383110663,
          137051.82911417627,
          141546.96756592413,
          144473.39259052844,
          146496.8135230113,
          148811.6193174522,
          155587.3592021913,
          145537.15193369778
         ],
         "yaxis": "y8"
        },
        {
         "line": {
          "color": "rgba(128, 128, 128, 1.0)",
          "dash": "solid",
          "shape": "linear",
          "width": 1.3
         },
         "marker": {
          "size": 2,
          "symbol": "circle"
         },
         "mode": "markers",
         "name": "I",
         "text": "",
         "type": "scatter",
         "x": [
          5768.0160721365,
          6237.3530632452,
          6708.52560816992,
          7382.10326042145,
          7153.01202453881,
          7713.42072421103,
          8498.61416812063,
          9561.68222048448,
          10855.1122767574,
          12356.7364947,
          14079.544947471599,
          15827.345171430401,
          17934.843345103298,
          19836.4065002647,
          21049.9193673175,
          21888.061478996602,
          23515.9153209016,
          25127.39037491,
          27081.619804946098,
          29669.044703281503,
          32669.5398084426,
          36203.1221007069,
          38774.309407593006,
          42091.2963495683,
          45792.1258337604,
          45506.9090100421,
          46118.0072343257,
          51097.723540710096,
          56853.243727253,
          62628.7432111009,
          68779.54285209891,
          73379.864304359,
          78252.0595160596,
          87221.9168273286,
          96901.4980813798,
          103879.285314713,
          111640.501036364,
          120928.89753293499,
          118274.051330973,
          125044.067991979,
          136346.984801619,
          134889.41387525998,
          140169.80801635198,
          146527.60164921702,
          160916.01382534398,
          172757.877474653,
          188314.972645788,
          205304.99996321302,
          209140.601456434,
          209393.625490149,
          239809.387605427,
          255008.196791322,
          266385.665325181,
          279271.535506458,
          290269.25619507395,
          298944.012931308,
          308895.962132365,
          322859.23180541495,
          334151.135292159,
          338646.194792894,
          320389.705940647
         ],
         "xaxis": "x9",
         "y": [
          "",
          "",
          "",
          "",
          "",
          "",
          "",
          "",
          "",
          "",
          "",
          "",
          174.9782964905348,
          -13.35707852378439,
          129.59954720592313,
          113.19734315767391,
          648.8921806292743,
          782.100243428148,
          920.0785901208142,
          663.7966692833031,
          1020.3864058671797,
          614.2793846159739,
          492.93437736395856,
          1336.0209677407759,
          2620.430105894498,
          -837.4657530945419,
          -2693.1408607299068,
          2370.3770588375373,
          1062.9598666635302,
          813.1414012092334,
          -1532.829285193522,
          -1299.5639479031006,
          -2042.9157720672342,
          -3038.240806285928,
          -5130.238327676342,
          -5558.554531303516,
          -5120.045191338742,
          -8513.415730865618,
          381.67572004748234,
          831.047907476478,
          -1460.3395895855638,
          931.4826113425553,
          673.3641917500336,
          834.6284899948283,
          844.9967346884339,
          -1360.311037217621,
          -2457.6121901632137,
          -8240.128349488103,
          -3598.9013543968044,
          2481.036531837693,
          -7429.409607627416,
          -12310.531316131724,
          -8960.101619101886,
          -8914.231330771127,
          -6478.797336166049,
          -6357.864231088532,
          -3138.3122973851387,
          "",
          "",
          "",
          ""
         ],
         "yaxis": "y9"
        },
        {
         "line": {
          "color": "rgba(128, 128, 128, 1.0)",
          "dash": "solid",
          "shape": "linear",
          "width": 1.3
         },
         "marker": {
          "size": 2,
          "symbol": "circle"
         },
         "mode": "markers",
         "name": "I",
         "text": "",
         "type": "scatter",
         "x": [
          5592.360813056414,
          6196.316092606512,
          6477.773333662827,
          6869.376900112365,
          6615.987338347547,
          6880.962796474083,
          7401.218333159515,
          8210.144405367051,
          9074.529635631332,
          9786.07423335992,
          11119.854235893657,
          12399.407918685074,
          13190.555261738955,
          14357.142074400863,
          14878.84826953875,
          15443.306264260475,
          16132.807550722375,
          17083.12828371279,
          18088.626933641655,
          18929.432079551432,
          19650.01543971948,
          20748.687726621876,
          21894.0455071961,
          22910.326445985265,
          24795.655277145695,
          26460.576843985276,
          27326.244710875922,
          29965.35772955545,
          32019.03252410973,
          34796.42491865579,
          37206.18668586829,
          38517.35636648465,
          40812.51800612965,
          45909.50204094694,
          49554.45193313509,
          51025.44405287252,
          55123.07911658631,
          58698.887057711116,
          57890.47935864027,
          64130.65033911872,
          71390.43776842028,
          78040.13299755832,
          81330.46668111297,
          83446.65600091543,
          84186.58604011402,
          85938.44159906569,
          90415.72790591742,
          94239.28752909912,
          104704.43882070063,
          102671.7575088894,
          110382.83828382817,
          116927.51270564942,
          122974.05199365722,
          131474.55383110663,
          137051.82911417627,
          141546.96756592413,
          144473.39259052844,
          146496.8135230113,
          148811.6193174522,
          155587.3592021913,
          145537.15193369778
         ],
         "xaxis": "x10",
         "y": [
          "",
          "",
          "",
          "",
          "",
          "",
          "",
          "",
          "",
          "",
          "",
          "",
          174.9782964905348,
          -13.35707852378439,
          129.59954720592313,
          113.19734315767391,
          648.8921806292743,
          782.100243428148,
          920.0785901208142,
          663.7966692833031,
          1020.3864058671797,
          614.2793846159739,
          492.93437736395856,
          1336.0209677407759,
          2620.430105894498,
          -837.4657530945419,
          -2693.1408607299068,
          2370.3770588375373,
          1062.9598666635302,
          813.1414012092334,
          -1532.829285193522,
          -1299.5639479031006,
          -2042.9157720672342,
          -3038.240806285928,
          -5130.238327676342,
          -5558.554531303516,
          -5120.045191338742,
          -8513.415730865618,
          381.67572004748234,
          831.047907476478,
          -1460.3395895855638,
          931.4826113425553,
          673.3641917500336,
          834.6284899948283,
          844.9967346884339,
          -1360.311037217621,
          -2457.6121901632137,
          -8240.128349488103,
          -3598.9013543968044,
          2481.036531837693,
          -7429.409607627416,
          -12310.531316131724,
          -8960.101619101886,
          -8914.231330771127,
          -6478.797336166049,
          -6357.864231088532,
          -3138.3122973851387,
          "",
          "",
          "",
          ""
         ],
         "yaxis": "y10"
        },
        {
         "histfunc": "count",
         "histnorm": "",
         "marker": {
          "color": "rgba(50, 171, 96, 1.0)",
          "line": {
           "color": "#4D5663",
           "width": 1.3
          }
         },
         "name": "I",
         "nbinsx": 10,
         "opacity": 0.8,
         "orientation": "v",
         "type": "histogram",
         "x": [
          null,
          null,
          null,
          null,
          null,
          null,
          null,
          null,
          null,
          null,
          null,
          null,
          174.9782964905348,
          -13.35707852378439,
          129.59954720592313,
          113.19734315767391,
          648.8921806292743,
          782.100243428148,
          920.0785901208142,
          663.7966692833031,
          1020.3864058671797,
          614.2793846159739,
          492.93437736395856,
          1336.0209677407759,
          2620.430105894498,
          -837.4657530945419,
          -2693.1408607299068,
          2370.3770588375373,
          1062.9598666635302,
          813.1414012092334,
          -1532.829285193522,
          -1299.5639479031006,
          -2042.9157720672342,
          -3038.240806285928,
          -5130.238327676342,
          -5558.554531303516,
          -5120.045191338742,
          -8513.415730865618,
          381.67572004748234,
          831.047907476478,
          -1460.3395895855638,
          931.4826113425553,
          673.3641917500336,
          834.6284899948283,
          844.9967346884339,
          -1360.311037217621,
          -2457.6121901632137,
          -8240.128349488103,
          -3598.9013543968044,
          2481.036531837693,
          -7429.409607627416,
          -12310.531316131724,
          -8960.101619101886,
          -8914.231330771127,
          -6478.797336166049,
          -6357.864231088532,
          -3138.3122973851387,
          null,
          null,
          null,
          null
         ],
         "xaxis": "x11",
         "yaxis": "y11"
        },
        {
         "line": {
          "color": "rgba(128, 128, 128, 1.0)",
          "dash": "solid",
          "shape": "linear",
          "width": 1.3
         },
         "marker": {
          "size": 2,
          "symbol": "circle"
         },
         "mode": "markers",
         "name": "I",
         "text": "",
         "type": "scatter",
         "x": [
          436.82893185105996,
          535.6797342106689,
          586.067752337562,
          681.66557328977,
          694.810273670698,
          759.803514443068,
          863.766144728593,
          938.717491850151,
          1097.3169323048899,
          1351.44780633618,
          1643.0211602404102,
          1922.91033602826,
          2179.8958672129797,
          2301.31837729742,
          2309.1520876254403,
          2372.88396826025,
          2487.0038670219496,
          2706.28136883107,
          3009.53890085169,
          3004.22791079879,
          3317.7754860469,
          3498.41553522117,
          3962.86161534732,
          4344.92096227784,
          4580.79530800228,
          5505.57145096357,
          5556.42418072009,
          5624.67040289986,
          5287.09059766238,
          5610.39711713269,
          6219.1029645707395,
          6730.219369786741,
          6903.09209600865,
          7973.588528546389,
          7937.672958313659,
          8768.57735208993,
          10199.690009219601,
          10862.4351804459,
          11703.297680571399,
          12476.710607025,
          14762.693500544701,
          15509.617864109501,
          16226.800683378,
          16374.7781437269,
          16540.6138081288,
          17205.0186637466,
          18463.3913694057,
          18912.9002900081,
          20109.9310605561,
          21086.6221312845,
          23241.2907957462,
          23198.8692626987,
          23398.429713936403,
          26143.0829858997,
          26306.1967678994,
          28648.0114443502,
          29747.1208357979,
          30666.3868265793,
          31635.3105743554,
          32705.143133136502,
          36823.2848201555
         ],
         "xaxis": "x12",
         "y": [
          "",
          "",
          "",
          "",
          "",
          "",
          "",
          "",
          "",
          "",
          "",
          "",
          174.9782964905348,
          -13.35707852378439,
          129.59954720592313,
          113.19734315767391,
          648.8921806292743,
          782.100243428148,
          920.0785901208142,
          663.7966692833031,
          1020.3864058671797,
          614.2793846159739,
          492.93437736395856,
          1336.0209677407759,
          2620.430105894498,
          -837.4657530945419,
          -2693.1408607299068,
          2370.3770588375373,
          1062.9598666635302,
          813.1414012092334,
          -1532.829285193522,
          -1299.5639479031006,
          -2042.9157720672342,
          -3038.240806285928,
          -5130.238327676342,
          -5558.554531303516,
          -5120.045191338742,
          -8513.415730865618,
          381.67572004748234,
          831.047907476478,
          -1460.3395895855638,
          931.4826113425553,
          673.3641917500336,
          834.6284899948283,
          844.9967346884339,
          -1360.311037217621,
          -2457.6121901632137,
          -8240.128349488103,
          -3598.9013543968044,
          2481.036531837693,
          -7429.409607627416,
          -12310.531316131724,
          -8960.101619101886,
          -8914.231330771127,
          -6478.797336166049,
          -6357.864231088532,
          -3138.3122973851387,
          "",
          "",
          "",
          ""
         ],
         "yaxis": "y12"
        },
        {
         "line": {
          "color": "rgba(128, 128, 128, 1.0)",
          "dash": "solid",
          "shape": "linear",
          "width": 1.3
         },
         "marker": {
          "size": 2,
          "symbol": "circle"
         },
         "mode": "markers",
         "name": "G",
         "text": "",
         "type": "scatter",
         "x": [
          5768.0160721365,
          6237.3530632452,
          6708.52560816992,
          7382.10326042145,
          7153.01202453881,
          7713.42072421103,
          8498.61416812063,
          9561.68222048448,
          10855.1122767574,
          12356.7364947,
          14079.544947471599,
          15827.345171430401,
          17934.843345103298,
          19836.4065002647,
          21049.9193673175,
          21888.061478996602,
          23515.9153209016,
          25127.39037491,
          27081.619804946098,
          29669.044703281503,
          32669.5398084426,
          36203.1221007069,
          38774.309407593006,
          42091.2963495683,
          45792.1258337604,
          45506.9090100421,
          46118.0072343257,
          51097.723540710096,
          56853.243727253,
          62628.7432111009,
          68779.54285209891,
          73379.864304359,
          78252.0595160596,
          87221.9168273286,
          96901.4980813798,
          103879.285314713,
          111640.501036364,
          120928.89753293499,
          118274.051330973,
          125044.067991979,
          136346.984801619,
          134889.41387525998,
          140169.80801635198,
          146527.60164921702,
          160916.01382534398,
          172757.877474653,
          188314.972645788,
          205304.99996321302,
          209140.601456434,
          209393.625490149,
          239809.387605427,
          255008.196791322,
          266385.665325181,
          279271.535506458,
          290269.25619507395,
          298944.012931308,
          308895.962132365,
          322859.23180541495,
          334151.135292159,
          338646.194792894,
          320389.705940647
         ],
         "xaxis": "x13",
         "y": [
          436.82893185105996,
          535.6797342106689,
          586.067752337562,
          681.66557328977,
          694.810273670698,
          759.803514443068,
          863.766144728593,
          938.717491850151,
          1097.3169323048899,
          1351.44780633618,
          1643.0211602404102,
          1922.91033602826,
          2179.8958672129797,
          2301.31837729742,
          2309.1520876254403,
          2372.88396826025,
          2487.0038670219496,
          2706.28136883107,
          3009.53890085169,
          3004.22791079879,
          3317.7754860469,
          3498.41553522117,
          3962.86161534732,
          4344.92096227784,
          4580.79530800228,
          5505.57145096357,
          5556.42418072009,
          5624.67040289986,
          5287.09059766238,
          5610.39711713269,
          6219.1029645707395,
          6730.219369786741,
          6903.09209600865,
          7973.588528546389,
          7937.672958313659,
          8768.57735208993,
          10199.690009219601,
          10862.4351804459,
          11703.297680571399,
          12476.710607025,
          14762.693500544701,
          15509.617864109501,
          16226.800683378,
          16374.7781437269,
          16540.6138081288,
          17205.0186637466,
          18463.3913694057,
          18912.9002900081,
          20109.9310605561,
          21086.6221312845,
          23241.2907957462,
          23198.8692626987,
          23398.429713936403,
          26143.0829858997,
          26306.1967678994,
          28648.0114443502,
          29747.1208357979,
          30666.3868265793,
          31635.3105743554,
          32705.143133136502,
          36823.2848201555
         ],
         "yaxis": "y13"
        },
        {
         "line": {
          "color": "rgba(128, 128, 128, 1.0)",
          "dash": "solid",
          "shape": "linear",
          "width": 1.3
         },
         "marker": {
          "size": 2,
          "symbol": "circle"
         },
         "mode": "markers",
         "name": "G",
         "text": "",
         "type": "scatter",
         "x": [
          5592.360813056414,
          6196.316092606512,
          6477.773333662827,
          6869.376900112365,
          6615.987338347547,
          6880.962796474083,
          7401.218333159515,
          8210.144405367051,
          9074.529635631332,
          9786.07423335992,
          11119.854235893657,
          12399.407918685074,
          13190.555261738955,
          14357.142074400863,
          14878.84826953875,
          15443.306264260475,
          16132.807550722375,
          17083.12828371279,
          18088.626933641655,
          18929.432079551432,
          19650.01543971948,
          20748.687726621876,
          21894.0455071961,
          22910.326445985265,
          24795.655277145695,
          26460.576843985276,
          27326.244710875922,
          29965.35772955545,
          32019.03252410973,
          34796.42491865579,
          37206.18668586829,
          38517.35636648465,
          40812.51800612965,
          45909.50204094694,
          49554.45193313509,
          51025.44405287252,
          55123.07911658631,
          58698.887057711116,
          57890.47935864027,
          64130.65033911872,
          71390.43776842028,
          78040.13299755832,
          81330.46668111297,
          83446.65600091543,
          84186.58604011402,
          85938.44159906569,
          90415.72790591742,
          94239.28752909912,
          104704.43882070063,
          102671.7575088894,
          110382.83828382817,
          116927.51270564942,
          122974.05199365722,
          131474.55383110663,
          137051.82911417627,
          141546.96756592413,
          144473.39259052844,
          146496.8135230113,
          148811.6193174522,
          155587.3592021913,
          145537.15193369778
         ],
         "xaxis": "x14",
         "y": [
          436.82893185105996,
          535.6797342106689,
          586.067752337562,
          681.66557328977,
          694.810273670698,
          759.803514443068,
          863.766144728593,
          938.717491850151,
          1097.3169323048899,
          1351.44780633618,
          1643.0211602404102,
          1922.91033602826,
          2179.8958672129797,
          2301.31837729742,
          2309.1520876254403,
          2372.88396826025,
          2487.0038670219496,
          2706.28136883107,
          3009.53890085169,
          3004.22791079879,
          3317.7754860469,
          3498.41553522117,
          3962.86161534732,
          4344.92096227784,
          4580.79530800228,
          5505.57145096357,
          5556.42418072009,
          5624.67040289986,
          5287.09059766238,
          5610.39711713269,
          6219.1029645707395,
          6730.219369786741,
          6903.09209600865,
          7973.588528546389,
          7937.672958313659,
          8768.57735208993,
          10199.690009219601,
          10862.4351804459,
          11703.297680571399,
          12476.710607025,
          14762.693500544701,
          15509.617864109501,
          16226.800683378,
          16374.7781437269,
          16540.6138081288,
          17205.0186637466,
          18463.3913694057,
          18912.9002900081,
          20109.9310605561,
          21086.6221312845,
          23241.2907957462,
          23198.8692626987,
          23398.429713936403,
          26143.0829858997,
          26306.1967678994,
          28648.0114443502,
          29747.1208357979,
          30666.3868265793,
          31635.3105743554,
          32705.143133136502,
          36823.2848201555
         ],
         "yaxis": "y14"
        },
        {
         "line": {
          "color": "rgba(128, 128, 128, 1.0)",
          "dash": "solid",
          "shape": "linear",
          "width": 1.3
         },
         "marker": {
          "size": 2,
          "symbol": "circle"
         },
         "mode": "markers",
         "name": "G",
         "text": "",
         "type": "scatter",
         "x": [
          null,
          null,
          null,
          null,
          null,
          null,
          null,
          null,
          null,
          null,
          null,
          null,
          174.9782964905348,
          -13.35707852378439,
          129.59954720592313,
          113.19734315767391,
          648.8921806292743,
          782.100243428148,
          920.0785901208142,
          663.7966692833031,
          1020.3864058671797,
          614.2793846159739,
          492.93437736395856,
          1336.0209677407759,
          2620.430105894498,
          -837.4657530945419,
          -2693.1408607299068,
          2370.3770588375373,
          1062.9598666635302,
          813.1414012092334,
          -1532.829285193522,
          -1299.5639479031006,
          -2042.9157720672342,
          -3038.240806285928,
          -5130.238327676342,
          -5558.554531303516,
          -5120.045191338742,
          -8513.415730865618,
          381.67572004748234,
          831.047907476478,
          -1460.3395895855638,
          931.4826113425553,
          673.3641917500336,
          834.6284899948283,
          844.9967346884339,
          -1360.311037217621,
          -2457.6121901632137,
          -8240.128349488103,
          -3598.9013543968044,
          2481.036531837693,
          -7429.409607627416,
          -12310.531316131724,
          -8960.101619101886,
          -8914.231330771127,
          -6478.797336166049,
          -6357.864231088532,
          -3138.3122973851387,
          null,
          null,
          null,
          null
         ],
         "xaxis": "x15",
         "y": [
          436.82893185105996,
          535.6797342106689,
          586.067752337562,
          681.66557328977,
          694.810273670698,
          759.803514443068,
          863.766144728593,
          938.717491850151,
          1097.3169323048899,
          1351.44780633618,
          1643.0211602404102,
          1922.91033602826,
          2179.8958672129797,
          2301.31837729742,
          2309.1520876254403,
          2372.88396826025,
          2487.0038670219496,
          2706.28136883107,
          3009.53890085169,
          3004.22791079879,
          3317.7754860469,
          3498.41553522117,
          3962.86161534732,
          4344.92096227784,
          4580.79530800228,
          5505.57145096357,
          5556.42418072009,
          5624.67040289986,
          5287.09059766238,
          5610.39711713269,
          6219.1029645707395,
          6730.219369786741,
          6903.09209600865,
          7973.588528546389,
          7937.672958313659,
          8768.57735208993,
          10199.690009219601,
          10862.4351804459,
          11703.297680571399,
          12476.710607025,
          14762.693500544701,
          15509.617864109501,
          16226.800683378,
          16374.7781437269,
          16540.6138081288,
          17205.0186637466,
          18463.3913694057,
          18912.9002900081,
          20109.9310605561,
          21086.6221312845,
          23241.2907957462,
          23198.8692626987,
          23398.429713936403,
          26143.0829858997,
          26306.1967678994,
          28648.0114443502,
          29747.1208357979,
          30666.3868265793,
          31635.3105743554,
          32705.143133136502,
          36823.2848201555
         ],
         "yaxis": "y15"
        },
        {
         "histfunc": "count",
         "histnorm": "",
         "marker": {
          "color": "rgba(128, 0, 128, 1.0)",
          "line": {
           "color": "#4D5663",
           "width": 1.3
          }
         },
         "name": "G",
         "nbinsx": 10,
         "opacity": 0.8,
         "orientation": "v",
         "type": "histogram",
         "x": [
          436.82893185105996,
          535.6797342106689,
          586.067752337562,
          681.66557328977,
          694.810273670698,
          759.803514443068,
          863.766144728593,
          938.717491850151,
          1097.3169323048899,
          1351.44780633618,
          1643.0211602404102,
          1922.91033602826,
          2179.8958672129797,
          2301.31837729742,
          2309.1520876254403,
          2372.88396826025,
          2487.0038670219496,
          2706.28136883107,
          3009.53890085169,
          3004.22791079879,
          3317.7754860469,
          3498.41553522117,
          3962.86161534732,
          4344.92096227784,
          4580.79530800228,
          5505.57145096357,
          5556.42418072009,
          5624.67040289986,
          5287.09059766238,
          5610.39711713269,
          6219.1029645707395,
          6730.219369786741,
          6903.09209600865,
          7973.588528546389,
          7937.672958313659,
          8768.57735208993,
          10199.690009219601,
          10862.4351804459,
          11703.297680571399,
          12476.710607025,
          14762.693500544701,
          15509.617864109501,
          16226.800683378,
          16374.7781437269,
          16540.6138081288,
          17205.0186637466,
          18463.3913694057,
          18912.9002900081,
          20109.9310605561,
          21086.6221312845,
          23241.2907957462,
          23198.8692626987,
          23398.429713936403,
          26143.0829858997,
          26306.1967678994,
          28648.0114443502,
          29747.1208357979,
          30666.3868265793,
          31635.3105743554,
          32705.143133136502,
          36823.2848201555
         ],
         "xaxis": "x16",
         "yaxis": "y16"
        }
       ],
       "layout": {
        "bargap": 0.02,
        "legend": {
         "bgcolor": "#FFFFFF",
         "font": {
          "color": "#4D5663"
         }
        },
        "paper_bgcolor": "#FFFFFF",
        "plot_bgcolor": "#FFFFFF",
        "showlegend": false,
        "template": {
         "data": {
          "bar": [
           {
            "error_x": {
             "color": "#2a3f5f"
            },
            "error_y": {
             "color": "#2a3f5f"
            },
            "marker": {
             "line": {
              "color": "#E5ECF6",
              "width": 0.5
             },
             "pattern": {
              "fillmode": "overlay",
              "size": 10,
              "solidity": 0.2
             }
            },
            "type": "bar"
           }
          ],
          "barpolar": [
           {
            "marker": {
             "line": {
              "color": "#E5ECF6",
              "width": 0.5
             },
             "pattern": {
              "fillmode": "overlay",
              "size": 10,
              "solidity": 0.2
             }
            },
            "type": "barpolar"
           }
          ],
          "carpet": [
           {
            "aaxis": {
             "endlinecolor": "#2a3f5f",
             "gridcolor": "white",
             "linecolor": "white",
             "minorgridcolor": "white",
             "startlinecolor": "#2a3f5f"
            },
            "baxis": {
             "endlinecolor": "#2a3f5f",
             "gridcolor": "white",
             "linecolor": "white",
             "minorgridcolor": "white",
             "startlinecolor": "#2a3f5f"
            },
            "type": "carpet"
           }
          ],
          "choropleth": [
           {
            "colorbar": {
             "outlinewidth": 0,
             "ticks": ""
            },
            "type": "choropleth"
           }
          ],
          "contour": [
           {
            "colorbar": {
             "outlinewidth": 0,
             "ticks": ""
            },
            "colorscale": [
             [
              0.0,
              "#0d0887"
             ],
             [
              0.1111111111111111,
              "#46039f"
             ],
             [
              0.2222222222222222,
              "#7201a8"
             ],
             [
              0.3333333333333333,
              "#9c179e"
             ],
             [
              0.4444444444444444,
              "#bd3786"
             ],
             [
              0.5555555555555556,
              "#d8576b"
             ],
             [
              0.6666666666666666,
              "#ed7953"
             ],
             [
              0.7777777777777778,
              "#fb9f3a"
             ],
             [
              0.8888888888888888,
              "#fdca26"
             ],
             [
              1.0,
              "#f0f921"
             ]
            ],
            "type": "contour"
           }
          ],
          "contourcarpet": [
           {
            "colorbar": {
             "outlinewidth": 0,
             "ticks": ""
            },
            "type": "contourcarpet"
           }
          ],
          "heatmap": [
           {
            "colorbar": {
             "outlinewidth": 0,
             "ticks": ""
            },
            "colorscale": [
             [
              0.0,
              "#0d0887"
             ],
             [
              0.1111111111111111,
              "#46039f"
             ],
             [
              0.2222222222222222,
              "#7201a8"
             ],
             [
              0.3333333333333333,
              "#9c179e"
             ],
             [
              0.4444444444444444,
              "#bd3786"
             ],
             [
              0.5555555555555556,
              "#d8576b"
             ],
             [
              0.6666666666666666,
              "#ed7953"
             ],
             [
              0.7777777777777778,
              "#fb9f3a"
             ],
             [
              0.8888888888888888,
              "#fdca26"
             ],
             [
              1.0,
              "#f0f921"
             ]
            ],
            "type": "heatmap"
           }
          ],
          "heatmapgl": [
           {
            "colorbar": {
             "outlinewidth": 0,
             "ticks": ""
            },
            "colorscale": [
             [
              0.0,
              "#0d0887"
             ],
             [
              0.1111111111111111,
              "#46039f"
             ],
             [
              0.2222222222222222,
              "#7201a8"
             ],
             [
              0.3333333333333333,
              "#9c179e"
             ],
             [
              0.4444444444444444,
              "#bd3786"
             ],
             [
              0.5555555555555556,
              "#d8576b"
             ],
             [
              0.6666666666666666,
              "#ed7953"
             ],
             [
              0.7777777777777778,
              "#fb9f3a"
             ],
             [
              0.8888888888888888,
              "#fdca26"
             ],
             [
              1.0,
              "#f0f921"
             ]
            ],
            "type": "heatmapgl"
           }
          ],
          "histogram": [
           {
            "marker": {
             "pattern": {
              "fillmode": "overlay",
              "size": 10,
              "solidity": 0.2
             }
            },
            "type": "histogram"
           }
          ],
          "histogram2d": [
           {
            "colorbar": {
             "outlinewidth": 0,
             "ticks": ""
            },
            "colorscale": [
             [
              0.0,
              "#0d0887"
             ],
             [
              0.1111111111111111,
              "#46039f"
             ],
             [
              0.2222222222222222,
              "#7201a8"
             ],
             [
              0.3333333333333333,
              "#9c179e"
             ],
             [
              0.4444444444444444,
              "#bd3786"
             ],
             [
              0.5555555555555556,
              "#d8576b"
             ],
             [
              0.6666666666666666,
              "#ed7953"
             ],
             [
              0.7777777777777778,
              "#fb9f3a"
             ],
             [
              0.8888888888888888,
              "#fdca26"
             ],
             [
              1.0,
              "#f0f921"
             ]
            ],
            "type": "histogram2d"
           }
          ],
          "histogram2dcontour": [
           {
            "colorbar": {
             "outlinewidth": 0,
             "ticks": ""
            },
            "colorscale": [
             [
              0.0,
              "#0d0887"
             ],
             [
              0.1111111111111111,
              "#46039f"
             ],
             [
              0.2222222222222222,
              "#7201a8"
             ],
             [
              0.3333333333333333,
              "#9c179e"
             ],
             [
              0.4444444444444444,
              "#bd3786"
             ],
             [
              0.5555555555555556,
              "#d8576b"
             ],
             [
              0.6666666666666666,
              "#ed7953"
             ],
             [
              0.7777777777777778,
              "#fb9f3a"
             ],
             [
              0.8888888888888888,
              "#fdca26"
             ],
             [
              1.0,
              "#f0f921"
             ]
            ],
            "type": "histogram2dcontour"
           }
          ],
          "mesh3d": [
           {
            "colorbar": {
             "outlinewidth": 0,
             "ticks": ""
            },
            "type": "mesh3d"
           }
          ],
          "parcoords": [
           {
            "line": {
             "colorbar": {
              "outlinewidth": 0,
              "ticks": ""
             }
            },
            "type": "parcoords"
           }
          ],
          "pie": [
           {
            "automargin": true,
            "type": "pie"
           }
          ],
          "scatter": [
           {
            "marker": {
             "colorbar": {
              "outlinewidth": 0,
              "ticks": ""
             }
            },
            "type": "scatter"
           }
          ],
          "scatter3d": [
           {
            "line": {
             "colorbar": {
              "outlinewidth": 0,
              "ticks": ""
             }
            },
            "marker": {
             "colorbar": {
              "outlinewidth": 0,
              "ticks": ""
             }
            },
            "type": "scatter3d"
           }
          ],
          "scattercarpet": [
           {
            "marker": {
             "colorbar": {
              "outlinewidth": 0,
              "ticks": ""
             }
            },
            "type": "scattercarpet"
           }
          ],
          "scattergeo": [
           {
            "marker": {
             "colorbar": {
              "outlinewidth": 0,
              "ticks": ""
             }
            },
            "type": "scattergeo"
           }
          ],
          "scattergl": [
           {
            "marker": {
             "colorbar": {
              "outlinewidth": 0,
              "ticks": ""
             }
            },
            "type": "scattergl"
           }
          ],
          "scattermapbox": [
           {
            "marker": {
             "colorbar": {
              "outlinewidth": 0,
              "ticks": ""
             }
            },
            "type": "scattermapbox"
           }
          ],
          "scatterpolar": [
           {
            "marker": {
             "colorbar": {
              "outlinewidth": 0,
              "ticks": ""
             }
            },
            "type": "scatterpolar"
           }
          ],
          "scatterpolargl": [
           {
            "marker": {
             "colorbar": {
              "outlinewidth": 0,
              "ticks": ""
             }
            },
            "type": "scatterpolargl"
           }
          ],
          "scatterternary": [
           {
            "marker": {
             "colorbar": {
              "outlinewidth": 0,
              "ticks": ""
             }
            },
            "type": "scatterternary"
           }
          ],
          "surface": [
           {
            "colorbar": {
             "outlinewidth": 0,
             "ticks": ""
            },
            "colorscale": [
             [
              0.0,
              "#0d0887"
             ],
             [
              0.1111111111111111,
              "#46039f"
             ],
             [
              0.2222222222222222,
              "#7201a8"
             ],
             [
              0.3333333333333333,
              "#9c179e"
             ],
             [
              0.4444444444444444,
              "#bd3786"
             ],
             [
              0.5555555555555556,
              "#d8576b"
             ],
             [
              0.6666666666666666,
              "#ed7953"
             ],
             [
              0.7777777777777778,
              "#fb9f3a"
             ],
             [
              0.8888888888888888,
              "#fdca26"
             ],
             [
              1.0,
              "#f0f921"
             ]
            ],
            "type": "surface"
           }
          ],
          "table": [
           {
            "cells": {
             "fill": {
              "color": "#EBF0F8"
             },
             "line": {
              "color": "white"
             }
            },
            "header": {
             "fill": {
              "color": "#C8D4E3"
             },
             "line": {
              "color": "white"
             }
            },
            "type": "table"
           }
          ]
         },
         "layout": {
          "annotationdefaults": {
           "arrowcolor": "#2a3f5f",
           "arrowhead": 0,
           "arrowwidth": 1
          },
          "autotypenumbers": "strict",
          "coloraxis": {
           "colorbar": {
            "outlinewidth": 0,
            "ticks": ""
           }
          },
          "colorscale": {
           "diverging": [
            [
             0,
             "#8e0152"
            ],
            [
             0.1,
             "#c51b7d"
            ],
            [
             0.2,
             "#de77ae"
            ],
            [
             0.3,
             "#f1b6da"
            ],
            [
             0.4,
             "#fde0ef"
            ],
            [
             0.5,
             "#f7f7f7"
            ],
            [
             0.6,
             "#e6f5d0"
            ],
            [
             0.7,
             "#b8e186"
            ],
            [
             0.8,
             "#7fbc41"
            ],
            [
             0.9,
             "#4d9221"
            ],
            [
             1,
             "#276419"
            ]
           ],
           "sequential": [
            [
             0.0,
             "#0d0887"
            ],
            [
             0.1111111111111111,
             "#46039f"
            ],
            [
             0.2222222222222222,
             "#7201a8"
            ],
            [
             0.3333333333333333,
             "#9c179e"
            ],
            [
             0.4444444444444444,
             "#bd3786"
            ],
            [
             0.5555555555555556,
             "#d8576b"
            ],
            [
             0.6666666666666666,
             "#ed7953"
            ],
            [
             0.7777777777777778,
             "#fb9f3a"
            ],
            [
             0.8888888888888888,
             "#fdca26"
            ],
            [
             1.0,
             "#f0f921"
            ]
           ],
           "sequentialminus": [
            [
             0.0,
             "#0d0887"
            ],
            [
             0.1111111111111111,
             "#46039f"
            ],
            [
             0.2222222222222222,
             "#7201a8"
            ],
            [
             0.3333333333333333,
             "#9c179e"
            ],
            [
             0.4444444444444444,
             "#bd3786"
            ],
            [
             0.5555555555555556,
             "#d8576b"
            ],
            [
             0.6666666666666666,
             "#ed7953"
            ],
            [
             0.7777777777777778,
             "#fb9f3a"
            ],
            [
             0.8888888888888888,
             "#fdca26"
            ],
            [
             1.0,
             "#f0f921"
            ]
           ]
          },
          "colorway": [
           "#636efa",
           "#EF553B",
           "#00cc96",
           "#ab63fa",
           "#FFA15A",
           "#19d3f3",
           "#FF6692",
           "#B6E880",
           "#FF97FF",
           "#FECB52"
          ],
          "font": {
           "color": "#2a3f5f"
          },
          "geo": {
           "bgcolor": "white",
           "lakecolor": "white",
           "landcolor": "#E5ECF6",
           "showlakes": true,
           "showland": true,
           "subunitcolor": "white"
          },
          "hoverlabel": {
           "align": "left"
          },
          "hovermode": "closest",
          "mapbox": {
           "style": "light"
          },
          "paper_bgcolor": "white",
          "plot_bgcolor": "#E5ECF6",
          "polar": {
           "angularaxis": {
            "gridcolor": "white",
            "linecolor": "white",
            "ticks": ""
           },
           "bgcolor": "#E5ECF6",
           "radialaxis": {
            "gridcolor": "white",
            "linecolor": "white",
            "ticks": ""
           }
          },
          "scene": {
           "xaxis": {
            "backgroundcolor": "#E5ECF6",
            "gridcolor": "white",
            "gridwidth": 2,
            "linecolor": "white",
            "showbackground": true,
            "ticks": "",
            "zerolinecolor": "white"
           },
           "yaxis": {
            "backgroundcolor": "#E5ECF6",
            "gridcolor": "white",
            "gridwidth": 2,
            "linecolor": "white",
            "showbackground": true,
            "ticks": "",
            "zerolinecolor": "white"
           },
           "zaxis": {
            "backgroundcolor": "#E5ECF6",
            "gridcolor": "white",
            "gridwidth": 2,
            "linecolor": "white",
            "showbackground": true,
            "ticks": "",
            "zerolinecolor": "white"
           }
          },
          "shapedefaults": {
           "line": {
            "color": "#2a3f5f"
           }
          },
          "ternary": {
           "aaxis": {
            "gridcolor": "white",
            "linecolor": "white",
            "ticks": ""
           },
           "baxis": {
            "gridcolor": "white",
            "linecolor": "white",
            "ticks": ""
           },
           "bgcolor": "#E5ECF6",
           "caxis": {
            "gridcolor": "white",
            "linecolor": "white",
            "ticks": ""
           }
          },
          "title": {
           "x": 0.05
          },
          "xaxis": {
           "automargin": true,
           "gridcolor": "white",
           "linecolor": "white",
           "ticks": "",
           "title": {
            "standoff": 15
           },
           "zerolinecolor": "white",
           "zerolinewidth": 2
          },
          "yaxis": {
           "automargin": true,
           "gridcolor": "white",
           "linecolor": "white",
           "ticks": "",
           "title": {
            "standoff": 15
           },
           "zerolinecolor": "white",
           "zerolinewidth": 2
          }
         }
        },
        "title": {
         "font": {
          "color": "#4D5663"
         }
        },
        "xaxis": {
         "anchor": "y",
         "domain": [
          0.0,
          0.2125
         ],
         "gridcolor": "#E1E5ED",
         "showgrid": false,
         "tickfont": {
          "color": "#4D5663"
         },
         "title": {
          "font": {
           "color": "#4D5663"
          },
          "text": ""
         },
         "zerolinecolor": "#E1E5ED"
        },
        "xaxis10": {
         "anchor": "y10",
         "domain": [
          0.2625,
          0.475
         ],
         "gridcolor": "#E1E5ED",
         "showgrid": false,
         "tickfont": {
          "color": "#4D5663"
         },
         "title": {
          "font": {
           "color": "#4D5663"
          },
          "text": ""
         },
         "zerolinecolor": "#E1E5ED"
        },
        "xaxis11": {
         "anchor": "y11",
         "domain": [
          0.525,
          0.7375
         ],
         "gridcolor": "#E1E5ED",
         "showgrid": false,
         "tickfont": {
          "color": "#4D5663"
         },
         "title": {
          "font": {
           "color": "#4D5663"
          },
          "text": ""
         },
         "zerolinecolor": "#E1E5ED"
        },
        "xaxis12": {
         "anchor": "y12",
         "domain": [
          0.7875,
          1.0
         ],
         "gridcolor": "#E1E5ED",
         "showgrid": false,
         "tickfont": {
          "color": "#4D5663"
         },
         "title": {
          "font": {
           "color": "#4D5663"
          },
          "text": ""
         },
         "zerolinecolor": "#E1E5ED"
        },
        "xaxis13": {
         "anchor": "y13",
         "domain": [
          0.0,
          0.2125
         ],
         "gridcolor": "#E1E5ED",
         "showgrid": false,
         "tickfont": {
          "color": "#4D5663"
         },
         "title": {
          "font": {
           "color": "#4D5663"
          },
          "text": ""
         },
         "zerolinecolor": "#E1E5ED"
        },
        "xaxis14": {
         "anchor": "y14",
         "domain": [
          0.2625,
          0.475
         ],
         "gridcolor": "#E1E5ED",
         "showgrid": false,
         "tickfont": {
          "color": "#4D5663"
         },
         "title": {
          "font": {
           "color": "#4D5663"
          },
          "text": ""
         },
         "zerolinecolor": "#E1E5ED"
        },
        "xaxis15": {
         "anchor": "y15",
         "domain": [
          0.525,
          0.7375
         ],
         "gridcolor": "#E1E5ED",
         "showgrid": false,
         "tickfont": {
          "color": "#4D5663"
         },
         "title": {
          "font": {
           "color": "#4D5663"
          },
          "text": ""
         },
         "zerolinecolor": "#E1E5ED"
        },
        "xaxis16": {
         "anchor": "y16",
         "domain": [
          0.7875,
          1.0
         ],
         "gridcolor": "#E1E5ED",
         "showgrid": false,
         "tickfont": {
          "color": "#4D5663"
         },
         "title": {
          "font": {
           "color": "#4D5663"
          },
          "text": ""
         },
         "zerolinecolor": "#E1E5ED"
        },
        "xaxis2": {
         "anchor": "y2",
         "domain": [
          0.2625,
          0.475
         ],
         "gridcolor": "#E1E5ED",
         "showgrid": false,
         "tickfont": {
          "color": "#4D5663"
         },
         "title": {
          "font": {
           "color": "#4D5663"
          },
          "text": ""
         },
         "zerolinecolor": "#E1E5ED"
        },
        "xaxis3": {
         "anchor": "y3",
         "domain": [
          0.525,
          0.7375
         ],
         "gridcolor": "#E1E5ED",
         "showgrid": false,
         "tickfont": {
          "color": "#4D5663"
         },
         "title": {
          "font": {
           "color": "#4D5663"
          },
          "text": ""
         },
         "zerolinecolor": "#E1E5ED"
        },
        "xaxis4": {
         "anchor": "y4",
         "domain": [
          0.7875,
          1.0
         ],
         "gridcolor": "#E1E5ED",
         "showgrid": false,
         "tickfont": {
          "color": "#4D5663"
         },
         "title": {
          "font": {
           "color": "#4D5663"
          },
          "text": ""
         },
         "zerolinecolor": "#E1E5ED"
        },
        "xaxis5": {
         "anchor": "y5",
         "domain": [
          0.0,
          0.2125
         ],
         "gridcolor": "#E1E5ED",
         "showgrid": false,
         "tickfont": {
          "color": "#4D5663"
         },
         "title": {
          "font": {
           "color": "#4D5663"
          },
          "text": ""
         },
         "zerolinecolor": "#E1E5ED"
        },
        "xaxis6": {
         "anchor": "y6",
         "domain": [
          0.2625,
          0.475
         ],
         "gridcolor": "#E1E5ED",
         "showgrid": false,
         "tickfont": {
          "color": "#4D5663"
         },
         "title": {
          "font": {
           "color": "#4D5663"
          },
          "text": ""
         },
         "zerolinecolor": "#E1E5ED"
        },
        "xaxis7": {
         "anchor": "y7",
         "domain": [
          0.525,
          0.7375
         ],
         "gridcolor": "#E1E5ED",
         "showgrid": false,
         "tickfont": {
          "color": "#4D5663"
         },
         "title": {
          "font": {
           "color": "#4D5663"
          },
          "text": ""
         },
         "zerolinecolor": "#E1E5ED"
        },
        "xaxis8": {
         "anchor": "y8",
         "domain": [
          0.7875,
          1.0
         ],
         "gridcolor": "#E1E5ED",
         "showgrid": false,
         "tickfont": {
          "color": "#4D5663"
         },
         "title": {
          "font": {
           "color": "#4D5663"
          },
          "text": ""
         },
         "zerolinecolor": "#E1E5ED"
        },
        "xaxis9": {
         "anchor": "y9",
         "domain": [
          0.0,
          0.2125
         ],
         "gridcolor": "#E1E5ED",
         "showgrid": false,
         "tickfont": {
          "color": "#4D5663"
         },
         "title": {
          "font": {
           "color": "#4D5663"
          },
          "text": ""
         },
         "zerolinecolor": "#E1E5ED"
        },
        "yaxis": {
         "anchor": "x",
         "domain": [
          0.8025,
          1.0
         ],
         "gridcolor": "#E1E5ED",
         "showgrid": false,
         "tickfont": {
          "color": "#4D5663"
         },
         "title": {
          "font": {
           "color": "#4D5663"
          },
          "text": ""
         },
         "zerolinecolor": "#E1E5ED"
        },
        "yaxis10": {
         "anchor": "x10",
         "domain": [
          0.2675,
          0.465
         ],
         "gridcolor": "#E1E5ED",
         "showgrid": false,
         "tickfont": {
          "color": "#4D5663"
         },
         "title": {
          "font": {
           "color": "#4D5663"
          },
          "text": ""
         },
         "zerolinecolor": "#E1E5ED"
        },
        "yaxis11": {
         "anchor": "x11",
         "domain": [
          0.2675,
          0.465
         ],
         "gridcolor": "#E1E5ED",
         "showgrid": false,
         "tickfont": {
          "color": "#4D5663"
         },
         "title": {
          "font": {
           "color": "#4D5663"
          },
          "text": ""
         },
         "zerolinecolor": "#E1E5ED"
        },
        "yaxis12": {
         "anchor": "x12",
         "domain": [
          0.2675,
          0.465
         ],
         "gridcolor": "#E1E5ED",
         "showgrid": false,
         "tickfont": {
          "color": "#4D5663"
         },
         "title": {
          "font": {
           "color": "#4D5663"
          },
          "text": ""
         },
         "zerolinecolor": "#E1E5ED"
        },
        "yaxis13": {
         "anchor": "x13",
         "domain": [
          0.0,
          0.1975
         ],
         "gridcolor": "#E1E5ED",
         "showgrid": false,
         "tickfont": {
          "color": "#4D5663"
         },
         "title": {
          "font": {
           "color": "#4D5663"
          },
          "text": ""
         },
         "zerolinecolor": "#E1E5ED"
        },
        "yaxis14": {
         "anchor": "x14",
         "domain": [
          0.0,
          0.1975
         ],
         "gridcolor": "#E1E5ED",
         "showgrid": false,
         "tickfont": {
          "color": "#4D5663"
         },
         "title": {
          "font": {
           "color": "#4D5663"
          },
          "text": ""
         },
         "zerolinecolor": "#E1E5ED"
        },
        "yaxis15": {
         "anchor": "x15",
         "domain": [
          0.0,
          0.1975
         ],
         "gridcolor": "#E1E5ED",
         "showgrid": false,
         "tickfont": {
          "color": "#4D5663"
         },
         "title": {
          "font": {
           "color": "#4D5663"
          },
          "text": ""
         },
         "zerolinecolor": "#E1E5ED"
        },
        "yaxis16": {
         "anchor": "x16",
         "domain": [
          0.0,
          0.1975
         ],
         "gridcolor": "#E1E5ED",
         "showgrid": false,
         "tickfont": {
          "color": "#4D5663"
         },
         "title": {
          "font": {
           "color": "#4D5663"
          },
          "text": ""
         },
         "zerolinecolor": "#E1E5ED"
        },
        "yaxis2": {
         "anchor": "x2",
         "domain": [
          0.8025,
          1.0
         ],
         "gridcolor": "#E1E5ED",
         "showgrid": false,
         "tickfont": {
          "color": "#4D5663"
         },
         "title": {
          "font": {
           "color": "#4D5663"
          },
          "text": ""
         },
         "zerolinecolor": "#E1E5ED"
        },
        "yaxis3": {
         "anchor": "x3",
         "domain": [
          0.8025,
          1.0
         ],
         "gridcolor": "#E1E5ED",
         "showgrid": false,
         "tickfont": {
          "color": "#4D5663"
         },
         "title": {
          "font": {
           "color": "#4D5663"
          },
          "text": ""
         },
         "zerolinecolor": "#E1E5ED"
        },
        "yaxis4": {
         "anchor": "x4",
         "domain": [
          0.8025,
          1.0
         ],
         "gridcolor": "#E1E5ED",
         "showgrid": false,
         "tickfont": {
          "color": "#4D5663"
         },
         "title": {
          "font": {
           "color": "#4D5663"
          },
          "text": ""
         },
         "zerolinecolor": "#E1E5ED"
        },
        "yaxis5": {
         "anchor": "x5",
         "domain": [
          0.535,
          0.7325
         ],
         "gridcolor": "#E1E5ED",
         "showgrid": false,
         "tickfont": {
          "color": "#4D5663"
         },
         "title": {
          "font": {
           "color": "#4D5663"
          },
          "text": ""
         },
         "zerolinecolor": "#E1E5ED"
        },
        "yaxis6": {
         "anchor": "x6",
         "domain": [
          0.535,
          0.7325
         ],
         "gridcolor": "#E1E5ED",
         "showgrid": false,
         "tickfont": {
          "color": "#4D5663"
         },
         "title": {
          "font": {
           "color": "#4D5663"
          },
          "text": ""
         },
         "zerolinecolor": "#E1E5ED"
        },
        "yaxis7": {
         "anchor": "x7",
         "domain": [
          0.535,
          0.7325
         ],
         "gridcolor": "#E1E5ED",
         "showgrid": false,
         "tickfont": {
          "color": "#4D5663"
         },
         "title": {
          "font": {
           "color": "#4D5663"
          },
          "text": ""
         },
         "zerolinecolor": "#E1E5ED"
        },
        "yaxis8": {
         "anchor": "x8",
         "domain": [
          0.535,
          0.7325
         ],
         "gridcolor": "#E1E5ED",
         "showgrid": false,
         "tickfont": {
          "color": "#4D5663"
         },
         "title": {
          "font": {
           "color": "#4D5663"
          },
          "text": ""
         },
         "zerolinecolor": "#E1E5ED"
        },
        "yaxis9": {
         "anchor": "x9",
         "domain": [
          0.2675,
          0.465
         ],
         "gridcolor": "#E1E5ED",
         "showgrid": false,
         "tickfont": {
          "color": "#4D5663"
         },
         "title": {
          "font": {
           "color": "#4D5663"
          },
          "text": ""
         },
         "zerolinecolor": "#E1E5ED"
        }
       }
      },
      "text/html": "<div>                            <div id=\"5a758680-ee22-45e3-8212-1db4fbe192f6\" class=\"plotly-graph-div\" style=\"height:525px; width:100%;\"></div>            <script type=\"text/javascript\">                require([\"plotly\"], function(Plotly) {                    window.PLOTLYENV=window.PLOTLYENV || {};\n                    window.PLOTLYENV.BASE_URL='https://plot.ly';                                    if (document.getElementById(\"5a758680-ee22-45e3-8212-1db4fbe192f6\")) {                    Plotly.newPlot(                        \"5a758680-ee22-45e3-8212-1db4fbe192f6\",                        [{\"histfunc\":\"count\",\"histnorm\":\"\",\"marker\":{\"color\":\"rgba(255, 153, 51, 1.0)\",\"line\":{\"color\":\"#4D5663\",\"width\":1.3}},\"name\":\"Y\",\"nbinsx\":10,\"opacity\":0.8,\"orientation\":\"v\",\"type\":\"histogram\",\"x\":[5768.0160721365,6237.3530632452,6708.52560816992,7382.10326042145,7153.01202453881,7713.42072421103,8498.61416812063,9561.68222048448,10855.1122767574,12356.7364947,14079.544947471599,15827.345171430401,17934.843345103298,19836.4065002647,21049.9193673175,21888.061478996602,23515.9153209016,25127.39037491,27081.619804946098,29669.044703281503,32669.5398084426,36203.1221007069,38774.309407593006,42091.2963495683,45792.1258337604,45506.9090100421,46118.0072343257,51097.723540710096,56853.243727253,62628.7432111009,68779.54285209891,73379.864304359,78252.0595160596,87221.9168273286,96901.4980813798,103879.285314713,111640.501036364,120928.89753293499,118274.051330973,125044.067991979,136346.984801619,134889.41387525998,140169.80801635198,146527.60164921702,160916.01382534398,172757.877474653,188314.972645788,205304.99996321302,209140.601456434,209393.625490149,239809.387605427,255008.196791322,266385.665325181,279271.535506458,290269.25619507395,298944.012931308,308895.962132365,322859.23180541495,334151.135292159,338646.194792894,320389.705940647],\"xaxis\":\"x\",\"yaxis\":\"y\"},{\"line\":{\"color\":\"rgba(128, 128, 128, 1.0)\",\"dash\":\"solid\",\"shape\":\"linear\",\"width\":1.3},\"marker\":{\"size\":2,\"symbol\":\"circle\"},\"mode\":\"markers\",\"name\":\"Y\",\"text\":\"\",\"type\":\"scatter\",\"x\":[5592.360813056414,6196.316092606512,6477.773333662827,6869.376900112365,6615.987338347547,6880.962796474083,7401.218333159515,8210.144405367051,9074.529635631332,9786.07423335992,11119.854235893657,12399.407918685074,13190.555261738955,14357.142074400863,14878.84826953875,15443.306264260475,16132.807550722375,17083.12828371279,18088.626933641655,18929.432079551432,19650.01543971948,20748.687726621876,21894.0455071961,22910.326445985265,24795.655277145695,26460.576843985276,27326.244710875922,29965.35772955545,32019.03252410973,34796.42491865579,37206.18668586829,38517.35636648465,40812.51800612965,45909.50204094694,49554.45193313509,51025.44405287252,55123.07911658631,58698.887057711116,57890.47935864027,64130.65033911872,71390.43776842028,78040.13299755832,81330.46668111297,83446.65600091543,84186.58604011402,85938.44159906569,90415.72790591742,94239.28752909912,104704.43882070063,102671.7575088894,110382.83828382817,116927.51270564942,122974.05199365722,131474.55383110663,137051.82911417627,141546.96756592413,144473.39259052844,146496.8135230113,148811.6193174522,155587.3592021913,145537.15193369778],\"xaxis\":\"x2\",\"y\":[5768.0160721365,6237.3530632452,6708.52560816992,7382.10326042145,7153.01202453881,7713.42072421103,8498.61416812063,9561.68222048448,10855.1122767574,12356.7364947,14079.544947471599,15827.345171430401,17934.843345103298,19836.4065002647,21049.9193673175,21888.061478996602,23515.9153209016,25127.39037491,27081.619804946098,29669.044703281503,32669.5398084426,36203.1221007069,38774.309407593006,42091.2963495683,45792.1258337604,45506.9090100421,46118.0072343257,51097.723540710096,56853.243727253,62628.7432111009,68779.54285209891,73379.864304359,78252.0595160596,87221.9168273286,96901.4980813798,103879.285314713,111640.501036364,120928.89753293499,118274.051330973,125044.067991979,136346.984801619,134889.41387525998,140169.80801635198,146527.60164921702,160916.01382534398,172757.877474653,188314.972645788,205304.99996321302,209140.601456434,209393.625490149,239809.387605427,255008.196791322,266385.665325181,279271.535506458,290269.25619507395,298944.012931308,308895.962132365,322859.23180541495,334151.135292159,338646.194792894,320389.705940647],\"yaxis\":\"y2\"},{\"line\":{\"color\":\"rgba(128, 128, 128, 1.0)\",\"dash\":\"solid\",\"shape\":\"linear\",\"width\":1.3},\"marker\":{\"size\":2,\"symbol\":\"circle\"},\"mode\":\"markers\",\"name\":\"Y\",\"text\":\"\",\"type\":\"scatter\",\"x\":[null,null,null,null,null,null,null,null,null,null,null,null,174.9782964905348,-13.35707852378439,129.59954720592313,113.19734315767391,648.8921806292743,782.100243428148,920.0785901208142,663.7966692833031,1020.3864058671797,614.2793846159739,492.93437736395856,1336.0209677407759,2620.430105894498,-837.4657530945419,-2693.1408607299068,2370.3770588375373,1062.9598666635302,813.1414012092334,-1532.829285193522,-1299.5639479031006,-2042.9157720672342,-3038.240806285928,-5130.238327676342,-5558.554531303516,-5120.045191338742,-8513.415730865618,381.67572004748234,831.047907476478,-1460.3395895855638,931.4826113425553,673.3641917500336,834.6284899948283,844.9967346884339,-1360.311037217621,-2457.6121901632137,-8240.128349488103,-3598.9013543968044,2481.036531837693,-7429.409607627416,-12310.531316131724,-8960.101619101886,-8914.231330771127,-6478.797336166049,-6357.864231088532,-3138.3122973851387,null,null,null,null],\"xaxis\":\"x3\",\"y\":[5768.0160721365,6237.3530632452,6708.52560816992,7382.10326042145,7153.01202453881,7713.42072421103,8498.61416812063,9561.68222048448,10855.1122767574,12356.7364947,14079.544947471599,15827.345171430401,17934.843345103298,19836.4065002647,21049.9193673175,21888.061478996602,23515.9153209016,25127.39037491,27081.619804946098,29669.044703281503,32669.5398084426,36203.1221007069,38774.309407593006,42091.2963495683,45792.1258337604,45506.9090100421,46118.0072343257,51097.723540710096,56853.243727253,62628.7432111009,68779.54285209891,73379.864304359,78252.0595160596,87221.9168273286,96901.4980813798,103879.285314713,111640.501036364,120928.89753293499,118274.051330973,125044.067991979,136346.984801619,134889.41387525998,140169.80801635198,146527.60164921702,160916.01382534398,172757.877474653,188314.972645788,205304.99996321302,209140.601456434,209393.625490149,239809.387605427,255008.196791322,266385.665325181,279271.535506458,290269.25619507395,298944.012931308,308895.962132365,322859.23180541495,334151.135292159,338646.194792894,320389.705940647],\"yaxis\":\"y3\"},{\"line\":{\"color\":\"rgba(128, 128, 128, 1.0)\",\"dash\":\"solid\",\"shape\":\"linear\",\"width\":1.3},\"marker\":{\"size\":2,\"symbol\":\"circle\"},\"mode\":\"markers\",\"name\":\"Y\",\"text\":\"\",\"type\":\"scatter\",\"x\":[436.82893185105996,535.6797342106689,586.067752337562,681.66557328977,694.810273670698,759.803514443068,863.766144728593,938.717491850151,1097.3169323048899,1351.44780633618,1643.0211602404102,1922.91033602826,2179.8958672129797,2301.31837729742,2309.1520876254403,2372.88396826025,2487.0038670219496,2706.28136883107,3009.53890085169,3004.22791079879,3317.7754860469,3498.41553522117,3962.86161534732,4344.92096227784,4580.79530800228,5505.57145096357,5556.42418072009,5624.67040289986,5287.09059766238,5610.39711713269,6219.1029645707395,6730.219369786741,6903.09209600865,7973.588528546389,7937.672958313659,8768.57735208993,10199.690009219601,10862.4351804459,11703.297680571399,12476.710607025,14762.693500544701,15509.617864109501,16226.800683378,16374.7781437269,16540.6138081288,17205.0186637466,18463.3913694057,18912.9002900081,20109.9310605561,21086.6221312845,23241.2907957462,23198.8692626987,23398.429713936403,26143.0829858997,26306.1967678994,28648.0114443502,29747.1208357979,30666.3868265793,31635.3105743554,32705.143133136502,36823.2848201555],\"xaxis\":\"x4\",\"y\":[5768.0160721365,6237.3530632452,6708.52560816992,7382.10326042145,7153.01202453881,7713.42072421103,8498.61416812063,9561.68222048448,10855.1122767574,12356.7364947,14079.544947471599,15827.345171430401,17934.843345103298,19836.4065002647,21049.9193673175,21888.061478996602,23515.9153209016,25127.39037491,27081.619804946098,29669.044703281503,32669.5398084426,36203.1221007069,38774.309407593006,42091.2963495683,45792.1258337604,45506.9090100421,46118.0072343257,51097.723540710096,56853.243727253,62628.7432111009,68779.54285209891,73379.864304359,78252.0595160596,87221.9168273286,96901.4980813798,103879.285314713,111640.501036364,120928.89753293499,118274.051330973,125044.067991979,136346.984801619,134889.41387525998,140169.80801635198,146527.60164921702,160916.01382534398,172757.877474653,188314.972645788,205304.99996321302,209140.601456434,209393.625490149,239809.387605427,255008.196791322,266385.665325181,279271.535506458,290269.25619507395,298944.012931308,308895.962132365,322859.23180541495,334151.135292159,338646.194792894,320389.705940647],\"yaxis\":\"y4\"},{\"line\":{\"color\":\"rgba(128, 128, 128, 1.0)\",\"dash\":\"solid\",\"shape\":\"linear\",\"width\":1.3},\"marker\":{\"size\":2,\"symbol\":\"circle\"},\"mode\":\"markers\",\"name\":\"C\",\"text\":\"\",\"type\":\"scatter\",\"x\":[5768.0160721365,6237.3530632452,6708.52560816992,7382.10326042145,7153.01202453881,7713.42072421103,8498.61416812063,9561.68222048448,10855.1122767574,12356.7364947,14079.544947471599,15827.345171430401,17934.843345103298,19836.4065002647,21049.9193673175,21888.061478996602,23515.9153209016,25127.39037491,27081.619804946098,29669.044703281503,32669.5398084426,36203.1221007069,38774.309407593006,42091.2963495683,45792.1258337604,45506.9090100421,46118.0072343257,51097.723540710096,56853.243727253,62628.7432111009,68779.54285209891,73379.864304359,78252.0595160596,87221.9168273286,96901.4980813798,103879.285314713,111640.501036364,120928.89753293499,118274.051330973,125044.067991979,136346.984801619,134889.41387525998,140169.80801635198,146527.60164921702,160916.01382534398,172757.877474653,188314.972645788,205304.99996321302,209140.601456434,209393.625490149,239809.387605427,255008.196791322,266385.665325181,279271.535506458,290269.25619507395,298944.012931308,308895.962132365,322859.23180541495,334151.135292159,338646.194792894,320389.705940647],\"xaxis\":\"x5\",\"y\":[5592.360813056414,6196.316092606512,6477.773333662827,6869.376900112365,6615.987338347547,6880.962796474083,7401.218333159515,8210.144405367051,9074.529635631332,9786.07423335992,11119.854235893657,12399.407918685074,13190.555261738955,14357.142074400863,14878.84826953875,15443.306264260475,16132.807550722375,17083.12828371279,18088.626933641655,18929.432079551432,19650.01543971948,20748.687726621876,21894.0455071961,22910.326445985265,24795.655277145695,26460.576843985276,27326.244710875922,29965.35772955545,32019.03252410973,34796.42491865579,37206.18668586829,38517.35636648465,40812.51800612965,45909.50204094694,49554.45193313509,51025.44405287252,55123.07911658631,58698.887057711116,57890.47935864027,64130.65033911872,71390.43776842028,78040.13299755832,81330.46668111297,83446.65600091543,84186.58604011402,85938.44159906569,90415.72790591742,94239.28752909912,104704.43882070063,102671.7575088894,110382.83828382817,116927.51270564942,122974.05199365722,131474.55383110663,137051.82911417627,141546.96756592413,144473.39259052844,146496.8135230113,148811.6193174522,155587.3592021913,145537.15193369778],\"yaxis\":\"y5\"},{\"histfunc\":\"count\",\"histnorm\":\"\",\"marker\":{\"color\":\"rgba(55, 128, 191, 1.0)\",\"line\":{\"color\":\"#4D5663\",\"width\":1.3}},\"name\":\"C\",\"nbinsx\":10,\"opacity\":0.8,\"orientation\":\"v\",\"type\":\"histogram\",\"x\":[5592.360813056414,6196.316092606512,6477.773333662827,6869.376900112365,6615.987338347547,6880.962796474083,7401.218333159515,8210.144405367051,9074.529635631332,9786.07423335992,11119.854235893657,12399.407918685074,13190.555261738955,14357.142074400863,14878.84826953875,15443.306264260475,16132.807550722375,17083.12828371279,18088.626933641655,18929.432079551432,19650.01543971948,20748.687726621876,21894.0455071961,22910.326445985265,24795.655277145695,26460.576843985276,27326.244710875922,29965.35772955545,32019.03252410973,34796.42491865579,37206.18668586829,38517.35636648465,40812.51800612965,45909.50204094694,49554.45193313509,51025.44405287252,55123.07911658631,58698.887057711116,57890.47935864027,64130.65033911872,71390.43776842028,78040.13299755832,81330.46668111297,83446.65600091543,84186.58604011402,85938.44159906569,90415.72790591742,94239.28752909912,104704.43882070063,102671.7575088894,110382.83828382817,116927.51270564942,122974.05199365722,131474.55383110663,137051.82911417627,141546.96756592413,144473.39259052844,146496.8135230113,148811.6193174522,155587.3592021913,145537.15193369778],\"xaxis\":\"x6\",\"yaxis\":\"y6\"},{\"line\":{\"color\":\"rgba(128, 128, 128, 1.0)\",\"dash\":\"solid\",\"shape\":\"linear\",\"width\":1.3},\"marker\":{\"size\":2,\"symbol\":\"circle\"},\"mode\":\"markers\",\"name\":\"C\",\"text\":\"\",\"type\":\"scatter\",\"x\":[null,null,null,null,null,null,null,null,null,null,null,null,174.9782964905348,-13.35707852378439,129.59954720592313,113.19734315767391,648.8921806292743,782.100243428148,920.0785901208142,663.7966692833031,1020.3864058671797,614.2793846159739,492.93437736395856,1336.0209677407759,2620.430105894498,-837.4657530945419,-2693.1408607299068,2370.3770588375373,1062.9598666635302,813.1414012092334,-1532.829285193522,-1299.5639479031006,-2042.9157720672342,-3038.240806285928,-5130.238327676342,-5558.554531303516,-5120.045191338742,-8513.415730865618,381.67572004748234,831.047907476478,-1460.3395895855638,931.4826113425553,673.3641917500336,834.6284899948283,844.9967346884339,-1360.311037217621,-2457.6121901632137,-8240.128349488103,-3598.9013543968044,2481.036531837693,-7429.409607627416,-12310.531316131724,-8960.101619101886,-8914.231330771127,-6478.797336166049,-6357.864231088532,-3138.3122973851387,null,null,null,null],\"xaxis\":\"x7\",\"y\":[5592.360813056414,6196.316092606512,6477.773333662827,6869.376900112365,6615.987338347547,6880.962796474083,7401.218333159515,8210.144405367051,9074.529635631332,9786.07423335992,11119.854235893657,12399.407918685074,13190.555261738955,14357.142074400863,14878.84826953875,15443.306264260475,16132.807550722375,17083.12828371279,18088.626933641655,18929.432079551432,19650.01543971948,20748.687726621876,21894.0455071961,22910.326445985265,24795.655277145695,26460.576843985276,27326.244710875922,29965.35772955545,32019.03252410973,34796.42491865579,37206.18668586829,38517.35636648465,40812.51800612965,45909.50204094694,49554.45193313509,51025.44405287252,55123.07911658631,58698.887057711116,57890.47935864027,64130.65033911872,71390.43776842028,78040.13299755832,81330.46668111297,83446.65600091543,84186.58604011402,85938.44159906569,90415.72790591742,94239.28752909912,104704.43882070063,102671.7575088894,110382.83828382817,116927.51270564942,122974.05199365722,131474.55383110663,137051.82911417627,141546.96756592413,144473.39259052844,146496.8135230113,148811.6193174522,155587.3592021913,145537.15193369778],\"yaxis\":\"y7\"},{\"line\":{\"color\":\"rgba(128, 128, 128, 1.0)\",\"dash\":\"solid\",\"shape\":\"linear\",\"width\":1.3},\"marker\":{\"size\":2,\"symbol\":\"circle\"},\"mode\":\"markers\",\"name\":\"C\",\"text\":\"\",\"type\":\"scatter\",\"x\":[436.82893185105996,535.6797342106689,586.067752337562,681.66557328977,694.810273670698,759.803514443068,863.766144728593,938.717491850151,1097.3169323048899,1351.44780633618,1643.0211602404102,1922.91033602826,2179.8958672129797,2301.31837729742,2309.1520876254403,2372.88396826025,2487.0038670219496,2706.28136883107,3009.53890085169,3004.22791079879,3317.7754860469,3498.41553522117,3962.86161534732,4344.92096227784,4580.79530800228,5505.57145096357,5556.42418072009,5624.67040289986,5287.09059766238,5610.39711713269,6219.1029645707395,6730.219369786741,6903.09209600865,7973.588528546389,7937.672958313659,8768.57735208993,10199.690009219601,10862.4351804459,11703.297680571399,12476.710607025,14762.693500544701,15509.617864109501,16226.800683378,16374.7781437269,16540.6138081288,17205.0186637466,18463.3913694057,18912.9002900081,20109.9310605561,21086.6221312845,23241.2907957462,23198.8692626987,23398.429713936403,26143.0829858997,26306.1967678994,28648.0114443502,29747.1208357979,30666.3868265793,31635.3105743554,32705.143133136502,36823.2848201555],\"xaxis\":\"x8\",\"y\":[5592.360813056414,6196.316092606512,6477.773333662827,6869.376900112365,6615.987338347547,6880.962796474083,7401.218333159515,8210.144405367051,9074.529635631332,9786.07423335992,11119.854235893657,12399.407918685074,13190.555261738955,14357.142074400863,14878.84826953875,15443.306264260475,16132.807550722375,17083.12828371279,18088.626933641655,18929.432079551432,19650.01543971948,20748.687726621876,21894.0455071961,22910.326445985265,24795.655277145695,26460.576843985276,27326.244710875922,29965.35772955545,32019.03252410973,34796.42491865579,37206.18668586829,38517.35636648465,40812.51800612965,45909.50204094694,49554.45193313509,51025.44405287252,55123.07911658631,58698.887057711116,57890.47935864027,64130.65033911872,71390.43776842028,78040.13299755832,81330.46668111297,83446.65600091543,84186.58604011402,85938.44159906569,90415.72790591742,94239.28752909912,104704.43882070063,102671.7575088894,110382.83828382817,116927.51270564942,122974.05199365722,131474.55383110663,137051.82911417627,141546.96756592413,144473.39259052844,146496.8135230113,148811.6193174522,155587.3592021913,145537.15193369778],\"yaxis\":\"y8\"},{\"line\":{\"color\":\"rgba(128, 128, 128, 1.0)\",\"dash\":\"solid\",\"shape\":\"linear\",\"width\":1.3},\"marker\":{\"size\":2,\"symbol\":\"circle\"},\"mode\":\"markers\",\"name\":\"I\",\"text\":\"\",\"type\":\"scatter\",\"x\":[5768.0160721365,6237.3530632452,6708.52560816992,7382.10326042145,7153.01202453881,7713.42072421103,8498.61416812063,9561.68222048448,10855.1122767574,12356.7364947,14079.544947471599,15827.345171430401,17934.843345103298,19836.4065002647,21049.9193673175,21888.061478996602,23515.9153209016,25127.39037491,27081.619804946098,29669.044703281503,32669.5398084426,36203.1221007069,38774.309407593006,42091.2963495683,45792.1258337604,45506.9090100421,46118.0072343257,51097.723540710096,56853.243727253,62628.7432111009,68779.54285209891,73379.864304359,78252.0595160596,87221.9168273286,96901.4980813798,103879.285314713,111640.501036364,120928.89753293499,118274.051330973,125044.067991979,136346.984801619,134889.41387525998,140169.80801635198,146527.60164921702,160916.01382534398,172757.877474653,188314.972645788,205304.99996321302,209140.601456434,209393.625490149,239809.387605427,255008.196791322,266385.665325181,279271.535506458,290269.25619507395,298944.012931308,308895.962132365,322859.23180541495,334151.135292159,338646.194792894,320389.705940647],\"xaxis\":\"x9\",\"y\":[\"\",\"\",\"\",\"\",\"\",\"\",\"\",\"\",\"\",\"\",\"\",\"\",174.9782964905348,-13.35707852378439,129.59954720592313,113.19734315767391,648.8921806292743,782.100243428148,920.0785901208142,663.7966692833031,1020.3864058671797,614.2793846159739,492.93437736395856,1336.0209677407759,2620.430105894498,-837.4657530945419,-2693.1408607299068,2370.3770588375373,1062.9598666635302,813.1414012092334,-1532.829285193522,-1299.5639479031006,-2042.9157720672342,-3038.240806285928,-5130.238327676342,-5558.554531303516,-5120.045191338742,-8513.415730865618,381.67572004748234,831.047907476478,-1460.3395895855638,931.4826113425553,673.3641917500336,834.6284899948283,844.9967346884339,-1360.311037217621,-2457.6121901632137,-8240.128349488103,-3598.9013543968044,2481.036531837693,-7429.409607627416,-12310.531316131724,-8960.101619101886,-8914.231330771127,-6478.797336166049,-6357.864231088532,-3138.3122973851387,\"\",\"\",\"\",\"\"],\"yaxis\":\"y9\"},{\"line\":{\"color\":\"rgba(128, 128, 128, 1.0)\",\"dash\":\"solid\",\"shape\":\"linear\",\"width\":1.3},\"marker\":{\"size\":2,\"symbol\":\"circle\"},\"mode\":\"markers\",\"name\":\"I\",\"text\":\"\",\"type\":\"scatter\",\"x\":[5592.360813056414,6196.316092606512,6477.773333662827,6869.376900112365,6615.987338347547,6880.962796474083,7401.218333159515,8210.144405367051,9074.529635631332,9786.07423335992,11119.854235893657,12399.407918685074,13190.555261738955,14357.142074400863,14878.84826953875,15443.306264260475,16132.807550722375,17083.12828371279,18088.626933641655,18929.432079551432,19650.01543971948,20748.687726621876,21894.0455071961,22910.326445985265,24795.655277145695,26460.576843985276,27326.244710875922,29965.35772955545,32019.03252410973,34796.42491865579,37206.18668586829,38517.35636648465,40812.51800612965,45909.50204094694,49554.45193313509,51025.44405287252,55123.07911658631,58698.887057711116,57890.47935864027,64130.65033911872,71390.43776842028,78040.13299755832,81330.46668111297,83446.65600091543,84186.58604011402,85938.44159906569,90415.72790591742,94239.28752909912,104704.43882070063,102671.7575088894,110382.83828382817,116927.51270564942,122974.05199365722,131474.55383110663,137051.82911417627,141546.96756592413,144473.39259052844,146496.8135230113,148811.6193174522,155587.3592021913,145537.15193369778],\"xaxis\":\"x10\",\"y\":[\"\",\"\",\"\",\"\",\"\",\"\",\"\",\"\",\"\",\"\",\"\",\"\",174.9782964905348,-13.35707852378439,129.59954720592313,113.19734315767391,648.8921806292743,782.100243428148,920.0785901208142,663.7966692833031,1020.3864058671797,614.2793846159739,492.93437736395856,1336.0209677407759,2620.430105894498,-837.4657530945419,-2693.1408607299068,2370.3770588375373,1062.9598666635302,813.1414012092334,-1532.829285193522,-1299.5639479031006,-2042.9157720672342,-3038.240806285928,-5130.238327676342,-5558.554531303516,-5120.045191338742,-8513.415730865618,381.67572004748234,831.047907476478,-1460.3395895855638,931.4826113425553,673.3641917500336,834.6284899948283,844.9967346884339,-1360.311037217621,-2457.6121901632137,-8240.128349488103,-3598.9013543968044,2481.036531837693,-7429.409607627416,-12310.531316131724,-8960.101619101886,-8914.231330771127,-6478.797336166049,-6357.864231088532,-3138.3122973851387,\"\",\"\",\"\",\"\"],\"yaxis\":\"y10\"},{\"histfunc\":\"count\",\"histnorm\":\"\",\"marker\":{\"color\":\"rgba(50, 171, 96, 1.0)\",\"line\":{\"color\":\"#4D5663\",\"width\":1.3}},\"name\":\"I\",\"nbinsx\":10,\"opacity\":0.8,\"orientation\":\"v\",\"type\":\"histogram\",\"x\":[null,null,null,null,null,null,null,null,null,null,null,null,174.9782964905348,-13.35707852378439,129.59954720592313,113.19734315767391,648.8921806292743,782.100243428148,920.0785901208142,663.7966692833031,1020.3864058671797,614.2793846159739,492.93437736395856,1336.0209677407759,2620.430105894498,-837.4657530945419,-2693.1408607299068,2370.3770588375373,1062.9598666635302,813.1414012092334,-1532.829285193522,-1299.5639479031006,-2042.9157720672342,-3038.240806285928,-5130.238327676342,-5558.554531303516,-5120.045191338742,-8513.415730865618,381.67572004748234,831.047907476478,-1460.3395895855638,931.4826113425553,673.3641917500336,834.6284899948283,844.9967346884339,-1360.311037217621,-2457.6121901632137,-8240.128349488103,-3598.9013543968044,2481.036531837693,-7429.409607627416,-12310.531316131724,-8960.101619101886,-8914.231330771127,-6478.797336166049,-6357.864231088532,-3138.3122973851387,null,null,null,null],\"xaxis\":\"x11\",\"yaxis\":\"y11\"},{\"line\":{\"color\":\"rgba(128, 128, 128, 1.0)\",\"dash\":\"solid\",\"shape\":\"linear\",\"width\":1.3},\"marker\":{\"size\":2,\"symbol\":\"circle\"},\"mode\":\"markers\",\"name\":\"I\",\"text\":\"\",\"type\":\"scatter\",\"x\":[436.82893185105996,535.6797342106689,586.067752337562,681.66557328977,694.810273670698,759.803514443068,863.766144728593,938.717491850151,1097.3169323048899,1351.44780633618,1643.0211602404102,1922.91033602826,2179.8958672129797,2301.31837729742,2309.1520876254403,2372.88396826025,2487.0038670219496,2706.28136883107,3009.53890085169,3004.22791079879,3317.7754860469,3498.41553522117,3962.86161534732,4344.92096227784,4580.79530800228,5505.57145096357,5556.42418072009,5624.67040289986,5287.09059766238,5610.39711713269,6219.1029645707395,6730.219369786741,6903.09209600865,7973.588528546389,7937.672958313659,8768.57735208993,10199.690009219601,10862.4351804459,11703.297680571399,12476.710607025,14762.693500544701,15509.617864109501,16226.800683378,16374.7781437269,16540.6138081288,17205.0186637466,18463.3913694057,18912.9002900081,20109.9310605561,21086.6221312845,23241.2907957462,23198.8692626987,23398.429713936403,26143.0829858997,26306.1967678994,28648.0114443502,29747.1208357979,30666.3868265793,31635.3105743554,32705.143133136502,36823.2848201555],\"xaxis\":\"x12\",\"y\":[\"\",\"\",\"\",\"\",\"\",\"\",\"\",\"\",\"\",\"\",\"\",\"\",174.9782964905348,-13.35707852378439,129.59954720592313,113.19734315767391,648.8921806292743,782.100243428148,920.0785901208142,663.7966692833031,1020.3864058671797,614.2793846159739,492.93437736395856,1336.0209677407759,2620.430105894498,-837.4657530945419,-2693.1408607299068,2370.3770588375373,1062.9598666635302,813.1414012092334,-1532.829285193522,-1299.5639479031006,-2042.9157720672342,-3038.240806285928,-5130.238327676342,-5558.554531303516,-5120.045191338742,-8513.415730865618,381.67572004748234,831.047907476478,-1460.3395895855638,931.4826113425553,673.3641917500336,834.6284899948283,844.9967346884339,-1360.311037217621,-2457.6121901632137,-8240.128349488103,-3598.9013543968044,2481.036531837693,-7429.409607627416,-12310.531316131724,-8960.101619101886,-8914.231330771127,-6478.797336166049,-6357.864231088532,-3138.3122973851387,\"\",\"\",\"\",\"\"],\"yaxis\":\"y12\"},{\"line\":{\"color\":\"rgba(128, 128, 128, 1.0)\",\"dash\":\"solid\",\"shape\":\"linear\",\"width\":1.3},\"marker\":{\"size\":2,\"symbol\":\"circle\"},\"mode\":\"markers\",\"name\":\"G\",\"text\":\"\",\"type\":\"scatter\",\"x\":[5768.0160721365,6237.3530632452,6708.52560816992,7382.10326042145,7153.01202453881,7713.42072421103,8498.61416812063,9561.68222048448,10855.1122767574,12356.7364947,14079.544947471599,15827.345171430401,17934.843345103298,19836.4065002647,21049.9193673175,21888.061478996602,23515.9153209016,25127.39037491,27081.619804946098,29669.044703281503,32669.5398084426,36203.1221007069,38774.309407593006,42091.2963495683,45792.1258337604,45506.9090100421,46118.0072343257,51097.723540710096,56853.243727253,62628.7432111009,68779.54285209891,73379.864304359,78252.0595160596,87221.9168273286,96901.4980813798,103879.285314713,111640.501036364,120928.89753293499,118274.051330973,125044.067991979,136346.984801619,134889.41387525998,140169.80801635198,146527.60164921702,160916.01382534398,172757.877474653,188314.972645788,205304.99996321302,209140.601456434,209393.625490149,239809.387605427,255008.196791322,266385.665325181,279271.535506458,290269.25619507395,298944.012931308,308895.962132365,322859.23180541495,334151.135292159,338646.194792894,320389.705940647],\"xaxis\":\"x13\",\"y\":[436.82893185105996,535.6797342106689,586.067752337562,681.66557328977,694.810273670698,759.803514443068,863.766144728593,938.717491850151,1097.3169323048899,1351.44780633618,1643.0211602404102,1922.91033602826,2179.8958672129797,2301.31837729742,2309.1520876254403,2372.88396826025,2487.0038670219496,2706.28136883107,3009.53890085169,3004.22791079879,3317.7754860469,3498.41553522117,3962.86161534732,4344.92096227784,4580.79530800228,5505.57145096357,5556.42418072009,5624.67040289986,5287.09059766238,5610.39711713269,6219.1029645707395,6730.219369786741,6903.09209600865,7973.588528546389,7937.672958313659,8768.57735208993,10199.690009219601,10862.4351804459,11703.297680571399,12476.710607025,14762.693500544701,15509.617864109501,16226.800683378,16374.7781437269,16540.6138081288,17205.0186637466,18463.3913694057,18912.9002900081,20109.9310605561,21086.6221312845,23241.2907957462,23198.8692626987,23398.429713936403,26143.0829858997,26306.1967678994,28648.0114443502,29747.1208357979,30666.3868265793,31635.3105743554,32705.143133136502,36823.2848201555],\"yaxis\":\"y13\"},{\"line\":{\"color\":\"rgba(128, 128, 128, 1.0)\",\"dash\":\"solid\",\"shape\":\"linear\",\"width\":1.3},\"marker\":{\"size\":2,\"symbol\":\"circle\"},\"mode\":\"markers\",\"name\":\"G\",\"text\":\"\",\"type\":\"scatter\",\"x\":[5592.360813056414,6196.316092606512,6477.773333662827,6869.376900112365,6615.987338347547,6880.962796474083,7401.218333159515,8210.144405367051,9074.529635631332,9786.07423335992,11119.854235893657,12399.407918685074,13190.555261738955,14357.142074400863,14878.84826953875,15443.306264260475,16132.807550722375,17083.12828371279,18088.626933641655,18929.432079551432,19650.01543971948,20748.687726621876,21894.0455071961,22910.326445985265,24795.655277145695,26460.576843985276,27326.244710875922,29965.35772955545,32019.03252410973,34796.42491865579,37206.18668586829,38517.35636648465,40812.51800612965,45909.50204094694,49554.45193313509,51025.44405287252,55123.07911658631,58698.887057711116,57890.47935864027,64130.65033911872,71390.43776842028,78040.13299755832,81330.46668111297,83446.65600091543,84186.58604011402,85938.44159906569,90415.72790591742,94239.28752909912,104704.43882070063,102671.7575088894,110382.83828382817,116927.51270564942,122974.05199365722,131474.55383110663,137051.82911417627,141546.96756592413,144473.39259052844,146496.8135230113,148811.6193174522,155587.3592021913,145537.15193369778],\"xaxis\":\"x14\",\"y\":[436.82893185105996,535.6797342106689,586.067752337562,681.66557328977,694.810273670698,759.803514443068,863.766144728593,938.717491850151,1097.3169323048899,1351.44780633618,1643.0211602404102,1922.91033602826,2179.8958672129797,2301.31837729742,2309.1520876254403,2372.88396826025,2487.0038670219496,2706.28136883107,3009.53890085169,3004.22791079879,3317.7754860469,3498.41553522117,3962.86161534732,4344.92096227784,4580.79530800228,5505.57145096357,5556.42418072009,5624.67040289986,5287.09059766238,5610.39711713269,6219.1029645707395,6730.219369786741,6903.09209600865,7973.588528546389,7937.672958313659,8768.57735208993,10199.690009219601,10862.4351804459,11703.297680571399,12476.710607025,14762.693500544701,15509.617864109501,16226.800683378,16374.7781437269,16540.6138081288,17205.0186637466,18463.3913694057,18912.9002900081,20109.9310605561,21086.6221312845,23241.2907957462,23198.8692626987,23398.429713936403,26143.0829858997,26306.1967678994,28648.0114443502,29747.1208357979,30666.3868265793,31635.3105743554,32705.143133136502,36823.2848201555],\"yaxis\":\"y14\"},{\"line\":{\"color\":\"rgba(128, 128, 128, 1.0)\",\"dash\":\"solid\",\"shape\":\"linear\",\"width\":1.3},\"marker\":{\"size\":2,\"symbol\":\"circle\"},\"mode\":\"markers\",\"name\":\"G\",\"text\":\"\",\"type\":\"scatter\",\"x\":[null,null,null,null,null,null,null,null,null,null,null,null,174.9782964905348,-13.35707852378439,129.59954720592313,113.19734315767391,648.8921806292743,782.100243428148,920.0785901208142,663.7966692833031,1020.3864058671797,614.2793846159739,492.93437736395856,1336.0209677407759,2620.430105894498,-837.4657530945419,-2693.1408607299068,2370.3770588375373,1062.9598666635302,813.1414012092334,-1532.829285193522,-1299.5639479031006,-2042.9157720672342,-3038.240806285928,-5130.238327676342,-5558.554531303516,-5120.045191338742,-8513.415730865618,381.67572004748234,831.047907476478,-1460.3395895855638,931.4826113425553,673.3641917500336,834.6284899948283,844.9967346884339,-1360.311037217621,-2457.6121901632137,-8240.128349488103,-3598.9013543968044,2481.036531837693,-7429.409607627416,-12310.531316131724,-8960.101619101886,-8914.231330771127,-6478.797336166049,-6357.864231088532,-3138.3122973851387,null,null,null,null],\"xaxis\":\"x15\",\"y\":[436.82893185105996,535.6797342106689,586.067752337562,681.66557328977,694.810273670698,759.803514443068,863.766144728593,938.717491850151,1097.3169323048899,1351.44780633618,1643.0211602404102,1922.91033602826,2179.8958672129797,2301.31837729742,2309.1520876254403,2372.88396826025,2487.0038670219496,2706.28136883107,3009.53890085169,3004.22791079879,3317.7754860469,3498.41553522117,3962.86161534732,4344.92096227784,4580.79530800228,5505.57145096357,5556.42418072009,5624.67040289986,5287.09059766238,5610.39711713269,6219.1029645707395,6730.219369786741,6903.09209600865,7973.588528546389,7937.672958313659,8768.57735208993,10199.690009219601,10862.4351804459,11703.297680571399,12476.710607025,14762.693500544701,15509.617864109501,16226.800683378,16374.7781437269,16540.6138081288,17205.0186637466,18463.3913694057,18912.9002900081,20109.9310605561,21086.6221312845,23241.2907957462,23198.8692626987,23398.429713936403,26143.0829858997,26306.1967678994,28648.0114443502,29747.1208357979,30666.3868265793,31635.3105743554,32705.143133136502,36823.2848201555],\"yaxis\":\"y15\"},{\"histfunc\":\"count\",\"histnorm\":\"\",\"marker\":{\"color\":\"rgba(128, 0, 128, 1.0)\",\"line\":{\"color\":\"#4D5663\",\"width\":1.3}},\"name\":\"G\",\"nbinsx\":10,\"opacity\":0.8,\"orientation\":\"v\",\"type\":\"histogram\",\"x\":[436.82893185105996,535.6797342106689,586.067752337562,681.66557328977,694.810273670698,759.803514443068,863.766144728593,938.717491850151,1097.3169323048899,1351.44780633618,1643.0211602404102,1922.91033602826,2179.8958672129797,2301.31837729742,2309.1520876254403,2372.88396826025,2487.0038670219496,2706.28136883107,3009.53890085169,3004.22791079879,3317.7754860469,3498.41553522117,3962.86161534732,4344.92096227784,4580.79530800228,5505.57145096357,5556.42418072009,5624.67040289986,5287.09059766238,5610.39711713269,6219.1029645707395,6730.219369786741,6903.09209600865,7973.588528546389,7937.672958313659,8768.57735208993,10199.690009219601,10862.4351804459,11703.297680571399,12476.710607025,14762.693500544701,15509.617864109501,16226.800683378,16374.7781437269,16540.6138081288,17205.0186637466,18463.3913694057,18912.9002900081,20109.9310605561,21086.6221312845,23241.2907957462,23198.8692626987,23398.429713936403,26143.0829858997,26306.1967678994,28648.0114443502,29747.1208357979,30666.3868265793,31635.3105743554,32705.143133136502,36823.2848201555],\"xaxis\":\"x16\",\"yaxis\":\"y16\"}],                        {\"bargap\":0.02,\"legend\":{\"bgcolor\":\"#FFFFFF\",\"font\":{\"color\":\"#4D5663\"}},\"paper_bgcolor\":\"#FFFFFF\",\"plot_bgcolor\":\"#FFFFFF\",\"showlegend\":false,\"template\":{\"data\":{\"bar\":[{\"error_x\":{\"color\":\"#2a3f5f\"},\"error_y\":{\"color\":\"#2a3f5f\"},\"marker\":{\"line\":{\"color\":\"#E5ECF6\",\"width\":0.5},\"pattern\":{\"fillmode\":\"overlay\",\"size\":10,\"solidity\":0.2}},\"type\":\"bar\"}],\"barpolar\":[{\"marker\":{\"line\":{\"color\":\"#E5ECF6\",\"width\":0.5},\"pattern\":{\"fillmode\":\"overlay\",\"size\":10,\"solidity\":0.2}},\"type\":\"barpolar\"}],\"carpet\":[{\"aaxis\":{\"endlinecolor\":\"#2a3f5f\",\"gridcolor\":\"white\",\"linecolor\":\"white\",\"minorgridcolor\":\"white\",\"startlinecolor\":\"#2a3f5f\"},\"baxis\":{\"endlinecolor\":\"#2a3f5f\",\"gridcolor\":\"white\",\"linecolor\":\"white\",\"minorgridcolor\":\"white\",\"startlinecolor\":\"#2a3f5f\"},\"type\":\"carpet\"}],\"choropleth\":[{\"colorbar\":{\"outlinewidth\":0,\"ticks\":\"\"},\"type\":\"choropleth\"}],\"contour\":[{\"colorbar\":{\"outlinewidth\":0,\"ticks\":\"\"},\"colorscale\":[[0.0,\"#0d0887\"],[0.1111111111111111,\"#46039f\"],[0.2222222222222222,\"#7201a8\"],[0.3333333333333333,\"#9c179e\"],[0.4444444444444444,\"#bd3786\"],[0.5555555555555556,\"#d8576b\"],[0.6666666666666666,\"#ed7953\"],[0.7777777777777778,\"#fb9f3a\"],[0.8888888888888888,\"#fdca26\"],[1.0,\"#f0f921\"]],\"type\":\"contour\"}],\"contourcarpet\":[{\"colorbar\":{\"outlinewidth\":0,\"ticks\":\"\"},\"type\":\"contourcarpet\"}],\"heatmap\":[{\"colorbar\":{\"outlinewidth\":0,\"ticks\":\"\"},\"colorscale\":[[0.0,\"#0d0887\"],[0.1111111111111111,\"#46039f\"],[0.2222222222222222,\"#7201a8\"],[0.3333333333333333,\"#9c179e\"],[0.4444444444444444,\"#bd3786\"],[0.5555555555555556,\"#d8576b\"],[0.6666666666666666,\"#ed7953\"],[0.7777777777777778,\"#fb9f3a\"],[0.8888888888888888,\"#fdca26\"],[1.0,\"#f0f921\"]],\"type\":\"heatmap\"}],\"heatmapgl\":[{\"colorbar\":{\"outlinewidth\":0,\"ticks\":\"\"},\"colorscale\":[[0.0,\"#0d0887\"],[0.1111111111111111,\"#46039f\"],[0.2222222222222222,\"#7201a8\"],[0.3333333333333333,\"#9c179e\"],[0.4444444444444444,\"#bd3786\"],[0.5555555555555556,\"#d8576b\"],[0.6666666666666666,\"#ed7953\"],[0.7777777777777778,\"#fb9f3a\"],[0.8888888888888888,\"#fdca26\"],[1.0,\"#f0f921\"]],\"type\":\"heatmapgl\"}],\"histogram\":[{\"marker\":{\"pattern\":{\"fillmode\":\"overlay\",\"size\":10,\"solidity\":0.2}},\"type\":\"histogram\"}],\"histogram2d\":[{\"colorbar\":{\"outlinewidth\":0,\"ticks\":\"\"},\"colorscale\":[[0.0,\"#0d0887\"],[0.1111111111111111,\"#46039f\"],[0.2222222222222222,\"#7201a8\"],[0.3333333333333333,\"#9c179e\"],[0.4444444444444444,\"#bd3786\"],[0.5555555555555556,\"#d8576b\"],[0.6666666666666666,\"#ed7953\"],[0.7777777777777778,\"#fb9f3a\"],[0.8888888888888888,\"#fdca26\"],[1.0,\"#f0f921\"]],\"type\":\"histogram2d\"}],\"histogram2dcontour\":[{\"colorbar\":{\"outlinewidth\":0,\"ticks\":\"\"},\"colorscale\":[[0.0,\"#0d0887\"],[0.1111111111111111,\"#46039f\"],[0.2222222222222222,\"#7201a8\"],[0.3333333333333333,\"#9c179e\"],[0.4444444444444444,\"#bd3786\"],[0.5555555555555556,\"#d8576b\"],[0.6666666666666666,\"#ed7953\"],[0.7777777777777778,\"#fb9f3a\"],[0.8888888888888888,\"#fdca26\"],[1.0,\"#f0f921\"]],\"type\":\"histogram2dcontour\"}],\"mesh3d\":[{\"colorbar\":{\"outlinewidth\":0,\"ticks\":\"\"},\"type\":\"mesh3d\"}],\"parcoords\":[{\"line\":{\"colorbar\":{\"outlinewidth\":0,\"ticks\":\"\"}},\"type\":\"parcoords\"}],\"pie\":[{\"automargin\":true,\"type\":\"pie\"}],\"scatter\":[{\"marker\":{\"colorbar\":{\"outlinewidth\":0,\"ticks\":\"\"}},\"type\":\"scatter\"}],\"scatter3d\":[{\"line\":{\"colorbar\":{\"outlinewidth\":0,\"ticks\":\"\"}},\"marker\":{\"colorbar\":{\"outlinewidth\":0,\"ticks\":\"\"}},\"type\":\"scatter3d\"}],\"scattercarpet\":[{\"marker\":{\"colorbar\":{\"outlinewidth\":0,\"ticks\":\"\"}},\"type\":\"scattercarpet\"}],\"scattergeo\":[{\"marker\":{\"colorbar\":{\"outlinewidth\":0,\"ticks\":\"\"}},\"type\":\"scattergeo\"}],\"scattergl\":[{\"marker\":{\"colorbar\":{\"outlinewidth\":0,\"ticks\":\"\"}},\"type\":\"scattergl\"}],\"scattermapbox\":[{\"marker\":{\"colorbar\":{\"outlinewidth\":0,\"ticks\":\"\"}},\"type\":\"scattermapbox\"}],\"scatterpolar\":[{\"marker\":{\"colorbar\":{\"outlinewidth\":0,\"ticks\":\"\"}},\"type\":\"scatterpolar\"}],\"scatterpolargl\":[{\"marker\":{\"colorbar\":{\"outlinewidth\":0,\"ticks\":\"\"}},\"type\":\"scatterpolargl\"}],\"scatterternary\":[{\"marker\":{\"colorbar\":{\"outlinewidth\":0,\"ticks\":\"\"}},\"type\":\"scatterternary\"}],\"surface\":[{\"colorbar\":{\"outlinewidth\":0,\"ticks\":\"\"},\"colorscale\":[[0.0,\"#0d0887\"],[0.1111111111111111,\"#46039f\"],[0.2222222222222222,\"#7201a8\"],[0.3333333333333333,\"#9c179e\"],[0.4444444444444444,\"#bd3786\"],[0.5555555555555556,\"#d8576b\"],[0.6666666666666666,\"#ed7953\"],[0.7777777777777778,\"#fb9f3a\"],[0.8888888888888888,\"#fdca26\"],[1.0,\"#f0f921\"]],\"type\":\"surface\"}],\"table\":[{\"cells\":{\"fill\":{\"color\":\"#EBF0F8\"},\"line\":{\"color\":\"white\"}},\"header\":{\"fill\":{\"color\":\"#C8D4E3\"},\"line\":{\"color\":\"white\"}},\"type\":\"table\"}]},\"layout\":{\"annotationdefaults\":{\"arrowcolor\":\"#2a3f5f\",\"arrowhead\":0,\"arrowwidth\":1},\"autotypenumbers\":\"strict\",\"coloraxis\":{\"colorbar\":{\"outlinewidth\":0,\"ticks\":\"\"}},\"colorscale\":{\"diverging\":[[0,\"#8e0152\"],[0.1,\"#c51b7d\"],[0.2,\"#de77ae\"],[0.3,\"#f1b6da\"],[0.4,\"#fde0ef\"],[0.5,\"#f7f7f7\"],[0.6,\"#e6f5d0\"],[0.7,\"#b8e186\"],[0.8,\"#7fbc41\"],[0.9,\"#4d9221\"],[1,\"#276419\"]],\"sequential\":[[0.0,\"#0d0887\"],[0.1111111111111111,\"#46039f\"],[0.2222222222222222,\"#7201a8\"],[0.3333333333333333,\"#9c179e\"],[0.4444444444444444,\"#bd3786\"],[0.5555555555555556,\"#d8576b\"],[0.6666666666666666,\"#ed7953\"],[0.7777777777777778,\"#fb9f3a\"],[0.8888888888888888,\"#fdca26\"],[1.0,\"#f0f921\"]],\"sequentialminus\":[[0.0,\"#0d0887\"],[0.1111111111111111,\"#46039f\"],[0.2222222222222222,\"#7201a8\"],[0.3333333333333333,\"#9c179e\"],[0.4444444444444444,\"#bd3786\"],[0.5555555555555556,\"#d8576b\"],[0.6666666666666666,\"#ed7953\"],[0.7777777777777778,\"#fb9f3a\"],[0.8888888888888888,\"#fdca26\"],[1.0,\"#f0f921\"]]},\"colorway\":[\"#636efa\",\"#EF553B\",\"#00cc96\",\"#ab63fa\",\"#FFA15A\",\"#19d3f3\",\"#FF6692\",\"#B6E880\",\"#FF97FF\",\"#FECB52\"],\"font\":{\"color\":\"#2a3f5f\"},\"geo\":{\"bgcolor\":\"white\",\"lakecolor\":\"white\",\"landcolor\":\"#E5ECF6\",\"showlakes\":true,\"showland\":true,\"subunitcolor\":\"white\"},\"hoverlabel\":{\"align\":\"left\"},\"hovermode\":\"closest\",\"mapbox\":{\"style\":\"light\"},\"paper_bgcolor\":\"white\",\"plot_bgcolor\":\"#E5ECF6\",\"polar\":{\"angularaxis\":{\"gridcolor\":\"white\",\"linecolor\":\"white\",\"ticks\":\"\"},\"bgcolor\":\"#E5ECF6\",\"radialaxis\":{\"gridcolor\":\"white\",\"linecolor\":\"white\",\"ticks\":\"\"}},\"scene\":{\"xaxis\":{\"backgroundcolor\":\"#E5ECF6\",\"gridcolor\":\"white\",\"gridwidth\":2,\"linecolor\":\"white\",\"showbackground\":true,\"ticks\":\"\",\"zerolinecolor\":\"white\"},\"yaxis\":{\"backgroundcolor\":\"#E5ECF6\",\"gridcolor\":\"white\",\"gridwidth\":2,\"linecolor\":\"white\",\"showbackground\":true,\"ticks\":\"\",\"zerolinecolor\":\"white\"},\"zaxis\":{\"backgroundcolor\":\"#E5ECF6\",\"gridcolor\":\"white\",\"gridwidth\":2,\"linecolor\":\"white\",\"showbackground\":true,\"ticks\":\"\",\"zerolinecolor\":\"white\"}},\"shapedefaults\":{\"line\":{\"color\":\"#2a3f5f\"}},\"ternary\":{\"aaxis\":{\"gridcolor\":\"white\",\"linecolor\":\"white\",\"ticks\":\"\"},\"baxis\":{\"gridcolor\":\"white\",\"linecolor\":\"white\",\"ticks\":\"\"},\"bgcolor\":\"#E5ECF6\",\"caxis\":{\"gridcolor\":\"white\",\"linecolor\":\"white\",\"ticks\":\"\"}},\"title\":{\"x\":0.05},\"xaxis\":{\"automargin\":true,\"gridcolor\":\"white\",\"linecolor\":\"white\",\"ticks\":\"\",\"title\":{\"standoff\":15},\"zerolinecolor\":\"white\",\"zerolinewidth\":2},\"yaxis\":{\"automargin\":true,\"gridcolor\":\"white\",\"linecolor\":\"white\",\"ticks\":\"\",\"title\":{\"standoff\":15},\"zerolinecolor\":\"white\",\"zerolinewidth\":2}}},\"title\":{\"font\":{\"color\":\"#4D5663\"}},\"xaxis\":{\"anchor\":\"y\",\"domain\":[0.0,0.2125],\"gridcolor\":\"#E1E5ED\",\"showgrid\":false,\"tickfont\":{\"color\":\"#4D5663\"},\"title\":{\"font\":{\"color\":\"#4D5663\"},\"text\":\"\"},\"zerolinecolor\":\"#E1E5ED\"},\"xaxis10\":{\"anchor\":\"y10\",\"domain\":[0.2625,0.475],\"gridcolor\":\"#E1E5ED\",\"showgrid\":false,\"tickfont\":{\"color\":\"#4D5663\"},\"title\":{\"font\":{\"color\":\"#4D5663\"},\"text\":\"\"},\"zerolinecolor\":\"#E1E5ED\"},\"xaxis11\":{\"anchor\":\"y11\",\"domain\":[0.525,0.7375],\"gridcolor\":\"#E1E5ED\",\"showgrid\":false,\"tickfont\":{\"color\":\"#4D5663\"},\"title\":{\"font\":{\"color\":\"#4D5663\"},\"text\":\"\"},\"zerolinecolor\":\"#E1E5ED\"},\"xaxis12\":{\"anchor\":\"y12\",\"domain\":[0.7875,1.0],\"gridcolor\":\"#E1E5ED\",\"showgrid\":false,\"tickfont\":{\"color\":\"#4D5663\"},\"title\":{\"font\":{\"color\":\"#4D5663\"},\"text\":\"\"},\"zerolinecolor\":\"#E1E5ED\"},\"xaxis13\":{\"anchor\":\"y13\",\"domain\":[0.0,0.2125],\"gridcolor\":\"#E1E5ED\",\"showgrid\":false,\"tickfont\":{\"color\":\"#4D5663\"},\"title\":{\"font\":{\"color\":\"#4D5663\"},\"text\":\"\"},\"zerolinecolor\":\"#E1E5ED\"},\"xaxis14\":{\"anchor\":\"y14\",\"domain\":[0.2625,0.475],\"gridcolor\":\"#E1E5ED\",\"showgrid\":false,\"tickfont\":{\"color\":\"#4D5663\"},\"title\":{\"font\":{\"color\":\"#4D5663\"},\"text\":\"\"},\"zerolinecolor\":\"#E1E5ED\"},\"xaxis15\":{\"anchor\":\"y15\",\"domain\":[0.525,0.7375],\"gridcolor\":\"#E1E5ED\",\"showgrid\":false,\"tickfont\":{\"color\":\"#4D5663\"},\"title\":{\"font\":{\"color\":\"#4D5663\"},\"text\":\"\"},\"zerolinecolor\":\"#E1E5ED\"},\"xaxis16\":{\"anchor\":\"y16\",\"domain\":[0.7875,1.0],\"gridcolor\":\"#E1E5ED\",\"showgrid\":false,\"tickfont\":{\"color\":\"#4D5663\"},\"title\":{\"font\":{\"color\":\"#4D5663\"},\"text\":\"\"},\"zerolinecolor\":\"#E1E5ED\"},\"xaxis2\":{\"anchor\":\"y2\",\"domain\":[0.2625,0.475],\"gridcolor\":\"#E1E5ED\",\"showgrid\":false,\"tickfont\":{\"color\":\"#4D5663\"},\"title\":{\"font\":{\"color\":\"#4D5663\"},\"text\":\"\"},\"zerolinecolor\":\"#E1E5ED\"},\"xaxis3\":{\"anchor\":\"y3\",\"domain\":[0.525,0.7375],\"gridcolor\":\"#E1E5ED\",\"showgrid\":false,\"tickfont\":{\"color\":\"#4D5663\"},\"title\":{\"font\":{\"color\":\"#4D5663\"},\"text\":\"\"},\"zerolinecolor\":\"#E1E5ED\"},\"xaxis4\":{\"anchor\":\"y4\",\"domain\":[0.7875,1.0],\"gridcolor\":\"#E1E5ED\",\"showgrid\":false,\"tickfont\":{\"color\":\"#4D5663\"},\"title\":{\"font\":{\"color\":\"#4D5663\"},\"text\":\"\"},\"zerolinecolor\":\"#E1E5ED\"},\"xaxis5\":{\"anchor\":\"y5\",\"domain\":[0.0,0.2125],\"gridcolor\":\"#E1E5ED\",\"showgrid\":false,\"tickfont\":{\"color\":\"#4D5663\"},\"title\":{\"font\":{\"color\":\"#4D5663\"},\"text\":\"\"},\"zerolinecolor\":\"#E1E5ED\"},\"xaxis6\":{\"anchor\":\"y6\",\"domain\":[0.2625,0.475],\"gridcolor\":\"#E1E5ED\",\"showgrid\":false,\"tickfont\":{\"color\":\"#4D5663\"},\"title\":{\"font\":{\"color\":\"#4D5663\"},\"text\":\"\"},\"zerolinecolor\":\"#E1E5ED\"},\"xaxis7\":{\"anchor\":\"y7\",\"domain\":[0.525,0.7375],\"gridcolor\":\"#E1E5ED\",\"showgrid\":false,\"tickfont\":{\"color\":\"#4D5663\"},\"title\":{\"font\":{\"color\":\"#4D5663\"},\"text\":\"\"},\"zerolinecolor\":\"#E1E5ED\"},\"xaxis8\":{\"anchor\":\"y8\",\"domain\":[0.7875,1.0],\"gridcolor\":\"#E1E5ED\",\"showgrid\":false,\"tickfont\":{\"color\":\"#4D5663\"},\"title\":{\"font\":{\"color\":\"#4D5663\"},\"text\":\"\"},\"zerolinecolor\":\"#E1E5ED\"},\"xaxis9\":{\"anchor\":\"y9\",\"domain\":[0.0,0.2125],\"gridcolor\":\"#E1E5ED\",\"showgrid\":false,\"tickfont\":{\"color\":\"#4D5663\"},\"title\":{\"font\":{\"color\":\"#4D5663\"},\"text\":\"\"},\"zerolinecolor\":\"#E1E5ED\"},\"yaxis\":{\"anchor\":\"x\",\"domain\":[0.8025,1.0],\"gridcolor\":\"#E1E5ED\",\"showgrid\":false,\"tickfont\":{\"color\":\"#4D5663\"},\"title\":{\"font\":{\"color\":\"#4D5663\"},\"text\":\"\"},\"zerolinecolor\":\"#E1E5ED\"},\"yaxis10\":{\"anchor\":\"x10\",\"domain\":[0.2675,0.465],\"gridcolor\":\"#E1E5ED\",\"showgrid\":false,\"tickfont\":{\"color\":\"#4D5663\"},\"title\":{\"font\":{\"color\":\"#4D5663\"},\"text\":\"\"},\"zerolinecolor\":\"#E1E5ED\"},\"yaxis11\":{\"anchor\":\"x11\",\"domain\":[0.2675,0.465],\"gridcolor\":\"#E1E5ED\",\"showgrid\":false,\"tickfont\":{\"color\":\"#4D5663\"},\"title\":{\"font\":{\"color\":\"#4D5663\"},\"text\":\"\"},\"zerolinecolor\":\"#E1E5ED\"},\"yaxis12\":{\"anchor\":\"x12\",\"domain\":[0.2675,0.465],\"gridcolor\":\"#E1E5ED\",\"showgrid\":false,\"tickfont\":{\"color\":\"#4D5663\"},\"title\":{\"font\":{\"color\":\"#4D5663\"},\"text\":\"\"},\"zerolinecolor\":\"#E1E5ED\"},\"yaxis13\":{\"anchor\":\"x13\",\"domain\":[0.0,0.1975],\"gridcolor\":\"#E1E5ED\",\"showgrid\":false,\"tickfont\":{\"color\":\"#4D5663\"},\"title\":{\"font\":{\"color\":\"#4D5663\"},\"text\":\"\"},\"zerolinecolor\":\"#E1E5ED\"},\"yaxis14\":{\"anchor\":\"x14\",\"domain\":[0.0,0.1975],\"gridcolor\":\"#E1E5ED\",\"showgrid\":false,\"tickfont\":{\"color\":\"#4D5663\"},\"title\":{\"font\":{\"color\":\"#4D5663\"},\"text\":\"\"},\"zerolinecolor\":\"#E1E5ED\"},\"yaxis15\":{\"anchor\":\"x15\",\"domain\":[0.0,0.1975],\"gridcolor\":\"#E1E5ED\",\"showgrid\":false,\"tickfont\":{\"color\":\"#4D5663\"},\"title\":{\"font\":{\"color\":\"#4D5663\"},\"text\":\"\"},\"zerolinecolor\":\"#E1E5ED\"},\"yaxis16\":{\"anchor\":\"x16\",\"domain\":[0.0,0.1975],\"gridcolor\":\"#E1E5ED\",\"showgrid\":false,\"tickfont\":{\"color\":\"#4D5663\"},\"title\":{\"font\":{\"color\":\"#4D5663\"},\"text\":\"\"},\"zerolinecolor\":\"#E1E5ED\"},\"yaxis2\":{\"anchor\":\"x2\",\"domain\":[0.8025,1.0],\"gridcolor\":\"#E1E5ED\",\"showgrid\":false,\"tickfont\":{\"color\":\"#4D5663\"},\"title\":{\"font\":{\"color\":\"#4D5663\"},\"text\":\"\"},\"zerolinecolor\":\"#E1E5ED\"},\"yaxis3\":{\"anchor\":\"x3\",\"domain\":[0.8025,1.0],\"gridcolor\":\"#E1E5ED\",\"showgrid\":false,\"tickfont\":{\"color\":\"#4D5663\"},\"title\":{\"font\":{\"color\":\"#4D5663\"},\"text\":\"\"},\"zerolinecolor\":\"#E1E5ED\"},\"yaxis4\":{\"anchor\":\"x4\",\"domain\":[0.8025,1.0],\"gridcolor\":\"#E1E5ED\",\"showgrid\":false,\"tickfont\":{\"color\":\"#4D5663\"},\"title\":{\"font\":{\"color\":\"#4D5663\"},\"text\":\"\"},\"zerolinecolor\":\"#E1E5ED\"},\"yaxis5\":{\"anchor\":\"x5\",\"domain\":[0.535,0.7325],\"gridcolor\":\"#E1E5ED\",\"showgrid\":false,\"tickfont\":{\"color\":\"#4D5663\"},\"title\":{\"font\":{\"color\":\"#4D5663\"},\"text\":\"\"},\"zerolinecolor\":\"#E1E5ED\"},\"yaxis6\":{\"anchor\":\"x6\",\"domain\":[0.535,0.7325],\"gridcolor\":\"#E1E5ED\",\"showgrid\":false,\"tickfont\":{\"color\":\"#4D5663\"},\"title\":{\"font\":{\"color\":\"#4D5663\"},\"text\":\"\"},\"zerolinecolor\":\"#E1E5ED\"},\"yaxis7\":{\"anchor\":\"x7\",\"domain\":[0.535,0.7325],\"gridcolor\":\"#E1E5ED\",\"showgrid\":false,\"tickfont\":{\"color\":\"#4D5663\"},\"title\":{\"font\":{\"color\":\"#4D5663\"},\"text\":\"\"},\"zerolinecolor\":\"#E1E5ED\"},\"yaxis8\":{\"anchor\":\"x8\",\"domain\":[0.535,0.7325],\"gridcolor\":\"#E1E5ED\",\"showgrid\":false,\"tickfont\":{\"color\":\"#4D5663\"},\"title\":{\"font\":{\"color\":\"#4D5663\"},\"text\":\"\"},\"zerolinecolor\":\"#E1E5ED\"},\"yaxis9\":{\"anchor\":\"x9\",\"domain\":[0.2675,0.465],\"gridcolor\":\"#E1E5ED\",\"showgrid\":false,\"tickfont\":{\"color\":\"#4D5663\"},\"title\":{\"font\":{\"color\":\"#4D5663\"},\"text\":\"\"},\"zerolinecolor\":\"#E1E5ED\"}},                        {\"showLink\": true, \"linkText\": \"Export to plot.ly\", \"plotlyServerURL\": \"https://plot.ly\", \"responsive\": true}                    ).then(function(){\n                            \nvar gd = document.getElementById('5a758680-ee22-45e3-8212-1db4fbe192f6');\nvar x = new MutationObserver(function (mutations, observer) {{\n        var display = window.getComputedStyle(gd).display;\n        if (!display || display === 'none') {{\n            console.log([gd, 'removed!']);\n            Plotly.purge(gd);\n            observer.disconnect();\n        }}\n}});\n\n// Listen for the removal of the full notebook cells\nvar notebookContainer = gd.closest('#notebook-container');\nif (notebookContainer) {{\n    x.observe(notebookContainer, {childList: true});\n}}\n\n// Listen for the clearing of the current output cell\nvar outputEl = gd.closest('.output');\nif (outputEl) {{\n    x.observe(outputEl, {childList: true});\n}}\n\n                        })                };                });            </script>        </div>"
     },
     "metadata": {},
     "output_type": "display_data"
    }
   ],
   "source": [
    "df[['Y', 'C', 'I', 'G']].scatter_matrix()"
   ],
   "metadata": {
    "collapsed": false,
    "pycharm": {
     "name": "#%%\n"
    }
   }
  },
  {
   "cell_type": "code",
   "execution_count": 434,
   "metadata": {
    "pycharm": {
     "name": "#%%\n"
    }
   },
   "outputs": [
    {
     "data": {
      "application/vnd.plotly.v1+json": {
       "config": {
        "linkText": "Export to plot.ly",
        "plotlyServerURL": "https://plot.ly",
        "showLink": true
       },
       "data": [
        {
         "line": {
          "color": "rgba(255, 153, 51, 1.0)",
          "dash": "solid",
          "shape": "linear",
          "width": 1.3
         },
         "marker": {
          "size": 8,
          "symbol": "circle"
         },
         "mode": "markers",
         "name": "C",
         "text": "",
         "type": "scatter",
         "x": [
          null,
          5768.0160721365,
          6237.3530632452,
          6708.52560816992,
          7382.10326042145,
          7153.01202453881,
          7713.42072421103,
          8498.61416812063,
          9561.68222048448,
          10855.1122767574,
          12356.7364947,
          14079.544947471599,
          15827.345171430401,
          17934.843345103298,
          19836.4065002647,
          21049.9193673175,
          21888.061478996602,
          23515.9153209016,
          25127.39037491,
          27081.619804946098,
          29669.044703281503,
          32669.5398084426,
          36203.1221007069,
          38774.309407593006,
          42091.2963495683,
          45792.1258337604,
          45506.9090100421,
          46118.0072343257,
          51097.723540710096,
          56853.243727253,
          62628.7432111009,
          68779.54285209891,
          73379.864304359,
          78252.0595160596,
          87221.9168273286,
          96901.4980813798,
          103879.285314713,
          111640.501036364,
          120928.89753293499,
          118274.051330973,
          125044.067991979,
          136346.984801619,
          134889.41387525998,
          140169.80801635198,
          146527.60164921702,
          160916.01382534398,
          172757.877474653,
          188314.972645788,
          205304.99996321302,
          209140.601456434,
          209393.625490149,
          239809.387605427,
          255008.196791322,
          266385.665325181,
          279271.535506458,
          290269.25619507395,
          298944.012931308,
          308895.962132365,
          322859.23180541495,
          334151.135292159,
          338646.194792894
         ],
         "y": [
          5592.360813056414,
          6196.316092606512,
          6477.773333662827,
          6869.376900112365,
          6615.987338347547,
          6880.962796474083,
          7401.218333159515,
          8210.144405367051,
          9074.529635631332,
          9786.07423335992,
          11119.854235893657,
          12399.407918685074,
          13190.555261738955,
          14357.142074400863,
          14878.84826953875,
          15443.306264260475,
          16132.807550722375,
          17083.12828371279,
          18088.626933641655,
          18929.432079551432,
          19650.01543971948,
          20748.687726621876,
          21894.0455071961,
          22910.326445985265,
          24795.655277145695,
          26460.576843985276,
          27326.244710875922,
          29965.35772955545,
          32019.03252410973,
          34796.42491865579,
          37206.18668586829,
          38517.35636648465,
          40812.51800612965,
          45909.50204094694,
          49554.45193313509,
          51025.44405287252,
          55123.07911658631,
          58698.887057711116,
          57890.47935864027,
          64130.65033911872,
          71390.43776842028,
          78040.13299755832,
          81330.46668111297,
          83446.65600091543,
          84186.58604011402,
          85938.44159906569,
          90415.72790591742,
          94239.28752909912,
          104704.43882070063,
          102671.7575088894,
          110382.83828382817,
          116927.51270564942,
          122974.05199365722,
          131474.55383110663,
          137051.82911417627,
          141546.96756592413,
          144473.39259052844,
          146496.8135230113,
          148811.6193174522,
          155587.3592021913,
          145537.15193369778
         ]
        }
       ],
       "layout": {
        "legend": {
         "bgcolor": "#FFFFFF",
         "font": {
          "color": "#4D5663"
         }
        },
        "paper_bgcolor": "#FFFFFF",
        "plot_bgcolor": "#FFFFFF",
        "template": {
         "data": {
          "bar": [
           {
            "error_x": {
             "color": "#2a3f5f"
            },
            "error_y": {
             "color": "#2a3f5f"
            },
            "marker": {
             "line": {
              "color": "#E5ECF6",
              "width": 0.5
             },
             "pattern": {
              "fillmode": "overlay",
              "size": 10,
              "solidity": 0.2
             }
            },
            "type": "bar"
           }
          ],
          "barpolar": [
           {
            "marker": {
             "line": {
              "color": "#E5ECF6",
              "width": 0.5
             },
             "pattern": {
              "fillmode": "overlay",
              "size": 10,
              "solidity": 0.2
             }
            },
            "type": "barpolar"
           }
          ],
          "carpet": [
           {
            "aaxis": {
             "endlinecolor": "#2a3f5f",
             "gridcolor": "white",
             "linecolor": "white",
             "minorgridcolor": "white",
             "startlinecolor": "#2a3f5f"
            },
            "baxis": {
             "endlinecolor": "#2a3f5f",
             "gridcolor": "white",
             "linecolor": "white",
             "minorgridcolor": "white",
             "startlinecolor": "#2a3f5f"
            },
            "type": "carpet"
           }
          ],
          "choropleth": [
           {
            "colorbar": {
             "outlinewidth": 0,
             "ticks": ""
            },
            "type": "choropleth"
           }
          ],
          "contour": [
           {
            "colorbar": {
             "outlinewidth": 0,
             "ticks": ""
            },
            "colorscale": [
             [
              0.0,
              "#0d0887"
             ],
             [
              0.1111111111111111,
              "#46039f"
             ],
             [
              0.2222222222222222,
              "#7201a8"
             ],
             [
              0.3333333333333333,
              "#9c179e"
             ],
             [
              0.4444444444444444,
              "#bd3786"
             ],
             [
              0.5555555555555556,
              "#d8576b"
             ],
             [
              0.6666666666666666,
              "#ed7953"
             ],
             [
              0.7777777777777778,
              "#fb9f3a"
             ],
             [
              0.8888888888888888,
              "#fdca26"
             ],
             [
              1.0,
              "#f0f921"
             ]
            ],
            "type": "contour"
           }
          ],
          "contourcarpet": [
           {
            "colorbar": {
             "outlinewidth": 0,
             "ticks": ""
            },
            "type": "contourcarpet"
           }
          ],
          "heatmap": [
           {
            "colorbar": {
             "outlinewidth": 0,
             "ticks": ""
            },
            "colorscale": [
             [
              0.0,
              "#0d0887"
             ],
             [
              0.1111111111111111,
              "#46039f"
             ],
             [
              0.2222222222222222,
              "#7201a8"
             ],
             [
              0.3333333333333333,
              "#9c179e"
             ],
             [
              0.4444444444444444,
              "#bd3786"
             ],
             [
              0.5555555555555556,
              "#d8576b"
             ],
             [
              0.6666666666666666,
              "#ed7953"
             ],
             [
              0.7777777777777778,
              "#fb9f3a"
             ],
             [
              0.8888888888888888,
              "#fdca26"
             ],
             [
              1.0,
              "#f0f921"
             ]
            ],
            "type": "heatmap"
           }
          ],
          "heatmapgl": [
           {
            "colorbar": {
             "outlinewidth": 0,
             "ticks": ""
            },
            "colorscale": [
             [
              0.0,
              "#0d0887"
             ],
             [
              0.1111111111111111,
              "#46039f"
             ],
             [
              0.2222222222222222,
              "#7201a8"
             ],
             [
              0.3333333333333333,
              "#9c179e"
             ],
             [
              0.4444444444444444,
              "#bd3786"
             ],
             [
              0.5555555555555556,
              "#d8576b"
             ],
             [
              0.6666666666666666,
              "#ed7953"
             ],
             [
              0.7777777777777778,
              "#fb9f3a"
             ],
             [
              0.8888888888888888,
              "#fdca26"
             ],
             [
              1.0,
              "#f0f921"
             ]
            ],
            "type": "heatmapgl"
           }
          ],
          "histogram": [
           {
            "marker": {
             "pattern": {
              "fillmode": "overlay",
              "size": 10,
              "solidity": 0.2
             }
            },
            "type": "histogram"
           }
          ],
          "histogram2d": [
           {
            "colorbar": {
             "outlinewidth": 0,
             "ticks": ""
            },
            "colorscale": [
             [
              0.0,
              "#0d0887"
             ],
             [
              0.1111111111111111,
              "#46039f"
             ],
             [
              0.2222222222222222,
              "#7201a8"
             ],
             [
              0.3333333333333333,
              "#9c179e"
             ],
             [
              0.4444444444444444,
              "#bd3786"
             ],
             [
              0.5555555555555556,
              "#d8576b"
             ],
             [
              0.6666666666666666,
              "#ed7953"
             ],
             [
              0.7777777777777778,
              "#fb9f3a"
             ],
             [
              0.8888888888888888,
              "#fdca26"
             ],
             [
              1.0,
              "#f0f921"
             ]
            ],
            "type": "histogram2d"
           }
          ],
          "histogram2dcontour": [
           {
            "colorbar": {
             "outlinewidth": 0,
             "ticks": ""
            },
            "colorscale": [
             [
              0.0,
              "#0d0887"
             ],
             [
              0.1111111111111111,
              "#46039f"
             ],
             [
              0.2222222222222222,
              "#7201a8"
             ],
             [
              0.3333333333333333,
              "#9c179e"
             ],
             [
              0.4444444444444444,
              "#bd3786"
             ],
             [
              0.5555555555555556,
              "#d8576b"
             ],
             [
              0.6666666666666666,
              "#ed7953"
             ],
             [
              0.7777777777777778,
              "#fb9f3a"
             ],
             [
              0.8888888888888888,
              "#fdca26"
             ],
             [
              1.0,
              "#f0f921"
             ]
            ],
            "type": "histogram2dcontour"
           }
          ],
          "mesh3d": [
           {
            "colorbar": {
             "outlinewidth": 0,
             "ticks": ""
            },
            "type": "mesh3d"
           }
          ],
          "parcoords": [
           {
            "line": {
             "colorbar": {
              "outlinewidth": 0,
              "ticks": ""
             }
            },
            "type": "parcoords"
           }
          ],
          "pie": [
           {
            "automargin": true,
            "type": "pie"
           }
          ],
          "scatter": [
           {
            "marker": {
             "colorbar": {
              "outlinewidth": 0,
              "ticks": ""
             }
            },
            "type": "scatter"
           }
          ],
          "scatter3d": [
           {
            "line": {
             "colorbar": {
              "outlinewidth": 0,
              "ticks": ""
             }
            },
            "marker": {
             "colorbar": {
              "outlinewidth": 0,
              "ticks": ""
             }
            },
            "type": "scatter3d"
           }
          ],
          "scattercarpet": [
           {
            "marker": {
             "colorbar": {
              "outlinewidth": 0,
              "ticks": ""
             }
            },
            "type": "scattercarpet"
           }
          ],
          "scattergeo": [
           {
            "marker": {
             "colorbar": {
              "outlinewidth": 0,
              "ticks": ""
             }
            },
            "type": "scattergeo"
           }
          ],
          "scattergl": [
           {
            "marker": {
             "colorbar": {
              "outlinewidth": 0,
              "ticks": ""
             }
            },
            "type": "scattergl"
           }
          ],
          "scattermapbox": [
           {
            "marker": {
             "colorbar": {
              "outlinewidth": 0,
              "ticks": ""
             }
            },
            "type": "scattermapbox"
           }
          ],
          "scatterpolar": [
           {
            "marker": {
             "colorbar": {
              "outlinewidth": 0,
              "ticks": ""
             }
            },
            "type": "scatterpolar"
           }
          ],
          "scatterpolargl": [
           {
            "marker": {
             "colorbar": {
              "outlinewidth": 0,
              "ticks": ""
             }
            },
            "type": "scatterpolargl"
           }
          ],
          "scatterternary": [
           {
            "marker": {
             "colorbar": {
              "outlinewidth": 0,
              "ticks": ""
             }
            },
            "type": "scatterternary"
           }
          ],
          "surface": [
           {
            "colorbar": {
             "outlinewidth": 0,
             "ticks": ""
            },
            "colorscale": [
             [
              0.0,
              "#0d0887"
             ],
             [
              0.1111111111111111,
              "#46039f"
             ],
             [
              0.2222222222222222,
              "#7201a8"
             ],
             [
              0.3333333333333333,
              "#9c179e"
             ],
             [
              0.4444444444444444,
              "#bd3786"
             ],
             [
              0.5555555555555556,
              "#d8576b"
             ],
             [
              0.6666666666666666,
              "#ed7953"
             ],
             [
              0.7777777777777778,
              "#fb9f3a"
             ],
             [
              0.8888888888888888,
              "#fdca26"
             ],
             [
              1.0,
              "#f0f921"
             ]
            ],
            "type": "surface"
           }
          ],
          "table": [
           {
            "cells": {
             "fill": {
              "color": "#EBF0F8"
             },
             "line": {
              "color": "white"
             }
            },
            "header": {
             "fill": {
              "color": "#C8D4E3"
             },
             "line": {
              "color": "white"
             }
            },
            "type": "table"
           }
          ]
         },
         "layout": {
          "annotationdefaults": {
           "arrowcolor": "#2a3f5f",
           "arrowhead": 0,
           "arrowwidth": 1
          },
          "autotypenumbers": "strict",
          "coloraxis": {
           "colorbar": {
            "outlinewidth": 0,
            "ticks": ""
           }
          },
          "colorscale": {
           "diverging": [
            [
             0,
             "#8e0152"
            ],
            [
             0.1,
             "#c51b7d"
            ],
            [
             0.2,
             "#de77ae"
            ],
            [
             0.3,
             "#f1b6da"
            ],
            [
             0.4,
             "#fde0ef"
            ],
            [
             0.5,
             "#f7f7f7"
            ],
            [
             0.6,
             "#e6f5d0"
            ],
            [
             0.7,
             "#b8e186"
            ],
            [
             0.8,
             "#7fbc41"
            ],
            [
             0.9,
             "#4d9221"
            ],
            [
             1,
             "#276419"
            ]
           ],
           "sequential": [
            [
             0.0,
             "#0d0887"
            ],
            [
             0.1111111111111111,
             "#46039f"
            ],
            [
             0.2222222222222222,
             "#7201a8"
            ],
            [
             0.3333333333333333,
             "#9c179e"
            ],
            [
             0.4444444444444444,
             "#bd3786"
            ],
            [
             0.5555555555555556,
             "#d8576b"
            ],
            [
             0.6666666666666666,
             "#ed7953"
            ],
            [
             0.7777777777777778,
             "#fb9f3a"
            ],
            [
             0.8888888888888888,
             "#fdca26"
            ],
            [
             1.0,
             "#f0f921"
            ]
           ],
           "sequentialminus": [
            [
             0.0,
             "#0d0887"
            ],
            [
             0.1111111111111111,
             "#46039f"
            ],
            [
             0.2222222222222222,
             "#7201a8"
            ],
            [
             0.3333333333333333,
             "#9c179e"
            ],
            [
             0.4444444444444444,
             "#bd3786"
            ],
            [
             0.5555555555555556,
             "#d8576b"
            ],
            [
             0.6666666666666666,
             "#ed7953"
            ],
            [
             0.7777777777777778,
             "#fb9f3a"
            ],
            [
             0.8888888888888888,
             "#fdca26"
            ],
            [
             1.0,
             "#f0f921"
            ]
           ]
          },
          "colorway": [
           "#636efa",
           "#EF553B",
           "#00cc96",
           "#ab63fa",
           "#FFA15A",
           "#19d3f3",
           "#FF6692",
           "#B6E880",
           "#FF97FF",
           "#FECB52"
          ],
          "font": {
           "color": "#2a3f5f"
          },
          "geo": {
           "bgcolor": "white",
           "lakecolor": "white",
           "landcolor": "#E5ECF6",
           "showlakes": true,
           "showland": true,
           "subunitcolor": "white"
          },
          "hoverlabel": {
           "align": "left"
          },
          "hovermode": "closest",
          "mapbox": {
           "style": "light"
          },
          "paper_bgcolor": "white",
          "plot_bgcolor": "#E5ECF6",
          "polar": {
           "angularaxis": {
            "gridcolor": "white",
            "linecolor": "white",
            "ticks": ""
           },
           "bgcolor": "#E5ECF6",
           "radialaxis": {
            "gridcolor": "white",
            "linecolor": "white",
            "ticks": ""
           }
          },
          "scene": {
           "xaxis": {
            "backgroundcolor": "#E5ECF6",
            "gridcolor": "white",
            "gridwidth": 2,
            "linecolor": "white",
            "showbackground": true,
            "ticks": "",
            "zerolinecolor": "white"
           },
           "yaxis": {
            "backgroundcolor": "#E5ECF6",
            "gridcolor": "white",
            "gridwidth": 2,
            "linecolor": "white",
            "showbackground": true,
            "ticks": "",
            "zerolinecolor": "white"
           },
           "zaxis": {
            "backgroundcolor": "#E5ECF6",
            "gridcolor": "white",
            "gridwidth": 2,
            "linecolor": "white",
            "showbackground": true,
            "ticks": "",
            "zerolinecolor": "white"
           }
          },
          "shapedefaults": {
           "line": {
            "color": "#2a3f5f"
           }
          },
          "ternary": {
           "aaxis": {
            "gridcolor": "white",
            "linecolor": "white",
            "ticks": ""
           },
           "baxis": {
            "gridcolor": "white",
            "linecolor": "white",
            "ticks": ""
           },
           "bgcolor": "#E5ECF6",
           "caxis": {
            "gridcolor": "white",
            "linecolor": "white",
            "ticks": ""
           }
          },
          "title": {
           "x": 0.05
          },
          "xaxis": {
           "automargin": true,
           "gridcolor": "white",
           "linecolor": "white",
           "ticks": "",
           "title": {
            "standoff": 15
           },
           "zerolinecolor": "white",
           "zerolinewidth": 2
          },
          "yaxis": {
           "automargin": true,
           "gridcolor": "white",
           "linecolor": "white",
           "ticks": "",
           "title": {
            "standoff": 15
           },
           "zerolinecolor": "white",
           "zerolinewidth": 2
          }
         }
        },
        "title": {
         "font": {
          "color": "#4D5663"
         }
        },
        "xaxis": {
         "gridcolor": "#E1E5ED",
         "showgrid": true,
         "tickfont": {
          "color": "#4D5663"
         },
         "title": {
          "font": {
           "color": "#4D5663"
          },
          "text": "ВВП(пред. период), млн. $"
         },
         "zerolinecolor": "#E1E5ED"
        },
        "yaxis": {
         "gridcolor": "#E1E5ED",
         "showgrid": true,
         "tickfont": {
          "color": "#4D5663"
         },
         "title": {
          "font": {
           "color": "#4D5663"
          },
          "text": "Потребление, млн. $"
         },
         "zerolinecolor": "#E1E5ED"
        }
       }
      },
      "text/html": "<div>                            <div id=\"b38ac797-67b7-464c-9e24-44febcad4de7\" class=\"plotly-graph-div\" style=\"height:525px; width:100%;\"></div>            <script type=\"text/javascript\">                require([\"plotly\"], function(Plotly) {                    window.PLOTLYENV=window.PLOTLYENV || {};\n                    window.PLOTLYENV.BASE_URL='https://plot.ly';                                    if (document.getElementById(\"b38ac797-67b7-464c-9e24-44febcad4de7\")) {                    Plotly.newPlot(                        \"b38ac797-67b7-464c-9e24-44febcad4de7\",                        [{\"line\":{\"color\":\"rgba(255, 153, 51, 1.0)\",\"dash\":\"solid\",\"shape\":\"linear\",\"width\":1.3},\"marker\":{\"size\":8,\"symbol\":\"circle\"},\"mode\":\"markers\",\"name\":\"C\",\"text\":\"\",\"type\":\"scatter\",\"x\":[null,5768.0160721365,6237.3530632452,6708.52560816992,7382.10326042145,7153.01202453881,7713.42072421103,8498.61416812063,9561.68222048448,10855.1122767574,12356.7364947,14079.544947471599,15827.345171430401,17934.843345103298,19836.4065002647,21049.9193673175,21888.061478996602,23515.9153209016,25127.39037491,27081.619804946098,29669.044703281503,32669.5398084426,36203.1221007069,38774.309407593006,42091.2963495683,45792.1258337604,45506.9090100421,46118.0072343257,51097.723540710096,56853.243727253,62628.7432111009,68779.54285209891,73379.864304359,78252.0595160596,87221.9168273286,96901.4980813798,103879.285314713,111640.501036364,120928.89753293499,118274.051330973,125044.067991979,136346.984801619,134889.41387525998,140169.80801635198,146527.60164921702,160916.01382534398,172757.877474653,188314.972645788,205304.99996321302,209140.601456434,209393.625490149,239809.387605427,255008.196791322,266385.665325181,279271.535506458,290269.25619507395,298944.012931308,308895.962132365,322859.23180541495,334151.135292159,338646.194792894],\"y\":[5592.360813056414,6196.316092606512,6477.773333662827,6869.376900112365,6615.987338347547,6880.962796474083,7401.218333159515,8210.144405367051,9074.529635631332,9786.07423335992,11119.854235893657,12399.407918685074,13190.555261738955,14357.142074400863,14878.84826953875,15443.306264260475,16132.807550722375,17083.12828371279,18088.626933641655,18929.432079551432,19650.01543971948,20748.687726621876,21894.0455071961,22910.326445985265,24795.655277145695,26460.576843985276,27326.244710875922,29965.35772955545,32019.03252410973,34796.42491865579,37206.18668586829,38517.35636648465,40812.51800612965,45909.50204094694,49554.45193313509,51025.44405287252,55123.07911658631,58698.887057711116,57890.47935864027,64130.65033911872,71390.43776842028,78040.13299755832,81330.46668111297,83446.65600091543,84186.58604011402,85938.44159906569,90415.72790591742,94239.28752909912,104704.43882070063,102671.7575088894,110382.83828382817,116927.51270564942,122974.05199365722,131474.55383110663,137051.82911417627,141546.96756592413,144473.39259052844,146496.8135230113,148811.6193174522,155587.3592021913,145537.15193369778]}],                        {\"legend\":{\"bgcolor\":\"#FFFFFF\",\"font\":{\"color\":\"#4D5663\"}},\"paper_bgcolor\":\"#FFFFFF\",\"plot_bgcolor\":\"#FFFFFF\",\"template\":{\"data\":{\"bar\":[{\"error_x\":{\"color\":\"#2a3f5f\"},\"error_y\":{\"color\":\"#2a3f5f\"},\"marker\":{\"line\":{\"color\":\"#E5ECF6\",\"width\":0.5},\"pattern\":{\"fillmode\":\"overlay\",\"size\":10,\"solidity\":0.2}},\"type\":\"bar\"}],\"barpolar\":[{\"marker\":{\"line\":{\"color\":\"#E5ECF6\",\"width\":0.5},\"pattern\":{\"fillmode\":\"overlay\",\"size\":10,\"solidity\":0.2}},\"type\":\"barpolar\"}],\"carpet\":[{\"aaxis\":{\"endlinecolor\":\"#2a3f5f\",\"gridcolor\":\"white\",\"linecolor\":\"white\",\"minorgridcolor\":\"white\",\"startlinecolor\":\"#2a3f5f\"},\"baxis\":{\"endlinecolor\":\"#2a3f5f\",\"gridcolor\":\"white\",\"linecolor\":\"white\",\"minorgridcolor\":\"white\",\"startlinecolor\":\"#2a3f5f\"},\"type\":\"carpet\"}],\"choropleth\":[{\"colorbar\":{\"outlinewidth\":0,\"ticks\":\"\"},\"type\":\"choropleth\"}],\"contour\":[{\"colorbar\":{\"outlinewidth\":0,\"ticks\":\"\"},\"colorscale\":[[0.0,\"#0d0887\"],[0.1111111111111111,\"#46039f\"],[0.2222222222222222,\"#7201a8\"],[0.3333333333333333,\"#9c179e\"],[0.4444444444444444,\"#bd3786\"],[0.5555555555555556,\"#d8576b\"],[0.6666666666666666,\"#ed7953\"],[0.7777777777777778,\"#fb9f3a\"],[0.8888888888888888,\"#fdca26\"],[1.0,\"#f0f921\"]],\"type\":\"contour\"}],\"contourcarpet\":[{\"colorbar\":{\"outlinewidth\":0,\"ticks\":\"\"},\"type\":\"contourcarpet\"}],\"heatmap\":[{\"colorbar\":{\"outlinewidth\":0,\"ticks\":\"\"},\"colorscale\":[[0.0,\"#0d0887\"],[0.1111111111111111,\"#46039f\"],[0.2222222222222222,\"#7201a8\"],[0.3333333333333333,\"#9c179e\"],[0.4444444444444444,\"#bd3786\"],[0.5555555555555556,\"#d8576b\"],[0.6666666666666666,\"#ed7953\"],[0.7777777777777778,\"#fb9f3a\"],[0.8888888888888888,\"#fdca26\"],[1.0,\"#f0f921\"]],\"type\":\"heatmap\"}],\"heatmapgl\":[{\"colorbar\":{\"outlinewidth\":0,\"ticks\":\"\"},\"colorscale\":[[0.0,\"#0d0887\"],[0.1111111111111111,\"#46039f\"],[0.2222222222222222,\"#7201a8\"],[0.3333333333333333,\"#9c179e\"],[0.4444444444444444,\"#bd3786\"],[0.5555555555555556,\"#d8576b\"],[0.6666666666666666,\"#ed7953\"],[0.7777777777777778,\"#fb9f3a\"],[0.8888888888888888,\"#fdca26\"],[1.0,\"#f0f921\"]],\"type\":\"heatmapgl\"}],\"histogram\":[{\"marker\":{\"pattern\":{\"fillmode\":\"overlay\",\"size\":10,\"solidity\":0.2}},\"type\":\"histogram\"}],\"histogram2d\":[{\"colorbar\":{\"outlinewidth\":0,\"ticks\":\"\"},\"colorscale\":[[0.0,\"#0d0887\"],[0.1111111111111111,\"#46039f\"],[0.2222222222222222,\"#7201a8\"],[0.3333333333333333,\"#9c179e\"],[0.4444444444444444,\"#bd3786\"],[0.5555555555555556,\"#d8576b\"],[0.6666666666666666,\"#ed7953\"],[0.7777777777777778,\"#fb9f3a\"],[0.8888888888888888,\"#fdca26\"],[1.0,\"#f0f921\"]],\"type\":\"histogram2d\"}],\"histogram2dcontour\":[{\"colorbar\":{\"outlinewidth\":0,\"ticks\":\"\"},\"colorscale\":[[0.0,\"#0d0887\"],[0.1111111111111111,\"#46039f\"],[0.2222222222222222,\"#7201a8\"],[0.3333333333333333,\"#9c179e\"],[0.4444444444444444,\"#bd3786\"],[0.5555555555555556,\"#d8576b\"],[0.6666666666666666,\"#ed7953\"],[0.7777777777777778,\"#fb9f3a\"],[0.8888888888888888,\"#fdca26\"],[1.0,\"#f0f921\"]],\"type\":\"histogram2dcontour\"}],\"mesh3d\":[{\"colorbar\":{\"outlinewidth\":0,\"ticks\":\"\"},\"type\":\"mesh3d\"}],\"parcoords\":[{\"line\":{\"colorbar\":{\"outlinewidth\":0,\"ticks\":\"\"}},\"type\":\"parcoords\"}],\"pie\":[{\"automargin\":true,\"type\":\"pie\"}],\"scatter\":[{\"marker\":{\"colorbar\":{\"outlinewidth\":0,\"ticks\":\"\"}},\"type\":\"scatter\"}],\"scatter3d\":[{\"line\":{\"colorbar\":{\"outlinewidth\":0,\"ticks\":\"\"}},\"marker\":{\"colorbar\":{\"outlinewidth\":0,\"ticks\":\"\"}},\"type\":\"scatter3d\"}],\"scattercarpet\":[{\"marker\":{\"colorbar\":{\"outlinewidth\":0,\"ticks\":\"\"}},\"type\":\"scattercarpet\"}],\"scattergeo\":[{\"marker\":{\"colorbar\":{\"outlinewidth\":0,\"ticks\":\"\"}},\"type\":\"scattergeo\"}],\"scattergl\":[{\"marker\":{\"colorbar\":{\"outlinewidth\":0,\"ticks\":\"\"}},\"type\":\"scattergl\"}],\"scattermapbox\":[{\"marker\":{\"colorbar\":{\"outlinewidth\":0,\"ticks\":\"\"}},\"type\":\"scattermapbox\"}],\"scatterpolar\":[{\"marker\":{\"colorbar\":{\"outlinewidth\":0,\"ticks\":\"\"}},\"type\":\"scatterpolar\"}],\"scatterpolargl\":[{\"marker\":{\"colorbar\":{\"outlinewidth\":0,\"ticks\":\"\"}},\"type\":\"scatterpolargl\"}],\"scatterternary\":[{\"marker\":{\"colorbar\":{\"outlinewidth\":0,\"ticks\":\"\"}},\"type\":\"scatterternary\"}],\"surface\":[{\"colorbar\":{\"outlinewidth\":0,\"ticks\":\"\"},\"colorscale\":[[0.0,\"#0d0887\"],[0.1111111111111111,\"#46039f\"],[0.2222222222222222,\"#7201a8\"],[0.3333333333333333,\"#9c179e\"],[0.4444444444444444,\"#bd3786\"],[0.5555555555555556,\"#d8576b\"],[0.6666666666666666,\"#ed7953\"],[0.7777777777777778,\"#fb9f3a\"],[0.8888888888888888,\"#fdca26\"],[1.0,\"#f0f921\"]],\"type\":\"surface\"}],\"table\":[{\"cells\":{\"fill\":{\"color\":\"#EBF0F8\"},\"line\":{\"color\":\"white\"}},\"header\":{\"fill\":{\"color\":\"#C8D4E3\"},\"line\":{\"color\":\"white\"}},\"type\":\"table\"}]},\"layout\":{\"annotationdefaults\":{\"arrowcolor\":\"#2a3f5f\",\"arrowhead\":0,\"arrowwidth\":1},\"autotypenumbers\":\"strict\",\"coloraxis\":{\"colorbar\":{\"outlinewidth\":0,\"ticks\":\"\"}},\"colorscale\":{\"diverging\":[[0,\"#8e0152\"],[0.1,\"#c51b7d\"],[0.2,\"#de77ae\"],[0.3,\"#f1b6da\"],[0.4,\"#fde0ef\"],[0.5,\"#f7f7f7\"],[0.6,\"#e6f5d0\"],[0.7,\"#b8e186\"],[0.8,\"#7fbc41\"],[0.9,\"#4d9221\"],[1,\"#276419\"]],\"sequential\":[[0.0,\"#0d0887\"],[0.1111111111111111,\"#46039f\"],[0.2222222222222222,\"#7201a8\"],[0.3333333333333333,\"#9c179e\"],[0.4444444444444444,\"#bd3786\"],[0.5555555555555556,\"#d8576b\"],[0.6666666666666666,\"#ed7953\"],[0.7777777777777778,\"#fb9f3a\"],[0.8888888888888888,\"#fdca26\"],[1.0,\"#f0f921\"]],\"sequentialminus\":[[0.0,\"#0d0887\"],[0.1111111111111111,\"#46039f\"],[0.2222222222222222,\"#7201a8\"],[0.3333333333333333,\"#9c179e\"],[0.4444444444444444,\"#bd3786\"],[0.5555555555555556,\"#d8576b\"],[0.6666666666666666,\"#ed7953\"],[0.7777777777777778,\"#fb9f3a\"],[0.8888888888888888,\"#fdca26\"],[1.0,\"#f0f921\"]]},\"colorway\":[\"#636efa\",\"#EF553B\",\"#00cc96\",\"#ab63fa\",\"#FFA15A\",\"#19d3f3\",\"#FF6692\",\"#B6E880\",\"#FF97FF\",\"#FECB52\"],\"font\":{\"color\":\"#2a3f5f\"},\"geo\":{\"bgcolor\":\"white\",\"lakecolor\":\"white\",\"landcolor\":\"#E5ECF6\",\"showlakes\":true,\"showland\":true,\"subunitcolor\":\"white\"},\"hoverlabel\":{\"align\":\"left\"},\"hovermode\":\"closest\",\"mapbox\":{\"style\":\"light\"},\"paper_bgcolor\":\"white\",\"plot_bgcolor\":\"#E5ECF6\",\"polar\":{\"angularaxis\":{\"gridcolor\":\"white\",\"linecolor\":\"white\",\"ticks\":\"\"},\"bgcolor\":\"#E5ECF6\",\"radialaxis\":{\"gridcolor\":\"white\",\"linecolor\":\"white\",\"ticks\":\"\"}},\"scene\":{\"xaxis\":{\"backgroundcolor\":\"#E5ECF6\",\"gridcolor\":\"white\",\"gridwidth\":2,\"linecolor\":\"white\",\"showbackground\":true,\"ticks\":\"\",\"zerolinecolor\":\"white\"},\"yaxis\":{\"backgroundcolor\":\"#E5ECF6\",\"gridcolor\":\"white\",\"gridwidth\":2,\"linecolor\":\"white\",\"showbackground\":true,\"ticks\":\"\",\"zerolinecolor\":\"white\"},\"zaxis\":{\"backgroundcolor\":\"#E5ECF6\",\"gridcolor\":\"white\",\"gridwidth\":2,\"linecolor\":\"white\",\"showbackground\":true,\"ticks\":\"\",\"zerolinecolor\":\"white\"}},\"shapedefaults\":{\"line\":{\"color\":\"#2a3f5f\"}},\"ternary\":{\"aaxis\":{\"gridcolor\":\"white\",\"linecolor\":\"white\",\"ticks\":\"\"},\"baxis\":{\"gridcolor\":\"white\",\"linecolor\":\"white\",\"ticks\":\"\"},\"bgcolor\":\"#E5ECF6\",\"caxis\":{\"gridcolor\":\"white\",\"linecolor\":\"white\",\"ticks\":\"\"}},\"title\":{\"x\":0.05},\"xaxis\":{\"automargin\":true,\"gridcolor\":\"white\",\"linecolor\":\"white\",\"ticks\":\"\",\"title\":{\"standoff\":15},\"zerolinecolor\":\"white\",\"zerolinewidth\":2},\"yaxis\":{\"automargin\":true,\"gridcolor\":\"white\",\"linecolor\":\"white\",\"ticks\":\"\",\"title\":{\"standoff\":15},\"zerolinecolor\":\"white\",\"zerolinewidth\":2}}},\"title\":{\"font\":{\"color\":\"#4D5663\"}},\"xaxis\":{\"gridcolor\":\"#E1E5ED\",\"showgrid\":true,\"tickfont\":{\"color\":\"#4D5663\"},\"title\":{\"font\":{\"color\":\"#4D5663\"},\"text\":\"\\u0412\\u0412\\u041f(\\u043f\\u0440\\u0435\\u0434. \\u043f\\u0435\\u0440\\u0438\\u043e\\u0434), \\u043c\\u043b\\u043d. $\"},\"zerolinecolor\":\"#E1E5ED\"},\"yaxis\":{\"gridcolor\":\"#E1E5ED\",\"showgrid\":true,\"tickfont\":{\"color\":\"#4D5663\"},\"title\":{\"font\":{\"color\":\"#4D5663\"},\"text\":\"\\u041f\\u043e\\u0442\\u0440\\u0435\\u0431\\u043b\\u0435\\u043d\\u0438\\u0435, \\u043c\\u043b\\u043d. $\"},\"zerolinecolor\":\"#E1E5ED\"}},                        {\"showLink\": true, \"linkText\": \"Export to plot.ly\", \"plotlyServerURL\": \"https://plot.ly\", \"responsive\": true}                    ).then(function(){\n                            \nvar gd = document.getElementById('b38ac797-67b7-464c-9e24-44febcad4de7');\nvar x = new MutationObserver(function (mutations, observer) {{\n        var display = window.getComputedStyle(gd).display;\n        if (!display || display === 'none') {{\n            console.log([gd, 'removed!']);\n            Plotly.purge(gd);\n            observer.disconnect();\n        }}\n}});\n\n// Listen for the removal of the full notebook cells\nvar notebookContainer = gd.closest('#notebook-container');\nif (notebookContainer) {{\n    x.observe(notebookContainer, {childList: true});\n}}\n\n// Listen for the clearing of the current output cell\nvar outputEl = gd.closest('.output');\nif (outputEl) {{\n    x.observe(outputEl, {childList: true});\n}}\n\n                        })                };                });            </script>        </div>"
     },
     "metadata": {},
     "output_type": "display_data"
    }
   ],
   "source": [
    "df.iplot(\n",
    "    x='Y(t-1)', y='C',\n",
    "    xTitle=f'{data_router[\"Y(t-1)\"][\"ru\"][\"short\"]}',\n",
    "    yTitle=f'{data_router[\"C\"][\"ru\"][\"short\"]}',\n",
    "    **scatter_config,\n",
    ")"
   ]
  },
  {
   "cell_type": "code",
   "execution_count": 435,
   "metadata": {
    "pycharm": {
     "name": "#%%\n"
    }
   },
   "outputs": [
    {
     "data": {
      "application/vnd.plotly.v1+json": {
       "config": {
        "linkText": "Export to plot.ly",
        "plotlyServerURL": "https://plot.ly",
        "showLink": true
       },
       "data": [
        {
         "line": {
          "color": "rgba(255, 153, 51, 1.0)",
          "dash": "solid",
          "shape": "linear",
          "width": 1.3
         },
         "marker": {
          "size": 8,
          "symbol": "circle"
         },
         "mode": "markers",
         "name": "C",
         "text": "",
         "type": "scatter",
         "x": [
          null,
          null,
          469.3369911087002,
          471.17254492471966,
          673.5776522515298,
          -229.09123588263992,
          560.4086996722199,
          785.1934439096003,
          1063.0680523638493,
          1293.4300562729204,
          1501.6242179426008,
          1722.8084527715982,
          1747.8002239588022,
          2107.498173672897,
          1901.5631551614024,
          1213.5128670527993,
          838.1421116791025,
          1627.8538419049983,
          1611.4750540083987,
          1954.229430036099,
          2587.4248983354046,
          3000.4951051610988,
          3533.582292264302,
          2571.1873068861023,
          3316.986941975294,
          3700.8294841921015,
          -285.21682371829957,
          611.0982242835962,
          4979.716306384398,
          5755.520186542904,
          5775.499483847896,
          6150.7996409980115,
          4600.32145226009,
          4872.1952117006,
          8969.857311269006,
          9679.581254051198,
          6977.787233333191,
          7761.2157216510095,
          9288.39649657099,
          -2654.846201961991,
          6770.016661005997,
          11302.916809639995,
          -1457.5709263590106,
          5280.394141091994,
          6357.793632865039,
          14388.412176126963,
          11841.86364930903,
          15557.095171134977,
          16990.027317425032,
          3835.60149322098,
          253.02403371498804,
          30415.76211527802,
          15198.809185894992,
          11377.468533858977,
          12885.870181277045,
          10997.720688615926,
          8674.756736234063,
          9951.949201056967,
          13963.269673049974,
          11291.903486744035,
          4495.05950073502
         ],
         "y": [
          5592.360813056414,
          6196.316092606512,
          6477.773333662827,
          6869.376900112365,
          6615.987338347547,
          6880.962796474083,
          7401.218333159515,
          8210.144405367051,
          9074.529635631332,
          9786.07423335992,
          11119.854235893657,
          12399.407918685074,
          13190.555261738955,
          14357.142074400863,
          14878.84826953875,
          15443.306264260475,
          16132.807550722375,
          17083.12828371279,
          18088.626933641655,
          18929.432079551432,
          19650.01543971948,
          20748.687726621876,
          21894.0455071961,
          22910.326445985265,
          24795.655277145695,
          26460.576843985276,
          27326.244710875922,
          29965.35772955545,
          32019.03252410973,
          34796.42491865579,
          37206.18668586829,
          38517.35636648465,
          40812.51800612965,
          45909.50204094694,
          49554.45193313509,
          51025.44405287252,
          55123.07911658631,
          58698.887057711116,
          57890.47935864027,
          64130.65033911872,
          71390.43776842028,
          78040.13299755832,
          81330.46668111297,
          83446.65600091543,
          84186.58604011402,
          85938.44159906569,
          90415.72790591742,
          94239.28752909912,
          104704.43882070063,
          102671.7575088894,
          110382.83828382817,
          116927.51270564942,
          122974.05199365722,
          131474.55383110663,
          137051.82911417627,
          141546.96756592413,
          144473.39259052844,
          146496.8135230113,
          148811.6193174522,
          155587.3592021913,
          145537.15193369778
         ]
        }
       ],
       "layout": {
        "legend": {
         "bgcolor": "#FFFFFF",
         "font": {
          "color": "#4D5663"
         }
        },
        "paper_bgcolor": "#FFFFFF",
        "plot_bgcolor": "#FFFFFF",
        "template": {
         "data": {
          "bar": [
           {
            "error_x": {
             "color": "#2a3f5f"
            },
            "error_y": {
             "color": "#2a3f5f"
            },
            "marker": {
             "line": {
              "color": "#E5ECF6",
              "width": 0.5
             },
             "pattern": {
              "fillmode": "overlay",
              "size": 10,
              "solidity": 0.2
             }
            },
            "type": "bar"
           }
          ],
          "barpolar": [
           {
            "marker": {
             "line": {
              "color": "#E5ECF6",
              "width": 0.5
             },
             "pattern": {
              "fillmode": "overlay",
              "size": 10,
              "solidity": 0.2
             }
            },
            "type": "barpolar"
           }
          ],
          "carpet": [
           {
            "aaxis": {
             "endlinecolor": "#2a3f5f",
             "gridcolor": "white",
             "linecolor": "white",
             "minorgridcolor": "white",
             "startlinecolor": "#2a3f5f"
            },
            "baxis": {
             "endlinecolor": "#2a3f5f",
             "gridcolor": "white",
             "linecolor": "white",
             "minorgridcolor": "white",
             "startlinecolor": "#2a3f5f"
            },
            "type": "carpet"
           }
          ],
          "choropleth": [
           {
            "colorbar": {
             "outlinewidth": 0,
             "ticks": ""
            },
            "type": "choropleth"
           }
          ],
          "contour": [
           {
            "colorbar": {
             "outlinewidth": 0,
             "ticks": ""
            },
            "colorscale": [
             [
              0.0,
              "#0d0887"
             ],
             [
              0.1111111111111111,
              "#46039f"
             ],
             [
              0.2222222222222222,
              "#7201a8"
             ],
             [
              0.3333333333333333,
              "#9c179e"
             ],
             [
              0.4444444444444444,
              "#bd3786"
             ],
             [
              0.5555555555555556,
              "#d8576b"
             ],
             [
              0.6666666666666666,
              "#ed7953"
             ],
             [
              0.7777777777777778,
              "#fb9f3a"
             ],
             [
              0.8888888888888888,
              "#fdca26"
             ],
             [
              1.0,
              "#f0f921"
             ]
            ],
            "type": "contour"
           }
          ],
          "contourcarpet": [
           {
            "colorbar": {
             "outlinewidth": 0,
             "ticks": ""
            },
            "type": "contourcarpet"
           }
          ],
          "heatmap": [
           {
            "colorbar": {
             "outlinewidth": 0,
             "ticks": ""
            },
            "colorscale": [
             [
              0.0,
              "#0d0887"
             ],
             [
              0.1111111111111111,
              "#46039f"
             ],
             [
              0.2222222222222222,
              "#7201a8"
             ],
             [
              0.3333333333333333,
              "#9c179e"
             ],
             [
              0.4444444444444444,
              "#bd3786"
             ],
             [
              0.5555555555555556,
              "#d8576b"
             ],
             [
              0.6666666666666666,
              "#ed7953"
             ],
             [
              0.7777777777777778,
              "#fb9f3a"
             ],
             [
              0.8888888888888888,
              "#fdca26"
             ],
             [
              1.0,
              "#f0f921"
             ]
            ],
            "type": "heatmap"
           }
          ],
          "heatmapgl": [
           {
            "colorbar": {
             "outlinewidth": 0,
             "ticks": ""
            },
            "colorscale": [
             [
              0.0,
              "#0d0887"
             ],
             [
              0.1111111111111111,
              "#46039f"
             ],
             [
              0.2222222222222222,
              "#7201a8"
             ],
             [
              0.3333333333333333,
              "#9c179e"
             ],
             [
              0.4444444444444444,
              "#bd3786"
             ],
             [
              0.5555555555555556,
              "#d8576b"
             ],
             [
              0.6666666666666666,
              "#ed7953"
             ],
             [
              0.7777777777777778,
              "#fb9f3a"
             ],
             [
              0.8888888888888888,
              "#fdca26"
             ],
             [
              1.0,
              "#f0f921"
             ]
            ],
            "type": "heatmapgl"
           }
          ],
          "histogram": [
           {
            "marker": {
             "pattern": {
              "fillmode": "overlay",
              "size": 10,
              "solidity": 0.2
             }
            },
            "type": "histogram"
           }
          ],
          "histogram2d": [
           {
            "colorbar": {
             "outlinewidth": 0,
             "ticks": ""
            },
            "colorscale": [
             [
              0.0,
              "#0d0887"
             ],
             [
              0.1111111111111111,
              "#46039f"
             ],
             [
              0.2222222222222222,
              "#7201a8"
             ],
             [
              0.3333333333333333,
              "#9c179e"
             ],
             [
              0.4444444444444444,
              "#bd3786"
             ],
             [
              0.5555555555555556,
              "#d8576b"
             ],
             [
              0.6666666666666666,
              "#ed7953"
             ],
             [
              0.7777777777777778,
              "#fb9f3a"
             ],
             [
              0.8888888888888888,
              "#fdca26"
             ],
             [
              1.0,
              "#f0f921"
             ]
            ],
            "type": "histogram2d"
           }
          ],
          "histogram2dcontour": [
           {
            "colorbar": {
             "outlinewidth": 0,
             "ticks": ""
            },
            "colorscale": [
             [
              0.0,
              "#0d0887"
             ],
             [
              0.1111111111111111,
              "#46039f"
             ],
             [
              0.2222222222222222,
              "#7201a8"
             ],
             [
              0.3333333333333333,
              "#9c179e"
             ],
             [
              0.4444444444444444,
              "#bd3786"
             ],
             [
              0.5555555555555556,
              "#d8576b"
             ],
             [
              0.6666666666666666,
              "#ed7953"
             ],
             [
              0.7777777777777778,
              "#fb9f3a"
             ],
             [
              0.8888888888888888,
              "#fdca26"
             ],
             [
              1.0,
              "#f0f921"
             ]
            ],
            "type": "histogram2dcontour"
           }
          ],
          "mesh3d": [
           {
            "colorbar": {
             "outlinewidth": 0,
             "ticks": ""
            },
            "type": "mesh3d"
           }
          ],
          "parcoords": [
           {
            "line": {
             "colorbar": {
              "outlinewidth": 0,
              "ticks": ""
             }
            },
            "type": "parcoords"
           }
          ],
          "pie": [
           {
            "automargin": true,
            "type": "pie"
           }
          ],
          "scatter": [
           {
            "marker": {
             "colorbar": {
              "outlinewidth": 0,
              "ticks": ""
             }
            },
            "type": "scatter"
           }
          ],
          "scatter3d": [
           {
            "line": {
             "colorbar": {
              "outlinewidth": 0,
              "ticks": ""
             }
            },
            "marker": {
             "colorbar": {
              "outlinewidth": 0,
              "ticks": ""
             }
            },
            "type": "scatter3d"
           }
          ],
          "scattercarpet": [
           {
            "marker": {
             "colorbar": {
              "outlinewidth": 0,
              "ticks": ""
             }
            },
            "type": "scattercarpet"
           }
          ],
          "scattergeo": [
           {
            "marker": {
             "colorbar": {
              "outlinewidth": 0,
              "ticks": ""
             }
            },
            "type": "scattergeo"
           }
          ],
          "scattergl": [
           {
            "marker": {
             "colorbar": {
              "outlinewidth": 0,
              "ticks": ""
             }
            },
            "type": "scattergl"
           }
          ],
          "scattermapbox": [
           {
            "marker": {
             "colorbar": {
              "outlinewidth": 0,
              "ticks": ""
             }
            },
            "type": "scattermapbox"
           }
          ],
          "scatterpolar": [
           {
            "marker": {
             "colorbar": {
              "outlinewidth": 0,
              "ticks": ""
             }
            },
            "type": "scatterpolar"
           }
          ],
          "scatterpolargl": [
           {
            "marker": {
             "colorbar": {
              "outlinewidth": 0,
              "ticks": ""
             }
            },
            "type": "scatterpolargl"
           }
          ],
          "scatterternary": [
           {
            "marker": {
             "colorbar": {
              "outlinewidth": 0,
              "ticks": ""
             }
            },
            "type": "scatterternary"
           }
          ],
          "surface": [
           {
            "colorbar": {
             "outlinewidth": 0,
             "ticks": ""
            },
            "colorscale": [
             [
              0.0,
              "#0d0887"
             ],
             [
              0.1111111111111111,
              "#46039f"
             ],
             [
              0.2222222222222222,
              "#7201a8"
             ],
             [
              0.3333333333333333,
              "#9c179e"
             ],
             [
              0.4444444444444444,
              "#bd3786"
             ],
             [
              0.5555555555555556,
              "#d8576b"
             ],
             [
              0.6666666666666666,
              "#ed7953"
             ],
             [
              0.7777777777777778,
              "#fb9f3a"
             ],
             [
              0.8888888888888888,
              "#fdca26"
             ],
             [
              1.0,
              "#f0f921"
             ]
            ],
            "type": "surface"
           }
          ],
          "table": [
           {
            "cells": {
             "fill": {
              "color": "#EBF0F8"
             },
             "line": {
              "color": "white"
             }
            },
            "header": {
             "fill": {
              "color": "#C8D4E3"
             },
             "line": {
              "color": "white"
             }
            },
            "type": "table"
           }
          ]
         },
         "layout": {
          "annotationdefaults": {
           "arrowcolor": "#2a3f5f",
           "arrowhead": 0,
           "arrowwidth": 1
          },
          "autotypenumbers": "strict",
          "coloraxis": {
           "colorbar": {
            "outlinewidth": 0,
            "ticks": ""
           }
          },
          "colorscale": {
           "diverging": [
            [
             0,
             "#8e0152"
            ],
            [
             0.1,
             "#c51b7d"
            ],
            [
             0.2,
             "#de77ae"
            ],
            [
             0.3,
             "#f1b6da"
            ],
            [
             0.4,
             "#fde0ef"
            ],
            [
             0.5,
             "#f7f7f7"
            ],
            [
             0.6,
             "#e6f5d0"
            ],
            [
             0.7,
             "#b8e186"
            ],
            [
             0.8,
             "#7fbc41"
            ],
            [
             0.9,
             "#4d9221"
            ],
            [
             1,
             "#276419"
            ]
           ],
           "sequential": [
            [
             0.0,
             "#0d0887"
            ],
            [
             0.1111111111111111,
             "#46039f"
            ],
            [
             0.2222222222222222,
             "#7201a8"
            ],
            [
             0.3333333333333333,
             "#9c179e"
            ],
            [
             0.4444444444444444,
             "#bd3786"
            ],
            [
             0.5555555555555556,
             "#d8576b"
            ],
            [
             0.6666666666666666,
             "#ed7953"
            ],
            [
             0.7777777777777778,
             "#fb9f3a"
            ],
            [
             0.8888888888888888,
             "#fdca26"
            ],
            [
             1.0,
             "#f0f921"
            ]
           ],
           "sequentialminus": [
            [
             0.0,
             "#0d0887"
            ],
            [
             0.1111111111111111,
             "#46039f"
            ],
            [
             0.2222222222222222,
             "#7201a8"
            ],
            [
             0.3333333333333333,
             "#9c179e"
            ],
            [
             0.4444444444444444,
             "#bd3786"
            ],
            [
             0.5555555555555556,
             "#d8576b"
            ],
            [
             0.6666666666666666,
             "#ed7953"
            ],
            [
             0.7777777777777778,
             "#fb9f3a"
            ],
            [
             0.8888888888888888,
             "#fdca26"
            ],
            [
             1.0,
             "#f0f921"
            ]
           ]
          },
          "colorway": [
           "#636efa",
           "#EF553B",
           "#00cc96",
           "#ab63fa",
           "#FFA15A",
           "#19d3f3",
           "#FF6692",
           "#B6E880",
           "#FF97FF",
           "#FECB52"
          ],
          "font": {
           "color": "#2a3f5f"
          },
          "geo": {
           "bgcolor": "white",
           "lakecolor": "white",
           "landcolor": "#E5ECF6",
           "showlakes": true,
           "showland": true,
           "subunitcolor": "white"
          },
          "hoverlabel": {
           "align": "left"
          },
          "hovermode": "closest",
          "mapbox": {
           "style": "light"
          },
          "paper_bgcolor": "white",
          "plot_bgcolor": "#E5ECF6",
          "polar": {
           "angularaxis": {
            "gridcolor": "white",
            "linecolor": "white",
            "ticks": ""
           },
           "bgcolor": "#E5ECF6",
           "radialaxis": {
            "gridcolor": "white",
            "linecolor": "white",
            "ticks": ""
           }
          },
          "scene": {
           "xaxis": {
            "backgroundcolor": "#E5ECF6",
            "gridcolor": "white",
            "gridwidth": 2,
            "linecolor": "white",
            "showbackground": true,
            "ticks": "",
            "zerolinecolor": "white"
           },
           "yaxis": {
            "backgroundcolor": "#E5ECF6",
            "gridcolor": "white",
            "gridwidth": 2,
            "linecolor": "white",
            "showbackground": true,
            "ticks": "",
            "zerolinecolor": "white"
           },
           "zaxis": {
            "backgroundcolor": "#E5ECF6",
            "gridcolor": "white",
            "gridwidth": 2,
            "linecolor": "white",
            "showbackground": true,
            "ticks": "",
            "zerolinecolor": "white"
           }
          },
          "shapedefaults": {
           "line": {
            "color": "#2a3f5f"
           }
          },
          "ternary": {
           "aaxis": {
            "gridcolor": "white",
            "linecolor": "white",
            "ticks": ""
           },
           "baxis": {
            "gridcolor": "white",
            "linecolor": "white",
            "ticks": ""
           },
           "bgcolor": "#E5ECF6",
           "caxis": {
            "gridcolor": "white",
            "linecolor": "white",
            "ticks": ""
           }
          },
          "title": {
           "x": 0.05
          },
          "xaxis": {
           "automargin": true,
           "gridcolor": "white",
           "linecolor": "white",
           "ticks": "",
           "title": {
            "standoff": 15
           },
           "zerolinecolor": "white",
           "zerolinewidth": 2
          },
          "yaxis": {
           "automargin": true,
           "gridcolor": "white",
           "linecolor": "white",
           "ticks": "",
           "title": {
            "standoff": 15
           },
           "zerolinecolor": "white",
           "zerolinewidth": 2
          }
         }
        },
        "title": {
         "font": {
          "color": "#4D5663"
         }
        },
        "xaxis": {
         "gridcolor": "#E1E5ED",
         "showgrid": true,
         "tickfont": {
          "color": "#4D5663"
         },
         "title": {
          "font": {
           "color": "#4D5663"
          },
          "text": "Прирост ВВП(пред. период), млн. $"
         },
         "zerolinecolor": "#E1E5ED"
        },
        "yaxis": {
         "gridcolor": "#E1E5ED",
         "showgrid": true,
         "tickfont": {
          "color": "#4D5663"
         },
         "title": {
          "font": {
           "color": "#4D5663"
          },
          "text": "Потребление, млн. $"
         },
         "zerolinecolor": "#E1E5ED"
        }
       }
      },
      "text/html": "<div>                            <div id=\"8f3c3658-500c-4d11-bdea-e5cfe522a8c0\" class=\"plotly-graph-div\" style=\"height:525px; width:100%;\"></div>            <script type=\"text/javascript\">                require([\"plotly\"], function(Plotly) {                    window.PLOTLYENV=window.PLOTLYENV || {};\n                    window.PLOTLYENV.BASE_URL='https://plot.ly';                                    if (document.getElementById(\"8f3c3658-500c-4d11-bdea-e5cfe522a8c0\")) {                    Plotly.newPlot(                        \"8f3c3658-500c-4d11-bdea-e5cfe522a8c0\",                        [{\"line\":{\"color\":\"rgba(255, 153, 51, 1.0)\",\"dash\":\"solid\",\"shape\":\"linear\",\"width\":1.3},\"marker\":{\"size\":8,\"symbol\":\"circle\"},\"mode\":\"markers\",\"name\":\"C\",\"text\":\"\",\"type\":\"scatter\",\"x\":[null,null,469.3369911087002,471.17254492471966,673.5776522515298,-229.09123588263992,560.4086996722199,785.1934439096003,1063.0680523638493,1293.4300562729204,1501.6242179426008,1722.8084527715982,1747.8002239588022,2107.498173672897,1901.5631551614024,1213.5128670527993,838.1421116791025,1627.8538419049983,1611.4750540083987,1954.229430036099,2587.4248983354046,3000.4951051610988,3533.582292264302,2571.1873068861023,3316.986941975294,3700.8294841921015,-285.21682371829957,611.0982242835962,4979.716306384398,5755.520186542904,5775.499483847896,6150.7996409980115,4600.32145226009,4872.1952117006,8969.857311269006,9679.581254051198,6977.787233333191,7761.2157216510095,9288.39649657099,-2654.846201961991,6770.016661005997,11302.916809639995,-1457.5709263590106,5280.394141091994,6357.793632865039,14388.412176126963,11841.86364930903,15557.095171134977,16990.027317425032,3835.60149322098,253.02403371498804,30415.76211527802,15198.809185894992,11377.468533858977,12885.870181277045,10997.720688615926,8674.756736234063,9951.949201056967,13963.269673049974,11291.903486744035,4495.05950073502],\"y\":[5592.360813056414,6196.316092606512,6477.773333662827,6869.376900112365,6615.987338347547,6880.962796474083,7401.218333159515,8210.144405367051,9074.529635631332,9786.07423335992,11119.854235893657,12399.407918685074,13190.555261738955,14357.142074400863,14878.84826953875,15443.306264260475,16132.807550722375,17083.12828371279,18088.626933641655,18929.432079551432,19650.01543971948,20748.687726621876,21894.0455071961,22910.326445985265,24795.655277145695,26460.576843985276,27326.244710875922,29965.35772955545,32019.03252410973,34796.42491865579,37206.18668586829,38517.35636648465,40812.51800612965,45909.50204094694,49554.45193313509,51025.44405287252,55123.07911658631,58698.887057711116,57890.47935864027,64130.65033911872,71390.43776842028,78040.13299755832,81330.46668111297,83446.65600091543,84186.58604011402,85938.44159906569,90415.72790591742,94239.28752909912,104704.43882070063,102671.7575088894,110382.83828382817,116927.51270564942,122974.05199365722,131474.55383110663,137051.82911417627,141546.96756592413,144473.39259052844,146496.8135230113,148811.6193174522,155587.3592021913,145537.15193369778]}],                        {\"legend\":{\"bgcolor\":\"#FFFFFF\",\"font\":{\"color\":\"#4D5663\"}},\"paper_bgcolor\":\"#FFFFFF\",\"plot_bgcolor\":\"#FFFFFF\",\"template\":{\"data\":{\"bar\":[{\"error_x\":{\"color\":\"#2a3f5f\"},\"error_y\":{\"color\":\"#2a3f5f\"},\"marker\":{\"line\":{\"color\":\"#E5ECF6\",\"width\":0.5},\"pattern\":{\"fillmode\":\"overlay\",\"size\":10,\"solidity\":0.2}},\"type\":\"bar\"}],\"barpolar\":[{\"marker\":{\"line\":{\"color\":\"#E5ECF6\",\"width\":0.5},\"pattern\":{\"fillmode\":\"overlay\",\"size\":10,\"solidity\":0.2}},\"type\":\"barpolar\"}],\"carpet\":[{\"aaxis\":{\"endlinecolor\":\"#2a3f5f\",\"gridcolor\":\"white\",\"linecolor\":\"white\",\"minorgridcolor\":\"white\",\"startlinecolor\":\"#2a3f5f\"},\"baxis\":{\"endlinecolor\":\"#2a3f5f\",\"gridcolor\":\"white\",\"linecolor\":\"white\",\"minorgridcolor\":\"white\",\"startlinecolor\":\"#2a3f5f\"},\"type\":\"carpet\"}],\"choropleth\":[{\"colorbar\":{\"outlinewidth\":0,\"ticks\":\"\"},\"type\":\"choropleth\"}],\"contour\":[{\"colorbar\":{\"outlinewidth\":0,\"ticks\":\"\"},\"colorscale\":[[0.0,\"#0d0887\"],[0.1111111111111111,\"#46039f\"],[0.2222222222222222,\"#7201a8\"],[0.3333333333333333,\"#9c179e\"],[0.4444444444444444,\"#bd3786\"],[0.5555555555555556,\"#d8576b\"],[0.6666666666666666,\"#ed7953\"],[0.7777777777777778,\"#fb9f3a\"],[0.8888888888888888,\"#fdca26\"],[1.0,\"#f0f921\"]],\"type\":\"contour\"}],\"contourcarpet\":[{\"colorbar\":{\"outlinewidth\":0,\"ticks\":\"\"},\"type\":\"contourcarpet\"}],\"heatmap\":[{\"colorbar\":{\"outlinewidth\":0,\"ticks\":\"\"},\"colorscale\":[[0.0,\"#0d0887\"],[0.1111111111111111,\"#46039f\"],[0.2222222222222222,\"#7201a8\"],[0.3333333333333333,\"#9c179e\"],[0.4444444444444444,\"#bd3786\"],[0.5555555555555556,\"#d8576b\"],[0.6666666666666666,\"#ed7953\"],[0.7777777777777778,\"#fb9f3a\"],[0.8888888888888888,\"#fdca26\"],[1.0,\"#f0f921\"]],\"type\":\"heatmap\"}],\"heatmapgl\":[{\"colorbar\":{\"outlinewidth\":0,\"ticks\":\"\"},\"colorscale\":[[0.0,\"#0d0887\"],[0.1111111111111111,\"#46039f\"],[0.2222222222222222,\"#7201a8\"],[0.3333333333333333,\"#9c179e\"],[0.4444444444444444,\"#bd3786\"],[0.5555555555555556,\"#d8576b\"],[0.6666666666666666,\"#ed7953\"],[0.7777777777777778,\"#fb9f3a\"],[0.8888888888888888,\"#fdca26\"],[1.0,\"#f0f921\"]],\"type\":\"heatmapgl\"}],\"histogram\":[{\"marker\":{\"pattern\":{\"fillmode\":\"overlay\",\"size\":10,\"solidity\":0.2}},\"type\":\"histogram\"}],\"histogram2d\":[{\"colorbar\":{\"outlinewidth\":0,\"ticks\":\"\"},\"colorscale\":[[0.0,\"#0d0887\"],[0.1111111111111111,\"#46039f\"],[0.2222222222222222,\"#7201a8\"],[0.3333333333333333,\"#9c179e\"],[0.4444444444444444,\"#bd3786\"],[0.5555555555555556,\"#d8576b\"],[0.6666666666666666,\"#ed7953\"],[0.7777777777777778,\"#fb9f3a\"],[0.8888888888888888,\"#fdca26\"],[1.0,\"#f0f921\"]],\"type\":\"histogram2d\"}],\"histogram2dcontour\":[{\"colorbar\":{\"outlinewidth\":0,\"ticks\":\"\"},\"colorscale\":[[0.0,\"#0d0887\"],[0.1111111111111111,\"#46039f\"],[0.2222222222222222,\"#7201a8\"],[0.3333333333333333,\"#9c179e\"],[0.4444444444444444,\"#bd3786\"],[0.5555555555555556,\"#d8576b\"],[0.6666666666666666,\"#ed7953\"],[0.7777777777777778,\"#fb9f3a\"],[0.8888888888888888,\"#fdca26\"],[1.0,\"#f0f921\"]],\"type\":\"histogram2dcontour\"}],\"mesh3d\":[{\"colorbar\":{\"outlinewidth\":0,\"ticks\":\"\"},\"type\":\"mesh3d\"}],\"parcoords\":[{\"line\":{\"colorbar\":{\"outlinewidth\":0,\"ticks\":\"\"}},\"type\":\"parcoords\"}],\"pie\":[{\"automargin\":true,\"type\":\"pie\"}],\"scatter\":[{\"marker\":{\"colorbar\":{\"outlinewidth\":0,\"ticks\":\"\"}},\"type\":\"scatter\"}],\"scatter3d\":[{\"line\":{\"colorbar\":{\"outlinewidth\":0,\"ticks\":\"\"}},\"marker\":{\"colorbar\":{\"outlinewidth\":0,\"ticks\":\"\"}},\"type\":\"scatter3d\"}],\"scattercarpet\":[{\"marker\":{\"colorbar\":{\"outlinewidth\":0,\"ticks\":\"\"}},\"type\":\"scattercarpet\"}],\"scattergeo\":[{\"marker\":{\"colorbar\":{\"outlinewidth\":0,\"ticks\":\"\"}},\"type\":\"scattergeo\"}],\"scattergl\":[{\"marker\":{\"colorbar\":{\"outlinewidth\":0,\"ticks\":\"\"}},\"type\":\"scattergl\"}],\"scattermapbox\":[{\"marker\":{\"colorbar\":{\"outlinewidth\":0,\"ticks\":\"\"}},\"type\":\"scattermapbox\"}],\"scatterpolar\":[{\"marker\":{\"colorbar\":{\"outlinewidth\":0,\"ticks\":\"\"}},\"type\":\"scatterpolar\"}],\"scatterpolargl\":[{\"marker\":{\"colorbar\":{\"outlinewidth\":0,\"ticks\":\"\"}},\"type\":\"scatterpolargl\"}],\"scatterternary\":[{\"marker\":{\"colorbar\":{\"outlinewidth\":0,\"ticks\":\"\"}},\"type\":\"scatterternary\"}],\"surface\":[{\"colorbar\":{\"outlinewidth\":0,\"ticks\":\"\"},\"colorscale\":[[0.0,\"#0d0887\"],[0.1111111111111111,\"#46039f\"],[0.2222222222222222,\"#7201a8\"],[0.3333333333333333,\"#9c179e\"],[0.4444444444444444,\"#bd3786\"],[0.5555555555555556,\"#d8576b\"],[0.6666666666666666,\"#ed7953\"],[0.7777777777777778,\"#fb9f3a\"],[0.8888888888888888,\"#fdca26\"],[1.0,\"#f0f921\"]],\"type\":\"surface\"}],\"table\":[{\"cells\":{\"fill\":{\"color\":\"#EBF0F8\"},\"line\":{\"color\":\"white\"}},\"header\":{\"fill\":{\"color\":\"#C8D4E3\"},\"line\":{\"color\":\"white\"}},\"type\":\"table\"}]},\"layout\":{\"annotationdefaults\":{\"arrowcolor\":\"#2a3f5f\",\"arrowhead\":0,\"arrowwidth\":1},\"autotypenumbers\":\"strict\",\"coloraxis\":{\"colorbar\":{\"outlinewidth\":0,\"ticks\":\"\"}},\"colorscale\":{\"diverging\":[[0,\"#8e0152\"],[0.1,\"#c51b7d\"],[0.2,\"#de77ae\"],[0.3,\"#f1b6da\"],[0.4,\"#fde0ef\"],[0.5,\"#f7f7f7\"],[0.6,\"#e6f5d0\"],[0.7,\"#b8e186\"],[0.8,\"#7fbc41\"],[0.9,\"#4d9221\"],[1,\"#276419\"]],\"sequential\":[[0.0,\"#0d0887\"],[0.1111111111111111,\"#46039f\"],[0.2222222222222222,\"#7201a8\"],[0.3333333333333333,\"#9c179e\"],[0.4444444444444444,\"#bd3786\"],[0.5555555555555556,\"#d8576b\"],[0.6666666666666666,\"#ed7953\"],[0.7777777777777778,\"#fb9f3a\"],[0.8888888888888888,\"#fdca26\"],[1.0,\"#f0f921\"]],\"sequentialminus\":[[0.0,\"#0d0887\"],[0.1111111111111111,\"#46039f\"],[0.2222222222222222,\"#7201a8\"],[0.3333333333333333,\"#9c179e\"],[0.4444444444444444,\"#bd3786\"],[0.5555555555555556,\"#d8576b\"],[0.6666666666666666,\"#ed7953\"],[0.7777777777777778,\"#fb9f3a\"],[0.8888888888888888,\"#fdca26\"],[1.0,\"#f0f921\"]]},\"colorway\":[\"#636efa\",\"#EF553B\",\"#00cc96\",\"#ab63fa\",\"#FFA15A\",\"#19d3f3\",\"#FF6692\",\"#B6E880\",\"#FF97FF\",\"#FECB52\"],\"font\":{\"color\":\"#2a3f5f\"},\"geo\":{\"bgcolor\":\"white\",\"lakecolor\":\"white\",\"landcolor\":\"#E5ECF6\",\"showlakes\":true,\"showland\":true,\"subunitcolor\":\"white\"},\"hoverlabel\":{\"align\":\"left\"},\"hovermode\":\"closest\",\"mapbox\":{\"style\":\"light\"},\"paper_bgcolor\":\"white\",\"plot_bgcolor\":\"#E5ECF6\",\"polar\":{\"angularaxis\":{\"gridcolor\":\"white\",\"linecolor\":\"white\",\"ticks\":\"\"},\"bgcolor\":\"#E5ECF6\",\"radialaxis\":{\"gridcolor\":\"white\",\"linecolor\":\"white\",\"ticks\":\"\"}},\"scene\":{\"xaxis\":{\"backgroundcolor\":\"#E5ECF6\",\"gridcolor\":\"white\",\"gridwidth\":2,\"linecolor\":\"white\",\"showbackground\":true,\"ticks\":\"\",\"zerolinecolor\":\"white\"},\"yaxis\":{\"backgroundcolor\":\"#E5ECF6\",\"gridcolor\":\"white\",\"gridwidth\":2,\"linecolor\":\"white\",\"showbackground\":true,\"ticks\":\"\",\"zerolinecolor\":\"white\"},\"zaxis\":{\"backgroundcolor\":\"#E5ECF6\",\"gridcolor\":\"white\",\"gridwidth\":2,\"linecolor\":\"white\",\"showbackground\":true,\"ticks\":\"\",\"zerolinecolor\":\"white\"}},\"shapedefaults\":{\"line\":{\"color\":\"#2a3f5f\"}},\"ternary\":{\"aaxis\":{\"gridcolor\":\"white\",\"linecolor\":\"white\",\"ticks\":\"\"},\"baxis\":{\"gridcolor\":\"white\",\"linecolor\":\"white\",\"ticks\":\"\"},\"bgcolor\":\"#E5ECF6\",\"caxis\":{\"gridcolor\":\"white\",\"linecolor\":\"white\",\"ticks\":\"\"}},\"title\":{\"x\":0.05},\"xaxis\":{\"automargin\":true,\"gridcolor\":\"white\",\"linecolor\":\"white\",\"ticks\":\"\",\"title\":{\"standoff\":15},\"zerolinecolor\":\"white\",\"zerolinewidth\":2},\"yaxis\":{\"automargin\":true,\"gridcolor\":\"white\",\"linecolor\":\"white\",\"ticks\":\"\",\"title\":{\"standoff\":15},\"zerolinecolor\":\"white\",\"zerolinewidth\":2}}},\"title\":{\"font\":{\"color\":\"#4D5663\"}},\"xaxis\":{\"gridcolor\":\"#E1E5ED\",\"showgrid\":true,\"tickfont\":{\"color\":\"#4D5663\"},\"title\":{\"font\":{\"color\":\"#4D5663\"},\"text\":\"\\u041f\\u0440\\u0438\\u0440\\u043e\\u0441\\u0442 \\u0412\\u0412\\u041f(\\u043f\\u0440\\u0435\\u0434. \\u043f\\u0435\\u0440\\u0438\\u043e\\u0434), \\u043c\\u043b\\u043d. $\"},\"zerolinecolor\":\"#E1E5ED\"},\"yaxis\":{\"gridcolor\":\"#E1E5ED\",\"showgrid\":true,\"tickfont\":{\"color\":\"#4D5663\"},\"title\":{\"font\":{\"color\":\"#4D5663\"},\"text\":\"\\u041f\\u043e\\u0442\\u0440\\u0435\\u0431\\u043b\\u0435\\u043d\\u0438\\u0435, \\u043c\\u043b\\u043d. $\"},\"zerolinecolor\":\"#E1E5ED\"}},                        {\"showLink\": true, \"linkText\": \"Export to plot.ly\", \"plotlyServerURL\": \"https://plot.ly\", \"responsive\": true}                    ).then(function(){\n                            \nvar gd = document.getElementById('8f3c3658-500c-4d11-bdea-e5cfe522a8c0');\nvar x = new MutationObserver(function (mutations, observer) {{\n        var display = window.getComputedStyle(gd).display;\n        if (!display || display === 'none') {{\n            console.log([gd, 'removed!']);\n            Plotly.purge(gd);\n            observer.disconnect();\n        }}\n}});\n\n// Listen for the removal of the full notebook cells\nvar notebookContainer = gd.closest('#notebook-container');\nif (notebookContainer) {{\n    x.observe(notebookContainer, {childList: true});\n}}\n\n// Listen for the clearing of the current output cell\nvar outputEl = gd.closest('.output');\nif (outputEl) {{\n    x.observe(outputEl, {childList: true});\n}}\n\n                        })                };                });            </script>        </div>"
     },
     "metadata": {},
     "output_type": "display_data"
    }
   ],
   "source": [
    "df.iplot(\n",
    "    x='Y(t-1) - Y(t-2)', y='C',\n",
    "    xTitle=f'{data_router[\"Y(t-1) - Y(t-2)\"][\"ru\"][\"short\"]}',\n",
    "    yTitle=f'{data_router[\"C\"][\"ru\"][\"short\"]}',\n",
    "    **scatter_config,\n",
    ")"
   ]
  },
  {
   "cell_type": "code",
   "execution_count": 436,
   "metadata": {
    "pycharm": {
     "name": "#%%\n"
    }
   },
   "outputs": [
    {
     "data": {
      "application/vnd.plotly.v1+json": {
       "config": {
        "linkText": "Export to plot.ly",
        "plotlyServerURL": "https://plot.ly",
        "showLink": true
       },
       "data": [
        {
         "line": {
          "color": "rgba(255, 153, 51, 1.0)",
          "dash": "solid",
          "shape": "linear",
          "width": 1.3
         },
         "marker": {
          "size": 8,
          "symbol": "circle"
         },
         "mode": "markers",
         "name": "G",
         "text": "",
         "type": "scatter",
         "x": [
          null,
          436.82893185105996,
          535.6797342106689,
          586.067752337562,
          681.66557328977,
          694.810273670698,
          759.803514443068,
          863.766144728593,
          938.717491850151,
          1097.3169323048899,
          1351.44780633618,
          1643.0211602404102,
          1922.91033602826,
          2179.8958672129797,
          2301.31837729742,
          2309.1520876254403,
          2372.88396826025,
          2487.0038670219496,
          2706.28136883107,
          3009.53890085169,
          3004.22791079879,
          3317.7754860469,
          3498.41553522117,
          3962.86161534732,
          4344.92096227784,
          4580.79530800228,
          5505.57145096357,
          5556.42418072009,
          5624.67040289986,
          5287.09059766238,
          5610.39711713269,
          6219.1029645707395,
          6730.219369786741,
          6903.09209600865,
          7973.588528546389,
          7937.672958313659,
          8768.57735208993,
          10199.690009219601,
          10862.4351804459,
          11703.297680571399,
          12476.710607025,
          14762.693500544701,
          15509.617864109501,
          16226.800683378,
          16374.7781437269,
          16540.6138081288,
          17205.0186637466,
          18463.3913694057,
          18912.9002900081,
          20109.9310605561,
          21086.6221312845,
          23241.2907957462,
          23198.8692626987,
          23398.429713936403,
          26143.0829858997,
          26306.1967678994,
          28648.0114443502,
          29747.1208357979,
          30666.3868265793,
          31635.3105743554,
          32705.143133136502
         ],
         "y": [
          436.82893185105996,
          535.6797342106689,
          586.067752337562,
          681.66557328977,
          694.810273670698,
          759.803514443068,
          863.766144728593,
          938.717491850151,
          1097.3169323048899,
          1351.44780633618,
          1643.0211602404102,
          1922.91033602826,
          2179.8958672129797,
          2301.31837729742,
          2309.1520876254403,
          2372.88396826025,
          2487.0038670219496,
          2706.28136883107,
          3009.53890085169,
          3004.22791079879,
          3317.7754860469,
          3498.41553522117,
          3962.86161534732,
          4344.92096227784,
          4580.79530800228,
          5505.57145096357,
          5556.42418072009,
          5624.67040289986,
          5287.09059766238,
          5610.39711713269,
          6219.1029645707395,
          6730.219369786741,
          6903.09209600865,
          7973.588528546389,
          7937.672958313659,
          8768.57735208993,
          10199.690009219601,
          10862.4351804459,
          11703.297680571399,
          12476.710607025,
          14762.693500544701,
          15509.617864109501,
          16226.800683378,
          16374.7781437269,
          16540.6138081288,
          17205.0186637466,
          18463.3913694057,
          18912.9002900081,
          20109.9310605561,
          21086.6221312845,
          23241.2907957462,
          23198.8692626987,
          23398.429713936403,
          26143.0829858997,
          26306.1967678994,
          28648.0114443502,
          29747.1208357979,
          30666.3868265793,
          31635.3105743554,
          32705.143133136502,
          36823.2848201555
         ]
        }
       ],
       "layout": {
        "legend": {
         "bgcolor": "#FFFFFF",
         "font": {
          "color": "#4D5663"
         }
        },
        "paper_bgcolor": "#FFFFFF",
        "plot_bgcolor": "#FFFFFF",
        "template": {
         "data": {
          "bar": [
           {
            "error_x": {
             "color": "#2a3f5f"
            },
            "error_y": {
             "color": "#2a3f5f"
            },
            "marker": {
             "line": {
              "color": "#E5ECF6",
              "width": 0.5
             },
             "pattern": {
              "fillmode": "overlay",
              "size": 10,
              "solidity": 0.2
             }
            },
            "type": "bar"
           }
          ],
          "barpolar": [
           {
            "marker": {
             "line": {
              "color": "#E5ECF6",
              "width": 0.5
             },
             "pattern": {
              "fillmode": "overlay",
              "size": 10,
              "solidity": 0.2
             }
            },
            "type": "barpolar"
           }
          ],
          "carpet": [
           {
            "aaxis": {
             "endlinecolor": "#2a3f5f",
             "gridcolor": "white",
             "linecolor": "white",
             "minorgridcolor": "white",
             "startlinecolor": "#2a3f5f"
            },
            "baxis": {
             "endlinecolor": "#2a3f5f",
             "gridcolor": "white",
             "linecolor": "white",
             "minorgridcolor": "white",
             "startlinecolor": "#2a3f5f"
            },
            "type": "carpet"
           }
          ],
          "choropleth": [
           {
            "colorbar": {
             "outlinewidth": 0,
             "ticks": ""
            },
            "type": "choropleth"
           }
          ],
          "contour": [
           {
            "colorbar": {
             "outlinewidth": 0,
             "ticks": ""
            },
            "colorscale": [
             [
              0.0,
              "#0d0887"
             ],
             [
              0.1111111111111111,
              "#46039f"
             ],
             [
              0.2222222222222222,
              "#7201a8"
             ],
             [
              0.3333333333333333,
              "#9c179e"
             ],
             [
              0.4444444444444444,
              "#bd3786"
             ],
             [
              0.5555555555555556,
              "#d8576b"
             ],
             [
              0.6666666666666666,
              "#ed7953"
             ],
             [
              0.7777777777777778,
              "#fb9f3a"
             ],
             [
              0.8888888888888888,
              "#fdca26"
             ],
             [
              1.0,
              "#f0f921"
             ]
            ],
            "type": "contour"
           }
          ],
          "contourcarpet": [
           {
            "colorbar": {
             "outlinewidth": 0,
             "ticks": ""
            },
            "type": "contourcarpet"
           }
          ],
          "heatmap": [
           {
            "colorbar": {
             "outlinewidth": 0,
             "ticks": ""
            },
            "colorscale": [
             [
              0.0,
              "#0d0887"
             ],
             [
              0.1111111111111111,
              "#46039f"
             ],
             [
              0.2222222222222222,
              "#7201a8"
             ],
             [
              0.3333333333333333,
              "#9c179e"
             ],
             [
              0.4444444444444444,
              "#bd3786"
             ],
             [
              0.5555555555555556,
              "#d8576b"
             ],
             [
              0.6666666666666666,
              "#ed7953"
             ],
             [
              0.7777777777777778,
              "#fb9f3a"
             ],
             [
              0.8888888888888888,
              "#fdca26"
             ],
             [
              1.0,
              "#f0f921"
             ]
            ],
            "type": "heatmap"
           }
          ],
          "heatmapgl": [
           {
            "colorbar": {
             "outlinewidth": 0,
             "ticks": ""
            },
            "colorscale": [
             [
              0.0,
              "#0d0887"
             ],
             [
              0.1111111111111111,
              "#46039f"
             ],
             [
              0.2222222222222222,
              "#7201a8"
             ],
             [
              0.3333333333333333,
              "#9c179e"
             ],
             [
              0.4444444444444444,
              "#bd3786"
             ],
             [
              0.5555555555555556,
              "#d8576b"
             ],
             [
              0.6666666666666666,
              "#ed7953"
             ],
             [
              0.7777777777777778,
              "#fb9f3a"
             ],
             [
              0.8888888888888888,
              "#fdca26"
             ],
             [
              1.0,
              "#f0f921"
             ]
            ],
            "type": "heatmapgl"
           }
          ],
          "histogram": [
           {
            "marker": {
             "pattern": {
              "fillmode": "overlay",
              "size": 10,
              "solidity": 0.2
             }
            },
            "type": "histogram"
           }
          ],
          "histogram2d": [
           {
            "colorbar": {
             "outlinewidth": 0,
             "ticks": ""
            },
            "colorscale": [
             [
              0.0,
              "#0d0887"
             ],
             [
              0.1111111111111111,
              "#46039f"
             ],
             [
              0.2222222222222222,
              "#7201a8"
             ],
             [
              0.3333333333333333,
              "#9c179e"
             ],
             [
              0.4444444444444444,
              "#bd3786"
             ],
             [
              0.5555555555555556,
              "#d8576b"
             ],
             [
              0.6666666666666666,
              "#ed7953"
             ],
             [
              0.7777777777777778,
              "#fb9f3a"
             ],
             [
              0.8888888888888888,
              "#fdca26"
             ],
             [
              1.0,
              "#f0f921"
             ]
            ],
            "type": "histogram2d"
           }
          ],
          "histogram2dcontour": [
           {
            "colorbar": {
             "outlinewidth": 0,
             "ticks": ""
            },
            "colorscale": [
             [
              0.0,
              "#0d0887"
             ],
             [
              0.1111111111111111,
              "#46039f"
             ],
             [
              0.2222222222222222,
              "#7201a8"
             ],
             [
              0.3333333333333333,
              "#9c179e"
             ],
             [
              0.4444444444444444,
              "#bd3786"
             ],
             [
              0.5555555555555556,
              "#d8576b"
             ],
             [
              0.6666666666666666,
              "#ed7953"
             ],
             [
              0.7777777777777778,
              "#fb9f3a"
             ],
             [
              0.8888888888888888,
              "#fdca26"
             ],
             [
              1.0,
              "#f0f921"
             ]
            ],
            "type": "histogram2dcontour"
           }
          ],
          "mesh3d": [
           {
            "colorbar": {
             "outlinewidth": 0,
             "ticks": ""
            },
            "type": "mesh3d"
           }
          ],
          "parcoords": [
           {
            "line": {
             "colorbar": {
              "outlinewidth": 0,
              "ticks": ""
             }
            },
            "type": "parcoords"
           }
          ],
          "pie": [
           {
            "automargin": true,
            "type": "pie"
           }
          ],
          "scatter": [
           {
            "marker": {
             "colorbar": {
              "outlinewidth": 0,
              "ticks": ""
             }
            },
            "type": "scatter"
           }
          ],
          "scatter3d": [
           {
            "line": {
             "colorbar": {
              "outlinewidth": 0,
              "ticks": ""
             }
            },
            "marker": {
             "colorbar": {
              "outlinewidth": 0,
              "ticks": ""
             }
            },
            "type": "scatter3d"
           }
          ],
          "scattercarpet": [
           {
            "marker": {
             "colorbar": {
              "outlinewidth": 0,
              "ticks": ""
             }
            },
            "type": "scattercarpet"
           }
          ],
          "scattergeo": [
           {
            "marker": {
             "colorbar": {
              "outlinewidth": 0,
              "ticks": ""
             }
            },
            "type": "scattergeo"
           }
          ],
          "scattergl": [
           {
            "marker": {
             "colorbar": {
              "outlinewidth": 0,
              "ticks": ""
             }
            },
            "type": "scattergl"
           }
          ],
          "scattermapbox": [
           {
            "marker": {
             "colorbar": {
              "outlinewidth": 0,
              "ticks": ""
             }
            },
            "type": "scattermapbox"
           }
          ],
          "scatterpolar": [
           {
            "marker": {
             "colorbar": {
              "outlinewidth": 0,
              "ticks": ""
             }
            },
            "type": "scatterpolar"
           }
          ],
          "scatterpolargl": [
           {
            "marker": {
             "colorbar": {
              "outlinewidth": 0,
              "ticks": ""
             }
            },
            "type": "scatterpolargl"
           }
          ],
          "scatterternary": [
           {
            "marker": {
             "colorbar": {
              "outlinewidth": 0,
              "ticks": ""
             }
            },
            "type": "scatterternary"
           }
          ],
          "surface": [
           {
            "colorbar": {
             "outlinewidth": 0,
             "ticks": ""
            },
            "colorscale": [
             [
              0.0,
              "#0d0887"
             ],
             [
              0.1111111111111111,
              "#46039f"
             ],
             [
              0.2222222222222222,
              "#7201a8"
             ],
             [
              0.3333333333333333,
              "#9c179e"
             ],
             [
              0.4444444444444444,
              "#bd3786"
             ],
             [
              0.5555555555555556,
              "#d8576b"
             ],
             [
              0.6666666666666666,
              "#ed7953"
             ],
             [
              0.7777777777777778,
              "#fb9f3a"
             ],
             [
              0.8888888888888888,
              "#fdca26"
             ],
             [
              1.0,
              "#f0f921"
             ]
            ],
            "type": "surface"
           }
          ],
          "table": [
           {
            "cells": {
             "fill": {
              "color": "#EBF0F8"
             },
             "line": {
              "color": "white"
             }
            },
            "header": {
             "fill": {
              "color": "#C8D4E3"
             },
             "line": {
              "color": "white"
             }
            },
            "type": "table"
           }
          ]
         },
         "layout": {
          "annotationdefaults": {
           "arrowcolor": "#2a3f5f",
           "arrowhead": 0,
           "arrowwidth": 1
          },
          "autotypenumbers": "strict",
          "coloraxis": {
           "colorbar": {
            "outlinewidth": 0,
            "ticks": ""
           }
          },
          "colorscale": {
           "diverging": [
            [
             0,
             "#8e0152"
            ],
            [
             0.1,
             "#c51b7d"
            ],
            [
             0.2,
             "#de77ae"
            ],
            [
             0.3,
             "#f1b6da"
            ],
            [
             0.4,
             "#fde0ef"
            ],
            [
             0.5,
             "#f7f7f7"
            ],
            [
             0.6,
             "#e6f5d0"
            ],
            [
             0.7,
             "#b8e186"
            ],
            [
             0.8,
             "#7fbc41"
            ],
            [
             0.9,
             "#4d9221"
            ],
            [
             1,
             "#276419"
            ]
           ],
           "sequential": [
            [
             0.0,
             "#0d0887"
            ],
            [
             0.1111111111111111,
             "#46039f"
            ],
            [
             0.2222222222222222,
             "#7201a8"
            ],
            [
             0.3333333333333333,
             "#9c179e"
            ],
            [
             0.4444444444444444,
             "#bd3786"
            ],
            [
             0.5555555555555556,
             "#d8576b"
            ],
            [
             0.6666666666666666,
             "#ed7953"
            ],
            [
             0.7777777777777778,
             "#fb9f3a"
            ],
            [
             0.8888888888888888,
             "#fdca26"
            ],
            [
             1.0,
             "#f0f921"
            ]
           ],
           "sequentialminus": [
            [
             0.0,
             "#0d0887"
            ],
            [
             0.1111111111111111,
             "#46039f"
            ],
            [
             0.2222222222222222,
             "#7201a8"
            ],
            [
             0.3333333333333333,
             "#9c179e"
            ],
            [
             0.4444444444444444,
             "#bd3786"
            ],
            [
             0.5555555555555556,
             "#d8576b"
            ],
            [
             0.6666666666666666,
             "#ed7953"
            ],
            [
             0.7777777777777778,
             "#fb9f3a"
            ],
            [
             0.8888888888888888,
             "#fdca26"
            ],
            [
             1.0,
             "#f0f921"
            ]
           ]
          },
          "colorway": [
           "#636efa",
           "#EF553B",
           "#00cc96",
           "#ab63fa",
           "#FFA15A",
           "#19d3f3",
           "#FF6692",
           "#B6E880",
           "#FF97FF",
           "#FECB52"
          ],
          "font": {
           "color": "#2a3f5f"
          },
          "geo": {
           "bgcolor": "white",
           "lakecolor": "white",
           "landcolor": "#E5ECF6",
           "showlakes": true,
           "showland": true,
           "subunitcolor": "white"
          },
          "hoverlabel": {
           "align": "left"
          },
          "hovermode": "closest",
          "mapbox": {
           "style": "light"
          },
          "paper_bgcolor": "white",
          "plot_bgcolor": "#E5ECF6",
          "polar": {
           "angularaxis": {
            "gridcolor": "white",
            "linecolor": "white",
            "ticks": ""
           },
           "bgcolor": "#E5ECF6",
           "radialaxis": {
            "gridcolor": "white",
            "linecolor": "white",
            "ticks": ""
           }
          },
          "scene": {
           "xaxis": {
            "backgroundcolor": "#E5ECF6",
            "gridcolor": "white",
            "gridwidth": 2,
            "linecolor": "white",
            "showbackground": true,
            "ticks": "",
            "zerolinecolor": "white"
           },
           "yaxis": {
            "backgroundcolor": "#E5ECF6",
            "gridcolor": "white",
            "gridwidth": 2,
            "linecolor": "white",
            "showbackground": true,
            "ticks": "",
            "zerolinecolor": "white"
           },
           "zaxis": {
            "backgroundcolor": "#E5ECF6",
            "gridcolor": "white",
            "gridwidth": 2,
            "linecolor": "white",
            "showbackground": true,
            "ticks": "",
            "zerolinecolor": "white"
           }
          },
          "shapedefaults": {
           "line": {
            "color": "#2a3f5f"
           }
          },
          "ternary": {
           "aaxis": {
            "gridcolor": "white",
            "linecolor": "white",
            "ticks": ""
           },
           "baxis": {
            "gridcolor": "white",
            "linecolor": "white",
            "ticks": ""
           },
           "bgcolor": "#E5ECF6",
           "caxis": {
            "gridcolor": "white",
            "linecolor": "white",
            "ticks": ""
           }
          },
          "title": {
           "x": 0.05
          },
          "xaxis": {
           "automargin": true,
           "gridcolor": "white",
           "linecolor": "white",
           "ticks": "",
           "title": {
            "standoff": 15
           },
           "zerolinecolor": "white",
           "zerolinewidth": 2
          },
          "yaxis": {
           "automargin": true,
           "gridcolor": "white",
           "linecolor": "white",
           "ticks": "",
           "title": {
            "standoff": 15
           },
           "zerolinecolor": "white",
           "zerolinewidth": 2
          }
         }
        },
        "title": {
         "font": {
          "color": "#4D5663"
         }
        },
        "xaxis": {
         "gridcolor": "#E1E5ED",
         "showgrid": true,
         "tickfont": {
          "color": "#4D5663"
         },
         "title": {
          "font": {
           "color": "#4D5663"
          },
          "text": "Гос. расходы(пред. период), млн. $"
         },
         "zerolinecolor": "#E1E5ED"
        },
        "yaxis": {
         "gridcolor": "#E1E5ED",
         "showgrid": true,
         "tickfont": {
          "color": "#4D5663"
         },
         "title": {
          "font": {
           "color": "#4D5663"
          },
          "text": "Гос. расходы, млн. $"
         },
         "zerolinecolor": "#E1E5ED"
        }
       }
      },
      "text/html": "<div>                            <div id=\"817b598a-d4c5-4f93-9c50-1224065abcfe\" class=\"plotly-graph-div\" style=\"height:525px; width:100%;\"></div>            <script type=\"text/javascript\">                require([\"plotly\"], function(Plotly) {                    window.PLOTLYENV=window.PLOTLYENV || {};\n                    window.PLOTLYENV.BASE_URL='https://plot.ly';                                    if (document.getElementById(\"817b598a-d4c5-4f93-9c50-1224065abcfe\")) {                    Plotly.newPlot(                        \"817b598a-d4c5-4f93-9c50-1224065abcfe\",                        [{\"line\":{\"color\":\"rgba(255, 153, 51, 1.0)\",\"dash\":\"solid\",\"shape\":\"linear\",\"width\":1.3},\"marker\":{\"size\":8,\"symbol\":\"circle\"},\"mode\":\"markers\",\"name\":\"G\",\"text\":\"\",\"type\":\"scatter\",\"x\":[null,436.82893185105996,535.6797342106689,586.067752337562,681.66557328977,694.810273670698,759.803514443068,863.766144728593,938.717491850151,1097.3169323048899,1351.44780633618,1643.0211602404102,1922.91033602826,2179.8958672129797,2301.31837729742,2309.1520876254403,2372.88396826025,2487.0038670219496,2706.28136883107,3009.53890085169,3004.22791079879,3317.7754860469,3498.41553522117,3962.86161534732,4344.92096227784,4580.79530800228,5505.57145096357,5556.42418072009,5624.67040289986,5287.09059766238,5610.39711713269,6219.1029645707395,6730.219369786741,6903.09209600865,7973.588528546389,7937.672958313659,8768.57735208993,10199.690009219601,10862.4351804459,11703.297680571399,12476.710607025,14762.693500544701,15509.617864109501,16226.800683378,16374.7781437269,16540.6138081288,17205.0186637466,18463.3913694057,18912.9002900081,20109.9310605561,21086.6221312845,23241.2907957462,23198.8692626987,23398.429713936403,26143.0829858997,26306.1967678994,28648.0114443502,29747.1208357979,30666.3868265793,31635.3105743554,32705.143133136502],\"y\":[436.82893185105996,535.6797342106689,586.067752337562,681.66557328977,694.810273670698,759.803514443068,863.766144728593,938.717491850151,1097.3169323048899,1351.44780633618,1643.0211602404102,1922.91033602826,2179.8958672129797,2301.31837729742,2309.1520876254403,2372.88396826025,2487.0038670219496,2706.28136883107,3009.53890085169,3004.22791079879,3317.7754860469,3498.41553522117,3962.86161534732,4344.92096227784,4580.79530800228,5505.57145096357,5556.42418072009,5624.67040289986,5287.09059766238,5610.39711713269,6219.1029645707395,6730.219369786741,6903.09209600865,7973.588528546389,7937.672958313659,8768.57735208993,10199.690009219601,10862.4351804459,11703.297680571399,12476.710607025,14762.693500544701,15509.617864109501,16226.800683378,16374.7781437269,16540.6138081288,17205.0186637466,18463.3913694057,18912.9002900081,20109.9310605561,21086.6221312845,23241.2907957462,23198.8692626987,23398.429713936403,26143.0829858997,26306.1967678994,28648.0114443502,29747.1208357979,30666.3868265793,31635.3105743554,32705.143133136502,36823.2848201555]}],                        {\"legend\":{\"bgcolor\":\"#FFFFFF\",\"font\":{\"color\":\"#4D5663\"}},\"paper_bgcolor\":\"#FFFFFF\",\"plot_bgcolor\":\"#FFFFFF\",\"template\":{\"data\":{\"bar\":[{\"error_x\":{\"color\":\"#2a3f5f\"},\"error_y\":{\"color\":\"#2a3f5f\"},\"marker\":{\"line\":{\"color\":\"#E5ECF6\",\"width\":0.5},\"pattern\":{\"fillmode\":\"overlay\",\"size\":10,\"solidity\":0.2}},\"type\":\"bar\"}],\"barpolar\":[{\"marker\":{\"line\":{\"color\":\"#E5ECF6\",\"width\":0.5},\"pattern\":{\"fillmode\":\"overlay\",\"size\":10,\"solidity\":0.2}},\"type\":\"barpolar\"}],\"carpet\":[{\"aaxis\":{\"endlinecolor\":\"#2a3f5f\",\"gridcolor\":\"white\",\"linecolor\":\"white\",\"minorgridcolor\":\"white\",\"startlinecolor\":\"#2a3f5f\"},\"baxis\":{\"endlinecolor\":\"#2a3f5f\",\"gridcolor\":\"white\",\"linecolor\":\"white\",\"minorgridcolor\":\"white\",\"startlinecolor\":\"#2a3f5f\"},\"type\":\"carpet\"}],\"choropleth\":[{\"colorbar\":{\"outlinewidth\":0,\"ticks\":\"\"},\"type\":\"choropleth\"}],\"contour\":[{\"colorbar\":{\"outlinewidth\":0,\"ticks\":\"\"},\"colorscale\":[[0.0,\"#0d0887\"],[0.1111111111111111,\"#46039f\"],[0.2222222222222222,\"#7201a8\"],[0.3333333333333333,\"#9c179e\"],[0.4444444444444444,\"#bd3786\"],[0.5555555555555556,\"#d8576b\"],[0.6666666666666666,\"#ed7953\"],[0.7777777777777778,\"#fb9f3a\"],[0.8888888888888888,\"#fdca26\"],[1.0,\"#f0f921\"]],\"type\":\"contour\"}],\"contourcarpet\":[{\"colorbar\":{\"outlinewidth\":0,\"ticks\":\"\"},\"type\":\"contourcarpet\"}],\"heatmap\":[{\"colorbar\":{\"outlinewidth\":0,\"ticks\":\"\"},\"colorscale\":[[0.0,\"#0d0887\"],[0.1111111111111111,\"#46039f\"],[0.2222222222222222,\"#7201a8\"],[0.3333333333333333,\"#9c179e\"],[0.4444444444444444,\"#bd3786\"],[0.5555555555555556,\"#d8576b\"],[0.6666666666666666,\"#ed7953\"],[0.7777777777777778,\"#fb9f3a\"],[0.8888888888888888,\"#fdca26\"],[1.0,\"#f0f921\"]],\"type\":\"heatmap\"}],\"heatmapgl\":[{\"colorbar\":{\"outlinewidth\":0,\"ticks\":\"\"},\"colorscale\":[[0.0,\"#0d0887\"],[0.1111111111111111,\"#46039f\"],[0.2222222222222222,\"#7201a8\"],[0.3333333333333333,\"#9c179e\"],[0.4444444444444444,\"#bd3786\"],[0.5555555555555556,\"#d8576b\"],[0.6666666666666666,\"#ed7953\"],[0.7777777777777778,\"#fb9f3a\"],[0.8888888888888888,\"#fdca26\"],[1.0,\"#f0f921\"]],\"type\":\"heatmapgl\"}],\"histogram\":[{\"marker\":{\"pattern\":{\"fillmode\":\"overlay\",\"size\":10,\"solidity\":0.2}},\"type\":\"histogram\"}],\"histogram2d\":[{\"colorbar\":{\"outlinewidth\":0,\"ticks\":\"\"},\"colorscale\":[[0.0,\"#0d0887\"],[0.1111111111111111,\"#46039f\"],[0.2222222222222222,\"#7201a8\"],[0.3333333333333333,\"#9c179e\"],[0.4444444444444444,\"#bd3786\"],[0.5555555555555556,\"#d8576b\"],[0.6666666666666666,\"#ed7953\"],[0.7777777777777778,\"#fb9f3a\"],[0.8888888888888888,\"#fdca26\"],[1.0,\"#f0f921\"]],\"type\":\"histogram2d\"}],\"histogram2dcontour\":[{\"colorbar\":{\"outlinewidth\":0,\"ticks\":\"\"},\"colorscale\":[[0.0,\"#0d0887\"],[0.1111111111111111,\"#46039f\"],[0.2222222222222222,\"#7201a8\"],[0.3333333333333333,\"#9c179e\"],[0.4444444444444444,\"#bd3786\"],[0.5555555555555556,\"#d8576b\"],[0.6666666666666666,\"#ed7953\"],[0.7777777777777778,\"#fb9f3a\"],[0.8888888888888888,\"#fdca26\"],[1.0,\"#f0f921\"]],\"type\":\"histogram2dcontour\"}],\"mesh3d\":[{\"colorbar\":{\"outlinewidth\":0,\"ticks\":\"\"},\"type\":\"mesh3d\"}],\"parcoords\":[{\"line\":{\"colorbar\":{\"outlinewidth\":0,\"ticks\":\"\"}},\"type\":\"parcoords\"}],\"pie\":[{\"automargin\":true,\"type\":\"pie\"}],\"scatter\":[{\"marker\":{\"colorbar\":{\"outlinewidth\":0,\"ticks\":\"\"}},\"type\":\"scatter\"}],\"scatter3d\":[{\"line\":{\"colorbar\":{\"outlinewidth\":0,\"ticks\":\"\"}},\"marker\":{\"colorbar\":{\"outlinewidth\":0,\"ticks\":\"\"}},\"type\":\"scatter3d\"}],\"scattercarpet\":[{\"marker\":{\"colorbar\":{\"outlinewidth\":0,\"ticks\":\"\"}},\"type\":\"scattercarpet\"}],\"scattergeo\":[{\"marker\":{\"colorbar\":{\"outlinewidth\":0,\"ticks\":\"\"}},\"type\":\"scattergeo\"}],\"scattergl\":[{\"marker\":{\"colorbar\":{\"outlinewidth\":0,\"ticks\":\"\"}},\"type\":\"scattergl\"}],\"scattermapbox\":[{\"marker\":{\"colorbar\":{\"outlinewidth\":0,\"ticks\":\"\"}},\"type\":\"scattermapbox\"}],\"scatterpolar\":[{\"marker\":{\"colorbar\":{\"outlinewidth\":0,\"ticks\":\"\"}},\"type\":\"scatterpolar\"}],\"scatterpolargl\":[{\"marker\":{\"colorbar\":{\"outlinewidth\":0,\"ticks\":\"\"}},\"type\":\"scatterpolargl\"}],\"scatterternary\":[{\"marker\":{\"colorbar\":{\"outlinewidth\":0,\"ticks\":\"\"}},\"type\":\"scatterternary\"}],\"surface\":[{\"colorbar\":{\"outlinewidth\":0,\"ticks\":\"\"},\"colorscale\":[[0.0,\"#0d0887\"],[0.1111111111111111,\"#46039f\"],[0.2222222222222222,\"#7201a8\"],[0.3333333333333333,\"#9c179e\"],[0.4444444444444444,\"#bd3786\"],[0.5555555555555556,\"#d8576b\"],[0.6666666666666666,\"#ed7953\"],[0.7777777777777778,\"#fb9f3a\"],[0.8888888888888888,\"#fdca26\"],[1.0,\"#f0f921\"]],\"type\":\"surface\"}],\"table\":[{\"cells\":{\"fill\":{\"color\":\"#EBF0F8\"},\"line\":{\"color\":\"white\"}},\"header\":{\"fill\":{\"color\":\"#C8D4E3\"},\"line\":{\"color\":\"white\"}},\"type\":\"table\"}]},\"layout\":{\"annotationdefaults\":{\"arrowcolor\":\"#2a3f5f\",\"arrowhead\":0,\"arrowwidth\":1},\"autotypenumbers\":\"strict\",\"coloraxis\":{\"colorbar\":{\"outlinewidth\":0,\"ticks\":\"\"}},\"colorscale\":{\"diverging\":[[0,\"#8e0152\"],[0.1,\"#c51b7d\"],[0.2,\"#de77ae\"],[0.3,\"#f1b6da\"],[0.4,\"#fde0ef\"],[0.5,\"#f7f7f7\"],[0.6,\"#e6f5d0\"],[0.7,\"#b8e186\"],[0.8,\"#7fbc41\"],[0.9,\"#4d9221\"],[1,\"#276419\"]],\"sequential\":[[0.0,\"#0d0887\"],[0.1111111111111111,\"#46039f\"],[0.2222222222222222,\"#7201a8\"],[0.3333333333333333,\"#9c179e\"],[0.4444444444444444,\"#bd3786\"],[0.5555555555555556,\"#d8576b\"],[0.6666666666666666,\"#ed7953\"],[0.7777777777777778,\"#fb9f3a\"],[0.8888888888888888,\"#fdca26\"],[1.0,\"#f0f921\"]],\"sequentialminus\":[[0.0,\"#0d0887\"],[0.1111111111111111,\"#46039f\"],[0.2222222222222222,\"#7201a8\"],[0.3333333333333333,\"#9c179e\"],[0.4444444444444444,\"#bd3786\"],[0.5555555555555556,\"#d8576b\"],[0.6666666666666666,\"#ed7953\"],[0.7777777777777778,\"#fb9f3a\"],[0.8888888888888888,\"#fdca26\"],[1.0,\"#f0f921\"]]},\"colorway\":[\"#636efa\",\"#EF553B\",\"#00cc96\",\"#ab63fa\",\"#FFA15A\",\"#19d3f3\",\"#FF6692\",\"#B6E880\",\"#FF97FF\",\"#FECB52\"],\"font\":{\"color\":\"#2a3f5f\"},\"geo\":{\"bgcolor\":\"white\",\"lakecolor\":\"white\",\"landcolor\":\"#E5ECF6\",\"showlakes\":true,\"showland\":true,\"subunitcolor\":\"white\"},\"hoverlabel\":{\"align\":\"left\"},\"hovermode\":\"closest\",\"mapbox\":{\"style\":\"light\"},\"paper_bgcolor\":\"white\",\"plot_bgcolor\":\"#E5ECF6\",\"polar\":{\"angularaxis\":{\"gridcolor\":\"white\",\"linecolor\":\"white\",\"ticks\":\"\"},\"bgcolor\":\"#E5ECF6\",\"radialaxis\":{\"gridcolor\":\"white\",\"linecolor\":\"white\",\"ticks\":\"\"}},\"scene\":{\"xaxis\":{\"backgroundcolor\":\"#E5ECF6\",\"gridcolor\":\"white\",\"gridwidth\":2,\"linecolor\":\"white\",\"showbackground\":true,\"ticks\":\"\",\"zerolinecolor\":\"white\"},\"yaxis\":{\"backgroundcolor\":\"#E5ECF6\",\"gridcolor\":\"white\",\"gridwidth\":2,\"linecolor\":\"white\",\"showbackground\":true,\"ticks\":\"\",\"zerolinecolor\":\"white\"},\"zaxis\":{\"backgroundcolor\":\"#E5ECF6\",\"gridcolor\":\"white\",\"gridwidth\":2,\"linecolor\":\"white\",\"showbackground\":true,\"ticks\":\"\",\"zerolinecolor\":\"white\"}},\"shapedefaults\":{\"line\":{\"color\":\"#2a3f5f\"}},\"ternary\":{\"aaxis\":{\"gridcolor\":\"white\",\"linecolor\":\"white\",\"ticks\":\"\"},\"baxis\":{\"gridcolor\":\"white\",\"linecolor\":\"white\",\"ticks\":\"\"},\"bgcolor\":\"#E5ECF6\",\"caxis\":{\"gridcolor\":\"white\",\"linecolor\":\"white\",\"ticks\":\"\"}},\"title\":{\"x\":0.05},\"xaxis\":{\"automargin\":true,\"gridcolor\":\"white\",\"linecolor\":\"white\",\"ticks\":\"\",\"title\":{\"standoff\":15},\"zerolinecolor\":\"white\",\"zerolinewidth\":2},\"yaxis\":{\"automargin\":true,\"gridcolor\":\"white\",\"linecolor\":\"white\",\"ticks\":\"\",\"title\":{\"standoff\":15},\"zerolinecolor\":\"white\",\"zerolinewidth\":2}}},\"title\":{\"font\":{\"color\":\"#4D5663\"}},\"xaxis\":{\"gridcolor\":\"#E1E5ED\",\"showgrid\":true,\"tickfont\":{\"color\":\"#4D5663\"},\"title\":{\"font\":{\"color\":\"#4D5663\"},\"text\":\"\\u0413\\u043e\\u0441. \\u0440\\u0430\\u0441\\u0445\\u043e\\u0434\\u044b(\\u043f\\u0440\\u0435\\u0434. \\u043f\\u0435\\u0440\\u0438\\u043e\\u0434), \\u043c\\u043b\\u043d. $\"},\"zerolinecolor\":\"#E1E5ED\"},\"yaxis\":{\"gridcolor\":\"#E1E5ED\",\"showgrid\":true,\"tickfont\":{\"color\":\"#4D5663\"},\"title\":{\"font\":{\"color\":\"#4D5663\"},\"text\":\"\\u0413\\u043e\\u0441. \\u0440\\u0430\\u0441\\u0445\\u043e\\u0434\\u044b, \\u043c\\u043b\\u043d. $\"},\"zerolinecolor\":\"#E1E5ED\"}},                        {\"showLink\": true, \"linkText\": \"Export to plot.ly\", \"plotlyServerURL\": \"https://plot.ly\", \"responsive\": true}                    ).then(function(){\n                            \nvar gd = document.getElementById('817b598a-d4c5-4f93-9c50-1224065abcfe');\nvar x = new MutationObserver(function (mutations, observer) {{\n        var display = window.getComputedStyle(gd).display;\n        if (!display || display === 'none') {{\n            console.log([gd, 'removed!']);\n            Plotly.purge(gd);\n            observer.disconnect();\n        }}\n}});\n\n// Listen for the removal of the full notebook cells\nvar notebookContainer = gd.closest('#notebook-container');\nif (notebookContainer) {{\n    x.observe(notebookContainer, {childList: true});\n}}\n\n// Listen for the clearing of the current output cell\nvar outputEl = gd.closest('.output');\nif (outputEl) {{\n    x.observe(outputEl, {childList: true});\n}}\n\n                        })                };                });            </script>        </div>"
     },
     "metadata": {},
     "output_type": "display_data"
    }
   ],
   "source": [
    "df.iplot(\n",
    "    x='G(t-1)', y='G',\n",
    "    xTitle=f'{data_router[\"G(t-1)\"][\"ru\"][\"short\"]}',\n",
    "    yTitle=f'{data_router[\"G\"][\"ru\"][\"short\"]}',\n",
    "    **scatter_config,\n",
    ")"
   ]
  },
  {
   "cell_type": "code",
   "execution_count": 437,
   "metadata": {
    "pycharm": {
     "name": "#%%\n"
    }
   },
   "outputs": [
    {
     "data": {
      "application/vnd.plotly.v1+json": {
       "config": {
        "linkText": "Export to plot.ly",
        "plotlyServerURL": "https://plot.ly",
        "showLink": true
       },
       "data": [
        {
         "line": {
          "color": "rgba(255, 153, 51, 1.0)",
          "dash": "solid",
          "shape": "linear",
          "width": 1.3
         },
         "marker": {
          "size": 8,
          "symbol": "circle"
         },
         "mode": "markers",
         "name": "Y",
         "text": "",
         "type": "scatter",
         "x": [
          5592.360813056414,
          6196.316092606512,
          6477.773333662827,
          6869.376900112365,
          6615.987338347547,
          6880.962796474083,
          7401.218333159515,
          8210.144405367051,
          9074.529635631332,
          9786.07423335992,
          11119.854235893657,
          12399.407918685074,
          13190.555261738955,
          14357.142074400863,
          14878.84826953875,
          15443.306264260475,
          16132.807550722375,
          17083.12828371279,
          18088.626933641655,
          18929.432079551432,
          19650.01543971948,
          20748.687726621876,
          21894.0455071961,
          22910.326445985265,
          24795.655277145695,
          26460.576843985276,
          27326.244710875922,
          29965.35772955545,
          32019.03252410973,
          34796.42491865579,
          37206.18668586829,
          38517.35636648465,
          40812.51800612965,
          45909.50204094694,
          49554.45193313509,
          51025.44405287252,
          55123.07911658631,
          58698.887057711116,
          57890.47935864027,
          64130.65033911872,
          71390.43776842028,
          78040.13299755832,
          81330.46668111297,
          83446.65600091543,
          84186.58604011402,
          85938.44159906569,
          90415.72790591742,
          94239.28752909912,
          104704.43882070063,
          102671.7575088894,
          110382.83828382817,
          116927.51270564942,
          122974.05199365722,
          131474.55383110663,
          137051.82911417627,
          141546.96756592413,
          144473.39259052844,
          146496.8135230113,
          148811.6193174522,
          155587.3592021913,
          145537.15193369778
         ],
         "y": [
          5768.0160721365,
          6237.3530632452,
          6708.52560816992,
          7382.10326042145,
          7153.01202453881,
          7713.42072421103,
          8498.61416812063,
          9561.68222048448,
          10855.1122767574,
          12356.7364947,
          14079.544947471599,
          15827.345171430401,
          17934.843345103298,
          19836.4065002647,
          21049.9193673175,
          21888.061478996602,
          23515.9153209016,
          25127.39037491,
          27081.619804946098,
          29669.044703281503,
          32669.5398084426,
          36203.1221007069,
          38774.309407593006,
          42091.2963495683,
          45792.1258337604,
          45506.9090100421,
          46118.0072343257,
          51097.723540710096,
          56853.243727253,
          62628.7432111009,
          68779.54285209891,
          73379.864304359,
          78252.0595160596,
          87221.9168273286,
          96901.4980813798,
          103879.285314713,
          111640.501036364,
          120928.89753293499,
          118274.051330973,
          125044.067991979,
          136346.984801619,
          134889.41387525998,
          140169.80801635198,
          146527.60164921702,
          160916.01382534398,
          172757.877474653,
          188314.972645788,
          205304.99996321302,
          209140.601456434,
          209393.625490149,
          239809.387605427,
          255008.196791322,
          266385.665325181,
          279271.535506458,
          290269.25619507395,
          298944.012931308,
          308895.962132365,
          322859.23180541495,
          334151.135292159,
          338646.194792894,
          320389.705940647
         ]
        }
       ],
       "layout": {
        "legend": {
         "bgcolor": "#FFFFFF",
         "font": {
          "color": "#4D5663"
         }
        },
        "paper_bgcolor": "#FFFFFF",
        "plot_bgcolor": "#FFFFFF",
        "template": {
         "data": {
          "bar": [
           {
            "error_x": {
             "color": "#2a3f5f"
            },
            "error_y": {
             "color": "#2a3f5f"
            },
            "marker": {
             "line": {
              "color": "#E5ECF6",
              "width": 0.5
             },
             "pattern": {
              "fillmode": "overlay",
              "size": 10,
              "solidity": 0.2
             }
            },
            "type": "bar"
           }
          ],
          "barpolar": [
           {
            "marker": {
             "line": {
              "color": "#E5ECF6",
              "width": 0.5
             },
             "pattern": {
              "fillmode": "overlay",
              "size": 10,
              "solidity": 0.2
             }
            },
            "type": "barpolar"
           }
          ],
          "carpet": [
           {
            "aaxis": {
             "endlinecolor": "#2a3f5f",
             "gridcolor": "white",
             "linecolor": "white",
             "minorgridcolor": "white",
             "startlinecolor": "#2a3f5f"
            },
            "baxis": {
             "endlinecolor": "#2a3f5f",
             "gridcolor": "white",
             "linecolor": "white",
             "minorgridcolor": "white",
             "startlinecolor": "#2a3f5f"
            },
            "type": "carpet"
           }
          ],
          "choropleth": [
           {
            "colorbar": {
             "outlinewidth": 0,
             "ticks": ""
            },
            "type": "choropleth"
           }
          ],
          "contour": [
           {
            "colorbar": {
             "outlinewidth": 0,
             "ticks": ""
            },
            "colorscale": [
             [
              0.0,
              "#0d0887"
             ],
             [
              0.1111111111111111,
              "#46039f"
             ],
             [
              0.2222222222222222,
              "#7201a8"
             ],
             [
              0.3333333333333333,
              "#9c179e"
             ],
             [
              0.4444444444444444,
              "#bd3786"
             ],
             [
              0.5555555555555556,
              "#d8576b"
             ],
             [
              0.6666666666666666,
              "#ed7953"
             ],
             [
              0.7777777777777778,
              "#fb9f3a"
             ],
             [
              0.8888888888888888,
              "#fdca26"
             ],
             [
              1.0,
              "#f0f921"
             ]
            ],
            "type": "contour"
           }
          ],
          "contourcarpet": [
           {
            "colorbar": {
             "outlinewidth": 0,
             "ticks": ""
            },
            "type": "contourcarpet"
           }
          ],
          "heatmap": [
           {
            "colorbar": {
             "outlinewidth": 0,
             "ticks": ""
            },
            "colorscale": [
             [
              0.0,
              "#0d0887"
             ],
             [
              0.1111111111111111,
              "#46039f"
             ],
             [
              0.2222222222222222,
              "#7201a8"
             ],
             [
              0.3333333333333333,
              "#9c179e"
             ],
             [
              0.4444444444444444,
              "#bd3786"
             ],
             [
              0.5555555555555556,
              "#d8576b"
             ],
             [
              0.6666666666666666,
              "#ed7953"
             ],
             [
              0.7777777777777778,
              "#fb9f3a"
             ],
             [
              0.8888888888888888,
              "#fdca26"
             ],
             [
              1.0,
              "#f0f921"
             ]
            ],
            "type": "heatmap"
           }
          ],
          "heatmapgl": [
           {
            "colorbar": {
             "outlinewidth": 0,
             "ticks": ""
            },
            "colorscale": [
             [
              0.0,
              "#0d0887"
             ],
             [
              0.1111111111111111,
              "#46039f"
             ],
             [
              0.2222222222222222,
              "#7201a8"
             ],
             [
              0.3333333333333333,
              "#9c179e"
             ],
             [
              0.4444444444444444,
              "#bd3786"
             ],
             [
              0.5555555555555556,
              "#d8576b"
             ],
             [
              0.6666666666666666,
              "#ed7953"
             ],
             [
              0.7777777777777778,
              "#fb9f3a"
             ],
             [
              0.8888888888888888,
              "#fdca26"
             ],
             [
              1.0,
              "#f0f921"
             ]
            ],
            "type": "heatmapgl"
           }
          ],
          "histogram": [
           {
            "marker": {
             "pattern": {
              "fillmode": "overlay",
              "size": 10,
              "solidity": 0.2
             }
            },
            "type": "histogram"
           }
          ],
          "histogram2d": [
           {
            "colorbar": {
             "outlinewidth": 0,
             "ticks": ""
            },
            "colorscale": [
             [
              0.0,
              "#0d0887"
             ],
             [
              0.1111111111111111,
              "#46039f"
             ],
             [
              0.2222222222222222,
              "#7201a8"
             ],
             [
              0.3333333333333333,
              "#9c179e"
             ],
             [
              0.4444444444444444,
              "#bd3786"
             ],
             [
              0.5555555555555556,
              "#d8576b"
             ],
             [
              0.6666666666666666,
              "#ed7953"
             ],
             [
              0.7777777777777778,
              "#fb9f3a"
             ],
             [
              0.8888888888888888,
              "#fdca26"
             ],
             [
              1.0,
              "#f0f921"
             ]
            ],
            "type": "histogram2d"
           }
          ],
          "histogram2dcontour": [
           {
            "colorbar": {
             "outlinewidth": 0,
             "ticks": ""
            },
            "colorscale": [
             [
              0.0,
              "#0d0887"
             ],
             [
              0.1111111111111111,
              "#46039f"
             ],
             [
              0.2222222222222222,
              "#7201a8"
             ],
             [
              0.3333333333333333,
              "#9c179e"
             ],
             [
              0.4444444444444444,
              "#bd3786"
             ],
             [
              0.5555555555555556,
              "#d8576b"
             ],
             [
              0.6666666666666666,
              "#ed7953"
             ],
             [
              0.7777777777777778,
              "#fb9f3a"
             ],
             [
              0.8888888888888888,
              "#fdca26"
             ],
             [
              1.0,
              "#f0f921"
             ]
            ],
            "type": "histogram2dcontour"
           }
          ],
          "mesh3d": [
           {
            "colorbar": {
             "outlinewidth": 0,
             "ticks": ""
            },
            "type": "mesh3d"
           }
          ],
          "parcoords": [
           {
            "line": {
             "colorbar": {
              "outlinewidth": 0,
              "ticks": ""
             }
            },
            "type": "parcoords"
           }
          ],
          "pie": [
           {
            "automargin": true,
            "type": "pie"
           }
          ],
          "scatter": [
           {
            "marker": {
             "colorbar": {
              "outlinewidth": 0,
              "ticks": ""
             }
            },
            "type": "scatter"
           }
          ],
          "scatter3d": [
           {
            "line": {
             "colorbar": {
              "outlinewidth": 0,
              "ticks": ""
             }
            },
            "marker": {
             "colorbar": {
              "outlinewidth": 0,
              "ticks": ""
             }
            },
            "type": "scatter3d"
           }
          ],
          "scattercarpet": [
           {
            "marker": {
             "colorbar": {
              "outlinewidth": 0,
              "ticks": ""
             }
            },
            "type": "scattercarpet"
           }
          ],
          "scattergeo": [
           {
            "marker": {
             "colorbar": {
              "outlinewidth": 0,
              "ticks": ""
             }
            },
            "type": "scattergeo"
           }
          ],
          "scattergl": [
           {
            "marker": {
             "colorbar": {
              "outlinewidth": 0,
              "ticks": ""
             }
            },
            "type": "scattergl"
           }
          ],
          "scattermapbox": [
           {
            "marker": {
             "colorbar": {
              "outlinewidth": 0,
              "ticks": ""
             }
            },
            "type": "scattermapbox"
           }
          ],
          "scatterpolar": [
           {
            "marker": {
             "colorbar": {
              "outlinewidth": 0,
              "ticks": ""
             }
            },
            "type": "scatterpolar"
           }
          ],
          "scatterpolargl": [
           {
            "marker": {
             "colorbar": {
              "outlinewidth": 0,
              "ticks": ""
             }
            },
            "type": "scatterpolargl"
           }
          ],
          "scatterternary": [
           {
            "marker": {
             "colorbar": {
              "outlinewidth": 0,
              "ticks": ""
             }
            },
            "type": "scatterternary"
           }
          ],
          "surface": [
           {
            "colorbar": {
             "outlinewidth": 0,
             "ticks": ""
            },
            "colorscale": [
             [
              0.0,
              "#0d0887"
             ],
             [
              0.1111111111111111,
              "#46039f"
             ],
             [
              0.2222222222222222,
              "#7201a8"
             ],
             [
              0.3333333333333333,
              "#9c179e"
             ],
             [
              0.4444444444444444,
              "#bd3786"
             ],
             [
              0.5555555555555556,
              "#d8576b"
             ],
             [
              0.6666666666666666,
              "#ed7953"
             ],
             [
              0.7777777777777778,
              "#fb9f3a"
             ],
             [
              0.8888888888888888,
              "#fdca26"
             ],
             [
              1.0,
              "#f0f921"
             ]
            ],
            "type": "surface"
           }
          ],
          "table": [
           {
            "cells": {
             "fill": {
              "color": "#EBF0F8"
             },
             "line": {
              "color": "white"
             }
            },
            "header": {
             "fill": {
              "color": "#C8D4E3"
             },
             "line": {
              "color": "white"
             }
            },
            "type": "table"
           }
          ]
         },
         "layout": {
          "annotationdefaults": {
           "arrowcolor": "#2a3f5f",
           "arrowhead": 0,
           "arrowwidth": 1
          },
          "autotypenumbers": "strict",
          "coloraxis": {
           "colorbar": {
            "outlinewidth": 0,
            "ticks": ""
           }
          },
          "colorscale": {
           "diverging": [
            [
             0,
             "#8e0152"
            ],
            [
             0.1,
             "#c51b7d"
            ],
            [
             0.2,
             "#de77ae"
            ],
            [
             0.3,
             "#f1b6da"
            ],
            [
             0.4,
             "#fde0ef"
            ],
            [
             0.5,
             "#f7f7f7"
            ],
            [
             0.6,
             "#e6f5d0"
            ],
            [
             0.7,
             "#b8e186"
            ],
            [
             0.8,
             "#7fbc41"
            ],
            [
             0.9,
             "#4d9221"
            ],
            [
             1,
             "#276419"
            ]
           ],
           "sequential": [
            [
             0.0,
             "#0d0887"
            ],
            [
             0.1111111111111111,
             "#46039f"
            ],
            [
             0.2222222222222222,
             "#7201a8"
            ],
            [
             0.3333333333333333,
             "#9c179e"
            ],
            [
             0.4444444444444444,
             "#bd3786"
            ],
            [
             0.5555555555555556,
             "#d8576b"
            ],
            [
             0.6666666666666666,
             "#ed7953"
            ],
            [
             0.7777777777777778,
             "#fb9f3a"
            ],
            [
             0.8888888888888888,
             "#fdca26"
            ],
            [
             1.0,
             "#f0f921"
            ]
           ],
           "sequentialminus": [
            [
             0.0,
             "#0d0887"
            ],
            [
             0.1111111111111111,
             "#46039f"
            ],
            [
             0.2222222222222222,
             "#7201a8"
            ],
            [
             0.3333333333333333,
             "#9c179e"
            ],
            [
             0.4444444444444444,
             "#bd3786"
            ],
            [
             0.5555555555555556,
             "#d8576b"
            ],
            [
             0.6666666666666666,
             "#ed7953"
            ],
            [
             0.7777777777777778,
             "#fb9f3a"
            ],
            [
             0.8888888888888888,
             "#fdca26"
            ],
            [
             1.0,
             "#f0f921"
            ]
           ]
          },
          "colorway": [
           "#636efa",
           "#EF553B",
           "#00cc96",
           "#ab63fa",
           "#FFA15A",
           "#19d3f3",
           "#FF6692",
           "#B6E880",
           "#FF97FF",
           "#FECB52"
          ],
          "font": {
           "color": "#2a3f5f"
          },
          "geo": {
           "bgcolor": "white",
           "lakecolor": "white",
           "landcolor": "#E5ECF6",
           "showlakes": true,
           "showland": true,
           "subunitcolor": "white"
          },
          "hoverlabel": {
           "align": "left"
          },
          "hovermode": "closest",
          "mapbox": {
           "style": "light"
          },
          "paper_bgcolor": "white",
          "plot_bgcolor": "#E5ECF6",
          "polar": {
           "angularaxis": {
            "gridcolor": "white",
            "linecolor": "white",
            "ticks": ""
           },
           "bgcolor": "#E5ECF6",
           "radialaxis": {
            "gridcolor": "white",
            "linecolor": "white",
            "ticks": ""
           }
          },
          "scene": {
           "xaxis": {
            "backgroundcolor": "#E5ECF6",
            "gridcolor": "white",
            "gridwidth": 2,
            "linecolor": "white",
            "showbackground": true,
            "ticks": "",
            "zerolinecolor": "white"
           },
           "yaxis": {
            "backgroundcolor": "#E5ECF6",
            "gridcolor": "white",
            "gridwidth": 2,
            "linecolor": "white",
            "showbackground": true,
            "ticks": "",
            "zerolinecolor": "white"
           },
           "zaxis": {
            "backgroundcolor": "#E5ECF6",
            "gridcolor": "white",
            "gridwidth": 2,
            "linecolor": "white",
            "showbackground": true,
            "ticks": "",
            "zerolinecolor": "white"
           }
          },
          "shapedefaults": {
           "line": {
            "color": "#2a3f5f"
           }
          },
          "ternary": {
           "aaxis": {
            "gridcolor": "white",
            "linecolor": "white",
            "ticks": ""
           },
           "baxis": {
            "gridcolor": "white",
            "linecolor": "white",
            "ticks": ""
           },
           "bgcolor": "#E5ECF6",
           "caxis": {
            "gridcolor": "white",
            "linecolor": "white",
            "ticks": ""
           }
          },
          "title": {
           "x": 0.05
          },
          "xaxis": {
           "automargin": true,
           "gridcolor": "white",
           "linecolor": "white",
           "ticks": "",
           "title": {
            "standoff": 15
           },
           "zerolinecolor": "white",
           "zerolinewidth": 2
          },
          "yaxis": {
           "automargin": true,
           "gridcolor": "white",
           "linecolor": "white",
           "ticks": "",
           "title": {
            "standoff": 15
           },
           "zerolinecolor": "white",
           "zerolinewidth": 2
          }
         }
        },
        "title": {
         "font": {
          "color": "#4D5663"
         }
        },
        "xaxis": {
         "gridcolor": "#E1E5ED",
         "showgrid": true,
         "tickfont": {
          "color": "#4D5663"
         },
         "title": {
          "font": {
           "color": "#4D5663"
          },
          "text": "Потребление, млн. $"
         },
         "zerolinecolor": "#E1E5ED"
        },
        "yaxis": {
         "gridcolor": "#E1E5ED",
         "showgrid": true,
         "tickfont": {
          "color": "#4D5663"
         },
         "title": {
          "font": {
           "color": "#4D5663"
          },
          "text": "ВВП, млн. $"
         },
         "zerolinecolor": "#E1E5ED"
        }
       }
      },
      "text/html": "<div>                            <div id=\"bb36d27d-4499-409d-9e48-26258775d4c8\" class=\"plotly-graph-div\" style=\"height:525px; width:100%;\"></div>            <script type=\"text/javascript\">                require([\"plotly\"], function(Plotly) {                    window.PLOTLYENV=window.PLOTLYENV || {};\n                    window.PLOTLYENV.BASE_URL='https://plot.ly';                                    if (document.getElementById(\"bb36d27d-4499-409d-9e48-26258775d4c8\")) {                    Plotly.newPlot(                        \"bb36d27d-4499-409d-9e48-26258775d4c8\",                        [{\"line\":{\"color\":\"rgba(255, 153, 51, 1.0)\",\"dash\":\"solid\",\"shape\":\"linear\",\"width\":1.3},\"marker\":{\"size\":8,\"symbol\":\"circle\"},\"mode\":\"markers\",\"name\":\"Y\",\"text\":\"\",\"type\":\"scatter\",\"x\":[5592.360813056414,6196.316092606512,6477.773333662827,6869.376900112365,6615.987338347547,6880.962796474083,7401.218333159515,8210.144405367051,9074.529635631332,9786.07423335992,11119.854235893657,12399.407918685074,13190.555261738955,14357.142074400863,14878.84826953875,15443.306264260475,16132.807550722375,17083.12828371279,18088.626933641655,18929.432079551432,19650.01543971948,20748.687726621876,21894.0455071961,22910.326445985265,24795.655277145695,26460.576843985276,27326.244710875922,29965.35772955545,32019.03252410973,34796.42491865579,37206.18668586829,38517.35636648465,40812.51800612965,45909.50204094694,49554.45193313509,51025.44405287252,55123.07911658631,58698.887057711116,57890.47935864027,64130.65033911872,71390.43776842028,78040.13299755832,81330.46668111297,83446.65600091543,84186.58604011402,85938.44159906569,90415.72790591742,94239.28752909912,104704.43882070063,102671.7575088894,110382.83828382817,116927.51270564942,122974.05199365722,131474.55383110663,137051.82911417627,141546.96756592413,144473.39259052844,146496.8135230113,148811.6193174522,155587.3592021913,145537.15193369778],\"y\":[5768.0160721365,6237.3530632452,6708.52560816992,7382.10326042145,7153.01202453881,7713.42072421103,8498.61416812063,9561.68222048448,10855.1122767574,12356.7364947,14079.544947471599,15827.345171430401,17934.843345103298,19836.4065002647,21049.9193673175,21888.061478996602,23515.9153209016,25127.39037491,27081.619804946098,29669.044703281503,32669.5398084426,36203.1221007069,38774.309407593006,42091.2963495683,45792.1258337604,45506.9090100421,46118.0072343257,51097.723540710096,56853.243727253,62628.7432111009,68779.54285209891,73379.864304359,78252.0595160596,87221.9168273286,96901.4980813798,103879.285314713,111640.501036364,120928.89753293499,118274.051330973,125044.067991979,136346.984801619,134889.41387525998,140169.80801635198,146527.60164921702,160916.01382534398,172757.877474653,188314.972645788,205304.99996321302,209140.601456434,209393.625490149,239809.387605427,255008.196791322,266385.665325181,279271.535506458,290269.25619507395,298944.012931308,308895.962132365,322859.23180541495,334151.135292159,338646.194792894,320389.705940647]}],                        {\"legend\":{\"bgcolor\":\"#FFFFFF\",\"font\":{\"color\":\"#4D5663\"}},\"paper_bgcolor\":\"#FFFFFF\",\"plot_bgcolor\":\"#FFFFFF\",\"template\":{\"data\":{\"bar\":[{\"error_x\":{\"color\":\"#2a3f5f\"},\"error_y\":{\"color\":\"#2a3f5f\"},\"marker\":{\"line\":{\"color\":\"#E5ECF6\",\"width\":0.5},\"pattern\":{\"fillmode\":\"overlay\",\"size\":10,\"solidity\":0.2}},\"type\":\"bar\"}],\"barpolar\":[{\"marker\":{\"line\":{\"color\":\"#E5ECF6\",\"width\":0.5},\"pattern\":{\"fillmode\":\"overlay\",\"size\":10,\"solidity\":0.2}},\"type\":\"barpolar\"}],\"carpet\":[{\"aaxis\":{\"endlinecolor\":\"#2a3f5f\",\"gridcolor\":\"white\",\"linecolor\":\"white\",\"minorgridcolor\":\"white\",\"startlinecolor\":\"#2a3f5f\"},\"baxis\":{\"endlinecolor\":\"#2a3f5f\",\"gridcolor\":\"white\",\"linecolor\":\"white\",\"minorgridcolor\":\"white\",\"startlinecolor\":\"#2a3f5f\"},\"type\":\"carpet\"}],\"choropleth\":[{\"colorbar\":{\"outlinewidth\":0,\"ticks\":\"\"},\"type\":\"choropleth\"}],\"contour\":[{\"colorbar\":{\"outlinewidth\":0,\"ticks\":\"\"},\"colorscale\":[[0.0,\"#0d0887\"],[0.1111111111111111,\"#46039f\"],[0.2222222222222222,\"#7201a8\"],[0.3333333333333333,\"#9c179e\"],[0.4444444444444444,\"#bd3786\"],[0.5555555555555556,\"#d8576b\"],[0.6666666666666666,\"#ed7953\"],[0.7777777777777778,\"#fb9f3a\"],[0.8888888888888888,\"#fdca26\"],[1.0,\"#f0f921\"]],\"type\":\"contour\"}],\"contourcarpet\":[{\"colorbar\":{\"outlinewidth\":0,\"ticks\":\"\"},\"type\":\"contourcarpet\"}],\"heatmap\":[{\"colorbar\":{\"outlinewidth\":0,\"ticks\":\"\"},\"colorscale\":[[0.0,\"#0d0887\"],[0.1111111111111111,\"#46039f\"],[0.2222222222222222,\"#7201a8\"],[0.3333333333333333,\"#9c179e\"],[0.4444444444444444,\"#bd3786\"],[0.5555555555555556,\"#d8576b\"],[0.6666666666666666,\"#ed7953\"],[0.7777777777777778,\"#fb9f3a\"],[0.8888888888888888,\"#fdca26\"],[1.0,\"#f0f921\"]],\"type\":\"heatmap\"}],\"heatmapgl\":[{\"colorbar\":{\"outlinewidth\":0,\"ticks\":\"\"},\"colorscale\":[[0.0,\"#0d0887\"],[0.1111111111111111,\"#46039f\"],[0.2222222222222222,\"#7201a8\"],[0.3333333333333333,\"#9c179e\"],[0.4444444444444444,\"#bd3786\"],[0.5555555555555556,\"#d8576b\"],[0.6666666666666666,\"#ed7953\"],[0.7777777777777778,\"#fb9f3a\"],[0.8888888888888888,\"#fdca26\"],[1.0,\"#f0f921\"]],\"type\":\"heatmapgl\"}],\"histogram\":[{\"marker\":{\"pattern\":{\"fillmode\":\"overlay\",\"size\":10,\"solidity\":0.2}},\"type\":\"histogram\"}],\"histogram2d\":[{\"colorbar\":{\"outlinewidth\":0,\"ticks\":\"\"},\"colorscale\":[[0.0,\"#0d0887\"],[0.1111111111111111,\"#46039f\"],[0.2222222222222222,\"#7201a8\"],[0.3333333333333333,\"#9c179e\"],[0.4444444444444444,\"#bd3786\"],[0.5555555555555556,\"#d8576b\"],[0.6666666666666666,\"#ed7953\"],[0.7777777777777778,\"#fb9f3a\"],[0.8888888888888888,\"#fdca26\"],[1.0,\"#f0f921\"]],\"type\":\"histogram2d\"}],\"histogram2dcontour\":[{\"colorbar\":{\"outlinewidth\":0,\"ticks\":\"\"},\"colorscale\":[[0.0,\"#0d0887\"],[0.1111111111111111,\"#46039f\"],[0.2222222222222222,\"#7201a8\"],[0.3333333333333333,\"#9c179e\"],[0.4444444444444444,\"#bd3786\"],[0.5555555555555556,\"#d8576b\"],[0.6666666666666666,\"#ed7953\"],[0.7777777777777778,\"#fb9f3a\"],[0.8888888888888888,\"#fdca26\"],[1.0,\"#f0f921\"]],\"type\":\"histogram2dcontour\"}],\"mesh3d\":[{\"colorbar\":{\"outlinewidth\":0,\"ticks\":\"\"},\"type\":\"mesh3d\"}],\"parcoords\":[{\"line\":{\"colorbar\":{\"outlinewidth\":0,\"ticks\":\"\"}},\"type\":\"parcoords\"}],\"pie\":[{\"automargin\":true,\"type\":\"pie\"}],\"scatter\":[{\"marker\":{\"colorbar\":{\"outlinewidth\":0,\"ticks\":\"\"}},\"type\":\"scatter\"}],\"scatter3d\":[{\"line\":{\"colorbar\":{\"outlinewidth\":0,\"ticks\":\"\"}},\"marker\":{\"colorbar\":{\"outlinewidth\":0,\"ticks\":\"\"}},\"type\":\"scatter3d\"}],\"scattercarpet\":[{\"marker\":{\"colorbar\":{\"outlinewidth\":0,\"ticks\":\"\"}},\"type\":\"scattercarpet\"}],\"scattergeo\":[{\"marker\":{\"colorbar\":{\"outlinewidth\":0,\"ticks\":\"\"}},\"type\":\"scattergeo\"}],\"scattergl\":[{\"marker\":{\"colorbar\":{\"outlinewidth\":0,\"ticks\":\"\"}},\"type\":\"scattergl\"}],\"scattermapbox\":[{\"marker\":{\"colorbar\":{\"outlinewidth\":0,\"ticks\":\"\"}},\"type\":\"scattermapbox\"}],\"scatterpolar\":[{\"marker\":{\"colorbar\":{\"outlinewidth\":0,\"ticks\":\"\"}},\"type\":\"scatterpolar\"}],\"scatterpolargl\":[{\"marker\":{\"colorbar\":{\"outlinewidth\":0,\"ticks\":\"\"}},\"type\":\"scatterpolargl\"}],\"scatterternary\":[{\"marker\":{\"colorbar\":{\"outlinewidth\":0,\"ticks\":\"\"}},\"type\":\"scatterternary\"}],\"surface\":[{\"colorbar\":{\"outlinewidth\":0,\"ticks\":\"\"},\"colorscale\":[[0.0,\"#0d0887\"],[0.1111111111111111,\"#46039f\"],[0.2222222222222222,\"#7201a8\"],[0.3333333333333333,\"#9c179e\"],[0.4444444444444444,\"#bd3786\"],[0.5555555555555556,\"#d8576b\"],[0.6666666666666666,\"#ed7953\"],[0.7777777777777778,\"#fb9f3a\"],[0.8888888888888888,\"#fdca26\"],[1.0,\"#f0f921\"]],\"type\":\"surface\"}],\"table\":[{\"cells\":{\"fill\":{\"color\":\"#EBF0F8\"},\"line\":{\"color\":\"white\"}},\"header\":{\"fill\":{\"color\":\"#C8D4E3\"},\"line\":{\"color\":\"white\"}},\"type\":\"table\"}]},\"layout\":{\"annotationdefaults\":{\"arrowcolor\":\"#2a3f5f\",\"arrowhead\":0,\"arrowwidth\":1},\"autotypenumbers\":\"strict\",\"coloraxis\":{\"colorbar\":{\"outlinewidth\":0,\"ticks\":\"\"}},\"colorscale\":{\"diverging\":[[0,\"#8e0152\"],[0.1,\"#c51b7d\"],[0.2,\"#de77ae\"],[0.3,\"#f1b6da\"],[0.4,\"#fde0ef\"],[0.5,\"#f7f7f7\"],[0.6,\"#e6f5d0\"],[0.7,\"#b8e186\"],[0.8,\"#7fbc41\"],[0.9,\"#4d9221\"],[1,\"#276419\"]],\"sequential\":[[0.0,\"#0d0887\"],[0.1111111111111111,\"#46039f\"],[0.2222222222222222,\"#7201a8\"],[0.3333333333333333,\"#9c179e\"],[0.4444444444444444,\"#bd3786\"],[0.5555555555555556,\"#d8576b\"],[0.6666666666666666,\"#ed7953\"],[0.7777777777777778,\"#fb9f3a\"],[0.8888888888888888,\"#fdca26\"],[1.0,\"#f0f921\"]],\"sequentialminus\":[[0.0,\"#0d0887\"],[0.1111111111111111,\"#46039f\"],[0.2222222222222222,\"#7201a8\"],[0.3333333333333333,\"#9c179e\"],[0.4444444444444444,\"#bd3786\"],[0.5555555555555556,\"#d8576b\"],[0.6666666666666666,\"#ed7953\"],[0.7777777777777778,\"#fb9f3a\"],[0.8888888888888888,\"#fdca26\"],[1.0,\"#f0f921\"]]},\"colorway\":[\"#636efa\",\"#EF553B\",\"#00cc96\",\"#ab63fa\",\"#FFA15A\",\"#19d3f3\",\"#FF6692\",\"#B6E880\",\"#FF97FF\",\"#FECB52\"],\"font\":{\"color\":\"#2a3f5f\"},\"geo\":{\"bgcolor\":\"white\",\"lakecolor\":\"white\",\"landcolor\":\"#E5ECF6\",\"showlakes\":true,\"showland\":true,\"subunitcolor\":\"white\"},\"hoverlabel\":{\"align\":\"left\"},\"hovermode\":\"closest\",\"mapbox\":{\"style\":\"light\"},\"paper_bgcolor\":\"white\",\"plot_bgcolor\":\"#E5ECF6\",\"polar\":{\"angularaxis\":{\"gridcolor\":\"white\",\"linecolor\":\"white\",\"ticks\":\"\"},\"bgcolor\":\"#E5ECF6\",\"radialaxis\":{\"gridcolor\":\"white\",\"linecolor\":\"white\",\"ticks\":\"\"}},\"scene\":{\"xaxis\":{\"backgroundcolor\":\"#E5ECF6\",\"gridcolor\":\"white\",\"gridwidth\":2,\"linecolor\":\"white\",\"showbackground\":true,\"ticks\":\"\",\"zerolinecolor\":\"white\"},\"yaxis\":{\"backgroundcolor\":\"#E5ECF6\",\"gridcolor\":\"white\",\"gridwidth\":2,\"linecolor\":\"white\",\"showbackground\":true,\"ticks\":\"\",\"zerolinecolor\":\"white\"},\"zaxis\":{\"backgroundcolor\":\"#E5ECF6\",\"gridcolor\":\"white\",\"gridwidth\":2,\"linecolor\":\"white\",\"showbackground\":true,\"ticks\":\"\",\"zerolinecolor\":\"white\"}},\"shapedefaults\":{\"line\":{\"color\":\"#2a3f5f\"}},\"ternary\":{\"aaxis\":{\"gridcolor\":\"white\",\"linecolor\":\"white\",\"ticks\":\"\"},\"baxis\":{\"gridcolor\":\"white\",\"linecolor\":\"white\",\"ticks\":\"\"},\"bgcolor\":\"#E5ECF6\",\"caxis\":{\"gridcolor\":\"white\",\"linecolor\":\"white\",\"ticks\":\"\"}},\"title\":{\"x\":0.05},\"xaxis\":{\"automargin\":true,\"gridcolor\":\"white\",\"linecolor\":\"white\",\"ticks\":\"\",\"title\":{\"standoff\":15},\"zerolinecolor\":\"white\",\"zerolinewidth\":2},\"yaxis\":{\"automargin\":true,\"gridcolor\":\"white\",\"linecolor\":\"white\",\"ticks\":\"\",\"title\":{\"standoff\":15},\"zerolinecolor\":\"white\",\"zerolinewidth\":2}}},\"title\":{\"font\":{\"color\":\"#4D5663\"}},\"xaxis\":{\"gridcolor\":\"#E1E5ED\",\"showgrid\":true,\"tickfont\":{\"color\":\"#4D5663\"},\"title\":{\"font\":{\"color\":\"#4D5663\"},\"text\":\"\\u041f\\u043e\\u0442\\u0440\\u0435\\u0431\\u043b\\u0435\\u043d\\u0438\\u0435, \\u043c\\u043b\\u043d. $\"},\"zerolinecolor\":\"#E1E5ED\"},\"yaxis\":{\"gridcolor\":\"#E1E5ED\",\"showgrid\":true,\"tickfont\":{\"color\":\"#4D5663\"},\"title\":{\"font\":{\"color\":\"#4D5663\"},\"text\":\"\\u0412\\u0412\\u041f, \\u043c\\u043b\\u043d. $\"},\"zerolinecolor\":\"#E1E5ED\"}},                        {\"showLink\": true, \"linkText\": \"Export to plot.ly\", \"plotlyServerURL\": \"https://plot.ly\", \"responsive\": true}                    ).then(function(){\n                            \nvar gd = document.getElementById('bb36d27d-4499-409d-9e48-26258775d4c8');\nvar x = new MutationObserver(function (mutations, observer) {{\n        var display = window.getComputedStyle(gd).display;\n        if (!display || display === 'none') {{\n            console.log([gd, 'removed!']);\n            Plotly.purge(gd);\n            observer.disconnect();\n        }}\n}});\n\n// Listen for the removal of the full notebook cells\nvar notebookContainer = gd.closest('#notebook-container');\nif (notebookContainer) {{\n    x.observe(notebookContainer, {childList: true});\n}}\n\n// Listen for the clearing of the current output cell\nvar outputEl = gd.closest('.output');\nif (outputEl) {{\n    x.observe(outputEl, {childList: true});\n}}\n\n                        })                };                });            </script>        </div>"
     },
     "metadata": {},
     "output_type": "display_data"
    }
   ],
   "source": [
    "df.iplot(\n",
    "    x='C', y='Y',\n",
    "    xTitle=f'{data_router[\"C\"][\"ru\"][\"short\"]}',\n",
    "    yTitle=f'{data_router[\"Y\"][\"ru\"][\"short\"]}',\n",
    "    **scatter_config,\n",
    ")"
   ]
  },
  {
   "cell_type": "code",
   "execution_count": 438,
   "outputs": [
    {
     "data": {
      "application/vnd.plotly.v1+json": {
       "config": {
        "linkText": "Export to plot.ly",
        "plotlyServerURL": "https://plot.ly",
        "showLink": true
       },
       "data": [
        {
         "line": {
          "color": "rgba(255, 153, 51, 1.0)",
          "dash": "solid",
          "shape": "linear",
          "width": 1.3
         },
         "marker": {
          "size": 8,
          "symbol": "circle"
         },
         "mode": "markers",
         "name": "Y",
         "text": "",
         "type": "scatter",
         "x": [
          436.82893185105996,
          535.6797342106689,
          586.067752337562,
          681.66557328977,
          694.810273670698,
          759.803514443068,
          863.766144728593,
          938.717491850151,
          1097.3169323048899,
          1351.44780633618,
          1643.0211602404102,
          1922.91033602826,
          2179.8958672129797,
          2301.31837729742,
          2309.1520876254403,
          2372.88396826025,
          2487.0038670219496,
          2706.28136883107,
          3009.53890085169,
          3004.22791079879,
          3317.7754860469,
          3498.41553522117,
          3962.86161534732,
          4344.92096227784,
          4580.79530800228,
          5505.57145096357,
          5556.42418072009,
          5624.67040289986,
          5287.09059766238,
          5610.39711713269,
          6219.1029645707395,
          6730.219369786741,
          6903.09209600865,
          7973.588528546389,
          7937.672958313659,
          8768.57735208993,
          10199.690009219601,
          10862.4351804459,
          11703.297680571399,
          12476.710607025,
          14762.693500544701,
          15509.617864109501,
          16226.800683378,
          16374.7781437269,
          16540.6138081288,
          17205.0186637466,
          18463.3913694057,
          18912.9002900081,
          20109.9310605561,
          21086.6221312845,
          23241.2907957462,
          23198.8692626987,
          23398.429713936403,
          26143.0829858997,
          26306.1967678994,
          28648.0114443502,
          29747.1208357979,
          30666.3868265793,
          31635.3105743554,
          32705.143133136502,
          36823.2848201555
         ],
         "y": [
          5768.0160721365,
          6237.3530632452,
          6708.52560816992,
          7382.10326042145,
          7153.01202453881,
          7713.42072421103,
          8498.61416812063,
          9561.68222048448,
          10855.1122767574,
          12356.7364947,
          14079.544947471599,
          15827.345171430401,
          17934.843345103298,
          19836.4065002647,
          21049.9193673175,
          21888.061478996602,
          23515.9153209016,
          25127.39037491,
          27081.619804946098,
          29669.044703281503,
          32669.5398084426,
          36203.1221007069,
          38774.309407593006,
          42091.2963495683,
          45792.1258337604,
          45506.9090100421,
          46118.0072343257,
          51097.723540710096,
          56853.243727253,
          62628.7432111009,
          68779.54285209891,
          73379.864304359,
          78252.0595160596,
          87221.9168273286,
          96901.4980813798,
          103879.285314713,
          111640.501036364,
          120928.89753293499,
          118274.051330973,
          125044.067991979,
          136346.984801619,
          134889.41387525998,
          140169.80801635198,
          146527.60164921702,
          160916.01382534398,
          172757.877474653,
          188314.972645788,
          205304.99996321302,
          209140.601456434,
          209393.625490149,
          239809.387605427,
          255008.196791322,
          266385.665325181,
          279271.535506458,
          290269.25619507395,
          298944.012931308,
          308895.962132365,
          322859.23180541495,
          334151.135292159,
          338646.194792894,
          320389.705940647
         ]
        }
       ],
       "layout": {
        "legend": {
         "bgcolor": "#FFFFFF",
         "font": {
          "color": "#4D5663"
         }
        },
        "paper_bgcolor": "#FFFFFF",
        "plot_bgcolor": "#FFFFFF",
        "template": {
         "data": {
          "bar": [
           {
            "error_x": {
             "color": "#2a3f5f"
            },
            "error_y": {
             "color": "#2a3f5f"
            },
            "marker": {
             "line": {
              "color": "#E5ECF6",
              "width": 0.5
             },
             "pattern": {
              "fillmode": "overlay",
              "size": 10,
              "solidity": 0.2
             }
            },
            "type": "bar"
           }
          ],
          "barpolar": [
           {
            "marker": {
             "line": {
              "color": "#E5ECF6",
              "width": 0.5
             },
             "pattern": {
              "fillmode": "overlay",
              "size": 10,
              "solidity": 0.2
             }
            },
            "type": "barpolar"
           }
          ],
          "carpet": [
           {
            "aaxis": {
             "endlinecolor": "#2a3f5f",
             "gridcolor": "white",
             "linecolor": "white",
             "minorgridcolor": "white",
             "startlinecolor": "#2a3f5f"
            },
            "baxis": {
             "endlinecolor": "#2a3f5f",
             "gridcolor": "white",
             "linecolor": "white",
             "minorgridcolor": "white",
             "startlinecolor": "#2a3f5f"
            },
            "type": "carpet"
           }
          ],
          "choropleth": [
           {
            "colorbar": {
             "outlinewidth": 0,
             "ticks": ""
            },
            "type": "choropleth"
           }
          ],
          "contour": [
           {
            "colorbar": {
             "outlinewidth": 0,
             "ticks": ""
            },
            "colorscale": [
             [
              0.0,
              "#0d0887"
             ],
             [
              0.1111111111111111,
              "#46039f"
             ],
             [
              0.2222222222222222,
              "#7201a8"
             ],
             [
              0.3333333333333333,
              "#9c179e"
             ],
             [
              0.4444444444444444,
              "#bd3786"
             ],
             [
              0.5555555555555556,
              "#d8576b"
             ],
             [
              0.6666666666666666,
              "#ed7953"
             ],
             [
              0.7777777777777778,
              "#fb9f3a"
             ],
             [
              0.8888888888888888,
              "#fdca26"
             ],
             [
              1.0,
              "#f0f921"
             ]
            ],
            "type": "contour"
           }
          ],
          "contourcarpet": [
           {
            "colorbar": {
             "outlinewidth": 0,
             "ticks": ""
            },
            "type": "contourcarpet"
           }
          ],
          "heatmap": [
           {
            "colorbar": {
             "outlinewidth": 0,
             "ticks": ""
            },
            "colorscale": [
             [
              0.0,
              "#0d0887"
             ],
             [
              0.1111111111111111,
              "#46039f"
             ],
             [
              0.2222222222222222,
              "#7201a8"
             ],
             [
              0.3333333333333333,
              "#9c179e"
             ],
             [
              0.4444444444444444,
              "#bd3786"
             ],
             [
              0.5555555555555556,
              "#d8576b"
             ],
             [
              0.6666666666666666,
              "#ed7953"
             ],
             [
              0.7777777777777778,
              "#fb9f3a"
             ],
             [
              0.8888888888888888,
              "#fdca26"
             ],
             [
              1.0,
              "#f0f921"
             ]
            ],
            "type": "heatmap"
           }
          ],
          "heatmapgl": [
           {
            "colorbar": {
             "outlinewidth": 0,
             "ticks": ""
            },
            "colorscale": [
             [
              0.0,
              "#0d0887"
             ],
             [
              0.1111111111111111,
              "#46039f"
             ],
             [
              0.2222222222222222,
              "#7201a8"
             ],
             [
              0.3333333333333333,
              "#9c179e"
             ],
             [
              0.4444444444444444,
              "#bd3786"
             ],
             [
              0.5555555555555556,
              "#d8576b"
             ],
             [
              0.6666666666666666,
              "#ed7953"
             ],
             [
              0.7777777777777778,
              "#fb9f3a"
             ],
             [
              0.8888888888888888,
              "#fdca26"
             ],
             [
              1.0,
              "#f0f921"
             ]
            ],
            "type": "heatmapgl"
           }
          ],
          "histogram": [
           {
            "marker": {
             "pattern": {
              "fillmode": "overlay",
              "size": 10,
              "solidity": 0.2
             }
            },
            "type": "histogram"
           }
          ],
          "histogram2d": [
           {
            "colorbar": {
             "outlinewidth": 0,
             "ticks": ""
            },
            "colorscale": [
             [
              0.0,
              "#0d0887"
             ],
             [
              0.1111111111111111,
              "#46039f"
             ],
             [
              0.2222222222222222,
              "#7201a8"
             ],
             [
              0.3333333333333333,
              "#9c179e"
             ],
             [
              0.4444444444444444,
              "#bd3786"
             ],
             [
              0.5555555555555556,
              "#d8576b"
             ],
             [
              0.6666666666666666,
              "#ed7953"
             ],
             [
              0.7777777777777778,
              "#fb9f3a"
             ],
             [
              0.8888888888888888,
              "#fdca26"
             ],
             [
              1.0,
              "#f0f921"
             ]
            ],
            "type": "histogram2d"
           }
          ],
          "histogram2dcontour": [
           {
            "colorbar": {
             "outlinewidth": 0,
             "ticks": ""
            },
            "colorscale": [
             [
              0.0,
              "#0d0887"
             ],
             [
              0.1111111111111111,
              "#46039f"
             ],
             [
              0.2222222222222222,
              "#7201a8"
             ],
             [
              0.3333333333333333,
              "#9c179e"
             ],
             [
              0.4444444444444444,
              "#bd3786"
             ],
             [
              0.5555555555555556,
              "#d8576b"
             ],
             [
              0.6666666666666666,
              "#ed7953"
             ],
             [
              0.7777777777777778,
              "#fb9f3a"
             ],
             [
              0.8888888888888888,
              "#fdca26"
             ],
             [
              1.0,
              "#f0f921"
             ]
            ],
            "type": "histogram2dcontour"
           }
          ],
          "mesh3d": [
           {
            "colorbar": {
             "outlinewidth": 0,
             "ticks": ""
            },
            "type": "mesh3d"
           }
          ],
          "parcoords": [
           {
            "line": {
             "colorbar": {
              "outlinewidth": 0,
              "ticks": ""
             }
            },
            "type": "parcoords"
           }
          ],
          "pie": [
           {
            "automargin": true,
            "type": "pie"
           }
          ],
          "scatter": [
           {
            "marker": {
             "colorbar": {
              "outlinewidth": 0,
              "ticks": ""
             }
            },
            "type": "scatter"
           }
          ],
          "scatter3d": [
           {
            "line": {
             "colorbar": {
              "outlinewidth": 0,
              "ticks": ""
             }
            },
            "marker": {
             "colorbar": {
              "outlinewidth": 0,
              "ticks": ""
             }
            },
            "type": "scatter3d"
           }
          ],
          "scattercarpet": [
           {
            "marker": {
             "colorbar": {
              "outlinewidth": 0,
              "ticks": ""
             }
            },
            "type": "scattercarpet"
           }
          ],
          "scattergeo": [
           {
            "marker": {
             "colorbar": {
              "outlinewidth": 0,
              "ticks": ""
             }
            },
            "type": "scattergeo"
           }
          ],
          "scattergl": [
           {
            "marker": {
             "colorbar": {
              "outlinewidth": 0,
              "ticks": ""
             }
            },
            "type": "scattergl"
           }
          ],
          "scattermapbox": [
           {
            "marker": {
             "colorbar": {
              "outlinewidth": 0,
              "ticks": ""
             }
            },
            "type": "scattermapbox"
           }
          ],
          "scatterpolar": [
           {
            "marker": {
             "colorbar": {
              "outlinewidth": 0,
              "ticks": ""
             }
            },
            "type": "scatterpolar"
           }
          ],
          "scatterpolargl": [
           {
            "marker": {
             "colorbar": {
              "outlinewidth": 0,
              "ticks": ""
             }
            },
            "type": "scatterpolargl"
           }
          ],
          "scatterternary": [
           {
            "marker": {
             "colorbar": {
              "outlinewidth": 0,
              "ticks": ""
             }
            },
            "type": "scatterternary"
           }
          ],
          "surface": [
           {
            "colorbar": {
             "outlinewidth": 0,
             "ticks": ""
            },
            "colorscale": [
             [
              0.0,
              "#0d0887"
             ],
             [
              0.1111111111111111,
              "#46039f"
             ],
             [
              0.2222222222222222,
              "#7201a8"
             ],
             [
              0.3333333333333333,
              "#9c179e"
             ],
             [
              0.4444444444444444,
              "#bd3786"
             ],
             [
              0.5555555555555556,
              "#d8576b"
             ],
             [
              0.6666666666666666,
              "#ed7953"
             ],
             [
              0.7777777777777778,
              "#fb9f3a"
             ],
             [
              0.8888888888888888,
              "#fdca26"
             ],
             [
              1.0,
              "#f0f921"
             ]
            ],
            "type": "surface"
           }
          ],
          "table": [
           {
            "cells": {
             "fill": {
              "color": "#EBF0F8"
             },
             "line": {
              "color": "white"
             }
            },
            "header": {
             "fill": {
              "color": "#C8D4E3"
             },
             "line": {
              "color": "white"
             }
            },
            "type": "table"
           }
          ]
         },
         "layout": {
          "annotationdefaults": {
           "arrowcolor": "#2a3f5f",
           "arrowhead": 0,
           "arrowwidth": 1
          },
          "autotypenumbers": "strict",
          "coloraxis": {
           "colorbar": {
            "outlinewidth": 0,
            "ticks": ""
           }
          },
          "colorscale": {
           "diverging": [
            [
             0,
             "#8e0152"
            ],
            [
             0.1,
             "#c51b7d"
            ],
            [
             0.2,
             "#de77ae"
            ],
            [
             0.3,
             "#f1b6da"
            ],
            [
             0.4,
             "#fde0ef"
            ],
            [
             0.5,
             "#f7f7f7"
            ],
            [
             0.6,
             "#e6f5d0"
            ],
            [
             0.7,
             "#b8e186"
            ],
            [
             0.8,
             "#7fbc41"
            ],
            [
             0.9,
             "#4d9221"
            ],
            [
             1,
             "#276419"
            ]
           ],
           "sequential": [
            [
             0.0,
             "#0d0887"
            ],
            [
             0.1111111111111111,
             "#46039f"
            ],
            [
             0.2222222222222222,
             "#7201a8"
            ],
            [
             0.3333333333333333,
             "#9c179e"
            ],
            [
             0.4444444444444444,
             "#bd3786"
            ],
            [
             0.5555555555555556,
             "#d8576b"
            ],
            [
             0.6666666666666666,
             "#ed7953"
            ],
            [
             0.7777777777777778,
             "#fb9f3a"
            ],
            [
             0.8888888888888888,
             "#fdca26"
            ],
            [
             1.0,
             "#f0f921"
            ]
           ],
           "sequentialminus": [
            [
             0.0,
             "#0d0887"
            ],
            [
             0.1111111111111111,
             "#46039f"
            ],
            [
             0.2222222222222222,
             "#7201a8"
            ],
            [
             0.3333333333333333,
             "#9c179e"
            ],
            [
             0.4444444444444444,
             "#bd3786"
            ],
            [
             0.5555555555555556,
             "#d8576b"
            ],
            [
             0.6666666666666666,
             "#ed7953"
            ],
            [
             0.7777777777777778,
             "#fb9f3a"
            ],
            [
             0.8888888888888888,
             "#fdca26"
            ],
            [
             1.0,
             "#f0f921"
            ]
           ]
          },
          "colorway": [
           "#636efa",
           "#EF553B",
           "#00cc96",
           "#ab63fa",
           "#FFA15A",
           "#19d3f3",
           "#FF6692",
           "#B6E880",
           "#FF97FF",
           "#FECB52"
          ],
          "font": {
           "color": "#2a3f5f"
          },
          "geo": {
           "bgcolor": "white",
           "lakecolor": "white",
           "landcolor": "#E5ECF6",
           "showlakes": true,
           "showland": true,
           "subunitcolor": "white"
          },
          "hoverlabel": {
           "align": "left"
          },
          "hovermode": "closest",
          "mapbox": {
           "style": "light"
          },
          "paper_bgcolor": "white",
          "plot_bgcolor": "#E5ECF6",
          "polar": {
           "angularaxis": {
            "gridcolor": "white",
            "linecolor": "white",
            "ticks": ""
           },
           "bgcolor": "#E5ECF6",
           "radialaxis": {
            "gridcolor": "white",
            "linecolor": "white",
            "ticks": ""
           }
          },
          "scene": {
           "xaxis": {
            "backgroundcolor": "#E5ECF6",
            "gridcolor": "white",
            "gridwidth": 2,
            "linecolor": "white",
            "showbackground": true,
            "ticks": "",
            "zerolinecolor": "white"
           },
           "yaxis": {
            "backgroundcolor": "#E5ECF6",
            "gridcolor": "white",
            "gridwidth": 2,
            "linecolor": "white",
            "showbackground": true,
            "ticks": "",
            "zerolinecolor": "white"
           },
           "zaxis": {
            "backgroundcolor": "#E5ECF6",
            "gridcolor": "white",
            "gridwidth": 2,
            "linecolor": "white",
            "showbackground": true,
            "ticks": "",
            "zerolinecolor": "white"
           }
          },
          "shapedefaults": {
           "line": {
            "color": "#2a3f5f"
           }
          },
          "ternary": {
           "aaxis": {
            "gridcolor": "white",
            "linecolor": "white",
            "ticks": ""
           },
           "baxis": {
            "gridcolor": "white",
            "linecolor": "white",
            "ticks": ""
           },
           "bgcolor": "#E5ECF6",
           "caxis": {
            "gridcolor": "white",
            "linecolor": "white",
            "ticks": ""
           }
          },
          "title": {
           "x": 0.05
          },
          "xaxis": {
           "automargin": true,
           "gridcolor": "white",
           "linecolor": "white",
           "ticks": "",
           "title": {
            "standoff": 15
           },
           "zerolinecolor": "white",
           "zerolinewidth": 2
          },
          "yaxis": {
           "automargin": true,
           "gridcolor": "white",
           "linecolor": "white",
           "ticks": "",
           "title": {
            "standoff": 15
           },
           "zerolinecolor": "white",
           "zerolinewidth": 2
          }
         }
        },
        "title": {
         "font": {
          "color": "#4D5663"
         }
        },
        "xaxis": {
         "gridcolor": "#E1E5ED",
         "showgrid": true,
         "tickfont": {
          "color": "#4D5663"
         },
         "title": {
          "font": {
           "color": "#4D5663"
          },
          "text": "Гос. расходы, млн. $"
         },
         "zerolinecolor": "#E1E5ED"
        },
        "yaxis": {
         "gridcolor": "#E1E5ED",
         "showgrid": true,
         "tickfont": {
          "color": "#4D5663"
         },
         "title": {
          "font": {
           "color": "#4D5663"
          },
          "text": "ВВП, млн. $"
         },
         "zerolinecolor": "#E1E5ED"
        }
       }
      },
      "text/html": "<div>                            <div id=\"0aaeac54-7dd1-41cc-ac95-1f94d5bfdff4\" class=\"plotly-graph-div\" style=\"height:525px; width:100%;\"></div>            <script type=\"text/javascript\">                require([\"plotly\"], function(Plotly) {                    window.PLOTLYENV=window.PLOTLYENV || {};\n                    window.PLOTLYENV.BASE_URL='https://plot.ly';                                    if (document.getElementById(\"0aaeac54-7dd1-41cc-ac95-1f94d5bfdff4\")) {                    Plotly.newPlot(                        \"0aaeac54-7dd1-41cc-ac95-1f94d5bfdff4\",                        [{\"line\":{\"color\":\"rgba(255, 153, 51, 1.0)\",\"dash\":\"solid\",\"shape\":\"linear\",\"width\":1.3},\"marker\":{\"size\":8,\"symbol\":\"circle\"},\"mode\":\"markers\",\"name\":\"Y\",\"text\":\"\",\"type\":\"scatter\",\"x\":[436.82893185105996,535.6797342106689,586.067752337562,681.66557328977,694.810273670698,759.803514443068,863.766144728593,938.717491850151,1097.3169323048899,1351.44780633618,1643.0211602404102,1922.91033602826,2179.8958672129797,2301.31837729742,2309.1520876254403,2372.88396826025,2487.0038670219496,2706.28136883107,3009.53890085169,3004.22791079879,3317.7754860469,3498.41553522117,3962.86161534732,4344.92096227784,4580.79530800228,5505.57145096357,5556.42418072009,5624.67040289986,5287.09059766238,5610.39711713269,6219.1029645707395,6730.219369786741,6903.09209600865,7973.588528546389,7937.672958313659,8768.57735208993,10199.690009219601,10862.4351804459,11703.297680571399,12476.710607025,14762.693500544701,15509.617864109501,16226.800683378,16374.7781437269,16540.6138081288,17205.0186637466,18463.3913694057,18912.9002900081,20109.9310605561,21086.6221312845,23241.2907957462,23198.8692626987,23398.429713936403,26143.0829858997,26306.1967678994,28648.0114443502,29747.1208357979,30666.3868265793,31635.3105743554,32705.143133136502,36823.2848201555],\"y\":[5768.0160721365,6237.3530632452,6708.52560816992,7382.10326042145,7153.01202453881,7713.42072421103,8498.61416812063,9561.68222048448,10855.1122767574,12356.7364947,14079.544947471599,15827.345171430401,17934.843345103298,19836.4065002647,21049.9193673175,21888.061478996602,23515.9153209016,25127.39037491,27081.619804946098,29669.044703281503,32669.5398084426,36203.1221007069,38774.309407593006,42091.2963495683,45792.1258337604,45506.9090100421,46118.0072343257,51097.723540710096,56853.243727253,62628.7432111009,68779.54285209891,73379.864304359,78252.0595160596,87221.9168273286,96901.4980813798,103879.285314713,111640.501036364,120928.89753293499,118274.051330973,125044.067991979,136346.984801619,134889.41387525998,140169.80801635198,146527.60164921702,160916.01382534398,172757.877474653,188314.972645788,205304.99996321302,209140.601456434,209393.625490149,239809.387605427,255008.196791322,266385.665325181,279271.535506458,290269.25619507395,298944.012931308,308895.962132365,322859.23180541495,334151.135292159,338646.194792894,320389.705940647]}],                        {\"legend\":{\"bgcolor\":\"#FFFFFF\",\"font\":{\"color\":\"#4D5663\"}},\"paper_bgcolor\":\"#FFFFFF\",\"plot_bgcolor\":\"#FFFFFF\",\"template\":{\"data\":{\"bar\":[{\"error_x\":{\"color\":\"#2a3f5f\"},\"error_y\":{\"color\":\"#2a3f5f\"},\"marker\":{\"line\":{\"color\":\"#E5ECF6\",\"width\":0.5},\"pattern\":{\"fillmode\":\"overlay\",\"size\":10,\"solidity\":0.2}},\"type\":\"bar\"}],\"barpolar\":[{\"marker\":{\"line\":{\"color\":\"#E5ECF6\",\"width\":0.5},\"pattern\":{\"fillmode\":\"overlay\",\"size\":10,\"solidity\":0.2}},\"type\":\"barpolar\"}],\"carpet\":[{\"aaxis\":{\"endlinecolor\":\"#2a3f5f\",\"gridcolor\":\"white\",\"linecolor\":\"white\",\"minorgridcolor\":\"white\",\"startlinecolor\":\"#2a3f5f\"},\"baxis\":{\"endlinecolor\":\"#2a3f5f\",\"gridcolor\":\"white\",\"linecolor\":\"white\",\"minorgridcolor\":\"white\",\"startlinecolor\":\"#2a3f5f\"},\"type\":\"carpet\"}],\"choropleth\":[{\"colorbar\":{\"outlinewidth\":0,\"ticks\":\"\"},\"type\":\"choropleth\"}],\"contour\":[{\"colorbar\":{\"outlinewidth\":0,\"ticks\":\"\"},\"colorscale\":[[0.0,\"#0d0887\"],[0.1111111111111111,\"#46039f\"],[0.2222222222222222,\"#7201a8\"],[0.3333333333333333,\"#9c179e\"],[0.4444444444444444,\"#bd3786\"],[0.5555555555555556,\"#d8576b\"],[0.6666666666666666,\"#ed7953\"],[0.7777777777777778,\"#fb9f3a\"],[0.8888888888888888,\"#fdca26\"],[1.0,\"#f0f921\"]],\"type\":\"contour\"}],\"contourcarpet\":[{\"colorbar\":{\"outlinewidth\":0,\"ticks\":\"\"},\"type\":\"contourcarpet\"}],\"heatmap\":[{\"colorbar\":{\"outlinewidth\":0,\"ticks\":\"\"},\"colorscale\":[[0.0,\"#0d0887\"],[0.1111111111111111,\"#46039f\"],[0.2222222222222222,\"#7201a8\"],[0.3333333333333333,\"#9c179e\"],[0.4444444444444444,\"#bd3786\"],[0.5555555555555556,\"#d8576b\"],[0.6666666666666666,\"#ed7953\"],[0.7777777777777778,\"#fb9f3a\"],[0.8888888888888888,\"#fdca26\"],[1.0,\"#f0f921\"]],\"type\":\"heatmap\"}],\"heatmapgl\":[{\"colorbar\":{\"outlinewidth\":0,\"ticks\":\"\"},\"colorscale\":[[0.0,\"#0d0887\"],[0.1111111111111111,\"#46039f\"],[0.2222222222222222,\"#7201a8\"],[0.3333333333333333,\"#9c179e\"],[0.4444444444444444,\"#bd3786\"],[0.5555555555555556,\"#d8576b\"],[0.6666666666666666,\"#ed7953\"],[0.7777777777777778,\"#fb9f3a\"],[0.8888888888888888,\"#fdca26\"],[1.0,\"#f0f921\"]],\"type\":\"heatmapgl\"}],\"histogram\":[{\"marker\":{\"pattern\":{\"fillmode\":\"overlay\",\"size\":10,\"solidity\":0.2}},\"type\":\"histogram\"}],\"histogram2d\":[{\"colorbar\":{\"outlinewidth\":0,\"ticks\":\"\"},\"colorscale\":[[0.0,\"#0d0887\"],[0.1111111111111111,\"#46039f\"],[0.2222222222222222,\"#7201a8\"],[0.3333333333333333,\"#9c179e\"],[0.4444444444444444,\"#bd3786\"],[0.5555555555555556,\"#d8576b\"],[0.6666666666666666,\"#ed7953\"],[0.7777777777777778,\"#fb9f3a\"],[0.8888888888888888,\"#fdca26\"],[1.0,\"#f0f921\"]],\"type\":\"histogram2d\"}],\"histogram2dcontour\":[{\"colorbar\":{\"outlinewidth\":0,\"ticks\":\"\"},\"colorscale\":[[0.0,\"#0d0887\"],[0.1111111111111111,\"#46039f\"],[0.2222222222222222,\"#7201a8\"],[0.3333333333333333,\"#9c179e\"],[0.4444444444444444,\"#bd3786\"],[0.5555555555555556,\"#d8576b\"],[0.6666666666666666,\"#ed7953\"],[0.7777777777777778,\"#fb9f3a\"],[0.8888888888888888,\"#fdca26\"],[1.0,\"#f0f921\"]],\"type\":\"histogram2dcontour\"}],\"mesh3d\":[{\"colorbar\":{\"outlinewidth\":0,\"ticks\":\"\"},\"type\":\"mesh3d\"}],\"parcoords\":[{\"line\":{\"colorbar\":{\"outlinewidth\":0,\"ticks\":\"\"}},\"type\":\"parcoords\"}],\"pie\":[{\"automargin\":true,\"type\":\"pie\"}],\"scatter\":[{\"marker\":{\"colorbar\":{\"outlinewidth\":0,\"ticks\":\"\"}},\"type\":\"scatter\"}],\"scatter3d\":[{\"line\":{\"colorbar\":{\"outlinewidth\":0,\"ticks\":\"\"}},\"marker\":{\"colorbar\":{\"outlinewidth\":0,\"ticks\":\"\"}},\"type\":\"scatter3d\"}],\"scattercarpet\":[{\"marker\":{\"colorbar\":{\"outlinewidth\":0,\"ticks\":\"\"}},\"type\":\"scattercarpet\"}],\"scattergeo\":[{\"marker\":{\"colorbar\":{\"outlinewidth\":0,\"ticks\":\"\"}},\"type\":\"scattergeo\"}],\"scattergl\":[{\"marker\":{\"colorbar\":{\"outlinewidth\":0,\"ticks\":\"\"}},\"type\":\"scattergl\"}],\"scattermapbox\":[{\"marker\":{\"colorbar\":{\"outlinewidth\":0,\"ticks\":\"\"}},\"type\":\"scattermapbox\"}],\"scatterpolar\":[{\"marker\":{\"colorbar\":{\"outlinewidth\":0,\"ticks\":\"\"}},\"type\":\"scatterpolar\"}],\"scatterpolargl\":[{\"marker\":{\"colorbar\":{\"outlinewidth\":0,\"ticks\":\"\"}},\"type\":\"scatterpolargl\"}],\"scatterternary\":[{\"marker\":{\"colorbar\":{\"outlinewidth\":0,\"ticks\":\"\"}},\"type\":\"scatterternary\"}],\"surface\":[{\"colorbar\":{\"outlinewidth\":0,\"ticks\":\"\"},\"colorscale\":[[0.0,\"#0d0887\"],[0.1111111111111111,\"#46039f\"],[0.2222222222222222,\"#7201a8\"],[0.3333333333333333,\"#9c179e\"],[0.4444444444444444,\"#bd3786\"],[0.5555555555555556,\"#d8576b\"],[0.6666666666666666,\"#ed7953\"],[0.7777777777777778,\"#fb9f3a\"],[0.8888888888888888,\"#fdca26\"],[1.0,\"#f0f921\"]],\"type\":\"surface\"}],\"table\":[{\"cells\":{\"fill\":{\"color\":\"#EBF0F8\"},\"line\":{\"color\":\"white\"}},\"header\":{\"fill\":{\"color\":\"#C8D4E3\"},\"line\":{\"color\":\"white\"}},\"type\":\"table\"}]},\"layout\":{\"annotationdefaults\":{\"arrowcolor\":\"#2a3f5f\",\"arrowhead\":0,\"arrowwidth\":1},\"autotypenumbers\":\"strict\",\"coloraxis\":{\"colorbar\":{\"outlinewidth\":0,\"ticks\":\"\"}},\"colorscale\":{\"diverging\":[[0,\"#8e0152\"],[0.1,\"#c51b7d\"],[0.2,\"#de77ae\"],[0.3,\"#f1b6da\"],[0.4,\"#fde0ef\"],[0.5,\"#f7f7f7\"],[0.6,\"#e6f5d0\"],[0.7,\"#b8e186\"],[0.8,\"#7fbc41\"],[0.9,\"#4d9221\"],[1,\"#276419\"]],\"sequential\":[[0.0,\"#0d0887\"],[0.1111111111111111,\"#46039f\"],[0.2222222222222222,\"#7201a8\"],[0.3333333333333333,\"#9c179e\"],[0.4444444444444444,\"#bd3786\"],[0.5555555555555556,\"#d8576b\"],[0.6666666666666666,\"#ed7953\"],[0.7777777777777778,\"#fb9f3a\"],[0.8888888888888888,\"#fdca26\"],[1.0,\"#f0f921\"]],\"sequentialminus\":[[0.0,\"#0d0887\"],[0.1111111111111111,\"#46039f\"],[0.2222222222222222,\"#7201a8\"],[0.3333333333333333,\"#9c179e\"],[0.4444444444444444,\"#bd3786\"],[0.5555555555555556,\"#d8576b\"],[0.6666666666666666,\"#ed7953\"],[0.7777777777777778,\"#fb9f3a\"],[0.8888888888888888,\"#fdca26\"],[1.0,\"#f0f921\"]]},\"colorway\":[\"#636efa\",\"#EF553B\",\"#00cc96\",\"#ab63fa\",\"#FFA15A\",\"#19d3f3\",\"#FF6692\",\"#B6E880\",\"#FF97FF\",\"#FECB52\"],\"font\":{\"color\":\"#2a3f5f\"},\"geo\":{\"bgcolor\":\"white\",\"lakecolor\":\"white\",\"landcolor\":\"#E5ECF6\",\"showlakes\":true,\"showland\":true,\"subunitcolor\":\"white\"},\"hoverlabel\":{\"align\":\"left\"},\"hovermode\":\"closest\",\"mapbox\":{\"style\":\"light\"},\"paper_bgcolor\":\"white\",\"plot_bgcolor\":\"#E5ECF6\",\"polar\":{\"angularaxis\":{\"gridcolor\":\"white\",\"linecolor\":\"white\",\"ticks\":\"\"},\"bgcolor\":\"#E5ECF6\",\"radialaxis\":{\"gridcolor\":\"white\",\"linecolor\":\"white\",\"ticks\":\"\"}},\"scene\":{\"xaxis\":{\"backgroundcolor\":\"#E5ECF6\",\"gridcolor\":\"white\",\"gridwidth\":2,\"linecolor\":\"white\",\"showbackground\":true,\"ticks\":\"\",\"zerolinecolor\":\"white\"},\"yaxis\":{\"backgroundcolor\":\"#E5ECF6\",\"gridcolor\":\"white\",\"gridwidth\":2,\"linecolor\":\"white\",\"showbackground\":true,\"ticks\":\"\",\"zerolinecolor\":\"white\"},\"zaxis\":{\"backgroundcolor\":\"#E5ECF6\",\"gridcolor\":\"white\",\"gridwidth\":2,\"linecolor\":\"white\",\"showbackground\":true,\"ticks\":\"\",\"zerolinecolor\":\"white\"}},\"shapedefaults\":{\"line\":{\"color\":\"#2a3f5f\"}},\"ternary\":{\"aaxis\":{\"gridcolor\":\"white\",\"linecolor\":\"white\",\"ticks\":\"\"},\"baxis\":{\"gridcolor\":\"white\",\"linecolor\":\"white\",\"ticks\":\"\"},\"bgcolor\":\"#E5ECF6\",\"caxis\":{\"gridcolor\":\"white\",\"linecolor\":\"white\",\"ticks\":\"\"}},\"title\":{\"x\":0.05},\"xaxis\":{\"automargin\":true,\"gridcolor\":\"white\",\"linecolor\":\"white\",\"ticks\":\"\",\"title\":{\"standoff\":15},\"zerolinecolor\":\"white\",\"zerolinewidth\":2},\"yaxis\":{\"automargin\":true,\"gridcolor\":\"white\",\"linecolor\":\"white\",\"ticks\":\"\",\"title\":{\"standoff\":15},\"zerolinecolor\":\"white\",\"zerolinewidth\":2}}},\"title\":{\"font\":{\"color\":\"#4D5663\"}},\"xaxis\":{\"gridcolor\":\"#E1E5ED\",\"showgrid\":true,\"tickfont\":{\"color\":\"#4D5663\"},\"title\":{\"font\":{\"color\":\"#4D5663\"},\"text\":\"\\u0413\\u043e\\u0441. \\u0440\\u0430\\u0441\\u0445\\u043e\\u0434\\u044b, \\u043c\\u043b\\u043d. $\"},\"zerolinecolor\":\"#E1E5ED\"},\"yaxis\":{\"gridcolor\":\"#E1E5ED\",\"showgrid\":true,\"tickfont\":{\"color\":\"#4D5663\"},\"title\":{\"font\":{\"color\":\"#4D5663\"},\"text\":\"\\u0412\\u0412\\u041f, \\u043c\\u043b\\u043d. $\"},\"zerolinecolor\":\"#E1E5ED\"}},                        {\"showLink\": true, \"linkText\": \"Export to plot.ly\", \"plotlyServerURL\": \"https://plot.ly\", \"responsive\": true}                    ).then(function(){\n                            \nvar gd = document.getElementById('0aaeac54-7dd1-41cc-ac95-1f94d5bfdff4');\nvar x = new MutationObserver(function (mutations, observer) {{\n        var display = window.getComputedStyle(gd).display;\n        if (!display || display === 'none') {{\n            console.log([gd, 'removed!']);\n            Plotly.purge(gd);\n            observer.disconnect();\n        }}\n}});\n\n// Listen for the removal of the full notebook cells\nvar notebookContainer = gd.closest('#notebook-container');\nif (notebookContainer) {{\n    x.observe(notebookContainer, {childList: true});\n}}\n\n// Listen for the clearing of the current output cell\nvar outputEl = gd.closest('.output');\nif (outputEl) {{\n    x.observe(outputEl, {childList: true});\n}}\n\n                        })                };                });            </script>        </div>"
     },
     "metadata": {},
     "output_type": "display_data"
    }
   ],
   "source": [
    "df.iplot(\n",
    "    x='G', y='Y',\n",
    "    xTitle=f'{data_router[\"G\"][\"ru\"][\"short\"]}',\n",
    "    yTitle=f'{data_router[\"Y\"][\"ru\"][\"short\"]}',\n",
    "    **scatter_config,\n",
    ")"
   ],
   "metadata": {
    "collapsed": false,
    "pycharm": {
     "name": "#%%\n"
    }
   }
  },
  {
   "cell_type": "code",
   "execution_count": 439,
   "outputs": [
    {
     "data": {
      "application/vnd.plotly.v1+json": {
       "config": {
        "linkText": "Export to plot.ly",
        "plotlyServerURL": "https://plot.ly",
        "showLink": true
       },
       "data": [
        {
         "line": {
          "color": "rgba(255, 153, 51, 1.0)",
          "dash": "solid",
          "shape": "linear",
          "width": 1.3
         },
         "marker": {
          "size": 8,
          "symbol": "circle"
         },
         "mode": "markers",
         "name": "Y",
         "text": "",
         "type": "scatter",
         "x": [
          null,
          null,
          null,
          null,
          null,
          null,
          null,
          null,
          null,
          null,
          null,
          null,
          174.9782964905348,
          -13.35707852378439,
          129.59954720592313,
          113.19734315767391,
          648.8921806292743,
          782.100243428148,
          920.0785901208142,
          663.7966692833031,
          1020.3864058671797,
          614.2793846159739,
          492.93437736395856,
          1336.0209677407759,
          2620.430105894498,
          -837.4657530945419,
          -2693.1408607299068,
          2370.3770588375373,
          1062.9598666635302,
          813.1414012092334,
          -1532.829285193522,
          -1299.5639479031006,
          -2042.9157720672342,
          -3038.240806285928,
          -5130.238327676342,
          -5558.554531303516,
          -5120.045191338742,
          -8513.415730865618,
          381.67572004748234,
          831.047907476478,
          -1460.3395895855638,
          931.4826113425553,
          673.3641917500336,
          834.6284899948283,
          844.9967346884339,
          -1360.311037217621,
          -2457.6121901632137,
          -8240.128349488103,
          -3598.9013543968044,
          2481.036531837693,
          -7429.409607627416,
          -12310.531316131724,
          -8960.101619101886,
          -8914.231330771127,
          -6478.797336166049,
          -6357.864231088532,
          -3138.3122973851387,
          null,
          null,
          null,
          null
         ],
         "y": [
          5768.0160721365,
          6237.3530632452,
          6708.52560816992,
          7382.10326042145,
          7153.01202453881,
          7713.42072421103,
          8498.61416812063,
          9561.68222048448,
          10855.1122767574,
          12356.7364947,
          14079.544947471599,
          15827.345171430401,
          17934.843345103298,
          19836.4065002647,
          21049.9193673175,
          21888.061478996602,
          23515.9153209016,
          25127.39037491,
          27081.619804946098,
          29669.044703281503,
          32669.5398084426,
          36203.1221007069,
          38774.309407593006,
          42091.2963495683,
          45792.1258337604,
          45506.9090100421,
          46118.0072343257,
          51097.723540710096,
          56853.243727253,
          62628.7432111009,
          68779.54285209891,
          73379.864304359,
          78252.0595160596,
          87221.9168273286,
          96901.4980813798,
          103879.285314713,
          111640.501036364,
          120928.89753293499,
          118274.051330973,
          125044.067991979,
          136346.984801619,
          134889.41387525998,
          140169.80801635198,
          146527.60164921702,
          160916.01382534398,
          172757.877474653,
          188314.972645788,
          205304.99996321302,
          209140.601456434,
          209393.625490149,
          239809.387605427,
          255008.196791322,
          266385.665325181,
          279271.535506458,
          290269.25619507395,
          298944.012931308,
          308895.962132365,
          322859.23180541495,
          334151.135292159,
          338646.194792894,
          320389.705940647
         ]
        }
       ],
       "layout": {
        "legend": {
         "bgcolor": "#FFFFFF",
         "font": {
          "color": "#4D5663"
         }
        },
        "paper_bgcolor": "#FFFFFF",
        "plot_bgcolor": "#FFFFFF",
        "template": {
         "data": {
          "bar": [
           {
            "error_x": {
             "color": "#2a3f5f"
            },
            "error_y": {
             "color": "#2a3f5f"
            },
            "marker": {
             "line": {
              "color": "#E5ECF6",
              "width": 0.5
             },
             "pattern": {
              "fillmode": "overlay",
              "size": 10,
              "solidity": 0.2
             }
            },
            "type": "bar"
           }
          ],
          "barpolar": [
           {
            "marker": {
             "line": {
              "color": "#E5ECF6",
              "width": 0.5
             },
             "pattern": {
              "fillmode": "overlay",
              "size": 10,
              "solidity": 0.2
             }
            },
            "type": "barpolar"
           }
          ],
          "carpet": [
           {
            "aaxis": {
             "endlinecolor": "#2a3f5f",
             "gridcolor": "white",
             "linecolor": "white",
             "minorgridcolor": "white",
             "startlinecolor": "#2a3f5f"
            },
            "baxis": {
             "endlinecolor": "#2a3f5f",
             "gridcolor": "white",
             "linecolor": "white",
             "minorgridcolor": "white",
             "startlinecolor": "#2a3f5f"
            },
            "type": "carpet"
           }
          ],
          "choropleth": [
           {
            "colorbar": {
             "outlinewidth": 0,
             "ticks": ""
            },
            "type": "choropleth"
           }
          ],
          "contour": [
           {
            "colorbar": {
             "outlinewidth": 0,
             "ticks": ""
            },
            "colorscale": [
             [
              0.0,
              "#0d0887"
             ],
             [
              0.1111111111111111,
              "#46039f"
             ],
             [
              0.2222222222222222,
              "#7201a8"
             ],
             [
              0.3333333333333333,
              "#9c179e"
             ],
             [
              0.4444444444444444,
              "#bd3786"
             ],
             [
              0.5555555555555556,
              "#d8576b"
             ],
             [
              0.6666666666666666,
              "#ed7953"
             ],
             [
              0.7777777777777778,
              "#fb9f3a"
             ],
             [
              0.8888888888888888,
              "#fdca26"
             ],
             [
              1.0,
              "#f0f921"
             ]
            ],
            "type": "contour"
           }
          ],
          "contourcarpet": [
           {
            "colorbar": {
             "outlinewidth": 0,
             "ticks": ""
            },
            "type": "contourcarpet"
           }
          ],
          "heatmap": [
           {
            "colorbar": {
             "outlinewidth": 0,
             "ticks": ""
            },
            "colorscale": [
             [
              0.0,
              "#0d0887"
             ],
             [
              0.1111111111111111,
              "#46039f"
             ],
             [
              0.2222222222222222,
              "#7201a8"
             ],
             [
              0.3333333333333333,
              "#9c179e"
             ],
             [
              0.4444444444444444,
              "#bd3786"
             ],
             [
              0.5555555555555556,
              "#d8576b"
             ],
             [
              0.6666666666666666,
              "#ed7953"
             ],
             [
              0.7777777777777778,
              "#fb9f3a"
             ],
             [
              0.8888888888888888,
              "#fdca26"
             ],
             [
              1.0,
              "#f0f921"
             ]
            ],
            "type": "heatmap"
           }
          ],
          "heatmapgl": [
           {
            "colorbar": {
             "outlinewidth": 0,
             "ticks": ""
            },
            "colorscale": [
             [
              0.0,
              "#0d0887"
             ],
             [
              0.1111111111111111,
              "#46039f"
             ],
             [
              0.2222222222222222,
              "#7201a8"
             ],
             [
              0.3333333333333333,
              "#9c179e"
             ],
             [
              0.4444444444444444,
              "#bd3786"
             ],
             [
              0.5555555555555556,
              "#d8576b"
             ],
             [
              0.6666666666666666,
              "#ed7953"
             ],
             [
              0.7777777777777778,
              "#fb9f3a"
             ],
             [
              0.8888888888888888,
              "#fdca26"
             ],
             [
              1.0,
              "#f0f921"
             ]
            ],
            "type": "heatmapgl"
           }
          ],
          "histogram": [
           {
            "marker": {
             "pattern": {
              "fillmode": "overlay",
              "size": 10,
              "solidity": 0.2
             }
            },
            "type": "histogram"
           }
          ],
          "histogram2d": [
           {
            "colorbar": {
             "outlinewidth": 0,
             "ticks": ""
            },
            "colorscale": [
             [
              0.0,
              "#0d0887"
             ],
             [
              0.1111111111111111,
              "#46039f"
             ],
             [
              0.2222222222222222,
              "#7201a8"
             ],
             [
              0.3333333333333333,
              "#9c179e"
             ],
             [
              0.4444444444444444,
              "#bd3786"
             ],
             [
              0.5555555555555556,
              "#d8576b"
             ],
             [
              0.6666666666666666,
              "#ed7953"
             ],
             [
              0.7777777777777778,
              "#fb9f3a"
             ],
             [
              0.8888888888888888,
              "#fdca26"
             ],
             [
              1.0,
              "#f0f921"
             ]
            ],
            "type": "histogram2d"
           }
          ],
          "histogram2dcontour": [
           {
            "colorbar": {
             "outlinewidth": 0,
             "ticks": ""
            },
            "colorscale": [
             [
              0.0,
              "#0d0887"
             ],
             [
              0.1111111111111111,
              "#46039f"
             ],
             [
              0.2222222222222222,
              "#7201a8"
             ],
             [
              0.3333333333333333,
              "#9c179e"
             ],
             [
              0.4444444444444444,
              "#bd3786"
             ],
             [
              0.5555555555555556,
              "#d8576b"
             ],
             [
              0.6666666666666666,
              "#ed7953"
             ],
             [
              0.7777777777777778,
              "#fb9f3a"
             ],
             [
              0.8888888888888888,
              "#fdca26"
             ],
             [
              1.0,
              "#f0f921"
             ]
            ],
            "type": "histogram2dcontour"
           }
          ],
          "mesh3d": [
           {
            "colorbar": {
             "outlinewidth": 0,
             "ticks": ""
            },
            "type": "mesh3d"
           }
          ],
          "parcoords": [
           {
            "line": {
             "colorbar": {
              "outlinewidth": 0,
              "ticks": ""
             }
            },
            "type": "parcoords"
           }
          ],
          "pie": [
           {
            "automargin": true,
            "type": "pie"
           }
          ],
          "scatter": [
           {
            "marker": {
             "colorbar": {
              "outlinewidth": 0,
              "ticks": ""
             }
            },
            "type": "scatter"
           }
          ],
          "scatter3d": [
           {
            "line": {
             "colorbar": {
              "outlinewidth": 0,
              "ticks": ""
             }
            },
            "marker": {
             "colorbar": {
              "outlinewidth": 0,
              "ticks": ""
             }
            },
            "type": "scatter3d"
           }
          ],
          "scattercarpet": [
           {
            "marker": {
             "colorbar": {
              "outlinewidth": 0,
              "ticks": ""
             }
            },
            "type": "scattercarpet"
           }
          ],
          "scattergeo": [
           {
            "marker": {
             "colorbar": {
              "outlinewidth": 0,
              "ticks": ""
             }
            },
            "type": "scattergeo"
           }
          ],
          "scattergl": [
           {
            "marker": {
             "colorbar": {
              "outlinewidth": 0,
              "ticks": ""
             }
            },
            "type": "scattergl"
           }
          ],
          "scattermapbox": [
           {
            "marker": {
             "colorbar": {
              "outlinewidth": 0,
              "ticks": ""
             }
            },
            "type": "scattermapbox"
           }
          ],
          "scatterpolar": [
           {
            "marker": {
             "colorbar": {
              "outlinewidth": 0,
              "ticks": ""
             }
            },
            "type": "scatterpolar"
           }
          ],
          "scatterpolargl": [
           {
            "marker": {
             "colorbar": {
              "outlinewidth": 0,
              "ticks": ""
             }
            },
            "type": "scatterpolargl"
           }
          ],
          "scatterternary": [
           {
            "marker": {
             "colorbar": {
              "outlinewidth": 0,
              "ticks": ""
             }
            },
            "type": "scatterternary"
           }
          ],
          "surface": [
           {
            "colorbar": {
             "outlinewidth": 0,
             "ticks": ""
            },
            "colorscale": [
             [
              0.0,
              "#0d0887"
             ],
             [
              0.1111111111111111,
              "#46039f"
             ],
             [
              0.2222222222222222,
              "#7201a8"
             ],
             [
              0.3333333333333333,
              "#9c179e"
             ],
             [
              0.4444444444444444,
              "#bd3786"
             ],
             [
              0.5555555555555556,
              "#d8576b"
             ],
             [
              0.6666666666666666,
              "#ed7953"
             ],
             [
              0.7777777777777778,
              "#fb9f3a"
             ],
             [
              0.8888888888888888,
              "#fdca26"
             ],
             [
              1.0,
              "#f0f921"
             ]
            ],
            "type": "surface"
           }
          ],
          "table": [
           {
            "cells": {
             "fill": {
              "color": "#EBF0F8"
             },
             "line": {
              "color": "white"
             }
            },
            "header": {
             "fill": {
              "color": "#C8D4E3"
             },
             "line": {
              "color": "white"
             }
            },
            "type": "table"
           }
          ]
         },
         "layout": {
          "annotationdefaults": {
           "arrowcolor": "#2a3f5f",
           "arrowhead": 0,
           "arrowwidth": 1
          },
          "autotypenumbers": "strict",
          "coloraxis": {
           "colorbar": {
            "outlinewidth": 0,
            "ticks": ""
           }
          },
          "colorscale": {
           "diverging": [
            [
             0,
             "#8e0152"
            ],
            [
             0.1,
             "#c51b7d"
            ],
            [
             0.2,
             "#de77ae"
            ],
            [
             0.3,
             "#f1b6da"
            ],
            [
             0.4,
             "#fde0ef"
            ],
            [
             0.5,
             "#f7f7f7"
            ],
            [
             0.6,
             "#e6f5d0"
            ],
            [
             0.7,
             "#b8e186"
            ],
            [
             0.8,
             "#7fbc41"
            ],
            [
             0.9,
             "#4d9221"
            ],
            [
             1,
             "#276419"
            ]
           ],
           "sequential": [
            [
             0.0,
             "#0d0887"
            ],
            [
             0.1111111111111111,
             "#46039f"
            ],
            [
             0.2222222222222222,
             "#7201a8"
            ],
            [
             0.3333333333333333,
             "#9c179e"
            ],
            [
             0.4444444444444444,
             "#bd3786"
            ],
            [
             0.5555555555555556,
             "#d8576b"
            ],
            [
             0.6666666666666666,
             "#ed7953"
            ],
            [
             0.7777777777777778,
             "#fb9f3a"
            ],
            [
             0.8888888888888888,
             "#fdca26"
            ],
            [
             1.0,
             "#f0f921"
            ]
           ],
           "sequentialminus": [
            [
             0.0,
             "#0d0887"
            ],
            [
             0.1111111111111111,
             "#46039f"
            ],
            [
             0.2222222222222222,
             "#7201a8"
            ],
            [
             0.3333333333333333,
             "#9c179e"
            ],
            [
             0.4444444444444444,
             "#bd3786"
            ],
            [
             0.5555555555555556,
             "#d8576b"
            ],
            [
             0.6666666666666666,
             "#ed7953"
            ],
            [
             0.7777777777777778,
             "#fb9f3a"
            ],
            [
             0.8888888888888888,
             "#fdca26"
            ],
            [
             1.0,
             "#f0f921"
            ]
           ]
          },
          "colorway": [
           "#636efa",
           "#EF553B",
           "#00cc96",
           "#ab63fa",
           "#FFA15A",
           "#19d3f3",
           "#FF6692",
           "#B6E880",
           "#FF97FF",
           "#FECB52"
          ],
          "font": {
           "color": "#2a3f5f"
          },
          "geo": {
           "bgcolor": "white",
           "lakecolor": "white",
           "landcolor": "#E5ECF6",
           "showlakes": true,
           "showland": true,
           "subunitcolor": "white"
          },
          "hoverlabel": {
           "align": "left"
          },
          "hovermode": "closest",
          "mapbox": {
           "style": "light"
          },
          "paper_bgcolor": "white",
          "plot_bgcolor": "#E5ECF6",
          "polar": {
           "angularaxis": {
            "gridcolor": "white",
            "linecolor": "white",
            "ticks": ""
           },
           "bgcolor": "#E5ECF6",
           "radialaxis": {
            "gridcolor": "white",
            "linecolor": "white",
            "ticks": ""
           }
          },
          "scene": {
           "xaxis": {
            "backgroundcolor": "#E5ECF6",
            "gridcolor": "white",
            "gridwidth": 2,
            "linecolor": "white",
            "showbackground": true,
            "ticks": "",
            "zerolinecolor": "white"
           },
           "yaxis": {
            "backgroundcolor": "#E5ECF6",
            "gridcolor": "white",
            "gridwidth": 2,
            "linecolor": "white",
            "showbackground": true,
            "ticks": "",
            "zerolinecolor": "white"
           },
           "zaxis": {
            "backgroundcolor": "#E5ECF6",
            "gridcolor": "white",
            "gridwidth": 2,
            "linecolor": "white",
            "showbackground": true,
            "ticks": "",
            "zerolinecolor": "white"
           }
          },
          "shapedefaults": {
           "line": {
            "color": "#2a3f5f"
           }
          },
          "ternary": {
           "aaxis": {
            "gridcolor": "white",
            "linecolor": "white",
            "ticks": ""
           },
           "baxis": {
            "gridcolor": "white",
            "linecolor": "white",
            "ticks": ""
           },
           "bgcolor": "#E5ECF6",
           "caxis": {
            "gridcolor": "white",
            "linecolor": "white",
            "ticks": ""
           }
          },
          "title": {
           "x": 0.05
          },
          "xaxis": {
           "automargin": true,
           "gridcolor": "white",
           "linecolor": "white",
           "ticks": "",
           "title": {
            "standoff": 15
           },
           "zerolinecolor": "white",
           "zerolinewidth": 2
          },
          "yaxis": {
           "automargin": true,
           "gridcolor": "white",
           "linecolor": "white",
           "ticks": "",
           "title": {
            "standoff": 15
           },
           "zerolinecolor": "white",
           "zerolinewidth": 2
          }
         }
        },
        "title": {
         "font": {
          "color": "#4D5663"
         }
        },
        "xaxis": {
         "gridcolor": "#E1E5ED",
         "showgrid": true,
         "tickfont": {
          "color": "#4D5663"
         },
         "title": {
          "font": {
           "color": "#4D5663"
          },
          "text": "Инвестиции, млн. $"
         },
         "zerolinecolor": "#E1E5ED"
        },
        "yaxis": {
         "gridcolor": "#E1E5ED",
         "showgrid": true,
         "tickfont": {
          "color": "#4D5663"
         },
         "title": {
          "font": {
           "color": "#4D5663"
          },
          "text": "ВВП, млн. $"
         },
         "zerolinecolor": "#E1E5ED"
        }
       }
      },
      "text/html": "<div>                            <div id=\"5ec18534-1a28-4888-85e3-823632732e01\" class=\"plotly-graph-div\" style=\"height:525px; width:100%;\"></div>            <script type=\"text/javascript\">                require([\"plotly\"], function(Plotly) {                    window.PLOTLYENV=window.PLOTLYENV || {};\n                    window.PLOTLYENV.BASE_URL='https://plot.ly';                                    if (document.getElementById(\"5ec18534-1a28-4888-85e3-823632732e01\")) {                    Plotly.newPlot(                        \"5ec18534-1a28-4888-85e3-823632732e01\",                        [{\"line\":{\"color\":\"rgba(255, 153, 51, 1.0)\",\"dash\":\"solid\",\"shape\":\"linear\",\"width\":1.3},\"marker\":{\"size\":8,\"symbol\":\"circle\"},\"mode\":\"markers\",\"name\":\"Y\",\"text\":\"\",\"type\":\"scatter\",\"x\":[null,null,null,null,null,null,null,null,null,null,null,null,174.9782964905348,-13.35707852378439,129.59954720592313,113.19734315767391,648.8921806292743,782.100243428148,920.0785901208142,663.7966692833031,1020.3864058671797,614.2793846159739,492.93437736395856,1336.0209677407759,2620.430105894498,-837.4657530945419,-2693.1408607299068,2370.3770588375373,1062.9598666635302,813.1414012092334,-1532.829285193522,-1299.5639479031006,-2042.9157720672342,-3038.240806285928,-5130.238327676342,-5558.554531303516,-5120.045191338742,-8513.415730865618,381.67572004748234,831.047907476478,-1460.3395895855638,931.4826113425553,673.3641917500336,834.6284899948283,844.9967346884339,-1360.311037217621,-2457.6121901632137,-8240.128349488103,-3598.9013543968044,2481.036531837693,-7429.409607627416,-12310.531316131724,-8960.101619101886,-8914.231330771127,-6478.797336166049,-6357.864231088532,-3138.3122973851387,null,null,null,null],\"y\":[5768.0160721365,6237.3530632452,6708.52560816992,7382.10326042145,7153.01202453881,7713.42072421103,8498.61416812063,9561.68222048448,10855.1122767574,12356.7364947,14079.544947471599,15827.345171430401,17934.843345103298,19836.4065002647,21049.9193673175,21888.061478996602,23515.9153209016,25127.39037491,27081.619804946098,29669.044703281503,32669.5398084426,36203.1221007069,38774.309407593006,42091.2963495683,45792.1258337604,45506.9090100421,46118.0072343257,51097.723540710096,56853.243727253,62628.7432111009,68779.54285209891,73379.864304359,78252.0595160596,87221.9168273286,96901.4980813798,103879.285314713,111640.501036364,120928.89753293499,118274.051330973,125044.067991979,136346.984801619,134889.41387525998,140169.80801635198,146527.60164921702,160916.01382534398,172757.877474653,188314.972645788,205304.99996321302,209140.601456434,209393.625490149,239809.387605427,255008.196791322,266385.665325181,279271.535506458,290269.25619507395,298944.012931308,308895.962132365,322859.23180541495,334151.135292159,338646.194792894,320389.705940647]}],                        {\"legend\":{\"bgcolor\":\"#FFFFFF\",\"font\":{\"color\":\"#4D5663\"}},\"paper_bgcolor\":\"#FFFFFF\",\"plot_bgcolor\":\"#FFFFFF\",\"template\":{\"data\":{\"bar\":[{\"error_x\":{\"color\":\"#2a3f5f\"},\"error_y\":{\"color\":\"#2a3f5f\"},\"marker\":{\"line\":{\"color\":\"#E5ECF6\",\"width\":0.5},\"pattern\":{\"fillmode\":\"overlay\",\"size\":10,\"solidity\":0.2}},\"type\":\"bar\"}],\"barpolar\":[{\"marker\":{\"line\":{\"color\":\"#E5ECF6\",\"width\":0.5},\"pattern\":{\"fillmode\":\"overlay\",\"size\":10,\"solidity\":0.2}},\"type\":\"barpolar\"}],\"carpet\":[{\"aaxis\":{\"endlinecolor\":\"#2a3f5f\",\"gridcolor\":\"white\",\"linecolor\":\"white\",\"minorgridcolor\":\"white\",\"startlinecolor\":\"#2a3f5f\"},\"baxis\":{\"endlinecolor\":\"#2a3f5f\",\"gridcolor\":\"white\",\"linecolor\":\"white\",\"minorgridcolor\":\"white\",\"startlinecolor\":\"#2a3f5f\"},\"type\":\"carpet\"}],\"choropleth\":[{\"colorbar\":{\"outlinewidth\":0,\"ticks\":\"\"},\"type\":\"choropleth\"}],\"contour\":[{\"colorbar\":{\"outlinewidth\":0,\"ticks\":\"\"},\"colorscale\":[[0.0,\"#0d0887\"],[0.1111111111111111,\"#46039f\"],[0.2222222222222222,\"#7201a8\"],[0.3333333333333333,\"#9c179e\"],[0.4444444444444444,\"#bd3786\"],[0.5555555555555556,\"#d8576b\"],[0.6666666666666666,\"#ed7953\"],[0.7777777777777778,\"#fb9f3a\"],[0.8888888888888888,\"#fdca26\"],[1.0,\"#f0f921\"]],\"type\":\"contour\"}],\"contourcarpet\":[{\"colorbar\":{\"outlinewidth\":0,\"ticks\":\"\"},\"type\":\"contourcarpet\"}],\"heatmap\":[{\"colorbar\":{\"outlinewidth\":0,\"ticks\":\"\"},\"colorscale\":[[0.0,\"#0d0887\"],[0.1111111111111111,\"#46039f\"],[0.2222222222222222,\"#7201a8\"],[0.3333333333333333,\"#9c179e\"],[0.4444444444444444,\"#bd3786\"],[0.5555555555555556,\"#d8576b\"],[0.6666666666666666,\"#ed7953\"],[0.7777777777777778,\"#fb9f3a\"],[0.8888888888888888,\"#fdca26\"],[1.0,\"#f0f921\"]],\"type\":\"heatmap\"}],\"heatmapgl\":[{\"colorbar\":{\"outlinewidth\":0,\"ticks\":\"\"},\"colorscale\":[[0.0,\"#0d0887\"],[0.1111111111111111,\"#46039f\"],[0.2222222222222222,\"#7201a8\"],[0.3333333333333333,\"#9c179e\"],[0.4444444444444444,\"#bd3786\"],[0.5555555555555556,\"#d8576b\"],[0.6666666666666666,\"#ed7953\"],[0.7777777777777778,\"#fb9f3a\"],[0.8888888888888888,\"#fdca26\"],[1.0,\"#f0f921\"]],\"type\":\"heatmapgl\"}],\"histogram\":[{\"marker\":{\"pattern\":{\"fillmode\":\"overlay\",\"size\":10,\"solidity\":0.2}},\"type\":\"histogram\"}],\"histogram2d\":[{\"colorbar\":{\"outlinewidth\":0,\"ticks\":\"\"},\"colorscale\":[[0.0,\"#0d0887\"],[0.1111111111111111,\"#46039f\"],[0.2222222222222222,\"#7201a8\"],[0.3333333333333333,\"#9c179e\"],[0.4444444444444444,\"#bd3786\"],[0.5555555555555556,\"#d8576b\"],[0.6666666666666666,\"#ed7953\"],[0.7777777777777778,\"#fb9f3a\"],[0.8888888888888888,\"#fdca26\"],[1.0,\"#f0f921\"]],\"type\":\"histogram2d\"}],\"histogram2dcontour\":[{\"colorbar\":{\"outlinewidth\":0,\"ticks\":\"\"},\"colorscale\":[[0.0,\"#0d0887\"],[0.1111111111111111,\"#46039f\"],[0.2222222222222222,\"#7201a8\"],[0.3333333333333333,\"#9c179e\"],[0.4444444444444444,\"#bd3786\"],[0.5555555555555556,\"#d8576b\"],[0.6666666666666666,\"#ed7953\"],[0.7777777777777778,\"#fb9f3a\"],[0.8888888888888888,\"#fdca26\"],[1.0,\"#f0f921\"]],\"type\":\"histogram2dcontour\"}],\"mesh3d\":[{\"colorbar\":{\"outlinewidth\":0,\"ticks\":\"\"},\"type\":\"mesh3d\"}],\"parcoords\":[{\"line\":{\"colorbar\":{\"outlinewidth\":0,\"ticks\":\"\"}},\"type\":\"parcoords\"}],\"pie\":[{\"automargin\":true,\"type\":\"pie\"}],\"scatter\":[{\"marker\":{\"colorbar\":{\"outlinewidth\":0,\"ticks\":\"\"}},\"type\":\"scatter\"}],\"scatter3d\":[{\"line\":{\"colorbar\":{\"outlinewidth\":0,\"ticks\":\"\"}},\"marker\":{\"colorbar\":{\"outlinewidth\":0,\"ticks\":\"\"}},\"type\":\"scatter3d\"}],\"scattercarpet\":[{\"marker\":{\"colorbar\":{\"outlinewidth\":0,\"ticks\":\"\"}},\"type\":\"scattercarpet\"}],\"scattergeo\":[{\"marker\":{\"colorbar\":{\"outlinewidth\":0,\"ticks\":\"\"}},\"type\":\"scattergeo\"}],\"scattergl\":[{\"marker\":{\"colorbar\":{\"outlinewidth\":0,\"ticks\":\"\"}},\"type\":\"scattergl\"}],\"scattermapbox\":[{\"marker\":{\"colorbar\":{\"outlinewidth\":0,\"ticks\":\"\"}},\"type\":\"scattermapbox\"}],\"scatterpolar\":[{\"marker\":{\"colorbar\":{\"outlinewidth\":0,\"ticks\":\"\"}},\"type\":\"scatterpolar\"}],\"scatterpolargl\":[{\"marker\":{\"colorbar\":{\"outlinewidth\":0,\"ticks\":\"\"}},\"type\":\"scatterpolargl\"}],\"scatterternary\":[{\"marker\":{\"colorbar\":{\"outlinewidth\":0,\"ticks\":\"\"}},\"type\":\"scatterternary\"}],\"surface\":[{\"colorbar\":{\"outlinewidth\":0,\"ticks\":\"\"},\"colorscale\":[[0.0,\"#0d0887\"],[0.1111111111111111,\"#46039f\"],[0.2222222222222222,\"#7201a8\"],[0.3333333333333333,\"#9c179e\"],[0.4444444444444444,\"#bd3786\"],[0.5555555555555556,\"#d8576b\"],[0.6666666666666666,\"#ed7953\"],[0.7777777777777778,\"#fb9f3a\"],[0.8888888888888888,\"#fdca26\"],[1.0,\"#f0f921\"]],\"type\":\"surface\"}],\"table\":[{\"cells\":{\"fill\":{\"color\":\"#EBF0F8\"},\"line\":{\"color\":\"white\"}},\"header\":{\"fill\":{\"color\":\"#C8D4E3\"},\"line\":{\"color\":\"white\"}},\"type\":\"table\"}]},\"layout\":{\"annotationdefaults\":{\"arrowcolor\":\"#2a3f5f\",\"arrowhead\":0,\"arrowwidth\":1},\"autotypenumbers\":\"strict\",\"coloraxis\":{\"colorbar\":{\"outlinewidth\":0,\"ticks\":\"\"}},\"colorscale\":{\"diverging\":[[0,\"#8e0152\"],[0.1,\"#c51b7d\"],[0.2,\"#de77ae\"],[0.3,\"#f1b6da\"],[0.4,\"#fde0ef\"],[0.5,\"#f7f7f7\"],[0.6,\"#e6f5d0\"],[0.7,\"#b8e186\"],[0.8,\"#7fbc41\"],[0.9,\"#4d9221\"],[1,\"#276419\"]],\"sequential\":[[0.0,\"#0d0887\"],[0.1111111111111111,\"#46039f\"],[0.2222222222222222,\"#7201a8\"],[0.3333333333333333,\"#9c179e\"],[0.4444444444444444,\"#bd3786\"],[0.5555555555555556,\"#d8576b\"],[0.6666666666666666,\"#ed7953\"],[0.7777777777777778,\"#fb9f3a\"],[0.8888888888888888,\"#fdca26\"],[1.0,\"#f0f921\"]],\"sequentialminus\":[[0.0,\"#0d0887\"],[0.1111111111111111,\"#46039f\"],[0.2222222222222222,\"#7201a8\"],[0.3333333333333333,\"#9c179e\"],[0.4444444444444444,\"#bd3786\"],[0.5555555555555556,\"#d8576b\"],[0.6666666666666666,\"#ed7953\"],[0.7777777777777778,\"#fb9f3a\"],[0.8888888888888888,\"#fdca26\"],[1.0,\"#f0f921\"]]},\"colorway\":[\"#636efa\",\"#EF553B\",\"#00cc96\",\"#ab63fa\",\"#FFA15A\",\"#19d3f3\",\"#FF6692\",\"#B6E880\",\"#FF97FF\",\"#FECB52\"],\"font\":{\"color\":\"#2a3f5f\"},\"geo\":{\"bgcolor\":\"white\",\"lakecolor\":\"white\",\"landcolor\":\"#E5ECF6\",\"showlakes\":true,\"showland\":true,\"subunitcolor\":\"white\"},\"hoverlabel\":{\"align\":\"left\"},\"hovermode\":\"closest\",\"mapbox\":{\"style\":\"light\"},\"paper_bgcolor\":\"white\",\"plot_bgcolor\":\"#E5ECF6\",\"polar\":{\"angularaxis\":{\"gridcolor\":\"white\",\"linecolor\":\"white\",\"ticks\":\"\"},\"bgcolor\":\"#E5ECF6\",\"radialaxis\":{\"gridcolor\":\"white\",\"linecolor\":\"white\",\"ticks\":\"\"}},\"scene\":{\"xaxis\":{\"backgroundcolor\":\"#E5ECF6\",\"gridcolor\":\"white\",\"gridwidth\":2,\"linecolor\":\"white\",\"showbackground\":true,\"ticks\":\"\",\"zerolinecolor\":\"white\"},\"yaxis\":{\"backgroundcolor\":\"#E5ECF6\",\"gridcolor\":\"white\",\"gridwidth\":2,\"linecolor\":\"white\",\"showbackground\":true,\"ticks\":\"\",\"zerolinecolor\":\"white\"},\"zaxis\":{\"backgroundcolor\":\"#E5ECF6\",\"gridcolor\":\"white\",\"gridwidth\":2,\"linecolor\":\"white\",\"showbackground\":true,\"ticks\":\"\",\"zerolinecolor\":\"white\"}},\"shapedefaults\":{\"line\":{\"color\":\"#2a3f5f\"}},\"ternary\":{\"aaxis\":{\"gridcolor\":\"white\",\"linecolor\":\"white\",\"ticks\":\"\"},\"baxis\":{\"gridcolor\":\"white\",\"linecolor\":\"white\",\"ticks\":\"\"},\"bgcolor\":\"#E5ECF6\",\"caxis\":{\"gridcolor\":\"white\",\"linecolor\":\"white\",\"ticks\":\"\"}},\"title\":{\"x\":0.05},\"xaxis\":{\"automargin\":true,\"gridcolor\":\"white\",\"linecolor\":\"white\",\"ticks\":\"\",\"title\":{\"standoff\":15},\"zerolinecolor\":\"white\",\"zerolinewidth\":2},\"yaxis\":{\"automargin\":true,\"gridcolor\":\"white\",\"linecolor\":\"white\",\"ticks\":\"\",\"title\":{\"standoff\":15},\"zerolinecolor\":\"white\",\"zerolinewidth\":2}}},\"title\":{\"font\":{\"color\":\"#4D5663\"}},\"xaxis\":{\"gridcolor\":\"#E1E5ED\",\"showgrid\":true,\"tickfont\":{\"color\":\"#4D5663\"},\"title\":{\"font\":{\"color\":\"#4D5663\"},\"text\":\"\\u0418\\u043d\\u0432\\u0435\\u0441\\u0442\\u0438\\u0446\\u0438\\u0438, \\u043c\\u043b\\u043d. $\"},\"zerolinecolor\":\"#E1E5ED\"},\"yaxis\":{\"gridcolor\":\"#E1E5ED\",\"showgrid\":true,\"tickfont\":{\"color\":\"#4D5663\"},\"title\":{\"font\":{\"color\":\"#4D5663\"},\"text\":\"\\u0412\\u0412\\u041f, \\u043c\\u043b\\u043d. $\"},\"zerolinecolor\":\"#E1E5ED\"}},                        {\"showLink\": true, \"linkText\": \"Export to plot.ly\", \"plotlyServerURL\": \"https://plot.ly\", \"responsive\": true}                    ).then(function(){\n                            \nvar gd = document.getElementById('5ec18534-1a28-4888-85e3-823632732e01');\nvar x = new MutationObserver(function (mutations, observer) {{\n        var display = window.getComputedStyle(gd).display;\n        if (!display || display === 'none') {{\n            console.log([gd, 'removed!']);\n            Plotly.purge(gd);\n            observer.disconnect();\n        }}\n}});\n\n// Listen for the removal of the full notebook cells\nvar notebookContainer = gd.closest('#notebook-container');\nif (notebookContainer) {{\n    x.observe(notebookContainer, {childList: true});\n}}\n\n// Listen for the clearing of the current output cell\nvar outputEl = gd.closest('.output');\nif (outputEl) {{\n    x.observe(outputEl, {childList: true});\n}}\n\n                        })                };                });            </script>        </div>"
     },
     "metadata": {},
     "output_type": "display_data"
    }
   ],
   "source": [
    "df.iplot(\n",
    "    x='I', y='Y',\n",
    "    xTitle=f'{data_router[\"I\"][\"ru\"][\"short\"]}',\n",
    "    yTitle=f'{data_router[\"Y\"][\"ru\"][\"short\"]}',\n",
    "    **scatter_config,\n",
    ")"
   ],
   "metadata": {
    "collapsed": false,
    "pycharm": {
     "name": "#%%\n"
    }
   }
  },
  {
   "cell_type": "code",
   "execution_count": 440,
   "outputs": [
    {
     "data": {
      "application/vnd.plotly.v1+json": {
       "config": {
        "linkText": "Export to plot.ly",
        "plotlyServerURL": "https://plot.ly",
        "showLink": true
       },
       "data": [
        {
         "line": {
          "color": "rgba(255, 153, 51, 1.0)",
          "dash": "solid",
          "shape": "linear",
          "width": 1.3
         },
         "marker": {
          "size": 8,
          "symbol": "circle"
         },
         "mode": "markers",
         "name": "Y",
         "text": "",
         "type": "scatter",
         "x": [
          null,
          null,
          null,
          null,
          null,
          null,
          null,
          null,
          null,
          null,
          null,
          null,
          15545.42942544247,
          16645.103373174497,
          17317.599904370112,
          17929.3875756784,
          19268.7035983736,
          20571.50989597201,
          22018.24442461416,
          22597.456659633524,
          23988.177331633557,
          24861.38264645902,
          26349.84149990738,
          28591.26837600388,
          31996.880691042476,
          31128.682541854305,
          30189.528030866106,
          37960.40519129284,
          38369.082988435635,
          41219.96343699772,
          41892.46036524551,
          43948.01178836829,
          45672.69433007106,
          50844.84976320741,
          52361.88656377241,
          54235.46687365893,
          60202.72393446717,
          61047.906507291395,
          69975.45275925915,
          77438.40885362019,
          84692.79167937941,
          94481.23347301038,
          98230.631556241,
          100656.06263463716,
          101572.19658293127,
          101783.14922559467,
          106421.5070851599,
          104912.05946961911,
          121215.46852685993,
          126239.41617201158,
          126194.71947194696,
          127815.85065221638,
          137412.38008849174,
          148703.40548623522,
          156879.22854590963,
          163837.11477918582,
          171082.2011289412,
          null,
          null,
          null,
          null
         ],
         "y": [
          5768.0160721365,
          6237.3530632452,
          6708.52560816992,
          7382.10326042145,
          7153.01202453881,
          7713.42072421103,
          8498.61416812063,
          9561.68222048448,
          10855.1122767574,
          12356.7364947,
          14079.544947471599,
          15827.345171430401,
          17934.843345103298,
          19836.4065002647,
          21049.9193673175,
          21888.061478996602,
          23515.9153209016,
          25127.39037491,
          27081.619804946098,
          29669.044703281503,
          32669.5398084426,
          36203.1221007069,
          38774.309407593006,
          42091.2963495683,
          45792.1258337604,
          45506.9090100421,
          46118.0072343257,
          51097.723540710096,
          56853.243727253,
          62628.7432111009,
          68779.54285209891,
          73379.864304359,
          78252.0595160596,
          87221.9168273286,
          96901.4980813798,
          103879.285314713,
          111640.501036364,
          120928.89753293499,
          118274.051330973,
          125044.067991979,
          136346.984801619,
          134889.41387525998,
          140169.80801635198,
          146527.60164921702,
          160916.01382534398,
          172757.877474653,
          188314.972645788,
          205304.99996321302,
          209140.601456434,
          209393.625490149,
          239809.387605427,
          255008.196791322,
          266385.665325181,
          279271.535506458,
          290269.25619507395,
          298944.012931308,
          308895.962132365,
          322859.23180541495,
          334151.135292159,
          338646.194792894,
          320389.705940647
         ]
        }
       ],
       "layout": {
        "legend": {
         "bgcolor": "#FFFFFF",
         "font": {
          "color": "#4D5663"
         }
        },
        "paper_bgcolor": "#FFFFFF",
        "plot_bgcolor": "#FFFFFF",
        "template": {
         "data": {
          "bar": [
           {
            "error_x": {
             "color": "#2a3f5f"
            },
            "error_y": {
             "color": "#2a3f5f"
            },
            "marker": {
             "line": {
              "color": "#E5ECF6",
              "width": 0.5
             },
             "pattern": {
              "fillmode": "overlay",
              "size": 10,
              "solidity": 0.2
             }
            },
            "type": "bar"
           }
          ],
          "barpolar": [
           {
            "marker": {
             "line": {
              "color": "#E5ECF6",
              "width": 0.5
             },
             "pattern": {
              "fillmode": "overlay",
              "size": 10,
              "solidity": 0.2
             }
            },
            "type": "barpolar"
           }
          ],
          "carpet": [
           {
            "aaxis": {
             "endlinecolor": "#2a3f5f",
             "gridcolor": "white",
             "linecolor": "white",
             "minorgridcolor": "white",
             "startlinecolor": "#2a3f5f"
            },
            "baxis": {
             "endlinecolor": "#2a3f5f",
             "gridcolor": "white",
             "linecolor": "white",
             "minorgridcolor": "white",
             "startlinecolor": "#2a3f5f"
            },
            "type": "carpet"
           }
          ],
          "choropleth": [
           {
            "colorbar": {
             "outlinewidth": 0,
             "ticks": ""
            },
            "type": "choropleth"
           }
          ],
          "contour": [
           {
            "colorbar": {
             "outlinewidth": 0,
             "ticks": ""
            },
            "colorscale": [
             [
              0.0,
              "#0d0887"
             ],
             [
              0.1111111111111111,
              "#46039f"
             ],
             [
              0.2222222222222222,
              "#7201a8"
             ],
             [
              0.3333333333333333,
              "#9c179e"
             ],
             [
              0.4444444444444444,
              "#bd3786"
             ],
             [
              0.5555555555555556,
              "#d8576b"
             ],
             [
              0.6666666666666666,
              "#ed7953"
             ],
             [
              0.7777777777777778,
              "#fb9f3a"
             ],
             [
              0.8888888888888888,
              "#fdca26"
             ],
             [
              1.0,
              "#f0f921"
             ]
            ],
            "type": "contour"
           }
          ],
          "contourcarpet": [
           {
            "colorbar": {
             "outlinewidth": 0,
             "ticks": ""
            },
            "type": "contourcarpet"
           }
          ],
          "heatmap": [
           {
            "colorbar": {
             "outlinewidth": 0,
             "ticks": ""
            },
            "colorscale": [
             [
              0.0,
              "#0d0887"
             ],
             [
              0.1111111111111111,
              "#46039f"
             ],
             [
              0.2222222222222222,
              "#7201a8"
             ],
             [
              0.3333333333333333,
              "#9c179e"
             ],
             [
              0.4444444444444444,
              "#bd3786"
             ],
             [
              0.5555555555555556,
              "#d8576b"
             ],
             [
              0.6666666666666666,
              "#ed7953"
             ],
             [
              0.7777777777777778,
              "#fb9f3a"
             ],
             [
              0.8888888888888888,
              "#fdca26"
             ],
             [
              1.0,
              "#f0f921"
             ]
            ],
            "type": "heatmap"
           }
          ],
          "heatmapgl": [
           {
            "colorbar": {
             "outlinewidth": 0,
             "ticks": ""
            },
            "colorscale": [
             [
              0.0,
              "#0d0887"
             ],
             [
              0.1111111111111111,
              "#46039f"
             ],
             [
              0.2222222222222222,
              "#7201a8"
             ],
             [
              0.3333333333333333,
              "#9c179e"
             ],
             [
              0.4444444444444444,
              "#bd3786"
             ],
             [
              0.5555555555555556,
              "#d8576b"
             ],
             [
              0.6666666666666666,
              "#ed7953"
             ],
             [
              0.7777777777777778,
              "#fb9f3a"
             ],
             [
              0.8888888888888888,
              "#fdca26"
             ],
             [
              1.0,
              "#f0f921"
             ]
            ],
            "type": "heatmapgl"
           }
          ],
          "histogram": [
           {
            "marker": {
             "pattern": {
              "fillmode": "overlay",
              "size": 10,
              "solidity": 0.2
             }
            },
            "type": "histogram"
           }
          ],
          "histogram2d": [
           {
            "colorbar": {
             "outlinewidth": 0,
             "ticks": ""
            },
            "colorscale": [
             [
              0.0,
              "#0d0887"
             ],
             [
              0.1111111111111111,
              "#46039f"
             ],
             [
              0.2222222222222222,
              "#7201a8"
             ],
             [
              0.3333333333333333,
              "#9c179e"
             ],
             [
              0.4444444444444444,
              "#bd3786"
             ],
             [
              0.5555555555555556,
              "#d8576b"
             ],
             [
              0.6666666666666666,
              "#ed7953"
             ],
             [
              0.7777777777777778,
              "#fb9f3a"
             ],
             [
              0.8888888888888888,
              "#fdca26"
             ],
             [
              1.0,
              "#f0f921"
             ]
            ],
            "type": "histogram2d"
           }
          ],
          "histogram2dcontour": [
           {
            "colorbar": {
             "outlinewidth": 0,
             "ticks": ""
            },
            "colorscale": [
             [
              0.0,
              "#0d0887"
             ],
             [
              0.1111111111111111,
              "#46039f"
             ],
             [
              0.2222222222222222,
              "#7201a8"
             ],
             [
              0.3333333333333333,
              "#9c179e"
             ],
             [
              0.4444444444444444,
              "#bd3786"
             ],
             [
              0.5555555555555556,
              "#d8576b"
             ],
             [
              0.6666666666666666,
              "#ed7953"
             ],
             [
              0.7777777777777778,
              "#fb9f3a"
             ],
             [
              0.8888888888888888,
              "#fdca26"
             ],
             [
              1.0,
              "#f0f921"
             ]
            ],
            "type": "histogram2dcontour"
           }
          ],
          "mesh3d": [
           {
            "colorbar": {
             "outlinewidth": 0,
             "ticks": ""
            },
            "type": "mesh3d"
           }
          ],
          "parcoords": [
           {
            "line": {
             "colorbar": {
              "outlinewidth": 0,
              "ticks": ""
             }
            },
            "type": "parcoords"
           }
          ],
          "pie": [
           {
            "automargin": true,
            "type": "pie"
           }
          ],
          "scatter": [
           {
            "marker": {
             "colorbar": {
              "outlinewidth": 0,
              "ticks": ""
             }
            },
            "type": "scatter"
           }
          ],
          "scatter3d": [
           {
            "line": {
             "colorbar": {
              "outlinewidth": 0,
              "ticks": ""
             }
            },
            "marker": {
             "colorbar": {
              "outlinewidth": 0,
              "ticks": ""
             }
            },
            "type": "scatter3d"
           }
          ],
          "scattercarpet": [
           {
            "marker": {
             "colorbar": {
              "outlinewidth": 0,
              "ticks": ""
             }
            },
            "type": "scattercarpet"
           }
          ],
          "scattergeo": [
           {
            "marker": {
             "colorbar": {
              "outlinewidth": 0,
              "ticks": ""
             }
            },
            "type": "scattergeo"
           }
          ],
          "scattergl": [
           {
            "marker": {
             "colorbar": {
              "outlinewidth": 0,
              "ticks": ""
             }
            },
            "type": "scattergl"
           }
          ],
          "scattermapbox": [
           {
            "marker": {
             "colorbar": {
              "outlinewidth": 0,
              "ticks": ""
             }
            },
            "type": "scattermapbox"
           }
          ],
          "scatterpolar": [
           {
            "marker": {
             "colorbar": {
              "outlinewidth": 0,
              "ticks": ""
             }
            },
            "type": "scatterpolar"
           }
          ],
          "scatterpolargl": [
           {
            "marker": {
             "colorbar": {
              "outlinewidth": 0,
              "ticks": ""
             }
            },
            "type": "scatterpolargl"
           }
          ],
          "scatterternary": [
           {
            "marker": {
             "colorbar": {
              "outlinewidth": 0,
              "ticks": ""
             }
            },
            "type": "scatterternary"
           }
          ],
          "surface": [
           {
            "colorbar": {
             "outlinewidth": 0,
             "ticks": ""
            },
            "colorscale": [
             [
              0.0,
              "#0d0887"
             ],
             [
              0.1111111111111111,
              "#46039f"
             ],
             [
              0.2222222222222222,
              "#7201a8"
             ],
             [
              0.3333333333333333,
              "#9c179e"
             ],
             [
              0.4444444444444444,
              "#bd3786"
             ],
             [
              0.5555555555555556,
              "#d8576b"
             ],
             [
              0.6666666666666666,
              "#ed7953"
             ],
             [
              0.7777777777777778,
              "#fb9f3a"
             ],
             [
              0.8888888888888888,
              "#fdca26"
             ],
             [
              1.0,
              "#f0f921"
             ]
            ],
            "type": "surface"
           }
          ],
          "table": [
           {
            "cells": {
             "fill": {
              "color": "#EBF0F8"
             },
             "line": {
              "color": "white"
             }
            },
            "header": {
             "fill": {
              "color": "#C8D4E3"
             },
             "line": {
              "color": "white"
             }
            },
            "type": "table"
           }
          ]
         },
         "layout": {
          "annotationdefaults": {
           "arrowcolor": "#2a3f5f",
           "arrowhead": 0,
           "arrowwidth": 1
          },
          "autotypenumbers": "strict",
          "coloraxis": {
           "colorbar": {
            "outlinewidth": 0,
            "ticks": ""
           }
          },
          "colorscale": {
           "diverging": [
            [
             0,
             "#8e0152"
            ],
            [
             0.1,
             "#c51b7d"
            ],
            [
             0.2,
             "#de77ae"
            ],
            [
             0.3,
             "#f1b6da"
            ],
            [
             0.4,
             "#fde0ef"
            ],
            [
             0.5,
             "#f7f7f7"
            ],
            [
             0.6,
             "#e6f5d0"
            ],
            [
             0.7,
             "#b8e186"
            ],
            [
             0.8,
             "#7fbc41"
            ],
            [
             0.9,
             "#4d9221"
            ],
            [
             1,
             "#276419"
            ]
           ],
           "sequential": [
            [
             0.0,
             "#0d0887"
            ],
            [
             0.1111111111111111,
             "#46039f"
            ],
            [
             0.2222222222222222,
             "#7201a8"
            ],
            [
             0.3333333333333333,
             "#9c179e"
            ],
            [
             0.4444444444444444,
             "#bd3786"
            ],
            [
             0.5555555555555556,
             "#d8576b"
            ],
            [
             0.6666666666666666,
             "#ed7953"
            ],
            [
             0.7777777777777778,
             "#fb9f3a"
            ],
            [
             0.8888888888888888,
             "#fdca26"
            ],
            [
             1.0,
             "#f0f921"
            ]
           ],
           "sequentialminus": [
            [
             0.0,
             "#0d0887"
            ],
            [
             0.1111111111111111,
             "#46039f"
            ],
            [
             0.2222222222222222,
             "#7201a8"
            ],
            [
             0.3333333333333333,
             "#9c179e"
            ],
            [
             0.4444444444444444,
             "#bd3786"
            ],
            [
             0.5555555555555556,
             "#d8576b"
            ],
            [
             0.6666666666666666,
             "#ed7953"
            ],
            [
             0.7777777777777778,
             "#fb9f3a"
            ],
            [
             0.8888888888888888,
             "#fdca26"
            ],
            [
             1.0,
             "#f0f921"
            ]
           ]
          },
          "colorway": [
           "#636efa",
           "#EF553B",
           "#00cc96",
           "#ab63fa",
           "#FFA15A",
           "#19d3f3",
           "#FF6692",
           "#B6E880",
           "#FF97FF",
           "#FECB52"
          ],
          "font": {
           "color": "#2a3f5f"
          },
          "geo": {
           "bgcolor": "white",
           "lakecolor": "white",
           "landcolor": "#E5ECF6",
           "showlakes": true,
           "showland": true,
           "subunitcolor": "white"
          },
          "hoverlabel": {
           "align": "left"
          },
          "hovermode": "closest",
          "mapbox": {
           "style": "light"
          },
          "paper_bgcolor": "white",
          "plot_bgcolor": "#E5ECF6",
          "polar": {
           "angularaxis": {
            "gridcolor": "white",
            "linecolor": "white",
            "ticks": ""
           },
           "bgcolor": "#E5ECF6",
           "radialaxis": {
            "gridcolor": "white",
            "linecolor": "white",
            "ticks": ""
           }
          },
          "scene": {
           "xaxis": {
            "backgroundcolor": "#E5ECF6",
            "gridcolor": "white",
            "gridwidth": 2,
            "linecolor": "white",
            "showbackground": true,
            "ticks": "",
            "zerolinecolor": "white"
           },
           "yaxis": {
            "backgroundcolor": "#E5ECF6",
            "gridcolor": "white",
            "gridwidth": 2,
            "linecolor": "white",
            "showbackground": true,
            "ticks": "",
            "zerolinecolor": "white"
           },
           "zaxis": {
            "backgroundcolor": "#E5ECF6",
            "gridcolor": "white",
            "gridwidth": 2,
            "linecolor": "white",
            "showbackground": true,
            "ticks": "",
            "zerolinecolor": "white"
           }
          },
          "shapedefaults": {
           "line": {
            "color": "#2a3f5f"
           }
          },
          "ternary": {
           "aaxis": {
            "gridcolor": "white",
            "linecolor": "white",
            "ticks": ""
           },
           "baxis": {
            "gridcolor": "white",
            "linecolor": "white",
            "ticks": ""
           },
           "bgcolor": "#E5ECF6",
           "caxis": {
            "gridcolor": "white",
            "linecolor": "white",
            "ticks": ""
           }
          },
          "title": {
           "x": 0.05
          },
          "xaxis": {
           "automargin": true,
           "gridcolor": "white",
           "linecolor": "white",
           "ticks": "",
           "title": {
            "standoff": 15
           },
           "zerolinecolor": "white",
           "zerolinewidth": 2
          },
          "yaxis": {
           "automargin": true,
           "gridcolor": "white",
           "linecolor": "white",
           "ticks": "",
           "title": {
            "standoff": 15
           },
           "zerolinecolor": "white",
           "zerolinewidth": 2
          }
         }
        },
        "title": {
         "font": {
          "color": "#4D5663"
         }
        },
        "xaxis": {
         "gridcolor": "#E1E5ED",
         "showgrid": true,
         "tickfont": {
          "color": "#4D5663"
         },
         "title": {
          "font": {
           "color": "#4D5663"
          },
          "text": "Потребление + Гос. расходы + Инвестиции, млн. $"
         },
         "zerolinecolor": "#E1E5ED"
        },
        "yaxis": {
         "gridcolor": "#E1E5ED",
         "showgrid": true,
         "tickfont": {
          "color": "#4D5663"
         },
         "title": {
          "font": {
           "color": "#4D5663"
          },
          "text": "ВВП, млн. $"
         },
         "zerolinecolor": "#E1E5ED"
        }
       }
      },
      "text/html": "<div>                            <div id=\"c525c2fe-fed4-444f-a7e9-23564fe4af1c\" class=\"plotly-graph-div\" style=\"height:525px; width:100%;\"></div>            <script type=\"text/javascript\">                require([\"plotly\"], function(Plotly) {                    window.PLOTLYENV=window.PLOTLYENV || {};\n                    window.PLOTLYENV.BASE_URL='https://plot.ly';                                    if (document.getElementById(\"c525c2fe-fed4-444f-a7e9-23564fe4af1c\")) {                    Plotly.newPlot(                        \"c525c2fe-fed4-444f-a7e9-23564fe4af1c\",                        [{\"line\":{\"color\":\"rgba(255, 153, 51, 1.0)\",\"dash\":\"solid\",\"shape\":\"linear\",\"width\":1.3},\"marker\":{\"size\":8,\"symbol\":\"circle\"},\"mode\":\"markers\",\"name\":\"Y\",\"text\":\"\",\"type\":\"scatter\",\"x\":[null,null,null,null,null,null,null,null,null,null,null,null,15545.42942544247,16645.103373174497,17317.599904370112,17929.3875756784,19268.7035983736,20571.50989597201,22018.24442461416,22597.456659633524,23988.177331633557,24861.38264645902,26349.84149990738,28591.26837600388,31996.880691042476,31128.682541854305,30189.528030866106,37960.40519129284,38369.082988435635,41219.96343699772,41892.46036524551,43948.01178836829,45672.69433007106,50844.84976320741,52361.88656377241,54235.46687365893,60202.72393446717,61047.906507291395,69975.45275925915,77438.40885362019,84692.79167937941,94481.23347301038,98230.631556241,100656.06263463716,101572.19658293127,101783.14922559467,106421.5070851599,104912.05946961911,121215.46852685993,126239.41617201158,126194.71947194696,127815.85065221638,137412.38008849174,148703.40548623522,156879.22854590963,163837.11477918582,171082.2011289412,null,null,null,null],\"y\":[5768.0160721365,6237.3530632452,6708.52560816992,7382.10326042145,7153.01202453881,7713.42072421103,8498.61416812063,9561.68222048448,10855.1122767574,12356.7364947,14079.544947471599,15827.345171430401,17934.843345103298,19836.4065002647,21049.9193673175,21888.061478996602,23515.9153209016,25127.39037491,27081.619804946098,29669.044703281503,32669.5398084426,36203.1221007069,38774.309407593006,42091.2963495683,45792.1258337604,45506.9090100421,46118.0072343257,51097.723540710096,56853.243727253,62628.7432111009,68779.54285209891,73379.864304359,78252.0595160596,87221.9168273286,96901.4980813798,103879.285314713,111640.501036364,120928.89753293499,118274.051330973,125044.067991979,136346.984801619,134889.41387525998,140169.80801635198,146527.60164921702,160916.01382534398,172757.877474653,188314.972645788,205304.99996321302,209140.601456434,209393.625490149,239809.387605427,255008.196791322,266385.665325181,279271.535506458,290269.25619507395,298944.012931308,308895.962132365,322859.23180541495,334151.135292159,338646.194792894,320389.705940647]}],                        {\"legend\":{\"bgcolor\":\"#FFFFFF\",\"font\":{\"color\":\"#4D5663\"}},\"paper_bgcolor\":\"#FFFFFF\",\"plot_bgcolor\":\"#FFFFFF\",\"template\":{\"data\":{\"bar\":[{\"error_x\":{\"color\":\"#2a3f5f\"},\"error_y\":{\"color\":\"#2a3f5f\"},\"marker\":{\"line\":{\"color\":\"#E5ECF6\",\"width\":0.5},\"pattern\":{\"fillmode\":\"overlay\",\"size\":10,\"solidity\":0.2}},\"type\":\"bar\"}],\"barpolar\":[{\"marker\":{\"line\":{\"color\":\"#E5ECF6\",\"width\":0.5},\"pattern\":{\"fillmode\":\"overlay\",\"size\":10,\"solidity\":0.2}},\"type\":\"barpolar\"}],\"carpet\":[{\"aaxis\":{\"endlinecolor\":\"#2a3f5f\",\"gridcolor\":\"white\",\"linecolor\":\"white\",\"minorgridcolor\":\"white\",\"startlinecolor\":\"#2a3f5f\"},\"baxis\":{\"endlinecolor\":\"#2a3f5f\",\"gridcolor\":\"white\",\"linecolor\":\"white\",\"minorgridcolor\":\"white\",\"startlinecolor\":\"#2a3f5f\"},\"type\":\"carpet\"}],\"choropleth\":[{\"colorbar\":{\"outlinewidth\":0,\"ticks\":\"\"},\"type\":\"choropleth\"}],\"contour\":[{\"colorbar\":{\"outlinewidth\":0,\"ticks\":\"\"},\"colorscale\":[[0.0,\"#0d0887\"],[0.1111111111111111,\"#46039f\"],[0.2222222222222222,\"#7201a8\"],[0.3333333333333333,\"#9c179e\"],[0.4444444444444444,\"#bd3786\"],[0.5555555555555556,\"#d8576b\"],[0.6666666666666666,\"#ed7953\"],[0.7777777777777778,\"#fb9f3a\"],[0.8888888888888888,\"#fdca26\"],[1.0,\"#f0f921\"]],\"type\":\"contour\"}],\"contourcarpet\":[{\"colorbar\":{\"outlinewidth\":0,\"ticks\":\"\"},\"type\":\"contourcarpet\"}],\"heatmap\":[{\"colorbar\":{\"outlinewidth\":0,\"ticks\":\"\"},\"colorscale\":[[0.0,\"#0d0887\"],[0.1111111111111111,\"#46039f\"],[0.2222222222222222,\"#7201a8\"],[0.3333333333333333,\"#9c179e\"],[0.4444444444444444,\"#bd3786\"],[0.5555555555555556,\"#d8576b\"],[0.6666666666666666,\"#ed7953\"],[0.7777777777777778,\"#fb9f3a\"],[0.8888888888888888,\"#fdca26\"],[1.0,\"#f0f921\"]],\"type\":\"heatmap\"}],\"heatmapgl\":[{\"colorbar\":{\"outlinewidth\":0,\"ticks\":\"\"},\"colorscale\":[[0.0,\"#0d0887\"],[0.1111111111111111,\"#46039f\"],[0.2222222222222222,\"#7201a8\"],[0.3333333333333333,\"#9c179e\"],[0.4444444444444444,\"#bd3786\"],[0.5555555555555556,\"#d8576b\"],[0.6666666666666666,\"#ed7953\"],[0.7777777777777778,\"#fb9f3a\"],[0.8888888888888888,\"#fdca26\"],[1.0,\"#f0f921\"]],\"type\":\"heatmapgl\"}],\"histogram\":[{\"marker\":{\"pattern\":{\"fillmode\":\"overlay\",\"size\":10,\"solidity\":0.2}},\"type\":\"histogram\"}],\"histogram2d\":[{\"colorbar\":{\"outlinewidth\":0,\"ticks\":\"\"},\"colorscale\":[[0.0,\"#0d0887\"],[0.1111111111111111,\"#46039f\"],[0.2222222222222222,\"#7201a8\"],[0.3333333333333333,\"#9c179e\"],[0.4444444444444444,\"#bd3786\"],[0.5555555555555556,\"#d8576b\"],[0.6666666666666666,\"#ed7953\"],[0.7777777777777778,\"#fb9f3a\"],[0.8888888888888888,\"#fdca26\"],[1.0,\"#f0f921\"]],\"type\":\"histogram2d\"}],\"histogram2dcontour\":[{\"colorbar\":{\"outlinewidth\":0,\"ticks\":\"\"},\"colorscale\":[[0.0,\"#0d0887\"],[0.1111111111111111,\"#46039f\"],[0.2222222222222222,\"#7201a8\"],[0.3333333333333333,\"#9c179e\"],[0.4444444444444444,\"#bd3786\"],[0.5555555555555556,\"#d8576b\"],[0.6666666666666666,\"#ed7953\"],[0.7777777777777778,\"#fb9f3a\"],[0.8888888888888888,\"#fdca26\"],[1.0,\"#f0f921\"]],\"type\":\"histogram2dcontour\"}],\"mesh3d\":[{\"colorbar\":{\"outlinewidth\":0,\"ticks\":\"\"},\"type\":\"mesh3d\"}],\"parcoords\":[{\"line\":{\"colorbar\":{\"outlinewidth\":0,\"ticks\":\"\"}},\"type\":\"parcoords\"}],\"pie\":[{\"automargin\":true,\"type\":\"pie\"}],\"scatter\":[{\"marker\":{\"colorbar\":{\"outlinewidth\":0,\"ticks\":\"\"}},\"type\":\"scatter\"}],\"scatter3d\":[{\"line\":{\"colorbar\":{\"outlinewidth\":0,\"ticks\":\"\"}},\"marker\":{\"colorbar\":{\"outlinewidth\":0,\"ticks\":\"\"}},\"type\":\"scatter3d\"}],\"scattercarpet\":[{\"marker\":{\"colorbar\":{\"outlinewidth\":0,\"ticks\":\"\"}},\"type\":\"scattercarpet\"}],\"scattergeo\":[{\"marker\":{\"colorbar\":{\"outlinewidth\":0,\"ticks\":\"\"}},\"type\":\"scattergeo\"}],\"scattergl\":[{\"marker\":{\"colorbar\":{\"outlinewidth\":0,\"ticks\":\"\"}},\"type\":\"scattergl\"}],\"scattermapbox\":[{\"marker\":{\"colorbar\":{\"outlinewidth\":0,\"ticks\":\"\"}},\"type\":\"scattermapbox\"}],\"scatterpolar\":[{\"marker\":{\"colorbar\":{\"outlinewidth\":0,\"ticks\":\"\"}},\"type\":\"scatterpolar\"}],\"scatterpolargl\":[{\"marker\":{\"colorbar\":{\"outlinewidth\":0,\"ticks\":\"\"}},\"type\":\"scatterpolargl\"}],\"scatterternary\":[{\"marker\":{\"colorbar\":{\"outlinewidth\":0,\"ticks\":\"\"}},\"type\":\"scatterternary\"}],\"surface\":[{\"colorbar\":{\"outlinewidth\":0,\"ticks\":\"\"},\"colorscale\":[[0.0,\"#0d0887\"],[0.1111111111111111,\"#46039f\"],[0.2222222222222222,\"#7201a8\"],[0.3333333333333333,\"#9c179e\"],[0.4444444444444444,\"#bd3786\"],[0.5555555555555556,\"#d8576b\"],[0.6666666666666666,\"#ed7953\"],[0.7777777777777778,\"#fb9f3a\"],[0.8888888888888888,\"#fdca26\"],[1.0,\"#f0f921\"]],\"type\":\"surface\"}],\"table\":[{\"cells\":{\"fill\":{\"color\":\"#EBF0F8\"},\"line\":{\"color\":\"white\"}},\"header\":{\"fill\":{\"color\":\"#C8D4E3\"},\"line\":{\"color\":\"white\"}},\"type\":\"table\"}]},\"layout\":{\"annotationdefaults\":{\"arrowcolor\":\"#2a3f5f\",\"arrowhead\":0,\"arrowwidth\":1},\"autotypenumbers\":\"strict\",\"coloraxis\":{\"colorbar\":{\"outlinewidth\":0,\"ticks\":\"\"}},\"colorscale\":{\"diverging\":[[0,\"#8e0152\"],[0.1,\"#c51b7d\"],[0.2,\"#de77ae\"],[0.3,\"#f1b6da\"],[0.4,\"#fde0ef\"],[0.5,\"#f7f7f7\"],[0.6,\"#e6f5d0\"],[0.7,\"#b8e186\"],[0.8,\"#7fbc41\"],[0.9,\"#4d9221\"],[1,\"#276419\"]],\"sequential\":[[0.0,\"#0d0887\"],[0.1111111111111111,\"#46039f\"],[0.2222222222222222,\"#7201a8\"],[0.3333333333333333,\"#9c179e\"],[0.4444444444444444,\"#bd3786\"],[0.5555555555555556,\"#d8576b\"],[0.6666666666666666,\"#ed7953\"],[0.7777777777777778,\"#fb9f3a\"],[0.8888888888888888,\"#fdca26\"],[1.0,\"#f0f921\"]],\"sequentialminus\":[[0.0,\"#0d0887\"],[0.1111111111111111,\"#46039f\"],[0.2222222222222222,\"#7201a8\"],[0.3333333333333333,\"#9c179e\"],[0.4444444444444444,\"#bd3786\"],[0.5555555555555556,\"#d8576b\"],[0.6666666666666666,\"#ed7953\"],[0.7777777777777778,\"#fb9f3a\"],[0.8888888888888888,\"#fdca26\"],[1.0,\"#f0f921\"]]},\"colorway\":[\"#636efa\",\"#EF553B\",\"#00cc96\",\"#ab63fa\",\"#FFA15A\",\"#19d3f3\",\"#FF6692\",\"#B6E880\",\"#FF97FF\",\"#FECB52\"],\"font\":{\"color\":\"#2a3f5f\"},\"geo\":{\"bgcolor\":\"white\",\"lakecolor\":\"white\",\"landcolor\":\"#E5ECF6\",\"showlakes\":true,\"showland\":true,\"subunitcolor\":\"white\"},\"hoverlabel\":{\"align\":\"left\"},\"hovermode\":\"closest\",\"mapbox\":{\"style\":\"light\"},\"paper_bgcolor\":\"white\",\"plot_bgcolor\":\"#E5ECF6\",\"polar\":{\"angularaxis\":{\"gridcolor\":\"white\",\"linecolor\":\"white\",\"ticks\":\"\"},\"bgcolor\":\"#E5ECF6\",\"radialaxis\":{\"gridcolor\":\"white\",\"linecolor\":\"white\",\"ticks\":\"\"}},\"scene\":{\"xaxis\":{\"backgroundcolor\":\"#E5ECF6\",\"gridcolor\":\"white\",\"gridwidth\":2,\"linecolor\":\"white\",\"showbackground\":true,\"ticks\":\"\",\"zerolinecolor\":\"white\"},\"yaxis\":{\"backgroundcolor\":\"#E5ECF6\",\"gridcolor\":\"white\",\"gridwidth\":2,\"linecolor\":\"white\",\"showbackground\":true,\"ticks\":\"\",\"zerolinecolor\":\"white\"},\"zaxis\":{\"backgroundcolor\":\"#E5ECF6\",\"gridcolor\":\"white\",\"gridwidth\":2,\"linecolor\":\"white\",\"showbackground\":true,\"ticks\":\"\",\"zerolinecolor\":\"white\"}},\"shapedefaults\":{\"line\":{\"color\":\"#2a3f5f\"}},\"ternary\":{\"aaxis\":{\"gridcolor\":\"white\",\"linecolor\":\"white\",\"ticks\":\"\"},\"baxis\":{\"gridcolor\":\"white\",\"linecolor\":\"white\",\"ticks\":\"\"},\"bgcolor\":\"#E5ECF6\",\"caxis\":{\"gridcolor\":\"white\",\"linecolor\":\"white\",\"ticks\":\"\"}},\"title\":{\"x\":0.05},\"xaxis\":{\"automargin\":true,\"gridcolor\":\"white\",\"linecolor\":\"white\",\"ticks\":\"\",\"title\":{\"standoff\":15},\"zerolinecolor\":\"white\",\"zerolinewidth\":2},\"yaxis\":{\"automargin\":true,\"gridcolor\":\"white\",\"linecolor\":\"white\",\"ticks\":\"\",\"title\":{\"standoff\":15},\"zerolinecolor\":\"white\",\"zerolinewidth\":2}}},\"title\":{\"font\":{\"color\":\"#4D5663\"}},\"xaxis\":{\"gridcolor\":\"#E1E5ED\",\"showgrid\":true,\"tickfont\":{\"color\":\"#4D5663\"},\"title\":{\"font\":{\"color\":\"#4D5663\"},\"text\":\"\\u041f\\u043e\\u0442\\u0440\\u0435\\u0431\\u043b\\u0435\\u043d\\u0438\\u0435 + \\u0413\\u043e\\u0441. \\u0440\\u0430\\u0441\\u0445\\u043e\\u0434\\u044b + \\u0418\\u043d\\u0432\\u0435\\u0441\\u0442\\u0438\\u0446\\u0438\\u0438, \\u043c\\u043b\\u043d. $\"},\"zerolinecolor\":\"#E1E5ED\"},\"yaxis\":{\"gridcolor\":\"#E1E5ED\",\"showgrid\":true,\"tickfont\":{\"color\":\"#4D5663\"},\"title\":{\"font\":{\"color\":\"#4D5663\"},\"text\":\"\\u0412\\u0412\\u041f, \\u043c\\u043b\\u043d. $\"},\"zerolinecolor\":\"#E1E5ED\"}},                        {\"showLink\": true, \"linkText\": \"Export to plot.ly\", \"plotlyServerURL\": \"https://plot.ly\", \"responsive\": true}                    ).then(function(){\n                            \nvar gd = document.getElementById('c525c2fe-fed4-444f-a7e9-23564fe4af1c');\nvar x = new MutationObserver(function (mutations, observer) {{\n        var display = window.getComputedStyle(gd).display;\n        if (!display || display === 'none') {{\n            console.log([gd, 'removed!']);\n            Plotly.purge(gd);\n            observer.disconnect();\n        }}\n}});\n\n// Listen for the removal of the full notebook cells\nvar notebookContainer = gd.closest('#notebook-container');\nif (notebookContainer) {{\n    x.observe(notebookContainer, {childList: true});\n}}\n\n// Listen for the clearing of the current output cell\nvar outputEl = gd.closest('.output');\nif (outputEl) {{\n    x.observe(outputEl, {childList: true});\n}}\n\n                        })                };                });            </script>        </div>"
     },
     "metadata": {},
     "output_type": "display_data"
    }
   ],
   "source": [
    "df.iplot(\n",
    "    x='C + G + I', y='Y',\n",
    "    xTitle=f'{data_router[\"C\"][\"ru\"][\"short\"][:-8]} + '\n",
    "           f'{data_router[\"G\"][\"ru\"][\"short\"][:-8]} + '\n",
    "           f'{data_router[\"I\"][\"ru\"][\"short\"][:-8]}, млн. $',\n",
    "    yTitle=f'{data_router[\"Y\"][\"ru\"][\"short\"]}',\n",
    "    **scatter_config,\n",
    ")"
   ],
   "metadata": {
    "collapsed": false,
    "pycharm": {
     "name": "#%%\n"
    }
   }
  },
  {
   "cell_type": "markdown",
   "source": [
    "# Описательная статистика"
   ],
   "metadata": {
    "collapsed": false,
    "pycharm": {
     "name": "#%% md\n"
    }
   }
  },
  {
   "cell_type": "code",
   "execution_count": 441,
   "outputs": [
    {
     "data": {
      "text/plain": "                        Y              C            I             G\n1960-01-01    5768.016072    5592.360813          NaN    436.828932\n1961-01-01    6237.353063    6196.316093          NaN    535.679734\n1962-01-01    6708.525608    6477.773334          NaN    586.067752\n1963-01-01    7382.103260    6869.376900          NaN    681.665573\n1964-01-01    7153.012025    6615.987338          NaN    694.810274\n...                   ...            ...          ...           ...\n2016-01-01  308895.962132  144473.392591 -3138.312297  29747.120836\n2017-01-01  322859.231805  146496.813523          NaN  30666.386827\n2018-01-01  334151.135292  148811.619317          NaN  31635.310574\n2019-01-01  338646.194793  155587.359202          NaN  32705.143133\n2020-01-01  320389.705941  145537.151934          NaN  36823.284820\n\n[61 rows x 4 columns]",
      "text/html": "<div>\n<style scoped>\n    .dataframe tbody tr th:only-of-type {\n        vertical-align: middle;\n    }\n\n    .dataframe tbody tr th {\n        vertical-align: top;\n    }\n\n    .dataframe thead th {\n        text-align: right;\n    }\n</style>\n<table border=\"1\" class=\"dataframe\">\n  <thead>\n    <tr style=\"text-align: right;\">\n      <th></th>\n      <th>Y</th>\n      <th>C</th>\n      <th>I</th>\n      <th>G</th>\n    </tr>\n  </thead>\n  <tbody>\n    <tr>\n      <th>1960-01-01</th>\n      <td>5768.016072</td>\n      <td>5592.360813</td>\n      <td>NaN</td>\n      <td>436.828932</td>\n    </tr>\n    <tr>\n      <th>1961-01-01</th>\n      <td>6237.353063</td>\n      <td>6196.316093</td>\n      <td>NaN</td>\n      <td>535.679734</td>\n    </tr>\n    <tr>\n      <th>1962-01-01</th>\n      <td>6708.525608</td>\n      <td>6477.773334</td>\n      <td>NaN</td>\n      <td>586.067752</td>\n    </tr>\n    <tr>\n      <th>1963-01-01</th>\n      <td>7382.103260</td>\n      <td>6869.376900</td>\n      <td>NaN</td>\n      <td>681.665573</td>\n    </tr>\n    <tr>\n      <th>1964-01-01</th>\n      <td>7153.012025</td>\n      <td>6615.987338</td>\n      <td>NaN</td>\n      <td>694.810274</td>\n    </tr>\n    <tr>\n      <th>...</th>\n      <td>...</td>\n      <td>...</td>\n      <td>...</td>\n      <td>...</td>\n    </tr>\n    <tr>\n      <th>2016-01-01</th>\n      <td>308895.962132</td>\n      <td>144473.392591</td>\n      <td>-3138.312297</td>\n      <td>29747.120836</td>\n    </tr>\n    <tr>\n      <th>2017-01-01</th>\n      <td>322859.231805</td>\n      <td>146496.813523</td>\n      <td>NaN</td>\n      <td>30666.386827</td>\n    </tr>\n    <tr>\n      <th>2018-01-01</th>\n      <td>334151.135292</td>\n      <td>148811.619317</td>\n      <td>NaN</td>\n      <td>31635.310574</td>\n    </tr>\n    <tr>\n      <th>2019-01-01</th>\n      <td>338646.194793</td>\n      <td>155587.359202</td>\n      <td>NaN</td>\n      <td>32705.143133</td>\n    </tr>\n    <tr>\n      <th>2020-01-01</th>\n      <td>320389.705941</td>\n      <td>145537.151934</td>\n      <td>NaN</td>\n      <td>36823.284820</td>\n    </tr>\n  </tbody>\n</table>\n<p>61 rows × 4 columns</p>\n</div>"
     },
     "execution_count": 441,
     "metadata": {},
     "output_type": "execute_result"
    }
   ],
   "source": [
    "df: pd.DataFrame = df[['Y', 'C', 'I', 'G']]\n",
    "df"
   ],
   "metadata": {
    "collapsed": false,
    "pycharm": {
     "name": "#%%\n"
    }
   }
  },
  {
   "cell_type": "markdown",
   "source": [
    "### Дисперсия"
   ],
   "metadata": {
    "collapsed": false,
    "pycharm": {
     "name": "#%% md\n"
    }
   }
  },
  {
   "cell_type": "code",
   "execution_count": 442,
   "outputs": [
    {
     "data": {
      "text/plain": "Y    1.108403e+10\nC    2.250774e+09\nI    1.357648e+07\nG    1.043170e+08\ndtype: float64"
     },
     "execution_count": 442,
     "metadata": {},
     "output_type": "execute_result"
    }
   ],
   "source": [
    "df.var()"
   ],
   "metadata": {
    "collapsed": false,
    "pycharm": {
     "name": "#%%\n"
    }
   }
  },
  {
   "cell_type": "markdown",
   "source": [
    "### Стандартное отклонение"
   ],
   "metadata": {
    "collapsed": false,
    "pycharm": {
     "name": "#%% md\n"
    }
   }
  },
  {
   "cell_type": "code",
   "execution_count": 443,
   "outputs": [
    {
     "data": {
      "text/plain": "Y    105280.731050\nC     47442.323900\nI      3684.627763\nG     10213.568642\ndtype: float64"
     },
     "execution_count": 443,
     "metadata": {},
     "output_type": "execute_result"
    }
   ],
   "source": [
    "df.std()"
   ],
   "metadata": {
    "collapsed": false,
    "pycharm": {
     "name": "#%%\n"
    }
   }
  },
  {
   "cell_type": "markdown",
   "source": [
    "### Среднее"
   ],
   "metadata": {
    "collapsed": false,
    "pycharm": {
     "name": "#%% md\n"
    }
   }
  },
  {
   "cell_type": "code",
   "execution_count": 444,
   "outputs": [
    {
     "data": {
      "text/plain": "Y    109814.320581\nC     55111.324553\nI     -1905.442287\nG     10764.772821\ndtype: float64"
     },
     "execution_count": 444,
     "metadata": {},
     "output_type": "execute_result"
    }
   ],
   "source": [
    "df.mean()"
   ],
   "metadata": {
    "collapsed": false,
    "pycharm": {
     "name": "#%%\n"
    }
   }
  },
  {
   "cell_type": "markdown",
   "source": [
    "### Медиана"
   ],
   "metadata": {
    "collapsed": false,
    "pycharm": {
     "name": "#%% md\n"
    }
   }
  },
  {
   "cell_type": "code",
   "execution_count": 445,
   "outputs": [
    {
     "data": {
      "text/plain": "Y    68779.542852\nC    37206.186686\nI      -13.357079\nG     6219.102965\ndtype: float64"
     },
     "execution_count": 445,
     "metadata": {},
     "output_type": "execute_result"
    }
   ],
   "source": [
    "df.median()"
   ],
   "metadata": {
    "collapsed": false,
    "pycharm": {
     "name": "#%%\n"
    }
   }
  },
  {
   "cell_type": "markdown",
   "source": [
    "### Мода"
   ],
   "metadata": {
    "collapsed": false,
    "pycharm": {
     "name": "#%% md\n"
    }
   }
  },
  {
   "cell_type": "code",
   "execution_count": 446,
   "outputs": [
    {
     "data": {
      "text/plain": "           Y           C        I          G\n0  22245.486  13017.1135  380.786  2237.9585",
      "text/html": "<div>\n<style scoped>\n    .dataframe tbody tr th:only-of-type {\n        vertical-align: middle;\n    }\n\n    .dataframe tbody tr th {\n        vertical-align: top;\n    }\n\n    .dataframe thead th {\n        text-align: right;\n    }\n</style>\n<table border=\"1\" class=\"dataframe\">\n  <thead>\n    <tr style=\"text-align: right;\">\n      <th></th>\n      <th>Y</th>\n      <th>C</th>\n      <th>I</th>\n      <th>G</th>\n    </tr>\n  </thead>\n  <tbody>\n    <tr>\n      <th>0</th>\n      <td>22245.486</td>\n      <td>13017.1135</td>\n      <td>380.786</td>\n      <td>2237.9585</td>\n    </tr>\n  </tbody>\n</table>\n</div>"
     },
     "execution_count": 446,
     "metadata": {},
     "output_type": "execute_result"
    }
   ],
   "source": [
    "from typing import Literal\n",
    "from operator import add, sub\n",
    "\n",
    "# И кто говорил, что у Яндекса плохие собеседования?\n",
    "\n",
    "\n",
    "def interval_mode(s: pd.Series, bins) -> float | pd.Series | None:  # почему ты вообще работаешь?\n",
    "    \"\"\"\n",
    "    Формула\n",
    "    -------\n",
    "    x + h * (mc - mc_prev) / ((mc - mc_prev) + (mc - mc_next))\n",
    "    x - левая граница модального интервала\n",
    "    h - длина модального интервала\n",
    "    mc - частота модального интервала\n",
    "    mc_prev - частота предыдущего модального интервала\n",
    "    mc_next - частота следующего модального интервала\n",
    "\n",
    "    Особенные случаи\n",
    "    ----------------\n",
    "    – если модальный интервал крайний, то m-1 = 0 либо m+1 = 0;\n",
    "    – если обнаружатся несколько модальных интервалов, которые находятся рядом,\n",
    "      то рассматриваем модальный интервал (левая граница левого, правая граница правого)\n",
    "    – если между модальными интервалами есть расстояние,\n",
    "      то применяем формулу к каждому интервалу,\n",
    "      получая тем самым 2 или большее количество мод.\n",
    "    \"\"\"\n",
    "\n",
    "    def _interval_mode(_interval: pd.Interval, _freq, _prev_freq=0, _next_freq=0) -> float | None:\n",
    "        _denominator = (_freq - _prev_freq) + (_freq - _next_freq)\n",
    "        if _denominator != 0:\n",
    "            return _interval.left + _interval.length * (_freq - _prev_freq) / _denominator\n",
    "\n",
    "    intervals = pd.cut(s, bins)\n",
    "    intervals_freq = intervals.value_counts(sort=False)\n",
    "    max_freq = intervals_freq.max()\n",
    "    max_freq_intervals = intervals_freq[intervals_freq == max_freq]\n",
    "\n",
    "    if len(max_freq_intervals) == 0:\n",
    "        return None\n",
    "\n",
    "    elif len(max_freq_intervals) == 1:\n",
    "        return pd.Series(_interval_mode(max_freq_intervals.index[0], max_freq))\n",
    "\n",
    "    else:\n",
    "\n",
    "        def _expand_intervals(_intervals: pd.Series) -> list[dict]:\n",
    "            _expanded = []\n",
    "            _i = 0\n",
    "            _prev: pd.Interval = _intervals.index[_i]\n",
    "            while _i < len(_intervals) - 1:\n",
    "                _current: pd.Interval = _intervals.index[_i]\n",
    "                _next: pd.Interval = _intervals.index[_i + 1]\n",
    "\n",
    "                left = _current.left\n",
    "                right = _current.right\n",
    "                freq = _intervals.iloc[_i]\n",
    "                n_expanded = 0\n",
    "\n",
    "                if left == _prev.right:\n",
    "                    left = _prev.left  # расширяем левую границу\n",
    "                    freq += _intervals[_prev]\n",
    "                    n_expanded += 1\n",
    "\n",
    "                if right == _next.left:\n",
    "                    right = _next.right  # чуть-чуть расширяем правую границу\n",
    "                    freq += _intervals[_next]\n",
    "                    n_expanded += 1\n",
    "\n",
    "                    _offset = 1\n",
    "                    for _next_next in _intervals.index[_i + 2:]:\n",
    "                        if _next_next.left == right:\n",
    "                            right = _next_next.right  # если возможно расширяем ещё\n",
    "                            freq += _intervals[_next_next]\n",
    "                            n_expanded += 1\n",
    "                            _offset += 1\n",
    "                        else:\n",
    "                            break\n",
    "\n",
    "                    _i += _offset\n",
    "\n",
    "                _expanded.append({\n",
    "                    'freq': freq,\n",
    "                    'interval': pd.Interval(left, right),\n",
    "                    'n': n_expanded,\n",
    "                })\n",
    "                _prev = _current\n",
    "                _i += 1\n",
    "\n",
    "            if _i < len(_intervals):\n",
    "                _expanded.append({\n",
    "                    'freq': _intervals.iloc[-1],\n",
    "                    'interval': _intervals.index[-1],\n",
    "                    'n': 0,\n",
    "                })\n",
    "\n",
    "            return _expanded\n",
    "\n",
    "        def _calc_prev_next_freq(_targets: list[dict], _intervals: pd.Series) -> list[tuple[int, int]]:\n",
    "\n",
    "            def _expand(mode: Literal['left', 'right'], _intervals: pd.Series, _i: int, _n: int) -> int:\n",
    "                freq = _intervals.iloc[_i]\n",
    "                _op = sub if mode == 'left' else add\n",
    "                _j = 0\n",
    "                while _j < _n and _op(_i, _j) > 0:  # возможно while лишний, но сегодня его день\n",
    "                    _j += 1\n",
    "                    freq += _intervals.iloc[_op(_i, _j)]\n",
    "\n",
    "                return freq\n",
    "\n",
    "            _prev_next_freq = [\n",
    "                {\n",
    "                    'left_freq': _expand('left', _intervals, 0, _targets[0]['n']),\n",
    "                    'right_freq': _expand('right', _intervals, 0, _targets[0]['n'])\n",
    "                },\n",
    "            ]\n",
    "            _i = 0\n",
    "            for _target in _targets[1:]:\n",
    "                left_freq, right_freq = None, 0\n",
    "                while not (left_freq and right_freq) and _i < len(_intervals):\n",
    "\n",
    "                    if left_freq is None:\n",
    "                        if _intervals.index[_i].right > _target['interval'].left:\n",
    "                            if _i == 0:\n",
    "                                left_freq = 0\n",
    "                            else:\n",
    "                                left_freq = _expand('left', _intervals, _i - 1, _target['n'])\n",
    "                    else:\n",
    "                        if _target['interval'].right <= _intervals.index[_i].left:\n",
    "                            right_freq = _expand('right', _intervals, _i, _target['n'])\n",
    "\n",
    "                    _i += 1\n",
    "\n",
    "                _prev_next_freq.append({\n",
    "                    'left_freq': left_freq,\n",
    "                    'right_freq': right_freq\n",
    "                })\n",
    "\n",
    "            return _prev_next_freq\n",
    "\n",
    "        expanded_intervals = _expand_intervals(max_freq_intervals)\n",
    "        prev_next_freq = _calc_prev_next_freq(expanded_intervals, intervals_freq)\n",
    "\n",
    "        return pd.Series([\n",
    "            _interval_mode(\n",
    "                expanded_intervals[i]['interval'],\n",
    "                expanded_intervals[i]['freq'],\n",
    "                prev_next_freq[i]['left_freq'],\n",
    "                prev_next_freq[i]['right_freq'],\n",
    "            )\n",
    "            for i in range(len(expanded_intervals))\n",
    "        ]).dropna().reset_index(drop=True)\n",
    "\n",
    "\n",
    "df.agg(lambda x: interval_mode(x, 10))"
   ],
   "metadata": {
    "collapsed": false,
    "pycharm": {
     "name": "#%%\n"
    }
   }
  },
  {
   "cell_type": "markdown",
   "source": [
    "### Эксцесс"
   ],
   "metadata": {
    "collapsed": false,
    "pycharm": {
     "name": "#%% md\n"
    }
   }
  },
  {
   "cell_type": "code",
   "execution_count": 447,
   "outputs": [
    {
     "data": {
      "text/plain": "Y   -0.519363\nC   -0.740015\nI    0.230176\nG   -0.351445\ndtype: float64"
     },
     "execution_count": 447,
     "metadata": {},
     "output_type": "execute_result"
    }
   ],
   "source": [
    "df.kurtosis()"
   ],
   "metadata": {
    "collapsed": false,
    "pycharm": {
     "name": "#%%\n"
    }
   }
  },
  {
   "cell_type": "markdown",
   "source": [
    "### Асимметрия"
   ],
   "metadata": {
    "collapsed": false,
    "pycharm": {
     "name": "#%% md\n"
    }
   }
  },
  {
   "cell_type": "code",
   "execution_count": 448,
   "outputs": [
    {
     "data": {
      "text/plain": "Y    0.889595\nC    0.780991\nI   -1.059061\nG    0.913836\ndtype: float64"
     },
     "execution_count": 448,
     "metadata": {},
     "output_type": "execute_result"
    }
   ],
   "source": [
    "df.skew()"
   ],
   "metadata": {
    "collapsed": false,
    "pycharm": {
     "name": "#%%\n"
    }
   }
  },
  {
   "cell_type": "markdown",
   "source": [
    "### Корреляция"
   ],
   "metadata": {
    "collapsed": false,
    "pycharm": {
     "name": "#%% md\n"
    }
   }
  },
  {
   "cell_type": "code",
   "execution_count": 449,
   "outputs": [
    {
     "data": {
      "text/plain": "          Y         C         I         G\nY  1.000000  0.997251 -0.664374  0.993676\nC  0.997251  1.000000 -0.624497  0.994460\nI -0.664374 -0.624497  1.000000 -0.602825\nG  0.993676  0.994460 -0.602825  1.000000",
      "text/html": "<div>\n<style scoped>\n    .dataframe tbody tr th:only-of-type {\n        vertical-align: middle;\n    }\n\n    .dataframe tbody tr th {\n        vertical-align: top;\n    }\n\n    .dataframe thead th {\n        text-align: right;\n    }\n</style>\n<table border=\"1\" class=\"dataframe\">\n  <thead>\n    <tr style=\"text-align: right;\">\n      <th></th>\n      <th>Y</th>\n      <th>C</th>\n      <th>I</th>\n      <th>G</th>\n    </tr>\n  </thead>\n  <tbody>\n    <tr>\n      <th>Y</th>\n      <td>1.000000</td>\n      <td>0.997251</td>\n      <td>-0.664374</td>\n      <td>0.993676</td>\n    </tr>\n    <tr>\n      <th>C</th>\n      <td>0.997251</td>\n      <td>1.000000</td>\n      <td>-0.624497</td>\n      <td>0.994460</td>\n    </tr>\n    <tr>\n      <th>I</th>\n      <td>-0.664374</td>\n      <td>-0.624497</td>\n      <td>1.000000</td>\n      <td>-0.602825</td>\n    </tr>\n    <tr>\n      <th>G</th>\n      <td>0.993676</td>\n      <td>0.994460</td>\n      <td>-0.602825</td>\n      <td>1.000000</td>\n    </tr>\n  </tbody>\n</table>\n</div>"
     },
     "execution_count": 449,
     "metadata": {},
     "output_type": "execute_result"
    }
   ],
   "source": [
    "df.corr()"
   ],
   "metadata": {
    "collapsed": false,
    "pycharm": {
     "name": "#%%\n"
    }
   }
  },
  {
   "cell_type": "markdown",
   "source": [
    "# Графики распределения"
   ],
   "metadata": {
    "collapsed": false,
    "pycharm": {
     "name": "#%% md\n"
    }
   }
  },
  {
   "cell_type": "code",
   "execution_count": 450,
   "outputs": [
    {
     "data": {
      "application/vnd.plotly.v1+json": {
       "config": {
        "linkText": "Export to plot.ly",
        "plotlyServerURL": "https://plot.ly",
        "showLink": true
       },
       "data": [
        {
         "histfunc": "count",
         "histnorm": "",
         "marker": {
          "color": "rgba(255, 153, 51, 1.0)",
          "line": {
           "color": "#4D5663",
           "width": 1.3
          }
         },
         "name": "ВВП, млн. $",
         "opacity": 0.8,
         "orientation": "v",
         "type": "histogram",
         "x": [
          5768.0160721365,
          6237.3530632452,
          6708.52560816992,
          7382.10326042145,
          7153.01202453881,
          7713.42072421103,
          8498.61416812063,
          9561.68222048448,
          10855.1122767574,
          12356.7364947,
          14079.544947471599,
          15827.345171430401,
          17934.843345103298,
          19836.4065002647,
          21049.9193673175,
          21888.061478996602,
          23515.9153209016,
          25127.39037491,
          27081.619804946098,
          29669.044703281503,
          32669.5398084426,
          36203.1221007069,
          38774.309407593006,
          42091.2963495683,
          45792.1258337604,
          45506.9090100421,
          46118.0072343257,
          51097.723540710096,
          56853.243727253,
          62628.7432111009,
          68779.54285209891,
          73379.864304359,
          78252.0595160596,
          87221.9168273286,
          96901.4980813798,
          103879.285314713,
          111640.501036364,
          120928.89753293499,
          118274.051330973,
          125044.067991979,
          136346.984801619,
          134889.41387525998,
          140169.80801635198,
          146527.60164921702,
          160916.01382534398,
          172757.877474653,
          188314.972645788,
          205304.99996321302,
          209140.601456434,
          209393.625490149,
          239809.387605427,
          255008.196791322,
          266385.665325181,
          279271.535506458,
          290269.25619507395,
          298944.012931308,
          308895.962132365,
          322859.23180541495,
          334151.135292159,
          338646.194792894,
          320389.705940647
         ],
         "xaxis": "x",
         "yaxis": "y"
        },
        {
         "histfunc": "count",
         "histnorm": "",
         "marker": {
          "color": "rgba(55, 128, 191, 1.0)",
          "line": {
           "color": "#4D5663",
           "width": 1.3
          }
         },
         "name": "Потребление, млн. $",
         "opacity": 0.8,
         "orientation": "v",
         "type": "histogram",
         "x": [
          5592.360813056414,
          6196.316092606512,
          6477.773333662827,
          6869.376900112365,
          6615.987338347547,
          6880.962796474083,
          7401.218333159515,
          8210.144405367051,
          9074.529635631332,
          9786.07423335992,
          11119.854235893657,
          12399.407918685074,
          13190.555261738955,
          14357.142074400863,
          14878.84826953875,
          15443.306264260475,
          16132.807550722375,
          17083.12828371279,
          18088.626933641655,
          18929.432079551432,
          19650.01543971948,
          20748.687726621876,
          21894.0455071961,
          22910.326445985265,
          24795.655277145695,
          26460.576843985276,
          27326.244710875922,
          29965.35772955545,
          32019.03252410973,
          34796.42491865579,
          37206.18668586829,
          38517.35636648465,
          40812.51800612965,
          45909.50204094694,
          49554.45193313509,
          51025.44405287252,
          55123.07911658631,
          58698.887057711116,
          57890.47935864027,
          64130.65033911872,
          71390.43776842028,
          78040.13299755832,
          81330.46668111297,
          83446.65600091543,
          84186.58604011402,
          85938.44159906569,
          90415.72790591742,
          94239.28752909912,
          104704.43882070063,
          102671.7575088894,
          110382.83828382817,
          116927.51270564942,
          122974.05199365722,
          131474.55383110663,
          137051.82911417627,
          141546.96756592413,
          144473.39259052844,
          146496.8135230113,
          148811.6193174522,
          155587.3592021913,
          145537.15193369778
         ],
         "xaxis": "x2",
         "yaxis": "y2"
        },
        {
         "histfunc": "count",
         "histnorm": "",
         "marker": {
          "color": "rgba(50, 171, 96, 1.0)",
          "line": {
           "color": "#4D5663",
           "width": 1.3
          }
         },
         "name": "Инвестиции, млн. $",
         "opacity": 0.8,
         "orientation": "v",
         "type": "histogram",
         "x": [
          null,
          null,
          null,
          null,
          null,
          null,
          null,
          null,
          null,
          null,
          null,
          null,
          174.9782964905348,
          -13.35707852378439,
          129.59954720592313,
          113.19734315767391,
          648.8921806292743,
          782.100243428148,
          920.0785901208142,
          663.7966692833031,
          1020.3864058671797,
          614.2793846159739,
          492.93437736395856,
          1336.0209677407759,
          2620.430105894498,
          -837.4657530945419,
          -2693.1408607299068,
          2370.3770588375373,
          1062.9598666635302,
          813.1414012092334,
          -1532.829285193522,
          -1299.5639479031006,
          -2042.9157720672342,
          -3038.240806285928,
          -5130.238327676342,
          -5558.554531303516,
          -5120.045191338742,
          -8513.415730865618,
          381.67572004748234,
          831.047907476478,
          -1460.3395895855638,
          931.4826113425553,
          673.3641917500336,
          834.6284899948283,
          844.9967346884339,
          -1360.311037217621,
          -2457.6121901632137,
          -8240.128349488103,
          -3598.9013543968044,
          2481.036531837693,
          -7429.409607627416,
          -12310.531316131724,
          -8960.101619101886,
          -8914.231330771127,
          -6478.797336166049,
          -6357.864231088532,
          -3138.3122973851387,
          null,
          null,
          null,
          null
         ],
         "xaxis": "x3",
         "yaxis": "y3"
        },
        {
         "histfunc": "count",
         "histnorm": "",
         "marker": {
          "color": "rgba(128, 0, 128, 1.0)",
          "line": {
           "color": "#4D5663",
           "width": 1.3
          }
         },
         "name": "Гос. расходы, млн. $",
         "opacity": 0.8,
         "orientation": "v",
         "type": "histogram",
         "x": [
          436.82893185105996,
          535.6797342106689,
          586.067752337562,
          681.66557328977,
          694.810273670698,
          759.803514443068,
          863.766144728593,
          938.717491850151,
          1097.3169323048899,
          1351.44780633618,
          1643.0211602404102,
          1922.91033602826,
          2179.8958672129797,
          2301.31837729742,
          2309.1520876254403,
          2372.88396826025,
          2487.0038670219496,
          2706.28136883107,
          3009.53890085169,
          3004.22791079879,
          3317.7754860469,
          3498.41553522117,
          3962.86161534732,
          4344.92096227784,
          4580.79530800228,
          5505.57145096357,
          5556.42418072009,
          5624.67040289986,
          5287.09059766238,
          5610.39711713269,
          6219.1029645707395,
          6730.219369786741,
          6903.09209600865,
          7973.588528546389,
          7937.672958313659,
          8768.57735208993,
          10199.690009219601,
          10862.4351804459,
          11703.297680571399,
          12476.710607025,
          14762.693500544701,
          15509.617864109501,
          16226.800683378,
          16374.7781437269,
          16540.6138081288,
          17205.0186637466,
          18463.3913694057,
          18912.9002900081,
          20109.9310605561,
          21086.6221312845,
          23241.2907957462,
          23198.8692626987,
          23398.429713936403,
          26143.0829858997,
          26306.1967678994,
          28648.0114443502,
          29747.1208357979,
          30666.3868265793,
          31635.3105743554,
          32705.143133136502,
          36823.2848201555
         ],
         "xaxis": "x4",
         "yaxis": "y4"
        }
       ],
       "layout": {
        "barmode": "overlay",
        "legend": {
         "bgcolor": "#FFFFFF",
         "font": {
          "color": "#4D5663"
         }
        },
        "paper_bgcolor": "#FFFFFF",
        "plot_bgcolor": "#FFFFFF",
        "template": {
         "data": {
          "bar": [
           {
            "error_x": {
             "color": "#2a3f5f"
            },
            "error_y": {
             "color": "#2a3f5f"
            },
            "marker": {
             "line": {
              "color": "#E5ECF6",
              "width": 0.5
             },
             "pattern": {
              "fillmode": "overlay",
              "size": 10,
              "solidity": 0.2
             }
            },
            "type": "bar"
           }
          ],
          "barpolar": [
           {
            "marker": {
             "line": {
              "color": "#E5ECF6",
              "width": 0.5
             },
             "pattern": {
              "fillmode": "overlay",
              "size": 10,
              "solidity": 0.2
             }
            },
            "type": "barpolar"
           }
          ],
          "carpet": [
           {
            "aaxis": {
             "endlinecolor": "#2a3f5f",
             "gridcolor": "white",
             "linecolor": "white",
             "minorgridcolor": "white",
             "startlinecolor": "#2a3f5f"
            },
            "baxis": {
             "endlinecolor": "#2a3f5f",
             "gridcolor": "white",
             "linecolor": "white",
             "minorgridcolor": "white",
             "startlinecolor": "#2a3f5f"
            },
            "type": "carpet"
           }
          ],
          "choropleth": [
           {
            "colorbar": {
             "outlinewidth": 0,
             "ticks": ""
            },
            "type": "choropleth"
           }
          ],
          "contour": [
           {
            "colorbar": {
             "outlinewidth": 0,
             "ticks": ""
            },
            "colorscale": [
             [
              0.0,
              "#0d0887"
             ],
             [
              0.1111111111111111,
              "#46039f"
             ],
             [
              0.2222222222222222,
              "#7201a8"
             ],
             [
              0.3333333333333333,
              "#9c179e"
             ],
             [
              0.4444444444444444,
              "#bd3786"
             ],
             [
              0.5555555555555556,
              "#d8576b"
             ],
             [
              0.6666666666666666,
              "#ed7953"
             ],
             [
              0.7777777777777778,
              "#fb9f3a"
             ],
             [
              0.8888888888888888,
              "#fdca26"
             ],
             [
              1.0,
              "#f0f921"
             ]
            ],
            "type": "contour"
           }
          ],
          "contourcarpet": [
           {
            "colorbar": {
             "outlinewidth": 0,
             "ticks": ""
            },
            "type": "contourcarpet"
           }
          ],
          "heatmap": [
           {
            "colorbar": {
             "outlinewidth": 0,
             "ticks": ""
            },
            "colorscale": [
             [
              0.0,
              "#0d0887"
             ],
             [
              0.1111111111111111,
              "#46039f"
             ],
             [
              0.2222222222222222,
              "#7201a8"
             ],
             [
              0.3333333333333333,
              "#9c179e"
             ],
             [
              0.4444444444444444,
              "#bd3786"
             ],
             [
              0.5555555555555556,
              "#d8576b"
             ],
             [
              0.6666666666666666,
              "#ed7953"
             ],
             [
              0.7777777777777778,
              "#fb9f3a"
             ],
             [
              0.8888888888888888,
              "#fdca26"
             ],
             [
              1.0,
              "#f0f921"
             ]
            ],
            "type": "heatmap"
           }
          ],
          "heatmapgl": [
           {
            "colorbar": {
             "outlinewidth": 0,
             "ticks": ""
            },
            "colorscale": [
             [
              0.0,
              "#0d0887"
             ],
             [
              0.1111111111111111,
              "#46039f"
             ],
             [
              0.2222222222222222,
              "#7201a8"
             ],
             [
              0.3333333333333333,
              "#9c179e"
             ],
             [
              0.4444444444444444,
              "#bd3786"
             ],
             [
              0.5555555555555556,
              "#d8576b"
             ],
             [
              0.6666666666666666,
              "#ed7953"
             ],
             [
              0.7777777777777778,
              "#fb9f3a"
             ],
             [
              0.8888888888888888,
              "#fdca26"
             ],
             [
              1.0,
              "#f0f921"
             ]
            ],
            "type": "heatmapgl"
           }
          ],
          "histogram": [
           {
            "marker": {
             "pattern": {
              "fillmode": "overlay",
              "size": 10,
              "solidity": 0.2
             }
            },
            "type": "histogram"
           }
          ],
          "histogram2d": [
           {
            "colorbar": {
             "outlinewidth": 0,
             "ticks": ""
            },
            "colorscale": [
             [
              0.0,
              "#0d0887"
             ],
             [
              0.1111111111111111,
              "#46039f"
             ],
             [
              0.2222222222222222,
              "#7201a8"
             ],
             [
              0.3333333333333333,
              "#9c179e"
             ],
             [
              0.4444444444444444,
              "#bd3786"
             ],
             [
              0.5555555555555556,
              "#d8576b"
             ],
             [
              0.6666666666666666,
              "#ed7953"
             ],
             [
              0.7777777777777778,
              "#fb9f3a"
             ],
             [
              0.8888888888888888,
              "#fdca26"
             ],
             [
              1.0,
              "#f0f921"
             ]
            ],
            "type": "histogram2d"
           }
          ],
          "histogram2dcontour": [
           {
            "colorbar": {
             "outlinewidth": 0,
             "ticks": ""
            },
            "colorscale": [
             [
              0.0,
              "#0d0887"
             ],
             [
              0.1111111111111111,
              "#46039f"
             ],
             [
              0.2222222222222222,
              "#7201a8"
             ],
             [
              0.3333333333333333,
              "#9c179e"
             ],
             [
              0.4444444444444444,
              "#bd3786"
             ],
             [
              0.5555555555555556,
              "#d8576b"
             ],
             [
              0.6666666666666666,
              "#ed7953"
             ],
             [
              0.7777777777777778,
              "#fb9f3a"
             ],
             [
              0.8888888888888888,
              "#fdca26"
             ],
             [
              1.0,
              "#f0f921"
             ]
            ],
            "type": "histogram2dcontour"
           }
          ],
          "mesh3d": [
           {
            "colorbar": {
             "outlinewidth": 0,
             "ticks": ""
            },
            "type": "mesh3d"
           }
          ],
          "parcoords": [
           {
            "line": {
             "colorbar": {
              "outlinewidth": 0,
              "ticks": ""
             }
            },
            "type": "parcoords"
           }
          ],
          "pie": [
           {
            "automargin": true,
            "type": "pie"
           }
          ],
          "scatter": [
           {
            "marker": {
             "colorbar": {
              "outlinewidth": 0,
              "ticks": ""
             }
            },
            "type": "scatter"
           }
          ],
          "scatter3d": [
           {
            "line": {
             "colorbar": {
              "outlinewidth": 0,
              "ticks": ""
             }
            },
            "marker": {
             "colorbar": {
              "outlinewidth": 0,
              "ticks": ""
             }
            },
            "type": "scatter3d"
           }
          ],
          "scattercarpet": [
           {
            "marker": {
             "colorbar": {
              "outlinewidth": 0,
              "ticks": ""
             }
            },
            "type": "scattercarpet"
           }
          ],
          "scattergeo": [
           {
            "marker": {
             "colorbar": {
              "outlinewidth": 0,
              "ticks": ""
             }
            },
            "type": "scattergeo"
           }
          ],
          "scattergl": [
           {
            "marker": {
             "colorbar": {
              "outlinewidth": 0,
              "ticks": ""
             }
            },
            "type": "scattergl"
           }
          ],
          "scattermapbox": [
           {
            "marker": {
             "colorbar": {
              "outlinewidth": 0,
              "ticks": ""
             }
            },
            "type": "scattermapbox"
           }
          ],
          "scatterpolar": [
           {
            "marker": {
             "colorbar": {
              "outlinewidth": 0,
              "ticks": ""
             }
            },
            "type": "scatterpolar"
           }
          ],
          "scatterpolargl": [
           {
            "marker": {
             "colorbar": {
              "outlinewidth": 0,
              "ticks": ""
             }
            },
            "type": "scatterpolargl"
           }
          ],
          "scatterternary": [
           {
            "marker": {
             "colorbar": {
              "outlinewidth": 0,
              "ticks": ""
             }
            },
            "type": "scatterternary"
           }
          ],
          "surface": [
           {
            "colorbar": {
             "outlinewidth": 0,
             "ticks": ""
            },
            "colorscale": [
             [
              0.0,
              "#0d0887"
             ],
             [
              0.1111111111111111,
              "#46039f"
             ],
             [
              0.2222222222222222,
              "#7201a8"
             ],
             [
              0.3333333333333333,
              "#9c179e"
             ],
             [
              0.4444444444444444,
              "#bd3786"
             ],
             [
              0.5555555555555556,
              "#d8576b"
             ],
             [
              0.6666666666666666,
              "#ed7953"
             ],
             [
              0.7777777777777778,
              "#fb9f3a"
             ],
             [
              0.8888888888888888,
              "#fdca26"
             ],
             [
              1.0,
              "#f0f921"
             ]
            ],
            "type": "surface"
           }
          ],
          "table": [
           {
            "cells": {
             "fill": {
              "color": "#EBF0F8"
             },
             "line": {
              "color": "white"
             }
            },
            "header": {
             "fill": {
              "color": "#C8D4E3"
             },
             "line": {
              "color": "white"
             }
            },
            "type": "table"
           }
          ]
         },
         "layout": {
          "annotationdefaults": {
           "arrowcolor": "#2a3f5f",
           "arrowhead": 0,
           "arrowwidth": 1
          },
          "autotypenumbers": "strict",
          "coloraxis": {
           "colorbar": {
            "outlinewidth": 0,
            "ticks": ""
           }
          },
          "colorscale": {
           "diverging": [
            [
             0,
             "#8e0152"
            ],
            [
             0.1,
             "#c51b7d"
            ],
            [
             0.2,
             "#de77ae"
            ],
            [
             0.3,
             "#f1b6da"
            ],
            [
             0.4,
             "#fde0ef"
            ],
            [
             0.5,
             "#f7f7f7"
            ],
            [
             0.6,
             "#e6f5d0"
            ],
            [
             0.7,
             "#b8e186"
            ],
            [
             0.8,
             "#7fbc41"
            ],
            [
             0.9,
             "#4d9221"
            ],
            [
             1,
             "#276419"
            ]
           ],
           "sequential": [
            [
             0.0,
             "#0d0887"
            ],
            [
             0.1111111111111111,
             "#46039f"
            ],
            [
             0.2222222222222222,
             "#7201a8"
            ],
            [
             0.3333333333333333,
             "#9c179e"
            ],
            [
             0.4444444444444444,
             "#bd3786"
            ],
            [
             0.5555555555555556,
             "#d8576b"
            ],
            [
             0.6666666666666666,
             "#ed7953"
            ],
            [
             0.7777777777777778,
             "#fb9f3a"
            ],
            [
             0.8888888888888888,
             "#fdca26"
            ],
            [
             1.0,
             "#f0f921"
            ]
           ],
           "sequentialminus": [
            [
             0.0,
             "#0d0887"
            ],
            [
             0.1111111111111111,
             "#46039f"
            ],
            [
             0.2222222222222222,
             "#7201a8"
            ],
            [
             0.3333333333333333,
             "#9c179e"
            ],
            [
             0.4444444444444444,
             "#bd3786"
            ],
            [
             0.5555555555555556,
             "#d8576b"
            ],
            [
             0.6666666666666666,
             "#ed7953"
            ],
            [
             0.7777777777777778,
             "#fb9f3a"
            ],
            [
             0.8888888888888888,
             "#fdca26"
            ],
            [
             1.0,
             "#f0f921"
            ]
           ]
          },
          "colorway": [
           "#636efa",
           "#EF553B",
           "#00cc96",
           "#ab63fa",
           "#FFA15A",
           "#19d3f3",
           "#FF6692",
           "#B6E880",
           "#FF97FF",
           "#FECB52"
          ],
          "font": {
           "color": "#2a3f5f"
          },
          "geo": {
           "bgcolor": "white",
           "lakecolor": "white",
           "landcolor": "#E5ECF6",
           "showlakes": true,
           "showland": true,
           "subunitcolor": "white"
          },
          "hoverlabel": {
           "align": "left"
          },
          "hovermode": "closest",
          "mapbox": {
           "style": "light"
          },
          "paper_bgcolor": "white",
          "plot_bgcolor": "#E5ECF6",
          "polar": {
           "angularaxis": {
            "gridcolor": "white",
            "linecolor": "white",
            "ticks": ""
           },
           "bgcolor": "#E5ECF6",
           "radialaxis": {
            "gridcolor": "white",
            "linecolor": "white",
            "ticks": ""
           }
          },
          "scene": {
           "xaxis": {
            "backgroundcolor": "#E5ECF6",
            "gridcolor": "white",
            "gridwidth": 2,
            "linecolor": "white",
            "showbackground": true,
            "ticks": "",
            "zerolinecolor": "white"
           },
           "yaxis": {
            "backgroundcolor": "#E5ECF6",
            "gridcolor": "white",
            "gridwidth": 2,
            "linecolor": "white",
            "showbackground": true,
            "ticks": "",
            "zerolinecolor": "white"
           },
           "zaxis": {
            "backgroundcolor": "#E5ECF6",
            "gridcolor": "white",
            "gridwidth": 2,
            "linecolor": "white",
            "showbackground": true,
            "ticks": "",
            "zerolinecolor": "white"
           }
          },
          "shapedefaults": {
           "line": {
            "color": "#2a3f5f"
           }
          },
          "ternary": {
           "aaxis": {
            "gridcolor": "white",
            "linecolor": "white",
            "ticks": ""
           },
           "baxis": {
            "gridcolor": "white",
            "linecolor": "white",
            "ticks": ""
           },
           "bgcolor": "#E5ECF6",
           "caxis": {
            "gridcolor": "white",
            "linecolor": "white",
            "ticks": ""
           }
          },
          "title": {
           "x": 0.05
          },
          "xaxis": {
           "automargin": true,
           "gridcolor": "white",
           "linecolor": "white",
           "ticks": "",
           "title": {
            "standoff": 15
           },
           "zerolinecolor": "white",
           "zerolinewidth": 2
          },
          "yaxis": {
           "automargin": true,
           "gridcolor": "white",
           "linecolor": "white",
           "ticks": "",
           "title": {
            "standoff": 15
           },
           "zerolinecolor": "white",
           "zerolinewidth": 2
          }
         }
        },
        "title": {
         "font": {
          "color": "#4D5663"
         }
        },
        "xaxis": {
         "anchor": "y",
         "domain": [
          0.0,
          0.45
         ],
         "gridcolor": "#E1E5ED",
         "showgrid": true,
         "tickfont": {
          "color": "#4D5663"
         },
         "title": {
          "font": {
           "color": "#4D5663"
          },
          "text": ""
         },
         "zerolinecolor": "#E1E5ED"
        },
        "xaxis2": {
         "anchor": "y2",
         "domain": [
          0.55,
          1.0
         ],
         "gridcolor": "#E1E5ED",
         "showgrid": true,
         "tickfont": {
          "color": "#4D5663"
         },
         "title": {
          "font": {
           "color": "#4D5663"
          },
          "text": ""
         },
         "zerolinecolor": "#E1E5ED"
        },
        "xaxis3": {
         "anchor": "y3",
         "domain": [
          0.0,
          0.45
         ],
         "gridcolor": "#E1E5ED",
         "showgrid": true,
         "tickfont": {
          "color": "#4D5663"
         },
         "title": {
          "font": {
           "color": "#4D5663"
          },
          "text": ""
         },
         "zerolinecolor": "#E1E5ED"
        },
        "xaxis4": {
         "anchor": "y4",
         "domain": [
          0.55,
          1.0
         ],
         "gridcolor": "#E1E5ED",
         "showgrid": true,
         "tickfont": {
          "color": "#4D5663"
         },
         "title": {
          "font": {
           "color": "#4D5663"
          },
          "text": ""
         },
         "zerolinecolor": "#E1E5ED"
        },
        "yaxis": {
         "anchor": "x",
         "domain": [
          0.575,
          1.0
         ],
         "gridcolor": "#E1E5ED",
         "showgrid": true,
         "tickfont": {
          "color": "#4D5663"
         },
         "title": {
          "font": {
           "color": "#4D5663"
          },
          "text": ""
         },
         "zerolinecolor": "#E1E5ED"
        },
        "yaxis2": {
         "anchor": "x2",
         "domain": [
          0.575,
          1.0
         ],
         "gridcolor": "#E1E5ED",
         "showgrid": true,
         "tickfont": {
          "color": "#4D5663"
         },
         "title": {
          "font": {
           "color": "#4D5663"
          },
          "text": ""
         },
         "zerolinecolor": "#E1E5ED"
        },
        "yaxis3": {
         "anchor": "x3",
         "domain": [
          0.0,
          0.425
         ],
         "gridcolor": "#E1E5ED",
         "showgrid": true,
         "tickfont": {
          "color": "#4D5663"
         },
         "title": {
          "font": {
           "color": "#4D5663"
          },
          "text": ""
         },
         "zerolinecolor": "#E1E5ED"
        },
        "yaxis4": {
         "anchor": "x4",
         "domain": [
          0.0,
          0.425
         ],
         "gridcolor": "#E1E5ED",
         "showgrid": true,
         "tickfont": {
          "color": "#4D5663"
         },
         "title": {
          "font": {
           "color": "#4D5663"
          },
          "text": ""
         },
         "zerolinecolor": "#E1E5ED"
        }
       }
      },
      "text/html": "<div>                            <div id=\"073b6e76-1b8d-4b6e-8a2a-d078a97e3732\" class=\"plotly-graph-div\" style=\"height:525px; width:100%;\"></div>            <script type=\"text/javascript\">                require([\"plotly\"], function(Plotly) {                    window.PLOTLYENV=window.PLOTLYENV || {};\n                    window.PLOTLYENV.BASE_URL='https://plot.ly';                                    if (document.getElementById(\"073b6e76-1b8d-4b6e-8a2a-d078a97e3732\")) {                    Plotly.newPlot(                        \"073b6e76-1b8d-4b6e-8a2a-d078a97e3732\",                        [{\"histfunc\":\"count\",\"histnorm\":\"\",\"marker\":{\"color\":\"rgba(255, 153, 51, 1.0)\",\"line\":{\"color\":\"#4D5663\",\"width\":1.3}},\"name\":\"\\u0412\\u0412\\u041f, \\u043c\\u043b\\u043d. $\",\"opacity\":0.8,\"orientation\":\"v\",\"type\":\"histogram\",\"x\":[5768.0160721365,6237.3530632452,6708.52560816992,7382.10326042145,7153.01202453881,7713.42072421103,8498.61416812063,9561.68222048448,10855.1122767574,12356.7364947,14079.544947471599,15827.345171430401,17934.843345103298,19836.4065002647,21049.9193673175,21888.061478996602,23515.9153209016,25127.39037491,27081.619804946098,29669.044703281503,32669.5398084426,36203.1221007069,38774.309407593006,42091.2963495683,45792.1258337604,45506.9090100421,46118.0072343257,51097.723540710096,56853.243727253,62628.7432111009,68779.54285209891,73379.864304359,78252.0595160596,87221.9168273286,96901.4980813798,103879.285314713,111640.501036364,120928.89753293499,118274.051330973,125044.067991979,136346.984801619,134889.41387525998,140169.80801635198,146527.60164921702,160916.01382534398,172757.877474653,188314.972645788,205304.99996321302,209140.601456434,209393.625490149,239809.387605427,255008.196791322,266385.665325181,279271.535506458,290269.25619507395,298944.012931308,308895.962132365,322859.23180541495,334151.135292159,338646.194792894,320389.705940647],\"xaxis\":\"x\",\"yaxis\":\"y\"},{\"histfunc\":\"count\",\"histnorm\":\"\",\"marker\":{\"color\":\"rgba(55, 128, 191, 1.0)\",\"line\":{\"color\":\"#4D5663\",\"width\":1.3}},\"name\":\"\\u041f\\u043e\\u0442\\u0440\\u0435\\u0431\\u043b\\u0435\\u043d\\u0438\\u0435, \\u043c\\u043b\\u043d. $\",\"opacity\":0.8,\"orientation\":\"v\",\"type\":\"histogram\",\"x\":[5592.360813056414,6196.316092606512,6477.773333662827,6869.376900112365,6615.987338347547,6880.962796474083,7401.218333159515,8210.144405367051,9074.529635631332,9786.07423335992,11119.854235893657,12399.407918685074,13190.555261738955,14357.142074400863,14878.84826953875,15443.306264260475,16132.807550722375,17083.12828371279,18088.626933641655,18929.432079551432,19650.01543971948,20748.687726621876,21894.0455071961,22910.326445985265,24795.655277145695,26460.576843985276,27326.244710875922,29965.35772955545,32019.03252410973,34796.42491865579,37206.18668586829,38517.35636648465,40812.51800612965,45909.50204094694,49554.45193313509,51025.44405287252,55123.07911658631,58698.887057711116,57890.47935864027,64130.65033911872,71390.43776842028,78040.13299755832,81330.46668111297,83446.65600091543,84186.58604011402,85938.44159906569,90415.72790591742,94239.28752909912,104704.43882070063,102671.7575088894,110382.83828382817,116927.51270564942,122974.05199365722,131474.55383110663,137051.82911417627,141546.96756592413,144473.39259052844,146496.8135230113,148811.6193174522,155587.3592021913,145537.15193369778],\"xaxis\":\"x2\",\"yaxis\":\"y2\"},{\"histfunc\":\"count\",\"histnorm\":\"\",\"marker\":{\"color\":\"rgba(50, 171, 96, 1.0)\",\"line\":{\"color\":\"#4D5663\",\"width\":1.3}},\"name\":\"\\u0418\\u043d\\u0432\\u0435\\u0441\\u0442\\u0438\\u0446\\u0438\\u0438, \\u043c\\u043b\\u043d. $\",\"opacity\":0.8,\"orientation\":\"v\",\"type\":\"histogram\",\"x\":[null,null,null,null,null,null,null,null,null,null,null,null,174.9782964905348,-13.35707852378439,129.59954720592313,113.19734315767391,648.8921806292743,782.100243428148,920.0785901208142,663.7966692833031,1020.3864058671797,614.2793846159739,492.93437736395856,1336.0209677407759,2620.430105894498,-837.4657530945419,-2693.1408607299068,2370.3770588375373,1062.9598666635302,813.1414012092334,-1532.829285193522,-1299.5639479031006,-2042.9157720672342,-3038.240806285928,-5130.238327676342,-5558.554531303516,-5120.045191338742,-8513.415730865618,381.67572004748234,831.047907476478,-1460.3395895855638,931.4826113425553,673.3641917500336,834.6284899948283,844.9967346884339,-1360.311037217621,-2457.6121901632137,-8240.128349488103,-3598.9013543968044,2481.036531837693,-7429.409607627416,-12310.531316131724,-8960.101619101886,-8914.231330771127,-6478.797336166049,-6357.864231088532,-3138.3122973851387,null,null,null,null],\"xaxis\":\"x3\",\"yaxis\":\"y3\"},{\"histfunc\":\"count\",\"histnorm\":\"\",\"marker\":{\"color\":\"rgba(128, 0, 128, 1.0)\",\"line\":{\"color\":\"#4D5663\",\"width\":1.3}},\"name\":\"\\u0413\\u043e\\u0441. \\u0440\\u0430\\u0441\\u0445\\u043e\\u0434\\u044b, \\u043c\\u043b\\u043d. $\",\"opacity\":0.8,\"orientation\":\"v\",\"type\":\"histogram\",\"x\":[436.82893185105996,535.6797342106689,586.067752337562,681.66557328977,694.810273670698,759.803514443068,863.766144728593,938.717491850151,1097.3169323048899,1351.44780633618,1643.0211602404102,1922.91033602826,2179.8958672129797,2301.31837729742,2309.1520876254403,2372.88396826025,2487.0038670219496,2706.28136883107,3009.53890085169,3004.22791079879,3317.7754860469,3498.41553522117,3962.86161534732,4344.92096227784,4580.79530800228,5505.57145096357,5556.42418072009,5624.67040289986,5287.09059766238,5610.39711713269,6219.1029645707395,6730.219369786741,6903.09209600865,7973.588528546389,7937.672958313659,8768.57735208993,10199.690009219601,10862.4351804459,11703.297680571399,12476.710607025,14762.693500544701,15509.617864109501,16226.800683378,16374.7781437269,16540.6138081288,17205.0186637466,18463.3913694057,18912.9002900081,20109.9310605561,21086.6221312845,23241.2907957462,23198.8692626987,23398.429713936403,26143.0829858997,26306.1967678994,28648.0114443502,29747.1208357979,30666.3868265793,31635.3105743554,32705.143133136502,36823.2848201555],\"xaxis\":\"x4\",\"yaxis\":\"y4\"}],                        {\"barmode\":\"overlay\",\"legend\":{\"bgcolor\":\"#FFFFFF\",\"font\":{\"color\":\"#4D5663\"}},\"paper_bgcolor\":\"#FFFFFF\",\"plot_bgcolor\":\"#FFFFFF\",\"template\":{\"data\":{\"bar\":[{\"error_x\":{\"color\":\"#2a3f5f\"},\"error_y\":{\"color\":\"#2a3f5f\"},\"marker\":{\"line\":{\"color\":\"#E5ECF6\",\"width\":0.5},\"pattern\":{\"fillmode\":\"overlay\",\"size\":10,\"solidity\":0.2}},\"type\":\"bar\"}],\"barpolar\":[{\"marker\":{\"line\":{\"color\":\"#E5ECF6\",\"width\":0.5},\"pattern\":{\"fillmode\":\"overlay\",\"size\":10,\"solidity\":0.2}},\"type\":\"barpolar\"}],\"carpet\":[{\"aaxis\":{\"endlinecolor\":\"#2a3f5f\",\"gridcolor\":\"white\",\"linecolor\":\"white\",\"minorgridcolor\":\"white\",\"startlinecolor\":\"#2a3f5f\"},\"baxis\":{\"endlinecolor\":\"#2a3f5f\",\"gridcolor\":\"white\",\"linecolor\":\"white\",\"minorgridcolor\":\"white\",\"startlinecolor\":\"#2a3f5f\"},\"type\":\"carpet\"}],\"choropleth\":[{\"colorbar\":{\"outlinewidth\":0,\"ticks\":\"\"},\"type\":\"choropleth\"}],\"contour\":[{\"colorbar\":{\"outlinewidth\":0,\"ticks\":\"\"},\"colorscale\":[[0.0,\"#0d0887\"],[0.1111111111111111,\"#46039f\"],[0.2222222222222222,\"#7201a8\"],[0.3333333333333333,\"#9c179e\"],[0.4444444444444444,\"#bd3786\"],[0.5555555555555556,\"#d8576b\"],[0.6666666666666666,\"#ed7953\"],[0.7777777777777778,\"#fb9f3a\"],[0.8888888888888888,\"#fdca26\"],[1.0,\"#f0f921\"]],\"type\":\"contour\"}],\"contourcarpet\":[{\"colorbar\":{\"outlinewidth\":0,\"ticks\":\"\"},\"type\":\"contourcarpet\"}],\"heatmap\":[{\"colorbar\":{\"outlinewidth\":0,\"ticks\":\"\"},\"colorscale\":[[0.0,\"#0d0887\"],[0.1111111111111111,\"#46039f\"],[0.2222222222222222,\"#7201a8\"],[0.3333333333333333,\"#9c179e\"],[0.4444444444444444,\"#bd3786\"],[0.5555555555555556,\"#d8576b\"],[0.6666666666666666,\"#ed7953\"],[0.7777777777777778,\"#fb9f3a\"],[0.8888888888888888,\"#fdca26\"],[1.0,\"#f0f921\"]],\"type\":\"heatmap\"}],\"heatmapgl\":[{\"colorbar\":{\"outlinewidth\":0,\"ticks\":\"\"},\"colorscale\":[[0.0,\"#0d0887\"],[0.1111111111111111,\"#46039f\"],[0.2222222222222222,\"#7201a8\"],[0.3333333333333333,\"#9c179e\"],[0.4444444444444444,\"#bd3786\"],[0.5555555555555556,\"#d8576b\"],[0.6666666666666666,\"#ed7953\"],[0.7777777777777778,\"#fb9f3a\"],[0.8888888888888888,\"#fdca26\"],[1.0,\"#f0f921\"]],\"type\":\"heatmapgl\"}],\"histogram\":[{\"marker\":{\"pattern\":{\"fillmode\":\"overlay\",\"size\":10,\"solidity\":0.2}},\"type\":\"histogram\"}],\"histogram2d\":[{\"colorbar\":{\"outlinewidth\":0,\"ticks\":\"\"},\"colorscale\":[[0.0,\"#0d0887\"],[0.1111111111111111,\"#46039f\"],[0.2222222222222222,\"#7201a8\"],[0.3333333333333333,\"#9c179e\"],[0.4444444444444444,\"#bd3786\"],[0.5555555555555556,\"#d8576b\"],[0.6666666666666666,\"#ed7953\"],[0.7777777777777778,\"#fb9f3a\"],[0.8888888888888888,\"#fdca26\"],[1.0,\"#f0f921\"]],\"type\":\"histogram2d\"}],\"histogram2dcontour\":[{\"colorbar\":{\"outlinewidth\":0,\"ticks\":\"\"},\"colorscale\":[[0.0,\"#0d0887\"],[0.1111111111111111,\"#46039f\"],[0.2222222222222222,\"#7201a8\"],[0.3333333333333333,\"#9c179e\"],[0.4444444444444444,\"#bd3786\"],[0.5555555555555556,\"#d8576b\"],[0.6666666666666666,\"#ed7953\"],[0.7777777777777778,\"#fb9f3a\"],[0.8888888888888888,\"#fdca26\"],[1.0,\"#f0f921\"]],\"type\":\"histogram2dcontour\"}],\"mesh3d\":[{\"colorbar\":{\"outlinewidth\":0,\"ticks\":\"\"},\"type\":\"mesh3d\"}],\"parcoords\":[{\"line\":{\"colorbar\":{\"outlinewidth\":0,\"ticks\":\"\"}},\"type\":\"parcoords\"}],\"pie\":[{\"automargin\":true,\"type\":\"pie\"}],\"scatter\":[{\"marker\":{\"colorbar\":{\"outlinewidth\":0,\"ticks\":\"\"}},\"type\":\"scatter\"}],\"scatter3d\":[{\"line\":{\"colorbar\":{\"outlinewidth\":0,\"ticks\":\"\"}},\"marker\":{\"colorbar\":{\"outlinewidth\":0,\"ticks\":\"\"}},\"type\":\"scatter3d\"}],\"scattercarpet\":[{\"marker\":{\"colorbar\":{\"outlinewidth\":0,\"ticks\":\"\"}},\"type\":\"scattercarpet\"}],\"scattergeo\":[{\"marker\":{\"colorbar\":{\"outlinewidth\":0,\"ticks\":\"\"}},\"type\":\"scattergeo\"}],\"scattergl\":[{\"marker\":{\"colorbar\":{\"outlinewidth\":0,\"ticks\":\"\"}},\"type\":\"scattergl\"}],\"scattermapbox\":[{\"marker\":{\"colorbar\":{\"outlinewidth\":0,\"ticks\":\"\"}},\"type\":\"scattermapbox\"}],\"scatterpolar\":[{\"marker\":{\"colorbar\":{\"outlinewidth\":0,\"ticks\":\"\"}},\"type\":\"scatterpolar\"}],\"scatterpolargl\":[{\"marker\":{\"colorbar\":{\"outlinewidth\":0,\"ticks\":\"\"}},\"type\":\"scatterpolargl\"}],\"scatterternary\":[{\"marker\":{\"colorbar\":{\"outlinewidth\":0,\"ticks\":\"\"}},\"type\":\"scatterternary\"}],\"surface\":[{\"colorbar\":{\"outlinewidth\":0,\"ticks\":\"\"},\"colorscale\":[[0.0,\"#0d0887\"],[0.1111111111111111,\"#46039f\"],[0.2222222222222222,\"#7201a8\"],[0.3333333333333333,\"#9c179e\"],[0.4444444444444444,\"#bd3786\"],[0.5555555555555556,\"#d8576b\"],[0.6666666666666666,\"#ed7953\"],[0.7777777777777778,\"#fb9f3a\"],[0.8888888888888888,\"#fdca26\"],[1.0,\"#f0f921\"]],\"type\":\"surface\"}],\"table\":[{\"cells\":{\"fill\":{\"color\":\"#EBF0F8\"},\"line\":{\"color\":\"white\"}},\"header\":{\"fill\":{\"color\":\"#C8D4E3\"},\"line\":{\"color\":\"white\"}},\"type\":\"table\"}]},\"layout\":{\"annotationdefaults\":{\"arrowcolor\":\"#2a3f5f\",\"arrowhead\":0,\"arrowwidth\":1},\"autotypenumbers\":\"strict\",\"coloraxis\":{\"colorbar\":{\"outlinewidth\":0,\"ticks\":\"\"}},\"colorscale\":{\"diverging\":[[0,\"#8e0152\"],[0.1,\"#c51b7d\"],[0.2,\"#de77ae\"],[0.3,\"#f1b6da\"],[0.4,\"#fde0ef\"],[0.5,\"#f7f7f7\"],[0.6,\"#e6f5d0\"],[0.7,\"#b8e186\"],[0.8,\"#7fbc41\"],[0.9,\"#4d9221\"],[1,\"#276419\"]],\"sequential\":[[0.0,\"#0d0887\"],[0.1111111111111111,\"#46039f\"],[0.2222222222222222,\"#7201a8\"],[0.3333333333333333,\"#9c179e\"],[0.4444444444444444,\"#bd3786\"],[0.5555555555555556,\"#d8576b\"],[0.6666666666666666,\"#ed7953\"],[0.7777777777777778,\"#fb9f3a\"],[0.8888888888888888,\"#fdca26\"],[1.0,\"#f0f921\"]],\"sequentialminus\":[[0.0,\"#0d0887\"],[0.1111111111111111,\"#46039f\"],[0.2222222222222222,\"#7201a8\"],[0.3333333333333333,\"#9c179e\"],[0.4444444444444444,\"#bd3786\"],[0.5555555555555556,\"#d8576b\"],[0.6666666666666666,\"#ed7953\"],[0.7777777777777778,\"#fb9f3a\"],[0.8888888888888888,\"#fdca26\"],[1.0,\"#f0f921\"]]},\"colorway\":[\"#636efa\",\"#EF553B\",\"#00cc96\",\"#ab63fa\",\"#FFA15A\",\"#19d3f3\",\"#FF6692\",\"#B6E880\",\"#FF97FF\",\"#FECB52\"],\"font\":{\"color\":\"#2a3f5f\"},\"geo\":{\"bgcolor\":\"white\",\"lakecolor\":\"white\",\"landcolor\":\"#E5ECF6\",\"showlakes\":true,\"showland\":true,\"subunitcolor\":\"white\"},\"hoverlabel\":{\"align\":\"left\"},\"hovermode\":\"closest\",\"mapbox\":{\"style\":\"light\"},\"paper_bgcolor\":\"white\",\"plot_bgcolor\":\"#E5ECF6\",\"polar\":{\"angularaxis\":{\"gridcolor\":\"white\",\"linecolor\":\"white\",\"ticks\":\"\"},\"bgcolor\":\"#E5ECF6\",\"radialaxis\":{\"gridcolor\":\"white\",\"linecolor\":\"white\",\"ticks\":\"\"}},\"scene\":{\"xaxis\":{\"backgroundcolor\":\"#E5ECF6\",\"gridcolor\":\"white\",\"gridwidth\":2,\"linecolor\":\"white\",\"showbackground\":true,\"ticks\":\"\",\"zerolinecolor\":\"white\"},\"yaxis\":{\"backgroundcolor\":\"#E5ECF6\",\"gridcolor\":\"white\",\"gridwidth\":2,\"linecolor\":\"white\",\"showbackground\":true,\"ticks\":\"\",\"zerolinecolor\":\"white\"},\"zaxis\":{\"backgroundcolor\":\"#E5ECF6\",\"gridcolor\":\"white\",\"gridwidth\":2,\"linecolor\":\"white\",\"showbackground\":true,\"ticks\":\"\",\"zerolinecolor\":\"white\"}},\"shapedefaults\":{\"line\":{\"color\":\"#2a3f5f\"}},\"ternary\":{\"aaxis\":{\"gridcolor\":\"white\",\"linecolor\":\"white\",\"ticks\":\"\"},\"baxis\":{\"gridcolor\":\"white\",\"linecolor\":\"white\",\"ticks\":\"\"},\"bgcolor\":\"#E5ECF6\",\"caxis\":{\"gridcolor\":\"white\",\"linecolor\":\"white\",\"ticks\":\"\"}},\"title\":{\"x\":0.05},\"xaxis\":{\"automargin\":true,\"gridcolor\":\"white\",\"linecolor\":\"white\",\"ticks\":\"\",\"title\":{\"standoff\":15},\"zerolinecolor\":\"white\",\"zerolinewidth\":2},\"yaxis\":{\"automargin\":true,\"gridcolor\":\"white\",\"linecolor\":\"white\",\"ticks\":\"\",\"title\":{\"standoff\":15},\"zerolinecolor\":\"white\",\"zerolinewidth\":2}}},\"title\":{\"font\":{\"color\":\"#4D5663\"}},\"xaxis\":{\"anchor\":\"y\",\"domain\":[0.0,0.45],\"gridcolor\":\"#E1E5ED\",\"showgrid\":true,\"tickfont\":{\"color\":\"#4D5663\"},\"title\":{\"font\":{\"color\":\"#4D5663\"},\"text\":\"\"},\"zerolinecolor\":\"#E1E5ED\"},\"xaxis2\":{\"anchor\":\"y2\",\"domain\":[0.55,1.0],\"gridcolor\":\"#E1E5ED\",\"showgrid\":true,\"tickfont\":{\"color\":\"#4D5663\"},\"title\":{\"font\":{\"color\":\"#4D5663\"},\"text\":\"\"},\"zerolinecolor\":\"#E1E5ED\"},\"xaxis3\":{\"anchor\":\"y3\",\"domain\":[0.0,0.45],\"gridcolor\":\"#E1E5ED\",\"showgrid\":true,\"tickfont\":{\"color\":\"#4D5663\"},\"title\":{\"font\":{\"color\":\"#4D5663\"},\"text\":\"\"},\"zerolinecolor\":\"#E1E5ED\"},\"xaxis4\":{\"anchor\":\"y4\",\"domain\":[0.55,1.0],\"gridcolor\":\"#E1E5ED\",\"showgrid\":true,\"tickfont\":{\"color\":\"#4D5663\"},\"title\":{\"font\":{\"color\":\"#4D5663\"},\"text\":\"\"},\"zerolinecolor\":\"#E1E5ED\"},\"yaxis\":{\"anchor\":\"x\",\"domain\":[0.575,1.0],\"gridcolor\":\"#E1E5ED\",\"showgrid\":true,\"tickfont\":{\"color\":\"#4D5663\"},\"title\":{\"font\":{\"color\":\"#4D5663\"},\"text\":\"\"},\"zerolinecolor\":\"#E1E5ED\"},\"yaxis2\":{\"anchor\":\"x2\",\"domain\":[0.575,1.0],\"gridcolor\":\"#E1E5ED\",\"showgrid\":true,\"tickfont\":{\"color\":\"#4D5663\"},\"title\":{\"font\":{\"color\":\"#4D5663\"},\"text\":\"\"},\"zerolinecolor\":\"#E1E5ED\"},\"yaxis3\":{\"anchor\":\"x3\",\"domain\":[0.0,0.425],\"gridcolor\":\"#E1E5ED\",\"showgrid\":true,\"tickfont\":{\"color\":\"#4D5663\"},\"title\":{\"font\":{\"color\":\"#4D5663\"},\"text\":\"\"},\"zerolinecolor\":\"#E1E5ED\"},\"yaxis4\":{\"anchor\":\"x4\",\"domain\":[0.0,0.425],\"gridcolor\":\"#E1E5ED\",\"showgrid\":true,\"tickfont\":{\"color\":\"#4D5663\"},\"title\":{\"font\":{\"color\":\"#4D5663\"},\"text\":\"\"},\"zerolinecolor\":\"#E1E5ED\"}},                        {\"showLink\": true, \"linkText\": \"Export to plot.ly\", \"plotlyServerURL\": \"https://plot.ly\", \"responsive\": true}                    ).then(function(){\n                            \nvar gd = document.getElementById('073b6e76-1b8d-4b6e-8a2a-d078a97e3732');\nvar x = new MutationObserver(function (mutations, observer) {{\n        var display = window.getComputedStyle(gd).display;\n        if (!display || display === 'none') {{\n            console.log([gd, 'removed!']);\n            Plotly.purge(gd);\n            observer.disconnect();\n        }}\n}});\n\n// Listen for the removal of the full notebook cells\nvar notebookContainer = gd.closest('#notebook-container');\nif (notebookContainer) {{\n    x.observe(notebookContainer, {childList: true});\n}}\n\n// Listen for the clearing of the current output cell\nvar outputEl = gd.closest('.output');\nif (outputEl) {{\n    x.observe(outputEl, {childList: true});\n}}\n\n                        })                };                });            </script>        </div>"
     },
     "metadata": {},
     "output_type": "display_data"
    }
   ],
   "source": [
    "legend = {k: data_router[k]['ru']['short'] for k in list(data_router.keys())[:4]}\n",
    "df.rename(columns=legend).iplot(kind='hist', subplots=True)\n"
   ],
   "metadata": {
    "collapsed": false,
    "pycharm": {
     "name": "#%%\n"
    }
   }
  }
 ],
 "metadata": {
  "kernelspec": {
   "display_name": "Python 3 (ipykernel)",
   "language": "python",
   "name": "python3"
  },
  "language_info": {
   "codemirror_mode": {
    "name": "ipython",
    "version": 3
   },
   "file_extension": ".py",
   "mimetype": "text/x-python",
   "name": "python",
   "nbconvert_exporter": "python",
   "pygments_lexer": "ipython3",
   "version": "3.9.7"
  }
 },
 "nbformat": 4,
 "nbformat_minor": 1
}