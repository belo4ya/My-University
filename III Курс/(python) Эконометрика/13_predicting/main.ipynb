{
 "cells": [
  {
   "cell_type": "code",
   "execution_count": 34,
   "metadata": {
    "collapsed": true
   },
   "outputs": [],
   "source": [
    "from __future__ import annotations\n",
    "\n",
    "import warnings\n",
    "\n",
    "import pandas as pd\n",
    "import statsmodels.api as sm"
   ]
  },
  {
   "cell_type": "code",
   "execution_count": 110,
   "outputs": [],
   "source": [
    "def add_constant(x: pd.Series | pd.DataFrame) -> pd.DataFrame:\n",
    "    warnings.filterwarnings('ignore')\n",
    "    x = sm.add_constant(x)\n",
    "    warnings.resetwarnings()\n",
    "    return x"
   ],
   "metadata": {
    "collapsed": false,
    "pycharm": {
     "name": "#%%\n"
    }
   }
  },
  {
   "cell_type": "markdown",
   "source": [
    "## Задание 1"
   ],
   "metadata": {
    "collapsed": false,
    "pycharm": {
     "name": "#%% md\n"
    }
   }
  },
  {
   "cell_type": "code",
   "execution_count": 111,
   "outputs": [
    {
     "data": {
      "text/plain": "    X     Y\n0   0  77.8\n1   7  77.1\n2  14  78.9\n3  21  79.1\n4  28  82.7",
      "text/html": "<div>\n<style scoped>\n    .dataframe tbody tr th:only-of-type {\n        vertical-align: middle;\n    }\n\n    .dataframe tbody tr th {\n        vertical-align: top;\n    }\n\n    .dataframe thead th {\n        text-align: right;\n    }\n</style>\n<table border=\"1\" class=\"dataframe\">\n  <thead>\n    <tr style=\"text-align: right;\">\n      <th></th>\n      <th>X</th>\n      <th>Y</th>\n    </tr>\n  </thead>\n  <tbody>\n    <tr>\n      <th>0</th>\n      <td>0</td>\n      <td>77.8</td>\n    </tr>\n    <tr>\n      <th>1</th>\n      <td>7</td>\n      <td>77.1</td>\n    </tr>\n    <tr>\n      <th>2</th>\n      <td>14</td>\n      <td>78.9</td>\n    </tr>\n    <tr>\n      <th>3</th>\n      <td>21</td>\n      <td>79.1</td>\n    </tr>\n    <tr>\n      <th>4</th>\n      <td>28</td>\n      <td>82.7</td>\n    </tr>\n  </tbody>\n</table>\n</div>"
     },
     "execution_count": 111,
     "metadata": {},
     "output_type": "execute_result"
    }
   ],
   "source": [
    "df = pd.read_csv('data/task1.txt', sep='\\t', decimal=',')\n",
    "df.head()"
   ],
   "metadata": {
    "collapsed": false,
    "pycharm": {
     "name": "#%%\n"
    }
   }
  },
  {
   "cell_type": "code",
   "execution_count": 112,
   "outputs": [],
   "source": [
    "X = add_constant(df['X'])\n",
    "Y = df['Y']"
   ],
   "metadata": {
    "collapsed": false,
    "pycharm": {
     "name": "#%%\n"
    }
   }
  },
  {
   "cell_type": "code",
   "execution_count": 113,
   "outputs": [
    {
     "name": "stdout",
     "output_type": "stream",
     "text": [
      "                            OLS Regression Results                            \n",
      "==============================================================================\n",
      "Dep. Variable:                      Y   R-squared:                       0.753\n",
      "Model:                            OLS   Adj. R-squared:                  0.749\n",
      "Method:                 Least Squares   F-statistic:                     161.7\n",
      "Date:                Sat, 13 Nov 2021   Prob (F-statistic):           9.88e-18\n",
      "Time:                        15:01:13   Log-Likelihood:                -182.66\n",
      "No. Observations:                  55   AIC:                             369.3\n",
      "Df Residuals:                      53   BIC:                             373.3\n",
      "Df Model:                           1                                         \n",
      "Covariance Type:            nonrobust                                         \n",
      "==============================================================================\n",
      "                 coef    std err          t      P>|t|      [0.025      0.975]\n",
      "------------------------------------------------------------------------------\n",
      "const         73.2010      1.816     40.310      0.000      69.559      76.843\n",
      "X              0.1053      0.008     12.717      0.000       0.089       0.122\n",
      "==============================================================================\n",
      "Omnibus:                       16.066   Durbin-Watson:                   0.058\n",
      "Prob(Omnibus):                  0.000   Jarque-Bera (JB):                3.811\n",
      "Skew:                           0.185   Prob(JB):                        0.149\n",
      "Kurtosis:                       1.765   Cond. No.                         433.\n",
      "==============================================================================\n",
      "\n",
      "Notes:\n",
      "[1] Standard Errors assume that the covariance matrix of the errors is correctly specified.\n"
     ]
    }
   ],
   "source": [
    "model = sm.OLS(Y, X)\n",
    "results = model.fit()\n",
    "print(results.summary())"
   ],
   "metadata": {
    "collapsed": false,
    "pycharm": {
     "name": "#%%\n"
    }
   }
  },
  {
   "cell_type": "code",
   "execution_count": 114,
   "outputs": [
    {
     "data": {
      "text/plain": "0.058253019621764546"
     },
     "execution_count": 114,
     "metadata": {},
     "output_type": "execute_result"
    }
   ],
   "source": [
    "sm.stats.durbin_watson(results.resid)"
   ],
   "metadata": {
    "collapsed": false,
    "pycharm": {
     "name": "#%%\n"
    }
   }
  },
  {
   "cell_type": "code",
   "execution_count": 150,
   "outputs": [
    {
     "data": {
      "text/plain": "'H0 отвергается - автокорреляция значительна.'"
     },
     "execution_count": 150,
     "metadata": {},
     "output_type": "execute_result"
    }
   ],
   "source": [
    "\"H0 отвергается - автокорреляция значительна.\""
   ],
   "metadata": {
    "collapsed": false,
    "pycharm": {
     "name": "#%%\n"
    }
   }
  },
  {
   "cell_type": "code",
   "execution_count": 151,
   "outputs": [
    {
     "data": {
      "text/plain": "0.9703799338684133"
     },
     "execution_count": 151,
     "metadata": {},
     "output_type": "execute_result"
    }
   ],
   "source": [
    "resid = pd.Series(results.resid)\n",
    "rho_1 = resid.corr(resid.shift(-1))\n",
    "rho_1"
   ],
   "metadata": {
    "collapsed": false,
    "pycharm": {
     "name": "#%%\n"
    }
   }
  },
  {
   "cell_type": "code",
   "execution_count": 152,
   "outputs": [
    {
     "data": {
      "text/plain": "1     1.604441\n2     4.083707\n3     2.537023\n4     5.942947\n5     3.849579\n6     2.691048\n7     6.196972\n8     1.306566\n9     2.268060\n10    0.759174\n11    2.505858\n12    2.705858\n13    1.411782\n14    2.379200\n15    2.376238\n16    2.173276\n17    2.064390\n18    2.352541\n19    3.149579\n20    1.770314\n21    2.949579\n22    4.664390\n23    2.729554\n24    3.135478\n25    3.753250\n26    3.088794\n27    3.003604\n28    3.515452\n29    2.642110\n30    2.342110\n31    2.433224\n32    2.927300\n33    3.236186\n34    1.353958\n35    3.115452\n36    2.930262\n37    3.539148\n38    5.265806\n39    4.442818\n40    3.793172\n41    5.822792\n42    4.711653\n43    8.064969\n44    5.216031\n45    8.678233\n46    3.641143\n47    4.150029\n48    6.573726\n49    7.968510\n50    2.301800\n51    3.063294\n52    4.448484\n53    7.375142\n54    3.787698\nName: Y, dtype: float64"
     },
     "execution_count": 152,
     "metadata": {},
     "output_type": "execute_result"
    }
   ],
   "source": [
    "Y_new = (Y - rho_1 * Y.shift(1)).dropna()\n",
    "X_new = (X['X'] - rho_1 * X['X'].shift(1)).dropna()\n",
    "X_new = add_constant(X_new)\n",
    "Y_new"
   ],
   "metadata": {
    "collapsed": false,
    "pycharm": {
     "name": "#%%\n"
    }
   }
  },
  {
   "cell_type": "code",
   "execution_count": 153,
   "outputs": [
    {
     "name": "stdout",
     "output_type": "stream",
     "text": [
      "                            OLS Regression Results                            \n",
      "==============================================================================\n",
      "Dep. Variable:                      Y   R-squared:                       0.235\n",
      "Model:                            OLS   Adj. R-squared:                  0.220\n",
      "Method:                 Least Squares   F-statistic:                     15.93\n",
      "Date:                Sat, 13 Nov 2021   Prob (F-statistic):           0.000207\n",
      "Time:                        15:10:02   Log-Likelihood:                -100.28\n",
      "No. Observations:                  54   AIC:                             204.6\n",
      "Df Residuals:                      52   BIC:                             208.5\n",
      "Df Model:                           1                                         \n",
      "Covariance Type:            nonrobust                                         \n",
      "==============================================================================\n",
      "                 coef    std err          t      P>|t|      [0.025      0.975]\n",
      "------------------------------------------------------------------------------\n",
      "const          0.2902      0.858      0.338      0.737      -1.432       2.013\n",
      "X              0.2655      0.067      3.992      0.000       0.132       0.399\n",
      "==============================================================================\n",
      "Omnibus:                       11.004   Durbin-Watson:                   1.707\n",
      "Prob(Omnibus):                  0.004   Jarque-Bera (JB):               11.014\n",
      "Skew:                           1.061   Prob(JB):                      0.00406\n",
      "Kurtosis:                       3.628   Cond. No.                         51.8\n",
      "==============================================================================\n",
      "\n",
      "Notes:\n",
      "[1] Standard Errors assume that the covariance matrix of the errors is correctly specified.\n"
     ]
    }
   ],
   "source": [
    "new_model = sm.OLS(Y_new, X_new)\n",
    "new_results = new_model.fit()\n",
    "print(new_results.summary())"
   ],
   "metadata": {
    "collapsed": false,
    "pycharm": {
     "name": "#%%\n"
    }
   }
  },
  {
   "cell_type": "code",
   "execution_count": 154,
   "outputs": [
    {
     "data": {
      "text/plain": "9.798645424767082"
     },
     "execution_count": 154,
     "metadata": {},
     "output_type": "execute_result"
    }
   ],
   "source": [
    "new_param_a = new_results.params[0] / (1 - rho_1)\n",
    "new_param_a"
   ],
   "metadata": {
    "collapsed": false,
    "pycharm": {
     "name": "#%%\n"
    }
   }
  },
  {
   "cell_type": "code",
   "execution_count": 155,
   "outputs": [
    {
     "data": {
      "text/plain": "0.2654806734507575"
     },
     "execution_count": 155,
     "metadata": {},
     "output_type": "execute_result"
    }
   ],
   "source": [
    "new_param_b = new_results.params[1]\n",
    "new_param_b"
   ],
   "metadata": {
    "collapsed": false,
    "pycharm": {
     "name": "#%%\n"
    }
   }
  },
  {
   "cell_type": "code",
   "execution_count": 158,
   "outputs": [
    {
     "data": {
      "text/plain": "1.7072598939969583"
     },
     "execution_count": 158,
     "metadata": {},
     "output_type": "execute_result"
    }
   ],
   "source": [
    "sm.stats.durbin_watson(new_results.resid)"
   ],
   "metadata": {
    "collapsed": false,
    "pycharm": {
     "name": "#%%\n"
    }
   }
  },
  {
   "cell_type": "code",
   "execution_count": 159,
   "outputs": [
    {
     "data": {
      "text/plain": "'H0 принимается - автокорреляция незначительна.'"
     },
     "execution_count": 159,
     "metadata": {},
     "output_type": "execute_result"
    }
   ],
   "source": [
    "\"H0 принимается - автокорреляция незначительна.\""
   ],
   "metadata": {
    "collapsed": false,
    "pycharm": {
     "name": "#%%\n"
    }
   }
  },
  {
   "cell_type": "code",
   "execution_count": 172,
   "outputs": [],
   "source": [],
   "metadata": {
    "collapsed": false,
    "pycharm": {
     "name": "#%%\n"
    }
   }
  },
  {
   "cell_type": "code",
   "execution_count": 177,
   "outputs": [
    {
     "name": "stdout",
     "output_type": "stream",
     "text": [
      "                            OLS Regression Results                            \n",
      "==============================================================================\n",
      "Dep. Variable:                      Y   R-squared:                       0.036\n",
      "Model:                            OLS   Adj. R-squared:                  0.018\n",
      "Method:                 Least Squares   F-statistic:                     2.000\n",
      "Date:                Sat, 13 Nov 2021   Prob (F-statistic):              0.163\n",
      "Time:                        15:25:47   Log-Likelihood:                 69.557\n",
      "No. Observations:                  55   AIC:                            -135.1\n",
      "Df Residuals:                      53   BIC:                            -131.1\n",
      "Df Model:                           1                                         \n",
      "Covariance Type:            nonrobust                                         \n",
      "==============================================================================\n",
      "                 coef    std err          t      P>|t|      [0.025      0.975]\n",
      "------------------------------------------------------------------------------\n",
      "const         75.1706      1.513     49.673      0.000      72.135      78.206\n",
      "X              0.0945      0.008     12.157      0.000       0.079       0.110\n",
      "==============================================================================\n",
      "Omnibus:                       16.513   Durbin-Watson:                   0.062\n",
      "Prob(Omnibus):                  0.000   Jarque-Bera (JB):                4.543\n",
      "Skew:                           0.344   Prob(JB):                        0.103\n",
      "Kurtosis:                       1.772   Cond. No.                         345.\n",
      "==============================================================================\n",
      "\n",
      "Notes:\n",
      "[1] Standard Errors assume that the covariance matrix of the errors is correctly specified.\n"
     ]
    }
   ],
   "source": [
    "not_het_model = sm.OLS(Y / results.predict(), X.apply(lambda x: x / results.predict()))\n",
    "not_het_results = not_het_model.fit()\n",
    "print(not_het_results.summary())"
   ],
   "metadata": {
    "collapsed": false,
    "pycharm": {
     "name": "#%%\n"
    }
   }
  },
  {
   "cell_type": "code",
   "execution_count": null,
   "outputs": [],
   "source": [
    "\n"
   ],
   "metadata": {
    "collapsed": false,
    "pycharm": {
     "name": "#%%\n"
    }
   }
  }
 ],
 "metadata": {
  "kernelspec": {
   "display_name": "Python 3",
   "language": "python",
   "name": "python3"
  },
  "language_info": {
   "codemirror_mode": {
    "name": "ipython",
    "version": 2
   },
   "file_extension": ".py",
   "mimetype": "text/x-python",
   "name": "python",
   "nbconvert_exporter": "python",
   "pygments_lexer": "ipython2",
   "version": "2.7.6"
  }
 },
 "nbformat": 4,
 "nbformat_minor": 0
}