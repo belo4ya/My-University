{
 "cells": [
  {
   "cell_type": "markdown",
   "metadata": {},
   "source": [
    "# Pandas"
   ]
  },
  {
   "cell_type": "markdown",
   "metadata": {},
   "source": [
    "Материалы:\n",
    "* Макрушин С.В. \"Лекция 2: Библиотека Pandas\"\n",
    "* https://pandas.pydata.org/docs/user_guide/index.html#\n",
    "* https://pandas.pydata.org/docs/reference/index.html\n",
    "* Уэс Маккини. Python и анализ данных"
   ]
  },
  {
   "cell_type": "markdown",
   "metadata": {},
   "source": [
    "## Задачи для совместного разбора"
   ]
  },
  {
   "cell_type": "code",
   "execution_count": 101,
   "outputs": [],
   "source": [
    "import numpy as np\n",
    "import pandas as pd"
   ],
   "metadata": {
    "collapsed": false,
    "pycharm": {
     "name": "#%%\n"
    }
   }
  },
  {
   "cell_type": "markdown",
   "metadata": {},
   "source": [
    "1. Загрузите данные из файла `sp500hst.txt` и обозначьте столбцы в соответствии с содержимым: `\"date\", \"ticker\", \"open\", \"high\", \"low\", \"close\", \"volume\"`."
   ]
  },
  {
   "cell_type": "code",
   "execution_count": 42,
   "metadata": {},
   "outputs": [
    {
     "data": {
      "text/plain": "             date ticker   open     high     low  close  volume\n0      2009-08-21      A  25.60  25.6100  25.220  25.55   34758\n1      2009-08-24      A  25.64  25.7400  25.330  25.50   22247\n2      2009-08-25      A  25.50  25.7000  25.225  25.34   30891\n3      2009-08-26      A  25.32  25.6425  25.145  25.48   33334\n4      2009-08-27      A  25.50  25.5700  25.230  25.54   70176\n...           ...    ...    ...      ...     ...    ...     ...\n122569 2010-08-13    ZMH  51.72  51.9000  51.380  51.44   14561\n122570 2010-08-16    ZMH  51.13  51.4700  50.600  51.00   13489\n122571 2010-08-17    ZMH  51.14  51.6000  50.890  51.21   20498\n122572 2010-08-19    ZMH  51.63  51.6300  50.170  50.22   18259\n122573 2010-08-20    ZMH  50.03  50.5500  49.480  49.82   17792\n\n[122574 rows x 7 columns]",
      "text/html": "<div>\n<style scoped>\n    .dataframe tbody tr th:only-of-type {\n        vertical-align: middle;\n    }\n\n    .dataframe tbody tr th {\n        vertical-align: top;\n    }\n\n    .dataframe thead th {\n        text-align: right;\n    }\n</style>\n<table border=\"1\" class=\"dataframe\">\n  <thead>\n    <tr style=\"text-align: right;\">\n      <th></th>\n      <th>date</th>\n      <th>ticker</th>\n      <th>open</th>\n      <th>high</th>\n      <th>low</th>\n      <th>close</th>\n      <th>volume</th>\n    </tr>\n  </thead>\n  <tbody>\n    <tr>\n      <th>0</th>\n      <td>2009-08-21</td>\n      <td>A</td>\n      <td>25.60</td>\n      <td>25.6100</td>\n      <td>25.220</td>\n      <td>25.55</td>\n      <td>34758</td>\n    </tr>\n    <tr>\n      <th>1</th>\n      <td>2009-08-24</td>\n      <td>A</td>\n      <td>25.64</td>\n      <td>25.7400</td>\n      <td>25.330</td>\n      <td>25.50</td>\n      <td>22247</td>\n    </tr>\n    <tr>\n      <th>2</th>\n      <td>2009-08-25</td>\n      <td>A</td>\n      <td>25.50</td>\n      <td>25.7000</td>\n      <td>25.225</td>\n      <td>25.34</td>\n      <td>30891</td>\n    </tr>\n    <tr>\n      <th>3</th>\n      <td>2009-08-26</td>\n      <td>A</td>\n      <td>25.32</td>\n      <td>25.6425</td>\n      <td>25.145</td>\n      <td>25.48</td>\n      <td>33334</td>\n    </tr>\n    <tr>\n      <th>4</th>\n      <td>2009-08-27</td>\n      <td>A</td>\n      <td>25.50</td>\n      <td>25.5700</td>\n      <td>25.230</td>\n      <td>25.54</td>\n      <td>70176</td>\n    </tr>\n    <tr>\n      <th>...</th>\n      <td>...</td>\n      <td>...</td>\n      <td>...</td>\n      <td>...</td>\n      <td>...</td>\n      <td>...</td>\n      <td>...</td>\n    </tr>\n    <tr>\n      <th>122569</th>\n      <td>2010-08-13</td>\n      <td>ZMH</td>\n      <td>51.72</td>\n      <td>51.9000</td>\n      <td>51.380</td>\n      <td>51.44</td>\n      <td>14561</td>\n    </tr>\n    <tr>\n      <th>122570</th>\n      <td>2010-08-16</td>\n      <td>ZMH</td>\n      <td>51.13</td>\n      <td>51.4700</td>\n      <td>50.600</td>\n      <td>51.00</td>\n      <td>13489</td>\n    </tr>\n    <tr>\n      <th>122571</th>\n      <td>2010-08-17</td>\n      <td>ZMH</td>\n      <td>51.14</td>\n      <td>51.6000</td>\n      <td>50.890</td>\n      <td>51.21</td>\n      <td>20498</td>\n    </tr>\n    <tr>\n      <th>122572</th>\n      <td>2010-08-19</td>\n      <td>ZMH</td>\n      <td>51.63</td>\n      <td>51.6300</td>\n      <td>50.170</td>\n      <td>50.22</td>\n      <td>18259</td>\n    </tr>\n    <tr>\n      <th>122573</th>\n      <td>2010-08-20</td>\n      <td>ZMH</td>\n      <td>50.03</td>\n      <td>50.5500</td>\n      <td>49.480</td>\n      <td>49.82</td>\n      <td>17792</td>\n    </tr>\n  </tbody>\n</table>\n<p>122574 rows × 7 columns</p>\n</div>"
     },
     "execution_count": 42,
     "metadata": {},
     "output_type": "execute_result"
    }
   ],
   "source": [
    "col_names = ['date', 'ticker', 'open', 'high', 'low', 'close', 'volume']\n",
    "df = pd.read_csv('sem/data/sp500hst.txt', sep=',', names=col_names)\n",
    "df['date'] = pd.to_datetime(df['date'], format='%Y%m%d')\n",
    "df"
   ]
  },
  {
   "cell_type": "markdown",
   "metadata": {},
   "source": [
    "2. Рассчитайте среднее значение показателей для каждого из столбцов c номерами 3-6."
   ]
  },
  {
   "cell_type": "code",
   "execution_count": 43,
   "outputs": [
    {
     "data": {
      "text/plain": "high     43.102243\nlow      42.054464\nclose    42.601865\ndtype: float64"
     },
     "execution_count": 43,
     "metadata": {},
     "output_type": "execute_result"
    }
   ],
   "source": [
    "df.iloc[:, 3:6].mean()"
   ],
   "metadata": {
    "collapsed": false,
    "pycharm": {
     "name": "#%%\n"
    }
   }
  },
  {
   "cell_type": "markdown",
   "metadata": {},
   "source": [
    "3. Добавьте столбец, содержащий только число месяца, к которому относится дата."
   ]
  },
  {
   "cell_type": "code",
   "execution_count": 49,
   "outputs": [
    {
     "data": {
      "text/plain": "             date ticker   open     high     low  close  volume  month\n0      2009-08-21      A  25.60  25.6100  25.220  25.55   34758      8\n1      2009-08-24      A  25.64  25.7400  25.330  25.50   22247      8\n2      2009-08-25      A  25.50  25.7000  25.225  25.34   30891      8\n3      2009-08-26      A  25.32  25.6425  25.145  25.48   33334      8\n4      2009-08-27      A  25.50  25.5700  25.230  25.54   70176      8\n...           ...    ...    ...      ...     ...    ...     ...    ...\n122569 2010-08-13    ZMH  51.72  51.9000  51.380  51.44   14561      8\n122570 2010-08-16    ZMH  51.13  51.4700  50.600  51.00   13489      8\n122571 2010-08-17    ZMH  51.14  51.6000  50.890  51.21   20498      8\n122572 2010-08-19    ZMH  51.63  51.6300  50.170  50.22   18259      8\n122573 2010-08-20    ZMH  50.03  50.5500  49.480  49.82   17792      8\n\n[122574 rows x 8 columns]",
      "text/html": "<div>\n<style scoped>\n    .dataframe tbody tr th:only-of-type {\n        vertical-align: middle;\n    }\n\n    .dataframe tbody tr th {\n        vertical-align: top;\n    }\n\n    .dataframe thead th {\n        text-align: right;\n    }\n</style>\n<table border=\"1\" class=\"dataframe\">\n  <thead>\n    <tr style=\"text-align: right;\">\n      <th></th>\n      <th>date</th>\n      <th>ticker</th>\n      <th>open</th>\n      <th>high</th>\n      <th>low</th>\n      <th>close</th>\n      <th>volume</th>\n      <th>month</th>\n    </tr>\n  </thead>\n  <tbody>\n    <tr>\n      <th>0</th>\n      <td>2009-08-21</td>\n      <td>A</td>\n      <td>25.60</td>\n      <td>25.6100</td>\n      <td>25.220</td>\n      <td>25.55</td>\n      <td>34758</td>\n      <td>8</td>\n    </tr>\n    <tr>\n      <th>1</th>\n      <td>2009-08-24</td>\n      <td>A</td>\n      <td>25.64</td>\n      <td>25.7400</td>\n      <td>25.330</td>\n      <td>25.50</td>\n      <td>22247</td>\n      <td>8</td>\n    </tr>\n    <tr>\n      <th>2</th>\n      <td>2009-08-25</td>\n      <td>A</td>\n      <td>25.50</td>\n      <td>25.7000</td>\n      <td>25.225</td>\n      <td>25.34</td>\n      <td>30891</td>\n      <td>8</td>\n    </tr>\n    <tr>\n      <th>3</th>\n      <td>2009-08-26</td>\n      <td>A</td>\n      <td>25.32</td>\n      <td>25.6425</td>\n      <td>25.145</td>\n      <td>25.48</td>\n      <td>33334</td>\n      <td>8</td>\n    </tr>\n    <tr>\n      <th>4</th>\n      <td>2009-08-27</td>\n      <td>A</td>\n      <td>25.50</td>\n      <td>25.5700</td>\n      <td>25.230</td>\n      <td>25.54</td>\n      <td>70176</td>\n      <td>8</td>\n    </tr>\n    <tr>\n      <th>...</th>\n      <td>...</td>\n      <td>...</td>\n      <td>...</td>\n      <td>...</td>\n      <td>...</td>\n      <td>...</td>\n      <td>...</td>\n      <td>...</td>\n    </tr>\n    <tr>\n      <th>122569</th>\n      <td>2010-08-13</td>\n      <td>ZMH</td>\n      <td>51.72</td>\n      <td>51.9000</td>\n      <td>51.380</td>\n      <td>51.44</td>\n      <td>14561</td>\n      <td>8</td>\n    </tr>\n    <tr>\n      <th>122570</th>\n      <td>2010-08-16</td>\n      <td>ZMH</td>\n      <td>51.13</td>\n      <td>51.4700</td>\n      <td>50.600</td>\n      <td>51.00</td>\n      <td>13489</td>\n      <td>8</td>\n    </tr>\n    <tr>\n      <th>122571</th>\n      <td>2010-08-17</td>\n      <td>ZMH</td>\n      <td>51.14</td>\n      <td>51.6000</td>\n      <td>50.890</td>\n      <td>51.21</td>\n      <td>20498</td>\n      <td>8</td>\n    </tr>\n    <tr>\n      <th>122572</th>\n      <td>2010-08-19</td>\n      <td>ZMH</td>\n      <td>51.63</td>\n      <td>51.6300</td>\n      <td>50.170</td>\n      <td>50.22</td>\n      <td>18259</td>\n      <td>8</td>\n    </tr>\n    <tr>\n      <th>122573</th>\n      <td>2010-08-20</td>\n      <td>ZMH</td>\n      <td>50.03</td>\n      <td>50.5500</td>\n      <td>49.480</td>\n      <td>49.82</td>\n      <td>17792</td>\n      <td>8</td>\n    </tr>\n  </tbody>\n</table>\n<p>122574 rows × 8 columns</p>\n</div>"
     },
     "execution_count": 49,
     "metadata": {},
     "output_type": "execute_result"
    }
   ],
   "source": [
    "df = df.assign(**{'month': df['date'].dt.month})\n",
    "df"
   ],
   "metadata": {
    "collapsed": false,
    "pycharm": {
     "name": "#%%\n"
    }
   }
  },
  {
   "cell_type": "markdown",
   "metadata": {},
   "source": [
    "4. Рассчитайте суммарный объем торгов для одинаковых значений тикеров."
   ]
  },
  {
   "cell_type": "code",
   "execution_count": 51,
   "outputs": [
    {
     "data": {
      "text/plain": "ticker\nA        8609336\nAA      81898998\nAAPL    52261170\nABC      9006756\nABT     18975870\n          ...   \nXTO     21297931\nYHOO    56837171\nYUM     10971538\nZION    15551119\nZMH      4938916\nName: volume, Length: 524, dtype: int64"
     },
     "execution_count": 51,
     "metadata": {},
     "output_type": "execute_result"
    }
   ],
   "source": [
    "df.groupby('ticker')['volume'].sum()"
   ],
   "metadata": {
    "collapsed": false,
    "pycharm": {
     "name": "#%%\n"
    }
   }
  },
  {
   "cell_type": "markdown",
   "metadata": {},
   "source": [
    "5. Загрузите данные из файла sp500hst.txt и обозначьте столбцы в соответствии с содержимым: \"date\", \"ticker\", \"open\", \"high\", \"low\", \"close\", \"volume\". Добавьте столбец с расшифровкой названия тикера, используя данные из файла `sp_data2.csv` . В случае нехватки данных об именах тикеров корректно обработать их."
   ]
  },
  {
   "cell_type": "code",
   "execution_count": 63,
   "outputs": [
    {
     "data": {
      "text/plain": "            date ticker   open     high     low  close  volume  month  \\\n0     2009-08-21      A  25.60  25.6100  25.220  25.55   34758      8   \n1     2009-08-24      A  25.64  25.7400  25.330  25.50   22247      8   \n2     2009-08-25      A  25.50  25.7000  25.225  25.34   30891      8   \n3     2009-08-26      A  25.32  25.6425  25.145  25.48   33334      8   \n4     2009-08-27      A  25.50  25.5700  25.230  25.54   70176      8   \n...          ...    ...    ...      ...     ...    ...     ...    ...   \n82167 2010-08-13   ZION  20.17  20.4300  19.840  19.89   25193      8   \n82168 2010-08-16   ZION  19.81  19.9600  19.600  19.95   25914      8   \n82169 2010-08-17   ZION  20.07  20.4700  19.830  20.31   31717      8   \n82170 2010-08-19   ZION  19.83  20.0000  19.130  19.35   45935      8   \n82171 2010-08-20   ZION  19.15  19.2700  18.810  19.14   37225      8   \n\n                    company percent  \n0      Agilent Technologies    0.1%  \n1      Agilent Technologies    0.1%  \n2      Agilent Technologies    0.1%  \n3      Agilent Technologies    0.1%  \n4      Agilent Technologies    0.1%  \n...                     ...     ...  \n82167         Zions Bancorp    0.0%  \n82168         Zions Bancorp    0.0%  \n82169         Zions Bancorp    0.0%  \n82170         Zions Bancorp    0.0%  \n82171         Zions Bancorp    0.0%  \n\n[82172 rows x 10 columns]",
      "text/html": "<div>\n<style scoped>\n    .dataframe tbody tr th:only-of-type {\n        vertical-align: middle;\n    }\n\n    .dataframe tbody tr th {\n        vertical-align: top;\n    }\n\n    .dataframe thead th {\n        text-align: right;\n    }\n</style>\n<table border=\"1\" class=\"dataframe\">\n  <thead>\n    <tr style=\"text-align: right;\">\n      <th></th>\n      <th>date</th>\n      <th>ticker</th>\n      <th>open</th>\n      <th>high</th>\n      <th>low</th>\n      <th>close</th>\n      <th>volume</th>\n      <th>month</th>\n      <th>company</th>\n      <th>percent</th>\n    </tr>\n  </thead>\n  <tbody>\n    <tr>\n      <th>0</th>\n      <td>2009-08-21</td>\n      <td>A</td>\n      <td>25.60</td>\n      <td>25.6100</td>\n      <td>25.220</td>\n      <td>25.55</td>\n      <td>34758</td>\n      <td>8</td>\n      <td>Agilent Technologies</td>\n      <td>0.1%</td>\n    </tr>\n    <tr>\n      <th>1</th>\n      <td>2009-08-24</td>\n      <td>A</td>\n      <td>25.64</td>\n      <td>25.7400</td>\n      <td>25.330</td>\n      <td>25.50</td>\n      <td>22247</td>\n      <td>8</td>\n      <td>Agilent Technologies</td>\n      <td>0.1%</td>\n    </tr>\n    <tr>\n      <th>2</th>\n      <td>2009-08-25</td>\n      <td>A</td>\n      <td>25.50</td>\n      <td>25.7000</td>\n      <td>25.225</td>\n      <td>25.34</td>\n      <td>30891</td>\n      <td>8</td>\n      <td>Agilent Technologies</td>\n      <td>0.1%</td>\n    </tr>\n    <tr>\n      <th>3</th>\n      <td>2009-08-26</td>\n      <td>A</td>\n      <td>25.32</td>\n      <td>25.6425</td>\n      <td>25.145</td>\n      <td>25.48</td>\n      <td>33334</td>\n      <td>8</td>\n      <td>Agilent Technologies</td>\n      <td>0.1%</td>\n    </tr>\n    <tr>\n      <th>4</th>\n      <td>2009-08-27</td>\n      <td>A</td>\n      <td>25.50</td>\n      <td>25.5700</td>\n      <td>25.230</td>\n      <td>25.54</td>\n      <td>70176</td>\n      <td>8</td>\n      <td>Agilent Technologies</td>\n      <td>0.1%</td>\n    </tr>\n    <tr>\n      <th>...</th>\n      <td>...</td>\n      <td>...</td>\n      <td>...</td>\n      <td>...</td>\n      <td>...</td>\n      <td>...</td>\n      <td>...</td>\n      <td>...</td>\n      <td>...</td>\n      <td>...</td>\n    </tr>\n    <tr>\n      <th>82167</th>\n      <td>2010-08-13</td>\n      <td>ZION</td>\n      <td>20.17</td>\n      <td>20.4300</td>\n      <td>19.840</td>\n      <td>19.89</td>\n      <td>25193</td>\n      <td>8</td>\n      <td>Zions Bancorp</td>\n      <td>0.0%</td>\n    </tr>\n    <tr>\n      <th>82168</th>\n      <td>2010-08-16</td>\n      <td>ZION</td>\n      <td>19.81</td>\n      <td>19.9600</td>\n      <td>19.600</td>\n      <td>19.95</td>\n      <td>25914</td>\n      <td>8</td>\n      <td>Zions Bancorp</td>\n      <td>0.0%</td>\n    </tr>\n    <tr>\n      <th>82169</th>\n      <td>2010-08-17</td>\n      <td>ZION</td>\n      <td>20.07</td>\n      <td>20.4700</td>\n      <td>19.830</td>\n      <td>20.31</td>\n      <td>31717</td>\n      <td>8</td>\n      <td>Zions Bancorp</td>\n      <td>0.0%</td>\n    </tr>\n    <tr>\n      <th>82170</th>\n      <td>2010-08-19</td>\n      <td>ZION</td>\n      <td>19.83</td>\n      <td>20.0000</td>\n      <td>19.130</td>\n      <td>19.35</td>\n      <td>45935</td>\n      <td>8</td>\n      <td>Zions Bancorp</td>\n      <td>0.0%</td>\n    </tr>\n    <tr>\n      <th>82171</th>\n      <td>2010-08-20</td>\n      <td>ZION</td>\n      <td>19.15</td>\n      <td>19.2700</td>\n      <td>18.810</td>\n      <td>19.14</td>\n      <td>37225</td>\n      <td>8</td>\n      <td>Zions Bancorp</td>\n      <td>0.0%</td>\n    </tr>\n  </tbody>\n</table>\n<p>82172 rows × 10 columns</p>\n</div>"
     },
     "execution_count": 63,
     "metadata": {},
     "output_type": "execute_result"
    }
   ],
   "source": [
    "df_2 = pd.read_csv('sem/data/sp_data2.csv', sep=';', names=['ticker', 'company', 'percent'])\n",
    "pd.merge(df, df_2, how='inner', on='ticker')"
   ],
   "metadata": {
    "collapsed": false,
    "pycharm": {
     "name": "#%%\n"
    }
   }
  },
  {
   "cell_type": "markdown",
   "metadata": {},
   "source": [
    "## Лабораторная работа №2"
   ]
  },
  {
   "cell_type": "markdown",
   "metadata": {},
   "source": [
    "### Базовые операции с `DataFrame`"
   ]
  },
  {
   "cell_type": "markdown",
   "metadata": {},
   "source": [
    "1.1 В файлах `recipes_sample.csv` и `reviews_sample.csv` находится информация об рецептах блюд и отзывах на эти рецепты соответственно. Загрузите данные из файлов в виде `pd.DataFrame` с названиями `recipes` и `reviews`. Обратите внимание на корректное считывание столбца(ов) с индексами."
   ]
  },
  {
   "cell_type": "code",
   "execution_count": 70,
   "outputs": [
    {
     "name": "stdout",
     "output_type": "stream",
     "text": [
      "recipes_sample:\n",
      "                                       name     id  minutes  contributor_id  \\\n",
      "0     george s at the cove  black bean soup  44123       90           35193   \n",
      "1        healthy for them  yogurt popsicles  67664       10           91970   \n",
      "2              i can t believe it s spinach  38798       30            1533   \n",
      "3                      italian  gut busters  35173       45           22724   \n",
      "4  love is in the air  beef fondue   sauces  84797       25            4470   \n",
      "\n",
      "    submitted  n_steps                                        description  \\\n",
      "0  2002-10-25      NaN  an original recipe created by chef scott meska...   \n",
      "1  2003-07-26      NaN  my children and their friends ask for my homem...   \n",
      "2  2002-08-29      NaN            these were so go, it surprised even me.   \n",
      "3  2002-07-27      NaN  my sister-in-law made these for us at a family...   \n",
      "4  2004-02-23      4.0  i think a fondue is a very romantic casual din...   \n",
      "\n",
      "   n_ingredients  \n",
      "0           18.0  \n",
      "1            NaN  \n",
      "2            8.0  \n",
      "3            NaN  \n",
      "4            NaN  \n",
      "reviews_sample:\n",
      "           user_id  recipe_id        date  rating  \\\n",
      "370476       21752      57993  2003-05-01       5   \n",
      "624300      431813     142201  2007-09-16       5   \n",
      "187037      400708     252013  2008-01-10       4   \n",
      "706134  2001852463     404716  2017-12-11       5   \n",
      "312179       95810     129396  2008-03-14       5   \n",
      "\n",
      "                                                   review  \n",
      "370476  Last week whole sides of frozen salmon fillet ...  \n",
      "624300  So simple and so tasty!  I used a yellow capsi...  \n",
      "187037  Very nice breakfast HH, easy to make and yummy...  \n",
      "706134  These are a favorite for the holidays and so e...  \n",
      "312179  Excellent soup!  The tomato flavor is just gre...  \n"
     ]
    }
   ],
   "source": [
    "recipes_df = pd.read_csv('sem/data/recipes_sample.csv', sep=',')\n",
    "reviews_df = pd.read_csv('sem/data/reviews_sample.csv', sep=',', index_col=0)\n",
    "\n",
    "print(f'recipes_sample:\\n{recipes_df.head()}')\n",
    "print(f'reviews_sample:\\n{reviews_df.head()}')"
   ],
   "metadata": {
    "collapsed": false,
    "pycharm": {
     "name": "#%%\n"
    }
   }
  },
  {
   "cell_type": "markdown",
   "metadata": {},
   "source": [
    "1.2 Для каждой из таблиц выведите основные параметры:\n",
    "* количество точек данных (строк);\n",
    "* количество столбцов;\n",
    "* тип данных каждого столбца."
   ]
  },
  {
   "cell_type": "code",
   "execution_count": 82,
   "outputs": [
    {
     "name": "stdout",
     "output_type": "stream",
     "text": [
      "RECIPES_SAMPLE\n",
      "Кол-во строк: 30000\n",
      "Кол-во столбцов: 8\n",
      "dtypes: {'name': dtype('O'), 'id': dtype('int64'), 'minutes': dtype('int64'), 'contributor_id': dtype('int64'), 'submitted': dtype('O'), 'n_steps': dtype('float64'), 'description': dtype('O'), 'n_ingredients': dtype('float64')}\n",
      "\n",
      "REVIEWS_SAMPLE\n",
      "Кол-во строк: 126696\n",
      "Кол-во столбцов: 5\n",
      "dtypes: {'user_id': dtype('int64'), 'recipe_id': dtype('int64'), 'date': dtype('O'), 'rating': dtype('int64'), 'review': dtype('O')}\n",
      "\n"
     ]
    }
   ],
   "source": [
    "data = {\n",
    "    'recipes_sample': {\n",
    "        'df': recipes_df\n",
    "    },\n",
    "    'reviews_sample': {\n",
    "        'df': reviews_df\n",
    "    }\n",
    "}\n",
    "for key in data.keys():\n",
    "    df_ = data[key]['df']\n",
    "    print(f'{key.upper()}')\n",
    "    print(f'Кол-во строк: {df_.shape[0]}')\n",
    "    print(f'Кол-во столбцов: {df_.shape[1]}')\n",
    "    print(f'dtypes: {df_.dtypes.to_dict()}\\n')"
   ],
   "metadata": {
    "collapsed": false,
    "pycharm": {
     "name": "#%%\n"
    }
   }
  },
  {
   "cell_type": "markdown",
   "metadata": {},
   "source": [
    "1.3 Исследуйте, в каких столбцах таблиц содержатся пропуски. Посчитайте долю строк, содержащих пропуски, в отношении к общему количеству строк."
   ]
  },
  {
   "cell_type": "code",
   "execution_count": 105,
   "outputs": [
    {
     "name": "stdout",
     "output_type": "stream",
     "text": [
      "n_steps          11190\n",
      "description        623\n",
      "n_ingredients     8880\n",
      "dtype: int64\n",
      "name              0.000000\n",
      "id                0.000000\n",
      "minutes           0.000000\n",
      "contributor_id    0.000000\n",
      "submitted         0.000000\n",
      "n_steps           0.373000\n",
      "description       0.020767\n",
      "n_ingredients     0.296000\n",
      "dtype: float64\n"
     ]
    }
   ],
   "source": [
    "# FIXME: неточно\n",
    "n_rows = recipes_df.shape[0]\n",
    "n_null = recipes_df.isna().sum()\n",
    "print(n_null[n_null > 0])\n",
    "print(n_null / n_rows)"
   ],
   "metadata": {
    "collapsed": false,
    "pycharm": {
     "name": "#%%\n"
    }
   }
  },
  {
   "cell_type": "markdown",
   "metadata": {},
   "source": [
    "1.4 Рассчитайте среднее значение для каждого из числовых столбцов (где это имеет смысл)."
   ]
  },
  {
   "cell_type": "code",
   "execution_count": 113,
   "outputs": [
    {
     "name": "stdout",
     "output_type": "stream",
     "text": [
      "minutes          123.358133\n",
      "n_steps            9.805582\n",
      "n_ingredients      9.008286\n",
      "dtype: float64\n",
      "\n",
      "rating    4.410802\n",
      "dtype: float64\n"
     ]
    }
   ],
   "source": [
    "recipes_means = ['minutes', 'n_steps', 'n_ingredients']\n",
    "reviews_means = ['rating']\n",
    "print(recipes_df[recipes_means].mean())\n",
    "print()\n",
    "print(reviews_df[reviews_means].mean())"
   ],
   "metadata": {
    "collapsed": false,
    "pycharm": {
     "name": "#%%\n"
    }
   }
  },
  {
   "cell_type": "markdown",
   "metadata": {},
   "source": [
    "1.5 Создайте серию из 10 случайных названий рецептов."
   ]
  },
  {
   "cell_type": "code",
   "execution_count": 118,
   "outputs": [
    {
     "name": "stdout",
     "output_type": "stream",
     "text": [
      "<class 'pandas.core.series.Series'>\n"
     ]
    }
   ],
   "source": [
    "print(recipes_df['name'].sample(10))"
   ],
   "metadata": {
    "collapsed": false,
    "pycharm": {
     "name": "#%%\n"
    }
   }
  },
  {
   "cell_type": "markdown",
   "metadata": {},
   "source": [
    "1.6 Измените индекс в таблице `reviews`, пронумеровав строки, начиная с нуля."
   ]
  },
  {
   "cell_type": "code",
   "execution_count": 123,
   "outputs": [
    {
     "data": {
      "text/plain": "           user_id  recipe_id        date  rating  \\\n0            21752      57993  2003-05-01       5   \n1           431813     142201  2007-09-16       5   \n2           400708     252013  2008-01-10       4   \n3       2001852463     404716  2017-12-11       5   \n4            95810     129396  2008-03-14       5   \n...            ...        ...         ...     ...   \n126691     1270706     335534  2009-05-17       4   \n126692     2282344       8701  2012-06-03       0   \n126693      689540     222001  2008-04-08       5   \n126694  2000242659     354979  2015-06-02       5   \n126695      463435     415599  2010-09-30       5   \n\n                                                   review  \n0       Last week whole sides of frozen salmon fillet ...  \n1       So simple and so tasty!  I used a yellow capsi...  \n2       Very nice breakfast HH, easy to make and yummy...  \n3       These are a favorite for the holidays and so e...  \n4       Excellent soup!  The tomato flavor is just gre...  \n...                                                   ...  \n126691  This recipe was great! I made it last night. I...  \n126692  This recipe is outstanding. I followed the rec...  \n126693  Well, we were not a crowd but it was a fabulou...  \n126694  I have been a steak eater and dedicated BBQ gr...  \n126695  Wonderful and simple to prepare seasoning blen...  \n\n[126696 rows x 5 columns]",
      "text/html": "<div>\n<style scoped>\n    .dataframe tbody tr th:only-of-type {\n        vertical-align: middle;\n    }\n\n    .dataframe tbody tr th {\n        vertical-align: top;\n    }\n\n    .dataframe thead th {\n        text-align: right;\n    }\n</style>\n<table border=\"1\" class=\"dataframe\">\n  <thead>\n    <tr style=\"text-align: right;\">\n      <th></th>\n      <th>user_id</th>\n      <th>recipe_id</th>\n      <th>date</th>\n      <th>rating</th>\n      <th>review</th>\n    </tr>\n  </thead>\n  <tbody>\n    <tr>\n      <th>0</th>\n      <td>21752</td>\n      <td>57993</td>\n      <td>2003-05-01</td>\n      <td>5</td>\n      <td>Last week whole sides of frozen salmon fillet ...</td>\n    </tr>\n    <tr>\n      <th>1</th>\n      <td>431813</td>\n      <td>142201</td>\n      <td>2007-09-16</td>\n      <td>5</td>\n      <td>So simple and so tasty!  I used a yellow capsi...</td>\n    </tr>\n    <tr>\n      <th>2</th>\n      <td>400708</td>\n      <td>252013</td>\n      <td>2008-01-10</td>\n      <td>4</td>\n      <td>Very nice breakfast HH, easy to make and yummy...</td>\n    </tr>\n    <tr>\n      <th>3</th>\n      <td>2001852463</td>\n      <td>404716</td>\n      <td>2017-12-11</td>\n      <td>5</td>\n      <td>These are a favorite for the holidays and so e...</td>\n    </tr>\n    <tr>\n      <th>4</th>\n      <td>95810</td>\n      <td>129396</td>\n      <td>2008-03-14</td>\n      <td>5</td>\n      <td>Excellent soup!  The tomato flavor is just gre...</td>\n    </tr>\n    <tr>\n      <th>...</th>\n      <td>...</td>\n      <td>...</td>\n      <td>...</td>\n      <td>...</td>\n      <td>...</td>\n    </tr>\n    <tr>\n      <th>126691</th>\n      <td>1270706</td>\n      <td>335534</td>\n      <td>2009-05-17</td>\n      <td>4</td>\n      <td>This recipe was great! I made it last night. I...</td>\n    </tr>\n    <tr>\n      <th>126692</th>\n      <td>2282344</td>\n      <td>8701</td>\n      <td>2012-06-03</td>\n      <td>0</td>\n      <td>This recipe is outstanding. I followed the rec...</td>\n    </tr>\n    <tr>\n      <th>126693</th>\n      <td>689540</td>\n      <td>222001</td>\n      <td>2008-04-08</td>\n      <td>5</td>\n      <td>Well, we were not a crowd but it was a fabulou...</td>\n    </tr>\n    <tr>\n      <th>126694</th>\n      <td>2000242659</td>\n      <td>354979</td>\n      <td>2015-06-02</td>\n      <td>5</td>\n      <td>I have been a steak eater and dedicated BBQ gr...</td>\n    </tr>\n    <tr>\n      <th>126695</th>\n      <td>463435</td>\n      <td>415599</td>\n      <td>2010-09-30</td>\n      <td>5</td>\n      <td>Wonderful and simple to prepare seasoning blen...</td>\n    </tr>\n  </tbody>\n</table>\n<p>126696 rows × 5 columns</p>\n</div>"
     },
     "execution_count": 123,
     "metadata": {},
     "output_type": "execute_result"
    }
   ],
   "source": [
    "reviews_df = reviews_df.reset_index(drop=True)\n",
    "reviews_df"
   ],
   "metadata": {
    "collapsed": false,
    "pycharm": {
     "name": "#%%\n"
    }
   }
  },
  {
   "cell_type": "markdown",
   "metadata": {},
   "source": [
    "1.7 Выведите информацию о рецептах, время выполнения которых не больше 20 минут и кол-во ингредиентов в которых не больше 5."
   ]
  },
  {
   "cell_type": "code",
   "execution_count": 125,
   "outputs": [
    {
     "data": {
      "text/plain": "                                                    name      id  minutes  \\\n28                                   quick biscuit bread  302399       20   \n60                         peas  fit for a king or queen  303944       20   \n90                     hawaiian sunrise           mimosa  100837        5   \n91            tasty dish s   banana pudding in 2 minutes  286484        2   \n94                                    1 minute meatballs   11361       13   \n...                                                  ...     ...      ...   \n29873  zip and steam red potatoes with butter and garlic  304922       13   \n29874                          ziplock vanilla ice cream   74250       10   \n29905                      zucchini and corn with cheese  256177       15   \n29980               zucchini with jalapeno monterey jack  320622       10   \n29983                          zucchini with serrano ham  162411       15   \n\n       contributor_id   submitted  n_steps  \\\n28             213909  2008-05-06     11.0   \n60             213909  2008-05-16      NaN   \n90              58104  2004-09-29      4.0   \n91              47892  2008-02-13      NaN   \n94               4470  2001-09-03      NaN   \n...               ...         ...      ...   \n29873          724218  2008-05-27      9.0   \n29874           24386  2003-10-29      8.0   \n29905          305531  2007-09-29      4.0   \n29980          305531  2008-08-20      3.0   \n29983          152500  2006-03-31      6.0   \n\n                                             description  n_ingredients  \n28     this is a wonderful quick bread to make as an ...            5.0  \n60     this recipe is so simple and the flavors are s...            5.0  \n90     pineapple mimosa was changed to hawaiian sunri...            3.0  \n91     \"mmmm, i love bananas!\" a --tasty dish-- origi...            4.0  \n94     this is a real short cut for cooks in a hurry....            2.0  \n...                                                  ...            ...  \n29873  i haven't tried this yet, but i am going to so...            5.0  \n29874  a fun thing for kids to do. may want to use mi...            3.0  \n29905  from betty crocker fresh spring recipes. i lik...            5.0  \n29980                                  simple and yummy!            3.0  \n29983  this dish is from tim malzer, a german chef wh...            5.0  \n\n[2019 rows x 8 columns]",
      "text/html": "<div>\n<style scoped>\n    .dataframe tbody tr th:only-of-type {\n        vertical-align: middle;\n    }\n\n    .dataframe tbody tr th {\n        vertical-align: top;\n    }\n\n    .dataframe thead th {\n        text-align: right;\n    }\n</style>\n<table border=\"1\" class=\"dataframe\">\n  <thead>\n    <tr style=\"text-align: right;\">\n      <th></th>\n      <th>name</th>\n      <th>id</th>\n      <th>minutes</th>\n      <th>contributor_id</th>\n      <th>submitted</th>\n      <th>n_steps</th>\n      <th>description</th>\n      <th>n_ingredients</th>\n    </tr>\n  </thead>\n  <tbody>\n    <tr>\n      <th>28</th>\n      <td>quick biscuit bread</td>\n      <td>302399</td>\n      <td>20</td>\n      <td>213909</td>\n      <td>2008-05-06</td>\n      <td>11.0</td>\n      <td>this is a wonderful quick bread to make as an ...</td>\n      <td>5.0</td>\n    </tr>\n    <tr>\n      <th>60</th>\n      <td>peas  fit for a king or queen</td>\n      <td>303944</td>\n      <td>20</td>\n      <td>213909</td>\n      <td>2008-05-16</td>\n      <td>NaN</td>\n      <td>this recipe is so simple and the flavors are s...</td>\n      <td>5.0</td>\n    </tr>\n    <tr>\n      <th>90</th>\n      <td>hawaiian sunrise           mimosa</td>\n      <td>100837</td>\n      <td>5</td>\n      <td>58104</td>\n      <td>2004-09-29</td>\n      <td>4.0</td>\n      <td>pineapple mimosa was changed to hawaiian sunri...</td>\n      <td>3.0</td>\n    </tr>\n    <tr>\n      <th>91</th>\n      <td>tasty dish s   banana pudding in 2 minutes</td>\n      <td>286484</td>\n      <td>2</td>\n      <td>47892</td>\n      <td>2008-02-13</td>\n      <td>NaN</td>\n      <td>\"mmmm, i love bananas!\" a --tasty dish-- origi...</td>\n      <td>4.0</td>\n    </tr>\n    <tr>\n      <th>94</th>\n      <td>1 minute meatballs</td>\n      <td>11361</td>\n      <td>13</td>\n      <td>4470</td>\n      <td>2001-09-03</td>\n      <td>NaN</td>\n      <td>this is a real short cut for cooks in a hurry....</td>\n      <td>2.0</td>\n    </tr>\n    <tr>\n      <th>...</th>\n      <td>...</td>\n      <td>...</td>\n      <td>...</td>\n      <td>...</td>\n      <td>...</td>\n      <td>...</td>\n      <td>...</td>\n      <td>...</td>\n    </tr>\n    <tr>\n      <th>29873</th>\n      <td>zip and steam red potatoes with butter and garlic</td>\n      <td>304922</td>\n      <td>13</td>\n      <td>724218</td>\n      <td>2008-05-27</td>\n      <td>9.0</td>\n      <td>i haven't tried this yet, but i am going to so...</td>\n      <td>5.0</td>\n    </tr>\n    <tr>\n      <th>29874</th>\n      <td>ziplock vanilla ice cream</td>\n      <td>74250</td>\n      <td>10</td>\n      <td>24386</td>\n      <td>2003-10-29</td>\n      <td>8.0</td>\n      <td>a fun thing for kids to do. may want to use mi...</td>\n      <td>3.0</td>\n    </tr>\n    <tr>\n      <th>29905</th>\n      <td>zucchini and corn with cheese</td>\n      <td>256177</td>\n      <td>15</td>\n      <td>305531</td>\n      <td>2007-09-29</td>\n      <td>4.0</td>\n      <td>from betty crocker fresh spring recipes. i lik...</td>\n      <td>5.0</td>\n    </tr>\n    <tr>\n      <th>29980</th>\n      <td>zucchini with jalapeno monterey jack</td>\n      <td>320622</td>\n      <td>10</td>\n      <td>305531</td>\n      <td>2008-08-20</td>\n      <td>3.0</td>\n      <td>simple and yummy!</td>\n      <td>3.0</td>\n    </tr>\n    <tr>\n      <th>29983</th>\n      <td>zucchini with serrano ham</td>\n      <td>162411</td>\n      <td>15</td>\n      <td>152500</td>\n      <td>2006-03-31</td>\n      <td>6.0</td>\n      <td>this dish is from tim malzer, a german chef wh...</td>\n      <td>5.0</td>\n    </tr>\n  </tbody>\n</table>\n<p>2019 rows × 8 columns</p>\n</div>"
     },
     "execution_count": 125,
     "metadata": {},
     "output_type": "execute_result"
    }
   ],
   "source": [
    "minutes_mask = recipes_df['minutes'] <= 20\n",
    "n_ingredients = recipes_df['n_ingredients'] <= 5\n",
    "recipes_df[minutes_mask & n_ingredients]"
   ],
   "metadata": {
    "collapsed": false,
    "pycharm": {
     "name": "#%%\n"
    }
   }
  },
  {
   "cell_type": "markdown",
   "metadata": {},
   "source": [
    "### Работа с датами в `pandas`"
   ]
  },
  {
   "cell_type": "markdown",
   "metadata": {},
   "source": [
    "2.1 Преобразуйте столбец `submitted` из таблицы `recipes` в формат времени. Модифицируйте решение задачи 1.1 так, чтобы считать столбец сразу в нужном формате."
   ]
  },
  {
   "cell_type": "code",
   "execution_count": null,
   "outputs": [],
   "source": [],
   "metadata": {
    "collapsed": false,
    "pycharm": {
     "name": "#%%\n"
    }
   }
  },
  {
   "cell_type": "markdown",
   "metadata": {},
   "source": [
    "2.2 Выведите информацию о рецептах, добавленных в датасет не позже 2010 года."
   ]
  },
  {
   "cell_type": "markdown",
   "metadata": {},
   "source": [
    "### Работа со строковыми данными в `pandas`"
   ]
  },
  {
   "cell_type": "markdown",
   "metadata": {},
   "source": [
    "3.1  Добавьте в таблицу `recipes` столбец `description_length`, в котором хранится длина описания рецепта из столбца `description`."
   ]
  },
  {
   "cell_type": "markdown",
   "metadata": {},
   "source": [
    "3.2 Измените название каждого рецепта в таблице `recipes` таким образом, чтобы каждое слово в названии начиналось с прописной буквы."
   ]
  },
  {
   "cell_type": "markdown",
   "metadata": {},
   "source": [
    "3.3 Добавьте в таблицу `recipes` столбец `name_word_count`, в котором хранится количество слов из названии рецепта (считайте, что слова в названии разделяются только пробелами)."
   ]
  },
  {
   "cell_type": "markdown",
   "metadata": {},
   "source": [
    "### Группировки таблиц `pd.DataFrame`"
   ]
  },
  {
   "cell_type": "markdown",
   "metadata": {},
   "source": [
    "4.1 Посчитайте количество рецептов, представленных каждым из участников (`contributor_id`). Какой участник добавил максимальное кол-во рецептов?"
   ]
  },
  {
   "cell_type": "markdown",
   "metadata": {},
   "source": [
    "4.2 Посчитайте средний рейтинг к каждому из рецептов. Для скольких рецептов отсутствуют отзывы?"
   ]
  },
  {
   "cell_type": "markdown",
   "metadata": {},
   "source": [
    "4.3 Посчитайте количество рецептов с разбивкой по годам создания."
   ]
  },
  {
   "cell_type": "markdown",
   "metadata": {},
   "source": [
    "### Объединение таблиц `pd.DataFrame`"
   ]
  },
  {
   "cell_type": "markdown",
   "metadata": {},
   "source": [
    "5.1 При помощи объединения таблиц, создайте `DataFrame`, состоящий из четырех столбцов: `id`, `name`, `user_id`, `rating`. Рецепты без отзывов должны отсутствовать в данной таблице. Подтвердите правильность работы вашего кода, выбрав рецепт, не имеющий отзывов, и выведя на экран строку из полученного `DataFrame`, содержащую информацию об этом отзыве."
   ]
  },
  {
   "cell_type": "markdown",
   "metadata": {},
   "source": [
    "5.2 При помощи объединения таблиц и группировок, создайте `DataFrame`, состоящий из трех столбцов: `recipe_id`, `name`, `review_count`. У рецептов, для которых отсутствуют отзывы, в соответствущем столбце должен быть указан 0. Подтвердите правильность работы вашего кода, выбрав рецепт, не имеющий отзывов, и выведя на экран строку из полученного `DataFrame`, содержащую информацию об этом отзыве.\n"
   ]
  },
  {
   "cell_type": "markdown",
   "metadata": {},
   "source": [
    "5.3. Выясните, отзывы, добавленные в каком году, имеют наименьший средний рейтинг?"
   ]
  },
  {
   "cell_type": "markdown",
   "metadata": {},
   "source": [
    "### Сохранение таблиц `pd.DataFrame`"
   ]
  },
  {
   "cell_type": "markdown",
   "metadata": {},
   "source": [
    "6.1 Отсортируйте таблицу в порядке убывания величины столбца `name_word_count` и сохраните результаты выполнения заданий 3.1-3.3 в csv файл. "
   ]
  },
  {
   "cell_type": "markdown",
   "metadata": {},
   "source": [
    "6.2 Воспользовавшись `pd.ExcelWriter`, cохраните результаты 5.1 и 5.2 в файл: на лист с названием `Рецепты с оценками` сохраните результаты выполнения 5.1; на лист с названием `Количество отзывов по рецептам` сохраните результаты выполнения 5.2."
   ]
  }
 ],
 "metadata": {
  "kernelspec": {
   "name": "pycharm-a7f0f498",
   "language": "python",
   "display_name": "PyCharm (01_numpy_intro)"
  },
  "language_info": {
   "codemirror_mode": {
    "name": "ipython",
    "version": 3
   },
   "file_extension": ".py",
   "mimetype": "text/x-python",
   "name": "python",
   "nbconvert_exporter": "python",
   "pygments_lexer": "ipython3",
   "version": "3.8.5"
  }
 },
 "nbformat": 4,
 "nbformat_minor": 4
}