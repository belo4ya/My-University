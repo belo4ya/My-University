{
 "cells": [
  {
   "cell_type": "markdown",
   "metadata": {},
   "source": [
    "# Pandas"
   ]
  },
  {
   "cell_type": "markdown",
   "metadata": {},
   "source": [
    "Материалы:\n",
    "* Макрушин С.В. \"Лекция 2: Библиотека Pandas\"\n",
    "* https://pandas.pydata.org/docs/user_guide/index.html#\n",
    "* https://pandas.pydata.org/docs/reference/index.html\n",
    "* Уэс Маккини. Python и анализ данных"
   ]
  },
  {
   "cell_type": "markdown",
   "metadata": {},
   "source": [
    "## Задачи для совместного разбора"
   ]
  },
  {
   "cell_type": "code",
   "execution_count": 923,
   "outputs": [],
   "source": [
    "import pandas as pd"
   ],
   "metadata": {
    "collapsed": false,
    "pycharm": {
     "name": "#%%\n"
    }
   }
  },
  {
   "cell_type": "markdown",
   "metadata": {},
   "source": [
    "1. Загрузите данные из файла `sp500hst.txt` и обозначьте столбцы в соответствии с содержимым: `\"date\", \"ticker\", \"open\", \"high\", \"low\", \"close\", \"volume\"`."
   ]
  },
  {
   "cell_type": "code",
   "execution_count": 924,
   "metadata": {},
   "outputs": [
    {
     "data": {
      "text/plain": "             date ticker   open     high     low  close  volume\n0      2009-08-21      A  25.60  25.6100  25.220  25.55   34758\n1      2009-08-24      A  25.64  25.7400  25.330  25.50   22247\n2      2009-08-25      A  25.50  25.7000  25.225  25.34   30891\n3      2009-08-26      A  25.32  25.6425  25.145  25.48   33334\n4      2009-08-27      A  25.50  25.5700  25.230  25.54   70176\n...           ...    ...    ...      ...     ...    ...     ...\n122569 2010-08-13    ZMH  51.72  51.9000  51.380  51.44   14561\n122570 2010-08-16    ZMH  51.13  51.4700  50.600  51.00   13489\n122571 2010-08-17    ZMH  51.14  51.6000  50.890  51.21   20498\n122572 2010-08-19    ZMH  51.63  51.6300  50.170  50.22   18259\n122573 2010-08-20    ZMH  50.03  50.5500  49.480  49.82   17792\n\n[122574 rows x 7 columns]",
      "text/html": "<div>\n<style scoped>\n    .dataframe tbody tr th:only-of-type {\n        vertical-align: middle;\n    }\n\n    .dataframe tbody tr th {\n        vertical-align: top;\n    }\n\n    .dataframe thead th {\n        text-align: right;\n    }\n</style>\n<table border=\"1\" class=\"dataframe\">\n  <thead>\n    <tr style=\"text-align: right;\">\n      <th></th>\n      <th>date</th>\n      <th>ticker</th>\n      <th>open</th>\n      <th>high</th>\n      <th>low</th>\n      <th>close</th>\n      <th>volume</th>\n    </tr>\n  </thead>\n  <tbody>\n    <tr>\n      <th>0</th>\n      <td>2009-08-21</td>\n      <td>A</td>\n      <td>25.60</td>\n      <td>25.6100</td>\n      <td>25.220</td>\n      <td>25.55</td>\n      <td>34758</td>\n    </tr>\n    <tr>\n      <th>1</th>\n      <td>2009-08-24</td>\n      <td>A</td>\n      <td>25.64</td>\n      <td>25.7400</td>\n      <td>25.330</td>\n      <td>25.50</td>\n      <td>22247</td>\n    </tr>\n    <tr>\n      <th>2</th>\n      <td>2009-08-25</td>\n      <td>A</td>\n      <td>25.50</td>\n      <td>25.7000</td>\n      <td>25.225</td>\n      <td>25.34</td>\n      <td>30891</td>\n    </tr>\n    <tr>\n      <th>3</th>\n      <td>2009-08-26</td>\n      <td>A</td>\n      <td>25.32</td>\n      <td>25.6425</td>\n      <td>25.145</td>\n      <td>25.48</td>\n      <td>33334</td>\n    </tr>\n    <tr>\n      <th>4</th>\n      <td>2009-08-27</td>\n      <td>A</td>\n      <td>25.50</td>\n      <td>25.5700</td>\n      <td>25.230</td>\n      <td>25.54</td>\n      <td>70176</td>\n    </tr>\n    <tr>\n      <th>...</th>\n      <td>...</td>\n      <td>...</td>\n      <td>...</td>\n      <td>...</td>\n      <td>...</td>\n      <td>...</td>\n      <td>...</td>\n    </tr>\n    <tr>\n      <th>122569</th>\n      <td>2010-08-13</td>\n      <td>ZMH</td>\n      <td>51.72</td>\n      <td>51.9000</td>\n      <td>51.380</td>\n      <td>51.44</td>\n      <td>14561</td>\n    </tr>\n    <tr>\n      <th>122570</th>\n      <td>2010-08-16</td>\n      <td>ZMH</td>\n      <td>51.13</td>\n      <td>51.4700</td>\n      <td>50.600</td>\n      <td>51.00</td>\n      <td>13489</td>\n    </tr>\n    <tr>\n      <th>122571</th>\n      <td>2010-08-17</td>\n      <td>ZMH</td>\n      <td>51.14</td>\n      <td>51.6000</td>\n      <td>50.890</td>\n      <td>51.21</td>\n      <td>20498</td>\n    </tr>\n    <tr>\n      <th>122572</th>\n      <td>2010-08-19</td>\n      <td>ZMH</td>\n      <td>51.63</td>\n      <td>51.6300</td>\n      <td>50.170</td>\n      <td>50.22</td>\n      <td>18259</td>\n    </tr>\n    <tr>\n      <th>122573</th>\n      <td>2010-08-20</td>\n      <td>ZMH</td>\n      <td>50.03</td>\n      <td>50.5500</td>\n      <td>49.480</td>\n      <td>49.82</td>\n      <td>17792</td>\n    </tr>\n  </tbody>\n</table>\n<p>122574 rows × 7 columns</p>\n</div>"
     },
     "execution_count": 924,
     "metadata": {},
     "output_type": "execute_result"
    }
   ],
   "source": [
    "sp500_df = pd.read_csv(\n",
    "    'sem/data/sp500hst.txt',\n",
    "    sep=',',\n",
    "    names=['date', 'ticker', 'open', 'high', 'low', 'close', 'volume']\n",
    ")\n",
    "sp500_df['date'] = pd.to_datetime(sp500_df['date'], format='%Y%m%d')\n",
    "sp500_df"
   ]
  },
  {
   "cell_type": "markdown",
   "metadata": {},
   "source": [
    "2. Рассчитайте среднее значение показателей для каждого из столбцов с номерами 3-6."
   ]
  },
  {
   "cell_type": "code",
   "execution_count": 925,
   "outputs": [
    {
     "data": {
      "text/plain": "high     43.102243\nlow      42.054464\nclose    42.601865\ndtype: float64"
     },
     "execution_count": 925,
     "metadata": {},
     "output_type": "execute_result"
    }
   ],
   "source": [
    "sp500_df.iloc[:, 3:6].mean()"
   ],
   "metadata": {
    "collapsed": false,
    "pycharm": {
     "name": "#%%\n"
    }
   }
  },
  {
   "cell_type": "markdown",
   "metadata": {},
   "source": [
    "3. Добавьте столбец, содержащий только число месяца, к которому относится дата."
   ]
  },
  {
   "cell_type": "code",
   "execution_count": 926,
   "outputs": [
    {
     "data": {
      "text/plain": "             date ticker   open     high     low  close  volume  month\n0      2009-08-21      A  25.60  25.6100  25.220  25.55   34758      8\n1      2009-08-24      A  25.64  25.7400  25.330  25.50   22247      8\n2      2009-08-25      A  25.50  25.7000  25.225  25.34   30891      8\n3      2009-08-26      A  25.32  25.6425  25.145  25.48   33334      8\n4      2009-08-27      A  25.50  25.5700  25.230  25.54   70176      8\n...           ...    ...    ...      ...     ...    ...     ...    ...\n122569 2010-08-13    ZMH  51.72  51.9000  51.380  51.44   14561      8\n122570 2010-08-16    ZMH  51.13  51.4700  50.600  51.00   13489      8\n122571 2010-08-17    ZMH  51.14  51.6000  50.890  51.21   20498      8\n122572 2010-08-19    ZMH  51.63  51.6300  50.170  50.22   18259      8\n122573 2010-08-20    ZMH  50.03  50.5500  49.480  49.82   17792      8\n\n[122574 rows x 8 columns]",
      "text/html": "<div>\n<style scoped>\n    .dataframe tbody tr th:only-of-type {\n        vertical-align: middle;\n    }\n\n    .dataframe tbody tr th {\n        vertical-align: top;\n    }\n\n    .dataframe thead th {\n        text-align: right;\n    }\n</style>\n<table border=\"1\" class=\"dataframe\">\n  <thead>\n    <tr style=\"text-align: right;\">\n      <th></th>\n      <th>date</th>\n      <th>ticker</th>\n      <th>open</th>\n      <th>high</th>\n      <th>low</th>\n      <th>close</th>\n      <th>volume</th>\n      <th>month</th>\n    </tr>\n  </thead>\n  <tbody>\n    <tr>\n      <th>0</th>\n      <td>2009-08-21</td>\n      <td>A</td>\n      <td>25.60</td>\n      <td>25.6100</td>\n      <td>25.220</td>\n      <td>25.55</td>\n      <td>34758</td>\n      <td>8</td>\n    </tr>\n    <tr>\n      <th>1</th>\n      <td>2009-08-24</td>\n      <td>A</td>\n      <td>25.64</td>\n      <td>25.7400</td>\n      <td>25.330</td>\n      <td>25.50</td>\n      <td>22247</td>\n      <td>8</td>\n    </tr>\n    <tr>\n      <th>2</th>\n      <td>2009-08-25</td>\n      <td>A</td>\n      <td>25.50</td>\n      <td>25.7000</td>\n      <td>25.225</td>\n      <td>25.34</td>\n      <td>30891</td>\n      <td>8</td>\n    </tr>\n    <tr>\n      <th>3</th>\n      <td>2009-08-26</td>\n      <td>A</td>\n      <td>25.32</td>\n      <td>25.6425</td>\n      <td>25.145</td>\n      <td>25.48</td>\n      <td>33334</td>\n      <td>8</td>\n    </tr>\n    <tr>\n      <th>4</th>\n      <td>2009-08-27</td>\n      <td>A</td>\n      <td>25.50</td>\n      <td>25.5700</td>\n      <td>25.230</td>\n      <td>25.54</td>\n      <td>70176</td>\n      <td>8</td>\n    </tr>\n    <tr>\n      <th>...</th>\n      <td>...</td>\n      <td>...</td>\n      <td>...</td>\n      <td>...</td>\n      <td>...</td>\n      <td>...</td>\n      <td>...</td>\n      <td>...</td>\n    </tr>\n    <tr>\n      <th>122569</th>\n      <td>2010-08-13</td>\n      <td>ZMH</td>\n      <td>51.72</td>\n      <td>51.9000</td>\n      <td>51.380</td>\n      <td>51.44</td>\n      <td>14561</td>\n      <td>8</td>\n    </tr>\n    <tr>\n      <th>122570</th>\n      <td>2010-08-16</td>\n      <td>ZMH</td>\n      <td>51.13</td>\n      <td>51.4700</td>\n      <td>50.600</td>\n      <td>51.00</td>\n      <td>13489</td>\n      <td>8</td>\n    </tr>\n    <tr>\n      <th>122571</th>\n      <td>2010-08-17</td>\n      <td>ZMH</td>\n      <td>51.14</td>\n      <td>51.6000</td>\n      <td>50.890</td>\n      <td>51.21</td>\n      <td>20498</td>\n      <td>8</td>\n    </tr>\n    <tr>\n      <th>122572</th>\n      <td>2010-08-19</td>\n      <td>ZMH</td>\n      <td>51.63</td>\n      <td>51.6300</td>\n      <td>50.170</td>\n      <td>50.22</td>\n      <td>18259</td>\n      <td>8</td>\n    </tr>\n    <tr>\n      <th>122573</th>\n      <td>2010-08-20</td>\n      <td>ZMH</td>\n      <td>50.03</td>\n      <td>50.5500</td>\n      <td>49.480</td>\n      <td>49.82</td>\n      <td>17792</td>\n      <td>8</td>\n    </tr>\n  </tbody>\n</table>\n<p>122574 rows × 8 columns</p>\n</div>"
     },
     "execution_count": 926,
     "metadata": {},
     "output_type": "execute_result"
    }
   ],
   "source": [
    "sp500_df['month'] = sp500_df['date'].dt.month\n",
    "sp500_df"
   ],
   "metadata": {
    "collapsed": false,
    "pycharm": {
     "name": "#%%\n"
    }
   }
  },
  {
   "cell_type": "markdown",
   "metadata": {},
   "source": [
    "4. Рассчитайте суммарный объем торгов для одинаковых значений тикеров."
   ]
  },
  {
   "cell_type": "code",
   "execution_count": 927,
   "outputs": [
    {
     "data": {
      "text/plain": "ticker\nA        8609336\nAA      81898998\nAAPL    52261170\nABC      9006756\nABT     18975870\n          ...   \nXTO     21297931\nYHOO    56837171\nYUM     10971538\nZION    15551119\nZMH      4938916\nName: volume, Length: 524, dtype: int64"
     },
     "execution_count": 927,
     "metadata": {},
     "output_type": "execute_result"
    }
   ],
   "source": [
    "sp500_df.groupby('ticker')['volume'].sum()"
   ],
   "metadata": {
    "collapsed": false,
    "pycharm": {
     "name": "#%%\n"
    }
   }
  },
  {
   "cell_type": "markdown",
   "metadata": {},
   "source": [
    "5. Загрузите данные из файла sp500hst.txt и обозначьте столбцы в соответствии с содержимым: \"date\", \"ticker\", \"open\", \"high\", \"low\", \"close\", \"volume\". Добавьте столбец с расшифровкой названия тикера, используя данные из файла `sp_data2.csv` . В случае нехватки данных об именах тикеров корректно обработать их."
   ]
  },
  {
   "cell_type": "code",
   "execution_count": 928,
   "outputs": [
    {
     "data": {
      "text/plain": "             date ticker   open     high     low  close  volume  \\\n0      2009-08-21      A  25.60  25.6100  25.220  25.55   34758   \n1      2009-08-24      A  25.64  25.7400  25.330  25.50   22247   \n2      2009-08-25      A  25.50  25.7000  25.225  25.34   30891   \n3      2009-08-26      A  25.32  25.6425  25.145  25.48   33334   \n4      2009-08-27      A  25.50  25.5700  25.230  25.54   70176   \n...           ...    ...    ...      ...     ...    ...     ...   \n122569 2010-08-13    ZMH  51.72  51.9000  51.380  51.44   14561   \n122570 2010-08-16    ZMH  51.13  51.4700  50.600  51.00   13489   \n122571 2010-08-17    ZMH  51.14  51.6000  50.890  51.21   20498   \n122572 2010-08-19    ZMH  51.63  51.6300  50.170  50.22   18259   \n122573 2010-08-20    ZMH  50.03  50.5500  49.480  49.82   17792   \n\n                        name  \n0       Agilent Technologies  \n1       Agilent Technologies  \n2       Agilent Technologies  \n3       Agilent Technologies  \n4       Agilent Technologies  \n...                      ...  \n122569                   NaN  \n122570                   NaN  \n122571                   NaN  \n122572                   NaN  \n122573                   NaN  \n\n[122574 rows x 8 columns]",
      "text/html": "<div>\n<style scoped>\n    .dataframe tbody tr th:only-of-type {\n        vertical-align: middle;\n    }\n\n    .dataframe tbody tr th {\n        vertical-align: top;\n    }\n\n    .dataframe thead th {\n        text-align: right;\n    }\n</style>\n<table border=\"1\" class=\"dataframe\">\n  <thead>\n    <tr style=\"text-align: right;\">\n      <th></th>\n      <th>date</th>\n      <th>ticker</th>\n      <th>open</th>\n      <th>high</th>\n      <th>low</th>\n      <th>close</th>\n      <th>volume</th>\n      <th>name</th>\n    </tr>\n  </thead>\n  <tbody>\n    <tr>\n      <th>0</th>\n      <td>2009-08-21</td>\n      <td>A</td>\n      <td>25.60</td>\n      <td>25.6100</td>\n      <td>25.220</td>\n      <td>25.55</td>\n      <td>34758</td>\n      <td>Agilent Technologies</td>\n    </tr>\n    <tr>\n      <th>1</th>\n      <td>2009-08-24</td>\n      <td>A</td>\n      <td>25.64</td>\n      <td>25.7400</td>\n      <td>25.330</td>\n      <td>25.50</td>\n      <td>22247</td>\n      <td>Agilent Technologies</td>\n    </tr>\n    <tr>\n      <th>2</th>\n      <td>2009-08-25</td>\n      <td>A</td>\n      <td>25.50</td>\n      <td>25.7000</td>\n      <td>25.225</td>\n      <td>25.34</td>\n      <td>30891</td>\n      <td>Agilent Technologies</td>\n    </tr>\n    <tr>\n      <th>3</th>\n      <td>2009-08-26</td>\n      <td>A</td>\n      <td>25.32</td>\n      <td>25.6425</td>\n      <td>25.145</td>\n      <td>25.48</td>\n      <td>33334</td>\n      <td>Agilent Technologies</td>\n    </tr>\n    <tr>\n      <th>4</th>\n      <td>2009-08-27</td>\n      <td>A</td>\n      <td>25.50</td>\n      <td>25.5700</td>\n      <td>25.230</td>\n      <td>25.54</td>\n      <td>70176</td>\n      <td>Agilent Technologies</td>\n    </tr>\n    <tr>\n      <th>...</th>\n      <td>...</td>\n      <td>...</td>\n      <td>...</td>\n      <td>...</td>\n      <td>...</td>\n      <td>...</td>\n      <td>...</td>\n      <td>...</td>\n    </tr>\n    <tr>\n      <th>122569</th>\n      <td>2010-08-13</td>\n      <td>ZMH</td>\n      <td>51.72</td>\n      <td>51.9000</td>\n      <td>51.380</td>\n      <td>51.44</td>\n      <td>14561</td>\n      <td>NaN</td>\n    </tr>\n    <tr>\n      <th>122570</th>\n      <td>2010-08-16</td>\n      <td>ZMH</td>\n      <td>51.13</td>\n      <td>51.4700</td>\n      <td>50.600</td>\n      <td>51.00</td>\n      <td>13489</td>\n      <td>NaN</td>\n    </tr>\n    <tr>\n      <th>122571</th>\n      <td>2010-08-17</td>\n      <td>ZMH</td>\n      <td>51.14</td>\n      <td>51.6000</td>\n      <td>50.890</td>\n      <td>51.21</td>\n      <td>20498</td>\n      <td>NaN</td>\n    </tr>\n    <tr>\n      <th>122572</th>\n      <td>2010-08-19</td>\n      <td>ZMH</td>\n      <td>51.63</td>\n      <td>51.6300</td>\n      <td>50.170</td>\n      <td>50.22</td>\n      <td>18259</td>\n      <td>NaN</td>\n    </tr>\n    <tr>\n      <th>122573</th>\n      <td>2010-08-20</td>\n      <td>ZMH</td>\n      <td>50.03</td>\n      <td>50.5500</td>\n      <td>49.480</td>\n      <td>49.82</td>\n      <td>17792</td>\n      <td>NaN</td>\n    </tr>\n  </tbody>\n</table>\n<p>122574 rows × 8 columns</p>\n</div>"
     },
     "execution_count": 928,
     "metadata": {},
     "output_type": "execute_result"
    }
   ],
   "source": [
    "month = 'month'\n",
    "if month in sp500_df.columns:\n",
    "    sp500_df = sp500_df.drop(month, axis=1)\n",
    "\n",
    "sp500_names_df = pd.read_csv(\n",
    "    'sem/data/sp_data2.csv',\n",
    "    sep=';',\n",
    "    names=['ticker', 'name'],\n",
    "    usecols=[0, 1]\n",
    ")\n",
    "\n",
    "sp500_df = sp500_df.merge(sp500_names_df, on='ticker', how='left')\n",
    "sp500_df"
   ],
   "metadata": {
    "collapsed": false,
    "pycharm": {
     "name": "#%%\n"
    }
   }
  },
  {
   "cell_type": "markdown",
   "metadata": {},
   "source": [
    "## Лабораторная работа №2"
   ]
  },
  {
   "cell_type": "markdown",
   "metadata": {},
   "source": [
    "### Базовые операции с `DataFrame`"
   ]
  },
  {
   "cell_type": "markdown",
   "metadata": {},
   "source": [
    "1.1 В файлах `recipes_sample.csv` и `reviews_sample.csv` находится информация об рецептах блюд и отзывах на эти рецепты соответственно. Загрузите данные из файлов в виде `pd.DataFrame` с названиями `recipes` и `reviews`. Обратите внимание на корректное считывание столбца(ов) с индексами."
   ]
  },
  {
   "cell_type": "code",
   "execution_count": 929,
   "outputs": [
    {
     "name": "stdout",
     "output_type": "stream",
     "text": [
      "recipes_sample:\n",
      "                                       name     id  minutes  contributor_id  \\\n",
      "0     george s at the cove  black bean soup  44123       90           35193   \n",
      "1        healthy for them  yogurt popsicles  67664       10           91970   \n",
      "2              i can t believe it s spinach  38798       30            1533   \n",
      "3                      italian  gut busters  35173       45           22724   \n",
      "4  love is in the air  beef fondue   sauces  84797       25            4470   \n",
      "\n",
      "    submitted  n_steps                                        description  \\\n",
      "0  2002-10-25      NaN  an original recipe created by chef scott meska...   \n",
      "1  2003-07-26      NaN  my children and their friends ask for my homem...   \n",
      "2  2002-08-29      NaN            these were so go, it surprised even me.   \n",
      "3  2002-07-27      NaN  my sister-in-law made these for us at a family...   \n",
      "4  2004-02-23      4.0  i think a fondue is a very romantic casual din...   \n",
      "\n",
      "   n_ingredients  \n",
      "0           18.0  \n",
      "1            NaN  \n",
      "2            8.0  \n",
      "3            NaN  \n",
      "4            NaN  \n",
      "reviews_sample:\n",
      "           user_id  recipe_id       date  rating  \\\n",
      "370476       21752      57993 2003-05-01       5   \n",
      "624300      431813     142201 2007-09-16       5   \n",
      "187037      400708     252013 2008-01-10       4   \n",
      "706134  2001852463     404716 2017-12-11       5   \n",
      "312179       95810     129396 2008-03-14       5   \n",
      "\n",
      "                                                   review  \n",
      "370476  Last week whole sides of frozen salmon fillet ...  \n",
      "624300  So simple and so tasty!  I used a yellow capsi...  \n",
      "187037  Very nice breakfast HH, easy to make and yummy...  \n",
      "706134  These are a favorite for the holidays and so e...  \n",
      "312179  Excellent soup!  The tomato flavor is just gre...  \n"
     ]
    }
   ],
   "source": [
    "recipes_df = pd.read_csv('sem/data/recipes_sample.csv', sep=',')\n",
    "reviews_df = pd.read_csv('sem/data/reviews_sample.csv', sep=',', index_col=0, parse_dates=['date'])\n",
    "\n",
    "print(f'recipes_sample:\\n{recipes_df.head()}')\n",
    "print(f'reviews_sample:\\n{reviews_df.head()}')"
   ],
   "metadata": {
    "collapsed": false,
    "pycharm": {
     "name": "#%%\n"
    }
   }
  },
  {
   "cell_type": "markdown",
   "metadata": {},
   "source": [
    "1.2 Для каждой из таблиц выведите основные параметры:\n",
    "* количество точек данных (строк);\n",
    "* количество столбцов;\n",
    "* тип данных каждого столбца."
   ]
  },
  {
   "cell_type": "code",
   "execution_count": 930,
   "outputs": [
    {
     "name": "stdout",
     "output_type": "stream",
     "text": [
      "RECIPES_SAMPLE\n",
      "Кол-во строк: 30000\n",
      "Кол-во столбцов: 8\n",
      "dtypes: {'name': dtype('O'), 'id': dtype('int64'), 'minutes': dtype('int64'), 'contributor_id': dtype('int64'), 'submitted': dtype('O'), 'n_steps': dtype('float64'), 'description': dtype('O'), 'n_ingredients': dtype('float64')}\n",
      "\n",
      "REVIEWS_SAMPLE\n",
      "Кол-во строк: 126696\n",
      "Кол-во столбцов: 5\n",
      "dtypes: {'user_id': dtype('int64'), 'recipe_id': dtype('int64'), 'date': dtype('<M8[ns]'), 'rating': dtype('int64'), 'review': dtype('O')}\n",
      "\n"
     ]
    }
   ],
   "source": [
    "dfs = {\n",
    "    'recipes_sample': {\n",
    "        'name': 'recipes_sample',\n",
    "        'df': recipes_df\n",
    "    },\n",
    "    'reviews_sample': {\n",
    "        'name': 'reviews_sample',\n",
    "        'df': reviews_df\n",
    "    }\n",
    "}\n",
    "for key in dfs.keys():\n",
    "    name, df = dfs[key]['name'], dfs[key]['df']\n",
    "    print(name.upper())\n",
    "    print(f'Кол-во строк: {df.shape[0]}')\n",
    "    print(f'Кол-во столбцов: {df.shape[1]}')\n",
    "    print(f'dtypes: {df.dtypes.to_dict()}\\n')"
   ],
   "metadata": {
    "collapsed": false,
    "pycharm": {
     "name": "#%%\n"
    }
   }
  },
  {
   "cell_type": "markdown",
   "metadata": {},
   "source": [
    "1.3 Исследуйте, в каких столбцах таблиц содержатся пропуски. Посчитайте долю строк, содержащих пропуски, в отношении к общему количеству строк."
   ]
  },
  {
   "cell_type": "code",
   "execution_count": 931,
   "outputs": [
    {
     "name": "stdout",
     "output_type": "stream",
     "text": [
      "RECIPES_SAMPLE\n",
      "Столбцы с пропусками:\n",
      "n_steps          11190\n",
      "description        623\n",
      "n_ingredients     8880\n",
      "dtype: int64\n",
      "Доля строк с пропусками: 0.5684666666666667\n",
      "\n",
      "REVIEWS_SAMPLE\n",
      "Столбцы с пропусками:\n",
      "review    17\n",
      "dtype: int64\n",
      "Доля строк с пропусками: 0.00013417945317926376\n",
      "\n"
     ]
    }
   ],
   "source": [
    "for key in dfs.keys():\n",
    "    name, df = dfs[key]['name'], dfs[key]['df']\n",
    "    print(name.upper())\n",
    "\n",
    "    cols_with_null = df.isna().sum()\n",
    "    cols_with_null = cols_with_null[cols_with_null != 0]\n",
    "    print(f'Столбцы с пропусками:\\n{cols_with_null}')\n",
    "\n",
    "    total_rows = df.shape[0]\n",
    "    rows_with_null = df.isna().sum(axis=1).astype(bool).sum()\n",
    "    print(f'Доля строк с пропусками: {rows_with_null / total_rows}\\n')"
   ],
   "metadata": {
    "collapsed": false,
    "pycharm": {
     "name": "#%%\n"
    }
   }
  },
  {
   "cell_type": "markdown",
   "metadata": {},
   "source": [
    "1.4 Рассчитайте среднее значение для каждого из числовых столбцов (где это имеет смысл)."
   ]
  },
  {
   "cell_type": "code",
   "execution_count": 932,
   "outputs": [
    {
     "name": "stdout",
     "output_type": "stream",
     "text": [
      "RECIPES_SAMPLE\n",
      "Среднее:\n",
      "minutes          123.358133\n",
      "n_steps            9.805582\n",
      "n_ingredients      9.008286\n",
      "dtype: float64\n",
      "\n",
      "REVIEWS_SAMPLE\n",
      "Среднее:\n",
      "rating    4.410802\n",
      "dtype: float64\n",
      "\n"
     ]
    }
   ],
   "source": [
    "dfs['recipes_sample']['meaningful_numerics'] = ['minutes', 'n_steps', 'n_ingredients']\n",
    "dfs['reviews_sample']['meaningful_numerics'] = ['rating']\n",
    "\n",
    "for key in dfs.keys():\n",
    "    name, df = dfs[key]['name'], dfs[key]['df']\n",
    "    meaningful_numerics = dfs[key]['meaningful_numerics']\n",
    "    print(name.upper())\n",
    "\n",
    "    print(f'Среднее:\\n{df[meaningful_numerics].mean()}\\n')"
   ],
   "metadata": {
    "collapsed": false,
    "pycharm": {
     "name": "#%%\n"
    }
   }
  },
  {
   "cell_type": "markdown",
   "metadata": {},
   "source": [
    "1.5 Создайте серию из 10 случайных названий рецептов."
   ]
  },
  {
   "cell_type": "code",
   "execution_count": 933,
   "outputs": [
    {
     "name": "stdout",
     "output_type": "stream",
     "text": [
      "10 случайных названий рецептов:\n",
      "1452             autumn chicken with harvest vegetables\n",
      "19786                 panera bread broccoli cheese soup\n",
      "17572                   michele s chicken tortilla soup\n",
      "795                              apple   walnut muffins\n",
      "5199                  cheesehead cream of broccoli soup\n",
      "6676                           chocolate mousse dessert\n",
      "2059     balsamic marinated grilled eggplant  aubergine\n",
      "2334       barley   mushroom stuffed green bell peppers\n",
      "10780                     fast and easy caramel popcorn\n",
      "19                                  healthy  fried rice\n",
      "Name: name, dtype: object\n"
     ]
    }
   ],
   "source": [
    "recipes_sample = recipes_df['name'].sample(10)\n",
    "\n",
    "print(f'10 случайных названий рецептов:\\n{recipes_sample}')"
   ],
   "metadata": {
    "collapsed": false,
    "pycharm": {
     "name": "#%%\n"
    }
   }
  },
  {
   "cell_type": "markdown",
   "metadata": {},
   "source": [
    "1.6 Измените индекс в таблице `reviews`, пронумеровав строки, начиная с нуля."
   ]
  },
  {
   "cell_type": "code",
   "execution_count": 934,
   "outputs": [
    {
     "data": {
      "text/plain": "           user_id  recipe_id       date  rating  \\\n0            21752      57993 2003-05-01       5   \n1           431813     142201 2007-09-16       5   \n2           400708     252013 2008-01-10       4   \n3       2001852463     404716 2017-12-11       5   \n4            95810     129396 2008-03-14       5   \n...            ...        ...        ...     ...   \n126691     1270706     335534 2009-05-17       4   \n126692     2282344       8701 2012-06-03       0   \n126693      689540     222001 2008-04-08       5   \n126694  2000242659     354979 2015-06-02       5   \n126695      463435     415599 2010-09-30       5   \n\n                                                   review  \n0       Last week whole sides of frozen salmon fillet ...  \n1       So simple and so tasty!  I used a yellow capsi...  \n2       Very nice breakfast HH, easy to make and yummy...  \n3       These are a favorite for the holidays and so e...  \n4       Excellent soup!  The tomato flavor is just gre...  \n...                                                   ...  \n126691  This recipe was great! I made it last night. I...  \n126692  This recipe is outstanding. I followed the rec...  \n126693  Well, we were not a crowd but it was a fabulou...  \n126694  I have been a steak eater and dedicated BBQ gr...  \n126695  Wonderful and simple to prepare seasoning blen...  \n\n[126696 rows x 5 columns]",
      "text/html": "<div>\n<style scoped>\n    .dataframe tbody tr th:only-of-type {\n        vertical-align: middle;\n    }\n\n    .dataframe tbody tr th {\n        vertical-align: top;\n    }\n\n    .dataframe thead th {\n        text-align: right;\n    }\n</style>\n<table border=\"1\" class=\"dataframe\">\n  <thead>\n    <tr style=\"text-align: right;\">\n      <th></th>\n      <th>user_id</th>\n      <th>recipe_id</th>\n      <th>date</th>\n      <th>rating</th>\n      <th>review</th>\n    </tr>\n  </thead>\n  <tbody>\n    <tr>\n      <th>0</th>\n      <td>21752</td>\n      <td>57993</td>\n      <td>2003-05-01</td>\n      <td>5</td>\n      <td>Last week whole sides of frozen salmon fillet ...</td>\n    </tr>\n    <tr>\n      <th>1</th>\n      <td>431813</td>\n      <td>142201</td>\n      <td>2007-09-16</td>\n      <td>5</td>\n      <td>So simple and so tasty!  I used a yellow capsi...</td>\n    </tr>\n    <tr>\n      <th>2</th>\n      <td>400708</td>\n      <td>252013</td>\n      <td>2008-01-10</td>\n      <td>4</td>\n      <td>Very nice breakfast HH, easy to make and yummy...</td>\n    </tr>\n    <tr>\n      <th>3</th>\n      <td>2001852463</td>\n      <td>404716</td>\n      <td>2017-12-11</td>\n      <td>5</td>\n      <td>These are a favorite for the holidays and so e...</td>\n    </tr>\n    <tr>\n      <th>4</th>\n      <td>95810</td>\n      <td>129396</td>\n      <td>2008-03-14</td>\n      <td>5</td>\n      <td>Excellent soup!  The tomato flavor is just gre...</td>\n    </tr>\n    <tr>\n      <th>...</th>\n      <td>...</td>\n      <td>...</td>\n      <td>...</td>\n      <td>...</td>\n      <td>...</td>\n    </tr>\n    <tr>\n      <th>126691</th>\n      <td>1270706</td>\n      <td>335534</td>\n      <td>2009-05-17</td>\n      <td>4</td>\n      <td>This recipe was great! I made it last night. I...</td>\n    </tr>\n    <tr>\n      <th>126692</th>\n      <td>2282344</td>\n      <td>8701</td>\n      <td>2012-06-03</td>\n      <td>0</td>\n      <td>This recipe is outstanding. I followed the rec...</td>\n    </tr>\n    <tr>\n      <th>126693</th>\n      <td>689540</td>\n      <td>222001</td>\n      <td>2008-04-08</td>\n      <td>5</td>\n      <td>Well, we were not a crowd but it was a fabulou...</td>\n    </tr>\n    <tr>\n      <th>126694</th>\n      <td>2000242659</td>\n      <td>354979</td>\n      <td>2015-06-02</td>\n      <td>5</td>\n      <td>I have been a steak eater and dedicated BBQ gr...</td>\n    </tr>\n    <tr>\n      <th>126695</th>\n      <td>463435</td>\n      <td>415599</td>\n      <td>2010-09-30</td>\n      <td>5</td>\n      <td>Wonderful and simple to prepare seasoning blen...</td>\n    </tr>\n  </tbody>\n</table>\n<p>126696 rows × 5 columns</p>\n</div>"
     },
     "execution_count": 934,
     "metadata": {},
     "output_type": "execute_result"
    }
   ],
   "source": [
    "reviews_df = reviews_df.reset_index(drop=True)\n",
    "reviews_df"
   ],
   "metadata": {
    "collapsed": false,
    "pycharm": {
     "name": "#%%\n"
    }
   }
  },
  {
   "cell_type": "markdown",
   "metadata": {},
   "source": [
    "1.7 Выведите информацию о рецептах, время выполнения которых не больше 20 минут и кол-во ингредиентов в которых не больше 5."
   ]
  },
  {
   "cell_type": "code",
   "execution_count": 935,
   "outputs": [
    {
     "name": "stdout",
     "output_type": "stream",
     "text": [
      "Рецепты, время выполнения не больше 20 минут и кол-во ингредиентов в которых не больше 5:\n",
      "                                                    name      id  minutes  \\\n",
      "28                                   quick biscuit bread  302399       20   \n",
      "60                         peas  fit for a king or queen  303944       20   \n",
      "90                     hawaiian sunrise           mimosa  100837        5   \n",
      "91            tasty dish s   banana pudding in 2 minutes  286484        2   \n",
      "94                                    1 minute meatballs   11361       13   \n",
      "...                                                  ...     ...      ...   \n",
      "29873  zip and steam red potatoes with butter and garlic  304922       13   \n",
      "29874                          ziplock vanilla ice cream   74250       10   \n",
      "29905                      zucchini and corn with cheese  256177       15   \n",
      "29980               zucchini with jalapeno monterey jack  320622       10   \n",
      "29983                          zucchini with serrano ham  162411       15   \n",
      "\n",
      "       contributor_id   submitted  n_steps  \\\n",
      "28             213909  2008-05-06     11.0   \n",
      "60             213909  2008-05-16      NaN   \n",
      "90              58104  2004-09-29      4.0   \n",
      "91              47892  2008-02-13      NaN   \n",
      "94               4470  2001-09-03      NaN   \n",
      "...               ...         ...      ...   \n",
      "29873          724218  2008-05-27      9.0   \n",
      "29874           24386  2003-10-29      8.0   \n",
      "29905          305531  2007-09-29      4.0   \n",
      "29980          305531  2008-08-20      3.0   \n",
      "29983          152500  2006-03-31      6.0   \n",
      "\n",
      "                                             description  n_ingredients  \n",
      "28     this is a wonderful quick bread to make as an ...            5.0  \n",
      "60     this recipe is so simple and the flavors are s...            5.0  \n",
      "90     pineapple mimosa was changed to hawaiian sunri...            3.0  \n",
      "91     \"mmmm, i love bananas!\" a --tasty dish-- origi...            4.0  \n",
      "94     this is a real short cut for cooks in a hurry....            2.0  \n",
      "...                                                  ...            ...  \n",
      "29873  i haven't tried this yet, but i am going to so...            5.0  \n",
      "29874  a fun thing for kids to do. may want to use mi...            3.0  \n",
      "29905  from betty crocker fresh spring recipes. i lik...            5.0  \n",
      "29980                                  simple and yummy!            3.0  \n",
      "29983  this dish is from tim malzer, a german chef wh...            5.0  \n",
      "\n",
      "[2019 rows x 8 columns]\n"
     ]
    }
   ],
   "source": [
    "mask = (recipes_df['minutes'] <= 20) & (recipes_df['n_ingredients'] <= 5)\n",
    "\n",
    "print(f'Рецепты, время выполнения не больше 20 минут и кол-во ингредиентов в которых не больше 5:\\n'\n",
    "      f'{recipes_df[mask]}')"
   ],
   "metadata": {
    "collapsed": false,
    "pycharm": {
     "name": "#%%\n"
    }
   }
  },
  {
   "cell_type": "markdown",
   "metadata": {},
   "source": [
    "### Работа с датами в `pandas`"
   ]
  },
  {
   "cell_type": "markdown",
   "metadata": {},
   "source": [
    "2.1 Преобразуйте столбец `submitted` из таблицы `recipes` в формат времени. Модифицируйте решение задачи 1.1 так, чтобы считать столбец сразу в нужном формате."
   ]
  },
  {
   "cell_type": "code",
   "execution_count": 936,
   "outputs": [
    {
     "data": {
      "text/plain": "                                               name      id  minutes  \\\n0             george s at the cove  black bean soup   44123       90   \n1                healthy for them  yogurt popsicles   67664       10   \n2                      i can t believe it s spinach   38798       30   \n3                              italian  gut busters   35173       45   \n4          love is in the air  beef fondue   sauces   84797       25   \n...                                             ...     ...      ...   \n29995  zurie s holey rustic olive and cheddar bread  267661       80   \n29996          zwetschgenkuchen  bavarian plum cake  386977      240   \n29997   zwiebelkuchen   southwest german onion cake  103312       75   \n29998                                   zydeco soup  486161       60   \n29999        cookies by design   cookies on a stick  298512       29   \n\n       contributor_id  submitted  n_steps  \\\n0               35193 2002-10-25      NaN   \n1               91970 2003-07-26      NaN   \n2                1533 2002-08-29      NaN   \n3               22724 2002-07-27      NaN   \n4                4470 2004-02-23      4.0   \n...               ...        ...      ...   \n29995          200862 2007-11-25     16.0   \n29996          177443 2009-08-24      NaN   \n29997          161745 2004-11-03      NaN   \n29998          227978 2012-08-29      NaN   \n29999          506822 2008-04-15      9.0   \n\n                                             description  n_ingredients  \n0      an original recipe created by chef scott meska...           18.0  \n1      my children and their friends ask for my homem...            NaN  \n2                these were so go, it surprised even me.            8.0  \n3      my sister-in-law made these for us at a family...            NaN  \n4      i think a fondue is a very romantic casual din...            NaN  \n...                                                  ...            ...  \n29995  this is based on a french recipe but i changed...           10.0  \n29996  this is a traditional fresh plum cake, thought...           11.0  \n29997  this is a traditional late summer early fall s...            NaN  \n29998  this is a delicious soup that i originally fou...            NaN  \n29999  i've heard of the 'cookies by design' company,...           10.0  \n\n[30000 rows x 8 columns]",
      "text/html": "<div>\n<style scoped>\n    .dataframe tbody tr th:only-of-type {\n        vertical-align: middle;\n    }\n\n    .dataframe tbody tr th {\n        vertical-align: top;\n    }\n\n    .dataframe thead th {\n        text-align: right;\n    }\n</style>\n<table border=\"1\" class=\"dataframe\">\n  <thead>\n    <tr style=\"text-align: right;\">\n      <th></th>\n      <th>name</th>\n      <th>id</th>\n      <th>minutes</th>\n      <th>contributor_id</th>\n      <th>submitted</th>\n      <th>n_steps</th>\n      <th>description</th>\n      <th>n_ingredients</th>\n    </tr>\n  </thead>\n  <tbody>\n    <tr>\n      <th>0</th>\n      <td>george s at the cove  black bean soup</td>\n      <td>44123</td>\n      <td>90</td>\n      <td>35193</td>\n      <td>2002-10-25</td>\n      <td>NaN</td>\n      <td>an original recipe created by chef scott meska...</td>\n      <td>18.0</td>\n    </tr>\n    <tr>\n      <th>1</th>\n      <td>healthy for them  yogurt popsicles</td>\n      <td>67664</td>\n      <td>10</td>\n      <td>91970</td>\n      <td>2003-07-26</td>\n      <td>NaN</td>\n      <td>my children and their friends ask for my homem...</td>\n      <td>NaN</td>\n    </tr>\n    <tr>\n      <th>2</th>\n      <td>i can t believe it s spinach</td>\n      <td>38798</td>\n      <td>30</td>\n      <td>1533</td>\n      <td>2002-08-29</td>\n      <td>NaN</td>\n      <td>these were so go, it surprised even me.</td>\n      <td>8.0</td>\n    </tr>\n    <tr>\n      <th>3</th>\n      <td>italian  gut busters</td>\n      <td>35173</td>\n      <td>45</td>\n      <td>22724</td>\n      <td>2002-07-27</td>\n      <td>NaN</td>\n      <td>my sister-in-law made these for us at a family...</td>\n      <td>NaN</td>\n    </tr>\n    <tr>\n      <th>4</th>\n      <td>love is in the air  beef fondue   sauces</td>\n      <td>84797</td>\n      <td>25</td>\n      <td>4470</td>\n      <td>2004-02-23</td>\n      <td>4.0</td>\n      <td>i think a fondue is a very romantic casual din...</td>\n      <td>NaN</td>\n    </tr>\n    <tr>\n      <th>...</th>\n      <td>...</td>\n      <td>...</td>\n      <td>...</td>\n      <td>...</td>\n      <td>...</td>\n      <td>...</td>\n      <td>...</td>\n      <td>...</td>\n    </tr>\n    <tr>\n      <th>29995</th>\n      <td>zurie s holey rustic olive and cheddar bread</td>\n      <td>267661</td>\n      <td>80</td>\n      <td>200862</td>\n      <td>2007-11-25</td>\n      <td>16.0</td>\n      <td>this is based on a french recipe but i changed...</td>\n      <td>10.0</td>\n    </tr>\n    <tr>\n      <th>29996</th>\n      <td>zwetschgenkuchen  bavarian plum cake</td>\n      <td>386977</td>\n      <td>240</td>\n      <td>177443</td>\n      <td>2009-08-24</td>\n      <td>NaN</td>\n      <td>this is a traditional fresh plum cake, thought...</td>\n      <td>11.0</td>\n    </tr>\n    <tr>\n      <th>29997</th>\n      <td>zwiebelkuchen   southwest german onion cake</td>\n      <td>103312</td>\n      <td>75</td>\n      <td>161745</td>\n      <td>2004-11-03</td>\n      <td>NaN</td>\n      <td>this is a traditional late summer early fall s...</td>\n      <td>NaN</td>\n    </tr>\n    <tr>\n      <th>29998</th>\n      <td>zydeco soup</td>\n      <td>486161</td>\n      <td>60</td>\n      <td>227978</td>\n      <td>2012-08-29</td>\n      <td>NaN</td>\n      <td>this is a delicious soup that i originally fou...</td>\n      <td>NaN</td>\n    </tr>\n    <tr>\n      <th>29999</th>\n      <td>cookies by design   cookies on a stick</td>\n      <td>298512</td>\n      <td>29</td>\n      <td>506822</td>\n      <td>2008-04-15</td>\n      <td>9.0</td>\n      <td>i've heard of the 'cookies by design' company,...</td>\n      <td>10.0</td>\n    </tr>\n  </tbody>\n</table>\n<p>30000 rows × 8 columns</p>\n</div>"
     },
     "execution_count": 936,
     "metadata": {},
     "output_type": "execute_result"
    }
   ],
   "source": [
    "recipes_df = pd.read_csv('sem/data/recipes_sample.csv', sep=',', parse_dates=['submitted'])\n",
    "recipes_df"
   ],
   "metadata": {
    "collapsed": false,
    "pycharm": {
     "name": "#%%\n"
    }
   }
  },
  {
   "cell_type": "markdown",
   "metadata": {},
   "source": [
    "2.2 Выведите информацию о рецептах, добавленных в датасет не позже 2010 года."
   ]
  },
  {
   "cell_type": "code",
   "execution_count": 937,
   "outputs": [
    {
     "name": "stdout",
     "output_type": "stream",
     "text": [
      "Рецепты, добавленные позже 2010 года:\n",
      "                                                    name      id  minutes  \\\n",
      "12177  gluten free  yeast free sandwich and hamburger...  445211       30   \n",
      "13863            homemade ginger cardamom soda with lime  445235       10   \n",
      "6070                      chicken with haloumi and honey  445244       35   \n",
      "23548                   sauteed yam with ginger and lime  445255       50   \n",
      "7391                cold sesame noodles   tyler florence  445486       30   \n",
      "...                                                  ...     ...      ...   \n",
      "4932                                 cauliflower ceviche  536547       45   \n",
      "17803                      miracle home made puff pastry  536610       35   \n",
      "12124                              gluten free  vegemite  536728        2   \n",
      "8442                        creole watermelon feta salad  536729       10   \n",
      "15938                                 lemon pom pom cake  536747      210   \n",
      "\n",
      "       contributor_id  submitted  n_steps  \\\n",
      "12177           28177 2011-01-01     15.0   \n",
      "13863           37449 2011-01-01      NaN   \n",
      "6070           315565 2011-01-02      5.0   \n",
      "23548          542159 2011-01-02      8.0   \n",
      "7391           714468 2011-01-03     15.0   \n",
      "...               ...        ...      ...   \n",
      "4932       2002234079 2018-07-30     15.0   \n",
      "17803      2002234259 2018-07-31     17.0   \n",
      "12124         1052873 2018-08-11      NaN   \n",
      "8442          1052873 2018-08-11      4.0   \n",
      "15938      2002247884 2018-08-15     51.0   \n",
      "\n",
      "                                             description  n_ingredients  \n",
      "12177  note (10/24/15):  i do not recommend this reci...            5.0  \n",
      "13863  this is a good recipe, and can be changed up w...            NaN  \n",
      "6070   another ? donna hay recipe torn out of a magaz...            6.0  \n",
      "23548               these yams make a nice side to pork.            NaN  \n",
      "7391                                  from eat this book           16.0  \n",
      "...                                                  ...            ...  \n",
      "4932   a healthy ceviche - a perfect appetizer for pa...            8.0  \n",
      "17803  puff pastry that you can make in minutes? at h...            NaN  \n",
      "12124                   gluten free vegemite-like stuff.            3.0  \n",
      "8442   spicy watermelon salad. from tony chachere's s...            NaN  \n",
      "15938  by far one of my most joyous cake creations, t...           20.0  \n",
      "\n",
      "[2339 rows x 8 columns]\n"
     ]
    }
   ],
   "source": [
    "mask = recipes_df['submitted'] >= pd.to_datetime('01.01.2011', format='%d.%m.%Y')\n",
    "gte_submitted = recipes_df[mask]\n",
    "\n",
    "print(f'Рецепты, добавленные позже 2010 года:'\n",
    "      f'\\n{gte_submitted.sort_values(by=\"submitted\")}')"
   ],
   "metadata": {
    "collapsed": false,
    "pycharm": {
     "name": "#%%\n"
    }
   }
  },
  {
   "cell_type": "markdown",
   "metadata": {},
   "source": [
    "### Работа со строковыми данными в `pandas`"
   ]
  },
  {
   "cell_type": "markdown",
   "metadata": {},
   "source": [
    "3.1 Добавьте в таблицу `recipes` столбец `description_length`, в котором хранится длина описания рецепта из столбца `description`."
   ]
  },
  {
   "cell_type": "code",
   "execution_count": 938,
   "outputs": [
    {
     "name": "stdout",
     "output_type": "stream",
     "text": [
      "Со столбцом description_length:\n",
      "                                               name      id  minutes  \\\n",
      "0             george s at the cove  black bean soup   44123       90   \n",
      "1                healthy for them  yogurt popsicles   67664       10   \n",
      "2                      i can t believe it s spinach   38798       30   \n",
      "3                              italian  gut busters   35173       45   \n",
      "4          love is in the air  beef fondue   sauces   84797       25   \n",
      "...                                             ...     ...      ...   \n",
      "29995  zurie s holey rustic olive and cheddar bread  267661       80   \n",
      "29996          zwetschgenkuchen  bavarian plum cake  386977      240   \n",
      "29997   zwiebelkuchen   southwest german onion cake  103312       75   \n",
      "29998                                   zydeco soup  486161       60   \n",
      "29999        cookies by design   cookies on a stick  298512       29   \n",
      "\n",
      "       contributor_id  submitted  n_steps  \\\n",
      "0               35193 2002-10-25      NaN   \n",
      "1               91970 2003-07-26      NaN   \n",
      "2                1533 2002-08-29      NaN   \n",
      "3               22724 2002-07-27      NaN   \n",
      "4                4470 2004-02-23      4.0   \n",
      "...               ...        ...      ...   \n",
      "29995          200862 2007-11-25     16.0   \n",
      "29996          177443 2009-08-24      NaN   \n",
      "29997          161745 2004-11-03      NaN   \n",
      "29998          227978 2012-08-29      NaN   \n",
      "29999          506822 2008-04-15      9.0   \n",
      "\n",
      "                                             description  n_ingredients  \\\n",
      "0      an original recipe created by chef scott meska...           18.0   \n",
      "1      my children and their friends ask for my homem...            NaN   \n",
      "2                these were so go, it surprised even me.            8.0   \n",
      "3      my sister-in-law made these for us at a family...            NaN   \n",
      "4      i think a fondue is a very romantic casual din...            NaN   \n",
      "...                                                  ...            ...   \n",
      "29995  this is based on a french recipe but i changed...           10.0   \n",
      "29996  this is a traditional fresh plum cake, thought...           11.0   \n",
      "29997  this is a traditional late summer early fall s...            NaN   \n",
      "29998  this is a delicious soup that i originally fou...            NaN   \n",
      "29999  i've heard of the 'cookies by design' company,...           10.0   \n",
      "\n",
      "       description_length  \n",
      "0                   330.0  \n",
      "1                   255.0  \n",
      "2                    39.0  \n",
      "3                   154.0  \n",
      "4                   587.0  \n",
      "...                   ...  \n",
      "29995               484.0  \n",
      "29996               286.0  \n",
      "29997               311.0  \n",
      "29998               648.0  \n",
      "29999               125.0  \n",
      "\n",
      "[30000 rows x 9 columns]\n"
     ]
    }
   ],
   "source": [
    "description_length = recipes_df['description'].str.len()\n",
    "recipes_df['description_length'] = description_length\n",
    "\n",
    "print(f'Со столбцом description_length:\\n{recipes_df}')"
   ],
   "metadata": {
    "collapsed": false,
    "pycharm": {
     "name": "#%%\n"
    }
   }
  },
  {
   "cell_type": "markdown",
   "metadata": {},
   "source": [
    "3.2 Измените название каждого рецепта в таблице `recipes` таким образом, чтобы каждое слово в названии начиналось с прописной буквы."
   ]
  },
  {
   "cell_type": "code",
   "execution_count": 939,
   "outputs": [
    {
     "name": "stdout",
     "output_type": "stream",
     "text": [
      "                                               name      id  minutes  \\\n",
      "0             George S At The Cove  Black Bean Soup   44123       90   \n",
      "1                Healthy For Them  Yogurt Popsicles   67664       10   \n",
      "2                      I Can T Believe It S Spinach   38798       30   \n",
      "3                              Italian  Gut Busters   35173       45   \n",
      "4          Love Is In The Air  Beef Fondue   Sauces   84797       25   \n",
      "...                                             ...     ...      ...   \n",
      "29995  Zurie S Holey Rustic Olive And Cheddar Bread  267661       80   \n",
      "29996          Zwetschgenkuchen  Bavarian Plum Cake  386977      240   \n",
      "29997   Zwiebelkuchen   Southwest German Onion Cake  103312       75   \n",
      "29998                                   Zydeco Soup  486161       60   \n",
      "29999        Cookies By Design   Cookies On A Stick  298512       29   \n",
      "\n",
      "       contributor_id  submitted  n_steps  \\\n",
      "0               35193 2002-10-25      NaN   \n",
      "1               91970 2003-07-26      NaN   \n",
      "2                1533 2002-08-29      NaN   \n",
      "3               22724 2002-07-27      NaN   \n",
      "4                4470 2004-02-23      4.0   \n",
      "...               ...        ...      ...   \n",
      "29995          200862 2007-11-25     16.0   \n",
      "29996          177443 2009-08-24      NaN   \n",
      "29997          161745 2004-11-03      NaN   \n",
      "29998          227978 2012-08-29      NaN   \n",
      "29999          506822 2008-04-15      9.0   \n",
      "\n",
      "                                             description  n_ingredients  \\\n",
      "0      an original recipe created by chef scott meska...           18.0   \n",
      "1      my children and their friends ask for my homem...            NaN   \n",
      "2                these were so go, it surprised even me.            8.0   \n",
      "3      my sister-in-law made these for us at a family...            NaN   \n",
      "4      i think a fondue is a very romantic casual din...            NaN   \n",
      "...                                                  ...            ...   \n",
      "29995  this is based on a french recipe but i changed...           10.0   \n",
      "29996  this is a traditional fresh plum cake, thought...           11.0   \n",
      "29997  this is a traditional late summer early fall s...            NaN   \n",
      "29998  this is a delicious soup that i originally fou...            NaN   \n",
      "29999  i've heard of the 'cookies by design' company,...           10.0   \n",
      "\n",
      "       description_length  \n",
      "0                   330.0  \n",
      "1                   255.0  \n",
      "2                    39.0  \n",
      "3                   154.0  \n",
      "4                   587.0  \n",
      "...                   ...  \n",
      "29995               484.0  \n",
      "29996               286.0  \n",
      "29997               311.0  \n",
      "29998               648.0  \n",
      "29999               125.0  \n",
      "\n",
      "[30000 rows x 9 columns]\n"
     ]
    }
   ],
   "source": [
    "recipes_df['name'] = recipes_df['name'].str.title()\n",
    "print(recipes_df)"
   ],
   "metadata": {
    "collapsed": false,
    "pycharm": {
     "name": "#%%\n"
    }
   }
  },
  {
   "cell_type": "markdown",
   "metadata": {},
   "source": [
    "3.3 Добавьте в таблицу `recipes` столбец `name_word_count`, в котором хранится количество слов из названия рецепта (считайте, что слова в названии разделяются только пробелами)."
   ]
  },
  {
   "cell_type": "code",
   "execution_count": 940,
   "outputs": [
    {
     "name": "stdout",
     "output_type": "stream",
     "text": [
      "Со столбцом description_length:\n",
      "                                               name      id  minutes  \\\n",
      "0             George S At The Cove  Black Bean Soup   44123       90   \n",
      "1                Healthy For Them  Yogurt Popsicles   67664       10   \n",
      "2                      I Can T Believe It S Spinach   38798       30   \n",
      "3                              Italian  Gut Busters   35173       45   \n",
      "4          Love Is In The Air  Beef Fondue   Sauces   84797       25   \n",
      "...                                             ...     ...      ...   \n",
      "29995  Zurie S Holey Rustic Olive And Cheddar Bread  267661       80   \n",
      "29996          Zwetschgenkuchen  Bavarian Plum Cake  386977      240   \n",
      "29997   Zwiebelkuchen   Southwest German Onion Cake  103312       75   \n",
      "29998                                   Zydeco Soup  486161       60   \n",
      "29999        Cookies By Design   Cookies On A Stick  298512       29   \n",
      "\n",
      "       contributor_id  submitted  n_steps  \\\n",
      "0               35193 2002-10-25      NaN   \n",
      "1               91970 2003-07-26      NaN   \n",
      "2                1533 2002-08-29      NaN   \n",
      "3               22724 2002-07-27      NaN   \n",
      "4                4470 2004-02-23      4.0   \n",
      "...               ...        ...      ...   \n",
      "29995          200862 2007-11-25     16.0   \n",
      "29996          177443 2009-08-24      NaN   \n",
      "29997          161745 2004-11-03      NaN   \n",
      "29998          227978 2012-08-29      NaN   \n",
      "29999          506822 2008-04-15      9.0   \n",
      "\n",
      "                                             description  n_ingredients  \\\n",
      "0      an original recipe created by chef scott meska...           18.0   \n",
      "1      my children and their friends ask for my homem...            NaN   \n",
      "2                these were so go, it surprised even me.            8.0   \n",
      "3      my sister-in-law made these for us at a family...            NaN   \n",
      "4      i think a fondue is a very romantic casual din...            NaN   \n",
      "...                                                  ...            ...   \n",
      "29995  this is based on a french recipe but i changed...           10.0   \n",
      "29996  this is a traditional fresh plum cake, thought...           11.0   \n",
      "29997  this is a traditional late summer early fall s...            NaN   \n",
      "29998  this is a delicious soup that i originally fou...            NaN   \n",
      "29999  i've heard of the 'cookies by design' company,...           10.0   \n",
      "\n",
      "       description_length  name_word_count  \n",
      "0                   330.0                8  \n",
      "1                   255.0                5  \n",
      "2                    39.0                7  \n",
      "3                   154.0                3  \n",
      "4                   587.0                8  \n",
      "...                   ...              ...  \n",
      "29995               484.0                8  \n",
      "29996               286.0                4  \n",
      "29997               311.0                5  \n",
      "29998               648.0                2  \n",
      "29999               125.0                7  \n",
      "\n",
      "[30000 rows x 10 columns]\n"
     ]
    }
   ],
   "source": [
    "recipes_df['name_word_count'] = recipes_df['name'].str.split(' ').apply(\n",
    "    lambda x: len([i for i in x if i])\n",
    ")\n",
    "\n",
    "print(f'Со столбцом description_length:\\n{recipes_df}')"
   ],
   "metadata": {
    "collapsed": false,
    "pycharm": {
     "name": "#%%\n"
    }
   }
  },
  {
   "cell_type": "markdown",
   "metadata": {},
   "source": [
    "### Группировки таблиц `pd.DataFrame`"
   ]
  },
  {
   "cell_type": "markdown",
   "metadata": {},
   "source": [
    "4.1 Посчитайте количество рецептов, представленных каждым из участников (`contributor_id`). Какой участник добавил максимальное кол-во рецептов?"
   ]
  },
  {
   "cell_type": "code",
   "execution_count": 941,
   "outputs": [
    {
     "name": "stdout",
     "output_type": "stream",
     "text": [
      "Кол-во рецептов, представленных участником:\n",
      "contributor_id\n",
      "1530            5\n",
      "1533          186\n",
      "1534           50\n",
      "1535           40\n",
      "1538            8\n",
      "             ... \n",
      "2001968497      2\n",
      "2002059754      1\n",
      "2002234079      1\n",
      "2002234259      1\n",
      "2002247884      1\n",
      "Name: id, Length: 8404, dtype: int64\n",
      "\n",
      "Максимальное кол-во рецептов добавил: contributor_id=1768\n"
     ]
    }
   ],
   "source": [
    "n_recipes_by_contributor = recipes_df.groupby('contributor_id')['id'].count()\n",
    "\n",
    "assert n_recipes_by_contributor.sum() == recipes_df.shape[0]\n",
    "\n",
    "print(f'Кол-во рецептов, представленных участником:\\n{n_recipes_by_contributor}')\n",
    "print(f'\\nМаксимальное кол-во рецептов добавил: contributor_id={n_recipes_by_contributor.argmax()}')"
   ],
   "metadata": {
    "collapsed": false,
    "pycharm": {
     "name": "#%%\n"
    }
   }
  },
  {
   "cell_type": "markdown",
   "metadata": {},
   "source": [
    "4.2 Посчитайте средний рейтинг к каждому из рецептов. Для скольких рецептов отсутствуют отзывы?"
   ]
  },
  {
   "cell_type": "code",
   "execution_count": 942,
   "outputs": [
    {
     "name": "stdout",
     "output_type": "stream",
     "text": [
      "Средний рейтинг:\n",
      "id\n",
      "48        1.000000\n",
      "55        4.750000\n",
      "66        4.944444\n",
      "91        4.750000\n",
      "94        5.000000\n",
      "            ...   \n",
      "536547    5.000000\n",
      "536610    0.000000\n",
      "536728    4.000000\n",
      "536729    4.750000\n",
      "536747    0.000000\n",
      "Name: rating, Length: 30000, dtype: float64\n",
      "\n",
      "Кол-во рецептов без отзывов: 1917\n"
     ]
    }
   ],
   "source": [
    "recipes_reviews_df = recipes_df.merge(reviews_df, how='left', left_on='id', right_on='recipe_id')\n",
    "groupby_recipe = recipes_reviews_df.groupby('id')\n",
    "\n",
    "mean_recipe_ratings = groupby_recipe['rating'].mean()\n",
    "n_recipes_without_review = (groupby_recipe['review'].size() - groupby_recipe['review'].count()).sum()\n",
    "\n",
    "print(f'Средний рейтинг:\\n{mean_recipe_ratings}')\n",
    "print(f'\\nКол-во рецептов без отзывов: {n_recipes_without_review}')"
   ],
   "metadata": {
    "collapsed": false,
    "pycharm": {
     "name": "#%%\n"
    }
   }
  },
  {
   "cell_type": "markdown",
   "metadata": {},
   "source": [
    "4.3 Посчитайте количество рецептов с разбивкой по годам создания."
   ]
  },
  {
   "cell_type": "code",
   "execution_count": 943,
   "outputs": [
    {
     "name": "stdout",
     "output_type": "stream",
     "text": [
      "Кол-во рецептов с разбивкой по годам:\n",
      "submitted\n",
      "1999     275\n",
      "2000     104\n",
      "2001     589\n",
      "2002    2644\n",
      "2003    2334\n",
      "2004    2153\n",
      "2005    3130\n",
      "2006    3473\n",
      "2007    4429\n",
      "2008    4029\n",
      "2009    2963\n",
      "2010    1538\n",
      "2011     922\n",
      "2012     659\n",
      "2013     490\n",
      "2014     139\n",
      "2015      42\n",
      "2016      24\n",
      "2017      39\n",
      "2018      24\n",
      "Name: id, dtype: int64\n"
     ]
    }
   ],
   "source": [
    "n_recipes_by_year = recipes_df.groupby(recipes_df['submitted'].dt.year)['id'].count()\n",
    "print(f'Кол-во рецептов с разбивкой по годам:\\n{n_recipes_by_year}')"
   ],
   "metadata": {
    "collapsed": false,
    "pycharm": {
     "name": "#%%\n"
    }
   }
  },
  {
   "cell_type": "markdown",
   "metadata": {},
   "source": [
    "### Объединение таблиц `pd.DataFrame`"
   ]
  },
  {
   "cell_type": "markdown",
   "metadata": {},
   "source": [
    "5.1 При помощи объединения таблиц, создайте `DataFrame`, состоящий из четырех столбцов: `id`, `name`, `user_id`, `rating`. Рецепты без отзывов должны отсутствовать в данной таблице. Подтвердите правильность работы вашего кода, выбрав рецепт, не имеющий отзывов, и выведя на экран строку из полученного `DataFrame`, содержащую информацию об этом отзыве."
   ]
  },
  {
   "cell_type": "code",
   "execution_count": 944,
   "outputs": [
    {
     "name": "stdout",
     "output_type": "stream",
     "text": [
      "Проверка:\n",
      "Empty DataFrame\n",
      "Columns: [id, name, user_id, rating]\n",
      "Index: []\n",
      "\n",
      "DataFrame (id, name, user_id, rating):\n",
      "            id                                    name  user_id  rating\n",
      "0        44123   George S At The Cove  Black Bean Soup   743566       5\n",
      "1        44123   George S At The Cove  Black Bean Soup    76503       5\n",
      "2        44123   George S At The Cove  Black Bean Soup    34206       5\n",
      "3        67664      Healthy For Them  Yogurt Popsicles   494084       5\n",
      "4        67664      Healthy For Them  Yogurt Popsicles   303445       5\n",
      "...        ...                                     ...      ...     ...\n",
      "126691  486161                             Zydeco Soup   305531       5\n",
      "126692  486161                             Zydeco Soup  1271506       5\n",
      "126693  486161                             Zydeco Soup   724631       5\n",
      "126694  486161                             Zydeco Soup   133174       5\n",
      "126695  298512  Cookies By Design   Cookies On A Stick   804234       1\n",
      "\n",
      "[126696 rows x 4 columns]\n"
     ]
    }
   ],
   "source": [
    "recipes_reviews_df = pd.merge(\n",
    "    recipes_df,\n",
    "    reviews_df,\n",
    "    how='inner',\n",
    "    left_on='id',\n",
    "    right_on='recipe_id'\n",
    ")[['id', 'name', 'user_id', 'rating']]\n",
    "\n",
    "recipe_without_review = pd.Series(list(\n",
    "    set(recipes_df['id'].unique()) - set(reviews_df['recipe_id'].unique()))\n",
    ").sample(1).values[0]\n",
    "\n",
    "print(f'Проверка:\\n{recipes_reviews_df[recipes_reviews_df[\"id\"] == recipe_without_review]}')\n",
    "print(f'\\nDataFrame (id, name, user_id, rating):\\n{recipes_reviews_df}')"
   ],
   "metadata": {
    "collapsed": false,
    "pycharm": {
     "name": "#%%\n"
    }
   }
  },
  {
   "cell_type": "markdown",
   "metadata": {},
   "source": [
    "5.2 При помощи объединения таблиц и группировок, создайте `DataFrame`, состоящий из трех столбцов: `recipe_id`, `name`, `review_count`. У рецептов, для которых отсутствуют отзывы, в соответствущем столбце должен быть указан 0. Подтвердите правильность работы вашего кода, выбрав рецепт, не имеющий отзывов, и выведя на экран строку из полученного `DataFrame`, содержащую информацию об этом отзыве."
   ]
  },
  {
   "cell_type": "code",
   "execution_count": 945,
   "outputs": [
    {
     "name": "stdout",
     "output_type": "stream",
     "text": [
      "Проверка:\n",
      "      recipe_id                 name  review_count\n",
      "1522      62120  Avocado Peach Salsa           0.0\n",
      "\n",
      "DataFrame (recipe_id, name, review_count):\n",
      "       recipe_id                                          name  review_count\n",
      "0          44123         George S At The Cove  Black Bean Soup           3.0\n",
      "1          67664            Healthy For Them  Yogurt Popsicles           8.0\n",
      "2          38798                  I Can T Believe It S Spinach           3.0\n",
      "3          35173                          Italian  Gut Busters           1.0\n",
      "4          84797      Love Is In The Air  Beef Fondue   Sauces           8.0\n",
      "...          ...                                           ...           ...\n",
      "29995     267661  Zurie S Holey Rustic Olive And Cheddar Bread           4.0\n",
      "29996     386977          Zwetschgenkuchen  Bavarian Plum Cake           2.0\n",
      "29997     103312   Zwiebelkuchen   Southwest German Onion Cake           6.0\n",
      "29998     486161                                   Zydeco Soup           6.0\n",
      "29999     298512        Cookies By Design   Cookies On A Stick           1.0\n",
      "\n",
      "[30000 rows x 3 columns]\n"
     ]
    }
   ],
   "source": [
    "grouped_df = reviews_df.groupby('recipe_id')['review'].count().reset_index()\n",
    "\n",
    "recipes_reviews_df = pd.merge(\n",
    "    recipes_df.rename(columns={'id': 'recipe_id'}),\n",
    "    grouped_df.rename(columns={'review': 'review_count'}),\n",
    "    how='left',\n",
    "    on='recipe_id'\n",
    ")[['recipe_id', 'name', 'review_count']]\n",
    "\n",
    "recipes_reviews_df = recipes_reviews_df.fillna({'review_count': 0})\n",
    "\n",
    "recipe_without_review = pd.Series(list(\n",
    "    set(recipes_df['id'].unique()) - set(reviews_df['recipe_id'].unique()))\n",
    ").sample(1).values[0]\n",
    "\n",
    "print(f'Проверка:\\n{recipes_reviews_df[recipes_reviews_df[\"recipe_id\"] == recipe_without_review]}')\n",
    "print(f'\\nDataFrame (recipe_id, name, review_count):\\n{recipes_reviews_df}')"
   ],
   "metadata": {
    "collapsed": false,
    "pycharm": {
     "name": "#%%\n"
    }
   }
  },
  {
   "cell_type": "markdown",
   "metadata": {},
   "source": [
    "5.3. Выясните, отзывы, добавленные в каком году, имеют наименьший средний рейтинг?"
   ]
  },
  {
   "cell_type": "code",
   "execution_count": 949,
   "outputs": [
    {
     "name": "stdout",
     "output_type": "stream",
     "text": [
      "Наименьший средний рейтинг в 2017 году: 3.3530416951469584\n"
     ]
    }
   ],
   "source": [
    "rating_groped_by_year = reviews_df.groupby(reviews_df['date'].dt.year)['rating']\n",
    "mean_rating = rating_groped_by_year.mean()\n",
    "\n",
    "print(f'Наименьший средний рейтинг в {mean_rating.idxmin()} году: {mean_rating.min()}')"
   ],
   "metadata": {
    "collapsed": false,
    "pycharm": {
     "name": "#%%\n"
    }
   }
  },
  {
   "cell_type": "markdown",
   "metadata": {},
   "source": [
    "### Сохранение таблиц `pd.DataFrame`"
   ]
  },
  {
   "cell_type": "markdown",
   "metadata": {},
   "source": [
    "6.1 Отсортируйте таблицу в порядке убывания величины столбца `name_word_count` и сохраните результаты выполнения заданий 3.1-3.3 в csv файл."
   ]
  },
  {
   "cell_type": "code",
   "execution_count": 946,
   "outputs": [],
   "source": [],
   "metadata": {
    "collapsed": false,
    "pycharm": {
     "name": "#%%\n"
    }
   }
  },
  {
   "cell_type": "markdown",
   "metadata": {},
   "source": [
    "6.2 Воспользовавшись `pd.ExcelWriter`, cохраните результаты 5.1 и 5.2 в файл: на лист с названием `Рецепты с оценками` сохраните результаты выполнения 5.1; на лист с названием `Количество отзывов по рецептам` сохраните результаты выполнения 5.2."
   ]
  },
  {
   "cell_type": "code",
   "execution_count": 946,
   "outputs": [],
   "source": [
    "\n"
   ],
   "metadata": {
    "collapsed": false,
    "pycharm": {
     "name": "#%%\n"
    }
   }
  }
 ],
 "metadata": {
  "kernelspec": {
   "name": "pycharm-a7f0f498",
   "language": "python",
   "display_name": "PyCharm (01_numpy_intro)"
  },
  "language_info": {
   "codemirror_mode": {
    "name": "ipython",
    "version": 3
   },
   "file_extension": ".py",
   "mimetype": "text/x-python",
   "name": "python",
   "nbconvert_exporter": "python",
   "pygments_lexer": "ipython3",
   "version": "3.8.5"
  }
 },
 "nbformat": 4,
 "nbformat_minor": 4
}