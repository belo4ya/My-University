{
 "cells": [
  {
   "cell_type": "markdown",
   "metadata": {},
   "source": [
    "# Numpy"
   ]
  },
  {
   "cell_type": "markdown",
   "metadata": {},
   "source": [
    "Материалы:\n",
    "* Макрушин С.В. \"Лекция 1: Библиотека Numpy\"\n",
    "* https://numpy.org/doc/stable/user/index.html\n",
    "* https://numpy.org/doc/stable/reference/index.html"
   ]
  },
  {
   "cell_type": "markdown",
   "metadata": {},
   "source": [
    "## Задачи для совместного разбора"
   ]
  },
  {
   "cell_type": "code",
   "execution_count": 308,
   "outputs": [],
   "source": [
    "import numpy as np"
   ],
   "metadata": {
    "collapsed": false,
    "pycharm": {
     "name": "#%%\n"
    }
   }
  },
  {
   "cell_type": "markdown",
   "metadata": {},
   "source": [
    "1. Сгенерировать двухмерный массив `arr` размерности (4, 7), состоящий из случайных действительных чисел, равномерно распределенных в диапазоне от 0 до 20. Нормализовать значения массива с помощью преобразования вида  $𝑎𝑥+𝑏$  так, что после нормализации максимальный элемент масcива будет равен 1.0, минимальный 0.0"
   ]
  },
  {
   "cell_type": "code",
   "execution_count": 309,
   "outputs": [
    {
     "name": "stdout",
     "output_type": "stream",
     "text": [
      "Нормализованный массив: \n",
      "[[0.40609741 0.54906569 0.14747294 0.29569966 0.38500325 0.40470359\n",
      "  0.20538619]\n",
      " [0.34632641 0.98446938 0.30797202 0.70741436 0.32240904 0.01506095\n",
      "  0.33868038]\n",
      " [0.67102272 1.         0.5895326  0.77559857 0.66374439 0.18252723\n",
      "  0.22768209]\n",
      " [0.94643289 0.81298222 0.5599852  0.78153987 0.         0.33735605\n",
      "  0.98513529]]\n"
     ]
    }
   ],
   "source": [
    "def normalize(data: np.array) -> np.array:\n",
    "    min_ = np.min(data)\n",
    "    max_ = np.max(data)\n",
    "    a = 1 / (max_ - min_)\n",
    "    b = min_ / (min_ - max_)\n",
    "    return a * data + b\n",
    "\n",
    "\n",
    "arr = np.random.uniform(0, 20, size=(4, 7))\n",
    "normalized_arr = normalize(arr)\n",
    "\n",
    "print(f'Нормализованный массив: \\n{normalized_arr}')"
   ],
   "metadata": {
    "collapsed": false,
    "pycharm": {
     "name": "#%%\n"
    }
   }
  },
  {
   "cell_type": "markdown",
   "metadata": {},
   "source": [
    "2. Создать матрицу 8 на 10 из случайных целых (используя модуль `numpy.random`) чисел из диапозона от 0 до 10 и найти в ней строку (ее индекс и вывести саму строку), в которой сумма значений минимальна."
   ]
  },
  {
   "cell_type": "code",
   "execution_count": 310,
   "outputs": [
    {
     "name": "stdout",
     "output_type": "stream",
     "text": [
      "Исходная матрица: \n",
      "[[2 8 5 6 6 4 8 3 0 2]\n",
      " [7 4 8 1 6 8 8 4 4 2]\n",
      " [1 9 9 3 6 7 5 7 7 7]\n",
      " [4 9 0 0 5 5 0 6 5 9]\n",
      " [9 6 0 7 2 9 2 6 9 2]\n",
      " [0 0 8 4 2 9 0 6 5 4]\n",
      " [1 2 4 2 9 2 5 8 5 1]\n",
      " [9 1 4 7 1 7 5 5 3 0]]\n",
      "\n",
      "Суммы значений строк: [44 52 61 43 52 38 39 42]\n",
      "\n",
      "Индекс строки с минимальной суммой: 5\n",
      "\n",
      "Строка с минимальной суммой элементов: [0 0 8 4 2 9 0 6 5 4]\n"
     ]
    }
   ],
   "source": [
    "matrix = np.random.randint(0, 10, size=(8, 10))\n",
    "\n",
    "print(f'Исходная матрица: \\n{matrix}')\n",
    "print(f'\\nСуммы значений строк: {matrix.sum(axis=1)}')\n",
    "\n",
    "min_str_i = matrix.sum(axis=1).argmin()\n",
    "print(f'\\nИндекс строки с минимальной суммой: {min_str_i}')\n",
    "print(f'\\nСтрока с минимальной суммой элементов: {matrix[min_str_i]}')"
   ],
   "metadata": {
    "collapsed": false,
    "pycharm": {
     "name": "#%%\n"
    }
   }
  },
  {
   "cell_type": "markdown",
   "metadata": {},
   "source": [
    "3. Найти евклидово расстояние между двумя одномерными векторами одинаковой размерности."
   ]
  },
  {
   "cell_type": "code",
   "execution_count": 311,
   "outputs": [
    {
     "name": "stdout",
     "output_type": "stream",
     "text": [
      "Евклидово расстояние: 10.908712114635714\n"
     ]
    }
   ],
   "source": [
    "def euclidean(a: np.array, b: np.array) -> float:\n",
    "    return np.sqrt(np.sum((a - b) ** 2))\n",
    "\n",
    "\n",
    "size = 5\n",
    "vector_1 = np.random.randint(0, 10, size)\n",
    "vector_2 = np.random.randint(0, 10, size)\n",
    "\n",
    "euclidean_distance = euclidean(vector_1, vector_2)\n",
    "print(f'Евклидово расстояние: {euclidean_distance}')"
   ],
   "metadata": {
    "collapsed": false,
    "pycharm": {
     "name": "#%%\n"
    }
   }
  },
  {
   "cell_type": "markdown",
   "metadata": {},
   "source": [
    "4. Решить матричное уравнение `A*X*B=-C` - найти матрицу `X`. Где `A = [[-1, 2, 4], [-3, 1, 2], [-3, 0, 1]]`, `B=[[3, -1], [2, 1]]`, `C=[[7, 21], [11, 8], [8, 4]]`."
   ]
  },
  {
   "cell_type": "code",
   "execution_count": 312,
   "outputs": [
    {
     "name": "stdout",
     "output_type": "stream",
     "text": [
      "Проверка: True\n",
      "X:\n",
      "[[ 1.00000000e+00  5.32907052e-16]\n",
      " [-2.00000000e+00  1.00000000e+00]\n",
      " [ 3.00000000e+00 -4.00000000e+00]]\n"
     ]
    }
   ],
   "source": [
    "from functools import reduce\n",
    "\n",
    "A = np.array(\n",
    "    [[-1, 2, 4],\n",
    "     [-3, 1, 2],\n",
    "     [-3, 0, 1]]\n",
    ")\n",
    "B = np.array(\n",
    "    [[3, -1],\n",
    "     [2, 1]]\n",
    ")\n",
    "C = np.array(\n",
    "    [[7., 21.],\n",
    "     [11., 8.],\n",
    "     [8., 4.]]\n",
    ")\n",
    "\n",
    "X = reduce(np.dot, [np.linalg.inv(A), -C, np.linalg.inv(B)])\n",
    "\n",
    "print(f'Проверка: {np.allclose(reduce(np.dot, [A, X, B]), -C)}')\n",
    "print(f'X:\\n{X}')"
   ],
   "metadata": {
    "collapsed": false,
    "pycharm": {
     "name": "#%%\n"
    }
   }
  },
  {
   "cell_type": "markdown",
   "metadata": {},
   "source": [
    "## Лабораторная работа №1"
   ]
  },
  {
   "cell_type": "markdown",
   "metadata": {},
   "source": [
    "Замечание: при решении данных задач не подразумевается использования циклов или генераторов Python, если в задании не сказано обратного. Решение должно опираться на использования функционала библиотеки `numpy`."
   ]
  },
  {
   "cell_type": "markdown",
   "metadata": {},
   "source": [
    "1. Файл `minutes_n_ingredients.csv` содержит информацию об идентификаторе рецепта, времени его выполнения в минутах и количестве необходимых ингредиентов. Считайте данные из этого файла в виде массива `numpy` типа `int32`, используя `np.load_txt`. Выведите на экран первые 5 строк массива."
   ]
  },
  {
   "cell_type": "code",
   "execution_count": 313,
   "outputs": [
    {
     "name": "stdout",
     "output_type": "stream",
     "text": [
      "head(5):\n",
      "[[127244     60     16]\n",
      " [ 23891     25      7]\n",
      " [ 94746     10      6]\n",
      " [ 67660      5      6]\n",
      " [157911     60     14]]\n"
     ]
    }
   ],
   "source": [
    "columns = np.loadtxt('resources/minutes_n_ingredients.csv', max_rows=1, dtype=str, delimiter=',')\n",
    "data = np.loadtxt('resources/minutes_n_ingredients.csv', skiprows=1, dtype=np.int32, delimiter=',')\n",
    "\n",
    "print(f'head(5):\\n{data[:5]}')"
   ],
   "metadata": {
    "collapsed": false,
    "pycharm": {
     "name": "#%%\n"
    }
   }
  },
  {
   "cell_type": "markdown",
   "metadata": {},
   "source": [
    "2. Вычислите среднее значение, минимум, максимум и медиану по каждому из столбцов, кроме первого."
   ]
  },
  {
   "cell_type": "code",
   "execution_count": 314,
   "outputs": [
    {
     "name": "stdout",
     "output_type": "stream",
     "text": [
      "Столбцы: ['minutes' 'n_ingredients']\n",
      "Средние значения : [2.16010017e+04 9.05528000e+00]\n",
      "Минимумы : [0 1]\n",
      "Максимумы : [2147483647         39]\n",
      "Медианы : [40.  9.]\n"
     ]
    }
   ],
   "source": [
    "without_id: np.array = data[:, 1:]\n",
    "by_cols = 0\n",
    "\n",
    "means_by_cols = without_id.mean(axis=by_cols)\n",
    "min_values_by_cols = without_id.min(axis=by_cols)\n",
    "max_values_by_cols = without_id.max(axis=by_cols)\n",
    "medians_by_cols = np.median(without_id, axis=by_cols)\n",
    "\n",
    "print(f'Столбцы: {columns[1:]}')\n",
    "print(f'Средние значения : {means_by_cols}')\n",
    "print(f'Минимумы : {min_values_by_cols}')\n",
    "print(f'Максимумы : {max_values_by_cols}')\n",
    "print(f'Медианы : {medians_by_cols}')"
   ],
   "metadata": {
    "collapsed": false,
    "pycharm": {
     "name": "#%%\n"
    }
   }
  },
  {
   "cell_type": "markdown",
   "metadata": {},
   "source": [
    "3. Ограничьте сверху значения продолжительности выполнения рецепта значением квантиля $q_{0.75}$. "
   ]
  },
  {
   "cell_type": "code",
   "execution_count": 315,
   "outputs": [
    {
     "name": "stdout",
     "output_type": "stream",
     "text": [
      "Третий квартиль: 65.0\n",
      "С ограничение по продолжительности выполнения рецепта:\n",
      "[[127244     60     16]\n",
      " [ 23891     25      7]\n",
      " [ 94746     10      6]\n",
      " ...\n",
      " [498432     65     15]\n",
      " [370915      5      4]\n",
      " [ 81993     65     14]]\n"
     ]
    }
   ],
   "source": [
    "with_limited_minutes = data.copy()\n",
    "\n",
    "q_3 = np.quantile(with_limited_minutes[:, 1], q=0.75, axis=0)\n",
    "# print(np.where(data[:, 1] <= q_3, data[:, 1], q_3))  # broadcasting\n",
    "\n",
    "# TODO: почему так нельзя?\n",
    "# wrong = data.copy()\n",
    "# wrong[wrong[:, 1] > q_3][:, 1] = q_3  # будто бы срез от выборки от маски создает новый массив вместо представления.\n",
    "# print(wrong)\n",
    "\n",
    "with_limited_minutes[:, 1][with_limited_minutes[:, 1] > q_3] = q_3\n",
    "\n",
    "print(f'Третий квартиль: {q_3}')\n",
    "print(f'\\nС ограничение по продолжительности выполнения рецепта:\\n{with_limited_minutes}')"
   ],
   "metadata": {
    "collapsed": false,
    "pycharm": {
     "name": "#%%\n"
    }
   }
  },
  {
   "cell_type": "markdown",
   "metadata": {},
   "source": [
    "4. Посчитайте, для скольких рецептов указана продолжительность, равная нулю. Замените для таких строк значение в данном столбце на 1."
   ]
  },
  {
   "cell_type": "code",
   "execution_count": 333,
   "outputs": [
    {
     "name": "stdout",
     "output_type": "stream",
     "text": [
      "Продолжительность рецепта была 0: 479\n",
      "\n",
      "С обновленной продолжительностью рецептов:\n",
      "[[127244     60     16]\n",
      " [ 23891     25      7]\n",
      " [ 94746     10      6]\n",
      " ...\n",
      " [498432     65     15]\n",
      " [370915      5      4]\n",
      " [ 81993     65     14]]\n"
     ]
    }
   ],
   "source": [
    "without_zeroes_minutes = with_limited_minutes.copy()\n",
    "mask = without_zeroes_minutes[:, 1] == 0\n",
    "\n",
    "zeros_n = np.count_nonzero(mask)\n",
    "without_zeroes_minutes[:, 1][mask] = 1\n",
    "\n",
    "print(f'Продолжительность рецепта была 0: {zeros_n}')\n",
    "print(f'\\nС обновленной продолжительностью рецептов:\\n{without_zeroes_minutes}')"
   ],
   "metadata": {
    "collapsed": false,
    "pycharm": {
     "name": "#%%\n"
    }
   }
  },
  {
   "cell_type": "markdown",
   "metadata": {},
   "source": [
    "5. Посчитайте, сколько уникальных рецептов находится в датасете."
   ]
  },
  {
   "cell_type": "code",
   "execution_count": 340,
   "outputs": [
    {
     "name": "stdout",
     "output_type": "stream",
     "text": [
      "Уникальных рецептов (minutes, n_ingredients): 4195\n"
     ]
    }
   ],
   "source": [
    "unique_recipes_n = np.unique(data[:, 1:], axis=0).shape[0]\n",
    "print(f'Уникальных рецептов (minutes, n_ingredients): {unique_recipes_n}')"
   ],
   "metadata": {
    "collapsed": false,
    "pycharm": {
     "name": "#%%\n"
    }
   }
  },
  {
   "cell_type": "markdown",
   "metadata": {},
   "source": [
    "6. Сколько и каких различных значений кол-ва ингредиентов присутствует в рецептах из датасета?"
   ]
  },
  {
   "cell_type": "code",
   "execution_count": 318,
   "outputs": [
    {
     "name": "stdout",
     "output_type": "stream",
     "text": [
      "[ 1  2  3  4  5  6  7  8  9 10 11 12 13 14 15 16 17 18 19 20 21 22 23 24\n",
      " 25 26 27 28 29 30 31 32 33 34 35 37 39]\n"
     ]
    },
    {
     "data": {
      "text/plain": "array([[ 23891,     25,      7],\n       [ 94746,     10,      6],\n       [ 67660,      5,      6],\n       [157911,     60,     14],\n       [152828,     40,      7],\n       [ 33941,     18,      9],\n       [446597,     15,      5],\n       [366174,      7,      9],\n       [ 74205,     20,      7],\n       [504666,     65,     20],\n       [ 81006,     12,      7],\n       [280968,     85,     11],\n       [204134,      5,      3],\n       [ 18593,     35,      7],\n       [ 25623,      6,      4],\n       [ 65559,     24,     14],\n       [ 99836,    180,      7],\n       [ 87775,     80,     13],\n       [425704,     40,     12],\n       [101799,     10,      8],\n       [106325,     70,     11],\n       [ 99283,    315,      6],\n       [179504,    150,     11],\n       [276123,     60,      7],\n       [498382,     85,     18],\n       [197140,     40,      6],\n       [484223,     18,      4],\n       [385472,     90,      9],\n       [ 63150,    250,      4],\n       [378114,     20,     11],\n       [318295,    130,      7],\n       [259784,     90,      9],\n       [308301,    120,     11],\n       [422795,     30,      7],\n       [104773,    150,     11],\n       [496430,     40,     10],\n       [328135,     15,      6]])"
     },
     "execution_count": 318,
     "metadata": {},
     "output_type": "execute_result"
    }
   ],
   "source": [
    "n_unique_n_ingredients = np.unique(data[:, 2])\n",
    "unique_n_ingredients = data[n_unique_n_ingredients]\n",
    "\n",
    "print(n_unique_n_ingredients)\n",
    "unique_n_ingredients"
   ],
   "metadata": {
    "collapsed": false,
    "pycharm": {
     "name": "#%%\n"
    }
   }
  },
  {
   "cell_type": "markdown",
   "metadata": {},
   "source": [
    "7. Создайте версию массива, содержащую информацию только о рецептах, состоящих не более чем из 5 ингредиентов."
   ]
  },
  {
   "cell_type": "code",
   "execution_count": 319,
   "outputs": [
    {
     "data": {
      "text/plain": "array([[446597,     15,      5],\n       [204134,      5,      3],\n       [ 25623,      6,      4],\n       ...,\n       [ 52088,     60,      5],\n       [128811,     15,      4],\n       [370915,      5,      4]])"
     },
     "execution_count": 319,
     "metadata": {},
     "output_type": "execute_result"
    }
   ],
   "source": [
    "lte_5 = data[data[:, 2] < 6]\n",
    "lte_5"
   ],
   "metadata": {
    "collapsed": false,
    "pycharm": {
     "name": "#%%\n"
    }
   }
  },
  {
   "cell_type": "markdown",
   "metadata": {},
   "source": [
    "8. Для каждого рецепта посчитайте, сколько в среднем ингредиентов приходится на одну минуту рецепта. Найдите максимальное значение этой величины для всего датасета"
   ]
  },
  {
   "cell_type": "code",
   "execution_count": 320,
   "outputs": [
    {
     "name": "stderr",
     "output_type": "stream",
     "text": [
      "C:\\Users\\super\\AppData\\Local\\Temp/ipykernel_9508/2492076143.py:1: RuntimeWarning: divide by zero encountered in true_divide\n",
      "  data[:, 2] / data[:, 1]\n"
     ]
    },
    {
     "data": {
      "text/plain": "array([0.26666667, 0.28      , 0.6       , ..., 0.23076923, 0.8       ,\n       0.1       ])"
     },
     "execution_count": 320,
     "metadata": {},
     "output_type": "execute_result"
    }
   ],
   "source": [
    "data[:, 2] / data[:, 1]"
   ],
   "metadata": {
    "collapsed": false,
    "pycharm": {
     "name": "#%%\n"
    }
   }
  },
  {
   "cell_type": "markdown",
   "metadata": {},
   "source": [
    "9. Вычислите среднее количество ингредиентов для топ-100 рецептов с наибольшей продолжительностью"
   ]
  },
  {
   "cell_type": "code",
   "execution_count": 320,
   "outputs": [],
   "source": [],
   "metadata": {
    "collapsed": false,
    "pycharm": {
     "name": "#%%\n"
    }
   }
  },
  {
   "cell_type": "markdown",
   "metadata": {},
   "source": [
    "10. Выберите случайным образом и выведите информацию о 10 различных рецептах"
   ]
  },
  {
   "cell_type": "markdown",
   "metadata": {},
   "source": [
    "11. Выведите процент рецептов, кол-во ингредиентов в которых меньше среднего."
   ]
  },
  {
   "cell_type": "markdown",
   "metadata": {},
   "source": [
    "12. Назовем \"простым\" такой рецепт, длительность выполнения которого не больше 20 минут и кол-во ингредиентов в котором не больше 5. Создайте версию датасета с дополнительным столбцом, значениями которого являются 1, если рецепт простой, и 0 в противном случае."
   ]
  },
  {
   "cell_type": "markdown",
   "metadata": {},
   "source": [
    "13. Выведите процент \"простых\" рецептов в датасете"
   ]
  },
  {
   "cell_type": "markdown",
   "metadata": {
    "pycharm": {
     "name": "#%% md\n"
    }
   },
   "source": [
    "14. Разделим рецепты на группы по следующему правилу. Назовем рецепты короткими, если их продолжительность составляет менее 10 минут; стандартными, если их продолжительность составляет более 10, но менее 20 минут; и длинными, если их продолжительность составляет не менее 20 минут. Создайте трехмерный массив, где нулевая ось отвечает за номер группы (короткий, стандартный или длинный рецепт), первая ось - за сам рецепт и вторая ось - за характеристики рецепта. Выберите максимальное количество рецептов из каждой группы таким образом, чтобы было возможно сформировать трехмерный массив. Выведите форму полученного массива.\n"
   ]
  }
 ],
 "metadata": {
  "kernelspec": {
   "name": "pycharm-a7f0f498",
   "language": "python",
   "display_name": "PyCharm (01_numpy_intro)"
  },
  "language_info": {
   "codemirror_mode": {
    "name": "ipython",
    "version": 3
   },
   "file_extension": ".py",
   "mimetype": "text/x-python",
   "name": "python",
   "nbconvert_exporter": "python",
   "pygments_lexer": "ipython3",
   "version": "3.9.7"
  }
 },
 "nbformat": 4,
 "nbformat_minor": 4
}