{
 "cells": [
  {
   "cell_type": "markdown",
   "metadata": {},
   "source": [
    "# Numpy"
   ]
  },
  {
   "cell_type": "markdown",
   "metadata": {},
   "source": [
    "Материалы:\n",
    "* Макрушин С.В. \"Лекция 1: Библиотека Numpy\"\n",
    "* https://numpy.org/doc/stable/user/index.html\n",
    "* https://numpy.org/doc/stable/reference/index.html"
   ]
  },
  {
   "cell_type": "markdown",
   "metadata": {},
   "source": [
    "## Задачи для совместного разбора"
   ]
  },
  {
   "cell_type": "code",
   "execution_count": 8,
   "outputs": [],
   "source": [
    "import numpy as np"
   ],
   "metadata": {
    "collapsed": false,
    "pycharm": {
     "name": "#%%\n"
    }
   }
  },
  {
   "cell_type": "markdown",
   "metadata": {},
   "source": [
    "1. Сгенерировать двухмерный массив `arr` размерности (4, 7), состоящий из случайных действительных чисел, равномерно распределенных в диапазоне от 0 до 20. Нормализовать значения массива с помощью преобразования вида  $𝑎𝑥+𝑏$  так, что после нормализации максимальный элемент масcива будет равен 1.0, минимальный 0.0"
   ]
  },
  {
   "cell_type": "code",
   "execution_count": 10,
   "outputs": [
    {
     "name": "stdout",
     "output_type": "stream",
     "text": [
      "Нормализованный массив: \n",
      "[[-3.46944695e-18  2.61779083e-01  8.63778397e-02  9.10725068e-01\n",
      "   8.76635384e-01  1.20049532e-01  1.68285297e-01]\n",
      " [ 4.37827793e-01  9.49517724e-01  8.28326517e-01  8.91668674e-02\n",
      "   6.48172335e-01  9.63650295e-01  4.77103880e-01]\n",
      " [ 7.64769154e-01  3.13888150e-01  4.76238442e-01  5.22246980e-01\n",
      "   6.05968910e-01  1.00000000e+00  1.99849237e-01]\n",
      " [ 7.19111883e-01  1.87552417e-01  9.79139081e-01  7.02106060e-01\n",
      "   5.74967009e-01  3.31153223e-01  4.00837630e-01]]\n"
     ]
    }
   ],
   "source": [
    "def normalize(data: np.array) -> np.array:\n",
    "    min_ = np.min(data)\n",
    "    max_ = np.max(data)\n",
    "    a = 1 / (max_ - min_)\n",
    "    b = min_ / (min_ - max_)\n",
    "    return a * data + b\n",
    "\n",
    "\n",
    "arr = np.random.uniform(0, 20, size=(4, 7))\n",
    "normalized_arr = normalize(arr)\n",
    "\n",
    "print(f'Нормализованный массив: \\n{normalized_arr}')"
   ],
   "metadata": {
    "collapsed": false,
    "pycharm": {
     "name": "#%%\n"
    }
   }
  },
  {
   "cell_type": "markdown",
   "metadata": {},
   "source": [
    "2. Создать матрицу 8 на 10 из случайных целых (используя модуль `numpy.random`) чисел из диапозона от 0 до 10 и найти в ней строку (ее индекс и вывести саму строку), в которой сумма значений минимальна."
   ]
  },
  {
   "cell_type": "code",
   "execution_count": 11,
   "outputs": [
    {
     "name": "stdout",
     "output_type": "stream",
     "text": [
      "Исходная матрица: \n",
      "[[2 3 0 5 9 4 9 1 8 6]\n",
      " [1 3 1 7 9 5 0 5 9 6]\n",
      " [2 6 7 6 9 4 0 3 3 6]\n",
      " [5 8 2 6 1 8 7 7 0 6]\n",
      " [5 1 0 3 7 0 1 0 3 1]\n",
      " [4 6 2 0 2 6 2 8 9 1]\n",
      " [8 5 6 2 2 7 6 8 9 3]\n",
      " [1 1 6 4 7 4 0 7 2 5]]\n",
      "\n",
      "Суммы значений строк: [47 46 46 50 21 40 56 37]\n",
      "\n",
      "Индекс строки с минимальной суммой: 4\n",
      "\n",
      "Строка с минимальной суммой элементов: [5 1 0 3 7 0 1 0 3 1]\n"
     ]
    }
   ],
   "source": [
    "matrix = np.random.randint(0, 10, size=(8, 10))\n",
    "\n",
    "print(f'Исходная матрица: \\n{matrix}')\n",
    "print(f'\\nСуммы значений строк: {matrix.sum(axis=1)}')\n",
    "\n",
    "min_str_i = matrix.sum(axis=1).argmin()\n",
    "print(f'\\nИндекс строки с минимальной суммой: {min_str_i}')\n",
    "print(f'\\nСтрока с минимальной суммой элементов: {matrix[min_str_i]}')"
   ],
   "metadata": {
    "collapsed": false,
    "pycharm": {
     "name": "#%%\n"
    }
   }
  },
  {
   "cell_type": "markdown",
   "metadata": {},
   "source": [
    "3. Найти евклидово расстояние между двумя одномерными векторами одинаковой размерности."
   ]
  },
  {
   "cell_type": "code",
   "execution_count": 12,
   "outputs": [
    {
     "name": "stdout",
     "output_type": "stream",
     "text": [
      "Евклидово расстояние: 10.392304845413264\n"
     ]
    }
   ],
   "source": [
    "def euclidean(a: np.array, b: np.array) -> float:\n",
    "    return np.sqrt(np.sum((a - b) ** 2))\n",
    "\n",
    "\n",
    "size = 5\n",
    "vector_1 = np.random.randint(0, 10, size)\n",
    "vector_2 = np.random.randint(0, 10, size)\n",
    "\n",
    "euclidean_distance = euclidean(vector_1, vector_2)\n",
    "print(f'Евклидово расстояние: {euclidean_distance}')"
   ],
   "metadata": {
    "collapsed": false,
    "pycharm": {
     "name": "#%%\n"
    }
   }
  },
  {
   "cell_type": "markdown",
   "metadata": {},
   "source": [
    "4. Решить матричное уравнение `A*X*B=-C` - найти матрицу `X`. Где `A = [[-1, 2, 4], [-3, 1, 2], [-3, 0, 1]]`, `B=[[3, -1], [2, 1]]`, `C=[[7, 21], [11, 8], [8, 4]]`."
   ]
  },
  {
   "cell_type": "code",
   "execution_count": 16,
   "outputs": [
    {
     "name": "stdout",
     "output_type": "stream",
     "text": [
      "Проверка: True\n",
      "X:\n",
      "[[ 1.00000000e+00  5.32907052e-16]\n",
      " [-2.00000000e+00  1.00000000e+00]\n",
      " [ 3.00000000e+00 -4.00000000e+00]]\n"
     ]
    }
   ],
   "source": [
    "from functools import reduce\n",
    "\n",
    "A = np.array(\n",
    "    [[-1, 2, 4],\n",
    "     [-3, 1, 2],\n",
    "     [-3, 0, 1]]\n",
    ")\n",
    "B = np.array(\n",
    "    [[3, -1],\n",
    "     [2, 1]]\n",
    ")\n",
    "C = np.array(\n",
    "    [[7., 21.],\n",
    "     [11., 8.],\n",
    "     [8., 4.]]\n",
    ")\n",
    "\n",
    "X = reduce(np.dot, [np.linalg.inv(A), -C, np.linalg.inv(B)])\n",
    "\n",
    "print(f'Проверка: {np.allclose(reduce(np.dot, [A, X, B]), -C)}')\n",
    "print(f'X:\\n{X}')"
   ],
   "metadata": {
    "collapsed": false,
    "pycharm": {
     "name": "#%%\n"
    }
   }
  },
  {
   "cell_type": "markdown",
   "metadata": {},
   "source": [
    "## Лабораторная работа №1"
   ]
  },
  {
   "cell_type": "markdown",
   "metadata": {},
   "source": [
    "Замечание: при решении данных задач не подразумевается использования циклов или генераторов Python, если в задании не сказано обратного. Решение должно опираться на использования функционала библиотеки `numpy`."
   ]
  },
  {
   "cell_type": "markdown",
   "metadata": {},
   "source": [
    "1. Файл `minutes_n_ingredients.csv` содержит информацию об идентификаторе рецепта, времени его выполнения в минутах и количестве необходимых ингредиентов. Считайте данные из этого файла в виде массива `numpy` типа `int32`, используя `np.load_txt`. Выведите на экран первые 5 строк массива."
   ]
  },
  {
   "cell_type": "code",
   "execution_count": 17,
   "outputs": [
    {
     "name": "stdout",
     "output_type": "stream",
     "text": [
      "head(5):\n",
      "[[127244     60     16]\n",
      " [ 23891     25      7]\n",
      " [ 94746     10      6]\n",
      " [ 67660      5      6]\n",
      " [157911     60     14]]\n"
     ]
    }
   ],
   "source": [
    "columns = np.loadtxt('resources/minutes_n_ingredients.csv', max_rows=1, dtype=str, delimiter=',')\n",
    "data = np.loadtxt('resources/minutes_n_ingredients.csv', skiprows=1, dtype=np.int32, delimiter=',')\n",
    "print(f'head(5):\\n{data[:5]}')"
   ],
   "metadata": {
    "collapsed": false,
    "pycharm": {
     "name": "#%%\n"
    }
   }
  },
  {
   "cell_type": "markdown",
   "metadata": {},
   "source": [
    "2. Вычислите среднее значение, минимум, максимум и медиану по каждому из столбцов, кроме первого."
   ]
  },
  {
   "cell_type": "code",
   "execution_count": 270,
   "outputs": [
    {
     "name": "stdout",
     "output_type": "stream",
     "text": [
      "columns[1:]=array(['minutes', 'n_ingredients'], dtype='<U13')\n",
      "means=array([2.16010017e+04, 9.05528000e+00])\n",
      "mins=array([0, 1])\n",
      "maxs=array([2147483647,         39])\n",
      "medians=array([40.,  9.])\n"
     ]
    }
   ],
   "source": [
    "for_stat: np.array = data[:, 1:]\n",
    "means = for_stat.mean(axis=0)\n",
    "mins = for_stat.min(axis=0)\n",
    "maxs = for_stat.max(axis=0)\n",
    "medians = np.median(for_stat, axis=0)\n",
    "\n",
    "print(f'{columns[1:]=}')\n",
    "print(f'{means=}')\n",
    "print(f'{mins=}')\n",
    "print(f'{maxs=}')\n",
    "print(f'{medians=}')"
   ],
   "metadata": {
    "collapsed": false,
    "pycharm": {
     "name": "#%%\n"
    }
   }
  },
  {
   "cell_type": "markdown",
   "metadata": {},
   "source": [
    "3. Ограничьте сверху значения продолжительности выполнения рецепта значением квантиля $q_{0.75}$. "
   ]
  },
  {
   "cell_type": "code",
   "execution_count": 271,
   "outputs": [],
   "source": [
    "q_075 = np.quantile(data[:, 1], q=0.75, axis=0)\n",
    "data[data[:, 1] > q_075] = q_075  # FIXME: копирование вектора"
   ],
   "metadata": {
    "collapsed": false,
    "pycharm": {
     "name": "#%%\n"
    }
   }
  },
  {
   "cell_type": "markdown",
   "metadata": {},
   "source": [
    "4. Посчитайте, для скольких рецептов указана продолжительность, равная нулю. Замените для таких строк значение в данном столбце на 1."
   ]
  },
  {
   "cell_type": "code",
   "execution_count": 272,
   "outputs": [
    {
     "name": "stdout",
     "output_type": "stream",
     "text": [
      "479\n",
      "[[127244     60     16]\n",
      " [ 23891     25      7]\n",
      " [ 94746     10      6]\n",
      " ...\n",
      " [498432     65     15]\n",
      " [370915      5      4]\n",
      " [    65     65     65]]\n"
     ]
    }
   ],
   "source": [
    "n_0 = (data[:, 1] == 0).sum()\n",
    "data[data[:, 1] == 0] = 1\n",
    "\n",
    "print(n_0)\n",
    "print(data)"
   ],
   "metadata": {
    "collapsed": false,
    "pycharm": {
     "name": "#%%\n"
    }
   }
  },
  {
   "cell_type": "markdown",
   "metadata": {},
   "source": [
    "5. Посчитайте, сколько уникальных рецептов находится в датасете."
   ]
  },
  {
   "cell_type": "code",
   "execution_count": 273,
   "outputs": [
    {
     "data": {
      "text/plain": "1119"
     },
     "execution_count": 273,
     "metadata": {},
     "output_type": "execute_result"
    }
   ],
   "source": [
    "n_unique = len(np.unique(data[:, 1:], axis=0))\n",
    "n_unique"
   ],
   "metadata": {
    "collapsed": false,
    "pycharm": {
     "name": "#%%\n"
    }
   }
  },
  {
   "cell_type": "markdown",
   "metadata": {},
   "source": [
    "6. Сколько и каких различных значений кол-ва ингредиентов присутвует в рецептах из датасета?"
   ]
  },
  {
   "cell_type": "code",
   "execution_count": 274,
   "outputs": [
    {
     "name": "stdout",
     "output_type": "stream",
     "text": [
      "[ 1  2  3  4  5  6  7  8  9 10 11 12 13 14 15 16 17 18 19 20 21 22 23 24\n",
      " 25 26 27 28 29 30 33 34 65]\n"
     ]
    },
    {
     "data": {
      "text/plain": "array([[ 23891,     25,      7],\n       [ 94746,     10,      6],\n       [ 67660,      5,      6],\n       [157911,     60,     14],\n       [152828,     40,      7],\n       [ 33941,     18,      9],\n       [446597,     15,      5],\n       [366174,      7,      9],\n       [ 74205,     20,      7],\n       [504666,     65,     20],\n       [ 81006,     12,      7],\n       [    65,     65,     65],\n       [204134,      5,      3],\n       [ 18593,     35,      7],\n       [ 25623,      6,      4],\n       [ 65559,     24,     14],\n       [    65,     65,     65],\n       [    65,     65,     65],\n       [425704,     40,     12],\n       [101799,     10,      8],\n       [    65,     65,     65],\n       [    65,     65,     65],\n       [    65,     65,     65],\n       [276123,     60,      7],\n       [    65,     65,     65],\n       [197140,     40,      6],\n       [484223,     18,      4],\n       [    65,     65,     65],\n       [    65,     65,     65],\n       [378114,     20,     11],\n       [    65,     65,     65],\n       [422795,     30,      7],\n       [    65,     65,     65]])"
     },
     "execution_count": 274,
     "metadata": {},
     "output_type": "execute_result"
    }
   ],
   "source": [
    "n_unique_n_ingredients = np.unique(data[:, 2])\n",
    "unique_n_ingredients = data[n_unique_n_ingredients]\n",
    "\n",
    "print(n_unique_n_ingredients)\n",
    "unique_n_ingredients"
   ],
   "metadata": {
    "collapsed": false,
    "pycharm": {
     "name": "#%%\n"
    }
   }
  },
  {
   "cell_type": "markdown",
   "metadata": {},
   "source": [
    "7. Создайте версию массива, содержащую информацию только о рецептах, состоящих не более чем из 5 ингредиентов."
   ]
  },
  {
   "cell_type": "code",
   "execution_count": 275,
   "outputs": [
    {
     "data": {
      "text/plain": "array([[446597,     15,      5],\n       [204134,      5,      3],\n       [ 25623,      6,      4],\n       ...,\n       [ 52088,     60,      5],\n       [128811,     15,      4],\n       [370915,      5,      4]])"
     },
     "execution_count": 275,
     "metadata": {},
     "output_type": "execute_result"
    }
   ],
   "source": [
    "lte_5 = data[data[:, 2] < 6]\n",
    "lte_5"
   ],
   "metadata": {
    "collapsed": false,
    "pycharm": {
     "name": "#%%\n"
    }
   }
  },
  {
   "cell_type": "markdown",
   "metadata": {},
   "source": [
    "8. Для каждого рецепта посчитайте, сколько в среднем ингредиентов приходится на одну минуту рецепта. Найдите максимальное значение этой величины для всего датасета"
   ]
  },
  {
   "cell_type": "code",
   "execution_count": 278,
   "outputs": [
    {
     "data": {
      "text/plain": "array([0.26666667, 0.28      , 0.6       , ..., 0.23076923, 0.8       ,\n       1.        ])"
     },
     "execution_count": 278,
     "metadata": {},
     "output_type": "execute_result"
    }
   ],
   "source": [
    "data[:, 2] / data[:, 1]"
   ],
   "metadata": {
    "collapsed": false,
    "pycharm": {
     "name": "#%%\n"
    }
   }
  },
  {
   "cell_type": "markdown",
   "metadata": {},
   "source": [
    "9. Вычислите среднее количество ингредиентов для топ-100 рецептов с наибольшей продолжительностью"
   ]
  },
  {
   "cell_type": "code",
   "execution_count": null,
   "outputs": [],
   "source": [],
   "metadata": {
    "collapsed": false,
    "pycharm": {
     "name": "#%%\n"
    }
   }
  },
  {
   "cell_type": "markdown",
   "metadata": {},
   "source": [
    "10. Выберите случайным образом и выведите информацию о 10 различных рецептах"
   ]
  },
  {
   "cell_type": "markdown",
   "metadata": {},
   "source": [
    "11. Выведите процент рецептов, кол-во ингредиентов в которых меньше среднего."
   ]
  },
  {
   "cell_type": "markdown",
   "metadata": {},
   "source": [
    "12. Назовем \"простым\" такой рецепт, длительность выполнения которого не больше 20 минут и кол-во ингредиентов в котором не больше 5. Создайте версию датасета с дополнительным столбцом, значениями которого являются 1, если рецепт простой, и 0 в противном случае."
   ]
  },
  {
   "cell_type": "markdown",
   "metadata": {},
   "source": [
    "13. Выведите процент \"простых\" рецептов в датасете"
   ]
  },
  {
   "cell_type": "markdown",
   "metadata": {
    "pycharm": {
     "name": "#%% md\n"
    }
   },
   "source": [
    "14. Разделим рецепты на группы по следующему правилу. Назовем рецепты короткими, если их продолжительность составляет менее 10 минут; стандартными, если их продолжительность составляет более 10, но менее 20 минут; и длинными, если их продолжительность составляет не менее 20 минут. Создайте трехмерный массив, где нулевая ось отвечает за номер группы (короткий, стандартный или длинный рецепт), первая ось - за сам рецепт и вторая ось - за характеристики рецепта. Выберите максимальное количество рецептов из каждой группы таким образом, чтобы было возможно сформировать трехмерный массив. Выведите форму полученного массива.\n"
   ]
  }
 ],
 "metadata": {
  "kernelspec": {
   "name": "pycharm-a7f0f498",
   "language": "python",
   "display_name": "PyCharm (01_numpy_intro)"
  },
  "language_info": {
   "codemirror_mode": {
    "name": "ipython",
    "version": 3
   },
   "file_extension": ".py",
   "mimetype": "text/x-python",
   "name": "python",
   "nbconvert_exporter": "python",
   "pygments_lexer": "ipython3",
   "version": "3.9.7"
  }
 },
 "nbformat": 4,
 "nbformat_minor": 4
}