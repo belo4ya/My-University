{
 "cells": [
  {
   "cell_type": "markdown",
   "metadata": {},
   "source": [
    "# Numpy"
   ]
  },
  {
   "cell_type": "markdown",
   "metadata": {},
   "source": [
    "Материалы:\n",
    "* Макрушин С.В. \"Лекция 1: Библиотека Numpy\"\n",
    "* https://numpy.org/doc/stable/user/index.html\n",
    "* https://numpy.org/doc/stable/reference/index.html"
   ]
  },
  {
   "cell_type": "markdown",
   "metadata": {},
   "source": [
    "## Задачи для совместного разбора"
   ]
  },
  {
   "cell_type": "code",
   "execution_count": 678,
   "outputs": [],
   "source": [
    "import numpy as np"
   ],
   "metadata": {
    "collapsed": false,
    "pycharm": {
     "name": "#%%\n"
    }
   }
  },
  {
   "cell_type": "markdown",
   "metadata": {},
   "source": [
    "1. Сгенерировать двухмерный массив `arr` размерности (4, 7), состоящий из случайных действительных чисел, равномерно распределенных в диапазоне от 0 до 20. Нормализовать значения массива с помощью преобразования вида  $𝑎𝑥+𝑏$  так, что после нормализации максимальный элемент масcива будет равен 1.0, минимальный 0.0"
   ]
  },
  {
   "cell_type": "code",
   "execution_count": 679,
   "outputs": [
    {
     "name": "stdout",
     "output_type": "stream",
     "text": [
      "Нормализованный массив: \n",
      "[[ 1.68194245e-01  8.61363629e-02  5.14174016e-01  2.15674790e-01\n",
      "   3.46145336e-01  5.64474579e-01  6.27034499e-01]\n",
      " [ 2.83903976e-01  6.92992175e-01  8.08304960e-01  1.00000000e+00\n",
      "   3.59219192e-01  8.43673946e-01  9.95864455e-01]\n",
      " [ 4.34887502e-01  5.13824577e-01  8.68409325e-01  8.64604824e-01\n",
      "   9.04968962e-01 -6.93889390e-18  4.99655421e-01]\n",
      " [ 2.69796413e-01  4.54571151e-01  3.75337496e-01  7.13680893e-01\n",
      "   3.52780391e-02  8.79703425e-01  7.21402796e-01]]\n"
     ]
    }
   ],
   "source": [
    "def normalize(data: np.array) -> np.array:\n",
    "    min_ = np.min(data)\n",
    "    max_ = np.max(data)\n",
    "    a = 1 / (max_ - min_)\n",
    "    b = min_ / (min_ - max_)\n",
    "    return a * data + b\n",
    "\n",
    "\n",
    "arr = np.random.uniform(0, 20, size=(4, 7))\n",
    "normalized_arr = normalize(arr)\n",
    "\n",
    "print(f'Нормализованный массив: \\n{normalized_arr}')"
   ],
   "metadata": {
    "collapsed": false,
    "pycharm": {
     "name": "#%%\n"
    }
   }
  },
  {
   "cell_type": "markdown",
   "metadata": {},
   "source": [
    "2. Создать матрицу 8 на 10 из случайных целых (используя модуль `numpy.random`) чисел из диапозона от 0 до 10 и найти в ней строку (ее индекс и вывести саму строку), в которой сумма значений минимальна."
   ]
  },
  {
   "cell_type": "code",
   "execution_count": 680,
   "outputs": [
    {
     "name": "stdout",
     "output_type": "stream",
     "text": [
      "Исходная матрица: \n",
      "[[0 5 7 3 3 8 4 3 5 8]\n",
      " [4 7 3 9 1 7 3 5 7 8]\n",
      " [3 6 1 6 6 0 4 3 2 9]\n",
      " [3 1 6 5 3 5 0 7 7 9]\n",
      " [7 8 1 1 9 6 2 7 0 9]\n",
      " [4 4 3 2 5 4 8 0 6 4]\n",
      " [8 7 8 7 7 1 2 6 0 5]\n",
      " [2 5 5 1 7 9 6 0 3 2]]\n",
      "\n",
      "Суммы значений строк: [46 54 40 46 50 40 51 40]\n",
      "\n",
      "Индекс строки с минимальной суммой: 2\n",
      "\n",
      "Строка с минимальной суммой элементов: [3 6 1 6 6 0 4 3 2 9]\n"
     ]
    }
   ],
   "source": [
    "matrix = np.random.randint(0, 10, size=(8, 10))\n",
    "\n",
    "print(f'Исходная матрица: \\n{matrix}')\n",
    "print(f'\\nСуммы значений строк: {matrix.sum(axis=1)}')\n",
    "\n",
    "min_str_i = matrix.sum(axis=1).argmin()\n",
    "print(f'\\nИндекс строки с минимальной суммой: {min_str_i}')\n",
    "print(f'\\nСтрока с минимальной суммой элементов: {matrix[min_str_i]}')"
   ],
   "metadata": {
    "collapsed": false,
    "pycharm": {
     "name": "#%%\n"
    }
   }
  },
  {
   "cell_type": "markdown",
   "metadata": {},
   "source": [
    "3. Найти евклидово расстояние между двумя одномерными векторами одинаковой размерности."
   ]
  },
  {
   "cell_type": "code",
   "execution_count": 681,
   "outputs": [
    {
     "name": "stdout",
     "output_type": "stream",
     "text": [
      "Евклидово расстояние: 8.306623862918075\n"
     ]
    }
   ],
   "source": [
    "def euclidean(a: np.array, b: np.array) -> float:\n",
    "    return np.sqrt(np.sum((a - b) ** 2))\n",
    "\n",
    "\n",
    "size = 5\n",
    "vector_1 = np.random.randint(0, 10, size)\n",
    "vector_2 = np.random.randint(0, 10, size)\n",
    "\n",
    "euclidean_distance = euclidean(vector_1, vector_2)\n",
    "print(f'Евклидово расстояние: {euclidean_distance}')"
   ],
   "metadata": {
    "collapsed": false,
    "pycharm": {
     "name": "#%%\n"
    }
   }
  },
  {
   "cell_type": "markdown",
   "metadata": {},
   "source": [
    "4. Решить матричное уравнение `A*X*B=-C` - найти матрицу `X`. Где `A = [[-1, 2, 4], [-3, 1, 2], [-3, 0, 1]]`, `B=[[3, -1], [2, 1]]`, `C=[[7, 21], [11, 8], [8, 4]]`."
   ]
  },
  {
   "cell_type": "code",
   "execution_count": 682,
   "outputs": [
    {
     "name": "stdout",
     "output_type": "stream",
     "text": [
      "Проверка: True\n",
      "X:\n",
      "[[ 1.00000000e+00  5.32907052e-16]\n",
      " [-2.00000000e+00  1.00000000e+00]\n",
      " [ 3.00000000e+00 -4.00000000e+00]]\n"
     ]
    }
   ],
   "source": [
    "from functools import reduce\n",
    "\n",
    "A = np.array(\n",
    "    [[-1, 2, 4],\n",
    "     [-3, 1, 2],\n",
    "     [-3, 0, 1]]\n",
    ")\n",
    "B = np.array(\n",
    "    [[3, -1],\n",
    "     [2, 1]]\n",
    ")\n",
    "C = np.array(\n",
    "    [[7., 21.],\n",
    "     [11., 8.],\n",
    "     [8., 4.]]\n",
    ")\n",
    "\n",
    "X = reduce(np.dot, [np.linalg.inv(A), -C, np.linalg.inv(B)])\n",
    "\n",
    "print(f'Проверка: {np.allclose(reduce(np.dot, [A, X, B]), -C)}')\n",
    "print(f'X:\\n{X}')"
   ],
   "metadata": {
    "collapsed": false,
    "pycharm": {
     "name": "#%%\n"
    }
   }
  },
  {
   "cell_type": "markdown",
   "metadata": {},
   "source": [
    "## Лабораторная работа №1"
   ]
  },
  {
   "cell_type": "markdown",
   "metadata": {},
   "source": [
    "Замечание: при решении данных задач не подразумевается использования циклов или генераторов Python, если в задании не сказано обратного. Решение должно опираться на использования функционала библиотеки `numpy`."
   ]
  },
  {
   "cell_type": "markdown",
   "metadata": {},
   "source": [
    "1. Файл `minutes_n_ingredients.csv` содержит информацию об идентификаторе рецепта, времени его выполнения в минутах и количестве необходимых ингредиентов. Считайте данные из этого файла в виде массива `numpy` типа `int32`, используя `np.load_txt`. Выведите на экран первые 5 строк массива."
   ]
  },
  {
   "cell_type": "code",
   "execution_count": 683,
   "outputs": [
    {
     "name": "stdout",
     "output_type": "stream",
     "text": [
      "head(5):\n",
      "[[127244     60     16]\n",
      " [ 23891     25      7]\n",
      " [ 94746     10      6]\n",
      " [ 67660      5      6]\n",
      " [157911     60     14]]\n"
     ]
    }
   ],
   "source": [
    "columns = np.loadtxt('resources/minutes_n_ingredients.csv', max_rows=1, dtype=str, delimiter=',')\n",
    "data = np.loadtxt('resources/minutes_n_ingredients.csv', skiprows=1, dtype=np.int32, delimiter=',')\n",
    "\n",
    "print(f'head(5):\\n{data[:5]}')"
   ],
   "metadata": {
    "collapsed": false,
    "pycharm": {
     "name": "#%%\n"
    }
   }
  },
  {
   "cell_type": "markdown",
   "metadata": {},
   "source": [
    "2. Вычислите среднее значение, минимум, максимум и медиану по каждому из столбцов, кроме первого."
   ]
  },
  {
   "cell_type": "code",
   "execution_count": 684,
   "outputs": [
    {
     "name": "stdout",
     "output_type": "stream",
     "text": [
      "Столбцы: ['minutes' 'n_ingredients']\n",
      "Средние значения : [2.16010017e+04 9.05528000e+00]\n",
      "Минимумы : [0 1]\n",
      "Максимумы : [2147483647         39]\n",
      "Медианы : [40.  9.]\n"
     ]
    }
   ],
   "source": [
    "without_id: np.array = data[:, 1:]\n",
    "by_cols = 0\n",
    "\n",
    "means_by_cols = without_id.mean(axis=by_cols)\n",
    "min_values_by_cols = without_id.min(axis=by_cols)\n",
    "max_values_by_cols = without_id.max(axis=by_cols)\n",
    "medians_by_cols = np.median(without_id, axis=by_cols)\n",
    "\n",
    "print(f'Столбцы: {columns[1:]}')\n",
    "print(f'Средние значения : {means_by_cols}')\n",
    "print(f'Минимумы : {min_values_by_cols}')\n",
    "print(f'Максимумы : {max_values_by_cols}')\n",
    "print(f'Медианы : {medians_by_cols}')"
   ],
   "metadata": {
    "collapsed": false,
    "pycharm": {
     "name": "#%%\n"
    }
   }
  },
  {
   "cell_type": "markdown",
   "metadata": {},
   "source": [
    "3. Ограничьте сверху значения продолжительности выполнения рецепта значением квантиля $q_{0.75}$. "
   ]
  },
  {
   "cell_type": "code",
   "execution_count": 685,
   "outputs": [
    {
     "name": "stdout",
     "output_type": "stream",
     "text": [
      "Третий квартиль: 65.0\n",
      "\n",
      "С ограничение по продолжительности выполнения рецепта:\n",
      "[[127244     60     16]\n",
      " [ 23891     25      7]\n",
      " [ 94746     10      6]\n",
      " ...\n",
      " [498432     65     15]\n",
      " [370915      5      4]\n",
      " [ 81993     65     14]]\n"
     ]
    }
   ],
   "source": [
    "with_limited_minutes = data.copy()\n",
    "\n",
    "q_3 = np.quantile(with_limited_minutes[:, 1], q=0.75, axis=0)\n",
    "# print(np.where(data[:, 1] <= q_3, data[:, 1], q_3))  # broadcasting\n",
    "\n",
    "# TODO: почему так нельзя?\n",
    "# wrong = data.copy()\n",
    "# wrong[wrong[:, 1] > q_3][:, 1] = q_3  # будто бы срез от выборки от маски создает новый массив вместо представления.\n",
    "# print(wrong)\n",
    "\n",
    "with_limited_minutes[:, 1][with_limited_minutes[:, 1] > q_3] = q_3\n",
    "\n",
    "print(f'Третий квартиль: {q_3}')\n",
    "print(f'\\nС ограничение по продолжительности выполнения рецепта:\\n{with_limited_minutes}')"
   ],
   "metadata": {
    "collapsed": false,
    "pycharm": {
     "name": "#%%\n"
    }
   }
  },
  {
   "cell_type": "markdown",
   "metadata": {},
   "source": [
    "4. Посчитайте, для скольких рецептов указана продолжительность, равная нулю. Замените для таких строк значение в данном столбце на 1."
   ]
  },
  {
   "cell_type": "code",
   "execution_count": 686,
   "outputs": [
    {
     "name": "stdout",
     "output_type": "stream",
     "text": [
      "Продолжительность рецепта была 0: 479\n",
      "\n",
      "С обновленной продолжительностью рецептов:\n",
      "[[127244     60     16]\n",
      " [ 23891     25      7]\n",
      " [ 94746     10      6]\n",
      " ...\n",
      " [498432     65     15]\n",
      " [370915      5      4]\n",
      " [ 81993     65     14]]\n"
     ]
    }
   ],
   "source": [
    "without_zeroes_minutes = with_limited_minutes.copy()\n",
    "mask = without_zeroes_minutes[:, 1] == 0\n",
    "\n",
    "zeros_n = np.count_nonzero(mask)\n",
    "without_zeroes_minutes[:, 1][mask] = 1\n",
    "\n",
    "print(f'Продолжительность рецепта была 0: {zeros_n}')\n",
    "print(f'\\nС обновленной продолжительностью рецептов:\\n{without_zeroes_minutes}')"
   ],
   "metadata": {
    "collapsed": false,
    "pycharm": {
     "name": "#%%\n"
    }
   }
  },
  {
   "cell_type": "markdown",
   "metadata": {},
   "source": [
    "5. Посчитайте, сколько уникальных рецептов находится в датасете."
   ]
  },
  {
   "cell_type": "code",
   "execution_count": 687,
   "outputs": [
    {
     "name": "stdout",
     "output_type": "stream",
     "text": [
      "Уникальных рецептов (minutes, n_ingredients): 1135\n"
     ]
    }
   ],
   "source": [
    "unique_recipes_n = np.unique(without_zeroes_minutes[:, 1:], axis=0).shape[0]\n",
    "print(f'Уникальных рецептов (minutes, n_ingredients): {unique_recipes_n}')"
   ],
   "metadata": {
    "collapsed": false,
    "pycharm": {
     "name": "#%%\n"
    }
   }
  },
  {
   "cell_type": "markdown",
   "metadata": {},
   "source": [
    "6. Сколько и каких различных значений кол-ва ингредиентов присутствует в рецептах из датасета?"
   ]
  },
  {
   "cell_type": "code",
   "execution_count": 688,
   "outputs": [
    {
     "name": "stdout",
     "output_type": "stream",
     "text": [
      "Различных значений кол-ва ингредиентов: 37\n",
      "\n",
      "Уникальные значения кол-ва ингредиентов:\n",
      "[ 1  2  3  4  5  6  7  8  9 10 11 12 13 14 15 16 17 18 19 20 21 22 23 24\n",
      " 25 26 27 28 29 30 31 32 33 34 35 37 39]\n",
      "\n",
      "counter:\n",
      "[[    1    13]\n",
      " [    2   926]\n",
      " [    3  2895]\n",
      " [    4  5515]\n",
      " [    5  7913]\n",
      " [    6  9376]\n",
      " [    7 10628]\n",
      " [    8 10951]\n",
      " [    9 10585]\n",
      " [   10  9591]\n",
      " [   11  8297]\n",
      " [   12  6605]\n",
      " [   13  4997]\n",
      " [   14  3663]\n",
      " [   15  2595]\n",
      " [   16  1767]\n",
      " [   17  1246]\n",
      " [   18   790]\n",
      " [   19   573]\n",
      " [   20   376]\n",
      " [   21   217]\n",
      " [   22   161]\n",
      " [   23   105]\n",
      " [   24    69]\n",
      " [   25    50]\n",
      " [   26    28]\n",
      " [   27    16]\n",
      " [   28    16]\n",
      " [   29    12]\n",
      " [   30    12]\n",
      " [   31     3]\n",
      " [   32     1]\n",
      " [   33     2]\n",
      " [   34     1]\n",
      " [   35     3]\n",
      " [   37     1]\n",
      " [   39     1]]\n"
     ]
    }
   ],
   "source": [
    "unique_n_ingredients = np.unique(without_zeroes_minutes[:, 2])\n",
    "unique_n_ingredients_n = len(unique_n_ingredients)\n",
    "\n",
    "print(f'Различных значений кол-ва ингредиентов: {unique_n_ingredients_n}')\n",
    "print(f'\\nУникальные значения кол-ва ингредиентов:\\n{unique_n_ingredients}')\n",
    "\n",
    "# ======== и counter дополнительно:\n",
    "unique_n_ingredients, counts = np.unique(without_zeroes_minutes[:, 2], return_counts=True)\n",
    "counter = np.column_stack([unique_n_ingredients, counts])\n",
    "print(f'\\ncounter:\\n{counter}')"
   ],
   "metadata": {
    "collapsed": false,
    "pycharm": {
     "name": "#%%\n"
    }
   }
  },
  {
   "cell_type": "markdown",
   "metadata": {},
   "source": [
    "7. Создайте версию массива, содержащую информацию только о рецептах, состоящих не более чем из 5 ингредиентов."
   ]
  },
  {
   "cell_type": "code",
   "execution_count": 689,
   "outputs": [
    {
     "name": "stdout",
     "output_type": "stream",
     "text": [
      "Массив с рецептами не более чем из 5 ингредиентов:\n",
      "[[446597     15      5]\n",
      " [204134      5      3]\n",
      " [ 25623      6      4]\n",
      " ...\n",
      " [ 52088     60      5]\n",
      " [128811     15      4]\n",
      " [370915      5      4]]\n"
     ]
    }
   ],
   "source": [
    "with_n_ingredients_lte_5 = without_zeroes_minutes[without_zeroes_minutes[:, 2] <= 5]\n",
    "\n",
    "print(f'Массив с рецептами не более чем из 5 ингредиентов:\\n{with_n_ingredients_lte_5}')"
   ],
   "metadata": {
    "collapsed": false,
    "pycharm": {
     "name": "#%%\n"
    }
   }
  },
  {
   "cell_type": "markdown",
   "metadata": {},
   "source": [
    "8. Для каждого рецепта посчитайте, сколько в среднем ингредиентах приходится на одну минуту рецепта. Найдите максимальное значение этой величины для всего датасета"
   ]
  },
  {
   "cell_type": "code",
   "execution_count": 690,
   "outputs": [
    {
     "name": "stdout",
     "output_type": "stream",
     "text": [
      "Ингредиентов на одну минуту:\n",
      "[[1.27244000e+05 2.66666667e-01]\n",
      " [2.38910000e+04 2.80000000e-01]\n",
      " [9.47460000e+04 6.00000000e-01]\n",
      " ...\n",
      " [4.98432000e+05 2.30769231e-01]\n",
      " [3.70915000e+05 8.00000000e-01]\n",
      " [8.19930000e+04 2.15384615e-01]]\n",
      "\n",
      "Максимум ингредиентов на одну минуту: 24.0\n"
     ]
    }
   ],
   "source": [
    "ingredients_per_minute = without_zeroes_minutes[:, 2] / without_zeroes_minutes[:, 1]\n",
    "ingredients_per_minute_table = np.stack([without_zeroes_minutes[:, 0], ingredients_per_minute], axis=1)\n",
    "max_ingredients_per_minute = ingredients_per_minute.max()\n",
    "\n",
    "print(f'Ингредиентов на одну минуту:\\n{ingredients_per_minute_table}')\n",
    "print(f'\\nМаксимум ингредиентов на одну минуту: {max_ingredients_per_minute}')"
   ],
   "metadata": {
    "collapsed": false,
    "pycharm": {
     "name": "#%%\n"
    }
   }
  },
  {
   "cell_type": "markdown",
   "metadata": {},
   "source": [
    "9. Вычислите среднее количество ингредиентов для топ-100 рецептов с наибольшей продолжительностью"
   ]
  },
  {
   "cell_type": "code",
   "execution_count": 691,
   "outputs": [
    {
     "name": "stdout",
     "output_type": "stream",
     "text": [
      "Среднее количество ингредиентов для топ-100 (minutes): 9.96\n"
     ]
    }
   ],
   "source": [
    "top_100_by_minutes_index = np.argsort(without_zeroes_minutes[:, 1])[:-101:-1]\n",
    "top_100_by_minutes = without_zeroes_minutes[top_100_by_minutes_index]\n",
    "\n",
    "mean_ingredients_by_top_100_by_minutes = top_100_by_minutes[:, 2].mean()\n",
    "\n",
    "print(f'Среднее количество ингредиентов для топ-{len(top_100_by_minutes)} (minutes): '\n",
    "      f'{mean_ingredients_by_top_100_by_minutes}')"
   ],
   "metadata": {
    "collapsed": false,
    "pycharm": {
     "name": "#%%\n"
    }
   }
  },
  {
   "cell_type": "markdown",
   "metadata": {},
   "source": [
    "10. Выберите случайным образом и выведите информацию о 10 различных рецептах"
   ]
  },
  {
   "cell_type": "code",
   "execution_count": 692,
   "outputs": [
    {
     "name": "stdout",
     "output_type": "stream",
     "text": [
      "10 случайных уникальных рецептов:\n",
      "[[389780     20      7]\n",
      " [218207     25     11]\n",
      " [321733     65      2]\n",
      " [ 33822     35     12]\n",
      " [ 41350     65      8]\n",
      " [229526     40      7]\n",
      " [   754     10      7]\n",
      " [169645     23      9]\n",
      " [169566      5      6]\n",
      " [ 46210     25      8]]\n"
     ]
    }
   ],
   "source": [
    "total_recipes = without_zeroes_minutes.shape[0]\n",
    "random_index = np.random.default_rng().choice(np.arange(total_recipes), size=10, replace=False)\n",
    "\n",
    "random_choice = np.unique(without_zeroes_minutes, axis=0)[random_index]\n",
    "\n",
    "print(f'{len(random_choice)} случайных уникальных рецептов:\\n{random_choice}')"
   ],
   "metadata": {
    "collapsed": false,
    "pycharm": {
     "name": "#%%\n"
    }
   }
  },
  {
   "cell_type": "markdown",
   "metadata": {},
   "source": [
    "11. Выведите процент рецептов, кол-во ингредиентов в которых меньше среднего."
   ]
  },
  {
   "cell_type": "code",
   "execution_count": 693,
   "outputs": [
    {
     "name": "stdout",
     "output_type": "stream",
     "text": [
      "Процент рецептов, кол-во ингредиентов в которых меньше среднего: 58.8%\n"
     ]
    }
   ],
   "source": [
    "total_recipes = without_zeroes_minutes.shape[0]\n",
    "mean_ingredients = without_zeroes_minutes[:, 2].mean()\n",
    "\n",
    "mask = without_zeroes_minutes[:, 2] < mean_ingredients\n",
    "n_recipes_ingredients_lte_mean = without_zeroes_minutes[mask].shape[0]\n",
    "percent_lte_mean = n_recipes_ingredients_lte_mean / total_recipes * 100\n",
    "\n",
    "print(f'Процент рецептов, кол-во ингредиентов в которых меньше среднего: {percent_lte_mean:.1f}%')"
   ],
   "metadata": {
    "collapsed": false,
    "pycharm": {
     "name": "#%%\n"
    }
   }
  },
  {
   "cell_type": "markdown",
   "metadata": {},
   "source": [
    "12. Назовем \"простым\" такой рецепт, длительность выполнения которого не больше 20 минут и кол-во ингредиентов в котором не больше 5. Создайте версию датасета с дополнительным столбцом, значениями которого являются 1, если рецепт простой, и 0 в противном случае."
   ]
  },
  {
   "cell_type": "code",
   "execution_count": 694,
   "outputs": [
    {
     "name": "stdout",
     "output_type": "stream",
     "text": [
      "Добавлен столбец классификации простоты рецепта:\n",
      "[[127244     60     16      0]\n",
      " [ 23891     25      7      0]\n",
      " [ 94746     10      6      0]\n",
      " ...\n",
      " [498432     65     15      0]\n",
      " [370915      5      4      1]\n",
      " [ 81993     65     14      0]]\n"
     ]
    }
   ],
   "source": [
    "with_simple_cls = without_zeroes_minutes.copy()\n",
    "\n",
    "mask = np.logical_and(with_simple_cls[:, 1] <= 20, with_simple_cls[:, 2] <= 5)\n",
    "simple_cls_col = mask.astype(int)\n",
    "with_simple_cls = np.column_stack([with_simple_cls, simple_cls_col])\n",
    "\n",
    "print(f'Добавлен столбец классификации простоты рецепта:\\n{with_simple_cls}')"
   ],
   "metadata": {
    "collapsed": false,
    "pycharm": {
     "name": "#%%\n"
    }
   }
  },
  {
   "cell_type": "markdown",
   "metadata": {},
   "source": [
    "13. Выведите процент \"простых\" рецептов в датасете"
   ]
  },
  {
   "cell_type": "code",
   "execution_count": 695,
   "outputs": [
    {
     "name": "stdout",
     "output_type": "stream",
     "text": [
      "Процент простых рецептов: 9.55%\n"
     ]
    }
   ],
   "source": [
    "total_recipes = with_simple_cls.shape[0]\n",
    "n_simple_recipes = np.count_nonzero(with_simple_cls[:, 3])\n",
    "\n",
    "percent_simple = n_simple_recipes / total_recipes * 100\n",
    "\n",
    "print(f'Процент простых рецептов: {percent_simple:.2f}%')"
   ],
   "metadata": {
    "collapsed": false,
    "pycharm": {
     "name": "#%%\n"
    }
   }
  },
  {
   "cell_type": "markdown",
   "metadata": {
    "pycharm": {
     "name": "#%% md\n"
    }
   },
   "source": [
    "14. Разделим рецепты на группы по следующему правилу. Назовем рецепты короткими, если их продолжительность составляет менее 10 минут; стандартными, если их продолжительность составляет более 10, но менее 20 минут; и длинными, если их продолжительность составляет не менее 20 минут. Создайте трехмерный массив, где нулевая ось отвечает за номер группы (короткий, стандартный или длинный рецепт), первая ось - за сам рецепт и вторая ось - за характеристики рецепта. Выберите максимальное количество рецептов из каждой группы таким образом, чтобы было возможно сформировать трехмерный массив. Выведите форму полученного массива."
   ]
  },
  {
   "cell_type": "code",
   "execution_count": 696,
   "outputs": [
    {
     "name": "stdout",
     "output_type": "stream",
     "text": [
      "\n",
      "Похоже на правду (cropped):\n",
      "shape: (3, 7588, 4)\n",
      "[[[ 67660      5      6      0]\n",
      "  [366174      7      9      0]\n",
      "  [204134      5      3      1]\n",
      "  ...\n",
      "  [420725      5      3      1]\n",
      "  [  4747      1      9      0]\n",
      "  [370915      5      4      1]]\n",
      "\n",
      " [[ 94746     10      6      0]\n",
      "  [ 33941     18      9      0]\n",
      "  [446597     15      5      1]\n",
      "  ...\n",
      "  [  9831     15      7      0]\n",
      "  [335859     12     14      0]\n",
      "  [256812     10      3      1]]\n",
      "\n",
      " [[127244     60     16      0]\n",
      "  [ 23891     25      7      0]\n",
      "  [157911     60     14      0]\n",
      "  ...\n",
      "  [168901     25      7      0]\n",
      "  [392339     35     13      0]\n",
      "  [206732     45     10      0]]]\n",
      "\n",
      "Похоже на правду (with_zeros):\n",
      "shape: (3, 79751, 4)\n",
      "[[[ 67660      5      6      0]\n",
      "  [366174      7      9      0]\n",
      "  [204134      5      3      1]\n",
      "  ...\n",
      "  [     0      0      0      0]\n",
      "  [     0      0      0      0]\n",
      "  [     0      0      0      0]]\n",
      "\n",
      " [[ 94746     10      6      0]\n",
      "  [ 33941     18      9      0]\n",
      "  [446597     15      5      1]\n",
      "  ...\n",
      "  [     0      0      0      0]\n",
      "  [     0      0      0      0]\n",
      "  [     0      0      0      0]]\n",
      "\n",
      " [[127244     60     16      0]\n",
      "  [ 23891     25      7      0]\n",
      "  [157911     60     14      0]\n",
      "  ...\n",
      "  [287943     65     15      0]\n",
      "  [498432     65     15      0]\n",
      "  [ 81993     65     14      0]]]\n"
     ]
    }
   ],
   "source": [
    "short_mask = with_simple_cls[:, 1] < 10\n",
    "standard_mask = np.logical_and(10 <= with_simple_cls[:, 1], with_simple_cls[:, 1] < 20)\n",
    "long_mask = 20 <= with_simple_cls[:, 1]\n",
    "\n",
    "assert (np.count_nonzero(short_mask) +\n",
    "        np.count_nonzero(standard_mask) +\n",
    "        np.count_nonzero(long_mask) == with_simple_cls.shape[0])\n",
    "\n",
    "short_recipes = with_simple_cls[short_mask]\n",
    "standard_recipes = with_simple_cls[standard_mask]\n",
    "long_recipes = with_simple_cls[long_mask]\n",
    "\n",
    "min_size = min(short_recipes.shape[0], standard_recipes.shape[0], long_recipes.shape[0])\n",
    "\n",
    "cropped_3d = np.array([\n",
    "    short_recipes[:min_size],\n",
    "    standard_recipes[:min_size],\n",
    "    long_recipes[:min_size],\n",
    "])\n",
    "\n",
    "max_size = max(short_recipes.shape[0], standard_recipes.shape[0], long_recipes.shape[0])\n",
    "\n",
    "with_zeros_3d = np.zeros((3, max_size, 4), dtype=int)\n",
    "with_zeros_3d[0, :short_recipes.shape[0], :] = short_recipes\n",
    "with_zeros_3d[1, :standard_recipes.shape[0], :] = standard_recipes\n",
    "with_zeros_3d[2, :long_recipes.shape[0], :] = long_recipes\n",
    "\n",
    "print(f'\\nПохоже на правду (cropped):\\nshape: {cropped_3d.shape}\\n{cropped_3d}')\n",
    "print(f'\\nПохоже на правду (with_zeros):\\nshape: {with_zeros_3d.shape}\\n{with_zeros_3d}')\n"
   ],
   "metadata": {
    "collapsed": false,
    "pycharm": {
     "name": "#%%\n"
    }
   }
  }
 ],
 "metadata": {
  "kernelspec": {
   "name": "pycharm-a7f0f498",
   "language": "python",
   "display_name": "PyCharm (01_numpy_intro)"
  },
  "language_info": {
   "codemirror_mode": {
    "name": "ipython",
    "version": 3
   },
   "file_extension": ".py",
   "mimetype": "text/x-python",
   "name": "python",
   "nbconvert_exporter": "python",
   "pygments_lexer": "ipython3",
   "version": "3.9.7"
  }
 },
 "nbformat": 4,
 "nbformat_minor": 4
}