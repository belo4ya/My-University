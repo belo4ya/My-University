{
 "cells": [
  {
   "cell_type": "markdown",
   "metadata": {},
   "source": [
    "# Numpy"
   ]
  },
  {
   "cell_type": "markdown",
   "metadata": {},
   "source": [
    "Материалы:\n",
    "* Макрушин С.В. \"Лекция 1: Библиотека Numpy\"\n",
    "* https://numpy.org/doc/stable/user/index.html\n",
    "* https://numpy.org/doc/stable/reference/index.html"
   ]
  },
  {
   "cell_type": "markdown",
   "metadata": {},
   "source": [
    "## Задачи для совместного разбора"
   ]
  },
  {
   "cell_type": "code",
   "execution_count": 355,
   "outputs": [],
   "source": [
    "import numpy as np"
   ],
   "metadata": {
    "collapsed": false,
    "pycharm": {
     "name": "#%%\n"
    }
   }
  },
  {
   "cell_type": "markdown",
   "metadata": {},
   "source": [
    "1. Сгенерировать двухмерный массив `arr` размерности (4, 7), состоящий из случайных действительных чисел, равномерно распределенных в диапазоне от 0 до 20. Нормализовать значения массива с помощью преобразования вида  $𝑎𝑥+𝑏$  так, что после нормализации максимальный элемент масcива будет равен 1.0, минимальный 0.0"
   ]
  },
  {
   "cell_type": "code",
   "execution_count": 356,
   "outputs": [
    {
     "name": "stdout",
     "output_type": "stream",
     "text": [
      "Нормализованный массив: \n",
      "[[0.76555184 0.7258927  0.27669292 0.70717326 0.38005521 0.90711103\n",
      "  0.83443075]\n",
      " [0.12054023 0.5392611  0.069435   0.95836178 0.46067685 0.05154023\n",
      "  0.24053439]\n",
      " [0.         0.83770842 0.54952546 0.44394398 1.         0.5874684\n",
      "  0.3146209 ]\n",
      " [0.78933866 0.06742845 0.43967707 0.53766163 0.6130964  0.71521827\n",
      "  0.57551777]]\n"
     ]
    }
   ],
   "source": [
    "def normalize(data: np.array) -> np.array:\n",
    "    min_ = np.min(data)\n",
    "    max_ = np.max(data)\n",
    "    a = 1 / (max_ - min_)\n",
    "    b = min_ / (min_ - max_)\n",
    "    return a * data + b\n",
    "\n",
    "\n",
    "arr = np.random.uniform(0, 20, size=(4, 7))\n",
    "normalized_arr = normalize(arr)\n",
    "\n",
    "print(f'Нормализованный массив: \\n{normalized_arr}')"
   ],
   "metadata": {
    "collapsed": false,
    "pycharm": {
     "name": "#%%\n"
    }
   }
  },
  {
   "cell_type": "markdown",
   "metadata": {},
   "source": [
    "2. Создать матрицу 8 на 10 из случайных целых (используя модуль `numpy.random`) чисел из диапозона от 0 до 10 и найти в ней строку (ее индекс и вывести саму строку), в которой сумма значений минимальна."
   ]
  },
  {
   "cell_type": "code",
   "execution_count": 357,
   "outputs": [
    {
     "name": "stdout",
     "output_type": "stream",
     "text": [
      "Исходная матрица: \n",
      "[[5 8 3 2 4 9 4 4 9 3]\n",
      " [8 6 5 3 7 3 8 2 9 7]\n",
      " [6 4 9 3 8 0 0 0 9 5]\n",
      " [2 3 3 0 3 8 6 4 6 2]\n",
      " [0 2 7 8 0 4 7 2 2 3]\n",
      " [4 8 6 9 2 4 6 1 3 9]\n",
      " [3 4 4 9 8 4 4 5 9 7]\n",
      " [5 9 0 5 4 8 5 8 6 2]]\n",
      "\n",
      "Суммы значений строк: [51 58 44 37 35 52 57 52]\n",
      "\n",
      "Индекс строки с минимальной суммой: 4\n",
      "\n",
      "Строка с минимальной суммой элементов: [0 2 7 8 0 4 7 2 2 3]\n"
     ]
    }
   ],
   "source": [
    "matrix = np.random.randint(0, 10, size=(8, 10))\n",
    "\n",
    "print(f'Исходная матрица: \\n{matrix}')\n",
    "print(f'\\nСуммы значений строк: {matrix.sum(axis=1)}')\n",
    "\n",
    "min_str_i = matrix.sum(axis=1).argmin()\n",
    "print(f'\\nИндекс строки с минимальной суммой: {min_str_i}')\n",
    "print(f'\\nСтрока с минимальной суммой элементов: {matrix[min_str_i]}')"
   ],
   "metadata": {
    "collapsed": false,
    "pycharm": {
     "name": "#%%\n"
    }
   }
  },
  {
   "cell_type": "markdown",
   "metadata": {},
   "source": [
    "3. Найти евклидово расстояние между двумя одномерными векторами одинаковой размерности."
   ]
  },
  {
   "cell_type": "code",
   "execution_count": 358,
   "outputs": [
    {
     "name": "stdout",
     "output_type": "stream",
     "text": [
      "Евклидово расстояние: 13.820274961085254\n"
     ]
    }
   ],
   "source": [
    "def euclidean(a: np.array, b: np.array) -> float:\n",
    "    return np.sqrt(np.sum((a - b) ** 2))\n",
    "\n",
    "\n",
    "size = 5\n",
    "vector_1 = np.random.randint(0, 10, size)\n",
    "vector_2 = np.random.randint(0, 10, size)\n",
    "\n",
    "euclidean_distance = euclidean(vector_1, vector_2)\n",
    "print(f'Евклидово расстояние: {euclidean_distance}')"
   ],
   "metadata": {
    "collapsed": false,
    "pycharm": {
     "name": "#%%\n"
    }
   }
  },
  {
   "cell_type": "markdown",
   "metadata": {},
   "source": [
    "4. Решить матричное уравнение `A*X*B=-C` - найти матрицу `X`. Где `A = [[-1, 2, 4], [-3, 1, 2], [-3, 0, 1]]`, `B=[[3, -1], [2, 1]]`, `C=[[7, 21], [11, 8], [8, 4]]`."
   ]
  },
  {
   "cell_type": "code",
   "execution_count": 359,
   "outputs": [
    {
     "name": "stdout",
     "output_type": "stream",
     "text": [
      "Проверка: True\n",
      "X:\n",
      "[[ 1.00000000e+00  5.32907052e-16]\n",
      " [-2.00000000e+00  1.00000000e+00]\n",
      " [ 3.00000000e+00 -4.00000000e+00]]\n"
     ]
    }
   ],
   "source": [
    "from functools import reduce\n",
    "\n",
    "A = np.array(\n",
    "    [[-1, 2, 4],\n",
    "     [-3, 1, 2],\n",
    "     [-3, 0, 1]]\n",
    ")\n",
    "B = np.array(\n",
    "    [[3, -1],\n",
    "     [2, 1]]\n",
    ")\n",
    "C = np.array(\n",
    "    [[7., 21.],\n",
    "     [11., 8.],\n",
    "     [8., 4.]]\n",
    ")\n",
    "\n",
    "X = reduce(np.dot, [np.linalg.inv(A), -C, np.linalg.inv(B)])\n",
    "\n",
    "print(f'Проверка: {np.allclose(reduce(np.dot, [A, X, B]), -C)}')\n",
    "print(f'X:\\n{X}')"
   ],
   "metadata": {
    "collapsed": false,
    "pycharm": {
     "name": "#%%\n"
    }
   }
  },
  {
   "cell_type": "markdown",
   "metadata": {},
   "source": [
    "## Лабораторная работа №1"
   ]
  },
  {
   "cell_type": "markdown",
   "metadata": {},
   "source": [
    "Замечание: при решении данных задач не подразумевается использования циклов или генераторов Python, если в задании не сказано обратного. Решение должно опираться на использования функционала библиотеки `numpy`."
   ]
  },
  {
   "cell_type": "markdown",
   "metadata": {},
   "source": [
    "1. Файл `minutes_n_ingredients.csv` содержит информацию об идентификаторе рецепта, времени его выполнения в минутах и количестве необходимых ингредиентов. Считайте данные из этого файла в виде массива `numpy` типа `int32`, используя `np.load_txt`. Выведите на экран первые 5 строк массива."
   ]
  },
  {
   "cell_type": "code",
   "execution_count": 360,
   "outputs": [
    {
     "name": "stdout",
     "output_type": "stream",
     "text": [
      "head(5):\n",
      "[[127244     60     16]\n",
      " [ 23891     25      7]\n",
      " [ 94746     10      6]\n",
      " [ 67660      5      6]\n",
      " [157911     60     14]]\n"
     ]
    }
   ],
   "source": [
    "columns = np.loadtxt('resources/minutes_n_ingredients.csv', max_rows=1, dtype=str, delimiter=',')\n",
    "data = np.loadtxt('resources/minutes_n_ingredients.csv', skiprows=1, dtype=np.int32, delimiter=',')\n",
    "\n",
    "print(f'head(5):\\n{data[:5]}')"
   ],
   "metadata": {
    "collapsed": false,
    "pycharm": {
     "name": "#%%\n"
    }
   }
  },
  {
   "cell_type": "markdown",
   "metadata": {},
   "source": [
    "2. Вычислите среднее значение, минимум, максимум и медиану по каждому из столбцов, кроме первого."
   ]
  },
  {
   "cell_type": "code",
   "execution_count": 361,
   "outputs": [
    {
     "name": "stdout",
     "output_type": "stream",
     "text": [
      "Столбцы: ['minutes' 'n_ingredients']\n",
      "Средние значения : [2.16010017e+04 9.05528000e+00]\n",
      "Минимумы : [0 1]\n",
      "Максимумы : [2147483647         39]\n",
      "Медианы : [40.  9.]\n"
     ]
    }
   ],
   "source": [
    "without_id: np.array = data[:, 1:]\n",
    "by_cols = 0\n",
    "\n",
    "means_by_cols = without_id.mean(axis=by_cols)\n",
    "min_values_by_cols = without_id.min(axis=by_cols)\n",
    "max_values_by_cols = without_id.max(axis=by_cols)\n",
    "medians_by_cols = np.median(without_id, axis=by_cols)\n",
    "\n",
    "print(f'Столбцы: {columns[1:]}')\n",
    "print(f'Средние значения : {means_by_cols}')\n",
    "print(f'Минимумы : {min_values_by_cols}')\n",
    "print(f'Максимумы : {max_values_by_cols}')\n",
    "print(f'Медианы : {medians_by_cols}')"
   ],
   "metadata": {
    "collapsed": false,
    "pycharm": {
     "name": "#%%\n"
    }
   }
  },
  {
   "cell_type": "markdown",
   "metadata": {},
   "source": [
    "3. Ограничьте сверху значения продолжительности выполнения рецепта значением квантиля $q_{0.75}$. "
   ]
  },
  {
   "cell_type": "code",
   "execution_count": 362,
   "outputs": [
    {
     "name": "stdout",
     "output_type": "stream",
     "text": [
      "Третий квартиль: 65.0\n",
      "\n",
      "С ограничение по продолжительности выполнения рецепта:\n",
      "[[127244     60     16]\n",
      " [ 23891     25      7]\n",
      " [ 94746     10      6]\n",
      " ...\n",
      " [498432     65     15]\n",
      " [370915      5      4]\n",
      " [ 81993     65     14]]\n"
     ]
    }
   ],
   "source": [
    "with_limited_minutes = data.copy()\n",
    "\n",
    "q_3 = np.quantile(with_limited_minutes[:, 1], q=0.75, axis=0)\n",
    "# print(np.where(data[:, 1] <= q_3, data[:, 1], q_3))  # broadcasting\n",
    "\n",
    "# TODO: почему так нельзя?\n",
    "# wrong = data.copy()\n",
    "# wrong[wrong[:, 1] > q_3][:, 1] = q_3  # будто бы срез от выборки от маски создает новый массив вместо представления.\n",
    "# print(wrong)\n",
    "\n",
    "with_limited_minutes[:, 1][with_limited_minutes[:, 1] > q_3] = q_3\n",
    "\n",
    "print(f'Третий квартиль: {q_3}')\n",
    "print(f'\\nС ограничение по продолжительности выполнения рецепта:\\n{with_limited_minutes}')"
   ],
   "metadata": {
    "collapsed": false,
    "pycharm": {
     "name": "#%%\n"
    }
   }
  },
  {
   "cell_type": "markdown",
   "metadata": {},
   "source": [
    "4. Посчитайте, для скольких рецептов указана продолжительность, равная нулю. Замените для таких строк значение в данном столбце на 1."
   ]
  },
  {
   "cell_type": "code",
   "execution_count": 363,
   "outputs": [
    {
     "name": "stdout",
     "output_type": "stream",
     "text": [
      "Продолжительность рецепта была 0: 479\n",
      "\n",
      "С обновленной продолжительностью рецептов:\n",
      "[[127244     60     16]\n",
      " [ 23891     25      7]\n",
      " [ 94746     10      6]\n",
      " ...\n",
      " [498432     65     15]\n",
      " [370915      5      4]\n",
      " [ 81993     65     14]]\n"
     ]
    }
   ],
   "source": [
    "without_zeroes_minutes = with_limited_minutes.copy()\n",
    "mask = without_zeroes_minutes[:, 1] == 0\n",
    "\n",
    "zeros_n = np.count_nonzero(mask)\n",
    "without_zeroes_minutes[:, 1][mask] = 1\n",
    "\n",
    "print(f'Продолжительность рецепта была 0: {zeros_n}')\n",
    "print(f'\\nС обновленной продолжительностью рецептов:\\n{without_zeroes_minutes}')"
   ],
   "metadata": {
    "collapsed": false,
    "pycharm": {
     "name": "#%%\n"
    }
   }
  },
  {
   "cell_type": "markdown",
   "metadata": {},
   "source": [
    "5. Посчитайте, сколько уникальных рецептов находится в датасете."
   ]
  },
  {
   "cell_type": "code",
   "execution_count": 364,
   "outputs": [
    {
     "name": "stdout",
     "output_type": "stream",
     "text": [
      "Уникальных рецептов (minutes, n_ingredients): 1135\n"
     ]
    }
   ],
   "source": [
    "unique_recipes_n = np.unique(without_zeroes_minutes[:, 1:], axis=0).shape[0]\n",
    "print(f'Уникальных рецептов (minutes, n_ingredients): {unique_recipes_n}')"
   ],
   "metadata": {
    "collapsed": false,
    "pycharm": {
     "name": "#%%\n"
    }
   }
  },
  {
   "cell_type": "markdown",
   "metadata": {},
   "source": [
    "6. Сколько и каких различных значений кол-ва ингредиентов присутствует в рецептах из датасета?"
   ]
  },
  {
   "cell_type": "code",
   "execution_count": 365,
   "outputs": [
    {
     "name": "stdout",
     "output_type": "stream",
     "text": [
      "Различных значений кол-ва ингредиентов: 37\n",
      "\n",
      "Уникальные значения кол-ва ингредиентов:\n",
      "[ 1  2  3  4  5  6  7  8  9 10 11 12 13 14 15 16 17 18 19 20 21 22 23 24\n",
      " 25 26 27 28 29 30 31 32 33 34 35 37 39]\n"
     ]
    }
   ],
   "source": [
    "unique_n_ingredients = np.unique(without_zeroes_minutes[:, 2])\n",
    "unique_n_ingredients_n = len(unique_n_ingredients)\n",
    "\n",
    "print(f'Различных значений кол-ва ингредиентов: {unique_n_ingredients_n}')\n",
    "print(f'\\nУникальные значения кол-ва ингредиентов:\\n{unique_n_ingredients}')"
   ],
   "metadata": {
    "collapsed": false,
    "pycharm": {
     "name": "#%%\n"
    }
   }
  },
  {
   "cell_type": "markdown",
   "metadata": {},
   "source": [
    "7. Создайте версию массива, содержащую информацию только о рецептах, состоящих не более чем из 5 ингредиентов."
   ]
  },
  {
   "cell_type": "code",
   "execution_count": 383,
   "outputs": [
    {
     "name": "stdout",
     "output_type": "stream",
     "text": [
      "Массив с рецептами не более чем из 5 ингредиентов:\n",
      "[[446597     15      5]\n",
      " [204134      5      3]\n",
      " [ 25623      6      4]\n",
      " ...\n",
      " [ 52088     60      5]\n",
      " [128811     15      4]\n",
      " [370915      5      4]]\n"
     ]
    }
   ],
   "source": [
    "with_n_ingredients_lte_5 = without_zeroes_minutes[without_zeroes_minutes[:, 2] <= 5]\n",
    "\n",
    "print(f'Массив с рецептами не более чем из 5 ингредиентов:\\n{with_n_ingredients_lte_5}')"
   ],
   "metadata": {
    "collapsed": false,
    "pycharm": {
     "name": "#%%\n"
    }
   }
  },
  {
   "cell_type": "markdown",
   "metadata": {},
   "source": [
    "8. Для каждого рецепта посчитайте, сколько в среднем ингредиентах приходится на одну минуту рецепта. Найдите максимальное значение этой величины для всего датасета"
   ]
  },
  {
   "cell_type": "code",
   "execution_count": 416,
   "outputs": [
    {
     "name": "stdout",
     "output_type": "stream",
     "text": [
      "Ингредиентов на одну минуту:\n",
      "[[1.27244000e+05 2.66666667e-01]\n",
      " [2.38910000e+04 2.80000000e-01]\n",
      " [9.47460000e+04 6.00000000e-01]\n",
      " ...\n",
      " [4.98432000e+05 2.30769231e-01]\n",
      " [3.70915000e+05 8.00000000e-01]\n",
      " [8.19930000e+04 2.15384615e-01]]\n",
      "\n",
      "Максимум ингредиентов на одну минуту: 24.0\n"
     ]
    }
   ],
   "source": [
    "ingredients_per_minute = without_zeroes_minutes[:, 2] / without_zeroes_minutes[:, 1]\n",
    "ingredients_per_minute_table = np.stack([without_zeroes_minutes[:, 0], ingredients_per_minute], axis=1)\n",
    "max_ingredients_per_minute = ingredients_per_minute.max()\n",
    "\n",
    "print(f'Ингредиентов на одну минуту:\\n{ingredients_per_minute_table}')\n",
    "print(f'\\nМаксимум ингредиентов на одну минуту: {max_ingredients_per_minute}')"
   ],
   "metadata": {
    "collapsed": false,
    "pycharm": {
     "name": "#%%\n"
    }
   }
  },
  {
   "cell_type": "markdown",
   "metadata": {},
   "source": [
    "9. Вычислите среднее количество ингредиентов для топ-100 рецептов с наибольшей продолжительностью"
   ]
  },
  {
   "cell_type": "code",
   "execution_count": 514,
   "outputs": [
    {
     "name": "stdout",
     "output_type": "stream",
     "text": [
      "Среднее количество ингредиентов для топ-100 (minutes): 9.96\n"
     ]
    }
   ],
   "source": [
    "total_recipes = without_zeroes_minutes.shape[0]\n",
    "top_100_by_minutes_index = np.argsort(without_zeroes_minutes[:, 1])[:total_recipes - 100 - 1:-1]\n",
    "top_100_by_minutes = without_zeroes_minutes[top_100_by_minutes_index]\n",
    "\n",
    "mean_ingredients_by_top_100_by_minutes = top_100_by_minutes[:, 2].mean()\n",
    "\n",
    "print(f'Среднее количество ингредиентов для топ-{len(top_100_by_minutes)} (minutes): '\n",
    "      f'{mean_ingredients_by_top_100_by_minutes}')"
   ],
   "metadata": {
    "collapsed": false,
    "pycharm": {
     "name": "#%%\n"
    }
   }
  },
  {
   "cell_type": "markdown",
   "metadata": {},
   "source": [
    "10. Выберите случайным образом и выведите информацию о 10 различных рецептах"
   ]
  },
  {
   "cell_type": "code",
   "execution_count": 525,
   "outputs": [
    {
     "name": "stdout",
     "output_type": "stream",
     "text": [
      "10 случайных уникальных рецептов:\n",
      "[[487914     65     11]\n",
      " [249880     40      9]\n",
      " [ 96975     60     11]\n",
      " [420601     60      6]\n",
      " [ 78598     45      9]\n",
      " [ 30296     65     11]\n",
      " [466974     65     16]\n",
      " [218717     36      5]\n",
      " [180225     30      4]\n",
      " [125404     15     16]]\n"
     ]
    }
   ],
   "source": [
    "total_recipes = without_zeroes_minutes.shape[0]\n",
    "random_index = np.random.default_rng().choice(np.arange(total_recipes), size=10, replace=False)\n",
    "\n",
    "random_choice = np.unique(without_zeroes_minutes, axis=0)[random_index]\n",
    "\n",
    "print(f'{len(random_choice)} случайных уникальных рецептов:\\n{random_choice}')"
   ],
   "metadata": {
    "collapsed": false,
    "pycharm": {
     "name": "#%%\n"
    }
   }
  },
  {
   "cell_type": "markdown",
   "metadata": {},
   "source": [
    "11. Выведите процент рецептов, кол-во ингредиентов в которых меньше среднего."
   ]
  },
  {
   "cell_type": "code",
   "execution_count": 552,
   "outputs": [
    {
     "name": "stdout",
     "output_type": "stream",
     "text": [
      "Процент рецептов, кол-во ингредиентов в которых меньше среднего: 58.8%\n"
     ]
    }
   ],
   "source": [
    "total_recipes = without_zeroes_minutes.shape[0]\n",
    "mean_ingredients = without_zeroes_minutes[:, 2].mean()\n",
    "\n",
    "n_recipes_ingredients_lte_mean = without_zeroes_minutes[without_zeroes_minutes[:, 2] < mean_ingredients].shape[0]\n",
    "percent_lte_mean = n_recipes_ingredients_lte_mean / total_recipes * 100\n",
    "\n",
    "print(f'Процент рецептов, кол-во ингредиентов в которых меньше среднего: {percent_lte_mean:.1f}%')"
   ],
   "metadata": {
    "collapsed": false,
    "pycharm": {
     "name": "#%%\n"
    }
   }
  },
  {
   "cell_type": "markdown",
   "metadata": {},
   "source": [
    "12. Назовем \"простым\" такой рецепт, длительность выполнения которого не больше 20 минут и кол-во ингредиентов в котором не больше 5. Создайте версию датасета с дополнительным столбцом, значениями которого являются 1, если рецепт простой, и 0 в противном случае."
   ]
  },
  {
   "cell_type": "code",
   "execution_count": null,
   "outputs": [],
   "source": [],
   "metadata": {
    "collapsed": false,
    "pycharm": {
     "name": "#%%\n"
    }
   }
  },
  {
   "cell_type": "markdown",
   "metadata": {},
   "source": [
    "13. Выведите процент \"простых\" рецептов в датасете"
   ]
  },
  {
   "cell_type": "markdown",
   "metadata": {
    "pycharm": {
     "name": "#%% md\n"
    }
   },
   "source": [
    "14. Разделим рецепты на группы по следующему правилу. Назовем рецепты короткими, если их продолжительность составляет менее 10 минут; стандартными, если их продолжительность составляет более 10, но менее 20 минут; и длинными, если их продолжительность составляет не менее 20 минут. Создайте трехмерный массив, где нулевая ось отвечает за номер группы (короткий, стандартный или длинный рецепт), первая ось - за сам рецепт и вторая ось - за характеристики рецепта. Выберите максимальное количество рецептов из каждой группы таким образом, чтобы было возможно сформировать трехмерный массив. Выведите форму полученного массива.\n"
   ]
  }
 ],
 "metadata": {
  "kernelspec": {
   "name": "pycharm-a7f0f498",
   "language": "python",
   "display_name": "PyCharm (01_numpy_intro)"
  },
  "language_info": {
   "codemirror_mode": {
    "name": "ipython",
    "version": 3
   },
   "file_extension": ".py",
   "mimetype": "text/x-python",
   "name": "python",
   "nbconvert_exporter": "python",
   "pygments_lexer": "ipython3",
   "version": "3.9.7"
  }
 },
 "nbformat": 4,
 "nbformat_minor": 4
}