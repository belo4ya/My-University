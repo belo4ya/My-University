{
 "cells": [
  {
   "cell_type": "code",
   "execution_count": 198,
   "metadata": {
    "collapsed": true,
    "pycharm": {
     "name": "#%%\n"
    }
   },
   "outputs": [],
   "source": [
    "import matplotlib.pyplot as plt\n",
    "import numpy as np\n",
    "import pandas as pd\n",
    "import seaborn as sns\n",
    "from sklearn.linear_model import LinearRegression\n",
    "from sklearn.model_selection import train_test_split\n",
    "from sklearn.preprocessing import OneHotEncoder, StandardScaler, MinMaxScaler"
   ]
  },
  {
   "cell_type": "code",
   "execution_count": 199,
   "outputs": [],
   "source": [
    "# @formatter:off\n",
    "%matplotlib inline\n",
    "# @formatter:on"
   ],
   "metadata": {
    "collapsed": false,
    "pycharm": {
     "name": "#%%\n"
    }
   }
  },
  {
   "cell_type": "code",
   "execution_count": 200,
   "outputs": [],
   "source": [
    "plt.style.use('science')\n",
    "sns.set_theme()\n",
    "\n",
    "plt.rcParams['figure.figsize'] = (8, 4)"
   ],
   "metadata": {
    "collapsed": false,
    "pycharm": {
     "name": "#%%\n"
    }
   }
  },
  {
   "cell_type": "markdown",
   "source": [
    "## Загрузка данных"
   ],
   "metadata": {
    "collapsed": false,
    "pycharm": {
     "name": "#%% md\n"
    }
   }
  },
  {
   "cell_type": "code",
   "execution_count": 201,
   "outputs": [
    {
     "data": {
      "text/plain": "        dateCrawled                                               name  \\\n0  30/03/2016 13:51                                       Zu_verkaufen   \n1     7/3/2016 9:54                             Volvo_XC90_2.4D_Summum   \n2     1/4/2016 0:57                                  Volkswagen_Touran   \n3  19/03/2016 17:50                       Seat_Ibiza_1.4_16V_Reference   \n4  16/03/2016 14:51  Volvo_XC90_D5_Aut._RDesign_R_Design_AWD_GSHD_S...   \n\n    seller offerType  price   abtest vehicleType  yearOfRegistration  \\\n0  private     offer   4450     test   limousine                2003   \n1  private     offer  13299  control         suv                2005   \n2  private     offer   3200     test         bus                2003   \n3  private     offer   4500  control   small car                2006   \n4  private     offer  18750     test         suv                2008   \n\n     gearbox  powerPS     model  kilometer  monthOfRegistration fuelType  \\\n0     manual      150       3er     150000                    3   diesel   \n1     manual      163  xc_reihe     150000                    6   diesel   \n2     manual      101    touran     150000                   11   diesel   \n3     manual       86     ibiza      60000                   12   petrol   \n4  automatic      185  xc_reihe     150000                   11   diesel   \n\n        brand notRepairedDamage      dateCreated  postalCode          lastSeen  \n0         bmw               NaN  30/03/2016 0:00       20257     7/4/2016 4:44  \n1       volvo                no    7/3/2016 0:00       88045  26/03/2016 13:17  \n2  volkswagen               NaN  31/03/2016 0:00       27449     1/4/2016 8:40  \n3        seat                no  19/03/2016 0:00       34537     7/4/2016 4:44  \n4       volvo                no  16/03/2016 0:00       55270    1/4/2016 23:18  ",
      "text/html": "<div>\n<style scoped>\n    .dataframe tbody tr th:only-of-type {\n        vertical-align: middle;\n    }\n\n    .dataframe tbody tr th {\n        vertical-align: top;\n    }\n\n    .dataframe thead th {\n        text-align: right;\n    }\n</style>\n<table border=\"1\" class=\"dataframe\">\n  <thead>\n    <tr style=\"text-align: right;\">\n      <th></th>\n      <th>dateCrawled</th>\n      <th>name</th>\n      <th>seller</th>\n      <th>offerType</th>\n      <th>price</th>\n      <th>abtest</th>\n      <th>vehicleType</th>\n      <th>yearOfRegistration</th>\n      <th>gearbox</th>\n      <th>powerPS</th>\n      <th>model</th>\n      <th>kilometer</th>\n      <th>monthOfRegistration</th>\n      <th>fuelType</th>\n      <th>brand</th>\n      <th>notRepairedDamage</th>\n      <th>dateCreated</th>\n      <th>postalCode</th>\n      <th>lastSeen</th>\n    </tr>\n  </thead>\n  <tbody>\n    <tr>\n      <th>0</th>\n      <td>30/03/2016 13:51</td>\n      <td>Zu_verkaufen</td>\n      <td>private</td>\n      <td>offer</td>\n      <td>4450</td>\n      <td>test</td>\n      <td>limousine</td>\n      <td>2003</td>\n      <td>manual</td>\n      <td>150</td>\n      <td>3er</td>\n      <td>150000</td>\n      <td>3</td>\n      <td>diesel</td>\n      <td>bmw</td>\n      <td>NaN</td>\n      <td>30/03/2016 0:00</td>\n      <td>20257</td>\n      <td>7/4/2016 4:44</td>\n    </tr>\n    <tr>\n      <th>1</th>\n      <td>7/3/2016 9:54</td>\n      <td>Volvo_XC90_2.4D_Summum</td>\n      <td>private</td>\n      <td>offer</td>\n      <td>13299</td>\n      <td>control</td>\n      <td>suv</td>\n      <td>2005</td>\n      <td>manual</td>\n      <td>163</td>\n      <td>xc_reihe</td>\n      <td>150000</td>\n      <td>6</td>\n      <td>diesel</td>\n      <td>volvo</td>\n      <td>no</td>\n      <td>7/3/2016 0:00</td>\n      <td>88045</td>\n      <td>26/03/2016 13:17</td>\n    </tr>\n    <tr>\n      <th>2</th>\n      <td>1/4/2016 0:57</td>\n      <td>Volkswagen_Touran</td>\n      <td>private</td>\n      <td>offer</td>\n      <td>3200</td>\n      <td>test</td>\n      <td>bus</td>\n      <td>2003</td>\n      <td>manual</td>\n      <td>101</td>\n      <td>touran</td>\n      <td>150000</td>\n      <td>11</td>\n      <td>diesel</td>\n      <td>volkswagen</td>\n      <td>NaN</td>\n      <td>31/03/2016 0:00</td>\n      <td>27449</td>\n      <td>1/4/2016 8:40</td>\n    </tr>\n    <tr>\n      <th>3</th>\n      <td>19/03/2016 17:50</td>\n      <td>Seat_Ibiza_1.4_16V_Reference</td>\n      <td>private</td>\n      <td>offer</td>\n      <td>4500</td>\n      <td>control</td>\n      <td>small car</td>\n      <td>2006</td>\n      <td>manual</td>\n      <td>86</td>\n      <td>ibiza</td>\n      <td>60000</td>\n      <td>12</td>\n      <td>petrol</td>\n      <td>seat</td>\n      <td>no</td>\n      <td>19/03/2016 0:00</td>\n      <td>34537</td>\n      <td>7/4/2016 4:44</td>\n    </tr>\n    <tr>\n      <th>4</th>\n      <td>16/03/2016 14:51</td>\n      <td>Volvo_XC90_D5_Aut._RDesign_R_Design_AWD_GSHD_S...</td>\n      <td>private</td>\n      <td>offer</td>\n      <td>18750</td>\n      <td>test</td>\n      <td>suv</td>\n      <td>2008</td>\n      <td>automatic</td>\n      <td>185</td>\n      <td>xc_reihe</td>\n      <td>150000</td>\n      <td>11</td>\n      <td>diesel</td>\n      <td>volvo</td>\n      <td>no</td>\n      <td>16/03/2016 0:00</td>\n      <td>55270</td>\n      <td>1/4/2016 23:18</td>\n    </tr>\n  </tbody>\n</table>\n</div>"
     },
     "execution_count": 201,
     "metadata": {},
     "output_type": "execute_result"
    }
   ],
   "source": [
    "df: pd.DataFrame = pd.read_csv('data/cars_sampled.csv')\n",
    "df.head()"
   ],
   "metadata": {
    "collapsed": false,
    "pycharm": {
     "name": "#%%\n"
    }
   }
  },
  {
   "cell_type": "markdown",
   "source": [
    "## Описательная статистика"
   ],
   "metadata": {
    "collapsed": false,
    "pycharm": {
     "name": "#%% md\n"
    }
   }
  },
  {
   "cell_type": "code",
   "execution_count": 202,
   "outputs": [
    {
     "name": "stdout",
     "output_type": "stream",
     "text": [
      "<class 'pandas.core.frame.DataFrame'>\n",
      "RangeIndex: 50001 entries, 0 to 50000\n",
      "Data columns (total 19 columns):\n",
      " #   Column               Non-Null Count  Dtype \n",
      "---  ------               --------------  ----- \n",
      " 0   dateCrawled          50001 non-null  object\n",
      " 1   name                 50001 non-null  object\n",
      " 2   seller               50001 non-null  object\n",
      " 3   offerType            50001 non-null  object\n",
      " 4   price                50001 non-null  int64 \n",
      " 5   abtest               50001 non-null  object\n",
      " 6   vehicleType          44813 non-null  object\n",
      " 7   yearOfRegistration   50001 non-null  int64 \n",
      " 8   gearbox              47177 non-null  object\n",
      " 9   powerPS              50001 non-null  int64 \n",
      " 10  model                47243 non-null  object\n",
      " 11  kilometer            50001 non-null  int64 \n",
      " 12  monthOfRegistration  50001 non-null  int64 \n",
      " 13  fuelType             45498 non-null  object\n",
      " 14  brand                50001 non-null  object\n",
      " 15  notRepairedDamage    40285 non-null  object\n",
      " 16  dateCreated          50001 non-null  object\n",
      " 17  postalCode           50001 non-null  int64 \n",
      " 18  lastSeen             50001 non-null  object\n",
      "dtypes: int64(6), object(13)\n",
      "memory usage: 7.2+ MB\n"
     ]
    }
   ],
   "source": [
    "df.info()"
   ],
   "metadata": {
    "collapsed": false,
    "pycharm": {
     "name": "#%%\n"
    }
   }
  },
  {
   "cell_type": "code",
   "execution_count": 203,
   "outputs": [
    {
     "data": {
      "text/plain": "              price  yearOfRegistration       powerPS      kilometer  \\\ncount  5.000100e+04        50001.000000  50001.000000   50001.000000   \nmean   6.559865e+03         2005.544229    116.496130  125613.687726   \nstd    8.581847e+04          122.991832    230.567709   40205.234483   \nmin    0.000000e+00         1000.000000      0.000000    5000.000000   \n25%    1.150000e+03         1999.000000     69.000000  125000.000000   \n50%    2.950000e+03         2003.000000    105.000000  150000.000000   \n75%    7.190000e+03         2008.000000    150.000000  150000.000000   \nmax    1.234568e+07         9999.000000  19312.000000  150000.000000   \n\n       monthOfRegistration    postalCode  \ncount         50001.000000  50001.000000  \nmean              5.743725  50775.216696  \nstd               3.711345  25743.701933  \nmin               0.000000   1067.000000  \n25%               3.000000  30559.000000  \n50%               6.000000  49504.000000  \n75%               9.000000  71404.000000  \nmax              12.000000  99998.000000  ",
      "text/html": "<div>\n<style scoped>\n    .dataframe tbody tr th:only-of-type {\n        vertical-align: middle;\n    }\n\n    .dataframe tbody tr th {\n        vertical-align: top;\n    }\n\n    .dataframe thead th {\n        text-align: right;\n    }\n</style>\n<table border=\"1\" class=\"dataframe\">\n  <thead>\n    <tr style=\"text-align: right;\">\n      <th></th>\n      <th>price</th>\n      <th>yearOfRegistration</th>\n      <th>powerPS</th>\n      <th>kilometer</th>\n      <th>monthOfRegistration</th>\n      <th>postalCode</th>\n    </tr>\n  </thead>\n  <tbody>\n    <tr>\n      <th>count</th>\n      <td>5.000100e+04</td>\n      <td>50001.000000</td>\n      <td>50001.000000</td>\n      <td>50001.000000</td>\n      <td>50001.000000</td>\n      <td>50001.000000</td>\n    </tr>\n    <tr>\n      <th>mean</th>\n      <td>6.559865e+03</td>\n      <td>2005.544229</td>\n      <td>116.496130</td>\n      <td>125613.687726</td>\n      <td>5.743725</td>\n      <td>50775.216696</td>\n    </tr>\n    <tr>\n      <th>std</th>\n      <td>8.581847e+04</td>\n      <td>122.991832</td>\n      <td>230.567709</td>\n      <td>40205.234483</td>\n      <td>3.711345</td>\n      <td>25743.701933</td>\n    </tr>\n    <tr>\n      <th>min</th>\n      <td>0.000000e+00</td>\n      <td>1000.000000</td>\n      <td>0.000000</td>\n      <td>5000.000000</td>\n      <td>0.000000</td>\n      <td>1067.000000</td>\n    </tr>\n    <tr>\n      <th>25%</th>\n      <td>1.150000e+03</td>\n      <td>1999.000000</td>\n      <td>69.000000</td>\n      <td>125000.000000</td>\n      <td>3.000000</td>\n      <td>30559.000000</td>\n    </tr>\n    <tr>\n      <th>50%</th>\n      <td>2.950000e+03</td>\n      <td>2003.000000</td>\n      <td>105.000000</td>\n      <td>150000.000000</td>\n      <td>6.000000</td>\n      <td>49504.000000</td>\n    </tr>\n    <tr>\n      <th>75%</th>\n      <td>7.190000e+03</td>\n      <td>2008.000000</td>\n      <td>150.000000</td>\n      <td>150000.000000</td>\n      <td>9.000000</td>\n      <td>71404.000000</td>\n    </tr>\n    <tr>\n      <th>max</th>\n      <td>1.234568e+07</td>\n      <td>9999.000000</td>\n      <td>19312.000000</td>\n      <td>150000.000000</td>\n      <td>12.000000</td>\n      <td>99998.000000</td>\n    </tr>\n  </tbody>\n</table>\n</div>"
     },
     "execution_count": 203,
     "metadata": {},
     "output_type": "execute_result"
    }
   ],
   "source": [
    "df.describe()"
   ],
   "metadata": {
    "collapsed": false,
    "pycharm": {
     "name": "#%%\n"
    }
   }
  },
  {
   "cell_type": "markdown",
   "source": [
    "## Исправление датасета"
   ],
   "metadata": {
    "collapsed": false,
    "pycharm": {
     "name": "#%% md\n"
    }
   }
  },
  {
   "cell_type": "code",
   "execution_count": 204,
   "outputs": [],
   "source": [
    "tidy = df.copy()"
   ],
   "metadata": {
    "collapsed": false,
    "pycharm": {
     "name": "#%%\n"
    }
   }
  },
  {
   "cell_type": "markdown",
   "source": [
    "Даты `dateCrawled, dateCreated, lastSeen` в исходном наборе представлены строками в формате ``.\n",
    "\n",
    "И хотя вряд ли, эти даты можно будет эффективно использовать в модели регрессии, приведем их к типу `datetime64` _(потому что можем, и хотим показать умение работать с датами)_"
   ],
   "metadata": {
    "collapsed": false,
    "pycharm": {
     "name": "#%% md\n"
    }
   }
  },
  {
   "cell_type": "code",
   "execution_count": 205,
   "outputs": [
    {
     "data": {
      "text/plain": "dateCrawled    datetime64[ns]\ndateCreated    datetime64[ns]\nlastSeen       datetime64[ns]\ndtype: object"
     },
     "execution_count": 205,
     "metadata": {},
     "output_type": "execute_result"
    }
   ],
   "source": [
    "date_cols = ['dateCrawled', 'dateCreated', 'lastSeen']\n",
    "tidy[date_cols] = tidy[date_cols].apply(lambda s: pd.to_datetime(s, format='%d/%m/%Y %H:%M'))\n",
    "tidy[date_cols].dtypes"
   ],
   "metadata": {
    "collapsed": false,
    "pycharm": {
     "name": "#%%\n"
    }
   }
  },
  {
   "cell_type": "markdown",
   "source": [
    "Проведем работы на целевой переменной `price`. Попытаемся привести ее к нормальному распределению."
   ],
   "metadata": {
    "collapsed": false,
    "pycharm": {
     "name": "#%% md\n"
    }
   }
  },
  {
   "cell_type": "code",
   "execution_count": 206,
   "outputs": [
    {
     "data": {
      "text/plain": "(50001, 0, 12345678)"
     },
     "execution_count": 206,
     "metadata": {},
     "output_type": "execute_result"
    }
   ],
   "source": [
    "price = tidy['price']\n",
    "len(price), price.min(), price.max()"
   ],
   "metadata": {
    "collapsed": false,
    "pycharm": {
     "name": "#%%\n"
    }
   }
  },
  {
   "cell_type": "markdown",
   "source": [
    "`0` явно является некорректным значением для цены. От всех строк, содержащих 0 в поле `price` придется избавиться.\n",
    "\n",
    "_`1` и другие слишком низкие значения, возможно тоже не характерны для цены._"
   ],
   "metadata": {
    "collapsed": false,
    "pycharm": {
     "name": "#%% md\n"
    }
   }
  },
  {
   "cell_type": "code",
   "execution_count": 207,
   "outputs": [
    {
     "data": {
      "text/plain": "0     1451\n1      172\n2        1\n3        1\n5        4\n7        1\n8        2\n10       5\n11       1\n12       1\n14       1\n15       8\n20       6\n21       1\n25       5\n26       1\n30       7\n35       4\n39       1\n40       3\nName: price, dtype: int64"
     },
     "execution_count": 207,
     "metadata": {},
     "output_type": "execute_result"
    }
   ],
   "source": [
    "price[price < price.quantile(0.1)].value_counts().sort_index()[:20]"
   ],
   "metadata": {
    "collapsed": false,
    "pycharm": {
     "name": "#%%\n"
    }
   }
  },
  {
   "cell_type": "code",
   "execution_count": 208,
   "outputs": [
    {
     "data": {
      "text/plain": "48364"
     },
     "execution_count": 208,
     "metadata": {},
     "output_type": "execute_result"
    }
   ],
   "source": [
    "price_ = price[price > 10]\n",
    "len(price_)"
   ],
   "metadata": {
    "collapsed": false,
    "pycharm": {
     "name": "#%%\n"
    }
   }
  },
  {
   "cell_type": "code",
   "execution_count": 209,
   "outputs": [
    {
     "data": {
      "text/plain": "(48364, 19)"
     },
     "execution_count": 209,
     "metadata": {},
     "output_type": "execute_result"
    }
   ],
   "source": [
    "tidy: pd.DataFrame = tidy.loc[price_.index]\n",
    "tidy['price'] = price_\n",
    "tidy.shape"
   ],
   "metadata": {
    "collapsed": false,
    "pycharm": {
     "name": "#%%\n"
    }
   }
  },
  {
   "cell_type": "markdown",
   "source": [
    "Попробуем построить гистограмму распределения `price`:"
   ],
   "metadata": {
    "collapsed": false,
    "pycharm": {
     "name": "#%% md\n"
    }
   }
  },
  {
   "cell_type": "code",
   "execution_count": 210,
   "outputs": [
    {
     "data": {
      "text/plain": "<Figure size 576x288 with 1 Axes>",
      "image/png": "[encoded data removed]"
     },
     "metadata": {},
     "output_type": "display_data"
    }
   ],
   "source": [
    "sns.histplot(x=price_, kde=True);"
   ],
   "metadata": {
    "collapsed": false,
    "pycharm": {
     "name": "#%%\n"
    }
   }
  },
  {
   "cell_type": "markdown",
   "source": [
    "Разбег шкалы и сильная смещенность распределения данных не позволяют получить читабельную визуализацию.\n",
    "\n"
   ],
   "metadata": {
    "collapsed": false,
    "pycharm": {
     "name": "#%% md\n"
    }
   }
  },
  {
   "cell_type": "code",
   "execution_count": 211,
   "outputs": [
    {
     "data": {
      "text/plain": "(-12334.668, 1234577.7]     48359\n(9876544.6, 11111111.3]         2\n(1234577.7, 2469144.4]          1\n(2469144.4, 3703711.1]          1\n(11111111.3, 12345678.0]        1\n(3703711.1, 4938277.8]          0\n(4938277.8, 6172844.5]          0\n(6172844.5, 7407411.2]          0\n(7407411.2, 8641977.9]          0\n(8641977.9, 9876544.6]          0\nName: price, dtype: int64"
     },
     "execution_count": 211,
     "metadata": {},
     "output_type": "execute_result"
    }
   ],
   "source": [
    "pd.Series(price_).value_counts(bins=10)"
   ],
   "metadata": {
    "collapsed": false,
    "pycharm": {
     "name": "#%%\n"
    }
   }
  },
  {
   "cell_type": "markdown",
   "source": [
    "В таком случае очень полезным оказываются свойства функции логарифма. Попробуем прологарифмировать значение цены:"
   ],
   "metadata": {
    "collapsed": false,
    "pycharm": {
     "name": "#%% md\n"
    }
   }
  },
  {
   "cell_type": "code",
   "execution_count": 212,
   "outputs": [
    {
     "data": {
      "text/plain": "<Figure size 576x288 with 1 Axes>",
      "image/png": "[encoded data removed]"
     },
     "metadata": {},
     "output_type": "display_data"
    }
   ],
   "source": [
    "price_ = np.log(price_)\n",
    "sns.histplot(x=price_, kde=True);"
   ],
   "metadata": {
    "collapsed": false,
    "pycharm": {
     "name": "#%%\n"
    }
   }
  },
  {
   "cell_type": "markdown",
   "source": [
    "Ну вот... и распределение получилось близким к нормальному."
   ],
   "metadata": {
    "collapsed": false,
    "pycharm": {
     "name": "#%% md\n"
    }
   }
  },
  {
   "cell_type": "markdown",
   "source": [
    "С помощью ящика с усами можно наглядно увидеть присутствие выбросов и границы, в которых сосредоточена большая часть данных."
   ],
   "metadata": {
    "collapsed": false,
    "pycharm": {
     "name": "#%% md\n"
    }
   }
  },
  {
   "cell_type": "code",
   "execution_count": 213,
   "outputs": [
    {
     "data": {
      "text/plain": "(2.3978952727983707, 16.32881660027397)"
     },
     "execution_count": 213,
     "metadata": {},
     "output_type": "execute_result"
    },
    {
     "data": {
      "text/plain": "<Figure size 576x288 with 1 Axes>",
      "image/png": "[encoded data removed]"
     },
     "metadata": {},
     "output_type": "display_data"
    }
   ],
   "source": [
    "sns.boxplot(y=price_)\n",
    "price_.min(), price_.max()"
   ],
   "metadata": {
    "collapsed": false,
    "pycharm": {
     "name": "#%%\n"
    }
   }
  },
  {
   "cell_type": "markdown",
   "source": [
    "Выбросы представлены значениями, лежащими выше (\\~)11 и ниже (\\~)5.\n",
    "\n",
    "Избавимся от выбросов с помощью IQR:"
   ],
   "metadata": {
    "collapsed": false,
    "pycharm": {
     "name": "#%% md\n"
    }
   }
  },
  {
   "cell_type": "code",
   "execution_count": 214,
   "outputs": [
    {
     "name": "stdout",
     "output_type": "stream",
     "text": [
      "Q1 = 7.16, Q3 = 8.92\n",
      "IQR = 1.76\n",
      "[4.52;11.56]\n"
     ]
    },
    {
     "data": {
      "text/plain": "48179"
     },
     "execution_count": 214,
     "metadata": {},
     "output_type": "execute_result"
    }
   ],
   "source": [
    "q_1, q_3 = price_.quantile([0.25, 0.75])\n",
    "iqr = q_3 - q_1\n",
    "left = q_1 - 1.5 * iqr\n",
    "right = q_3 + 1.5 * iqr\n",
    "print(\n",
    "    f'Q1 = {q_1:.2f}, Q3 = {q_3:.2f}\\n'\n",
    "    f'IQR = {iqr:.2f}\\n'\n",
    "    f'[{left:.2f};{right:.2f}]'\n",
    ")\n",
    "\n",
    "price_ = price_[(price_ > left) & (price_ < right)]\n",
    "len(price_)"
   ],
   "metadata": {
    "collapsed": false,
    "pycharm": {
     "name": "#%%\n"
    }
   }
  },
  {
   "cell_type": "code",
   "execution_count": 215,
   "outputs": [
    {
     "data": {
      "text/plain": "<Figure size 576x288 with 1 Axes>",
      "image/png": "[encoded data removed]"
     },
     "metadata": {},
     "output_type": "display_data"
    }
   ],
   "source": [
    "sns.boxplot(y=price_);"
   ],
   "metadata": {
    "collapsed": false,
    "pycharm": {
     "name": "#%%\n"
    }
   }
  },
  {
   "cell_type": "code",
   "execution_count": 216,
   "outputs": [
    {
     "data": {
      "text/plain": "<Figure size 576x288 with 1 Axes>",
      "image/png": "[encoded data removed]"
     },
     "metadata": {},
     "output_type": "display_data"
    }
   ],
   "source": [
    "sns.histplot(x=price_, kde=True);"
   ],
   "metadata": {
    "collapsed": false,
    "pycharm": {
     "name": "#%%\n"
    }
   }
  },
  {
   "cell_type": "markdown",
   "source": [
    "Вот теперь получилось красиво."
   ],
   "metadata": {
    "collapsed": false,
    "pycharm": {
     "name": "#%% md\n"
    }
   }
  },
  {
   "cell_type": "code",
   "execution_count": 217,
   "outputs": [
    {
     "data": {
      "text/plain": "(48179, 20)"
     },
     "execution_count": 217,
     "metadata": {},
     "output_type": "execute_result"
    }
   ],
   "source": [
    "tidy: pd.DataFrame = tidy.loc[price_.index]\n",
    "tidy['adj_price'] = price_\n",
    "tidy.shape"
   ],
   "metadata": {
    "collapsed": false,
    "pycharm": {
     "name": "#%%\n"
    }
   }
  },
  {
   "cell_type": "markdown",
   "source": [
    "### Числовые признаки"
   ],
   "metadata": {
    "collapsed": false,
    "pycharm": {
     "name": "#%% md\n"
    }
   }
  },
  {
   "cell_type": "markdown",
   "source": [
    "Улучшим несколько потенциально наиболее важных для `price` числовых признаков."
   ],
   "metadata": {
    "collapsed": false,
    "pycharm": {
     "name": "#%% md\n"
    }
   }
  },
  {
   "cell_type": "code",
   "execution_count": 218,
   "outputs": [],
   "source": [
    "def drop_iqr(s: pd.Series) -> pd.Series:\n",
    "    q_1, q_3 = s.quantile([0.25, 0.75])\n",
    "    iqr = q_3 - q_1\n",
    "    return s[(s > q_1 - 1.5 * iqr) & (s < q_3 + 1.5 * iqr)]"
   ],
   "metadata": {
    "collapsed": false,
    "pycharm": {
     "name": "#%%\n"
    }
   }
  },
  {
   "cell_type": "code",
   "execution_count": 219,
   "outputs": [
    {
     "data": {
      "text/plain": "<Figure size 576x288 with 2 Axes>",
      "image/png": "[encoded data removed]"
     },
     "metadata": {},
     "output_type": "display_data"
    }
   ],
   "source": [
    "ax = sns.heatmap(tidy.corr(), annot=True)\n",
    "ax.tick_params(axis='x', rotation=30)"
   ],
   "metadata": {
    "collapsed": false,
    "pycharm": {
     "name": "#%%\n"
    }
   }
  },
  {
   "cell_type": "markdown",
   "source": [
    "На основе матрицы корреляций можно выделить 2 наиболее коррелирующих с целевой переменной признака: `kilometer`, `powerPS`."
   ],
   "metadata": {
    "collapsed": false,
    "pycharm": {
     "name": "#%% md\n"
    }
   }
  },
  {
   "cell_type": "markdown",
   "source": [
    "Применим к `kilometer` те же техники исправления, что и к `price`."
   ],
   "metadata": {
    "collapsed": false,
    "pycharm": {
     "name": "#%% md\n"
    }
   }
  },
  {
   "cell_type": "code",
   "execution_count": 220,
   "outputs": [
    {
     "data": {
      "text/plain": "(48179, 5000, 150000)"
     },
     "execution_count": 220,
     "metadata": {},
     "output_type": "execute_result"
    }
   ],
   "source": [
    "kilometer = tidy['kilometer']\n",
    "len(kilometer), kilometer.min(), kilometer.max()"
   ],
   "metadata": {
    "collapsed": false,
    "pycharm": {
     "name": "#%%\n"
    }
   }
  },
  {
   "cell_type": "code",
   "execution_count": 221,
   "outputs": [
    {
     "data": {
      "text/plain": "<Figure size 576x288 with 1 Axes>",
      "image/png": "[encoded data removed]"
     },
     "metadata": {},
     "output_type": "display_data"
    }
   ],
   "source": [
    "sns.histplot(x=kilometer, kde=True);"
   ],
   "metadata": {
    "collapsed": false,
    "pycharm": {
     "name": "#%%\n"
    }
   }
  },
  {
   "cell_type": "code",
   "execution_count": 222,
   "outputs": [
    {
     "data": {
      "text/plain": "(5000, 150000)"
     },
     "execution_count": 222,
     "metadata": {},
     "output_type": "execute_result"
    },
    {
     "data": {
      "text/plain": "<Figure size 576x288 with 1 Axes>",
      "image/png": "[encoded data removed]"
     },
     "metadata": {},
     "output_type": "display_data"
    }
   ],
   "source": [
    "sns.boxplot(y=kilometer)\n",
    "kilometer.min(), kilometer.max()"
   ],
   "metadata": {
    "collapsed": false,
    "pycharm": {
     "name": "#%%\n"
    }
   }
  },
  {
   "cell_type": "code",
   "execution_count": 223,
   "outputs": [
    {
     "data": {
      "text/plain": "39900"
     },
     "execution_count": 223,
     "metadata": {},
     "output_type": "execute_result"
    }
   ],
   "source": [
    "kilometer_ = drop_iqr(kilometer)\n",
    "len(kilometer_)"
   ],
   "metadata": {
    "collapsed": false,
    "pycharm": {
     "name": "#%%\n"
    }
   }
  },
  {
   "cell_type": "code",
   "execution_count": 224,
   "outputs": [
    {
     "data": {
      "text/plain": "<Figure size 576x288 with 1 Axes>",
      "image/png": "[encoded data removed]"
     },
     "metadata": {},
     "output_type": "display_data"
    }
   ],
   "source": [
    "sns.histplot(x=kilometer_, kde=True);"
   ],
   "metadata": {
    "collapsed": false,
    "pycharm": {
     "name": "#%%\n"
    }
   }
  },
  {
   "cell_type": "code",
   "execution_count": 225,
   "outputs": [
    {
     "data": {
      "text/plain": "(90000, 150000)"
     },
     "execution_count": 225,
     "metadata": {},
     "output_type": "execute_result"
    },
    {
     "data": {
      "text/plain": "<Figure size 576x288 with 1 Axes>",
      "image/png": "[encoded data removed]"
     },
     "metadata": {},
     "output_type": "display_data"
    }
   ],
   "source": [
    "sns.boxplot(y=kilometer_)\n",
    "kilometer_.min(), kilometer_.max()"
   ],
   "metadata": {
    "collapsed": false,
    "pycharm": {
     "name": "#%%\n"
    }
   }
  },
  {
   "cell_type": "markdown",
   "source": [
    "Сделали все правильно (вроде как), но что-то пошло не так. Предположительно, это связано с категориальной природой `kilometer` и с особенностью его распределения, где доминирует один клас (140000 - 160000).\n",
    "\n",
    "Принято решение не изменять `kilometer` и подставить под сомнение его использование в качестве признака."
   ],
   "metadata": {
    "collapsed": false,
    "pycharm": {
     "name": "#%% md\n"
    }
   }
  },
  {
   "cell_type": "markdown",
   "source": [
    "Применим к `powerPS` те же техники исправления, что и к `price` и `kilometer`.\n",
    "\n",
    "_Но техники уже не те, ведь теперь хороши они лишь на 50%_"
   ],
   "metadata": {
    "collapsed": false,
    "pycharm": {
     "name": "#%% md\n"
    }
   }
  },
  {
   "cell_type": "code",
   "execution_count": 226,
   "outputs": [
    {
     "name": "stdout",
     "output_type": "stream",
     "text": [
      "48179\n",
      "[0, 1, 2, 3, 4]\n",
      "[19312, 19211, 16312, 16011, 15033]\n"
     ]
    }
   ],
   "source": [
    "power_ps = tidy['powerPS']\n",
    "print(len(power_ps))\n",
    "print(pd.Series(power_ps.unique()).nsmallest(5).tolist())\n",
    "print(power_ps.nlargest(5).tolist())"
   ],
   "metadata": {
    "collapsed": false,
    "pycharm": {
     "name": "#%%\n"
    }
   }
  },
  {
   "cell_type": "markdown",
   "source": [
    "`0` явно не характерен для `powerPS`. Удалим все строки содержащие `0` в столбце `powerPS`:"
   ],
   "metadata": {
    "collapsed": false,
    "pycharm": {
     "name": "#%% md\n"
    }
   }
  },
  {
   "cell_type": "code",
   "execution_count": 227,
   "outputs": [],
   "source": [
    "power_ps_ = power_ps[power_ps > 0]"
   ],
   "metadata": {
    "collapsed": false,
    "pycharm": {
     "name": "#%%\n"
    }
   }
  },
  {
   "cell_type": "code",
   "execution_count": 228,
   "outputs": [
    {
     "data": {
      "text/plain": "<Figure size 576x288 with 1 Axes>",
      "image/png": "[encoded data removed]"
     },
     "metadata": {},
     "output_type": "display_data"
    }
   ],
   "source": [
    "sns.histplot(x=power_ps_, kde=True);"
   ],
   "metadata": {
    "collapsed": false,
    "pycharm": {
     "name": "#%%\n"
    }
   }
  },
  {
   "cell_type": "code",
   "execution_count": 229,
   "outputs": [],
   "source": [
    "power_ps_ = np.log(power_ps_)"
   ],
   "metadata": {
    "collapsed": false,
    "pycharm": {
     "name": "#%%\n"
    }
   }
  },
  {
   "cell_type": "code",
   "execution_count": 230,
   "outputs": [
    {
     "data": {
      "text/plain": "(0.0, 9.868481943337313)"
     },
     "execution_count": 230,
     "metadata": {},
     "output_type": "execute_result"
    },
    {
     "data": {
      "text/plain": "<Figure size 576x288 with 1 Axes>",
      "image/png": "[encoded data removed]"
     },
     "metadata": {},
     "output_type": "display_data"
    }
   ],
   "source": [
    "sns.boxplot(y=power_ps_)\n",
    "power_ps_.min(), power_ps_.max()"
   ],
   "metadata": {
    "collapsed": false,
    "pycharm": {
     "name": "#%%\n"
    }
   }
  },
  {
   "cell_type": "code",
   "execution_count": 231,
   "outputs": [
    {
     "data": {
      "text/plain": "42851"
     },
     "execution_count": 231,
     "metadata": {},
     "output_type": "execute_result"
    }
   ],
   "source": [
    "power_ps_ = drop_iqr(power_ps_)\n",
    "len(power_ps_)"
   ],
   "metadata": {
    "collapsed": false,
    "pycharm": {
     "name": "#%%\n"
    }
   }
  },
  {
   "cell_type": "code",
   "execution_count": 232,
   "outputs": [
    {
     "data": {
      "text/plain": "(3.4657359027997265, 5.953243334287785)"
     },
     "execution_count": 232,
     "metadata": {},
     "output_type": "execute_result"
    },
    {
     "data": {
      "text/plain": "<Figure size 576x288 with 1 Axes>",
      "image/png": "[encoded data removed]"
     },
     "metadata": {},
     "output_type": "display_data"
    }
   ],
   "source": [
    "sns.boxplot(y=power_ps_)\n",
    "power_ps_.min(), power_ps_.max()"
   ],
   "metadata": {
    "collapsed": false,
    "pycharm": {
     "name": "#%%\n"
    }
   }
  },
  {
   "cell_type": "code",
   "execution_count": 233,
   "outputs": [
    {
     "data": {
      "text/plain": "<Figure size 576x288 with 1 Axes>",
      "image/png": "[encoded data removed]"
     },
     "metadata": {},
     "output_type": "display_data"
    }
   ],
   "source": [
    "sns.histplot(x=power_ps_, kde=True);"
   ],
   "metadata": {
    "collapsed": false,
    "pycharm": {
     "name": "#%%\n"
    }
   }
  },
  {
   "cell_type": "code",
   "execution_count": 234,
   "outputs": [
    {
     "data": {
      "text/plain": "(42851, 21)"
     },
     "execution_count": 234,
     "metadata": {},
     "output_type": "execute_result"
    }
   ],
   "source": [
    "tidy: pd.DataFrame = tidy.loc[power_ps_.index]\n",
    "tidy['adj_powerPS'] = power_ps_\n",
    "tidy.shape"
   ],
   "metadata": {
    "collapsed": false,
    "pycharm": {
     "name": "#%%\n"
    }
   }
  },
  {
   "cell_type": "code",
   "execution_count": 235,
   "outputs": [
    {
     "data": {
      "text/plain": "                price  adj_price\nprice        1.000000   0.800226\nadj_price    0.800226   1.000000\npowerPS      0.557621   0.561272\nadj_powerPS  0.517052   0.574885\nkilometer   -0.458463  -0.412513",
      "text/html": "<div>\n<style scoped>\n    .dataframe tbody tr th:only-of-type {\n        vertical-align: middle;\n    }\n\n    .dataframe tbody tr th {\n        vertical-align: top;\n    }\n\n    .dataframe thead th {\n        text-align: right;\n    }\n</style>\n<table border=\"1\" class=\"dataframe\">\n  <thead>\n    <tr style=\"text-align: right;\">\n      <th></th>\n      <th>price</th>\n      <th>adj_price</th>\n    </tr>\n  </thead>\n  <tbody>\n    <tr>\n      <th>price</th>\n      <td>1.000000</td>\n      <td>0.800226</td>\n    </tr>\n    <tr>\n      <th>adj_price</th>\n      <td>0.800226</td>\n      <td>1.000000</td>\n    </tr>\n    <tr>\n      <th>powerPS</th>\n      <td>0.557621</td>\n      <td>0.561272</td>\n    </tr>\n    <tr>\n      <th>adj_powerPS</th>\n      <td>0.517052</td>\n      <td>0.574885</td>\n    </tr>\n    <tr>\n      <th>kilometer</th>\n      <td>-0.458463</td>\n      <td>-0.412513</td>\n    </tr>\n  </tbody>\n</table>\n</div>"
     },
     "execution_count": 235,
     "metadata": {},
     "output_type": "execute_result"
    }
   ],
   "source": [
    "tidy[['price', 'adj_price', 'powerPS', 'adj_powerPS', 'kilometer']].corr()[['price', 'adj_price']]"
   ],
   "metadata": {
    "collapsed": false,
    "pycharm": {
     "name": "#%%\n"
    }
   }
  },
  {
   "cell_type": "markdown",
   "source": [
    "Пересчет корреляций с исправленными признаками показал, что:\n",
    "1. время потрачено не зря\n",
    "2. время потрачено впустую"
   ],
   "metadata": {
    "collapsed": false,
    "pycharm": {
     "name": "#%% md\n"
    }
   }
  },
  {
   "cell_type": "markdown",
   "source": [
    "### Нечисловые признаки"
   ],
   "metadata": {
    "collapsed": false,
    "pycharm": {
     "name": "#%% md\n"
    }
   }
  },
  {
   "cell_type": "markdown",
   "source": [
    "Посмотрим на шкалы доступных (разумных) нечисловых признаков:"
   ],
   "metadata": {
    "collapsed": false,
    "pycharm": {
     "name": "#%% md\n"
    }
   }
  },
  {
   "cell_type": "code",
   "execution_count": 236,
   "outputs": [
    {
     "name": "stdout",
     "output_type": "stream",
     "text": [
      "Шкалы нечисловых данных:\n",
      "gearbox: ['manual', 'automatic', nan]\n",
      "fuelType: ['diesel', 'petrol', nan, 'cng', 'lpg', 'hybrid', 'other', 'electro']\n",
      "vehicleType: ['limousine', 'suv', 'bus', 'small car', 'coupe', 'station wagon', nan, 'others', 'cabrio']\n",
      "notRepairedDamage: [nan, 'no', 'yes']\n"
     ]
    }
   ],
   "source": [
    "print('Шкалы нечисловых данных:')\n",
    "print(f'gearbox: {tidy[\"gearbox\"].unique().tolist()}')\n",
    "print(f'fuelType: {tidy[\"fuelType\"].unique().tolist()}')\n",
    "print(f'vehicleType: {tidy[\"vehicleType\"].unique().tolist()}')\n",
    "print(f'notRepairedDamage: {tidy[\"notRepairedDamage\"].unique().tolist()}')"
   ],
   "metadata": {
    "collapsed": false,
    "pycharm": {
     "name": "#%%\n"
    }
   }
  },
  {
   "cell_type": "markdown",
   "source": [
    "Из увиденного можно сделать вывод, что все нечисловые признаки являются категориальными."
   ],
   "metadata": {
    "collapsed": false,
    "pycharm": {
     "name": "#%% md\n"
    }
   }
  },
  {
   "cell_type": "markdown",
   "source": [
    "Построим ящиковые диаграммы зависимости рассматриваемых признаков от `adj_price`:"
   ],
   "metadata": {
    "collapsed": false,
    "pycharm": {
     "name": "#%% md\n"
    }
   }
  },
  {
   "cell_type": "code",
   "execution_count": 237,
   "outputs": [
    {
     "data": {
      "text/plain": "<Figure size 1152x720 with 4 Axes>",
      "image/png": "[encoded data removed]"
     },
     "metadata": {},
     "output_type": "display_data"
    }
   ],
   "source": [
    "fig, axes = plt.subplots(2, 2, figsize=(16, 10))\n",
    "\n",
    "for ax, col in zip(axes.flatten(), ['gearbox', 'fuelType', 'vehicleType', 'notRepairedDamage']):\n",
    "    sns.boxplot(data=tidy, x=col, y='adj_price', ax=ax)"
   ],
   "metadata": {
    "collapsed": false,
    "pycharm": {
     "name": "#%%\n"
    }
   }
  },
  {
   "cell_type": "markdown",
   "source": [
    "Графики наглядно демонстрируют категории с выбросами, а также можно выделить некоторые закономерности по ценовым сегментам:\n",
    "1) автомобили с автоматической коробкой передач в среднем дороже автомобилей с механикой\n",
    "2) электромобили и автомобили с гибридным типом потребления топлива стоят дороже, чем автомобили с бензиновым двигателем. Но автомобилей с бензиновым двигателем гораздо больше\n",
    "3) автомобили без повреждений дороже восстановленных автомобилей"
   ],
   "metadata": {
    "collapsed": false,
    "pycharm": {
     "name": "#%% md\n"
    }
   }
  },
  {
   "cell_type": "code",
   "execution_count": 238,
   "outputs": [
    {
     "data": {
      "text/plain": "manual       32731\nautomatic     9336\nName: gearbox, dtype: int64"
     },
     "execution_count": 238,
     "metadata": {},
     "output_type": "execute_result"
    }
   ],
   "source": [
    "tidy['gearbox'].value_counts()"
   ],
   "metadata": {
    "collapsed": false,
    "pycharm": {
     "name": "#%%\n"
    }
   }
  },
  {
   "cell_type": "code",
   "execution_count": 239,
   "outputs": [
    {
     "name": "stdout",
     "output_type": "stream",
     "text": [
      "[('petrol', 26449), ('diesel', 13020), ('lpg', 688), ('cng', 71), ('hybrid', 36), ('electro', 5), ('other', 3)]\n"
     ]
    }
   ],
   "source": [
    "print(list(tidy['fuelType'].value_counts().items()))"
   ],
   "metadata": {
    "collapsed": false,
    "pycharm": {
     "name": "#%%\n"
    }
   }
  },
  {
   "cell_type": "markdown",
   "source": [
    "В распределении `fuelType` есть два доминирующих класса: `petrol`, `diesel`, и несколько маленьких категорий.\n",
    "\n",
    "Обобщим значения с низкой частотой до категории `other`:"
   ],
   "metadata": {
    "collapsed": false,
    "pycharm": {
     "name": "#%% md\n"
    }
   }
  },
  {
   "cell_type": "code",
   "execution_count": 240,
   "outputs": [],
   "source": [
    "fuel_type = tidy['fuelType'].copy()\n",
    "fuel_type[fuel_type.isin(['lpg', 'cng', 'hybrid', 'electro'])] = 'other'\n",
    "tidy['fuelType'] = fuel_type"
   ],
   "metadata": {
    "collapsed": false,
    "pycharm": {
     "name": "#%%\n"
    }
   }
  },
  {
   "cell_type": "code",
   "execution_count": 241,
   "outputs": [
    {
     "name": "stdout",
     "output_type": "stream",
     "text": [
      "[('limousine', 11773), ('small car', 9337), ('station wagon', 8124), ('bus', 3623), ('cabrio', 2760), ('coupe', 2206), ('suv', 1829), ('others', 323)]\n"
     ]
    }
   ],
   "source": [
    "print(list(tidy['vehicleType'].value_counts().items()))"
   ],
   "metadata": {
    "collapsed": false,
    "pycharm": {
     "name": "#%%\n"
    }
   }
  },
  {
   "cell_type": "markdown",
   "source": [
    "У `vehicleType` доминация чуть менее выражена, присутствует лишь один класс `other`,\n",
    "который совершенно не сопоставим с остальными.\n",
    "\n",
    "Заменим его на моду - `limousine`:"
   ],
   "metadata": {
    "collapsed": false,
    "pycharm": {
     "name": "#%% md\n"
    }
   }
  },
  {
   "cell_type": "code",
   "execution_count": 242,
   "outputs": [],
   "source": [
    "vehicle_type = tidy['vehicleType'].copy()\n",
    "vehicle_type[vehicle_type == 'others'] = 'limousine'\n",
    "tidy['vehicleType'] = vehicle_type"
   ],
   "metadata": {
    "collapsed": false,
    "pycharm": {
     "name": "#%%\n"
    }
   }
  },
  {
   "cell_type": "code",
   "execution_count": 243,
   "outputs": [
    {
     "data": {
      "text/plain": "no     32575\nyes     4002\nName: notRepairedDamage, dtype: int64"
     },
     "execution_count": 243,
     "metadata": {},
     "output_type": "execute_result"
    }
   ],
   "source": [
    "tidy['notRepairedDamage'].value_counts()"
   ],
   "metadata": {
    "collapsed": false,
    "pycharm": {
     "name": "#%%\n"
    }
   }
  },
  {
   "cell_type": "markdown",
   "source": [
    "### Работа с оставшимися пропусками"
   ],
   "metadata": {
    "collapsed": false,
    "pycharm": {
     "name": "#%% md\n"
    }
   }
  },
  {
   "cell_type": "markdown",
   "source": [
    "Посмотрим на оставшиеся пропуски в датасете. Для удобства добавим их процентный вклад в общее количество примеров признака:"
   ],
   "metadata": {
    "collapsed": false,
    "pycharm": {
     "name": "#%% md\n"
    }
   }
  },
  {
   "cell_type": "code",
   "execution_count": 244,
   "outputs": [
    {
     "name": "stdout",
     "output_type": "stream",
     "text": [
      "n: 42851\n"
     ]
    },
    {
     "data": {
      "text/plain": "                      n          %\nvehicleType        2876   6.711629\ngearbox             784   1.829596\nmodel              1644   3.836550\nfuelType           2579   6.018529\nnotRepairedDamage  6274  14.641432",
      "text/html": "<div>\n<style scoped>\n    .dataframe tbody tr th:only-of-type {\n        vertical-align: middle;\n    }\n\n    .dataframe tbody tr th {\n        vertical-align: top;\n    }\n\n    .dataframe thead th {\n        text-align: right;\n    }\n</style>\n<table border=\"1\" class=\"dataframe\">\n  <thead>\n    <tr style=\"text-align: right;\">\n      <th></th>\n      <th>n</th>\n      <th>%</th>\n    </tr>\n  </thead>\n  <tbody>\n    <tr>\n      <th>vehicleType</th>\n      <td>2876</td>\n      <td>6.711629</td>\n    </tr>\n    <tr>\n      <th>gearbox</th>\n      <td>784</td>\n      <td>1.829596</td>\n    </tr>\n    <tr>\n      <th>model</th>\n      <td>1644</td>\n      <td>3.836550</td>\n    </tr>\n    <tr>\n      <th>fuelType</th>\n      <td>2579</td>\n      <td>6.018529</td>\n    </tr>\n    <tr>\n      <th>notRepairedDamage</th>\n      <td>6274</td>\n      <td>14.641432</td>\n    </tr>\n  </tbody>\n</table>\n</div>"
     },
     "execution_count": 244,
     "metadata": {},
     "output_type": "execute_result"
    }
   ],
   "source": [
    "na = tidy.isna().sum()\n",
    "print(f'n: {len(tidy)}')\n",
    "na = na[na > 0]\n",
    "na = pd.concat([na, na / len(tidy) * 100], axis=1)\n",
    "na.columns = ['n', '%']\n",
    "na"
   ],
   "metadata": {
    "collapsed": false,
    "pycharm": {
     "name": "#%%\n"
    }
   }
  },
  {
   "cell_type": "markdown",
   "source": [
    "Почти 15% - довольно большая доля пропусков. Восстановление с помощью среднего может вызвать большое смешение распределения, поэтому просто удалим эти строки:"
   ],
   "metadata": {
    "collapsed": false,
    "pycharm": {
     "name": "#%% md\n"
    }
   }
  },
  {
   "cell_type": "code",
   "execution_count": 245,
   "outputs": [],
   "source": [
    "tidy: pd.DataFrame = tidy.drop(columns=['notRepairedDamage'])"
   ],
   "metadata": {
    "collapsed": false,
    "pycharm": {
     "name": "#%%\n"
    }
   }
  },
  {
   "cell_type": "code",
   "execution_count": 246,
   "outputs": [
    {
     "name": "stdout",
     "output_type": "stream",
     "text": [
      "Шкалы нечисловых данных:\n",
      "vehicleType: ['limousine', 'suv', 'bus', 'small car', 'coupe', 'station wagon', nan, 'cabrio']\n",
      "gearbox: ['manual', 'automatic', nan]\n",
      "model: ['3er', 'xc_reihe', 'touran', 'ibiza', 'passat', 'clk', 'vectra', 'octavia', 'a_klasse', 'astra', ...]\n",
      "fuelType: ['diesel', 'petrol', nan, 'other']\n"
     ]
    }
   ],
   "source": [
    "print('Шкалы нечисловых данных:')\n",
    "print(f'vehicleType: {tidy[\"vehicleType\"].unique().tolist()}')\n",
    "print(f'gearbox: {tidy[\"gearbox\"].unique().tolist()}')\n",
    "print(f'model: {str(tidy[\"model\"].unique().tolist()[:10])[:-1]}, ...]')\n",
    "print(f'fuelType: {tidy[\"fuelType\"].unique().tolist()}')"
   ],
   "metadata": {
    "collapsed": false,
    "pycharm": {
     "name": "#%%\n"
    }
   }
  },
  {
   "cell_type": "markdown",
   "source": [
    "Оставшиеся пропуски восстановим с помощью моды:"
   ],
   "metadata": {
    "collapsed": false,
    "pycharm": {
     "name": "#%% md\n"
    }
   }
  },
  {
   "cell_type": "code",
   "execution_count": 247,
   "outputs": [],
   "source": [
    "cols = ['vehicleType', 'gearbox', 'model', 'fuelType']\n",
    "tidy[cols] = tidy[cols].fillna('mode')"
   ],
   "metadata": {
    "collapsed": false,
    "pycharm": {
     "name": "#%%\n"
    }
   }
  },
  {
   "cell_type": "markdown",
   "source": [
    "Сохраним получившийся (надеюсь, что чистый) датасет:"
   ],
   "metadata": {
    "collapsed": false,
    "pycharm": {
     "name": "#%% md\n"
    }
   }
  },
  {
   "cell_type": "code",
   "execution_count": 248,
   "outputs": [],
   "source": [
    "tidy.to_csv('out/tidy.csv', index=False)"
   ],
   "metadata": {
    "collapsed": false,
    "pycharm": {
     "name": "#%%\n"
    }
   }
  },
  {
   "cell_type": "code",
   "execution_count": 249,
   "outputs": [
    {
     "data": {
      "text/plain": "           dateCrawled                                               name  \\\n0  2016-03-30 13:51:00                                       Zu_verkaufen   \n1  2016-03-07 09:54:00                             Volvo_XC90_2.4D_Summum   \n2  2016-04-01 00:57:00                                  Volkswagen_Touran   \n3  2016-03-19 17:50:00                       Seat_Ibiza_1.4_16V_Reference   \n4  2016-03-16 14:51:00  Volvo_XC90_D5_Aut._RDesign_R_Design_AWD_GSHD_S...   \n\n    seller offerType  price   abtest vehicleType  yearOfRegistration  \\\n0  private     offer   4450     test   limousine                2003   \n1  private     offer  13299  control         suv                2005   \n2  private     offer   3200     test         bus                2003   \n3  private     offer   4500  control   small car                2006   \n4  private     offer  18750     test         suv                2008   \n\n     gearbox  powerPS     model  kilometer  monthOfRegistration fuelType  \\\n0     manual      150       3er     150000                    3   diesel   \n1     manual      163  xc_reihe     150000                    6   diesel   \n2     manual      101    touran     150000                   11   diesel   \n3     manual       86     ibiza      60000                   12   petrol   \n4  automatic      185  xc_reihe     150000                   11   diesel   \n\n        brand dateCreated  postalCode             lastSeen  adj_price  \\\n0         bmw  2016-03-30       20257  2016-04-07 04:44:00   8.400659   \n1       volvo  2016-03-07       88045  2016-03-26 13:17:00   9.495444   \n2  volkswagen  2016-03-31       27449  2016-04-01 08:40:00   8.070906   \n3        seat  2016-03-19       34537  2016-04-07 04:44:00   8.411833   \n4       volvo  2016-03-16       55270  2016-04-01 23:18:00   9.838949   \n\n   adj_powerPS  \n0     5.010635  \n1     5.093750  \n2     4.615121  \n3     4.454347  \n4     5.220356  ",
      "text/html": "<div>\n<style scoped>\n    .dataframe tbody tr th:only-of-type {\n        vertical-align: middle;\n    }\n\n    .dataframe tbody tr th {\n        vertical-align: top;\n    }\n\n    .dataframe thead th {\n        text-align: right;\n    }\n</style>\n<table border=\"1\" class=\"dataframe\">\n  <thead>\n    <tr style=\"text-align: right;\">\n      <th></th>\n      <th>dateCrawled</th>\n      <th>name</th>\n      <th>seller</th>\n      <th>offerType</th>\n      <th>price</th>\n      <th>abtest</th>\n      <th>vehicleType</th>\n      <th>yearOfRegistration</th>\n      <th>gearbox</th>\n      <th>powerPS</th>\n      <th>model</th>\n      <th>kilometer</th>\n      <th>monthOfRegistration</th>\n      <th>fuelType</th>\n      <th>brand</th>\n      <th>dateCreated</th>\n      <th>postalCode</th>\n      <th>lastSeen</th>\n      <th>adj_price</th>\n      <th>adj_powerPS</th>\n    </tr>\n  </thead>\n  <tbody>\n    <tr>\n      <th>0</th>\n      <td>2016-03-30 13:51:00</td>\n      <td>Zu_verkaufen</td>\n      <td>private</td>\n      <td>offer</td>\n      <td>4450</td>\n      <td>test</td>\n      <td>limousine</td>\n      <td>2003</td>\n      <td>manual</td>\n      <td>150</td>\n      <td>3er</td>\n      <td>150000</td>\n      <td>3</td>\n      <td>diesel</td>\n      <td>bmw</td>\n      <td>2016-03-30</td>\n      <td>20257</td>\n      <td>2016-04-07 04:44:00</td>\n      <td>8.400659</td>\n      <td>5.010635</td>\n    </tr>\n    <tr>\n      <th>1</th>\n      <td>2016-03-07 09:54:00</td>\n      <td>Volvo_XC90_2.4D_Summum</td>\n      <td>private</td>\n      <td>offer</td>\n      <td>13299</td>\n      <td>control</td>\n      <td>suv</td>\n      <td>2005</td>\n      <td>manual</td>\n      <td>163</td>\n      <td>xc_reihe</td>\n      <td>150000</td>\n      <td>6</td>\n      <td>diesel</td>\n      <td>volvo</td>\n      <td>2016-03-07</td>\n      <td>88045</td>\n      <td>2016-03-26 13:17:00</td>\n      <td>9.495444</td>\n      <td>5.093750</td>\n    </tr>\n    <tr>\n      <th>2</th>\n      <td>2016-04-01 00:57:00</td>\n      <td>Volkswagen_Touran</td>\n      <td>private</td>\n      <td>offer</td>\n      <td>3200</td>\n      <td>test</td>\n      <td>bus</td>\n      <td>2003</td>\n      <td>manual</td>\n      <td>101</td>\n      <td>touran</td>\n      <td>150000</td>\n      <td>11</td>\n      <td>diesel</td>\n      <td>volkswagen</td>\n      <td>2016-03-31</td>\n      <td>27449</td>\n      <td>2016-04-01 08:40:00</td>\n      <td>8.070906</td>\n      <td>4.615121</td>\n    </tr>\n    <tr>\n      <th>3</th>\n      <td>2016-03-19 17:50:00</td>\n      <td>Seat_Ibiza_1.4_16V_Reference</td>\n      <td>private</td>\n      <td>offer</td>\n      <td>4500</td>\n      <td>control</td>\n      <td>small car</td>\n      <td>2006</td>\n      <td>manual</td>\n      <td>86</td>\n      <td>ibiza</td>\n      <td>60000</td>\n      <td>12</td>\n      <td>petrol</td>\n      <td>seat</td>\n      <td>2016-03-19</td>\n      <td>34537</td>\n      <td>2016-04-07 04:44:00</td>\n      <td>8.411833</td>\n      <td>4.454347</td>\n    </tr>\n    <tr>\n      <th>4</th>\n      <td>2016-03-16 14:51:00</td>\n      <td>Volvo_XC90_D5_Aut._RDesign_R_Design_AWD_GSHD_S...</td>\n      <td>private</td>\n      <td>offer</td>\n      <td>18750</td>\n      <td>test</td>\n      <td>suv</td>\n      <td>2008</td>\n      <td>automatic</td>\n      <td>185</td>\n      <td>xc_reihe</td>\n      <td>150000</td>\n      <td>11</td>\n      <td>diesel</td>\n      <td>volvo</td>\n      <td>2016-03-16</td>\n      <td>55270</td>\n      <td>2016-04-01 23:18:00</td>\n      <td>9.838949</td>\n      <td>5.220356</td>\n    </tr>\n  </tbody>\n</table>\n</div>"
     },
     "execution_count": 249,
     "metadata": {},
     "output_type": "execute_result"
    }
   ],
   "source": [
    "df = pd.read_csv('out/tidy.csv')\n",
    "df.head()"
   ],
   "metadata": {
    "collapsed": false,
    "pycharm": {
     "name": "#%%\n"
    }
   }
  },
  {
   "cell_type": "code",
   "execution_count": 250,
   "outputs": [
    {
     "name": "stdout",
     "output_type": "stream",
     "text": [
      "<class 'pandas.core.frame.DataFrame'>\n",
      "RangeIndex: 42851 entries, 0 to 42850\n",
      "Data columns (total 20 columns):\n",
      " #   Column               Non-Null Count  Dtype  \n",
      "---  ------               --------------  -----  \n",
      " 0   dateCrawled          42851 non-null  object \n",
      " 1   name                 42851 non-null  object \n",
      " 2   seller               42851 non-null  object \n",
      " 3   offerType            42851 non-null  object \n",
      " 4   price                42851 non-null  int64  \n",
      " 5   abtest               42851 non-null  object \n",
      " 6   vehicleType          42851 non-null  object \n",
      " 7   yearOfRegistration   42851 non-null  int64  \n",
      " 8   gearbox              42851 non-null  object \n",
      " 9   powerPS              42851 non-null  int64  \n",
      " 10  model                42851 non-null  object \n",
      " 11  kilometer            42851 non-null  int64  \n",
      " 12  monthOfRegistration  42851 non-null  int64  \n",
      " 13  fuelType             42851 non-null  object \n",
      " 14  brand                42851 non-null  object \n",
      " 15  dateCreated          42851 non-null  object \n",
      " 16  postalCode           42851 non-null  int64  \n",
      " 17  lastSeen             42851 non-null  object \n",
      " 18  adj_price            42851 non-null  float64\n",
      " 19  adj_powerPS          42851 non-null  float64\n",
      "dtypes: float64(2), int64(6), object(12)\n",
      "memory usage: 6.5+ MB\n"
     ]
    }
   ],
   "source": [
    "df.info()"
   ],
   "metadata": {
    "collapsed": false,
    "pycharm": {
     "name": "#%%\n"
    }
   }
  },
  {
   "cell_type": "markdown",
   "source": [
    "## Дополнительное задание. Модель регрессии для цены автомобиля"
   ],
   "metadata": {
    "collapsed": false,
    "pycharm": {
     "name": "#%% md\n"
    }
   }
  },
  {
   "cell_type": "markdown",
   "source": [
    "На наших \"ну таких себе\" данных:"
   ],
   "metadata": {
    "collapsed": false,
    "pycharm": {
     "name": "#%% md\n"
    }
   }
  },
  {
   "cell_type": "code",
   "execution_count": 251,
   "outputs": [],
   "source": [
    "X = df[['powerPS', 'kilometer', 'gearbox', 'fuelType', 'vehicleType']]\n",
    "y = df[['price']]"
   ],
   "metadata": {
    "collapsed": false,
    "pycharm": {
     "name": "#%%\n"
    }
   }
  },
  {
   "cell_type": "code",
   "execution_count": 252,
   "outputs": [],
   "source": [
    "enc = OneHotEncoder()\n",
    "X_bin = enc.fit_transform(X[['gearbox', 'fuelType', 'vehicleType']])\n",
    "\n",
    "scaler = StandardScaler()\n",
    "X_scaled = scaler.fit_transform(X[['powerPS', 'kilometer']])\n",
    "\n",
    "X = pd.concat([pd.DataFrame(X_bin.toarray()), pd.DataFrame(X_scaled)], ignore_index=True, axis=1)"
   ],
   "metadata": {
    "collapsed": false,
    "pycharm": {
     "name": "#%%\n"
    }
   }
  },
  {
   "cell_type": "code",
   "execution_count": 253,
   "outputs": [],
   "source": [
    "X_train, X_test, y_train, y_test = train_test_split(X, y, test_size=0.2)"
   ],
   "metadata": {
    "collapsed": false,
    "pycharm": {
     "name": "#%%\n"
    }
   }
  },
  {
   "cell_type": "code",
   "execution_count": 254,
   "outputs": [],
   "source": [
    "reg = LinearRegression()\n",
    "reg.fit(X_train, y_train);"
   ],
   "metadata": {
    "collapsed": false,
    "pycharm": {
     "name": "#%%\n"
    }
   }
  },
  {
   "cell_type": "code",
   "execution_count": 255,
   "outputs": [
    {
     "name": "stdout",
     "output_type": "stream",
     "text": [
      "R2: 0.5760\n"
     ]
    }
   ],
   "source": [
    "print(f'R2: {reg.score(X_test, y_test):.4f}')"
   ],
   "metadata": {
    "collapsed": false,
    "pycharm": {
     "name": "#%%\n"
    }
   }
  },
  {
   "cell_type": "markdown",
   "source": [
    "На наших \"лучших\" данных"
   ],
   "metadata": {
    "collapsed": false,
    "pycharm": {
     "name": "#%% md\n"
    }
   }
  },
  {
   "cell_type": "code",
   "execution_count": 273,
   "outputs": [],
   "source": [
    "X = df[['adj_powerPS', 'kilometer', 'gearbox', 'fuelType', 'vehicleType']]\n",
    "y = df[['adj_price']]"
   ],
   "metadata": {
    "collapsed": false,
    "pycharm": {
     "name": "#%%\n"
    }
   }
  },
  {
   "cell_type": "code",
   "execution_count": 274,
   "outputs": [],
   "source": [
    "enc = OneHotEncoder()\n",
    "X_bin = enc.fit_transform(X[['gearbox', 'fuelType', 'vehicleType']])\n",
    "\n",
    "scaler = StandardScaler()\n",
    "X_scaled = scaler.fit_transform(X[['adj_powerPS', 'kilometer']])\n",
    "\n",
    "X = pd.concat([pd.DataFrame(X_bin.toarray()), pd.DataFrame(X_scaled), df[['monthOfRegistration']]], ignore_index=True, axis=1)"
   ],
   "metadata": {
    "collapsed": false,
    "pycharm": {
     "name": "#%%\n"
    }
   }
  },
  {
   "cell_type": "code",
   "execution_count": 275,
   "outputs": [],
   "source": [
    "X_train, X_test, y_train, y_test = train_test_split(X, y, test_size=0.2)"
   ],
   "metadata": {
    "collapsed": false,
    "pycharm": {
     "name": "#%%\n"
    }
   }
  },
  {
   "cell_type": "code",
   "execution_count": 276,
   "outputs": [],
   "source": [
    "reg = LinearRegression()\n",
    "reg.fit(X_train, y_train);"
   ],
   "metadata": {
    "collapsed": false,
    "pycharm": {
     "name": "#%%\n"
    }
   }
  },
  {
   "cell_type": "code",
   "execution_count": 277,
   "outputs": [
    {
     "name": "stdout",
     "output_type": "stream",
     "text": [
      "R2: 0.5867\n"
     ]
    }
   ],
   "source": [
    "print(f'R2: {reg.score(X_test, y_test):.4f}')"
   ],
   "metadata": {
    "collapsed": false,
    "pycharm": {
     "name": "#%%\n"
    }
   }
  },
  {
   "cell_type": "markdown",
   "source": [
    "**Вывод:** уровень \"простая предобработка\" failed."
   ],
   "metadata": {
    "collapsed": false,
    "pycharm": {
     "name": "#%% md\n"
    }
   }
  }
 ],
 "metadata": {
  "kernelspec": {
   "display_name": "Python 3",
   "language": "python",
   "name": "python3"
  },
  "language_info": {
   "codemirror_mode": {
    "name": "ipython",
    "version": 2
   },
   "file_extension": ".py",
   "mimetype": "text/x-python",
   "name": "python",
   "nbconvert_exporter": "python",
   "pygments_lexer": "ipython2",
   "version": "2.7.6"
  }
 },
 "nbformat": 4,
 "nbformat_minor": 0
}