{
 "cells": [
  {
   "cell_type": "code",
   "execution_count": 460,
   "metadata": {
    "collapsed": true
   },
   "outputs": [],
   "source": [
    "%matplotlib inline"
   ]
  },
  {
   "cell_type": "code",
   "execution_count": 461,
   "outputs": [],
   "source": [
    "from sklearn.neural_network import MLPClassifier\n",
    "import pandas as pd\n",
    "import matplotlib.pyplot as plt\n",
    "import numpy as np\n",
    "import seaborn as sns\n",
    "from sklearn.datasets import load_breast_cancer\n",
    "from sklearn.model_selection import train_test_split\n",
    "from sklearn.svm import SVC\n",
    "from tqdm.notebook import tqdm\n",
    "\n",
    "plt.rcParams[\"figure.figsize\"] = (12, 5)\n",
    "sns.set_theme()"
   ],
   "metadata": {
    "collapsed": false,
    "pycharm": {
     "name": "#%%\n"
    }
   }
  },
  {
   "cell_type": "code",
   "execution_count": 462,
   "outputs": [
    {
     "data": {
      "text/plain": "['animation.embed_limit', 'axes.autolimit_mode', 'axes.formatter.limits']"
     },
     "execution_count": 462,
     "metadata": {},
     "output_type": "execute_result"
    }
   ],
   "source": [
    "[i for i in plt.rcParams.keys() if 'lim' in i]"
   ],
   "metadata": {
    "collapsed": false,
    "pycharm": {
     "name": "#%%\n"
    }
   }
  },
  {
   "cell_type": "markdown",
   "source": [
    "Загрузите датасет breast_cancer."
   ],
   "metadata": {
    "collapsed": false
   }
  },
  {
   "cell_type": "code",
   "execution_count": 463,
   "outputs": [],
   "source": [
    "X, y = load_breast_cancer(return_X_y=True)"
   ],
   "metadata": {
    "collapsed": false,
    "pycharm": {
     "name": "#%%\n"
    }
   }
  },
  {
   "cell_type": "code",
   "execution_count": 464,
   "outputs": [
    {
     "data": {
      "text/plain": "(array([0, 0, 0, 0, 0, 0, 0, 0, 0, 0]), (569, 30))"
     },
     "execution_count": 464,
     "metadata": {},
     "output_type": "execute_result"
    }
   ],
   "source": [
    "y[:10], X.shape"
   ],
   "metadata": {
    "collapsed": false,
    "pycharm": {
     "name": "#%%\n"
    }
   }
  },
  {
   "cell_type": "markdown",
   "source": [
    "Выберите два первых признака. Таким образом мы уменьшим размерность задачи. У нас была задача множественной классификации, а стала - бинарная."
   ],
   "metadata": {
    "collapsed": false
   }
  },
  {
   "cell_type": "code",
   "execution_count": 465,
   "outputs": [
    {
     "data": {
      "text/plain": "(569, 2)"
     },
     "execution_count": 465,
     "metadata": {},
     "output_type": "execute_result"
    }
   ],
   "source": [
    "X = X[:, :2]\n",
    "X.shape"
   ],
   "metadata": {
    "collapsed": false,
    "pycharm": {
     "name": "#%%\n"
    }
   }
  },
  {
   "cell_type": "markdown",
   "source": [
    "Разделите датасет на обучающую и тестовую выборки в пропорции 80-20."
   ],
   "metadata": {
    "collapsed": false
   }
  },
  {
   "cell_type": "code",
   "execution_count": 466,
   "outputs": [],
   "source": [
    "X_train, X_test, y_train, y_test = train_test_split(X, y, test_size=0.2)"
   ],
   "metadata": {
    "collapsed": false,
    "pycharm": {
     "name": "#%%\n"
    }
   }
  },
  {
   "cell_type": "markdown",
   "source": [
    "Постройте классификатор на опорных векторах с гауссовым ядром с параметром регуляризации C=0.01. Выведите на экран значение точности на тестовой и обучающей выборке. Сделайте предварительный вывод о степени обученности модели.\n"
   ],
   "metadata": {
    "collapsed": false
   }
  },
  {
   "cell_type": "code",
   "execution_count": 467,
   "outputs": [
    {
     "name": "stdout",
     "output_type": "stream",
     "text": [
      "test accuracy: 0.7192982456140351\n",
      "train accuracy: 0.7054945054945055\n"
     ]
    }
   ],
   "source": [
    "clf = SVC(kernel='rbf', C=0.01)\n",
    "clf.fit(X_train, y_train)\n",
    "print(f'test accuracy: {clf.score(X_test, y_test)}')\n",
    "print(f'train accuracy: {clf.score(X_train, y_train)}')"
   ],
   "metadata": {
    "collapsed": false,
    "pycharm": {
     "name": "#%%\n"
    }
   }
  },
  {
   "cell_type": "markdown",
   "source": [
    "Невысокое значение `train_score` и близость значений `train_score` и `test_score` говорят о том, что модель недообучается."
   ],
   "metadata": {
    "collapsed": false
   }
  },
  {
   "cell_type": "markdown",
   "source": [
    "Постройте графически зависимость тестовой и обучающей точности от размера обучающей выборки. Прокомментируйте получившийся результат. Сделайте вывод о том, недообучается или переобучается модель? В зависимости от этого выберите варианты, которые могут привести к увеличению точности модели (обычно подходит больше одного варианта):\n",
    "1. собрать больше объектов наблюдения;\n",
    "2. провести обучение на меньшем объеме данных;\n",
    "3. исключить часть признаков из модели;\n",
    "4. добавить новые признаки в модель;\n",
    "5. добавить полиномиальные признаки;\n",
    "6. попробовать более сложные модели;\n",
    "7. попробовать более простые модели;\n",
    "8. увеличить регуляризацию модели;\n",
    "9. уменьшить регуляризацию модели;\n"
   ],
   "metadata": {
    "collapsed": false
   }
  },
  {
   "cell_type": "code",
   "execution_count": 468,
   "outputs": [
    {
     "data": {
      "text/plain": "<Figure size 864x360 with 1 Axes>",
      "image/png": "[encoded data removed]"
     },
     "metadata": {},
     "output_type": "display_data"
    }
   ],
   "source": [
    "test_scores = []\n",
    "train_scores = []\n",
    "xi = np.linspace(len(X_train) // 100 + 10, len(X_train), 100, dtype=int)\n",
    "\n",
    "for i in xi:\n",
    "    clf = SVC(C=0.01, kernel='rbf')\n",
    "\n",
    "    x_ = X_train[:i]\n",
    "    y_ = y_train[:i]\n",
    "\n",
    "    clf.fit(x_, y_)\n",
    "\n",
    "    test_scores.append(clf.score(X_test, y_test))\n",
    "    train_scores.append(clf.score(x_, y_))\n",
    "\n",
    "ax = plt.axes()\n",
    "ax.plot(xi, test_scores, label=\"test\")\n",
    "ax.plot(xi, train_scores, label=\"train\")\n",
    "ax.set_xlabel('size')\n",
    "ax.set_ylabel('score')\n",
    "_ = ax.legend()"
   ],
   "metadata": {
    "collapsed": false,
    "pycharm": {
     "name": "#%%\n"
    }
   }
  },
  {
   "cell_type": "markdown",
   "source": [
    "И `train_score` и `test_score` с ростом объема обучающей выборке увеличиваются. Модель недообучается. Точность модели маленькая и на тестовых данных продолжает расти.\n",
    "\n",
    "Способы улучшить модель:\n",
    "- собрать больше объектов наблюдения (но в данном случае это не возможно)\n",
    "- исключить и добавить новые признаки одновременно (выбрать признаки, которые, например, больше коррелируют с `target`)\n",
    "- попробовать более сложные модели (например, MLP)\n",
    "- увеличить регуляризацию модели (увеличение регуляризации модели помогает преодолеть недообучение)\n"
   ],
   "metadata": {
    "collapsed": false
   }
  },
  {
   "cell_type": "markdown",
   "source": [
    "Проверьте выдвинутую гипотезу и попробуйте улучшить модель в соответствии с выбранными рекомендациями. Проверьте, увеличивается ли тестовая точность. Сделайте вывод."
   ],
   "metadata": {
    "collapsed": false
   }
  },
  {
   "cell_type": "markdown",
   "source": [
    "### Выбор признаков на основе корреляционной матрицы"
   ],
   "metadata": {
    "collapsed": false
   }
  },
  {
   "cell_type": "code",
   "execution_count": 469,
   "outputs": [
    {
     "data": {
      "text/plain": "          target         0         1         2         3         4         5  \\\ntarget  1.000000  0.730029  0.415185  0.742636  0.708984  0.358560  0.596534   \n27      0.793566  0.744214  0.295316  0.771241  0.722017  0.503053  0.815573   \n22      0.782914  0.965137  0.358040  0.970387  0.959120  0.238853  0.590210   \n7       0.776614  0.822529  0.293464  0.850977  0.823269  0.553695  0.831135   \n20      0.776454  0.969539  0.352573  0.969476  0.962746  0.213120  0.535315   \n2       0.742636  0.997855  0.329533  1.000000  0.986507  0.207278  0.556936   \n23      0.733825  0.941082  0.343546  0.941550  0.959213  0.206718  0.509604   \n0       0.730029  1.000000  0.323782  0.997855  0.987357  0.170581  0.506124   \n3       0.708984  0.987357  0.321086  0.986507  1.000000  0.177028  0.498502   \n6       0.696360  0.676764  0.302418  0.716136  0.685983  0.521984  0.883121   \n26      0.659610  0.526911  0.301025  0.563879  0.512606  0.434926  0.816275   \n5       0.596534  0.506124  0.236702  0.556936  0.498502  0.659123  1.000000   \n25      0.590998  0.413463  0.277830  0.455774  0.390410  0.472468  0.865809   \n10      0.567134  0.679090  0.275869  0.691765  0.732562  0.301467  0.497473   \n12      0.556141  0.674172  0.281673  0.693135  0.726628  0.296092  0.548905   \n13      0.548236  0.735864  0.259845  0.744983  0.800086  0.246552  0.455653   \n21      0.456903  0.297008  0.912045  0.303038  0.287489  0.036072  0.248133   \n24      0.421465  0.119616  0.077503  0.150549  0.123523  0.805324  0.565541   \n28      0.416294  0.163953  0.105008  0.189115  0.143570  0.394309  0.510223   \n1       0.415185  0.323782  1.000000  0.329533  0.321086  0.023389  0.236702   \n17      0.408042  0.376169  0.163851  0.407217  0.372320  0.380676  0.642262   \n4       0.358560  0.170581  0.023389  0.207278  0.177028  1.000000  0.659123   \n8       0.330499  0.147741  0.071401  0.183027  0.151293  0.557775  0.602641   \n29      0.323872  0.007066  0.119205  0.051019  0.003738  0.499316  0.687382   \n15      0.292999  0.206000  0.191975  0.250744  0.212583  0.318943  0.738722   \n16      0.253730  0.194204  0.143293  0.228082  0.207660  0.248396  0.570517   \n19      0.077972  0.042641  0.054458  0.005523  0.019887  0.283607  0.507318   \n14      0.067016  0.222600  0.006614  0.202694  0.166777  0.332375  0.135299   \n9       0.012838  0.311631  0.076437  0.261477  0.283110  0.584792  0.565369   \n11      0.008303  0.097317  0.386358  0.086761  0.066280  0.068406  0.046205   \n18      0.006522  0.104321  0.009127  0.081629  0.072497  0.200774  0.229977   \n\n               6         7         8  ...        20        21        22  \\\ntarget  0.696360  0.776614  0.330499  ...  0.776454  0.456903  0.782914   \n27      0.861323  0.910155  0.430297  ...  0.787424  0.359755  0.816322   \n22      0.729565  0.855923  0.219169  ...  0.993708  0.365098  1.000000   \n7       0.921391  1.000000  0.462497  ...  0.830318  0.292752  0.855923   \n20      0.688236  0.830318  0.185728  ...  1.000000  0.359921  0.993708   \n2       0.716136  0.850977  0.183027  ...  0.969476  0.303038  0.970387   \n23      0.675987  0.809630  0.177193  ...  0.984015  0.345842  0.977578   \n0       0.676764  0.822529  0.147741  ...  0.969539  0.297008  0.965137   \n3       0.685983  0.823269  0.151293  ...  0.962746  0.287489  0.959120   \n6       1.000000  0.921391  0.500667  ...  0.688236  0.299879  0.729565   \n26      0.884103  0.752399  0.433721  ...  0.573975  0.368366  0.618344   \n5       0.883121  0.831135  0.602641  ...  0.535315  0.248133  0.590210   \n25      0.754968  0.667454  0.473200  ...  0.475820  0.360832  0.529408   \n10      0.631925  0.698050  0.303379  ...  0.715065  0.194799  0.719684   \n12      0.660391  0.710650  0.313893  ...  0.697201  0.200371  0.721031   \n13      0.617427  0.690299  0.223970  ...  0.757373  0.196497  0.761213   \n21      0.299879  0.292752  0.090651  ...  0.359921  1.000000  0.365098   \n24      0.448822  0.452753  0.426675  ...  0.216574  0.225429  0.236775   \n28      0.409464  0.375744  0.699826  ...  0.243529  0.233027  0.269493   \n1       0.302418  0.293464  0.071401  ...  0.352573  0.912045  0.358040   \n17      0.683260  0.615634  0.393298  ...  0.358127  0.086741  0.394999   \n4       0.521984  0.553695  0.557775  ...  0.213120  0.036072  0.238853   \n8       0.500667  0.462497  1.000000  ...  0.185728  0.090651  0.219169   \n29      0.514930  0.368661  0.438413  ...  0.093492  0.219122  0.138957   \n15      0.670279  0.490424  0.421659  ...  0.204607  0.143003  0.260516   \n16      0.691270  0.439167  0.342627  ...  0.186904  0.100241  0.226680   \n19      0.449301  0.257584  0.331786  ...  0.037488  0.003195  0.001000   \n14      0.098564  0.027653  0.187321  ...  0.230691  0.074743  0.217304   \n9       0.336783  0.166917  0.479921  ...  0.253691  0.051269  0.205151   \n11      0.076218  0.021480  0.128053  ...  0.111690  0.409003  0.102242   \n18      0.178009  0.095351  0.449137  ...  0.128121  0.077473  0.103753   \n\n              23        24        25        26        27        28        29  \ntarget  0.733825  0.421465  0.590998  0.659610  0.793566  0.416294  0.323872  \n27      0.747419  0.547691  0.801080  0.855434  1.000000  0.502528  0.511114  \n22      0.977578  0.236775  0.529408  0.618344  0.816322  0.269493  0.138957  \n7       0.809630  0.452753  0.667454  0.752399  0.910155  0.375744  0.368661  \n20      0.984015  0.216574  0.475820  0.573975  0.787424  0.243529  0.093492  \n2       0.941550  0.150549  0.455774  0.563879  0.771241  0.189115  0.051019  \n23      1.000000  0.209145  0.438296  0.543331  0.747419  0.209146  0.079647  \n0       0.941082  0.119616  0.413463  0.526911  0.744214  0.163953  0.007066  \n3       0.959213  0.123523  0.390410  0.512606  0.722017  0.143570  0.003738  \n6       0.675987  0.448822  0.754968  0.884103  0.861323  0.409464  0.514930  \n26      0.543331  0.518523  0.892261  1.000000  0.855434  0.532520  0.686511  \n5       0.509604  0.565541  0.865809  0.816275  0.815573  0.510223  0.687382  \n25      0.438296  0.568187  1.000000  0.892261  0.801080  0.614441  0.810455  \n10      0.751548  0.141919  0.287103  0.380585  0.531062  0.094543  0.049559  \n12      0.730713  0.130054  0.341919  0.418899  0.554897  0.109930  0.085433  \n13      0.811408  0.125389  0.283257  0.385100  0.538166  0.074126  0.017539  \n21      0.345842  0.225429  0.360832  0.368366  0.359755  0.233027  0.219122  \n24      0.209145  1.000000  0.568187  0.518523  0.547691  0.493838  0.617624  \n28      0.209146  0.493838  0.614441  0.532520  0.502528  1.000000  0.537848  \n1       0.343546  0.077503  0.277830  0.301025  0.295316  0.105008  0.119205  \n17      0.342271  0.215351  0.452888  0.549592  0.602450  0.143116  0.310655  \n4       0.206718  0.805324  0.472468  0.434926  0.503053  0.394309  0.499316  \n8       0.177193  0.426675  0.473200  0.433721  0.430297  0.699826  0.438413  \n29      0.079647  0.617624  0.810455  0.686511  0.511114  0.537848  1.000000  \n15      0.199371  0.227394  0.678780  0.639147  0.483208  0.277878  0.590973  \n16      0.188353  0.168481  0.484858  0.662564  0.440472  0.197788  0.439329  \n19      0.022736  0.170568  0.390159  0.379975  0.215204  0.111094  0.591328  \n14      0.182195  0.314457  0.055558  0.058298  0.102007  0.107342  0.101480  \n9       0.231854  0.504942  0.458798  0.346234  0.175325  0.334019  0.767297  \n11      0.083195  0.073658  0.092439  0.068956  0.119638  0.128215  0.045655  \n18      0.110343  0.012662  0.060255  0.037119  0.030413  0.389402  0.078079  \n\n[31 rows x 31 columns]",
      "text/html": "<div>\n<style scoped>\n    .dataframe tbody tr th:only-of-type {\n        vertical-align: middle;\n    }\n\n    .dataframe tbody tr th {\n        vertical-align: top;\n    }\n\n    .dataframe thead th {\n        text-align: right;\n    }\n</style>\n<table border=\"1\" class=\"dataframe\">\n  <thead>\n    <tr style=\"text-align: right;\">\n      <th></th>\n      <th>target</th>\n      <th>0</th>\n      <th>1</th>\n      <th>2</th>\n      <th>3</th>\n      <th>4</th>\n      <th>5</th>\n      <th>6</th>\n      <th>7</th>\n      <th>8</th>\n      <th>...</th>\n      <th>20</th>\n      <th>21</th>\n      <th>22</th>\n      <th>23</th>\n      <th>24</th>\n      <th>25</th>\n      <th>26</th>\n      <th>27</th>\n      <th>28</th>\n      <th>29</th>\n    </tr>\n  </thead>\n  <tbody>\n    <tr>\n      <th>target</th>\n      <td>1.000000</td>\n      <td>0.730029</td>\n      <td>0.415185</td>\n      <td>0.742636</td>\n      <td>0.708984</td>\n      <td>0.358560</td>\n      <td>0.596534</td>\n      <td>0.696360</td>\n      <td>0.776614</td>\n      <td>0.330499</td>\n      <td>...</td>\n      <td>0.776454</td>\n      <td>0.456903</td>\n      <td>0.782914</td>\n      <td>0.733825</td>\n      <td>0.421465</td>\n      <td>0.590998</td>\n      <td>0.659610</td>\n      <td>0.793566</td>\n      <td>0.416294</td>\n      <td>0.323872</td>\n    </tr>\n    <tr>\n      <th>27</th>\n      <td>0.793566</td>\n      <td>0.744214</td>\n      <td>0.295316</td>\n      <td>0.771241</td>\n      <td>0.722017</td>\n      <td>0.503053</td>\n      <td>0.815573</td>\n      <td>0.861323</td>\n      <td>0.910155</td>\n      <td>0.430297</td>\n      <td>...</td>\n      <td>0.787424</td>\n      <td>0.359755</td>\n      <td>0.816322</td>\n      <td>0.747419</td>\n      <td>0.547691</td>\n      <td>0.801080</td>\n      <td>0.855434</td>\n      <td>1.000000</td>\n      <td>0.502528</td>\n      <td>0.511114</td>\n    </tr>\n    <tr>\n      <th>22</th>\n      <td>0.782914</td>\n      <td>0.965137</td>\n      <td>0.358040</td>\n      <td>0.970387</td>\n      <td>0.959120</td>\n      <td>0.238853</td>\n      <td>0.590210</td>\n      <td>0.729565</td>\n      <td>0.855923</td>\n      <td>0.219169</td>\n      <td>...</td>\n      <td>0.993708</td>\n      <td>0.365098</td>\n      <td>1.000000</td>\n      <td>0.977578</td>\n      <td>0.236775</td>\n      <td>0.529408</td>\n      <td>0.618344</td>\n      <td>0.816322</td>\n      <td>0.269493</td>\n      <td>0.138957</td>\n    </tr>\n    <tr>\n      <th>7</th>\n      <td>0.776614</td>\n      <td>0.822529</td>\n      <td>0.293464</td>\n      <td>0.850977</td>\n      <td>0.823269</td>\n      <td>0.553695</td>\n      <td>0.831135</td>\n      <td>0.921391</td>\n      <td>1.000000</td>\n      <td>0.462497</td>\n      <td>...</td>\n      <td>0.830318</td>\n      <td>0.292752</td>\n      <td>0.855923</td>\n      <td>0.809630</td>\n      <td>0.452753</td>\n      <td>0.667454</td>\n      <td>0.752399</td>\n      <td>0.910155</td>\n      <td>0.375744</td>\n      <td>0.368661</td>\n    </tr>\n    <tr>\n      <th>20</th>\n      <td>0.776454</td>\n      <td>0.969539</td>\n      <td>0.352573</td>\n      <td>0.969476</td>\n      <td>0.962746</td>\n      <td>0.213120</td>\n      <td>0.535315</td>\n      <td>0.688236</td>\n      <td>0.830318</td>\n      <td>0.185728</td>\n      <td>...</td>\n      <td>1.000000</td>\n      <td>0.359921</td>\n      <td>0.993708</td>\n      <td>0.984015</td>\n      <td>0.216574</td>\n      <td>0.475820</td>\n      <td>0.573975</td>\n      <td>0.787424</td>\n      <td>0.243529</td>\n      <td>0.093492</td>\n    </tr>\n    <tr>\n      <th>2</th>\n      <td>0.742636</td>\n      <td>0.997855</td>\n      <td>0.329533</td>\n      <td>1.000000</td>\n      <td>0.986507</td>\n      <td>0.207278</td>\n      <td>0.556936</td>\n      <td>0.716136</td>\n      <td>0.850977</td>\n      <td>0.183027</td>\n      <td>...</td>\n      <td>0.969476</td>\n      <td>0.303038</td>\n      <td>0.970387</td>\n      <td>0.941550</td>\n      <td>0.150549</td>\n      <td>0.455774</td>\n      <td>0.563879</td>\n      <td>0.771241</td>\n      <td>0.189115</td>\n      <td>0.051019</td>\n    </tr>\n    <tr>\n      <th>23</th>\n      <td>0.733825</td>\n      <td>0.941082</td>\n      <td>0.343546</td>\n      <td>0.941550</td>\n      <td>0.959213</td>\n      <td>0.206718</td>\n      <td>0.509604</td>\n      <td>0.675987</td>\n      <td>0.809630</td>\n      <td>0.177193</td>\n      <td>...</td>\n      <td>0.984015</td>\n      <td>0.345842</td>\n      <td>0.977578</td>\n      <td>1.000000</td>\n      <td>0.209145</td>\n      <td>0.438296</td>\n      <td>0.543331</td>\n      <td>0.747419</td>\n      <td>0.209146</td>\n      <td>0.079647</td>\n    </tr>\n    <tr>\n      <th>0</th>\n      <td>0.730029</td>\n      <td>1.000000</td>\n      <td>0.323782</td>\n      <td>0.997855</td>\n      <td>0.987357</td>\n      <td>0.170581</td>\n      <td>0.506124</td>\n      <td>0.676764</td>\n      <td>0.822529</td>\n      <td>0.147741</td>\n      <td>...</td>\n      <td>0.969539</td>\n      <td>0.297008</td>\n      <td>0.965137</td>\n      <td>0.941082</td>\n      <td>0.119616</td>\n      <td>0.413463</td>\n      <td>0.526911</td>\n      <td>0.744214</td>\n      <td>0.163953</td>\n      <td>0.007066</td>\n    </tr>\n    <tr>\n      <th>3</th>\n      <td>0.708984</td>\n      <td>0.987357</td>\n      <td>0.321086</td>\n      <td>0.986507</td>\n      <td>1.000000</td>\n      <td>0.177028</td>\n      <td>0.498502</td>\n      <td>0.685983</td>\n      <td>0.823269</td>\n      <td>0.151293</td>\n      <td>...</td>\n      <td>0.962746</td>\n      <td>0.287489</td>\n      <td>0.959120</td>\n      <td>0.959213</td>\n      <td>0.123523</td>\n      <td>0.390410</td>\n      <td>0.512606</td>\n      <td>0.722017</td>\n      <td>0.143570</td>\n      <td>0.003738</td>\n    </tr>\n    <tr>\n      <th>6</th>\n      <td>0.696360</td>\n      <td>0.676764</td>\n      <td>0.302418</td>\n      <td>0.716136</td>\n      <td>0.685983</td>\n      <td>0.521984</td>\n      <td>0.883121</td>\n      <td>1.000000</td>\n      <td>0.921391</td>\n      <td>0.500667</td>\n      <td>...</td>\n      <td>0.688236</td>\n      <td>0.299879</td>\n      <td>0.729565</td>\n      <td>0.675987</td>\n      <td>0.448822</td>\n      <td>0.754968</td>\n      <td>0.884103</td>\n      <td>0.861323</td>\n      <td>0.409464</td>\n      <td>0.514930</td>\n    </tr>\n    <tr>\n      <th>26</th>\n      <td>0.659610</td>\n      <td>0.526911</td>\n      <td>0.301025</td>\n      <td>0.563879</td>\n      <td>0.512606</td>\n      <td>0.434926</td>\n      <td>0.816275</td>\n      <td>0.884103</td>\n      <td>0.752399</td>\n      <td>0.433721</td>\n      <td>...</td>\n      <td>0.573975</td>\n      <td>0.368366</td>\n      <td>0.618344</td>\n      <td>0.543331</td>\n      <td>0.518523</td>\n      <td>0.892261</td>\n      <td>1.000000</td>\n      <td>0.855434</td>\n      <td>0.532520</td>\n      <td>0.686511</td>\n    </tr>\n    <tr>\n      <th>5</th>\n      <td>0.596534</td>\n      <td>0.506124</td>\n      <td>0.236702</td>\n      <td>0.556936</td>\n      <td>0.498502</td>\n      <td>0.659123</td>\n      <td>1.000000</td>\n      <td>0.883121</td>\n      <td>0.831135</td>\n      <td>0.602641</td>\n      <td>...</td>\n      <td>0.535315</td>\n      <td>0.248133</td>\n      <td>0.590210</td>\n      <td>0.509604</td>\n      <td>0.565541</td>\n      <td>0.865809</td>\n      <td>0.816275</td>\n      <td>0.815573</td>\n      <td>0.510223</td>\n      <td>0.687382</td>\n    </tr>\n    <tr>\n      <th>25</th>\n      <td>0.590998</td>\n      <td>0.413463</td>\n      <td>0.277830</td>\n      <td>0.455774</td>\n      <td>0.390410</td>\n      <td>0.472468</td>\n      <td>0.865809</td>\n      <td>0.754968</td>\n      <td>0.667454</td>\n      <td>0.473200</td>\n      <td>...</td>\n      <td>0.475820</td>\n      <td>0.360832</td>\n      <td>0.529408</td>\n      <td>0.438296</td>\n      <td>0.568187</td>\n      <td>1.000000</td>\n      <td>0.892261</td>\n      <td>0.801080</td>\n      <td>0.614441</td>\n      <td>0.810455</td>\n    </tr>\n    <tr>\n      <th>10</th>\n      <td>0.567134</td>\n      <td>0.679090</td>\n      <td>0.275869</td>\n      <td>0.691765</td>\n      <td>0.732562</td>\n      <td>0.301467</td>\n      <td>0.497473</td>\n      <td>0.631925</td>\n      <td>0.698050</td>\n      <td>0.303379</td>\n      <td>...</td>\n      <td>0.715065</td>\n      <td>0.194799</td>\n      <td>0.719684</td>\n      <td>0.751548</td>\n      <td>0.141919</td>\n      <td>0.287103</td>\n      <td>0.380585</td>\n      <td>0.531062</td>\n      <td>0.094543</td>\n      <td>0.049559</td>\n    </tr>\n    <tr>\n      <th>12</th>\n      <td>0.556141</td>\n      <td>0.674172</td>\n      <td>0.281673</td>\n      <td>0.693135</td>\n      <td>0.726628</td>\n      <td>0.296092</td>\n      <td>0.548905</td>\n      <td>0.660391</td>\n      <td>0.710650</td>\n      <td>0.313893</td>\n      <td>...</td>\n      <td>0.697201</td>\n      <td>0.200371</td>\n      <td>0.721031</td>\n      <td>0.730713</td>\n      <td>0.130054</td>\n      <td>0.341919</td>\n      <td>0.418899</td>\n      <td>0.554897</td>\n      <td>0.109930</td>\n      <td>0.085433</td>\n    </tr>\n    <tr>\n      <th>13</th>\n      <td>0.548236</td>\n      <td>0.735864</td>\n      <td>0.259845</td>\n      <td>0.744983</td>\n      <td>0.800086</td>\n      <td>0.246552</td>\n      <td>0.455653</td>\n      <td>0.617427</td>\n      <td>0.690299</td>\n      <td>0.223970</td>\n      <td>...</td>\n      <td>0.757373</td>\n      <td>0.196497</td>\n      <td>0.761213</td>\n      <td>0.811408</td>\n      <td>0.125389</td>\n      <td>0.283257</td>\n      <td>0.385100</td>\n      <td>0.538166</td>\n      <td>0.074126</td>\n      <td>0.017539</td>\n    </tr>\n    <tr>\n      <th>21</th>\n      <td>0.456903</td>\n      <td>0.297008</td>\n      <td>0.912045</td>\n      <td>0.303038</td>\n      <td>0.287489</td>\n      <td>0.036072</td>\n      <td>0.248133</td>\n      <td>0.299879</td>\n      <td>0.292752</td>\n      <td>0.090651</td>\n      <td>...</td>\n      <td>0.359921</td>\n      <td>1.000000</td>\n      <td>0.365098</td>\n      <td>0.345842</td>\n      <td>0.225429</td>\n      <td>0.360832</td>\n      <td>0.368366</td>\n      <td>0.359755</td>\n      <td>0.233027</td>\n      <td>0.219122</td>\n    </tr>\n    <tr>\n      <th>24</th>\n      <td>0.421465</td>\n      <td>0.119616</td>\n      <td>0.077503</td>\n      <td>0.150549</td>\n      <td>0.123523</td>\n      <td>0.805324</td>\n      <td>0.565541</td>\n      <td>0.448822</td>\n      <td>0.452753</td>\n      <td>0.426675</td>\n      <td>...</td>\n      <td>0.216574</td>\n      <td>0.225429</td>\n      <td>0.236775</td>\n      <td>0.209145</td>\n      <td>1.000000</td>\n      <td>0.568187</td>\n      <td>0.518523</td>\n      <td>0.547691</td>\n      <td>0.493838</td>\n      <td>0.617624</td>\n    </tr>\n    <tr>\n      <th>28</th>\n      <td>0.416294</td>\n      <td>0.163953</td>\n      <td>0.105008</td>\n      <td>0.189115</td>\n      <td>0.143570</td>\n      <td>0.394309</td>\n      <td>0.510223</td>\n      <td>0.409464</td>\n      <td>0.375744</td>\n      <td>0.699826</td>\n      <td>...</td>\n      <td>0.243529</td>\n      <td>0.233027</td>\n      <td>0.269493</td>\n      <td>0.209146</td>\n      <td>0.493838</td>\n      <td>0.614441</td>\n      <td>0.532520</td>\n      <td>0.502528</td>\n      <td>1.000000</td>\n      <td>0.537848</td>\n    </tr>\n    <tr>\n      <th>1</th>\n      <td>0.415185</td>\n      <td>0.323782</td>\n      <td>1.000000</td>\n      <td>0.329533</td>\n      <td>0.321086</td>\n      <td>0.023389</td>\n      <td>0.236702</td>\n      <td>0.302418</td>\n      <td>0.293464</td>\n      <td>0.071401</td>\n      <td>...</td>\n      <td>0.352573</td>\n      <td>0.912045</td>\n      <td>0.358040</td>\n      <td>0.343546</td>\n      <td>0.077503</td>\n      <td>0.277830</td>\n      <td>0.301025</td>\n      <td>0.295316</td>\n      <td>0.105008</td>\n      <td>0.119205</td>\n    </tr>\n    <tr>\n      <th>17</th>\n      <td>0.408042</td>\n      <td>0.376169</td>\n      <td>0.163851</td>\n      <td>0.407217</td>\n      <td>0.372320</td>\n      <td>0.380676</td>\n      <td>0.642262</td>\n      <td>0.683260</td>\n      <td>0.615634</td>\n      <td>0.393298</td>\n      <td>...</td>\n      <td>0.358127</td>\n      <td>0.086741</td>\n      <td>0.394999</td>\n      <td>0.342271</td>\n      <td>0.215351</td>\n      <td>0.452888</td>\n      <td>0.549592</td>\n      <td>0.602450</td>\n      <td>0.143116</td>\n      <td>0.310655</td>\n    </tr>\n    <tr>\n      <th>4</th>\n      <td>0.358560</td>\n      <td>0.170581</td>\n      <td>0.023389</td>\n      <td>0.207278</td>\n      <td>0.177028</td>\n      <td>1.000000</td>\n      <td>0.659123</td>\n      <td>0.521984</td>\n      <td>0.553695</td>\n      <td>0.557775</td>\n      <td>...</td>\n      <td>0.213120</td>\n      <td>0.036072</td>\n      <td>0.238853</td>\n      <td>0.206718</td>\n      <td>0.805324</td>\n      <td>0.472468</td>\n      <td>0.434926</td>\n      <td>0.503053</td>\n      <td>0.394309</td>\n      <td>0.499316</td>\n    </tr>\n    <tr>\n      <th>8</th>\n      <td>0.330499</td>\n      <td>0.147741</td>\n      <td>0.071401</td>\n      <td>0.183027</td>\n      <td>0.151293</td>\n      <td>0.557775</td>\n      <td>0.602641</td>\n      <td>0.500667</td>\n      <td>0.462497</td>\n      <td>1.000000</td>\n      <td>...</td>\n      <td>0.185728</td>\n      <td>0.090651</td>\n      <td>0.219169</td>\n      <td>0.177193</td>\n      <td>0.426675</td>\n      <td>0.473200</td>\n      <td>0.433721</td>\n      <td>0.430297</td>\n      <td>0.699826</td>\n      <td>0.438413</td>\n    </tr>\n    <tr>\n      <th>29</th>\n      <td>0.323872</td>\n      <td>0.007066</td>\n      <td>0.119205</td>\n      <td>0.051019</td>\n      <td>0.003738</td>\n      <td>0.499316</td>\n      <td>0.687382</td>\n      <td>0.514930</td>\n      <td>0.368661</td>\n      <td>0.438413</td>\n      <td>...</td>\n      <td>0.093492</td>\n      <td>0.219122</td>\n      <td>0.138957</td>\n      <td>0.079647</td>\n      <td>0.617624</td>\n      <td>0.810455</td>\n      <td>0.686511</td>\n      <td>0.511114</td>\n      <td>0.537848</td>\n      <td>1.000000</td>\n    </tr>\n    <tr>\n      <th>15</th>\n      <td>0.292999</td>\n      <td>0.206000</td>\n      <td>0.191975</td>\n      <td>0.250744</td>\n      <td>0.212583</td>\n      <td>0.318943</td>\n      <td>0.738722</td>\n      <td>0.670279</td>\n      <td>0.490424</td>\n      <td>0.421659</td>\n      <td>...</td>\n      <td>0.204607</td>\n      <td>0.143003</td>\n      <td>0.260516</td>\n      <td>0.199371</td>\n      <td>0.227394</td>\n      <td>0.678780</td>\n      <td>0.639147</td>\n      <td>0.483208</td>\n      <td>0.277878</td>\n      <td>0.590973</td>\n    </tr>\n    <tr>\n      <th>16</th>\n      <td>0.253730</td>\n      <td>0.194204</td>\n      <td>0.143293</td>\n      <td>0.228082</td>\n      <td>0.207660</td>\n      <td>0.248396</td>\n      <td>0.570517</td>\n      <td>0.691270</td>\n      <td>0.439167</td>\n      <td>0.342627</td>\n      <td>...</td>\n      <td>0.186904</td>\n      <td>0.100241</td>\n      <td>0.226680</td>\n      <td>0.188353</td>\n      <td>0.168481</td>\n      <td>0.484858</td>\n      <td>0.662564</td>\n      <td>0.440472</td>\n      <td>0.197788</td>\n      <td>0.439329</td>\n    </tr>\n    <tr>\n      <th>19</th>\n      <td>0.077972</td>\n      <td>0.042641</td>\n      <td>0.054458</td>\n      <td>0.005523</td>\n      <td>0.019887</td>\n      <td>0.283607</td>\n      <td>0.507318</td>\n      <td>0.449301</td>\n      <td>0.257584</td>\n      <td>0.331786</td>\n      <td>...</td>\n      <td>0.037488</td>\n      <td>0.003195</td>\n      <td>0.001000</td>\n      <td>0.022736</td>\n      <td>0.170568</td>\n      <td>0.390159</td>\n      <td>0.379975</td>\n      <td>0.215204</td>\n      <td>0.111094</td>\n      <td>0.591328</td>\n    </tr>\n    <tr>\n      <th>14</th>\n      <td>0.067016</td>\n      <td>0.222600</td>\n      <td>0.006614</td>\n      <td>0.202694</td>\n      <td>0.166777</td>\n      <td>0.332375</td>\n      <td>0.135299</td>\n      <td>0.098564</td>\n      <td>0.027653</td>\n      <td>0.187321</td>\n      <td>...</td>\n      <td>0.230691</td>\n      <td>0.074743</td>\n      <td>0.217304</td>\n      <td>0.182195</td>\n      <td>0.314457</td>\n      <td>0.055558</td>\n      <td>0.058298</td>\n      <td>0.102007</td>\n      <td>0.107342</td>\n      <td>0.101480</td>\n    </tr>\n    <tr>\n      <th>9</th>\n      <td>0.012838</td>\n      <td>0.311631</td>\n      <td>0.076437</td>\n      <td>0.261477</td>\n      <td>0.283110</td>\n      <td>0.584792</td>\n      <td>0.565369</td>\n      <td>0.336783</td>\n      <td>0.166917</td>\n      <td>0.479921</td>\n      <td>...</td>\n      <td>0.253691</td>\n      <td>0.051269</td>\n      <td>0.205151</td>\n      <td>0.231854</td>\n      <td>0.504942</td>\n      <td>0.458798</td>\n      <td>0.346234</td>\n      <td>0.175325</td>\n      <td>0.334019</td>\n      <td>0.767297</td>\n    </tr>\n    <tr>\n      <th>11</th>\n      <td>0.008303</td>\n      <td>0.097317</td>\n      <td>0.386358</td>\n      <td>0.086761</td>\n      <td>0.066280</td>\n      <td>0.068406</td>\n      <td>0.046205</td>\n      <td>0.076218</td>\n      <td>0.021480</td>\n      <td>0.128053</td>\n      <td>...</td>\n      <td>0.111690</td>\n      <td>0.409003</td>\n      <td>0.102242</td>\n      <td>0.083195</td>\n      <td>0.073658</td>\n      <td>0.092439</td>\n      <td>0.068956</td>\n      <td>0.119638</td>\n      <td>0.128215</td>\n      <td>0.045655</td>\n    </tr>\n    <tr>\n      <th>18</th>\n      <td>0.006522</td>\n      <td>0.104321</td>\n      <td>0.009127</td>\n      <td>0.081629</td>\n      <td>0.072497</td>\n      <td>0.200774</td>\n      <td>0.229977</td>\n      <td>0.178009</td>\n      <td>0.095351</td>\n      <td>0.449137</td>\n      <td>...</td>\n      <td>0.128121</td>\n      <td>0.077473</td>\n      <td>0.103753</td>\n      <td>0.110343</td>\n      <td>0.012662</td>\n      <td>0.060255</td>\n      <td>0.037119</td>\n      <td>0.030413</td>\n      <td>0.389402</td>\n      <td>0.078079</td>\n    </tr>\n  </tbody>\n</table>\n<p>31 rows × 31 columns</p>\n</div>"
     },
     "execution_count": 469,
     "metadata": {},
     "output_type": "execute_result"
    }
   ],
   "source": [
    "X_, y_ = load_breast_cancer(return_X_y=True)\n",
    "pd.concat([pd.Series(y_, name='target'), pd.DataFrame(X_)], axis=1).corr().abs().sort_values('target', ascending=False)"
   ],
   "metadata": {
    "collapsed": false,
    "pycharm": {
     "name": "#%%\n"
    }
   }
  },
  {
   "cell_type": "markdown",
   "source": [
    "Возьмем признаки с индексами 27 и 22"
   ],
   "metadata": {
    "collapsed": false
   }
  },
  {
   "cell_type": "code",
   "execution_count": 470,
   "outputs": [],
   "source": [
    "X_ = X_[:, [22, 27]]\n",
    "X_train_, X_test_, y_train_, y_test_ = train_test_split(X_, y_, test_size=0.2)"
   ],
   "metadata": {
    "collapsed": false,
    "pycharm": {
     "name": "#%%\n"
    }
   }
  },
  {
   "cell_type": "code",
   "execution_count": 471,
   "outputs": [
    {
     "name": "stdout",
     "output_type": "stream",
     "text": [
      "test accuracy: 0.7456140350877193\n",
      "train accuracy: 0.7604395604395604\n"
     ]
    }
   ],
   "source": [
    "clf = SVC(kernel='rbf', C=0.01)\n",
    "clf.fit(X_train_, y_train_)\n",
    "print(f'test accuracy: {clf.score(X_test_, y_test_)}')\n",
    "print(f'train accuracy: {clf.score(X_train_, y_train_)}')"
   ],
   "metadata": {
    "collapsed": false,
    "pycharm": {
     "name": "#%%\n"
    }
   }
  },
  {
   "cell_type": "markdown",
   "source": [
    "Точность увеличилась, но незначительно"
   ],
   "metadata": {
    "collapsed": false
   }
  },
  {
   "cell_type": "markdown",
   "source": [
    "### MLPClassifier"
   ],
   "metadata": {
    "collapsed": false
   }
  },
  {
   "cell_type": "code",
   "execution_count": 472,
   "outputs": [
    {
     "name": "stdout",
     "output_type": "stream",
     "text": [
      "test accuracy: 0.868421052631579\n",
      "train accuracy: 0.8879120879120879\n"
     ]
    }
   ],
   "source": [
    "mlp = MLPClassifier(solver='lbfgs', activation='logistic', alpha=10.0, max_iter=1000)\n",
    "mlp.fit(X_train, y_train)\n",
    "print(f'test accuracy: {mlp.score(X_test, y_test)}')\n",
    "print(f'train accuracy: {mlp.score(X_train, y_train)}')"
   ],
   "metadata": {
    "collapsed": false,
    "pycharm": {
     "name": "#%%\n"
    }
   }
  },
  {
   "cell_type": "markdown",
   "source": [
    "MLP дал значительный прирост точности"
   ],
   "metadata": {
    "collapsed": false
   }
  },
  {
   "cell_type": "markdown",
   "source": [
    "### Увеличение регуляризации"
   ],
   "metadata": {
    "collapsed": false
   }
  },
  {
   "cell_type": "code",
   "execution_count": 473,
   "outputs": [
    {
     "name": "stdout",
     "output_type": "stream",
     "text": [
      "test accuracy: 0.9385964912280702\n",
      "train accuracy: 0.9032967032967033\n"
     ]
    }
   ],
   "source": [
    "clf = SVC(kernel='rbf', C=1)\n",
    "clf.fit(X_train, y_train)\n",
    "print(f'test accuracy: {clf.score(X_test, y_test)}')\n",
    "print(f'train accuracy: {clf.score(X_train, y_train)}')"
   ],
   "metadata": {
    "collapsed": false,
    "pycharm": {
     "name": "#%%\n"
    }
   }
  },
  {
   "cell_type": "markdown",
   "source": [
    "Увеличение регуляризации также положительно влияет на точность модели"
   ],
   "metadata": {
    "collapsed": false
   }
  },
  {
   "cell_type": "markdown",
   "source": [
    "Повторите предыдущий пункт для различных значений C в диапазоне от 0,0001 до 1 000 000. Обратите внимание на шкалу по вертикальной оси. Для каких значений тестовая точность оптимальна? Какие значения дают недообучение? Какие - переобучение?\n",
    "\n",
    "Постройте график зависимости тестовой и обучающей точности от значения регуляризационного параметра. Сделайте вывод о зависимости степени регуляризации на точность модели.\n"
   ],
   "metadata": {
    "collapsed": false
   }
  },
  {
   "cell_type": "code",
   "execution_count": 474,
   "outputs": [],
   "source": [
    "def var_regularization(xi, kernel):\n",
    "    test_scores = []\n",
    "    train_scores = []\n",
    "\n",
    "    for i in tqdm(xi):\n",
    "        clf = SVC(C=i, kernel=kernel)\n",
    "\n",
    "        clf.fit(X_train, y_train)\n",
    "\n",
    "        test_scores.append(clf.score(X_test, y_test))\n",
    "        train_scores.append(clf.score(X_train, y_train))\n",
    "\n",
    "    ax = plt.axes()\n",
    "    ax.plot(xi, test_scores, label=\"test\")\n",
    "    ax.plot(xi, train_scores, label=\"train\")\n",
    "    ax.set_xlabel('С')\n",
    "    ax.set_ylabel('score')\n",
    "    ax.set_ylim([0.75, 1])\n",
    "    ax.legend()\n",
    "    return test_scores, train_scores"
   ],
   "metadata": {
    "collapsed": false,
    "pycharm": {
     "name": "#%%\n"
    }
   }
  },
  {
   "cell_type": "code",
   "execution_count": 475,
   "outputs": [
    {
     "data": {
      "text/plain": "  0%|          | 0/50 [00:00<?, ?it/s]",
      "application/vnd.jupyter.widget-view+json": {
       "version_major": 2,
       "version_minor": 0,
       "model_id": "e5b5e80494a34427bb7a5eb594e14479"
      }
     },
     "metadata": {},
     "output_type": "display_data"
    },
    {
     "data": {
      "text/plain": "0.9385964912280702"
     },
     "execution_count": 475,
     "metadata": {},
     "output_type": "execute_result"
    },
    {
     "data": {
      "text/plain": "<Figure size 864x360 with 1 Axes>",
      "image/png": "[encoded data removed]"
     },
     "metadata": {},
     "output_type": "display_data"
    }
   ],
   "source": [
    "test_scores, _ = var_regularization(np.linspace(1, 100_000, 50), 'rbf')\n",
    "max(test_scores)"
   ],
   "metadata": {
    "collapsed": false,
    "pycharm": {
     "name": "#%%\n"
    }
   }
  },
  {
   "cell_type": "code",
   "execution_count": 476,
   "outputs": [
    {
     "data": {
      "text/plain": "  0%|          | 0/500 [00:00<?, ?it/s]",
      "application/vnd.jupyter.widget-view+json": {
       "version_major": 2,
       "version_minor": 0,
       "model_id": "204a5fb3341f48968ab2917f0af0b62a"
      }
     },
     "metadata": {},
     "output_type": "display_data"
    },
    {
     "data": {
      "text/plain": "0.9385964912280702"
     },
     "execution_count": 476,
     "metadata": {},
     "output_type": "execute_result"
    },
    {
     "data": {
      "text/plain": "<Figure size 864x360 with 1 Axes>",
      "image/png": "[encoded data removed]"
     },
     "metadata": {},
     "output_type": "display_data"
    }
   ],
   "source": [
    "test_scores, _ = var_regularization(np.linspace(0.0001, 1, 500), 'rbf')\n",
    "max(test_scores)"
   ],
   "metadata": {
    "collapsed": false,
    "pycharm": {
     "name": "#%%\n"
    }
   }
  },
  {
   "cell_type": "markdown",
   "source": [
    "С большим значением $ C $ модель переобучается, а с малым - недообучается. С увеличением параметра регуляризации $ C $ точность модели на тренировочных данных увеличивается, а на тестовых - падает."
   ],
   "metadata": {
    "collapsed": false
   }
  },
  {
   "cell_type": "markdown",
   "source": [
    "Найдите методом подбора оптимальное значение параметра регуляризации (примерное)."
   ],
   "metadata": {
    "collapsed": false
   }
  },
  {
   "cell_type": "code",
   "execution_count": 477,
   "outputs": [
    {
     "data": {
      "text/plain": "  0%|          | 0/100 [00:00<?, ?it/s]",
      "application/vnd.jupyter.widget-view+json": {
       "version_major": 2,
       "version_minor": 0,
       "model_id": "ad8ddc5774954b508a76eb3f535cac95"
      }
     },
     "metadata": {},
     "output_type": "display_data"
    },
    {
     "data": {
      "text/plain": "0.9385964912280702"
     },
     "execution_count": 477,
     "metadata": {},
     "output_type": "execute_result"
    },
    {
     "data": {
      "text/plain": "<Figure size 864x360 with 1 Axes>",
      "image/png": "[encoded data removed]"
     },
     "metadata": {},
     "output_type": "display_data"
    }
   ],
   "source": [
    "# эмпирически сужаем самый левый промежуток с разумным максимумом\n",
    "test_scores, _ = var_regularization(np.linspace(0.35, 0.45, 100), 'rbf')\n",
    "max(test_scores)"
   ],
   "metadata": {
    "collapsed": false,
    "pycharm": {
     "name": "#%%\n"
    }
   }
  },
  {
   "cell_type": "code",
   "execution_count": 478,
   "outputs": [
    {
     "name": "stdout",
     "output_type": "stream",
     "text": [
      "test accuracy: 0.9298245614035088\n",
      "train accuracy: 0.9054945054945055\n"
     ]
    }
   ],
   "source": [
    "clf = SVC(kernel='rbf', C=0.4)\n",
    "clf.fit(X_train, y_train)\n",
    "print(f'test accuracy: {clf.score(X_test, y_test)}')\n",
    "print(f'train accuracy: {clf.score(X_train, y_train)}')"
   ],
   "metadata": {
    "collapsed": false,
    "pycharm": {
     "name": "#%%\n"
    }
   }
  },
  {
   "cell_type": "markdown",
   "source": [
    "При $ C = 0.4 $ получается достичь неплохой точности модели."
   ],
   "metadata": {
    "collapsed": false
   }
  },
  {
   "cell_type": "markdown",
   "source": [
    "Повторите два предыдущих пункта для метода опорных векторов с линейным ядром. Сравните получившиеся результаты. Сделайте вывод о сравнительной эффективности двух этих моделей.\n"
   ],
   "metadata": {
    "collapsed": false
   }
  },
  {
   "cell_type": "code",
   "execution_count": 479,
   "outputs": [
    {
     "data": {
      "text/plain": "  0%|          | 0/50 [00:00<?, ?it/s]",
      "application/vnd.jupyter.widget-view+json": {
       "version_major": 2,
       "version_minor": 0,
       "model_id": "df575540e258479b9c2ec261bbd57e60"
      }
     },
     "metadata": {},
     "output_type": "display_data"
    },
    {
     "data": {
      "text/plain": "0.9122807017543859"
     },
     "execution_count": 479,
     "metadata": {},
     "output_type": "execute_result"
    },
    {
     "data": {
      "text/plain": "<Figure size 864x360 with 1 Axes>",
      "image/png": "[encoded data removed]"
     },
     "metadata": {},
     "output_type": "display_data"
    }
   ],
   "source": [
    "test_scores, _ = var_regularization(np.linspace(1, 100_000, 50), 'linear')\n",
    "max(test_scores)"
   ],
   "metadata": {
    "collapsed": false,
    "pycharm": {
     "name": "#%%\n"
    }
   }
  },
  {
   "cell_type": "code",
   "execution_count": 480,
   "outputs": [
    {
     "data": {
      "text/plain": "  0%|          | 0/200 [00:00<?, ?it/s]",
      "application/vnd.jupyter.widget-view+json": {
       "version_major": 2,
       "version_minor": 0,
       "model_id": "892c911343974d388413dd1424335151"
      }
     },
     "metadata": {},
     "output_type": "display_data"
    },
    {
     "data": {
      "text/plain": "0.8947368421052632"
     },
     "execution_count": 480,
     "metadata": {},
     "output_type": "execute_result"
    },
    {
     "data": {
      "text/plain": "<Figure size 864x360 with 1 Axes>",
      "image/png": "[encoded data removed]"
     },
     "metadata": {},
     "output_type": "display_data"
    }
   ],
   "source": [
    "# эмпирически сужаем самый левый промежуток с разумным максимумом\n",
    "test_scores, _ = var_regularization(np.linspace(0.005, 1, 200), 'linear')\n",
    "max(test_scores)"
   ],
   "metadata": {
    "collapsed": false,
    "pycharm": {
     "name": "#%%\n"
    }
   }
  },
  {
   "cell_type": "code",
   "execution_count": 481,
   "outputs": [
    {
     "name": "stdout",
     "output_type": "stream",
     "text": [
      "test accuracy: 0.8947368421052632\n",
      "train accuracy: 0.8901098901098901\n"
     ]
    }
   ],
   "source": [
    "clf = SVC(kernel='linear', C=0.3)\n",
    "clf.fit(X_train, y_train)\n",
    "print(f'test accuracy: {clf.score(X_test, y_test)}')\n",
    "print(f'train accuracy: {clf.score(X_train, y_train)}')"
   ],
   "metadata": {
    "collapsed": false,
    "pycharm": {
     "name": "#%%\n"
    }
   }
  },
  {
   "cell_type": "code",
   "execution_count": 482,
   "outputs": [
    {
     "name": "stdout",
     "output_type": "stream",
     "text": [
      "35.8 ms ± 1.88 ms per loop (mean ± std. dev. of 7 runs, 10 loops each)\n"
     ]
    }
   ],
   "source": [
    "%%timeit\n",
    "\n",
    "clf = SVC(kernel='rbf', C=1_000)\n",
    "clf.fit(X_train, y_train)"
   ],
   "metadata": {
    "collapsed": false,
    "pycharm": {
     "name": "#%%\n"
    }
   }
  },
  {
   "cell_type": "code",
   "execution_count": 483,
   "outputs": [
    {
     "name": "stdout",
     "output_type": "stream",
     "text": [
      "586 ms ± 23.4 ms per loop (mean ± std. dev. of 7 runs, 1 loop each)\n"
     ]
    }
   ],
   "source": [
    "%%timeit\n",
    "\n",
    "clf = SVC(kernel='linear', C=1_000)\n",
    "clf.fit(X_train, y_train)"
   ],
   "metadata": {
    "collapsed": false,
    "pycharm": {
     "name": "#%%\n"
    }
   }
  },
  {
   "cell_type": "markdown",
   "source": [
    "## Вывод\n",
    "\n",
    "Модели примерно одинаковые. Зато при большом значении параметра регуляризации fit time модели с ядром `rbf` гораздо лучше."
   ],
   "metadata": {
    "collapsed": false,
    "pycharm": {
     "name": "#%% md\n"
    }
   }
  }
 ],
 "metadata": {
  "kernelspec": {
   "display_name": "Python 3",
   "language": "python",
   "name": "python3"
  },
  "language_info": {
   "codemirror_mode": {
    "name": "ipython",
    "version": 2
   },
   "file_extension": ".py",
   "mimetype": "text/x-python",
   "name": "python",
   "nbconvert_exporter": "python",
   "pygments_lexer": "ipython2",
   "version": "2.7.6"
  }
 },
 "nbformat": 4,
 "nbformat_minor": 0
}