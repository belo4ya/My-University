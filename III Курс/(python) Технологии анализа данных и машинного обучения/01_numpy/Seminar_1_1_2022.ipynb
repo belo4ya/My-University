{
 "cells": [
  {
   "cell_type": "markdown",
   "metadata": {
    "id": "921CS61QAwzG"
   },
   "source": [
    "# Прикладные задачи машинного обучения\n",
    "\n",
    "# Лабораторная работа 1_1\n",
    "Для удобства работы воспользуйтесь ментальными картами с содержанием по библиотекам в Phyton (https://www.mindmeister.com/ru/1093016129?t=B02pdssfnp)\n",
    "1.\tСоздайте файл формата csv/xls в котором будут отражены следующие сведения: данные по 12 магазинам. Данные должны содержать следующие сведения: название магазина (Name_shop), дата открытия (Data_Start), город (City), формат (Format), средний чек (SKU_count).\n",
    "2.\tИнтерпретируйте данные в ноутбуке через переменную Df\n",
    "\n",
    "## Df  = pn.read_csv/excel(‘имя файла.расширение’)\n",
    "\n",
    "3.\tВычислите следующие значения: \n",
    "Df.columns, Df.info(), Df.shape, Df.dtypes, Df.discribe()\n",
    "\n",
    "Что определяет каждое из действий?\n",
    "4.\tДобавьте несколько строк в вашу таблицу.\n",
    "5.\tДобавьте еще один столбец (конкуренты) в вашу таблицу\n",
    "6.\tПересохраните созданную таблицу в новый файл и запустите его\n",
    "7.\tПосмотрите типы данных всех столбцов\n",
    "8.\tСтолбец, где отражается дата открытия магазина сделайте формата datetime\n",
    "9.\tПроверьте правильность переформатирования\n",
    "10.\tПустые значения столбца Формат поменяйте на Супермаркет\n",
    "11.\tВыведите значения только столбца Формат\n",
    "12.\tВыведите значения двух столбцов: название магазина и формат\n",
    "13.\tВыведите только первые строки вашей таблицы \n",
    "14.\tВыведите последние строки вашей таблицы (tail)\n",
    "15.\tВыведите первые два значения таблицы\n",
    "16.\tВыведите последние три значения таблицы\n",
    "17.\tВыведите значение столбцов Название и Город 1,3 и 8 строк таблицы\n",
    "18.\tВыведите значение столбцов Название и Город 1,3 и 8 строк таблицы, используя только индексы\n",
    "19.\tВыведите только те строки таблицы, даты создания магазина которых последние «пять» лет \n",
    "20.\tВыведите только те строки значения таблицы, даты создания магазина которых последние «пять лет» и они находятся не в Москве\n",
    "21.\tВыведите только те строки значения таблицы даты создания магазина которых последние «пять лет» или средний чек превышает 1000р\n",
    "22.\tПостройте диаграммы, позволяющие просматривать средний чек магазина\n"
   ]
  },
  {
   "cell_type": "code",
   "execution_count": 67,
   "metadata": {
    "id": "PpbHP4OrAwzN"
   },
   "outputs": [],
   "source": [
    "import numpy as np\n",
    "import pandas as pd\n",
    "import datetime as dt"
   ]
  },
  {
   "cell_type": "code",
   "execution_count": 35,
   "metadata": {},
   "outputs": [
    {
     "data": {
      "text/plain": "   Order        PID  MS SubClass MS Zoning  Lot Frontage  Lot Area Street  \\\n0      1  526301100           20        RL         141.0     31770   Pave   \n1      2  526350040           20        RH          80.0     11622   Pave   \n2      3  526351010           20        RL          81.0     14267   Pave   \n3      4  526353030           20        RL          93.0     11160   Pave   \n4      5  527105010           60        RL          74.0     13830   Pave   \n\n  Alley Lot Shape Land Contour  ... Pool Area Pool QC  Fence Misc Feature  \\\n0   NaN       IR1          Lvl  ...         0     NaN    NaN          NaN   \n1   NaN       Reg          Lvl  ...         0     NaN  MnPrv          NaN   \n2   NaN       IR1          Lvl  ...         0     NaN    NaN         Gar2   \n3   NaN       Reg          Lvl  ...         0     NaN    NaN          NaN   \n4   NaN       IR1          Lvl  ...         0     NaN  MnPrv          NaN   \n\n  Misc Val Mo Sold Yr Sold Sale Type  Sale Condition  SalePrice  \n0        0       5    2010       WD           Normal     215000  \n1        0       6    2010       WD           Normal     105000  \n2    12500       6    2010       WD           Normal     172000  \n3        0       4    2010       WD           Normal     244000  \n4        0       3    2010       WD           Normal     189900  \n\n[5 rows x 82 columns]",
      "text/html": "<div>\n<style scoped>\n    .dataframe tbody tr th:only-of-type {\n        vertical-align: middle;\n    }\n\n    .dataframe tbody tr th {\n        vertical-align: top;\n    }\n\n    .dataframe thead th {\n        text-align: right;\n    }\n</style>\n<table border=\"1\" class=\"dataframe\">\n  <thead>\n    <tr style=\"text-align: right;\">\n      <th></th>\n      <th>Order</th>\n      <th>PID</th>\n      <th>MS SubClass</th>\n      <th>MS Zoning</th>\n      <th>Lot Frontage</th>\n      <th>Lot Area</th>\n      <th>Street</th>\n      <th>Alley</th>\n      <th>Lot Shape</th>\n      <th>Land Contour</th>\n      <th>...</th>\n      <th>Pool Area</th>\n      <th>Pool QC</th>\n      <th>Fence</th>\n      <th>Misc Feature</th>\n      <th>Misc Val</th>\n      <th>Mo Sold</th>\n      <th>Yr Sold</th>\n      <th>Sale Type</th>\n      <th>Sale Condition</th>\n      <th>SalePrice</th>\n    </tr>\n  </thead>\n  <tbody>\n    <tr>\n      <th>0</th>\n      <td>1</td>\n      <td>526301100</td>\n      <td>20</td>\n      <td>RL</td>\n      <td>141.0</td>\n      <td>31770</td>\n      <td>Pave</td>\n      <td>NaN</td>\n      <td>IR1</td>\n      <td>Lvl</td>\n      <td>...</td>\n      <td>0</td>\n      <td>NaN</td>\n      <td>NaN</td>\n      <td>NaN</td>\n      <td>0</td>\n      <td>5</td>\n      <td>2010</td>\n      <td>WD</td>\n      <td>Normal</td>\n      <td>215000</td>\n    </tr>\n    <tr>\n      <th>1</th>\n      <td>2</td>\n      <td>526350040</td>\n      <td>20</td>\n      <td>RH</td>\n      <td>80.0</td>\n      <td>11622</td>\n      <td>Pave</td>\n      <td>NaN</td>\n      <td>Reg</td>\n      <td>Lvl</td>\n      <td>...</td>\n      <td>0</td>\n      <td>NaN</td>\n      <td>MnPrv</td>\n      <td>NaN</td>\n      <td>0</td>\n      <td>6</td>\n      <td>2010</td>\n      <td>WD</td>\n      <td>Normal</td>\n      <td>105000</td>\n    </tr>\n    <tr>\n      <th>2</th>\n      <td>3</td>\n      <td>526351010</td>\n      <td>20</td>\n      <td>RL</td>\n      <td>81.0</td>\n      <td>14267</td>\n      <td>Pave</td>\n      <td>NaN</td>\n      <td>IR1</td>\n      <td>Lvl</td>\n      <td>...</td>\n      <td>0</td>\n      <td>NaN</td>\n      <td>NaN</td>\n      <td>Gar2</td>\n      <td>12500</td>\n      <td>6</td>\n      <td>2010</td>\n      <td>WD</td>\n      <td>Normal</td>\n      <td>172000</td>\n    </tr>\n    <tr>\n      <th>3</th>\n      <td>4</td>\n      <td>526353030</td>\n      <td>20</td>\n      <td>RL</td>\n      <td>93.0</td>\n      <td>11160</td>\n      <td>Pave</td>\n      <td>NaN</td>\n      <td>Reg</td>\n      <td>Lvl</td>\n      <td>...</td>\n      <td>0</td>\n      <td>NaN</td>\n      <td>NaN</td>\n      <td>NaN</td>\n      <td>0</td>\n      <td>4</td>\n      <td>2010</td>\n      <td>WD</td>\n      <td>Normal</td>\n      <td>244000</td>\n    </tr>\n    <tr>\n      <th>4</th>\n      <td>5</td>\n      <td>527105010</td>\n      <td>60</td>\n      <td>RL</td>\n      <td>74.0</td>\n      <td>13830</td>\n      <td>Pave</td>\n      <td>NaN</td>\n      <td>IR1</td>\n      <td>Lvl</td>\n      <td>...</td>\n      <td>0</td>\n      <td>NaN</td>\n      <td>MnPrv</td>\n      <td>NaN</td>\n      <td>0</td>\n      <td>3</td>\n      <td>2010</td>\n      <td>WD</td>\n      <td>Normal</td>\n      <td>189900</td>\n    </tr>\n  </tbody>\n</table>\n<p>5 rows × 82 columns</p>\n</div>"
     },
     "execution_count": 35,
     "metadata": {},
     "output_type": "execute_result"
    }
   ],
   "source": [
    "df = pd.read_csv('data/AmesHousing.txt', sep='\\t', header=0, index_col=False)\n",
    "df.head()"
   ]
  },
  {
   "cell_type": "code",
   "execution_count": 36,
   "metadata": {},
   "outputs": [
    {
     "data": {
      "text/plain": "Index(['Order', 'PID', 'MS SubClass', 'MS Zoning', 'Lot Frontage', 'Lot Area',\n       'Street', 'Alley', 'Lot Shape', 'Land Contour', 'Utilities',\n       'Lot Config', 'Land Slope', 'Neighborhood', 'Condition 1',\n       'Condition 2', 'Bldg Type', 'House Style', 'Overall Qual',\n       'Overall Cond', 'Year Built', 'Year Remod/Add', 'Roof Style',\n       'Roof Matl', 'Exterior 1st', 'Exterior 2nd', 'Mas Vnr Type',\n       'Mas Vnr Area', 'Exter Qual', 'Exter Cond', 'Foundation', 'Bsmt Qual',\n       'Bsmt Cond', 'Bsmt Exposure', 'BsmtFin Type 1', 'BsmtFin SF 1',\n       'BsmtFin Type 2', 'BsmtFin SF 2', 'Bsmt Unf SF', 'Total Bsmt SF',\n       'Heating', 'Heating QC', 'Central Air', 'Electrical', '1st Flr SF',\n       '2nd Flr SF', 'Low Qual Fin SF', 'Gr Liv Area', 'Bsmt Full Bath',\n       'Bsmt Half Bath', 'Full Bath', 'Half Bath', 'Bedroom AbvGr',\n       'Kitchen AbvGr', 'Kitchen Qual', 'TotRms AbvGrd', 'Functional',\n       'Fireplaces', 'Fireplace Qu', 'Garage Type', 'Garage Yr Blt',\n       'Garage Finish', 'Garage Cars', 'Garage Area', 'Garage Qual',\n       'Garage Cond', 'Paved Drive', 'Wood Deck SF', 'Open Porch SF',\n       'Enclosed Porch', '3Ssn Porch', 'Screen Porch', 'Pool Area', 'Pool QC',\n       'Fence', 'Misc Feature', 'Misc Val', 'Mo Sold', 'Yr Sold', 'Sale Type',\n       'Sale Condition', 'SalePrice'],\n      dtype='object')"
     },
     "execution_count": 36,
     "metadata": {},
     "output_type": "execute_result"
    }
   ],
   "source": [
    "df.columns"
   ]
  },
  {
   "cell_type": "code",
   "execution_count": 37,
   "metadata": {
    "id": "sN7njAh_AwzO"
   },
   "outputs": [],
   "source": [
    "df = pd.DataFrame(columns=['Name_shop', 'Data_Start', 'City', 'Format', 'SKU_count'])"
   ]
  },
  {
   "cell_type": "code",
   "execution_count": 38,
   "metadata": {
    "id": "IM3muIOQAwzR"
   },
   "outputs": [
    {
     "data": {
      "text/plain": "       Name_shop  Data_Start             City       Format  SKU_count\n0      Пятерочка  2019-01-03           Москва  Продуктовый        500\n1          Дикси  2018-05-03           Москва  Продуктовый        300\n2    Перекресток  2017-05-03           Москва  Продуктовый        700\n3   Азбука Вкуса  2019-06-03           Москва  Продуктовый       1500\n4       Вкусвилл  2019-05-15           Москва  Продуктовый        250\n5         Магнит  2010-05-03  Санкт-Петербург  Продуктовый        400\n6        Летуаль  2011-08-03  Санкт-Петербург      Летуаль       1000\n7           Zara  2019-01-03           Москва       Одежда       5000\n8           Ашан  2019-02-03  Санкт-Петербург  Продуктовый        785\n9         Аптека  2013-05-03          Коломна     Здоровье        250\n10  Ремонт обуви  2018-09-03          Коломна          NaN        800\n11       24 Часа  2014-05-03          Коломна       Разное         85",
      "text/html": "<div>\n<style scoped>\n    .dataframe tbody tr th:only-of-type {\n        vertical-align: middle;\n    }\n\n    .dataframe tbody tr th {\n        vertical-align: top;\n    }\n\n    .dataframe thead th {\n        text-align: right;\n    }\n</style>\n<table border=\"1\" class=\"dataframe\">\n  <thead>\n    <tr style=\"text-align: right;\">\n      <th></th>\n      <th>Name_shop</th>\n      <th>Data_Start</th>\n      <th>City</th>\n      <th>Format</th>\n      <th>SKU_count</th>\n    </tr>\n  </thead>\n  <tbody>\n    <tr>\n      <th>0</th>\n      <td>Пятерочка</td>\n      <td>2019-01-03</td>\n      <td>Москва</td>\n      <td>Продуктовый</td>\n      <td>500</td>\n    </tr>\n    <tr>\n      <th>1</th>\n      <td>Дикси</td>\n      <td>2018-05-03</td>\n      <td>Москва</td>\n      <td>Продуктовый</td>\n      <td>300</td>\n    </tr>\n    <tr>\n      <th>2</th>\n      <td>Перекресток</td>\n      <td>2017-05-03</td>\n      <td>Москва</td>\n      <td>Продуктовый</td>\n      <td>700</td>\n    </tr>\n    <tr>\n      <th>3</th>\n      <td>Азбука Вкуса</td>\n      <td>2019-06-03</td>\n      <td>Москва</td>\n      <td>Продуктовый</td>\n      <td>1500</td>\n    </tr>\n    <tr>\n      <th>4</th>\n      <td>Вкусвилл</td>\n      <td>2019-05-15</td>\n      <td>Москва</td>\n      <td>Продуктовый</td>\n      <td>250</td>\n    </tr>\n    <tr>\n      <th>5</th>\n      <td>Магнит</td>\n      <td>2010-05-03</td>\n      <td>Санкт-Петербург</td>\n      <td>Продуктовый</td>\n      <td>400</td>\n    </tr>\n    <tr>\n      <th>6</th>\n      <td>Летуаль</td>\n      <td>2011-08-03</td>\n      <td>Санкт-Петербург</td>\n      <td>Летуаль</td>\n      <td>1000</td>\n    </tr>\n    <tr>\n      <th>7</th>\n      <td>Zara</td>\n      <td>2019-01-03</td>\n      <td>Москва</td>\n      <td>Одежда</td>\n      <td>5000</td>\n    </tr>\n    <tr>\n      <th>8</th>\n      <td>Ашан</td>\n      <td>2019-02-03</td>\n      <td>Санкт-Петербург</td>\n      <td>Продуктовый</td>\n      <td>785</td>\n    </tr>\n    <tr>\n      <th>9</th>\n      <td>Аптека</td>\n      <td>2013-05-03</td>\n      <td>Коломна</td>\n      <td>Здоровье</td>\n      <td>250</td>\n    </tr>\n    <tr>\n      <th>10</th>\n      <td>Ремонт обуви</td>\n      <td>2018-09-03</td>\n      <td>Коломна</td>\n      <td>NaN</td>\n      <td>800</td>\n    </tr>\n    <tr>\n      <th>11</th>\n      <td>24 Часа</td>\n      <td>2014-05-03</td>\n      <td>Коломна</td>\n      <td>Разное</td>\n      <td>85</td>\n    </tr>\n  </tbody>\n</table>\n</div>"
     },
     "execution_count": 38,
     "metadata": {},
     "output_type": "execute_result"
    }
   ],
   "source": [
    "df['Name_shop'] = ['Пятерочка', 'Дикси', 'Перекресток',\n",
    "                   'Азбука Вкуса', 'Вкусвилл', 'Магнит', 'Летуаль',\n",
    "                   'Zara', 'Ашан', 'Аптека', 'Ремонт обуви', '24 Часа']\n",
    "df['Data_Start'] = ['2019-01-03', '2018-05-03', '2017-05-03',\n",
    "                    '2019-06-03', '2019-05-15', '2010-05-03', '2011-08-03',\n",
    "                    '2019-01-03', '2019-02-03', '2013-05-03', '2018-09-03', '2014-05-03']\n",
    "df['City'] = ['Москва', 'Москва', 'Москва',\n",
    "              'Москва', 'Москва', 'Санкт-Петербург', 'Санкт-Петербург',\n",
    "              'Москва', 'Санкт-Петербург', 'Коломна', 'Коломна', 'Коломна']\n",
    "df['Format'] = ['Продуктовый', 'Продуктовый', 'Продуктовый',\n",
    "                'Продуктовый', 'Продуктовый', 'Продуктовый', 'Летуаль',\n",
    "                'Одежда', 'Продуктовый', 'Здоровье', np.nan, 'Разное']\n",
    "df['SKU_count'] = [500, 300, 700,\n",
    "                   1500, 250, 400, 1000,\n",
    "                   5000, 785, 250, 800, 85]\n",
    "df"
   ]
  },
  {
   "cell_type": "markdown",
   "metadata": {},
   "source": [
    "### 3. Вычислите следующие значения: Dt.columns, Dt.info(), dt.shape, dt.dtypes, dt.discribe()"
   ]
  },
  {
   "cell_type": "code",
   "execution_count": 39,
   "metadata": {
    "id": "eKQMt-lYAwzS",
    "outputId": "1d36de27-a4bd-46bb-ef46-5d8610b5666e"
   },
   "outputs": [
    {
     "data": {
      "text/plain": "Index(['Name_shop', 'Data_Start', 'City', 'Format', 'SKU_count'], dtype='object')"
     },
     "execution_count": 39,
     "metadata": {},
     "output_type": "execute_result"
    }
   ],
   "source": [
    "df.columns"
   ]
  },
  {
   "cell_type": "code",
   "execution_count": 40,
   "metadata": {
    "id": "n2ngj5-QAwze",
    "outputId": "00395130-955d-46e5-ea10-2b2582601131"
   },
   "outputs": [
    {
     "name": "stdout",
     "output_type": "stream",
     "text": [
      "<class 'pandas.core.frame.DataFrame'>\n",
      "RangeIndex: 12 entries, 0 to 11\n",
      "Data columns (total 5 columns):\n",
      " #   Column      Non-Null Count  Dtype \n",
      "---  ------      --------------  ----- \n",
      " 0   Name_shop   12 non-null     object\n",
      " 1   Data_Start  12 non-null     object\n",
      " 2   City        12 non-null     object\n",
      " 3   Format      11 non-null     object\n",
      " 4   SKU_count   12 non-null     int64 \n",
      "dtypes: int64(1), object(4)\n",
      "memory usage: 608.0+ bytes\n"
     ]
    }
   ],
   "source": [
    "df.info()"
   ]
  },
  {
   "cell_type": "code",
   "execution_count": 41,
   "metadata": {
    "id": "5WEaTUUxAwzf",
    "outputId": "c8d678b9-16a8-42b8-a506-031fcdcea191"
   },
   "outputs": [
    {
     "data": {
      "text/plain": "(12, 5)"
     },
     "execution_count": 41,
     "metadata": {},
     "output_type": "execute_result"
    }
   ],
   "source": [
    "df.shape"
   ]
  },
  {
   "cell_type": "code",
   "execution_count": 42,
   "metadata": {
    "id": "S9PO4m72Awzg",
    "outputId": "6576e6e9-a7f2-4043-f3c4-e04a16391226"
   },
   "outputs": [
    {
     "data": {
      "text/plain": "Name_shop     object\nData_Start    object\nCity          object\nFormat        object\nSKU_count      int64\ndtype: object"
     },
     "execution_count": 42,
     "metadata": {},
     "output_type": "execute_result"
    }
   ],
   "source": [
    "df.dtypes"
   ]
  },
  {
   "cell_type": "code",
   "execution_count": 43,
   "metadata": {
    "id": "dMcpzgtSAwzg",
    "outputId": "6556535b-31d3-4f05-f400-82430bae0fdf"
   },
   "outputs": [
    {
     "data": {
      "text/plain": "         SKU_count\ncount    12.000000\nmean    964.166667\nstd    1330.517386\nmin      85.000000\n25%     287.500000\n50%     600.000000\n75%     850.000000\nmax    5000.000000",
      "text/html": "<div>\n<style scoped>\n    .dataframe tbody tr th:only-of-type {\n        vertical-align: middle;\n    }\n\n    .dataframe tbody tr th {\n        vertical-align: top;\n    }\n\n    .dataframe thead th {\n        text-align: right;\n    }\n</style>\n<table border=\"1\" class=\"dataframe\">\n  <thead>\n    <tr style=\"text-align: right;\">\n      <th></th>\n      <th>SKU_count</th>\n    </tr>\n  </thead>\n  <tbody>\n    <tr>\n      <th>count</th>\n      <td>12.000000</td>\n    </tr>\n    <tr>\n      <th>mean</th>\n      <td>964.166667</td>\n    </tr>\n    <tr>\n      <th>std</th>\n      <td>1330.517386</td>\n    </tr>\n    <tr>\n      <th>min</th>\n      <td>85.000000</td>\n    </tr>\n    <tr>\n      <th>25%</th>\n      <td>287.500000</td>\n    </tr>\n    <tr>\n      <th>50%</th>\n      <td>600.000000</td>\n    </tr>\n    <tr>\n      <th>75%</th>\n      <td>850.000000</td>\n    </tr>\n    <tr>\n      <th>max</th>\n      <td>5000.000000</td>\n    </tr>\n  </tbody>\n</table>\n</div>"
     },
     "execution_count": 43,
     "metadata": {},
     "output_type": "execute_result"
    }
   ],
   "source": [
    "df.describe()"
   ]
  },
  {
   "cell_type": "markdown",
   "metadata": {},
   "source": [
    "### 4.\tДобавьте несколько строк в вашу таблицу"
   ]
  },
  {
   "cell_type": "code",
   "execution_count": 44,
   "metadata": {
    "id": "0eD8ZncCAwzi",
    "scrolled": false
   },
   "outputs": [
    {
     "data": {
      "text/plain": "       Name_shop  Data_Start             City       Format  SKU_count\n0      Пятерочка  2019-01-03           Москва  Продуктовый        500\n1          Дикси  2018-05-03           Москва  Продуктовый        300\n2    Перекресток  2017-05-03           Москва  Продуктовый        700\n3   Азбука Вкуса  2019-06-03           Москва  Продуктовый       1500\n4       Вкусвилл  2019-05-15           Москва  Продуктовый        250\n5         Магнит  2010-05-03  Санкт-Петербург  Продуктовый        400\n6        Летуаль  2011-08-03  Санкт-Петербург      Летуаль       1000\n7           Zara  2019-01-03           Москва       Одежда       5000\n8           Ашан  2019-02-03  Санкт-Петербург  Продуктовый        785\n9         Аптека  2013-05-03          Коломна     Здоровье        250\n10  Ремонт обуви  2018-09-03          Коломна          NaN        800\n11       24 Часа  2014-05-03          Коломна       Разное         85\n12       Пончики  2019-02-04           Шатура  Продуктовый        100\n13  Хлеб да соль  2015-01-02           Москва  Продуктовый        237",
      "text/html": "<div>\n<style scoped>\n    .dataframe tbody tr th:only-of-type {\n        vertical-align: middle;\n    }\n\n    .dataframe tbody tr th {\n        vertical-align: top;\n    }\n\n    .dataframe thead th {\n        text-align: right;\n    }\n</style>\n<table border=\"1\" class=\"dataframe\">\n  <thead>\n    <tr style=\"text-align: right;\">\n      <th></th>\n      <th>Name_shop</th>\n      <th>Data_Start</th>\n      <th>City</th>\n      <th>Format</th>\n      <th>SKU_count</th>\n    </tr>\n  </thead>\n  <tbody>\n    <tr>\n      <th>0</th>\n      <td>Пятерочка</td>\n      <td>2019-01-03</td>\n      <td>Москва</td>\n      <td>Продуктовый</td>\n      <td>500</td>\n    </tr>\n    <tr>\n      <th>1</th>\n      <td>Дикси</td>\n      <td>2018-05-03</td>\n      <td>Москва</td>\n      <td>Продуктовый</td>\n      <td>300</td>\n    </tr>\n    <tr>\n      <th>2</th>\n      <td>Перекресток</td>\n      <td>2017-05-03</td>\n      <td>Москва</td>\n      <td>Продуктовый</td>\n      <td>700</td>\n    </tr>\n    <tr>\n      <th>3</th>\n      <td>Азбука Вкуса</td>\n      <td>2019-06-03</td>\n      <td>Москва</td>\n      <td>Продуктовый</td>\n      <td>1500</td>\n    </tr>\n    <tr>\n      <th>4</th>\n      <td>Вкусвилл</td>\n      <td>2019-05-15</td>\n      <td>Москва</td>\n      <td>Продуктовый</td>\n      <td>250</td>\n    </tr>\n    <tr>\n      <th>5</th>\n      <td>Магнит</td>\n      <td>2010-05-03</td>\n      <td>Санкт-Петербург</td>\n      <td>Продуктовый</td>\n      <td>400</td>\n    </tr>\n    <tr>\n      <th>6</th>\n      <td>Летуаль</td>\n      <td>2011-08-03</td>\n      <td>Санкт-Петербург</td>\n      <td>Летуаль</td>\n      <td>1000</td>\n    </tr>\n    <tr>\n      <th>7</th>\n      <td>Zara</td>\n      <td>2019-01-03</td>\n      <td>Москва</td>\n      <td>Одежда</td>\n      <td>5000</td>\n    </tr>\n    <tr>\n      <th>8</th>\n      <td>Ашан</td>\n      <td>2019-02-03</td>\n      <td>Санкт-Петербург</td>\n      <td>Продуктовый</td>\n      <td>785</td>\n    </tr>\n    <tr>\n      <th>9</th>\n      <td>Аптека</td>\n      <td>2013-05-03</td>\n      <td>Коломна</td>\n      <td>Здоровье</td>\n      <td>250</td>\n    </tr>\n    <tr>\n      <th>10</th>\n      <td>Ремонт обуви</td>\n      <td>2018-09-03</td>\n      <td>Коломна</td>\n      <td>NaN</td>\n      <td>800</td>\n    </tr>\n    <tr>\n      <th>11</th>\n      <td>24 Часа</td>\n      <td>2014-05-03</td>\n      <td>Коломна</td>\n      <td>Разное</td>\n      <td>85</td>\n    </tr>\n    <tr>\n      <th>12</th>\n      <td>Пончики</td>\n      <td>2019-02-04</td>\n      <td>Шатура</td>\n      <td>Продуктовый</td>\n      <td>100</td>\n    </tr>\n    <tr>\n      <th>13</th>\n      <td>Хлеб да соль</td>\n      <td>2015-01-02</td>\n      <td>Москва</td>\n      <td>Продуктовый</td>\n      <td>237</td>\n    </tr>\n  </tbody>\n</table>\n</div>"
     },
     "execution_count": 44,
     "metadata": {},
     "output_type": "execute_result"
    }
   ],
   "source": [
    "new_row1 = {'Name_shop': 'Пончики', 'Data_Start': '2019-02-04', 'City': 'Шатура', 'Format': 'Продуктовый',\n",
    "            'SKU_count': 100}\n",
    "new_row2 = {'Name_shop': 'Хлеб да соль', 'Data_Start': '2015-01-02', 'City': 'Москва', 'Format': 'Продуктовый',\n",
    "            'SKU_count': 237}\n",
    "df = pd.concat([df, pd.DataFrame([new_row1, new_row2])], ignore_index=True)\n",
    "df"
   ]
  },
  {
   "cell_type": "markdown",
   "metadata": {},
   "source": [
    "### 5. Добавьте еще один столбец (конкуренты) в вашу таблицу"
   ]
  },
  {
   "cell_type": "code",
   "execution_count": 45,
   "metadata": {
    "id": "Cw3KszIHAwzm",
    "outputId": "d7314378-dde5-4f3e-ab6a-2850addd62b3"
   },
   "outputs": [
    {
     "data": {
      "text/plain": "       Name_shop  Data_Start             City       Format  SKU_count  \\\n0      Пятерочка  2019-01-03           Москва  Продуктовый        500   \n1          Дикси  2018-05-03           Москва  Продуктовый        300   \n2    Перекресток  2017-05-03           Москва  Продуктовый        700   \n3   Азбука Вкуса  2019-06-03           Москва  Продуктовый       1500   \n4       Вкусвилл  2019-05-15           Москва  Продуктовый        250   \n5         Магнит  2010-05-03  Санкт-Петербург  Продуктовый        400   \n6        Летуаль  2011-08-03  Санкт-Петербург      Летуаль       1000   \n7           Zara  2019-01-03           Москва       Одежда       5000   \n8           Ашан  2019-02-03  Санкт-Петербург  Продуктовый        785   \n9         Аптека  2013-05-03          Коломна     Здоровье        250   \n10  Ремонт обуви  2018-09-03          Коломна          NaN        800   \n11       24 Часа  2014-05-03          Коломна       Разное         85   \n12       Пончики  2019-02-04           Шатура  Продуктовый        100   \n13  Хлеб да соль  2015-01-02           Москва  Продуктовый        237   \n\n   is_opponent  \n0          yes  \n1          yes  \n2          yes  \n3           no  \n4          yes  \n5          yes  \n6           no  \n7          yes  \n8          yes  \n9           no  \n10         yes  \n11          no  \n12         yes  \n13          no  ",
      "text/html": "<div>\n<style scoped>\n    .dataframe tbody tr th:only-of-type {\n        vertical-align: middle;\n    }\n\n    .dataframe tbody tr th {\n        vertical-align: top;\n    }\n\n    .dataframe thead th {\n        text-align: right;\n    }\n</style>\n<table border=\"1\" class=\"dataframe\">\n  <thead>\n    <tr style=\"text-align: right;\">\n      <th></th>\n      <th>Name_shop</th>\n      <th>Data_Start</th>\n      <th>City</th>\n      <th>Format</th>\n      <th>SKU_count</th>\n      <th>is_opponent</th>\n    </tr>\n  </thead>\n  <tbody>\n    <tr>\n      <th>0</th>\n      <td>Пятерочка</td>\n      <td>2019-01-03</td>\n      <td>Москва</td>\n      <td>Продуктовый</td>\n      <td>500</td>\n      <td>yes</td>\n    </tr>\n    <tr>\n      <th>1</th>\n      <td>Дикси</td>\n      <td>2018-05-03</td>\n      <td>Москва</td>\n      <td>Продуктовый</td>\n      <td>300</td>\n      <td>yes</td>\n    </tr>\n    <tr>\n      <th>2</th>\n      <td>Перекресток</td>\n      <td>2017-05-03</td>\n      <td>Москва</td>\n      <td>Продуктовый</td>\n      <td>700</td>\n      <td>yes</td>\n    </tr>\n    <tr>\n      <th>3</th>\n      <td>Азбука Вкуса</td>\n      <td>2019-06-03</td>\n      <td>Москва</td>\n      <td>Продуктовый</td>\n      <td>1500</td>\n      <td>no</td>\n    </tr>\n    <tr>\n      <th>4</th>\n      <td>Вкусвилл</td>\n      <td>2019-05-15</td>\n      <td>Москва</td>\n      <td>Продуктовый</td>\n      <td>250</td>\n      <td>yes</td>\n    </tr>\n    <tr>\n      <th>5</th>\n      <td>Магнит</td>\n      <td>2010-05-03</td>\n      <td>Санкт-Петербург</td>\n      <td>Продуктовый</td>\n      <td>400</td>\n      <td>yes</td>\n    </tr>\n    <tr>\n      <th>6</th>\n      <td>Летуаль</td>\n      <td>2011-08-03</td>\n      <td>Санкт-Петербург</td>\n      <td>Летуаль</td>\n      <td>1000</td>\n      <td>no</td>\n    </tr>\n    <tr>\n      <th>7</th>\n      <td>Zara</td>\n      <td>2019-01-03</td>\n      <td>Москва</td>\n      <td>Одежда</td>\n      <td>5000</td>\n      <td>yes</td>\n    </tr>\n    <tr>\n      <th>8</th>\n      <td>Ашан</td>\n      <td>2019-02-03</td>\n      <td>Санкт-Петербург</td>\n      <td>Продуктовый</td>\n      <td>785</td>\n      <td>yes</td>\n    </tr>\n    <tr>\n      <th>9</th>\n      <td>Аптека</td>\n      <td>2013-05-03</td>\n      <td>Коломна</td>\n      <td>Здоровье</td>\n      <td>250</td>\n      <td>no</td>\n    </tr>\n    <tr>\n      <th>10</th>\n      <td>Ремонт обуви</td>\n      <td>2018-09-03</td>\n      <td>Коломна</td>\n      <td>NaN</td>\n      <td>800</td>\n      <td>yes</td>\n    </tr>\n    <tr>\n      <th>11</th>\n      <td>24 Часа</td>\n      <td>2014-05-03</td>\n      <td>Коломна</td>\n      <td>Разное</td>\n      <td>85</td>\n      <td>no</td>\n    </tr>\n    <tr>\n      <th>12</th>\n      <td>Пончики</td>\n      <td>2019-02-04</td>\n      <td>Шатура</td>\n      <td>Продуктовый</td>\n      <td>100</td>\n      <td>yes</td>\n    </tr>\n    <tr>\n      <th>13</th>\n      <td>Хлеб да соль</td>\n      <td>2015-01-02</td>\n      <td>Москва</td>\n      <td>Продуктовый</td>\n      <td>237</td>\n      <td>no</td>\n    </tr>\n  </tbody>\n</table>\n</div>"
     },
     "execution_count": 45,
     "metadata": {},
     "output_type": "execute_result"
    }
   ],
   "source": [
    "df['is_opponent'] = np.random.choice(['yes', 'no'], len(df))\n",
    "df"
   ]
  },
  {
   "cell_type": "markdown",
   "metadata": {},
   "source": [
    "### 6. Пересохраните созданную таблицу в новый файл и запустите его"
   ]
  },
  {
   "cell_type": "code",
   "execution_count": 46,
   "metadata": {
    "id": "_eD4Uia4Awzn",
    "outputId": "3a3ea3cd-f9c7-450e-8c2b-3b2ecb003e8a"
   },
   "outputs": [],
   "source": [
    "df.to_csv('data/shops.csv', index=False)"
   ]
  },
  {
   "cell_type": "code",
   "execution_count": 47,
   "outputs": [
    {
     "data": {
      "text/plain": "       Name_shop  Data_Start             City       Format  SKU_count  \\\n0      Пятерочка  2019-01-03           Москва  Продуктовый        500   \n1          Дикси  2018-05-03           Москва  Продуктовый        300   \n2    Перекресток  2017-05-03           Москва  Продуктовый        700   \n3   Азбука Вкуса  2019-06-03           Москва  Продуктовый       1500   \n4       Вкусвилл  2019-05-15           Москва  Продуктовый        250   \n5         Магнит  2010-05-03  Санкт-Петербург  Продуктовый        400   \n6        Летуаль  2011-08-03  Санкт-Петербург      Летуаль       1000   \n7           Zara  2019-01-03           Москва       Одежда       5000   \n8           Ашан  2019-02-03  Санкт-Петербург  Продуктовый        785   \n9         Аптека  2013-05-03          Коломна     Здоровье        250   \n10  Ремонт обуви  2018-09-03          Коломна          NaN        800   \n11       24 Часа  2014-05-03          Коломна       Разное         85   \n12       Пончики  2019-02-04           Шатура  Продуктовый        100   \n13  Хлеб да соль  2015-01-02           Москва  Продуктовый        237   \n\n   is_opponent  \n0          yes  \n1          yes  \n2          yes  \n3           no  \n4          yes  \n5          yes  \n6           no  \n7          yes  \n8          yes  \n9           no  \n10         yes  \n11          no  \n12         yes  \n13          no  ",
      "text/html": "<div>\n<style scoped>\n    .dataframe tbody tr th:only-of-type {\n        vertical-align: middle;\n    }\n\n    .dataframe tbody tr th {\n        vertical-align: top;\n    }\n\n    .dataframe thead th {\n        text-align: right;\n    }\n</style>\n<table border=\"1\" class=\"dataframe\">\n  <thead>\n    <tr style=\"text-align: right;\">\n      <th></th>\n      <th>Name_shop</th>\n      <th>Data_Start</th>\n      <th>City</th>\n      <th>Format</th>\n      <th>SKU_count</th>\n      <th>is_opponent</th>\n    </tr>\n  </thead>\n  <tbody>\n    <tr>\n      <th>0</th>\n      <td>Пятерочка</td>\n      <td>2019-01-03</td>\n      <td>Москва</td>\n      <td>Продуктовый</td>\n      <td>500</td>\n      <td>yes</td>\n    </tr>\n    <tr>\n      <th>1</th>\n      <td>Дикси</td>\n      <td>2018-05-03</td>\n      <td>Москва</td>\n      <td>Продуктовый</td>\n      <td>300</td>\n      <td>yes</td>\n    </tr>\n    <tr>\n      <th>2</th>\n      <td>Перекресток</td>\n      <td>2017-05-03</td>\n      <td>Москва</td>\n      <td>Продуктовый</td>\n      <td>700</td>\n      <td>yes</td>\n    </tr>\n    <tr>\n      <th>3</th>\n      <td>Азбука Вкуса</td>\n      <td>2019-06-03</td>\n      <td>Москва</td>\n      <td>Продуктовый</td>\n      <td>1500</td>\n      <td>no</td>\n    </tr>\n    <tr>\n      <th>4</th>\n      <td>Вкусвилл</td>\n      <td>2019-05-15</td>\n      <td>Москва</td>\n      <td>Продуктовый</td>\n      <td>250</td>\n      <td>yes</td>\n    </tr>\n    <tr>\n      <th>5</th>\n      <td>Магнит</td>\n      <td>2010-05-03</td>\n      <td>Санкт-Петербург</td>\n      <td>Продуктовый</td>\n      <td>400</td>\n      <td>yes</td>\n    </tr>\n    <tr>\n      <th>6</th>\n      <td>Летуаль</td>\n      <td>2011-08-03</td>\n      <td>Санкт-Петербург</td>\n      <td>Летуаль</td>\n      <td>1000</td>\n      <td>no</td>\n    </tr>\n    <tr>\n      <th>7</th>\n      <td>Zara</td>\n      <td>2019-01-03</td>\n      <td>Москва</td>\n      <td>Одежда</td>\n      <td>5000</td>\n      <td>yes</td>\n    </tr>\n    <tr>\n      <th>8</th>\n      <td>Ашан</td>\n      <td>2019-02-03</td>\n      <td>Санкт-Петербург</td>\n      <td>Продуктовый</td>\n      <td>785</td>\n      <td>yes</td>\n    </tr>\n    <tr>\n      <th>9</th>\n      <td>Аптека</td>\n      <td>2013-05-03</td>\n      <td>Коломна</td>\n      <td>Здоровье</td>\n      <td>250</td>\n      <td>no</td>\n    </tr>\n    <tr>\n      <th>10</th>\n      <td>Ремонт обуви</td>\n      <td>2018-09-03</td>\n      <td>Коломна</td>\n      <td>NaN</td>\n      <td>800</td>\n      <td>yes</td>\n    </tr>\n    <tr>\n      <th>11</th>\n      <td>24 Часа</td>\n      <td>2014-05-03</td>\n      <td>Коломна</td>\n      <td>Разное</td>\n      <td>85</td>\n      <td>no</td>\n    </tr>\n    <tr>\n      <th>12</th>\n      <td>Пончики</td>\n      <td>2019-02-04</td>\n      <td>Шатура</td>\n      <td>Продуктовый</td>\n      <td>100</td>\n      <td>yes</td>\n    </tr>\n    <tr>\n      <th>13</th>\n      <td>Хлеб да соль</td>\n      <td>2015-01-02</td>\n      <td>Москва</td>\n      <td>Продуктовый</td>\n      <td>237</td>\n      <td>no</td>\n    </tr>\n  </tbody>\n</table>\n</div>"
     },
     "execution_count": 47,
     "metadata": {},
     "output_type": "execute_result"
    }
   ],
   "source": [
    "df = pd.read_csv('data/shops.csv')\n",
    "df"
   ],
   "metadata": {
    "collapsed": false,
    "pycharm": {
     "name": "#%%\n"
    }
   }
  },
  {
   "cell_type": "markdown",
   "metadata": {},
   "source": [
    "### 7. Посмотрите типы данных всех столбцов"
   ]
  },
  {
   "cell_type": "code",
   "execution_count": 48,
   "metadata": {
    "id": "rZS-_TC9Awzo",
    "outputId": "b0a77831-10b2-4469-cb80-f17e07f709ba"
   },
   "outputs": [
    {
     "data": {
      "text/plain": "Name_shop      object\nData_Start     object\nCity           object\nFormat         object\nSKU_count       int64\nis_opponent    object\ndtype: object"
     },
     "execution_count": 48,
     "metadata": {},
     "output_type": "execute_result"
    }
   ],
   "source": [
    "df.dtypes"
   ]
  },
  {
   "cell_type": "markdown",
   "metadata": {},
   "source": [
    "### 8.\tСтолбец, где отражается дата открытия магазина сделайте формата datetime"
   ]
  },
  {
   "cell_type": "code",
   "execution_count": 52,
   "metadata": {
    "id": "g3qkLC48Awzo",
    "outputId": "e9617b51-ad18-4ef1-db52-d240ff1af326"
   },
   "outputs": [
    {
     "data": {
      "text/plain": "      Name_shop Data_Start    City       Format  SKU_count is_opponent\n0     Пятерочка 2019-01-03  Москва  Продуктовый        500         yes\n1         Дикси 2018-05-03  Москва  Продуктовый        300         yes\n2   Перекресток 2017-05-03  Москва  Продуктовый        700         yes\n3  Азбука Вкуса 2019-06-03  Москва  Продуктовый       1500          no\n4      Вкусвилл 2019-05-15  Москва  Продуктовый        250         yes",
      "text/html": "<div>\n<style scoped>\n    .dataframe tbody tr th:only-of-type {\n        vertical-align: middle;\n    }\n\n    .dataframe tbody tr th {\n        vertical-align: top;\n    }\n\n    .dataframe thead th {\n        text-align: right;\n    }\n</style>\n<table border=\"1\" class=\"dataframe\">\n  <thead>\n    <tr style=\"text-align: right;\">\n      <th></th>\n      <th>Name_shop</th>\n      <th>Data_Start</th>\n      <th>City</th>\n      <th>Format</th>\n      <th>SKU_count</th>\n      <th>is_opponent</th>\n    </tr>\n  </thead>\n  <tbody>\n    <tr>\n      <th>0</th>\n      <td>Пятерочка</td>\n      <td>2019-01-03</td>\n      <td>Москва</td>\n      <td>Продуктовый</td>\n      <td>500</td>\n      <td>yes</td>\n    </tr>\n    <tr>\n      <th>1</th>\n      <td>Дикси</td>\n      <td>2018-05-03</td>\n      <td>Москва</td>\n      <td>Продуктовый</td>\n      <td>300</td>\n      <td>yes</td>\n    </tr>\n    <tr>\n      <th>2</th>\n      <td>Перекресток</td>\n      <td>2017-05-03</td>\n      <td>Москва</td>\n      <td>Продуктовый</td>\n      <td>700</td>\n      <td>yes</td>\n    </tr>\n    <tr>\n      <th>3</th>\n      <td>Азбука Вкуса</td>\n      <td>2019-06-03</td>\n      <td>Москва</td>\n      <td>Продуктовый</td>\n      <td>1500</td>\n      <td>no</td>\n    </tr>\n    <tr>\n      <th>4</th>\n      <td>Вкусвилл</td>\n      <td>2019-05-15</td>\n      <td>Москва</td>\n      <td>Продуктовый</td>\n      <td>250</td>\n      <td>yes</td>\n    </tr>\n  </tbody>\n</table>\n</div>"
     },
     "execution_count": 52,
     "metadata": {},
     "output_type": "execute_result"
    }
   ],
   "source": [
    "df['Data_Start'] = pd.to_datetime(df['Data_Start'], format='%Y-%m-%d')\n",
    "df.head()"
   ]
  },
  {
   "cell_type": "code",
   "execution_count": 54,
   "metadata": {
    "id": "CfXwBjLiAwzp",
    "outputId": "c1ecfafa-127d-4011-f530-6d0bc964840c"
   },
   "outputs": [
    {
     "data": {
      "text/plain": "Name_shop              object\nData_Start     datetime64[ns]\nCity                   object\nFormat                 object\nSKU_count               int64\nis_opponent            object\ndtype: object"
     },
     "execution_count": 54,
     "metadata": {},
     "output_type": "execute_result"
    }
   ],
   "source": [
    "# 9. Проверьте правильность переформатирования\n",
    "df.dtypes"
   ]
  },
  {
   "cell_type": "code",
   "execution_count": 55,
   "metadata": {
    "id": "QpTQ2gFTAwzp"
   },
   "outputs": [],
   "source": [
    "# 10. Пустые значения столбца Формат поменяйте на Супермаркет\n",
    "df['Format'] = df['Format'].fillna('Супермаркет')"
   ]
  },
  {
   "cell_type": "code",
   "execution_count": 56,
   "metadata": {
    "id": "Ntec5eGnAwzq",
    "outputId": "785dca6a-ea45-4aa1-c330-4e62b9baf2c2"
   },
   "outputs": [
    {
     "data": {
      "text/plain": "0     Продуктовый\n1     Продуктовый\n2     Продуктовый\n3     Продуктовый\n4     Продуктовый\n5     Продуктовый\n6         Летуаль\n7          Одежда\n8     Продуктовый\n9        Здоровье\n10    Супермаркет\n11         Разное\n12    Продуктовый\n13    Продуктовый\nName: Format, dtype: object"
     },
     "execution_count": 56,
     "metadata": {},
     "output_type": "execute_result"
    }
   ],
   "source": [
    "# 11. Выведите значения только столбца Формат\n",
    "df['Format']"
   ]
  },
  {
   "cell_type": "code",
   "execution_count": 57,
   "metadata": {
    "id": "WJ1zf-Q8Awzq",
    "outputId": "0fe669b3-60e4-4067-8e93-66b5d0e99b2f"
   },
   "outputs": [
    {
     "data": {
      "text/plain": "       Name_shop       Format\n0      Пятерочка  Продуктовый\n1          Дикси  Продуктовый\n2    Перекресток  Продуктовый\n3   Азбука Вкуса  Продуктовый\n4       Вкусвилл  Продуктовый\n5         Магнит  Продуктовый\n6        Летуаль      Летуаль\n7           Zara       Одежда\n8           Ашан  Продуктовый\n9         Аптека     Здоровье\n10  Ремонт обуви  Супермаркет\n11       24 Часа       Разное\n12       Пончики  Продуктовый\n13  Хлеб да соль  Продуктовый",
      "text/html": "<div>\n<style scoped>\n    .dataframe tbody tr th:only-of-type {\n        vertical-align: middle;\n    }\n\n    .dataframe tbody tr th {\n        vertical-align: top;\n    }\n\n    .dataframe thead th {\n        text-align: right;\n    }\n</style>\n<table border=\"1\" class=\"dataframe\">\n  <thead>\n    <tr style=\"text-align: right;\">\n      <th></th>\n      <th>Name_shop</th>\n      <th>Format</th>\n    </tr>\n  </thead>\n  <tbody>\n    <tr>\n      <th>0</th>\n      <td>Пятерочка</td>\n      <td>Продуктовый</td>\n    </tr>\n    <tr>\n      <th>1</th>\n      <td>Дикси</td>\n      <td>Продуктовый</td>\n    </tr>\n    <tr>\n      <th>2</th>\n      <td>Перекресток</td>\n      <td>Продуктовый</td>\n    </tr>\n    <tr>\n      <th>3</th>\n      <td>Азбука Вкуса</td>\n      <td>Продуктовый</td>\n    </tr>\n    <tr>\n      <th>4</th>\n      <td>Вкусвилл</td>\n      <td>Продуктовый</td>\n    </tr>\n    <tr>\n      <th>5</th>\n      <td>Магнит</td>\n      <td>Продуктовый</td>\n    </tr>\n    <tr>\n      <th>6</th>\n      <td>Летуаль</td>\n      <td>Летуаль</td>\n    </tr>\n    <tr>\n      <th>7</th>\n      <td>Zara</td>\n      <td>Одежда</td>\n    </tr>\n    <tr>\n      <th>8</th>\n      <td>Ашан</td>\n      <td>Продуктовый</td>\n    </tr>\n    <tr>\n      <th>9</th>\n      <td>Аптека</td>\n      <td>Здоровье</td>\n    </tr>\n    <tr>\n      <th>10</th>\n      <td>Ремонт обуви</td>\n      <td>Супермаркет</td>\n    </tr>\n    <tr>\n      <th>11</th>\n      <td>24 Часа</td>\n      <td>Разное</td>\n    </tr>\n    <tr>\n      <th>12</th>\n      <td>Пончики</td>\n      <td>Продуктовый</td>\n    </tr>\n    <tr>\n      <th>13</th>\n      <td>Хлеб да соль</td>\n      <td>Продуктовый</td>\n    </tr>\n  </tbody>\n</table>\n</div>"
     },
     "execution_count": 57,
     "metadata": {},
     "output_type": "execute_result"
    }
   ],
   "source": [
    "# 12. Выведите значения двух столбцов: название магазина и формат\n",
    "df[['Name_shop', 'Format']]"
   ]
  },
  {
   "cell_type": "code",
   "execution_count": 59,
   "metadata": {
    "id": "mnXAL8SEAwzr",
    "outputId": "9f2696ff-0208-4401-d296-9033d6a68e92"
   },
   "outputs": [
    {
     "data": {
      "text/plain": "      Name_shop Data_Start    City       Format  SKU_count is_opponent\n0     Пятерочка 2019-01-03  Москва  Продуктовый        500         yes\n1         Дикси 2018-05-03  Москва  Продуктовый        300         yes\n2   Перекресток 2017-05-03  Москва  Продуктовый        700         yes\n3  Азбука Вкуса 2019-06-03  Москва  Продуктовый       1500          no\n4      Вкусвилл 2019-05-15  Москва  Продуктовый        250         yes",
      "text/html": "<div>\n<style scoped>\n    .dataframe tbody tr th:only-of-type {\n        vertical-align: middle;\n    }\n\n    .dataframe tbody tr th {\n        vertical-align: top;\n    }\n\n    .dataframe thead th {\n        text-align: right;\n    }\n</style>\n<table border=\"1\" class=\"dataframe\">\n  <thead>\n    <tr style=\"text-align: right;\">\n      <th></th>\n      <th>Name_shop</th>\n      <th>Data_Start</th>\n      <th>City</th>\n      <th>Format</th>\n      <th>SKU_count</th>\n      <th>is_opponent</th>\n    </tr>\n  </thead>\n  <tbody>\n    <tr>\n      <th>0</th>\n      <td>Пятерочка</td>\n      <td>2019-01-03</td>\n      <td>Москва</td>\n      <td>Продуктовый</td>\n      <td>500</td>\n      <td>yes</td>\n    </tr>\n    <tr>\n      <th>1</th>\n      <td>Дикси</td>\n      <td>2018-05-03</td>\n      <td>Москва</td>\n      <td>Продуктовый</td>\n      <td>300</td>\n      <td>yes</td>\n    </tr>\n    <tr>\n      <th>2</th>\n      <td>Перекресток</td>\n      <td>2017-05-03</td>\n      <td>Москва</td>\n      <td>Продуктовый</td>\n      <td>700</td>\n      <td>yes</td>\n    </tr>\n    <tr>\n      <th>3</th>\n      <td>Азбука Вкуса</td>\n      <td>2019-06-03</td>\n      <td>Москва</td>\n      <td>Продуктовый</td>\n      <td>1500</td>\n      <td>no</td>\n    </tr>\n    <tr>\n      <th>4</th>\n      <td>Вкусвилл</td>\n      <td>2019-05-15</td>\n      <td>Москва</td>\n      <td>Продуктовый</td>\n      <td>250</td>\n      <td>yes</td>\n    </tr>\n  </tbody>\n</table>\n</div>"
     },
     "execution_count": 59,
     "metadata": {},
     "output_type": "execute_result"
    }
   ],
   "source": [
    "# 13. Выведите только первые строки вашей таблицы\n",
    "df.head()"
   ]
  },
  {
   "cell_type": "code",
   "execution_count": 60,
   "metadata": {
    "id": "rAOU_hrCAwzr",
    "outputId": "79fa59a5-e4bd-4dc4-f879-e53d916841db"
   },
   "outputs": [
    {
     "data": {
      "text/plain": "       Name_shop Data_Start     City       Format  SKU_count is_opponent\n9         Аптека 2013-05-03  Коломна     Здоровье        250          no\n10  Ремонт обуви 2018-09-03  Коломна  Супермаркет        800         yes\n11       24 Часа 2014-05-03  Коломна       Разное         85          no\n12       Пончики 2019-02-04   Шатура  Продуктовый        100         yes\n13  Хлеб да соль 2015-01-02   Москва  Продуктовый        237          no",
      "text/html": "<div>\n<style scoped>\n    .dataframe tbody tr th:only-of-type {\n        vertical-align: middle;\n    }\n\n    .dataframe tbody tr th {\n        vertical-align: top;\n    }\n\n    .dataframe thead th {\n        text-align: right;\n    }\n</style>\n<table border=\"1\" class=\"dataframe\">\n  <thead>\n    <tr style=\"text-align: right;\">\n      <th></th>\n      <th>Name_shop</th>\n      <th>Data_Start</th>\n      <th>City</th>\n      <th>Format</th>\n      <th>SKU_count</th>\n      <th>is_opponent</th>\n    </tr>\n  </thead>\n  <tbody>\n    <tr>\n      <th>9</th>\n      <td>Аптека</td>\n      <td>2013-05-03</td>\n      <td>Коломна</td>\n      <td>Здоровье</td>\n      <td>250</td>\n      <td>no</td>\n    </tr>\n    <tr>\n      <th>10</th>\n      <td>Ремонт обуви</td>\n      <td>2018-09-03</td>\n      <td>Коломна</td>\n      <td>Супермаркет</td>\n      <td>800</td>\n      <td>yes</td>\n    </tr>\n    <tr>\n      <th>11</th>\n      <td>24 Часа</td>\n      <td>2014-05-03</td>\n      <td>Коломна</td>\n      <td>Разное</td>\n      <td>85</td>\n      <td>no</td>\n    </tr>\n    <tr>\n      <th>12</th>\n      <td>Пончики</td>\n      <td>2019-02-04</td>\n      <td>Шатура</td>\n      <td>Продуктовый</td>\n      <td>100</td>\n      <td>yes</td>\n    </tr>\n    <tr>\n      <th>13</th>\n      <td>Хлеб да соль</td>\n      <td>2015-01-02</td>\n      <td>Москва</td>\n      <td>Продуктовый</td>\n      <td>237</td>\n      <td>no</td>\n    </tr>\n  </tbody>\n</table>\n</div>"
     },
     "execution_count": 60,
     "metadata": {},
     "output_type": "execute_result"
    }
   ],
   "source": [
    "# 14. Выведите последние строки вашей таблицы (tail)\n",
    "df.tail()"
   ]
  },
  {
   "cell_type": "code",
   "execution_count": 61,
   "metadata": {
    "id": "6r89LkFdAwzs",
    "outputId": "4a65c3d6-6b53-4774-d39c-40a8916a2015"
   },
   "outputs": [
    {
     "data": {
      "text/plain": "   Name_shop Data_Start    City       Format  SKU_count is_opponent\n0  Пятерочка 2019-01-03  Москва  Продуктовый        500         yes\n1      Дикси 2018-05-03  Москва  Продуктовый        300         yes",
      "text/html": "<div>\n<style scoped>\n    .dataframe tbody tr th:only-of-type {\n        vertical-align: middle;\n    }\n\n    .dataframe tbody tr th {\n        vertical-align: top;\n    }\n\n    .dataframe thead th {\n        text-align: right;\n    }\n</style>\n<table border=\"1\" class=\"dataframe\">\n  <thead>\n    <tr style=\"text-align: right;\">\n      <th></th>\n      <th>Name_shop</th>\n      <th>Data_Start</th>\n      <th>City</th>\n      <th>Format</th>\n      <th>SKU_count</th>\n      <th>is_opponent</th>\n    </tr>\n  </thead>\n  <tbody>\n    <tr>\n      <th>0</th>\n      <td>Пятерочка</td>\n      <td>2019-01-03</td>\n      <td>Москва</td>\n      <td>Продуктовый</td>\n      <td>500</td>\n      <td>yes</td>\n    </tr>\n    <tr>\n      <th>1</th>\n      <td>Дикси</td>\n      <td>2018-05-03</td>\n      <td>Москва</td>\n      <td>Продуктовый</td>\n      <td>300</td>\n      <td>yes</td>\n    </tr>\n  </tbody>\n</table>\n</div>"
     },
     "execution_count": 61,
     "metadata": {},
     "output_type": "execute_result"
    }
   ],
   "source": [
    "# 15. Выведите первые два значения таблицы\n",
    "df.head(2)"
   ]
  },
  {
   "cell_type": "code",
   "execution_count": 62,
   "metadata": {
    "id": "VXqFxZqqAwzs",
    "outputId": "19099bbd-e7e0-433a-c17d-84c84484d5b8"
   },
   "outputs": [
    {
     "data": {
      "text/plain": "       Name_shop Data_Start     City       Format  SKU_count is_opponent\n11       24 Часа 2014-05-03  Коломна       Разное         85          no\n12       Пончики 2019-02-04   Шатура  Продуктовый        100         yes\n13  Хлеб да соль 2015-01-02   Москва  Продуктовый        237          no",
      "text/html": "<div>\n<style scoped>\n    .dataframe tbody tr th:only-of-type {\n        vertical-align: middle;\n    }\n\n    .dataframe tbody tr th {\n        vertical-align: top;\n    }\n\n    .dataframe thead th {\n        text-align: right;\n    }\n</style>\n<table border=\"1\" class=\"dataframe\">\n  <thead>\n    <tr style=\"text-align: right;\">\n      <th></th>\n      <th>Name_shop</th>\n      <th>Data_Start</th>\n      <th>City</th>\n      <th>Format</th>\n      <th>SKU_count</th>\n      <th>is_opponent</th>\n    </tr>\n  </thead>\n  <tbody>\n    <tr>\n      <th>11</th>\n      <td>24 Часа</td>\n      <td>2014-05-03</td>\n      <td>Коломна</td>\n      <td>Разное</td>\n      <td>85</td>\n      <td>no</td>\n    </tr>\n    <tr>\n      <th>12</th>\n      <td>Пончики</td>\n      <td>2019-02-04</td>\n      <td>Шатура</td>\n      <td>Продуктовый</td>\n      <td>100</td>\n      <td>yes</td>\n    </tr>\n    <tr>\n      <th>13</th>\n      <td>Хлеб да соль</td>\n      <td>2015-01-02</td>\n      <td>Москва</td>\n      <td>Продуктовый</td>\n      <td>237</td>\n      <td>no</td>\n    </tr>\n  </tbody>\n</table>\n</div>"
     },
     "execution_count": 62,
     "metadata": {},
     "output_type": "execute_result"
    }
   ],
   "source": [
    "# 16. Выведите последние три значения таблицы\n",
    "df.tail(3)"
   ]
  },
  {
   "cell_type": "code",
   "execution_count": 64,
   "metadata": {
    "id": "Em_pj11_Awzt",
    "outputId": "e5da7914-3afb-4feb-f5c9-426d6571236c"
   },
   "outputs": [
    {
     "data": {
      "text/plain": "      Name_shop             City\n1         Дикси           Москва\n3  Азбука Вкуса           Москва\n8          Ашан  Санкт-Петербург",
      "text/html": "<div>\n<style scoped>\n    .dataframe tbody tr th:only-of-type {\n        vertical-align: middle;\n    }\n\n    .dataframe tbody tr th {\n        vertical-align: top;\n    }\n\n    .dataframe thead th {\n        text-align: right;\n    }\n</style>\n<table border=\"1\" class=\"dataframe\">\n  <thead>\n    <tr style=\"text-align: right;\">\n      <th></th>\n      <th>Name_shop</th>\n      <th>City</th>\n    </tr>\n  </thead>\n  <tbody>\n    <tr>\n      <th>1</th>\n      <td>Дикси</td>\n      <td>Москва</td>\n    </tr>\n    <tr>\n      <th>3</th>\n      <td>Азбука Вкуса</td>\n      <td>Москва</td>\n    </tr>\n    <tr>\n      <th>8</th>\n      <td>Ашан</td>\n      <td>Санкт-Петербург</td>\n    </tr>\n  </tbody>\n</table>\n</div>"
     },
     "execution_count": 64,
     "metadata": {},
     "output_type": "execute_result"
    }
   ],
   "source": [
    "# 17. Выведите значение столбцов Название и Город 1,3 и 8 строк таблицы\n",
    "df.loc[[1, 3, 8], ['Name_shop', 'City']]"
   ]
  },
  {
   "cell_type": "code",
   "execution_count": 65,
   "metadata": {
    "id": "Yn9LCydQAwzt",
    "outputId": "756f06a8-e0a3-4da4-9041-95fd06121ae4"
   },
   "outputs": [
    {
     "data": {
      "text/plain": "      Name_shop             City\n1         Дикси           Москва\n3  Азбука Вкуса           Москва\n8          Ашан  Санкт-Петербург",
      "text/html": "<div>\n<style scoped>\n    .dataframe tbody tr th:only-of-type {\n        vertical-align: middle;\n    }\n\n    .dataframe tbody tr th {\n        vertical-align: top;\n    }\n\n    .dataframe thead th {\n        text-align: right;\n    }\n</style>\n<table border=\"1\" class=\"dataframe\">\n  <thead>\n    <tr style=\"text-align: right;\">\n      <th></th>\n      <th>Name_shop</th>\n      <th>City</th>\n    </tr>\n  </thead>\n  <tbody>\n    <tr>\n      <th>1</th>\n      <td>Дикси</td>\n      <td>Москва</td>\n    </tr>\n    <tr>\n      <th>3</th>\n      <td>Азбука Вкуса</td>\n      <td>Москва</td>\n    </tr>\n    <tr>\n      <th>8</th>\n      <td>Ашан</td>\n      <td>Санкт-Петербург</td>\n    </tr>\n  </tbody>\n</table>\n</div>"
     },
     "execution_count": 65,
     "metadata": {},
     "output_type": "execute_result"
    }
   ],
   "source": [
    "#18.\tВыведите значение столбцов Название и Город 1,3 и 8 строк таблицы, используя только индексы\n",
    "df.iloc[[1, 3, 8], [0, 2]]"
   ]
  },
  {
   "cell_type": "code",
   "execution_count": 69,
   "metadata": {
    "id": "G-eZ5_1QAwzu",
    "outputId": "c2c21db9-a00b-42f0-df30-e97f519a6bd9"
   },
   "outputs": [
    {
     "data": {
      "text/plain": "       Name_shop Data_Start             City       Format  SKU_count  \\\n0      Пятерочка 2019-01-03           Москва  Продуктовый        500   \n1          Дикси 2018-05-03           Москва  Продуктовый        300   \n2    Перекресток 2017-05-03           Москва  Продуктовый        700   \n3   Азбука Вкуса 2019-06-03           Москва  Продуктовый       1500   \n4       Вкусвилл 2019-05-15           Москва  Продуктовый        250   \n7           Zara 2019-01-03           Москва       Одежда       5000   \n8           Ашан 2019-02-03  Санкт-Петербург  Продуктовый        785   \n10  Ремонт обуви 2018-09-03          Коломна  Супермаркет        800   \n12       Пончики 2019-02-04           Шатура  Продуктовый        100   \n\n   is_opponent  \n0          yes  \n1          yes  \n2          yes  \n3           no  \n4          yes  \n7          yes  \n8          yes  \n10         yes  \n12         yes  ",
      "text/html": "<div>\n<style scoped>\n    .dataframe tbody tr th:only-of-type {\n        vertical-align: middle;\n    }\n\n    .dataframe tbody tr th {\n        vertical-align: top;\n    }\n\n    .dataframe thead th {\n        text-align: right;\n    }\n</style>\n<table border=\"1\" class=\"dataframe\">\n  <thead>\n    <tr style=\"text-align: right;\">\n      <th></th>\n      <th>Name_shop</th>\n      <th>Data_Start</th>\n      <th>City</th>\n      <th>Format</th>\n      <th>SKU_count</th>\n      <th>is_opponent</th>\n    </tr>\n  </thead>\n  <tbody>\n    <tr>\n      <th>0</th>\n      <td>Пятерочка</td>\n      <td>2019-01-03</td>\n      <td>Москва</td>\n      <td>Продуктовый</td>\n      <td>500</td>\n      <td>yes</td>\n    </tr>\n    <tr>\n      <th>1</th>\n      <td>Дикси</td>\n      <td>2018-05-03</td>\n      <td>Москва</td>\n      <td>Продуктовый</td>\n      <td>300</td>\n      <td>yes</td>\n    </tr>\n    <tr>\n      <th>2</th>\n      <td>Перекресток</td>\n      <td>2017-05-03</td>\n      <td>Москва</td>\n      <td>Продуктовый</td>\n      <td>700</td>\n      <td>yes</td>\n    </tr>\n    <tr>\n      <th>3</th>\n      <td>Азбука Вкуса</td>\n      <td>2019-06-03</td>\n      <td>Москва</td>\n      <td>Продуктовый</td>\n      <td>1500</td>\n      <td>no</td>\n    </tr>\n    <tr>\n      <th>4</th>\n      <td>Вкусвилл</td>\n      <td>2019-05-15</td>\n      <td>Москва</td>\n      <td>Продуктовый</td>\n      <td>250</td>\n      <td>yes</td>\n    </tr>\n    <tr>\n      <th>7</th>\n      <td>Zara</td>\n      <td>2019-01-03</td>\n      <td>Москва</td>\n      <td>Одежда</td>\n      <td>5000</td>\n      <td>yes</td>\n    </tr>\n    <tr>\n      <th>8</th>\n      <td>Ашан</td>\n      <td>2019-02-03</td>\n      <td>Санкт-Петербург</td>\n      <td>Продуктовый</td>\n      <td>785</td>\n      <td>yes</td>\n    </tr>\n    <tr>\n      <th>10</th>\n      <td>Ремонт обуви</td>\n      <td>2018-09-03</td>\n      <td>Коломна</td>\n      <td>Супермаркет</td>\n      <td>800</td>\n      <td>yes</td>\n    </tr>\n    <tr>\n      <th>12</th>\n      <td>Пончики</td>\n      <td>2019-02-04</td>\n      <td>Шатура</td>\n      <td>Продуктовый</td>\n      <td>100</td>\n      <td>yes</td>\n    </tr>\n  </tbody>\n</table>\n</div>"
     },
     "execution_count": 69,
     "metadata": {},
     "output_type": "execute_result"
    }
   ],
   "source": [
    "# 19. Выведите только те строки таблицы, даты создания магазина которых последние «пять» лет\n",
    "df[dt.datetime.now().year - df['Data_Start'].dt.year <= 5]"
   ]
  },
  {
   "cell_type": "code",
   "execution_count": 70,
   "metadata": {
    "id": "JBmOCqTWAwzu",
    "outputId": "217f3dd3-2161-40a7-9e16-e3e0a2b89bb6"
   },
   "outputs": [
    {
     "data": {
      "text/plain": "       Name_shop Data_Start             City       Format  SKU_count  \\\n8           Ашан 2019-02-03  Санкт-Петербург  Продуктовый        785   \n10  Ремонт обуви 2018-09-03          Коломна  Супермаркет        800   \n12       Пончики 2019-02-04           Шатура  Продуктовый        100   \n\n   is_opponent  \n8          yes  \n10         yes  \n12         yes  ",
      "text/html": "<div>\n<style scoped>\n    .dataframe tbody tr th:only-of-type {\n        vertical-align: middle;\n    }\n\n    .dataframe tbody tr th {\n        vertical-align: top;\n    }\n\n    .dataframe thead th {\n        text-align: right;\n    }\n</style>\n<table border=\"1\" class=\"dataframe\">\n  <thead>\n    <tr style=\"text-align: right;\">\n      <th></th>\n      <th>Name_shop</th>\n      <th>Data_Start</th>\n      <th>City</th>\n      <th>Format</th>\n      <th>SKU_count</th>\n      <th>is_opponent</th>\n    </tr>\n  </thead>\n  <tbody>\n    <tr>\n      <th>8</th>\n      <td>Ашан</td>\n      <td>2019-02-03</td>\n      <td>Санкт-Петербург</td>\n      <td>Продуктовый</td>\n      <td>785</td>\n      <td>yes</td>\n    </tr>\n    <tr>\n      <th>10</th>\n      <td>Ремонт обуви</td>\n      <td>2018-09-03</td>\n      <td>Коломна</td>\n      <td>Супермаркет</td>\n      <td>800</td>\n      <td>yes</td>\n    </tr>\n    <tr>\n      <th>12</th>\n      <td>Пончики</td>\n      <td>2019-02-04</td>\n      <td>Шатура</td>\n      <td>Продуктовый</td>\n      <td>100</td>\n      <td>yes</td>\n    </tr>\n  </tbody>\n</table>\n</div>"
     },
     "execution_count": 70,
     "metadata": {},
     "output_type": "execute_result"
    }
   ],
   "source": [
    "# 20. Выведите только те строки значения таблицы,\n",
    "# даты создания магазина которых последние «пять лет» и они находятся не в Москве\n",
    "df[(dt.datetime.now().year - df['Data_Start'].dt.year <= 5) & (df['City'] != 'Москва')]"
   ]
  },
  {
   "cell_type": "code",
   "execution_count": 71,
   "metadata": {
    "id": "qOir1blZAwzv",
    "outputId": "71ecd5c2-e6a2-49e5-b586-1370c44e648c"
   },
   "outputs": [
    {
     "data": {
      "text/plain": "      Name_shop Data_Start    City       Format  SKU_count is_opponent\n3  Азбука Вкуса 2019-06-03  Москва  Продуктовый       1500          no\n7          Zara 2019-01-03  Москва       Одежда       5000         yes",
      "text/html": "<div>\n<style scoped>\n    .dataframe tbody tr th:only-of-type {\n        vertical-align: middle;\n    }\n\n    .dataframe tbody tr th {\n        vertical-align: top;\n    }\n\n    .dataframe thead th {\n        text-align: right;\n    }\n</style>\n<table border=\"1\" class=\"dataframe\">\n  <thead>\n    <tr style=\"text-align: right;\">\n      <th></th>\n      <th>Name_shop</th>\n      <th>Data_Start</th>\n      <th>City</th>\n      <th>Format</th>\n      <th>SKU_count</th>\n      <th>is_opponent</th>\n    </tr>\n  </thead>\n  <tbody>\n    <tr>\n      <th>3</th>\n      <td>Азбука Вкуса</td>\n      <td>2019-06-03</td>\n      <td>Москва</td>\n      <td>Продуктовый</td>\n      <td>1500</td>\n      <td>no</td>\n    </tr>\n    <tr>\n      <th>7</th>\n      <td>Zara</td>\n      <td>2019-01-03</td>\n      <td>Москва</td>\n      <td>Одежда</td>\n      <td>5000</td>\n      <td>yes</td>\n    </tr>\n  </tbody>\n</table>\n</div>"
     },
     "execution_count": 71,
     "metadata": {},
     "output_type": "execute_result"
    }
   ],
   "source": [
    "# 21. Выведите только те строки значения таблицы даты создания магазина\n",
    "# которых последние «пять лет» или средний чек превышает 1000р\n",
    "df[(dt.datetime.now().year - df['Data_Start'].dt.year <= 5) & (df['SKU_count'] > 1000)]\n"
   ]
  },
  {
   "cell_type": "code",
   "execution_count": 72,
   "metadata": {
    "id": "8Zugd3MZAwzv"
   },
   "outputs": [],
   "source": [
    "# 22. Постройте диаграммы, позволяющие просматривать средний чек магазина\n",
    "import matplotlib.pyplot as plt"
   ]
  },
  {
   "cell_type": "code",
   "execution_count": 74,
   "metadata": {
    "id": "xkUzRM-eAwzw",
    "outputId": "2f3cb616-e219-4911-9014-7d403e46348c"
   },
   "outputs": [
    {
     "data": {
      "text/plain": "<Figure size 432x288 with 1 Axes>",
      "image/png": "[encoded data removed]"
     },
     "metadata": {
      "needs_background": "light"
     },
     "output_type": "display_data"
    }
   ],
   "source": [
    "df['SKU_count'].hist(color='orange')\n",
    "_ = plt.legend(['SKU_count'])"
   ]
  },
  {
   "cell_type": "code",
   "execution_count": 76,
   "metadata": {
    "id": "1tMm7gqRAwzw",
    "outputId": "c3ba1b79-8726-4033-c91a-b9128122418f"
   },
   "outputs": [
    {
     "data": {
      "text/plain": "<Figure size 432x288 with 1 Axes>",
      "image/png": "[encoded data removed]"
     },
     "metadata": {},
     "output_type": "display_data"
    }
   ],
   "source": [
    "import seaborn as sns\n",
    "sns.set_theme()\n",
    "\n",
    "_ = sns.kdeplot(df['SKU_count'], shade=True, color='r')"
   ]
  },
  {
   "cell_type": "code",
   "execution_count": 78,
   "metadata": {
    "id": "_oFPcBx8Awz6",
    "outputId": "9e7d94eb-714d-4d22-8a65-34159b47d31c"
   },
   "outputs": [
    {
     "data": {
      "text/plain": "      SKU_count  Name_shop\n0      (0, 500]          8\n1   (500, 1000]          4\n2  (1000, 1500]          1\n3  (1500, 2000]          0\n4  (2000, 2500]          0\n5  (2500, 3000]          0\n6  (3000, 3500]          0\n7  (3500, 4000]          0\n8  (4000, 4500]          0\n9  (4500, 5000]          1",
      "text/html": "<div>\n<style scoped>\n    .dataframe tbody tr th:only-of-type {\n        vertical-align: middle;\n    }\n\n    .dataframe tbody tr th {\n        vertical-align: top;\n    }\n\n    .dataframe thead th {\n        text-align: right;\n    }\n</style>\n<table border=\"1\" class=\"dataframe\">\n  <thead>\n    <tr style=\"text-align: right;\">\n      <th></th>\n      <th>SKU_count</th>\n      <th>Name_shop</th>\n    </tr>\n  </thead>\n  <tbody>\n    <tr>\n      <th>0</th>\n      <td>(0, 500]</td>\n      <td>8</td>\n    </tr>\n    <tr>\n      <th>1</th>\n      <td>(500, 1000]</td>\n      <td>4</td>\n    </tr>\n    <tr>\n      <th>2</th>\n      <td>(1000, 1500]</td>\n      <td>1</td>\n    </tr>\n    <tr>\n      <th>3</th>\n      <td>(1500, 2000]</td>\n      <td>0</td>\n    </tr>\n    <tr>\n      <th>4</th>\n      <td>(2000, 2500]</td>\n      <td>0</td>\n    </tr>\n    <tr>\n      <th>5</th>\n      <td>(2500, 3000]</td>\n      <td>0</td>\n    </tr>\n    <tr>\n      <th>6</th>\n      <td>(3000, 3500]</td>\n      <td>0</td>\n    </tr>\n    <tr>\n      <th>7</th>\n      <td>(3500, 4000]</td>\n      <td>0</td>\n    </tr>\n    <tr>\n      <th>8</th>\n      <td>(4000, 4500]</td>\n      <td>0</td>\n    </tr>\n    <tr>\n      <th>9</th>\n      <td>(4500, 5000]</td>\n      <td>1</td>\n    </tr>\n  </tbody>\n</table>\n</div>"
     },
     "execution_count": 78,
     "metadata": {},
     "output_type": "execute_result"
    }
   ],
   "source": [
    "df.groupby([pd.cut(df['SKU_count'], np.arange(0, df['SKU_count'].max() + 1, 500))])['Name_shop'].count().reset_index()"
   ]
  },
  {
   "cell_type": "code",
   "execution_count": 80,
   "metadata": {
    "id": "wLTpMkfIAwz6",
    "outputId": "92e3b894-9ec9-45cf-a885-fd14fb24e6ee",
    "pycharm": {
     "name": "#%%\n"
    }
   },
   "outputs": [
    {
     "data": {
      "text/plain": "<Figure size 432x288 with 1 Axes>",
      "image/png": "[encoded data removed]"
     },
     "metadata": {},
     "output_type": "display_data"
    }
   ],
   "source": [
    "df.groupby([pd.cut(df['SKU_count'], np.arange(0, df['SKU_count'].max() + 1, 500))])['Name_shop'].count().plot.bar()\n",
    "_ = plt.legend(['APRU'])"
   ]
  }
 ],
 "metadata": {
  "colab": {
   "collapsed_sections": [],
   "name": "Sem1.ipynb",
   "provenance": []
  },
  "kernelspec": {
   "display_name": "Python 3",
   "language": "python",
   "name": "python3"
  },
  "language_info": {
   "codemirror_mode": {
    "name": "ipython",
    "version": 3
   },
   "file_extension": ".py",
   "mimetype": "text/x-python",
   "name": "python",
   "nbconvert_exporter": "python",
   "pygments_lexer": "ipython3",
   "version": "3.7.6"
  }
 },
 "nbformat": 4,
 "nbformat_minor": 1
}