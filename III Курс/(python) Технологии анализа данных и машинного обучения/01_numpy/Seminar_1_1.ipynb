{
 "cells": [
  {
   "cell_type": "markdown",
   "metadata": {
    "id": "921CS61QAwzG"
   },
   "source": [
    "# Лабораторная работа 1_1\n",
    "Для удобства работы воспользуйтесь ментальными картами с содержанием по библиотекам в Phyton (https://www.mindmeister.com/ru/1093016129?t=B02pdssfnp)\n",
    "1.\tСоздайте файл формата csv/xls в котором будут отражены следующие сведения: данные по 12 магазинам. Данные должны содержать следующие сведения: название магазина (Name_shop), дата открытия (Data_Start), город (City), формат (Format), средний чек (SKU_count).\n",
    "2.\tИнтерпретируйте данные в ноутбуке через переменную Df\n",
    "\n",
    "### Df = pn.read_csv/excel(‘имя файла.расширение’)\n",
    "\n",
    "3.\tВычислите следующие значения: \n",
    "Df.columns, Df.info(), df.shape, df.dtypes, df.discribe()\n",
    "\n",
    "Что определяет каждое из действий?\n",
    "4.\tДобавьте несколько строк в вашу таблицу.\n",
    "5.\tДобавьте еще один столбец (конкуренты) в вашу таблицу\n",
    "6.\tПересохраните созданную таблицу в новый файл и запустите его\n",
    "7.\tПосмотрите типы данных всех столбцов\n",
    "8.\tСтолбец, где отражается дата открытия магазина сделайте формата datetime\n",
    "9.\tПроверьте правильность переформатирования\n",
    "10.\tПустые значения столбца Формат поменяйте на Супермаркет\n",
    "11.\tВыведите значения только столбца Формат\n",
    "12.\tВыведите значения двух столбцов: название магазина и формат\n",
    "13.\tВыведите только первые строки вашей таблицы \n",
    "14.\tВыведите последние строки вашей таблицы (tail)\n",
    "15.\tВыведите первые два значения таблицы\n",
    "16.\tВыведите последние три значения таблицы\n",
    "17.\tВыведите значение столбцов Название и Город 1,3 и 8 строк таблицы\n",
    "18.\tВыведите значение столбцов Название и Город 1,3 и 8 строк таблицы, используя только индексы\n",
    "19.\tВыведите только те строки таблицы, даты создания магазина которых последние «пять» лет \n",
    "20.\tВыведите только те строки значения таблицы, даты создания магазина которых последние «пять лет» и они находятся не в Москве\n",
    "21.\tВыведите только те строки значения таблицы даты создания магазина которых последние «пять лет» или средний чек превышает 1000р\n",
    "22.\tПостройте диаграммы, позволяющие просматривать средний чек магазина\n",
    "\n",
    "\n"
   ]
  },
  {
   "cell_type": "code",
   "execution_count": 2,
   "metadata": {
    "id": "PpbHP4OrAwzN"
   },
   "outputs": [],
   "source": [
    "import pandas as pd\n",
    "import numpy as np"
   ]
  },
  {
   "cell_type": "code",
   "execution_count": 5,
   "metadata": {
    "id": "sN7njAh_AwzO"
   },
   "outputs": [],
   "source": [
    "dt = pd.DataFrame(columns = ['Name_shop', 'Data_Start', 'City', 'Format', 'SKU_count'])"
   ]
  },
  {
   "cell_type": "code",
   "execution_count": 6,
   "metadata": {
    "id": "IM3muIOQAwzR"
   },
   "outputs": [],
   "source": [
    "dt.Name_shop = ['Пятерочка','Дикси','Перекресток',\n",
    "                'Азбука Вкуса','Вкусвилл','Магнит','Летуаль',\n",
    "                'Zara','Ашан','Аптека','Ремонт обуви','24 Часа']\n",
    "dt.Data_Start = ['2019-01-03','2018-05-03','2017-05-03',\n",
    "                '2019-06-03','2019-05-15','2010-05-03','2011-08-03',\n",
    "                '2019-01-03','2019-02-03','2013-05-03','2018-09-03','2014-05-03']\n",
    "dt.City = ['Москва','Москва','Москва',\n",
    "                'Москва','Москва','Санкт-Петербург','Санкт-Петербург',\n",
    "                'Москва','Санкт-Петербург','Коломна','Коломна','Коломна']\n",
    "dt.Format = ['Продуктовый','Продуктовый','Продуктовый',\n",
    "                'Продуктовый','Продуктовый','Продуктовый','Летуаль',\n",
    "                'Одежда','Продуктовый','Здоровье',np.nan,'Разное']\n",
    "dt.SKU_count = [500,300,700,\n",
    "                1500,250,400,1000,\n",
    "                5000,785,250,800,85]"
   ]
  },
  {
   "cell_type": "code",
   "execution_count": 7,
   "metadata": {
    "id": "eKQMt-lYAwzS",
    "outputId": "1d36de27-a4bd-46bb-ef46-5d8610b5666e"
   },
   "outputs": [
    {
     "data": {
      "text/plain": [
       "Index(['Name_shop', 'Data_Start', 'City', 'Format', 'SKU_count'], dtype='object')"
      ]
     },
     "execution_count": 7,
     "metadata": {},
     "output_type": "execute_result"
    }
   ],
   "source": [
    "dt.columns"
   ]
  },
  {
   "cell_type": "code",
   "execution_count": 8,
   "metadata": {
    "id": "n2ngj5-QAwze",
    "outputId": "00395130-955d-46e5-ea10-2b2582601131"
   },
   "outputs": [
    {
     "name": "stdout",
     "output_type": "stream",
     "text": [
      "<class 'pandas.core.frame.DataFrame'>\n",
      "RangeIndex: 12 entries, 0 to 11\n",
      "Data columns (total 5 columns):\n",
      " #   Column      Non-Null Count  Dtype \n",
      "---  ------      --------------  ----- \n",
      " 0   Name_shop   12 non-null     object\n",
      " 1   Data_Start  12 non-null     object\n",
      " 2   City        12 non-null     object\n",
      " 3   Format      11 non-null     object\n",
      " 4   SKU_count   12 non-null     int64 \n",
      "dtypes: int64(1), object(4)\n",
      "memory usage: 608.0+ bytes\n"
     ]
    }
   ],
   "source": [
    "dt.info()"
   ]
  },
  {
   "cell_type": "code",
   "execution_count": 9,
   "metadata": {
    "id": "5WEaTUUxAwzf",
    "outputId": "c8d678b9-16a8-42b8-a506-031fcdcea191"
   },
   "outputs": [
    {
     "data": {
      "text/plain": [
       "(12, 5)"
      ]
     },
     "execution_count": 9,
     "metadata": {},
     "output_type": "execute_result"
    }
   ],
   "source": [
    "dt.shape"
   ]
  },
  {
   "cell_type": "code",
   "execution_count": 10,
   "metadata": {
    "id": "S9PO4m72Awzg",
    "outputId": "6576e6e9-a7f2-4043-f3c4-e04a16391226"
   },
   "outputs": [
    {
     "data": {
      "text/plain": [
       "Name_shop     object\n",
       "Data_Start    object\n",
       "City          object\n",
       "Format        object\n",
       "SKU_count      int64\n",
       "dtype: object"
      ]
     },
     "execution_count": 10,
     "metadata": {},
     "output_type": "execute_result"
    }
   ],
   "source": [
    "dt.dtypes"
   ]
  },
  {
   "cell_type": "code",
   "execution_count": 11,
   "metadata": {
    "id": "dMcpzgtSAwzg",
    "outputId": "6556535b-31d3-4f05-f400-82430bae0fdf"
   },
   "outputs": [
    {
     "data": {
      "text/html": [
       "<div>\n",
       "<style scoped>\n",
       "    .dataframe tbody tr th:only-of-type {\n",
       "        vertical-align: middle;\n",
       "    }\n",
       "\n",
       "    .dataframe tbody tr th {\n",
       "        vertical-align: top;\n",
       "    }\n",
       "\n",
       "    .dataframe thead th {\n",
       "        text-align: right;\n",
       "    }\n",
       "</style>\n",
       "<table border=\"1\" class=\"dataframe\">\n",
       "  <thead>\n",
       "    <tr style=\"text-align: right;\">\n",
       "      <th></th>\n",
       "      <th>SKU_count</th>\n",
       "    </tr>\n",
       "  </thead>\n",
       "  <tbody>\n",
       "    <tr>\n",
       "      <th>count</th>\n",
       "      <td>12.000000</td>\n",
       "    </tr>\n",
       "    <tr>\n",
       "      <th>mean</th>\n",
       "      <td>964.166667</td>\n",
       "    </tr>\n",
       "    <tr>\n",
       "      <th>std</th>\n",
       "      <td>1330.517386</td>\n",
       "    </tr>\n",
       "    <tr>\n",
       "      <th>min</th>\n",
       "      <td>85.000000</td>\n",
       "    </tr>\n",
       "    <tr>\n",
       "      <th>25%</th>\n",
       "      <td>287.500000</td>\n",
       "    </tr>\n",
       "    <tr>\n",
       "      <th>50%</th>\n",
       "      <td>600.000000</td>\n",
       "    </tr>\n",
       "    <tr>\n",
       "      <th>75%</th>\n",
       "      <td>850.000000</td>\n",
       "    </tr>\n",
       "    <tr>\n",
       "      <th>max</th>\n",
       "      <td>5000.000000</td>\n",
       "    </tr>\n",
       "  </tbody>\n",
       "</table>\n",
       "</div>"
      ],
      "text/plain": [
       "         SKU_count\n",
       "count    12.000000\n",
       "mean    964.166667\n",
       "std    1330.517386\n",
       "min      85.000000\n",
       "25%     287.500000\n",
       "50%     600.000000\n",
       "75%     850.000000\n",
       "max    5000.000000"
      ]
     },
     "execution_count": 11,
     "metadata": {},
     "output_type": "execute_result"
    }
   ],
   "source": [
    "dt.describe()"
   ]
  },
  {
   "cell_type": "code",
   "execution_count": 12,
   "metadata": {
    "id": "-DTYg8wdAwzh",
    "outputId": "ff24cbe7-2866-4a29-f4af-f70b9ff6b9d2"
   },
   "outputs": [
    {
     "data": {
      "text/html": [
       "<div>\n",
       "<style scoped>\n",
       "    .dataframe tbody tr th:only-of-type {\n",
       "        vertical-align: middle;\n",
       "    }\n",
       "\n",
       "    .dataframe tbody tr th {\n",
       "        vertical-align: top;\n",
       "    }\n",
       "\n",
       "    .dataframe thead th {\n",
       "        text-align: right;\n",
       "    }\n",
       "</style>\n",
       "<table border=\"1\" class=\"dataframe\">\n",
       "  <thead>\n",
       "    <tr style=\"text-align: right;\">\n",
       "      <th></th>\n",
       "      <th>Name_shop</th>\n",
       "      <th>Data_Start</th>\n",
       "      <th>City</th>\n",
       "      <th>Format</th>\n",
       "      <th>SKU_count</th>\n",
       "    </tr>\n",
       "  </thead>\n",
       "  <tbody>\n",
       "    <tr>\n",
       "      <th>0</th>\n",
       "      <td>Пятерочка</td>\n",
       "      <td>2019-01-03</td>\n",
       "      <td>Москва</td>\n",
       "      <td>Продуктовый</td>\n",
       "      <td>500</td>\n",
       "    </tr>\n",
       "    <tr>\n",
       "      <th>1</th>\n",
       "      <td>Дикси</td>\n",
       "      <td>2018-05-03</td>\n",
       "      <td>Москва</td>\n",
       "      <td>Продуктовый</td>\n",
       "      <td>300</td>\n",
       "    </tr>\n",
       "    <tr>\n",
       "      <th>2</th>\n",
       "      <td>Перекресток</td>\n",
       "      <td>2017-05-03</td>\n",
       "      <td>Москва</td>\n",
       "      <td>Продуктовый</td>\n",
       "      <td>700</td>\n",
       "    </tr>\n",
       "    <tr>\n",
       "      <th>3</th>\n",
       "      <td>Азбука Вкуса</td>\n",
       "      <td>2019-06-03</td>\n",
       "      <td>Москва</td>\n",
       "      <td>Продуктовый</td>\n",
       "      <td>1500</td>\n",
       "    </tr>\n",
       "    <tr>\n",
       "      <th>4</th>\n",
       "      <td>Вкусвилл</td>\n",
       "      <td>2019-05-15</td>\n",
       "      <td>Москва</td>\n",
       "      <td>Продуктовый</td>\n",
       "      <td>250</td>\n",
       "    </tr>\n",
       "    <tr>\n",
       "      <th>5</th>\n",
       "      <td>Магнит</td>\n",
       "      <td>2010-05-03</td>\n",
       "      <td>Санкт-Петербург</td>\n",
       "      <td>Продуктовый</td>\n",
       "      <td>400</td>\n",
       "    </tr>\n",
       "    <tr>\n",
       "      <th>6</th>\n",
       "      <td>Летуаль</td>\n",
       "      <td>2011-08-03</td>\n",
       "      <td>Санкт-Петербург</td>\n",
       "      <td>Летуаль</td>\n",
       "      <td>1000</td>\n",
       "    </tr>\n",
       "    <tr>\n",
       "      <th>7</th>\n",
       "      <td>Zara</td>\n",
       "      <td>2019-01-03</td>\n",
       "      <td>Москва</td>\n",
       "      <td>Одежда</td>\n",
       "      <td>5000</td>\n",
       "    </tr>\n",
       "    <tr>\n",
       "      <th>8</th>\n",
       "      <td>Ашан</td>\n",
       "      <td>2019-02-03</td>\n",
       "      <td>Санкт-Петербург</td>\n",
       "      <td>Продуктовый</td>\n",
       "      <td>785</td>\n",
       "    </tr>\n",
       "    <tr>\n",
       "      <th>9</th>\n",
       "      <td>Аптека</td>\n",
       "      <td>2013-05-03</td>\n",
       "      <td>Коломна</td>\n",
       "      <td>Здоровье</td>\n",
       "      <td>250</td>\n",
       "    </tr>\n",
       "    <tr>\n",
       "      <th>10</th>\n",
       "      <td>Ремонт обуви</td>\n",
       "      <td>2018-09-03</td>\n",
       "      <td>Коломна</td>\n",
       "      <td>NaN</td>\n",
       "      <td>800</td>\n",
       "    </tr>\n",
       "    <tr>\n",
       "      <th>11</th>\n",
       "      <td>24 Часа</td>\n",
       "      <td>2014-05-03</td>\n",
       "      <td>Коломна</td>\n",
       "      <td>Разное</td>\n",
       "      <td>85</td>\n",
       "    </tr>\n",
       "  </tbody>\n",
       "</table>\n",
       "</div>"
      ],
      "text/plain": [
       "       Name_shop  Data_Start             City       Format  SKU_count\n",
       "0      Пятерочка  2019-01-03           Москва  Продуктовый        500\n",
       "1          Дикси  2018-05-03           Москва  Продуктовый        300\n",
       "2    Перекресток  2017-05-03           Москва  Продуктовый        700\n",
       "3   Азбука Вкуса  2019-06-03           Москва  Продуктовый       1500\n",
       "4       Вкусвилл  2019-05-15           Москва  Продуктовый        250\n",
       "5         Магнит  2010-05-03  Санкт-Петербург  Продуктовый        400\n",
       "6        Летуаль  2011-08-03  Санкт-Петербург      Летуаль       1000\n",
       "7           Zara  2019-01-03           Москва       Одежда       5000\n",
       "8           Ашан  2019-02-03  Санкт-Петербург  Продуктовый        785\n",
       "9         Аптека  2013-05-03          Коломна     Здоровье        250\n",
       "10  Ремонт обуви  2018-09-03          Коломна          NaN        800\n",
       "11       24 Часа  2014-05-03          Коломна       Разное         85"
      ]
     },
     "execution_count": 12,
     "metadata": {},
     "output_type": "execute_result"
    }
   ],
   "source": [
    "dt"
   ]
  },
  {
   "cell_type": "code",
   "execution_count": 13,
   "metadata": {
    "id": "0eD8ZncCAwzi",
    "scrolled": false
   },
   "outputs": [],
   "source": [
    "#4.\tДобавьте несколько строк в вашу таблицу\n",
    "new_row1 = {'Name_shop':'Пончики', 'Data_Start':'2019-02-04', 'City':'Шатура', 'Format':'Продуктовый', 'SKU_count':100}\n",
    "new_row2 = {'Name_shop':'Хлеб да соль', 'Data_Start':'2015-01-02', 'City':'Москва', 'Format':'Продуктовый', 'SKU_count':237}\n",
    "dt = dt.append([new_row1, new_row2], ignore_index = True)"
   ]
  },
  {
   "cell_type": "code",
   "execution_count": 14,
   "metadata": {},
   "outputs": [
    {
     "data": {
      "text/html": [
       "<div>\n",
       "<style scoped>\n",
       "    .dataframe tbody tr th:only-of-type {\n",
       "        vertical-align: middle;\n",
       "    }\n",
       "\n",
       "    .dataframe tbody tr th {\n",
       "        vertical-align: top;\n",
       "    }\n",
       "\n",
       "    .dataframe thead th {\n",
       "        text-align: right;\n",
       "    }\n",
       "</style>\n",
       "<table border=\"1\" class=\"dataframe\">\n",
       "  <thead>\n",
       "    <tr style=\"text-align: right;\">\n",
       "      <th></th>\n",
       "      <th>Name_shop</th>\n",
       "      <th>Data_Start</th>\n",
       "      <th>City</th>\n",
       "      <th>Format</th>\n",
       "      <th>SKU_count</th>\n",
       "    </tr>\n",
       "  </thead>\n",
       "  <tbody>\n",
       "    <tr>\n",
       "      <th>0</th>\n",
       "      <td>Пятерочка</td>\n",
       "      <td>2019-01-03</td>\n",
       "      <td>Москва</td>\n",
       "      <td>Продуктовый</td>\n",
       "      <td>500</td>\n",
       "    </tr>\n",
       "    <tr>\n",
       "      <th>1</th>\n",
       "      <td>Дикси</td>\n",
       "      <td>2018-05-03</td>\n",
       "      <td>Москва</td>\n",
       "      <td>Продуктовый</td>\n",
       "      <td>300</td>\n",
       "    </tr>\n",
       "    <tr>\n",
       "      <th>2</th>\n",
       "      <td>Перекресток</td>\n",
       "      <td>2017-05-03</td>\n",
       "      <td>Москва</td>\n",
       "      <td>Продуктовый</td>\n",
       "      <td>700</td>\n",
       "    </tr>\n",
       "    <tr>\n",
       "      <th>3</th>\n",
       "      <td>Азбука Вкуса</td>\n",
       "      <td>2019-06-03</td>\n",
       "      <td>Москва</td>\n",
       "      <td>Продуктовый</td>\n",
       "      <td>1500</td>\n",
       "    </tr>\n",
       "    <tr>\n",
       "      <th>4</th>\n",
       "      <td>Вкусвилл</td>\n",
       "      <td>2019-05-15</td>\n",
       "      <td>Москва</td>\n",
       "      <td>Продуктовый</td>\n",
       "      <td>250</td>\n",
       "    </tr>\n",
       "    <tr>\n",
       "      <th>5</th>\n",
       "      <td>Магнит</td>\n",
       "      <td>2010-05-03</td>\n",
       "      <td>Санкт-Петербург</td>\n",
       "      <td>Продуктовый</td>\n",
       "      <td>400</td>\n",
       "    </tr>\n",
       "    <tr>\n",
       "      <th>6</th>\n",
       "      <td>Летуаль</td>\n",
       "      <td>2011-08-03</td>\n",
       "      <td>Санкт-Петербург</td>\n",
       "      <td>Летуаль</td>\n",
       "      <td>1000</td>\n",
       "    </tr>\n",
       "    <tr>\n",
       "      <th>7</th>\n",
       "      <td>Zara</td>\n",
       "      <td>2019-01-03</td>\n",
       "      <td>Москва</td>\n",
       "      <td>Одежда</td>\n",
       "      <td>5000</td>\n",
       "    </tr>\n",
       "    <tr>\n",
       "      <th>8</th>\n",
       "      <td>Ашан</td>\n",
       "      <td>2019-02-03</td>\n",
       "      <td>Санкт-Петербург</td>\n",
       "      <td>Продуктовый</td>\n",
       "      <td>785</td>\n",
       "    </tr>\n",
       "    <tr>\n",
       "      <th>9</th>\n",
       "      <td>Аптека</td>\n",
       "      <td>2013-05-03</td>\n",
       "      <td>Коломна</td>\n",
       "      <td>Здоровье</td>\n",
       "      <td>250</td>\n",
       "    </tr>\n",
       "    <tr>\n",
       "      <th>10</th>\n",
       "      <td>Ремонт обуви</td>\n",
       "      <td>2018-09-03</td>\n",
       "      <td>Коломна</td>\n",
       "      <td>NaN</td>\n",
       "      <td>800</td>\n",
       "    </tr>\n",
       "    <tr>\n",
       "      <th>11</th>\n",
       "      <td>24 Часа</td>\n",
       "      <td>2014-05-03</td>\n",
       "      <td>Коломна</td>\n",
       "      <td>Разное</td>\n",
       "      <td>85</td>\n",
       "    </tr>\n",
       "    <tr>\n",
       "      <th>12</th>\n",
       "      <td>Пончики</td>\n",
       "      <td>2019-02-04</td>\n",
       "      <td>Шатура</td>\n",
       "      <td>Продуктовый</td>\n",
       "      <td>100</td>\n",
       "    </tr>\n",
       "    <tr>\n",
       "      <th>13</th>\n",
       "      <td>Хлеб да соль</td>\n",
       "      <td>2015-01-02</td>\n",
       "      <td>Москва</td>\n",
       "      <td>Продуктовый</td>\n",
       "      <td>237</td>\n",
       "    </tr>\n",
       "  </tbody>\n",
       "</table>\n",
       "</div>"
      ],
      "text/plain": [
       "       Name_shop  Data_Start             City       Format  SKU_count\n",
       "0      Пятерочка  2019-01-03           Москва  Продуктовый        500\n",
       "1          Дикси  2018-05-03           Москва  Продуктовый        300\n",
       "2    Перекресток  2017-05-03           Москва  Продуктовый        700\n",
       "3   Азбука Вкуса  2019-06-03           Москва  Продуктовый       1500\n",
       "4       Вкусвилл  2019-05-15           Москва  Продуктовый        250\n",
       "5         Магнит  2010-05-03  Санкт-Петербург  Продуктовый        400\n",
       "6        Летуаль  2011-08-03  Санкт-Петербург      Летуаль       1000\n",
       "7           Zara  2019-01-03           Москва       Одежда       5000\n",
       "8           Ашан  2019-02-03  Санкт-Петербург  Продуктовый        785\n",
       "9         Аптека  2013-05-03          Коломна     Здоровье        250\n",
       "10  Ремонт обуви  2018-09-03          Коломна          NaN        800\n",
       "11       24 Часа  2014-05-03          Коломна       Разное         85\n",
       "12       Пончики  2019-02-04           Шатура  Продуктовый        100\n",
       "13  Хлеб да соль  2015-01-02           Москва  Продуктовый        237"
      ]
     },
     "execution_count": 14,
     "metadata": {},
     "output_type": "execute_result"
    }
   ],
   "source": [
    "dt"
   ]
  },
  {
   "cell_type": "code",
   "execution_count": 15,
   "metadata": {
    "id": "6uToUHRCAwzi",
    "outputId": "d187bea0-327f-4389-b229-2cd11425aa1e"
   },
   "outputs": [
    {
     "data": {
      "text/plain": [
       "array(['yes', 'no', 'no', 'no', 'no', 'no', 'no', 'no', 'yes', 'yes',\n",
       "       'yes', 'no'], dtype='<U3')"
      ]
     },
     "execution_count": 15,
     "metadata": {},
     "output_type": "execute_result"
    }
   ],
   "source": [
    "np.random.choice(['yes', 'no'], 12)"
   ]
  },
  {
   "cell_type": "code",
   "execution_count": null,
   "metadata": {
    "id": "Cw3KszIHAwzm",
    "outputId": "d7314378-dde5-4f3e-ab6a-2850addd62b3"
   },
   "outputs": [
    {
     "data": {
      "text/html": [
       "<div>\n",
       "<style scoped>\n",
       "    .dataframe tbody tr th:only-of-type {\n",
       "        vertical-align: middle;\n",
       "    }\n",
       "\n",
       "    .dataframe tbody tr th {\n",
       "        vertical-align: top;\n",
       "    }\n",
       "\n",
       "    .dataframe thead th {\n",
       "        text-align: right;\n",
       "    }\n",
       "</style>\n",
       "<table border=\"1\" class=\"dataframe\">\n",
       "  <thead>\n",
       "    <tr style=\"text-align: right;\">\n",
       "      <th></th>\n",
       "      <th>Name_shop</th>\n",
       "      <th>Data_Start</th>\n",
       "      <th>City</th>\n",
       "      <th>Format</th>\n",
       "      <th>SKU_count</th>\n",
       "      <th>conkur</th>\n",
       "    </tr>\n",
       "  </thead>\n",
       "  <tbody>\n",
       "    <tr>\n",
       "      <th>0</th>\n",
       "      <td>Пятерочка</td>\n",
       "      <td>2019-01-03</td>\n",
       "      <td>Москва</td>\n",
       "      <td>Продуктовый</td>\n",
       "      <td>500</td>\n",
       "      <td>yes</td>\n",
       "    </tr>\n",
       "    <tr>\n",
       "      <th>1</th>\n",
       "      <td>Дикси</td>\n",
       "      <td>2018-05-03</td>\n",
       "      <td>Москва</td>\n",
       "      <td>Продуктовый</td>\n",
       "      <td>300</td>\n",
       "      <td>no</td>\n",
       "    </tr>\n",
       "    <tr>\n",
       "      <th>2</th>\n",
       "      <td>Перекресток</td>\n",
       "      <td>2017-05-03</td>\n",
       "      <td>Москва</td>\n",
       "      <td>Продуктовый</td>\n",
       "      <td>700</td>\n",
       "      <td>no</td>\n",
       "    </tr>\n",
       "    <tr>\n",
       "      <th>3</th>\n",
       "      <td>Азбука Вкуса</td>\n",
       "      <td>2019-06-03</td>\n",
       "      <td>Москва</td>\n",
       "      <td>Продуктовый</td>\n",
       "      <td>1500</td>\n",
       "      <td>no</td>\n",
       "    </tr>\n",
       "    <tr>\n",
       "      <th>4</th>\n",
       "      <td>Вкусвилл</td>\n",
       "      <td>2019-05-15</td>\n",
       "      <td>Москва</td>\n",
       "      <td>Продуктовый</td>\n",
       "      <td>250</td>\n",
       "      <td>yes</td>\n",
       "    </tr>\n",
       "    <tr>\n",
       "      <th>5</th>\n",
       "      <td>Магнит</td>\n",
       "      <td>2010-05-03</td>\n",
       "      <td>Санкт-Петербург</td>\n",
       "      <td>Продуктовый</td>\n",
       "      <td>400</td>\n",
       "      <td>yes</td>\n",
       "    </tr>\n",
       "    <tr>\n",
       "      <th>6</th>\n",
       "      <td>Летуаль</td>\n",
       "      <td>2011-08-03</td>\n",
       "      <td>Санкт-Петербург</td>\n",
       "      <td>Летуаль</td>\n",
       "      <td>1000</td>\n",
       "      <td>yes</td>\n",
       "    </tr>\n",
       "    <tr>\n",
       "      <th>7</th>\n",
       "      <td>Zara</td>\n",
       "      <td>2019-01-03</td>\n",
       "      <td>Москва</td>\n",
       "      <td>Одежда</td>\n",
       "      <td>5000</td>\n",
       "      <td>no</td>\n",
       "    </tr>\n",
       "    <tr>\n",
       "      <th>8</th>\n",
       "      <td>Ашан</td>\n",
       "      <td>2019-02-03</td>\n",
       "      <td>Санкт-Петербург</td>\n",
       "      <td>Продуктовый</td>\n",
       "      <td>785</td>\n",
       "      <td>yes</td>\n",
       "    </tr>\n",
       "    <tr>\n",
       "      <th>9</th>\n",
       "      <td>Аптека</td>\n",
       "      <td>2013-05-03</td>\n",
       "      <td>Коломна</td>\n",
       "      <td>Здоровье</td>\n",
       "      <td>250</td>\n",
       "      <td>no</td>\n",
       "    </tr>\n",
       "    <tr>\n",
       "      <th>10</th>\n",
       "      <td>Ремонт обуви</td>\n",
       "      <td>2018-09-03</td>\n",
       "      <td>Коломна</td>\n",
       "      <td>NaN</td>\n",
       "      <td>800</td>\n",
       "      <td>no</td>\n",
       "    </tr>\n",
       "    <tr>\n",
       "      <th>11</th>\n",
       "      <td>24 Часа</td>\n",
       "      <td>2014-05-03</td>\n",
       "      <td>Коломна</td>\n",
       "      <td>Разное</td>\n",
       "      <td>85</td>\n",
       "      <td>yes</td>\n",
       "    </tr>\n",
       "    <tr>\n",
       "      <th>12</th>\n",
       "      <td>Пончики</td>\n",
       "      <td>2019-02-04</td>\n",
       "      <td>Шатура</td>\n",
       "      <td>Продуктовый</td>\n",
       "      <td>100</td>\n",
       "      <td>yes</td>\n",
       "    </tr>\n",
       "    <tr>\n",
       "      <th>13</th>\n",
       "      <td>Хлеб да соль</td>\n",
       "      <td>2015-01-02</td>\n",
       "      <td>Москва</td>\n",
       "      <td>Продуктовый</td>\n",
       "      <td>237</td>\n",
       "      <td>no</td>\n",
       "    </tr>\n",
       "  </tbody>\n",
       "</table>\n",
       "</div>"
      ],
      "text/plain": [
       "       Name_shop  Data_Start             City       Format  SKU_count conkur\n",
       "0      Пятерочка  2019-01-03           Москва  Продуктовый        500    yes\n",
       "1          Дикси  2018-05-03           Москва  Продуктовый        300     no\n",
       "2    Перекресток  2017-05-03           Москва  Продуктовый        700     no\n",
       "3   Азбука Вкуса  2019-06-03           Москва  Продуктовый       1500     no\n",
       "4       Вкусвилл  2019-05-15           Москва  Продуктовый        250    yes\n",
       "5         Магнит  2010-05-03  Санкт-Петербург  Продуктовый        400    yes\n",
       "6        Летуаль  2011-08-03  Санкт-Петербург      Летуаль       1000    yes\n",
       "7           Zara  2019-01-03           Москва       Одежда       5000     no\n",
       "8           Ашан  2019-02-03  Санкт-Петербург  Продуктовый        785    yes\n",
       "9         Аптека  2013-05-03          Коломна     Здоровье        250     no\n",
       "10  Ремонт обуви  2018-09-03          Коломна          NaN        800     no\n",
       "11       24 Часа  2014-05-03          Коломна       Разное         85    yes\n",
       "12       Пончики  2019-02-04           Шатура  Продуктовый        100    yes\n",
       "13  Хлеб да соль  2015-01-02           Москва  Продуктовый        237     no"
      ]
     },
     "execution_count": 69,
     "metadata": {},
     "output_type": "execute_result"
    }
   ],
   "source": [
    "#5.\tДобавьте еще один столбец (конкуренты) в вашу таблицу\n",
    "import random\n",
    "dt['conkur'] = np.random.choice(['yes', 'no'], dt.shape[0])\n",
    "dt"
   ]
  },
  {
   "cell_type": "code",
   "execution_count": 1,
   "metadata": {
    "id": "_eD4Uia4Awzn",
    "outputId": "3a3ea3cd-f9c7-450e-8c2b-3b2ecb003e8a"
   },
   "outputs": [
    {
     "ename": "NameError",
     "evalue": "name 'dt' is not defined",
     "output_type": "error",
     "traceback": [
      "\u001B[1;31m---------------------------------------------------------------------------\u001B[0m",
      "\u001B[1;31mNameError\u001B[0m                                 Traceback (most recent call last)",
      "Input \u001B[1;32mIn [1]\u001B[0m, in \u001B[0;36m<module>\u001B[1;34m\u001B[0m\n\u001B[0;32m      1\u001B[0m \u001B[38;5;66;03m#6.\tПересохраните созданную таблицу в новый файл и запустите его\u001B[39;00m\n\u001B[1;32m----> 2\u001B[0m \u001B[43mdt\u001B[49m\u001B[38;5;241m.\u001B[39mto_csv(\u001B[38;5;124m'\u001B[39m\u001B[38;5;124mshops.csv\u001B[39m\u001B[38;5;124m'\u001B[39m, index \u001B[38;5;241m=\u001B[39m \u001B[38;5;28;01mFalse\u001B[39;00m)\n\u001B[0;32m      4\u001B[0m dt \u001B[38;5;241m=\u001B[39m pd\u001B[38;5;241m.\u001B[39mread_csv(\u001B[38;5;124m'\u001B[39m\u001B[38;5;124mshops.csv\u001B[39m\u001B[38;5;124m'\u001B[39m)\n\u001B[0;32m      5\u001B[0m dt\n",
      "\u001B[1;31mNameError\u001B[0m: name 'dt' is not defined"
     ]
    }
   ],
   "source": [
    "#6.\tПересохраните созданную таблицу в новый файл и запустите его\n",
    "dt.to_csv('shops.csv', index = False)\n",
    "\n",
    "dt = pd.read_csv('shops.csv')\n",
    "dt"
   ]
  },
  {
   "cell_type": "code",
   "execution_count": null,
   "metadata": {
    "id": "rZS-_TC9Awzo",
    "outputId": "b0a77831-10b2-4469-cb80-f17e07f709ba"
   },
   "outputs": [
    {
     "data": {
      "text/plain": [
       "Name_shop     object\n",
       "Data_Start    object\n",
       "City          object\n",
       "Format        object\n",
       "SKU_count      int64\n",
       "conkur        object\n",
       "dtype: object"
      ]
     },
     "execution_count": 73,
     "metadata": {},
     "output_type": "execute_result"
    }
   ],
   "source": [
    "#7.\tПосмотрите типы данных всех столбцов\n",
    "dt.dtypes"
   ]
  },
  {
   "cell_type": "code",
   "execution_count": null,
   "metadata": {
    "id": "g3qkLC48Awzo",
    "outputId": "e9617b51-ad18-4ef1-db52-d240ff1af326"
   },
   "outputs": [
    {
     "data": {
      "text/html": [
       "<div>\n",
       "<style scoped>\n",
       "    .dataframe tbody tr th:only-of-type {\n",
       "        vertical-align: middle;\n",
       "    }\n",
       "\n",
       "    .dataframe tbody tr th {\n",
       "        vertical-align: top;\n",
       "    }\n",
       "\n",
       "    .dataframe thead th {\n",
       "        text-align: right;\n",
       "    }\n",
       "</style>\n",
       "<table border=\"1\" class=\"dataframe\">\n",
       "  <thead>\n",
       "    <tr style=\"text-align: right;\">\n",
       "      <th></th>\n",
       "      <th>Name_shop</th>\n",
       "      <th>Data_Start</th>\n",
       "      <th>City</th>\n",
       "      <th>Format</th>\n",
       "      <th>SKU_count</th>\n",
       "      <th>conkur</th>\n",
       "    </tr>\n",
       "  </thead>\n",
       "  <tbody>\n",
       "    <tr>\n",
       "      <th>0</th>\n",
       "      <td>Пятерочка</td>\n",
       "      <td>2019-01-03</td>\n",
       "      <td>Москва</td>\n",
       "      <td>Продуктовый</td>\n",
       "      <td>500</td>\n",
       "      <td>yes</td>\n",
       "    </tr>\n",
       "    <tr>\n",
       "      <th>1</th>\n",
       "      <td>Дикси</td>\n",
       "      <td>2018-05-03</td>\n",
       "      <td>Москва</td>\n",
       "      <td>Продуктовый</td>\n",
       "      <td>300</td>\n",
       "      <td>no</td>\n",
       "    </tr>\n",
       "    <tr>\n",
       "      <th>2</th>\n",
       "      <td>Перекресток</td>\n",
       "      <td>2017-05-03</td>\n",
       "      <td>Москва</td>\n",
       "      <td>Продуктовый</td>\n",
       "      <td>700</td>\n",
       "      <td>no</td>\n",
       "    </tr>\n",
       "    <tr>\n",
       "      <th>3</th>\n",
       "      <td>Азбука Вкуса</td>\n",
       "      <td>2019-06-03</td>\n",
       "      <td>Москва</td>\n",
       "      <td>Продуктовый</td>\n",
       "      <td>1500</td>\n",
       "      <td>no</td>\n",
       "    </tr>\n",
       "    <tr>\n",
       "      <th>4</th>\n",
       "      <td>Вкусвилл</td>\n",
       "      <td>2019-05-15</td>\n",
       "      <td>Москва</td>\n",
       "      <td>Продуктовый</td>\n",
       "      <td>250</td>\n",
       "      <td>yes</td>\n",
       "    </tr>\n",
       "    <tr>\n",
       "      <th>5</th>\n",
       "      <td>Магнит</td>\n",
       "      <td>2010-05-03</td>\n",
       "      <td>Санкт-Петербург</td>\n",
       "      <td>Продуктовый</td>\n",
       "      <td>400</td>\n",
       "      <td>yes</td>\n",
       "    </tr>\n",
       "    <tr>\n",
       "      <th>6</th>\n",
       "      <td>Летуаль</td>\n",
       "      <td>2011-08-03</td>\n",
       "      <td>Санкт-Петербург</td>\n",
       "      <td>Летуаль</td>\n",
       "      <td>1000</td>\n",
       "      <td>yes</td>\n",
       "    </tr>\n",
       "    <tr>\n",
       "      <th>7</th>\n",
       "      <td>Zara</td>\n",
       "      <td>2019-01-03</td>\n",
       "      <td>Москва</td>\n",
       "      <td>Одежда</td>\n",
       "      <td>5000</td>\n",
       "      <td>no</td>\n",
       "    </tr>\n",
       "    <tr>\n",
       "      <th>8</th>\n",
       "      <td>Ашан</td>\n",
       "      <td>2019-02-03</td>\n",
       "      <td>Санкт-Петербург</td>\n",
       "      <td>Продуктовый</td>\n",
       "      <td>785</td>\n",
       "      <td>yes</td>\n",
       "    </tr>\n",
       "    <tr>\n",
       "      <th>9</th>\n",
       "      <td>Аптека</td>\n",
       "      <td>2013-05-03</td>\n",
       "      <td>Коломна</td>\n",
       "      <td>Здоровье</td>\n",
       "      <td>250</td>\n",
       "      <td>no</td>\n",
       "    </tr>\n",
       "    <tr>\n",
       "      <th>10</th>\n",
       "      <td>Ремонт обуви</td>\n",
       "      <td>2018-09-03</td>\n",
       "      <td>Коломна</td>\n",
       "      <td>NaN</td>\n",
       "      <td>800</td>\n",
       "      <td>no</td>\n",
       "    </tr>\n",
       "    <tr>\n",
       "      <th>11</th>\n",
       "      <td>24 Часа</td>\n",
       "      <td>2014-05-03</td>\n",
       "      <td>Коломна</td>\n",
       "      <td>Разное</td>\n",
       "      <td>85</td>\n",
       "      <td>yes</td>\n",
       "    </tr>\n",
       "    <tr>\n",
       "      <th>12</th>\n",
       "      <td>Пончики</td>\n",
       "      <td>2019-02-04</td>\n",
       "      <td>Шатура</td>\n",
       "      <td>Продуктовый</td>\n",
       "      <td>100</td>\n",
       "      <td>yes</td>\n",
       "    </tr>\n",
       "    <tr>\n",
       "      <th>13</th>\n",
       "      <td>Хлеб да соль</td>\n",
       "      <td>2015-01-02</td>\n",
       "      <td>Москва</td>\n",
       "      <td>Продуктовый</td>\n",
       "      <td>237</td>\n",
       "      <td>no</td>\n",
       "    </tr>\n",
       "  </tbody>\n",
       "</table>\n",
       "</div>"
      ],
      "text/plain": [
       "       Name_shop Data_Start             City       Format  SKU_count conkur\n",
       "0      Пятерочка 2019-01-03           Москва  Продуктовый        500    yes\n",
       "1          Дикси 2018-05-03           Москва  Продуктовый        300     no\n",
       "2    Перекресток 2017-05-03           Москва  Продуктовый        700     no\n",
       "3   Азбука Вкуса 2019-06-03           Москва  Продуктовый       1500     no\n",
       "4       Вкусвилл 2019-05-15           Москва  Продуктовый        250    yes\n",
       "5         Магнит 2010-05-03  Санкт-Петербург  Продуктовый        400    yes\n",
       "6        Летуаль 2011-08-03  Санкт-Петербург      Летуаль       1000    yes\n",
       "7           Zara 2019-01-03           Москва       Одежда       5000     no\n",
       "8           Ашан 2019-02-03  Санкт-Петербург  Продуктовый        785    yes\n",
       "9         Аптека 2013-05-03          Коломна     Здоровье        250     no\n",
       "10  Ремонт обуви 2018-09-03          Коломна          NaN        800     no\n",
       "11       24 Часа 2014-05-03          Коломна       Разное         85    yes\n",
       "12       Пончики 2019-02-04           Шатура  Продуктовый        100    yes\n",
       "13  Хлеб да соль 2015-01-02           Москва  Продуктовый        237     no"
      ]
     },
     "execution_count": 75,
     "metadata": {},
     "output_type": "execute_result"
    }
   ],
   "source": [
    "#8.\tСтолбец, где отражается дата открытия магазина сделайте формата datetime\n",
    "dt.Data_Start = pd.to_datetime(dt.Data_Start)\n",
    "dt"
   ]
  },
  {
   "cell_type": "code",
   "execution_count": null,
   "metadata": {
    "id": "CfXwBjLiAwzp",
    "outputId": "c1ecfafa-127d-4011-f530-6d0bc964840c"
   },
   "outputs": [
    {
     "data": {
      "text/plain": [
       "Name_shop             object\n",
       "Data_Start    datetime64[ns]\n",
       "City                  object\n",
       "Format                object\n",
       "SKU_count              int64\n",
       "conkur                object\n",
       "dtype: object"
      ]
     },
     "execution_count": 76,
     "metadata": {},
     "output_type": "execute_result"
    }
   ],
   "source": [
    "#9.\tПроверьте правильность переформатирования\n",
    "dt.dtypes"
   ]
  },
  {
   "cell_type": "code",
   "execution_count": null,
   "metadata": {
    "id": "QpTQ2gFTAwzp"
   },
   "outputs": [],
   "source": [
    "#10.\tПустые значения столбца Формат поменяйте на Супермаркет\n",
    "dt.Format.fillna('Супермаркет', inplace = True)"
   ]
  },
  {
   "cell_type": "code",
   "execution_count": null,
   "metadata": {
    "id": "Ntec5eGnAwzq",
    "outputId": "785dca6a-ea45-4aa1-c330-4e62b9baf2c2"
   },
   "outputs": [
    {
     "data": {
      "text/plain": [
       "0     Продуктовый\n",
       "1     Продуктовый\n",
       "2     Продуктовый\n",
       "3     Продуктовый\n",
       "4     Продуктовый\n",
       "5     Продуктовый\n",
       "6         Летуаль\n",
       "7          Одежда\n",
       "8     Продуктовый\n",
       "9        Здоровье\n",
       "10    Супермаркет\n",
       "11         Разное\n",
       "12    Продуктовый\n",
       "13    Продуктовый\n",
       "Name: Format, dtype: object"
      ]
     },
     "execution_count": 79,
     "metadata": {},
     "output_type": "execute_result"
    }
   ],
   "source": [
    "#11.\tВыведите значения только столбца Формат\n",
    "dt.Format"
   ]
  },
  {
   "cell_type": "code",
   "execution_count": null,
   "metadata": {
    "id": "WJ1zf-Q8Awzq",
    "outputId": "0fe669b3-60e4-4067-8e93-66b5d0e99b2f"
   },
   "outputs": [
    {
     "data": {
      "text/html": [
       "<div>\n",
       "<style scoped>\n",
       "    .dataframe tbody tr th:only-of-type {\n",
       "        vertical-align: middle;\n",
       "    }\n",
       "\n",
       "    .dataframe tbody tr th {\n",
       "        vertical-align: top;\n",
       "    }\n",
       "\n",
       "    .dataframe thead th {\n",
       "        text-align: right;\n",
       "    }\n",
       "</style>\n",
       "<table border=\"1\" class=\"dataframe\">\n",
       "  <thead>\n",
       "    <tr style=\"text-align: right;\">\n",
       "      <th></th>\n",
       "      <th>Name_shop</th>\n",
       "      <th>Format</th>\n",
       "    </tr>\n",
       "  </thead>\n",
       "  <tbody>\n",
       "    <tr>\n",
       "      <th>0</th>\n",
       "      <td>Пятерочка</td>\n",
       "      <td>Продуктовый</td>\n",
       "    </tr>\n",
       "    <tr>\n",
       "      <th>1</th>\n",
       "      <td>Дикси</td>\n",
       "      <td>Продуктовый</td>\n",
       "    </tr>\n",
       "    <tr>\n",
       "      <th>2</th>\n",
       "      <td>Перекресток</td>\n",
       "      <td>Продуктовый</td>\n",
       "    </tr>\n",
       "    <tr>\n",
       "      <th>3</th>\n",
       "      <td>Азбука Вкуса</td>\n",
       "      <td>Продуктовый</td>\n",
       "    </tr>\n",
       "    <tr>\n",
       "      <th>4</th>\n",
       "      <td>Вкусвилл</td>\n",
       "      <td>Продуктовый</td>\n",
       "    </tr>\n",
       "    <tr>\n",
       "      <th>5</th>\n",
       "      <td>Магнит</td>\n",
       "      <td>Продуктовый</td>\n",
       "    </tr>\n",
       "    <tr>\n",
       "      <th>6</th>\n",
       "      <td>Летуаль</td>\n",
       "      <td>Летуаль</td>\n",
       "    </tr>\n",
       "    <tr>\n",
       "      <th>7</th>\n",
       "      <td>Zara</td>\n",
       "      <td>Одежда</td>\n",
       "    </tr>\n",
       "    <tr>\n",
       "      <th>8</th>\n",
       "      <td>Ашан</td>\n",
       "      <td>Продуктовый</td>\n",
       "    </tr>\n",
       "    <tr>\n",
       "      <th>9</th>\n",
       "      <td>Аптека</td>\n",
       "      <td>Здоровье</td>\n",
       "    </tr>\n",
       "    <tr>\n",
       "      <th>10</th>\n",
       "      <td>Ремонт обуви</td>\n",
       "      <td>Супермаркет</td>\n",
       "    </tr>\n",
       "    <tr>\n",
       "      <th>11</th>\n",
       "      <td>24 Часа</td>\n",
       "      <td>Разное</td>\n",
       "    </tr>\n",
       "    <tr>\n",
       "      <th>12</th>\n",
       "      <td>Пончики</td>\n",
       "      <td>Продуктовый</td>\n",
       "    </tr>\n",
       "    <tr>\n",
       "      <th>13</th>\n",
       "      <td>Хлеб да соль</td>\n",
       "      <td>Продуктовый</td>\n",
       "    </tr>\n",
       "  </tbody>\n",
       "</table>\n",
       "</div>"
      ],
      "text/plain": [
       "       Name_shop       Format\n",
       "0      Пятерочка  Продуктовый\n",
       "1          Дикси  Продуктовый\n",
       "2    Перекресток  Продуктовый\n",
       "3   Азбука Вкуса  Продуктовый\n",
       "4       Вкусвилл  Продуктовый\n",
       "5         Магнит  Продуктовый\n",
       "6        Летуаль      Летуаль\n",
       "7           Zara       Одежда\n",
       "8           Ашан  Продуктовый\n",
       "9         Аптека     Здоровье\n",
       "10  Ремонт обуви  Супермаркет\n",
       "11       24 Часа       Разное\n",
       "12       Пончики  Продуктовый\n",
       "13  Хлеб да соль  Продуктовый"
      ]
     },
     "execution_count": 80,
     "metadata": {},
     "output_type": "execute_result"
    }
   ],
   "source": [
    "#12.\tВыведите значения двух столбцов: название магазина и формат\n",
    "dt[['Name_shop', 'Format']]"
   ]
  },
  {
   "cell_type": "code",
   "execution_count": null,
   "metadata": {
    "id": "mnXAL8SEAwzr",
    "outputId": "9f2696ff-0208-4401-d296-9033d6a68e92"
   },
   "outputs": [
    {
     "data": {
      "text/html": [
       "<div>\n",
       "<style scoped>\n",
       "    .dataframe tbody tr th:only-of-type {\n",
       "        vertical-align: middle;\n",
       "    }\n",
       "\n",
       "    .dataframe tbody tr th {\n",
       "        vertical-align: top;\n",
       "    }\n",
       "\n",
       "    .dataframe thead th {\n",
       "        text-align: right;\n",
       "    }\n",
       "</style>\n",
       "<table border=\"1\" class=\"dataframe\">\n",
       "  <thead>\n",
       "    <tr style=\"text-align: right;\">\n",
       "      <th></th>\n",
       "      <th>Name_shop</th>\n",
       "      <th>Data_Start</th>\n",
       "      <th>City</th>\n",
       "      <th>Format</th>\n",
       "      <th>SKU_count</th>\n",
       "      <th>conkur</th>\n",
       "    </tr>\n",
       "  </thead>\n",
       "  <tbody>\n",
       "    <tr>\n",
       "      <th>0</th>\n",
       "      <td>Пятерочка</td>\n",
       "      <td>2019-01-03</td>\n",
       "      <td>Москва</td>\n",
       "      <td>Продуктовый</td>\n",
       "      <td>500</td>\n",
       "      <td>yes</td>\n",
       "    </tr>\n",
       "    <tr>\n",
       "      <th>1</th>\n",
       "      <td>Дикси</td>\n",
       "      <td>2018-05-03</td>\n",
       "      <td>Москва</td>\n",
       "      <td>Продуктовый</td>\n",
       "      <td>300</td>\n",
       "      <td>no</td>\n",
       "    </tr>\n",
       "    <tr>\n",
       "      <th>2</th>\n",
       "      <td>Перекресток</td>\n",
       "      <td>2017-05-03</td>\n",
       "      <td>Москва</td>\n",
       "      <td>Продуктовый</td>\n",
       "      <td>700</td>\n",
       "      <td>no</td>\n",
       "    </tr>\n",
       "    <tr>\n",
       "      <th>3</th>\n",
       "      <td>Азбука Вкуса</td>\n",
       "      <td>2019-06-03</td>\n",
       "      <td>Москва</td>\n",
       "      <td>Продуктовый</td>\n",
       "      <td>1500</td>\n",
       "      <td>no</td>\n",
       "    </tr>\n",
       "    <tr>\n",
       "      <th>4</th>\n",
       "      <td>Вкусвилл</td>\n",
       "      <td>2019-05-15</td>\n",
       "      <td>Москва</td>\n",
       "      <td>Продуктовый</td>\n",
       "      <td>250</td>\n",
       "      <td>yes</td>\n",
       "    </tr>\n",
       "  </tbody>\n",
       "</table>\n",
       "</div>"
      ],
      "text/plain": [
       "      Name_shop Data_Start    City       Format  SKU_count conkur\n",
       "0     Пятерочка 2019-01-03  Москва  Продуктовый        500    yes\n",
       "1         Дикси 2018-05-03  Москва  Продуктовый        300     no\n",
       "2   Перекресток 2017-05-03  Москва  Продуктовый        700     no\n",
       "3  Азбука Вкуса 2019-06-03  Москва  Продуктовый       1500     no\n",
       "4      Вкусвилл 2019-05-15  Москва  Продуктовый        250    yes"
      ]
     },
     "execution_count": 81,
     "metadata": {},
     "output_type": "execute_result"
    }
   ],
   "source": [
    "#13.\tВыведите только первые строки вашей таблицы \n",
    "dt.head()"
   ]
  },
  {
   "cell_type": "code",
   "execution_count": null,
   "metadata": {
    "id": "rAOU_hrCAwzr",
    "outputId": "79fa59a5-e4bd-4dc4-f879-e53d916841db"
   },
   "outputs": [
    {
     "data": {
      "text/html": [
       "<div>\n",
       "<style scoped>\n",
       "    .dataframe tbody tr th:only-of-type {\n",
       "        vertical-align: middle;\n",
       "    }\n",
       "\n",
       "    .dataframe tbody tr th {\n",
       "        vertical-align: top;\n",
       "    }\n",
       "\n",
       "    .dataframe thead th {\n",
       "        text-align: right;\n",
       "    }\n",
       "</style>\n",
       "<table border=\"1\" class=\"dataframe\">\n",
       "  <thead>\n",
       "    <tr style=\"text-align: right;\">\n",
       "      <th></th>\n",
       "      <th>Name_shop</th>\n",
       "      <th>Data_Start</th>\n",
       "      <th>City</th>\n",
       "      <th>Format</th>\n",
       "      <th>SKU_count</th>\n",
       "      <th>conkur</th>\n",
       "    </tr>\n",
       "  </thead>\n",
       "  <tbody>\n",
       "    <tr>\n",
       "      <th>9</th>\n",
       "      <td>Аптека</td>\n",
       "      <td>2013-05-03</td>\n",
       "      <td>Коломна</td>\n",
       "      <td>Здоровье</td>\n",
       "      <td>250</td>\n",
       "      <td>no</td>\n",
       "    </tr>\n",
       "    <tr>\n",
       "      <th>10</th>\n",
       "      <td>Ремонт обуви</td>\n",
       "      <td>2018-09-03</td>\n",
       "      <td>Коломна</td>\n",
       "      <td>Супермаркет</td>\n",
       "      <td>800</td>\n",
       "      <td>no</td>\n",
       "    </tr>\n",
       "    <tr>\n",
       "      <th>11</th>\n",
       "      <td>24 Часа</td>\n",
       "      <td>2014-05-03</td>\n",
       "      <td>Коломна</td>\n",
       "      <td>Разное</td>\n",
       "      <td>85</td>\n",
       "      <td>yes</td>\n",
       "    </tr>\n",
       "    <tr>\n",
       "      <th>12</th>\n",
       "      <td>Пончики</td>\n",
       "      <td>2019-02-04</td>\n",
       "      <td>Шатура</td>\n",
       "      <td>Продуктовый</td>\n",
       "      <td>100</td>\n",
       "      <td>yes</td>\n",
       "    </tr>\n",
       "    <tr>\n",
       "      <th>13</th>\n",
       "      <td>Хлеб да соль</td>\n",
       "      <td>2015-01-02</td>\n",
       "      <td>Москва</td>\n",
       "      <td>Продуктовый</td>\n",
       "      <td>237</td>\n",
       "      <td>no</td>\n",
       "    </tr>\n",
       "  </tbody>\n",
       "</table>\n",
       "</div>"
      ],
      "text/plain": [
       "       Name_shop Data_Start     City       Format  SKU_count conkur\n",
       "9         Аптека 2013-05-03  Коломна     Здоровье        250     no\n",
       "10  Ремонт обуви 2018-09-03  Коломна  Супермаркет        800     no\n",
       "11       24 Часа 2014-05-03  Коломна       Разное         85    yes\n",
       "12       Пончики 2019-02-04   Шатура  Продуктовый        100    yes\n",
       "13  Хлеб да соль 2015-01-02   Москва  Продуктовый        237     no"
      ]
     },
     "execution_count": 84,
     "metadata": {},
     "output_type": "execute_result"
    }
   ],
   "source": [
    "#14.\tВыведите последние строки вашей таблицы (tail)\n",
    "dt.tail()"
   ]
  },
  {
   "cell_type": "code",
   "execution_count": null,
   "metadata": {
    "id": "6r89LkFdAwzs",
    "outputId": "4a65c3d6-6b53-4774-d39c-40a8916a2015"
   },
   "outputs": [
    {
     "data": {
      "text/html": [
       "<div>\n",
       "<style scoped>\n",
       "    .dataframe tbody tr th:only-of-type {\n",
       "        vertical-align: middle;\n",
       "    }\n",
       "\n",
       "    .dataframe tbody tr th {\n",
       "        vertical-align: top;\n",
       "    }\n",
       "\n",
       "    .dataframe thead th {\n",
       "        text-align: right;\n",
       "    }\n",
       "</style>\n",
       "<table border=\"1\" class=\"dataframe\">\n",
       "  <thead>\n",
       "    <tr style=\"text-align: right;\">\n",
       "      <th></th>\n",
       "      <th>Name_shop</th>\n",
       "      <th>Data_Start</th>\n",
       "      <th>City</th>\n",
       "      <th>Format</th>\n",
       "      <th>SKU_count</th>\n",
       "      <th>conkur</th>\n",
       "    </tr>\n",
       "  </thead>\n",
       "  <tbody>\n",
       "    <tr>\n",
       "      <th>0</th>\n",
       "      <td>Пятерочка</td>\n",
       "      <td>2019-01-03</td>\n",
       "      <td>Москва</td>\n",
       "      <td>Продуктовый</td>\n",
       "      <td>500</td>\n",
       "      <td>yes</td>\n",
       "    </tr>\n",
       "    <tr>\n",
       "      <th>1</th>\n",
       "      <td>Дикси</td>\n",
       "      <td>2018-05-03</td>\n",
       "      <td>Москва</td>\n",
       "      <td>Продуктовый</td>\n",
       "      <td>300</td>\n",
       "      <td>no</td>\n",
       "    </tr>\n",
       "  </tbody>\n",
       "</table>\n",
       "</div>"
      ],
      "text/plain": [
       "   Name_shop Data_Start    City       Format  SKU_count conkur\n",
       "0  Пятерочка 2019-01-03  Москва  Продуктовый        500    yes\n",
       "1      Дикси 2018-05-03  Москва  Продуктовый        300     no"
      ]
     },
     "execution_count": 85,
     "metadata": {},
     "output_type": "execute_result"
    }
   ],
   "source": [
    "#15.\tВыведите первые два значения таблицы\n",
    "dt[0:2]"
   ]
  },
  {
   "cell_type": "code",
   "execution_count": null,
   "metadata": {
    "id": "VXqFxZqqAwzs",
    "outputId": "19099bbd-e7e0-433a-c17d-84c84484d5b8"
   },
   "outputs": [
    {
     "data": {
      "text/html": [
       "<div>\n",
       "<style scoped>\n",
       "    .dataframe tbody tr th:only-of-type {\n",
       "        vertical-align: middle;\n",
       "    }\n",
       "\n",
       "    .dataframe tbody tr th {\n",
       "        vertical-align: top;\n",
       "    }\n",
       "\n",
       "    .dataframe thead th {\n",
       "        text-align: right;\n",
       "    }\n",
       "</style>\n",
       "<table border=\"1\" class=\"dataframe\">\n",
       "  <thead>\n",
       "    <tr style=\"text-align: right;\">\n",
       "      <th></th>\n",
       "      <th>Name_shop</th>\n",
       "      <th>Data_Start</th>\n",
       "      <th>City</th>\n",
       "      <th>Format</th>\n",
       "      <th>SKU_count</th>\n",
       "      <th>conkur</th>\n",
       "    </tr>\n",
       "  </thead>\n",
       "  <tbody>\n",
       "    <tr>\n",
       "      <th>11</th>\n",
       "      <td>24 Часа</td>\n",
       "      <td>2014-05-03</td>\n",
       "      <td>Коломна</td>\n",
       "      <td>Разное</td>\n",
       "      <td>85</td>\n",
       "      <td>yes</td>\n",
       "    </tr>\n",
       "    <tr>\n",
       "      <th>12</th>\n",
       "      <td>Пончики</td>\n",
       "      <td>2019-02-04</td>\n",
       "      <td>Шатура</td>\n",
       "      <td>Продуктовый</td>\n",
       "      <td>100</td>\n",
       "      <td>yes</td>\n",
       "    </tr>\n",
       "    <tr>\n",
       "      <th>13</th>\n",
       "      <td>Хлеб да соль</td>\n",
       "      <td>2015-01-02</td>\n",
       "      <td>Москва</td>\n",
       "      <td>Продуктовый</td>\n",
       "      <td>237</td>\n",
       "      <td>no</td>\n",
       "    </tr>\n",
       "  </tbody>\n",
       "</table>\n",
       "</div>"
      ],
      "text/plain": [
       "       Name_shop Data_Start     City       Format  SKU_count conkur\n",
       "11       24 Часа 2014-05-03  Коломна       Разное         85    yes\n",
       "12       Пончики 2019-02-04   Шатура  Продуктовый        100    yes\n",
       "13  Хлеб да соль 2015-01-02   Москва  Продуктовый        237     no"
      ]
     },
     "execution_count": 89,
     "metadata": {},
     "output_type": "execute_result"
    }
   ],
   "source": [
    "#16.\tВыведите последние три значения таблицы\n",
    "dt[-3:]"
   ]
  },
  {
   "cell_type": "code",
   "execution_count": null,
   "metadata": {
    "id": "Em_pj11_Awzt",
    "outputId": "e5da7914-3afb-4feb-f5c9-426d6571236c"
   },
   "outputs": [
    {
     "data": {
      "text/html": [
       "<div>\n",
       "<style scoped>\n",
       "    .dataframe tbody tr th:only-of-type {\n",
       "        vertical-align: middle;\n",
       "    }\n",
       "\n",
       "    .dataframe tbody tr th {\n",
       "        vertical-align: top;\n",
       "    }\n",
       "\n",
       "    .dataframe thead th {\n",
       "        text-align: right;\n",
       "    }\n",
       "</style>\n",
       "<table border=\"1\" class=\"dataframe\">\n",
       "  <thead>\n",
       "    <tr style=\"text-align: right;\">\n",
       "      <th></th>\n",
       "      <th>Name_shop</th>\n",
       "      <th>City</th>\n",
       "    </tr>\n",
       "  </thead>\n",
       "  <tbody>\n",
       "    <tr>\n",
       "      <th>1</th>\n",
       "      <td>Дикси</td>\n",
       "      <td>Москва</td>\n",
       "    </tr>\n",
       "    <tr>\n",
       "      <th>3</th>\n",
       "      <td>Азбука Вкуса</td>\n",
       "      <td>Москва</td>\n",
       "    </tr>\n",
       "    <tr>\n",
       "      <th>8</th>\n",
       "      <td>Ашан</td>\n",
       "      <td>Санкт-Петербург</td>\n",
       "    </tr>\n",
       "  </tbody>\n",
       "</table>\n",
       "</div>"
      ],
      "text/plain": [
       "      Name_shop             City\n",
       "1         Дикси           Москва\n",
       "3  Азбука Вкуса           Москва\n",
       "8          Ашан  Санкт-Петербург"
      ]
     },
     "execution_count": 90,
     "metadata": {},
     "output_type": "execute_result"
    }
   ],
   "source": [
    "#17.\tВыведите значение столбцов Название и Город 1,3 и 8 строк таблицы\n",
    "dt[['Name_shop', 'City']].iloc[[1, 3, 8]]"
   ]
  },
  {
   "cell_type": "code",
   "execution_count": null,
   "metadata": {
    "id": "Yn9LCydQAwzt",
    "outputId": "756f06a8-e0a3-4da4-9041-95fd06121ae4"
   },
   "outputs": [
    {
     "data": {
      "text/html": [
       "<div>\n",
       "<style scoped>\n",
       "    .dataframe tbody tr th:only-of-type {\n",
       "        vertical-align: middle;\n",
       "    }\n",
       "\n",
       "    .dataframe tbody tr th {\n",
       "        vertical-align: top;\n",
       "    }\n",
       "\n",
       "    .dataframe thead th {\n",
       "        text-align: right;\n",
       "    }\n",
       "</style>\n",
       "<table border=\"1\" class=\"dataframe\">\n",
       "  <thead>\n",
       "    <tr style=\"text-align: right;\">\n",
       "      <th></th>\n",
       "      <th>Name_shop</th>\n",
       "      <th>City</th>\n",
       "    </tr>\n",
       "  </thead>\n",
       "  <tbody>\n",
       "    <tr>\n",
       "      <th>1</th>\n",
       "      <td>Дикси</td>\n",
       "      <td>Москва</td>\n",
       "    </tr>\n",
       "    <tr>\n",
       "      <th>3</th>\n",
       "      <td>Азбука Вкуса</td>\n",
       "      <td>Москва</td>\n",
       "    </tr>\n",
       "    <tr>\n",
       "      <th>8</th>\n",
       "      <td>Ашан</td>\n",
       "      <td>Санкт-Петербург</td>\n",
       "    </tr>\n",
       "  </tbody>\n",
       "</table>\n",
       "</div>"
      ],
      "text/plain": [
       "      Name_shop             City\n",
       "1         Дикси           Москва\n",
       "3  Азбука Вкуса           Москва\n",
       "8          Ашан  Санкт-Петербург"
      ]
     },
     "execution_count": 98,
     "metadata": {},
     "output_type": "execute_result"
    }
   ],
   "source": [
    "#18.\tВыведите значение столбцов Название и Город 1,3 и 8 строк таблицы, используя только индексы\n",
    "dt.iloc[[1, 3, 8], [0, 2]]"
   ]
  },
  {
   "cell_type": "code",
   "execution_count": null,
   "metadata": {
    "id": "G-eZ5_1QAwzu",
    "outputId": "c2c21db9-a00b-42f0-df30-e97f519a6bd9"
   },
   "outputs": [
    {
     "data": {
      "text/html": [
       "<div>\n",
       "<style scoped>\n",
       "    .dataframe tbody tr th:only-of-type {\n",
       "        vertical-align: middle;\n",
       "    }\n",
       "\n",
       "    .dataframe tbody tr th {\n",
       "        vertical-align: top;\n",
       "    }\n",
       "\n",
       "    .dataframe thead th {\n",
       "        text-align: right;\n",
       "    }\n",
       "</style>\n",
       "<table border=\"1\" class=\"dataframe\">\n",
       "  <thead>\n",
       "    <tr style=\"text-align: right;\">\n",
       "      <th></th>\n",
       "      <th>Name_shop</th>\n",
       "      <th>Data_Start</th>\n",
       "      <th>City</th>\n",
       "      <th>Format</th>\n",
       "      <th>SKU_count</th>\n",
       "      <th>conkur</th>\n",
       "    </tr>\n",
       "  </thead>\n",
       "  <tbody>\n",
       "    <tr>\n",
       "      <th>0</th>\n",
       "      <td>Пятерочка</td>\n",
       "      <td>2019-01-03</td>\n",
       "      <td>Москва</td>\n",
       "      <td>Продуктовый</td>\n",
       "      <td>500</td>\n",
       "      <td>yes</td>\n",
       "    </tr>\n",
       "    <tr>\n",
       "      <th>1</th>\n",
       "      <td>Дикси</td>\n",
       "      <td>2018-05-03</td>\n",
       "      <td>Москва</td>\n",
       "      <td>Продуктовый</td>\n",
       "      <td>300</td>\n",
       "      <td>no</td>\n",
       "    </tr>\n",
       "    <tr>\n",
       "      <th>2</th>\n",
       "      <td>Перекресток</td>\n",
       "      <td>2017-05-03</td>\n",
       "      <td>Москва</td>\n",
       "      <td>Продуктовый</td>\n",
       "      <td>700</td>\n",
       "      <td>no</td>\n",
       "    </tr>\n",
       "    <tr>\n",
       "      <th>3</th>\n",
       "      <td>Азбука Вкуса</td>\n",
       "      <td>2019-06-03</td>\n",
       "      <td>Москва</td>\n",
       "      <td>Продуктовый</td>\n",
       "      <td>1500</td>\n",
       "      <td>no</td>\n",
       "    </tr>\n",
       "    <tr>\n",
       "      <th>4</th>\n",
       "      <td>Вкусвилл</td>\n",
       "      <td>2019-05-15</td>\n",
       "      <td>Москва</td>\n",
       "      <td>Продуктовый</td>\n",
       "      <td>250</td>\n",
       "      <td>yes</td>\n",
       "    </tr>\n",
       "    <tr>\n",
       "      <th>7</th>\n",
       "      <td>Zara</td>\n",
       "      <td>2019-01-03</td>\n",
       "      <td>Москва</td>\n",
       "      <td>Одежда</td>\n",
       "      <td>5000</td>\n",
       "      <td>no</td>\n",
       "    </tr>\n",
       "    <tr>\n",
       "      <th>8</th>\n",
       "      <td>Ашан</td>\n",
       "      <td>2019-02-03</td>\n",
       "      <td>Санкт-Петербург</td>\n",
       "      <td>Продуктовый</td>\n",
       "      <td>785</td>\n",
       "      <td>yes</td>\n",
       "    </tr>\n",
       "    <tr>\n",
       "      <th>10</th>\n",
       "      <td>Ремонт обуви</td>\n",
       "      <td>2018-09-03</td>\n",
       "      <td>Коломна</td>\n",
       "      <td>Супермаркет</td>\n",
       "      <td>800</td>\n",
       "      <td>no</td>\n",
       "    </tr>\n",
       "    <tr>\n",
       "      <th>12</th>\n",
       "      <td>Пончики</td>\n",
       "      <td>2019-02-04</td>\n",
       "      <td>Шатура</td>\n",
       "      <td>Продуктовый</td>\n",
       "      <td>100</td>\n",
       "      <td>yes</td>\n",
       "    </tr>\n",
       "    <tr>\n",
       "      <th>13</th>\n",
       "      <td>Хлеб да соль</td>\n",
       "      <td>2015-01-02</td>\n",
       "      <td>Москва</td>\n",
       "      <td>Продуктовый</td>\n",
       "      <td>237</td>\n",
       "      <td>no</td>\n",
       "    </tr>\n",
       "  </tbody>\n",
       "</table>\n",
       "</div>"
      ],
      "text/plain": [
       "       Name_shop Data_Start             City       Format  SKU_count conkur\n",
       "0      Пятерочка 2019-01-03           Москва  Продуктовый        500    yes\n",
       "1          Дикси 2018-05-03           Москва  Продуктовый        300     no\n",
       "2    Перекресток 2017-05-03           Москва  Продуктовый        700     no\n",
       "3   Азбука Вкуса 2019-06-03           Москва  Продуктовый       1500     no\n",
       "4       Вкусвилл 2019-05-15           Москва  Продуктовый        250    yes\n",
       "7           Zara 2019-01-03           Москва       Одежда       5000     no\n",
       "8           Ашан 2019-02-03  Санкт-Петербург  Продуктовый        785    yes\n",
       "10  Ремонт обуви 2018-09-03          Коломна  Супермаркет        800     no\n",
       "12       Пончики 2019-02-04           Шатура  Продуктовый        100    yes\n",
       "13  Хлеб да соль 2015-01-02           Москва  Продуктовый        237     no"
      ]
     },
     "execution_count": 93,
     "metadata": {},
     "output_type": "execute_result"
    }
   ],
   "source": [
    "#19.\tВыведите только те строки таблицы, даты создания магазина которых последние «пять» лет \n",
    "dt[dt.Data_Start > '2014-09-09']"
   ]
  },
  {
   "cell_type": "code",
   "execution_count": null,
   "metadata": {
    "id": "JBmOCqTWAwzu",
    "outputId": "217f3dd3-2161-40a7-9e16-e3e0a2b89bb6"
   },
   "outputs": [
    {
     "data": {
      "text/html": [
       "<div>\n",
       "<style scoped>\n",
       "    .dataframe tbody tr th:only-of-type {\n",
       "        vertical-align: middle;\n",
       "    }\n",
       "\n",
       "    .dataframe tbody tr th {\n",
       "        vertical-align: top;\n",
       "    }\n",
       "\n",
       "    .dataframe thead th {\n",
       "        text-align: right;\n",
       "    }\n",
       "</style>\n",
       "<table border=\"1\" class=\"dataframe\">\n",
       "  <thead>\n",
       "    <tr style=\"text-align: right;\">\n",
       "      <th></th>\n",
       "      <th>Name_shop</th>\n",
       "      <th>Data_Start</th>\n",
       "      <th>City</th>\n",
       "      <th>Format</th>\n",
       "      <th>SKU_count</th>\n",
       "      <th>conkur</th>\n",
       "    </tr>\n",
       "  </thead>\n",
       "  <tbody>\n",
       "    <tr>\n",
       "      <th>8</th>\n",
       "      <td>Ашан</td>\n",
       "      <td>2019-02-03</td>\n",
       "      <td>Санкт-Петербург</td>\n",
       "      <td>Продуктовый</td>\n",
       "      <td>785</td>\n",
       "      <td>yes</td>\n",
       "    </tr>\n",
       "    <tr>\n",
       "      <th>10</th>\n",
       "      <td>Ремонт обуви</td>\n",
       "      <td>2018-09-03</td>\n",
       "      <td>Коломна</td>\n",
       "      <td>Супермаркет</td>\n",
       "      <td>800</td>\n",
       "      <td>no</td>\n",
       "    </tr>\n",
       "    <tr>\n",
       "      <th>12</th>\n",
       "      <td>Пончики</td>\n",
       "      <td>2019-02-04</td>\n",
       "      <td>Шатура</td>\n",
       "      <td>Продуктовый</td>\n",
       "      <td>100</td>\n",
       "      <td>yes</td>\n",
       "    </tr>\n",
       "  </tbody>\n",
       "</table>\n",
       "</div>"
      ],
      "text/plain": [
       "       Name_shop Data_Start             City       Format  SKU_count conkur\n",
       "8           Ашан 2019-02-03  Санкт-Петербург  Продуктовый        785    yes\n",
       "10  Ремонт обуви 2018-09-03          Коломна  Супермаркет        800     no\n",
       "12       Пончики 2019-02-04           Шатура  Продуктовый        100    yes"
      ]
     },
     "execution_count": 95,
     "metadata": {},
     "output_type": "execute_result"
    }
   ],
   "source": [
    "#20.\tВыведите только те строки значения таблицы, \n",
    "#даты создания магазина которых последние «пять лет» и они находятся не в Москве\n",
    "dt[(dt.Data_Start > '2014-09-09')&(dt.City != 'Москва')]"
   ]
  },
  {
   "cell_type": "code",
   "execution_count": null,
   "metadata": {
    "id": "qOir1blZAwzv",
    "outputId": "71ecd5c2-e6a2-49e5-b586-1370c44e648c"
   },
   "outputs": [
    {
     "data": {
      "text/html": [
       "<div>\n",
       "<style scoped>\n",
       "    .dataframe tbody tr th:only-of-type {\n",
       "        vertical-align: middle;\n",
       "    }\n",
       "\n",
       "    .dataframe tbody tr th {\n",
       "        vertical-align: top;\n",
       "    }\n",
       "\n",
       "    .dataframe thead th {\n",
       "        text-align: right;\n",
       "    }\n",
       "</style>\n",
       "<table border=\"1\" class=\"dataframe\">\n",
       "  <thead>\n",
       "    <tr style=\"text-align: right;\">\n",
       "      <th></th>\n",
       "      <th>Name_shop</th>\n",
       "      <th>Data_Start</th>\n",
       "      <th>City</th>\n",
       "      <th>Format</th>\n",
       "      <th>SKU_count</th>\n",
       "      <th>conkur</th>\n",
       "    </tr>\n",
       "  </thead>\n",
       "  <tbody>\n",
       "    <tr>\n",
       "      <th>3</th>\n",
       "      <td>Азбука Вкуса</td>\n",
       "      <td>2019-06-03</td>\n",
       "      <td>Москва</td>\n",
       "      <td>Продуктовый</td>\n",
       "      <td>1500</td>\n",
       "      <td>no</td>\n",
       "    </tr>\n",
       "    <tr>\n",
       "      <th>7</th>\n",
       "      <td>Zara</td>\n",
       "      <td>2019-01-03</td>\n",
       "      <td>Москва</td>\n",
       "      <td>Одежда</td>\n",
       "      <td>5000</td>\n",
       "      <td>no</td>\n",
       "    </tr>\n",
       "  </tbody>\n",
       "</table>\n",
       "</div>"
      ],
      "text/plain": [
       "      Name_shop Data_Start    City       Format  SKU_count conkur\n",
       "3  Азбука Вкуса 2019-06-03  Москва  Продуктовый       1500     no\n",
       "7          Zara 2019-01-03  Москва       Одежда       5000     no"
      ]
     },
     "execution_count": 96,
     "metadata": {},
     "output_type": "execute_result"
    }
   ],
   "source": [
    "#21.\tВыведите только те строки значения таблицы даты создания магазина \n",
    "#которых последние «пять лет» или средний чек превышает 1000р\n",
    "dt[(dt.Data_Start > '2014-09-09')&(dt.SKU_count >1000)]"
   ]
  },
  {
   "cell_type": "code",
   "execution_count": null,
   "metadata": {
    "id": "8Zugd3MZAwzv"
   },
   "outputs": [],
   "source": [
    "#22.\tПостройте диаграммы, позволяющие просматривать средний чек магазина\n",
    "import matplotlib\n",
    "import matplotlib.pyplot as plt\n",
    "%matplotlib inline "
   ]
  },
  {
   "cell_type": "code",
   "execution_count": null,
   "metadata": {
    "id": "xkUzRM-eAwzw",
    "outputId": "2f3cb616-e219-4911-9014-7d403e46348c"
   },
   "outputs": [
    {
     "data": {
      "text/plain": [
       "<matplotlib.legend.Legend at 0x1c4c3fea2e8>"
      ]
     },
     "execution_count": 132,
     "metadata": {},
     "output_type": "execute_result"
    },
    {
     "data": {
      "image/png": "[encoded data removed]",
      "text/plain": [
       "<Figure size 432x288 with 1 Axes>"
      ]
     },
     "metadata": {
      "needs_background": "light"
     },
     "output_type": "display_data"
    }
   ],
   "source": [
    "dt.SKU_count.hist(color='orange')\n",
    "plt.legend(['SKU_count'])\n"
   ]
  },
  {
   "cell_type": "code",
   "execution_count": null,
   "metadata": {
    "id": "1tMm7gqRAwzw",
    "outputId": "c3ba1b79-8726-4033-c91a-b9128122418f"
   },
   "outputs": [
    {
     "data": {
      "text/plain": [
       "<matplotlib.axes._subplots.AxesSubplot at 0x1c4c24c57f0>"
      ]
     },
     "execution_count": 102,
     "metadata": {},
     "output_type": "execute_result"
    },
    {
     "data": {
      "image/png": "[encoded data removed]",
      "text/plain": [
       "<Figure size 432x288 with 1 Axes>"
      ]
     },
     "metadata": {
      "needs_background": "light"
     },
     "output_type": "display_data"
    }
   ],
   "source": [
    "import seaborn as sns\n",
    "sns.kdeplot(dt.SKU_count, shade=True, color=\"r\")"
   ]
  },
  {
   "cell_type": "code",
   "execution_count": null,
   "metadata": {
    "id": "_oFPcBx8Awz6",
    "outputId": "9e7d94eb-714d-4d22-8a65-34159b47d31c"
   },
   "outputs": [
    {
     "data": {
      "text/html": [
       "<div>\n",
       "<style scoped>\n",
       "    .dataframe tbody tr th:only-of-type {\n",
       "        vertical-align: middle;\n",
       "    }\n",
       "\n",
       "    .dataframe tbody tr th {\n",
       "        vertical-align: top;\n",
       "    }\n",
       "\n",
       "    .dataframe thead th {\n",
       "        text-align: right;\n",
       "    }\n",
       "</style>\n",
       "<table border=\"1\" class=\"dataframe\">\n",
       "  <thead>\n",
       "    <tr style=\"text-align: right;\">\n",
       "      <th></th>\n",
       "      <th>SKU_count</th>\n",
       "      <th>Name_shop</th>\n",
       "    </tr>\n",
       "  </thead>\n",
       "  <tbody>\n",
       "    <tr>\n",
       "      <th>0</th>\n",
       "      <td>(0, 500]</td>\n",
       "      <td>8</td>\n",
       "    </tr>\n",
       "    <tr>\n",
       "      <th>1</th>\n",
       "      <td>(500, 1000]</td>\n",
       "      <td>4</td>\n",
       "    </tr>\n",
       "    <tr>\n",
       "      <th>2</th>\n",
       "      <td>(1000, 1500]</td>\n",
       "      <td>1</td>\n",
       "    </tr>\n",
       "    <tr>\n",
       "      <th>3</th>\n",
       "      <td>(1500, 2000]</td>\n",
       "      <td>0</td>\n",
       "    </tr>\n",
       "    <tr>\n",
       "      <th>4</th>\n",
       "      <td>(2000, 2500]</td>\n",
       "      <td>0</td>\n",
       "    </tr>\n",
       "    <tr>\n",
       "      <th>5</th>\n",
       "      <td>(2500, 3000]</td>\n",
       "      <td>0</td>\n",
       "    </tr>\n",
       "    <tr>\n",
       "      <th>6</th>\n",
       "      <td>(3000, 3500]</td>\n",
       "      <td>0</td>\n",
       "    </tr>\n",
       "    <tr>\n",
       "      <th>7</th>\n",
       "      <td>(3500, 4000]</td>\n",
       "      <td>0</td>\n",
       "    </tr>\n",
       "    <tr>\n",
       "      <th>8</th>\n",
       "      <td>(4000, 4500]</td>\n",
       "      <td>0</td>\n",
       "    </tr>\n",
       "    <tr>\n",
       "      <th>9</th>\n",
       "      <td>(4500, 5000]</td>\n",
       "      <td>1</td>\n",
       "    </tr>\n",
       "  </tbody>\n",
       "</table>\n",
       "</div>"
      ],
      "text/plain": [
       "      SKU_count  Name_shop\n",
       "0      (0, 500]          8\n",
       "1   (500, 1000]          4\n",
       "2  (1000, 1500]          1\n",
       "3  (1500, 2000]          0\n",
       "4  (2000, 2500]          0\n",
       "5  (2500, 3000]          0\n",
       "6  (3000, 3500]          0\n",
       "7  (3500, 4000]          0\n",
       "8  (4000, 4500]          0\n",
       "9  (4500, 5000]          1"
      ]
     },
     "execution_count": 108,
     "metadata": {},
     "output_type": "execute_result"
    }
   ],
   "source": [
    "dt.groupby([pd.cut(dt.SKU_count, np.arange(0, dt.SKU_count.max()+1, 500))])['Name_shop'].count().reset_index()"
   ]
  },
  {
   "cell_type": "code",
   "execution_count": null,
   "metadata": {
    "id": "wLTpMkfIAwz6",
    "outputId": "92e3b894-9ec9-45cf-a885-fd14fb24e6ee"
   },
   "outputs": [
    {
     "data": {
      "text/plain": [
       "<matplotlib.legend.Legend at 0x1c4c2903710>"
      ]
     },
     "execution_count": 128,
     "metadata": {},
     "output_type": "execute_result"
    },
    {
     "data": {
      "image/png": "[encoded data removed]",
      "text/plain": [
       "<Figure size 432x288 with 1 Axes>"
      ]
     },
     "metadata": {
      "needs_background": "light"
     },
     "output_type": "display_data"
    }
   ],
   "source": [
    "dt.groupby([pd.cut(dt.SKU_count, np.arange(0, dt.SKU_count.max()+1, 500))])['Name_shop'].count().plot.bar()\n",
    "plt.legend(['APRU'])"
   ]
  },
  {
   "cell_type": "code",
   "execution_count": null,
   "metadata": {
    "id": "REkuTM7cAwz7"
   },
   "outputs": [],
   "source": []
  }
 ],
 "metadata": {
  "colab": {
   "collapsed_sections": [],
   "name": "Sem1.ipynb",
   "provenance": []
  },
  "kernelspec": {
   "display_name": "Python 3",
   "language": "python",
   "name": "python3"
  },
  "language_info": {
   "codemirror_mode": {
    "name": "ipython",
    "version": 3
   },
   "file_extension": ".py",
   "mimetype": "text/x-python",
   "name": "python",
   "nbconvert_exporter": "python",
   "pygments_lexer": "ipython3",
   "version": "3.7.6"
  }
 },
 "nbformat": 4,
 "nbformat_minor": 1
}