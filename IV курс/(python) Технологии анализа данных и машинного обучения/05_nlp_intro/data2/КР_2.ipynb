{
 "nbformat": 4,
 "nbformat_minor": 0,
 "metadata": {
  "colab": {
   "provenance": []
  },
  "kernelspec": {
   "name": "python3",
   "display_name": "Python 3"
  },
  "language_info": {
   "name": "python"
  }
 },
 "cells": [
  {
   "cell_type": "markdown",
   "source": [
    "# Вариант 2"
   ],
   "metadata": {
    "id": "wVf0LqOAVfyl"
   }
  },
  {
   "cell_type": "markdown",
   "source": [
    "Загрузить файлы и информацией о лицах, перевести в тензорный формат и построить модель классификации."
   ],
   "metadata": {
    "id": "EYbUYVYxVjZP"
   }
  },
  {
   "cell_type": "code",
   "source": [
    "import numpy as np\n",
    "from PIL import Image\n",
    "\n",
    "images = np.load('olivetti_faces.npy')  # при необходимости укажите свой"
   ],
   "metadata": {
    "id": "splc8ZWeViZl"
   },
   "execution_count": 54,
   "outputs": []
  },
  {
   "cell_type": "markdown",
   "source": [
    "Выведем форму произвольного изображения:"
   ],
   "metadata": {
    "id": "I0dfJ3RjVvFd"
   }
  },
  {
   "cell_type": "code",
   "source": [
    "images[359].shape"
   ],
   "metadata": {
    "colab": {
     "base_uri": "https://localhost:8080/"
    },
    "id": "xVDUdg2gV27F",
    "outputId": "c9907493-1f7d-42df-b1aa-f2c0f33f11cb"
   },
   "execution_count": 55,
   "outputs": [
    {
     "data": {
      "text/plain": "(64, 64)"
     },
     "execution_count": 55,
     "metadata": {},
     "output_type": "execute_result"
    }
   ]
  },
  {
   "cell_type": "markdown",
   "source": [
    "Выведем произвольное изображение из датасета"
   ],
   "metadata": {
    "id": "Z53Y6hBGWNOm"
   }
  },
  {
   "cell_type": "code",
   "source": [
    "im = Image.fromarray(images[359] * 256)\n",
    "new_im = im.convert('RGB')\n",
    "\n",
    "display(new_im)"
   ],
   "metadata": {
    "colab": {
     "base_uri": "https://localhost:8080/",
     "height": 81
    },
    "id": "RwGVdoR4WJyF",
    "outputId": "7020d5fe-e931-4fa9-9f2c-b0eadb1a7fa6"
   },
   "execution_count": 56,
   "outputs": [
    {
     "data": {
      "text/plain": "<PIL.Image.Image image mode=RGB size=64x64>",
      "image/png": "[encoded data removed]"
     },
     "metadata": {},
     "output_type": "display_data"
    }
   ]
  },
  {
   "cell_type": "code",
   "execution_count": 57,
   "outputs": [],
   "source": [
    "import torch\n",
    "import torch.nn as nn\n",
    "import torch.optim as optim\n",
    "import tqdm\n",
    "from sklearn import metrics\n",
    "from torch.utils.data import DataLoader, Dataset, random_split\n",
    "from torchvision import transforms"
   ],
   "metadata": {
    "collapsed": false
   }
  },
  {
   "cell_type": "code",
   "execution_count": 58,
   "outputs": [],
   "source": [
    "class FacesDataset(Dataset):\n",
    "\n",
    "    def __init__(self):\n",
    "        self.transform = transforms.Compose([\n",
    "            transforms.ToTensor(),\n",
    "            transforms.Normalize(mean=(0.5,), std=(0.5,))\n",
    "        ])\n",
    "        self.data = torch.vstack([self.transform(i) for i in np.load(\"olivetti_faces.npy\")]).unsqueeze(1)\n",
    "        self.targets = torch.from_numpy(np.load(\"olivetti_faces_target.npy\")).to(torch.long)\n",
    "        self.n_classes = self.targets.unique().size(0)\n",
    "\n",
    "    def __len__(self):\n",
    "        return len(self.data)\n",
    "\n",
    "    def __getitem__(self, idx):\n",
    "        return self.data[idx], self.targets[idx]"
   ],
   "metadata": {
    "collapsed": false
   }
  },
  {
   "cell_type": "code",
   "execution_count": 59,
   "outputs": [
    {
     "data": {
      "text/plain": "(torch.Size([400, 1, 64, 64]), torch.Size([400]), 40)"
     },
     "execution_count": 59,
     "metadata": {},
     "output_type": "execute_result"
    }
   ],
   "source": [
    "dataset = FacesDataset()\n",
    "dataset.data.size(), dataset.targets.size(), dataset.n_classes"
   ],
   "metadata": {
    "collapsed": false
   }
  },
  {
   "cell_type": "code",
   "execution_count": 60,
   "outputs": [
    {
     "data": {
      "text/plain": "(300, 100)"
     },
     "execution_count": 60,
     "metadata": {},
     "output_type": "execute_result"
    }
   ],
   "source": [
    "torch.manual_seed(0)\n",
    "train_size = round(0.75 * len(dataset))\n",
    "test_size = len(dataset) - train_size\n",
    "train_dataset, test_dataset = random_split(dataset, lengths=(train_size, test_size))\n",
    "len(train_dataset), len(test_dataset)"
   ],
   "metadata": {
    "collapsed": false
   }
  },
  {
   "cell_type": "code",
   "execution_count": 65,
   "outputs": [],
   "source": [
    "class FacesClassificator(nn.Module):\n",
    "\n",
    "    def __init__(self, in_channels, n_classes):\n",
    "        super().__init__()\n",
    "        self.classifier = nn.Sequential(\n",
    "            nn.Linear(in_channels * 64 * 64, 128),\n",
    "            nn.ReLU(),\n",
    "            nn.Linear(128, n_classes),\n",
    "        )\n",
    "\n",
    "    def forward(self, x):\n",
    "        x = torch.flatten(x, 1)\n",
    "        return self.classifier(x)"
   ],
   "metadata": {
    "collapsed": false
   }
  },
  {
   "cell_type": "code",
   "execution_count": 66,
   "outputs": [
    {
     "data": {
      "text/plain": "FacesClassificator(\n  (classifier): Sequential(\n    (0): Linear(in_features=4096, out_features=128, bias=True)\n    (1): ReLU()\n    (2): Linear(in_features=128, out_features=40, bias=True)\n  )\n)"
     },
     "execution_count": 66,
     "metadata": {},
     "output_type": "execute_result"
    }
   ],
   "source": [
    "torch.manual_seed(0)\n",
    "\n",
    "net = FacesClassificator(1, dataset.n_classes)\n",
    "loss_fn = nn.CrossEntropyLoss()\n",
    "optimizer = optim.Adam(net.parameters(), lr=0.0005)\n",
    "\n",
    "train_dataloader = DataLoader(train_dataset, batch_size=8, shuffle=True)\n",
    "test_dataloader = DataLoader(test_dataset, batch_size=len(test_dataset))\n",
    "\n",
    "net"
   ],
   "metadata": {
    "collapsed": false
   }
  },
  {
   "cell_type": "code",
   "execution_count": 67,
   "outputs": [
    {
     "name": "stderr",
     "output_type": "stream",
     "text": [
      "100%|██████████| 30/30 [00:06<00:00,  4.73it/s]\n"
     ]
    }
   ],
   "source": [
    "net.train()\n",
    "epochs = 30\n",
    "\n",
    "for epoch in tqdm.tqdm(range(epochs)):\n",
    "    for x, y in train_dataloader:\n",
    "        pred = net(x)\n",
    "        loss = loss_fn(pred, y)\n",
    "        optimizer.zero_grad()\n",
    "        loss.backward()\n",
    "        optimizer.step()"
   ],
   "metadata": {
    "collapsed": false
   }
  },
  {
   "cell_type": "code",
   "execution_count": 68,
   "outputs": [
    {
     "name": "stdout",
     "output_type": "stream",
     "text": [
      "              precision    recall  f1-score   support\n",
      "\n",
      "           0       0.67      0.67      0.67         3\n",
      "           1       1.00      1.00      1.00         3\n",
      "           2       1.00      1.00      1.00         2\n",
      "           3       1.00      1.00      1.00         4\n",
      "           4       1.00      1.00      1.00         2\n",
      "           5       1.00      1.00      1.00         3\n",
      "           6       1.00      1.00      1.00         1\n",
      "           7       1.00      1.00      1.00         3\n",
      "           8       1.00      1.00      1.00         3\n",
      "           9       1.00      1.00      1.00         4\n",
      "          11       1.00      1.00      1.00         3\n",
      "          12       1.00      1.00      1.00         2\n",
      "          13       1.00      1.00      1.00         4\n",
      "          14       1.00      1.00      1.00         3\n",
      "          15       1.00      1.00      1.00         5\n",
      "          16       1.00      1.00      1.00         3\n",
      "          17       1.00      1.00      1.00         2\n",
      "          19       1.00      1.00      1.00         3\n",
      "          20       1.00      1.00      1.00         5\n",
      "          21       1.00      1.00      1.00         2\n",
      "          22       1.00      1.00      1.00         2\n",
      "          23       1.00      1.00      1.00         2\n",
      "          24       1.00      1.00      1.00         1\n",
      "          26       1.00      1.00      1.00         2\n",
      "          27       1.00      1.00      1.00         2\n",
      "          28       1.00      1.00      1.00         2\n",
      "          29       1.00      1.00      1.00         2\n",
      "          30       1.00      1.00      1.00         3\n",
      "          31       1.00      1.00      1.00         4\n",
      "          32       1.00      1.00      1.00         2\n",
      "          33       1.00      1.00      1.00         3\n",
      "          34       1.00      1.00      1.00         1\n",
      "          35       1.00      1.00      1.00         2\n",
      "          36       1.00      1.00      1.00         5\n",
      "          37       0.00      1.00      0.00         0\n",
      "          38       1.00      1.00      1.00         2\n",
      "          39       1.00      0.80      0.89         5\n",
      "\n",
      "    accuracy                           0.98       100\n",
      "   macro avg       0.96      0.99      0.96       100\n",
      "weighted avg       0.99      0.98      0.98       100\n",
      "\n"
     ]
    }
   ],
   "source": [
    "net.eval()\n",
    "\n",
    "x_test, y_test = next(iter(test_dataloader))\n",
    "y_pred = net(x_test).argmax(1)\n",
    "print(metrics.classification_report(y_true=y_test, y_pred=y_pred, zero_division=True))"
   ],
   "metadata": {
    "collapsed": false
   }
  }
 ]
}
