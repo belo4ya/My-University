{
 "nbformat": 4,
 "nbformat_minor": 0,
 "metadata": {
  "colab": {
   "provenance": []
  },
  "kernelspec": {
   "name": "python3",
   "display_name": "Python 3"
  },
  "language_info": {
   "name": "python"
  }
 },
 "cells": [
  {
   "cell_type": "markdown",
   "source": [
    "# Вариант 2"
   ],
   "metadata": {
    "id": "wVf0LqOAVfyl"
   }
  },
  {
   "cell_type": "markdown",
   "source": [
    "Загрузить файлы и информацией о лицах, перевести в тензорный формат и построить модель классификации."
   ],
   "metadata": {
    "id": "EYbUYVYxVjZP"
   }
  },
  {
   "cell_type": "code",
   "source": [
    "import numpy as np\n",
    "from PIL import Image\n",
    "\n",
    "images = np.load('olivetti_faces.npy')  # при необходимости укажите свой"
   ],
   "metadata": {
    "id": "splc8ZWeViZl"
   },
   "execution_count": 149,
   "outputs": []
  },
  {
   "cell_type": "markdown",
   "source": [
    "Выведем форму произвольного изображения:"
   ],
   "metadata": {
    "id": "I0dfJ3RjVvFd"
   }
  },
  {
   "cell_type": "code",
   "source": [
    "images[359].shape"
   ],
   "metadata": {
    "colab": {
     "base_uri": "https://localhost:8080/"
    },
    "id": "xVDUdg2gV27F",
    "outputId": "c9907493-1f7d-42df-b1aa-f2c0f33f11cb"
   },
   "execution_count": 150,
   "outputs": [
    {
     "data": {
      "text/plain": "(64, 64)"
     },
     "execution_count": 150,
     "metadata": {},
     "output_type": "execute_result"
    }
   ]
  },
  {
   "cell_type": "markdown",
   "source": [
    "Выведем произвольное изображение из датасета"
   ],
   "metadata": {
    "id": "Z53Y6hBGWNOm"
   }
  },
  {
   "cell_type": "code",
   "source": [
    "im = Image.fromarray(images[359] * 256)\n",
    "new_im = im.convert('RGB')\n",
    "\n",
    "display(new_im)"
   ],
   "metadata": {
    "colab": {
     "base_uri": "https://localhost:8080/",
     "height": 81
    },
    "id": "RwGVdoR4WJyF",
    "outputId": "7020d5fe-e931-4fa9-9f2c-b0eadb1a7fa6"
   },
   "execution_count": 151,
   "outputs": [
    {
     "data": {
      "text/plain": "<PIL.Image.Image image mode=RGB size=64x64>",
      "image/png": "[encoded data removed]"
     },
     "metadata": {},
     "output_type": "display_data"
    }
   ]
  },
  {
   "cell_type": "code",
   "execution_count": 152,
   "outputs": [],
   "source": [
    "import torch\n",
    "import torch.nn as nn\n",
    "import torch.optim as optim\n",
    "from sklearn import metrics\n",
    "from torch.utils.data import DataLoader, Dataset, random_split\n",
    "from torchvision import transforms\n",
    "import matplotlib.pyplot as plt"
   ],
   "metadata": {
    "collapsed": false
   }
  },
  {
   "cell_type": "code",
   "execution_count": 153,
   "outputs": [],
   "source": [
    "class FacesDataset(Dataset):\n",
    "\n",
    "    def __init__(self, mean, std):\n",
    "        self.transform = transforms.Compose([\n",
    "            transforms.ToTensor(),\n",
    "            transforms.Normalize(mean=mean, std=std)\n",
    "        ])\n",
    "\n",
    "        # уменьшим время обучения однократным применением transform\n",
    "        self.data = torch.vstack([self.transform(i) for i in np.load(\"olivetti_faces.npy\")]).unsqueeze(1)\n",
    "        self.targets = torch.from_numpy(np.load(\"olivetti_faces_target.npy\")).to(torch.long)\n",
    "        self.n_classes = self.targets.unique().size(0)\n",
    "\n",
    "    def __len__(self):\n",
    "        return len(self.data)\n",
    "\n",
    "    def __getitem__(self, idx):\n",
    "        return self.data[idx], self.targets[idx]"
   ],
   "metadata": {
    "collapsed": false
   }
  },
  {
   "cell_type": "code",
   "execution_count": 154,
   "outputs": [
    {
     "data": {
      "text/plain": "(torch.Size([400, 1, 64, 64]), torch.Size([400]), 40)"
     },
     "execution_count": 154,
     "metadata": {},
     "output_type": "execute_result"
    }
   ],
   "source": [
    "dataset = FacesDataset(mean=(0.5,), std=(0.5,))  # попробуем с константами, если успею, посчитаю правильные значения\n",
    "# кол-во классов очень большое для такой маленькой выборки\n",
    "dataset.data.size(), dataset.targets.size(), dataset.n_classes"
   ],
   "metadata": {
    "collapsed": false
   }
  },
  {
   "cell_type": "code",
   "execution_count": 155,
   "outputs": [
    {
     "data": {
      "text/plain": "(280, 120)"
     },
     "execution_count": 155,
     "metadata": {},
     "output_type": "execute_result"
    }
   ],
   "source": [
    "torch.manual_seed(0)\n",
    "# взял разделение 70/30 - завышаю test_size, что бы не радоваться не настоящим результатам из-за маленького теста\n",
    "train_size = round(0.7 * len(dataset))\n",
    "test_size = len(dataset) - train_size\n",
    "train_dataset, test_dataset = random_split(dataset, lengths=(train_size, test_size))\n",
    "len(train_dataset), len(test_dataset)"
   ],
   "metadata": {
    "collapsed": false
   }
  },
  {
   "cell_type": "code",
   "execution_count": 156,
   "outputs": [],
   "source": [
    "class FacesClassificator(nn.Module):\n",
    "\n",
    "    def __init__(self, in_channels, n_classes):\n",
    "        super().__init__()\n",
    "        out_channels = 32  # был 1 канал (чб изображение) - найду 32 полезных канала, возможно можно меньше\n",
    "        width, height = 6, 6\n",
    "        self.features = nn.Sequential(\n",
    "            # свертка с обычными параметрами\n",
    "            nn.Conv2d(in_channels=in_channels, out_channels=out_channels, kernel_size=3, stride=1, padding=1),\n",
    "            nn.BatchNorm2d(32),\n",
    "            nn.ReLU(),\n",
    "            # сжатие в 2 раза\n",
    "            nn.MaxPool2d(2),\n",
    "        )\n",
    "        self.avgpool = nn.AdaptiveAvgPool2d((width, height))  # что бы не считать размеры выхода features слоя\n",
    "        self.classifier = nn.Sequential(\n",
    "            nn.Linear(out_channels * width * height, 128),\n",
    "            nn.ReLU(),\n",
    "            nn.Dropout(),\n",
    "            nn.Linear(128, n_classes),\n",
    "        )\n",
    "\n",
    "    def forward(self, x):\n",
    "        x = self.features(x)\n",
    "        x = self.avgpool(x)\n",
    "        x = torch.flatten(x, 1)\n",
    "        return self.classifier(x)"
   ],
   "metadata": {
    "collapsed": false
   }
  },
  {
   "cell_type": "code",
   "execution_count": 157,
   "outputs": [
    {
     "data": {
      "text/plain": "FacesClassificator(\n  (features): Sequential(\n    (0): Conv2d(1, 32, kernel_size=(3, 3), stride=(1, 1), padding=(1, 1))\n    (1): BatchNorm2d(32, eps=1e-05, momentum=0.1, affine=True, track_running_stats=True)\n    (2): ReLU()\n    (3): MaxPool2d(kernel_size=2, stride=2, padding=0, dilation=1, ceil_mode=False)\n  )\n  (avgpool): AdaptiveAvgPool2d(output_size=(6, 6))\n  (classifier): Sequential(\n    (0): Linear(in_features=1152, out_features=128, bias=True)\n    (1): ReLU()\n    (2): Dropout(p=0.5, inplace=False)\n    (3): Linear(in_features=128, out_features=40, bias=True)\n  )\n)"
     },
     "execution_count": 157,
     "metadata": {},
     "output_type": "execute_result"
    }
   ],
   "source": [
    "torch.manual_seed(0)\n",
    "\n",
    "net = FacesClassificator(1, dataset.n_classes)\n",
    "loss_fn = nn.CrossEntropyLoss()\n",
    "# после нескольких запусков с 0.01, 0.001, заметил,\n",
    "# что точность модели сильно изменяется от эпохи к эпохе\n",
    "# решил уменьшить скорость обучения до 0.0005\n",
    "optimizer = optim.Adam(net.parameters(), lr=0.0005)\n",
    "\n",
    "# пробовал batch_size={8,4} - оба хороши\n",
    "train_dataloader = DataLoader(train_dataset, batch_size=8, shuffle=True)\n",
    "# картинок, мало и они маленькие, для теста можно положить в память все\n",
    "test_dataloader = DataLoader(test_dataset, batch_size=len(test_dataset))\n",
    "\n",
    "net"
   ],
   "metadata": {
    "collapsed": false
   }
  },
  {
   "cell_type": "code",
   "execution_count": 158,
   "outputs": [
    {
     "name": "stdout",
     "output_type": "stream",
     "text": [
      "Epoch 1\n",
      "--------------------------------\n",
      "loss: 3.766706  [    0/  280]\n",
      "loss: 3.588421  [  240/  280]\n",
      "Test Error: \n",
      " Accuracy: 0.033333, Avg loss: 3.677421 \n",
      "\n",
      "Epoch 2\n",
      "--------------------------------\n",
      "loss: 3.690583  [    0/  280]\n",
      "loss: 3.405414  [  240/  280]\n",
      "Test Error: \n",
      " Accuracy: 0.050000, Avg loss: 3.582410 \n",
      "\n",
      "Epoch 3\n",
      "--------------------------------\n",
      "loss: 3.300273  [    0/  280]\n",
      "loss: 3.616802  [  240/  280]\n",
      "Test Error: \n",
      " Accuracy: 0.141667, Avg loss: 3.436419 \n",
      "\n",
      "Epoch 4\n",
      "--------------------------------\n",
      "loss: 3.271664  [    0/  280]\n",
      "loss: 3.328219  [  240/  280]\n",
      "Test Error: \n",
      " Accuracy: 0.166667, Avg loss: 3.292342 \n",
      "\n",
      "Epoch 5\n",
      "--------------------------------\n",
      "loss: 2.963363  [    0/  280]\n",
      "loss: 3.601423  [  240/  280]\n",
      "Test Error: \n",
      " Accuracy: 0.200000, Avg loss: 3.133747 \n",
      "\n",
      "Epoch 6\n",
      "--------------------------------\n",
      "loss: 2.989193  [    0/  280]\n",
      "loss: 2.851480  [  240/  280]\n",
      "Test Error: \n",
      " Accuracy: 0.225000, Avg loss: 3.032674 \n",
      "\n",
      "Epoch 7\n",
      "--------------------------------\n",
      "loss: 2.951918  [    0/  280]\n",
      "loss: 2.904489  [  240/  280]\n",
      "Test Error: \n",
      " Accuracy: 0.275000, Avg loss: 2.766724 \n",
      "\n",
      "Epoch 8\n",
      "--------------------------------\n",
      "loss: 2.265036  [    0/  280]\n",
      "loss: 2.512372  [  240/  280]\n",
      "Test Error: \n",
      " Accuracy: 0.333333, Avg loss: 2.557220 \n",
      "\n",
      "Epoch 9\n",
      "--------------------------------\n",
      "loss: 2.754944  [    0/  280]\n",
      "loss: 2.363969  [  240/  280]\n",
      "Test Error: \n",
      " Accuracy: 0.358333, Avg loss: 2.450795 \n",
      "\n",
      "Epoch 10\n",
      "--------------------------------\n",
      "loss: 2.978004  [    0/  280]\n",
      "loss: 2.079838  [  240/  280]\n",
      "Test Error: \n",
      " Accuracy: 0.416667, Avg loss: 2.262284 \n",
      "\n",
      "Epoch 11\n",
      "--------------------------------\n",
      "loss: 2.464678  [    0/  280]\n",
      "loss: 2.504787  [  240/  280]\n",
      "Test Error: \n",
      " Accuracy: 0.483333, Avg loss: 2.128150 \n",
      "\n",
      "Epoch 12\n",
      "--------------------------------\n",
      "loss: 2.120561  [    0/  280]\n",
      "loss: 1.860575  [  240/  280]\n",
      "Test Error: \n",
      " Accuracy: 0.558333, Avg loss: 1.986283 \n",
      "\n",
      "Epoch 13\n",
      "--------------------------------\n",
      "loss: 1.708670  [    0/  280]\n",
      "loss: 1.613707  [  240/  280]\n",
      "Test Error: \n",
      " Accuracy: 0.533333, Avg loss: 1.847252 \n",
      "\n",
      "Epoch 14\n",
      "--------------------------------\n",
      "loss: 1.700473  [    0/  280]\n",
      "loss: 1.499377  [  240/  280]\n",
      "Test Error: \n",
      " Accuracy: 0.633333, Avg loss: 1.703479 \n",
      "\n",
      "Epoch 15\n",
      "--------------------------------\n",
      "loss: 1.818863  [    0/  280]\n",
      "loss: 1.828452  [  240/  280]\n",
      "Test Error: \n",
      " Accuracy: 0.583333, Avg loss: 1.634711 \n",
      "\n",
      "Epoch 16\n",
      "--------------------------------\n",
      "loss: 1.648189  [    0/  280]\n",
      "loss: 1.949177  [  240/  280]\n",
      "Test Error: \n",
      " Accuracy: 0.733333, Avg loss: 1.508681 \n",
      "\n",
      "Epoch 17\n",
      "--------------------------------\n",
      "loss: 1.657035  [    0/  280]\n",
      "loss: 1.731275  [  240/  280]\n",
      "Test Error: \n",
      " Accuracy: 0.658333, Avg loss: 1.466286 \n",
      "\n",
      "Epoch 18\n",
      "--------------------------------\n",
      "loss: 1.870316  [    0/  280]\n",
      "loss: 1.454169  [  240/  280]\n",
      "Test Error: \n",
      " Accuracy: 0.716667, Avg loss: 1.336312 \n",
      "\n",
      "Epoch 19\n",
      "--------------------------------\n",
      "loss: 1.195690  [    0/  280]\n",
      "loss: 1.192681  [  240/  280]\n",
      "Test Error: \n",
      " Accuracy: 0.766667, Avg loss: 1.250567 \n",
      "\n",
      "Epoch 20\n",
      "--------------------------------\n",
      "loss: 1.902478  [    0/  280]\n",
      "loss: 2.010318  [  240/  280]\n",
      "Test Error: \n",
      " Accuracy: 0.750000, Avg loss: 1.189721 \n",
      "\n",
      "Epoch 21\n",
      "--------------------------------\n",
      "loss: 1.737595  [    0/  280]\n",
      "loss: 1.827582  [  240/  280]\n",
      "Test Error: \n",
      " Accuracy: 0.808333, Avg loss: 1.124536 \n",
      "\n",
      "Epoch 22\n",
      "--------------------------------\n",
      "loss: 1.522183  [    0/  280]\n",
      "loss: 1.273457  [  240/  280]\n",
      "Test Error: \n",
      " Accuracy: 0.808333, Avg loss: 0.979955 \n",
      "\n",
      "Epoch 23\n",
      "--------------------------------\n",
      "loss: 1.154311  [    0/  280]\n",
      "loss: 0.819627  [  240/  280]\n",
      "Test Error: \n",
      " Accuracy: 0.850000, Avg loss: 0.995232 \n",
      "\n",
      "Epoch 24\n",
      "--------------------------------\n",
      "loss: 1.194281  [    0/  280]\n",
      "loss: 0.782074  [  240/  280]\n",
      "Test Error: \n",
      " Accuracy: 0.816667, Avg loss: 0.940923 \n",
      "\n",
      "Epoch 25\n",
      "--------------------------------\n",
      "loss: 1.246344  [    0/  280]\n",
      "loss: 1.120415  [  240/  280]\n",
      "Test Error: \n",
      " Accuracy: 0.850000, Avg loss: 0.880911 \n",
      "\n",
      "Epoch 26\n",
      "--------------------------------\n",
      "loss: 1.675878  [    0/  280]\n",
      "loss: 0.968744  [  240/  280]\n",
      "Test Error: \n",
      " Accuracy: 0.883333, Avg loss: 0.825993 \n",
      "\n",
      "Epoch 27\n",
      "--------------------------------\n",
      "loss: 1.976111  [    0/  280]\n",
      "loss: 1.019054  [  240/  280]\n",
      "Test Error: \n",
      " Accuracy: 0.858333, Avg loss: 0.781523 \n",
      "\n",
      "Epoch 28\n",
      "--------------------------------\n",
      "loss: 1.409741  [    0/  280]\n",
      "loss: 1.478708  [  240/  280]\n",
      "Test Error: \n",
      " Accuracy: 0.858333, Avg loss: 0.764298 \n",
      "\n",
      "Epoch 29\n",
      "--------------------------------\n",
      "loss: 0.680725  [    0/  280]\n",
      "loss: 0.813709  [  240/  280]\n",
      "Test Error: \n",
      " Accuracy: 0.875000, Avg loss: 0.728480 \n",
      "\n",
      "Epoch 30\n",
      "--------------------------------\n",
      "loss: 0.834433  [    0/  280]\n",
      "loss: 1.062595  [  240/  280]\n",
      "Test Error: \n",
      " Accuracy: 0.883333, Avg loss: 0.682175 \n",
      "\n",
      "Epoch 31\n",
      "--------------------------------\n",
      "loss: 0.452640  [    0/  280]\n",
      "loss: 0.762654  [  240/  280]\n",
      "Test Error: \n",
      " Accuracy: 0.883333, Avg loss: 0.624977 \n",
      "\n",
      "Epoch 32\n",
      "--------------------------------\n",
      "loss: 0.961612  [    0/  280]\n",
      "loss: 0.855585  [  240/  280]\n",
      "Test Error: \n",
      " Accuracy: 0.883333, Avg loss: 0.653596 \n",
      "\n",
      "Epoch 33\n",
      "--------------------------------\n",
      "loss: 0.648547  [    0/  280]\n",
      "loss: 1.015627  [  240/  280]\n",
      "Test Error: \n",
      " Accuracy: 0.916667, Avg loss: 0.579209 \n",
      "\n",
      "Epoch 34\n",
      "--------------------------------\n",
      "loss: 1.015019  [    0/  280]\n",
      "loss: 1.082690  [  240/  280]\n",
      "Test Error: \n",
      " Accuracy: 0.891667, Avg loss: 0.587944 \n",
      "\n",
      "Epoch 35\n",
      "--------------------------------\n",
      "loss: 1.270059  [    0/  280]\n",
      "loss: 0.744244  [  240/  280]\n",
      "Test Error: \n",
      " Accuracy: 0.916667, Avg loss: 0.537179 \n",
      "\n",
      "Epoch 36\n",
      "--------------------------------\n",
      "loss: 0.776057  [    0/  280]\n",
      "loss: 0.628764  [  240/  280]\n",
      "Test Error: \n",
      " Accuracy: 0.933333, Avg loss: 0.536217 \n",
      "\n",
      "Epoch 37\n",
      "--------------------------------\n",
      "loss: 0.811947  [    0/  280]\n",
      "loss: 1.157550  [  240/  280]\n",
      "Test Error: \n",
      " Accuracy: 0.900000, Avg loss: 0.507139 \n",
      "\n",
      "Epoch 38\n",
      "--------------------------------\n",
      "loss: 1.128911  [    0/  280]\n",
      "loss: 1.211532  [  240/  280]\n",
      "Test Error: \n",
      " Accuracy: 0.925000, Avg loss: 0.459725 \n",
      "\n",
      "Epoch 39\n",
      "--------------------------------\n",
      "loss: 0.799152  [    0/  280]\n",
      "loss: 0.684037  [  240/  280]\n",
      "Test Error: \n",
      " Accuracy: 0.933333, Avg loss: 0.472217 \n",
      "\n",
      "Epoch 40\n",
      "--------------------------------\n",
      "loss: 0.600841  [    0/  280]\n",
      "loss: 0.971576  [  240/  280]\n",
      "Test Error: \n",
      " Accuracy: 0.916667, Avg loss: 0.466723 \n",
      "\n",
      "Epoch 41\n",
      "--------------------------------\n",
      "loss: 0.768437  [    0/  280]\n",
      "loss: 0.659053  [  240/  280]\n",
      "Test Error: \n",
      " Accuracy: 0.933333, Avg loss: 0.435457 \n",
      "\n",
      "Epoch 42\n",
      "--------------------------------\n",
      "loss: 0.248443  [    0/  280]\n",
      "loss: 0.393121  [  240/  280]\n",
      "Test Error: \n",
      " Accuracy: 0.933333, Avg loss: 0.416742 \n",
      "\n",
      "Epoch 43\n",
      "--------------------------------\n",
      "loss: 0.372535  [    0/  280]\n",
      "loss: 1.072856  [  240/  280]\n",
      "Test Error: \n",
      " Accuracy: 0.950000, Avg loss: 0.415468 \n",
      "\n",
      "Epoch 44\n",
      "--------------------------------\n",
      "loss: 0.930609  [    0/  280]\n",
      "loss: 0.497328  [  240/  280]\n",
      "Test Error: \n",
      " Accuracy: 0.933333, Avg loss: 0.392958 \n",
      "\n",
      "Epoch 45\n",
      "--------------------------------\n",
      "loss: 0.314464  [    0/  280]\n",
      "loss: 0.426016  [  240/  280]\n",
      "Test Error: \n",
      " Accuracy: 0.933333, Avg loss: 0.382038 \n",
      "\n",
      "Epoch 46\n",
      "--------------------------------\n",
      "loss: 0.756839  [    0/  280]\n",
      "loss: 0.404366  [  240/  280]\n",
      "Test Error: \n",
      " Accuracy: 0.941667, Avg loss: 0.357983 \n",
      "\n",
      "Epoch 47\n",
      "--------------------------------\n",
      "loss: 0.255501  [    0/  280]\n",
      "loss: 0.516055  [  240/  280]\n",
      "Test Error: \n",
      " Accuracy: 0.933333, Avg loss: 0.348123 \n",
      "\n",
      "Epoch 48\n",
      "--------------------------------\n",
      "loss: 0.752244  [    0/  280]\n",
      "loss: 1.182693  [  240/  280]\n",
      "Test Error: \n",
      " Accuracy: 0.916667, Avg loss: 0.340048 \n",
      "\n",
      "Epoch 49\n",
      "--------------------------------\n",
      "loss: 0.470993  [    0/  280]\n",
      "loss: 0.642801  [  240/  280]\n",
      "Test Error: \n",
      " Accuracy: 0.941667, Avg loss: 0.325723 \n",
      "\n",
      "Epoch 50\n",
      "--------------------------------\n",
      "loss: 0.868425  [    0/  280]\n",
      "loss: 0.830224  [  240/  280]\n",
      "Test Error: \n",
      " Accuracy: 0.941667, Avg loss: 0.316070 \n",
      "\n"
     ]
    }
   ],
   "source": [
    "epochs = 50  # путем нескольких запусков начиная с epochs = 10 пришел с 50\n",
    "\n",
    "train_losses = []\n",
    "for epoch in range(epochs):\n",
    "    print(f\"Epoch {epoch + 1}\\n\" + \"-\" * 32)\n",
    "    # ************* train loop\n",
    "    net.train()\n",
    "    size = len(train_dataloader.dataset)\n",
    "    num_batches = len(train_dataloader)\n",
    "    avg_loss = 0\n",
    "    for batch, (x, y) in enumerate(train_dataloader):\n",
    "        pred = net(x)\n",
    "        loss = loss_fn(pred, y)\n",
    "\n",
    "        optimizer.zero_grad()\n",
    "        loss.backward()\n",
    "        optimizer.step()\n",
    "\n",
    "        avg_loss += loss\n",
    "        if batch % 30 == 0:\n",
    "            print(f\"loss: {loss:>7f}  [{batch * len(x):>5d}/{size:>5d}]\")\n",
    "\n",
    "    train_losses.append((avg_loss / num_batches).item())\n",
    "\n",
    "    # ************* test loop\n",
    "    net.eval()\n",
    "    size = len(test_dataloader.dataset)\n",
    "    num_batches = len(test_dataloader)\n",
    "    avg_loss, correct = 0, 0\n",
    "    with torch.no_grad():\n",
    "        for x, y in test_dataloader:\n",
    "            pred = net(x)\n",
    "            avg_loss += loss_fn(pred, y)\n",
    "            correct += (pred.argmax(1) == y).sum().item()\n",
    "\n",
    "    avg_loss /= num_batches\n",
    "    accuracy = correct / size\n",
    "    print(f\"Test Error: \\n Accuracy: {accuracy:>4f}, Avg loss: {avg_loss:>8f} \\n\")"
   ],
   "metadata": {
    "collapsed": false
   }
  },
  {
   "cell_type": "code",
   "execution_count": 159,
   "outputs": [
    {
     "data": {
      "text/plain": "<Figure size 640x480 with 1 Axes>",
      "image/png": "[encoded data removed]"
     },
     "metadata": {},
     "output_type": "display_data"
    }
   ],
   "source": [
    "plt.plot(torch.arange(len(train_losses)), train_losses);"
   ],
   "metadata": {
    "collapsed": false
   }
  },
  {
   "cell_type": "code",
   "execution_count": 160,
   "outputs": [
    {
     "name": "stdout",
     "output_type": "stream",
     "text": [
      "              precision    recall  f1-score   support\n",
      "\n",
      "           0       0.67      0.67      0.67         3\n",
      "           1       1.00      1.00      1.00         3\n",
      "           2       1.00      1.00      1.00         3\n",
      "           3       1.00      0.75      0.86         4\n",
      "           4       1.00      1.00      1.00         2\n",
      "           5       1.00      1.00      1.00         3\n",
      "           6       0.75      1.00      0.86         3\n",
      "           7       1.00      1.00      1.00         3\n",
      "           8       1.00      1.00      1.00         4\n",
      "           9       0.80      1.00      0.89         4\n",
      "          10       1.00      1.00      1.00         1\n",
      "          11       1.00      1.00      1.00         4\n",
      "          12       1.00      1.00      1.00         3\n",
      "          13       1.00      1.00      1.00         5\n",
      "          14       1.00      1.00      1.00         4\n",
      "          15       1.00      0.80      0.89         5\n",
      "          16       1.00      1.00      1.00         4\n",
      "          17       1.00      1.00      1.00         2\n",
      "          19       1.00      1.00      1.00         3\n",
      "          20       1.00      1.00      1.00         5\n",
      "          21       0.67      1.00      0.80         2\n",
      "          22       1.00      1.00      1.00         2\n",
      "          23       1.00      1.00      1.00         3\n",
      "          24       0.50      1.00      0.67         1\n",
      "          25       1.00      1.00      1.00         1\n",
      "          26       1.00      1.00      1.00         4\n",
      "          27       1.00      1.00      1.00         2\n",
      "          28       0.67      1.00      0.80         2\n",
      "          29       1.00      1.00      1.00         2\n",
      "          30       1.00      1.00      1.00         3\n",
      "          31       1.00      1.00      1.00         5\n",
      "          32       1.00      1.00      1.00         2\n",
      "          33       1.00      1.00      1.00         3\n",
      "          34       1.00      1.00      1.00         3\n",
      "          35       1.00      1.00      1.00         2\n",
      "          36       1.00      1.00      1.00         6\n",
      "          37       0.00      1.00      0.00         0\n",
      "          38       1.00      0.50      0.67         4\n",
      "          39       1.00      0.60      0.75         5\n",
      "\n",
      "    accuracy                           0.94       120\n",
      "   macro avg       0.92      0.96      0.92       120\n",
      "weighted avg       0.96      0.94      0.94       120\n",
      "\n"
     ]
    }
   ],
   "source": [
    "net.eval()\n",
    "\n",
    "x_test, y_test = next(iter(test_dataloader))\n",
    "y_pred = net(x_test).argmax(1)\n",
    "print(metrics.classification_report(y_true=y_test, y_pred=y_pred, zero_division=True))"
   ],
   "metadata": {
    "collapsed": false
   }
  },
  {
   "cell_type": "markdown",
   "source": [
    "\n",
    "**Вывод.** Такая хорошая точность не означает успех обучения модели. Она получилась из-за очень маленького количества данных в тестовой выборке - по 2-5 примеров на класс."
   ],
   "metadata": {
    "collapsed": false
   }
  },
  {
   "cell_type": "markdown",
   "source": [
    "# Отчетность"
   ],
   "metadata": {
    "id": "8pk7rFZ4XikY"
   }
  },
  {
   "cell_type": "markdown",
   "source": [
    "В первую очередь в работе должна быть продемонстрирована ваша архитектура и процесс обучения (с кратким обоснованием выбора гиперпараметров).\n",
    "\n",
    "\n",
    "Далее:"
   ],
   "metadata": {
    "id": "6vwP3-cMYuBL"
   }
  },
  {
   "cell_type": "markdown",
   "source": [
    "(В конце вашего ноутбука укажите следующие данные)\n",
    "\n",
    "По задачам классификации:\n",
    "\n",
    "1.  Вывести метрики классификации на тестовом множестве: accuracy, precision, recall и f1-score(для бинарной) и метрик качества для каждого класса, в случае использования датасета с лицами.\n",
    "2.  Обосновать выбранное соотношение train/test на основе построения кривых обучения (или понятного вывода результатов эксперимента) \n",
    "\n"
   ],
   "metadata": {
    "id": "iEYMCaizXk5w"
   }
  },
  {
   "cell_type": "markdown",
   "source": [
    "По задаче регрессии:\n",
    "\n",
    "\n",
    "\n",
    "1.   Вывести коэффициент детерминации и средний квадрат ошибки\n",
    "2.   Продемнострировать, что выбрано оптимальное соотношение train/test, путем перебора всех содержательных вариантов.\n",
    "\n"
   ],
   "metadata": {
    "id": "jb45JczkYadi"
   }
  }
 ]
}
