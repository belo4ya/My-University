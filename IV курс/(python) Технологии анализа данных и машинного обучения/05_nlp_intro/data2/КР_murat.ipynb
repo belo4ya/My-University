{
 "nbformat": 4,
 "nbformat_minor": 0,
 "metadata": {
  "colab": {
   "provenance": []
  },
  "kernelspec": {
   "name": "python3",
   "display_name": "Python 3"
  },
  "language_info": {
   "name": "python"
  }
 },
 "cells": [
  {
   "cell_type": "markdown",
   "source": [
    "# Вариант 1"
   ],
   "metadata": {
    "id": "d_HwOzdJVUE9"
   }
  },
  {
   "cell_type": "markdown",
   "source": [
    "Загрузить файл с информацией о диабетах и построить модель классификации на основе имеющихся данных."
   ],
   "metadata": {
    "id": "TBGhbYblVWfN"
   }
  },
  {
   "cell_type": "code",
   "source": [
    "import pandas as pd\n",
    "\n",
    "df = pd.read_csv('diabetes.csv')\n",
    "df.head()"
   ],
   "metadata": {
    "colab": {
     "base_uri": "https://localhost:8080/",
     "height": 250
    },
    "id": "lVAOUGrlW7FS",
    "outputId": "f420dca3-00f9-4d20-a298-89b512b6ef19"
   },
   "execution_count": 76,
   "outputs": [
    {
     "data": {
      "text/plain": "   Pregnancies  Glucose  BloodPressure  SkinThickness  Insulin   BMI  \\\n0            6      148             72             35        0  33.6   \n1            1       85             66             29        0  26.6   \n2            8      183             64              0        0  23.3   \n3            1       89             66             23       94  28.1   \n4            0      137             40             35      168  43.1   \n\n   DiabetesPedigreeFunction  Age  Outcome  \n0                     0.627   50        1  \n1                     0.351   31        0  \n2                     0.672   32        1  \n3                     0.167   21        0  \n4                     2.288   33        1  ",
      "text/html": "<div>\n<style scoped>\n    .dataframe tbody tr th:only-of-type {\n        vertical-align: middle;\n    }\n\n    .dataframe tbody tr th {\n        vertical-align: top;\n    }\n\n    .dataframe thead th {\n        text-align: right;\n    }\n</style>\n<table border=\"1\" class=\"dataframe\">\n  <thead>\n    <tr style=\"text-align: right;\">\n      <th></th>\n      <th>Pregnancies</th>\n      <th>Glucose</th>\n      <th>BloodPressure</th>\n      <th>SkinThickness</th>\n      <th>Insulin</th>\n      <th>BMI</th>\n      <th>DiabetesPedigreeFunction</th>\n      <th>Age</th>\n      <th>Outcome</th>\n    </tr>\n  </thead>\n  <tbody>\n    <tr>\n      <th>0</th>\n      <td>6</td>\n      <td>148</td>\n      <td>72</td>\n      <td>35</td>\n      <td>0</td>\n      <td>33.6</td>\n      <td>0.627</td>\n      <td>50</td>\n      <td>1</td>\n    </tr>\n    <tr>\n      <th>1</th>\n      <td>1</td>\n      <td>85</td>\n      <td>66</td>\n      <td>29</td>\n      <td>0</td>\n      <td>26.6</td>\n      <td>0.351</td>\n      <td>31</td>\n      <td>0</td>\n    </tr>\n    <tr>\n      <th>2</th>\n      <td>8</td>\n      <td>183</td>\n      <td>64</td>\n      <td>0</td>\n      <td>0</td>\n      <td>23.3</td>\n      <td>0.672</td>\n      <td>32</td>\n      <td>1</td>\n    </tr>\n    <tr>\n      <th>3</th>\n      <td>1</td>\n      <td>89</td>\n      <td>66</td>\n      <td>23</td>\n      <td>94</td>\n      <td>28.1</td>\n      <td>0.167</td>\n      <td>21</td>\n      <td>0</td>\n    </tr>\n    <tr>\n      <th>4</th>\n      <td>0</td>\n      <td>137</td>\n      <td>40</td>\n      <td>35</td>\n      <td>168</td>\n      <td>43.1</td>\n      <td>2.288</td>\n      <td>33</td>\n      <td>1</td>\n    </tr>\n  </tbody>\n</table>\n</div>"
     },
     "execution_count": 76,
     "metadata": {},
     "output_type": "execute_result"
    }
   ]
  },
  {
   "cell_type": "code",
   "execution_count": 77,
   "outputs": [],
   "source": [
    "import torch\n",
    "import torch.nn as nn\n",
    "import torch.optim as optim\n",
    "from sklearn import metrics\n",
    "from torch.utils.data import DataLoader, Dataset, random_split\n",
    "import matplotlib.pyplot as plt"
   ],
   "metadata": {
    "collapsed": false
   }
  },
  {
   "cell_type": "markdown",
   "source": [
    "Создаю pytorch датасет из тензоров"
   ],
   "metadata": {
    "collapsed": false
   }
  },
  {
   "cell_type": "code",
   "execution_count": 78,
   "outputs": [],
   "source": [
    "class DiabetesDataset(Dataset):\n",
    "\n",
    "    def __init__(self):\n",
    "        df = pd.read_csv(\"diabetes.csv\")\n",
    "        self.x = torch.from_numpy(df[df.columns.drop(\"Outcome\")].to_numpy()).to(torch.float)\n",
    "        self.y = torch.from_numpy(df[\"Outcome\"].to_numpy()).to(torch.long)\n",
    "        self.n_classes = len(self.y.unique())\n",
    "\n",
    "    def __len__(self):\n",
    "        return len(self.x)\n",
    "\n",
    "    def __getitem__(self, idx):\n",
    "        return self.x[idx], self.y[idx]"
   ],
   "metadata": {
    "collapsed": false
   }
  },
  {
   "cell_type": "code",
   "execution_count": 79,
   "outputs": [
    {
     "data": {
      "text/plain": "(torch.Size([768, 8]), torch.Size([768]), 2)"
     },
     "execution_count": 79,
     "metadata": {},
     "output_type": "execute_result"
    }
   ],
   "source": [
    "dataset = DiabetesDataset()\n",
    "dataset.x.size(), dataset.y.size(), dataset.n_classes"
   ],
   "metadata": {
    "collapsed": false
   }
  },
  {
   "cell_type": "code",
   "execution_count": 80,
   "outputs": [
    {
     "data": {
      "text/plain": "(614, 154)"
     },
     "execution_count": 80,
     "metadata": {},
     "output_type": "execute_result"
    }
   ],
   "source": [
    "torch.manual_seed(0)\n",
    "train_size = round(0.8 * len(dataset))  # 80/20 - стандартно\n",
    "train_dataset, test_dataset = random_split(dataset, lengths=(train_size, len(dataset) - train_size))\n",
    "len(train_dataset), len(test_dataset)"
   ],
   "metadata": {
    "collapsed": false
   }
  },
  {
   "cell_type": "code",
   "execution_count": 81,
   "outputs": [],
   "source": [
    "class Classificator(nn.Module):\n",
    "\n",
    "    def __init__(self, in_features, out_features):\n",
    "        super().__init__()\n",
    "        self.classifier = nn.Sequential(  # простой полносвязный слой с Dropout(0.5)\n",
    "            nn.Linear(in_features, 256),\n",
    "            nn.ReLU(),\n",
    "            nn.Dropout(),\n",
    "            nn.Linear(256, out_features),\n",
    "        )\n",
    "\n",
    "    def forward(self, x):\n",
    "        return self.classifier(x)"
   ],
   "metadata": {
    "collapsed": false
   }
  },
  {
   "cell_type": "code",
   "execution_count": 82,
   "outputs": [
    {
     "data": {
      "text/plain": "Classificator(\n  (classifier): Sequential(\n    (0): Linear(in_features=8, out_features=256, bias=True)\n    (1): ReLU()\n    (2): Dropout(p=0.5, inplace=False)\n    (3): Linear(in_features=256, out_features=2, bias=True)\n  )\n)"
     },
     "execution_count": 82,
     "metadata": {},
     "output_type": "execute_result"
    }
   ],
   "source": [
    "torch.manual_seed(0)\n",
    "\n",
    "net = Classificator(dataset.x.size(1), dataset.n_classes)\n",
    "loss_fn = nn.CrossEntropyLoss()\n",
    "# подбором 0.005 - неплохое значение\n",
    "optimizer = optim.Adam(net.parameters(), lr=0.005)\n",
    "\n",
    "# batch_size=16, batch_size=32, batch_size=8 показывают себя ~одинаково\n",
    "train_dataloader = DataLoader(train_dataset, batch_size=16, shuffle=True)\n",
    "test_dataloader = DataLoader(test_dataset, batch_size=len(test_dataset))\n",
    "\n",
    "net"
   ],
   "metadata": {
    "collapsed": false
   }
  },
  {
   "cell_type": "code",
   "execution_count": 83,
   "outputs": [
    {
     "name": "stdout",
     "output_type": "stream",
     "text": [
      "Epoch  1: accuracy: 0.714286, avg loss: 1.325124\n",
      "Epoch  2: accuracy: 0.629870, avg loss: 2.638500\n",
      "Epoch  3: accuracy: 0.733766, avg loss: 3.921379\n",
      "Epoch  4: accuracy: 0.649351, avg loss: 1.079565\n",
      "Epoch  5: accuracy: 0.662338, avg loss: 0.939651\n",
      "Epoch  6: accuracy: 0.577922, avg loss: 1.280135\n",
      "Epoch  7: accuracy: 0.675325, avg loss: 1.030174\n",
      "Epoch  8: accuracy: 0.636364, avg loss: 1.474939\n",
      "Epoch  9: accuracy: 0.668831, avg loss: 1.256614\n",
      "Epoch 10: accuracy: 0.642857, avg loss: 0.922911\n",
      "Epoch 11: accuracy: 0.714286, avg loss: 0.857637\n",
      "Epoch 12: accuracy: 0.668831, avg loss: 0.821980\n",
      "Epoch 13: accuracy: 0.681818, avg loss: 1.098185\n",
      "Epoch 14: accuracy: 0.694805, avg loss: 1.079787\n",
      "Epoch 15: accuracy: 0.720779, avg loss: 0.737223\n",
      "Epoch 16: accuracy: 0.662338, avg loss: 0.868354\n",
      "Epoch 17: accuracy: 0.701299, avg loss: 0.821456\n",
      "Epoch 18: accuracy: 0.740260, avg loss: 0.751089\n",
      "Epoch 19: accuracy: 0.727273, avg loss: 0.689190\n",
      "Epoch 20: accuracy: 0.727273, avg loss: 0.681626\n",
      "Epoch 21: accuracy: 0.746753, avg loss: 0.712673\n",
      "Epoch 22: accuracy: 0.714286, avg loss: 0.756994\n",
      "Epoch 23: accuracy: 0.727273, avg loss: 0.700751\n",
      "Epoch 24: accuracy: 0.727273, avg loss: 0.680312\n",
      "Epoch 25: accuracy: 0.746753, avg loss: 0.666030\n",
      "Epoch 26: accuracy: 0.727273, avg loss: 0.708817\n",
      "Epoch 27: accuracy: 0.694805, avg loss: 0.871128\n",
      "Epoch 28: accuracy: 0.720779, avg loss: 0.886524\n",
      "Epoch 29: accuracy: 0.727273, avg loss: 0.859477\n",
      "Epoch 30: accuracy: 0.720779, avg loss: 0.857856\n",
      "Epoch 31: accuracy: 0.746753, avg loss: 0.824429\n",
      "Epoch 32: accuracy: 0.707792, avg loss: 0.886367\n",
      "Epoch 33: accuracy: 0.766234, avg loss: 0.869253\n",
      "Epoch 34: accuracy: 0.707792, avg loss: 0.881195\n",
      "Epoch 35: accuracy: 0.746753, avg loss: 1.240506\n",
      "Epoch 36: accuracy: 0.694805, avg loss: 1.166095\n",
      "Epoch 37: accuracy: 0.707792, avg loss: 1.056318\n",
      "Epoch 38: accuracy: 0.720779, avg loss: 1.020130\n",
      "Epoch 39: accuracy: 0.727273, avg loss: 0.990904\n",
      "Epoch 40: accuracy: 0.707792, avg loss: 0.966980\n"
     ]
    }
   ],
   "source": [
    "epochs = 40\n",
    "\n",
    "train_losses = []\n",
    "for epoch in range(epochs):\n",
    "    # ===================== TRAIN LOOP =====================\n",
    "    net.train()\n",
    "    size = len(train_dataloader.dataset)\n",
    "    num_batches = len(train_dataloader)\n",
    "    avg_loss = 0\n",
    "    for batch, (x, y) in enumerate(train_dataloader):\n",
    "        pred = net(x)\n",
    "        loss = loss_fn(pred, y)\n",
    "        optimizer.zero_grad()\n",
    "        loss.backward()\n",
    "        optimizer.step()\n",
    "        avg_loss += loss\n",
    "    train_losses.append((avg_loss / num_batches).item())\n",
    "\n",
    "    # ===================== TEST LOOP =====================\n",
    "    net.eval()\n",
    "    size = len(test_dataloader.dataset)\n",
    "    num_batches = len(test_dataloader)\n",
    "    avg_loss, correct = 0, 0\n",
    "    with torch.no_grad():\n",
    "        for x, y in test_dataloader:\n",
    "            pred = net(x)\n",
    "            avg_loss += loss_fn(pred, y)\n",
    "            correct += (pred.argmax(1) == y).sum().item()\n",
    "\n",
    "    avg_loss /= num_batches\n",
    "    accuracy = correct / size\n",
    "    print(f\"Epoch {epoch + 1:>2}: accuracy: {accuracy:>4f}, avg loss: {avg_loss:>8f}\")"
   ],
   "metadata": {
    "collapsed": false
   }
  },
  {
   "cell_type": "markdown",
   "source": [
    "Эпох многовато, видно, что у модели не получается преодолеть loss~=0.8"
   ],
   "metadata": {
    "collapsed": false
   }
  },
  {
   "cell_type": "markdown",
   "source": [
    "Динамика обучения модели:"
   ],
   "metadata": {
    "collapsed": false
   }
  },
  {
   "cell_type": "code",
   "execution_count": 84,
   "outputs": [
    {
     "data": {
      "text/plain": "<Figure size 640x480 with 1 Axes>",
      "image/png": "[encoded data removed]"
     },
     "metadata": {},
     "output_type": "display_data"
    }
   ],
   "source": [
    "plt.plot(torch.arange(len(train_losses)), train_losses);"
   ],
   "metadata": {
    "collapsed": false
   }
  },
  {
   "cell_type": "code",
   "execution_count": 85,
   "outputs": [
    {
     "name": "stdout",
     "output_type": "stream",
     "text": [
      "              precision    recall  f1-score   support\n",
      "\n",
      "           0       0.72      0.90      0.80       102\n",
      "           1       0.63      0.33      0.43        52\n",
      "\n",
      "    accuracy                           0.71       154\n",
      "   macro avg       0.68      0.61      0.62       154\n",
      "weighted avg       0.69      0.71      0.68       154\n",
      "\n"
     ]
    }
   ],
   "source": [
    "net.eval()\n",
    "\n",
    "x_test, y_test = next(iter(test_dataloader))\n",
    "y_pred = net(x_test).argmax(1)\n",
    "print(metrics.classification_report(y_true=y_test, y_pred=y_pred, zero_division=True))"
   ],
   "metadata": {
    "collapsed": false
   }
  },
  {
   "cell_type": "markdown",
   "source": [
    "Не очень хорошо получилось, что мы хуже предсказываем факт болезни (произошло это из-за несбалансированности классов), но в целом точность модели терпимая (не 50/50).\n",
    "\n",
    "80%/20% - стандартное разбиение выборки."
   ],
   "metadata": {
    "collapsed": false
   }
  }
 ]
}
