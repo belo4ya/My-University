{
 "cells": [
  {
   "cell_type": "code",
   "execution_count": 41,
   "metadata": {
    "collapsed": true
   },
   "outputs": [],
   "source": [
    "import pandas as pd\n",
    "import torch\n",
    "import torch.nn as nn\n",
    "import torch.optim as optim\n",
    "from sklearn import metrics\n",
    "from torch.utils.data import DataLoader, Dataset, random_split"
   ]
  },
  {
   "cell_type": "code",
   "execution_count": 42,
   "outputs": [],
   "source": [
    "class DiabetesDataset(Dataset):\n",
    "\n",
    "    def __init__(self, df):\n",
    "        x = df[df.columns.drop(\"Outcome\")].to_numpy()\n",
    "        y = df[\"Outcome\"].to_numpy()\n",
    "        # добавляю 1 искусственный канал для 1D свертки\n",
    "        self.x = torch.from_numpy(x).to(torch.float).unsqueeze(1)\n",
    "        self.y = torch.from_numpy(y).to(torch.long)\n",
    "\n",
    "    def __len__(self):\n",
    "        return len(self.x)\n",
    "\n",
    "    def __getitem__(self, idx):\n",
    "        return self.x[idx], self.y[idx]"
   ],
   "metadata": {
    "collapsed": false
   }
  },
  {
   "cell_type": "code",
   "execution_count": 43,
   "outputs": [
    {
     "data": {
      "text/plain": "   Pregnancies  Glucose  BloodPressure  SkinThickness  Insulin   BMI  \\\n0            6      148             72             35        0  33.6   \n1            1       85             66             29        0  26.6   \n2            8      183             64              0        0  23.3   \n3            1       89             66             23       94  28.1   \n4            0      137             40             35      168  43.1   \n\n   DiabetesPedigreeFunction  Age  Outcome  \n0                     0.627   50        1  \n1                     0.351   31        0  \n2                     0.672   32        1  \n3                     0.167   21        0  \n4                     2.288   33        1  ",
      "text/html": "<div>\n<style scoped>\n    .dataframe tbody tr th:only-of-type {\n        vertical-align: middle;\n    }\n\n    .dataframe tbody tr th {\n        vertical-align: top;\n    }\n\n    .dataframe thead th {\n        text-align: right;\n    }\n</style>\n<table border=\"1\" class=\"dataframe\">\n  <thead>\n    <tr style=\"text-align: right;\">\n      <th></th>\n      <th>Pregnancies</th>\n      <th>Glucose</th>\n      <th>BloodPressure</th>\n      <th>SkinThickness</th>\n      <th>Insulin</th>\n      <th>BMI</th>\n      <th>DiabetesPedigreeFunction</th>\n      <th>Age</th>\n      <th>Outcome</th>\n    </tr>\n  </thead>\n  <tbody>\n    <tr>\n      <th>0</th>\n      <td>6</td>\n      <td>148</td>\n      <td>72</td>\n      <td>35</td>\n      <td>0</td>\n      <td>33.6</td>\n      <td>0.627</td>\n      <td>50</td>\n      <td>1</td>\n    </tr>\n    <tr>\n      <th>1</th>\n      <td>1</td>\n      <td>85</td>\n      <td>66</td>\n      <td>29</td>\n      <td>0</td>\n      <td>26.6</td>\n      <td>0.351</td>\n      <td>31</td>\n      <td>0</td>\n    </tr>\n    <tr>\n      <th>2</th>\n      <td>8</td>\n      <td>183</td>\n      <td>64</td>\n      <td>0</td>\n      <td>0</td>\n      <td>23.3</td>\n      <td>0.672</td>\n      <td>32</td>\n      <td>1</td>\n    </tr>\n    <tr>\n      <th>3</th>\n      <td>1</td>\n      <td>89</td>\n      <td>66</td>\n      <td>23</td>\n      <td>94</td>\n      <td>28.1</td>\n      <td>0.167</td>\n      <td>21</td>\n      <td>0</td>\n    </tr>\n    <tr>\n      <th>4</th>\n      <td>0</td>\n      <td>137</td>\n      <td>40</td>\n      <td>35</td>\n      <td>168</td>\n      <td>43.1</td>\n      <td>2.288</td>\n      <td>33</td>\n      <td>1</td>\n    </tr>\n  </tbody>\n</table>\n</div>"
     },
     "execution_count": 43,
     "metadata": {},
     "output_type": "execute_result"
    }
   ],
   "source": [
    "df = pd.read_csv(\"diabetes.csv\")\n",
    "df.head()"
   ],
   "metadata": {
    "collapsed": false
   }
  },
  {
   "cell_type": "markdown",
   "source": [
    "8 признаков, 2 класса, 768 примеров:"
   ],
   "metadata": {
    "collapsed": false
   }
  },
  {
   "cell_type": "code",
   "execution_count": 44,
   "outputs": [
    {
     "name": "stdout",
     "output_type": "stream",
     "text": [
      "torch.Size([768, 1, 8]) torch.Size([768]) 2\n",
      "614 154\n"
     ]
    }
   ],
   "source": [
    "dataset = DiabetesDataset(df)\n",
    "print(dataset.x.size(), dataset.y.size(), len(dataset.y.unique()))\n",
    "\n",
    "train_size = round(0.8 * len(dataset))  # 80% - train, 20% - test\n",
    "train_dataset, test_dataset = random_split(dataset, (train_size, len(dataset) - train_size))\n",
    "print(len(train_dataset), len(test_dataset))"
   ],
   "metadata": {
    "collapsed": false
   }
  },
  {
   "cell_type": "markdown",
   "source": [
    "Два полносвязных слоя + Dropout половины нейронов после каждого слоя:"
   ],
   "metadata": {
    "collapsed": false
   }
  },
  {
   "cell_type": "code",
   "execution_count": 45,
   "outputs": [],
   "source": [
    "class Classificator(nn.Module):\n",
    "\n",
    "    def __init__(self, in_channels, out_features):\n",
    "        super().__init__()\n",
    "        out_channels = 32\n",
    "        size = 6\n",
    "        self.features = nn.Sequential(\n",
    "            # свертка\n",
    "            nn.Conv1d(in_channels=in_channels, out_channels=out_channels, kernel_size=3, stride=1, padding=1),\n",
    "            nn.BatchNorm1d(32),\n",
    "            nn.ReLU(),\n",
    "            # сжатие\n",
    "            nn.MaxPool1d(2),\n",
    "        )\n",
    "        # подгон размеров\n",
    "        self.avgpool = nn.AdaptiveAvgPool1d(size)\n",
    "        self.classifier = nn.Sequential(\n",
    "            nn.Linear(out_channels * size, 64),\n",
    "            nn.ReLU(),\n",
    "            nn.Dropout(),\n",
    "            nn.Linear(64, out_features),\n",
    "        )\n",
    "\n",
    "    def forward(self, x):\n",
    "        x = self.features(x)\n",
    "        x = self.avgpool(x)\n",
    "        x = torch.flatten(x, 1)\n",
    "        return self.classifier(x)"
   ],
   "metadata": {
    "collapsed": false
   }
  },
  {
   "cell_type": "code",
   "execution_count": 46,
   "outputs": [
    {
     "data": {
      "text/plain": "Classificator(\n  (features): Sequential(\n    (0): Conv1d(1, 32, kernel_size=(3,), stride=(1,), padding=(1,))\n    (1): BatchNorm1d(32, eps=1e-05, momentum=0.1, affine=True, track_running_stats=True)\n    (2): ReLU()\n    (3): MaxPool1d(kernel_size=2, stride=2, padding=0, dilation=1, ceil_mode=False)\n  )\n  (avgpool): AdaptiveAvgPool1d(output_size=6)\n  (classifier): Sequential(\n    (0): Linear(in_features=192, out_features=64, bias=True)\n    (1): ReLU()\n    (2): Dropout(p=0.5, inplace=False)\n    (3): Linear(in_features=64, out_features=2, bias=True)\n  )\n)"
     },
     "execution_count": 46,
     "metadata": {},
     "output_type": "execute_result"
    }
   ],
   "source": [
    "net = Classificator(1, len(dataset.y.unique()))\n",
    "net"
   ],
   "metadata": {
    "collapsed": false
   }
  },
  {
   "cell_type": "markdown",
   "source": [
    "Подбор гиперпараметров несколькими запусками:"
   ],
   "metadata": {
    "collapsed": false
   }
  },
  {
   "cell_type": "code",
   "execution_count": 47,
   "outputs": [
    {
     "name": "stdout",
     "output_type": "stream",
     "text": [
      "Epoch [ 1]: 0.655844\n",
      "Epoch [ 2]: 0.701299\n",
      "Epoch [ 3]: 0.740260\n",
      "Epoch [ 4]: 0.720779\n",
      "Epoch [ 5]: 0.727273\n",
      "Epoch [ 6]: 0.714286\n",
      "Epoch [ 7]: 0.733766\n",
      "Epoch [ 8]: 0.655844\n",
      "Epoch [ 9]: 0.785714\n",
      "Epoch [10]: 0.759740\n",
      "Epoch [11]: 0.772727\n",
      "Epoch [12]: 0.733766\n",
      "Epoch [13]: 0.720779\n",
      "Epoch [14]: 0.759740\n",
      "Epoch [15]: 0.707792\n",
      "Epoch [16]: 0.753247\n",
      "Epoch [17]: 0.792208\n",
      "Epoch [18]: 0.785714\n",
      "Epoch [19]: 0.720779\n",
      "Epoch [20]: 0.785714\n"
     ]
    }
   ],
   "source": [
    "loss_fn = nn.CrossEntropyLoss()\n",
    "optimizer = optim.Adam(net.parameters(), lr=0.001)\n",
    "\n",
    "train_dataloader = DataLoader(train_dataset, batch_size=8, shuffle=True)\n",
    "test_dataloader = DataLoader(test_dataset, batch_size=len(test_dataset))\n",
    "\n",
    "for epoch in range(20):\n",
    "    net.train()\n",
    "    for batch, (x, y) in enumerate(train_dataloader):\n",
    "        pred = net(x)\n",
    "        loss = loss_fn(pred, y)\n",
    "        optimizer.zero_grad()\n",
    "        loss.backward()\n",
    "        optimizer.step()\n",
    "\n",
    "    net.eval()  # отключаем Dropout\n",
    "    size = len(test_dataloader.dataset)\n",
    "    correct = 0\n",
    "    with torch.no_grad():  # отключаем вычисление градиентов для ускорения оценки\n",
    "        for x, y in test_dataloader:\n",
    "            pred = net(x)\n",
    "            correct += (pred.argmax(1) == y).sum().item()\n",
    "\n",
    "    accuracy = correct / size\n",
    "    print(f\"Epoch [{epoch + 1:>2}]: {accuracy:4f}\")"
   ],
   "metadata": {
    "collapsed": false
   }
  },
  {
   "cell_type": "code",
   "execution_count": 48,
   "outputs": [
    {
     "name": "stdout",
     "output_type": "stream",
     "text": [
      "              precision    recall  f1-score   support\n",
      "\n",
      "           0       0.81      0.87      0.84       101\n",
      "           1       0.72      0.62      0.67        53\n",
      "\n",
      "    accuracy                           0.79       154\n",
      "   macro avg       0.77      0.75      0.75       154\n",
      "weighted avg       0.78      0.79      0.78       154\n",
      "\n"
     ]
    }
   ],
   "source": [
    "net.eval()  # отключаем Dropout\n",
    "\n",
    "x_test, y_test = next(iter(test_dataloader))\n",
    "y_pred = net(x_test).argmax(1)\n",
    "print(metrics.classification_report(y_true=y_test, y_pred=y_pred, zero_division=True))"
   ],
   "metadata": {
    "collapsed": false
   }
  },
  {
   "cell_type": "markdown",
   "source": [
    "Неплохая точность модели ~0.8, но recall для больных говорит, о неприменимости модели."
   ],
   "metadata": {
    "collapsed": false
   }
  }
 ],
 "metadata": {
  "kernelspec": {
   "display_name": "Python 3",
   "language": "python",
   "name": "python3"
  },
  "language_info": {
   "codemirror_mode": {
    "name": "ipython",
    "version": 2
   },
   "file_extension": ".py",
   "mimetype": "text/x-python",
   "name": "python",
   "nbconvert_exporter": "python",
   "pygments_lexer": "ipython2",
   "version": "2.7.6"
  }
 },
 "nbformat": 4,
 "nbformat_minor": 0
}
