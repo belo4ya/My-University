{
 "cells": [
  {
   "cell_type": "markdown",
   "metadata": {},
   "source": [
    "# 5. Классификация текстов при помощи сетей прямого распространения\n",
    "\n",
    "__Автор__: Никита Владимирович Блохин (NVBlokhin@fa.ru)\n",
    "\n",
    "Финансовый университет, 2020 г."
   ]
  },
  {
   "cell_type": "code",
   "execution_count": 1,
   "metadata": {},
   "outputs": [],
   "source": [
    "import re\n",
    "import string\n",
    "import typing as t\n",
    "from pathlib import Path\n",
    "\n",
    "import matplotlib.pyplot as plt\n",
    "import nltk\n",
    "import pandas as pd\n",
    "import seaborn as sns\n",
    "import torch\n",
    "import torch.nn as nn\n",
    "import torch.nn.functional as F\n",
    "import torch.optim as optim\n",
    "from nltk.corpus import stopwords, wordnet\n",
    "from sklearn.preprocessing import LabelEncoder\n",
    "from torch.utils.data import Dataset, random_split, DataLoader"
   ]
  },
  {
   "cell_type": "code",
   "execution_count": 2,
   "metadata": {},
   "outputs": [],
   "source": [
    "torch.set_warn_always(True)\n",
    "\n",
    "sns.set_theme()\n",
    "plt.rcParams[\"figure.figsize\"] = (8, 4)"
   ]
  },
  {
   "cell_type": "code",
   "execution_count": 3,
   "metadata": {},
   "outputs": [
    {
     "name": "stdout",
     "output_type": "stream",
     "text": [
      "Using CUDA device\n"
     ]
    }
   ],
   "source": [
    "DATA_DIR = Path(\"data/\")\n",
    "\n",
    "DEVICE = \"cuda\" if torch.cuda.is_available() else \"cpu\"\n",
    "print(f\"Using {DEVICE.upper()} device\")"
   ]
  },
  {
   "cell_type": "code",
   "execution_count": 4,
   "metadata": {},
   "outputs": [],
   "source": [
    "def on_cuda(device: str) -> bool:\n",
    "    return device == \"cuda\"\n",
    "\n",
    "\n",
    "def common_train(\n",
    "        model: nn.Module,\n",
    "        loss_fn: nn.Module,\n",
    "        optimizer: optim.Optimizer,\n",
    "        train_dataloader: DataLoader,\n",
    "        epochs: int,\n",
    "        verbose: int = 100,\n",
    "        test_dataloader: DataLoader = None,\n",
    "        device: str = \"cpu\",\n",
    ") -> t.List[float]:\n",
    "    train_losses = []\n",
    "    for epoch in range(epochs):\n",
    "        print(f\"Epoch {epoch + 1}\\n\" + \"-\" * 32)\n",
    "        train_loss = train_loop(\n",
    "            train_dataloader,\n",
    "            model,\n",
    "            loss_fn,\n",
    "            optimizer,\n",
    "            verbose=verbose,\n",
    "            device=device,\n",
    "        )\n",
    "        train_losses.append(train_loss.item())\n",
    "        if test_dataloader:\n",
    "            test_loop(test_dataloader, model, loss_fn, device=device)\n",
    "        torch.cuda.empty_cache()\n",
    "    return train_losses\n",
    "\n",
    "\n",
    "def train_loop(\n",
    "        dataloader: DataLoader,\n",
    "        model: nn.Module,\n",
    "        loss_fn: nn.Module,\n",
    "        optimizer: optim.Optimizer,\n",
    "        verbose: int = 100,\n",
    "        device: str = \"cpu\",\n",
    ") -> torch.Tensor:\n",
    "    model.train()\n",
    "\n",
    "    size = len(dataloader.dataset)  # noqa\n",
    "    num_batches = len(dataloader)\n",
    "    avg_loss = 0\n",
    "\n",
    "    for batch, (x, y) in enumerate(dataloader):\n",
    "        x, y = x.to(device), y.to(device)\n",
    "\n",
    "        pred = model(x)\n",
    "        loss = loss_fn(pred, y)\n",
    "\n",
    "        optimizer.zero_grad()\n",
    "        loss.backward()\n",
    "        optimizer.step()\n",
    "\n",
    "        avg_loss += loss\n",
    "        if batch % verbose == 0:\n",
    "            print(f\"loss: {loss:>7f}  [{batch * len(x):>5d}/{size:>5d}]\")\n",
    "\n",
    "        del x, y, pred, loss\n",
    "        torch.cuda.empty_cache()\n",
    "\n",
    "    return avg_loss / num_batches\n",
    "\n",
    "\n",
    "def test_loop(\n",
    "        dataloader: DataLoader,\n",
    "        model: nn.Module,\n",
    "        loss_fn: nn.Module,\n",
    "        device: str = \"cpu\",\n",
    ") -> t.Tuple[torch.Tensor, torch.Tensor]:\n",
    "    model.eval()\n",
    "\n",
    "    size = len(dataloader.dataset)  # noqa\n",
    "    num_batches = len(dataloader)\n",
    "    avg_loss, correct = 0, 0\n",
    "\n",
    "    for x, y in dataloader:\n",
    "        x, y = x.to(device), y.to(device)\n",
    "        pred = model(x)\n",
    "        avg_loss += loss_fn(pred, y)\n",
    "        correct += (pred.argmax(1) == y).type(torch.float).sum().item()  # noqa\n",
    "\n",
    "        del x, y, pred\n",
    "        torch.cuda.empty_cache()\n",
    "\n",
    "    avg_loss /= num_batches\n",
    "    accuracy = correct / size\n",
    "    print(f\"Test Error: \\n Accuracy: {accuracy:>4f}, Avg loss: {avg_loss:>8f} \\n\")\n",
    "\n",
    "    return avg_loss, accuracy\n",
    "\n",
    "\n",
    "def plot_losses(losses: t.Any) -> None:\n",
    "    plt.plot(torch.arange(len(losses)), losses)"
   ]
  },
  {
   "cell_type": "markdown",
   "metadata": {
    "id": "jqDHq_AEjRZ1"
   },
   "source": [
    "## 1. Представление и предобработка текстовых данных "
   ]
  },
  {
   "cell_type": "markdown",
   "metadata": {
    "id": "vaki7efDpmXo"
   },
   "source": [
    "1.1 Операции по предобработке:\n",
    "* токенизация\n",
    "* стемминг / лемматизация\n",
    "* удаление стоп-слов\n",
    "* удаление пунктуации\n",
    "* приведение к нижнему регистру\n",
    "* любые другие операции над текстом"
   ]
  },
  {
   "cell_type": "code",
   "execution_count": 5,
   "metadata": {},
   "outputs": [],
   "source": [
    "text = 'Select your preferences and run the install command. Stable represents the most currently tested and supported version of PyTorch. Note that LibTorch is only available for C++'"
   ]
  },
  {
   "cell_type": "markdown",
   "metadata": {},
   "source": [
    "Реализовать функцию `preprocess_text(text: str) -> str`, которая:\n",
    "* приводит строку к нижнему регистру\n",
    "* заменяет все символы, кроме a-z, A-Z и знаков .,!? на пробел\n"
   ]
  },
  {
   "cell_type": "code",
   "execution_count": 6,
   "metadata": {},
   "outputs": [],
   "source": [
    "def get_pos(word: str) -> str:\n",
    "    tag = nltk.pos_tag([word])[0][1]\n",
    "    if tag.startswith('J'):\n",
    "        return wordnet.ADJ\n",
    "    elif tag.startswith('V'):\n",
    "        return wordnet.VERB\n",
    "    elif tag.startswith('R'):\n",
    "        return wordnet.ADV\n",
    "    else:\n",
    "        return wordnet.NOUN\n",
    "\n",
    "\n",
    "def preprocess_text(text: str) -> str:\n",
    "    text = text.lower()\n",
    "    text = re.sub(r\"[^a-z.!?]\", repl=\" \", string=text, flags=re.MULTILINE)\n",
    "\n",
    "    punctuation = set(string.punctuation)\n",
    "    stop_words = set(stopwords.words(\"english\"))\n",
    "    lemmatizer = nltk.WordNetLemmatizer()\n",
    "\n",
    "    sentences = []\n",
    "    for sent in nltk.sent_tokenize(text):\n",
    "        words = []\n",
    "        for word in nltk.word_tokenize(sent):\n",
    "            if word not in stop_words and word not in punctuation:\n",
    "                lemma = lemmatizer.lemmatize(word, pos=get_pos(word))\n",
    "                if lemma not in stop_words:\n",
    "                    words.append(lemma)\n",
    "        sentences.append(\" \".join(words))\n",
    "\n",
    "    text = \". \".join(sentences)\n",
    "    text = re.sub(r\"[!?]\", repl=\".\", string=text, flags=re.MULTILINE)\n",
    "\n",
    "    return text"
   ]
  },
  {
   "cell_type": "code",
   "execution_count": 7,
   "metadata": {},
   "outputs": [
    {
     "data": {
      "text/plain": [
       "'select preference run install command. stable represent currently test support version pytorch. note libtorch available c'"
      ]
     },
     "execution_count": 7,
     "metadata": {},
     "output_type": "execute_result"
    }
   ],
   "source": [
    "preprocess_text(text)"
   ]
  },
  {
   "cell_type": "markdown",
   "metadata": {
    "id": "Z2Dt1ssIqckC"
   },
   "source": [
    "1.2 Представление текстовых данных при помощи бинарного кодирования\n",
    "\n",
    "\n",
    "Представить первое предложение из `text` в виде тензора `sentence_t`: `sentence_t[i] == 1`, если __слово__ с индексом `i` присутствует в предложении."
   ]
  },
  {
   "cell_type": "code",
   "execution_count": 8,
   "metadata": {},
   "outputs": [
    {
     "data": {
      "text/plain": [
       "tensor([1., 0., 0., 1., 0., 1., 0., 0., 0., 0., 1., 0., 0., 0., 1., 0.])"
      ]
     },
     "execution_count": 8,
     "metadata": {},
     "output_type": "execute_result"
    }
   ],
   "source": [
    "text_ = preprocess_text(text)\n",
    "\n",
    "alphabet = list(set(nltk.word_tokenize(text_)) - {\".\"})\n",
    "word_to_idx = {word: i for i, word in enumerate(alphabet)}\n",
    "\n",
    "sentence = nltk.sent_tokenize(text_)[0]\n",
    "sentence = sentence[:-1] if sentence[-1] == '.' else sentence\n",
    "\n",
    "sentence_t = torch.zeros(len(alphabet))\n",
    "word_indices = [word_to_idx[w] for w in nltk.word_tokenize(sentence)]\n",
    "sentence_t[word_indices] = 1\n",
    "sentence_t"
   ]
  },
  {
   "cell_type": "markdown",
   "metadata": {
    "id": "P2Nz_zcgw3N4"
   },
   "source": [
    "## 2. Классификация фамилий по национальности\n",
    "\n",
    "Датасет: https://disk.yandex.ru/d/owHew8hzPc7X9Q?w=1"
   ]
  },
  {
   "cell_type": "markdown",
   "metadata": {},
   "source": [
    "2.1 Считать файл `surnames/surnames.csv`."
   ]
  },
  {
   "cell_type": "code",
   "execution_count": 9,
   "metadata": {},
   "outputs": [
    {
     "data": {
      "text/html": [
       "<div>\n",
       "<style scoped>\n",
       "    .dataframe tbody tr th:only-of-type {\n",
       "        vertical-align: middle;\n",
       "    }\n",
       "\n",
       "    .dataframe tbody tr th {\n",
       "        vertical-align: top;\n",
       "    }\n",
       "\n",
       "    .dataframe thead th {\n",
       "        text-align: right;\n",
       "    }\n",
       "</style>\n",
       "<table border=\"1\" class=\"dataframe\">\n",
       "  <thead>\n",
       "    <tr style=\"text-align: right;\">\n",
       "      <th></th>\n",
       "      <th>surname</th>\n",
       "      <th>nationality</th>\n",
       "    </tr>\n",
       "  </thead>\n",
       "  <tbody>\n",
       "    <tr>\n",
       "      <th>0</th>\n",
       "      <td>Woodford</td>\n",
       "      <td>English</td>\n",
       "    </tr>\n",
       "    <tr>\n",
       "      <th>1</th>\n",
       "      <td>Coté</td>\n",
       "      <td>French</td>\n",
       "    </tr>\n",
       "    <tr>\n",
       "      <th>2</th>\n",
       "      <td>Kore</td>\n",
       "      <td>English</td>\n",
       "    </tr>\n",
       "    <tr>\n",
       "      <th>3</th>\n",
       "      <td>Koury</td>\n",
       "      <td>Arabic</td>\n",
       "    </tr>\n",
       "    <tr>\n",
       "      <th>4</th>\n",
       "      <td>Lebzak</td>\n",
       "      <td>Russian</td>\n",
       "    </tr>\n",
       "  </tbody>\n",
       "</table>\n",
       "</div>"
      ],
      "text/plain": [
       "    surname nationality\n",
       "0  Woodford     English\n",
       "1      Coté      French\n",
       "2      Kore     English\n",
       "3     Koury      Arabic\n",
       "4    Lebzak     Russian"
      ]
     },
     "execution_count": 9,
     "metadata": {},
     "output_type": "execute_result"
    }
   ],
   "source": [
    "surnames = pd.read_csv(DATA_DIR / \"surnames.csv\")\n",
    "surnames.head()"
   ]
  },
  {
   "cell_type": "markdown",
   "metadata": {},
   "source": [
    "2.2 Закодировать национальности числами, начиная с 0."
   ]
  },
  {
   "cell_type": "code",
   "execution_count": 10,
   "metadata": {},
   "outputs": [
    {
     "name": "stdout",
     "output_type": "stream",
     "text": [
      "classes: 18\n"
     ]
    },
    {
     "data": {
      "text/html": [
       "<div>\n",
       "<style scoped>\n",
       "    .dataframe tbody tr th:only-of-type {\n",
       "        vertical-align: middle;\n",
       "    }\n",
       "\n",
       "    .dataframe tbody tr th {\n",
       "        vertical-align: top;\n",
       "    }\n",
       "\n",
       "    .dataframe thead th {\n",
       "        text-align: right;\n",
       "    }\n",
       "</style>\n",
       "<table border=\"1\" class=\"dataframe\">\n",
       "  <thead>\n",
       "    <tr style=\"text-align: right;\">\n",
       "      <th></th>\n",
       "      <th>surname</th>\n",
       "      <th>nationality</th>\n",
       "      <th>target</th>\n",
       "    </tr>\n",
       "  </thead>\n",
       "  <tbody>\n",
       "    <tr>\n",
       "      <th>0</th>\n",
       "      <td>Woodford</td>\n",
       "      <td>English</td>\n",
       "      <td>4</td>\n",
       "    </tr>\n",
       "    <tr>\n",
       "      <th>1</th>\n",
       "      <td>Coté</td>\n",
       "      <td>French</td>\n",
       "      <td>5</td>\n",
       "    </tr>\n",
       "    <tr>\n",
       "      <th>2</th>\n",
       "      <td>Kore</td>\n",
       "      <td>English</td>\n",
       "      <td>4</td>\n",
       "    </tr>\n",
       "    <tr>\n",
       "      <th>3</th>\n",
       "      <td>Koury</td>\n",
       "      <td>Arabic</td>\n",
       "      <td>0</td>\n",
       "    </tr>\n",
       "    <tr>\n",
       "      <th>4</th>\n",
       "      <td>Lebzak</td>\n",
       "      <td>Russian</td>\n",
       "      <td>14</td>\n",
       "    </tr>\n",
       "  </tbody>\n",
       "</table>\n",
       "</div>"
      ],
      "text/plain": [
       "    surname nationality  target\n",
       "0  Woodford     English       4\n",
       "1      Coté      French       5\n",
       "2      Kore     English       4\n",
       "3     Koury      Arabic       0\n",
       "4    Lebzak     Russian      14"
      ]
     },
     "execution_count": 10,
     "metadata": {},
     "output_type": "execute_result"
    }
   ],
   "source": [
    "labeler = LabelEncoder()\n",
    "surnames[\"target\"] = labeler.fit_transform(surnames[\"nationality\"])\n",
    "print(f\"classes: {len(labeler.classes_)}\")\n",
    "surnames.head()"
   ]
  },
  {
   "cell_type": "markdown",
   "metadata": {},
   "source": [
    "2.4 Реализовать класс `Vocab` (токен = __символ__)"
   ]
  },
  {
   "cell_type": "code",
   "execution_count": 11,
   "metadata": {
    "id": "kUkSZkDqxNYS"
   },
   "outputs": [],
   "source": [
    "class Vocab:\n",
    "\n",
    "    def __init__(self, data: t.Iterable[str]):\n",
    "        self.idx_to_token = list({ch for w in data for ch in w.lower()})\n",
    "        self.token_to_idx = {t: i for i, t in enumerate(self.idx_to_token)}\n",
    "        self.vocab_len = len(self.idx_to_token)"
   ]
  },
  {
   "cell_type": "code",
   "execution_count": 12,
   "metadata": {},
   "outputs": [
    {
     "data": {
      "text/plain": [
       "55"
      ]
     },
     "execution_count": 12,
     "metadata": {},
     "output_type": "execute_result"
    }
   ],
   "source": [
    "vocab = Vocab(surnames[\"surname\"])\n",
    "vocab.vocab_len"
   ]
  },
  {
   "cell_type": "markdown",
   "metadata": {},
   "source": [
    "2.5 Реализовать класс `SurnamesDataset`"
   ]
  },
  {
   "cell_type": "code",
   "execution_count": 13,
   "metadata": {
    "colab": {
     "base_uri": "https://localhost:8080/",
     "height": 229
    },
    "executionInfo": {
     "elapsed": 1303,
     "status": "error",
     "timestamp": 1619117849212,
     "user": {
      "displayName": "Никита Блохин",
      "photoUrl": "",
      "userId": "16402972581398673009"
     },
     "user_tz": -180
    },
    "id": "WCaRK1QHxe0A",
    "outputId": "5d1243af-d0dd-4922-9468-9618f5df4605",
    "scrolled": true
   },
   "outputs": [],
   "source": [
    "class SurnamesDataset(Dataset):\n",
    "    def __init__(self, data: t.List[str], targets: torch.Tensor, vocab: Vocab):\n",
    "        self.data = data\n",
    "        self.targets = targets\n",
    "        self.vocab = vocab\n",
    "\n",
    "    def vectorize(self, surname: str) -> torch.Tensor:\n",
    "        vec = torch.zeros(self.vocab.vocab_len)\n",
    "        indices = [self.vocab.token_to_idx[ch] for ch in surname.lower()]\n",
    "        vec[indices] = 1\n",
    "        return vec\n",
    "\n",
    "    def __len__(self):\n",
    "        return len(self.data)\n",
    "\n",
    "    def __getitem__(self, idx):\n",
    "        return self.vectorize(self.data[idx]), self.targets[idx]\n"
   ]
  },
  {
   "cell_type": "code",
   "execution_count": 14,
   "metadata": {},
   "outputs": [],
   "source": [
    "surnames_dataset = SurnamesDataset(\n",
    "    data=surnames[\"surname\"].tolist(),\n",
    "    targets=torch.tensor(surnames[\"target\"], dtype=torch.long),\n",
    "    vocab=vocab,\n",
    ")"
   ]
  },
  {
   "cell_type": "markdown",
   "metadata": {},
   "source": [
    "2.3 Разбить датасет на обучающую и тестовую выборку"
   ]
  },
  {
   "cell_type": "code",
   "execution_count": 15,
   "metadata": {},
   "outputs": [
    {
     "data": {
      "text/plain": [
       "(8784, 2196)"
      ]
     },
     "execution_count": 15,
     "metadata": {},
     "output_type": "execute_result"
    }
   ],
   "source": [
    "train_size = round(0.8 * len(surnames_dataset))\n",
    "test_size = len(surnames_dataset) - train_size\n",
    "train_dataset, test_dataset = random_split(surnames_dataset, lengths=(train_size, test_size))\n",
    "len(train_dataset), len(test_dataset)"
   ]
  },
  {
   "cell_type": "markdown",
   "metadata": {},
   "source": [
    "2.6. Обучить классификатор."
   ]
  },
  {
   "cell_type": "code",
   "execution_count": 16,
   "metadata": {},
   "outputs": [],
   "source": [
    "class SurnamesClassifier(nn.Module):\n",
    "\n",
    "    def __init__(self, in_features, out_features):\n",
    "        super(SurnamesClassifier, self).__init__()\n",
    "        self.seq = nn.Sequential(\n",
    "            nn.Linear(in_features, 256),\n",
    "            nn.ReLU(),\n",
    "            nn.Linear(256, out_features),\n",
    "            nn.LogSoftmax(dim=1),\n",
    "        )\n",
    "\n",
    "    def forward(self, inputs):\n",
    "        return self.seq(inputs)"
   ]
  },
  {
   "cell_type": "code",
   "execution_count": 17,
   "metadata": {},
   "outputs": [],
   "source": [
    "torch.manual_seed(0)\n",
    "\n",
    "net = SurnamesClassifier(vocab.vocab_len, vocab.vocab_len).to(DEVICE)\n",
    "loss_fn = nn.NLLLoss()\n",
    "optimizer = optim.Adam(net.parameters(), lr=0.001)\n",
    "\n",
    "train_dataloader = DataLoader(train_dataset, batch_size=8, shuffle=True)\n",
    "test_dataloader = DataLoader(test_dataset, batch_size=512)"
   ]
  },
  {
   "cell_type": "code",
   "execution_count": 18,
   "metadata": {},
   "outputs": [
    {
     "name": "stdout",
     "output_type": "stream",
     "text": [
      "Epoch 1\n",
      "--------------------------------\n",
      "loss: 4.041637  [    0/ 8784]\n",
      "loss: 2.586727  [ 2400/ 8784]\n",
      "loss: 2.281454  [ 4800/ 8784]\n",
      "loss: 1.734843  [ 7200/ 8784]\n",
      "Test Error: \n",
      " Accuracy: 0.524590, Avg loss: 1.481505 \n",
      "\n",
      "Epoch 2\n",
      "--------------------------------\n",
      "loss: 1.801057  [    0/ 8784]\n",
      "loss: 0.727641  [ 2400/ 8784]\n",
      "loss: 1.390900  [ 4800/ 8784]\n",
      "loss: 1.085759  [ 7200/ 8784]\n",
      "Test Error: \n",
      " Accuracy: 0.561931, Avg loss: 1.357959 \n",
      "\n",
      "Epoch 3\n",
      "--------------------------------\n",
      "loss: 1.610218  [    0/ 8784]\n",
      "loss: 2.660348  [ 2400/ 8784]\n",
      "loss: 0.784081  [ 4800/ 8784]\n",
      "loss: 0.478230  [ 7200/ 8784]\n",
      "Test Error: \n",
      " Accuracy: 0.595173, Avg loss: 1.300217 \n",
      "\n",
      "Epoch 4\n",
      "--------------------------------\n",
      "loss: 1.069871  [    0/ 8784]\n",
      "loss: 1.913665  [ 2400/ 8784]\n",
      "loss: 1.119720  [ 4800/ 8784]\n",
      "loss: 0.294441  [ 7200/ 8784]\n",
      "Test Error: \n",
      " Accuracy: 0.606557, Avg loss: 1.250970 \n",
      "\n",
      "Epoch 5\n",
      "--------------------------------\n",
      "loss: 1.641084  [    0/ 8784]\n",
      "loss: 0.918495  [ 2400/ 8784]\n",
      "loss: 0.678092  [ 4800/ 8784]\n",
      "loss: 0.913145  [ 7200/ 8784]\n",
      "Test Error: \n",
      " Accuracy: 0.622040, Avg loss: 1.213816 \n",
      "\n",
      "Epoch 6\n",
      "--------------------------------\n",
      "loss: 1.307245  [    0/ 8784]\n",
      "loss: 1.551446  [ 2400/ 8784]\n",
      "loss: 0.523561  [ 4800/ 8784]\n",
      "loss: 1.391153  [ 7200/ 8784]\n",
      "Test Error: \n",
      " Accuracy: 0.620674, Avg loss: 1.206105 \n",
      "\n",
      "Epoch 7\n",
      "--------------------------------\n",
      "loss: 1.410909  [    0/ 8784]\n",
      "loss: 1.456923  [ 2400/ 8784]\n",
      "loss: 0.658812  [ 4800/ 8784]\n",
      "loss: 0.894301  [ 7200/ 8784]\n",
      "Test Error: \n",
      " Accuracy: 0.638434, Avg loss: 1.178519 \n",
      "\n",
      "Epoch 8\n",
      "--------------------------------\n",
      "loss: 1.226470  [    0/ 8784]\n",
      "loss: 0.936009  [ 2400/ 8784]\n",
      "loss: 0.699115  [ 4800/ 8784]\n",
      "loss: 1.068146  [ 7200/ 8784]\n",
      "Test Error: \n",
      " Accuracy: 0.631148, Avg loss: 1.164504 \n",
      "\n",
      "Epoch 9\n",
      "--------------------------------\n",
      "loss: 1.195699  [    0/ 8784]\n",
      "loss: 2.206139  [ 2400/ 8784]\n",
      "loss: 0.948027  [ 4800/ 8784]\n",
      "loss: 0.912877  [ 7200/ 8784]\n",
      "Test Error: \n",
      " Accuracy: 0.639344, Avg loss: 1.165407 \n",
      "\n",
      "Epoch 10\n",
      "--------------------------------\n",
      "loss: 0.853625  [    0/ 8784]\n",
      "loss: 0.918802  [ 2400/ 8784]\n",
      "loss: 1.487044  [ 4800/ 8784]\n",
      "loss: 0.670326  [ 7200/ 8784]\n",
      "Test Error: \n",
      " Accuracy: 0.635246, Avg loss: 1.137961 \n",
      "\n",
      "Epoch 11\n",
      "--------------------------------\n",
      "loss: 0.987592  [    0/ 8784]\n",
      "loss: 1.560103  [ 2400/ 8784]\n",
      "loss: 1.966254  [ 4800/ 8784]\n",
      "loss: 1.140729  [ 7200/ 8784]\n",
      "Test Error: \n",
      " Accuracy: 0.645264, Avg loss: 1.123493 \n",
      "\n",
      "Epoch 12\n",
      "--------------------------------\n",
      "loss: 0.931383  [    0/ 8784]\n",
      "loss: 0.446927  [ 2400/ 8784]\n",
      "loss: 0.966029  [ 4800/ 8784]\n",
      "loss: 0.751008  [ 7200/ 8784]\n",
      "Test Error: \n",
      " Accuracy: 0.635701, Avg loss: 1.146936 \n",
      "\n",
      "Epoch 13\n",
      "--------------------------------\n",
      "loss: 0.800598  [    0/ 8784]\n",
      "loss: 1.346817  [ 2400/ 8784]\n",
      "loss: 0.882284  [ 4800/ 8784]\n",
      "loss: 0.959237  [ 7200/ 8784]\n",
      "Test Error: \n",
      " Accuracy: 0.644353, Avg loss: 1.134456 \n",
      "\n",
      "Epoch 14\n",
      "--------------------------------\n",
      "loss: 0.494001  [    0/ 8784]\n",
      "loss: 1.015387  [ 2400/ 8784]\n",
      "loss: 0.974486  [ 4800/ 8784]\n",
      "loss: 0.519978  [ 7200/ 8784]\n",
      "Test Error: \n",
      " Accuracy: 0.643443, Avg loss: 1.138741 \n",
      "\n",
      "Epoch 15\n",
      "--------------------------------\n",
      "loss: 0.445092  [    0/ 8784]\n",
      "loss: 1.959818  [ 2400/ 8784]\n",
      "loss: 0.607930  [ 4800/ 8784]\n",
      "loss: 0.686296  [ 7200/ 8784]\n",
      "Test Error: \n",
      " Accuracy: 0.647086, Avg loss: 1.115246 \n",
      "\n",
      "Epoch 16\n",
      "--------------------------------\n",
      "loss: 0.990066  [    0/ 8784]\n",
      "loss: 1.340157  [ 2400/ 8784]\n",
      "loss: 0.987154  [ 4800/ 8784]\n",
      "loss: 1.212868  [ 7200/ 8784]\n",
      "Test Error: \n",
      " Accuracy: 0.646630, Avg loss: 1.131618 \n",
      "\n",
      "Epoch 17\n",
      "--------------------------------\n",
      "loss: 0.467050  [    0/ 8784]\n",
      "loss: 1.482344  [ 2400/ 8784]\n",
      "loss: 1.447325  [ 4800/ 8784]\n",
      "loss: 0.756089  [ 7200/ 8784]\n",
      "Test Error: \n",
      " Accuracy: 0.656648, Avg loss: 1.123935 \n",
      "\n",
      "Epoch 18\n",
      "--------------------------------\n",
      "loss: 1.379250  [    0/ 8784]\n",
      "loss: 1.258707  [ 2400/ 8784]\n",
      "loss: 1.210860  [ 4800/ 8784]\n",
      "loss: 0.571212  [ 7200/ 8784]\n",
      "Test Error: \n",
      " Accuracy: 0.644353, Avg loss: 1.140679 \n",
      "\n",
      "Epoch 19\n",
      "--------------------------------\n",
      "loss: 1.367923  [    0/ 8784]\n",
      "loss: 0.893208  [ 2400/ 8784]\n",
      "loss: 1.076140  [ 4800/ 8784]\n",
      "loss: 1.470130  [ 7200/ 8784]\n",
      "Test Error: \n",
      " Accuracy: 0.647996, Avg loss: 1.121787 \n",
      "\n",
      "Epoch 20\n",
      "--------------------------------\n",
      "loss: 0.624556  [    0/ 8784]\n",
      "loss: 1.155776  [ 2400/ 8784]\n",
      "loss: 1.354294  [ 4800/ 8784]\n",
      "loss: 0.530894  [ 7200/ 8784]\n",
      "Test Error: \n",
      " Accuracy: 0.643443, Avg loss: 1.124411 \n",
      "\n"
     ]
    }
   ],
   "source": [
    "train_losses = common_train(\n",
    "    epochs=20,\n",
    "    model=net,\n",
    "    loss_fn=loss_fn,\n",
    "    optimizer=optimizer,\n",
    "    train_dataloader=train_dataloader,\n",
    "    test_dataloader=test_dataloader,\n",
    "    verbose=300,\n",
    "    device=DEVICE,\n",
    ")"
   ]
  },
  {
   "cell_type": "code",
   "execution_count": 19,
   "metadata": {},
   "outputs": [
    {
     "data": {
      "image/png": "[encoded data removed]",
      "text/plain": [
       "<Figure size 576x288 with 1 Axes>"
      ]
     },
     "metadata": {},
     "output_type": "display_data"
    }
   ],
   "source": [
    "plot_losses(train_losses)"
   ]
  },
  {
   "cell_type": "markdown",
   "metadata": {},
   "source": [
    "2.7 Измерить точность на тестовой выборке. Проверить работоспособность модели: прогнать несколько фамилий студентов группы через модели и проверить результат. Для каждой фамилии выводить 3 наиболее вероятных предсказания."
   ]
  },
  {
   "cell_type": "code",
   "execution_count": 20,
   "metadata": {},
   "outputs": [
    {
     "name": "stdout",
     "output_type": "stream",
     "text": [
      "Test Error: \n",
      " Accuracy: 0.643443, Avg loss: 1.124411 \n",
      "\n"
     ]
    }
   ],
   "source": [
    "test_loop(dataloader=test_dataloader, model=net, loss_fn=loss_fn, device=DEVICE);"
   ]
  },
  {
   "cell_type": "code",
   "execution_count": 21,
   "metadata": {},
   "outputs": [],
   "source": [
    "def inference(\n",
    "        surname: str,\n",
    "        target: str,\n",
    "        model: nn.Module,\n",
    "        dataset: SurnamesDataset,\n",
    "        labeler: LabelEncoder,\n",
    "        k: int = 3,\n",
    "        device: str = \"cpu\",\n",
    "):\n",
    "    x = dataset.vectorize(surname)\n",
    "    x = x.to(device)\n",
    "\n",
    "    pred = model(x.unsqueeze(0))\n",
    "    pred_proba, pred_label_indices = F.softmax(pred, 1).topk(k, dim=1)\n",
    "    pred_labels = labeler.inverse_transform(pred_label_indices.squeeze().cpu())\n",
    "\n",
    "    predicts = \", \".join(\n",
    "        [f\"{label} ({prob:.2f})\" for (label, prob) in zip(pred_labels, pred_proba.squeeze())]\n",
    "    )\n",
    "    print(f\"Surname : {surname}\")\n",
    "    print(f\"True    : {target}\")\n",
    "    print(f\"Predicts: {predicts}\\n\")"
   ]
  },
  {
   "cell_type": "code",
   "execution_count": 22,
   "metadata": {},
   "outputs": [
    {
     "name": "stdout",
     "output_type": "stream",
     "text": [
      "Surname : Alexandrova\n",
      "True    : Russian\n",
      "Predicts: English (0.62), French (0.18), Dutch (0.10)\n",
      "\n",
      "Surname : Baranov\n",
      "True    : Russian\n",
      "Predicts: Russian (0.67), Czech (0.25), Italian (0.05)\n",
      "\n",
      "Surname : Brusova\n",
      "True    : Russian\n",
      "Predicts: Russian (0.68), Czech (0.29), Spanish (0.02)\n",
      "\n",
      "Surname : Volkova\n",
      "True    : Russian\n",
      "Predicts: Russian (0.55), Czech (0.44), Dutch (0.00)\n",
      "\n",
      "Surname : Kovalev\n",
      "True    : Russian\n",
      "Predicts: Russian (0.77), Czech (0.19), Dutch (0.03)\n",
      "\n",
      "Surname : Kostyuchenko\n",
      "True    : Russian\n",
      "Predicts: Russian (0.89), Czech (0.04), English (0.04)\n",
      "\n",
      "Surname : Kuzin\n",
      "True    : Russian\n",
      "Predicts: Russian (0.76), Czech (0.13), Japanese (0.04)\n",
      "\n",
      "Surname : Likhachev\n",
      "True    : Russian\n",
      "Predicts: Russian (0.93), Czech (0.06), English (0.01)\n",
      "\n",
      "Surname : Telitsyn\n",
      "True    : Russian\n",
      "Predicts: English (0.83), Russian (0.12), Greek (0.02)\n",
      "\n",
      "Surname : Ustimova\n",
      "True    : Russian\n",
      "Predicts: Russian (0.91), French (0.03), Czech (0.03)\n",
      "\n",
      "Surname : Khamikoeva\n",
      "True    : Russian\n",
      "Predicts: Russian (1.00), Czech (0.00), Japanese (0.00)\n",
      "\n"
     ]
    }
   ],
   "source": [
    "students = [\n",
    "    \"Alexandrova\",\n",
    "    \"Baranov\",\n",
    "    \"Brusova\",\n",
    "    \"Volkova\",\n",
    "    \"Kovalev\",\n",
    "    \"Kostyuchenko\",\n",
    "    \"Kuzin\",\n",
    "    \"Likhachev\",\n",
    "    \"Telitsyn\",\n",
    "    \"Ustimova\",\n",
    "    \"Khamikoeva\",\n",
    "]\n",
    "for surname in students:\n",
    "    inference(\n",
    "        surname=surname,\n",
    "        target=\"Russian\",\n",
    "        model=net,\n",
    "        dataset=surnames_dataset,\n",
    "        labeler=labeler,\n",
    "        device=DEVICE,\n",
    "    )"
   ]
  },
  {
   "cell_type": "markdown",
   "metadata": {
    "id": "PLmDB3fJtVox"
   },
   "source": [
    "## 3. Классификация обзоров ресторанов\n",
    "\n",
    "Датасет: https://disk.yandex.ru/d/nY1o70JtAuYa8g\n"
   ]
  },
  {
   "cell_type": "markdown",
   "metadata": {},
   "source": [
    "3.1 Считать файл `yelp/raw_train.csv`. Оставить от исходного датасета 10% строчек."
   ]
  },
  {
   "cell_type": "code",
   "execution_count": 23,
   "metadata": {},
   "outputs": [
    {
     "name": "stdout",
     "output_type": "stream",
     "text": [
      "560000\n"
     ]
    },
    {
     "data": {
      "text/html": [
       "<div>\n",
       "<style scoped>\n",
       "    .dataframe tbody tr th:only-of-type {\n",
       "        vertical-align: middle;\n",
       "    }\n",
       "\n",
       "    .dataframe tbody tr th {\n",
       "        vertical-align: top;\n",
       "    }\n",
       "\n",
       "    .dataframe thead th {\n",
       "        text-align: right;\n",
       "    }\n",
       "</style>\n",
       "<table border=\"1\" class=\"dataframe\">\n",
       "  <thead>\n",
       "    <tr style=\"text-align: right;\">\n",
       "      <th></th>\n",
       "      <th>0</th>\n",
       "      <th>1</th>\n",
       "    </tr>\n",
       "  </thead>\n",
       "  <tbody>\n",
       "    <tr>\n",
       "      <th>0</th>\n",
       "      <td>1</td>\n",
       "      <td>Unfortunately, the frustration of being Dr. Go...</td>\n",
       "    </tr>\n",
       "    <tr>\n",
       "      <th>1</th>\n",
       "      <td>2</td>\n",
       "      <td>Been going to Dr. Goldberg for over 10 years. ...</td>\n",
       "    </tr>\n",
       "    <tr>\n",
       "      <th>2</th>\n",
       "      <td>1</td>\n",
       "      <td>I don't know what Dr. Goldberg was like before...</td>\n",
       "    </tr>\n",
       "    <tr>\n",
       "      <th>3</th>\n",
       "      <td>1</td>\n",
       "      <td>I'm writing this review to give you a heads up...</td>\n",
       "    </tr>\n",
       "    <tr>\n",
       "      <th>4</th>\n",
       "      <td>2</td>\n",
       "      <td>All the food is great here. But the best thing...</td>\n",
       "    </tr>\n",
       "  </tbody>\n",
       "</table>\n",
       "</div>"
      ],
      "text/plain": [
       "   0                                                  1\n",
       "0  1  Unfortunately, the frustration of being Dr. Go...\n",
       "1  2  Been going to Dr. Goldberg for over 10 years. ...\n",
       "2  1  I don't know what Dr. Goldberg was like before...\n",
       "3  1  I'm writing this review to give you a heads up...\n",
       "4  2  All the food is great here. But the best thing..."
      ]
     },
     "execution_count": 23,
     "metadata": {},
     "output_type": "execute_result"
    }
   ],
   "source": [
    "reviews = pd.read_csv(DATA_DIR / \"yelp/raw_train.csv\", header=None)\n",
    "print(len(reviews))\n",
    "reviews.head()"
   ]
  },
  {
   "cell_type": "code",
   "execution_count": 24,
   "metadata": {},
   "outputs": [
    {
     "name": "stdout",
     "output_type": "stream",
     "text": [
      "56000\n"
     ]
    },
    {
     "data": {
      "text/html": [
       "<div>\n",
       "<style scoped>\n",
       "    .dataframe tbody tr th:only-of-type {\n",
       "        vertical-align: middle;\n",
       "    }\n",
       "\n",
       "    .dataframe tbody tr th {\n",
       "        vertical-align: top;\n",
       "    }\n",
       "\n",
       "    .dataframe thead th {\n",
       "        text-align: right;\n",
       "    }\n",
       "</style>\n",
       "<table border=\"1\" class=\"dataframe\">\n",
       "  <thead>\n",
       "    <tr style=\"text-align: right;\">\n",
       "      <th></th>\n",
       "      <th>0</th>\n",
       "      <th>1</th>\n",
       "    </tr>\n",
       "  </thead>\n",
       "  <tbody>\n",
       "    <tr>\n",
       "      <th>0</th>\n",
       "      <td>2</td>\n",
       "      <td>Call me crazy, but I really enjoyed this place...</td>\n",
       "    </tr>\n",
       "    <tr>\n",
       "      <th>1</th>\n",
       "      <td>1</td>\n",
       "      <td>HORRIBLE, HORRIBLE, HORRIBLE ONLINE CUSTOMER S...</td>\n",
       "    </tr>\n",
       "    <tr>\n",
       "      <th>2</th>\n",
       "      <td>2</td>\n",
       "      <td>The staff were extremely helpful in answering ...</td>\n",
       "    </tr>\n",
       "    <tr>\n",
       "      <th>3</th>\n",
       "      <td>2</td>\n",
       "      <td>The steak tartare is fantastic!  I'd come back...</td>\n",
       "    </tr>\n",
       "    <tr>\n",
       "      <th>4</th>\n",
       "      <td>2</td>\n",
       "      <td>Everything I could want for $3.</td>\n",
       "    </tr>\n",
       "  </tbody>\n",
       "</table>\n",
       "</div>"
      ],
      "text/plain": [
       "   0                                                  1\n",
       "0  2  Call me crazy, but I really enjoyed this place...\n",
       "1  1  HORRIBLE, HORRIBLE, HORRIBLE ONLINE CUSTOMER S...\n",
       "2  2  The staff were extremely helpful in answering ...\n",
       "3  2  The steak tartare is fantastic!  I'd come back...\n",
       "4  2                    Everything I could want for $3."
      ]
     },
     "execution_count": 24,
     "metadata": {},
     "output_type": "execute_result"
    }
   ],
   "source": [
    "reviews = reviews.sample(frac=0.1, ignore_index=True, random_state=0)\n",
    "print(len(reviews))\n",
    "reviews.head()"
   ]
  },
  {
   "cell_type": "markdown",
   "metadata": {},
   "source": [
    "3.2 Воспользоваться функцией `preprocess_text` из 1.1 для обработки текста отзыва. Закодировать рейтинг числами, начиная с 0."
   ]
  },
  {
   "cell_type": "code",
   "execution_count": 25,
   "metadata": {},
   "outputs": [
    {
     "name": "stdout",
     "output_type": "stream",
     "text": [
      "classes: 2\n"
     ]
    },
    {
     "data": {
      "text/html": [
       "<div>\n",
       "<style scoped>\n",
       "    .dataframe tbody tr th:only-of-type {\n",
       "        vertical-align: middle;\n",
       "    }\n",
       "\n",
       "    .dataframe tbody tr th {\n",
       "        vertical-align: top;\n",
       "    }\n",
       "\n",
       "    .dataframe thead th {\n",
       "        text-align: right;\n",
       "    }\n",
       "</style>\n",
       "<table border=\"1\" class=\"dataframe\">\n",
       "  <thead>\n",
       "    <tr style=\"text-align: right;\">\n",
       "      <th></th>\n",
       "      <th>0</th>\n",
       "      <th>1</th>\n",
       "    </tr>\n",
       "  </thead>\n",
       "  <tbody>\n",
       "    <tr>\n",
       "      <th>0</th>\n",
       "      <td>1</td>\n",
       "      <td>call crazy really enjoy place get ton food dec...</td>\n",
       "    </tr>\n",
       "    <tr>\n",
       "      <th>1</th>\n",
       "      <td>0</td>\n",
       "      <td>horrible horrible horrible online customer ser...</td>\n",
       "    </tr>\n",
       "    <tr>\n",
       "      <th>2</th>\n",
       "      <td>1</td>\n",
       "      <td>staff extremely helpful answer question take t...</td>\n",
       "    </tr>\n",
       "    <tr>\n",
       "      <th>3</th>\n",
       "      <td>1</td>\n",
       "      <td>steak tartare fantastic come back vega dine gr...</td>\n",
       "    </tr>\n",
       "    <tr>\n",
       "      <th>4</th>\n",
       "      <td>1</td>\n",
       "      <td>everything could want</td>\n",
       "    </tr>\n",
       "  </tbody>\n",
       "</table>\n",
       "</div>"
      ],
      "text/plain": [
       "   0                                                  1\n",
       "0  1  call crazy really enjoy place get ton food dec...\n",
       "1  0  horrible horrible horrible online customer ser...\n",
       "2  1  staff extremely helpful answer question take t...\n",
       "3  1  steak tartare fantastic come back vega dine gr...\n",
       "4  1                              everything could want"
      ]
     },
     "execution_count": 25,
     "metadata": {},
     "output_type": "execute_result"
    }
   ],
   "source": [
    "labeler = LabelEncoder()\n",
    "\n",
    "reviews[0] = labeler.fit_transform(reviews[0])\n",
    "reviews[1] = reviews[1].apply(lambda t: preprocess_text(t).replace(\".\", \"\"))\n",
    "print(f\"classes: {len(labeler.classes_)}\")\n",
    "reviews.head()"
   ]
  },
  {
   "cell_type": "markdown",
   "metadata": {},
   "source": [
    "3.4 Реализовать класс `Vocab` (токен = слово)."
   ]
  },
  {
   "cell_type": "code",
   "execution_count": 26,
   "metadata": {},
   "outputs": [],
   "source": [
    "class Vocab:\n",
    "\n",
    "    def __init__(self, data: t.Iterable[str]):\n",
    "        self.idx_to_token = list({w for text in data for w in nltk.word_tokenize(text)} - {\".\"})\n",
    "        self.token_to_idx = {t: i for i, t in enumerate(self.idx_to_token)}\n",
    "        self.vocab_len = len(self.idx_to_token)"
   ]
  },
  {
   "cell_type": "code",
   "execution_count": 27,
   "metadata": {},
   "outputs": [
    {
     "data": {
      "text/plain": [
       "60302"
      ]
     },
     "execution_count": 27,
     "metadata": {},
     "output_type": "execute_result"
    }
   ],
   "source": [
    "vocab = Vocab(reviews[1])\n",
    "vocab.vocab_len"
   ]
  },
  {
   "cell_type": "markdown",
   "metadata": {},
   "source": [
    "3.5 Реализовать класс `ReviewDataset`."
   ]
  },
  {
   "cell_type": "code",
   "execution_count": 28,
   "metadata": {},
   "outputs": [],
   "source": [
    "class ReviewDataset(Dataset):\n",
    "    def __init__(self, data: t.List[str], targets: torch.Tensor, vocab: Vocab):\n",
    "        self.data = data\n",
    "        self.targets = targets\n",
    "        self.vocab = vocab\n",
    "\n",
    "    def vectorize(self, review: str):\n",
    "        vec = torch.zeros(self.vocab.vocab_len)\n",
    "        indices = [self.vocab.token_to_idx[w] for w in nltk.word_tokenize(review)]\n",
    "        vec[indices] = 1\n",
    "        return vec\n",
    "\n",
    "    def __len__(self):\n",
    "        return len(self.data)\n",
    "\n",
    "    def __getitem__(self, idx):\n",
    "        return self.vectorize(self.data[idx]), self.targets[idx]"
   ]
  },
  {
   "cell_type": "code",
   "execution_count": 29,
   "metadata": {},
   "outputs": [],
   "source": [
    "reviews_dataset = ReviewDataset(\n",
    "    data=reviews[1].tolist(),\n",
    "    targets=torch.tensor(reviews[0], dtype=torch.long),\n",
    "    vocab=vocab,\n",
    ")"
   ]
  },
  {
   "cell_type": "markdown",
   "metadata": {},
   "source": [
    "3.3 Разбить датасет на обучающую и тестовую выборку."
   ]
  },
  {
   "cell_type": "code",
   "execution_count": 30,
   "metadata": {},
   "outputs": [
    {
     "data": {
      "text/plain": [
       "(44800, 11200)"
      ]
     },
     "execution_count": 30,
     "metadata": {},
     "output_type": "execute_result"
    }
   ],
   "source": [
    "train_size = round(0.8 * len(reviews_dataset))\n",
    "test_size = len(reviews_dataset) - train_size\n",
    "train_dataset, test_dataset = random_split(reviews_dataset, lengths=(train_size, test_size))\n",
    "len(train_dataset), len(test_dataset)"
   ]
  },
  {
   "cell_type": "markdown",
   "metadata": {},
   "source": [
    "3.6 Обучить классификатор."
   ]
  },
  {
   "cell_type": "code",
   "execution_count": 31,
   "metadata": {},
   "outputs": [],
   "source": [
    "class ReviewsClassifier(nn.Module):\n",
    "\n",
    "    def __init__(self, in_features, out_features):\n",
    "        super(ReviewsClassifier, self).__init__()\n",
    "        self.seq = nn.Sequential(\n",
    "            nn.Linear(in_features, 256),\n",
    "            nn.ReLU(),\n",
    "            nn.Dropout(),\n",
    "            nn.Linear(256, out_features),\n",
    "            nn.LogSoftmax(dim=1),\n",
    "        )\n",
    "\n",
    "    def forward(self, inputs):\n",
    "        return self.seq(inputs)"
   ]
  },
  {
   "cell_type": "code",
   "execution_count": 32,
   "metadata": {},
   "outputs": [],
   "source": [
    "torch.manual_seed(0)\n",
    "\n",
    "net = ReviewsClassifier(vocab.vocab_len, vocab.vocab_len).to(DEVICE)\n",
    "loss_fn = nn.NLLLoss()\n",
    "optimizer = optim.Adam(net.parameters(), lr=0.0005)\n",
    "\n",
    "train_dataloader = DataLoader(train_dataset, batch_size=64, shuffle=True)\n",
    "test_dataloader = DataLoader(test_dataset, batch_size=1024)"
   ]
  },
  {
   "cell_type": "code",
   "execution_count": 33,
   "metadata": {},
   "outputs": [
    {
     "name": "stdout",
     "output_type": "stream",
     "text": [
      "Epoch 1\n",
      "--------------------------------\n",
      "loss: 11.060139  [    0/44800]\n",
      "loss: 0.788751  [12800/44800]\n",
      "loss: 0.524461  [25600/44800]\n",
      "loss: 0.356782  [38400/44800]\n",
      "Test Error: \n",
      " Accuracy: 0.907589, Avg loss: 0.278252 \n",
      "\n",
      "Epoch 2\n",
      "--------------------------------\n",
      "loss: 0.305248  [    0/44800]\n",
      "loss: 0.179277  [12800/44800]\n",
      "loss: 0.174105  [25600/44800]\n",
      "loss: 0.243305  [38400/44800]\n",
      "Test Error: \n",
      " Accuracy: 0.914643, Avg loss: 0.223327 \n",
      "\n",
      "Epoch 3\n",
      "--------------------------------\n",
      "loss: 0.175501  [    0/44800]\n",
      "loss: 0.168940  [12800/44800]\n",
      "loss: 0.185063  [25600/44800]\n",
      "loss: 0.095122  [38400/44800]\n",
      "Test Error: \n",
      " Accuracy: 0.913571, Avg loss: 0.223258 \n",
      "\n",
      "Epoch 4\n",
      "--------------------------------\n",
      "loss: 0.090257  [    0/44800]\n",
      "loss: 0.140087  [12800/44800]\n",
      "loss: 0.154601  [25600/44800]\n",
      "loss: 0.108046  [38400/44800]\n",
      "Test Error: \n",
      " Accuracy: 0.912946, Avg loss: 0.234252 \n",
      "\n"
     ]
    }
   ],
   "source": [
    "train_losses = common_train(\n",
    "    epochs=4,\n",
    "    model=net,\n",
    "    loss_fn=loss_fn,\n",
    "    optimizer=optimizer,\n",
    "    train_dataloader=train_dataloader,\n",
    "    test_dataloader=test_dataloader,\n",
    "    verbose=200,\n",
    "    device=DEVICE,\n",
    ")"
   ]
  },
  {
   "cell_type": "code",
   "execution_count": 34,
   "metadata": {},
   "outputs": [
    {
     "data": {
      "image/png": "[encoded data removed]",
      "text/plain": [
       "<Figure size 576x288 with 1 Axes>"
      ]
     },
     "metadata": {},
     "output_type": "display_data"
    }
   ],
   "source": [
    "plot_losses(train_losses)"
   ]
  },
  {
   "cell_type": "markdown",
   "metadata": {},
   "source": [
    "3.7 Измерить точность на тестовой выборке. Проверить работоспособность модели: придумать небольшой отзыв, прогнать его через модель и вывести номер предсказанного класса (сделать это для явно позитивного и явно негативного отзыва)."
   ]
  },
  {
   "cell_type": "code",
   "execution_count": 35,
   "metadata": {},
   "outputs": [
    {
     "name": "stdout",
     "output_type": "stream",
     "text": [
      "Test Error: \n",
      " Accuracy: 0.912946, Avg loss: 0.234252 \n",
      "\n"
     ]
    }
   ],
   "source": [
    "test_loop(dataloader=test_dataloader, model=net, loss_fn=loss_fn, device=DEVICE);"
   ]
  },
  {
   "cell_type": "code",
   "execution_count": 51,
   "metadata": {},
   "outputs": [],
   "source": [
    "def inference(\n",
    "        review: str,\n",
    "        target: int,\n",
    "        model: nn.Module,\n",
    "        dataset: ReviewDataset,\n",
    "        labeler: LabelEncoder,\n",
    "        device: str = \"cpu\",\n",
    "):\n",
    "    x = dataset.vectorize(review)\n",
    "    x = x.to(device)\n",
    "\n",
    "    pred = model(x.unsqueeze(0))\n",
    "    pred_proba, pred_label_idx = F.softmax(pred, 1).max(dim=1)\n",
    "    pred_label = labeler.inverse_transform([pred_label_idx.cpu()])\n",
    "\n",
    "    print(f\"Review : {review}\")\n",
    "    print(f\"True    : {target}\")\n",
    "    print(f\"Predict: {pred_label.item()} ({pred_proba.item():.2f})\\n\")"
   ]
  },
  {
   "cell_type": "code",
   "execution_count": 52,
   "metadata": {},
   "outputs": [
    {
     "name": "stdout",
     "output_type": "stream",
     "text": [
      "Review : everything bad bad place bother visit\n",
      "True    : 1\n",
      "Predict: 1 (0.82)\n",
      "\n",
      "Review : wonderful place like everything\n",
      "True    : 2\n",
      "Predict: 2 (0.89)\n",
      "\n"
     ]
    }
   ],
   "source": [
    "reviews = [\n",
    "    (\"Everything is very bad. This is the worst place I haven't bothered to visit.\", 1),\n",
    "    (\"A wonderful place. I liked everything.\", 2),\n",
    "]\n",
    "for review, target in reviews:\n",
    "    inference(\n",
    "        review=preprocess_text(review).replace(\".\", \"\"),\n",
    "        target=target,\n",
    "        model=net,\n",
    "        dataset=reviews_dataset,\n",
    "        labeler=labeler,\n",
    "        device=DEVICE,\n",
    "    )"
   ]
  }
 ],
 "metadata": {
  "colab": {
   "authorship_tag": "ABX9TyMJ70DQQj2X/XaG2BMq6jy8",
   "collapsed_sections": [],
   "name": "blank__05_NLP_1_intro.ipynb",
   "provenance": [],
   "toc_visible": true
  },
  "kernelspec": {
   "display_name": "Python 3 (ipykernel)",
   "language": "python",
   "name": "python3"
  },
  "language_info": {
   "codemirror_mode": {
    "name": "ipython",
    "version": 3
   },
   "file_extension": ".py",
   "mimetype": "text/x-python",
   "name": "python",
   "nbconvert_exporter": "python",
   "pygments_lexer": "ipython3",
   "version": "3.7.12"
  }
 },
 "nbformat": 4,
 "nbformat_minor": 1
}
