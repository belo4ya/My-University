{
 "cells": [
  {
   "cell_type": "markdown",
   "metadata": {},
   "source": [
    "# 5. Классификация текстов при помощи сетей прямого распространения\n",
    "\n",
    "__Автор__: Никита Владимирович Блохин (NVBlokhin@fa.ru)\n",
    "\n",
    "Финансовый университет, 2020 г."
   ]
  },
  {
   "cell_type": "code",
   "execution_count": 161,
   "outputs": [],
   "source": [
    "import re\n",
    "import string\n",
    "import typing as t\n",
    "from pathlib import Path\n",
    "\n",
    "import matplotlib.pyplot as plt\n",
    "import nltk\n",
    "import pandas as pd\n",
    "import seaborn as sns\n",
    "import torch\n",
    "import torch.nn as nn\n",
    "import torch.nn.functional as F\n",
    "import torch.optim as optim\n",
    "from nltk.corpus import stopwords, wordnet\n",
    "from sklearn.preprocessing import LabelEncoder\n",
    "from torch.utils.data import Dataset, random_split, DataLoader"
   ],
   "metadata": {
    "collapsed": false
   }
  },
  {
   "cell_type": "code",
   "execution_count": 130,
   "outputs": [],
   "source": [
    "torch.set_warn_always(True)\n",
    "\n",
    "sns.set_theme()\n",
    "plt.rcParams[\"figure.figsize\"] = (8, 4)"
   ],
   "metadata": {
    "collapsed": false
   }
  },
  {
   "cell_type": "code",
   "execution_count": 131,
   "outputs": [],
   "source": [
    "DATA_DIR = Path(\"data/\")"
   ],
   "metadata": {
    "collapsed": false
   }
  },
  {
   "cell_type": "markdown",
   "metadata": {
    "id": "jqDHq_AEjRZ1"
   },
   "source": [
    "## 1. Представление и предобработка текстовых данных "
   ]
  },
  {
   "cell_type": "markdown",
   "metadata": {
    "id": "vaki7efDpmXo"
   },
   "source": [
    "1.1 Операции по предобработке:\n",
    "* токенизация\n",
    "* стемминг / лемматизация\n",
    "* удаление стоп-слов\n",
    "* удаление пунктуации\n",
    "* приведение к нижнему регистру\n",
    "* любые другие операции над текстом"
   ]
  },
  {
   "cell_type": "code",
   "execution_count": 132,
   "metadata": {
    "id": "lMMzGhq0ikz1"
   },
   "outputs": [],
   "source": [
    "text = 'Select your preferences and run the install command. Stable represents the most currently tested and supported version of PyTorch. Note that LibTorch is only available for C++'"
   ]
  },
  {
   "cell_type": "markdown",
   "metadata": {
    "id": "bUhfertRtXE5"
   },
   "source": [
    "Реализовать функцию `preprocess_text(text: str) -> str`, которая:\n",
    "* приводит строку к нижнему регистру\n",
    "* заменяет все символы, кроме a-z, A-Z и знаков .,!? на пробел\n"
   ]
  },
  {
   "cell_type": "code",
   "execution_count": 133,
   "outputs": [],
   "source": [
    "def get_pos(word: str) -> str:\n",
    "    tag = nltk.pos_tag([word])[0][1]\n",
    "    if tag.startswith('J'):\n",
    "        return wordnet.ADJ\n",
    "    elif tag.startswith('V'):\n",
    "        return wordnet.VERB\n",
    "    elif tag.startswith('R'):\n",
    "        return wordnet.ADV\n",
    "    else:\n",
    "        return wordnet.NOUN\n",
    "\n",
    "\n",
    "def preprocess_text(text: str) -> str:\n",
    "    text = text.lower()\n",
    "    text = re.sub(r\"[^a-z.!?]\", repl=\" \", string=text, flags=re.MULTILINE)\n",
    "\n",
    "    punctuation = set(string.punctuation)\n",
    "    stop_words = set(stopwords.words(\"english\"))\n",
    "    lemmatizer = nltk.WordNetLemmatizer()\n",
    "\n",
    "    sentences = []\n",
    "    for sent in nltk.sent_tokenize(text):\n",
    "        words = []\n",
    "        for word in nltk.word_tokenize(sent):\n",
    "            if word not in stop_words and word not in punctuation:\n",
    "                lemma = lemmatizer.lemmatize(word, pos=get_pos(word))\n",
    "                if lemma not in stop_words:\n",
    "                    words.append(lemma)\n",
    "        sentences.append(\" \".join(words))\n",
    "\n",
    "    text = \". \".join(sentences)\n",
    "    text = re.sub(r\"[!?]\", repl=\".\", string=text, flags=re.MULTILINE)\n",
    "\n",
    "    return text"
   ],
   "metadata": {
    "collapsed": false
   }
  },
  {
   "cell_type": "code",
   "execution_count": 134,
   "outputs": [
    {
     "data": {
      "text/plain": "'select preference run install command. stable represent currently test support version pytorch. note libtorch available c'"
     },
     "execution_count": 134,
     "metadata": {},
     "output_type": "execute_result"
    }
   ],
   "source": [
    "preprocess_text(text)"
   ],
   "metadata": {
    "collapsed": false
   }
  },
  {
   "cell_type": "markdown",
   "metadata": {
    "id": "Z2Dt1ssIqckC"
   },
   "source": [
    "1.2 Представление текстовых данных при помощи бинарного кодирования\n",
    "\n",
    "\n",
    "Представить первое предложение из `text` в виде тензора `sentence_t`: `sentence_t[i] == 1`, если __слово__ с индексом `i` присутствует в предложении."
   ]
  },
  {
   "cell_type": "code",
   "execution_count": 135,
   "outputs": [
    {
     "data": {
      "text/plain": "tensor([0., 1., 0., 1., 0., 0., 0., 0., 1., 0., 0., 0., 1., 0., 1., 0.])"
     },
     "execution_count": 135,
     "metadata": {},
     "output_type": "execute_result"
    }
   ],
   "source": [
    "text_ = preprocess_text(text)\n",
    "\n",
    "alphabet = list(set(nltk.word_tokenize(text_)) - {\".\"})\n",
    "word_to_idx = {word: i for i, word in enumerate(alphabet)}\n",
    "\n",
    "sentence = nltk.sent_tokenize(text_)[0]\n",
    "sentence = sentence[:-1] if sentence[-1] == '.' else sentence\n",
    "\n",
    "sentence_t = torch.zeros(len(alphabet))\n",
    "word_indices = [word_to_idx[w] for w in nltk.word_tokenize(sentence)]\n",
    "sentence_t[word_indices] = 1\n",
    "sentence_t"
   ],
   "metadata": {
    "collapsed": false
   }
  },
  {
   "cell_type": "markdown",
   "metadata": {
    "id": "P2Nz_zcgw3N4"
   },
   "source": [
    "## 2. Классификация фамилий по национальности\n",
    "\n",
    "Датасет: https://disk.yandex.ru/d/owHew8hzPc7X9Q?w=1\n",
    "\n",
    "2.1 Считать файл `surnames/surnames.csv`. \n",
    "\n",
    "2.2 Закодировать национальности числами, начиная с 0.\n",
    "\n",
    "2.3 Разбить датасет на обучающую и тестовую выборку\n",
    "\n",
    "2.4 Реализовать класс `Vocab` (токен = __символ__)\n",
    "\n",
    "2.5 Реализовать класс `SurnamesDataset`\n",
    "\n",
    "2.6. Обучить классификатор.\n",
    "\n",
    "2.7 Измерить точность на тестовой выборке. Проверить работоспособность модели: прогнать несколько фамилий студентов группы через модели и проверить результат. Для каждой фамилии выводить 3 наиболее вероятных предсказания."
   ]
  },
  {
   "cell_type": "markdown",
   "source": [
    "2.1 Считать файл `surnames/surnames.csv`."
   ],
   "metadata": {
    "collapsed": false
   }
  },
  {
   "cell_type": "code",
   "execution_count": 136,
   "outputs": [
    {
     "data": {
      "text/plain": "    surname nationality\n0  Woodford     English\n1      Coté      French\n2      Kore     English\n3     Koury      Arabic\n4    Lebzak     Russian",
      "text/html": "<div>\n<style scoped>\n    .dataframe tbody tr th:only-of-type {\n        vertical-align: middle;\n    }\n\n    .dataframe tbody tr th {\n        vertical-align: top;\n    }\n\n    .dataframe thead th {\n        text-align: right;\n    }\n</style>\n<table border=\"1\" class=\"dataframe\">\n  <thead>\n    <tr style=\"text-align: right;\">\n      <th></th>\n      <th>surname</th>\n      <th>nationality</th>\n    </tr>\n  </thead>\n  <tbody>\n    <tr>\n      <th>0</th>\n      <td>Woodford</td>\n      <td>English</td>\n    </tr>\n    <tr>\n      <th>1</th>\n      <td>Coté</td>\n      <td>French</td>\n    </tr>\n    <tr>\n      <th>2</th>\n      <td>Kore</td>\n      <td>English</td>\n    </tr>\n    <tr>\n      <th>3</th>\n      <td>Koury</td>\n      <td>Arabic</td>\n    </tr>\n    <tr>\n      <th>4</th>\n      <td>Lebzak</td>\n      <td>Russian</td>\n    </tr>\n  </tbody>\n</table>\n</div>"
     },
     "execution_count": 136,
     "metadata": {},
     "output_type": "execute_result"
    }
   ],
   "source": [
    "surnames = pd.read_csv(DATA_DIR / \"surnames.csv\")\n",
    "surnames.head()"
   ],
   "metadata": {
    "collapsed": false
   }
  },
  {
   "cell_type": "markdown",
   "source": [
    "2.2 Закодировать национальности числами, начиная с 0."
   ],
   "metadata": {
    "collapsed": false
   }
  },
  {
   "cell_type": "code",
   "execution_count": 137,
   "outputs": [
    {
     "name": "stdout",
     "output_type": "stream",
     "text": [
      "classes: 18\n"
     ]
    },
    {
     "data": {
      "text/plain": "    surname nationality  target\n0  Woodford     English       4\n1      Coté      French       5\n2      Kore     English       4\n3     Koury      Arabic       0\n4    Lebzak     Russian      14",
      "text/html": "<div>\n<style scoped>\n    .dataframe tbody tr th:only-of-type {\n        vertical-align: middle;\n    }\n\n    .dataframe tbody tr th {\n        vertical-align: top;\n    }\n\n    .dataframe thead th {\n        text-align: right;\n    }\n</style>\n<table border=\"1\" class=\"dataframe\">\n  <thead>\n    <tr style=\"text-align: right;\">\n      <th></th>\n      <th>surname</th>\n      <th>nationality</th>\n      <th>target</th>\n    </tr>\n  </thead>\n  <tbody>\n    <tr>\n      <th>0</th>\n      <td>Woodford</td>\n      <td>English</td>\n      <td>4</td>\n    </tr>\n    <tr>\n      <th>1</th>\n      <td>Coté</td>\n      <td>French</td>\n      <td>5</td>\n    </tr>\n    <tr>\n      <th>2</th>\n      <td>Kore</td>\n      <td>English</td>\n      <td>4</td>\n    </tr>\n    <tr>\n      <th>3</th>\n      <td>Koury</td>\n      <td>Arabic</td>\n      <td>0</td>\n    </tr>\n    <tr>\n      <th>4</th>\n      <td>Lebzak</td>\n      <td>Russian</td>\n      <td>14</td>\n    </tr>\n  </tbody>\n</table>\n</div>"
     },
     "execution_count": 137,
     "metadata": {},
     "output_type": "execute_result"
    }
   ],
   "source": [
    "labeler = LabelEncoder()\n",
    "surnames[\"target\"] = labeler.fit_transform(surnames[\"nationality\"])\n",
    "print(f\"classes: {len(labeler.classes_)}\")\n",
    "surnames.head()"
   ],
   "metadata": {
    "collapsed": false
   }
  },
  {
   "cell_type": "markdown",
   "source": [
    "2.4 Реализовать класс `Vocab` (токен = __символ__)"
   ],
   "metadata": {
    "collapsed": false
   }
  },
  {
   "cell_type": "code",
   "execution_count": 138,
   "metadata": {
    "id": "kUkSZkDqxNYS"
   },
   "outputs": [],
   "source": [
    "class Vocab:\n",
    "\n",
    "    def __init__(self, data: t.Iterable[str]):\n",
    "        self.idx_to_token = list({ch for w in data for ch in w.lower()})\n",
    "        self.token_to_idx = {t: i for i, t in enumerate(self.idx_to_token)}\n",
    "        self.vocab_len = len(self.idx_to_token)"
   ]
  },
  {
   "cell_type": "code",
   "execution_count": 139,
   "outputs": [
    {
     "data": {
      "text/plain": "55"
     },
     "execution_count": 139,
     "metadata": {},
     "output_type": "execute_result"
    }
   ],
   "source": [
    "vocab = Vocab(surnames[\"surname\"])\n",
    "vocab.vocab_len"
   ],
   "metadata": {
    "collapsed": false
   }
  },
  {
   "cell_type": "markdown",
   "source": [
    "2.5 Реализовать класс `SurnamesDataset`"
   ],
   "metadata": {
    "collapsed": false
   }
  },
  {
   "cell_type": "code",
   "execution_count": 140,
   "metadata": {
    "colab": {
     "base_uri": "https://localhost:8080/",
     "height": 229
    },
    "executionInfo": {
     "elapsed": 1303,
     "status": "error",
     "timestamp": 1619117849212,
     "user": {
      "displayName": "Никита Блохин",
      "photoUrl": "",
      "userId": "16402972581398673009"
     },
     "user_tz": -180
    },
    "id": "WCaRK1QHxe0A",
    "outputId": "5d1243af-d0dd-4922-9468-9618f5df4605",
    "scrolled": true
   },
   "outputs": [],
   "source": [
    "class SurnamesDataset(Dataset):\n",
    "    def __init__(self, data: list[str], targets: torch.Tensor, vocab: Vocab):\n",
    "        self.data = data\n",
    "        self.targets = targets\n",
    "        self.vocab = vocab\n",
    "\n",
    "    def vectorize(self, surname: str) -> torch.Tensor:\n",
    "        vec = torch.zeros(self.vocab.vocab_len)\n",
    "        indices = [self.vocab.token_to_idx[t] for t in surname.lower()]\n",
    "        vec[indices] = 1\n",
    "        return vec\n",
    "\n",
    "    def __len__(self):\n",
    "        return len(self.data)\n",
    "\n",
    "    def __getitem__(self, idx):\n",
    "        return self.vectorize(self.data[idx]), self.targets[idx]\n"
   ]
  },
  {
   "cell_type": "code",
   "execution_count": 141,
   "outputs": [],
   "source": [
    "surnames_dataset = SurnamesDataset(\n",
    "    data=surnames[\"surname\"].tolist(),\n",
    "    targets=torch.tensor(surnames[\"target\"], dtype=torch.long),\n",
    "    vocab=vocab,\n",
    ")"
   ],
   "metadata": {
    "collapsed": false
   }
  },
  {
   "cell_type": "markdown",
   "source": [
    "2.3 Разбить датасет на обучающую и тестовую выборку"
   ],
   "metadata": {
    "collapsed": false
   }
  },
  {
   "cell_type": "code",
   "execution_count": 142,
   "outputs": [
    {
     "data": {
      "text/plain": "(8784, 2196)"
     },
     "execution_count": 142,
     "metadata": {},
     "output_type": "execute_result"
    }
   ],
   "source": [
    "train_size = round(0.8 * len(surnames_dataset))\n",
    "test_size = len(surnames_dataset) - train_size\n",
    "train_dataset, test_dataset = random_split(surnames_dataset, lengths=(train_size, test_size))\n",
    "len(train_dataset), len(test_dataset)"
   ],
   "metadata": {
    "collapsed": false
   }
  },
  {
   "cell_type": "markdown",
   "source": [
    "2.6. Обучить классификатор."
   ],
   "metadata": {
    "collapsed": false
   }
  },
  {
   "cell_type": "code",
   "execution_count": 203,
   "outputs": [],
   "source": [
    "def common_train(\n",
    "        model: nn.Module,\n",
    "        loss_fn: nn.Module,\n",
    "        optimizer: optim.Optimizer,\n",
    "        train_dataloader: DataLoader,\n",
    "        epochs: int,\n",
    "        verbose: int = 100,\n",
    "        test_dataloader: DataLoader = None,\n",
    ") -> t.List[float]:\n",
    "    train_losses = []\n",
    "    for epoch in range(epochs):\n",
    "        print(f\"Epoch {epoch + 1}\\n\" + \"-\" * 32)\n",
    "        train_loss = train_loop(train_dataloader, model, loss_fn, optimizer, verbose)\n",
    "        train_losses.append(train_loss.item())\n",
    "        if test_dataloader:\n",
    "            test_loop(test_dataloader, model, loss_fn)\n",
    "        torch.cuda.empty_cache()\n",
    "    return train_losses\n",
    "\n",
    "\n",
    "def train_loop(\n",
    "        dataloader: DataLoader,\n",
    "        model: nn.Module,\n",
    "        loss_fn: nn.Module,\n",
    "        optimizer: optim.Optimizer,\n",
    "        verbose: int = 100,\n",
    ") -> torch.Tensor:\n",
    "    model.train()\n",
    "\n",
    "    size = len(dataloader.dataset)  # noqa\n",
    "    num_batches = len(dataloader)\n",
    "    avg_loss = 0\n",
    "\n",
    "    for batch, (x, y) in enumerate(dataloader):\n",
    "        pred = model(x)\n",
    "        loss = loss_fn(pred, y)\n",
    "\n",
    "        optimizer.zero_grad()\n",
    "        loss.backward()\n",
    "        optimizer.step()\n",
    "\n",
    "        avg_loss += loss\n",
    "        if batch % verbose == 0:\n",
    "            print(f\"loss: {loss:>7f}  [{batch * len(x):>5d}/{size:>5d}]\")\n",
    "\n",
    "        del x, y, pred, loss\n",
    "        torch.cuda.empty_cache()\n",
    "\n",
    "    return avg_loss / num_batches\n",
    "\n",
    "\n",
    "def test_loop(\n",
    "        dataloader: DataLoader,\n",
    "        model: nn.Module,\n",
    "        loss_fn: nn.Module,\n",
    ") -> t.Tuple[torch.Tensor, torch.Tensor]:\n",
    "    model.eval()\n",
    "\n",
    "    size = len(dataloader.dataset)  # noqa\n",
    "    num_batches = len(dataloader)\n",
    "    avg_loss, correct = 0, 0\n",
    "\n",
    "    with torch.no_grad():\n",
    "        for x, y in dataloader:\n",
    "            pred = model(x)\n",
    "            avg_loss += loss_fn(pred, y)\n",
    "            correct += (pred.argmax(1) == y).type(torch.float).sum().item()  # noqa\n",
    "\n",
    "    avg_loss /= num_batches\n",
    "    accuracy = correct / size\n",
    "    print(f\"Test Error: \\n Accuracy: {accuracy:>4f}, Avg loss: {avg_loss:>8f} \\n\")\n",
    "\n",
    "    return avg_loss, accuracy\n",
    "\n",
    "\n",
    "def plot_losses(losses):\n",
    "    plt.plot(torch.arange(len(losses)), losses)"
   ],
   "metadata": {
    "collapsed": false
   }
  },
  {
   "cell_type": "code",
   "execution_count": 215,
   "outputs": [],
   "source": [
    "class SurnamesClassifier(nn.Module):\n",
    "\n",
    "    def __init__(self, in_features, out_features):\n",
    "        super(SurnamesClassifier, self).__init__()\n",
    "        self.seq = nn.Sequential(\n",
    "            nn.Linear(in_features, 256),\n",
    "            nn.ReLU(),\n",
    "            nn.Linear(256, out_features),\n",
    "            nn.LogSoftmax(dim=1),\n",
    "        )\n",
    "\n",
    "    def forward(self, inputs):\n",
    "        return self.seq(inputs)"
   ],
   "metadata": {
    "collapsed": false
   }
  },
  {
   "cell_type": "code",
   "execution_count": 216,
   "outputs": [],
   "source": [
    "torch.manual_seed(0)\n",
    "\n",
    "net = SurnamesClassifier(vocab.vocab_len, vocab.vocab_len)\n",
    "loss_fn = nn.NLLLoss()\n",
    "optimizer = optim.Adam(net.parameters(), lr=0.001)\n",
    "\n",
    "train_dataloader = DataLoader(train_dataset, batch_size=8)\n",
    "test_dataloader = DataLoader(test_dataset, batch_size=512)"
   ],
   "metadata": {
    "collapsed": false
   }
  },
  {
   "cell_type": "code",
   "execution_count": 217,
   "outputs": [
    {
     "name": "stdout",
     "output_type": "stream",
     "text": [
      "Epoch 1\n",
      "--------------------------------\n",
      "loss: 4.025674  [    0/ 8784]\n",
      "loss: 1.504290  [ 2400/ 8784]\n",
      "loss: 2.591120  [ 4800/ 8784]\n",
      "loss: 0.831439  [ 7200/ 8784]\n",
      "Test Error: \n",
      " Accuracy: 0.516849, Avg loss: 1.535508 \n",
      "\n",
      "Epoch 2\n",
      "--------------------------------\n",
      "loss: 2.084085  [    0/ 8784]\n",
      "loss: 1.354316  [ 2400/ 8784]\n",
      "loss: 2.501081  [ 4800/ 8784]\n",
      "loss: 0.754960  [ 7200/ 8784]\n",
      "Test Error: \n",
      " Accuracy: 0.562842, Avg loss: 1.413391 \n",
      "\n",
      "Epoch 3\n",
      "--------------------------------\n",
      "loss: 2.004786  [    0/ 8784]\n",
      "loss: 1.274540  [ 2400/ 8784]\n",
      "loss: 2.525339  [ 4800/ 8784]\n",
      "loss: 0.696974  [ 7200/ 8784]\n",
      "Test Error: \n",
      " Accuracy: 0.582878, Avg loss: 1.345605 \n",
      "\n",
      "Epoch 4\n",
      "--------------------------------\n",
      "loss: 1.941258  [    0/ 8784]\n",
      "loss: 1.186505  [ 2400/ 8784]\n",
      "loss: 2.545471  [ 4800/ 8784]\n",
      "loss: 0.653208  [ 7200/ 8784]\n",
      "Test Error: \n",
      " Accuracy: 0.594718, Avg loss: 1.301452 \n",
      "\n",
      "Epoch 5\n",
      "--------------------------------\n",
      "loss: 1.908206  [    0/ 8784]\n",
      "loss: 1.098935  [ 2400/ 8784]\n",
      "loss: 2.564220  [ 4800/ 8784]\n",
      "loss: 0.628612  [ 7200/ 8784]\n",
      "Test Error: \n",
      " Accuracy: 0.606102, Avg loss: 1.267511 \n",
      "\n",
      "Epoch 6\n",
      "--------------------------------\n",
      "loss: 1.869982  [    0/ 8784]\n",
      "loss: 1.043436  [ 2400/ 8784]\n",
      "loss: 2.570611  [ 4800/ 8784]\n",
      "loss: 0.603012  [ 7200/ 8784]\n",
      "Test Error: \n",
      " Accuracy: 0.618397, Avg loss: 1.242076 \n",
      "\n",
      "Epoch 7\n",
      "--------------------------------\n",
      "loss: 1.831895  [    0/ 8784]\n",
      "loss: 1.004169  [ 2400/ 8784]\n",
      "loss: 2.574703  [ 4800/ 8784]\n",
      "loss: 0.587140  [ 7200/ 8784]\n",
      "Test Error: \n",
      " Accuracy: 0.630237, Avg loss: 1.223240 \n",
      "\n",
      "Epoch 8\n",
      "--------------------------------\n",
      "loss: 1.790536  [    0/ 8784]\n",
      "loss: 0.980280  [ 2400/ 8784]\n",
      "loss: 2.566196  [ 4800/ 8784]\n",
      "loss: 0.570930  [ 7200/ 8784]\n",
      "Test Error: \n",
      " Accuracy: 0.633880, Avg loss: 1.209648 \n",
      "\n",
      "Epoch 9\n",
      "--------------------------------\n",
      "loss: 1.746849  [    0/ 8784]\n",
      "loss: 0.946810  [ 2400/ 8784]\n",
      "loss: 2.547651  [ 4800/ 8784]\n",
      "loss: 0.563354  [ 7200/ 8784]\n",
      "Test Error: \n",
      " Accuracy: 0.640710, Avg loss: 1.199458 \n",
      "\n",
      "Epoch 10\n",
      "--------------------------------\n",
      "loss: 1.704803  [    0/ 8784]\n",
      "loss: 0.916355  [ 2400/ 8784]\n",
      "loss: 2.526032  [ 4800/ 8784]\n",
      "loss: 0.558230  [ 7200/ 8784]\n",
      "Test Error: \n",
      " Accuracy: 0.642077, Avg loss: 1.191158 \n",
      "\n",
      "Epoch 11\n",
      "--------------------------------\n",
      "loss: 1.672955  [    0/ 8784]\n",
      "loss: 0.900894  [ 2400/ 8784]\n",
      "loss: 2.501362  [ 4800/ 8784]\n",
      "loss: 0.554712  [ 7200/ 8784]\n",
      "Test Error: \n",
      " Accuracy: 0.644809, Avg loss: 1.184482 \n",
      "\n",
      "Epoch 12\n",
      "--------------------------------\n",
      "loss: 1.655344  [    0/ 8784]\n",
      "loss: 0.884672  [ 2400/ 8784]\n",
      "loss: 2.468840  [ 4800/ 8784]\n",
      "loss: 0.553066  [ 7200/ 8784]\n",
      "Test Error: \n",
      " Accuracy: 0.645719, Avg loss: 1.180296 \n",
      "\n",
      "Epoch 13\n",
      "--------------------------------\n",
      "loss: 1.630135  [    0/ 8784]\n",
      "loss: 0.864209  [ 2400/ 8784]\n",
      "loss: 2.461820  [ 4800/ 8784]\n",
      "loss: 0.550135  [ 7200/ 8784]\n",
      "Test Error: \n",
      " Accuracy: 0.645719, Avg loss: 1.178098 \n",
      "\n",
      "Epoch 14\n",
      "--------------------------------\n",
      "loss: 1.615887  [    0/ 8784]\n",
      "loss: 0.846508  [ 2400/ 8784]\n",
      "loss: 2.432575  [ 4800/ 8784]\n",
      "loss: 0.551747  [ 7200/ 8784]\n",
      "Test Error: \n",
      " Accuracy: 0.641621, Avg loss: 1.176579 \n",
      "\n",
      "Epoch 15\n",
      "--------------------------------\n",
      "loss: 1.601374  [    0/ 8784]\n",
      "loss: 0.839276  [ 2400/ 8784]\n",
      "loss: 2.400585  [ 4800/ 8784]\n",
      "loss: 0.552441  [ 7200/ 8784]\n",
      "Test Error: \n",
      " Accuracy: 0.639344, Avg loss: 1.174795 \n",
      "\n",
      "Epoch 16\n",
      "--------------------------------\n",
      "loss: 1.588502  [    0/ 8784]\n",
      "loss: 0.824837  [ 2400/ 8784]\n",
      "loss: 2.369653  [ 4800/ 8784]\n",
      "loss: 0.551458  [ 7200/ 8784]\n",
      "Test Error: \n",
      " Accuracy: 0.642077, Avg loss: 1.174778 \n",
      "\n",
      "Epoch 17\n",
      "--------------------------------\n",
      "loss: 1.589916  [    0/ 8784]\n",
      "loss: 0.813911  [ 2400/ 8784]\n",
      "loss: 2.343113  [ 4800/ 8784]\n",
      "loss: 0.549362  [ 7200/ 8784]\n",
      "Test Error: \n",
      " Accuracy: 0.640255, Avg loss: 1.175658 \n",
      "\n",
      "Epoch 18\n",
      "--------------------------------\n",
      "loss: 1.584903  [    0/ 8784]\n",
      "loss: 0.801229  [ 2400/ 8784]\n",
      "loss: 2.306555  [ 4800/ 8784]\n",
      "loss: 0.549189  [ 7200/ 8784]\n",
      "Test Error: \n",
      " Accuracy: 0.639800, Avg loss: 1.176337 \n",
      "\n",
      "Epoch 19\n",
      "--------------------------------\n",
      "loss: 1.588772  [    0/ 8784]\n",
      "loss: 0.801905  [ 2400/ 8784]\n",
      "loss: 2.281878  [ 4800/ 8784]\n",
      "loss: 0.552611  [ 7200/ 8784]\n",
      "Test Error: \n",
      " Accuracy: 0.638434, Avg loss: 1.178088 \n",
      "\n",
      "Epoch 20\n",
      "--------------------------------\n",
      "loss: 1.595842  [    0/ 8784]\n",
      "loss: 0.792595  [ 2400/ 8784]\n",
      "loss: 2.247269  [ 4800/ 8784]\n",
      "loss: 0.551026  [ 7200/ 8784]\n",
      "Test Error: \n",
      " Accuracy: 0.640710, Avg loss: 1.180295 \n",
      "\n"
     ]
    }
   ],
   "source": [
    "train_losses = common_train(\n",
    "    model=net,\n",
    "    loss_fn=loss_fn,\n",
    "    optimizer=optimizer,\n",
    "    train_dataloader=train_dataloader,\n",
    "    epochs=20,\n",
    "    verbose=300,\n",
    "    test_dataloader=test_dataloader,\n",
    ")"
   ],
   "metadata": {
    "collapsed": false
   }
  },
  {
   "cell_type": "code",
   "execution_count": 218,
   "outputs": [
    {
     "data": {
      "text/plain": "<Figure size 800x400 with 1 Axes>",
      "image/png": "[encoded data removed]"
     },
     "metadata": {},
     "output_type": "display_data"
    }
   ],
   "source": [
    "plot_losses(train_losses)"
   ],
   "metadata": {
    "collapsed": false
   }
  },
  {
   "cell_type": "markdown",
   "source": [
    "2.7 Измерить точность на тестовой выборке. Проверить работоспособность модели: прогнать несколько фамилий студентов группы через модели и проверить результат. Для каждой фамилии выводить 3 наиболее вероятных предсказания."
   ],
   "metadata": {
    "collapsed": false
   }
  },
  {
   "cell_type": "code",
   "execution_count": 219,
   "outputs": [
    {
     "name": "stdout",
     "output_type": "stream",
     "text": [
      "Test Error: \n",
      " Accuracy: 0.640710, Avg loss: 1.180295 \n",
      "\n"
     ]
    }
   ],
   "source": [
    "test_loop(dataloader=test_dataloader, model=net, loss_fn=loss_fn);"
   ],
   "metadata": {
    "collapsed": false
   }
  },
  {
   "cell_type": "code",
   "execution_count": 220,
   "outputs": [
    {
     "name": "stdout",
     "output_type": "stream",
     "text": [
      "Surname : Woodford\n",
      "True    : Arabic\n",
      "Predicts: Arabic (0.50), English (0.40), Irish (0.03)\n",
      "\n",
      "Surname : Coté\n",
      "True    : Russian\n",
      "Predicts: Spanish (0.43), Italian (0.26), Russian (0.14)\n",
      "\n",
      "Surname : Kore\n",
      "True    : Russian\n",
      "Predicts: Russian (0.76), English (0.11), Japanese (0.09)\n",
      "\n",
      "Surname : Koury\n",
      "True    : Greek\n",
      "Predicts: English (0.71), Greek (0.08), Spanish (0.06)\n",
      "\n",
      "Surname : Lebzak\n",
      "True    : Vietnamese\n",
      "Predicts: German (0.35), Russian (0.29), Czech (0.11)\n",
      "\n",
      "Surname : Obinata\n",
      "True    : English\n",
      "Predicts: English (0.79), Czech (0.13), Dutch (0.04)\n",
      "\n",
      "Surname : Rahal\n",
      "True    : Czech\n",
      "Predicts: English (0.90), Czech (0.08), Polish (0.01)\n",
      "\n",
      "Surname : Zhuan\n",
      "True    : German\n",
      "Predicts: German (0.20), English (0.18), Italian (0.11)\n",
      "\n",
      "Surname : Acconci\n",
      "True    : Greek\n",
      "Predicts: English (0.43), German (0.11), Czech (0.10)\n",
      "\n",
      "Surname : Mifsud\n",
      "True    : Arabic\n",
      "Predicts: Arabic (0.71), Japanese (0.18), English (0.06)\n",
      "\n"
     ]
    }
   ],
   "source": [
    "k = 3\n",
    "for i in range(10):\n",
    "    x_test, y_test = test_dataset[i]\n",
    "\n",
    "    pred = net(x_test.unsqueeze(0))\n",
    "    pred_proba, pred_label_indices = F.softmax(pred, 1).topk(k, dim=1)\n",
    "    pred_labels = labeler.inverse_transform(pred_label_indices.squeeze())\n",
    "\n",
    "    predicts = \", \".join(\n",
    "        [f\"{label} ({prob:.2f})\" for (label, prob) in zip(pred_labels, pred_proba.squeeze())]\n",
    "    )\n",
    "    print(f\"Surname : {test_dataset.dataset.data[i]}\")\n",
    "    print(f\"True    : {labeler.inverse_transform(y_test.unsqueeze(0))[0]}\")\n",
    "    print(f\"Predicts: {predicts}\\n\")"
   ],
   "metadata": {
    "collapsed": false
   }
  },
  {
   "cell_type": "markdown",
   "metadata": {
    "id": "PLmDB3fJtVox"
   },
   "source": [
    "## 3. Классификация обзоров ресторанов\n",
    "\n",
    "Датасет: https://disk.yandex.ru/d/nY1o70JtAuYa8g\n",
    "\n",
    "3.1 Считать файл `yelp/raw_train.csv`. Оставить от исходного датасета 10% строчек.\n",
    "\n",
    "3.2 Воспользоваться функцией `preprocess_text` из 1.1 для обработки текста отзыва. Закодировать рейтинг числами, начиная с 0.\n",
    "\n",
    "3.3 Разбить датасет на обучающую и тестовую выборку\n",
    "\n",
    "3.4 Реализовать класс `Vocab` (токен = слово)\n",
    "\n",
    "3.5 Реализовать класс `ReviewDataset`\n",
    "\n",
    "3.6 Обучить классификатор\n",
    "\n",
    "3.7 Измерить точность на тестовой выборке. Проверить работоспособность модели: придумать небольшой отзыв, прогнать его через модель и вывести номер предсказанного класса (сделать это для явно позитивного и явно негативного отзыва)\n"
   ]
  },
  {
   "cell_type": "code",
   "execution_count": 149,
   "metadata": {
    "id": "_lCTSKZgu68K"
   },
   "outputs": [],
   "source": [
    "class Vocab:\n",
    "    def __init__(self, data):\n",
    "        self.idx_to_token = ...\n",
    "        self.token_to_idx = ...\n",
    "        self.vocab_len = ..."
   ]
  },
  {
   "cell_type": "code",
   "execution_count": 150,
   "metadata": {
    "id": "WXLmCDvcvRmb"
   },
   "outputs": [],
   "source": [
    "class ReviewDataset(Dataset):\n",
    "    def __init__(self, X, y, vocab: Vocab):\n",
    "        self.X = X\n",
    "        self.y = y\n",
    "        self.vocab = vocab\n",
    "\n",
    "    def vectorize(self, review):\n",
    "        '''Генерирует представление отзыва review при помощи бинарного кодирования (см. 1.2)'''\n",
    "\n",
    "    def __len__(self):\n",
    "        return len(self.X)\n",
    "\n",
    "    def __getitem__(self, idx):\n",
    "        return ..."
   ]
  },
  {
   "cell_type": "code",
   "execution_count": 150,
   "outputs": [],
   "source": [],
   "metadata": {
    "collapsed": false
   }
  },
  {
   "cell_type": "code",
   "execution_count": 150,
   "outputs": [],
   "source": [],
   "metadata": {
    "collapsed": false
   }
  },
  {
   "cell_type": "code",
   "execution_count": 150,
   "outputs": [],
   "source": [],
   "metadata": {
    "collapsed": false
   }
  }
 ],
 "metadata": {
  "colab": {
   "authorship_tag": "ABX9TyMJ70DQQj2X/XaG2BMq6jy8",
   "collapsed_sections": [],
   "name": "blank__05_NLP_1_intro.ipynb",
   "provenance": [],
   "toc_visible": true
  },
  "kernelspec": {
   "display_name": "Python 3 (ipykernel)",
   "language": "python",
   "name": "python3"
  },
  "language_info": {
   "codemirror_mode": {
    "name": "ipython",
    "version": 3
   },
   "file_extension": ".py",
   "mimetype": "text/x-python",
   "name": "python",
   "nbconvert_exporter": "python",
   "pygments_lexer": "ipython3",
   "version": "3.9.7"
  }
 },
 "nbformat": 4,
 "nbformat_minor": 1
}
