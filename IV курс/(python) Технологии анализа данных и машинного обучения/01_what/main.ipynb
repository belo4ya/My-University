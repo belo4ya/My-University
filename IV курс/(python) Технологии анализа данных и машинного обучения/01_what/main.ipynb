{
 "cells": [
  {
   "cell_type": "markdown",
   "metadata": {
    "id": "_gE94V3G1RCx",
    "pycharm": {
     "name": "#%% md\n"
    }
   },
   "source": [
    "# 01. Знакомство с `torch.Tensor`"
   ]
  },
  {
   "cell_type": "markdown",
   "metadata": {
    "id": "TlWOXn0f1RC7",
    "pycharm": {
     "name": "#%% md\n"
    }
   },
   "source": [
    "---"
   ]
  },
  {
   "cell_type": "markdown",
   "metadata": {
    "id": "lZfJ1FRM1RC8",
    "pycharm": {
     "name": "#%% md\n"
    }
   },
   "source": [
    "При решении данных задач не подразумевается использования циклов или генераторов Python, если в задании не сказано обратного. Решение должно опираться на использование функционала библиотеки `torch`.\n",
    "\n",
    "[PyTorch documentation](https://pytorch.org/docs/stable/#pytorch-documentation)"
   ]
  },
  {
   "cell_type": "code",
   "execution_count": 611,
   "metadata": {
    "id": "b3AW8rF-1RC9",
    "pycharm": {
     "name": "#%%\n"
    }
   },
   "outputs": [],
   "source": [
    "import torch\n",
    "from torch.nn import functional as f"
   ]
  },
  {
   "cell_type": "code",
   "execution_count": 612,
   "outputs": [],
   "source": [
    "torch.manual_seed(0);"
   ],
   "metadata": {
    "collapsed": false,
    "pycharm": {
     "name": "#%%\n"
    }
   }
  },
  {
   "cell_type": "markdown",
   "metadata": {
    "id": "vow49PuE1RC9",
    "pycharm": {
     "name": "#%% md\n"
    }
   },
   "source": [
    "## 1.1 Создание тензоров и выполнение базовых операций над ними\n",
    "\n",
    "[Документация по функциям для создания тензоров](https://pytorch.org/docs/stable/torch.html#creation-ops)\n",
    "\n",
    "[Документация по функциям для работы с индексами](https://pytorch.org/docs/stable/torch.html#indexing-slicing-joining-mutating-ops)"
   ]
  },
  {
   "cell_type": "markdown",
   "metadata": {
    "id": "wBIwO1SB1RC-",
    "pycharm": {
     "name": "#%% md\n"
    }
   },
   "source": [
    "1.1.1 Создайте двумерный тензор размера (8, 8). Используя как можно меньше операций, добейтесь расстановки кодов \"шахматных фигур\".\n",
    "\n",
    "Ожидаемый результат:\n",
    "\n",
    "```\n",
    "[[-4., -3., -2., -6., -5., -2., -3., -4.],\n",
    " [-1., -1., -1., -1., -1., -1., -1., -1.],\n",
    " [0., 0., 0., 0., 0., 0., 0., 0.],\n",
    " [0., 0., 0., 0., 0., 0., 0., 0.],\n",
    " [0., 0., 0., 0., 0., 0., 0., 0.],\n",
    " [0., 0., 0., 0., 0., 0., 0., 0.],\n",
    " [1., 1., 1., 1., 1., 1., 1., 1.],\n",
    " [4., 3., 2., 6., 5., 2., 3., 4.]]\n",
    "\n",
    "```"
   ]
  },
  {
   "cell_type": "code",
   "execution_count": 613,
   "outputs": [
    {
     "data": {
      "text/plain": "tensor([[-4., -3., -2., -6., -5., -2., -3., -4.],\n        [-1., -1., -1., -1., -1., -1., -1., -1.],\n        [ 0.,  0.,  0.,  0.,  0.,  0.,  0.,  0.],\n        [ 0.,  0.,  0.,  0.,  0.,  0.,  0.,  0.],\n        [ 0.,  0.,  0.,  0.,  0.,  0.,  0.,  0.],\n        [ 0.,  0.,  0.,  0.,  0.,  0.,  0.,  0.],\n        [ 1.,  1.,  1.,  1.,  1.,  1.,  1.,  1.],\n        [ 4.,  3.,  2.,  6.,  5.,  2.,  3.,  4.]], dtype=torch.float16)"
     },
     "execution_count": 613,
     "metadata": {},
     "output_type": "execute_result"
    }
   ],
   "source": [
    "# 1 операция, но вряд ли от меня этого хотели?\n",
    "\n",
    "torch.tensor([\n",
    "    [-4, -3, -2, -6, -5, -2, -3, -4],\n",
    "    [-1, -1, -1, -1, -1, -1, -1, -1],\n",
    "    [0, 0, 0, 0, 0, 0, 0, 0],\n",
    "    [0, 0, 0, 0, 0, 0, 0, 0],\n",
    "    [0, 0, 0, 0, 0, 0, 0, 0],\n",
    "    [0, 0, 0, 0, 0, 0, 0, 0],\n",
    "    [1, 1, 1, 1, 1, 1, 1, 1],\n",
    "    [4, 3, 2, 6, 5, 2, 3, 4],\n",
    "], dtype=torch.float16)"
   ],
   "metadata": {
    "collapsed": false,
    "pycharm": {
     "name": "#%%\n"
    }
   }
  },
  {
   "cell_type": "markdown",
   "metadata": {
    "id": "20x5RE1V1RC_",
    "pycharm": {
     "name": "#%% md\n"
    }
   },
   "source": [
    "1.1.2 Средствами `torch` рассчитать произведения четных чисел от 2 до 20 на ближайшие к ним бОльшие нечетные числа."
   ]
  },
  {
   "cell_type": "code",
   "execution_count": 614,
   "outputs": [
    {
     "data": {
      "text/plain": "tensor([  6,  20,  42,  72, 110, 156, 210, 272, 342, 420])"
     },
     "execution_count": 614,
     "metadata": {},
     "output_type": "execute_result"
    }
   ],
   "source": [
    "even = torch.arange(2, 21, step=2)\n",
    "even * (even + 1)"
   ],
   "metadata": {
    "collapsed": false,
    "pycharm": {
     "name": "#%%\n"
    }
   }
  },
  {
   "cell_type": "markdown",
   "metadata": {
    "id": "N_-t5GRM1RC_",
    "pycharm": {
     "name": "#%% md\n"
    }
   },
   "source": [
    "1.1.3 Создать тензор размера 11x7 вида: [[1, 2, 3, ..., 7], [11, 12, 13, ..., 17], [21, 22, 23, ..., 27], ..., [101, 102, 103, ..., 107]]"
   ]
  },
  {
   "cell_type": "code",
   "execution_count": 615,
   "outputs": [
    {
     "data": {
      "text/plain": "tensor([[  1,   2,   3,   4,   5,   6,   7],\n        [ 11,  12,  13,  14,  15,  16,  17],\n        [ 21,  22,  23,  24,  25,  26,  27],\n        [ 31,  32,  33,  34,  35,  36,  37],\n        [ 41,  42,  43,  44,  45,  46,  47],\n        [ 51,  52,  53,  54,  55,  56,  57],\n        [ 61,  62,  63,  64,  65,  66,  67],\n        [ 71,  72,  73,  74,  75,  76,  77],\n        [ 81,  82,  83,  84,  85,  86,  87],\n        [ 91,  92,  93,  94,  95,  96,  97],\n        [101, 102, 103, 104, 105, 106, 107]])"
     },
     "execution_count": 615,
     "metadata": {},
     "output_type": "execute_result"
    }
   ],
   "source": [
    "# как решить без broadcasting?\n",
    "\n",
    "torch.arange(1, 8) + torch.arange(0, 101, step=10).reshape(-1, 1)"
   ],
   "metadata": {
    "collapsed": false,
    "pycharm": {
     "name": "#%%\n"
    }
   }
  },
  {
   "cell_type": "markdown",
   "metadata": {
    "id": "oxVeUiHR1RC_",
    "pycharm": {
     "name": "#%% md\n"
    }
   },
   "source": [
    "1.1.4 Написать функцию, которая для целых значений `n` и `m` будет возвращать тензор размера `n`x`m`, заполненный текстурой размера 2x2, состоящей из следующих значений:\n",
    "\n",
    "```\n",
    "0 1\n",
    "\n",
    "2 3\n",
    "\n",
    "```\n",
    "\n",
    "Пример для n = 4 и m = 5:\n",
    "\n",
    "```\n",
    "0 1 0 1 0\n",
    "\n",
    "2 3 2 3 2\n",
    "\n",
    "0 1 0 1 0\n",
    "\n",
    "2 3 2 3 2\n",
    "```"
   ]
  },
  {
   "cell_type": "code",
   "execution_count": 616,
   "outputs": [
    {
     "data": {
      "text/plain": "tensor([[0, 1, 0, 1, 0],\n        [2, 3, 2, 3, 2],\n        [0, 1, 0, 1, 0],\n        [2, 3, 2, 3, 2]])"
     },
     "execution_count": 616,
     "metadata": {},
     "output_type": "execute_result"
    }
   ],
   "source": [
    "def textural(n: int, m: int) -> torch.Tensor:\n",
    "    pat = torch.tensor([\n",
    "        [0, 1],\n",
    "        [2, 3]\n",
    "    ])\n",
    "    return pat.repeat(((n + 1) // 2, (m + 1 // 2)))[:n, :m]\n",
    "\n",
    "\n",
    "textural(4, 5)"
   ],
   "metadata": {
    "collapsed": false,
    "pycharm": {
     "name": "#%%\n"
    }
   }
  },
  {
   "cell_type": "markdown",
   "metadata": {
    "id": "WH9hxJse1RDA",
    "pycharm": {
     "name": "#%% md\n"
    }
   },
   "source": [
    "1.1.5 Сгенерировать двумерный тензор `t` размерности (4, 7), состоящий из случайных действительных чисел, равномерно распределенных в дипазоне от 0 до 20. Нормализовать значения массива с помощью преобразования вида $ax+b$ так, что после нормализации максимальный элемент масива будет равен 1.0, минимальный 0.0"
   ]
  },
  {
   "cell_type": "code",
   "execution_count": 617,
   "outputs": [
    {
     "data": {
      "text/plain": "tensor([[ 9.9251, 15.3644,  1.7695,  2.6406,  6.1485, 12.6816,  9.8019],\n        [17.9289,  9.1126, 12.6461,  6.9779,  8.0343,  0.4465,  3.3772],\n        [ 5.8778, 10.3704, 13.9534, 16.0002,  3.2206,  5.6454, 13.6322],\n        [18.3039,  7.9420, 17.4831,  8.3882, 11.0581, 19.0548,  0.7233]])"
     },
     "execution_count": 617,
     "metadata": {},
     "output_type": "execute_result"
    }
   ],
   "source": [
    "t: torch.Tensor = torch.empty(4, 7).uniform_(0, 20)  # noqa\n",
    "t"
   ],
   "metadata": {
    "collapsed": false,
    "pycharm": {
     "name": "#%%\n"
    }
   }
  },
  {
   "cell_type": "code",
   "execution_count": 618,
   "outputs": [
    {
     "data": {
      "text/plain": "tensor([[0.5094, 0.8017, 0.0711, 0.1179, 0.3064, 0.6575, 0.5028],\n        [0.9395, 0.4657, 0.6556, 0.3510, 0.4078, 0.0000, 0.1575],\n        [0.2919, 0.5333, 0.7259, 0.8359, 0.1491, 0.2794, 0.7086],\n        [0.9596, 0.4028, 0.9155, 0.4268, 0.5703, 1.0000, 0.0149]])"
     },
     "execution_count": 618,
     "metadata": {},
     "output_type": "execute_result"
    }
   ],
   "source": [
    "min_, max_ = t.min(), t.max()\n",
    "(t - min_) / (max_ - min_)"
   ],
   "metadata": {
    "collapsed": false,
    "pycharm": {
     "name": "#%%\n"
    }
   }
  },
  {
   "cell_type": "markdown",
   "metadata": {
    "id": "vPqIeewXB-mM",
    "pycharm": {
     "name": "#%% md\n"
    }
   },
   "source": [
    "[Random Sampling](https://pytorch.org/docs/stable/torch.html#random-sampling)\n",
    "\n",
    "[Distributions](https://pytorch.org/docs/stable/distributions.html)"
   ]
  },
  {
   "cell_type": "markdown",
   "metadata": {
    "id": "K_R6cwq11RDE",
    "pycharm": {
     "name": "#%% md\n"
    }
   },
   "source": [
    "1.1.6 Задать два двумерных тензора `ar1` и `ar2` размерности (4, 7), состоящих из случайных целых чисел в пределах от 0 до 10. Построить двумерный тензор размерности (4, 7), каждый элемент которого представляет собой максимум из двух значений, находящихся на аналогичной позиции в массивах `ar1`, `ar2`.\n",
    "\n",
    "[Reductions ops](https://pytorch.org/docs/stable/torch.html#reduction-ops)"
   ]
  },
  {
   "cell_type": "code",
   "execution_count": 619,
   "outputs": [
    {
     "data": {
      "text/plain": "(tensor([[9, 0, 1, 2, 3, 0, 5],\n         [5, 2, 9, 1, 8, 8, 3],\n         [6, 9, 1, 7, 3, 5, 2],\n         [1, 0, 9, 3, 1, 1, 0]]),\n tensor([[3, 6, 6, 7, 9, 6, 3],\n         [4, 5, 0, 8, 2, 8, 2],\n         [7, 5, 0, 0, 8, 1, 9],\n         [6, 1, 0, 2, 9, 4, 3]]))"
     },
     "execution_count": 619,
     "metadata": {},
     "output_type": "execute_result"
    }
   ],
   "source": [
    "ar1 = torch.randint(0, 10, (4, 7))\n",
    "ar2 = torch.randint(0, 10, (4, 7))\n",
    "\n",
    "ar1, ar2"
   ],
   "metadata": {
    "collapsed": false,
    "pycharm": {
     "name": "#%%\n"
    }
   }
  },
  {
   "cell_type": "code",
   "execution_count": 620,
   "outputs": [
    {
     "data": {
      "text/plain": "tensor([[9, 6, 6, 7, 9, 6, 5],\n        [5, 5, 9, 8, 8, 8, 3],\n        [7, 9, 1, 7, 8, 5, 9],\n        [6, 1, 9, 3, 9, 4, 3]])"
     },
     "execution_count": 620,
     "metadata": {},
     "output_type": "execute_result"
    }
   ],
   "source": [
    "torch.max(ar1, ar2)"
   ],
   "metadata": {
    "collapsed": false,
    "pycharm": {
     "name": "#%%\n"
    }
   }
  },
  {
   "cell_type": "markdown",
   "metadata": {
    "id": "x6zmMhyKBPWQ",
    "pycharm": {
     "name": "#%% md\n"
    }
   },
   "source": [
    "1.1.7 Создать тензор из 20 случайных целых чисел от 0 до 100. Получить второе сверху значение в тензоре. Определить индекс этого значения."
   ]
  },
  {
   "cell_type": "code",
   "execution_count": 621,
   "outputs": [
    {
     "name": "stdout",
     "output_type": "stream",
     "text": [
      "tensor([69, 63,  9, 33, 19, 78, 35, 83, 22, 58, 35, 16, 46, 35, 77, 12,  5, 46,\n",
      "        56, 15])\n",
      "v=tensor(78), i=tensor(5)\n"
     ]
    }
   ],
   "source": [
    "t = torch.randint(low=0, high=100, size=(20,))\n",
    "i = t.argsort()[-2]\n",
    "v = t[i]\n",
    "print(t)\n",
    "print(f'{v=}, {i=}')"
   ],
   "metadata": {
    "collapsed": false,
    "pycharm": {
     "name": "#%%\n"
    }
   }
  },
  {
   "cell_type": "markdown",
   "metadata": {
    "id": "Xshsy8fD1RDE",
    "pycharm": {
     "name": "#%% md\n"
    }
   },
   "source": [
    "## 1.2 Распространение"
   ]
  },
  {
   "cell_type": "markdown",
   "metadata": {
    "id": "jlP22HAJCo28",
    "pycharm": {
     "name": "#%% md\n"
    }
   },
   "source": [
    "[Numpy broadcasting](https://numpy.org/devdocs/user/theory.broadcasting.html)\n",
    "\n",
    "[Torch broadcasting](https://pytorch.org/docs/stable/notes/broadcasting.html)"
   ]
  },
  {
   "cell_type": "markdown",
   "metadata": {
    "id": "uRD6-8Gd1RDF",
    "pycharm": {
     "name": "#%% md\n"
    }
   },
   "source": [
    "1.2.1 Создать тензор 11x7 вида: `[[1, 2, 3, ..., 7], [11, 12, 13, ..., 17], [21, 22, 23, ..., 27], ..., [101, 102, 103, ..., 107]]`. При решении задачи применить технику распространения."
   ]
  },
  {
   "cell_type": "code",
   "execution_count": 622,
   "outputs": [
    {
     "data": {
      "text/plain": "tensor([[  1,   2,   3,   4,   5,   6,   7],\n        [ 11,  12,  13,  14,  15,  16,  17],\n        [ 21,  22,  23,  24,  25,  26,  27],\n        [ 31,  32,  33,  34,  35,  36,  37],\n        [ 41,  42,  43,  44,  45,  46,  47],\n        [ 51,  52,  53,  54,  55,  56,  57],\n        [ 61,  62,  63,  64,  65,  66,  67],\n        [ 71,  72,  73,  74,  75,  76,  77],\n        [ 81,  82,  83,  84,  85,  86,  87],\n        [ 91,  92,  93,  94,  95,  96,  97],\n        [101, 102, 103, 104, 105, 106, 107]])"
     },
     "execution_count": 622,
     "metadata": {},
     "output_type": "execute_result"
    }
   ],
   "source": [
    "torch.arange(1, 8) + torch.arange(0, 101, step=10).reshape(-1, 1)"
   ],
   "metadata": {
    "collapsed": false,
    "pycharm": {
     "name": "#%%\n"
    }
   }
  },
  {
   "cell_type": "markdown",
   "metadata": {
    "id": "iSY9Iday1RDF",
    "pycharm": {
     "name": "#%% md\n"
    }
   },
   "source": [
    "1.2.2 Вычесть одномерный тензор `b_1d` из двухмерного тензора `a_2d`, так, чтобы каждый элемент одномерного тензора вычитался из всех элементов соответствующих строк двумерного тензора.\n",
    "\n",
    "_Пример:_\n",
    "\n",
    "Для входа:\n",
    "```python\n",
    "a_2d = np.array([[3,3,3],[4,4,4],[5,5,5]])\n",
    "b_1d = np.array([1,2,3])\n",
    "```\n",
    "\n",
    "Ожидается резульат:\n",
    "\n",
    "```python\n",
    "[[2 2 2]\n",
    " [2 2 2]\n",
    " [2 2 2]]\n",
    "```"
   ]
  },
  {
   "cell_type": "code",
   "execution_count": 623,
   "outputs": [
    {
     "data": {
      "text/plain": "tensor([[2, 2, 2],\n        [2, 2, 2],\n        [2, 2, 2]])"
     },
     "execution_count": 623,
     "metadata": {},
     "output_type": "execute_result"
    }
   ],
   "source": [
    "a_2d = torch.tensor([\n",
    "    [3, 3, 3],\n",
    "    [4, 4, 4],\n",
    "    [5, 5, 5],\n",
    "])\n",
    "b_1d = torch.tensor([1, 2, 3])\n",
    "\n",
    "a_2d - b_1d.reshape(-1, 1)"
   ],
   "metadata": {
    "collapsed": false,
    "pycharm": {
     "name": "#%%\n"
    }
   }
  },
  {
   "cell_type": "markdown",
   "metadata": {
    "id": "dFTvPsY91RDF",
    "pycharm": {
     "name": "#%% md\n"
    }
   },
   "source": [
    "## 1.3 Индексы, маскирование и прихотливое индексирование\n",
    "\n",
    "[Документация по функциям для работы с индексами](https://pytorch.org/docs/stable/torch.html#indexing-slicing-joining-mutating-ops)"
   ]
  },
  {
   "cell_type": "markdown",
   "metadata": {
    "id": "McYtDYhH1RDG",
    "pycharm": {
     "name": "#%% md\n"
    }
   },
   "source": [
    "1.3.1 Получить индексы, для которых элементы тензоров `a` и `b` совпадают.\n",
    "\n",
    "_Пример:_\n",
    "\n",
    "Для входа:\n",
    "```python\n",
    "a = np.array([1,2,3,2,3,4,3,4,5,6])\n",
    "b = np.array([7,2,10,2,7,4,9,4,9,8])\n",
    "```\n",
    "\n",
    "Ожидается резульат:\n",
    "\n",
    "```python\n",
    "array([1, 3, 5, 7])\n",
    "```"
   ]
  },
  {
   "cell_type": "code",
   "execution_count": 624,
   "outputs": [
    {
     "data": {
      "text/plain": "tensor([1, 3, 5, 7])"
     },
     "execution_count": 624,
     "metadata": {},
     "output_type": "execute_result"
    }
   ],
   "source": [
    "a = torch.tensor([1, 2, 3, 2, 3, 4, 3, 4, 5, 6])\n",
    "b = torch.tensor([7, 2, 10, 2, 7, 4, 9, 4, 9, 8])\n",
    "\n",
    "(a == b).nonzero(as_tuple=True)[0]  # noqa"
   ],
   "metadata": {
    "collapsed": false,
    "pycharm": {
     "name": "#%%\n"
    }
   }
  },
  {
   "cell_type": "markdown",
   "metadata": {
    "id": "MnBq3nfy1RDG",
    "pycharm": {
     "name": "#%% md\n"
    }
   },
   "source": [
    "1.3.2 Инвертировать порядок элементов в двумерном тензоре `torch.arange(9).view(3,3)`.\n",
    "\n",
    "Ожидаемый результат:\n",
    "\n",
    "\n",
    "```python\n",
    "array([[8, 7, 6],\n",
    "       [5, 4, 3],\n",
    "       [2, 1, 0]])\n",
    "```"
   ]
  },
  {
   "cell_type": "code",
   "execution_count": 625,
   "outputs": [
    {
     "data": {
      "text/plain": "tensor([[8, 7, 6],\n        [5, 4, 3],\n        [2, 1, 0]])"
     },
     "execution_count": 625,
     "metadata": {},
     "output_type": "execute_result"
    }
   ],
   "source": [
    "torch.arange(9).view(3, 3).flip([0, 1])"
   ],
   "metadata": {
    "collapsed": false,
    "pycharm": {
     "name": "#%%\n"
    }
   }
  },
  {
   "cell_type": "markdown",
   "metadata": {
    "id": "tANsLnOC1RDH",
    "pycharm": {
     "name": "#%% md\n"
    }
   },
   "source": [
    "1.3.3 Из входного тензора a получить только элементы, находящиеся в диапазоне от 5 до 10.\n",
    "\n",
    "_Пример:_\n",
    "\n",
    "Для входа:\n",
    "```python\n",
    "a = np.array([2, 6, 1, 9, 10, 3, 27])\n",
    "```\n",
    "\n",
    "Ожидается резульат:\n",
    "\n",
    "```python\n",
    "array([6, 9, 10])\n",
    "```"
   ]
  },
  {
   "cell_type": "code",
   "execution_count": 626,
   "outputs": [
    {
     "data": {
      "text/plain": "tensor([ 6,  9, 10])"
     },
     "execution_count": 626,
     "metadata": {},
     "output_type": "execute_result"
    }
   ],
   "source": [
    "a = torch.tensor([2, 6, 1, 9, 10, 3, 27])\n",
    "a[(a >= 5) & (a <= 10)]"
   ],
   "metadata": {
    "collapsed": false,
    "pycharm": {
     "name": "#%%\n"
    }
   }
  },
  {
   "cell_type": "markdown",
   "metadata": {
    "id": "3vlK0gV21RDH",
    "pycharm": {
     "name": "#%% md\n"
    }
   },
   "source": [
    "1.3.4 Поменять местами столбец 1 и 2 тензора `np.arange(9).reshape(3,3)`"
   ]
  },
  {
   "cell_type": "code",
   "execution_count": 627,
   "outputs": [
    {
     "data": {
      "text/plain": "tensor([[1, 0, 2],\n        [4, 3, 5],\n        [7, 6, 8]])"
     },
     "execution_count": 627,
     "metadata": {},
     "output_type": "execute_result"
    }
   ],
   "source": [
    "t = torch.arange(9).reshape(3, 3)\n",
    "t[:, [0, 1]] = t[:, [1, 0]]\n",
    "t"
   ],
   "metadata": {
    "collapsed": false,
    "pycharm": {
     "name": "#%%\n"
    }
   }
  },
  {
   "cell_type": "markdown",
   "metadata": {
    "id": "cheFtWhU1RDH",
    "pycharm": {
     "name": "#%% md\n"
    }
   },
   "source": [
    "1.3.5 Создать тензор 8 на 10 из случайных целых чисел из диапазона от 0 до 10 и найти в ней строку (ее индекс и вывести саму строку), в которой сумма значений минимальна."
   ]
  },
  {
   "cell_type": "code",
   "execution_count": 628,
   "outputs": [
    {
     "data": {
      "text/plain": "tensor([[4, 0, 8, 1, 7, 8, 5, 4, 4, 8],\n        [4, 4, 9, 0, 7, 4, 5, 3, 3, 7],\n        [3, 0, 9, 9, 3, 1, 8, 1, 7, 8],\n        [4, 1, 0, 4, 0, 4, 9, 7, 0, 0],\n        [1, 4, 9, 9, 5, 9, 2, 2, 2, 1],\n        [4, 9, 1, 1, 0, 3, 0, 6, 7, 6],\n        [9, 1, 6, 4, 1, 0, 5, 2, 5, 8],\n        [1, 8, 1, 2, 8, 0, 3, 8, 9, 2]])"
     },
     "execution_count": 628,
     "metadata": {},
     "output_type": "execute_result"
    }
   ],
   "source": [
    "t = torch.randint(0, 10, size=(8, 10))\n",
    "t"
   ],
   "metadata": {
    "collapsed": false,
    "pycharm": {
     "name": "#%%\n"
    }
   }
  },
  {
   "cell_type": "code",
   "execution_count": 629,
   "outputs": [
    {
     "name": "stdout",
     "output_type": "stream",
     "text": [
      "row=tensor([4, 1, 0, 4, 0, 4, 9, 7, 0, 0]), i=tensor(3)\n"
     ]
    }
   ],
   "source": [
    "i = t.sum(1).argmin()\n",
    "row = t[i]\n",
    "print(f'{row=}, {i=}')"
   ],
   "metadata": {
    "collapsed": false,
    "pycharm": {
     "name": "#%%\n"
    }
   }
  },
  {
   "cell_type": "markdown",
   "metadata": {
    "id": "grOCNU4XFE2B",
    "pycharm": {
     "name": "#%% md\n"
    }
   },
   "source": [
    "1.3.6 Cоздать тензор из 20 случайных целых чисел от 0 до 100. Обрезать значения тензора (заменить значения, выходящие за диапазон, на крайние значения) снизу по значению 30, сверху по значению 70."
   ]
  },
  {
   "cell_type": "code",
   "execution_count": 630,
   "outputs": [
    {
     "data": {
      "text/plain": "tensor([ 7, 60, 88, 78, 96, 98, 15, 18, 66, 95, 72, 84, 12, 77, 42, 84, 69, 18,\n        95,  6])"
     },
     "execution_count": 630,
     "metadata": {},
     "output_type": "execute_result"
    }
   ],
   "source": [
    "t = torch.randint(0, 100, size=(20,))\n",
    "t"
   ],
   "metadata": {
    "collapsed": false,
    "pycharm": {
     "name": "#%%\n"
    }
   }
  },
  {
   "cell_type": "code",
   "execution_count": 631,
   "outputs": [
    {
     "data": {
      "text/plain": "tensor([30, 60, 70, 70, 70, 70, 30, 30, 66, 70, 70, 70, 30, 70, 42, 70, 69, 30,\n        70, 30])"
     },
     "execution_count": 631,
     "metadata": {},
     "output_type": "execute_result"
    }
   ],
   "source": [
    "t.clamp(min=30, max=70)"
   ],
   "metadata": {
    "collapsed": false,
    "pycharm": {
     "name": "#%%\n"
    }
   }
  },
  {
   "cell_type": "markdown",
   "metadata": {
    "id": "HNfQjY8P1RDI",
    "pycharm": {
     "name": "#%% md\n"
    }
   },
   "source": [
    "1.3.7 Создать два тензора размера 30 на 3 из случайных целых чисел из диапазона от 0 до 10 и найти все значения первого тензора, которые больше соответсвующих (по расположению) значений второго тензора. Подсчитать сумму этих значений."
   ]
  },
  {
   "cell_type": "code",
   "execution_count": 632,
   "outputs": [
    {
     "data": {
      "text/plain": "(tensor([[4, 3, 3],\n         [4, 0, 2],\n         [5, 1, 2],\n         [8, 2, 4],\n         [8, 3, 6],\n         [5, 8, 8],\n         [0, 5, 1],\n         [3, 0, 8],\n         [1, 1, 1],\n         [7, 2, 2],\n         [2, 3, 3],\n         [6, 7, 8],\n         [0, 5, 0],\n         [3, 5, 5],\n         [3, 6, 2],\n         [2, 5, 5],\n         [9, 4, 3],\n         [3, 7, 3],\n         [8, 0, 7],\n         [5, 8, 2],\n         [4, 7, 3],\n         [2, 5, 5],\n         [3, 9, 1],\n         [8, 0, 6],\n         [7, 4, 7],\n         [6, 9, 3],\n         [8, 4, 4],\n         [9, 4, 4],\n         [9, 9, 5],\n         [7, 0, 3]]),\n tensor([[2, 0, 8],\n         [6, 1, 9],\n         [1, 6, 9],\n         [8, 6, 5],\n         [1, 3, 5],\n         [5, 3, 6],\n         [2, 7, 5],\n         [7, 7, 3],\n         [1, 5, 9],\n         [5, 9, 6],\n         [0, 0, 6],\n         [5, 1, 5],\n         [0, 1, 7],\n         [7, 1, 5],\n         [9, 1, 2],\n         [0, 0, 6],\n         [3, 9, 6],\n         [1, 0, 4],\n         [5, 6, 9],\n         [0, 5, 4],\n         [0, 4, 8],\n         [5, 7, 7],\n         [6, 9, 2],\n         [5, 6, 0],\n         [0, 4, 5],\n         [3, 7, 6],\n         [7, 0, 2],\n         [5, 5, 1],\n         [4, 7, 1],\n         [0, 1, 0]]))"
     },
     "execution_count": 632,
     "metadata": {},
     "output_type": "execute_result"
    }
   ],
   "source": [
    "a = torch.randint(0, 10, size=(30, 3))\n",
    "b = torch.randint(0, 10, size=(30, 3))\n",
    "a, b"
   ],
   "metadata": {
    "collapsed": false,
    "pycharm": {
     "name": "#%%\n"
    }
   }
  },
  {
   "cell_type": "code",
   "execution_count": 633,
   "outputs": [
    {
     "data": {
      "text/plain": "tensor(262)"
     },
     "execution_count": 633,
     "metadata": {},
     "output_type": "execute_result"
    }
   ],
   "source": [
    "a[a > b].sum()"
   ],
   "metadata": {
    "collapsed": false,
    "pycharm": {
     "name": "#%%\n"
    }
   }
  },
  {
   "cell_type": "markdown",
   "metadata": {
    "id": "doBCxYJA1RDI",
    "pycharm": {
     "name": "#%% md\n"
    }
   },
   "source": [
    "1.3.8 При помощи прихотливого индексирования для двухмерного массива размерности (20, 20), состоящего из случайных целых чисел в пределах от 0 до 10 получить массив элементов находящихся на диагонали, проходящей над основной диагональю."
   ]
  },
  {
   "cell_type": "code",
   "execution_count": 634,
   "outputs": [
    {
     "data": {
      "text/plain": "tensor([[9, 1, 4, 2, 5, 3, 4, 1, 5, 5, 5, 1, 5, 2, 4, 3, 4, 7, 8, 4],\n        [7, 3, 1, 5, 3, 0, 5, 3, 3, 0, 8, 7, 3, 4, 7, 3, 5, 6, 0, 4],\n        [9, 8, 2, 0, 0, 6, 8, 9, 1, 9, 2, 6, 9, 9, 7, 4, 1, 8, 5, 8],\n        [7, 9, 7, 4, 5, 4, 2, 5, 8, 3, 8, 0, 1, 2, 0, 2, 2, 8, 6, 4],\n        [8, 0, 5, 2, 3, 7, 4, 7, 1, 3, 0, 6, 3, 1, 3, 7, 6, 5, 4, 7],\n        [2, 0, 2, 6, 1, 5, 5, 7, 5, 4, 7, 6, 3, 8, 1, 4, 7, 3, 6, 2],\n        [0, 1, 3, 3, 6, 2, 9, 6, 6, 3, 6, 0, 8, 5, 0, 7, 2, 3, 2, 5],\n        [9, 2, 2, 9, 0, 3, 2, 7, 4, 6, 2, 8, 5, 7, 2, 3, 8, 3, 1, 6],\n        [7, 0, 0, 4, 4, 6, 3, 1, 6, 8, 4, 4, 5, 7, 8, 0, 7, 4, 1, 7],\n        [5, 3, 7, 7, 7, 7, 9, 5, 7, 0, 2, 7, 7, 1, 5, 6, 6, 3, 0, 2],\n        [5, 4, 1, 8, 7, 4, 2, 5, 8, 2, 6, 4, 2, 3, 8, 5, 6, 0, 5, 7],\n        [1, 3, 8, 4, 7, 2, 3, 5, 1, 9, 0, 0, 1, 4, 6, 3, 5, 9, 0, 0],\n        [2, 5, 7, 2, 5, 4, 4, 2, 5, 7, 0, 9, 8, 7, 6, 6, 5, 2, 8, 0],\n        [0, 8, 9, 7, 3, 3, 5, 9, 3, 1, 2, 2, 2, 8, 1, 7, 1, 5, 6, 7],\n        [4, 0, 9, 5, 3, 6, 7, 5, 5, 0, 9, 5, 3, 9, 5, 4, 8, 5, 8, 2],\n        [0, 5, 8, 7, 2, 7, 0, 7, 1, 0, 7, 2, 8, 0, 5, 6, 3, 0, 7, 3],\n        [2, 9, 5, 6, 5, 9, 5, 1, 7, 4, 4, 1, 9, 5, 9, 8, 5, 8, 8, 1],\n        [6, 3, 4, 9, 1, 0, 5, 5, 4, 3, 0, 2, 0, 4, 5, 8, 0, 3, 0, 4],\n        [6, 3, 6, 3, 6, 6, 2, 6, 9, 9, 1, 8, 0, 3, 3, 2, 3, 9, 2, 1],\n        [9, 6, 1, 6, 7, 9, 8, 8, 6, 4, 9, 9, 0, 6, 1, 9, 6, 4, 4, 5]])"
     },
     "execution_count": 634,
     "metadata": {},
     "output_type": "execute_result"
    }
   ],
   "source": [
    "t = torch.randint(0, 10, size=(20, 20))\n",
    "t"
   ],
   "metadata": {
    "collapsed": false,
    "pycharm": {
     "name": "#%%\n"
    }
   }
  },
  {
   "cell_type": "code",
   "execution_count": 635,
   "outputs": [
    {
     "data": {
      "text/plain": "tensor([1, 1, 0, 5, 7, 5, 6, 4, 8, 2, 4, 1, 7, 1, 4, 3, 8, 0, 1])"
     },
     "execution_count": 635,
     "metadata": {},
     "output_type": "execute_result"
    }
   ],
   "source": [
    "t[torch.arange(0, t.shape[0] - 1), torch.arange(1, t.shape[0])]"
   ],
   "metadata": {
    "collapsed": false,
    "pycharm": {
     "name": "#%%\n"
    }
   }
  },
  {
   "cell_type": "markdown",
   "metadata": {
    "id": "6M1lkfLp1RDJ",
    "pycharm": {
     "name": "#%% md\n"
    }
   },
   "source": [
    "1.3.9 Задать два двухмерных тензора `ar1` и `ar2` размерности (5, 10), состоящих из случайных целых чисел в пределах от 0 до 10. Удвоить все значения `ar1`, которые совпадают со значениями `ar2`, расположенными на аналогичных позициях."
   ]
  },
  {
   "cell_type": "code",
   "execution_count": 636,
   "outputs": [
    {
     "data": {
      "text/plain": "(tensor([[2, 9, 6, 0, 1, 6, 6, 4, 7, 3],\n         [6, 4, 4, 3, 6, 8, 7, 0, 9, 2],\n         [0, 5, 1, 4, 4, 1, 1, 1, 4, 4],\n         [6, 6, 0, 5, 8, 4, 8, 2, 0, 7],\n         [1, 5, 7, 5, 4, 2, 5, 1, 7, 3]]),\n tensor([[5, 3, 1, 3, 6, 0, 0, 1, 3, 9],\n         [7, 0, 0, 3, 6, 5, 3, 5, 5, 1],\n         [0, 4, 8, 2, 9, 4, 0, 8, 4, 5],\n         [5, 9, 9, 7, 6, 7, 0, 2, 9, 3],\n         [9, 3, 1, 2, 0, 5, 6, 2, 3, 1]]))"
     },
     "execution_count": 636,
     "metadata": {},
     "output_type": "execute_result"
    }
   ],
   "source": [
    "ar1 = torch.randint(0, 10, size=(5, 10))\n",
    "ar2 = torch.randint(0, 10, size=(5, 10))\n",
    "\n",
    "ar1, ar2"
   ],
   "metadata": {
    "collapsed": false,
    "pycharm": {
     "name": "#%%\n"
    }
   }
  },
  {
   "cell_type": "code",
   "execution_count": 637,
   "outputs": [
    {
     "data": {
      "text/plain": "tensor([[ 2,  9,  6,  0,  1,  6,  6,  4,  7,  3],\n        [ 6,  4,  4,  6, 12,  8,  7,  0,  9,  2],\n        [ 0,  5,  1,  4,  4,  1,  1,  1,  8,  4],\n        [ 6,  6,  0,  5,  8,  4,  8,  4,  0,  7],\n        [ 1,  5,  7,  5,  4,  2,  5,  1,  7,  3]])"
     },
     "execution_count": 637,
     "metadata": {},
     "output_type": "execute_result"
    }
   ],
   "source": [
    "ar1[ar1 == ar2] *= 2\n",
    "ar1"
   ],
   "metadata": {
    "collapsed": false,
    "pycharm": {
     "name": "#%%\n"
    }
   }
  },
  {
   "cell_type": "markdown",
   "metadata": {
    "id": "Qe2oVr4p1RDJ",
    "pycharm": {
     "name": "#%% md\n"
    }
   },
   "source": [
    "1.3.10 Заданы три двухмерных тензора `ar1`, `ar2` и `ar3` размерности (4, 7), состоящие из случайных целых чисел в пределах от 0 до 10. Обнулить все элементы `ar1`, которые больше соответствующих (находящихся в соответствующих позициях) элементов `ar2` и меньше соответствующих элементов `ar3`."
   ]
  },
  {
   "cell_type": "code",
   "execution_count": 638,
   "outputs": [
    {
     "data": {
      "text/plain": "(tensor([[5, 4, 6, 9, 7, 2, 8],\n         [0, 5, 9, 4, 7, 8, 7],\n         [4, 9, 3, 3, 1, 0, 8],\n         [6, 7, 9, 3, 5, 4, 4]]),\n tensor([[2, 4, 4, 6, 9, 3, 4],\n         [7, 6, 2, 1, 4, 5, 0],\n         [6, 6, 6, 1, 2, 2, 5],\n         [3, 0, 6, 9, 4, 7, 2]]),\n tensor([[5, 0, 7, 5, 7, 8, 3],\n         [2, 5, 5, 8, 8, 0, 1],\n         [1, 0, 4, 6, 6, 4, 6],\n         [7, 8, 2, 6, 2, 3, 4]]))"
     },
     "execution_count": 638,
     "metadata": {},
     "output_type": "execute_result"
    }
   ],
   "source": [
    "ar1 = torch.randint(0, 10, size=(4, 7))\n",
    "ar2 = torch.randint(0, 10, size=(4, 7))\n",
    "ar3 = torch.randint(0, 10, size=(4, 7))\n",
    "\n",
    "ar1, ar2, ar3"
   ],
   "metadata": {
    "collapsed": false,
    "pycharm": {
     "name": "#%%\n"
    }
   }
  },
  {
   "cell_type": "code",
   "execution_count": 639,
   "outputs": [
    {
     "data": {
      "text/plain": "tensor([[5, 4, 0, 9, 7, 2, 8],\n        [0, 5, 9, 0, 0, 8, 7],\n        [4, 9, 3, 0, 1, 0, 8],\n        [0, 0, 9, 3, 5, 4, 4]])"
     },
     "execution_count": 639,
     "metadata": {},
     "output_type": "execute_result"
    }
   ],
   "source": [
    "ar1[(ar1 > ar2) & (ar1 < ar3)] = 0\n",
    "ar1"
   ],
   "metadata": {
    "collapsed": false,
    "pycharm": {
     "name": "#%%\n"
    }
   }
  },
  {
   "cell_type": "markdown",
   "metadata": {
    "id": "BTcRVeYh1RDK",
    "pycharm": {
     "name": "#%% md\n"
    }
   },
   "source": [
    "1.3.11 Задан двумерный тензор `ar1` размерности (20, 5), состоящий из случайных целых чисел в пределах от 0 до 20. Определить, в каких столбцах не менее 5 раз встречается значение, максимальное по своей строке."
   ]
  },
  {
   "cell_type": "code",
   "execution_count": 640,
   "outputs": [
    {
     "data": {
      "text/plain": "tensor([[ 0, 12, 17, 13, 12],\n        [17, 12, 18,  8,  5],\n        [ 6,  4,  8, 13, 17],\n        [11,  0, 10,  1, 14],\n        [15, 13,  2, 12, 14],\n        [ 4,  6,  0,  8, 14],\n        [17,  0, 15,  2, 19],\n        [16,  4, 10, 19, 12],\n        [ 7,  9, 10,  0,  2],\n        [ 7,  6,  3, 19,  1],\n        [14, 11,  6,  2, 18],\n        [18, 16,  3,  6,  4],\n        [ 0,  5, 13,  6, 13],\n        [ 4,  3, 18,  9,  7],\n        [16,  1,  2,  1, 18],\n        [ 6, 13,  6,  6, 14],\n        [ 3, 14, 17,  2,  6],\n        [ 6, 19, 14,  0, 13],\n        [ 1,  7, 12,  1,  4],\n        [ 1, 19, 13, 11, 11]])"
     },
     "execution_count": 640,
     "metadata": {},
     "output_type": "execute_result"
    }
   ],
   "source": [
    "ar1 = torch.randint(0, 20, size=(20, 5))\n",
    "ar1"
   ],
   "metadata": {
    "collapsed": false,
    "pycharm": {
     "name": "#%%\n"
    }
   }
  },
  {
   "cell_type": "code",
   "execution_count": 641,
   "outputs": [
    {
     "data": {
      "text/plain": "tensor([2, 4])"
     },
     "execution_count": 641,
     "metadata": {},
     "output_type": "execute_result"
    }
   ],
   "source": [
    "row_max_indices = ar1.argmax(1)\n",
    "rows, counts = row_max_indices.unique(return_counts=True)\n",
    "rows[counts >= 5]"
   ],
   "metadata": {
    "collapsed": false,
    "pycharm": {
     "name": "#%%\n"
    }
   }
  },
  {
   "cell_type": "markdown",
   "metadata": {
    "id": "ZeYlNWNE1RDK",
    "pycharm": {
     "name": "#%% md\n"
    }
   },
   "source": [
    "1.3.12 Задан двумерный тензор `ar1` размерности (4, 7), состоящий из случайных чисел в пределах от 0 до 1. Обнулить все значения в массиве, расположенные строго правее и ниже максимального элемента массива."
   ]
  },
  {
   "cell_type": "code",
   "execution_count": 642,
   "outputs": [
    {
     "data": {
      "text/plain": "(tensor([[0.6960, 0.8688, 0.6200, 0.4506, 0.7479, 0.1826, 0.9891],\n         [0.0028, 0.0210, 0.3818, 0.9084, 0.5501, 0.6920, 0.1335],\n         [0.6823, 0.4441, 0.7004, 0.8531, 0.7173, 0.4575, 0.4692],\n         [0.1864, 0.3191, 0.8249, 0.2995, 0.8105, 0.3017, 0.3836]]),\n (tensor(0.9891), tensor(6)))"
     },
     "execution_count": 642,
     "metadata": {},
     "output_type": "execute_result"
    }
   ],
   "source": [
    "ar1 = torch.rand(4, 7)\n",
    "ar1, (ar1.max(), ar1.argmax())"
   ],
   "metadata": {
    "collapsed": false,
    "pycharm": {
     "name": "#%%\n"
    }
   }
  },
  {
   "cell_type": "code",
   "execution_count": 643,
   "outputs": [
    {
     "data": {
      "text/plain": "tensor([[0.6960, 0.8688, 0.6200, 0.4506, 0.7479, 0.1826, 0.9891],\n        [0.0028, 0.0210, 0.3818, 0.9084, 0.5501, 0.6920, 0.1335],\n        [0.6823, 0.4441, 0.7004, 0.8531, 0.7173, 0.4575, 0.4692],\n        [0.1864, 0.3191, 0.8249, 0.2995, 0.8105, 0.3017, 0.3836]])"
     },
     "execution_count": 643,
     "metadata": {},
     "output_type": "execute_result"
    }
   ],
   "source": [
    "i = torch.div(ar1.argmax(), ar1.shape[1], rounding_mode='floor')\n",
    "j = ar1.argmax() % ar1.shape[1]\n",
    "ar1[i + 1:, j + 1:] = 0\n",
    "ar1"
   ],
   "metadata": {
    "collapsed": false,
    "pycharm": {
     "name": "#%%\n"
    }
   }
  },
  {
   "cell_type": "markdown",
   "metadata": {
    "id": "pYxX90B11RDL",
    "pycharm": {
     "name": "#%% md\n"
    }
   },
   "source": [
    "1.3.13 Построить \"one-hot encoding\" для одномерного тензора, содержащего целые числа (длина вектора заранее неизвестна, набор значений заранее неизвестен, при этом в итоговой матрице должны присутствовать столбцы для всех натуральных чисел вплоть до максимального встречающегося в исходном массиве).\n",
    "\n",
    "Пример:\n",
    "\n",
    "для тензора `torch.tensor([2, 3, 2, 2, 2, 1])`.\n",
    "\n",
    "Ожидается результат:\n",
    "\n",
    "```python\n",
    "tensor([[0., 1., 0.],\n",
    "        [0., 0., 1.],\n",
    "        [0., 1., 0.],\n",
    "        [0., 1., 0.],\n",
    "        [0., 1., 0.],\n",
    "        [1., 0., 0.]])\n",
    "```"
   ]
  },
  {
   "cell_type": "code",
   "execution_count": 651,
   "outputs": [
    {
     "data": {
      "text/plain": "tensor([[0, 1, 0],\n        [0, 0, 1],\n        [0, 1, 0],\n        [0, 1, 0],\n        [0, 1, 0],\n        [1, 0, 0]])"
     },
     "execution_count": 651,
     "metadata": {},
     "output_type": "execute_result"
    }
   ],
   "source": [
    "t = torch.tensor([2, 3, 2, 2, 2, 1])\n",
    "f.one_hot(t - 1)"
   ],
   "metadata": {
    "collapsed": false,
    "pycharm": {
     "name": "#%%\n"
    }
   }
  },
  {
   "cell_type": "markdown",
   "metadata": {
    "id": "GYU8DmNTDLN8",
    "pycharm": {
     "name": "#%% md\n"
    }
   },
   "source": [
    "1.3.14 Создать тензор `arr` из 20 случайных целых чисел от 0 до 100. Найти самое частое значение в тензоре. \n",
    "Найти индексы в тензоре, соответствующие самому частому значению. Проверить, как работет алгоритм при двух значениях, имеющих наибольшую встречаемость, предложить приемлемое поведение алгоритма для этого случая."
   ]
  },
  {
   "cell_type": "code",
   "execution_count": 699,
   "outputs": [
    {
     "data": {
      "text/plain": "tensor([ 4, 17,  4,  0, 13, 11,  8,  6, 16,  4,  1,  9, 13, 13,  0, 10, 19, 18,\n        10,  9])"
     },
     "execution_count": 699,
     "metadata": {},
     "output_type": "execute_result"
    }
   ],
   "source": [
    "arr = torch.randint(0, 20, size=(20,))\n",
    "arr"
   ],
   "metadata": {
    "collapsed": false,
    "pycharm": {
     "name": "#%%\n"
    }
   }
  },
  {
   "cell_type": "code",
   "execution_count": 705,
   "outputs": [
    {
     "data": {
      "text/plain": "(tensor([ 4, 17, 16,  8,  0, 13, 11,  6,  1,  9, 10, 19, 18]),\n tensor([ 0,  1,  0,  4,  5,  6,  3,  7,  2,  0,  8,  9,  5,  5,  4, 10, 11, 12,\n         10,  9]),\n (tensor([3, 1, 1, 1, 2, 3, 1, 1, 1, 2, 2, 1, 1]), tensor(3), tensor(0)))"
     },
     "execution_count": 705,
     "metadata": {},
     "output_type": "execute_result"
    }
   ],
   "source": [
    "values, inverse_indices, counts = arr.unique(sorted=False, return_inverse=True, return_counts=True)\n",
    "values, inverse_indices, (counts, counts.max(), counts.argmax())"
   ],
   "metadata": {
    "collapsed": false,
    "pycharm": {
     "name": "#%%\n"
    }
   }
  },
  {
   "cell_type": "code",
   "execution_count": 706,
   "outputs": [
    {
     "name": "stdout",
     "output_type": "stream",
     "text": [
      "most_common=tensor(4), indices=tensor([0, 2, 9])\n"
     ]
    }
   ],
   "source": [
    "most_common = values[counts.argmax()]\n",
    "indices = (arr == most_common).nonzero(as_tuple=True)[0]\n",
    "print(f'{most_common=}, {indices=}')"
   ],
   "metadata": {
    "collapsed": false,
    "pycharm": {
     "name": "#%%\n"
    }
   }
  },
  {
   "cell_type": "markdown",
   "metadata": {
    "id": "UenAEfEG1RDN",
    "pycharm": {
     "name": "#%% md\n"
    }
   },
   "source": [
    "## 1.4 Математические задачи"
   ]
  },
  {
   "cell_type": "markdown",
   "metadata": {
    "id": "6weDrqJR1RDN",
    "pycharm": {
     "name": "#%% md\n"
    }
   },
   "source": [
    "1.4.1 Приблизительно (с погрешностью порядка 1%) рассчитать на какой части интервала от 0 до 10 значение функции x * sin(x) больше 0.5."
   ]
  },
  {
   "cell_type": "markdown",
   "metadata": {
    "id": "B9xAv8TR1RDN",
    "pycharm": {
     "name": "#%% md\n"
    }
   },
   "source": [
    "1.4.2 Найти все простые числа в пределах ста. (Для решения предлагается использовать Решето Эратосфена) Использовать не более 1 цикла (желательно)."
   ]
  },
  {
   "cell_type": "markdown",
   "metadata": {
    "id": "AHupFoTR1RDN",
    "pycharm": {
     "name": "#%% md\n"
    }
   },
   "source": [
    "1.4.3 Найти евклидово расстояние между двумя одномерными тензорами одинаковой размерности, не используя готовые решения из библиотек."
   ]
  },
  {
   "cell_type": "markdown",
   "metadata": {
    "id": "j-ZvjWDKDVMQ",
    "pycharm": {
     "name": "#%% md\n"
    }
   },
   "source": [
    "1.4.4 Создать двумерный тензор 20 на 3, содержащий случайные целые числа от 0 до 100. \n",
    "Интерпретируя тензор как 20 векторов из 3х компонент, отсортировать его по длине векторов."
   ]
  },
  {
   "cell_type": "markdown",
   "metadata": {
    "id": "IkBRFTKa1RDO",
    "pycharm": {
     "name": "#%% md\n"
    }
   },
   "source": [
    "1.4.5 Найти \"локальные максимумы\" в одномерном тензоре (т.е. значения, большие предыдущего и последующего) `torch.tensor([1, 3, 7, 1, 2, 6, 0, 1])` и вывести их индексы."
   ]
  },
  {
   "cell_type": "markdown",
   "metadata": {
    "id": "VXD58rlc1RDP",
    "pycharm": {
     "name": "#%% md\n"
    }
   },
   "source": [
    "1.4.6 Задан произвольный массив numpy (например массив из 100 случайных числе от 0 до 1). Необходимо найти в нем число наиболее близкое к заданному."
   ]
  },
  {
   "cell_type": "markdown",
   "metadata": {
    "id": "81F_B2ij1RDP",
    "pycharm": {
     "name": "#%% md\n"
    }
   },
   "source": [
    "1.4.7 Решить матричное уравнение `A*X*B=-C` - найти матрицу X. Где `A = [[-1, 2, 4], [-3, 1, 2], [-3, 0, 1]]`, `B=[[3, -1], [2, 1]]`, `C=[[7, 21], [11, 8], [8, 4]]`."
   ]
  },
  {
   "cell_type": "markdown",
   "metadata": {
    "id": "1P7O19bj1RDP",
    "pycharm": {
     "name": "#%% md\n"
    }
   },
   "source": [
    "1.4.8 Проверить, является ли система векторов a1 = (3; −3; 0; 7),\n",
    "a2 = (2; 2; 4; 7), a3 = (1; 2; 3; 4), a4 = (5; −4; 1; 3) линейно зависимой?"
   ]
  },
  {
   "cell_type": "markdown",
   "metadata": {
    "id": "Jg_bzMVS1RDQ",
    "pycharm": {
     "name": "#%% md\n"
    }
   },
   "source": [
    "1.4.9 Сгенирировать тензор из 200 случайных целых чисел, нормально распрделенных cо стандартным отклонением $\\sigma = 10$ и матожиданием $\\mu = 0$. Построить тензор гистограммы с 20 бинами. "
   ]
  }
 ],
 "metadata": {
  "colab": {
   "name": "01_tensor_v1_blank.ipynb",
   "provenance": [],
   "toc_visible": true
  },
  "kernelspec": {
   "display_name": "Python 3 (ipykernel)",
   "language": "python",
   "name": "python3"
  },
  "language_info": {
   "codemirror_mode": {
    "name": "ipython",
    "version": 3
   },
   "file_extension": ".py",
   "mimetype": "text/x-python",
   "name": "python",
   "nbconvert_exporter": "python",
   "pygments_lexer": "ipython3",
   "version": "3.9.7"
  }
 },
 "nbformat": 4,
 "nbformat_minor": 1
}