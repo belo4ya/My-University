{
 "cells": [
  {
   "cell_type": "markdown",
   "metadata": {
    "id": "_gE94V3G1RCx",
    "pycharm": {
     "name": "#%% md\n"
    }
   },
   "source": [
    "# 01. Знакомство с `torch.Tensor`"
   ]
  },
  {
   "cell_type": "markdown",
   "metadata": {
    "id": "TlWOXn0f1RC7",
    "pycharm": {
     "name": "#%% md\n"
    }
   },
   "source": [
    "---"
   ]
  },
  {
   "cell_type": "markdown",
   "metadata": {
    "id": "lZfJ1FRM1RC8",
    "pycharm": {
     "name": "#%% md\n"
    }
   },
   "source": [
    "При решении данных задач не подразумевается использования циклов или генераторов Python, если в задании не сказано обратного. Решение должно опираться на использование функционала библиотеки `torch`.\n",
    "\n",
    "[PyTorch documentation](https://pytorch.org/docs/stable/#pytorch-documentation)"
   ]
  },
  {
   "cell_type": "code",
   "execution_count": 10,
   "metadata": {
    "id": "b3AW8rF-1RC9",
    "pycharm": {
     "name": "#%%\n"
    }
   },
   "outputs": [],
   "source": [
    "import sympy\n",
    "import torch\n",
    "from scipy.spatial import distance\n",
    "from torch.nn import functional as f"
   ]
  },
  {
   "cell_type": "code",
   "execution_count": 11,
   "outputs": [],
   "source": [
    "torch.manual_seed(0);"
   ],
   "metadata": {
    "collapsed": false,
    "pycharm": {
     "name": "#%%\n"
    }
   }
  },
  {
   "cell_type": "markdown",
   "metadata": {
    "id": "vow49PuE1RC9",
    "pycharm": {
     "name": "#%% md\n"
    }
   },
   "source": [
    "## 1.1 Создание тензоров и выполнение базовых операций над ними\n",
    "\n",
    "[Документация по функциям для создания тензоров](https://pytorch.org/docs/stable/torch.html#creation-ops)\n",
    "\n",
    "[Документация по функциям для работы с индексами](https://pytorch.org/docs/stable/torch.html#indexing-slicing-joining-mutating-ops)"
   ]
  },
  {
   "cell_type": "markdown",
   "metadata": {
    "id": "wBIwO1SB1RC-",
    "pycharm": {
     "name": "#%% md\n"
    }
   },
   "source": [
    "1.1.1 Создайте двумерный тензор размера (8, 8). Используя как можно меньше операций, добейтесь расстановки кодов \"шахматных фигур\".\n",
    "\n",
    "Ожидаемый результат:\n",
    "\n",
    "```\n",
    "[[-4., -3., -2., -6., -5., -2., -3., -4.],\n",
    " [-1., -1., -1., -1., -1., -1., -1., -1.],\n",
    " [0., 0., 0., 0., 0., 0., 0., 0.],\n",
    " [0., 0., 0., 0., 0., 0., 0., 0.],\n",
    " [0., 0., 0., 0., 0., 0., 0., 0.],\n",
    " [0., 0., 0., 0., 0., 0., 0., 0.],\n",
    " [1., 1., 1., 1., 1., 1., 1., 1.],\n",
    " [4., 3., 2., 6., 5., 2., 3., 4.]]\n",
    "\n",
    "```"
   ]
  },
  {
   "cell_type": "code",
   "execution_count": 12,
   "outputs": [
    {
     "data": {
      "text/plain": "tensor([[-4., -3., -2., -6., -5., -2., -3., -4.],\n        [-1., -1., -1., -1., -1., -1., -1., -1.],\n        [ 0.,  0.,  0.,  0.,  0.,  0.,  0.,  0.],\n        [ 0.,  0.,  0.,  0.,  0.,  0.,  0.,  0.],\n        [ 0.,  0.,  0.,  0.,  0.,  0.,  0.,  0.],\n        [ 0.,  0.,  0.,  0.,  0.,  0.,  0.,  0.],\n        [ 1.,  1.,  1.,  1.,  1.,  1.,  1.,  1.],\n        [ 4.,  3.,  2.,  6.,  5.,  2.,  3.,  4.]])"
     },
     "execution_count": 12,
     "metadata": {},
     "output_type": "execute_result"
    }
   ],
   "source": [
    "# ... в результате к XV веку сложились правила,\n",
    "# которые сегодня известны как «классические» ...\n",
    "t = torch.zeros(8, 8, dtype=torch.float)\n",
    "pawns = torch.ones(8)\n",
    "important = torch.tensor([4, 3, 2, 6, 5, 2, 3, 4])\n",
    "\n",
    "t[0], t[1] = -1 * important, -1 * pawns\n",
    "t[-1], t[-2] = important, pawns\n",
    "t"
   ],
   "metadata": {
    "collapsed": false,
    "pycharm": {
     "name": "#%%\n"
    }
   }
  },
  {
   "cell_type": "code",
   "execution_count": 13,
   "outputs": [
    {
     "data": {
      "text/plain": "tensor([[-4., -3., -2., -6., -5., -2., -3., -4.],\n        [-1., -1., -1., -1., -1., -1., -1., -1.],\n        [ 0.,  0.,  0.,  0.,  0.,  0.,  0.,  0.],\n        [ 0.,  0.,  0.,  0.,  0.,  0.,  0.,  0.],\n        [ 0.,  0.,  0.,  0.,  0.,  0.,  0.,  0.],\n        [ 0.,  0.,  0.,  0.,  0.,  0.,  0.,  0.],\n        [ 1.,  1.,  1.,  1.,  1.,  1.,  1.,  1.],\n        [ 4.,  3.,  2.,  6.,  5.,  2.,  3.,  4.]], dtype=torch.float16)"
     },
     "execution_count": 13,
     "metadata": {},
     "output_type": "execute_result"
    }
   ],
   "source": [
    "# 1 операция, но вряд ли от меня этого хотели?\n",
    "\n",
    "torch.tensor([\n",
    "    [-4, -3, -2, -6, -5, -2, -3, -4],\n",
    "    [-1, -1, -1, -1, -1, -1, -1, -1],\n",
    "    [0, 0, 0, 0, 0, 0, 0, 0],\n",
    "    [0, 0, 0, 0, 0, 0, 0, 0],\n",
    "    [0, 0, 0, 0, 0, 0, 0, 0],\n",
    "    [0, 0, 0, 0, 0, 0, 0, 0],\n",
    "    [1, 1, 1, 1, 1, 1, 1, 1],\n",
    "    [4, 3, 2, 6, 5, 2, 3, 4],\n",
    "], dtype=torch.float16)"
   ],
   "metadata": {
    "collapsed": false,
    "pycharm": {
     "name": "#%%\n"
    }
   }
  },
  {
   "cell_type": "markdown",
   "metadata": {
    "id": "20x5RE1V1RC_",
    "pycharm": {
     "name": "#%% md\n"
    }
   },
   "source": [
    "1.1.2 Средствами `torch` рассчитать произведения четных чисел от 2 до 20 на ближайшие к ним бОльшие нечетные числа."
   ]
  },
  {
   "cell_type": "code",
   "execution_count": 14,
   "outputs": [
    {
     "data": {
      "text/plain": "tensor([  6,  20,  42,  72, 110, 156, 210, 272, 342, 420])"
     },
     "execution_count": 14,
     "metadata": {},
     "output_type": "execute_result"
    }
   ],
   "source": [
    "even = torch.arange(2, 21, step=2)\n",
    "even * (even + 1)"
   ],
   "metadata": {
    "collapsed": false,
    "pycharm": {
     "name": "#%%\n"
    }
   }
  },
  {
   "cell_type": "markdown",
   "metadata": {
    "id": "N_-t5GRM1RC_",
    "pycharm": {
     "name": "#%% md\n"
    }
   },
   "source": [
    "1.1.3 Создать тензор размера 11x7 вида: [[1, 2, 3, ..., 7], [11, 12, 13, ..., 17], [21, 22, 23, ..., 27], ..., [101, 102, 103, ..., 107]]"
   ]
  },
  {
   "cell_type": "code",
   "execution_count": 15,
   "outputs": [
    {
     "data": {
      "text/plain": "tensor([[  1,   2,   3,   4,   5,   6,   7],\n        [ 11,  12,  13,  14,  15,  16,  17],\n        [ 21,  22,  23,  24,  25,  26,  27],\n        [ 31,  32,  33,  34,  35,  36,  37],\n        [ 41,  42,  43,  44,  45,  46,  47],\n        [ 51,  52,  53,  54,  55,  56,  57],\n        [ 61,  62,  63,  64,  65,  66,  67],\n        [ 71,  72,  73,  74,  75,  76,  77],\n        [ 81,  82,  83,  84,  85,  86,  87],\n        [ 91,  92,  93,  94,  95,  96,  97],\n        [101, 102, 103, 104, 105, 106, 107]])"
     },
     "execution_count": 15,
     "metadata": {},
     "output_type": "execute_result"
    }
   ],
   "source": [
    "# как решить без broadcasting?\n",
    "\n",
    "torch.arange(1, 8) + torch.arange(0, 101, step=10).reshape(-1, 1)"
   ],
   "metadata": {
    "collapsed": false,
    "pycharm": {
     "name": "#%%\n"
    }
   }
  },
  {
   "cell_type": "markdown",
   "metadata": {
    "id": "oxVeUiHR1RC_",
    "pycharm": {
     "name": "#%% md\n"
    }
   },
   "source": [
    "1.1.4 Написать функцию, которая для целых значений `n` и `m` будет возвращать тензор размера `n`x`m`, заполненный текстурой размера 2x2, состоящей из следующих значений:\n",
    "\n",
    "```\n",
    "0 1\n",
    "\n",
    "2 3\n",
    "\n",
    "```\n",
    "\n",
    "Пример для n = 4 и m = 5:\n",
    "\n",
    "```\n",
    "0 1 0 1 0\n",
    "\n",
    "2 3 2 3 2\n",
    "\n",
    "0 1 0 1 0\n",
    "\n",
    "2 3 2 3 2\n",
    "```"
   ]
  },
  {
   "cell_type": "code",
   "execution_count": 16,
   "outputs": [
    {
     "data": {
      "text/plain": "tensor([[0, 1, 0, 1, 0],\n        [2, 3, 2, 3, 2],\n        [0, 1, 0, 1, 0],\n        [2, 3, 2, 3, 2]])"
     },
     "execution_count": 16,
     "metadata": {},
     "output_type": "execute_result"
    }
   ],
   "source": [
    "def textural(n: int, m: int) -> torch.Tensor:\n",
    "    pat = torch.tensor([\n",
    "        [0, 1],\n",
    "        [2, 3]\n",
    "    ])\n",
    "    return pat.repeat(((n + 1) // 2, ((m + 1) // 2)))[:n, :m]\n",
    "\n",
    "\n",
    "textural(4, 5)"
   ],
   "metadata": {
    "collapsed": false,
    "pycharm": {
     "name": "#%%\n"
    }
   }
  },
  {
   "cell_type": "markdown",
   "metadata": {
    "id": "WH9hxJse1RDA",
    "pycharm": {
     "name": "#%% md\n"
    }
   },
   "source": [
    "1.1.5 Сгенерировать двумерный тензор `t` размерности (4, 7), состоящий из случайных действительных чисел, равномерно распределенных в дипазоне от 0 до 20. Нормализовать значения массива с помощью преобразования вида $ax+b$ так, что после нормализации максимальный элемент масива будет равен 1.0, минимальный 0.0"
   ]
  },
  {
   "cell_type": "code",
   "execution_count": 17,
   "outputs": [
    {
     "data": {
      "text/plain": "tensor([[ 9.9251, 15.3644,  1.7695,  2.6406,  6.1485, 12.6816,  9.8019],\n        [17.9289,  9.1126, 12.6461,  6.9779,  8.0343,  0.4465,  3.3772],\n        [ 5.8778, 10.3704, 13.9534, 16.0002,  3.2206,  5.6454, 13.6322],\n        [18.3039,  7.9420, 17.4831,  8.3882, 11.0581, 19.0548,  0.7233]])"
     },
     "execution_count": 17,
     "metadata": {},
     "output_type": "execute_result"
    }
   ],
   "source": [
    "t: torch.Tensor = torch.empty(4, 7).uniform_(0, 20)  # noqa\n",
    "t"
   ],
   "metadata": {
    "collapsed": false,
    "pycharm": {
     "name": "#%%\n"
    }
   }
  },
  {
   "cell_type": "code",
   "execution_count": 18,
   "outputs": [
    {
     "data": {
      "text/plain": "tensor([[0.5094, 0.8017, 0.0711, 0.1179, 0.3064, 0.6575, 0.5028],\n        [0.9395, 0.4657, 0.6556, 0.3510, 0.4078, 0.0000, 0.1575],\n        [0.2919, 0.5333, 0.7259, 0.8359, 0.1491, 0.2794, 0.7086],\n        [0.9596, 0.4028, 0.9155, 0.4268, 0.5703, 1.0000, 0.0149]])"
     },
     "execution_count": 18,
     "metadata": {},
     "output_type": "execute_result"
    }
   ],
   "source": [
    "min_, max_ = t.min(), t.max()\n",
    "(t - min_) / (max_ - min_)"
   ],
   "metadata": {
    "collapsed": false,
    "pycharm": {
     "name": "#%%\n"
    }
   }
  },
  {
   "cell_type": "markdown",
   "metadata": {
    "id": "vPqIeewXB-mM",
    "pycharm": {
     "name": "#%% md\n"
    }
   },
   "source": [
    "[Random Sampling](https://pytorch.org/docs/stable/torch.html#random-sampling)\n",
    "\n",
    "[Distributions](https://pytorch.org/docs/stable/distributions.html)"
   ]
  },
  {
   "cell_type": "markdown",
   "metadata": {
    "id": "K_R6cwq11RDE",
    "pycharm": {
     "name": "#%% md\n"
    }
   },
   "source": [
    "1.1.6 Задать два двумерных тензора `ar1` и `ar2` размерности (4, 7), состоящих из случайных целых чисел в пределах от 0 до 10. Построить двумерный тензор размерности (4, 7), каждый элемент которого представляет собой максимум из двух значений, находящихся на аналогичной позиции в массивах `ar1`, `ar2`.\n",
    "\n",
    "[Reductions ops](https://pytorch.org/docs/stable/torch.html#reduction-ops)"
   ]
  },
  {
   "cell_type": "code",
   "execution_count": 19,
   "outputs": [
    {
     "data": {
      "text/plain": "(tensor([[ 9,  9,  0,  4,  8,  3,  9],\n         [ 0,  3,  8,  1,  3,  8, 10],\n         [ 9,  7,  9,  7, 10,  4,  8],\n         [10,  3,  7,  8, 10,  7,  9]]),\n tensor([[ 3,  5, 10,  8,  5, 10,  3],\n         [ 3, 10,  3, 10,  4,  2,  8],\n         [ 5, 10,  3,  6,  9,  2, 10],\n         [ 4,  4, 10,  7,  7,  1,  2]]))"
     },
     "execution_count": 19,
     "metadata": {},
     "output_type": "execute_result"
    }
   ],
   "source": [
    "ar1 = torch.randint(0, 11, (4, 7))\n",
    "ar2 = torch.randint(0, 11, (4, 7))\n",
    "\n",
    "ar1, ar2"
   ],
   "metadata": {
    "collapsed": false,
    "pycharm": {
     "name": "#%%\n"
    }
   }
  },
  {
   "cell_type": "code",
   "execution_count": 20,
   "outputs": [
    {
     "data": {
      "text/plain": "tensor([[ 9,  9, 10,  8,  8, 10,  9],\n        [ 3, 10,  8, 10,  4,  8, 10],\n        [ 9, 10,  9,  7, 10,  4, 10],\n        [10,  4, 10,  8, 10,  7,  9]])"
     },
     "execution_count": 20,
     "metadata": {},
     "output_type": "execute_result"
    }
   ],
   "source": [
    "torch.max(ar1, ar2)"
   ],
   "metadata": {
    "collapsed": false,
    "pycharm": {
     "name": "#%%\n"
    }
   }
  },
  {
   "cell_type": "markdown",
   "metadata": {
    "id": "x6zmMhyKBPWQ",
    "pycharm": {
     "name": "#%% md\n"
    }
   },
   "source": [
    "1.1.7 Создать тензор из 20 случайных целых чисел от 0 до 100. Получить второе сверху значение в тензоре. Определить индекс этого значения."
   ]
  },
  {
   "cell_type": "code",
   "execution_count": 21,
   "outputs": [
    {
     "name": "stdout",
     "output_type": "stream",
     "text": [
      "tensor([ 1, 23, 56, 57, 46, 72, 43, 51, 24, 42, 18, 17, 36, 84, 85, 65, 13, 27,\n",
      "        78, 74])\n",
      "v=tensor(84), i=tensor([13])\n"
     ]
    }
   ],
   "source": [
    "# второй максимум строго меньше первого\n",
    "t = torch.randint(low=0, high=101, size=(20,))\n",
    "v = t.unique(sorted=True)[-2]\n",
    "i = (t == v).nonzero(as_tuple=True)[-1]\n",
    "print(t)\n",
    "print(f'{v=}, {i=}')"
   ],
   "metadata": {
    "collapsed": false,
    "pycharm": {
     "name": "#%%\n"
    }
   }
  },
  {
   "cell_type": "markdown",
   "metadata": {
    "id": "Xshsy8fD1RDE",
    "pycharm": {
     "name": "#%% md\n"
    }
   },
   "source": [
    "## 1.2 Распространение"
   ]
  },
  {
   "cell_type": "markdown",
   "metadata": {
    "id": "jlP22HAJCo28",
    "pycharm": {
     "name": "#%% md\n"
    }
   },
   "source": [
    "[Numpy broadcasting](https://numpy.org/devdocs/user/theory.broadcasting.html)\n",
    "\n",
    "[Torch broadcasting](https://pytorch.org/docs/stable/notes/broadcasting.html)"
   ]
  },
  {
   "cell_type": "markdown",
   "metadata": {
    "id": "uRD6-8Gd1RDF",
    "pycharm": {
     "name": "#%% md\n"
    }
   },
   "source": [
    "1.2.1 Создать тензор 11x7 вида: `[[1, 2, 3, ..., 7], [11, 12, 13, ..., 17], [21, 22, 23, ..., 27], ..., [101, 102, 103, ..., 107]]`. При решении задачи применить технику распространения."
   ]
  },
  {
   "cell_type": "code",
   "execution_count": 22,
   "outputs": [
    {
     "data": {
      "text/plain": "tensor([[  1,   2,   3,   4,   5,   6,   7],\n        [ 11,  12,  13,  14,  15,  16,  17],\n        [ 21,  22,  23,  24,  25,  26,  27],\n        [ 31,  32,  33,  34,  35,  36,  37],\n        [ 41,  42,  43,  44,  45,  46,  47],\n        [ 51,  52,  53,  54,  55,  56,  57],\n        [ 61,  62,  63,  64,  65,  66,  67],\n        [ 71,  72,  73,  74,  75,  76,  77],\n        [ 81,  82,  83,  84,  85,  86,  87],\n        [ 91,  92,  93,  94,  95,  96,  97],\n        [101, 102, 103, 104, 105, 106, 107]])"
     },
     "execution_count": 22,
     "metadata": {},
     "output_type": "execute_result"
    }
   ],
   "source": [
    "torch.arange(1, 8) + torch.arange(0, 101, step=10).reshape(-1, 1)"
   ],
   "metadata": {
    "collapsed": false,
    "pycharm": {
     "name": "#%%\n"
    }
   }
  },
  {
   "cell_type": "markdown",
   "metadata": {
    "id": "iSY9Iday1RDF",
    "pycharm": {
     "name": "#%% md\n"
    }
   },
   "source": [
    "1.2.2 Вычесть одномерный тензор `b_1d` из двухмерного тензора `a_2d`, так, чтобы каждый элемент одномерного тензора вычитался из всех элементов соответствующих строк двумерного тензора.\n",
    "\n",
    "_Пример:_\n",
    "\n",
    "Для входа:\n",
    "```python\n",
    "a_2d = np.array([[3,3,3],[4,4,4],[5,5,5]])\n",
    "b_1d = np.array([1,2,3])\n",
    "```\n",
    "\n",
    "Ожидается резульат:\n",
    "\n",
    "```python\n",
    "[[2 2 2]\n",
    " [2 2 2]\n",
    " [2 2 2]]\n",
    "```"
   ]
  },
  {
   "cell_type": "code",
   "execution_count": 23,
   "outputs": [
    {
     "data": {
      "text/plain": "tensor([[2, 2, 2],\n        [2, 2, 2],\n        [2, 2, 2]])"
     },
     "execution_count": 23,
     "metadata": {},
     "output_type": "execute_result"
    }
   ],
   "source": [
    "a_2d = torch.tensor([\n",
    "    [3, 3, 3],\n",
    "    [4, 4, 4],\n",
    "    [5, 5, 5],\n",
    "])\n",
    "b_1d = torch.tensor([1, 2, 3])\n",
    "\n",
    "a_2d - b_1d.reshape(-1, 1)"
   ],
   "metadata": {
    "collapsed": false,
    "pycharm": {
     "name": "#%%\n"
    }
   }
  },
  {
   "cell_type": "markdown",
   "metadata": {
    "id": "dFTvPsY91RDF",
    "pycharm": {
     "name": "#%% md\n"
    }
   },
   "source": [
    "## 1.3 Индексы, маскирование и прихотливое индексирование\n",
    "\n",
    "[Документация по функциям для работы с индексами](https://pytorch.org/docs/stable/torch.html#indexing-slicing-joining-mutating-ops)"
   ]
  },
  {
   "cell_type": "markdown",
   "metadata": {
    "id": "McYtDYhH1RDG",
    "pycharm": {
     "name": "#%% md\n"
    }
   },
   "source": [
    "1.3.1 Получить индексы, для которых элементы тензоров `a` и `b` совпадают.\n",
    "\n",
    "_Пример:_\n",
    "\n",
    "Для входа:\n",
    "```python\n",
    "a = np.array([1,2,3,2,3,4,3,4,5,6])\n",
    "b = np.array([7,2,10,2,7,4,9,4,9,8])\n",
    "```\n",
    "\n",
    "Ожидается резульат:\n",
    "\n",
    "```python\n",
    "array([1, 3, 5, 7])\n",
    "```"
   ]
  },
  {
   "cell_type": "code",
   "execution_count": 24,
   "outputs": [
    {
     "data": {
      "text/plain": "tensor([1, 3, 5, 7])"
     },
     "execution_count": 24,
     "metadata": {},
     "output_type": "execute_result"
    }
   ],
   "source": [
    "a = torch.tensor([1, 2, 3, 2, 3, 4, 3, 4, 5, 6])\n",
    "b = torch.tensor([7, 2, 10, 2, 7, 4, 9, 4, 9, 8])\n",
    "\n",
    "(a == b).nonzero(as_tuple=True)[0]  # noqa"
   ],
   "metadata": {
    "collapsed": false,
    "pycharm": {
     "name": "#%%\n"
    }
   }
  },
  {
   "cell_type": "markdown",
   "metadata": {
    "id": "MnBq3nfy1RDG",
    "pycharm": {
     "name": "#%% md\n"
    }
   },
   "source": [
    "1.3.2 Инвертировать порядок элементов в двумерном тензоре `torch.arange(9).view(3,3)`.\n",
    "\n",
    "Ожидаемый результат:\n",
    "\n",
    "\n",
    "```python\n",
    "array([[8, 7, 6],\n",
    "       [5, 4, 3],\n",
    "       [2, 1, 0]])\n",
    "```"
   ]
  },
  {
   "cell_type": "code",
   "execution_count": 25,
   "outputs": [
    {
     "data": {
      "text/plain": "tensor([[8, 7, 6],\n        [5, 4, 3],\n        [2, 1, 0]])"
     },
     "execution_count": 25,
     "metadata": {},
     "output_type": "execute_result"
    }
   ],
   "source": [
    "torch.arange(9).view(3, 3).flip([0, 1])"
   ],
   "metadata": {
    "collapsed": false,
    "pycharm": {
     "name": "#%%\n"
    }
   }
  },
  {
   "cell_type": "markdown",
   "metadata": {
    "id": "tANsLnOC1RDH",
    "pycharm": {
     "name": "#%% md\n"
    }
   },
   "source": [
    "1.3.3 Из входного тензора a получить только элементы, находящиеся в диапазоне от 5 до 10.\n",
    "\n",
    "_Пример:_\n",
    "\n",
    "Для входа:\n",
    "```python\n",
    "a = np.array([2, 6, 1, 9, 10, 3, 27])\n",
    "```\n",
    "\n",
    "Ожидается резульат:\n",
    "\n",
    "```python\n",
    "array([6, 9, 10])\n",
    "```"
   ]
  },
  {
   "cell_type": "code",
   "execution_count": 26,
   "outputs": [
    {
     "data": {
      "text/plain": "tensor([ 6,  9, 10])"
     },
     "execution_count": 26,
     "metadata": {},
     "output_type": "execute_result"
    }
   ],
   "source": [
    "a = torch.tensor([2, 6, 1, 9, 10, 3, 27])\n",
    "a[(a >= 5) & (a <= 10)]"
   ],
   "metadata": {
    "collapsed": false,
    "pycharm": {
     "name": "#%%\n"
    }
   }
  },
  {
   "cell_type": "markdown",
   "metadata": {
    "id": "3vlK0gV21RDH",
    "pycharm": {
     "name": "#%% md\n"
    }
   },
   "source": [
    "1.3.4 Поменять местами столбец 1 и 2 тензора `np.arange(9).reshape(3,3)`"
   ]
  },
  {
   "cell_type": "code",
   "execution_count": 27,
   "outputs": [
    {
     "data": {
      "text/plain": "tensor([[1, 0, 2],\n        [4, 3, 5],\n        [7, 6, 8]])"
     },
     "execution_count": 27,
     "metadata": {},
     "output_type": "execute_result"
    }
   ],
   "source": [
    "t = torch.arange(9).reshape(3, 3)\n",
    "t[:, [0, 1]] = t[:, [1, 0]]\n",
    "t"
   ],
   "metadata": {
    "collapsed": false,
    "pycharm": {
     "name": "#%%\n"
    }
   }
  },
  {
   "cell_type": "markdown",
   "metadata": {
    "id": "cheFtWhU1RDH",
    "pycharm": {
     "name": "#%% md\n"
    }
   },
   "source": [
    "1.3.5 Создать тензор 8 на 10 из случайных целых чисел из диапазона от 0 до 10 и найти в ней строку (ее индекс и вывести саму строку), в которой сумма значений минимальна."
   ]
  },
  {
   "cell_type": "code",
   "execution_count": 28,
   "outputs": [
    {
     "data": {
      "text/plain": "tensor([[ 8,  0,  3,  5,  9,  1,  3,  4,  3,  1],\n        [ 0,  8,  5,  3,  2,  3,  0,  8,  7,  2],\n        [ 2,  0, 10,  2,  3,  1,  8,  4, 10, 10],\n        [ 0,  5,  4,  2,  9,  1,  6,  7,  3,  3],\n        [ 8,  5,  6,  5,  8,  1,  9,  9,  0,  2],\n        [ 7,  1,  5,  4,  8,  0,  0, 10,  2,  2],\n        [ 7,  9,  9,  3,  5,  4,  1,  1,  0,  9],\n        [ 3,  0,  7,  1,  7,  0,  4, 10,  9,  3]])"
     },
     "execution_count": 28,
     "metadata": {},
     "output_type": "execute_result"
    }
   ],
   "source": [
    "t = torch.randint(0, 11, size=(8, 10))\n",
    "t"
   ],
   "metadata": {
    "collapsed": false,
    "pycharm": {
     "name": "#%%\n"
    }
   }
  },
  {
   "cell_type": "code",
   "execution_count": 29,
   "outputs": [
    {
     "name": "stdout",
     "output_type": "stream",
     "text": [
      "row=tensor([8, 0, 3, 5, 9, 1, 3, 4, 3, 1]), i=tensor(0)\n"
     ]
    }
   ],
   "source": [
    "i = t.sum(1).argmin()\n",
    "row = t[i]\n",
    "print(f'{row=}, {i=}')"
   ],
   "metadata": {
    "collapsed": false,
    "pycharm": {
     "name": "#%%\n"
    }
   }
  },
  {
   "cell_type": "markdown",
   "metadata": {
    "id": "grOCNU4XFE2B",
    "pycharm": {
     "name": "#%% md\n"
    }
   },
   "source": [
    "1.3.6 Cоздать тензор из 20 случайных целых чисел от 0 до 100. Обрезать значения тензора (заменить значения, выходящие за диапазон, на крайние значения) снизу по значению 30, сверху по значению 70."
   ]
  },
  {
   "cell_type": "code",
   "execution_count": 30,
   "outputs": [
    {
     "data": {
      "text/plain": "tensor([ 79,  50,  84,  14,  68, 100,   7,  18,  39,  78,  10,  86,  11, 100,\n         70,  32,   8,  21,  61,  81])"
     },
     "execution_count": 30,
     "metadata": {},
     "output_type": "execute_result"
    }
   ],
   "source": [
    "t = torch.randint(0, 101, size=(20,))\n",
    "t"
   ],
   "metadata": {
    "collapsed": false,
    "pycharm": {
     "name": "#%%\n"
    }
   }
  },
  {
   "cell_type": "code",
   "execution_count": 31,
   "outputs": [
    {
     "data": {
      "text/plain": "tensor([70, 50, 70, 30, 68, 70, 30, 30, 39, 70, 30, 70, 30, 70, 70, 32, 30, 30,\n        61, 70])"
     },
     "execution_count": 31,
     "metadata": {},
     "output_type": "execute_result"
    }
   ],
   "source": [
    "t.clamp(min=30, max=70)"
   ],
   "metadata": {
    "collapsed": false,
    "pycharm": {
     "name": "#%%\n"
    }
   }
  },
  {
   "cell_type": "markdown",
   "metadata": {
    "id": "HNfQjY8P1RDI",
    "pycharm": {
     "name": "#%% md\n"
    }
   },
   "source": [
    "1.3.7 Создать два тензора размера 30 на 3 из случайных целых чисел из диапазона от 0 до 10 и найти все значения первого тензора, которые больше соответсвующих (по расположению) значений второго тензора. Подсчитать сумму этих значений."
   ]
  },
  {
   "cell_type": "code",
   "execution_count": 32,
   "outputs": [
    {
     "data": {
      "text/plain": "(tensor([[ 3,  7,  3],\n         [ 9,  6,  6],\n         [ 8,  6,  1],\n         [ 0,  8,  4],\n         [ 5,  4,  8],\n         [ 8,  1,  8],\n         [ 6, 10,  8],\n         [ 5,  5,  8],\n         [ 3, 10,  2],\n         [ 8,  2,  4],\n         [ 4,  3,  6],\n         [ 6,  9,  1],\n         [ 6,  6,  7],\n         [ 4,  5,  4],\n         [ 9,  0,  4],\n         [ 7,  0,  5],\n         [ 4,  2,  2],\n         [ 6,  1,  3],\n         [10,  1,  2],\n         [ 5,  6,  3],\n         [ 1,  7, 10],\n         [ 3, 10,  9],\n         [ 4,  5,  2],\n         [ 8,  5,  1],\n         [ 9,  6,  1],\n         [ 4,  0,  0],\n         [ 8,  3,  1],\n         [ 1,  7, 10],\n         [ 8,  3,  0],\n         [ 9,  5,  8]]),\n tensor([[ 0,  9,  0],\n         [10,  9,  3],\n         [ 6,  2,  4],\n         [ 8,  6,  9],\n         [ 0,  8,  9],\n         [ 0,  8,  2],\n         [ 5, 10,  5],\n         [ 2,  9,  0],\n         [ 1,  9,  9],\n         [ 4,  7,  9],\n         [ 4,  2,  5],\n         [ 9,  3,  9],\n         [10,  1,  6],\n         [ 2,  2,  2],\n         [ 7,  6,  5],\n         [ 7, 10,  2],\n         [ 1,  8,  9],\n         [ 4,  7,  0],\n         [10,  4,  5],\n         [ 2, 10,  3],\n         [ 0,  6,  9],\n         [ 1, 10,  9],\n         [ 4,  7,  1],\n         [ 7,  8,  7],\n         [ 7,  1, 10],\n         [ 7,  6,  7],\n         [10,  2,  4],\n         [ 9,  2,  6],\n         [ 0,  7, 10],\n         [ 5,  8,  4]]))"
     },
     "execution_count": 32,
     "metadata": {},
     "output_type": "execute_result"
    }
   ],
   "source": [
    "a = torch.randint(0, 11, size=(30, 3))\n",
    "b = torch.randint(0, 11, size=(30, 3))\n",
    "a, b"
   ],
   "metadata": {
    "collapsed": false,
    "pycharm": {
     "name": "#%%\n"
    }
   }
  },
  {
   "cell_type": "code",
   "execution_count": 33,
   "outputs": [
    {
     "data": {
      "text/plain": "tensor(270)"
     },
     "execution_count": 33,
     "metadata": {},
     "output_type": "execute_result"
    }
   ],
   "source": [
    "a[a > b].sum()"
   ],
   "metadata": {
    "collapsed": false,
    "pycharm": {
     "name": "#%%\n"
    }
   }
  },
  {
   "cell_type": "markdown",
   "metadata": {
    "id": "doBCxYJA1RDI",
    "pycharm": {
     "name": "#%% md\n"
    }
   },
   "source": [
    "1.3.8 При помощи прихотливого индексирования для двухмерного массива размерности (20, 20), состоящего из случайных целых чисел в пределах от 0 до 10 получить массив элементов находящихся на диагонали, проходящей над основной диагональю."
   ]
  },
  {
   "cell_type": "code",
   "execution_count": 34,
   "outputs": [
    {
     "data": {
      "text/plain": "tensor([[ 8,  7,  0,  1,  4,  9,  4,  2,  6, 10,  7,  3,  8,  5,  9,  4,  4,  2,\n         10,  5],\n        [ 9,  8,  3,  5,  5,  3,  1,  7,  6,  2,  4,  1,  8,  6,  2,  2,  7,  1,\n          3,  8],\n        [ 2,  0,  6,  1,  3,  1,  1,  2,  4,  5,  3,  4,  6,  2,  0,  2, 10,  7,\n          4,  5],\n        [ 0,  8,  8,  1, 10,  2,  1,  9,  1,  9,  7,  3,  3, 10,  3,  9,  8,  9,\n          0,  2],\n        [ 6,  6,  9,  0,  5,  5,  7, 10,  5,  9,  8,  5,  8,  7,  3,  3,  9,  1,\n          6,  0],\n        [ 5, 10,  1,  2,  2,  2,  1,  5,  7,  1,  6,  8,  7,  8,  8, 10,  6,  4,\n          2,  4],\n        [ 2,  7,  4,  8,  3,  5,  9,  1,  8,  5,  5,  4,  5,  5,  8,  7,  8,  0,\n          4,  5],\n        [ 4,  4,  9, 10,  3, 10,  4,  2,  2,  1, 10,  9,  1,  3,  5,  9,  6,  1,\n          1,  9],\n        [ 1,  5,  0,  4,  0,  5,  7,  3,  1,  1,  9,  0,  8,  9,  6,  5,  7,  9,\n          6,  2],\n        [10,  5,  6,  9,  7,  8,  8,  3, 10,  8,  4,  0,  6,  2,  6,  7,  9,  1,\n          3,  6],\n        [ 3,  7,  5,  5,  7,  0,  8,  6,  5, 10,  4, 10,  8,  6,  7,  0,  7,  4,\n          6,  8],\n        [ 1,  3,  2,  5,  3, 10,  8, 10,  7,  8,  5,  9, 10,  0,  9,  1,  0,  7,\n          3,  6],\n        [ 9,  0,  2,  0,  4,  2,  0,  8,  1,  2,  1, 10,  0,  5,  0,  8,  0, 10,\n          4,  5],\n        [ 1,  5,  9,  7,  0,  5,  5,  8,  2,  5,  3,  6,  2,  9,  6,  2,  3,  5,\n          0, 10],\n        [ 5,  9,  0,  7,  1,  7,  4,  0,  7,  7,  1,  2,  1,  7,  7,  1, 10,  4,\n          6,  2],\n        [10, 10,  7,  0,  2,  7,  6,  6,  2,  1,  1,  6,  6,  7,  8,  2,  8, 10,\n          9,  2],\n        [ 3,  5,  3,  4,  8,  7,  8, 10,  6,  3,  3,  2,  2,  0, 10, 10,  4,  8,\n          3,  5],\n        [ 7,  5,  1,  2,  4,  2, 10,  8,  2,  8,  4,  1,  5,  4,  1,  4,  9,  0,\n          6,  1],\n        [ 4,  5,  7,  1,  3, 10,  7,  8,  6,  2,  3,  8,  6,  3,  8, 10,  9,  0,\n          6, 10],\n        [ 4,  2,  7,  9,  5,  1,  2,  1,  7,  3,  1,  8,  6,  0,  9,  6,  7, 10,\n          5,  5]])"
     },
     "execution_count": 34,
     "metadata": {},
     "output_type": "execute_result"
    }
   ],
   "source": [
    "t = torch.randint(0, 11, size=(20, 20))\n",
    "t"
   ],
   "metadata": {
    "collapsed": false,
    "pycharm": {
     "name": "#%%\n"
    }
   }
  },
  {
   "cell_type": "code",
   "execution_count": 35,
   "outputs": [
    {
     "data": {
      "text/plain": "tensor([ 7,  3,  1, 10,  5,  1,  1,  2,  1,  4, 10, 10,  5,  6,  1,  8,  8,  6,\n        10])"
     },
     "execution_count": 35,
     "metadata": {},
     "output_type": "execute_result"
    }
   ],
   "source": [
    "t[torch.arange(0, t.shape[0] - 1), torch.arange(1, t.shape[0])]"
   ],
   "metadata": {
    "collapsed": false,
    "pycharm": {
     "name": "#%%\n"
    }
   }
  },
  {
   "cell_type": "markdown",
   "metadata": {
    "id": "6M1lkfLp1RDJ",
    "pycharm": {
     "name": "#%% md\n"
    }
   },
   "source": [
    "1.3.9 Задать два двухмерных тензора `ar1` и `ar2` размерности (5, 10), состоящих из случайных целых чисел в пределах от 0 до 10. Удвоить все значения `ar1`, которые совпадают со значениями `ar2`, расположенными на аналогичных позициях."
   ]
  },
  {
   "cell_type": "code",
   "execution_count": 36,
   "outputs": [
    {
     "data": {
      "text/plain": "(tensor([[ 2,  0,  5,  5,  8, 10,  5,  3,  1,  5],\n         [ 0,  4,  4,  4,  4,  1,  6,  4,  6,  0],\n         [ 6,  2,  1,  3, 10,  7,  9,  5, 10,  8],\n         [ 4,  2, 10,  6,  3,  9,  5,  4,  8,  1],\n         [ 1,  1,  1, 10,  9,  1,  7,  9,  5,  3]]),\n tensor([[ 3,  1,  8,  7,  5,  3,  9,  1,  9,  0],\n         [ 3,  1, 10,  6,  5, 10,  1,  8,  3, 10],\n         [ 0, 10,  0,  7,  0,  9,  1,  0,  3,  3],\n         [ 9,  2,  1,  9,  4,  7,  9,  3,  1,  6],\n         [ 2,  4,  6,  3,  3,  0,  6,  9,  8, 10]]))"
     },
     "execution_count": 36,
     "metadata": {},
     "output_type": "execute_result"
    }
   ],
   "source": [
    "ar1 = torch.randint(0, 11, size=(5, 10))\n",
    "ar2 = torch.randint(0, 11, size=(5, 10))\n",
    "\n",
    "ar1, ar2"
   ],
   "metadata": {
    "collapsed": false,
    "pycharm": {
     "name": "#%%\n"
    }
   }
  },
  {
   "cell_type": "code",
   "execution_count": 37,
   "outputs": [
    {
     "data": {
      "text/plain": "tensor([[ 2,  0,  5,  5,  8, 10,  5,  3,  1,  5],\n        [ 0,  4,  4,  4,  4,  1,  6,  4,  6,  0],\n        [ 6,  2,  1,  3, 10,  7,  9,  5, 10,  8],\n        [ 4,  4, 10,  6,  3,  9,  5,  4,  8,  1],\n        [ 1,  1,  1, 10,  9,  1,  7, 18,  5,  3]])"
     },
     "execution_count": 37,
     "metadata": {},
     "output_type": "execute_result"
    }
   ],
   "source": [
    "ar1[ar1 == ar2] *= 2\n",
    "ar1"
   ],
   "metadata": {
    "collapsed": false,
    "pycharm": {
     "name": "#%%\n"
    }
   }
  },
  {
   "cell_type": "markdown",
   "metadata": {
    "id": "Qe2oVr4p1RDJ",
    "pycharm": {
     "name": "#%% md\n"
    }
   },
   "source": [
    "1.3.10 Заданы три двухмерных тензора `ar1`, `ar2` и `ar3` размерности (4, 7), состоящие из случайных целых чисел в пределах от 0 до 10. Обнулить все элементы `ar1`, которые больше соответствующих (находящихся в соответствующих позициях) элементов `ar2` и меньше соответствующих элементов `ar3`."
   ]
  },
  {
   "cell_type": "code",
   "execution_count": 38,
   "outputs": [
    {
     "data": {
      "text/plain": "(tensor([[ 9,  5, 10,  4,  3,  2,  5],\n         [ 7,  1,  1,  6,  3,  3, 10],\n         [ 1,  6,  3,  4,  1,  7,  0],\n         [10,  1,  5,  2,  2,  9,  8]]),\n tensor([[ 9,  7,  5,  2,  1,  8,  0],\n         [ 6,  1,  7,  0,  9,  2,  2],\n         [ 6,  5,  5,  9, 10,  2,  5],\n         [ 8,  3,  7,  8, 10,  9,  4]]),\n tensor([[ 2,  3,  8,  8,  0,  5,  1],\n         [ 4,  2,  8,  7,  8,  8,  9],\n         [ 2,  6,  3,  0,  0,  0, 10],\n         [ 6,  9,  0,  3,  8,  3, 10]]))"
     },
     "execution_count": 38,
     "metadata": {},
     "output_type": "execute_result"
    }
   ],
   "source": [
    "ar1 = torch.randint(0, 11, size=(4, 7))\n",
    "ar2 = torch.randint(0, 11, size=(4, 7))\n",
    "ar3 = torch.randint(0, 11, size=(4, 7))\n",
    "\n",
    "ar1, ar2, ar3"
   ],
   "metadata": {
    "collapsed": false,
    "pycharm": {
     "name": "#%%\n"
    }
   }
  },
  {
   "cell_type": "code",
   "execution_count": 39,
   "outputs": [
    {
     "data": {
      "text/plain": "tensor([[ 9,  5, 10,  0,  3,  2,  5],\n        [ 7,  1,  1,  0,  3,  0, 10],\n        [ 1,  6,  3,  4,  1,  7,  0],\n        [10,  1,  5,  2,  2,  9,  0]])"
     },
     "execution_count": 39,
     "metadata": {},
     "output_type": "execute_result"
    }
   ],
   "source": [
    "ar1[(ar1 > ar2) & (ar1 < ar3)] = 0\n",
    "ar1"
   ],
   "metadata": {
    "collapsed": false,
    "pycharm": {
     "name": "#%%\n"
    }
   }
  },
  {
   "cell_type": "markdown",
   "metadata": {
    "id": "BTcRVeYh1RDK",
    "pycharm": {
     "name": "#%% md\n"
    }
   },
   "source": [
    "1.3.11 Задан двумерный тензор `ar1` размерности (20, 5), состоящий из случайных целых чисел в пределах от 0 до 20. Определить, в каких столбцах не менее 5 раз встречается значение, максимальное по своей строке."
   ]
  },
  {
   "cell_type": "code",
   "execution_count": 40,
   "outputs": [
    {
     "data": {
      "text/plain": "tensor([[11, 18,  3, 13,  6],\n        [18, 15,  2,  2,  2],\n        [16, 17, 13,  1, 19],\n        [11,  9, 12,  2,  4],\n        [ 4,  0,  6, 17, 12],\n        [ 5,  8,  4,  8, 16],\n        [ 5,  4, 10,  5,  9],\n        [ 0,  6, 19, 16,  2],\n        [ 9, 13, 19, 10, 11],\n        [ 1, 19, 12, 20, 19],\n        [16,  9, 16, 15,  4],\n        [ 5,  3,  3, 12,  2],\n        [17,  4,  5,  9,  0],\n        [ 2, 16, 19, 15, 12],\n        [ 2, 17,  2,  5, 10],\n        [13, 10,  0, 19, 12],\n        [ 9,  3, 14,  3,  0],\n        [16,  6, 13, 15,  5],\n        [ 3, 17,  2,  1, 15],\n        [16,  1,  4,  7,  3]])"
     },
     "execution_count": 40,
     "metadata": {},
     "output_type": "execute_result"
    }
   ],
   "source": [
    "ar1 = torch.randint(0, 21, size=(20, 5))\n",
    "ar1"
   ],
   "metadata": {
    "collapsed": false,
    "pycharm": {
     "name": "#%%\n"
    }
   }
  },
  {
   "cell_type": "code",
   "execution_count": 41,
   "outputs": [
    {
     "data": {
      "text/plain": "tensor([0, 2])"
     },
     "execution_count": 41,
     "metadata": {},
     "output_type": "execute_result"
    }
   ],
   "source": [
    "row_max_indices = ar1.argmax(1)\n",
    "rows, counts = row_max_indices.unique(return_counts=True)\n",
    "rows[counts >= 5]"
   ],
   "metadata": {
    "collapsed": false,
    "pycharm": {
     "name": "#%%\n"
    }
   }
  },
  {
   "cell_type": "markdown",
   "metadata": {
    "id": "ZeYlNWNE1RDK",
    "pycharm": {
     "name": "#%% md\n"
    }
   },
   "source": [
    "1.3.12 Задан двумерный тензор `ar1` размерности (4, 7), состоящий из случайных чисел в пределах от 0 до 1. Обнулить все значения в массиве, расположенные строго правее и ниже максимального элемента массива."
   ]
  },
  {
   "cell_type": "code",
   "execution_count": 42,
   "outputs": [
    {
     "data": {
      "text/plain": "(tensor([[0.6960, 0.8688, 0.6200, 0.4506, 0.7479, 0.1826, 0.9891],\n         [0.0028, 0.0210, 0.3818, 0.9084, 0.5501, 0.6920, 0.1335],\n         [0.6823, 0.4441, 0.7004, 0.8531, 0.7173, 0.4575, 0.4692],\n         [0.1864, 0.3191, 0.8249, 0.2995, 0.8105, 0.3017, 0.3836]]),\n (tensor(0.9891), tensor(6)))"
     },
     "execution_count": 42,
     "metadata": {},
     "output_type": "execute_result"
    }
   ],
   "source": [
    "ar1 = torch.rand(4, 7)\n",
    "ar1, (ar1.max(), ar1.argmax())"
   ],
   "metadata": {
    "collapsed": false,
    "pycharm": {
     "name": "#%%\n"
    }
   }
  },
  {
   "cell_type": "code",
   "execution_count": 43,
   "outputs": [
    {
     "data": {
      "text/plain": "tensor([[0.6960, 0.8688, 0.6200, 0.4506, 0.7479, 0.1826, 0.9891],\n        [0.0028, 0.0210, 0.3818, 0.9084, 0.5501, 0.6920, 0.1335],\n        [0.6823, 0.4441, 0.7004, 0.8531, 0.7173, 0.4575, 0.4692],\n        [0.1864, 0.3191, 0.8249, 0.2995, 0.8105, 0.3017, 0.3836]])"
     },
     "execution_count": 43,
     "metadata": {},
     "output_type": "execute_result"
    }
   ],
   "source": [
    "i = torch.div(ar1.argmax(), ar1.shape[1], rounding_mode='floor')\n",
    "j = ar1.argmax() % ar1.shape[1]\n",
    "ar1[i + 1:, j + 1:] = 0\n",
    "ar1"
   ],
   "metadata": {
    "collapsed": false,
    "pycharm": {
     "name": "#%%\n"
    }
   }
  },
  {
   "cell_type": "markdown",
   "metadata": {
    "id": "pYxX90B11RDL",
    "pycharm": {
     "name": "#%% md\n"
    }
   },
   "source": [
    "1.3.13 Построить \"one-hot encoding\" для одномерного тензора, содержащего целые числа (длина вектора заранее неизвестна, набор значений заранее неизвестен, при этом в итоговой матрице должны присутствовать столбцы для всех натуральных чисел вплоть до максимального встречающегося в исходном массиве).\n",
    "\n",
    "Пример:\n",
    "\n",
    "для тензора `torch.tensor([2, 3, 2, 2, 2, 1])`.\n",
    "\n",
    "Ожидается результат:\n",
    "\n",
    "```python\n",
    "tensor([[0., 1., 0.],\n",
    "        [0., 0., 1.],\n",
    "        [0., 1., 0.],\n",
    "        [0., 1., 0.],\n",
    "        [0., 1., 0.],\n",
    "        [1., 0., 0.]])\n",
    "```"
   ]
  },
  {
   "cell_type": "code",
   "execution_count": 44,
   "outputs": [
    {
     "data": {
      "text/plain": "tensor([[0., 1., 0.],\n        [0., 0., 1.],\n        [0., 1., 0.],\n        [0., 1., 0.],\n        [0., 1., 0.],\n        [1., 0., 0.]])"
     },
     "execution_count": 44,
     "metadata": {},
     "output_type": "execute_result"
    }
   ],
   "source": [
    "t = torch.tensor([2, 3, 2, 2, 2, 1])\n",
    "f.one_hot(t - 1).float()"
   ],
   "metadata": {
    "collapsed": false,
    "pycharm": {
     "name": "#%%\n"
    }
   }
  },
  {
   "cell_type": "markdown",
   "metadata": {
    "id": "GYU8DmNTDLN8",
    "pycharm": {
     "name": "#%% md\n"
    }
   },
   "source": [
    "1.3.14 Создать тензор `arr` из 20 случайных целых чисел от 0 до 100. Найти самое частое значение в тензоре. \n",
    "Найти индексы в тензоре, соответствующие самому частому значению. Проверить, как работет алгоритм при двух значениях, имеющих наибольшую встречаемость, предложить приемлемое поведение алгоритма для этого случая."
   ]
  },
  {
   "cell_type": "code",
   "execution_count": 45,
   "outputs": [
    {
     "data": {
      "text/plain": "tensor([57, 56, 43, 23, 12,  1, 81, 27, 64, 57, 81, 44, 87, 35, 74,  0, 61, 48,\n        41, 79])"
     },
     "execution_count": 45,
     "metadata": {},
     "output_type": "execute_result"
    }
   ],
   "source": [
    "arr = torch.randint(0, 101, size=(20,))\n",
    "arr"
   ],
   "metadata": {
    "collapsed": false,
    "pycharm": {
     "name": "#%%\n"
    }
   }
  },
  {
   "cell_type": "code",
   "execution_count": 46,
   "outputs": [
    {
     "data": {
      "text/plain": "(tensor(57), tensor([0, 9]))"
     },
     "execution_count": 46,
     "metadata": {},
     "output_type": "execute_result"
    }
   ],
   "source": [
    "mode, _ = torch.mode(arr)\n",
    "mode, (arr == mode).nonzero(as_tuple=True)[0]  # noqa"
   ],
   "metadata": {
    "collapsed": false,
    "pycharm": {
     "name": "#%%\n"
    }
   }
  },
  {
   "cell_type": "markdown",
   "metadata": {
    "id": "UenAEfEG1RDN",
    "pycharm": {
     "name": "#%% md\n"
    }
   },
   "source": [
    "## 1.4 Математические задачи"
   ]
  },
  {
   "cell_type": "markdown",
   "metadata": {
    "id": "6weDrqJR1RDN",
    "pycharm": {
     "name": "#%% md\n"
    }
   },
   "source": [
    "1.4.1 Приблизительно (с погрешностью порядка 1%) рассчитать на какой части интервала от 0 до 10 значение функции x * sin(x) больше 0.5."
   ]
  },
  {
   "cell_type": "code",
   "execution_count": 47,
   "outputs": [
    {
     "data": {
      "text/plain": "(tensor(0.8081), tensor(9.2929))"
     },
     "execution_count": 47,
     "metadata": {},
     "output_type": "execute_result"
    }
   ],
   "source": [
    "x = torch.linspace(0, 10, 100)\n",
    "y = x * torch.sin(x)\n",
    "\n",
    "interval = x[y > 0.5]\n",
    "interval[0], interval[-1]"
   ],
   "metadata": {
    "collapsed": false,
    "pycharm": {
     "name": "#%%\n"
    }
   }
  },
  {
   "cell_type": "code",
   "execution_count": 48,
   "outputs": [
    {
     "data": {
      "text/plain": "(tensor(0.7409), tensor(9.3714))"
     },
     "execution_count": 48,
     "metadata": {},
     "output_type": "execute_result"
    }
   ],
   "source": [
    "# расчет без погрешности (почти)\n",
    "x_ = torch.linspace(0, 10, 100_000)\n",
    "y_ = x_ * torch.sin(x_)\n",
    "\n",
    "interval_ = x_[y_ > 0.5]\n",
    "interval_[0], interval_[-1]"
   ],
   "metadata": {
    "collapsed": false,
    "pycharm": {
     "name": "#%%\n"
    }
   }
  },
  {
   "cell_type": "code",
   "execution_count": 49,
   "outputs": [
    {
     "data": {
      "text/plain": "(tensor(0.6717), tensor(0.7846))"
     },
     "execution_count": 49,
     "metadata": {},
     "output_type": "execute_result"
    }
   ],
   "source": [
    "# погрешность\n",
    "torch.abs(interval[0] - interval_[0]) * 100 / 10, torch.abs(interval[-1] - interval_[-1]) * 100 / 10"
   ],
   "metadata": {
    "collapsed": false,
    "pycharm": {
     "name": "#%%\n"
    }
   }
  },
  {
   "cell_type": "markdown",
   "metadata": {
    "id": "B9xAv8TR1RDN",
    "pycharm": {
     "name": "#%% md\n"
    }
   },
   "source": [
    "1.4.2 Найти все простые числа в пределах ста. (Для решения предлагается использовать Решето Эратосфена) Использовать не более 1 цикла (желательно)."
   ]
  },
  {
   "cell_type": "code",
   "execution_count": 50,
   "outputs": [
    {
     "data": {
      "text/plain": "tensor([ 2,  3,  5,  7, 11, 13, 17, 19, 23, 29, 31, 37, 41, 43, 47, 53, 59, 61,\n        67, 71, 73, 79, 83, 89, 97])"
     },
     "execution_count": 50,
     "metadata": {},
     "output_type": "execute_result"
    }
   ],
   "source": [
    "n = torch.tensor(100)\n",
    "nums = torch.arange(2, n + 1)\n",
    "\n",
    "p = 2\n",
    "sieve = torch.full(nums.size(), fill_value=True)\n",
    "while p < torch.sqrt(n) + 1:\n",
    "    sieve[2 * p - 2::p] = False\n",
    "    p = nums[sieve & (nums > p)][0]\n",
    "\n",
    "nums[sieve]"
   ],
   "metadata": {
    "collapsed": false,
    "pycharm": {
     "name": "#%%\n"
    }
   }
  },
  {
   "cell_type": "markdown",
   "metadata": {
    "id": "AHupFoTR1RDN",
    "pycharm": {
     "name": "#%% md\n"
    }
   },
   "source": [
    "1.4.3 Найти евклидово расстояние между двумя одномерными тензорами одинаковой размерности, не используя готовые решения из библиотек."
   ]
  },
  {
   "cell_type": "code",
   "execution_count": 51,
   "outputs": [],
   "source": [
    "def euclidean_dist(a, b):\n",
    "    return torch.sqrt(torch.sum((a - b) ** 2, dim=0))"
   ],
   "metadata": {
    "collapsed": false,
    "pycharm": {
     "name": "#%%\n"
    }
   }
  },
  {
   "cell_type": "code",
   "execution_count": 52,
   "outputs": [
    {
     "name": "stdout",
     "output_type": "stream",
     "text": [
      "euclidean_dist: 11.180339813232422\n",
      "torch.linalg.norm: 11.180339813232422\n",
      "scipy.distance.euclidean: 11.180339813232422\n"
     ]
    }
   ],
   "source": [
    "a = torch.tensor([1, 2, 3, 4, 5], dtype=torch.float)\n",
    "b = torch.tensor([6, 7, 8, 9, 10], dtype=torch.float)\n",
    "\n",
    "print(f'euclidean_dist: {euclidean_dist(a, b)}\\n'\n",
    "      f'torch.linalg.norm: {torch.linalg.norm(a - b)}\\n'\n",
    "      f'scipy.distance.euclidean: {distance.euclidean(a, b)}')"
   ],
   "metadata": {
    "collapsed": false,
    "pycharm": {
     "name": "#%%\n"
    }
   }
  },
  {
   "cell_type": "markdown",
   "metadata": {
    "id": "j-ZvjWDKDVMQ",
    "pycharm": {
     "name": "#%% md\n"
    }
   },
   "source": [
    "1.4.4 Создать двумерный тензор 20 на 3, содержащий случайные целые числа от 0 до 100. \n",
    "Интерпретируя тензор как 20 векторов из 3х компонент, отсортировать его по длине векторов."
   ]
  },
  {
   "cell_type": "code",
   "execution_count": 53,
   "outputs": [
    {
     "data": {
      "text/plain": "tensor([[36, 52, 46],\n        [93, 63, 80],\n        [46, 79,  4],\n        [76, 29, 56],\n        [39, 35, 10],\n        [84,  3,  1],\n        [47, 68, 64],\n        [17, 84, 60],\n        [93, 91, 88],\n        [46, 56, 64],\n        [21, 69, 53],\n        [13, 80, 90],\n        [79, 98, 50],\n        [89, 12, 36],\n        [72, 47, 38],\n        [43,  7, 78],\n        [ 7,  5, 82],\n        [66, 30, 98],\n        [52, 15, 75],\n        [15,  2, 51]])"
     },
     "execution_count": 53,
     "metadata": {},
     "output_type": "execute_result"
    }
   ],
   "source": [
    "t = torch.randint(0, 100, size=(20, 3))  # вектора с началом в (0, 0, 0)\n",
    "t"
   ],
   "metadata": {
    "collapsed": false,
    "pycharm": {
     "name": "#%%\n"
    }
   }
  },
  {
   "cell_type": "code",
   "execution_count": 54,
   "outputs": [
    {
     "data": {
      "text/plain": "tensor([[15,  2, 51],\n        [39, 35, 10],\n        [36, 52, 46],\n        [ 7,  5, 82],\n        [84,  3,  1],\n        [43,  7, 78],\n        [21, 69, 53],\n        [46, 79,  4],\n        [52, 15, 75],\n        [72, 47, 38],\n        [46, 56, 64],\n        [89, 12, 36],\n        [76, 29, 56],\n        [47, 68, 64],\n        [17, 84, 60],\n        [13, 80, 90],\n        [66, 30, 98],\n        [79, 98, 50],\n        [93, 63, 80],\n        [93, 91, 88]])"
     },
     "execution_count": 54,
     "metadata": {},
     "output_type": "execute_result"
    }
   ],
   "source": [
    "t[(t ** 2).sum(1).argsort()]  # sqrt монотонно-возрастающая ф-ия, можно опустить"
   ],
   "metadata": {
    "collapsed": false,
    "pycharm": {
     "name": "#%%\n"
    }
   }
  },
  {
   "cell_type": "markdown",
   "metadata": {
    "id": "IkBRFTKa1RDO",
    "pycharm": {
     "name": "#%% md\n"
    }
   },
   "source": [
    "1.4.5 Найти \"локальные максимумы\" в одномерном тензоре (т.е. значения, большие предыдущего и последующего) `torch.tensor([1, 3, 7, 1, 2, 6, 0, 1])` и вывести их индексы."
   ]
  },
  {
   "cell_type": "code",
   "execution_count": 55,
   "outputs": [
    {
     "data": {
      "text/plain": "(tensor([2, 5, 7]), tensor([7, 6, 1]))"
     },
     "execution_count": 55,
     "metadata": {},
     "output_type": "execute_result"
    }
   ],
   "source": [
    "t = torch.tensor([1, 3, 7, 1, 2, 6, 0, 1])\n",
    "right, left = torch.roll(t, -1), torch.roll(t, 1)\n",
    "\n",
    "mask = (t > left) & (t > right)\n",
    "mask[0], mask[-1] = t[0] > t[1], t[-1] > t[-2]  # края отдельно\n",
    "indices = mask.nonzero(as_tuple=True)[0]\n",
    "\n",
    "indices, t[indices]"
   ],
   "metadata": {
    "collapsed": false,
    "pycharm": {
     "name": "#%%\n"
    }
   }
  },
  {
   "cell_type": "markdown",
   "metadata": {
    "id": "VXD58rlc1RDP",
    "pycharm": {
     "name": "#%% md\n"
    }
   },
   "source": [
    "1.4.6 Задан произвольный массив numpy (например массив из 100 случайных чисел от 0 до 1). Необходимо найти в нем число наиболее близкое к заданному."
   ]
  },
  {
   "cell_type": "code",
   "execution_count": 56,
   "outputs": [
    {
     "data": {
      "text/plain": "(tensor(15), tensor(0.7935))"
     },
     "execution_count": 56,
     "metadata": {},
     "output_type": "execute_result"
    }
   ],
   "source": [
    "t = torch.rand((100,))\n",
    "target = 0.8\n",
    "i = (t - target).abs().argmin()\n",
    "i, t[i]"
   ],
   "metadata": {
    "collapsed": false,
    "pycharm": {
     "name": "#%%\n"
    }
   }
  },
  {
   "cell_type": "markdown",
   "metadata": {
    "id": "81F_B2ij1RDP",
    "pycharm": {
     "name": "#%% md\n"
    }
   },
   "source": [
    "1.4.7 Решить матричное уравнение `A*X*B=-C` - найти матрицу X. Где `A = [[-1, 2, 4], [-3, 1, 2], [-3, 0, 1]]`, `B=[[3, -1], [2, 1]]`, `C=[[7, 21], [11, 8], [8, 4]]`."
   ]
  },
  {
   "cell_type": "code",
   "execution_count": 57,
   "outputs": [
    {
     "data": {
      "text/plain": "tensor([[ 1.0000e+00,  1.1921e-07],\n        [-2.0000e+00,  1.0000e+00],\n        [ 3.0000e+00, -4.0000e+00]])"
     },
     "execution_count": 57,
     "metadata": {},
     "output_type": "execute_result"
    }
   ],
   "source": [
    "A = torch.tensor([\n",
    "    [-1, 2, 4],\n",
    "    [-3, 1, 2],\n",
    "    [-3, 0, 1],\n",
    "], dtype=torch.float)\n",
    "B = torch.tensor([\n",
    "    [3, -1],\n",
    "    [2, 1],\n",
    "], dtype=torch.float)\n",
    "C = torch.tensor([\n",
    "    [7, 21],\n",
    "    [11, 8],\n",
    "    [8, 4],\n",
    "], dtype=torch.float)\n",
    "\n",
    "X = torch.matmul(torch.matmul(torch.inverse(A), -C), torch.inverse(B))\n",
    "X"
   ],
   "metadata": {
    "collapsed": false,
    "pycharm": {
     "name": "#%%\n"
    }
   }
  },
  {
   "cell_type": "markdown",
   "metadata": {
    "id": "1P7O19bj1RDP",
    "pycharm": {
     "name": "#%% md\n"
    }
   },
   "source": [
    "1.4.8 Проверить, является ли система векторов a1 = (3; −3; 0; 7),\n",
    "a2 = (2; 2; 4; 7), a3 = (1; 2; 3; 4), a4 = (5; −4; 1; 3) линейно зависимой?"
   ]
  },
  {
   "cell_type": "code",
   "execution_count": 58,
   "outputs": [
    {
     "name": "stdout",
     "output_type": "stream",
     "text": [
      "Линейная независимость: False\n"
     ]
    }
   ],
   "source": [
    "a1 = torch.tensor([3, -3, 0, 7], dtype=torch.float)\n",
    "a2 = torch.tensor([2, 2, 4, 7], dtype=torch.float)\n",
    "a3 = torch.tensor([1, 2, 3, 4], dtype=torch.float)\n",
    "a4 = torch.tensor([5, -4, 1, 3], dtype=torch.float)\n",
    "\n",
    "m = torch.vstack([a1, a2, a3, a4])\n",
    "print(f'Линейная независимость: {torch.linalg.matrix_rank(m) == m.shape[0]}')"
   ],
   "metadata": {
    "collapsed": false,
    "pycharm": {
     "name": "#%%\n"
    }
   }
  },
  {
   "cell_type": "code",
   "execution_count": 59,
   "outputs": [
    {
     "name": "stdout",
     "output_type": "stream",
     "text": [
      "Линейная независимость: False\n"
     ]
    }
   ],
   "source": [
    "# проверка\n",
    "\n",
    "_, indices = sympy.Matrix(m).T.rref()\n",
    "print(f'Линейная независимость: {indices == m.shape[0]}')"
   ],
   "metadata": {
    "collapsed": false,
    "pycharm": {
     "name": "#%%\n"
    }
   }
  },
  {
   "cell_type": "markdown",
   "metadata": {
    "id": "Jg_bzMVS1RDQ",
    "pycharm": {
     "name": "#%% md\n"
    }
   },
   "source": [
    "1.4.9 Сгенирировать тензор из 200 случайных целых чисел, нормально распрделенных cо стандартным отклонением $\\sigma = 10$ и матожиданием $\\mu = 0$. Построить тензор гистограммы с 20 бинами."
   ]
  },
  {
   "cell_type": "code",
   "execution_count": 60,
   "outputs": [
    {
     "data": {
      "text/plain": "torch.return_types.histogram(\nhist=tensor([ 1.,  2.,  0.,  3.,  3.,  4.,  4., 13., 15., 24., 26., 20., 23., 15.,\n        13., 12.,  9.,  4.,  5.,  4.]),\nbin_edges=tensor([-30.8757, -28.1671, -25.4585, -22.7500, -20.0414, -17.3328, -14.6242,\n        -11.9156,  -9.2070,  -6.4985,  -3.7899,  -1.0813,   1.6273,   4.3359,\n          7.0445,   9.7530,  12.4616,  15.1702,  17.8788,  20.5874,  23.2959]))"
     },
     "execution_count": 60,
     "metadata": {},
     "output_type": "execute_result"
    }
   ],
   "source": [
    "t = torch.normal(mean=0, std=10, size=(200,))\n",
    "torch.histogram(t, bins=20)"
   ],
   "metadata": {
    "collapsed": false,
    "pycharm": {
     "name": "#%%\n"
    }
   }
  },
  {
   "cell_type": "code",
   "execution_count": 61,
   "outputs": [
    {
     "data": {
      "text/plain": "<Figure size 640x480 with 1 Axes>",
      "image/png": "[encoded data removed]"
     },
     "metadata": {},
     "output_type": "display_data"
    }
   ],
   "source": [
    "from matplotlib import pyplot as plt\n",
    "\n",
    "height, x = torch.histogram(t, bins=20)\n",
    "plt.bar(x[:-1], height);"
   ],
   "metadata": {
    "collapsed": false,
    "pycharm": {
     "name": "#%%\n"
    }
   }
  }
 ],
 "metadata": {
  "colab": {
   "name": "01_tensor_v1_blank.ipynb",
   "provenance": [],
   "toc_visible": true
  },
  "kernelspec": {
   "display_name": "Python 3 (ipykernel)",
   "language": "python",
   "name": "python3"
  },
  "language_info": {
   "codemirror_mode": {
    "name": "ipython",
    "version": 3
   },
   "file_extension": ".py",
   "mimetype": "text/x-python",
   "name": "python",
   "nbconvert_exporter": "python",
   "pygments_lexer": "ipython3",
   "version": "3.9.7"
  }
 },
 "nbformat": 4,
 "nbformat_minor": 1
}