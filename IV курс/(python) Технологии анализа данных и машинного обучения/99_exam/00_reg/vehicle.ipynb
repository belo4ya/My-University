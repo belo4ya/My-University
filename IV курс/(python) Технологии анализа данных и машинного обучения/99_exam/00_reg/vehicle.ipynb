{
 "cells": [
  {
   "cell_type": "code",
   "execution_count": 151,
   "metadata": {
    "collapsed": true
   },
   "outputs": [],
   "source": [
    "import typing as t\n",
    "from pathlib import Path\n",
    "\n",
    "import matplotlib.pyplot as plt\n",
    "import numpy as np\n",
    "import pandas as pd\n",
    "import seaborn as sns\n",
    "import torch\n",
    "import torch.nn as nn\n",
    "import torch.optim as optim\n",
    "from sklearn import metrics\n",
    "from sklearn.model_selection import train_test_split\n",
    "from sklearn.preprocessing import StandardScaler, OrdinalEncoder\n",
    "from torch.utils.data import Dataset, DataLoader"
   ]
  },
  {
   "cell_type": "code",
   "execution_count": 152,
   "outputs": [],
   "source": [
    "torch.set_warn_always(True)\n",
    "\n",
    "sns.set_theme()\n",
    "plt.rcParams[\"figure.figsize\"] = (8, 4)"
   ],
   "metadata": {
    "collapsed": false
   }
  },
  {
   "cell_type": "code",
   "execution_count": 153,
   "outputs": [
    {
     "name": "stdout",
     "output_type": "stream",
     "text": [
      "Using CUDA device\n"
     ]
    }
   ],
   "source": [
    "DATA_DIR = Path(\"../data/\")\n",
    "\n",
    "CUDA = \"cuda\"\n",
    "CPU = \"cpu\"\n",
    "DEVICE = CUDA if torch.cuda.is_available() else CPU\n",
    "print(f\"Using {DEVICE.upper()} device\")"
   ],
   "metadata": {
    "collapsed": false
   }
  },
  {
   "cell_type": "markdown",
   "source": [
    "## Предобработка данных и подготовка датасета"
   ],
   "metadata": {
    "collapsed": false
   }
  },
  {
   "cell_type": "code",
   "execution_count": 154,
   "outputs": [],
   "source": [
    "def na_stat(df: pd.DataFrame) -> pd.Series:\n",
    "    stat = df.isna().sum()\n",
    "    return stat[stat > 0]\n",
    "\n",
    "\n",
    "def duplicates_stat(df: pd.DataFrame) -> pd.Series:\n",
    "    return df[df.duplicated()].value_counts()\n",
    "\n",
    "\n",
    "def get_categorical_columns(df: pd.DataFrame) -> pd.Index:\n",
    "    return df.select_dtypes(object).columns\n",
    "\n",
    "\n",
    "def get_numerical_columns(df: pd.DataFrame) -> pd.Index:\n",
    "    return df.select_dtypes(np.number).columns\n",
    "\n",
    "\n",
    "def count_categories(df: pd.DataFrame) -> pd.Series:\n",
    "    return df[get_categorical_columns(df)].nunique()"
   ],
   "metadata": {
    "collapsed": false
   }
  },
  {
   "cell_type": "code",
   "execution_count": 155,
   "outputs": [
    {
     "name": "stdout",
     "output_type": "stream",
     "text": [
      "(8128, 13)\n"
     ]
    },
    {
     "data": {
      "text/plain": "                           name  year  selling_price  km_driven    fuel  \\\n0        Maruti Swift Dzire VDI  2014         450000     145500  Diesel   \n1  Skoda Rapid 1.5 TDI Ambition  2014         370000     120000  Diesel   \n2      Honda City 2017-2020 EXi  2006         158000     140000  Petrol   \n3     Hyundai i20 Sportz Diesel  2010         225000     127000  Diesel   \n4        Maruti Swift VXI BSIII  2007         130000     120000  Petrol   \n\n  seller_type transmission         owner     mileage   engine   max_power  \\\n0  Individual       Manual   First Owner   23.4 kmpl  1248 CC      74 bhp   \n1  Individual       Manual  Second Owner  21.14 kmpl  1498 CC  103.52 bhp   \n2  Individual       Manual   Third Owner   17.7 kmpl  1497 CC      78 bhp   \n3  Individual       Manual   First Owner   23.0 kmpl  1396 CC      90 bhp   \n4  Individual       Manual   First Owner   16.1 kmpl  1298 CC    88.2 bhp   \n\n                     torque  seats  \n0            190Nm@ 2000rpm    5.0  \n1       250Nm@ 1500-2500rpm    5.0  \n2     12.7@ 2,700(kgm@ rpm)    5.0  \n3  22.4 kgm at 1750-2750rpm    5.0  \n4     11.5@ 4,500(kgm@ rpm)    5.0  ",
      "text/html": "<div>\n<style scoped>\n    .dataframe tbody tr th:only-of-type {\n        vertical-align: middle;\n    }\n\n    .dataframe tbody tr th {\n        vertical-align: top;\n    }\n\n    .dataframe thead th {\n        text-align: right;\n    }\n</style>\n<table border=\"1\" class=\"dataframe\">\n  <thead>\n    <tr style=\"text-align: right;\">\n      <th></th>\n      <th>name</th>\n      <th>year</th>\n      <th>selling_price</th>\n      <th>km_driven</th>\n      <th>fuel</th>\n      <th>seller_type</th>\n      <th>transmission</th>\n      <th>owner</th>\n      <th>mileage</th>\n      <th>engine</th>\n      <th>max_power</th>\n      <th>torque</th>\n      <th>seats</th>\n    </tr>\n  </thead>\n  <tbody>\n    <tr>\n      <th>0</th>\n      <td>Maruti Swift Dzire VDI</td>\n      <td>2014</td>\n      <td>450000</td>\n      <td>145500</td>\n      <td>Diesel</td>\n      <td>Individual</td>\n      <td>Manual</td>\n      <td>First Owner</td>\n      <td>23.4 kmpl</td>\n      <td>1248 CC</td>\n      <td>74 bhp</td>\n      <td>190Nm@ 2000rpm</td>\n      <td>5.0</td>\n    </tr>\n    <tr>\n      <th>1</th>\n      <td>Skoda Rapid 1.5 TDI Ambition</td>\n      <td>2014</td>\n      <td>370000</td>\n      <td>120000</td>\n      <td>Diesel</td>\n      <td>Individual</td>\n      <td>Manual</td>\n      <td>Second Owner</td>\n      <td>21.14 kmpl</td>\n      <td>1498 CC</td>\n      <td>103.52 bhp</td>\n      <td>250Nm@ 1500-2500rpm</td>\n      <td>5.0</td>\n    </tr>\n    <tr>\n      <th>2</th>\n      <td>Honda City 2017-2020 EXi</td>\n      <td>2006</td>\n      <td>158000</td>\n      <td>140000</td>\n      <td>Petrol</td>\n      <td>Individual</td>\n      <td>Manual</td>\n      <td>Third Owner</td>\n      <td>17.7 kmpl</td>\n      <td>1497 CC</td>\n      <td>78 bhp</td>\n      <td>12.7@ 2,700(kgm@ rpm)</td>\n      <td>5.0</td>\n    </tr>\n    <tr>\n      <th>3</th>\n      <td>Hyundai i20 Sportz Diesel</td>\n      <td>2010</td>\n      <td>225000</td>\n      <td>127000</td>\n      <td>Diesel</td>\n      <td>Individual</td>\n      <td>Manual</td>\n      <td>First Owner</td>\n      <td>23.0 kmpl</td>\n      <td>1396 CC</td>\n      <td>90 bhp</td>\n      <td>22.4 kgm at 1750-2750rpm</td>\n      <td>5.0</td>\n    </tr>\n    <tr>\n      <th>4</th>\n      <td>Maruti Swift VXI BSIII</td>\n      <td>2007</td>\n      <td>130000</td>\n      <td>120000</td>\n      <td>Petrol</td>\n      <td>Individual</td>\n      <td>Manual</td>\n      <td>First Owner</td>\n      <td>16.1 kmpl</td>\n      <td>1298 CC</td>\n      <td>88.2 bhp</td>\n      <td>11.5@ 4,500(kgm@ rpm)</td>\n      <td>5.0</td>\n    </tr>\n  </tbody>\n</table>\n</div>"
     },
     "execution_count": 155,
     "metadata": {},
     "output_type": "execute_result"
    }
   ],
   "source": [
    "vehicle_df: pd.DataFrame = pd.read_csv(DATA_DIR / \"regression/vehicle.csv\")\n",
    "print(vehicle_df.shape)\n",
    "vehicle_df.head()"
   ],
   "metadata": {
    "collapsed": false
   }
  },
  {
   "cell_type": "code",
   "execution_count": 156,
   "outputs": [
    {
     "data": {
      "text/plain": "mileage      221\nengine       221\nmax_power    215\ntorque       222\nseats        221\ndtype: int64"
     },
     "execution_count": 156,
     "metadata": {},
     "output_type": "execute_result"
    }
   ],
   "source": [
    "na_stat(vehicle_df)"
   ],
   "metadata": {
    "collapsed": false
   }
  },
  {
   "cell_type": "code",
   "execution_count": 157,
   "outputs": [
    {
     "data": {
      "text/plain": "Series([], dtype: int64)"
     },
     "execution_count": 157,
     "metadata": {},
     "output_type": "execute_result"
    }
   ],
   "source": [
    "vehicle_df = vehicle_df.dropna()\n",
    "na_stat(vehicle_df)"
   ],
   "metadata": {
    "collapsed": false
   }
  },
  {
   "cell_type": "code",
   "execution_count": 158,
   "outputs": [],
   "source": [
    "vehicle_df = vehicle_df.drop(columns=[\"name\", \"mileage\", \"torque\"])\n",
    "vehicle_df[\"max_power\"] = vehicle_df[\"max_power\"].str.replace(\" bhp\", \"\").astype(float)"
   ],
   "metadata": {
    "collapsed": false
   }
  },
  {
   "cell_type": "code",
   "execution_count": 159,
   "outputs": [
    {
     "data": {
      "text/plain": "year  selling_price  km_driven  fuel    seller_type       transmission  owner         engine   max_power  seats\n2017  3200000        45000      Diesel  Dealer            Automatic     First Owner   1999 CC  177.00     5.0      33\n2019  5150000        20000      Petrol  Dealer            Automatic     First Owner   2487 CC  214.56     5.0      33\n2016  2000000        68089      Petrol  Trustmark Dealer  Automatic     First Owner   2494 CC  157.70     5.0      31\n      550000         56494      Petrol  Trustmark Dealer  Manual        First Owner   1199 CC  88.70      5.0      31\n2013  750000         79328      Diesel  Trustmark Dealer  Manual        Second Owner  2494 CC  100.60     7.0      30\n                                                                                                                   ..\n2015  245000         40000      Petrol  Individual        Manual        First Owner   796 CC   47.30      5.0       1\n      250000         80000      Diesel  Individual        Manual        Second Owner  1405 CC  69.01      5.0       1\n      290000         15200      Petrol  Individual        Manual        First Owner   799 CC   53.30      5.0       1\n                     60000      Petrol  Individual        Manual        First Owner   998 CC   67.04      5.0       1\n2020  2125000        5500       Diesel  Dealer            Manual        First Owner   1597 CC  118.00     5.0       1\nLength: 629, dtype: int64"
     },
     "execution_count": 159,
     "metadata": {},
     "output_type": "execute_result"
    }
   ],
   "source": [
    "duplicates_stat(vehicle_df)"
   ],
   "metadata": {
    "collapsed": false
   }
  },
  {
   "cell_type": "code",
   "execution_count": 160,
   "outputs": [
    {
     "data": {
      "text/plain": "Series([], dtype: int64)"
     },
     "execution_count": 160,
     "metadata": {},
     "output_type": "execute_result"
    }
   ],
   "source": [
    "vehicle_df = vehicle_df.drop_duplicates()\n",
    "duplicates_stat(vehicle_df)"
   ],
   "metadata": {
    "collapsed": false
   }
  },
  {
   "cell_type": "code",
   "execution_count": 161,
   "outputs": [
    {
     "data": {
      "text/plain": "fuel              4\nseller_type       3\ntransmission      2\nowner             5\nengine          121\ndtype: int64"
     },
     "execution_count": 161,
     "metadata": {},
     "output_type": "execute_result"
    }
   ],
   "source": [
    "count_categories(vehicle_df)"
   ],
   "metadata": {
    "collapsed": false
   }
  },
  {
   "cell_type": "code",
   "execution_count": 162,
   "outputs": [
    {
     "name": "stdout",
     "output_type": "stream",
     "text": [
      "(6690, 10)\n"
     ]
    },
    {
     "data": {
      "text/plain": "   year  selling_price  km_driven    fuel seller_type transmission  \\\n0  2014         450000     145500  Diesel  Individual       Manual   \n1  2014         370000     120000  Diesel  Individual       Manual   \n2  2006         158000     140000  Petrol  Individual       Manual   \n3  2010         225000     127000  Diesel  Individual       Manual   \n4  2007         130000     120000  Petrol  Individual       Manual   \n\n          owner   engine  max_power  seats  \n0   First Owner  1248 CC      74.00    5.0  \n1  Second Owner  1498 CC     103.52    5.0  \n2   Third Owner  1497 CC      78.00    5.0  \n3   First Owner  1396 CC      90.00    5.0  \n4   First Owner  1298 CC      88.20    5.0  ",
      "text/html": "<div>\n<style scoped>\n    .dataframe tbody tr th:only-of-type {\n        vertical-align: middle;\n    }\n\n    .dataframe tbody tr th {\n        vertical-align: top;\n    }\n\n    .dataframe thead th {\n        text-align: right;\n    }\n</style>\n<table border=\"1\" class=\"dataframe\">\n  <thead>\n    <tr style=\"text-align: right;\">\n      <th></th>\n      <th>year</th>\n      <th>selling_price</th>\n      <th>km_driven</th>\n      <th>fuel</th>\n      <th>seller_type</th>\n      <th>transmission</th>\n      <th>owner</th>\n      <th>engine</th>\n      <th>max_power</th>\n      <th>seats</th>\n    </tr>\n  </thead>\n  <tbody>\n    <tr>\n      <th>0</th>\n      <td>2014</td>\n      <td>450000</td>\n      <td>145500</td>\n      <td>Diesel</td>\n      <td>Individual</td>\n      <td>Manual</td>\n      <td>First Owner</td>\n      <td>1248 CC</td>\n      <td>74.00</td>\n      <td>5.0</td>\n    </tr>\n    <tr>\n      <th>1</th>\n      <td>2014</td>\n      <td>370000</td>\n      <td>120000</td>\n      <td>Diesel</td>\n      <td>Individual</td>\n      <td>Manual</td>\n      <td>Second Owner</td>\n      <td>1498 CC</td>\n      <td>103.52</td>\n      <td>5.0</td>\n    </tr>\n    <tr>\n      <th>2</th>\n      <td>2006</td>\n      <td>158000</td>\n      <td>140000</td>\n      <td>Petrol</td>\n      <td>Individual</td>\n      <td>Manual</td>\n      <td>Third Owner</td>\n      <td>1497 CC</td>\n      <td>78.00</td>\n      <td>5.0</td>\n    </tr>\n    <tr>\n      <th>3</th>\n      <td>2010</td>\n      <td>225000</td>\n      <td>127000</td>\n      <td>Diesel</td>\n      <td>Individual</td>\n      <td>Manual</td>\n      <td>First Owner</td>\n      <td>1396 CC</td>\n      <td>90.00</td>\n      <td>5.0</td>\n    </tr>\n    <tr>\n      <th>4</th>\n      <td>2007</td>\n      <td>130000</td>\n      <td>120000</td>\n      <td>Petrol</td>\n      <td>Individual</td>\n      <td>Manual</td>\n      <td>First Owner</td>\n      <td>1298 CC</td>\n      <td>88.20</td>\n      <td>5.0</td>\n    </tr>\n  </tbody>\n</table>\n</div>"
     },
     "execution_count": 162,
     "metadata": {},
     "output_type": "execute_result"
    }
   ],
   "source": [
    "print(vehicle_df.shape)\n",
    "vehicle_df.head()"
   ],
   "metadata": {
    "collapsed": false
   }
  },
  {
   "cell_type": "code",
   "execution_count": 163,
   "outputs": [],
   "source": [
    "class VehicleDataset(Dataset):\n",
    "    encoder: OrdinalEncoder\n",
    "    scaler: StandardScaler\n",
    "    n_features: int\n",
    "    data: torch.Tensor\n",
    "    targets: torch.Tensor\n",
    "\n",
    "    def __init__(self, df: pd.DataFrame, encoder: OrdinalEncoder = None, scaler: StandardScaler = None):\n",
    "        if encoder:\n",
    "            self.encoder = encoder\n",
    "            encode = self.encoder.transform\n",
    "        else:\n",
    "            self.encoder = OrdinalEncoder(handle_unknown=\"use_encoded_value\", unknown_value=-1)\n",
    "            encode = self.encoder.fit_transform\n",
    "\n",
    "        if scaler:\n",
    "            self.scaler = scaler\n",
    "            scale = self.scaler.transform\n",
    "        else:\n",
    "            self.scaler = StandardScaler()\n",
    "            scale = self.scaler.fit_transform\n",
    "\n",
    "        target_col = \"selling_price\"\n",
    "        data, targets = df.drop(columns=[target_col]), df[target_col]\n",
    "\n",
    "        encode_cols, scale_cols = get_categorical_columns(data), get_numerical_columns(data)\n",
    "        data[encode_cols] = encode(data[encode_cols])\n",
    "        data[scale_cols] = scale(data[scale_cols])\n",
    "\n",
    "        self.data = torch.tensor(data.to_numpy(), dtype=torch.float)\n",
    "        self.targets = torch.tensor(targets.to_numpy(), dtype=torch.float).unsqueeze(1)\n",
    "        self.n_features = self.data.size(1)\n",
    "\n",
    "    def __len__(self):\n",
    "        return self.targets.size(0)\n",
    "\n",
    "    def __getitem__(self, idx):\n",
    "        return self.data[idx], self.targets[idx]"
   ],
   "metadata": {
    "collapsed": false
   }
  },
  {
   "cell_type": "code",
   "execution_count": 164,
   "outputs": [
    {
     "data": {
      "text/plain": "(5352, 1338, 9)"
     },
     "execution_count": 164,
     "metadata": {},
     "output_type": "execute_result"
    }
   ],
   "source": [
    "train_df, test_df = train_test_split(vehicle_df, test_size=0.2, random_state=0)\n",
    "\n",
    "train_dataset = VehicleDataset(train_df)\n",
    "test_dataset = VehicleDataset(\n",
    "    test_df,\n",
    "    encoder=train_dataset.encoder,\n",
    "    scaler=train_dataset.scaler,\n",
    ")\n",
    "len(train_dataset), len(test_dataset), train_dataset.n_features"
   ],
   "metadata": {
    "collapsed": false
   }
  },
  {
   "cell_type": "markdown",
   "source": [
    "## Построение и обучение модели"
   ],
   "metadata": {
    "collapsed": false
   }
  },
  {
   "cell_type": "code",
   "execution_count": 165,
   "outputs": [],
   "source": [
    "def common_train(\n",
    "        model: nn.Module,\n",
    "        loss_fn: nn.Module,\n",
    "        optimizer: optim.Optimizer,\n",
    "        epochs: int,\n",
    "        train_dataloader: DataLoader,\n",
    "        test_dataloader: DataLoader,\n",
    "        verbose: int = None,\n",
    "        device: str = CPU,\n",
    ") -> t.Tuple[t.List[float], t.List[float], t.List[float], t.List[float]]:\n",
    "    train_losses, train_r2s = [], []\n",
    "    test_losses, test_r2s = [], []\n",
    "    for epoch in range(epochs):\n",
    "        print(f\"Epoch {epoch + 1}\\n\" + \"-\" * 32)\n",
    "\n",
    "        train_loss, train_r2 = train_loop(train_dataloader, model, loss_fn, optimizer, verbose=verbose, device=device)\n",
    "        print(f\"Train Error: loss: {train_loss:.6f}, R^2: {train_r2:.4f}\")\n",
    "        train_losses.append(train_loss)\n",
    "        train_r2s.append(train_r2)\n",
    "\n",
    "        test_loss, test_r2 = test_loop(test_dataloader, model, loss_fn, device=device)\n",
    "        print(f\" Test Error: loss: {test_loss:.6f}, R^2: {test_r2:.4f}\\n\")\n",
    "        test_losses.append(test_loss)\n",
    "        test_r2s.append(test_r2)\n",
    "\n",
    "        torch.cuda.empty_cache()\n",
    "    return train_losses, train_r2s, test_losses, test_r2s\n",
    "\n",
    "\n",
    "def train_loop(\n",
    "        dataloader: DataLoader,\n",
    "        model: nn.Module,\n",
    "        loss_fn: nn.Module,\n",
    "        optimizer: optim.Optimizer,\n",
    "        verbose: int = None,\n",
    "        device: str = CPU,\n",
    ") -> t.Tuple[float, float]:\n",
    "    model.train()\n",
    "\n",
    "    size = len(dataloader.dataset)  # noqa\n",
    "    num_batches = len(dataloader)\n",
    "    avg_loss, avg_r2 = 0, 0\n",
    "\n",
    "    for batch, (x, y) in enumerate(dataloader):\n",
    "        x, y = x.to(device), y.to(device)\n",
    "\n",
    "        pred = model(x)\n",
    "        loss = loss_fn(pred, y)\n",
    "\n",
    "        optimizer.zero_grad()\n",
    "        loss.backward()\n",
    "        optimizer.step()\n",
    "\n",
    "        r2 = metrics.r2_score(y.detach().cpu(), pred.detach().cpu())\n",
    "        avg_loss += loss\n",
    "        avg_r2 += r2\n",
    "        if verbose and batch % verbose == 0:\n",
    "            print(f\"[{batch * len(x):>4d}/{size:>4d}]: loss: {loss:.6f}, R^2: {r2:.4f}\")\n",
    "\n",
    "        del x, y, pred, loss\n",
    "        torch.cuda.empty_cache()\n",
    "\n",
    "    return (avg_loss / num_batches).item(), avg_r2 / num_batches\n",
    "\n",
    "\n",
    "@torch.no_grad()\n",
    "def test_loop(\n",
    "        dataloader: DataLoader,\n",
    "        model: nn.Module,\n",
    "        loss_fn: nn.Module,\n",
    "        device: str = CPU,\n",
    ") -> t.Tuple[float, float]:\n",
    "    model.eval()\n",
    "    y_true, y_pred = get_y_true_y_pred(model, dataloader, device)\n",
    "    return loss_fn(y_pred, y_true).item(), metrics.r2_score(y_true, y_pred)\n",
    "\n",
    "\n",
    "@torch.no_grad()\n",
    "def get_y_true_y_pred(\n",
    "        model: nn.Module,\n",
    "        dataloader: DataLoader,\n",
    "        device: str = CPU,\n",
    ") -> t.Tuple[torch.Tensor, torch.Tensor]:\n",
    "    model.eval()\n",
    "\n",
    "    y_test = []\n",
    "    y_pred = []\n",
    "    for x, y in dataloader:\n",
    "        x, y = x.to(device), y.to(device)\n",
    "        pred = model(x)\n",
    "        y_test.append(y)\n",
    "        y_pred.append(pred)\n",
    "\n",
    "        del x\n",
    "        torch.cuda.empty_cache()\n",
    "\n",
    "    return torch.flatten(torch.vstack(y_test)).cpu(), torch.flatten(torch.vstack(y_pred)).cpu()\n",
    "\n",
    "\n",
    "def plot_train_test(\n",
    "        train_losses: t.List[float],\n",
    "        train_r2s: t.List[float],\n",
    "        test_losses: t.List[float],\n",
    "        test_r2s: t.List[float],\n",
    ") -> None:\n",
    "    fig, axes = plt.subplots(2, 1, figsize=(6, 7))\n",
    "    epochs = torch.arange(len(train_losses))\n",
    "\n",
    "    axes[0].plot(epochs, train_losses)\n",
    "    axes[0].plot(epochs, test_losses)\n",
    "    axes[0].set_ylabel(\"loss\")\n",
    "    axes[0].legend([\"train\", \"test\"])\n",
    "\n",
    "    axes[1].plot(epochs, train_r2s)\n",
    "    axes[1].plot(epochs, test_r2s)\n",
    "    axes[1].set_xlabel(\"epoch\")\n",
    "    axes[1].set_ylabel(\"$R^2$\")\n",
    "\n",
    "\n",
    "def plot_y_true_y_pred(y_true: torch.Tensor, y_pred: torch.Tensor):\n",
    "    x = torch.arange(len(y_pred))\n",
    "    plt.plot(x, y_true)\n",
    "    plt.plot(x, y_pred)\n",
    "    plt.legend([\"true\", \"pred\"])\n",
    "\n",
    "\n",
    "def print_y_true_y_pred(x: torch.Tensor, y: torch.Tensor, model: nn.Module, device: str = CPU) -> None:\n",
    "    x, y = x.to(device), y.to(device)\n",
    "    pred = model(x.unsqueeze(0)).squeeze(0)\n",
    "    print(f\"Input:   {x.cpu()}\")\n",
    "    print(f\"Target:  {y.item():.6f}\")\n",
    "    print(f\"Predict: {pred.item():.6f}\\n\")"
   ],
   "metadata": {
    "collapsed": false
   }
  },
  {
   "cell_type": "code",
   "execution_count": 166,
   "outputs": [],
   "source": [
    "class VehicleRegression(nn.Module):\n",
    "\n",
    "    def __init__(self, in_features: int):\n",
    "        super().__init__()\n",
    "        self.mlp = nn.Sequential(\n",
    "            nn.Linear(in_features, 256),\n",
    "            nn.ReLU(),\n",
    "            nn.Dropout(0.25),\n",
    "            nn.Linear(256, 512),\n",
    "            nn.ReLU(),\n",
    "            nn.Dropout(0.25),\n",
    "            nn.Linear(512, 256),\n",
    "            nn.ReLU(),\n",
    "            nn.Dropout(0.25),\n",
    "            nn.Linear(256, 1),\n",
    "        )\n",
    "\n",
    "    def forward(self, x: torch.Tensor) -> torch.Tensor:\n",
    "        return self.mlp(x)"
   ],
   "metadata": {
    "collapsed": false
   }
  },
  {
   "cell_type": "code",
   "execution_count": 167,
   "outputs": [
    {
     "data": {
      "text/plain": "VehicleRegression(\n  (mlp): Sequential(\n    (0): Linear(in_features=9, out_features=256, bias=True)\n    (1): ReLU()\n    (2): Dropout(p=0.25, inplace=False)\n    (3): Linear(in_features=256, out_features=512, bias=True)\n    (4): ReLU()\n    (5): Dropout(p=0.25, inplace=False)\n    (6): Linear(in_features=512, out_features=256, bias=True)\n    (7): ReLU()\n    (8): Dropout(p=0.25, inplace=False)\n    (9): Linear(in_features=256, out_features=1, bias=True)\n  )\n)"
     },
     "execution_count": 167,
     "metadata": {},
     "output_type": "execute_result"
    }
   ],
   "source": [
    "torch.manual_seed(0)\n",
    "\n",
    "net = VehicleRegression(in_features=train_dataset.n_features).to(DEVICE)\n",
    "loss_fn = nn.MSELoss()\n",
    "optimizer = optim.Adam(net.parameters(), lr=0.002)\n",
    "\n",
    "train_dataloader = DataLoader(train_dataset, batch_size=128, shuffle=True)\n",
    "test_dataloader = DataLoader(test_dataset, batch_size=512)\n",
    "\n",
    "net"
   ],
   "metadata": {
    "collapsed": false
   }
  },
  {
   "cell_type": "code",
   "execution_count": 168,
   "outputs": [
    {
     "name": "stdout",
     "output_type": "stream",
     "text": [
      "Epoch 1\n",
      "--------------------------------\n",
      "Train Error: loss: 543630688256.000000, R^2: -1.3405\n",
      " Test Error: loss: 444593471488.000000, R^2: -0.7736\n",
      "\n",
      "Epoch 2\n",
      "--------------------------------\n",
      "Train Error: loss: 401448108032.000000, R^2: -0.6126\n",
      " Test Error: loss: 344757895168.000000, R^2: -0.3753\n",
      "\n",
      "Epoch 3\n",
      "--------------------------------\n",
      "Train Error: loss: 365579698176.000000, R^2: -0.4396\n",
      " Test Error: loss: 317735108608.000000, R^2: -0.2675\n",
      "\n",
      "Epoch 4\n",
      "--------------------------------\n",
      "Train Error: loss: 330096214016.000000, R^2: -0.2717\n",
      " Test Error: loss: 278927638528.000000, R^2: -0.1127\n",
      "\n",
      "Epoch 5\n",
      "--------------------------------\n",
      "Train Error: loss: 283038810112.000000, R^2: -0.0574\n",
      " Test Error: loss: 240112484352.000000, R^2: 0.0421\n",
      "\n",
      "Epoch 6\n",
      "--------------------------------\n",
      "Train Error: loss: 237619036160.000000, R^2: 0.1404\n",
      " Test Error: loss: 191500369920.000000, R^2: 0.2361\n",
      "\n",
      "Epoch 7\n",
      "--------------------------------\n",
      "Train Error: loss: 194898788352.000000, R^2: 0.3162\n",
      " Test Error: loss: 150344368128.000000, R^2: 0.4002\n",
      "\n",
      "Epoch 8\n",
      "--------------------------------\n",
      "Train Error: loss: 153274351616.000000, R^2: 0.4707\n",
      " Test Error: loss: 113143390208.000000, R^2: 0.5486\n",
      "\n",
      "Epoch 9\n",
      "--------------------------------\n",
      "Train Error: loss: 114548588544.000000, R^2: 0.6166\n",
      " Test Error: loss: 86939820032.000000, R^2: 0.6532\n",
      "\n",
      "Epoch 10\n",
      "--------------------------------\n",
      "Train Error: loss: 94137163776.000000, R^2: 0.6635\n",
      " Test Error: loss: 78008287232.000000, R^2: 0.6888\n",
      "\n",
      "Epoch 11\n",
      "--------------------------------\n",
      "Train Error: loss: 83601170432.000000, R^2: 0.6949\n",
      " Test Error: loss: 64733306880.000000, R^2: 0.7418\n",
      "\n",
      "Epoch 12\n",
      "--------------------------------\n",
      "Train Error: loss: 74540703744.000000, R^2: 0.7242\n",
      " Test Error: loss: 60014084096.000000, R^2: 0.7606\n",
      "\n",
      "Epoch 13\n",
      "--------------------------------\n",
      "Train Error: loss: 71683923968.000000, R^2: 0.7285\n",
      " Test Error: loss: 58957078528.000000, R^2: 0.7648\n",
      "\n",
      "Epoch 14\n",
      "--------------------------------\n",
      "Train Error: loss: 64670076928.000000, R^2: 0.7463\n",
      " Test Error: loss: 55123824640.000000, R^2: 0.7801\n",
      "\n",
      "Epoch 15\n",
      "--------------------------------\n",
      "Train Error: loss: 59392655360.000000, R^2: 0.7684\n",
      " Test Error: loss: 52482658304.000000, R^2: 0.7906\n",
      "\n",
      "Epoch 16\n",
      "--------------------------------\n",
      "Train Error: loss: 59223023616.000000, R^2: 0.7747\n",
      " Test Error: loss: 51565137920.000000, R^2: 0.7943\n",
      "\n",
      "Epoch 17\n",
      "--------------------------------\n",
      "Train Error: loss: 58122674176.000000, R^2: 0.7641\n",
      " Test Error: loss: 52633149440.000000, R^2: 0.7900\n",
      "\n",
      "Epoch 18\n",
      "--------------------------------\n",
      "Train Error: loss: 55938813952.000000, R^2: 0.7717\n",
      " Test Error: loss: 49417121792.000000, R^2: 0.8029\n",
      "\n",
      "Epoch 19\n",
      "--------------------------------\n",
      "Train Error: loss: 52966219776.000000, R^2: 0.7877\n",
      " Test Error: loss: 52016746496.000000, R^2: 0.7925\n",
      "\n",
      "Epoch 20\n",
      "--------------------------------\n",
      "Train Error: loss: 54943256576.000000, R^2: 0.7819\n",
      " Test Error: loss: 50774265856.000000, R^2: 0.7974\n",
      "\n",
      "Epoch 21\n",
      "--------------------------------\n",
      "Train Error: loss: 52601012224.000000, R^2: 0.7893\n",
      " Test Error: loss: 46874968064.000000, R^2: 0.8130\n",
      "\n",
      "Epoch 22\n",
      "--------------------------------\n",
      "Train Error: loss: 52977537024.000000, R^2: 0.7760\n",
      " Test Error: loss: 47187243008.000000, R^2: 0.8118\n",
      "\n",
      "Epoch 23\n",
      "--------------------------------\n",
      "Train Error: loss: 52709462016.000000, R^2: 0.7874\n",
      " Test Error: loss: 47615791104.000000, R^2: 0.8100\n",
      "\n",
      "Epoch 24\n",
      "--------------------------------\n",
      "Train Error: loss: 49723662336.000000, R^2: 0.8042\n",
      " Test Error: loss: 45316390912.000000, R^2: 0.8192\n",
      "\n",
      "Epoch 25\n",
      "--------------------------------\n",
      "Train Error: loss: 47764402176.000000, R^2: 0.8025\n",
      " Test Error: loss: 45141577728.000000, R^2: 0.8199\n",
      "\n",
      "Epoch 26\n",
      "--------------------------------\n",
      "Train Error: loss: 46834434048.000000, R^2: 0.8007\n",
      " Test Error: loss: 45080739840.000000, R^2: 0.8202\n",
      "\n",
      "Epoch 27\n",
      "--------------------------------\n",
      "Train Error: loss: 44983697408.000000, R^2: 0.8012\n",
      " Test Error: loss: 44902035456.000000, R^2: 0.8209\n",
      "\n",
      "Epoch 28\n",
      "--------------------------------\n",
      "Train Error: loss: 48341618688.000000, R^2: 0.8027\n",
      " Test Error: loss: 44207624192.000000, R^2: 0.8236\n",
      "\n",
      "Epoch 29\n",
      "--------------------------------\n",
      "Train Error: loss: 46636277760.000000, R^2: 0.8018\n",
      " Test Error: loss: 44218863616.000000, R^2: 0.8236\n",
      "\n",
      "Epoch 30\n",
      "--------------------------------\n",
      "Train Error: loss: 46592966656.000000, R^2: 0.8118\n",
      " Test Error: loss: 46472224768.000000, R^2: 0.8146\n",
      "\n",
      "Epoch 31\n",
      "--------------------------------\n",
      "Train Error: loss: 47209218048.000000, R^2: 0.7928\n",
      " Test Error: loss: 44882751488.000000, R^2: 0.8210\n",
      "\n",
      "Epoch 32\n",
      "--------------------------------\n",
      "Train Error: loss: 47669755904.000000, R^2: 0.7909\n",
      " Test Error: loss: 43568275456.000000, R^2: 0.8262\n",
      "\n",
      "Epoch 33\n",
      "--------------------------------\n",
      "Train Error: loss: 45024161792.000000, R^2: 0.8119\n",
      " Test Error: loss: 43174637568.000000, R^2: 0.8278\n",
      "\n",
      "Epoch 34\n",
      "--------------------------------\n",
      "Train Error: loss: 41965522944.000000, R^2: 0.8228\n",
      " Test Error: loss: 44743958528.000000, R^2: 0.8215\n",
      "\n",
      "Epoch 35\n",
      "--------------------------------\n",
      "Train Error: loss: 47393476608.000000, R^2: 0.7978\n",
      " Test Error: loss: 43350155264.000000, R^2: 0.8271\n",
      "\n",
      "Epoch 36\n",
      "--------------------------------\n",
      "Train Error: loss: 46451322880.000000, R^2: 0.7957\n",
      " Test Error: loss: 43625709568.000000, R^2: 0.8260\n",
      "\n",
      "Epoch 37\n",
      "--------------------------------\n",
      "Train Error: loss: 43614519296.000000, R^2: 0.8098\n",
      " Test Error: loss: 42585587712.000000, R^2: 0.8301\n",
      "\n",
      "Epoch 38\n",
      "--------------------------------\n",
      "Train Error: loss: 44461309952.000000, R^2: 0.8102\n",
      " Test Error: loss: 42498437120.000000, R^2: 0.8305\n",
      "\n",
      "Epoch 39\n",
      "--------------------------------\n",
      "Train Error: loss: 43396706304.000000, R^2: 0.8129\n",
      " Test Error: loss: 43374718976.000000, R^2: 0.8270\n",
      "\n",
      "Epoch 40\n",
      "--------------------------------\n",
      "Train Error: loss: 43260342272.000000, R^2: 0.8175\n",
      " Test Error: loss: 43853197312.000000, R^2: 0.8251\n",
      "\n",
      "Epoch 41\n",
      "--------------------------------\n",
      "Train Error: loss: 42869751808.000000, R^2: 0.8178\n",
      " Test Error: loss: 45794488320.000000, R^2: 0.8173\n",
      "\n",
      "Epoch 42\n",
      "--------------------------------\n",
      "Train Error: loss: 42191441920.000000, R^2: 0.8113\n",
      " Test Error: loss: 42603565056.000000, R^2: 0.8300\n",
      "\n",
      "Epoch 43\n",
      "--------------------------------\n",
      "Train Error: loss: 41770680320.000000, R^2: 0.8221\n",
      " Test Error: loss: 46955171840.000000, R^2: 0.8127\n",
      "\n",
      "Epoch 44\n",
      "--------------------------------\n",
      "Train Error: loss: 43370377216.000000, R^2: 0.7958\n",
      " Test Error: loss: 42671411200.000000, R^2: 0.8298\n",
      "\n",
      "Epoch 45\n",
      "--------------------------------\n",
      "Train Error: loss: 42980114432.000000, R^2: 0.8133\n",
      " Test Error: loss: 43717668864.000000, R^2: 0.8256\n",
      "\n",
      "Epoch 46\n",
      "--------------------------------\n",
      "Train Error: loss: 43702738944.000000, R^2: 0.8042\n",
      " Test Error: loss: 43314225152.000000, R^2: 0.8272\n",
      "\n",
      "Epoch 47\n",
      "--------------------------------\n",
      "Train Error: loss: 41482813440.000000, R^2: 0.8224\n",
      " Test Error: loss: 42195415040.000000, R^2: 0.8317\n",
      "\n",
      "Epoch 48\n",
      "--------------------------------\n",
      "Train Error: loss: 42184773632.000000, R^2: 0.8243\n",
      " Test Error: loss: 42613129216.000000, R^2: 0.8300\n",
      "\n",
      "Epoch 49\n",
      "--------------------------------\n",
      "Train Error: loss: 44491862016.000000, R^2: 0.8007\n",
      " Test Error: loss: 43375345664.000000, R^2: 0.8270\n",
      "\n",
      "Epoch 50\n",
      "--------------------------------\n",
      "Train Error: loss: 42650644480.000000, R^2: 0.8073\n",
      " Test Error: loss: 42830147584.000000, R^2: 0.8291\n",
      "\n",
      "CPU times: total: 14.3 s\n",
      "Wall time: 15.3 s\n"
     ]
    }
   ],
   "source": [
    "%%time\n",
    "\n",
    "train_losses, train_r2s, test_losses, test_r2s = common_train(\n",
    "    epochs=50,\n",
    "    model=net,\n",
    "    loss_fn=loss_fn,\n",
    "    optimizer=optimizer,\n",
    "    train_dataloader=train_dataloader,\n",
    "    test_dataloader=test_dataloader,\n",
    "    device=DEVICE,\n",
    ")"
   ],
   "metadata": {
    "collapsed": false
   }
  },
  {
   "cell_type": "markdown",
   "source": [
    "## Оценка и выводы"
   ],
   "metadata": {
    "collapsed": false
   }
  },
  {
   "cell_type": "code",
   "execution_count": 169,
   "outputs": [
    {
     "data": {
      "text/plain": "<Figure size 600x700 with 2 Axes>",
      "image/png": "[encoded data removed]"
     },
     "metadata": {},
     "output_type": "display_data"
    }
   ],
   "source": [
    "plot_train_test(train_losses[5:], train_r2s[5:], test_losses[5:], test_r2s[5:])"
   ],
   "metadata": {
    "collapsed": false
   }
  },
  {
   "cell_type": "code",
   "execution_count": 170,
   "outputs": [
    {
     "name": "stdout",
     "output_type": "stream",
     "text": [
      "  R^2: 0.829138\n",
      "  MSE: 42830147584.000000\n",
      " RMSE: 206954.453125\n",
      "  MAE: 111268.257812\n",
      " MAPE: 0.254877\n",
      "RMSLE: 0.311414\n"
     ]
    }
   ],
   "source": [
    "y_true, y_pred = get_y_true_y_pred(net, test_dataloader, DEVICE)\n",
    "\n",
    "r2 = metrics.r2_score(y_true, y_pred)\n",
    "mse = metrics.mean_squared_error(y_true, y_pred)  # тоже самое что и nn.MSELoss\n",
    "rmse = np.sqrt(mse)\n",
    "mae = metrics.mean_absolute_error(y_true, y_pred)\n",
    "mape = metrics.mean_absolute_percentage_error(y_true, y_pred)\n",
    "rmsle = np.sqrt(metrics.mean_squared_log_error(y_true, y_pred))\n",
    "print(f\"  R^2: {r2:.6f}\")\n",
    "print(f\"  MSE: {mse:.6f}\")\n",
    "print(f\" RMSE: {rmse:.6f}\")\n",
    "print(f\"  MAE: {mae:.6f}\")\n",
    "print(f\" MAPE: {mape:.6f}\")\n",
    "print(f\"RMSLE: {rmsle:.6f}\")"
   ],
   "metadata": {
    "collapsed": false
   }
  },
  {
   "cell_type": "code",
   "execution_count": 171,
   "outputs": [
    {
     "data": {
      "text/plain": "<Figure size 800x400 with 1 Axes>",
      "image/png": "[encoded data removed]"
     },
     "metadata": {},
     "output_type": "display_data"
    }
   ],
   "source": [
    "plot_y_true_y_pred(y_true[:100], y_pred[:100])"
   ],
   "metadata": {
    "collapsed": false
   }
  },
  {
   "cell_type": "code",
   "execution_count": 172,
   "outputs": [
    {
     "name": "stdout",
     "output_type": "stream",
     "text": [
      "Input:   tensor([ 0.3620, -0.2534,  1.0000,  1.0000,  1.0000,  0.0000, 13.0000, -0.4365,\n",
      "        -0.4454])\n",
      "Target:  475000.000000\n",
      "Predict: 477467.250000\n",
      "\n",
      "Input:   tensor([ 3.6199e-01, -6.3869e-02,  1.0000e+00,  1.0000e+00,  1.0000e+00,\n",
      "         0.0000e+00,  8.8000e+01, -4.8667e-01,  3.6207e+00])\n",
      "Target:  425000.000000\n",
      "Predict: 621837.187500\n",
      "\n",
      "Input:   tensor([-1.4383,  0.5048,  1.0000,  1.0000,  1.0000,  2.0000, 13.0000, -0.4051,\n",
      "        -0.4454])\n",
      "Target:  260000.000000\n",
      "Predict: 179213.062500\n",
      "\n",
      "Input:   tensor([ 1.1335, -0.3482,  3.0000,  1.0000,  0.0000,  0.0000, 41.0000,  1.0473,\n",
      "        -0.4454])\n",
      "Target:  1380000.000000\n",
      "Predict: 909775.437500\n",
      "\n",
      "Input:   tensor([-4.0102e+00, -6.3869e-02,  3.0000e+00,  1.0000e+00,  1.0000e+00,\n",
      "         2.0000e+00,  1.1100e+02, -1.5972e+00, -1.4619e+00])\n",
      "Target:  40000.000000\n",
      "Predict: 80341.929688\n",
      "\n"
     ]
    }
   ],
   "source": [
    "net.eval()\n",
    "for i in torch.randperm(len(test_dataset))[:5]:\n",
    "    x, y = test_dataset[i]\n",
    "    print_y_true_y_pred(x, y, net, DEVICE)"
   ],
   "metadata": {
    "collapsed": false
   }
  }
 ],
 "metadata": {
  "kernelspec": {
   "display_name": "Python 3",
   "language": "python",
   "name": "python3"
  },
  "language_info": {
   "codemirror_mode": {
    "name": "ipython",
    "version": 2
   },
   "file_extension": ".py",
   "mimetype": "text/x-python",
   "name": "python",
   "nbconvert_exporter": "python",
   "pygments_lexer": "ipython2",
   "version": "2.7.6"
  }
 },
 "nbformat": 4,
 "nbformat_minor": 0
}
