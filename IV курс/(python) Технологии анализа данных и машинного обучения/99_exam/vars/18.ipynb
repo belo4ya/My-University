{
 "cells": [
  {
   "cell_type": "markdown",
   "source": [
    "# Билет 18"
   ],
   "metadata": {
    "collapsed": false
   }
  },
  {
   "cell_type": "markdown",
   "source": [
    "## Номер 3"
   ],
   "metadata": {
    "collapsed": false
   }
  },
  {
   "cell_type": "code",
   "execution_count": 1,
   "outputs": [],
   "source": [
    "import matplotlib.pyplot as plt\n",
    "import torch"
   ],
   "metadata": {
    "collapsed": false
   }
  },
  {
   "cell_type": "code",
   "execution_count": 2,
   "outputs": [
    {
     "data": {
      "text/plain": "<Figure size 640x480 with 1 Axes>",
      "image/png": "[encoded data removed]"
     },
     "metadata": {},
     "output_type": "display_data"
    }
   ],
   "source": [
    "def f(x: torch.Tensor) -> torch.Tensor:\n",
    "    return (x * x - 25 * x + 10) / x\n",
    "\n",
    "\n",
    "X = torch.arange(0.5, 24 + 0.001, 0.001)\n",
    "Y = f(X)\n",
    "plt.plot(X.detach(), Y.detach());"
   ],
   "metadata": {
    "collapsed": false
   }
  },
  {
   "cell_type": "code",
   "execution_count": 3,
   "outputs": [],
   "source": [
    "# 20 - можно выбрать любое другое число из интервала\n",
    "x = torch.tensor(20, dtype=torch.float, requires_grad=True)\n",
    "\n",
    "history = []\n",
    "while True:\n",
    "    history.append(x.detach().clone())\n",
    "    y = f(x)\n",
    "    y.backward()\n",
    "    grad = x.grad.clone()\n",
    "    x.grad.zero_()\n",
    "    with torch.no_grad():\n",
    "        x -= 0.01 * grad  # простой градиентный спуск c lr=0.01\n",
    "        if torch.abs(x - history[-1]) <= 0.000001:  # точность поиска\n",
    "            history.append(x.detach().clone())\n",
    "            break"
   ],
   "metadata": {
    "collapsed": false
   }
  },
  {
   "cell_type": "code",
   "execution_count": null,
   "outputs": [
    {
     "name": "stdout",
     "output_type": "stream",
     "text": [
      "[tensor(20.), tensor(19.5128), tensor(19.0263), tensor(18.5404), tensor(18.0554), tensor(17.5711), tensor(17.0878), tensor(16.6054), tensor(16.1240), tensor(15.6438), tensor(15.1649), tensor(14.6873), tensor(14.2113), tensor(13.7369), tensor(13.2643), tensor(12.7937), tensor(12.3254), tensor(11.8596), tensor(11.3966), tensor(10.9367), tensor(10.4802), tensor(10.0278), tensor(9.5798), tensor(9.1369), tensor(8.6997), tensor(8.2691), tensor(7.8461), tensor(7.4318), tensor(7.0275), tensor(6.6346), tensor(6.2550), tensor(5.8906), tensor(5.5436), tensor(5.2164), tensor(4.9115), tensor(4.6312), tensor(4.3778), tensor(4.1529), tensor(3.9572), tensor(3.7906), tensor(3.6520), tensor(3.5390), tensor(3.4489), tensor(3.3782), tensor(3.3237), tensor(3.2822), tensor(3.2509), tensor(3.2276), tensor(3.2102), tensor(3.1974), tensor(3.1880), tensor(3.1810), tensor(3.1760), tensor(3.1723), tensor(3.1696), tensor(3.1676), tensor(3.1661), tensor(3.1651), tensor(3.1643), tensor(3.1638), tensor(3.1634), tensor(3.1631), tensor(3.1629), tensor(3.1627), tensor(3.1626), tensor(3.1625)]\n",
      "\n",
      "\n",
      "3.1624460220336914, -18.675443649291992\n"
     ]
    }
   ],
   "source": [
    "print(history[::50])\n",
    "x = history[-1]\n",
    "x, y = x.item(), f(x).item()\n",
    "print(f\"\\n\\n{x}, {y}\")\n",
    "plt.plot(X.detach(), Y.detach())\n",
    "plt.scatter(x, y, color=\"r\");"
   ],
   "metadata": {
    "collapsed": false,
    "pycharm": {
     "is_executing": true
    }
   }
  },
  {
   "cell_type": "markdown",
   "source": [
    "## Номер 2"
   ],
   "metadata": {
    "collapsed": false
   }
  },
  {
   "cell_type": "code",
   "execution_count": null,
   "outputs": [],
   "source": [
    "import matplotlib.pyplot as plt\n",
    "import pandas as pd\n",
    "import torch\n",
    "import torch.nn as nn\n",
    "import torch.optim as optim\n",
    "from sklearn import metrics\n",
    "from torch.utils.data import DataLoader, random_split\n",
    "from torchvision import transforms\n",
    "from torchvision.datasets import ImageFolder"
   ],
   "metadata": {
    "collapsed": false,
    "pycharm": {
     "is_executing": true
    }
   }
  },
  {
   "cell_type": "code",
   "execution_count": null,
   "outputs": [],
   "source": [
    "%matplotlib inline"
   ],
   "metadata": {
    "collapsed": false,
    "pycharm": {
     "is_executing": true
    }
   }
  },
  {
   "cell_type": "code",
   "execution_count": null,
   "outputs": [],
   "source": [
    "DEVICE = \"cuda\" if torch.cuda.is_available() else \"cpu\"\n",
    "print(f\"Using {DEVICE.upper()} device\")"
   ],
   "metadata": {
    "collapsed": false,
    "pycharm": {
     "is_executing": true
    }
   }
  },
  {
   "cell_type": "markdown",
   "source": [
    "Очень большие картинки в датасете, уменьшу до 100x100:"
   ],
   "metadata": {
    "collapsed": false
   }
  },
  {
   "cell_type": "code",
   "execution_count": null,
   "outputs": [],
   "source": [
    "transform = transforms.Compose([\n",
    "    transforms.Resize(size=(100, 100)),\n",
    "    transforms.ToTensor(),\n",
    "    transforms.Normalize(mean=(0.5, 0.5, 0.5), std=(0.5, 0.5, 0.5)),\n",
    "])\n",
    "dataset = ImageFolder(\"../data/images/chars\", transform=transform)\n",
    "\n",
    "vc = pd.value_counts(dataset.targets)\n",
    "vc.index = [dataset.classes[i] for i in vc.index]\n",
    "print(len(dataset))\n",
    "vc.plot.bar(rot=0);"
   ],
   "metadata": {
    "collapsed": false,
    "pycharm": {
     "is_executing": true
    }
   }
  },
  {
   "cell_type": "markdown",
   "source": [
    "Почти сбалансированная выборка"
   ],
   "metadata": {
    "collapsed": false
   }
  },
  {
   "cell_type": "code",
   "execution_count": null,
   "outputs": [],
   "source": [
    "_, axes = plt.subplots(4, 4, figsize=(6, 6))\n",
    "for i, ax in zip(torch.randperm(len(dataset)), axes.flatten()):\n",
    "    img, target = dataset[i]\n",
    "    ax.axis(\"off\")\n",
    "    ax.set_title(dataset.classes[target])\n",
    "    ax.imshow(img.permute(1, 2, 0))"
   ],
   "metadata": {
    "collapsed": false,
    "pycharm": {
     "is_executing": true
    }
   }
  },
  {
   "cell_type": "markdown",
   "source": [
    "Цвета поломались из-за нормализации, но суть картинок ясна - нужно решить задачу классификации - определить является ли фигурка LEGO персонажем из MARVEL или STAR-WARS"
   ],
   "metadata": {
    "collapsed": false
   }
  },
  {
   "cell_type": "markdown",
   "source": [
    "Разделение выборки на обучающую 80% и тестовую 20%:"
   ],
   "metadata": {
    "collapsed": false
   }
  },
  {
   "cell_type": "code",
   "execution_count": null,
   "outputs": [],
   "source": [
    "test_size = round(0.2 * len(dataset))\n",
    "train_size = len(dataset) - test_size\n",
    "train_dataset, test_dataset = random_split(dataset, lengths=(train_size, test_size))\n",
    "len(train_dataset), len(test_dataset)"
   ],
   "metadata": {
    "collapsed": false,
    "pycharm": {
     "is_executing": true
    }
   }
  },
  {
   "cell_type": "markdown",
   "source": [
    "Cверточная нейронная сеть: 3 сверточных слоя, 4 линейных, дропауты для борьбы с переобучением"
   ],
   "metadata": {
    "collapsed": false
   }
  },
  {
   "cell_type": "code",
   "execution_count": null,
   "outputs": [],
   "source": [
    "class CNNClassifier(nn.Module):\n",
    "\n",
    "    def __init__(self, num_channels: int, num_classes: int):\n",
    "        super().__init__()\n",
    "        self.features = nn.Sequential(\n",
    "            nn.Conv2d(in_channels=num_channels, out_channels=32, kernel_size=3, stride=1, padding=1),\n",
    "            nn.BatchNorm2d(32),\n",
    "            nn.ReLU(True),\n",
    "            nn.MaxPool2d(2),\n",
    "            nn.Conv2d(in_channels=32, out_channels=64, kernel_size=3, stride=1, padding=1),\n",
    "            nn.BatchNorm2d(64),\n",
    "            nn.ReLU(True),\n",
    "            nn.MaxPool2d(2),\n",
    "            nn.Conv2d(in_channels=64, out_channels=64, kernel_size=3, stride=1, padding=1),\n",
    "            nn.BatchNorm2d(64),\n",
    "            nn.ReLU(True),\n",
    "            nn.MaxPool2d(2),\n",
    "        )\n",
    "        self.avgpool = nn.AdaptiveAvgPool2d((8, 8))\n",
    "        self.classifier = nn.Sequential(\n",
    "            nn.Linear(64 * 8 * 8, 512),\n",
    "            nn.ReLU(True),\n",
    "            nn.Dropout(0.5),\n",
    "            nn.Linear(512, 512),\n",
    "            nn.ReLU(True),\n",
    "            nn.Dropout(0.5),\n",
    "            nn.Linear(512, 512),\n",
    "            nn.ReLU(True),\n",
    "            nn.Dropout(0.5),\n",
    "            nn.Linear(512, num_classes),\n",
    "        )\n",
    "\n",
    "    def forward(self, x):\n",
    "        x = self.features(x)\n",
    "        x = self.avgpool(x)\n",
    "        x = torch.flatten(x, 1)\n",
    "        return self.classifier(x)"
   ],
   "metadata": {
    "collapsed": false,
    "pycharm": {
     "is_executing": true
    }
   }
  },
  {
   "cell_type": "code",
   "execution_count": null,
   "outputs": [],
   "source": [
    "def get_weights(targets: torch.Tensor) -> torch.Tensor:\n",
    "    _, counts = targets.unique(return_counts=True)\n",
    "    return counts.max() / counts\n",
    "\n",
    "\n",
    "net = CNNClassifier(\n",
    "    num_channels=train_dataset[0][0].size(0),\n",
    "    num_classes=len(dataset.classes),\n",
    ").to(DEVICE)\n",
    "weights = get_weights(torch.tensor([target for _, target in train_dataset], device=DEVICE))\n",
    "loss_fn = nn.CrossEntropyLoss(weight=weights)\n",
    "optimizer = optim.Adam(net.parameters(), lr=0.00015)\n",
    "\n",
    "train_dataloader = DataLoader(train_dataset, batch_size=16, shuffle=True)\n",
    "test_dataloader = DataLoader(test_dataset, batch_size=len(test_dataset))\n",
    "\n",
    "net"
   ],
   "metadata": {
    "collapsed": false,
    "pycharm": {
     "is_executing": true
    }
   }
  },
  {
   "cell_type": "code",
   "execution_count": null,
   "outputs": [],
   "source": [
    "@torch.no_grad()\n",
    "def test_loop(dataloader, model, loss_fn):\n",
    "    model.eval()\n",
    "    y_true, y_pred = get_y_true_y_pred(model, dataloader)\n",
    "    return loss_fn(y_pred, y_true).item(), metrics.accuracy_score(y_true.cpu(), y_pred.argmax(1).cpu())\n",
    "\n",
    "\n",
    "@torch.no_grad()\n",
    "def get_y_true_y_pred(model, dataloader):\n",
    "    model.eval()\n",
    "    y_test = []\n",
    "    y_pred = []\n",
    "    for x, y in dataloader:\n",
    "        x, y = x.to(DEVICE), y.to(DEVICE)\n",
    "        pred = model(x)\n",
    "        y_test.append(y.unsqueeze(1))\n",
    "        y_pred.append(pred)\n",
    "\n",
    "    return torch.flatten(torch.vstack(y_test)), torch.vstack(y_pred)"
   ],
   "metadata": {
    "collapsed": false,
    "pycharm": {
     "is_executing": true
    }
   }
  },
  {
   "cell_type": "code",
   "execution_count": null,
   "outputs": [],
   "source": [
    "train_losses, train_accuracy_list = [], []\n",
    "test_losses, test_accuracy_list = [], []\n",
    "for epoch in range(19):\n",
    "    print(f\"Epoch {epoch + 1}\\n\" + \"-\" * 32)\n",
    "\n",
    "    # ============ TRAIN ============\n",
    "    net.train()\n",
    "    size = len(train_dataloader.dataset)\n",
    "    num_batches = len(train_dataloader)\n",
    "    avg_loss, avg_accuracy = 0, 0\n",
    "    for batch, (x, y) in enumerate(train_dataloader):\n",
    "        x, y = x.to(DEVICE), y.to(DEVICE)\n",
    "        pred = net(x)\n",
    "        loss = loss_fn(pred, y)\n",
    "        optimizer.zero_grad()\n",
    "        loss.backward()\n",
    "        optimizer.step()\n",
    "        y_true = torch.flatten(y).detach().cpu()\n",
    "        y_pred = torch.flatten(pred.argmax(1)).detach().cpu()\n",
    "        accuracy = metrics.accuracy_score(y_true, y_pred)\n",
    "        avg_loss += loss\n",
    "        avg_accuracy += accuracy\n",
    "    train_loss, train_accuracy = (avg_loss / num_batches).item(), avg_accuracy / num_batches\n",
    "    print(f\"Train: loss={train_loss:.6f}, accuracy={train_accuracy:.4f}\")\n",
    "    train_losses.append(train_loss)\n",
    "    train_accuracy_list.append(train_accuracy)\n",
    "\n",
    "    # ============ TEST ============\n",
    "    test_loss, test_accuracy = test_loop(test_dataloader, net, loss_fn)\n",
    "    print(f\"Test: loss={test_loss:.6f}, accuracy={test_accuracy:.4f}\\n\")\n",
    "    test_losses.append(test_loss)\n",
    "    test_accuracy_list.append(test_accuracy)"
   ],
   "metadata": {
    "collapsed": false,
    "pycharm": {
     "is_executing": true
    }
   }
  },
  {
   "cell_type": "code",
   "execution_count": null,
   "outputs": [],
   "source": [
    "_, axes = plt.subplots(1, 2, figsize=(10, 4))\n",
    "epochs = torch.arange(len(train_losses))\n",
    "\n",
    "axes[0].plot(epochs, train_losses)\n",
    "axes[0].plot(epochs, test_losses)\n",
    "axes[0].set_xlabel(\"epoch\")\n",
    "axes[0].set_ylabel(\"loss\")\n",
    "axes[0].legend([\"train\", \"test\"])\n",
    "\n",
    "axes[1].plot(epochs, train_accuracy_list)\n",
    "axes[1].plot(epochs, test_accuracy_list)\n",
    "axes[1].set_xlabel(\"epoch\")\n",
    "axes[1].set_ylabel(\"accuracy\");"
   ],
   "metadata": {
    "collapsed": false,
    "pycharm": {
     "is_executing": true
    }
   }
  },
  {
   "cell_type": "markdown",
   "source": [
    "По графику видна большая дисперсия в батчах данных и начало переобучения модели"
   ],
   "metadata": {
    "collapsed": false
   }
  },
  {
   "cell_type": "code",
   "execution_count": null,
   "outputs": [],
   "source": [
    "y_true, y_pred = get_y_true_y_pred(net, test_dataloader)\n",
    "y_true, y_pred = y_true.cpu(), y_pred.argmax(1).cpu()\n",
    "\n",
    "cm_display = metrics.ConfusionMatrixDisplay.from_predictions(\n",
    "    y_true,\n",
    "    y_pred,\n",
    "    display_labels=dataset.classes,\n",
    "    colorbar=False,\n",
    "    xticks_rotation=0,\n",
    ")\n",
    "cm_display.ax_.grid(False)\n",
    "cm_display.figure_.set_size_inches(3.5, 3.5)\n",
    "\n",
    "print(metrics.classification_report(y_true, y_pred, target_names=dataset.classes, zero_division=True))"
   ],
   "metadata": {
    "collapsed": false,
    "pycharm": {
     "is_executing": true
    }
   }
  },
  {
   "cell_type": "markdown",
   "source": [
    "Модель хорошего качества несмотря на небольшое количество примеров."
   ],
   "metadata": {
    "collapsed": false
   }
  }
 ],
 "metadata": {
  "kernelspec": {
   "display_name": "Python 3",
   "language": "python",
   "name": "python3"
  },
  "language_info": {
   "codemirror_mode": {
    "name": "ipython",
    "version": 2
   },
   "file_extension": ".py",
   "mimetype": "text/x-python",
   "name": "python",
   "nbconvert_exporter": "python",
   "pygments_lexer": "ipython2",
   "version": "2.7.6"
  }
 },
 "nbformat": 4,
 "nbformat_minor": 0
}
