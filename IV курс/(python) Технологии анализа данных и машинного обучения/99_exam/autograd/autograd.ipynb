{
 "cells": [
  {
   "cell_type": "code",
   "execution_count": 1,
   "outputs": [],
   "source": [
    "import typing as t\n",
    "import random\n",
    "\n",
    "import matplotlib.animation as animation\n",
    "import matplotlib.pyplot as plt\n",
    "import seaborn as sns\n",
    "import torch\n",
    "import torch.optim as optim\n",
    "from tqdm import tqdm"
   ],
   "metadata": {
    "collapsed": false
   }
  },
  {
   "cell_type": "code",
   "execution_count": 2,
   "outputs": [],
   "source": [
    "# @formatter:off\n",
    "%matplotlib inline\n",
    "# @formatter:on"
   ],
   "metadata": {
    "collapsed": false
   }
  },
  {
   "cell_type": "code",
   "execution_count": 3,
   "outputs": [],
   "source": [
    "torch.set_warn_always(True)\n",
    "\n",
    "sns.set_theme()\n",
    "plt.rcParams[\"figure.figsize\"] = (3.5, 2.5)"
   ],
   "metadata": {
    "collapsed": false
   }
  },
  {
   "cell_type": "markdown",
   "source": [
    "## Вспомогательные функции"
   ],
   "metadata": {
    "collapsed": false
   }
  },
  {
   "cell_type": "code",
   "execution_count": 4,
   "outputs": [],
   "source": [
    "SignT = t.Literal[-1, 1]  # 1 - max, -1 - min\n",
    "FuncT = t.Callable[[torch.Tensor], torch.Tensor]\n",
    "\n",
    "\n",
    "def sign_func(func: FuncT, sign: SignT) -> FuncT:\n",
    "    return lambda x: -sign * func(x)\n",
    "\n",
    "\n",
    "def save_animation(xs: t.List[torch.Tensor], path: str, limit: int = 500, delay: int = 30) -> None:\n",
    "    xs_ = xs.copy()\n",
    "    delayed = xs_[-1]\n",
    "    if len(xs_) > limit:\n",
    "        xs_ = xs_[::len(xs_) // limit]\n",
    "    for i in range(delay):\n",
    "        xs_.append(delayed)\n",
    "\n",
    "    with tqdm(total=len(xs_) + 1) as pbar:\n",
    "        def animate(i):\n",
    "            scatter.set_data(xs_[i].detach(), f(xs_[i]).detach())\n",
    "            pbar.update()\n",
    "\n",
    "        fig, ax = plt.subplots(1, 1)\n",
    "        ax.plot(X.detach(), Y.detach())\n",
    "        scatter, = ax.plot([], [], marker=\"o\", color=\"r\")\n",
    "        anim = animation.FuncAnimation(fig, animate, interval=1, frames=len(xs_))\n",
    "        anim.save(path, writer=\"pillow\", fps=20)\n",
    "        plt.close()\n",
    "\n",
    "\n",
    "def answer(x: torch.Tensor, sign: SignT, reason: str) -> None:\n",
    "    extrema = \"минимум\" if sign == -1 else \"максимум\"\n",
    "    if torch.isnan(x):\n",
    "        print(f\"Локальный {extrema} не найден\")\n",
    "    else:\n",
    "        x, y = x.item(), f(x).item()\n",
    "        print(f\"Найден локальный {extrema}: {x=:5f}, f(x)={y:5f}\")\n",
    "        plt.plot(X.detach(), Y.detach())\n",
    "        plt.scatter(x, y, color=\"r\")\n",
    "    print(f\"Причина остановки: {reason}\")"
   ],
   "metadata": {
    "collapsed": false
   }
  },
  {
   "cell_type": "markdown",
   "source": [
    "## Методы оптимизации"
   ],
   "metadata": {
    "collapsed": false
   }
  },
  {
   "cell_type": "code",
   "execution_count": 5,
   "outputs": [],
   "source": [
    "def gradient_descent(\n",
    "        func: FuncT,\n",
    "        interval: t.Tuple[float, float],\n",
    "        sign: SignT,\n",
    "        eps: float,\n",
    "        lr: float,\n",
    "        initial_state: float = None,\n",
    ") -> t.Tuple[torch.Tensor, t.List[torch.Tensor], str]:\n",
    "    \"\"\"Градиентный спуск\"\"\"\n",
    "    sign_f = sign_func(func, sign)\n",
    "    start, end = interval\n",
    "    if initial_state is None:\n",
    "        initial_state = random.uniform(start, end)\n",
    "    elif initial_state < start or initial_state > end:\n",
    "        return torch.tensor(torch.nan), [torch.tensor(torch.nan)], \"initial_state вне интервала\"\n",
    "\n",
    "    interval_eps = lr * (end - start)  # наивное расширение границ интервала\n",
    "    adj_start, adj_end = start - interval_eps, end + interval_eps\n",
    "\n",
    "    x = torch.tensor(initial_state, dtype=torch.float, requires_grad=True)\n",
    "    if torch.isnan(sign_f(x)):\n",
    "        return torch.tensor(torch.nan), [torch.tensor(torch.nan)], f\"f(initial_state={initial_state:.4f}) не определена\"\n",
    "\n",
    "    i, n = 0, 1000\n",
    "    with tqdm() as pbar:\n",
    "        xs = []\n",
    "        while True:\n",
    "            xs.append(x.detach().clone())  # выполнится минимум 2 раза\n",
    "\n",
    "            if not adj_start <= x <= adj_end:  # вышли за границу дальше дозволенного\n",
    "                # искомый экстремум - предыдущая позиция или одна из границ\n",
    "                start_t, end_t = torch.tensor(start), torch.tensor(end)\n",
    "                if start <= xs[-2] <= end:\n",
    "                    _, x = min((sign_f(xs[-2]), xs[-2]), (sign_f(start_t), start_t), (sign_f(end_t), end_t))\n",
    "                else:\n",
    "                    _, x = min((sign_f(start_t), start_t), (sign_f(end_t), end_t))\n",
    "                xs.append(x.detach().clone())\n",
    "                return xs[-1], xs, \"выход за границы интервала\"\n",
    "\n",
    "            y = sign_f(x)\n",
    "            if torch.isnan(y):\n",
    "                xs.pop()\n",
    "                return xs[-1], xs, f\"функция для следующего x={x.item():.4f} не определена\"\n",
    "\n",
    "            # а эти 3 строчки про \"возможности по автоматическому дифференцированию, которые предоставляет PyTorch\"\n",
    "            y.backward()\n",
    "            grad = x.grad.clone()\n",
    "            x.grad.zero_()\n",
    "\n",
    "            with torch.no_grad():\n",
    "                x -= lr * grad  # ладно, это 4-ая\n",
    "                if torch.abs(x - xs[-1]) <= eps:  # найден экстремум с необходимой точностью\n",
    "                    xs.append(x.detach().clone())\n",
    "                    return xs[-1], xs, \"найден экстремум\"\n",
    "\n",
    "            if i % n == 0:\n",
    "                pbar.update(n)\n",
    "            i += 1\n",
    "\n",
    "\n",
    "def thnx_optimizer(\n",
    "        get_optimizer: t.Callable[[torch.Tensor], optim.Optimizer],\n",
    "        func: FuncT,\n",
    "        interval: t.Tuple[float, float],\n",
    "        sign: SignT,\n",
    "        eps: float,\n",
    "        initial_state: float = None,\n",
    ") -> t.Tuple[torch.Tensor, t.List[torch.Tensor], str]:\n",
    "    \"\"\"Произвольный оптимизатор\"\"\"\n",
    "    sign_f = sign_func(func, sign)\n",
    "    start, end = interval\n",
    "    if initial_state is None:\n",
    "        initial_state = random.uniform(start, end)\n",
    "    elif initial_state < start or initial_state > end:\n",
    "        return torch.tensor(torch.nan), [torch.tensor(torch.nan)], \"initial_state вне интервала\"\n",
    "\n",
    "    x = torch.tensor(initial_state, dtype=torch.float, requires_grad=True)\n",
    "    if torch.isnan(sign_f(x)):\n",
    "        return torch.tensor(torch.nan), [torch.tensor(torch.nan)], f\"f(initial_state={initial_state:.4f}) не определена\"\n",
    "\n",
    "    optimizer = get_optimizer(x)\n",
    "    lr = optimizer.param_groups[0][\"lr\"]\n",
    "\n",
    "    interval_eps = lr * (end - start)  # наивное расширение границ интервала\n",
    "    adj_start, adj_end = start - interval_eps, end + interval_eps\n",
    "\n",
    "    i, n = 0, 1000\n",
    "    with tqdm() as pbar:\n",
    "        xs = []\n",
    "        while True:\n",
    "            xs.append(x.detach().clone())  # выполнится минимум 2 раза\n",
    "\n",
    "            if not adj_start <= x <= adj_end:  # вышли за границу дальше дозволенного\n",
    "                # искомый экстремум - предыдущая позиция или одна из границ\n",
    "                start_t, end_t = torch.tensor(start), torch.tensor(end)\n",
    "                if start <= xs[-2] <= end:\n",
    "                    _, x = min((sign_f(xs[-2]), xs[-2]), (sign_f(start_t), start_t), (sign_f(end_t), end_t))\n",
    "                else:\n",
    "                    _, x = min((sign_f(start_t), start_t), (sign_f(end_t), end_t))\n",
    "                xs.append(x.detach().clone())\n",
    "                return xs[-1], xs, \"выход за границы интервала\"\n",
    "\n",
    "            y = sign_f(x)\n",
    "            if torch.isnan(y):\n",
    "                xs.pop()\n",
    "                return xs[-1], xs, f\"функция для следующего x={x.item():.4f} не определена\"\n",
    "\n",
    "            # здесь точно 3 строчки\n",
    "            optimizer.zero_grad()\n",
    "            y.backward()\n",
    "            optimizer.step()\n",
    "\n",
    "            if torch.abs(x - xs[-1]) <= eps:  # найден экстремум с необходимой точностью\n",
    "                xs.append(x.detach().clone())\n",
    "                return xs[-1], xs, \"найден экстремум\"\n",
    "\n",
    "            if i % n == 0:\n",
    "                pbar.update(n)\n",
    "            i += 1"
   ],
   "metadata": {
    "collapsed": false
   }
  },
  {
   "cell_type": "markdown",
   "source": [
    "## Шаблон: градиентный спуск"
   ],
   "metadata": {
    "collapsed": false
   }
  },
  {
   "cell_type": "code",
   "execution_count": 6,
   "outputs": [
    {
     "data": {
      "text/plain": "<Figure size 350x250 with 1 Axes>",
      "image/png": "[encoded data removed]"
     },
     "metadata": {},
     "output_type": "display_data"
    }
   ],
   "source": [
    "def f(x: torch.Tensor) -> torch.Tensor:\n",
    "    return x ** 2\n",
    "\n",
    "\n",
    "SIGN = -1  # 1 - max, -1 - min\n",
    "\n",
    "START, END = -10, 10\n",
    "EPS = 0.0000001\n",
    "LR = 0.05\n",
    "\n",
    "X = torch.arange(START, END + 0.001, 0.001)\n",
    "Y = f(X)\n",
    "plt.plot(X.detach(), Y.detach());"
   ],
   "metadata": {
    "collapsed": false
   }
  },
  {
   "cell_type": "code",
   "execution_count": 7,
   "outputs": [
    {
     "name": "stderr",
     "output_type": "stream",
     "text": [
      "1000it [00:00, 3411.70it/s]\n"
     ]
    },
    {
     "name": "stdout",
     "output_type": "stream",
     "text": [
      "Найден локальный минимум: x=-0.000001, f(x)=0.000000\n",
      "Причина остановки: найден экстремум\n"
     ]
    },
    {
     "data": {
      "text/plain": "<Figure size 350x250 with 1 Axes>",
      "image/png": "[encoded data removed]"
     },
     "metadata": {},
     "output_type": "display_data"
    }
   ],
   "source": [
    "x, xs, reason = gradient_descent(func=f, interval=(START, END), sign=SIGN, eps=EPS, lr=LR, initial_state=-10)\n",
    "answer(x, SIGN, reason)"
   ],
   "metadata": {
    "collapsed": false
   }
  },
  {
   "cell_type": "code",
   "execution_count": 8,
   "outputs": [
    {
     "name": "stderr",
     "output_type": "stream",
     "text": [
      "100%|██████████| 166/166 [00:10<00:00, 16.23it/s]\n"
     ]
    }
   ],
   "source": [
    "save_animation(xs, \"template_1.gif\", delay=10)"
   ],
   "metadata": {
    "collapsed": false
   }
  },
  {
   "cell_type": "markdown",
   "source": [
    "![](template_1.gif)"
   ],
   "metadata": {
    "collapsed": false
   }
  },
  {
   "cell_type": "markdown",
   "source": [
    "## Шаблон: произвольный оптимизатор"
   ],
   "metadata": {
    "collapsed": false
   }
  },
  {
   "cell_type": "code",
   "execution_count": 9,
   "outputs": [
    {
     "data": {
      "text/plain": "<Figure size 350x250 with 1 Axes>",
      "image/png": "[encoded data removed]"
     },
     "metadata": {},
     "output_type": "display_data"
    }
   ],
   "source": [
    "def f(x: torch.Tensor) -> torch.Tensor:\n",
    "    return x ** 2\n",
    "\n",
    "\n",
    "SIGN = -1  # 1 - max, -1 - min\n",
    "\n",
    "START, END = -10, 10\n",
    "EPS = 0.0000001\n",
    "LR = 0.05\n",
    "\n",
    "X = torch.arange(START, END + 0.001, 0.001)\n",
    "Y = f(X)\n",
    "plt.plot(X.detach(), Y.detach());"
   ],
   "metadata": {
    "collapsed": false
   }
  },
  {
   "cell_type": "code",
   "execution_count": 10,
   "outputs": [
    {
     "name": "stderr",
     "output_type": "stream",
     "text": [
      "1000it [00:00, 1818.28it/s]\n"
     ]
    },
    {
     "name": "stdout",
     "output_type": "stream",
     "text": [
      "Найден локальный минимум: x=-0.000003, f(x)=0.000000\n",
      "Причина остановки: найден экстремум\n"
     ]
    },
    {
     "data": {
      "text/plain": "<Figure size 350x250 with 1 Axes>",
      "image/png": "[encoded data removed]"
     },
     "metadata": {},
     "output_type": "display_data"
    }
   ],
   "source": [
    "x, xs, reason = thnx_optimizer(\n",
    "    get_optimizer=lambda x: optim.Adam([x], lr=LR),\n",
    "    func=f,\n",
    "    interval=(START, END),\n",
    "    sign=SIGN,\n",
    "    eps=EPS,\n",
    "    initial_state=-10,\n",
    ")\n",
    "answer(x, SIGN, reason)"
   ],
   "metadata": {
    "collapsed": false
   }
  },
  {
   "cell_type": "code",
   "execution_count": 11,
   "outputs": [
    {
     "name": "stderr",
     "output_type": "stream",
     "text": [
      "100%|██████████| 479/479 [00:29<00:00, 16.09it/s]\n"
     ]
    }
   ],
   "source": [
    "save_animation(xs, \"template_2.gif\", limit=400, delay=10)"
   ],
   "metadata": {
    "collapsed": false
   }
  },
  {
   "cell_type": "markdown",
   "source": [
    "![](template_2.gif)"
   ],
   "metadata": {
    "collapsed": false
   }
  },
  {
   "cell_type": "markdown",
   "source": [
    "## Билеты"
   ],
   "metadata": {
    "collapsed": false
   }
  },
  {
   "cell_type": "markdown",
   "source": [
    "### Билет №1\n",
    "\n",
    "При помощи возможностей по автоматическому дифференцированию, которые предоставляет библиотека PyTorch, найдите минимум функции $ y=ln(x^2+10x+10) $ на отрезке \\[-10, 10]. Реализуйте процесс поиска экстремума таким образом, чтобы при нахождении точки экстремума процедура поиска останавливалась. Продемонстрируйте процесс оптимизации. Изобразите график функции y(x) на заданном отрезке."
   ],
   "metadata": {
    "collapsed": false
   }
  },
  {
   "cell_type": "code",
   "execution_count": 12,
   "outputs": [
    {
     "data": {
      "text/plain": "<Figure size 350x250 with 1 Axes>",
      "image/png": "[encoded data removed]"
     },
     "metadata": {},
     "output_type": "display_data"
    }
   ],
   "source": [
    "def f(x: torch.Tensor) -> torch.Tensor:\n",
    "    return torch.log(x ** 2 + 10 * x + 10)\n",
    "\n",
    "\n",
    "SIGN = -1  # 1 - max, -1 - min\n",
    "\n",
    "START, END = -10, 10\n",
    "EPS = 0.0000001\n",
    "LR = 0.00005\n",
    "\n",
    "X = torch.arange(START, END + 0.001, 0.001)\n",
    "Y = f(X)\n",
    "plt.plot(X.detach(), Y.detach());"
   ],
   "metadata": {
    "collapsed": false
   }
  },
  {
   "cell_type": "code",
   "execution_count": 13,
   "outputs": [
    {
     "name": "stderr",
     "output_type": "stream",
     "text": [
      "72000it [00:25, 2786.55it/s]\n"
     ]
    },
    {
     "name": "stdout",
     "output_type": "stream",
     "text": [
      "Найден локальный минимум: x=-1.122556, f(x)=-3.364694\n",
      "Причина остановки: функция для следующего x=-1.1338 не определена\n"
     ]
    },
    {
     "data": {
      "text/plain": "<Figure size 350x250 with 1 Axes>",
      "image/png": "[encoded data removed]"
     },
     "metadata": {},
     "output_type": "display_data"
    }
   ],
   "source": [
    "x, xs, reason = gradient_descent(func=f, interval=(START, END), sign=SIGN, eps=EPS, lr=LR, initial_state=1.8)\n",
    "answer(x, SIGN, reason)"
   ],
   "metadata": {
    "collapsed": false
   }
  },
  {
   "cell_type": "code",
   "execution_count": null,
   "outputs": [
    {
     "name": "stderr",
     "output_type": "stream",
     "text": [
      " 53%|█████▎    | 283/533 [00:15<00:12, 20.42it/s]"
     ]
    }
   ],
   "source": [
    "save_animation(xs, \"optimization_1.gif\")"
   ],
   "metadata": {
    "collapsed": false,
    "pycharm": {
     "is_executing": true
    }
   }
  },
  {
   "cell_type": "markdown",
   "source": [
    "![](optimization_1.gif)"
   ],
   "metadata": {
    "collapsed": false
   }
  },
  {
   "cell_type": "markdown",
   "source": [
    "### Билет №2\n",
    "\n",
    "При помощи возможностей по автоматическому дифференцированию, которые предоставляет библиотека PyTorch, найдите минимум функции $ y=x-5 ln(2x-1)+2 $ на отрезке \\[-10, 10]. Реализуйте процесс поиска экстремума таким образом, чтобы при нахождении точки экстремума процедура поиска останавливалась. Продемонстрируйте процесс оптимизации. Изобразите график функции y(x) на заданном отрезке."
   ],
   "metadata": {
    "collapsed": false
   }
  },
  {
   "cell_type": "code",
   "execution_count": null,
   "outputs": [],
   "source": [
    "def f(x: torch.Tensor) -> torch.Tensor:\n",
    "    return x - 5 * torch.log(2 * x - 1) + 2\n",
    "\n",
    "\n",
    "SIGN = -1  # 1 - max, -1 - min\n",
    "\n",
    "START, END = -10, 10\n",
    "EPS = 0.000001\n",
    "LR = 0.001\n",
    "\n",
    "X = torch.arange(START, END + 0.001, 0.001)\n",
    "Y = f(X)\n",
    "plt.plot(X.detach(), Y.detach());"
   ],
   "metadata": {
    "collapsed": false,
    "pycharm": {
     "is_executing": true
    }
   }
  },
  {
   "cell_type": "code",
   "execution_count": null,
   "outputs": [],
   "source": [
    "x, xs, reason = gradient_descent(func=f, interval=(START, END), sign=SIGN, eps=EPS, lr=LR, initial_state=0.6)\n",
    "answer(x, SIGN, reason)"
   ],
   "metadata": {
    "collapsed": false,
    "pycharm": {
     "is_executing": true
    }
   }
  },
  {
   "cell_type": "code",
   "execution_count": null,
   "outputs": [],
   "source": [
    "save_animation(xs, \"optimization_2.gif\")"
   ],
   "metadata": {
    "collapsed": false,
    "pycharm": {
     "is_executing": true
    }
   }
  },
  {
   "cell_type": "markdown",
   "source": [
    "![](optimization_2.gif)"
   ],
   "metadata": {
    "collapsed": false
   }
  },
  {
   "cell_type": "markdown",
   "source": [
    "### Билет №3\n",
    "\n",
    "При помощи возможностей по автоматическому дифференцированию, которые предоставляет библиотека PyTorch, найдите минимум функции $ y=x^3-x+2 $ на отрезке \\[-10, 10]. Реализуйте процесс поиска экстремума таким образом, чтобы при нахождении точки экстремума процедура поиска останавливалась.  Продемонстрируйте процесс оптимизации. Изобразите график функции y(x) на заданном отрезке."
   ],
   "metadata": {
    "collapsed": false
   }
  },
  {
   "cell_type": "code",
   "execution_count": null,
   "outputs": [],
   "source": [
    "def f(x: torch.Tensor) -> torch.Tensor:\n",
    "    return x ** 3 - x + 2\n",
    "\n",
    "\n",
    "SIGN = -1  # 1 - max, -1 - min\n",
    "\n",
    "START, END = -10, 10\n",
    "EPS = 0.000001\n",
    "LR = 0.001\n",
    "\n",
    "X = torch.arange(START, END + 0.001, 0.001)\n",
    "Y = f(X)\n",
    "plt.plot(X.detach(), Y.detach());"
   ],
   "metadata": {
    "collapsed": false,
    "pycharm": {
     "is_executing": true
    }
   }
  },
  {
   "cell_type": "code",
   "execution_count": null,
   "outputs": [],
   "source": [
    "x, xs, reason = gradient_descent(func=f, interval=(START, END), sign=SIGN, eps=EPS, lr=LR, initial_state=9.1)\n",
    "answer(x, SIGN, reason)"
   ],
   "metadata": {
    "collapsed": false,
    "pycharm": {
     "is_executing": true
    }
   }
  },
  {
   "cell_type": "code",
   "execution_count": null,
   "outputs": [],
   "source": [
    "save_animation(xs, \"optimization_3_1.gif\")"
   ],
   "metadata": {
    "collapsed": false,
    "pycharm": {
     "is_executing": true
    }
   }
  },
  {
   "cell_type": "markdown",
   "source": [
    "![](optimization_3_1.gif)"
   ],
   "metadata": {
    "collapsed": false
   }
  },
  {
   "cell_type": "code",
   "execution_count": null,
   "outputs": [],
   "source": [
    "x, xs, reason = gradient_descent(func=f, interval=(START, END), sign=SIGN, eps=EPS, lr=LR, initial_state=-6)\n",
    "answer(x, SIGN, reason)"
   ],
   "metadata": {
    "collapsed": false,
    "pycharm": {
     "is_executing": true
    }
   }
  },
  {
   "cell_type": "code",
   "execution_count": null,
   "outputs": [],
   "source": [
    "save_animation(xs, \"optimization_3_2.gif\")"
   ],
   "metadata": {
    "collapsed": false,
    "pycharm": {
     "is_executing": true
    }
   }
  },
  {
   "cell_type": "markdown",
   "source": [
    "![](optimization_3_2.gif)"
   ],
   "metadata": {
    "collapsed": false
   }
  }
 ],
 "metadata": {
  "kernelspec": {
   "display_name": "Python 3",
   "language": "python",
   "name": "python3"
  },
  "language_info": {
   "codemirror_mode": {
    "name": "ipython",
    "version": 2
   },
   "file_extension": ".py",
   "mimetype": "text/x-python",
   "name": "python",
   "nbconvert_exporter": "python",
   "pygments_lexer": "ipython2",
   "version": "2.7.6"
  }
 },
 "nbformat": 4,
 "nbformat_minor": 0
}
