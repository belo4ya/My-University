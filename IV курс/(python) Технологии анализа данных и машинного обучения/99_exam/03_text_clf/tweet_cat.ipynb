{
 "cells": [
  {
   "cell_type": "code",
   "execution_count": 136,
   "metadata": {
    "collapsed": true
   },
   "outputs": [],
   "source": [
    "import re\n",
    "import typing as t\n",
    "from collections import defaultdict\n",
    "from pathlib import Path\n",
    "\n",
    "import matplotlib.pyplot as plt\n",
    "import nltk\n",
    "import pandas as pd\n",
    "import seaborn as sns\n",
    "import torch\n",
    "import torch.nn as nn\n",
    "import torch.optim as optim\n",
    "from nltk.corpus import wordnet, stopwords\n",
    "from sklearn import metrics\n",
    "from sklearn.model_selection import train_test_split\n",
    "from sklearn.preprocessing import LabelEncoder\n",
    "from torch.utils.data import Dataset, DataLoader\n",
    "from tqdm import tqdm"
   ]
  },
  {
   "cell_type": "code",
   "execution_count": 137,
   "outputs": [],
   "source": [
    "# @formatter:off\n",
    "%matplotlib inline\n",
    "# @formatter:on"
   ],
   "metadata": {
    "collapsed": false
   }
  },
  {
   "cell_type": "code",
   "execution_count": 138,
   "outputs": [
    {
     "name": "stderr",
     "output_type": "stream",
     "text": [
      "[nltk_data] Downloading package punkt to\n",
      "[nltk_data]     C:\\Users\\super\\AppData\\Roaming\\nltk_data...\n",
      "[nltk_data]   Package punkt is already up-to-date!\n",
      "[nltk_data] Downloading package stopwords to\n",
      "[nltk_data]     C:\\Users\\super\\AppData\\Roaming\\nltk_data...\n",
      "[nltk_data]   Package stopwords is already up-to-date!\n",
      "[nltk_data] Downloading package wordnet to\n",
      "[nltk_data]     C:\\Users\\super\\AppData\\Roaming\\nltk_data...\n",
      "[nltk_data]   Package wordnet is already up-to-date!\n",
      "[nltk_data] Downloading package omw-1.4 to\n",
      "[nltk_data]     C:\\Users\\super\\AppData\\Roaming\\nltk_data...\n",
      "[nltk_data]   Package omw-1.4 is already up-to-date!\n",
      "[nltk_data] Downloading package averaged_perceptron_tagger to\n",
      "[nltk_data]     C:\\Users\\super\\AppData\\Roaming\\nltk_data...\n",
      "[nltk_data]   Package averaged_perceptron_tagger is already up-to-\n",
      "[nltk_data]       date!\n"
     ]
    },
    {
     "data": {
      "text/plain": "True"
     },
     "execution_count": 138,
     "metadata": {},
     "output_type": "execute_result"
    }
   ],
   "source": [
    "nltk.download('punkt')\n",
    "nltk.download('stopwords')\n",
    "nltk.download('wordnet')\n",
    "nltk.download('omw-1.4')\n",
    "nltk.download('averaged_perceptron_tagger')"
   ],
   "metadata": {
    "collapsed": false
   }
  },
  {
   "cell_type": "code",
   "execution_count": 139,
   "outputs": [],
   "source": [
    "torch.set_warn_always(True)\n",
    "\n",
    "sns.set_theme()\n",
    "plt.rcParams[\"figure.figsize\"] = (8, 4)"
   ],
   "metadata": {
    "collapsed": false
   }
  },
  {
   "cell_type": "code",
   "execution_count": 140,
   "outputs": [
    {
     "name": "stdout",
     "output_type": "stream",
     "text": [
      "Using CUDA device\n"
     ]
    }
   ],
   "source": [
    "DATA_DIR = Path(\"../data/\")\n",
    "\n",
    "CUDA = \"cuda\"\n",
    "CPU = \"cpu\"\n",
    "DEVICE = CUDA if torch.cuda.is_available() else CPU\n",
    "print(f\"Using {DEVICE.upper()} device\")"
   ],
   "metadata": {
    "collapsed": false
   }
  },
  {
   "cell_type": "markdown",
   "source": [
    "## Предобработка данных и подготовка датасета"
   ],
   "metadata": {
    "collapsed": false
   }
  },
  {
   "cell_type": "code",
   "execution_count": 141,
   "outputs": [],
   "source": [
    "def get_pos(word: str) -> str:\n",
    "    tag = nltk.pos_tag([word])[0][1]\n",
    "    if tag.startswith(\"J\"):\n",
    "        return wordnet.ADJ\n",
    "    elif tag.startswith(\"V\"):\n",
    "        return wordnet.VERB\n",
    "    elif tag.startswith(\"R\"):\n",
    "        return wordnet.ADV\n",
    "    else:\n",
    "        return wordnet.NOUN\n",
    "\n",
    "\n",
    "_wordnet_lemmatizer = nltk.WordNetLemmatizer()\n",
    "\n",
    "\n",
    "def wordnet_lemmatizer(token: str) -> str:\n",
    "    return _wordnet_lemmatizer.lemmatize(token, pos=get_pos(token))\n",
    "\n",
    "\n",
    "RE_URL = re.compile(r\"\\w+://\\S+\", flags=re.MULTILINE)\n",
    "RE_HASHTAG = re.compile(r\"#\\S+\", flags=re.MULTILINE)\n",
    "RE_TW_USERNAME = re.compile(r\"@\\S+\", flags=re.MULTILINE)\n",
    "RE_NOT_ASCII_LOW = re.compile(r\"[^a-z]\", flags=re.MULTILINE)\n",
    "STOPWORDS = set(stopwords.words(\"english\"))\n",
    "\n",
    "\n",
    "def preprocess_tweet(\n",
    "        text: str,\n",
    "        lemmatizer_or_stemmer: t.Callable[[str], str] = None,\n",
    "        min_word_len: int = 0,\n",
    ") -> str:\n",
    "    text = text.lower()\n",
    "    for pat in [RE_URL, RE_HASHTAG, RE_TW_USERNAME, RE_NOT_ASCII_LOW]:\n",
    "        text = pat.sub(\" \", text)\n",
    "\n",
    "    words = []\n",
    "    for word in nltk.word_tokenize(text):\n",
    "        if word not in STOPWORDS and len(word) >= min_word_len:\n",
    "            if not lemmatizer_or_stemmer:\n",
    "                words.append(word)\n",
    "                continue\n",
    "            word = lemmatizer_or_stemmer(word)\n",
    "            if word not in STOPWORDS and len(word) >= min_word_len:\n",
    "                words.append(word)\n",
    "\n",
    "    return \" \".join(words)\n",
    "\n",
    "\n",
    "class WordVocab:\n",
    "    pad = \"<PAD>\"\n",
    "    unknown = \"<UNK>\"\n",
    "\n",
    "    def __init__(self, texts: t.List[str]):\n",
    "        uniques = set()\n",
    "        max_len = 0\n",
    "        for text in texts:\n",
    "            words = nltk.word_tokenize(text)\n",
    "            uniques.update(words)\n",
    "            max_len = max(len(words), max_len)\n",
    "\n",
    "        self.alphabet = [self.pad, self.unknown, *uniques]\n",
    "        self.max_len = max_len\n",
    "\n",
    "        w2i = {w: i for i, w in enumerate(self.alphabet)}\n",
    "        unknown_idx = w2i[self.unknown]\n",
    "        self.w2i = defaultdict(lambda: unknown_idx, w2i)\n",
    "\n",
    "    def __len__(self):\n",
    "        return len(self.alphabet)\n",
    "\n",
    "    def encode(self, text: str) -> torch.Tensor:\n",
    "        indices = [self.w2i[w] for w in nltk.word_tokenize(text)]\n",
    "        indices += [self.w2i[self.pad]] * (self.max_len - len(indices))\n",
    "        return torch.tensor(indices, dtype=torch.long)\n",
    "\n",
    "    def decode(self, indices: torch.Tensor) -> str:\n",
    "        pad_indices = torch.nonzero(indices == self.w2i[self.pad], as_tuple=True)[0]  # noqa\n",
    "        if len(pad_indices):\n",
    "            indices = indices[:pad_indices[0]]\n",
    "        return \" \".join(self.alphabet[i] for i in indices)"
   ],
   "metadata": {
    "collapsed": false
   }
  },
  {
   "cell_type": "code",
   "execution_count": 142,
   "outputs": [],
   "source": [
    "class TweetCatDataset(Dataset):\n",
    "    DATA_COL = \"text\"\n",
    "    TARGET_COL = \"type\"\n",
    "\n",
    "    raw_texts: t.List[str]\n",
    "    texts: t.List[str]\n",
    "\n",
    "    encoder: LabelEncoder\n",
    "    classes: t.List[str]\n",
    "\n",
    "    vocab: WordVocab\n",
    "    data: torch.Tensor\n",
    "    targets: torch.Tensor\n",
    "\n",
    "    def __init__(self, df: pd.DataFrame, vocab: WordVocab = None, encoder: LabelEncoder = None):\n",
    "        self.raw_texts = df[self.DATA_COL].tolist()\n",
    "        with tqdm(total=len(df)) as pbar:\n",
    "            self._pbar, self._i, self._n = pbar, 0, 100\n",
    "            self.texts = [self.preprocess_text(text) for text in self.raw_texts]\n",
    "        self.vocab = vocab or WordVocab(self.texts)\n",
    "\n",
    "        if encoder:\n",
    "            self.encoder = encoder\n",
    "            encode = self.encoder.transform\n",
    "        else:\n",
    "            self.encoder = LabelEncoder()\n",
    "            encode = self.encoder.fit_transform\n",
    "\n",
    "        self.data = torch.vstack([self.vocab.encode(text) for text in self.texts])\n",
    "        targets = encode(df[self.TARGET_COL])\n",
    "        self.classes = [str(cls) for cls in self.encoder.classes_]\n",
    "        self.targets = torch.tensor(targets, dtype=torch.long)\n",
    "\n",
    "    def __len__(self):\n",
    "        return self.data.size(0)\n",
    "\n",
    "    def __getitem__(self, idx):\n",
    "        return self.data[idx], self.targets[idx]\n",
    "\n",
    "    def preprocess_text(self, text: str) -> str:\n",
    "        self._i += 1\n",
    "        if self._i % self._n == 0:\n",
    "            self._pbar.update(self._n)\n",
    "        return preprocess_tweet(text, lemmatizer_or_stemmer=wordnet_lemmatizer, min_word_len=3)"
   ],
   "metadata": {
    "collapsed": false
   }
  },
  {
   "cell_type": "code",
   "execution_count": 143,
   "outputs": [
    {
     "name": "stdout",
     "output_type": "stream",
     "text": [
      "politics         345\n",
      "medical          299\n",
      "entertainment    260\n",
      "sports           258\n",
      "Name: type, dtype: int64\n"
     ]
    },
    {
     "data": {
      "text/plain": "<Figure size 300x250 with 1 Axes>",
      "image/png": "[encoded data removed]"
     },
     "metadata": {},
     "output_type": "display_data"
    }
   ],
   "source": [
    "tweet_cat_df = pd.read_csv(DATA_DIR / \"nlp/tweet_cat.csv\")\n",
    "vc = tweet_cat_df[\"type\"].value_counts()\n",
    "print(vc)\n",
    "tweet_cat_df[\"type\"].value_counts().plot.bar(rot=30, figsize=(3, 2.5));"
   ],
   "metadata": {
    "collapsed": false
   }
  },
  {
   "cell_type": "code",
   "execution_count": 144,
   "outputs": [
    {
     "name": "stderr",
     "output_type": "stream",
     "text": [
      " 97%|█████████▋| 900/929 [00:09<00:00, 95.23it/s] \n",
      " 86%|████████▌ | 200/233 [00:01<00:00, 115.59it/s]"
     ]
    },
    {
     "name": "stdout",
     "output_type": "stream",
     "text": [
      "3367 17\n"
     ]
    },
    {
     "name": "stderr",
     "output_type": "stream",
     "text": [
      "\n"
     ]
    },
    {
     "data": {
      "text/plain": "(929, 233, ['entertainment', 'medical', 'politics', 'sports'])"
     },
     "execution_count": 144,
     "metadata": {},
     "output_type": "execute_result"
    }
   ],
   "source": [
    "train_df, test_df = train_test_split(tweet_cat_df, test_size=0.2, random_state=1)\n",
    "\n",
    "train_dataset = TweetCatDataset(train_df)\n",
    "test_dataset = TweetCatDataset(\n",
    "    test_df,\n",
    "    vocab=train_dataset.vocab,\n",
    "    encoder=train_dataset.encoder,\n",
    ")\n",
    "print(len(train_dataset.vocab), train_dataset.vocab.max_len)\n",
    "len(train_dataset), len(test_dataset), train_dataset.classes"
   ],
   "metadata": {
    "collapsed": false
   }
  },
  {
   "cell_type": "markdown",
   "source": [
    "## Построение и обучение модели"
   ],
   "metadata": {
    "collapsed": false
   }
  },
  {
   "cell_type": "code",
   "execution_count": 145,
   "outputs": [],
   "source": [
    "def get_weights(targets: torch.Tensor) -> torch.Tensor:\n",
    "    _, counts = targets.unique(return_counts=True)\n",
    "    return counts.max() / counts\n",
    "\n",
    "\n",
    "def common_train(\n",
    "        model: nn.Module,\n",
    "        loss_fn: nn.Module,\n",
    "        optimizer: optim.Optimizer,\n",
    "        epochs: int,\n",
    "        train_dataloader: DataLoader,\n",
    "        test_dataloader: DataLoader,\n",
    "        verbose: int = None,\n",
    "        device: str = CPU,\n",
    ") -> t.Tuple[t.List[float], t.List[float], t.List[float], t.List[float]]:\n",
    "    train_losses, train_accuracy_list = [], []\n",
    "    test_losses, test_accuracy_list = [], []\n",
    "    for epoch in range(epochs):\n",
    "        print(f\"Epoch {epoch + 1}\\n\" + \"-\" * 32)\n",
    "\n",
    "        train_loss, train_accuracy = train_loop(train_dataloader, model, loss_fn, optimizer, verbose, device)\n",
    "        print(f\"Train Error: loss: {train_loss:.6f}, accuracy: {train_accuracy:.4f}\")\n",
    "        train_losses.append(train_loss)\n",
    "        train_accuracy_list.append(train_accuracy)\n",
    "\n",
    "        test_loss, test_accuracy = test_loop(test_dataloader, model, loss_fn, device)\n",
    "        print(f\" Test Error: loss: {test_loss:.6f}, accuracy: {test_accuracy:.4f}\\n\")\n",
    "        test_losses.append(test_loss)\n",
    "        test_accuracy_list.append(test_accuracy)\n",
    "\n",
    "        torch.cuda.empty_cache()\n",
    "    return train_losses, train_accuracy_list, test_losses, test_accuracy_list\n",
    "\n",
    "\n",
    "def train_loop(\n",
    "        dataloader: DataLoader,\n",
    "        model: nn.Module,\n",
    "        loss_fn: nn.Module,\n",
    "        optimizer: optim.Optimizer,\n",
    "        verbose: int = None,\n",
    "        device: str = CPU,\n",
    ") -> t.Tuple[float, float]:\n",
    "    model.train()\n",
    "\n",
    "    size = len(dataloader.dataset)  # noqa\n",
    "    num_batches = len(dataloader)\n",
    "    avg_loss, avg_accuracy = 0, 0\n",
    "\n",
    "    for batch, (x, y) in enumerate(dataloader):\n",
    "        x, y = x.to(device), y.to(device)\n",
    "\n",
    "        pred = model(x)\n",
    "        loss = loss_fn(pred, y)\n",
    "\n",
    "        optimizer.zero_grad()\n",
    "        loss.backward()\n",
    "        optimizer.step()\n",
    "\n",
    "        y_true = torch.flatten(y).detach().cpu()\n",
    "        y_pred = torch.flatten(pred.argmax(1)).detach().cpu()\n",
    "        accuracy = metrics.accuracy_score(y_true, y_pred)\n",
    "\n",
    "        avg_loss += loss\n",
    "        avg_accuracy += accuracy\n",
    "        if verbose and batch % verbose == 0:\n",
    "            print(f\"[{batch * len(x):>4d}/{size:>4d}]: loss: {loss:.6f}, accuracy: {accuracy:.4f}\")\n",
    "\n",
    "        del x, y, pred, loss\n",
    "        torch.cuda.empty_cache()\n",
    "\n",
    "    return (avg_loss / num_batches).item(), avg_accuracy / num_batches\n",
    "\n",
    "\n",
    "@torch.no_grad()\n",
    "def test_loop(\n",
    "        dataloader: DataLoader,\n",
    "        model: nn.Module,\n",
    "        loss_fn: nn.Module,\n",
    "        device: str = CPU,\n",
    ") -> t.Tuple[float, float]:\n",
    "    model.eval()\n",
    "    y_true, y_pred = get_y_true_y_pred(model, dataloader, device)\n",
    "    return loss_fn(y_pred, y_true).item(), metrics.accuracy_score(y_true.cpu(), y_pred.argmax(1).cpu())\n",
    "\n",
    "\n",
    "@torch.no_grad()\n",
    "def get_y_true_y_pred(\n",
    "        model: nn.Module,\n",
    "        dataloader: DataLoader,\n",
    "        device: str = CPU,\n",
    ") -> t.Tuple[torch.Tensor, torch.Tensor]:\n",
    "    model.eval()\n",
    "\n",
    "    y_test = []\n",
    "    y_pred = []\n",
    "    for x, y in dataloader:\n",
    "        x, y = x.to(device), y.to(device)\n",
    "        pred = model(x)\n",
    "        y_test.append(y)\n",
    "        y_pred.append(pred)\n",
    "\n",
    "        del x\n",
    "        torch.cuda.empty_cache()\n",
    "\n",
    "    return torch.flatten(torch.vstack(y_test)), torch.vstack(y_pred)\n",
    "\n",
    "\n",
    "def plot_train_test(\n",
    "        train_losses: t.List[float],\n",
    "        train_accuracy: t.List[float],\n",
    "        test_losses: t.List[float],\n",
    "        test_accuracy: t.List[float],\n",
    ") -> None:\n",
    "    fig, axes = plt.subplots(2, 1, figsize=(6, 7))\n",
    "    epochs = torch.arange(len(train_losses))\n",
    "\n",
    "    axes[0].plot(epochs, train_losses)\n",
    "    axes[0].plot(epochs, test_losses)\n",
    "    axes[0].set_ylabel(\"loss\")\n",
    "    axes[0].legend([\"train\", \"test\"])\n",
    "\n",
    "    axes[1].plot(epochs, train_accuracy)\n",
    "    axes[1].plot(epochs, test_accuracy)\n",
    "    axes[1].set_xlabel(\"epoch\")\n",
    "    axes[1].set_ylabel(\"accuracy\")"
   ],
   "metadata": {
    "collapsed": false
   }
  },
  {
   "cell_type": "code",
   "execution_count": 186,
   "outputs": [],
   "source": [
    "class TweetCatRNNClassifier(nn.Module):\n",
    "    _STATE_T = t.Union[t.Optional[torch.Tensor], t.Optional[t.Tuple[torch.Tensor, torch.Tensor]]]\n",
    "    rnn_state: _STATE_T\n",
    "\n",
    "    def __init__(\n",
    "            self,\n",
    "            num_embeddings: int,\n",
    "            embedding_dim: int,\n",
    "            rnn_hidden_size: int,\n",
    "            vector_size: int,\n",
    "            num_classes: int,\n",
    "    ):\n",
    "        super().__init__()\n",
    "        self.embedding = nn.Embedding(num_embeddings=num_embeddings, embedding_dim=embedding_dim, padding_idx=0)\n",
    "        self.rnn = nn.RNN(input_size=embedding_dim, hidden_size=rnn_hidden_size, num_layers=2, dropout=0.5, batch_first=True)\n",
    "        self.classifier = nn.Sequential(\n",
    "            nn.Dropout(0.75),\n",
    "            nn.Linear(rnn_hidden_size * vector_size, 512),\n",
    "            nn.ReLU(),\n",
    "            nn.Dropout(0.75),\n",
    "            nn.Linear(512, 256),\n",
    "            nn.ReLU(),\n",
    "            nn.Dropout(0.25),\n",
    "            nn.Linear(256, num_classes),\n",
    "        )\n",
    "        self.reset_rnn_state()\n",
    "\n",
    "    def forward(self, x: torch.Tensor) -> torch.Tensor:\n",
    "        x = self.embedding(x)\n",
    "\n",
    "        x, rnn_state = self.rnn(x, self.rnn_state)\n",
    "        self.keep_rnn_state(rnn_state)\n",
    "\n",
    "        x = torch.flatten(x, 1)\n",
    "        return self.classifier(x)\n",
    "\n",
    "    def reset_rnn_state(self):\n",
    "        self.rnn_state = None\n",
    "\n",
    "    def keep_rnn_state(self, state: _STATE_T):\n",
    "        if isinstance(self.rnn, nn.LSTM):\n",
    "            self.rnn_state = (state[0].detach(), state[1].detach())\n",
    "        else:\n",
    "            self.rnn_state = state.detach()\n",
    "\n",
    "    def train(self, mode: bool = True):\n",
    "        self.reset_rnn_state()\n",
    "        return super().train(mode)"
   ],
   "metadata": {
    "collapsed": false
   }
  },
  {
   "cell_type": "code",
   "execution_count": 187,
   "outputs": [
    {
     "data": {
      "text/plain": "TweetCatRNNClassifier(\n  (embedding): Embedding(3367, 512, padding_idx=0)\n  (rnn): RNN(512, 128, num_layers=2, batch_first=True, dropout=0.5)\n  (classifier): Sequential(\n    (0): Dropout(p=0.75, inplace=False)\n    (1): Linear(in_features=2176, out_features=512, bias=True)\n    (2): ReLU()\n    (3): Dropout(p=0.75, inplace=False)\n    (4): Linear(in_features=512, out_features=256, bias=True)\n    (5): ReLU()\n    (6): Dropout(p=0.25, inplace=False)\n    (7): Linear(in_features=256, out_features=4, bias=True)\n  )\n)"
     },
     "execution_count": 187,
     "metadata": {},
     "output_type": "execute_result"
    }
   ],
   "source": [
    "torch.manual_seed(0)\n",
    "\n",
    "net = TweetCatRNNClassifier(\n",
    "    num_embeddings=len(train_dataset.vocab),\n",
    "    embedding_dim=512,\n",
    "    rnn_hidden_size=128,\n",
    "    vector_size=train_dataset.vocab.max_len,\n",
    "    num_classes=len(train_dataset.classes),\n",
    ").to(DEVICE)\n",
    "loss_fn = nn.CrossEntropyLoss(weight=get_weights(train_dataset.targets).to(DEVICE))\n",
    "optimizer = optim.Adam(net.parameters(), lr=0.001)\n",
    "\n",
    "train_dataloader = DataLoader(train_dataset, batch_size=16, shuffle=True, drop_last=True)\n",
    "test_dataloader = DataLoader(test_dataset, batch_size=len(test_dataset), drop_last=True)\n",
    "\n",
    "net"
   ],
   "metadata": {
    "collapsed": false
   }
  },
  {
   "cell_type": "code",
   "execution_count": 188,
   "outputs": [
    {
     "name": "stdout",
     "output_type": "stream",
     "text": [
      "Epoch 1\n",
      "--------------------------------\n",
      "Train Error: loss: 1.408731, accuracy: 0.2780\n",
      " Test Error: loss: 1.352074, accuracy: 0.4034\n",
      "\n",
      "Epoch 2\n",
      "--------------------------------\n",
      "Train Error: loss: 1.302325, accuracy: 0.3675\n",
      " Test Error: loss: 1.164688, accuracy: 0.4850\n",
      "\n",
      "Epoch 3\n",
      "--------------------------------\n",
      "Train Error: loss: 0.996106, accuracy: 0.5808\n",
      " Test Error: loss: 1.184896, accuracy: 0.5279\n",
      "\n",
      "Epoch 4\n",
      "--------------------------------\n",
      "Train Error: loss: 0.675227, accuracy: 0.7209\n",
      " Test Error: loss: 1.480454, accuracy: 0.5494\n",
      "\n",
      "Epoch 5\n",
      "--------------------------------\n",
      "Train Error: loss: 0.493832, accuracy: 0.8060\n",
      " Test Error: loss: 1.285646, accuracy: 0.5923\n",
      "\n",
      "Epoch 6\n",
      "--------------------------------\n",
      "Train Error: loss: 0.306319, accuracy: 0.8901\n",
      " Test Error: loss: 1.683656, accuracy: 0.6266\n",
      "\n",
      "Epoch 7\n",
      "--------------------------------\n",
      "Train Error: loss: 0.302921, accuracy: 0.9009\n",
      " Test Error: loss: 1.973750, accuracy: 0.6009\n",
      "\n",
      "Epoch 8\n",
      "--------------------------------\n",
      "Train Error: loss: 0.223137, accuracy: 0.9149\n",
      " Test Error: loss: 1.872706, accuracy: 0.6137\n",
      "\n",
      "Epoch 9\n",
      "--------------------------------\n",
      "Train Error: loss: 0.206347, accuracy: 0.9364\n",
      " Test Error: loss: 1.405060, accuracy: 0.6652\n",
      "\n",
      "Epoch 10\n",
      "--------------------------------\n",
      "Train Error: loss: 0.201659, accuracy: 0.9450\n",
      " Test Error: loss: 1.864647, accuracy: 0.6567\n",
      "\n",
      "CPU times: total: 5.19 s\n",
      "Wall time: 6.3 s\n"
     ]
    }
   ],
   "source": [
    "%%time\n",
    "\n",
    "train_losses, train_accuracy, test_losses, test_accuracy = common_train(\n",
    "    epochs=10,\n",
    "    model=net,\n",
    "    loss_fn=loss_fn,\n",
    "    optimizer=optimizer,\n",
    "    train_dataloader=train_dataloader,\n",
    "    test_dataloader=test_dataloader,\n",
    "    device=DEVICE,\n",
    ")"
   ],
   "metadata": {
    "collapsed": false
   }
  },
  {
   "cell_type": "markdown",
   "source": [
    "## Оценка и выводы"
   ],
   "metadata": {
    "collapsed": false
   }
  },
  {
   "cell_type": "code",
   "execution_count": 189,
   "outputs": [
    {
     "data": {
      "text/plain": "<Figure size 600x700 with 2 Axes>",
      "image/png": "[encoded data removed]"
     },
     "metadata": {},
     "output_type": "display_data"
    }
   ],
   "source": [
    "plot_train_test(train_losses, train_accuracy, test_losses, test_accuracy)"
   ],
   "metadata": {
    "collapsed": false
   }
  },
  {
   "cell_type": "code",
   "execution_count": 190,
   "outputs": [],
   "source": [
    "y_true, y_pred = get_y_true_y_pred(net, test_dataloader, DEVICE)\n",
    "y_true, y_pred = y_true.cpu(), y_pred.argmax(1).cpu()"
   ],
   "metadata": {
    "collapsed": false
   }
  },
  {
   "cell_type": "code",
   "execution_count": 191,
   "outputs": [
    {
     "data": {
      "text/plain": "<Figure size 350x350 with 1 Axes>",
      "image/png": "[encoded data removed]"
     },
     "metadata": {},
     "output_type": "display_data"
    }
   ],
   "source": [
    "cm_display = metrics.ConfusionMatrixDisplay.from_predictions(\n",
    "    y_true,\n",
    "    y_pred,\n",
    "    display_labels=test_dataset.classes,\n",
    "    colorbar=False,\n",
    "    xticks_rotation=0,\n",
    "    cmap=sns.color_palette('light:b', as_cmap=True)\n",
    ")\n",
    "cm_display.ax_.grid(False)\n",
    "cm_display.figure_.set_size_inches(3.5, 3.5)"
   ],
   "metadata": {
    "collapsed": false
   }
  },
  {
   "cell_type": "code",
   "execution_count": 192,
   "outputs": [
    {
     "name": "stdout",
     "output_type": "stream",
     "text": [
      "               precision    recall  f1-score   support\n",
      "\n",
      "entertainment       0.78      0.58      0.67        48\n",
      "      medical       0.53      0.88      0.66        64\n",
      "     politics       0.79      0.48      0.59        69\n",
      "       sports       0.73      0.69      0.71        52\n",
      "\n",
      "     accuracy                           0.66       233\n",
      "    macro avg       0.71      0.66      0.66       233\n",
      " weighted avg       0.70      0.66      0.65       233\n",
      "\n"
     ]
    }
   ],
   "source": [
    "print(metrics.classification_report(y_true, y_pred, target_names=test_dataset.classes, zero_division=True))"
   ],
   "metadata": {
    "collapsed": false
   }
  },
  {
   "cell_type": "code",
   "execution_count": 193,
   "outputs": [
    {
     "name": "stdout",
     "output_type": "stream",
     "text": [
      "Input:   hyde contribute campaign follow yovanovitch\n",
      "Target:  politics\n",
      "Predict: politics (0.97), entertainment (0.03), sports (0.01)\n",
      "\n",
      "Input:   seek insight arizona medical cannabis market hop speak business patient advocate...\n",
      "Target:  medical\n",
      "Predict: medical (1.00), politics (0.00), sports (0.00)\n",
      "\n",
      "Input:   girl could make watch tennis say even ruin first major title class\n",
      "Target:  sports\n",
      "Predict: sports (0.95), politics (0.04), medical (0.00)\n",
      "\n",
      "Input:   sander say held hawkish immigration view year ago via\n",
      "Target:  politics\n",
      "Predict: politics (0.95), entertainment (0.02), medical (0.02)\n",
      "\n",
      "Input:   might fuck join tennis club something\n",
      "Target:  sports\n",
      "Predict: sports (1.00), politics (0.00), medical (0.00)\n",
      "\n"
     ]
    }
   ],
   "source": [
    "net.eval()\n",
    "for i in torch.randperm(len(test_dataset))[:5]:\n",
    "    x, y = test_dataset[i]\n",
    "    x, y = x.to(DEVICE), y.to(DEVICE)\n",
    "    pred = net(x.unsqueeze(0))\n",
    "\n",
    "    pred_proba, pred_label_indices = torch.softmax(pred, 1).topk(min(len(test_dataset.classes), 3), dim=1)\n",
    "    pred_labels = test_dataset.encoder.inverse_transform(pred_label_indices.squeeze().cpu())\n",
    "    predicts = \", \".join([f\"{label} ({prob:.2f})\" for (label, prob) in zip(pred_labels, pred_proba.squeeze())])\n",
    "\n",
    "    text = test_dataset.texts[i]\n",
    "    text = text if len(text) < 80 else text[:80] + \"...\"\n",
    "    target = test_dataset.encoder.inverse_transform([y.cpu()])[0]\n",
    "\n",
    "    print(f\"Input:   {text}\")\n",
    "    print(f\"Target:  {target}\")\n",
    "    print(f\"Predict: {predicts}\\n\")"
   ],
   "metadata": {
    "collapsed": false
   }
  }
 ],
 "metadata": {
  "kernelspec": {
   "display_name": "Python 3",
   "language": "python",
   "name": "python3"
  },
  "language_info": {
   "codemirror_mode": {
    "name": "ipython",
    "version": 2
   },
   "file_extension": ".py",
   "mimetype": "text/x-python",
   "name": "python",
   "nbconvert_exporter": "python",
   "pygments_lexer": "ipython2",
   "version": "2.7.6"
  }
 },
 "nbformat": 4,
 "nbformat_minor": 0
}
