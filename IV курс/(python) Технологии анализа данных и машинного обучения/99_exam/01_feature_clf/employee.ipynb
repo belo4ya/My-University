{
 "cells": [
  {
   "cell_type": "code",
   "execution_count": 1,
   "metadata": {
    "collapsed": true
   },
   "outputs": [],
   "source": [
    "import typing as t\n",
    "from pathlib import Path\n",
    "\n",
    "import matplotlib.pyplot as plt\n",
    "import numpy as np\n",
    "import pandas as pd\n",
    "import seaborn as sns\n",
    "import torch\n",
    "import torch.nn as nn\n",
    "import torch.optim as optim\n",
    "from sklearn import metrics\n",
    "from sklearn.model_selection import train_test_split\n",
    "from sklearn.preprocessing import StandardScaler, OrdinalEncoder\n",
    "from torch.utils.data import Dataset, DataLoader"
   ]
  },
  {
   "cell_type": "code",
   "execution_count": 2,
   "outputs": [],
   "source": [
    "# @formatter:off\n",
    "%matplotlib inline\n",
    "# @formatter:on"
   ],
   "metadata": {
    "collapsed": false
   }
  },
  {
   "cell_type": "code",
   "execution_count": 3,
   "outputs": [],
   "source": [
    "torch.set_warn_always(True)\n",
    "\n",
    "sns.set_theme()\n",
    "plt.rcParams[\"figure.figsize\"] = (8, 4)"
   ],
   "metadata": {
    "collapsed": false
   }
  },
  {
   "cell_type": "code",
   "execution_count": 4,
   "outputs": [
    {
     "name": "stdout",
     "output_type": "stream",
     "text": [
      "Using CUDA device\n"
     ]
    }
   ],
   "source": [
    "DATA_DIR = Path(\"../data/\")\n",
    "\n",
    "CUDA = \"cuda\"\n",
    "CPU = \"cpu\"\n",
    "DEVICE = CUDA if torch.cuda.is_available() else CPU\n",
    "print(f\"Using {DEVICE.upper()} device\")"
   ],
   "metadata": {
    "collapsed": false
   }
  },
  {
   "cell_type": "markdown",
   "source": [
    "## Предобработка данных и подготовка датасета"
   ],
   "metadata": {
    "collapsed": false
   }
  },
  {
   "cell_type": "code",
   "execution_count": 5,
   "outputs": [],
   "source": [
    "def unique_stat(df: pd.DataFrame) -> pd.Series:\n",
    "    uniq_stat = df.nunique()\n",
    "    return uniq_stat[(uniq_stat == 1) | (uniq_stat == len(df))]\n",
    "\n",
    "\n",
    "def na_stat(df: pd.DataFrame) -> pd.Series:\n",
    "    stat = df.isna().sum()\n",
    "    return stat[stat > 0]\n",
    "\n",
    "\n",
    "def duplicates_stat(df: pd.DataFrame) -> pd.Series:\n",
    "    return df[df.duplicated()].value_counts()\n",
    "\n",
    "\n",
    "def get_categorical_columns(df: pd.DataFrame) -> pd.Index:\n",
    "    return df.select_dtypes(object).columns\n",
    "\n",
    "\n",
    "def get_numerical_columns(df: pd.DataFrame) -> pd.Index:\n",
    "    return df.select_dtypes(np.number).columns\n",
    "\n",
    "\n",
    "def count_categories(df: pd.DataFrame) -> pd.Series:\n",
    "    return df[get_categorical_columns(df)].nunique()"
   ],
   "metadata": {
    "collapsed": false
   }
  },
  {
   "cell_type": "code",
   "execution_count": 6,
   "outputs": [
    {
     "name": "stdout",
     "output_type": "stream",
     "text": [
      "(14999, 10)\n"
     ]
    },
    {
     "data": {
      "text/plain": "   satisfaction_level  last_evaluation  number_project  average_montly_hours  \\\n0                0.38             0.53               2                   157   \n1                0.80             0.86               5                   262   \n2                0.11             0.88               7                   272   \n3                0.72             0.87               5                   223   \n4                0.37             0.52               2                   159   \n\n   time_spend_company  Work_accident  promotion_last_5years department  \\\n0                   3              0                      0      sales   \n1                   6              0                      0      sales   \n2                   4              0                      0      sales   \n3                   5              0                      0      sales   \n4                   3              0                      0      sales   \n\n   salary  left  \n0     low     1  \n1  medium     1  \n2  medium     1  \n3     low     1  \n4     low     1  ",
      "text/html": "<div>\n<style scoped>\n    .dataframe tbody tr th:only-of-type {\n        vertical-align: middle;\n    }\n\n    .dataframe tbody tr th {\n        vertical-align: top;\n    }\n\n    .dataframe thead th {\n        text-align: right;\n    }\n</style>\n<table border=\"1\" class=\"dataframe\">\n  <thead>\n    <tr style=\"text-align: right;\">\n      <th></th>\n      <th>satisfaction_level</th>\n      <th>last_evaluation</th>\n      <th>number_project</th>\n      <th>average_montly_hours</th>\n      <th>time_spend_company</th>\n      <th>Work_accident</th>\n      <th>promotion_last_5years</th>\n      <th>department</th>\n      <th>salary</th>\n      <th>left</th>\n    </tr>\n  </thead>\n  <tbody>\n    <tr>\n      <th>0</th>\n      <td>0.38</td>\n      <td>0.53</td>\n      <td>2</td>\n      <td>157</td>\n      <td>3</td>\n      <td>0</td>\n      <td>0</td>\n      <td>sales</td>\n      <td>low</td>\n      <td>1</td>\n    </tr>\n    <tr>\n      <th>1</th>\n      <td>0.80</td>\n      <td>0.86</td>\n      <td>5</td>\n      <td>262</td>\n      <td>6</td>\n      <td>0</td>\n      <td>0</td>\n      <td>sales</td>\n      <td>medium</td>\n      <td>1</td>\n    </tr>\n    <tr>\n      <th>2</th>\n      <td>0.11</td>\n      <td>0.88</td>\n      <td>7</td>\n      <td>272</td>\n      <td>4</td>\n      <td>0</td>\n      <td>0</td>\n      <td>sales</td>\n      <td>medium</td>\n      <td>1</td>\n    </tr>\n    <tr>\n      <th>3</th>\n      <td>0.72</td>\n      <td>0.87</td>\n      <td>5</td>\n      <td>223</td>\n      <td>5</td>\n      <td>0</td>\n      <td>0</td>\n      <td>sales</td>\n      <td>low</td>\n      <td>1</td>\n    </tr>\n    <tr>\n      <th>4</th>\n      <td>0.37</td>\n      <td>0.52</td>\n      <td>2</td>\n      <td>159</td>\n      <td>3</td>\n      <td>0</td>\n      <td>0</td>\n      <td>sales</td>\n      <td>low</td>\n      <td>1</td>\n    </tr>\n  </tbody>\n</table>\n</div>"
     },
     "execution_count": 6,
     "metadata": {},
     "output_type": "execute_result"
    }
   ],
   "source": [
    "employee_df: pd.DataFrame = pd.read_csv(DATA_DIR / \"classification/employee.csv\")\n",
    "print(employee_df.shape)\n",
    "employee_df.head()"
   ],
   "metadata": {
    "collapsed": false
   }
  },
  {
   "cell_type": "code",
   "execution_count": 7,
   "outputs": [
    {
     "data": {
      "text/plain": "Series([], dtype: int64)"
     },
     "execution_count": 7,
     "metadata": {},
     "output_type": "execute_result"
    }
   ],
   "source": [
    "unique_stat(employee_df)"
   ],
   "metadata": {
    "collapsed": false
   }
  },
  {
   "cell_type": "code",
   "execution_count": 8,
   "outputs": [
    {
     "data": {
      "text/plain": "Series([], dtype: int64)"
     },
     "execution_count": 8,
     "metadata": {},
     "output_type": "execute_result"
    }
   ],
   "source": [
    "na_stat(employee_df)"
   ],
   "metadata": {
    "collapsed": false
   }
  },
  {
   "cell_type": "code",
   "execution_count": 9,
   "outputs": [
    {
     "data": {
      "text/plain": "satisfaction_level  last_evaluation  number_project  average_montly_hours  time_spend_company  Work_accident  promotion_last_5years  department  salary  left\n0.46                0.57             2               139                   3                   0              0                      sales       low     1       5\n0.37                0.51             2               127                   3                   0              0                      sales       medium  1       3\n0.42                0.53             2               142                   3                   0              0                      sales       low     1       3\n0.41                0.46             2               128                   3                   0              0                      accounting  low     1       3\n0.10                0.85             6               266                   4                   0              0                      sales       low     1       3\n                                                                                                                                                                ..\n0.57                0.66             3               268                   3                   0              0                      sales       low     0       1\n                    0.64             4               226                   7                   0              0                      sales       low     0       1\n                                     3               188                   3                   0              0                      management  medium  0       1\n                    0.60             2               163                   3                   0              0                      sales       medium  0       1\n1.00                0.93             5               231                   2                   0              0                      marketing   medium  0       1\nLength: 2338, dtype: int64"
     },
     "execution_count": 9,
     "metadata": {},
     "output_type": "execute_result"
    }
   ],
   "source": [
    "duplicates_stat(employee_df)"
   ],
   "metadata": {
    "collapsed": false
   }
  },
  {
   "cell_type": "code",
   "execution_count": 10,
   "outputs": [
    {
     "data": {
      "text/plain": "Series([], dtype: int64)"
     },
     "execution_count": 10,
     "metadata": {},
     "output_type": "execute_result"
    }
   ],
   "source": [
    "employee_df = employee_df.drop_duplicates()\n",
    "duplicates_stat(employee_df)"
   ],
   "metadata": {
    "collapsed": false
   }
  },
  {
   "cell_type": "code",
   "execution_count": 11,
   "outputs": [
    {
     "data": {
      "text/plain": "department    10\nsalary         3\ndtype: int64"
     },
     "execution_count": 11,
     "metadata": {},
     "output_type": "execute_result"
    }
   ],
   "source": [
    "count_categories(employee_df)"
   ],
   "metadata": {
    "collapsed": false
   }
  },
  {
   "cell_type": "code",
   "execution_count": 12,
   "outputs": [
    {
     "name": "stdout",
     "output_type": "stream",
     "text": [
      "(11991, 10)\n"
     ]
    },
    {
     "data": {
      "text/plain": "   satisfaction_level  last_evaluation  number_project  average_montly_hours  \\\n0                0.38             0.53               2                   157   \n1                0.80             0.86               5                   262   \n2                0.11             0.88               7                   272   \n3                0.72             0.87               5                   223   \n4                0.37             0.52               2                   159   \n\n   time_spend_company  Work_accident  promotion_last_5years department  \\\n0                   3              0                      0      sales   \n1                   6              0                      0      sales   \n2                   4              0                      0      sales   \n3                   5              0                      0      sales   \n4                   3              0                      0      sales   \n\n   salary  left  \n0     low     1  \n1  medium     1  \n2  medium     1  \n3     low     1  \n4     low     1  ",
      "text/html": "<div>\n<style scoped>\n    .dataframe tbody tr th:only-of-type {\n        vertical-align: middle;\n    }\n\n    .dataframe tbody tr th {\n        vertical-align: top;\n    }\n\n    .dataframe thead th {\n        text-align: right;\n    }\n</style>\n<table border=\"1\" class=\"dataframe\">\n  <thead>\n    <tr style=\"text-align: right;\">\n      <th></th>\n      <th>satisfaction_level</th>\n      <th>last_evaluation</th>\n      <th>number_project</th>\n      <th>average_montly_hours</th>\n      <th>time_spend_company</th>\n      <th>Work_accident</th>\n      <th>promotion_last_5years</th>\n      <th>department</th>\n      <th>salary</th>\n      <th>left</th>\n    </tr>\n  </thead>\n  <tbody>\n    <tr>\n      <th>0</th>\n      <td>0.38</td>\n      <td>0.53</td>\n      <td>2</td>\n      <td>157</td>\n      <td>3</td>\n      <td>0</td>\n      <td>0</td>\n      <td>sales</td>\n      <td>low</td>\n      <td>1</td>\n    </tr>\n    <tr>\n      <th>1</th>\n      <td>0.80</td>\n      <td>0.86</td>\n      <td>5</td>\n      <td>262</td>\n      <td>6</td>\n      <td>0</td>\n      <td>0</td>\n      <td>sales</td>\n      <td>medium</td>\n      <td>1</td>\n    </tr>\n    <tr>\n      <th>2</th>\n      <td>0.11</td>\n      <td>0.88</td>\n      <td>7</td>\n      <td>272</td>\n      <td>4</td>\n      <td>0</td>\n      <td>0</td>\n      <td>sales</td>\n      <td>medium</td>\n      <td>1</td>\n    </tr>\n    <tr>\n      <th>3</th>\n      <td>0.72</td>\n      <td>0.87</td>\n      <td>5</td>\n      <td>223</td>\n      <td>5</td>\n      <td>0</td>\n      <td>0</td>\n      <td>sales</td>\n      <td>low</td>\n      <td>1</td>\n    </tr>\n    <tr>\n      <th>4</th>\n      <td>0.37</td>\n      <td>0.52</td>\n      <td>2</td>\n      <td>159</td>\n      <td>3</td>\n      <td>0</td>\n      <td>0</td>\n      <td>sales</td>\n      <td>low</td>\n      <td>1</td>\n    </tr>\n  </tbody>\n</table>\n</div>"
     },
     "execution_count": 12,
     "metadata": {},
     "output_type": "execute_result"
    }
   ],
   "source": [
    "print(employee_df.shape)\n",
    "employee_df.head()"
   ],
   "metadata": {
    "collapsed": false
   }
  },
  {
   "cell_type": "code",
   "execution_count": 13,
   "outputs": [
    {
     "name": "stdout",
     "output_type": "stream",
     "text": [
      "0    10000\n",
      "1     1991\n",
      "Name: left, dtype: int64\n"
     ]
    },
    {
     "data": {
      "text/plain": "<Figure size 300x250 with 1 Axes>",
      "image/png": "[encoded data removed]"
     },
     "metadata": {},
     "output_type": "display_data"
    }
   ],
   "source": [
    "vc = employee_df[\"left\"].value_counts()\n",
    "print(vc)\n",
    "employee_df[\"left\"].value_counts().plot.bar(rot=0, figsize=(3, 2.5));"
   ],
   "metadata": {
    "collapsed": false
   }
  },
  {
   "cell_type": "code",
   "execution_count": 14,
   "outputs": [],
   "source": [
    "class EmployeeDataset(Dataset):\n",
    "    feature_encoder: OrdinalEncoder\n",
    "    scaler: StandardScaler\n",
    "    num_features: int\n",
    "    classes: t.List[str]\n",
    "\n",
    "    data: torch.Tensor\n",
    "    targets: torch.Tensor\n",
    "\n",
    "    def __init__(self, df: pd.DataFrame, feature_encoder: OrdinalEncoder = None, scaler: StandardScaler = None):\n",
    "        if feature_encoder:\n",
    "            self.feature_encoder = feature_encoder\n",
    "            encode_features = self.feature_encoder.transform\n",
    "        else:\n",
    "            self.feature_encoder = OrdinalEncoder(handle_unknown=\"use_encoded_value\", unknown_value=-1)\n",
    "            encode_features = self.feature_encoder.fit_transform\n",
    "\n",
    "        if scaler:\n",
    "            self.scaler = scaler\n",
    "            scale = self.scaler.transform\n",
    "        else:\n",
    "            self.scaler = StandardScaler()\n",
    "            scale = self.scaler.fit_transform\n",
    "\n",
    "        target_col = \"left\"\n",
    "        data, targets = df.drop(columns=[target_col]), df[target_col]\n",
    "\n",
    "        encode_cols, scale_cols = get_categorical_columns(data), get_numerical_columns(data)\n",
    "        data[encode_cols] = encode_features(data[encode_cols])\n",
    "        data[scale_cols] = scale(data[scale_cols])\n",
    "\n",
    "        self.data = torch.tensor(data.to_numpy(), dtype=torch.float)\n",
    "        self.num_features = self.data.size(1)\n",
    "        self.targets = torch.tensor(targets.to_numpy(), dtype=torch.long)\n",
    "        self.classes = [str(cls) for cls in targets.unique()]\n",
    "\n",
    "    def __len__(self):\n",
    "        return self.targets.size(0)\n",
    "\n",
    "    def __getitem__(self, idx):\n",
    "        return self.data[idx], self.targets[idx]"
   ],
   "metadata": {
    "collapsed": false
   }
  },
  {
   "cell_type": "code",
   "execution_count": 15,
   "outputs": [
    {
     "data": {
      "text/plain": "(9592, 2399, 9, ['0', '1'])"
     },
     "execution_count": 15,
     "metadata": {},
     "output_type": "execute_result"
    }
   ],
   "source": [
    "train_df, test_df = train_test_split(employee_df, test_size=0.2, random_state=0)\n",
    "\n",
    "train_dataset = EmployeeDataset(train_df)\n",
    "test_dataset = EmployeeDataset(\n",
    "    test_df,\n",
    "    feature_encoder=train_dataset.feature_encoder,\n",
    "    scaler=train_dataset.scaler,\n",
    ")\n",
    "len(train_dataset), len(test_dataset), train_dataset.num_features, train_dataset.classes"
   ],
   "metadata": {
    "collapsed": false
   }
  },
  {
   "cell_type": "markdown",
   "source": [
    "## Построение и обучение модели"
   ],
   "metadata": {
    "collapsed": false
   }
  },
  {
   "cell_type": "code",
   "execution_count": 16,
   "outputs": [],
   "source": [
    "def get_weights(targets: torch.Tensor) -> torch.Tensor:\n",
    "    _, counts = targets.unique(return_counts=True)\n",
    "    return counts.max() / counts\n",
    "\n",
    "\n",
    "def common_train(\n",
    "        model: nn.Module,\n",
    "        loss_fn: nn.Module,\n",
    "        optimizer: optim.Optimizer,\n",
    "        epochs: int,\n",
    "        train_dataloader: DataLoader,\n",
    "        test_dataloader: DataLoader,\n",
    "        verbose: int = None,\n",
    "        device: str = CPU,\n",
    ") -> t.Tuple[t.List[float], t.List[float], t.List[float], t.List[float]]:\n",
    "    train_losses, train_accuracy_list = [], []\n",
    "    test_losses, test_accuracy_list = [], []\n",
    "    for epoch in range(epochs):\n",
    "        print(f\"Epoch {epoch + 1}\\n\" + \"-\" * 32)\n",
    "\n",
    "        train_loss, train_accuracy = train_loop(train_dataloader, model, loss_fn, optimizer, verbose, device)\n",
    "        print(f\"Train Error: loss: {train_loss:.6f}, accuracy: {train_accuracy:.4f}\")\n",
    "        train_losses.append(train_loss)\n",
    "        train_accuracy_list.append(train_accuracy)\n",
    "\n",
    "        test_loss, test_accuracy = test_loop(test_dataloader, model, loss_fn, device)\n",
    "        print(f\" Test Error: loss: {test_loss:.6f}, accuracy: {test_accuracy:.4f}\\n\")\n",
    "        test_losses.append(test_loss)\n",
    "        test_accuracy_list.append(test_accuracy)\n",
    "\n",
    "        torch.cuda.empty_cache()\n",
    "    return train_losses, train_accuracy_list, test_losses, test_accuracy_list\n",
    "\n",
    "\n",
    "def train_loop(\n",
    "        dataloader: DataLoader,\n",
    "        model: nn.Module,\n",
    "        loss_fn: nn.Module,\n",
    "        optimizer: optim.Optimizer,\n",
    "        verbose: int = None,\n",
    "        device: str = CPU,\n",
    ") -> t.Tuple[float, float]:\n",
    "    model.train()\n",
    "\n",
    "    size = len(dataloader.dataset)  # noqa\n",
    "    num_batches = len(dataloader)\n",
    "    avg_loss, avg_accuracy = 0, 0\n",
    "\n",
    "    for batch, (x, y) in enumerate(dataloader):\n",
    "        x, y = x.to(device), y.to(device)\n",
    "\n",
    "        pred = model(x)\n",
    "        loss = loss_fn(pred, y)\n",
    "\n",
    "        optimizer.zero_grad()\n",
    "        loss.backward()\n",
    "        optimizer.step()\n",
    "\n",
    "        y_true = torch.flatten(y).detach().cpu()\n",
    "        y_pred = torch.flatten(pred.argmax(1)).detach().cpu()\n",
    "        accuracy = metrics.accuracy_score(y_true, y_pred)\n",
    "\n",
    "        avg_loss += loss\n",
    "        avg_accuracy += accuracy\n",
    "        if verbose and batch % verbose == 0:\n",
    "            print(f\"[{batch * len(x):>4d}/{size:>4d}]: loss: {loss:.6f}, accuracy: {accuracy:.4f}\")\n",
    "\n",
    "        del x, y, pred, loss\n",
    "        torch.cuda.empty_cache()\n",
    "\n",
    "    return (avg_loss / num_batches).item(), avg_accuracy / num_batches\n",
    "\n",
    "\n",
    "@torch.no_grad()\n",
    "def test_loop(\n",
    "        dataloader: DataLoader,\n",
    "        model: nn.Module,\n",
    "        loss_fn: nn.Module,\n",
    "        device: str = CPU,\n",
    ") -> t.Tuple[float, float]:\n",
    "    model.eval()\n",
    "    y_true, y_pred = get_y_true_y_pred(model, dataloader, device)\n",
    "    return loss_fn(y_pred, y_true).item(), metrics.accuracy_score(y_true.cpu(), y_pred.argmax(1).cpu())\n",
    "\n",
    "\n",
    "@torch.no_grad()\n",
    "def get_y_true_y_pred(\n",
    "        model: nn.Module,\n",
    "        dataloader: DataLoader,\n",
    "        device: str = CPU,\n",
    ") -> t.Tuple[torch.Tensor, torch.Tensor]:\n",
    "    model.eval()\n",
    "\n",
    "    y_test = []\n",
    "    y_pred = []\n",
    "    for x, y in dataloader:\n",
    "        x, y = x.to(device), y.to(device)\n",
    "        pred = model(x)\n",
    "        y_test.append(y)\n",
    "        y_pred.append(pred)\n",
    "\n",
    "        del x\n",
    "        torch.cuda.empty_cache()\n",
    "\n",
    "    return torch.flatten(torch.vstack(y_test)), torch.vstack(y_pred)\n",
    "\n",
    "\n",
    "def plot_train_test(\n",
    "        train_losses: t.List[float],\n",
    "        train_accuracy: t.List[float],\n",
    "        test_losses: t.List[float],\n",
    "        test_accuracy: t.List[float],\n",
    ") -> None:\n",
    "    fig, axes = plt.subplots(2, 1, figsize=(6, 7))\n",
    "    epochs = torch.arange(len(train_losses))\n",
    "\n",
    "    axes[0].plot(epochs, train_losses)\n",
    "    axes[0].plot(epochs, test_losses)\n",
    "    axes[0].set_ylabel(\"loss\")\n",
    "    axes[0].legend([\"train\", \"test\"])\n",
    "\n",
    "    axes[1].plot(epochs, train_accuracy)\n",
    "    axes[1].plot(epochs, test_accuracy)\n",
    "    axes[1].set_xlabel(\"epoch\")\n",
    "    axes[1].set_ylabel(\"accuracy\")"
   ],
   "metadata": {
    "collapsed": false
   }
  },
  {
   "cell_type": "code",
   "execution_count": 17,
   "outputs": [],
   "source": [
    "class EmployeeClassifier(nn.Module):  # ~=98% (30 epochs, 0.001 lr)\n",
    "\n",
    "    def __init__(self, num_features: int, num_classes: int):\n",
    "        super().__init__()\n",
    "        self.classifier = nn.Sequential(\n",
    "            nn.Linear(num_features, 128),\n",
    "            nn.ReLU(),\n",
    "            nn.Dropout(0.5),\n",
    "            nn.Linear(128, 512),\n",
    "            nn.ReLU(),\n",
    "            nn.Dropout(0.25),\n",
    "            nn.Linear(512, num_classes),\n",
    "        )\n",
    "\n",
    "    def forward(self, x: torch.Tensor) -> torch.Tensor:\n",
    "        return self.classifier(x)\n",
    "\n",
    "\n",
    "class EmployeeCNNClassifier(nn.Module):  # ~=98% (50 epochs, 0.002 lr)\n",
    "    LAST_CONV_OUT_CHANNELS = 64\n",
    "    ADAPTIVE_AVG_POOL = 16\n",
    "\n",
    "    def __init__(self, num_classes: int):\n",
    "        super().__init__()\n",
    "        self.features = nn.Sequential(\n",
    "            nn.Conv1d(in_channels=1, out_channels=self.LAST_CONV_OUT_CHANNELS, kernel_size=2),\n",
    "            nn.BatchNorm1d(num_features=self.LAST_CONV_OUT_CHANNELS),\n",
    "            nn.ReLU(),\n",
    "            nn.Dropout(0.25),\n",
    "            nn.MaxPool1d(kernel_size=2),\n",
    "        )\n",
    "        self.avgpool = nn.AdaptiveAvgPool1d(self.ADAPTIVE_AVG_POOL)\n",
    "        self.classifier = nn.Sequential(\n",
    "            nn.Linear(self.LAST_CONV_OUT_CHANNELS * self.ADAPTIVE_AVG_POOL, 512),\n",
    "            nn.ReLU(),\n",
    "            nn.Dropout(0.5),\n",
    "            nn.Linear(512, 512),\n",
    "            nn.ReLU(),\n",
    "            nn.Dropout(0.25),\n",
    "            nn.Linear(512, num_classes),\n",
    "        )\n",
    "\n",
    "    def forward(self, x: torch.Tensor) -> torch.Tensor:\n",
    "        x = self.features(x.unsqueeze(1))\n",
    "        x = self.avgpool(x)\n",
    "        x = torch.flatten(x, 1)\n",
    "        return self.classifier(x)\n",
    "\n",
    "\n",
    "class EmployeeRNNClassifier(nn.Module):  # ~=98% (77 epochs, 0.0025 lr)\n",
    "    _STATE_T = t.Union[t.Optional[torch.Tensor], t.Optional[t.Tuple[torch.Tensor, torch.Tensor]]]\n",
    "    rnn_state: _STATE_T\n",
    "\n",
    "    def __init__(self, num_features: int, hidden_size: int, num_classes: int):\n",
    "        super().__init__()\n",
    "        self.rnn = nn.LSTM(\n",
    "            input_size=num_features,\n",
    "            hidden_size=hidden_size,\n",
    "            num_layers=2,\n",
    "            dropout=0.25,\n",
    "            batch_first=True,\n",
    "        )\n",
    "        self.classifier = nn.Sequential(\n",
    "            nn.Dropout(0.5),\n",
    "            nn.Linear(hidden_size, 128),\n",
    "            nn.ReLU(),\n",
    "            nn.Dropout(0.5),\n",
    "            nn.Linear(128, 512),\n",
    "            nn.ReLU(),\n",
    "            nn.Dropout(0.25),\n",
    "            nn.Linear(512, num_classes),\n",
    "        )\n",
    "        self.reset_rnn_state()\n",
    "\n",
    "    def forward(self, x: torch.Tensor) -> torch.Tensor:\n",
    "        x, rnn_state = self.rnn(x, self.rnn_state)\n",
    "        self.keep_rnn_state(rnn_state)\n",
    "\n",
    "        x = torch.flatten(x, 1)\n",
    "        return self.classifier(x)\n",
    "\n",
    "    def reset_rnn_state(self):\n",
    "        self.rnn_state = None\n",
    "\n",
    "    def keep_rnn_state(self, state: _STATE_T):\n",
    "        if isinstance(self.rnn, nn.LSTM):\n",
    "            self.rnn_state = (state[0].detach(), state[1].detach())\n",
    "        else:\n",
    "            self.rnn_state = state.detach()\n",
    "\n",
    "    def train(self, mode: bool = True):\n",
    "        self.reset_rnn_state()\n",
    "        return super().train(mode)"
   ],
   "metadata": {
    "collapsed": false
   }
  },
  {
   "cell_type": "code",
   "execution_count": 18,
   "outputs": [
    {
     "data": {
      "text/plain": "EmployeeRNNClassifier(\n  (rnn): LSTM(9, 64, num_layers=2, batch_first=True, dropout=0.25)\n  (classifier): Sequential(\n    (0): Dropout(p=0.5, inplace=False)\n    (1): Linear(in_features=64, out_features=128, bias=True)\n    (2): ReLU()\n    (3): Dropout(p=0.5, inplace=False)\n    (4): Linear(in_features=128, out_features=512, bias=True)\n    (5): ReLU()\n    (6): Dropout(p=0.25, inplace=False)\n    (7): Linear(in_features=512, out_features=2, bias=True)\n  )\n)"
     },
     "execution_count": 18,
     "metadata": {},
     "output_type": "execute_result"
    }
   ],
   "source": [
    "torch.manual_seed(0)\n",
    "\n",
    "# net = EmployeeClassifier(num_features=train_dataset.num_features, num_classes=len(train_dataset.classes)).to(DEVICE)\n",
    "# net = EmployeeCNNClassifier(num_classes=len(train_dataset.classes)).to(DEVICE)\n",
    "net = EmployeeRNNClassifier(\n",
    "    num_features=train_dataset.num_features,\n",
    "    hidden_size=64,\n",
    "    num_classes=len(train_dataset.classes),\n",
    ").to(DEVICE)\n",
    "loss_fn = nn.CrossEntropyLoss(weight=get_weights(train_dataset.targets).to(DEVICE))\n",
    "optimizer = optim.Adam(net.parameters(), lr=0.0025)\n",
    "\n",
    "train_dataloader = DataLoader(train_dataset, batch_size=64, shuffle=True, drop_last=True)\n",
    "test_dataloader = DataLoader(test_dataset, batch_size=len(test_dataset), drop_last=True)\n",
    "\n",
    "net"
   ],
   "metadata": {
    "collapsed": false
   }
  },
  {
   "cell_type": "code",
   "execution_count": 19,
   "outputs": [
    {
     "name": "stdout",
     "output_type": "stream",
     "text": [
      "Epoch 1\n",
      "--------------------------------\n",
      "Train Error: loss: 0.544609, accuracy: 0.7061\n",
      " Test Error: loss: 0.295863, accuracy: 0.8487\n",
      "\n",
      "Epoch 2\n",
      "--------------------------------\n",
      "Train Error: loss: 0.283595, accuracy: 0.9046\n",
      " Test Error: loss: 0.274096, accuracy: 0.8808\n",
      "\n",
      "Epoch 3\n",
      "--------------------------------\n",
      "Train Error: loss: 0.247088, accuracy: 0.9298\n",
      " Test Error: loss: 0.207075, accuracy: 0.9383\n",
      "\n",
      "Epoch 4\n",
      "--------------------------------\n",
      "Train Error: loss: 0.243691, accuracy: 0.9389\n",
      " Test Error: loss: 0.215756, accuracy: 0.9391\n",
      "\n",
      "Epoch 5\n",
      "--------------------------------\n",
      "Train Error: loss: 0.233316, accuracy: 0.9410\n",
      " Test Error: loss: 0.209641, accuracy: 0.9404\n",
      "\n",
      "Epoch 6\n",
      "--------------------------------\n",
      "Train Error: loss: 0.226087, accuracy: 0.9413\n",
      " Test Error: loss: 0.202149, accuracy: 0.9496\n",
      "\n",
      "Epoch 7\n",
      "--------------------------------\n",
      "Train Error: loss: 0.216302, accuracy: 0.9484\n",
      " Test Error: loss: 0.195528, accuracy: 0.9583\n",
      "\n",
      "Epoch 8\n",
      "--------------------------------\n",
      "Train Error: loss: 0.212049, accuracy: 0.9467\n",
      " Test Error: loss: 0.199941, accuracy: 0.9562\n",
      "\n",
      "Epoch 9\n",
      "--------------------------------\n",
      "Train Error: loss: 0.205733, accuracy: 0.9480\n",
      " Test Error: loss: 0.186412, accuracy: 0.9583\n",
      "\n",
      "Epoch 10\n",
      "--------------------------------\n",
      "Train Error: loss: 0.211306, accuracy: 0.9474\n",
      " Test Error: loss: 0.183825, accuracy: 0.9558\n",
      "\n",
      "Epoch 11\n",
      "--------------------------------\n",
      "Train Error: loss: 0.201741, accuracy: 0.9538\n",
      " Test Error: loss: 0.187534, accuracy: 0.9541\n",
      "\n",
      "Epoch 12\n",
      "--------------------------------\n",
      "Train Error: loss: 0.201156, accuracy: 0.9522\n",
      " Test Error: loss: 0.187339, accuracy: 0.9487\n",
      "\n",
      "Epoch 13\n",
      "--------------------------------\n",
      "Train Error: loss: 0.201368, accuracy: 0.9507\n",
      " Test Error: loss: 0.184587, accuracy: 0.9496\n",
      "\n",
      "Epoch 14\n",
      "--------------------------------\n",
      "Train Error: loss: 0.194375, accuracy: 0.9565\n",
      " Test Error: loss: 0.170616, accuracy: 0.9662\n",
      "\n",
      "Epoch 15\n",
      "--------------------------------\n",
      "Train Error: loss: 0.204322, accuracy: 0.9525\n",
      " Test Error: loss: 0.172277, accuracy: 0.9650\n",
      "\n",
      "Epoch 16\n",
      "--------------------------------\n",
      "Train Error: loss: 0.190667, accuracy: 0.9560\n",
      " Test Error: loss: 0.181301, accuracy: 0.9591\n",
      "\n",
      "Epoch 17\n",
      "--------------------------------\n",
      "Train Error: loss: 0.185328, accuracy: 0.9555\n",
      " Test Error: loss: 0.172502, accuracy: 0.9562\n",
      "\n",
      "Epoch 18\n",
      "--------------------------------\n",
      "Train Error: loss: 0.192143, accuracy: 0.9556\n",
      " Test Error: loss: 0.182796, accuracy: 0.9546\n",
      "\n",
      "Epoch 19\n",
      "--------------------------------\n",
      "Train Error: loss: 0.188999, accuracy: 0.9565\n",
      " Test Error: loss: 0.183658, accuracy: 0.9529\n",
      "\n",
      "Epoch 20\n",
      "--------------------------------\n",
      "Train Error: loss: 0.185004, accuracy: 0.9577\n",
      " Test Error: loss: 0.166653, accuracy: 0.9608\n",
      "\n",
      "Epoch 21\n",
      "--------------------------------\n",
      "Train Error: loss: 0.186942, accuracy: 0.9569\n",
      " Test Error: loss: 0.163843, accuracy: 0.9633\n",
      "\n",
      "Epoch 22\n",
      "--------------------------------\n",
      "Train Error: loss: 0.180227, accuracy: 0.9586\n",
      " Test Error: loss: 0.173114, accuracy: 0.9600\n",
      "\n",
      "Epoch 23\n",
      "--------------------------------\n",
      "Train Error: loss: 0.183035, accuracy: 0.9607\n",
      " Test Error: loss: 0.163564, accuracy: 0.9675\n",
      "\n",
      "Epoch 24\n",
      "--------------------------------\n",
      "Train Error: loss: 0.183527, accuracy: 0.9602\n",
      " Test Error: loss: 0.169649, accuracy: 0.9596\n",
      "\n",
      "Epoch 25\n",
      "--------------------------------\n",
      "Train Error: loss: 0.175451, accuracy: 0.9612\n",
      " Test Error: loss: 0.161859, accuracy: 0.9717\n",
      "\n",
      "Epoch 26\n",
      "--------------------------------\n",
      "Train Error: loss: 0.184913, accuracy: 0.9591\n",
      " Test Error: loss: 0.165503, accuracy: 0.9637\n",
      "\n",
      "Epoch 27\n",
      "--------------------------------\n",
      "Train Error: loss: 0.171291, accuracy: 0.9603\n",
      " Test Error: loss: 0.162640, accuracy: 0.9712\n",
      "\n",
      "Epoch 28\n",
      "--------------------------------\n",
      "Train Error: loss: 0.166815, accuracy: 0.9635\n",
      " Test Error: loss: 0.167767, accuracy: 0.9621\n",
      "\n",
      "Epoch 29\n",
      "--------------------------------\n",
      "Train Error: loss: 0.169154, accuracy: 0.9650\n",
      " Test Error: loss: 0.166058, accuracy: 0.9667\n",
      "\n",
      "Epoch 30\n",
      "--------------------------------\n",
      "Train Error: loss: 0.170794, accuracy: 0.9620\n",
      " Test Error: loss: 0.173269, accuracy: 0.9637\n",
      "\n",
      "Epoch 31\n",
      "--------------------------------\n",
      "Train Error: loss: 0.174638, accuracy: 0.9617\n",
      " Test Error: loss: 0.166489, accuracy: 0.9662\n",
      "\n",
      "Epoch 32\n",
      "--------------------------------\n",
      "Train Error: loss: 0.171106, accuracy: 0.9615\n",
      " Test Error: loss: 0.166522, accuracy: 0.9625\n",
      "\n",
      "Epoch 33\n",
      "--------------------------------\n",
      "Train Error: loss: 0.166882, accuracy: 0.9624\n",
      " Test Error: loss: 0.167560, accuracy: 0.9662\n",
      "\n",
      "Epoch 34\n",
      "--------------------------------\n",
      "Train Error: loss: 0.174400, accuracy: 0.9611\n",
      " Test Error: loss: 0.158611, accuracy: 0.9654\n",
      "\n",
      "Epoch 35\n",
      "--------------------------------\n",
      "Train Error: loss: 0.167279, accuracy: 0.9635\n",
      " Test Error: loss: 0.164994, accuracy: 0.9708\n",
      "\n",
      "Epoch 36\n",
      "--------------------------------\n",
      "Train Error: loss: 0.170071, accuracy: 0.9654\n",
      " Test Error: loss: 0.150707, accuracy: 0.9721\n",
      "\n",
      "Epoch 37\n",
      "--------------------------------\n",
      "Train Error: loss: 0.168856, accuracy: 0.9646\n",
      " Test Error: loss: 0.156954, accuracy: 0.9692\n",
      "\n",
      "Epoch 38\n",
      "--------------------------------\n",
      "Train Error: loss: 0.159885, accuracy: 0.9652\n",
      " Test Error: loss: 0.175045, accuracy: 0.9621\n",
      "\n",
      "Epoch 39\n",
      "--------------------------------\n",
      "Train Error: loss: 0.167231, accuracy: 0.9620\n",
      " Test Error: loss: 0.159734, accuracy: 0.9692\n",
      "\n",
      "Epoch 40\n",
      "--------------------------------\n",
      "Train Error: loss: 0.163635, accuracy: 0.9632\n",
      " Test Error: loss: 0.174637, accuracy: 0.9692\n",
      "\n",
      "Epoch 41\n",
      "--------------------------------\n",
      "Train Error: loss: 0.165546, accuracy: 0.9642\n",
      " Test Error: loss: 0.174820, accuracy: 0.9642\n",
      "\n",
      "Epoch 42\n",
      "--------------------------------\n",
      "Train Error: loss: 0.160969, accuracy: 0.9654\n",
      " Test Error: loss: 0.169222, accuracy: 0.9637\n",
      "\n",
      "Epoch 43\n",
      "--------------------------------\n",
      "Train Error: loss: 0.169493, accuracy: 0.9622\n",
      " Test Error: loss: 0.171250, accuracy: 0.9600\n",
      "\n",
      "Epoch 44\n",
      "--------------------------------\n",
      "Train Error: loss: 0.161981, accuracy: 0.9636\n",
      " Test Error: loss: 0.171146, accuracy: 0.9692\n",
      "\n",
      "Epoch 45\n",
      "--------------------------------\n",
      "Train Error: loss: 0.159409, accuracy: 0.9642\n",
      " Test Error: loss: 0.160972, accuracy: 0.9708\n",
      "\n",
      "Epoch 46\n",
      "--------------------------------\n",
      "Train Error: loss: 0.158260, accuracy: 0.9650\n",
      " Test Error: loss: 0.190107, accuracy: 0.9687\n",
      "\n",
      "Epoch 47\n",
      "--------------------------------\n",
      "Train Error: loss: 0.162388, accuracy: 0.9659\n",
      " Test Error: loss: 0.162897, accuracy: 0.9704\n",
      "\n",
      "Epoch 48\n",
      "--------------------------------\n",
      "Train Error: loss: 0.165130, accuracy: 0.9633\n",
      " Test Error: loss: 0.199925, accuracy: 0.9696\n",
      "\n",
      "Epoch 49\n",
      "--------------------------------\n",
      "Train Error: loss: 0.167271, accuracy: 0.9629\n",
      " Test Error: loss: 0.160604, accuracy: 0.9712\n",
      "\n",
      "Epoch 50\n",
      "--------------------------------\n",
      "Train Error: loss: 0.157563, accuracy: 0.9655\n",
      " Test Error: loss: 0.182972, accuracy: 0.9562\n",
      "\n",
      "Epoch 51\n",
      "--------------------------------\n",
      "Train Error: loss: 0.156473, accuracy: 0.9649\n",
      " Test Error: loss: 0.171927, accuracy: 0.9683\n",
      "\n",
      "Epoch 52\n",
      "--------------------------------\n",
      "Train Error: loss: 0.157913, accuracy: 0.9640\n",
      " Test Error: loss: 0.164022, accuracy: 0.9725\n",
      "\n",
      "Epoch 53\n",
      "--------------------------------\n",
      "Train Error: loss: 0.151338, accuracy: 0.9673\n",
      " Test Error: loss: 0.182202, accuracy: 0.9712\n",
      "\n",
      "Epoch 54\n",
      "--------------------------------\n",
      "Train Error: loss: 0.165575, accuracy: 0.9647\n",
      " Test Error: loss: 0.160621, accuracy: 0.9721\n",
      "\n",
      "Epoch 55\n",
      "--------------------------------\n",
      "Train Error: loss: 0.153089, accuracy: 0.9664\n",
      " Test Error: loss: 0.174964, accuracy: 0.9708\n",
      "\n",
      "Epoch 56\n",
      "--------------------------------\n",
      "Train Error: loss: 0.152732, accuracy: 0.9680\n",
      " Test Error: loss: 0.160369, accuracy: 0.9700\n",
      "\n",
      "Epoch 57\n",
      "--------------------------------\n",
      "Train Error: loss: 0.156979, accuracy: 0.9664\n",
      " Test Error: loss: 0.173278, accuracy: 0.9646\n",
      "\n",
      "Epoch 58\n",
      "--------------------------------\n",
      "Train Error: loss: 0.149746, accuracy: 0.9660\n",
      " Test Error: loss: 0.175722, accuracy: 0.9696\n",
      "\n",
      "Epoch 59\n",
      "--------------------------------\n",
      "Train Error: loss: 0.146896, accuracy: 0.9642\n",
      " Test Error: loss: 0.161394, accuracy: 0.9683\n",
      "\n",
      "Epoch 60\n",
      "--------------------------------\n",
      "Train Error: loss: 0.149366, accuracy: 0.9680\n",
      " Test Error: loss: 0.175675, accuracy: 0.9717\n",
      "\n",
      "Epoch 61\n",
      "--------------------------------\n",
      "Train Error: loss: 0.151886, accuracy: 0.9656\n",
      " Test Error: loss: 0.167470, accuracy: 0.9721\n",
      "\n",
      "Epoch 62\n",
      "--------------------------------\n",
      "Train Error: loss: 0.154931, accuracy: 0.9672\n",
      " Test Error: loss: 0.164786, accuracy: 0.9679\n",
      "\n",
      "Epoch 63\n",
      "--------------------------------\n",
      "Train Error: loss: 0.151360, accuracy: 0.9655\n",
      " Test Error: loss: 0.178733, accuracy: 0.9621\n",
      "\n",
      "Epoch 64\n",
      "--------------------------------\n",
      "Train Error: loss: 0.153223, accuracy: 0.9658\n",
      " Test Error: loss: 0.171095, accuracy: 0.9642\n",
      "\n",
      "Epoch 65\n",
      "--------------------------------\n",
      "Train Error: loss: 0.146883, accuracy: 0.9676\n",
      " Test Error: loss: 0.164172, accuracy: 0.9725\n",
      "\n",
      "Epoch 66\n",
      "--------------------------------\n",
      "Train Error: loss: 0.157141, accuracy: 0.9661\n",
      " Test Error: loss: 0.194079, accuracy: 0.9629\n",
      "\n",
      "Epoch 67\n",
      "--------------------------------\n",
      "Train Error: loss: 0.149952, accuracy: 0.9630\n",
      " Test Error: loss: 0.167874, accuracy: 0.9767\n",
      "\n",
      "Epoch 68\n",
      "--------------------------------\n",
      "Train Error: loss: 0.155371, accuracy: 0.9650\n",
      " Test Error: loss: 0.155551, accuracy: 0.9737\n",
      "\n",
      "Epoch 69\n",
      "--------------------------------\n",
      "Train Error: loss: 0.150473, accuracy: 0.9656\n",
      " Test Error: loss: 0.167415, accuracy: 0.9675\n",
      "\n",
      "Epoch 70\n",
      "--------------------------------\n",
      "Train Error: loss: 0.144594, accuracy: 0.9661\n",
      " Test Error: loss: 0.181399, accuracy: 0.9679\n",
      "\n",
      "Epoch 71\n",
      "--------------------------------\n",
      "Train Error: loss: 0.150587, accuracy: 0.9660\n",
      " Test Error: loss: 0.157131, accuracy: 0.9700\n",
      "\n",
      "Epoch 72\n",
      "--------------------------------\n",
      "Train Error: loss: 0.143900, accuracy: 0.9677\n",
      " Test Error: loss: 0.167667, accuracy: 0.9654\n",
      "\n",
      "Epoch 73\n",
      "--------------------------------\n",
      "Train Error: loss: 0.148068, accuracy: 0.9639\n",
      " Test Error: loss: 0.171427, accuracy: 0.9717\n",
      "\n",
      "Epoch 74\n",
      "--------------------------------\n",
      "Train Error: loss: 0.148098, accuracy: 0.9660\n",
      " Test Error: loss: 0.165545, accuracy: 0.9687\n",
      "\n",
      "Epoch 75\n",
      "--------------------------------\n",
      "Train Error: loss: 0.143956, accuracy: 0.9622\n",
      " Test Error: loss: 0.169387, accuracy: 0.9629\n",
      "\n",
      "Epoch 76\n",
      "--------------------------------\n",
      "Train Error: loss: 0.147256, accuracy: 0.9678\n",
      " Test Error: loss: 0.170708, accuracy: 0.9679\n",
      "\n",
      "Epoch 77\n",
      "--------------------------------\n",
      "Train Error: loss: 0.154431, accuracy: 0.9655\n",
      " Test Error: loss: 0.171235, accuracy: 0.9629\n",
      "\n",
      "CPU times: total: 1min 11s\n",
      "Wall time: 1min 16s\n"
     ]
    }
   ],
   "source": [
    "%%time\n",
    "\n",
    "train_losses, train_accuracy, test_losses, test_accuracy = common_train(\n",
    "    epochs=77,\n",
    "    model=net,\n",
    "    loss_fn=loss_fn,\n",
    "    optimizer=optimizer,\n",
    "    train_dataloader=train_dataloader,\n",
    "    test_dataloader=test_dataloader,\n",
    "    device=DEVICE,\n",
    ")"
   ],
   "metadata": {
    "collapsed": false
   }
  },
  {
   "cell_type": "markdown",
   "source": [
    "## Оценка и выводы"
   ],
   "metadata": {
    "collapsed": false
   }
  },
  {
   "cell_type": "code",
   "execution_count": 20,
   "outputs": [
    {
     "data": {
      "text/plain": "<Figure size 600x700 with 2 Axes>",
      "image/png": "[encoded data removed]"
     },
     "metadata": {},
     "output_type": "display_data"
    }
   ],
   "source": [
    "plot_train_test(train_losses, train_accuracy, test_losses, test_accuracy)"
   ],
   "metadata": {
    "collapsed": false
   }
  },
  {
   "cell_type": "code",
   "execution_count": 21,
   "outputs": [],
   "source": [
    "y_true, y_pred = get_y_true_y_pred(net, test_dataloader, DEVICE)\n",
    "y_true, y_pred = y_true.cpu(), y_pred.argmax(1).cpu()"
   ],
   "metadata": {
    "collapsed": false
   }
  },
  {
   "cell_type": "code",
   "execution_count": 22,
   "outputs": [
    {
     "data": {
      "text/plain": "<Figure size 350x350 with 1 Axes>",
      "image/png": "[encoded data removed]"
     },
     "metadata": {},
     "output_type": "display_data"
    }
   ],
   "source": [
    "cm_display = metrics.ConfusionMatrixDisplay.from_predictions(\n",
    "    y_true,\n",
    "    y_pred,\n",
    "    display_labels=test_dataset.classes,\n",
    "    colorbar=False,\n",
    "    xticks_rotation=0,\n",
    "    cmap=sns.color_palette('light:b', as_cmap=True)\n",
    ")\n",
    "cm_display.ax_.grid(False)\n",
    "cm_display.figure_.set_size_inches(3.5, 3.5)"
   ],
   "metadata": {
    "collapsed": false
   }
  },
  {
   "cell_type": "code",
   "execution_count": 23,
   "outputs": [
    {
     "name": "stdout",
     "output_type": "stream",
     "text": [
      "              precision    recall  f1-score   support\n",
      "\n",
      "           0       0.99      0.97      0.98      2024\n",
      "           1       0.85      0.93      0.89       375\n",
      "\n",
      "    accuracy                           0.96      2399\n",
      "   macro avg       0.92      0.95      0.93      2399\n",
      "weighted avg       0.96      0.96      0.96      2399\n",
      "\n"
     ]
    }
   ],
   "source": [
    "print(metrics.classification_report(y_true, y_pred, target_names=test_dataset.classes, zero_division=True))"
   ],
   "metadata": {
    "collapsed": false
   }
  }
 ],
 "metadata": {
  "kernelspec": {
   "display_name": "Python 3",
   "language": "python",
   "name": "python3"
  },
  "language_info": {
   "codemirror_mode": {
    "name": "ipython",
    "version": 2
   },
   "file_extension": ".py",
   "mimetype": "text/x-python",
   "name": "python",
   "nbconvert_exporter": "python",
   "pygments_lexer": "ipython2",
   "version": "2.7.6"
  }
 },
 "nbformat": 4,
 "nbformat_minor": 0
}
