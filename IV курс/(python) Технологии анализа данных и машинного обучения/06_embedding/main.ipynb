{
 "cells": [
  {
   "cell_type": "markdown",
   "metadata": {},
   "source": [
    "# 6. Классификация текстов при помощи сверточных сетей\n",
    "\n",
    "__Автор__: Никита Владимирович Блохин (NVBlokhin@fa.ru)\n",
    "\n",
    "Финансовый университет, 2020 г."
   ]
  },
  {
   "cell_type": "code",
   "execution_count": 334,
   "outputs": [],
   "source": [
    "import re\n",
    "import typing as t\n",
    "from collections import defaultdict\n",
    "from functools import lru_cache\n",
    "from pathlib import Path\n",
    "\n",
    "import nltk\n",
    "import pandas as pd\n",
    "import torch\n",
    "import torch.nn as nn\n",
    "import torch.nn.functional as F\n",
    "import torch.optim as optim\n",
    "from nltk.corpus import stopwords, wordnet\n",
    "from sklearn import metrics\n",
    "from sklearn.preprocessing import LabelEncoder\n",
    "from torch.utils.data import Dataset, DataLoader, Subset, random_split"
   ],
   "metadata": {
    "collapsed": false
   }
  },
  {
   "cell_type": "code",
   "execution_count": 335,
   "outputs": [
    {
     "name": "stderr",
     "output_type": "stream",
     "text": [
      "[nltk_data] Downloading package punkt to\n",
      "[nltk_data]     C:\\Users\\super\\AppData\\Roaming\\nltk_data...\n",
      "[nltk_data]   Package punkt is already up-to-date!\n",
      "[nltk_data] Downloading package stopwords to\n",
      "[nltk_data]     C:\\Users\\super\\AppData\\Roaming\\nltk_data...\n",
      "[nltk_data]   Package stopwords is already up-to-date!\n",
      "[nltk_data] Downloading package wordnet to\n",
      "[nltk_data]     C:\\Users\\super\\AppData\\Roaming\\nltk_data...\n",
      "[nltk_data]   Package wordnet is already up-to-date!\n",
      "[nltk_data] Downloading package omw-1.4 to\n",
      "[nltk_data]     C:\\Users\\super\\AppData\\Roaming\\nltk_data...\n",
      "[nltk_data]   Package omw-1.4 is already up-to-date!\n",
      "[nltk_data] Downloading package averaged_perceptron_tagger to\n",
      "[nltk_data]     C:\\Users\\super\\AppData\\Roaming\\nltk_data...\n",
      "[nltk_data]   Package averaged_perceptron_tagger is already up-to-\n",
      "[nltk_data]       date!\n"
     ]
    },
    {
     "data": {
      "text/plain": "True"
     },
     "execution_count": 335,
     "metadata": {},
     "output_type": "execute_result"
    }
   ],
   "source": [
    "nltk.download('punkt')\n",
    "nltk.download('stopwords')\n",
    "nltk.download('wordnet')\n",
    "nltk.download('omw-1.4')\n",
    "nltk.download('averaged_perceptron_tagger')"
   ],
   "metadata": {
    "collapsed": false
   }
  },
  {
   "cell_type": "code",
   "execution_count": 336,
   "outputs": [
    {
     "name": "stdout",
     "output_type": "stream",
     "text": [
      "Using CUDA device\n"
     ]
    }
   ],
   "source": [
    "DATA_DIR = Path(\"data/\")\n",
    "\n",
    "DEVICE = \"cuda\" if torch.cuda.is_available() else \"cpu\"\n",
    "print(f\"Using {DEVICE.upper()} device\")"
   ],
   "metadata": {
    "collapsed": false
   }
  },
  {
   "cell_type": "code",
   "execution_count": 337,
   "outputs": [],
   "source": [
    "def on_cuda(device: str) -> bool:\n",
    "    return device == \"cuda\"\n",
    "\n",
    "\n",
    "def common_train(\n",
    "        model: nn.Module,\n",
    "        loss_fn: nn.Module,\n",
    "        optimizer: optim.Optimizer,\n",
    "        train_dataloader: DataLoader,\n",
    "        epochs: int,\n",
    "        test_dataloader: DataLoader = None,\n",
    "        lr_scheduler=None,\n",
    "        verbose: int = 100,\n",
    "        device: str = \"cpu\",\n",
    ") -> t.List[float]:\n",
    "    train_losses = []\n",
    "    for epoch in range(epochs):\n",
    "        print(f\"Epoch {epoch + 1}\\n\" + \"-\" * 32)\n",
    "        train_loss = train_loop(\n",
    "            train_dataloader,\n",
    "            model,\n",
    "            loss_fn,\n",
    "            optimizer,\n",
    "            verbose=verbose,\n",
    "            device=device,\n",
    "        )\n",
    "        train_losses.append(train_loss.item())\n",
    "        if test_dataloader:\n",
    "            loss, acc = test_loop(test_dataloader, model, loss_fn, device=device)\n",
    "            if lr_scheduler:\n",
    "                lr_scheduler.step(loss)\n",
    "        torch.cuda.empty_cache()\n",
    "    return train_losses\n",
    "\n",
    "\n",
    "def train_loop(\n",
    "        dataloader: DataLoader,\n",
    "        model: nn.Module,\n",
    "        loss_fn: nn.Module,\n",
    "        optimizer: optim.Optimizer,\n",
    "        verbose: int = 100,\n",
    "        device: str = \"cpu\",\n",
    ") -> torch.Tensor:\n",
    "    model.train()\n",
    "\n",
    "    size = len(dataloader.dataset)  # noqa\n",
    "    num_batches = len(dataloader)\n",
    "    avg_loss = 0\n",
    "\n",
    "    for batch, (x, y) in enumerate(dataloader):\n",
    "        x, y = x.to(device), y.to(device)\n",
    "\n",
    "        pred = model(x)\n",
    "        loss = loss_fn(pred, y)\n",
    "\n",
    "        optimizer.zero_grad()\n",
    "        loss.backward()\n",
    "        optimizer.step()\n",
    "\n",
    "        avg_loss += loss\n",
    "        if batch % verbose == 0:\n",
    "            print(f\"loss: {loss:>7f}  [{batch * len(x):>5d}/{size:>5d}]\")\n",
    "\n",
    "        del x, y, pred, loss\n",
    "        torch.cuda.empty_cache()\n",
    "\n",
    "    return avg_loss / num_batches\n",
    "\n",
    "\n",
    "@torch.no_grad()\n",
    "def test_loop(\n",
    "        dataloader: DataLoader,\n",
    "        model: nn.Module,\n",
    "        loss_fn: nn.Module,\n",
    "        device: str = \"cpu\",\n",
    ") -> t.Tuple[torch.Tensor, torch.Tensor]:\n",
    "    model.eval()\n",
    "\n",
    "    size = len(dataloader.dataset)  # noqa\n",
    "    num_batches = len(dataloader)\n",
    "    avg_loss, correct = 0, 0\n",
    "\n",
    "    for x, y in dataloader:\n",
    "        x, y = x.to(device), y.to(device)\n",
    "        pred = model(x)\n",
    "        avg_loss += loss_fn(pred, y)\n",
    "        correct += (pred.argmax(1) == y).type(torch.float).sum().item()  # noqa\n",
    "\n",
    "        del x, y, pred\n",
    "        torch.cuda.empty_cache()\n",
    "\n",
    "    avg_loss /= num_batches\n",
    "    accuracy = correct / size\n",
    "    print(f\"Test Error: \\n Accuracy: {accuracy:>4f}, Avg loss: {avg_loss:>8f} \\n\")\n",
    "\n",
    "    return avg_loss, accuracy\n",
    "\n",
    "\n",
    "def train_test_split(dataset: t.Union[Dataset, t.Sized], train_part: float) -> t.Tuple[Subset, Subset]:\n",
    "    train_size = round(train_part * len(dataset))\n",
    "    test_size = len(dataset) - train_size\n",
    "    train_dataset, test_dataset = random_split(dataset, lengths=(train_size, test_size))\n",
    "    return train_dataset, test_dataset\n",
    "\n",
    "\n",
    "@torch.no_grad()\n",
    "def get_y_test_y_pred(\n",
    "        model: nn.Module,\n",
    "        test_dataloader: DataLoader,\n",
    "        device: str = \"cpu\",\n",
    ") -> t.Tuple[torch.Tensor, torch.Tensor]:\n",
    "    model.eval()\n",
    "\n",
    "    y_test = []\n",
    "    y_pred = []\n",
    "    for x, y in test_dataloader:\n",
    "        x, y = x.to(device), y.to(device)\n",
    "        pred = model(x).argmax(1)\n",
    "        y_test.append(y)\n",
    "        y_pred.append(pred)\n",
    "\n",
    "        del x\n",
    "        torch.cuda.empty_cache()\n",
    "\n",
    "    return torch.hstack(y_test).detach().cpu(), torch.hstack(y_pred).detach().cpu()"
   ],
   "metadata": {
    "collapsed": false
   }
  },
  {
   "cell_type": "markdown",
   "metadata": {
    "id": "tx75RigN8xIJ"
   },
   "source": [
    "## 1. Представление и предобработка текстовых данных в виде последовательностей"
   ]
  },
  {
   "cell_type": "markdown",
   "metadata": {
    "id": "LScKIAey9dAM"
   },
   "source": [
    "1.1 Представьте первое предложение из строки `text` как последовательность из индексов слов, входящих в это предложение"
   ]
  },
  {
   "cell_type": "code",
   "execution_count": 338,
   "metadata": {
    "id": "phEw721T9SYW"
   },
   "outputs": [],
   "source": [
    "text = 'Select your preferences and run the install command. Stable represents the most currently tested and supported version of PyTorch. Note that LibTorch is only available for C++'"
   ]
  },
  {
   "cell_type": "code",
   "execution_count": 339,
   "outputs": [
    {
     "data": {
      "text/plain": "[7, 2, 16, 0, 3, 4, 6, 18]"
     },
     "execution_count": 339,
     "metadata": {},
     "output_type": "execute_result"
    }
   ],
   "source": [
    "text = text.lower()\n",
    "\n",
    "alphabet = list(set(nltk.word_tokenize(text.replace(\".\", \"\"))))\n",
    "word2index = {w: i for i, w in enumerate(alphabet)}\n",
    "\n",
    "first_sentence = nltk.sent_tokenize(text)[0].replace(\".\", \"\")\n",
    "[word2index[w] for w in nltk.word_tokenize(first_sentence)]"
   ],
   "metadata": {
    "collapsed": false
   }
  },
  {
   "cell_type": "markdown",
   "metadata": {
    "id": "pSFQCPtD9x5J"
   },
   "source": [
    "1.2 Представьте первое предложение из строки `text` как последовательность векторов, соответствующих индексам слов. Для представления индекса в виде вектора используйте унитарное кодирование. В результате должен получиться двумерный тензор размера `количество слов в предложении` x `количество уникальных слов`"
   ]
  },
  {
   "cell_type": "code",
   "execution_count": 340,
   "metadata": {
    "id": "RZS4XLV0-buf"
   },
   "outputs": [],
   "source": [
    "text = 'Select your preferences and run the install command. Stable represents the most currently tested and supported version of PyTorch. Note that LibTorch is only available for C++'"
   ]
  },
  {
   "cell_type": "code",
   "execution_count": 341,
   "outputs": [
    {
     "data": {
      "text/plain": "tensor([[0., 0., 0., 0., 0., 0., 0., 1., 0., 0., 0., 0., 0., 0., 0., 0., 0., 0.,\n         0., 0., 0., 0., 0., 0., 0.],\n        [0., 0., 1., 0., 0., 0., 0., 0., 0., 0., 0., 0., 0., 0., 0., 0., 0., 0.,\n         0., 0., 0., 0., 0., 0., 0.],\n        [0., 0., 0., 0., 0., 0., 0., 0., 0., 0., 0., 0., 0., 0., 0., 0., 1., 0.,\n         0., 0., 0., 0., 0., 0., 0.],\n        [1., 0., 0., 0., 0., 0., 0., 0., 0., 0., 0., 0., 0., 0., 0., 0., 0., 0.,\n         0., 0., 0., 0., 0., 0., 0.],\n        [0., 0., 0., 1., 0., 0., 0., 0., 0., 0., 0., 0., 0., 0., 0., 0., 0., 0.,\n         0., 0., 0., 0., 0., 0., 0.],\n        [0., 0., 0., 0., 1., 0., 0., 0., 0., 0., 0., 0., 0., 0., 0., 0., 0., 0.,\n         0., 0., 0., 0., 0., 0., 0.],\n        [0., 0., 0., 0., 0., 0., 1., 0., 0., 0., 0., 0., 0., 0., 0., 0., 0., 0.,\n         0., 0., 0., 0., 0., 0., 0.],\n        [0., 0., 0., 0., 0., 0., 0., 0., 0., 0., 0., 0., 0., 0., 0., 0., 0., 0.,\n         1., 0., 0., 0., 0., 0., 0.]])"
     },
     "execution_count": 341,
     "metadata": {},
     "output_type": "execute_result"
    }
   ],
   "source": [
    "text = text.lower()\n",
    "\n",
    "alphabet = list(set(nltk.word_tokenize(text.replace(\".\", \"\"))))\n",
    "word2index = {w: i for i, w in enumerate(alphabet)}\n",
    "\n",
    "first_sentence = nltk.sent_tokenize(text)[0].replace(\".\", \"\")\n",
    "words = nltk.word_tokenize(first_sentence)\n",
    "\n",
    "vectors = torch.zeros(len(words), len(alphabet))\n",
    "indices = [(i, word2index[w]) for i, w in enumerate(words)]\n",
    "vectors[list(zip(*indices))] = 1\n",
    "vectors"
   ],
   "metadata": {
    "collapsed": false
   }
  },
  {
   "cell_type": "markdown",
   "metadata": {
    "id": "9ZvQKHYA-mJN"
   },
   "source": [
    "1.3 Решите задачу 1.2, используя модуль `nn.Embedding`"
   ]
  },
  {
   "cell_type": "code",
   "execution_count": 342,
   "outputs": [
    {
     "data": {
      "text/plain": "tensor([[-1.3962e+00, -6.6144e-02, -3.5836e-01, -1.5616e+00, -3.5464e-01,\n          1.0811e+00,  1.3148e-01,  1.5735e+00,  7.8143e-01, -1.0787e+00,\n         -7.2091e-01,  1.4708e+00,  2.7564e-01,  6.6678e-01, -9.9439e-01,\n         -1.1894e+00, -1.1959e+00, -5.5963e-01,  5.3347e-01,  4.0689e-01,\n          3.9459e-01,  1.7151e-01,  8.7604e-01, -2.8709e-01,  1.0216e+00],\n        [ 1.0554e+00,  1.7784e-01, -2.3034e-01, -3.9175e-01,  5.4329e-01,\n         -3.9516e-01, -4.4622e-01,  7.4402e-01,  1.5210e+00,  3.4105e+00,\n         -1.5312e+00, -1.2341e+00,  1.8197e+00, -5.5153e-01, -5.6925e-01,\n          9.1997e-01,  1.1108e+00,  1.2899e+00, -1.4782e+00,  2.5672e+00,\n         -4.7312e-01,  3.3555e-01, -1.6293e+00, -5.4974e-01, -4.7983e-01],\n        [-7.6447e-01,  2.4084e-01,  1.6643e-01, -2.2318e+00,  1.3892e+00,\n         -5.0233e-01,  1.6797e+00, -1.0240e+00,  1.6859e+00, -1.2177e+00,\n          7.6496e-01,  1.1971e+00, -7.1279e-01, -6.5576e-02,  2.2050e+00,\n          1.7852e+00, -1.1840e-02,  9.7967e-01, -1.0661e+00,  1.7720e+00,\n         -2.7926e-01, -2.7690e-01,  7.4893e-01, -6.4346e-01, -9.5176e-01],\n        [-1.1258e+00, -1.1524e+00, -2.5058e-01, -4.3388e-01,  8.4871e-01,\n          6.9201e-01, -3.1601e-01, -2.1152e+00,  3.2227e-01, -1.2633e+00,\n          3.4998e-01,  3.0813e-01,  1.1984e-01,  1.2377e+00,  1.1168e+00,\n         -2.4728e-01, -1.3527e+00, -1.6959e+00,  5.6665e-01,  7.9351e-01,\n          5.9884e-01, -1.5551e+00, -3.4136e-01,  1.8530e+00,  7.5019e-01],\n        [-4.9968e-01, -1.0670e+00,  1.1149e+00, -1.4067e-01,  8.0575e-01,\n         -9.3348e-02,  6.8705e-01, -8.3832e-01,  8.9182e-04,  8.4189e-01,\n         -4.0003e-01,  1.0395e+00,  3.5815e-01, -2.4600e-01,  2.3025e+00,\n         -1.8817e+00, -4.9727e-02, -1.0450e+00, -9.5650e-01,  3.3532e-02,\n          7.1009e-01,  1.6459e+00, -1.3602e+00,  3.4457e-01,  5.1987e-01],\n        [-2.6133e+00, -1.6965e+00, -2.2824e-01,  2.7995e-01,  2.4693e-01,\n          7.6887e-02,  3.3801e-01,  4.5440e-01,  4.5694e-01, -8.6537e-01,\n          7.8131e-01, -9.2679e-01, -2.1883e-01, -2.4351e+00, -7.2915e-02,\n         -3.3986e-02,  9.6252e-01,  3.4917e-01, -9.2146e-01, -5.6195e-02,\n         -6.2270e-01, -4.6372e-01,  1.9218e+00, -4.0255e-01,  1.2390e-01],\n        [-2.0106e-01, -1.1793e-01,  1.9220e-01, -7.7216e-01, -1.9003e+00,\n          1.3068e-01, -7.0429e-01,  3.1472e-01,  1.5739e-01,  3.8536e-01,\n          9.6715e-01, -9.9108e-01,  3.0161e-01, -1.0732e-01,  9.9846e-01,\n         -4.9871e-01,  7.6111e-01,  6.1830e-01,  3.1405e-01,  2.1333e-01,\n         -1.2005e-01,  3.6046e-01, -3.1403e-01, -1.0787e+00,  2.4081e-01],\n        [ 1.8024e+00, -1.0597e+00,  3.4028e+00, -5.6867e-01, -4.7549e-01,\n          1.7432e+00, -2.0441e-01, -3.1641e-01,  1.2937e+00,  1.3453e+00,\n          1.9394e-01,  1.5717e+00, -3.8274e-01,  1.3951e+00,  3.4275e-01,\n         -1.6045e+00, -5.8731e-01,  6.0039e-01,  4.3780e-01, -9.6455e-02,\n          3.3027e-01, -1.8752e-01, -1.4271e+00,  5.9255e-01, -1.1582e+00]],\n       grad_fn=<EmbeddingBackward0>)"
     },
     "execution_count": 342,
     "metadata": {},
     "output_type": "execute_result"
    }
   ],
   "source": [
    "torch.manual_seed(0)\n",
    "\n",
    "# https://pytorch.org/tutorials/beginner/nlp/word_embeddings_tutorial.html\n",
    "# кажется, что просят невозможного. Попадание в размерность - уже успех\n",
    "embeds = nn.Embedding(num_embeddings=len(alphabet), embedding_dim=len(alphabet))\n",
    "indices = torch.tensor([word2index[w] for w in nltk.word_tokenize(first_sentence)])\n",
    "embeds(indices)"
   ],
   "metadata": {
    "collapsed": false
   }
  },
  {
   "cell_type": "markdown",
   "metadata": {
    "id": "TXjM7qEUNFY_"
   },
   "source": [
    "## 2. Классификация фамилий по национальности (ConvNet)\n",
    "\n",
    "Датасет: https://disk.yandex.ru/d/owHew8hzPc7X9Q?w=1"
   ]
  },
  {
   "cell_type": "markdown",
   "source": [
    "2.1 Считать файл `surnames/surnames.csv`."
   ],
   "metadata": {
    "collapsed": false
   }
  },
  {
   "cell_type": "code",
   "execution_count": 343,
   "outputs": [
    {
     "data": {
      "text/plain": "    surname nationality\n0  Woodford     English\n1      Coté      French\n2      Kore     English\n3     Koury      Arabic\n4    Lebzak     Russian",
      "text/html": "<div>\n<style scoped>\n    .dataframe tbody tr th:only-of-type {\n        vertical-align: middle;\n    }\n\n    .dataframe tbody tr th {\n        vertical-align: top;\n    }\n\n    .dataframe thead th {\n        text-align: right;\n    }\n</style>\n<table border=\"1\" class=\"dataframe\">\n  <thead>\n    <tr style=\"text-align: right;\">\n      <th></th>\n      <th>surname</th>\n      <th>nationality</th>\n    </tr>\n  </thead>\n  <tbody>\n    <tr>\n      <th>0</th>\n      <td>Woodford</td>\n      <td>English</td>\n    </tr>\n    <tr>\n      <th>1</th>\n      <td>Coté</td>\n      <td>French</td>\n    </tr>\n    <tr>\n      <th>2</th>\n      <td>Kore</td>\n      <td>English</td>\n    </tr>\n    <tr>\n      <th>3</th>\n      <td>Koury</td>\n      <td>Arabic</td>\n    </tr>\n    <tr>\n      <th>4</th>\n      <td>Lebzak</td>\n      <td>Russian</td>\n    </tr>\n  </tbody>\n</table>\n</div>"
     },
     "execution_count": 343,
     "metadata": {},
     "output_type": "execute_result"
    }
   ],
   "source": [
    "surnames_df = pd.read_csv(DATA_DIR / \"surnames.csv\")\n",
    "surnames_df.head()"
   ],
   "metadata": {
    "collapsed": false
   }
  },
  {
   "cell_type": "markdown",
   "source": [
    "2.2 Закодировать национальности числами, начиная с 0."
   ],
   "metadata": {
    "collapsed": false
   }
  },
  {
   "cell_type": "code",
   "execution_count": 344,
   "outputs": [
    {
     "name": "stdout",
     "output_type": "stream",
     "text": [
      "classes: 18\n"
     ]
    },
    {
     "data": {
      "text/plain": "    surname nationality  target\n0  Woodford     English       4\n1      Coté      French       5\n2      Kore     English       4\n3     Koury      Arabic       0\n4    Lebzak     Russian      14",
      "text/html": "<div>\n<style scoped>\n    .dataframe tbody tr th:only-of-type {\n        vertical-align: middle;\n    }\n\n    .dataframe tbody tr th {\n        vertical-align: top;\n    }\n\n    .dataframe thead th {\n        text-align: right;\n    }\n</style>\n<table border=\"1\" class=\"dataframe\">\n  <thead>\n    <tr style=\"text-align: right;\">\n      <th></th>\n      <th>surname</th>\n      <th>nationality</th>\n      <th>target</th>\n    </tr>\n  </thead>\n  <tbody>\n    <tr>\n      <th>0</th>\n      <td>Woodford</td>\n      <td>English</td>\n      <td>4</td>\n    </tr>\n    <tr>\n      <th>1</th>\n      <td>Coté</td>\n      <td>French</td>\n      <td>5</td>\n    </tr>\n    <tr>\n      <th>2</th>\n      <td>Kore</td>\n      <td>English</td>\n      <td>4</td>\n    </tr>\n    <tr>\n      <th>3</th>\n      <td>Koury</td>\n      <td>Arabic</td>\n      <td>0</td>\n    </tr>\n    <tr>\n      <th>4</th>\n      <td>Lebzak</td>\n      <td>Russian</td>\n      <td>14</td>\n    </tr>\n  </tbody>\n</table>\n</div>"
     },
     "execution_count": 344,
     "metadata": {},
     "output_type": "execute_result"
    }
   ],
   "source": [
    "surnames_labeler = LabelEncoder()\n",
    "surnames_df[\"target\"] = surnames_labeler.fit_transform(surnames_df[\"nationality\"])\n",
    "print(f\"classes: {len(surnames_labeler.classes_)}\")\n",
    "surnames_df.head()"
   ],
   "metadata": {
    "collapsed": false
   }
  },
  {
   "cell_type": "markdown",
   "source": [
    "2.4 Реализовать класс `Vocab` (токен = __символ__)\n",
    "  * добавьте в словарь специальный токен `<PAD>` с индексом 0\n",
    "  * при создании словаря сохраните длину самой длинной последовательности из набора данных в виде атрибута `max_seq_len`\n"
   ],
   "metadata": {
    "collapsed": false
   }
  },
  {
   "cell_type": "code",
   "execution_count": 345,
   "outputs": [],
   "source": [
    "class Vocab:\n",
    "    pad = \"<PAD>\"\n",
    "\n",
    "    def __init__(self, series: pd.Series):\n",
    "        uniques = set()\n",
    "        max_len = 0\n",
    "        for w in map(str.lower, series):\n",
    "            uniques.update(w)\n",
    "            max_len = max(len(w), max_len)\n",
    "\n",
    "        self.alphabet = [self.pad, *uniques]\n",
    "        self.max_len = max_len\n",
    "        self.ch2i = {ch: i for i, ch in enumerate(self.alphabet)}\n",
    "\n",
    "    def encode(self, word: str) -> torch.Tensor:\n",
    "        indices = [self.ch2i[ch] for ch in word]\n",
    "        # дополняем до одинакового размера индексом служебного символа\n",
    "        indices += [self.ch2i[self.pad]] * (self.max_len - len(indices))\n",
    "        return torch.tensor(indices, dtype=torch.long)\n",
    "\n",
    "    def decode(self, indices: torch.Tensor) -> str:\n",
    "        pad_indices = torch.nonzero(indices == self.ch2i[self.pad], as_tuple=True)[0]  # noqa\n",
    "        if len(pad_indices):\n",
    "            indices = indices[:pad_indices[0]]  # отрезаем служебные символы\n",
    "        return \"\".join(self.alphabet[i] for i in indices)\n"
   ],
   "metadata": {
    "collapsed": false
   }
  },
  {
   "cell_type": "code",
   "execution_count": 346,
   "outputs": [
    {
     "name": "stdout",
     "output_type": "stream",
     "text": [
      "tensor([32, 29, 50, 55, 53, 35, 50,  0,  0,  0,  0,  0,  0,  0,  0,  0,  0]) kovalev\n"
     ]
    }
   ],
   "source": [
    "vocab = Vocab(surnames_df[\"surname\"])\n",
    "indices = vocab.encode(\"kovalev\")\n",
    "print(indices, vocab.decode(indices))"
   ],
   "metadata": {
    "collapsed": false
   }
  },
  {
   "cell_type": "markdown",
   "source": [
    "2.5 Реализовать класс `SurnamesDataset`\n",
    "  * метод `__getitem__` возвращает пару: <последовательность индексов токенов (см. 1.1 ), номер класса>\n",
    "  * длина каждой такой последовательности должна быть одинаковой и равной `vocab.max_seq_len`. Чтобы добиться этого, дополните последовательность справа индексом токена `<PAD>` до нужной длины\n"
   ],
   "metadata": {
    "collapsed": false
   }
  },
  {
   "cell_type": "code",
   "execution_count": 347,
   "outputs": [],
   "source": [
    "class SurnamesDataset(Dataset):\n",
    "\n",
    "    def __init__(self, df: pd.DataFrame, vocab: Vocab, transform: t.Callable = None):\n",
    "        self.surnames = df[\"surname\"].tolist()\n",
    "\n",
    "        if transform:\n",
    "            # 1 раз transform - прохождение эпох быстрее\n",
    "            size = transform(self.surnames[0]).size()\n",
    "            self.data = torch.vstack([transform(w) for w in self.surnames]).view(len(self.surnames), *size)\n",
    "        else:\n",
    "            self.data = self.surnames\n",
    "        self.targets = torch.tensor(df[\"target\"], dtype=torch.long)\n",
    "\n",
    "        self.vocab = vocab\n",
    "        self.transform = transform\n",
    "\n",
    "    def __len__(self):\n",
    "        return len(self.data)\n",
    "\n",
    "    def __getitem__(self, idx):\n",
    "        return self.data[idx], self.targets[idx]"
   ],
   "metadata": {
    "collapsed": false
   }
  },
  {
   "cell_type": "code",
   "execution_count": 348,
   "outputs": [
    {
     "data": {
      "text/plain": "((tensor([54, 29, 29, 34, 20, 29,  6, 34,  0,  0,  0,  0,  0,  0,  0,  0,  0]),\n  tensor(4)),\n (tensor([[0., 0., 0., 0., 0., 0., 0., 0., 0., 0., 0., 0., 0., 0., 0., 0., 0., 0.,\n           0., 0., 0., 0., 0., 0., 0., 0., 0., 0., 0., 0., 0., 0., 0., 0., 0., 0.,\n           0., 0., 0., 0., 0., 0., 0., 0., 0., 0., 0., 0., 0., 0., 0., 0., 0., 0.,\n           1., 0.],\n          [0., 0., 0., 0., 0., 0., 0., 0., 0., 0., 0., 0., 0., 0., 0., 0., 0., 0.,\n           0., 0., 0., 0., 0., 0., 0., 0., 0., 0., 0., 1., 0., 0., 0., 0., 0., 0.,\n           0., 0., 0., 0., 0., 0., 0., 0., 0., 0., 0., 0., 0., 0., 0., 0., 0., 0.,\n           0., 0.],\n          [0., 0., 0., 0., 0., 0., 0., 0., 0., 0., 0., 0., 0., 0., 0., 0., 0., 0.,\n           0., 0., 0., 0., 0., 0., 0., 0., 0., 0., 0., 1., 0., 0., 0., 0., 0., 0.,\n           0., 0., 0., 0., 0., 0., 0., 0., 0., 0., 0., 0., 0., 0., 0., 0., 0., 0.,\n           0., 0.],\n          [0., 0., 0., 0., 0., 0., 0., 0., 0., 0., 0., 0., 0., 0., 0., 0., 0., 0.,\n           0., 0., 0., 0., 0., 0., 0., 0., 0., 0., 0., 0., 0., 0., 0., 0., 1., 0.,\n           0., 0., 0., 0., 0., 0., 0., 0., 0., 0., 0., 0., 0., 0., 0., 0., 0., 0.,\n           0., 0.],\n          [0., 0., 0., 0., 0., 0., 0., 0., 0., 0., 0., 0., 0., 0., 0., 0., 0., 0.,\n           0., 0., 1., 0., 0., 0., 0., 0., 0., 0., 0., 0., 0., 0., 0., 0., 0., 0.,\n           0., 0., 0., 0., 0., 0., 0., 0., 0., 0., 0., 0., 0., 0., 0., 0., 0., 0.,\n           0., 0.],\n          [0., 0., 0., 0., 0., 0., 0., 0., 0., 0., 0., 0., 0., 0., 0., 0., 0., 0.,\n           0., 0., 0., 0., 0., 0., 0., 0., 0., 0., 0., 1., 0., 0., 0., 0., 0., 0.,\n           0., 0., 0., 0., 0., 0., 0., 0., 0., 0., 0., 0., 0., 0., 0., 0., 0., 0.,\n           0., 0.],\n          [0., 0., 0., 0., 0., 0., 1., 0., 0., 0., 0., 0., 0., 0., 0., 0., 0., 0.,\n           0., 0., 0., 0., 0., 0., 0., 0., 0., 0., 0., 0., 0., 0., 0., 0., 0., 0.,\n           0., 0., 0., 0., 0., 0., 0., 0., 0., 0., 0., 0., 0., 0., 0., 0., 0., 0.,\n           0., 0.],\n          [0., 0., 0., 0., 0., 0., 0., 0., 0., 0., 0., 0., 0., 0., 0., 0., 0., 0.,\n           0., 0., 0., 0., 0., 0., 0., 0., 0., 0., 0., 0., 0., 0., 0., 0., 1., 0.,\n           0., 0., 0., 0., 0., 0., 0., 0., 0., 0., 0., 0., 0., 0., 0., 0., 0., 0.,\n           0., 0.],\n          [0., 0., 0., 0., 0., 0., 0., 0., 0., 0., 0., 0., 0., 0., 0., 0., 0., 0.,\n           0., 0., 0., 0., 0., 0., 0., 0., 0., 0., 0., 0., 0., 0., 0., 0., 0., 0.,\n           0., 0., 0., 0., 0., 0., 0., 0., 0., 0., 0., 0., 0., 0., 0., 0., 0., 0.,\n           0., 0.],\n          [0., 0., 0., 0., 0., 0., 0., 0., 0., 0., 0., 0., 0., 0., 0., 0., 0., 0.,\n           0., 0., 0., 0., 0., 0., 0., 0., 0., 0., 0., 0., 0., 0., 0., 0., 0., 0.,\n           0., 0., 0., 0., 0., 0., 0., 0., 0., 0., 0., 0., 0., 0., 0., 0., 0., 0.,\n           0., 0.],\n          [0., 0., 0., 0., 0., 0., 0., 0., 0., 0., 0., 0., 0., 0., 0., 0., 0., 0.,\n           0., 0., 0., 0., 0., 0., 0., 0., 0., 0., 0., 0., 0., 0., 0., 0., 0., 0.,\n           0., 0., 0., 0., 0., 0., 0., 0., 0., 0., 0., 0., 0., 0., 0., 0., 0., 0.,\n           0., 0.],\n          [0., 0., 0., 0., 0., 0., 0., 0., 0., 0., 0., 0., 0., 0., 0., 0., 0., 0.,\n           0., 0., 0., 0., 0., 0., 0., 0., 0., 0., 0., 0., 0., 0., 0., 0., 0., 0.,\n           0., 0., 0., 0., 0., 0., 0., 0., 0., 0., 0., 0., 0., 0., 0., 0., 0., 0.,\n           0., 0.],\n          [0., 0., 0., 0., 0., 0., 0., 0., 0., 0., 0., 0., 0., 0., 0., 0., 0., 0.,\n           0., 0., 0., 0., 0., 0., 0., 0., 0., 0., 0., 0., 0., 0., 0., 0., 0., 0.,\n           0., 0., 0., 0., 0., 0., 0., 0., 0., 0., 0., 0., 0., 0., 0., 0., 0., 0.,\n           0., 0.],\n          [0., 0., 0., 0., 0., 0., 0., 0., 0., 0., 0., 0., 0., 0., 0., 0., 0., 0.,\n           0., 0., 0., 0., 0., 0., 0., 0., 0., 0., 0., 0., 0., 0., 0., 0., 0., 0.,\n           0., 0., 0., 0., 0., 0., 0., 0., 0., 0., 0., 0., 0., 0., 0., 0., 0., 0.,\n           0., 0.],\n          [0., 0., 0., 0., 0., 0., 0., 0., 0., 0., 0., 0., 0., 0., 0., 0., 0., 0.,\n           0., 0., 0., 0., 0., 0., 0., 0., 0., 0., 0., 0., 0., 0., 0., 0., 0., 0.,\n           0., 0., 0., 0., 0., 0., 0., 0., 0., 0., 0., 0., 0., 0., 0., 0., 0., 0.,\n           0., 0.],\n          [0., 0., 0., 0., 0., 0., 0., 0., 0., 0., 0., 0., 0., 0., 0., 0., 0., 0.,\n           0., 0., 0., 0., 0., 0., 0., 0., 0., 0., 0., 0., 0., 0., 0., 0., 0., 0.,\n           0., 0., 0., 0., 0., 0., 0., 0., 0., 0., 0., 0., 0., 0., 0., 0., 0., 0.,\n           0., 0.],\n          [0., 0., 0., 0., 0., 0., 0., 0., 0., 0., 0., 0., 0., 0., 0., 0., 0., 0.,\n           0., 0., 0., 0., 0., 0., 0., 0., 0., 0., 0., 0., 0., 0., 0., 0., 0., 0.,\n           0., 0., 0., 0., 0., 0., 0., 0., 0., 0., 0., 0., 0., 0., 0., 0., 0., 0.,\n           0., 0.]]),\n  tensor(4)))"
     },
     "execution_count": 348,
     "metadata": {},
     "output_type": "execute_result"
    }
   ],
   "source": [
    "def to_indices(word: str) -> torch.Tensor:\n",
    "    return vocab.encode(word.lower())\n",
    "\n",
    "\n",
    "def one_hot(word: str) -> torch.Tensor:\n",
    "    vectors = torch.zeros(vocab.max_len, len(vocab.alphabet))\n",
    "    indices = [(i, vocab.ch2i[ch]) for i, ch in enumerate(word.lower())]\n",
    "    vectors[list(zip(*indices))] = 1\n",
    "    return vectors\n",
    "\n",
    "\n",
    "# Зачем 2 датасета?\n",
    "# - нужно для задания 2.6\n",
    "# - удобнее работать с интерфейсом Dataset'а (разбиение на выборки, DataLoader)\n",
    "# - эффективнее - одно преобразование вместо преобразование/эпоха\n",
    "\n",
    "# датасет для обучения через Embedding\n",
    "surnames_indices_dataset = SurnamesDataset(surnames_df, vocab, transform=to_indices)\n",
    "# датасет для обучения без Embedding (слова закодированы one-hot методом)\n",
    "surnames_one_hot_dataset = SurnamesDataset(surnames_df, vocab, transform=one_hot)\n",
    "surnames_indices_dataset[0], surnames_one_hot_dataset[0]"
   ],
   "metadata": {
    "collapsed": false
   }
  },
  {
   "cell_type": "markdown",
   "source": [
    "2.3 Разбить датасет на обучающую и тестовую выборку"
   ],
   "metadata": {
    "collapsed": false
   }
  },
  {
   "cell_type": "code",
   "execution_count": 349,
   "outputs": [
    {
     "name": "stdout",
     "output_type": "stream",
     "text": [
      "8784 2196\n"
     ]
    }
   ],
   "source": [
    "torch.manual_seed(0)\n",
    "\n",
    "train_indices_dataset, test_indices_dataset = train_test_split(surnames_indices_dataset, train_part=0.8)\n",
    "train_one_hot_dataset, test_one_hot_dataset = train_test_split(surnames_one_hot_dataset, train_part=0.8)\n",
    "print(len(train_indices_dataset), len(test_indices_dataset))"
   ],
   "metadata": {
    "collapsed": false
   }
  },
  {
   "cell_type": "markdown",
   "source": [
    "2.6. Обучить классификатор.\n",
    "\n",
    "  * Для преобразования последовательности индексов в последовательность векторов используйте `nn.Embedding`. Рассмотрите два варианта:\n",
    "    - когда токен представляется в виде унитарного вектора и модуль `nn.Embedding` не обучается\n",
    "    - когда токен представляется в виде вектора небольшой размерности (меньше, чем размер словаря) и модуль `nn.Embedding` обучается\n",
    "\n",
    "  * Используйте одномерные свертки и пулинг (`nn.Conv1d`, `nn.MaxPool1d`)\n",
    "    - обратите внимание, что `nn.Conv1d` ожидает на вход трехмерный тензор размерности `(batch, embedding_dim, seq_len)`\n"
   ],
   "metadata": {
    "collapsed": false
   }
  },
  {
   "cell_type": "code",
   "execution_count": 350,
   "outputs": [],
   "source": [
    "class SurnamesClassifier(nn.Module):\n",
    "\n",
    "    def __init__(\n",
    "            self,\n",
    "            vocab: Vocab,\n",
    "            out_features: int,\n",
    "            embedding_dim: int = 128,\n",
    "            use_embedding: bool = True,\n",
    "            debug: bool = False,\n",
    "    ):\n",
    "        super(SurnamesClassifier, self).__init__()\n",
    "        self.use_embedding = use_embedding\n",
    "        self.debug = debug\n",
    "\n",
    "        self.embedding_dim = embedding_dim\n",
    "\n",
    "        last_conv_out_channels = 64\n",
    "        adaptive_avg_pool = 8\n",
    "\n",
    "        # Как же этой модели все это... безразлично\n",
    "        self.embedding = nn.Embedding(num_embeddings=len(vocab.alphabet), embedding_dim=embedding_dim)\n",
    "        self.features = nn.Sequential(\n",
    "            nn.Conv1d(in_channels=embedding_dim, out_channels=64, kernel_size=3),\n",
    "            nn.BatchNorm1d(num_features=64),\n",
    "            nn.ReLU(),\n",
    "            nn.MaxPool1d(kernel_size=2),\n",
    "            nn.Conv1d(in_channels=64, out_channels=last_conv_out_channels, kernel_size=3),\n",
    "            nn.BatchNorm1d(num_features=last_conv_out_channels),\n",
    "            nn.ReLU(),\n",
    "            nn.MaxPool1d(kernel_size=2),\n",
    "        )\n",
    "        # Единственный полезный (и понятный зачем) слой. Зачем? - Позволяет не думать о размерностях\n",
    "        self.avgpool = nn.AdaptiveAvgPool1d(adaptive_avg_pool)\n",
    "        self.classifier = nn.Sequential(\n",
    "            nn.Linear(last_conv_out_channels * adaptive_avg_pool, 256),\n",
    "            nn.ReLU(),\n",
    "            nn.Dropout(),\n",
    "            nn.Linear(256, out_features),\n",
    "        )\n",
    "\n",
    "        if self.debug:\n",
    "            # то же самое, но умеет в вывод размерностей\n",
    "            self.forward = self._debug_forward\n",
    "        else:\n",
    "            self.forward = self._forward\n",
    "\n",
    "    def _forward(self, x: torch.Tensor):\n",
    "        if self.use_embedding:\n",
    "            x = self.embedding(x)\n",
    "        else:\n",
    "            # Для эксперимента с one-hot - что будет, если растянуть вектора до размера embedding_dim?\n",
    "            # Ответ: ничего\n",
    "            x = F.pad(x, (0, self.embedding_dim - x.size(2), 0, 0), value=0)\n",
    "\n",
    "        # (batch_size, num_features [embedding_dim], n_tokens)\n",
    "        x = x.reshape(x.size(0), x.size(2), x.size(1))\n",
    "        x = self.features(x)\n",
    "        x = self.avgpool(x)\n",
    "        x = torch.flatten(x, 1)\n",
    "        x = self.classifier(x)\n",
    "        # Интересно, почему в лекциях иногда используют CrossEntropyLoss, а иногда SoftMax + NLLLoss?\n",
    "        # Они же эквивалентны: https://pytorch.org/docs/stable/generated/torch.nn.CrossEntropyLoss.html\n",
    "        return torch.log_softmax(x, dim=1)\n",
    "\n",
    "    def _debug_forward(self, x: torch.Tensor):\n",
    "        print(\"x: \", x.size())\n",
    "        if self.use_embedding:\n",
    "            x = self.embedding(x)\n",
    "            print(\"embedding: \", x.size())\n",
    "        else:\n",
    "            x = F.pad(x, (0, self.embedding_dim - x.size(2), 0, 0), value=0)\n",
    "            print(\"pad: \", x.size())\n",
    "\n",
    "        x = x.reshape(x.size(0), x.size(2), x.size(1))\n",
    "        print(\"reshape: \", x.size())\n",
    "        x = self.features(x)\n",
    "        print(\"features: \", x.size())\n",
    "        x = self.avgpool(x)\n",
    "        print(\"avgpool: \", x.size())\n",
    "        x = torch.flatten(x, 1)\n",
    "        print(\"flatten: \", x.size())\n",
    "        x = self.classifier(x)\n",
    "        print(\"classifier: \", x.size())\n",
    "        return torch.log_softmax(x, dim=1)\n"
   ],
   "metadata": {
    "collapsed": false
   }
  },
  {
   "cell_type": "code",
   "execution_count": 351,
   "outputs": [],
   "source": [
    "torch.manual_seed(0)\n",
    "\n",
    "common_net = SurnamesClassifier(vocab, len(surnames_labeler.classes_)).to(DEVICE)\n",
    "# Интересно, почему в лекциях иногда используют CrossEntropyLoss, а иногда SoftMax + NLLLoss?\n",
    "# Они же эквивалентны: https://pytorch.org/docs/stable/generated/torch.nn.CrossEntropyLoss.html\n",
    "loss_fn = nn.NLLLoss()\n",
    "optimizer = optim.Adam(common_net.parameters(), lr=0.001)"
   ],
   "metadata": {
    "collapsed": false
   }
  },
  {
   "cell_type": "code",
   "execution_count": 352,
   "outputs": [
    {
     "name": "stdout",
     "output_type": "stream",
     "text": [
      "Epoch 1\n",
      "--------------------------------\n",
      "loss: 2.870472  [    0/ 8784]\n",
      "loss: 1.945963  [ 4000/ 8784]\n",
      "loss: 1.294574  [ 8000/ 8784]\n",
      "Test Error: \n",
      " Accuracy: 0.559654, Avg loss: 1.541320 \n",
      "\n",
      "Epoch 2\n",
      "--------------------------------\n",
      "loss: 2.096421  [    0/ 8784]\n",
      "loss: 1.642692  [ 4000/ 8784]\n",
      "loss: 0.902121  [ 8000/ 8784]\n",
      "Test Error: \n",
      " Accuracy: 0.599271, Avg loss: 1.430406 \n",
      "\n",
      "Epoch 3\n",
      "--------------------------------\n",
      "loss: 1.510903  [    0/ 8784]\n",
      "loss: 1.432329  [ 4000/ 8784]\n",
      "loss: 1.241052  [ 8000/ 8784]\n",
      "Test Error: \n",
      " Accuracy: 0.612477, Avg loss: 1.373528 \n",
      "\n",
      "Epoch 4\n",
      "--------------------------------\n",
      "loss: 1.490520  [    0/ 8784]\n",
      "loss: 0.620664  [ 4000/ 8784]\n",
      "loss: 0.863073  [ 8000/ 8784]\n",
      "Test Error: \n",
      " Accuracy: 0.626594, Avg loss: 1.338518 \n",
      "\n",
      "Epoch 5\n",
      "--------------------------------\n",
      "loss: 0.789928  [    0/ 8784]\n",
      "loss: 0.912860  [ 4000/ 8784]\n",
      "loss: 1.017525  [ 8000/ 8784]\n",
      "Test Error: \n",
      " Accuracy: 0.636157, Avg loss: 1.310688 \n",
      "\n",
      "Epoch 6\n",
      "--------------------------------\n",
      "loss: 0.685604  [    0/ 8784]\n",
      "loss: 1.019006  [ 4000/ 8784]\n",
      "loss: 1.369500  [ 8000/ 8784]\n",
      "Test Error: \n",
      " Accuracy: 0.637978, Avg loss: 1.300400 \n",
      "\n",
      "Epoch 7\n",
      "--------------------------------\n",
      "loss: 0.637575  [    0/ 8784]\n",
      "loss: 0.927934  [ 4000/ 8784]\n",
      "loss: 1.643024  [ 8000/ 8784]\n",
      "Test Error: \n",
      " Accuracy: 0.643898, Avg loss: 1.290708 \n",
      "\n",
      "Epoch 8\n",
      "--------------------------------\n",
      "loss: 0.458751  [    0/ 8784]\n",
      "loss: 1.974854  [ 4000/ 8784]\n",
      "loss: 0.518331  [ 8000/ 8784]\n",
      "Test Error: \n",
      " Accuracy: 0.641166, Avg loss: 1.328058 \n",
      "\n",
      "Epoch 9\n",
      "--------------------------------\n",
      "loss: 1.198796  [    0/ 8784]\n",
      "loss: 1.087523  [ 4000/ 8784]\n",
      "loss: 0.331477  [ 8000/ 8784]\n",
      "Test Error: \n",
      " Accuracy: 0.643443, Avg loss: 1.331407 \n",
      "\n",
      "Epoch 10\n",
      "--------------------------------\n",
      "loss: 0.708505  [    0/ 8784]\n",
      "loss: 0.572882  [ 4000/ 8784]\n",
      "loss: 0.977085  [ 8000/ 8784]\n",
      "Test Error: \n",
      " Accuracy: 0.651184, Avg loss: 1.312623 \n",
      "\n",
      "CPU times: total: 49.8 s\n",
      "Wall time: 55.5 s\n"
     ]
    }
   ],
   "source": [
    "%%time\n",
    "\n",
    "# One-Hot представление\n",
    "common_net.use_embedding = False\n",
    "_ = common_train(\n",
    "    epochs=10,\n",
    "    model=common_net,\n",
    "    loss_fn=loss_fn,\n",
    "    optimizer=optimizer,\n",
    "    train_dataloader=DataLoader(train_one_hot_dataset, batch_size=8, shuffle=True),\n",
    "    test_dataloader=DataLoader(test_one_hot_dataset, batch_size=512),\n",
    "    verbose=500,\n",
    "    device=DEVICE,\n",
    ")"
   ],
   "metadata": {
    "collapsed": false
   }
  },
  {
   "cell_type": "code",
   "execution_count": 353,
   "outputs": [],
   "source": [
    "torch.manual_seed(0)\n",
    "\n",
    "embeddings_net = SurnamesClassifier(vocab, len(surnames_labeler.classes_)).to(DEVICE)\n",
    "# Интересно, почему в лекциях иногда используют CrossEntropyLoss, а иногда SoftMax + NLLLoss?\n",
    "# Они же эквивалентны: https://pytorch.org/docs/stable/generated/torch.nn.CrossEntropyLoss.html\n",
    "loss_fn = nn.NLLLoss()\n",
    "optimizer = optim.Adam(embeddings_net.parameters(), lr=0.001)"
   ],
   "metadata": {
    "collapsed": false
   }
  },
  {
   "cell_type": "code",
   "execution_count": 354,
   "outputs": [
    {
     "name": "stdout",
     "output_type": "stream",
     "text": [
      "Epoch 1\n",
      "--------------------------------\n",
      "loss: 2.867698  [    0/ 8784]\n",
      "loss: 1.629042  [ 4000/ 8784]\n",
      "loss: 1.283911  [ 8000/ 8784]\n",
      "Test Error: \n",
      " Accuracy: 0.545993, Avg loss: 1.661579 \n",
      "\n",
      "Epoch 2\n",
      "--------------------------------\n",
      "loss: 1.629521  [    0/ 8784]\n",
      "loss: 0.516663  [ 4000/ 8784]\n",
      "loss: 1.304486  [ 8000/ 8784]\n",
      "Test Error: \n",
      " Accuracy: 0.591075, Avg loss: 1.466671 \n",
      "\n",
      "Epoch 3\n",
      "--------------------------------\n",
      "loss: 2.111546  [    0/ 8784]\n",
      "loss: 1.017953  [ 4000/ 8784]\n",
      "loss: 1.181585  [ 8000/ 8784]\n",
      "Test Error: \n",
      " Accuracy: 0.647541, Avg loss: 1.230426 \n",
      "\n",
      "Epoch 4\n",
      "--------------------------------\n",
      "loss: 0.738920  [    0/ 8784]\n",
      "loss: 0.862744  [ 4000/ 8784]\n",
      "loss: 2.226277  [ 8000/ 8784]\n",
      "Test Error: \n",
      " Accuracy: 0.673497, Avg loss: 1.167229 \n",
      "\n",
      "Epoch 5\n",
      "--------------------------------\n",
      "loss: 0.569694  [    0/ 8784]\n",
      "loss: 1.785706  [ 4000/ 8784]\n",
      "loss: 0.526713  [ 8000/ 8784]\n",
      "Test Error: \n",
      " Accuracy: 0.682149, Avg loss: 1.102714 \n",
      "\n",
      "Epoch 6\n",
      "--------------------------------\n",
      "loss: 0.687909  [    0/ 8784]\n",
      "loss: 1.472847  [ 4000/ 8784]\n",
      "loss: 0.444247  [ 8000/ 8784]\n",
      "Test Error: \n",
      " Accuracy: 0.683971, Avg loss: 1.110643 \n",
      "\n",
      "Epoch 7\n",
      "--------------------------------\n",
      "loss: 0.601451  [    0/ 8784]\n",
      "loss: 0.664958  [ 4000/ 8784]\n",
      "loss: 0.398125  [ 8000/ 8784]\n",
      "Test Error: \n",
      " Accuracy: 0.702641, Avg loss: 1.085158 \n",
      "\n",
      "Epoch 8\n",
      "--------------------------------\n",
      "loss: 0.941495  [    0/ 8784]\n",
      "loss: 1.275957  [ 4000/ 8784]\n",
      "loss: 0.479118  [ 8000/ 8784]\n",
      "Test Error: \n",
      " Accuracy: 0.696266, Avg loss: 1.140967 \n",
      "\n",
      "Epoch 9\n",
      "--------------------------------\n",
      "loss: 0.768936  [    0/ 8784]\n",
      "loss: 0.605605  [ 4000/ 8784]\n",
      "loss: 0.517786  [ 8000/ 8784]\n",
      "Test Error: \n",
      " Accuracy: 0.695811, Avg loss: 1.119196 \n",
      "\n",
      "Epoch 10\n",
      "--------------------------------\n",
      "loss: 0.549459  [    0/ 8784]\n",
      "loss: 0.929690  [ 4000/ 8784]\n",
      "loss: 0.924400  [ 8000/ 8784]\n",
      "Test Error: \n",
      " Accuracy: 0.700820, Avg loss: 1.137684 \n",
      "\n",
      "Epoch 11\n",
      "--------------------------------\n",
      "loss: 0.323452  [    0/ 8784]\n",
      "loss: 0.775942  [ 4000/ 8784]\n",
      "loss: 1.056086  [ 8000/ 8784]\n",
      "Test Error: \n",
      " Accuracy: 0.705829, Avg loss: 1.129428 \n",
      "\n",
      "Epoch 12\n",
      "--------------------------------\n",
      "loss: 0.378150  [    0/ 8784]\n",
      "loss: 0.869436  [ 4000/ 8784]\n",
      "loss: 0.786796  [ 8000/ 8784]\n",
      "Test Error: \n",
      " Accuracy: 0.706284, Avg loss: 1.166174 \n",
      "\n",
      "Epoch 13\n",
      "--------------------------------\n",
      "loss: 1.119799  [    0/ 8784]\n",
      "loss: 0.831092  [ 4000/ 8784]\n",
      "loss: 1.683850  [ 8000/ 8784]\n",
      "Test Error: \n",
      " Accuracy: 0.698543, Avg loss: 1.234010 \n",
      "\n",
      "Epoch 14\n",
      "--------------------------------\n",
      "loss: 0.164301  [    0/ 8784]\n",
      "loss: 0.409340  [ 4000/ 8784]\n",
      "loss: 0.209475  [ 8000/ 8784]\n",
      "Test Error: \n",
      " Accuracy: 0.710383, Avg loss: 1.315999 \n",
      "\n",
      "Epoch 15\n",
      "--------------------------------\n",
      "loss: 0.844962  [    0/ 8784]\n",
      "loss: 0.436001  [ 4000/ 8784]\n",
      "loss: 0.265080  [ 8000/ 8784]\n",
      "Test Error: \n",
      " Accuracy: 0.707650, Avg loss: 1.317035 \n",
      "\n",
      "CPU times: total: 1min 20s\n",
      "Wall time: 1min 26s\n"
     ]
    }
   ],
   "source": [
    "%%time\n",
    "\n",
    "# Embedding представление\n",
    "embeddings_net.use_embedding = True\n",
    "_ = common_train(\n",
    "    epochs=15,\n",
    "    model=embeddings_net,\n",
    "    loss_fn=loss_fn,\n",
    "    optimizer=optimizer,\n",
    "    train_dataloader=DataLoader(train_indices_dataset, batch_size=8, shuffle=True),\n",
    "    test_dataloader=DataLoader(test_indices_dataset, batch_size=512),\n",
    "    verbose=500,\n",
    "    device=DEVICE,\n",
    ")"
   ],
   "metadata": {
    "collapsed": false
   }
  },
  {
   "cell_type": "markdown",
   "source": [
    "2.7 Измерить точность на тестовой выборке. Проверить работоспособность модели: прогнать несколько фамилий студентов группы через модели и проверить результат. Для каждой фамилии выводить 3 наиболее вероятных предсказания."
   ],
   "metadata": {
    "collapsed": false
   }
  },
  {
   "cell_type": "code",
   "execution_count": 355,
   "outputs": [
    {
     "name": "stdout",
     "output_type": "stream",
     "text": [
      "Test Error: \n",
      " Accuracy: 0.707650, Avg loss: 1.317035 \n",
      "\n"
     ]
    }
   ],
   "source": [
    "test_loop(\n",
    "    dataloader=DataLoader(test_indices_dataset, batch_size=512),\n",
    "    model=embeddings_net,\n",
    "    loss_fn=loss_fn,\n",
    "    device=DEVICE,\n",
    ");"
   ],
   "metadata": {
    "collapsed": false
   }
  },
  {
   "cell_type": "code",
   "execution_count": 356,
   "outputs": [],
   "source": [
    "def inference(\n",
    "        surname: str,\n",
    "        target: str,\n",
    "        model: nn.Module,\n",
    "        vocab: Vocab,\n",
    "        labeler: LabelEncoder,\n",
    "        k: int = 3,\n",
    "        device: str = \"cpu\",\n",
    "):\n",
    "    x = vocab.encode(surname.lower())\n",
    "    x = x.to(device)\n",
    "\n",
    "    pred = model(x.unsqueeze(0))\n",
    "    pred_proba, pred_label_indices = F.softmax(pred, 1).topk(k, dim=1)\n",
    "    pred_labels = labeler.inverse_transform(pred_label_indices.squeeze().cpu())\n",
    "\n",
    "    predicts = \", \".join(\n",
    "        [f\"{label} ({prob:.2f})\" for (label, prob) in zip(pred_labels, pred_proba.squeeze())]\n",
    "    )\n",
    "    print(f\"Surname : {surname}\")\n",
    "    print(f\"True    : {target}\")\n",
    "    print(f\"Predicts: {predicts}\\n\")"
   ],
   "metadata": {
    "collapsed": false
   }
  },
  {
   "cell_type": "code",
   "execution_count": 357,
   "metadata": {
    "id": "GHjCRqQg1sw5"
   },
   "outputs": [
    {
     "name": "stdout",
     "output_type": "stream",
     "text": [
      "Surname : Alexandrova\n",
      "True    : Russian\n",
      "Predicts: Russian (0.51), English (0.49), Czech (0.00)\n",
      "\n",
      "Surname : Baranov\n",
      "True    : Russian\n",
      "Predicts: Russian (1.00), English (0.00), Czech (0.00)\n",
      "\n",
      "Surname : Brusova\n",
      "True    : Russian\n",
      "Predicts: German (0.22), Russian (0.16), English (0.14)\n",
      "\n",
      "Surname : Volkova\n",
      "True    : Russian\n",
      "Predicts: Russian (0.96), Czech (0.04), Polish (0.00)\n",
      "\n",
      "Surname : Kovalev\n",
      "True    : Russian\n",
      "Predicts: Russian (1.00), Czech (0.00), English (0.00)\n",
      "\n",
      "Surname : Kostyuchenko\n",
      "True    : Russian\n",
      "Predicts: Russian (1.00), English (0.00), Arabic (0.00)\n",
      "\n",
      "Surname : Kuzin\n",
      "True    : Russian\n",
      "Predicts: Russian (0.73), Chinese (0.19), Czech (0.04)\n",
      "\n",
      "Surname : Likhachev\n",
      "True    : Russian\n",
      "Predicts: Russian (1.00), Czech (0.00), Polish (0.00)\n",
      "\n",
      "Surname : Telitsyn\n",
      "True    : Russian\n",
      "Predicts: Russian (0.82), English (0.18), Scottish (0.01)\n",
      "\n",
      "Surname : Ustimova\n",
      "True    : Russian\n",
      "Predicts: Russian (1.00), Japanese (0.00), Czech (0.00)\n",
      "\n",
      "Surname : Khamikoeva\n",
      "True    : Russian\n",
      "Predicts: Russian (1.00), Czech (0.00), Polish (0.00)\n",
      "\n"
     ]
    }
   ],
   "source": [
    "students = [\n",
    "    \"Alexandrova\",\n",
    "    \"Baranov\",\n",
    "    \"Brusova\",\n",
    "    \"Volkova\",\n",
    "    \"Kovalev\",\n",
    "    \"Kostyuchenko\",\n",
    "    \"Kuzin\",\n",
    "    \"Likhachev\",\n",
    "    \"Telitsyn\",\n",
    "    \"Ustimova\",\n",
    "    \"Khamikoeva\",\n",
    "]\n",
    "for surname in students:\n",
    "    inference(\n",
    "        surname=surname,\n",
    "        target=\"Russian\",\n",
    "        model=embeddings_net,\n",
    "        vocab=vocab,\n",
    "        labeler=surnames_labeler,\n",
    "        device=DEVICE,\n",
    "    )"
   ]
  },
  {
   "cell_type": "markdown",
   "source": [
    "**Вывод:** использование Embedding позволило увеличить точность модели."
   ],
   "metadata": {
    "collapsed": false
   }
  },
  {
   "cell_type": "markdown",
   "metadata": {
    "id": "uo-hf5CQ0iWv"
   },
   "source": [
    "## 3. Классификация обзоров на фильмы (ConvNet)\n",
    "\n",
    "Датасет: https://disk.yandex.ru/d/tdinpb0nN_Dsrg"
   ]
  },
  {
   "cell_type": "markdown",
   "source": [
    "2.1 Создайте набор данных на основе файлов polarity/positive_reviews.csv (положительные отзывы) и polarity/negative_reviews.csv (отрицательные отзывы). Разбейте на обучающую и тестовую выборку.\n",
    "  * токен = __слово__\n",
    "  * данные для обучения в датасете представляются в виде последовательности индексов токенов\n",
    "  * словарь создается на основе _только_ обучающей выборки. Для корректной обработки ситуаций, когда в тестовой выборке встретится токен, который не хранится в словаре, добавьте в словарь специальный токен `<UNK>`\n",
    "  * добавьте предобработку текста"
   ],
   "metadata": {
    "collapsed": false
   }
  },
  {
   "cell_type": "code",
   "execution_count": 358,
   "outputs": [],
   "source": [
    "# NLTK теги частей речи отличаются от WORDNET тегов\n",
    "def get_pos(word: str) -> str:\n",
    "    tag = nltk.pos_tag([word])[0][1]\n",
    "    if tag.startswith('J'):\n",
    "        return wordnet.ADJ\n",
    "    elif tag.startswith('V'):\n",
    "        return wordnet.VERB\n",
    "    elif tag.startswith('R'):\n",
    "        return wordnet.ADV\n",
    "    else:\n",
    "        return wordnet.NOUN\n",
    "\n",
    "\n",
    "STOPWORDS = set(stopwords.words(\"english\"))\n",
    "\n",
    "\n",
    "def preprocess_review(text: str) -> str:\n",
    "    text = text.lower()\n",
    "    # удаляем все символы кроме букв латинского алфавита\n",
    "    text = re.sub(r\"[^a-z]\", repl=\" \", string=text, flags=re.MULTILINE)\n",
    "\n",
    "    lemmatizer = nltk.WordNetLemmatizer()\n",
    "    words = []\n",
    "    for word in nltk.word_tokenize(text):\n",
    "        if word not in STOPWORDS:  # удаляем стоп-слова до лемматизации - так можно чуть-чуть сэкономить\n",
    "            lemma = lemmatizer.lemmatize(word, pos=get_pos(word))\n",
    "            # удаляем стоп-слова, наивное предположение - не брать леммы короче 3-х символов дало значительный прирост точности\n",
    "            if lemma not in STOPWORDS and len(lemma) > 2:\n",
    "                words.append(lemma)\n",
    "\n",
    "    return \" \".join(words)"
   ],
   "metadata": {
    "collapsed": false
   }
  },
  {
   "cell_type": "code",
   "execution_count": 359,
   "outputs": [],
   "source": [
    "class ReviewsDataset(Dataset):\n",
    "\n",
    "    def __init__(self, positive_path: Path, negative_path: Path, seed: int = None):\n",
    "        self.positive_path = positive_path\n",
    "        self.negative_path = negative_path\n",
    "        self.positive_reviews = self.read_reviews(positive_path, preprocess_review)\n",
    "        self.negative_reviews = self.read_reviews(negative_path, preprocess_review)\n",
    "\n",
    "        data = self.positive_reviews + self.negative_reviews\n",
    "        targets = torch.cat([torch.ones(len(self.positive_reviews)), torch.zeros(len(self.negative_reviews))])\n",
    "\n",
    "        if seed is not None:\n",
    "            torch.manual_seed(seed)\n",
    "        indices = torch.randperm(len(data))\n",
    "\n",
    "        self.data = [data[i] for i in indices]\n",
    "        self.targets = targets[indices].to(torch.long)\n",
    "\n",
    "    @staticmethod\n",
    "    def read_reviews(path: Path, process: t.Callable[[str], str]) -> list[str]:\n",
    "        reviews = []\n",
    "        with open(path) as f:\n",
    "            for review in f.readlines():\n",
    "                review = process(review)\n",
    "                if review:\n",
    "                    reviews.append(review)\n",
    "        return reviews\n",
    "\n",
    "    def __len__(self):\n",
    "        return len(self.data)\n",
    "\n",
    "    def __getitem__(self, index):\n",
    "        return self.data[index], self.targets[index]\n"
   ],
   "metadata": {
    "collapsed": false
   }
  },
  {
   "cell_type": "code",
   "execution_count": 363,
   "outputs": [
    {
     "data": {
      "text/plain": "(10660, ('play less like come age romance infomercial', tensor(0)))"
     },
     "execution_count": 363,
     "metadata": {},
     "output_type": "execute_result"
    }
   ],
   "source": [
    "# кажется, файлы с отзывами были перепутаны:\n",
    "# хорошие отзывы находились в файле negative_reviews.txt - переименовал.\n",
    "reviews_path = DATA_DIR / \"polarity\"\n",
    "reviews_dataset = ReviewsDataset(\n",
    "    reviews_path / \"positive_reviews.txt\",\n",
    "    reviews_path / \"negative_reviews.txt\",\n",
    "    seed=0,\n",
    ")\n",
    "len(reviews_dataset), reviews_dataset[0]"
   ],
   "metadata": {
    "collapsed": false
   }
  },
  {
   "cell_type": "code",
   "execution_count": 364,
   "outputs": [
    {
     "data": {
      "text/plain": "(17056, 2132)"
     },
     "execution_count": 364,
     "metadata": {},
     "output_type": "execute_result"
    }
   ],
   "source": [
    "torch.manual_seed(0)\n",
    "\n",
    "train_reviews, test_reviews = train_test_split(reviews_dataset, train_part=0.8)\n",
    "len(train_reviews), len(test_reviews)"
   ],
   "metadata": {
    "collapsed": false
   }
  },
  {
   "cell_type": "code",
   "execution_count": 365,
   "outputs": [],
   "source": [
    "class ReviewsVocab:\n",
    "    pad = \"<PAD>\"\n",
    "    unknown = \"<UNK>\"\n",
    "\n",
    "    def __init__(self, reviews: t.List[str]):\n",
    "        uniques = set()\n",
    "        max_len = 0\n",
    "        for review in reviews:\n",
    "            words = nltk.word_tokenize(review)\n",
    "            uniques.update(words)\n",
    "            max_len = max(len(words), max_len)\n",
    "\n",
    "        self.alphabet = [self.pad, self.unknown, *uniques]\n",
    "        self.max_len = max_len\n",
    "\n",
    "        w2i = {w: i for i, w in enumerate(self.alphabet)}\n",
    "        # если ключ отсутствует, будет возвращена 1 - индекс служебного символа\n",
    "        self.w2i = defaultdict(lambda: 1, w2i)\n",
    "\n",
    "    def __len__(self):\n",
    "        return len(self.alphabet)\n",
    "\n",
    "    @lru_cache(maxsize=8192)  # сомнительная эффективность? Ну да\n",
    "    def encode(self, review: str) -> torch.Tensor:\n",
    "        indices = [self.w2i[w] for w in nltk.word_tokenize(review)]\n",
    "        indices += [self.w2i[self.pad]] * (self.max_len - len(indices))\n",
    "        return torch.tensor(indices, dtype=torch.long)\n",
    "\n",
    "    def decode(self, indices: torch.Tensor) -> str:\n",
    "        pad_indices = torch.nonzero(indices == self.w2i[self.pad], as_tuple=True)[0]  # noqa\n",
    "        if len(pad_indices):\n",
    "            indices = indices[:pad_indices[0]]\n",
    "        return \" \".join(self.alphabet[i] for i in indices)\n"
   ],
   "metadata": {
    "collapsed": false
   }
  },
  {
   "cell_type": "code",
   "execution_count": 366,
   "outputs": [
    {
     "name": "stdout",
     "output_type": "stream",
     "text": [
      "alphabet: 13410 longest: 29\n"
     ]
    },
    {
     "data": {
      "text/plain": "(tensor([    1,     1,     1, 12087,   667,     0,     0,     0,     0,     0,\n             0,     0,     0,     0,     0,     0,     0,     0,     0,     0,\n             0,     0,     0,     0,     0,     0,     0,     0,     0]),\n '<UNK> <UNK> <UNK> neutral review')"
     },
     "execution_count": 366,
     "metadata": {},
     "output_type": "execute_result"
    }
   ],
   "source": [
    "vocab = ReviewsVocab([review for review, _ in train_reviews])\n",
    "print(f\"alphabet: {len(vocab)}\", f\"longest: {vocab.max_len}\")\n",
    "encoded = vocab.encode(\"this is a neutral review\")\n",
    "encoded, vocab.decode(encoded)"
   ],
   "metadata": {
    "collapsed": false
   }
  },
  {
   "cell_type": "markdown",
   "source": [
    "2.2. Обучите классификатор.\n",
    "\n",
    "  * Для преобразования последовательности индексов в последовательность векторов используйте `nn.Embedding`\n",
    "    - подберите адекватную размерность вектора эмбеддинга:\n",
    "    - модуль `nn.Embedding` обучается\n",
    "\n",
    "  * Используйте одномерные свертки и пулинг (`nn.Conv1d`, `nn.MaxPool1d`)\n",
    "    - обратите внимание, что `nn.Conv1d` ожидает на вход трехмерный тензор размерности `(batch, embedding_dim, seq_len)`\n"
   ],
   "metadata": {
    "collapsed": false
   }
  },
  {
   "cell_type": "code",
   "execution_count": 367,
   "outputs": [],
   "source": [
    "class ReviewsClassifier(nn.Module):\n",
    "    LAST_CONV_OUT_CHANNELS = 64\n",
    "    ADAPTIVE_AVG_POOL = 8\n",
    "\n",
    "    def __init__(self, num_embeddings: int, embedding_dim: int):\n",
    "        super(ReviewsClassifier, self).__init__()\n",
    "\n",
    "        # Как же этой модели все это... безразлично\n",
    "        self.embedding = nn.Embedding(num_embeddings=num_embeddings, embedding_dim=embedding_dim)\n",
    "        self.features = nn.Sequential(\n",
    "            nn.Conv1d(in_channels=embedding_dim, out_channels=self.LAST_CONV_OUT_CHANNELS, kernel_size=2),\n",
    "            nn.BatchNorm1d(num_features=self.LAST_CONV_OUT_CHANNELS),\n",
    "            nn.ReLU(),\n",
    "            nn.MaxPool1d(kernel_size=2),\n",
    "        )\n",
    "        # Единственный полезный (и понятный зачем) слой. Зачем? - Позволяет не думать о размерностях\n",
    "        self.avgpool = nn.AdaptiveAvgPool1d(self.ADAPTIVE_AVG_POOL)\n",
    "        self.classifier = nn.Sequential(\n",
    "            nn.Linear(self.LAST_CONV_OUT_CHANNELS * self.ADAPTIVE_AVG_POOL, 256),\n",
    "            nn.ReLU(),\n",
    "            nn.Dropout(),\n",
    "            nn.Linear(256, 2),\n",
    "        )\n",
    "\n",
    "    def forward(self, x: torch.Tensor):\n",
    "        x = self.embedding(x)\n",
    "        x = x.reshape(x.size(0), x.size(2), x.size(1))\n",
    "        x = self.features(x)\n",
    "        x = self.avgpool(x)\n",
    "        x = torch.flatten(x, 1)\n",
    "        x = self.classifier(x)\n",
    "        return x\n",
    "\n",
    "\n",
    "def collate(batch: t.List[t.Tuple[str, torch.Tensor]]) -> t.Tuple[torch.Tensor, torch.Tensor]:\n",
    "    xs, ys = [], []\n",
    "    for x, y in batch:\n",
    "        xs.append(vocab.encode(x))\n",
    "        ys.append(y)\n",
    "    return torch.vstack(xs), torch.hstack(ys)"
   ],
   "metadata": {
    "collapsed": false
   }
  },
  {
   "cell_type": "code",
   "execution_count": 368,
   "outputs": [],
   "source": [
    "torch.manual_seed(0)\n",
    "\n",
    "net = ReviewsClassifier(num_embeddings=len(vocab), embedding_dim=128).to(DEVICE)\n",
    "loss_fn = nn.CrossEntropyLoss()\n",
    "optimizer = optim.Adam(net.parameters(), lr=0.000914092001)  # а почему нет?\n",
    "# будет изменять lr = lr * factor, если на протяжении patience эпох ошибка не менялась более чем на threshold\n",
    "lr_scheduler = optim.lr_scheduler.ReduceLROnPlateau(\n",
    "    optimizer=optimizer,\n",
    "    mode=\"min\",\n",
    "    patience=5,\n",
    "    factor=0.333333,\n",
    "    min_lr=0.000001,\n",
    "    threshold=0.001,\n",
    "    verbose=True,\n",
    ")\n",
    "\n",
    "# Однако batch_size - очень важно. При 8 и 64 застреваем в плохом оптимуме, 32 тоже не очень...\n",
    "# 22 > Embedding, Conv1d, BatchNorm1d, ReLU, MaxPool1d, AdaptiveAvgPool1d, Dropout, lr_scheduler, optimizer\n",
    "train_dataloader = DataLoader(train_reviews, batch_size=22, collate_fn=collate, shuffle=True)\n",
    "test_dataloader = DataLoader(test_reviews, batch_size=512, collate_fn=collate)"
   ],
   "metadata": {
    "collapsed": false
   }
  },
  {
   "cell_type": "code",
   "execution_count": 369,
   "outputs": [
    {
     "name": "stdout",
     "output_type": "stream",
     "text": [
      "Epoch 1\n",
      "--------------------------------\n",
      "loss: 0.681000  [    0/17056]\n",
      "loss: 0.677909  [ 3300/17056]\n",
      "loss: 0.694153  [ 6600/17056]\n",
      "loss: 0.693084  [ 9900/17056]\n",
      "loss: 0.693252  [13200/17056]\n",
      "loss: 0.691192  [16500/17056]\n",
      "Test Error: \n",
      " Accuracy: 0.505159, Avg loss: 0.693103 \n",
      "\n",
      "Epoch 2\n",
      "--------------------------------\n",
      "loss: 0.689763  [    0/17056]\n",
      "loss: 0.689104  [ 3300/17056]\n",
      "loss: 0.691192  [ 6600/17056]\n",
      "loss: 0.677704  [ 9900/17056]\n",
      "loss: 0.706161  [13200/17056]\n",
      "loss: 0.715148  [16500/17056]\n",
      "Test Error: \n",
      " Accuracy: 0.532833, Avg loss: 0.690566 \n",
      "\n",
      "Epoch 3\n",
      "--------------------------------\n",
      "loss: 0.688084  [    0/17056]\n",
      "loss: 0.691872  [ 3300/17056]\n",
      "loss: 0.667145  [ 6600/17056]\n",
      "loss: 0.579101  [ 9900/17056]\n",
      "loss: 0.543175  [13200/17056]\n",
      "loss: 0.547473  [16500/17056]\n",
      "Test Error: \n",
      " Accuracy: 0.650563, Avg loss: 0.625727 \n",
      "\n",
      "Epoch 4\n",
      "--------------------------------\n",
      "loss: 0.490492  [    0/17056]\n",
      "loss: 0.324382  [ 3300/17056]\n",
      "loss: 0.190905  [ 6600/17056]\n",
      "loss: 0.582821  [ 9900/17056]\n",
      "loss: 0.239869  [13200/17056]\n",
      "loss: 0.310349  [16500/17056]\n",
      "Test Error: \n",
      " Accuracy: 0.712008, Avg loss: 0.683403 \n",
      "\n",
      "Epoch 5\n",
      "--------------------------------\n",
      "loss: 0.184015  [    0/17056]\n",
      "loss: 0.129562  [ 3300/17056]\n",
      "loss: 0.111048  [ 6600/17056]\n",
      "loss: 0.302494  [ 9900/17056]\n",
      "loss: 0.292352  [13200/17056]\n",
      "loss: 0.211691  [16500/17056]\n",
      "Test Error: \n",
      " Accuracy: 0.734053, Avg loss: 0.788844 \n",
      "\n",
      "Epoch 6\n",
      "--------------------------------\n",
      "loss: 0.092098  [    0/17056]\n",
      "loss: 0.199041  [ 3300/17056]\n",
      "loss: 0.145890  [ 6600/17056]\n",
      "loss: 0.180918  [ 9900/17056]\n",
      "loss: 0.147200  [13200/17056]\n",
      "loss: 0.072837  [16500/17056]\n",
      "Test Error: \n",
      " Accuracy: 0.733114, Avg loss: 1.151722 \n",
      "\n",
      "Epoch 7\n",
      "--------------------------------\n",
      "loss: 0.043822  [    0/17056]\n",
      "loss: 0.077691  [ 3300/17056]\n",
      "loss: 0.024917  [ 6600/17056]\n",
      "loss: 0.049049  [ 9900/17056]\n",
      "loss: 0.049300  [13200/17056]\n",
      "loss: 0.164427  [16500/17056]\n",
      "Test Error: \n",
      " Accuracy: 0.737805, Avg loss: 1.348194 \n",
      "\n",
      "Epoch 8\n",
      "--------------------------------\n",
      "loss: 0.130493  [    0/17056]\n",
      "loss: 0.006636  [ 3300/17056]\n",
      "loss: 0.041343  [ 6600/17056]\n",
      "loss: 0.039197  [ 9900/17056]\n",
      "loss: 0.014356  [13200/17056]\n",
      "loss: 0.047773  [16500/17056]\n",
      "Test Error: \n",
      " Accuracy: 0.742964, Avg loss: 1.569389 \n",
      "\n",
      "Epoch 9\n",
      "--------------------------------\n",
      "loss: 0.008766  [    0/17056]\n",
      "loss: 0.054008  [ 3300/17056]\n",
      "loss: 0.095278  [ 6600/17056]\n",
      "loss: 0.005838  [ 9900/17056]\n",
      "loss: 0.003951  [13200/17056]\n",
      "loss: 0.019564  [16500/17056]\n",
      "Test Error: \n",
      " Accuracy: 0.735460, Avg loss: 1.491500 \n",
      "\n",
      "Epoch 00009: reducing learning rate of group 0 to 3.0470e-04.\n",
      "Epoch 10\n",
      "--------------------------------\n",
      "loss: 0.028287  [    0/17056]\n",
      "loss: 0.018302  [ 3300/17056]\n",
      "loss: 0.000719  [ 6600/17056]\n",
      "loss: 0.006448  [ 9900/17056]\n",
      "loss: 0.004429  [13200/17056]\n",
      "loss: 0.001682  [16500/17056]\n",
      "Test Error: \n",
      " Accuracy: 0.736867, Avg loss: 2.149955 \n",
      "\n",
      "Epoch 11\n",
      "--------------------------------\n",
      "loss: 0.017393  [    0/17056]\n",
      "loss: 0.000448  [ 3300/17056]\n",
      "loss: 0.018567  [ 6600/17056]\n",
      "loss: 0.000330  [ 9900/17056]\n",
      "loss: 0.017158  [13200/17056]\n",
      "loss: 0.041134  [16500/17056]\n",
      "Test Error: \n",
      " Accuracy: 0.731707, Avg loss: 2.393780 \n",
      "\n",
      "Epoch 12\n",
      "--------------------------------\n",
      "loss: 0.002246  [    0/17056]\n",
      "loss: 0.000792  [ 3300/17056]\n",
      "loss: 0.000211  [ 6600/17056]\n",
      "loss: 0.024891  [ 9900/17056]\n",
      "loss: 0.057427  [13200/17056]\n",
      "loss: 0.000703  [16500/17056]\n",
      "Test Error: \n",
      " Accuracy: 0.740150, Avg loss: 2.459802 \n",
      "\n",
      "Epoch 13\n",
      "--------------------------------\n",
      "loss: 0.001134  [    0/17056]\n",
      "loss: 0.016485  [ 3300/17056]\n",
      "loss: 0.000245  [ 6600/17056]\n",
      "loss: 0.000094  [ 9900/17056]\n",
      "loss: 0.000247  [13200/17056]\n",
      "loss: 0.001329  [16500/17056]\n",
      "Test Error: \n",
      " Accuracy: 0.727017, Avg loss: 2.932488 \n",
      "\n",
      "Epoch 14\n",
      "--------------------------------\n",
      "loss: 0.002072  [    0/17056]\n",
      "loss: 0.000343  [ 3300/17056]\n",
      "loss: 0.053811  [ 6600/17056]\n",
      "loss: 0.002520  [ 9900/17056]\n",
      "loss: 0.151837  [13200/17056]\n",
      "loss: 0.002139  [16500/17056]\n",
      "Test Error: \n",
      " Accuracy: 0.741088, Avg loss: 2.569065 \n",
      "\n",
      "Epoch 15\n",
      "--------------------------------\n",
      "loss: 0.000225  [    0/17056]\n",
      "loss: 0.000092  [ 3300/17056]\n",
      "loss: 0.007645  [ 6600/17056]\n",
      "loss: 0.001251  [ 9900/17056]\n",
      "loss: 0.000108  [13200/17056]\n",
      "loss: 0.000098  [16500/17056]\n",
      "Test Error: \n",
      " Accuracy: 0.736398, Avg loss: 2.816739 \n",
      "\n",
      "Epoch 00015: reducing learning rate of group 0 to 1.0157e-04.\n",
      "Epoch 16\n",
      "--------------------------------\n",
      "loss: 0.000536  [    0/17056]\n",
      "loss: 0.001144  [ 3300/17056]\n",
      "loss: 0.000013  [ 6600/17056]\n",
      "loss: 0.000112  [ 9900/17056]\n",
      "loss: 0.000112  [13200/17056]\n",
      "loss: 0.000402  [16500/17056]\n",
      "Test Error: \n",
      " Accuracy: 0.735460, Avg loss: 2.996815 \n",
      "\n",
      "Epoch 17\n",
      "--------------------------------\n",
      "loss: 0.051344  [    0/17056]\n",
      "loss: 0.004003  [ 3300/17056]\n",
      "loss: 0.001329  [ 6600/17056]\n",
      "loss: 0.018875  [ 9900/17056]\n",
      "loss: 0.000217  [13200/17056]\n",
      "loss: 0.003622  [16500/17056]\n",
      "Test Error: \n",
      " Accuracy: 0.742026, Avg loss: 2.995286 \n",
      "\n",
      "Epoch 18\n",
      "--------------------------------\n",
      "loss: 0.000375  [    0/17056]\n",
      "loss: 0.000079  [ 3300/17056]\n",
      "loss: 0.000046  [ 6600/17056]\n",
      "loss: 0.018245  [ 9900/17056]\n",
      "loss: 0.000117  [13200/17056]\n",
      "loss: 0.050153  [16500/17056]\n",
      "Test Error: \n",
      " Accuracy: 0.736867, Avg loss: 3.280368 \n",
      "\n",
      "Epoch 19\n",
      "--------------------------------\n",
      "loss: 0.050174  [    0/17056]\n",
      "loss: 0.000000  [ 3300/17056]\n",
      "loss: 0.000423  [ 6600/17056]\n",
      "loss: 0.000278  [ 9900/17056]\n",
      "loss: 0.000364  [13200/17056]\n",
      "loss: 0.000031  [16500/17056]\n",
      "Test Error: \n",
      " Accuracy: 0.740150, Avg loss: 3.199429 \n",
      "\n",
      "Epoch 20\n",
      "--------------------------------\n",
      "loss: 0.000001  [    0/17056]\n",
      "loss: 0.000170  [ 3300/17056]\n",
      "loss: 0.000056  [ 6600/17056]\n",
      "loss: 0.000020  [ 9900/17056]\n",
      "loss: 0.012771  [13200/17056]\n",
      "loss: 0.049347  [16500/17056]\n",
      "Test Error: \n",
      " Accuracy: 0.729831, Avg loss: 3.530751 \n",
      "\n",
      "CPU times: total: 1min 57s\n",
      "Wall time: 2min 14s\n"
     ]
    }
   ],
   "source": [
    "%%time\n",
    "\n",
    "_ = common_train(\n",
    "    epochs=20,\n",
    "    model=net,\n",
    "    loss_fn=loss_fn,\n",
    "    optimizer=optimizer,\n",
    "    train_dataloader=train_dataloader,\n",
    "    test_dataloader=test_dataloader,\n",
    "    lr_scheduler=lr_scheduler,\n",
    "    verbose=150,\n",
    "    device=DEVICE,\n",
    ")"
   ],
   "metadata": {
    "collapsed": false
   }
  },
  {
   "cell_type": "markdown",
   "source": [
    "У модели явная проблема с переобучением. После 3-ей эпохи тестовая ошибка начала увеличиваться,\n",
    "в то же время ошибка на обучающей выборки быстро приблизилась к 0."
   ],
   "metadata": {
    "collapsed": false
   }
  },
  {
   "cell_type": "markdown",
   "source": [
    "2.7 Измерить точность на тестовой выборке. Проверить работоспособность модели: придумать небольшой отзыв, прогнать его через модель и вывести номер предсказанного класса (сделать это для явно позитивного и явно негативного отзыва)\n",
    "* Целевое значение accuracy на валидации - 70+%"
   ],
   "metadata": {
    "collapsed": false
   }
  },
  {
   "cell_type": "code",
   "execution_count": 370,
   "outputs": [
    {
     "name": "stdout",
     "output_type": "stream",
     "text": [
      "              precision    recall  f1-score   support\n",
      "\n",
      "    negative       0.76      0.67      0.71      1061\n",
      "    positive       0.71      0.79      0.75      1071\n",
      "\n",
      "    accuracy                           0.73      2132\n",
      "   macro avg       0.73      0.73      0.73      2132\n",
      "weighted avg       0.73      0.73      0.73      2132\n",
      "\n"
     ]
    }
   ],
   "source": [
    "y_test, y_pred = get_y_test_y_pred(net, test_dataloader, DEVICE)\n",
    "\n",
    "print(metrics.classification_report(\n",
    "    y_true=y_test,\n",
    "    y_pred=y_pred,\n",
    "    target_names=[\"negative\", \"positive\"],\n",
    "))"
   ],
   "metadata": {
    "collapsed": false
   }
  },
  {
   "cell_type": "code",
   "execution_count": 371,
   "outputs": [],
   "source": [
    "def inference(\n",
    "        review: str,\n",
    "        target: str,\n",
    "        model: nn.Module,\n",
    "        vocab: ReviewsVocab,\n",
    "        target_names: list[str],\n",
    "        device: str = \"cpu\",\n",
    "):\n",
    "    x = vocab.encode(preprocess_review(review))\n",
    "    x = x.to(device)\n",
    "\n",
    "    pred = model(x.unsqueeze(0))\n",
    "    pred_proba, pred_label_idx = F.softmax(pred, 1).max(dim=1)\n",
    "    pred_label = target_names[pred_label_idx.cpu()]\n",
    "\n",
    "    print(f\"Review : {review}\")\n",
    "    print(f\"True   : {target}\")\n",
    "    print(f\"Predict: {pred_label} ({pred_proba.item():.2f})\\n\")"
   ],
   "metadata": {
    "collapsed": false
   }
  },
  {
   "cell_type": "code",
   "execution_count": 372,
   "outputs": [
    {
     "name": "stdout",
     "output_type": "stream",
     "text": [
      "Review : No intrigue, poor character disclosure.\n",
      "True   : negative\n",
      "Predict: negative (1.00)\n",
      "\n",
      "Review : A fascinating story. The actors played their characters perfectly.\n",
      "True   : positive\n",
      "Predict: positive (1.00)\n",
      "\n"
     ]
    }
   ],
   "source": [
    "reviews = [\n",
    "    (\"No intrigue, poor character disclosure.\", \"negative\"),\n",
    "    (\"A fascinating story. The actors played their characters perfectly.\", \"positive\"),\n",
    "]\n",
    "for review, target in reviews:\n",
    "    inference(\n",
    "        review=review,\n",
    "        target=target,\n",
    "        model=net,\n",
    "        vocab=vocab,\n",
    "        target_names=[\"negative\", \"positive\"],\n",
    "        device=DEVICE,\n",
    "    )\n",
    "# вот это уверенность"
   ],
   "metadata": {
    "collapsed": false
   }
  },
  {
   "cell_type": "markdown",
   "source": [
    "**Вывод:** единственная обоснованная, логичная и очень простая идея не включать в датасет слова (после обработки) короче 3-х символов дала ощутимый прирост точности модели.\n",
    "\n",
    "_Размер батча - самый важный гипер и негипер параметр_\n",
    "\n",
    "_Выкинул из модели слой свертки из 4-х блоков - она этого не заметила_"
   ],
   "metadata": {
    "collapsed": false
   }
  }
 ],
 "metadata": {
  "accelerator": "GPU",
  "colab": {
   "authorship_tag": "ABX9TyPUQGO96Qffh8FYHODzJzxf",
   "collapsed_sections": [],
   "name": "blank__06_CNN_embeddings_v2.ipynb",
   "provenance": [],
   "toc_visible": true
  },
  "kernelspec": {
   "display_name": "Python 3 (ipykernel)",
   "language": "python",
   "name": "python3"
  },
  "language_info": {
   "codemirror_mode": {
    "name": "ipython",
    "version": 3
   },
   "file_extension": ".py",
   "mimetype": "text/x-python",
   "name": "python",
   "nbconvert_exporter": "python",
   "pygments_lexer": "ipython3",
   "version": "3.9.7"
  }
 },
 "nbformat": 4,
 "nbformat_minor": 1
}
