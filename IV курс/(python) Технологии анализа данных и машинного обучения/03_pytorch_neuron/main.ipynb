{
 "cells": [
  {
   "cell_type": "markdown",
   "metadata": {},
   "source": [
    "# 3. Создание нейронной сети при помощи пакета `torch`. Dataset и Dataloader.\n",
    "\n",
    "__Автор__: Никита Владимирович Блохин (NVBlokhin@fa.ru)\n",
    "\n",
    "Финансовый университет, 2020 г. "
   ]
  },
  {
   "cell_type": "code",
   "execution_count": 737,
   "metadata": {
    "id": "6ktSXdQVb9Li"
   },
   "outputs": [],
   "source": [
    "import typing as t\n",
    "from pathlib import Path\n",
    "\n",
    "import matplotlib.pyplot as plt\n",
    "import numpy as np\n",
    "import pandas as pd\n",
    "import seaborn as sns\n",
    "import torch\n",
    "import torch.nn as nn\n",
    "import torch.optim as optim\n",
    "from sklearn import metrics\n",
    "from torch.utils.data import Dataset, DataLoader, random_split, Subset"
   ]
  },
  {
   "cell_type": "code",
   "execution_count": 738,
   "outputs": [],
   "source": [
    "# @formatter:off\n",
    "%matplotlib inline\n",
    "# @formatter:on"
   ],
   "metadata": {
    "collapsed": false
   }
  },
  {
   "cell_type": "code",
   "execution_count": 739,
   "outputs": [],
   "source": [
    "plt.style.use(\"science\")\n",
    "sns.set_theme()\n",
    "\n",
    "plt.rcParams[\"figure.figsize\"] = (8, 4)"
   ],
   "metadata": {
    "collapsed": false
   }
  },
  {
   "cell_type": "code",
   "execution_count": 740,
   "outputs": [],
   "source": [
    "DATA_DIR = Path(\"data/\")"
   ],
   "metadata": {
    "collapsed": false
   }
  },
  {
   "cell_type": "markdown",
   "metadata": {
    "id": "4L7Inb1JbiDy"
   },
   "source": [
    "## 1. Автоматическое дифференцирование в `torch`"
   ]
  },
  {
   "cell_type": "markdown",
   "source": [
    "1.1 Воспользовавшись классами `Neuron` и `MSELoss` из задачи 2.4.1 и автоматическим дифференцированием, которое предоставляет `torch`, решить задачу регрессии. Для оптимизации использовать стохастический градиетный спуск."
   ],
   "metadata": {
    "collapsed": false
   }
  },
  {
   "cell_type": "code",
   "execution_count": 741,
   "outputs": [],
   "source": [
    "from sklearn.datasets import make_regression\n",
    "\n",
    "X, y, coef = make_regression(n_features=4, n_informative=4, coef=True, bias=0.5)\n",
    "X = torch.from_numpy(X).to(dtype=torch.float32)\n",
    "y = torch.from_numpy(y).to(dtype=torch.float32)"
   ],
   "metadata": {
    "collapsed": false
   }
  },
  {
   "cell_type": "code",
   "execution_count": 742,
   "outputs": [],
   "source": [
    "class Neuron:\n",
    "\n",
    "    def __init__(self, in_features: int):\n",
    "        self.in_features = in_features\n",
    "\n",
    "        self.weights = torch.randn(self.in_features, requires_grad=True)\n",
    "        self.bias = torch.randn(1, requires_grad=True)\n",
    "\n",
    "    def forward(self, inputs: torch.Tensor) -> torch.Tensor:\n",
    "        return torch.sum(self.weights * inputs) + self.bias\n",
    "\n",
    "\n",
    "class SELoss:\n",
    "\n",
    "    def forward(self, y_pred: torch.Tensor, y_true: torch.Tensor) -> torch.Tensor:\n",
    "        return (y_pred - y_true) ** 2\n"
   ],
   "metadata": {
    "collapsed": false
   }
  },
  {
   "cell_type": "code",
   "execution_count": 743,
   "outputs": [
    {
     "data": {
      "text/plain": "(tensor([74.0307, 40.0387, 19.6331, 22.0981], requires_grad=True),\n array([74.03074811, 40.03875335, 19.63306065, 22.09810527]))"
     },
     "execution_count": 743,
     "metadata": {},
     "output_type": "execute_result"
    }
   ],
   "source": [
    "torch.manual_seed(0)\n",
    "\n",
    "neuron = Neuron(X.size(1))\n",
    "se = SELoss()\n",
    "\n",
    "lr = 0.1\n",
    "epochs = 10\n",
    "for epoch in range(epochs):\n",
    "    for i, (x, y_true) in enumerate(zip(X, y)):\n",
    "        y_pred = neuron.forward(x)\n",
    "\n",
    "        loss = se.forward(y_pred, y_true)\n",
    "        loss.backward()\n",
    "\n",
    "        with torch.no_grad():\n",
    "            neuron.weights -= lr * neuron.weights.grad\n",
    "            neuron.bias -= lr * neuron.bias.grad\n",
    "\n",
    "        neuron.weights.grad.zero_()\n",
    "        neuron.bias.grad.zero_()\n",
    "\n",
    "neuron.weights, coef"
   ],
   "metadata": {
    "collapsed": false
   }
  },
  {
   "cell_type": "markdown",
   "source": [
    "1.2 Воспользовавшись классами `Linear` и `MSELoss` из задачи 2.1.4 и 2.3.1, `ReLU` из 2.2.1 и автоматическим дифференцированием, которое предоставляет `torch`, решить задачу регрессии. Для оптимизации использовать пакетный градиентный спуск. Вывести график функции потерь в зависимости от номера эпохи. Вывести на одном графике исходные данные и предсказанные значения."
   ],
   "metadata": {
    "collapsed": false
   }
  },
  {
   "cell_type": "code",
   "execution_count": 744,
   "outputs": [],
   "source": [
    "X = torch.linspace(0, 1, 100).view(-1, 1)\n",
    "y = torch.sin(2 * np.pi * X) + 0.1 * torch.rand(X.size())"
   ],
   "metadata": {
    "collapsed": false
   }
  },
  {
   "cell_type": "code",
   "execution_count": 745,
   "outputs": [],
   "source": [
    "class Linear:\n",
    "\n",
    "    def __init__(self, in_features: int, out_features: int):\n",
    "        self.in_features = in_features\n",
    "        self.out_features = out_features\n",
    "\n",
    "        self.weights = torch.randn(out_features, in_features, requires_grad=True)\n",
    "        self.biases = torch.randn(out_features, requires_grad=True)\n",
    "\n",
    "    def forward(self, inputs: torch.Tensor) -> torch.Tensor:\n",
    "        return torch.matmul(inputs, self.weights.T) + self.biases\n",
    "\n",
    "\n",
    "class MSELoss:\n",
    "\n",
    "    def forward(self, y_pred: torch.Tensor, y_true: torch.Tensor) -> torch.Tensor:\n",
    "        return torch.mean((y_pred - y_true) ** 2)\n",
    "\n",
    "\n",
    "class ReLU:\n",
    "\n",
    "    def forward(self, inputs: torch.Tensor) -> torch.Tensor:\n",
    "        return torch.maximum(inputs, torch.tensor(0))"
   ],
   "metadata": {
    "collapsed": false
   }
  },
  {
   "cell_type": "code",
   "execution_count": 746,
   "outputs": [],
   "source": [
    "torch.manual_seed(0)\n",
    "\n",
    "fc1 = Linear(X.size(1), 100)\n",
    "relu = ReLU()\n",
    "fc2 = Linear(100, y.size(1))\n",
    "mse = MSELoss()\n",
    "\n",
    "lr = 0.01\n",
    "epochs = 1000\n",
    "\n",
    "losses = torch.empty(epochs)\n",
    "for epoch in range(epochs):\n",
    "    y_pred = fc2.forward(relu.forward(fc1.forward(X)))\n",
    "\n",
    "    loss = mse.forward(y_pred, y)\n",
    "    loss.backward()\n",
    "    losses[epoch] = loss\n",
    "\n",
    "    with torch.no_grad():\n",
    "        fc1.weights -= lr * fc1.weights.grad\n",
    "        fc1.biases -= lr * fc1.biases.grad\n",
    "        fc2.weights -= lr * fc2.weights.grad\n",
    "        fc2.biases -= lr * fc2.biases.grad\n",
    "\n",
    "    fc1.weights.grad.zero_()\n",
    "    fc1.biases.grad.zero_()\n",
    "    fc2.weights.grad.zero_()\n",
    "    fc2.biases.grad.zero_()\n",
    "\n",
    "predicts = fc2.forward(relu.forward(fc1.forward(X)))"
   ],
   "metadata": {
    "collapsed": false
   }
  },
  {
   "cell_type": "code",
   "execution_count": 747,
   "outputs": [
    {
     "data": {
      "text/plain": "<Figure size 800x400 with 1 Axes>",
      "image/png": "[encoded data removed]"
     },
     "metadata": {},
     "output_type": "display_data"
    }
   ],
   "source": [
    "plt.plot(torch.arange(losses.size(0)), losses.detach().numpy());"
   ],
   "metadata": {
    "collapsed": false
   }
  },
  {
   "cell_type": "code",
   "execution_count": 748,
   "outputs": [
    {
     "data": {
      "text/plain": "<Figure size 800x400 with 1 Axes>",
      "image/png": "[encoded data removed]"
     },
     "metadata": {},
     "output_type": "display_data"
    }
   ],
   "source": [
    "_, ax = plt.subplots(1)\n",
    "\n",
    "ax.scatter(X, y, s=10)\n",
    "ax.plot(X, predicts.detach(), c='r', lw=2);"
   ],
   "metadata": {
    "collapsed": false
   }
  },
  {
   "cell_type": "markdown",
   "metadata": {
    "id": "nifm0FVB2y5N"
   },
   "source": [
    "## 2. Алгоритмы оптимизации в `torch.optim`"
   ]
  },
  {
   "cell_type": "markdown",
   "metadata": {
    "id": "0oBFfJpmcwfn"
   },
   "source": [
    "2.1 Решить задачу 1.1, воспользовавшись оптимизатором `optim.SDG` для применения стохастического градиентого спуска"
   ]
  },
  {
   "cell_type": "code",
   "execution_count": 749,
   "outputs": [],
   "source": [
    "X, y, coef = make_regression(n_features=4, n_informative=4, coef=True, bias=0.5)\n",
    "X = torch.from_numpy(X).to(dtype=torch.float32)\n",
    "y = torch.from_numpy(y).to(dtype=torch.float32)"
   ],
   "metadata": {
    "collapsed": false
   }
  },
  {
   "cell_type": "code",
   "execution_count": 750,
   "outputs": [
    {
     "data": {
      "text/plain": "(tensor([ 7.9194, 53.8101,  5.4218, 77.5256], requires_grad=True),\n array([ 7.91942386, 53.8101011 ,  5.42180873, 77.52563738]))"
     },
     "execution_count": 750,
     "metadata": {},
     "output_type": "execute_result"
    }
   ],
   "source": [
    "torch.manual_seed(0)\n",
    "\n",
    "neuron = Neuron(X.size(1))\n",
    "se = SELoss()\n",
    "\n",
    "lr = 0.1\n",
    "optimizer = optim.SGD([neuron.weights, neuron.bias], lr=lr)\n",
    "\n",
    "epochs = 10\n",
    "for epoch in range(epochs):\n",
    "    for i, (x, y_true) in enumerate(zip(X, y)):\n",
    "        optimizer.zero_grad()\n",
    "\n",
    "        y_pred = neuron.forward(x)\n",
    "        loss = se.forward(y_pred, y_true)\n",
    "        loss.backward()\n",
    "\n",
    "        optimizer.step()\n",
    "\n",
    "neuron.weights, coef"
   ],
   "metadata": {
    "collapsed": false
   }
  },
  {
   "cell_type": "markdown",
   "metadata": {
    "id": "1LFAacdy46bX"
   },
   "source": [
    "2.2 Решить задачу 1.2, воспользовавшись оптимизатором `optim.Adam` для применения пакетного градиентого спуска. Вывести график функции потерь в зависимости от номера эпохи. Вывести на одном графике исходные данные и предсказанные значения."
   ]
  },
  {
   "cell_type": "code",
   "execution_count": 751,
   "outputs": [],
   "source": [
    "X = torch.linspace(0, 1, 100).view(-1, 1)\n",
    "y = torch.sin(2 * np.pi * X) + 0.1 * torch.rand(X.size())"
   ],
   "metadata": {
    "collapsed": false
   }
  },
  {
   "cell_type": "code",
   "execution_count": 752,
   "outputs": [],
   "source": [
    "torch.manual_seed(0)\n",
    "\n",
    "fc1 = Linear(X.size(1), 100)\n",
    "relu = ReLU()\n",
    "fc2 = Linear(100, y.size(1))\n",
    "mse = MSELoss()\n",
    "\n",
    "lr = 0.01\n",
    "optimizer = optim.Adam([fc1.weights, fc1.biases, fc2.weights, fc2.biases], lr=lr)\n",
    "\n",
    "epochs = 1000\n",
    "losses = torch.empty(epochs)\n",
    "for epoch in range(epochs):\n",
    "    optimizer.zero_grad()\n",
    "\n",
    "    y_pred = fc2.forward(relu.forward(fc1.forward(X)))\n",
    "    loss = mse.forward(y_pred, y)\n",
    "    loss.backward()\n",
    "    losses[epoch] = loss\n",
    "\n",
    "    optimizer.step()\n",
    "\n",
    "predicts = fc2.forward(relu.forward(fc1.forward(X)))"
   ],
   "metadata": {
    "collapsed": false
   }
  },
  {
   "cell_type": "code",
   "execution_count": 753,
   "outputs": [
    {
     "data": {
      "text/plain": "<Figure size 800x400 with 1 Axes>",
      "image/png": "[encoded data removed]"
     },
     "metadata": {},
     "output_type": "display_data"
    }
   ],
   "source": [
    "plt.plot(torch.arange(losses.size(0)), losses.detach().numpy());"
   ],
   "metadata": {
    "collapsed": false
   }
  },
  {
   "cell_type": "code",
   "execution_count": 754,
   "outputs": [
    {
     "data": {
      "text/plain": "<Figure size 800x400 with 1 Axes>",
      "image/png": "[encoded data removed]"
     },
     "metadata": {},
     "output_type": "display_data"
    }
   ],
   "source": [
    "_, ax = plt.subplots(1)\n",
    "\n",
    "ax.scatter(X, y, s=10)\n",
    "ax.plot(X, predicts.detach(), c='r', lw=2);"
   ],
   "metadata": {
    "collapsed": false
   }
  },
  {
   "cell_type": "markdown",
   "metadata": {
    "id": "n-qUqdALiN-G"
   },
   "source": [
    "## 3. Построение сетей при помощи `torch.nn`"
   ]
  },
  {
   "cell_type": "markdown",
   "metadata": {
    "id": "M0ICJtarif3_"
   },
   "source": [
    "3.1 Решить задачу регрессии, соблюдая следующие условия:\n",
    "\n",
    "1. Оформить нейронную сеть в виде класса - наследника `nn.Module`\n",
    "2. При создании сети использовать готовые блоки из `torch.nn`: слои, функции активации, функции потерь и т.д.\n",
    "3. Для оптимизации использовать любой алгоритм оптимизации из `torch.optim` "
   ]
  },
  {
   "cell_type": "code",
   "execution_count": 755,
   "metadata": {
    "id": "L1bvXHhO7aWs"
   },
   "outputs": [],
   "source": [
    "X = torch.linspace(0, 1, 100).view(-1, 1)\n",
    "y = torch.sin(2 * np.pi * X) + 0.1 * torch.rand(X.size())"
   ]
  },
  {
   "cell_type": "code",
   "execution_count": 756,
   "outputs": [],
   "source": [
    "class Net(nn.Module):\n",
    "\n",
    "    def __init__(self, in_features: int, out_features: int):\n",
    "        super(Net, self).__init__()\n",
    "        self.in_features = in_features\n",
    "        self.out_features = out_features\n",
    "\n",
    "        self.fc1 = nn.Linear(self.in_features, 100)\n",
    "        self.relu = nn.ReLU()\n",
    "        self.fc2 = nn.Linear(100, self.out_features)\n",
    "\n",
    "    def forward(self, inputs: torch.Tensor) -> torch.Tensor:\n",
    "        return self.fc2(self.relu(self.fc1(inputs)))\n"
   ],
   "metadata": {
    "collapsed": false
   }
  },
  {
   "cell_type": "code",
   "execution_count": 757,
   "outputs": [],
   "source": [
    "torch.manual_seed(0)\n",
    "\n",
    "net = Net(X.size(1), y.size(1))\n",
    "criterion = nn.MSELoss()\n",
    "optimizer = optim.Adam(net.parameters(), lr=0.01)"
   ],
   "metadata": {
    "collapsed": false
   }
  },
  {
   "cell_type": "code",
   "execution_count": 758,
   "outputs": [],
   "source": [
    "for epoch in range(1000):\n",
    "    optimizer.zero_grad()\n",
    "\n",
    "    y_pred = net(X)\n",
    "    loss = criterion(y_pred, y)\n",
    "    loss.backward()\n",
    "\n",
    "    optimizer.step()\n",
    "\n",
    "predicts = net(X)"
   ],
   "metadata": {
    "collapsed": false
   }
  },
  {
   "cell_type": "code",
   "execution_count": 759,
   "outputs": [
    {
     "data": {
      "text/plain": "<Figure size 800x400 with 1 Axes>",
      "image/png": "[encoded data removed]"
     },
     "metadata": {},
     "output_type": "display_data"
    }
   ],
   "source": [
    "_, ax = plt.subplots(1)\n",
    "\n",
    "ax.scatter(X, y, s=10)\n",
    "ax.plot(X, predicts.detach(), c='r', lw=2);"
   ],
   "metadata": {
    "collapsed": false
   }
  },
  {
   "cell_type": "markdown",
   "metadata": {
    "id": "UPUW6fm5jbQd"
   },
   "source": [
    "3.2 Решить задачу регрессии, соблюдая следующие условия:\n",
    "\n",
    "1. Оформить нейронную сеть в виде объекта `nn.Sequential`\n",
    "2. При создании сети использовать готовые блоки из `torch.nn`: слои, функции активации, функции потерь и т.д.\n",
    "3. Для оптимизации использовать любой алгоритм оптимизации из `torch.optim` "
   ]
  },
  {
   "cell_type": "code",
   "execution_count": 760,
   "metadata": {
    "id": "BBwbAEd57a2r"
   },
   "outputs": [],
   "source": [
    "X = torch.linspace(0, 1, 100).view(-1, 1)\n",
    "y = torch.sin(2 * np.pi * X) + 0.1 * torch.rand(X.size())"
   ]
  },
  {
   "cell_type": "code",
   "execution_count": 761,
   "outputs": [],
   "source": [
    "torch.manual_seed(0)\n",
    "\n",
    "in_features = X.size(1)\n",
    "out_features = y.size(1)\n",
    "\n",
    "net = nn.Sequential(\n",
    "    nn.Linear(in_features, 30),\n",
    "    nn.ReLU(),\n",
    "    nn.Linear(30, 100),\n",
    "    nn.ReLU(),\n",
    "    nn.Linear(100, out_features),\n",
    ")\n",
    "criterion = nn.L1Loss()\n",
    "optimizer = optim.SGD(net.parameters(), lr=0.01, momentum=0.9)"
   ],
   "metadata": {
    "collapsed": false
   }
  },
  {
   "cell_type": "code",
   "execution_count": 762,
   "outputs": [],
   "source": [
    "for epoch in range(1000):\n",
    "    optimizer.zero_grad()\n",
    "\n",
    "    y_pred = net(X)\n",
    "    loss = criterion(y_pred, y)\n",
    "    loss.backward()\n",
    "\n",
    "    optimizer.step()\n",
    "\n",
    "predicts = net(X)"
   ],
   "metadata": {
    "collapsed": false
   }
  },
  {
   "cell_type": "code",
   "execution_count": 763,
   "outputs": [
    {
     "data": {
      "text/plain": "<Figure size 800x400 with 1 Axes>",
      "image/png": "[encoded data removed]"
     },
     "metadata": {},
     "output_type": "display_data"
    }
   ],
   "source": [
    "_, ax = plt.subplots(1)\n",
    "\n",
    "ax.scatter(X, y, s=10)\n",
    "ax.plot(X, predicts.detach(), c='r', lw=2);"
   ],
   "metadata": {
    "collapsed": false
   }
  },
  {
   "cell_type": "markdown",
   "metadata": {},
   "source": [
    "3.3 Решить задачу классификации. Датасет: Breast Cancer Wisconsin\n",
    "1. Оформить нейронную сеть в виде объекта `nn.Sequential`\n",
    "2. При создании сети использовать готовые блоки из `torch.nn`: слои, функции активации, функции потерь и т.д.\n",
    "3. Для оптимизации использовать любой алгоритм оптимизации из `torch.optim`"
   ]
  },
  {
   "cell_type": "code",
   "execution_count": 764,
   "outputs": [
    {
     "name": "stdout",
     "output_type": "stream",
     "text": [
      ".. _breast_cancer_dataset:\n",
      "\n",
      "Breast cancer wisconsin (diagnostic) dataset\n",
      "--------------------------------------------\n",
      "\n",
      "**Data Set Characteristics:**\n",
      "\n",
      "    :Number of Instances: 569\n",
      "\n",
      "    :Number of Attributes: 30 numeric, predictive attributes and the class\n",
      "\n",
      "    :Attribute Information:\n",
      "        - radius (mean of distances from center to points on the perimeter)\n",
      "        - texture (standard deviation of gray-scale values)\n",
      "        - perimeter\n",
      "        - area\n",
      "        - smoothness (local variation in radius lengths)\n",
      "        - compactness (perimeter^2 / area - 1.0)\n",
      "        - concavity (severity of concave portions of the contour)\n",
      "        - concave points (number of concave portions of the contour)\n",
      "        - symmetry\n",
      "        - fractal dimension (\"coastline approximation\" - 1)\n",
      "\n",
      "        The mean, standard error, and \"worst\" or largest (mean of the three\n",
      "        worst/largest values) of these features were computed for each image,\n",
      "        resulting in 30 features.  For instance, field 0 is Mean Radius, field\n",
      "        10 is Radius SE, field 20 is Worst Radius.\n",
      "\n",
      "        - class:\n",
      "                - WDBC-Malignant\n",
      "                - WDBC-Benign\n"
     ]
    }
   ],
   "source": [
    "from sklearn import datasets\n",
    "\n",
    "dataset = datasets.load_breast_cancer()\n",
    "\n",
    "X = torch.from_numpy(dataset.data).to(torch.float32)\n",
    "y = torch.from_numpy(dataset.target).to(torch.float32).view(-1, 1)\n",
    "\n",
    "print(dataset.DESCR.split(':Summary Statistics:')[0].strip())"
   ],
   "metadata": {
    "collapsed": false
   }
  },
  {
   "cell_type": "code",
   "execution_count": 765,
   "outputs": [],
   "source": [
    "def accuracy_score(y_true: torch.Tensor, y_pred: torch.Tensor) -> torch.Tensor:\n",
    "    return torch.sum(y_pred == y_true) / y_pred.size(0)"
   ],
   "metadata": {
    "collapsed": false
   }
  },
  {
   "cell_type": "code",
   "execution_count": 766,
   "outputs": [
    {
     "name": "stdout",
     "output_type": "stream",
     "text": [
      "Epoch [   0/1000]      loss = 10.10273, accuracy = 0.37258\n",
      "Epoch [ 200/1000]      loss = 0.17000, accuracy = 0.92970\n",
      "Epoch [ 400/1000]      loss = 0.12417, accuracy = 0.95079\n",
      "Epoch [ 600/1000]      loss = 0.09694, accuracy = 0.95782\n",
      "Epoch [ 800/1000]      loss = 0.08035, accuracy = 0.96134\n",
      "Epoch [1000/1000]      loss = 0.07004, accuracy = 0.97012\n"
     ]
    }
   ],
   "source": [
    "torch.manual_seed(0)\n",
    "\n",
    "net = nn.Sequential(\n",
    "    nn.Linear(X.size(1), 50),\n",
    "    nn.ReLU(),\n",
    "    nn.Linear(50, y.size(1)),\n",
    "    nn.Sigmoid(),\n",
    ")\n",
    "criterion = nn.BCELoss()\n",
    "optimizer = optim.Adam(net.parameters(), lr=0.005)\n",
    "\n",
    "epochs = 1000\n",
    "for epoch in range(epochs + 1):\n",
    "    optimizer.zero_grad()\n",
    "\n",
    "    y_pred = net(X)\n",
    "    loss = criterion(y_pred, y)\n",
    "    loss.backward()\n",
    "\n",
    "    optimizer.step()\n",
    "\n",
    "    if epoch % 200 == 0:\n",
    "        accuracy = metrics.accuracy_score(y, y_pred.round().detach().numpy())\n",
    "        print(f\"Epoch [{epoch:4}/{epochs}]{' ' * 6}loss = {loss:.5f}, accuracy = {accuracy:.5f}\")"
   ],
   "metadata": {
    "collapsed": false
   }
  },
  {
   "cell_type": "markdown",
   "metadata": {
    "id": "jQj0oVeLj2A1"
   },
   "source": [
    "## 4. Datasets and dataloaders"
   ]
  },
  {
   "cell_type": "markdown",
   "metadata": {
    "id": "hoFPckkp8yhz"
   },
   "source": [
    "4.1 Создать датасет, поставляющий данные из задачи 1.2. \n",
    "\n",
    "Создать `DataLoader` на основе этого датасета и проверить работоспособность.\n",
    "\n",
    "Воспользовавшись результатами 3.1 (или 3.2) обучите модель, пользуясь мини-пакетным градиентным спуском с размером пакета (`batch_size`) = 10"
   ]
  },
  {
   "cell_type": "code",
   "execution_count": 767,
   "metadata": {
    "id": "tlcwQzCFRvFc"
   },
   "outputs": [],
   "source": [
    "XyTensorsT = tuple[torch.Tensor, torch.Tensor]\n",
    "\n",
    "\n",
    "class SinDataset(Dataset):\n",
    "\n",
    "    def __init__(self):\n",
    "        self.data = torch.linspace(0, 1, 100).view(-1, 1)\n",
    "        self.target = torch.sin(2 * np.pi * self.data) + 0.1 * torch.rand(self.data.size())\n",
    "\n",
    "    def __len__(self):\n",
    "        return len(self.target)\n",
    "\n",
    "    def __getitem__(self, idx) -> XyTensorsT:\n",
    "        return self.data[idx], self.target[idx]"
   ]
  },
  {
   "cell_type": "code",
   "execution_count": 768,
   "outputs": [],
   "source": [
    "sin_dataset = SinDataset()\n",
    "sin_dataloader = DataLoader(sin_dataset, batch_size=10)\n",
    "\n",
    "X, y = sin_dataset.data, sin_dataset.target"
   ],
   "metadata": {
    "collapsed": false
   }
  },
  {
   "cell_type": "code",
   "execution_count": 769,
   "outputs": [],
   "source": [
    "net = nn.Sequential(\n",
    "    nn.Linear(X.size(1), 30),\n",
    "    nn.ReLU(),\n",
    "    nn.Linear(30, 100),\n",
    "    nn.ReLU(),\n",
    "    nn.Linear(100, y.size(1)),\n",
    ")\n",
    "criterion = nn.MSELoss()\n",
    "optimizer = optim.Adam(net.parameters(), lr=0.005)"
   ],
   "metadata": {
    "collapsed": false
   }
  },
  {
   "cell_type": "code",
   "execution_count": 770,
   "outputs": [
    {
     "name": "stdout",
     "output_type": "stream",
     "text": [
      "Epoch [  0/500], step [ 0/10]      loss = 0.16219, batch_size = 10\n",
      "Epoch [  0/500], step [ 5/10]      loss = 0.68401, batch_size = 10\n",
      "Epoch [100/500], step [ 0/10]      loss = 0.02070, batch_size = 10\n",
      "Epoch [100/500], step [ 5/10]      loss = 0.17524, batch_size = 10\n",
      "Epoch [200/500], step [ 0/10]      loss = 0.01118, batch_size = 10\n",
      "Epoch [200/500], step [ 5/10]      loss = 0.01712, batch_size = 10\n",
      "Epoch [300/500], step [ 0/10]      loss = 0.01117, batch_size = 10\n",
      "Epoch [300/500], step [ 5/10]      loss = 0.01166, batch_size = 10\n",
      "Epoch [400/500], step [ 0/10]      loss = 0.01308, batch_size = 10\n",
      "Epoch [400/500], step [ 5/10]      loss = 0.01136, batch_size = 10\n",
      "Epoch [500/500], step [ 0/10]      loss = 0.01096, batch_size = 10\n",
      "Epoch [500/500], step [ 5/10]      loss = 0.00877, batch_size = 10\n"
     ]
    }
   ],
   "source": [
    "steps = len(sin_dataloader)\n",
    "epochs = 500\n",
    "for epoch in range(epochs + 1):\n",
    "    for i, (x_, y_) in enumerate(sin_dataloader):\n",
    "        optimizer.zero_grad()\n",
    "\n",
    "        y_pred = net(x_)\n",
    "        loss = criterion(y_pred, y_)\n",
    "        loss.backward()\n",
    "\n",
    "        optimizer.step()\n",
    "\n",
    "        if epoch % 100 == 0 and i % 5 == 0:\n",
    "            print(f\"Epoch [{epoch:3}/{epochs}], step [{i:2}/{steps}]\"\n",
    "                  f\"{' ' * 6}loss = {loss:.5f}, batch_size = {x_.size(0)}\")"
   ],
   "metadata": {
    "collapsed": false
   }
  },
  {
   "cell_type": "code",
   "execution_count": 771,
   "outputs": [
    {
     "data": {
      "text/plain": "<Figure size 800x400 with 1 Axes>",
      "image/png": "[encoded data removed]"
     },
     "metadata": {},
     "output_type": "display_data"
    }
   ],
   "source": [
    "predicts = net(X)\n",
    "\n",
    "_, ax = plt.subplots(1)\n",
    "ax.scatter(X, y, s=10)\n",
    "ax.plot(X, predicts.detach(), c='r', lw=2);"
   ],
   "metadata": {
    "collapsed": false
   }
  },
  {
   "cell_type": "markdown",
   "metadata": {
    "id": "bxz02a3k_VQL"
   },
   "source": [
    "4.2 Предсказание цен алмазов"
   ]
  },
  {
   "cell_type": "markdown",
   "source": [
    "4.2.1 Создайте датасет на основе файла diamonds.csv.\n",
    "\n",
    "1. Удалите все нечисловые столбцы\n",
    "2. Целевой столбец (`y`) - `price`\n",
    "3. Преобразуйте данные в тензоры корректных размеров"
   ],
   "metadata": {
    "collapsed": false
   }
  },
  {
   "cell_type": "code",
   "execution_count": 772,
   "outputs": [],
   "source": [
    "class DiamondsDataset(Dataset):\n",
    "    features: torch.Tensor\n",
    "    labels: torch.Tensor\n",
    "\n",
    "    def __init__(self, data: pd.DataFrame):\n",
    "        data = data.select_dtypes(np.number)\n",
    "        features = data[data.columns.drop(\"price\")]\n",
    "        labels = data[[\"price\"]]\n",
    "\n",
    "        self.features = torch.from_numpy(features.to_numpy(dtype=np.float32))\n",
    "        self.labels = torch.from_numpy(labels.to_numpy(dtype=np.float32))\n",
    "\n",
    "    def __len__(self):\n",
    "        return len(self.labels)\n",
    "\n",
    "    def __getitem__(self, idx) -> XyTensorsT:\n",
    "        return self.features[idx], self.labels[idx]"
   ],
   "metadata": {
    "collapsed": false
   }
  },
  {
   "cell_type": "code",
   "execution_count": 773,
   "outputs": [
    {
     "data": {
      "text/plain": "   carat      cut color clarity  depth  table  price     x     y     z\n0   0.23    Ideal     E     SI2   61.5   55.0    326  3.95  3.98  2.43\n1   0.21  Premium     E     SI1   59.8   61.0    326  3.89  3.84  2.31\n2   0.23     Good     E     VS1   56.9   65.0    327  4.05  4.07  2.31\n3   0.29  Premium     I     VS2   62.4   58.0    334  4.20  4.23  2.63\n4   0.31     Good     J     SI2   63.3   58.0    335  4.34  4.35  2.75",
      "text/html": "<div>\n<style scoped>\n    .dataframe tbody tr th:only-of-type {\n        vertical-align: middle;\n    }\n\n    .dataframe tbody tr th {\n        vertical-align: top;\n    }\n\n    .dataframe thead th {\n        text-align: right;\n    }\n</style>\n<table border=\"1\" class=\"dataframe\">\n  <thead>\n    <tr style=\"text-align: right;\">\n      <th></th>\n      <th>carat</th>\n      <th>cut</th>\n      <th>color</th>\n      <th>clarity</th>\n      <th>depth</th>\n      <th>table</th>\n      <th>price</th>\n      <th>x</th>\n      <th>y</th>\n      <th>z</th>\n    </tr>\n  </thead>\n  <tbody>\n    <tr>\n      <th>0</th>\n      <td>0.23</td>\n      <td>Ideal</td>\n      <td>E</td>\n      <td>SI2</td>\n      <td>61.5</td>\n      <td>55.0</td>\n      <td>326</td>\n      <td>3.95</td>\n      <td>3.98</td>\n      <td>2.43</td>\n    </tr>\n    <tr>\n      <th>1</th>\n      <td>0.21</td>\n      <td>Premium</td>\n      <td>E</td>\n      <td>SI1</td>\n      <td>59.8</td>\n      <td>61.0</td>\n      <td>326</td>\n      <td>3.89</td>\n      <td>3.84</td>\n      <td>2.31</td>\n    </tr>\n    <tr>\n      <th>2</th>\n      <td>0.23</td>\n      <td>Good</td>\n      <td>E</td>\n      <td>VS1</td>\n      <td>56.9</td>\n      <td>65.0</td>\n      <td>327</td>\n      <td>4.05</td>\n      <td>4.07</td>\n      <td>2.31</td>\n    </tr>\n    <tr>\n      <th>3</th>\n      <td>0.29</td>\n      <td>Premium</td>\n      <td>I</td>\n      <td>VS2</td>\n      <td>62.4</td>\n      <td>58.0</td>\n      <td>334</td>\n      <td>4.20</td>\n      <td>4.23</td>\n      <td>2.63</td>\n    </tr>\n    <tr>\n      <th>4</th>\n      <td>0.31</td>\n      <td>Good</td>\n      <td>J</td>\n      <td>SI2</td>\n      <td>63.3</td>\n      <td>58.0</td>\n      <td>335</td>\n      <td>4.34</td>\n      <td>4.35</td>\n      <td>2.75</td>\n    </tr>\n  </tbody>\n</table>\n</div>"
     },
     "execution_count": 773,
     "metadata": {},
     "output_type": "execute_result"
    }
   ],
   "source": [
    "diamonds_data = sns.load_dataset(\"diamonds\", data_home=\"data/\")\n",
    "diamonds_data.head()"
   ],
   "metadata": {
    "collapsed": false
   }
  },
  {
   "cell_type": "code",
   "execution_count": 774,
   "outputs": [
    {
     "data": {
      "text/plain": "(torch.Size([53940, 6]), torch.Size([53940, 1]))"
     },
     "execution_count": 774,
     "metadata": {},
     "output_type": "execute_result"
    }
   ],
   "source": [
    "dataset = DiamondsDataset(diamonds_data)\n",
    "dataset.features.size(), dataset.labels.size()"
   ],
   "metadata": {
    "collapsed": false
   }
  },
  {
   "cell_type": "markdown",
   "source": [
    "4.2.2 Разбейте датасет на обучающий и тестовый датасет при помощи `torch.utils.data.random_split`."
   ],
   "metadata": {
    "collapsed": false
   }
  },
  {
   "cell_type": "code",
   "execution_count": 775,
   "outputs": [],
   "source": [
    "train_dataset: Subset\n",
    "test_dataset: Subset\n",
    "\n",
    "train_size = round(0.8 * len(dataset))\n",
    "train_dataset, test_dataset = random_split(dataset, lengths=(train_size, len(dataset) - train_size))"
   ],
   "metadata": {
    "collapsed": false
   }
  },
  {
   "cell_type": "markdown",
   "source": [
    "4.2.3 Обучите модель для предсказания цен при помощи мини-пакетного градиентного спуска (`batch_size = 256`)."
   ],
   "metadata": {
    "collapsed": false
   }
  },
  {
   "cell_type": "code",
   "execution_count": 776,
   "outputs": [],
   "source": [
    "net = nn.Sequential(\n",
    "    nn.Linear(dataset.features.size(1), 32),\n",
    "    nn.Dropout(0.25),\n",
    "    nn.ReLU(),\n",
    "    nn.Linear(32, 96),\n",
    "    nn.Dropout(0.5),\n",
    "    nn.ReLU(),\n",
    "    nn.Linear(96, 32),\n",
    "    nn.Dropout(0.25),\n",
    "    nn.ReLU(),\n",
    "    nn.Linear(32, dataset.labels.size(1)),\n",
    "    nn.ReLU(),\n",
    ")\n",
    "criterion = nn.MSELoss()\n",
    "optimizer = optim.Adam(net.parameters(), lr=0.001)"
   ],
   "metadata": {
    "collapsed": false
   }
  },
  {
   "cell_type": "code",
   "execution_count": 777,
   "outputs": [
    {
     "name": "stdout",
     "output_type": "stream",
     "text": [
      "Epoch [   0/50], step [  0/169]      loss = 34302164.0000, R2 = -1.0451\n",
      "Epoch [   0/50], step [ 40/169]      loss = 23906998.0000, R2 = -0.8552\n",
      "Epoch [   0/50], step [ 80/169]      loss = 18768398.0000, R2 = -0.2886\n",
      "Epoch [   0/50], step [120/169]      loss = 18868960.0000, R2 = -0.0531\n",
      "Epoch [   0/50], step [160/169]      loss = 15403959.0000, R2 = -0.0055\n",
      "Epoch [  10/50], step [  0/169]      loss = 3371349.7500, R2 = 0.7990\n",
      "Epoch [  10/50], step [ 40/169]      loss = 2635488.2500, R2 = 0.7955\n",
      "Epoch [  10/50], step [ 80/169]      loss = 2107428.2500, R2 = 0.8553\n",
      "Epoch [  10/50], step [120/169]      loss = 11200106.0000, R2 = 0.3749\n",
      "Epoch [  10/50], step [160/169]      loss = 3159187.5000, R2 = 0.7938\n",
      "Epoch [  20/50], step [  0/169]      loss = 3234383.5000, R2 = 0.8072\n",
      "Epoch [  20/50], step [ 40/169]      loss = 2291108.7500, R2 = 0.8222\n",
      "Epoch [  20/50], step [ 80/169]      loss = 2619618.5000, R2 = 0.8201\n",
      "Epoch [  20/50], step [120/169]      loss = 6233256.5000, R2 = 0.6521\n",
      "Epoch [  20/50], step [160/169]      loss = 2771791.0000, R2 = 0.8191\n",
      "Epoch [  30/50], step [  0/169]      loss = 2829998.0000, R2 = 0.8313\n",
      "Epoch [  30/50], step [ 40/169]      loss = 2671898.2500, R2 = 0.7927\n",
      "Epoch [  30/50], step [ 80/169]      loss = 3797922.5000, R2 = 0.7392\n",
      "Epoch [  30/50], step [120/169]      loss = 7042574.0000, R2 = 0.6069\n",
      "Epoch [  30/50], step [160/169]      loss = 3009761.0000, R2 = 0.8035\n",
      "Epoch [  40/50], step [  0/169]      loss = 2711104.0000, R2 = 0.8384\n",
      "Epoch [  40/50], step [ 40/169]      loss = 2836950.0000, R2 = 0.7799\n",
      "Epoch [  40/50], step [ 80/169]      loss = 3494653.2500, R2 = 0.7601\n",
      "Epoch [  40/50], step [120/169]      loss = 4675203.5000, R2 = 0.7391\n",
      "Epoch [  40/50], step [160/169]      loss = 2912057.2500, R2 = 0.8099\n",
      "Epoch [  50/50], step [  0/169]      loss = 3362237.7500, R2 = 0.7995\n",
      "Epoch [  50/50], step [ 40/169]      loss = 2770399.7500, R2 = 0.7850\n",
      "Epoch [  50/50], step [ 80/169]      loss = 1922697.5000, R2 = 0.8680\n",
      "Epoch [  50/50], step [120/169]      loss = 4100125.5000, R2 = 0.7712\n",
      "Epoch [  50/50], step [160/169]      loss = 2268397.5000, R2 = 0.8519\n"
     ]
    }
   ],
   "source": [
    "net.train()  # не отключает Dropout'ы\n",
    "train_loader = DataLoader(train_dataset, batch_size=256)\n",
    "\n",
    "steps = len(train_loader)\n",
    "epochs = 50\n",
    "losses = torch.empty(epochs + 1)\n",
    "for epoch in range(epochs + 1):\n",
    "    total_loss = 0\n",
    "    for i, (x_, y_) in enumerate(train_loader):\n",
    "        optimizer.zero_grad()\n",
    "        y_pred = net(x_)\n",
    "        loss = criterion(y_pred, y_)\n",
    "        loss.backward()\n",
    "        optimizer.step()\n",
    "\n",
    "        total_loss += loss\n",
    "        if epoch % 10 == 0 and i % 40 == 0:\n",
    "            print(f\"Epoch [{epoch:4}/{epochs}], step [{i:3}/{steps}]\"\n",
    "                  f\"{' ' * 6}loss = {loss:.4f}, R2 = {metrics.r2_score(y_, y_pred.detach().numpy()):.4f}\")\n",
    "\n",
    "    losses[epoch] = total_loss / steps"
   ],
   "metadata": {
    "collapsed": false
   }
  },
  {
   "cell_type": "markdown",
   "source": [
    "4.2.4 Выведите график функции потерь в зависимости от номера эпохи (значение потерь для эпохи рассчитывайте как среднее значение ошибок на каждом батче). Проверьте качество модели на тестовой выборке."
   ],
   "metadata": {
    "collapsed": false
   }
  },
  {
   "cell_type": "code",
   "execution_count": 778,
   "outputs": [
    {
     "data": {
      "text/plain": "<Figure size 800x400 with 1 Axes>",
      "image/png": "[encoded data removed]"
     },
     "metadata": {},
     "output_type": "display_data"
    }
   ],
   "source": [
    "plt.plot(torch.arange(losses.size(0)), losses.detach().numpy());"
   ],
   "metadata": {
    "collapsed": false
   }
  },
  {
   "cell_type": "code",
   "execution_count": 779,
   "outputs": [
    {
     "name": "stdout",
     "output_type": "stream",
     "text": [
      "R2 (train): 0.8587960686494027\n",
      "R2 (test): 0.8594313097769812\n"
     ]
    }
   ],
   "source": [
    "net.eval()  # отключает Dropout'ы\n",
    "\n",
    "(X_train, y_train), (X_test, y_test) = train_dataset[:], test_dataset[:]\n",
    "print(f\"R2 (train): {metrics.r2_score(y_train, net(X_train).detach().numpy())}\")\n",
    "print(f\"R2 (test): {metrics.r2_score(y_test, net(X_test).detach().numpy())}\")"
   ],
   "metadata": {
    "collapsed": false
   }
  },
  {
   "cell_type": "markdown",
   "metadata": {
    "id": "qE81cgQdGM7I"
   },
   "source": [
    "4.3 Модифицируйте метод `__init__` датасета из 4.2 таким образом, чтобы он мог принимать параметр `transform: callable`. Реализуйте класс `DropColsTransform` для удаления нечисловых данных из массива. Реализуйте класс `ToTensorTransorm` для трансформации массива в тензор."
   ]
  },
  {
   "cell_type": "code",
   "execution_count": 780,
   "metadata": {
    "id": "J02LNj_F8qxK"
   },
   "outputs": [],
   "source": [
    "XyAnyT = tuple[t.Any, t.Any]\n",
    "\n",
    "\n",
    "class DiamondsDataset(Dataset):\n",
    "    features: torch.Tensor\n",
    "    labels: torch.Tensor\n",
    "\n",
    "    def __init__(self, data: pd.DataFrame, transform: t.Callable[[XyAnyT], XyAnyT] | None = None):\n",
    "        self.features = data[data.columns.drop(\"price\")]\n",
    "        self.labels = data[[\"price\"]]\n",
    "        self.transform = transform\n",
    "\n",
    "    def __len__(self):\n",
    "        return len(self.labels)\n",
    "\n",
    "    def __getitem__(self, idx) -> XyAnyT:\n",
    "        sample = self.features[idx], self.labels[idx]\n",
    "        if self.transform:\n",
    "            return self.transform(sample)\n",
    "        return sample"
   ]
  },
  {
   "cell_type": "code",
   "execution_count": 781,
   "metadata": {
    "id": "tJii-22pHIlU"
   },
   "outputs": [],
   "source": [
    "XyDataFramesT = tuple[pd.DataFrame, pd.DataFrame]\n",
    "\n",
    "\n",
    "class DropColsTransform:\n",
    "\n",
    "    def __init__(self, drop: list[int]):\n",
    "        self.drop = drop\n",
    "\n",
    "    def __call__(self, sample: XyDataFramesT) -> XyDataFramesT:\n",
    "        features, labels = sample\n",
    "        return features.drop(columns=features.columns[self.drop]), labels"
   ]
  },
  {
   "cell_type": "code",
   "execution_count": 782,
   "metadata": {
    "id": "dZZ-OKrVHnY5"
   },
   "outputs": [],
   "source": [
    "class ToTensorTransform:\n",
    "\n",
    "    def __call__(self, sample: XyDataFramesT) -> XyTensorsT:\n",
    "        features, labels = sample\n",
    "        features = torch.from_numpy(features.to_numpy(dtype=np.float32))\n",
    "        labels = torch.from_numpy(labels.to_numpy(dtype=np.float32))\n",
    "        return features, labels"
   ]
  },
  {
   "cell_type": "code",
   "execution_count": 783,
   "metadata": {
    "id": "GssBjT9JHt5g"
   },
   "outputs": [],
   "source": [
    "from torchvision import transforms\n",
    "\n",
    "transform = transforms.Compose([\n",
    "    DropColsTransform(drop=[1, 2, 3]),\n",
    "    ToTensorTransform(),\n",
    "])\n",
    "dataset = DiamondsDataset(diamonds_data, transform)"
   ]
  },
  {
   "cell_type": "code",
   "execution_count": 784,
   "outputs": [
    {
     "data": {
      "text/plain": "(torch.Size([53940, 6]), torch.Size([53940, 1]))"
     },
     "execution_count": 784,
     "metadata": {},
     "output_type": "execute_result"
    }
   ],
   "source": [
    "X, y = dataset[:]\n",
    "X.size(), y.size()"
   ],
   "metadata": {
    "collapsed": false
   }
  }
 ],
 "metadata": {
  "colab": {
   "collapsed_sections": [],
   "name": "blank_03_autograd_optim_nn_datasets.ipynb",
   "provenance": []
  },
  "kernelspec": {
   "display_name": "Python 3 (ipykernel)",
   "language": "python",
   "name": "python3"
  },
  "language_info": {
   "codemirror_mode": {
    "name": "ipython",
    "version": 3
   },
   "file_extension": ".py",
   "mimetype": "text/x-python",
   "name": "python",
   "nbconvert_exporter": "python",
   "pygments_lexer": "ipython3",
   "version": "3.9.7"
  }
 },
 "nbformat": 4,
 "nbformat_minor": 1
}
