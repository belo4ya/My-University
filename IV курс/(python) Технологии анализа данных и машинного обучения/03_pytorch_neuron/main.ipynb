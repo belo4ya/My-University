{
 "cells": [
  {
   "cell_type": "markdown",
   "metadata": {},
   "source": [
    "# 3. Создание нейронной сети при помощи пакета `torch`. Dataset и Dataloader.\n",
    "\n",
    "__Автор__: Никита Владимирович Блохин (NVBlokhin@fa.ru)\n",
    "\n",
    "Финансовый университет, 2020 г. "
   ]
  },
  {
   "cell_type": "code",
   "execution_count": 349,
   "metadata": {
    "id": "6ktSXdQVb9Li"
   },
   "outputs": [],
   "source": [
    "import matplotlib.pyplot as plt\n",
    "import numpy as np\n",
    "import seaborn as sns\n",
    "import torch\n",
    "import torch.nn as nn\n",
    "import torch.optim as optim\n",
    "from torch.utils.data import Dataset\n",
    "from torch.utils.data import DataLoader"
   ]
  },
  {
   "cell_type": "code",
   "execution_count": 44,
   "outputs": [],
   "source": [
    "# @formatter:off\n",
    "%matplotlib inline\n",
    "# @formatter:on"
   ],
   "metadata": {
    "collapsed": false
   }
  },
  {
   "cell_type": "code",
   "execution_count": 45,
   "outputs": [],
   "source": [
    "plt.style.use('science')\n",
    "sns.set_theme()\n",
    "\n",
    "plt.rcParams['figure.figsize'] = (8, 4)"
   ],
   "metadata": {
    "collapsed": false
   }
  },
  {
   "cell_type": "markdown",
   "metadata": {
    "id": "4L7Inb1JbiDy"
   },
   "source": [
    "## 1. Автоматическое дифференцирование в `torch`"
   ]
  },
  {
   "cell_type": "markdown",
   "source": [
    "1.1 Воспользовавшись классами `Neuron` и `MSELoss` из задачи 2.4.1 и автоматическим дифференцированием, которое предоставляет `torch`, решить задачу регрессии. Для оптимизации использовать стохастический градиетный спуск."
   ],
   "metadata": {
    "collapsed": false
   }
  },
  {
   "cell_type": "code",
   "execution_count": 46,
   "outputs": [],
   "source": [
    "from sklearn.datasets import make_regression\n",
    "\n",
    "X, y, coef = make_regression(n_features=4, n_informative=4, coef=True, bias=0.5)\n",
    "X = torch.from_numpy(X).to(dtype=torch.float32)\n",
    "y = torch.from_numpy(y).to(dtype=torch.float32)"
   ],
   "metadata": {
    "collapsed": false
   }
  },
  {
   "cell_type": "code",
   "execution_count": 47,
   "outputs": [],
   "source": [
    "def pretty_train_log(epoch: int, **kwargs) -> None:\n",
    "    params = '\\n\\t'.join([f'{k} = {v}' for k, v in kwargs.items()])\n",
    "    print(f'epoch {epoch:03} |' + '-' * 50 + f'\\n\\t{params}\\n')"
   ],
   "metadata": {
    "collapsed": false
   }
  },
  {
   "cell_type": "code",
   "execution_count": 48,
   "outputs": [],
   "source": [
    "class Neuron:\n",
    "\n",
    "    def __init__(self, in_features: int):\n",
    "        self.in_features = in_features\n",
    "\n",
    "        self.weights = torch.randn(self.in_features, requires_grad=True)\n",
    "        self.bias = torch.randn(1, requires_grad=True)\n",
    "\n",
    "    def forward(self, inputs: torch.Tensor) -> torch.Tensor:\n",
    "        return torch.sum(self.weights * inputs) + self.bias\n",
    "\n",
    "\n",
    "class SELoss:\n",
    "\n",
    "    def forward(self, y_pred: torch.Tensor, y_true: torch.Tensor) -> torch.Tensor:\n",
    "        return (y_pred - y_true) ** 2\n"
   ],
   "metadata": {
    "collapsed": false
   }
  },
  {
   "cell_type": "code",
   "execution_count": 49,
   "outputs": [
    {
     "data": {
      "text/plain": "(tensor([48.4987, 76.4411, 82.8207,  5.4316], requires_grad=True),\n array([48.49872363, 76.44109167, 82.82072306,  5.43161203]))"
     },
     "execution_count": 49,
     "metadata": {},
     "output_type": "execute_result"
    }
   ],
   "source": [
    "torch.manual_seed(0)\n",
    "\n",
    "neuron = Neuron(X.size(1))\n",
    "se = SELoss()\n",
    "\n",
    "lr = 0.1\n",
    "epochs = 10\n",
    "for epoch in range(epochs):\n",
    "    for i, (x, y_true) in enumerate(zip(X, y)):\n",
    "        y_pred = neuron.forward(x)\n",
    "\n",
    "        loss = se.forward(y_pred, y_true)\n",
    "        loss.backward()\n",
    "\n",
    "        with torch.no_grad():\n",
    "            neuron.weights -= lr * neuron.weights.grad\n",
    "            neuron.bias -= lr * neuron.bias.grad\n",
    "\n",
    "        neuron.weights.grad.zero_()\n",
    "        neuron.bias.grad.zero_()\n",
    "\n",
    "neuron.weights, coef"
   ],
   "metadata": {
    "collapsed": false
   }
  },
  {
   "cell_type": "markdown",
   "source": [
    "1.2 Воспользовавшись классами `Linear` и `MSELoss` из задачи 2.1.4 и 2.3.1, `ReLU` из 2.2.1 и автоматическим дифференцированием, которое предоставляет `torch`, решить задачу регрессии. Для оптимизации использовать пакетный градиентный спуск. Вывести график функции потерь в зависимости от номера эпохи. Вывести на одном графике исходные данные и предсказанные значения."
   ],
   "metadata": {
    "collapsed": false
   }
  },
  {
   "cell_type": "code",
   "execution_count": 126,
   "outputs": [],
   "source": [
    "X = torch.linspace(0, 1, 100).view(-1, 1)\n",
    "y = torch.sin(2 * np.pi * X) + 0.1 * torch.rand(X.size())"
   ],
   "metadata": {
    "collapsed": false
   }
  },
  {
   "cell_type": "code",
   "execution_count": 127,
   "outputs": [],
   "source": [
    "class Linear:\n",
    "\n",
    "    def __init__(self, in_features: int, out_features: int):\n",
    "        self.in_features = in_features\n",
    "        self.out_features = out_features\n",
    "\n",
    "        self.weights = torch.randn(out_features, in_features, requires_grad=True)\n",
    "        self.biases = torch.randn(out_features, requires_grad=True)\n",
    "\n",
    "    def forward(self, inputs: torch.Tensor) -> torch.Tensor:\n",
    "        return torch.matmul(inputs, self.weights.T) + self.biases\n",
    "\n",
    "\n",
    "class MSELoss:\n",
    "\n",
    "    def forward(self, y_pred: torch.Tensor, y_true: torch.Tensor) -> torch.Tensor:\n",
    "        return torch.mean((y_pred - y_true) ** 2)\n",
    "\n",
    "\n",
    "class ReLU:\n",
    "\n",
    "    def forward(self, inputs: torch.Tensor) -> torch.Tensor:\n",
    "        return torch.maximum(inputs, torch.tensor(0))"
   ],
   "metadata": {
    "collapsed": false
   }
  },
  {
   "cell_type": "code",
   "execution_count": 135,
   "outputs": [],
   "source": [
    "torch.manual_seed(0)\n",
    "\n",
    "fc1 = Linear(X.size(1), 100)\n",
    "relu = ReLU()\n",
    "fc2 = Linear(100, y.size(1))\n",
    "mse = MSELoss()\n",
    "\n",
    "lr = 0.01\n",
    "epochs = 1000\n",
    "\n",
    "losses = torch.empty(epochs)\n",
    "for epoch in range(epochs):\n",
    "    y_pred = fc2.forward(relu.forward(fc1.forward(X)))\n",
    "\n",
    "    loss = mse.forward(y_pred, y)\n",
    "    loss.backward()\n",
    "    losses[epoch] = loss\n",
    "\n",
    "    with torch.no_grad():\n",
    "        fc1.weights -= lr * fc1.weights.grad\n",
    "        fc1.biases -= lr * fc1.biases.grad\n",
    "        fc2.weights -= lr * fc2.weights.grad\n",
    "        fc2.biases -= lr * fc2.biases.grad\n",
    "\n",
    "    fc1.weights.grad.zero_()\n",
    "    fc1.biases.grad.zero_()\n",
    "    fc2.weights.grad.zero_()\n",
    "    fc2.biases.grad.zero_()\n",
    "\n",
    "predicts = fc2.forward(relu.forward(fc1.forward(X)))"
   ],
   "metadata": {
    "collapsed": false
   }
  },
  {
   "cell_type": "code",
   "execution_count": 136,
   "outputs": [
    {
     "data": {
      "text/plain": "<Figure size 800x400 with 1 Axes>",
      "image/png": "[encoded data removed]"
     },
     "metadata": {},
     "output_type": "display_data"
    }
   ],
   "source": [
    "plt.plot(torch.arange(losses.size(0)), losses.detach().numpy());"
   ],
   "metadata": {
    "collapsed": false
   }
  },
  {
   "cell_type": "code",
   "execution_count": 137,
   "outputs": [
    {
     "data": {
      "text/plain": "<Figure size 800x400 with 1 Axes>",
      "image/png": "[encoded data removed]"
     },
     "metadata": {},
     "output_type": "display_data"
    }
   ],
   "source": [
    "_, ax = plt.subplots(1)\n",
    "\n",
    "ax.scatter(X, y, s=10)\n",
    "ax.plot(X, predicts.detach(), c='r', lw=2);"
   ],
   "metadata": {
    "collapsed": false
   }
  },
  {
   "cell_type": "markdown",
   "metadata": {
    "id": "nifm0FVB2y5N"
   },
   "source": [
    "## 2. Алгоритмы оптимизации в `torch.optim`"
   ]
  },
  {
   "cell_type": "markdown",
   "metadata": {
    "id": "0oBFfJpmcwfn"
   },
   "source": [
    "2.1 Решить задачу 1.1, воспользовавшись оптимизатором `optim.SDG` для применения стохастического градиентого спуска"
   ]
  },
  {
   "cell_type": "code",
   "execution_count": 140,
   "outputs": [],
   "source": [
    "X, y, coef = make_regression(n_features=4, n_informative=4, coef=True, bias=0.5)\n",
    "X = torch.from_numpy(X).to(dtype=torch.float32)\n",
    "y = torch.from_numpy(y).to(dtype=torch.float32)"
   ],
   "metadata": {
    "collapsed": false
   }
  },
  {
   "cell_type": "code",
   "execution_count": 141,
   "outputs": [
    {
     "data": {
      "text/plain": "(tensor([55.5688, 54.0985, 21.7544, 31.9758], requires_grad=True),\n array([55.5688475 , 54.09847046, 21.75440122, 31.97576001]))"
     },
     "execution_count": 141,
     "metadata": {},
     "output_type": "execute_result"
    }
   ],
   "source": [
    "torch.manual_seed(0)\n",
    "\n",
    "neuron = Neuron(X.size(1))\n",
    "se = SELoss()\n",
    "\n",
    "lr = 0.1\n",
    "optimizer = optim.SGD([neuron.weights, neuron.bias], lr=lr)\n",
    "\n",
    "epochs = 10\n",
    "for epoch in range(epochs):\n",
    "    for i, (x, y_true) in enumerate(zip(X, y)):\n",
    "        optimizer.zero_grad()\n",
    "\n",
    "        y_pred = neuron.forward(x)\n",
    "        loss = se.forward(y_pred, y_true)\n",
    "        loss.backward()\n",
    "\n",
    "        optimizer.step()\n",
    "\n",
    "neuron.weights, coef"
   ],
   "metadata": {
    "collapsed": false
   }
  },
  {
   "cell_type": "markdown",
   "metadata": {
    "id": "1LFAacdy46bX"
   },
   "source": [
    "2.2 Решить задачу 1.2, воспользовавшись оптимизатором `optim.Adam` для применения пакетного градиентого спуска. Вывести график функции потерь в зависимости от номера эпохи. Вывести на одном графике исходные данные и предсказанные значения."
   ]
  },
  {
   "cell_type": "code",
   "execution_count": 143,
   "outputs": [],
   "source": [
    "X = torch.linspace(0, 1, 100).view(-1, 1)\n",
    "y = torch.sin(2 * np.pi * X) + 0.1 * torch.rand(X.size())"
   ],
   "metadata": {
    "collapsed": false
   }
  },
  {
   "cell_type": "code",
   "execution_count": 145,
   "outputs": [],
   "source": [
    "torch.manual_seed(0)\n",
    "\n",
    "fc1 = Linear(X.size(1), 100)\n",
    "relu = ReLU()\n",
    "fc2 = Linear(100, y.size(1))\n",
    "mse = MSELoss()\n",
    "\n",
    "lr = 0.01\n",
    "optimizer = optim.Adam([fc1.weights, fc1.biases, fc2.weights, fc2.biases], lr=lr)\n",
    "\n",
    "epochs = 1000\n",
    "losses = torch.empty(epochs)\n",
    "for epoch in range(epochs):\n",
    "    optimizer.zero_grad()\n",
    "\n",
    "    y_pred = fc2.forward(relu.forward(fc1.forward(X)))\n",
    "    loss = mse.forward(y_pred, y)\n",
    "    loss.backward()\n",
    "    losses[epoch] = loss\n",
    "\n",
    "    optimizer.step()\n",
    "\n",
    "predicts = fc2.forward(relu.forward(fc1.forward(X)))"
   ],
   "metadata": {
    "collapsed": false
   }
  },
  {
   "cell_type": "code",
   "execution_count": 146,
   "outputs": [
    {
     "data": {
      "text/plain": "<Figure size 800x400 with 1 Axes>",
      "image/png": "[encoded data removed]"
     },
     "metadata": {},
     "output_type": "display_data"
    }
   ],
   "source": [
    "plt.plot(torch.arange(losses.size(0)), losses.detach().numpy());"
   ],
   "metadata": {
    "collapsed": false
   }
  },
  {
   "cell_type": "code",
   "execution_count": 147,
   "outputs": [
    {
     "data": {
      "text/plain": "<Figure size 800x400 with 1 Axes>",
      "image/png": "[encoded data removed]"
     },
     "metadata": {},
     "output_type": "display_data"
    }
   ],
   "source": [
    "_, ax = plt.subplots(1)\n",
    "\n",
    "ax.scatter(X, y, s=10)\n",
    "ax.plot(X, predicts.detach(), c='r', lw=2);"
   ],
   "metadata": {
    "collapsed": false
   }
  },
  {
   "cell_type": "markdown",
   "metadata": {
    "id": "n-qUqdALiN-G"
   },
   "source": [
    "## 3. Построение сетей при помощи `torch.nn`"
   ]
  },
  {
   "cell_type": "markdown",
   "metadata": {
    "id": "M0ICJtarif3_"
   },
   "source": [
    "3.1 Решить задачу регрессии, соблюдая следующие условия:\n",
    "\n",
    "1. Оформить нейронную сеть в виде класса - наследника `nn.Module`\n",
    "2. При создании сети использовать готовые блоки из `torch.nn`: слои, функции активации, функции потерь и т.д.\n",
    "3. Для оптимизации использовать любой алгоритм оптимизации из `torch.optim` "
   ]
  },
  {
   "cell_type": "code",
   "execution_count": 161,
   "metadata": {
    "id": "L1bvXHhO7aWs"
   },
   "outputs": [],
   "source": [
    "X = torch.linspace(0, 1, 100).view(-1, 1)\n",
    "y = torch.sin(2 * np.pi * X) + 0.1 * torch.rand(X.size())"
   ]
  },
  {
   "cell_type": "code",
   "execution_count": 172,
   "outputs": [],
   "source": [
    "class Net(nn.Module):\n",
    "\n",
    "    def __init__(self, in_features: int, out_features: int):\n",
    "        super(Net, self).__init__()\n",
    "        self.in_features = in_features\n",
    "        self.out_features = out_features\n",
    "\n",
    "        self.fc1 = nn.Linear(self.in_features, 100)\n",
    "        self.relu = nn.ReLU()\n",
    "        self.fc2 = nn.Linear(100, self.out_features)\n",
    "\n",
    "    def forward(self, inputs: torch.Tensor) -> torch.Tensor:\n",
    "        return self.fc2(self.relu(self.fc1(inputs)))\n"
   ],
   "metadata": {
    "collapsed": false
   }
  },
  {
   "cell_type": "code",
   "execution_count": 182,
   "outputs": [],
   "source": [
    "torch.manual_seed(0)\n",
    "\n",
    "net = Net(X.size(1), y.size(1))\n",
    "criterion = nn.MSELoss()\n",
    "optimizer = optim.Adam(net.parameters(), lr=0.01)"
   ],
   "metadata": {
    "collapsed": false
   }
  },
  {
   "cell_type": "code",
   "execution_count": 183,
   "outputs": [],
   "source": [
    "for epoch in range(1000):\n",
    "    optimizer.zero_grad()\n",
    "\n",
    "    y_pred = net(X)\n",
    "    loss = criterion(y_pred, y)\n",
    "    loss.backward()\n",
    "\n",
    "    optimizer.step()\n",
    "\n",
    "predicts = net(X)"
   ],
   "metadata": {
    "collapsed": false
   }
  },
  {
   "cell_type": "code",
   "execution_count": 184,
   "outputs": [
    {
     "data": {
      "text/plain": "<Figure size 800x400 with 1 Axes>",
      "image/png": "[encoded data removed]"
     },
     "metadata": {},
     "output_type": "display_data"
    }
   ],
   "source": [
    "_, ax = plt.subplots(1)\n",
    "\n",
    "ax.scatter(X, y, s=10)\n",
    "ax.plot(X, predicts.detach(), c='r', lw=2);"
   ],
   "metadata": {
    "collapsed": false
   }
  },
  {
   "cell_type": "markdown",
   "metadata": {
    "id": "UPUW6fm5jbQd"
   },
   "source": [
    "3.2 Решить задачу регрессии, соблюдая следующие условия:\n",
    "\n",
    "1. Оформить нейронную сеть в виде объекта `nn.Sequential`\n",
    "2. При создании сети использовать готовые блоки из `torch.nn`: слои, функции активации, функции потерь и т.д.\n",
    "3. Для оптимизации использовать любой алгоритм оптимизации из `torch.optim` "
   ]
  },
  {
   "cell_type": "code",
   "execution_count": 198,
   "metadata": {
    "id": "BBwbAEd57a2r"
   },
   "outputs": [],
   "source": [
    "X = torch.linspace(0, 1, 100).view(-1, 1)\n",
    "y = torch.sin(2 * np.pi * X) + 0.1 * torch.rand(X.size())"
   ]
  },
  {
   "cell_type": "code",
   "execution_count": 216,
   "outputs": [],
   "source": [
    "torch.manual_seed(0)\n",
    "\n",
    "in_features = X.size(1)\n",
    "out_features = y.size(1)\n",
    "\n",
    "net = nn.Sequential(\n",
    "    nn.Linear(in_features, 30),\n",
    "    nn.ReLU(),\n",
    "    nn.Linear(30, 100),\n",
    "    nn.ReLU(),\n",
    "    nn.Linear(100, out_features),\n",
    ")\n",
    "criterion = nn.L1Loss()\n",
    "optimizer = optim.SGD(net.parameters(), lr=0.01, momentum=0.9)"
   ],
   "metadata": {
    "collapsed": false
   }
  },
  {
   "cell_type": "code",
   "execution_count": 217,
   "outputs": [],
   "source": [
    "for epoch in range(1000):\n",
    "    optimizer.zero_grad()\n",
    "\n",
    "    y_pred = net(X)\n",
    "    loss = criterion(y_pred, y)\n",
    "    loss.backward()\n",
    "\n",
    "    optimizer.step()\n",
    "\n",
    "predicts = net(X)"
   ],
   "metadata": {
    "collapsed": false
   }
  },
  {
   "cell_type": "code",
   "execution_count": 218,
   "outputs": [
    {
     "data": {
      "text/plain": "<Figure size 800x400 with 1 Axes>",
      "image/png": "[encoded data removed]"
     },
     "metadata": {},
     "output_type": "display_data"
    }
   ],
   "source": [
    "_, ax = plt.subplots(1)\n",
    "\n",
    "ax.scatter(X, y, s=10)\n",
    "ax.plot(X, predicts.detach(), c='r', lw=2);"
   ],
   "metadata": {
    "collapsed": false
   }
  },
  {
   "cell_type": "markdown",
   "metadata": {},
   "source": [
    "3.3 Решить задачу классификации. Датасет: Breast Cancer Wisconsin\n",
    "1. Оформить нейронную сеть в виде объекта `nn.Sequential`\n",
    "2. При создании сети использовать готовые блоки из `torch.nn`: слои, функции активации, функции потерь и т.д.\n",
    "3. Для оптимизации использовать любой алгоритм оптимизации из `torch.optim`"
   ]
  },
  {
   "cell_type": "code",
   "execution_count": 330,
   "outputs": [
    {
     "name": "stdout",
     "output_type": "stream",
     "text": [
      ".. _breast_cancer_dataset:\n",
      "\n",
      "Breast cancer wisconsin (diagnostic) dataset\n",
      "--------------------------------------------\n",
      "\n",
      "**Data Set Characteristics:**\n",
      "\n",
      "    :Number of Instances: 569\n",
      "\n",
      "    :Number of Attributes: 30 numeric, predictive attributes and the class\n",
      "\n",
      "    :Attribute Information:\n",
      "        - radius (mean of distances from center to points on the perimeter)\n",
      "        - texture (standard deviation of gray-scale values)\n",
      "        - perimeter\n",
      "        - area\n",
      "        - smoothness (local variation in radius lengths)\n",
      "        - compactness (perimeter^2 / area - 1.0)\n",
      "        - concavity (severity of concave portions of the contour)\n",
      "        - concave points (number of concave portions of the contour)\n",
      "        - symmetry\n",
      "        - fractal dimension (\"coastline approximation\" - 1)\n",
      "\n",
      "        The mean, standard error, and \"worst\" or largest (mean of the three\n",
      "        worst/largest values) of these features were computed for each image,\n",
      "        resulting in 30 features.  For instance, field 0 is Mean Radius, field\n",
      "        10 is Radius SE, field 20 is Worst Radius.\n",
      "\n",
      "        - class:\n",
      "                - WDBC-Malignant\n",
      "                - WDBC-Benign\n"
     ]
    }
   ],
   "source": [
    "from sklearn import datasets\n",
    "\n",
    "dataset = datasets.load_breast_cancer()\n",
    "\n",
    "X = torch.from_numpy(dataset.data).to(torch.float32)\n",
    "y = torch.from_numpy(dataset.target).to(torch.float32).view(-1, 1)\n",
    "\n",
    "print(dataset.DESCR.split(':Summary Statistics:')[0].strip())"
   ],
   "metadata": {
    "collapsed": false
   }
  },
  {
   "cell_type": "code",
   "execution_count": 331,
   "outputs": [],
   "source": [
    "def accuracy_score(y_true: torch.Tensor, y_pred: torch.Tensor) -> torch.Tensor:\n",
    "    return torch.sum(y_pred == y_true) / y_pred.size(0)"
   ],
   "metadata": {
    "collapsed": false
   }
  },
  {
   "cell_type": "code",
   "execution_count": 337,
   "outputs": [
    {
     "name": "stdout",
     "output_type": "stream",
     "text": [
      "Epoch [   0/1000]      loss = 10.10273, accuracy = 0.37258\n",
      "Epoch [ 200/1000]      loss = 0.17000, accuracy = 0.92970\n",
      "Epoch [ 400/1000]      loss = 0.12417, accuracy = 0.95079\n",
      "Epoch [ 600/1000]      loss = 0.09694, accuracy = 0.95782\n",
      "Epoch [ 800/1000]      loss = 0.08035, accuracy = 0.96134\n",
      "Epoch [1000/1000]      loss = 0.07004, accuracy = 0.97012\n"
     ]
    }
   ],
   "source": [
    "torch.manual_seed(0)\n",
    "\n",
    "net = nn.Sequential(\n",
    "    nn.Linear(X.size(1), 50),\n",
    "    nn.ReLU(),\n",
    "    nn.Linear(50, y.size(1)),\n",
    "    nn.Sigmoid(),\n",
    ")\n",
    "criterion = nn.BCELoss()\n",
    "optimizer = optim.Adam(net.parameters(), lr=0.005)\n",
    "\n",
    "epochs = 1000\n",
    "for epoch in range(epochs + 1):\n",
    "    optimizer.zero_grad()\n",
    "\n",
    "    y_pred = net(X)\n",
    "    loss = criterion(y_pred, y)\n",
    "    loss.backward()\n",
    "\n",
    "    optimizer.step()\n",
    "\n",
    "    if epoch % 200 == 0:\n",
    "        accuracy = accuracy_score(y, y_pred.round())\n",
    "        print(f\"Epoch [{epoch:4}/{epochs}]{' ' * 6}loss = {loss:.5f}, accuracy = {accuracy:.5f}\")"
   ],
   "metadata": {
    "collapsed": false
   }
  },
  {
   "cell_type": "markdown",
   "metadata": {
    "id": "jQj0oVeLj2A1"
   },
   "source": [
    "## 4. Datasets and dataloaders"
   ]
  },
  {
   "cell_type": "markdown",
   "metadata": {
    "id": "hoFPckkp8yhz"
   },
   "source": [
    "4.1 Создать датасет, поставляющий данные из задачи 1.2. \n",
    "\n",
    "Создать `DataLoader` на основе этого датасета и проверить работоспособность.\n",
    "\n",
    "Воспользовавшись результатами 3.1 (или 3.2) обучите модель, пользуясь мини-пакетным градиентным спуском с размером пакета (`batch_size`) = 10"
   ]
  },
  {
   "cell_type": "code",
   "execution_count": 437,
   "metadata": {
    "id": "tlcwQzCFRvFc"
   },
   "outputs": [],
   "source": [
    "class SinDataset(Dataset):\n",
    "\n",
    "    def __init__(self):\n",
    "        self.data = torch.linspace(0, 1, 100).view(-1, 1)\n",
    "        self.target = torch.sin(2 * np.pi * self.data) + 0.1 * torch.rand(self.data.size())\n",
    "\n",
    "    def __len__(self):\n",
    "        return len(self.target)\n",
    "\n",
    "    def __getitem__(self, idx) -> tuple[torch.Tensor, torch.Tensor]:\n",
    "        return self.data[idx], self.target[idx]"
   ]
  },
  {
   "cell_type": "code",
   "execution_count": 438,
   "outputs": [],
   "source": [
    "sin_dataset = SinDataset()\n",
    "sin_dataloader = DataLoader(sin_dataset, batch_size=10)\n",
    "\n",
    "X, y = sin_dataset.data, sin_dataset.target"
   ],
   "metadata": {
    "collapsed": false
   }
  },
  {
   "cell_type": "code",
   "execution_count": 439,
   "outputs": [],
   "source": [
    "net = nn.Sequential(\n",
    "    nn.Linear(X.size(1), 30),\n",
    "    nn.ReLU(),\n",
    "    nn.Linear(30, 100),\n",
    "    nn.ReLU(),\n",
    "    nn.Linear(100, y.size(1)),\n",
    ")\n",
    "criterion = nn.MSELoss()\n",
    "optimizer = optim.Adam(net.parameters(), lr=0.005)"
   ],
   "metadata": {
    "collapsed": false
   }
  },
  {
   "cell_type": "code",
   "execution_count": 440,
   "outputs": [
    {
     "name": "stdout",
     "output_type": "stream",
     "text": [
      "Epoch [   0/1000], step [ 0/10]      loss = 0.07953, batch_size = 10\n",
      "Epoch [   0/1000], step [ 5/10]      loss = 1.23564, batch_size = 10\n",
      "Epoch [ 100/1000], step [ 0/10]      loss = 0.03524, batch_size = 10\n",
      "Epoch [ 100/1000], step [ 5/10]      loss = 0.13353, batch_size = 10\n",
      "Epoch [ 200/1000], step [ 0/10]      loss = 0.00827, batch_size = 10\n",
      "Epoch [ 200/1000], step [ 5/10]      loss = 0.00335, batch_size = 10\n",
      "Epoch [ 300/1000], step [ 0/10]      loss = 0.02429, batch_size = 10\n",
      "Epoch [ 300/1000], step [ 5/10]      loss = 0.01533, batch_size = 10\n",
      "Epoch [ 400/1000], step [ 0/10]      loss = 0.02352, batch_size = 10\n",
      "Epoch [ 400/1000], step [ 5/10]      loss = 0.01359, batch_size = 10\n",
      "Epoch [ 500/1000], step [ 0/10]      loss = 0.01713, batch_size = 10\n",
      "Epoch [ 500/1000], step [ 5/10]      loss = 0.00919, batch_size = 10\n"
     ]
    }
   ],
   "source": [
    "steps = len(sin_dataloader)\n",
    "epoch = 500\n",
    "for epoch in range(epoch + 1):\n",
    "    for i, (x_, y_) in enumerate(sin_dataloader):\n",
    "        optimizer.zero_grad()\n",
    "\n",
    "        y_pred = net(x_)\n",
    "        loss = criterion(y_pred, y_)\n",
    "        loss.backward()\n",
    "\n",
    "        optimizer.step()\n",
    "\n",
    "        if epoch % 100 == 0 and i % 5 == 0:\n",
    "            print(f\"Epoch [{epoch:4}/{epochs}], step [{i:2}/{steps}]{' ' * 6}loss = {loss:.5f}, batch_size = {x_.size(0)}\")"
   ],
   "metadata": {
    "collapsed": false
   }
  },
  {
   "cell_type": "code",
   "execution_count": 441,
   "outputs": [
    {
     "data": {
      "text/plain": "<Figure size 800x400 with 1 Axes>",
      "image/png": "[encoded data removed]"
     },
     "metadata": {},
     "output_type": "display_data"
    }
   ],
   "source": [
    "predicts = net(X)\n",
    "\n",
    "_, ax = plt.subplots(1)\n",
    "ax.scatter(X, y, s=10)\n",
    "ax.plot(X, predicts.detach(), c='r', lw=2);"
   ],
   "metadata": {
    "collapsed": false
   }
  },
  {
   "cell_type": "markdown",
   "metadata": {
    "id": "bxz02a3k_VQL"
   },
   "source": [
    "4.2 Предсказание цен алмазов\n",
    "\n",
    "4.2.1 Создайте датасет на основе файла diamonds.csv. \n",
    "\n",
    "1. Удалите все нечисловые столбцы\n",
    "2. Целевой столбец (`y`) - `price`\n",
    "3. Преобразуйте данные в тензоры корректных размеров\n",
    "\n",
    "4.2.2 Разбейте датасет на обучающий и тестовый датасет при помощи `torch.utils.data.random_split`.\n",
    "\n",
    "4.2.3 Обучите модель для предсказания цен при помощи мини-пакетного градиентного спуска (`batch_size = 256`). \n",
    "\n",
    "4.2.4 Выведите график функции потерь в зависимости от номера эпохи (значение потерь для эпохи рассчитывайте как среднее значение ошибок на каждом батче). Проверьте качество модели на тестовой выборке. \n"
   ]
  },
  {
   "cell_type": "code",
   "execution_count": null,
   "metadata": {
    "id": "fEfTNJQI8emD"
   },
   "outputs": [],
   "source": [
    "class DiamondsDataset(Dataset):\n",
    "    def __init__(self, data):\n",
    "        pass\n",
    "\n",
    "    def __len__(self):\n",
    "        pass\n",
    "\n",
    "    def __getitem__(self, idx):\n",
    "        pass"
   ]
  },
  {
   "cell_type": "markdown",
   "metadata": {
    "id": "qE81cgQdGM7I"
   },
   "source": [
    "4.3 Модифицируйте метод `__init__` датасета из 4.2 таким образом, чтобы он мог принимать параметр `transform: callable`. Реализуйте класс `DropColsTransform` для удаления нечисловых данных из массива. Реализуйте класс `ToTensorTransorm` для трансформации массива в тензор."
   ]
  },
  {
   "cell_type": "code",
   "execution_count": null,
   "metadata": {
    "id": "J02LNj_F8qxK"
   },
   "outputs": [],
   "source": [
    "class DiamondsDataset(Dataset):\n",
    "    def __init__(self, data, transform):\n",
    "        # ....\n",
    "        self.transform = transform\n",
    "        # ....\n",
    "\n",
    "    def __len__(self):\n",
    "        pass\n",
    "\n",
    "    def __getitem__(self, idx):\n",
    "        # ...\n",
    "        sample = self.X[idx], self.y[idx]\n",
    "        if self.transform:\n",
    "            sample = self.transform(sample)\n",
    "        # ...."
   ]
  },
  {
   "cell_type": "code",
   "execution_count": null,
   "metadata": {
    "id": "tJii-22pHIlU"
   },
   "outputs": [],
   "source": [
    "class DropColsTransform:\n",
    "    def __init__(self, drop):\n",
    "        pass\n",
    "\n",
    "    def __call__(self, sample):\n",
    "        X, y = sample\n",
    "        # <удаление из X столбцов self.drop>\n",
    "        return X, y"
   ]
  },
  {
   "cell_type": "code",
   "execution_count": null,
   "metadata": {
    "id": "dZZ-OKrVHnY5"
   },
   "outputs": [],
   "source": [
    "class ToTensorTransform:\n",
    "    def __call__(self, sample):\n",
    "        X, y = sample\n",
    "        # <преобразование X и y в тензоры>\n",
    "        return X, y"
   ]
  },
  {
   "cell_type": "code",
   "execution_count": null,
   "metadata": {
    "id": "GssBjT9JHt5g"
   },
   "outputs": [],
   "source": [
    "from torchvision import transforms\n",
    "\n",
    "drop = DropColsTransform(drop=[1, 2, 3])\n",
    "to_tensor = ToTensorTransform()\n",
    "dataset = DiamondsDataset(data, transforms.compose([drop, to_tensor]))\n"
   ]
  }
 ],
 "metadata": {
  "colab": {
   "collapsed_sections": [],
   "name": "blank_03_autograd_optim_nn_datasets.ipynb",
   "provenance": []
  },
  "kernelspec": {
   "display_name": "Python 3 (ipykernel)",
   "language": "python",
   "name": "python3"
  },
  "language_info": {
   "codemirror_mode": {
    "name": "ipython",
    "version": 3
   },
   "file_extension": ".py",
   "mimetype": "text/x-python",
   "name": "python",
   "nbconvert_exporter": "python",
   "pygments_lexer": "ipython3",
   "version": "3.9.7"
  }
 },
 "nbformat": 4,
 "nbformat_minor": 1
}
