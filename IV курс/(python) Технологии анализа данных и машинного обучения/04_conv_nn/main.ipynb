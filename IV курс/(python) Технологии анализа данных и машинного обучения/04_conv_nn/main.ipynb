{
 "cells": [
  {
   "cell_type": "markdown",
   "metadata": {},
   "source": [
    "# 4. Сверточные нейронные сети.\n",
    "\n",
    "__Автор__: Никита Владимирович Блохин (NVBlokhin@fa.ru)\n",
    "\n",
    "Финансовый университет, 2020 г."
   ]
  },
  {
   "cell_type": "code",
   "execution_count": 278,
   "outputs": [],
   "source": [
    "from pathlib import Path\n",
    "\n",
    "import matplotlib.pyplot as plt\n",
    "import torch\n",
    "import torch.nn as nn\n",
    "import torch.nn.functional as F\n",
    "import torch.optim as optim\n",
    "import torchvision.models as models\n",
    "from torch.utils.data import DataLoader, Dataset\n",
    "from torchvision import datasets, transforms\n",
    "import seaborn as sns\n",
    "from sklearn import metrics\n",
    "from collections import OrderedDict"
   ],
   "metadata": {
    "collapsed": false
   }
  },
  {
   "cell_type": "code",
   "execution_count": 181,
   "outputs": [],
   "source": [
    "# @formatter:off\n",
    "%matplotlib inline\n",
    "# @formatter:on"
   ],
   "metadata": {
    "collapsed": false
   }
  },
  {
   "cell_type": "code",
   "execution_count": 182,
   "outputs": [],
   "source": [
    "torch.set_warn_always(True)\n",
    "\n",
    "plt.style.use(\"science\")\n",
    "sns.set_theme()\n",
    "\n",
    "plt.rcParams[\"figure.figsize\"] = (8, 4)"
   ],
   "metadata": {
    "collapsed": false
   }
  },
  {
   "cell_type": "code",
   "execution_count": 252,
   "outputs": [
    {
     "name": "stdout",
     "output_type": "stream",
     "text": [
      "Using cpu device\n"
     ]
    }
   ],
   "source": [
    "DATA_DIR = Path(\"data/\")\n",
    "MODELS_DIR = Path(\"models/\")\n",
    "\n",
    "DEVICE = \"cuda\" if torch.cuda.is_available() else \"cpu\"\n",
    "print(f\"Using {DEVICE} device\")"
   ],
   "metadata": {
    "collapsed": false
   }
  },
  {
   "cell_type": "markdown",
   "metadata": {
    "id": "403Mis3LAgED"
   },
   "source": [
    "## 1. Классификация предметов одежды (датасет Fashion MNIST)\n"
   ]
  },
  {
   "cell_type": "markdown",
   "metadata": {
    "id": "Mn6r8tMDQsaU"
   },
   "source": [
    "\n",
    "### 1.1 Решить задачу классификации, не используя сверточные слои. \n",
    "* Предложить архитектуру модели для решения задачи\n",
    "* Посчитать количество параметров модели.\n",
    "* Обучить модель\n",
    "* Вывести график функции потерь по эпохам. \n",
    "* Используя тестовое множество\n",
    "\n",
    "  * Продемонстрировать работу модели: вывести несколько изображений, указать над ними правильный класс и класс, предсказанный моделью. \n",
    "\n",
    "  * Вывести матрицу ошибок.\n",
    "\n",
    "  * Вывести значение accuracy на тестовом множестве.\n",
    "* Сохранить модель"
   ]
  },
  {
   "cell_type": "code",
   "execution_count": 235,
   "outputs": [
    {
     "data": {
      "text/plain": "(torch.Size([60000, 28, 28]), torch.Size([60000]), 10)"
     },
     "execution_count": 235,
     "metadata": {},
     "output_type": "execute_result"
    }
   ],
   "source": [
    "train_data = datasets.FashionMNIST(\n",
    "    root=DATA_DIR,\n",
    "    train=True,\n",
    "    download=True,\n",
    "    transform=transforms.ToTensor(),\n",
    ")\n",
    "\n",
    "test_data = datasets.FashionMNIST(\n",
    "    root=DATA_DIR,\n",
    "    train=False,\n",
    "    download=True,\n",
    "    transform=transforms.ToTensor(),\n",
    ")\n",
    "\n",
    "train_data.data.size(), train_data.targets.size(), len(train_data.classes)"
   ],
   "metadata": {
    "collapsed": false
   }
  },
  {
   "cell_type": "code",
   "execution_count": 236,
   "outputs": [
    {
     "data": {
      "text/plain": "<Figure size 800x800 with 9 Axes>",
      "image/png": "[encoded data removed]"
     },
     "metadata": {},
     "output_type": "display_data"
    }
   ],
   "source": [
    "torch.manual_seed(0)\n",
    "\n",
    "fig = plt.figure(figsize=(8, 8))\n",
    "cols, rows = 3, 3\n",
    "for i in range(1, cols * rows + 1):\n",
    "    sample_idx = torch.randint(len(train_data), size=(1,)).item()\n",
    "    img, label = train_data[sample_idx]\n",
    "    fig.add_subplot(rows, cols, i)\n",
    "    plt.title(train_data.classes[label])\n",
    "    plt.axis(\"off\")\n",
    "    plt.imshow(img.squeeze(), cmap=\"gray\")"
   ],
   "metadata": {
    "collapsed": false
   }
  },
  {
   "cell_type": "markdown",
   "source": [
    "Архитектура модели взята из **[Introduction to PyTorch](https://pytorch.org/tutorials/beginner/basics/buildmodel_tutorial.html#define-the-class)**:"
   ],
   "metadata": {
    "collapsed": false
   }
  },
  {
   "cell_type": "code",
   "execution_count": 162,
   "outputs": [],
   "source": [
    "class FashionMNISTLogisticRegression(nn.Module):\n",
    "\n",
    "    def __init__(self, in_features: int, out_features: int):\n",
    "        super(FashionMNISTLogisticRegression, self).__init__()\n",
    "        self.flatten = nn.Flatten()  # по умолчанию разворачивает все измерения начиная с 1-ого\n",
    "        self.classifier = nn.Sequential(\n",
    "            nn.Linear(in_features, 512),\n",
    "            nn.ReLU(),\n",
    "            nn.Linear(512, 512),\n",
    "            nn.ReLU(),\n",
    "            nn.Linear(512, out_features),\n",
    "        )\n",
    "\n",
    "    def forward(self, x):\n",
    "        x = self.flatten(x)  # (batch_size, n_channels * width * height)\n",
    "        return self.classifier(x)"
   ],
   "metadata": {
    "collapsed": false
   }
  },
  {
   "cell_type": "code",
   "execution_count": 171,
   "outputs": [],
   "source": [
    "def train_loop(\n",
    "        dataloader: DataLoader,\n",
    "        model: nn.Module,\n",
    "        loss_fn: nn.Module,\n",
    "        optimizer: optim.Optimizer,\n",
    ") -> torch.Tensor:\n",
    "    model.train()\n",
    "\n",
    "    size = len(dataloader.dataset)  # noqa\n",
    "    num_batches = len(dataloader)\n",
    "    avg_loss = 0\n",
    "\n",
    "    for batch, (X, y) in enumerate(dataloader):\n",
    "        pred = model(X)  # (batch_size, n_classes)\n",
    "        loss = loss_fn(pred, y)\n",
    "\n",
    "        optimizer.zero_grad()\n",
    "        loss.backward()\n",
    "        optimizer.step()\n",
    "\n",
    "        avg_loss += loss\n",
    "        if batch % 100 == 0:\n",
    "            print(f\"loss: {loss:>7f}  [{batch * len(X):>5d}/{size:>5d}]\")\n",
    "\n",
    "    return avg_loss / num_batches\n",
    "\n",
    "\n",
    "def test_loop(\n",
    "        dataloader: DataLoader,\n",
    "        model: nn.Module,\n",
    "        loss_fn: nn.Module,\n",
    ") -> tuple[torch.Tensor, torch.Tensor]:\n",
    "    model.eval()\n",
    "\n",
    "    size = len(dataloader.dataset)  # noqa\n",
    "    num_batches = len(dataloader)\n",
    "    avg_loss, correct = 0, 0\n",
    "\n",
    "    with torch.no_grad():\n",
    "        for X, y in dataloader:  # умеет работать с batch'ами; в нашем случае batch один\n",
    "            pred = model(X)\n",
    "            avg_loss += loss_fn(pred, y)\n",
    "            correct += (pred.argmax(1) == y).type(torch.float).sum().item()  # noqa\n",
    "\n",
    "    avg_loss /= num_batches\n",
    "    accuracy = correct / size\n",
    "    print(f\"Test Error: \\n Accuracy: {accuracy:>4f}, Avg loss: {avg_loss:>8f} \\n\")\n",
    "\n",
    "    return avg_loss, accuracy"
   ],
   "metadata": {
    "collapsed": false
   }
  },
  {
   "cell_type": "markdown",
   "source": [
    "Функция [потерь](https://pytorch.org/tutorials/beginner/basics/optimization_tutorial.html#loss-function) и [оптимизатор](https://pytorch.org/tutorials/beginner/basics/optimization_tutorial.html#optimizer) взяты из **Introduction to PyTorch**:"
   ],
   "metadata": {
    "collapsed": false
   }
  },
  {
   "cell_type": "code",
   "execution_count": 172,
   "outputs": [
    {
     "data": {
      "text/plain": "NeuralNetwork(\n  (flatten): Flatten(start_dim=1, end_dim=-1)\n  (linear_relu_stack): Sequential(\n    (0): Linear(in_features=784, out_features=512, bias=True)\n    (1): ReLU()\n    (2): Linear(in_features=512, out_features=512, bias=True)\n    (3): ReLU()\n    (4): Linear(in_features=512, out_features=10, bias=True)\n  )\n)"
     },
     "execution_count": 172,
     "metadata": {},
     "output_type": "execute_result"
    }
   ],
   "source": [
    "torch.manual_seed(0)\n",
    "\n",
    "# количество входных параметров модели определяется как произведение:\n",
    "# кол-во цветовых каналов * ширина картинки * высота картинки\n",
    "net = FashionMNISTLogisticRegression(1 * 28 * 28, 10).to(DEVICE)\n",
    "loss_fn = nn.CrossEntropyLoss()\n",
    "optimizer = optim.SGD(net.parameters(), lr=0.001)\n",
    "\n",
    "train_dataloader = DataLoader(train_data, batch_size=64)\n",
    "test_dataloader = DataLoader(test_data, batch_size=len(test_data))\n",
    "\n",
    "net"
   ],
   "metadata": {
    "collapsed": false
   }
  },
  {
   "cell_type": "markdown",
   "source": [
    "Обучаем модели:"
   ],
   "metadata": {
    "collapsed": false
   }
  },
  {
   "cell_type": "code",
   "execution_count": 178,
   "outputs": [
    {
     "name": "stdout",
     "output_type": "stream",
     "text": [
      "Epoch 1\n",
      "--------------------------------\n",
      "loss: 0.669735  [    0/60000]\n",
      "loss: 0.761546  [ 6400/60000]\n",
      "loss: 0.530957  [12800/60000]\n",
      "loss: 0.764309  [19200/60000]\n",
      "loss: 0.698273  [25600/60000]\n",
      "loss: 0.661099  [32000/60000]\n",
      "loss: 0.733353  [38400/60000]\n",
      "loss: 0.730378  [44800/60000]\n",
      "loss: 0.726257  [51200/60000]\n",
      "loss: 0.670002  [57600/60000]\n",
      "Test Error: \n",
      " Accuracy: 0.757900, Avg loss: 0.684956 \n",
      "\n",
      "Epoch 2\n",
      "--------------------------------\n",
      "loss: 0.645185  [    0/60000]\n",
      "loss: 0.739680  [ 6400/60000]\n",
      "loss: 0.512141  [12800/60000]\n",
      "loss: 0.749332  [19200/60000]\n",
      "loss: 0.684935  [25600/60000]\n",
      "loss: 0.647705  [32000/60000]\n",
      "loss: 0.714931  [38400/60000]\n",
      "loss: 0.719331  [44800/60000]\n",
      "loss: 0.712496  [51200/60000]\n",
      "loss: 0.655101  [57600/60000]\n",
      "Test Error: \n",
      " Accuracy: 0.766000, Avg loss: 0.669584 \n",
      "\n",
      "Epoch 3\n",
      "--------------------------------\n",
      "loss: 0.622775  [    0/60000]\n",
      "loss: 0.719328  [ 6400/60000]\n",
      "loss: 0.495216  [12800/60000]\n",
      "loss: 0.735585  [19200/60000]\n",
      "loss: 0.672881  [25600/60000]\n",
      "loss: 0.635873  [32000/60000]\n",
      "loss: 0.697479  [38400/60000]\n",
      "loss: 0.709322  [44800/60000]\n",
      "loss: 0.700167  [51200/60000]\n",
      "loss: 0.641244  [57600/60000]\n",
      "Test Error: \n",
      " Accuracy: 0.771900, Avg loss: 0.655378 \n",
      "\n",
      "Epoch 4\n",
      "--------------------------------\n",
      "loss: 0.602256  [    0/60000]\n",
      "loss: 0.700432  [ 6400/60000]\n",
      "loss: 0.479945  [12800/60000]\n",
      "loss: 0.722853  [19200/60000]\n",
      "loss: 0.661932  [25600/60000]\n",
      "loss: 0.625355  [32000/60000]\n",
      "loss: 0.680984  [38400/60000]\n",
      "loss: 0.700299  [44800/60000]\n",
      "loss: 0.689307  [51200/60000]\n",
      "loss: 0.628178  [57600/60000]\n",
      "Test Error: \n",
      " Accuracy: 0.776800, Avg loss: 0.642259 \n",
      "\n",
      "Epoch 5\n",
      "--------------------------------\n",
      "loss: 0.583503  [    0/60000]\n",
      "loss: 0.682938  [ 6400/60000]\n",
      "loss: 0.466166  [12800/60000]\n",
      "loss: 0.711028  [19200/60000]\n",
      "loss: 0.652011  [25600/60000]\n",
      "loss: 0.615897  [32000/60000]\n",
      "loss: 0.665445  [38400/60000]\n",
      "loss: 0.692348  [44800/60000]\n",
      "loss: 0.679825  [51200/60000]\n",
      "loss: 0.615851  [57600/60000]\n",
      "Test Error: \n",
      " Accuracy: 0.781000, Avg loss: 0.630154 \n",
      "\n",
      "Epoch 6\n",
      "--------------------------------\n",
      "loss: 0.566347  [    0/60000]\n",
      "loss: 0.666738  [ 6400/60000]\n",
      "loss: 0.453682  [12800/60000]\n",
      "loss: 0.699982  [19200/60000]\n",
      "loss: 0.642922  [25600/60000]\n",
      "loss: 0.607422  [32000/60000]\n",
      "loss: 0.650862  [38400/60000]\n",
      "loss: 0.685563  [44800/60000]\n",
      "loss: 0.671623  [51200/60000]\n",
      "loss: 0.604264  [57600/60000]\n",
      "Test Error: \n",
      " Accuracy: 0.787300, Avg loss: 0.618995 \n",
      "\n",
      "Epoch 7\n",
      "--------------------------------\n",
      "loss: 0.550655  [    0/60000]\n",
      "loss: 0.651747  [ 6400/60000]\n",
      "loss: 0.442266  [12800/60000]\n",
      "loss: 0.689692  [19200/60000]\n",
      "loss: 0.634474  [25600/60000]\n",
      "loss: 0.599672  [32000/60000]\n",
      "loss: 0.637244  [38400/60000]\n",
      "loss: 0.679865  [44800/60000]\n",
      "loss: 0.664528  [51200/60000]\n",
      "loss: 0.593268  [57600/60000]\n",
      "Test Error: \n",
      " Accuracy: 0.791200, Avg loss: 0.608704 \n",
      "\n",
      "Epoch 8\n",
      "--------------------------------\n",
      "loss: 0.536158  [    0/60000]\n",
      "loss: 0.637883  [ 6400/60000]\n",
      "loss: 0.431807  [12800/60000]\n",
      "loss: 0.680053  [19200/60000]\n",
      "loss: 0.626541  [25600/60000]\n",
      "loss: 0.592541  [32000/60000]\n",
      "loss: 0.624556  [38400/60000]\n",
      "loss: 0.675210  [44800/60000]\n",
      "loss: 0.658526  [51200/60000]\n",
      "loss: 0.582834  [57600/60000]\n",
      "Test Error: \n",
      " Accuracy: 0.794400, Avg loss: 0.599227 \n",
      "\n",
      "Epoch 9\n",
      "--------------------------------\n",
      "loss: 0.522814  [    0/60000]\n",
      "loss: 0.625043  [ 6400/60000]\n",
      "loss: 0.422268  [12800/60000]\n",
      "loss: 0.671034  [19200/60000]\n",
      "loss: 0.618975  [25600/60000]\n",
      "loss: 0.585985  [32000/60000]\n",
      "loss: 0.612736  [38400/60000]\n",
      "loss: 0.671493  [44800/60000]\n",
      "loss: 0.653312  [51200/60000]\n",
      "loss: 0.572866  [57600/60000]\n",
      "Test Error: \n",
      " Accuracy: 0.797600, Avg loss: 0.590501 \n",
      "\n",
      "Epoch 10\n",
      "--------------------------------\n",
      "loss: 0.510459  [    0/60000]\n",
      "loss: 0.613136  [ 6400/60000]\n",
      "loss: 0.413553  [12800/60000]\n",
      "loss: 0.662543  [19200/60000]\n",
      "loss: 0.611673  [25600/60000]\n",
      "loss: 0.579840  [32000/60000]\n",
      "loss: 0.601719  [38400/60000]\n",
      "loss: 0.668628  [44800/60000]\n",
      "loss: 0.649008  [51200/60000]\n",
      "loss: 0.563336  [57600/60000]\n",
      "Test Error: \n",
      " Accuracy: 0.799800, Avg loss: 0.582476 \n",
      "\n"
     ]
    }
   ],
   "source": [
    "epochs = 10\n",
    "train_losses = []\n",
    "for epoch in range(epochs):\n",
    "    print(f\"Epoch {epoch + 1}\\n\" + \"-\" * 32)\n",
    "    train_loss = train_loop(train_dataloader, net, loss_fn, optimizer)\n",
    "    train_losses.append(train_loss.item())\n",
    "    test_loop(test_dataloader, net, loss_fn)  # смотрим на прогресс в реальном времени"
   ],
   "metadata": {
    "collapsed": false
   }
  },
  {
   "cell_type": "code",
   "execution_count": 179,
   "outputs": [
    {
     "data": {
      "text/plain": "<Figure size 800x400 with 1 Axes>",
      "image/png": "[encoded data removed]"
     },
     "metadata": {},
     "output_type": "display_data"
    }
   ],
   "source": [
    "plt.plot(torch.arange(len(train_losses)), train_losses);"
   ],
   "metadata": {
    "collapsed": false
   }
  },
  {
   "cell_type": "markdown",
   "source": [
    "Пользуемся результатами обучения:"
   ],
   "metadata": {
    "collapsed": false
   }
  },
  {
   "cell_type": "code",
   "execution_count": 237,
   "outputs": [
    {
     "data": {
      "text/plain": "<Figure size 1000x1100 with 16 Axes>",
      "image/png": "[encoded data removed]"
     },
     "metadata": {},
     "output_type": "display_data"
    }
   ],
   "source": [
    "torch.manual_seed(0)\n",
    "net.eval()\n",
    "\n",
    "fig = plt.figure(figsize=(10, 11))\n",
    "cols, rows = 4, 4\n",
    "for i in range(1, cols * rows + 1):\n",
    "    sample_idx = torch.randint(len(test_data), size=(1,)).item()\n",
    "    img, true_label = test_data[sample_idx]\n",
    "\n",
    "    pred = net(img.unsqueeze(0))\n",
    "    pred_proba = F.softmax(pred, 1).max(1).values.item()  # насколько модель уверена в своем решении\n",
    "    pred_label = pred.argmax(1).item()\n",
    "\n",
    "    fig.add_subplot(rows, cols, i)\n",
    "    plt.title(\n",
    "        f\"pred: {train_data.classes[pred_label]} ({pred_proba:.2f})\"\n",
    "        f\"\\ntrue: {train_data.classes[true_label]}\", loc=\"left\"\n",
    "    )\n",
    "    plt.axis(\"off\")\n",
    "    plt.imshow(img.squeeze(), cmap=\"gray\")"
   ],
   "metadata": {
    "collapsed": false
   }
  },
  {
   "cell_type": "code",
   "execution_count": 248,
   "outputs": [
    {
     "data": {
      "text/plain": "<Figure size 450x450 with 1 Axes>",
      "image/png": "[encoded data removed]"
     },
     "metadata": {},
     "output_type": "display_data"
    }
   ],
   "source": [
    "X_test, y_test = next(iter(test_dataloader))\n",
    "\n",
    "pred = net(X_test)\n",
    "pred_proba = torch.max(F.softmax(pred, dim=1), dim=1)\n",
    "pred_label = pred.argmax(dim=1)\n",
    "\n",
    "cm_display = metrics.ConfusionMatrixDisplay.from_predictions(\n",
    "    y_test, pred_label.detach(),\n",
    "    display_labels=train_data.classes,\n",
    "    xticks_rotation=45,\n",
    "    cmap=sns.color_palette('light:b', as_cmap=True),\n",
    "    colorbar=False,\n",
    ")\n",
    "cm_display.ax_.grid(False)\n",
    "cm_display.figure_.set_size_inches(4.5, 4.5)"
   ],
   "metadata": {
    "collapsed": false
   }
  },
  {
   "cell_type": "code",
   "execution_count": 255,
   "outputs": [
    {
     "name": "stdout",
     "output_type": "stream",
     "text": [
      "Test Error: \n",
      " Accuracy: 0.799800, Avg loss: 0.582476 \n",
      "\n"
     ]
    }
   ],
   "source": [
    "test_loop(test_dataloader, net, loss_fn);"
   ],
   "metadata": {
    "collapsed": false
   }
  },
  {
   "cell_type": "markdown",
   "source": [
    "Сохраняем модель:"
   ],
   "metadata": {
    "collapsed": false
   }
  },
  {
   "cell_type": "code",
   "execution_count": 267,
   "outputs": [],
   "source": [
    "torch.save(net, MODELS_DIR / \"FashionMNIST-log-reg.pth\")"
   ],
   "metadata": {
    "collapsed": false
   }
  },
  {
   "cell_type": "code",
   "execution_count": 268,
   "outputs": [
    {
     "data": {
      "text/plain": "NeuralNetwork(\n  (flatten): Flatten(start_dim=1, end_dim=-1)\n  (linear_relu_stack): Sequential(\n    (0): Linear(in_features=784, out_features=512, bias=True)\n    (1): ReLU()\n    (2): Linear(in_features=512, out_features=512, bias=True)\n    (3): ReLU()\n    (4): Linear(in_features=512, out_features=10, bias=True)\n  )\n)"
     },
     "execution_count": 268,
     "metadata": {},
     "output_type": "execute_result"
    }
   ],
   "source": [
    "net = torch.load(MODELS_DIR / \"FashionMNIST-log-reg.pth\")\n",
    "net.eval()"
   ],
   "metadata": {
    "collapsed": false
   }
  },
  {
   "cell_type": "markdown",
   "metadata": {
    "id": "GmsMQUPP-XUh"
   },
   "source": [
    "### 1.2 Решить задачу 1.1, используя сверточную нейронную сеть. \n",
    "* Добиться значения accuracy на тестовом множестве не менее 90%\n",
    "* Визуализировать результаты работы первого сверточного слоя"
   ]
  },
  {
   "cell_type": "markdown",
   "source": [
    "Архитектура модели (вдохновлялся `models.vgg16`):"
   ],
   "metadata": {
    "collapsed": false
   }
  },
  {
   "cell_type": "code",
   "execution_count": 292,
   "outputs": [],
   "source": [
    "class FashionMNISTConvNet(nn.Module):\n",
    "\n",
    "    def __init__(self, in_channels: int, n_classes: int):\n",
    "        super(FashionMNISTConvNet, self).__init__()\n",
    "        self.features = nn.Sequential(OrderedDict({  # noqa\n",
    "            \"conv1\": nn.Conv2d(in_channels=in_channels, out_channels=16, kernel_size=3, stride=1, padding=1),\n",
    "            \"relu1\": nn.ReLU(True),\n",
    "            \"maxpool1\": nn.MaxPool2d(2),\n",
    "            \"conv2\": nn.Conv2d(in_channels=16, out_channels=32, kernel_size=3, stride=1),\n",
    "            \"relu2\": nn.ReLU(True),\n",
    "            \"maxpool2\": nn.MaxPool2d(2),\n",
    "        }))\n",
    "        self.avgpool = nn.AdaptiveAvgPool2d((6, 6))\n",
    "        self.classifier = nn.Sequential(OrderedDict({  # noqa\n",
    "            \"fc1\": nn.Linear(64 * 6 * 6, 512),\n",
    "            \"relu1\": nn.ReLU(True),\n",
    "            \"drop1\": nn.Dropout(),\n",
    "            \"fc2\": nn.Linear(512, n_classes),\n",
    "        }))\n",
    "\n",
    "    def forward(self, x):\n",
    "        x = self.features(x)\n",
    "        x = self.avgpool(x)\n",
    "        x = torch.flatten(x, 1)\n",
    "        x = self.classifier(x)\n",
    "        return x\n"
   ],
   "metadata": {
    "collapsed": false
   }
  },
  {
   "cell_type": "code",
   "execution_count": 293,
   "outputs": [
    {
     "data": {
      "text/plain": "FashionMNISTConvNet(\n  (features): Sequential(\n    (conv1): Conv2d(1, 32, kernel_size=(3, 3), stride=(1, 1), padding=(1, 1))\n    (relu1): ReLU(inplace=True)\n    (maxpool1): MaxPool2d(kernel_size=2, stride=2, padding=0, dilation=1, ceil_mode=False)\n    (conv2): Conv2d(32, 64, kernel_size=(3, 3), stride=(1, 1))\n    (relu2): ReLU(inplace=True)\n    (maxpool2): MaxPool2d(kernel_size=2, stride=2, padding=0, dilation=1, ceil_mode=False)\n  )\n  (avgpool): AdaptiveAvgPool2d(output_size=(6, 6))\n  (classifier): Sequential(\n    (fc1): Linear(in_features=2304, out_features=512, bias=True)\n    (relu1): ReLU(inplace=True)\n    (drop1): Dropout(p=0.5, inplace=False)\n    (fc2): Linear(in_features=512, out_features=10, bias=True)\n  )\n)"
     },
     "execution_count": 293,
     "metadata": {},
     "output_type": "execute_result"
    }
   ],
   "source": [
    "torch.manual_seed(0)\n",
    "\n",
    "net = FashionMNISTConvNet(1, 10).to(DEVICE)\n",
    "loss_fn = nn.CrossEntropyLoss()\n",
    "optimizer = optim.SGD(net.parameters(), lr=0.001)\n",
    "\n",
    "train_dataloader = DataLoader(train_data, batch_size=64)\n",
    "test_dataloader = DataLoader(test_data, batch_size=len(test_data))\n",
    "\n",
    "net"
   ],
   "metadata": {
    "collapsed": false
   }
  },
  {
   "cell_type": "code",
   "execution_count": 294,
   "outputs": [
    {
     "name": "stdout",
     "output_type": "stream",
     "text": [
      "Epoch 1\n",
      "--------------------------------\n",
      "loss: 2.303182  [    0/60000]\n",
      "loss: 2.304373  [ 6400/60000]\n",
      "loss: 2.297578  [12800/60000]\n",
      "loss: 2.291251  [19200/60000]\n",
      "loss: 2.289475  [25600/60000]\n",
      "loss: 2.275105  [32000/60000]\n",
      "loss: 2.268246  [38400/60000]\n",
      "loss: 2.258691  [44800/60000]\n",
      "loss: 2.258757  [51200/60000]\n",
      "loss: 2.247650  [57600/60000]\n",
      "Test Error: \n",
      " Accuracy: 0.275300, Avg loss: 2.241877 \n",
      "\n",
      "Epoch 2\n",
      "--------------------------------\n",
      "loss: 2.248094  [    0/60000]\n",
      "loss: 2.245771  [ 6400/60000]\n",
      "loss: 2.220839  [12800/60000]\n",
      "loss: 2.206512  [19200/60000]\n",
      "loss: 2.192221  [25600/60000]\n",
      "loss: 2.151072  [32000/60000]\n",
      "loss: 2.156783  [38400/60000]\n",
      "loss: 2.100266  [44800/60000]\n",
      "loss: 2.063210  [51200/60000]\n",
      "loss: 1.999463  [57600/60000]\n",
      "Test Error: \n",
      " Accuracy: 0.534700, Avg loss: 1.981835 \n",
      "\n",
      "Epoch 3\n",
      "--------------------------------\n",
      "loss: 2.012598  [    0/60000]\n",
      "loss: 1.944845  [ 6400/60000]\n",
      "loss: 1.827874  [12800/60000]\n",
      "loss: 1.768992  [19200/60000]\n",
      "loss: 1.600729  [25600/60000]\n",
      "loss: 1.567014  [32000/60000]\n",
      "loss: 1.491968  [38400/60000]\n",
      "loss: 1.351592  [44800/60000]\n",
      "loss: 1.417576  [51200/60000]\n",
      "loss: 1.256693  [57600/60000]\n",
      "Test Error: \n",
      " Accuracy: 0.598700, Avg loss: 1.200177 \n",
      "\n"
     ]
    }
   ],
   "source": [
    "epochs = 10\n",
    "train_losses = []\n",
    "for epoch in range(epochs):\n",
    "    print(f\"Epoch {epoch + 1}\\n\" + \"-\" * 32)\n",
    "    train_loss = train_loop(train_dataloader, net, loss_fn, optimizer)\n",
    "    train_losses.append(train_loss.item())\n",
    "    test_loop(test_dataloader, net, loss_fn)  # смотрим на прогресс в реальном времени"
   ],
   "metadata": {
    "collapsed": false
   }
  },
  {
   "cell_type": "code",
   "execution_count": null,
   "outputs": [],
   "source": [],
   "metadata": {
    "collapsed": false
   }
  },
  {
   "cell_type": "code",
   "execution_count": null,
   "outputs": [],
   "source": [],
   "metadata": {
    "collapsed": false
   }
  },
  {
   "cell_type": "code",
   "execution_count": null,
   "outputs": [],
   "source": [],
   "metadata": {
    "collapsed": false
   }
  },
  {
   "cell_type": "code",
   "execution_count": null,
   "outputs": [],
   "source": [],
   "metadata": {
    "collapsed": false
   }
  },
  {
   "cell_type": "code",
   "execution_count": null,
   "outputs": [],
   "source": [],
   "metadata": {
    "collapsed": false
   }
  },
  {
   "cell_type": "code",
   "execution_count": null,
   "outputs": [],
   "source": [],
   "metadata": {
    "collapsed": false
   }
  },
  {
   "cell_type": "code",
   "execution_count": null,
   "outputs": [],
   "source": [],
   "metadata": {
    "collapsed": false
   }
  },
  {
   "cell_type": "code",
   "execution_count": null,
   "outputs": [],
   "source": [],
   "metadata": {
    "collapsed": false
   }
  },
  {
   "cell_type": "markdown",
   "metadata": {
    "id": "cm6_9B3ZKLq9"
   },
   "source": [
    "##  2. Классификация изображений (датасет CIFAR 10) "
   ]
  },
  {
   "cell_type": "markdown",
   "metadata": {
    "id": "VNTZa9yWQvSF"
   },
   "source": [
    "\n",
    "### 2.1 Решить задачу классификации, не используя сверточные слои. \n",
    "\n",
    "* Нормализовать данные (если необходимо)\n",
    "* Предложить архитектуру модели для решения задачи\n",
    "* Посчитать количество параметров модели.\n",
    "* Обучить модель\n",
    "* Вывести график функции потерь по эпохам. \n",
    "* Используя тестовое множество\n",
    "\n",
    "  * Продемонстрировать работу модели: вывести несколько изображений, указать над ними правильный класс и класс, предсказанный моделью. \n",
    "\n",
    "  * Вывести матрицу ошибок.\n",
    "\n",
    "  * Вывести значение accuracy на тестовом множестве.\n",
    "* Сохранить модель"
   ]
  },
  {
   "cell_type": "markdown",
   "metadata": {
    "id": "IIxHLbKcDCFA"
   },
   "source": [
    "### 2.2 Решить задачу 2.1, используя сверточную нейронную сеть. \n",
    "* Добиться значения accuracy на тестовом множестве не менее 70%.\n",
    "* Визуализировать результаты работы первого сверточного слоя"
   ]
  },
  {
   "cell_type": "markdown",
   "metadata": {
    "id": "nPg8k4YTFOgc"
   },
   "source": [
    "## 3. Загрузка изображений из внешних источников"
   ]
  },
  {
   "cell_type": "markdown",
   "metadata": {
    "id": "1hLnpe_570wd"
   },
   "source": [
    "### 3.1 Решить задачу классификации обезьян (датасет [monkey.zip](https://disk.yandex.ru/d/OxYgY4S7aR6ulQ)).\n",
    "* Загрузить архив с данными на диск\n",
    "* Создать датасет на основе файлов при помощи `torchvision.datasets.ImageFolder`\n",
    "* Преобразовать изображения к тензорами одного размера (например, 400х400). Потестировать другие преобразования из `torchvision.transforms`\n",
    "* Предложить архитектуру модели для решения задачи. Обучить модель.\n",
    "* Используя тестовое множество\n",
    "\n",
    "  * Продемонстрировать работу модели: вывести несколько изображений, указать над ними правильный класс и класс, предсказанный моделью. \n",
    "\n",
    "  * Вывести матрицу ошибок.\n",
    "\n",
    "  * Вывести значение accuracy на тестовом множестве.\n",
    "  * Добиться значения accuracy на тестовом множестве не менее 60%"
   ]
  },
  {
   "cell_type": "code",
   "execution_count": null,
   "metadata": {
    "colab": {
     "base_uri": "https://localhost:8080/"
    },
    "executionInfo": {
     "elapsed": 506,
     "status": "ok",
     "timestamp": 1616695933807,
     "user": {
      "displayName": "Никита Блохин",
      "photoUrl": "",
      "userId": "16402972581398673009"
     },
     "user_tz": -180
    },
    "id": "iXnzblkFFN5K",
    "outputId": "cbbabfdc-a8c4-41c6-86a8-f7e99748a612"
   },
   "outputs": [
    {
     "name": "stdout",
     "output_type": "stream",
     "text": [
      "Drive already mounted at /content/drive; to attempt to forcibly remount, call drive.mount(\"/content/drive\", force_remount=True).\n"
     ]
    }
   ],
   "source": [
    "from google.colab import drive\n",
    "\n",
    "drive.mount('/content/drive')"
   ]
  },
  {
   "cell_type": "code",
   "execution_count": null,
   "metadata": {
    "colab": {
     "base_uri": "https://localhost:8080/"
    },
    "executionInfo": {
     "elapsed": 17268,
     "status": "ok",
     "timestamp": 1616695954172,
     "user": {
      "displayName": "Никита Блохин",
      "photoUrl": "",
      "userId": "16402972581398673009"
     },
     "user_tz": -180
    },
    "id": "4Er_FLV6Hrqq",
    "outputId": "5ece4316-16e6-458c-eb94-c0604e19ea24"
   },
   "outputs": [
    {
     "name": "stderr",
     "output_type": "stream",
     "text": [
      "100%|██████████| 1371/1371 [00:16<00:00, 81.74it/s]\n"
     ]
    }
   ],
   "source": [
    "import zipfile\n",
    "from tqdm import tqdm\n",
    "\n",
    "zf = zipfile.ZipFile('drive/MyDrive/datasets/monkeys.zip')\n",
    "for file in tqdm(zf.infolist()):\n",
    "    zf.extract(file)"
   ]
  },
  {
   "cell_type": "markdown",
   "metadata": {
    "id": "5-tMy4qJ9j1k"
   },
   "source": [
    "### 3.2 Решить задачу классификации собак и кошек (датасет [cats_dogs.zip](https://disk.yandex.ru/d/wQtt5O1JF9ctnA)).\n",
    "* Загрузить архив с данными на диск\n",
    "* Создать датасет на основе файлов при помощи `torchvision.datasets.ImageFolder`\n",
    "* Преобразовать изображения к тензорами одного размера (например, 400х400). Потестировать другие преобразования из `torchvision.transforms`\n",
    "* Предложить архитектуру модели для решения задачи. Обучить модель.\n",
    "* Используя тестовое множество\n",
    "\n",
    "  * Продемонстрировать работу модели: вывести несколько изображений, указать над ними правильный класс и класс, предсказанный моделью. \n",
    "\n",
    "  * Вывести матрицу ошибок.\n",
    "\n",
    "  * Вывести значение accuracy на тестовом множестве.\n",
    "  * Добиться значения accuracy на тестовом множестве не менее 80%"
   ]
  },
  {
   "cell_type": "markdown",
   "metadata": {
    "id": "EqvleAgxfC6B"
   },
   "source": [
    "# 4. Transfer Learning"
   ]
  },
  {
   "cell_type": "markdown",
   "metadata": {
    "id": "ZjNUwuho9tm9"
   },
   "source": [
    "### 4.1 Решить задачу 3.1, воспользовавшись предобученной моделью VGG16\n",
    "* Загрузить данные для обучения\n",
    "* Преобразования: размер 224x224, нормализация с параметрами `mean=(0.485, 0.456, 0.406), std=(0.229, 0.224, 0.225)`\n",
    "* Заменить последний полносвязный слой модели в соответствии с задачей\n",
    "* Дообучить модель (не замораживать веса). Вычислить значение accuracy на тестовом множестве\n",
    "* Дообучить модель (заморозить все веса, кроме последнего блока слоев (`classifier`)). \n",
    "* Вычислить значение accuracy на тестовом множестве.\n"
   ]
  },
  {
   "cell_type": "markdown",
   "metadata": {
    "id": "Dt_hXy5a5CE8"
   },
   "source": [
    "### 4.2 Решить задачу 3.2, воспользовавшись подходящей предобученной моделью\n",
    "* Не использовать VGG16 (вместо нее можно взять resnet18 или другую)\n",
    "* Загрузить данные для обучения\n",
    "* Преобразования: размер 224x224, нормализация с параметрами `mean=(0.485, 0.456, 0.406), std=(0.229, 0.224, 0.225)`\n",
    "* Заменить последний полносвязный слой модели в соответствии с задачей\n",
    "* Дообучить модель. \n",
    "* Вычислить значение accuracy на тестовом множестве (добиться значения не меньше 97-98%)"
   ]
  }
 ],
 "metadata": {
  "accelerator": "GPU",
  "colab": {
   "authorship_tag": "ABX9TyMF+zO/4VvRSXLWjIV8BHI2",
   "collapsed_sections": [],
   "name": "blank_04_cnn.ipynb",
   "provenance": [],
   "toc_visible": true
  },
  "kernelspec": {
   "display_name": "Python 3 (ipykernel)",
   "language": "python",
   "name": "python3"
  },
  "language_info": {
   "codemirror_mode": {
    "name": "ipython",
    "version": 3
   },
   "file_extension": ".py",
   "mimetype": "text/x-python",
   "name": "python",
   "nbconvert_exporter": "python",
   "pygments_lexer": "ipython3",
   "version": "3.9.7"
  }
 },
 "nbformat": 4,
 "nbformat_minor": 1
}
