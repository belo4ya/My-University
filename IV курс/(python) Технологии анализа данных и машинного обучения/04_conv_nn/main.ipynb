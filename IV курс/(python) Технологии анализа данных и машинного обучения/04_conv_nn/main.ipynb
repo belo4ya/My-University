{
 "cells": [
  {
   "cell_type": "markdown",
   "metadata": {
    "id": "_jAHzfAp_uKt"
   },
   "source": [
    "# 4. Сверточные нейронные сети.\n",
    "\n",
    "__Автор__: Никита Владимирович Блохин (NVBlokhin@fa.ru)\n",
    "\n",
    "Финансовый университет, 2020 г."
   ]
  },
  {
   "cell_type": "code",
   "execution_count": 38,
   "outputs": [],
   "source": [
    "from pathlib import Path\n",
    "import typing as t\n",
    "\n",
    "import numpy as np\n",
    "import matplotlib.pyplot as plt\n",
    "import pandas as pd\n",
    "import torch\n",
    "import torch.nn as nn\n",
    "import torch.nn.functional as F\n",
    "import torch.optim as optim\n",
    "import torchvision.models as models\n",
    "from torch.utils.data import DataLoader, Dataset\n",
    "from torchvision import datasets, transforms\n",
    "import seaborn as sns\n",
    "from sklearn import metrics\n",
    "from collections import OrderedDict"
   ],
   "metadata": {
    "id": "cqOvcGas_uKz"
   }
  },
  {
   "cell_type": "code",
   "execution_count": 2,
   "outputs": [],
   "source": [
    "# @formatter:off\n",
    "%matplotlib inline\n",
    "# @formatter:on"
   ],
   "metadata": {
    "id": "C3uBFXzP_uK2"
   }
  },
  {
   "cell_type": "code",
   "execution_count": 3,
   "outputs": [],
   "source": [
    "torch.set_warn_always(True)\n",
    "\n",
    "sns.set_theme()\n",
    "plt.rcParams[\"figure.figsize\"] = (8, 4)"
   ],
   "metadata": {
    "id": "dzwlSnbE_uK2"
   }
  },
  {
   "cell_type": "code",
   "execution_count": 4,
   "outputs": [],
   "source": [
    "DATA_DIR = Path(\"data/\")\n",
    "DATA_DIR.mkdir(exist_ok=True)\n",
    "MODELS_DIR = Path(\"models/\")\n",
    "MODELS_DIR.mkdir(exist_ok=True)"
   ],
   "metadata": {
    "id": "oZjaDD3P_uK3"
   }
  },
  {
   "cell_type": "code",
   "execution_count": 5,
   "outputs": [
    {
     "name": "stdout",
     "output_type": "stream",
     "text": [
      "Using cpu device\n"
     ]
    }
   ],
   "source": [
    "DEVICE = \"cuda\" if torch.cuda.is_available() else \"cpu\"\n",
    "print(f\"Using {DEVICE} device\")"
   ],
   "metadata": {
    "colab": {
     "base_uri": "https://localhost:8080/"
    },
    "id": "AIXojL_v_uK4",
    "outputId": "4c32d875-3f85-43af-98fc-2affd83a6354"
   }
  },
  {
   "cell_type": "markdown",
   "metadata": {
    "id": "403Mis3LAgED"
   },
   "source": [
    "## 1. Классификация предметов одежды (датасет Fashion MNIST)\n"
   ]
  },
  {
   "cell_type": "markdown",
   "metadata": {
    "id": "Mn6r8tMDQsaU"
   },
   "source": [
    "\n",
    "### 1.1 Решить задачу классификации, не используя сверточные слои. \n",
    "* Предложить архитектуру модели для решения задачи\n",
    "* Посчитать количество параметров модели.\n",
    "* Обучить модель\n",
    "* Вывести график функции потерь по эпохам. \n",
    "* Используя тестовое множество\n",
    "\n",
    "  * Продемонстрировать работу модели: вывести несколько изображений, указать над ними правильный класс и класс, предсказанный моделью. \n",
    "\n",
    "  * Вывести матрицу ошибок.\n",
    "\n",
    "  * Вывести значение accuracy на тестовом множестве.\n",
    "* Сохранить модель"
   ]
  },
  {
   "cell_type": "code",
   "execution_count": 6,
   "outputs": [
    {
     "output_type": "stream",
     "name": "stdout",
     "text": [
      "Downloading http://fashion-mnist.s3-website.eu-central-1.amazonaws.com/train-images-idx3-ubyte.gz\n",
      "Downloading http://fashion-mnist.s3-website.eu-central-1.amazonaws.com/train-images-idx3-ubyte.gz to data/FashionMNIST/raw/train-images-idx3-ubyte.gz\n"
     ]
    },
    {
     "output_type": "display_data",
     "data": {
      "text/plain": [
       "  0%|          | 0/26421880 [00:00<?, ?it/s]"
      ],
      "application/vnd.jupyter.widget-view+json": {
       "version_major": 2,
       "version_minor": 0,
       "model_id": "56eb881fb44b4d4a91a012c082cfeec3"
      }
     },
     "metadata": {}
    },
    {
     "output_type": "stream",
     "name": "stdout",
     "text": [
      "Extracting data/FashionMNIST/raw/train-images-idx3-ubyte.gz to data/FashionMNIST/raw\n",
      "\n",
      "Downloading http://fashion-mnist.s3-website.eu-central-1.amazonaws.com/train-labels-idx1-ubyte.gz\n",
      "Downloading http://fashion-mnist.s3-website.eu-central-1.amazonaws.com/train-labels-idx1-ubyte.gz to data/FashionMNIST/raw/train-labels-idx1-ubyte.gz\n"
     ]
    },
    {
     "output_type": "display_data",
     "data": {
      "text/plain": [
       "  0%|          | 0/29515 [00:00<?, ?it/s]"
      ],
      "application/vnd.jupyter.widget-view+json": {
       "version_major": 2,
       "version_minor": 0,
       "model_id": "c06dfabc76af4ed98856cb19be6b9f0f"
      }
     },
     "metadata": {}
    },
    {
     "output_type": "stream",
     "name": "stdout",
     "text": [
      "Extracting data/FashionMNIST/raw/train-labels-idx1-ubyte.gz to data/FashionMNIST/raw\n",
      "\n",
      "Downloading http://fashion-mnist.s3-website.eu-central-1.amazonaws.com/t10k-images-idx3-ubyte.gz\n",
      "Downloading http://fashion-mnist.s3-website.eu-central-1.amazonaws.com/t10k-images-idx3-ubyte.gz to data/FashionMNIST/raw/t10k-images-idx3-ubyte.gz\n"
     ]
    },
    {
     "output_type": "display_data",
     "data": {
      "text/plain": [
       "  0%|          | 0/4422102 [00:00<?, ?it/s]"
      ],
      "application/vnd.jupyter.widget-view+json": {
       "version_major": 2,
       "version_minor": 0,
       "model_id": "bb1654e133b2422d9f4f6fbe5acb9fbb"
      }
     },
     "metadata": {}
    },
    {
     "output_type": "stream",
     "name": "stdout",
     "text": [
      "Extracting data/FashionMNIST/raw/t10k-images-idx3-ubyte.gz to data/FashionMNIST/raw\n",
      "\n",
      "Downloading http://fashion-mnist.s3-website.eu-central-1.amazonaws.com/t10k-labels-idx1-ubyte.gz\n",
      "Downloading http://fashion-mnist.s3-website.eu-central-1.amazonaws.com/t10k-labels-idx1-ubyte.gz to data/FashionMNIST/raw/t10k-labels-idx1-ubyte.gz\n"
     ]
    },
    {
     "output_type": "display_data",
     "data": {
      "text/plain": [
       "  0%|          | 0/5148 [00:00<?, ?it/s]"
      ],
      "application/vnd.jupyter.widget-view+json": {
       "version_major": 2,
       "version_minor": 0,
       "model_id": "de8f2e178afc415d8816deb06a6bf8e6"
      }
     },
     "metadata": {}
    },
    {
     "output_type": "stream",
     "name": "stdout",
     "text": [
      "Extracting data/FashionMNIST/raw/t10k-labels-idx1-ubyte.gz to data/FashionMNIST/raw\n",
      "\n"
     ]
    },
    {
     "output_type": "execute_result",
     "data": {
      "text/plain": [
       "(torch.Size([60000, 28, 28]), torch.Size([60000]), 10)"
      ]
     },
     "metadata": {},
     "execution_count": 6
    }
   ],
   "source": [
    "_data = datasets.FashionMNIST(\n",
    "    root=DATA_DIR,\n",
    "    train=True,\n",
    "    download=True,\n",
    ").data.to(torch.float32)\n",
    "\n",
    "transform = transforms.Compose([\n",
    "    transforms.ToTensor(),\n",
    "    transforms.Normalize((_data.mean() / 255,), (_data.std() / 255,)),\n",
    "])\n",
    "\n",
    "train_data = datasets.FashionMNIST(\n",
    "    root=DATA_DIR,\n",
    "    train=True,\n",
    "    download=True,\n",
    "    transform=transform,\n",
    ")\n",
    "\n",
    "test_data = datasets.FashionMNIST(\n",
    "    root=DATA_DIR,\n",
    "    train=False,\n",
    "    download=True,\n",
    "    transform=transform,\n",
    ")\n",
    "\n",
    "train_data.data.size(), train_data.targets.size(), len(train_data.classes)"
   ],
   "metadata": {
    "colab": {
     "base_uri": "https://localhost:8080/",
     "height": 460,
     "referenced_widgets": [
      "56eb881fb44b4d4a91a012c082cfeec3",
      "ace84c49b3f14b6ba73ffcca5246d50d",
      "81e65daecdf6454ca5477052b1537b84",
      "6d7b5a0141ba44d2845ec94ba038afc2",
      "59d9a008c1c64cb0add525ea46b1f35a",
      "f098558d97be44189a71a9331df8be6e",
      "395ca1aebe1d490a9e50411822ab37a9",
      "be42375e9a5c4ea0a1da3d640ed16b51",
      "aecfff01fdc24de8ab70b4c1d0d1f3fa",
      "e7d91b4ad4f4445aa7a620962fb6d9dd",
      "2b86381998f745aa9427f79f7ee518f9",
      "c06dfabc76af4ed98856cb19be6b9f0f",
      "11ffb824a2684e918e5b43a757ca546e",
      "392cdb009e704dba8d73dcd3417359f3",
      "0d376bf584ce4eb589c9dfb2b8ccb3e0",
      "05399573acee4090b36423d39d7eb74a",
      "d590fee666e34b32aeb08b5547dce629",
      "40db228a5fc44cd8b900048fe0664809",
      "423d379f06fd4ecc9eef1723e1fc0401",
      "c266645ae3b8431fbf5d93d1cff305e3",
      "cce6e0241b6c43e5915e3bb9e6221494",
      "b6857ec978f94dc2bf5e1449fbce40ec",
      "bb1654e133b2422d9f4f6fbe5acb9fbb",
      "befea4d3b4f645b69f41d4ea90d25668",
      "7cfef54b6f6b47dfbde85e0bcec4a117",
      "6481d512945848dbb08a17943f156372",
      "959e9a9619894004b6844971c8dacf8a",
      "2a8304d63adb4b18a805a73f81f5d200",
      "b9e0cbb7389247688519f428beb74592",
      "d05ce7a7e186420cb8bd6e2d848991ae",
      "22e99f1033664b598b96b44218250a86",
      "49f9280f619741b6a0f7639698715a94",
      "71b296418b624d01bdd02e1a6efd1d57",
      "de8f2e178afc415d8816deb06a6bf8e6",
      "f18dee6bb07742308f1fe0c1ba205b4f",
      "5bb27715f25e45c7bcfa1f51b7c6a810",
      "041094e631d54e75a39104d41aa253b7",
      "8c660e8b632d4b83966ec32b69a58d62",
      "18f2ab78ff4b4e869316ae4bb548a7ce",
      "0caaf62a2d1243daaa38b5f9329ff61d",
      "70a189d601f9490c98f89989869375eb",
      "5ce24e2158c2428e975ab137da0696f8",
      "8350494d1ddd43c59b3839b58ec7a883",
      "cf2ebb4659604101983a21de9b5dce72"
     ]
    },
    "id": "0kn4k9_C_uK8",
    "outputId": "003d3644-b8bb-4ca2-b2bf-325850ed1c01"
   }
  },
  {
   "cell_type": "code",
   "execution_count": 7,
   "outputs": [
    {
     "output_type": "display_data",
     "data": {
      "text/plain": [
       "<Figure size 576x576 with 9 Axes>"
      ],
      "image/png": "[encoded data removed]"
     },
     "metadata": {}
    }
   ],
   "source": [
    "torch.manual_seed(0)\n",
    "\n",
    "fig = plt.figure(figsize=(8, 8))\n",
    "cols, rows = 3, 3\n",
    "for i in range(1, cols * rows + 1):\n",
    "    sample_idx = torch.randint(len(train_data), size=(1,)).item()\n",
    "    img, label = train_data[sample_idx]\n",
    "    fig.add_subplot(rows, cols, i)\n",
    "    plt.title(train_data.classes[label])\n",
    "    plt.axis(\"off\")\n",
    "    plt.imshow(img.squeeze(), cmap=\"gray\")"
   ],
   "metadata": {
    "colab": {
     "base_uri": "https://localhost:8080/",
     "height": 482
    },
    "id": "NbuP6vKk_uK9",
    "outputId": "a13b0ad5-a76e-4115-d8d2-5a0458ee2b24"
   }
  },
  {
   "cell_type": "markdown",
   "source": [
    "Архитектура модели взята из **[Introduction to PyTorch](https://pytorch.org/tutorials/beginner/basics/buildmodel_tutorial.html#define-the-class)**:"
   ],
   "metadata": {
    "collapsed": false,
    "id": "TYGuZnCJ_uK-"
   }
  },
  {
   "cell_type": "code",
   "execution_count": 8,
   "outputs": [],
   "source": [
    "class FashionMNISTLogisticRegression(nn.Module):\n",
    "\n",
    "    def __init__(self, in_features: int, out_features: int):\n",
    "        super(FashionMNISTLogisticRegression, self).__init__()\n",
    "        self.flatten = nn.Flatten()  # по умолчанию разворачивает все измерения начиная со 2-ого\n",
    "        self.classifier = nn.Sequential(\n",
    "            nn.Linear(in_features, 512),\n",
    "            nn.ReLU(),\n",
    "            nn.Linear(512, 512),\n",
    "            nn.ReLU(),\n",
    "            nn.Linear(512, out_features),\n",
    "        )\n",
    "\n",
    "    def forward(self, x):\n",
    "        x = self.flatten(x)  # (batch_size, n_channels * width * height)\n",
    "        return self.classifier(x)"
   ],
   "metadata": {
    "id": "K2Jqds_j_uK_"
   }
  },
  {
   "cell_type": "code",
   "execution_count": 6,
   "outputs": [],
   "source": [
    "def train_loop(\n",
    "        dataloader: DataLoader,\n",
    "        model: nn.Module,\n",
    "        loss_fn: nn.Module,\n",
    "        optimizer: optim.Optimizer,\n",
    "        verbose: int = 100,\n",
    ") -> torch.Tensor:\n",
    "    model.train()\n",
    "\n",
    "    size = len(dataloader.dataset)  # noqa\n",
    "    num_batches = len(dataloader)\n",
    "    avg_loss = 0\n",
    "\n",
    "    for batch, (x, y) in enumerate(dataloader):\n",
    "        x, y = x.to(DEVICE), y.to(DEVICE)\n",
    "\n",
    "        pred = model(x)  # (batch_size, n_classes)\n",
    "        loss = loss_fn(pred, y)\n",
    "\n",
    "        optimizer.zero_grad()\n",
    "        loss.backward()\n",
    "        optimizer.step()\n",
    "\n",
    "        avg_loss += loss\n",
    "        if batch % verbose == 0:\n",
    "            print(f\"loss: {loss:>7f}  [{batch * len(x):>5d}/{size:>5d}]\")\n",
    "\n",
    "    return avg_loss / num_batches\n",
    "\n",
    "\n",
    "def test_loop(\n",
    "        dataloader: DataLoader,\n",
    "        model: nn.Module,\n",
    "        loss_fn: nn.Module,\n",
    ") -> t.Tuple[torch.Tensor, torch.Tensor]:\n",
    "    model.eval()\n",
    "\n",
    "    size = len(dataloader.dataset)  # noqa\n",
    "    num_batches = len(dataloader)\n",
    "    avg_loss, correct = 0, 0\n",
    "\n",
    "    with torch.no_grad():\n",
    "        for x, y in dataloader:  # умеет работать с batch'ами; в нашем случае batch один\n",
    "            x, y = x.to(DEVICE), y.to(DEVICE)\n",
    "            pred = model(x)\n",
    "            avg_loss += loss_fn(pred, y)\n",
    "            correct += (pred.argmax(1) == y).type(torch.float).sum().item()  # noqa\n",
    "\n",
    "    avg_loss /= num_batches\n",
    "    accuracy = correct / size\n",
    "    print(f\"Test Error: \\n Accuracy: {accuracy:>4f}, Avg loss: {avg_loss:>8f} \\n\")\n",
    "\n",
    "    return avg_loss, accuracy"
   ],
   "metadata": {
    "id": "Q37HaXM6_uK_"
   }
  },
  {
   "cell_type": "markdown",
   "source": [
    "Функция [потерь](https://pytorch.org/tutorials/beginner/basics/optimization_tutorial.html#loss-function) и [оптимизатор](https://pytorch.org/tutorials/beginner/basics/optimization_tutorial.html#optimizer) взяты из **Introduction to PyTorch**:"
   ],
   "metadata": {
    "collapsed": false,
    "id": "IcqO3SZ5_uLA"
   }
  },
  {
   "cell_type": "code",
   "execution_count": 10,
   "outputs": [
    {
     "output_type": "execute_result",
     "data": {
      "text/plain": [
       "FashionMNISTLogisticRegression(\n",
       "  (flatten): Flatten(start_dim=1, end_dim=-1)\n",
       "  (classifier): Sequential(\n",
       "    (0): Linear(in_features=784, out_features=512, bias=True)\n",
       "    (1): ReLU()\n",
       "    (2): Linear(in_features=512, out_features=512, bias=True)\n",
       "    (3): ReLU()\n",
       "    (4): Linear(in_features=512, out_features=10, bias=True)\n",
       "  )\n",
       ")"
      ]
     },
     "metadata": {},
     "execution_count": 10
    }
   ],
   "source": [
    "torch.manual_seed(0)\n",
    "\n",
    "# количество входных параметров модели определяется как произведение:\n",
    "# кол-во цветовых каналов * ширина картинки * высота картинки\n",
    "net = FashionMNISTLogisticRegression(1 * 28 * 28, 10).to(DEVICE)\n",
    "loss_fn = nn.CrossEntropyLoss()\n",
    "optimizer = optim.SGD(net.parameters(), lr=0.001)\n",
    "\n",
    "train_dataloader = DataLoader(train_data, batch_size=64, num_workers=2)\n",
    "test_dataloader = DataLoader(test_data, batch_size=len(test_data), num_workers=2)\n",
    "\n",
    "net"
   ],
   "metadata": {
    "colab": {
     "base_uri": "https://localhost:8080/"
    },
    "id": "G6v2ZX5-_uLA",
    "outputId": "4d72dde6-1fc6-4920-ceb9-9c2d12a26e1d"
   }
  },
  {
   "cell_type": "markdown",
   "source": [
    "Обучаем модель:"
   ],
   "metadata": {
    "collapsed": false,
    "id": "phXAaRy6_uLB"
   }
  },
  {
   "cell_type": "code",
   "execution_count": 11,
   "outputs": [
    {
     "output_type": "stream",
     "name": "stdout",
     "text": [
      "Epoch 1\n",
      "--------------------------------\n",
      "loss: 2.299407  [    0/60000]\n",
      "loss: 2.245826  [ 6400/60000]\n",
      "loss: 2.148032  [12800/60000]\n",
      "loss: 2.109230  [19200/60000]\n",
      "loss: 1.964170  [25600/60000]\n",
      "loss: 1.873128  [32000/60000]\n",
      "loss: 1.765596  [38400/60000]\n",
      "loss: 1.640909  [44800/60000]\n",
      "loss: 1.568382  [51200/60000]\n",
      "loss: 1.412620  [57600/60000]\n",
      "Test Error: \n",
      " Accuracy: 0.639700, Avg loss: 1.403269 \n",
      "\n",
      "Epoch 2\n",
      "--------------------------------\n",
      "loss: 1.437996  [    0/60000]\n",
      "loss: 1.420322  [ 6400/60000]\n",
      "loss: 1.167585  [12800/60000]\n",
      "loss: 1.301452  [19200/60000]\n",
      "loss: 1.074438  [25600/60000]\n",
      "loss: 1.099373  [32000/60000]\n",
      "loss: 1.062042  [38400/60000]\n",
      "loss: 1.011352  [44800/60000]\n",
      "loss: 1.048614  [51200/60000]\n",
      "loss: 0.958107  [57600/60000]\n",
      "Test Error: \n",
      " Accuracy: 0.719900, Avg loss: 0.933654 \n",
      "\n",
      "Epoch 3\n",
      "--------------------------------\n",
      "loss: 0.948851  [    0/60000]\n",
      "loss: 1.005085  [ 6400/60000]\n",
      "loss: 0.747223  [12800/60000]\n",
      "loss: 0.985312  [19200/60000]\n",
      "loss: 0.843050  [25600/60000]\n",
      "loss: 0.860392  [32000/60000]\n",
      "loss: 0.853571  [38400/60000]\n",
      "loss: 0.823208  [44800/60000]\n",
      "loss: 0.876243  [51200/60000]\n",
      "loss: 0.799896  [57600/60000]\n",
      "Test Error: \n",
      " Accuracy: 0.741600, Avg loss: 0.774520 \n",
      "\n",
      "Epoch 4\n",
      "--------------------------------\n",
      "loss: 0.745281  [    0/60000]\n",
      "loss: 0.835050  [ 6400/60000]\n",
      "loss: 0.585660  [12800/60000]\n",
      "loss: 0.848541  [19200/60000]\n",
      "loss: 0.767664  [25600/60000]\n",
      "loss: 0.752812  [32000/60000]\n",
      "loss: 0.758873  [38400/60000]\n",
      "loss: 0.743880  [44800/60000]\n",
      "loss: 0.792437  [51200/60000]\n",
      "loss: 0.718274  [57600/60000]\n",
      "Test Error: \n",
      " Accuracy: 0.757800, Avg loss: 0.695010 \n",
      "\n",
      "Epoch 5\n",
      "--------------------------------\n",
      "loss: 0.633235  [    0/60000]\n",
      "loss: 0.739588  [ 6400/60000]\n",
      "loss: 0.503011  [12800/60000]\n",
      "loss: 0.775435  [19200/60000]\n",
      "loss: 0.722508  [25600/60000]\n",
      "loss: 0.693713  [32000/60000]\n",
      "loss: 0.705230  [38400/60000]\n",
      "loss: 0.705427  [44800/60000]\n",
      "loss: 0.746582  [51200/60000]\n",
      "loss: 0.666706  [57600/60000]\n",
      "Test Error: \n",
      " Accuracy: 0.771300, Avg loss: 0.646853 \n",
      "\n",
      "Epoch 6\n",
      "--------------------------------\n",
      "loss: 0.565074  [    0/60000]\n",
      "loss: 0.678645  [ 6400/60000]\n",
      "loss: 0.453853  [12800/60000]\n",
      "loss: 0.729855  [19200/60000]\n",
      "loss: 0.684728  [25600/60000]\n",
      "loss: 0.657362  [32000/60000]\n",
      "loss: 0.667646  [38400/60000]\n",
      "loss: 0.684254  [44800/60000]\n",
      "loss: 0.718180  [51200/60000]\n",
      "loss: 0.628619  [57600/60000]\n",
      "Test Error: \n",
      " Accuracy: 0.783000, Avg loss: 0.613384 \n",
      "\n",
      "Epoch 7\n",
      "--------------------------------\n",
      "loss: 0.519805  [    0/60000]\n",
      "loss: 0.635949  [ 6400/60000]\n",
      "loss: 0.421324  [12800/60000]\n",
      "loss: 0.697550  [19200/60000]\n",
      "loss: 0.650370  [25600/60000]\n",
      "loss: 0.632345  [32000/60000]\n",
      "loss: 0.637562  [38400/60000]\n",
      "loss: 0.671385  [44800/60000]\n",
      "loss: 0.698741  [51200/60000]\n",
      "loss: 0.598430  [57600/60000]\n",
      "Test Error: \n",
      " Accuracy: 0.792700, Avg loss: 0.588121 \n",
      "\n",
      "Epoch 8\n",
      "--------------------------------\n",
      "loss: 0.487410  [    0/60000]\n",
      "loss: 0.604126  [ 6400/60000]\n",
      "loss: 0.397905  [12800/60000]\n",
      "loss: 0.671735  [19200/60000]\n",
      "loss: 0.619519  [25600/60000]\n",
      "loss: 0.613622  [32000/60000]\n",
      "loss: 0.611682  [38400/60000]\n",
      "loss: 0.663499  [44800/60000]\n",
      "loss: 0.684457  [51200/60000]\n",
      "loss: 0.573281  [57600/60000]\n",
      "Test Error: \n",
      " Accuracy: 0.799600, Avg loss: 0.568220 \n",
      "\n",
      "Epoch 9\n",
      "--------------------------------\n",
      "loss: 0.462561  [    0/60000]\n",
      "loss: 0.579485  [ 6400/60000]\n",
      "loss: 0.379953  [12800/60000]\n",
      "loss: 0.650240  [19200/60000]\n",
      "loss: 0.592375  [25600/60000]\n",
      "loss: 0.598222  [32000/60000]\n",
      "loss: 0.589109  [38400/60000]\n",
      "loss: 0.658617  [44800/60000]\n",
      "loss: 0.672609  [51200/60000]\n",
      "loss: 0.551682  [57600/60000]\n",
      "Test Error: \n",
      " Accuracy: 0.804600, Avg loss: 0.552115 \n",
      "\n",
      "Epoch 10\n",
      "--------------------------------\n",
      "loss: 0.442396  [    0/60000]\n",
      "loss: 0.559590  [ 6400/60000]\n",
      "loss: 0.365422  [12800/60000]\n",
      "loss: 0.631906  [19200/60000]\n",
      "loss: 0.568469  [25600/60000]\n",
      "loss: 0.584899  [32000/60000]\n",
      "loss: 0.569206  [38400/60000]\n",
      "loss: 0.655820  [44800/60000]\n",
      "loss: 0.662374  [51200/60000]\n",
      "loss: 0.532894  [57600/60000]\n",
      "Test Error: \n",
      " Accuracy: 0.810000, Avg loss: 0.538824 \n",
      "\n",
      "CPU times: user 26.6 s, sys: 5.64 s, total: 32.3 s\n",
      "Wall time: 2min 16s\n"
     ]
    }
   ],
   "source": [
    "%%time\n",
    "\n",
    "epochs = 10\n",
    "train_losses = []\n",
    "for epoch in range(epochs):\n",
    "    print(f\"Epoch {epoch + 1}\\n\" + \"-\" * 32)\n",
    "    train_loss = train_loop(train_dataloader, net, loss_fn, optimizer)\n",
    "    train_losses.append(train_loss.item())\n",
    "    test_loop(test_dataloader, net, loss_fn)  # смотрим на прогресс в реальном времени"
   ],
   "metadata": {
    "colab": {
     "base_uri": "https://localhost:8080/"
    },
    "id": "p4ZAvcdh_uLB",
    "outputId": "7546599b-7784-47e9-91d7-5e6258c676e3"
   }
  },
  {
   "cell_type": "code",
   "execution_count": 12,
   "outputs": [
    {
     "output_type": "display_data",
     "data": {
      "text/plain": [
       "<Figure size 576x288 with 1 Axes>"
      ],
      "image/png": "[encoded data removed]"
     },
     "metadata": {}
    }
   ],
   "source": [
    "plt.plot(torch.arange(len(train_losses)), train_losses);"
   ],
   "metadata": {
    "colab": {
     "base_uri": "https://localhost:8080/",
     "height": 268
    },
    "id": "Eaah0vGr_uLC",
    "outputId": "a5b9e773-6b34-4dab-c28f-08ab63f20ad9"
   }
  },
  {
   "cell_type": "markdown",
   "source": [
    "Пользуемся результатами обучения:"
   ],
   "metadata": {
    "collapsed": false,
    "id": "5CqkyY4b_uLC"
   }
  },
  {
   "cell_type": "code",
   "execution_count": 13,
   "outputs": [
    {
     "output_type": "display_data",
     "data": {
      "text/plain": [
       "<Figure size 720x792 with 16 Axes>"
      ],
      "image/png": "[encoded data removed]"
     },
     "metadata": {}
    }
   ],
   "source": [
    "torch.manual_seed(0)\n",
    "net.eval()\n",
    "\n",
    "fig = plt.figure(figsize=(10, 11))\n",
    "cols, rows = 4, 4\n",
    "for i in range(1, cols * rows + 1):\n",
    "    sample_idx = torch.randint(len(test_data), size=(1,)).item()\n",
    "    img, true_label = test_data[sample_idx]\n",
    "    img = img.to(DEVICE)\n",
    "\n",
    "    pred = net(img.unsqueeze(0))\n",
    "    pred_proba = F.softmax(pred, 1).max(1).values.item()  # насколько модель уверена в своем решении\n",
    "    pred_label = pred.argmax(1).item()\n",
    "\n",
    "    fig.add_subplot(rows, cols, i)\n",
    "    plt.title(\n",
    "        f\"pred: {train_data.classes[pred_label]} ({pred_proba:.2f})\"\n",
    "        f\"\\ntrue: {train_data.classes[true_label]}\", loc=\"left\"\n",
    "    )\n",
    "    plt.axis(\"off\")\n",
    "    plt.imshow(img.squeeze().cpu(), cmap=\"gray\")"
   ],
   "metadata": {
    "colab": {
     "base_uri": "https://localhost:8080/",
     "height": 651
    },
    "id": "1R93yl2m_uLC",
    "outputId": "dace229e-1788-4d30-a39e-125b15365f5d"
   }
  },
  {
   "cell_type": "code",
   "source": [
    "X_test, y_test = next(iter(test_dataloader))\n",
    "X_test, y_test = X_test.to(DEVICE), y_test.to(DEVICE)\n",
    "\n",
    "pred = net(X_test)\n",
    "pred_proba = torch.max(F.softmax(pred, dim=1), dim=1)\n",
    "pred_label = pred.argmax(dim=1)\n",
    "\n",
    "cm_display = metrics.ConfusionMatrixDisplay.from_predictions(\n",
    "    y_test.cpu(), pred_label.detach().cpu(),\n",
    "    display_labels=train_data.classes,\n",
    "    xticks_rotation=45,\n",
    "    cmap=sns.color_palette(\"light:b\", as_cmap=True),\n",
    "    colorbar=False,\n",
    ")\n",
    "cm_display.ax_.grid(False)\n",
    "cm_display.figure_.set_size_inches(4.5, 4.5)"
   ],
   "metadata": {
    "colab": {
     "base_uri": "https://localhost:8080/",
     "height": 351
    },
    "id": "FPpEDputCAIb",
    "outputId": "4c98b0b9-2628-4f22-f5f0-d4f32274a0e9"
   },
   "execution_count": 14,
   "outputs": [
    {
     "output_type": "display_data",
     "data": {
      "text/plain": [
       "<Figure size 324x324 with 1 Axes>"
      ],
      "image/png": "[encoded data removed]"
     },
     "metadata": {}
    }
   ]
  },
  {
   "cell_type": "code",
   "execution_count": 15,
   "outputs": [
    {
     "output_type": "stream",
     "name": "stdout",
     "text": [
      "Test Error: \n",
      " Accuracy: 0.810000, Avg loss: 0.538824 \n",
      "\n"
     ]
    }
   ],
   "source": [
    "test_loop(test_dataloader, net, loss_fn);"
   ],
   "metadata": {
    "colab": {
     "base_uri": "https://localhost:8080/"
    },
    "id": "DVLuePJb_uLD",
    "outputId": "e0dc6ba4-41aa-4e67-f2aa-5f1c420c7022"
   }
  },
  {
   "cell_type": "markdown",
   "source": [
    "Сохраняем модель:"
   ],
   "metadata": {
    "collapsed": false,
    "id": "-lhdJApZ_uLE"
   }
  },
  {
   "cell_type": "code",
   "execution_count": 16,
   "outputs": [
    {
     "output_type": "error",
     "ename": "FileNotFoundError",
     "evalue": "ignored",
     "traceback": [
      "\u001B[0;31m---------------------------------------------------------------------------\u001B[0m",
      "\u001B[0;31mFileNotFoundError\u001B[0m                         Traceback (most recent call last)",
      "\u001B[0;32m<ipython-input-16-a8a3040f36f3>\u001B[0m in \u001B[0;36m<module>\u001B[0;34m\u001B[0m\n\u001B[0;32m----> 1\u001B[0;31m \u001B[0mtorch\u001B[0m\u001B[0;34m.\u001B[0m\u001B[0msave\u001B[0m\u001B[0;34m(\u001B[0m\u001B[0mnet\u001B[0m\u001B[0;34m,\u001B[0m \u001B[0mMODELS_DIR\u001B[0m \u001B[0;34m/\u001B[0m \u001B[0;34m\"FashionMNIST-log-reg.pth\"\u001B[0m\u001B[0;34m)\u001B[0m\u001B[0;34m\u001B[0m\u001B[0;34m\u001B[0m\u001B[0m\n\u001B[0m",
      "\u001B[0;32m/usr/local/lib/python3.7/dist-packages/torch/serialization.py\u001B[0m in \u001B[0;36msave\u001B[0;34m(obj, f, pickle_module, pickle_protocol, _use_new_zipfile_serialization)\u001B[0m\n\u001B[1;32m    374\u001B[0m     \u001B[0m_check_dill_version\u001B[0m\u001B[0;34m(\u001B[0m\u001B[0mpickle_module\u001B[0m\u001B[0;34m)\u001B[0m\u001B[0;34m\u001B[0m\u001B[0;34m\u001B[0m\u001B[0m\n\u001B[1;32m    375\u001B[0m \u001B[0;34m\u001B[0m\u001B[0m\n\u001B[0;32m--> 376\u001B[0;31m     \u001B[0;32mwith\u001B[0m \u001B[0m_open_file_like\u001B[0m\u001B[0;34m(\u001B[0m\u001B[0mf\u001B[0m\u001B[0;34m,\u001B[0m \u001B[0;34m'wb'\u001B[0m\u001B[0;34m)\u001B[0m \u001B[0;32mas\u001B[0m \u001B[0mopened_file\u001B[0m\u001B[0;34m:\u001B[0m\u001B[0;34m\u001B[0m\u001B[0;34m\u001B[0m\u001B[0m\n\u001B[0m\u001B[1;32m    377\u001B[0m         \u001B[0;32mif\u001B[0m \u001B[0m_use_new_zipfile_serialization\u001B[0m\u001B[0;34m:\u001B[0m\u001B[0;34m\u001B[0m\u001B[0;34m\u001B[0m\u001B[0m\n\u001B[1;32m    378\u001B[0m             \u001B[0;32mwith\u001B[0m \u001B[0m_open_zipfile_writer\u001B[0m\u001B[0;34m(\u001B[0m\u001B[0mopened_file\u001B[0m\u001B[0;34m)\u001B[0m \u001B[0;32mas\u001B[0m \u001B[0mopened_zipfile\u001B[0m\u001B[0;34m:\u001B[0m\u001B[0;34m\u001B[0m\u001B[0;34m\u001B[0m\u001B[0m\n",
      "\u001B[0;32m/usr/local/lib/python3.7/dist-packages/torch/serialization.py\u001B[0m in \u001B[0;36m_open_file_like\u001B[0;34m(name_or_buffer, mode)\u001B[0m\n\u001B[1;32m    228\u001B[0m \u001B[0;32mdef\u001B[0m \u001B[0m_open_file_like\u001B[0m\u001B[0;34m(\u001B[0m\u001B[0mname_or_buffer\u001B[0m\u001B[0;34m,\u001B[0m \u001B[0mmode\u001B[0m\u001B[0;34m)\u001B[0m\u001B[0;34m:\u001B[0m\u001B[0;34m\u001B[0m\u001B[0;34m\u001B[0m\u001B[0m\n\u001B[1;32m    229\u001B[0m     \u001B[0;32mif\u001B[0m \u001B[0m_is_path\u001B[0m\u001B[0;34m(\u001B[0m\u001B[0mname_or_buffer\u001B[0m\u001B[0;34m)\u001B[0m\u001B[0;34m:\u001B[0m\u001B[0;34m\u001B[0m\u001B[0;34m\u001B[0m\u001B[0m\n\u001B[0;32m--> 230\u001B[0;31m         \u001B[0;32mreturn\u001B[0m \u001B[0m_open_file\u001B[0m\u001B[0;34m(\u001B[0m\u001B[0mname_or_buffer\u001B[0m\u001B[0;34m,\u001B[0m \u001B[0mmode\u001B[0m\u001B[0;34m)\u001B[0m\u001B[0;34m\u001B[0m\u001B[0;34m\u001B[0m\u001B[0m\n\u001B[0m\u001B[1;32m    231\u001B[0m     \u001B[0;32melse\u001B[0m\u001B[0;34m:\u001B[0m\u001B[0;34m\u001B[0m\u001B[0;34m\u001B[0m\u001B[0m\n\u001B[1;32m    232\u001B[0m         \u001B[0;32mif\u001B[0m \u001B[0;34m'w'\u001B[0m \u001B[0;32min\u001B[0m \u001B[0mmode\u001B[0m\u001B[0;34m:\u001B[0m\u001B[0;34m\u001B[0m\u001B[0;34m\u001B[0m\u001B[0m\n",
      "\u001B[0;32m/usr/local/lib/python3.7/dist-packages/torch/serialization.py\u001B[0m in \u001B[0;36m__init__\u001B[0;34m(self, name, mode)\u001B[0m\n\u001B[1;32m    209\u001B[0m \u001B[0;32mclass\u001B[0m \u001B[0m_open_file\u001B[0m\u001B[0;34m(\u001B[0m\u001B[0m_opener\u001B[0m\u001B[0;34m)\u001B[0m\u001B[0;34m:\u001B[0m\u001B[0;34m\u001B[0m\u001B[0;34m\u001B[0m\u001B[0m\n\u001B[1;32m    210\u001B[0m     \u001B[0;32mdef\u001B[0m \u001B[0m__init__\u001B[0m\u001B[0;34m(\u001B[0m\u001B[0mself\u001B[0m\u001B[0;34m,\u001B[0m \u001B[0mname\u001B[0m\u001B[0;34m,\u001B[0m \u001B[0mmode\u001B[0m\u001B[0;34m)\u001B[0m\u001B[0;34m:\u001B[0m\u001B[0;34m\u001B[0m\u001B[0;34m\u001B[0m\u001B[0m\n\u001B[0;32m--> 211\u001B[0;31m         \u001B[0msuper\u001B[0m\u001B[0;34m(\u001B[0m\u001B[0m_open_file\u001B[0m\u001B[0;34m,\u001B[0m \u001B[0mself\u001B[0m\u001B[0;34m)\u001B[0m\u001B[0;34m.\u001B[0m\u001B[0m__init__\u001B[0m\u001B[0;34m(\u001B[0m\u001B[0mopen\u001B[0m\u001B[0;34m(\u001B[0m\u001B[0mname\u001B[0m\u001B[0;34m,\u001B[0m \u001B[0mmode\u001B[0m\u001B[0;34m)\u001B[0m\u001B[0;34m)\u001B[0m\u001B[0;34m\u001B[0m\u001B[0;34m\u001B[0m\u001B[0m\n\u001B[0m\u001B[1;32m    212\u001B[0m \u001B[0;34m\u001B[0m\u001B[0m\n\u001B[1;32m    213\u001B[0m     \u001B[0;32mdef\u001B[0m \u001B[0m__exit__\u001B[0m\u001B[0;34m(\u001B[0m\u001B[0mself\u001B[0m\u001B[0;34m,\u001B[0m \u001B[0;34m*\u001B[0m\u001B[0margs\u001B[0m\u001B[0;34m)\u001B[0m\u001B[0;34m:\u001B[0m\u001B[0;34m\u001B[0m\u001B[0;34m\u001B[0m\u001B[0m\n",
      "\u001B[0;31mFileNotFoundError\u001B[0m: [Errno 2] No such file or directory: 'models/FashionMNIST-log-reg.pth'"
     ]
    }
   ],
   "source": [
    "torch.save(net, MODELS_DIR / \"FashionMNIST-log-reg.pth\")"
   ],
   "metadata": {
    "colab": {
     "base_uri": "https://localhost:8080/",
     "height": 311
    },
    "id": "r0ZZsLrV_uLE",
    "outputId": "a56aff80-fadf-493b-fe3b-a306a3eff208"
   }
  },
  {
   "cell_type": "code",
   "execution_count": null,
   "outputs": [],
   "source": [
    "net = torch.load(MODELS_DIR / \"FashionMNIST-log-reg.pth\")\n",
    "net.eval()"
   ],
   "metadata": {
    "id": "tD-g3OnZ_uLE"
   }
  },
  {
   "cell_type": "markdown",
   "metadata": {
    "id": "GmsMQUPP-XUh"
   },
   "source": [
    "### 1.2 Решить задачу 1.1, используя сверточную нейронную сеть. \n",
    "* Добиться значения accuracy на тестовом множестве не менее 90%\n",
    "* Визуализировать результаты работы первого сверточного слоя"
   ]
  },
  {
   "cell_type": "markdown",
   "source": [
    "Прежде чем работать дальше, ускорим загрузку данных:\n",
    "- уберем ненужные преобразования (Tensor -> Image -> Tensor)\n",
    "- сохраним преобразованный датасет\n",
    "- сохраним результат работы Dataloader'а"
   ],
   "metadata": {
    "collapsed": false,
    "id": "b03cZUed_uLF"
   }
  },
  {
   "cell_type": "code",
   "execution_count": 7,
   "outputs": [],
   "source": [
    "class FastFashionMNSITDataset(Dataset):\n",
    "\n",
    "    def __init__(self, dataset: datasets.FashionMNIST):\n",
    "        self.dataset = dataset\n",
    "        self.transform = self.dataset.transform\n",
    "\n",
    "        self._data = self.dataset.data.to(torch.float32)\n",
    "        if len(self._data.size()) == 3:  # [n_samples, width, height] -> [n_samples, n_channels, width, height]\n",
    "            self._data = self._data.unsqueeze(1)\n",
    "\n",
    "        self._targets = self.dataset.targets\n",
    "\n",
    "    def __len__(self):\n",
    "        return len(self.dataset)\n",
    "\n",
    "    def __getitem__(self, index):  # избавимся от ненужных преобразований\n",
    "        img, target = self._data[index], self._targets[index]\n",
    "        if self.transform:\n",
    "            img = self.transform(img)\n",
    "        return img, target\n",
    "\n",
    "\n",
    "class FastDataloader:\n",
    "\n",
    "    def __init__(self, dataloader: DataLoader[Dataset], force: bool = False):\n",
    "        self.dataloader = dataloader\n",
    "        # кэш\n",
    "        self._force = force\n",
    "        self._bathes = [0] * len(self.dataloader)\n",
    "        self._create_batches()\n",
    "\n",
    "    @property\n",
    "    def dataset(self):\n",
    "        return self.dataloader.dataset\n",
    "\n",
    "    def __len__(self):\n",
    "        return len(self.dataloader)\n",
    "\n",
    "    def __iter__(self):\n",
    "        if self._force:\n",
    "            self._create_batches()\n",
    "        return self._get_iterator()\n",
    "\n",
    "    def _create_batches(self):\n",
    "        for i, batch in enumerate(self.dataloader):\n",
    "            self._bathes[i] = batch\n",
    "\n",
    "    def _get_iterator(self):\n",
    "        for batch in self._bathes:\n",
    "            yield batch"
   ],
   "metadata": {
    "id": "0Hb6KtIt_uLF"
   }
  },
  {
   "cell_type": "code",
   "execution_count": null,
   "outputs": [],
   "source": [
    "_data = datasets.FashionMNIST(\n",
    "    root=DATA_DIR,\n",
    "    train=True,\n",
    "    download=True,\n",
    ").data.to(torch.float32)\n",
    "\n",
    "fast_data = datasets.FashionMNIST(\n",
    "    root=DATA_DIR,\n",
    "    train=True,\n",
    "    download=True,\n",
    "    transform=transforms.Compose([  # ToTensor() не нужно - уже Tensor\n",
    "        transforms.Normalize((_data.mean() / 255,), (_data.std() / 255,)),\n",
    "    ]),\n",
    ")\n",
    "\n",
    "slow_dataset = datasets.FashionMNIST(\n",
    "    root=DATA_DIR,\n",
    "    train=True,\n",
    "    download=True,\n",
    "    transform=transforms.Compose([\n",
    "        transforms.ToTensor(),\n",
    "        transforms.Normalize((_data.mean() / 255,), (_data.std() / 255,)),\n",
    "    ]),\n",
    ")"
   ],
   "metadata": {
    "id": "rHKBossu_uLF"
   }
  },
  {
   "cell_type": "code",
   "execution_count": null,
   "outputs": [],
   "source": [
    "%%time\n",
    "\n",
    "slow_dataloader = DataLoader(slow_dataset)\n",
    "\n",
    "for epoch in range(50):\n",
    "    for x, y in slow_dataloader:\n",
    "        pass"
   ],
   "metadata": {
    "id": "vu8cXLzm_uLG"
   }
  },
  {
   "cell_type": "code",
   "execution_count": null,
   "outputs": [],
   "source": [
    "%%time\n",
    "\n",
    "fast_dataset = FastFashionMNSITDataset(fast_data)\n",
    "fast_dataloader = FastDataloader(fast_dataset)\n",
    "\n",
    "for epoch in range(50):\n",
    "    for x, y in fast_dataloader:\n",
    "        pass"
   ],
   "metadata": {
    "id": "oaGxSwYm_uLG"
   }
  },
  {
   "cell_type": "markdown",
   "source": [
    "В 50 раз быстрее? А еще можно было сделать нормальное индексирование..."
   ],
   "metadata": {
    "collapsed": false,
    "id": "HPAsAjpR_uLG"
   }
  },
  {
   "cell_type": "markdown",
   "source": [
    "Архитектура модели (вдохновлялся `models.vgg16`):"
   ],
   "metadata": {
    "collapsed": false,
    "id": "NVnE1wjl_uLG"
   }
  },
  {
   "cell_type": "code",
   "execution_count": null,
   "outputs": [],
   "source": [
    "class FashionMNISTConvNet(nn.Module):\n",
    "\n",
    "    def __init__(self, in_channels: int, n_classes: int):\n",
    "        super(FashionMNISTConvNet, self).__init__()\n",
    "        self.features = nn.Sequential(OrderedDict({\n",
    "            \"conv1\": nn.Conv2d(in_channels=in_channels, out_channels=32, kernel_size=3, stride=1, padding=1),\n",
    "            \"norm1\": nn.BatchNorm2d(32),\n",
    "            \"relu1\": nn.ReLU(True),\n",
    "            \"maxpool1\": nn.MaxPool2d(2),\n",
    "            \"conv2\": nn.Conv2d(in_channels=32, out_channels=64, kernel_size=3, stride=1),\n",
    "            \"norm2\": nn.BatchNorm2d(64),\n",
    "            \"relu2\": nn.ReLU(True),\n",
    "            \"maxpool2\": nn.MaxPool2d(2),\n",
    "        }))\n",
    "        self.avgpool = nn.AdaptiveAvgPool2d((6, 6))  # картинку произвольного размера -> 6 * 6\n",
    "        self.classifier = nn.Sequential(OrderedDict({\n",
    "            \"fc1\": nn.Linear(64 * 6 * 6, 512),\n",
    "            \"relu1\": nn.ReLU(True),\n",
    "            \"drop1\": nn.Dropout(),\n",
    "            \"fc2\": nn.Linear(512, 128),\n",
    "            \"relu2\": nn.ReLU(True),\n",
    "            \"drop2\": nn.Dropout(),\n",
    "            \"fc3\": nn.Linear(128, n_classes),\n",
    "        }))\n",
    "\n",
    "    def forward(self, x):\n",
    "        x = self.features(x)\n",
    "        x = self.avgpool(x)\n",
    "        x = torch.flatten(x, 1)\n",
    "        x = self.classifier(x)\n",
    "        return x\n"
   ],
   "metadata": {
    "id": "jzPEeDHb_uLH"
   }
  },
  {
   "cell_type": "code",
   "execution_count": null,
   "outputs": [],
   "source": [
    "_data = datasets.FashionMNIST(\n",
    "    root=DATA_DIR,\n",
    "    train=True,\n",
    "    download=True,\n",
    ").data.to(torch.float32)\n",
    "\n",
    "transform = transforms.Compose([\n",
    "    transforms.Normalize((_data.mean() / 255,), (_data.std() / 255,)),\n",
    "])\n",
    "\n",
    "fast_train_data = datasets.FashionMNIST(\n",
    "    root=DATA_DIR,\n",
    "    train=True,\n",
    "    download=True,\n",
    "    transform=transform,\n",
    ")\n",
    "\n",
    "fast_test_data = datasets.FashionMNIST(\n",
    "    root=DATA_DIR,\n",
    "    train=False,\n",
    "    download=True,\n",
    "    transform=transform,\n",
    ")\n",
    "\n",
    "fast_train_dataset = FastFashionMNSITDataset(fast_train_data)\n",
    "fast_test_dataset = FastFashionMNSITDataset(fast_test_data)\n",
    "\n",
    "fast_train_dataloader = FastDataloader(DataLoader(fast_train_dataset, batch_size=128))\n",
    "fast_test_dataloader = FastDataloader(DataLoader(fast_test_dataset, batch_size=len(fast_test_data)))"
   ],
   "metadata": {
    "id": "_FB1Fd14_uLH"
   }
  },
  {
   "cell_type": "code",
   "execution_count": null,
   "outputs": [],
   "source": [
    "torch.manual_seed(0)\n",
    "\n",
    "net = FashionMNISTConvNet(1, 10).to(DEVICE)\n",
    "loss_fn = nn.CrossEntropyLoss()\n",
    "optimizer = optim.Adam(net.parameters(), lr=0.001)\n",
    "\n",
    "net"
   ],
   "metadata": {
    "id": "UXW37hBV_uLH"
   }
  },
  {
   "cell_type": "code",
   "execution_count": null,
   "outputs": [],
   "source": [
    "%%time\n",
    "\n",
    "epochs = 20\n",
    "train_losses = []\n",
    "for epoch in range(epochs):\n",
    "    print(f\"Epoch {epoch + 1}\\n\" + \"-\" * 32)\n",
    "    train_loss = train_loop(fast_train_dataloader, net, loss_fn, optimizer)\n",
    "    train_losses.append(train_loss.item())\n",
    "    test_loop(fast_test_dataloader, net, loss_fn)  # смотрим на прогресс в реальном времени"
   ],
   "metadata": {
    "id": "3O3xVQKD_uLI"
   }
  },
  {
   "cell_type": "code",
   "execution_count": null,
   "outputs": [],
   "source": [
    "plt.plot(torch.arange(len(train_losses)), train_losses);"
   ],
   "metadata": {
    "id": "3dBgSvju_uLI"
   }
  },
  {
   "cell_type": "markdown",
   "source": [
    "Визуализируем работу 1-ого сверточного слоя"
   ],
   "metadata": {
    "collapsed": false,
    "id": "IGJKoNme_uLI"
   }
  },
  {
   "cell_type": "code",
   "execution_count": null,
   "outputs": [],
   "source": [
    "# входное изображение\n",
    "img, target = fast_train_dataset[0]\n",
    "plt.axis(\"off\")\n",
    "plt.imshow(img.squeeze(), cmap=\"gray\");"
   ],
   "metadata": {
    "id": "PkyRcL5p_uLI"
   }
  },
  {
   "cell_type": "code",
   "execution_count": null,
   "outputs": [],
   "source": [
    "# изображения после свертки\n",
    "first_conv_layer = nn.Conv2d(in_channels=1, out_channels=32, kernel_size=3, stride=1, padding=1)\n",
    "fig, axes = plt.subplots(6, 5, figsize=(5, 6))  # 6 * 5 = 30 != 32 - не покажу две картинки\n",
    "for channel, ax in zip(first_conv_layer(img), axes.flatten()):\n",
    "    ax.axis(\"off\")\n",
    "    ax.imshow(channel.detach(), cmap=\"gray\")"
   ],
   "metadata": {
    "id": "Vkx8KcwW_uLI"
   }
  },
  {
   "cell_type": "markdown",
   "metadata": {
    "id": "cm6_9B3ZKLq9"
   },
   "source": [
    "##  2. Классификация изображений (датасет CIFAR 10) "
   ]
  },
  {
   "cell_type": "markdown",
   "metadata": {
    "id": "VNTZa9yWQvSF"
   },
   "source": [
    "\n",
    "### 2.1 Решить задачу классификации, не используя сверточные слои. \n",
    "\n",
    "* Нормализовать данные (если необходимо)\n",
    "* Предложить архитектуру модели для решения задачи\n",
    "* Посчитать количество параметров модели.\n",
    "* Обучить модель\n",
    "* Вывести график функции потерь по эпохам. \n",
    "* Используя тестовое множество\n",
    "\n",
    "  * Продемонстрировать работу модели: вывести несколько изображений, указать над ними правильный класс и класс, предсказанный моделью. \n",
    "\n",
    "  * Вывести матрицу ошибок.\n",
    "\n",
    "  * Вывести значение accuracy на тестовом множестве.\n",
    "* Сохранить модель"
   ]
  },
  {
   "cell_type": "code",
   "execution_count": 17,
   "outputs": [
    {
     "output_type": "stream",
     "name": "stdout",
     "text": [
      "Files already downloaded and verified\n",
      "Files already downloaded and verified\n",
      "Files already downloaded and verified\n"
     ]
    },
    {
     "output_type": "execute_result",
     "data": {
      "text/plain": [
       "((50000, 32, 32, 3), 50000, 10)"
      ]
     },
     "metadata": {},
     "execution_count": 17
    }
   ],
   "source": [
    "_data = datasets.CIFAR10(\n",
    "    root=DATA_DIR,\n",
    "    train=True,\n",
    "    download=True,\n",
    ").data\n",
    "\n",
    "transform = transforms.Compose([\n",
    "    transforms.ToTensor(),\n",
    "    transforms.Normalize((0.5, 0.5, 0.5), (0.5, 0.5, 0.5)),\n",
    "])\n",
    "\n",
    "train_data = datasets.CIFAR10(\n",
    "    root=DATA_DIR,\n",
    "    train=True,\n",
    "    download=True,\n",
    "    transform=transform,\n",
    ")\n",
    "\n",
    "test_data = datasets.CIFAR10(\n",
    "    root=DATA_DIR,\n",
    "    train=False,\n",
    "    download=True,\n",
    "    transform=transform,\n",
    ")\n",
    "\n",
    "train_data.data.shape, len(train_data.targets), len(train_data.classes)"
   ],
   "metadata": {
    "colab": {
     "base_uri": "https://localhost:8080/"
    },
    "id": "ueKXh87c_uLJ",
    "outputId": "f522a091-121a-4079-e984-eb9a0ee04650"
   }
  },
  {
   "cell_type": "code",
   "execution_count": 18,
   "outputs": [],
   "source": [
    "fast_train_dataloader = FastDataloader(DataLoader(train_data, batch_size=128, num_workers=2))\n",
    "fast_test_dataloader = FastDataloader(DataLoader(test_data, batch_size=len(test_data), num_workers=2))"
   ],
   "metadata": {
    "id": "F30Ac6Rs_uLJ"
   }
  },
  {
   "cell_type": "markdown",
   "source": [
    "Архитектура модели \"Зачем что-то менять?\" (авторское название)"
   ],
   "metadata": {
    "collapsed": false,
    "id": "rYkgWAks_uLJ"
   }
  },
  {
   "cell_type": "code",
   "execution_count": 19,
   "outputs": [],
   "source": [
    "class CIFAR10LogisticRegression(nn.Module):\n",
    "\n",
    "    def __init__(self, in_features: int, out_features: int):\n",
    "        super(CIFAR10LogisticRegression, self).__init__()\n",
    "        self.flatten = nn.Flatten()\n",
    "        self.classifier = nn.Sequential(\n",
    "            nn.Linear(in_features, 512),\n",
    "            nn.ReLU(),\n",
    "            nn.Linear(512, 512),\n",
    "            nn.ReLU(),\n",
    "            nn.Linear(512, 512),\n",
    "            nn.ReLU(),\n",
    "            nn.Linear(512, out_features),\n",
    "        )\n",
    "\n",
    "    def forward(self, x):\n",
    "        x = self.flatten(x)\n",
    "        return self.classifier(x)"
   ],
   "metadata": {
    "id": "PIVsOZkS_uLJ"
   }
  },
  {
   "cell_type": "code",
   "execution_count": null,
   "outputs": [],
   "source": [
    "torch.manual_seed(0)\n",
    "\n",
    "net = CIFAR10LogisticRegression(3 * 32 * 32, 10).to(DEVICE)\n",
    "loss_fn = nn.CrossEntropyLoss()\n",
    "optimizer = optim.SGD(net.parameters(), lr=0.001)\n",
    "\n",
    "net"
   ],
   "metadata": {
    "id": "4kVtD7Fw_uLK"
   }
  },
  {
   "cell_type": "markdown",
   "source": [
    "Обучаем модель:"
   ],
   "metadata": {
    "collapsed": false,
    "id": "5Z31hywv_uLK"
   }
  },
  {
   "cell_type": "code",
   "execution_count": null,
   "outputs": [],
   "source": [
    "%%time\n",
    "\n",
    "epochs = 15\n",
    "train_losses = []\n",
    "for epoch in range(epochs):\n",
    "    print(f\"Epoch {epoch + 1}\\n\" + \"-\" * 32)\n",
    "    train_loss = train_loop(fast_train_dataloader, net, loss_fn, optimizer)\n",
    "    train_losses.append(train_loss.item())\n",
    "    test_loop(fast_test_dataloader, net, loss_fn)  # смотрим на прогресс в реальном времени"
   ],
   "metadata": {
    "id": "RYMTQpl5_uLK"
   }
  },
  {
   "cell_type": "code",
   "execution_count": null,
   "outputs": [],
   "source": [
    "plt.plot(torch.arange(len(train_losses)), train_losses);"
   ],
   "metadata": {
    "id": "dJ2LNh3D_uLK"
   }
  },
  {
   "cell_type": "code",
   "execution_count": null,
   "outputs": [],
   "source": [
    "torch.manual_seed(0)\n",
    "net.eval()\n",
    "\n",
    "fig = plt.figure(figsize=(10, 11))\n",
    "cols, rows = 4, 4\n",
    "for i in range(1, cols * rows + 1):\n",
    "    sample_idx = torch.randint(len(test_data), size=(1,)).item()\n",
    "    img, true_label = test_data[sample_idx]\n",
    "\n",
    "    pred = net(img.unsqueeze(0).to(DEVICE))\n",
    "    pred_proba = F.softmax(pred, 1).max(1).values.item()\n",
    "    pred_label = pred.argmax(1).item()\n",
    "\n",
    "    fig.add_subplot(rows, cols, i)\n",
    "    plt.title(\n",
    "        f\"pred: {train_data.classes[pred_label]} ({pred_proba:.2f})\"\n",
    "        f\"\\ntrue: {train_data.classes[true_label]}\", loc=\"left\"\n",
    "    )\n",
    "    plt.axis(\"off\")\n",
    "    # 3 x 32 x 32 [-1, 1] -> 32 x 32 x 3 [0, 1]\n",
    "    plt.imshow(torch.clip(img.permute(1, 2, 0), 0, 1).cpu())"
   ],
   "metadata": {
    "id": "RtawVQrk_uLK"
   }
  },
  {
   "cell_type": "code",
   "execution_count": null,
   "outputs": [],
   "source": [
    "X_test, y_test = next(iter(fast_test_dataloader))\n",
    "X_test, y_test = X_test.to(DEVICE), y_test.to(DEVICE)\n",
    "\n",
    "pred = net(X_test)\n",
    "pred_proba = torch.max(F.softmax(pred, dim=1), dim=1)\n",
    "y_pred = pred.argmax(dim=1).detach()\n",
    "\n",
    "cm_display = metrics.ConfusionMatrixDisplay.from_predictions(\n",
    "    y_test.cpu(), y_pred.cpu(),\n",
    "    display_labels=train_data.classes,\n",
    "    xticks_rotation=45,\n",
    "    cmap=sns.color_palette(\"light:b\", as_cmap=True),\n",
    "    colorbar=False,\n",
    ")\n",
    "cm_display.ax_.grid(False)\n",
    "cm_display.figure_.set_size_inches(4.5, 4.5)"
   ],
   "metadata": {
    "id": "-oaQoQKB_uLL"
   }
  },
  {
   "cell_type": "code",
   "execution_count": null,
   "outputs": [],
   "source": [
    "print(metrics.classification_report(y_test.cpu(), y_pred.cpu(), target_names=train_data.classes))"
   ],
   "metadata": {
    "id": "6Vst9bzW_uLL"
   }
  },
  {
   "cell_type": "markdown",
   "metadata": {
    "id": "IIxHLbKcDCFA"
   },
   "source": [
    "### 2.2 Решить задачу 2.1, используя сверточную нейронную сеть. \n",
    "* Добиться значения accuracy на тестовом множестве не менее 70%.\n",
    "* Визуализировать результаты работы первого сверточного слоя"
   ]
  },
  {
   "cell_type": "markdown",
   "source": [
    "Архитектура модели \"Зачем что-то менять? 2.0\" (авторское название)"
   ],
   "metadata": {
    "id": "grjTNSiQMnXl"
   }
  },
  {
   "cell_type": "code",
   "execution_count": 20,
   "outputs": [],
   "source": [
    "class CIFAR10ConvNet(nn.Module):\n",
    "\n",
    "    def __init__(self, in_channels: int, n_classes: int):\n",
    "        super(CIFAR10ConvNet, self).__init__()\n",
    "        self.features = nn.Sequential(OrderedDict({\n",
    "            \"conv1\": nn.Conv2d(in_channels=in_channels, out_channels=32, kernel_size=3, stride=1, padding=1),\n",
    "            \"norm1\": nn.BatchNorm2d(32),\n",
    "            \"relu1\": nn.ReLU(True),\n",
    "            \"maxpool1\": nn.MaxPool2d(2),\n",
    "            \"conv2\": nn.Conv2d(in_channels=32, out_channels=64, kernel_size=3, stride=1),\n",
    "            \"norm2\": nn.BatchNorm2d(64),\n",
    "            \"relu2\": nn.ReLU(True),\n",
    "            \"maxpool2\": nn.MaxPool2d(2),\n",
    "        }))\n",
    "        self.avgpool = nn.AdaptiveAvgPool2d((6, 6))\n",
    "        self.classifier = nn.Sequential(OrderedDict({\n",
    "            \"fc1\": nn.Linear(64 * 6 * 6, 512),\n",
    "            \"relu1\": nn.ReLU(True),\n",
    "            \"drop1\": nn.Dropout(),\n",
    "            \"fc2\": nn.Linear(512, 128),\n",
    "            \"relu2\": nn.ReLU(True),\n",
    "            \"drop2\": nn.Dropout(),\n",
    "            \"fc3\": nn.Linear(128, n_classes),\n",
    "        }))\n",
    "\n",
    "    def forward(self, x):\n",
    "        x = self.features(x)\n",
    "        x = self.avgpool(x)\n",
    "        x = torch.flatten(x, 1)\n",
    "        x = self.classifier(x)\n",
    "        return x\n"
   ],
   "metadata": {
    "id": "Mw-zkwwy_uLL"
   }
  },
  {
   "cell_type": "code",
   "execution_count": 25,
   "outputs": [
    {
     "output_type": "execute_result",
     "data": {
      "text/plain": [
       "CIFAR10ConvNet(\n",
       "  (features): Sequential(\n",
       "    (conv1): Conv2d(3, 32, kernel_size=(3, 3), stride=(1, 1), padding=(1, 1))\n",
       "    (norm1): BatchNorm2d(32, eps=1e-05, momentum=0.1, affine=True, track_running_stats=True)\n",
       "    (relu1): ReLU(inplace=True)\n",
       "    (maxpool1): MaxPool2d(kernel_size=2, stride=2, padding=0, dilation=1, ceil_mode=False)\n",
       "    (conv2): Conv2d(32, 64, kernel_size=(3, 3), stride=(1, 1))\n",
       "    (norm2): BatchNorm2d(64, eps=1e-05, momentum=0.1, affine=True, track_running_stats=True)\n",
       "    (relu2): ReLU(inplace=True)\n",
       "    (maxpool2): MaxPool2d(kernel_size=2, stride=2, padding=0, dilation=1, ceil_mode=False)\n",
       "  )\n",
       "  (avgpool): AdaptiveAvgPool2d(output_size=(6, 6))\n",
       "  (classifier): Sequential(\n",
       "    (fc1): Linear(in_features=2304, out_features=512, bias=True)\n",
       "    (relu1): ReLU(inplace=True)\n",
       "    (drop1): Dropout(p=0.5, inplace=False)\n",
       "    (fc2): Linear(in_features=512, out_features=128, bias=True)\n",
       "    (relu2): ReLU(inplace=True)\n",
       "    (drop2): Dropout(p=0.5, inplace=False)\n",
       "    (fc3): Linear(in_features=128, out_features=10, bias=True)\n",
       "  )\n",
       ")"
      ]
     },
     "metadata": {},
     "execution_count": 25
    }
   ],
   "source": [
    "torch.manual_seed(0)\n",
    "\n",
    "net = CIFAR10ConvNet(3, 10).to(DEVICE)\n",
    "loss_fn = nn.CrossEntropyLoss()\n",
    "optimizer = optim.Adam(net.parameters(), lr=0.001)\n",
    "\n",
    "net"
   ],
   "metadata": {
    "colab": {
     "base_uri": "https://localhost:8080/"
    },
    "id": "RmaKlz5k_uLL",
    "outputId": "d499c48b-ef3c-410b-d8b7-b0132fc8726b"
   }
  },
  {
   "cell_type": "code",
   "execution_count": 26,
   "outputs": [
    {
     "output_type": "stream",
     "name": "stdout",
     "text": [
      "Epoch 1\n",
      "--------------------------------\n",
      "loss: 2.306680  [    0/50000]\n",
      "loss: 1.567359  [12800/50000]\n",
      "loss: 1.464912  [25600/50000]\n",
      "loss: 1.370254  [38400/50000]\n",
      "Test Error: \n",
      " Accuracy: 0.557900, Avg loss: 1.218758 \n",
      "\n",
      "Epoch 2\n",
      "--------------------------------\n",
      "loss: 1.315280  [    0/50000]\n",
      "loss: 1.143047  [12800/50000]\n",
      "loss: 1.238691  [25600/50000]\n",
      "loss: 1.100901  [38400/50000]\n",
      "Test Error: \n",
      " Accuracy: 0.626800, Avg loss: 1.075289 \n",
      "\n",
      "Epoch 3\n",
      "--------------------------------\n",
      "loss: 1.144582  [    0/50000]\n",
      "loss: 1.224586  [12800/50000]\n",
      "loss: 1.159860  [25600/50000]\n",
      "loss: 1.103018  [38400/50000]\n",
      "Test Error: \n",
      " Accuracy: 0.646500, Avg loss: 1.006358 \n",
      "\n",
      "Epoch 4\n",
      "--------------------------------\n",
      "loss: 0.968685  [    0/50000]\n",
      "loss: 1.013891  [12800/50000]\n",
      "loss: 1.057497  [25600/50000]\n",
      "loss: 1.002020  [38400/50000]\n",
      "Test Error: \n",
      " Accuracy: 0.675400, Avg loss: 0.932042 \n",
      "\n",
      "Epoch 5\n",
      "--------------------------------\n",
      "loss: 0.795158  [    0/50000]\n",
      "loss: 0.941681  [12800/50000]\n",
      "loss: 1.009756  [25600/50000]\n",
      "loss: 0.884788  [38400/50000]\n",
      "Test Error: \n",
      " Accuracy: 0.695400, Avg loss: 0.872857 \n",
      "\n",
      "Epoch 6\n",
      "--------------------------------\n",
      "loss: 0.841013  [    0/50000]\n",
      "loss: 0.910879  [12800/50000]\n",
      "loss: 1.060826  [25600/50000]\n",
      "loss: 0.916407  [38400/50000]\n",
      "Test Error: \n",
      " Accuracy: 0.708700, Avg loss: 0.861601 \n",
      "\n",
      "Epoch 7\n",
      "--------------------------------\n",
      "loss: 0.782084  [    0/50000]\n",
      "loss: 0.722639  [12800/50000]\n",
      "loss: 0.994580  [25600/50000]\n",
      "loss: 0.741356  [38400/50000]\n",
      "Test Error: \n",
      " Accuracy: 0.718200, Avg loss: 0.821048 \n",
      "\n",
      "Epoch 8\n",
      "--------------------------------\n",
      "loss: 0.676929  [    0/50000]\n",
      "loss: 0.711019  [12800/50000]\n",
      "loss: 0.944602  [25600/50000]\n",
      "loss: 0.820001  [38400/50000]\n",
      "Test Error: \n",
      " Accuracy: 0.738200, Avg loss: 0.766053 \n",
      "\n",
      "Epoch 9\n",
      "--------------------------------\n",
      "loss: 0.764891  [    0/50000]\n",
      "loss: 0.729204  [12800/50000]\n",
      "loss: 0.795461  [25600/50000]\n",
      "loss: 0.765675  [38400/50000]\n",
      "Test Error: \n",
      " Accuracy: 0.726500, Avg loss: 0.780138 \n",
      "\n",
      "Epoch 10\n",
      "--------------------------------\n",
      "loss: 0.645665  [    0/50000]\n",
      "loss: 0.800762  [12800/50000]\n",
      "loss: 0.764621  [25600/50000]\n",
      "loss: 0.769142  [38400/50000]\n",
      "Test Error: \n",
      " Accuracy: 0.739800, Avg loss: 0.763717 \n",
      "\n",
      "Epoch 11\n",
      "--------------------------------\n",
      "loss: 0.543460  [    0/50000]\n",
      "loss: 0.779256  [12800/50000]\n",
      "loss: 0.819949  [25600/50000]\n",
      "loss: 0.755298  [38400/50000]\n",
      "Test Error: \n",
      " Accuracy: 0.744200, Avg loss: 0.746901 \n",
      "\n",
      "Epoch 12\n",
      "--------------------------------\n",
      "loss: 0.596821  [    0/50000]\n",
      "loss: 0.713653  [12800/50000]\n",
      "loss: 0.780897  [25600/50000]\n",
      "loss: 0.520501  [38400/50000]\n",
      "Test Error: \n",
      " Accuracy: 0.749000, Avg loss: 0.733751 \n",
      "\n",
      "Epoch 13\n",
      "--------------------------------\n",
      "loss: 0.593805  [    0/50000]\n",
      "loss: 0.713966  [12800/50000]\n",
      "loss: 0.756826  [25600/50000]\n",
      "loss: 0.715390  [38400/50000]\n",
      "Test Error: \n",
      " Accuracy: 0.753000, Avg loss: 0.728049 \n",
      "\n",
      "Epoch 14\n",
      "--------------------------------\n",
      "loss: 0.708363  [    0/50000]\n",
      "loss: 0.653700  [12800/50000]\n",
      "loss: 0.789693  [25600/50000]\n",
      "loss: 0.718391  [38400/50000]\n",
      "Test Error: \n",
      " Accuracy: 0.761800, Avg loss: 0.701184 \n",
      "\n",
      "Epoch 15\n",
      "--------------------------------\n",
      "loss: 0.589990  [    0/50000]\n",
      "loss: 0.656308  [12800/50000]\n",
      "loss: 0.791241  [25600/50000]\n",
      "loss: 0.628735  [38400/50000]\n",
      "Test Error: \n",
      " Accuracy: 0.762400, Avg loss: 0.711693 \n",
      "\n",
      "Epoch 16\n",
      "--------------------------------\n",
      "loss: 0.525788  [    0/50000]\n",
      "loss: 0.611946  [12800/50000]\n",
      "loss: 0.794883  [25600/50000]\n",
      "loss: 0.674470  [38400/50000]\n",
      "Test Error: \n",
      " Accuracy: 0.756700, Avg loss: 0.728466 \n",
      "\n",
      "Epoch 17\n",
      "--------------------------------\n",
      "loss: 0.560216  [    0/50000]\n",
      "loss: 0.560069  [12800/50000]\n",
      "loss: 0.653668  [25600/50000]\n",
      "loss: 0.635539  [38400/50000]\n",
      "Test Error: \n",
      " Accuracy: 0.750800, Avg loss: 0.762228 \n",
      "\n",
      "Epoch 18\n",
      "--------------------------------\n",
      "loss: 0.533085  [    0/50000]\n",
      "loss: 0.627048  [12800/50000]\n",
      "loss: 0.852318  [25600/50000]\n",
      "loss: 0.525904  [38400/50000]\n",
      "Test Error: \n",
      " Accuracy: 0.766400, Avg loss: 0.689821 \n",
      "\n",
      "Epoch 19\n",
      "--------------------------------\n",
      "loss: 0.558294  [    0/50000]\n",
      "loss: 0.571131  [12800/50000]\n",
      "loss: 0.729107  [25600/50000]\n",
      "loss: 0.566884  [38400/50000]\n",
      "Test Error: \n",
      " Accuracy: 0.771700, Avg loss: 0.674543 \n",
      "\n",
      "Epoch 20\n",
      "--------------------------------\n",
      "loss: 0.551322  [    0/50000]\n",
      "loss: 0.731477  [12800/50000]\n",
      "loss: 0.608466  [25600/50000]\n",
      "loss: 0.444419  [38400/50000]\n",
      "Test Error: \n",
      " Accuracy: 0.768100, Avg loss: 0.714308 \n",
      "\n",
      "CPU times: user 48.3 s, sys: 1.16 s, total: 49.4 s\n",
      "Wall time: 55.4 s\n"
     ]
    }
   ],
   "source": [
    "%%time\n",
    "\n",
    "epochs = 20\n",
    "train_losses = []\n",
    "for epoch in range(epochs):\n",
    "    print(f\"Epoch {epoch + 1}\\n\" + \"-\" * 32)\n",
    "    train_loss = train_loop(fast_train_dataloader, net, loss_fn, optimizer)\n",
    "    train_losses.append(train_loss.item())\n",
    "    test_loop(fast_test_dataloader, net, loss_fn)  # смотрим на прогресс в реальном времени"
   ],
   "metadata": {
    "colab": {
     "base_uri": "https://localhost:8080/"
    },
    "id": "Mu-2qB7E_uLL",
    "outputId": "485b3468-a9c3-40f7-e26a-2b0d02117314"
   }
  },
  {
   "cell_type": "code",
   "source": [
    "X_test, y_test = next(iter(fast_test_dataloader))\n",
    "X_test, y_test = X_test.to(DEVICE), y_test.to(DEVICE)\n",
    "\n",
    "pred = net(X_test)\n",
    "pred_proba = torch.max(F.softmax(pred, dim=1), dim=1)\n",
    "y_pred = pred.argmax(dim=1).detach()\n",
    "\n",
    "print(metrics.classification_report(y_test.cpu(), y_pred.cpu(), target_names=train_data.classes))"
   ],
   "metadata": {
    "id": "W6-BxFYcJtk_",
    "outputId": "9ccadc82-764e-416f-949c-ba6a679fa6e3",
    "colab": {
     "base_uri": "https://localhost:8080/"
    }
   },
   "execution_count": 28,
   "outputs": [
    {
     "output_type": "stream",
     "name": "stdout",
     "text": [
      "              precision    recall  f1-score   support\n",
      "\n",
      "    airplane       0.83      0.80      0.82      1000\n",
      "  automobile       0.88      0.89      0.89      1000\n",
      "        bird       0.85      0.48      0.61      1000\n",
      "         cat       0.58      0.57      0.58      1000\n",
      "        deer       0.76      0.71      0.73      1000\n",
      "         dog       0.61      0.76      0.68      1000\n",
      "        frog       0.82      0.85      0.84      1000\n",
      "       horse       0.72      0.85      0.78      1000\n",
      "        ship       0.86      0.90      0.88      1000\n",
      "       truck       0.84      0.87      0.85      1000\n",
      "\n",
      "    accuracy                           0.77     10000\n",
      "   macro avg       0.77      0.77      0.76     10000\n",
      "weighted avg       0.77      0.77      0.76     10000\n",
      "\n"
     ]
    }
   ]
  },
  {
   "cell_type": "markdown",
   "source": [
    "**Вывод:** не изменив ни одного параметра модели FashionMNSITConvNet я получил удовлетворительный результат для другой задачи. Однако, когда я решил с нуля собрать модель со своими (тоже случайными) параметрами, потратил время на подбор параметров (слои, каналы, ядра свертки, кол-во нейронов...) и гиперпараметров (оптимизатор, скорость обучения, размер батча), не смог приблизиться к 50% accuracy."
   ],
   "metadata": {
    "id": "Y9Nh5mZ7NVvA"
   }
  },
  {
   "cell_type": "markdown",
   "metadata": {
    "id": "nPg8k4YTFOgc"
   },
   "source": [
    "## 3. Загрузка изображений из внешних источников"
   ]
  },
  {
   "cell_type": "markdown",
   "metadata": {
    "id": "1hLnpe_570wd"
   },
   "source": [
    "### 3.1 Решить задачу классификации обезьян (датасет [monkey.zip](https://disk.yandex.ru/d/OxYgY4S7aR6ulQ)).\n",
    "* Загрузить архив с данными на диск\n",
    "* Создать датасет на основе файлов при помощи `torchvision.datasets.ImageFolder`\n",
    "* Преобразовать изображения к тензорами одного размера (например, 400х400). Потестировать другие преобразования из `torchvision.transforms`\n",
    "* Предложить архитектуру модели для решения задачи. Обучить модель.\n",
    "* Используя тестовое множество\n",
    "\n",
    "  * Продемонстрировать работу модели: вывести несколько изображений, указать над ними правильный класс и класс, предсказанный моделью. \n",
    "\n",
    "  * Вывести матрицу ошибок.\n",
    "\n",
    "  * Вывести значение accuracy на тестовом множестве.\n",
    "  * Добиться значения accuracy на тестовом множестве не менее 60%"
   ]
  },
  {
   "cell_type": "code",
   "execution_count": null,
   "outputs": [],
   "source": [
    "from google.colab import drive\n",
    "\n",
    "drive.mount('/content/drive')"
   ],
   "metadata": {
    "collapsed": false
   }
  },
  {
   "cell_type": "code",
   "execution_count": 108,
   "outputs": [
    {
     "data": {
      "text/plain": "Compose(\n    CenterCrop(size=(224, 224))\n    ToTensor()\n    Normalize(mean=tensor([0.4505, 0.4006, 0.3219]), std=tensor([0.2493, 0.2346, 0.2297]))\n)"
     },
     "execution_count": 108,
     "metadata": {},
     "output_type": "execute_result"
    }
   ],
   "source": [
    "_data = datasets.ImageFolder(  # нужно для расчета mean и std для Normalize\n",
    "    DATA_DIR / \"monkeys/training/training\",\n",
    "    transform=transforms.Compose([\n",
    "        transforms.CenterCrop(size=(224, 224)),\n",
    "        transforms.ToTensor(),\n",
    "    ]),\n",
    ")\n",
    "_data, _ = next(iter(DataLoader(_data, batch_size=len(_data))))\n",
    "\n",
    "transform = transforms.Compose([\n",
    "    transforms.CenterCrop(size=(224, 224)),\n",
    "    transforms.ToTensor(),\n",
    "    transforms.Normalize(_data.mean(dim=(0, 2, 3)), _data.std(dim=(0, 2, 3))),\n",
    "])\n",
    "\n",
    "transform"
   ],
   "metadata": {
    "collapsed": false
   }
  },
  {
   "cell_type": "code",
   "execution_count": 109,
   "outputs": [
    {
     "data": {
      "text/plain": "((1097, 272), torch.Size([3, 224, 224]), 10)"
     },
     "execution_count": 109,
     "metadata": {},
     "output_type": "execute_result"
    }
   ],
   "source": [
    "train_monkeys_dataset = datasets.ImageFolder(\n",
    "    DATA_DIR / \"monkeys/training/training\",\n",
    "    transform=transform,\n",
    ")\n",
    "test_monkeys_dataset = datasets.ImageFolder(\n",
    "    DATA_DIR / \"monkeys/validation/validation\",\n",
    "    transform=transform,\n",
    ")\n",
    "\n",
    "(\n",
    "    (len(train_monkeys_dataset), len(test_monkeys_dataset)),\n",
    "    train_monkeys_dataset[0][0].shape,\n",
    "    len(train_monkeys_dataset.classes),\n",
    ")"
   ],
   "metadata": {
    "collapsed": false
   }
  },
  {
   "cell_type": "code",
   "execution_count": 110,
   "outputs": [
    {
     "data": {
      "text/plain": "  Label             Latin Name                Common Name  Train Images  \\\n0    n0      alouatta_palliata             mantled_howler           131   \n1    n1     erythrocebus_patas               patas_monkey           139   \n2    n2         cacajao_calvus                bald_uakari           137   \n3    n3         macaca_fuscata           japanese_macaque           152   \n4    n4        cebuella_pygmea             pygmy_marmoset           131   \n5    n5        cebus_capucinus      white_headed_capuchin           141   \n6    n6        mico_argentatus           silvery_marmoset           132   \n7    n7       saimiri_sciureus     common_squirrel_monkey           142   \n8    n8        aotus_nigriceps  black_headed_night_monkey           133   \n9    n9  trachypithecus_johnii             nilgiri_langur           132   \n\n   Validation Images  \n0                 26  \n1                 28  \n2                 27  \n3                 30  \n4                 26  \n5                 28  \n6                 26  \n7                 28  \n8                 27  \n9                 26  ",
      "text/html": "<div>\n<style scoped>\n    .dataframe tbody tr th:only-of-type {\n        vertical-align: middle;\n    }\n\n    .dataframe tbody tr th {\n        vertical-align: top;\n    }\n\n    .dataframe thead th {\n        text-align: right;\n    }\n</style>\n<table border=\"1\" class=\"dataframe\">\n  <thead>\n    <tr style=\"text-align: right;\">\n      <th></th>\n      <th>Label</th>\n      <th>Latin Name</th>\n      <th>Common Name</th>\n      <th>Train Images</th>\n      <th>Validation Images</th>\n    </tr>\n  </thead>\n  <tbody>\n    <tr>\n      <th>0</th>\n      <td>n0</td>\n      <td>alouatta_palliata</td>\n      <td>mantled_howler</td>\n      <td>131</td>\n      <td>26</td>\n    </tr>\n    <tr>\n      <th>1</th>\n      <td>n1</td>\n      <td>erythrocebus_patas</td>\n      <td>patas_monkey</td>\n      <td>139</td>\n      <td>28</td>\n    </tr>\n    <tr>\n      <th>2</th>\n      <td>n2</td>\n      <td>cacajao_calvus</td>\n      <td>bald_uakari</td>\n      <td>137</td>\n      <td>27</td>\n    </tr>\n    <tr>\n      <th>3</th>\n      <td>n3</td>\n      <td>macaca_fuscata</td>\n      <td>japanese_macaque</td>\n      <td>152</td>\n      <td>30</td>\n    </tr>\n    <tr>\n      <th>4</th>\n      <td>n4</td>\n      <td>cebuella_pygmea</td>\n      <td>pygmy_marmoset</td>\n      <td>131</td>\n      <td>26</td>\n    </tr>\n    <tr>\n      <th>5</th>\n      <td>n5</td>\n      <td>cebus_capucinus</td>\n      <td>white_headed_capuchin</td>\n      <td>141</td>\n      <td>28</td>\n    </tr>\n    <tr>\n      <th>6</th>\n      <td>n6</td>\n      <td>mico_argentatus</td>\n      <td>silvery_marmoset</td>\n      <td>132</td>\n      <td>26</td>\n    </tr>\n    <tr>\n      <th>7</th>\n      <td>n7</td>\n      <td>saimiri_sciureus</td>\n      <td>common_squirrel_monkey</td>\n      <td>142</td>\n      <td>28</td>\n    </tr>\n    <tr>\n      <th>8</th>\n      <td>n8</td>\n      <td>aotus_nigriceps</td>\n      <td>black_headed_night_monkey</td>\n      <td>133</td>\n      <td>27</td>\n    </tr>\n    <tr>\n      <th>9</th>\n      <td>n9</td>\n      <td>trachypithecus_johnii</td>\n      <td>nilgiri_langur</td>\n      <td>132</td>\n      <td>26</td>\n    </tr>\n  </tbody>\n</table>\n</div>"
     },
     "execution_count": 110,
     "metadata": {},
     "output_type": "execute_result"
    }
   ],
   "source": [
    "monkeys_labels: pd.DataFrame = pd.read_csv(DATA_DIR / \"monkeys/monkey_labels.txt\", sep=\",\")\n",
    "monkeys_labels.columns = monkeys_labels.columns.map(str.strip)\n",
    "strings_sample = monkeys_labels.select_dtypes(object)\n",
    "monkeys_labels[strings_sample.columns] = strings_sample.applymap(str.strip)\n",
    "monkeys_labels"
   ],
   "metadata": {
    "collapsed": false
   }
  },
  {
   "cell_type": "code",
   "execution_count": 122,
   "outputs": [],
   "source": [
    "class MonkeysConvNet(nn.Module):\n",
    "\n",
    "    def __init__(self, in_channels: int, n_classes: int):\n",
    "        super(MonkeysConvNet, self).__init__()\n",
    "        self.features = nn.Sequential(\n",
    "            nn.Conv2d(in_channels=in_channels, out_channels=32, kernel_size=3, padding=1),\n",
    "            nn.ReLU(),\n",
    "            nn.Conv2d(in_channels=32, out_channels=32, kernel_size=3, padding=1),\n",
    "            nn.ReLU(),\n",
    "            nn.MaxPool2d(2, 2),\n",
    "            nn.Conv2d(in_channels=32, out_channels=64, kernel_size=3, stride=1, padding=1),\n",
    "            nn.ReLU(),\n",
    "            nn.Conv2d(in_channels=64, out_channels=64, kernel_size=3, padding=1),\n",
    "            nn.ReLU(),\n",
    "            nn.MaxPool2d(2, 2),\n",
    "            nn.Conv2d(in_channels=64, out_channels=128, kernel_size=3, stride=1, padding=1),\n",
    "            nn.ReLU(),\n",
    "            nn.Conv2d(in_channels=128, out_channels=128, kernel_size=3, padding=1),\n",
    "            nn.ReLU(),\n",
    "            nn.MaxPool2d(2, 2),\n",
    "            nn.Conv2d(in_channels=128, out_channels=128, kernel_size=3, stride=1, padding=1),\n",
    "            nn.ReLU(),\n",
    "            nn.MaxPool2d(2, 2),\n",
    "        )\n",
    "        self.avgpool = nn.AdaptiveAvgPool2d((16, 16))\n",
    "        self.classifier = nn.Sequential(\n",
    "            nn.Linear(128 * 16 * 16, 2048),\n",
    "            nn.ReLU(),\n",
    "            nn.Linear(2048, 1024),\n",
    "            nn.ReLU(),\n",
    "            nn.Linear(1024, n_classes),\n",
    "        )\n",
    "\n",
    "    def forward(self, x):\n",
    "        x = self.features(x)\n",
    "        x = self.avgpool(x)\n",
    "        x = torch.flatten(x, 1)\n",
    "        x = self.classifier(x)\n",
    "        return x"
   ],
   "metadata": {
    "collapsed": false
   }
  },
  {
   "cell_type": "code",
   "execution_count": 123,
   "outputs": [
    {
     "data": {
      "text/plain": "MonkeysConvNet(\n  (features): Sequential(\n    (conv1): Conv2d(3, 32, kernel_size=(3, 3), stride=(1, 1), padding=(1, 1))\n    (norm1): BatchNorm2d(32, eps=1e-05, momentum=0.1, affine=True, track_running_stats=True)\n    (relu1): ReLU(inplace=True)\n    (maxpool1): MaxPool2d(kernel_size=2, stride=2, padding=0, dilation=1, ceil_mode=False)\n    (conv2): Conv2d(32, 64, kernel_size=(3, 3), stride=(1, 1))\n    (norm2): BatchNorm2d(64, eps=1e-05, momentum=0.1, affine=True, track_running_stats=True)\n    (relu2): ReLU(inplace=True)\n    (maxpool2): MaxPool2d(kernel_size=2, stride=2, padding=0, dilation=1, ceil_mode=False)\n  )\n  (avgpool): AdaptiveAvgPool2d(output_size=(6, 6))\n  (classifier): Sequential(\n    (fc1): Linear(in_features=2304, out_features=512, bias=True)\n    (relu1): ReLU(inplace=True)\n    (drop1): Dropout(p=0.5, inplace=False)\n    (fc2): Linear(in_features=512, out_features=128, bias=True)\n    (relu2): ReLU(inplace=True)\n    (drop2): Dropout(p=0.5, inplace=False)\n    (fc3): Linear(in_features=128, out_features=10, bias=True)\n  )\n)"
     },
     "execution_count": 123,
     "metadata": {},
     "output_type": "execute_result"
    }
   ],
   "source": [
    "torch.manual_seed(0)\n",
    "\n",
    "net = MonkeysConvNet(3, 10).to(DEVICE)\n",
    "loss_fn = nn.CrossEntropyLoss()\n",
    "optimizer = optim.Adam(net.parameters(), lr=0.0001)\n",
    "\n",
    "net"
   ],
   "metadata": {
    "collapsed": false
   }
  },
  {
   "cell_type": "code",
   "execution_count": 124,
   "outputs": [],
   "source": [
    "monkeys_train_dataloader = FastDataloader(\n",
    "    DataLoader(train_monkeys_dataset, batch_size=16, num_workers=2)\n",
    ")\n",
    "monkeys_test_dataloader = FastDataloader(\n",
    "    DataLoader(test_monkeys_dataset, batch_size=len(test_monkeys_dataset), num_workers=2)\n",
    ")"
   ],
   "metadata": {
    "collapsed": false
   }
  },
  {
   "cell_type": "code",
   "execution_count": 125,
   "outputs": [
    {
     "name": "stdout",
     "output_type": "stream",
     "text": [
      "Epoch 1\n",
      "--------------------------------\n",
      "loss: 2.247038  [    0/ 1097]\n",
      "Test Error: \n",
      " Accuracy: 0.095588, Avg loss: 2.306882 \n",
      "\n",
      "Epoch 2\n",
      "--------------------------------\n",
      "loss: 2.424891  [    0/ 1097]\n",
      "Test Error: \n",
      " Accuracy: 0.154412, Avg loss: 2.298657 \n",
      "\n",
      "Epoch 3\n",
      "--------------------------------\n",
      "loss: 2.353562  [    0/ 1097]\n"
     ]
    },
    {
     "name": "stderr",
     "output_type": "stream",
     "text": [
      "\n",
      "KeyboardInterrupt\n",
      "\n"
     ]
    }
   ],
   "source": [
    "%%time\n",
    "\n",
    "epochs = 30\n",
    "train_losses = []\n",
    "for epoch in range(epochs):\n",
    "    print(f\"Epoch {epoch + 1}\\n\" + \"-\" * 32)\n",
    "    train_loss = train_loop(monkeys_train_dataloader, net, loss_fn, optimizer)\n",
    "    train_losses.append(train_loss.item())\n",
    "    test_loop(monkeys_test_dataloader, net, loss_fn)"
   ],
   "metadata": {
    "collapsed": false
   }
  },
  {
   "cell_type": "code",
   "execution_count": null,
   "outputs": [],
   "source": [
    "plt.plot(torch.arange(len(train_losses)), train_losses);"
   ],
   "metadata": {
    "collapsed": false
   }
  },
  {
   "cell_type": "code",
   "execution_count": null,
   "outputs": [],
   "source": [
    "torch.manual_seed(0)\n",
    "net.eval()\n",
    "\n",
    "fig = plt.figure(figsize=(10, 11))\n",
    "cols, rows = 4, 4\n",
    "for i in range(1, cols * rows + 1):\n",
    "    sample_idx = torch.randint(len(test_data), size=(1,)).item()\n",
    "    img, true_label = test_data[sample_idx]\n",
    "\n",
    "    pred = net(img.unsqueeze(0).to(DEVICE))\n",
    "    pred_proba = F.softmax(pred, 1).max(1).values.item()\n",
    "    pred_label = pred.argmax(1).item()\n",
    "\n",
    "    fig.add_subplot(rows, cols, i)\n",
    "    plt.title(\n",
    "        f\"pred: {train_data.classes[pred_label]} ({pred_proba:.2f})\"\n",
    "        f\"\\ntrue: {train_data.classes[true_label]}\", loc=\"left\"\n",
    "    )\n",
    "    plt.axis(\"off\")\n",
    "    # 3 x 32 x 32 [-1, 1] -> 32 x 32 x 3 [0, 1]\n",
    "    plt.imshow(torch.clip(img.permute(1, 2, 0), 0, 1).cpu())"
   ],
   "metadata": {
    "collapsed": false
   }
  },
  {
   "cell_type": "code",
   "execution_count": null,
   "outputs": [],
   "source": [
    "X_test, y_test = next(iter(fast_test_dataloader))\n",
    "X_test, y_test = X_test.to(DEVICE), y_test.to(DEVICE)\n",
    "\n",
    "pred = net(X_test)\n",
    "pred_proba = torch.max(F.softmax(pred, dim=1), dim=1)\n",
    "y_pred = pred.argmax(dim=1).detach()\n",
    "\n",
    "cm_display = metrics.ConfusionMatrixDisplay.from_predictions(\n",
    "    y_test.cpu(), y_pred.cpu(),\n",
    "    display_labels=train_data.classes,\n",
    "    xticks_rotation=45,\n",
    "    cmap=sns.color_palette(\"light:b\", as_cmap=True),\n",
    "    colorbar=False,\n",
    ")\n",
    "cm_display.ax_.grid(False)\n",
    "cm_display.figure_.set_size_inches(4.5, 4.5)"
   ],
   "metadata": {
    "collapsed": false
   }
  },
  {
   "cell_type": "code",
   "execution_count": null,
   "outputs": [],
   "source": [
    "print(metrics.classification_report(y_test.cpu(), y_pred.cpu(), target_names=train_data.classes))"
   ],
   "metadata": {
    "collapsed": false
   }
  },
  {
   "cell_type": "markdown",
   "metadata": {
    "id": "5-tMy4qJ9j1k"
   },
   "source": [
    "### 3.2 Решить задачу классификации собак и кошек (датасет [cats_dogs.zip](https://disk.yandex.ru/d/wQtt5O1JF9ctnA)).\n",
    "* Загрузить архив с данными на диск\n",
    "* Создать датасет на основе файлов при помощи `torchvision.datasets.ImageFolder`\n",
    "* Преобразовать изображения к тензорами одного размера (например, 400х400). Потестировать другие преобразования из `torchvision.transforms`\n",
    "* Предложить архитектуру модели для решения задачи. Обучить модель.\n",
    "* Используя тестовое множество\n",
    "\n",
    "  * Продемонстрировать работу модели: вывести несколько изображений, указать над ними правильный класс и класс, предсказанный моделью. \n",
    "\n",
    "  * Вывести матрицу ошибок.\n",
    "\n",
    "  * Вывести значение accuracy на тестовом множестве.\n",
    "  * Добиться значения accuracy на тестовом множестве не менее 80%"
   ]
  },
  {
   "cell_type": "markdown",
   "metadata": {
    "id": "EqvleAgxfC6B"
   },
   "source": [
    "# 4. Transfer Learning"
   ]
  },
  {
   "cell_type": "markdown",
   "metadata": {
    "id": "ZjNUwuho9tm9"
   },
   "source": [
    "### 4.1 Решить задачу 3.1, воспользовавшись предобученной моделью VGG16\n",
    "* Загрузить данные для обучения\n",
    "* Преобразования: размер 224x224, нормализация с параметрами `mean=(0.485, 0.456, 0.406), std=(0.229, 0.224, 0.225)`\n",
    "* Заменить последний полносвязный слой модели в соответствии с задачей\n",
    "* Дообучить модель (не замораживать веса). Вычислить значение accuracy на тестовом множестве\n",
    "* Дообучить модель (заморозить все веса, кроме последнего блока слоев (`classifier`)). \n",
    "* Вычислить значение accuracy на тестовом множестве.\n"
   ]
  },
  {
   "cell_type": "markdown",
   "metadata": {
    "id": "Dt_hXy5a5CE8"
   },
   "source": [
    "### 4.2 Решить задачу 3.2, воспользовавшись подходящей предобученной моделью\n",
    "* Не использовать VGG16 (вместо нее можно взять resnet18 или другую)\n",
    "* Загрузить данные для обучения\n",
    "* Преобразования: размер 224x224, нормализация с параметрами `mean=(0.485, 0.456, 0.406), std=(0.229, 0.224, 0.225)`\n",
    "* Заменить последний полносвязный слой модели в соответствии с задачей\n",
    "* Дообучить модель. \n",
    "* Вычислить значение accuracy на тестовом множестве (добиться значения не меньше 97-98%)"
   ]
  }
 ],
 "metadata": {
  "accelerator": "GPU",
  "colab": {
   "collapsed_sections": [],
   "name": "blank_04_cnn.ipynb",
   "provenance": []
  },
  "kernelspec": {
   "display_name": "Python 3 (ipykernel)",
   "language": "python",
   "name": "python3"
  },
  "language_info": {
   "codemirror_mode": {
    "name": "ipython",
    "version": 3
   },
   "file_extension": ".py",
   "mimetype": "text/x-python",
   "name": "python",
   "nbconvert_exporter": "python",
   "pygments_lexer": "ipython3",
   "version": "3.9.7"
  },
  "widgets": {
   "application/vnd.jupyter.widget-state+json": {
    "56eb881fb44b4d4a91a012c082cfeec3": {
     "model_module": "@jupyter-widgets/controls",
     "model_name": "HBoxModel",
     "model_module_version": "1.5.0",
     "state": {
      "_dom_classes": [],
      "_model_module": "@jupyter-widgets/controls",
      "_model_module_version": "1.5.0",
      "_model_name": "HBoxModel",
      "_view_count": null,
      "_view_module": "@jupyter-widgets/controls",
      "_view_module_version": "1.5.0",
      "_view_name": "HBoxView",
      "box_style": "",
      "children": [
       "IPY_MODEL_ace84c49b3f14b6ba73ffcca5246d50d",
       "IPY_MODEL_81e65daecdf6454ca5477052b1537b84",
       "IPY_MODEL_6d7b5a0141ba44d2845ec94ba038afc2"
      ],
      "layout": "IPY_MODEL_59d9a008c1c64cb0add525ea46b1f35a"
     }
    },
    "ace84c49b3f14b6ba73ffcca5246d50d": {
     "model_module": "@jupyter-widgets/controls",
     "model_name": "HTMLModel",
     "model_module_version": "1.5.0",
     "state": {
      "_dom_classes": [],
      "_model_module": "@jupyter-widgets/controls",
      "_model_module_version": "1.5.0",
      "_model_name": "HTMLModel",
      "_view_count": null,
      "_view_module": "@jupyter-widgets/controls",
      "_view_module_version": "1.5.0",
      "_view_name": "HTMLView",
      "description": "",
      "description_tooltip": null,
      "layout": "IPY_MODEL_f098558d97be44189a71a9331df8be6e",
      "placeholder": "​",
      "style": "IPY_MODEL_395ca1aebe1d490a9e50411822ab37a9",
      "value": "100%"
     }
    },
    "81e65daecdf6454ca5477052b1537b84": {
     "model_module": "@jupyter-widgets/controls",
     "model_name": "FloatProgressModel",
     "model_module_version": "1.5.0",
     "state": {
      "_dom_classes": [],
      "_model_module": "@jupyter-widgets/controls",
      "_model_module_version": "1.5.0",
      "_model_name": "FloatProgressModel",
      "_view_count": null,
      "_view_module": "@jupyter-widgets/controls",
      "_view_module_version": "1.5.0",
      "_view_name": "ProgressView",
      "bar_style": "success",
      "description": "",
      "description_tooltip": null,
      "layout": "IPY_MODEL_be42375e9a5c4ea0a1da3d640ed16b51",
      "max": 26421880,
      "min": 0,
      "orientation": "horizontal",
      "style": "IPY_MODEL_aecfff01fdc24de8ab70b4c1d0d1f3fa",
      "value": 26421880
     }
    },
    "6d7b5a0141ba44d2845ec94ba038afc2": {
     "model_module": "@jupyter-widgets/controls",
     "model_name": "HTMLModel",
     "model_module_version": "1.5.0",
     "state": {
      "_dom_classes": [],
      "_model_module": "@jupyter-widgets/controls",
      "_model_module_version": "1.5.0",
      "_model_name": "HTMLModel",
      "_view_count": null,
      "_view_module": "@jupyter-widgets/controls",
      "_view_module_version": "1.5.0",
      "_view_name": "HTMLView",
      "description": "",
      "description_tooltip": null,
      "layout": "IPY_MODEL_e7d91b4ad4f4445aa7a620962fb6d9dd",
      "placeholder": "​",
      "style": "IPY_MODEL_2b86381998f745aa9427f79f7ee518f9",
      "value": " 26421880/26421880 [00:03&lt;00:00, 14007279.53it/s]"
     }
    },
    "59d9a008c1c64cb0add525ea46b1f35a": {
     "model_module": "@jupyter-widgets/base",
     "model_name": "LayoutModel",
     "model_module_version": "1.2.0",
     "state": {
      "_model_module": "@jupyter-widgets/base",
      "_model_module_version": "1.2.0",
      "_model_name": "LayoutModel",
      "_view_count": null,
      "_view_module": "@jupyter-widgets/base",
      "_view_module_version": "1.2.0",
      "_view_name": "LayoutView",
      "align_content": null,
      "align_items": null,
      "align_self": null,
      "border": null,
      "bottom": null,
      "display": null,
      "flex": null,
      "flex_flow": null,
      "grid_area": null,
      "grid_auto_columns": null,
      "grid_auto_flow": null,
      "grid_auto_rows": null,
      "grid_column": null,
      "grid_gap": null,
      "grid_row": null,
      "grid_template_areas": null,
      "grid_template_columns": null,
      "grid_template_rows": null,
      "height": null,
      "justify_content": null,
      "justify_items": null,
      "left": null,
      "margin": null,
      "max_height": null,
      "max_width": null,
      "min_height": null,
      "min_width": null,
      "object_fit": null,
      "object_position": null,
      "order": null,
      "overflow": null,
      "overflow_x": null,
      "overflow_y": null,
      "padding": null,
      "right": null,
      "top": null,
      "visibility": null,
      "width": null
     }
    },
    "f098558d97be44189a71a9331df8be6e": {
     "model_module": "@jupyter-widgets/base",
     "model_name": "LayoutModel",
     "model_module_version": "1.2.0",
     "state": {
      "_model_module": "@jupyter-widgets/base",
      "_model_module_version": "1.2.0",
      "_model_name": "LayoutModel",
      "_view_count": null,
      "_view_module": "@jupyter-widgets/base",
      "_view_module_version": "1.2.0",
      "_view_name": "LayoutView",
      "align_content": null,
      "align_items": null,
      "align_self": null,
      "border": null,
      "bottom": null,
      "display": null,
      "flex": null,
      "flex_flow": null,
      "grid_area": null,
      "grid_auto_columns": null,
      "grid_auto_flow": null,
      "grid_auto_rows": null,
      "grid_column": null,
      "grid_gap": null,
      "grid_row": null,
      "grid_template_areas": null,
      "grid_template_columns": null,
      "grid_template_rows": null,
      "height": null,
      "justify_content": null,
      "justify_items": null,
      "left": null,
      "margin": null,
      "max_height": null,
      "max_width": null,
      "min_height": null,
      "min_width": null,
      "object_fit": null,
      "object_position": null,
      "order": null,
      "overflow": null,
      "overflow_x": null,
      "overflow_y": null,
      "padding": null,
      "right": null,
      "top": null,
      "visibility": null,
      "width": null
     }
    },
    "395ca1aebe1d490a9e50411822ab37a9": {
     "model_module": "@jupyter-widgets/controls",
     "model_name": "DescriptionStyleModel",
     "model_module_version": "1.5.0",
     "state": {
      "_model_module": "@jupyter-widgets/controls",
      "_model_module_version": "1.5.0",
      "_model_name": "DescriptionStyleModel",
      "_view_count": null,
      "_view_module": "@jupyter-widgets/base",
      "_view_module_version": "1.2.0",
      "_view_name": "StyleView",
      "description_width": ""
     }
    },
    "be42375e9a5c4ea0a1da3d640ed16b51": {
     "model_module": "@jupyter-widgets/base",
     "model_name": "LayoutModel",
     "model_module_version": "1.2.0",
     "state": {
      "_model_module": "@jupyter-widgets/base",
      "_model_module_version": "1.2.0",
      "_model_name": "LayoutModel",
      "_view_count": null,
      "_view_module": "@jupyter-widgets/base",
      "_view_module_version": "1.2.0",
      "_view_name": "LayoutView",
      "align_content": null,
      "align_items": null,
      "align_self": null,
      "border": null,
      "bottom": null,
      "display": null,
      "flex": null,
      "flex_flow": null,
      "grid_area": null,
      "grid_auto_columns": null,
      "grid_auto_flow": null,
      "grid_auto_rows": null,
      "grid_column": null,
      "grid_gap": null,
      "grid_row": null,
      "grid_template_areas": null,
      "grid_template_columns": null,
      "grid_template_rows": null,
      "height": null,
      "justify_content": null,
      "justify_items": null,
      "left": null,
      "margin": null,
      "max_height": null,
      "max_width": null,
      "min_height": null,
      "min_width": null,
      "object_fit": null,
      "object_position": null,
      "order": null,
      "overflow": null,
      "overflow_x": null,
      "overflow_y": null,
      "padding": null,
      "right": null,
      "top": null,
      "visibility": null,
      "width": null
     }
    },
    "aecfff01fdc24de8ab70b4c1d0d1f3fa": {
     "model_module": "@jupyter-widgets/controls",
     "model_name": "ProgressStyleModel",
     "model_module_version": "1.5.0",
     "state": {
      "_model_module": "@jupyter-widgets/controls",
      "_model_module_version": "1.5.0",
      "_model_name": "ProgressStyleModel",
      "_view_count": null,
      "_view_module": "@jupyter-widgets/base",
      "_view_module_version": "1.2.0",
      "_view_name": "StyleView",
      "bar_color": null,
      "description_width": ""
     }
    },
    "e7d91b4ad4f4445aa7a620962fb6d9dd": {
     "model_module": "@jupyter-widgets/base",
     "model_name": "LayoutModel",
     "model_module_version": "1.2.0",
     "state": {
      "_model_module": "@jupyter-widgets/base",
      "_model_module_version": "1.2.0",
      "_model_name": "LayoutModel",
      "_view_count": null,
      "_view_module": "@jupyter-widgets/base",
      "_view_module_version": "1.2.0",
      "_view_name": "LayoutView",
      "align_content": null,
      "align_items": null,
      "align_self": null,
      "border": null,
      "bottom": null,
      "display": null,
      "flex": null,
      "flex_flow": null,
      "grid_area": null,
      "grid_auto_columns": null,
      "grid_auto_flow": null,
      "grid_auto_rows": null,
      "grid_column": null,
      "grid_gap": null,
      "grid_row": null,
      "grid_template_areas": null,
      "grid_template_columns": null,
      "grid_template_rows": null,
      "height": null,
      "justify_content": null,
      "justify_items": null,
      "left": null,
      "margin": null,
      "max_height": null,
      "max_width": null,
      "min_height": null,
      "min_width": null,
      "object_fit": null,
      "object_position": null,
      "order": null,
      "overflow": null,
      "overflow_x": null,
      "overflow_y": null,
      "padding": null,
      "right": null,
      "top": null,
      "visibility": null,
      "width": null
     }
    },
    "2b86381998f745aa9427f79f7ee518f9": {
     "model_module": "@jupyter-widgets/controls",
     "model_name": "DescriptionStyleModel",
     "model_module_version": "1.5.0",
     "state": {
      "_model_module": "@jupyter-widgets/controls",
      "_model_module_version": "1.5.0",
      "_model_name": "DescriptionStyleModel",
      "_view_count": null,
      "_view_module": "@jupyter-widgets/base",
      "_view_module_version": "1.2.0",
      "_view_name": "StyleView",
      "description_width": ""
     }
    },
    "c06dfabc76af4ed98856cb19be6b9f0f": {
     "model_module": "@jupyter-widgets/controls",
     "model_name": "HBoxModel",
     "model_module_version": "1.5.0",
     "state": {
      "_dom_classes": [],
      "_model_module": "@jupyter-widgets/controls",
      "_model_module_version": "1.5.0",
      "_model_name": "HBoxModel",
      "_view_count": null,
      "_view_module": "@jupyter-widgets/controls",
      "_view_module_version": "1.5.0",
      "_view_name": "HBoxView",
      "box_style": "",
      "children": [
       "IPY_MODEL_11ffb824a2684e918e5b43a757ca546e",
       "IPY_MODEL_392cdb009e704dba8d73dcd3417359f3",
       "IPY_MODEL_0d376bf584ce4eb589c9dfb2b8ccb3e0"
      ],
      "layout": "IPY_MODEL_05399573acee4090b36423d39d7eb74a"
     }
    },
    "11ffb824a2684e918e5b43a757ca546e": {
     "model_module": "@jupyter-widgets/controls",
     "model_name": "HTMLModel",
     "model_module_version": "1.5.0",
     "state": {
      "_dom_classes": [],
      "_model_module": "@jupyter-widgets/controls",
      "_model_module_version": "1.5.0",
      "_model_name": "HTMLModel",
      "_view_count": null,
      "_view_module": "@jupyter-widgets/controls",
      "_view_module_version": "1.5.0",
      "_view_name": "HTMLView",
      "description": "",
      "description_tooltip": null,
      "layout": "IPY_MODEL_d590fee666e34b32aeb08b5547dce629",
      "placeholder": "​",
      "style": "IPY_MODEL_40db228a5fc44cd8b900048fe0664809",
      "value": "100%"
     }
    },
    "392cdb009e704dba8d73dcd3417359f3": {
     "model_module": "@jupyter-widgets/controls",
     "model_name": "FloatProgressModel",
     "model_module_version": "1.5.0",
     "state": {
      "_dom_classes": [],
      "_model_module": "@jupyter-widgets/controls",
      "_model_module_version": "1.5.0",
      "_model_name": "FloatProgressModel",
      "_view_count": null,
      "_view_module": "@jupyter-widgets/controls",
      "_view_module_version": "1.5.0",
      "_view_name": "ProgressView",
      "bar_style": "success",
      "description": "",
      "description_tooltip": null,
      "layout": "IPY_MODEL_423d379f06fd4ecc9eef1723e1fc0401",
      "max": 29515,
      "min": 0,
      "orientation": "horizontal",
      "style": "IPY_MODEL_c266645ae3b8431fbf5d93d1cff305e3",
      "value": 29515
     }
    },
    "0d376bf584ce4eb589c9dfb2b8ccb3e0": {
     "model_module": "@jupyter-widgets/controls",
     "model_name": "HTMLModel",
     "model_module_version": "1.5.0",
     "state": {
      "_dom_classes": [],
      "_model_module": "@jupyter-widgets/controls",
      "_model_module_version": "1.5.0",
      "_model_name": "HTMLModel",
      "_view_count": null,
      "_view_module": "@jupyter-widgets/controls",
      "_view_module_version": "1.5.0",
      "_view_name": "HTMLView",
      "description": "",
      "description_tooltip": null,
      "layout": "IPY_MODEL_cce6e0241b6c43e5915e3bb9e6221494",
      "placeholder": "​",
      "style": "IPY_MODEL_b6857ec978f94dc2bf5e1449fbce40ec",
      "value": " 29515/29515 [00:00&lt;00:00, 146877.40it/s]"
     }
    },
    "05399573acee4090b36423d39d7eb74a": {
     "model_module": "@jupyter-widgets/base",
     "model_name": "LayoutModel",
     "model_module_version": "1.2.0",
     "state": {
      "_model_module": "@jupyter-widgets/base",
      "_model_module_version": "1.2.0",
      "_model_name": "LayoutModel",
      "_view_count": null,
      "_view_module": "@jupyter-widgets/base",
      "_view_module_version": "1.2.0",
      "_view_name": "LayoutView",
      "align_content": null,
      "align_items": null,
      "align_self": null,
      "border": null,
      "bottom": null,
      "display": null,
      "flex": null,
      "flex_flow": null,
      "grid_area": null,
      "grid_auto_columns": null,
      "grid_auto_flow": null,
      "grid_auto_rows": null,
      "grid_column": null,
      "grid_gap": null,
      "grid_row": null,
      "grid_template_areas": null,
      "grid_template_columns": null,
      "grid_template_rows": null,
      "height": null,
      "justify_content": null,
      "justify_items": null,
      "left": null,
      "margin": null,
      "max_height": null,
      "max_width": null,
      "min_height": null,
      "min_width": null,
      "object_fit": null,
      "object_position": null,
      "order": null,
      "overflow": null,
      "overflow_x": null,
      "overflow_y": null,
      "padding": null,
      "right": null,
      "top": null,
      "visibility": null,
      "width": null
     }
    },
    "d590fee666e34b32aeb08b5547dce629": {
     "model_module": "@jupyter-widgets/base",
     "model_name": "LayoutModel",
     "model_module_version": "1.2.0",
     "state": {
      "_model_module": "@jupyter-widgets/base",
      "_model_module_version": "1.2.0",
      "_model_name": "LayoutModel",
      "_view_count": null,
      "_view_module": "@jupyter-widgets/base",
      "_view_module_version": "1.2.0",
      "_view_name": "LayoutView",
      "align_content": null,
      "align_items": null,
      "align_self": null,
      "border": null,
      "bottom": null,
      "display": null,
      "flex": null,
      "flex_flow": null,
      "grid_area": null,
      "grid_auto_columns": null,
      "grid_auto_flow": null,
      "grid_auto_rows": null,
      "grid_column": null,
      "grid_gap": null,
      "grid_row": null,
      "grid_template_areas": null,
      "grid_template_columns": null,
      "grid_template_rows": null,
      "height": null,
      "justify_content": null,
      "justify_items": null,
      "left": null,
      "margin": null,
      "max_height": null,
      "max_width": null,
      "min_height": null,
      "min_width": null,
      "object_fit": null,
      "object_position": null,
      "order": null,
      "overflow": null,
      "overflow_x": null,
      "overflow_y": null,
      "padding": null,
      "right": null,
      "top": null,
      "visibility": null,
      "width": null
     }
    },
    "40db228a5fc44cd8b900048fe0664809": {
     "model_module": "@jupyter-widgets/controls",
     "model_name": "DescriptionStyleModel",
     "model_module_version": "1.5.0",
     "state": {
      "_model_module": "@jupyter-widgets/controls",
      "_model_module_version": "1.5.0",
      "_model_name": "DescriptionStyleModel",
      "_view_count": null,
      "_view_module": "@jupyter-widgets/base",
      "_view_module_version": "1.2.0",
      "_view_name": "StyleView",
      "description_width": ""
     }
    },
    "423d379f06fd4ecc9eef1723e1fc0401": {
     "model_module": "@jupyter-widgets/base",
     "model_name": "LayoutModel",
     "model_module_version": "1.2.0",
     "state": {
      "_model_module": "@jupyter-widgets/base",
      "_model_module_version": "1.2.0",
      "_model_name": "LayoutModel",
      "_view_count": null,
      "_view_module": "@jupyter-widgets/base",
      "_view_module_version": "1.2.0",
      "_view_name": "LayoutView",
      "align_content": null,
      "align_items": null,
      "align_self": null,
      "border": null,
      "bottom": null,
      "display": null,
      "flex": null,
      "flex_flow": null,
      "grid_area": null,
      "grid_auto_columns": null,
      "grid_auto_flow": null,
      "grid_auto_rows": null,
      "grid_column": null,
      "grid_gap": null,
      "grid_row": null,
      "grid_template_areas": null,
      "grid_template_columns": null,
      "grid_template_rows": null,
      "height": null,
      "justify_content": null,
      "justify_items": null,
      "left": null,
      "margin": null,
      "max_height": null,
      "max_width": null,
      "min_height": null,
      "min_width": null,
      "object_fit": null,
      "object_position": null,
      "order": null,
      "overflow": null,
      "overflow_x": null,
      "overflow_y": null,
      "padding": null,
      "right": null,
      "top": null,
      "visibility": null,
      "width": null
     }
    },
    "c266645ae3b8431fbf5d93d1cff305e3": {
     "model_module": "@jupyter-widgets/controls",
     "model_name": "ProgressStyleModel",
     "model_module_version": "1.5.0",
     "state": {
      "_model_module": "@jupyter-widgets/controls",
      "_model_module_version": "1.5.0",
      "_model_name": "ProgressStyleModel",
      "_view_count": null,
      "_view_module": "@jupyter-widgets/base",
      "_view_module_version": "1.2.0",
      "_view_name": "StyleView",
      "bar_color": null,
      "description_width": ""
     }
    },
    "cce6e0241b6c43e5915e3bb9e6221494": {
     "model_module": "@jupyter-widgets/base",
     "model_name": "LayoutModel",
     "model_module_version": "1.2.0",
     "state": {
      "_model_module": "@jupyter-widgets/base",
      "_model_module_version": "1.2.0",
      "_model_name": "LayoutModel",
      "_view_count": null,
      "_view_module": "@jupyter-widgets/base",
      "_view_module_version": "1.2.0",
      "_view_name": "LayoutView",
      "align_content": null,
      "align_items": null,
      "align_self": null,
      "border": null,
      "bottom": null,
      "display": null,
      "flex": null,
      "flex_flow": null,
      "grid_area": null,
      "grid_auto_columns": null,
      "grid_auto_flow": null,
      "grid_auto_rows": null,
      "grid_column": null,
      "grid_gap": null,
      "grid_row": null,
      "grid_template_areas": null,
      "grid_template_columns": null,
      "grid_template_rows": null,
      "height": null,
      "justify_content": null,
      "justify_items": null,
      "left": null,
      "margin": null,
      "max_height": null,
      "max_width": null,
      "min_height": null,
      "min_width": null,
      "object_fit": null,
      "object_position": null,
      "order": null,
      "overflow": null,
      "overflow_x": null,
      "overflow_y": null,
      "padding": null,
      "right": null,
      "top": null,
      "visibility": null,
      "width": null
     }
    },
    "b6857ec978f94dc2bf5e1449fbce40ec": {
     "model_module": "@jupyter-widgets/controls",
     "model_name": "DescriptionStyleModel",
     "model_module_version": "1.5.0",
     "state": {
      "_model_module": "@jupyter-widgets/controls",
      "_model_module_version": "1.5.0",
      "_model_name": "DescriptionStyleModel",
      "_view_count": null,
      "_view_module": "@jupyter-widgets/base",
      "_view_module_version": "1.2.0",
      "_view_name": "StyleView",
      "description_width": ""
     }
    },
    "bb1654e133b2422d9f4f6fbe5acb9fbb": {
     "model_module": "@jupyter-widgets/controls",
     "model_name": "HBoxModel",
     "model_module_version": "1.5.0",
     "state": {
      "_dom_classes": [],
      "_model_module": "@jupyter-widgets/controls",
      "_model_module_version": "1.5.0",
      "_model_name": "HBoxModel",
      "_view_count": null,
      "_view_module": "@jupyter-widgets/controls",
      "_view_module_version": "1.5.0",
      "_view_name": "HBoxView",
      "box_style": "",
      "children": [
       "IPY_MODEL_befea4d3b4f645b69f41d4ea90d25668",
       "IPY_MODEL_7cfef54b6f6b47dfbde85e0bcec4a117",
       "IPY_MODEL_6481d512945848dbb08a17943f156372"
      ],
      "layout": "IPY_MODEL_959e9a9619894004b6844971c8dacf8a"
     }
    },
    "befea4d3b4f645b69f41d4ea90d25668": {
     "model_module": "@jupyter-widgets/controls",
     "model_name": "HTMLModel",
     "model_module_version": "1.5.0",
     "state": {
      "_dom_classes": [],
      "_model_module": "@jupyter-widgets/controls",
      "_model_module_version": "1.5.0",
      "_model_name": "HTMLModel",
      "_view_count": null,
      "_view_module": "@jupyter-widgets/controls",
      "_view_module_version": "1.5.0",
      "_view_name": "HTMLView",
      "description": "",
      "description_tooltip": null,
      "layout": "IPY_MODEL_2a8304d63adb4b18a805a73f81f5d200",
      "placeholder": "​",
      "style": "IPY_MODEL_b9e0cbb7389247688519f428beb74592",
      "value": "100%"
     }
    },
    "7cfef54b6f6b47dfbde85e0bcec4a117": {
     "model_module": "@jupyter-widgets/controls",
     "model_name": "FloatProgressModel",
     "model_module_version": "1.5.0",
     "state": {
      "_dom_classes": [],
      "_model_module": "@jupyter-widgets/controls",
      "_model_module_version": "1.5.0",
      "_model_name": "FloatProgressModel",
      "_view_count": null,
      "_view_module": "@jupyter-widgets/controls",
      "_view_module_version": "1.5.0",
      "_view_name": "ProgressView",
      "bar_style": "success",
      "description": "",
      "description_tooltip": null,
      "layout": "IPY_MODEL_d05ce7a7e186420cb8bd6e2d848991ae",
      "max": 4422102,
      "min": 0,
      "orientation": "horizontal",
      "style": "IPY_MODEL_22e99f1033664b598b96b44218250a86",
      "value": 4422102
     }
    },
    "6481d512945848dbb08a17943f156372": {
     "model_module": "@jupyter-widgets/controls",
     "model_name": "HTMLModel",
     "model_module_version": "1.5.0",
     "state": {
      "_dom_classes": [],
      "_model_module": "@jupyter-widgets/controls",
      "_model_module_version": "1.5.0",
      "_model_name": "HTMLModel",
      "_view_count": null,
      "_view_module": "@jupyter-widgets/controls",
      "_view_module_version": "1.5.0",
      "_view_name": "HTMLView",
      "description": "",
      "description_tooltip": null,
      "layout": "IPY_MODEL_49f9280f619741b6a0f7639698715a94",
      "placeholder": "​",
      "style": "IPY_MODEL_71b296418b624d01bdd02e1a6efd1d57",
      "value": " 4422102/4422102 [00:01&lt;00:00, 4257428.30it/s]"
     }
    },
    "959e9a9619894004b6844971c8dacf8a": {
     "model_module": "@jupyter-widgets/base",
     "model_name": "LayoutModel",
     "model_module_version": "1.2.0",
     "state": {
      "_model_module": "@jupyter-widgets/base",
      "_model_module_version": "1.2.0",
      "_model_name": "LayoutModel",
      "_view_count": null,
      "_view_module": "@jupyter-widgets/base",
      "_view_module_version": "1.2.0",
      "_view_name": "LayoutView",
      "align_content": null,
      "align_items": null,
      "align_self": null,
      "border": null,
      "bottom": null,
      "display": null,
      "flex": null,
      "flex_flow": null,
      "grid_area": null,
      "grid_auto_columns": null,
      "grid_auto_flow": null,
      "grid_auto_rows": null,
      "grid_column": null,
      "grid_gap": null,
      "grid_row": null,
      "grid_template_areas": null,
      "grid_template_columns": null,
      "grid_template_rows": null,
      "height": null,
      "justify_content": null,
      "justify_items": null,
      "left": null,
      "margin": null,
      "max_height": null,
      "max_width": null,
      "min_height": null,
      "min_width": null,
      "object_fit": null,
      "object_position": null,
      "order": null,
      "overflow": null,
      "overflow_x": null,
      "overflow_y": null,
      "padding": null,
      "right": null,
      "top": null,
      "visibility": null,
      "width": null
     }
    },
    "2a8304d63adb4b18a805a73f81f5d200": {
     "model_module": "@jupyter-widgets/base",
     "model_name": "LayoutModel",
     "model_module_version": "1.2.0",
     "state": {
      "_model_module": "@jupyter-widgets/base",
      "_model_module_version": "1.2.0",
      "_model_name": "LayoutModel",
      "_view_count": null,
      "_view_module": "@jupyter-widgets/base",
      "_view_module_version": "1.2.0",
      "_view_name": "LayoutView",
      "align_content": null,
      "align_items": null,
      "align_self": null,
      "border": null,
      "bottom": null,
      "display": null,
      "flex": null,
      "flex_flow": null,
      "grid_area": null,
      "grid_auto_columns": null,
      "grid_auto_flow": null,
      "grid_auto_rows": null,
      "grid_column": null,
      "grid_gap": null,
      "grid_row": null,
      "grid_template_areas": null,
      "grid_template_columns": null,
      "grid_template_rows": null,
      "height": null,
      "justify_content": null,
      "justify_items": null,
      "left": null,
      "margin": null,
      "max_height": null,
      "max_width": null,
      "min_height": null,
      "min_width": null,
      "object_fit": null,
      "object_position": null,
      "order": null,
      "overflow": null,
      "overflow_x": null,
      "overflow_y": null,
      "padding": null,
      "right": null,
      "top": null,
      "visibility": null,
      "width": null
     }
    },
    "b9e0cbb7389247688519f428beb74592": {
     "model_module": "@jupyter-widgets/controls",
     "model_name": "DescriptionStyleModel",
     "model_module_version": "1.5.0",
     "state": {
      "_model_module": "@jupyter-widgets/controls",
      "_model_module_version": "1.5.0",
      "_model_name": "DescriptionStyleModel",
      "_view_count": null,
      "_view_module": "@jupyter-widgets/base",
      "_view_module_version": "1.2.0",
      "_view_name": "StyleView",
      "description_width": ""
     }
    },
    "d05ce7a7e186420cb8bd6e2d848991ae": {
     "model_module": "@jupyter-widgets/base",
     "model_name": "LayoutModel",
     "model_module_version": "1.2.0",
     "state": {
      "_model_module": "@jupyter-widgets/base",
      "_model_module_version": "1.2.0",
      "_model_name": "LayoutModel",
      "_view_count": null,
      "_view_module": "@jupyter-widgets/base",
      "_view_module_version": "1.2.0",
      "_view_name": "LayoutView",
      "align_content": null,
      "align_items": null,
      "align_self": null,
      "border": null,
      "bottom": null,
      "display": null,
      "flex": null,
      "flex_flow": null,
      "grid_area": null,
      "grid_auto_columns": null,
      "grid_auto_flow": null,
      "grid_auto_rows": null,
      "grid_column": null,
      "grid_gap": null,
      "grid_row": null,
      "grid_template_areas": null,
      "grid_template_columns": null,
      "grid_template_rows": null,
      "height": null,
      "justify_content": null,
      "justify_items": null,
      "left": null,
      "margin": null,
      "max_height": null,
      "max_width": null,
      "min_height": null,
      "min_width": null,
      "object_fit": null,
      "object_position": null,
      "order": null,
      "overflow": null,
      "overflow_x": null,
      "overflow_y": null,
      "padding": null,
      "right": null,
      "top": null,
      "visibility": null,
      "width": null
     }
    },
    "22e99f1033664b598b96b44218250a86": {
     "model_module": "@jupyter-widgets/controls",
     "model_name": "ProgressStyleModel",
     "model_module_version": "1.5.0",
     "state": {
      "_model_module": "@jupyter-widgets/controls",
      "_model_module_version": "1.5.0",
      "_model_name": "ProgressStyleModel",
      "_view_count": null,
      "_view_module": "@jupyter-widgets/base",
      "_view_module_version": "1.2.0",
      "_view_name": "StyleView",
      "bar_color": null,
      "description_width": ""
     }
    },
    "49f9280f619741b6a0f7639698715a94": {
     "model_module": "@jupyter-widgets/base",
     "model_name": "LayoutModel",
     "model_module_version": "1.2.0",
     "state": {
      "_model_module": "@jupyter-widgets/base",
      "_model_module_version": "1.2.0",
      "_model_name": "LayoutModel",
      "_view_count": null,
      "_view_module": "@jupyter-widgets/base",
      "_view_module_version": "1.2.0",
      "_view_name": "LayoutView",
      "align_content": null,
      "align_items": null,
      "align_self": null,
      "border": null,
      "bottom": null,
      "display": null,
      "flex": null,
      "flex_flow": null,
      "grid_area": null,
      "grid_auto_columns": null,
      "grid_auto_flow": null,
      "grid_auto_rows": null,
      "grid_column": null,
      "grid_gap": null,
      "grid_row": null,
      "grid_template_areas": null,
      "grid_template_columns": null,
      "grid_template_rows": null,
      "height": null,
      "justify_content": null,
      "justify_items": null,
      "left": null,
      "margin": null,
      "max_height": null,
      "max_width": null,
      "min_height": null,
      "min_width": null,
      "object_fit": null,
      "object_position": null,
      "order": null,
      "overflow": null,
      "overflow_x": null,
      "overflow_y": null,
      "padding": null,
      "right": null,
      "top": null,
      "visibility": null,
      "width": null
     }
    },
    "71b296418b624d01bdd02e1a6efd1d57": {
     "model_module": "@jupyter-widgets/controls",
     "model_name": "DescriptionStyleModel",
     "model_module_version": "1.5.0",
     "state": {
      "_model_module": "@jupyter-widgets/controls",
      "_model_module_version": "1.5.0",
      "_model_name": "DescriptionStyleModel",
      "_view_count": null,
      "_view_module": "@jupyter-widgets/base",
      "_view_module_version": "1.2.0",
      "_view_name": "StyleView",
      "description_width": ""
     }
    },
    "de8f2e178afc415d8816deb06a6bf8e6": {
     "model_module": "@jupyter-widgets/controls",
     "model_name": "HBoxModel",
     "model_module_version": "1.5.0",
     "state": {
      "_dom_classes": [],
      "_model_module": "@jupyter-widgets/controls",
      "_model_module_version": "1.5.0",
      "_model_name": "HBoxModel",
      "_view_count": null,
      "_view_module": "@jupyter-widgets/controls",
      "_view_module_version": "1.5.0",
      "_view_name": "HBoxView",
      "box_style": "",
      "children": [
       "IPY_MODEL_f18dee6bb07742308f1fe0c1ba205b4f",
       "IPY_MODEL_5bb27715f25e45c7bcfa1f51b7c6a810",
       "IPY_MODEL_041094e631d54e75a39104d41aa253b7"
      ],
      "layout": "IPY_MODEL_8c660e8b632d4b83966ec32b69a58d62"
     }
    },
    "f18dee6bb07742308f1fe0c1ba205b4f": {
     "model_module": "@jupyter-widgets/controls",
     "model_name": "HTMLModel",
     "model_module_version": "1.5.0",
     "state": {
      "_dom_classes": [],
      "_model_module": "@jupyter-widgets/controls",
      "_model_module_version": "1.5.0",
      "_model_name": "HTMLModel",
      "_view_count": null,
      "_view_module": "@jupyter-widgets/controls",
      "_view_module_version": "1.5.0",
      "_view_name": "HTMLView",
      "description": "",
      "description_tooltip": null,
      "layout": "IPY_MODEL_18f2ab78ff4b4e869316ae4bb548a7ce",
      "placeholder": "​",
      "style": "IPY_MODEL_0caaf62a2d1243daaa38b5f9329ff61d",
      "value": "100%"
     }
    },
    "5bb27715f25e45c7bcfa1f51b7c6a810": {
     "model_module": "@jupyter-widgets/controls",
     "model_name": "FloatProgressModel",
     "model_module_version": "1.5.0",
     "state": {
      "_dom_classes": [],
      "_model_module": "@jupyter-widgets/controls",
      "_model_module_version": "1.5.0",
      "_model_name": "FloatProgressModel",
      "_view_count": null,
      "_view_module": "@jupyter-widgets/controls",
      "_view_module_version": "1.5.0",
      "_view_name": "ProgressView",
      "bar_style": "success",
      "description": "",
      "description_tooltip": null,
      "layout": "IPY_MODEL_70a189d601f9490c98f89989869375eb",
      "max": 5148,
      "min": 0,
      "orientation": "horizontal",
      "style": "IPY_MODEL_5ce24e2158c2428e975ab137da0696f8",
      "value": 5148
     }
    },
    "041094e631d54e75a39104d41aa253b7": {
     "model_module": "@jupyter-widgets/controls",
     "model_name": "HTMLModel",
     "model_module_version": "1.5.0",
     "state": {
      "_dom_classes": [],
      "_model_module": "@jupyter-widgets/controls",
      "_model_module_version": "1.5.0",
      "_model_name": "HTMLModel",
      "_view_count": null,
      "_view_module": "@jupyter-widgets/controls",
      "_view_module_version": "1.5.0",
      "_view_name": "HTMLView",
      "description": "",
      "description_tooltip": null,
      "layout": "IPY_MODEL_8350494d1ddd43c59b3839b58ec7a883",
      "placeholder": "​",
      "style": "IPY_MODEL_cf2ebb4659604101983a21de9b5dce72",
      "value": " 5148/5148 [00:00&lt;00:00, 61068.79it/s]"
     }
    },
    "8c660e8b632d4b83966ec32b69a58d62": {
     "model_module": "@jupyter-widgets/base",
     "model_name": "LayoutModel",
     "model_module_version": "1.2.0",
     "state": {
      "_model_module": "@jupyter-widgets/base",
      "_model_module_version": "1.2.0",
      "_model_name": "LayoutModel",
      "_view_count": null,
      "_view_module": "@jupyter-widgets/base",
      "_view_module_version": "1.2.0",
      "_view_name": "LayoutView",
      "align_content": null,
      "align_items": null,
      "align_self": null,
      "border": null,
      "bottom": null,
      "display": null,
      "flex": null,
      "flex_flow": null,
      "grid_area": null,
      "grid_auto_columns": null,
      "grid_auto_flow": null,
      "grid_auto_rows": null,
      "grid_column": null,
      "grid_gap": null,
      "grid_row": null,
      "grid_template_areas": null,
      "grid_template_columns": null,
      "grid_template_rows": null,
      "height": null,
      "justify_content": null,
      "justify_items": null,
      "left": null,
      "margin": null,
      "max_height": null,
      "max_width": null,
      "min_height": null,
      "min_width": null,
      "object_fit": null,
      "object_position": null,
      "order": null,
      "overflow": null,
      "overflow_x": null,
      "overflow_y": null,
      "padding": null,
      "right": null,
      "top": null,
      "visibility": null,
      "width": null
     }
    },
    "18f2ab78ff4b4e869316ae4bb548a7ce": {
     "model_module": "@jupyter-widgets/base",
     "model_name": "LayoutModel",
     "model_module_version": "1.2.0",
     "state": {
      "_model_module": "@jupyter-widgets/base",
      "_model_module_version": "1.2.0",
      "_model_name": "LayoutModel",
      "_view_count": null,
      "_view_module": "@jupyter-widgets/base",
      "_view_module_version": "1.2.0",
      "_view_name": "LayoutView",
      "align_content": null,
      "align_items": null,
      "align_self": null,
      "border": null,
      "bottom": null,
      "display": null,
      "flex": null,
      "flex_flow": null,
      "grid_area": null,
      "grid_auto_columns": null,
      "grid_auto_flow": null,
      "grid_auto_rows": null,
      "grid_column": null,
      "grid_gap": null,
      "grid_row": null,
      "grid_template_areas": null,
      "grid_template_columns": null,
      "grid_template_rows": null,
      "height": null,
      "justify_content": null,
      "justify_items": null,
      "left": null,
      "margin": null,
      "max_height": null,
      "max_width": null,
      "min_height": null,
      "min_width": null,
      "object_fit": null,
      "object_position": null,
      "order": null,
      "overflow": null,
      "overflow_x": null,
      "overflow_y": null,
      "padding": null,
      "right": null,
      "top": null,
      "visibility": null,
      "width": null
     }
    },
    "0caaf62a2d1243daaa38b5f9329ff61d": {
     "model_module": "@jupyter-widgets/controls",
     "model_name": "DescriptionStyleModel",
     "model_module_version": "1.5.0",
     "state": {
      "_model_module": "@jupyter-widgets/controls",
      "_model_module_version": "1.5.0",
      "_model_name": "DescriptionStyleModel",
      "_view_count": null,
      "_view_module": "@jupyter-widgets/base",
      "_view_module_version": "1.2.0",
      "_view_name": "StyleView",
      "description_width": ""
     }
    },
    "70a189d601f9490c98f89989869375eb": {
     "model_module": "@jupyter-widgets/base",
     "model_name": "LayoutModel",
     "model_module_version": "1.2.0",
     "state": {
      "_model_module": "@jupyter-widgets/base",
      "_model_module_version": "1.2.0",
      "_model_name": "LayoutModel",
      "_view_count": null,
      "_view_module": "@jupyter-widgets/base",
      "_view_module_version": "1.2.0",
      "_view_name": "LayoutView",
      "align_content": null,
      "align_items": null,
      "align_self": null,
      "border": null,
      "bottom": null,
      "display": null,
      "flex": null,
      "flex_flow": null,
      "grid_area": null,
      "grid_auto_columns": null,
      "grid_auto_flow": null,
      "grid_auto_rows": null,
      "grid_column": null,
      "grid_gap": null,
      "grid_row": null,
      "grid_template_areas": null,
      "grid_template_columns": null,
      "grid_template_rows": null,
      "height": null,
      "justify_content": null,
      "justify_items": null,
      "left": null,
      "margin": null,
      "max_height": null,
      "max_width": null,
      "min_height": null,
      "min_width": null,
      "object_fit": null,
      "object_position": null,
      "order": null,
      "overflow": null,
      "overflow_x": null,
      "overflow_y": null,
      "padding": null,
      "right": null,
      "top": null,
      "visibility": null,
      "width": null
     }
    },
    "5ce24e2158c2428e975ab137da0696f8": {
     "model_module": "@jupyter-widgets/controls",
     "model_name": "ProgressStyleModel",
     "model_module_version": "1.5.0",
     "state": {
      "_model_module": "@jupyter-widgets/controls",
      "_model_module_version": "1.5.0",
      "_model_name": "ProgressStyleModel",
      "_view_count": null,
      "_view_module": "@jupyter-widgets/base",
      "_view_module_version": "1.2.0",
      "_view_name": "StyleView",
      "bar_color": null,
      "description_width": ""
     }
    },
    "8350494d1ddd43c59b3839b58ec7a883": {
     "model_module": "@jupyter-widgets/base",
     "model_name": "LayoutModel",
     "model_module_version": "1.2.0",
     "state": {
      "_model_module": "@jupyter-widgets/base",
      "_model_module_version": "1.2.0",
      "_model_name": "LayoutModel",
      "_view_count": null,
      "_view_module": "@jupyter-widgets/base",
      "_view_module_version": "1.2.0",
      "_view_name": "LayoutView",
      "align_content": null,
      "align_items": null,
      "align_self": null,
      "border": null,
      "bottom": null,
      "display": null,
      "flex": null,
      "flex_flow": null,
      "grid_area": null,
      "grid_auto_columns": null,
      "grid_auto_flow": null,
      "grid_auto_rows": null,
      "grid_column": null,
      "grid_gap": null,
      "grid_row": null,
      "grid_template_areas": null,
      "grid_template_columns": null,
      "grid_template_rows": null,
      "height": null,
      "justify_content": null,
      "justify_items": null,
      "left": null,
      "margin": null,
      "max_height": null,
      "max_width": null,
      "min_height": null,
      "min_width": null,
      "object_fit": null,
      "object_position": null,
      "order": null,
      "overflow": null,
      "overflow_x": null,
      "overflow_y": null,
      "padding": null,
      "right": null,
      "top": null,
      "visibility": null,
      "width": null
     }
    },
    "cf2ebb4659604101983a21de9b5dce72": {
     "model_module": "@jupyter-widgets/controls",
     "model_name": "DescriptionStyleModel",
     "model_module_version": "1.5.0",
     "state": {
      "_model_module": "@jupyter-widgets/controls",
      "_model_module_version": "1.5.0",
      "_model_name": "DescriptionStyleModel",
      "_view_count": null,
      "_view_module": "@jupyter-widgets/base",
      "_view_module_version": "1.2.0",
      "_view_name": "StyleView",
      "description_width": ""
     }
    }
   }
  }
 },
 "nbformat": 4,
 "nbformat_minor": 0
}
