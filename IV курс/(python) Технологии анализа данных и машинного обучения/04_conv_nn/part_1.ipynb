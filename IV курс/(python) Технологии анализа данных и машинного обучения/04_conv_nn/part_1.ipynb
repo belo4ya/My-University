{
 "cells": [
  {
   "cell_type": "markdown",
   "metadata": {
    "id": "_jAHzfAp_uKt"
   },
   "source": [
    "# 4. Сверточные нейронные сети.\n",
    "\n",
    "__Автор__: Никита Владимирович Блохин (NVBlokhin@fa.ru)\n",
    "\n",
    "Финансовый университет, 2020 г."
   ]
  },
  {
   "cell_type": "code",
   "execution_count": 1,
   "outputs": [],
   "source": [
    "import typing as t\n",
    "from collections import OrderedDict\n",
    "from pathlib import Path\n",
    "\n",
    "import matplotlib.pyplot as plt\n",
    "import seaborn as sns\n",
    "import torch\n",
    "import torch.nn as nn\n",
    "import torch.nn.functional as F\n",
    "import torch.optim as optim\n",
    "from sklearn import metrics\n",
    "from torch.utils.data import DataLoader, Dataset\n",
    "from torchvision import datasets, transforms\n",
    "from tqdm import tqdm"
   ],
   "metadata": {
    "id": "cqOvcGas_uKz"
   }
  },
  {
   "cell_type": "code",
   "execution_count": 2,
   "outputs": [],
   "source": [
    "# @formatter:off\n",
    "%matplotlib inline\n",
    "# @formatter:on"
   ],
   "metadata": {
    "id": "C3uBFXzP_uK2"
   }
  },
  {
   "cell_type": "code",
   "execution_count": 3,
   "outputs": [],
   "source": [
    "torch.set_warn_always(True)\n",
    "\n",
    "sns.set_theme()\n",
    "plt.rcParams[\"figure.figsize\"] = (8, 4)"
   ],
   "metadata": {
    "id": "dzwlSnbE_uK2"
   }
  },
  {
   "cell_type": "code",
   "execution_count": 4,
   "outputs": [],
   "source": [
    "DATA_DIR = Path(\"data/\")\n",
    "DATA_DIR.mkdir(exist_ok=True)\n",
    "MODELS_DIR = Path(\"models/\")\n",
    "MODELS_DIR.mkdir(exist_ok=True)\n",
    "COLAB_DATA_DIR = Path(\"/content/drive/MyDrive/Colab Notebooks/ML\")"
   ],
   "metadata": {
    "id": "oZjaDD3P_uK3"
   }
  },
  {
   "cell_type": "code",
   "execution_count": 5,
   "outputs": [
    {
     "output_type": "stream",
     "name": "stdout",
     "text": [
      "Using cuda device\n"
     ]
    }
   ],
   "source": [
    "DEVICE = \"cuda\" if torch.cuda.is_available() else \"cpu\"\n",
    "print(f\"Using {DEVICE} device\")"
   ],
   "metadata": {
    "colab": {
     "base_uri": "https://localhost:8080/"
    },
    "id": "AIXojL_v_uK4",
    "outputId": "bd3bdf52-bfa7-41b7-b267-2282b2c07179"
   }
  },
  {
   "cell_type": "code",
   "execution_count": null,
   "outputs": [],
   "source": [
    "def is_colab() -> bool:\n",
    "    return DEVICE == \"cuda\""
   ],
   "metadata": {
    "collapsed": false
   }
  },
  {
   "cell_type": "markdown",
   "metadata": {
    "id": "403Mis3LAgED"
   },
   "source": [
    "## 1. Классификация предметов одежды (датасет Fashion MNIST)\n"
   ]
  },
  {
   "cell_type": "markdown",
   "metadata": {
    "id": "Mn6r8tMDQsaU"
   },
   "source": [
    "\n",
    "### 1.1 Решить задачу классификации, не используя сверточные слои. \n",
    "* Предложить архитектуру модели для решения задачи\n",
    "* Посчитать количество параметров модели.\n",
    "* Обучить модель\n",
    "* Вывести график функции потерь по эпохам. \n",
    "* Используя тестовое множество\n",
    "\n",
    "  * Продемонстрировать работу модели: вывести несколько изображений, указать над ними правильный класс и класс, предсказанный моделью. \n",
    "\n",
    "  * Вывести матрицу ошибок.\n",
    "\n",
    "  * Вывести значение accuracy на тестовом множестве.\n",
    "* Сохранить модель"
   ]
  },
  {
   "cell_type": "code",
   "execution_count": 6,
   "outputs": [
    {
     "output_type": "stream",
     "name": "stdout",
     "text": [
      "Downloading http://fashion-mnist.s3-website.eu-central-1.amazonaws.com/train-images-idx3-ubyte.gz\n",
      "Downloading http://fashion-mnist.s3-website.eu-central-1.amazonaws.com/train-images-idx3-ubyte.gz to data/FashionMNIST/raw/train-images-idx3-ubyte.gz\n"
     ]
    },
    {
     "output_type": "display_data",
     "data": {
      "text/plain": [
       "  0%|          | 0/26421880 [00:00<?, ?it/s]"
      ],
      "application/vnd.jupyter.widget-view+json": {
       "version_major": 2,
       "version_minor": 0,
       "model_id": "bad879b24d28422aaa8e668d04b76598"
      }
     },
     "metadata": {}
    },
    {
     "output_type": "stream",
     "name": "stdout",
     "text": [
      "Extracting data/FashionMNIST/raw/train-images-idx3-ubyte.gz to data/FashionMNIST/raw\n",
      "\n",
      "Downloading http://fashion-mnist.s3-website.eu-central-1.amazonaws.com/train-labels-idx1-ubyte.gz\n",
      "Downloading http://fashion-mnist.s3-website.eu-central-1.amazonaws.com/train-labels-idx1-ubyte.gz to data/FashionMNIST/raw/train-labels-idx1-ubyte.gz\n"
     ]
    },
    {
     "output_type": "display_data",
     "data": {
      "text/plain": [
       "  0%|          | 0/29515 [00:00<?, ?it/s]"
      ],
      "application/vnd.jupyter.widget-view+json": {
       "version_major": 2,
       "version_minor": 0,
       "model_id": "72456a91ef3a4f59ad293334d861231c"
      }
     },
     "metadata": {}
    },
    {
     "output_type": "stream",
     "name": "stdout",
     "text": [
      "Extracting data/FashionMNIST/raw/train-labels-idx1-ubyte.gz to data/FashionMNIST/raw\n",
      "\n",
      "Downloading http://fashion-mnist.s3-website.eu-central-1.amazonaws.com/t10k-images-idx3-ubyte.gz\n",
      "Downloading http://fashion-mnist.s3-website.eu-central-1.amazonaws.com/t10k-images-idx3-ubyte.gz to data/FashionMNIST/raw/t10k-images-idx3-ubyte.gz\n"
     ]
    },
    {
     "output_type": "display_data",
     "data": {
      "text/plain": [
       "  0%|          | 0/4422102 [00:00<?, ?it/s]"
      ],
      "application/vnd.jupyter.widget-view+json": {
       "version_major": 2,
       "version_minor": 0,
       "model_id": "ea8847e48db540699ca2e223e6af6bdd"
      }
     },
     "metadata": {}
    },
    {
     "output_type": "stream",
     "name": "stdout",
     "text": [
      "Extracting data/FashionMNIST/raw/t10k-images-idx3-ubyte.gz to data/FashionMNIST/raw\n",
      "\n",
      "Downloading http://fashion-mnist.s3-website.eu-central-1.amazonaws.com/t10k-labels-idx1-ubyte.gz\n",
      "Downloading http://fashion-mnist.s3-website.eu-central-1.amazonaws.com/t10k-labels-idx1-ubyte.gz to data/FashionMNIST/raw/t10k-labels-idx1-ubyte.gz\n"
     ]
    },
    {
     "output_type": "display_data",
     "data": {
      "text/plain": [
       "  0%|          | 0/5148 [00:00<?, ?it/s]"
      ],
      "application/vnd.jupyter.widget-view+json": {
       "version_major": 2,
       "version_minor": 0,
       "model_id": "038cd814c1314326bf6fdc94cfdc3f15"
      }
     },
     "metadata": {}
    },
    {
     "output_type": "stream",
     "name": "stdout",
     "text": [
      "Extracting data/FashionMNIST/raw/t10k-labels-idx1-ubyte.gz to data/FashionMNIST/raw\n",
      "\n"
     ]
    },
    {
     "output_type": "execute_result",
     "data": {
      "text/plain": [
       "(torch.Size([60000, 28, 28]), torch.Size([60000]), 10)"
      ]
     },
     "metadata": {},
     "execution_count": 6
    }
   ],
   "source": [
    "_data = datasets.FashionMNIST(\n",
    "    root=DATA_DIR,\n",
    "    train=True,\n",
    "    download=True,\n",
    ").data.to(torch.float32)\n",
    "\n",
    "transform = transforms.Compose([\n",
    "    transforms.ToTensor(),\n",
    "    transforms.Normalize((_data.mean() / 255,), (_data.std() / 255,)),\n",
    "])\n",
    "\n",
    "train_data = datasets.FashionMNIST(\n",
    "    root=DATA_DIR,\n",
    "    train=True,\n",
    "    download=True,\n",
    "    transform=transform,\n",
    ")\n",
    "\n",
    "test_data = datasets.FashionMNIST(\n",
    "    root=DATA_DIR,\n",
    "    train=False,\n",
    "    download=True,\n",
    "    transform=transform,\n",
    ")\n",
    "\n",
    "train_data.data.size(), train_data.targets.size(), len(train_data.classes)"
   ],
   "metadata": {
    "colab": {
     "base_uri": "https://localhost:8080/",
     "height": 440,
     "referenced_widgets": [
      "bad879b24d28422aaa8e668d04b76598",
      "4afa54ea9cc24248bbbe3cb97bde9b7b",
      "7ae15e9b9d1949fb8fa2213384d71386",
      "b620d5e3b0874dd5960cae72828b58db",
      "8bb7d64a07d34c38b5a03f49fd2e7c62",
      "d55b441083584c12b6961c2ea147a521",
      "f0cff23d93d34e409599ca8ce3b1924a",
      "f65fd2474e194c74a2a57e09f5c6f335",
      "a41b8875118642759279b0d29c66d56f",
      "785ded6986e14d38aee76920f6416f9f",
      "1ad8ea1530ec4b979a29175823f9f6e5",
      "72456a91ef3a4f59ad293334d861231c",
      "4c77a35091554ce0ac7c0db00f8dc4bd",
      "33f00fb494d74388811c9fe3c295e3e4",
      "d33a335e1df748b3a2ce09c73d0f0d83",
      "62bc42bdd4604ca381552038772ab5a0",
      "56daca7bf7044e36b6e1e10ac96653af",
      "7d4e6bf3392e487f84f280c6af788e6f",
      "75e9e1caa79040c78dc763bbe0fda862",
      "8f89f17abced4caaa7045ef1922ba57b",
      "abdc23a1aad24789848f7d9cbcd8f231",
      "c839b359211a49e2aa686536df2c9b7a",
      "ea8847e48db540699ca2e223e6af6bdd",
      "60814c1ae0724df98b54ffe6b55090a7",
      "eaf369640c414194bcbf8314fe419343",
      "8195dc6ffc444bd8b2168d40efadf89c",
      "77e5378b4b714409b55406acc5d8c57f",
      "28b8ea9610bc404784981592b214838c",
      "2fe62876c4c445168a11a464ab6a4d31",
      "fff7b95df49a40c39a88f2859c766525",
      "a76218a41bd74be6ae07a9838297b75f",
      "3e4aff2b2f4042dea1b8f7fa94529cc1",
      "3bcef2c29ec34487883ea6065845a502",
      "038cd814c1314326bf6fdc94cfdc3f15",
      "392435d0be744b03b2e181071675c3dd",
      "0a7f1993628a44578ec612fe4bbf35c0",
      "55b5a5998e2b4887b27b6a91590d529e",
      "1c9602dc8e17471e98f0943a8f053218",
      "0745576fcb434e6c85bd3fce3c968f44",
      "8331932e8075499b9829ccb1f28ed0c6",
      "7f4210df667d4675934361e2412f2e0e",
      "2a4eda5fd6a8424392f1bd9da91f692a",
      "75aef09e1fa34b00918056bebe3cb96d",
      "f378b8b9ea444582b334917ce149d07b"
     ]
    },
    "id": "0kn4k9_C_uK8",
    "outputId": "465b23a2-e520-4b0f-c0f7-27efa9593d7b"
   }
  },
  {
   "cell_type": "code",
   "execution_count": 7,
   "outputs": [
    {
     "output_type": "display_data",
     "data": {
      "text/plain": [
       "<Figure size 576x576 with 9 Axes>"
      ],
      "image/png": "[encoded data removed]"
     },
     "metadata": {}
    }
   ],
   "source": [
    "torch.manual_seed(0)\n",
    "\n",
    "fig = plt.figure(figsize=(8, 8))\n",
    "cols, rows = 3, 3\n",
    "for i in range(1, cols * rows + 1):\n",
    "    sample_idx = torch.randint(len(train_data), size=(1,)).item()\n",
    "    img, label = train_data[sample_idx]\n",
    "    fig.add_subplot(rows, cols, i)\n",
    "    plt.title(train_data.classes[label])\n",
    "    plt.axis(\"off\")\n",
    "    plt.imshow(img.squeeze(), cmap=\"gray\")"
   ],
   "metadata": {
    "colab": {
     "base_uri": "https://localhost:8080/",
     "height": 482
    },
    "id": "NbuP6vKk_uK9",
    "outputId": "36259ddc-b665-4a4a-a512-b701d7907e06"
   }
  },
  {
   "cell_type": "markdown",
   "source": [
    "Архитектура модели взята из **[Introduction to PyTorch](https://pytorch.org/tutorials/beginner/basics/buildmodel_tutorial.html#define-the-class)**:"
   ],
   "metadata": {
    "collapsed": false,
    "id": "TYGuZnCJ_uK-"
   }
  },
  {
   "cell_type": "code",
   "execution_count": 8,
   "outputs": [],
   "source": [
    "class FashionMNISTLogisticRegression(nn.Module):\n",
    "\n",
    "    def __init__(self, in_features: int, out_features: int):\n",
    "        super(FashionMNISTLogisticRegression, self).__init__()\n",
    "        self.flatten = nn.Flatten()  # по умолчанию разворачивает все измерения начиная со 2-ого\n",
    "        self.classifier = nn.Sequential(\n",
    "            nn.Linear(in_features, 512),\n",
    "            nn.ReLU(),\n",
    "            nn.Linear(512, 512),\n",
    "            nn.ReLU(),\n",
    "            nn.Linear(512, out_features),\n",
    "        )\n",
    "\n",
    "    def forward(self, x):\n",
    "        x = self.flatten(x)  # (batch_size, n_channels * width * height)\n",
    "        return self.classifier(x)"
   ],
   "metadata": {
    "id": "K2Jqds_j_uK_"
   }
  },
  {
   "cell_type": "code",
   "execution_count": 9,
   "outputs": [],
   "source": [
    "def train_loop(\n",
    "        dataloader: DataLoader,\n",
    "        model: nn.Module,\n",
    "        loss_fn: nn.Module,\n",
    "        optimizer: optim.Optimizer,\n",
    "        verbose: int = 100,\n",
    ") -> torch.Tensor:\n",
    "    model.train()\n",
    "\n",
    "    size = len(dataloader.dataset)  # noqa\n",
    "    num_batches = len(dataloader)\n",
    "    avg_loss = 0\n",
    "\n",
    "    for batch, (x, y) in enumerate(dataloader):\n",
    "        x, y = x.to(DEVICE), y.to(DEVICE)\n",
    "\n",
    "        pred = model(x)  # (batch_size, n_classes)\n",
    "        loss = loss_fn(pred, y)\n",
    "\n",
    "        optimizer.zero_grad()\n",
    "        loss.backward()\n",
    "        optimizer.step()\n",
    "\n",
    "        avg_loss += loss\n",
    "        if batch % verbose == 0:\n",
    "            print(f\"loss: {loss:>7f}  [{batch * len(x):>5d}/{size:>5d}]\")\n",
    "\n",
    "    return avg_loss / num_batches\n",
    "\n",
    "\n",
    "def test_loop(\n",
    "        dataloader: DataLoader,\n",
    "        model: nn.Module,\n",
    "        loss_fn: nn.Module,\n",
    ") -> t.Tuple[torch.Tensor, torch.Tensor]:\n",
    "    model.eval()\n",
    "\n",
    "    size = len(dataloader.dataset)  # noqa\n",
    "    num_batches = len(dataloader)\n",
    "    avg_loss, correct = 0, 0\n",
    "\n",
    "    with torch.no_grad():\n",
    "        for x, y in dataloader:  # умеет работать с batch'ами; в нашем случае batch один\n",
    "            x, y = x.to(DEVICE), y.to(DEVICE)\n",
    "            pred = model(x)\n",
    "            avg_loss += loss_fn(pred, y)\n",
    "            correct += (pred.argmax(1) == y).type(torch.float).sum().item()  # noqa\n",
    "\n",
    "    avg_loss /= num_batches\n",
    "    accuracy = correct / size\n",
    "    print(f\"Test Error: \\n Accuracy: {accuracy:>4f}, Avg loss: {avg_loss:>8f} \\n\")\n",
    "\n",
    "    return avg_loss, accuracy"
   ],
   "metadata": {
    "id": "Q37HaXM6_uK_"
   }
  },
  {
   "cell_type": "markdown",
   "source": [
    "Функция [потерь](https://pytorch.org/tutorials/beginner/basics/optimization_tutorial.html#loss-function) и [оптимизатор](https://pytorch.org/tutorials/beginner/basics/optimization_tutorial.html#optimizer) взяты из **Introduction to PyTorch**:"
   ],
   "metadata": {
    "collapsed": false,
    "id": "IcqO3SZ5_uLA"
   }
  },
  {
   "cell_type": "code",
   "execution_count": 10,
   "outputs": [
    {
     "output_type": "execute_result",
     "data": {
      "text/plain": [
       "FashionMNISTLogisticRegression(\n",
       "  (flatten): Flatten(start_dim=1, end_dim=-1)\n",
       "  (classifier): Sequential(\n",
       "    (0): Linear(in_features=784, out_features=512, bias=True)\n",
       "    (1): ReLU()\n",
       "    (2): Linear(in_features=512, out_features=512, bias=True)\n",
       "    (3): ReLU()\n",
       "    (4): Linear(in_features=512, out_features=10, bias=True)\n",
       "  )\n",
       ")"
      ]
     },
     "metadata": {},
     "execution_count": 10
    }
   ],
   "source": [
    "torch.manual_seed(0)\n",
    "\n",
    "# количество входных параметров модели определяется как произведение:\n",
    "# кол-во цветовых каналов * ширина картинки * высота картинки\n",
    "net = FashionMNISTLogisticRegression(1 * 28 * 28, 10).to(DEVICE)\n",
    "loss_fn = nn.CrossEntropyLoss()\n",
    "optimizer = optim.SGD(net.parameters(), lr=0.001)\n",
    "\n",
    "train_dataloader = DataLoader(\n",
    "    train_data,\n",
    "    batch_size=64,\n",
    "    num_workers=2 if is_colab() else 0,\n",
    ")\n",
    "test_dataloader = DataLoader(\n",
    "    test_data,\n",
    "    batch_size=len(test_data),\n",
    "    num_workers=2 if is_colab() else 0,\n",
    ")\n",
    "\n",
    "net"
   ],
   "metadata": {
    "colab": {
     "base_uri": "https://localhost:8080/"
    },
    "id": "G6v2ZX5-_uLA",
    "outputId": "020975e0-882d-4b06-ad4d-5054975dcab4"
   }
  },
  {
   "cell_type": "markdown",
   "source": [
    "Обучаем модель:"
   ],
   "metadata": {
    "collapsed": false,
    "id": "phXAaRy6_uLB"
   }
  },
  {
   "cell_type": "code",
   "execution_count": 11,
   "outputs": [
    {
     "output_type": "stream",
     "name": "stdout",
     "text": [
      "Epoch 1\n",
      "--------------------------------\n",
      "loss: 2.299407  [    0/60000]\n",
      "loss: 2.245826  [ 6400/60000]\n",
      "loss: 2.148032  [12800/60000]\n",
      "loss: 2.109230  [19200/60000]\n",
      "loss: 1.964170  [25600/60000]\n",
      "loss: 1.873128  [32000/60000]\n",
      "loss: 1.765596  [38400/60000]\n",
      "loss: 1.640909  [44800/60000]\n",
      "loss: 1.568382  [51200/60000]\n",
      "loss: 1.412620  [57600/60000]\n",
      "Test Error: \n",
      " Accuracy: 0.639700, Avg loss: 1.403269 \n",
      "\n",
      "Epoch 2\n",
      "--------------------------------\n",
      "loss: 1.437996  [    0/60000]\n",
      "loss: 1.420322  [ 6400/60000]\n",
      "loss: 1.167585  [12800/60000]\n",
      "loss: 1.301452  [19200/60000]\n",
      "loss: 1.074438  [25600/60000]\n",
      "loss: 1.099373  [32000/60000]\n",
      "loss: 1.062042  [38400/60000]\n",
      "loss: 1.011352  [44800/60000]\n",
      "loss: 1.048614  [51200/60000]\n",
      "loss: 0.958107  [57600/60000]\n",
      "Test Error: \n",
      " Accuracy: 0.719900, Avg loss: 0.933654 \n",
      "\n",
      "Epoch 3\n",
      "--------------------------------\n",
      "loss: 0.948851  [    0/60000]\n",
      "loss: 1.005085  [ 6400/60000]\n",
      "loss: 0.747223  [12800/60000]\n",
      "loss: 0.985312  [19200/60000]\n",
      "loss: 0.843050  [25600/60000]\n",
      "loss: 0.860392  [32000/60000]\n",
      "loss: 0.853571  [38400/60000]\n",
      "loss: 0.823208  [44800/60000]\n",
      "loss: 0.876243  [51200/60000]\n",
      "loss: 0.799896  [57600/60000]\n",
      "Test Error: \n",
      " Accuracy: 0.741600, Avg loss: 0.774520 \n",
      "\n",
      "Epoch 4\n",
      "--------------------------------\n",
      "loss: 0.745281  [    0/60000]\n",
      "loss: 0.835050  [ 6400/60000]\n",
      "loss: 0.585660  [12800/60000]\n",
      "loss: 0.848541  [19200/60000]\n",
      "loss: 0.767664  [25600/60000]\n",
      "loss: 0.752812  [32000/60000]\n",
      "loss: 0.758873  [38400/60000]\n",
      "loss: 0.743880  [44800/60000]\n",
      "loss: 0.792437  [51200/60000]\n",
      "loss: 0.718274  [57600/60000]\n",
      "Test Error: \n",
      " Accuracy: 0.757800, Avg loss: 0.695010 \n",
      "\n",
      "Epoch 5\n",
      "--------------------------------\n",
      "loss: 0.633235  [    0/60000]\n",
      "loss: 0.739588  [ 6400/60000]\n",
      "loss: 0.503011  [12800/60000]\n",
      "loss: 0.775435  [19200/60000]\n",
      "loss: 0.722508  [25600/60000]\n",
      "loss: 0.693713  [32000/60000]\n",
      "loss: 0.705230  [38400/60000]\n",
      "loss: 0.705427  [44800/60000]\n",
      "loss: 0.746582  [51200/60000]\n",
      "loss: 0.666706  [57600/60000]\n",
      "Test Error: \n",
      " Accuracy: 0.771300, Avg loss: 0.646853 \n",
      "\n",
      "Epoch 6\n",
      "--------------------------------\n",
      "loss: 0.565074  [    0/60000]\n",
      "loss: 0.678645  [ 6400/60000]\n",
      "loss: 0.453853  [12800/60000]\n",
      "loss: 0.729855  [19200/60000]\n",
      "loss: 0.684728  [25600/60000]\n",
      "loss: 0.657362  [32000/60000]\n",
      "loss: 0.667646  [38400/60000]\n",
      "loss: 0.684254  [44800/60000]\n",
      "loss: 0.718180  [51200/60000]\n",
      "loss: 0.628619  [57600/60000]\n",
      "Test Error: \n",
      " Accuracy: 0.783000, Avg loss: 0.613384 \n",
      "\n",
      "Epoch 7\n",
      "--------------------------------\n",
      "loss: 0.519805  [    0/60000]\n",
      "loss: 0.635949  [ 6400/60000]\n",
      "loss: 0.421324  [12800/60000]\n",
      "loss: 0.697550  [19200/60000]\n",
      "loss: 0.650370  [25600/60000]\n",
      "loss: 0.632345  [32000/60000]\n",
      "loss: 0.637562  [38400/60000]\n",
      "loss: 0.671385  [44800/60000]\n",
      "loss: 0.698741  [51200/60000]\n",
      "loss: 0.598430  [57600/60000]\n",
      "Test Error: \n",
      " Accuracy: 0.792700, Avg loss: 0.588121 \n",
      "\n",
      "Epoch 8\n",
      "--------------------------------\n",
      "loss: 0.487410  [    0/60000]\n",
      "loss: 0.604126  [ 6400/60000]\n",
      "loss: 0.397905  [12800/60000]\n",
      "loss: 0.671735  [19200/60000]\n",
      "loss: 0.619519  [25600/60000]\n",
      "loss: 0.613622  [32000/60000]\n",
      "loss: 0.611682  [38400/60000]\n",
      "loss: 0.663499  [44800/60000]\n",
      "loss: 0.684457  [51200/60000]\n",
      "loss: 0.573281  [57600/60000]\n",
      "Test Error: \n",
      " Accuracy: 0.799600, Avg loss: 0.568220 \n",
      "\n",
      "Epoch 9\n",
      "--------------------------------\n",
      "loss: 0.462561  [    0/60000]\n",
      "loss: 0.579485  [ 6400/60000]\n",
      "loss: 0.379953  [12800/60000]\n",
      "loss: 0.650240  [19200/60000]\n",
      "loss: 0.592375  [25600/60000]\n",
      "loss: 0.598222  [32000/60000]\n",
      "loss: 0.589109  [38400/60000]\n",
      "loss: 0.658617  [44800/60000]\n",
      "loss: 0.672609  [51200/60000]\n",
      "loss: 0.551682  [57600/60000]\n",
      "Test Error: \n",
      " Accuracy: 0.804600, Avg loss: 0.552115 \n",
      "\n",
      "Epoch 10\n",
      "--------------------------------\n",
      "loss: 0.442396  [    0/60000]\n",
      "loss: 0.559590  [ 6400/60000]\n",
      "loss: 0.365422  [12800/60000]\n",
      "loss: 0.631906  [19200/60000]\n",
      "loss: 0.568469  [25600/60000]\n",
      "loss: 0.584899  [32000/60000]\n",
      "loss: 0.569206  [38400/60000]\n",
      "loss: 0.655820  [44800/60000]\n",
      "loss: 0.662374  [51200/60000]\n",
      "loss: 0.532894  [57600/60000]\n",
      "Test Error: \n",
      " Accuracy: 0.810000, Avg loss: 0.538824 \n",
      "\n",
      "CPU times: user 28.5 s, sys: 6.02 s, total: 34.5 s\n",
      "Wall time: 2min 13s\n"
     ]
    }
   ],
   "source": [
    "%%time\n",
    "\n",
    "epochs = 10\n",
    "train_losses = []\n",
    "for epoch in range(epochs):\n",
    "    print(f\"Epoch {epoch + 1}\\n\" + \"-\" * 32)\n",
    "    train_loss = train_loop(train_dataloader, net, loss_fn, optimizer)\n",
    "    train_losses.append(train_loss.item())\n",
    "    test_loop(test_dataloader, net, loss_fn)  # смотрим на прогресс в реальном времени"
   ],
   "metadata": {
    "colab": {
     "base_uri": "https://localhost:8080/"
    },
    "id": "p4ZAvcdh_uLB",
    "outputId": "5f0b93bc-b85f-436b-e979-87983ffc61f8"
   }
  },
  {
   "cell_type": "code",
   "execution_count": 12,
   "outputs": [
    {
     "output_type": "display_data",
     "data": {
      "text/plain": [
       "<Figure size 576x288 with 1 Axes>"
      ],
      "image/png": "[encoded data removed]"
     },
     "metadata": {}
    }
   ],
   "source": [
    "plt.plot(torch.arange(len(train_losses)), train_losses);"
   ],
   "metadata": {
    "colab": {
     "base_uri": "https://localhost:8080/",
     "height": 268
    },
    "id": "Eaah0vGr_uLC",
    "outputId": "91758ce5-671a-480e-9ea2-93fa629a5ee8"
   }
  },
  {
   "cell_type": "markdown",
   "source": [
    "Пользуемся результатами обучения:"
   ],
   "metadata": {
    "collapsed": false,
    "id": "5CqkyY4b_uLC"
   }
  },
  {
   "cell_type": "code",
   "execution_count": 13,
   "outputs": [
    {
     "output_type": "display_data",
     "data": {
      "text/plain": [
       "<Figure size 720x792 with 16 Axes>"
      ],
      "image/png": "[encoded data removed]"
     },
     "metadata": {}
    }
   ],
   "source": [
    "torch.manual_seed(0)\n",
    "net.eval()\n",
    "\n",
    "fig = plt.figure(figsize=(10, 11))\n",
    "cols, rows = 4, 4\n",
    "for i in range(1, cols * rows + 1):\n",
    "    sample_idx = torch.randint(len(test_data), size=(1,)).item()\n",
    "    img, true_label = test_data[sample_idx]\n",
    "    img = img.to(DEVICE)\n",
    "\n",
    "    pred = net(img.unsqueeze(0))\n",
    "    pred_proba = F.softmax(pred, 1).max(1).values.item()  # насколько модель уверена в своем решении\n",
    "    pred_label = pred.argmax(1).item()\n",
    "\n",
    "    fig.add_subplot(rows, cols, i)\n",
    "    plt.title(\n",
    "        f\"pred: {train_data.classes[pred_label]} ({pred_proba:.2f})\"\n",
    "        f\"\\ntrue: {train_data.classes[true_label]}\", loc=\"left\"\n",
    "    )\n",
    "    plt.axis(\"off\")\n",
    "    plt.imshow(img.squeeze().cpu(), cmap=\"gray\")"
   ],
   "metadata": {
    "colab": {
     "base_uri": "https://localhost:8080/",
     "height": 651
    },
    "id": "1R93yl2m_uLC",
    "outputId": "5021bd48-9bc2-46b8-e6af-91370e97fa85"
   }
  },
  {
   "cell_type": "code",
   "source": [
    "X_test, y_test = next(iter(test_dataloader))\n",
    "X_test, y_test = X_test.to(DEVICE), y_test.to(DEVICE)\n",
    "\n",
    "pred = net(X_test)\n",
    "pred_proba = torch.max(F.softmax(pred, dim=1), dim=1)\n",
    "pred_label = pred.argmax(dim=1)\n",
    "\n",
    "cm_display = metrics.ConfusionMatrixDisplay.from_predictions(\n",
    "    y_test.cpu(), pred_label.detach().cpu(),\n",
    "    display_labels=train_data.classes,\n",
    "    xticks_rotation=45,\n",
    "    cmap=sns.color_palette(\"light:b\", as_cmap=True),\n",
    "    colorbar=False,\n",
    ")\n",
    "cm_display.ax_.grid(False)\n",
    "cm_display.figure_.set_size_inches(4.5, 4.5)"
   ],
   "metadata": {
    "colab": {
     "base_uri": "https://localhost:8080/",
     "height": 351
    },
    "id": "FPpEDputCAIb",
    "outputId": "edef9109-b1e7-4a6e-e570-067427540335"
   },
   "execution_count": 14,
   "outputs": [
    {
     "output_type": "display_data",
     "data": {
      "text/plain": [
       "<Figure size 324x324 with 1 Axes>"
      ],
      "image/png": "[encoded data removed]"
     },
     "metadata": {}
    }
   ]
  },
  {
   "cell_type": "code",
   "execution_count": 15,
   "outputs": [
    {
     "output_type": "stream",
     "name": "stdout",
     "text": [
      "Test Error: \n",
      " Accuracy: 0.810000, Avg loss: 0.538824 \n",
      "\n"
     ]
    }
   ],
   "source": [
    "test_loop(test_dataloader, net, loss_fn);"
   ],
   "metadata": {
    "colab": {
     "base_uri": "https://localhost:8080/"
    },
    "id": "DVLuePJb_uLD",
    "outputId": "9101cd88-1d72-469d-8d8f-d0c217340dd8"
   }
  },
  {
   "cell_type": "markdown",
   "source": [
    "Сохраняем модель:"
   ],
   "metadata": {
    "collapsed": false,
    "id": "-lhdJApZ_uLE"
   }
  },
  {
   "cell_type": "code",
   "execution_count": 16,
   "outputs": [],
   "source": [
    "torch.save(net, MODELS_DIR / \"FashionMNIST-log-reg.pth\")"
   ],
   "metadata": {
    "id": "r0ZZsLrV_uLE"
   }
  },
  {
   "cell_type": "code",
   "execution_count": 17,
   "outputs": [
    {
     "output_type": "execute_result",
     "data": {
      "text/plain": [
       "FashionMNISTLogisticRegression(\n",
       "  (flatten): Flatten(start_dim=1, end_dim=-1)\n",
       "  (classifier): Sequential(\n",
       "    (0): Linear(in_features=784, out_features=512, bias=True)\n",
       "    (1): ReLU()\n",
       "    (2): Linear(in_features=512, out_features=512, bias=True)\n",
       "    (3): ReLU()\n",
       "    (4): Linear(in_features=512, out_features=10, bias=True)\n",
       "  )\n",
       ")"
      ]
     },
     "metadata": {},
     "execution_count": 17
    }
   ],
   "source": [
    "net = torch.load(MODELS_DIR / \"FashionMNIST-log-reg.pth\")\n",
    "net.eval()"
   ],
   "metadata": {
    "id": "tD-g3OnZ_uLE",
    "colab": {
     "base_uri": "https://localhost:8080/"
    },
    "outputId": "19018c18-3628-4efc-a178-cda35787fab5"
   }
  },
  {
   "cell_type": "markdown",
   "metadata": {
    "id": "GmsMQUPP-XUh"
   },
   "source": [
    "### 1.2 Решить задачу 1.1, используя сверточную нейронную сеть. \n",
    "* Добиться значения accuracy на тестовом множестве не менее 90%\n",
    "* Визуализировать результаты работы первого сверточного слоя"
   ]
  },
  {
   "cell_type": "markdown",
   "source": [
    "Прежде чем работать дальше, ускорим загрузку данных:\n",
    "- уберем ненужные преобразования (Tensor -> Image -> Tensor)\n",
    "- сохраним преобразованный датасет\n",
    "- сохраним результат работы Dataloader'а"
   ],
   "metadata": {
    "collapsed": false,
    "id": "b03cZUed_uLF"
   }
  },
  {
   "cell_type": "code",
   "execution_count": 18,
   "outputs": [],
   "source": [
    "class FastFashionMNSITDataset(Dataset):\n",
    "\n",
    "    def __init__(self, dataset: datasets.FashionMNIST):\n",
    "        self.dataset = dataset\n",
    "        self.transform = self.dataset.transform\n",
    "\n",
    "        self._data = self.dataset.data.to(torch.float32)\n",
    "        if len(self._data.size()) == 3:  # [n_samples, width, height] -> [n_samples, n_channels, width, height]\n",
    "            self._data = self._data.unsqueeze(1)\n",
    "\n",
    "        self._targets = self.dataset.targets\n",
    "\n",
    "    def __len__(self):\n",
    "        return len(self.dataset)\n",
    "\n",
    "    def __getitem__(self, index):  # избавимся от ненужных преобразований\n",
    "        img, target = self._data[index], self._targets[index]\n",
    "        if self.transform:\n",
    "            img = self.transform(img)\n",
    "        return img, target\n",
    "\n",
    "\n",
    "class FastDataloader:\n",
    "\n",
    "    def __init__(self, dataloader: DataLoader[Dataset], force: bool = False):\n",
    "        self.dataloader = dataloader\n",
    "        # кэш\n",
    "        self._force = force\n",
    "        self._bathes = [0] * len(self.dataloader)\n",
    "        self._create_batches()\n",
    "\n",
    "    @property\n",
    "    def dataset(self):\n",
    "        return self.dataloader.dataset\n",
    "\n",
    "    def __len__(self):\n",
    "        return len(self.dataloader)\n",
    "\n",
    "    def __iter__(self):\n",
    "        if self._force:\n",
    "            self._create_batches()\n",
    "        return self._get_iterator()\n",
    "\n",
    "    def _create_batches(self):\n",
    "        for i, batch in enumerate(self.dataloader):\n",
    "            self._bathes[i] = batch\n",
    "\n",
    "    def _get_iterator(self):\n",
    "        for batch in self._bathes:\n",
    "            yield batch"
   ],
   "metadata": {
    "id": "0Hb6KtIt_uLF"
   }
  },
  {
   "cell_type": "code",
   "execution_count": 19,
   "outputs": [],
   "source": [
    "_data = datasets.FashionMNIST(\n",
    "    root=DATA_DIR,\n",
    "    train=True,\n",
    "    download=True,\n",
    ").data.to(torch.float32)\n",
    "\n",
    "fast_data = datasets.FashionMNIST(\n",
    "    root=DATA_DIR,\n",
    "    train=True,\n",
    "    download=True,\n",
    "    transform=transforms.Compose([  # ToTensor() не нужно - уже Tensor\n",
    "        transforms.Normalize((_data.mean() / 255,), (_data.std() / 255,)),\n",
    "    ]),\n",
    ")\n",
    "\n",
    "slow_dataset = datasets.FashionMNIST(\n",
    "    root=DATA_DIR,\n",
    "    train=True,\n",
    "    download=True,\n",
    "    transform=transforms.Compose([\n",
    "        transforms.ToTensor(),\n",
    "        transforms.Normalize((_data.mean() / 255,), (_data.std() / 255,)),\n",
    "    ]),\n",
    ")"
   ],
   "metadata": {
    "id": "rHKBossu_uLF"
   }
  },
  {
   "cell_type": "code",
   "execution_count": 20,
   "outputs": [
    {
     "output_type": "stream",
     "name": "stderr",
     "text": [
      "100%|██████████| 40/40 [21:33<00:00, 32.35s/it]"
     ]
    },
    {
     "output_type": "stream",
     "name": "stdout",
     "text": [
      "CPU times: user 7min 54s, sys: 2min 53s, total: 10min 47s\n",
      "Wall time: 21min 33s\n"
     ]
    },
    {
     "output_type": "stream",
     "name": "stderr",
     "text": [
      "\n"
     ]
    }
   ],
   "source": [
    "%%time\n",
    "\n",
    "slow_dataloader = DataLoader(\n",
    "    slow_dataset,\n",
    "    batch_size=4,\n",
    "    num_workers=2 if is_colab() else 0,\n",
    ")\n",
    "\n",
    "for epoch in tqdm(range(40)):\n",
    "    for x, y in slow_dataloader:\n",
    "        pass"
   ],
   "metadata": {
    "id": "vu8cXLzm_uLG",
    "colab": {
     "base_uri": "https://localhost:8080/"
    },
    "outputId": "f5ab6eef-e54d-4058-c304-4a9144657b70"
   }
  },
  {
   "cell_type": "code",
   "execution_count": 21,
   "outputs": [
    {
     "output_type": "stream",
     "name": "stderr",
     "text": [
      "100%|██████████| 40/40 [00:00<00:00, 685.11it/s]"
     ]
    },
    {
     "output_type": "stream",
     "name": "stdout",
     "text": [
      "CPU times: user 11.7 s, sys: 4.25 s, total: 15.9 s\n",
      "Wall time: 28.2 s\n"
     ]
    },
    {
     "output_type": "stream",
     "name": "stderr",
     "text": [
      "\n"
     ]
    }
   ],
   "source": [
    "%%time\n",
    "\n",
    "fast_dataset = FastFashionMNSITDataset(fast_data)\n",
    "fast_dataloader = FastDataloader(DataLoader(\n",
    "    fast_dataset,\n",
    "    batch_size=4,\n",
    "    num_workers=2 if is_colab() else 0,\n",
    "))\n",
    "\n",
    "for epoch in tqdm(range(40)):\n",
    "    for x, y in fast_dataloader:\n",
    "        pass"
   ],
   "metadata": {
    "id": "oaGxSwYm_uLG",
    "colab": {
     "base_uri": "https://localhost:8080/"
    },
    "outputId": "47fd488c-571a-4938-d3be-ab00e6c8349d"
   }
  },
  {
   "cell_type": "markdown",
   "source": [
    "В 50 раз быстрее? А еще можно было сделать нормальное индексирование..."
   ],
   "metadata": {
    "collapsed": false,
    "id": "HPAsAjpR_uLG"
   }
  },
  {
   "cell_type": "markdown",
   "source": [
    "Архитектура модели (вдохновлялся `models.vgg16`):"
   ],
   "metadata": {
    "collapsed": false,
    "id": "NVnE1wjl_uLG"
   }
  },
  {
   "cell_type": "code",
   "execution_count": 22,
   "outputs": [],
   "source": [
    "class FashionMNISTConvNet(nn.Module):\n",
    "\n",
    "    def __init__(self, in_channels: int, n_classes: int):\n",
    "        super(FashionMNISTConvNet, self).__init__()\n",
    "        self.features = nn.Sequential(OrderedDict({\n",
    "            \"conv1\": nn.Conv2d(in_channels=in_channels, out_channels=32, kernel_size=3, stride=1, padding=1),\n",
    "            \"norm1\": nn.BatchNorm2d(32),\n",
    "            \"relu1\": nn.ReLU(True),\n",
    "            \"maxpool1\": nn.MaxPool2d(2),\n",
    "            \"conv2\": nn.Conv2d(in_channels=32, out_channels=64, kernel_size=3, stride=1),\n",
    "            \"norm2\": nn.BatchNorm2d(64),\n",
    "            \"relu2\": nn.ReLU(True),\n",
    "            \"maxpool2\": nn.MaxPool2d(2),\n",
    "        }))\n",
    "        self.avgpool = nn.AdaptiveAvgPool2d((6, 6))  # картинку произвольного размера -> 6 * 6\n",
    "        self.classifier = nn.Sequential(OrderedDict({\n",
    "            \"fc1\": nn.Linear(64 * 6 * 6, 512),\n",
    "            \"relu1\": nn.ReLU(True),\n",
    "            \"drop1\": nn.Dropout(),\n",
    "            \"fc2\": nn.Linear(512, 128),\n",
    "            \"relu2\": nn.ReLU(True),\n",
    "            \"drop2\": nn.Dropout(),\n",
    "            \"fc3\": nn.Linear(128, n_classes),\n",
    "        }))\n",
    "\n",
    "    def forward(self, x):\n",
    "        x = self.features(x)\n",
    "        x = self.avgpool(x)\n",
    "        x = torch.flatten(x, 1)\n",
    "        x = self.classifier(x)\n",
    "        return x\n"
   ],
   "metadata": {
    "id": "jzPEeDHb_uLH"
   }
  },
  {
   "cell_type": "code",
   "execution_count": 23,
   "outputs": [],
   "source": [
    "_data = datasets.FashionMNIST(\n",
    "    root=DATA_DIR,\n",
    "    train=True,\n",
    "    download=True,\n",
    ").data.to(torch.float32)\n",
    "\n",
    "transform = transforms.Compose([\n",
    "    transforms.Normalize((_data.mean() / 255,), (_data.std() / 255,)),\n",
    "])\n",
    "\n",
    "fast_train_data = datasets.FashionMNIST(\n",
    "    root=DATA_DIR,\n",
    "    train=True,\n",
    "    download=True,\n",
    "    transform=transform,\n",
    ")\n",
    "\n",
    "fast_test_data = datasets.FashionMNIST(\n",
    "    root=DATA_DIR,\n",
    "    train=False,\n",
    "    download=True,\n",
    "    transform=transform,\n",
    ")\n",
    "\n",
    "fast_train_dataset = FastFashionMNSITDataset(fast_train_data)\n",
    "fast_test_dataset = FastFashionMNSITDataset(fast_test_data)\n",
    "\n",
    "fast_train_dataloader = FastDataloader(DataLoader(fast_train_dataset, batch_size=128))\n",
    "fast_test_dataloader = FastDataloader(DataLoader(fast_test_dataset, batch_size=len(fast_test_data)))"
   ],
   "metadata": {
    "id": "_FB1Fd14_uLH"
   }
  },
  {
   "cell_type": "code",
   "execution_count": 24,
   "outputs": [
    {
     "output_type": "execute_result",
     "data": {
      "text/plain": [
       "FashionMNISTConvNet(\n",
       "  (features): Sequential(\n",
       "    (conv1): Conv2d(1, 32, kernel_size=(3, 3), stride=(1, 1), padding=(1, 1))\n",
       "    (norm1): BatchNorm2d(32, eps=1e-05, momentum=0.1, affine=True, track_running_stats=True)\n",
       "    (relu1): ReLU(inplace=True)\n",
       "    (maxpool1): MaxPool2d(kernel_size=2, stride=2, padding=0, dilation=1, ceil_mode=False)\n",
       "    (conv2): Conv2d(32, 64, kernel_size=(3, 3), stride=(1, 1))\n",
       "    (norm2): BatchNorm2d(64, eps=1e-05, momentum=0.1, affine=True, track_running_stats=True)\n",
       "    (relu2): ReLU(inplace=True)\n",
       "    (maxpool2): MaxPool2d(kernel_size=2, stride=2, padding=0, dilation=1, ceil_mode=False)\n",
       "  )\n",
       "  (avgpool): AdaptiveAvgPool2d(output_size=(6, 6))\n",
       "  (classifier): Sequential(\n",
       "    (fc1): Linear(in_features=2304, out_features=512, bias=True)\n",
       "    (relu1): ReLU(inplace=True)\n",
       "    (drop1): Dropout(p=0.5, inplace=False)\n",
       "    (fc2): Linear(in_features=512, out_features=128, bias=True)\n",
       "    (relu2): ReLU(inplace=True)\n",
       "    (drop2): Dropout(p=0.5, inplace=False)\n",
       "    (fc3): Linear(in_features=128, out_features=10, bias=True)\n",
       "  )\n",
       ")"
      ]
     },
     "metadata": {},
     "execution_count": 24
    }
   ],
   "source": [
    "torch.manual_seed(0)\n",
    "\n",
    "net = FashionMNISTConvNet(1, 10).to(DEVICE)\n",
    "loss_fn = nn.CrossEntropyLoss()\n",
    "optimizer = optim.Adam(net.parameters(), lr=0.001)\n",
    "\n",
    "net"
   ],
   "metadata": {
    "id": "UXW37hBV_uLH",
    "colab": {
     "base_uri": "https://localhost:8080/"
    },
    "outputId": "afd207c9-7dc0-4bfb-e86f-99fff6607c0d"
   }
  },
  {
   "cell_type": "code",
   "execution_count": 25,
   "outputs": [
    {
     "output_type": "stream",
     "name": "stdout",
     "text": [
      "Epoch 1\n",
      "--------------------------------\n",
      "loss: 2.323101  [    0/60000]\n",
      "loss: 0.513238  [12800/60000]\n",
      "loss: 0.440404  [25600/60000]\n",
      "loss: 0.342237  [38400/60000]\n",
      "loss: 0.410247  [51200/60000]\n",
      "Test Error: \n",
      " Accuracy: 0.875900, Avg loss: 0.341170 \n",
      "\n",
      "Epoch 2\n",
      "--------------------------------\n",
      "loss: 0.284807  [    0/60000]\n",
      "loss: 0.249983  [12800/60000]\n",
      "loss: 0.226696  [25600/60000]\n",
      "loss: 0.290939  [38400/60000]\n",
      "loss: 0.343671  [51200/60000]\n",
      "Test Error: \n",
      " Accuracy: 0.894200, Avg loss: 0.296081 \n",
      "\n",
      "Epoch 3\n",
      "--------------------------------\n",
      "loss: 0.205910  [    0/60000]\n",
      "loss: 0.211702  [12800/60000]\n",
      "loss: 0.198772  [25600/60000]\n",
      "loss: 0.275912  [38400/60000]\n",
      "loss: 0.231151  [51200/60000]\n",
      "Test Error: \n",
      " Accuracy: 0.895900, Avg loss: 0.289730 \n",
      "\n",
      "Epoch 4\n",
      "--------------------------------\n",
      "loss: 0.170812  [    0/60000]\n",
      "loss: 0.189820  [12800/60000]\n",
      "loss: 0.213611  [25600/60000]\n",
      "loss: 0.299137  [38400/60000]\n",
      "loss: 0.299027  [51200/60000]\n",
      "Test Error: \n",
      " Accuracy: 0.899800, Avg loss: 0.277569 \n",
      "\n",
      "Epoch 5\n",
      "--------------------------------\n",
      "loss: 0.177299  [    0/60000]\n",
      "loss: 0.164633  [12800/60000]\n",
      "loss: 0.239457  [25600/60000]\n",
      "loss: 0.179197  [38400/60000]\n",
      "loss: 0.167597  [51200/60000]\n",
      "Test Error: \n",
      " Accuracy: 0.899000, Avg loss: 0.288633 \n",
      "\n",
      "Epoch 6\n",
      "--------------------------------\n",
      "loss: 0.144114  [    0/60000]\n",
      "loss: 0.136415  [12800/60000]\n",
      "loss: 0.153596  [25600/60000]\n",
      "loss: 0.181234  [38400/60000]\n",
      "loss: 0.206106  [51200/60000]\n",
      "Test Error: \n",
      " Accuracy: 0.902900, Avg loss: 0.267801 \n",
      "\n",
      "Epoch 7\n",
      "--------------------------------\n",
      "loss: 0.168552  [    0/60000]\n",
      "loss: 0.129605  [12800/60000]\n",
      "loss: 0.234465  [25600/60000]\n",
      "loss: 0.179657  [38400/60000]\n",
      "loss: 0.159511  [51200/60000]\n",
      "Test Error: \n",
      " Accuracy: 0.903900, Avg loss: 0.271981 \n",
      "\n",
      "Epoch 8\n",
      "--------------------------------\n",
      "loss: 0.127546  [    0/60000]\n",
      "loss: 0.174962  [12800/60000]\n",
      "loss: 0.193032  [25600/60000]\n",
      "loss: 0.122888  [38400/60000]\n",
      "loss: 0.112044  [51200/60000]\n",
      "Test Error: \n",
      " Accuracy: 0.915300, Avg loss: 0.244131 \n",
      "\n",
      "Epoch 9\n",
      "--------------------------------\n",
      "loss: 0.105932  [    0/60000]\n",
      "loss: 0.093706  [12800/60000]\n",
      "loss: 0.177098  [25600/60000]\n",
      "loss: 0.201066  [38400/60000]\n",
      "loss: 0.148108  [51200/60000]\n",
      "Test Error: \n",
      " Accuracy: 0.912600, Avg loss: 0.248721 \n",
      "\n",
      "Epoch 10\n",
      "--------------------------------\n",
      "loss: 0.106970  [    0/60000]\n",
      "loss: 0.158096  [12800/60000]\n",
      "loss: 0.145235  [25600/60000]\n",
      "loss: 0.148989  [38400/60000]\n",
      "loss: 0.162952  [51200/60000]\n",
      "Test Error: \n",
      " Accuracy: 0.907200, Avg loss: 0.270650 \n",
      "\n",
      "Epoch 11\n",
      "--------------------------------\n",
      "loss: 0.166868  [    0/60000]\n",
      "loss: 0.118086  [12800/60000]\n",
      "loss: 0.175847  [25600/60000]\n",
      "loss: 0.122724  [38400/60000]\n",
      "loss: 0.091876  [51200/60000]\n",
      "Test Error: \n",
      " Accuracy: 0.912500, Avg loss: 0.260455 \n",
      "\n",
      "Epoch 12\n",
      "--------------------------------\n",
      "loss: 0.100876  [    0/60000]\n",
      "loss: 0.095246  [12800/60000]\n",
      "loss: 0.142929  [25600/60000]\n",
      "loss: 0.130245  [38400/60000]\n",
      "loss: 0.112558  [51200/60000]\n",
      "Test Error: \n",
      " Accuracy: 0.911100, Avg loss: 0.262861 \n",
      "\n",
      "Epoch 13\n",
      "--------------------------------\n",
      "loss: 0.090575  [    0/60000]\n",
      "loss: 0.125715  [12800/60000]\n",
      "loss: 0.131503  [25600/60000]\n",
      "loss: 0.101769  [38400/60000]\n",
      "loss: 0.153150  [51200/60000]\n",
      "Test Error: \n",
      " Accuracy: 0.913800, Avg loss: 0.266285 \n",
      "\n",
      "Epoch 14\n",
      "--------------------------------\n",
      "loss: 0.063574  [    0/60000]\n",
      "loss: 0.091135  [12800/60000]\n",
      "loss: 0.118641  [25600/60000]\n",
      "loss: 0.139497  [38400/60000]\n",
      "loss: 0.130983  [51200/60000]\n",
      "Test Error: \n",
      " Accuracy: 0.922100, Avg loss: 0.254164 \n",
      "\n",
      "Epoch 15\n",
      "--------------------------------\n",
      "loss: 0.061673  [    0/60000]\n",
      "loss: 0.060966  [12800/60000]\n",
      "loss: 0.125319  [25600/60000]\n",
      "loss: 0.075071  [38400/60000]\n",
      "loss: 0.092463  [51200/60000]\n",
      "Test Error: \n",
      " Accuracy: 0.917500, Avg loss: 0.281420 \n",
      "\n",
      "Epoch 16\n",
      "--------------------------------\n",
      "loss: 0.093433  [    0/60000]\n",
      "loss: 0.065564  [12800/60000]\n",
      "loss: 0.130415  [25600/60000]\n",
      "loss: 0.067653  [38400/60000]\n",
      "loss: 0.051699  [51200/60000]\n",
      "Test Error: \n",
      " Accuracy: 0.913000, Avg loss: 0.288877 \n",
      "\n",
      "Epoch 17\n",
      "--------------------------------\n",
      "loss: 0.083267  [    0/60000]\n",
      "loss: 0.082541  [12800/60000]\n",
      "loss: 0.095147  [25600/60000]\n",
      "loss: 0.105329  [38400/60000]\n",
      "loss: 0.071541  [51200/60000]\n",
      "Test Error: \n",
      " Accuracy: 0.918400, Avg loss: 0.267270 \n",
      "\n",
      "Epoch 18\n",
      "--------------------------------\n",
      "loss: 0.055709  [    0/60000]\n",
      "loss: 0.090172  [12800/60000]\n",
      "loss: 0.134510  [25600/60000]\n",
      "loss: 0.059114  [38400/60000]\n",
      "loss: 0.078153  [51200/60000]\n",
      "Test Error: \n",
      " Accuracy: 0.915800, Avg loss: 0.301000 \n",
      "\n",
      "Epoch 19\n",
      "--------------------------------\n",
      "loss: 0.179045  [    0/60000]\n",
      "loss: 0.105804  [12800/60000]\n",
      "loss: 0.092749  [25600/60000]\n",
      "loss: 0.088742  [38400/60000]\n",
      "loss: 0.157579  [51200/60000]\n",
      "Test Error: \n",
      " Accuracy: 0.924600, Avg loss: 0.259380 \n",
      "\n",
      "Epoch 20\n",
      "--------------------------------\n",
      "loss: 0.046559  [    0/60000]\n",
      "loss: 0.154531  [12800/60000]\n",
      "loss: 0.040988  [25600/60000]\n",
      "loss: 0.079168  [38400/60000]\n",
      "loss: 0.043586  [51200/60000]\n",
      "Test Error: \n",
      " Accuracy: 0.922400, Avg loss: 0.297142 \n",
      "\n",
      "CPU times: user 47 s, sys: 743 ms, total: 47.7 s\n",
      "Wall time: 51.1 s\n"
     ]
    }
   ],
   "source": [
    "%%time\n",
    "\n",
    "epochs = 20\n",
    "train_losses = []\n",
    "for epoch in range(epochs):\n",
    "    print(f\"Epoch {epoch + 1}\\n\" + \"-\" * 32)\n",
    "    train_loss = train_loop(fast_train_dataloader, net, loss_fn, optimizer)\n",
    "    train_losses.append(train_loss.item())\n",
    "    test_loop(fast_test_dataloader, net, loss_fn)  # смотрим на прогресс в реальном времени"
   ],
   "metadata": {
    "id": "3O3xVQKD_uLI",
    "colab": {
     "base_uri": "https://localhost:8080/"
    },
    "outputId": "7ace6858-124e-4097-fdb5-e28f277e6798"
   }
  },
  {
   "cell_type": "code",
   "execution_count": 26,
   "outputs": [
    {
     "output_type": "display_data",
     "data": {
      "text/plain": [
       "<Figure size 576x288 with 1 Axes>"
      ],
      "image/png": "[encoded data removed]"
     },
     "metadata": {}
    }
   ],
   "source": [
    "plt.plot(torch.arange(len(train_losses)), train_losses);"
   ],
   "metadata": {
    "id": "3dBgSvju_uLI",
    "colab": {
     "base_uri": "https://localhost:8080/",
     "height": 268
    },
    "outputId": "7036d7dc-a406-4761-e43b-8cb74a9df31f"
   }
  },
  {
   "cell_type": "markdown",
   "source": [
    "Визуализируем работу 1-ого сверточного слоя"
   ],
   "metadata": {
    "collapsed": false,
    "id": "IGJKoNme_uLI"
   }
  },
  {
   "cell_type": "code",
   "execution_count": 27,
   "outputs": [
    {
     "output_type": "display_data",
     "data": {
      "text/plain": [
       "<Figure size 576x288 with 1 Axes>"
      ],
      "image/png": "[encoded data removed]"
     },
     "metadata": {}
    }
   ],
   "source": [
    "# входное изображение\n",
    "img, target = fast_train_dataset[0]\n",
    "plt.axis(\"off\")\n",
    "plt.imshow(img.squeeze(), cmap=\"gray\");"
   ],
   "metadata": {
    "id": "PkyRcL5p_uLI",
    "colab": {
     "base_uri": "https://localhost:8080/",
     "height": 248
    },
    "outputId": "8f1147b5-e000-4584-a2c7-67ba51c01f42"
   }
  },
  {
   "cell_type": "code",
   "execution_count": 28,
   "outputs": [
    {
     "output_type": "display_data",
     "data": {
      "text/plain": [
       "<Figure size 360x432 with 30 Axes>"
      ],
      "image/png": "[encoded data removed]"
     },
     "metadata": {}
    }
   ],
   "source": [
    "# изображения после свертки\n",
    "first_conv_layer = nn.Conv2d(in_channels=1, out_channels=32, kernel_size=3, stride=1, padding=1)\n",
    "fig, axes = plt.subplots(6, 5, figsize=(5, 6))  # 6 * 5 = 30 != 32 - не покажу две картинки\n",
    "for channel, ax in zip(first_conv_layer(img), axes.flatten()):\n",
    "    ax.axis(\"off\")\n",
    "    ax.imshow(channel.detach(), cmap=\"gray\")"
   ],
   "metadata": {
    "id": "Vkx8KcwW_uLI",
    "colab": {
     "base_uri": "https://localhost:8080/",
     "height": 357
    },
    "outputId": "4dcef3e9-fbcf-4a25-bdaa-4e5d673f244a"
   }
  },
  {
   "cell_type": "markdown",
   "metadata": {
    "id": "cm6_9B3ZKLq9"
   },
   "source": [
    "##  2. Классификация изображений (датасет CIFAR 10) "
   ]
  },
  {
   "cell_type": "markdown",
   "metadata": {
    "id": "VNTZa9yWQvSF"
   },
   "source": [
    "\n",
    "### 2.1 Решить задачу классификации, не используя сверточные слои. \n",
    "\n",
    "* Нормализовать данные (если необходимо)\n",
    "* Предложить архитектуру модели для решения задачи\n",
    "* Посчитать количество параметров модели.\n",
    "* Обучить модель\n",
    "* Вывести график функции потерь по эпохам. \n",
    "* Используя тестовое множество\n",
    "\n",
    "  * Продемонстрировать работу модели: вывести несколько изображений, указать над ними правильный класс и класс, предсказанный моделью. \n",
    "\n",
    "  * Вывести матрицу ошибок.\n",
    "\n",
    "  * Вывести значение accuracy на тестовом множестве.\n",
    "* Сохранить модель"
   ]
  },
  {
   "cell_type": "code",
   "execution_count": 29,
   "outputs": [
    {
     "output_type": "stream",
     "name": "stdout",
     "text": [
      "Downloading https://www.cs.toronto.edu/~kriz/cifar-10-python.tar.gz to data/cifar-10-python.tar.gz\n"
     ]
    },
    {
     "output_type": "display_data",
     "data": {
      "text/plain": [
       "  0%|          | 0/170498071 [00:00<?, ?it/s]"
      ],
      "application/vnd.jupyter.widget-view+json": {
       "version_major": 2,
       "version_minor": 0,
       "model_id": "5f2c64c84f9b485398d29369337bf74b"
      }
     },
     "metadata": {}
    },
    {
     "output_type": "stream",
     "name": "stdout",
     "text": [
      "Extracting data/cifar-10-python.tar.gz to data\n",
      "Files already downloaded and verified\n",
      "Files already downloaded and verified\n"
     ]
    },
    {
     "output_type": "execute_result",
     "data": {
      "text/plain": [
       "((50000, 32, 32, 3), 50000, 10)"
      ]
     },
     "metadata": {},
     "execution_count": 29
    }
   ],
   "source": [
    "_data = datasets.CIFAR10(\n",
    "    root=DATA_DIR,\n",
    "    train=True,\n",
    "    download=True,\n",
    ").data\n",
    "\n",
    "transform = transforms.Compose([\n",
    "    transforms.ToTensor(),\n",
    "    transforms.Normalize((0.5, 0.5, 0.5), (0.5, 0.5, 0.5)),\n",
    "])\n",
    "\n",
    "train_data = datasets.CIFAR10(\n",
    "    root=DATA_DIR,\n",
    "    train=True,\n",
    "    download=True,\n",
    "    transform=transform,\n",
    ")\n",
    "\n",
    "test_data = datasets.CIFAR10(\n",
    "    root=DATA_DIR,\n",
    "    train=False,\n",
    "    download=True,\n",
    "    transform=transform,\n",
    ")\n",
    "\n",
    "train_data.data.shape, len(train_data.targets), len(train_data.classes)"
   ],
   "metadata": {
    "colab": {
     "base_uri": "https://localhost:8080/",
     "height": 136,
     "referenced_widgets": [
      "5f2c64c84f9b485398d29369337bf74b",
      "badd8fa5aef448748366de7122f0b784",
      "7e77e641cbb1427db8d787a1fbbfcc8b",
      "fcc94c9f37024cce851d9e91706ec8cb",
      "1b2bab61a82d4970a01236b2005cdfaf",
      "fc968d2074154fb29820e0eff7dee8f5",
      "a97a4a9d82b44abda3a25aa4fbeb38cd",
      "7b9db1d95e744895a96b5f9fdf0e5bc5",
      "bcd5561e7d1a40e1ad9b6f742f8d5f3b",
      "d44642394e9444d8a10f549d973a102c",
      "4a44c8fee3de46ec94e1ffedbfec62de"
     ]
    },
    "id": "ueKXh87c_uLJ",
    "outputId": "ab153700-93e1-4303-a981-e9f233b614ce"
   }
  },
  {
   "cell_type": "code",
   "execution_count": 30,
   "outputs": [],
   "source": [
    "fast_train_dataloader = FastDataloader(DataLoader(\n",
    "    train_data,\n",
    "    batch_size=128,\n",
    "    num_workers=2 if is_colab() else 0,\n",
    "))\n",
    "fast_test_dataloader = FastDataloader(DataLoader(\n",
    "    test_data,\n",
    "    batch_size=len(test_data),\n",
    "    num_workers=2 if is_colab() else 0,\n",
    "))"
   ],
   "metadata": {
    "id": "F30Ac6Rs_uLJ"
   }
  },
  {
   "cell_type": "markdown",
   "source": [
    "Архитектура модели \"Зачем что-то менять?\" (авторское название)"
   ],
   "metadata": {
    "collapsed": false,
    "id": "rYkgWAks_uLJ"
   }
  },
  {
   "cell_type": "code",
   "execution_count": 31,
   "outputs": [],
   "source": [
    "class CIFAR10LogisticRegression(nn.Module):\n",
    "\n",
    "    def __init__(self, in_features: int, out_features: int):\n",
    "        super(CIFAR10LogisticRegression, self).__init__()\n",
    "        self.flatten = nn.Flatten()\n",
    "        self.classifier = nn.Sequential(\n",
    "            nn.Linear(in_features, 512),\n",
    "            nn.ReLU(),\n",
    "            nn.Linear(512, 512),\n",
    "            nn.ReLU(),\n",
    "            nn.Linear(512, 512),\n",
    "            nn.ReLU(),\n",
    "            nn.Linear(512, out_features),\n",
    "        )\n",
    "\n",
    "    def forward(self, x):\n",
    "        x = self.flatten(x)\n",
    "        return self.classifier(x)"
   ],
   "metadata": {
    "id": "PIVsOZkS_uLJ"
   }
  },
  {
   "cell_type": "code",
   "execution_count": 32,
   "outputs": [
    {
     "output_type": "execute_result",
     "data": {
      "text/plain": [
       "CIFAR10LogisticRegression(\n",
       "  (flatten): Flatten(start_dim=1, end_dim=-1)\n",
       "  (classifier): Sequential(\n",
       "    (0): Linear(in_features=3072, out_features=512, bias=True)\n",
       "    (1): ReLU()\n",
       "    (2): Linear(in_features=512, out_features=512, bias=True)\n",
       "    (3): ReLU()\n",
       "    (4): Linear(in_features=512, out_features=512, bias=True)\n",
       "    (5): ReLU()\n",
       "    (6): Linear(in_features=512, out_features=10, bias=True)\n",
       "  )\n",
       ")"
      ]
     },
     "metadata": {},
     "execution_count": 32
    }
   ],
   "source": [
    "torch.manual_seed(0)\n",
    "\n",
    "net = CIFAR10LogisticRegression(3 * 32 * 32, 10).to(DEVICE)\n",
    "loss_fn = nn.CrossEntropyLoss()\n",
    "optimizer = optim.SGD(net.parameters(), lr=0.001)\n",
    "\n",
    "net"
   ],
   "metadata": {
    "id": "4kVtD7Fw_uLK",
    "colab": {
     "base_uri": "https://localhost:8080/"
    },
    "outputId": "da4d7995-2529-4fce-93a0-702763764932"
   }
  },
  {
   "cell_type": "markdown",
   "source": [
    "Обучаем модель:"
   ],
   "metadata": {
    "collapsed": false,
    "id": "5Z31hywv_uLK"
   }
  },
  {
   "cell_type": "code",
   "execution_count": 33,
   "outputs": [
    {
     "output_type": "stream",
     "name": "stdout",
     "text": [
      "Epoch 1\n",
      "--------------------------------\n",
      "loss: 2.304039  [    0/50000]\n",
      "loss: 2.303365  [12800/50000]\n",
      "loss: 2.300544  [25600/50000]\n",
      "loss: 2.301232  [38400/50000]\n",
      "Test Error: \n",
      " Accuracy: 0.124900, Avg loss: 2.299535 \n",
      "\n",
      "Epoch 2\n",
      "--------------------------------\n",
      "loss: 2.299495  [    0/50000]\n",
      "loss: 2.298290  [12800/50000]\n",
      "loss: 2.295627  [25600/50000]\n",
      "loss: 2.296468  [38400/50000]\n",
      "Test Error: \n",
      " Accuracy: 0.168700, Avg loss: 2.294540 \n",
      "\n",
      "Epoch 3\n",
      "--------------------------------\n",
      "loss: 2.294859  [    0/50000]\n",
      "loss: 2.292843  [12800/50000]\n",
      "loss: 2.290489  [25600/50000]\n",
      "loss: 2.291231  [38400/50000]\n",
      "Test Error: \n",
      " Accuracy: 0.189600, Avg loss: 2.289047 \n",
      "\n",
      "Epoch 4\n",
      "--------------------------------\n",
      "loss: 2.289887  [    0/50000]\n",
      "loss: 2.286665  [12800/50000]\n",
      "loss: 2.284590  [25600/50000]\n",
      "loss: 2.285092  [38400/50000]\n",
      "Test Error: \n",
      " Accuracy: 0.208300, Avg loss: 2.282615 \n",
      "\n",
      "Epoch 5\n",
      "--------------------------------\n",
      "loss: 2.284153  [    0/50000]\n",
      "loss: 2.279274  [12800/50000]\n",
      "loss: 2.277614  [25600/50000]\n",
      "loss: 2.277554  [38400/50000]\n",
      "Test Error: \n",
      " Accuracy: 0.228600, Avg loss: 2.274741 \n",
      "\n",
      "Epoch 6\n",
      "--------------------------------\n",
      "loss: 2.277229  [    0/50000]\n",
      "loss: 2.269884  [12800/50000]\n",
      "loss: 2.269087  [25600/50000]\n",
      "loss: 2.268008  [38400/50000]\n",
      "Test Error: \n",
      " Accuracy: 0.244600, Avg loss: 2.264831 \n",
      "\n",
      "Epoch 7\n",
      "--------------------------------\n",
      "loss: 2.268542  [    0/50000]\n",
      "loss: 2.257926  [12800/50000]\n",
      "loss: 2.258418  [25600/50000]\n",
      "loss: 2.255775  [38400/50000]\n",
      "Test Error: \n",
      " Accuracy: 0.253000, Avg loss: 2.252194 \n",
      "\n",
      "Epoch 8\n",
      "--------------------------------\n",
      "loss: 2.257567  [    0/50000]\n",
      "loss: 2.242724  [12800/50000]\n",
      "loss: 2.245011  [25600/50000]\n",
      "loss: 2.240175  [38400/50000]\n",
      "Test Error: \n",
      " Accuracy: 0.256500, Avg loss: 2.236273 \n",
      "\n",
      "Epoch 9\n",
      "--------------------------------\n",
      "loss: 2.243764  [    0/50000]\n",
      "loss: 2.223883  [12800/50000]\n",
      "loss: 2.228363  [25600/50000]\n",
      "loss: 2.220998  [38400/50000]\n",
      "Test Error: \n",
      " Accuracy: 0.255400, Avg loss: 2.216991 \n",
      "\n",
      "Epoch 10\n",
      "--------------------------------\n",
      "loss: 2.226950  [    0/50000]\n",
      "loss: 2.202037  [12800/50000]\n",
      "loss: 2.208889  [25600/50000]\n",
      "loss: 2.198890  [38400/50000]\n",
      "Test Error: \n",
      " Accuracy: 0.254200, Avg loss: 2.195170 \n",
      "\n",
      "Epoch 11\n",
      "--------------------------------\n",
      "loss: 2.207910  [    0/50000]\n",
      "loss: 2.178962  [12800/50000]\n",
      "loss: 2.187470  [25600/50000]\n",
      "loss: 2.175458  [38400/50000]\n",
      "Test Error: \n",
      " Accuracy: 0.250400, Avg loss: 2.172242 \n",
      "\n",
      "Epoch 12\n",
      "--------------------------------\n",
      "loss: 2.187842  [    0/50000]\n",
      "loss: 2.156509  [12800/50000]\n",
      "loss: 2.165486  [25600/50000]\n",
      "loss: 2.152455  [38400/50000]\n",
      "Test Error: \n",
      " Accuracy: 0.252000, Avg loss: 2.149385 \n",
      "\n",
      "Epoch 13\n",
      "--------------------------------\n",
      "loss: 2.167867  [    0/50000]\n",
      "loss: 2.135163  [12800/50000]\n",
      "loss: 2.143572  [25600/50000]\n",
      "loss: 2.130975  [38400/50000]\n",
      "Test Error: \n",
      " Accuracy: 0.253600, Avg loss: 2.127131 \n",
      "\n",
      "Epoch 14\n",
      "--------------------------------\n",
      "loss: 2.148382  [    0/50000]\n",
      "loss: 2.114724  [12800/50000]\n",
      "loss: 2.122329  [25600/50000]\n",
      "loss: 2.111403  [38400/50000]\n",
      "Test Error: \n",
      " Accuracy: 0.256700, Avg loss: 2.105669 \n",
      "\n",
      "Epoch 15\n",
      "--------------------------------\n",
      "loss: 2.129576  [    0/50000]\n",
      "loss: 2.094557  [12800/50000]\n",
      "loss: 2.102216  [25600/50000]\n",
      "loss: 2.093684  [38400/50000]\n",
      "Test Error: \n",
      " Accuracy: 0.261800, Avg loss: 2.085023 \n",
      "\n",
      "CPU times: user 12.1 s, sys: 329 ms, total: 12.4 s\n",
      "Wall time: 12.3 s\n"
     ]
    }
   ],
   "source": [
    "%%time\n",
    "\n",
    "epochs = 15\n",
    "train_losses = []\n",
    "for epoch in range(epochs):\n",
    "    print(f\"Epoch {epoch + 1}\\n\" + \"-\" * 32)\n",
    "    train_loss = train_loop(fast_train_dataloader, net, loss_fn, optimizer)\n",
    "    train_losses.append(train_loss.item())\n",
    "    test_loop(fast_test_dataloader, net, loss_fn)  # смотрим на прогресс в реальном времени"
   ],
   "metadata": {
    "id": "RYMTQpl5_uLK",
    "colab": {
     "base_uri": "https://localhost:8080/"
    },
    "outputId": "223a6692-c436-4074-e292-95981f6a4d34"
   }
  },
  {
   "cell_type": "code",
   "execution_count": 34,
   "outputs": [
    {
     "output_type": "display_data",
     "data": {
      "text/plain": [
       "<Figure size 576x288 with 1 Axes>"
      ],
      "image/png": "[encoded data removed]"
     },
     "metadata": {}
    }
   ],
   "source": [
    "plt.plot(torch.arange(len(train_losses)), train_losses);"
   ],
   "metadata": {
    "id": "dJ2LNh3D_uLK",
    "colab": {
     "base_uri": "https://localhost:8080/",
     "height": 268
    },
    "outputId": "2a5a4529-e350-4e9b-e7c8-7647ed088130"
   }
  },
  {
   "cell_type": "code",
   "execution_count": 35,
   "outputs": [
    {
     "output_type": "display_data",
     "data": {
      "text/plain": [
       "<Figure size 720x792 with 16 Axes>"
      ],
      "image/png": "[encoded data removed]"
     },
     "metadata": {}
    }
   ],
   "source": [
    "torch.manual_seed(0)\n",
    "net.eval()\n",
    "\n",
    "fig = plt.figure(figsize=(10, 11))\n",
    "cols, rows = 4, 4\n",
    "for i in range(1, cols * rows + 1):\n",
    "    sample_idx = torch.randint(len(test_data), size=(1,)).item()\n",
    "    img, true_label = test_data[sample_idx]\n",
    "\n",
    "    pred = net(img.unsqueeze(0).to(DEVICE))\n",
    "    pred_proba = F.softmax(pred, 1).max(1).values.item()\n",
    "    pred_label = pred.argmax(1).item()\n",
    "\n",
    "    fig.add_subplot(rows, cols, i)\n",
    "    plt.title(\n",
    "        f\"pred: {train_data.classes[pred_label]} ({pred_proba:.2f})\"\n",
    "        f\"\\ntrue: {train_data.classes[true_label]}\", loc=\"left\"\n",
    "    )\n",
    "    plt.axis(\"off\")\n",
    "    # 3 x 32 x 32 [-1, 1] -> 32 x 32 x 3 [0, 1]\n",
    "    plt.imshow(torch.clip(img.permute(1, 2, 0), 0, 1).cpu())"
   ],
   "metadata": {
    "id": "RtawVQrk_uLK",
    "colab": {
     "base_uri": "https://localhost:8080/",
     "height": 651
    },
    "outputId": "cfc81db0-4439-4161-a560-5adc87640035"
   }
  },
  {
   "cell_type": "code",
   "execution_count": 36,
   "outputs": [
    {
     "output_type": "display_data",
     "data": {
      "text/plain": [
       "<Figure size 324x324 with 1 Axes>"
      ],
      "image/png": "[encoded data removed]"
     },
     "metadata": {}
    }
   ],
   "source": [
    "X_test, y_test = next(iter(fast_test_dataloader))\n",
    "X_test, y_test = X_test.to(DEVICE), y_test.to(DEVICE)\n",
    "\n",
    "pred = net(X_test)\n",
    "pred_proba = torch.max(F.softmax(pred, dim=1), dim=1)\n",
    "y_pred = pred.argmax(dim=1).detach()\n",
    "\n",
    "cm_display = metrics.ConfusionMatrixDisplay.from_predictions(\n",
    "    y_test.cpu(), y_pred.cpu(),\n",
    "    display_labels=train_data.classes,\n",
    "    xticks_rotation=45,\n",
    "    cmap=sns.color_palette(\"light:b\", as_cmap=True),\n",
    "    colorbar=False,\n",
    ")\n",
    "cm_display.ax_.grid(False)\n",
    "cm_display.figure_.set_size_inches(4.5, 4.5)"
   ],
   "metadata": {
    "id": "-oaQoQKB_uLL",
    "colab": {
     "base_uri": "https://localhost:8080/",
     "height": 353
    },
    "outputId": "ce5838ce-2fd5-4a9b-c6e9-814fe77763c3"
   }
  },
  {
   "cell_type": "code",
   "execution_count": 37,
   "outputs": [
    {
     "output_type": "stream",
     "name": "stdout",
     "text": [
      "              precision    recall  f1-score   support\n",
      "\n",
      "    airplane       0.32      0.45      0.37      1000\n",
      "  automobile       0.26      0.14      0.18      1000\n",
      "        bird       0.26      0.03      0.05      1000\n",
      "         cat       0.21      0.06      0.09      1000\n",
      "        deer       0.25      0.03      0.06      1000\n",
      "         dog       0.40      0.11      0.18      1000\n",
      "        frog       0.18      0.70      0.29      1000\n",
      "       horse       0.25      0.09      0.13      1000\n",
      "        ship       0.39      0.53      0.45      1000\n",
      "       truck       0.29      0.47      0.36      1000\n",
      "\n",
      "    accuracy                           0.26     10000\n",
      "   macro avg       0.28      0.26      0.22     10000\n",
      "weighted avg       0.28      0.26      0.22     10000\n",
      "\n"
     ]
    }
   ],
   "source": [
    "print(metrics.classification_report(y_test.cpu(), y_pred.cpu(), target_names=train_data.classes))"
   ],
   "metadata": {
    "id": "6Vst9bzW_uLL",
    "colab": {
     "base_uri": "https://localhost:8080/"
    },
    "outputId": "32eb6b20-3f9f-41de-c18c-1ba511bac5eb"
   }
  },
  {
   "cell_type": "code",
   "source": [
    "torch.save(net, MODELS_DIR / \"CIFAR10-log-reg.pth\")"
   ],
   "metadata": {
    "id": "AbXfVH0k_X1q"
   },
   "execution_count": 38,
   "outputs": []
  },
  {
   "cell_type": "markdown",
   "metadata": {
    "id": "IIxHLbKcDCFA"
   },
   "source": [
    "### 2.2 Решить задачу 2.1, используя сверточную нейронную сеть. \n",
    "* Добиться значения accuracy на тестовом множестве не менее 70%.\n",
    "* Визуализировать результаты работы первого сверточного слоя"
   ]
  },
  {
   "cell_type": "markdown",
   "source": [
    "Архитектура модели \"Зачем что-то менять? 2.0\" (авторское название)"
   ],
   "metadata": {
    "id": "grjTNSiQMnXl"
   }
  },
  {
   "cell_type": "code",
   "execution_count": 39,
   "outputs": [],
   "source": [
    "class CIFAR10ConvNet(nn.Module):\n",
    "\n",
    "    def __init__(self, in_channels: int, n_classes: int):\n",
    "        super(CIFAR10ConvNet, self).__init__()\n",
    "        self.features = nn.Sequential(OrderedDict({\n",
    "            \"conv1\": nn.Conv2d(in_channels=in_channels, out_channels=32, kernel_size=3, stride=1, padding=1),\n",
    "            \"norm1\": nn.BatchNorm2d(32),\n",
    "            \"relu1\": nn.ReLU(True),\n",
    "            \"maxpool1\": nn.MaxPool2d(2),\n",
    "            \"conv2\": nn.Conv2d(in_channels=32, out_channels=64, kernel_size=3, stride=1),\n",
    "            \"norm2\": nn.BatchNorm2d(64),\n",
    "            \"relu2\": nn.ReLU(True),\n",
    "            \"maxpool2\": nn.MaxPool2d(2),\n",
    "        }))\n",
    "        self.avgpool = nn.AdaptiveAvgPool2d((6, 6))\n",
    "        self.classifier = nn.Sequential(OrderedDict({\n",
    "            \"fc1\": nn.Linear(64 * 6 * 6, 512),\n",
    "            \"relu1\": nn.ReLU(True),\n",
    "            \"drop1\": nn.Dropout(),\n",
    "            \"fc2\": nn.Linear(512, 128),\n",
    "            \"relu2\": nn.ReLU(True),\n",
    "            \"drop2\": nn.Dropout(),\n",
    "            \"fc3\": nn.Linear(128, n_classes),\n",
    "        }))\n",
    "\n",
    "    def forward(self, x):\n",
    "        x = self.features(x)\n",
    "        x = self.avgpool(x)\n",
    "        x = torch.flatten(x, 1)\n",
    "        x = self.classifier(x)\n",
    "        return x\n"
   ],
   "metadata": {
    "id": "Mw-zkwwy_uLL"
   }
  },
  {
   "cell_type": "code",
   "execution_count": 40,
   "outputs": [
    {
     "output_type": "execute_result",
     "data": {
      "text/plain": [
       "CIFAR10ConvNet(\n",
       "  (features): Sequential(\n",
       "    (conv1): Conv2d(3, 32, kernel_size=(3, 3), stride=(1, 1), padding=(1, 1))\n",
       "    (norm1): BatchNorm2d(32, eps=1e-05, momentum=0.1, affine=True, track_running_stats=True)\n",
       "    (relu1): ReLU(inplace=True)\n",
       "    (maxpool1): MaxPool2d(kernel_size=2, stride=2, padding=0, dilation=1, ceil_mode=False)\n",
       "    (conv2): Conv2d(32, 64, kernel_size=(3, 3), stride=(1, 1))\n",
       "    (norm2): BatchNorm2d(64, eps=1e-05, momentum=0.1, affine=True, track_running_stats=True)\n",
       "    (relu2): ReLU(inplace=True)\n",
       "    (maxpool2): MaxPool2d(kernel_size=2, stride=2, padding=0, dilation=1, ceil_mode=False)\n",
       "  )\n",
       "  (avgpool): AdaptiveAvgPool2d(output_size=(6, 6))\n",
       "  (classifier): Sequential(\n",
       "    (fc1): Linear(in_features=2304, out_features=512, bias=True)\n",
       "    (relu1): ReLU(inplace=True)\n",
       "    (drop1): Dropout(p=0.5, inplace=False)\n",
       "    (fc2): Linear(in_features=512, out_features=128, bias=True)\n",
       "    (relu2): ReLU(inplace=True)\n",
       "    (drop2): Dropout(p=0.5, inplace=False)\n",
       "    (fc3): Linear(in_features=128, out_features=10, bias=True)\n",
       "  )\n",
       ")"
      ]
     },
     "metadata": {},
     "execution_count": 40
    }
   ],
   "source": [
    "torch.manual_seed(0)\n",
    "\n",
    "net = CIFAR10ConvNet(3, 10).to(DEVICE)\n",
    "loss_fn = nn.CrossEntropyLoss()\n",
    "optimizer = optim.Adam(net.parameters(), lr=0.001)\n",
    "\n",
    "net"
   ],
   "metadata": {
    "colab": {
     "base_uri": "https://localhost:8080/"
    },
    "id": "RmaKlz5k_uLL",
    "outputId": "b465a9fd-675b-4bc4-f90f-22711110f663"
   }
  },
  {
   "cell_type": "code",
   "execution_count": 41,
   "outputs": [
    {
     "output_type": "stream",
     "name": "stdout",
     "text": [
      "Epoch 1\n",
      "--------------------------------\n",
      "loss: 2.306680  [    0/50000]\n",
      "loss: 1.610405  [12800/50000]\n",
      "loss: 1.382595  [25600/50000]\n",
      "loss: 1.338286  [38400/50000]\n",
      "Test Error: \n",
      " Accuracy: 0.559300, Avg loss: 1.222586 \n",
      "\n",
      "Epoch 2\n",
      "--------------------------------\n",
      "loss: 1.259854  [    0/50000]\n",
      "loss: 1.186094  [12800/50000]\n",
      "loss: 1.196026  [25600/50000]\n",
      "loss: 1.166367  [38400/50000]\n",
      "Test Error: \n",
      " Accuracy: 0.625000, Avg loss: 1.076345 \n",
      "\n",
      "Epoch 3\n",
      "--------------------------------\n",
      "loss: 1.213154  [    0/50000]\n",
      "loss: 1.255053  [12800/50000]\n",
      "loss: 1.178375  [25600/50000]\n",
      "loss: 1.041783  [38400/50000]\n",
      "Test Error: \n",
      " Accuracy: 0.669200, Avg loss: 0.956182 \n",
      "\n",
      "Epoch 4\n",
      "--------------------------------\n",
      "loss: 0.880124  [    0/50000]\n",
      "loss: 0.993476  [12800/50000]\n",
      "loss: 1.066285  [25600/50000]\n",
      "loss: 1.019309  [38400/50000]\n",
      "Test Error: \n",
      " Accuracy: 0.673500, Avg loss: 0.922606 \n",
      "\n",
      "Epoch 5\n",
      "--------------------------------\n",
      "loss: 0.758140  [    0/50000]\n",
      "loss: 0.955526  [12800/50000]\n",
      "loss: 1.029451  [25600/50000]\n",
      "loss: 0.965949  [38400/50000]\n",
      "Test Error: \n",
      " Accuracy: 0.687900, Avg loss: 0.883179 \n",
      "\n",
      "Epoch 6\n",
      "--------------------------------\n",
      "loss: 0.820782  [    0/50000]\n",
      "loss: 0.828792  [12800/50000]\n",
      "loss: 0.945357  [25600/50000]\n",
      "loss: 0.961442  [38400/50000]\n",
      "Test Error: \n",
      " Accuracy: 0.697300, Avg loss: 0.884039 \n",
      "\n",
      "Epoch 7\n",
      "--------------------------------\n",
      "loss: 0.762040  [    0/50000]\n",
      "loss: 0.789164  [12800/50000]\n",
      "loss: 0.957572  [25600/50000]\n",
      "loss: 0.821142  [38400/50000]\n",
      "Test Error: \n",
      " Accuracy: 0.728300, Avg loss: 0.784432 \n",
      "\n",
      "Epoch 8\n",
      "--------------------------------\n",
      "loss: 0.732554  [    0/50000]\n",
      "loss: 0.761020  [12800/50000]\n",
      "loss: 0.896561  [25600/50000]\n",
      "loss: 0.783489  [38400/50000]\n",
      "Test Error: \n",
      " Accuracy: 0.735600, Avg loss: 0.766722 \n",
      "\n",
      "Epoch 9\n",
      "--------------------------------\n",
      "loss: 0.788926  [    0/50000]\n",
      "loss: 0.720476  [12800/50000]\n",
      "loss: 0.808637  [25600/50000]\n",
      "loss: 0.700535  [38400/50000]\n",
      "Test Error: \n",
      " Accuracy: 0.735400, Avg loss: 0.779422 \n",
      "\n",
      "Epoch 10\n",
      "--------------------------------\n",
      "loss: 0.647689  [    0/50000]\n",
      "loss: 0.834941  [12800/50000]\n",
      "loss: 0.738344  [25600/50000]\n",
      "loss: 0.838755  [38400/50000]\n",
      "Test Error: \n",
      " Accuracy: 0.744400, Avg loss: 0.748286 \n",
      "\n",
      "Epoch 11\n",
      "--------------------------------\n",
      "loss: 0.645744  [    0/50000]\n",
      "loss: 0.729497  [12800/50000]\n",
      "loss: 0.838230  [25600/50000]\n",
      "loss: 0.698935  [38400/50000]\n",
      "Test Error: \n",
      " Accuracy: 0.739600, Avg loss: 0.764393 \n",
      "\n",
      "Epoch 12\n",
      "--------------------------------\n",
      "loss: 0.692685  [    0/50000]\n",
      "loss: 0.698785  [12800/50000]\n",
      "loss: 0.754527  [25600/50000]\n",
      "loss: 0.607206  [38400/50000]\n",
      "Test Error: \n",
      " Accuracy: 0.743300, Avg loss: 0.752317 \n",
      "\n",
      "Epoch 13\n",
      "--------------------------------\n",
      "loss: 0.633483  [    0/50000]\n",
      "loss: 0.659162  [12800/50000]\n",
      "loss: 0.753453  [25600/50000]\n",
      "loss: 0.718056  [38400/50000]\n",
      "Test Error: \n",
      " Accuracy: 0.752100, Avg loss: 0.722799 \n",
      "\n",
      "Epoch 14\n",
      "--------------------------------\n",
      "loss: 0.629982  [    0/50000]\n",
      "loss: 0.620559  [12800/50000]\n",
      "loss: 0.816095  [25600/50000]\n",
      "loss: 0.569714  [38400/50000]\n",
      "Test Error: \n",
      " Accuracy: 0.755800, Avg loss: 0.730792 \n",
      "\n",
      "Epoch 15\n",
      "--------------------------------\n",
      "loss: 0.483786  [    0/50000]\n",
      "loss: 0.660123  [12800/50000]\n",
      "loss: 0.730680  [25600/50000]\n",
      "loss: 0.652472  [38400/50000]\n",
      "Test Error: \n",
      " Accuracy: 0.753700, Avg loss: 0.717937 \n",
      "\n",
      "Epoch 16\n",
      "--------------------------------\n",
      "loss: 0.586100  [    0/50000]\n",
      "loss: 0.622226  [12800/50000]\n",
      "loss: 0.847386  [25600/50000]\n",
      "loss: 0.633479  [38400/50000]\n",
      "Test Error: \n",
      " Accuracy: 0.768000, Avg loss: 0.691560 \n",
      "\n",
      "Epoch 17\n",
      "--------------------------------\n",
      "loss: 0.543367  [    0/50000]\n",
      "loss: 0.616865  [12800/50000]\n",
      "loss: 0.749997  [25600/50000]\n",
      "loss: 0.558881  [38400/50000]\n",
      "Test Error: \n",
      " Accuracy: 0.759100, Avg loss: 0.732614 \n",
      "\n",
      "Epoch 18\n",
      "--------------------------------\n",
      "loss: 0.512121  [    0/50000]\n",
      "loss: 0.631708  [12800/50000]\n",
      "loss: 0.790553  [25600/50000]\n",
      "loss: 0.532791  [38400/50000]\n",
      "Test Error: \n",
      " Accuracy: 0.770000, Avg loss: 0.700244 \n",
      "\n",
      "Epoch 19\n",
      "--------------------------------\n",
      "loss: 0.475377  [    0/50000]\n",
      "loss: 0.643449  [12800/50000]\n",
      "loss: 0.720001  [25600/50000]\n",
      "loss: 0.514625  [38400/50000]\n",
      "Test Error: \n",
      " Accuracy: 0.767500, Avg loss: 0.692728 \n",
      "\n",
      "Epoch 20\n",
      "--------------------------------\n",
      "loss: 0.540876  [    0/50000]\n",
      "loss: 0.639036  [12800/50000]\n",
      "loss: 0.725377  [25600/50000]\n",
      "loss: 0.467429  [38400/50000]\n",
      "Test Error: \n",
      " Accuracy: 0.764400, Avg loss: 0.722076 \n",
      "\n",
      "CPU times: user 47.5 s, sys: 235 ms, total: 47.7 s\n",
      "Wall time: 47.6 s\n"
     ]
    }
   ],
   "source": [
    "%%time\n",
    "\n",
    "epochs = 20\n",
    "train_losses = []\n",
    "for epoch in range(epochs):\n",
    "    print(f\"Epoch {epoch + 1}\\n\" + \"-\" * 32)\n",
    "    train_loss = train_loop(fast_train_dataloader, net, loss_fn, optimizer)\n",
    "    train_losses.append(train_loss.item())\n",
    "    test_loop(fast_test_dataloader, net, loss_fn)  # смотрим на прогресс в реальном времени"
   ],
   "metadata": {
    "colab": {
     "base_uri": "https://localhost:8080/"
    },
    "id": "Mu-2qB7E_uLL",
    "outputId": "7abb69e7-f69b-477b-c07e-f0220c85339c"
   }
  },
  {
   "cell_type": "code",
   "source": [
    "X_test, y_test = next(iter(fast_test_dataloader))\n",
    "X_test, y_test = X_test.to(DEVICE), y_test.to(DEVICE)\n",
    "\n",
    "pred = net(X_test)\n",
    "pred_proba = torch.max(F.softmax(pred, dim=1), dim=1)\n",
    "y_pred = pred.argmax(dim=1).detach()\n",
    "\n",
    "print(metrics.classification_report(y_test.cpu(), y_pred.cpu(), target_names=train_data.classes))"
   ],
   "metadata": {
    "id": "W6-BxFYcJtk_",
    "outputId": "ef9813f1-8623-4cd4-d1bc-4edd5c5dc3dd",
    "colab": {
     "base_uri": "https://localhost:8080/"
    }
   },
   "execution_count": 42,
   "outputs": [
    {
     "output_type": "stream",
     "name": "stdout",
     "text": [
      "              precision    recall  f1-score   support\n",
      "\n",
      "    airplane       0.80      0.81      0.80      1000\n",
      "  automobile       0.79      0.93      0.86      1000\n",
      "        bird       0.80      0.60      0.68      1000\n",
      "         cat       0.54      0.67      0.60      1000\n",
      "        deer       0.82      0.65      0.72      1000\n",
      "         dog       0.74      0.60      0.66      1000\n",
      "        frog       0.84      0.83      0.84      1000\n",
      "       horse       0.77      0.84      0.80      1000\n",
      "        ship       0.88      0.85      0.86      1000\n",
      "       truck       0.74      0.86      0.80      1000\n",
      "\n",
      "    accuracy                           0.76     10000\n",
      "   macro avg       0.77      0.76      0.76     10000\n",
      "weighted avg       0.77      0.76      0.76     10000\n",
      "\n"
     ]
    }
   ]
  },
  {
   "cell_type": "code",
   "execution_count": 43,
   "outputs": [],
   "source": [
    "torch.save(net, MODELS_DIR / \"CIFAR10-cnn.pth\")"
   ],
   "metadata": {
    "id": "BoqSVc7qBl6b"
   }
  },
  {
   "cell_type": "code",
   "execution_count": 44,
   "outputs": [
    {
     "output_type": "stream",
     "name": "stdout",
     "text": [
      "  adding: content/models/ (stored 0%)\n",
      "  adding: content/models/CIFAR10-cnn.pth (deflated 7%)\n",
      "  adding: content/models/FashionMNIST-log-reg.pth (deflated 8%)\n",
      "  adding: content/models/CIFAR10-log-reg.pth (deflated 8%)\n"
     ]
    },
    {
     "output_type": "display_data",
     "data": {
      "text/plain": [
       "<IPython.core.display.Javascript object>"
      ],
      "application/javascript": [
       "\n",
       "    async function download(id, filename, size) {\n",
       "      if (!google.colab.kernel.accessAllowed) {\n",
       "        return;\n",
       "      }\n",
       "      const div = document.createElement('div');\n",
       "      const label = document.createElement('label');\n",
       "      label.textContent = `Downloading \"${filename}\": `;\n",
       "      div.appendChild(label);\n",
       "      const progress = document.createElement('progress');\n",
       "      progress.max = size;\n",
       "      div.appendChild(progress);\n",
       "      document.body.appendChild(div);\n",
       "\n",
       "      const buffers = [];\n",
       "      let downloaded = 0;\n",
       "\n",
       "      const channel = await google.colab.kernel.comms.open(id);\n",
       "      // Send a message to notify the kernel that we're ready.\n",
       "      channel.send({})\n",
       "\n",
       "      for await (const message of channel.messages) {\n",
       "        // Send a message to notify the kernel that we're ready.\n",
       "        channel.send({})\n",
       "        if (message.buffers) {\n",
       "          for (const buffer of message.buffers) {\n",
       "            buffers.push(buffer);\n",
       "            downloaded += buffer.byteLength;\n",
       "            progress.value = downloaded;\n",
       "          }\n",
       "        }\n",
       "      }\n",
       "      const blob = new Blob(buffers, {type: 'application/binary'});\n",
       "      const a = document.createElement('a');\n",
       "      a.href = window.URL.createObjectURL(blob);\n",
       "      a.download = filename;\n",
       "      div.appendChild(a);\n",
       "      a.click();\n",
       "      div.remove();\n",
       "    }\n",
       "  "
      ]
     },
     "metadata": {}
    },
    {
     "output_type": "display_data",
     "data": {
      "text/plain": [
       "<IPython.core.display.Javascript object>"
      ],
      "application/javascript": [
       "download(\"download_12a9b656-fed3-4ede-8504-b0bdab3a63dd\", \"models.zip\", 14944723)"
      ]
     },
     "metadata": {}
    }
   ],
   "source": [
    "if is_colab(DEVICE):\n",
    "    !zip -r / content / models.zip / content / models\n",
    "    from google.colab import files\n",
    "\n",
    "    files.download(\"/content/models.zip\")"
   ],
   "metadata": {
    "id": "l7rIHqN9Bl6b",
    "outputId": "64a590be-c3e3-42f7-9115-b173bceb46d2",
    "colab": {
     "base_uri": "https://localhost:8080/",
     "height": 86
    }
   }
  },
  {
   "cell_type": "markdown",
   "source": [
    "**Вывод:** не изменив ни одного параметра модели FashionMNSITConvNet я получил удовлетворительный результат для другой задачи."
   ],
   "metadata": {
    "id": "Y9Nh5mZ7NVvA"
   }
  }
 ],
 "metadata": {
  "accelerator": "GPU",
  "colab": {
   "collapsed_sections": [],
   "name": "blank_04_cnn.ipynb",
   "provenance": []
  },
  "kernelspec": {
   "display_name": "Python 3 (ipykernel)",
   "language": "python",
   "name": "python3"
  },
  "language_info": {
   "codemirror_mode": {
    "name": "ipython",
    "version": 3
   },
   "file_extension": ".py",
   "mimetype": "text/x-python",
   "name": "python",
   "nbconvert_exporter": "python",
   "pygments_lexer": "ipython3",
   "version": "3.9.7"
  },
  "widgets": {
   "application/vnd.jupyter.widget-state+json": {
    "bad879b24d28422aaa8e668d04b76598": {
     "model_module": "@jupyter-widgets/controls",
     "model_name": "HBoxModel",
     "model_module_version": "1.5.0",
     "state": {
      "_dom_classes": [],
      "_model_module": "@jupyter-widgets/controls",
      "_model_module_version": "1.5.0",
      "_model_name": "HBoxModel",
      "_view_count": null,
      "_view_module": "@jupyter-widgets/controls",
      "_view_module_version": "1.5.0",
      "_view_name": "HBoxView",
      "box_style": "",
      "children": [
       "IPY_MODEL_4afa54ea9cc24248bbbe3cb97bde9b7b",
       "IPY_MODEL_7ae15e9b9d1949fb8fa2213384d71386",
       "IPY_MODEL_b620d5e3b0874dd5960cae72828b58db"
      ],
      "layout": "IPY_MODEL_8bb7d64a07d34c38b5a03f49fd2e7c62"
     }
    },
    "4afa54ea9cc24248bbbe3cb97bde9b7b": {
     "model_module": "@jupyter-widgets/controls",
     "model_name": "HTMLModel",
     "model_module_version": "1.5.0",
     "state": {
      "_dom_classes": [],
      "_model_module": "@jupyter-widgets/controls",
      "_model_module_version": "1.5.0",
      "_model_name": "HTMLModel",
      "_view_count": null,
      "_view_module": "@jupyter-widgets/controls",
      "_view_module_version": "1.5.0",
      "_view_name": "HTMLView",
      "description": "",
      "description_tooltip": null,
      "layout": "IPY_MODEL_d55b441083584c12b6961c2ea147a521",
      "placeholder": "​",
      "style": "IPY_MODEL_f0cff23d93d34e409599ca8ce3b1924a",
      "value": "100%"
     }
    },
    "7ae15e9b9d1949fb8fa2213384d71386": {
     "model_module": "@jupyter-widgets/controls",
     "model_name": "FloatProgressModel",
     "model_module_version": "1.5.0",
     "state": {
      "_dom_classes": [],
      "_model_module": "@jupyter-widgets/controls",
      "_model_module_version": "1.5.0",
      "_model_name": "FloatProgressModel",
      "_view_count": null,
      "_view_module": "@jupyter-widgets/controls",
      "_view_module_version": "1.5.0",
      "_view_name": "ProgressView",
      "bar_style": "success",
      "description": "",
      "description_tooltip": null,
      "layout": "IPY_MODEL_f65fd2474e194c74a2a57e09f5c6f335",
      "max": 26421880,
      "min": 0,
      "orientation": "horizontal",
      "style": "IPY_MODEL_a41b8875118642759279b0d29c66d56f",
      "value": 26421880
     }
    },
    "b620d5e3b0874dd5960cae72828b58db": {
     "model_module": "@jupyter-widgets/controls",
     "model_name": "HTMLModel",
     "model_module_version": "1.5.0",
     "state": {
      "_dom_classes": [],
      "_model_module": "@jupyter-widgets/controls",
      "_model_module_version": "1.5.0",
      "_model_name": "HTMLModel",
      "_view_count": null,
      "_view_module": "@jupyter-widgets/controls",
      "_view_module_version": "1.5.0",
      "_view_name": "HTMLView",
      "description": "",
      "description_tooltip": null,
      "layout": "IPY_MODEL_785ded6986e14d38aee76920f6416f9f",
      "placeholder": "​",
      "style": "IPY_MODEL_1ad8ea1530ec4b979a29175823f9f6e5",
      "value": " 26421880/26421880 [00:03&lt;00:00, 12383070.91it/s]"
     }
    },
    "8bb7d64a07d34c38b5a03f49fd2e7c62": {
     "model_module": "@jupyter-widgets/base",
     "model_name": "LayoutModel",
     "model_module_version": "1.2.0",
     "state": {
      "_model_module": "@jupyter-widgets/base",
      "_model_module_version": "1.2.0",
      "_model_name": "LayoutModel",
      "_view_count": null,
      "_view_module": "@jupyter-widgets/base",
      "_view_module_version": "1.2.0",
      "_view_name": "LayoutView",
      "align_content": null,
      "align_items": null,
      "align_self": null,
      "border": null,
      "bottom": null,
      "display": null,
      "flex": null,
      "flex_flow": null,
      "grid_area": null,
      "grid_auto_columns": null,
      "grid_auto_flow": null,
      "grid_auto_rows": null,
      "grid_column": null,
      "grid_gap": null,
      "grid_row": null,
      "grid_template_areas": null,
      "grid_template_columns": null,
      "grid_template_rows": null,
      "height": null,
      "justify_content": null,
      "justify_items": null,
      "left": null,
      "margin": null,
      "max_height": null,
      "max_width": null,
      "min_height": null,
      "min_width": null,
      "object_fit": null,
      "object_position": null,
      "order": null,
      "overflow": null,
      "overflow_x": null,
      "overflow_y": null,
      "padding": null,
      "right": null,
      "top": null,
      "visibility": null,
      "width": null
     }
    },
    "d55b441083584c12b6961c2ea147a521": {
     "model_module": "@jupyter-widgets/base",
     "model_name": "LayoutModel",
     "model_module_version": "1.2.0",
     "state": {
      "_model_module": "@jupyter-widgets/base",
      "_model_module_version": "1.2.0",
      "_model_name": "LayoutModel",
      "_view_count": null,
      "_view_module": "@jupyter-widgets/base",
      "_view_module_version": "1.2.0",
      "_view_name": "LayoutView",
      "align_content": null,
      "align_items": null,
      "align_self": null,
      "border": null,
      "bottom": null,
      "display": null,
      "flex": null,
      "flex_flow": null,
      "grid_area": null,
      "grid_auto_columns": null,
      "grid_auto_flow": null,
      "grid_auto_rows": null,
      "grid_column": null,
      "grid_gap": null,
      "grid_row": null,
      "grid_template_areas": null,
      "grid_template_columns": null,
      "grid_template_rows": null,
      "height": null,
      "justify_content": null,
      "justify_items": null,
      "left": null,
      "margin": null,
      "max_height": null,
      "max_width": null,
      "min_height": null,
      "min_width": null,
      "object_fit": null,
      "object_position": null,
      "order": null,
      "overflow": null,
      "overflow_x": null,
      "overflow_y": null,
      "padding": null,
      "right": null,
      "top": null,
      "visibility": null,
      "width": null
     }
    },
    "f0cff23d93d34e409599ca8ce3b1924a": {
     "model_module": "@jupyter-widgets/controls",
     "model_name": "DescriptionStyleModel",
     "model_module_version": "1.5.0",
     "state": {
      "_model_module": "@jupyter-widgets/controls",
      "_model_module_version": "1.5.0",
      "_model_name": "DescriptionStyleModel",
      "_view_count": null,
      "_view_module": "@jupyter-widgets/base",
      "_view_module_version": "1.2.0",
      "_view_name": "StyleView",
      "description_width": ""
     }
    },
    "f65fd2474e194c74a2a57e09f5c6f335": {
     "model_module": "@jupyter-widgets/base",
     "model_name": "LayoutModel",
     "model_module_version": "1.2.0",
     "state": {
      "_model_module": "@jupyter-widgets/base",
      "_model_module_version": "1.2.0",
      "_model_name": "LayoutModel",
      "_view_count": null,
      "_view_module": "@jupyter-widgets/base",
      "_view_module_version": "1.2.0",
      "_view_name": "LayoutView",
      "align_content": null,
      "align_items": null,
      "align_self": null,
      "border": null,
      "bottom": null,
      "display": null,
      "flex": null,
      "flex_flow": null,
      "grid_area": null,
      "grid_auto_columns": null,
      "grid_auto_flow": null,
      "grid_auto_rows": null,
      "grid_column": null,
      "grid_gap": null,
      "grid_row": null,
      "grid_template_areas": null,
      "grid_template_columns": null,
      "grid_template_rows": null,
      "height": null,
      "justify_content": null,
      "justify_items": null,
      "left": null,
      "margin": null,
      "max_height": null,
      "max_width": null,
      "min_height": null,
      "min_width": null,
      "object_fit": null,
      "object_position": null,
      "order": null,
      "overflow": null,
      "overflow_x": null,
      "overflow_y": null,
      "padding": null,
      "right": null,
      "top": null,
      "visibility": null,
      "width": null
     }
    },
    "a41b8875118642759279b0d29c66d56f": {
     "model_module": "@jupyter-widgets/controls",
     "model_name": "ProgressStyleModel",
     "model_module_version": "1.5.0",
     "state": {
      "_model_module": "@jupyter-widgets/controls",
      "_model_module_version": "1.5.0",
      "_model_name": "ProgressStyleModel",
      "_view_count": null,
      "_view_module": "@jupyter-widgets/base",
      "_view_module_version": "1.2.0",
      "_view_name": "StyleView",
      "bar_color": null,
      "description_width": ""
     }
    },
    "785ded6986e14d38aee76920f6416f9f": {
     "model_module": "@jupyter-widgets/base",
     "model_name": "LayoutModel",
     "model_module_version": "1.2.0",
     "state": {
      "_model_module": "@jupyter-widgets/base",
      "_model_module_version": "1.2.0",
      "_model_name": "LayoutModel",
      "_view_count": null,
      "_view_module": "@jupyter-widgets/base",
      "_view_module_version": "1.2.0",
      "_view_name": "LayoutView",
      "align_content": null,
      "align_items": null,
      "align_self": null,
      "border": null,
      "bottom": null,
      "display": null,
      "flex": null,
      "flex_flow": null,
      "grid_area": null,
      "grid_auto_columns": null,
      "grid_auto_flow": null,
      "grid_auto_rows": null,
      "grid_column": null,
      "grid_gap": null,
      "grid_row": null,
      "grid_template_areas": null,
      "grid_template_columns": null,
      "grid_template_rows": null,
      "height": null,
      "justify_content": null,
      "justify_items": null,
      "left": null,
      "margin": null,
      "max_height": null,
      "max_width": null,
      "min_height": null,
      "min_width": null,
      "object_fit": null,
      "object_position": null,
      "order": null,
      "overflow": null,
      "overflow_x": null,
      "overflow_y": null,
      "padding": null,
      "right": null,
      "top": null,
      "visibility": null,
      "width": null
     }
    },
    "1ad8ea1530ec4b979a29175823f9f6e5": {
     "model_module": "@jupyter-widgets/controls",
     "model_name": "DescriptionStyleModel",
     "model_module_version": "1.5.0",
     "state": {
      "_model_module": "@jupyter-widgets/controls",
      "_model_module_version": "1.5.0",
      "_model_name": "DescriptionStyleModel",
      "_view_count": null,
      "_view_module": "@jupyter-widgets/base",
      "_view_module_version": "1.2.0",
      "_view_name": "StyleView",
      "description_width": ""
     }
    },
    "72456a91ef3a4f59ad293334d861231c": {
     "model_module": "@jupyter-widgets/controls",
     "model_name": "HBoxModel",
     "model_module_version": "1.5.0",
     "state": {
      "_dom_classes": [],
      "_model_module": "@jupyter-widgets/controls",
      "_model_module_version": "1.5.0",
      "_model_name": "HBoxModel",
      "_view_count": null,
      "_view_module": "@jupyter-widgets/controls",
      "_view_module_version": "1.5.0",
      "_view_name": "HBoxView",
      "box_style": "",
      "children": [
       "IPY_MODEL_4c77a35091554ce0ac7c0db00f8dc4bd",
       "IPY_MODEL_33f00fb494d74388811c9fe3c295e3e4",
       "IPY_MODEL_d33a335e1df748b3a2ce09c73d0f0d83"
      ],
      "layout": "IPY_MODEL_62bc42bdd4604ca381552038772ab5a0"
     }
    },
    "4c77a35091554ce0ac7c0db00f8dc4bd": {
     "model_module": "@jupyter-widgets/controls",
     "model_name": "HTMLModel",
     "model_module_version": "1.5.0",
     "state": {
      "_dom_classes": [],
      "_model_module": "@jupyter-widgets/controls",
      "_model_module_version": "1.5.0",
      "_model_name": "HTMLModel",
      "_view_count": null,
      "_view_module": "@jupyter-widgets/controls",
      "_view_module_version": "1.5.0",
      "_view_name": "HTMLView",
      "description": "",
      "description_tooltip": null,
      "layout": "IPY_MODEL_56daca7bf7044e36b6e1e10ac96653af",
      "placeholder": "​",
      "style": "IPY_MODEL_7d4e6bf3392e487f84f280c6af788e6f",
      "value": "100%"
     }
    },
    "33f00fb494d74388811c9fe3c295e3e4": {
     "model_module": "@jupyter-widgets/controls",
     "model_name": "FloatProgressModel",
     "model_module_version": "1.5.0",
     "state": {
      "_dom_classes": [],
      "_model_module": "@jupyter-widgets/controls",
      "_model_module_version": "1.5.0",
      "_model_name": "FloatProgressModel",
      "_view_count": null,
      "_view_module": "@jupyter-widgets/controls",
      "_view_module_version": "1.5.0",
      "_view_name": "ProgressView",
      "bar_style": "success",
      "description": "",
      "description_tooltip": null,
      "layout": "IPY_MODEL_75e9e1caa79040c78dc763bbe0fda862",
      "max": 29515,
      "min": 0,
      "orientation": "horizontal",
      "style": "IPY_MODEL_8f89f17abced4caaa7045ef1922ba57b",
      "value": 29515
     }
    },
    "d33a335e1df748b3a2ce09c73d0f0d83": {
     "model_module": "@jupyter-widgets/controls",
     "model_name": "HTMLModel",
     "model_module_version": "1.5.0",
     "state": {
      "_dom_classes": [],
      "_model_module": "@jupyter-widgets/controls",
      "_model_module_version": "1.5.0",
      "_model_name": "HTMLModel",
      "_view_count": null,
      "_view_module": "@jupyter-widgets/controls",
      "_view_module_version": "1.5.0",
      "_view_name": "HTMLView",
      "description": "",
      "description_tooltip": null,
      "layout": "IPY_MODEL_abdc23a1aad24789848f7d9cbcd8f231",
      "placeholder": "​",
      "style": "IPY_MODEL_c839b359211a49e2aa686536df2c9b7a",
      "value": " 29515/29515 [00:00&lt;00:00, 141588.77it/s]"
     }
    },
    "62bc42bdd4604ca381552038772ab5a0": {
     "model_module": "@jupyter-widgets/base",
     "model_name": "LayoutModel",
     "model_module_version": "1.2.0",
     "state": {
      "_model_module": "@jupyter-widgets/base",
      "_model_module_version": "1.2.0",
      "_model_name": "LayoutModel",
      "_view_count": null,
      "_view_module": "@jupyter-widgets/base",
      "_view_module_version": "1.2.0",
      "_view_name": "LayoutView",
      "align_content": null,
      "align_items": null,
      "align_self": null,
      "border": null,
      "bottom": null,
      "display": null,
      "flex": null,
      "flex_flow": null,
      "grid_area": null,
      "grid_auto_columns": null,
      "grid_auto_flow": null,
      "grid_auto_rows": null,
      "grid_column": null,
      "grid_gap": null,
      "grid_row": null,
      "grid_template_areas": null,
      "grid_template_columns": null,
      "grid_template_rows": null,
      "height": null,
      "justify_content": null,
      "justify_items": null,
      "left": null,
      "margin": null,
      "max_height": null,
      "max_width": null,
      "min_height": null,
      "min_width": null,
      "object_fit": null,
      "object_position": null,
      "order": null,
      "overflow": null,
      "overflow_x": null,
      "overflow_y": null,
      "padding": null,
      "right": null,
      "top": null,
      "visibility": null,
      "width": null
     }
    },
    "56daca7bf7044e36b6e1e10ac96653af": {
     "model_module": "@jupyter-widgets/base",
     "model_name": "LayoutModel",
     "model_module_version": "1.2.0",
     "state": {
      "_model_module": "@jupyter-widgets/base",
      "_model_module_version": "1.2.0",
      "_model_name": "LayoutModel",
      "_view_count": null,
      "_view_module": "@jupyter-widgets/base",
      "_view_module_version": "1.2.0",
      "_view_name": "LayoutView",
      "align_content": null,
      "align_items": null,
      "align_self": null,
      "border": null,
      "bottom": null,
      "display": null,
      "flex": null,
      "flex_flow": null,
      "grid_area": null,
      "grid_auto_columns": null,
      "grid_auto_flow": null,
      "grid_auto_rows": null,
      "grid_column": null,
      "grid_gap": null,
      "grid_row": null,
      "grid_template_areas": null,
      "grid_template_columns": null,
      "grid_template_rows": null,
      "height": null,
      "justify_content": null,
      "justify_items": null,
      "left": null,
      "margin": null,
      "max_height": null,
      "max_width": null,
      "min_height": null,
      "min_width": null,
      "object_fit": null,
      "object_position": null,
      "order": null,
      "overflow": null,
      "overflow_x": null,
      "overflow_y": null,
      "padding": null,
      "right": null,
      "top": null,
      "visibility": null,
      "width": null
     }
    },
    "7d4e6bf3392e487f84f280c6af788e6f": {
     "model_module": "@jupyter-widgets/controls",
     "model_name": "DescriptionStyleModel",
     "model_module_version": "1.5.0",
     "state": {
      "_model_module": "@jupyter-widgets/controls",
      "_model_module_version": "1.5.0",
      "_model_name": "DescriptionStyleModel",
      "_view_count": null,
      "_view_module": "@jupyter-widgets/base",
      "_view_module_version": "1.2.0",
      "_view_name": "StyleView",
      "description_width": ""
     }
    },
    "75e9e1caa79040c78dc763bbe0fda862": {
     "model_module": "@jupyter-widgets/base",
     "model_name": "LayoutModel",
     "model_module_version": "1.2.0",
     "state": {
      "_model_module": "@jupyter-widgets/base",
      "_model_module_version": "1.2.0",
      "_model_name": "LayoutModel",
      "_view_count": null,
      "_view_module": "@jupyter-widgets/base",
      "_view_module_version": "1.2.0",
      "_view_name": "LayoutView",
      "align_content": null,
      "align_items": null,
      "align_self": null,
      "border": null,
      "bottom": null,
      "display": null,
      "flex": null,
      "flex_flow": null,
      "grid_area": null,
      "grid_auto_columns": null,
      "grid_auto_flow": null,
      "grid_auto_rows": null,
      "grid_column": null,
      "grid_gap": null,
      "grid_row": null,
      "grid_template_areas": null,
      "grid_template_columns": null,
      "grid_template_rows": null,
      "height": null,
      "justify_content": null,
      "justify_items": null,
      "left": null,
      "margin": null,
      "max_height": null,
      "max_width": null,
      "min_height": null,
      "min_width": null,
      "object_fit": null,
      "object_position": null,
      "order": null,
      "overflow": null,
      "overflow_x": null,
      "overflow_y": null,
      "padding": null,
      "right": null,
      "top": null,
      "visibility": null,
      "width": null
     }
    },
    "8f89f17abced4caaa7045ef1922ba57b": {
     "model_module": "@jupyter-widgets/controls",
     "model_name": "ProgressStyleModel",
     "model_module_version": "1.5.0",
     "state": {
      "_model_module": "@jupyter-widgets/controls",
      "_model_module_version": "1.5.0",
      "_model_name": "ProgressStyleModel",
      "_view_count": null,
      "_view_module": "@jupyter-widgets/base",
      "_view_module_version": "1.2.0",
      "_view_name": "StyleView",
      "bar_color": null,
      "description_width": ""
     }
    },
    "abdc23a1aad24789848f7d9cbcd8f231": {
     "model_module": "@jupyter-widgets/base",
     "model_name": "LayoutModel",
     "model_module_version": "1.2.0",
     "state": {
      "_model_module": "@jupyter-widgets/base",
      "_model_module_version": "1.2.0",
      "_model_name": "LayoutModel",
      "_view_count": null,
      "_view_module": "@jupyter-widgets/base",
      "_view_module_version": "1.2.0",
      "_view_name": "LayoutView",
      "align_content": null,
      "align_items": null,
      "align_self": null,
      "border": null,
      "bottom": null,
      "display": null,
      "flex": null,
      "flex_flow": null,
      "grid_area": null,
      "grid_auto_columns": null,
      "grid_auto_flow": null,
      "grid_auto_rows": null,
      "grid_column": null,
      "grid_gap": null,
      "grid_row": null,
      "grid_template_areas": null,
      "grid_template_columns": null,
      "grid_template_rows": null,
      "height": null,
      "justify_content": null,
      "justify_items": null,
      "left": null,
      "margin": null,
      "max_height": null,
      "max_width": null,
      "min_height": null,
      "min_width": null,
      "object_fit": null,
      "object_position": null,
      "order": null,
      "overflow": null,
      "overflow_x": null,
      "overflow_y": null,
      "padding": null,
      "right": null,
      "top": null,
      "visibility": null,
      "width": null
     }
    },
    "c839b359211a49e2aa686536df2c9b7a": {
     "model_module": "@jupyter-widgets/controls",
     "model_name": "DescriptionStyleModel",
     "model_module_version": "1.5.0",
     "state": {
      "_model_module": "@jupyter-widgets/controls",
      "_model_module_version": "1.5.0",
      "_model_name": "DescriptionStyleModel",
      "_view_count": null,
      "_view_module": "@jupyter-widgets/base",
      "_view_module_version": "1.2.0",
      "_view_name": "StyleView",
      "description_width": ""
     }
    },
    "ea8847e48db540699ca2e223e6af6bdd": {
     "model_module": "@jupyter-widgets/controls",
     "model_name": "HBoxModel",
     "model_module_version": "1.5.0",
     "state": {
      "_dom_classes": [],
      "_model_module": "@jupyter-widgets/controls",
      "_model_module_version": "1.5.0",
      "_model_name": "HBoxModel",
      "_view_count": null,
      "_view_module": "@jupyter-widgets/controls",
      "_view_module_version": "1.5.0",
      "_view_name": "HBoxView",
      "box_style": "",
      "children": [
       "IPY_MODEL_60814c1ae0724df98b54ffe6b55090a7",
       "IPY_MODEL_eaf369640c414194bcbf8314fe419343",
       "IPY_MODEL_8195dc6ffc444bd8b2168d40efadf89c"
      ],
      "layout": "IPY_MODEL_77e5378b4b714409b55406acc5d8c57f"
     }
    },
    "60814c1ae0724df98b54ffe6b55090a7": {
     "model_module": "@jupyter-widgets/controls",
     "model_name": "HTMLModel",
     "model_module_version": "1.5.0",
     "state": {
      "_dom_classes": [],
      "_model_module": "@jupyter-widgets/controls",
      "_model_module_version": "1.5.0",
      "_model_name": "HTMLModel",
      "_view_count": null,
      "_view_module": "@jupyter-widgets/controls",
      "_view_module_version": "1.5.0",
      "_view_name": "HTMLView",
      "description": "",
      "description_tooltip": null,
      "layout": "IPY_MODEL_28b8ea9610bc404784981592b214838c",
      "placeholder": "​",
      "style": "IPY_MODEL_2fe62876c4c445168a11a464ab6a4d31",
      "value": "100%"
     }
    },
    "eaf369640c414194bcbf8314fe419343": {
     "model_module": "@jupyter-widgets/controls",
     "model_name": "FloatProgressModel",
     "model_module_version": "1.5.0",
     "state": {
      "_dom_classes": [],
      "_model_module": "@jupyter-widgets/controls",
      "_model_module_version": "1.5.0",
      "_model_name": "FloatProgressModel",
      "_view_count": null,
      "_view_module": "@jupyter-widgets/controls",
      "_view_module_version": "1.5.0",
      "_view_name": "ProgressView",
      "bar_style": "success",
      "description": "",
      "description_tooltip": null,
      "layout": "IPY_MODEL_fff7b95df49a40c39a88f2859c766525",
      "max": 4422102,
      "min": 0,
      "orientation": "horizontal",
      "style": "IPY_MODEL_a76218a41bd74be6ae07a9838297b75f",
      "value": 4422102
     }
    },
    "8195dc6ffc444bd8b2168d40efadf89c": {
     "model_module": "@jupyter-widgets/controls",
     "model_name": "HTMLModel",
     "model_module_version": "1.5.0",
     "state": {
      "_dom_classes": [],
      "_model_module": "@jupyter-widgets/controls",
      "_model_module_version": "1.5.0",
      "_model_name": "HTMLModel",
      "_view_count": null,
      "_view_module": "@jupyter-widgets/controls",
      "_view_module_version": "1.5.0",
      "_view_name": "HTMLView",
      "description": "",
      "description_tooltip": null,
      "layout": "IPY_MODEL_3e4aff2b2f4042dea1b8f7fa94529cc1",
      "placeholder": "​",
      "style": "IPY_MODEL_3bcef2c29ec34487883ea6065845a502",
      "value": " 4422102/4422102 [00:01&lt;00:00, 3445179.30it/s]"
     }
    },
    "77e5378b4b714409b55406acc5d8c57f": {
     "model_module": "@jupyter-widgets/base",
     "model_name": "LayoutModel",
     "model_module_version": "1.2.0",
     "state": {
      "_model_module": "@jupyter-widgets/base",
      "_model_module_version": "1.2.0",
      "_model_name": "LayoutModel",
      "_view_count": null,
      "_view_module": "@jupyter-widgets/base",
      "_view_module_version": "1.2.0",
      "_view_name": "LayoutView",
      "align_content": null,
      "align_items": null,
      "align_self": null,
      "border": null,
      "bottom": null,
      "display": null,
      "flex": null,
      "flex_flow": null,
      "grid_area": null,
      "grid_auto_columns": null,
      "grid_auto_flow": null,
      "grid_auto_rows": null,
      "grid_column": null,
      "grid_gap": null,
      "grid_row": null,
      "grid_template_areas": null,
      "grid_template_columns": null,
      "grid_template_rows": null,
      "height": null,
      "justify_content": null,
      "justify_items": null,
      "left": null,
      "margin": null,
      "max_height": null,
      "max_width": null,
      "min_height": null,
      "min_width": null,
      "object_fit": null,
      "object_position": null,
      "order": null,
      "overflow": null,
      "overflow_x": null,
      "overflow_y": null,
      "padding": null,
      "right": null,
      "top": null,
      "visibility": null,
      "width": null
     }
    },
    "28b8ea9610bc404784981592b214838c": {
     "model_module": "@jupyter-widgets/base",
     "model_name": "LayoutModel",
     "model_module_version": "1.2.0",
     "state": {
      "_model_module": "@jupyter-widgets/base",
      "_model_module_version": "1.2.0",
      "_model_name": "LayoutModel",
      "_view_count": null,
      "_view_module": "@jupyter-widgets/base",
      "_view_module_version": "1.2.0",
      "_view_name": "LayoutView",
      "align_content": null,
      "align_items": null,
      "align_self": null,
      "border": null,
      "bottom": null,
      "display": null,
      "flex": null,
      "flex_flow": null,
      "grid_area": null,
      "grid_auto_columns": null,
      "grid_auto_flow": null,
      "grid_auto_rows": null,
      "grid_column": null,
      "grid_gap": null,
      "grid_row": null,
      "grid_template_areas": null,
      "grid_template_columns": null,
      "grid_template_rows": null,
      "height": null,
      "justify_content": null,
      "justify_items": null,
      "left": null,
      "margin": null,
      "max_height": null,
      "max_width": null,
      "min_height": null,
      "min_width": null,
      "object_fit": null,
      "object_position": null,
      "order": null,
      "overflow": null,
      "overflow_x": null,
      "overflow_y": null,
      "padding": null,
      "right": null,
      "top": null,
      "visibility": null,
      "width": null
     }
    },
    "2fe62876c4c445168a11a464ab6a4d31": {
     "model_module": "@jupyter-widgets/controls",
     "model_name": "DescriptionStyleModel",
     "model_module_version": "1.5.0",
     "state": {
      "_model_module": "@jupyter-widgets/controls",
      "_model_module_version": "1.5.0",
      "_model_name": "DescriptionStyleModel",
      "_view_count": null,
      "_view_module": "@jupyter-widgets/base",
      "_view_module_version": "1.2.0",
      "_view_name": "StyleView",
      "description_width": ""
     }
    },
    "fff7b95df49a40c39a88f2859c766525": {
     "model_module": "@jupyter-widgets/base",
     "model_name": "LayoutModel",
     "model_module_version": "1.2.0",
     "state": {
      "_model_module": "@jupyter-widgets/base",
      "_model_module_version": "1.2.0",
      "_model_name": "LayoutModel",
      "_view_count": null,
      "_view_module": "@jupyter-widgets/base",
      "_view_module_version": "1.2.0",
      "_view_name": "LayoutView",
      "align_content": null,
      "align_items": null,
      "align_self": null,
      "border": null,
      "bottom": null,
      "display": null,
      "flex": null,
      "flex_flow": null,
      "grid_area": null,
      "grid_auto_columns": null,
      "grid_auto_flow": null,
      "grid_auto_rows": null,
      "grid_column": null,
      "grid_gap": null,
      "grid_row": null,
      "grid_template_areas": null,
      "grid_template_columns": null,
      "grid_template_rows": null,
      "height": null,
      "justify_content": null,
      "justify_items": null,
      "left": null,
      "margin": null,
      "max_height": null,
      "max_width": null,
      "min_height": null,
      "min_width": null,
      "object_fit": null,
      "object_position": null,
      "order": null,
      "overflow": null,
      "overflow_x": null,
      "overflow_y": null,
      "padding": null,
      "right": null,
      "top": null,
      "visibility": null,
      "width": null
     }
    },
    "a76218a41bd74be6ae07a9838297b75f": {
     "model_module": "@jupyter-widgets/controls",
     "model_name": "ProgressStyleModel",
     "model_module_version": "1.5.0",
     "state": {
      "_model_module": "@jupyter-widgets/controls",
      "_model_module_version": "1.5.0",
      "_model_name": "ProgressStyleModel",
      "_view_count": null,
      "_view_module": "@jupyter-widgets/base",
      "_view_module_version": "1.2.0",
      "_view_name": "StyleView",
      "bar_color": null,
      "description_width": ""
     }
    },
    "3e4aff2b2f4042dea1b8f7fa94529cc1": {
     "model_module": "@jupyter-widgets/base",
     "model_name": "LayoutModel",
     "model_module_version": "1.2.0",
     "state": {
      "_model_module": "@jupyter-widgets/base",
      "_model_module_version": "1.2.0",
      "_model_name": "LayoutModel",
      "_view_count": null,
      "_view_module": "@jupyter-widgets/base",
      "_view_module_version": "1.2.0",
      "_view_name": "LayoutView",
      "align_content": null,
      "align_items": null,
      "align_self": null,
      "border": null,
      "bottom": null,
      "display": null,
      "flex": null,
      "flex_flow": null,
      "grid_area": null,
      "grid_auto_columns": null,
      "grid_auto_flow": null,
      "grid_auto_rows": null,
      "grid_column": null,
      "grid_gap": null,
      "grid_row": null,
      "grid_template_areas": null,
      "grid_template_columns": null,
      "grid_template_rows": null,
      "height": null,
      "justify_content": null,
      "justify_items": null,
      "left": null,
      "margin": null,
      "max_height": null,
      "max_width": null,
      "min_height": null,
      "min_width": null,
      "object_fit": null,
      "object_position": null,
      "order": null,
      "overflow": null,
      "overflow_x": null,
      "overflow_y": null,
      "padding": null,
      "right": null,
      "top": null,
      "visibility": null,
      "width": null
     }
    },
    "3bcef2c29ec34487883ea6065845a502": {
     "model_module": "@jupyter-widgets/controls",
     "model_name": "DescriptionStyleModel",
     "model_module_version": "1.5.0",
     "state": {
      "_model_module": "@jupyter-widgets/controls",
      "_model_module_version": "1.5.0",
      "_model_name": "DescriptionStyleModel",
      "_view_count": null,
      "_view_module": "@jupyter-widgets/base",
      "_view_module_version": "1.2.0",
      "_view_name": "StyleView",
      "description_width": ""
     }
    },
    "038cd814c1314326bf6fdc94cfdc3f15": {
     "model_module": "@jupyter-widgets/controls",
     "model_name": "HBoxModel",
     "model_module_version": "1.5.0",
     "state": {
      "_dom_classes": [],
      "_model_module": "@jupyter-widgets/controls",
      "_model_module_version": "1.5.0",
      "_model_name": "HBoxModel",
      "_view_count": null,
      "_view_module": "@jupyter-widgets/controls",
      "_view_module_version": "1.5.0",
      "_view_name": "HBoxView",
      "box_style": "",
      "children": [
       "IPY_MODEL_392435d0be744b03b2e181071675c3dd",
       "IPY_MODEL_0a7f1993628a44578ec612fe4bbf35c0",
       "IPY_MODEL_55b5a5998e2b4887b27b6a91590d529e"
      ],
      "layout": "IPY_MODEL_1c9602dc8e17471e98f0943a8f053218"
     }
    },
    "392435d0be744b03b2e181071675c3dd": {
     "model_module": "@jupyter-widgets/controls",
     "model_name": "HTMLModel",
     "model_module_version": "1.5.0",
     "state": {
      "_dom_classes": [],
      "_model_module": "@jupyter-widgets/controls",
      "_model_module_version": "1.5.0",
      "_model_name": "HTMLModel",
      "_view_count": null,
      "_view_module": "@jupyter-widgets/controls",
      "_view_module_version": "1.5.0",
      "_view_name": "HTMLView",
      "description": "",
      "description_tooltip": null,
      "layout": "IPY_MODEL_0745576fcb434e6c85bd3fce3c968f44",
      "placeholder": "​",
      "style": "IPY_MODEL_8331932e8075499b9829ccb1f28ed0c6",
      "value": "100%"
     }
    },
    "0a7f1993628a44578ec612fe4bbf35c0": {
     "model_module": "@jupyter-widgets/controls",
     "model_name": "FloatProgressModel",
     "model_module_version": "1.5.0",
     "state": {
      "_dom_classes": [],
      "_model_module": "@jupyter-widgets/controls",
      "_model_module_version": "1.5.0",
      "_model_name": "FloatProgressModel",
      "_view_count": null,
      "_view_module": "@jupyter-widgets/controls",
      "_view_module_version": "1.5.0",
      "_view_name": "ProgressView",
      "bar_style": "success",
      "description": "",
      "description_tooltip": null,
      "layout": "IPY_MODEL_7f4210df667d4675934361e2412f2e0e",
      "max": 5148,
      "min": 0,
      "orientation": "horizontal",
      "style": "IPY_MODEL_2a4eda5fd6a8424392f1bd9da91f692a",
      "value": 5148
     }
    },
    "55b5a5998e2b4887b27b6a91590d529e": {
     "model_module": "@jupyter-widgets/controls",
     "model_name": "HTMLModel",
     "model_module_version": "1.5.0",
     "state": {
      "_dom_classes": [],
      "_model_module": "@jupyter-widgets/controls",
      "_model_module_version": "1.5.0",
      "_model_name": "HTMLModel",
      "_view_count": null,
      "_view_module": "@jupyter-widgets/controls",
      "_view_module_version": "1.5.0",
      "_view_name": "HTMLView",
      "description": "",
      "description_tooltip": null,
      "layout": "IPY_MODEL_75aef09e1fa34b00918056bebe3cb96d",
      "placeholder": "​",
      "style": "IPY_MODEL_f378b8b9ea444582b334917ce149d07b",
      "value": " 5148/5148 [00:00&lt;00:00, 26223.73it/s]"
     }
    },
    "1c9602dc8e17471e98f0943a8f053218": {
     "model_module": "@jupyter-widgets/base",
     "model_name": "LayoutModel",
     "model_module_version": "1.2.0",
     "state": {
      "_model_module": "@jupyter-widgets/base",
      "_model_module_version": "1.2.0",
      "_model_name": "LayoutModel",
      "_view_count": null,
      "_view_module": "@jupyter-widgets/base",
      "_view_module_version": "1.2.0",
      "_view_name": "LayoutView",
      "align_content": null,
      "align_items": null,
      "align_self": null,
      "border": null,
      "bottom": null,
      "display": null,
      "flex": null,
      "flex_flow": null,
      "grid_area": null,
      "grid_auto_columns": null,
      "grid_auto_flow": null,
      "grid_auto_rows": null,
      "grid_column": null,
      "grid_gap": null,
      "grid_row": null,
      "grid_template_areas": null,
      "grid_template_columns": null,
      "grid_template_rows": null,
      "height": null,
      "justify_content": null,
      "justify_items": null,
      "left": null,
      "margin": null,
      "max_height": null,
      "max_width": null,
      "min_height": null,
      "min_width": null,
      "object_fit": null,
      "object_position": null,
      "order": null,
      "overflow": null,
      "overflow_x": null,
      "overflow_y": null,
      "padding": null,
      "right": null,
      "top": null,
      "visibility": null,
      "width": null
     }
    },
    "0745576fcb434e6c85bd3fce3c968f44": {
     "model_module": "@jupyter-widgets/base",
     "model_name": "LayoutModel",
     "model_module_version": "1.2.0",
     "state": {
      "_model_module": "@jupyter-widgets/base",
      "_model_module_version": "1.2.0",
      "_model_name": "LayoutModel",
      "_view_count": null,
      "_view_module": "@jupyter-widgets/base",
      "_view_module_version": "1.2.0",
      "_view_name": "LayoutView",
      "align_content": null,
      "align_items": null,
      "align_self": null,
      "border": null,
      "bottom": null,
      "display": null,
      "flex": null,
      "flex_flow": null,
      "grid_area": null,
      "grid_auto_columns": null,
      "grid_auto_flow": null,
      "grid_auto_rows": null,
      "grid_column": null,
      "grid_gap": null,
      "grid_row": null,
      "grid_template_areas": null,
      "grid_template_columns": null,
      "grid_template_rows": null,
      "height": null,
      "justify_content": null,
      "justify_items": null,
      "left": null,
      "margin": null,
      "max_height": null,
      "max_width": null,
      "min_height": null,
      "min_width": null,
      "object_fit": null,
      "object_position": null,
      "order": null,
      "overflow": null,
      "overflow_x": null,
      "overflow_y": null,
      "padding": null,
      "right": null,
      "top": null,
      "visibility": null,
      "width": null
     }
    },
    "8331932e8075499b9829ccb1f28ed0c6": {
     "model_module": "@jupyter-widgets/controls",
     "model_name": "DescriptionStyleModel",
     "model_module_version": "1.5.0",
     "state": {
      "_model_module": "@jupyter-widgets/controls",
      "_model_module_version": "1.5.0",
      "_model_name": "DescriptionStyleModel",
      "_view_count": null,
      "_view_module": "@jupyter-widgets/base",
      "_view_module_version": "1.2.0",
      "_view_name": "StyleView",
      "description_width": ""
     }
    },
    "7f4210df667d4675934361e2412f2e0e": {
     "model_module": "@jupyter-widgets/base",
     "model_name": "LayoutModel",
     "model_module_version": "1.2.0",
     "state": {
      "_model_module": "@jupyter-widgets/base",
      "_model_module_version": "1.2.0",
      "_model_name": "LayoutModel",
      "_view_count": null,
      "_view_module": "@jupyter-widgets/base",
      "_view_module_version": "1.2.0",
      "_view_name": "LayoutView",
      "align_content": null,
      "align_items": null,
      "align_self": null,
      "border": null,
      "bottom": null,
      "display": null,
      "flex": null,
      "flex_flow": null,
      "grid_area": null,
      "grid_auto_columns": null,
      "grid_auto_flow": null,
      "grid_auto_rows": null,
      "grid_column": null,
      "grid_gap": null,
      "grid_row": null,
      "grid_template_areas": null,
      "grid_template_columns": null,
      "grid_template_rows": null,
      "height": null,
      "justify_content": null,
      "justify_items": null,
      "left": null,
      "margin": null,
      "max_height": null,
      "max_width": null,
      "min_height": null,
      "min_width": null,
      "object_fit": null,
      "object_position": null,
      "order": null,
      "overflow": null,
      "overflow_x": null,
      "overflow_y": null,
      "padding": null,
      "right": null,
      "top": null,
      "visibility": null,
      "width": null
     }
    },
    "2a4eda5fd6a8424392f1bd9da91f692a": {
     "model_module": "@jupyter-widgets/controls",
     "model_name": "ProgressStyleModel",
     "model_module_version": "1.5.0",
     "state": {
      "_model_module": "@jupyter-widgets/controls",
      "_model_module_version": "1.5.0",
      "_model_name": "ProgressStyleModel",
      "_view_count": null,
      "_view_module": "@jupyter-widgets/base",
      "_view_module_version": "1.2.0",
      "_view_name": "StyleView",
      "bar_color": null,
      "description_width": ""
     }
    },
    "75aef09e1fa34b00918056bebe3cb96d": {
     "model_module": "@jupyter-widgets/base",
     "model_name": "LayoutModel",
     "model_module_version": "1.2.0",
     "state": {
      "_model_module": "@jupyter-widgets/base",
      "_model_module_version": "1.2.0",
      "_model_name": "LayoutModel",
      "_view_count": null,
      "_view_module": "@jupyter-widgets/base",
      "_view_module_version": "1.2.0",
      "_view_name": "LayoutView",
      "align_content": null,
      "align_items": null,
      "align_self": null,
      "border": null,
      "bottom": null,
      "display": null,
      "flex": null,
      "flex_flow": null,
      "grid_area": null,
      "grid_auto_columns": null,
      "grid_auto_flow": null,
      "grid_auto_rows": null,
      "grid_column": null,
      "grid_gap": null,
      "grid_row": null,
      "grid_template_areas": null,
      "grid_template_columns": null,
      "grid_template_rows": null,
      "height": null,
      "justify_content": null,
      "justify_items": null,
      "left": null,
      "margin": null,
      "max_height": null,
      "max_width": null,
      "min_height": null,
      "min_width": null,
      "object_fit": null,
      "object_position": null,
      "order": null,
      "overflow": null,
      "overflow_x": null,
      "overflow_y": null,
      "padding": null,
      "right": null,
      "top": null,
      "visibility": null,
      "width": null
     }
    },
    "f378b8b9ea444582b334917ce149d07b": {
     "model_module": "@jupyter-widgets/controls",
     "model_name": "DescriptionStyleModel",
     "model_module_version": "1.5.0",
     "state": {
      "_model_module": "@jupyter-widgets/controls",
      "_model_module_version": "1.5.0",
      "_model_name": "DescriptionStyleModel",
      "_view_count": null,
      "_view_module": "@jupyter-widgets/base",
      "_view_module_version": "1.2.0",
      "_view_name": "StyleView",
      "description_width": ""
     }
    },
    "5f2c64c84f9b485398d29369337bf74b": {
     "model_module": "@jupyter-widgets/controls",
     "model_name": "HBoxModel",
     "model_module_version": "1.5.0",
     "state": {
      "_dom_classes": [],
      "_model_module": "@jupyter-widgets/controls",
      "_model_module_version": "1.5.0",
      "_model_name": "HBoxModel",
      "_view_count": null,
      "_view_module": "@jupyter-widgets/controls",
      "_view_module_version": "1.5.0",
      "_view_name": "HBoxView",
      "box_style": "",
      "children": [
       "IPY_MODEL_badd8fa5aef448748366de7122f0b784",
       "IPY_MODEL_7e77e641cbb1427db8d787a1fbbfcc8b",
       "IPY_MODEL_fcc94c9f37024cce851d9e91706ec8cb"
      ],
      "layout": "IPY_MODEL_1b2bab61a82d4970a01236b2005cdfaf"
     }
    },
    "badd8fa5aef448748366de7122f0b784": {
     "model_module": "@jupyter-widgets/controls",
     "model_name": "HTMLModel",
     "model_module_version": "1.5.0",
     "state": {
      "_dom_classes": [],
      "_model_module": "@jupyter-widgets/controls",
      "_model_module_version": "1.5.0",
      "_model_name": "HTMLModel",
      "_view_count": null,
      "_view_module": "@jupyter-widgets/controls",
      "_view_module_version": "1.5.0",
      "_view_name": "HTMLView",
      "description": "",
      "description_tooltip": null,
      "layout": "IPY_MODEL_fc968d2074154fb29820e0eff7dee8f5",
      "placeholder": "​",
      "style": "IPY_MODEL_a97a4a9d82b44abda3a25aa4fbeb38cd",
      "value": "100%"
     }
    },
    "7e77e641cbb1427db8d787a1fbbfcc8b": {
     "model_module": "@jupyter-widgets/controls",
     "model_name": "FloatProgressModel",
     "model_module_version": "1.5.0",
     "state": {
      "_dom_classes": [],
      "_model_module": "@jupyter-widgets/controls",
      "_model_module_version": "1.5.0",
      "_model_name": "FloatProgressModel",
      "_view_count": null,
      "_view_module": "@jupyter-widgets/controls",
      "_view_module_version": "1.5.0",
      "_view_name": "ProgressView",
      "bar_style": "success",
      "description": "",
      "description_tooltip": null,
      "layout": "IPY_MODEL_7b9db1d95e744895a96b5f9fdf0e5bc5",
      "max": 170498071,
      "min": 0,
      "orientation": "horizontal",
      "style": "IPY_MODEL_bcd5561e7d1a40e1ad9b6f742f8d5f3b",
      "value": 170498071
     }
    },
    "fcc94c9f37024cce851d9e91706ec8cb": {
     "model_module": "@jupyter-widgets/controls",
     "model_name": "HTMLModel",
     "model_module_version": "1.5.0",
     "state": {
      "_dom_classes": [],
      "_model_module": "@jupyter-widgets/controls",
      "_model_module_version": "1.5.0",
      "_model_name": "HTMLModel",
      "_view_count": null,
      "_view_module": "@jupyter-widgets/controls",
      "_view_module_version": "1.5.0",
      "_view_name": "HTMLView",
      "description": "",
      "description_tooltip": null,
      "layout": "IPY_MODEL_d44642394e9444d8a10f549d973a102c",
      "placeholder": "​",
      "style": "IPY_MODEL_4a44c8fee3de46ec94e1ffedbfec62de",
      "value": " 170498071/170498071 [00:14&lt;00:00, 13532060.63it/s]"
     }
    },
    "1b2bab61a82d4970a01236b2005cdfaf": {
     "model_module": "@jupyter-widgets/base",
     "model_name": "LayoutModel",
     "model_module_version": "1.2.0",
     "state": {
      "_model_module": "@jupyter-widgets/base",
      "_model_module_version": "1.2.0",
      "_model_name": "LayoutModel",
      "_view_count": null,
      "_view_module": "@jupyter-widgets/base",
      "_view_module_version": "1.2.0",
      "_view_name": "LayoutView",
      "align_content": null,
      "align_items": null,
      "align_self": null,
      "border": null,
      "bottom": null,
      "display": null,
      "flex": null,
      "flex_flow": null,
      "grid_area": null,
      "grid_auto_columns": null,
      "grid_auto_flow": null,
      "grid_auto_rows": null,
      "grid_column": null,
      "grid_gap": null,
      "grid_row": null,
      "grid_template_areas": null,
      "grid_template_columns": null,
      "grid_template_rows": null,
      "height": null,
      "justify_content": null,
      "justify_items": null,
      "left": null,
      "margin": null,
      "max_height": null,
      "max_width": null,
      "min_height": null,
      "min_width": null,
      "object_fit": null,
      "object_position": null,
      "order": null,
      "overflow": null,
      "overflow_x": null,
      "overflow_y": null,
      "padding": null,
      "right": null,
      "top": null,
      "visibility": null,
      "width": null
     }
    },
    "fc968d2074154fb29820e0eff7dee8f5": {
     "model_module": "@jupyter-widgets/base",
     "model_name": "LayoutModel",
     "model_module_version": "1.2.0",
     "state": {
      "_model_module": "@jupyter-widgets/base",
      "_model_module_version": "1.2.0",
      "_model_name": "LayoutModel",
      "_view_count": null,
      "_view_module": "@jupyter-widgets/base",
      "_view_module_version": "1.2.0",
      "_view_name": "LayoutView",
      "align_content": null,
      "align_items": null,
      "align_self": null,
      "border": null,
      "bottom": null,
      "display": null,
      "flex": null,
      "flex_flow": null,
      "grid_area": null,
      "grid_auto_columns": null,
      "grid_auto_flow": null,
      "grid_auto_rows": null,
      "grid_column": null,
      "grid_gap": null,
      "grid_row": null,
      "grid_template_areas": null,
      "grid_template_columns": null,
      "grid_template_rows": null,
      "height": null,
      "justify_content": null,
      "justify_items": null,
      "left": null,
      "margin": null,
      "max_height": null,
      "max_width": null,
      "min_height": null,
      "min_width": null,
      "object_fit": null,
      "object_position": null,
      "order": null,
      "overflow": null,
      "overflow_x": null,
      "overflow_y": null,
      "padding": null,
      "right": null,
      "top": null,
      "visibility": null,
      "width": null
     }
    },
    "a97a4a9d82b44abda3a25aa4fbeb38cd": {
     "model_module": "@jupyter-widgets/controls",
     "model_name": "DescriptionStyleModel",
     "model_module_version": "1.5.0",
     "state": {
      "_model_module": "@jupyter-widgets/controls",
      "_model_module_version": "1.5.0",
      "_model_name": "DescriptionStyleModel",
      "_view_count": null,
      "_view_module": "@jupyter-widgets/base",
      "_view_module_version": "1.2.0",
      "_view_name": "StyleView",
      "description_width": ""
     }
    },
    "7b9db1d95e744895a96b5f9fdf0e5bc5": {
     "model_module": "@jupyter-widgets/base",
     "model_name": "LayoutModel",
     "model_module_version": "1.2.0",
     "state": {
      "_model_module": "@jupyter-widgets/base",
      "_model_module_version": "1.2.0",
      "_model_name": "LayoutModel",
      "_view_count": null,
      "_view_module": "@jupyter-widgets/base",
      "_view_module_version": "1.2.0",
      "_view_name": "LayoutView",
      "align_content": null,
      "align_items": null,
      "align_self": null,
      "border": null,
      "bottom": null,
      "display": null,
      "flex": null,
      "flex_flow": null,
      "grid_area": null,
      "grid_auto_columns": null,
      "grid_auto_flow": null,
      "grid_auto_rows": null,
      "grid_column": null,
      "grid_gap": null,
      "grid_row": null,
      "grid_template_areas": null,
      "grid_template_columns": null,
      "grid_template_rows": null,
      "height": null,
      "justify_content": null,
      "justify_items": null,
      "left": null,
      "margin": null,
      "max_height": null,
      "max_width": null,
      "min_height": null,
      "min_width": null,
      "object_fit": null,
      "object_position": null,
      "order": null,
      "overflow": null,
      "overflow_x": null,
      "overflow_y": null,
      "padding": null,
      "right": null,
      "top": null,
      "visibility": null,
      "width": null
     }
    },
    "bcd5561e7d1a40e1ad9b6f742f8d5f3b": {
     "model_module": "@jupyter-widgets/controls",
     "model_name": "ProgressStyleModel",
     "model_module_version": "1.5.0",
     "state": {
      "_model_module": "@jupyter-widgets/controls",
      "_model_module_version": "1.5.0",
      "_model_name": "ProgressStyleModel",
      "_view_count": null,
      "_view_module": "@jupyter-widgets/base",
      "_view_module_version": "1.2.0",
      "_view_name": "StyleView",
      "bar_color": null,
      "description_width": ""
     }
    },
    "d44642394e9444d8a10f549d973a102c": {
     "model_module": "@jupyter-widgets/base",
     "model_name": "LayoutModel",
     "model_module_version": "1.2.0",
     "state": {
      "_model_module": "@jupyter-widgets/base",
      "_model_module_version": "1.2.0",
      "_model_name": "LayoutModel",
      "_view_count": null,
      "_view_module": "@jupyter-widgets/base",
      "_view_module_version": "1.2.0",
      "_view_name": "LayoutView",
      "align_content": null,
      "align_items": null,
      "align_self": null,
      "border": null,
      "bottom": null,
      "display": null,
      "flex": null,
      "flex_flow": null,
      "grid_area": null,
      "grid_auto_columns": null,
      "grid_auto_flow": null,
      "grid_auto_rows": null,
      "grid_column": null,
      "grid_gap": null,
      "grid_row": null,
      "grid_template_areas": null,
      "grid_template_columns": null,
      "grid_template_rows": null,
      "height": null,
      "justify_content": null,
      "justify_items": null,
      "left": null,
      "margin": null,
      "max_height": null,
      "max_width": null,
      "min_height": null,
      "min_width": null,
      "object_fit": null,
      "object_position": null,
      "order": null,
      "overflow": null,
      "overflow_x": null,
      "overflow_y": null,
      "padding": null,
      "right": null,
      "top": null,
      "visibility": null,
      "width": null
     }
    },
    "4a44c8fee3de46ec94e1ffedbfec62de": {
     "model_module": "@jupyter-widgets/controls",
     "model_name": "DescriptionStyleModel",
     "model_module_version": "1.5.0",
     "state": {
      "_model_module": "@jupyter-widgets/controls",
      "_model_module_version": "1.5.0",
      "_model_name": "DescriptionStyleModel",
      "_view_count": null,
      "_view_module": "@jupyter-widgets/base",
      "_view_module_version": "1.2.0",
      "_view_name": "StyleView",
      "description_width": ""
     }
    }
   }
  }
 },
 "nbformat": 4,
 "nbformat_minor": 0
}
