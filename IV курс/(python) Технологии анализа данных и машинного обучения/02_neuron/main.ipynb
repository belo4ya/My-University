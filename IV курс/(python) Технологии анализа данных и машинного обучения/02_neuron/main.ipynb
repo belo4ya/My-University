{
 "cells": [
  {
   "cell_type": "markdown",
   "metadata": {},
   "source": [
    "# 2. Создание нейронной сети без использования готовых решений\n",
    "\n",
    "__Автор__: Никита Владимирович Блохин (NVBlokhin@fa.ru)\n",
    "\n",
    "Финансовый университет, 2020 г. "
   ]
  },
  {
   "cell_type": "code",
   "execution_count": 342,
   "metadata": {
    "id": "PqC4R7SGseKa"
   },
   "outputs": [],
   "source": [
    "import torch\n",
    "import torch.nn as nn\n",
    "import torch.nn.functional as F"
   ]
  },
  {
   "cell_type": "code",
   "execution_count": 343,
   "outputs": [],
   "source": [
    "torch.set_warn_always(True)"
   ],
   "metadata": {
    "collapsed": false
   }
  },
  {
   "cell_type": "markdown",
   "metadata": {
    "id": "0J2RM8f5wP33"
   },
   "source": [
    "## 1. Создание нейронов и полносвязных слоев"
   ]
  },
  {
   "cell_type": "markdown",
   "metadata": {
    "id": "_2ArJn_nsdZC"
   },
   "source": [
    "1.1. Используя операции над матрицами и векторами из библиотеки `torch`, реализовать нейрон с заданными весами `weights` и `bias`. Прогнать вектор `inputs` через нейрон и вывести результат. "
   ]
  },
  {
   "cell_type": "code",
   "execution_count": 344,
   "metadata": {
    "id": "f4agkY9WqPwe"
   },
   "outputs": [],
   "source": [
    "class Neuron:\n",
    "\n",
    "    def __init__(self, weights: torch.Tensor, bias: torch.Tensor):\n",
    "        self.weights = weights\n",
    "        self.bias = bias\n",
    "\n",
    "    def forward(self, inputs: torch.Tensor) -> torch.Tensor:\n",
    "        return torch.sum(inputs * self.weights) + self.bias"
   ]
  },
  {
   "cell_type": "code",
   "execution_count": 345,
   "metadata": {
    "id": "HJRkSkHHsb7u"
   },
   "outputs": [],
   "source": [
    "inputs = torch.tensor([1.0, 2.0, 3.0, 4.0])\n",
    "weights = torch.tensor([-0.2, 0.3, -0.5, 0.7])\n",
    "bias = torch.tensor(3.14)"
   ]
  },
  {
   "cell_type": "code",
   "execution_count": 346,
   "outputs": [
    {
     "name": "stdout",
     "output_type": "stream",
     "text": [
      "Neuron.forward: 4.840000152587891\n",
      "functional.linear: 4.840000152587891\n"
     ]
    }
   ],
   "source": [
    "neuron = Neuron(weights, bias)\n",
    "print(f'Neuron.forward: {neuron.forward(inputs)}')\n",
    "print(f'functional.linear: {F.linear(inputs, weights, bias)}')"
   ],
   "metadata": {
    "collapsed": false
   }
  },
  {
   "cell_type": "markdown",
   "metadata": {
    "id": "1qJvnwiyty37"
   },
   "source": [
    "1.2 Используя операции над матрицами и векторами из библиотеки `torch`, реализовать полносвязный слой с заданными весами `weights` и `biases`. Прогнать вектор `inputs` через слой и вывести результат. "
   ]
  },
  {
   "cell_type": "code",
   "execution_count": 347,
   "metadata": {
    "id": "fVWF3a9vtx90"
   },
   "outputs": [],
   "source": [
    "class Linear:\n",
    "\n",
    "    def __init__(self, weights: torch.Tensor, biases: torch.Tensor):\n",
    "        self.weights = weights\n",
    "        self.biases = biases\n",
    "\n",
    "    def forward(self, inputs: torch.Tensor) -> torch.Tensor:\n",
    "        return torch.matmul(inputs, self.weights.T) + self.biases"
   ]
  },
  {
   "cell_type": "code",
   "execution_count": 348,
   "metadata": {
    "id": "Fo-JFnHPuFCS"
   },
   "outputs": [],
   "source": [
    "inputs = torch.tensor([1.0, 2.0, 3.0, 4.0])\n",
    "weights = torch.tensor([[-0.2, 0.3, -0.5, 0.7],\n",
    "                        [0.5, -0.91, 0.26, -0.5],\n",
    "                        [-0.26, -0.27, 0.17, 0.87]])  # убрал .T\n",
    "\n",
    "biases = torch.tensor([3.14, 2.71, 7.2])"
   ]
  },
  {
   "cell_type": "code",
   "execution_count": 349,
   "outputs": [
    {
     "name": "stdout",
     "output_type": "stream",
     "text": [
      "Linear.forward:\n",
      "tensor([ 4.8400,  0.1700, 10.3900])\n",
      "\n",
      "functional.linear:\n",
      "tensor([ 4.8400,  0.1700, 10.3900])\n"
     ]
    }
   ],
   "source": [
    "m = Linear(weights, biases)\n",
    "print(f'Linear.forward:\\n{m.forward(inputs)}')\n",
    "print(f'\\nfunctional.linear:\\n{F.linear(inputs, weights, biases)}')"
   ],
   "metadata": {
    "collapsed": false
   }
  },
  {
   "cell_type": "markdown",
   "metadata": {
    "id": "mQtsJzcxuyGd"
   },
   "source": [
    "1.3 Реализовать полносвязный слой из __2.1.2__ таким образом, чтобы он мог принимать на вход матрицу (батч) с данными. Продемонстрировать работу.\n",
    "Результатом прогона сквозь слой должна быть матрица размера `batch_size` x `n_neurons`.\n"
   ]
  },
  {
   "cell_type": "code",
   "execution_count": 350,
   "metadata": {
    "id": "Z8IizmtsuhO1"
   },
   "outputs": [],
   "source": [
    "inputs = torch.tensor([[1, 2, 3, 2.5],\n",
    "                       [2, 5, -1, 2],\n",
    "                       [-1.5, 2.7, 3.3, -0.8]])"
   ]
  },
  {
   "cell_type": "code",
   "execution_count": 351,
   "outputs": [
    {
     "name": "stdout",
     "output_type": "stream",
     "text": [
      "Linear.forward:\n",
      "tensor([[ 3.7900,  0.9200,  9.0850],\n",
      "        [ 6.1400, -2.1000,  6.9000],\n",
      "        [ 2.0400,  0.7610,  6.7260]])\n",
      "\n",
      "functional.linear:\n",
      "tensor([[ 3.7900,  0.9200,  9.0850],\n",
      "        [ 6.1400, -2.1000,  6.9000],\n",
      "        [ 2.0400,  0.7610,  6.7260]])\n"
     ]
    }
   ],
   "source": [
    "m = Linear(weights, biases)\n",
    "print(f'Linear.forward:\\n{m.forward(inputs)}')\n",
    "print(f'\\nfunctional.linear:\\n{F.linear(inputs, weights, biases)}')"
   ],
   "metadata": {
    "collapsed": false
   }
  },
  {
   "cell_type": "markdown",
   "metadata": {
    "id": "OQ2OxH4_vBLu"
   },
   "source": [
    "1.4 Используя операции над матрицами и векторами из библиотеки `torch`, реализовать полносвязный слой из `n_neurons` нейронов с `n_features` весами у каждого нейрона (инициализируются из стандартного нормального распределения). Прогнать вектор `inputs` через слой и вывести результат. Результатом прогона сквозь слой должна быть матрица размера `batch_size` x `n_neurons`."
   ]
  },
  {
   "cell_type": "code",
   "execution_count": 352,
   "metadata": {
    "id": "IOv52EdovASs"
   },
   "outputs": [],
   "source": [
    "class Linear:\n",
    "\n",
    "    def __init__(self, in_features: int, out_features: int):\n",
    "        self.in_features = in_features\n",
    "        self.out_features = out_features\n",
    "\n",
    "        self.weights = torch.randn(out_features, in_features, requires_grad=True)\n",
    "        self.biases = torch.randn(out_features, requires_grad=True)\n",
    "\n",
    "    def forward(self, inputs: torch.Tensor) -> torch.Tensor:\n",
    "        return torch.matmul(inputs, self.weights.T) + self.biases"
   ]
  },
  {
   "cell_type": "code",
   "execution_count": 353,
   "outputs": [
    {
     "data": {
      "text/plain": "tensor([[ -5.0178,   0.5240,  -3.9319],\n        [  4.0738,  -6.7887,  -3.5657],\n        [-11.6052,  -0.3882,  -3.1959]], grad_fn=<AddBackward0>)"
     },
     "execution_count": 353,
     "metadata": {},
     "output_type": "execute_result"
    }
   ],
   "source": [
    "torch.manual_seed(0)\n",
    "\n",
    "m = Linear(4, 3)\n",
    "m.forward(inputs)"
   ],
   "metadata": {
    "collapsed": false
   }
  },
  {
   "cell_type": "code",
   "execution_count": 354,
   "outputs": [
    {
     "data": {
      "text/plain": "tensor([[ -5.0178,   0.5240,  -3.9319],\n        [  4.0738,  -6.7887,  -3.5657],\n        [-11.6052,  -0.3882,  -3.1959]], grad_fn=<AddmmBackward0>)"
     },
     "execution_count": 354,
     "metadata": {},
     "output_type": "execute_result"
    }
   ],
   "source": [
    "# проверка\n",
    "nn_m = nn.Linear(4, 3)\n",
    "nn_m.weight = nn.Parameter(m.weights)\n",
    "nn_m.bias = nn.Parameter(m.biases)\n",
    "nn_m.forward(inputs)"
   ],
   "metadata": {
    "collapsed": false
   }
  },
  {
   "cell_type": "markdown",
   "metadata": {
    "id": "IPG4UqL4wajI"
   },
   "source": [
    "1.5 Используя решение из __1.4__, создать 2 полносвязных слоя и пропустить матрицу `inputs` последовательно через эти два слоя. Количество нейронов в первом слое выбрать произвольно, количество нейронов во втором слое выбрать так, чтобы результатом прогона являлась матрица (3x7)."
   ]
  },
  {
   "cell_type": "code",
   "execution_count": 355,
   "outputs": [],
   "source": [
    "class NeuralNet:\n",
    "\n",
    "    def __init__(self):\n",
    "        self.input = Linear(4, 10)\n",
    "        self.output = Linear(10, 7)\n",
    "\n",
    "    def forward(self, inputs: torch.Tensor) -> torch.Tensor:\n",
    "        return self.output.forward(self.input.forward(inputs))"
   ],
   "metadata": {
    "collapsed": false
   }
  },
  {
   "cell_type": "code",
   "execution_count": 356,
   "outputs": [],
   "source": [
    "inputs = torch.tensor([[1, 2, 3, 2.5],\n",
    "                       [2, 5, -1, 2],\n",
    "                       [-1.5, 2.7, 3.3, -0.8]])"
   ],
   "metadata": {
    "collapsed": false
   }
  },
  {
   "cell_type": "code",
   "execution_count": 357,
   "outputs": [
    {
     "data": {
      "text/plain": "tensor([[ 10.7402,   5.0857,  -1.4572, -15.8939, -12.8903,   1.4945,   8.3048],\n        [ 16.8392,   7.5460,  -9.4385,  17.2115, -15.5890, -11.7024,  22.9214],\n        [  4.0594,  15.9168,   6.6248,   3.1291,  -5.7448,  -8.4944,  -6.8320]],\n       grad_fn=<AddBackward0>)"
     },
     "execution_count": 357,
     "metadata": {},
     "output_type": "execute_result"
    }
   ],
   "source": [
    "torch.manual_seed(0)\n",
    "\n",
    "m = NeuralNet()\n",
    "m.forward(inputs)"
   ],
   "metadata": {
    "collapsed": false
   }
  },
  {
   "cell_type": "markdown",
   "metadata": {
    "id": "cRVH_2K7xTBC"
   },
   "source": [
    "## 2. Создание функций активации"
   ]
  },
  {
   "cell_type": "code",
   "execution_count": 358,
   "outputs": [],
   "source": [
    "def randn(*size: int, seed: int = 0) -> torch.Tensor:\n",
    "    torch.manual_seed(seed)\n",
    "    return torch.randn(*size)"
   ],
   "metadata": {
    "collapsed": false
   }
  },
  {
   "cell_type": "markdown",
   "metadata": {
    "id": "B9kngE6Fxs9D"
   },
   "source": [
    "2.1 Используя операции над матрицами и векторами из библиотеки `torch`, реализовать функцию активации ReLU:\n",
    "\n",
    "![](https://wikimedia.org/api/rest_v1/media/math/render/svg/f4353f4e3e484130504049599d2e7b040793e1eb)\n",
    "\n",
    "Создать матрицу размера (4,3), заполненную числами из стандартного нормального распределения, и проверить работоспособность функции активации."
   ]
  },
  {
   "cell_type": "code",
   "execution_count": 359,
   "metadata": {
    "id": "jZLvMRByxSTC"
   },
   "outputs": [],
   "source": [
    "class ReLU:\n",
    "\n",
    "    def forward(self, inputs: torch.Tensor) -> torch.Tensor:\n",
    "        return torch.maximum(inputs, torch.tensor(0))"
   ]
  },
  {
   "cell_type": "code",
   "execution_count": 360,
   "outputs": [
    {
     "data": {
      "text/plain": "tensor([[ 1.5410, -0.2934, -2.1788],\n        [ 0.5684, -1.0845, -1.3986],\n        [ 0.4033,  0.8380, -0.7193],\n        [-0.4033, -0.5966,  0.1820]])"
     },
     "execution_count": 360,
     "metadata": {},
     "output_type": "execute_result"
    }
   ],
   "source": [
    "inputs = randn(4, 3)\n",
    "inputs"
   ],
   "metadata": {
    "collapsed": false
   }
  },
  {
   "cell_type": "code",
   "execution_count": 361,
   "outputs": [
    {
     "name": "stdout",
     "output_type": "stream",
     "text": [
      "ReLU:\n",
      "tensor([[1.5410, 0.0000, 0.0000],\n",
      "        [0.5684, 0.0000, 0.0000],\n",
      "        [0.4033, 0.8380, 0.0000],\n",
      "        [0.0000, 0.0000, 0.1820]])\n",
      "\n",
      "nn.ReLU:\n",
      "tensor([[1.5410, 0.0000, 0.0000],\n",
      "        [0.5684, 0.0000, 0.0000],\n",
      "        [0.4033, 0.8380, 0.0000],\n",
      "        [0.0000, 0.0000, 0.1820]])\n"
     ]
    }
   ],
   "source": [
    "relu = ReLU()\n",
    "nn_relu = nn.ReLU()\n",
    "print(f'ReLU:\\n{relu.forward(inputs)}')\n",
    "print(f'\\nnn.ReLU:\\n{nn_relu.forward(inputs)}')"
   ],
   "metadata": {
    "collapsed": false
   }
  },
  {
   "cell_type": "markdown",
   "metadata": {
    "id": "puExCWiKyTtb"
   },
   "source": [
    "2.2 Используя операции над матрицами и векторами из библиотеки `torch`, реализовать функцию активации softmax:\n",
    "\n",
    "![](https://wikimedia.org/api/rest_v1/media/math/render/svg/6d7500d980c313da83e4117da701bf7c8f1982f5)\n",
    "\n",
    "Создать матрицу размера (4,3), заполненную числами из стандартного нормального распределения, и проверить работоспособность функции активации. Строки матрицы трактовать как выходы линейного слоя некоторого классификатора для 4 различных примеров."
   ]
  },
  {
   "cell_type": "code",
   "execution_count": 362,
   "metadata": {
    "id": "fXNcFlqqyKHl"
   },
   "outputs": [],
   "source": [
    "class Softmax:\n",
    "\n",
    "    def __init__(self, dim: int = 0):\n",
    "        assert dim == 0 or dim == 1\n",
    "        self.dim = dim\n",
    "\n",
    "    def forward(self, inputs: torch.Tensor) -> torch.Tensor:\n",
    "        exp = torch.exp(inputs)\n",
    "        return exp / torch.sum(exp, dim=self.dim).unsqueeze(self.dim)"
   ]
  },
  {
   "cell_type": "code",
   "execution_count": 363,
   "outputs": [
    {
     "data": {
      "text/plain": "tensor([[ 1.5410, -0.2934, -2.1788],\n        [ 0.5684, -1.0845, -1.3986],\n        [ 0.4033,  0.8380, -0.7193],\n        [-0.4033, -0.5966,  0.1820]])"
     },
     "execution_count": 363,
     "metadata": {},
     "output_type": "execute_result"
    }
   ],
   "source": [
    "inputs = randn(4, 3)\n",
    "inputs"
   ],
   "metadata": {
    "collapsed": false
   }
  },
  {
   "cell_type": "code",
   "execution_count": 364,
   "outputs": [
    {
     "name": "stdout",
     "output_type": "stream",
     "text": [
      "Softmax:\n",
      "tensor([[0.8446, 0.1349, 0.0205],\n",
      "        [0.7511, 0.1438, 0.1051],\n",
      "        [0.3484, 0.5382, 0.1134],\n",
      "        [0.2762, 0.2277, 0.4961]])\n",
      "\n",
      "nn.Softmax:\n",
      "tensor([[0.8446, 0.1349, 0.0205],\n",
      "        [0.7511, 0.1438, 0.1051],\n",
      "        [0.3484, 0.5382, 0.1134],\n",
      "        [0.2762, 0.2277, 0.4961]])\n"
     ]
    }
   ],
   "source": [
    "softmax = Softmax(dim=1)\n",
    "nn_softmax = nn.Softmax(dim=1)\n",
    "print(f'Softmax:\\n{softmax.forward(inputs)}')\n",
    "print(f'\\nnn.Softmax:\\n{nn_softmax.forward(inputs)}')"
   ],
   "metadata": {
    "collapsed": false
   }
  },
  {
   "cell_type": "markdown",
   "metadata": {
    "id": "vxVK2TYez_Ye"
   },
   "source": [
    "2.3 Используя операции над матрицами и векторами из библиотеки `torch`, реализовать функцию активации ELU:\n",
    "\n",
    "![](https://wikimedia.org/api/rest_v1/media/math/render/svg/eb23becd37c3602c4838e53f532163279192e4fd)\n",
    "\n",
    "Создать матрицу размера (4,3), заполненную числами из стандартного нормального распределения, и проверить работоспособность функции активации."
   ]
  },
  {
   "cell_type": "code",
   "execution_count": 365,
   "metadata": {
    "id": "NzMz7HDLySxK"
   },
   "outputs": [],
   "source": [
    "class ELU:\n",
    "\n",
    "    def __init__(self, alpha: float = 1):\n",
    "        self.alpha = alpha\n",
    "\n",
    "    def forward(self, inputs: torch.Tensor) -> torch.Tensor:\n",
    "        return torch.where(inputs > 0, inputs, self.alpha * (torch.exp(inputs) - 1))"
   ]
  },
  {
   "cell_type": "code",
   "execution_count": 366,
   "outputs": [
    {
     "data": {
      "text/plain": "tensor([[ 1.5410, -0.2934, -2.1788],\n        [ 0.5684, -1.0845, -1.3986],\n        [ 0.4033,  0.8380, -0.7193],\n        [-0.4033, -0.5966,  0.1820]])"
     },
     "execution_count": 366,
     "metadata": {},
     "output_type": "execute_result"
    }
   ],
   "source": [
    "inputs = randn(4, 3)\n",
    "inputs"
   ],
   "metadata": {
    "collapsed": false
   }
  },
  {
   "cell_type": "code",
   "execution_count": 367,
   "outputs": [
    {
     "name": "stdout",
     "output_type": "stream",
     "text": [
      "ELU:\n",
      "tensor([[ 1.5410, -0.3583, -1.2495],\n",
      "        [ 0.5684, -0.9327, -1.0611],\n",
      "        [ 0.4033,  0.8380, -0.7227],\n",
      "        [-0.4677, -0.6331,  0.1820]])\n",
      "\n",
      "nn.ELU:\n",
      "tensor([[ 1.5410, -0.3583, -1.2495],\n",
      "        [ 0.5684, -0.9327, -1.0611],\n",
      "        [ 0.4033,  0.8380, -0.7227],\n",
      "        [-0.4677, -0.6331,  0.1820]])\n"
     ]
    }
   ],
   "source": [
    "elu = ELU(alpha=1.409)\n",
    "nn_elu = nn.ELU(alpha=1.409)\n",
    "print(f'ELU:\\n{elu.forward(inputs)}')\n",
    "print(f'\\nnn.ELU:\\n{nn_elu.forward(inputs)}')"
   ],
   "metadata": {
    "collapsed": false
   }
  },
  {
   "cell_type": "markdown",
   "metadata": {
    "id": "0peh8r-20Pof"
   },
   "source": [
    "## 3. Создание функции потерь"
   ]
  },
  {
   "cell_type": "markdown",
   "metadata": {
    "id": "EY-k3eEs0f7f"
   },
   "source": [
    "3.1 Используя операции над матрицами и векторами из библиотеки `torch`, реализовать функцию потерь MSE:\n",
    "\n",
    "![](https://wikimedia.org/api/rest_v1/media/math/render/svg/e258221518869aa1c6561bb75b99476c4734108e)\n",
    "\n",
    "Создать полносвязный слой с 1 нейроном, прогнать через него батч `inputs` и посчитать значение MSE, трактуя вектор `y` как вектор правильных ответов."
   ]
  },
  {
   "cell_type": "code",
   "execution_count": 368,
   "metadata": {
    "id": "f9-wdj5Tz-br"
   },
   "outputs": [],
   "source": [
    "class MSELoss:\n",
    "\n",
    "    def forward(self, y_pred: torch.Tensor, y_true: torch.Tensor) -> torch.Tensor:\n",
    "        return torch.mean((y_true - y_pred) ** 2)"
   ]
  },
  {
   "cell_type": "code",
   "execution_count": 369,
   "metadata": {
    "id": "NAyuDU9F1Vuz"
   },
   "outputs": [],
   "source": [
    "inputs = torch.tensor([[1, 2, 3, 2.5],\n",
    "                       [2, 5, -1, 2],\n",
    "                       [-1.5, 2.7, 3.3, -0.8]])\n",
    "\n",
    "y = torch.tensor([2, 3, 4]).unsqueeze(1)"
   ]
  },
  {
   "cell_type": "code",
   "execution_count": 370,
   "outputs": [],
   "source": [
    "torch.manual_seed(0)\n",
    "\n",
    "layer = Linear(4, 1)\n",
    "y_pred = layer.forward(inputs)"
   ],
   "metadata": {
    "collapsed": false
   }
  },
  {
   "cell_type": "code",
   "execution_count": 371,
   "outputs": [
    {
     "name": "stdout",
     "output_type": "stream",
     "text": [
      "MSELoss:\n",
      "101.30004119873047\n",
      "\n",
      "nn.MSELoss:\n",
      "101.30004119873047\n"
     ]
    }
   ],
   "source": [
    "mse = MSELoss()\n",
    "nn_mse = nn.MSELoss()\n",
    "print(f'MSELoss:\\n{mse.forward(y_pred, y)}')\n",
    "print(f'\\nnn.MSELoss:\\n{nn_mse.forward(y_pred, y)}')"
   ],
   "metadata": {
    "collapsed": false
   }
  },
  {
   "cell_type": "markdown",
   "metadata": {
    "id": "uaR7rILd1eWR"
   },
   "source": [
    "3.2 Используя операции над матрицами и векторами из библиотеки `torch`, реализовать функцию потерь Categorical Cross-Entropy:\n",
    "\n",
    "<img src=\"https://i.ibb.co/93gy1dN/Screenshot-9.png\" width=\"200\">\n",
    "\n",
    "Создать полносвязный слой с 3 нейронами и прогнать через него батч `inputs`. Полученный результат пропустить через функцию активации softmax. Посчитать значение CCE, трактуя вектор `y` как вектор правильных ответов."
   ]
  },
  {
   "cell_type": "code",
   "execution_count": 372,
   "metadata": {
    "id": "hQl8pJsT3HcF"
   },
   "outputs": [],
   "source": [
    "class CategoricalCrossEntropyLoss:\n",
    "\n",
    "    def forward(self, y_pred: torch.Tensor, y_true: torch.Tensor) -> torch.Tensor:\n",
    "        return torch.mean(-torch.sum(y_true * torch.log(y_pred), dim=1))"
   ]
  },
  {
   "cell_type": "code",
   "execution_count": 373,
   "metadata": {
    "id": "s7Qoupfo1ZGJ"
   },
   "outputs": [],
   "source": [
    "inputs = torch.tensor([[1, 2, 3, 2.5],\n",
    "                       [2, 5, -1, 2],\n",
    "                       [-1.5, 2.7, 3.3, -0.8]])\n",
    "\n",
    "y = torch.tensor([1, 0, 0])"
   ]
  },
  {
   "cell_type": "code",
   "execution_count": 374,
   "outputs": [],
   "source": [
    "torch.manual_seed(0)\n",
    "\n",
    "layer = Linear(4, 3)\n",
    "softmax = Softmax()\n",
    "y_pred = softmax.forward(layer.forward(inputs))"
   ],
   "metadata": {
    "collapsed": false
   }
  },
  {
   "cell_type": "code",
   "execution_count": 375,
   "outputs": [
    {
     "data": {
      "text/plain": "tensor(8.2570, grad_fn=<MeanBackward0>)"
     },
     "execution_count": 375,
     "metadata": {},
     "output_type": "execute_result"
    }
   ],
   "source": [
    "cce = CategoricalCrossEntropyLoss()\n",
    "cce.forward(y_pred, y)"
   ],
   "metadata": {
    "collapsed": false
   }
  },
  {
   "cell_type": "markdown",
   "source": [
    "3.3 Модифицировать 2.3.1, добавив L2-регуляризацию.\n",
    "\n",
    "![](https://wikimedia.org/api/rest_v1/media/math/render/svg/d92ca2429275bfdc0474523babbafe014ca8b580)\n"
   ],
   "metadata": {
    "collapsed": false
   }
  },
  {
   "cell_type": "code",
   "execution_count": 376,
   "outputs": [],
   "source": [
    "class MSELossL2:\n",
    "\n",
    "    def __init__(self, lambda_: float, weights: torch.Tensor):\n",
    "        self.lambda_ = lambda_\n",
    "        self.weights = weights\n",
    "\n",
    "    def data_loss(self, y_pred: torch.Tensor, y_true: torch.Tensor) -> torch.Tensor:\n",
    "        return torch.sum((y_true - y_pred) ** 2)\n",
    "\n",
    "    def reg_loss(self) -> torch.Tensor:\n",
    "        return self.lambda_ * torch.sum(self.weights ** 2)\n",
    "\n",
    "    def forward(self, y_pred: torch.Tensor, y_true: torch.Tensor) -> torch.Tensor:\n",
    "        return self.data_loss(y_pred, y_true) + self.reg_loss()"
   ],
   "metadata": {
    "collapsed": false
   }
  },
  {
   "cell_type": "code",
   "execution_count": 377,
   "outputs": [],
   "source": [
    "inputs = torch.tensor([[1, 2, 3, 2.5],\n",
    "                       [2, 5, -1, 2],\n",
    "                       [-1.5, 2.7, 3.3, -0.8]])\n",
    "\n",
    "y = torch.tensor([2, 3, 4]).unsqueeze(1)"
   ],
   "metadata": {
    "collapsed": false
   }
  },
  {
   "cell_type": "code",
   "execution_count": 378,
   "outputs": [],
   "source": [
    "torch.manual_seed(0)\n",
    "\n",
    "layer = Linear(4, 1)\n",
    "y_pred = layer.forward(inputs)"
   ],
   "metadata": {
    "collapsed": false
   }
  },
  {
   "cell_type": "code",
   "execution_count": 379,
   "outputs": [
    {
     "data": {
      "text/plain": "tensor(314.5113, grad_fn=<AddBackward0>)"
     },
     "execution_count": 379,
     "metadata": {},
     "output_type": "execute_result"
    }
   ],
   "source": [
    "mse_l2 = MSELossL2(lambda_=1.409, weights=layer.weights)\n",
    "mse_l2.forward(y_pred, y)"
   ],
   "metadata": {
    "collapsed": false
   }
  },
  {
   "cell_type": "markdown",
   "source": [
    "## 4. Обратное распространение ошибки"
   ],
   "metadata": {
    "collapsed": false
   }
  },
  {
   "cell_type": "markdown",
   "source": [
    "4.1 Используя один нейрон и SGD (1 пример за шаг), решите задачу регрессии"
   ],
   "metadata": {
    "collapsed": false
   }
  },
  {
   "cell_type": "code",
   "execution_count": 380,
   "outputs": [],
   "source": [
    "from sklearn.datasets import make_regression\n",
    "\n",
    "X, y, coef = make_regression(n_features=4, n_informative=4, coef=True, bias=0.5, random_state=0)\n",
    "# X.dtype == float64 - нет смысла использовать torch.from_numpy\n",
    "# т.к. последующее приведение типов Tensor.type(torch.float32) приведет к копированию данных\n",
    "X = torch.tensor(X, dtype=torch.float32)\n",
    "y = torch.tensor(y, dtype=torch.float32)"
   ],
   "metadata": {
    "collapsed": false
   }
  },
  {
   "cell_type": "markdown",
   "source": [
    "[Граф вычислений для этой задачи](https://i.ibb.co/2dhDxZx/photo-2021-02-15-17-18-04.jpg)"
   ],
   "metadata": {
    "collapsed": false
   }
  },
  {
   "cell_type": "markdown",
   "source": [
    "4.1.1 Модифицируйте класс `MSELoss` из __2.3.1__, реализовав расчет производной относительно предыдущего слоя\n"
   ],
   "metadata": {
    "collapsed": false
   }
  },
  {
   "cell_type": "code",
   "execution_count": 381,
   "outputs": [],
   "source": [
    "class MSELoss:\n",
    "\n",
    "    def forward(self, y_pred: torch.Tensor, y_true: torch.Tensor) -> torch.Tensor:\n",
    "        return (y_pred - y_true) ** 2  # когда MSE (mean squared error) без mean\n",
    "\n",
    "    def backward(self, y_pred: torch.Tensor, y_true: torch.Tensor) -> torch.Tensor:\n",
    "        # здравая мысль - похоже на производную MSE, только mean потерялась,\n",
    "        # т.к. обработка по одному ответу за шаг\n",
    "        return 2 * (y_pred - y_true)  # df/dc"
   ],
   "metadata": {
    "collapsed": false
   }
  },
  {
   "cell_type": "markdown",
   "source": [
    "4.1.2. Модифицируйте класс `Neuron` из __2.1.1__:\n",
    "\n",
    "  1) Сделайте так, чтобы веса нейрона инициализировались из стандартного нормального распределения\n",
    "\n",
    "  2) Реализуйте расчет градиента относительно весов `weights` и `bias`"
   ],
   "metadata": {
    "collapsed": false
   }
  },
  {
   "cell_type": "code",
   "execution_count": 382,
   "metadata": {
    "id": "L0KqxPJU9kAN"
   },
   "outputs": [],
   "source": [
    "class Neuron:\n",
    "\n",
    "    def __init__(self, in_features: int):\n",
    "        self.in_features = in_features\n",
    "        self.weights = torch.randn(self.in_features)\n",
    "        self.bias = torch.randn(1)\n",
    "\n",
    "    def forward(self, inputs: torch.Tensor) -> torch.Tensor:\n",
    "        return torch.sum(inputs * self.weights) + self.bias\n",
    "\n",
    "    def backward(self, dvalue: torch.Tensor, inputs: torch.Tensor) -> tuple[torch.Tensor, torch.Tensor, torch.Tensor]:\n",
    "        dw = dvalue * inputs\n",
    "        db = dvalue\n",
    "        dx = dvalue * self.weights\n",
    "        return dw, db, dx"
   ]
  },
  {
   "cell_type": "markdown",
   "metadata": {
    "id": "rKcO4zOLACxM"
   },
   "source": [
    "4.1.3 Допишите цикл для настройки весов нейрона\n",
    "\n",
    "[SGD](https://ru.wikipedia.org/wiki/%D0%A1%D1%82%D0%BE%D1%85%D0%B0%D1%81%D1%82%D0%B8%D1%87%D0%B5%D1%81%D0%BA%D0%B8%D0%B9_%D0%B3%D1%80%D0%B0%D0%B4%D0%B8%D0%B5%D0%BD%D1%82%D0%BD%D1%8B%D0%B9_%D1%81%D0%BF%D1%83%D1%81%D0%BA)\n",
    "\n",
    "![](https://wikimedia.org/api/rest_v1/media/math/render/svg/dda3670f8a8996a0d3bf80856bb4a166cc8db6d4)"
   ]
  },
  {
   "cell_type": "code",
   "execution_count": 383,
   "outputs": [],
   "source": [
    "def pretty_train_log(epoch: int, **kwargs) -> None:\n",
    "    params = '\\n\\t'.join([f'{k} = {v}' for k, v in kwargs.items()])\n",
    "    print(f'epoch {epoch:03} |' + '-' * 50 + f'\\n\\t{params}\\n')"
   ],
   "metadata": {
    "collapsed": false
   }
  },
  {
   "cell_type": "code",
   "execution_count": 384,
   "metadata": {
    "id": "_g_FvwvmALJd"
   },
   "outputs": [
    {
     "name": "stdout",
     "output_type": "stream",
     "text": [
      "epoch 000 |--------------------------------------------------\n",
      "\ti = 0\n",
      "\tweights = tensor([ 5.8937,  3.4480,  8.5208, -6.0718])\n",
      "\tdw = tensor([ -43.5271,  -37.4140, -106.9956,   66.4020])\n",
      "\tbias = tensor([-9.6251])\n",
      "\tdb = tensor([85.4055])\n",
      "\tloss = tensor([1823.5259])\n",
      "\n",
      "epoch 000 |--------------------------------------------------\n",
      "\ti = 30\n",
      "\tweights = tensor([21.6376, 36.3937, 65.8168, 88.4170])\n",
      "\tdw = tensor([9.4374, 2.5177, 7.3150, 2.5319])\n",
      "\tbias = tensor([1.1639])\n",
      "\tdb = tensor([7.9437])\n",
      "\tloss = tensor([15.7756])\n",
      "\n",
      "epoch 000 |--------------------------------------------------\n",
      "\ti = 60\n",
      "\tweights = tensor([20.5037, 34.1982, 67.6044, 87.9179])\n",
      "\tdw = tensor([ 0.0004,  0.0003, -0.0005,  0.0003])\n",
      "\tbias = tensor([0.4687])\n",
      "\tdb = tensor([0.0006])\n",
      "\tloss = tensor([1.0514e-07])\n",
      "\n",
      "epoch 000 |--------------------------------------------------\n",
      "\ti = 90\n",
      "\tweights = tensor([20.4878, 34.1696, 67.6197, 87.9236])\n",
      "\tdw = tensor([-0.0058,  0.0145,  0.0002,  0.0066])\n",
      "\tbias = tensor([0.5022])\n",
      "\tdb = tensor([-0.0090])\n",
      "\tloss = tensor([2.0193e-05])\n",
      "\n",
      "epoch 020 |--------------------------------------------------\n",
      "\ti = 0\n",
      "\tweights = tensor([20.4924, 34.1698, 67.6243, 87.9235])\n",
      "\tdw = tensor([-2.3330e-05, -2.0053e-05, -5.7348e-05,  3.5591e-05])\n",
      "\tbias = tensor([0.5000])\n",
      "\tdb = tensor([4.5776e-05])\n",
      "\tloss = tensor([5.2387e-10])\n",
      "\n",
      "epoch 020 |--------------------------------------------------\n",
      "\ti = 30\n",
      "\tweights = tensor([20.4924, 34.1698, 67.6242, 87.9235])\n",
      "\tdw = tensor([-1.8128e-05, -4.8362e-06, -1.4051e-05, -4.8634e-06])\n",
      "\tbias = tensor([0.5000])\n",
      "\tdb = tensor([-1.5259e-05])\n",
      "\tloss = tensor([5.8208e-11])\n",
      "\n",
      "epoch 020 |--------------------------------------------------\n",
      "\ti = 60\n",
      "\tweights = tensor([20.4924, 34.1698, 67.6243, 87.9235])\n",
      "\tdw = tensor([-2.5646e-06, -1.5543e-06,  2.9370e-06, -2.0571e-06])\n",
      "\tbias = tensor([0.5000])\n",
      "\tdb = tensor([-3.8147e-06])\n",
      "\tloss = tensor([3.6380e-12])\n",
      "\n",
      "epoch 020 |--------------------------------------------------\n",
      "\ti = 90\n",
      "\tweights = tensor([20.4924, 34.1698, 67.6243, 87.9235])\n",
      "\tdw = tensor([0., -0., -0., -0.])\n",
      "\tbias = tensor([0.5000])\n",
      "\tdb = tensor([0.])\n",
      "\tloss = tensor([0.])\n",
      "\n",
      "epoch 040 |--------------------------------------------------\n",
      "\ti = 0\n",
      "\tweights = tensor([20.4924, 34.1698, 67.6243, 87.9235])\n",
      "\tdw = tensor([-2.3330e-05, -2.0053e-05, -5.7348e-05,  3.5591e-05])\n",
      "\tbias = tensor([0.5000])\n",
      "\tdb = tensor([4.5776e-05])\n",
      "\tloss = tensor([5.2387e-10])\n",
      "\n",
      "epoch 040 |--------------------------------------------------\n",
      "\ti = 30\n",
      "\tweights = tensor([20.4924, 34.1698, 67.6242, 87.9235])\n",
      "\tdw = tensor([-1.8128e-05, -4.8362e-06, -1.4051e-05, -4.8634e-06])\n",
      "\tbias = tensor([0.5000])\n",
      "\tdb = tensor([-1.5259e-05])\n",
      "\tloss = tensor([5.8208e-11])\n",
      "\n",
      "epoch 040 |--------------------------------------------------\n",
      "\ti = 60\n",
      "\tweights = tensor([20.4924, 34.1698, 67.6243, 87.9235])\n",
      "\tdw = tensor([-2.5646e-06, -1.5543e-06,  2.9370e-06, -2.0571e-06])\n",
      "\tbias = tensor([0.5000])\n",
      "\tdb = tensor([-3.8147e-06])\n",
      "\tloss = tensor([3.6380e-12])\n",
      "\n",
      "epoch 040 |--------------------------------------------------\n",
      "\ti = 90\n",
      "\tweights = tensor([20.4924, 34.1698, 67.6243, 87.9235])\n",
      "\tdw = tensor([0., -0., -0., -0.])\n",
      "\tbias = tensor([0.5000])\n",
      "\tdb = tensor([0.])\n",
      "\tloss = tensor([0.])\n",
      "\n",
      "epoch 060 |--------------------------------------------------\n",
      "\ti = 0\n",
      "\tweights = tensor([20.4924, 34.1698, 67.6243, 87.9235])\n",
      "\tdw = tensor([-2.3330e-05, -2.0053e-05, -5.7348e-05,  3.5591e-05])\n",
      "\tbias = tensor([0.5000])\n",
      "\tdb = tensor([4.5776e-05])\n",
      "\tloss = tensor([5.2387e-10])\n",
      "\n",
      "epoch 060 |--------------------------------------------------\n",
      "\ti = 30\n",
      "\tweights = tensor([20.4924, 34.1698, 67.6242, 87.9235])\n",
      "\tdw = tensor([-1.8128e-05, -4.8362e-06, -1.4051e-05, -4.8634e-06])\n",
      "\tbias = tensor([0.5000])\n",
      "\tdb = tensor([-1.5259e-05])\n",
      "\tloss = tensor([5.8208e-11])\n",
      "\n",
      "epoch 060 |--------------------------------------------------\n",
      "\ti = 60\n",
      "\tweights = tensor([20.4924, 34.1698, 67.6243, 87.9235])\n",
      "\tdw = tensor([-2.5646e-06, -1.5543e-06,  2.9370e-06, -2.0571e-06])\n",
      "\tbias = tensor([0.5000])\n",
      "\tdb = tensor([-3.8147e-06])\n",
      "\tloss = tensor([3.6380e-12])\n",
      "\n",
      "epoch 060 |--------------------------------------------------\n",
      "\ti = 90\n",
      "\tweights = tensor([20.4924, 34.1698, 67.6243, 87.9235])\n",
      "\tdw = tensor([0., -0., -0., -0.])\n",
      "\tbias = tensor([0.5000])\n",
      "\tdb = tensor([0.])\n",
      "\tloss = tensor([0.])\n",
      "\n",
      "epoch 080 |--------------------------------------------------\n",
      "\ti = 0\n",
      "\tweights = tensor([20.4924, 34.1698, 67.6243, 87.9235])\n",
      "\tdw = tensor([-2.3330e-05, -2.0053e-05, -5.7348e-05,  3.5591e-05])\n",
      "\tbias = tensor([0.5000])\n",
      "\tdb = tensor([4.5776e-05])\n",
      "\tloss = tensor([5.2387e-10])\n",
      "\n",
      "epoch 080 |--------------------------------------------------\n",
      "\ti = 30\n",
      "\tweights = tensor([20.4924, 34.1698, 67.6242, 87.9235])\n",
      "\tdw = tensor([-1.8128e-05, -4.8362e-06, -1.4051e-05, -4.8634e-06])\n",
      "\tbias = tensor([0.5000])\n",
      "\tdb = tensor([-1.5259e-05])\n",
      "\tloss = tensor([5.8208e-11])\n",
      "\n",
      "epoch 080 |--------------------------------------------------\n",
      "\ti = 60\n",
      "\tweights = tensor([20.4924, 34.1698, 67.6243, 87.9235])\n",
      "\tdw = tensor([-2.5646e-06, -1.5543e-06,  2.9370e-06, -2.0571e-06])\n",
      "\tbias = tensor([0.5000])\n",
      "\tdb = tensor([-3.8147e-06])\n",
      "\tloss = tensor([3.6380e-12])\n",
      "\n",
      "epoch 080 |--------------------------------------------------\n",
      "\ti = 90\n",
      "\tweights = tensor([20.4924, 34.1698, 67.6243, 87.9235])\n",
      "\tdw = tensor([0., -0., -0., -0.])\n",
      "\tbias = tensor([0.5000])\n",
      "\tdb = tensor([0.])\n",
      "\tloss = tensor([0.])\n",
      "\n",
      "epoch 100 |--------------------------------------------------\n",
      "\ti = 0\n",
      "\tweights = tensor([20.4924, 34.1698, 67.6243, 87.9235])\n",
      "\tdw = tensor([-2.3330e-05, -2.0053e-05, -5.7348e-05,  3.5591e-05])\n",
      "\tbias = tensor([0.5000])\n",
      "\tdb = tensor([4.5776e-05])\n",
      "\tloss = tensor([5.2387e-10])\n",
      "\n",
      "epoch 100 |--------------------------------------------------\n",
      "\ti = 30\n",
      "\tweights = tensor([20.4924, 34.1698, 67.6242, 87.9235])\n",
      "\tdw = tensor([-1.8128e-05, -4.8362e-06, -1.4051e-05, -4.8634e-06])\n",
      "\tbias = tensor([0.5000])\n",
      "\tdb = tensor([-1.5259e-05])\n",
      "\tloss = tensor([5.8208e-11])\n",
      "\n",
      "epoch 100 |--------------------------------------------------\n",
      "\ti = 60\n",
      "\tweights = tensor([20.4924, 34.1698, 67.6243, 87.9235])\n",
      "\tdw = tensor([-2.5646e-06, -1.5543e-06,  2.9370e-06, -2.0571e-06])\n",
      "\tbias = tensor([0.5000])\n",
      "\tdb = tensor([-3.8147e-06])\n",
      "\tloss = tensor([3.6380e-12])\n",
      "\n",
      "epoch 100 |--------------------------------------------------\n",
      "\ti = 90\n",
      "\tweights = tensor([20.4924, 34.1698, 67.6243, 87.9235])\n",
      "\tdw = tensor([0., -0., -0., -0.])\n",
      "\tbias = tensor([0.5000])\n",
      "\tdb = tensor([0.])\n",
      "\tloss = tensor([0.])\n",
      "\n"
     ]
    },
    {
     "data": {
      "text/plain": "(tensor([20.4924, 34.1698, 67.6242, 87.9235]),\n array([20.4923687 , 34.16981149, 67.62424823, 87.9234763 ]))"
     },
     "execution_count": 384,
     "metadata": {},
     "output_type": "execute_result"
    }
   ],
   "source": [
    "# работает как часы 🕓...\n",
    "torch.manual_seed(0)\n",
    "\n",
    "n_inputs = X.size(1)  # размерность элемента выборки\n",
    "learning_rate = 0.1  #  скорость обучения\n",
    "n_epoch = 100  #  количество эпох\n",
    "\n",
    "y_true = y.unsqueeze(1)\n",
    "\n",
    "neuron = Neuron(n_inputs)\n",
    "loss = MSELoss()\n",
    "\n",
    "for epoch in range(n_epoch + 1):\n",
    "    for i, (x_example, y_example) in enumerate(zip(X, y_true)):\n",
    "        # forward pass\n",
    "        y_pred = neuron.forward(x_example)  # прогон через нейрон\n",
    "        curr_loss = loss.forward(y_pred, y_example)  # прогон через функцию потерь\n",
    "\n",
    "        # backprop\n",
    "        # вызов методов backward\n",
    "        dw, db, _ = neuron.backward(loss.backward(y_pred, y_example), x_example)\n",
    "        # обратите внимание на последовательность вызовов: от конца к началу\n",
    "\n",
    "        # шаг оптимизации для весов (weights и bias) нейрона\n",
    "        neuron.weights -= learning_rate * dw\n",
    "        neuron.bias -= learning_rate * db\n",
    "\n",
    "        if epoch % 20 == 0 and i % 30 == 0:\n",
    "            pretty_train_log(epoch, i=i, weights=neuron.weights, dw=dw, bias=neuron.bias, db=db, loss=curr_loss)\n",
    "\n",
    "neuron.weights, coef"
   ]
  },
  {
   "cell_type": "markdown",
   "source": [
    "Судя по выводу задача регрессии была решена еще в конце 1-ой эпохи (первобытности).\n",
    "Зачем тогда пакетный градиентный спуск, если этот работает быстрее?\n",
    "\n",
    "Зачем мы это все делали и почему называем обратным распространением, если уже знаем всю производную?"
   ],
   "metadata": {
    "collapsed": false
   }
  },
  {
   "cell_type": "markdown",
   "source": [
    "**Проверка**\n",
    "\n",
    "Сделаем то же самое, но пусть производную посчитает pytorch (честно, будто не знаем производную сложной функции)"
   ],
   "metadata": {
    "collapsed": false
   }
  },
  {
   "cell_type": "code",
   "execution_count": 385,
   "outputs": [],
   "source": [
    "class MSELoss:\n",
    "\n",
    "    def __init__(self):\n",
    "        self._last_forward: torch.Tensor | None = None\n",
    "\n",
    "    def forward(self, y_pred: torch.Tensor, y_true: torch.Tensor) -> torch.Tensor:\n",
    "        self._last_forward = (y_pred - y_true) ** 2\n",
    "        return self._last_forward\n",
    "\n",
    "    def backward(self) -> None:\n",
    "        self._last_forward.backward()\n",
    "\n",
    "\n",
    "class Neuron:\n",
    "\n",
    "    def __init__(self, in_features: int):\n",
    "        self.in_features = in_features\n",
    "        self.weights = torch.randn(self.in_features, requires_grad=True)\n",
    "        self.bias = torch.randn(1, requires_grad=True)\n",
    "\n",
    "    def forward(self, inputs: torch.Tensor) -> torch.Tensor:\n",
    "        return torch.sum(inputs * self.weights) + self.bias\n",
    "\n",
    "    def backward(self) -> tuple[torch.Tensor, torch.Tensor]:\n",
    "        dw = self.weights.grad.clone().detach()\n",
    "        db = self.bias.grad.clone().detach()\n",
    "        self.weights.grad.zero_()\n",
    "        self.bias.grad.zero_()\n",
    "        return dw, db\n",
    "\n",
    "    def update_weights(self, lr: float, dw: torch.Tensor, db: torch.Tensor) -> None:\n",
    "        with torch.no_grad():\n",
    "            self.weights -= lr * dw\n",
    "            self.bias -= lr * db"
   ],
   "metadata": {
    "collapsed": false
   }
  },
  {
   "cell_type": "code",
   "execution_count": 386,
   "outputs": [
    {
     "name": "stdout",
     "output_type": "stream",
     "text": [
      "epoch 000 |--------------------------------------------------\n",
      "\ti = 0\n",
      "\tweights = tensor([ 5.8937,  3.4480,  8.5208, -6.0718], requires_grad=True)\n",
      "\tdw = tensor([ -43.5271,  -37.4140, -106.9956,   66.4020])\n",
      "\tbias = tensor([-9.6251], requires_grad=True)\n",
      "\tdb = tensor([85.4055])\n",
      "\tloss = tensor([1823.5259], grad_fn=<PowBackward0>)\n",
      "\n",
      "epoch 000 |--------------------------------------------------\n",
      "\ti = 30\n",
      "\tweights = tensor([21.6376, 36.3937, 65.8168, 88.4170], requires_grad=True)\n",
      "\tdw = tensor([9.4374, 2.5177, 7.3150, 2.5319])\n",
      "\tbias = tensor([1.1639], requires_grad=True)\n",
      "\tdb = tensor([7.9437])\n",
      "\tloss = tensor([15.7756], grad_fn=<PowBackward0>)\n",
      "\n",
      "epoch 000 |--------------------------------------------------\n",
      "\ti = 60\n",
      "\tweights = tensor([20.5037, 34.1982, 67.6044, 87.9179], requires_grad=True)\n",
      "\tdw = tensor([ 0.0004,  0.0003, -0.0005,  0.0003])\n",
      "\tbias = tensor([0.4687], requires_grad=True)\n",
      "\tdb = tensor([0.0006])\n",
      "\tloss = tensor([1.0514e-07], grad_fn=<PowBackward0>)\n",
      "\n",
      "epoch 000 |--------------------------------------------------\n",
      "\ti = 90\n",
      "\tweights = tensor([20.4878, 34.1696, 67.6197, 87.9236], requires_grad=True)\n",
      "\tdw = tensor([-0.0058,  0.0145,  0.0002,  0.0066])\n",
      "\tbias = tensor([0.5022], requires_grad=True)\n",
      "\tdb = tensor([-0.0090])\n",
      "\tloss = tensor([2.0193e-05], grad_fn=<PowBackward0>)\n",
      "\n",
      "epoch 020 |--------------------------------------------------\n",
      "\ti = 0\n",
      "\tweights = tensor([20.4924, 34.1698, 67.6243, 87.9235], requires_grad=True)\n",
      "\tdw = tensor([-2.3330e-05, -2.0053e-05, -5.7348e-05,  3.5591e-05])\n",
      "\tbias = tensor([0.5000], requires_grad=True)\n",
      "\tdb = tensor([4.5776e-05])\n",
      "\tloss = tensor([5.2387e-10], grad_fn=<PowBackward0>)\n",
      "\n",
      "epoch 020 |--------------------------------------------------\n",
      "\ti = 30\n",
      "\tweights = tensor([20.4924, 34.1698, 67.6242, 87.9235], requires_grad=True)\n",
      "\tdw = tensor([-1.8128e-05, -4.8362e-06, -1.4051e-05, -4.8634e-06])\n",
      "\tbias = tensor([0.5000], requires_grad=True)\n",
      "\tdb = tensor([-1.5259e-05])\n",
      "\tloss = tensor([5.8208e-11], grad_fn=<PowBackward0>)\n",
      "\n",
      "epoch 020 |--------------------------------------------------\n",
      "\ti = 60\n",
      "\tweights = tensor([20.4924, 34.1698, 67.6243, 87.9235], requires_grad=True)\n",
      "\tdw = tensor([-2.5646e-06, -1.5543e-06,  2.9370e-06, -2.0571e-06])\n",
      "\tbias = tensor([0.5000], requires_grad=True)\n",
      "\tdb = tensor([-3.8147e-06])\n",
      "\tloss = tensor([3.6380e-12], grad_fn=<PowBackward0>)\n",
      "\n",
      "epoch 020 |--------------------------------------------------\n",
      "\ti = 90\n",
      "\tweights = tensor([20.4924, 34.1698, 67.6243, 87.9235], requires_grad=True)\n",
      "\tdw = tensor([0., 0., 0., 0.])\n",
      "\tbias = tensor([0.5000], requires_grad=True)\n",
      "\tdb = tensor([0.])\n",
      "\tloss = tensor([0.], grad_fn=<PowBackward0>)\n",
      "\n",
      "epoch 040 |--------------------------------------------------\n",
      "\ti = 0\n",
      "\tweights = tensor([20.4924, 34.1698, 67.6243, 87.9235], requires_grad=True)\n",
      "\tdw = tensor([-2.3330e-05, -2.0053e-05, -5.7348e-05,  3.5591e-05])\n",
      "\tbias = tensor([0.5000], requires_grad=True)\n",
      "\tdb = tensor([4.5776e-05])\n",
      "\tloss = tensor([5.2387e-10], grad_fn=<PowBackward0>)\n",
      "\n",
      "epoch 040 |--------------------------------------------------\n",
      "\ti = 30\n",
      "\tweights = tensor([20.4924, 34.1698, 67.6242, 87.9235], requires_grad=True)\n",
      "\tdw = tensor([-1.8128e-05, -4.8362e-06, -1.4051e-05, -4.8634e-06])\n",
      "\tbias = tensor([0.5000], requires_grad=True)\n",
      "\tdb = tensor([-1.5259e-05])\n",
      "\tloss = tensor([5.8208e-11], grad_fn=<PowBackward0>)\n",
      "\n",
      "epoch 040 |--------------------------------------------------\n",
      "\ti = 60\n",
      "\tweights = tensor([20.4924, 34.1698, 67.6243, 87.9235], requires_grad=True)\n",
      "\tdw = tensor([-2.5646e-06, -1.5543e-06,  2.9370e-06, -2.0571e-06])\n",
      "\tbias = tensor([0.5000], requires_grad=True)\n",
      "\tdb = tensor([-3.8147e-06])\n",
      "\tloss = tensor([3.6380e-12], grad_fn=<PowBackward0>)\n",
      "\n",
      "epoch 040 |--------------------------------------------------\n",
      "\ti = 90\n",
      "\tweights = tensor([20.4924, 34.1698, 67.6243, 87.9235], requires_grad=True)\n",
      "\tdw = tensor([0., 0., 0., 0.])\n",
      "\tbias = tensor([0.5000], requires_grad=True)\n",
      "\tdb = tensor([0.])\n",
      "\tloss = tensor([0.], grad_fn=<PowBackward0>)\n",
      "\n",
      "epoch 060 |--------------------------------------------------\n",
      "\ti = 0\n",
      "\tweights = tensor([20.4924, 34.1698, 67.6243, 87.9235], requires_grad=True)\n",
      "\tdw = tensor([-2.3330e-05, -2.0053e-05, -5.7348e-05,  3.5591e-05])\n",
      "\tbias = tensor([0.5000], requires_grad=True)\n",
      "\tdb = tensor([4.5776e-05])\n",
      "\tloss = tensor([5.2387e-10], grad_fn=<PowBackward0>)\n",
      "\n",
      "epoch 060 |--------------------------------------------------\n",
      "\ti = 30\n",
      "\tweights = tensor([20.4924, 34.1698, 67.6242, 87.9235], requires_grad=True)\n",
      "\tdw = tensor([-1.8128e-05, -4.8362e-06, -1.4051e-05, -4.8634e-06])\n",
      "\tbias = tensor([0.5000], requires_grad=True)\n",
      "\tdb = tensor([-1.5259e-05])\n",
      "\tloss = tensor([5.8208e-11], grad_fn=<PowBackward0>)\n",
      "\n",
      "epoch 060 |--------------------------------------------------\n",
      "\ti = 60\n",
      "\tweights = tensor([20.4924, 34.1698, 67.6243, 87.9235], requires_grad=True)\n",
      "\tdw = tensor([-2.5646e-06, -1.5543e-06,  2.9370e-06, -2.0571e-06])\n",
      "\tbias = tensor([0.5000], requires_grad=True)\n",
      "\tdb = tensor([-3.8147e-06])\n",
      "\tloss = tensor([3.6380e-12], grad_fn=<PowBackward0>)\n",
      "\n",
      "epoch 060 |--------------------------------------------------\n",
      "\ti = 90\n",
      "\tweights = tensor([20.4924, 34.1698, 67.6243, 87.9235], requires_grad=True)\n",
      "\tdw = tensor([0., 0., 0., 0.])\n",
      "\tbias = tensor([0.5000], requires_grad=True)\n",
      "\tdb = tensor([0.])\n",
      "\tloss = tensor([0.], grad_fn=<PowBackward0>)\n",
      "\n",
      "epoch 080 |--------------------------------------------------\n",
      "\ti = 0\n",
      "\tweights = tensor([20.4924, 34.1698, 67.6243, 87.9235], requires_grad=True)\n",
      "\tdw = tensor([-2.3330e-05, -2.0053e-05, -5.7348e-05,  3.5591e-05])\n",
      "\tbias = tensor([0.5000], requires_grad=True)\n",
      "\tdb = tensor([4.5776e-05])\n",
      "\tloss = tensor([5.2387e-10], grad_fn=<PowBackward0>)\n",
      "\n",
      "epoch 080 |--------------------------------------------------\n",
      "\ti = 30\n",
      "\tweights = tensor([20.4924, 34.1698, 67.6242, 87.9235], requires_grad=True)\n",
      "\tdw = tensor([-1.8128e-05, -4.8362e-06, -1.4051e-05, -4.8634e-06])\n",
      "\tbias = tensor([0.5000], requires_grad=True)\n",
      "\tdb = tensor([-1.5259e-05])\n",
      "\tloss = tensor([5.8208e-11], grad_fn=<PowBackward0>)\n",
      "\n",
      "epoch 080 |--------------------------------------------------\n",
      "\ti = 60\n",
      "\tweights = tensor([20.4924, 34.1698, 67.6243, 87.9235], requires_grad=True)\n",
      "\tdw = tensor([-2.5646e-06, -1.5543e-06,  2.9370e-06, -2.0571e-06])\n",
      "\tbias = tensor([0.5000], requires_grad=True)\n",
      "\tdb = tensor([-3.8147e-06])\n",
      "\tloss = tensor([3.6380e-12], grad_fn=<PowBackward0>)\n",
      "\n",
      "epoch 080 |--------------------------------------------------\n",
      "\ti = 90\n",
      "\tweights = tensor([20.4924, 34.1698, 67.6243, 87.9235], requires_grad=True)\n",
      "\tdw = tensor([0., 0., 0., 0.])\n",
      "\tbias = tensor([0.5000], requires_grad=True)\n",
      "\tdb = tensor([0.])\n",
      "\tloss = tensor([0.], grad_fn=<PowBackward0>)\n",
      "\n",
      "epoch 100 |--------------------------------------------------\n",
      "\ti = 0\n",
      "\tweights = tensor([20.4924, 34.1698, 67.6243, 87.9235], requires_grad=True)\n",
      "\tdw = tensor([-2.3330e-05, -2.0053e-05, -5.7348e-05,  3.5591e-05])\n",
      "\tbias = tensor([0.5000], requires_grad=True)\n",
      "\tdb = tensor([4.5776e-05])\n",
      "\tloss = tensor([5.2387e-10], grad_fn=<PowBackward0>)\n",
      "\n",
      "epoch 100 |--------------------------------------------------\n",
      "\ti = 30\n",
      "\tweights = tensor([20.4924, 34.1698, 67.6242, 87.9235], requires_grad=True)\n",
      "\tdw = tensor([-1.8128e-05, -4.8362e-06, -1.4051e-05, -4.8634e-06])\n",
      "\tbias = tensor([0.5000], requires_grad=True)\n",
      "\tdb = tensor([-1.5259e-05])\n",
      "\tloss = tensor([5.8208e-11], grad_fn=<PowBackward0>)\n",
      "\n",
      "epoch 100 |--------------------------------------------------\n",
      "\ti = 60\n",
      "\tweights = tensor([20.4924, 34.1698, 67.6243, 87.9235], requires_grad=True)\n",
      "\tdw = tensor([-2.5646e-06, -1.5543e-06,  2.9370e-06, -2.0571e-06])\n",
      "\tbias = tensor([0.5000], requires_grad=True)\n",
      "\tdb = tensor([-3.8147e-06])\n",
      "\tloss = tensor([3.6380e-12], grad_fn=<PowBackward0>)\n",
      "\n",
      "epoch 100 |--------------------------------------------------\n",
      "\ti = 90\n",
      "\tweights = tensor([20.4924, 34.1698, 67.6243, 87.9235], requires_grad=True)\n",
      "\tdw = tensor([0., 0., 0., 0.])\n",
      "\tbias = tensor([0.5000], requires_grad=True)\n",
      "\tdb = tensor([0.])\n",
      "\tloss = tensor([0.], grad_fn=<PowBackward0>)\n",
      "\n"
     ]
    },
    {
     "data": {
      "text/plain": "(tensor([20.4924, 34.1698, 67.6242, 87.9235], requires_grad=True),\n array([20.4923687 , 34.16981149, 67.62424823, 87.9234763 ]))"
     },
     "execution_count": 386,
     "metadata": {},
     "output_type": "execute_result"
    }
   ],
   "source": [
    "torch.manual_seed(0)\n",
    "\n",
    "y_true = y.unsqueeze(1)\n",
    "\n",
    "neuron = Neuron(X.size(1))\n",
    "mse = MSELoss()\n",
    "\n",
    "learning_rate = 0.1\n",
    "\n",
    "epochs = 100\n",
    "for epoch in range(epochs + 1):\n",
    "    for i, (x_example, y_example) in enumerate(zip(X, y_true)):\n",
    "        # feed forward\n",
    "        y_pred = neuron.forward(x_example)\n",
    "        loss = mse.forward(y_pred, y_example)\n",
    "\n",
    "        # backward\n",
    "        mse.backward()\n",
    "        dw, db = neuron.backward()\n",
    "\n",
    "        # optimize step\n",
    "        neuron.update_weights(learning_rate, dw, db)\n",
    "\n",
    "        if epoch % 20 == 0 and i % 30 == 0:\n",
    "            pretty_train_log(epoch, i=i, weights=neuron.weights, dw=dw, bias=neuron.bias, db=db, loss=loss)\n",
    "\n",
    "neuron.weights, coef"
   ],
   "metadata": {
    "collapsed": false
   }
  },
  {
   "cell_type": "markdown",
   "metadata": {
    "id": "ebibge9VEgF7"
   },
   "source": [
    "4.2 Решите задачу 2.4.1, используя пакетный градиентный спуск"
   ]
  },
  {
   "cell_type": "markdown",
   "metadata": {
    "id": "as-QeWSdOELd"
   },
   "source": [
    "Вычисления для этой задачи: \n",
    "[1](https://i.ibb.co/rmtQT6P/photo-2021-02-15-18-00-43.jpg)\n",
    "[2](https://i.ibb.co/NmCFVnQ/photo-2021-02-15-18-01-17.jpg)"
   ]
  },
  {
   "cell_type": "markdown",
   "metadata": {
    "id": "dr9qq4H_J3zt"
   },
   "source": [
    "4.2.1 Модифицируйте класс `MSELoss` из __3.1__, реализовав расчет производной относительно предыдущего слоя с учетом того, что теперь работа ведется с батчами, а не с индивидуальными примерами\n",
    " "
   ]
  },
  {
   "cell_type": "code",
   "execution_count": 387,
   "metadata": {
    "id": "L8wjk9iPMQ4x"
   },
   "outputs": [],
   "source": [
    "# использование mean в методах вызывает доверие к имени класса\n",
    "class MSELoss:\n",
    "\n",
    "    def forward(self, y_pred: torch.Tensor, y_true: torch.Tensor) -> torch.Tensor:\n",
    "        return torch.mean((y_pred - y_true) ** 2)\n",
    "\n",
    "    def backward(self, y_pred: torch.Tensor, y_true: torch.Tensor) -> torch.Tensor:\n",
    "        return 2 * (y_pred - y_true) / y_pred.size(0)"
   ]
  },
  {
   "cell_type": "markdown",
   "metadata": {
    "id": "E3fSHCEtJjX8"
   },
   "source": [
    "4.2.2. Модифицируйте класс `Neuron` из __4.1.2__:\n",
    "\n",
    "  1) Реализуйте метод `forward` таким образом, чтобы он мог принимать на вход матрицу (батч) с данными. \n",
    "\n",
    "  2) Реализуйте расчет градиента относительно весов `weights` и `bias` с учетом того, что теперь работа ведется с батчами, а не с индивидуальными примерами"
   ]
  },
  {
   "cell_type": "code",
   "execution_count": 388,
   "outputs": [],
   "source": [
    "# а это точно еще нейрон, а не полносвязный слой из одного нейрона с in_features входами?\n",
    "class Neuron:\n",
    "\n",
    "    def __init__(self, in_features: int):\n",
    "        self.in_features = in_features\n",
    "        self.weights = torch.randn(1, in_features)\n",
    "        self.bias = torch.randn(1)\n",
    "\n",
    "    def forward(self, inputs: torch.Tensor) -> torch.Tensor:\n",
    "        return torch.matmul(inputs, self.weights.T) + self.bias\n",
    "\n",
    "    def backward(self, dvalue: torch.Tensor, inputs: torch.Tensor) -> tuple[torch.Tensor, torch.Tensor, torch.Tensor]:\n",
    "        # dw = torch.mean(dvalue * inputs, dim=0)\n",
    "        # db = torch.mean(dvalue)\n",
    "        # dx = dvalue * self.weights\n",
    "        dw = torch.matmul(inputs.T, dvalue).T\n",
    "        db = torch.matmul(torch.ones(dvalue.size(0)), dvalue)\n",
    "        dx = torch.matmul(dvalue, self.weights)\n",
    "        return dw, db, dx"
   ],
   "metadata": {
    "collapsed": false
   }
  },
  {
   "cell_type": "markdown",
   "metadata": {
    "id": "zO-NZrgKMBFx"
   },
   "source": [
    "4.2.3 Допишите цикл для настройки весов нейрона"
   ]
  },
  {
   "cell_type": "code",
   "execution_count": 389,
   "outputs": [
    {
     "name": "stdout",
     "output_type": "stream",
     "text": [
      "epoch 000 |--------------------------------------------------\n",
      "\tweights = tensor([[ 8.6293,  9.3343, 10.9663, 17.8038]])\n",
      "\tdw = tensor([[ -70.8827,  -96.2774, -131.4513, -172.3539]])\n",
      "\tbias = tensor([-1.3156])\n",
      "\tdb = tensor([2.3111])\n",
      "\tloss = 14444.6875\n",
      "\n",
      "epoch 010 |--------------------------------------------------\n",
      "\tweights = tensor([[22.7480, 35.5011, 58.5014, 79.6487]])\n",
      "\tdw = tensor([[  0.8807,  -3.2026, -16.2397, -19.1752]])\n",
      "\tbias = tensor([-0.2226])\n",
      "\tdb = tensor([-1.0528])\n",
      "\tloss = 184.8304901123047\n",
      "\n",
      "epoch 020 |--------------------------------------------------\n",
      "\tweights = tensor([[21.2786, 35.1800, 65.5825, 86.8190]])\n",
      "\tdw = tensor([[ 1.0790,  1.0197, -3.1022, -2.3846]])\n",
      "\tbias = tensor([0.2985])\n",
      "\tdb = tensor([-0.2510])\n",
      "\tloss = 6.3272294998168945\n",
      "\n",
      "epoch 030 |--------------------------------------------------\n",
      "\tweights = tensor([[20.6966, 34.4885, 67.1042, 87.7555]])\n",
      "\tdw = tensor([[ 0.2998,  0.4234, -0.7472, -0.3366]])\n",
      "\tbias = tensor([0.4332])\n",
      "\tdb = tensor([-0.0761])\n",
      "\tloss = 0.37050163745880127\n",
      "\n",
      "epoch 040 |--------------------------------------------------\n",
      "\tweights = tensor([[20.5444, 34.2572, 67.4866, 87.8947]])\n",
      "\tdw = tensor([[ 0.0759,  0.1231, -0.1946, -0.0539]])\n",
      "\tbias = tensor([0.4777])\n",
      "\tdb = tensor([-0.0264])\n",
      "\tloss = 0.024939415976405144\n",
      "\n",
      "epoch 050 |--------------------------------------------------\n",
      "\tweights = tensor([[20.5058, 34.1929, 67.5875, 87.9180]])\n",
      "\tdw = tensor([[ 0.0194,  0.0330, -0.0518, -0.0096]])\n",
      "\tbias = tensor([0.4929])\n",
      "\tdb = tensor([-0.0088])\n",
      "\tloss = 0.0017369146225973964\n",
      "\n",
      "epoch 060 |--------------------------------------------------\n",
      "\tweights = tensor([[20.4959, 34.1759, 67.6144, 87.9224]])\n",
      "\tdw = tensor([[ 0.0050,  0.0087, -0.0139, -0.0019]])\n",
      "\tbias = tensor([0.4979])\n",
      "\tdb = tensor([-0.0028])\n",
      "\tloss = 0.00012233904271852225\n",
      "\n",
      "epoch 070 |--------------------------------------------------\n",
      "\tweights = tensor([[20.4933, 34.1714, 67.6216, 87.9232]])\n",
      "\tdw = tensor([[ 0.0013,  0.0023, -0.0037, -0.0004]])\n",
      "\tbias = tensor([0.4994])\n",
      "\tdb = tensor([-0.0008])\n",
      "\tloss = 8.681970939505845e-06\n",
      "\n",
      "epoch 080 |--------------------------------------------------\n",
      "\tweights = tensor([[20.4926, 34.1702, 67.6235, 87.9234]])\n",
      "\tdw = tensor([[ 3.4569e-04,  5.9409e-04, -9.9507e-04, -9.6193e-05]])\n",
      "\tbias = tensor([0.4998])\n",
      "\tdb = tensor([-0.0002])\n",
      "\tloss = 6.166524144646246e-07\n",
      "\n",
      "epoch 090 |--------------------------------------------------\n",
      "\tweights = tensor([[20.4924, 34.1699, 67.6241, 87.9235]])\n",
      "\tdw = tensor([[ 9.2066e-05,  1.5562e-04, -2.6727e-04, -3.2466e-05]])\n",
      "\tbias = tensor([0.5000])\n",
      "\tdb = tensor([-7.0963e-05])\n",
      "\tloss = 4.450874158123952e-08\n",
      "\n",
      "epoch 100 |--------------------------------------------------\n",
      "\tweights = tensor([[20.4924, 34.1698, 67.6242, 87.9235]])\n",
      "\tdw = tensor([[ 2.7473e-05,  4.2170e-05, -6.8408e-05, -2.5197e-05]])\n",
      "\tbias = tensor([0.5000])\n",
      "\tdb = tensor([-1.5974e-05])\n",
      "\tloss = 3.274019499954761e-09\n",
      "\n"
     ]
    },
    {
     "data": {
      "text/plain": "(tensor([[20.4924, 34.1698, 67.6242, 87.9235]]),\n array([20.4923687 , 34.16981149, 67.62424823, 87.9234763 ]))"
     },
     "execution_count": 389,
     "metadata": {},
     "output_type": "execute_result"
    }
   ],
   "source": [
    "torch.manual_seed(0)\n",
    "\n",
    "y_true = y.unsqueeze(1)\n",
    "neuron = Neuron(X.size(1))\n",
    "mse = MSELoss()\n",
    "\n",
    "learning_rate = 0.1\n",
    "epochs = 100\n",
    "\n",
    "for epoch in range(epochs + 1):\n",
    "    y_pred = neuron.forward(X)\n",
    "    loss = mse.forward(y_pred, y_true)\n",
    "\n",
    "    dw, db, _ = neuron.backward(mse.backward(y_pred, y_true), X)\n",
    "\n",
    "    neuron.weights -= learning_rate * dw\n",
    "    neuron.bias -= learning_rate * db\n",
    "\n",
    "    if epoch % 10 == 0:\n",
    "        pretty_train_log(epoch, weights=neuron.weights, dw=dw, bias=neuron.bias, db=db, loss=loss)\n",
    "\n",
    "neuron.weights, coef"
   ],
   "metadata": {
    "collapsed": false
   }
  },
  {
   "cell_type": "markdown",
   "metadata": {
    "id": "16VtP159OdMk"
   },
   "source": [
    "4.3 Используя один полносвязный слой и пакетный градиентный спуск, решите задачу регрессии из __2.4.1__"
   ]
  },
  {
   "cell_type": "markdown",
   "metadata": {
    "id": "uj5febreSSZ7"
   },
   "source": [
    "4.3.1 Модифицируйте класс `Linear` из __1.4__. ([вычисление градиентов](https://i.ibb.co/kgVR6m6/photo-2021-02-15-21-30-28.jpg))"
   ]
  },
  {
   "cell_type": "code",
   "execution_count": 390,
   "outputs": [],
   "source": [
    "# подозрительно 🧐 похоже на предыдущий нейрон (просто совпадение)\n",
    "class Linear:\n",
    "\n",
    "    def __init__(self, in_features: int, out_features: int):\n",
    "        self.in_features = in_features\n",
    "        self.out_features = out_features\n",
    "\n",
    "        self.weights = torch.randn(out_features, in_features)\n",
    "        self.biases = torch.randn(out_features)\n",
    "\n",
    "    def forward(self, inputs: torch.Tensor) -> torch.Tensor:\n",
    "        return torch.matmul(inputs, self.weights.T) + self.biases\n",
    "\n",
    "    def backward(self, dvalue: torch.Tensor, inputs: torch.Tensor) -> tuple[torch.Tensor, torch.Tensor, torch.Tensor]:\n",
    "        # dw = torch.mean(dvalue * inputs, dim=0)\n",
    "        # dw = torch.matmul(inputs.T, dvalue)\n",
    "        # db = torch.mean(dvalue)\n",
    "        # print(dw.size(), db.size())\n",
    "        # dx = dvalue * self.weights\n",
    "        # dx = torch.matmul(dvalue, self.weights.T)\n",
    "        # dx = 1\n",
    "\n",
    "        dw = torch.matmul(inputs.T, dvalue).T\n",
    "        db = torch.matmul(torch.ones(dvalue.size(0)), dvalue)\n",
    "        dx = torch.matmul(dvalue, self.weights)\n",
    "        return dw, db, dx"
   ],
   "metadata": {
    "collapsed": false
   }
  },
  {
   "cell_type": "markdown",
   "metadata": {
    "id": "j3w1hT9MS_Lt"
   },
   "source": [
    "4.3.2 Создайте слой с одним нейроном. Используя класс MSELoss из 2.4.2, убедитесь, что модель обучается"
   ]
  },
  {
   "cell_type": "code",
   "execution_count": 391,
   "outputs": [
    {
     "name": "stdout",
     "output_type": "stream",
     "text": [
      "epoch 000 |--------------------------------------------------\n",
      "\tweights = tensor([[ 8.6293,  9.3343, 10.9663, 17.8038]])\n",
      "\tdw = tensor([[ -70.8827,  -96.2774, -131.4513, -172.3539]])\n",
      "\tbiases = tensor([-1.3156])\n",
      "\tdb = tensor([2.3111])\n",
      "\tloss = 14444.6875\n",
      "\n",
      "epoch 010 |--------------------------------------------------\n",
      "\tweights = tensor([[22.7480, 35.5011, 58.5014, 79.6487]])\n",
      "\tdw = tensor([[  0.8807,  -3.2026, -16.2397, -19.1752]])\n",
      "\tbiases = tensor([-0.2226])\n",
      "\tdb = tensor([-1.0528])\n",
      "\tloss = 184.8304901123047\n",
      "\n",
      "epoch 020 |--------------------------------------------------\n",
      "\tweights = tensor([[21.2786, 35.1800, 65.5825, 86.8190]])\n",
      "\tdw = tensor([[ 1.0790,  1.0197, -3.1022, -2.3846]])\n",
      "\tbiases = tensor([0.2985])\n",
      "\tdb = tensor([-0.2510])\n",
      "\tloss = 6.3272294998168945\n",
      "\n",
      "epoch 030 |--------------------------------------------------\n",
      "\tweights = tensor([[20.6966, 34.4885, 67.1042, 87.7555]])\n",
      "\tdw = tensor([[ 0.2998,  0.4234, -0.7472, -0.3366]])\n",
      "\tbiases = tensor([0.4332])\n",
      "\tdb = tensor([-0.0761])\n",
      "\tloss = 0.37050163745880127\n",
      "\n",
      "epoch 040 |--------------------------------------------------\n",
      "\tweights = tensor([[20.5444, 34.2572, 67.4866, 87.8947]])\n",
      "\tdw = tensor([[ 0.0759,  0.1231, -0.1946, -0.0539]])\n",
      "\tbiases = tensor([0.4777])\n",
      "\tdb = tensor([-0.0264])\n",
      "\tloss = 0.024939415976405144\n",
      "\n",
      "epoch 050 |--------------------------------------------------\n",
      "\tweights = tensor([[20.5058, 34.1929, 67.5875, 87.9180]])\n",
      "\tdw = tensor([[ 0.0194,  0.0330, -0.0518, -0.0096]])\n",
      "\tbiases = tensor([0.4929])\n",
      "\tdb = tensor([-0.0088])\n",
      "\tloss = 0.0017369146225973964\n",
      "\n",
      "epoch 060 |--------------------------------------------------\n",
      "\tweights = tensor([[20.4959, 34.1759, 67.6144, 87.9224]])\n",
      "\tdw = tensor([[ 0.0050,  0.0087, -0.0139, -0.0019]])\n",
      "\tbiases = tensor([0.4979])\n",
      "\tdb = tensor([-0.0028])\n",
      "\tloss = 0.00012233904271852225\n",
      "\n",
      "epoch 070 |--------------------------------------------------\n",
      "\tweights = tensor([[20.4933, 34.1714, 67.6216, 87.9232]])\n",
      "\tdw = tensor([[ 0.0013,  0.0023, -0.0037, -0.0004]])\n",
      "\tbiases = tensor([0.4994])\n",
      "\tdb = tensor([-0.0008])\n",
      "\tloss = 8.681970939505845e-06\n",
      "\n",
      "epoch 080 |--------------------------------------------------\n",
      "\tweights = tensor([[20.4926, 34.1702, 67.6235, 87.9234]])\n",
      "\tdw = tensor([[ 3.4569e-04,  5.9409e-04, -9.9507e-04, -9.6193e-05]])\n",
      "\tbiases = tensor([0.4998])\n",
      "\tdb = tensor([-0.0002])\n",
      "\tloss = 6.166524144646246e-07\n",
      "\n",
      "epoch 090 |--------------------------------------------------\n",
      "\tweights = tensor([[20.4924, 34.1699, 67.6241, 87.9235]])\n",
      "\tdw = tensor([[ 9.2066e-05,  1.5562e-04, -2.6727e-04, -3.2466e-05]])\n",
      "\tbiases = tensor([0.5000])\n",
      "\tdb = tensor([-7.0963e-05])\n",
      "\tloss = 4.450874158123952e-08\n",
      "\n",
      "epoch 100 |--------------------------------------------------\n",
      "\tweights = tensor([[20.4924, 34.1698, 67.6242, 87.9235]])\n",
      "\tdw = tensor([[ 2.7473e-05,  4.2170e-05, -6.8408e-05, -2.5197e-05]])\n",
      "\tbiases = tensor([0.5000])\n",
      "\tdb = tensor([-1.5974e-05])\n",
      "\tloss = 3.274019499954761e-09\n",
      "\n"
     ]
    },
    {
     "data": {
      "text/plain": "(tensor([[20.4924, 34.1698, 67.6242, 87.9235]]),\n array([20.4923687 , 34.16981149, 67.62424823, 87.9234763 ]))"
     },
     "execution_count": 391,
     "metadata": {},
     "output_type": "execute_result"
    }
   ],
   "source": [
    "torch.manual_seed(0)\n",
    "\n",
    "y_true = y.unsqueeze(1)\n",
    "layer = Linear(X.size(1), 1)\n",
    "mse = MSELoss()\n",
    "\n",
    "learning_rate = 0.1\n",
    "epochs = 100\n",
    "\n",
    "for epoch in range(epochs + 1):\n",
    "    y_pred = layer.forward(X)\n",
    "    loss = mse.forward(y_pred, y_true)\n",
    "\n",
    "    dw, db, _ = layer.backward(mse.backward(y_pred, y_true), X)\n",
    "\n",
    "    layer.weights -= learning_rate * dw\n",
    "    layer.biases -= learning_rate * db\n",
    "\n",
    "    if epoch % 10 == 0:\n",
    "        pretty_train_log(epoch, weights=layer.weights, dw=dw, biases=layer.biases, db=db, loss=loss)\n",
    "\n",
    "neuron.weights, coef"
   ],
   "metadata": {
    "collapsed": false
   }
  },
  {
   "cell_type": "markdown",
   "source": [
    "**Проверка**\n",
    "\n",
    "А pytorch точно правильно работает?"
   ],
   "metadata": {
    "collapsed": false
   }
  },
  {
   "cell_type": "code",
   "execution_count": 392,
   "outputs": [
    {
     "name": "stdout",
     "output_type": "stream",
     "text": [
      "epoch 000 |--------------------------------------------------\n",
      "\tweight = tensor([[ 8.6293,  9.3343, 10.9663, 17.8038]])\n",
      "\tbias = tensor([-1.3156])\n",
      "\tloss = 14444.6875\n",
      "\n",
      "epoch 010 |--------------------------------------------------\n",
      "\tweight = tensor([[22.7480, 35.5011, 58.5014, 79.6487]])\n",
      "\tbias = tensor([-0.2226])\n",
      "\tloss = 184.83056640625\n",
      "\n",
      "epoch 020 |--------------------------------------------------\n",
      "\tweight = tensor([[21.2786, 35.1800, 65.5825, 86.8190]])\n",
      "\tbias = tensor([0.2985])\n",
      "\tloss = 6.3272294998168945\n",
      "\n",
      "epoch 030 |--------------------------------------------------\n",
      "\tweight = tensor([[20.6966, 34.4885, 67.1042, 87.7555]])\n",
      "\tbias = tensor([0.4332])\n",
      "\tloss = 0.37050163745880127\n",
      "\n",
      "epoch 040 |--------------------------------------------------\n",
      "\tweight = tensor([[20.5444, 34.2572, 67.4866, 87.8947]])\n",
      "\tbias = tensor([0.4777])\n",
      "\tloss = 0.024939415976405144\n",
      "\n",
      "epoch 050 |--------------------------------------------------\n",
      "\tweight = tensor([[20.5058, 34.1929, 67.5875, 87.9180]])\n",
      "\tbias = tensor([0.4929])\n",
      "\tloss = 0.0017369146225973964\n",
      "\n",
      "epoch 060 |--------------------------------------------------\n",
      "\tweight = tensor([[20.4959, 34.1759, 67.6144, 87.9224]])\n",
      "\tbias = tensor([0.4979])\n",
      "\tloss = 0.00012233904271852225\n",
      "\n",
      "epoch 070 |--------------------------------------------------\n",
      "\tweight = tensor([[20.4933, 34.1714, 67.6216, 87.9232]])\n",
      "\tbias = tensor([0.4994])\n",
      "\tloss = 8.681970939505845e-06\n",
      "\n",
      "epoch 080 |--------------------------------------------------\n",
      "\tweight = tensor([[20.4926, 34.1702, 67.6235, 87.9234]])\n",
      "\tbias = tensor([0.4998])\n",
      "\tloss = 6.166524144646246e-07\n",
      "\n",
      "epoch 090 |--------------------------------------------------\n",
      "\tweight = tensor([[20.4924, 34.1699, 67.6241, 87.9235]])\n",
      "\tbias = tensor([0.5000])\n",
      "\tloss = 4.450874158123952e-08\n",
      "\n",
      "epoch 100 |--------------------------------------------------\n",
      "\tweight = tensor([[20.4924, 34.1698, 67.6242, 87.9235]])\n",
      "\tbias = tensor([0.5000])\n",
      "\tloss = 3.274019499954761e-09\n",
      "\n"
     ]
    },
    {
     "data": {
      "text/plain": "(tensor([[20.4924, 34.1698, 67.6242, 87.9235]]),\n array([20.4923687 , 34.16981149, 67.62424823, 87.9234763 ]))"
     },
     "execution_count": 392,
     "metadata": {},
     "output_type": "execute_result"
    }
   ],
   "source": [
    "torch.manual_seed(0)\n",
    "\n",
    "weights = torch.randn(1, 4)\n",
    "bias = torch.randn(1)\n",
    "\n",
    "y_true = y.unsqueeze(1)\n",
    "layer = nn.Linear(X.size(1), 1)\n",
    "layer.weight = nn.Parameter(weights, requires_grad=True)\n",
    "layer.bias = nn.Parameter(bias, requires_grad=True)\n",
    "mse = nn.MSELoss()\n",
    "\n",
    "learning_rate = 0.1\n",
    "optimizer = torch.optim.SGD([layer.weight, layer.bias], lr=learning_rate)\n",
    "epochs = 100\n",
    "\n",
    "for epoch in range(epochs + 1):\n",
    "    y_pred = layer.forward(X)\n",
    "    loss = mse.forward(y_pred, y_true)\n",
    "\n",
    "    loss.backward()\n",
    "    optimizer.step()\n",
    "\n",
    "    if epoch % 10 == 0:\n",
    "        pretty_train_log(epoch, weight=layer.weight.data, bias=layer.bias.data, loss=loss)\n",
    "\n",
    "    optimizer.zero_grad()\n",
    "\n",
    "neuron.weights, coef"
   ],
   "metadata": {
    "collapsed": false
   }
  },
  {
   "cell_type": "markdown",
   "metadata": {
    "id": "RTkJV-F8TVuN"
   },
   "source": [
    "4.4 Используя наработки из 2.4, создайте нейросеть и решите задачу регрессии.\n",
    "\n",
    "Предлагаемая архитектура: \n",
    "1. Полносвязный слой с 10 нейронами\n",
    "2. Активация ReLU\n",
    "3. Полносвязный слой с 1 нейроном"
   ]
  },
  {
   "cell_type": "code",
   "execution_count": 393,
   "metadata": {
    "id": "axUjpPz-SvS1"
   },
   "outputs": [
    {
     "data": {
      "text/plain": "(torch.Size([100, 1]), torch.Size([100, 1]))"
     },
     "execution_count": 393,
     "metadata": {},
     "output_type": "execute_result"
    }
   ],
   "source": [
    "torch.manual_seed(0)\n",
    "\n",
    "X = torch.linspace(-1, 1, 100).view(-1, 1)\n",
    "y = X.pow(2) + 0.2 * torch.rand(X.size())\n",
    "\n",
    "X.size(), y.size()"
   ]
  },
  {
   "cell_type": "code",
   "execution_count": 394,
   "outputs": [],
   "source": [
    "class Activation_ReLU:\n",
    "\n",
    "    def forward(self, inputs: torch.Tensor) -> torch.Tensor:\n",
    "        self.inputs = inputs\n",
    "        self.output = inputs.clip(min=0)\n",
    "        return self.output\n",
    "\n",
    "    def backward(self, dvalues: torch.Tensor) -> None:\n",
    "        self.dinputs = dvalues.clone()\n",
    "        self.dinputs[self.inputs <= 0] = 0"
   ],
   "metadata": {
    "collapsed": false
   }
  },
  {
   "cell_type": "code",
   "execution_count": 395,
   "outputs": [],
   "source": [
    "# подозрительно 🧐 похоже на предыдущий нейрон (просто совпадение)\n",
    "class Linear:\n",
    "\n",
    "    def __init__(self, in_features: int, out_features: int):\n",
    "        self.in_features = in_features\n",
    "        self.out_features = out_features\n",
    "\n",
    "        self.weights = torch.randn(out_features, in_features)\n",
    "        self.biases = torch.randn(out_features)\n",
    "\n",
    "    def forward(self, inputs: torch.Tensor) -> torch.Tensor:\n",
    "        return torch.matmul(inputs, self.weights.T) + self.biases\n",
    "\n",
    "    def backward(self, dvalue: torch.Tensor, inputs: torch.Tensor) -> tuple[torch.Tensor, torch.Tensor, torch.Tensor]:\n",
    "        dw = torch.matmul(inputs.T, dvalue).T\n",
    "        db = torch.matmul(torch.ones(dvalue.size(0)), dvalue)\n",
    "        dx = torch.matmul(dvalue, self.weights)\n",
    "        return dw, db, dx"
   ],
   "metadata": {
    "collapsed": false
   }
  },
  {
   "cell_type": "code",
   "execution_count": 400,
   "outputs": [
    {
     "name": "stdout",
     "output_type": "stream",
     "text": [
      "epoch 000 |--------------------------------------------------\n",
      "\tloss = 3.8516311645507812\n",
      "\n",
      "epoch 200 |--------------------------------------------------\n",
      "\tloss = 0.00728559261187911\n",
      "\n",
      "epoch 400 |--------------------------------------------------\n",
      "\tloss = 0.005183662287890911\n",
      "\n",
      "epoch 600 |--------------------------------------------------\n",
      "\tloss = 0.004410795401781797\n",
      "\n",
      "epoch 800 |--------------------------------------------------\n",
      "\tloss = 0.004125623498111963\n",
      "\n",
      "epoch 1000 |--------------------------------------------------\n",
      "\tloss = 0.004014131613075733\n",
      "\n",
      "epoch 1200 |--------------------------------------------------\n",
      "\tloss = 0.003962446004152298\n",
      "\n",
      "epoch 1400 |--------------------------------------------------\n",
      "\tloss = 0.00393940694630146\n",
      "\n",
      "epoch 1600 |--------------------------------------------------\n",
      "\tloss = 0.003925209864974022\n",
      "\n",
      "epoch 1800 |--------------------------------------------------\n",
      "\tloss = 0.003915079403668642\n",
      "\n",
      "epoch 2000 |--------------------------------------------------\n",
      "\tloss = 0.0039071436040103436\n",
      "\n"
     ]
    }
   ],
   "source": [
    "torch.manual_seed(0)\n",
    "\n",
    "# создание компонентов сети\n",
    "fc1 = Linear(X.size(1), 10)\n",
    "relu1 = Activation_ReLU()\n",
    "fc2 = Linear(10, 1)\n",
    "\n",
    "mse = MSELoss()\n",
    "lr = 0.02\n",
    "epochs = 2000\n",
    "\n",
    "predicts = []\n",
    "for epoch in range(epochs + 1):\n",
    "    # <forward pass>\n",
    "    # fc1 > relu1 > fc2 > loss\n",
    "    fc1_x = fc1.forward(X)\n",
    "    relu1_x = relu1.forward(fc1_x)\n",
    "    y_pred = fc2.forward(relu1_x)\n",
    "\n",
    "    loss = mse.forward(y_pred, y)  # <прогон через функцию потерь>\n",
    "\n",
    "    if epoch % 200 == 0:\n",
    "        pretty_train_log(epoch, loss=loss)\n",
    "        predicts.append(y_pred)\n",
    "\n",
    "    # <backprop>\n",
    "    # loss > fc2 > relu1 > fc1\n",
    "    mse_d = mse.backward(y_pred, y)\n",
    "    dw2, db2, dx2 = fc2.backward(mse_d, relu1_x)\n",
    "\n",
    "    relu1.backward(dx2)\n",
    "    dw1, db1, dx1 = fc1.backward(relu1.dinputs, X)\n",
    "\n",
    "    # <шаг оптимизации для fc1>\n",
    "    fc1.weights -= lr * dw1\n",
    "    fc1.biases -= lr * db1\n",
    "\n",
    "    # <шаг оптимизации для fc2>\n",
    "    fc2.weights -= lr * dw2\n",
    "    fc2.biases -= lr * db2\n",
    "\n",
    "predicts = predicts[::2]"
   ],
   "metadata": {
    "collapsed": false
   }
  },
  {
   "cell_type": "code",
   "execution_count": 397,
   "outputs": [],
   "source": [
    "class NeuralNet:\n",
    "\n",
    "    def __init__(self, in_features: int, out_features: int):\n",
    "        self.in_features = in_features\n",
    "        self.out_features = out_features\n",
    "\n",
    "        self.fc1 = nn.Linear(in_features, 10)\n",
    "        self.relu1 = nn.ReLU()\n",
    "        self.fc2 = nn.Linear(10, out_features)\n",
    "\n",
    "    def parameters(self) -> list[torch.Tensor]:\n",
    "        return [*self.fc1.parameters(), *self.fc2.parameters()]\n",
    "\n",
    "    def forward(self, inputs: torch.Tensor) -> torch.Tensor:\n",
    "        return self.fc2.forward(self.relu1.forward(self.fc1.forward(inputs)))"
   ],
   "metadata": {
    "collapsed": false
   }
  },
  {
   "cell_type": "code",
   "execution_count": 398,
   "outputs": [
    {
     "name": "stdout",
     "output_type": "stream",
     "text": [
      "epoch 000 |--------------------------------------------------\n",
      "\tw1 = tensor([[-0.0075],\n",
      "        [ 0.5387],\n",
      "        [-0.8230],\n",
      "        [-0.7364],\n",
      "        [-0.3852],\n",
      "        [ 0.2685],\n",
      "        [-0.0190],\n",
      "        [ 0.7909],\n",
      "        [-0.0887],\n",
      "        [ 0.2646]])\n",
      "\tdw1 = tensor([[ 0.0000],\n",
      "        [-0.1127],\n",
      "        [ 0.0000],\n",
      "        [ 0.0225],\n",
      "        [ 0.0000],\n",
      "        [-0.0152],\n",
      "        [-0.0382],\n",
      "        [ 0.0980],\n",
      "        [ 0.0000],\n",
      "        [ 0.0000]])\n",
      "\tb1 = tensor([-0.3022, -0.1935, -0.9553, -0.6618, -0.4122,  0.0375,  0.4023,  0.5942,\n",
      "        -0.6779, -0.4355])\n",
      "\tdb1 = tensor([ 0.0000, -0.1523,  0.0000, -0.0234,  0.0000, -0.0252, -0.3491,  0.2916,\n",
      "         0.0000,  0.0000])\n",
      "\tw2 = tensor([[ 0.1149,  0.2649, -0.0651,  0.2367, -0.0510,  0.0365,  0.2959, -0.2761,\n",
      "         -0.1991, -0.0801]])\n",
      "\tdw2 = tensor([[ 0.0000, -0.1161,  0.0000, -0.0045,  0.0000, -0.1495, -0.4794, -0.8613,\n",
      "          0.0000,  0.0000]])\n",
      "\tb2 = tensor([-0.0989])\n",
      "\tdb2 = tensor([-1.2193])\n",
      "\tloss = 0.47132760286331177\n",
      "\n",
      "epoch 200 |--------------------------------------------------\n",
      "\tw1 = tensor([[-0.0075],\n",
      "        [ 0.6626],\n",
      "        [-0.8230],\n",
      "        [-0.8248],\n",
      "        [-0.3852],\n",
      "        [ 0.3006],\n",
      "        [-0.0401],\n",
      "        [ 0.7544],\n",
      "        [-0.0887],\n",
      "        [ 0.2646]])\n",
      "\tdw1 = tensor([[ 0.0000],\n",
      "        [-0.0251],\n",
      "        [ 0.0000],\n",
      "        [ 0.0268],\n",
      "        [ 0.0000],\n",
      "        [-0.0078],\n",
      "        [ 0.0112],\n",
      "        [ 0.0053],\n",
      "        [ 0.0000],\n",
      "        [ 0.0000]])\n",
      "\tb1 = tensor([-0.3022, -0.0955, -0.9553, -0.5653, -0.4122,  0.0286,  0.5083,  0.5819,\n",
      "        -0.6779, -0.4355])\n",
      "\tdb1 = tensor([ 0.0000, -0.0074,  0.0000, -0.0302,  0.0000,  0.0058,  0.0016, -0.0085,\n",
      "         0.0000,  0.0000])\n",
      "\tw2 = tensor([[ 0.1149,  0.4367, -0.0651,  0.2747, -0.0510,  0.1383,  0.4308, -0.0835,\n",
      "         -0.1991, -0.0801]])\n",
      "\tdw2 = tensor([[ 0.0000, -0.0365,  0.0000, -0.0182,  0.0000, -0.0158,  0.0009,  0.0118,\n",
      "          0.0000,  0.0000]])\n",
      "\tb2 = tensor([0.1980])\n",
      "\tdb2 = tensor([0.0038])\n",
      "\tloss = 0.06460778415203094\n",
      "\n",
      "epoch 400 |--------------------------------------------------\n",
      "\tw1 = tensor([[-0.0075],\n",
      "        [ 0.7671],\n",
      "        [-0.8230],\n",
      "        [-0.9426],\n",
      "        [-0.3852],\n",
      "        [ 0.3347],\n",
      "        [-0.0777],\n",
      "        [ 0.7324],\n",
      "        [-0.0887],\n",
      "        [ 0.2646]])\n",
      "\tdw1 = tensor([[ 0.0000],\n",
      "        [-0.0268],\n",
      "        [ 0.0000],\n",
      "        [ 0.0300],\n",
      "        [ 0.0000],\n",
      "        [-0.0091],\n",
      "        [ 0.0062],\n",
      "        [ 0.0055],\n",
      "        [ 0.0000],\n",
      "        [ 0.0000]])\n",
      "\tb1 = tensor([-0.3022, -0.0790, -0.9553, -0.4301, -0.4122,  0.0095,  0.4992,  0.6184,\n",
      "        -0.6779, -0.4355])\n",
      "\tdb1 = tensor([ 0.0000, -0.0015,  0.0000, -0.0344,  0.0000,  0.0032,  0.0033, -0.0090,\n",
      "         0.0000,  0.0000])\n",
      "\tw2 = tensor([[ 0.1149,  0.5808, -0.0651,  0.3861, -0.0510,  0.2001,  0.4253, -0.1343,\n",
      "         -0.1991, -0.0801]])\n",
      "\tdw2 = tensor([[ 0.0000, -0.0352,  0.0000, -0.0350,  0.0000, -0.0151,  0.0027,  0.0116,\n",
      "          0.0000,  0.0000]])\n",
      "\tb2 = tensor([0.1768])\n",
      "\tdb2 = tensor([0.0078])\n",
      "\tloss = 0.042419206351041794\n",
      "\n",
      "epoch 600 |--------------------------------------------------\n",
      "\tw1 = tensor([[-0.0075],\n",
      "        [ 0.8706],\n",
      "        [-0.8230],\n",
      "        [-1.0457],\n",
      "        [-0.3852],\n",
      "        [ 0.3707],\n",
      "        [-0.0896],\n",
      "        [ 0.7127],\n",
      "        [-0.0887],\n",
      "        [ 0.2646]])\n",
      "\tdw1 = tensor([[ 0.0000],\n",
      "        [-0.0240],\n",
      "        [ 0.0000],\n",
      "        [ 0.0210],\n",
      "        [ 0.0000],\n",
      "        [-0.0085],\n",
      "        [ 0.0005],\n",
      "        [ 0.0042],\n",
      "        [ 0.0000],\n",
      "        [ 0.0000]])\n",
      "\tb1 = tensor([-3.0221e-01, -7.6760e-02, -9.5535e-01, -3.2473e-01, -4.1222e-01,\n",
      "        -1.6832e-04,  4.8265e-01,  6.4970e-01, -6.7794e-01, -4.3546e-01])\n",
      "\tdb1 = tensor([ 0.0000,  0.0008,  0.0000, -0.0174,  0.0000,  0.0016,  0.0045, -0.0065,\n",
      "         0.0000,  0.0000])\n",
      "\tw2 = tensor([[ 0.1149,  0.7116, -0.0651,  0.5239, -0.0510,  0.2557,  0.4081, -0.1711,\n",
      "         -0.1991, -0.0801]])\n",
      "\tdw2 = tensor([[ 0.0000, -0.0294,  0.0000, -0.0311,  0.0000, -0.0124,  0.0052,  0.0069,\n",
      "          0.0000,  0.0000]])\n",
      "\tb2 = tensor([0.1371])\n",
      "\tdb2 = tensor([0.0109])\n",
      "\tloss = 0.02270638383924961\n",
      "\n",
      "epoch 800 |--------------------------------------------------\n",
      "\tw1 = tensor([[-0.0075],\n",
      "        [ 0.9529],\n",
      "        [-0.8230],\n",
      "        [-1.1129],\n",
      "        [-0.3852],\n",
      "        [ 0.4005],\n",
      "        [-0.0887],\n",
      "        [ 0.6991],\n",
      "        [-0.0887],\n",
      "        [ 0.2646]])\n",
      "\tdw1 = tensor([[ 0.0000],\n",
      "        [-0.0170],\n",
      "        [ 0.0000],\n",
      "        [ 0.0131],\n",
      "        [ 0.0000],\n",
      "        [-0.0062],\n",
      "        [-0.0005],\n",
      "        [ 0.0028],\n",
      "        [ 0.0000],\n",
      "        [ 0.0000]])\n",
      "\tb1 = tensor([-0.3022, -0.0853, -0.9553, -0.2818, -0.4122, -0.0055,  0.4673,  0.6701,\n",
      "        -0.6779, -0.4355])\n",
      "\tdb1 = tensor([ 0.0000,  0.0034,  0.0000, -0.0055,  0.0000,  0.0011,  0.0031, -0.0042,\n",
      "         0.0000,  0.0000])\n",
      "\tw2 = tensor([[ 0.1149,  0.8111, -0.0651,  0.6273, -0.0510,  0.2973,  0.3896, -0.1927,\n",
      "         -0.1991, -0.0801]])\n",
      "\tdw2 = tensor([[ 0.0000, -0.0203,  0.0000, -0.0208,  0.0000, -0.0084,  0.0038,  0.0042,\n",
      "          0.0000,  0.0000]])\n",
      "\tb2 = tensor([0.0985])\n",
      "\tdb2 = tensor([0.0079])\n",
      "\tloss = 0.012609979137778282\n",
      "\n",
      "epoch 1000 |--------------------------------------------------\n",
      "\tw1 = tensor([[-0.0075],\n",
      "        [ 1.0078],\n",
      "        [-0.8230],\n",
      "        [-1.1540],\n",
      "        [-0.3852],\n",
      "        [ 0.4209],\n",
      "        [-0.0862],\n",
      "        [ 0.6913],\n",
      "        [-0.0887],\n",
      "        [ 0.2646]])\n",
      "\tdw1 = tensor([[ 0.0000],\n",
      "        [-0.0108],\n",
      "        [ 0.0000],\n",
      "        [ 0.0077],\n",
      "        [ 0.0000],\n",
      "        [-0.0041],\n",
      "        [-0.0007],\n",
      "        [ 0.0012],\n",
      "        [ 0.0000],\n",
      "        [ 0.0000]])\n",
      "\tb1 = tensor([-0.3022, -0.1045, -0.9553, -0.2702, -0.4122, -0.0090,  0.4579,  0.6816,\n",
      "        -0.6779, -0.4355])\n",
      "\tdb1 = tensor([ 0.0000,  0.0056,  0.0000, -0.0002,  0.0000,  0.0006,  0.0017, -0.0017,\n",
      "         0.0000,  0.0000])\n",
      "\tw2 = tensor([[ 0.1149,  0.8771, -0.0651,  0.6931, -0.0510,  0.3244,  0.3778, -0.2041,\n",
      "         -0.1991, -0.0801]])\n",
      "\tdw2 = tensor([[ 0.0000, -0.0131,  0.0000, -0.0128,  0.0000, -0.0053,  0.0022,  0.0018,\n",
      "          0.0000,  0.0000]])\n",
      "\tb2 = tensor([0.0741])\n",
      "\tdb2 = tensor([0.0044])\n",
      "\tloss = 0.008450593799352646\n",
      "\n",
      "epoch 1200 |--------------------------------------------------\n",
      "\tw1 = tensor([[-0.0075],\n",
      "        [ 1.0418],\n",
      "        [-0.8230],\n",
      "        [-1.1778],\n",
      "        [-0.3852],\n",
      "        [ 0.4338],\n",
      "        [-0.0842],\n",
      "        [ 0.6871],\n",
      "        [-0.0887],\n",
      "        [ 0.2646]])\n",
      "\tdw1 = tensor([[ 0.0000],\n",
      "        [-0.0065],\n",
      "        [ 0.0000],\n",
      "        [ 0.0045],\n",
      "        [ 0.0000],\n",
      "        [-0.0025],\n",
      "        [-0.0003],\n",
      "        [ 0.0002],\n",
      "        [ 0.0000],\n",
      "        [ 0.0000]])\n",
      "\tb1 = tensor([-0.3022, -0.1271, -0.9553, -0.2762, -0.4122, -0.0107,  0.4534,  0.6871,\n",
      "        -0.6779, -0.4355])\n",
      "\tdb1 = tensor([ 0.0000,  0.0057,  0.0000,  0.0028,  0.0000,  0.0002,  0.0007, -0.0004,\n",
      "         0.0000,  0.0000])\n",
      "\tw2 = tensor([[ 0.1149,  0.9187, -0.0651,  0.7343, -0.0510,  0.3410,  0.3719, -0.2086,\n",
      "         -0.1991, -0.0801]])\n",
      "\tdw2 = tensor([[ 0.0000, -0.0082,  0.0000, -0.0083,  0.0000, -0.0032,  0.0009,  0.0006,\n",
      "          0.0000,  0.0000]])\n",
      "\tb2 = tensor([0.0622])\n",
      "\tdb2 = tensor([0.0018])\n",
      "\tloss = 0.006811199709773064\n",
      "\n",
      "epoch 1400 |--------------------------------------------------\n",
      "\tw1 = tensor([[-0.0075],\n",
      "        [ 1.0623],\n",
      "        [-0.8230],\n",
      "        [-1.1918],\n",
      "        [-0.3852],\n",
      "        [ 0.4420],\n",
      "        [-0.0829],\n",
      "        [ 0.6864],\n",
      "        [-0.0887],\n",
      "        [ 0.2646]])\n",
      "\tdw1 = tensor([[ 0.0000],\n",
      "        [-0.0041],\n",
      "        [ 0.0000],\n",
      "        [ 0.0027],\n",
      "        [ 0.0000],\n",
      "        [-0.0017],\n",
      "        [-0.0003],\n",
      "        [ 0.0002],\n",
      "        [ 0.0000],\n",
      "        [ 0.0000]])\n",
      "\tb1 = tensor([-0.3022, -0.1513, -0.9553, -0.2904, -0.4122, -0.0105,  0.4519,  0.6880,\n",
      "        -0.6779, -0.4355])\n",
      "\tdb1 = tensor([ 0.0000e+00,  6.1944e-03,  0.0000e+00,  4.1060e-03,  0.0000e+00,\n",
      "        -2.8841e-04,  1.4068e-04, -7.9549e-05,  0.0000e+00,  0.0000e+00])\n",
      "\tw2 = tensor([[ 0.1149,  0.9455, -0.0651,  0.7617, -0.0510,  0.3514,  0.3698, -0.2091,\n",
      "         -0.1991, -0.0801]])\n",
      "\tdw2 = tensor([[ 0.0000, -0.0056,  0.0000, -0.0058,  0.0000, -0.0021,  0.0002, -0.0003,\n",
      "          0.0000,  0.0000]])\n",
      "\tb2 = tensor([0.0581])\n",
      "\tdb2 = tensor([0.0004])\n",
      "\tloss = 0.006029203068464994\n",
      "\n",
      "epoch 1600 |--------------------------------------------------\n",
      "\tw1 = tensor([[-0.0075],\n",
      "        [ 1.0756],\n",
      "        [-0.8230],\n",
      "        [-1.2004],\n",
      "        [-0.3852],\n",
      "        [ 0.4476],\n",
      "        [-0.0823],\n",
      "        [ 0.6860],\n",
      "        [-0.0887],\n",
      "        [ 0.2646]])\n",
      "\tdw1 = tensor([[ 0.0000e+00],\n",
      "        [-2.6106e-03],\n",
      "        [ 0.0000e+00],\n",
      "        [ 1.7440e-03],\n",
      "        [ 0.0000e+00],\n",
      "        [-1.1058e-03],\n",
      "        [ 8.9959e-05],\n",
      "        [-5.0604e-05],\n",
      "        [ 0.0000e+00],\n",
      "        [ 0.0000e+00]])\n",
      "\tb1 = tensor([-0.3022, -0.1736, -0.9553, -0.3091, -0.4122, -0.0089,  0.4519,  0.6880,\n",
      "        -0.6779, -0.4355])\n",
      "\tdb1 = tensor([ 0.0000,  0.0052,  0.0000,  0.0056,  0.0000, -0.0004, -0.0002,  0.0001,\n",
      "         0.0000,  0.0000])\n",
      "\tw2 = tensor([[ 0.1149,  0.9641, -0.0651,  0.7824, -0.0510,  0.3583,  0.3696, -0.2079,\n",
      "         -0.1991, -0.0801]])\n",
      "\tdw2 = tensor([[ 0.0000, -0.0038,  0.0000, -0.0049,  0.0000, -0.0014, -0.0002, -0.0002,\n",
      "          0.0000,  0.0000]])\n",
      "\tb2 = tensor([0.0581])\n",
      "\tdb2 = tensor([-0.0005])\n",
      "\tloss = 0.005534584634006023\n",
      "\n",
      "epoch 1800 |--------------------------------------------------\n",
      "\tw1 = tensor([[-0.0075],\n",
      "        [ 1.0844],\n",
      "        [-0.8230],\n",
      "        [-1.2070],\n",
      "        [-0.3852],\n",
      "        [ 0.4513],\n",
      "        [-0.0830],\n",
      "        [ 0.6864],\n",
      "        [-0.0887],\n",
      "        [ 0.2646]])\n",
      "\tdw1 = tensor([[ 0.0000],\n",
      "        [-0.0019],\n",
      "        [ 0.0000],\n",
      "        [ 0.0016],\n",
      "        [ 0.0000],\n",
      "        [-0.0008],\n",
      "        [ 0.0002],\n",
      "        [-0.0001],\n",
      "        [ 0.0000],\n",
      "        [ 0.0000]])\n",
      "\tb1 = tensor([-0.3022, -0.1923, -0.9553, -0.3302, -0.4122, -0.0071,  0.4528,  0.6875,\n",
      "        -0.6779, -0.4355])\n",
      "\tdb1 = tensor([ 0.0000,  0.0041,  0.0000,  0.0047,  0.0000, -0.0005, -0.0002,  0.0001,\n",
      "         0.0000,  0.0000])\n",
      "\tw2 = tensor([[ 0.1149,  0.9775, -0.0651,  0.8009, -0.0510,  0.3629,  0.3709, -0.2077,\n",
      "         -0.1991, -0.0801]])\n",
      "\tdw2 = tensor([[ 0.0000e+00, -2.9203e-03,  0.0000e+00, -4.3395e-03,  0.0000e+00,\n",
      "         -9.8244e-04, -3.1948e-04,  6.0435e-05,  0.0000e+00,  0.0000e+00]])\n",
      "\tb2 = tensor([0.0605])\n",
      "\tdb2 = tensor([-0.0006])\n",
      "\tloss = 0.0051613678224384785\n",
      "\n",
      "epoch 2000 |--------------------------------------------------\n",
      "\tw1 = tensor([[-0.0075],\n",
      "        [ 1.0912],\n",
      "        [-0.8230],\n",
      "        [-1.2127],\n",
      "        [-0.3852],\n",
      "        [ 0.4542],\n",
      "        [-0.0840],\n",
      "        [ 0.6870],\n",
      "        [-0.0887],\n",
      "        [ 0.2646]])\n",
      "\tdw1 = tensor([[ 0.0000],\n",
      "        [-0.0015],\n",
      "        [ 0.0000],\n",
      "        [ 0.0013],\n",
      "        [ 0.0000],\n",
      "        [-0.0006],\n",
      "        [ 0.0003],\n",
      "        [-0.0001],\n",
      "        [ 0.0000],\n",
      "        [ 0.0000]])\n",
      "\tb1 = tensor([-0.3022, -0.2070, -0.9553, -0.3482, -0.4122, -0.0050,  0.4536,  0.6870,\n",
      "        -0.6779, -0.4355])\n",
      "\tdb1 = tensor([ 0.0000,  0.0033,  0.0000,  0.0043,  0.0000, -0.0006, -0.0002,  0.0001,\n",
      "         0.0000,  0.0000])\n",
      "\tw2 = tensor([[ 0.1149,  0.9880, -0.0651,  0.8171, -0.0510,  0.3664,  0.3721, -0.2079,\n",
      "         -0.1991, -0.0801]])\n",
      "\tdw2 = tensor([[ 0.0000e+00, -2.3474e-03,  0.0000e+00, -3.7905e-03,  0.0000e+00,\n",
      "         -7.6371e-04, -3.0763e-04,  9.7581e-05,  0.0000e+00,  0.0000e+00]])\n",
      "\tb2 = tensor([0.0627])\n",
      "\tdb2 = tensor([-0.0005])\n",
      "\tloss = 0.00490344874560833\n",
      "\n"
     ]
    }
   ],
   "source": [
    "torch.manual_seed(0)\n",
    "\n",
    "model = NeuralNet(X.size(1), 1)\n",
    "mse = nn.MSELoss()\n",
    "\n",
    "optimizer = torch.optim.SGD(model.parameters(), lr=0.02)\n",
    "epochs = 2000\n",
    "\n",
    "predicts = []\n",
    "for epoch in range(epochs + 1):\n",
    "    y_pred = model.forward(X)\n",
    "    loss = mse.forward(y_pred, y)\n",
    "\n",
    "    loss.backward()\n",
    "    optimizer.step()\n",
    "\n",
    "    if epoch % 200 == 0:\n",
    "        pretty_train_log(\n",
    "            epoch,\n",
    "            w1=model.fc1.weight.data,\n",
    "            dw1=model.fc1.weight.grad,\n",
    "            b1=model.fc1.bias.data,\n",
    "            db1=model.fc1.bias.grad,\n",
    "            w2=model.fc2.weight.data,\n",
    "            dw2=model.fc2.weight.grad,\n",
    "            b2=model.fc2.bias.data,\n",
    "            db2=model.fc2.bias.grad,\n",
    "            loss=loss)\n",
    "        predicts.append(y_pred)\n",
    "\n",
    "    optimizer.zero_grad()\n",
    "\n",
    "predicts = predicts[::2]"
   ],
   "metadata": {
    "collapsed": false
   }
  },
  {
   "cell_type": "code",
   "execution_count": 401,
   "metadata": {
    "id": "kpKi0OfoUkwk"
   },
   "outputs": [
    {
     "data": {
      "text/plain": "<Figure size 1000x4000 with 6 Axes>",
      "image/png": "[encoded data removed]"
     },
     "metadata": {},
     "output_type": "display_data"
    }
   ],
   "source": [
    "import matplotlib.pyplot as plt\n",
    "\n",
    "fig, axs = plt.subplots(len(predicts), 1, figsize=(10, 40))\n",
    "for ax, y_pred in zip(axs, predicts):\n",
    "    ax.scatter(X.numpy(), y.numpy(), color=\"orange\")\n",
    "    ax.plot(X.numpy(), y_pred.detach().numpy(), 'g-', lw=3)\n",
    "    ax.set_xlim(-1.05, 1.5)\n",
    "    ax.set_ylim(-0.25, 1.25)"
   ]
  },
  {
   "cell_type": "code",
   "execution_count": null,
   "outputs": [],
   "source": [],
   "metadata": {
    "collapsed": false
   }
  }
 ],
 "metadata": {
  "colab": {
   "authorship_tag": "ABX9TyPDgJRHjuyArfKO8ZT68MsS",
   "name": "02_NN_blocks_backprop_v1.ipynb",
   "provenance": []
  },
  "kernelspec": {
   "display_name": "Python 3 (ipykernel)",
   "language": "python",
   "name": "python3"
  },
  "language_info": {
   "codemirror_mode": {
    "name": "ipython",
    "version": 3
   },
   "file_extension": ".py",
   "mimetype": "text/x-python",
   "name": "python",
   "nbconvert_exporter": "python",
   "pygments_lexer": "ipython3",
   "version": "3.9.7"
  }
 },
 "nbformat": 4,
 "nbformat_minor": 1
}
