{
 "cells": [
  {
   "cell_type": "markdown",
   "metadata": {},
   "source": [
    "# 2. Создание нейронной сети без использования готовых решений\n",
    "\n",
    "__Автор__: Никита Владимирович Блохин (NVBlokhin@fa.ru)\n",
    "\n",
    "Финансовый университет, 2020 г. "
   ]
  },
  {
   "cell_type": "code",
   "execution_count": 632,
   "metadata": {
    "id": "PqC4R7SGseKa"
   },
   "outputs": [],
   "source": [
    "from dataclasses import dataclass\n",
    "\n",
    "import matplotlib.pyplot as plt\n",
    "import torch\n",
    "import torch.nn as nn\n",
    "import torch.nn.functional as F\n"
   ]
  },
  {
   "cell_type": "code",
   "execution_count": 633,
   "outputs": [],
   "source": [
    "torch.set_warn_always(True)"
   ],
   "metadata": {
    "collapsed": false
   }
  },
  {
   "cell_type": "markdown",
   "metadata": {
    "id": "0J2RM8f5wP33"
   },
   "source": [
    "## 1. Создание нейронов и полносвязных слоев"
   ]
  },
  {
   "cell_type": "markdown",
   "metadata": {
    "id": "_2ArJn_nsdZC"
   },
   "source": [
    "1.1. Используя операции над матрицами и векторами из библиотеки `torch`, реализовать нейрон с заданными весами `weights` и `bias`. Прогнать вектор `inputs` через нейрон и вывести результат. "
   ]
  },
  {
   "cell_type": "code",
   "execution_count": 634,
   "metadata": {
    "id": "f4agkY9WqPwe"
   },
   "outputs": [],
   "source": [
    "class Neuron:\n",
    "\n",
    "    def __init__(self, weights: torch.Tensor, bias: torch.Tensor):\n",
    "        self.weights = weights\n",
    "        self.bias = bias\n",
    "\n",
    "    def forward(self, inputs: torch.Tensor) -> torch.Tensor:\n",
    "        return torch.sum(inputs * self.weights) + self.bias"
   ]
  },
  {
   "cell_type": "code",
   "execution_count": 635,
   "metadata": {
    "id": "HJRkSkHHsb7u"
   },
   "outputs": [],
   "source": [
    "inputs = torch.tensor([1.0, 2.0, 3.0, 4.0])\n",
    "weights = torch.tensor([-0.2, 0.3, -0.5, 0.7])\n",
    "bias = torch.tensor(3.14)"
   ]
  },
  {
   "cell_type": "code",
   "execution_count": 636,
   "outputs": [
    {
     "name": "stdout",
     "output_type": "stream",
     "text": [
      "Neuron.forward: 4.840000152587891\n",
      "functional.linear: 4.840000152587891\n"
     ]
    }
   ],
   "source": [
    "neuron = Neuron(weights, bias)\n",
    "print(f'Neuron.forward: {neuron.forward(inputs)}')\n",
    "print(f'functional.linear: {F.linear(inputs, weights, bias)}')"
   ],
   "metadata": {
    "collapsed": false
   }
  },
  {
   "cell_type": "markdown",
   "metadata": {
    "id": "1qJvnwiyty37"
   },
   "source": [
    "1.2 Используя операции над матрицами и векторами из библиотеки `torch`, реализовать полносвязный слой с заданными весами `weights` и `biases`. Прогнать вектор `inputs` через слой и вывести результат. "
   ]
  },
  {
   "cell_type": "code",
   "execution_count": 637,
   "metadata": {
    "id": "fVWF3a9vtx90"
   },
   "outputs": [],
   "source": [
    "class Linear:\n",
    "\n",
    "    def __init__(self, weights: torch.Tensor, biases: torch.Tensor):\n",
    "        self.weights = weights\n",
    "        self.biases = biases\n",
    "\n",
    "    def forward(self, inputs: torch.Tensor) -> torch.Tensor:\n",
    "        return torch.matmul(inputs, self.weights.T) + self.biases"
   ]
  },
  {
   "cell_type": "code",
   "execution_count": 638,
   "metadata": {
    "id": "Fo-JFnHPuFCS"
   },
   "outputs": [],
   "source": [
    "inputs = torch.tensor([1.0, 2.0, 3.0, 4.0])\n",
    "weights = torch.tensor([[-0.2, 0.3, -0.5, 0.7],\n",
    "                        [0.5, -0.91, 0.26, -0.5],\n",
    "                        [-0.26, -0.27, 0.17, 0.87]])  # убрал .T\n",
    "\n",
    "biases = torch.tensor([3.14, 2.71, 7.2])"
   ]
  },
  {
   "cell_type": "code",
   "execution_count": 639,
   "outputs": [
    {
     "name": "stdout",
     "output_type": "stream",
     "text": [
      "Linear.forward:\n",
      "tensor([ 4.8400,  0.1700, 10.3900])\n",
      "\n",
      "functional.linear:\n",
      "tensor([ 4.8400,  0.1700, 10.3900])\n"
     ]
    }
   ],
   "source": [
    "m = Linear(weights, biases)\n",
    "print(f'Linear.forward:\\n{m.forward(inputs)}')\n",
    "print(f'\\nfunctional.linear:\\n{F.linear(inputs, weights, biases)}')"
   ],
   "metadata": {
    "collapsed": false
   }
  },
  {
   "cell_type": "markdown",
   "metadata": {
    "id": "mQtsJzcxuyGd"
   },
   "source": [
    "1.3 Реализовать полносвязный слой из __2.1.2__ таким образом, чтобы он мог принимать на вход матрицу (батч) с данными. Продемонстрировать работу.\n",
    "Результатом прогона сквозь слой должна быть матрица размера `batch_size` x `n_neurons`.\n"
   ]
  },
  {
   "cell_type": "code",
   "execution_count": 640,
   "metadata": {
    "id": "Z8IizmtsuhO1"
   },
   "outputs": [],
   "source": [
    "inputs = torch.tensor([[1, 2, 3, 2.5],\n",
    "                       [2, 5, -1, 2],\n",
    "                       [-1.5, 2.7, 3.3, -0.8]])"
   ]
  },
  {
   "cell_type": "code",
   "execution_count": 641,
   "outputs": [
    {
     "name": "stdout",
     "output_type": "stream",
     "text": [
      "Linear.forward:\n",
      "tensor([[ 3.7900,  0.9200,  9.0850],\n",
      "        [ 6.1400, -2.1000,  6.9000],\n",
      "        [ 2.0400,  0.7610,  6.7260]])\n",
      "\n",
      "functional.linear:\n",
      "tensor([[ 3.7900,  0.9200,  9.0850],\n",
      "        [ 6.1400, -2.1000,  6.9000],\n",
      "        [ 2.0400,  0.7610,  6.7260]])\n"
     ]
    }
   ],
   "source": [
    "m = Linear(weights, biases)\n",
    "print(f'Linear.forward:\\n{m.forward(inputs)}')\n",
    "print(f'\\nfunctional.linear:\\n{F.linear(inputs, weights, biases)}')"
   ],
   "metadata": {
    "collapsed": false
   }
  },
  {
   "cell_type": "markdown",
   "metadata": {
    "id": "OQ2OxH4_vBLu"
   },
   "source": [
    "1.4 Используя операции над матрицами и векторами из библиотеки `torch`, реализовать полносвязный слой из `n_neurons` нейронов с `n_features` весами у каждого нейрона (инициализируются из стандартного нормального распределения). Прогнать вектор `inputs` через слой и вывести результат. Результатом прогона сквозь слой должна быть матрица размера `batch_size` x `n_neurons`."
   ]
  },
  {
   "cell_type": "code",
   "execution_count": 642,
   "metadata": {
    "id": "IOv52EdovASs"
   },
   "outputs": [],
   "source": [
    "class Linear:\n",
    "\n",
    "    def __init__(self, in_features: int, out_features: int):\n",
    "        self.in_features = in_features\n",
    "        self.out_features = out_features\n",
    "\n",
    "        self.weights = torch.randn(out_features, in_features, requires_grad=True)\n",
    "        self.biases = torch.randn(out_features, requires_grad=True)\n",
    "\n",
    "    def forward(self, inputs: torch.Tensor) -> torch.Tensor:\n",
    "        return torch.matmul(inputs, self.weights.T) + self.biases"
   ]
  },
  {
   "cell_type": "code",
   "execution_count": 643,
   "outputs": [
    {
     "data": {
      "text/plain": "tensor([[ -5.0178,   0.5240,  -3.9319],\n        [  4.0738,  -6.7887,  -3.5657],\n        [-11.6052,  -0.3882,  -3.1959]], grad_fn=<AddBackward0>)"
     },
     "execution_count": 643,
     "metadata": {},
     "output_type": "execute_result"
    }
   ],
   "source": [
    "torch.manual_seed(0)\n",
    "\n",
    "m = Linear(4, 3)\n",
    "m.forward(inputs)"
   ],
   "metadata": {
    "collapsed": false
   }
  },
  {
   "cell_type": "code",
   "execution_count": 644,
   "outputs": [
    {
     "data": {
      "text/plain": "tensor([[ -5.0178,   0.5240,  -3.9319],\n        [  4.0738,  -6.7887,  -3.5657],\n        [-11.6052,  -0.3882,  -3.1959]], grad_fn=<AddmmBackward0>)"
     },
     "execution_count": 644,
     "metadata": {},
     "output_type": "execute_result"
    }
   ],
   "source": [
    "# проверка\n",
    "nn_m = nn.Linear(4, 3)\n",
    "nn_m.weight = nn.Parameter(m.weights)\n",
    "nn_m.bias = nn.Parameter(m.biases)\n",
    "nn_m.forward(inputs)"
   ],
   "metadata": {
    "collapsed": false
   }
  },
  {
   "cell_type": "markdown",
   "metadata": {
    "id": "IPG4UqL4wajI"
   },
   "source": [
    "1.5 Используя решение из __1.4__, создать 2 полносвязных слоя и пропустить матрицу `inputs` последовательно через эти два слоя. Количество нейронов в первом слое выбрать произвольно, количество нейронов во втором слое выбрать так, чтобы результатом прогона являлась матрица (3x7)."
   ]
  },
  {
   "cell_type": "code",
   "execution_count": 645,
   "outputs": [],
   "source": [
    "class NeuralNet:\n",
    "\n",
    "    def __init__(self):\n",
    "        self.input = Linear(4, 10)\n",
    "        self.output = Linear(10, 7)\n",
    "\n",
    "    def forward(self, inputs: torch.Tensor) -> torch.Tensor:\n",
    "        return self.output.forward(self.input.forward(inputs))"
   ],
   "metadata": {
    "collapsed": false
   }
  },
  {
   "cell_type": "code",
   "execution_count": 646,
   "outputs": [],
   "source": [
    "inputs = torch.tensor([[1, 2, 3, 2.5],\n",
    "                       [2, 5, -1, 2],\n",
    "                       [-1.5, 2.7, 3.3, -0.8]])"
   ],
   "metadata": {
    "collapsed": false
   }
  },
  {
   "cell_type": "code",
   "execution_count": 647,
   "outputs": [
    {
     "data": {
      "text/plain": "tensor([[ 10.7402,   5.0857,  -1.4572, -15.8939, -12.8903,   1.4945,   8.3048],\n        [ 16.8392,   7.5460,  -9.4385,  17.2115, -15.5890, -11.7024,  22.9214],\n        [  4.0594,  15.9168,   6.6248,   3.1291,  -5.7448,  -8.4944,  -6.8320]],\n       grad_fn=<AddBackward0>)"
     },
     "execution_count": 647,
     "metadata": {},
     "output_type": "execute_result"
    }
   ],
   "source": [
    "torch.manual_seed(0)\n",
    "\n",
    "m = NeuralNet()\n",
    "m.forward(inputs)"
   ],
   "metadata": {
    "collapsed": false
   }
  },
  {
   "cell_type": "markdown",
   "metadata": {
    "id": "cRVH_2K7xTBC"
   },
   "source": [
    "## 2. Создание функций активации"
   ]
  },
  {
   "cell_type": "code",
   "execution_count": 648,
   "outputs": [],
   "source": [
    "def randn(*size: int, seed: int = 0) -> torch.Tensor:\n",
    "    torch.manual_seed(seed)\n",
    "    return torch.randn(*size)"
   ],
   "metadata": {
    "collapsed": false
   }
  },
  {
   "cell_type": "markdown",
   "metadata": {
    "id": "B9kngE6Fxs9D"
   },
   "source": [
    "2.1 Используя операции над матрицами и векторами из библиотеки `torch`, реализовать функцию активации ReLU:\n",
    "\n",
    "![](https://wikimedia.org/api/rest_v1/media/math/render/svg/f4353f4e3e484130504049599d2e7b040793e1eb)\n",
    "\n",
    "Создать матрицу размера (4,3), заполненную числами из стандартного нормального распределения, и проверить работоспособность функции активации."
   ]
  },
  {
   "cell_type": "code",
   "execution_count": 649,
   "metadata": {
    "id": "jZLvMRByxSTC"
   },
   "outputs": [],
   "source": [
    "class ReLU:\n",
    "\n",
    "    def forward(self, inputs: torch.Tensor) -> torch.Tensor:\n",
    "        return torch.maximum(inputs, torch.tensor(0))"
   ]
  },
  {
   "cell_type": "code",
   "execution_count": 650,
   "outputs": [
    {
     "data": {
      "text/plain": "tensor([[ 1.5410, -0.2934, -2.1788],\n        [ 0.5684, -1.0845, -1.3986],\n        [ 0.4033,  0.8380, -0.7193],\n        [-0.4033, -0.5966,  0.1820]])"
     },
     "execution_count": 650,
     "metadata": {},
     "output_type": "execute_result"
    }
   ],
   "source": [
    "inputs = randn(4, 3)\n",
    "inputs"
   ],
   "metadata": {
    "collapsed": false
   }
  },
  {
   "cell_type": "code",
   "execution_count": 651,
   "outputs": [
    {
     "name": "stdout",
     "output_type": "stream",
     "text": [
      "ReLU:\n",
      "tensor([[1.5410, 0.0000, 0.0000],\n",
      "        [0.5684, 0.0000, 0.0000],\n",
      "        [0.4033, 0.8380, 0.0000],\n",
      "        [0.0000, 0.0000, 0.1820]])\n",
      "\n",
      "nn.ReLU:\n",
      "tensor([[1.5410, 0.0000, 0.0000],\n",
      "        [0.5684, 0.0000, 0.0000],\n",
      "        [0.4033, 0.8380, 0.0000],\n",
      "        [0.0000, 0.0000, 0.1820]])\n"
     ]
    }
   ],
   "source": [
    "relu = ReLU()\n",
    "nn_relu = nn.ReLU()\n",
    "print(f'ReLU:\\n{relu.forward(inputs)}')\n",
    "print(f'\\nnn.ReLU:\\n{nn_relu.forward(inputs)}')"
   ],
   "metadata": {
    "collapsed": false
   }
  },
  {
   "cell_type": "markdown",
   "metadata": {
    "id": "puExCWiKyTtb"
   },
   "source": [
    "2.2 Используя операции над матрицами и векторами из библиотеки `torch`, реализовать функцию активации softmax:\n",
    "\n",
    "![](https://wikimedia.org/api/rest_v1/media/math/render/svg/6d7500d980c313da83e4117da701bf7c8f1982f5)\n",
    "\n",
    "Создать матрицу размера (4,3), заполненную числами из стандартного нормального распределения, и проверить работоспособность функции активации. Строки матрицы трактовать как выходы линейного слоя некоторого классификатора для 4 различных примеров."
   ]
  },
  {
   "cell_type": "code",
   "execution_count": 652,
   "metadata": {
    "id": "fXNcFlqqyKHl"
   },
   "outputs": [],
   "source": [
    "class Softmax:\n",
    "\n",
    "    def __init__(self, dim: int = 0):\n",
    "        assert dim == 0 or dim == 1\n",
    "        self.dim = dim\n",
    "\n",
    "    def forward(self, inputs: torch.Tensor) -> torch.Tensor:\n",
    "        exp = torch.exp(inputs)\n",
    "        return exp / torch.sum(exp, dim=self.dim).unsqueeze(self.dim)"
   ]
  },
  {
   "cell_type": "code",
   "execution_count": 653,
   "outputs": [
    {
     "data": {
      "text/plain": "tensor([[ 1.5410, -0.2934, -2.1788],\n        [ 0.5684, -1.0845, -1.3986],\n        [ 0.4033,  0.8380, -0.7193],\n        [-0.4033, -0.5966,  0.1820]])"
     },
     "execution_count": 653,
     "metadata": {},
     "output_type": "execute_result"
    }
   ],
   "source": [
    "inputs = randn(4, 3)\n",
    "inputs"
   ],
   "metadata": {
    "collapsed": false
   }
  },
  {
   "cell_type": "code",
   "execution_count": 654,
   "outputs": [
    {
     "name": "stdout",
     "output_type": "stream",
     "text": [
      "Softmax:\n",
      "tensor([[0.8446, 0.1349, 0.0205],\n",
      "        [0.7511, 0.1438, 0.1051],\n",
      "        [0.3484, 0.5382, 0.1134],\n",
      "        [0.2762, 0.2277, 0.4961]])\n",
      "\n",
      "nn.Softmax:\n",
      "tensor([[0.8446, 0.1349, 0.0205],\n",
      "        [0.7511, 0.1438, 0.1051],\n",
      "        [0.3484, 0.5382, 0.1134],\n",
      "        [0.2762, 0.2277, 0.4961]])\n"
     ]
    }
   ],
   "source": [
    "softmax = Softmax(dim=1)\n",
    "nn_softmax = nn.Softmax(dim=1)\n",
    "print(f'Softmax:\\n{softmax.forward(inputs)}')\n",
    "print(f'\\nnn.Softmax:\\n{nn_softmax.forward(inputs)}')"
   ],
   "metadata": {
    "collapsed": false
   }
  },
  {
   "cell_type": "markdown",
   "metadata": {
    "id": "vxVK2TYez_Ye"
   },
   "source": [
    "2.3 Используя операции над матрицами и векторами из библиотеки `torch`, реализовать функцию активации ELU:\n",
    "\n",
    "![](https://wikimedia.org/api/rest_v1/media/math/render/svg/eb23becd37c3602c4838e53f532163279192e4fd)\n",
    "\n",
    "Создать матрицу размера (4,3), заполненную числами из стандартного нормального распределения, и проверить работоспособность функции активации."
   ]
  },
  {
   "cell_type": "code",
   "execution_count": 655,
   "metadata": {
    "id": "NzMz7HDLySxK"
   },
   "outputs": [],
   "source": [
    "class ELU:\n",
    "\n",
    "    def __init__(self, alpha: float = 1):\n",
    "        self.alpha = alpha\n",
    "\n",
    "    def forward(self, inputs: torch.Tensor) -> torch.Tensor:\n",
    "        return torch.where(inputs > 0, inputs, self.alpha * (torch.exp(inputs) - 1))"
   ]
  },
  {
   "cell_type": "code",
   "execution_count": 656,
   "outputs": [
    {
     "data": {
      "text/plain": "tensor([[ 1.5410, -0.2934, -2.1788],\n        [ 0.5684, -1.0845, -1.3986],\n        [ 0.4033,  0.8380, -0.7193],\n        [-0.4033, -0.5966,  0.1820]])"
     },
     "execution_count": 656,
     "metadata": {},
     "output_type": "execute_result"
    }
   ],
   "source": [
    "inputs = randn(4, 3)\n",
    "inputs"
   ],
   "metadata": {
    "collapsed": false
   }
  },
  {
   "cell_type": "code",
   "execution_count": 657,
   "outputs": [
    {
     "name": "stdout",
     "output_type": "stream",
     "text": [
      "ELU:\n",
      "tensor([[ 1.5410, -0.3583, -1.2495],\n",
      "        [ 0.5684, -0.9327, -1.0611],\n",
      "        [ 0.4033,  0.8380, -0.7227],\n",
      "        [-0.4677, -0.6331,  0.1820]])\n",
      "\n",
      "nn.ELU:\n",
      "tensor([[ 1.5410, -0.3583, -1.2495],\n",
      "        [ 0.5684, -0.9327, -1.0611],\n",
      "        [ 0.4033,  0.8380, -0.7227],\n",
      "        [-0.4677, -0.6331,  0.1820]])\n"
     ]
    }
   ],
   "source": [
    "elu = ELU(alpha=1.409)\n",
    "nn_elu = nn.ELU(alpha=1.409)\n",
    "print(f'ELU:\\n{elu.forward(inputs)}')\n",
    "print(f'\\nnn.ELU:\\n{nn_elu.forward(inputs)}')"
   ],
   "metadata": {
    "collapsed": false
   }
  },
  {
   "cell_type": "markdown",
   "metadata": {
    "id": "0peh8r-20Pof"
   },
   "source": [
    "## 3. Создание функции потерь"
   ]
  },
  {
   "cell_type": "markdown",
   "metadata": {
    "id": "EY-k3eEs0f7f"
   },
   "source": [
    "3.1 Используя операции над матрицами и векторами из библиотеки `torch`, реализовать функцию потерь MSE:\n",
    "\n",
    "![](https://wikimedia.org/api/rest_v1/media/math/render/svg/e258221518869aa1c6561bb75b99476c4734108e)\n",
    "\n",
    "Создать полносвязный слой с 1 нейроном, прогнать через него батч `inputs` и посчитать значение MSE, трактуя вектор `y` как вектор правильных ответов."
   ]
  },
  {
   "cell_type": "code",
   "execution_count": 658,
   "metadata": {
    "id": "f9-wdj5Tz-br"
   },
   "outputs": [],
   "source": [
    "class MSELoss:\n",
    "\n",
    "    def forward(self, y_pred: torch.Tensor, y_true: torch.Tensor) -> torch.Tensor:\n",
    "        return torch.mean((y_true - y_pred) ** 2)"
   ]
  },
  {
   "cell_type": "code",
   "execution_count": 659,
   "metadata": {
    "id": "NAyuDU9F1Vuz"
   },
   "outputs": [],
   "source": [
    "inputs = torch.tensor([[1, 2, 3, 2.5],\n",
    "                       [2, 5, -1, 2],\n",
    "                       [-1.5, 2.7, 3.3, -0.8]])\n",
    "\n",
    "y = torch.tensor([2, 3, 4]).unsqueeze(1)"
   ]
  },
  {
   "cell_type": "code",
   "execution_count": 660,
   "outputs": [],
   "source": [
    "torch.manual_seed(0)\n",
    "\n",
    "layer = Linear(4, 1)\n",
    "y_pred = layer.forward(inputs)"
   ],
   "metadata": {
    "collapsed": false
   }
  },
  {
   "cell_type": "code",
   "execution_count": 661,
   "outputs": [
    {
     "name": "stdout",
     "output_type": "stream",
     "text": [
      "MSELoss:\n",
      "101.30004119873047\n",
      "\n",
      "nn.MSELoss:\n",
      "101.30004119873047\n"
     ]
    }
   ],
   "source": [
    "mse = MSELoss()\n",
    "nn_mse = nn.MSELoss()\n",
    "print(f'MSELoss:\\n{mse.forward(y_pred, y)}')\n",
    "print(f'\\nnn.MSELoss:\\n{nn_mse.forward(y_pred, y)}')"
   ],
   "metadata": {
    "collapsed": false
   }
  },
  {
   "cell_type": "markdown",
   "metadata": {
    "id": "uaR7rILd1eWR"
   },
   "source": [
    "3.2 Используя операции над матрицами и векторами из библиотеки `torch`, реализовать функцию потерь Categorical Cross-Entropy:\n",
    "\n",
    "<img src=\"https://i.ibb.co/93gy1dN/Screenshot-9.png\" width=\"200\">\n",
    "\n",
    "Создать полносвязный слой с 3 нейронами и прогнать через него батч `inputs`. Полученный результат пропустить через функцию активации softmax. Посчитать значение CCE, трактуя вектор `y` как вектор правильных ответов."
   ]
  },
  {
   "cell_type": "code",
   "execution_count": 662,
   "metadata": {
    "id": "hQl8pJsT3HcF"
   },
   "outputs": [],
   "source": [
    "class CategoricalCrossEntropyLoss:\n",
    "\n",
    "    def forward(self, y_pred: torch.Tensor, y_true: torch.Tensor) -> torch.Tensor:\n",
    "        return torch.mean(-torch.sum(y_true * torch.log(y_pred), dim=1))"
   ]
  },
  {
   "cell_type": "code",
   "execution_count": 663,
   "metadata": {
    "id": "s7Qoupfo1ZGJ"
   },
   "outputs": [],
   "source": [
    "inputs = torch.tensor([[1, 2, 3, 2.5],\n",
    "                       [2, 5, -1, 2],\n",
    "                       [-1.5, 2.7, 3.3, -0.8]])\n",
    "\n",
    "y = torch.tensor([1, 0, 0])"
   ]
  },
  {
   "cell_type": "code",
   "execution_count": 664,
   "outputs": [],
   "source": [
    "torch.manual_seed(0)\n",
    "\n",
    "layer = Linear(4, 3)\n",
    "softmax = Softmax()\n",
    "y_pred = softmax.forward(layer.forward(inputs))"
   ],
   "metadata": {
    "collapsed": false
   }
  },
  {
   "cell_type": "code",
   "execution_count": 665,
   "outputs": [
    {
     "data": {
      "text/plain": "tensor(8.2570, grad_fn=<MeanBackward0>)"
     },
     "execution_count": 665,
     "metadata": {},
     "output_type": "execute_result"
    }
   ],
   "source": [
    "cce = CategoricalCrossEntropyLoss()\n",
    "cce.forward(y_pred, y)"
   ],
   "metadata": {
    "collapsed": false
   }
  },
  {
   "cell_type": "markdown",
   "source": [
    "3.3 Модифицировать 2.3.1, добавив L2-регуляризацию.\n",
    "\n",
    "![](https://wikimedia.org/api/rest_v1/media/math/render/svg/d92ca2429275bfdc0474523babbafe014ca8b580)\n"
   ],
   "metadata": {
    "collapsed": false
   }
  },
  {
   "cell_type": "code",
   "execution_count": 666,
   "outputs": [],
   "source": [
    "class MSELossL2:\n",
    "\n",
    "    def __init__(self, lambda_: float, weights: torch.Tensor):\n",
    "        self.lambda_ = lambda_\n",
    "        self.weights = weights\n",
    "\n",
    "    def data_loss(self, y_pred: torch.Tensor, y_true: torch.Tensor) -> torch.Tensor:\n",
    "        return torch.sum((y_true - y_pred) ** 2)\n",
    "\n",
    "    def reg_loss(self) -> torch.Tensor:\n",
    "        return self.lambda_ * torch.sum(self.weights ** 2)\n",
    "\n",
    "    def forward(self, y_pred: torch.Tensor, y_true: torch.Tensor) -> torch.Tensor:\n",
    "        return self.data_loss(y_pred, y_true) + self.reg_loss()"
   ],
   "metadata": {
    "collapsed": false
   }
  },
  {
   "cell_type": "code",
   "execution_count": 667,
   "outputs": [],
   "source": [
    "inputs = torch.tensor([[1, 2, 3, 2.5],\n",
    "                       [2, 5, -1, 2],\n",
    "                       [-1.5, 2.7, 3.3, -0.8]])\n",
    "\n",
    "y = torch.tensor([2, 3, 4]).unsqueeze(1)"
   ],
   "metadata": {
    "collapsed": false
   }
  },
  {
   "cell_type": "code",
   "execution_count": 668,
   "outputs": [],
   "source": [
    "torch.manual_seed(0)\n",
    "\n",
    "layer = Linear(4, 1)\n",
    "y_pred = layer.forward(inputs)"
   ],
   "metadata": {
    "collapsed": false
   }
  },
  {
   "cell_type": "code",
   "execution_count": 669,
   "outputs": [
    {
     "data": {
      "text/plain": "tensor(314.5113, grad_fn=<AddBackward0>)"
     },
     "execution_count": 669,
     "metadata": {},
     "output_type": "execute_result"
    }
   ],
   "source": [
    "mse_l2 = MSELossL2(lambda_=1.409, weights=layer.weights)\n",
    "mse_l2.forward(y_pred, y)"
   ],
   "metadata": {
    "collapsed": false
   }
  },
  {
   "cell_type": "markdown",
   "source": [
    "## 4. Обратное распространение ошибки"
   ],
   "metadata": {
    "collapsed": false
   }
  },
  {
   "cell_type": "code",
   "execution_count": 670,
   "outputs": [],
   "source": [
    "EmptyTensor = torch.Tensor | None\n",
    "\n",
    "\n",
    "@dataclass\n",
    "class Gradient:\n",
    "    dx: EmptyTensor = None\n",
    "    dw: EmptyTensor = None\n",
    "    db: EmptyTensor = None\n",
    "\n",
    "\n",
    "def pretty_train_log(epoch: int, **kwargs) -> None:\n",
    "    params = '\\n\\t'.join([f'{k} = {v}' for k, v in kwargs.items()])\n",
    "    print(f'epoch {epoch:03} |' + '-' * 50 + f'\\n\\t{params}\\n')"
   ],
   "metadata": {
    "collapsed": false
   }
  },
  {
   "cell_type": "markdown",
   "source": [
    "4.1 Используя один нейрон и SGD (1 пример за шаг), решите задачу регрессии"
   ],
   "metadata": {
    "collapsed": false
   }
  },
  {
   "cell_type": "code",
   "execution_count": 671,
   "outputs": [],
   "source": [
    "from sklearn.datasets import make_regression\n",
    "\n",
    "X, y, coef = make_regression(n_features=4, n_informative=4, coef=True, bias=0.5, random_state=0)\n",
    "# X.dtype == float64 - нет смысла использовать torch.from_numpy\n",
    "# т.к. последующее приведение типов Tensor.type(torch.float32) приведет к копированию данных\n",
    "X = torch.tensor(X, dtype=torch.float32)\n",
    "y = torch.tensor(y, dtype=torch.float32)"
   ],
   "metadata": {
    "collapsed": false
   }
  },
  {
   "cell_type": "markdown",
   "source": [
    "[Граф вычислений для этой задачи](https://i.ibb.co/2dhDxZx/photo-2021-02-15-17-18-04.jpg)"
   ],
   "metadata": {
    "collapsed": false
   }
  },
  {
   "cell_type": "markdown",
   "source": [
    "4.1.1 Модифицируйте класс `MSELoss` из __2.3.1__, реализовав расчет производной относительно предыдущего слоя\n"
   ],
   "metadata": {
    "collapsed": false
   }
  },
  {
   "cell_type": "code",
   "execution_count": 672,
   "outputs": [],
   "source": [
    "class MSELoss:\n",
    "    \"\"\"MSE без mean\"\"\"\n",
    "\n",
    "    def __init__(self, grad: Gradient):\n",
    "        self.grad = grad\n",
    "\n",
    "    def forward(self, y_pred: torch.Tensor, y_true: torch.Tensor) -> torch.Tensor:\n",
    "        return (y_pred - y_true) ** 2\n",
    "\n",
    "    def backward(self, y_pred: torch.Tensor, y_true: torch.Tensor) -> None:\n",
    "        self.grad.dx = 2 * (y_pred - y_true)"
   ],
   "metadata": {
    "collapsed": false
   }
  },
  {
   "cell_type": "markdown",
   "source": [
    "4.1.2. Модифицируйте класс `Neuron` из __2.1.1__:\n",
    "\n",
    "  1) Сделайте так, чтобы веса нейрона инициализировались из стандартного нормального распределения\n",
    "\n",
    "  2) Реализуйте расчет градиента относительно весов `weights` и `bias`"
   ],
   "metadata": {
    "collapsed": false
   }
  },
  {
   "cell_type": "code",
   "execution_count": 673,
   "metadata": {
    "id": "L0KqxPJU9kAN"
   },
   "outputs": [],
   "source": [
    "class Neuron:\n",
    "\n",
    "    def __init__(self, in_features: int, grad: Gradient):\n",
    "        self.in_features = in_features\n",
    "        self.grad = grad\n",
    "\n",
    "        self.weights = torch.randn(self.in_features)\n",
    "        self.bias = torch.randn(1)\n",
    "\n",
    "        self._inputs: EmptyTensor = None\n",
    "\n",
    "    def forward(self, inputs: torch.Tensor) -> torch.Tensor:\n",
    "        self._inputs = inputs\n",
    "        return torch.sum(inputs * self.weights) + self.bias\n",
    "\n",
    "    def backward(self) -> None:\n",
    "        dx = self.grad.dx\n",
    "        self.grad.dx = dx * self.weights\n",
    "        self.grad.dw = dx * self._inputs\n",
    "        self.grad.db = dx"
   ]
  },
  {
   "cell_type": "markdown",
   "metadata": {
    "id": "rKcO4zOLACxM"
   },
   "source": [
    "4.1.3 Допишите цикл для настройки весов нейрона\n",
    "\n",
    "[SGD](https://ru.wikipedia.org/wiki/%D0%A1%D1%82%D0%BE%D1%85%D0%B0%D1%81%D1%82%D0%B8%D1%87%D0%B5%D1%81%D0%BA%D0%B8%D0%B9_%D0%B3%D1%80%D0%B0%D0%B4%D0%B8%D0%B5%D0%BD%D1%82%D0%BD%D1%8B%D0%B9_%D1%81%D0%BF%D1%83%D1%81%D0%BA)\n",
    "\n",
    "![](https://wikimedia.org/api/rest_v1/media/math/render/svg/dda3670f8a8996a0d3bf80856bb4a166cc8db6d4)"
   ]
  },
  {
   "cell_type": "code",
   "execution_count": 674,
   "metadata": {
    "id": "_g_FvwvmALJd"
   },
   "outputs": [
    {
     "name": "stdout",
     "output_type": "stream",
     "text": [
      "epoch 000 |--------------------------------------------------\n",
      "\ti = 0\n",
      "\tweights = tensor([ 5.8937,  3.4480,  8.5208, -6.0718])\n",
      "\tdw = tensor([ -43.5271,  -37.4140, -106.9956,   66.4020])\n",
      "\tbias = tensor([-9.6251])\n",
      "\tdb = tensor([85.4055])\n",
      "\tloss = tensor([1823.5259])\n",
      "\n",
      "epoch 000 |--------------------------------------------------\n",
      "\ti = 40\n",
      "\tweights = tensor([19.9110, 34.3280, 68.1895, 86.5312])\n",
      "\tdw = tensor([-1.9165, -0.0103, -2.5570, -0.9328])\n",
      "\tbias = tensor([0.1583])\n",
      "\tdb = tensor([-2.7440])\n",
      "\tloss = tensor([1.8823])\n",
      "\n",
      "epoch 000 |--------------------------------------------------\n",
      "\ti = 80\n",
      "\tweights = tensor([20.4941, 34.1600, 67.6148, 87.9335])\n",
      "\tdw = tensor([0.0002, 0.0010, 0.0002, 0.0004])\n",
      "\tbias = tensor([0.4963])\n",
      "\tdb = tensor([-0.0036])\n",
      "\tloss = tensor([3.2833e-06])\n",
      "\n",
      "epoch 040 |--------------------------------------------------\n",
      "\ti = 0\n",
      "\tweights = tensor([20.4924, 34.1698, 67.6243, 87.9235])\n",
      "\tdw = tensor([-2.3330e-05, -2.0053e-05, -5.7348e-05,  3.5591e-05])\n",
      "\tbias = tensor([0.5000])\n",
      "\tdb = tensor([4.5776e-05])\n",
      "\tloss = tensor([5.2387e-10])\n",
      "\n",
      "epoch 040 |--------------------------------------------------\n",
      "\ti = 40\n",
      "\tweights = tensor([20.4924, 34.1698, 67.6242, 87.9235])\n",
      "\tdw = tensor([-1.0658e-05, -5.7539e-08, -1.4219e-05, -5.1875e-06])\n",
      "\tbias = tensor([0.5000])\n",
      "\tdb = tensor([-1.5259e-05])\n",
      "\tloss = tensor([5.8208e-11])\n",
      "\n",
      "epoch 040 |--------------------------------------------------\n",
      "\ti = 80\n",
      "\tweights = tensor([20.4924, 34.1698, 67.6242, 87.9235])\n",
      "\tdw = tensor([-1.6087e-07, -1.0944e-06, -2.3509e-07, -4.0934e-07])\n",
      "\tbias = tensor([0.5000])\n",
      "\tdb = tensor([3.8147e-06])\n",
      "\tloss = tensor([3.6380e-12])\n",
      "\n",
      "epoch 080 |--------------------------------------------------\n",
      "\ti = 0\n",
      "\tweights = tensor([20.4924, 34.1698, 67.6243, 87.9235])\n",
      "\tdw = tensor([-2.3330e-05, -2.0053e-05, -5.7348e-05,  3.5591e-05])\n",
      "\tbias = tensor([0.5000])\n",
      "\tdb = tensor([4.5776e-05])\n",
      "\tloss = tensor([5.2387e-10])\n",
      "\n",
      "epoch 080 |--------------------------------------------------\n",
      "\ti = 40\n",
      "\tweights = tensor([20.4924, 34.1698, 67.6242, 87.9235])\n",
      "\tdw = tensor([-1.0658e-05, -5.7539e-08, -1.4219e-05, -5.1875e-06])\n",
      "\tbias = tensor([0.5000])\n",
      "\tdb = tensor([-1.5259e-05])\n",
      "\tloss = tensor([5.8208e-11])\n",
      "\n",
      "epoch 080 |--------------------------------------------------\n",
      "\ti = 80\n",
      "\tweights = tensor([20.4924, 34.1698, 67.6242, 87.9235])\n",
      "\tdw = tensor([-1.6087e-07, -1.0944e-06, -2.3509e-07, -4.0934e-07])\n",
      "\tbias = tensor([0.5000])\n",
      "\tdb = tensor([3.8147e-06])\n",
      "\tloss = tensor([3.6380e-12])\n",
      "\n"
     ]
    },
    {
     "data": {
      "text/plain": "(tensor([20.4924, 34.1698, 67.6242, 87.9235]),\n array([20.4923687 , 34.16981149, 67.62424823, 87.9234763 ]))"
     },
     "execution_count": 674,
     "metadata": {},
     "output_type": "execute_result"
    }
   ],
   "source": [
    "torch.manual_seed(0)\n",
    "\n",
    "y_true = y.unsqueeze(1)\n",
    "\n",
    "grad = Gradient()\n",
    "neuron = Neuron(X.size(1), grad=grad)\n",
    "mse = MSELoss(grad=grad)\n",
    "\n",
    "lr = 0.1\n",
    "epochs = 100\n",
    "for epoch in range(epochs + 1):\n",
    "    for i, (x_, y_) in enumerate(zip(X, y_true)):\n",
    "        # feed forward\n",
    "        y_pred = neuron.forward(x_)\n",
    "        loss = mse.forward(y_pred, y_)\n",
    "\n",
    "        # backward\n",
    "        mse.backward(y_pred, y_)\n",
    "        neuron.backward()\n",
    "\n",
    "        # optimize step\n",
    "        neuron.weights -= lr * grad.dw\n",
    "        neuron.bias -= lr * grad.db\n",
    "\n",
    "        if epoch % 40 == 0 and i % 40 == 0:\n",
    "            pretty_train_log(\n",
    "                epoch,\n",
    "                i=i,\n",
    "                weights=neuron.weights,\n",
    "                dw=grad.dw,\n",
    "                bias=neuron.bias,\n",
    "                db=grad.db,\n",
    "                loss=loss,\n",
    "            )\n",
    "\n",
    "neuron.weights, coef"
   ]
  },
  {
   "cell_type": "markdown",
   "source": [
    "**Проверка**\n",
    "\n",
    "Сделаем то же самое, но пусть производную посчитает pytorch (честно, будто не знаем производную сложной функции)"
   ],
   "metadata": {
    "collapsed": false
   }
  },
  {
   "cell_type": "code",
   "execution_count": 675,
   "outputs": [],
   "source": [
    "class MSELoss:\n",
    "\n",
    "    def __init__(self):\n",
    "        self._last_forward: EmptyTensor = None\n",
    "\n",
    "    def forward(self, y_pred: torch.Tensor, y_true: torch.Tensor) -> torch.Tensor:\n",
    "        self._last_forward = (y_pred - y_true) ** 2\n",
    "        return self._last_forward\n",
    "\n",
    "    def backward(self) -> None:\n",
    "        self._last_forward.backward()\n",
    "\n",
    "\n",
    "class Neuron:\n",
    "\n",
    "    def __init__(self, in_features: int):\n",
    "        self.in_features = in_features\n",
    "        self.weights = torch.randn(self.in_features, requires_grad=True)\n",
    "        self.bias = torch.randn(1, requires_grad=True)\n",
    "\n",
    "    def forward(self, inputs: torch.Tensor) -> torch.Tensor:\n",
    "        return torch.sum(inputs * self.weights) + self.bias\n",
    "\n",
    "    def backward(self) -> tuple[torch.Tensor, torch.Tensor]:\n",
    "        dw = self.weights.grad.clone().detach()\n",
    "        db = self.bias.grad.clone().detach()\n",
    "        self.weights.grad.zero_()\n",
    "        self.bias.grad.zero_()\n",
    "        return dw, db\n",
    "\n",
    "    def update_weights(self, lr: float, dw: torch.Tensor, db: torch.Tensor) -> None:\n",
    "        with torch.no_grad():\n",
    "            self.weights -= lr * dw\n",
    "            self.bias -= lr * db"
   ],
   "metadata": {
    "collapsed": false
   }
  },
  {
   "cell_type": "code",
   "execution_count": 676,
   "outputs": [
    {
     "name": "stdout",
     "output_type": "stream",
     "text": [
      "epoch 000 |--------------------------------------------------\n",
      "\ti = 0\n",
      "\tweights = tensor([ 5.8937,  3.4480,  8.5208, -6.0718], requires_grad=True)\n",
      "\tdw = tensor([ -43.5271,  -37.4140, -106.9956,   66.4020])\n",
      "\tbias = tensor([-9.6251], requires_grad=True)\n",
      "\tdb = tensor([85.4055])\n",
      "\tloss = tensor([1823.5259], grad_fn=<PowBackward0>)\n",
      "\n",
      "epoch 000 |--------------------------------------------------\n",
      "\ti = 40\n",
      "\tweights = tensor([19.9110, 34.3280, 68.1895, 86.5312], requires_grad=True)\n",
      "\tdw = tensor([-1.9165, -0.0103, -2.5570, -0.9328])\n",
      "\tbias = tensor([0.1583], requires_grad=True)\n",
      "\tdb = tensor([-2.7440])\n",
      "\tloss = tensor([1.8823], grad_fn=<PowBackward0>)\n",
      "\n",
      "epoch 000 |--------------------------------------------------\n",
      "\ti = 80\n",
      "\tweights = tensor([20.4941, 34.1600, 67.6148, 87.9335], requires_grad=True)\n",
      "\tdw = tensor([0.0002, 0.0010, 0.0002, 0.0004])\n",
      "\tbias = tensor([0.4963], requires_grad=True)\n",
      "\tdb = tensor([-0.0036])\n",
      "\tloss = tensor([3.2833e-06], grad_fn=<PowBackward0>)\n",
      "\n",
      "epoch 040 |--------------------------------------------------\n",
      "\ti = 0\n",
      "\tweights = tensor([20.4924, 34.1698, 67.6243, 87.9235], requires_grad=True)\n",
      "\tdw = tensor([-2.3330e-05, -2.0053e-05, -5.7348e-05,  3.5591e-05])\n",
      "\tbias = tensor([0.5000], requires_grad=True)\n",
      "\tdb = tensor([4.5776e-05])\n",
      "\tloss = tensor([5.2387e-10], grad_fn=<PowBackward0>)\n",
      "\n",
      "epoch 040 |--------------------------------------------------\n",
      "\ti = 40\n",
      "\tweights = tensor([20.4924, 34.1698, 67.6242, 87.9235], requires_grad=True)\n",
      "\tdw = tensor([-1.0658e-05, -5.7539e-08, -1.4219e-05, -5.1875e-06])\n",
      "\tbias = tensor([0.5000], requires_grad=True)\n",
      "\tdb = tensor([-1.5259e-05])\n",
      "\tloss = tensor([5.8208e-11], grad_fn=<PowBackward0>)\n",
      "\n",
      "epoch 040 |--------------------------------------------------\n",
      "\ti = 80\n",
      "\tweights = tensor([20.4924, 34.1698, 67.6242, 87.9235], requires_grad=True)\n",
      "\tdw = tensor([-1.6087e-07, -1.0944e-06, -2.3509e-07, -4.0934e-07])\n",
      "\tbias = tensor([0.5000], requires_grad=True)\n",
      "\tdb = tensor([3.8147e-06])\n",
      "\tloss = tensor([3.6380e-12], grad_fn=<PowBackward0>)\n",
      "\n",
      "epoch 080 |--------------------------------------------------\n",
      "\ti = 0\n",
      "\tweights = tensor([20.4924, 34.1698, 67.6243, 87.9235], requires_grad=True)\n",
      "\tdw = tensor([-2.3330e-05, -2.0053e-05, -5.7348e-05,  3.5591e-05])\n",
      "\tbias = tensor([0.5000], requires_grad=True)\n",
      "\tdb = tensor([4.5776e-05])\n",
      "\tloss = tensor([5.2387e-10], grad_fn=<PowBackward0>)\n",
      "\n",
      "epoch 080 |--------------------------------------------------\n",
      "\ti = 40\n",
      "\tweights = tensor([20.4924, 34.1698, 67.6242, 87.9235], requires_grad=True)\n",
      "\tdw = tensor([-1.0658e-05, -5.7539e-08, -1.4219e-05, -5.1875e-06])\n",
      "\tbias = tensor([0.5000], requires_grad=True)\n",
      "\tdb = tensor([-1.5259e-05])\n",
      "\tloss = tensor([5.8208e-11], grad_fn=<PowBackward0>)\n",
      "\n",
      "epoch 080 |--------------------------------------------------\n",
      "\ti = 80\n",
      "\tweights = tensor([20.4924, 34.1698, 67.6242, 87.9235], requires_grad=True)\n",
      "\tdw = tensor([-1.6087e-07, -1.0944e-06, -2.3509e-07, -4.0934e-07])\n",
      "\tbias = tensor([0.5000], requires_grad=True)\n",
      "\tdb = tensor([3.8147e-06])\n",
      "\tloss = tensor([3.6380e-12], grad_fn=<PowBackward0>)\n",
      "\n"
     ]
    },
    {
     "data": {
      "text/plain": "(tensor([20.4924, 34.1698, 67.6242, 87.9235], requires_grad=True),\n array([20.4923687 , 34.16981149, 67.62424823, 87.9234763 ]))"
     },
     "execution_count": 676,
     "metadata": {},
     "output_type": "execute_result"
    }
   ],
   "source": [
    "torch.manual_seed(0)\n",
    "\n",
    "y_true = y.unsqueeze(1)\n",
    "\n",
    "neuron = Neuron(X.size(1))\n",
    "mse = MSELoss()\n",
    "\n",
    "lr = 0.1\n",
    "epochs = 100\n",
    "for epoch in range(epochs + 1):\n",
    "    for i, (x_example, y_example) in enumerate(zip(X, y_true)):\n",
    "        # feed forward\n",
    "        y_pred = neuron.forward(x_example)\n",
    "        loss = mse.forward(y_pred, y_example)\n",
    "\n",
    "        # backward\n",
    "        mse.backward()\n",
    "        dw, db = neuron.backward()\n",
    "\n",
    "        # optimize step\n",
    "        neuron.update_weights(lr, dw, db)\n",
    "\n",
    "        if epoch % 40 == 0 and i % 40 == 0:\n",
    "            pretty_train_log(epoch, i=i, weights=neuron.weights, dw=dw, bias=neuron.bias, db=db, loss=loss)\n",
    "\n",
    "neuron.weights, coef"
   ],
   "metadata": {
    "collapsed": false
   }
  },
  {
   "cell_type": "markdown",
   "metadata": {
    "id": "ebibge9VEgF7"
   },
   "source": [
    "4.2 Решите задачу 2.4.1, используя пакетный градиентный спуск"
   ]
  },
  {
   "cell_type": "markdown",
   "metadata": {
    "id": "as-QeWSdOELd"
   },
   "source": [
    "Вычисления для этой задачи: \n",
    "[1](https://i.ibb.co/rmtQT6P/photo-2021-02-15-18-00-43.jpg)\n",
    "[2](https://i.ibb.co/NmCFVnQ/photo-2021-02-15-18-01-17.jpg)"
   ]
  },
  {
   "cell_type": "markdown",
   "metadata": {
    "id": "dr9qq4H_J3zt"
   },
   "source": [
    "4.2.1 Модифицируйте класс `MSELoss` из __3.1__, реализовав расчет производной относительно предыдущего слоя с учетом того, что теперь работа ведется с батчами, а не с индивидуальными примерами\n",
    " "
   ]
  },
  {
   "cell_type": "code",
   "execution_count": 677,
   "metadata": {
    "id": "L8wjk9iPMQ4x"
   },
   "outputs": [],
   "source": [
    "class MSELoss:\n",
    "    \"\"\"MSE с большой буквы M\"\"\"\n",
    "\n",
    "    def __init__(self, grad: Gradient):\n",
    "        self.grad = grad\n",
    "\n",
    "    def forward(self, y_pred: torch.Tensor, y_true: torch.Tensor) -> torch.Tensor:\n",
    "        return torch.mean((y_pred - y_true) ** 2)\n",
    "\n",
    "    def backward(self, y_pred: torch.Tensor, y_true: torch.Tensor) -> None:\n",
    "        self.grad.dx = 2 * (y_pred - y_true) / y_pred.size(0)"
   ]
  },
  {
   "cell_type": "markdown",
   "metadata": {
    "id": "E3fSHCEtJjX8"
   },
   "source": [
    "4.2.2. Модифицируйте класс `Neuron` из __4.1.2__:\n",
    "\n",
    "  1) Реализуйте метод `forward` таким образом, чтобы он мог принимать на вход матрицу (батч) с данными. \n",
    "\n",
    "  2) Реализуйте расчет градиента относительно весов `weights` и `bias` с учетом того, что теперь работа ведется с батчами, а не с индивидуальными примерами"
   ]
  },
  {
   "cell_type": "code",
   "execution_count": 678,
   "outputs": [],
   "source": [
    "class Neuron:\n",
    "\n",
    "    def __init__(self, in_features: int, grad: Gradient):\n",
    "        self.in_features = in_features\n",
    "        self.grad = grad\n",
    "\n",
    "        self.weights = torch.randn(1, in_features).T\n",
    "        self.bias = torch.randn(1)\n",
    "\n",
    "        self._inputs: EmptyTensor = None\n",
    "\n",
    "    def forward(self, inputs: torch.Tensor) -> torch.Tensor:\n",
    "        self._inputs = inputs\n",
    "        return torch.matmul(inputs, self.weights) + self.bias\n",
    "\n",
    "    def backward(self) -> None:\n",
    "        dx = self.grad.dx\n",
    "        self.grad.dx = torch.matmul(dx, self.weights.T)\n",
    "        self.grad.dw = torch.matmul(self._inputs.T, dx)\n",
    "        self.grad.db = torch.matmul(torch.ones(dx.size(0)), dx)"
   ],
   "metadata": {
    "collapsed": false
   }
  },
  {
   "cell_type": "markdown",
   "metadata": {
    "id": "zO-NZrgKMBFx"
   },
   "source": [
    "4.2.3 Допишите цикл для настройки весов нейрона"
   ]
  },
  {
   "cell_type": "code",
   "execution_count": 679,
   "outputs": [
    {
     "name": "stdout",
     "output_type": "stream",
     "text": [
      "epoch 000 |--------------------------------------------------\n",
      "\tweights = tensor([[ 8.6293],\n",
      "        [ 9.3343],\n",
      "        [10.9663],\n",
      "        [17.8038]])\n",
      "\tdw = tensor([[ -70.8827],\n",
      "        [ -96.2774],\n",
      "        [-131.4513],\n",
      "        [-172.3539]])\n",
      "\tbias = tensor([-1.3156])\n",
      "\tdb = tensor([2.3111])\n",
      "\tloss = 14444.6875\n",
      "\n",
      "epoch 020 |--------------------------------------------------\n",
      "\tweights = tensor([[21.2786],\n",
      "        [35.1800],\n",
      "        [65.5825],\n",
      "        [86.8190]])\n",
      "\tdw = tensor([[ 1.0790],\n",
      "        [ 1.0197],\n",
      "        [-3.1022],\n",
      "        [-2.3846]])\n",
      "\tbias = tensor([0.2985])\n",
      "\tdb = tensor([-0.2510])\n",
      "\tloss = 6.3272294998168945\n",
      "\n",
      "epoch 040 |--------------------------------------------------\n",
      "\tweights = tensor([[20.5444],\n",
      "        [34.2572],\n",
      "        [67.4866],\n",
      "        [87.8947]])\n",
      "\tdw = tensor([[ 0.0759],\n",
      "        [ 0.1231],\n",
      "        [-0.1946],\n",
      "        [-0.0539]])\n",
      "\tbias = tensor([0.4777])\n",
      "\tdb = tensor([-0.0264])\n",
      "\tloss = 0.024939415976405144\n",
      "\n",
      "epoch 060 |--------------------------------------------------\n",
      "\tweights = tensor([[20.4959],\n",
      "        [34.1759],\n",
      "        [67.6144],\n",
      "        [87.9224]])\n",
      "\tdw = tensor([[ 0.0050],\n",
      "        [ 0.0087],\n",
      "        [-0.0139],\n",
      "        [-0.0019]])\n",
      "\tbias = tensor([0.4979])\n",
      "\tdb = tensor([-0.0028])\n",
      "\tloss = 0.00012233904271852225\n",
      "\n",
      "epoch 080 |--------------------------------------------------\n",
      "\tweights = tensor([[20.4926],\n",
      "        [34.1702],\n",
      "        [67.6235],\n",
      "        [87.9234]])\n",
      "\tdw = tensor([[ 3.4569e-04],\n",
      "        [ 5.9409e-04],\n",
      "        [-9.9507e-04],\n",
      "        [-9.6193e-05]])\n",
      "\tbias = tensor([0.4998])\n",
      "\tdb = tensor([-0.0002])\n",
      "\tloss = 6.166524144646246e-07\n",
      "\n",
      "epoch 100 |--------------------------------------------------\n",
      "\tweights = tensor([[20.4924],\n",
      "        [34.1698],\n",
      "        [67.6242],\n",
      "        [87.9235]])\n",
      "\tdw = tensor([[ 2.7473e-05],\n",
      "        [ 4.2170e-05],\n",
      "        [-6.8408e-05],\n",
      "        [-2.5197e-05]])\n",
      "\tbias = tensor([0.5000])\n",
      "\tdb = tensor([-1.5974e-05])\n",
      "\tloss = 3.274019499954761e-09\n",
      "\n"
     ]
    },
    {
     "data": {
      "text/plain": "(tensor([[20.4924],\n         [34.1698],\n         [67.6242],\n         [87.9235]]),\n array([20.4923687 , 34.16981149, 67.62424823, 87.9234763 ]))"
     },
     "execution_count": 679,
     "metadata": {},
     "output_type": "execute_result"
    }
   ],
   "source": [
    "torch.manual_seed(0)\n",
    "\n",
    "y_true = y.unsqueeze(1)\n",
    "\n",
    "grad = Gradient()\n",
    "neuron = Neuron(X.size(1), grad=grad)\n",
    "mse = MSELoss(grad=grad)\n",
    "\n",
    "lr = 0.1\n",
    "epochs = 100\n",
    "for epoch in range(epochs + 1):\n",
    "    # feed forward\n",
    "    y_pred = neuron.forward(X)\n",
    "    loss = mse.forward(y_pred, y_true)\n",
    "\n",
    "    # backward\n",
    "    mse.backward(y_pred, y_true)\n",
    "    neuron.backward()\n",
    "\n",
    "    # optimize step\n",
    "    neuron.weights -= lr * grad.dw\n",
    "    neuron.bias -= lr * grad.db\n",
    "\n",
    "    if epoch % 20 == 0:\n",
    "        pretty_train_log(epoch, weights=neuron.weights, dw=grad.dw, bias=neuron.bias, db=grad.db, loss=loss)\n",
    "\n",
    "neuron.weights, coef"
   ],
   "metadata": {
    "collapsed": false
   }
  },
  {
   "cell_type": "markdown",
   "metadata": {
    "id": "16VtP159OdMk"
   },
   "source": [
    "4.3 Используя один полносвязный слой и пакетный градиентный спуск, решите задачу регрессии из __2.4.1__"
   ]
  },
  {
   "cell_type": "markdown",
   "metadata": {
    "id": "uj5febreSSZ7"
   },
   "source": [
    "4.3.1 Модифицируйте класс `Linear` из __1.4__. ([вычисление градиентов](https://i.ibb.co/kgVR6m6/photo-2021-02-15-21-30-28.jpg))"
   ]
  },
  {
   "cell_type": "code",
   "execution_count": 680,
   "outputs": [],
   "source": [
    "class Linear:\n",
    "\n",
    "    def __init__(self, in_features: int, out_features: int, grad: Gradient):\n",
    "        self.in_features = in_features\n",
    "        self.out_features = out_features\n",
    "        self.grad = grad\n",
    "\n",
    "        self.weights = torch.randn(out_features, in_features).T\n",
    "        self.biases = torch.randn(out_features)\n",
    "\n",
    "        self._inputs: EmptyTensor = None\n",
    "\n",
    "    def forward(self, inputs: torch.Tensor) -> torch.Tensor:\n",
    "        self._inputs = inputs\n",
    "        return torch.matmul(inputs, self.weights) + self.biases\n",
    "\n",
    "    def backward(self) -> None:\n",
    "        dx = self.grad.dx\n",
    "        self.grad.dx = torch.matmul(dx, self.weights.T)\n",
    "        self.grad.dw = torch.matmul(self._inputs.T, dx)\n",
    "        self.grad.db = torch.matmul(torch.ones(dx.size(0)), dx)"
   ],
   "metadata": {
    "collapsed": false
   }
  },
  {
   "cell_type": "markdown",
   "metadata": {
    "id": "j3w1hT9MS_Lt"
   },
   "source": [
    "4.3.2 Создайте слой с одним нейроном. Используя класс MSELoss из 2.4.2, убедитесь, что модель обучается"
   ]
  },
  {
   "cell_type": "code",
   "execution_count": 681,
   "outputs": [
    {
     "name": "stdout",
     "output_type": "stream",
     "text": [
      "epoch 000 |--------------------------------------------------\n",
      "\tweights = tensor([[ 8.6293],\n",
      "        [ 9.3343],\n",
      "        [10.9663],\n",
      "        [17.8038]])\n",
      "\tbiases = tensor([-1.3156])\n",
      "\tloss = 14444.6875\n",
      "\n",
      "epoch 020 |--------------------------------------------------\n",
      "\tweights = tensor([[21.2786],\n",
      "        [35.1800],\n",
      "        [65.5825],\n",
      "        [86.8190]])\n",
      "\tbiases = tensor([0.2985])\n",
      "\tloss = 6.3272294998168945\n",
      "\n",
      "epoch 040 |--------------------------------------------------\n",
      "\tweights = tensor([[20.5444],\n",
      "        [34.2572],\n",
      "        [67.4866],\n",
      "        [87.8947]])\n",
      "\tbiases = tensor([0.4777])\n",
      "\tloss = 0.024939415976405144\n",
      "\n",
      "epoch 060 |--------------------------------------------------\n",
      "\tweights = tensor([[20.4959],\n",
      "        [34.1759],\n",
      "        [67.6144],\n",
      "        [87.9224]])\n",
      "\tbiases = tensor([0.4979])\n",
      "\tloss = 0.00012233904271852225\n",
      "\n",
      "epoch 080 |--------------------------------------------------\n",
      "\tweights = tensor([[20.4926],\n",
      "        [34.1702],\n",
      "        [67.6235],\n",
      "        [87.9234]])\n",
      "\tbiases = tensor([0.4998])\n",
      "\tloss = 6.166524144646246e-07\n",
      "\n",
      "epoch 100 |--------------------------------------------------\n",
      "\tweights = tensor([[20.4924],\n",
      "        [34.1698],\n",
      "        [67.6242],\n",
      "        [87.9235]])\n",
      "\tbiases = tensor([0.5000])\n",
      "\tloss = 3.274019499954761e-09\n",
      "\n"
     ]
    },
    {
     "data": {
      "text/plain": "(tensor([[20.4924],\n         [34.1698],\n         [67.6242],\n         [87.9235]]),\n array([20.4923687 , 34.16981149, 67.62424823, 87.9234763 ]))"
     },
     "execution_count": 681,
     "metadata": {},
     "output_type": "execute_result"
    }
   ],
   "source": [
    "torch.manual_seed(0)\n",
    "\n",
    "y_true = y.unsqueeze(1)\n",
    "grad = Gradient()\n",
    "layer = Linear(in_features=X.size(1), out_features=1, grad=grad)\n",
    "mse = MSELoss(grad=grad)\n",
    "\n",
    "lr = 0.1\n",
    "epochs = 100\n",
    "for epoch in range(epochs + 1):\n",
    "    y_pred = layer.forward(X)\n",
    "    loss = mse.forward(y_pred, y_true)\n",
    "\n",
    "    mse.backward(y_pred, y_true)\n",
    "    layer.backward()\n",
    "\n",
    "    layer.weights -= lr * grad.dw\n",
    "    layer.biases -= lr * grad.db\n",
    "\n",
    "    if epoch % 20 == 0:\n",
    "        pretty_train_log(epoch, weights=layer.weights, biases=layer.biases, loss=loss)\n",
    "\n",
    "neuron.weights, coef"
   ],
   "metadata": {
    "collapsed": false
   }
  },
  {
   "cell_type": "markdown",
   "source": [
    "**Проверка**\n",
    "\n",
    "А pytorch точно правильно работает?"
   ],
   "metadata": {
    "collapsed": false
   }
  },
  {
   "cell_type": "code",
   "execution_count": 682,
   "outputs": [
    {
     "name": "stdout",
     "output_type": "stream",
     "text": [
      "epoch 000 |--------------------------------------------------\n",
      "\tweight = tensor([[ 8.6293,  9.3343, 10.9663, 17.8038]])\n",
      "\tbias = tensor([-1.3156])\n",
      "\tloss = 14444.6875\n",
      "\n",
      "epoch 020 |--------------------------------------------------\n",
      "\tweight = tensor([[21.2786, 35.1800, 65.5825, 86.8190]])\n",
      "\tbias = tensor([0.2985])\n",
      "\tloss = 6.3272294998168945\n",
      "\n",
      "epoch 040 |--------------------------------------------------\n",
      "\tweight = tensor([[20.5444, 34.2572, 67.4866, 87.8947]])\n",
      "\tbias = tensor([0.4777])\n",
      "\tloss = 0.024939415976405144\n",
      "\n",
      "epoch 060 |--------------------------------------------------\n",
      "\tweight = tensor([[20.4959, 34.1759, 67.6144, 87.9224]])\n",
      "\tbias = tensor([0.4979])\n",
      "\tloss = 0.00012233904271852225\n",
      "\n",
      "epoch 080 |--------------------------------------------------\n",
      "\tweight = tensor([[20.4926, 34.1702, 67.6235, 87.9234]])\n",
      "\tbias = tensor([0.4998])\n",
      "\tloss = 6.166524144646246e-07\n",
      "\n",
      "epoch 100 |--------------------------------------------------\n",
      "\tweight = tensor([[20.4924, 34.1698, 67.6242, 87.9235]])\n",
      "\tbias = tensor([0.5000])\n",
      "\tloss = 3.274019499954761e-09\n",
      "\n"
     ]
    },
    {
     "data": {
      "text/plain": "(tensor([[20.4924],\n         [34.1698],\n         [67.6242],\n         [87.9235]]),\n array([20.4923687 , 34.16981149, 67.62424823, 87.9234763 ]))"
     },
     "execution_count": 682,
     "metadata": {},
     "output_type": "execute_result"
    }
   ],
   "source": [
    "torch.manual_seed(0)\n",
    "\n",
    "weights = torch.randn(1, 4)\n",
    "bias = torch.randn(1)\n",
    "\n",
    "y_true = y.unsqueeze(1)\n",
    "\n",
    "layer = nn.Linear(X.size(1), 1)\n",
    "layer.weight = nn.Parameter(weights, requires_grad=True)\n",
    "layer.bias = nn.Parameter(bias, requires_grad=True)\n",
    "mse = nn.MSELoss()\n",
    "\n",
    "lr = 0.1\n",
    "optimizer = torch.optim.SGD([layer.weight, layer.bias], lr=lr)\n",
    "epochs = 100\n",
    "\n",
    "for epoch in range(epochs + 1):\n",
    "    y_pred = layer.forward(X)\n",
    "    loss = mse.forward(y_pred, y_true)\n",
    "\n",
    "    loss.backward()\n",
    "    optimizer.step()\n",
    "\n",
    "    if epoch % 20 == 0:\n",
    "        pretty_train_log(epoch, weight=layer.weight.data, bias=layer.bias.data, loss=loss)\n",
    "\n",
    "    optimizer.zero_grad()\n",
    "\n",
    "neuron.weights, coef"
   ],
   "metadata": {
    "collapsed": false
   }
  },
  {
   "cell_type": "markdown",
   "metadata": {
    "id": "RTkJV-F8TVuN"
   },
   "source": [
    "4.4 Используя наработки из 2.4, создайте нейросеть и решите задачу регрессии.\n",
    "\n",
    "Предлагаемая архитектура: \n",
    "1. Полносвязный слой с 10 нейронами\n",
    "2. Активация ReLU\n",
    "3. Полносвязный слой с 1 нейроном"
   ]
  },
  {
   "cell_type": "code",
   "execution_count": 683,
   "metadata": {
    "id": "axUjpPz-SvS1"
   },
   "outputs": [
    {
     "data": {
      "text/plain": "(torch.Size([100, 1]), torch.Size([100, 1]))"
     },
     "execution_count": 683,
     "metadata": {},
     "output_type": "execute_result"
    }
   ],
   "source": [
    "torch.manual_seed(0)\n",
    "\n",
    "X = torch.linspace(-1, 1, 100).view(-1, 1)\n",
    "y = X.pow(2) + 0.2 * torch.rand(X.size())\n",
    "\n",
    "X.size(), y.size()"
   ]
  },
  {
   "cell_type": "code",
   "execution_count": 684,
   "outputs": [],
   "source": [
    "class ReLU:\n",
    "\n",
    "    def __init__(self, grad: Gradient):\n",
    "        self.grad = grad\n",
    "        self._inputs: EmptyTensor = None\n",
    "\n",
    "    def forward(self, inputs: torch.Tensor) -> torch.Tensor:\n",
    "        self._inputs = inputs\n",
    "        return inputs.clip(min=0)\n",
    "\n",
    "    def backward(self) -> None:\n",
    "        self.grad.dx[self._inputs <= 0] = 0"
   ],
   "metadata": {
    "collapsed": false
   }
  },
  {
   "cell_type": "code",
   "execution_count": 685,
   "outputs": [
    {
     "name": "stdout",
     "output_type": "stream",
     "text": [
      "epoch 000 |--------------------------------------------------\n",
      "\tloss = 3.8516311645507812\n",
      "\n",
      "epoch 400 |--------------------------------------------------\n",
      "\tloss = 0.005183662287890911\n",
      "\n",
      "epoch 800 |--------------------------------------------------\n",
      "\tloss = 0.004125623498111963\n",
      "\n",
      "epoch 1200 |--------------------------------------------------\n",
      "\tloss = 0.003962446004152298\n",
      "\n",
      "epoch 1600 |--------------------------------------------------\n",
      "\tloss = 0.003925209864974022\n",
      "\n",
      "epoch 2000 |--------------------------------------------------\n",
      "\tloss = 0.0039071436040103436\n",
      "\n"
     ]
    }
   ],
   "source": [
    "torch.manual_seed(0)\n",
    "\n",
    "grad = Gradient()\n",
    "fc1 = Linear(X.size(1), 10, grad=grad)\n",
    "relu1 = ReLU(grad=grad)\n",
    "fc2 = Linear(10, 1, grad=grad)\n",
    "mse = MSELoss(grad=grad)\n",
    "\n",
    "predicts = []\n",
    "\n",
    "lr = 0.02\n",
    "epochs = 2000\n",
    "for epoch in range(epochs + 1):\n",
    "    # feed forward\n",
    "    fc1_x = fc1.forward(X)\n",
    "    relu1_x = relu1.forward(fc1_x)\n",
    "    y_pred = fc2.forward(relu1_x)\n",
    "    loss = mse.forward(y_pred, y)\n",
    "\n",
    "    # backward\n",
    "    mse.backward(y_pred, y)\n",
    "    fc2.backward()\n",
    "    dw2, db2 = grad.dw, grad.db\n",
    "\n",
    "    relu1.backward()\n",
    "    fc1.backward()\n",
    "    dw1, db1 = grad.dw, grad.db\n",
    "\n",
    "    # optimize step\n",
    "    fc1.weights -= lr * dw1\n",
    "    fc1.biases -= lr * db1\n",
    "    fc2.weights -= lr * dw2\n",
    "    fc2.biases -= lr * db2\n",
    "\n",
    "    if epoch % 400 == 0:\n",
    "        pretty_train_log(epoch, loss=loss)\n",
    "        predicts.append(y_pred)"
   ],
   "metadata": {
    "collapsed": false
   }
  },
  {
   "cell_type": "code",
   "execution_count": 686,
   "outputs": [
    {
     "data": {
      "text/plain": "<Figure size 900x1500 with 3 Axes>",
      "image/png": "[encoded data removed]"
     },
     "metadata": {},
     "output_type": "display_data"
    }
   ],
   "source": [
    "predicts = predicts[::2]\n",
    "\n",
    "fig, axs = plt.subplots(len(predicts), 1, figsize=(9, 15))\n",
    "for ax, y_pred in zip(axs, predicts):\n",
    "    ax.scatter(X.numpy(), y.numpy(), color=\"orange\")\n",
    "    ax.plot(X.numpy(), y_pred.detach().numpy(), 'g-', lw=3)\n",
    "    ax.set_xlim(-1.05, 1.5)\n",
    "    ax.set_ylim(-0.25, 1.25)"
   ],
   "metadata": {
    "collapsed": false
   }
  },
  {
   "cell_type": "markdown",
   "source": [
    "**Проверка**\n",
    "\n",
    "Сделаем то же самое средствами pytorch"
   ],
   "metadata": {
    "collapsed": false
   }
  },
  {
   "cell_type": "code",
   "execution_count": 687,
   "outputs": [],
   "source": [
    "class NeuralNet:\n",
    "\n",
    "    def __init__(self, in_features: int, out_features: int):\n",
    "        self.in_features = in_features\n",
    "        self.out_features = out_features\n",
    "\n",
    "        self.fc1 = nn.Linear(in_features, 10)\n",
    "        self.relu1 = nn.ReLU()\n",
    "        self.fc2 = nn.Linear(10, out_features)\n",
    "\n",
    "    def parameters(self) -> list[nn.Parameter]:\n",
    "        return [*self.fc1.parameters(), *self.fc2.parameters()]\n",
    "\n",
    "    def forward(self, inputs: torch.Tensor) -> torch.Tensor:\n",
    "        return self.fc2.forward(self.relu1.forward(self.fc1.forward(inputs)))"
   ],
   "metadata": {
    "collapsed": false
   }
  },
  {
   "cell_type": "code",
   "execution_count": 688,
   "outputs": [
    {
     "name": "stdout",
     "output_type": "stream",
     "text": [
      "epoch 000 |--------------------------------------------------\n",
      "\tloss = 0.47132760286331177\n",
      "\n",
      "epoch 400 |--------------------------------------------------\n",
      "\tloss = 0.042419206351041794\n",
      "\n",
      "epoch 800 |--------------------------------------------------\n",
      "\tloss = 0.012609979137778282\n",
      "\n",
      "epoch 1200 |--------------------------------------------------\n",
      "\tloss = 0.006811199709773064\n",
      "\n",
      "epoch 1600 |--------------------------------------------------\n",
      "\tloss = 0.005534584634006023\n",
      "\n",
      "epoch 2000 |--------------------------------------------------\n",
      "\tloss = 0.00490344874560833\n",
      "\n"
     ]
    }
   ],
   "source": [
    "torch.manual_seed(0)\n",
    "\n",
    "model = NeuralNet(X.size(1), 1)\n",
    "mse = nn.MSELoss()\n",
    "optimizer = torch.optim.SGD(model.parameters(), lr=0.02)\n",
    "\n",
    "predicts = []\n",
    "\n",
    "epochs = 2000\n",
    "for epoch in range(epochs + 1):\n",
    "    y_pred = model.forward(X)\n",
    "    loss = mse.forward(y_pred, y)\n",
    "\n",
    "    loss.backward()\n",
    "    optimizer.step()\n",
    "\n",
    "    if epoch % 400 == 0:\n",
    "        pretty_train_log(epoch, loss=loss)\n",
    "        predicts.append(y_pred)\n",
    "\n",
    "    optimizer.zero_grad()"
   ],
   "metadata": {
    "collapsed": false
   }
  },
  {
   "cell_type": "code",
   "execution_count": 689,
   "metadata": {
    "id": "kpKi0OfoUkwk"
   },
   "outputs": [
    {
     "data": {
      "text/plain": "<Figure size 900x1500 with 3 Axes>",
      "image/png": "[encoded data removed]"
     },
     "metadata": {},
     "output_type": "display_data"
    }
   ],
   "source": [
    "predicts = predicts[::2]\n",
    "\n",
    "fig, axs = plt.subplots(len(predicts), 1, figsize=(9, 15))\n",
    "for ax, y_pred in zip(axs, predicts):\n",
    "    ax.scatter(X.numpy(), y.numpy(), color=\"orange\")\n",
    "    ax.plot(X.numpy(), y_pred.detach().numpy(), 'g-', lw=3)\n",
    "    ax.set_xlim(-1.05, 1.5)\n",
    "    ax.set_ylim(-0.25, 1.25)"
   ]
  }
 ],
 "metadata": {
  "colab": {
   "authorship_tag": "ABX9TyPDgJRHjuyArfKO8ZT68MsS",
   "name": "02_NN_blocks_backprop_v1.ipynb",
   "provenance": []
  },
  "kernelspec": {
   "display_name": "Python 3 (ipykernel)",
   "language": "python",
   "name": "python3"
  },
  "language_info": {
   "codemirror_mode": {
    "name": "ipython",
    "version": 3
   },
   "file_extension": ".py",
   "mimetype": "text/x-python",
   "name": "python",
   "nbconvert_exporter": "python",
   "pygments_lexer": "ipython3",
   "version": "3.9.7"
  }
 },
 "nbformat": 4,
 "nbformat_minor": 1
}
